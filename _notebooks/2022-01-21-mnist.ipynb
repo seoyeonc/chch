{
 "cells": [
  {
   "cell_type": "markdown",
   "id": "f6db4edb-4e98-42e6-a313-6101e7359305",
   "metadata": {
    "id": "d44ba9bc-ebf3-49d8-b2db-9d49bf1bec22",
    "tags": []
   },
   "source": [
    "# fastbook 04_mnist_basics\n",
    "> not done\n",
    "\n",
    "- toc:false\n",
    "- branch: master\n",
    "- badges: false\n",
    "- comments: false \n",
    "- author: 최서연\n",
    "- categories: [MNIST]"
   ]
  },
  {
   "cell_type": "markdown",
   "id": "83c01336-7362-4565-a838-344c7adc1688",
   "metadata": {},
   "source": [
    "ref: https://github.com/fastai/fastbook"
   ]
  },
  {
   "cell_type": "code",
   "execution_count": 2,
   "id": "1f92fdd0-9342-44a0-be85-60bdd9912c1f",
   "metadata": {},
   "outputs": [],
   "source": [
    "from fastai.vision.all import *\n",
    "matplotlib.rc('image', cmap='Greys')"
   ]
  },
  {
   "cell_type": "markdown",
   "id": "c9a13c83-a7a8-4ff3-9d1c-48e6b83c4d20",
   "metadata": {},
   "source": [
    "## Introduction"
   ]
  },
  {
   "cell_type": "markdown",
   "id": "e6c36e6d-8d2a-42c0-9857-3464ff5cfd08",
   "metadata": {
    "tags": []
   },
   "source": [
    "- We'll explain stochastic gradient descent (SGD), the mechanism for learning by updating weights automatically.\n",
    "- We'll discuss the choice of a loss function for our basic classification task, and the role of mini-batches.\n",
    "- We'll also describe the math that a basic neural network is actually doing.\n",
    "- Finally, we'll put all these pieces together."
   ]
  },
  {
   "cell_type": "markdown",
   "id": "8e7caef6-b7ca-49b7-9866-436ca82b6c4d",
   "metadata": {},
   "source": [
    "## End sidebar"
   ]
  },
  {
   "cell_type": "code",
   "execution_count": 3,
   "id": "5ef4f47e-a569-41a1-87a3-07f758d7d9e3",
   "metadata": {},
   "outputs": [],
   "source": [
    "path = untar_data(URLs.MNIST_SAMPLE)"
   ]
  },
  {
   "cell_type": "code",
   "execution_count": 6,
   "id": "3f0788fe-8eca-4dbf-9d93-01423ee1787f",
   "metadata": {},
   "outputs": [],
   "source": [
    "Path.BASE_PATH = path"
   ]
  },
  {
   "cell_type": "code",
   "execution_count": 7,
   "id": "4a7d2fbb-0a47-4718-8b41-c6c38fc8ae5a",
   "metadata": {},
   "outputs": [
    {
     "data": {
      "text/plain": [
       "(#3) [Path('train'),Path('labels.csv'),Path('valid')]"
      ]
     },
     "execution_count": 7,
     "metadata": {},
     "output_type": "execute_result"
    }
   ],
   "source": [
    "path.ls()"
   ]
  },
  {
   "cell_type": "code",
   "execution_count": 9,
   "id": "f1bc605e-afaf-47b1-b99d-6a6ec7c8cce4",
   "metadata": {},
   "outputs": [
    {
     "data": {
      "text/plain": [
       "(#2) [Path('train/7'),Path('train/3')]"
      ]
     },
     "execution_count": 9,
     "metadata": {},
     "output_type": "execute_result"
    }
   ],
   "source": [
    "(path/'train').ls()"
   ]
  },
  {
   "cell_type": "markdown",
   "id": "cc6408d1-d43a-431c-891b-fdaaab82a5af",
   "metadata": {},
   "source": [
    "Let's take a look in one of these folders (using sorted to ensure we all get the same order of file"
   ]
  },
  {
   "cell_type": "code",
   "execution_count": 12,
   "id": "cd17780c-8bee-4880-bb8e-689805aee596",
   "metadata": {},
   "outputs": [],
   "source": [
    "threes = (path/'train'/'3').ls().sorted()\n",
    "sevens = (path/'train'/'7').ls().sorted()"
   ]
  },
  {
   "cell_type": "markdown",
   "id": "d5fb3378-cc16-4285-963b-6168299cd1ea",
   "metadata": {},
   "source": [
    "Let’s take a look at one now. Here’s an image of a handwritten number 3, taken from the famous MNIST dataset of handwritten numbers:"
   ]
  },
  {
   "cell_type": "code",
   "execution_count": 13,
   "id": "61fb14be-26f8-4946-aac5-f1e376034786",
   "metadata": {},
   "outputs": [
    {
     "data": {
      "image/png": "[encoded data removed]",
      "text/plain": [
       "<PIL.PngImagePlugin.PngImageFile image mode=L size=28x28 at 0x7F17D2063A60>"
      ]
     },
     "execution_count": 13,
     "metadata": {},
     "output_type": "execute_result"
    }
   ],
   "source": [
    "im3_path=threes[1]\n",
    "im3=Image.open(im3_path)\n",
    "im3"
   ]
  },
  {
   "cell_type": "markdown",
   "id": "1e872061-a3b8-4806-a2f0-d6ee85a5b5aa",
   "metadata": {},
   "source": [
    "Here we are using the *Image* class from the *Python Imaging Library (PIL)*, which is the most widely used Python package for opening, manipulating, and viewing images."
   ]
  },
  {
   "cell_type": "code",
   "execution_count": 16,
   "id": "287fa259-7ccc-421a-9cb2-7e276a0d3e5f",
   "metadata": {},
   "outputs": [
    {
     "data": {
      "text/plain": [
       "array([[  0,   0,   0,   0,   0,   0],\n",
       "       [  0,   0,   0,   0,   0,  29],\n",
       "       [  0,   0,   0,  48, 166, 224],\n",
       "       [  0,  93, 244, 249, 253, 187],\n",
       "       [  0, 107, 253, 253, 230,  48],\n",
       "       [  0,   3,  20,  20,  15,   0]], dtype=uint8)"
      ]
     },
     "execution_count": 16,
     "metadata": {},
     "output_type": "execute_result"
    }
   ],
   "source": [
    "array(im3)[4:10,4:10]"
   ]
  },
  {
   "cell_type": "markdown",
   "id": "86639677-ef29-47ce-b24c-87495ea3bdf2",
   "metadata": {},
   "source": [
    "NumPy indexes from top to bottom and left to right, so this section is located in the top-left corner of the image.\n",
    "\n",
    "Here's the same thing as a PyTorch tensor:"
   ]
  },
  {
   "cell_type": "code",
   "execution_count": 18,
   "id": "6ae46108-8926-46d1-af21-7f2933848050",
   "metadata": {},
   "outputs": [
    {
     "data": {
      "text/plain": [
       "tensor([[  0,   0,   0,   0,   0,   0],\n",
       "        [  0,   0,   0,   0,   0,  29],\n",
       "        [  0,   0,   0,  48, 166, 224],\n",
       "        [  0,  93, 244, 249, 253, 187],\n",
       "        [  0, 107, 253, 253, 230,  48],\n",
       "        [  0,   3,  20,  20,  15,   0]], dtype=torch.uint8)"
      ]
     },
     "execution_count": 18,
     "metadata": {},
     "output_type": "execute_result"
    }
   ],
   "source": [
    "tensor(im3)[4:10,4:10]"
   ]
  },
  {
   "cell_type": "code",
   "execution_count": 20,
   "id": "ac5159b9-6f2c-429e-836d-cae9edfe28f6",
   "metadata": {},
   "outputs": [
    {
     "data": {
      "text/html": [
       "<style type=\"text/css\">\n",
       "#T_e5c64_row0_col0, #T_e5c64_row0_col1, #T_e5c64_row0_col2, #T_e5c64_row0_col3, #T_e5c64_row0_col4, #T_e5c64_row0_col5, #T_e5c64_row0_col6, #T_e5c64_row0_col7, #T_e5c64_row0_col8, #T_e5c64_row0_col9, #T_e5c64_row0_col10, #T_e5c64_row0_col11, #T_e5c64_row0_col12, #T_e5c64_row0_col13, #T_e5c64_row0_col14, #T_e5c64_row0_col15, #T_e5c64_row0_col16, #T_e5c64_row0_col17, #T_e5c64_row1_col0, #T_e5c64_row1_col1, #T_e5c64_row1_col2, #T_e5c64_row1_col3, #T_e5c64_row1_col4, #T_e5c64_row1_col15, #T_e5c64_row1_col16, #T_e5c64_row1_col17, #T_e5c64_row2_col0, #T_e5c64_row2_col1, #T_e5c64_row2_col2, #T_e5c64_row2_col15, #T_e5c64_row2_col16, #T_e5c64_row2_col17, #T_e5c64_row3_col0, #T_e5c64_row3_col15, #T_e5c64_row3_col16, #T_e5c64_row3_col17, #T_e5c64_row4_col0, #T_e5c64_row4_col6, #T_e5c64_row4_col7, #T_e5c64_row4_col8, #T_e5c64_row4_col9, #T_e5c64_row4_col10, #T_e5c64_row4_col15, #T_e5c64_row4_col16, #T_e5c64_row4_col17, #T_e5c64_row5_col0, #T_e5c64_row5_col5, #T_e5c64_row5_col6, #T_e5c64_row5_col7, #T_e5c64_row5_col8, #T_e5c64_row5_col9, #T_e5c64_row5_col15, #T_e5c64_row5_col16, #T_e5c64_row5_col17, #T_e5c64_row6_col0, #T_e5c64_row6_col1, #T_e5c64_row6_col2, #T_e5c64_row6_col3, #T_e5c64_row6_col4, #T_e5c64_row6_col5, #T_e5c64_row6_col6, #T_e5c64_row6_col7, #T_e5c64_row6_col8, #T_e5c64_row6_col9, #T_e5c64_row6_col14, #T_e5c64_row6_col15, #T_e5c64_row6_col16, #T_e5c64_row6_col17, #T_e5c64_row7_col0, #T_e5c64_row7_col1, #T_e5c64_row7_col2, #T_e5c64_row7_col3, #T_e5c64_row7_col4, #T_e5c64_row7_col5, #T_e5c64_row7_col6, #T_e5c64_row7_col13, #T_e5c64_row7_col14, #T_e5c64_row7_col15, #T_e5c64_row7_col16, #T_e5c64_row7_col17, #T_e5c64_row8_col0, #T_e5c64_row8_col1, #T_e5c64_row8_col2, #T_e5c64_row8_col3, #T_e5c64_row8_col4, #T_e5c64_row8_col13, #T_e5c64_row8_col14, #T_e5c64_row8_col15, #T_e5c64_row8_col16, #T_e5c64_row8_col17, #T_e5c64_row9_col0, #T_e5c64_row9_col1, #T_e5c64_row9_col2, #T_e5c64_row9_col3, #T_e5c64_row9_col4, #T_e5c64_row9_col16, #T_e5c64_row9_col17, #T_e5c64_row10_col0, #T_e5c64_row10_col1, #T_e5c64_row10_col2, #T_e5c64_row10_col3, #T_e5c64_row10_col4, #T_e5c64_row10_col5, #T_e5c64_row10_col6, #T_e5c64_row10_col17 {\n",
       "  font-size: 6pt;\n",
       "  background-color: #ffffff;\n",
       "  color: #000000;\n",
       "}\n",
       "#T_e5c64_row1_col5 {\n",
       "  font-size: 6pt;\n",
       "  background-color: #efefef;\n",
       "  color: #000000;\n",
       "}\n",
       "#T_e5c64_row1_col6, #T_e5c64_row1_col13 {\n",
       "  font-size: 6pt;\n",
       "  background-color: #7c7c7c;\n",
       "  color: #f1f1f1;\n",
       "}\n",
       "#T_e5c64_row1_col7 {\n",
       "  font-size: 6pt;\n",
       "  background-color: #4a4a4a;\n",
       "  color: #f1f1f1;\n",
       "}\n",
       "#T_e5c64_row1_col8, #T_e5c64_row1_col9, #T_e5c64_row1_col10, #T_e5c64_row2_col5, #T_e5c64_row2_col6, #T_e5c64_row2_col7, #T_e5c64_row2_col11, #T_e5c64_row2_col12, #T_e5c64_row2_col13, #T_e5c64_row3_col4, #T_e5c64_row3_col12, #T_e5c64_row3_col13, #T_e5c64_row4_col1, #T_e5c64_row4_col2, #T_e5c64_row4_col3, #T_e5c64_row4_col12, #T_e5c64_row4_col13, #T_e5c64_row5_col12, #T_e5c64_row6_col11, #T_e5c64_row9_col11, #T_e5c64_row10_col11, #T_e5c64_row10_col12, #T_e5c64_row10_col13, #T_e5c64_row10_col14, #T_e5c64_row10_col15, #T_e5c64_row10_col16 {\n",
       "  font-size: 6pt;\n",
       "  background-color: #000000;\n",
       "  color: #f1f1f1;\n",
       "}\n",
       "#T_e5c64_row1_col11 {\n",
       "  font-size: 6pt;\n",
       "  background-color: #606060;\n",
       "  color: #f1f1f1;\n",
       "}\n",
       "#T_e5c64_row1_col12 {\n",
       "  font-size: 6pt;\n",
       "  background-color: #4d4d4d;\n",
       "  color: #f1f1f1;\n",
       "}\n",
       "#T_e5c64_row1_col14 {\n",
       "  font-size: 6pt;\n",
       "  background-color: #bbbbbb;\n",
       "  color: #000000;\n",
       "}\n",
       "#T_e5c64_row2_col3 {\n",
       "  font-size: 6pt;\n",
       "  background-color: #e4e4e4;\n",
       "  color: #000000;\n",
       "}\n",
       "#T_e5c64_row2_col4, #T_e5c64_row8_col6 {\n",
       "  font-size: 6pt;\n",
       "  background-color: #6b6b6b;\n",
       "  color: #f1f1f1;\n",
       "}\n",
       "#T_e5c64_row2_col8, #T_e5c64_row2_col14, #T_e5c64_row3_col14 {\n",
       "  font-size: 6pt;\n",
       "  background-color: #171717;\n",
       "  color: #f1f1f1;\n",
       "}\n",
       "#T_e5c64_row2_col9, #T_e5c64_row3_col11 {\n",
       "  font-size: 6pt;\n",
       "  background-color: #4b4b4b;\n",
       "  color: #f1f1f1;\n",
       "}\n",
       "#T_e5c64_row2_col10, #T_e5c64_row7_col10, #T_e5c64_row8_col8, #T_e5c64_row8_col10, #T_e5c64_row9_col8, #T_e5c64_row9_col10 {\n",
       "  font-size: 6pt;\n",
       "  background-color: #010101;\n",
       "  color: #f1f1f1;\n",
       "}\n",
       "#T_e5c64_row3_col1 {\n",
       "  font-size: 6pt;\n",
       "  background-color: #272727;\n",
       "  color: #f1f1f1;\n",
       "}\n",
       "#T_e5c64_row3_col2 {\n",
       "  font-size: 6pt;\n",
       "  background-color: #0a0a0a;\n",
       "  color: #f1f1f1;\n",
       "}\n",
       "#T_e5c64_row3_col3 {\n",
       "  font-size: 6pt;\n",
       "  background-color: #050505;\n",
       "  color: #f1f1f1;\n",
       "}\n",
       "#T_e5c64_row3_col5 {\n",
       "  font-size: 6pt;\n",
       "  background-color: #333333;\n",
       "  color: #f1f1f1;\n",
       "}\n",
       "#T_e5c64_row3_col6 {\n",
       "  font-size: 6pt;\n",
       "  background-color: #e6e6e6;\n",
       "  color: #000000;\n",
       "}\n",
       "#T_e5c64_row3_col7, #T_e5c64_row3_col10 {\n",
       "  font-size: 6pt;\n",
       "  background-color: #fafafa;\n",
       "  color: #000000;\n",
       "}\n",
       "#T_e5c64_row3_col8 {\n",
       "  font-size: 6pt;\n",
       "  background-color: #fbfbfb;\n",
       "  color: #000000;\n",
       "}\n",
       "#T_e5c64_row3_col9 {\n",
       "  font-size: 6pt;\n",
       "  background-color: #fdfdfd;\n",
       "  color: #000000;\n",
       "}\n",
       "#T_e5c64_row4_col4 {\n",
       "  font-size: 6pt;\n",
       "  background-color: #1b1b1b;\n",
       "  color: #f1f1f1;\n",
       "}\n",
       "#T_e5c64_row4_col5 {\n",
       "  font-size: 6pt;\n",
       "  background-color: #e0e0e0;\n",
       "  color: #000000;\n",
       "}\n",
       "#T_e5c64_row4_col11 {\n",
       "  font-size: 6pt;\n",
       "  background-color: #4e4e4e;\n",
       "  color: #f1f1f1;\n",
       "}\n",
       "#T_e5c64_row4_col14 {\n",
       "  font-size: 6pt;\n",
       "  background-color: #767676;\n",
       "  color: #f1f1f1;\n",
       "}\n",
       "#T_e5c64_row5_col1 {\n",
       "  font-size: 6pt;\n",
       "  background-color: #fcfcfc;\n",
       "  color: #000000;\n",
       "}\n",
       "#T_e5c64_row5_col2, #T_e5c64_row5_col3 {\n",
       "  font-size: 6pt;\n",
       "  background-color: #f6f6f6;\n",
       "  color: #000000;\n",
       "}\n",
       "#T_e5c64_row5_col4, #T_e5c64_row7_col7 {\n",
       "  font-size: 6pt;\n",
       "  background-color: #f8f8f8;\n",
       "  color: #000000;\n",
       "}\n",
       "#T_e5c64_row5_col10, #T_e5c64_row10_col7 {\n",
       "  font-size: 6pt;\n",
       "  background-color: #e8e8e8;\n",
       "  color: #000000;\n",
       "}\n",
       "#T_e5c64_row5_col11 {\n",
       "  font-size: 6pt;\n",
       "  background-color: #222222;\n",
       "  color: #f1f1f1;\n",
       "}\n",
       "#T_e5c64_row5_col13, #T_e5c64_row6_col12 {\n",
       "  font-size: 6pt;\n",
       "  background-color: #090909;\n",
       "  color: #f1f1f1;\n",
       "}\n",
       "#T_e5c64_row5_col14 {\n",
       "  font-size: 6pt;\n",
       "  background-color: #d0d0d0;\n",
       "  color: #000000;\n",
       "}\n",
       "#T_e5c64_row6_col10, #T_e5c64_row7_col11, #T_e5c64_row9_col6 {\n",
       "  font-size: 6pt;\n",
       "  background-color: #060606;\n",
       "  color: #f1f1f1;\n",
       "}\n",
       "#T_e5c64_row6_col13 {\n",
       "  font-size: 6pt;\n",
       "  background-color: #979797;\n",
       "  color: #f1f1f1;\n",
       "}\n",
       "#T_e5c64_row7_col8 {\n",
       "  font-size: 6pt;\n",
       "  background-color: #b6b6b6;\n",
       "  color: #000000;\n",
       "}\n",
       "#T_e5c64_row7_col9 {\n",
       "  font-size: 6pt;\n",
       "  background-color: #252525;\n",
       "  color: #f1f1f1;\n",
       "}\n",
       "#T_e5c64_row7_col12 {\n",
       "  font-size: 6pt;\n",
       "  background-color: #999999;\n",
       "  color: #f1f1f1;\n",
       "}\n",
       "#T_e5c64_row8_col5 {\n",
       "  font-size: 6pt;\n",
       "  background-color: #f9f9f9;\n",
       "  color: #000000;\n",
       "}\n",
       "#T_e5c64_row8_col7 {\n",
       "  font-size: 6pt;\n",
       "  background-color: #101010;\n",
       "  color: #f1f1f1;\n",
       "}\n",
       "#T_e5c64_row8_col9, #T_e5c64_row9_col9 {\n",
       "  font-size: 6pt;\n",
       "  background-color: #020202;\n",
       "  color: #f1f1f1;\n",
       "}\n",
       "#T_e5c64_row8_col11 {\n",
       "  font-size: 6pt;\n",
       "  background-color: #545454;\n",
       "  color: #f1f1f1;\n",
       "}\n",
       "#T_e5c64_row8_col12 {\n",
       "  font-size: 6pt;\n",
       "  background-color: #f1f1f1;\n",
       "  color: #000000;\n",
       "}\n",
       "#T_e5c64_row9_col5 {\n",
       "  font-size: 6pt;\n",
       "  background-color: #f7f7f7;\n",
       "  color: #000000;\n",
       "}\n",
       "#T_e5c64_row9_col7 {\n",
       "  font-size: 6pt;\n",
       "  background-color: #030303;\n",
       "  color: #f1f1f1;\n",
       "}\n",
       "#T_e5c64_row9_col12 {\n",
       "  font-size: 6pt;\n",
       "  background-color: #181818;\n",
       "  color: #f1f1f1;\n",
       "}\n",
       "#T_e5c64_row9_col13 {\n",
       "  font-size: 6pt;\n",
       "  background-color: #303030;\n",
       "  color: #f1f1f1;\n",
       "}\n",
       "#T_e5c64_row9_col14 {\n",
       "  font-size: 6pt;\n",
       "  background-color: #a9a9a9;\n",
       "  color: #f1f1f1;\n",
       "}\n",
       "#T_e5c64_row9_col15 {\n",
       "  font-size: 6pt;\n",
       "  background-color: #fefefe;\n",
       "  color: #000000;\n",
       "}\n",
       "#T_e5c64_row10_col8, #T_e5c64_row10_col9 {\n",
       "  font-size: 6pt;\n",
       "  background-color: #bababa;\n",
       "  color: #000000;\n",
       "}\n",
       "#T_e5c64_row10_col10 {\n",
       "  font-size: 6pt;\n",
       "  background-color: #393939;\n",
       "  color: #f1f1f1;\n",
       "}\n",
       "</style>\n",
       "<table id=\"T_e5c64_\">\n",
       "  <thead>\n",
       "    <tr>\n",
       "      <th class=\"blank level0\" >&nbsp;</th>\n",
       "      <th class=\"col_heading level0 col0\" >0</th>\n",
       "      <th class=\"col_heading level0 col1\" >1</th>\n",
       "      <th class=\"col_heading level0 col2\" >2</th>\n",
       "      <th class=\"col_heading level0 col3\" >3</th>\n",
       "      <th class=\"col_heading level0 col4\" >4</th>\n",
       "      <th class=\"col_heading level0 col5\" >5</th>\n",
       "      <th class=\"col_heading level0 col6\" >6</th>\n",
       "      <th class=\"col_heading level0 col7\" >7</th>\n",
       "      <th class=\"col_heading level0 col8\" >8</th>\n",
       "      <th class=\"col_heading level0 col9\" >9</th>\n",
       "      <th class=\"col_heading level0 col10\" >10</th>\n",
       "      <th class=\"col_heading level0 col11\" >11</th>\n",
       "      <th class=\"col_heading level0 col12\" >12</th>\n",
       "      <th class=\"col_heading level0 col13\" >13</th>\n",
       "      <th class=\"col_heading level0 col14\" >14</th>\n",
       "      <th class=\"col_heading level0 col15\" >15</th>\n",
       "      <th class=\"col_heading level0 col16\" >16</th>\n",
       "      <th class=\"col_heading level0 col17\" >17</th>\n",
       "    </tr>\n",
       "  </thead>\n",
       "  <tbody>\n",
       "    <tr>\n",
       "      <th id=\"T_e5c64_level0_row0\" class=\"row_heading level0 row0\" >0</th>\n",
       "      <td id=\"T_e5c64_row0_col0\" class=\"data row0 col0\" >0</td>\n",
       "      <td id=\"T_e5c64_row0_col1\" class=\"data row0 col1\" >0</td>\n",
       "      <td id=\"T_e5c64_row0_col2\" class=\"data row0 col2\" >0</td>\n",
       "      <td id=\"T_e5c64_row0_col3\" class=\"data row0 col3\" >0</td>\n",
       "      <td id=\"T_e5c64_row0_col4\" class=\"data row0 col4\" >0</td>\n",
       "      <td id=\"T_e5c64_row0_col5\" class=\"data row0 col5\" >0</td>\n",
       "      <td id=\"T_e5c64_row0_col6\" class=\"data row0 col6\" >0</td>\n",
       "      <td id=\"T_e5c64_row0_col7\" class=\"data row0 col7\" >0</td>\n",
       "      <td id=\"T_e5c64_row0_col8\" class=\"data row0 col8\" >0</td>\n",
       "      <td id=\"T_e5c64_row0_col9\" class=\"data row0 col9\" >0</td>\n",
       "      <td id=\"T_e5c64_row0_col10\" class=\"data row0 col10\" >0</td>\n",
       "      <td id=\"T_e5c64_row0_col11\" class=\"data row0 col11\" >0</td>\n",
       "      <td id=\"T_e5c64_row0_col12\" class=\"data row0 col12\" >0</td>\n",
       "      <td id=\"T_e5c64_row0_col13\" class=\"data row0 col13\" >0</td>\n",
       "      <td id=\"T_e5c64_row0_col14\" class=\"data row0 col14\" >0</td>\n",
       "      <td id=\"T_e5c64_row0_col15\" class=\"data row0 col15\" >0</td>\n",
       "      <td id=\"T_e5c64_row0_col16\" class=\"data row0 col16\" >0</td>\n",
       "      <td id=\"T_e5c64_row0_col17\" class=\"data row0 col17\" >0</td>\n",
       "    </tr>\n",
       "    <tr>\n",
       "      <th id=\"T_e5c64_level0_row1\" class=\"row_heading level0 row1\" >1</th>\n",
       "      <td id=\"T_e5c64_row1_col0\" class=\"data row1 col0\" >0</td>\n",
       "      <td id=\"T_e5c64_row1_col1\" class=\"data row1 col1\" >0</td>\n",
       "      <td id=\"T_e5c64_row1_col2\" class=\"data row1 col2\" >0</td>\n",
       "      <td id=\"T_e5c64_row1_col3\" class=\"data row1 col3\" >0</td>\n",
       "      <td id=\"T_e5c64_row1_col4\" class=\"data row1 col4\" >0</td>\n",
       "      <td id=\"T_e5c64_row1_col5\" class=\"data row1 col5\" >29</td>\n",
       "      <td id=\"T_e5c64_row1_col6\" class=\"data row1 col6\" >150</td>\n",
       "      <td id=\"T_e5c64_row1_col7\" class=\"data row1 col7\" >195</td>\n",
       "      <td id=\"T_e5c64_row1_col8\" class=\"data row1 col8\" >254</td>\n",
       "      <td id=\"T_e5c64_row1_col9\" class=\"data row1 col9\" >255</td>\n",
       "      <td id=\"T_e5c64_row1_col10\" class=\"data row1 col10\" >254</td>\n",
       "      <td id=\"T_e5c64_row1_col11\" class=\"data row1 col11\" >176</td>\n",
       "      <td id=\"T_e5c64_row1_col12\" class=\"data row1 col12\" >193</td>\n",
       "      <td id=\"T_e5c64_row1_col13\" class=\"data row1 col13\" >150</td>\n",
       "      <td id=\"T_e5c64_row1_col14\" class=\"data row1 col14\" >96</td>\n",
       "      <td id=\"T_e5c64_row1_col15\" class=\"data row1 col15\" >0</td>\n",
       "      <td id=\"T_e5c64_row1_col16\" class=\"data row1 col16\" >0</td>\n",
       "      <td id=\"T_e5c64_row1_col17\" class=\"data row1 col17\" >0</td>\n",
       "    </tr>\n",
       "    <tr>\n",
       "      <th id=\"T_e5c64_level0_row2\" class=\"row_heading level0 row2\" >2</th>\n",
       "      <td id=\"T_e5c64_row2_col0\" class=\"data row2 col0\" >0</td>\n",
       "      <td id=\"T_e5c64_row2_col1\" class=\"data row2 col1\" >0</td>\n",
       "      <td id=\"T_e5c64_row2_col2\" class=\"data row2 col2\" >0</td>\n",
       "      <td id=\"T_e5c64_row2_col3\" class=\"data row2 col3\" >48</td>\n",
       "      <td id=\"T_e5c64_row2_col4\" class=\"data row2 col4\" >166</td>\n",
       "      <td id=\"T_e5c64_row2_col5\" class=\"data row2 col5\" >224</td>\n",
       "      <td id=\"T_e5c64_row2_col6\" class=\"data row2 col6\" >253</td>\n",
       "      <td id=\"T_e5c64_row2_col7\" class=\"data row2 col7\" >253</td>\n",
       "      <td id=\"T_e5c64_row2_col8\" class=\"data row2 col8\" >234</td>\n",
       "      <td id=\"T_e5c64_row2_col9\" class=\"data row2 col9\" >196</td>\n",
       "      <td id=\"T_e5c64_row2_col10\" class=\"data row2 col10\" >253</td>\n",
       "      <td id=\"T_e5c64_row2_col11\" class=\"data row2 col11\" >253</td>\n",
       "      <td id=\"T_e5c64_row2_col12\" class=\"data row2 col12\" >253</td>\n",
       "      <td id=\"T_e5c64_row2_col13\" class=\"data row2 col13\" >253</td>\n",
       "      <td id=\"T_e5c64_row2_col14\" class=\"data row2 col14\" >233</td>\n",
       "      <td id=\"T_e5c64_row2_col15\" class=\"data row2 col15\" >0</td>\n",
       "      <td id=\"T_e5c64_row2_col16\" class=\"data row2 col16\" >0</td>\n",
       "      <td id=\"T_e5c64_row2_col17\" class=\"data row2 col17\" >0</td>\n",
       "    </tr>\n",
       "    <tr>\n",
       "      <th id=\"T_e5c64_level0_row3\" class=\"row_heading level0 row3\" >3</th>\n",
       "      <td id=\"T_e5c64_row3_col0\" class=\"data row3 col0\" >0</td>\n",
       "      <td id=\"T_e5c64_row3_col1\" class=\"data row3 col1\" >93</td>\n",
       "      <td id=\"T_e5c64_row3_col2\" class=\"data row3 col2\" >244</td>\n",
       "      <td id=\"T_e5c64_row3_col3\" class=\"data row3 col3\" >249</td>\n",
       "      <td id=\"T_e5c64_row3_col4\" class=\"data row3 col4\" >253</td>\n",
       "      <td id=\"T_e5c64_row3_col5\" class=\"data row3 col5\" >187</td>\n",
       "      <td id=\"T_e5c64_row3_col6\" class=\"data row3 col6\" >46</td>\n",
       "      <td id=\"T_e5c64_row3_col7\" class=\"data row3 col7\" >10</td>\n",
       "      <td id=\"T_e5c64_row3_col8\" class=\"data row3 col8\" >8</td>\n",
       "      <td id=\"T_e5c64_row3_col9\" class=\"data row3 col9\" >4</td>\n",
       "      <td id=\"T_e5c64_row3_col10\" class=\"data row3 col10\" >10</td>\n",
       "      <td id=\"T_e5c64_row3_col11\" class=\"data row3 col11\" >194</td>\n",
       "      <td id=\"T_e5c64_row3_col12\" class=\"data row3 col12\" >253</td>\n",
       "      <td id=\"T_e5c64_row3_col13\" class=\"data row3 col13\" >253</td>\n",
       "      <td id=\"T_e5c64_row3_col14\" class=\"data row3 col14\" >233</td>\n",
       "      <td id=\"T_e5c64_row3_col15\" class=\"data row3 col15\" >0</td>\n",
       "      <td id=\"T_e5c64_row3_col16\" class=\"data row3 col16\" >0</td>\n",
       "      <td id=\"T_e5c64_row3_col17\" class=\"data row3 col17\" >0</td>\n",
       "    </tr>\n",
       "    <tr>\n",
       "      <th id=\"T_e5c64_level0_row4\" class=\"row_heading level0 row4\" >4</th>\n",
       "      <td id=\"T_e5c64_row4_col0\" class=\"data row4 col0\" >0</td>\n",
       "      <td id=\"T_e5c64_row4_col1\" class=\"data row4 col1\" >107</td>\n",
       "      <td id=\"T_e5c64_row4_col2\" class=\"data row4 col2\" >253</td>\n",
       "      <td id=\"T_e5c64_row4_col3\" class=\"data row4 col3\" >253</td>\n",
       "      <td id=\"T_e5c64_row4_col4\" class=\"data row4 col4\" >230</td>\n",
       "      <td id=\"T_e5c64_row4_col5\" class=\"data row4 col5\" >48</td>\n",
       "      <td id=\"T_e5c64_row4_col6\" class=\"data row4 col6\" >0</td>\n",
       "      <td id=\"T_e5c64_row4_col7\" class=\"data row4 col7\" >0</td>\n",
       "      <td id=\"T_e5c64_row4_col8\" class=\"data row4 col8\" >0</td>\n",
       "      <td id=\"T_e5c64_row4_col9\" class=\"data row4 col9\" >0</td>\n",
       "      <td id=\"T_e5c64_row4_col10\" class=\"data row4 col10\" >0</td>\n",
       "      <td id=\"T_e5c64_row4_col11\" class=\"data row4 col11\" >192</td>\n",
       "      <td id=\"T_e5c64_row4_col12\" class=\"data row4 col12\" >253</td>\n",
       "      <td id=\"T_e5c64_row4_col13\" class=\"data row4 col13\" >253</td>\n",
       "      <td id=\"T_e5c64_row4_col14\" class=\"data row4 col14\" >156</td>\n",
       "      <td id=\"T_e5c64_row4_col15\" class=\"data row4 col15\" >0</td>\n",
       "      <td id=\"T_e5c64_row4_col16\" class=\"data row4 col16\" >0</td>\n",
       "      <td id=\"T_e5c64_row4_col17\" class=\"data row4 col17\" >0</td>\n",
       "    </tr>\n",
       "    <tr>\n",
       "      <th id=\"T_e5c64_level0_row5\" class=\"row_heading level0 row5\" >5</th>\n",
       "      <td id=\"T_e5c64_row5_col0\" class=\"data row5 col0\" >0</td>\n",
       "      <td id=\"T_e5c64_row5_col1\" class=\"data row5 col1\" >3</td>\n",
       "      <td id=\"T_e5c64_row5_col2\" class=\"data row5 col2\" >20</td>\n",
       "      <td id=\"T_e5c64_row5_col3\" class=\"data row5 col3\" >20</td>\n",
       "      <td id=\"T_e5c64_row5_col4\" class=\"data row5 col4\" >15</td>\n",
       "      <td id=\"T_e5c64_row5_col5\" class=\"data row5 col5\" >0</td>\n",
       "      <td id=\"T_e5c64_row5_col6\" class=\"data row5 col6\" >0</td>\n",
       "      <td id=\"T_e5c64_row5_col7\" class=\"data row5 col7\" >0</td>\n",
       "      <td id=\"T_e5c64_row5_col8\" class=\"data row5 col8\" >0</td>\n",
       "      <td id=\"T_e5c64_row5_col9\" class=\"data row5 col9\" >0</td>\n",
       "      <td id=\"T_e5c64_row5_col10\" class=\"data row5 col10\" >43</td>\n",
       "      <td id=\"T_e5c64_row5_col11\" class=\"data row5 col11\" >224</td>\n",
       "      <td id=\"T_e5c64_row5_col12\" class=\"data row5 col12\" >253</td>\n",
       "      <td id=\"T_e5c64_row5_col13\" class=\"data row5 col13\" >245</td>\n",
       "      <td id=\"T_e5c64_row5_col14\" class=\"data row5 col14\" >74</td>\n",
       "      <td id=\"T_e5c64_row5_col15\" class=\"data row5 col15\" >0</td>\n",
       "      <td id=\"T_e5c64_row5_col16\" class=\"data row5 col16\" >0</td>\n",
       "      <td id=\"T_e5c64_row5_col17\" class=\"data row5 col17\" >0</td>\n",
       "    </tr>\n",
       "    <tr>\n",
       "      <th id=\"T_e5c64_level0_row6\" class=\"row_heading level0 row6\" >6</th>\n",
       "      <td id=\"T_e5c64_row6_col0\" class=\"data row6 col0\" >0</td>\n",
       "      <td id=\"T_e5c64_row6_col1\" class=\"data row6 col1\" >0</td>\n",
       "      <td id=\"T_e5c64_row6_col2\" class=\"data row6 col2\" >0</td>\n",
       "      <td id=\"T_e5c64_row6_col3\" class=\"data row6 col3\" >0</td>\n",
       "      <td id=\"T_e5c64_row6_col4\" class=\"data row6 col4\" >0</td>\n",
       "      <td id=\"T_e5c64_row6_col5\" class=\"data row6 col5\" >0</td>\n",
       "      <td id=\"T_e5c64_row6_col6\" class=\"data row6 col6\" >0</td>\n",
       "      <td id=\"T_e5c64_row6_col7\" class=\"data row6 col7\" >0</td>\n",
       "      <td id=\"T_e5c64_row6_col8\" class=\"data row6 col8\" >0</td>\n",
       "      <td id=\"T_e5c64_row6_col9\" class=\"data row6 col9\" >0</td>\n",
       "      <td id=\"T_e5c64_row6_col10\" class=\"data row6 col10\" >249</td>\n",
       "      <td id=\"T_e5c64_row6_col11\" class=\"data row6 col11\" >253</td>\n",
       "      <td id=\"T_e5c64_row6_col12\" class=\"data row6 col12\" >245</td>\n",
       "      <td id=\"T_e5c64_row6_col13\" class=\"data row6 col13\" >126</td>\n",
       "      <td id=\"T_e5c64_row6_col14\" class=\"data row6 col14\" >0</td>\n",
       "      <td id=\"T_e5c64_row6_col15\" class=\"data row6 col15\" >0</td>\n",
       "      <td id=\"T_e5c64_row6_col16\" class=\"data row6 col16\" >0</td>\n",
       "      <td id=\"T_e5c64_row6_col17\" class=\"data row6 col17\" >0</td>\n",
       "    </tr>\n",
       "    <tr>\n",
       "      <th id=\"T_e5c64_level0_row7\" class=\"row_heading level0 row7\" >7</th>\n",
       "      <td id=\"T_e5c64_row7_col0\" class=\"data row7 col0\" >0</td>\n",
       "      <td id=\"T_e5c64_row7_col1\" class=\"data row7 col1\" >0</td>\n",
       "      <td id=\"T_e5c64_row7_col2\" class=\"data row7 col2\" >0</td>\n",
       "      <td id=\"T_e5c64_row7_col3\" class=\"data row7 col3\" >0</td>\n",
       "      <td id=\"T_e5c64_row7_col4\" class=\"data row7 col4\" >0</td>\n",
       "      <td id=\"T_e5c64_row7_col5\" class=\"data row7 col5\" >0</td>\n",
       "      <td id=\"T_e5c64_row7_col6\" class=\"data row7 col6\" >0</td>\n",
       "      <td id=\"T_e5c64_row7_col7\" class=\"data row7 col7\" >14</td>\n",
       "      <td id=\"T_e5c64_row7_col8\" class=\"data row7 col8\" >101</td>\n",
       "      <td id=\"T_e5c64_row7_col9\" class=\"data row7 col9\" >223</td>\n",
       "      <td id=\"T_e5c64_row7_col10\" class=\"data row7 col10\" >253</td>\n",
       "      <td id=\"T_e5c64_row7_col11\" class=\"data row7 col11\" >248</td>\n",
       "      <td id=\"T_e5c64_row7_col12\" class=\"data row7 col12\" >124</td>\n",
       "      <td id=\"T_e5c64_row7_col13\" class=\"data row7 col13\" >0</td>\n",
       "      <td id=\"T_e5c64_row7_col14\" class=\"data row7 col14\" >0</td>\n",
       "      <td id=\"T_e5c64_row7_col15\" class=\"data row7 col15\" >0</td>\n",
       "      <td id=\"T_e5c64_row7_col16\" class=\"data row7 col16\" >0</td>\n",
       "      <td id=\"T_e5c64_row7_col17\" class=\"data row7 col17\" >0</td>\n",
       "    </tr>\n",
       "    <tr>\n",
       "      <th id=\"T_e5c64_level0_row8\" class=\"row_heading level0 row8\" >8</th>\n",
       "      <td id=\"T_e5c64_row8_col0\" class=\"data row8 col0\" >0</td>\n",
       "      <td id=\"T_e5c64_row8_col1\" class=\"data row8 col1\" >0</td>\n",
       "      <td id=\"T_e5c64_row8_col2\" class=\"data row8 col2\" >0</td>\n",
       "      <td id=\"T_e5c64_row8_col3\" class=\"data row8 col3\" >0</td>\n",
       "      <td id=\"T_e5c64_row8_col4\" class=\"data row8 col4\" >0</td>\n",
       "      <td id=\"T_e5c64_row8_col5\" class=\"data row8 col5\" >11</td>\n",
       "      <td id=\"T_e5c64_row8_col6\" class=\"data row8 col6\" >166</td>\n",
       "      <td id=\"T_e5c64_row8_col7\" class=\"data row8 col7\" >239</td>\n",
       "      <td id=\"T_e5c64_row8_col8\" class=\"data row8 col8\" >253</td>\n",
       "      <td id=\"T_e5c64_row8_col9\" class=\"data row8 col9\" >253</td>\n",
       "      <td id=\"T_e5c64_row8_col10\" class=\"data row8 col10\" >253</td>\n",
       "      <td id=\"T_e5c64_row8_col11\" class=\"data row8 col11\" >187</td>\n",
       "      <td id=\"T_e5c64_row8_col12\" class=\"data row8 col12\" >30</td>\n",
       "      <td id=\"T_e5c64_row8_col13\" class=\"data row8 col13\" >0</td>\n",
       "      <td id=\"T_e5c64_row8_col14\" class=\"data row8 col14\" >0</td>\n",
       "      <td id=\"T_e5c64_row8_col15\" class=\"data row8 col15\" >0</td>\n",
       "      <td id=\"T_e5c64_row8_col16\" class=\"data row8 col16\" >0</td>\n",
       "      <td id=\"T_e5c64_row8_col17\" class=\"data row8 col17\" >0</td>\n",
       "    </tr>\n",
       "    <tr>\n",
       "      <th id=\"T_e5c64_level0_row9\" class=\"row_heading level0 row9\" >9</th>\n",
       "      <td id=\"T_e5c64_row9_col0\" class=\"data row9 col0\" >0</td>\n",
       "      <td id=\"T_e5c64_row9_col1\" class=\"data row9 col1\" >0</td>\n",
       "      <td id=\"T_e5c64_row9_col2\" class=\"data row9 col2\" >0</td>\n",
       "      <td id=\"T_e5c64_row9_col3\" class=\"data row9 col3\" >0</td>\n",
       "      <td id=\"T_e5c64_row9_col4\" class=\"data row9 col4\" >0</td>\n",
       "      <td id=\"T_e5c64_row9_col5\" class=\"data row9 col5\" >16</td>\n",
       "      <td id=\"T_e5c64_row9_col6\" class=\"data row9 col6\" >248</td>\n",
       "      <td id=\"T_e5c64_row9_col7\" class=\"data row9 col7\" >250</td>\n",
       "      <td id=\"T_e5c64_row9_col8\" class=\"data row9 col8\" >253</td>\n",
       "      <td id=\"T_e5c64_row9_col9\" class=\"data row9 col9\" >253</td>\n",
       "      <td id=\"T_e5c64_row9_col10\" class=\"data row9 col10\" >253</td>\n",
       "      <td id=\"T_e5c64_row9_col11\" class=\"data row9 col11\" >253</td>\n",
       "      <td id=\"T_e5c64_row9_col12\" class=\"data row9 col12\" >232</td>\n",
       "      <td id=\"T_e5c64_row9_col13\" class=\"data row9 col13\" >213</td>\n",
       "      <td id=\"T_e5c64_row9_col14\" class=\"data row9 col14\" >111</td>\n",
       "      <td id=\"T_e5c64_row9_col15\" class=\"data row9 col15\" >2</td>\n",
       "      <td id=\"T_e5c64_row9_col16\" class=\"data row9 col16\" >0</td>\n",
       "      <td id=\"T_e5c64_row9_col17\" class=\"data row9 col17\" >0</td>\n",
       "    </tr>\n",
       "    <tr>\n",
       "      <th id=\"T_e5c64_level0_row10\" class=\"row_heading level0 row10\" >10</th>\n",
       "      <td id=\"T_e5c64_row10_col0\" class=\"data row10 col0\" >0</td>\n",
       "      <td id=\"T_e5c64_row10_col1\" class=\"data row10 col1\" >0</td>\n",
       "      <td id=\"T_e5c64_row10_col2\" class=\"data row10 col2\" >0</td>\n",
       "      <td id=\"T_e5c64_row10_col3\" class=\"data row10 col3\" >0</td>\n",
       "      <td id=\"T_e5c64_row10_col4\" class=\"data row10 col4\" >0</td>\n",
       "      <td id=\"T_e5c64_row10_col5\" class=\"data row10 col5\" >0</td>\n",
       "      <td id=\"T_e5c64_row10_col6\" class=\"data row10 col6\" >0</td>\n",
       "      <td id=\"T_e5c64_row10_col7\" class=\"data row10 col7\" >43</td>\n",
       "      <td id=\"T_e5c64_row10_col8\" class=\"data row10 col8\" >98</td>\n",
       "      <td id=\"T_e5c64_row10_col9\" class=\"data row10 col9\" >98</td>\n",
       "      <td id=\"T_e5c64_row10_col10\" class=\"data row10 col10\" >208</td>\n",
       "      <td id=\"T_e5c64_row10_col11\" class=\"data row10 col11\" >253</td>\n",
       "      <td id=\"T_e5c64_row10_col12\" class=\"data row10 col12\" >253</td>\n",
       "      <td id=\"T_e5c64_row10_col13\" class=\"data row10 col13\" >253</td>\n",
       "      <td id=\"T_e5c64_row10_col14\" class=\"data row10 col14\" >253</td>\n",
       "      <td id=\"T_e5c64_row10_col15\" class=\"data row10 col15\" >187</td>\n",
       "      <td id=\"T_e5c64_row10_col16\" class=\"data row10 col16\" >22</td>\n",
       "      <td id=\"T_e5c64_row10_col17\" class=\"data row10 col17\" >0</td>\n",
       "    </tr>\n",
       "  </tbody>\n",
       "</table>\n"
      ],
      "text/plain": [
       "<pandas.io.formats.style.Styler at 0x7f17d19e6a00>"
      ]
     },
     "execution_count": 20,
     "metadata": {},
     "output_type": "execute_result"
    }
   ],
   "source": [
    "im3_t=tensor(im3)\n",
    "df=pd.DataFrame(im3_t[4:15,4:22])\n",
    "df.style.set_properties(**{'font-size':'6pt'}).background_gradient('Greys')"
   ]
  },
  {
   "cell_type": "markdown",
   "id": "d8fc8106-ab9b-4f09-b929-41bd44fca51a",
   "metadata": {},
   "source": [
    "- You can see that the background **white pixels are stored as the number 0**, **black is the number 255**, and **shades of gray are between the two**. \n",
    "-  The entire image contains 28 pixels across and 28 pixels down, for a total of 784 pixels."
   ]
  },
  {
   "cell_type": "markdown",
   "id": "cff9ecaf-75a8-47a3-8059-3ac255bdc2b0",
   "metadata": {},
   "source": [
    "## Pixel Similarity"
   ]
  },
  {
   "cell_type": "code",
   "execution_count": 23,
   "id": "a4b6dd6f-04f3-469c-a1f1-179141aaf92e",
   "metadata": {},
   "outputs": [
    {
     "data": {
      "text/plain": [
       "array([[0.        , 0.        , 0.        , 0.        , 0.        ,\n",
       "        0.        ],\n",
       "       [0.        , 0.        , 0.        , 0.        , 0.        ,\n",
       "        0.11372549],\n",
       "       [0.        , 0.        , 0.        , 0.18823529, 0.65098039,\n",
       "        0.87843137],\n",
       "       [0.        , 0.36470588, 0.95686275, 0.97647059, 0.99215686,\n",
       "        0.73333333],\n",
       "       [0.        , 0.41960784, 0.99215686, 0.99215686, 0.90196078,\n",
       "        0.18823529],\n",
       "       [0.        , 0.01176471, 0.07843137, 0.07843137, 0.05882353,\n",
       "        0.        ]])"
      ]
     },
     "execution_count": 23,
     "metadata": {},
     "output_type": "execute_result"
    }
   ],
   "source": [
    "array(im3)[4:10,4:10]/255"
   ]
  },
  {
   "cell_type": "code",
   "execution_count": 26,
   "id": "029e5558-e2f1-4b51-953f-28055e9f96c2",
   "metadata": {},
   "outputs": [],
   "source": [
    "three_tensors=[tensor(Image.open(i)) for i in threes]\n",
    "seven_tensors=[tensor(Image.open(i)) for i in sevens]"
   ]
  },
  {
   "cell_type": "code",
   "execution_count": 27,
   "id": "178e0451-b7f5-49cc-b749-24d940ba5668",
   "metadata": {},
   "outputs": [
    {
     "data": {
      "text/plain": [
       "(6131, 6265)"
      ]
     },
     "execution_count": 27,
     "metadata": {},
     "output_type": "execute_result"
    }
   ],
   "source": [
    "len(three_tensors),len(seven_tensors)"
   ]
  },
  {
   "cell_type": "markdown",
   "id": "1aa0009a-c498-48c4-a3f8-83c9aed0c91d",
   "metadata": {},
   "source": [
    "Since we now *have tensors* (which Jupyter by default will print as values), rather than PIL images (which Jupyter by default will display as images), we need to use fastai's show_image function to display it:`"
   ]
  },
  {
   "cell_type": "code",
   "execution_count": 33,
   "id": "dbd83314-ad4e-4585-8ab8-875be01cdd2f",
   "metadata": {},
   "outputs": [
    {
     "data": {
      "text/plain": [
       "<AxesSubplot:>"
      ]
     },
     "execution_count": 33,
     "metadata": {},
     "output_type": "execute_result"
    },
    {
     "data": {
      "image/png": "[encoded data removed]",
      "text/plain": [
       "<Figure size 72x72 with 1 Axes>"
      ]
     },
     "metadata": {
      "needs_background": "light"
     },
     "output_type": "display_data"
    }
   ],
   "source": [
    "show_image(seven_tensors[3])"
   ]
  },
  {
   "cell_type": "markdown",
   "id": "e2bf2b88-f4ec-4fd8-bb34-d87ad4e42e96",
   "metadata": {},
   "source": [
    "- For every pixel position, we want to compute the average over all the images of the intensity of that pixel. \n",
    "    - 모든 픽셀 위치에서 해당 픽셀 강도의 모든 이미지에 대한 평균을 계산하기 위해서 \n",
    "- To do this we first combine all the images in this list into a single three-dimensional tensor. \n",
    "    - 우선 이 리스트의 모든 이미지를 단일 3차원 텐서로 결합한다.\n",
    "- The most common way to describe such a tensor is to call it a rank-3 tensor. \n",
    "- We often need to stack up individual tensors in a collection into a single tensor. "
   ]
  },
  {
   "cell_type": "markdown",
   "id": "afa19961-b253-4eff-bd4d-c89e9a60aeea",
   "metadata": {},
   "source": [
    "Generally when images are floats, the pixel values are expected to be between 0 and 1, so we will also divide by 255 here:"
   ]
  },
  {
   "cell_type": "code",
   "execution_count": 34,
   "id": "550373c4-0260-417f-976c-21b54db2d237",
   "metadata": {},
   "outputs": [],
   "source": [
    "stacked_threes = torch.stack(three_tensors).float()/255\n",
    "stacked_sevens = torch.stack(seven_tensors).float()/255"
   ]
  },
  {
   "cell_type": "code",
   "execution_count": 37,
   "id": "34eeb02c-bae7-4433-a2f3-4e9ccfac05ad",
   "metadata": {},
   "outputs": [
    {
     "data": {
      "text/plain": [
       "(torch.Size([6131, 28, 28]), torch.Size([6265, 28, 28]))"
      ]
     },
     "execution_count": 37,
     "metadata": {},
     "output_type": "execute_result"
    }
   ],
   "source": [
    "stacked_threes.shape, stacked_sevens.shape"
   ]
  },
  {
   "cell_type": "markdown",
   "id": "808dd9e9-3b0d-432d-9e8a-f9f178980a99",
   "metadata": {},
   "source": [
    "There is nothing specifically about this tensor that says that the first axis is the number of images, the second is the height, and the third is the width"
   ]
  },
  {
   "cell_type": "code",
   "execution_count": 39,
   "id": "b74abf63-c526-4758-b1c2-9c6dfab4de2b",
   "metadata": {},
   "outputs": [
    {
     "data": {
      "text/plain": [
       "3"
      ]
     },
     "execution_count": 39,
     "metadata": {},
     "output_type": "execute_result"
    }
   ],
   "source": [
    "len(stacked_sevens.shape)"
   ]
  },
  {
   "cell_type": "markdown",
   "id": "f2c8454d-995f-49ef-82aa-f465263801ae",
   "metadata": {},
   "source": [
    "> important: rank is the number of axes or dimensions in a tensor; shape is the size of each axis of a tensor."
   ]
  },
  {
   "cell_type": "markdown",
   "id": "d8c40297-f024-4f5a-b858-b300c8a75095",
   "metadata": {},
   "source": [
    "We can also get a tensor's rank directly with ndim:"
   ]
  },
  {
   "cell_type": "code",
   "execution_count": 40,
   "id": "a1a9f3ef-b351-4fd9-8e77-92b9c62049ec",
   "metadata": {},
   "outputs": [
    {
     "data": {
      "text/plain": [
       "3"
      ]
     },
     "execution_count": 40,
     "metadata": {},
     "output_type": "execute_result"
    }
   ],
   "source": [
    "stacked_sevens.ndim"
   ]
  },
  {
   "cell_type": "markdown",
   "id": "1fc62dd6-be7c-4ded-ae56-3a4fec9b1608",
   "metadata": {},
   "source": [
    "for every pixel position, this will compute the average of that pixel over all images. \n",
    "\n",
    "The result will be one value for every pixel position, or a single image. Here it is:"
   ]
  },
  {
   "cell_type": "code",
   "execution_count": 46,
   "id": "8300af1f-38ce-4ea5-8f21-a330a64e9f8e",
   "metadata": {},
   "outputs": [
    {
     "data": {
      "text/plain": [
       "<AxesSubplot:>"
      ]
     },
     "execution_count": 46,
     "metadata": {},
     "output_type": "execute_result"
    },
    {
     "data": {
      "image/png": "[encoded data removed]",
      "text/plain": [
       "<Figure size 72x72 with 1 Axes>"
      ]
     },
     "metadata": {
      "needs_background": "light"
     },
     "output_type": "display_data"
    }
   ],
   "source": [
    "mean3=stacked_threes.mean(0)\n",
    "show_image(mean3)"
   ]
  },
  {
   "cell_type": "code",
   "execution_count": 47,
   "id": "52a9bf73-1072-4b80-a7d3-a3220f271040",
   "metadata": {},
   "outputs": [
    {
     "data": {
      "text/plain": [
       "<AxesSubplot:>"
      ]
     },
     "execution_count": 47,
     "metadata": {},
     "output_type": "execute_result"
    },
    {
     "data": {
      "image/png": "[encoded data removed]",
      "text/plain": [
       "<Figure size 72x72 with 1 Axes>"
      ]
     },
     "metadata": {
      "needs_background": "light"
     },
     "output_type": "display_data"
    }
   ],
   "source": [
    "mean7=stacked_sevens.mean(0)\n",
    "show_image(mean7)"
   ]
  },
  {
   "cell_type": "code",
   "execution_count": 48,
   "id": "99e52182-8473-4dce-a435-0a8c5ed65c08",
   "metadata": {},
   "outputs": [
    {
     "data": {
      "text/plain": [
       "<AxesSubplot:>"
      ]
     },
     "execution_count": 48,
     "metadata": {},
     "output_type": "execute_result"
    },
    {
     "data": {
      "image/png": "[encoded data removed]",
      "text/plain": [
       "<Figure size 72x72 with 1 Axes>"
      ]
     },
     "metadata": {
      "needs_background": "light"
     },
     "output_type": "display_data"
    }
   ],
   "source": [
    "a_3 = stacked_threes[1]\n",
    "show_image(a_3)"
   ]
  },
  {
   "cell_type": "code",
   "execution_count": 49,
   "id": "ddd93ddc-3c1d-4a20-9c72-43045143c3a4",
   "metadata": {},
   "outputs": [
    {
     "data": {
      "text/plain": [
       "<AxesSubplot:>"
      ]
     },
     "execution_count": 49,
     "metadata": {},
     "output_type": "execute_result"
    },
    {
     "data": {
      "image/png": "[encoded data removed]",
      "text/plain": [
       "<Figure size 72x72 with 1 Axes>"
      ]
     },
     "metadata": {
      "needs_background": "light"
     },
     "output_type": "display_data"
    }
   ],
   "source": [
    "a_7 = stacked_sevens[1]\n",
    "show_image(a_7)"
   ]
  },
  {
   "cell_type": "code",
   "execution_count": 53,
   "id": "35aa164f-2b62-49c6-9bcb-7269569f2eb5",
   "metadata": {},
   "outputs": [
    {
     "data": {
      "text/plain": [
       "<AxesSubplot:>"
      ]
     },
     "execution_count": 53,
     "metadata": {},
     "output_type": "execute_result"
    },
    {
     "data": {
      "image/png": "[encoded data removed]",
      "text/plain": [
       "<Figure size 72x72 with 1 Axes>"
      ]
     },
     "metadata": {
      "needs_background": "light"
     },
     "output_type": "display_data"
    }
   ],
   "source": [
    "show_image(abs(a_3-mean3))"
   ]
  },
  {
   "cell_type": "markdown",
   "id": "dbffa804-b540-4f3a-a498-0ec86dc929fd",
   "metadata": {},
   "source": [
    "- We can't just add up the differences between the pixels of this image and the ideal digit. \n",
    "- Some differences will be positive while others will be negative, and these differences will cancel out, resulting in a situation where an image that is too dark in some places and too light in others might be shown as having zero total differences from the ideal.\n",
    "- That would be misleading!"
   ]
  },
  {
   "cell_type": "markdown",
   "id": "9533dd5b-9ef7-4cbd-83ee-665c4b95db4f",
   "metadata": {},
   "source": [
    "1. Take the mean of the *absolute value* of differences (absolute value is the function that replaces negative values with positive values). This is called the *mean absolute difference* or L1 norm\n",
    "2. Take the mean of the *square* of differences (which makes everything positive) and then take the *square root* (which undoes the squaring). This is called the root mean *squared error (RMSE)* or L2 norm."
   ]
  },
  {
   "cell_type": "code",
   "execution_count": 55,
   "id": "ef7f8644-4031-44f0-bbcf-3e1997d71ad5",
   "metadata": {},
   "outputs": [
    {
     "data": {
      "text/plain": [
       "(tensor(0.1114), tensor(0.2021))"
      ]
     },
     "execution_count": 55,
     "metadata": {},
     "output_type": "execute_result"
    }
   ],
   "source": [
    "dist_3_abs=(a_3 - mean3).abs().mean()\n",
    "dist_3_sqr = ((a_3-mean3)**2).mean().sqrt()\n",
    "dist_3_abs, dist_3_sqr"
   ]
  },
  {
   "cell_type": "code",
   "execution_count": 56,
   "id": "43f8aca6-51db-4d3d-ad8b-c971821fc39a",
   "metadata": {},
   "outputs": [
    {
     "data": {
      "text/plain": [
       "(tensor(0.1304), tensor(0.2585))"
      ]
     },
     "execution_count": 56,
     "metadata": {},
     "output_type": "execute_result"
    }
   ],
   "source": [
    "dist_7_abs=(a_3 - mean7).abs().mean()\n",
    "dist_7_sqr = ((a_3-mean7)**2).mean().sqrt()\n",
    "dist_7_abs, dist_7_sqr"
   ]
  },
  {
   "cell_type": "markdown",
   "id": "c4982159-c280-431c-9378-a49ba8adb214",
   "metadata": {},
   "source": [
    "- In both cases, the distance between our 3 and the \"ideal\" 3 is less than the distance to the ideal 7. \n",
    "- So our simple model will give the right prediction in this case."
   ]
  },
  {
   "cell_type": "markdown",
   "id": "258ed157-aaa8-428b-af4d-a6cefa016bfb",
   "metadata": {},
   "source": [
    "PyTorch already provides both of these as loss functions. You'll find these inside `torch.nn.functional`, which the PyTorch team recommends importing as F (and is available by default under that name in fastai):"
   ]
  },
  {
   "cell_type": "code",
   "execution_count": 57,
   "id": "06046ce4-f5d2-43e6-ab49-6d1db5a3b0cc",
   "metadata": {},
   "outputs": [
    {
     "data": {
      "text/plain": [
       "(tensor(0.1586), tensor(0.0913))"
      ]
     },
     "execution_count": 57,
     "metadata": {},
     "output_type": "execute_result"
    }
   ],
   "source": [
    "F.l1_loss(a_3.float(),mean7),F.mse_loss(a_3.float(),mean7)"
   ]
  },
  {
   "cell_type": "markdown",
   "id": "8c2abbfb-ed19-4731-949e-00eb9fc0d993",
   "metadata": {},
   "source": [
    "Here mse stands for mean squared error, and l1 refers to the standard mathematical jargon for mean absolute value (in math it's called the L1 norm)."
   ]
  },
  {
   "cell_type": "code",
   "execution_count": null,
   "id": "bbb91213-0132-4600-8b30-7877de1fdee7",
   "metadata": {},
   "outputs": [],
   "source": []
  }
 ],
 "metadata": {
  "kernelspec": {
   "display_name": "Python 3",
   "language": "python",
   "name": "python3"
  },
  "language_info": {
   "codemirror_mode": {
    "name": "ipython",
    "version": 3
   },
   "file_extension": ".py",
   "mimetype": "text/x-python",
   "name": "python",
   "nbconvert_exporter": "python",
   "pygments_lexer": "ipython3",
   "version": "3.8.12"
  }
 },
 "nbformat": 4,
 "nbformat_minor": 5
}
