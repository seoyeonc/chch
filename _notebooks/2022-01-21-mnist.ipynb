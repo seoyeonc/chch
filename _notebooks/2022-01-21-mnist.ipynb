{
 "cells": [
  {
   "cell_type": "markdown",
   "id": "f6db4edb-4e98-42e6-a313-6101e7359305",
   "metadata": {
    "id": "d44ba9bc-ebf3-49d8-b2db-9d49bf1bec22",
    "tags": []
   },
   "source": [
    "# fastbook 04_mnist_basics\n",
    "> not done\n",
    "\n",
    "- toc:false\n",
    "- branch: master\n",
    "- badges: false\n",
    "- comments: false \n",
    "- author: 최서연\n",
    "- categories: [MNIST]"
   ]
  },
  {
   "cell_type": "markdown",
   "id": "83c01336-7362-4565-a838-344c7adc1688",
   "metadata": {},
   "source": [
    "ref: https://github.com/fastai/fastbook"
   ]
  },
  {
   "cell_type": "code",
   "execution_count": 2,
   "id": "1f92fdd0-9342-44a0-be85-60bdd9912c1f",
   "metadata": {},
   "outputs": [],
   "source": [
    "from fastai.vision.all import *\n",
    "matplotlib.rc('image', cmap='Greys')"
   ]
  },
  {
   "cell_type": "markdown",
   "id": "c9a13c83-a7a8-4ff3-9d1c-48e6b83c4d20",
   "metadata": {},
   "source": [
    "## Introduction"
   ]
  },
  {
   "cell_type": "markdown",
   "id": "e6c36e6d-8d2a-42c0-9857-3464ff5cfd08",
   "metadata": {
    "tags": []
   },
   "source": [
    "- We'll explain stochastic gradient descent (SGD), the mechanism for learning by updating weights automatically.\n",
    "- We'll discuss the choice of a loss function for our basic classification task, and the role of mini-batches.\n",
    "- We'll also describe the math that a basic neural network is actually doing.\n",
    "- Finally, we'll put all these pieces together."
   ]
  },
  {
   "cell_type": "code",
   "execution_count": 3,
   "id": "5ef4f47e-a569-41a1-87a3-07f758d7d9e3",
   "metadata": {},
   "outputs": [],
   "source": [
    "path = untar_data(URLs.MNIST_SAMPLE)"
   ]
  },
  {
   "cell_type": "code",
   "execution_count": 6,
   "id": "3f0788fe-8eca-4dbf-9d93-01423ee1787f",
   "metadata": {},
   "outputs": [],
   "source": [
    "Path.BASE_PATH = path"
   ]
  },
  {
   "cell_type": "code",
   "execution_count": 7,
   "id": "4a7d2fbb-0a47-4718-8b41-c6c38fc8ae5a",
   "metadata": {},
   "outputs": [
    {
     "data": {
      "text/plain": [
       "(#3) [Path('train'),Path('labels.csv'),Path('valid')]"
      ]
     },
     "execution_count": 7,
     "metadata": {},
     "output_type": "execute_result"
    }
   ],
   "source": [
    "path.ls()"
   ]
  },
  {
   "cell_type": "code",
   "execution_count": 9,
   "id": "f1bc605e-afaf-47b1-b99d-6a6ec7c8cce4",
   "metadata": {},
   "outputs": [
    {
     "data": {
      "text/plain": [
       "(#2) [Path('train/7'),Path('train/3')]"
      ]
     },
     "execution_count": 9,
     "metadata": {},
     "output_type": "execute_result"
    }
   ],
   "source": [
    "(path/'train').ls()"
   ]
  },
  {
   "cell_type": "markdown",
   "id": "cc6408d1-d43a-431c-891b-fdaaab82a5af",
   "metadata": {},
   "source": [
    "Let's take a look in one of these folders (using sorted to ensure we all get the same order of file"
   ]
  },
  {
   "cell_type": "code",
   "execution_count": 12,
   "id": "cd17780c-8bee-4880-bb8e-689805aee596",
   "metadata": {},
   "outputs": [],
   "source": [
    "threes = (path/'train'/'3').ls().sorted()\n",
    "sevens = (path/'train'/'7').ls().sorted()"
   ]
  },
  {
   "cell_type": "markdown",
   "id": "d5fb3378-cc16-4285-963b-6168299cd1ea",
   "metadata": {},
   "source": [
    "Let’s take a look at one now. Here’s an image of a handwritten number 3, taken from the famous MNIST dataset of handwritten numbers:"
   ]
  },
  {
   "cell_type": "code",
   "execution_count": 13,
   "id": "61fb14be-26f8-4946-aac5-f1e376034786",
   "metadata": {},
   "outputs": [
    {
     "data": {
      "image/png": "[encoded data removed]",
      "text/plain": [
       "<PIL.PngImagePlugin.PngImageFile image mode=L size=28x28 at 0x7F17D2063A60>"
      ]
     },
     "execution_count": 13,
     "metadata": {},
     "output_type": "execute_result"
    }
   ],
   "source": [
    "im3_path=threes[1]\n",
    "im3=Image.open(im3_path)\n",
    "im3"
   ]
  },
  {
   "cell_type": "markdown",
   "id": "1e872061-a3b8-4806-a2f0-d6ee85a5b5aa",
   "metadata": {},
   "source": [
    "Here we are using the *Image* class from the *Python Imaging Library (PIL)*, which is the most widely used Python package for opening, manipulating, and viewing images."
   ]
  },
  {
   "cell_type": "code",
   "execution_count": 16,
   "id": "287fa259-7ccc-421a-9cb2-7e276a0d3e5f",
   "metadata": {},
   "outputs": [
    {
     "data": {
      "text/plain": [
       "array([[  0,   0,   0,   0,   0,   0],\n",
       "       [  0,   0,   0,   0,   0,  29],\n",
       "       [  0,   0,   0,  48, 166, 224],\n",
       "       [  0,  93, 244, 249, 253, 187],\n",
       "       [  0, 107, 253, 253, 230,  48],\n",
       "       [  0,   3,  20,  20,  15,   0]], dtype=uint8)"
      ]
     },
     "execution_count": 16,
     "metadata": {},
     "output_type": "execute_result"
    }
   ],
   "source": [
    "array(im3)[4:10,4:10]"
   ]
  },
  {
   "cell_type": "markdown",
   "id": "86639677-ef29-47ce-b24c-87495ea3bdf2",
   "metadata": {},
   "source": [
    "NumPy indexes from top to bottom and left to right, so this section is located in the top-left corner of the image.\n",
    "\n",
    "Here's the same thing as a PyTorch tensor:"
   ]
  },
  {
   "cell_type": "code",
   "execution_count": 18,
   "id": "6ae46108-8926-46d1-af21-7f2933848050",
   "metadata": {},
   "outputs": [
    {
     "data": {
      "text/plain": [
       "tensor([[  0,   0,   0,   0,   0,   0],\n",
       "        [  0,   0,   0,   0,   0,  29],\n",
       "        [  0,   0,   0,  48, 166, 224],\n",
       "        [  0,  93, 244, 249, 253, 187],\n",
       "        [  0, 107, 253, 253, 230,  48],\n",
       "        [  0,   3,  20,  20,  15,   0]], dtype=torch.uint8)"
      ]
     },
     "execution_count": 18,
     "metadata": {},
     "output_type": "execute_result"
    }
   ],
   "source": [
    "tensor(im3)[4:10,4:10]"
   ]
  },
  {
   "cell_type": "code",
   "execution_count": null,
   "id": "ac5159b9-6f2c-429e-836d-cae9edfe28f6",
   "metadata": {},
   "outputs": [],
   "source": [
    "im3_t=tensor(im3)\n",
    "df=pd.DataFrame()"
   ]
  }
 ],
 "metadata": {
  "kernelspec": {
   "display_name": "Python 3",
   "language": "python",
   "name": "python3"
  },
  "language_info": {
   "codemirror_mode": {
    "name": "ipython",
    "version": 3
   },
   "file_extension": ".py",
   "mimetype": "text/x-python",
   "name": "python",
   "nbconvert_exporter": "python",
   "pygments_lexer": "ipython3",
   "version": "3.8.12"
  }
 },
 "nbformat": 4,
 "nbformat_minor": 5
}
