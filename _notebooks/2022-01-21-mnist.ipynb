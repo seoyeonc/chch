{
 "cells": [
  {
   "cell_type": "markdown",
   "id": "f6db4edb-4e98-42e6-a313-6101e7359305",
   "metadata": {
    "id": "d44ba9bc-ebf3-49d8-b2db-9d49bf1bec22",
    "tags": []
   },
   "source": [
    "# fastbook 04_mnist_basics\n",
    "> not done\n",
    "\n",
    "- toc:false\n",
    "- branch: master\n",
    "- badges: false\n",
    "- comments: false \n",
    "- author: 최서연\n",
    "- categories: [MNIST]"
   ]
  },
  {
   "cell_type": "markdown",
   "id": "83c01336-7362-4565-a838-344c7adc1688",
   "metadata": {},
   "source": [
    "ref: https://github.com/fastai/fastbook"
   ]
  },
  {
   "cell_type": "code",
   "execution_count": 2,
   "id": "1f92fdd0-9342-44a0-be85-60bdd9912c1f",
   "metadata": {},
   "outputs": [],
   "source": [
    "from fastai.vision.all import *\n",
    "matplotlib.rc('image', cmap='Greys')"
   ]
  },
  {
   "cell_type": "markdown",
   "id": "c9a13c83-a7a8-4ff3-9d1c-48e6b83c4d20",
   "metadata": {},
   "source": [
    "## Introducing"
   ]
  },
  {
   "cell_type": "markdown",
   "id": "e6c36e6d-8d2a-42c0-9857-3464ff5cfd08",
   "metadata": {
    "tags": []
   },
   "source": [
    "- We'll explain stochastic gradient descent (SGD), the mechanism for learning by updating weights automatically.\n",
    "- We'll discuss the choice of a loss function for our basic classification task, and the role of mini-batches.\n",
    "- We'll also describe the math that a basic neural network is actually doing.\n",
    "- Finally, we'll put all these pieces together."
   ]
  },
  {
   "cell_type": "code",
   "execution_count": null,
   "id": "5ef4f47e-a569-41a1-87a3-07f758d7d9e3",
   "metadata": {},
   "outputs": [],
   "source": []
  }
 ],
 "metadata": {
  "kernelspec": {
   "display_name": "Python 3",
   "language": "python",
   "name": "python3"
  },
  "language_info": {
   "codemirror_mode": {
    "name": "ipython",
    "version": 3
   },
   "file_extension": ".py",
   "mimetype": "text/x-python",
   "name": "python",
   "nbconvert_exporter": "python",
   "pygments_lexer": "ipython3",
   "version": "3.8.12"
  }
 },
 "nbformat": 4,
 "nbformat_minor": 5
}
