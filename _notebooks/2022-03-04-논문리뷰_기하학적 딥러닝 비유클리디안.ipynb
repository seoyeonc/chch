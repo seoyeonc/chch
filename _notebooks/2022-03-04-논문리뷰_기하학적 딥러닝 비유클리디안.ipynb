{
 "cells": [
  {
   "cell_type": "markdown",
   "id": "cb88ed93-9b12-44a8-bbea-18f8816b60b3",
   "metadata": {},
   "source": [
    "# Not done - Geometric deep learning: going beyond Euclidean data\n",
    "> Michael M. Bronstein, Joan Bruna, Yann LeCun, Arthur Szlam, Pierre Vandergheynst\n",
    "\n",
    "- toc:true\n",
    "- branch: master\n",
    "- badges: true\n",
    "- comments: false\n",
    "- author: 최서연\n",
    "- categories: [논문리뷰]"
   ]
  },
  {
   "cell_type": "code",
   "execution_count": null,
   "id": "70e709bd-89d1-430d-b2b4-9eee5c9d2c82",
   "metadata": {},
   "outputs": [],
   "source": []
  }
 ],
 "metadata": {
  "kernelspec": {
   "display_name": "Python 3 (ipykernel)",
   "language": "python",
   "name": "python3"
  },
  "language_info": {
   "codemirror_mode": {
    "name": "ipython",
    "version": 3
   },
   "file_extension": ".py",
   "mimetype": "text/x-python",
   "name": "python",
   "nbconvert_exporter": "python",
   "pygments_lexer": "ipython3",
   "version": "3.8.12"
  }
 },
 "nbformat": 4,
 "nbformat_minor": 5
}
