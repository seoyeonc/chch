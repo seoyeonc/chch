{
 "cells": [
  {
   "cell_type": "markdown",
   "id": "f6ffd3b0-152c-4078-ad4a-369ef60b2e66",
   "metadata": {
    "id": "d44ba9bc-ebf3-49d8-b2db-9d49bf1bec22",
    "tags": []
   },
   "source": [
    "# Generative Deep Learning\n",
    "> Not done\n",
    "\n",
    "- toc:true\n",
    "- branch: master\n",
    "- badges: false\n",
    "- comments: false \n",
    "- author: 최서연\n",
    "- categories: [GAN]"
   ]
  },
  {
   "cell_type": "code",
   "execution_count": null,
   "id": "829197b8-7f49-4e78-8c29-fa777433f2e1",
   "metadata": {},
   "outputs": [],
   "source": []
  },
  {
   "cell_type": "code",
   "execution_count": null,
   "id": "92213145-b9fe-4c5d-b9c0-390b1dc5158d",
   "metadata": {},
   "outputs": [],
   "source": []
  },
  {
   "cell_type": "code",
   "execution_count": null,
   "id": "6a828e0d-14ba-4a6e-a9da-ef9f99515509",
   "metadata": {},
   "outputs": [],
   "source": [
    "https://github.com/davidADSP/GDL_code"
   ]
  },
  {
   "cell_type": "code",
   "execution_count": null,
   "id": "bb6ae722-6e3c-483f-9314-ab8b9e82f277",
   "metadata": {},
   "outputs": [],
   "source": []
  }
 ],
 "metadata": {
  "kernelspec": {
   "display_name": "Python 3",
   "language": "python",
   "name": "python3"
  },
  "language_info": {
   "codemirror_mode": {
    "name": "ipython",
    "version": 3
   },
   "file_extension": ".py",
   "mimetype": "text/x-python",
   "name": "python",
   "nbconvert_exporter": "python",
   "pygments_lexer": "ipython3",
   "version": "3.8.12"
  }
 },
 "nbformat": 4,
 "nbformat_minor": 5
}
