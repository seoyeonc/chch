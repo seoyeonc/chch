{
 "cells": [
  {
   "cell_type": "markdown",
   "id": "bfb56ff3-50a7-4214-9aaa-b2a81b05119a",
   "metadata": {},
   "source": [
    "# 빅데이터 분석 특강 (3주차) 3월 21일 \n",
    "\n",
    "- toc:true\n",
    "- branch: master\n",
    "- badges: true\n",
    "- comments: false\n",
    "- author: 최서연\n",
    "- categories: [Special Topics in Big Data Analysis, TensorFlow, TensorFlow NumPy]"
   ]
  },
  {
   "cell_type": "markdown",
   "id": "4d86128d-8eb0-46a4-a6ec-aa2f0a8e37ca",
   "metadata": {},
   "source": [
    "### 학부 수업 중 데이터과학 수업 참고하세요~"
   ]
  },
  {
   "cell_type": "markdown",
   "id": "0e40bace-c142-4155-83dc-cc562e5eb639",
   "metadata": {
    "id": "0e40bace-c142-4155-83dc-cc562e5eb639"
   },
   "source": [
    "### imports "
   ]
  },
  {
   "cell_type": "code",
   "execution_count": 1,
   "id": "5e2d101b-f78f-43d8-9800-ca00451bc541",
   "metadata": {
    "id": "5e2d101b-f78f-43d8-9800-ca00451bc541"
   },
   "outputs": [],
   "source": [
    "import tensorflow as tf\n",
    "import numpy as np"
   ]
  },
  {
   "cell_type": "code",
   "execution_count": 2,
   "id": "080223e7-0bcf-4f4f-b01a-8f8b4419f5ba",
   "metadata": {
    "id": "080223e7-0bcf-4f4f-b01a-8f8b4419f5ba",
    "outputId": "409fd7b5-37f1-4dc3-98de-808c887b7378"
   },
   "outputs": [
    {
     "data": {
      "text/plain": [
       "[PhysicalDevice(name='/physical_device:GPU:0', device_type='GPU')]"
      ]
     },
     "execution_count": 2,
     "metadata": {},
     "output_type": "execute_result"
    }
   ],
   "source": [
    "tf.config.experimental.list_physical_devices('GPU')"
   ]
  },
  {
   "cell_type": "markdown",
   "id": "3ec05ea5-1f4b-4f87-b607-5a2875a9c098",
   "metadata": {
    "id": "3ec05ea5-1f4b-4f87-b607-5a2875a9c098"
   },
   "source": [
    "### 지난강의 보충 "
   ]
  },
  {
   "cell_type": "markdown",
   "id": "6bbceca4-6409-4b7c-8806-a81f7734d0ef",
   "metadata": {
    "id": "6bbceca4-6409-4b7c-8806-a81f7734d0ef"
   },
   "source": [
    "`-` max, min, sum, mean "
   ]
  },
  {
   "cell_type": "code",
   "execution_count": 4,
   "id": "3377d59b-2987-4282-9367-c0c515011ce9",
   "metadata": {},
   "outputs": [
    {
     "data": {
      "text/plain": [
       "<tf.Tensor: shape=(4,), dtype=float32, numpy=array([1., 2., 3., 4.], dtype=float32)>"
      ]
     },
     "execution_count": 4,
     "metadata": {},
     "output_type": "execute_result"
    }
   ],
   "source": [
    "a = tf.constant([1.0,2.0,3.0,4.0])\n",
    "a"
   ]
  },
  {
   "cell_type": "code",
   "execution_count": 5,
   "id": "71d6fac5-c924-4bcb-877e-641c41a1a3e7",
   "metadata": {},
   "outputs": [
    {
     "data": {
      "text/plain": [
       "<tf.Tensor: shape=(), dtype=float32, numpy=4.0>"
      ]
     },
     "execution_count": 5,
     "metadata": {},
     "output_type": "execute_result"
    }
   ],
   "source": [
    "max(a)"
   ]
  },
  {
   "cell_type": "code",
   "execution_count": 8,
   "id": "07afc75c-2303-4155-bb8d-d2a91afd937f",
   "metadata": {},
   "outputs": [
    {
     "data": {
      "text/plain": [
       "<tf.Tensor: shape=(), dtype=float32, numpy=1.0>"
      ]
     },
     "execution_count": 8,
     "metadata": {},
     "output_type": "execute_result"
    }
   ],
   "source": [
    "min(a)"
   ]
  },
  {
   "cell_type": "code",
   "execution_count": 9,
   "id": "c3706b22-9fd2-45de-8184-ecdd567f4af1",
   "metadata": {},
   "outputs": [
    {
     "ename": "NameError",
     "evalue": "name 'mean' is not defined",
     "output_type": "error",
     "traceback": [
      "\u001b[0;31m---------------------------------------------------------------------------\u001b[0m",
      "\u001b[0;31mNameError\u001b[0m                                 Traceback (most recent call last)",
      "Input \u001b[0;32mIn [9]\u001b[0m, in \u001b[0;36m<cell line: 1>\u001b[0;34m()\u001b[0m\n\u001b[0;32m----> 1\u001b[0m \u001b[43mmean\u001b[49m(a)\n",
      "\u001b[0;31mNameError\u001b[0m: name 'mean' is not defined"
     ]
    }
   ],
   "source": [
    "mean(a)"
   ]
  },
  {
   "cell_type": "markdown",
   "id": "ae1bdbaa-71b0-4e0a-a853-4aec93506371",
   "metadata": {},
   "source": [
    "는 오류남"
   ]
  },
  {
   "cell_type": "code",
   "execution_count": 10,
   "id": "0b5b5c65-755a-4c4d-b2e2-542f3bfb078f",
   "metadata": {},
   "outputs": [
    {
     "data": {
      "text/plain": [
       "<tf.Tensor: shape=(), dtype=float32, numpy=2.5>"
      ]
     },
     "execution_count": 10,
     "metadata": {},
     "output_type": "execute_result"
    }
   ],
   "source": [
    "tf.reduce_mean(a)"
   ]
  },
  {
   "cell_type": "markdown",
   "id": "e04eb402-ac38-4e56-b4ba-13a2fe18810a",
   "metadata": {},
   "source": [
    "소수점 추가해서 int를 float으로 바꿔~"
   ]
  },
  {
   "cell_type": "code",
   "execution_count": 11,
   "id": "9800c392-b32e-40b9-be3c-5dc44873824f",
   "metadata": {},
   "outputs": [
    {
     "data": {
      "text/plain": [
       "<tf.Tensor: shape=(), dtype=int32, numpy=2>"
      ]
     },
     "execution_count": 11,
     "metadata": {},
     "output_type": "execute_result"
    }
   ],
   "source": [
    "tf.reduce_mean(tf.constant([1,2,3,4]))"
   ]
  },
  {
   "cell_type": "markdown",
   "id": "a09d2fb1-95cf-4a87-9c10-b8eb81223282",
   "metadata": {},
   "source": [
    "int 자체에서 계산하면 평균이 2로 나옴"
   ]
  },
  {
   "cell_type": "markdown",
   "id": "3ad687e3-5d69-461e-8777-783fac561e75",
   "metadata": {},
   "source": [
    "나중에 tnp활용해서 numpy처럼 쓰자"
   ]
  },
  {
   "cell_type": "markdown",
   "id": "510e813f-c3de-44e1-967a-317a0e03ce9d",
   "metadata": {
    "id": "510e813f-c3de-44e1-967a-317a0e03ce9d"
   },
   "source": [
    "#### concat, stack "
   ]
  },
  {
   "cell_type": "markdown",
   "id": "9d2de5c8-10c4-4abe-bba4-b32979cb0f22",
   "metadata": {
    "id": "9d2de5c8-10c4-4abe-bba4-b32979cb0f22"
   },
   "source": [
    "`-` 예제: (2,3,4,5) stack (2,3,4,5) -> (?,?,?,?,?) "
   ]
  },
  {
   "cell_type": "code",
   "execution_count": 12,
   "id": "a98ec4d9-e4a6-4ede-94fe-4d6ddb5132bd",
   "metadata": {},
   "outputs": [],
   "source": [
    "a = tf.reshape(tf.constant(range(2*3*4*5)),(2,3,4,5))\n",
    "b = -a"
   ]
  },
  {
   "cell_type": "markdown",
   "id": "191591c3-29ff-4c33-bc0c-e0aaa4a05229",
   "metadata": {},
   "source": [
    "**case1** (1,2,3,4,5) stack (1,2,3,4,5) = (2,2,3,4,5) $\\rightarrow$ axis = 0\n",
    "- (2,3,4,5) =  (1,2,3,4,5)"
   ]
  },
  {
   "cell_type": "code",
   "execution_count": 13,
   "id": "840d8cf2-eaaf-44e2-bcd9-c07dc6990052",
   "metadata": {},
   "outputs": [
    {
     "data": {
      "text/plain": [
       "TensorShape([2, 2, 3, 4, 5])"
      ]
     },
     "execution_count": 13,
     "metadata": {},
     "output_type": "execute_result"
    }
   ],
   "source": [
    "tf.stack([a,b],axis=0).shape"
   ]
  },
  {
   "cell_type": "markdown",
   "id": "8a680af8-7b1f-4917-bd9a-3b2c3a6ed45d",
   "metadata": {},
   "source": [
    "**case2** (2,1,3,4,5) stack (2,1,3,4,5) = (2,2,3,4,5) $\\rightarrow$ axis = 1\n",
    "- 늘어나는 차원의 축을 몇 번째에 넣을 것인가.\n",
    "- (2,3,4,5) =  (2,1,3,4,5)"
   ]
  },
  {
   "cell_type": "code",
   "execution_count": 14,
   "id": "e5fd9904-436f-466e-9a0b-5d0ae4b470c8",
   "metadata": {},
   "outputs": [
    {
     "data": {
      "text/plain": [
       "TensorShape([2, 2, 3, 4, 5])"
      ]
     },
     "execution_count": 14,
     "metadata": {},
     "output_type": "execute_result"
    }
   ],
   "source": [
    "tf.stack([a,b],axis=1).shape"
   ]
  },
  {
   "cell_type": "markdown",
   "id": "cb4e236d-adb2-46da-a220-e35d9a4b970f",
   "metadata": {},
   "source": [
    "**case3** (2,3,1,4,5) stack (2,3,1,4,5) = (2,3,2,4,5) $\\rightarrow$ axis = 2\n",
    "- (2,3,4,5) =  (2,3,1,4,5)"
   ]
  },
  {
   "cell_type": "code",
   "execution_count": 15,
   "id": "cd7685b3-6b45-4189-ae2a-4d95bd747da1",
   "metadata": {},
   "outputs": [
    {
     "data": {
      "text/plain": [
       "TensorShape([2, 3, 2, 4, 5])"
      ]
     },
     "execution_count": 15,
     "metadata": {},
     "output_type": "execute_result"
    }
   ],
   "source": [
    "tf.stack([a,b],axis=2).shape"
   ]
  },
  {
   "cell_type": "markdown",
   "id": "1774f30f-3e4d-4c68-af06-b6354b16d925",
   "metadata": {},
   "source": [
    "**case4** (2,3,4,1,5) stack (2,3,4,1,5) = (2,3,4,2,5) $\\rightarrow$ axis = 3\n",
    "- (2,3,4,5) =  (2,3,4,1,5)"
   ]
  },
  {
   "cell_type": "code",
   "execution_count": 16,
   "id": "0863c600-6718-4947-afff-87f0dac2f690",
   "metadata": {},
   "outputs": [
    {
     "data": {
      "text/plain": [
       "TensorShape([2, 3, 4, 2, 5])"
      ]
     },
     "execution_count": 16,
     "metadata": {},
     "output_type": "execute_result"
    }
   ],
   "source": [
    "tf.stack([a,b],axis=3).shape"
   ]
  },
  {
   "cell_type": "markdown",
   "id": "bf4e3d51-10b6-4761-9325-d6a2b5619abe",
   "metadata": {},
   "source": [
    "**case5** (2,3,4,5,1) stack (2,3,4,5,1) = (2,3,4,5,2) $\\rightarrow$ axis = 4\n",
    "- (2,3,4,5) =  (2,3,4,5,1)"
   ]
  },
  {
   "cell_type": "code",
   "execution_count": 17,
   "id": "0efbff11-a188-495a-a79d-fb30808efa7a",
   "metadata": {},
   "outputs": [
    {
     "data": {
      "text/plain": [
       "TensorShape([2, 3, 4, 5, 2])"
      ]
     },
     "execution_count": 17,
     "metadata": {},
     "output_type": "execute_result"
    }
   ],
   "source": [
    "tf.stack([a,b],axis=-1).shape"
   ]
  },
  {
   "cell_type": "markdown",
   "id": "3c4ad96d-4709-44cd-aa7f-de7d1dc14c5d",
   "metadata": {
    "id": "3c4ad96d-4709-44cd-aa7f-de7d1dc14c5d"
   },
   "source": [
    "`-` 예제: (2,3,4), (2,3,4), (2,3,4)"
   ]
  },
  {
   "cell_type": "code",
   "execution_count": 7,
   "id": "89bd10b0-bafa-4d80-aee3-485a9d158865",
   "metadata": {},
   "outputs": [],
   "source": [
    "a = tf.reshape(tf.constant(range(2*3*4)),(2,3,4))\n",
    "b = -a\n",
    "c = 2*a"
   ]
  },
  {
   "cell_type": "markdown",
   "id": "263897e2-be5f-4eab-8852-d1fc1e136608",
   "metadata": {
    "id": "263897e2-be5f-4eab-8852-d1fc1e136608"
   },
   "source": [
    "(예시1) (2,3,4), (2,3,4), (2,3,4) $\\to$ (6,3,4) # 첫번째 축이 바뀐다는 뜻이지,\n",
    "- 차원이 같으니 stack 이 아니라 concat을 쓰자!"
   ]
  },
  {
   "cell_type": "code",
   "execution_count": 19,
   "id": "f1203197-63a9-49af-ac4a-8b2127b7dbf5",
   "metadata": {},
   "outputs": [
    {
     "data": {
      "text/plain": [
       "TensorShape([6, 3, 4])"
      ]
     },
     "execution_count": 19,
     "metadata": {},
     "output_type": "execute_result"
    }
   ],
   "source": [
    "tf.concat([a,b,c],axis=0).shape"
   ]
  },
  {
   "cell_type": "markdown",
   "id": "95f5ecd1-2f6a-4c15-ad44-4d5e8f8019eb",
   "metadata": {
    "id": "95f5ecd1-2f6a-4c15-ad44-4d5e8f8019eb"
   },
   "source": [
    "(예시2) (2,3,4), (2,3,4), (2,3,4) $\\to$ (2,9,4)"
   ]
  },
  {
   "cell_type": "code",
   "execution_count": 20,
   "id": "ac4ca51d-fee3-4053-90e7-3f559a58d4ea",
   "metadata": {},
   "outputs": [
    {
     "data": {
      "text/plain": [
       "TensorShape([2, 9, 4])"
      ]
     },
     "execution_count": 20,
     "metadata": {},
     "output_type": "execute_result"
    }
   ],
   "source": [
    "tf.concat([a,b,c],axis=1).shape"
   ]
  },
  {
   "cell_type": "markdown",
   "id": "a766b651-d3bd-41e7-af2f-0032b09e111b",
   "metadata": {
    "id": "a766b651-d3bd-41e7-af2f-0032b09e111b"
   },
   "source": [
    "(예시3) (2,3,4), (2,3,4), (2,3,4) $\\to$ (2,3,12)"
   ]
  },
  {
   "cell_type": "code",
   "execution_count": 21,
   "id": "2c81960c-1676-4123-a521-4e83db36f8eb",
   "metadata": {},
   "outputs": [
    {
     "data": {
      "text/plain": [
       "TensorShape([2, 3, 12])"
      ]
     },
     "execution_count": 21,
     "metadata": {},
     "output_type": "execute_result"
    }
   ],
   "source": [
    "tf.concat([a,b,c],axis=-1).shape"
   ]
  },
  {
   "cell_type": "markdown",
   "id": "1e5cd1cf-3218-4ea3-b301-9a343bdf4c18",
   "metadata": {
    "id": "1e5cd1cf-3218-4ea3-b301-9a343bdf4c18"
   },
   "source": [
    "(예시4) (2,3,4), (2,3,4), (2,3,4) $\\to$ (3,2,3,4) # 차원이 수정돼? stack을 쓰자\n",
    "- 차원 늘어난 거 첫번째로 놓고\n",
    "- 두 번째 자리에 축을 넣은 것으로 보자"
   ]
  },
  {
   "cell_type": "code",
   "execution_count": 8,
   "id": "c4c5879d-5c6c-470b-8530-4bd8b8a4a455",
   "metadata": {},
   "outputs": [
    {
     "data": {
      "text/plain": [
       "TensorShape([3, 2, 3, 4])"
      ]
     },
     "execution_count": 8,
     "metadata": {},
     "output_type": "execute_result"
    }
   ],
   "source": [
    "tf.stack([a,b,c],axis=0).shape"
   ]
  },
  {
   "cell_type": "markdown",
   "id": "a0a57709-7730-4719-8f60-6bc1f4d75e9c",
   "metadata": {
    "id": "a0a57709-7730-4719-8f60-6bc1f4d75e9c"
   },
   "source": [
    "(예시5) (2,3,4), (2,3,4), (2,3,4) $\\to$ (2,3,3,4)"
   ]
  },
  {
   "cell_type": "code",
   "execution_count": 9,
   "id": "4473c904-4eef-451d-8623-2939626dfcd5",
   "metadata": {},
   "outputs": [
    {
     "data": {
      "text/plain": [
       "TensorShape([2, 3, 3, 4])"
      ]
     },
     "execution_count": 9,
     "metadata": {},
     "output_type": "execute_result"
    }
   ],
   "source": [
    "tf.stack([a,b,c],axis=1).shape"
   ]
  },
  {
   "cell_type": "markdown",
   "id": "dacbc0ed-c2c5-4d75-a14d-4605c72ca672",
   "metadata": {
    "id": "dacbc0ed-c2c5-4d75-a14d-4605c72ca672"
   },
   "source": [
    "(예시6) (2,3,4), (2,3,4), (2,3,4) $\\to$ (2,3,3,4) "
   ]
  },
  {
   "cell_type": "code",
   "execution_count": 10,
   "id": "8d90b3ba-48da-4bf8-ba3c-3a1fe085f52e",
   "metadata": {},
   "outputs": [
    {
     "data": {
      "text/plain": [
       "TensorShape([2, 3, 3, 4])"
      ]
     },
     "execution_count": 10,
     "metadata": {},
     "output_type": "execute_result"
    }
   ],
   "source": [
    "tf.stack([a,b,c],axis=2).shape"
   ]
  },
  {
   "cell_type": "markdown",
   "id": "62e59896-b9b9-45d6-8c37-2a26d43ae6dd",
   "metadata": {
    "id": "62e59896-b9b9-45d6-8c37-2a26d43ae6dd"
   },
   "source": [
    "(예시7) (2,3,4), (2,3,4), (2,3,4) $\\to$ (2,3,4,3) "
   ]
  },
  {
   "cell_type": "code",
   "execution_count": 11,
   "id": "7389a055-2b52-402a-be79-85112ab00183",
   "metadata": {},
   "outputs": [
    {
     "data": {
      "text/plain": [
       "TensorShape([2, 3, 4, 3])"
      ]
     },
     "execution_count": 11,
     "metadata": {},
     "output_type": "execute_result"
    }
   ],
   "source": [
    "tf.stack([a,b,c],axis=-1).shape"
   ]
  },
  {
   "cell_type": "markdown",
   "id": "3f6939a1-c76b-4c03-b11e-7f76281a168a",
   "metadata": {
    "id": "3f6939a1-c76b-4c03-b11e-7f76281a168a"
   },
   "source": [
    "`-` 예제: (2,3,4) (4,3,4) $\\to$ (6,3,4) \n",
    "- 차원 두 개, concat쓰자"
   ]
  },
  {
   "cell_type": "code",
   "execution_count": 26,
   "id": "52476f62-3a38-4af3-9253-288ee82f29b4",
   "metadata": {},
   "outputs": [],
   "source": [
    "a = tf.reshape(tf.constant(range(2*3*4)),(2,3,4))\n",
    "b = tf.reshape(-tf.constant(range(4*3*4)),(4,3,4))"
   ]
  },
  {
   "cell_type": "code",
   "execution_count": 27,
   "id": "5c69a258-41bd-4b69-9630-88c298014958",
   "metadata": {},
   "outputs": [
    {
     "data": {
      "text/plain": [
       "TensorShape([2, 3, 4])"
      ]
     },
     "execution_count": 27,
     "metadata": {},
     "output_type": "execute_result"
    }
   ],
   "source": [
    "a.shape"
   ]
  },
  {
   "cell_type": "code",
   "execution_count": 28,
   "id": "5a415e1b-b77b-477e-87a7-a9d6856182aa",
   "metadata": {},
   "outputs": [
    {
     "data": {
      "text/plain": [
       "TensorShape([4, 3, 4])"
      ]
     },
     "execution_count": 28,
     "metadata": {},
     "output_type": "execute_result"
    }
   ],
   "source": [
    "b.shape"
   ]
  },
  {
   "cell_type": "code",
   "execution_count": 29,
   "id": "d88d5e0f-c458-4321-8f7a-b6ffe8cfbb79",
   "metadata": {},
   "outputs": [
    {
     "data": {
      "text/plain": [
       "TensorShape([6, 3, 4])"
      ]
     },
     "execution_count": 29,
     "metadata": {},
     "output_type": "execute_result"
    }
   ],
   "source": [
    "tf.concat([a,b],axis=0).shape"
   ]
  },
  {
   "cell_type": "code",
   "execution_count": 30,
   "id": "65abe394-712d-44e4-a377-30386e6f2847",
   "metadata": {},
   "outputs": [
    {
     "ename": "InvalidArgumentError",
     "evalue": "ConcatOp : Dimensions of inputs should match: shape[0] = [2,3,4] vs. shape[1] = [4,3,4] [Op:ConcatV2] name: concat",
     "output_type": "error",
     "traceback": [
      "\u001b[0;31m---------------------------------------------------------------------------\u001b[0m",
      "\u001b[0;31mInvalidArgumentError\u001b[0m                      Traceback (most recent call last)",
      "Input \u001b[0;32mIn [30]\u001b[0m, in \u001b[0;36m<cell line: 1>\u001b[0;34m()\u001b[0m\n\u001b[0;32m----> 1\u001b[0m \u001b[43mtf\u001b[49m\u001b[38;5;241;43m.\u001b[39;49m\u001b[43mconcat\u001b[49m\u001b[43m(\u001b[49m\u001b[43m[\u001b[49m\u001b[43ma\u001b[49m\u001b[43m,\u001b[49m\u001b[43mb\u001b[49m\u001b[43m]\u001b[49m\u001b[43m,\u001b[49m\u001b[43maxis\u001b[49m\u001b[38;5;241;43m=\u001b[39;49m\u001b[38;5;241;43m1\u001b[39;49m\u001b[43m)\u001b[49m\u001b[38;5;241m.\u001b[39mshape\n",
      "File \u001b[0;32m~/anaconda3/envs/stbda2022/lib/python3.10/site-packages/tensorflow/python/util/traceback_utils.py:153\u001b[0m, in \u001b[0;36mfilter_traceback.<locals>.error_handler\u001b[0;34m(*args, **kwargs)\u001b[0m\n\u001b[1;32m    151\u001b[0m \u001b[38;5;28;01mexcept\u001b[39;00m \u001b[38;5;167;01mException\u001b[39;00m \u001b[38;5;28;01mas\u001b[39;00m e:\n\u001b[1;32m    152\u001b[0m   filtered_tb \u001b[38;5;241m=\u001b[39m _process_traceback_frames(e\u001b[38;5;241m.\u001b[39m__traceback__)\n\u001b[0;32m--> 153\u001b[0m   \u001b[38;5;28;01mraise\u001b[39;00m e\u001b[38;5;241m.\u001b[39mwith_traceback(filtered_tb) \u001b[38;5;28;01mfrom\u001b[39;00m \u001b[38;5;28mNone\u001b[39m\n\u001b[1;32m    154\u001b[0m \u001b[38;5;28;01mfinally\u001b[39;00m:\n\u001b[1;32m    155\u001b[0m   \u001b[38;5;28;01mdel\u001b[39;00m filtered_tb\n",
      "File \u001b[0;32m~/anaconda3/envs/stbda2022/lib/python3.10/site-packages/tensorflow/python/framework/ops.py:7107\u001b[0m, in \u001b[0;36mraise_from_not_ok_status\u001b[0;34m(e, name)\u001b[0m\n\u001b[1;32m   7105\u001b[0m \u001b[38;5;28;01mdef\u001b[39;00m \u001b[38;5;21mraise_from_not_ok_status\u001b[39m(e, name):\n\u001b[1;32m   7106\u001b[0m   e\u001b[38;5;241m.\u001b[39mmessage \u001b[38;5;241m+\u001b[39m\u001b[38;5;241m=\u001b[39m (\u001b[38;5;124m\"\u001b[39m\u001b[38;5;124m name: \u001b[39m\u001b[38;5;124m\"\u001b[39m \u001b[38;5;241m+\u001b[39m name \u001b[38;5;28;01mif\u001b[39;00m name \u001b[38;5;129;01mis\u001b[39;00m \u001b[38;5;129;01mnot\u001b[39;00m \u001b[38;5;28;01mNone\u001b[39;00m \u001b[38;5;28;01melse\u001b[39;00m \u001b[38;5;124m\"\u001b[39m\u001b[38;5;124m\"\u001b[39m)\n\u001b[0;32m-> 7107\u001b[0m   \u001b[38;5;28;01mraise\u001b[39;00m core\u001b[38;5;241m.\u001b[39m_status_to_exception(e) \u001b[38;5;28;01mfrom\u001b[39;00m \u001b[38;5;28mNone\u001b[39m\n",
      "\u001b[0;31mInvalidArgumentError\u001b[0m: ConcatOp : Dimensions of inputs should match: shape[0] = [2,3,4] vs. shape[1] = [4,3,4] [Op:ConcatV2] name: concat"
     ]
    }
   ],
   "source": [
    "tf.concat([a,b],axis=1).shape"
   ]
  },
  {
   "cell_type": "markdown",
   "id": "a69a9368-4355-4c6e-8717-09ab9c5bbeee",
   "metadata": {},
   "source": [
    "axis=1이면 두번째 축 기준인데 (**2**,3,**4**)하고 (**4**,3,**4**) 2,4/4,4의 차원이 같지 않잖아"
   ]
  },
  {
   "cell_type": "code",
   "execution_count": 31,
   "id": "99d6fdaf-c0ea-40f8-ae73-c5ac80675210",
   "metadata": {},
   "outputs": [
    {
     "ename": "InvalidArgumentError",
     "evalue": "ConcatOp : Dimensions of inputs should match: shape[0] = [2,3,4] vs. shape[1] = [4,3,4] [Op:ConcatV2] name: concat",
     "output_type": "error",
     "traceback": [
      "\u001b[0;31m---------------------------------------------------------------------------\u001b[0m",
      "\u001b[0;31mInvalidArgumentError\u001b[0m                      Traceback (most recent call last)",
      "Input \u001b[0;32mIn [31]\u001b[0m, in \u001b[0;36m<cell line: 1>\u001b[0;34m()\u001b[0m\n\u001b[0;32m----> 1\u001b[0m \u001b[43mtf\u001b[49m\u001b[38;5;241;43m.\u001b[39;49m\u001b[43mconcat\u001b[49m\u001b[43m(\u001b[49m\u001b[43m[\u001b[49m\u001b[43ma\u001b[49m\u001b[43m,\u001b[49m\u001b[43mb\u001b[49m\u001b[43m]\u001b[49m\u001b[43m,\u001b[49m\u001b[43maxis\u001b[49m\u001b[38;5;241;43m=\u001b[39;49m\u001b[38;5;241;43m2\u001b[39;49m\u001b[43m)\u001b[49m\u001b[38;5;241m.\u001b[39mshape\n",
      "File \u001b[0;32m~/anaconda3/envs/stbda2022/lib/python3.10/site-packages/tensorflow/python/util/traceback_utils.py:153\u001b[0m, in \u001b[0;36mfilter_traceback.<locals>.error_handler\u001b[0;34m(*args, **kwargs)\u001b[0m\n\u001b[1;32m    151\u001b[0m \u001b[38;5;28;01mexcept\u001b[39;00m \u001b[38;5;167;01mException\u001b[39;00m \u001b[38;5;28;01mas\u001b[39;00m e:\n\u001b[1;32m    152\u001b[0m   filtered_tb \u001b[38;5;241m=\u001b[39m _process_traceback_frames(e\u001b[38;5;241m.\u001b[39m__traceback__)\n\u001b[0;32m--> 153\u001b[0m   \u001b[38;5;28;01mraise\u001b[39;00m e\u001b[38;5;241m.\u001b[39mwith_traceback(filtered_tb) \u001b[38;5;28;01mfrom\u001b[39;00m \u001b[38;5;28mNone\u001b[39m\n\u001b[1;32m    154\u001b[0m \u001b[38;5;28;01mfinally\u001b[39;00m:\n\u001b[1;32m    155\u001b[0m   \u001b[38;5;28;01mdel\u001b[39;00m filtered_tb\n",
      "File \u001b[0;32m~/anaconda3/envs/stbda2022/lib/python3.10/site-packages/tensorflow/python/framework/ops.py:7107\u001b[0m, in \u001b[0;36mraise_from_not_ok_status\u001b[0;34m(e, name)\u001b[0m\n\u001b[1;32m   7105\u001b[0m \u001b[38;5;28;01mdef\u001b[39;00m \u001b[38;5;21mraise_from_not_ok_status\u001b[39m(e, name):\n\u001b[1;32m   7106\u001b[0m   e\u001b[38;5;241m.\u001b[39mmessage \u001b[38;5;241m+\u001b[39m\u001b[38;5;241m=\u001b[39m (\u001b[38;5;124m\"\u001b[39m\u001b[38;5;124m name: \u001b[39m\u001b[38;5;124m\"\u001b[39m \u001b[38;5;241m+\u001b[39m name \u001b[38;5;28;01mif\u001b[39;00m name \u001b[38;5;129;01mis\u001b[39;00m \u001b[38;5;129;01mnot\u001b[39;00m \u001b[38;5;28;01mNone\u001b[39;00m \u001b[38;5;28;01melse\u001b[39;00m \u001b[38;5;124m\"\u001b[39m\u001b[38;5;124m\"\u001b[39m)\n\u001b[0;32m-> 7107\u001b[0m   \u001b[38;5;28;01mraise\u001b[39;00m core\u001b[38;5;241m.\u001b[39m_status_to_exception(e) \u001b[38;5;28;01mfrom\u001b[39;00m \u001b[38;5;28mNone\u001b[39m\n",
      "\u001b[0;31mInvalidArgumentError\u001b[0m: ConcatOp : Dimensions of inputs should match: shape[0] = [2,3,4] vs. shape[1] = [4,3,4] [Op:ConcatV2] name: concat"
     ]
    }
   ],
   "source": [
    "tf.concat([a,b],axis=2).shape"
   ]
  },
  {
   "cell_type": "markdown",
   "id": "58e554e9-be13-4d1b-be6a-fa8749dcc580",
   "metadata": {},
   "source": [
    "axis=2이면 세번째 축 기준인데 (**2**,**3**,4)하고 (**4**,**3**,4) 2,3/4,3의 차원이 같지 않잖아"
   ]
  },
  {
   "cell_type": "markdown",
   "id": "23e87ec7-19c5-4dee-ae08-d6bf7c659134",
   "metadata": {},
   "source": [
    "차원이 다르기 때문에 에러가 뜬다."
   ]
  },
  {
   "cell_type": "markdown",
   "id": "1b5c6f53-0c20-4891-b4aa-f4f4ab5a28e5",
   "metadata": {
    "id": "1b5c6f53-0c20-4891-b4aa-f4f4ab5a28e5",
    "tags": []
   },
   "source": [
    "`-` (2,2) @ (2,) 의 연산? "
   ]
  },
  {
   "cell_type": "markdown",
   "id": "79ef372b-f0e8-4aa9-9c6e-9240815c4c81",
   "metadata": {},
   "source": [
    "**numpy**"
   ]
  },
  {
   "cell_type": "code",
   "execution_count": 38,
   "id": "b95365c6-0d7f-4fbe-a9ba-b7f18f654bec",
   "metadata": {},
   "outputs": [
    {
     "data": {
      "text/plain": [
       "array([ 77, -88])"
      ]
     },
     "execution_count": 38,
     "metadata": {},
     "output_type": "execute_result"
    }
   ],
   "source": [
    "np.array([[1,0],[0,1]]) @ np.array([77,-88])"
   ]
  },
  {
   "cell_type": "code",
   "execution_count": 39,
   "id": "c3ed5163-5d1a-4e33-93c6-4b571796b815",
   "metadata": {},
   "outputs": [
    {
     "data": {
      "text/plain": [
       "array([ 77, -88])"
      ]
     },
     "execution_count": 39,
     "metadata": {},
     "output_type": "execute_result"
    }
   ],
   "source": [
    "np.array([77,-88]) @ np.array([[1,0],[0,1]])"
   ]
  },
  {
   "cell_type": "markdown",
   "id": "9b98becd-6597-44e0-b0cb-51c6dbb1a66b",
   "metadata": {},
   "source": [
    "(2,)는 길이가 2일 벡터일 뿐이니까 알아서 행이나 열 행렬로 인식해서 계산한다."
   ]
  },
  {
   "cell_type": "code",
   "execution_count": 40,
   "id": "27d39ceb-96b4-4cad-a643-6bd6f3c849d4",
   "metadata": {},
   "outputs": [
    {
     "data": {
      "text/plain": [
       "array([[ 77],\n",
       "       [-88]])"
      ]
     },
     "execution_count": 40,
     "metadata": {},
     "output_type": "execute_result"
    }
   ],
   "source": [
    "np.array([[1,0],[0,1]]) @ np.array([77,-88]).reshape(2,1)"
   ]
  },
  {
   "cell_type": "code",
   "execution_count": 27,
   "id": "afc3f8e8-8fbf-4147-a4d5-a05ba977283f",
   "metadata": {},
   "outputs": [
    {
     "data": {
      "text/plain": [
       "array([[ 77, -88]])"
      ]
     },
     "execution_count": 27,
     "metadata": {},
     "output_type": "execute_result"
    }
   ],
   "source": [
    " np.array([77,-88]).reshape(1,2) @ np.array([[1,0],[0,1]])"
   ]
  },
  {
   "cell_type": "code",
   "execution_count": 41,
   "id": "a574259f-09e6-4dfb-8a27-9adbdc26d609",
   "metadata": {},
   "outputs": [
    {
     "ename": "ValueError",
     "evalue": "matmul: Input operand 1 has a mismatch in its core dimension 0, with gufunc signature (n?,k),(k,m?)->(n?,m?) (size 2 is different from 1)",
     "output_type": "error",
     "traceback": [
      "\u001b[0;31m---------------------------------------------------------------------------\u001b[0m",
      "\u001b[0;31mValueError\u001b[0m                                Traceback (most recent call last)",
      "Input \u001b[0;32mIn [41]\u001b[0m, in \u001b[0;36m<cell line: 1>\u001b[0;34m()\u001b[0m\n\u001b[0;32m----> 1\u001b[0m \u001b[43mnp\u001b[49m\u001b[38;5;241;43m.\u001b[39;49m\u001b[43marray\u001b[49m\u001b[43m(\u001b[49m\u001b[43m[\u001b[49m\u001b[38;5;241;43m77\u001b[39;49m\u001b[43m,\u001b[49m\u001b[38;5;241;43m-\u001b[39;49m\u001b[38;5;241;43m88\u001b[39;49m\u001b[43m]\u001b[49m\u001b[43m)\u001b[49m\u001b[38;5;241;43m.\u001b[39;49m\u001b[43mreshape\u001b[49m\u001b[43m(\u001b[49m\u001b[38;5;241;43m2\u001b[39;49m\u001b[43m,\u001b[49m\u001b[38;5;241;43m1\u001b[39;49m\u001b[43m)\u001b[49m\u001b[43m \u001b[49m\u001b[38;5;241;43m@\u001b[39;49m\u001b[43m \u001b[49m\u001b[43mnp\u001b[49m\u001b[38;5;241;43m.\u001b[39;49m\u001b[43marray\u001b[49m\u001b[43m(\u001b[49m\u001b[43m[\u001b[49m\u001b[43m[\u001b[49m\u001b[38;5;241;43m1\u001b[39;49m\u001b[43m,\u001b[49m\u001b[38;5;241;43m0\u001b[39;49m\u001b[43m]\u001b[49m\u001b[43m,\u001b[49m\u001b[43m[\u001b[49m\u001b[38;5;241;43m0\u001b[39;49m\u001b[43m,\u001b[49m\u001b[38;5;241;43m1\u001b[39;49m\u001b[43m]\u001b[49m\u001b[43m]\u001b[49m\u001b[43m)\u001b[49m\n",
      "\u001b[0;31mValueError\u001b[0m: matmul: Input operand 1 has a mismatch in its core dimension 0, with gufunc signature (n?,k),(k,m?)->(n?,m?) (size 2 is different from 1)"
     ]
    }
   ],
   "source": [
    " np.array([77,-88]).reshape(2,1) @ np.array([[1,0],[0,1]])"
   ]
  },
  {
   "cell_type": "markdown",
   "id": "2eb7b651-7097-4e72-b960-c74a792718d2",
   "metadata": {},
   "source": [
    "(2,1)로 사이즈를 명시해주고 계산하면 에러가 뜬다.\n",
    "- $(2,1) \\times (2,2)$"
   ]
  },
  {
   "cell_type": "code",
   "execution_count": 42,
   "id": "82cc9d3d-6e9e-47c7-b12b-62190cbe8d4c",
   "metadata": {},
   "outputs": [
    {
     "data": {
      "text/plain": [
       "array([[ 77],\n",
       "       [-88]])"
      ]
     },
     "execution_count": 42,
     "metadata": {},
     "output_type": "execute_result"
    }
   ],
   "source": [
    "np.array([77,-88]).reshape(2,1)"
   ]
  },
  {
   "cell_type": "code",
   "execution_count": 43,
   "id": "53dd6770-382c-413f-8ccd-f59d15431e90",
   "metadata": {},
   "outputs": [
    {
     "data": {
      "text/plain": [
       "array([[1, 0],\n",
       "       [0, 1]])"
      ]
     },
     "execution_count": 43,
     "metadata": {},
     "output_type": "execute_result"
    }
   ],
   "source": [
    "np.array([[1,0],[0,1]])"
   ]
  },
  {
   "cell_type": "code",
   "execution_count": 44,
   "id": "8b921a46-2197-404d-9e9c-8d598485ae01",
   "metadata": {},
   "outputs": [
    {
     "data": {
      "text/plain": [
       "array([[ 77, -88]])"
      ]
     },
     "execution_count": 44,
     "metadata": {},
     "output_type": "execute_result"
    }
   ],
   "source": [
    "np.array([77,-88]).reshape(1,2) @ np.array([[1,0],[0,1]])"
   ]
  },
  {
   "cell_type": "markdown",
   "id": "e6a3bac2-7b1e-4b66-a09b-e85eea2b6572",
   "metadata": {},
   "source": [
    "tf.constant는 행, 열 구분 후 알아서 계산해주지 않는다."
   ]
  },
  {
   "cell_type": "markdown",
   "id": "21386286-1fcd-4f3a-a152-c6c11b313645",
   "metadata": {},
   "source": [
    "**tensorflow**"
   ]
  },
  {
   "cell_type": "code",
   "execution_count": 5,
   "id": "5ca347a0-21d5-4706-bde0-cde51f3e2352",
   "metadata": {},
   "outputs": [],
   "source": [
    "I = tf.constant([[1.0,0.0],[0.0,1.0]])\n",
    "x = tf.constant([77.0,-88.0])"
   ]
  },
  {
   "cell_type": "code",
   "execution_count": 4,
   "id": "8bc981a7-460b-426e-9342-db363aa25ecb",
   "metadata": {},
   "outputs": [
    {
     "ename": "InvalidArgumentError",
     "evalue": "In[0] and In[1] has different ndims: [2] vs. [2,2] [Op:MatMul]",
     "output_type": "error",
     "traceback": [
      "\u001b[0;31m---------------------------------------------------------------------------\u001b[0m",
      "\u001b[0;31mInvalidArgumentError\u001b[0m                      Traceback (most recent call last)",
      "Input \u001b[0;32mIn [4]\u001b[0m, in \u001b[0;36m<cell line: 1>\u001b[0;34m()\u001b[0m\n\u001b[0;32m----> 1\u001b[0m \u001b[43mx\u001b[49m\u001b[43m \u001b[49m\u001b[38;5;241;43m@\u001b[39;49m\u001b[43m \u001b[49m\u001b[43mI\u001b[49m\n",
      "File \u001b[0;32m~/anaconda3/envs/stbda2022/lib/python3.10/site-packages/tensorflow/python/util/traceback_utils.py:153\u001b[0m, in \u001b[0;36mfilter_traceback.<locals>.error_handler\u001b[0;34m(*args, **kwargs)\u001b[0m\n\u001b[1;32m    151\u001b[0m \u001b[38;5;28;01mexcept\u001b[39;00m \u001b[38;5;167;01mException\u001b[39;00m \u001b[38;5;28;01mas\u001b[39;00m e:\n\u001b[1;32m    152\u001b[0m   filtered_tb \u001b[38;5;241m=\u001b[39m _process_traceback_frames(e\u001b[38;5;241m.\u001b[39m__traceback__)\n\u001b[0;32m--> 153\u001b[0m   \u001b[38;5;28;01mraise\u001b[39;00m e\u001b[38;5;241m.\u001b[39mwith_traceback(filtered_tb) \u001b[38;5;28;01mfrom\u001b[39;00m \u001b[38;5;28mNone\u001b[39m\n\u001b[1;32m    154\u001b[0m \u001b[38;5;28;01mfinally\u001b[39;00m:\n\u001b[1;32m    155\u001b[0m   \u001b[38;5;28;01mdel\u001b[39;00m filtered_tb\n",
      "File \u001b[0;32m~/anaconda3/envs/stbda2022/lib/python3.10/site-packages/tensorflow/python/framework/ops.py:7107\u001b[0m, in \u001b[0;36mraise_from_not_ok_status\u001b[0;34m(e, name)\u001b[0m\n\u001b[1;32m   7105\u001b[0m \u001b[38;5;28;01mdef\u001b[39;00m \u001b[38;5;21mraise_from_not_ok_status\u001b[39m(e, name):\n\u001b[1;32m   7106\u001b[0m   e\u001b[38;5;241m.\u001b[39mmessage \u001b[38;5;241m+\u001b[39m\u001b[38;5;241m=\u001b[39m (\u001b[38;5;124m\"\u001b[39m\u001b[38;5;124m name: \u001b[39m\u001b[38;5;124m\"\u001b[39m \u001b[38;5;241m+\u001b[39m name \u001b[38;5;28;01mif\u001b[39;00m name \u001b[38;5;129;01mis\u001b[39;00m \u001b[38;5;129;01mnot\u001b[39;00m \u001b[38;5;28;01mNone\u001b[39;00m \u001b[38;5;28;01melse\u001b[39;00m \u001b[38;5;124m\"\u001b[39m\u001b[38;5;124m\"\u001b[39m)\n\u001b[0;32m-> 7107\u001b[0m   \u001b[38;5;28;01mraise\u001b[39;00m core\u001b[38;5;241m.\u001b[39m_status_to_exception(e) \u001b[38;5;28;01mfrom\u001b[39;00m \u001b[38;5;28mNone\u001b[39m\n",
      "\u001b[0;31mInvalidArgumentError\u001b[0m: In[0] and In[1] has different ndims: [2] vs. [2,2] [Op:MatMul]"
     ]
    }
   ],
   "source": [
    "x @ I"
   ]
  },
  {
   "cell_type": "code",
   "execution_count": 6,
   "id": "f51b76b8-cec5-497f-b80a-2b60297fc42a",
   "metadata": {},
   "outputs": [
    {
     "ename": "InvalidArgumentError",
     "evalue": "In[0] and In[1] has different ndims: [2,2] vs. [2] [Op:MatMul]",
     "output_type": "error",
     "traceback": [
      "\u001b[0;31m---------------------------------------------------------------------------\u001b[0m",
      "\u001b[0;31mInvalidArgumentError\u001b[0m                      Traceback (most recent call last)",
      "Input \u001b[0;32mIn [6]\u001b[0m, in \u001b[0;36m<cell line: 1>\u001b[0;34m()\u001b[0m\n\u001b[0;32m----> 1\u001b[0m \u001b[43mI\u001b[49m\u001b[43m \u001b[49m\u001b[38;5;241;43m@\u001b[39;49m\u001b[43m \u001b[49m\u001b[43mx\u001b[49m\n",
      "File \u001b[0;32m~/anaconda3/envs/stbda2022/lib/python3.10/site-packages/tensorflow/python/util/traceback_utils.py:153\u001b[0m, in \u001b[0;36mfilter_traceback.<locals>.error_handler\u001b[0;34m(*args, **kwargs)\u001b[0m\n\u001b[1;32m    151\u001b[0m \u001b[38;5;28;01mexcept\u001b[39;00m \u001b[38;5;167;01mException\u001b[39;00m \u001b[38;5;28;01mas\u001b[39;00m e:\n\u001b[1;32m    152\u001b[0m   filtered_tb \u001b[38;5;241m=\u001b[39m _process_traceback_frames(e\u001b[38;5;241m.\u001b[39m__traceback__)\n\u001b[0;32m--> 153\u001b[0m   \u001b[38;5;28;01mraise\u001b[39;00m e\u001b[38;5;241m.\u001b[39mwith_traceback(filtered_tb) \u001b[38;5;28;01mfrom\u001b[39;00m \u001b[38;5;28mNone\u001b[39m\n\u001b[1;32m    154\u001b[0m \u001b[38;5;28;01mfinally\u001b[39;00m:\n\u001b[1;32m    155\u001b[0m   \u001b[38;5;28;01mdel\u001b[39;00m filtered_tb\n",
      "File \u001b[0;32m~/anaconda3/envs/stbda2022/lib/python3.10/site-packages/tensorflow/python/framework/ops.py:7107\u001b[0m, in \u001b[0;36mraise_from_not_ok_status\u001b[0;34m(e, name)\u001b[0m\n\u001b[1;32m   7105\u001b[0m \u001b[38;5;28;01mdef\u001b[39;00m \u001b[38;5;21mraise_from_not_ok_status\u001b[39m(e, name):\n\u001b[1;32m   7106\u001b[0m   e\u001b[38;5;241m.\u001b[39mmessage \u001b[38;5;241m+\u001b[39m\u001b[38;5;241m=\u001b[39m (\u001b[38;5;124m\"\u001b[39m\u001b[38;5;124m name: \u001b[39m\u001b[38;5;124m\"\u001b[39m \u001b[38;5;241m+\u001b[39m name \u001b[38;5;28;01mif\u001b[39;00m name \u001b[38;5;129;01mis\u001b[39;00m \u001b[38;5;129;01mnot\u001b[39;00m \u001b[38;5;28;01mNone\u001b[39;00m \u001b[38;5;28;01melse\u001b[39;00m \u001b[38;5;124m\"\u001b[39m\u001b[38;5;124m\"\u001b[39m)\n\u001b[0;32m-> 7107\u001b[0m   \u001b[38;5;28;01mraise\u001b[39;00m core\u001b[38;5;241m.\u001b[39m_status_to_exception(e) \u001b[38;5;28;01mfrom\u001b[39;00m \u001b[38;5;28mNone\u001b[39m\n",
      "\u001b[0;31mInvalidArgumentError\u001b[0m: In[0] and In[1] has different ndims: [2,2] vs. [2] [Op:MatMul]"
     ]
    }
   ],
   "source": [
    "I @ x"
   ]
  },
  {
   "cell_type": "code",
   "execution_count": 7,
   "id": "8658796f-0bf5-4dfd-b333-bfd1e3ca25be",
   "metadata": {},
   "outputs": [
    {
     "data": {
      "text/plain": [
       "<tf.Tensor: shape=(2,), dtype=float32, numpy=array([ 77., -88.], dtype=float32)>"
      ]
     },
     "execution_count": 7,
     "metadata": {},
     "output_type": "execute_result"
    }
   ],
   "source": [
    "x"
   ]
  },
  {
   "cell_type": "code",
   "execution_count": 8,
   "id": "74c8ae4a-06d8-4364-9a2a-2cf44ad4bfa3",
   "metadata": {},
   "outputs": [
    {
     "data": {
      "text/plain": [
       "<tf.Tensor: shape=(2, 2), dtype=float32, numpy=\n",
       "array([[1., 0.],\n",
       "       [0., 1.]], dtype=float32)>"
      ]
     },
     "execution_count": 8,
     "metadata": {},
     "output_type": "execute_result"
    }
   ],
   "source": [
    "I"
   ]
  },
  {
   "cell_type": "code",
   "execution_count": 9,
   "id": "e1adb3e1-a436-42ea-94a1-f320f5229db1",
   "metadata": {},
   "outputs": [
    {
     "data": {
      "text/plain": [
       "<function tensorflow.python.ops.array_ops.reshape(tensor, shape, name=None)>"
      ]
     },
     "execution_count": 9,
     "metadata": {},
     "output_type": "execute_result"
    }
   ],
   "source": [
    "tf.reshape"
   ]
  },
  {
   "cell_type": "code",
   "execution_count": 10,
   "id": "ff608925-2183-436f-becc-159968a8d211",
   "metadata": {},
   "outputs": [
    {
     "data": {
      "text/plain": [
       "<tf.Tensor: shape=(2,), dtype=float32, numpy=array([ 77., -88.], dtype=float32)>"
      ]
     },
     "execution_count": 10,
     "metadata": {},
     "output_type": "execute_result"
    }
   ],
   "source": [
    "tf.reshape(x,-1)"
   ]
  },
  {
   "cell_type": "code",
   "execution_count": 11,
   "id": "b3851e7e-6d4c-4651-b978-723ebbda775d",
   "metadata": {},
   "outputs": [
    {
     "data": {
      "text/plain": [
       "<tf.Tensor: shape=(2, 1), dtype=float32, numpy=\n",
       "array([[ 77.],\n",
       "       [-88.]], dtype=float32)>"
      ]
     },
     "execution_count": 11,
     "metadata": {},
     "output_type": "execute_result"
    }
   ],
   "source": [
    "I @ tf.reshape(x,(2,1))"
   ]
  },
  {
   "cell_type": "code",
   "execution_count": 14,
   "id": "a350fe7f-92a3-4eae-b125-37a07c527592",
   "metadata": {},
   "outputs": [
    {
     "data": {
      "text/plain": [
       "<tf.Tensor: shape=(1, 2), dtype=float32, numpy=array([[ 77., -88.]], dtype=float32)>"
      ]
     },
     "execution_count": 14,
     "metadata": {},
     "output_type": "execute_result"
    }
   ],
   "source": [
    "tf.reshape(x,(1,2)) @ I"
   ]
  },
  {
   "cell_type": "code",
   "execution_count": 13,
   "id": "6667d572-7de7-4690-923a-bc58bb3cde70",
   "metadata": {},
   "outputs": [
    {
     "ename": "InvalidArgumentError",
     "evalue": "Matrix size-incompatible: In[0]: [2,1], In[1]: [2,2] [Op:MatMul]",
     "output_type": "error",
     "traceback": [
      "\u001b[0;31m---------------------------------------------------------------------------\u001b[0m",
      "\u001b[0;31mInvalidArgumentError\u001b[0m                      Traceback (most recent call last)",
      "Input \u001b[0;32mIn [13]\u001b[0m, in \u001b[0;36m<cell line: 1>\u001b[0;34m()\u001b[0m\n\u001b[0;32m----> 1\u001b[0m \u001b[43mtf\u001b[49m\u001b[38;5;241;43m.\u001b[39;49m\u001b[43mreshape\u001b[49m\u001b[43m(\u001b[49m\u001b[43mx\u001b[49m\u001b[43m,\u001b[49m\u001b[43m(\u001b[49m\u001b[38;5;241;43m2\u001b[39;49m\u001b[43m,\u001b[49m\u001b[38;5;241;43m1\u001b[39;49m\u001b[43m)\u001b[49m\u001b[43m)\u001b[49m\u001b[43m \u001b[49m\u001b[38;5;241;43m@\u001b[39;49m\u001b[43m \u001b[49m\u001b[43mI\u001b[49m\n",
      "File \u001b[0;32m~/anaconda3/envs/stbda2022/lib/python3.10/site-packages/tensorflow/python/util/traceback_utils.py:153\u001b[0m, in \u001b[0;36mfilter_traceback.<locals>.error_handler\u001b[0;34m(*args, **kwargs)\u001b[0m\n\u001b[1;32m    151\u001b[0m \u001b[38;5;28;01mexcept\u001b[39;00m \u001b[38;5;167;01mException\u001b[39;00m \u001b[38;5;28;01mas\u001b[39;00m e:\n\u001b[1;32m    152\u001b[0m   filtered_tb \u001b[38;5;241m=\u001b[39m _process_traceback_frames(e\u001b[38;5;241m.\u001b[39m__traceback__)\n\u001b[0;32m--> 153\u001b[0m   \u001b[38;5;28;01mraise\u001b[39;00m e\u001b[38;5;241m.\u001b[39mwith_traceback(filtered_tb) \u001b[38;5;28;01mfrom\u001b[39;00m \u001b[38;5;28mNone\u001b[39m\n\u001b[1;32m    154\u001b[0m \u001b[38;5;28;01mfinally\u001b[39;00m:\n\u001b[1;32m    155\u001b[0m   \u001b[38;5;28;01mdel\u001b[39;00m filtered_tb\n",
      "File \u001b[0;32m~/anaconda3/envs/stbda2022/lib/python3.10/site-packages/tensorflow/python/framework/ops.py:7107\u001b[0m, in \u001b[0;36mraise_from_not_ok_status\u001b[0;34m(e, name)\u001b[0m\n\u001b[1;32m   7105\u001b[0m \u001b[38;5;28;01mdef\u001b[39;00m \u001b[38;5;21mraise_from_not_ok_status\u001b[39m(e, name):\n\u001b[1;32m   7106\u001b[0m   e\u001b[38;5;241m.\u001b[39mmessage \u001b[38;5;241m+\u001b[39m\u001b[38;5;241m=\u001b[39m (\u001b[38;5;124m\"\u001b[39m\u001b[38;5;124m name: \u001b[39m\u001b[38;5;124m\"\u001b[39m \u001b[38;5;241m+\u001b[39m name \u001b[38;5;28;01mif\u001b[39;00m name \u001b[38;5;129;01mis\u001b[39;00m \u001b[38;5;129;01mnot\u001b[39;00m \u001b[38;5;28;01mNone\u001b[39;00m \u001b[38;5;28;01melse\u001b[39;00m \u001b[38;5;124m\"\u001b[39m\u001b[38;5;124m\"\u001b[39m)\n\u001b[0;32m-> 7107\u001b[0m   \u001b[38;5;28;01mraise\u001b[39;00m core\u001b[38;5;241m.\u001b[39m_status_to_exception(e) \u001b[38;5;28;01mfrom\u001b[39;00m \u001b[38;5;28mNone\u001b[39m\n",
      "\u001b[0;31mInvalidArgumentError\u001b[0m: Matrix size-incompatible: In[0]: [2,1], In[1]: [2,2] [Op:MatMul]"
     ]
    }
   ],
   "source": [
    "tf.reshape(x,(2,1)) @ I"
   ]
  },
  {
   "cell_type": "markdown",
   "id": "3a6fb3f2-da04-4f0f-a84b-353c8bb66e1c",
   "metadata": {},
   "source": [
    "행렬 자체가 계산 안 되는 구조라 에러뜨지~"
   ]
  },
  {
   "cell_type": "markdown",
   "id": "7156cf5b-1691-4065-9eea-4330d59d415f",
   "metadata": {
    "id": "7156cf5b-1691-4065-9eea-4330d59d415f"
   },
   "source": [
    "---"
   ]
  },
  {
   "cell_type": "markdown",
   "id": "b31b964e-b494-40bf-b801-7b8b4000c60c",
   "metadata": {
    "id": "b31b964e-b494-40bf-b801-7b8b4000c60c"
   },
   "source": [
    "### tf.Variable"
   ]
  },
  {
   "cell_type": "markdown",
   "id": "7a6cf761-8eeb-49ea-b7c0-4371f868ce2a",
   "metadata": {
    "id": "7a6cf761-8eeb-49ea-b7c0-4371f868ce2a"
   },
   "source": [
    "#### 선언 "
   ]
  },
  {
   "cell_type": "markdown",
   "id": "e6f92c5c-3f74-4e5b-98b2-8c7f915bc056",
   "metadata": {
    "id": "e6f92c5c-3f74-4e5b-98b2-8c7f915bc056"
   },
   "source": [
    "`-` tf.Variable()로 선언"
   ]
  },
  {
   "cell_type": "code",
   "execution_count": 15,
   "id": "92a19727-911c-4ba2-8487-0e28bdd9af32",
   "metadata": {},
   "outputs": [
    {
     "data": {
      "text/plain": [
       "<tf.Variable 'Variable:0' shape=(4,) dtype=int32, numpy=array([1, 2, 3, 4], dtype=int32)>"
      ]
     },
     "execution_count": 15,
     "metadata": {},
     "output_type": "execute_result"
    }
   ],
   "source": [
    "tf.Variable([1,2,3,4])"
   ]
  },
  {
   "cell_type": "code",
   "execution_count": 16,
   "id": "7564662e-839a-44b7-9bec-11185f34f20c",
   "metadata": {},
   "outputs": [
    {
     "data": {
      "text/plain": [
       "<tf.Variable 'Variable:0' shape=(4,) dtype=float32, numpy=array([1., 2., 3., 4.], dtype=float32)>"
      ]
     },
     "execution_count": 16,
     "metadata": {},
     "output_type": "execute_result"
    }
   ],
   "source": [
    "tf.Variable([1.0,2.0,3.0,4.0])"
   ]
  },
  {
   "cell_type": "markdown",
   "id": "8aa59928-ab87-44af-820f-712aa05989a7",
   "metadata": {
    "id": "8aa59928-ab87-44af-820f-712aa05989a7"
   },
   "source": [
    "`-` tf.constant() 선언후 변환"
   ]
  },
  {
   "cell_type": "code",
   "execution_count": 17,
   "id": "69871ec7-3756-4f81-826d-3b3f550ba49b",
   "metadata": {},
   "outputs": [
    {
     "data": {
      "text/plain": [
       "tensorflow.python.ops.resource_variable_ops.ResourceVariable"
      ]
     },
     "execution_count": 17,
     "metadata": {},
     "output_type": "execute_result"
    }
   ],
   "source": [
    "_a = tf.Variable([1,2,3,4])\n",
    "type(_a)"
   ]
  },
  {
   "cell_type": "code",
   "execution_count": 18,
   "id": "29d03a9d-49e2-4bab-a685-86145d06e608",
   "metadata": {},
   "outputs": [
    {
     "data": {
      "text/plain": [
       "<tf.Variable 'Variable:0' shape=(4,) dtype=int32, numpy=array([1, 2, 3, 4], dtype=int32)>"
      ]
     },
     "execution_count": 18,
     "metadata": {},
     "output_type": "execute_result"
    }
   ],
   "source": [
    "tf.Variable(tf.constant([1,2,3,4]))"
   ]
  },
  {
   "cell_type": "markdown",
   "id": "37274037-f857-4c9f-9c00-0805a1be7952",
   "metadata": {
    "id": "37274037-f857-4c9f-9c00-0805a1be7952"
   },
   "source": [
    "`-` np 등으로 선언후 변환 "
   ]
  },
  {
   "cell_type": "code",
   "execution_count": 19,
   "id": "d77504e3-49ee-452a-9c47-1cbd6b0906de",
   "metadata": {},
   "outputs": [
    {
     "data": {
      "text/plain": [
       "<tf.Variable 'Variable:0' shape=(4,) dtype=int64, numpy=array([1, 2, 3, 4])>"
      ]
     },
     "execution_count": 19,
     "metadata": {},
     "output_type": "execute_result"
    }
   ],
   "source": [
    "tf.Variable(np.array([1,2,3,4]))"
   ]
  },
  {
   "cell_type": "markdown",
   "id": "4fb4ad1b-af3f-4d1b-8482-e0cb3635a97f",
   "metadata": {
    "id": "4fb4ad1b-af3f-4d1b-8482-e0cb3635a97f"
   },
   "source": [
    "#### 타입"
   ]
  },
  {
   "cell_type": "code",
   "execution_count": 20,
   "id": "205edbba-371a-4054-8776-7ba701dab903",
   "metadata": {},
   "outputs": [
    {
     "data": {
      "text/plain": [
       "tensorflow.python.framework.ops.EagerTensor"
      ]
     },
     "execution_count": 20,
     "metadata": {},
     "output_type": "execute_result"
    }
   ],
   "source": [
    "type(tf.constant([1,2,3,4]))"
   ]
  },
  {
   "cell_type": "code",
   "execution_count": 21,
   "id": "4426a568-8637-4cec-a6b0-9e7f68eac57e",
   "metadata": {},
   "outputs": [
    {
     "data": {
      "text/plain": [
       "numpy.ndarray"
      ]
     },
     "execution_count": 21,
     "metadata": {},
     "output_type": "execute_result"
    }
   ],
   "source": [
    "type(np.array([1,2,3,4]))"
   ]
  },
  {
   "cell_type": "code",
   "execution_count": 22,
   "id": "1900d97f-046f-4aa7-b3eb-315f843ded38",
   "metadata": {},
   "outputs": [
    {
     "data": {
      "text/plain": [
       "tensorflow.python.ops.resource_variable_ops.ResourceVariable"
      ]
     },
     "execution_count": 22,
     "metadata": {},
     "output_type": "execute_result"
    }
   ],
   "source": [
    "type(tf.Variable(np.array([1,2,3,4])))"
   ]
  },
  {
   "cell_type": "markdown",
   "id": "df878b16-0e9a-41e7-b2c0-5a23045958dd",
   "metadata": {
    "id": "df878b16-0e9a-41e7-b2c0-5a23045958dd",
    "tags": []
   },
   "source": [
    "#### 인덱싱 "
   ]
  },
  {
   "cell_type": "code",
   "execution_count": 12,
   "id": "725e151d-641a-4701-ad82-25cb0ff3e1ff",
   "metadata": {},
   "outputs": [
    {
     "data": {
      "text/plain": [
       "<tf.Variable 'Variable:0' shape=(4,) dtype=int32, numpy=array([1, 2, 3, 4], dtype=int32)>"
      ]
     },
     "execution_count": 12,
     "metadata": {},
     "output_type": "execute_result"
    }
   ],
   "source": [
    "a = tf.Variable([1,2,3,4])\n",
    "a"
   ]
  },
  {
   "cell_type": "markdown",
   "id": "b3790fe3-3102-4cba-9904-8838d143dfc0",
   "metadata": {},
   "source": [
    "0번째는 1이지만"
   ]
  },
  {
   "cell_type": "code",
   "execution_count": 13,
   "id": "bc108fef-8c68-41cd-b5cf-5907647f7faa",
   "metadata": {},
   "outputs": [
    {
     "data": {
      "text/plain": [
       "<tf.Tensor: shape=(), dtype=int32, numpy=1>"
      ]
     },
     "execution_count": 13,
     "metadata": {},
     "output_type": "execute_result"
    }
   ],
   "source": [
    "a[0]"
   ]
  },
  {
   "cell_type": "markdown",
   "id": "eab88505-9c38-4094-ac2f-78bb13684bdd",
   "metadata": {},
   "source": [
    "2번째까지 불러오면 0,1 두 개, 즉 불러온 수의 전 위치까지만 불러온다."
   ]
  },
  {
   "cell_type": "code",
   "execution_count": 24,
   "id": "368a5c01-a3a9-4fa8-8a41-c5cbe1d6a35d",
   "metadata": {},
   "outputs": [
    {
     "data": {
      "text/plain": [
       "<tf.Tensor: shape=(2,), dtype=int32, numpy=array([1, 2], dtype=int32)>"
      ]
     },
     "execution_count": 24,
     "metadata": {},
     "output_type": "execute_result"
    }
   ],
   "source": [
    "a[:2]"
   ]
  },
  {
   "cell_type": "code",
   "execution_count": 25,
   "id": "818fb10c-a500-4e6e-bc00-63780081932e",
   "metadata": {},
   "outputs": [
    {
     "data": {
      "text/plain": [
       "tensorflow.python.framework.ops.EagerTensor"
      ]
     },
     "execution_count": 25,
     "metadata": {},
     "output_type": "execute_result"
    }
   ],
   "source": [
    "type(a[:2]) # tf.constant랑 같은 타입"
   ]
  },
  {
   "cell_type": "markdown",
   "id": "42dac5a0-e799-4edb-b620-646413aaaa0b",
   "metadata": {
    "id": "42dac5a0-e799-4edb-b620-646413aaaa0b",
    "tags": []
   },
   "source": [
    "#### 연산가능 "
   ]
  },
  {
   "cell_type": "markdown",
   "id": "7d235b33-bf5b-4280-aeac-1e87816572ae",
   "metadata": {},
   "source": [
    "(관찰1)"
   ]
  },
  {
   "cell_type": "code",
   "execution_count": 26,
   "id": "c6cabb2f-81f8-4dd2-a959-f2fa1933096a",
   "metadata": {},
   "outputs": [],
   "source": [
    "a = tf.Variable([1,2,3,4])\n",
    "b = -a"
   ]
  },
  {
   "cell_type": "code",
   "execution_count": 27,
   "id": "a385388a-e39f-41f7-8a8e-5006a1718bab",
   "metadata": {},
   "outputs": [
    {
     "data": {
      "text/plain": [
       "tensorflow.python.ops.resource_variable_ops.ResourceVariable"
      ]
     },
     "execution_count": 27,
     "metadata": {},
     "output_type": "execute_result"
    }
   ],
   "source": [
    "type(a)"
   ]
  },
  {
   "cell_type": "code",
   "execution_count": 28,
   "id": "5c210269-4d37-4309-8867-9bbf09beef76",
   "metadata": {},
   "outputs": [
    {
     "data": {
      "text/plain": [
       "tensorflow.python.framework.ops.EagerTensor"
      ]
     },
     "execution_count": 28,
     "metadata": {},
     "output_type": "execute_result"
    }
   ],
   "source": [
    "type(b)"
   ]
  },
  {
   "cell_type": "code",
   "execution_count": 29,
   "id": "7d563ade-0521-42eb-9762-5fc3c8ae3bc3",
   "metadata": {},
   "outputs": [
    {
     "data": {
      "text/plain": [
       "<tf.Tensor: shape=(4,), dtype=int32, numpy=array([0, 0, 0, 0], dtype=int32)>"
      ]
     },
     "execution_count": 29,
     "metadata": {},
     "output_type": "execute_result"
    }
   ],
   "source": [
    "a+b"
   ]
  },
  {
   "cell_type": "code",
   "execution_count": 30,
   "id": "b70f34f6-bcc4-424c-a520-d4fd4eb01433",
   "metadata": {},
   "outputs": [
    {
     "data": {
      "text/plain": [
       "tensorflow.python.framework.ops.EagerTensor"
      ]
     },
     "execution_count": 30,
     "metadata": {},
     "output_type": "execute_result"
    }
   ],
   "source": [
    "type(a+b)"
   ]
  },
  {
   "cell_type": "markdown",
   "id": "76f58eed-d480-4d0b-b01e-dd2b1d35f9c7",
   "metadata": {},
   "source": [
    "b는 -a로, a를 사용하여 정의되었으므로 따로 정의되지 않는 이상 a와 같은 Variable의 자료형이 아닌 constant와 같은 자료형으로 정의"
   ]
  },
  {
   "cell_type": "markdown",
   "id": "552538ce-a008-4ba1-b20b-d1385529ba14",
   "metadata": {},
   "source": [
    "(관찰2)"
   ]
  },
  {
   "cell_type": "code",
   "execution_count": 31,
   "id": "4664934d-c3a2-4623-b1b8-51f47c6b69d5",
   "metadata": {},
   "outputs": [],
   "source": [
    "a = tf.Variable([1,2,3,4])\n",
    "b = tf.Variable([-1,-2,-3,-4])"
   ]
  },
  {
   "cell_type": "code",
   "execution_count": 32,
   "id": "d34006a6-82ec-4bfa-b6b9-3d3dd22496ff",
   "metadata": {},
   "outputs": [
    {
     "data": {
      "text/plain": [
       "tensorflow.python.ops.resource_variable_ops.ResourceVariable"
      ]
     },
     "execution_count": 32,
     "metadata": {},
     "output_type": "execute_result"
    }
   ],
   "source": [
    "type(a)"
   ]
  },
  {
   "cell_type": "code",
   "execution_count": 33,
   "id": "a7547c18-05ff-43cf-a5ca-d94894abc1f9",
   "metadata": {},
   "outputs": [
    {
     "data": {
      "text/plain": [
       "tensorflow.python.ops.resource_variable_ops.ResourceVariable"
      ]
     },
     "execution_count": 33,
     "metadata": {},
     "output_type": "execute_result"
    }
   ],
   "source": [
    "type(b)"
   ]
  },
  {
   "cell_type": "code",
   "execution_count": 34,
   "id": "f95c3184-9ee3-4d6b-9bb3-154cc652e11a",
   "metadata": {},
   "outputs": [
    {
     "data": {
      "text/plain": [
       "<tf.Tensor: shape=(4,), dtype=int32, numpy=array([0, 0, 0, 0], dtype=int32)>"
      ]
     },
     "execution_count": 34,
     "metadata": {},
     "output_type": "execute_result"
    }
   ],
   "source": [
    "a+b"
   ]
  },
  {
   "cell_type": "code",
   "execution_count": 35,
   "id": "00647741-8564-4ff3-aa1c-53000d5cbf74",
   "metadata": {},
   "outputs": [
    {
     "data": {
      "text/plain": [
       "tensorflow.python.framework.ops.EagerTensor"
      ]
     },
     "execution_count": 35,
     "metadata": {},
     "output_type": "execute_result"
    }
   ],
   "source": [
    "type(a+b)"
   ]
  },
  {
   "cell_type": "markdown",
   "id": "2a8e427e-8543-4cb8-890d-81448d065e34",
   "metadata": {},
   "source": [
    "> Note: 연산하니 자료형이 바뀐다. 하지만 위 두 경우의 연산 결과의 자료형은 같네?"
   ]
  },
  {
   "cell_type": "markdown",
   "id": "48cfd854-3043-4cad-b6c2-7f65f057e6ed",
   "metadata": {
    "id": "48cfd854-3043-4cad-b6c2-7f65f057e6ed"
   },
   "source": [
    "#### tf.Variable도 쓰기 불편함 "
   ]
  },
  {
   "cell_type": "code",
   "execution_count": 36,
   "id": "204b1378-19d1-4112-a9e3-0577feeecb0b",
   "metadata": {},
   "outputs": [
    {
     "ename": "InvalidArgumentError",
     "evalue": "cannot compute AddV2 as input #1(zero-based) was expected to be a int32 tensor but is a float tensor [Op:AddV2]",
     "output_type": "error",
     "traceback": [
      "\u001b[0;31m---------------------------------------------------------------------------\u001b[0m",
      "\u001b[0;31mInvalidArgumentError\u001b[0m                      Traceback (most recent call last)",
      "Input \u001b[0;32mIn [36]\u001b[0m, in \u001b[0;36m<cell line: 1>\u001b[0;34m()\u001b[0m\n\u001b[0;32m----> 1\u001b[0m \u001b[43mtf\u001b[49m\u001b[38;5;241;43m.\u001b[39;49m\u001b[43mVariable\u001b[49m\u001b[43m(\u001b[49m\u001b[43m[\u001b[49m\u001b[38;5;241;43m1\u001b[39;49m\u001b[43m,\u001b[49m\u001b[38;5;241;43m2\u001b[39;49m\u001b[43m]\u001b[49m\u001b[43m)\u001b[49m\u001b[43m \u001b[49m\u001b[38;5;241;43m+\u001b[39;49m\u001b[43m \u001b[49m\u001b[43mtf\u001b[49m\u001b[38;5;241;43m.\u001b[39;49m\u001b[43mVariable\u001b[49m\u001b[43m(\u001b[49m\u001b[43m[\u001b[49m\u001b[38;5;241;43m3.14\u001b[39;49m\u001b[43m,\u001b[49m\u001b[38;5;241;43m3.14\u001b[39;49m\u001b[43m]\u001b[49m\u001b[43m)\u001b[49m\n",
      "File \u001b[0;32m~/anaconda3/envs/stbda2022/lib/python3.10/site-packages/tensorflow/python/ops/variables.py:1078\u001b[0m, in \u001b[0;36mVariable._OverloadOperator.<locals>._run_op\u001b[0;34m(a, *args, **kwargs)\u001b[0m\n\u001b[1;32m   1076\u001b[0m \u001b[38;5;28;01mdef\u001b[39;00m \u001b[38;5;21m_run_op\u001b[39m(a, \u001b[38;5;241m*\u001b[39margs, \u001b[38;5;241m*\u001b[39m\u001b[38;5;241m*\u001b[39mkwargs):\n\u001b[1;32m   1077\u001b[0m   \u001b[38;5;66;03m# pylint: disable=protected-access\u001b[39;00m\n\u001b[0;32m-> 1078\u001b[0m   \u001b[38;5;28;01mreturn\u001b[39;00m \u001b[43mtensor_oper\u001b[49m\u001b[43m(\u001b[49m\u001b[43ma\u001b[49m\u001b[38;5;241;43m.\u001b[39;49m\u001b[43mvalue\u001b[49m\u001b[43m(\u001b[49m\u001b[43m)\u001b[49m\u001b[43m,\u001b[49m\u001b[43m \u001b[49m\u001b[38;5;241;43m*\u001b[39;49m\u001b[43margs\u001b[49m\u001b[43m,\u001b[49m\u001b[43m \u001b[49m\u001b[38;5;241;43m*\u001b[39;49m\u001b[38;5;241;43m*\u001b[39;49m\u001b[43mkwargs\u001b[49m\u001b[43m)\u001b[49m\n",
      "File \u001b[0;32m~/anaconda3/envs/stbda2022/lib/python3.10/site-packages/tensorflow/python/util/traceback_utils.py:153\u001b[0m, in \u001b[0;36mfilter_traceback.<locals>.error_handler\u001b[0;34m(*args, **kwargs)\u001b[0m\n\u001b[1;32m    151\u001b[0m \u001b[38;5;28;01mexcept\u001b[39;00m \u001b[38;5;167;01mException\u001b[39;00m \u001b[38;5;28;01mas\u001b[39;00m e:\n\u001b[1;32m    152\u001b[0m   filtered_tb \u001b[38;5;241m=\u001b[39m _process_traceback_frames(e\u001b[38;5;241m.\u001b[39m__traceback__)\n\u001b[0;32m--> 153\u001b[0m   \u001b[38;5;28;01mraise\u001b[39;00m e\u001b[38;5;241m.\u001b[39mwith_traceback(filtered_tb) \u001b[38;5;28;01mfrom\u001b[39;00m \u001b[38;5;28mNone\u001b[39m\n\u001b[1;32m    154\u001b[0m \u001b[38;5;28;01mfinally\u001b[39;00m:\n\u001b[1;32m    155\u001b[0m   \u001b[38;5;28;01mdel\u001b[39;00m filtered_tb\n",
      "File \u001b[0;32m~/anaconda3/envs/stbda2022/lib/python3.10/site-packages/tensorflow/python/framework/ops.py:7107\u001b[0m, in \u001b[0;36mraise_from_not_ok_status\u001b[0;34m(e, name)\u001b[0m\n\u001b[1;32m   7105\u001b[0m \u001b[38;5;28;01mdef\u001b[39;00m \u001b[38;5;21mraise_from_not_ok_status\u001b[39m(e, name):\n\u001b[1;32m   7106\u001b[0m   e\u001b[38;5;241m.\u001b[39mmessage \u001b[38;5;241m+\u001b[39m\u001b[38;5;241m=\u001b[39m (\u001b[38;5;124m\"\u001b[39m\u001b[38;5;124m name: \u001b[39m\u001b[38;5;124m\"\u001b[39m \u001b[38;5;241m+\u001b[39m name \u001b[38;5;28;01mif\u001b[39;00m name \u001b[38;5;129;01mis\u001b[39;00m \u001b[38;5;129;01mnot\u001b[39;00m \u001b[38;5;28;01mNone\u001b[39;00m \u001b[38;5;28;01melse\u001b[39;00m \u001b[38;5;124m\"\u001b[39m\u001b[38;5;124m\"\u001b[39m)\n\u001b[0;32m-> 7107\u001b[0m   \u001b[38;5;28;01mraise\u001b[39;00m core\u001b[38;5;241m.\u001b[39m_status_to_exception(e) \u001b[38;5;28;01mfrom\u001b[39;00m \u001b[38;5;28mNone\u001b[39m\n",
      "\u001b[0;31mInvalidArgumentError\u001b[0m: cannot compute AddV2 as input #1(zero-based) was expected to be a int32 tensor but is a float tensor [Op:AddV2]"
     ]
    }
   ],
   "source": [
    "tf.Variable([1,2]) + tf.Variable([3.14,3.14])"
   ]
  },
  {
   "cell_type": "markdown",
   "id": "aac0b534-be7c-4e69-a773-96c238a6cb2f",
   "metadata": {},
   "source": [
    "에러나"
   ]
  },
  {
   "cell_type": "code",
   "execution_count": 37,
   "id": "b3cf8ced-167d-4861-8e9b-5ff67f0efa9a",
   "metadata": {},
   "outputs": [
    {
     "data": {
      "text/plain": [
       "<tf.Tensor: shape=(2,), dtype=float32, numpy=array([4.1400003, 5.1400003], dtype=float32)>"
      ]
     },
     "execution_count": 37,
     "metadata": {},
     "output_type": "execute_result"
    }
   ],
   "source": [
    "tf.Variable([1.0,2.0]) + tf.Variable([3.14,3.14])"
   ]
  },
  {
   "cell_type": "markdown",
   "id": "19ec358a-8f65-4afa-8cd1-7130119b53c3",
   "metadata": {},
   "source": [
    "이것은 되지만.. tnp는 int여도 float이어도 모두 연산이 가능하다고~"
   ]
  },
  {
   "cell_type": "markdown",
   "id": "046387c9-51af-4ed1-9a2e-46f46d2f422e",
   "metadata": {
    "id": "046387c9-51af-4ed1-9a2e-46f46d2f422e"
   },
   "source": [
    "#### tnp의 은총도 일부만 가능 "
   ]
  },
  {
   "cell_type": "code",
   "execution_count": 14,
   "id": "03ff9719-1da3-4954-8c7b-e191ea1be91c",
   "metadata": {},
   "outputs": [],
   "source": [
    "import tensorflow.experimental.numpy as tnp\n",
    "tnp.experimental_enable_numpy_behavior()"
   ]
  },
  {
   "cell_type": "markdown",
   "id": "ad3ab170-eac6-4af4-aee3-4a555ed52748",
   "metadata": {
    "id": "ad3ab170-eac6-4af4-aee3-4a555ed52748"
   },
   "source": [
    "`-` 알아서 형 변환 "
   ]
  },
  {
   "cell_type": "code",
   "execution_count": 39,
   "id": "84bdfc35-6194-493a-81a5-00266a35cca8",
   "metadata": {},
   "outputs": [
    {
     "data": {
      "text/plain": [
       "<tf.Tensor: shape=(2,), dtype=float64, numpy=array([4.1400001, 5.1400001])>"
      ]
     },
     "execution_count": 39,
     "metadata": {},
     "output_type": "execute_result"
    }
   ],
   "source": [
    "tf.Variable([1,2]) + tf.Variable([3.14,3.14])"
   ]
  },
  {
   "cell_type": "markdown",
   "id": "61708b07-9a4d-4a57-a572-e50798d478e8",
   "metadata": {},
   "source": [
    "위에서는 tnp불러오기 전 에러났었지? 된다는 증거"
   ]
  },
  {
   "cell_type": "markdown",
   "id": "f693036e-611f-439c-9338-4d24c8359854",
   "metadata": {
    "id": "f693036e-611f-439c-9338-4d24c8359854"
   },
   "source": [
    "`-` .reshape 메소드 "
   ]
  },
  {
   "cell_type": "code",
   "execution_count": 40,
   "id": "95d0a122-9c64-4eed-ba16-5b210168d9bd",
   "metadata": {},
   "outputs": [
    {
     "ename": "AttributeError",
     "evalue": "'ResourceVariable' object has no attribute 'reshape'",
     "output_type": "error",
     "traceback": [
      "\u001b[0;31m---------------------------------------------------------------------------\u001b[0m",
      "\u001b[0;31mAttributeError\u001b[0m                            Traceback (most recent call last)",
      "Input \u001b[0;32mIn [40]\u001b[0m, in \u001b[0;36m<cell line: 1>\u001b[0;34m()\u001b[0m\n\u001b[0;32m----> 1\u001b[0m \u001b[43mtf\u001b[49m\u001b[38;5;241;43m.\u001b[39;49m\u001b[43mVariable\u001b[49m\u001b[43m(\u001b[49m\u001b[43m[\u001b[49m\u001b[38;5;241;43m1\u001b[39;49m\u001b[43m,\u001b[49m\u001b[38;5;241;43m2\u001b[39;49m\u001b[43m,\u001b[49m\u001b[38;5;241;43m3\u001b[39;49m\u001b[43m,\u001b[49m\u001b[38;5;241;43m4\u001b[39;49m\u001b[43m]\u001b[49m\u001b[43m)\u001b[49m\u001b[38;5;241;43m.\u001b[39;49m\u001b[43mreshape\u001b[49m(\u001b[38;5;241m2\u001b[39m,\u001b[38;5;241m2\u001b[39m)\n",
      "\u001b[0;31mAttributeError\u001b[0m: 'ResourceVariable' object has no attribute 'reshape'"
     ]
    }
   ],
   "source": [
    "tf.Variable([1,2,3,4]).reshape(2,2)"
   ]
  },
  {
   "cell_type": "markdown",
   "id": "f9b84192-d0c4-4728-a793-bd08f813eead",
   "metadata": {},
   "source": [
    "이건 tnp에서 **되지 않음**"
   ]
  },
  {
   "cell_type": "markdown",
   "id": "35d26c06-f0d7-4fb8-a2c7-2157f93320fd",
   "metadata": {
    "id": "35d26c06-f0d7-4fb8-a2c7-2157f93320fd"
   },
   "source": [
    "#### 대부분의 동작은 tf.constant랑 큰 차이를 모르겠음 "
   ]
  },
  {
   "cell_type": "markdown",
   "id": "1e7a0d88-1530-4265-bf1b-9ed4649f8154",
   "metadata": {
    "id": "1e7a0d88-1530-4265-bf1b-9ed4649f8154"
   },
   "source": [
    "`-` tf.concat "
   ]
  },
  {
   "cell_type": "markdown",
   "id": "ff6355c1-7135-4eca-a0cf-410283e8ba4a",
   "metadata": {},
   "source": [
    "자료형 변환 안 되게 각각 선언해주기"
   ]
  },
  {
   "cell_type": "markdown",
   "id": "df8121d0-fede-44d1-91ff-41c0d0b5a74e",
   "metadata": {},
   "source": [
    "$(2, 2),(2,2)\\rightarrow(4,2)$"
   ]
  },
  {
   "cell_type": "code",
   "execution_count": 41,
   "id": "6caa9aad-8e11-455d-b38b-b7193e7e574c",
   "metadata": {},
   "outputs": [
    {
     "data": {
      "text/plain": [
       "<tf.Tensor: shape=(4, 2), dtype=int32, numpy=\n",
       "array([[ 1,  2],\n",
       "       [ 3,  4],\n",
       "       [-1, -2],\n",
       "       [-3, -4]], dtype=int32)>"
      ]
     },
     "execution_count": 41,
     "metadata": {},
     "output_type": "execute_result"
    }
   ],
   "source": [
    "a = tf.Variable([[1,2],[3,4]])\n",
    "b = tf.Variable([[-1,-2],[-3,-4]])\n",
    "tf.concat([a,b],axis=0)"
   ]
  },
  {
   "cell_type": "markdown",
   "id": "048f1127-5797-4406-b40e-355915edf855",
   "metadata": {},
   "source": [
    "어 tensor네"
   ]
  },
  {
   "cell_type": "markdown",
   "id": "1e88e171-d011-4a6b-8df1-82b271e7c3e3",
   "metadata": {
    "id": "1e88e171-d011-4a6b-8df1-82b271e7c3e3"
   },
   "source": [
    "`-` tf.stack"
   ]
  },
  {
   "cell_type": "markdown",
   "id": "03286fe9-f2b5-48ba-b252-64560e11d2ac",
   "metadata": {},
   "source": [
    "$(2,2)(2,2)\\rightarrow (2,2,2)$"
   ]
  },
  {
   "cell_type": "code",
   "execution_count": 42,
   "id": "6af90ba5-7819-4b54-86d2-79c4529d14cf",
   "metadata": {},
   "outputs": [
    {
     "data": {
      "text/plain": [
       "<tf.Tensor: shape=(2, 2, 2), dtype=int32, numpy=\n",
       "array([[[ 1,  2],\n",
       "        [ 3,  4]],\n",
       "\n",
       "       [[-1, -2],\n",
       "        [-3, -4]]], dtype=int32)>"
      ]
     },
     "execution_count": 42,
     "metadata": {},
     "output_type": "execute_result"
    }
   ],
   "source": [
    "a = tf.Variable([[1,2],[3,4]])\n",
    "b = tf.Variable([[-1,-2],[-3,-4]])\n",
    "tf.stack([a,b],axis=0)"
   ]
  },
  {
   "cell_type": "markdown",
   "id": "4331a3b7-d371-4725-b105-45c68585a21d",
   "metadata": {},
   "source": [
    "- 연산하면 바뀌는 자료형 "
   ]
  },
  {
   "cell_type": "code",
   "execution_count": 44,
   "id": "9a0026b7-ae33-4e5c-87b6-fa7f6f35b7dc",
   "metadata": {},
   "outputs": [
    {
     "data": {
      "text/plain": [
       "tensorflow.python.ops.resource_variable_ops.ResourceVariable"
      ]
     },
     "execution_count": 44,
     "metadata": {},
     "output_type": "execute_result"
    }
   ],
   "source": [
    "type(a)"
   ]
  },
  {
   "cell_type": "code",
   "execution_count": 45,
   "id": "81a49f48-fb13-4edb-a30c-0becb4ccb731",
   "metadata": {},
   "outputs": [
    {
     "data": {
      "text/plain": [
       "tensorflow.python.ops.resource_variable_ops.ResourceVariable"
      ]
     },
     "execution_count": 45,
     "metadata": {},
     "output_type": "execute_result"
    }
   ],
   "source": [
    "type(b)"
   ]
  },
  {
   "cell_type": "code",
   "execution_count": 46,
   "id": "ac905340-2a20-4277-9cc9-5428573477d3",
   "metadata": {},
   "outputs": [
    {
     "data": {
      "text/plain": [
       "tensorflow.python.framework.ops.EagerTensor"
      ]
     },
     "execution_count": 46,
     "metadata": {},
     "output_type": "execute_result"
    }
   ],
   "source": [
    "type(tf.stack([a,b],axis=0))"
   ]
  },
  {
   "cell_type": "markdown",
   "id": "606c7880-74df-45b6-88ae-ca27e2f04058",
   "metadata": {
    "id": "606c7880-74df-45b6-88ae-ca27e2f04058",
    "tags": []
   },
   "source": [
    "#### 변수값변경가능(?)"
   ]
  },
  {
   "cell_type": "code",
   "execution_count": 47,
   "id": "44a75d52-c887-4065-a82f-2ec299ecaca7",
   "metadata": {},
   "outputs": [
    {
     "data": {
      "text/plain": [
       "139699552157936"
      ]
     },
     "execution_count": 47,
     "metadata": {},
     "output_type": "execute_result"
    }
   ],
   "source": [
    "a=1\n",
    "id(a)"
   ]
  },
  {
   "cell_type": "code",
   "execution_count": 48,
   "id": "97a8cb7b-2a2f-4e86-b062-c4b06998e6ef",
   "metadata": {},
   "outputs": [
    {
     "data": {
      "text/plain": [
       "139699552159344"
      ]
     },
     "execution_count": 48,
     "metadata": {},
     "output_type": "execute_result"
    }
   ],
   "source": [
    "a=45\n",
    "id(a)"
   ]
  },
  {
   "cell_type": "markdown",
   "id": "d72d889e-7408-4ba4-ba24-d266e9f41c14",
   "metadata": {},
   "source": [
    "> Important: 1이라고 저장되었던 a를 다시 값을 주면 재할당의 개념."
   ]
  },
  {
   "cell_type": "markdown",
   "id": "765563a8-09f7-4890-b2ee-446a48eaa4c5",
   "metadata": {},
   "source": [
    "- 메모리 주소가 바뀐 것.\n",
    "- 주소가 같다면 편집의 개념이 되겠지\n",
    "- tf.constant 로 할당해주면 메모리 주소에 있는 것을 바꿀 수 없다.(불변!)\n",
    "- 가변형을 만들어야 하는 이유..\n",
    "    - 불변형을 여러개 쓰면 메모리가 많이 필요\n",
    "    - 한정된 변수 개수를 가지고 있다면 더 힘들어\n",
    "- GPU에 올릴 파라메터, 이는 가변.\n",
    "- 관찰값이 많은 것은 상관없어, 파라메터가 문제"
   ]
  },
  {
   "cell_type": "code",
   "execution_count": 24,
   "id": "27ab62f3-f5cd-45ef-af8f-e4c638a7639e",
   "metadata": {},
   "outputs": [
    {
     "data": {
      "text/plain": [
       "139929907979568"
      ]
     },
     "execution_count": 24,
     "metadata": {},
     "output_type": "execute_result"
    }
   ],
   "source": [
    "a = tf.Variable([1,2,3,4])\n",
    "id(a)"
   ]
  },
  {
   "cell_type": "code",
   "execution_count": 25,
   "id": "688b95d6-d8d7-4153-8283-71b5c6f07970",
   "metadata": {},
   "outputs": [
    {
     "data": {
      "text/plain": [
       "139929907979568"
      ]
     },
     "execution_count": 25,
     "metadata": {},
     "output_type": "execute_result"
    }
   ],
   "source": [
    "a.assign_add([-1,-2,-3,-4])\n",
    "id(a)"
   ]
  },
  {
   "cell_type": "markdown",
   "id": "bc8649d9-00b2-4df8-829c-312468d6af68",
   "metadata": {},
   "source": [
    "메모리 주소 같은 모습을 볼 수 있다."
   ]
  },
  {
   "cell_type": "markdown",
   "id": "264f0720-86d9-4adb-8b5c-c874c39f9070",
   "metadata": {
    "id": "264f0720-86d9-4adb-8b5c-c874c39f9070"
   },
   "source": [
    "#### 요약 "
   ]
  },
  {
   "cell_type": "markdown",
   "id": "0ca9f2f8-675d-487f-9dec-841526089ab8",
   "metadata": {
    "id": "0ca9f2f8-675d-487f-9dec-841526089ab8"
   },
   "source": [
    "`-` tf.Variable()로 만들어야 하는 뚜렷한 차이는 모르겠음. "
   ]
  },
  {
   "cell_type": "markdown",
   "id": "aa82b8fe-ad0c-4df7-b822-11c4377d404c",
   "metadata": {
    "id": "aa82b8fe-ad0c-4df7-b822-11c4377d404c"
   },
   "source": [
    "`-` 애써 tf.Variable()로 만들어도 간단한연산을 하면 그 결과는 tf.constant()로 만든 오브젝트와 동일해짐. \n",
    "- GPU에 메모리를 많이 올리지 않기 위해,"
   ]
  },
  {
   "cell_type": "markdown",
   "id": "1d4a3d56-1b55-48ee-8095-e33dc5911683",
   "metadata": {
    "id": "1d4a3d56-1b55-48ee-8095-e33dc5911683",
    "tags": []
   },
   "source": [
    "### 미분 "
   ]
  },
  {
   "cell_type": "markdown",
   "id": "a0371156-ef78-4779-b141-3aaae848c1b1",
   "metadata": {
    "id": "a0371156-ef78-4779-b141-3aaae848c1b1"
   },
   "source": [
    "#### 모티브"
   ]
  },
  {
   "cell_type": "markdown",
   "id": "1bae6965-67e9-4dba-9816-c73e5d3016fb",
   "metadata": {
    "id": "1bae6965-67e9-4dba-9816-c73e5d3016fb"
   },
   "source": [
    "`-` 예제: 컴퓨터를 이용하여 $x=2$에서 $y=3x^2$의 접선의 기울기를 구해보자. "
   ]
  },
  {
   "cell_type": "markdown",
   "id": "242fc5e3-40b4-487f-9e8d-f0ab84b87f5a",
   "metadata": {},
   "source": [
    "(손풀이)"
   ]
  },
  {
   "cell_type": "markdown",
   "id": "fa10fd10-cc37-4bc5-9c17-a592253fec81",
   "metadata": {},
   "source": [
    "$$\\frac{dy}{dx} = 6x$$"
   ]
  },
  {
   "cell_type": "markdown",
   "id": "bf373b90-edcc-466a-a599-6d3b19e8ab9c",
   "metadata": {},
   "source": [
    "이므로 $x=2$를 대입하면 $12$이다."
   ]
  },
  {
   "cell_type": "markdown",
   "id": "14b8c29b-020a-40e6-bbad-c7a625fc9723",
   "metadata": {},
   "source": [
    "(컴퓨터를 이용한 풀이)"
   ]
  },
  {
   "cell_type": "markdown",
   "id": "067562a6-b7ea-40e3-8a35-8298e53470a5",
   "metadata": {},
   "source": [
    "**단계1**"
   ]
  },
  {
   "cell_type": "code",
   "execution_count": 51,
   "id": "eacb1388-3c4a-4bcb-80b5-127b8a5ef745",
   "metadata": {},
   "outputs": [],
   "source": [
    "x1 = 2\n",
    "y1 = 3* x1**2"
   ]
  },
  {
   "cell_type": "code",
   "execution_count": 52,
   "id": "ee3105ae-5ff0-4438-be18-bc5847f97ebd",
   "metadata": {},
   "outputs": [],
   "source": [
    "x2 = 2 + 0.000000001\n",
    "y2 = 3 * x2**2"
   ]
  },
  {
   "cell_type": "code",
   "execution_count": 53,
   "id": "9a91e5db-efb8-4d1b-87ee-97e73d35653f",
   "metadata": {},
   "outputs": [
    {
     "data": {
      "text/plain": [
       "12.0"
      ]
     },
     "execution_count": 53,
     "metadata": {},
     "output_type": "execute_result"
    }
   ],
   "source": [
    "(y2-y1)/(x2-x1)"
   ]
  },
  {
   "cell_type": "markdown",
   "id": "937a640b-7044-4063-85a5-84b67db05640",
   "metadata": {},
   "source": [
    "**단계2**"
   ]
  },
  {
   "cell_type": "code",
   "execution_count": 54,
   "id": "a50ef3e0-ebaa-4a05-9c76-524e153ff69f",
   "metadata": {},
   "outputs": [],
   "source": [
    "def f(x):\n",
    "    return(3*x**2)"
   ]
  },
  {
   "cell_type": "code",
   "execution_count": 55,
   "id": "d05e3455-5fef-41be-8aae-c8fbd76941b3",
   "metadata": {},
   "outputs": [
    {
     "data": {
      "text/plain": [
       "3"
      ]
     },
     "execution_count": 55,
     "metadata": {},
     "output_type": "execute_result"
    }
   ],
   "source": [
    "f(1)"
   ]
  },
  {
   "cell_type": "code",
   "execution_count": 56,
   "id": "0e274600-162b-42d0-b11f-3e62a5f89425",
   "metadata": {},
   "outputs": [
    {
     "data": {
      "text/plain": [
       "27"
      ]
     },
     "execution_count": 56,
     "metadata": {},
     "output_type": "execute_result"
    }
   ],
   "source": [
    "f(3)"
   ]
  },
  {
   "cell_type": "markdown",
   "id": "8608b7fc-bff2-4e84-a4fb-26aa3ed1435a",
   "metadata": {},
   "source": [
    "파이썬에서는 first class object일때 가능\n",
    "\n",
    "텐서는?"
   ]
  },
  {
   "cell_type": "code",
   "execution_count": 57,
   "id": "a1f92935-a7f5-44e8-a92a-a0e3b127ab4e",
   "metadata": {},
   "outputs": [],
   "source": [
    "def d(f,x):\n",
    "    return (f(x + 0.000000001)-f(x))/0.000000001"
   ]
  },
  {
   "cell_type": "code",
   "execution_count": 58,
   "id": "931ac30c-83cc-4fc1-9643-0667f8db80c3",
   "metadata": {},
   "outputs": [
    {
     "data": {
      "text/plain": [
       "12.000000992884452"
      ]
     },
     "execution_count": 58,
     "metadata": {},
     "output_type": "execute_result"
    }
   ],
   "source": [
    "d(f,2)"
   ]
  },
  {
   "cell_type": "markdown",
   "id": "938bca60-479b-4504-868a-770a67f1e273",
   "metadata": {},
   "source": [
    "f를 선언하지 않고 함수를 정의하는 방법은 없을까?"
   ]
  },
  {
   "cell_type": "markdown",
   "id": "f1d45a9f-6379-4fa3-a90e-b66dad046511",
   "metadata": {},
   "source": [
    "**단계3**"
   ]
  },
  {
   "cell_type": "code",
   "execution_count": 59,
   "id": "8082a007-6c86-4fc1-a39f-bc669cbe524c",
   "metadata": {},
   "outputs": [
    {
     "data": {
      "text/plain": [
       "12.000000992884452"
      ]
     },
     "execution_count": 59,
     "metadata": {},
     "output_type": "execute_result"
    }
   ],
   "source": [
    "d(lambda x: 3*x**2,2)"
   ]
  },
  {
   "cell_type": "markdown",
   "id": "a9ac6898-42f4-473c-923b-18d0f954d6f2",
   "metadata": {},
   "source": [
    "실행하면 함수라는 object생기면서 입력으로 전달이 된다."
   ]
  },
  {
   "cell_type": "code",
   "execution_count": 60,
   "id": "4dd74ec8-be5e-4ab7-b179-4fd94ae57c55",
   "metadata": {},
   "outputs": [
    {
     "data": {
      "text/plain": [
       "1e-09"
      ]
     },
     "execution_count": 60,
     "metadata": {},
     "output_type": "execute_result"
    }
   ],
   "source": [
    "d(lambda x: x**2, 0)"
   ]
  },
  {
   "cell_type": "markdown",
   "id": "c55b9b47-3df7-4b66-96ee-06505564d233",
   "metadata": {},
   "source": [
    "모든 함수에 대한 미분으로 확장은 불가능하다."
   ]
  },
  {
   "cell_type": "markdown",
   "id": "61138dc1-6c0e-49c5-aacb-73f12c03a800",
   "metadata": {},
   "source": [
    "**단계4**"
   ]
  },
  {
   "cell_type": "markdown",
   "id": "bddde958-783e-491d-a521-898eb5f8a83e",
   "metadata": {},
   "source": [
    "$$f(x,y) = x^2 + 3y$$"
   ]
  },
  {
   "cell_type": "code",
   "execution_count": 61,
   "id": "e129bbbf-7dbf-4de8-8014-6294cdcdf5f2",
   "metadata": {},
   "outputs": [],
   "source": [
    "def f(x,y):\n",
    "    return(x**2 + 3*y)"
   ]
  },
  {
   "cell_type": "code",
   "execution_count": 62,
   "id": "a9932693-b9f1-4f26-bf0a-eb19a041b2e4",
   "metadata": {},
   "outputs": [
    {
     "ename": "TypeError",
     "evalue": "d() missing 1 required positional argument: 'x'",
     "output_type": "error",
     "traceback": [
      "\u001b[0;31m---------------------------------------------------------------------------\u001b[0m",
      "\u001b[0;31mTypeError\u001b[0m                                 Traceback (most recent call last)",
      "Input \u001b[0;32mIn [62]\u001b[0m, in \u001b[0;36m<cell line: 1>\u001b[0;34m()\u001b[0m\n\u001b[0;32m----> 1\u001b[0m \u001b[43md\u001b[49m\u001b[43m(\u001b[49m\u001b[43mf\u001b[49m\u001b[43m(\u001b[49m\u001b[38;5;241;43m2\u001b[39;49m\u001b[43m,\u001b[49m\u001b[38;5;241;43m3\u001b[39;49m\u001b[43m)\u001b[49m\u001b[43m)\u001b[49m\n",
      "\u001b[0;31mTypeError\u001b[0m: d() missing 1 required positional argument: 'x'"
     ]
    }
   ],
   "source": [
    "d(f(2,3))"
   ]
  },
  {
   "cell_type": "markdown",
   "id": "50da0a25-3b38-4028-8732-5df38ad83057",
   "metadata": {},
   "source": [
    "왜 안 될까?\n",
    "- 변수를 하나라 하고 가정 후 f 만들었었잖아\n",
    "- 편미분으로 구현하고자 한다면\n",
    "- x,y 각각 편미분 할 것을 정의해놓는 것 필요, 구현하는 패키지 쓰면 편하겠지.\n",
    "- 텐서에서 그 패키지 찾아서 사용하자"
   ]
  },
  {
   "cell_type": "markdown",
   "id": "375de602-d71a-43f7-abd0-97a03c17e329",
   "metadata": {
    "id": "375de602-d71a-43f7-abd0-97a03c17e329"
   },
   "source": [
    "#### tf.GradientTape() 사용방법 "
   ]
  },
  {
   "cell_type": "markdown",
   "id": "9e09137f-970b-4f0f-a706-7586cf507d4c",
   "metadata": {
    "id": "9e09137f-970b-4f0f-a706-7586cf507d4c"
   },
   "source": [
    "`-` 예제1: $x=2$에서 $y=3x^2$의 도함수값을 구하라. "
   ]
  },
  {
   "cell_type": "code",
   "execution_count": 63,
   "id": "96651e56-f151-4672-811f-d9c1fc777aa4",
   "metadata": {},
   "outputs": [],
   "source": [
    "x = tf.Variable(2.0) # 미분하고 싶은 값을 tf.Variable로 잡아라\n",
    "a = tf.constant(3.0)"
   ]
  },
  {
   "cell_type": "code",
   "execution_count": 64,
   "id": "b1ac2a40-4063-4f3a-9fa7-e58a641fd540",
   "metadata": {},
   "outputs": [
    {
     "data": {
      "text/plain": [
       "<tensorflow.python.eager.backprop.GradientTape at 0x7f0be029edd0>"
      ]
     },
     "execution_count": 64,
     "metadata": {},
     "output_type": "execute_result"
    }
   ],
   "source": [
    "mytape = tf.GradientTape() # 기울기, 뭔가를 입력하는...\n",
    "mytape"
   ]
  },
  {
   "cell_type": "markdown",
   "id": "3341b2c8-5f1d-40a0-ab74-752d5a02bf8c",
   "metadata": {},
   "source": [
    "뭔가 실행이 되었고 저 메모리 주소안에 있다?!"
   ]
  },
  {
   "cell_type": "code",
   "execution_count": 66,
   "id": "11ca0666-9159-425d-ab5c-91668af7dd00",
   "metadata": {
    "scrolled": true,
    "tags": []
   },
   "outputs": [
    {
     "data": {
      "text/plain": [
       "\u001b[0;31mType:\u001b[0m           GradientTape\n",
       "\u001b[0;31mString form:\u001b[0m    <tensorflow.python.eager.backprop.GradientTape object at 0x7f0be029edd0>\n",
       "\u001b[0;31mFile:\u001b[0m           ~/anaconda3/envs/stbda2022/lib/python3.10/site-packages/tensorflow/python/eager/backprop.py\n",
       "\u001b[0;31mDocstring:\u001b[0m     \n",
       "Record operations for automatic differentiation.\n",
       "\n",
       "Operations are recorded if they are executed within this context manager and\n",
       "at least one of their inputs is being \"watched\".\n",
       "\n",
       "Trainable variables (created by `tf.Variable` or `tf.compat.v1.get_variable`,\n",
       "where `trainable=True` is default in both cases) are automatically watched.\n",
       "Tensors can be manually watched by invoking the `watch` method on this context\n",
       "manager.\n",
       "\n",
       "For example, consider the function `y = x * x`. The gradient at `x = 3.0` can\n",
       "be computed as:\n",
       "\n",
       ">>> x = tf.constant(3.0)\n",
       ">>> with tf.GradientTape() as g:\n",
       "...   g.watch(x)\n",
       "...   y = x * x\n",
       ">>> dy_dx = g.gradient(y, x)\n",
       ">>> print(dy_dx)\n",
       "tf.Tensor(6.0, shape=(), dtype=float32)\n",
       "\n",
       "GradientTapes can be nested to compute higher-order derivatives. For example,\n",
       "\n",
       ">>> x = tf.constant(5.0)\n",
       ">>> with tf.GradientTape() as g:\n",
       "...   g.watch(x)\n",
       "...   with tf.GradientTape() as gg:\n",
       "...     gg.watch(x)\n",
       "...     y = x * x\n",
       "...   dy_dx = gg.gradient(y, x)  # dy_dx = 2 * x\n",
       ">>> d2y_dx2 = g.gradient(dy_dx, x)  # d2y_dx2 = 2\n",
       ">>> print(dy_dx)\n",
       "tf.Tensor(10.0, shape=(), dtype=float32)\n",
       ">>> print(d2y_dx2)\n",
       "tf.Tensor(2.0, shape=(), dtype=float32)\n",
       "\n",
       "By default, the resources held by a GradientTape are released as soon as\n",
       "GradientTape.gradient() method is called. To compute multiple gradients over\n",
       "the same computation, create a persistent gradient tape. This allows multiple\n",
       "calls to the gradient() method as resources are released when the tape object\n",
       "is garbage collected. For example:\n",
       "\n",
       ">>> x = tf.constant(3.0)\n",
       ">>> with tf.GradientTape(persistent=True) as g:\n",
       "...   g.watch(x)\n",
       "...   y = x * x\n",
       "...   z = y * y\n",
       ">>> dz_dx = g.gradient(z, x)  # (4*x^3 at x = 3)\n",
       ">>> print(dz_dx)\n",
       "tf.Tensor(108.0, shape=(), dtype=float32)\n",
       ">>> dy_dx = g.gradient(y, x)\n",
       ">>> print(dy_dx)\n",
       "tf.Tensor(6.0, shape=(), dtype=float32)\n",
       "\n",
       "By default GradientTape will automatically watch any trainable variables that\n",
       "are accessed inside the context. If you want fine grained control over which\n",
       "variables are watched you can disable automatic tracking by passing\n",
       "`watch_accessed_variables=False` to the tape constructor:\n",
       "\n",
       ">>> x = tf.Variable(2.0)\n",
       ">>> w = tf.Variable(5.0)\n",
       ">>> with tf.GradientTape(\n",
       "...     watch_accessed_variables=False, persistent=True) as tape:\n",
       "...   tape.watch(x)\n",
       "...   y = x ** 2  # Gradients will be available for `x`.\n",
       "...   z = w ** 3  # No gradients will be available as `w` isn't being watched.\n",
       ">>> dy_dx = tape.gradient(y, x)\n",
       ">>> print(dy_dx)\n",
       "tf.Tensor(4.0, shape=(), dtype=float32)\n",
       ">>> # No gradients will be available as `w` isn't being watched.\n",
       ">>> dz_dy = tape.gradient(z, w)\n",
       ">>> print(dz_dy)\n",
       "None\n",
       "\n",
       "Note that when using models you should ensure that your variables exist when\n",
       "using `watch_accessed_variables=False`. Otherwise it's quite easy to make your\n",
       "first iteration not have any gradients:\n",
       "\n",
       "```python\n",
       "a = tf.keras.layers.Dense(32)\n",
       "b = tf.keras.layers.Dense(32)\n",
       "\n",
       "with tf.GradientTape(watch_accessed_variables=False) as tape:\n",
       "  tape.watch(a.variables)  # Since `a.build` has not been called at this point\n",
       "                           # `a.variables` will return an empty list and the\n",
       "                           # tape will not be watching anything.\n",
       "  result = b(a(inputs))\n",
       "  tape.gradient(result, a.variables)  # The result of this computation will be\n",
       "                                      # a list of `None`s since a's variables\n",
       "                                      # are not being watched.\n",
       "```\n",
       "\n",
       "Note that only tensors with real or complex dtypes are differentiable.\n",
       "\u001b[0;31mInit docstring:\u001b[0m\n",
       "Creates a new GradientTape.\n",
       "\n",
       "Args:\n",
       "  persistent: Boolean controlling whether a persistent gradient tape\n",
       "    is created. False by default, which means at most one call can\n",
       "    be made to the gradient() method on this object.\n",
       "  watch_accessed_variables: Boolean controlling whether the tape will\n",
       "    automatically `watch` any (trainable) variables accessed while the tape\n",
       "    is active. Defaults to True meaning gradients can be requested from any\n",
       "    result computed in the tape derived from reading a trainable `Variable`.\n",
       "    If False users must explicitly `watch` any `Variable`s they want to\n",
       "    request gradients from.\n"
      ]
     },
     "metadata": {},
     "output_type": "display_data"
    }
   ],
   "source": [
    "#collapse_output\n",
    "?mytape"
   ]
  },
  {
   "cell_type": "markdown",
   "id": "349a6622-f043-4aa4-9983-f48a3dce36a9",
   "metadata": {},
   "source": [
    "mytape 메소드 확인"
   ]
  },
  {
   "cell_type": "code",
   "execution_count": 67,
   "id": "e6b78e1c-fb40-44d2-abad-cc2abdc42dfc",
   "metadata": {
    "scrolled": true,
    "tags": []
   },
   "outputs": [
    {
     "data": {
      "text/plain": [
       "['__class__',\n",
       " '__delattr__',\n",
       " '__dict__',\n",
       " '__dir__',\n",
       " '__doc__',\n",
       " '__enter__',\n",
       " '__eq__',\n",
       " '__exit__',\n",
       " '__format__',\n",
       " '__ge__',\n",
       " '__getattribute__',\n",
       " '__gt__',\n",
       " '__hash__',\n",
       " '__init__',\n",
       " '__init_subclass__',\n",
       " '__le__',\n",
       " '__lt__',\n",
       " '__module__',\n",
       " '__ne__',\n",
       " '__new__',\n",
       " '__reduce__',\n",
       " '__reduce_ex__',\n",
       " '__repr__',\n",
       " '__setattr__',\n",
       " '__sizeof__',\n",
       " '__str__',\n",
       " '__subclasshook__',\n",
       " '__weakref__',\n",
       " '_ensure_recording',\n",
       " '_persistent',\n",
       " '_pop_tape',\n",
       " '_push_tape',\n",
       " '_recording',\n",
       " '_tape',\n",
       " '_tf_api_names',\n",
       " '_tf_api_names_v1',\n",
       " '_watch_accessed_variables',\n",
       " '_watched_variables',\n",
       " 'batch_jacobian',\n",
       " 'gradient',\n",
       " 'jacobian',\n",
       " 'reset',\n",
       " 'stop_recording',\n",
       " 'watch',\n",
       " 'watched_variables']"
      ]
     },
     "execution_count": 67,
     "metadata": {},
     "output_type": "execute_result"
    }
   ],
   "source": [
    "#collapse_output\n",
    "dir(mytape)"
   ]
  },
  {
   "cell_type": "markdown",
   "id": "2d5673a5-6ed5-42cc-be7b-f37848392d57",
   "metadata": {},
   "source": [
    "mytape을 tab하면 나오는 method 들 이외에 숨겨진 method값이 나온다!\n",
    "- 왜 숨겨져 있었지? 밑에 설명"
   ]
  },
  {
   "cell_type": "code",
   "execution_count": 84,
   "id": "edfe9c3b-7dcf-4e2f-a13f-568453c7a344",
   "metadata": {},
   "outputs": [
    {
     "data": {
      "text/plain": [
       "\u001b[0;31mSignature:\u001b[0m \u001b[0mmytape\u001b[0m\u001b[0;34m.\u001b[0m\u001b[0m__enter__\u001b[0m\u001b[0;34m(\u001b[0m\u001b[0;34m)\u001b[0m\u001b[0;34m\u001b[0m\u001b[0;34m\u001b[0m\u001b[0m\n",
       "\u001b[0;31mDocstring:\u001b[0m Enters a context inside which operations are recorded on this tape.\n",
       "\u001b[0;31mFile:\u001b[0m      ~/anaconda3/envs/stbda2022/lib/python3.10/site-packages/tensorflow/python/eager/backprop.py\n",
       "\u001b[0;31mType:\u001b[0m      method\n"
      ]
     },
     "metadata": {},
     "output_type": "display_data"
    }
   ],
   "source": [
    "?mytape.__enter__"
   ]
  },
  {
   "cell_type": "markdown",
   "id": "a2bf745b-b144-4198-be67-6875cf499be1",
   "metadata": {},
   "source": [
    "- 비디오 테이프 또는 연습장의 개념\n",
    "- 폈다?-> 녹화의 개념, 기록의 개념\n",
    "- 녹화 또는 가록을 할 준비가 되었다"
   ]
  },
  {
   "cell_type": "code",
   "execution_count": 68,
   "id": "d4e71767-4923-4b3c-bfbd-6e5a60e301f8",
   "metadata": {},
   "outputs": [],
   "source": [
    "mytape = tf.GradientTape()\n",
    "mytape.__enter__() # 기록 시작\n",
    "y = a*x**2 # y=ax^2 = 3x^2\n",
    "mytape.__exit__(None,None,None)# 기록 끝"
   ]
  },
  {
   "cell_type": "code",
   "execution_count": 69,
   "id": "4ea63e85-5f69-48c1-b1a4-c50d627d3c56",
   "metadata": {},
   "outputs": [
    {
     "data": {
      "text/plain": [
       "<tf.Tensor: shape=(), dtype=float32, numpy=12.0>"
      ]
     },
     "execution_count": 69,
     "metadata": {},
     "output_type": "execute_result"
    }
   ],
   "source": [
    "mytape.gradient(y,x) # y를 x로 미분하라"
   ]
  },
  {
   "cell_type": "markdown",
   "id": "db68f7c0-bdb1-450b-8f96-a861d2a37c73",
   "metadata": {},
   "source": [
    "1. 미분하고 싶은 값을 tf.Variable에 저장한다.\n",
    "2. 미분하고 싶지 않은 값도 tf.constant로 어딘가에 선언한다. \n",
    "3. gradientt으로 만들어서\n",
    "4. enter exit 할건데\n",
    "5. 그 사이에 수식을 입력"
   ]
  },
  {
   "cell_type": "markdown",
   "id": "51a61b06-cf87-4943-903f-ba221d7f73d9",
   "metadata": {
    "id": "51a61b06-cf87-4943-903f-ba221d7f73d9"
   },
   "source": [
    "`-` 예제2: 조금 다른예제 "
   ]
  },
  {
   "cell_type": "code",
   "execution_count": 70,
   "id": "9b524f00-1e48-4ff4-b63f-d2abb8036e68",
   "metadata": {},
   "outputs": [
    {
     "data": {
      "text/plain": [
       "<tf.Tensor: shape=(), dtype=float32, numpy=18.0>"
      ]
     },
     "execution_count": 70,
     "metadata": {},
     "output_type": "execute_result"
    }
   ],
   "source": [
    "x = tf.Variable(2.0) \n",
    "# a = tf.constant(3.0)\n",
    "\n",
    "mytape = tf.GradientTape()\n",
    "mytape.__enter__() # 기록 시작\n",
    "a = x/2*3 # a = (3/2)x \n",
    "y = a*x**2 # y=ax^2 = (3/2)x^3\n",
    "mytape.__exit__(None,None,None)# 기록 끝\n",
    "\n",
    "mytape.gradient(y,x)"
   ]
  },
  {
   "cell_type": "markdown",
   "id": "021388c1-6dbd-4f81-8c7b-cfe7e12886c2",
   "metadata": {},
   "source": [
    "$$a = \\frac{3}{2}x$$\n",
    "$$y = ax^2 = \\frac{3}{2} x^3$$"
   ]
  },
  {
   "cell_type": "markdown",
   "id": "15333d02-9c07-4fb6-b20a-fa4c5d5caeae",
   "metadata": {},
   "source": [
    "$$\\frac{dy}{dx} = \\frac{3}{2} 3 x^2$$"
   ]
  },
  {
   "cell_type": "code",
   "execution_count": 96,
   "id": "d4e20e13-c6ed-4037-b6a4-7b1094deedea",
   "metadata": {},
   "outputs": [
    {
     "data": {
      "text/plain": [
       "18.0"
      ]
     },
     "execution_count": 96,
     "metadata": {},
     "output_type": "execute_result"
    }
   ],
   "source": [
    "3/2*3*4"
   ]
  },
  {
   "cell_type": "markdown",
   "id": "cd618c28-6df3-42dd-84d2-2260a8338293",
   "metadata": {
    "id": "cd618c28-6df3-42dd-84d2-2260a8338293"
   },
   "source": [
    "`-` 테이프의 개념 ($\\star$)"
   ]
  },
  {
   "cell_type": "markdown",
   "id": "4bb1b216-0f6e-496b-b5bf-8692e27315c8",
   "metadata": {},
   "source": [
    "tape에 미분하고 싶은 값과 안 할 값을 variable과 constant 이용해서 정의를 해주는데, \n",
    "- 컴퓨터에게 수식을 써서 보여줘야 하는데, 이를 명시해주자\n",
    "- 공책을 만들어주는데 그 이름도 명시해주자 여기서는 mytape"
   ]
  },
  {
   "cell_type": "markdown",
   "id": "1a3b10c6-2ce1-4161-ae1a-661d3da4b209",
   "metadata": {
    "id": "1a3b10c6-2ce1-4161-ae1a-661d3da4b209"
   },
   "source": [
    "(상황) \n",
    "\n",
    "우리가 어려운 미분계산을 컴퓨터에게 부탁하는 상황임. (예를들면 $y=3x^2$) 컴퓨터에게 부탁을 하기 위해서는 연습장(=테이프)에 $y=3x^2$이라는 수식을 써서 보여줘야하는데 이때 컴퓨터에게 target이 무엇인지 그리고 무엇으로 미분하고 싶은 것인지를 명시해야함. \n",
    "\n",
    "(1) `mytape = tf.GradientTape()`: tf.GradientTape()는 연습장을 만드는 명령어, 만들어진 연습장을 mytape라고 이름을 붙인다.\n",
    "- 여러개의 연습장 생성해서 연속적인 계산 가능하게끔,\n",
    "- 연습장을 정의해줘야 여러 개의 연습장도 정의하는 길로 가겠지\n",
    "\n",
    "(2) `mytape.__enter__()`: 만들어진 공책을 연다.( = 기록할 수 있는 상태로 만든다.)\n",
    "- 지금부터 내가 수식을 소개할게\n",
    "\n",
    "(3) `a=x/2*3; y=a*x**2`: 컴퓨터에게 전달할 수식을 쓴다.\n",
    "\n",
    "(4) `mytape.__exit__(None,None,None)`: 공책을 닫는다.\n",
    "\n",
    "(5) `mytape.gradient(y,x)`: $y$룰 $x$로 미분하라는 메모를 남기고 컴퓨터에게 전달한다."
   ]
  },
  {
   "cell_type": "markdown",
   "id": "e1f2ac28-a707-4128-90a8-d4b01019e86f",
   "metadata": {
    "id": "e1f2ac28-a707-4128-90a8-d4b01019e86f"
   },
   "source": [
    "`-` 예제3: 연습장을 언제 열고 닫을지 결정하는건 중요하다. "
   ]
  },
  {
   "cell_type": "code",
   "execution_count": 71,
   "id": "48629865-d680-4a36-bafc-96c12f4cfeba",
   "metadata": {},
   "outputs": [
    {
     "data": {
      "text/plain": [
       "<tf.Tensor: shape=(), dtype=float32, numpy=12.0>"
      ]
     },
     "execution_count": 71,
     "metadata": {},
     "output_type": "execute_result"
    }
   ],
   "source": [
    "x = tf.Variable(2.0) \n",
    "a = (x/2)*3\n",
    "\n",
    "mytape = tf.GradientTape()\n",
    "mytape.__enter__() # 기록 시작\n",
    "y = a*x**2\n",
    "mytape.__exit__(None,None,None)# 기록 끝\n",
    "\n",
    "mytape.gradient(y,x)"
   ]
  },
  {
   "cell_type": "markdown",
   "id": "b4c59255-5e25-428c-952d-bc31a9abc1f2",
   "metadata": {},
   "source": [
    "연습장 밖에서 정의한 a, 컴퓨터는 이 식을 모른다."
   ]
  },
  {
   "cell_type": "markdown",
   "id": "cb9efd6b-b591-44f2-b424-1689e2014181",
   "metadata": {
    "id": "cb9efd6b-b591-44f2-b424-1689e2014181"
   },
   "source": [
    "`-` 예제4: with문과 함께 쓰는 tf.GradientTape()"
   ]
  },
  {
   "cell_type": "markdown",
   "id": "ad1364f8-620d-4700-9010-747a96644484",
   "metadata": {},
   "source": [
    "매크로화 시켜볼까"
   ]
  },
  {
   "cell_type": "markdown",
   "id": "aa022c1c-0d46-47a3-84fe-246b301a10ac",
   "metadata": {},
   "source": [
    "with 다음 선언되는 것은 그 다음 실행되는 것은 object가 생성됨\n",
    "- 똑같이 실행될 식 가져와"
   ]
  },
  {
   "cell_type": "code",
   "execution_count": 72,
   "id": "acf81bde-3b0f-4c65-a4b2-64c1ddb46cd5",
   "metadata": {},
   "outputs": [],
   "source": [
    "x = tf.Variable(2.0) \n",
    "a = (x/2)*3"
   ]
  },
  {
   "cell_type": "code",
   "execution_count": 73,
   "id": "2d697d1b-a3be-492a-a476-359846c46d4f",
   "metadata": {},
   "outputs": [],
   "source": [
    "with tf.GradientTape() as mytape:\n",
    "    ## with 문 시작\n",
    "    y = a*x**2\n",
    "    ## with문 끝"
   ]
  },
  {
   "cell_type": "code",
   "execution_count": 74,
   "id": "63efa510-0b6e-493a-9412-0f55077bc0c2",
   "metadata": {},
   "outputs": [
    {
     "data": {
      "text/plain": [
       "<tf.Tensor: shape=(), dtype=float32, numpy=12.0>"
      ]
     },
     "execution_count": 74,
     "metadata": {},
     "output_type": "execute_result"
    }
   ],
   "source": [
    "mytape.gradient(y,x)"
   ]
  },
  {
   "cell_type": "markdown",
   "id": "d36482a3-5abe-4f99-b1ee-6a2956b54903",
   "metadata": {},
   "source": [
    "(문법해설)"
   ]
  },
  {
   "cell_type": "markdown",
   "id": "83a496d6-9271-486f-9284-55e3cf162007",
   "metadata": {},
   "source": [
    "아래와 같이 쓴다.\n",
    "```python\n",
    "with expression as myname:\n",
    "    ## with문 시작: myname.__enter__()\n",
    "    실행하고 싶은 것들 입력\n",
    "    ## with문 끝: myname.__exit__()\n",
    "```"
   ]
  },
  {
   "cell_type": "markdown",
   "id": "35f3dab9-fd3a-475b-82c4-f92591ec6123",
   "metadata": {},
   "source": [
    "위와 같은 형식을 많이 접할 수 있다.\n",
    "- 반복적인 계산 포함될 때 편해"
   ]
  },
  {
   "cell_type": "markdown",
   "id": "0aa62043-6b60-4b5d-a8db-642dcf8e0a09",
   "metadata": {},
   "source": [
    "(1) expresion 의 실행 결과 오브젝트가 생성, 생성된 오브젝트는 myname으로 이름 붙임. 이 오브젝트는 `.__enter__()`와 `.__exit__`를 숨겨진 기능으로 포함해야 한다.\n",
    "- __ 있는 이유 사용자가 쓸 필요가 없으니까.\n",
    "- with같이 쓰면 __ 쓸 이유가 없어서 아예 숨겨버림(위에서 왜 숨겼지?에 대한 답변이 되겠지)\n",
    "    - with문 시작하면 __enter__로 시작되고 __exit__로 끝나는게 자동으로 정의된다."
   ]
  },
  {
   "cell_type": "markdown",
   "id": "75180893-9be1-4a68-b2cd-072a4d140397",
   "metadata": {},
   "source": [
    "(2) with문이 시작되면서 `myname__enter__()`이 실행된다.\n",
    "- 여기까지는 약속."
   ]
  },
  {
   "cell_type": "markdown",
   "id": "ce0348a8-1153-4fb8-a5bc-f891bf5ffe3a",
   "metadata": {},
   "source": [
    "(3) 실행하고 싶은 것들 입력한 게 실행된다."
   ]
  },
  {
   "cell_type": "markdown",
   "id": "85901e45-cc4b-4b8f-9d84-4ccaf936528e",
   "metadata": {},
   "source": [
    "(4) with문이 종료되면서 `myname.__exit__()`이 실행된다."
   ]
  },
  {
   "cell_type": "markdown",
   "id": "102bdfc3-3585-405d-bbd3-e46c15ed506e",
   "metadata": {
    "id": "102bdfc3-3585-405d-bbd3-e46c15ed506e"
   },
   "source": [
    "`-` 예제5: 예제2를 with문과 함께 구현 "
   ]
  },
  {
   "cell_type": "code",
   "execution_count": 75,
   "id": "13d80997-7d79-41e2-85fc-82cc1d1fbad3",
   "metadata": {},
   "outputs": [
    {
     "data": {
      "text/plain": [
       "<tf.Tensor: shape=(), dtype=float32, numpy=18.0>"
      ]
     },
     "execution_count": 75,
     "metadata": {},
     "output_type": "execute_result"
    }
   ],
   "source": [
    "x = tf.Variable(2.0) \n",
    "\n",
    "with tf.GradientTape() as myname:\n",
    "    a = x/2*3\n",
    "    y = a*x**2\n",
    "    \n",
    "myname.gradient(y,x)"
   ]
  },
  {
   "cell_type": "markdown",
   "id": "5bbb104c-3369-486c-93a3-42972f942632",
   "metadata": {
    "id": "5bbb104c-3369-486c-93a3-42972f942632"
   },
   "source": [
    "`-` 예제6: persistent = True"
   ]
  },
  {
   "cell_type": "code",
   "execution_count": 76,
   "id": "97bae9f9-2b8c-4762-b209-d09c982a4920",
   "metadata": {
    "scrolled": true,
    "tags": []
   },
   "outputs": [
    {
     "data": {
      "text/plain": [
       "\u001b[0;31mInit signature:\u001b[0m \u001b[0mtf\u001b[0m\u001b[0;34m.\u001b[0m\u001b[0mGradientTape\u001b[0m\u001b[0;34m(\u001b[0m\u001b[0mpersistent\u001b[0m\u001b[0;34m=\u001b[0m\u001b[0;32mFalse\u001b[0m\u001b[0;34m,\u001b[0m \u001b[0mwatch_accessed_variables\u001b[0m\u001b[0;34m=\u001b[0m\u001b[0;32mTrue\u001b[0m\u001b[0;34m)\u001b[0m\u001b[0;34m\u001b[0m\u001b[0;34m\u001b[0m\u001b[0m\n",
       "\u001b[0;31mDocstring:\u001b[0m     \n",
       "Record operations for automatic differentiation.\n",
       "\n",
       "Operations are recorded if they are executed within this context manager and\n",
       "at least one of their inputs is being \"watched\".\n",
       "\n",
       "Trainable variables (created by `tf.Variable` or `tf.compat.v1.get_variable`,\n",
       "where `trainable=True` is default in both cases) are automatically watched.\n",
       "Tensors can be manually watched by invoking the `watch` method on this context\n",
       "manager.\n",
       "\n",
       "For example, consider the function `y = x * x`. The gradient at `x = 3.0` can\n",
       "be computed as:\n",
       "\n",
       ">>> x = tf.constant(3.0)\n",
       ">>> with tf.GradientTape() as g:\n",
       "...   g.watch(x)\n",
       "...   y = x * x\n",
       ">>> dy_dx = g.gradient(y, x)\n",
       ">>> print(dy_dx)\n",
       "tf.Tensor(6.0, shape=(), dtype=float32)\n",
       "\n",
       "GradientTapes can be nested to compute higher-order derivatives. For example,\n",
       "\n",
       ">>> x = tf.constant(5.0)\n",
       ">>> with tf.GradientTape() as g:\n",
       "...   g.watch(x)\n",
       "...   with tf.GradientTape() as gg:\n",
       "...     gg.watch(x)\n",
       "...     y = x * x\n",
       "...   dy_dx = gg.gradient(y, x)  # dy_dx = 2 * x\n",
       ">>> d2y_dx2 = g.gradient(dy_dx, x)  # d2y_dx2 = 2\n",
       ">>> print(dy_dx)\n",
       "tf.Tensor(10.0, shape=(), dtype=float32)\n",
       ">>> print(d2y_dx2)\n",
       "tf.Tensor(2.0, shape=(), dtype=float32)\n",
       "\n",
       "By default, the resources held by a GradientTape are released as soon as\n",
       "GradientTape.gradient() method is called. To compute multiple gradients over\n",
       "the same computation, create a persistent gradient tape. This allows multiple\n",
       "calls to the gradient() method as resources are released when the tape object\n",
       "is garbage collected. For example:\n",
       "\n",
       ">>> x = tf.constant(3.0)\n",
       ">>> with tf.GradientTape(persistent=True) as g:\n",
       "...   g.watch(x)\n",
       "...   y = x * x\n",
       "...   z = y * y\n",
       ">>> dz_dx = g.gradient(z, x)  # (4*x^3 at x = 3)\n",
       ">>> print(dz_dx)\n",
       "tf.Tensor(108.0, shape=(), dtype=float32)\n",
       ">>> dy_dx = g.gradient(y, x)\n",
       ">>> print(dy_dx)\n",
       "tf.Tensor(6.0, shape=(), dtype=float32)\n",
       "\n",
       "By default GradientTape will automatically watch any trainable variables that\n",
       "are accessed inside the context. If you want fine grained control over which\n",
       "variables are watched you can disable automatic tracking by passing\n",
       "`watch_accessed_variables=False` to the tape constructor:\n",
       "\n",
       ">>> x = tf.Variable(2.0)\n",
       ">>> w = tf.Variable(5.0)\n",
       ">>> with tf.GradientTape(\n",
       "...     watch_accessed_variables=False, persistent=True) as tape:\n",
       "...   tape.watch(x)\n",
       "...   y = x ** 2  # Gradients will be available for `x`.\n",
       "...   z = w ** 3  # No gradients will be available as `w` isn't being watched.\n",
       ">>> dy_dx = tape.gradient(y, x)\n",
       ">>> print(dy_dx)\n",
       "tf.Tensor(4.0, shape=(), dtype=float32)\n",
       ">>> # No gradients will be available as `w` isn't being watched.\n",
       ">>> dz_dy = tape.gradient(z, w)\n",
       ">>> print(dz_dy)\n",
       "None\n",
       "\n",
       "Note that when using models you should ensure that your variables exist when\n",
       "using `watch_accessed_variables=False`. Otherwise it's quite easy to make your\n",
       "first iteration not have any gradients:\n",
       "\n",
       "```python\n",
       "a = tf.keras.layers.Dense(32)\n",
       "b = tf.keras.layers.Dense(32)\n",
       "\n",
       "with tf.GradientTape(watch_accessed_variables=False) as tape:\n",
       "  tape.watch(a.variables)  # Since `a.build` has not been called at this point\n",
       "                           # `a.variables` will return an empty list and the\n",
       "                           # tape will not be watching anything.\n",
       "  result = b(a(inputs))\n",
       "  tape.gradient(result, a.variables)  # The result of this computation will be\n",
       "                                      # a list of `None`s since a's variables\n",
       "                                      # are not being watched.\n",
       "```\n",
       "\n",
       "Note that only tensors with real or complex dtypes are differentiable.\n",
       "\u001b[0;31mInit docstring:\u001b[0m\n",
       "Creates a new GradientTape.\n",
       "\n",
       "Args:\n",
       "  persistent: Boolean controlling whether a persistent gradient tape\n",
       "    is created. False by default, which means at most one call can\n",
       "    be made to the gradient() method on this object.\n",
       "  watch_accessed_variables: Boolean controlling whether the tape will\n",
       "    automatically `watch` any (trainable) variables accessed while the tape\n",
       "    is active. Defaults to True meaning gradients can be requested from any\n",
       "    result computed in the tape derived from reading a trainable `Variable`.\n",
       "    If False users must explicitly `watch` any `Variable`s they want to\n",
       "    request gradients from.\n",
       "\u001b[0;31mFile:\u001b[0m           ~/anaconda3/envs/stbda2022/lib/python3.10/site-packages/tensorflow/python/eager/backprop.py\n",
       "\u001b[0;31mType:\u001b[0m           type\n",
       "\u001b[0;31mSubclasses:\u001b[0m     LossScaleGradientTape\n"
      ]
     },
     "metadata": {},
     "output_type": "display_data"
    }
   ],
   "source": [
    "#collapse_output\n",
    "tf.GradientTape?"
   ]
  },
  {
   "cell_type": "markdown",
   "id": "7b0ff35c-fb36-429b-aabd-2ae05633ad22",
   "metadata": {},
   "source": [
    "(관찰1)"
   ]
  },
  {
   "cell_type": "code",
   "execution_count": 77,
   "id": "63e05bac-fbef-4c67-a741-436df78cfa56",
   "metadata": {},
   "outputs": [],
   "source": [
    "x = tf.Variable(2.0) \n",
    "\n",
    "with tf.GradientTape() as myname:\n",
    "    a = x/2*3\n",
    "    y = a*x**2"
   ]
  },
  {
   "cell_type": "code",
   "execution_count": 78,
   "id": "f90c00e7-ad66-4f7f-ad85-797d2cf43f01",
   "metadata": {
    "tags": []
   },
   "outputs": [
    {
     "data": {
      "text/plain": [
       "<tf.Tensor: shape=(), dtype=float32, numpy=18.0>"
      ]
     },
     "execution_count": 78,
     "metadata": {},
     "output_type": "execute_result"
    }
   ],
   "source": [
    "myname.gradient(y,x)"
   ]
  },
  {
   "cell_type": "code",
   "execution_count": 79,
   "id": "0daf0fbf-ab64-4a93-98b8-42d172db14fe",
   "metadata": {
    "tags": []
   },
   "outputs": [
    {
     "ename": "RuntimeError",
     "evalue": "A non-persistent GradientTape can only be used to compute one set of gradients (or jacobians)",
     "output_type": "error",
     "traceback": [
      "\u001b[0;31m---------------------------------------------------------------------------\u001b[0m",
      "\u001b[0;31mRuntimeError\u001b[0m                              Traceback (most recent call last)",
      "Input \u001b[0;32mIn [79]\u001b[0m, in \u001b[0;36m<cell line: 1>\u001b[0;34m()\u001b[0m\n\u001b[0;32m----> 1\u001b[0m \u001b[43mmyname\u001b[49m\u001b[38;5;241;43m.\u001b[39;49m\u001b[43mgradient\u001b[49m\u001b[43m(\u001b[49m\u001b[43my\u001b[49m\u001b[43m,\u001b[49m\u001b[43mx\u001b[49m\u001b[43m)\u001b[49m\n",
      "File \u001b[0;32m~/anaconda3/envs/stbda2022/lib/python3.10/site-packages/tensorflow/python/eager/backprop.py:1032\u001b[0m, in \u001b[0;36mGradientTape.gradient\u001b[0;34m(self, target, sources, output_gradients, unconnected_gradients)\u001b[0m\n\u001b[1;32m   1002\u001b[0m \u001b[38;5;124;03m\"\"\"Computes the gradient using operations recorded in context of this tape.\u001b[39;00m\n\u001b[1;32m   1003\u001b[0m \n\u001b[1;32m   1004\u001b[0m \u001b[38;5;124;03mNote: Unless you set `persistent=True` a GradientTape can only be used to\u001b[39;00m\n\u001b[0;32m   (...)\u001b[0m\n\u001b[1;32m   1029\u001b[0m \u001b[38;5;124;03m   called with an unknown value.\u001b[39;00m\n\u001b[1;32m   1030\u001b[0m \u001b[38;5;124;03m\"\"\"\u001b[39;00m\n\u001b[1;32m   1031\u001b[0m \u001b[38;5;28;01mif\u001b[39;00m \u001b[38;5;28mself\u001b[39m\u001b[38;5;241m.\u001b[39m_tape \u001b[38;5;129;01mis\u001b[39;00m \u001b[38;5;28;01mNone\u001b[39;00m:\n\u001b[0;32m-> 1032\u001b[0m   \u001b[38;5;28;01mraise\u001b[39;00m \u001b[38;5;167;01mRuntimeError\u001b[39;00m(\u001b[38;5;124m\"\u001b[39m\u001b[38;5;124mA non-persistent GradientTape can only be used to \u001b[39m\u001b[38;5;124m\"\u001b[39m\n\u001b[1;32m   1033\u001b[0m                      \u001b[38;5;124m\"\u001b[39m\u001b[38;5;124mcompute one set of gradients (or jacobians)\u001b[39m\u001b[38;5;124m\"\u001b[39m)\n\u001b[1;32m   1034\u001b[0m \u001b[38;5;28;01mif\u001b[39;00m \u001b[38;5;28mself\u001b[39m\u001b[38;5;241m.\u001b[39m_recording:\n\u001b[1;32m   1035\u001b[0m   \u001b[38;5;28;01mif\u001b[39;00m \u001b[38;5;129;01mnot\u001b[39;00m \u001b[38;5;28mself\u001b[39m\u001b[38;5;241m.\u001b[39m_persistent:\n",
      "\u001b[0;31mRuntimeError\u001b[0m: A non-persistent GradientTape can only be used to compute one set of gradients (or jacobians)"
     ]
    }
   ],
   "source": [
    "myname.gradient(y,x)"
   ]
  },
  {
   "cell_type": "markdown",
   "id": "c86a77b5-1a17-4cba-8929-a51ef1170fbb",
   "metadata": {},
   "source": [
    "한 번 연산하면 버려버리는 컴퓨터, 그래서 두 번 이상 실행하면 에러가 뜨지,\n",
    "- keep해놓기 위한 명령어 persistent!"
   ]
  },
  {
   "cell_type": "markdown",
   "id": "01451ac2-014d-4477-89da-065a47ca3bd4",
   "metadata": {},
   "source": [
    "(관찰2)"
   ]
  },
  {
   "cell_type": "code",
   "execution_count": 80,
   "id": "11e5306f-b8e5-44cd-bf52-8a87cee79ab5",
   "metadata": {},
   "outputs": [],
   "source": [
    "x = tf.Variable(2.0) \n",
    "\n",
    "with tf.GradientTape(persistent=True) as myname:\n",
    "    a = x/2*3\n",
    "    y = a*x**2"
   ]
  },
  {
   "cell_type": "code",
   "execution_count": 81,
   "id": "7301a2c5-9ab2-4922-8906-feea0927d65f",
   "metadata": {
    "tags": []
   },
   "outputs": [
    {
     "data": {
      "text/plain": [
       "<tf.Tensor: shape=(), dtype=float32, numpy=18.0>"
      ]
     },
     "execution_count": 81,
     "metadata": {},
     "output_type": "execute_result"
    }
   ],
   "source": [
    "myname.gradient(y,x)"
   ]
  },
  {
   "cell_type": "code",
   "execution_count": 82,
   "id": "d802e246-b460-438d-9e65-13df257dc07a",
   "metadata": {
    "tags": []
   },
   "outputs": [
    {
     "data": {
      "text/plain": [
       "<tf.Tensor: shape=(), dtype=float32, numpy=18.0>"
      ]
     },
     "execution_count": 82,
     "metadata": {},
     "output_type": "execute_result"
    }
   ],
   "source": [
    "myname.gradient(y,x)"
   ]
  },
  {
   "cell_type": "markdown",
   "id": "d81dd67b-5ea7-4bf1-89a8-c8c788aed104",
   "metadata": {},
   "source": [
    "이제 계속 실행 되지?\n",
    "- 두 번 이상 실행해도 에러가 나지 않는다."
   ]
  },
  {
   "cell_type": "markdown",
   "id": "2260fd24-e15c-4ebc-a69d-3d3b5aa4eb9e",
   "metadata": {
    "id": "2260fd24-e15c-4ebc-a69d-3d3b5aa4eb9e"
   },
   "source": [
    "`-` 예제7: watch"
   ]
  },
  {
   "cell_type": "code",
   "execution_count": 84,
   "id": "32b23a2a-1d18-4e98-8b0f-a76613be5e57",
   "metadata": {},
   "outputs": [
    {
     "data": {
      "text/plain": [
       "\u001b[0;31mSignature:\u001b[0m \u001b[0mmyname\u001b[0m\u001b[0;34m.\u001b[0m\u001b[0mwatch\u001b[0m\u001b[0;34m(\u001b[0m\u001b[0mtensor\u001b[0m\u001b[0;34m)\u001b[0m\u001b[0;34m\u001b[0m\u001b[0;34m\u001b[0m\u001b[0m\n",
       "\u001b[0;31mDocstring:\u001b[0m\n",
       "Ensures that `tensor` is being traced by this tape.\n",
       "\n",
       "Args:\n",
       "  tensor: a Tensor or list of Tensors.\n",
       "\n",
       "Raises:\n",
       "  ValueError: if it encounters something that is not a tensor.\n",
       "\u001b[0;31mFile:\u001b[0m      ~/anaconda3/envs/stbda2022/lib/python3.10/site-packages/tensorflow/python/eager/backprop.py\n",
       "\u001b[0;31mType:\u001b[0m      method\n"
      ]
     },
     "metadata": {},
     "output_type": "display_data"
    }
   ],
   "source": [
    "#collapse_output\n",
    "myname.watch?"
   ]
  },
  {
   "cell_type": "markdown",
   "id": "2dfbfb18-732d-4ac7-9d0f-e596439d0f75",
   "metadata": {},
   "source": [
    "(관찰1)"
   ]
  },
  {
   "cell_type": "code",
   "execution_count": 85,
   "id": "d03a4c1d-08f7-42d4-8e1f-4e1ea38c561e",
   "metadata": {},
   "outputs": [],
   "source": [
    "x = tf.Variable(2.0) \n",
    "\n",
    "with tf.GradientTape(persistent=True) as myname:\n",
    "    a = x/2*3\n",
    "    y = a*x**2"
   ]
  },
  {
   "cell_type": "code",
   "execution_count": 86,
   "id": "065ee799-3f1d-4ea5-80e8-b0c24877c15d",
   "metadata": {
    "tags": []
   },
   "outputs": [
    {
     "data": {
      "text/plain": [
       "<tf.Tensor: shape=(), dtype=float32, numpy=18.0>"
      ]
     },
     "execution_count": 86,
     "metadata": {},
     "output_type": "execute_result"
    }
   ],
   "source": [
    "myname.gradient(y,x)"
   ]
  },
  {
   "cell_type": "markdown",
   "id": "293d536b-ccee-4dd4-8de4-e4b393421fbf",
   "metadata": {},
   "source": [
    "(관찰2)"
   ]
  },
  {
   "cell_type": "code",
   "execution_count": 87,
   "id": "1086d3f7-f43a-4ac8-a1ae-278727f5f3a9",
   "metadata": {},
   "outputs": [],
   "source": [
    "x = tf.constant(2.0) \n",
    "\n",
    "with tf.GradientTape(persistent=True) as myname:\n",
    "    a = x/2*3\n",
    "    y = a*x**2"
   ]
  },
  {
   "cell_type": "code",
   "execution_count": 88,
   "id": "85908b00-19b8-474b-9ed2-d1b0d0526e53",
   "metadata": {},
   "outputs": [],
   "source": [
    "myname.gradient(y,x)"
   ]
  },
  {
   "cell_type": "code",
   "execution_count": 89,
   "id": "2e2e3f3a-42d1-4b1d-b93f-ca7f70f4878e",
   "metadata": {},
   "outputs": [
    {
     "name": "stdout",
     "output_type": "stream",
     "text": [
      "None\n"
     ]
    }
   ],
   "source": [
    "print(myname.gradient(y,x))"
   ]
  },
  {
   "cell_type": "markdown",
   "id": "6cc84e24-9b20-4d19-9d63-1e34beba970b",
   "metadata": {},
   "source": [
    "constant로 선언하니 무엇을 미분할지 몰라서 연습장에서 보고 버려버리는 컴퓨터."
   ]
  },
  {
   "cell_type": "markdown",
   "id": "930e6393-1e8e-4a65-ba12-cabbfb16bbd4",
   "metadata": {},
   "source": [
    "Variable로 선언해야겠네?"
   ]
  },
  {
   "cell_type": "code",
   "execution_count": 90,
   "id": "15e3ab1f-b7bb-4366-9c00-0765f64d9314",
   "metadata": {},
   "outputs": [],
   "source": [
    "x = tf.constant(2.0) \n",
    "\n",
    "with tf.GradientTape(persistent=True) as myname:\n",
    "    myname.watch(x)\n",
    "    a = x/2*3\n",
    "    y = a*x**2"
   ]
  },
  {
   "cell_type": "code",
   "execution_count": 91,
   "id": "8eed3caa-b0aa-4e4c-8b32-65e3d363e697",
   "metadata": {},
   "outputs": [
    {
     "name": "stdout",
     "output_type": "stream",
     "text": [
      "tf.Tensor(18.0, shape=(), dtype=float32)\n"
     ]
    }
   ],
   "source": [
    "print(myname.gradient(y,x))"
   ]
  },
  {
   "cell_type": "markdown",
   "id": "3ab8fce8-40c3-4b11-a630-c1d7b40c528a",
   "metadata": {},
   "source": [
    "> Inmportant: constant로 선언하고 watch로 기록해주면(수동감시) Variable과(자동감시) 결과가 같아"
   ]
  },
  {
   "cell_type": "markdown",
   "id": "15285f26-8fab-4855-9364-34eaea54372c",
   "metadata": {},
   "source": [
    "- ex) 100개 중에 80개는 variable, 20개는 constant로 해서 training 혹은 test set 만들 수 있겠지"
   ]
  },
  {
   "cell_type": "markdown",
   "id": "1cb2e53a-7ddf-48cd-9ec1-349fe9a7176b",
   "metadata": {},
   "source": [
    "(관찰3)\n",
    "```python\n",
    "x = tf.Variable(2.0) \n",
    "```\n",
    "관찰\n",
    "```python\n",
    "watch_accessed_variables=False\n",
    "```\n",
    "관찰 하지마"
   ]
  },
  {
   "cell_type": "code",
   "execution_count": 92,
   "id": "bbaaf2bb-d3b6-43e2-8f19-8994f21612c5",
   "metadata": {},
   "outputs": [],
   "source": [
    "x = tf.Variable(2.0) \n",
    "\n",
    "with tf.GradientTape(persistent=True,watch_accessed_variables=False) as myname: # 자동으로 감시되는 모드를 꺼라\n",
    "    a = x/2*3\n",
    "    y = a*x**2"
   ]
  },
  {
   "cell_type": "code",
   "execution_count": 93,
   "id": "fe9f9de3-e84e-4535-8cc4-95030a573b3e",
   "metadata": {
    "tags": []
   },
   "outputs": [],
   "source": [
    "myname.gradient(y,x)"
   ]
  },
  {
   "cell_type": "code",
   "execution_count": 94,
   "id": "895d34c9-a28b-41f0-a1b1-d304f80035ca",
   "metadata": {
    "tags": []
   },
   "outputs": [
    {
     "name": "stdout",
     "output_type": "stream",
     "text": [
      "None\n"
     ]
    }
   ],
   "source": [
    "print(myname.gradient(y,x))"
   ]
  },
  {
   "cell_type": "markdown",
   "id": "ea935166-0930-4ebd-ab67-4d9b4a52a553",
   "metadata": {},
   "source": [
    "variable입력했는데도 watch default값인 true를 false로 지정해주니 constant 역할을 하네!"
   ]
  },
  {
   "cell_type": "markdown",
   "id": "62ee313c-609e-42c5-85f9-4612fdd8835c",
   "metadata": {},
   "source": [
    "(관찰5)\n",
    "```python\n",
    "x = tf.Variable(2.0) \n",
    "```\n",
    "관찰\n",
    "```python\n",
    "watch_accessed_variables=True\n",
    "# 입력 안하면 자동 True 입력된다.\n",
    "```\n",
    "관찰\n",
    "```python\n",
    "myname.watch(x)\n",
    "```\n",
    "관찰"
   ]
  },
  {
   "cell_type": "code",
   "execution_count": 95,
   "id": "fd176ab8-8d25-4fcc-b154-230f7e67734b",
   "metadata": {},
   "outputs": [],
   "source": [
    "x = tf.Variable(2.0) \n",
    "\n",
    "with tf.GradientTape(persistent=True) as myname:\n",
    "    myname.watch(x)\n",
    "    a = x/2*3\n",
    "    y = a*x**2"
   ]
  },
  {
   "cell_type": "code",
   "execution_count": 96,
   "id": "01585d9c-3cc5-4e09-a0ce-5a57bd7a9df6",
   "metadata": {
    "tags": []
   },
   "outputs": [
    {
     "data": {
      "text/plain": [
       "<tf.Tensor: shape=(), dtype=float32, numpy=18.0>"
      ]
     },
     "execution_count": 96,
     "metadata": {},
     "output_type": "execute_result"
    }
   ],
   "source": [
    "myname.gradient(y,x)"
   ]
  },
  {
   "cell_type": "markdown",
   "id": "e46ead55-428a-4712-922d-053b636bf8d9",
   "metadata": {},
   "source": [
    " ```python\n",
    " myname.watch(x)\n",
    " ```\n",
    " 생략해도 되는 코드"
   ]
  },
  {
   "cell_type": "markdown",
   "id": "c0aee815-49bb-4044-882f-493b50a9768b",
   "metadata": {},
   "source": [
    "---"
   ]
  },
  {
   "cell_type": "markdown",
   "id": "59e60aa7-27f4-4df3-bf69-12bb433ea9a7",
   "metadata": {},
   "source": [
    "여기서부터는 수업 아님"
   ]
  },
  {
   "cell_type": "markdown",
   "id": "9f986c92-cfb4-42ba-81f3-e01d89bb954f",
   "metadata": {
    "id": "9f986c92-cfb4-42ba-81f3-e01d89bb954f",
    "tags": []
   },
   "source": [
    "`-` 예제9: 카페예제로 돌아오자. "
   ]
  },
  {
   "cell_type": "code",
   "execution_count": 115,
   "id": "428a43cb-90ea-40ad-bf6f-532eade3161e",
   "metadata": {},
   "outputs": [],
   "source": [
    "x=tf.constant([20.1, 22.2, 22.7, 23.3, 24.4, 25.1, 26.2, 27.3, 28.4, 30.4]) # 기온 "
   ]
  },
  {
   "cell_type": "markdown",
   "id": "1d323f71-8b05-49a7-822f-bee6e15e2557",
   "metadata": {
    "id": "1d323f71-8b05-49a7-822f-bee6e15e2557"
   },
   "source": [
    "`-` 예제10: 카페예제의 매트릭스 버전 "
   ]
  },
  {
   "cell_type": "code",
   "execution_count": 117,
   "id": "d20b8a82-ae9e-4cb3-8a8c-447b7f35dc62",
   "metadata": {},
   "outputs": [],
   "source": [
    "X=tf.concat([[[1.0]*10],[x]],0).T"
   ]
  },
  {
   "cell_type": "markdown",
   "id": "c0fe0673-8daa-4362-ae0d-51f93efd13d2",
   "metadata": {
    "id": "c0fe0673-8daa-4362-ae0d-51f93efd13d2"
   },
   "source": [
    "`-` 예제11: 위의 예제에서 이론적인 $\\boldsymbol{\\beta}$의 최적값을 찾아보고 (즉 $\\hat{\\boldsymbol{\\beta}}$을 찾고) 그곳에서 loss의 미분을 구하라. 구한결과가 $\\begin{bmatrix}0 \\\\ 0 \\end{bmatrix}$ 임을 확인하라. "
   ]
  },
  {
   "cell_type": "code",
   "execution_count": 140,
   "id": "ed15570c-e13e-4071-bf11-f14f2ef49ee8",
   "metadata": {},
   "outputs": [],
   "source": [
    "tf.random.set_seed(43052)\n",
    "epsilon=tf.random.normal([10])\n",
    "y=10.2 + 2.2*x + epsilon"
   ]
  },
  {
   "cell_type": "code",
   "execution_count": 143,
   "id": "5e3b5693-efd2-4e9e-8b78-d1894a77abe4",
   "metadata": {},
   "outputs": [
    {
     "data": {
      "text/plain": [
       "<tf.Tensor: shape=(2,), dtype=float32, numpy=array([9.945171, 2.215677], dtype=float32)>"
      ]
     },
     "execution_count": 143,
     "metadata": {},
     "output_type": "execute_result"
    }
   ],
   "source": [
    "b = tf.linalg.inv(X.T @ X) @ X.T @ y\n",
    "b"
   ]
  },
  {
   "cell_type": "code",
   "execution_count": 144,
   "id": "97c8137c-f161-4251-b66f-b6201167d13b",
   "metadata": {},
   "outputs": [],
   "source": [
    "with tf.GradientTape(persistent=True) as myname:\n",
    "    myname.watch(b)\n",
    "    y = b"
   ]
  },
  {
   "cell_type": "code",
   "execution_count": 145,
   "id": "828e8c3e-3e1e-4513-8377-cd05eb65796d",
   "metadata": {
    "tags": []
   },
   "outputs": [
    {
     "data": {
      "text/plain": [
       "<tf.Tensor: shape=(2,), dtype=float32, numpy=array([1., 1.], dtype=float32)>"
      ]
     },
     "execution_count": 145,
     "metadata": {},
     "output_type": "execute_result"
    }
   ],
   "source": [
    "myname.gradient(y,b)"
   ]
  },
  {
   "cell_type": "code",
   "execution_count": null,
   "id": "00a2a3b2-0bb1-47dd-b108-1d9c64113e17",
   "metadata": {},
   "outputs": [],
   "source": []
  },
  {
   "cell_type": "code",
   "execution_count": null,
   "id": "e543c209-0064-4e54-891a-6f7179d5a357",
   "metadata": {},
   "outputs": [],
   "source": []
  }
 ],
 "metadata": {
  "colab": {
   "name": "2022-03-21-(3주차) 3월21일.ipynb",
   "provenance": []
  },
  "kernelspec": {
   "display_name": "Python 3 (ipykernel)",
   "language": "python",
   "name": "python3"
  },
  "language_info": {
   "codemirror_mode": {
    "name": "ipython",
    "version": 3
   },
   "file_extension": ".py",
   "mimetype": "text/x-python",
   "name": "python",
   "nbconvert_exporter": "python",
   "pygments_lexer": "ipython3",
   "version": "3.10.0"
  }
 },
 "nbformat": 4,
 "nbformat_minor": 5
}
