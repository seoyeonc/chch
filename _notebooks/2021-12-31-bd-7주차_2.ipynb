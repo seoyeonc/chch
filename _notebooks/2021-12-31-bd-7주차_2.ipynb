{
 "cells": [
  {
   "cell_type": "markdown",
   "id": "f3553b32-b994-44a7-baea-e85d57f2ce34",
   "metadata": {
    "id": "f3553b32-b994-44a7-baea-e85d57f2ce34",
    "tags": []
   },
   "source": [
    "# 빅데이터 분석 (7-8주차) 10월26일 10월28일\n",
    "> Pytorch CNN (MNIST 3/7), CAM\n",
    "\n",
    "- toc:true\n",
    "- branch: master\n",
    "- badges: true\n",
    "- comments: false\n",
    "- author: 최서연\n",
    "- categories: [Big Data Analysis, Pytorch CNN (MNIST 3 7), CAM]"
   ]
  },
  {
   "cell_type": "markdown",
   "id": "84609931-b98d-40d2-9ca9-912e3f98f3ca",
   "metadata": {
    "id": "84609931-b98d-40d2-9ca9-912e3f98f3ca"
   },
   "source": [
    "### import "
   ]
  },
  {
   "cell_type": "code",
   "execution_count": 1,
   "id": "94447313-55da-4ba4-ae45-96e96a7e8da1",
   "metadata": {
    "id": "94447313-55da-4ba4-ae45-96e96a7e8da1"
   },
   "outputs": [],
   "source": [
    "import torch \n",
    "from fastai.vision.all import * "
   ]
  },
  {
   "cell_type": "code",
   "execution_count": 2,
   "id": "0bedb3e2-9017-4089-83b3-9af34bba047a",
   "metadata": {
    "id": "0bedb3e2-9017-4089-83b3-9af34bba047a"
   },
   "outputs": [],
   "source": [
    "import graphviz"
   ]
  },
  {
   "cell_type": "code",
   "execution_count": 3,
   "id": "7b2e79da-4995-4036-b098-57da5da84da1",
   "metadata": {
    "id": "7b2e79da-4995-4036-b098-57da5da84da1"
   },
   "outputs": [],
   "source": [
    "def gv(s): return graphviz.Source('digraph G{ rankdir=\"LR\"'+ s + ';}')"
   ]
  },
  {
   "cell_type": "markdown",
   "id": "a259f5e0-92b3-4afc-a15d-55128ddf019f",
   "metadata": {
    "id": "a259f5e0-92b3-4afc-a15d-55128ddf019f"
   },
   "source": [
    "### data "
   ]
  },
  {
   "cell_type": "markdown",
   "id": "dc8f2f0b-d2b0-4183-8dba-79e3365c0b17",
   "metadata": {
    "id": "dc8f2f0b-d2b0-4183-8dba-79e3365c0b17"
   },
   "source": [
    "`-` download data "
   ]
  },
  {
   "cell_type": "code",
   "execution_count": 4,
   "id": "eefa10af-44a1-4dc1-b8e7-99782aa35838",
   "metadata": {
    "id": "eefa10af-44a1-4dc1-b8e7-99782aa35838"
   },
   "outputs": [],
   "source": [
    "path = untar_data(URLs.MNIST_SAMPLE)"
   ]
  },
  {
   "cell_type": "code",
   "execution_count": 5,
   "id": "a3c3efc0-189f-4643-8ec7-e22bb07c5ed7",
   "metadata": {
    "id": "a3c3efc0-189f-4643-8ec7-e22bb07c5ed7",
    "outputId": "7005d8da-bc2e-4937-9bab-b207715df989"
   },
   "outputs": [
    {
     "data": {
      "text/plain": [
       "(#3) [Path('/home/csy/.fastai/data/mnist_sample/train'),Path('/home/csy/.fastai/data/mnist_sample/labels.csv'),Path('/home/csy/.fastai/data/mnist_sample/valid')]"
      ]
     },
     "execution_count": 5,
     "metadata": {},
     "output_type": "execute_result"
    }
   ],
   "source": [
    "path.ls()"
   ]
  },
  {
   "cell_type": "markdown",
   "id": "bc644873-334d-436b-9e1f-88a239b37836",
   "metadata": {
    "id": "bc644873-334d-436b-9e1f-88a239b37836"
   },
   "source": [
    "`-` list "
   ]
  },
  {
   "cell_type": "code",
   "execution_count": 6,
   "id": "585a1726-58e6-41b4-8909-e823aa6cd06c",
   "metadata": {
    "id": "585a1726-58e6-41b4-8909-e823aa6cd06c"
   },
   "outputs": [],
   "source": [
    "threes=(path/'train'/'3').ls()\n",
    "sevens=(path/'train'/'7').ls()"
   ]
  },
  {
   "cell_type": "markdown",
   "id": "8d531782-2666-499c-9131-de641f256275",
   "metadata": {
    "id": "8d531782-2666-499c-9131-de641f256275"
   },
   "source": [
    "`-` list $\\to$ image "
   ]
  },
  {
   "cell_type": "code",
   "execution_count": 7,
   "id": "ef6bdd32-14ac-4024-a0e3-3347813bd0c6",
   "metadata": {
    "id": "ef6bdd32-14ac-4024-a0e3-3347813bd0c6",
    "outputId": "98018ef2-b855-4a77-ac84-6f012246c4df"
   },
   "outputs": [
    {
     "data": {
      "image/png": "[encoded data removed]",
      "text/plain": [
       "<PIL.PngImagePlugin.PngImageFile image mode=L size=28x28 at 0x7F9C578F1DF0>"
      ]
     },
     "execution_count": 7,
     "metadata": {},
     "output_type": "execute_result"
    }
   ],
   "source": [
    "Image.open(threes[4])"
   ]
  },
  {
   "cell_type": "markdown",
   "id": "390c7430-3e09-4749-80e5-da59fbbe274c",
   "metadata": {
    "id": "390c7430-3e09-4749-80e5-da59fbbe274c"
   },
   "source": [
    "`-` image $\\to$ tensor "
   ]
  },
  {
   "cell_type": "code",
   "execution_count": 8,
   "id": "57e47fe6-7218-43fb-9559-74e6245945f0",
   "metadata": {
    "id": "57e47fe6-7218-43fb-9559-74e6245945f0",
    "outputId": "3f77288f-ea6b-4396-e3b0-2ae95036c7d3"
   },
   "outputs": [
    {
     "data": {
      "text/plain": [
       "tensor([[  0,   0,   0,   0,   0,   0,   0,   0,   0,   0,   0,   0,   0,   0,\n",
       "           0,   0,   0,   0,   0,   0,   0,   0,   0,   0,   0,   0,   0,   0],\n",
       "        [  0,   0,   0,   0,   0,   0,   0,   0,   0,   0,   0,   0,   0,   0,\n",
       "           0,   0,   0,   0,   0,   0,   0,   0,   0,   0,   0,   0,   0,   0],\n",
       "        [  0,   0,   0,   0,   0,   0,   0,   0,   0,   0,   0,   0,   0,   0,\n",
       "           0,   0,   0,   0,   0,   0,   0,   0,   0,   0,   0,   0,   0,   0],\n",
       "        [  0,   0,   0,   0,   0,   0,   0,   0,   0,   0,   0,   0,   0,   0,\n",
       "           0,   0,   0,   0,   0,   0,   0,   0,   0,   0,   0,   0,   0,   0],\n",
       "        [  0,   0,   0,   0,   0,   0,   0,   0,   0,   0,   0,  64, 128, 128,\n",
       "         191, 128,   0,   0,   0,   0,   0,   0,   0,   0,   0,   0,   0,   0],\n",
       "        [  0,   0,   0,   0,   0,   0,   0,   0,   0, 128, 255, 255, 255, 255,\n",
       "         255, 255, 191,   0,   0,   0,   0,   0,   0,   0,   0,   0,   0,   0],\n",
       "        [  0,   0,   0,   0,   0,   0,   0,   0, 255, 255, 255, 191, 128, 128,\n",
       "          64, 191, 255, 128,   0,   0,   0,   0,   0,   0,   0,   0,   0,   0],\n",
       "        [  0,   0,   0,   0,   0,   0,   0,   0, 191, 128,   0,   0,   0,   0,\n",
       "           0, 128, 255, 128,   0,   0,   0,   0,   0,   0,   0,   0,   0,   0],\n",
       "        [  0,   0,   0,   0,   0,   0,   0,   0,   0,   0,   0,   0,   0,   0,\n",
       "           0, 128, 255, 128,   0,   0,   0,   0,   0,   0,   0,   0,   0,   0],\n",
       "        [  0,   0,   0,   0,   0,   0,   0,   0,   0,   0,   0,   0,   0,   0,\n",
       "           0, 191, 255,   0,   0,   0,   0,   0,   0,   0,   0,   0,   0,   0],\n",
       "        [  0,   0,   0,   0,   0,   0,   0,   0,   0,   0,   0,   0,   0,   0,\n",
       "         128, 255,  64,   0,   0,   0,   0,   0,   0,   0,   0,   0,   0,   0],\n",
       "        [  0,   0,   0,   0,   0,   0,   0,   0,   0,   0,   0,   0,   0,  64,\n",
       "         255, 191,   0,   0,   0,   0,   0,   0,   0,   0,   0,   0,   0,   0],\n",
       "        [  0,   0,   0,   0,   0,   0,   0,   0,   0,   0,   0,   0, 128, 255,\n",
       "         255, 191,   0,   0,   0,   0,   0,   0,   0,   0,   0,   0,   0,   0],\n",
       "        [  0,   0,   0,   0,   0,   0,   0,   0,   0,   0, 128, 191, 255, 255,\n",
       "         255, 255, 255, 191,  64,   0,   0,   0,   0,   0,   0,   0,   0,   0],\n",
       "        [  0,   0,   0,   0,   0,   0,   0,   0,  64, 255, 255, 255, 191, 128,\n",
       "          64, 128, 255, 255, 255, 128,   0,   0,   0,   0,   0,   0,   0,   0],\n",
       "        [  0,   0,   0,   0,   0,   0,   0,   0,   0, 128, 128,  64,   0,   0,\n",
       "           0,   0,   0,  64, 191, 255, 128,   0,   0,   0,   0,   0,   0,   0],\n",
       "        [  0,   0,   0,   0,   0,   0,   0,   0,   0,   0,   0,   0,   0,   0,\n",
       "           0,   0,   0,   0,   0, 255, 255,  64,   0,   0,   0,   0,   0,   0],\n",
       "        [  0,   0,   0,   0,   0,   0,   0,   0,   0,   0,   0,   0,   0,   0,\n",
       "           0,   0,   0,   0,   0, 255, 255,  64,   0,   0,   0,   0,   0,   0],\n",
       "        [  0,   0,   0,   0,   0,   0,   0,   0,   0,   0,   0,   0,   0,   0,\n",
       "           0,   0,   0,   0,   0, 255, 255,   0,   0,   0,   0,   0,   0,   0],\n",
       "        [  0,   0,   0,   0,   0,   0,   0,   0,   0,   0,   0,   0,   0,   0,\n",
       "           0,   0,   0,  64, 191, 255, 128,   0,   0,   0,   0,   0,   0,   0],\n",
       "        [  0,   0,   0,   0,   0,   0,  64,   0,   0,   0,   0,   0,   0,   0,\n",
       "           0,  64, 191, 255, 255, 128,   0,   0,   0,   0,   0,   0,   0,   0],\n",
       "        [  0,   0,   0,   0,   0,   0, 255, 128,   0,   0,   0,   0,   0,   0,\n",
       "         128, 255, 255, 191,  64,   0,   0,   0,   0,   0,   0,   0,   0,   0],\n",
       "        [  0,   0,   0,   0,   0,   0,  64, 255, 255, 128, 128, 128, 191, 255,\n",
       "         255, 128,   0,   0,   0,   0,   0,   0,   0,   0,   0,   0,   0,   0],\n",
       "        [  0,   0,   0,   0,   0,   0,   0, 128, 128, 128, 255, 255, 191, 128,\n",
       "           0,   0,   0,   0,   0,   0,   0,   0,   0,   0,   0,   0,   0,   0],\n",
       "        [  0,   0,   0,   0,   0,   0,   0,   0,   0,   0,   0,   0,   0,   0,\n",
       "           0,   0,   0,   0,   0,   0,   0,   0,   0,   0,   0,   0,   0,   0],\n",
       "        [  0,   0,   0,   0,   0,   0,   0,   0,   0,   0,   0,   0,   0,   0,\n",
       "           0,   0,   0,   0,   0,   0,   0,   0,   0,   0,   0,   0,   0,   0],\n",
       "        [  0,   0,   0,   0,   0,   0,   0,   0,   0,   0,   0,   0,   0,   0,\n",
       "           0,   0,   0,   0,   0,   0,   0,   0,   0,   0,   0,   0,   0,   0],\n",
       "        [  0,   0,   0,   0,   0,   0,   0,   0,   0,   0,   0,   0,   0,   0,\n",
       "           0,   0,   0,   0,   0,   0,   0,   0,   0,   0,   0,   0,   0,   0]],\n",
       "       dtype=torch.uint8)"
      ]
     },
     "execution_count": 8,
     "metadata": {},
     "output_type": "execute_result"
    }
   ],
   "source": [
    "tensor(Image.open(threes[4]))"
   ]
  },
  {
   "cell_type": "markdown",
   "id": "36e2a40a-0ea7-4b73-bdcc-41cb9c13fcb3",
   "metadata": {
    "id": "36e2a40a-0ea7-4b73-bdcc-41cb9c13fcb3"
   },
   "source": [
    "- 여기에서 tensor는 파이토치가 아니라 fastai에서 구현한 함수임 "
   ]
  },
  {
   "cell_type": "markdown",
   "id": "a2b975bf-fd5f-4915-9905-75dc7b5c1e11",
   "metadata": {
    "id": "a2b975bf-fd5f-4915-9905-75dc7b5c1e11"
   },
   "source": [
    "`-` 여러개의 리스트를 모두 텐서로 바꿔보자. "
   ]
  },
  {
   "cell_type": "code",
   "execution_count": 9,
   "id": "c021d0cb-caf2-46a4-b101-e9a4581dfbb9",
   "metadata": {
    "id": "c021d0cb-caf2-46a4-b101-e9a4581dfbb9"
   },
   "outputs": [],
   "source": [
    "seven_tensor = torch.stack([tensor(Image.open(i)) for i in sevens]).float()/255\n",
    "three_tensor = torch.stack([tensor(Image.open(i)) for i in threes]).float()/255"
   ]
  },
  {
   "cell_type": "markdown",
   "id": "52adf4f6-1538-429c-9e97-ade1629ed98c",
   "metadata": {
    "id": "52adf4f6-1538-429c-9e97-ade1629ed98c"
   },
   "source": [
    "`-` $X$와 $y$를 만들자. "
   ]
  },
  {
   "cell_type": "code",
   "execution_count": 10,
   "id": "8530952e-db11-4258-a61f-82484da3d01f",
   "metadata": {
    "id": "8530952e-db11-4258-a61f-82484da3d01f",
    "outputId": "943429f3-74fd-4641-cb19-f72b4af9f5d2"
   },
   "outputs": [
    {
     "data": {
      "text/plain": [
       "(torch.Size([6265, 28, 28]), torch.Size([6131, 28, 28]))"
      ]
     },
     "execution_count": 10,
     "metadata": {},
     "output_type": "execute_result"
    }
   ],
   "source": [
    "seven_tensor.shape, three_tensor.shape"
   ]
  },
  {
   "cell_type": "code",
   "execution_count": 11,
   "id": "b1c18dea-07df-4d1a-af03-52320a039375",
   "metadata": {
    "id": "b1c18dea-07df-4d1a-af03-52320a039375"
   },
   "outputs": [],
   "source": [
    "y=torch.tensor([0.0]*6265+ [1.0]*6131).reshape(12396,1)"
   ]
  },
  {
   "cell_type": "code",
   "execution_count": 12,
   "id": "f6f19f64-4527-4f54-b7f1-3bfada66138c",
   "metadata": {
    "id": "f6f19f64-4527-4f54-b7f1-3bfada66138c"
   },
   "outputs": [],
   "source": [
    "X=torch.vstack([seven_tensor,three_tensor]).reshape(12396,-1)"
   ]
  },
  {
   "cell_type": "code",
   "execution_count": 13,
   "id": "525188e3-e476-4a67-aeaa-b72f21f81d7b",
   "metadata": {
    "id": "525188e3-e476-4a67-aeaa-b72f21f81d7b",
    "outputId": "295c3237-731a-42fe-e233-9f26eaaace4c"
   },
   "outputs": [
    {
     "data": {
      "text/plain": [
       "(torch.Size([12396, 784]), torch.Size([12396, 1]))"
      ]
     },
     "execution_count": 13,
     "metadata": {},
     "output_type": "execute_result"
    }
   ],
   "source": [
    "X.shape, y.shape"
   ]
  },
  {
   "cell_type": "code",
   "execution_count": 14,
   "id": "eed2e9c8-0968-411b-b001-a1f0f57e437f",
   "metadata": {
    "id": "eed2e9c8-0968-411b-b001-a1f0f57e437f"
   },
   "outputs": [],
   "source": [
    "X=X.reshape(12396,1,28,28)"
   ]
  },
  {
   "cell_type": "code",
   "execution_count": 15,
   "id": "4e4aad3d-d379-426b-8b23-3738ab7ab002",
   "metadata": {
    "id": "4e4aad3d-d379-426b-8b23-3738ab7ab002",
    "outputId": "9d35d968-bddd-4e91-8b3c-75ad81d46b25"
   },
   "outputs": [
    {
     "data": {
      "text/plain": [
       "torch.Size([12396, 1, 28, 28])"
      ]
     },
     "execution_count": 15,
     "metadata": {},
     "output_type": "execute_result"
    }
   ],
   "source": [
    "X.shape"
   ]
  },
  {
   "cell_type": "markdown",
   "id": "737bdbcc-6477-4d73-9caf-a5c592026ceb",
   "metadata": {
    "id": "737bdbcc-6477-4d73-9caf-a5c592026ceb",
    "tags": []
   },
   "source": [
    "### 1. 지난시간까지의 모형 (직접 네트워크 설계, pytorch)"
   ]
  },
  {
   "cell_type": "markdown",
   "id": "4aa846b1-7d79-400f-986d-573e5285740d",
   "metadata": {
    "id": "4aa846b1-7d79-400f-986d-573e5285740d",
    "tags": []
   },
   "source": [
    "#### 2d convolution with windowsize=5"
   ]
  },
  {
   "cell_type": "code",
   "execution_count": 16,
   "id": "250227c1-3fba-4648-b569-1fd32e21aa41",
   "metadata": {
    "id": "250227c1-3fba-4648-b569-1fd32e21aa41"
   },
   "outputs": [],
   "source": [
    "c1=torch.nn.Conv2d(1,16,5) # 입력채널=1 (흑백이므로), 출력채널=16, 윈도우크기5 "
   ]
  },
  {
   "cell_type": "code",
   "execution_count": 17,
   "id": "fb240922-7c77-438c-b341-d301ec8e62c6",
   "metadata": {
    "id": "fb240922-7c77-438c-b341-d301ec8e62c6",
    "outputId": "259c528c-6f11-44f2-f7ee-256fabfec4bc"
   },
   "outputs": [
    {
     "data": {
      "text/plain": [
       "(torch.Size([12396, 1, 28, 28]), torch.Size([12396, 16, 24, 24]))"
      ]
     },
     "execution_count": 17,
     "metadata": {},
     "output_type": "execute_result"
    }
   ],
   "source": [
    "X.shape, c1(X).shape"
   ]
  },
  {
   "cell_type": "markdown",
   "id": "adf353ab-ee1d-4612-8b19-fc954669fe0a",
   "metadata": {
    "id": "adf353ab-ee1d-4612-8b19-fc954669fe0a"
   },
   "source": [
    "#### MaxPool2d"
   ]
  },
  {
   "cell_type": "code",
   "execution_count": 18,
   "id": "f59c84b5-bf3c-49f0-9515-b2f623afef7c",
   "metadata": {
    "id": "f59c84b5-bf3c-49f0-9515-b2f623afef7c"
   },
   "outputs": [],
   "source": [
    "m1=torch.nn.MaxPool2d(2)"
   ]
  },
  {
   "cell_type": "code",
   "execution_count": 19,
   "id": "f39a6b91-8a83-45d7-9a2b-ad7eb462a125",
   "metadata": {
    "id": "f39a6b91-8a83-45d7-9a2b-ad7eb462a125",
    "outputId": "0768f223-4010-493d-9b7f-4d3dd09a26b3"
   },
   "outputs": [
    {
     "data": {
      "text/plain": [
       "(torch.Size([12396, 1, 28, 28]),\n",
       " torch.Size([12396, 16, 24, 24]),\n",
       " torch.Size([12396, 16, 12, 12]))"
      ]
     },
     "execution_count": 19,
     "metadata": {},
     "output_type": "execute_result"
    }
   ],
   "source": [
    "X.shape,c1(X).shape,m1(c1(X)).shape"
   ]
  },
  {
   "cell_type": "markdown",
   "id": "67cb3097-0de6-4215-b1e2-98510a3cfb56",
   "metadata": {
    "id": "67cb3097-0de6-4215-b1e2-98510a3cfb56"
   },
   "source": [
    "#### ReLU "
   ]
  },
  {
   "cell_type": "code",
   "execution_count": 20,
   "id": "2b3d0b4b-9f78-4559-8833-a31025e67e48",
   "metadata": {
    "id": "2b3d0b4b-9f78-4559-8833-a31025e67e48"
   },
   "outputs": [],
   "source": [
    "a1=torch.nn.ReLU()"
   ]
  },
  {
   "cell_type": "code",
   "execution_count": 21,
   "id": "f8ed9b29-9a9c-4f33-8fc2-aaf812fe29ba",
   "metadata": {
    "id": "f8ed9b29-9a9c-4f33-8fc2-aaf812fe29ba",
    "outputId": "0deb6012-3a99-41af-cdb2-e538053c4dd7"
   },
   "outputs": [
    {
     "data": {
      "text/plain": [
       "(torch.Size([12396, 1, 28, 28]),\n",
       " torch.Size([12396, 16, 24, 24]),\n",
       " torch.Size([12396, 16, 12, 12]),\n",
       " torch.Size([12396, 16, 12, 12]))"
      ]
     },
     "execution_count": 21,
     "metadata": {},
     "output_type": "execute_result"
    }
   ],
   "source": [
    "X.shape,c1(X).shape, m1(c1(X)).shape, a1(m1(c1(X))).shape"
   ]
  },
  {
   "cell_type": "markdown",
   "id": "9d7bb0d2-7a61-4ac1-919d-271fe931633c",
   "metadata": {
    "id": "9d7bb0d2-7a61-4ac1-919d-271fe931633c"
   },
   "source": [
    "#### flatten "
   ]
  },
  {
   "cell_type": "code",
   "execution_count": 22,
   "id": "02600bb9-6868-4825-a827-e57a3a6880ef",
   "metadata": {
    "id": "02600bb9-6868-4825-a827-e57a3a6880ef"
   },
   "outputs": [],
   "source": [
    "class Flatten(torch.nn.Module):\n",
    "    def forward(self,x): \n",
    "        return x.reshape(12396,-1)"
   ]
  },
  {
   "cell_type": "code",
   "execution_count": 23,
   "id": "66b7fde4-ab89-43d4-9144-19ced26b97a4",
   "metadata": {
    "id": "66b7fde4-ab89-43d4-9144-19ced26b97a4"
   },
   "outputs": [],
   "source": [
    "flatten=Flatten()"
   ]
  },
  {
   "cell_type": "code",
   "execution_count": 24,
   "id": "d5f4a324-7d81-4a0a-97d2-487cb7d379d9",
   "metadata": {
    "id": "d5f4a324-7d81-4a0a-97d2-487cb7d379d9",
    "outputId": "7b2529bb-13a7-4a6d-a36d-ca80a2a24b30"
   },
   "outputs": [
    {
     "data": {
      "text/plain": [
       "(torch.Size([12396, 1, 28, 28]),\n",
       " torch.Size([12396, 16, 24, 24]),\n",
       " torch.Size([12396, 16, 12, 12]),\n",
       " torch.Size([12396, 16, 12, 12]),\n",
       " torch.Size([12396, 2304]))"
      ]
     },
     "execution_count": 24,
     "metadata": {},
     "output_type": "execute_result"
    }
   ],
   "source": [
    "X.shape,c1(X).shape, m1(c1(X)).shape, a1(m1(c1(X))).shape, flatten(a1(m1(c1(X)))).shape"
   ]
  },
  {
   "cell_type": "markdown",
   "id": "c5177d85-1ead-43bf-a7c3-16d8bb63f7e0",
   "metadata": {
    "id": "c5177d85-1ead-43bf-a7c3-16d8bb63f7e0"
   },
   "source": [
    "#### linear "
   ]
  },
  {
   "cell_type": "code",
   "execution_count": 25,
   "id": "4fb124b8-c5f0-48f4-b305-7c57ae58787d",
   "metadata": {
    "id": "4fb124b8-c5f0-48f4-b305-7c57ae58787d"
   },
   "outputs": [],
   "source": [
    "l1=torch.nn.Linear(in_features=2304,out_features=1) "
   ]
  },
  {
   "cell_type": "code",
   "execution_count": 26,
   "id": "ed0b5d54-2e02-4cd0-afbd-ee450088e08e",
   "metadata": {
    "id": "ed0b5d54-2e02-4cd0-afbd-ee450088e08e",
    "outputId": "b5387d67-7f73-42bd-ca19-2c8c725efbf2"
   },
   "outputs": [
    {
     "data": {
      "text/plain": [
       "(torch.Size([12396, 1, 28, 28]),\n",
       " torch.Size([12396, 16, 24, 24]),\n",
       " torch.Size([12396, 16, 12, 12]),\n",
       " torch.Size([12396, 16, 12, 12]),\n",
       " torch.Size([12396, 2304]),\n",
       " torch.Size([12396, 1]))"
      ]
     },
     "execution_count": 26,
     "metadata": {},
     "output_type": "execute_result"
    }
   ],
   "source": [
    "X.shape,\\\n",
    "c1(X).shape, \\\n",
    "m1(c1(X)).shape, \\\n",
    "a1(m1(c1(X))).shape, \\\n",
    "flatten(a1(m1(c1(X)))).shape, \\\n",
    "l1(flatten(a1(m1(c1(X))))).shape"
   ]
  },
  {
   "cell_type": "code",
   "execution_count": 27,
   "id": "998c90bb-d3a6-4ae4-b626-06a0a716fae2",
   "metadata": {
    "id": "998c90bb-d3a6-4ae4-b626-06a0a716fae2",
    "outputId": "5035473e-445e-4e54-d4f2-8c8a5e8b909b"
   },
   "outputs": [
    {
     "data": {
      "text/plain": [
       "[<matplotlib.lines.Line2D at 0x7f9c5741c340>]"
      ]
     },
     "execution_count": 27,
     "metadata": {},
     "output_type": "execute_result"
    },
    {
     "data": {
      "image/png": "[encoded data removed]",
      "text/plain": [
       "<Figure size 432x288 with 1 Axes>"
      ]
     },
     "metadata": {
      "needs_background": "light"
     },
     "output_type": "display_data"
    }
   ],
   "source": [
    "plt.plot(l1(flatten(a1(m1(c1(X))))).data)"
   ]
  },
  {
   "cell_type": "markdown",
   "id": "f3bcef3d-31d0-43b6-be21-f8e630307aa8",
   "metadata": {
    "id": "f3bcef3d-31d0-43b6-be21-f8e630307aa8"
   },
   "source": [
    "#### networks 설계 "
   ]
  },
  {
   "cell_type": "code",
   "execution_count": 28,
   "id": "d0ff02c4-9be8-4514-8b15-104383952a56",
   "metadata": {
    "id": "d0ff02c4-9be8-4514-8b15-104383952a56"
   },
   "outputs": [],
   "source": [
    "net = nn.Sequential(c1,m1,a1,flatten,l1)\n",
    "## 마지막의 sigmoid는 생략한다. torch.nn..BCEWithLogitsLoss()에 내장되어 있을것이므로 "
   ]
  },
  {
   "cell_type": "markdown",
   "id": "589470aa-77f1-4b07-ae3c-862a9e6ef217",
   "metadata": {
    "id": "589470aa-77f1-4b07-ae3c-862a9e6ef217"
   },
   "source": [
    "`-` 손실함수와 옵티마이저 정의 "
   ]
  },
  {
   "cell_type": "code",
   "execution_count": 29,
   "id": "5557f21d-e49f-4c59-82df-5a3def4c7373",
   "metadata": {
    "id": "5557f21d-e49f-4c59-82df-5a3def4c7373"
   },
   "outputs": [],
   "source": [
    "loss_fn=torch.nn.BCEWithLogitsLoss()\n",
    "optimizer= torch.optim.Adam(net.parameters())"
   ]
  },
  {
   "cell_type": "markdown",
   "id": "ad4acb60-c25e-4456-bef9-02494f690251",
   "metadata": {
    "id": "ad4acb60-c25e-4456-bef9-02494f690251"
   },
   "source": [
    "`-` step1~4 (CPU로 돌아가는 거기 때문에 시간 필요)"
   ]
  },
  {
   "cell_type": "code",
   "execution_count": 30,
   "id": "428e4b35-c9b0-40e9-b437-e02382626977",
   "metadata": {
    "id": "428e4b35-c9b0-40e9-b437-e02382626977"
   },
   "outputs": [],
   "source": [
    "for epoc in range(200): \n",
    "    ## 1 \n",
    "    yhat=net(X)\n",
    "    ## 2 \n",
    "    loss=loss_fn(yhat,y) \n",
    "    ## 3 \n",
    "    loss.backward()\n",
    "    ## 4 \n",
    "    optimizer.step()\n",
    "    net.zero_grad()"
   ]
  },
  {
   "cell_type": "code",
   "execution_count": 31,
   "id": "eb62dcb0-e013-4cf7-88cd-c8c21dbd472c",
   "metadata": {
    "id": "eb62dcb0-e013-4cf7-88cd-c8c21dbd472c"
   },
   "outputs": [],
   "source": [
    "a2= torch.nn.Sigmoid()"
   ]
  },
  {
   "cell_type": "markdown",
   "id": "6d288904-d8f2-4376-9b35-b2c8860c3e27",
   "metadata": {},
   "source": [
    "학습 전 상황"
   ]
  },
  {
   "cell_type": "code",
   "execution_count": 32,
   "id": "c02ffd43-ab88-423f-9970-5b211bbba28e",
   "metadata": {
    "id": "c02ffd43-ab88-423f-9970-5b211bbba28e",
    "outputId": "42eca87d-be80-4661-b1b3-2f804190e9b6"
   },
   "outputs": [
    {
     "data": {
      "text/plain": [
       "[<matplotlib.lines.Line2D at 0x7f9c574aa070>]"
      ]
     },
     "execution_count": 32,
     "metadata": {},
     "output_type": "execute_result"
    },
    {
     "data": {
      "image/png": "[encoded data removed]",
      "text/plain": [
       "<Figure size 432x288 with 1 Axes>"
      ]
     },
     "metadata": {
      "needs_background": "light"
     },
     "output_type": "display_data"
    }
   ],
   "source": [
    "plt.plot(y)\n",
    "plt.plot(a2(yhat.data),'.')"
   ]
  },
  {
   "cell_type": "markdown",
   "id": "5e364ca6-a569-4058-8cc3-ec7246cd1b29",
   "metadata": {},
   "source": [
    "학습 후 상황"
   ]
  },
  {
   "cell_type": "code",
   "execution_count": 33,
   "id": "750740a2-af96-4308-aab5-04edb9b14156",
   "metadata": {
    "id": "c02ffd43-ab88-423f-9970-5b211bbba28e",
    "outputId": "42eca87d-be80-4661-b1b3-2f804190e9b6"
   },
   "outputs": [
    {
     "data": {
      "text/plain": [
       "[<matplotlib.lines.Line2D at 0x7f9c567674c0>]"
      ]
     },
     "execution_count": 33,
     "metadata": {},
     "output_type": "execute_result"
    },
    {
     "data": {
      "image/png": "[encoded data removed]",
      "text/plain": [
       "<Figure size 432x288 with 1 Axes>"
      ]
     },
     "metadata": {
      "needs_background": "light"
     },
     "output_type": "display_data"
    }
   ],
   "source": [
    "plt.plot(y)\n",
    "plt.plot(yhat.data,'.')"
   ]
  },
  {
   "cell_type": "code",
   "execution_count": 34,
   "id": "c18f3ae9-5a83-4443-bfa3-e632636d62d5",
   "metadata": {
    "id": "c18f3ae9-5a83-4443-bfa3-e632636d62d5"
   },
   "outputs": [],
   "source": [
    "ypred=a2(yhat.data)>0.5 "
   ]
  },
  {
   "cell_type": "code",
   "execution_count": 35,
   "id": "702b1e57-0fa9-434d-a0c6-e368faefdf5f",
   "metadata": {
    "id": "702b1e57-0fa9-434d-a0c6-e368faefdf5f",
    "outputId": "b989f03f-123a-4506-fef3-5fb34ba48a8a"
   },
   "outputs": [
    {
     "data": {
      "text/plain": [
       "tensor([0.9925])"
      ]
     },
     "execution_count": 35,
     "metadata": {},
     "output_type": "execute_result"
    }
   ],
   "source": [
    "sum(ypred==y)/12396"
   ]
  },
  {
   "cell_type": "markdown",
   "id": "a7488c30-2e54-4dc5-b42c-b1190dc4054b",
   "metadata": {
    "id": "a7488c30-2e54-4dc5-b42c-b1190dc4054b"
   },
   "source": [
    "### 2. 드랍이웃, 배치추가 (직접 네트워크 설계, pytorch+fastai) "
   ]
  },
  {
   "cell_type": "markdown",
   "id": "84b80298-3c82-4205-9fc9-e98e7b38e3df",
   "metadata": {
    "id": "84b80298-3c82-4205-9fc9-e98e7b38e3df"
   },
   "source": [
    "#### step1: dls를 만들자. "
   ]
  },
  {
   "cell_type": "code",
   "execution_count": 36,
   "id": "0a7f283e-ec07-42e7-92bb-f0e04a6ab986",
   "metadata": {
    "id": "0a7f283e-ec07-42e7-92bb-f0e04a6ab986"
   },
   "outputs": [],
   "source": [
    "ds=torch.utils.data.TensorDataset(X,y)"
   ]
  },
  {
   "cell_type": "code",
   "execution_count": 37,
   "id": "148eac13-3bf0-407b-bac6-37926cecc9ba",
   "metadata": {
    "id": "148eac13-3bf0-407b-bac6-37926cecc9ba",
    "outputId": "c003701e-4443-4788-addf-2835cd41755f"
   },
   "outputs": [
    {
     "data": {
      "text/plain": [
       "torch.Size([12396, 1, 28, 28])"
      ]
     },
     "execution_count": 37,
     "metadata": {},
     "output_type": "execute_result"
    }
   ],
   "source": [
    "ds.tensors[0].shape"
   ]
  },
  {
   "cell_type": "markdown",
   "id": "c55050cb-a519-4b4b-9b3c-2fa3fd8fbc9a",
   "metadata": {},
   "source": [
    "-  torch.utils.data.random_split: Randomly split a dataset into non-overlapping new datasets of given lengths. Optionally fix the generator for reproducible results"
   ]
  },
  {
   "cell_type": "code",
   "execution_count": 39,
   "id": "0f96d874-1f22-4b9e-8963-acf72bdb2b87",
   "metadata": {
    "id": "0f96d874-1f22-4b9e-8963-acf72bdb2b87"
   },
   "outputs": [],
   "source": [
    "ds1,ds2 = torch.utils.data.random_split(ds,[10000,2396]) "
   ]
  },
  {
   "cell_type": "markdown",
   "id": "cb9a7180-9189-4c7e-99c4-558c78d33e89",
   "metadata": {},
   "source": [
    "미니배치 안하고"
   ]
  },
  {
   "cell_type": "code",
   "execution_count": 40,
   "id": "2d9c79bd-314f-47f3-b6ba-d1c1db60ba49",
   "metadata": {
    "id": "2d9c79bd-314f-47f3-b6ba-d1c1db60ba49"
   },
   "outputs": [],
   "source": [
    "dl1 = torch.utils.data.DataLoader(ds1,batch_size=500) \n",
    "dl2 = torch.utils.data.DataLoader(ds2,batch_size=2396) "
   ]
  },
  {
   "cell_type": "code",
   "execution_count": 41,
   "id": "4dc92741-6de2-457b-ac60-cdc2d0582c0a",
   "metadata": {
    "id": "4dc92741-6de2-457b-ac60-cdc2d0582c0a"
   },
   "outputs": [],
   "source": [
    "dls=DataLoaders(dl1,dl2) "
   ]
  },
  {
   "cell_type": "markdown",
   "id": "4a1bd941-8a57-4dfa-acca-577690e69b93",
   "metadata": {
    "id": "4a1bd941-8a57-4dfa-acca-577690e69b93"
   },
   "source": [
    "#### step2: 아키텍처, 손실함수, 옵티마이저 "
   ]
  },
  {
   "cell_type": "code",
   "execution_count": 42,
   "id": "92942806-88bb-4cf6-932c-51a35a4ea07e",
   "metadata": {
    "id": "92942806-88bb-4cf6-932c-51a35a4ea07e"
   },
   "outputs": [],
   "source": [
    "class Flatten(torch.nn.Module):\n",
    "    def forward(self,x): \n",
    "        return x.reshape(x.shape[0],-1)"
   ]
  },
  {
   "cell_type": "code",
   "execution_count": 43,
   "id": "3d96af86-5962-4e43-9545-e8ac179843e0",
   "metadata": {
    "id": "3d96af86-5962-4e43-9545-e8ac179843e0"
   },
   "outputs": [],
   "source": [
    "net=torch.nn.Sequential(\n",
    "    torch.nn.Conv2d(1,16,5), \n",
    "    torch.nn.MaxPool2d(2), \n",
    "    torch.nn.ReLU(),\n",
    "    torch.nn.Dropout2d(), \n",
    "    Flatten(),\n",
    "    torch.nn.Linear(2304,1))"
   ]
  },
  {
   "cell_type": "code",
   "execution_count": 44,
   "id": "0da0d260-bc5c-4130-89fb-2928cf72adac",
   "metadata": {
    "id": "0da0d260-bc5c-4130-89fb-2928cf72adac"
   },
   "outputs": [],
   "source": [
    "loss_fn=torch.nn.BCEWithLogitsLoss()\n",
    "#optimizer= torch.optim.Adam(net.parameters())\n",
    "# learner에서 option으로 넣어주기 때문에 빼기"
   ]
  },
  {
   "cell_type": "markdown",
   "id": "f4c84593-85b0-4ca8-828a-a5dfb065770c",
   "metadata": {},
   "source": [
    "$\\uparrow$ 모형을 뜯어보는 방법에서 왜 만들어놓은 것 사용하면 안 되는지 설명"
   ]
  },
  {
   "cell_type": "markdown",
   "id": "3c8c6d20-d294-49cd-89cc-3c9407435237",
   "metadata": {
    "id": "3c8c6d20-d294-49cd-89cc-3c9407435237"
   },
   "source": [
    "#### step3: lrnr 생성 후 적합"
   ]
  },
  {
   "cell_type": "code",
   "execution_count": 45,
   "id": "c95b38c7-7a09-4c30-b90a-439709109a2f",
   "metadata": {
    "id": "c95b38c7-7a09-4c30-b90a-439709109a2f"
   },
   "outputs": [],
   "source": [
    "lrnr1 = Learner(dls,net,opt_func=Adam,loss_func=loss_fn) "
   ]
  },
  {
   "cell_type": "markdown",
   "id": "ae2b8802-5c0e-4f48-8016-1692ebc593c2",
   "metadata": {},
   "source": [
    "$\\uparrow$ for문의 step 1,2,3,4 하는 과정"
   ]
  },
  {
   "cell_type": "code",
   "execution_count": 46,
   "id": "29acdef5-1b67-4628-b4b4-607bbc2ab616",
   "metadata": {
    "id": "29acdef5-1b67-4628-b4b4-607bbc2ab616",
    "outputId": "904eec18-87f1-4354-f7e5-7954d020fcef"
   },
   "outputs": [
    {
     "data": {
      "text/html": [
       "<table border=\"1\" class=\"dataframe\">\n",
       "  <thead>\n",
       "    <tr style=\"text-align: left;\">\n",
       "      <th>epoch</th>\n",
       "      <th>train_loss</th>\n",
       "      <th>valid_loss</th>\n",
       "      <th>time</th>\n",
       "    </tr>\n",
       "  </thead>\n",
       "  <tbody>\n",
       "    <tr>\n",
       "      <td>0</td>\n",
       "      <td>0.428801</td>\n",
       "      <td>0.230895</td>\n",
       "      <td>00:00</td>\n",
       "    </tr>\n",
       "    <tr>\n",
       "      <td>1</td>\n",
       "      <td>0.265578</td>\n",
       "      <td>0.098093</td>\n",
       "      <td>00:00</td>\n",
       "    </tr>\n",
       "    <tr>\n",
       "      <td>2</td>\n",
       "      <td>0.182689</td>\n",
       "      <td>0.070157</td>\n",
       "      <td>00:00</td>\n",
       "    </tr>\n",
       "    <tr>\n",
       "      <td>3</td>\n",
       "      <td>0.135329</td>\n",
       "      <td>0.058783</td>\n",
       "      <td>00:00</td>\n",
       "    </tr>\n",
       "    <tr>\n",
       "      <td>4</td>\n",
       "      <td>0.106555</td>\n",
       "      <td>0.052119</td>\n",
       "      <td>00:00</td>\n",
       "    </tr>\n",
       "    <tr>\n",
       "      <td>5</td>\n",
       "      <td>0.087964</td>\n",
       "      <td>0.046977</td>\n",
       "      <td>00:00</td>\n",
       "    </tr>\n",
       "    <tr>\n",
       "      <td>6</td>\n",
       "      <td>0.074416</td>\n",
       "      <td>0.042898</td>\n",
       "      <td>00:00</td>\n",
       "    </tr>\n",
       "    <tr>\n",
       "      <td>7</td>\n",
       "      <td>0.064454</td>\n",
       "      <td>0.039671</td>\n",
       "      <td>00:00</td>\n",
       "    </tr>\n",
       "    <tr>\n",
       "      <td>8</td>\n",
       "      <td>0.057063</td>\n",
       "      <td>0.037217</td>\n",
       "      <td>00:00</td>\n",
       "    </tr>\n",
       "    <tr>\n",
       "      <td>9</td>\n",
       "      <td>0.051341</td>\n",
       "      <td>0.034905</td>\n",
       "      <td>00:00</td>\n",
       "    </tr>\n",
       "  </tbody>\n",
       "</table>"
      ],
      "text/plain": [
       "<IPython.core.display.HTML object>"
      ]
     },
     "metadata": {},
     "output_type": "display_data"
    }
   ],
   "source": [
    "lrnr1.fit(10)"
   ]
  },
  {
   "cell_type": "markdown",
   "id": "e09ad159-8868-421f-a7ff-c36c6686548b",
   "metadata": {},
   "source": [
    "$\\uparrow$ GPU 를 사용하여 빨리 실행되는 모습"
   ]
  },
  {
   "cell_type": "markdown",
   "id": "15f944de-b4f2-4818-adbb-8543ec39382f",
   "metadata": {
    "id": "15f944de-b4f2-4818-adbb-8543ec39382f"
   },
   "source": [
    "`-` 결과를 시각화하면 아래와 같다. "
   ]
  },
  {
   "cell_type": "markdown",
   "id": "f7656e39-d3ea-40e0-8044-d3d5e43abe4b",
   "metadata": {},
   "source": [
    "$\\downarrow$ 네트워크의 파라미터가 cuda,즉 GPU에 올라가있기 때문에 cuda에 올려줬다가 CPU로 찍어야 데이터가 그려지겠지!, sigmoid인 a2를 씌워준 결과"
   ]
  },
  {
   "cell_type": "code",
   "execution_count": 47,
   "id": "ba08639f-8784-4586-b81d-c724d2e187db",
   "metadata": {
    "id": "ba08639f-8784-4586-b81d-c724d2e187db",
    "outputId": "3f65b62e-179d-4d6e-f381-832c014241cb"
   },
   "outputs": [
    {
     "data": {
      "text/plain": [
       "[<matplotlib.lines.Line2D at 0x7f9c55c752e0>]"
      ]
     },
     "execution_count": 47,
     "metadata": {},
     "output_type": "execute_result"
    },
    {
     "data": {
      "image/png": "[encoded data removed]",
      "text/plain": [
       "<Figure size 432x288 with 1 Axes>"
      ]
     },
     "metadata": {
      "needs_background": "light"
     },
     "output_type": "display_data"
    }
   ],
   "source": [
    "plt.plot(a2(net(X.to(\"cuda:0\")).to(\"cpu\").data),'.')"
   ]
  },
  {
   "cell_type": "markdown",
   "id": "e2ad3912-7ff2-4280-8634-70de5360bb9a",
   "metadata": {
    "id": "e2ad3912-7ff2-4280-8634-70de5360bb9a"
   },
   "source": [
    "`-` 빠르고 적합결과도 좋음 "
   ]
  },
  {
   "cell_type": "markdown",
   "id": "9143603a-3460-4ed9-ab59-e4162d172809",
   "metadata": {
    "id": "9143603a-3460-4ed9-ab59-e4162d172809",
    "tags": []
   },
   "source": [
    "### 3. resnet34 (기존의 네트워크 사용, 순수 fastai)"
   ]
  },
  {
   "cell_type": "markdown",
   "id": "75aae1c8-1760-4129-96e3-b638733e8b91",
   "metadata": {},
   "source": [
    "요약:  세가지 방법을 사용해 옴.\n",
    "1.  직접네트워크+순수pytorch\n",
    "2. 드랍아웃, 배치추가: 직접 네트워크 설계, pytorch와 fastai leaner를 이용\n",
    "3. 기존 네트워크 사용, 순수 fastai 로만 사용($\\downarrow$ 내용)"
   ]
  },
  {
   "cell_type": "markdown",
   "id": "a84b63cb-349a-404d-ab96-8e375b4dbefc",
   "metadata": {
    "id": "a84b63cb-349a-404d-ab96-8e375b4dbefc"
   },
   "source": [
    "`-` 데이터로부터 새로운 데이터로더스를 만들고 이를 dls2라고 하자."
   ]
  },
  {
   "cell_type": "code",
   "execution_count": 48,
   "id": "370e4e59-b3ac-4ef2-badc-2a60a5c00a8d",
   "metadata": {
    "id": "370e4e59-b3ac-4ef2-badc-2a60a5c00a8d",
    "outputId": "baee8fe4-a0bd-4efb-9fee-dc0ea671865f"
   },
   "outputs": [
    {
     "data": {
      "text/plain": [
       "Path('/home/csy/.fastai/data/mnist_sample')"
      ]
     },
     "execution_count": 48,
     "metadata": {},
     "output_type": "execute_result"
    }
   ],
   "source": [
    "path=untar_data(URLs.MNIST_SAMPLE) # dls 새로 만들기\n",
    "path"
   ]
  },
  {
   "cell_type": "code",
   "execution_count": 49,
   "id": "b9a17253-fc87-49b6-8a8e-34bb72c7d01f",
   "metadata": {},
   "outputs": [
    {
     "data": {
      "text/plain": [
       "(#3) [Path('/home/csy/.fastai/data/mnist_sample/train'),Path('/home/csy/.fastai/data/mnist_sample/labels.csv'),Path('/home/csy/.fastai/data/mnist_sample/valid')]"
      ]
     },
     "execution_count": 49,
     "metadata": {},
     "output_type": "execute_result"
    }
   ],
   "source": [
    "path.ls() # 여기서 train 에 접근할 것"
   ]
  },
  {
   "cell_type": "code",
   "execution_count": 50,
   "id": "8c4cb9ed-d17b-476d-a1cd-d587fcb116cd",
   "metadata": {
    "id": "8c4cb9ed-d17b-476d-a1cd-d587fcb116cd"
   },
   "outputs": [],
   "source": [
    "dls2=ImageDataLoaders.from_folder(\n",
    "    path,\n",
    "    train='train',\n",
    "    valid_pct=0.2)     # 2주차 이미지크롤링 참고"
   ]
  },
  {
   "cell_type": "code",
   "execution_count": 51,
   "id": "b38732c8-01d6-4e58-8cb5-e5626c462535",
   "metadata": {},
   "outputs": [
    {
     "data": {
      "text/plain": [
       "\u001b[0;31mInit signature:\u001b[0m\n",
       "\u001b[0mLearner\u001b[0m\u001b[0;34m(\u001b[0m\u001b[0;34m\u001b[0m\n",
       "\u001b[0;34m\u001b[0m    \u001b[0mdls\u001b[0m\u001b[0;34m,\u001b[0m\u001b[0;34m\u001b[0m\n",
       "\u001b[0;34m\u001b[0m    \u001b[0mmodel\u001b[0m\u001b[0;34m,\u001b[0m\u001b[0;34m\u001b[0m\n",
       "\u001b[0;34m\u001b[0m    \u001b[0mloss_func\u001b[0m\u001b[0;34m=\u001b[0m\u001b[0;32mNone\u001b[0m\u001b[0;34m,\u001b[0m\u001b[0;34m\u001b[0m\n",
       "\u001b[0;34m\u001b[0m    \u001b[0mopt_func\u001b[0m\u001b[0;34m=\u001b[0m\u001b[0;34m<\u001b[0m\u001b[0mfunction\u001b[0m \u001b[0mAdam\u001b[0m \u001b[0mat\u001b[0m \u001b[0;36m0x7f9c57cfbee0\u001b[0m\u001b[0;34m>\u001b[0m\u001b[0;34m,\u001b[0m\u001b[0;34m\u001b[0m\n",
       "\u001b[0;34m\u001b[0m    \u001b[0mlr\u001b[0m\u001b[0;34m=\u001b[0m\u001b[0;36m0.001\u001b[0m\u001b[0;34m,\u001b[0m\u001b[0;34m\u001b[0m\n",
       "\u001b[0;34m\u001b[0m    \u001b[0msplitter\u001b[0m\u001b[0;34m=\u001b[0m\u001b[0;34m<\u001b[0m\u001b[0mfunction\u001b[0m \u001b[0mtrainable_params\u001b[0m \u001b[0mat\u001b[0m \u001b[0;36m0x7f9c78dfcc10\u001b[0m\u001b[0;34m>\u001b[0m\u001b[0;34m,\u001b[0m\u001b[0;34m\u001b[0m\n",
       "\u001b[0;34m\u001b[0m    \u001b[0mcbs\u001b[0m\u001b[0;34m=\u001b[0m\u001b[0;32mNone\u001b[0m\u001b[0;34m,\u001b[0m\u001b[0;34m\u001b[0m\n",
       "\u001b[0;34m\u001b[0m    \u001b[0mmetrics\u001b[0m\u001b[0;34m=\u001b[0m\u001b[0;32mNone\u001b[0m\u001b[0;34m,\u001b[0m\u001b[0;34m\u001b[0m\n",
       "\u001b[0;34m\u001b[0m    \u001b[0mpath\u001b[0m\u001b[0;34m=\u001b[0m\u001b[0;32mNone\u001b[0m\u001b[0;34m,\u001b[0m\u001b[0;34m\u001b[0m\n",
       "\u001b[0;34m\u001b[0m    \u001b[0mmodel_dir\u001b[0m\u001b[0;34m=\u001b[0m\u001b[0;34m'models'\u001b[0m\u001b[0;34m,\u001b[0m\u001b[0;34m\u001b[0m\n",
       "\u001b[0;34m\u001b[0m    \u001b[0mwd\u001b[0m\u001b[0;34m=\u001b[0m\u001b[0;32mNone\u001b[0m\u001b[0;34m,\u001b[0m\u001b[0;34m\u001b[0m\n",
       "\u001b[0;34m\u001b[0m    \u001b[0mwd_bn_bias\u001b[0m\u001b[0;34m=\u001b[0m\u001b[0;32mFalse\u001b[0m\u001b[0;34m,\u001b[0m\u001b[0;34m\u001b[0m\n",
       "\u001b[0;34m\u001b[0m    \u001b[0mtrain_bn\u001b[0m\u001b[0;34m=\u001b[0m\u001b[0;32mTrue\u001b[0m\u001b[0;34m,\u001b[0m\u001b[0;34m\u001b[0m\n",
       "\u001b[0;34m\u001b[0m    \u001b[0mmoms\u001b[0m\u001b[0;34m=\u001b[0m\u001b[0;34m(\u001b[0m\u001b[0;36m0.95\u001b[0m\u001b[0;34m,\u001b[0m \u001b[0;36m0.85\u001b[0m\u001b[0;34m,\u001b[0m \u001b[0;36m0.95\u001b[0m\u001b[0;34m)\u001b[0m\u001b[0;34m,\u001b[0m\u001b[0;34m\u001b[0m\n",
       "\u001b[0;34m\u001b[0m\u001b[0;34m)\u001b[0m\u001b[0;34m\u001b[0m\u001b[0;34m\u001b[0m\u001b[0m\n",
       "\u001b[0;31mDocstring:\u001b[0m      Group together a `model`, some `dls` and a `loss_func` to handle training\n",
       "\u001b[0;31mFile:\u001b[0m           ~/anaconda3/envs/csy/lib/python3.8/site-packages/fastai/learner.py\n",
       "\u001b[0;31mType:\u001b[0m           type\n",
       "\u001b[0;31mSubclasses:\u001b[0m     \n"
      ]
     },
     "metadata": {},
     "output_type": "display_data"
    }
   ],
   "source": [
    "Learner?"
   ]
  },
  {
   "cell_type": "code",
   "execution_count": 52,
   "id": "f4a868b6-abe6-40a6-8129-9934d138f25f",
   "metadata": {},
   "outputs": [
    {
     "data": {
      "text/plain": [
       "\u001b[0;31mSignature:\u001b[0m\n",
       "\u001b[0mcnn_learner\u001b[0m\u001b[0;34m(\u001b[0m\u001b[0;34m\u001b[0m\n",
       "\u001b[0;34m\u001b[0m    \u001b[0mdls\u001b[0m\u001b[0;34m,\u001b[0m\u001b[0;34m\u001b[0m\n",
       "\u001b[0;34m\u001b[0m    \u001b[0march\u001b[0m\u001b[0;34m,\u001b[0m\u001b[0;34m\u001b[0m\n",
       "\u001b[0;34m\u001b[0m    \u001b[0mnormalize\u001b[0m\u001b[0;34m=\u001b[0m\u001b[0;32mTrue\u001b[0m\u001b[0;34m,\u001b[0m\u001b[0;34m\u001b[0m\n",
       "\u001b[0;34m\u001b[0m    \u001b[0mn_out\u001b[0m\u001b[0;34m=\u001b[0m\u001b[0;32mNone\u001b[0m\u001b[0;34m,\u001b[0m\u001b[0;34m\u001b[0m\n",
       "\u001b[0;34m\u001b[0m    \u001b[0mpretrained\u001b[0m\u001b[0;34m=\u001b[0m\u001b[0;32mTrue\u001b[0m\u001b[0;34m,\u001b[0m\u001b[0;34m\u001b[0m\n",
       "\u001b[0;34m\u001b[0m    \u001b[0mconfig\u001b[0m\u001b[0;34m=\u001b[0m\u001b[0;32mNone\u001b[0m\u001b[0;34m,\u001b[0m\u001b[0;34m\u001b[0m\n",
       "\u001b[0;34m\u001b[0m    \u001b[0mloss_func\u001b[0m\u001b[0;34m=\u001b[0m\u001b[0;32mNone\u001b[0m\u001b[0;34m,\u001b[0m\u001b[0;34m\u001b[0m\n",
       "\u001b[0;34m\u001b[0m    \u001b[0mopt_func\u001b[0m\u001b[0;34m=\u001b[0m\u001b[0;34m<\u001b[0m\u001b[0mfunction\u001b[0m \u001b[0mAdam\u001b[0m \u001b[0mat\u001b[0m \u001b[0;36m0x7f9c57cfbee0\u001b[0m\u001b[0;34m>\u001b[0m\u001b[0;34m,\u001b[0m\u001b[0;34m\u001b[0m\n",
       "\u001b[0;34m\u001b[0m    \u001b[0mlr\u001b[0m\u001b[0;34m=\u001b[0m\u001b[0;36m0.001\u001b[0m\u001b[0;34m,\u001b[0m\u001b[0;34m\u001b[0m\n",
       "\u001b[0;34m\u001b[0m    \u001b[0msplitter\u001b[0m\u001b[0;34m=\u001b[0m\u001b[0;32mNone\u001b[0m\u001b[0;34m,\u001b[0m\u001b[0;34m\u001b[0m\n",
       "\u001b[0;34m\u001b[0m    \u001b[0mcbs\u001b[0m\u001b[0;34m=\u001b[0m\u001b[0;32mNone\u001b[0m\u001b[0;34m,\u001b[0m\u001b[0;34m\u001b[0m\n",
       "\u001b[0;34m\u001b[0m    \u001b[0mmetrics\u001b[0m\u001b[0;34m=\u001b[0m\u001b[0;32mNone\u001b[0m\u001b[0;34m,\u001b[0m\u001b[0;34m\u001b[0m\n",
       "\u001b[0;34m\u001b[0m    \u001b[0mpath\u001b[0m\u001b[0;34m=\u001b[0m\u001b[0;32mNone\u001b[0m\u001b[0;34m,\u001b[0m\u001b[0;34m\u001b[0m\n",
       "\u001b[0;34m\u001b[0m    \u001b[0mmodel_dir\u001b[0m\u001b[0;34m=\u001b[0m\u001b[0;34m'models'\u001b[0m\u001b[0;34m,\u001b[0m\u001b[0;34m\u001b[0m\n",
       "\u001b[0;34m\u001b[0m    \u001b[0mwd\u001b[0m\u001b[0;34m=\u001b[0m\u001b[0;32mNone\u001b[0m\u001b[0;34m,\u001b[0m\u001b[0;34m\u001b[0m\n",
       "\u001b[0;34m\u001b[0m    \u001b[0mwd_bn_bias\u001b[0m\u001b[0;34m=\u001b[0m\u001b[0;32mFalse\u001b[0m\u001b[0;34m,\u001b[0m\u001b[0;34m\u001b[0m\n",
       "\u001b[0;34m\u001b[0m    \u001b[0mtrain_bn\u001b[0m\u001b[0;34m=\u001b[0m\u001b[0;32mTrue\u001b[0m\u001b[0;34m,\u001b[0m\u001b[0;34m\u001b[0m\n",
       "\u001b[0;34m\u001b[0m    \u001b[0mmoms\u001b[0m\u001b[0;34m=\u001b[0m\u001b[0;34m(\u001b[0m\u001b[0;36m0.95\u001b[0m\u001b[0;34m,\u001b[0m \u001b[0;36m0.85\u001b[0m\u001b[0;34m,\u001b[0m \u001b[0;36m0.95\u001b[0m\u001b[0;34m)\u001b[0m\u001b[0;34m,\u001b[0m\u001b[0;34m\u001b[0m\n",
       "\u001b[0;34m\u001b[0m    \u001b[0mcut\u001b[0m\u001b[0;34m=\u001b[0m\u001b[0;32mNone\u001b[0m\u001b[0;34m,\u001b[0m\u001b[0;34m\u001b[0m\n",
       "\u001b[0;34m\u001b[0m    \u001b[0mn_in\u001b[0m\u001b[0;34m=\u001b[0m\u001b[0;36m3\u001b[0m\u001b[0;34m,\u001b[0m\u001b[0;34m\u001b[0m\n",
       "\u001b[0;34m\u001b[0m    \u001b[0minit\u001b[0m\u001b[0;34m=\u001b[0m\u001b[0;34m<\u001b[0m\u001b[0mfunction\u001b[0m \u001b[0mkaiming_normal_\u001b[0m \u001b[0mat\u001b[0m \u001b[0;36m0x7f9cc43410d0\u001b[0m\u001b[0;34m>\u001b[0m\u001b[0;34m,\u001b[0m\u001b[0;34m\u001b[0m\n",
       "\u001b[0;34m\u001b[0m    \u001b[0mcustom_head\u001b[0m\u001b[0;34m=\u001b[0m\u001b[0;32mNone\u001b[0m\u001b[0;34m,\u001b[0m\u001b[0;34m\u001b[0m\n",
       "\u001b[0;34m\u001b[0m    \u001b[0mconcat_pool\u001b[0m\u001b[0;34m=\u001b[0m\u001b[0;32mTrue\u001b[0m\u001b[0;34m,\u001b[0m\u001b[0;34m\u001b[0m\n",
       "\u001b[0;34m\u001b[0m    \u001b[0mlin_ftrs\u001b[0m\u001b[0;34m=\u001b[0m\u001b[0;32mNone\u001b[0m\u001b[0;34m,\u001b[0m\u001b[0;34m\u001b[0m\n",
       "\u001b[0;34m\u001b[0m    \u001b[0mps\u001b[0m\u001b[0;34m=\u001b[0m\u001b[0;36m0.5\u001b[0m\u001b[0;34m,\u001b[0m\u001b[0;34m\u001b[0m\n",
       "\u001b[0;34m\u001b[0m    \u001b[0mfirst_bn\u001b[0m\u001b[0;34m=\u001b[0m\u001b[0;32mTrue\u001b[0m\u001b[0;34m,\u001b[0m\u001b[0;34m\u001b[0m\n",
       "\u001b[0;34m\u001b[0m    \u001b[0mbn_final\u001b[0m\u001b[0;34m=\u001b[0m\u001b[0;32mFalse\u001b[0m\u001b[0;34m,\u001b[0m\u001b[0;34m\u001b[0m\n",
       "\u001b[0;34m\u001b[0m    \u001b[0mlin_first\u001b[0m\u001b[0;34m=\u001b[0m\u001b[0;32mFalse\u001b[0m\u001b[0;34m,\u001b[0m\u001b[0;34m\u001b[0m\n",
       "\u001b[0;34m\u001b[0m    \u001b[0my_range\u001b[0m\u001b[0;34m=\u001b[0m\u001b[0;32mNone\u001b[0m\u001b[0;34m,\u001b[0m\u001b[0;34m\u001b[0m\n",
       "\u001b[0;34m\u001b[0m\u001b[0;34m)\u001b[0m\u001b[0;34m\u001b[0m\u001b[0;34m\u001b[0m\u001b[0m\n",
       "\u001b[0;31mDocstring:\u001b[0m Build a convnet style learner from `dls` and `arch`\n",
       "\u001b[0;31mFile:\u001b[0m      ~/anaconda3/envs/csy/lib/python3.8/site-packages/fastai/vision/learner.py\n",
       "\u001b[0;31mType:\u001b[0m      function\n"
      ]
     },
     "metadata": {},
     "output_type": "display_data"
    }
   ],
   "source": [
    "cnn_learner?"
   ]
  },
  {
   "cell_type": "markdown",
   "id": "7c6b7f57-06ab-419b-9309-a8e2084b3784",
   "metadata": {
    "id": "7c6b7f57-06ab-419b-9309-a8e2084b3784"
   },
   "source": [
    "`-` 러너오브젝트를 생성하고 학습하자. "
   ]
  },
  {
   "cell_type": "code",
   "execution_count": 53,
   "id": "88239f97-ea8a-45ea-a811-16ac9befb566",
   "metadata": {
    "id": "88239f97-ea8a-45ea-a811-16ac9befb566",
    "outputId": "45236c95-2878-4e07-a27a-a9c6365e814b"
   },
   "outputs": [
    {
     "data": {
      "text/html": [
       "<table border=\"1\" class=\"dataframe\">\n",
       "  <thead>\n",
       "    <tr style=\"text-align: left;\">\n",
       "      <th>epoch</th>\n",
       "      <th>train_loss</th>\n",
       "      <th>valid_loss</th>\n",
       "      <th>error_rate</th>\n",
       "      <th>time</th>\n",
       "    </tr>\n",
       "  </thead>\n",
       "  <tbody>\n",
       "    <tr>\n",
       "      <td>0</td>\n",
       "      <td>0.273691</td>\n",
       "      <td>0.196475</td>\n",
       "      <td>0.057866</td>\n",
       "      <td>00:07</td>\n",
       "    </tr>\n",
       "  </tbody>\n",
       "</table>"
      ],
      "text/plain": [
       "<IPython.core.display.HTML object>"
      ]
     },
     "metadata": {},
     "output_type": "display_data"
    },
    {
     "data": {
      "text/html": [
       "<table border=\"1\" class=\"dataframe\">\n",
       "  <thead>\n",
       "    <tr style=\"text-align: left;\">\n",
       "      <th>epoch</th>\n",
       "      <th>train_loss</th>\n",
       "      <th>valid_loss</th>\n",
       "      <th>error_rate</th>\n",
       "      <th>time</th>\n",
       "    </tr>\n",
       "  </thead>\n",
       "  <tbody>\n",
       "    <tr>\n",
       "      <td>0</td>\n",
       "      <td>0.055060</td>\n",
       "      <td>0.022026</td>\n",
       "      <td>0.007623</td>\n",
       "      <td>00:08</td>\n",
       "    </tr>\n",
       "  </tbody>\n",
       "</table>"
      ],
      "text/plain": [
       "<IPython.core.display.HTML object>"
      ]
     },
     "metadata": {},
     "output_type": "display_data"
    }
   ],
   "source": [
    "lrnr2=cnn_learner(dls2,resnet34,metrics=error_rate)\n",
    "lrnr2.fine_tune(1)"
   ]
  },
  {
   "cell_type": "markdown",
   "id": "05806159-6d88-4b56-9704-781114c7a98e",
   "metadata": {
    "id": "05806159-6d88-4b56-9704-781114c7a98e"
   },
   "source": [
    "`-` 결과관찰"
   ]
  },
  {
   "cell_type": "code",
   "execution_count": 54,
   "id": "1e095c86-7c2a-4e0a-b1a4-63f7f529f91e",
   "metadata": {
    "id": "1e095c86-7c2a-4e0a-b1a4-63f7f529f91e",
    "outputId": "81458ec5-08d4-4e8d-cbef-be0aa29d3967"
   },
   "outputs": [
    {
     "data": {
      "text/html": [],
      "text/plain": [
       "<IPython.core.display.HTML object>"
      ]
     },
     "metadata": {},
     "output_type": "display_data"
    },
    {
     "data": {
      "image/png": "[encoded data removed]",
      "text/plain": [
       "<Figure size 648x648 with 9 Axes>"
      ]
     },
     "metadata": {
      "needs_background": "light"
     },
     "output_type": "display_data"
    }
   ],
   "source": [
    "lrnr2.show_results()"
   ]
  },
  {
   "cell_type": "markdown",
   "id": "b1e04b49-4f99-499b-b52f-7ed0bf712ad1",
   "metadata": {
    "id": "b1e04b49-4f99-499b-b52f-7ed0bf712ad1"
   },
   "source": [
    "### 모형을 뜯어보는 방법 (lrnr1.model)"
   ]
  },
  {
   "cell_type": "markdown",
   "id": "7c3af94c-249b-478d-8a45-72f641dab27b",
   "metadata": {
    "id": "7c3af94c-249b-478d-8a45-72f641dab27b"
   },
   "source": [
    "`-` 우선 드랍아웃, 배치추가: 직접 네트워크 설계, pytorch와 fastai leaner를 이용한 방법2로 돌아가자."
   ]
  },
  {
   "cell_type": "code",
   "execution_count": 55,
   "id": "7c4e3cec-05c9-4980-9247-125e4eb3f56a",
   "metadata": {
    "id": "7c4e3cec-05c9-4980-9247-125e4eb3f56a",
    "outputId": "bb048973-57b6-4055-ebd1-44854b8f194c"
   },
   "outputs": [
    {
     "data": {
      "text/plain": [
       "tensor([[-9.5383],\n",
       "        [-4.3673],\n",
       "        [-8.2272],\n",
       "        ...,\n",
       "        [10.2741],\n",
       "        [ 0.7408],\n",
       "        [ 3.1241]], device='cuda:0', grad_fn=<AddmmBackward0>)"
      ]
     },
     "execution_count": 55,
     "metadata": {},
     "output_type": "execute_result"
    }
   ],
   "source": [
    "net(X.to(\"cuda:0\")) # 적합 결과를 볼 수 있음"
   ]
  },
  {
   "cell_type": "markdown",
   "id": "229cbb84-f947-4925-bc36-d413c426434b",
   "metadata": {
    "id": "229cbb84-f947-4925-bc36-d413c426434b"
   },
   "source": [
    "`-` 네트워크 구조"
   ]
  },
  {
   "cell_type": "code",
   "execution_count": 56,
   "id": "3e95b9ab-75d9-4943-a692-f8bc8b7a5dc4",
   "metadata": {
    "id": "3e95b9ab-75d9-4943-a692-f8bc8b7a5dc4",
    "outputId": "ac94abe7-e64e-42ca-cb33-daf51383e3eb"
   },
   "outputs": [
    {
     "data": {
      "text/plain": [
       "Sequential(\n",
       "  (0): Conv2d(1, 16, kernel_size=(5, 5), stride=(1, 1))\n",
       "  (1): MaxPool2d(kernel_size=2, stride=2, padding=0, dilation=1, ceil_mode=False)\n",
       "  (2): ReLU()\n",
       "  (3): Dropout2d(p=0.5, inplace=False)\n",
       "  (4): Flatten()\n",
       "  (5): Linear(in_features=2304, out_features=1, bias=True)\n",
       ")"
      ]
     },
     "execution_count": 56,
     "metadata": {},
     "output_type": "execute_result"
    }
   ],
   "source": [
    "net"
   ]
  },
  {
   "cell_type": "code",
   "execution_count": 57,
   "id": "fd51f1cd-4756-4bd3-b467-6fc95214a2e8",
   "metadata": {},
   "outputs": [
    {
     "data": {
      "text/plain": [
       "Conv2d(1, 16, kernel_size=(5, 5), stride=(1, 1))"
      ]
     },
     "execution_count": 57,
     "metadata": {},
     "output_type": "execute_result"
    }
   ],
   "source": [
    "net[0] # 이런식으로 층별 접근 가능"
   ]
  },
  {
   "cell_type": "markdown",
   "id": "6e56fdc2-21d2-48bb-8be3-ce4d171156cc",
   "metadata": {
    "id": "6e56fdc2-21d2-48bb-8be3-ce4d171156cc"
   },
   "source": [
    "`-` 층별변환과정"
   ]
  },
  {
   "cell_type": "code",
   "execution_count": 58,
   "id": "cd476c5c-dd0d-44fa-b4ca-bce37f7b9489",
   "metadata": {
    "id": "cd476c5c-dd0d-44fa-b4ca-bce37f7b9489",
    "outputId": "c07f7ab3-b94a-4eb2-e925-8c33411bd100"
   },
   "outputs": [
    {
     "name": "stdout",
     "output_type": "stream",
     "text": [
      "torch.Size([12396, 1, 28, 28]) --> input image\n",
      "torch.Size([12396, 16, 24, 24]) --> 2dConv\n",
      "torch.Size([12396, 16, 12, 12]) --> MaxPool2d\n",
      "torch.Size([12396, 16, 12, 12]) --> ReLU\n",
      "torch.Size([12396, 16, 12, 12]) --> Dropout2d\n",
      "torch.Size([12396, 2304]) --> Flatten\n",
      "torch.Size([12396, 1]) --> Linear\n"
     ]
    }
   ],
   "source": [
    "print(X.shape, '--> input image')\n",
    "print(net[0](X.to(\"cuda:0\")).shape, '--> 2dConv')\n",
    "print(net[1](net[0](X.to(\"cuda:0\"))).shape, '--> MaxPool2d')\n",
    "print(net[2](net[1](net[0](X.to(\"cuda:0\")))).shape, '--> ReLU')\n",
    "print(net[3](net[2](net[1](net[0](X.to(\"cuda:0\"))))).shape, '--> Dropout2d')\n",
    "print(net[4](net[3](net[2](net[1](net[0](X.to(\"cuda:0\")))))).shape, '--> Flatten')\n",
    "print(net[5](net[4](net[3](net[2](net[1](net[0](X.to(\"cuda:0\"))))))).shape, '--> Linear')"
   ]
  },
  {
   "cell_type": "markdown",
   "id": "6ac9405d-58cd-48a8-8d33-6033bd10a7d7",
   "metadata": {},
   "source": [
    "피드 forward 과정...뭐...."
   ]
  },
  {
   "cell_type": "markdown",
   "id": "d1d26543-b405-48e7-a724-4d7ad81abe2d",
   "metadata": {
    "id": "d1d26543-b405-48e7-a724-4d7ad81abe2d"
   },
   "source": [
    "`-` 최종결과"
   ]
  },
  {
   "cell_type": "code",
   "execution_count": 59,
   "id": "7f566088-8853-4dab-a3f5-bd884aa772c6",
   "metadata": {
    "id": "7f566088-8853-4dab-a3f5-bd884aa772c6",
    "outputId": "ecec4e71-d83f-4d10-d524-a680efcd0145"
   },
   "outputs": [
    {
     "data": {
      "text/plain": [
       "tensor([[-9.5383],\n",
       "        [-4.3673],\n",
       "        [-8.2272],\n",
       "        ...,\n",
       "        [10.2741],\n",
       "        [ 0.7408],\n",
       "        [ 3.1241]], device='cuda:0', grad_fn=<AddmmBackward0>)"
      ]
     },
     "execution_count": 59,
     "metadata": {},
     "output_type": "execute_result"
    }
   ],
   "source": [
    "net[5](net[4](net[3](net[2](net[1](net[0](X.to(\"cuda:0\")))))))"
   ]
  },
  {
   "cell_type": "code",
   "execution_count": 60,
   "id": "57401f49-d35a-443e-9b21-304c507374b7",
   "metadata": {
    "id": "57401f49-d35a-443e-9b21-304c507374b7",
    "outputId": "14310e40-cb96-4a60-e0a6-d1f376be879f"
   },
   "outputs": [
    {
     "data": {
      "text/plain": [
       "tensor([[-9.5383],\n",
       "        [-4.3673],\n",
       "        [-8.2272],\n",
       "        ...,\n",
       "        [10.2741],\n",
       "        [ 0.7408],\n",
       "        [ 3.1241]], device='cuda:0', grad_fn=<AddmmBackward0>)"
      ]
     },
     "execution_count": 60,
     "metadata": {},
     "output_type": "execute_result"
    }
   ],
   "source": [
    "net(X.to(\"cuda:0\"))"
   ]
  },
  {
   "cell_type": "markdown",
   "id": "b0c6e703-b85c-4f9e-a128-11fc56bbf520",
   "metadata": {},
   "source": [
    "두 결과가 일치하는 모습"
   ]
  },
  {
   "cell_type": "markdown",
   "id": "e3e4c524-be50-43ed-9928-1ce53c44a22f",
   "metadata": {
    "id": "e3e4c524-be50-43ed-9928-1ce53c44a22f"
   },
   "source": [
    "`-` lrnr1자체를 활용해도 층별변환과정을 추적할수 있음. (lrnr1.model = net 임을 이용) "
   ]
  },
  {
   "cell_type": "markdown",
   "id": "4ea8d392-3850-4e03-bc15-4ccfc855f1f9",
   "metadata": {},
   "source": [
    "지금까지는 lrnr1를 이용해서 for문 돌림으로써 원하는 층별 세부과정을 관찰했지만, lrnr1자체에서도 모형을 확인할 수 있음"
   ]
  },
  {
   "cell_type": "code",
   "execution_count": 61,
   "id": "9de46a7a-a711-45f9-a106-afddf39493c1",
   "metadata": {
    "id": "9de46a7a-a711-45f9-a106-afddf39493c1",
    "outputId": "1adb5704-eb6d-4625-a8dd-fa06b72661fc"
   },
   "outputs": [
    {
     "data": {
      "text/plain": [
       "Sequential(\n",
       "  (0): Conv2d(1, 16, kernel_size=(5, 5), stride=(1, 1))\n",
       "  (1): MaxPool2d(kernel_size=2, stride=2, padding=0, dilation=1, ceil_mode=False)\n",
       "  (2): ReLU()\n",
       "  (3): Dropout2d(p=0.5, inplace=False)\n",
       "  (4): Flatten()\n",
       "  (5): Linear(in_features=2304, out_features=1, bias=True)\n",
       ")"
      ]
     },
     "execution_count": 61,
     "metadata": {},
     "output_type": "execute_result"
    }
   ],
   "source": [
    "lrnr1.model"
   ]
  },
  {
   "cell_type": "code",
   "execution_count": 62,
   "id": "9226fd7e-10eb-4e85-aa32-9cae22e13a92",
   "metadata": {
    "id": "9226fd7e-10eb-4e85-aa32-9cae22e13a92",
    "outputId": "e9d25fee-e396-4059-9d7a-ea5f1e7c84c8"
   },
   "outputs": [
    {
     "data": {
      "text/plain": [
       "Conv2d(1, 16, kernel_size=(5, 5), stride=(1, 1))"
      ]
     },
     "execution_count": 62,
     "metadata": {},
     "output_type": "execute_result"
    }
   ],
   "source": [
    "lrnr1.model[0]"
   ]
  },
  {
   "cell_type": "code",
   "execution_count": 63,
   "id": "ff947b2f-7a93-4005-b11a-13cdd0b93a65",
   "metadata": {
    "id": "ff947b2f-7a93-4005-b11a-13cdd0b93a65",
    "outputId": "6b0a2758-e803-4306-e08c-63480db294f7"
   },
   "outputs": [
    {
     "data": {
      "text/plain": [
       "tensor([[-9.5383],\n",
       "        [-4.3673],\n",
       "        [-8.2272],\n",
       "        ...,\n",
       "        [10.2741],\n",
       "        [ 0.7408],\n",
       "        [ 3.1241]], device='cuda:0', grad_fn=<AddmmBackward0>)"
      ]
     },
     "execution_count": 63,
     "metadata": {},
     "output_type": "execute_result"
    }
   ],
   "source": [
    "lrnr1.model(X.to(\"cuda:0\"))"
   ]
  },
  {
   "cell_type": "markdown",
   "id": "ef1d24e5-7224-482a-a24e-ebb9278908d6",
   "metadata": {},
   "source": [
    "$\\uparrow$ 2d colv이 진행되는 과정"
   ]
  },
  {
   "cell_type": "code",
   "execution_count": 64,
   "id": "6801578d-905c-4ece-8e7a-471cd5f7bdc4",
   "metadata": {
    "id": "6801578d-905c-4ece-8e7a-471cd5f7bdc4",
    "outputId": "14039e23-67e9-4d30-f4dc-1248b627f59f"
   },
   "outputs": [
    {
     "name": "stdout",
     "output_type": "stream",
     "text": [
      "torch.Size([12396, 1, 28, 28]) --> input image\n",
      "torch.Size([12396, 16, 24, 24]) --> 2dConv\n",
      "torch.Size([12396, 16, 12, 12]) --> MaxPool2d\n",
      "torch.Size([12396, 16, 12, 12]) --> ReLU\n",
      "torch.Size([12396, 16, 12, 12]) --> Dropout2d\n",
      "torch.Size([12396, 2304]) --> Flatten\n",
      "torch.Size([12396, 1]) --> Linear\n"
     ]
    }
   ],
   "source": [
    "print(X.shape, '--> input image')\n",
    "print(lrnr1.model[0](X.to(\"cuda:0\")).shape, '--> 2dConv')\n",
    "print(lrnr1.model[1](lrnr1.model[0](X.to(\"cuda:0\"))).shape, '--> MaxPool2d')\n",
    "print(lrnr1.model[2](lrnr1.model[1](lrnr1.model[0](X.to(\"cuda:0\")))).shape, '--> ReLU')\n",
    "print(lrnr1.model[3](lrnr1.model[2](lrnr1.model[1](lrnr1.model[0](X.to(\"cuda:0\"))))).shape, '--> Dropout2d')\n",
    "print(lrnr1.model[4](lrnr1.model[3](lrnr1.model[2](lrnr1.model[1](lrnr1.model[0](X.to(\"cuda:0\")))))).shape, '--> Flatten')\n",
    "print(lrnr1.model[5](lrnr1.model[4](lrnr1.model[3](lrnr1.model[2](lrnr1.model[1](lrnr1.model[0](X.to(\"cuda:0\"))))))).shape, '--> Linear')"
   ]
  },
  {
   "cell_type": "markdown",
   "id": "cca012f1-8930-4867-a2f9-cd1ef822efeb",
   "metadata": {
    "id": "cca012f1-8930-4867-a2f9-cd1ef822efeb"
   },
   "source": [
    "`-` 정리: 모형은 항상 아래와 같이 2d-part 와 1d-part로 나누어진다. \n",
    "```\n",
    "torch.Size([12396, 1, 28, 28]) --> input image\n",
    "torch.Size([12396, 16, 24, 24]) --> 2dConv\n",
    "torch.Size([12396, 16, 12, 12]) --> MaxPool2d\n",
    "torch.Size([12396, 16, 12, 12]) --> ReLU\n",
    "torch.Size([12396, 16, 12, 12]) --> Dropout2d\n",
    "===============================================================\n",
    "torch.Size([12396, 2304]) --> Flatten\n",
    "torch.Size([12396, 1]) --> Linear\n",
    "```"
   ]
  },
  {
   "cell_type": "markdown",
   "id": "8611831e-60d6-43f5-b84e-2ed148829daa",
   "metadata": {},
   "source": [
    "엄밀히 말하면  Flatten은 2d를 1d로 바꿔주는 과정이긴 해.."
   ]
  },
  {
   "cell_type": "markdown",
   "id": "39a5f18f-8eac-4daa-860d-438994b5e614",
   "metadata": {},
   "source": [
    "엄밀히 말하면 공식적인 분류는 아닌 1d-part 2d-part"
   ]
  },
  {
   "cell_type": "markdown",
   "id": "c477a40c-064b-4575-8cc4-6286aff09bcd",
   "metadata": {
    "id": "c477a40c-064b-4575-8cc4-6286aff09bcd"
   },
   "source": [
    "`-` 2d-part: \n",
    "- 2d선형변환: torch.nn.Conv2d()\n",
    "- 2d비선형변환: torch.nn.MaxPool2d(), torch.nn.ReLU()"
   ]
  },
  {
   "cell_type": "markdown",
   "id": "93b456c5-7fa3-4aae-8d65-4d196ec9aec7",
   "metadata": {
    "id": "93b456c5-7fa3-4aae-8d65-4d196ec9aec7"
   },
   "source": [
    "`-` 1d-part:\n",
    "- 1d선형변환: torch.nn.Linear() \n",
    "- 1d비선형변환: torch.nn.ReLU()"
   ]
  },
  {
   "cell_type": "code",
   "execution_count": 65,
   "id": "2c51ce27-ea5d-4bce-9a18-c8a0dc780452",
   "metadata": {
    "id": "2c51ce27-ea5d-4bce-9a18-c8a0dc780452"
   },
   "outputs": [],
   "source": [
    "_net1=torch.nn.Sequential(\n",
    "    net[0],\n",
    "    net[1],\n",
    "    net[2],\n",
    "    net[3])\n",
    "_net2=torch.nn.Sequential(\n",
    "    net[4],\n",
    "    net[5])"
   ]
  },
  {
   "cell_type": "markdown",
   "id": "7709b40e-91ad-4306-a58f-613fef3581fb",
   "metadata": {},
   "source": [
    "1d-part랑 2d-part 몰아서 아키텍쳐 설계 $\\to$ 이렇게 층별로 몰아서 관리하기도 함"
   ]
  },
  {
   "cell_type": "code",
   "execution_count": 66,
   "id": "42bf22a3-81e4-4371-8d44-883793198aa1",
   "metadata": {
    "id": "42bf22a3-81e4-4371-8d44-883793198aa1",
    "outputId": "32f3b390-c431-4d64-a201-a91dc9ad4e09"
   },
   "outputs": [
    {
     "data": {
      "text/plain": [
       "Sequential(\n",
       "  (0): Conv2d(1, 16, kernel_size=(5, 5), stride=(1, 1))\n",
       "  (1): MaxPool2d(kernel_size=2, stride=2, padding=0, dilation=1, ceil_mode=False)\n",
       "  (2): ReLU()\n",
       "  (3): Dropout2d(p=0.5, inplace=False)\n",
       ")"
      ]
     },
     "execution_count": 66,
     "metadata": {},
     "output_type": "execute_result"
    }
   ],
   "source": [
    "_net1"
   ]
  },
  {
   "cell_type": "code",
   "execution_count": 67,
   "id": "4cf4ea93-4dbb-4132-905f-4ea6e48cd410",
   "metadata": {
    "id": "4cf4ea93-4dbb-4132-905f-4ea6e48cd410",
    "outputId": "958ee716-b4d5-4e75-ad3c-faec95c75ab1"
   },
   "outputs": [
    {
     "data": {
      "text/plain": [
       "Sequential(\n",
       "  (0): Flatten()\n",
       "  (1): Linear(in_features=2304, out_features=1, bias=True)\n",
       ")"
      ]
     },
     "execution_count": 67,
     "metadata": {},
     "output_type": "execute_result"
    }
   ],
   "source": [
    "_net2"
   ]
  },
  {
   "cell_type": "code",
   "execution_count": 68,
   "id": "4f3905e3-8cc5-4081-861f-1735cb2e271b",
   "metadata": {
    "id": "4f3905e3-8cc5-4081-861f-1735cb2e271b"
   },
   "outputs": [],
   "source": [
    "_net=torch.nn.Sequential(_net1,_net2)"
   ]
  },
  {
   "cell_type": "code",
   "execution_count": 69,
   "id": "30784703-0d11-4cd7-866c-d8290f1b56b8",
   "metadata": {
    "id": "30784703-0d11-4cd7-866c-d8290f1b56b8",
    "outputId": "252e88be-3aff-47bb-ee26-ad18e07e9948"
   },
   "outputs": [
    {
     "data": {
      "text/plain": [
       "tensor([[-9.5383],\n",
       "        [-4.3673],\n",
       "        [-8.2272],\n",
       "        ...,\n",
       "        [10.2741],\n",
       "        [ 0.7408],\n",
       "        [ 3.1241]], device='cuda:0', grad_fn=<AddmmBackward0>)"
      ]
     },
     "execution_count": 69,
     "metadata": {},
     "output_type": "execute_result"
    }
   ],
   "source": [
    "_net[1](_net[0](X.to('cuda:0')))"
   ]
  },
  {
   "cell_type": "markdown",
   "id": "369852b2-7abb-4338-acaf-7a23b46745a4",
   "metadata": {
    "id": "369852b2-7abb-4338-acaf-7a23b46745a4",
    "tags": []
   },
   "source": [
    "### lrnr2.model 분석 "
   ]
  },
  {
   "cell_type": "markdown",
   "id": "d6a39953-d313-4c9c-a6ef-7ed29d2963fd",
   "metadata": {
    "id": "d6a39953-d313-4c9c-a6ef-7ed29d2963fd"
   },
   "source": [
    "`-` 아래의 모형은 현재 가장 성능이 좋은 모형(**state of the art**)중 하나인 resnet이다. "
   ]
  },
  {
   "cell_type": "code",
   "execution_count": 70,
   "id": "d4ab1e42-93ac-43e1-838b-2b908e52195c",
   "metadata": {
    "id": "d4ab1e42-93ac-43e1-838b-2b908e52195c",
    "outputId": "6b372a3d-61d3-4479-f11f-fb843547cdc8"
   },
   "outputs": [
    {
     "data": {
      "text/plain": [
       "Sequential(\n",
       "  (0): Sequential(\n",
       "    (0): Conv2d(3, 64, kernel_size=(7, 7), stride=(2, 2), padding=(3, 3), bias=False)\n",
       "    (1): BatchNorm2d(64, eps=1e-05, momentum=0.1, affine=True, track_running_stats=True)\n",
       "    (2): ReLU(inplace=True)\n",
       "    (3): MaxPool2d(kernel_size=3, stride=2, padding=1, dilation=1, ceil_mode=False)\n",
       "    (4): Sequential(\n",
       "      (0): BasicBlock(\n",
       "        (conv1): Conv2d(64, 64, kernel_size=(3, 3), stride=(1, 1), padding=(1, 1), bias=False)\n",
       "        (bn1): BatchNorm2d(64, eps=1e-05, momentum=0.1, affine=True, track_running_stats=True)\n",
       "        (relu): ReLU(inplace=True)\n",
       "        (conv2): Conv2d(64, 64, kernel_size=(3, 3), stride=(1, 1), padding=(1, 1), bias=False)\n",
       "        (bn2): BatchNorm2d(64, eps=1e-05, momentum=0.1, affine=True, track_running_stats=True)\n",
       "      )\n",
       "      (1): BasicBlock(\n",
       "        (conv1): Conv2d(64, 64, kernel_size=(3, 3), stride=(1, 1), padding=(1, 1), bias=False)\n",
       "        (bn1): BatchNorm2d(64, eps=1e-05, momentum=0.1, affine=True, track_running_stats=True)\n",
       "        (relu): ReLU(inplace=True)\n",
       "        (conv2): Conv2d(64, 64, kernel_size=(3, 3), stride=(1, 1), padding=(1, 1), bias=False)\n",
       "        (bn2): BatchNorm2d(64, eps=1e-05, momentum=0.1, affine=True, track_running_stats=True)\n",
       "      )\n",
       "      (2): BasicBlock(\n",
       "        (conv1): Conv2d(64, 64, kernel_size=(3, 3), stride=(1, 1), padding=(1, 1), bias=False)\n",
       "        (bn1): BatchNorm2d(64, eps=1e-05, momentum=0.1, affine=True, track_running_stats=True)\n",
       "        (relu): ReLU(inplace=True)\n",
       "        (conv2): Conv2d(64, 64, kernel_size=(3, 3), stride=(1, 1), padding=(1, 1), bias=False)\n",
       "        (bn2): BatchNorm2d(64, eps=1e-05, momentum=0.1, affine=True, track_running_stats=True)\n",
       "      )\n",
       "    )\n",
       "    (5): Sequential(\n",
       "      (0): BasicBlock(\n",
       "        (conv1): Conv2d(64, 128, kernel_size=(3, 3), stride=(2, 2), padding=(1, 1), bias=False)\n",
       "        (bn1): BatchNorm2d(128, eps=1e-05, momentum=0.1, affine=True, track_running_stats=True)\n",
       "        (relu): ReLU(inplace=True)\n",
       "        (conv2): Conv2d(128, 128, kernel_size=(3, 3), stride=(1, 1), padding=(1, 1), bias=False)\n",
       "        (bn2): BatchNorm2d(128, eps=1e-05, momentum=0.1, affine=True, track_running_stats=True)\n",
       "        (downsample): Sequential(\n",
       "          (0): Conv2d(64, 128, kernel_size=(1, 1), stride=(2, 2), bias=False)\n",
       "          (1): BatchNorm2d(128, eps=1e-05, momentum=0.1, affine=True, track_running_stats=True)\n",
       "        )\n",
       "      )\n",
       "      (1): BasicBlock(\n",
       "        (conv1): Conv2d(128, 128, kernel_size=(3, 3), stride=(1, 1), padding=(1, 1), bias=False)\n",
       "        (bn1): BatchNorm2d(128, eps=1e-05, momentum=0.1, affine=True, track_running_stats=True)\n",
       "        (relu): ReLU(inplace=True)\n",
       "        (conv2): Conv2d(128, 128, kernel_size=(3, 3), stride=(1, 1), padding=(1, 1), bias=False)\n",
       "        (bn2): BatchNorm2d(128, eps=1e-05, momentum=0.1, affine=True, track_running_stats=True)\n",
       "      )\n",
       "      (2): BasicBlock(\n",
       "        (conv1): Conv2d(128, 128, kernel_size=(3, 3), stride=(1, 1), padding=(1, 1), bias=False)\n",
       "        (bn1): BatchNorm2d(128, eps=1e-05, momentum=0.1, affine=True, track_running_stats=True)\n",
       "        (relu): ReLU(inplace=True)\n",
       "        (conv2): Conv2d(128, 128, kernel_size=(3, 3), stride=(1, 1), padding=(1, 1), bias=False)\n",
       "        (bn2): BatchNorm2d(128, eps=1e-05, momentum=0.1, affine=True, track_running_stats=True)\n",
       "      )\n",
       "      (3): BasicBlock(\n",
       "        (conv1): Conv2d(128, 128, kernel_size=(3, 3), stride=(1, 1), padding=(1, 1), bias=False)\n",
       "        (bn1): BatchNorm2d(128, eps=1e-05, momentum=0.1, affine=True, track_running_stats=True)\n",
       "        (relu): ReLU(inplace=True)\n",
       "        (conv2): Conv2d(128, 128, kernel_size=(3, 3), stride=(1, 1), padding=(1, 1), bias=False)\n",
       "        (bn2): BatchNorm2d(128, eps=1e-05, momentum=0.1, affine=True, track_running_stats=True)\n",
       "      )\n",
       "    )\n",
       "    (6): Sequential(\n",
       "      (0): BasicBlock(\n",
       "        (conv1): Conv2d(128, 256, kernel_size=(3, 3), stride=(2, 2), padding=(1, 1), bias=False)\n",
       "        (bn1): BatchNorm2d(256, eps=1e-05, momentum=0.1, affine=True, track_running_stats=True)\n",
       "        (relu): ReLU(inplace=True)\n",
       "        (conv2): Conv2d(256, 256, kernel_size=(3, 3), stride=(1, 1), padding=(1, 1), bias=False)\n",
       "        (bn2): BatchNorm2d(256, eps=1e-05, momentum=0.1, affine=True, track_running_stats=True)\n",
       "        (downsample): Sequential(\n",
       "          (0): Conv2d(128, 256, kernel_size=(1, 1), stride=(2, 2), bias=False)\n",
       "          (1): BatchNorm2d(256, eps=1e-05, momentum=0.1, affine=True, track_running_stats=True)\n",
       "        )\n",
       "      )\n",
       "      (1): BasicBlock(\n",
       "        (conv1): Conv2d(256, 256, kernel_size=(3, 3), stride=(1, 1), padding=(1, 1), bias=False)\n",
       "        (bn1): BatchNorm2d(256, eps=1e-05, momentum=0.1, affine=True, track_running_stats=True)\n",
       "        (relu): ReLU(inplace=True)\n",
       "        (conv2): Conv2d(256, 256, kernel_size=(3, 3), stride=(1, 1), padding=(1, 1), bias=False)\n",
       "        (bn2): BatchNorm2d(256, eps=1e-05, momentum=0.1, affine=True, track_running_stats=True)\n",
       "      )\n",
       "      (2): BasicBlock(\n",
       "        (conv1): Conv2d(256, 256, kernel_size=(3, 3), stride=(1, 1), padding=(1, 1), bias=False)\n",
       "        (bn1): BatchNorm2d(256, eps=1e-05, momentum=0.1, affine=True, track_running_stats=True)\n",
       "        (relu): ReLU(inplace=True)\n",
       "        (conv2): Conv2d(256, 256, kernel_size=(3, 3), stride=(1, 1), padding=(1, 1), bias=False)\n",
       "        (bn2): BatchNorm2d(256, eps=1e-05, momentum=0.1, affine=True, track_running_stats=True)\n",
       "      )\n",
       "      (3): BasicBlock(\n",
       "        (conv1): Conv2d(256, 256, kernel_size=(3, 3), stride=(1, 1), padding=(1, 1), bias=False)\n",
       "        (bn1): BatchNorm2d(256, eps=1e-05, momentum=0.1, affine=True, track_running_stats=True)\n",
       "        (relu): ReLU(inplace=True)\n",
       "        (conv2): Conv2d(256, 256, kernel_size=(3, 3), stride=(1, 1), padding=(1, 1), bias=False)\n",
       "        (bn2): BatchNorm2d(256, eps=1e-05, momentum=0.1, affine=True, track_running_stats=True)\n",
       "      )\n",
       "      (4): BasicBlock(\n",
       "        (conv1): Conv2d(256, 256, kernel_size=(3, 3), stride=(1, 1), padding=(1, 1), bias=False)\n",
       "        (bn1): BatchNorm2d(256, eps=1e-05, momentum=0.1, affine=True, track_running_stats=True)\n",
       "        (relu): ReLU(inplace=True)\n",
       "        (conv2): Conv2d(256, 256, kernel_size=(3, 3), stride=(1, 1), padding=(1, 1), bias=False)\n",
       "        (bn2): BatchNorm2d(256, eps=1e-05, momentum=0.1, affine=True, track_running_stats=True)\n",
       "      )\n",
       "      (5): BasicBlock(\n",
       "        (conv1): Conv2d(256, 256, kernel_size=(3, 3), stride=(1, 1), padding=(1, 1), bias=False)\n",
       "        (bn1): BatchNorm2d(256, eps=1e-05, momentum=0.1, affine=True, track_running_stats=True)\n",
       "        (relu): ReLU(inplace=True)\n",
       "        (conv2): Conv2d(256, 256, kernel_size=(3, 3), stride=(1, 1), padding=(1, 1), bias=False)\n",
       "        (bn2): BatchNorm2d(256, eps=1e-05, momentum=0.1, affine=True, track_running_stats=True)\n",
       "      )\n",
       "    )\n",
       "    (7): Sequential(\n",
       "      (0): BasicBlock(\n",
       "        (conv1): Conv2d(256, 512, kernel_size=(3, 3), stride=(2, 2), padding=(1, 1), bias=False)\n",
       "        (bn1): BatchNorm2d(512, eps=1e-05, momentum=0.1, affine=True, track_running_stats=True)\n",
       "        (relu): ReLU(inplace=True)\n",
       "        (conv2): Conv2d(512, 512, kernel_size=(3, 3), stride=(1, 1), padding=(1, 1), bias=False)\n",
       "        (bn2): BatchNorm2d(512, eps=1e-05, momentum=0.1, affine=True, track_running_stats=True)\n",
       "        (downsample): Sequential(\n",
       "          (0): Conv2d(256, 512, kernel_size=(1, 1), stride=(2, 2), bias=False)\n",
       "          (1): BatchNorm2d(512, eps=1e-05, momentum=0.1, affine=True, track_running_stats=True)\n",
       "        )\n",
       "      )\n",
       "      (1): BasicBlock(\n",
       "        (conv1): Conv2d(512, 512, kernel_size=(3, 3), stride=(1, 1), padding=(1, 1), bias=False)\n",
       "        (bn1): BatchNorm2d(512, eps=1e-05, momentum=0.1, affine=True, track_running_stats=True)\n",
       "        (relu): ReLU(inplace=True)\n",
       "        (conv2): Conv2d(512, 512, kernel_size=(3, 3), stride=(1, 1), padding=(1, 1), bias=False)\n",
       "        (bn2): BatchNorm2d(512, eps=1e-05, momentum=0.1, affine=True, track_running_stats=True)\n",
       "      )\n",
       "      (2): BasicBlock(\n",
       "        (conv1): Conv2d(512, 512, kernel_size=(3, 3), stride=(1, 1), padding=(1, 1), bias=False)\n",
       "        (bn1): BatchNorm2d(512, eps=1e-05, momentum=0.1, affine=True, track_running_stats=True)\n",
       "        (relu): ReLU(inplace=True)\n",
       "        (conv2): Conv2d(512, 512, kernel_size=(3, 3), stride=(1, 1), padding=(1, 1), bias=False)\n",
       "        (bn2): BatchNorm2d(512, eps=1e-05, momentum=0.1, affine=True, track_running_stats=True)\n",
       "      )\n",
       "    )\n",
       "  )\n",
       "  (1): Sequential(\n",
       "    (0): AdaptiveConcatPool2d(\n",
       "      (ap): AdaptiveAvgPool2d(output_size=1)\n",
       "      (mp): AdaptiveMaxPool2d(output_size=1)\n",
       "    )\n",
       "    (1): Flatten(full=False)\n",
       "    (2): BatchNorm1d(1024, eps=1e-05, momentum=0.1, affine=True, track_running_stats=True)\n",
       "    (3): Dropout(p=0.25, inplace=False)\n",
       "    (4): Linear(in_features=1024, out_features=512, bias=False)\n",
       "    (5): ReLU(inplace=True)\n",
       "    (6): BatchNorm1d(512, eps=1e-05, momentum=0.1, affine=True, track_running_stats=True)\n",
       "    (7): Dropout(p=0.5, inplace=False)\n",
       "    (8): Linear(in_features=512, out_features=2, bias=False)\n",
       "  )\n",
       ")"
      ]
     },
     "execution_count": 70,
     "metadata": {},
     "output_type": "execute_result"
    }
   ],
   "source": [
    "lrnr2.model"
   ]
  },
  {
   "cell_type": "markdown",
   "id": "90f29638-5204-43c0-8e97-13cddcf1c2cd",
   "metadata": {
    "id": "90f29638-5204-43c0-8e97-13cddcf1c2cd"
   },
   "source": [
    "`-` 특징 \n",
    "- lrnr2.model[0] _ 2d-part: 입력채널이 3이다, Conv2d에 padding/stride의 옵션이 있다, 드랍아웃이 없다, 배치정규화BatchNorm2d가 있다. \n",
    "- lrnr2.model[1] _ 1d-part: 배치정규화BatchNorm1d가 있다, 출력의 차원이 2이다."
   ]
  },
  {
   "cell_type": "markdown",
   "id": "800a816a-e728-46c1-b889-8f45f146cdc9",
   "metadata": {},
   "source": [
    "우리가 네트워크 만들때 입력 채널은 1이기 때문에 resnet 기본 입력채널 3과 다르다. 그래서 Data Load Set 만들때도 network만들때도 이에 맞는 dls 따로 만들어줘야 한다. 왜 3일까.. 컬러이미지를 기본으로 생각하고 있는 resnet34.. padding은 shape 변하지 않음.."
   ]
  },
  {
   "cell_type": "markdown",
   "id": "1e76fbf6-c7aa-4f17-a3c3-f50f43681b5a",
   "metadata": {
    "id": "1e76fbf6-c7aa-4f17-a3c3-f50f43681b5a"
   },
   "source": [
    "***DLS, Networks***\n",
    "- 네트워크의 형태에 따라서 dls의 형태도 다르게 만들어야 한다. \n",
    "- MLP모형: 입력이 $784$, 첫 네트워크의 형태가 $784 \\to 30$ 인 torch.nn.Linear()\n",
    "- CNN모형: 입력이 $1\\times 28 \\times 28$, 첫 네트워크의 형태가 $1\\times 28 \\times 28 \\to 16 \\times 24 \\times 24$ 인 torch.nn.Conv2d()\n",
    "- Resnet34: 입력이 $3\\times 28 \\times 28$, 첫 네트워크의 형태가 $3\\times 28 \\times 28 \\to ??$ "
   ]
  },
  {
   "cell_type": "markdown",
   "id": "4042fcca-a921-48da-8de8-8f1972347d29",
   "metadata": {},
   "source": [
    "Multi Linear Perceptron(= Deep Neural Network)"
   ]
  },
  {
   "cell_type": "markdown",
   "id": "c2eec0e6-bc56-49ba-8d40-4ba1fb4cc815",
   "metadata": {
    "id": "c2eec0e6-bc56-49ba-8d40-4ba1fb4cc815"
   },
   "source": [
    "***참고***\n",
    "\n",
    "|$y$|분포가정|마지막층의 활성화함수|손실함수(파이토치)|\n",
    "|:--:|:--:|:--:|:--:|\n",
    "|3.45, 4.43, ... (연속형) |정규분포|Linear|MSEloss|\n",
    "|0 or 1|이항분포(베르누이)|Sigmoid| BCEloss|\n",
    "|[0,0,1], [0,1,0], [1,0,0]| 다항분포|Softmax| CrossEntropyLoss|"
   ]
  },
  {
   "cell_type": "markdown",
   "id": "9de933d2-396c-428a-b662-6350ac18c940",
   "metadata": {
    "id": "9de933d2-396c-428a-b662-6350ac18c940"
   },
   "source": [
    "### 딥러닝 연구의 네가지 축 "
   ]
  },
  {
   "cell_type": "markdown",
   "id": "3f4e5350-ccd9-408d-b006-28fae18be029",
   "metadata": {
    "id": "3f4e5350-ccd9-408d-b006-28fae18be029"
   },
   "source": [
    "(1) 아키텍처 $(\\star)$\n",
    "- 한 영역의 전문적인 지식이 필요한 것이 아닌것 같다. \n",
    "- 끈기, 약간의 운, 직관, 좋은컴퓨터.. \n",
    "    - yhat <- X,net\n",
    "\n",
    "(2) 손실함수 \n",
    "- 통계적지식필요 // 기존의 손실함수를 변형하는 형태 (패널티텀활용)\n",
    "    - 수렴하는 해가 달라지기 때문\n",
    "    - loss <- (y,yhat)\n",
    "\n",
    "(3) 미분계산 (컴공)\n",
    "- 병렬처리등에 대한 지식 필요 \n",
    "    - (d/dw)loss <- loss\n",
    "\n",
    "(4) 옵티마이저 (산공)\n",
    "- 최적화에 대한 이론적 토대 필요 \n"
   ]
  },
  {
   "cell_type": "markdown",
   "id": "ffd2f396-1a12-46d6-b03b-698c79993d5c",
   "metadata": {
    "id": "ffd2f396-1a12-46d6-b03b-698c79993d5c"
   },
   "source": [
    "`-` 딥러닝 이전까지의 아키텍처에 대한 연구 \n",
    "- 파라메트릭 모형: 전문가 (실제 전문가가 해석한 거 바탕으로)\n",
    "- 넌파라메트릭 모형: 전문가(보통 통계 전문가)\n",
    "- 딥러닝: 상대적으로 비전문가(지금 우리가 할 수 있는 수준...)"
   ]
  },
  {
   "cell_type": "markdown",
   "id": "a67a10c2-26d6-4732-88fa-e02ed2861d2d",
   "metadata": {
    "id": "a67a10c2-26d6-4732-88fa-e02ed2861d2d"
   },
   "source": [
    "`-` 특징: 비전문가도 만들수 있다 + 블랙박스 (내부연산을 뜯어볼 수는 있지만 우리가 해석하기 어려움) \n",
    "- 신뢰받기 어려워"
   ]
  },
  {
   "cell_type": "markdown",
   "id": "9a9dd78c-ca7c-42ef-a69d-a49e2b6d0220",
   "metadata": {
    "id": "9a9dd78c-ca7c-42ef-a69d-a49e2b6d0220"
   },
   "source": [
    "`-` 설명가능한 딥러닝에 대한 요구 (XAI)"
   ]
  },
  {
   "cell_type": "markdown",
   "id": "f66d6519-601b-4c76-a417-182d10752086",
   "metadata": {
    "id": "f66d6519-601b-4c76-a417-182d10752086"
   },
   "source": [
    "### 설명가능한 CNN모형"
   ]
  },
  {
   "cell_type": "markdown",
   "id": "06e595b7-0505-4cc7-90a8-cd563656a155",
   "metadata": {
    "id": "06e595b7-0505-4cc7-90a8-cd563656a155"
   },
   "source": [
    "`-` 현재까지의 모형 \n",
    "- 1단계: 2d선형변환 $\\to$ 2d비선형변환 \n",
    "- 2단계: Flatten $\\to$ MLP"
   ]
  },
  {
   "cell_type": "markdown",
   "id": "ffe049dc-4e2b-4045-b316-e9b32742f228",
   "metadata": {
    "id": "ffe049dc-4e2b-4045-b316-e9b32742f228"
   },
   "source": [
    "`-` lrnr1(교수님꼐서 만들었던 모형)의 모형을 다시 복습"
   ]
  },
  {
   "cell_type": "code",
   "execution_count": 71,
   "id": "0793ecf2-1d18-4998-9b0b-d13c848876a9",
   "metadata": {
    "id": "0793ecf2-1d18-4998-9b0b-d13c848876a9",
    "outputId": "0c7edaa0-810d-4552-d7cc-771cd50ff4eb"
   },
   "outputs": [
    {
     "data": {
      "text/plain": [
       "Sequential(\n",
       "  (0): Conv2d(1, 16, kernel_size=(5, 5), stride=(1, 1))\n",
       "  (1): MaxPool2d(kernel_size=2, stride=2, padding=0, dilation=1, ceil_mode=False)\n",
       "  (2): ReLU()\n",
       "  (3): Dropout2d(p=0.5, inplace=False)\n",
       "  (4): Flatten()\n",
       "  (5): Linear(in_features=2304, out_features=1, bias=True)\n",
       ")"
      ]
     },
     "execution_count": 71,
     "metadata": {},
     "output_type": "execute_result"
    }
   ],
   "source": [
    "lrnr1.model"
   ]
  },
  {
   "cell_type": "code",
   "execution_count": 72,
   "id": "3401eb78-0d8e-4b84-85d1-40ff76532bff",
   "metadata": {
    "id": "3401eb78-0d8e-4b84-85d1-40ff76532bff"
   },
   "outputs": [],
   "source": [
    "net1=torch.nn.Sequential(\n",
    "    lrnr1.model[0],\n",
    "    lrnr1.model[1],\n",
    "    lrnr1.model[2],\n",
    "    lrnr1.model[3])"
   ]
  },
  {
   "cell_type": "markdown",
   "id": "3e7a2bb7-cd4d-4705-8362-ba08e1e7280d",
   "metadata": {},
   "source": [
    "net1, lnnr1에서 구성했던 파라미터들 가져오기"
   ]
  },
  {
   "cell_type": "code",
   "execution_count": 73,
   "id": "7729864c-1a98-4203-a6dd-f17d4709b2fe",
   "metadata": {
    "id": "7729864c-1a98-4203-a6dd-f17d4709b2fe",
    "outputId": "4e90e4b4-e1a4-4583-9894-4228108e7202"
   },
   "outputs": [
    {
     "data": {
      "text/plain": [
       "torch.Size([12396, 16, 12, 12])"
      ]
     },
     "execution_count": 73,
     "metadata": {},
     "output_type": "execute_result"
    }
   ],
   "source": [
    "net1(X.to('cuda:0')).shape"
   ]
  },
  {
   "cell_type": "markdown",
   "id": "c985ab96-e8ad-4323-97a8-c9d6da57c9b2",
   "metadata": {},
   "source": [
    "observation * 16channel * 12 * 12"
   ]
  },
  {
   "cell_type": "markdown",
   "id": "1bf2d516-f98e-4ca2-b230-ab586ce5b1eb",
   "metadata": {
    "id": "1bf2d516-f98e-4ca2-b230-ab586ce5b1eb"
   },
   "source": [
    "`-` 1단계까지의 출력결과를 시각화 "
   ]
  },
  {
   "cell_type": "code",
   "execution_count": 75,
   "id": "1616a037-429f-47ca-a4b3-082b880ef534",
   "metadata": {
    "id": "1616a037-429f-47ca-a4b3-082b880ef534",
    "outputId": "a1a42e9b-6c9e-4fb6-e0e8-6f8b877a54e7"
   },
   "outputs": [
    {
     "data": {
      "image/png": "[encoded data removed]",
      "text/plain": [
       "<Figure size 576x576 with 16 Axes>"
      ]
     },
     "metadata": {
      "needs_background": "light"
     },
     "output_type": "display_data"
    }
   ],
   "source": [
    "fig, axs = plt.subplots(4,4) \n",
    "k=0\n",
    "for i in range(4):\n",
    "    for j in range(4):\n",
    "        axs[i,j].imshow(net1(X.to(\"cuda:0\"))[0][k].to(\"cpu\").data) # 첫번쨰 저[0]obseervation으로 고정\n",
    "        k=k+1\n",
    "fig.set_figheight(8)\n",
    "fig.set_figwidth(8)\n",
    "fig.tight_layout()"
   ]
  },
  {
   "cell_type": "markdown",
   "id": "d187b0b5-4a2d-485b-8812-7177823baec4",
   "metadata": {
    "id": "d187b0b5-4a2d-485b-8812-7177823baec4"
   },
   "source": [
    "#### net1은 유지+ net2의 구조를 변경!!"
   ]
  },
  {
   "cell_type": "markdown",
   "id": "5afeeaf7-46d0-4550-a866-98417b81f0e2",
   "metadata": {},
   "source": [
    "왜? 설명은 아래에서"
   ]
  },
  {
   "cell_type": "code",
   "execution_count": 76,
   "id": "93e54e8f-92ac-4ac8-8e5a-0a4d5c7067b7",
   "metadata": {
    "id": "93e54e8f-92ac-4ac8-8e5a-0a4d5c7067b7",
    "outputId": "83f67fad-b56e-4c32-e9bd-ab19ee3cdfb4"
   },
   "outputs": [
    {
     "data": {
      "text/plain": [
       "Sequential(\n",
       "  (0): Conv2d(1, 16, kernel_size=(5, 5), stride=(1, 1))\n",
       "  (1): MaxPool2d(kernel_size=2, stride=2, padding=0, dilation=1, ceil_mode=False)\n",
       "  (2): ReLU()\n",
       "  (3): Dropout2d(p=0.5, inplace=False)\n",
       "  (4): Flatten()\n",
       "  (5): Linear(in_features=2304, out_features=1, bias=True)\n",
       ")"
      ]
     },
     "execution_count": 76,
     "metadata": {},
     "output_type": "execute_result"
    }
   ],
   "source": [
    "lrnr1.model"
   ]
  },
  {
   "cell_type": "markdown",
   "id": "3c6225fd-75b9-4653-8fe8-14263ba28d5b",
   "metadata": {
    "id": "3c6225fd-75b9-4653-8fe8-14263ba28d5b"
   },
   "source": [
    "`-` 계획 \n",
    "- 변경전net2: $(n,16,12,12) \\overset{flatten}{\\Longrightarrow} (n,?) \\overset{Linear(?,1)}{\\Longrightarrow} (n,1)$\n",
    "- 변경후net2: $(n,16,12,12) \\overset{gap+flatten}{\\Longrightarrow} (n,16) \\overset{Linear(16,1)}{\\Longrightarrow} (n,1)$"
   ]
  },
  {
   "cell_type": "markdown",
   "id": "b0ec4a75-9f91-43e8-ae4f-72abf350300d",
   "metadata": {},
   "source": [
    "gap(global activate pooling) -  16개의 이미지가 $12\\times12$픽셀로 정리되어 있는데 여기서 평균으로 값을 하나씩만 뽑고 싶다.\n",
    "\n",
    "flatten - 추가해서 dimention 줄여주기"
   ]
  },
  {
   "cell_type": "markdown",
   "id": "bf0cc3c5-c945-4027-bfd7-f47d8bfb0c84",
   "metadata": {
    "id": "bf0cc3c5-c945-4027-bfd7-f47d8bfb0c84"
   },
   "source": [
    "`-` gap: 12$\\times$12 픽셀을 평균내서 하나의 값으로 대표하자 (왜?)"
   ]
  },
  {
   "cell_type": "code",
   "execution_count": 77,
   "id": "116e4114-bd1f-4add-bf65-a09111244878",
   "metadata": {
    "id": "116e4114-bd1f-4add-bf65-a09111244878"
   },
   "outputs": [],
   "source": [
    "ap=torch.nn.AdaptiveAvgPool2d(output_size=1)"
   ]
  },
  {
   "cell_type": "code",
   "execution_count": 78,
   "id": "913d191a-3af7-4f75-a9bc-abb494311d5e",
   "metadata": {
    "id": "913d191a-3af7-4f75-a9bc-abb494311d5e",
    "outputId": "0326c68e-7c83-4f27-a707-0a886d0372ce"
   },
   "outputs": [
    {
     "data": {
      "text/plain": [
       "torch.Size([12396, 16, 1, 1])"
      ]
     },
     "execution_count": 78,
     "metadata": {},
     "output_type": "execute_result"
    }
   ],
   "source": [
    "ap(net1(X.to(\"cuda:0\"))).shape"
   ]
  },
  {
   "cell_type": "markdown",
   "id": "23d51ad4-4a77-4a21-b0d0-d94189d800da",
   "metadata": {},
   "source": [
    "이미지 하나당 하나의 평균아 나타나 16개가 찍힌 모습"
   ]
  },
  {
   "cell_type": "markdown",
   "id": "00f9ae0d-6161-46fd-bb1e-3e2f42bd9ba4",
   "metadata": {
    "id": "00f9ae0d-6161-46fd-bb1e-3e2f42bd9ba4"
   },
   "source": [
    "--"
   ]
  },
  {
   "cell_type": "markdown",
   "id": "3efb5962-dfb2-4b53-8e03-8fdfe3fc2fce",
   "metadata": {
    "id": "3efb5962-dfb2-4b53-8e03-8fdfe3fc2fce"
   },
   "source": [
    "***보충학습:ap(average pooling)는 그냥 평균***"
   ]
  },
  {
   "cell_type": "code",
   "execution_count": 79,
   "id": "93dca932-da09-434b-a8a2-ede71456e4a7",
   "metadata": {
    "id": "93dca932-da09-434b-a8a2-ede71456e4a7",
    "outputId": "59e86842-f979-4258-9840-a474feec914f"
   },
   "outputs": [
    {
     "data": {
      "text/plain": [
       "tensor([[0.1000, 0.2000],\n",
       "        [0.3000, 0.4000]])"
      ]
     },
     "execution_count": 79,
     "metadata": {},
     "output_type": "execute_result"
    }
   ],
   "source": [
    "torch.tensor([[0.1,0.2],[0.3,0.4]])"
   ]
  },
  {
   "cell_type": "code",
   "execution_count": 80,
   "id": "93427d70-3277-4bd9-96f9-fba4c6415cb7",
   "metadata": {
    "id": "93427d70-3277-4bd9-96f9-fba4c6415cb7",
    "outputId": "be53579c-7bb1-45d2-f82f-810153ff5c13"
   },
   "outputs": [
    {
     "data": {
      "text/plain": [
       "tensor([[0.2500]])"
      ]
     },
     "execution_count": 80,
     "metadata": {},
     "output_type": "execute_result"
    }
   ],
   "source": [
    "ap(torch.tensor([[0.1,0.2],[0.3,0.4]]))"
   ]
  },
  {
   "cell_type": "markdown",
   "id": "c96359ed-a1c3-4248-98ff-49a89d506618",
   "metadata": {
    "id": "c96359ed-a1c3-4248-98ff-49a89d506618"
   },
   "source": [
    "--"
   ]
  },
  {
   "cell_type": "markdown",
   "id": "cf1ec3f5-b130-4832-b6bd-79aef6cf3ca1",
   "metadata": {
    "id": "cf1ec3f5-b130-4832-b6bd-79aef6cf3ca1"
   },
   "source": [
    "`-` flatten "
   ]
  },
  {
   "cell_type": "code",
   "execution_count": 81,
   "id": "0da2d12d-9d94-4378-8c10-52d96bfc32ba",
   "metadata": {
    "id": "0da2d12d-9d94-4378-8c10-52d96bfc32ba",
    "outputId": "46c9d4f4-1151-41d5-ef0d-d61d5a0fadbc"
   },
   "outputs": [
    {
     "data": {
      "text/plain": [
       "torch.Size([12396, 16])"
      ]
     },
     "execution_count": 81,
     "metadata": {},
     "output_type": "execute_result"
    }
   ],
   "source": [
    "flatten(ap(net1(X.to(\"cuda:0\")))).shape"
   ]
  },
  {
   "cell_type": "markdown",
   "id": "1a4daac2-3f81-4427-b99a-66035ef20f49",
   "metadata": {
    "id": "1a4daac2-3f81-4427-b99a-66035ef20f49"
   },
   "source": [
    "`-` linear "
   ]
  },
  {
   "cell_type": "code",
   "execution_count": 82,
   "id": "5c642ee5-3516-4182-be84-9c34e52ea59c",
   "metadata": {
    "id": "5c642ee5-3516-4182-be84-9c34e52ea59c"
   },
   "outputs": [],
   "source": [
    "_l1=torch.nn.Linear(16,1,bias=False) "
   ]
  },
  {
   "cell_type": "code",
   "execution_count": 83,
   "id": "229e9bda-2b0c-41e5-b877-5c3fdc801ff8",
   "metadata": {
    "id": "229e9bda-2b0c-41e5-b877-5c3fdc801ff8",
    "outputId": "fdde2538-6b35-4bf0-c7a6-1784bbfeb5f0"
   },
   "outputs": [
    {
     "data": {
      "text/plain": [
       "Linear(in_features=16, out_features=1, bias=False)"
      ]
     },
     "execution_count": 83,
     "metadata": {},
     "output_type": "execute_result"
    }
   ],
   "source": [
    "_l1.to(\"cuda:0\")"
   ]
  },
  {
   "cell_type": "code",
   "execution_count": 84,
   "id": "827f7202-5864-48be-94e1-74bad9e49d3c",
   "metadata": {
    "id": "827f7202-5864-48be-94e1-74bad9e49d3c",
    "outputId": "4418d11b-a26e-4f82-fadd-153a664c62c8"
   },
   "outputs": [
    {
     "data": {
      "text/plain": [
       "torch.Size([12396, 1])"
      ]
     },
     "execution_count": 84,
     "metadata": {},
     "output_type": "execute_result"
    }
   ],
   "source": [
    "_l1(flatten(ap(net1(X.to(\"cuda:0\"))))).shape"
   ]
  },
  {
   "cell_type": "markdown",
   "id": "68ef83c9-75d7-4f70-ba72-042f1ae5f40e",
   "metadata": {
    "id": "68ef83c9-75d7-4f70-ba72-042f1ae5f40e"
   },
   "source": [
    "`-` 이걸 net2로 구성하자. $\\to$ (net1,net2)를 묶어서 하나의 새로운 네트워크를 만들자. "
   ]
  },
  {
   "cell_type": "code",
   "execution_count": 85,
   "id": "1791de93-f3f0-4593-a029-1f7a8f3c0180",
   "metadata": {
    "id": "1791de93-f3f0-4593-a029-1f7a8f3c0180"
   },
   "outputs": [],
   "source": [
    "net2=torch.nn.Sequential(\n",
    "    torch.nn.AdaptiveAvgPool2d(1),\n",
    "    Flatten(),\n",
    "    torch.nn.Linear(16,1,bias=False))"
   ]
  },
  {
   "cell_type": "code",
   "execution_count": 86,
   "id": "3eb3c2a1-ac1a-4a40-bad2-b6dac917359f",
   "metadata": {
    "id": "3eb3c2a1-ac1a-4a40-bad2-b6dac917359f",
    "outputId": "edc8fe90-9dac-4a81-ad67-7561933d2054"
   },
   "outputs": [
    {
     "data": {
      "text/plain": [
       "Sequential(\n",
       "  (0): Sequential(\n",
       "    (0): Conv2d(1, 16, kernel_size=(5, 5), stride=(1, 1))\n",
       "    (1): MaxPool2d(kernel_size=2, stride=2, padding=0, dilation=1, ceil_mode=False)\n",
       "    (2): ReLU()\n",
       "    (3): Dropout2d(p=0.5, inplace=False)\n",
       "  )\n",
       "  (1): Sequential(\n",
       "    (0): AdaptiveAvgPool2d(output_size=1)\n",
       "    (1): Flatten()\n",
       "    (2): Linear(in_features=16, out_features=1, bias=False)\n",
       "  )\n",
       ")"
      ]
     },
     "execution_count": 86,
     "metadata": {},
     "output_type": "execute_result"
    }
   ],
   "source": [
    "net=torch.nn.Sequential(net1,net2) \n",
    "net"
   ]
  },
  {
   "cell_type": "markdown",
   "id": "fe079ed5-21b0-49f8-bb44-d639341c937f",
   "metadata": {},
   "source": [
    "새로 데이터를 만들어서 위에서 두 번째 sequantial이 학습이 안 되어 있을걸?"
   ]
  },
  {
   "cell_type": "markdown",
   "id": "f1403378-cf2a-4932-bd9a-d38f9fae713a",
   "metadata": {
    "id": "f1403378-cf2a-4932-bd9a-d38f9fae713a"
   },
   "source": [
    "`-` 수정된 네트워크로 lrnr3을 만들고 재학습"
   ]
  },
  {
   "cell_type": "code",
   "execution_count": 87,
   "id": "68ed2a98-0e98-4cd2-bc03-99264693454b",
   "metadata": {
    "id": "68ed2a98-0e98-4cd2-bc03-99264693454b"
   },
   "outputs": [],
   "source": [
    "ds=torch.utils.data.TensorDataset(X,y)\n",
    "ds1,ds2=torch.utils.data.random_split(ds,[10000,2396])\n",
    "dl1=torch.utils.data.DataLoader(ds1,batch_size=1000)\n",
    "dl2=torch.utils.data.DataLoader(ds2,batch_size=2396)\n",
    "dls=DataLoaders(dl1,dl2)"
   ]
  },
  {
   "cell_type": "code",
   "execution_count": 88,
   "id": "3b54604b-04de-49c0-a373-5679a8f75733",
   "metadata": {
    "id": "3b54604b-04de-49c0-a373-5679a8f75733"
   },
   "outputs": [],
   "source": [
    "lrnr3=Learner(dls,net,opt_func=Adam,loss_func=loss_fn,lr=0.1)"
   ]
  },
  {
   "cell_type": "code",
   "execution_count": 89,
   "id": "f24cd122-4484-4a4d-99ce-a4fdf267b9e0",
   "metadata": {
    "id": "f24cd122-4484-4a4d-99ce-a4fdf267b9e0",
    "outputId": "d7ddf5a7-ca80-4385-e6b0-d6231e3534c7"
   },
   "outputs": [
    {
     "data": {
      "text/html": [
       "<table border=\"1\" class=\"dataframe\">\n",
       "  <thead>\n",
       "    <tr style=\"text-align: left;\">\n",
       "      <th>epoch</th>\n",
       "      <th>train_loss</th>\n",
       "      <th>valid_loss</th>\n",
       "      <th>time</th>\n",
       "    </tr>\n",
       "  </thead>\n",
       "  <tbody>\n",
       "    <tr>\n",
       "      <td>0</td>\n",
       "      <td>0.706865</td>\n",
       "      <td>0.687762</td>\n",
       "      <td>00:00</td>\n",
       "    </tr>\n",
       "    <tr>\n",
       "      <td>1</td>\n",
       "      <td>0.688459</td>\n",
       "      <td>0.630627</td>\n",
       "      <td>00:00</td>\n",
       "    </tr>\n",
       "    <tr>\n",
       "      <td>2</td>\n",
       "      <td>0.677580</td>\n",
       "      <td>0.630665</td>\n",
       "      <td>00:00</td>\n",
       "    </tr>\n",
       "    <tr>\n",
       "      <td>3</td>\n",
       "      <td>0.672540</td>\n",
       "      <td>0.626169</td>\n",
       "      <td>00:00</td>\n",
       "    </tr>\n",
       "    <tr>\n",
       "      <td>4</td>\n",
       "      <td>0.667126</td>\n",
       "      <td>0.610476</td>\n",
       "      <td>00:00</td>\n",
       "    </tr>\n",
       "    <tr>\n",
       "      <td>5</td>\n",
       "      <td>0.660131</td>\n",
       "      <td>0.598949</td>\n",
       "      <td>00:00</td>\n",
       "    </tr>\n",
       "    <tr>\n",
       "      <td>6</td>\n",
       "      <td>0.652424</td>\n",
       "      <td>0.583780</td>\n",
       "      <td>00:00</td>\n",
       "    </tr>\n",
       "    <tr>\n",
       "      <td>7</td>\n",
       "      <td>0.644813</td>\n",
       "      <td>0.553959</td>\n",
       "      <td>00:00</td>\n",
       "    </tr>\n",
       "    <tr>\n",
       "      <td>8</td>\n",
       "      <td>0.637455</td>\n",
       "      <td>0.538188</td>\n",
       "      <td>00:00</td>\n",
       "    </tr>\n",
       "    <tr>\n",
       "      <td>9</td>\n",
       "      <td>0.630696</td>\n",
       "      <td>0.538153</td>\n",
       "      <td>00:00</td>\n",
       "    </tr>\n",
       "  </tbody>\n",
       "</table>"
      ],
      "text/plain": [
       "<IPython.core.display.HTML object>"
      ]
     },
     "metadata": {},
     "output_type": "display_data"
    }
   ],
   "source": [
    "lrnr3.fit(10)"
   ]
  },
  {
   "cell_type": "markdown",
   "id": "da7176cb-f98b-4485-9cd0-9646ddf86ba6",
   "metadata": {
    "id": "da7176cb-f98b-4485-9cd0-9646ddf86ba6"
   },
   "source": [
    "### CAM: observation을 1개로 고정하고 net2에서 layer의 순서를 바꿔서 시각화"
   ]
  },
  {
   "cell_type": "markdown",
   "id": "cae1322b-d875-4e5d-a033-54e983750ca8",
   "metadata": {},
   "source": [
    "Class Activation Map"
   ]
  },
  {
   "cell_type": "markdown",
   "id": "19b9d580-7251-4582-92b9-5c5207d42367",
   "metadata": {},
   "source": [
    "http://cnnlocalization.csail.mit.edu/Zhou_Learning_Deep_Features_CVPR_2016_paper.pdf\n",
    "\n",
    "원 논문"
   ]
  },
  {
   "cell_type": "markdown",
   "id": "76a745be-1e17-4397-acb2-bf3165b849fd",
   "metadata": {
    "id": "76a745be-1e17-4397-acb2-bf3165b849fd"
   },
   "source": [
    "`-` 계획 \n",
    "- 변경전net2: $(n,16,12,12) \\overset{flatten}{\\Longrightarrow} (n,?) \\overset{Linear(?,1)}{\\Longrightarrow} (n,1)$\n",
    "- 변경후net2: $(n,16,12,12) \\overset{gap+flatten}{\\Longrightarrow} (n,16) \\overset{Linear(16,1)}{\\Longrightarrow} (n,1)$\n",
    "- CAM: $(1,16,12,12) \\overset{Linear(16,1)+flatten}{\\Longrightarrow} (12,12) \\overset{gap}{\\Longrightarrow} 1$"
   ]
  },
  {
   "cell_type": "markdown",
   "id": "2cc73d3b-a287-4bd2-8ab9-484190fbe1ae",
   "metadata": {},
   "source": [
    "cam에서 observation 을 1로 고정, linear도 16$\\times$1 vector니까 곱해질 수 있겠지 flatten 후 gap하면 fix한 observation으로 dimention이 변경"
   ]
  },
  {
   "cell_type": "markdown",
   "id": "a8606fc0-b9c5-45a7-8d46-7b476909ac89",
   "metadata": {
    "id": "a8606fc0-b9c5-45a7-8d46-7b476909ac89"
   },
   "source": [
    "`-` 준비과정1: 시각화할 샘플을 하나 준비하자. "
   ]
  },
  {
   "cell_type": "code",
   "execution_count": 93,
   "id": "73bf7a76-0d90-40e9-a003-fc39b30acf37",
   "metadata": {
    "id": "73bf7a76-0d90-40e9-a003-fc39b30acf37",
    "outputId": "9724f89b-d408-4422-887a-93c1733c6422"
   },
   "outputs": [
    {
     "data": {
      "text/plain": [
       "(torch.Size([12396, 1, 28, 28]), torch.Size([1, 28, 28]))"
      ]
     },
     "execution_count": 93,
     "metadata": {},
     "output_type": "execute_result"
    }
   ],
   "source": [
    "x=X[100] # 이미지 임의로 하나 선택\n",
    "X.shape,x.shape"
   ]
  },
  {
   "cell_type": "markdown",
   "id": "80931103-b5ce-4518-b0b5-a2bff8c1dd02",
   "metadata": {
    "id": "80931103-b5ce-4518-b0b5-a2bff8c1dd02"
   },
   "source": [
    "- 차원이 다르므로 나중에 네트워크에 넣을때 문제가 생길 수 있음 $\\to$ 차원을 맞춰주자"
   ]
  },
  {
   "cell_type": "code",
   "execution_count": 94,
   "id": "ee314a9e-c73c-433c-9f66-09c992452950",
   "metadata": {
    "id": "ee314a9e-c73c-433c-9f66-09c992452950"
   },
   "outputs": [],
   "source": [
    "x=x.reshape(1,1,28,28) "
   ]
  },
  {
   "cell_type": "code",
   "execution_count": 95,
   "id": "b0cddb1b-a505-4056-9546-7c47439a97b8",
   "metadata": {
    "id": "b0cddb1b-a505-4056-9546-7c47439a97b8",
    "outputId": "3d06ab7b-fbb6-44f7-8f7a-96135ce2cdbf"
   },
   "outputs": [
    {
     "data": {
      "text/plain": [
       "<matplotlib.image.AxesImage at 0x7f9cbd328be0>"
      ]
     },
     "execution_count": 95,
     "metadata": {},
     "output_type": "execute_result"
    },
    {
     "data": {
      "image/png": "[encoded data removed]",
      "text/plain": [
       "<Figure size 432x288 with 1 Axes>"
      ]
     },
     "metadata": {
      "needs_background": "light"
     },
     "output_type": "display_data"
    }
   ],
   "source": [
    "plt.imshow(x.squeeze())"
   ]
  },
  {
   "cell_type": "markdown",
   "id": "bf67adcb-260d-4a81-b139-64855e6d0d04",
   "metadata": {},
   "source": [
    "squeeze 로 차원을 28$\\times$28로 변환\n",
    "\n",
    "x자체는 2d라 그려지지 않지"
   ]
  },
  {
   "cell_type": "markdown",
   "id": "4922d8c5-a993-4961-9866-91b9f8ea892c",
   "metadata": {},
   "source": [
    "fastai로 훈련해서 gpu에 있는 네트워크를 cpu로!"
   ]
  },
  {
   "cell_type": "markdown",
   "id": "0f3ce075-b6cb-4425-8e5a-769d0c7c69af",
   "metadata": {
    "id": "0f3ce075-b6cb-4425-8e5a-769d0c7c69af"
   },
   "source": [
    "`-` 준비과정2: 계산과 시각화를 위해서 각 네트워크를 cpu로 옮기자. (fastai로 학습한 직후라 GPU에 있음)"
   ]
  },
  {
   "cell_type": "code",
   "execution_count": 96,
   "id": "e7ba362c-dc89-4314-ac63-c2fb1225613d",
   "metadata": {
    "id": "e7ba362c-dc89-4314-ac63-c2fb1225613d",
    "outputId": "cf14ef99-0b04-460b-d015-2f00fb7bce58"
   },
   "outputs": [
    {
     "data": {
      "text/plain": [
       "Sequential(\n",
       "  (0): AdaptiveAvgPool2d(output_size=1)\n",
       "  (1): Flatten()\n",
       "  (2): Linear(in_features=16, out_features=1, bias=False)\n",
       ")"
      ]
     },
     "execution_count": 96,
     "metadata": {},
     "output_type": "execute_result"
    }
   ],
   "source": [
    "net1.to('cpu')\n",
    "net2.to('cpu')"
   ]
  },
  {
   "cell_type": "markdown",
   "id": "9bef02c7-d5b1-41b5-865b-ecfc9fbb5174",
   "metadata": {
    "id": "9bef02c7-d5b1-41b5-865b-ecfc9fbb5174"
   },
   "source": [
    "`-` forward확인: 이 값을 기억하자. "
   ]
  },
  {
   "cell_type": "markdown",
   "id": "356bd164-10a2-489f-9dfe-96317f987d4d",
   "metadata": {},
   "source": [
    "activation 취하기 전에는 음수/양수로 되어있고,\n",
    "\n",
    "seventensor 가 three tensor보다 먼저 정의됨\n",
    "\n",
    "따라서 음수이면 7, 양수이면 1이라고 cnn이 판단"
   ]
  },
  {
   "cell_type": "code",
   "execution_count": 97,
   "id": "177bcf0c-391d-4508-978f-a19ff2fcce1b",
   "metadata": {
    "id": "177bcf0c-391d-4508-978f-a19ff2fcce1b",
    "outputId": "aec2bf35-9ecb-4ea4-a7a0-f3863e579744"
   },
   "outputs": [
    {
     "data": {
      "text/plain": [
       "tensor([[-0.3010]], grad_fn=<MmBackward0>)"
      ]
     },
     "execution_count": 97,
     "metadata": {},
     "output_type": "execute_result"
    }
   ],
   "source": [
    "net2(net1(x)) ## 음수이므로 class=7 이라고 CNN이 판단 "
   ]
  },
  {
   "cell_type": "markdown",
   "id": "fb354c7a-488a-405b-94c4-32dabd56a0c4",
   "metadata": {
    "id": "fb354c7a-488a-405b-94c4-32dabd56a0c4"
   },
   "source": [
    "`-` net2를 수정하고 forward값 확인 "
   ]
  },
  {
   "cell_type": "markdown",
   "id": "68d62315-b21f-4b6f-9b52-be9ab3938e92",
   "metadata": {},
   "source": [
    "net1, net2 적용했을때 나오는 값을 확인한다는 뜻"
   ]
  },
  {
   "cell_type": "code",
   "execution_count": 98,
   "id": "20a6fe38-e4da-46e4-9647-9360c13d9e65",
   "metadata": {
    "id": "20a6fe38-e4da-46e4-9647-9360c13d9e65",
    "outputId": "20c485a8-3038-405a-bc25-f2fbab04473c"
   },
   "outputs": [
    {
     "data": {
      "text/plain": [
       "Sequential(\n",
       "  (0): AdaptiveAvgPool2d(output_size=1)\n",
       "  (1): Flatten()\n",
       "  (2): Linear(in_features=16, out_features=1, bias=False)\n",
       ")"
      ]
     },
     "execution_count": 98,
     "metadata": {},
     "output_type": "execute_result"
    }
   ],
   "source": [
    "net2"
   ]
  },
  {
   "cell_type": "markdown",
   "id": "4d314514-123c-4a78-b136-63795beceb52",
   "metadata": {
    "id": "4d314514-123c-4a78-b136-63795beceb52"
   },
   "source": [
    "- net2에서 Linear와 AdaptiveAvgPool2d의 적용순서를 바꿔줌"
   ]
  },
  {
   "cell_type": "markdown",
   "id": "a4283fc1-40d5-45b2-a281-ed49af3129b8",
   "metadata": {
    "id": "a4283fc1-40d5-45b2-a281-ed49af3129b8"
   },
   "source": [
    "차원확인"
   ]
  },
  {
   "cell_type": "code",
   "execution_count": 99,
   "id": "e587552f-5c9a-44b3-9c25-a9144f990d6e",
   "metadata": {
    "id": "e587552f-5c9a-44b3-9c25-a9144f990d6e",
    "outputId": "67212666-b209-46fd-d0d7-6a39e0e786ef"
   },
   "outputs": [
    {
     "data": {
      "text/plain": [
       "torch.Size([16, 12, 12])"
      ]
     },
     "execution_count": 99,
     "metadata": {},
     "output_type": "execute_result"
    }
   ],
   "source": [
    "net1(x).squeeze().shape"
   ]
  },
  {
   "cell_type": "code",
   "execution_count": 100,
   "id": "a9a3001b-28c3-4692-95e4-7ffbfb45bd91",
   "metadata": {
    "id": "a9a3001b-28c3-4692-95e4-7ffbfb45bd91",
    "outputId": "8b704c4e-ebf8-43f7-bd97-2c943b9486b5"
   },
   "outputs": [
    {
     "data": {
      "text/plain": [
       "torch.Size([16])"
      ]
     },
     "execution_count": 100,
     "metadata": {},
     "output_type": "execute_result"
    }
   ],
   "source": [
    "net2[2].weight.squeeze().shape"
   ]
  },
  {
   "cell_type": "markdown",
   "id": "2d8e46f2-7e7c-4c00-a7a3-d5ceac798322",
   "metadata": {},
   "source": [
    "불필요한 값들 안 나오게 차원 조절해주기"
   ]
  },
  {
   "cell_type": "markdown",
   "id": "21400cdd-8eb4-4a9a-9665-f8aa5077c5c4",
   "metadata": {
    "id": "21400cdd-8eb4-4a9a-9665-f8aa5077c5c4"
   },
   "source": [
    "**Linear(in_features=16, out_features=1, bias=False)** 를 적용: 16 $\\times$ (16,12,12) $\\to$ (12,12) "
   ]
  },
  {
   "cell_type": "code",
   "execution_count": 101,
   "id": "ae26c8aa-f61a-43fc-bb12-55dc21c7bddc",
   "metadata": {
    "id": "ae26c8aa-f61a-43fc-bb12-55dc21c7bddc",
    "outputId": "7e96f5d3-af6b-4d24-dd78-9a518cfa6ab3"
   },
   "outputs": [
    {
     "ename": "RuntimeError",
     "evalue": "mat1 and mat2 shapes cannot be multiplied (192x12 and 16x1)",
     "output_type": "error",
     "traceback": [
      "\u001b[0;31m---------------------------------------------------------------------------\u001b[0m",
      "\u001b[0;31mRuntimeError\u001b[0m                              Traceback (most recent call last)",
      "\u001b[0;32m<ipython-input-101-3a37d2891e65>\u001b[0m in \u001b[0;36m<module>\u001b[0;34m\u001b[0m\n\u001b[0;32m----> 1\u001b[0;31m \u001b[0mnet2\u001b[0m\u001b[0;34m[\u001b[0m\u001b[0;36m2\u001b[0m\u001b[0;34m]\u001b[0m\u001b[0;34m.\u001b[0m\u001b[0mweight\u001b[0m\u001b[0;34m.\u001b[0m\u001b[0msqueeze\u001b[0m\u001b[0;34m(\u001b[0m\u001b[0;34m)\u001b[0m \u001b[0;34m@\u001b[0m \u001b[0mnet1\u001b[0m\u001b[0;34m(\u001b[0m\u001b[0mx\u001b[0m\u001b[0;34m)\u001b[0m\u001b[0;34m.\u001b[0m\u001b[0msqueeze\u001b[0m\u001b[0;34m(\u001b[0m\u001b[0;34m)\u001b[0m\u001b[0;34m\u001b[0m\u001b[0;34m\u001b[0m\u001b[0m\n\u001b[0m",
      "\u001b[0;31mRuntimeError\u001b[0m: mat1 and mat2 shapes cannot be multiplied (192x12 and 16x1)"
     ]
    }
   ],
   "source": [
    "net2[2].weight.squeeze() @ net1(x).squeeze()"
   ]
  },
  {
   "cell_type": "markdown",
   "id": "37b46f98-78f2-4e4b-9784-3ac4686efdd5",
   "metadata": {
    "id": "37b46f98-78f2-4e4b-9784-3ac4686efdd5"
   },
   "source": [
    "- 실패.. "
   ]
  },
  {
   "cell_type": "markdown",
   "id": "e12b3c0d-3402-4544-b256-47c0640a91ab",
   "metadata": {},
   "source": [
    "matrix 계산할때 사용할 수 있고, matrix보다 한 차원 높은 tensor라 적용을 할 수 없다."
   ]
  },
  {
   "cell_type": "code",
   "execution_count": 102,
   "id": "b835533f-425c-4a4c-bed8-7029edaf9e0d",
   "metadata": {
    "id": "b835533f-425c-4a4c-bed8-7029edaf9e0d",
    "outputId": "56e39641-bb04-4ec0-ce95-d6bf03eb54c9"
   },
   "outputs": [
    {
     "data": {
      "text/plain": [
       "torch.Size([12, 12])"
      ]
     },
     "execution_count": 102,
     "metadata": {},
     "output_type": "execute_result"
    }
   ],
   "source": [
    "camimg=torch.einsum('i,ijk -> jk',net2[2].weight.squeeze(), net1(x).squeeze()) \n",
    "camimg.shape"
   ]
  },
  {
   "cell_type": "markdown",
   "id": "4df4ae71-0b5e-4523-b436-a8c33e6ea767",
   "metadata": {
    "id": "4df4ae71-0b5e-4523-b436-a8c33e6ea767"
   },
   "source": [
    "- 성공 "
   ]
  },
  {
   "cell_type": "markdown",
   "id": "7f3539a6-3f29-4ac1-b58a-198647e62ee0",
   "metadata": {},
   "source": [
    "einsum 에 변하고 싶은 차원, 벡터,벡터 입력"
   ]
  },
  {
   "cell_type": "markdown",
   "id": "ddc493a6-9551-48b9-b627-d0bddae3ac5b",
   "metadata": {
    "id": "ddc493a6-9551-48b9-b627-d0bddae3ac5b"
   },
   "source": [
    "**AdaptiveAvgPool2d(output_size=1)** 를 적용"
   ]
  },
  {
   "cell_type": "code",
   "execution_count": 103,
   "id": "50572a4b-ef74-4529-a769-b54e556f9c50",
   "metadata": {
    "id": "50572a4b-ef74-4529-a769-b54e556f9c50",
    "outputId": "79238fc4-5f66-4483-f18a-9d1bd07d7162"
   },
   "outputs": [
    {
     "data": {
      "text/plain": [
       "tensor([[-0.3010]], grad_fn=<MeanBackward1>)"
      ]
     },
     "execution_count": 103,
     "metadata": {},
     "output_type": "execute_result"
    }
   ],
   "source": [
    "ap(camimg)"
   ]
  },
  {
   "cell_type": "markdown",
   "id": "633ed779-d8ad-4262-8cb8-6c142925dd4b",
   "metadata": {
    "id": "633ed779-d8ad-4262-8cb8-6c142925dd4b"
   },
   "source": [
    "`!!!!` 똑같다?"
   ]
  },
  {
   "cell_type": "markdown",
   "id": "8b7ff87f-9eb1-4dc9-a2c0-a7fcbd3a5c45",
   "metadata": {
    "id": "8b7ff87f-9eb1-4dc9-a2c0-a7fcbd3a5c45"
   },
   "source": [
    "`-` 아래의 값이 같다. "
   ]
  },
  {
   "cell_type": "code",
   "execution_count": 104,
   "id": "ed0b7d24-7ee6-4f12-b0db-74147c0d3f4f",
   "metadata": {
    "id": "ed0b7d24-7ee6-4f12-b0db-74147c0d3f4f",
    "outputId": "87c19457-cb6a-4e06-de69-59895d1d223d"
   },
   "outputs": [
    {
     "data": {
      "text/plain": [
       "(tensor([[-0.3010]], grad_fn=<MmBackward0>),\n",
       " tensor([[-0.3010]], grad_fn=<MeanBackward1>))"
      ]
     },
     "execution_count": 104,
     "metadata": {},
     "output_type": "execute_result"
    }
   ],
   "source": [
    "net2(net1(x)),ap(camimg)"
   ]
  },
  {
   "cell_type": "markdown",
   "id": "ef04f3ba-3573-4d9b-a116-9390daa81efa",
   "metadata": {
    "id": "ef04f3ba-3573-4d9b-a116-9390daa81efa"
   },
   "source": [
    "`-` 왜냐하면 ap와 선형변환 모두 linear이므로 순서를 바꿔도 상관없음 "
   ]
  },
  {
   "cell_type": "markdown",
   "id": "c4ad0187-35a1-4309-8816-5a3f9688b245",
   "metadata": {
    "id": "c4ad0187-35a1-4309-8816-5a3f9688b245"
   },
   "source": [
    "`-` 아래와 결국 같은 이치"
   ]
  },
  {
   "cell_type": "code",
   "execution_count": 105,
   "id": "49566bf4-8530-4383-9206-c11f440ca5ca",
   "metadata": {
    "id": "49566bf4-8530-4383-9206-c11f440ca5ca",
    "outputId": "1ebcd13b-8dd7-4a2f-9162-13b65efa2c4e"
   },
   "outputs": [
    {
     "data": {
      "text/plain": [
       "array([1, 2, 3, 4])"
      ]
     },
     "execution_count": 105,
     "metadata": {},
     "output_type": "execute_result"
    }
   ],
   "source": [
    "_x= np.array([1,2,3,4])\n",
    "_x"
   ]
  },
  {
   "cell_type": "code",
   "execution_count": 106,
   "id": "9f116844-08fb-4282-bdbb-7bf8f62fbda6",
   "metadata": {
    "id": "9f116844-08fb-4282-bdbb-7bf8f62fbda6",
    "outputId": "629298fb-e308-4720-eec1-7123bb87611a"
   },
   "outputs": [
    {
     "data": {
      "text/plain": [
       "6.0"
      ]
     },
     "execution_count": 106,
     "metadata": {},
     "output_type": "execute_result"
    }
   ],
   "source": [
    "np.mean(_x*2+1)"
   ]
  },
  {
   "cell_type": "code",
   "execution_count": 107,
   "id": "34761bf4-66b6-4684-a646-2e2f41c4f538",
   "metadata": {
    "id": "34761bf4-66b6-4684-a646-2e2f41c4f538",
    "outputId": "b4d03717-d115-4799-d8a3-cb7cb3602a4e"
   },
   "outputs": [
    {
     "data": {
      "text/plain": [
       "6.0"
      ]
     },
     "execution_count": 107,
     "metadata": {},
     "output_type": "execute_result"
    }
   ],
   "source": [
    "2*np.mean(_x)+1"
   ]
  },
  {
   "cell_type": "markdown",
   "id": "6bc3069f-6a56-469c-bace-a3cab83fa976",
   "metadata": {
    "id": "6bc3069f-6a56-469c-bace-a3cab83fa976"
   },
   "source": [
    "`-` 이제 camimg 에 관심을 가져보자. "
   ]
  },
  {
   "cell_type": "code",
   "execution_count": 108,
   "id": "1d93e7fb-d599-4361-b48f-154a6364e16f",
   "metadata": {
    "id": "1d93e7fb-d599-4361-b48f-154a6364e16f",
    "outputId": "33d56d4c-3714-458e-82b7-7951794941c4"
   },
   "outputs": [
    {
     "data": {
      "text/plain": [
       "tensor([[-0.6834, -0.6834, -0.6834, -0.6834, -0.6834, -0.6834, -0.6834, -0.6834,\n",
       "         -0.6834, -0.6834, -0.6834, -0.6834],\n",
       "        [-0.6834, -0.6834, -0.6834,  0.9042, -0.6834, -0.6834, -0.6834, -0.6834,\n",
       "         -0.6834, -0.6834, -0.6834, -0.6834],\n",
       "        [-0.6834, -0.6712,  0.0000,  4.8671,  2.5201,  0.9598,  0.0000,  0.0000,\n",
       "          0.0000,  0.0000,  0.0000, -0.6834],\n",
       "        [-0.6834,  0.0000,  0.0000,  0.0000,  0.0000,  0.0000,  0.0000,  0.0000,\n",
       "          0.0000,  0.0000,  0.6959, -0.6834],\n",
       "        [-0.6834,  0.0000,  0.0000,  0.0000,  0.0000,  0.0000,  0.0000,  0.0000,\n",
       "          0.0000,  0.0000,  0.0000, -0.6834],\n",
       "        [-0.6834,  0.0000,  0.0000,  0.0000,  0.0000,  0.0000,  0.0000,  0.0000,\n",
       "          0.0000,  0.0000, -0.6834, -0.6834],\n",
       "        [-0.6834, -0.6834,  0.3337, -0.6834, -0.6834,  0.0000,  0.0000,  0.0000,\n",
       "          0.0000, -0.6187, -0.6834, -0.6834],\n",
       "        [-0.6834, -0.6834, -0.6834, -0.6834, -0.6834,  0.0000,  0.0000,  0.0000,\n",
       "          0.0000, -0.6834, -0.6834, -0.6834],\n",
       "        [-0.6834, -0.6834, -0.6834, -0.6834,  0.0000,  0.0000,  0.0000,  0.0000,\n",
       "          0.0000, -0.6834, -0.6834, -0.6834],\n",
       "        [-0.6834, -0.6834, -0.6834, -0.6834,  0.0000,  0.0000,  0.0000,  0.0000,\n",
       "         -0.4025, -0.6834, -0.6834, -0.6834],\n",
       "        [-0.6834, -0.6834, -0.6834, -0.6834,  0.0000,  0.0000,  0.0000,  0.0000,\n",
       "         -0.6834, -0.6834, -0.6834, -0.6834],\n",
       "        [-0.6834, -0.6834, -0.6834, -0.6834,  0.0000,  0.0000,  0.0000,  0.0000,\n",
       "         -0.6834, -0.6834, -0.6834, -0.6834]], grad_fn=<ViewBackward0>)"
      ]
     },
     "execution_count": 108,
     "metadata": {},
     "output_type": "execute_result"
    }
   ],
   "source": [
    "camimg"
   ]
  },
  {
   "cell_type": "code",
   "execution_count": 109,
   "id": "c50990f3-79be-4bd1-9210-7c0f21f3c422",
   "metadata": {
    "id": "c50990f3-79be-4bd1-9210-7c0f21f3c422",
    "outputId": "b658d49c-56f7-4fec-e830-37a2b5cf6ac4"
   },
   "outputs": [
    {
     "data": {
      "text/plain": [
       "(tensor([[-0.3010]], grad_fn=<MeanBackward1>),\n",
       " tensor(-0.3010, grad_fn=<MeanBackward0>))"
      ]
     },
     "execution_count": 109,
     "metadata": {},
     "output_type": "execute_result"
    }
   ],
   "source": [
    "ap(camimg), torch.mean(camimg)"
   ]
  },
  {
   "cell_type": "markdown",
   "id": "a18f5b72-686c-4b4f-bf07-d36fbe981f80",
   "metadata": {
    "id": "a18f5b72-686c-4b4f-bf07-d36fbe981f80"
   },
   "source": [
    "- 이미지의 값은 대부분 0이지만 궁극적으로는 평균을 내서 음수의 값이 나와야 한다. "
   ]
  },
  {
   "cell_type": "markdown",
   "id": "65752872-4c68-4c5d-9fa1-d412472f1a0c",
   "metadata": {
    "id": "65752872-4c68-4c5d-9fa1-d412472f1a0c"
   },
   "source": [
    "`-` 결국 특정픽셀에서 큰 음의 값이 나오기 떄문에 궁극적으로는 평균이 음수가 된다. "
   ]
  },
  {
   "cell_type": "markdown",
   "id": "efa8ce40-062d-402a-8995-30bac98ecc7a",
   "metadata": {
    "id": "efa8ce40-062d-402a-8995-30bac98ecc7a"
   },
   "source": [
    "- 평균이 음수이다. $\\leftrightarrow$ 이미지가 의미하는것이 7이다. \n",
    "- 특정픽셀이 큰 음수값을 가진다. $\\leftrightarrow$ 그 픽셀에서 이미지가 7임을 뚜렷하게 알 수 있다. "
   ]
  },
  {
   "cell_type": "markdown",
   "id": "50f4b731-ae58-41f2-b85b-480dbe745564",
   "metadata": {
    "id": "50f4b731-ae58-41f2-b85b-480dbe745564"
   },
   "source": [
    "`-` 그 특정픽셀이 어딘가? "
   ]
  },
  {
   "cell_type": "code",
   "execution_count": 110,
   "id": "2c017a3f-ff74-48c4-8f9e-6cecc67afd2d",
   "metadata": {
    "id": "2c017a3f-ff74-48c4-8f9e-6cecc67afd2d",
    "outputId": "92970147-e854-4168-a241-b90a113c1817"
   },
   "outputs": [
    {
     "data": {
      "text/plain": [
       "<matplotlib.image.AxesImage at 0x7f9cbcf851c0>"
      ]
     },
     "execution_count": 110,
     "metadata": {},
     "output_type": "execute_result"
    },
    {
     "data": {
      "image/png": "[encoded data removed]",
      "text/plain": [
       "<Figure size 432x288 with 1 Axes>"
      ]
     },
     "metadata": {
      "needs_background": "light"
     },
     "output_type": "display_data"
    }
   ],
   "source": [
    "plt.imshow(camimg.data)"
   ]
  },
  {
   "cell_type": "markdown",
   "id": "74adf005-1ee3-46b9-b6bc-31b24592becf",
   "metadata": {
    "id": "74adf005-1ee3-46b9-b6bc-31b24592becf"
   },
   "source": [
    "- 초록색으로 표현된 부분은 CNN모형이 이 숫자를 7이라고 생각한 근거가 된다. "
   ]
  },
  {
   "cell_type": "markdown",
   "id": "2cf70bae-80c4-4fb3-8aef-6cb7942c8641",
   "metadata": {
    "id": "2cf70bae-80c4-4fb3-8aef-6cb7942c8641"
   },
   "source": [
    "`-` 원래의 이미지와 비교"
   ]
  },
  {
   "cell_type": "code",
   "execution_count": 111,
   "id": "de0795eb-d1e4-4782-b34c-a8b841efd874",
   "metadata": {
    "id": "de0795eb-d1e4-4782-b34c-a8b841efd874",
    "outputId": "d9b4d183-b8ca-4cbd-e025-3de9af079e50"
   },
   "outputs": [
    {
     "data": {
      "text/plain": [
       "<matplotlib.image.AxesImage at 0x7f9cbd2db160>"
      ]
     },
     "execution_count": 111,
     "metadata": {},
     "output_type": "execute_result"
    },
    {
     "data": {
      "image/png": "[encoded data removed]",
      "text/plain": [
       "<Figure size 432x288 with 1 Axes>"
      ]
     },
     "metadata": {
      "needs_background": "light"
     },
     "output_type": "display_data"
    }
   ],
   "source": [
    "plt.imshow(x.squeeze()) "
   ]
  },
  {
   "cell_type": "markdown",
   "id": "4941c8e8-bd7b-427d-bf08-12450d2fd89a",
   "metadata": {
    "id": "4941c8e8-bd7b-427d-bf08-12450d2fd89a"
   },
   "source": [
    "`-` 두 이미지를 겹쳐서 그리면 멋진 그림이 될 것 같다. "
   ]
  },
  {
   "cell_type": "markdown",
   "id": "0050cd9c-a9b4-4751-84a3-e30d11cfad9a",
   "metadata": {
    "id": "0050cd9c-a9b4-4751-84a3-e30d11cfad9a"
   },
   "source": [
    "step1: 원래이미지를 흑백으로 그리자. "
   ]
  },
  {
   "cell_type": "code",
   "execution_count": 112,
   "id": "e70dba4c-0674-4821-84d7-a6de19b89475",
   "metadata": {
    "id": "e70dba4c-0674-4821-84d7-a6de19b89475",
    "outputId": "c09b2e01-2117-4c2d-fda8-7eab91b005c0"
   },
   "outputs": [
    {
     "data": {
      "text/plain": [
       "<matplotlib.image.AxesImage at 0x7f9cbc3fd6d0>"
      ]
     },
     "execution_count": 112,
     "metadata": {},
     "output_type": "execute_result"
    },
    {
     "data": {
      "image/png": "[encoded data removed]",
      "text/plain": [
       "<Figure size 432x288 with 1 Axes>"
      ]
     },
     "metadata": {
      "needs_background": "light"
     },
     "output_type": "display_data"
    }
   ],
   "source": [
    "plt.imshow(x.squeeze(),cmap='gray',alpha=0.5)"
   ]
  },
  {
   "cell_type": "markdown",
   "id": "b93bd1a7-3cac-454f-8f02-80b8abe44916",
   "metadata": {
    "id": "b93bd1a7-3cac-454f-8f02-80b8abe44916"
   },
   "source": [
    "`-` step2: 원래이미지는 (28,28)인데 camimg는 (12,12)픽셀 $\\to$ camimg의 픽셀을 늘리자. "
   ]
  },
  {
   "cell_type": "code",
   "execution_count": 113,
   "id": "074f628b-3295-4019-b354-2b1dad400f2d",
   "metadata": {
    "id": "074f628b-3295-4019-b354-2b1dad400f2d",
    "outputId": "e47e4d7f-af54-4dc8-f880-08da3ce21318"
   },
   "outputs": [
    {
     "data": {
      "text/plain": [
       "<matplotlib.image.AxesImage at 0x7f9cbd1d5eb0>"
      ]
     },
     "execution_count": 113,
     "metadata": {},
     "output_type": "execute_result"
    },
    {
     "data": {
      "image/png": "[encoded data removed]",
      "text/plain": [
       "<Figure size 432x288 with 1 Axes>"
      ]
     },
     "metadata": {
      "needs_background": "light"
     },
     "output_type": "display_data"
    }
   ],
   "source": [
    "plt.imshow(camimg.data,alpha=0.5, extent=(0,27,27,0),interpolation='bilinear',cmap='magma')"
   ]
  },
  {
   "cell_type": "markdown",
   "id": "484469ae-fa03-4ff3-a2c7-51270db53dda",
   "metadata": {},
   "source": [
    "fixel 사이의 값을 smoothing하기 위해 interpolation에 bilinear 옵션 취하기\n",
    "\n",
    "fastai 교재에 많이 사용되는 cmap의 magma 옵션 사용"
   ]
  },
  {
   "cell_type": "markdown",
   "id": "6b919ea3-815b-45dd-862d-da3e505cea4e",
   "metadata": {
    "id": "6b919ea3-815b-45dd-862d-da3e505cea4e"
   },
   "source": [
    "`-` step3: 합치자."
   ]
  },
  {
   "cell_type": "code",
   "execution_count": 114,
   "id": "28d06ea9-0b32-4f5c-8693-b729871185d9",
   "metadata": {
    "id": "28d06ea9-0b32-4f5c-8693-b729871185d9",
    "outputId": "1c5f07fd-e9ce-4ee0-908e-9e9fd7a40d72"
   },
   "outputs": [
    {
     "data": {
      "text/plain": [
       "<matplotlib.image.AxesImage at 0x7f9cbd3a02e0>"
      ]
     },
     "execution_count": 114,
     "metadata": {},
     "output_type": "execute_result"
    },
    {
     "data": {
      "image/png": "[encoded data removed]",
      "text/plain": [
       "<Figure size 432x288 with 1 Axes>"
      ]
     },
     "metadata": {
      "needs_background": "light"
     },
     "output_type": "display_data"
    }
   ],
   "source": [
    "plt.imshow(x.squeeze(),cmap='gray',alpha=0.5)\n",
    "plt.imshow(camimg.data,alpha=0.5, extent=(0,27,27,0),interpolation='bilinear',cmap='magma')"
   ]
  },
  {
   "cell_type": "markdown",
   "id": "80a63524-fd25-4e23-8525-95a8bd044d30",
   "metadata": {
    "id": "80a63524-fd25-4e23-8525-95a8bd044d30"
   },
   "source": [
    "### 숙제 "
   ]
  },
  {
   "cell_type": "markdown",
   "id": "c51cd5fc-bfd8-4ae1-b4b5-ecaf6eb2224b",
   "metadata": {
    "id": "c51cd5fc-bfd8-4ae1-b4b5-ecaf6eb2224b"
   },
   "source": [
    "`-` 숫자3이 그려진 이미지를 observation으로 선택하고 위와 같이 cam을 이용하여 시각화하라. "
   ]
  }
 ],
 "metadata": {
  "colab": {
   "name": "2021-10-28-(7-8주차) 10월26일, 10월28일.ipynb",
   "provenance": []
  },
  "kernelspec": {
   "display_name": "Python 3",
   "language": "python",
   "name": "python3"
  },
  "language_info": {
   "codemirror_mode": {
    "name": "ipython",
    "version": 3
   },
   "file_extension": ".py",
   "mimetype": "text/x-python",
   "name": "python",
   "nbconvert_exporter": "python",
   "pygments_lexer": "ipython3",
   "version": "3.8.12"
  }
 },
 "nbformat": 4,
 "nbformat_minor": 5
}
