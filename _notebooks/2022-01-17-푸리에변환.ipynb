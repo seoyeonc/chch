{
 "cells": [
  {
   "cell_type": "markdown",
   "id": "2cbf391f-19b4-4568-8d78-e5a809e40fb9",
   "metadata": {
    "id": "3ad05ba4-3ed8-44d8-9f65-b5688710daf1",
    "tags": []
   },
   "source": [
    "# Fourier transform, FT\n",
    "> Fourier transform\n",
    "\n",
    "- toc:true\n",
    "- branch: master\n",
    "- badges: true\n",
    "- comments: false\n",
    "- author: 최서연\n",
    "- categories: [Fourier transform]"
   ]
  },
  {
   "cell_type": "markdown",
   "id": "a9622430-c885-4fb1-8365-924509bc7cb0",
   "metadata": {},
   "source": [
    "#### 푸리에 변환"
   ]
  },
  {
   "cell_type": "markdown",
   "id": "601896c0-5701-476b-81c5-d0e9fa6592c5",
   "metadata": {},
   "source": [
    "> 시간이나 공간에 대한 함수를 시간 또는 공간 주파수 성분으로 분해하는 변환을 말한다. 종종 이 변환으로 나타난 주파수 영역에서 함수를 표현한 결과물을 가리키는 용어로도 사용된다."
   ]
  },
  {
   "cell_type": "markdown",
   "id": "37bb9c0e-7867-4796-9bae-64186bf8ea7d",
   "metadata": {},
   "source": [
    ": 임의의 입력 신호를 다양한 주파수를 갖는 주기함수들(sin, cos)의 합으로 분해하여 표현"
   ]
  },
  {
   "cell_type": "markdown",
   "id": "150c513f-24bc-46dd-9210-e3b1ebf5a57f",
   "metadata": {},
   "source": [
    "> youtube: https://www.youtube.com/watch?v=1JnayXHhjlg"
   ]
  },
  {
   "cell_type": "markdown",
   "id": "b6f899b8-f044-43bc-a49e-aa792e9a332d",
   "metadata": {},
   "source": [
    "> youtube: https://www.youtube.com/watch?v=spUNpyF58BY"
   ]
  },
  {
   "cell_type": "markdown",
   "id": "59a19d15-8e7e-4a56-a4c0-6a9cf1852d38",
   "metadata": {},
   "source": [
    "- ref: https://www.comm.utoronto.ca/~dkundur/course_info/signals/notes/Kundur_FourierMagPhase.pdf"
   ]
  },
  {
   "cell_type": "markdown",
   "id": "49a2d787-daca-42be-b3ad-fa0f6cad41b7",
   "metadata": {},
   "source": [
    "- ref: https://angeloyeo.github.io/2020/11/08/linear_algebra_and_Fourier_transform.html"
   ]
  },
  {
   "cell_type": "markdown",
   "id": "f864e549-68fb-4a09-9641-36bbe2f286e5",
   "metadata": {},
   "source": [
    "--------------------------------------------------"
   ]
  },
  {
   "cell_type": "markdown",
   "id": "905bf603-f208-4756-8f5b-ac7f629e62f7",
   "metadata": {},
   "source": [
    "ref: https://darkpgmr.tistory.com/171"
   ]
  },
  {
   "cell_type": "markdown",
   "id": "5aced108-a0bd-4b7e-9180-8ec9d60ffc3d",
   "metadata": {},
   "source": [
    "$$f(x)=\\int\\limits_{-\\infty}^{\\infty}F(u)e^{j2\\pi ux}du \\rightarrow \\text{푸리에 역변환 inverse Fourier transform}$$\n",
    "$$F(u)=\\int\\limits_{-\\infty}^{\\infty}f(x)e^{-j2\\pi ux}dx \\rightarrow \\text{푸리에 변환 Fourier transform}$$\n",
    "$$j=\\sqrt{-1}, f(x)=원본입력신호, e^{j2\\pi ux}=\\text{주파수 u인 주기함수성분}, F(u)= \\text{해당 주기함수 성분의 계수(coefficient)}$$"
   ]
  },
  {
   "cell_type": "markdown",
   "id": "645d9b12-d60f-498f-92f4-01daa9d5af3f",
   "metadata": {},
   "source": [
    "$$\\text{오일러 공식}  e^{j\\theta}=\\cos\\theta + j \\sin\\theta$$"
   ]
  },
  {
   "cell_type": "markdown",
   "id": "fa37290a-1385-4bb4-8b3d-224dcbfb8cab",
   "metadata": {},
   "source": [
    "$$e^{j2 \\pi ux}=\\cos 2\\pi ux+j\\sin 2\\pi ux$$\n",
    "$$\\cos 2\\pi ux, j\\sin 2\\pi ux \\text{모두 주기period가 1/u, 주파수frequency가 u인 주기함수}$$\n",
    "$$e^{j2 \\pi ux}\\text{= 주파수가 u인 정현파sinsusoidal wave의 복소지수함수 표현}$$\n",
    "$$\\text{정현파sinusoidal wave는 파형이 sin 또는 cos 함수인 파동wave}$$"
   ]
  },
  {
   "cell_type": "markdown",
   "id": "e70102e8-8a0a-4a7e-9c39-3135fefa4327",
   "metadata": {},
   "source": [
    "- 푸리에 역변환은 함수f(x)를 모든 가능한 주파수u의 주기함수들$e^{j2\\pi ux}$의 일차결합으로 표현\n",
    "- 그 일차결합 계수 F(u)는 푸리에 변환으로 항상 주어질 수 있음\n",
    "- 푸리에 변환식을 푸리에 역변환에 대입했을떄 f(x)가 나옴을 증명해야 함.\n",
    "    - 이 말은 임의의 신호 함수가 항상 주기함수들의 일차결합으로 분해될 수 있음을 증명하는 것"
   ]
  },
  {
   "cell_type": "markdown",
   "id": "1f23e351-4a28-4744-9121-b7ea2f16bf0d",
   "metadata": {},
   "source": [
    "- $e^{j2\\pi ux}, u=0,\\pm1, \\pm2$는 모든 신호를 생성할 수 있는 직교 기저 함수orthogonal basis function\n",
    "    - 여기서 u는 실수 전체 범위\n",
    "    - 기저basis: 어떤 벡터 공간을 생성할 수 있는 일차 독립인 벡터들의 집합\n",
    "    - 만일 기저 벡터들이 서로 수직orthogonal인 단위벡터라면 일차 결합 계수$a_i$는 dot product를 이용하여 $a_i=v\\times v_i$로 계산\n",
    "    - 어떤 벡터와 기저 벡터 dot product 시 이 벡터에 포함된 기저 성분의 계수가 얻어짐\n",
    "- 입력 신호 f(x)를 직교 기저 함수로 분해했을 떄의 F(u) 계수는 f(x)와 시저함수의 dot product 내적으로 계산될 수 있다.\n",
    "- 푸리에 변환은 f(x) 와 $e^{j2\\pi ux}$의 함수 dot product이기 때문에 결과는 f(x)를 $e^{j2\\pi ux}$들로 분해했을 때의 계수\n",
    "    - 푸리에 변환에서 -가 붙은 이유는 복소수에서 dot product는 한 쪽에 conjugate 복소수를 취한 후 계산되기 때문"
   ]
  },
  {
   "cell_type": "markdown",
   "id": "9d515365-27c4-4633-b19e-849da8f8447b",
   "metadata": {},
   "source": [
    "--------------------------------------------------"
   ]
  },
  {
   "cell_type": "markdown",
   "id": "3e1e978c-557c-42f3-9aa7-9e5792a98741",
   "metadata": {},
   "source": [
    "`-` 영상 신호에서 푸리에 변환"
   ]
  },
  {
   "cell_type": "code",
   "execution_count": null,
   "id": "d34b3573-2469-4e02-95a6-53438ec94556",
   "metadata": {},
   "outputs": [],
   "source": []
  }
 ],
 "metadata": {
  "kernelspec": {
   "display_name": "Python 3",
   "language": "python",
   "name": "python3"
  },
  "language_info": {
   "codemirror_mode": {
    "name": "ipython",
    "version": 3
   },
   "file_extension": ".py",
   "mimetype": "text/x-python",
   "name": "python",
   "nbconvert_exporter": "python",
   "pygments_lexer": "ipython3",
   "version": "3.8.12"
  }
 },
 "nbformat": 4,
 "nbformat_minor": 5
}
