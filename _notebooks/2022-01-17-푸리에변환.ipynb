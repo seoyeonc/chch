{
 "cells": [
  {
   "cell_type": "markdown",
   "id": "2cbf391f-19b4-4568-8d78-e5a809e40fb9",
   "metadata": {
    "id": "3ad05ba4-3ed8-44d8-9f65-b5688710daf1",
    "tags": []
   },
   "source": [
    "# Fourier transform, FT\n",
    "> Fourier transform\n",
    "\n",
    "- toc:true\n",
    "- branch: master\n",
    "- badges: true\n",
    "- comments: false\n",
    "- author: 최서연\n",
    "- categories: [Fourier transform]"
   ]
  },
  {
   "cell_type": "markdown",
   "id": "a9622430-c885-4fb1-8365-924509bc7cb0",
   "metadata": {},
   "source": [
    "#### 푸리에 변환"
   ]
  },
  {
   "cell_type": "markdown",
   "id": "601896c0-5701-476b-81c5-d0e9fa6592c5",
   "metadata": {},
   "source": [
    "> 시간이나 공간에 대한 함수를 시간 또는 공간 주파수 성분으로 분해하는 변환을 말한다. 종종 이 변환으로 나타난 주파수 영역에서 함수를 표현한 결과물을 가리키는 용어로도 사용된다."
   ]
  },
  {
   "cell_type": "markdown",
   "id": "37bb9c0e-7867-4796-9bae-64186bf8ea7d",
   "metadata": {},
   "source": [
    ": 임의의 입력 신호를 다양한 주파수를 갖는 주기함수들(sin, cos)의 합으로 분해하여 표현"
   ]
  },
  {
   "cell_type": "markdown",
   "id": "150c513f-24bc-46dd-9210-e3b1ebf5a57f",
   "metadata": {},
   "source": [
    "> youtube: https://www.youtube.com/watch?v=1JnayXHhjlg"
   ]
  },
  {
   "cell_type": "markdown",
   "id": "b6f899b8-f044-43bc-a49e-aa792e9a332d",
   "metadata": {},
   "source": [
    "> youtube: https://www.youtube.com/watch?v=spUNpyF58BY"
   ]
  },
  {
   "cell_type": "markdown",
   "id": "59a19d15-8e7e-4a56-a4c0-6a9cf1852d38",
   "metadata": {},
   "source": [
    "- ref: https://www.comm.utoronto.ca/~dkundur/course_info/signals/notes/Kundur_FourierMagPhase.pdf"
   ]
  },
  {
   "cell_type": "markdown",
   "id": "49a2d787-daca-42be-b3ad-fa0f6cad41b7",
   "metadata": {},
   "source": [
    "- ref: https://angeloyeo.github.io/2020/11/08/linear_algebra_and_Fourier_transform.html"
   ]
  },
  {
   "cell_type": "markdown",
   "id": "f864e549-68fb-4a09-9641-36bbe2f286e5",
   "metadata": {},
   "source": [
    "--------------------------------------------------"
   ]
  },
  {
   "cell_type": "markdown",
   "id": "905bf603-f208-4756-8f5b-ac7f629e62f7",
   "metadata": {},
   "source": [
    "ref: https://darkpgmr.tistory.com/171"
   ]
  },
  {
   "cell_type": "markdown",
   "id": "5aced108-a0bd-4b7e-9180-8ec9d60ffc3d",
   "metadata": {},
   "source": [
    "$$f(x)=\\int\\limits_{-\\infty}^{\\infty}F(u)e^{j2\\pi ux}du \\rightarrow \\text{푸리에 역변환 inverse Fourier transform}$$\n",
    "$$F(u)=\\int\\limits_{-\\infty}^{\\infty}f(x)e^{-j2\\pi ux}dx \\rightarrow \\text{푸리에 변환 Fourier transform}$$\n",
    "$$j=\\sqrt{-1}, f(x)=원본입력신호, e^{j2\\pi ux}=\\text{주파수 u인 주기함수성분}, F(u)= \\text{해당 주기함수 성분의 계수(coefficient)}$$"
   ]
  },
  {
   "cell_type": "markdown",
   "id": "645d9b12-d60f-498f-92f4-01daa9d5af3f",
   "metadata": {},
   "source": [
    "$$\\text{오일러 공식}  e^{j\\theta}=\\cos\\theta + j \\sin\\theta$$"
   ]
  },
  {
   "cell_type": "markdown",
   "id": "fa37290a-1385-4bb4-8b3d-224dcbfb8cab",
   "metadata": {},
   "source": [
    "$$e^{j2 \\pi ux}=\\cos 2\\pi ux+j\\sin 2\\pi ux$$\n",
    "$$\\cos 2\\pi ux, j\\sin 2\\pi ux \\text{모두 주기period가 1/u, 주파수frequency가 u인 주기함수}$$\n",
    "$$e^{j2 \\pi ux}\\text{= 주파수가 u인 정현파sinsusoidal wave의 복소지수함수 표현}$$\n",
    "$$\\text{정현파sinusoidal wave는 파형이 sin 또는 cos 함수인 파동wave}$$"
   ]
  },
  {
   "cell_type": "markdown",
   "id": "e70102e8-8a0a-4a7e-9c39-3135fefa4327",
   "metadata": {},
   "source": [
    "- 푸리에 역변환은 함수f(x)를 모든 가능한 주파수u의 주기함수들$e^{j2\\pi ux}$의 일차결합으로 표현\n",
    "- 그 일차결합 계수 F(u)는 푸리에 변환으로 항상 주어질 수 있음\n",
    "- 푸리에 변환식을 푸리에 역변환에 대입했을떄 f(x)가 나옴을 증명해야 함.\n",
    "    - 이 말은 임의의 신호 함수가 항상 주기함수들의 일차결합으로 분해될 수 있음을 증명하는 것"
   ]
  },
  {
   "cell_type": "markdown",
   "id": "1f23e351-4a28-4744-9121-b7ea2f16bf0d",
   "metadata": {},
   "source": [
    "- $e^{j2\\pi ux}, u=0,\\pm1, \\pm2$는 모든 신호를 생성할 수 있는 직교 기저 함수orthogonal basis function\n",
    "    - 여기서 u는 실수 전체 범위\n",
    "    - 기저basis: 어떤 벡터 공간을 생성할 수 있는 일차 독립인 벡터들의 집합\n",
    "    - 만일 기저 벡터들이 서로 수직orthogonal인 단위벡터라면 일차 결합 계수$a_i$는 dot product를 이용하여 $a_i=v\\times v_i$로 계산\n",
    "    - 어떤 벡터와 기저 벡터 dot product 시 이 벡터에 포함된 기저 성분의 계수가 얻어짐\n",
    "- 입력 신호 f(x)를 직교 기저 함수로 분해했을 떄의 F(u) 계수는 f(x)와 시저함수의 dot product 내적으로 계산될 수 있다.\n",
    "- 푸리에 변환은 f(x) 와 $e^{j2\\pi ux}$의 함수 dot product이기 때문에 결과는 f(x)를 $e^{j2\\pi ux}$들로 분해했을 때의 계수\n",
    "    - 푸리에 변환에서 -가 붙은 이유는 복소수에서 dot product는 한 쪽에 conjugate 복소수를 취한 후 계산되기 때문"
   ]
  },
  {
   "cell_type": "markdown",
   "id": "9d515365-27c4-4633-b19e-849da8f8447b",
   "metadata": {},
   "source": [
    "--------------------------------------------------"
   ]
  },
  {
   "cell_type": "markdown",
   "id": "3e1e978c-557c-42f3-9aa7-9e5792a98741",
   "metadata": {},
   "source": [
    "`-` 영상 신호에서 푸리에 변환"
   ]
  },
  {
   "cell_type": "markdown",
   "id": "85e82575-313c-4b5c-b6b3-8b4b8cd5a99a",
   "metadata": {},
   "source": [
    "이미지는 2차원의 신호이기 때문에 2차원에서 정의되는 푸리에 변환 필요"
   ]
  },
  {
   "cell_type": "markdown",
   "id": "847186a5-a97f-4fbf-96b2-d4baa9a71e65",
   "metadata": {},
   "source": [
    "$$f(x,y)=\\int\\limits_{-\\infty}^{\\infty}\\int\\limits_{-\\infty}^{\\infty}F(u,v)e^{j2\\pi (ux+vy)}dudv$$\n",
    "$$F(u,v)=\\int\\limits_{-\\infty}^{\\infty}\\int\\limits_{-\\infty}^{\\infty}f(x,y)e^{-2j\\pi(ux+vy)}dxdy$$\n",
    "$$F(u,v)\\text{는 x축 방향으로 주파수 u, y축 방향으로 v인 주기함수 성분의 계수}$$"
   ]
  },
  {
   "cell_type": "markdown",
   "id": "15d7e924-7e90-4cf9-a715-b8de7179a73f",
   "metadata": {},
   "source": [
    "- 이미지는 연속이 아닌 이산신호.\n",
    "- 한정된 유한 구간에서 정의되는 신호\n",
    "- 이산 데이터에 정의되는 푸리에 변환 필요"
   ]
  },
  {
   "cell_type": "markdown",
   "id": "ef911710-79aa-46aa-bb81-6626518a5b8a",
   "metadata": {},
   "source": [
    "$$f(x,y)=\\sum_{u=0}^{W-1}\\sum_{v=0}^{H-1}F(u,v)e^{j2\\pi (ux/W+vy/H)}\\rightarrow\\text{이산 데이터에서 푸리에 역변환}$$\n",
    "$$F(u,v)=\\frac{1}{WH}\\sum_{x=0}^{W-1}\\sum_{y=0}^{H-1}f(x,y)e^{-j2\\pi(ux/W+vy/H)}\\rightarrow\\text{이산 데이터에서 푸리에 변환}$$\n",
    "$$단, x=0,1,...,W-1 \\dots u=0,1,...,W-1,\\dots v=0,1,...H-1$$"
   ]
  },
  {
   "cell_type": "markdown",
   "id": "7b4d24f6-c432-44a1-9e38-7a05a601fe6b",
   "metadata": {},
   "source": [
    "- 푸리에 역변환에서 $e^{j2\\pi (ux/W+vy/H)}$는 x축 방향으로 주파수가 u/W, y축 방향으로 주파수가 v/H인 sinusoidal 주기 함수\n",
    "- 일반적인 푸리에 변환식과 달리 W와 H로 나눔 $\\rightarrow$ 데이터가 정의된 구간을 하나의 단위 주리 unit period로 만드는 효과\n",
    "    - 일종의 nomalization factor"
   ]
  },
  {
   "cell_type": "markdown",
   "id": "db13de71-b3ce-4779-a1eb-7f6b0a2e2daa",
   "metadata": {},
   "source": [
    "- 이미지를 신호로 해석하는 문제는 x,y축을 시간축으로 놓고 좌표의 변화에 따라 변하는 이미지 픽셀의 밝기 변화를 신호로 생각\n",
    "- 2D에서 정의되는 정현파의 모습은 모든 방향으로의 단면이 정현파가 되는 물결 형태의 파동 생각"
   ]
  },
  {
   "cell_type": "markdown",
   "id": "056d94be-b39a-45d6-81e5-4e69a7bcae9e",
   "metadata": {},
   "source": [
    "**이산 푸리에 변환에서 F(u,v)는 주파수 u,v의 성분이 아니라 주파수 u/W, v/H 성분에 대한 계수**"
   ]
  },
  {
   "cell_type": "markdown",
   "id": "b12a85e6-36ab-49e0-af1c-2f869e721c42",
   "metadata": {},
   "source": [
    "W$\\times$ H 인 이미지에서 이산 푸리에 변환의 F(u,v)는\n",
    "- x축 주파수가 u/W, y축 주파수가 w/H인 주기함수 성분에 대응\n",
    "- 주기로는 x축 방향 W/u 픽셀, y축 방향 H/v 픽셀인 주기성분을 나타냄\n",
    "    - 주파수 공간에서 특정 F(u,v)값이 높게 나타났다면 원래의 이미지 공가에서는 x축 방향으로의 주기가 W/u 픽셀, y축 방향 주기가 H/v 픽셀인 주기성 성분이 존재"
   ]
  },
  {
   "cell_type": "markdown",
   "id": "0e49c024-2656-4158-baff-978d410f1241",
   "metadata": {},
   "source": [
    "*참고*\n",
    "$$f(x)=\\sum_{u=0}^{W-1}F(u)e^{j2\\pi ux/W},ㅌ=0,1,\\dots ,W-1\\rightarrow\\text{1차원 이산 데이터에서 푸리에 역변환}$$\n",
    "$$F(u)=\\frac{1}{WH}\\sum_{x=0}^{W-1}f(x)e^{-j2\\pi ux/W},u=0,1,\\dots,W-1\\rightarrow\\text{이산 데이터에서 푸리에 변환}$$\n",
    "-1차원에서 이산 푸리에 변환 식은f(x)가 주기함수 일때만 성립"
   ]
  },
  {
   "cell_type": "markdown",
   "id": "db2c38f4-1b39-419d-8a34-fd0580e1f173",
   "metadata": {},
   "source": [
    "--------------------------------------------------"
   ]
  },
  {
   "cell_type": "markdown",
   "id": "7e329ddc-ff1a-4d77-82ee-c57d2fe7d72b",
   "metadata": {},
   "source": [
    "`-` 푸리에 스펙트럼과 페이즈"
   ]
  },
  {
   "cell_type": "markdown",
   "id": "da068895-98c0-4301-a5eb-c5f7cc390e49",
   "metadata": {},
   "source": [
    "$$F(u,v)=R(u,v_+iI(u,v)$$\n",
    "- 푸리에 변환으로 구한 F(u,v)는 복소수complex number이고, 실수부real과 허수부Imaginary로 구성\n",
    "- 복소수 F(u,v)의 크기 |F(u,v)|는 푸리에 변환의 스펙트럼spectrum 또는 magnitude 라 부름\n",
    "- F(u,v)의 각도$\\phi$ 를 페이즈phase angle 또는 phase spectrum이라 부름\n",
    "$$|F(u,v)|=[R^2(u,v)+I^2(u,v)]^{1/2}$$\n",
    "$$\\phi(u,v)=\\tan^{-1}\\big[\\frac{I(u,v)}{R(u,v)}\\big]$$"
   ]
  },
  {
   "cell_type": "markdown",
   "id": "f1afcde4-c6f1-4408-864c-e559e6817ccf",
   "metadata": {},
   "source": [
    "*푸리에 스펙트럼 Fourier Spectrum*"
   ]
  },
  {
   "cell_type": "markdown",
   "id": "1f29fcfb-01a0-4c91-9f51-4da68be0c392",
   "metadata": {},
   "source": [
    "- 해당 주파수 성분이 원 신호에 얼마나 강하게 포함되어 있는지\n",
    "- 푸리에 변환 및 역변환으로 얻은 W$\\times$H의  F(u,v), |F(u,v)|를 픽셀값으로 잡으면 푸리에 스펙럼을 원본 이미지와 동일한 크기의 이미지로 시각화"
   ]
  },
  {
   "cell_type": "markdown",
   "id": "b3254b37-7b45-46ee-bab5-f2e03c759811",
   "metadata": {},
   "source": [
    "문제점\n",
    "- 푸리에 스펙트럼의 저주파 영역은 매우 큰 값을 갖지만 다른 영역은 0에 가까운 값을 갖기 떄문에 푸리에 스펙트럼을 그대로 이미지로 시각화하면 검은 바탕 위에 흰점 하나만 존재하는 형태\n",
    "    - 해결: 스펙트럼을 이미지로 표현할 때는 스펙트럼에 log를 취하는 것이 일반적\n",
    "- 원래 스펙트럼 이미지는 모서리로 갈수록 값이 높아지기 때문에 스펙트럼 형태를 파악하기 힘듦\n",
    "    - 해결: 원점이 중심에 오도록 스펙트럼 위치를 이동shift시킨 형태의 이미지를 사용하는 것이 일반적$\\rightarrow$ 푸리에 스펙트럼 이미지라 함은 shift된 스펙트럼 이미지를 가리킴\n",
    "        - 푸리에 스펙트럼이 원점 대칭인 주기함수 때문에 가능한 shift!"
   ]
  },
  {
   "cell_type": "code",
   "execution_count": null,
   "id": "b12993e5-1518-4d12-bb73-3076d631a992",
   "metadata": {},
   "outputs": [],
   "source": []
  }
 ],
 "metadata": {
  "kernelspec": {
   "display_name": "Python 3",
   "language": "python",
   "name": "python3"
  },
  "language_info": {
   "codemirror_mode": {
    "name": "ipython",
    "version": 3
   },
   "file_extension": ".py",
   "mimetype": "text/x-python",
   "name": "python",
   "nbconvert_exporter": "python",
   "pygments_lexer": "ipython3",
   "version": "3.8.12"
  }
 },
 "nbformat": 4,
 "nbformat_minor": 5
}
