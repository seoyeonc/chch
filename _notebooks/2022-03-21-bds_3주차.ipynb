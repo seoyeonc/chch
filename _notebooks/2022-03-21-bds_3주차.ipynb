{
 "cells": [
  {
   "cell_type": "markdown",
   "id": "bfb56ff3-50a7-4214-9aaa-b2a81b05119a",
   "metadata": {},
   "source": [
    "# 빅데이터 분석 특강 (3주차) 3월 21일 \n",
    "\n",
    "- toc:true\n",
    "- branch: master\n",
    "- badges: true\n",
    "- comments: false\n",
    "- author: 최서연\n",
    "- categories: [Special Topics in Big Data Analysis, TensorFlow, TensorFlow NumPy]"
   ]
  },
  {
   "cell_type": "markdown",
   "id": "4d86128d-8eb0-46a4-a6ec-aa2f0a8e37ca",
   "metadata": {},
   "source": [
    "### 학부 수업 중 데이터과학 수업 참고하세요~"
   ]
  },
  {
   "cell_type": "markdown",
   "id": "0e40bace-c142-4155-83dc-cc562e5eb639",
   "metadata": {
    "id": "0e40bace-c142-4155-83dc-cc562e5eb639"
   },
   "source": [
    "### imports "
   ]
  },
  {
   "cell_type": "code",
   "execution_count": 1,
   "id": "5e2d101b-f78f-43d8-9800-ca00451bc541",
   "metadata": {
    "id": "5e2d101b-f78f-43d8-9800-ca00451bc541"
   },
   "outputs": [],
   "source": [
    "import tensorflow as tf\n",
    "import numpy as np"
   ]
  },
  {
   "cell_type": "code",
   "execution_count": 2,
   "id": "080223e7-0bcf-4f4f-b01a-8f8b4419f5ba",
   "metadata": {
    "id": "080223e7-0bcf-4f4f-b01a-8f8b4419f5ba",
    "outputId": "409fd7b5-37f1-4dc3-98de-808c887b7378"
   },
   "outputs": [
    {
     "data": {
      "text/plain": [
       "[PhysicalDevice(name='/physical_device:GPU:0', device_type='GPU')]"
      ]
     },
     "execution_count": 2,
     "metadata": {},
     "output_type": "execute_result"
    }
   ],
   "source": [
    "tf.config.experimental.list_physical_devices('GPU')"
   ]
  },
  {
   "cell_type": "markdown",
   "id": "3ec05ea5-1f4b-4f87-b607-5a2875a9c098",
   "metadata": {
    "id": "3ec05ea5-1f4b-4f87-b607-5a2875a9c098"
   },
   "source": [
    "### 지난강의 보충 "
   ]
  },
  {
   "cell_type": "markdown",
   "id": "6bbceca4-6409-4b7c-8806-a81f7734d0ef",
   "metadata": {
    "id": "6bbceca4-6409-4b7c-8806-a81f7734d0ef"
   },
   "source": [
    "`-` max, min, sum, mean "
   ]
  },
  {
   "cell_type": "code",
   "execution_count": 3,
   "id": "3377d59b-2987-4282-9367-c0c515011ce9",
   "metadata": {},
   "outputs": [
    {
     "name": "stderr",
     "output_type": "stream",
     "text": [
      "2022-03-21 20:26:04.675110: I tensorflow/core/platform/cpu_feature_guard.cc:151] This TensorFlow binary is optimized with oneAPI Deep Neural Network Library (oneDNN) to use the following CPU instructions in performance-critical operations:  SSE4.1 SSE4.2 AVX AVX2 AVX512F FMA\n",
      "To enable them in other operations, rebuild TensorFlow with the appropriate compiler flags.\n",
      "2022-03-21 20:26:05.130559: I tensorflow/core/common_runtime/gpu/gpu_device.cc:1525] Created device /job:localhost/replica:0/task:0/device:GPU:0 with 22288 MB memory:  -> device: 0, name: NVIDIA GeForce RTX 3090, pci bus id: 0000:65:00.0, compute capability: 8.6\n"
     ]
    },
    {
     "data": {
      "text/plain": [
       "<tf.Tensor: shape=(4,), dtype=float32, numpy=array([1., 2., 3., 4.], dtype=float32)>"
      ]
     },
     "execution_count": 3,
     "metadata": {},
     "output_type": "execute_result"
    }
   ],
   "source": [
    "a = tf.constant([1.0,2.0,3.0,4.0])\n",
    "a"
   ]
  },
  {
   "cell_type": "code",
   "execution_count": 4,
   "id": "71d6fac5-c924-4bcb-877e-641c41a1a3e7",
   "metadata": {},
   "outputs": [
    {
     "data": {
      "text/plain": [
       "<tf.Tensor: shape=(), dtype=float32, numpy=4.0>"
      ]
     },
     "execution_count": 4,
     "metadata": {},
     "output_type": "execute_result"
    }
   ],
   "source": [
    "max(a)"
   ]
  },
  {
   "cell_type": "code",
   "execution_count": 5,
   "id": "c3706b22-9fd2-45de-8184-ecdd567f4af1",
   "metadata": {},
   "outputs": [
    {
     "ename": "NameError",
     "evalue": "name 'mean' is not defined",
     "output_type": "error",
     "traceback": [
      "\u001b[0;31m---------------------------------------------------------------------------\u001b[0m",
      "\u001b[0;31mNameError\u001b[0m                                 Traceback (most recent call last)",
      "Input \u001b[0;32mIn [5]\u001b[0m, in \u001b[0;36m<cell line: 1>\u001b[0;34m()\u001b[0m\n\u001b[0;32m----> 1\u001b[0m \u001b[43mmean\u001b[49m(a)\n",
      "\u001b[0;31mNameError\u001b[0m: name 'mean' is not defined"
     ]
    }
   ],
   "source": [
    "mean(a)"
   ]
  },
  {
   "cell_type": "markdown",
   "id": "ae1bdbaa-71b0-4e0a-a853-4aec93506371",
   "metadata": {},
   "source": [
    "는 오류남\n",
    "\n",
    "소수점 추가해서 int를 float으로 바꿔~\n",
    "\n",
    "int 자체에서 계산하면 평균이 2로 나옴"
   ]
  },
  {
   "cell_type": "code",
   "execution_count": null,
   "id": "0b5b5c65-755a-4c4d-b2e2-542f3bfb078f",
   "metadata": {},
   "outputs": [],
   "source": [
    "tf.reduce_mean(a)"
   ]
  },
  {
   "cell_type": "markdown",
   "id": "3ad687e3-5d69-461e-8777-783fac561e75",
   "metadata": {},
   "source": [
    "나중에 tnp활용해서 numpy처럼 쓰자"
   ]
  },
  {
   "cell_type": "markdown",
   "id": "510e813f-c3de-44e1-967a-317a0e03ce9d",
   "metadata": {
    "id": "510e813f-c3de-44e1-967a-317a0e03ce9d"
   },
   "source": [
    "#### concat, stack "
   ]
  },
  {
   "cell_type": "markdown",
   "id": "9d2de5c8-10c4-4abe-bba4-b32979cb0f22",
   "metadata": {
    "id": "9d2de5c8-10c4-4abe-bba4-b32979cb0f22"
   },
   "source": [
    "`-` 예제: (2,3,4,5) stack (2,3,4,5) -> (?,?,?,?,?) "
   ]
  },
  {
   "cell_type": "code",
   "execution_count": 6,
   "id": "a98ec4d9-e4a6-4ede-94fe-4d6ddb5132bd",
   "metadata": {},
   "outputs": [],
   "source": [
    "a = tf.reshape(tf.constant(range(2*3*4*5)),(2,3,4,5))\n",
    "b = -a"
   ]
  },
  {
   "cell_type": "markdown",
   "id": "838b5cc7-c78c-4013-976c-f8f1c14afd41",
   "metadata": {},
   "source": [
    "(2,3,4,5) =  (1,2,3,4,5)"
   ]
  },
  {
   "cell_type": "markdown",
   "id": "191591c3-29ff-4c33-bc0c-e0aaa4a05229",
   "metadata": {},
   "source": [
    "**case1** (1,2,3,4,5) stack (1,2,3,4,5) = (2,2,3,4,5) # axis = 0"
   ]
  },
  {
   "cell_type": "code",
   "execution_count": 7,
   "id": "b5ae9493-7cc6-4814-9db2-1492e0b15423",
   "metadata": {
    "scrolled": true,
    "tags": []
   },
   "outputs": [
    {
     "data": {
      "text/plain": [
       "<tf.Tensor: shape=(2, 2, 3, 4, 5), dtype=int32, numpy=\n",
       "array([[[[[   0,    1,    2,    3,    4],\n",
       "          [   5,    6,    7,    8,    9],\n",
       "          [  10,   11,   12,   13,   14],\n",
       "          [  15,   16,   17,   18,   19]],\n",
       "\n",
       "         [[  20,   21,   22,   23,   24],\n",
       "          [  25,   26,   27,   28,   29],\n",
       "          [  30,   31,   32,   33,   34],\n",
       "          [  35,   36,   37,   38,   39]],\n",
       "\n",
       "         [[  40,   41,   42,   43,   44],\n",
       "          [  45,   46,   47,   48,   49],\n",
       "          [  50,   51,   52,   53,   54],\n",
       "          [  55,   56,   57,   58,   59]]],\n",
       "\n",
       "\n",
       "        [[[  60,   61,   62,   63,   64],\n",
       "          [  65,   66,   67,   68,   69],\n",
       "          [  70,   71,   72,   73,   74],\n",
       "          [  75,   76,   77,   78,   79]],\n",
       "\n",
       "         [[  80,   81,   82,   83,   84],\n",
       "          [  85,   86,   87,   88,   89],\n",
       "          [  90,   91,   92,   93,   94],\n",
       "          [  95,   96,   97,   98,   99]],\n",
       "\n",
       "         [[ 100,  101,  102,  103,  104],\n",
       "          [ 105,  106,  107,  108,  109],\n",
       "          [ 110,  111,  112,  113,  114],\n",
       "          [ 115,  116,  117,  118,  119]]]],\n",
       "\n",
       "\n",
       "\n",
       "       [[[[   0,   -1,   -2,   -3,   -4],\n",
       "          [  -5,   -6,   -7,   -8,   -9],\n",
       "          [ -10,  -11,  -12,  -13,  -14],\n",
       "          [ -15,  -16,  -17,  -18,  -19]],\n",
       "\n",
       "         [[ -20,  -21,  -22,  -23,  -24],\n",
       "          [ -25,  -26,  -27,  -28,  -29],\n",
       "          [ -30,  -31,  -32,  -33,  -34],\n",
       "          [ -35,  -36,  -37,  -38,  -39]],\n",
       "\n",
       "         [[ -40,  -41,  -42,  -43,  -44],\n",
       "          [ -45,  -46,  -47,  -48,  -49],\n",
       "          [ -50,  -51,  -52,  -53,  -54],\n",
       "          [ -55,  -56,  -57,  -58,  -59]]],\n",
       "\n",
       "\n",
       "        [[[ -60,  -61,  -62,  -63,  -64],\n",
       "          [ -65,  -66,  -67,  -68,  -69],\n",
       "          [ -70,  -71,  -72,  -73,  -74],\n",
       "          [ -75,  -76,  -77,  -78,  -79]],\n",
       "\n",
       "         [[ -80,  -81,  -82,  -83,  -84],\n",
       "          [ -85,  -86,  -87,  -88,  -89],\n",
       "          [ -90,  -91,  -92,  -93,  -94],\n",
       "          [ -95,  -96,  -97,  -98,  -99]],\n",
       "\n",
       "         [[-100, -101, -102, -103, -104],\n",
       "          [-105, -106, -107, -108, -109],\n",
       "          [-110, -111, -112, -113, -114],\n",
       "          [-115, -116, -117, -118, -119]]]]], dtype=int32)>"
      ]
     },
     "execution_count": 7,
     "metadata": {},
     "output_type": "execute_result"
    }
   ],
   "source": [
    "tf.stack([a,b],axis=0)"
   ]
  },
  {
   "cell_type": "markdown",
   "id": "8a680af8-7b1f-4917-bd9a-3b2c3a6ed45d",
   "metadata": {},
   "source": [
    "**case2** (2,1,3,4,5) stack (2,1,3,4,5) = (2,2,3,4,5) # axis = 1\n",
    "- 늘어나는 차원의 축을 몇 번째에 넣을 것인가."
   ]
  },
  {
   "cell_type": "code",
   "execution_count": 8,
   "id": "2e23114a-9bc6-46f4-8c23-0002a29958c7",
   "metadata": {
    "scrolled": true,
    "tags": []
   },
   "outputs": [
    {
     "data": {
      "text/plain": [
       "<tf.Tensor: shape=(2, 2, 3, 4, 5), dtype=int32, numpy=\n",
       "array([[[[[   0,    1,    2,    3,    4],\n",
       "          [   5,    6,    7,    8,    9],\n",
       "          [  10,   11,   12,   13,   14],\n",
       "          [  15,   16,   17,   18,   19]],\n",
       "\n",
       "         [[  20,   21,   22,   23,   24],\n",
       "          [  25,   26,   27,   28,   29],\n",
       "          [  30,   31,   32,   33,   34],\n",
       "          [  35,   36,   37,   38,   39]],\n",
       "\n",
       "         [[  40,   41,   42,   43,   44],\n",
       "          [  45,   46,   47,   48,   49],\n",
       "          [  50,   51,   52,   53,   54],\n",
       "          [  55,   56,   57,   58,   59]]],\n",
       "\n",
       "\n",
       "        [[[   0,   -1,   -2,   -3,   -4],\n",
       "          [  -5,   -6,   -7,   -8,   -9],\n",
       "          [ -10,  -11,  -12,  -13,  -14],\n",
       "          [ -15,  -16,  -17,  -18,  -19]],\n",
       "\n",
       "         [[ -20,  -21,  -22,  -23,  -24],\n",
       "          [ -25,  -26,  -27,  -28,  -29],\n",
       "          [ -30,  -31,  -32,  -33,  -34],\n",
       "          [ -35,  -36,  -37,  -38,  -39]],\n",
       "\n",
       "         [[ -40,  -41,  -42,  -43,  -44],\n",
       "          [ -45,  -46,  -47,  -48,  -49],\n",
       "          [ -50,  -51,  -52,  -53,  -54],\n",
       "          [ -55,  -56,  -57,  -58,  -59]]]],\n",
       "\n",
       "\n",
       "\n",
       "       [[[[  60,   61,   62,   63,   64],\n",
       "          [  65,   66,   67,   68,   69],\n",
       "          [  70,   71,   72,   73,   74],\n",
       "          [  75,   76,   77,   78,   79]],\n",
       "\n",
       "         [[  80,   81,   82,   83,   84],\n",
       "          [  85,   86,   87,   88,   89],\n",
       "          [  90,   91,   92,   93,   94],\n",
       "          [  95,   96,   97,   98,   99]],\n",
       "\n",
       "         [[ 100,  101,  102,  103,  104],\n",
       "          [ 105,  106,  107,  108,  109],\n",
       "          [ 110,  111,  112,  113,  114],\n",
       "          [ 115,  116,  117,  118,  119]]],\n",
       "\n",
       "\n",
       "        [[[ -60,  -61,  -62,  -63,  -64],\n",
       "          [ -65,  -66,  -67,  -68,  -69],\n",
       "          [ -70,  -71,  -72,  -73,  -74],\n",
       "          [ -75,  -76,  -77,  -78,  -79]],\n",
       "\n",
       "         [[ -80,  -81,  -82,  -83,  -84],\n",
       "          [ -85,  -86,  -87,  -88,  -89],\n",
       "          [ -90,  -91,  -92,  -93,  -94],\n",
       "          [ -95,  -96,  -97,  -98,  -99]],\n",
       "\n",
       "         [[-100, -101, -102, -103, -104],\n",
       "          [-105, -106, -107, -108, -109],\n",
       "          [-110, -111, -112, -113, -114],\n",
       "          [-115, -116, -117, -118, -119]]]]], dtype=int32)>"
      ]
     },
     "execution_count": 8,
     "metadata": {},
     "output_type": "execute_result"
    }
   ],
   "source": [
    "tf.stack([a,b],axis=1)"
   ]
  },
  {
   "cell_type": "markdown",
   "id": "cb4e236d-adb2-46da-a220-e35d9a4b970f",
   "metadata": {},
   "source": [
    "**case3** (2,3,1,4,5) stack (2,3,1,4,5) = (2,3,2,4,5) # axis = 2"
   ]
  },
  {
   "cell_type": "code",
   "execution_count": 9,
   "id": "9e9ed028-170e-4776-813e-d3bef5c55153",
   "metadata": {
    "scrolled": true,
    "tags": []
   },
   "outputs": [
    {
     "data": {
      "text/plain": [
       "<tf.Tensor: shape=(2, 3, 2, 4, 5), dtype=int32, numpy=\n",
       "array([[[[[   0,    1,    2,    3,    4],\n",
       "          [   5,    6,    7,    8,    9],\n",
       "          [  10,   11,   12,   13,   14],\n",
       "          [  15,   16,   17,   18,   19]],\n",
       "\n",
       "         [[   0,   -1,   -2,   -3,   -4],\n",
       "          [  -5,   -6,   -7,   -8,   -9],\n",
       "          [ -10,  -11,  -12,  -13,  -14],\n",
       "          [ -15,  -16,  -17,  -18,  -19]]],\n",
       "\n",
       "\n",
       "        [[[  20,   21,   22,   23,   24],\n",
       "          [  25,   26,   27,   28,   29],\n",
       "          [  30,   31,   32,   33,   34],\n",
       "          [  35,   36,   37,   38,   39]],\n",
       "\n",
       "         [[ -20,  -21,  -22,  -23,  -24],\n",
       "          [ -25,  -26,  -27,  -28,  -29],\n",
       "          [ -30,  -31,  -32,  -33,  -34],\n",
       "          [ -35,  -36,  -37,  -38,  -39]]],\n",
       "\n",
       "\n",
       "        [[[  40,   41,   42,   43,   44],\n",
       "          [  45,   46,   47,   48,   49],\n",
       "          [  50,   51,   52,   53,   54],\n",
       "          [  55,   56,   57,   58,   59]],\n",
       "\n",
       "         [[ -40,  -41,  -42,  -43,  -44],\n",
       "          [ -45,  -46,  -47,  -48,  -49],\n",
       "          [ -50,  -51,  -52,  -53,  -54],\n",
       "          [ -55,  -56,  -57,  -58,  -59]]]],\n",
       "\n",
       "\n",
       "\n",
       "       [[[[  60,   61,   62,   63,   64],\n",
       "          [  65,   66,   67,   68,   69],\n",
       "          [  70,   71,   72,   73,   74],\n",
       "          [  75,   76,   77,   78,   79]],\n",
       "\n",
       "         [[ -60,  -61,  -62,  -63,  -64],\n",
       "          [ -65,  -66,  -67,  -68,  -69],\n",
       "          [ -70,  -71,  -72,  -73,  -74],\n",
       "          [ -75,  -76,  -77,  -78,  -79]]],\n",
       "\n",
       "\n",
       "        [[[  80,   81,   82,   83,   84],\n",
       "          [  85,   86,   87,   88,   89],\n",
       "          [  90,   91,   92,   93,   94],\n",
       "          [  95,   96,   97,   98,   99]],\n",
       "\n",
       "         [[ -80,  -81,  -82,  -83,  -84],\n",
       "          [ -85,  -86,  -87,  -88,  -89],\n",
       "          [ -90,  -91,  -92,  -93,  -94],\n",
       "          [ -95,  -96,  -97,  -98,  -99]]],\n",
       "\n",
       "\n",
       "        [[[ 100,  101,  102,  103,  104],\n",
       "          [ 105,  106,  107,  108,  109],\n",
       "          [ 110,  111,  112,  113,  114],\n",
       "          [ 115,  116,  117,  118,  119]],\n",
       "\n",
       "         [[-100, -101, -102, -103, -104],\n",
       "          [-105, -106, -107, -108, -109],\n",
       "          [-110, -111, -112, -113, -114],\n",
       "          [-115, -116, -117, -118, -119]]]]], dtype=int32)>"
      ]
     },
     "execution_count": 9,
     "metadata": {},
     "output_type": "execute_result"
    }
   ],
   "source": [
    "tf.stack([a,b],axis=2)"
   ]
  },
  {
   "cell_type": "markdown",
   "id": "1774f30f-3e4d-4c68-af06-b6354b16d925",
   "metadata": {},
   "source": [
    "**case4** (2,3,4,1,5) stack (2,3,4,1,5) = (2,3,4,2,5) # axis = 3"
   ]
  },
  {
   "cell_type": "code",
   "execution_count": 10,
   "id": "8e78d274-6e2f-401a-9ee3-fb3b4fe7c57c",
   "metadata": {
    "scrolled": true,
    "tags": []
   },
   "outputs": [
    {
     "data": {
      "text/plain": [
       "<tf.Tensor: shape=(2, 3, 4, 2, 5), dtype=int32, numpy=\n",
       "array([[[[[   0,    1,    2,    3,    4],\n",
       "          [   0,   -1,   -2,   -3,   -4]],\n",
       "\n",
       "         [[   5,    6,    7,    8,    9],\n",
       "          [  -5,   -6,   -7,   -8,   -9]],\n",
       "\n",
       "         [[  10,   11,   12,   13,   14],\n",
       "          [ -10,  -11,  -12,  -13,  -14]],\n",
       "\n",
       "         [[  15,   16,   17,   18,   19],\n",
       "          [ -15,  -16,  -17,  -18,  -19]]],\n",
       "\n",
       "\n",
       "        [[[  20,   21,   22,   23,   24],\n",
       "          [ -20,  -21,  -22,  -23,  -24]],\n",
       "\n",
       "         [[  25,   26,   27,   28,   29],\n",
       "          [ -25,  -26,  -27,  -28,  -29]],\n",
       "\n",
       "         [[  30,   31,   32,   33,   34],\n",
       "          [ -30,  -31,  -32,  -33,  -34]],\n",
       "\n",
       "         [[  35,   36,   37,   38,   39],\n",
       "          [ -35,  -36,  -37,  -38,  -39]]],\n",
       "\n",
       "\n",
       "        [[[  40,   41,   42,   43,   44],\n",
       "          [ -40,  -41,  -42,  -43,  -44]],\n",
       "\n",
       "         [[  45,   46,   47,   48,   49],\n",
       "          [ -45,  -46,  -47,  -48,  -49]],\n",
       "\n",
       "         [[  50,   51,   52,   53,   54],\n",
       "          [ -50,  -51,  -52,  -53,  -54]],\n",
       "\n",
       "         [[  55,   56,   57,   58,   59],\n",
       "          [ -55,  -56,  -57,  -58,  -59]]]],\n",
       "\n",
       "\n",
       "\n",
       "       [[[[  60,   61,   62,   63,   64],\n",
       "          [ -60,  -61,  -62,  -63,  -64]],\n",
       "\n",
       "         [[  65,   66,   67,   68,   69],\n",
       "          [ -65,  -66,  -67,  -68,  -69]],\n",
       "\n",
       "         [[  70,   71,   72,   73,   74],\n",
       "          [ -70,  -71,  -72,  -73,  -74]],\n",
       "\n",
       "         [[  75,   76,   77,   78,   79],\n",
       "          [ -75,  -76,  -77,  -78,  -79]]],\n",
       "\n",
       "\n",
       "        [[[  80,   81,   82,   83,   84],\n",
       "          [ -80,  -81,  -82,  -83,  -84]],\n",
       "\n",
       "         [[  85,   86,   87,   88,   89],\n",
       "          [ -85,  -86,  -87,  -88,  -89]],\n",
       "\n",
       "         [[  90,   91,   92,   93,   94],\n",
       "          [ -90,  -91,  -92,  -93,  -94]],\n",
       "\n",
       "         [[  95,   96,   97,   98,   99],\n",
       "          [ -95,  -96,  -97,  -98,  -99]]],\n",
       "\n",
       "\n",
       "        [[[ 100,  101,  102,  103,  104],\n",
       "          [-100, -101, -102, -103, -104]],\n",
       "\n",
       "         [[ 105,  106,  107,  108,  109],\n",
       "          [-105, -106, -107, -108, -109]],\n",
       "\n",
       "         [[ 110,  111,  112,  113,  114],\n",
       "          [-110, -111, -112, -113, -114]],\n",
       "\n",
       "         [[ 115,  116,  117,  118,  119],\n",
       "          [-115, -116, -117, -118, -119]]]]], dtype=int32)>"
      ]
     },
     "execution_count": 10,
     "metadata": {},
     "output_type": "execute_result"
    }
   ],
   "source": [
    "tf.stack([a,b],axis=3)"
   ]
  },
  {
   "cell_type": "markdown",
   "id": "bf4e3d51-10b6-4761-9325-d6a2b5619abe",
   "metadata": {},
   "source": [
    "**case5** (2,3,4,5,1) stack (2,3,4,5,1) = (2,3,4,5,2) # axis = 4"
   ]
  },
  {
   "cell_type": "code",
   "execution_count": 11,
   "id": "84c50034-f931-43c2-983a-f33c92097426",
   "metadata": {
    "scrolled": true,
    "tags": []
   },
   "outputs": [
    {
     "data": {
      "text/plain": [
       "<tf.Tensor: shape=(2, 3, 4, 5, 2), dtype=int32, numpy=\n",
       "array([[[[[   0,    0],\n",
       "          [   1,   -1],\n",
       "          [   2,   -2],\n",
       "          [   3,   -3],\n",
       "          [   4,   -4]],\n",
       "\n",
       "         [[   5,   -5],\n",
       "          [   6,   -6],\n",
       "          [   7,   -7],\n",
       "          [   8,   -8],\n",
       "          [   9,   -9]],\n",
       "\n",
       "         [[  10,  -10],\n",
       "          [  11,  -11],\n",
       "          [  12,  -12],\n",
       "          [  13,  -13],\n",
       "          [  14,  -14]],\n",
       "\n",
       "         [[  15,  -15],\n",
       "          [  16,  -16],\n",
       "          [  17,  -17],\n",
       "          [  18,  -18],\n",
       "          [  19,  -19]]],\n",
       "\n",
       "\n",
       "        [[[  20,  -20],\n",
       "          [  21,  -21],\n",
       "          [  22,  -22],\n",
       "          [  23,  -23],\n",
       "          [  24,  -24]],\n",
       "\n",
       "         [[  25,  -25],\n",
       "          [  26,  -26],\n",
       "          [  27,  -27],\n",
       "          [  28,  -28],\n",
       "          [  29,  -29]],\n",
       "\n",
       "         [[  30,  -30],\n",
       "          [  31,  -31],\n",
       "          [  32,  -32],\n",
       "          [  33,  -33],\n",
       "          [  34,  -34]],\n",
       "\n",
       "         [[  35,  -35],\n",
       "          [  36,  -36],\n",
       "          [  37,  -37],\n",
       "          [  38,  -38],\n",
       "          [  39,  -39]]],\n",
       "\n",
       "\n",
       "        [[[  40,  -40],\n",
       "          [  41,  -41],\n",
       "          [  42,  -42],\n",
       "          [  43,  -43],\n",
       "          [  44,  -44]],\n",
       "\n",
       "         [[  45,  -45],\n",
       "          [  46,  -46],\n",
       "          [  47,  -47],\n",
       "          [  48,  -48],\n",
       "          [  49,  -49]],\n",
       "\n",
       "         [[  50,  -50],\n",
       "          [  51,  -51],\n",
       "          [  52,  -52],\n",
       "          [  53,  -53],\n",
       "          [  54,  -54]],\n",
       "\n",
       "         [[  55,  -55],\n",
       "          [  56,  -56],\n",
       "          [  57,  -57],\n",
       "          [  58,  -58],\n",
       "          [  59,  -59]]]],\n",
       "\n",
       "\n",
       "\n",
       "       [[[[  60,  -60],\n",
       "          [  61,  -61],\n",
       "          [  62,  -62],\n",
       "          [  63,  -63],\n",
       "          [  64,  -64]],\n",
       "\n",
       "         [[  65,  -65],\n",
       "          [  66,  -66],\n",
       "          [  67,  -67],\n",
       "          [  68,  -68],\n",
       "          [  69,  -69]],\n",
       "\n",
       "         [[  70,  -70],\n",
       "          [  71,  -71],\n",
       "          [  72,  -72],\n",
       "          [  73,  -73],\n",
       "          [  74,  -74]],\n",
       "\n",
       "         [[  75,  -75],\n",
       "          [  76,  -76],\n",
       "          [  77,  -77],\n",
       "          [  78,  -78],\n",
       "          [  79,  -79]]],\n",
       "\n",
       "\n",
       "        [[[  80,  -80],\n",
       "          [  81,  -81],\n",
       "          [  82,  -82],\n",
       "          [  83,  -83],\n",
       "          [  84,  -84]],\n",
       "\n",
       "         [[  85,  -85],\n",
       "          [  86,  -86],\n",
       "          [  87,  -87],\n",
       "          [  88,  -88],\n",
       "          [  89,  -89]],\n",
       "\n",
       "         [[  90,  -90],\n",
       "          [  91,  -91],\n",
       "          [  92,  -92],\n",
       "          [  93,  -93],\n",
       "          [  94,  -94]],\n",
       "\n",
       "         [[  95,  -95],\n",
       "          [  96,  -96],\n",
       "          [  97,  -97],\n",
       "          [  98,  -98],\n",
       "          [  99,  -99]]],\n",
       "\n",
       "\n",
       "        [[[ 100, -100],\n",
       "          [ 101, -101],\n",
       "          [ 102, -102],\n",
       "          [ 103, -103],\n",
       "          [ 104, -104]],\n",
       "\n",
       "         [[ 105, -105],\n",
       "          [ 106, -106],\n",
       "          [ 107, -107],\n",
       "          [ 108, -108],\n",
       "          [ 109, -109]],\n",
       "\n",
       "         [[ 110, -110],\n",
       "          [ 111, -111],\n",
       "          [ 112, -112],\n",
       "          [ 113, -113],\n",
       "          [ 114, -114]],\n",
       "\n",
       "         [[ 115, -115],\n",
       "          [ 116, -116],\n",
       "          [ 117, -117],\n",
       "          [ 118, -118],\n",
       "          [ 119, -119]]]]], dtype=int32)>"
      ]
     },
     "execution_count": 11,
     "metadata": {},
     "output_type": "execute_result"
    }
   ],
   "source": [
    "tf.stack([a,b],axis=-1)"
   ]
  },
  {
   "cell_type": "markdown",
   "id": "3c4ad96d-4709-44cd-aa7f-de7d1dc14c5d",
   "metadata": {
    "id": "3c4ad96d-4709-44cd-aa7f-de7d1dc14c5d"
   },
   "source": [
    "`-` 예제: (2,3,4), (2,3,4), (2,3,4)"
   ]
  },
  {
   "cell_type": "code",
   "execution_count": 12,
   "id": "89bd10b0-bafa-4d80-aee3-485a9d158865",
   "metadata": {},
   "outputs": [],
   "source": [
    "a = tf.reshape(tf.constant(range(2*3*4)),(2,3,4))\n",
    "b = -a\n",
    "c = 2*a"
   ]
  },
  {
   "cell_type": "markdown",
   "id": "263897e2-be5f-4eab-8852-d1fc1e136608",
   "metadata": {
    "id": "263897e2-be5f-4eab-8852-d1fc1e136608"
   },
   "source": [
    "(예시1) (2,3,4), (2,3,4), (2,3,4) $\\to$ (6,3,4) # 첫번째 축이 바뀐다는 뜻이지,\n",
    "- 차원이 같으니 stack 이 아니라 concat을 쓰자!"
   ]
  },
  {
   "cell_type": "code",
   "execution_count": 13,
   "id": "f1203197-63a9-49af-ac4a-8b2127b7dbf5",
   "metadata": {},
   "outputs": [
    {
     "data": {
      "text/plain": [
       "TensorShape([6, 3, 4])"
      ]
     },
     "execution_count": 13,
     "metadata": {},
     "output_type": "execute_result"
    }
   ],
   "source": [
    "tf.concat([a,b,c],axis=0).shape"
   ]
  },
  {
   "cell_type": "markdown",
   "id": "95f5ecd1-2f6a-4c15-ad44-4d5e8f8019eb",
   "metadata": {
    "id": "95f5ecd1-2f6a-4c15-ad44-4d5e8f8019eb"
   },
   "source": [
    "(예시2) (2,3,4), (2,3,4), (2,3,4) $\\to$ (2,9,4)"
   ]
  },
  {
   "cell_type": "code",
   "execution_count": 14,
   "id": "ac4ca51d-fee3-4053-90e7-3f559a58d4ea",
   "metadata": {},
   "outputs": [
    {
     "data": {
      "text/plain": [
       "TensorShape([2, 9, 4])"
      ]
     },
     "execution_count": 14,
     "metadata": {},
     "output_type": "execute_result"
    }
   ],
   "source": [
    "tf.concat([a,b,c],axis=1).shape"
   ]
  },
  {
   "cell_type": "markdown",
   "id": "a766b651-d3bd-41e7-af2f-0032b09e111b",
   "metadata": {
    "id": "a766b651-d3bd-41e7-af2f-0032b09e111b"
   },
   "source": [
    "(예시3) (2,3,4), (2,3,4), (2,3,4) $\\to$ (2,3,12)"
   ]
  },
  {
   "cell_type": "code",
   "execution_count": 15,
   "id": "2c81960c-1676-4123-a521-4e83db36f8eb",
   "metadata": {},
   "outputs": [
    {
     "data": {
      "text/plain": [
       "TensorShape([2, 3, 12])"
      ]
     },
     "execution_count": 15,
     "metadata": {},
     "output_type": "execute_result"
    }
   ],
   "source": [
    "tf.concat([a,b,c],axis=-1).shape"
   ]
  },
  {
   "cell_type": "markdown",
   "id": "1e5cd1cf-3218-4ea3-b301-9a343bdf4c18",
   "metadata": {
    "id": "1e5cd1cf-3218-4ea3-b301-9a343bdf4c18"
   },
   "source": [
    "(예시4) (2,3,4), (2,3,4), (2,3,4) $\\to$ (3,2,3,4) # 차원이 수정돼? stack을 쓰자\n",
    "- 차원 늘어난 거 첫번째로 놓고\n",
    "- 두 번째 자리에 축을 넣은 것으로 보자"
   ]
  },
  {
   "cell_type": "code",
   "execution_count": 16,
   "id": "c4c5879d-5c6c-470b-8530-4bd8b8a4a455",
   "metadata": {},
   "outputs": [
    {
     "data": {
      "text/plain": [
       "TensorShape([3, 2, 3, 4])"
      ]
     },
     "execution_count": 16,
     "metadata": {},
     "output_type": "execute_result"
    }
   ],
   "source": [
    "tf.stack([a,b,c],axis=0).shape"
   ]
  },
  {
   "cell_type": "markdown",
   "id": "a0a57709-7730-4719-8f60-6bc1f4d75e9c",
   "metadata": {
    "id": "a0a57709-7730-4719-8f60-6bc1f4d75e9c"
   },
   "source": [
    "(예시5) (2,3,4), (2,3,4), (2,3,4) $\\to$ (2,3,3,4)"
   ]
  },
  {
   "cell_type": "code",
   "execution_count": 17,
   "id": "4473c904-4eef-451d-8623-2939626dfcd5",
   "metadata": {},
   "outputs": [
    {
     "data": {
      "text/plain": [
       "TensorShape([2, 3, 3, 4])"
      ]
     },
     "execution_count": 17,
     "metadata": {},
     "output_type": "execute_result"
    }
   ],
   "source": [
    "tf.stack([a,b,c],axis=1).shape"
   ]
  },
  {
   "cell_type": "markdown",
   "id": "dacbc0ed-c2c5-4d75-a14d-4605c72ca672",
   "metadata": {
    "id": "dacbc0ed-c2c5-4d75-a14d-4605c72ca672"
   },
   "source": [
    "(예시6) (2,3,4), (2,3,4), (2,3,4) $\\to$ (2,3,3,4) "
   ]
  },
  {
   "cell_type": "code",
   "execution_count": 18,
   "id": "8d90b3ba-48da-4bf8-ba3c-3a1fe085f52e",
   "metadata": {},
   "outputs": [
    {
     "data": {
      "text/plain": [
       "TensorShape([2, 3, 3, 4])"
      ]
     },
     "execution_count": 18,
     "metadata": {},
     "output_type": "execute_result"
    }
   ],
   "source": [
    "tf.stack([a,b,c],axis=2).shape"
   ]
  },
  {
   "cell_type": "markdown",
   "id": "62e59896-b9b9-45d6-8c37-2a26d43ae6dd",
   "metadata": {
    "id": "62e59896-b9b9-45d6-8c37-2a26d43ae6dd"
   },
   "source": [
    "(예시7) (2,3,4), (2,3,4), (2,3,4) $\\to$ (2,3,4,3) "
   ]
  },
  {
   "cell_type": "code",
   "execution_count": 19,
   "id": "7389a055-2b52-402a-be79-85112ab00183",
   "metadata": {},
   "outputs": [
    {
     "data": {
      "text/plain": [
       "TensorShape([2, 3, 4, 3])"
      ]
     },
     "execution_count": 19,
     "metadata": {},
     "output_type": "execute_result"
    }
   ],
   "source": [
    "tf.stack([a,b,c],axis=-1).shape"
   ]
  },
  {
   "cell_type": "markdown",
   "id": "3f6939a1-c76b-4c03-b11e-7f76281a168a",
   "metadata": {
    "id": "3f6939a1-c76b-4c03-b11e-7f76281a168a"
   },
   "source": [
    "`-` 예제: (2,3,4) (4,3,4) $\\to$ (6,3,4) \n",
    "- 차원 두 개, concat쓰자"
   ]
  },
  {
   "cell_type": "code",
   "execution_count": 20,
   "id": "52476f62-3a38-4af3-9253-288ee82f29b4",
   "metadata": {},
   "outputs": [],
   "source": [
    "a = tf.reshape(tf.constant(range(2*3*4)),(2,3,4))\n",
    "b = tf.reshape(-tf.constant(range(4*3*4)),(4,3,4))"
   ]
  },
  {
   "cell_type": "code",
   "execution_count": 21,
   "id": "5c69a258-41bd-4b69-9630-88c298014958",
   "metadata": {},
   "outputs": [
    {
     "data": {
      "text/plain": [
       "TensorShape([2, 3, 4])"
      ]
     },
     "execution_count": 21,
     "metadata": {},
     "output_type": "execute_result"
    }
   ],
   "source": [
    "a.shape"
   ]
  },
  {
   "cell_type": "code",
   "execution_count": 22,
   "id": "5a415e1b-b77b-477e-87a7-a9d6856182aa",
   "metadata": {},
   "outputs": [
    {
     "data": {
      "text/plain": [
       "TensorShape([4, 3, 4])"
      ]
     },
     "execution_count": 22,
     "metadata": {},
     "output_type": "execute_result"
    }
   ],
   "source": [
    "b.shape"
   ]
  },
  {
   "cell_type": "code",
   "execution_count": 23,
   "id": "d88d5e0f-c458-4321-8f7a-b6ffe8cfbb79",
   "metadata": {},
   "outputs": [
    {
     "data": {
      "text/plain": [
       "TensorShape([6, 3, 4])"
      ]
     },
     "execution_count": 23,
     "metadata": {},
     "output_type": "execute_result"
    }
   ],
   "source": [
    "tf.concat([a,b],axis=0).shape"
   ]
  },
  {
   "cell_type": "code",
   "execution_count": 24,
   "id": "65abe394-712d-44e4-a377-30386e6f2847",
   "metadata": {},
   "outputs": [
    {
     "ename": "InvalidArgumentError",
     "evalue": "ConcatOp : Dimensions of inputs should match: shape[0] = [2,3,4] vs. shape[1] = [4,3,4] [Op:ConcatV2] name: concat",
     "output_type": "error",
     "traceback": [
      "\u001b[0;31m---------------------------------------------------------------------------\u001b[0m",
      "\u001b[0;31mInvalidArgumentError\u001b[0m                      Traceback (most recent call last)",
      "Input \u001b[0;32mIn [24]\u001b[0m, in \u001b[0;36m<cell line: 1>\u001b[0;34m()\u001b[0m\n\u001b[0;32m----> 1\u001b[0m \u001b[43mtf\u001b[49m\u001b[38;5;241;43m.\u001b[39;49m\u001b[43mconcat\u001b[49m\u001b[43m(\u001b[49m\u001b[43m[\u001b[49m\u001b[43ma\u001b[49m\u001b[43m,\u001b[49m\u001b[43mb\u001b[49m\u001b[43m]\u001b[49m\u001b[43m,\u001b[49m\u001b[43maxis\u001b[49m\u001b[38;5;241;43m=\u001b[39;49m\u001b[38;5;241;43m1\u001b[39;49m\u001b[43m)\u001b[49m\u001b[38;5;241m.\u001b[39mshape\n",
      "File \u001b[0;32m~/anaconda3/envs/stbda2022/lib/python3.10/site-packages/tensorflow/python/util/traceback_utils.py:153\u001b[0m, in \u001b[0;36mfilter_traceback.<locals>.error_handler\u001b[0;34m(*args, **kwargs)\u001b[0m\n\u001b[1;32m    151\u001b[0m \u001b[38;5;28;01mexcept\u001b[39;00m \u001b[38;5;167;01mException\u001b[39;00m \u001b[38;5;28;01mas\u001b[39;00m e:\n\u001b[1;32m    152\u001b[0m   filtered_tb \u001b[38;5;241m=\u001b[39m _process_traceback_frames(e\u001b[38;5;241m.\u001b[39m__traceback__)\n\u001b[0;32m--> 153\u001b[0m   \u001b[38;5;28;01mraise\u001b[39;00m e\u001b[38;5;241m.\u001b[39mwith_traceback(filtered_tb) \u001b[38;5;28;01mfrom\u001b[39;00m \u001b[38;5;28mNone\u001b[39m\n\u001b[1;32m    154\u001b[0m \u001b[38;5;28;01mfinally\u001b[39;00m:\n\u001b[1;32m    155\u001b[0m   \u001b[38;5;28;01mdel\u001b[39;00m filtered_tb\n",
      "File \u001b[0;32m~/anaconda3/envs/stbda2022/lib/python3.10/site-packages/tensorflow/python/framework/ops.py:7107\u001b[0m, in \u001b[0;36mraise_from_not_ok_status\u001b[0;34m(e, name)\u001b[0m\n\u001b[1;32m   7105\u001b[0m \u001b[38;5;28;01mdef\u001b[39;00m \u001b[38;5;21mraise_from_not_ok_status\u001b[39m(e, name):\n\u001b[1;32m   7106\u001b[0m   e\u001b[38;5;241m.\u001b[39mmessage \u001b[38;5;241m+\u001b[39m\u001b[38;5;241m=\u001b[39m (\u001b[38;5;124m\"\u001b[39m\u001b[38;5;124m name: \u001b[39m\u001b[38;5;124m\"\u001b[39m \u001b[38;5;241m+\u001b[39m name \u001b[38;5;28;01mif\u001b[39;00m name \u001b[38;5;129;01mis\u001b[39;00m \u001b[38;5;129;01mnot\u001b[39;00m \u001b[38;5;28;01mNone\u001b[39;00m \u001b[38;5;28;01melse\u001b[39;00m \u001b[38;5;124m\"\u001b[39m\u001b[38;5;124m\"\u001b[39m)\n\u001b[0;32m-> 7107\u001b[0m   \u001b[38;5;28;01mraise\u001b[39;00m core\u001b[38;5;241m.\u001b[39m_status_to_exception(e) \u001b[38;5;28;01mfrom\u001b[39;00m \u001b[38;5;28mNone\u001b[39m\n",
      "\u001b[0;31mInvalidArgumentError\u001b[0m: ConcatOp : Dimensions of inputs should match: shape[0] = [2,3,4] vs. shape[1] = [4,3,4] [Op:ConcatV2] name: concat"
     ]
    }
   ],
   "source": [
    "tf.concat([a,b],axis=1).shape"
   ]
  },
  {
   "cell_type": "code",
   "execution_count": 25,
   "id": "99d6fdaf-c0ea-40f8-ae73-c5ac80675210",
   "metadata": {},
   "outputs": [
    {
     "ename": "InvalidArgumentError",
     "evalue": "ConcatOp : Dimensions of inputs should match: shape[0] = [2,3,4] vs. shape[1] = [4,3,4] [Op:ConcatV2] name: concat",
     "output_type": "error",
     "traceback": [
      "\u001b[0;31m---------------------------------------------------------------------------\u001b[0m",
      "\u001b[0;31mInvalidArgumentError\u001b[0m                      Traceback (most recent call last)",
      "Input \u001b[0;32mIn [25]\u001b[0m, in \u001b[0;36m<cell line: 1>\u001b[0;34m()\u001b[0m\n\u001b[0;32m----> 1\u001b[0m \u001b[43mtf\u001b[49m\u001b[38;5;241;43m.\u001b[39;49m\u001b[43mconcat\u001b[49m\u001b[43m(\u001b[49m\u001b[43m[\u001b[49m\u001b[43ma\u001b[49m\u001b[43m,\u001b[49m\u001b[43mb\u001b[49m\u001b[43m]\u001b[49m\u001b[43m,\u001b[49m\u001b[43maxis\u001b[49m\u001b[38;5;241;43m=\u001b[39;49m\u001b[38;5;241;43m2\u001b[39;49m\u001b[43m)\u001b[49m\u001b[38;5;241m.\u001b[39mshape\n",
      "File \u001b[0;32m~/anaconda3/envs/stbda2022/lib/python3.10/site-packages/tensorflow/python/util/traceback_utils.py:153\u001b[0m, in \u001b[0;36mfilter_traceback.<locals>.error_handler\u001b[0;34m(*args, **kwargs)\u001b[0m\n\u001b[1;32m    151\u001b[0m \u001b[38;5;28;01mexcept\u001b[39;00m \u001b[38;5;167;01mException\u001b[39;00m \u001b[38;5;28;01mas\u001b[39;00m e:\n\u001b[1;32m    152\u001b[0m   filtered_tb \u001b[38;5;241m=\u001b[39m _process_traceback_frames(e\u001b[38;5;241m.\u001b[39m__traceback__)\n\u001b[0;32m--> 153\u001b[0m   \u001b[38;5;28;01mraise\u001b[39;00m e\u001b[38;5;241m.\u001b[39mwith_traceback(filtered_tb) \u001b[38;5;28;01mfrom\u001b[39;00m \u001b[38;5;28mNone\u001b[39m\n\u001b[1;32m    154\u001b[0m \u001b[38;5;28;01mfinally\u001b[39;00m:\n\u001b[1;32m    155\u001b[0m   \u001b[38;5;28;01mdel\u001b[39;00m filtered_tb\n",
      "File \u001b[0;32m~/anaconda3/envs/stbda2022/lib/python3.10/site-packages/tensorflow/python/framework/ops.py:7107\u001b[0m, in \u001b[0;36mraise_from_not_ok_status\u001b[0;34m(e, name)\u001b[0m\n\u001b[1;32m   7105\u001b[0m \u001b[38;5;28;01mdef\u001b[39;00m \u001b[38;5;21mraise_from_not_ok_status\u001b[39m(e, name):\n\u001b[1;32m   7106\u001b[0m   e\u001b[38;5;241m.\u001b[39mmessage \u001b[38;5;241m+\u001b[39m\u001b[38;5;241m=\u001b[39m (\u001b[38;5;124m\"\u001b[39m\u001b[38;5;124m name: \u001b[39m\u001b[38;5;124m\"\u001b[39m \u001b[38;5;241m+\u001b[39m name \u001b[38;5;28;01mif\u001b[39;00m name \u001b[38;5;129;01mis\u001b[39;00m \u001b[38;5;129;01mnot\u001b[39;00m \u001b[38;5;28;01mNone\u001b[39;00m \u001b[38;5;28;01melse\u001b[39;00m \u001b[38;5;124m\"\u001b[39m\u001b[38;5;124m\"\u001b[39m)\n\u001b[0;32m-> 7107\u001b[0m   \u001b[38;5;28;01mraise\u001b[39;00m core\u001b[38;5;241m.\u001b[39m_status_to_exception(e) \u001b[38;5;28;01mfrom\u001b[39;00m \u001b[38;5;28mNone\u001b[39m\n",
      "\u001b[0;31mInvalidArgumentError\u001b[0m: ConcatOp : Dimensions of inputs should match: shape[0] = [2,3,4] vs. shape[1] = [4,3,4] [Op:ConcatV2] name: concat"
     ]
    }
   ],
   "source": [
    "tf.concat([a,b],axis=2).shape"
   ]
  },
  {
   "cell_type": "markdown",
   "id": "23e87ec7-19c5-4dee-ae08-d6bf7c659134",
   "metadata": {},
   "source": [
    "차원이 다르기 때문에 에러가 뜬다."
   ]
  },
  {
   "cell_type": "markdown",
   "id": "1b5c6f53-0c20-4891-b4aa-f4f4ab5a28e5",
   "metadata": {
    "id": "1b5c6f53-0c20-4891-b4aa-f4f4ab5a28e5",
    "tags": []
   },
   "source": [
    "`-` (2,2) @ (2,) 의 연산? "
   ]
  },
  {
   "cell_type": "markdown",
   "id": "79ef372b-f0e8-4aa9-9c6e-9240815c4c81",
   "metadata": {},
   "source": [
    "**numpy**"
   ]
  },
  {
   "cell_type": "code",
   "execution_count": 26,
   "id": "b95365c6-0d7f-4fbe-a9ba-b7f18f654bec",
   "metadata": {},
   "outputs": [
    {
     "data": {
      "text/plain": [
       "array([ 77, -88])"
      ]
     },
     "execution_count": 26,
     "metadata": {},
     "output_type": "execute_result"
    }
   ],
   "source": [
    "np.array([[1,0],[0,1]]) @ np.array([77,-88])"
   ]
  },
  {
   "cell_type": "code",
   "execution_count": 27,
   "id": "c3ed5163-5d1a-4e33-93c6-4b571796b815",
   "metadata": {},
   "outputs": [
    {
     "data": {
      "text/plain": [
       "array([ 77, -88])"
      ]
     },
     "execution_count": 27,
     "metadata": {},
     "output_type": "execute_result"
    }
   ],
   "source": [
    "np.array([77,-88]) @ np.array([[1,0],[0,1]])"
   ]
  },
  {
   "cell_type": "markdown",
   "id": "9b98becd-6597-44e0-b0cb-51c6dbb1a66b",
   "metadata": {},
   "source": [
    "(2,)는 길이가 2일 벡터일 뿐이니까 알아서 행이나 열 행렬로 인식해서 계산한다."
   ]
  },
  {
   "cell_type": "code",
   "execution_count": 28,
   "id": "27d39ceb-96b4-4cad-a643-6bd6f3c849d4",
   "metadata": {},
   "outputs": [
    {
     "data": {
      "text/plain": [
       "array([[ 77],\n",
       "       [-88]])"
      ]
     },
     "execution_count": 28,
     "metadata": {},
     "output_type": "execute_result"
    }
   ],
   "source": [
    "np.array([[1,0],[0,1]]) @ np.array([77,-88]).reshape(2,1)"
   ]
  },
  {
   "cell_type": "code",
   "execution_count": 29,
   "id": "a574259f-09e6-4dfb-8a27-9adbdc26d609",
   "metadata": {},
   "outputs": [
    {
     "ename": "ValueError",
     "evalue": "matmul: Input operand 1 has a mismatch in its core dimension 0, with gufunc signature (n?,k),(k,m?)->(n?,m?) (size 2 is different from 1)",
     "output_type": "error",
     "traceback": [
      "\u001b[0;31m---------------------------------------------------------------------------\u001b[0m",
      "\u001b[0;31mValueError\u001b[0m                                Traceback (most recent call last)",
      "Input \u001b[0;32mIn [29]\u001b[0m, in \u001b[0;36m<cell line: 1>\u001b[0;34m()\u001b[0m\n\u001b[0;32m----> 1\u001b[0m \u001b[43mnp\u001b[49m\u001b[38;5;241;43m.\u001b[39;49m\u001b[43marray\u001b[49m\u001b[43m(\u001b[49m\u001b[43m[\u001b[49m\u001b[38;5;241;43m77\u001b[39;49m\u001b[43m,\u001b[49m\u001b[38;5;241;43m-\u001b[39;49m\u001b[38;5;241;43m88\u001b[39;49m\u001b[43m]\u001b[49m\u001b[43m)\u001b[49m\u001b[38;5;241;43m.\u001b[39;49m\u001b[43mreshape\u001b[49m\u001b[43m(\u001b[49m\u001b[38;5;241;43m2\u001b[39;49m\u001b[43m,\u001b[49m\u001b[38;5;241;43m1\u001b[39;49m\u001b[43m)\u001b[49m\u001b[43m \u001b[49m\u001b[38;5;241;43m@\u001b[39;49m\u001b[43m \u001b[49m\u001b[43mnp\u001b[49m\u001b[38;5;241;43m.\u001b[39;49m\u001b[43marray\u001b[49m\u001b[43m(\u001b[49m\u001b[43m[\u001b[49m\u001b[43m[\u001b[49m\u001b[38;5;241;43m1\u001b[39;49m\u001b[43m,\u001b[49m\u001b[38;5;241;43m0\u001b[39;49m\u001b[43m]\u001b[49m\u001b[43m,\u001b[49m\u001b[43m[\u001b[49m\u001b[38;5;241;43m0\u001b[39;49m\u001b[43m,\u001b[49m\u001b[38;5;241;43m1\u001b[39;49m\u001b[43m]\u001b[49m\u001b[43m]\u001b[49m\u001b[43m)\u001b[49m\n",
      "\u001b[0;31mValueError\u001b[0m: matmul: Input operand 1 has a mismatch in its core dimension 0, with gufunc signature (n?,k),(k,m?)->(n?,m?) (size 2 is different from 1)"
     ]
    }
   ],
   "source": [
    " np.array([77,-88]).reshape(2,1) @ np.array([[1,0],[0,1]])"
   ]
  },
  {
   "cell_type": "markdown",
   "id": "2eb7b651-7097-4e72-b960-c74a792718d2",
   "metadata": {},
   "source": [
    "(2,1)로 사이즈를 명시해주고 계산하면 ㅔ러가 뜬다."
   ]
  },
  {
   "cell_type": "code",
   "execution_count": 30,
   "id": "8b921a46-2197-404d-9e9c-8d598485ae01",
   "metadata": {},
   "outputs": [
    {
     "data": {
      "text/plain": [
       "array([[ 77, -88]])"
      ]
     },
     "execution_count": 30,
     "metadata": {},
     "output_type": "execute_result"
    }
   ],
   "source": [
    " np.array([77,-88]).reshape(1,2) @ np.array([[1,0],[0,1]])"
   ]
  },
  {
   "cell_type": "markdown",
   "id": "e6a3bac2-7b1e-4b66-a09b-e85eea2b6572",
   "metadata": {},
   "source": [
    "tf.constant는 행, 열 구분 후 알아서 계산해주지 않는다."
   ]
  },
  {
   "cell_type": "markdown",
   "id": "21386286-1fcd-4f3a-a152-c6c11b313645",
   "metadata": {},
   "source": [
    "**tensorflow**"
   ]
  },
  {
   "cell_type": "code",
   "execution_count": 31,
   "id": "5ca347a0-21d5-4706-bde0-cde51f3e2352",
   "metadata": {},
   "outputs": [],
   "source": [
    "I = tf.constant([[1.0,0.0],[0.0,1.0]])\n",
    "x = tf.constant([77.0,-88.0])"
   ]
  },
  {
   "cell_type": "code",
   "execution_count": 32,
   "id": "8bc981a7-460b-426e-9342-db363aa25ecb",
   "metadata": {},
   "outputs": [
    {
     "ename": "InvalidArgumentError",
     "evalue": "In[0] and In[1] has different ndims: [2] vs. [2,2] [Op:MatMul]",
     "output_type": "error",
     "traceback": [
      "\u001b[0;31m---------------------------------------------------------------------------\u001b[0m",
      "\u001b[0;31mInvalidArgumentError\u001b[0m                      Traceback (most recent call last)",
      "Input \u001b[0;32mIn [32]\u001b[0m, in \u001b[0;36m<cell line: 1>\u001b[0;34m()\u001b[0m\n\u001b[0;32m----> 1\u001b[0m \u001b[43mx\u001b[49m\u001b[43m \u001b[49m\u001b[38;5;241;43m@\u001b[39;49m\u001b[43m \u001b[49m\u001b[43mI\u001b[49m\n",
      "File \u001b[0;32m~/anaconda3/envs/stbda2022/lib/python3.10/site-packages/tensorflow/python/util/traceback_utils.py:153\u001b[0m, in \u001b[0;36mfilter_traceback.<locals>.error_handler\u001b[0;34m(*args, **kwargs)\u001b[0m\n\u001b[1;32m    151\u001b[0m \u001b[38;5;28;01mexcept\u001b[39;00m \u001b[38;5;167;01mException\u001b[39;00m \u001b[38;5;28;01mas\u001b[39;00m e:\n\u001b[1;32m    152\u001b[0m   filtered_tb \u001b[38;5;241m=\u001b[39m _process_traceback_frames(e\u001b[38;5;241m.\u001b[39m__traceback__)\n\u001b[0;32m--> 153\u001b[0m   \u001b[38;5;28;01mraise\u001b[39;00m e\u001b[38;5;241m.\u001b[39mwith_traceback(filtered_tb) \u001b[38;5;28;01mfrom\u001b[39;00m \u001b[38;5;28mNone\u001b[39m\n\u001b[1;32m    154\u001b[0m \u001b[38;5;28;01mfinally\u001b[39;00m:\n\u001b[1;32m    155\u001b[0m   \u001b[38;5;28;01mdel\u001b[39;00m filtered_tb\n",
      "File \u001b[0;32m~/anaconda3/envs/stbda2022/lib/python3.10/site-packages/tensorflow/python/framework/ops.py:7107\u001b[0m, in \u001b[0;36mraise_from_not_ok_status\u001b[0;34m(e, name)\u001b[0m\n\u001b[1;32m   7105\u001b[0m \u001b[38;5;28;01mdef\u001b[39;00m \u001b[38;5;21mraise_from_not_ok_status\u001b[39m(e, name):\n\u001b[1;32m   7106\u001b[0m   e\u001b[38;5;241m.\u001b[39mmessage \u001b[38;5;241m+\u001b[39m\u001b[38;5;241m=\u001b[39m (\u001b[38;5;124m\"\u001b[39m\u001b[38;5;124m name: \u001b[39m\u001b[38;5;124m\"\u001b[39m \u001b[38;5;241m+\u001b[39m name \u001b[38;5;28;01mif\u001b[39;00m name \u001b[38;5;129;01mis\u001b[39;00m \u001b[38;5;129;01mnot\u001b[39;00m \u001b[38;5;28;01mNone\u001b[39;00m \u001b[38;5;28;01melse\u001b[39;00m \u001b[38;5;124m\"\u001b[39m\u001b[38;5;124m\"\u001b[39m)\n\u001b[0;32m-> 7107\u001b[0m   \u001b[38;5;28;01mraise\u001b[39;00m core\u001b[38;5;241m.\u001b[39m_status_to_exception(e) \u001b[38;5;28;01mfrom\u001b[39;00m \u001b[38;5;28mNone\u001b[39m\n",
      "\u001b[0;31mInvalidArgumentError\u001b[0m: In[0] and In[1] has different ndims: [2] vs. [2,2] [Op:MatMul]"
     ]
    }
   ],
   "source": [
    "x @ I"
   ]
  },
  {
   "cell_type": "code",
   "execution_count": 33,
   "id": "8658796f-0bf5-4dfd-b333-bfd1e3ca25be",
   "metadata": {},
   "outputs": [
    {
     "data": {
      "text/plain": [
       "<tf.Tensor: shape=(2,), dtype=float32, numpy=array([ 77., -88.], dtype=float32)>"
      ]
     },
     "execution_count": 33,
     "metadata": {},
     "output_type": "execute_result"
    }
   ],
   "source": [
    "x"
   ]
  },
  {
   "cell_type": "code",
   "execution_count": 34,
   "id": "74c8ae4a-06d8-4364-9a2a-2cf44ad4bfa3",
   "metadata": {},
   "outputs": [
    {
     "data": {
      "text/plain": [
       "<tf.Tensor: shape=(2, 2), dtype=float32, numpy=\n",
       "array([[1., 0.],\n",
       "       [0., 1.]], dtype=float32)>"
      ]
     },
     "execution_count": 34,
     "metadata": {},
     "output_type": "execute_result"
    }
   ],
   "source": [
    "I"
   ]
  },
  {
   "cell_type": "code",
   "execution_count": 35,
   "id": "e1adb3e1-a436-42ea-94a1-f320f5229db1",
   "metadata": {},
   "outputs": [
    {
     "data": {
      "text/plain": [
       "<function tensorflow.python.ops.array_ops.reshape(tensor, shape, name=None)>"
      ]
     },
     "execution_count": 35,
     "metadata": {},
     "output_type": "execute_result"
    }
   ],
   "source": [
    "tf.reshape"
   ]
  },
  {
   "cell_type": "code",
   "execution_count": 36,
   "id": "ff608925-2183-436f-becc-159968a8d211",
   "metadata": {},
   "outputs": [
    {
     "data": {
      "text/plain": [
       "<tf.Tensor: shape=(2,), dtype=float32, numpy=array([ 77., -88.], dtype=float32)>"
      ]
     },
     "execution_count": 36,
     "metadata": {},
     "output_type": "execute_result"
    }
   ],
   "source": [
    "tf.reshape(x,-1)"
   ]
  },
  {
   "cell_type": "code",
   "execution_count": 37,
   "id": "b3851e7e-6d4c-4651-b978-723ebbda775d",
   "metadata": {},
   "outputs": [
    {
     "data": {
      "text/plain": [
       "<tf.Tensor: shape=(2, 1), dtype=float32, numpy=\n",
       "array([[ 77.],\n",
       "       [-88.]], dtype=float32)>"
      ]
     },
     "execution_count": 37,
     "metadata": {},
     "output_type": "execute_result"
    }
   ],
   "source": [
    "I @ tf.reshape(x,(2,1))"
   ]
  },
  {
   "cell_type": "code",
   "execution_count": 38,
   "id": "a350fe7f-92a3-4eae-b125-37a07c527592",
   "metadata": {},
   "outputs": [
    {
     "ename": "InvalidArgumentError",
     "evalue": "Matrix size-incompatible: In[0]: [2,1], In[1]: [2,2] [Op:MatMul]",
     "output_type": "error",
     "traceback": [
      "\u001b[0;31m---------------------------------------------------------------------------\u001b[0m",
      "\u001b[0;31mInvalidArgumentError\u001b[0m                      Traceback (most recent call last)",
      "Input \u001b[0;32mIn [38]\u001b[0m, in \u001b[0;36m<cell line: 1>\u001b[0;34m()\u001b[0m\n\u001b[0;32m----> 1\u001b[0m \u001b[43mtf\u001b[49m\u001b[38;5;241;43m.\u001b[39;49m\u001b[43mreshape\u001b[49m\u001b[43m(\u001b[49m\u001b[43mx\u001b[49m\u001b[43m,\u001b[49m\u001b[43m(\u001b[49m\u001b[38;5;241;43m2\u001b[39;49m\u001b[43m,\u001b[49m\u001b[38;5;241;43m1\u001b[39;49m\u001b[43m)\u001b[49m\u001b[43m)\u001b[49m\u001b[43m \u001b[49m\u001b[38;5;241;43m@\u001b[39;49m\u001b[43m \u001b[49m\u001b[43mI\u001b[49m\n",
      "File \u001b[0;32m~/anaconda3/envs/stbda2022/lib/python3.10/site-packages/tensorflow/python/util/traceback_utils.py:153\u001b[0m, in \u001b[0;36mfilter_traceback.<locals>.error_handler\u001b[0;34m(*args, **kwargs)\u001b[0m\n\u001b[1;32m    151\u001b[0m \u001b[38;5;28;01mexcept\u001b[39;00m \u001b[38;5;167;01mException\u001b[39;00m \u001b[38;5;28;01mas\u001b[39;00m e:\n\u001b[1;32m    152\u001b[0m   filtered_tb \u001b[38;5;241m=\u001b[39m _process_traceback_frames(e\u001b[38;5;241m.\u001b[39m__traceback__)\n\u001b[0;32m--> 153\u001b[0m   \u001b[38;5;28;01mraise\u001b[39;00m e\u001b[38;5;241m.\u001b[39mwith_traceback(filtered_tb) \u001b[38;5;28;01mfrom\u001b[39;00m \u001b[38;5;28mNone\u001b[39m\n\u001b[1;32m    154\u001b[0m \u001b[38;5;28;01mfinally\u001b[39;00m:\n\u001b[1;32m    155\u001b[0m   \u001b[38;5;28;01mdel\u001b[39;00m filtered_tb\n",
      "File \u001b[0;32m~/anaconda3/envs/stbda2022/lib/python3.10/site-packages/tensorflow/python/framework/ops.py:7107\u001b[0m, in \u001b[0;36mraise_from_not_ok_status\u001b[0;34m(e, name)\u001b[0m\n\u001b[1;32m   7105\u001b[0m \u001b[38;5;28;01mdef\u001b[39;00m \u001b[38;5;21mraise_from_not_ok_status\u001b[39m(e, name):\n\u001b[1;32m   7106\u001b[0m   e\u001b[38;5;241m.\u001b[39mmessage \u001b[38;5;241m+\u001b[39m\u001b[38;5;241m=\u001b[39m (\u001b[38;5;124m\"\u001b[39m\u001b[38;5;124m name: \u001b[39m\u001b[38;5;124m\"\u001b[39m \u001b[38;5;241m+\u001b[39m name \u001b[38;5;28;01mif\u001b[39;00m name \u001b[38;5;129;01mis\u001b[39;00m \u001b[38;5;129;01mnot\u001b[39;00m \u001b[38;5;28;01mNone\u001b[39;00m \u001b[38;5;28;01melse\u001b[39;00m \u001b[38;5;124m\"\u001b[39m\u001b[38;5;124m\"\u001b[39m)\n\u001b[0;32m-> 7107\u001b[0m   \u001b[38;5;28;01mraise\u001b[39;00m core\u001b[38;5;241m.\u001b[39m_status_to_exception(e) \u001b[38;5;28;01mfrom\u001b[39;00m \u001b[38;5;28mNone\u001b[39m\n",
      "\u001b[0;31mInvalidArgumentError\u001b[0m: Matrix size-incompatible: In[0]: [2,1], In[1]: [2,2] [Op:MatMul]"
     ]
    }
   ],
   "source": [
    "tf.reshape(x,(2,1)) @ I"
   ]
  },
  {
   "cell_type": "markdown",
   "id": "7156cf5b-1691-4065-9eea-4330d59d415f",
   "metadata": {
    "id": "7156cf5b-1691-4065-9eea-4330d59d415f"
   },
   "source": [
    "---"
   ]
  },
  {
   "cell_type": "markdown",
   "id": "b31b964e-b494-40bf-b801-7b8b4000c60c",
   "metadata": {
    "id": "b31b964e-b494-40bf-b801-7b8b4000c60c"
   },
   "source": [
    "### tf.Variable"
   ]
  },
  {
   "cell_type": "markdown",
   "id": "7a6cf761-8eeb-49ea-b7c0-4371f868ce2a",
   "metadata": {
    "id": "7a6cf761-8eeb-49ea-b7c0-4371f868ce2a"
   },
   "source": [
    "#### 선언 "
   ]
  },
  {
   "cell_type": "markdown",
   "id": "e6f92c5c-3f74-4e5b-98b2-8c7f915bc056",
   "metadata": {
    "id": "e6f92c5c-3f74-4e5b-98b2-8c7f915bc056"
   },
   "source": [
    "`-` tf.Variable()로 선언"
   ]
  },
  {
   "cell_type": "code",
   "execution_count": 39,
   "id": "92a19727-911c-4ba2-8487-0e28bdd9af32",
   "metadata": {},
   "outputs": [
    {
     "data": {
      "text/plain": [
       "<tf.Variable 'Variable:0' shape=(4,) dtype=int32, numpy=array([1, 2, 3, 4], dtype=int32)>"
      ]
     },
     "execution_count": 39,
     "metadata": {},
     "output_type": "execute_result"
    }
   ],
   "source": [
    "tf.Variable([1,2,3,4])"
   ]
  },
  {
   "cell_type": "code",
   "execution_count": 40,
   "id": "7564662e-839a-44b7-9bec-11185f34f20c",
   "metadata": {},
   "outputs": [
    {
     "data": {
      "text/plain": [
       "<tf.Variable 'Variable:0' shape=(4,) dtype=float32, numpy=array([1., 2., 3., 4.], dtype=float32)>"
      ]
     },
     "execution_count": 40,
     "metadata": {},
     "output_type": "execute_result"
    }
   ],
   "source": [
    "tf.Variable([1.0,2.0,3.0,4.0])"
   ]
  },
  {
   "cell_type": "markdown",
   "id": "8aa59928-ab87-44af-820f-712aa05989a7",
   "metadata": {
    "id": "8aa59928-ab87-44af-820f-712aa05989a7"
   },
   "source": [
    "`-` tf.constant() 선언후 변환"
   ]
  },
  {
   "cell_type": "code",
   "execution_count": 41,
   "id": "69871ec7-3756-4f81-826d-3b3f550ba49b",
   "metadata": {},
   "outputs": [
    {
     "data": {
      "text/plain": [
       "tensorflow.python.ops.resource_variable_ops.ResourceVariable"
      ]
     },
     "execution_count": 41,
     "metadata": {},
     "output_type": "execute_result"
    }
   ],
   "source": [
    "_a = tf.Variable([1,2,3,4])\n",
    "type(_a)"
   ]
  },
  {
   "cell_type": "code",
   "execution_count": 42,
   "id": "29d03a9d-49e2-4bab-a685-86145d06e608",
   "metadata": {},
   "outputs": [
    {
     "data": {
      "text/plain": [
       "<tf.Variable 'Variable:0' shape=(4,) dtype=int32, numpy=array([1, 2, 3, 4], dtype=int32)>"
      ]
     },
     "execution_count": 42,
     "metadata": {},
     "output_type": "execute_result"
    }
   ],
   "source": [
    "tf.Variable(tf.constant([1,2,3,4]))"
   ]
  },
  {
   "cell_type": "markdown",
   "id": "37274037-f857-4c9f-9c00-0805a1be7952",
   "metadata": {
    "id": "37274037-f857-4c9f-9c00-0805a1be7952"
   },
   "source": [
    "`-` np 등으로 선언후 변환 "
   ]
  },
  {
   "cell_type": "code",
   "execution_count": 43,
   "id": "d77504e3-49ee-452a-9c47-1cbd6b0906de",
   "metadata": {},
   "outputs": [
    {
     "data": {
      "text/plain": [
       "<tf.Variable 'Variable:0' shape=(4,) dtype=int64, numpy=array([1, 2, 3, 4])>"
      ]
     },
     "execution_count": 43,
     "metadata": {},
     "output_type": "execute_result"
    }
   ],
   "source": [
    "tf.Variable(np.array([1,2,3,4]))"
   ]
  },
  {
   "cell_type": "markdown",
   "id": "4fb4ad1b-af3f-4d1b-8482-e0cb3635a97f",
   "metadata": {
    "id": "4fb4ad1b-af3f-4d1b-8482-e0cb3635a97f"
   },
   "source": [
    "#### 타입"
   ]
  },
  {
   "cell_type": "code",
   "execution_count": 44,
   "id": "205edbba-371a-4054-8776-7ba701dab903",
   "metadata": {},
   "outputs": [
    {
     "data": {
      "text/plain": [
       "tensorflow.python.framework.ops.EagerTensor"
      ]
     },
     "execution_count": 44,
     "metadata": {},
     "output_type": "execute_result"
    }
   ],
   "source": [
    "type(tf.constant([1,2,3,4]))"
   ]
  },
  {
   "cell_type": "markdown",
   "id": "df878b16-0e9a-41e7-b2c0-5a23045958dd",
   "metadata": {
    "id": "df878b16-0e9a-41e7-b2c0-5a23045958dd"
   },
   "source": [
    "#### 인덱싱 "
   ]
  },
  {
   "cell_type": "code",
   "execution_count": 45,
   "id": "725e151d-641a-4701-ad82-25cb0ff3e1ff",
   "metadata": {},
   "outputs": [
    {
     "data": {
      "text/plain": [
       "<tf.Variable 'Variable:0' shape=(4,) dtype=int32, numpy=array([1, 2, 3, 4], dtype=int32)>"
      ]
     },
     "execution_count": 45,
     "metadata": {},
     "output_type": "execute_result"
    }
   ],
   "source": [
    "a = tf.Variable([1,2,3,4])\n",
    "a"
   ]
  },
  {
   "cell_type": "code",
   "execution_count": 46,
   "id": "368a5c01-a3a9-4fa8-8a41-c5cbe1d6a35d",
   "metadata": {},
   "outputs": [
    {
     "data": {
      "text/plain": [
       "<tf.Tensor: shape=(2,), dtype=int32, numpy=array([1, 2], dtype=int32)>"
      ]
     },
     "execution_count": 46,
     "metadata": {},
     "output_type": "execute_result"
    }
   ],
   "source": [
    "a[:2]"
   ]
  },
  {
   "cell_type": "code",
   "execution_count": 47,
   "id": "818fb10c-a500-4e6e-bc00-63780081932e",
   "metadata": {},
   "outputs": [
    {
     "data": {
      "text/plain": [
       "tensorflow.python.framework.ops.EagerTensor"
      ]
     },
     "execution_count": 47,
     "metadata": {},
     "output_type": "execute_result"
    }
   ],
   "source": [
    "type(a[:2]) # tf.constant랑 같은 타입"
   ]
  },
  {
   "cell_type": "markdown",
   "id": "42dac5a0-e799-4edb-b620-646413aaaa0b",
   "metadata": {
    "id": "42dac5a0-e799-4edb-b620-646413aaaa0b",
    "tags": []
   },
   "source": [
    "#### 연산가능 "
   ]
  },
  {
   "cell_type": "code",
   "execution_count": 48,
   "id": "c6cabb2f-81f8-4dd2-a959-f2fa1933096a",
   "metadata": {},
   "outputs": [],
   "source": [
    "a = tf.Variable([1,2,3,4])\n",
    "b = -a"
   ]
  },
  {
   "cell_type": "code",
   "execution_count": 49,
   "id": "5c210269-4d37-4309-8867-9bbf09beef76",
   "metadata": {},
   "outputs": [
    {
     "data": {
      "text/plain": [
       "tensorflow.python.framework.ops.EagerTensor"
      ]
     },
     "execution_count": 49,
     "metadata": {},
     "output_type": "execute_result"
    }
   ],
   "source": [
    "type(b)"
   ]
  },
  {
   "cell_type": "markdown",
   "id": "76f58eed-d480-4d0b-b01e-dd2b1d35f9c7",
   "metadata": {},
   "source": [
    "b는 constant와 같은 자료형으로 정의"
   ]
  },
  {
   "cell_type": "code",
   "execution_count": 50,
   "id": "4664934d-c3a2-4623-b1b8-51f47c6b69d5",
   "metadata": {},
   "outputs": [],
   "source": [
    "a = tf.Variable([1,2,3,4])\n",
    "b = tf.Variable([-1,-2,-3,-4])"
   ]
  },
  {
   "cell_type": "code",
   "execution_count": 51,
   "id": "d34006a6-82ec-4bfa-b6b9-3d3dd22496ff",
   "metadata": {},
   "outputs": [
    {
     "data": {
      "text/plain": [
       "tensorflow.python.ops.resource_variable_ops.ResourceVariable"
      ]
     },
     "execution_count": 51,
     "metadata": {},
     "output_type": "execute_result"
    }
   ],
   "source": [
    "type(a)"
   ]
  },
  {
   "cell_type": "code",
   "execution_count": 52,
   "id": "a7547c18-05ff-43cf-a5ca-d94894abc1f9",
   "metadata": {},
   "outputs": [
    {
     "data": {
      "text/plain": [
       "tensorflow.python.ops.resource_variable_ops.ResourceVariable"
      ]
     },
     "execution_count": 52,
     "metadata": {},
     "output_type": "execute_result"
    }
   ],
   "source": [
    "type(b)"
   ]
  },
  {
   "cell_type": "code",
   "execution_count": 53,
   "id": "f95c3184-9ee3-4d6b-9bb3-154cc652e11a",
   "metadata": {},
   "outputs": [
    {
     "data": {
      "text/plain": [
       "<tf.Tensor: shape=(4,), dtype=int32, numpy=array([0, 0, 0, 0], dtype=int32)>"
      ]
     },
     "execution_count": 53,
     "metadata": {},
     "output_type": "execute_result"
    }
   ],
   "source": [
    "a+b"
   ]
  },
  {
   "cell_type": "code",
   "execution_count": 54,
   "id": "00647741-8564-4ff3-aa1c-53000d5cbf74",
   "metadata": {},
   "outputs": [
    {
     "data": {
      "text/plain": [
       "tensorflow.python.framework.ops.EagerTensor"
      ]
     },
     "execution_count": 54,
     "metadata": {},
     "output_type": "execute_result"
    }
   ],
   "source": [
    "type(a+b)"
   ]
  },
  {
   "cell_type": "markdown",
   "id": "2a8e427e-8543-4cb8-890d-81448d065e34",
   "metadata": {},
   "source": [
    "연산하니 자료형이 바뀐다."
   ]
  },
  {
   "cell_type": "markdown",
   "id": "48cfd854-3043-4cad-b6c2-7f65f057e6ed",
   "metadata": {
    "id": "48cfd854-3043-4cad-b6c2-7f65f057e6ed"
   },
   "source": [
    "#### tf.Variable도 쓰기 불편함 "
   ]
  },
  {
   "cell_type": "code",
   "execution_count": 55,
   "id": "204b1378-19d1-4112-a9e3-0577feeecb0b",
   "metadata": {},
   "outputs": [
    {
     "ename": "InvalidArgumentError",
     "evalue": "cannot compute AddV2 as input #1(zero-based) was expected to be a int32 tensor but is a float tensor [Op:AddV2]",
     "output_type": "error",
     "traceback": [
      "\u001b[0;31m---------------------------------------------------------------------------\u001b[0m",
      "\u001b[0;31mInvalidArgumentError\u001b[0m                      Traceback (most recent call last)",
      "Input \u001b[0;32mIn [55]\u001b[0m, in \u001b[0;36m<cell line: 1>\u001b[0;34m()\u001b[0m\n\u001b[0;32m----> 1\u001b[0m \u001b[43mtf\u001b[49m\u001b[38;5;241;43m.\u001b[39;49m\u001b[43mVariable\u001b[49m\u001b[43m(\u001b[49m\u001b[43m[\u001b[49m\u001b[38;5;241;43m1\u001b[39;49m\u001b[43m,\u001b[49m\u001b[38;5;241;43m2\u001b[39;49m\u001b[43m]\u001b[49m\u001b[43m)\u001b[49m\u001b[43m \u001b[49m\u001b[38;5;241;43m+\u001b[39;49m\u001b[43m \u001b[49m\u001b[43mtf\u001b[49m\u001b[38;5;241;43m.\u001b[39;49m\u001b[43mVariable\u001b[49m\u001b[43m(\u001b[49m\u001b[43m[\u001b[49m\u001b[38;5;241;43m3.14\u001b[39;49m\u001b[43m,\u001b[49m\u001b[38;5;241;43m3.14\u001b[39;49m\u001b[43m]\u001b[49m\u001b[43m)\u001b[49m\n",
      "File \u001b[0;32m~/anaconda3/envs/stbda2022/lib/python3.10/site-packages/tensorflow/python/ops/variables.py:1078\u001b[0m, in \u001b[0;36mVariable._OverloadOperator.<locals>._run_op\u001b[0;34m(a, *args, **kwargs)\u001b[0m\n\u001b[1;32m   1076\u001b[0m \u001b[38;5;28;01mdef\u001b[39;00m \u001b[38;5;21m_run_op\u001b[39m(a, \u001b[38;5;241m*\u001b[39margs, \u001b[38;5;241m*\u001b[39m\u001b[38;5;241m*\u001b[39mkwargs):\n\u001b[1;32m   1077\u001b[0m   \u001b[38;5;66;03m# pylint: disable=protected-access\u001b[39;00m\n\u001b[0;32m-> 1078\u001b[0m   \u001b[38;5;28;01mreturn\u001b[39;00m \u001b[43mtensor_oper\u001b[49m\u001b[43m(\u001b[49m\u001b[43ma\u001b[49m\u001b[38;5;241;43m.\u001b[39;49m\u001b[43mvalue\u001b[49m\u001b[43m(\u001b[49m\u001b[43m)\u001b[49m\u001b[43m,\u001b[49m\u001b[43m \u001b[49m\u001b[38;5;241;43m*\u001b[39;49m\u001b[43margs\u001b[49m\u001b[43m,\u001b[49m\u001b[43m \u001b[49m\u001b[38;5;241;43m*\u001b[39;49m\u001b[38;5;241;43m*\u001b[39;49m\u001b[43mkwargs\u001b[49m\u001b[43m)\u001b[49m\n",
      "File \u001b[0;32m~/anaconda3/envs/stbda2022/lib/python3.10/site-packages/tensorflow/python/util/traceback_utils.py:153\u001b[0m, in \u001b[0;36mfilter_traceback.<locals>.error_handler\u001b[0;34m(*args, **kwargs)\u001b[0m\n\u001b[1;32m    151\u001b[0m \u001b[38;5;28;01mexcept\u001b[39;00m \u001b[38;5;167;01mException\u001b[39;00m \u001b[38;5;28;01mas\u001b[39;00m e:\n\u001b[1;32m    152\u001b[0m   filtered_tb \u001b[38;5;241m=\u001b[39m _process_traceback_frames(e\u001b[38;5;241m.\u001b[39m__traceback__)\n\u001b[0;32m--> 153\u001b[0m   \u001b[38;5;28;01mraise\u001b[39;00m e\u001b[38;5;241m.\u001b[39mwith_traceback(filtered_tb) \u001b[38;5;28;01mfrom\u001b[39;00m \u001b[38;5;28mNone\u001b[39m\n\u001b[1;32m    154\u001b[0m \u001b[38;5;28;01mfinally\u001b[39;00m:\n\u001b[1;32m    155\u001b[0m   \u001b[38;5;28;01mdel\u001b[39;00m filtered_tb\n",
      "File \u001b[0;32m~/anaconda3/envs/stbda2022/lib/python3.10/site-packages/tensorflow/python/framework/ops.py:7107\u001b[0m, in \u001b[0;36mraise_from_not_ok_status\u001b[0;34m(e, name)\u001b[0m\n\u001b[1;32m   7105\u001b[0m \u001b[38;5;28;01mdef\u001b[39;00m \u001b[38;5;21mraise_from_not_ok_status\u001b[39m(e, name):\n\u001b[1;32m   7106\u001b[0m   e\u001b[38;5;241m.\u001b[39mmessage \u001b[38;5;241m+\u001b[39m\u001b[38;5;241m=\u001b[39m (\u001b[38;5;124m\"\u001b[39m\u001b[38;5;124m name: \u001b[39m\u001b[38;5;124m\"\u001b[39m \u001b[38;5;241m+\u001b[39m name \u001b[38;5;28;01mif\u001b[39;00m name \u001b[38;5;129;01mis\u001b[39;00m \u001b[38;5;129;01mnot\u001b[39;00m \u001b[38;5;28;01mNone\u001b[39;00m \u001b[38;5;28;01melse\u001b[39;00m \u001b[38;5;124m\"\u001b[39m\u001b[38;5;124m\"\u001b[39m)\n\u001b[0;32m-> 7107\u001b[0m   \u001b[38;5;28;01mraise\u001b[39;00m core\u001b[38;5;241m.\u001b[39m_status_to_exception(e) \u001b[38;5;28;01mfrom\u001b[39;00m \u001b[38;5;28mNone\u001b[39m\n",
      "\u001b[0;31mInvalidArgumentError\u001b[0m: cannot compute AddV2 as input #1(zero-based) was expected to be a int32 tensor but is a float tensor [Op:AddV2]"
     ]
    }
   ],
   "source": [
    "tf.Variable([1,2]) + tf.Variable([3.14,3.14])"
   ]
  },
  {
   "cell_type": "markdown",
   "id": "aac0b534-be7c-4e69-a773-96c238a6cb2f",
   "metadata": {},
   "source": [
    "에러나"
   ]
  },
  {
   "cell_type": "markdown",
   "id": "046387c9-51af-4ed1-9a2e-46f46d2f422e",
   "metadata": {
    "id": "046387c9-51af-4ed1-9a2e-46f46d2f422e"
   },
   "source": [
    "#### tnp의 은총도 일부만 가능 "
   ]
  },
  {
   "cell_type": "code",
   "execution_count": 56,
   "id": "03ff9719-1da3-4954-8c7b-e191ea1be91c",
   "metadata": {},
   "outputs": [],
   "source": [
    "import tensorflow.experimental.numpy as tnp\n",
    "tnp.experimental_enable_numpy_behavior()"
   ]
  },
  {
   "cell_type": "markdown",
   "id": "ad3ab170-eac6-4af4-aee3-4a555ed52748",
   "metadata": {
    "id": "ad3ab170-eac6-4af4-aee3-4a555ed52748"
   },
   "source": [
    "`-` 알아서 형 변환 "
   ]
  },
  {
   "cell_type": "code",
   "execution_count": 57,
   "id": "84bdfc35-6194-493a-81a5-00266a35cca8",
   "metadata": {},
   "outputs": [
    {
     "data": {
      "text/plain": [
       "<tf.Tensor: shape=(2,), dtype=float64, numpy=array([4.1400001, 5.1400001])>"
      ]
     },
     "execution_count": 57,
     "metadata": {},
     "output_type": "execute_result"
    }
   ],
   "source": [
    "tf.Variable([1,2]) + tf.Variable([3.14,3.14])"
   ]
  },
  {
   "cell_type": "markdown",
   "id": "f693036e-611f-439c-9338-4d24c8359854",
   "metadata": {
    "id": "f693036e-611f-439c-9338-4d24c8359854"
   },
   "source": [
    "`-` .reshape 메소드 "
   ]
  },
  {
   "cell_type": "code",
   "execution_count": 58,
   "id": "95d0a122-9c64-4eed-ba16-5b210168d9bd",
   "metadata": {},
   "outputs": [
    {
     "ename": "AttributeError",
     "evalue": "'ResourceVariable' object has no attribute 'reshape'",
     "output_type": "error",
     "traceback": [
      "\u001b[0;31m---------------------------------------------------------------------------\u001b[0m",
      "\u001b[0;31mAttributeError\u001b[0m                            Traceback (most recent call last)",
      "Input \u001b[0;32mIn [58]\u001b[0m, in \u001b[0;36m<cell line: 1>\u001b[0;34m()\u001b[0m\n\u001b[0;32m----> 1\u001b[0m \u001b[43mtf\u001b[49m\u001b[38;5;241;43m.\u001b[39;49m\u001b[43mVariable\u001b[49m\u001b[43m(\u001b[49m\u001b[43m[\u001b[49m\u001b[38;5;241;43m1\u001b[39;49m\u001b[43m,\u001b[49m\u001b[38;5;241;43m2\u001b[39;49m\u001b[43m,\u001b[49m\u001b[38;5;241;43m3\u001b[39;49m\u001b[43m,\u001b[49m\u001b[38;5;241;43m4\u001b[39;49m\u001b[43m]\u001b[49m\u001b[43m)\u001b[49m\u001b[38;5;241;43m.\u001b[39;49m\u001b[43mreshape\u001b[49m(\u001b[38;5;241m2\u001b[39m,\u001b[38;5;241m2\u001b[39m)\n",
      "\u001b[0;31mAttributeError\u001b[0m: 'ResourceVariable' object has no attribute 'reshape'"
     ]
    }
   ],
   "source": [
    "tf.Variable([1,2,3,4]).reshape(2,2)"
   ]
  },
  {
   "cell_type": "markdown",
   "id": "f9b84192-d0c4-4728-a793-bd08f813eead",
   "metadata": {},
   "source": [
    "이건 tnp에서 되지 않음"
   ]
  },
  {
   "cell_type": "markdown",
   "id": "35d26c06-f0d7-4fb8-a2c7-2157f93320fd",
   "metadata": {
    "id": "35d26c06-f0d7-4fb8-a2c7-2157f93320fd"
   },
   "source": [
    "#### 대부분의 동작은 tf.constant랑 큰 차이를 모르겠음 "
   ]
  },
  {
   "cell_type": "markdown",
   "id": "1e7a0d88-1530-4265-bf1b-9ed4649f8154",
   "metadata": {
    "id": "1e7a0d88-1530-4265-bf1b-9ed4649f8154"
   },
   "source": [
    "`-` tf.concat "
   ]
  },
  {
   "cell_type": "markdown",
   "id": "ff6355c1-7135-4eca-a0cf-410283e8ba4a",
   "metadata": {},
   "source": [
    "자료형 변환 안 되게 각각 선언해주기"
   ]
  },
  {
   "cell_type": "code",
   "execution_count": 59,
   "id": "6caa9aad-8e11-455d-b38b-b7193e7e574c",
   "metadata": {},
   "outputs": [
    {
     "data": {
      "text/plain": [
       "<tf.Tensor: shape=(4, 2), dtype=int32, numpy=\n",
       "array([[ 1,  2],\n",
       "       [ 3,  4],\n",
       "       [-1, -2],\n",
       "       [-3, -4]], dtype=int32)>"
      ]
     },
     "execution_count": 59,
     "metadata": {},
     "output_type": "execute_result"
    }
   ],
   "source": [
    "a = tf.Variable([[1,2],[3,4]])\n",
    "b = tf.Variable([[-1,-2],[-3,-4]])\n",
    "tf.concat([a,b],axis=0)"
   ]
  },
  {
   "cell_type": "markdown",
   "id": "048f1127-5797-4406-b40e-355915edf855",
   "metadata": {},
   "source": [
    "어 tensor네"
   ]
  },
  {
   "cell_type": "markdown",
   "id": "1e88e171-d011-4a6b-8df1-82b271e7c3e3",
   "metadata": {
    "id": "1e88e171-d011-4a6b-8df1-82b271e7c3e3"
   },
   "source": [
    "`-` tf.stack"
   ]
  },
  {
   "cell_type": "code",
   "execution_count": 60,
   "id": "6af90ba5-7819-4b54-86d2-79c4529d14cf",
   "metadata": {},
   "outputs": [
    {
     "data": {
      "text/plain": [
       "<tf.Tensor: shape=(2, 2, 2), dtype=int32, numpy=\n",
       "array([[[ 1,  2],\n",
       "        [ 3,  4]],\n",
       "\n",
       "       [[-1, -2],\n",
       "        [-3, -4]]], dtype=int32)>"
      ]
     },
     "execution_count": 60,
     "metadata": {},
     "output_type": "execute_result"
    }
   ],
   "source": [
    "a = tf.Variable([[1,2],[3,4]])\n",
    "b = tf.Variable([[-1,-2],[-3,-4]])\n",
    "tf.stack([a,b],axis=0)"
   ]
  },
  {
   "cell_type": "markdown",
   "id": "4331a3b7-d371-4725-b105-45c68585a21d",
   "metadata": {},
   "source": [
    "- 연산하면 바뀌는 자료형 "
   ]
  },
  {
   "cell_type": "markdown",
   "id": "606c7880-74df-45b6-88ae-ca27e2f04058",
   "metadata": {
    "id": "606c7880-74df-45b6-88ae-ca27e2f04058",
    "tags": []
   },
   "source": [
    "#### 변수값변경가능(?)"
   ]
  },
  {
   "cell_type": "code",
   "execution_count": 61,
   "id": "44a75d52-c887-4065-a82f-2ec299ecaca7",
   "metadata": {},
   "outputs": [
    {
     "data": {
      "text/plain": [
       "139930265272560"
      ]
     },
     "execution_count": 61,
     "metadata": {},
     "output_type": "execute_result"
    }
   ],
   "source": [
    "a=1\n",
    "id(a)"
   ]
  },
  {
   "cell_type": "code",
   "execution_count": 62,
   "id": "97a8cb7b-2a2f-4e86-b062-c4b06998e6ef",
   "metadata": {},
   "outputs": [
    {
     "data": {
      "text/plain": [
       "139930265273968"
      ]
     },
     "execution_count": 62,
     "metadata": {},
     "output_type": "execute_result"
    }
   ],
   "source": [
    "a=45\n",
    "id(a)"
   ]
  },
  {
   "cell_type": "markdown",
   "id": "765563a8-09f7-4890-b2ee-446a48eaa4c5",
   "metadata": {},
   "source": [
    "1이라고 저장되었던 a를 다시 값을 주면 재할당의 개념.\n",
    "- 메모리 주소가 바뀐 것.\n",
    "- 주소가 같다면 편집의 개념이 되겠지\n",
    "- tf.constant 로 할당해주면 메모리 주소에 있는 것을 바꿀 수 없다.(불변!)\n",
    "- 가변형을 만들어야 하는 이유..\n",
    "    - 불변형을 여러개 쓰면 메모리가 많이 필요\n",
    "    - 한정된 변수 개수를 가지고 있다면 더 힘들어\n",
    "- GPU에 올릴 파라메터, 이는 가변.\n",
    "- 관찰값이 많은 것은 상관없어, 파라메터가 문제"
   ]
  },
  {
   "cell_type": "code",
   "execution_count": 63,
   "id": "27ab62f3-f5cd-45ef-af8f-e4c638a7639e",
   "metadata": {},
   "outputs": [
    {
     "data": {
      "text/plain": [
       "139920775946272"
      ]
     },
     "execution_count": 63,
     "metadata": {},
     "output_type": "execute_result"
    }
   ],
   "source": [
    "a = tf.Variable([1,2,3,4])\n",
    "id(a)"
   ]
  },
  {
   "cell_type": "code",
   "execution_count": 64,
   "id": "688b95d6-d8d7-4153-8283-71b5c6f07970",
   "metadata": {},
   "outputs": [
    {
     "data": {
      "text/plain": [
       "139920775946272"
      ]
     },
     "execution_count": 64,
     "metadata": {},
     "output_type": "execute_result"
    }
   ],
   "source": [
    "a.assign_add([-1,-2,-3,-4])\n",
    "id(a)"
   ]
  },
  {
   "cell_type": "markdown",
   "id": "bc8649d9-00b2-4df8-829c-312468d6af68",
   "metadata": {},
   "source": [
    "메모리 주소 같은 모습"
   ]
  },
  {
   "cell_type": "markdown",
   "id": "264f0720-86d9-4adb-8b5c-c874c39f9070",
   "metadata": {
    "id": "264f0720-86d9-4adb-8b5c-c874c39f9070"
   },
   "source": [
    "#### 요약 "
   ]
  },
  {
   "cell_type": "markdown",
   "id": "0ca9f2f8-675d-487f-9dec-841526089ab8",
   "metadata": {
    "id": "0ca9f2f8-675d-487f-9dec-841526089ab8"
   },
   "source": [
    "`-` tf.Variable()로 만들어야 하는 뚜렷한 차이는 모르겠음. "
   ]
  },
  {
   "cell_type": "markdown",
   "id": "aa82b8fe-ad0c-4df7-b822-11c4377d404c",
   "metadata": {
    "id": "aa82b8fe-ad0c-4df7-b822-11c4377d404c"
   },
   "source": [
    "`-` 애써 tf.Variable()로 만들어도 간단한연산을 하면 그 결과는 tf.constant()로 만든 오브젝트와 동일해짐. \n",
    "- GPU에 메모리를 많이 올리지 않기 위해,"
   ]
  },
  {
   "cell_type": "markdown",
   "id": "1d4a3d56-1b55-48ee-8095-e33dc5911683",
   "metadata": {
    "id": "1d4a3d56-1b55-48ee-8095-e33dc5911683",
    "tags": []
   },
   "source": [
    "### 미분 "
   ]
  },
  {
   "cell_type": "markdown",
   "id": "a0371156-ef78-4779-b141-3aaae848c1b1",
   "metadata": {
    "id": "a0371156-ef78-4779-b141-3aaae848c1b1"
   },
   "source": [
    "#### 모티브"
   ]
  },
  {
   "cell_type": "markdown",
   "id": "1bae6965-67e9-4dba-9816-c73e5d3016fb",
   "metadata": {
    "id": "1bae6965-67e9-4dba-9816-c73e5d3016fb"
   },
   "source": [
    "`-` 예제: 컴퓨터를 이용하여 $x=2$에서 $y=3x^2$의 접선의 기울기를 구해보자. "
   ]
  },
  {
   "cell_type": "markdown",
   "id": "375de602-d71a-43f7-abd0-97a03c17e329",
   "metadata": {
    "id": "375de602-d71a-43f7-abd0-97a03c17e329"
   },
   "source": [
    "#### tf.GradientTape() 사용방법 "
   ]
  },
  {
   "cell_type": "markdown",
   "id": "9e09137f-970b-4f0f-a706-7586cf507d4c",
   "metadata": {
    "id": "9e09137f-970b-4f0f-a706-7586cf507d4c"
   },
   "source": [
    "`-` 예제1: $x=2$에서 $y=3x^2$의 도함수값을 구하라. "
   ]
  },
  {
   "cell_type": "markdown",
   "id": "51a61b06-cf87-4943-903f-ba221d7f73d9",
   "metadata": {
    "id": "51a61b06-cf87-4943-903f-ba221d7f73d9"
   },
   "source": [
    "`-` 예제2: 조금 다른예제 "
   ]
  },
  {
   "cell_type": "markdown",
   "id": "cd618c28-6df3-42dd-84d2-2260a8338293",
   "metadata": {
    "id": "cd618c28-6df3-42dd-84d2-2260a8338293"
   },
   "source": [
    "`-` 테이프의 개념 ($\\star$)"
   ]
  },
  {
   "cell_type": "markdown",
   "id": "1a3b10c6-2ce1-4161-ae1a-661d3da4b209",
   "metadata": {
    "id": "1a3b10c6-2ce1-4161-ae1a-661d3da4b209"
   },
   "source": [
    "(상황) \n",
    "\n",
    "우리가 어려운 미분계산을 컴퓨터에게 부탁하는 상황임. (예를들면 $y=3x^2$) 컴퓨터에게 부탁을 하기 위해서는 연습장(=테이프)에 $y=3x^2$이라는 수식을 써서 보여줘야하는데 이때 컴퓨터에게 target이 무엇인지 그리고 무엇으로 미분하고 싶은 것인지를 명시해야함. \n",
    "\n",
    "(1) `mytape = tf.GradientTape()`: \n",
    "\n",
    "(2) `mytape.__enter__()`: \n",
    "\n",
    "(3) `a=x/2*3; y=a*x**2`: \n",
    "\n",
    "(4) `mytape.__exit__(None,None,None)`:\n",
    "\n",
    "(5) `mytape.gradient(y,x)`: "
   ]
  },
  {
   "cell_type": "markdown",
   "id": "e1f2ac28-a707-4128-90a8-d4b01019e86f",
   "metadata": {
    "id": "e1f2ac28-a707-4128-90a8-d4b01019e86f"
   },
   "source": [
    "`-` 예제3: 연습장을 언제 열고 닫을지 결정하는건 중요하다. "
   ]
  },
  {
   "cell_type": "markdown",
   "id": "cb9efd6b-b591-44f2-b424-1689e2014181",
   "metadata": {
    "id": "cb9efd6b-b591-44f2-b424-1689e2014181"
   },
   "source": [
    "`-` 예제4: with문과 함께 쓰는 tf.GradientTape()"
   ]
  },
  {
   "cell_type": "markdown",
   "id": "102bdfc3-3585-405d-bbd3-e46c15ed506e",
   "metadata": {
    "id": "102bdfc3-3585-405d-bbd3-e46c15ed506e"
   },
   "source": [
    "`-` 예제5: 예제2를 with문과 함께 구현 "
   ]
  },
  {
   "cell_type": "markdown",
   "id": "5bbb104c-3369-486c-93a3-42972f942632",
   "metadata": {
    "id": "5bbb104c-3369-486c-93a3-42972f942632"
   },
   "source": [
    "`-` 예제6: persistent = True"
   ]
  },
  {
   "cell_type": "markdown",
   "id": "2260fd24-e15c-4ebc-a69d-3d3b5aa4eb9e",
   "metadata": {
    "id": "2260fd24-e15c-4ebc-a69d-3d3b5aa4eb9e"
   },
   "source": [
    "`-` 예제7: watch"
   ]
  },
  {
   "cell_type": "markdown",
   "id": "9f986c92-cfb4-42ba-81f3-e01d89bb954f",
   "metadata": {
    "id": "9f986c92-cfb4-42ba-81f3-e01d89bb954f"
   },
   "source": [
    "`-` 예제9: 카페예제로 돌아오자. "
   ]
  },
  {
   "cell_type": "markdown",
   "id": "1d323f71-8b05-49a7-822f-bee6e15e2557",
   "metadata": {
    "id": "1d323f71-8b05-49a7-822f-bee6e15e2557"
   },
   "source": [
    "`-` 예제10: 카페예제의 매트릭스 버전 "
   ]
  },
  {
   "cell_type": "markdown",
   "id": "c0fe0673-8daa-4362-ae0d-51f93efd13d2",
   "metadata": {
    "id": "c0fe0673-8daa-4362-ae0d-51f93efd13d2"
   },
   "source": [
    "`-` 예제11: 위의 예제에서 이론적인 $\\boldsymbol{\\beta}$의 최적값을 찾아보고 (즉 $\\hat{\\boldsymbol{\\beta}}$을 찾고) 그곳에서 loss의 미분을 구하라. 구한결과가 $\\begin{bmatrix}0 \\\\ 0 \\end{bmatrix}$ 임을 확인하라. "
   ]
  }
 ],
 "metadata": {
  "colab": {
   "name": "2022-03-21-(3주차) 3월21일.ipynb",
   "provenance": []
  },
  "kernelspec": {
   "display_name": "Python 3 (ipykernel)",
   "language": "python",
   "name": "python3"
  },
  "language_info": {
   "codemirror_mode": {
    "name": "ipython",
    "version": 3
   },
   "file_extension": ".py",
   "mimetype": "text/x-python",
   "name": "python",
   "nbconvert_exporter": "python",
   "pygments_lexer": "ipython3",
   "version": "3.10.0"
  }
 },
 "nbformat": 4,
 "nbformat_minor": 5
}
