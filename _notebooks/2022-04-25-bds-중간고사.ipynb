{
 "cells": [
  {
   "cell_type": "markdown",
   "id": "a649de31-52c1-433a-9f73-212ff720832a",
   "metadata": {
    "tags": []
   },
   "source": [
    "# 빅데이터분석 특강 중간고사"
   ]
  },
  {
   "cell_type": "code",
   "execution_count": 2,
   "id": "a05d1125-708a-4485-92a7-75d22b4a90fc",
   "metadata": {},
   "outputs": [],
   "source": [
    "import numpy as np\n",
    "import tensorflow as tf \n",
    "import tensorflow.experimental.numpy as tnp "
   ]
  },
  {
   "cell_type": "code",
   "execution_count": 3,
   "id": "d18e1f6b-45d7-427c-8c84-9274f2ea341d",
   "metadata": {},
   "outputs": [],
   "source": [
    "tnp.experimental_enable_numpy_behavior()"
   ]
  },
  {
   "cell_type": "code",
   "execution_count": 4,
   "id": "87906483-47e5-408e-bcb7-ce0bcb1fad5b",
   "metadata": {},
   "outputs": [],
   "source": [
    "import matplotlib.pyplot as plt "
   ]
  },
  {
   "cell_type": "markdown",
   "id": "13f70088-339a-48c7-927b-1e039fe43b62",
   "metadata": {},
   "source": [
    "## `1`. 경사하강법과 tf.GradientTape()의 사용방법 (30점)"
   ]
  },
  {
   "cell_type": "markdown",
   "id": "1bf2e145-d18c-4006-93a0-c4e9f5f91d94",
   "metadata": {},
   "source": [
    "`(1)` 아래는 $X_i \\overset{iid}{\\sim} N(3,2^2)$ 를 생성하는 코드이다. "
   ]
  },
  {
   "cell_type": "code",
   "execution_count": 5,
   "id": "62c4c5bb-1c84-4d08-9a8c-0f56ac31fc7a",
   "metadata": {},
   "outputs": [
    {
     "data": {
      "text/plain": [
       "<tf.Tensor: shape=(10000,), dtype=float64, numpy=\n",
       "array([ 4.12539849,  5.46696729,  5.27243374, ...,  2.89712332,\n",
       "        5.01072291, -1.13050477])>"
      ]
     },
     "execution_count": 5,
     "metadata": {},
     "output_type": "execute_result"
    }
   ],
   "source": [
    "tf.random.set_seed(43052)\n",
    "x= tnp.random.randn(10000)*2+3\n",
    "x"
   ]
  },
  {
   "cell_type": "markdown",
   "id": "4266f989-9bc3-4bb6-ae0a-5bde6f7fa489",
   "metadata": {},
   "source": [
    "함수 $L(\\mu,\\sigma)$을 최대화하는 $(\\mu,\\sigma)$를 `tf.GradeintTape()`를 활용하여 추정하라. (경사하강법 혹은 경사상승법을 사용하고 $\\mu$의 초기값은 2로 $\\sigma$의 초기값은 3으로 설정할 것) \n",
    "\n",
    "$$L(\\mu,\\sigma)=\\prod_{i=1}^{n}f(x_i), \\quad f(x_i)=\\frac{1}{\\sqrt{2\\pi}\\sigma}e^{-\\frac{1}{2}(\\frac{x_i-\\mu}{\\sigma})^2}$$"
   ]
  },
  {
   "cell_type": "markdown",
   "id": "a6552f53-0e6b-4e40-ba14-15f9e8b4be62",
   "metadata": {},
   "source": [
    "$\\log L = \\log \\prod_{i=1}^{n}f(x_i) $\n",
    "\n",
    "$= \\sum^{10000}_{i=1} \\big \\{ -\\frac{1}{2} \\log(2\\pi \\sigma^2) - \\frac{(x_i - \\mu)^2}{2\\sigma^2} \\big \\}$\n",
    "\n",
    "$= \\frac{10000}{2}\\log (2\\pi \\sigma^2) - \\frac{1}{2\\sigma^2} \\sum^{10000}_{i=1} (x_i - \\mu)^2$"
   ]
  },
  {
   "cell_type": "markdown",
   "id": "7e877841-ff87-4115-9496-e8cfa8f1d610",
   "metadata": {},
   "source": [
    "L이 최대가 된다는 것은 $e^{-\\frac{1}{2}(\\frac{x_i-\\mu}{\\sigma})^2}$가 최대가 된다는 뜻이고, 이는 $\\frac{x_i-\\mu}{\\sigma}$가 최소가 된다는 뜻 $\\to$ 경사하강법"
   ]
  },
  {
   "cell_type": "code",
   "execution_count": 6,
   "id": "9e394e6a-161e-417c-b231-c94b60a34fb5",
   "metadata": {},
   "outputs": [],
   "source": [
    "mu = tf.Variable(2.0)\n",
    "sigma = tf.Variable(3.0)"
   ]
  },
  {
   "cell_type": "code",
   "execution_count": 10,
   "id": "9c4ff1d0-3f0a-4d73-b434-0034a9586046",
   "metadata": {},
   "outputs": [],
   "source": [
    "y = ((x-3)**2)/(2*2**2)+(tnp.linspace(0,1,10000)*0.5).reshape(10000,1)"
   ]
  },
  {
   "cell_type": "code",
   "execution_count": 11,
   "id": "4d22e70f-ff37-4e2d-9655-13fd892bdccd",
   "metadata": {},
   "outputs": [],
   "source": [
    "x = x.reshape(10000,1)\n",
    "y = y.reshape(10000,1)"
   ]
  },
  {
   "cell_type": "code",
   "execution_count": 12,
   "id": "1f971b60-e331-4e34-bc23-0670e3748d99",
   "metadata": {},
   "outputs": [],
   "source": [
    "for epoc in range(1000):\n",
    "    with tf.GradientTape() as tape: \n",
    "        yhat = ((x-mu)**2)/(2*(sigma)**2)\n",
    "        loss = tf.reduce_mean((y-yhat)**2)\n",
    "    slope0,slope1 = tape.gradient(loss,[mu,sigma])\n",
    "    mu.assign_sub(0.1*slope0)\n",
    "    sigma.assign_sub(0.1*slope1)"
   ]
  },
  {
   "cell_type": "code",
   "execution_count": 13,
   "id": "e17e6e4a-2048-4091-9f88-155844ced3ed",
   "metadata": {},
   "outputs": [
    {
     "data": {
      "text/plain": [
       "(<tf.Variable 'Variable:0' shape=() dtype=float32, numpy=3.0002534>,\n",
       " <tf.Variable 'Variable:0' shape=() dtype=float32, numpy=1.849885>)"
      ]
     },
     "execution_count": 13,
     "metadata": {},
     "output_type": "execute_result"
    }
   ],
   "source": [
    "mu,sigma"
   ]
  },
  {
   "cell_type": "code",
   "execution_count": 14,
   "id": "46cf926d-7804-4d76-b1f3-4b6de11fbb99",
   "metadata": {},
   "outputs": [
    {
     "data": {
      "text/plain": [
       "[<matplotlib.lines.Line2D at 0x7fdb2c224430>]"
      ]
     },
     "execution_count": 14,
     "metadata": {},
     "output_type": "execute_result"
    },
    {
     "data": {
      "image/png": "[encoded data removed]",
      "text/plain": [
       "<Figure size 432x288 with 1 Axes>"
      ]
     },
     "metadata": {
      "needs_background": "light"
     },
     "output_type": "display_data"
    }
   ],
   "source": [
    "plt.plot(x,y,'.')\n",
    "plt.plot(x,(((x-mu)**2)/(2*sigma**2)),'.')"
   ]
  },
  {
   "cell_type": "code",
   "execution_count": 15,
   "id": "85785e53-9f88-475f-a45d-2502fcc93692",
   "metadata": {},
   "outputs": [
    {
     "data": {
      "text/plain": [
       "[<matplotlib.lines.Line2D at 0x7fdb2c29dff0>]"
      ]
     },
     "execution_count": 15,
     "metadata": {},
     "output_type": "execute_result"
    },
    {
     "data": {
      "image/png": "[encoded data removed]",
      "text/plain": [
       "<Figure size 432x288 with 1 Axes>"
      ]
     },
     "metadata": {
      "needs_background": "light"
     },
     "output_type": "display_data"
    }
   ],
   "source": [
    "plt.plot(x,1/np.sqrt(2*np.pi*3**2)*np.exp(-((x-2)**2)/(2*3**2)),'.r')\n",
    "plt.plot(x,1/np.sqrt(2*np.pi*sigma**2)*np.exp(-((x-mu)**2)/(2*sigma**2)),'.b')"
   ]
  },
  {
   "cell_type": "markdown",
   "id": "22a89af4-8834-4b4a-b0bc-6d9782315e99",
   "metadata": {},
   "source": [
    "`(2)` 아래는 $X_i \\overset{iid}{\\sim} Ber(0.8)$을 생성하는 코드이다. "
   ]
  },
  {
   "cell_type": "code",
   "execution_count": 16,
   "id": "78dc1408-f4f7-4124-a073-c71296fcc249",
   "metadata": {},
   "outputs": [
    {
     "data": {
      "text/plain": [
       "<tf.Tensor: shape=(10000,), dtype=int64, numpy=array([1, 1, 0, ..., 0, 1, 1])>"
      ]
     },
     "execution_count": 16,
     "metadata": {},
     "output_type": "execute_result"
    }
   ],
   "source": [
    "tf.random.set_seed(43052)\n",
    "x= tf.constant(np.random.binomial(1,0.8,(10000,)))\n",
    "x"
   ]
  },
  {
   "cell_type": "markdown",
   "id": "56d3b31c-ac0a-4648-8663-5b74c2b2b051",
   "metadata": {},
   "source": [
    "함수 $L(p)$을 최대화하는 $p$를 `tf.GradeintTape()`를 활용하여 추정하라. (경사하강법 혹은 경사상승법을 사용하고 $p$의 초기값은 0.3으로 설정할 것) \n",
    "\n",
    "\n",
    "$$L(p)=\\prod_{i=1}^{n}f(x_i), \\quad f(x_i)=p^{x_i}(1-p)^{1-x_i}$$"
   ]
  },
  {
   "cell_type": "code",
   "execution_count": 20,
   "id": "d189f465-f7d0-4163-b671-ca30fccd05ae",
   "metadata": {},
   "outputs": [],
   "source": [
    "N=10000"
   ]
  },
  {
   "cell_type": "code",
   "execution_count": 21,
   "id": "cf67439d-109c-4eec-ad58-d4a6ac758955",
   "metadata": {},
   "outputs": [],
   "source": [
    "p_hat = tf.Variable(0.3)"
   ]
  },
  {
   "cell_type": "code",
   "execution_count": 22,
   "id": "2024b3b1-59e4-4c03-b8ef-6f7178b05218",
   "metadata": {},
   "outputs": [],
   "source": [
    "y = x/N-p_hat"
   ]
  },
  {
   "cell_type": "code",
   "execution_count": 23,
   "id": "f5b58ed6-8e0b-4da6-b1f6-7959175b1876",
   "metadata": {},
   "outputs": [],
   "source": [
    "y = y.reshape(-1)"
   ]
  },
  {
   "cell_type": "code",
   "execution_count": 24,
   "id": "f8e2d158-6180-4611-856e-b795676bf801",
   "metadata": {},
   "outputs": [],
   "source": [
    "y = y + tnp.random.randn(N)*0.5"
   ]
  },
  {
   "cell_type": "code",
   "execution_count": 25,
   "id": "829c074f-ccc8-43fb-8e70-cd6dab5bec83",
   "metadata": {},
   "outputs": [],
   "source": [
    "opt = tf.keras.optimizers.SGD(0.1)"
   ]
  },
  {
   "cell_type": "code",
   "execution_count": 26,
   "id": "5038d5e5-8d98-46fc-8621-256e31546ab1",
   "metadata": {},
   "outputs": [],
   "source": [
    "loss_fn = lambda: tf.reduce_mean((y-(x/N-p_hat))**2)"
   ]
  },
  {
   "cell_type": "code",
   "execution_count": 27,
   "id": "f3ed35e9-f5ec-4299-9634-c6c5cc6b66f0",
   "metadata": {},
   "outputs": [],
   "source": [
    "for epoc in range(30):\n",
    "    opt.minimize(loss_fn, p_hat)"
   ]
  },
  {
   "cell_type": "code",
   "execution_count": 28,
   "id": "3edbd2b4-070c-4c40-85f4-6ac606d4c231",
   "metadata": {},
   "outputs": [
    {
     "data": {
      "text/plain": [
       "<tf.Variable 'Variable:0' shape=() dtype=float32, numpy=0.29590464>"
      ]
     },
     "execution_count": 28,
     "metadata": {},
     "output_type": "execute_result"
    }
   ],
   "source": [
    "p_hat"
   ]
  },
  {
   "cell_type": "markdown",
   "id": "af7d2663-4db7-4da1-b55c-acab57da3f9b",
   "metadata": {},
   "source": [
    "`(3)` 아래의 모형에 따라서 $\\{Y_i\\}_{i=1}^{10000}$를 생성하는 코드를 작성하라. \n",
    "- $Y_i \\overset{iid}{\\sim} N(\\mu_i,1)$ \n",
    "- $\\mu_i = \\beta_0 + \\beta_1 x_i = 0.5 + 2 x_i$ , where $x_i = \\frac{i}{10000}$"
   ]
  },
  {
   "cell_type": "markdown",
   "id": "da6536c1-15f4-4d5a-b119-2a9e4a9ee146",
   "metadata": {},
   "source": [
    "함수 $L(\\beta_0,\\beta_1)$을 최대화하는 $(\\beta_0,\\beta_1)$를 `tf.GradeintTape()`를 활용하여 추정하라. (경사하강법 혹은 경사상승법을 사용하고 $\\beta_0,\\beta_1$의 초기값은 모두 1로 설정할 것) \n",
    "\n",
    "$$L(\\beta_0,\\beta_1)=\\prod_{i=1}^{n}f(y_i), \\quad f(y_i)=\\frac{1}{\\sqrt{2\\pi}}e^{-\\frac{1}{2}(y_i-\\mu_i)^2}, \\quad \\mu_i=\\beta_0+\\beta_1 x_i$$"
   ]
  },
  {
   "cell_type": "code",
   "execution_count": 29,
   "id": "e7980eb0-7e00-4f9f-b15a-d4ce03562b93",
   "metadata": {},
   "outputs": [
    {
     "data": {
      "text/plain": [
       "<tf.Tensor: shape=(10000,), dtype=float64, numpy=array([0.7002, 0.7004, 0.7006, ..., 2.6996, 2.6998, 2.7   ])>"
      ]
     },
     "execution_count": 29,
     "metadata": {},
     "output_type": "execute_result"
    }
   ],
   "source": [
    "np.random.seed(43052)\n",
    "N=10000\n",
    "x = tnp.array(list(range(1,10001)))/N\n",
    "y= 0.5 + x*2.0+np.random.normal()**0/5\n",
    "y"
   ]
  },
  {
   "cell_type": "markdown",
   "id": "a359746e-fc0a-4234-ac0d-e212aef028ca",
   "metadata": {},
   "source": [
    "L이 최대가 된다는 것은 $e^{-\\frac{1}{2}(\\frac{y_i-\\beta_0+\\beta_1*x_i}{\\sigma})^2}$가 최대가 된다는 뜻이고, 이는 $\\frac{y_i-\\beta_0 - \\beta_1 x_i}{\\sigma}$=${y_i-\\beta_0 - \\beta_1 x_i}$가 최소가 된다는 뜻 $\\to$ 경사하강법"
   ]
  },
  {
   "cell_type": "code",
   "execution_count": 30,
   "id": "1eb12a2e-0184-4cac-900e-d03978df1085",
   "metadata": {},
   "outputs": [],
   "source": [
    "y = y.reshape(N,1)\n",
    "X = tf.stack([tf.ones(N,dtype=tf.float64),x],axis=1)\n",
    "beta_hat = tf.Variable(tnp.array([1.0,1.0]).reshape(2,1))"
   ]
  },
  {
   "cell_type": "code",
   "execution_count": 31,
   "id": "ad7f32e1-2822-4e35-9700-b93b4644ab6f",
   "metadata": {},
   "outputs": [],
   "source": [
    "alpha = 0.1\n",
    "opt = tf.keras.optimizers.SGD(alpha)"
   ]
  },
  {
   "cell_type": "code",
   "execution_count": 32,
   "id": "4ea0a1d4-36d5-4bca-8271-7172723db8f4",
   "metadata": {},
   "outputs": [],
   "source": [
    "def loss_fn():\n",
    "    return ( (y-X@beta_hat).T @ (y-X@beta_hat) ) /N"
   ]
  },
  {
   "cell_type": "code",
   "execution_count": 33,
   "id": "6fe77cb0-f619-4b3e-863f-cc451667d623",
   "metadata": {},
   "outputs": [],
   "source": [
    "for oepoc in range(10000):\n",
    "        opt.minimize(loss_fn,beta_hat)"
   ]
  },
  {
   "cell_type": "code",
   "execution_count": 34,
   "id": "86e44e37-39f3-4d03-8436-f8685fd07e95",
   "metadata": {},
   "outputs": [
    {
     "data": {
      "text/plain": [
       "<tf.Variable 'Variable:0' shape=(2, 1) dtype=float64, numpy=\n",
       "array([[0.7],\n",
       "       [2. ]])>"
      ]
     },
     "execution_count": 34,
     "metadata": {},
     "output_type": "execute_result"
    }
   ],
   "source": [
    "beta_hat"
   ]
  },
  {
   "cell_type": "markdown",
   "id": "f702594a-236e-4e18-a409-c0d926897d2b",
   "metadata": {},
   "source": [
    "## `2`. 회귀분석의 이론적해와 tf.keras.optimizer 이용방법 (20점)"
   ]
  },
  {
   "cell_type": "markdown",
   "id": "3efebdc4-8086-43bb-a1fd-9a8b49d86b97",
   "metadata": {},
   "source": [
    "아래와 같은 선형모형을 고려하자. \n",
    "\n",
    "$$y_i = \\beta_0 + \\beta_1 x_i +\\epsilon_i.$$\n",
    "\n",
    "이때 오차항은 정규분포로 가정한다. 즉 $\\epsilon_i \\overset{iid}{\\sim} N(0,\\sigma^2)$라고 가정한다. \n",
    "\n",
    "관측데이터가 아래와 같을때 아래의 물음에 답하라. "
   ]
  },
  {
   "cell_type": "code",
   "execution_count": 35,
   "id": "eabac705-2792-40cd-9aef-c395ad3c0bb8",
   "metadata": {
    "tags": []
   },
   "outputs": [],
   "source": [
    "x= tnp.array([20.1, 22.2, 22.7, 23.3, 24.4, 25.1, 26.2, 27.3, 28.4, 30.4])\n",
    "y= tnp.array([55.4183651 , 58.19427589, 61.23082496, 62.31255873, 63.1070028 , \n",
    "              63.69569103, 67.24704918, 71.43650092, 73.10130336, 77.84988286])\n",
    "# X= tnp.array([[1.0, 20.1], [1.0, 22.2], [1.0, 22.7], [1.0, 23.3], [1.0, 24.4],\n",
    "#               [1.0, 25.1], [1.0, 26.2], [1.0, 27.3], [1.0, 28.4], [1.0, 30.4]])"
   ]
  },
  {
   "cell_type": "code",
   "execution_count": 36,
   "id": "08cf6c60-64dc-41f0-aca0-db586e81185b",
   "metadata": {},
   "outputs": [
    {
     "data": {
      "text/plain": [
       "[<matplotlib.lines.Line2D at 0x7fdb2c388c10>]"
      ]
     },
     "execution_count": 36,
     "metadata": {},
     "output_type": "execute_result"
    },
    {
     "data": {
      "image/png": "[encoded data removed]",
      "text/plain": [
       "<Figure size 432x288 with 1 Axes>"
      ]
     },
     "metadata": {
      "needs_background": "light"
     },
     "output_type": "display_data"
    }
   ],
   "source": [
    "plt.plot(x,y)"
   ]
  },
  {
   "cell_type": "markdown",
   "id": "b9f5139e-1d1d-4644-a09d-04a7c9a24e22",
   "metadata": {},
   "source": [
    "`(1)` MSE loss를 최소화 하는 $\\beta_0,\\beta_1$의 해석해를 구하라. "
   ]
  },
  {
   "cell_type": "code",
   "execution_count": 37,
   "id": "7bb5f561-51c2-4a49-8a82-62c376f8edaf",
   "metadata": {
    "tags": []
   },
   "outputs": [],
   "source": [
    "X = tf.stack([tf.ones(10,dtype=tf.float64),x],axis=1)"
   ]
  },
  {
   "cell_type": "code",
   "execution_count": 38,
   "id": "a02ab18e-d710-4ccb-91cd-5eddebd1c148",
   "metadata": {},
   "outputs": [],
   "source": [
    "y = y.reshape(10,1)"
   ]
  },
  {
   "cell_type": "code",
   "execution_count": 40,
   "id": "bb5b72b4-2b57-408f-960d-356247b7d8b3",
   "metadata": {},
   "outputs": [
    {
     "data": {
      "text/plain": [
       "<tf.Tensor: shape=(2, 1), dtype=float64, numpy=\n",
       "array([[9.94457323],\n",
       "       [2.21570461]])>"
      ]
     },
     "execution_count": 40,
     "metadata": {},
     "output_type": "execute_result"
    }
   ],
   "source": [
    "beta_opt = tf.linalg.inv(X.T @ X) @ X.T @ y\n",
    "beta_opt"
   ]
  },
  {
   "cell_type": "markdown",
   "id": "23a6f49d-5209-4c28-a1e6-2ddef637a743",
   "metadata": {},
   "source": [
    "- $\\beta_0$ ,$\\beta_1$의 해석해는 위와 같았다."
   ]
  },
  {
   "cell_type": "markdown",
   "id": "cbfabe4b-ffc2-40ef-ad4e-7df81174f0ce",
   "metadata": {},
   "source": [
    "`(2)` 경사하강법과 MSE loss의 도함수를 이용하여 $\\beta_0,\\beta_1$을 추정하라. \n",
    "\n",
    "**주의** tf.GradeintTape()를 이용하지 말고 MSE loss의 해석적 도함수를 사용할 것."
   ]
  },
  {
   "cell_type": "code",
   "execution_count": 41,
   "id": "376f8194-38a2-4edd-9377-b4a9f64f2ae6",
   "metadata": {},
   "outputs": [
    {
     "data": {
      "text/plain": [
       "<tf.Tensor: shape=(2, 1), dtype=float64, numpy=\n",
       "array([[9.96804222],\n",
       "       [2.2147792 ]])>"
      ]
     },
     "execution_count": 41,
     "metadata": {},
     "output_type": "execute_result"
    }
   ],
   "source": [
    "beta_hat = tf.Variable(tnp.array([10.0,3.0]).reshape(2,1))\n",
    "alpha=0.0015\n",
    "for epoc in range(1000):\n",
    "    slope = ( -2 * X.T @ y + 2 * X.T @ X @ beta_hat) /  10\n",
    "    beta_hat = beta_hat - alpha * slope\n",
    "beta_hat"
   ]
  },
  {
   "cell_type": "markdown",
   "id": "79cd50f2-b147-4203-8ae4-ae94e75a9e81",
   "metadata": {},
   "source": [
    "`(3)` `tf.keras.optimizers`의 `apply_gradients()`를 이용하여 $\\beta_0,\\beta_1$을 추정하라. "
   ]
  },
  {
   "cell_type": "code",
   "execution_count": 42,
   "id": "39702278-9502-4f74-8df8-95ea127d6741",
   "metadata": {},
   "outputs": [
    {
     "data": {
      "text/plain": [
       "<tf.Variable 'Variable:0' shape=(2, 1) dtype=float64, numpy=\n",
       "array([[9.96804222],\n",
       "       [2.2147792 ]])>"
      ]
     },
     "execution_count": 42,
     "metadata": {},
     "output_type": "execute_result"
    }
   ],
   "source": [
    "beta_hat = tf.Variable(tnp.array([10.0,3.0]).reshape(2,1))\n",
    "alpha=0.0015\n",
    "opt = tf.keras.optimizers.SGD(alpha)\n",
    "for epoc in range(1000):\n",
    "    with tf.GradientTape() as tape:\n",
    "        yhat = X@beta_hat\n",
    "        loss = ((y-yhat).T@(y-yhat) )/10\n",
    "    slope = tape.gradient(loss,beta_hat)\n",
    "    opt.apply_gradients([(slope,beta_hat)])\n",
    "beta_hat"
   ]
  },
  {
   "cell_type": "markdown",
   "id": "0c172474-11b5-41ae-84e8-538c8ac2af17",
   "metadata": {},
   "source": [
    "`(4)` `tf.keras.optimizers`의 `minimize()`를 이용하여 $\\beta_0,\\beta_1$을 추정하라. "
   ]
  },
  {
   "cell_type": "code",
   "execution_count": 43,
   "id": "9dcd660a-3c20-43d9-ac20-4958c0dcbd38",
   "metadata": {},
   "outputs": [
    {
     "data": {
      "text/plain": [
       "<tf.Variable 'Variable:0' shape=(2, 1) dtype=float64, numpy=\n",
       "array([[9.96804222],\n",
       "       [2.2147792 ]])>"
      ]
     },
     "execution_count": 43,
     "metadata": {},
     "output_type": "execute_result"
    }
   ],
   "source": [
    "beta_hat = tf.Variable(tnp.array([10.0,3.0]).reshape(2,1))\n",
    "alpha = 0.0015\n",
    "opt = tf.optimizers.SGD(alpha)\n",
    "loss_fn = lambda: ((y-X@beta_hat).T @ (y-X@beta_hat))/10\n",
    "for epoc in range(1000):\n",
    "    opt.minimize(loss_fn,beta_hat)\n",
    "beta_hat"
   ]
  },
  {
   "cell_type": "code",
   "execution_count": 44,
   "id": "3a4e09e8-5a69-4838-bc2a-50878231f637",
   "metadata": {},
   "outputs": [
    {
     "data": {
      "text/plain": [
       "<tf.Tensor: shape=(1,), dtype=float64, numpy=array([9.96804222])>"
      ]
     },
     "execution_count": 44,
     "metadata": {},
     "output_type": "execute_result"
    }
   ],
   "source": [
    "beta_hat[0]"
   ]
  },
  {
   "cell_type": "code",
   "execution_count": 45,
   "id": "eb6b3840-e9d6-423d-b379-b3a946094471",
   "metadata": {},
   "outputs": [
    {
     "data": {
      "text/plain": [
       "[<matplotlib.lines.Line2D at 0x7fdb2c3b3f40>]"
      ]
     },
     "execution_count": 45,
     "metadata": {},
     "output_type": "execute_result"
    },
    {
     "data": {
      "image/png": "[encoded data removed]",
      "text/plain": [
       "<Figure size 432x288 with 1 Axes>"
      ]
     },
     "metadata": {
      "needs_background": "light"
     },
     "output_type": "display_data"
    }
   ],
   "source": [
    "plt.plot(x,y,'.')\n",
    "plt.plot(x,x*2.21476631+9.96836903,'--r')\n",
    "plt.plot(x,x*beta_hat[1]+beta_hat[0],'--b')"
   ]
  },
  {
   "cell_type": "markdown",
   "id": "4c5fe083-f319-4381-bc21-5bf18ae531cf",
   "metadata": {},
   "source": [
    "## `3`. keras를 이용한 풀이 (30점)"
   ]
  },
  {
   "cell_type": "markdown",
   "id": "5d15790d-6f7e-4ecd-9b9d-27d809ff8a0d",
   "metadata": {},
   "source": [
    "`(1)` 아래와 같은 모형을 고려하자. \n",
    "\n",
    "$$y_i= \\beta_0 + \\sum_{k=1}^{5} \\beta_k \\cos(k t_i)+\\epsilon_i, \\quad i=0,1,\\dots, 999$$\n",
    "\n",
    "여기에서 $t_i=\\frac{2\\pi i}{1000}$ 이다. 그리고 $\\epsilon_i \\sim i.i.d~ N(0,\\sigma^2)$, 즉 서로 독립인 표준정규분포에서 추출된 샘플이다. 위의 모형에서 아래와 같은 데이터를 관측했다고 가정하자. "
   ]
  },
  {
   "cell_type": "code",
   "execution_count": 46,
   "id": "d136550f-c5de-49c2-9592-d5727132eeae",
   "metadata": {},
   "outputs": [
    {
     "data": {
      "text/plain": [
       "[<matplotlib.lines.Line2D at 0x7fdb2c456170>]"
      ]
     },
     "execution_count": 46,
     "metadata": {},
     "output_type": "execute_result"
    },
    {
     "data": {
      "image/png": "[encoded data removed]",
      "text/plain": [
       "<Figure size 432x288 with 1 Axes>"
      ]
     },
     "metadata": {
      "needs_background": "light"
     },
     "output_type": "display_data"
    }
   ],
   "source": [
    "np.random.seed(43052)\n",
    "t= np.array(range(1000))* np.pi/1000\n",
    "y = -2+ 3*np.cos(t) + 1*np.cos(2*t) + 0.5*np.cos(5*t) + np.random.randn(1000)*0.2\n",
    "plt.plot(t,y,'.',alpha=0.2)"
   ]
  },
  {
   "cell_type": "markdown",
   "id": "eeab60d2-c405-4d7b-9cc7-49d887f414bc",
   "metadata": {},
   "source": [
    "tf.keras를 이용하여 $\\beta_0,\\dots,\\beta_5$를 추정하라. ($\\beta_0,\\dots,\\beta_5$의 참값은 각각 -2,3,1,0,0,0.5 이다) "
   ]
  },
  {
   "cell_type": "code",
   "execution_count": 47,
   "id": "c2d7832b-78c4-4484-a9a1-675412aa6416",
   "metadata": {},
   "outputs": [
    {
     "data": {
      "text/plain": [
       "[<tf.Variable 'dense/kernel:0' shape=(6, 1) dtype=float32, numpy=\n",
       " array([[-2.0103285 ],\n",
       "        [ 2.904482  ],\n",
       "        [ 0.98053974],\n",
       "        [ 0.03891326],\n",
       "        [ 0.0101422 ],\n",
       "        [ 0.48991832]], dtype=float32)>]"
      ]
     },
     "execution_count": 47,
     "metadata": {},
     "output_type": "execute_result"
    }
   ],
   "source": [
    "T = tf.stack([np.ones(1000),np.cos(t),np.cos(2*t),np.cos(3*t),np.cos(4*t),np.cos(5*t)],axis=1)\n",
    "y = y.reshape(1000,1)\n",
    "\n",
    "net = tf.keras.Sequential()\n",
    "net.add(tf.keras.layers.Dense(1,use_bias=False))\n",
    "net.compile(tf.optimizers.SGD(0.1),loss = 'mse')\n",
    "net.fit(T,y,epochs=30,verbose=0,batch_size=1000)\n",
    "net.weights"
   ]
  },
  {
   "cell_type": "code",
   "execution_count": 48,
   "id": "d4d26ac1-9fc8-4832-9269-0bc4e756e0dc",
   "metadata": {},
   "outputs": [
    {
     "data": {
      "text/plain": [
       "[<matplotlib.lines.Line2D at 0x7fdb2c16c490>]"
      ]
     },
     "execution_count": 48,
     "metadata": {},
     "output_type": "execute_result"
    },
    {
     "data": {
      "image/png": "[encoded data removed]",
      "text/plain": [
       "<Figure size 432x288 with 1 Axes>"
      ]
     },
     "metadata": {
      "needs_background": "light"
     },
     "output_type": "display_data"
    }
   ],
   "source": [
    "plt.plot(t,y,'o') \n",
    "plt.plot(t,(T@net.weights[0]).reshape(-1),'--')"
   ]
  },
  {
   "cell_type": "markdown",
   "id": "85e44a28-4970-40ba-92ad-821134f8cb79",
   "metadata": {},
   "source": [
    "`(2)` 아래와 같은 모형을 고려하자. \n",
    "\n",
    "$$y_i \\sim Ber(\\pi_i), ~ \\text{where} ~ \\pi_i=\\frac{\\exp(w_0+w_1x_i)}{1+\\exp(w_0+w_1x_i)}$$\n"
   ]
  },
  {
   "cell_type": "markdown",
   "id": "f7caedd8-176b-4b04-8632-729c376ee521",
   "metadata": {},
   "source": [
    "위의 모형에서 관측한 데이터는 아래와 같다. "
   ]
  },
  {
   "cell_type": "code",
   "execution_count": 49,
   "id": "f4761787-1e6b-49f0-b8bf-a11e8332bab6",
   "metadata": {
    "tags": []
   },
   "outputs": [
    {
     "data": {
      "text/plain": [
       "[<matplotlib.lines.Line2D at 0x7fdb2c1d0610>]"
      ]
     },
     "execution_count": 49,
     "metadata": {},
     "output_type": "execute_result"
    },
    {
     "data": {
      "image/png": "[encoded data removed]",
      "text/plain": [
       "<Figure size 432x288 with 1 Axes>"
      ]
     },
     "metadata": {
      "needs_background": "light"
     },
     "output_type": "display_data"
    }
   ],
   "source": [
    "tf.random.set_seed(43052)\n",
    "x = tnp.linspace(-1,1,2000) \n",
    "y = tf.constant(np.random.binomial(1, tf.nn.sigmoid(-1+5*x)),dtype=tf.float64) \n",
    "plt.plot(x,y,'.',alpha=0.05)"
   ]
  },
  {
   "cell_type": "markdown",
   "id": "d449924f-1bb3-460b-bfd5-5a68ae2de894",
   "metadata": {},
   "source": [
    "tf.keras를 이용하여 $w_0,w_1$을 추정하라. (참고: $w_0, w_1$에 대한 참값은 -1과 5이다.) "
   ]
  },
  {
   "cell_type": "code",
   "execution_count": 50,
   "id": "afa6f926-3799-40e1-8fe5-9e9c60b7d17c",
   "metadata": {},
   "outputs": [],
   "source": [
    "x = x.reshape(2000,1)\n",
    "y = y.reshape(2000,1)"
   ]
  },
  {
   "cell_type": "code",
   "execution_count": 51,
   "id": "252e4a83-cc07-4a9d-bc4e-8c7f79acdcbd",
   "metadata": {},
   "outputs": [
    {
     "data": {
      "text/plain": [
       "<keras.callbacks.History at 0x7fdb2c011600>"
      ]
     },
     "execution_count": 51,
     "metadata": {},
     "output_type": "execute_result"
    }
   ],
   "source": [
    "net = tf.keras.Sequential()\n",
    "net.add(tf.keras.layers.Dense(1,activation = 'sigmoid'))\n",
    "bceloss_fn = lambda y,yhat: -tf.reduce_mean(y*tnp.log(yhat) + (1-y)*tnp.log(1-yhat))\n",
    "net.compile(tf.keras.optimizers.SGD(0.1),loss=bceloss_fn)\n",
    "net.fit(x,y,epochs=10000,batch_size=2000,verbose=0)"
   ]
  },
  {
   "cell_type": "code",
   "execution_count": 52,
   "id": "246ab296-e667-4908-8934-bb3ad303eb54",
   "metadata": {},
   "outputs": [
    {
     "data": {
      "text/plain": [
       "[<tf.Variable 'dense_1/kernel:0' shape=(1, 1) dtype=float32, numpy=array([[5.09306]], dtype=float32)>,\n",
       " <tf.Variable 'dense_1/bias:0' shape=(1,) dtype=float32, numpy=array([-1.0963831], dtype=float32)>]"
      ]
     },
     "execution_count": 52,
     "metadata": {},
     "output_type": "execute_result"
    }
   ],
   "source": [
    "net.weights"
   ]
  },
  {
   "cell_type": "code",
   "execution_count": 53,
   "id": "24a8005b-601a-4e04-bb46-5de087e13525",
   "metadata": {},
   "outputs": [
    {
     "data": {
      "text/plain": [
       "[<matplotlib.lines.Line2D at 0x7fdb15f95ea0>]"
      ]
     },
     "execution_count": 53,
     "metadata": {},
     "output_type": "execute_result"
    },
    {
     "data": {
      "image/png": "[encoded data removed]",
      "text/plain": [
       "<Figure size 432x288 with 1 Axes>"
      ]
     },
     "metadata": {
      "needs_background": "light"
     },
     "output_type": "display_data"
    }
   ],
   "source": [
    "plt.plot(x,y,'.')\n",
    "plt.plot(x,tf.nn.sigmoid(-1 + x*5) ,'--r')\n",
    "plt.plot(x,net.predict(x),'--b')"
   ]
  },
  {
   "cell_type": "markdown",
   "id": "6d234980-2466-4209-a6a1-190475ffec6d",
   "metadata": {},
   "source": [
    "## `4`. Piecewise-linear regression (15점) "
   ]
  },
  {
   "cell_type": "markdown",
   "id": "413d267a-10c6-405b-90dc-edfdd9f42e5a",
   "metadata": {},
   "source": [
    "아래의 모형을 고려하자. \n",
    "\n",
    "model: $y_i=\\begin{cases} x_i +0.3\\epsilon_i & x\\leq 0 \\\\ 3.5x_i +0.3\\epsilon_i & x>0 \\end{cases}$ "
   ]
  },
  {
   "cell_type": "markdown",
   "id": "e7f1c5db-e8cc-4518-9c8e-0e5a44b570fa",
   "metadata": {},
   "source": [
    "아래는 위의 모형에서 생성한 샘플이다. "
   ]
  },
  {
   "cell_type": "code",
   "execution_count": 54,
   "id": "908224ae-65a2-414a-95c2-2f3f62e18da0",
   "metadata": {},
   "outputs": [],
   "source": [
    "## data \n",
    "np.random.seed(43052)\n",
    "N=100\n",
    "x= np.linspace(-1,1,N).reshape(N,1)\n",
    "y= np.array(list(map(lambda x: x*1+np.random.normal()*0.3 if x<0 else x*3.5+np.random.normal()*0.3,x))).reshape(N,1)"
   ]
  },
  {
   "cell_type": "markdown",
   "id": "908a20cf-96ca-448e-a19e-a0f24792f6b2",
   "metadata": {},
   "source": [
    "`(1)` 다음은 $(x_i,y_i)$를 아래와 같은 아키텍처로 적합시키는 코드이다. \n",
    "\n",
    "- $\\hat{y} =  \\hat{\\beta}_0+\\hat{\\beta}_1x $"
   ]
  },
  {
   "cell_type": "code",
   "execution_count": 55,
   "id": "8ed0488d-ad21-4f0b-81ec-6317ce3257ee",
   "metadata": {},
   "outputs": [
    {
     "data": {
      "text/plain": [
       "<keras.callbacks.History at 0x7fdb15f94af0>"
      ]
     },
     "execution_count": 55,
     "metadata": {},
     "output_type": "execute_result"
    }
   ],
   "source": [
    "tf.random.set_seed(43054) \n",
    "net = tf.keras.Sequential()\n",
    "net.add(tf.keras.layers.Dense(1)) \n",
    "net.compile(optimizer=tf.optimizers.SGD(0.1),loss='mse')\n",
    "net.fit(x,y,batch_size=N,epochs=1000,verbose=0) # numpy로 해도 돌아감"
   ]
  },
  {
   "cell_type": "markdown",
   "id": "2aafce5a-c3c4-4102-8b24-40d345f47c91",
   "metadata": {},
   "source": [
    "케라스에 의해 추정된 $\\hat{\\beta}_0,\\hat{\\beta}_1$을 구하라. "
   ]
  },
  {
   "cell_type": "code",
   "execution_count": 56,
   "id": "d8970839-bc1a-44b3-8b60-0e65a8563d05",
   "metadata": {},
   "outputs": [
    {
     "data": {
      "text/plain": [
       "[<tf.Variable 'dense_2/kernel:0' shape=(1, 1) dtype=float32, numpy=array([[2.2616348]], dtype=float32)>,\n",
       " <tf.Variable 'dense_2/bias:0' shape=(1,) dtype=float32, numpy=array([0.6069048], dtype=float32)>]"
      ]
     },
     "execution_count": 56,
     "metadata": {},
     "output_type": "execute_result"
    }
   ],
   "source": [
    "net.weights"
   ]
  },
  {
   "cell_type": "markdown",
   "id": "5899c1fc-0b60-4eed-9732-3fe7b14c1e81",
   "metadata": {},
   "source": [
    "`(2)` 다음은 $(x_i,y_i)$를 아래와 같은 아키텍처로 적합시키는 코드이다. \n",
    "\n",
    "- $\\boldsymbol{u}= x\\boldsymbol{W}^{(1)}+\\boldsymbol{b}^{(1)}$\n",
    "- $\\boldsymbol{v}= \\text{relu}(u)$ \n",
    "- $y= \\boldsymbol{v}\\boldsymbol{W}^{(2)}+b^{(2)}$"
   ]
  },
  {
   "cell_type": "code",
   "execution_count": 60,
   "id": "7763ed76-b80a-4e87-b03b-054e49cfed69",
   "metadata": {},
   "outputs": [
    {
     "data": {
      "text/plain": [
       "<keras.callbacks.History at 0x7fdb16707430>"
      ]
     },
     "execution_count": 60,
     "metadata": {},
     "output_type": "execute_result"
    }
   ],
   "source": [
    "tf.random.set_seed(43056) \n",
    "## 1단계\n",
    "net = tf.keras.Sequential() \n",
    "net.add(tf.keras.layers.Dense(2))\n",
    "net.add(tf.keras.layers.Activation('relu')) \n",
    "net.add(tf.keras.layers.Dense(1))\n",
    "net.compile(optimizer=tf.optimizers.SGD(0.1),loss='mse')\n",
    "net.fit(x,y,epochs=1000,verbose=0,batch_size=N)"
   ]
  },
  {
   "cell_type": "markdown",
   "id": "e33d6f7e-aa2e-4fb3-b2c8-dfab5e675de7",
   "metadata": {},
   "source": [
    "${\\boldsymbol u}$를 이용하여 ${\\boldsymbol v}$를 만드는 코드와 ${\\boldsymbol v}$를 이용하여 $y$를 만드는 코드를 작성하라. "
   ]
  },
  {
   "cell_type": "code",
   "execution_count": 61,
   "id": "e0ea38fc-3e6a-4ead-b011-d8e735ae6b6c",
   "metadata": {},
   "outputs": [
    {
     "data": {
      "text/plain": [
       "[<tf.Variable 'dense_5/kernel:0' shape=(1, 2) dtype=float32, numpy=array([[1.9178677, 0.7250776]], dtype=float32)>,\n",
       " <tf.Variable 'dense_5/bias:0' shape=(2,) dtype=float32, numpy=array([ 0.33402327, -0.72684675], dtype=float32)>,\n",
       " <tf.Variable 'dense_6/kernel:0' shape=(2, 1) dtype=float32, numpy=\n",
       " array([[ 1.8141522],\n",
       "        [-0.6783506]], dtype=float32)>,\n",
       " <tf.Variable 'dense_6/bias:0' shape=(1,) dtype=float32, numpy=array([-0.600762], dtype=float32)>]"
      ]
     },
     "execution_count": 61,
     "metadata": {},
     "output_type": "execute_result"
    }
   ],
   "source": [
    "net.weights"
   ]
  },
  {
   "cell_type": "code",
   "execution_count": 62,
   "id": "0322fcde-a81c-4bcd-a9de-b432b3fcf5d9",
   "metadata": {},
   "outputs": [],
   "source": [
    "W1 = tf.Variable(tnp.array([[1.9178677, 0.7250776]]))\n",
    "b1 = tf.Variable(tnp.array([0.33402327, -0.72684675]))\n",
    "W2 = tf.Variable(tnp.array([[ 1.8141522],[-0.6783506]]))\n",
    "b2 = tf.Variable(tnp.array([-0.600762]))"
   ]
  },
  {
   "cell_type": "code",
   "execution_count": 63,
   "id": "3385fb6e-5ed6-4f27-b2f2-c4b18bcae557",
   "metadata": {},
   "outputs": [],
   "source": [
    "u = tf.constant(x) @ W1 + b1\n",
    "v = tf.nn.relu(u)\n",
    "yhat = v@W2 + b2"
   ]
  },
  {
   "cell_type": "markdown",
   "id": "baa588e0-03dd-4f33-aff2-19e09ab69f6d",
   "metadata": {},
   "source": [
    "`(3)` 아래는 `(1)-(2)`번 모형에 대한 discussion이다. 올바른 것을 모두 골라라. \n",
    "\n",
    "**(곤이)** (2) 모형은 활성화함수로 relu를 사용하였다. \n",
    "\n",
    "**(철용)** (1) 모형에서 추정해야할 파라메터의 수는 2개이다. \n",
    "\n",
    "**(아귀)** (2) 모형이 (1) 모형보다 복잡한 모형이다. \n",
    "\n",
    "**(짝귀)** (1) 의 모형은 오버피팅의 위험이 있다. "
   ]
  },
  {
   "cell_type": "markdown",
   "id": "7dc707a7-77fd-495d-99c1-4ddbd5b1e1d0",
   "metadata": {},
   "source": [
    "`답`\n",
    "- 곤이, 철용, 아귀"
   ]
  },
  {
   "cell_type": "markdown",
   "id": "1fbe974e-1a43-4281-bfd0-84c09e00ead4",
   "metadata": {
    "tags": []
   },
   "source": [
    "## `5`. 다음을 잘 읽고 참과 거짓을 판단하라. (5점)"
   ]
  },
  {
   "cell_type": "markdown",
   "id": "6a972202-b9ef-4e37-9561-41bb58c3df17",
   "metadata": {},
   "source": [
    "`(1)` 적절한 학습률이 선택된다면, 경사하강법은 손실함수가 convex일때 언제 전역최소해를 찾을 수 있다."
   ]
  },
  {
   "cell_type": "markdown",
   "id": "1ebbf63f-93a8-46ff-b804-0167ad7c1d06",
   "metadata": {},
   "source": [
    "X"
   ]
  },
  {
   "cell_type": "markdown",
   "id": "99bcd77d-c751-4cb9-ac24-ba15f5f01d01",
   "metadata": {},
   "source": [
    "`(2)` `tf.GradeintTape()`는 경사하강법을 이용하여 최적점을 찾아주는 tool이다. "
   ]
  },
  {
   "cell_type": "markdown",
   "id": "650809c0-a657-4185-8a32-056711e53879",
   "metadata": {},
   "source": [
    "X"
   ]
  },
  {
   "cell_type": "markdown",
   "id": "9ce0ca2f-39c7-441f-ac28-4d2647f42049",
   "metadata": {},
   "source": [
    "`(3)` 학습률이 크다는 것은 파라메터는 1회 업데이트 하는 양이 크다는 것을 의미한다. "
   ]
  },
  {
   "cell_type": "markdown",
   "id": "257e9626-5e9b-4a8b-ad24-c3981e251af9",
   "metadata": {},
   "source": [
    "O"
   ]
  },
  {
   "cell_type": "markdown",
   "id": "00e49702-9cfc-4148-bbd9-d90c61299cfb",
   "metadata": {},
   "source": [
    "`(4)` 학습률이 크면 학습파라메터의 수렴속도가 빨라지지만 때때로 과적합에 빠질 수도 있다. "
   ]
  },
  {
   "cell_type": "markdown",
   "id": "2adfe631-2f3c-425c-a1fc-fe1370eb837a",
   "metadata": {},
   "source": [
    "O"
   ]
  },
  {
   "cell_type": "markdown",
   "id": "7520eafe-392a-4b37-b117-add58f81f74e",
   "metadata": {},
   "source": [
    "`(5)` 단순회귀분석에서 MSE loss를 최소화 하는 해는 경사하강법을 이용하지 않아도 해석적으로 구할 수 있다. "
   ]
  },
  {
   "cell_type": "markdown",
   "id": "900c594b-ea1b-4be3-a20d-dcace4672ddf",
   "metadata": {},
   "source": [
    "X"
   ]
  }
 ],
 "metadata": {
  "kernelspec": {
   "display_name": "Python 3 (ipykernel)",
   "language": "python",
   "name": "python3"
  },
  "language_info": {
   "codemirror_mode": {
    "name": "ipython",
    "version": 3
   },
   "file_extension": ".py",
   "mimetype": "text/x-python",
   "name": "python",
   "nbconvert_exporter": "python",
   "pygments_lexer": "ipython3",
   "version": "3.10.0"
  }
 },
 "nbformat": 4,
 "nbformat_minor": 5
}
