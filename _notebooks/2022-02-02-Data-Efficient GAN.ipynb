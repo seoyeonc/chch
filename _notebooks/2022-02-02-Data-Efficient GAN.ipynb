{
 "cells": [
  {
   "cell_type": "markdown",
   "id": "f95858dd-aa66-4f48-8319-437d61916c21",
   "metadata": {
    "id": "d44ba9bc-ebf3-49d8-b2db-9d49bf1bec22",
    "tags": []
   },
   "source": [
    "# Differentiable Augmentation for Data-Efficient GAN Training\n",
    "> Not done\n",
    "\n",
    "- toc:true\n",
    "- branch: master\n",
    "- badges: false\n",
    "- comments: false \n",
    "- author: 최서연\n",
    "- categories: [GAN]"
   ]
  },
  {
   "cell_type": "code",
   "execution_count": null,
   "id": "e789f809-ea10-4c88-b2ea-5fa3c83c5846",
   "metadata": {},
   "outputs": [],
   "source": []
  }
 ],
 "metadata": {
  "kernelspec": {
   "display_name": "Python 3",
   "language": "python",
   "name": "python3"
  },
  "language_info": {
   "codemirror_mode": {
    "name": "ipython",
    "version": 3
   },
   "file_extension": ".py",
   "mimetype": "text/x-python",
   "name": "python",
   "nbconvert_exporter": "python",
   "pygments_lexer": "ipython3",
   "version": "3.8.12"
  }
 },
 "nbformat": 4,
 "nbformat_minor": 5
}
