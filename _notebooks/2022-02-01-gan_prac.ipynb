{
 "cells": [
  {
   "cell_type": "markdown",
   "id": "2358d703-8cc3-4658-bdfd-bf6bb2b55b7f",
   "metadata": {
    "id": "d44ba9bc-ebf3-49d8-b2db-9d49bf1bec22",
    "tags": []
   },
   "source": [
    "# GAN keras로 해보기\n",
    "> done\n",
    "\n",
    "- toc:true\n",
    "- branch: master\n",
    "- badges: false\n",
    "- comments: false \n",
    "- author: 최서연\n",
    "- categories: [GAN]"
   ]
  },
  {
   "cell_type": "code",
   "execution_count": 1,
   "id": "581b0e9a-89a6-4921-94ca-b4034dc585fa",
   "metadata": {},
   "outputs": [],
   "source": [
    "import numpy as np"
   ]
  },
  {
   "cell_type": "code",
   "execution_count": 15,
   "id": "c1ca8561-41c2-4dad-95f5-427115395570",
   "metadata": {},
   "outputs": [],
   "source": [
    "from tensorflow.keras.utils import to_categorical"
   ]
  },
  {
   "cell_type": "code",
   "execution_count": 16,
   "id": "cb693bf1-ce71-491a-94c3-a704e7f04fe6",
   "metadata": {},
   "outputs": [],
   "source": [
    "from keras.datasets import cifar10"
   ]
  },
  {
   "cell_type": "markdown",
   "id": "bc9d44ee-3f3f-4495-aa71-7716d4d2b1a9",
   "metadata": {},
   "source": [
    "#### 데이터 적재"
   ]
  },
  {
   "cell_type": "code",
   "execution_count": 34,
   "id": "9de7acbc-86b4-488d-8820-a6fe715db6d3",
   "metadata": {},
   "outputs": [],
   "source": [
    "(x_train,y_train),(x_test,y_test)=cifar10.load_data()"
   ]
  },
  {
   "cell_type": "markdown",
   "id": "ebeed45c-411f-4b32-81b4-08fd497b0b68",
   "metadata": {},
   "source": [
    "데이터 셋을 적재한다."
   ]
  },
  {
   "cell_type": "code",
   "execution_count": 35,
   "id": "4e3f5459-0e6c-49c1-8b6e-eeae491b2577",
   "metadata": {},
   "outputs": [
    {
     "data": {
      "text/plain": [
       "((50000, 32, 32, 3), (10000, 32, 32, 3), (50000, 1), (10000, 1))"
      ]
     },
     "execution_count": 35,
     "metadata": {},
     "output_type": "execute_result"
    }
   ],
   "source": [
    "x_train.shape, x_test.shape, y_train.shape,  y_test.shape"
   ]
  },
  {
   "cell_type": "markdown",
   "id": "3121cbea-62b7-4aa2-8880-d41f5d3d6121",
   "metadata": {},
   "source": [
    "- shape에서 첫번째 차원은 index를 가리킴.\n",
    "- 두 번째 차원은 이미지 높이\n",
    "- 세 번째 차원은 이미지 너비\n",
    "- 마지막 차원은 RGB 채널\n",
    "- 이런 배열을 4차원 tensor라 부름"
   ]
  },
  {
   "cell_type": "code",
   "execution_count": 36,
   "id": "4b8f8d20-9ac2-42eb-a13a-11a6c9fa0f3f",
   "metadata": {},
   "outputs": [],
   "source": [
    "NUM_CLASSES = 10"
   ]
  },
  {
   "cell_type": "code",
   "execution_count": 37,
   "id": "7d9a4296-c679-4573-a7f7-6f229d7c553a",
   "metadata": {},
   "outputs": [],
   "source": [
    "x_train = x_train.astype('float32')/255.0\n",
    "x_test = x_test.astype('float32')/255.0"
   ]
  },
  {
   "cell_type": "markdown",
   "id": "eb357927-d0a5-48be-9693-34ed0e46cb35",
   "metadata": {},
   "source": [
    "신경망은 -1~1 사이 놓여있게 만들기!"
   ]
  },
  {
   "cell_type": "code",
   "execution_count": 38,
   "id": "4205b4cb-bc17-48e4-9bc1-e57c1b69719e",
   "metadata": {},
   "outputs": [],
   "source": [
    "y_train = to_categorical(y_train,NUM_CLASSES)\n",
    "y_test = to_categorical(y_test,NUM_CLASSES)"
   ]
  },
  {
   "cell_type": "markdown",
   "id": "58d06376-2e5f-4432-8ce5-8178d877bfc6",
   "metadata": {},
   "source": [
    "이미지의 정수 레이블을 one-hot-encoding vector로 바꾸기\n",
    "- 어떤 이미지의 class 정수 레이블이 i라면 이 뜻은 one-hot encoding이 i번빼 원소가 1이고 그외에는 모두 0인 길이가 10(class개수)인 vector가 된다.\n",
    "- 따라서 shape도 바뀐 것을 볼 수 있음"
   ]
  },
  {
   "cell_type": "code",
   "execution_count": 39,
   "id": "c2ebb7b6-6a49-419d-8b28-09cce7246033",
   "metadata": {},
   "outputs": [
    {
     "data": {
      "text/plain": [
       "((50000, 10), (10000, 10))"
      ]
     },
     "execution_count": 39,
     "metadata": {},
     "output_type": "execute_result"
    }
   ],
   "source": [
    "y_train.shape, y_test.shape"
   ]
  },
  {
   "cell_type": "markdown",
   "id": "44295945-4286-4a69-a815-3957d7067c97",
   "metadata": {},
   "source": [
    "#### 모델 만들기"
   ]
  },
  {
   "cell_type": "markdown",
   "id": "20df073b-82fb-4419-9105-ce72263b4753",
   "metadata": {},
   "source": [
    "Sequential 모델은 일렬로 층을 쌓은 네트워크를 빠르게 만들때 사용하기 좋음\n",
    "\n",
    "API 모델은 각각 층으로 볼 수 있음"
   ]
  },
  {
   "cell_type": "code",
   "execution_count": 42,
   "id": "101d09a0-205a-430e-9a5f-39f6afe534bd",
   "metadata": {},
   "outputs": [],
   "source": [
    "from tensorflow.keras.models import Sequential"
   ]
  },
  {
   "cell_type": "code",
   "execution_count": 43,
   "id": "c1cfc399-ea3b-4802-b860-aa4ba62958ef",
   "metadata": {},
   "outputs": [],
   "source": [
    "from tensorflow.keras.layers import Flatten, Dense"
   ]
  },
  {
   "cell_type": "code",
   "execution_count": 45,
   "id": "0a669bc6-511b-4348-b17e-af7bc41e13b6",
   "metadata": {},
   "outputs": [],
   "source": [
    "model = Sequential([Dense(200, activation  = 'relu', input_shape=(32,32,3)),\n",
    "                   Flatten(),\n",
    "                   Dense(150, activation = 'relu'),\n",
    "                   Dense(10,activation = 'softmax'),])"
   ]
  },
  {
   "cell_type": "markdown",
   "id": "41396a6d-df09-4e4a-b4ec-04f6db017fdd",
   "metadata": {},
   "source": [
    "Sequential 사용한 network"
   ]
  },
  {
   "cell_type": "code",
   "execution_count": 113,
   "id": "8e6d74ca-77aa-4ec9-aa04-86da59958a29",
   "metadata": {},
   "outputs": [],
   "source": [
    "from tensorflow.keras.layers import Input, Flatten, Dense"
   ]
  },
  {
   "cell_type": "code",
   "execution_count": 47,
   "id": "3fb03cde-873f-477c-a7fe-3c551ba3683b",
   "metadata": {},
   "outputs": [],
   "source": [
    "from tensorflow.keras.models import Model"
   ]
  },
  {
   "cell_type": "code",
   "execution_count": 48,
   "id": "eb27edba-8e6c-4149-8ea6-69359c7834ea",
   "metadata": {},
   "outputs": [],
   "source": [
    "input_layer = Input(shape=(32,32,3))"
   ]
  },
  {
   "cell_type": "code",
   "execution_count": 49,
   "id": "80eeb446-1fca-44b1-ada7-414c83be4b59",
   "metadata": {},
   "outputs": [],
   "source": [
    "x=Flatten()(input_layer)"
   ]
  },
  {
   "cell_type": "code",
   "execution_count": 50,
   "id": "769071d8-5c38-48a2-b254-dd83b7267116",
   "metadata": {},
   "outputs": [],
   "source": [
    "x=Dense(units=200,activation='relu')(x)"
   ]
  },
  {
   "cell_type": "code",
   "execution_count": 52,
   "id": "03219e37-0f9f-4666-87c8-efb2d8668471",
   "metadata": {},
   "outputs": [],
   "source": [
    "x=Dense(units=150,activation = 'relu')(x)"
   ]
  },
  {
   "cell_type": "code",
   "execution_count": 53,
   "id": "ecf4541f-f7b7-4dfb-8464-f3ad98f33f50",
   "metadata": {},
   "outputs": [],
   "source": [
    "output_layer = Dense(units=10,activation='softmax')(x)"
   ]
  },
  {
   "cell_type": "code",
   "execution_count": 54,
   "id": "3f585d2a-861a-4de0-81f6-2585d6c20ee0",
   "metadata": {},
   "outputs": [],
   "source": [
    "model=Model(input_layer,output_layer)"
   ]
  },
  {
   "cell_type": "markdown",
   "id": "1dfa3820-8ee5-4468-843a-b2f2e2c2dfb9",
   "metadata": {},
   "source": [
    "API 사용한 network"
   ]
  },
  {
   "cell_type": "code",
   "execution_count": 55,
   "id": "cc7830b4-b051-4c14-b392-1bbef013f838",
   "metadata": {},
   "outputs": [
    {
     "name": "stdout",
     "output_type": "stream",
     "text": [
      "Model: \"model\"\n",
      "_________________________________________________________________\n",
      " Layer (type)                Output Shape              Param #   \n",
      "=================================================================\n",
      " input_1 (InputLayer)        [(None, 32, 32, 3)]       0         \n",
      "                                                                 \n",
      " flatten_1 (Flatten)         (None, 3072)              0         \n",
      "                                                                 \n",
      " dense_3 (Dense)             (None, 200)               614600    \n",
      "                                                                 \n",
      " dense_4 (Dense)             (None, 150)               30150     \n",
      "                                                                 \n",
      " dense_5 (Dense)             (None, 10)                1510      \n",
      "                                                                 \n",
      "=================================================================\n",
      "Total params: 646,260\n",
      "Trainable params: 646,260\n",
      "Non-trainable params: 0\n",
      "_________________________________________________________________\n"
     ]
    }
   ],
   "source": [
    "model.summary()"
   ]
  },
  {
   "cell_type": "markdown",
   "id": "b2f71e68-a1a4-4f0e-88db-0ec544aef092",
   "metadata": {},
   "source": [
    "- **Input**\n",
    "    - 네트워크의 시작점\n",
    "    - 입력 데이터 크기를 튜플에 알려주기\n",
    "- **Flatten**\n",
    "    - 입력을 하나의 vector로 펼치기\n",
    "    - 32 * 32 * 3 = 3,072\n",
    "- **Dense**\n",
    "    - 이전 층과 완전하게 연결되는 유닛을 가짐\n",
    "    - 이 층의 각 unit은 이전 층의 모든 unit과 연결됨!\n",
    "    - unit의 출력은 이전 층으로부터 받은 입력과 가중치를 곱하여 더한 것\n",
    "- **activation function**\n",
    "    - 비선형 활성화 함수\n",
    "        - 렐루Relu: 입력이 음수이면 0, 그 외는 입력과 동일한 값 출력\n",
    "        - 리키렐루leaky relu: 음수이면 입력에 비례하는 작은 음수 반환, 그 외는 입력과 동일한 값 출력\n",
    "        - 시그모이드sigmoid: 층의 출력을 0에서 1사이로 조정하고 시싶을 때!(binary/multilabel classification에서 사용)\n",
    "        - 소프트맥스softmax: 층의 전체 출력 합이 1이 되어야 할 떄 사용(multiclass classification)"
   ]
  },
  {
   "cell_type": "markdown",
   "id": "15b11471-1d06-418f-a43b-71fb2b453646",
   "metadata": {},
   "source": [
    "![](http://androidkt.com/wp-content/uploads/2020/05/Selection_019-1024x490.png)\n",
    "\n",
    "![](https://kjhov195.github.io/post_img/200107/image2.png)"
   ]
  },
  {
   "cell_type": "markdown",
   "id": "fe87ca93-adaf-4af9-b196-5eccac46a09e",
   "metadata": {},
   "source": [
    "![](https://miro.medium.com/max/1400/1*IWUxuBpqn2VuV-7Ubr01ng.png)"
   ]
  },
  {
   "cell_type": "markdown",
   "id": "f9efadc7-d085-42b2-bc5a-42becdd74ac4",
   "metadata": {},
   "source": [
    "#### 모델 컴파일"
   ]
  },
  {
   "cell_type": "code",
   "execution_count": 57,
   "id": "6bb6856c-1005-48ba-8d59-fa095da339af",
   "metadata": {},
   "outputs": [],
   "source": [
    "from tensorflow.keras.optimizers import Adam"
   ]
  },
  {
   "cell_type": "code",
   "execution_count": 59,
   "id": "64262eca-3b5a-4646-8b30-82d81fd999f5",
   "metadata": {},
   "outputs": [],
   "source": [
    "opt=Adam(lr=0.0001)"
   ]
  },
  {
   "cell_type": "code",
   "execution_count": 61,
   "id": "e6b5f827-8f45-485b-8f1a-e74d95d137ae",
   "metadata": {},
   "outputs": [],
   "source": [
    "model.compile(loss='categorical_crossentropy',optimizer=opt, metrics = ['accuracy'])"
   ]
  },
  {
   "cell_type": "markdown",
   "id": "3536126d-5b7a-40a4-b4f7-a31705202b3b",
   "metadata": {},
   "source": [
    "손실함수와 옵티마이저 연결\n",
    "- compile method에 전달\n",
    "- metrics에 accuracy 같은 기록하고자 하는 지표 지정 가능"
   ]
  },
  {
   "cell_type": "markdown",
   "id": "ad1a4874-6817-41cf-9603-834b47ac0656",
   "metadata": {},
   "source": [
    "#### 모델 훈련"
   ]
  },
  {
   "cell_type": "code",
   "execution_count": 65,
   "id": "6be9e56c-079a-4ce1-966d-1240d7ca3925",
   "metadata": {},
   "outputs": [
    {
     "name": "stdout",
     "output_type": "stream",
     "text": [
      "Epoch 1/10\n",
      "1563/1563 [==============================] - 6s 4ms/step - loss: 1.8675 - accuracy: 0.3334\n",
      "Epoch 2/10\n",
      "1563/1563 [==============================] - 6s 4ms/step - loss: 1.6874 - accuracy: 0.4026\n",
      "Epoch 3/10\n",
      "1563/1563 [==============================] - 6s 4ms/step - loss: 1.6052 - accuracy: 0.4337\n",
      "Epoch 4/10\n",
      "1563/1563 [==============================] - 6s 4ms/step - loss: 1.5543 - accuracy: 0.4520\n",
      "Epoch 5/10\n",
      "1563/1563 [==============================] - 6s 4ms/step - loss: 1.5129 - accuracy: 0.4683\n",
      "Epoch 6/10\n",
      "1563/1563 [==============================] - 6s 4ms/step - loss: 1.4779 - accuracy: 0.4795\n",
      "Epoch 7/10\n",
      "1563/1563 [==============================] - 6s 4ms/step - loss: 1.4482 - accuracy: 0.4878\n",
      "Epoch 8/10\n",
      "1563/1563 [==============================] - 6s 4ms/step - loss: 1.4178 - accuracy: 0.4994\n",
      "Epoch 9/10\n",
      "1563/1563 [==============================] - 6s 4ms/step - loss: 1.3954 - accuracy: 0.5064\n",
      "Epoch 10/10\n",
      "1563/1563 [==============================] - 6s 4ms/step - loss: 1.3726 - accuracy: 0.5165\n"
     ]
    },
    {
     "data": {
      "text/plain": [
       "<keras.callbacks.History at 0x7f6cb033d8e0>"
      ]
     },
     "execution_count": 65,
     "metadata": {},
     "output_type": "execute_result"
    }
   ],
   "source": [
    "model.fit(x_train, # 원본 이미지 데이터\n",
    "      y_train, # one-hot encoding된 class label\n",
    "      batch_size = 32, # 훈련 step마다 network에 전달될 sample 개수 결정\n",
    "      epochs = 10, # network가 전체 훈련 data에 대해 반복하여 훈련할 횟수\n",
    "      shuffle = True) # True면 훈련 step마다 batch를 훈련 data에서 중복 허용않고 random하게 추출"
   ]
  },
  {
   "cell_type": "markdown",
   "id": "632cd23b-3d7b-430d-b6ee-bc30287d8a33",
   "metadata": {},
   "source": [
    "loss는 1.37로 감소했고, accuracy는 51%로 증가했다!"
   ]
  },
  {
   "cell_type": "markdown",
   "id": "091f98aa-9d1f-4827-a9c0-84625b5f346f",
   "metadata": {},
   "source": [
    "#### 모델 평가"
   ]
  },
  {
   "cell_type": "code",
   "execution_count": 66,
   "id": "c483b2a8-f089-4e20-af3d-4d35b68c4ab6",
   "metadata": {},
   "outputs": [
    {
     "name": "stdout",
     "output_type": "stream",
     "text": [
      "313/313 [==============================] - 1s 2ms/step - loss: 1.4536 - accuracy: 0.4774\n"
     ]
    },
    {
     "data": {
      "text/plain": [
       "[1.4535561800003052, 0.477400004863739]"
      ]
     },
     "execution_count": 66,
     "metadata": {},
     "output_type": "execute_result"
    }
   ],
   "source": [
    "model.evaluate(x_test,y_test)"
   ]
  },
  {
   "cell_type": "markdown",
   "id": "f4c93113-665e-4d8f-ad6e-7bd5a8ed9b3e",
   "metadata": {},
   "source": [
    "predic method 사용해서 test 예측결과 확인"
   ]
  },
  {
   "cell_type": "code",
   "execution_count": 67,
   "id": "802dea01-bdd7-4d8d-99ae-10dfd782e7a9",
   "metadata": {},
   "outputs": [],
   "source": [
    "CLASSES = np.array(['airplane','automobile','bird','cat','deer','dog','frog','horse','ship','truck'])"
   ]
  },
  {
   "cell_type": "code",
   "execution_count": 68,
   "id": "eaf2ad71-4027-4082-888c-c4411138af56",
   "metadata": {},
   "outputs": [],
   "source": [
    "preds = model.predict(x_test)"
   ]
  },
  {
   "cell_type": "code",
   "execution_count": 71,
   "id": "b06ffc81-61dd-471b-9b84-b4378ab6c97f",
   "metadata": {},
   "outputs": [
    {
     "data": {
      "text/plain": [
       "(10000, 10)"
      ]
     },
     "execution_count": 71,
     "metadata": {},
     "output_type": "execute_result"
    }
   ],
   "source": [
    "preds.shape"
   ]
  },
  {
   "cell_type": "code",
   "execution_count": 80,
   "id": "f0568bea-fc21-4720-976f-a6a14ad8e925",
   "metadata": {},
   "outputs": [],
   "source": [
    "pred_single = CLASSES[np.argmax(preds, axis = -1)]"
   ]
  },
  {
   "cell_type": "markdown",
   "id": "b7f7d33e-d9ea-4825-90bd-f6b471429466",
   "metadata": {},
   "source": [
    "agrmax로 하나의 예측결과로 바꾸기. axis=-1은 마지막 clss차원으로 배열을 압축하라는 뜻"
   ]
  },
  {
   "cell_type": "code",
   "execution_count": 81,
   "id": "9a79c5dc-dcc2-4955-9c5a-38450536351b",
   "metadata": {},
   "outputs": [
    {
     "data": {
      "text/plain": [
       "(10000,)"
      ]
     },
     "execution_count": 81,
     "metadata": {},
     "output_type": "execute_result"
    }
   ],
   "source": [
    "pred_single.shape"
   ]
  },
  {
   "cell_type": "code",
   "execution_count": 93,
   "id": "64e1342b-02f9-41d2-98bc-60d4e84c08cf",
   "metadata": {},
   "outputs": [],
   "source": [
    "actual_single = CLASSES[np.argmax(y_test,axis=-1)]"
   ]
  },
  {
   "cell_type": "code",
   "execution_count": 95,
   "id": "8ab285c4-50da-49b9-a05f-44c46574de2b",
   "metadata": {},
   "outputs": [
    {
     "data": {
      "text/plain": [
       "(10000,)"
      ]
     },
     "execution_count": 95,
     "metadata": {},
     "output_type": "execute_result"
    }
   ],
   "source": [
    "actual_single.shape"
   ]
  },
  {
   "cell_type": "code",
   "execution_count": 82,
   "id": "ee6ef0dc-73c1-4e51-85ad-ef33b18c8a74",
   "metadata": {},
   "outputs": [],
   "source": [
    "import matplotlib.pyplot as plt"
   ]
  },
  {
   "cell_type": "code",
   "execution_count": 86,
   "id": "f3cdf125-1496-47b5-814d-1551e80fac4f",
   "metadata": {},
   "outputs": [],
   "source": [
    "n_to_show = 10"
   ]
  },
  {
   "cell_type": "code",
   "execution_count": 87,
   "id": "5bd41fc6-33ad-4bec-929a-886b3b5d2359",
   "metadata": {},
   "outputs": [],
   "source": [
    "indices = np.random.choice(range(len(x_test)), n_to_show)"
   ]
  },
  {
   "cell_type": "code",
   "execution_count": 103,
   "id": "fccacdd7-e56b-441e-9e76-39b1c5566786",
   "metadata": {},
   "outputs": [
    {
     "data": {
      "image/png": "[encoded data removed]",
      "text/plain": [
       "<Figure size 1080x216 with 10 Axes>"
      ]
     },
     "metadata": {
      "needs_background": "light"
     },
     "output_type": "display_data"
    }
   ],
   "source": [
    "fig=plt.figure(figsize=(15,3))\n",
    "fig.subplots_adjust(hspace=0.4,wspace=0.5)\n",
    "\n",
    "for i, idx in enumerate(indices):\n",
    "    img = x_test[idx]\n",
    "    ax=fig.add_subplot(1,n_to_show ,i+1)\n",
    "    ax.axis('off')\n",
    "    ax.text(0.5,-0.35,'pred= ' + str(pred_single[idx]), fontsize=10, ha='center',transform=ax.transAxes)\n",
    "    ax.text(0.5,-0.7,'act= ' + str(actual_single[idx]),fontsize=10, ha='center', transform=ax.transAxes)\n",
    "    ax.imshow(img)"
   ]
  },
  {
   "cell_type": "markdown",
   "id": "8a09978c-8c35-42eb-9de0-c15195de2c03",
   "metadata": {},
   "source": [
    "#### 합성곱 층"
   ]
  },
  {
   "cell_type": "markdown",
   "id": "3dc54f34-f8f6-4d8b-b581-850ca9b0ea18",
   "metadata": {},
   "source": [
    "합성곱은 필터를 이미지의 일부분과 픽셀끼리 곱한 후 결과를 더한 것\n",
    "- 이미지 영역이 필터와 비슷할수록 큰 양수가 출력되고 필터와 반대일수록 큰 음수가 출력됨"
   ]
  },
  {
   "cell_type": "markdown",
   "id": "87f528e9-f417-4948-8922-46279918baa3",
   "metadata": {},
   "source": [
    "- **stride**\n",
    "    - 스트라이드는 필터가 한 번에 입력 위를 이동하는 크기,\n",
    "    - stride = 2로 하면 출력 텐서의 높이와 너비는 입력 텐서의 절반이 된다!\n",
    "    - network 통과하면서 채널 수 늘리고, 텐서의 공간 방향 크기 줄이는 데 사용\n",
    "- **padding**\n",
    "    - padding=same은 입력 데이터를 0으로 패딩하여 stride = 1일 때 출력의 크기를 입력 크기와 동일하게 만듦\n",
    "    - padding=same 지정하면 여러 개의 합성곱 층을 통과할 때 텐서의 크기를 쉽게 파악할 수 있는 유용함!"
   ]
  },
  {
   "cell_type": "code",
   "execution_count": 114,
   "id": "4ec0e0f5-fa73-4977-8d51-217b1755673a",
   "metadata": {},
   "outputs": [],
   "source": [
    "input_layer=Input(shape=(32,32,3))"
   ]
  },
  {
   "cell_type": "code",
   "execution_count": 118,
   "id": "469f3ae0-4417-4255-9f0b-62110c5e5897",
   "metadata": {},
   "outputs": [],
   "source": [
    "conv_layer_1 = layers.Conv2D(filters = 10,  kernel_size = (4,4), strides = 2, padding = 'same')(input_layer)"
   ]
  },
  {
   "cell_type": "code",
   "execution_count": 119,
   "id": "249636f4-9dc7-48d7-88fb-c944a1ea2513",
   "metadata": {},
   "outputs": [],
   "source": [
    "conv_layer_2 = layers.Conv2D(filters = 20,  kernel_size = (3,3), strides = 2, padding = 'same')(conv_layer_1)"
   ]
  },
  {
   "cell_type": "code",
   "execution_count": 120,
   "id": "1eb5bb22-bd82-49a2-9b2c-f6fda1004165",
   "metadata": {},
   "outputs": [],
   "source": [
    "flatten_layer=Flatten()(conv_layer_2)"
   ]
  },
  {
   "cell_type": "code",
   "execution_count": 121,
   "id": "c41c402b-693a-4738-b56d-7c0e5bb9cd7b",
   "metadata": {},
   "outputs": [],
   "source": [
    "output_layer=Dense(units=10, activation='softmax')(flatten_layer)"
   ]
  },
  {
   "cell_type": "code",
   "execution_count": 122,
   "id": "d4a81ac1-8126-40da-8690-099e9eb3f666",
   "metadata": {},
   "outputs": [],
   "source": [
    "model=Model(input_layer,output_layer)"
   ]
  },
  {
   "cell_type": "code",
   "execution_count": 123,
   "id": "9fd98c7f-2c1d-4095-b3a2-75d855ee16d1",
   "metadata": {},
   "outputs": [
    {
     "name": "stdout",
     "output_type": "stream",
     "text": [
      "Model: \"model_1\"\n",
      "_________________________________________________________________\n",
      " Layer (type)                Output Shape              Param #   \n",
      "=================================================================\n",
      " input_3 (InputLayer)        [(None, 32, 32, 3)]       0         \n",
      "                                                                 \n",
      " conv2d (Conv2D)             (None, 16, 16, 10)        490       \n",
      "                                                                 \n",
      " conv2d_1 (Conv2D)           (None, 8, 8, 20)          1820      \n",
      "                                                                 \n",
      " flatten_2 (Flatten)         (None, 1280)              0         \n",
      "                                                                 \n",
      " dense_6 (Dense)             (None, 10)                12810     \n",
      "                                                                 \n",
      "=================================================================\n",
      "Total params: 15,120\n",
      "Trainable params: 15,120\n",
      "Non-trainable params: 0\n",
      "_________________________________________________________________\n"
     ]
    }
   ],
   "source": [
    "model.summary()"
   ]
  },
  {
   "cell_type": "markdown",
   "id": "2caaf0a7-8d84-428c-8e3f-385397877624",
   "metadata": {},
   "source": [
    "#### 배치 정규화"
   ]
  },
  {
   "cell_type": "markdown",
   "id": "a4708f82-6beb-4bc8-8830-1c333a6e5ce8",
   "metadata": {},
   "source": [
    "- gradient exploding 기울기 폭주\n",
    "    - 오차가 네트워크를 통해 거꾸로 전파되면서 앞에 놓인 층의 gradient 계산이 기하급수적으로 증가하는 경우\n",
    "- covariate shoft 공변량 변화\n",
    "    - 네트워크가 훈련됨에 따라 가중치 값이 랜덤한 초깃값과 멀어지기 때문에 인력 스케일을 조정해도 모든 층의 활성화 울력의 scale이 안정적이지 않을 수 있음"
   ]
  },
  {
   "cell_type": "markdown",
   "id": "e53f9619-63e5-4251-a35e-71ce053f6fb6",
   "metadata": {},
   "source": [
    "**배치정규화**\n",
    "- 배치에 대해 각 입력 채널별로 평균과 표준 편차를 계산한 다음 평균을 빼고 표준편차로 나누어 정규화"
   ]
  },
  {
   "cell_type": "markdown",
   "id": "73a5f996-1761-4832-9290-a6fca7aeccc0",
   "metadata": {},
   "source": [
    "![](https://gaussian37.github.io/assets/img/dl/concept/batchnorm/batchnorm.png)"
   ]
  },
  {
   "cell_type": "markdown",
   "id": "6930a475-b465-47fb-ad34-e3ad21c93d84",
   "metadata": {},
   "source": [
    "#### 드롭아웃 층"
   ]
  },
  {
   "cell_type": "markdown",
   "id": "b6a8c1e6-d4b5-42ea-82ea-fcc8330307e8",
   "metadata": {},
   "source": [
    "이전 층의 unit 일부를 랜덤하게 선택하여 출력을 0으로 지정\n",
    "- 과대 적합 문제 맊기 가능"
   ]
  },
  {
   "cell_type": "markdown",
   "id": "3b558ffa-c93c-4902-9f9b-6dd800ba628f",
   "metadata": {},
   "source": [
    "#### 합성곱/배치정규화/드롭아웃 적용"
   ]
  },
  {
   "cell_type": "code",
   "execution_count": 150,
   "id": "c82a0d1d-6aff-48f4-bbf0-2d2a8cdeccc4",
   "metadata": {},
   "outputs": [],
   "source": [
    "input_layer=Input((32,32,3))"
   ]
  },
  {
   "cell_type": "code",
   "execution_count": 151,
   "id": "55d3f9d4-1f30-4d8c-aea0-9bd0520ca712",
   "metadata": {},
   "outputs": [],
   "source": [
    "x = layers.Conv2D(filters=32, kernel_size=3, strides=1, padding='same')(input_layer)\n",
    "x=layers.BatchNormalization()(x)\n",
    "x=layers.LeakyReLU()(x)"
   ]
  },
  {
   "cell_type": "code",
   "execution_count": 152,
   "id": "af28a885-9025-4268-b332-f7ab0e5b221b",
   "metadata": {},
   "outputs": [],
   "source": [
    "x= layers.Conv2D(filters=32, kernel_size=3, strides=2, padding='same')(x)\n",
    "x=layers.BatchNormalization()(x)\n",
    "x=layers.LeakyReLU()(x)"
   ]
  },
  {
   "cell_type": "code",
   "execution_count": 153,
   "id": "bf02b6f2-9615-4324-89c7-3bcd23f56eae",
   "metadata": {},
   "outputs": [],
   "source": [
    "x= layers.Conv2D(filters=64, kernel_size=3, strides=1, padding='same')(x)\n",
    "x=layers.BatchNormalization()(x)\n",
    "x=layers.LeakyReLU()(x)"
   ]
  },
  {
   "cell_type": "code",
   "execution_count": 154,
   "id": "e08f7fa3-4a69-46d4-8348-2240cb8fcbb6",
   "metadata": {},
   "outputs": [],
   "source": [
    "x= layers.Conv2D(filters=64, kernel_size=3, strides=2, padding='same')(x)\n",
    "x=layers.BatchNormalization()(x)\n",
    "x=layers.LeakyReLU()(x)"
   ]
  },
  {
   "cell_type": "code",
   "execution_count": 155,
   "id": "07425e11-6c02-445f-98e8-7418e95a4665",
   "metadata": {},
   "outputs": [],
   "source": [
    "x=Flatten()(x)"
   ]
  },
  {
   "cell_type": "code",
   "execution_count": 156,
   "id": "1bec3a33-76df-418a-b915-7226a7e1017d",
   "metadata": {},
   "outputs": [],
   "source": [
    "x=Dense(128)(x)"
   ]
  },
  {
   "cell_type": "code",
   "execution_count": 157,
   "id": "fff989d9-4130-480e-ac3d-5db9ffa6d79f",
   "metadata": {},
   "outputs": [],
   "source": [
    "x=layers.BatchNormalization()(x)\n",
    "x=layers.LeakyReLU()(x)"
   ]
  },
  {
   "cell_type": "code",
   "execution_count": 158,
   "id": "659da5a2-3751-4a4f-9e80-15957e99cb95",
   "metadata": {},
   "outputs": [],
   "source": [
    "x=layers.Dropout(rate=0.5)(x)"
   ]
  },
  {
   "cell_type": "code",
   "execution_count": 159,
   "id": "4250497f-2a86-4ed8-8f85-b34d5772aff2",
   "metadata": {},
   "outputs": [],
   "source": [
    "x=Dense(NUM_CLASSES)(x)"
   ]
  },
  {
   "cell_type": "code",
   "execution_count": 160,
   "id": "58b51626-721e-4214-8daa-842092f1cb88",
   "metadata": {},
   "outputs": [],
   "source": [
    "output_layer = layers.Activation('softmax')(x)"
   ]
  },
  {
   "cell_type": "code",
   "execution_count": 161,
   "id": "5a017752-a103-4c8d-8552-147d70f50e46",
   "metadata": {},
   "outputs": [],
   "source": [
    "model=Model(input_layer,output_layer)"
   ]
  },
  {
   "cell_type": "markdown",
   "id": "346560ad-ed14-4337-8d08-6e1655584a9a",
   "metadata": {},
   "source": [
    "leakyrelu 층과 batchnomalization 층이 뒤따르는 4개의 conv2d 층을 쌓고 만들어진 텐서를 일렬로 펼쳐 128개의 unit을 가진 dense 층에 통과시키고 다시 한 번 batchnomalization층과 leakyrelu층을 거쳐 dropout층을 지나 10개의 unit을 가진 dense 층이 최종 출력을 만든다."
   ]
  },
  {
   "cell_type": "code",
   "execution_count": 162,
   "id": "a4062745-c2da-4fb3-aea6-7baf6218d1d8",
   "metadata": {},
   "outputs": [
    {
     "name": "stdout",
     "output_type": "stream",
     "text": [
      "Model: \"model_3\"\n",
      "_________________________________________________________________\n",
      " Layer (type)                Output Shape              Param #   \n",
      "=================================================================\n",
      " input_5 (InputLayer)        [(None, 32, 32, 3)]       0         \n",
      "                                                                 \n",
      " conv2d_8 (Conv2D)           (None, 32, 32, 32)        896       \n",
      "                                                                 \n",
      " batch_normalization_5 (Batc  (None, 32, 32, 32)       128       \n",
      " hNormalization)                                                 \n",
      "                                                                 \n",
      " leaky_re_lu_5 (LeakyReLU)   (None, 32, 32, 32)        0         \n",
      "                                                                 \n",
      " conv2d_9 (Conv2D)           (None, 16, 16, 32)        9248      \n",
      "                                                                 \n",
      " batch_normalization_6 (Batc  (None, 16, 16, 32)       128       \n",
      " hNormalization)                                                 \n",
      "                                                                 \n",
      " leaky_re_lu_6 (LeakyReLU)   (None, 16, 16, 32)        0         \n",
      "                                                                 \n",
      " conv2d_10 (Conv2D)          (None, 16, 16, 64)        18496     \n",
      "                                                                 \n",
      " batch_normalization_7 (Batc  (None, 16, 16, 64)       256       \n",
      " hNormalization)                                                 \n",
      "                                                                 \n",
      " leaky_re_lu_7 (LeakyReLU)   (None, 16, 16, 64)        0         \n",
      "                                                                 \n",
      " conv2d_11 (Conv2D)          (None, 8, 8, 64)          36928     \n",
      "                                                                 \n",
      " batch_normalization_8 (Batc  (None, 8, 8, 64)         256       \n",
      " hNormalization)                                                 \n",
      "                                                                 \n",
      " leaky_re_lu_8 (LeakyReLU)   (None, 8, 8, 64)          0         \n",
      "                                                                 \n",
      " flatten_4 (Flatten)         (None, 4096)              0         \n",
      "                                                                 \n",
      " dense_9 (Dense)             (None, 128)               524416    \n",
      "                                                                 \n",
      " batch_normalization_9 (Batc  (None, 128)              512       \n",
      " hNormalization)                                                 \n",
      "                                                                 \n",
      " leaky_re_lu_9 (LeakyReLU)   (None, 128)               0         \n",
      "                                                                 \n",
      " dropout_1 (Dropout)         (None, 128)               0         \n",
      "                                                                 \n",
      " dense_10 (Dense)            (None, 10)                1290      \n",
      "                                                                 \n",
      " activation_1 (Activation)   (None, 10)                0         \n",
      "                                                                 \n",
      "=================================================================\n",
      "Total params: 592,554\n",
      "Trainable params: 591,914\n",
      "Non-trainable params: 640\n",
      "_________________________________________________________________\n"
     ]
    }
   ],
   "source": [
    "model.summary()"
   ]
  },
  {
   "cell_type": "markdown",
   "id": "2c51bbc3-d74f-4ef3-a3a8-4e65fc30331b",
   "metadata": {},
   "source": [
    "kernal인 3 곱하기 3 곱하기 3(컬러 rgb 3개) = 27 곱하기 32 = 896"
   ]
  },
  {
   "cell_type": "code",
   "execution_count": 165,
   "id": "9624f974-ad60-4c76-9375-a538c1a80108",
   "metadata": {},
   "outputs": [],
   "source": [
    "model.compile(loss='categorical_crossentropy',optimizer=opt, metrics = ['accuracy'])"
   ]
  },
  {
   "cell_type": "code",
   "execution_count": 166,
   "id": "45f0de6a-0ae6-434d-a5ea-38bfbde86028",
   "metadata": {},
   "outputs": [
    {
     "name": "stdout",
     "output_type": "stream",
     "text": [
      "Epoch 1/10\n",
      "1563/1563 [==============================] - 43s 27ms/step - loss: 1.6410 - accuracy: 0.4290\n",
      "Epoch 2/10\n",
      "1563/1563 [==============================] - 43s 27ms/step - loss: 1.3050 - accuracy: 0.5392\n",
      "Epoch 3/10\n",
      "1563/1563 [==============================] - 43s 27ms/step - loss: 1.1527 - accuracy: 0.5967\n",
      "Epoch 4/10\n",
      "1563/1563 [==============================] - 42s 27ms/step - loss: 1.0484 - accuracy: 0.6345\n",
      "Epoch 5/10\n",
      "1563/1563 [==============================] - 43s 27ms/step - loss: 0.9833 - accuracy: 0.6552\n",
      "Epoch 6/10\n",
      "1563/1563 [==============================] - 42s 27ms/step - loss: 0.9276 - accuracy: 0.6780\n",
      "Epoch 7/10\n",
      "1563/1563 [==============================] - 42s 27ms/step - loss: 0.8856 - accuracy: 0.6897\n",
      "Epoch 8/10\n",
      "1563/1563 [==============================] - 42s 27ms/step - loss: 0.8444 - accuracy: 0.7057\n",
      "Epoch 9/10\n",
      "1563/1563 [==============================] - 42s 27ms/step - loss: 0.8059 - accuracy: 0.7213\n",
      "Epoch 10/10\n",
      "1563/1563 [==============================] - 43s 27ms/step - loss: 0.7720 - accuracy: 0.7308\n"
     ]
    },
    {
     "data": {
      "text/plain": [
       "<keras.callbacks.History at 0x7f6c3c208520>"
      ]
     },
     "execution_count": 166,
     "metadata": {},
     "output_type": "execute_result"
    }
   ],
   "source": [
    "model.fit(x_train, # 원본 이미지 데이터\n",
    "      y_train, # one-hot encoding된 class label\n",
    "      batch_size = 32, # 훈련 step마다 network에 전달될 sample 개수 결정\n",
    "      epochs = 10, # network가 전체 훈련 data에 대해 반복하여 훈련할 횟수\n",
    "      shuffle = True) # True면 훈련 step마다 batch를 훈련 data에서 중복 허용않고 random하게 추출"
   ]
  },
  {
   "cell_type": "code",
   "execution_count": 167,
   "id": "4d9feb87-9743-498e-b87b-4da8cce57e35",
   "metadata": {},
   "outputs": [
    {
     "name": "stdout",
     "output_type": "stream",
     "text": [
      "10/10 [==============================] - 1s 61ms/step - loss: 0.8867 - accuracy: 0.6866\n"
     ]
    },
    {
     "data": {
      "text/plain": [
       "[0.8867210149765015, 0.6866000294685364]"
      ]
     },
     "execution_count": 167,
     "metadata": {},
     "output_type": "execute_result"
    }
   ],
   "source": [
    "model.evaluate(x_test,y_test,batch_size=1000)"
   ]
  },
  {
   "cell_type": "markdown",
   "id": "6925930b-0e01-451c-802f-922db1d07657",
   "metadata": {},
   "source": [
    "------------------"
   ]
  },
  {
   "cell_type": "markdown",
   "id": "d88b6375-2769-4aa4-9bb5-d13f9ef14c43",
   "metadata": {},
   "source": [
    "#### GAN keras로 해보기"
   ]
  },
  {
   "cell_type": "markdown",
   "id": "f980ad29-bb85-4d0d-92b1-7c16be175a0e",
   "metadata": {},
   "source": [
    "https://github.com/davidADSP/GDL_code"
   ]
  },
  {
   "cell_type": "markdown",
   "id": "4d62df77-e635-4ece-91fa-d54dc0bfb86d",
   "metadata": {},
   "source": [
    "ref: https://keras.io/examples/generative/conditional_gan/"
   ]
  },
  {
   "cell_type": "code",
   "execution_count": 2,
   "id": "10c6b25e-004b-4f09-97c4-54d4ab4270cb",
   "metadata": {},
   "outputs": [],
   "source": [
    "from tensorflow import keras\n",
    "from tensorflow.keras import layers\n",
    "\n",
    "from tensorflow_docs.vis import embed\n",
    "import matplotlib.pyplot as plt\n",
    "import tensorflow as tf\n",
    "import numpy as np\n",
    "import imageio"
   ]
  },
  {
   "cell_type": "code",
   "execution_count": 3,
   "id": "46113588-0f93-45e4-9fea-db329aa74cf3",
   "metadata": {},
   "outputs": [],
   "source": [
    "batch_size = 64\n",
    "num_channels = 1\n",
    "num_classes = 10\n",
    "image_size = 28\n",
    "latent_dim = 128"
   ]
  },
  {
   "cell_type": "code",
   "execution_count": 4,
   "id": "df8f5eac-0c9f-4062-93d8-c5984b88859b",
   "metadata": {},
   "outputs": [
    {
     "name": "stdout",
     "output_type": "stream",
     "text": [
      "Shape of training images: (70000, 28, 28, 1)\n",
      "Shape of training labels: (70000, 10)\n"
     ]
    }
   ],
   "source": [
    "# We'll use all the available examples from both the training and test\n",
    "# sets.\n",
    "(x_train, y_train), (x_test, y_test) = keras.datasets.mnist.load_data()\n",
    "all_digits = np.concatenate([x_train, x_test])\n",
    "all_labels = np.concatenate([y_train, y_test])\n",
    "\n",
    "# Scale the pixel values to [0, 1] range, add a channel dimension to\n",
    "# the images, and one-hot encode the labels.\n",
    "all_digits = all_digits.astype(\"float32\") / 255.0\n",
    "all_digits = np.reshape(all_digits, (-1, 28, 28, 1))\n",
    "all_labels = keras.utils.to_categorical(all_labels, 10)\n",
    "\n",
    "# Create tf.data.Dataset.\n",
    "dataset = tf.data.Dataset.from_tensor_slices((all_digits, all_labels))\n",
    "dataset = dataset.shuffle(buffer_size=1024).batch(batch_size)\n",
    "\n",
    "print(f\"Shape of training images: {all_digits.shape}\")\n",
    "print(f\"Shape of training labels: {all_labels.shape}\")\n"
   ]
  },
  {
   "cell_type": "code",
   "execution_count": 5,
   "id": "dea63d06-cab7-4326-a3a5-9f06fc3b1b3f",
   "metadata": {},
   "outputs": [
    {
     "name": "stdout",
     "output_type": "stream",
     "text": [
      "138 11\n"
     ]
    }
   ],
   "source": [
    "generator_in_channels = latent_dim + num_classes\n",
    "discriminator_in_channels = num_channels + num_classes\n",
    "print(generator_in_channels, discriminator_in_channels)"
   ]
  },
  {
   "cell_type": "code",
   "execution_count": 6,
   "id": "42370a3e-e986-4e2d-8aef-458e579f340b",
   "metadata": {},
   "outputs": [],
   "source": [
    "# Create the discriminator.\n",
    "discriminator = keras.Sequential(\n",
    "    [\n",
    "        keras.layers.InputLayer((28, 28, discriminator_in_channels)),\n",
    "        layers.Conv2D(64, (3, 3), strides=(2, 2), padding=\"same\"),\n",
    "        layers.LeakyReLU(alpha=0.2),\n",
    "        layers.Conv2D(128, (3, 3), strides=(2, 2), padding=\"same\"),\n",
    "        layers.LeakyReLU(alpha=0.2),\n",
    "        layers.GlobalMaxPooling2D(),\n",
    "        layers.Dense(1),\n",
    "    ],\n",
    "    name=\"discriminator\",\n",
    ")\n",
    "\n",
    "# Create the generator.\n",
    "generator = keras.Sequential(\n",
    "    [\n",
    "        keras.layers.InputLayer((generator_in_channels,)),\n",
    "        # We want to generate 128 + num_classes coefficients to reshape into a\n",
    "        # 7x7x(128 + num_classes) map.\n",
    "        layers.Dense(7 * 7 * generator_in_channels),\n",
    "        layers.LeakyReLU(alpha=0.2),\n",
    "        layers.Reshape((7, 7, generator_in_channels)),\n",
    "        layers.Conv2DTranspose(128, (4, 4), strides=(2, 2), padding=\"same\"),\n",
    "        layers.LeakyReLU(alpha=0.2),\n",
    "        layers.Conv2DTranspose(128, (4, 4), strides=(2, 2), padding=\"same\"),\n",
    "        layers.LeakyReLU(alpha=0.2),\n",
    "        layers.Conv2D(1, (7, 7), padding=\"same\", activation=\"sigmoid\"),\n",
    "    ],\n",
    "    name=\"generator\",\n",
    ")"
   ]
  },
  {
   "cell_type": "code",
   "execution_count": 7,
   "id": "5c5fc730-ed4e-4106-b0c2-776975db1ca1",
   "metadata": {},
   "outputs": [],
   "source": [
    "class ConditionalGAN(keras.Model):\n",
    "    def __init__(self, discriminator, generator, latent_dim):\n",
    "        super(ConditionalGAN, self).__init__()\n",
    "        self.discriminator = discriminator\n",
    "        self.generator = generator\n",
    "        self.latent_dim = latent_dim\n",
    "        self.gen_loss_tracker = keras.metrics.Mean(name=\"generator_loss\")\n",
    "        self.disc_loss_tracker = keras.metrics.Mean(name=\"discriminator_loss\")\n",
    "\n",
    "    @property\n",
    "    def metrics(self):\n",
    "        return [self.gen_loss_tracker, self.disc_loss_tracker]\n",
    "\n",
    "    def compile(self, d_optimizer, g_optimizer, loss_fn):\n",
    "        super(ConditionalGAN, self).compile()\n",
    "        self.d_optimizer = d_optimizer\n",
    "        self.g_optimizer = g_optimizer\n",
    "        self.loss_fn = loss_fn\n",
    "\n",
    "    def train_step(self, data):\n",
    "        # Unpack the data.\n",
    "        real_images, one_hot_labels = data\n",
    "\n",
    "        # Add dummy dimensions to the labels so that they can be concatenated with\n",
    "        # the images. This is for the discriminator.\n",
    "        image_one_hot_labels = one_hot_labels[:, :, None, None]\n",
    "        image_one_hot_labels = tf.repeat(\n",
    "            image_one_hot_labels, repeats=[image_size * image_size]\n",
    "        )\n",
    "        image_one_hot_labels = tf.reshape(\n",
    "            image_one_hot_labels, (-1, image_size, image_size, num_classes)\n",
    "        )\n",
    "\n",
    "        # Sample random points in the latent space and concatenate the labels.\n",
    "        # This is for the generator.\n",
    "        batch_size = tf.shape(real_images)[0]\n",
    "        random_latent_vectors = tf.random.normal(shape=(batch_size, self.latent_dim))\n",
    "        random_vector_labels = tf.concat(\n",
    "            [random_latent_vectors, one_hot_labels], axis=1\n",
    "        )\n",
    "\n",
    "        # Decode the noise (guided by labels) to fake images.\n",
    "        generated_images = self.generator(random_vector_labels)\n",
    "\n",
    "        # Combine them with real images. Note that we are concatenating the labels\n",
    "        # with these images here.\n",
    "        fake_image_and_labels = tf.concat([generated_images, image_one_hot_labels], -1)\n",
    "        real_image_and_labels = tf.concat([real_images, image_one_hot_labels], -1)\n",
    "        combined_images = tf.concat(\n",
    "            [fake_image_and_labels, real_image_and_labels], axis=0\n",
    "        )\n",
    "\n",
    "        # Assemble labels discriminating real from fake images.\n",
    "        labels = tf.concat(\n",
    "            [tf.ones((batch_size, 1)), tf.zeros((batch_size, 1))], axis=0\n",
    "        )\n",
    "\n",
    "        # Train the discriminator.\n",
    "        with tf.GradientTape() as tape:\n",
    "            predictions = self.discriminator(combined_images)\n",
    "            d_loss = self.loss_fn(labels, predictions)\n",
    "        grads = tape.gradient(d_loss, self.discriminator.trainable_weights)\n",
    "        self.d_optimizer.apply_gradients(\n",
    "            zip(grads, self.discriminator.trainable_weights)\n",
    "        )\n",
    "\n",
    "        # Sample random points in the latent space.\n",
    "        random_latent_vectors = tf.random.normal(shape=(batch_size, self.latent_dim))\n",
    "        random_vector_labels = tf.concat(\n",
    "            [random_latent_vectors, one_hot_labels], axis=1\n",
    "        )\n",
    "\n",
    "        # Assemble labels that say \"all real images\".\n",
    "        misleading_labels = tf.zeros((batch_size, 1))\n",
    "\n",
    "        # Train the generator (note that we should *not* update the weights\n",
    "        # of the discriminator)!\n",
    "        with tf.GradientTape() as tape:\n",
    "            fake_images = self.generator(random_vector_labels)\n",
    "            fake_image_and_labels = tf.concat([fake_images, image_one_hot_labels], -1)\n",
    "            predictions = self.discriminator(fake_image_and_labels)\n",
    "            g_loss = self.loss_fn(misleading_labels, predictions)\n",
    "        grads = tape.gradient(g_loss, self.generator.trainable_weights)\n",
    "        self.g_optimizer.apply_gradients(zip(grads, self.generator.trainable_weights))\n",
    "\n",
    "        # Monitor loss.\n",
    "        self.gen_loss_tracker.update_state(g_loss)\n",
    "        self.disc_loss_tracker.update_state(d_loss)\n",
    "        return {\n",
    "            \"g_loss\": self.gen_loss_tracker.result(),\n",
    "            \"d_loss\": self.disc_loss_tracker.result(),\n",
    "        }"
   ]
  },
  {
   "cell_type": "code",
   "execution_count": 8,
   "id": "400470fe-e97c-4bb9-88c8-734cd7f5399f",
   "metadata": {},
   "outputs": [
    {
     "name": "stdout",
     "output_type": "stream",
     "text": [
      "Epoch 1/5\n",
      "1094/1094 [==============================] - 445s 406ms/step - g_loss: 1.2610 - d_loss: 0.4980\n",
      "Epoch 2/5\n",
      "1094/1094 [==============================] - 444s 406ms/step - g_loss: 1.3339 - d_loss: 0.4899\n",
      "Epoch 3/5\n",
      "1094/1094 [==============================] - 448s 409ms/step - g_loss: 1.7392 - d_loss: 0.3492\n",
      "Epoch 4/5\n",
      "1094/1094 [==============================] - 444s 406ms/step - g_loss: 2.4355 - d_loss: 0.1895\n",
      "Epoch 5/5\n",
      "1094/1094 [==============================] - 445s 407ms/step - g_loss: 1.1021 - d_loss: 0.6058\n"
     ]
    },
    {
     "data": {
      "text/plain": [
       "<keras.callbacks.History at 0x7f1eba495100>"
      ]
     },
     "execution_count": 8,
     "metadata": {},
     "output_type": "execute_result"
    }
   ],
   "source": [
    "cond_gan = ConditionalGAN(\n",
    "    discriminator=discriminator, generator=generator, latent_dim=latent_dim\n",
    ")\n",
    "cond_gan.compile(\n",
    "    d_optimizer=keras.optimizers.Adam(learning_rate=0.0003),\n",
    "    g_optimizer=keras.optimizers.Adam(learning_rate=0.0003),\n",
    "    loss_fn=keras.losses.BinaryCrossentropy(from_logits=True),\n",
    ")\n",
    "\n",
    "cond_gan.fit(dataset, epochs=5)"
   ]
  },
  {
   "cell_type": "code",
   "execution_count": 9,
   "id": "152dbe2c-18fb-42d5-917f-7d137f9fd0d0",
   "metadata": {},
   "outputs": [],
   "source": [
    "# We first extract the trained generator from our Conditiona GAN.\n",
    "trained_gen = cond_gan.generator\n",
    "\n",
    "# Choose the number of intermediate images that would be generated in\n",
    "# between the interpolation + 2 (start and last images).\n",
    "num_interpolation = 9  # @param {type:\"integer\"}\n",
    "\n",
    "# Sample noise for the interpolation.\n",
    "interpolation_noise = tf.random.normal(shape=(1, latent_dim))\n",
    "interpolation_noise = tf.repeat(interpolation_noise, repeats=num_interpolation)\n",
    "interpolation_noise = tf.reshape(interpolation_noise, (num_interpolation, latent_dim))\n",
    "\n",
    "\n",
    "def interpolate_class(first_number, second_number):\n",
    "    # Convert the start and end labels to one-hot encoded vectors.\n",
    "    first_label = keras.utils.to_categorical([first_number], num_classes)\n",
    "    second_label = keras.utils.to_categorical([second_number], num_classes)\n",
    "    first_label = tf.cast(first_label, tf.float32)\n",
    "    second_label = tf.cast(second_label, tf.float32)\n",
    "\n",
    "    # Calculate the interpolation vector between the two labels.\n",
    "    percent_second_label = tf.linspace(0, 1, num_interpolation)[:, None]\n",
    "    percent_second_label = tf.cast(percent_second_label, tf.float32)\n",
    "    interpolation_labels = (\n",
    "        first_label * (1 - percent_second_label) + second_label * percent_second_label\n",
    "    )\n",
    "\n",
    "    # Combine the noise and the labels and run inference with the generator.\n",
    "    noise_and_labels = tf.concat([interpolation_noise, interpolation_labels], 1)\n",
    "    fake = trained_gen.predict(noise_and_labels)\n",
    "    return fake\n",
    "\n",
    "\n",
    "start_class = 1  # @param {type:\"slider\", min:0, max:9, step:1}\n",
    "end_class = 5  # @param {type:\"slider\", min:0, max:9, step:1}\n",
    "\n",
    "fake_images = interpolate_class(start_class, end_class)\n"
   ]
  },
  {
   "cell_type": "code",
   "execution_count": 10,
   "id": "48b619e0-df2a-4fd0-84c0-100f77e766bd",
   "metadata": {},
   "outputs": [
    {
     "data": {
      "text/html": [
       "<img src=\"data:image/gif;base64,R0lGODlhYABgAIcAAP7+/v39/fz8/Pv7+/r6+vn5+fj4+Pf39/b29vX19fT09PPz8/Ly8vHx8fDw8O/v7+7u7u3t7ezs7Ovr6+rq6unp6ejo6Ofn5+bm5uXl5eTk5OPj4+Li4uHh4eDg4N/f397e3t3d3dzc3Nvb29ra2tnZ2djY2NfX19bW1tXV1dTU1NPT09LS0tHR0dDQ0M/Pz87Ozs3NzczMzMvLy8rKysnJycjIyMfHx8bGxsXFxcTExMPDw8LCwsHBwcDAwL+/v76+vr29vby8vLu7u7q6urm5ubi4uLe3t7a2trW1tbS0tLOzs7KysrGxsbCwsK+vr66urq2traysrKurq6qqqqmpqaioqKenp6ampqWlpaSkpKOjo6KioqGhoaCgoJ+fn56enp2dnZycnJubm5qampmZmZiYmJeXl5aWlpWVlZSUlJOTk5KSkpGRkZCQkI+Pj46Ojo2NjYyMjIuLi4qKiomJiYiIiIeHh4aGhoWFhYSEhIODg4KCgoGBgYCAgH9/f35+fn19fXx8fHt7e3p6enl5eXh4eHd3d3Z2dnV1dXR0dHNzc3JycnFxcXBwcG9vb25ubm1tbWxsbGtra2pqamlpaWhoaGdnZ2ZmZmVlZWRkZGNjY2JiYmFhYWBgYF9fX15eXl1dXVxcXFtbW1paWllZWVhYWFdXV1ZWVlVVVVRUVFNTU1JSUlFRUVBQUE9PT05OTk1NTUxMTEtLS0pKSklJSUhISEdHR0ZGRkVFRURERENDQ0JCQkFBQUBAQD8/Pz4+Pj09PTw8PDs7Ozo6Ojk5OTg4ODc3NzY2NjU1NTQ0NDMzMzIyMjExMTAwMC8vLy4uLi0tLSwsLCsrKyoqKikpKSgoKCcnJyYmJiUlJSQkJCMjIyIiIiEhISAgIB8fHx4eHh0dHRwcHBsbGxoaGhkZGRgYGBcXFxYWFhUVFRQUFBMTExISEhERERAQEA8PDw4ODg0NDQwMDAsLCwoKCgkJCQgICAcHBwYGBgUFBQQEBAMDAwICAgEBAQAAAAAAACH/C05FVFNDQVBFMi4wAwH//wAh+QQIZAAAACwAAAAAYABgAAAI/wD37ePXz5/BgwgTKlzIsKHDhxAj+hNIUKLFixgzQuRHsKDGjyBDNuxHUqTJkyhTqlzJsqXLlzBjypxJs6bNmxn31XN37hw6de3m4cNJ1B8+dduaOYs2TZs5eSWL0uxX71uyWbVy9TqWbV1HqS735bP3zlw3aLpIOYJECdOpYNzo3dPnEWxKqu7MRbvlKdGeNl/AiCmTx9Mwc+3o0bWbkt87cdVkJfoihEeNFy9iyFCiRxU2ce3wVWRsUh+6asMmcSERIIAAAQNig9BCaVm2c/UGkgbZj58+edNoVXJDZENr1wMKHCjhBdMzbunujd6dkV++eul8STqDpIWE4wEIIP9YkGIMJ2nf2OGrSx3jPnvxwqWKk2OEhQTgCyh44OIMKGviuKNPex/RU441vzCShQkVNGAAeA1ogAISe7jyDTry7EOgRusw48ojahgRAgUOgpeBDEy4gYkw6sBjDz8bZhQOLYd8kcQMHEzAgAGvCRAACUrAMUkt1tiDj4YxStTbPtd8ckYOLoyAQQQ7xvbaC2BAUosz5ySJUT70vMNMJmXk0AIIEzSggAEEEFCAATi8YYoy3LjjpUVUsUOOMJKIocMKHTiQAAIGvIlAAkL4scs36dBzp5LwkIPNLYuAoYMKGSRQqKEKNLBEI9DMcw+SjypEEj7tjIONMru0EskbTLj/EEIFhBpgQAISbECCF5tkk88+7JVq0JLvYBPMKpooogcZTNDwAQYQIHDAtA148EIQdKTyjT7TCTusWOYM80kfa2BhxA0pcACBAwsgIO0BEKhAhBeK3FJOt976o0898GDjyiBaJIHDCRyQOO0B7ro7wQxTyKFJMOlEla9B85yzjTCazNGEEDewIAIGD0xrqwEIV2DDFXh4Qow6wXrbDzvZGLPKIWIAsYMNMBAcAaEFuImwBTlw4ccox7Az8UEklbNMLJTMIcUMNNBQw5kTEEqAAATcegEPYBByijLtuOxbPeuEcw0wpzyCxxhO6ICDDTSs4EEEBxQwAGzKXTCEG5nc/0INPN7yg0897FwzzCuZCLLGFlMsMYQPOcyQQgcQ9Hw3bARcoAQfrxzTzTze7guPOMSUckgcXBzxAxFIMDHEDjOcsIEDBFze4wVRLFIMNufcIyxV6nzDTCqHlEHFEDLEAMQTXFgBhRJAyEACBhIw0HPtGEzhSDLbRPfokutYE0wqiaihxA82sDBDEl/QYUcee8ghhhRCwOABAwnkz0EUh/ASjTj0aFl7+CGWcAiDFIZIAxNesAIUmIAGUoADIy4RClaQQhKAYMMTYpAmBzjgA0/4wyuMwQ2oCHA3+rjHPKjRCkOQQQkvqMAFOBCCGmwBEKSwBTK0QQ1gtKISbTCCB/8scIELnAAKehhFL6zxDnxRJx/mkMYvRDGIF96ABBGwQAdIwIMzREIXyLAGOcAhjWLMghJ1qAIUpECFL+ihErAohjbeoQ/dtIck9IiGKxQBhywI4QUkyIADKuCBEwxhDqKAhjbG0Q49dUMauyBFIxbhiEhgghSw4EUzuuEOfPxKYozpDTx4kQgr+OAFIKhABNREgQ+oQAl/mEU51hGPe+DjHvwSxzSIUQxlOAMazlhGMqgRDnfUAx/cAqVU7sGOcDhjE2m4ogYgoAAFLGABHGiBD74AiWC8Q1TAKgg/5JGOb4CjHOlIhzi2QY1tjGMd8IjHPOhRj3rY4x6fPGFM2jH/DVxsgg5MKMGU2rWABkAABULgQh9K0Qx52CMfMBrWPeKhjnW4Ax7wUAc5vAEOcpwjnSBFBzpoaY9k4mQcuXgEGhY4gQVoygALgAAFaoAFPWxCF9kwErAQsg982OOet5RHO9BhDnKMIxzg+EY3uMGNbYADHfFAZkRtoo1RsIEHKrgAAVojgAI0gAIcGEIbLnGLZpDjV1NliODoEY91mCMc3MiGNaThDGUUYxnVAEeL7qHPlSyJGpjogtwgMACuGmACIGiBFQTRimVsgx0D6as/+pFCesCDHegQhzaikYxblIISk+BEKWKRjHDkgyYEzMczHNGEDERAAT5qDQI0wAIf/6TBEsRg1DycaCqx4FIe7ziHNprxC1AEQgxcGIMa8iCKZThqJtaxRzIG4YO6FfY4CQABDp7Ah1VoA5x4Su097MEObSSjFonoQgxKoIIXAGEPtYCHZFEij3NwAxZyoMHdjvMaB8AgCnLAxC/K8Uk89UYf+WAmNobRCkBIgQQW0IAHXOCGVkA2rS3pxzmiwYtJfGEFsUUOASoQBDdo4hbSaEdkL3Jgn6qDGr4whR6aEIIJyPAEaEBFOgr8En5wgxebqMMSRAAerBmAA1NYhDCqUY56zNdUvvFpOqCBC0/QIQkeeAAEIgCCMIyiHA/F8Er2EY1T+EELOtAAANYMgAEcYP8BIxADKL6xjnmQisWU9ak5lNEKSKRBCBtoAAMYoIEufEIcQhEzSkiSj2NYogxDWMEE2AwAAzBgAi1YQyrO4SJFQ4Qk+vCpOHyRiTpYwQYWuOYCMrAFTnjDRXdWST/e0wtCMKEFHWgApREQgQ3cgA6xeMdDn2yqPNvDG7IwxBaGoAIJJKCaGMBCJrSRmAG1xDf0oMUcZmCBkFFaARcYARD6oAvpELvYobaHNkwhByC84AMOSJgFrGAJa6hDHqdlST+u0w5WrGEFEFhAAcDzABHQgAqKCMZ6zp0Qkkx0Hc24RBheIAILrMlWE3BCIoixDXTYAyPKXIhO3lGOUpShBAv/OMBWuVoBFxgBDZhIRj4YvhB6qAMcv0BEFIboADa16QFF2AMsluENeYB8vr9JRzc64QUPsCm2r9mADrKwB1NAw9ohicc4qBGLPAShAZqyHQN4wIZO7KIadsIzRPCxDm84QxJW0MB+kTOAEBhhDY+YxTVirRF3dIMZp4ADDmrnIzYvYAdr2EQuqJF2Wc8DHM3AhSCYYIG5D8BNJ5ACH0YBDG94+iIwM0Yo2GADwgeAzQwIQh1UYYxtxMOvjrFGL0QhhyFM4DXIUY4LvOAIWzSjHDRfiDqqAQxOoGEGlzv9mhtgBEDoYhrjeO6iCdghVziiDDuIQI+6egAF0EANoNgh/zuCrxB0RCMXlRhDDHAPHgcwYRHJAMc6fHcX37AjGrbYxBuGgAHrDiABEGABQDAHp+AM3tAO5JcQ4BAMotAHU5ACIcZVEBAFkkANUJVviyYW7YAgp5AHTPAB+NMzDoABIrAEfeAK0xAO75CACJENsqAIZjAEIQAeyCEBVqAJ3hAP9sB3IRFl7bANyDALhFAFJlA9dYNYLmAFhmAL2VAOr2cS0iAKc+AENJABNHh5FLAFopAOJnUXYgEP4AANvuAIX/ACGqAjCtABMCAEaVAJwaBX0qcRS5IMk+AFOWACk8ZmA3ArGxAGp+AOLDgSBEQP5pANyZAJaqADJLABEhABKv8wBFvwBwWYDvBAfx/hW8BQCEpgAhnAAJRGAAoQASSABqvwDi7hcM1EDaRQB0XQAiOQARhwA1VAB5aAC9vgUFiXEZRlD/NwC3dgA2liAJRmAA+AAS3gBq8AOC+RdN7gCn7wBDawAh/gAUOABo2wCslgDjymEfwAH+vACmlgAqZ3HAhAASBgA3UwC08YFjtRDrVQCFXAAzBAAiPgBHggCr5QDeuwYh+hD+0ADtOgCV4QAnN3HAugASkQBHxwC0bXY/hAD+zAC4ywBUJQAyiAAliACLgADeAQD7xlEfcwDs+wC4ggBR0Qga3RAB8QA0wwCLvQkKcoFvMwDH1yBDrAAi3/MAaY4AziwA58JRL1kA2+MAp1cAQYQIOt8QAloANWoAi+AJMZ1lPyIAyREAZKIAQ78ANyQArXgA7wgIEgEQ/LUAp/sAU3kIcA4BqwEYso01z1ABP7Rha/4AhewAR2WQWC8ArdwA7zkIsf0Q67kAhY0AMloGtr5hpZIwJOkAeh4AvbMBQOOQ/rsAuLsAVPYAVcoAaSoAvi8A65YRLpsApuEAMgQAEHwGYBsIcJ0AJksAnJoA3qwIONcQ/yoA67wAhdQAVg0AZ+EArEgA6i8nkWYQ6i0AUZ8AAJcF2vsQAU0AFF4Ae3YA7GFIifdh3uEAyUcAZg4AZ84Ait0AztEGYm/2EOowAGHSABC3A1l3cAH4ADUEAHnwA2QkGdD0FZE2UMmxAHa7AHi+AJumAN+LZTImEOpTAGItAgBcB9DEADWzAInNcNxySbXggmzDAKenAHiaAJrmAM3sBX9OkP52AKZsCJD2AAbhaKSPAHtjAN4gAPH7kSvnEP1mALlkAJogALvzAN2vih/qAOsqAHQiA9RVQCMiAEb9AJyhAO6+BkUyEW4rAMtCALvHAM6KFiKdEOvvAIYMAEO5ACLVAEXWAHmKAL3RAUYBkTJLEP7fAN0QAN19AN5MAO9CCcGBEPykAKfnAGUbADQlAGiKAKwYAN77CNM9EbEGlU57AO70APM8eXEvRgDf5UCHCwBWJgCKrADNugDmc6Ff3wcBYVD3LhlyJxD+HADLZgCpdwCI2ACsPQDecQDxKKpmMhD/JAD0bCLSqhD+zApsfQC7SAC3TSDvLwk0SxJPmQD8nEowfBDw93DuLAUeoQQMoqhwSkD3X0FbJ2HfHgDurwUZU4rbq4JBTxoiEhFvZAD/MQD7hoFyTBEQOBrbBHQALBj1LRGxzBESF3NHh2r/Cqr8XWVyQRsPnqrwaBryMhsANLsP5gsAyBsAlLsAEBACH5BAhkAAAALAAAAABgAGAAh/7+/v39/fz8/Pv7+/r6+vn5+fj4+Pf39/b29vX19fT09PPz8/Ly8vHx8fDw8O/v7+7u7u3t7ezs7Ovr6+rq6unp6ejo6Ofn5+bm5uXl5eTk5OPj4+Li4uHh4eDg4N/f397e3t3d3dzc3Nvb29ra2tnZ2djY2NfX19bW1tXV1dTU1NPT09LS0tHR0dDQ0M/Pz87Ozs3NzczMzMvLy8rKysnJycjIyMfHx8bGxsXFxcTExMPDw8LCwsHBwcDAwL+/v76+vr29vby8vLu7u7q6urm5ubi4uLe3t7a2trW1tbS0tLOzs7KysrGxsbCwsK+vr66urq2traysrKurq6qqqqmpqaioqKenp6ampqWlpaSkpKOjo6KioqGhoaCgoJ+fn56enp2dnZycnJubm5qampiYmJeXl5aWlpWVlZSUlJOTk5KSkpGRkZCQkI+Pj46Ojo2NjYyMjIuLi4qKiomJiYiIiIeHh4aGhoWFhYSEhIKCgoGBgYCAgH9/f35+fn19fXx8fHt7e3p6enl5eXh4eHd3d3Z2dnV1dXR0dHNzc3JycnFxcXBwcG9vb25ubm1tbWxsbGtra2pqamlpaWhoaGdnZ2ZmZmVlZWRkZGNjY2JiYmFhYWBgYF9fX15eXl1dXVxcXFtbW1paWllZWVhYWFdXV1ZWVlVVVVRUVFNTU1JSUlFRUVBQUE9PT05OTk1NTUxMTEtLS0pKSklJSUhISEdHR0ZGRkVFRURERENDQ0JCQkFBQUBAQD8/Pz4+Pj09PTw8PDs7Ozo6Ojk5OTg4ODc3NzY2NjU1NTQ0NDMzMzIyMjExMTAwMC8vLy4uLi0tLSwsLCsrKyoqKikpKSgoKCcnJyYmJiUlJSQkJCMjIyIiIiEhISAgIB8fHx4eHh0dHRwcHBsbGxoaGhkZGRgYGBcXFxYWFhUVFRQUFBMTExISEhERERAQEA8PDw4ODg0NDQwMDAsLCwoKCgkJCQgICAcHBwYGBgUFBQQEBAMDAwICAgEBAQAAAAAAAAAAAAAAAAj/APPl07ePn8GDCBMqXMiwocOHECPyE0hQosWLGDNC1EewoMaPIEM23EdSpMmTKFOqXMmypcuXMGPKnEmzps2bD/fhqzfPXbpy49C1k1cPn0ecMknm64nuW7VlyKZ1Q+eOnj6kSTnee2fOGzRgsVr1cubtHDx8WFvusyfPHbpw2qYpE6aLFSdGikDZYqYNXb20Kvfpw7fOm7RgrjYtMhRoz5w0X8TssQTLGLd4gFMOpgdumS1NfL4YIRLkh44aMHBgsVNJ1rN2RzOD3JfPXjxqtzTZcUKCAIECwH1DoIFFz6dh6ErKnp3vnjxnqw6VEeJhgHXfvh2oMCJm0S1yypdr/6TtHJmnOlRsZBDAXoD1AQs+zDiChxW4iuI/Dp4nLNIYIStMEMCAAbA3AAIUhNBCGaBwg19+GemTDz3HaNJGEzJYQOCA7hnwAAYgcKFJNg9CeJFg90jjiiJmDOHBhgUKUAADFGyAxSXYlGiiRbR5I8wpgFBhQnscCkCAAhBUQEUl1wwU244S7YMONcFcQoYLBAzAHoEHNhABFJJY4ySUGO3DTjfOlNKGDQkcQIAAXCLQgARQREKNPUaRiVE85nAjCx4+PLDAAXAO2CWdkEhDzz1X6WmRPfCkA4wgR1TwQAIDxDnnE448I489+ThqET70wLNMJWHMUIIFbl6nQAQXSP8ByTPx1BOqqBE1R881qviBxQ8mNHBAAQQY0EAFHFghCTS1ooUrRLThIw4wnvChhQ0TKDDsARBkIMIWlUQTDz3OPpvTPupAYwsmbQhhwQJtJjBBByd4YUk08JBrbkT7tGMNMKTUUUQFCiSQAAMWfJDCF5dA846++0IETzfKwLIHEhMkoMACH4qwQhgNvzNPuRE3NA851PAyyBISIKDAnBuQ4IIYmEDjzsglPzTxMrHwkQTBCzAQAQgu8NAGKNTkS3LOCJHkL8B2HIEBAwu8SgIOTOSRSjbzgMr0QoKl80wtl7hRxAYPMJAABCkIwUUhsXhTD6NfJyQYPuUgo8oiZgT/oQEEDSgwAQxNpAEJLuDMnU94X+tzTz3fAAMKIF7scMEDmGuQw2qZ9ALOPIp3VHc+9cSjDS6W1FFFDRQ8EEGCQowhiCjBhDMunk4+ue89PVUDyyJpMPFCBA9UsMEKTbjxiCrFgPNOPKDfg4/oaQmWDz4DUd80SdxDuo4zpOhhRRAsXPCBCz1AgQYgmbQSTDXghDNOOerAU5SONg1WDz2hl0gSRwCkh1uQgQk1DMEGKuiAC44AhjoQYhKjgEUvlBENaUyjGmVpVqOQUht5wEMei8JebKxHkaWwoxzBaIQWYMCCE4ygB2AIRCZAcQpXzCIXvxCGMIZBDGl8gx1duxVO/3RCj3ewwx0fVBz3/ieQgZiwHMSohBmEIIQgBGELe+CELGIRC1i8ohWrSMUpSEEKWhSjGuFQxzzwFxOSOMcd6lgHO9qhtI5wD4AcoUc7ztEMVAziDGlYAxsAoQlaCIMXtnhFKTYhCUUQwg96aEQoaGEMbKhjerqDiWBsw45zePIc64gHqOy4RJLU4x3psMYuQMEISFACE6fIBTOmcQxduIITisgDG8aQBSmcoQ+TYMUxwiG9Dc5kk6gkxzjEAY5ysEMexdTdWuJRmGbs4hW0yIUvkEGNb4DDGbxQhST0QIYoFCEHLzBCF+YQCVpgY1FCPKY+6tGOcnhjG9iohjbAcf+Oodgjk6SCxzm2AY1jKKMZ0LBGN8gBjmTMghOEaIMViICDFoyABkSoQh1AsYyb3cMmJKHHOsKBjWk8QxnOqAY3xrGOeWTScfWAhzrI4c1wyM8c6ABHMVThiDuAAQk3YEEIMBCCFdRAC4v4RTreUY9MvmQf9EBHN6TBjGL4QhjJgEY2yPGOTDIRH/i4hz3oMY94vKMd4JBcINIgBR2k4AMVYMADJGCBHuBhFix1aU1IEo9xUOMYv7jFK3BRDGl4Ax3xcCo/wnO3esjjHeMwRioYAQcq3GAEGogAAhbgAAjk4A60OEdVFMsSwbiDG8rQRSxQ4YlWCOMaov1LlFBEDz7/OcMWnthDFmrwgQs4wAAKcIAEeKAHXbRDlKQNjITWUQ1gtGIUmHCEKH7BDaWVqTbzUMc1hvGKQ3yBBhuYwAIIkIAHUAAIfvgFUeIZk8HYwxzPwAUpODEJRYhCGOK4x+IitBN3eMMZvpAEGWqgAQkoYAAJcMB5ASEMPBkzJgEFhzJoIYpQgOITs2jGOTCZkWjJgxzXSIYm0pADDoh3AAdgAAR64Adh6De5KVmLTLdRjFeAwhStmEUxstEONvJrnur4BjVGAYceeCCuAzDAwXTQB2GM6Zj0OGFzV+EJVugCGdYghzxg/JB8CNQbq7ADEEBwgQb85gAIsMEehKG9Ns6D/x3kkMYuRkEJU9wCGdcoxzxMkg+ucOMUcMABBiJw4AIYIM1rbrMmo0wOaNRiE4rwxCyOkec9iyQf7hhHNkSBhhcIygBGOrSa2cy4mDDaGbCQBCAu4QpjWEPPJsFHO8JRDU6IwQTDylSSEU1qLqOE0cxYhSLu8IhUCGMa45CHSexRDmoMoxFX8EChArDrUSsaJoxexikG4YZDhGIXzgAHZkQyD2zwIhR1OEIGNpTkBNyAD6S2SZTLkYxR8KEMf8gELZLRDXiY5B3KKAUguoADARGIAAdQAA74MAwfu2Tex/CEHbqAB0m4ghjaeIdJ1tELR4SBCClwwIYKkIAG7MAPxP8odUzicY5u/OIScMBCHSQRi2Nsw98fsV45YKGHI8TAAwogkACG9gItTKIZvk7JO8KBm0ekYQpzmAQtlNHv2eDDHt8YBRpa4AEJGIBLHbhBFPBwCmvcxEzcYIYrEEGGJsBhErdoxjfGrRF9sAUblrACBQaVqQERIAVOmIMldgGOs7Mj7a9YxBmogAdOBIMa5LC0RvpKDVvwgQgJyJKhSH4DMkAiFsw4x9nb8Q1HT0IOYSBEKp7xDXXIViPkMMYpCsEFGSBASwUCbgSKUB9lcMMdOHmHOFLGCT6wIRK34IY64rG0i1wjFXuowg5AYADcI/hDU2AEMsbBjtfTZB/uAIf/NHTRiT/EARO/OMenHsyjZkgiCy4AgQSyBCcC0OgDYPCEN0CVdJTsoxzPkAueEAhloAWGQAvjYD/sxy/7wAyRgAUt8AERgHsBUAAOgAElQAahAA4clj/b0AufIAhnwARBUAeq8A1VwV5Rog/MAAlXwAIeAAF9FwAGEAEcoAJnUArj4HAvkQ/SwAqFMIIxgAJk8Anb0A7zoILQIhjL8AhWsAId8ADTdgATAAIwwAaoUA79lxL4AD568AVIEAMfUwnMAA7rYA8R8jjFgAhOMAIY0AABAAByiAAWQAI28AapQA48qBb4sAyfQAdaoAQ5YANi0Ai5AA3hoGwYwTvu0At//0AEGRABCRCHcpgAGZACOzAHqpBf+7VX9yBibGAFJBgEY0AIpgAM1wB8J1IPblELeKADELAAXyeHAJAAG9ACQWAHq5A40wNS+MAMoFAHYrAFVVAFb5AIpNAL1dAOGKEPLOcNrPAGM7AACFAABkIADiACN9AEfOAK39A1CwgT+ZANuIAJiNAYehAJqPAL0ZCIGJEP6rANzOAJaDADglKNCccAGRADSdAdtSButnIT+mAO0cALsJAKFUYLx6AN5eAOH3UR9zAOzqALkCAGMzAB96hiFVACQMAFd9A54JAvShgT85AO4IAN0aAMeGYO9DAQGWEP3PAjgrAFMnABGLkAEP9wAR4AA0/QBotwCsQADjfTfDIBKTP1DdqADePQDkaxhfwAk8KACoYwBj+AAivgAjGwA0YQBWKAB45QCrsQDernNTdBOvHgDutwDuaAhHvIEPfQDcSwN2zABDtQBE+gBWhwB4VACaMQC8DAeu+AJ05pEtYjVvujXyBxD95QDK0QCXWQBU3wBXAQCJSACruADM5ADdtADu1gD235LPcQDstQC56ACHKgBnzwCKJQC8iwDeVwDumwDgpYN01jd802DLRQCpcwCaHgCryQDNbAUkeUL/cwmDsiIfWQDt0ADckwDL7QC8XgDArlTB/EP71ImwbRWO3QFd4ADuJADuiwDu9xUJ328GJPYpyZYT1XFw/sYA44FUdIBEL1gDv+IxjoiRUkdD2O9Q7jCT38U57YwxHnSRH3eXaDgT1NFFYIyhEE6lWD8WL7kp8AxD3bQ1oSIkIRIxgCukQKkVzW85kQonIdZp8FKqLPwqGzUaDVQ6EgERAAIfkECGQAAAAsAAAAAGAAYAAACP8A+/XzR7CgwYMIEypcyLChw4cFBUKcSLGixYsYM2rcyLGjx48gQ4ocSbKkyZMoU6pcybIlSn768tFzh04cuG7auoUrpw7evYEuUeqzJy8dt2fDfOWilStYMmrh3vELerIfPnnsuimzVapTpUaVQrnqJe3cPqBUO8LER6+duW/YoCXLVSoSIDxw0sT5w+iTrmrv6uWbmnbj1XXelt0itUkSIj5uwFCBsuSIEy1l7mDClY2cO3xoC1cUOC/dt2SoEKXxMgXJjxsvUqAwUWIFjR5Q7HASRo0cPYmiR/N7B04aLURbYpDAwMAAAQEBBBAosCACBhZWAK0alg0ev9DBEwL/99eP37501oSNyuPEBIcJCQgMgC5gAAEFES6cKEJm0Khh5NgzWHgKCSRRefvoQ84ys0yihhAcUNCAAfMFYGF9CUBwgQg1ILHFIK5gA089+hAonoECwZSPN8GQIggXNUTAAAIDWGhjdAg8YEEHJKwwAxmYMKNOPPiYiBCK5emDjz3b9AKKH1jI8MACB0B3Y3QGMCDBBRlw4MEUiwDYjj1GHomgPvfUIw82vYQSyBY1SNAAjVcKIEABCTQAQQQTVKAEIb18ow49ZR50Jj71xOOONbyMMkgXOFTwgALP3VgfAQYcgIACCzAgBB+2aGPOPIVGlGQ+RLWDzjS8lHLIGD90/2DBAwkYUMB8A9gnX672FbBDHa9QI048haZonpL3zLMOOdwwwwsrlNBBhQ0ulNDBBRI4oEACB9i6a684wHHKMt24U2aKCeZzjz30wFOONs8Yw4ssoBSiBhRF7BADCiBkkC2VtuZKwHQ2qPHJMNesA55opy5ZzzxYeRPNML/wkgsrlvyRRhdRFJGDCyNoQAGtBxQg33QF0FDGJbtEg854DKNZDz0QxwPPO+p4M80xxQwTDC6paLJIIHe0QYYWURyRAwsfXABBAgVoqgANYjwyCzPk8PNdePvcI487YLvTDjvrnANOXM0sgwwxvdwCSyqjcFLJI4j4cUYUOqjQwdML6P9pwxeIqGJMOPtsHZw+86iKTjqMo3NOOeF0k40100ADTTTTVBONM8ocQ7EtldRRhQ8rXMDAAxJYgAMXgYgCjDf5FB5cP/e489Y334ATjjjijCNOODdtg8024aAj9jrqpPM4N7ZAosYTN3wQAQUYcMDDF4K43k3shKVVHj3naGP5M85Icw033+xOju/ikJOOOzXfLDY5v2xihxZBnFD9ByIYwYYksVDGOPRxlsIgCB7geIYwgOELXgyDGdXgBjjIcY50qGMd7YgHPe7BQXvUY2bsSEYpBFGGJcAABCMwQQqegIdQ/IIa6CjcwliSpHZggxi0iIUrVEGLYDgjG98oxzr/3KHBe+RDH1pLonnoIQ1YOCIOVcgBClbQAhhkoRCwcIY32qG1Ga4ETfMYRzNsQYpPaMISoYDFL5hhDXCowx3ysAc+kIgkrdFjGrOQxBymZYIY8OAIbrDEL7JRjngYLi2HyUYwUDGJRhwiEI3wxCt+0QxtoKMdceQeeQyktXpUoxaVoMMUZEACHDABDIRARTPI0Y56eJEl9WgHOZ5RC00MYg9zYEMe+hKLYVTjHJi8hwxN1Ulr3AITdZCCC0TwAy7kQRO74MY76JGP2bnDG8/QRSgQMYc1kKELadhDI0Jxi2aMYx1Ekh0x9zGPatwiE3egQgxMYIQzIMIUxRgHPfCx/4/g8CMcx2gFJgohBzF4IQtU8AIb9NAIVAzDG+d4Bz4OSZ61wGMat9CEHrSgAxg8wQ2MSIUx9CnMmFUDFouwQxq4IAUoOIEJU+jCGfKQCVxgwzOgQYtA9oGodkTDFpvwAxiGsIMr0CESrUDGOOZRUgPmQxmbWIMVnoCEIVh1CEh4QhXMsIhXTAMc7CiSQQQylHmoAxq24IQgzsCEInxBD5RwBTLEEccSeY8f+EiGJtZwhSgw4QhEAAIPhKCEKZRBEa74Kjt+otN+oIke7LDGL1DRCCgqoQtvEAQnbiENVpLprvdARibUcIXJMIEIPagBD4wABTIkIrHgWIc9vjMQA//xtB7u2AYyapEJPnjhCZh5gyJMIYxrkEMehTGPPY6BiTRgwQqTKYIOXmCDIDRBDIhwBTVia49h2nZJ8QhHNIJRCkOgoQpX0EIX8FAJWSRjG+byXtecUQo+oAEMWYDCEGyQghfooAhbIEQrrjGOMXk3RUqiBzq4AY1bBDUNX6jCKe/giFL4whrtmAdoXFKefGQjF5gIBBy80IQfkBIFMMjBE/zQCm5EdKIw60eC8AEPdICDGbXoRCHYMIUdFEEKX6hDJWjx1XbYtSUyJgeON/GHMSiBBy34QAhO0AIi4IEV4ViHPPIBM4LslC3hfQYvRKEHKahABVUsAhsmgYtmiOP/HlThRzu84QxZOCINStDBCjjQgRGkIAh4eIU5AtPPh8yjHNfYhSGk0IEKQGABHThCHDSBi2qQKij9kMc5uAGMTMwhCkE4IQpsQAQvOKIX7dhn9xpij3aMIxmRyEIInJYACsgACm7AhDDYQdGV3CMe6mhGfbFwhBqQQAZI+MIeRsEMahbwIfqgxzussQkwlCADEEAAAzrgAiHgwRXliN0rS7KWbcCiEF9owg5SwIMt5AETudDGsyGCIHKY4gwp2EAEKISABlgAC5voxj2Q6BJ+qAsbqchDFIZAAxME4QyNeEUyxjFuhqTjFXTQAQowgIAADIA6UbgENwa+apUMRR7P/+AEGnxAgxWEgAhyAAUxrqGOii9kHbcYBPRCsIDoDCABULBEN+Zoc5HgI3HHeMQVVFCCEHTACHyYhaiQixF3ACMSYzCCChxwIQQ8Qej8LHpI6sEOcvBCEEngwAY0oIEkEAIY6fBJRuBhjE7QQQoyiICNDtAESmxDQCVHST/cUZxV2EEIGUh8BpSACGNMs5oYiYcySNEHLdhAAhc6wBIeMY1pHjkl5UEHNYChCTXswAIXwEAGmLCIZdSDnxmRhzNUcYgw6IACmUeCIpZxDniIVSUyDgcyXJEIL8xAAhTgUhMeEY1hYmQe0ogFJFZegcwbgRDD4O5KktQNYIziD1d4Af8EJnABDTiB+c6/CN05IYcoxEDvWCKCIF6njnps3+DYwAUyobACB5B/A0/wCNBARxnBDrhQCFGAAyLAADZiAEMQCL/ADelgf8DXNdQQC42wBkhgAg2wJRzwBJAwgPNmEemwCm1wQhNwADZSAEIACL2wDehAKKCXD/XwDskwCn3QBUAgAg0QARagAU3QCMwAeBlhDqMABh0gAQtAACv4A3ggC9FAVyrBTusADrgACWewBDXwAQ/AJxaABIdwDPFAIhdRHuQAClyQAbRSIxZSADjABqAADNfQDiqBD+wADtFwCnwgBTmgAhywJxEQAUMgCMGgZb83EQgiDp2QBRRAJWz/GAAEIANfEHHMgA4qYQ/mYA3EgAlr8AMqIAIZMAER8AAO4AN9sAvm4A6fRREwcQ/dkAlVkG0FYCWQ2AJV0AehIAzkoBL3YBTMMAp7IAU78AIigAHGiAFF8Ae5kGUySBGHZg258AdG0ByVgiU1QAaTUAvPoA6gZ4fhQA2voAhl0AQ8sAIeIGUiwASBYAvdgA6XRhFnVQuUUAY3gADVWB8I0ANzkArIIE2CZxXwsGm7oAl48AVJQAMkcAIpwAJTQAi0cFPEUhHhsAuU8AZMgAJMaCP2kQBGIAi+wA3oQIFVkQ/xkA7gYAysIAl5AAZHQAM3oAM9EAaPwAvt+I4PUR7X/3AKeBAFN8ABAgAAQCkdWbIEi6AMg3aIJqEP8qAO4hUMsdBbX6AETPAEUUAHnpAMEbWKDrEWzGAJX2ADJDABPxmUBZAjIAgNWgZ5QrGU48AN1vAM+leQYUAGZmAIrmANdTURjyUMhFAEGiABChAAQAkAAmAACjABVFAJ1TAin2cS7MQO5WAO57AqshAJd6AHfOAHm/ALA9RrC2EV8tAOt0AHMXAr0DGYA3AADFABVnAJ2cBUhfYSXtMOYPMO32AMraAJnQAKo4AL0bAO6dcQ+xAP59ANqrAGLSAfpxmUhikBUiAJ0pBhalkVSvJB9WAP66ANycALwFAMyVAN5DAPnv+5SYaSD+rADc3ACWOQAsopmGSJABDwBEKIDr5HQ8bSauTgDe4DP8K0MEgSEfxwD+QADbzwCFpQAhXinoRJAAfQAEvQeOLADlrZEtH2DusAD/tEgAhhcPYQP8vSDaPHCp6WBB6QoINZmBlSBHngCsxQLuP5EogyD68nQzMUbTRRDuLgDdRQDLZgCpQgCHBABTVwASYKlAPQbxTgA2cACbCwDOUQnMB3LDS6EPnwDubADdcgDc5SCo+QB2hwBUZAAyHwAHZiIYN5HxCAATdQBXNQCbnADZpUKgVhh+BADcsgDLlACojQBlRgBDiQAh5AAZSSK0KZAA6AASHAAkBQBWr/sAiykA1zFHhlgg/r8A3SIAyyIAqLAAdW8AM1wAIioAETwAAHUKoH8AAX8AErsANKoAVoYAeF8Am/AA4EJHaIhBjQkAuaKgdY4IklAAIbYAFywikMwAAZMGpI4AVzgAiQgAmfMAvNYBYvaiL4cJ7NAAuSQAdZAAQoQAHeSgESAAGk+AB7UkpNUAaAwAm2gAu5oAvHoA3t0GWlog/wYA7bMAysUAl2AwU8UAMtQBsngAIsIAM5AARTcAZ78Ai9uQzM0AzOcA3lIA+2mlz2AA/pkA3JoAumEAl8kAZZkAQ5oAM/QARLgAVlEAeEcAmroAvGIA3d4A3pM2hwJqcbiibv43AO3yBmqVAJfTCOTnAFX7AGfgAJo2ALyKAN5ZAO7PAO8SAP9ECENKsQJ3cO13AMtaBWabAGdfAHjfAJslAM4EkP+5AuUBq1CHFb7RAO1rBbodAIkaAJpPAKvJAM1hAOi6U1YzutZksQazEPZccNzgAMsmALwJAM0pANxeMO9KAP/7m3DIEgNPg15QCi2jAO7OC0clSrjouIx7IkfmsOE4RO9mBEBKS3m2sox6Iu8wAP7ABHA0dAZXu6n1keSRQTpEtbBgJ8E8sRubtJtEUVvYtp8rp9wyu7GtFFxgsSyJu8HhEQACH5BAhkAAAALAAAAABgAGAAAAj/APv180ewoMGDCBMqXMiwocOHBQVCnEixosWLGDNq3Mixo8ePIEOKHEmypMmTKFOqXMmyJcp+/Pbt4zfQpc2I+/Ldu5dvn8SbLQXmszeP3j19NGsCZSjwp0WY+eStKxfO2zZt27Zx6/YNnNeu4MKFO8dOnj18PpWm7LdPnz6fFvnpw9dO27Fas2K9WmUqVCdQokqVIjVqVClTp24dw0aO3by3ak/yG2ovHz+L++7NEzdslKFChAbxiWPGixgzatSkOXMmzZo2h0T5kvaNHc/LKjPTM7rPoj56766xErRFi5YsT368GIGihQwZMV68iDGjBhY/o3w9AwePt9OSk+1V/8ZNEZ88dtRWBdpSxQkSHzJKcPgwwoSJEiNGkChhwkeWOYdQIsorvSyTzTjr0INUZB+xlQ8+SFl0DzzoRJPKek8McUML8lVgAQYaZJABBheUeEEJNAzxRBZjuHHIJ7coo406t5EEk0w0WWRPO+U4cwogWyiBwwkdXCCBAw40oKSSDCiQwAELPDABBh6U0AIUclQCCzLfzGOPPiXBlJSE75wDjSqEfJEEDR9UIMEDDUAwgQUURODAAggYMIAAAgRAAAIMTCBDFHE0Ygow14wDD3kiNcWgQ/nM0841sChCRhM1dDBBBA88kIEIK5zwAQYRNIAAAXsGMIABCTQgwg1MjP/BRyWuHANOPkstlJk83dgCiRpQ1KBBBBA8IEEIMACRQwshXBDBAgagGoAABBSAgAQcmJCDFGoUsko09uSqkFz3kPOLJnZs8cMIGmiwAQgzHKGFFEPQICoGEDBw6gD8VntAAhjAcMQYlBBDj7gJsaXPOtDYsskga0zBxBNSYIEGHogMcgcbYExhBA4sfCDBAglEawACCVzQghBdPCLMwQgjBNNm0QCzyiWC/EGIIpF0osots7BCSiaG0BEGEzaEMIEDCRRwsgIWqNDDFYv8Mk/MCukzDzvkUDOMLLHkEkwy0nBTDjngcBNNLqIowkYTL3BAAQMFHICAAhWYgEMUh/T/cjXWMudTTzzkYLPMMtJg8005ZcnzTjvkNHNLKIScoUQNKGzQaacf4CDFG5wgUw/gMudkjzvmfPPNOOes846X9tSzdTbGzLKJIGpQAUQLG2RwQQUrQFEHJrhggw/pMseETz3yyENPPffg01Nbv3VdTCydJCIHFj+cMMIHG+CABibBUHMOmMhX1BQ+63gTjS+rYAIIGUi0sAIKJRzRxyzfpDMPo+l7iED4cQ91uE8XbZNDFoKwghfQAAdaaMQv0gEPezwqgAu5kT3U0Y1o1CITfBjDE3SAAhr8YAlt6AQzzII+DELkRvVIRwdj8Qg3VIEINNDbEroAiFZkI0cuFGA//yaUjm884xevoAQeuKAEIeiABksQQx4y0YtwXDCIB7kR4a5xjFl4QhF1AMMSgkDGIXxBD5aQRTPQgUUBtmUd2CgGLC7hhzJYAQk6uMEPkCCFOUxiFsroBjza6JB9LA8cxViFJPQgBiX8wAYteAEPlJCFPoSiGNo4B8wIqZB+4GMe7ohGKxTRhiDhIAYqIAEKblAEK/ShFMwIBzvC1ZGm2IQf9UCdMCqRBiT0QAYmEAH4QhCDIEzBD6mYBjrgcbyO8AOILOmHPuJxjm7Iwg9KMEEINkAnCkxgAyzoART8wAptuENBHnnmFUeyq3VsYxm74KUPQMABI3HKARUgwQyIMP8HUUhjmc3kiDpZgg94nIMbxXgFJvBQBRlowAJvasACFPAADqQgB2nIhDJkSUuBQjMl9kgHN5jxCkmkKwgmqICdSHaAAuANBC34AiSEsQ10jK6W3zGJQOhxDm0kYxWOgMMVfoACIzXgSQUYwAEegAESVOEQuaDGOOThEVu+JCbzOMc2mBELS+whDEmAgQcs8ICWoqoAC5DABpjgh1cwwxuDxKlKYqI1dHTjGbbwRCHYIIUclEADEIjWnv4UKCLUwRTEyIY7OEmQG0WqiNPohSkgYQcuCCFkEkjqngZQNwbwgA2c4MU01JHTICqsHjzShhxvh4Ym2OAEF2jpZq3lgBz/kAESsFhGORbEyRtNSB3haIYuTuGIOWABCC7gQMkIIIBVJeABNugCIUohDHBACICmnQxwzmENYsxCE38gwxKSpi/NQikCM7ACHjKhi23UAy2M9Yc06wGPdGRDGboYxSLkoAUhrGBpeDqAAhgQARg8oQ2NcIUzKGjB+OqDviJ1BjBYcYlAAMsGHICoAxjQAAdEoAVIGEMgQAGMbZgjHtgN4j4g7A1pHMMWo4CEHrwQhBJ4IAN1IpYEUhCELNRhErFoBjfY0RvG7sMe8VhHOKyxDF6wYhOGSAMTXnACEDzUmxMwgQ6agAZDlKJ854vvZOhbjmw4wxeu+CIcrLCDGKTA/8oYqAAFRiCDIGxhD5vIxTPI0UJCOiiG3IBGMGIRCkfc4QtI4EEMTPABDsQZBCqogRPgIIlYJCMcuIqvfPXRDnBIYxizGIUk+pAGKhxBBy0gAfgu0AHmBKEMiFAFMbyRacYKZR13FUYtUqEJRNyhDFQYAjBHJQELaOADNrjCenNhPE3D5B7p0MYygHELV4yCEoWww9FucAIPVIABxqqACpJwhkOwQhr30LRc7GEOLv4iF7NYxScmcQgb8iAFHYjA0xjwgR1cwQ6gWMZNMWLVtcjlk9YDRi92UQtVgKISeNDCDkygAQcMoFoG0MANqlAHUChj4BfB0TqrGpOhgDIc0/8wxjCGQQxg2GIVofCDFmrg7QX0qwAb8EEYCKEKaHT0IvnIB29tpDB82MNxBpSGMYyRDGYsIxi3YAUhtPACsiaAT/zqQBHaMIlaWCPdGdlJT0auEZjM5ejuSMc4tAENpj+jGtWYti0SkYUUPEABBpgWnz7AhDyI4hfcCOhF6gE9y9hIefSgUDekgQxjEEMYx3BGNahRDFucog9RMAHTCqCqapFgCoJohTFupZHmvRcujZILfTm4DF20Yha46AUxmEGNafwifnFQggj0RQA/nSwFWmDELZrBZ4284x0sLK1AcyIVckgjv5L4xCpwIYxlUEMauQhFIswgBA8o4AC9txb/A1wghkoIoxphzog73MHCj1a1LVsrxzNiMYk/NGITqqgFMJZxDFU0Ag5TUAMYkCcDEAAGQFEzcAackAwzUmQYsX7xUA+WQXZPERP18A7pAA2sgAhvwAeJcAmj8Aq8cAuWQAdSwAMmEAEFwFwBcAAMIAE3wAai8Aze0A4OeBEQKIEzQYHqQ0Dy0A7QcHlfsAZ3MAiR8AmtgArrQQMlcAEKkCoBgAAPUAE7EAeoUA3i8A4pNhEQSA9o4X5VlQ/AEQ2kcAdWAAZpIAd/wAiZMAlrMAQbMDIEAAB0GAAJEAEaAAR20AraUA4ophHrsA7uMA/3sIMj4UnnEQ1oUgatsQZu/xAHdMAGTgADE6AvA0CHABAADHABInAEe/AK2nBiWwgR6IAO7BAPRwGGHkFE0hALkFAHb5AGY9AFVvAERBADHrAA4CcAmBgAD9ABK/AEgCALJvaHGVEO5aAOFTR0InE65iANt8AJhGAHabAFS7ADKtABFGBzfRIAmCgAEjACNHAFhkALxTiKD2EO5qCMX6KKHVEP7DAOzQALk5AHbOAFUIBcHQAB0OKNdCgAdbMAI7ADUkAHmyAMCEIPPKgQ50AWqGiIjUIP6gAOx2AKlcMFUFAENmACFqCLvYeJBKAAEIABN3AFd2AJtTANZYEPC5kQ6ZAO7SAPX9iSE9EP8mBXwf+wCXVQBUwgBDnAAh7wANHSJ5hYAExFAkxAB5yAC85ADpVxgxfxkoOID+7IEf0QD+awDbwgCWhgBD1QAy0gAhbwhHwiAAfoABZAAjEABGkgCbswDeIQD8pXES/ZDvNAlTT5QvwAD2WGC4zwBTogA2+GLwhwcU4zZzIwBFVwBnlgCbMADeGwDvWQly4Jk3dZlWW3l+NwDbRQCFbwAiagjXdnMncjAjxgBW9gCJwwC8NADeVwTrW2EXUpk5iZETDxDuJQDbHwB03ALhFgVtWCAAvgADFgBXh2C9LADvBQD8zIEe3QDsuZD3O5ETCBldtwC4MABSawAb/pNAbAABqQAjf/gAV60Am4EEtGMYEgEQ/x4IWod4j0sA7i4AuJUAUp4AEScAAG8C8T4AJJIGKg8AvUAA7tACHv6RHiASGUSRFERAyPoAUtAAIUoJ8JsAAbIARo8AirMHrdgZcLyhBB15wjgQ9JZgyRwAUwMAJjGSgZ0AJZUAixgAzd8Dcm4RYzgRL2UCbDAAldAEwVdyIzoAR04AmLcQ4/RxIihxLwOA7B8AheUAP3OQEhYANMkKG24A3pEA99hqQQaRISCQ6+8AhhoAMvQAItmgRmUAiq4Ax3eaBcWpsdMQ9FNAyfoAda0AQ/IANIcAaGkB3Z4J4fOhFJehLzYFfI4AqToAdrsAWxlUIIpiAM0zAOgIoSg2oS8nBQzdALT5YIv+YHojB65+AOpxeoEPFMcMoR8SkO2NAMwmB5l4AInLAL2dAO7ckTbjoS6kSqD2EeU+EN1/AMxaALsNAL0UAOzmOrp7oRuUqpy+M464AO4tAN2NAN5vAOZ4EUYyIZyWqVYkJX+LAT+CA9C1Jw4LGt1NmtbfGt0SOuSTGdHxEQACH5BAhkAAAALAAAAABgAGAAh/z8/Pv7+/r6+vn5+fj4+Pf39/b29vX19fT09PPz8/Ly8vHx8fDw8O/v7+7u7u3t7ezs7Ovr6+rq6unp6ejo6Ofn5+bm5uXl5eTk5OPj4+Li4uHh4eDg4N/f397e3t3d3dzc3Nvb29ra2tnZ2djY2NfX19bW1tXV1dTU1NPT09LS0tHR0dDQ0M/Pz87Ozs3NzczMzMvLy8rKysnJycjIyMfHx8bGxsXFxcTExMPDw8LCwsHBwcDAwL+/v76+vr29vby8vLu7u7q6urm5ubi4uLe3t7a2trW1tbS0tLOzs7KysrGxsbCwsK+vr66urq2traysrKurq6qqqqmpqaioqKenp6ampqWlpaSkpKOjo6KioqGhoaCgoJ+fn56enp2dnZycnJubm5qampmZmZiYmJeXl5aWlpWVlZSUlJOTk5KSkpGRkZCQkI+Pj46Ojo2NjYyMjIuLi4qKiomJiYiIiIeHh4aGhoWFhYSEhIODg4KCgoGBgYCAgH9/f35+fn19fXx8fHt7e3p6enl5eXh4eHd3d3Z2dnV1dXR0dHNzc3JycnFxcXBwcG9vb25ubm1tbWxsbGtra2pqamlpaWhoaGdnZ2ZmZmVlZWRkZGNjY2JiYmFhYWBgYF9fX15eXl1dXVxcXFtbW1paWllZWVhYWFdXV1ZWVlVVVVRUVFNTU1JSUlFRUVBQUE9PT05OTk1NTUxMTEtLS0pKSklJSUhISEdHR0ZGRkVFRURERENDQ0JCQkFBQUBAQD8/Pz4+Pj09PTw8PDs7Ozo6Ojk5OTg4ODc3NzY2NjU1NTQ0NDMzMzIyMjExMTAwMC8vLy4uLi0tLSwsLCsrKyoqKikpKSgoKCcnJyYmJiUlJSQkJCMjIyIiIiEhISAgIB8fHx4eHh0dHRwcHBsbGxoaGhkZGRgYGBcXFxYWFhUVFRQUFBMTExISEhERERAQEA8PDw4ODg0NDQwMDAsLCwoKCgkJCQgICAcHBwYGBgUFBQQEBAMDAwICAgEBAQAAAAAAAAAAAAAAAAj/AOHBm3dPH7+DCBMqXMiwocOHECNKFEjQoMSLGDNqxDhvXj18+zaKHElSoj179/KFLMmyJcl8+fStdEmzZsR9OG3q3LkQ50yeQGv6DEqUZs6iSEseTXoz3716KO/hizlUZ1WmD/XZk+fuHTx58+zh00f2akuzWBnmm8fOHDp17N7J+wiz7M+SdtMe3IePHrx15cBpm8asmDFkyppFq5atMbbG2rZ1+yYO3Tt7Sy/WvYt0Xz5347Alw4Vqk6VIjBYtUtRIEqZOmzBZsnQJkyZQplj5mpYuJeeH+KZaZIrTHjlpwEwtgtMlixUpUJosaUJFCxguWKhMoVIFixg2dijh/9oWNl/G4DGxesYXD9svU4S+7BgRwgOHDBUiSNAQAoUIDhZUYMEFG6BgwxBsdOLMO/Pgc55wSe2jTzziTDMMK5X4UQYTMtS3QQYWTABBBBd0IEIHGVAgwYoUdHBCDFos0gs46cSj0m8LoTdcUBLiY84yr1QCyBpWHIGDCh9wgEEFE0TwQAQVZIBifg840EADE2DgwRF6tCKNN+qkJFNE6OFokz742LPNLIucQUUQL6BQQn34RQABBA9AIEEFF1AQgQMMKHCAAQgksAANaHAyzDTk0ONbRJshZc876SSziRtH6NACCB18AMIHHWyAwQYeiGDCCi/QwEIJHmAwQQMJxP+qQAxkWNKLM+DMNRakVCH1jjjVyEJIFS+kQIIHHoAgwggklGCCCzb8gEQUW4xRhRE4tDBCBhHoJ8ENZliiCzPevOPojg3lRdQ+6FQjDCds8GBBBht0KgIJJ6A6QxBOcKEGHoZI0gcaUggxQwkZZKCBBj2kYQkuynDTjjz2oMuQukB55g0xqQhChQkDLDDBBiCQkIILN/xwBBZq7MFIJ63sIkoicHChRA4rrKBCCkjAgQkuyWzDTjz1mAcRWWPy5Nk98ixTyh9c8LDBAApEkIEILdwwxBRiyBFIJKC4kksxz/TCiiaL8OGGGF1gIUUah5TiizPfMFgQr0nvpJU86uD/ckgVN5AAgQAJQGABCTUUgcUbhnSyCi5kW9PNONk8U4wuroyCySOF8JGIJ7IQQ804YYGEt5ksrdXOOKWgsUIECxQgAAIOUHBCD1O0sYgqyFDzjToD1XMPPfJQCg42zwQzSymq0PKLMtmcI5bFDN0jVd5G7ROPN8vYMsgTHCBQwAADOIDBCDtYEQcjpgSzDTns0DNWSBLmUw+l4lijjC/AHNNMNeFgx/wkUg/hqcQmPTpHMUQBCC7ggAIGIMAACmABE9yACnSgxCuEQQ1zTKwgOcEJmvyyjnFsYxrUwAY3wlEjmaAOIfSgh1heqBG+2IMbq8iDEmoAAgZIcAAH8AAN/5bQBkncQhrdQIeuqIem4cGDHehARzrW4Q553IOGCOnIR7CIEXzMwx3PqMQWSrCBCESwAAZoQAqKEAZCqOIZ6nhHPbDXkx7ZI4b0gMquOOIR09VEHufYxi4MEYUPXOABBzjAAiCgAR1oQQ+ZwMU12hEPzEBEhMOThzzyKKaMxHCGNmGHNpBxijsYIQOvOoACJJCBEyzhDZNwhTG8AQ/53UQf+diKV0p3QIx8spc0MYczajGJM/BgAg9YAAIacD4acIEQrBhGBylmtIfUrx7xaIdc7NErjJzkUTX5BjBC8Qct1EACTmoABUDAAh+UoRG0QMY1zEE0B1mzifOAhzYpNv9AjFivnzTBhiwYoQYmuGACCB0ZCmpwBDdUYhfN0IY5amlPhogwTcTTp1zowsWD6Egn0iDFHargAxRMgE9Xg4EPonAHTghDGtwwRxWv2JD63VEe8XhHV+YCTs10kyX72Eo7gBGJMAQhBiGQwLw4gIIcLAEMgijFMarRjXKwAx5zzIwd88kOdXhVHZR0FDAlEqmW4EMd3YBGKe6gBBeQYAN7ygAHWECELdAhEq5YhuTGkY6ZCkdCuNSlOsjxDcmAQxznaEeDxno6l9TjG8mYRSK6IIMN9AlKUoqBE9iACFDc4hkqDIc51oFVscAkH/hgGjvOAY5sRIMZi9GGONTRIDr/Hq0sLomHNGhRiTYQgQOGcgBmO1CDK0BSN9FQ4TfGgY6JyVAq97hjO8rhjWowQxi9IMYypsGNc8jjpxJBWkctmstzAAMTcZACDSyQAAY8QKlSggETzhCISqBiF8iYhjfMkY52fCWP9IiHO9aR1mHoYhasSEUtgsGMbJTDRrbNigtLYr94dKMVfWhC4CLQ3gdMwAIa6AALglAFNfhBEqaAGDfewg53wCMe84jHasPhjF2g4hOmsYQpbGGMaowjHhGWcGY2wp51TEMTYUgBByigTAZAYAIXCPEJajAEKZxhD5BARTC0sY51sKPF7xDwOb5xjfc4ghCCAMQgLsEKYEQD/xzwGHJEMLaRfbwjHNKoRSCYcAEIMKBQtaNXB0BwAhjkQHFq6EMmbEENKXrZxWIGhzVwkYk9tEENZ0jDHyzRimFgox1yvm2ob5mPcSCjFY0Ygw4goEwDJMBqIVjWCFDgAhrwoAldaIMiVLEM0arDxZuMxzrIsQ1bRIINWpDCEpQghj1M4hXLQMd4DyJekeDyHtiARSLKYAQUJMAABSBAAijwgRSgAAUnSAELUiWEJ3BhD58QxjYqIxcZ0sMd6AAHLSZrhB3AgAVF+AIeNvELckybH9XeiD6e0gxOqEEILcDAAAQwAAIwQAMpsAENZiCDGMDgBTHgwRGkIIdL8OIa4P9Ax0DEolpyyCIQUKjBCVL0giSQYRG2AIe1J7wRp9AjGZLgwgxGIAEBFEABDtBAC4IwhSpYAQtTUEIQepAEKoDBD6CQ9zjW4ZGCePEd55BFH5DgghBUQAIuUIIZGnGLcIgELRjJJT2KkQgnjAADDAgAAiCAARQEIQtwqEMe+kAHMlBBCVYQgxsSkQpkfEOmBvQMNtURizwEwQQcsFMLlIAGR+DC7XU+OEJyOQ9gAAIIFGjAAQCgAAuEwAZUkIMjKsGJUVjCD2awwhjewIdKyMIZ41BHPCC0j+G1IxZ1yIEHLOAAB7BgCWmARC5Anxaf090Jb5VAAg43AyWoQRGncEX/LXghC08ogg+EYAQlUPELayR2Hr0q/jzW4Qo4yAADEVAAA1zwhDjYahx6gXBPwQyYQAY9AAMiQAEjwFBgEAihAAzGwAzSwAy/IAuosAqtAAu90AxgYi69sjfpoApr0AISoHoLAANVoAeeIAzlEIBoYg/TYAp6cAVEEAMfEANGoAV2cAm5kA3ewFzmIBjVEA3OsAwwJVMUM2H6UA/wcA6ncAYnACsEoAAysAWDYArHcA4umFrZMAuN4AZacAQzYARbsD6swAzrYDfRVQ/y0BbgwFxhBUIHkQ/ysA7gEAphIAIJIDsJQANgsAissAzpsIU3tAubEAhzUAZXcAZ5wAii/9AL17ByU5Fa9pBNU+QO8SBWR3EP6/AN0FAJWeABByA7CmADYwAJsNAM6uCCT/ENHFMJjEAIe4AImHAKudAM4oASVEEWPgcWevRT9DAO0/ALiSAFGxBBAqAAOHAGlUAL0LAOAehz49AMt4AKpSAKn6AKtiAMz+ANoFZTPhGOMyEP3HAMr9AHSoAB4yMAC6ADaqAJuCAN7JAWEnI/6oANxPAKokAKpoAKtMCN20BPJNEO0UALl7AGQFABEiQADAAEdHAKxJAN76AeaAJ23tAMuVAKmhAKqPAKvcAMEtUO9fB2+5AOxRAKfaAFNiABC+kARuAHtvAM4BAPWBFY6vAN0/8QDK6wCZPgCdpoDNYwUfRQTRkhIeSQC45ABkiwAg/wQw+wBIhADNuADvTAFPlwb+dwDciQC6hgCYUACJAQCrFADNewDh9BPZeEJuAQCx7DAyTQAAWARhQwBZEADeXgDvfAFPRgDtmwDLdACpEQCHIwBmFwB4wQCrgADeggPGhZRzjhFPXADaywBxoWArHTXhywBZqgDezwXUzhDtmQj5cACGigBU4gBEPQBXcQCa2QDOUgVtYkjj3ChthwCnVgBDLgAd/GABJAAmRACo1yN0UhIegAJJOAB10gBDXAArNmBGPggMEgDuUhZyLkQoBVYe0gDaDgBj7AAhqAAAfwABj/wAJs0ArfiBT3kw7TQAuWoAdlAAU7MAMuoAIwsARl8AedsAvZ8GsUIxV1QRZPMQ+c9BTEYw7a0AyxUAhYUHYVgAALcAEjkAN1EAvtEGRC8Q7jcA2+0Al9AAZRMAQ0AAMimgNPYAaKVgvRgFhDs0lQYT33wFX+1RH6tA7XIAyuAAlpMAQecEgI8AAf4AIvaQsVKnoZoQ/pcA3FkAqGQAZH4APL6QIzcANBQAVosAeV8ArJkA2P12JfIaD1QA/voA7lcA5U9A7rcA6mtgqO8AZO0AKAogAIMAEmkANUcAi64A4W6hISYg7S8AujIAhicAREEAQ+IARH0ARVIAZv0AeQ/zAKt1AMznANlFEOUXQO5TAO3pAN1HAN3SAOJjQNy9AKjuAGUoADH3AAhaIAGOACQ/AFjuAL7pAePJIPfOoLpYAIbPB0W+AFYmAGa/AGdbAHgKAIlZCNtjAMzjAN17ANmvoMymAMwcALwZAM0SANxGALqLAIbeAEN2ACFUAoC9AAxNUEaVAJwhCrjXkWnlEO0uALqPAIdkAGbVAHfiAIhZAIioAIhkAIhWAIhwAJn/AKvjAMyOAMyiAMuRALrZAKpcAKthAMwNAKmmAIacAEL7BkC0AACOBkIsADVjAHnFAM7gBQVoEm5kANNpoJhHAHgwAJnRAKo1AKpMAJldAIh/8QCHsQCJIwCrSAC9KKOaIgG5MQCZpgCrIQC5jwB2fABDBQAaMoQQpgOCpgBGHwB6SQDO9AsiXLDt8gDcMwC6OQCaTgCriwC73gC7xgC7CgCqTgCZnACQoWDL2QC7WQCpmQCPV6CItACZ7AsIrgBlPQAycgAYNiAAYQAR2AAj2QBXSAitEAYcPJN+FwDc0gDLxADMxADdawudUADcsArbxwC7jwC/4TDLWACpdACHBABm+gB4XgCJfwCZqwB13gAy7gAYiUSAmQASmQA1HABofwiNgwD3lKE/iATTPmDeQQR/DwDu/QDupgDpiqqdNgDdmgDcUQC5xgCG+ABUmwBW3/AAiJAAmW8AhtwARIUgELgKrt9XpLQAZ/kAmzkAzfgBlEWqRpkk/tkIYEYT32wIb6FL3iEA6eOg7QwAupQAl/oAZd4AZ/EAmvMQqaMFIzgAIfECIEEgI4AAVn8AeXAAvGcA3nQFOdcW31MA+blBIwERz/G2PuwA5dtg7qsA3MYDaagAh8sAiZgAquEAu1oAqIYAZDgANuNQIrIAM7QAVtYAicIAvHoA3k8A5EOZz1g1pUEY64hFpP8aUofA7cEA3DQAulwAn++AvDUAzHsAuZYAdTcAQ9MAMz4ANJYAVwoAilMC7eSDH3GyHXBg/oMLnLAAy4EAzKMA3VsLnMwApfxCgGWfAEUMAFZ0AHjWAKvyAN4ICne0yRVxmmn+oM1KANhyUO4rANxQALmiAJizAIg7AIk7AJrVDJ35AO8zBqAXgTfHHCZnoO5HAOYOUOvqwO3iAN0NoLuHALuuALwdAM2QA/VlTL2YM0MoE0kCkPzbu/6pAOzWVFsurMGSNCTvG/xBMPFMFNtMzNz7zC0fW/kZfJ5owRWCxe7NzO8jzP9FzP9nzP+JzP+rzP/NzP/qyn5fzPeMFzAm0TZVXQNXHQCO0SAQEAIfkECGQAAAAsAAAAAGAAYACH/Pz8+/v7+vr6+fn5+Pj49/f39vb29fX19PT08/Pz8vLy8fHx8PDw7+/v7u7u7e3t7Ozs6+vr6urq6enp6Ojo5+fn5ubm5eXl5OTk4+Pj4uLi4eHh4ODg39/f3t7e3d3d3Nzc29vb2tra2dnZ2NjY19fX1tbW1dXV1NTU09PT0tLS0dHR0NDQz8/Pzs7Ozc3NzMzMy8vLysrKycnJyMjIx8fHxsbGxcXFxMTEw8PDwsLCwcHBwMDAv7+/vr6+vb29vLy8u7u7urq6ubm5uLi4t7e3tra2tbW1tLS0s7OzsrKysbGxsLCwr6+vrq6ura2trKysq6urqqqqqampqKiop6enpqampaWlpKSko6OjoqKioaGhoKCgn5+fnp6enZ2dnJycm5ubmpqamZmZmJiYl5eXlpaWlZWVlJSUk5OTkpKSkZGRkJCQj4+Pjo6OjY2NjIyMi4uLioqKiYmJiIiIh4eHhoaGhYWFhISEg4ODgoKCgYGBgICAf39/fn5+fX19fHx8e3t7enp6eXl5eHh4d3d3dnZ2dXV1dHR0c3NzcnJycXFxcHBwb29vbm5ubW1tbGxsa2trampqaWlpaGhoZ2dnZmZmZWVlZGRkY2NjYmJiYWFhYGBgX19fXl5eXV1dXFxcW1tbWlpaWVlZWFhYV1dXVlZWVVVVVFRUU1NTUlJSUVFRUFBQT09PTk5OTU1NTExMS0tLSkpKSUlJSEhIR0dHRkZGRUVFREREQ0NDQkJCQUFBQEBAPz8/Pj4+PT09PDw8Ozs7Ojo6OTk5ODg4Nzc3NjY2NTU1NDQ0MzMzMjIyMTExMDAwLy8vLi4uLS0tLCwsKysrKioqKSkpKCgoJycnJiYmJSUlJCQkIyMjIiIiISEhICAgHx8fHh4eHR0dHBwcGxsbGhoaGRkZGBgYFxcXFhYWFRUVFBQUExMTEhISEREREBAQDw8PDg4ODQ0NDAwMCwsLCgoKCQkJCAgIBwcHBgYGBQUFBAQEAwMDAgICAQEBAAAAAAAAAAAAAAAACP8A5cmrh28fv4MIEypcyLChw4cQI0oUSNCgxIsYM2rEWK+evXwWN4ocSRLivXv49JVcyXKlvpchW8qcSbOmzZs4c+rcybOnz59AgwodSrSoUY379um7Ry+eO3XmxokLBw7ct2/gxp1Tt44du3bv4MWDB+9dPHr38umLebThvnz46rUrxy1asVyvWKk6ZapUKVSzeiFTxsxZtGrYuGnLdo0bOXbz7BVs+3Bp03HVkNUKxWjPHTlu2rBRA0cQJVOqWsGitSvYMWLCfh2jFq5dPHtrSSbVma8evHXYisXKxAdMkiE+ctioQWPHlDWEEjmSlCmUKlmvVqGSRcyaOXbyQLL/xZh0fEul9diJw/arFCM6XYzMgMEChX0ULoBIIdOmTp9Cj2ACiiecZDIKLcVQ84069KRkXkTl2aQUPvCIQ00xphhyBhQ+sOABBxpgkMEGHITQQg5FQMEFGnLwYcgjjTCySCWk0DKMNOHAU5FIEda0Dz72sJONMbI0ckYQLHwgAQJMIqBAAxBQoAEIJdAwxBRfpEFHH1z2YQglo8hSDDaQ4cbjbjVZZg4zs2RihxQubBABAgEEIMAABiTAgAMSVIABCjkogYUYbNhxRx57ECLJJ64Mcw1k96i0EZo15UMPPN740kkfYAhRggUOGADAnQUY4GQDD0hAQQk2IGEFGGrQ/4EHH4EoYskosRSjzTs7UnYQPvK0c80rh4ShxAwcQKAAAaMSYMABCCSwwJ4QiECDEVVkKUcegBgCySam0IJMN/LgA5KvB8lVzjKfyIHEDSZU0EACBQxQgJML5MtAAw48AIIMRVDxRaxePmKgK7o4E049ufmq1DrbLPMKImHwAMMIF0ggQQSqWiAiBiBfYEEFJNRQRBVl0EHII+DCksswzWyTzj2UHvUWPuIkEwslckABAwogYHCBBh2AIEIJJ5xgQgkkhODBBijcUIQVa/wxSSiv9HLMM9iAg0485/qqD5DY4HJJHlwAUUIIHWTAwQgpvBDDDDUwJwMMK5ggAgsoXv8RhyKizDIMNd6U005k+aDLz1v20CONK4qsEcUNH3jQAQd71+CDEEcsoQQSRQjRAw4z/MCEFm0Y4oktxEgDTjruNNiw2EzF04wpgBgXA4kefIBCDUI0QQUXY4jhhRZWRNGEqykj8oktzFgDjjrwzBNpzTbrY4887iDzSR1WAKHCBRt8IIILPjjBxRlx7JEHHW6kUUYYXbThxyOi4NJMOOfEntbslEkKsNhRDl9MIg1KwEEJpAQCE8xgameQgx8UcYhA6MEOdJADHAJxmlwwwxvwQIukFHcQ9KSjG9BQRSCw0IMXiMACb1PBDZCQBRa5aBB9uEMdZgUISZDCFsewRjn/6PGRB2UvH/H4hjN4YYk3HOEFJ/DABTxgghbsYAlbUIMc9CCIP7xvDn04BCREQQtjVKM25hohCW/mDmv84hSC4MINRPA0DIAgBTFInxfYIAc8+GEPdoCDHAQRCVBwxxrjYAc9jEiZAXbDF5/4wxiQ4KHLbaAELsBBEaYghjfQIQ9+6MMeZsWITahiF81YEDzsQcKF0EMd4FgGKfpgBSLMQAQk6oAHUkCDHywhC2aQQx3y0Ic/ACIQh7BEKWZBjGqY4yz4aKVC4mGhXCyCCy4owQcyQD4PnE8HRpCCF2J1Bz3QqhCKkAQostaMbrgjLYzMHjqikYtNuEEIFpiAxiqw/wER/C4ITsgCGeCQB3P6oRCNqMQnWJGLY1SDHPIAIAnHZo9s1CISb3jCCx7QrwdQwAMokIEvr0AoO/jBmIJYhCVE0YpcFCMa3EDHPCSqOHw0RRmaSMMQYMCBBEiLARQIwQt4gAQqhGENc+DDIAhRiEIU8hW8MAY0tpFIeqglnkTZRz3ekY5c+GEIGpDAAux1gARMoGRFiEIX0rAtZB4CEYi4RCp2oYxpbIMc1PsITSlzD3E4QxeREAMNKOAABAiAAAdQwAREIIMgLOFVZlCDG7b1h0JcghXCkAY2vlGOdazyqmvcxzyg0QpFoMEIJXCAAgxw2MRKQKg9MMITsLCF2v+O0w6CuAQskJENb4jjHOy4jVrWgtWfKMUdvWCEFn6gggocoF4BQKwCJPCBEwUBCU94AhOQkIQt2A8Ts3BGVsqBjnbI438wKS5PtCePcbDCDj9AwQYaQIABCCAABUiAAyoAghXYQAebC0IPcpADJnxhDo1QxTG28Q2teJYg+DiJWvj6jnNQoxNmeMEGJJCAAdhXAAhowAQ0IAIVyEAGM5hBDFywAhb4AApi6MMmdPEMa3SDHLCbRz3oQY/ITOYo9EDHNorhCCt4wAEJIICdBkCA6WbgAyRIAYtP0LQPdOADMAhCFNrQCFbA7Brh+E485jGWd0Rmr0BJojNo4YcjRID/APcNAJ4SIIEOnMAFMEDxCkawgQtUYAIVGEFjubAHTcjiF8zYbDnY4Q52qCPHDjIKO6ahC060wQcPqO9hgcqBFwzBCl/owhawkAQdqCAEG8hnB0KKBDDk4RGdYMUujiEN335DMeJQx3nDNpRzHMMUhOACDehr3wNUQAQwYEIanLqIQvhhQzlYgQgwIAEMdGAEMzBCFtbAh0Z4whW/qLE0nLEMa9TmzEUZhy4ksYYlrGAB9R2AAjoQAyKgwRG0EAZeRlGIMyShBvLl2AQ+ugIcHAF1gLAEK4KRDGL8ghfKyMY53mHVrHoDFivswQjohYAFWGAGUGADI1iR6GcYgxeg/yhEGqgQhBd8INXVFsEKbnCEK6ChD5NIhSxagYpS4IIZC4rHPYailGyUQg5FiAEHoOWACZSACXPYhCyO0Y1yfAMb0dhFKR5xhy8cQQYo8AAFLnBtFuCACFAgQx4ccQlJOIIRpeiFNcjRjnoIRSn5oMYmxjADElTAAIrlAA3McIlkXGMc7uDeOsxRjWLQYhN9+AIRalCCCvipRCiAAQ6WcOBR1oEOkXhFM7yRjnkIhaLPoEQWUNCBCBjgAR5oQRL8MIt06Agk+WDKCekJ+TA0IQcmAEHlvFkCQC2BC2Qo3hgGMQphIDIe2NsJPubxDmVIIgsrAAEFEqABGShBDZYQhv//1qKP3FfYG87IBSkeoYcyPIEIO5DBClSAAhOIlAlUoG0Y+pAJWyxjG+wAWj2hVVxFDI+gBS6AMQxAAkaABovgCtEgOwaRFPrgG+pxDczgC6cACXlwBldgBDkgfySwAjTAA0TQBFXgBXcACanwC9OADuaiXiwhWuogDr/QCFsQAyWgAQ/wAlpgCKtgDOCgRgiBd/dQD/PADtSwC6OgCHKgBUagAy4gAiSAAixAA0HwBFwgB4fQCbSwDOMgGUSYE/pwDtUgDKBQB0uAAiLAARawA2ugCcBADefwIEkBF/cgD96wDLgACojwBlmABDZAAiRgAifAAjYABEsABnYAd8H/wA2IM4D5sA2+AAp/0AU64AGa6AFHsAeuQBvu8BB4Z1PnkA3LUAudUAhtYAXxxTRHswIxgANOQAZ6YAm2UA1mNnQ88SPPcAp/IHkowEAnMAWLIAzowCsQoRRL8Q7m4A3KIAuaEAhkgAR5Q0dFczQ8IAVocAir4AzBZQ8yOBLoUQyUMAZFwFMOkAEj4AJcUAnNEInJODbywA7mIA26EAqHgAZKwAIlAAIbICIawAExcARcwAejoAzpwCvhOCm5Fw+7QAhOEAMiQAEMkAEnQANioAnRQBBjqBAUiA/xsA7ksGaaIElGkAIi0AEY4DFu8wJCUAV14AnHgA7uUA8LiRRx/9EOsUAHONABFcAACZABKqADaOAJ1BCDoqiMFJIO4qAMrzAJeNAFQnAC/lgBFGABbtMCPdAEb5AJxNA/i6QT7KUOqGAGJKAACFAAB6ABLQAEbiAK14BmJfQS5XcPzOgNxYAKiwAHV+ADJeAB1BYBl7cCOXAEaVAJwmAO7RCWObEPTMEOqVAGIoAABmAvF4ACRPkJ1SCAHpl7O8Zj8VAO2cAMskAJdrAFRzADH6ABFzABgIYBHJAfUhB1xKCYjIkTP1IP7hCZIGAAcEYAFEACMzAGmzANSOmRllEW7/AOELMMuxBJYGAEN4ACK2mVV4kBGzCQXcAHoXAMhnObN/EW9/8AD6pABh5QX3IWAdXVBZcQDf/jkW/hG+uQDvRZDtHQC6mwCGugBDFwAh2gMQNXAReAnTTgBGdgCKiQDIsGnhLSkK2QBiawAAdgX+lIAlKgCMZoXvgQYfbQoTvGDuOwDddwDdYQDbxgCpFQB1iwAyYgRRAAARwzdhrgATyQBXdACbHgDGB5kxkhnvEgC3IwAxfwABO6ABOwAUWAB6wQDdvwTGXRDl/RDu3wDdLgcL2wC7XwCYpQB16ABDFQlQ8QpqlibQx4BolACr1QDeqgkDrho7awBz+AMWN1AAwQATdgBpagC8qgDeqADuZADuNADuVQDtMADK5gCqMACpkwCG7/gAVHcAMn0GcS4AAN0AAMAAF2tAJQUAebUAvIwA3fyKMZIY+9cAhSQAMi8GamsgArUAV+8Aligg3XQA3SIA3UMKLC0AqY4AiKYAh/sAZWIAQ1oAIfcAEUEAEOwAALoAAPkAEkEANaIAirMAzTIA65uIu9wQyikAcr6gF6kiopQARfYAeKAgqhIAqiUAqrsBqkMAmCcEFz0AZeAAVBYAMtwGcWEAGWygAMQF0ssANjwAhfmA3mMBDRtBMCpA29AAp7MAUs0AARYAEa4EBB0ASghgZs8AZzkAeCoAiRUAh4wAZlIAZfsAVSkARBgAMv0KLUxq/8YgFVQgRtUAm+oCDr/4AWiTOA6YANxvAJbJADEnABmDMCRFuFLPACNsADQ8AEWEAGbmAGXpA8TsAESWAEQwAEORADKiACGjABC4AqEaABK7ADTWAHMskN5fAO8PQT8EAO2ZALj0AGQ1AERnAERPADO2ADMKACUQYDNuADSBAFyCMFT9AETOA5TOAEULAEReADNwBFIBBlLpADS9AFcAAJsSAN47AO88CZPCEX5hANtIAJgdAHeWAHb4AGYfCBlIcfM5ADPkAESaAES8AETeAETxAFWOAFI9sFVxAFSSAEOhAESiAFYDAHhpAJsHAM3pBXcnkT+bA96KANy+ALtcAKpKAJkYAIeMAFQYA0LP8AA3RzA7A7BEnQBFAwBVgwBm6QB3hAB3CwBmPABQKzBndwCJvgCsLwDNygDvFQDzkbFAI0D+6ADt0gDcfQC7OQCpYwB1DgAizQAi4gNzJAAz1wBFBgBVwQBmhQB4MACZEAI4kgCHtQB4DQCJqQCrzgDN/wHfIgGaI6g9HLPebwDdfwDMfwC5BzBkOwAzXwAkjrA2nVBVrELYhACaDACq7wCq/QCqlQCqGACrGgC8QQDd2QDrYhhjEsw40DD+xwDuLADdZgDKHQB1mgBD0AAzDAA0lgBSkzCGwHCqkQGMewDIYhDdDgDMwADdWQDZwFHvXwP1t8HqNYO+3gDblACYDQmHQwIARUcAZ5sAidoAq18AvJIA3aMA45Zg8oYS75MFyDHJ4UuBT1IA/mIDGTEAhv0AVc0AZ90AibkAq3wHDR4MedlYswIU1ucYf3YA/uwA3LkAuqwAkxogmoUMnIEA3Y0A2/tQ6JF8jiocvxGL3uUMPUgAy9wAvIMA2+BVxmoWMocVWhnD1xMQ/rMA7akMmcC83PK80QUpf2EJLmYA7rcBtpNM7SNMrR2xRnESnE5c4ziM8AvcsCPdAL0SMGLSHRl9CEzNAO/dAQHdESLc0BAQAh+QQIZAAAACwAAAAAYABgAAAI/wCbNaPWrdw6d/DkyYvHcF69e/fw5dO3j1+/fv4yatzIsaPHjyA79uO3r2TFiyEvCiRoEKFChvEcQpRI0SLGkDhz6tw40uTJmx8vSpOGLVy6dzHr1aPH1F7EiTUt7pxK1eNFflht6rx2zZs5dzLxiX06sSRWlFXTpr3IFijObt3GrZtH02fFs2jV6t07NVy4c+/sneRLuLDacePSwbun1bDjxyDLlVMXL59byJgxmzPHbp6+zKAzb14nL1/o0yLz7pSsrvRl1Jnbvg5JjhxlfKphYx7ZePXkeLhn6y48Ul9N4R7PnWPn+jRyw/zy2auHb99zjunSuaNnOfTI63v76f+zt7Be953s2MGr9xl0T6mpeefGOTIfvXdgcU9t1y6e4N1Y+YTXSPbEww4643zzDWD36MMPSLyRtA8+9MSz3nk6ueOOPP891s8++uQDlXE+5fNOOdtMo4wwwkgTTjzmvXaVcSLmc08988zTIFXvvKPjg4/xow8+M9VopD3nZKNML7GUUgov01BmD5AazWgjRBBNR90+VClEHZWG2cPOOH+1I4864mhTjTTOJLOLK6BQkogffkyCCi/DJOPMNNZkw4022FiDjTfkpNOfUzM5SJVSDYJHFTvYFCPMM9ycM80vrHxiSSOE6BEHGmBkEUUUXrCRhx+DIOKIJZ+YIkonmYj/Mgsx03yjDnV1OaqRWPlY59hF4RDjqi3LcMNLJ32gocUSPuhQAwwsoFBCCSrAUEMOPQShxBVkwKHGGFywgQgpvkAjDl3HVWWWrhB+mA8+9kzziiKEeHILM6TwMYUOKFiAgAEFEDCAAAIEYHAAAxygwAQk0DBEDzfEcAQbkMiCjDfz9MruRllt3NE+98zjjjneVHPLJXbAQUgmqRQSRg8ocPBAAQEPXPDBCBuQQAQerHADD0EYAQYhqBxzzTn3DJbWWYTlE4864EhDTC2a+AHuGnoUYoYRJljwQAID2IzzwQMYgIADF4Swwg5LcIEHJ790cw48+sy3k91V2bNOONP4/6JKJX6Y8QQSUmwhhhErPCDwzWPjPEABBywQwQUe6GBFHJHQYg2HdQ/30XjyhMMMLqRIAsgbXTCxQw08CGFEDB0gAMDstAMgwAAERP7ABBJEAMEFJMgQBBd3SNIKMuP0CqbnVc6jTjjGmGJIG2BMcQQPMZwwwgkqsPCBBAXUTnvZCaANgrQhcGDCD1fAccgntxTbjtLMb7RPO99EswogVNjgggkf2MAFJhCBCPSOAQcQgPhmR4DyWWAEMfABDmCQAhtkoQ+fmMUxuIGOd9zDY5nRBzqsQQxMmGEGEWhAAghAM4ARQIG0w1kBEMAACnTABDEAwhO8cAUnFGEKefjEMP+oQQ560K9+HNFHOaDBi0iEIQYQQGDYCEDFAQSgdgcjQAQ+wIIeQEEMcdhDIR6hiEH04RCi4IU1wsEOxoAQNPkQxzJosQguuOABCjAAwfZYMCwazAAeqEETziAIT8TCFrsARi9yUYtdLEMbR6mHr5D4EXx8wxisIAQWVqDCAjTuijE0WAJUsIQ2RKIW2YCJhfDjo6TBh5JWqQc0VnEIMggBBAo4AAFACYCDCYABFgCBCmjQAyWMoQ+WiAUzzjGWLNXDHhp7o3f6IY9gQMILQmBBBQzwQl6SDQMtEIIV1OAHSIACFsCABjjgASLjhKgsy4MlR0byjljQwQYgqIACCGb/sFAKgAAkIAIZBgEKX1wjLkehR91kwxZ5Qkgf9zgHKcTwgQYggABYvF0CJtABFCAhDYlARTHG4SBpOtQf+qCHO7axCS1kIAEGGEDtyJeBGkjBDYTQRCyKkQ12vPKkacGHO8rxjEhIgQIFGFjtCqCAB6QAC4eYBTCYgY1xsMMeJgWqPdCxjWEcYgkO+CQCIpABHuxBF/RoFFANE49uJMMVeBBCA8ZGsA3YIAp1CIUz7pGPeK51LeyQxi0wkQYdLABntyOAC7iQiFYcQxwlDU9DHXoRdBzDFIPQggwS4DgCGCAIgQhGOdqBVb4wlLL8EEcuIJEGJKDgAOOrIQewkIls/0T2biQJEbzmAQ93IEUeW6JkT7ahCjwwoQYdMADtDpCBFfhADqkAx0/psw8bVegd6hhHN66xDW+Io4NTyupaSFKNTYDhBSGQAEZnt4ATDOELjMiFOYTD0Kvgox7yaEc6yuGNaSQDGMZghjQqJY8jwuZD+oDGI5yQAQns82APqMEWAlGKZLQjKBIqiW7tAQ91lOMbamLGL2RhilfgAhjN4IY6oMklzyFYwU/YwAQWMLCwVYAIcxCFL7AhD49E5x70yJE83OFhb0jDGLqwhSxcYQpNNEIQj9jEKW5xDGycwx31EO9UXgwJKHCAAjT+pwE2MIVFDMMa5rCHSMYTj3awY/8d6RiHNo5MC1FAghGKOAQg6ICGL7zhD44AxSyMcY1xvKPFukFwNCIRhQ5UgAFhM1sIxDCKcrxDkvPsRz7kwY5zlINM11jGL1xhCT+UYQxhAIMWnkCEHThBDHZQxCdogQxspKM9iQYRNBjtAQs0YIYPqMAL3NAKdtADHxap7j2GvF9xeGMb2biGNZgBDFqMQhFxuMIUouCEI/RABirwgRTMsAdImIIX0CiHaYbzYl5f4AEIeIAGSACEPMyiM0nbB3naQQ5tRMMZAG8GM5ahjGDYYhWbGIQaorAEIwRBBzAwgQdiUAQstGEQmoAFMsCBDxdXd9dR8MAFIqCACjQMCoT/wAW+QySPdYyjGsfAhS1y0Qtg/OIXvrAFK0QxiT2MYQlD4EENWDCCBpcAB0sAwx0aUYpgcKPj7K5uNCRBBRFwoAIP+EANloCGSgQDLNC0xzvO8Q1oACMWr6iFLm7uC1/cgsmX+MMZnCCEG7BABBkgOQda8AMrvCERo/jFNqCe63xMAxNcYAEAMwCDJ7jBEbCIhkPsYY/7rMMc3JAGMo7BDGhQYxqgb4YxfhGLS/BBDE/gQQo6cAEILEADKLirHCYhC2WEY9251kc1OkGGG1BwBEFQgyRosYxwEAlH8cBPpxP0DXGYAx3QP8c4vJENZrxCEnbYQhBOgAEKPIABFxiB/wuYQIdOBIMa58D1gUF0DVG04eEzYIEUCGGLbZgjHtGpR2/hEQ95zIMeDxFNWCEd82AOx4AKiYAGRlACBOQADVABHVACR3AHpwAN3jA/nvNj1RAKbkAEP7ADNsAFjgAMckEPQkIeMUEPTkETP/Vj6wANtZAJc8AEJhABD9AADLABKXADWXAItWB/+Oc5IDMP0gAKbmAERCAEQGAGlnAMRzElENUUfEUi0+Uu8IANwJAKfjAFJwABDsAADBACNaAEbYAJw/AVWeY5+aB/z/AJb5AEcJgEb/AJztBKIHIlE4EXGEYP4DA6ipAFKHCDC9BeQuAFgZAK0QAj6oca/UAPe/8jDJagBkigBE3wBDkGDXaoW8pDHyQhD9tQDK8gCFRgAg5QihAgA1NQB5egC92AD4qSa+qQDcegCoYQBkWQBEwABXMACsygDu/AHe9EEdcRHfaQDsvACo2QBkTwAQ4QARSgAUGQBpEAC8pQDrfFiNEBDsfQCpJQB1ggBEeQi3PQCcjAGfJAE+kSEmwWDrogCWvwBDNwAQ3wjCQQBX/ACsiwDe4wXaFBEvdgDbVACXpABk/wA0SgBFAQB5kgDN/wFfYgEQaWaffwNNVwCnmwBDYwAimUNi4QBpNgDLaiZlG3hs5wCoBQBlLgAzBAAzjAAxcUCryQDNYwDuqwGBHpD5r/Rg/wEA7Q4AulEAhcgAOrBwEQ4AEswANswAnMQA7tcA8uNiTyUAyZwAZR8AMuEAIkYAIpIARg8AeZsArlUikZUxFVwhb7MA/sQA7L4AqRUAdaAAQl0AFeQwElYANKcAelMA3oAA+Ed2DjAQ+9sAhYwAMt4AESMAEUUAEqQARecAeOUAq94Aze8A6u+CBtMYDuMA7YYAuNUAZFQAMjIAEQcIMXwAJBgAWD4Ao9lTEutobvAAyRMAZGMAMg4DsP4AAeIANHsAVuIAiWYApURhBf8Wb7BQ7aQA3J4AuzMAlugAQsEAL6pAALwAAZIANKQAaMUAuTyR14AxmaVg/ukAyj/+AHYHAELZABFRABDoABJ1ADQtAEWUAGcfAHjNAJsDAMa+IMyxAMtHAKmiAJiRAIavAENQACGAABCIAA0qkBNiAFb1AJuyAOwNVXWpYT/EAh7iANMagHWqADIKABFOAAE7ABI6ACLQADM8ADRxAFZTAIMHkLstAKnYAIcxAGW1AFTxAEMQCdrgc5CaAAG7ADWqAHniAM5ZBWylOhIXGh97ENxzALlSAHTyADKQACF1ABFnABFjABD7AAEpABIWADWuAHn5AJk9AIegAGr+MCKnACIJB3DJAAuqQzC+ABQUAGh4AKyJAOD5mkfglk5oANykA1gJAGXPAEQmADK/ABFv8gASokouwZBFogB26gBmaQBbM5LdPyphLAAAqAAEz1ABSgAk9AB5lQC9DQRpXZnUFSXfGQDuFADcMgC6EACX/gBlfwAyeQngiUAAzwAOxpA0UwBEHwA3YXAhnAASAwAh+AAY66AHLqABbQATXQBYWwCsKADe4AkawKICEyDy6HDcPwCpqAB1PgAhUAAQpAMwVgNg0gAReAAfLaqA74jCHgAc76hZ8qAeoDBGtQCb7wDOAAHNeIRPr2NNmADLiQCXdQBTvQAiAgAd+XAD86nQ7wAAV0m8AaAiqAAiLQARmwpRAAAjJABF9QCKrgDNuADuwxSbBEjPJwDpmnC59QCGv/MAU7MAIcMHI4uAAK8KuHOQETUAHCVAM08AIrYAIfiwExwARmMAiiEAzeABjI1q2wQRJrCA/ssA3IQAubkAdXQAMqEAL5mksLsDsVEK8bgAI0AARAwAM5QAMugAIhIARmkAin8AvXsCFu9FdlKQ/kcA3BwAl3IAVGwAPgRgL46gEkkAIs4AIvMAM9cARSsG1PwARGAAQ74AWDkArFYA3oUJl+O0/2wG/VsAugYAh9UAdtQAZcMAVMQAVdYAZpULtpsAZt4AZwIAd0UAd0MAdzwAioQAyF9g4FO7ooVQ/xgA5Ksgu04Aqo8Aly8geLYAmiUAqkIAqgkAmSsAiNMAmZ6+AJomAKqrALzOANNRleyPsRFzoP77AO5yAO1aecwWCB4fAN3GANxnALp7AKtOALxwAN2SAO6QAc/Li+HDEh9sBb7XAO3aAi1WAr7KAO6BC4yuALwZAM0IANDWkmHYLAS1pd8KKT6kAO31AOzEEPCzEy3UAN18AN4WAO6/CLagXC9MEbIDLCD0kRNGJ57OAjAXiTNrwXP7aqSjrEHCEkIiLESEwYxcHETWxa8hHF7kESB0zFkpVbZInFxMEWWuxX7HbEOnGZXyxPk5VoZGzFYkwVZ8yI9dXGSMQ0B+bFA7LGVSHHbnwVdXxSAQEAIfkECGQAAAAsAAAAAGAAYAAACP8A161zJ89evn39/ClcyLChw4cQI0qcSFGiQIIGEVbcyLGjx4rt2sGjd08fv4QfU6pcGfHdu4L5TrKcSVNlvHj08GmsybPnxHnzDPJz2K+oUZ/++u3Ldw+fyaT9TqJE6pAePXv6UBblt0+fvnxg9w1lGZXr0njpwplzZ28pPns6p1JdWK9eyYRbv96zZ69u3JVRv4Kth04bM2ri4OGrJw/ePHxj5y7k+zfqvrf05Mm7WS+fXI/89OG7tzeeN2W2hFlTVy9eu3Tv6u2TzJD0waKX65GL5ssWrly8klkbt04ePqPIp27NR++dOm3KdtWiRQtWqEmEGnViZat7rWDOtpH/S+cuaMzPM/Hhu80PHz14zVIRqpPHzyBNsI5dIxdvn39+AAJoFFf60JPON9PUcgkebbTBhhphZAGFFWCoIYcdevgRSSm4ICNNN+e0M89BkdGkHnv2wKPOLYEsMYMOQiyxhiKqDLNaPl555Z9YJy11jzvePNMLJGPYYEIJJZAQggccfDACCi7Y4IMRYOxhySq7MCNeO/XosxNNYJkUVYrq2OLHES/c4AMSZxxyii/RkAPUZu+0sw465YTTjTbXUKOMLqpgssYPEggQwKGIDlCAAQtQ4MEJP2QhxyGYpKILMc9oQ0479qCX0o5S5dOaMqHgcUYbdOwBiSm7KFMNOOiY/zNOONtQ0wwxt6ziSSaVQIJIH3GQcUQKDCBqrACKIgABBiC84IMTXKRRhyCOaFJKLtGgI5anHQmIko/fEKPKJ6Sk4koumFaDDTfdZFNNNMbo4sonitDxBRZSNGHEDzjEIAIFBhh77AAGMCABBh6MkAIMOcSIBRlxOELLNiRKJk852VCDzTbegBPOOOBwgw01ziAjzCyiRLKHF0GQsEEFDiRgwAAA1GwzAAIHIAABCDQQgQMLHNCzBBeUMEMQZ2jizD0xSWZPO+R8bA466aizTjp5dmPNM8jIcgkfYri4AQUPKGAAAQLcbLOxPC/gAAQSUBABAwj0HMEFJtAwRBqbNP8D12xzMVfnO/DEo9k88bijjjneWOMMLIygocQNJETQgMwEDJC22jjrLAACDlSQAQakTxAzAgxEYIEJNhixBifNkAQ4VYHpuONS9szzjjndUPNKIFPEMEIFCBSANqKcd47sAhUkDIIHLz+QAOoQVGDCDUi00UkzQelDW0ShuacOONa0ogcSJGTgQOaG5hwAAQk0IIEGIqTgggw21NBCCR1gYLoDROOAC4AwBTuM4hnd+x5EAnMPdoTDGqqwQxA6QAEGaE4A7TsUBgeggAqAoAU/kEIZxsCFKiyhBy4AAQcyYIELcCAEJ9CBE8QwiFVMgyTeU+BDiqIPd4jDGqiIww7/KiA9DBqxfcgiAAREMAMklEEQoMCEIegQBibcQAQg+EAHQFCCFcjgCFyIAyRogY2czE6HDtlHO74RDVK4AQdkSwABDICABTCgAQ54QATiNgIcOOEMinBFNIiRikfQIQs/IMEIFnkCF9SgB1RgwyA+4Ytu/A2NENGHOaThi0y8oQgn+MAFIKABE8yAB0E4QhOkYIUtmMEOhbCEK4zxDWfMAhN8+IIQSrDIJ82gB0gwwyBCoQtomMMpJcLkQvDhjWKswhFwkMIOYFCCDbiACFpYgx0AsYhJaEIUqpjFLoohjW+wIxu9CAUhyEAEXi5SBTcoAhXwsIlfIAYe21JmQ/ph/49r4AITg4jDF5wQhBmYYAhiEIQmVKGLZEzDG+hwBzzkcRWnkOMYqlhEGo7gzhGsgAdNAIMiZtGNd9Ajh/pkyJi4EYxTXGIRf5hDGsBgBTckghS4KMY0YBUPzyinH+mABi42YYcosGAFLHBBDqBghj6EohjoKEkyUxqVe+zGF7RgBSk6kQlKQCIUsyDnNogTj7Z8ph/u0IYxWFGILtjABjngwRLOMEldVOMdYkppQ7iCDwdaAxrMSIYxkJEMZUyDG+Zgh2OY9qWF9EMe5KhGLyaRhh8EoQhK6MIfQhGMaZCjU9xSJlfyIQ92lEMc3tjGNsIRooJkJbQK6cc8yoGNYP9g4g1GWMIUuCAHS+RiG+XAp153GBp6tOMc37AGM5RBDYi6gx7nmUg/2pGNYrBCEWgowhTKYIdGrCIZ5WAHPaY6XNzU4x3p4EYzfJGLY1RjHOqIB2RgWxR0NOOWfAhDEbhgB0ikAhjYKM9xhgsRfqRoHdkgxitQoQtmeOMc77iHTCJSlHEEAxSEeIMWikCGQ6iCGNY4BzIJTJR+6CMe6PgGMlohCUNUghRhxQZrdPIQfsgDHd4Ixif6MAYrJIEHY2gELqgRDnd4Cbb6jEpfwTGNW1iiDmNwgx4KEYpfcEPA6NEkJz2xBywAgQc3kEEYJlEMcaxjvEUh8V71YQ9zXOP/GKXwwxWAgIQnXKEPpnDGOdhylGVqgxed2MMVaOABEZQgBV7ARDTg0Rk1OyR88uCGMWDRiDMAwX4zwAEYGHELaXgjHSQhEYDm0QxT/MELPviAAy4AghSEoRPZGLGjY6sU96yDGa1wxBugEAMPhKAEKFgCHCoBC2F4Vh3wgMte2OGLSIzhCDDIwAM2cIIZpEEU3LjNrGPLD1HFoxy9oAQbopCDEEygAhbAQA2oMAdHmKIXzUUHRRFXDljw4Qj+ogAEPtACHsDhFN7I66wtc495uOMbrujDEmhAggkk4OEJCEEOpNAGRZhCGM/oxkDYkY5thOIMLejABSJAgRJgLw+t/whHPrcdFW+LoxV4IMILSICBBzRgAQjIwAp8MIU13CcVtzBGMogBDFokwgsyYMELZLCDJnwhDpf4xTkmvO2k7OMe9CgHK+jAAxWMgAMWmNsBItCBFOSACV+QgyAkEYpRdOISjIADFW6wgyNMQQx0OIQmaiENd6S56grp9j3OwQo40MAEIwgBByrQAAMo4AGO6vcStsCGPvTBDm4owxWUwAMlfIEOieDEK4bh2XogubxLWYctADE5F/CP8QU4gAIYUIERxOAHSrBCGMCQBSkwAQlFCIIV4sCIUchCGNHoRjrqIRXAB34f8DDGJuBgBSCsQAMTYEDsE9AoEtBACEVAgv8SkDCEHujAB+D/wh88YYtfICMa3DjHiARe9ajUoxq2eLIUYIABCTDAAEKjABNQAq0DBDpAAzDAAimQAjSAe2jACLGQDMvgDNEAXMmGTKeXUvkwDs1gC44gBjUQdgsAgAgggCZ3BDrQAiCwARlwARlgdkmgBpFwC88QWMYADfFHEPWwHiZBdWqmD+cwDcBwCWeAAyP3fyVIe7bnAzFQAhkwARIANx6QAjUQBXEgCaXwCZpACaRgC8dADdsgDumwDiIxD/dwRgS2D+sAHZ/QBjuQAf5nAAnAAA9gASGwAjWQAh0wNwugAAogARkQAjhAcXswB2ogBngACaiALpnSDeD/MA7pIF+zxg/uEA7UgApz4APY13gJAEAX8AEmwAIgUAEJYDwDQDAK0AAe0ERRYATTxARqgAif4Aq8oAzPMA3XAA7rUA+TCA/kkA2scAdBsHgOwCjVswH18wIiQDyacyiKcgAUMAIygAMwcAIeUANPgAZ8oAiYYAqvgAvg8Q3v0HxJASBd4SU+SBX8EA/mwA2voAdEIEoPcAAMMAEZAAIoAAM2cAIYkADNqDMEUAANYAEgQAIfoAEVQIBIcAVjAAd9sAiZcAq7EA3nUDFKkQ9vUQ/m0VhIYWMHIgt9cAQikAEQADoW0AElECU9wAIboAD/qDOo+DYOcHOOcgIxwAN2/2cGeuAIpzAM4MA0QyF4mVEn8dAl6dgT/DAPB0ILf6AEJcABEpAAEBCIKnBKQ8BwjGc2BLCVAWkAJJgAqQg3GBACKkADSfB5j8AKyRAO5GAO6WAOeqIN2GAN1MAN5MAOMHGUM7GO7SgLgOAEKgACFlCPHJCSN0BnQbADNLACo8gAd4RHEBAB53YBGHABFBA3GgACJ4ADSrAFbjAImIAKqsAKrYAKoaAJloAJmsAJDKUM1xAO7PA3GbgR0EcO2AALgbB/JaABqwYCVckDRdAETxAFU4AENkACFZCcFXABGtAkIUACJgACcEhyF7ABKFADQuAEWmAGcBAHcSAHaxAGWP8wBVngBWOQB5Agkc3wDSMBGT2xD5VYDa8gCFaQh3uoASTgAjgABEkgBV1wBnJgBkwgAx7gAR2wRSRwAivgAjFAAyrgARLQABLam1ASAzVwAxh6Ay0QAhUwlWR5BGZACKCQC9IAG7LxnvBgDttAC4eQBTcgio7CgEDQBFpwBnUwCL4yB17QBEugBEngBFSwBWEwBmaABlmABDiwAiOwAROAARwAAiMAnSdgAkfiARXAAAlQhx0wA0swBn7ACbpwDeLQDvM1mxKRlOoQDruwCFygAy4wAhcQAi6gA0lAeX7gCJ7gCqqwCTDFB3pwB36ACJKQCZvQCZ+wCHXwBUywAyr/oAGOmgGQqgGjU5kRegCO9wATIAIyEARb4AehMAzUQA6y4S1kYQ/vgA7BAAlgwANNqAElIANAIAVo4AeVcAoN1gzDkAux0AqpUAqvEBzSQA3VYA29IAqH0AZTUG4ccAFRaHMMsADTYwAFoDnbtywgoGmJAAvGwA3x4CU8Qhb3UFrEMAli4AMyYAIZ8KohlAaBkAmuQAza8A3a8C7NoAzG8AzcEImHsw3CgAqJYAZCAAKbqAAIIK3NuDZJRD0pYAWEAAvFsA095a1o6BH9gA+lVQyVQAZAIAPICQIsgANnSQeKQAq9kIvgAA7f0A3bkA3fgA7Jxhf3YA7UIAyiMAdE/5ABFBAzB2CK7bM2MNkzE/ACY0Z64zB/O0IWFssOxmAJACsDIRABG2ACm0oFZ7AHmXALiGEO6hAS7MAO72CGOXJi7agLgXAEllOKp4hByFMziPI5dVgDayAKr7KLOeIf4HqxlnAGQgADqkaQK5ADSsAFbwAJsSAN4yBePOIp+lBw0MAISaAAB4A2yeOzh5IAErABPGAHsdBaTmE7LJGU6yAOuXAIVQADJHABCxAB9xgDSiAGfKAJuGAN5sAlK7dP9dAO5RAMgiAExTMAATC5bJtE1oMDWaAIu0Aej2E7E9sR+/AOthmMQ+ABF/AAqKM6KZAEaXBTv6AN6PAObXGURf8RD+RwDbJwBzxgPIYCvDiTLCCwA1VwB55gDIqVE8rLEvqwDt3gDJ+ABjHQAJAbe7MXAkjwBrJkDN6AbBIGvv3ADtqADKTQBjagtr8LvAJQAHXEAk8wB5QgC9HgDkXZuUerEhULDskgC4ZgBSVQAKa4fSDABHkwCrfADLrIaBi5F0zjFfYgD+5ArKQQCFagAsZCue+DOhPgASpgA1RAB5SgrdwaaugIICLMD/QQDa/ACHrLAZmjOQRwAAkgAlMwCLEQDNEQDurwtfbgGmM4EvSQpthwC5UwB1NwAxsQxGyLKAlQxC1gBF5wB40gCriwDNmADvZww4lrpvu0D/EgDJT/YAZI4AITYETvI4clkAWO8AvLcA2Q2A6Gsw7jwA3gsGft4A3QYFttEAROWCxr2zmH4gAfAAPZIwm3UAzwN7sn9R/kqBJc4Q65QAhPUAMh4ADGQjAJYAJeUAnJEA3Y8IjkUA7koA3PUAzKIA3b0MC3UAp4gAQZ4D5ta8ELsKXBJAm/UBydkU/IQRNRIQ/HMH1PIAMVkEFbrAAn0AWUIHTNAA3KAAy2wAqicAmN8AiUkAmYAFNyMAUyIAHus0EHcAEogANNMAZ6MAmyIA1lpRPk2Gcz0Q/1QA2yAAlqMAQb4M51hAJdIAnDIAzBAAyy0AmIUAdq8AVUMAVVcAVW8ARH/wAELsABCpAzG0QAC6ACweQHlLAKwCAN5VAStUsV+RAOyQALhDAFIiDBPMMAKMAFkAAMulALr5AJeZAF5noCG1CZFnCZEOC/BpBBGoQsiwIBPHAGk+AKxcAN7WAchrwS+6AO2eDAehAFHGsB1WsBLDAFesBVlPAIetAFQGCNV5oAlsqz7TMAB7AAmOqk9QMDPlAGjCALyaAN7CBrOmRj58ANxHAKi+AGTwADEVABHCACMXAEXjAHcNAGarAFQ8ACT+gABWuK/4hBBvAAzFKWPaAEWGAGd0AJseAM3YAO83DUCuRt5EANxaAKeqAEGwCKjsQDQoAER3AErqgCGIBzZ/+TtmaNQQlwASSwqU/gBXFgCJsACzYSX1jxdxo4D+xQDaHABjiQAz9QBEOwAzPAAi3gAi6ArgywQQMQkBbMANXjghtAAjMgBFEQBnEQCJbQCsSQDeQAD+SVUlcnD+PwC5yAB67dBmLwBF3n3y9wArzZlY+NqRvAAj3gBFUgpGggB3xgCJLgCaqAC/pRDlwy13NhYvgAD96wDLnQCqFgCYEwBkSQAivQAi+AAhzwAHSkAKl7jy8Ai4cgCZxgCq0gC7fAC8MQzdogDvHVJc4XGPmwSb7wCXbQBCegAk6uhxFQgg2wLCPQAkLABpYADNDgDXi5GThh1HrpfO/wDc+AC5qmsAdfIAZkcAZioAVRsARN4ARQcAVf8EqWUAvUAA7qAF3qwVg+TmAG8g3Q4AuswAmeAAqiAAqbYAmTQAmVYAma4Amj0ApDHV7G4R86EuoExhzukA7j0A3YoA3c4A3eoLKqpVrF/ojIBhdiUs7ONxGhYcNNQSK8Hu0UoRSCoSODju01URYBAt/ePu7kXu7mfu7onu7qvu6SYdHsXhMC8u5I2e3y7hEBAQAh+QQIZAAAACwAAAAAYABgAAAI/wCbNbsmzp09fPr49fPHsKHDhxAjSpxIsaLFfvz2aeTHUSBBgwgVWhxJsqRJiRg17uPIjxo1bubiIdzXb+HJmzhzOsTIsWa/bt3GsaOnb6VNnUiTXvRps1w5dTIVHlVKtSrFdevg1dNntavXiO7cybO376vZr/Hi0cPH76zbqvPm2cvX9q1dnfTozZ16ty/JevXu6ePrt/BEwIIJG17sEDBCxYVrspTa1/Fgxg377ct3r/O9fDTvWobcdx++evPkyYtXj+1dewcve2UqMaM+e/HaqUuHDh07eZ/1CVdJmWpn0KRx5qPnjp27d/Hk4suHDx89ctWK8arlKhWqU6VYzf/S9WvYsWXRrnEbt05eyKT58iVMfrIfPXXfuHkLRy5dO3mpybMOM65AIkgeb6BxRhljrEFHH4UwQgknp8jiyzLYmDNWPvRVtFGHJdX0zjfQLPPMNNh4U45z7bATTi2IbIEEDzCgUMIIIKhQAxBLWBFGG3048oksxmzDTjz31JUTSyBOpNly6oBjzTG3nCIKKq3IokswyCRzDDG5PFLGDiqAUIEDCyRwAAQZiMDCDUI0wcUae0SyijHdnBNPWTr11KRE+tQDDznLyKLJIn7AwcYcefxhSCOUTPKIIoCMUQQKHJyppgEFKACBBR2U0EINPyQxxRqLrIJMNupw1WdxOeH/A8851LBSSBdQEJHDDT4UwcQUWXzhxRVQIGFDCRQ0oMABBBAwgAAFHKCAAxNg0IEIJ7BgBBuR0LKMOPkg5SdS85iDTS+NcMECCBY0wAAFHJCgwgs0xJBCCBlIsAABAgQQAAAAA+BvAANI2wAEE1gggxaDpEKMN+G+KpJO6CzjiiNpFAHCBREswEAFHphwAgoqmPABBhI0gMCz/gYMgAAEFJDAAxRscAINQXDxxyjDVIMOnzl9iBQ3sBDyhREtUPAAAwkwYMEHJ5AgwgcaVPCAAggUIEC//wY8gAEzX/ABCj5UsYYhpAzDzTnyKImT0DpBU8kWMYxQAQIH5O00CCmI/7CB0gscMMCzXHcNsMwNVPBBCjVUUUclsSQjzlxA5zSc2yFmxAwkVajggQQGGIBAAg3UHMIGVgfO79YCDBCtAhFg4EEJK8SwwxFUhNEHJrQkw407EyNV3Xw38aMPPstEgsULIUxggLQMPBABBRZIgCYCBhA+uAHTWlBCDUQ0YYUXauBxiCWp8PKMN+nQ8ydFx4V2kmn1JDMJFzOQUIHo0UPgQAMLwBqnVtc6AszMAiLQgRTUYAdALCITqdDFMqwBjvbYw1VK6Qw+5GeSfdyDHsvIhBl+0IINJGABB1saAprlrMG17gALcMAF3NQDLMzhEZswBSx88YxvvGMe+HjfSP/iJ0R/bMYe00BFH7IQhBRE4AH/YxqzWjg4AhxgAh5QwQ6a8AU5HIITsdCFMJIxDfbRIzFeqQ5yine8beCCEnOowg00MIEHLABvBWhhAQuwgA/IwAhfwEMkTmGLYlAjG94QxznaMQ/QYI4qwwteiPahj3EcYxWNyJgIMACBBORRj62LlgNUYAQxCGIUxOBGOUBSFEl+JT4rwUlKyqEMWEAiDULYwAQawKwCPG8BD5iAzWYQBC3MgRGl6IU10OEOovTkLpfLCUbO0QxZSAINPkiWJwkgugVMgAMlsAETxHCHRojiFsi4RkxaA6u3wO0mNUnHM2pBiTPogJcFGIAVgcn/gRTcAApwiIQrfhEN9sDjgrEszDvr0w9zIGMViPDCDFb4LAM6gAIkqEERxoCIVjSDG+rgUBGrslCTYMQbuaDEG5iQAsFtjY8S0AALfPCENkjiFtYoiGwwU1KSpOQaquiDFXYAgnz2qwAyBMEMjKAFPHAiGOBIR9sw0xCVjFQz+oDGJs7gAxVcgF/+MkAEOHCCHUCBDIIwhTLQ8Q57jNQqPR2J8fDBDEp0YQYjmADhBKAADaggB0voghsUsQpmsNWtVGUIk96WD3scoxFTSAEHHvCswTlgBDdgwhbUkAdJwMIZ52hrEWmTmZqcZFw38SA9hmGIJHigAgwoIAEksIIi/5DvDoTQRC2gcQ6DCFEywePJb02rnHrE4xeCKIIG9OU6aWkgB1eggx4AYQhLtGIY1xjHOyqHEn7E4xzcsMY0oOGMZzwDGuZ1BjSu0Q1yrGMe3I2IT2SJD3m0gxeAGAId94UABkSgBEhgAyMSYYhBNKITA5WGOThEkYzgoxvDQIUmJsGIQ1jYwoYwBCM2sYpdOCMc9ViKNO3xDnTgog9CoCMDYIoBGGABEKXIRCMCQQhHZOIUweCGWyHzJHok4xN08MIUkgCEH/zAB0j2wRHA0FlYQOMdb+mHPdxxjlwEIgki4IAFIIABEayACG64BC9UcQlCAGIQh4AELJ7xDjRChP8f95CHOmjhBySw4AMSwJsBYubLCLygCWuoxC/SEWV8zMMdydhEG5yQhCH4YAlYMMMeMmELaPyiFZyIhCIEIYhO4GIa4WCHWzNCnHqgYxvL0EQacBCCCzhggFUkQANGkAMoAEIW5bCLaeyRjVpEIg91iAMb+vCIUMxiGNQYxzSIQYtRQMIPdFhEKHCxDG/Ag5KcmY4+3pENYrACEFVIgdUS0CztDQABFygBDdZginDcJZ7PsAUpQuGJTbzCGCB1h1zQoQ1m0OISeTADHhbRid22Ch/2oEc97HGPdCyDFY04AxAysCyjFg5mC4jdFTLBDb/AwxvMAIYvdpELZfxuOhr/cUc4qHGLSbghd27gwyVs4bPenGMdPzzHMmBBCTtkgUzscoACDNCvrRmAAiFwwRlG8Q2/2GMd38CGNaoxjW60r5X8gMc4rmGLRYABCEiIQhbskAleSIMa1riGN8zRDnNAQxelkIQf1nCFIbiAAxRgAAEVIIIcRCEQs8h1aeL8jrC0Ix4XNG0/4lEObdiCEFJgAQxmcAMr8EEUvAAGMY4hjTyVIzu2aAUpNkGIMhhhBR9w3uAG4AAYSIEOmxCGOhIbkXmgoxu3GMQTTFCCEpAgCGVIxChWMYtdpLMc5tgGNIxBDGEAIxWFCEMQXLCBFTZrAj5IAyVmEQ0o0/4h9wGH/y8c4QUc1EAGLwDCFdwwiEmMghbFsMbNycGNalTDJcAIhSDGYAQUKIDPF5AEe9AKxcAN8vB9D1EP7DAOxJAJbaAERfADOgAESkAFY7AHlNAKwVAN6ZAb6YB85nAO19ALo3ArNbBiz8MBVdAIxoAN52APCOgQU2YOyjAKfcAFVMAERAAEPZADQ0AGhWAKvUAN62APgLFwCOEO2BBhdSAEDhAtCRACYAAK39AeGBSD9LAO4UAMnDAHUqAEQ7ADO+ADQOAEbuAIrkAM2dAO+NAZsMFw5GAMqZAIX2ADK3YACSACYiAKoTYPV/h9/SAP4NUL11QEPnADMGADFMgFk4YLzP9gbdTRhqgRD9cQC4pgeihAbnioh6IgDu1AD/GVWP2gddZQC4nQBTkgAyxQAjEwBFSgBodQCsIwDePgh/pAHfTwDuuwDJuwBtOnAXsmLXo4CuPwiaG4GFh1D+VADcIQCnjwBC6QAiTwAS4gBFXABocwCjwEDvDwQfLwDuOADcywCn3wBJIFAc2CAAtAAmHwCVYnD38YZbThE/tgD/LADtKQC58ACF/wA1IDAh6wAj3gBGKwB5PACsAwDb2FDuKwDd5GCXdwBTagSwvgOgrwACfwBZgADeDADvjQFz7hJ8CFD/GgDuHwC53AB2BwBNTHARzQASmAA0aABW6QW7FwDCr/wg3TgAykAAhcMAQx4AFCR3QGwAAToAJdAAnEYA3mAINRRmoqEZXCUQ9aWA2sMAhaAAQvgGcVgAEbYAIy8ANOEAZ0cAigkAvSgA3NEAyyQAhWgAK7ZAADEwAH8AAWwAJboAi40AzhQA9ugRH18A7pkA7qgBXqgA7nkA7s8A7q4A3TUAybEAdHAAMkgAHSIwEU4AGMEwRNoAVngAeJsAmeUAmL8Ade0AMc0ACeNJd1eQEtwAWLsAvPIA7uYxYYkQ/uIA7WYA3ZwA3ckA3WkJZB8Q3RwGyJIFEnEwEMwAAN0AAWkCM0oANBEHZaQAZl0AVVwAQ4QAIRkDUDMDACgABc/+YCXdAIvRANtPlWFZER9mAO1UAMxIAMzNAMyDAMvmAMz4AN1FAMtTAKeMAEIPAAyoIAetYAFwACJ5CgKJACK9ACK1ACH5AvK7Y14BmeXPYCX/AIvyAN4+A+6ilftyFn1OALqGAKqLAKq2AKoLAJo+AKuFALpmAJhQAGO2ABeHMAsJYAsdMBHLABGoABF1AB1jN0edQ6+tRNMjQCL3AEcuAJyqAN6LBjVZES9dAO5HAuonAIgbClf6AHdPAGeCAIjKAIffAGYFAEKwABnJJHLlSUElABFWABFkABT6QsB1AAeMpNCKAADTABGfABLxAEU8AGkFAL2lAO7xBEVvEkWv93DcZgCoZQBlygBVcwBU6ABEPABFYABmBABUewAyugAf/nQhS6Tw3wABAgAUuzKXnkS2BzMCBzAjBgBF5wBwLFDOlwUBykFMZzD+ugDckwC5DABknQAzhAAy8gjWMjAzzAAzJwAh1QAQ2gNXPpL1+jjqeqqspyQqc6PRagAR4wAilAAz+gBGLgB5kwC8kADpTzoW92POgADbkACn7QBc7qAiUjAh6gASKgAjMgAykAAhjQMWDlL0Z6QBvQAR8QAiIwAiSQAsxaBEsQBVfABWFgBmswB3ogCJNgCrmwDNqQDo7krg8xV+RwDKnACIv2AiaAIx2wARhgARwgAilwL3T/pDLfOTBH6gAZMAIN+gIxUAM54ANIkAVqoAc1hgmfMApYEgu2oAvD4AzYIA7qAF/EZRVzFQ69oAl4sAU/IAI/OqcTIAESYAEb8AERuktDVzgEIzoUMAK2wwNkiARQgAVoAAiYsEPMkA3hYA44Bw/xIA96gXKPNKWUNA7B8Al94AU+4AEWUAFjGwERAAEUgAE9umV3lE/7FAEf0AI7gARVEAZqsAZt4AZ0sAeC8AijQG3WEA6M5GaRkRHnkAyqcIlBgHcTELkQEEzfqgEU4ACbYkBc9ntfwAeJIAmbEAqiMAqk0LS5YAzSoCLsMA+CUbggyQ7QUAuX0AZEsFxkKwFP/+QAEVABGYAyDICjodMAGVACOEAGkMALyfAM1IAN2aAN26Af4DAO6PAfgTEfJKsT74ANwVAKecAEHyCnckoBEoAwFlC+SnORFLC+MyAEWIAIuIAOZ+S/MUgR8xAOz3ALitAFMOB7U8MBGFABFwCuHrAB5asCPOAEXtAGfICGbDYTV7vBEWEP6cANycAJbyAENRAD0TiNGsABH9CwIzACJVAEZDAImGAKtUAM1WAO92AUOFwR+VCS29AKgDAFEZgDM9ACJgACIUACJoACDToDX8AIuCAN4OAORfG/i6EP89AO4LC1dnAGXZCDRyAEPeADPxAERxAFW3AGibAKH1aEV/98EoHyDuXQDLSwCYtQpmUgBl/ABVzQBV1wBnmwCJ5AC8rguo20yB2EG+rADc4ADK/QCaXZB3ywB3ugB3pwCKGwC9TwDe2zRqRMEvxgHe9wDlF3DLQgCpZwCZiQCZiACZdACr+QDRsix7TXD/pwD4fGkNTAbKvgCrJgC9xsCxtKDgdxjLtMERhxPPQADy5CDcYADMbADNIwDS5xqPAQx+MsS3NlD+0Qji9RDu3wDoBLvfFYz5lDSSSJDvkxDuoAIHlBOQI9EvNVWrZBD+1QDuOQqwynQQnR0BUhGTcMXHHGDllRD1FpxeP80N3VTv7gE/lgXPCwFsDlSots0g8RkjA1ndKacRqtMRjAdcOLjFo7wRPPJF8ZAUt1wdHQ/BU9BdQo/dMmzRRH7RVJPRk8zdRX69T1HBAAOw==\"/>"
      ],
      "text/plain": [
       "<IPython.core.display.HTML object>"
      ]
     },
     "execution_count": 10,
     "metadata": {},
     "output_type": "execute_result"
    }
   ],
   "source": [
    "fake_images *= 255.0\n",
    "converted_images = fake_images.astype(np.uint8)\n",
    "converted_images = tf.image.resize(converted_images, (96, 96)).numpy().astype(np.uint8)\n",
    "imageio.mimsave(\"animation.gif\", converted_images, fps=1)\n",
    "embed.embed_file(\"animation.gif\")"
   ]
  }
 ],
 "metadata": {
  "kernelspec": {
   "display_name": "Python 3",
   "language": "python",
   "name": "python3"
  },
  "language_info": {
   "codemirror_mode": {
    "name": "ipython",
    "version": 3
   },
   "file_extension": ".py",
   "mimetype": "text/x-python",
   "name": "python",
   "nbconvert_exporter": "python",
   "pygments_lexer": "ipython3",
   "version": "3.8.12"
  }
 },
 "nbformat": 4,
 "nbformat_minor": 5
}
