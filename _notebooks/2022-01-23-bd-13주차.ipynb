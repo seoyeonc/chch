{
  "cells": [
    {
      "cell_type": "markdown",
      "id": "3898153f-b67c-4f96-8ac7-3de6e73e5c5c",
      "metadata": {
        "tags": [],
        "id": "3898153f-b67c-4f96-8ac7-3de6e73e5c5c"
      },
      "source": [
        "# (13주차) 12월2일\n",
        "> 추천시스템 (IMDB) \n",
        "\n",
        "- toc:true\n",
        "- branch: master\n",
        "- badges: true\n",
        "- comments: true\n",
        "- author: 최규빈"
      ]
    },
    {
      "cell_type": "markdown",
      "id": "ee8c706e-f43c-4961-ba62-f0bf0c8dbad2",
      "metadata": {
        "id": "ee8c706e-f43c-4961-ba62-f0bf0c8dbad2"
      },
      "source": [
        "### 강의영상 "
      ]
    },
    {
      "cell_type": "markdown",
      "id": "c00eb915-275a-4da7-b707-c3a833fb380e",
      "metadata": {
        "id": "c00eb915-275a-4da7-b707-c3a833fb380e"
      },
      "source": [
        "> youtube: https://youtube.com/playlist?list=PLQqh36zP38-zJ54ajJiw9l_FGL9OdiIYp"
      ]
    },
    {
      "cell_type": "markdown",
      "id": "fef34a12-d9df-4c88-90e3-c244ce5a0309",
      "metadata": {
        "id": "fef34a12-d9df-4c88-90e3-c244ce5a0309"
      },
      "source": [
        "`-` (1/4) 추천시스템 데이터소개 \n",
        "\n",
        "`-` (2/4) dls 만들기, 학습 \n",
        "\n",
        "`-` (3/4) bias \n",
        "\n",
        "`-` (4/4) 해석"
      ]
    },
    {
      "cell_type": "markdown",
      "id": "dc8dd0da-a341-4913-aef0-40186de57e67",
      "metadata": {
        "id": "dc8dd0da-a341-4913-aef0-40186de57e67"
      },
      "source": [
        "### import "
      ]
    },
    {
      "cell_type": "code",
      "execution_count": null,
      "id": "805a5e0b-dd28-4f0e-8450-ed9f59d613c2",
      "metadata": {
        "id": "805a5e0b-dd28-4f0e-8450-ed9f59d613c2"
      },
      "outputs": [],
      "source": [
        "import torch \n",
        "from fastai.collab import * \n",
        "from fastai.tabular.all import * "
      ]
    },
    {
      "cell_type": "markdown",
      "id": "59cd06ce-4bb7-4649-b992-c7d776a0e630",
      "metadata": {
        "id": "59cd06ce-4bb7-4649-b992-c7d776a0e630"
      },
      "source": [
        "### data "
      ]
    },
    {
      "cell_type": "code",
      "execution_count": null,
      "id": "52f6e1b7-3903-4311-a73f-c7e4a33cd96e",
      "metadata": {
        "id": "52f6e1b7-3903-4311-a73f-c7e4a33cd96e"
      },
      "outputs": [],
      "source": [
        "path = untar_data(URLs.ML_100k) "
      ]
    },
    {
      "cell_type": "markdown",
      "id": "4f9524c6-841d-45a3-9643-1d54915c11cf",
      "metadata": {
        "id": "4f9524c6-841d-45a3-9643-1d54915c11cf"
      },
      "source": [
        "`-` 첫번째 데이터프레임  "
      ]
    },
    {
      "cell_type": "code",
      "execution_count": null,
      "id": "5c14213a-1ec2-4509-9e6b-d73c6b622796",
      "metadata": {
        "id": "5c14213a-1ec2-4509-9e6b-d73c6b622796",
        "outputId": "9b9da9f6-d007-4077-9096-6ffb0ac8e816"
      },
      "outputs": [
        {
          "data": {
            "text/html": [
              "<div>\n",
              "<style scoped>\n",
              "    .dataframe tbody tr th:only-of-type {\n",
              "        vertical-align: middle;\n",
              "    }\n",
              "\n",
              "    .dataframe tbody tr th {\n",
              "        vertical-align: top;\n",
              "    }\n",
              "\n",
              "    .dataframe thead th {\n",
              "        text-align: right;\n",
              "    }\n",
              "</style>\n",
              "<table border=\"1\" class=\"dataframe\">\n",
              "  <thead>\n",
              "    <tr style=\"text-align: right;\">\n",
              "      <th></th>\n",
              "      <th>user</th>\n",
              "      <th>movie</th>\n",
              "      <th>rating</th>\n",
              "      <th>timestamp</th>\n",
              "    </tr>\n",
              "  </thead>\n",
              "  <tbody>\n",
              "    <tr>\n",
              "      <th>0</th>\n",
              "      <td>196</td>\n",
              "      <td>242</td>\n",
              "      <td>3</td>\n",
              "      <td>881250949</td>\n",
              "    </tr>\n",
              "    <tr>\n",
              "      <th>1</th>\n",
              "      <td>186</td>\n",
              "      <td>302</td>\n",
              "      <td>3</td>\n",
              "      <td>891717742</td>\n",
              "    </tr>\n",
              "    <tr>\n",
              "      <th>2</th>\n",
              "      <td>22</td>\n",
              "      <td>377</td>\n",
              "      <td>1</td>\n",
              "      <td>878887116</td>\n",
              "    </tr>\n",
              "    <tr>\n",
              "      <th>3</th>\n",
              "      <td>244</td>\n",
              "      <td>51</td>\n",
              "      <td>2</td>\n",
              "      <td>880606923</td>\n",
              "    </tr>\n",
              "    <tr>\n",
              "      <th>4</th>\n",
              "      <td>166</td>\n",
              "      <td>346</td>\n",
              "      <td>1</td>\n",
              "      <td>886397596</td>\n",
              "    </tr>\n",
              "    <tr>\n",
              "      <th>...</th>\n",
              "      <td>...</td>\n",
              "      <td>...</td>\n",
              "      <td>...</td>\n",
              "      <td>...</td>\n",
              "    </tr>\n",
              "    <tr>\n",
              "      <th>99995</th>\n",
              "      <td>880</td>\n",
              "      <td>476</td>\n",
              "      <td>3</td>\n",
              "      <td>880175444</td>\n",
              "    </tr>\n",
              "    <tr>\n",
              "      <th>99996</th>\n",
              "      <td>716</td>\n",
              "      <td>204</td>\n",
              "      <td>5</td>\n",
              "      <td>879795543</td>\n",
              "    </tr>\n",
              "    <tr>\n",
              "      <th>99997</th>\n",
              "      <td>276</td>\n",
              "      <td>1090</td>\n",
              "      <td>1</td>\n",
              "      <td>874795795</td>\n",
              "    </tr>\n",
              "    <tr>\n",
              "      <th>99998</th>\n",
              "      <td>13</td>\n",
              "      <td>225</td>\n",
              "      <td>2</td>\n",
              "      <td>882399156</td>\n",
              "    </tr>\n",
              "    <tr>\n",
              "      <th>99999</th>\n",
              "      <td>12</td>\n",
              "      <td>203</td>\n",
              "      <td>3</td>\n",
              "      <td>879959583</td>\n",
              "    </tr>\n",
              "  </tbody>\n",
              "</table>\n",
              "<p>100000 rows × 4 columns</p>\n",
              "</div>"
            ],
            "text/plain": [
              "       user  movie  rating  timestamp\n",
              "0       196    242       3  881250949\n",
              "1       186    302       3  891717742\n",
              "2        22    377       1  878887116\n",
              "3       244     51       2  880606923\n",
              "4       166    346       1  886397596\n",
              "...     ...    ...     ...        ...\n",
              "99995   880    476       3  880175444\n",
              "99996   716    204       5  879795543\n",
              "99997   276   1090       1  874795795\n",
              "99998    13    225       2  882399156\n",
              "99999    12    203       3  879959583\n",
              "\n",
              "[100000 rows x 4 columns]"
            ]
          },
          "execution_count": 7,
          "metadata": {},
          "output_type": "execute_result"
        }
      ],
      "source": [
        "ratings=pd.read_csv(path/'u.data', delimiter='\\t', header=None, names=['user','movie','rating','timestamp'])\n",
        "ratings"
      ]
    },
    {
      "cell_type": "markdown",
      "id": "35f96719-25f9-4a97-b9af-4af91a250ce4",
      "metadata": {
        "id": "35f96719-25f9-4a97-b9af-4af91a250ce4"
      },
      "source": [
        "- 마지막열은 무의믜 "
      ]
    },
    {
      "cell_type": "markdown",
      "id": "7abcf451-bc44-4bd6-9d30-c988e2557057",
      "metadata": {
        "id": "7abcf451-bc44-4bd6-9d30-c988e2557057"
      },
      "source": [
        "`-` 두번째 데이터프레임 "
      ]
    },
    {
      "cell_type": "code",
      "execution_count": null,
      "id": "1416cc26-f233-4374-aefe-664ee2583ca7",
      "metadata": {
        "id": "1416cc26-f233-4374-aefe-664ee2583ca7",
        "outputId": "3de69a87-d77d-45d9-aaf2-39baf6f8a4b1"
      },
      "outputs": [
        {
          "data": {
            "text/html": [
              "<div>\n",
              "<style scoped>\n",
              "    .dataframe tbody tr th:only-of-type {\n",
              "        vertical-align: middle;\n",
              "    }\n",
              "\n",
              "    .dataframe tbody tr th {\n",
              "        vertical-align: top;\n",
              "    }\n",
              "\n",
              "    .dataframe thead th {\n",
              "        text-align: right;\n",
              "    }\n",
              "</style>\n",
              "<table border=\"1\" class=\"dataframe\">\n",
              "  <thead>\n",
              "    <tr style=\"text-align: right;\">\n",
              "      <th></th>\n",
              "      <th>movie</th>\n",
              "      <th>title</th>\n",
              "    </tr>\n",
              "  </thead>\n",
              "  <tbody>\n",
              "    <tr>\n",
              "      <th>0</th>\n",
              "      <td>1</td>\n",
              "      <td>Toy Story (1995)</td>\n",
              "    </tr>\n",
              "    <tr>\n",
              "      <th>1</th>\n",
              "      <td>2</td>\n",
              "      <td>GoldenEye (1995)</td>\n",
              "    </tr>\n",
              "    <tr>\n",
              "      <th>2</th>\n",
              "      <td>3</td>\n",
              "      <td>Four Rooms (1995)</td>\n",
              "    </tr>\n",
              "    <tr>\n",
              "      <th>3</th>\n",
              "      <td>4</td>\n",
              "      <td>Get Shorty (1995)</td>\n",
              "    </tr>\n",
              "    <tr>\n",
              "      <th>4</th>\n",
              "      <td>5</td>\n",
              "      <td>Copycat (1995)</td>\n",
              "    </tr>\n",
              "    <tr>\n",
              "      <th>...</th>\n",
              "      <td>...</td>\n",
              "      <td>...</td>\n",
              "    </tr>\n",
              "    <tr>\n",
              "      <th>1677</th>\n",
              "      <td>1678</td>\n",
              "      <td>Mat' i syn (1997)</td>\n",
              "    </tr>\n",
              "    <tr>\n",
              "      <th>1678</th>\n",
              "      <td>1679</td>\n",
              "      <td>B. Monkey (1998)</td>\n",
              "    </tr>\n",
              "    <tr>\n",
              "      <th>1679</th>\n",
              "      <td>1680</td>\n",
              "      <td>Sliding Doors (1998)</td>\n",
              "    </tr>\n",
              "    <tr>\n",
              "      <th>1680</th>\n",
              "      <td>1681</td>\n",
              "      <td>You So Crazy (1994)</td>\n",
              "    </tr>\n",
              "    <tr>\n",
              "      <th>1681</th>\n",
              "      <td>1682</td>\n",
              "      <td>Scream of Stone (Schrei aus Stein) (1991)</td>\n",
              "    </tr>\n",
              "  </tbody>\n",
              "</table>\n",
              "<p>1682 rows × 2 columns</p>\n",
              "</div>"
            ],
            "text/plain": [
              "      movie                                      title\n",
              "0         1                           Toy Story (1995)\n",
              "1         2                           GoldenEye (1995)\n",
              "2         3                          Four Rooms (1995)\n",
              "3         4                          Get Shorty (1995)\n",
              "4         5                             Copycat (1995)\n",
              "...     ...                                        ...\n",
              "1677   1678                          Mat' i syn (1997)\n",
              "1678   1679                           B. Monkey (1998)\n",
              "1679   1680                       Sliding Doors (1998)\n",
              "1680   1681                        You So Crazy (1994)\n",
              "1681   1682  Scream of Stone (Schrei aus Stein) (1991)\n",
              "\n",
              "[1682 rows x 2 columns]"
            ]
          },
          "execution_count": 10,
          "metadata": {},
          "output_type": "execute_result"
        }
      ],
      "source": [
        "movies = pd.read_csv(path/'u.item', delimiter='|', encoding='latin-1', usecols=(0,1), names=('movie','title'), header=None)\n",
        "movies"
      ]
    },
    {
      "cell_type": "markdown",
      "id": "e3a356c9-23c1-48d3-bac3-6b5c9709ddec",
      "metadata": {
        "id": "e3a356c9-23c1-48d3-bac3-6b5c9709ddec"
      },
      "source": [
        "`-` 두 데이터프레임을 합친다. "
      ]
    },
    {
      "cell_type": "code",
      "execution_count": null,
      "id": "ca1e616a-bd6e-4333-9d5d-383dce108840",
      "metadata": {
        "id": "ca1e616a-bd6e-4333-9d5d-383dce108840",
        "outputId": "1522f92c-3127-4afe-987e-3b684e0613c0"
      },
      "outputs": [
        {
          "data": {
            "text/html": [
              "<div>\n",
              "<style scoped>\n",
              "    .dataframe tbody tr th:only-of-type {\n",
              "        vertical-align: middle;\n",
              "    }\n",
              "\n",
              "    .dataframe tbody tr th {\n",
              "        vertical-align: top;\n",
              "    }\n",
              "\n",
              "    .dataframe thead th {\n",
              "        text-align: right;\n",
              "    }\n",
              "</style>\n",
              "<table border=\"1\" class=\"dataframe\">\n",
              "  <thead>\n",
              "    <tr style=\"text-align: right;\">\n",
              "      <th></th>\n",
              "      <th>user</th>\n",
              "      <th>movie</th>\n",
              "      <th>rating</th>\n",
              "      <th>timestamp</th>\n",
              "      <th>title</th>\n",
              "    </tr>\n",
              "  </thead>\n",
              "  <tbody>\n",
              "    <tr>\n",
              "      <th>0</th>\n",
              "      <td>196</td>\n",
              "      <td>242</td>\n",
              "      <td>3</td>\n",
              "      <td>881250949</td>\n",
              "      <td>Kolya (1996)</td>\n",
              "    </tr>\n",
              "    <tr>\n",
              "      <th>1</th>\n",
              "      <td>63</td>\n",
              "      <td>242</td>\n",
              "      <td>3</td>\n",
              "      <td>875747190</td>\n",
              "      <td>Kolya (1996)</td>\n",
              "    </tr>\n",
              "    <tr>\n",
              "      <th>2</th>\n",
              "      <td>226</td>\n",
              "      <td>242</td>\n",
              "      <td>5</td>\n",
              "      <td>883888671</td>\n",
              "      <td>Kolya (1996)</td>\n",
              "    </tr>\n",
              "    <tr>\n",
              "      <th>3</th>\n",
              "      <td>154</td>\n",
              "      <td>242</td>\n",
              "      <td>3</td>\n",
              "      <td>879138235</td>\n",
              "      <td>Kolya (1996)</td>\n",
              "    </tr>\n",
              "    <tr>\n",
              "      <th>4</th>\n",
              "      <td>306</td>\n",
              "      <td>242</td>\n",
              "      <td>5</td>\n",
              "      <td>876503793</td>\n",
              "      <td>Kolya (1996)</td>\n",
              "    </tr>\n",
              "    <tr>\n",
              "      <th>...</th>\n",
              "      <td>...</td>\n",
              "      <td>...</td>\n",
              "      <td>...</td>\n",
              "      <td>...</td>\n",
              "      <td>...</td>\n",
              "    </tr>\n",
              "    <tr>\n",
              "      <th>99995</th>\n",
              "      <td>840</td>\n",
              "      <td>1674</td>\n",
              "      <td>4</td>\n",
              "      <td>891211682</td>\n",
              "      <td>Mamma Roma (1962)</td>\n",
              "    </tr>\n",
              "    <tr>\n",
              "      <th>99996</th>\n",
              "      <td>655</td>\n",
              "      <td>1640</td>\n",
              "      <td>3</td>\n",
              "      <td>888474646</td>\n",
              "      <td>Eighth Day, The (1996)</td>\n",
              "    </tr>\n",
              "    <tr>\n",
              "      <th>99997</th>\n",
              "      <td>655</td>\n",
              "      <td>1637</td>\n",
              "      <td>3</td>\n",
              "      <td>888984255</td>\n",
              "      <td>Girls Town (1996)</td>\n",
              "    </tr>\n",
              "    <tr>\n",
              "      <th>99998</th>\n",
              "      <td>655</td>\n",
              "      <td>1630</td>\n",
              "      <td>3</td>\n",
              "      <td>887428735</td>\n",
              "      <td>Silence of the Palace, The (Saimt el Qusur) (1994)</td>\n",
              "    </tr>\n",
              "    <tr>\n",
              "      <th>99999</th>\n",
              "      <td>655</td>\n",
              "      <td>1641</td>\n",
              "      <td>3</td>\n",
              "      <td>887427810</td>\n",
              "      <td>Dadetown (1995)</td>\n",
              "    </tr>\n",
              "  </tbody>\n",
              "</table>\n",
              "<p>100000 rows × 5 columns</p>\n",
              "</div>"
            ],
            "text/plain": [
              "       user  movie  rating  timestamp  \\\n",
              "0       196    242       3  881250949   \n",
              "1        63    242       3  875747190   \n",
              "2       226    242       5  883888671   \n",
              "3       154    242       3  879138235   \n",
              "4       306    242       5  876503793   \n",
              "...     ...    ...     ...        ...   \n",
              "99995   840   1674       4  891211682   \n",
              "99996   655   1640       3  888474646   \n",
              "99997   655   1637       3  888984255   \n",
              "99998   655   1630       3  887428735   \n",
              "99999   655   1641       3  887427810   \n",
              "\n",
              "                                                    title  \n",
              "0                                            Kolya (1996)  \n",
              "1                                            Kolya (1996)  \n",
              "2                                            Kolya (1996)  \n",
              "3                                            Kolya (1996)  \n",
              "4                                            Kolya (1996)  \n",
              "...                                                   ...  \n",
              "99995                                   Mamma Roma (1962)  \n",
              "99996                              Eighth Day, The (1996)  \n",
              "99997                                   Girls Town (1996)  \n",
              "99998  Silence of the Palace, The (Saimt el Qusur) (1994)  \n",
              "99999                                     Dadetown (1995)  \n",
              "\n",
              "[100000 rows x 5 columns]"
            ]
          },
          "execution_count": 13,
          "metadata": {},
          "output_type": "execute_result"
        }
      ],
      "source": [
        "df = ratings.merge(movies)\n",
        "df"
      ]
    },
    {
      "cell_type": "markdown",
      "id": "6765a0a0-42e8-4021-9684-64230e09c35e",
      "metadata": {
        "id": "6765a0a0-42e8-4021-9684-64230e09c35e"
      },
      "source": [
        "### dls "
      ]
    },
    {
      "cell_type": "code",
      "execution_count": null,
      "id": "6d2e8b85-9ea8-45dd-a8bb-1b1cdcd1907b",
      "metadata": {
        "id": "6d2e8b85-9ea8-45dd-a8bb-1b1cdcd1907b",
        "outputId": "d85146df-b134-40e1-df65-e3624791fa65"
      },
      "outputs": [
        {
          "data": {
            "text/html": [
              "<table border=\"1\" class=\"dataframe\">\n",
              "  <thead>\n",
              "    <tr style=\"text-align: right;\">\n",
              "      <th></th>\n",
              "      <th>user</th>\n",
              "      <th>title</th>\n",
              "      <th>rating</th>\n",
              "    </tr>\n",
              "  </thead>\n",
              "  <tbody>\n",
              "    <tr>\n",
              "      <th>0</th>\n",
              "      <td>853</td>\n",
              "      <td>Hoodlum (1997)</td>\n",
              "      <td>4</td>\n",
              "    </tr>\n",
              "    <tr>\n",
              "      <th>1</th>\n",
              "      <td>384</td>\n",
              "      <td>Jackal, The (1997)</td>\n",
              "      <td>4</td>\n",
              "    </tr>\n",
              "    <tr>\n",
              "      <th>2</th>\n",
              "      <td>721</td>\n",
              "      <td>Robert A. Heinlein's The Puppet Masters (1994)</td>\n",
              "      <td>3</td>\n",
              "    </tr>\n",
              "    <tr>\n",
              "      <th>3</th>\n",
              "      <td>840</td>\n",
              "      <td>Rear Window (1954)</td>\n",
              "      <td>5</td>\n",
              "    </tr>\n",
              "    <tr>\n",
              "      <th>4</th>\n",
              "      <td>429</td>\n",
              "      <td>Pink Floyd - The Wall (1982)</td>\n",
              "      <td>3</td>\n",
              "    </tr>\n",
              "    <tr>\n",
              "      <th>5</th>\n",
              "      <td>536</td>\n",
              "      <td>Age of Innocence, The (1993)</td>\n",
              "      <td>3</td>\n",
              "    </tr>\n",
              "    <tr>\n",
              "      <th>6</th>\n",
              "      <td>763</td>\n",
              "      <td>Amadeus (1984)</td>\n",
              "      <td>4</td>\n",
              "    </tr>\n",
              "    <tr>\n",
              "      <th>7</th>\n",
              "      <td>913</td>\n",
              "      <td>Rear Window (1954)</td>\n",
              "      <td>4</td>\n",
              "    </tr>\n",
              "    <tr>\n",
              "      <th>8</th>\n",
              "      <td>276</td>\n",
              "      <td>Eraser (1996)</td>\n",
              "      <td>3</td>\n",
              "    </tr>\n",
              "    <tr>\n",
              "      <th>9</th>\n",
              "      <td>645</td>\n",
              "      <td>Cook the Thief His Wife &amp; Her Lover, The (1989)</td>\n",
              "      <td>4</td>\n",
              "    </tr>\n",
              "  </tbody>\n",
              "</table>"
            ],
            "text/plain": [
              "<IPython.core.display.HTML object>"
            ]
          },
          "metadata": {},
          "output_type": "display_data"
        }
      ],
      "source": [
        "dls = CollabDataLoaders.from_df(df,bs=64,item_name='title') \n",
        "dls.show_batch()"
      ]
    },
    {
      "cell_type": "markdown",
      "id": "4591df34-b448-4c62-9c23-611679e21064",
      "metadata": {
        "id": "4591df34-b448-4c62-9c23-611679e21064"
      },
      "source": [
        "### learn "
      ]
    },
    {
      "cell_type": "code",
      "execution_count": null,
      "id": "be939068-94ce-4b0b-a8e0-8871244cdba8",
      "metadata": {
        "id": "be939068-94ce-4b0b-a8e0-8871244cdba8",
        "outputId": "1bafad1a-0fa1-4564-d086-26cfe877c35a"
      },
      "outputs": [
        {
          "data": {
            "text/html": [
              "<table border=\"1\" class=\"dataframe\">\n",
              "  <thead>\n",
              "    <tr style=\"text-align: left;\">\n",
              "      <th>epoch</th>\n",
              "      <th>train_loss</th>\n",
              "      <th>valid_loss</th>\n",
              "      <th>time</th>\n",
              "    </tr>\n",
              "  </thead>\n",
              "  <tbody>\n",
              "    <tr>\n",
              "      <td>0</td>\n",
              "      <td>1.142334</td>\n",
              "      <td>1.111295</td>\n",
              "      <td>00:04</td>\n",
              "    </tr>\n",
              "    <tr>\n",
              "      <td>1</td>\n",
              "      <td>0.919599</td>\n",
              "      <td>0.928836</td>\n",
              "      <td>00:03</td>\n",
              "    </tr>\n",
              "    <tr>\n",
              "      <td>2</td>\n",
              "      <td>0.865876</td>\n",
              "      <td>0.896597</td>\n",
              "      <td>00:03</td>\n",
              "    </tr>\n",
              "    <tr>\n",
              "      <td>3</td>\n",
              "      <td>0.853443</td>\n",
              "      <td>0.881308</td>\n",
              "      <td>00:03</td>\n",
              "    </tr>\n",
              "    <tr>\n",
              "      <td>4</td>\n",
              "      <td>0.860030</td>\n",
              "      <td>0.872683</td>\n",
              "      <td>00:03</td>\n",
              "    </tr>\n",
              "    <tr>\n",
              "      <td>5</td>\n",
              "      <td>0.849131</td>\n",
              "      <td>0.864368</td>\n",
              "      <td>00:03</td>\n",
              "    </tr>\n",
              "    <tr>\n",
              "      <td>6</td>\n",
              "      <td>0.827771</td>\n",
              "      <td>0.854535</td>\n",
              "      <td>00:03</td>\n",
              "    </tr>\n",
              "    <tr>\n",
              "      <td>7</td>\n",
              "      <td>0.797815</td>\n",
              "      <td>0.844754</td>\n",
              "      <td>00:03</td>\n",
              "    </tr>\n",
              "    <tr>\n",
              "      <td>8</td>\n",
              "      <td>0.810200</td>\n",
              "      <td>0.836310</td>\n",
              "      <td>00:03</td>\n",
              "    </tr>\n",
              "    <tr>\n",
              "      <td>9</td>\n",
              "      <td>0.756194</td>\n",
              "      <td>0.830930</td>\n",
              "      <td>00:03</td>\n",
              "    </tr>\n",
              "    <tr>\n",
              "      <td>10</td>\n",
              "      <td>0.766496</td>\n",
              "      <td>0.826815</td>\n",
              "      <td>00:03</td>\n",
              "    </tr>\n",
              "    <tr>\n",
              "      <td>11</td>\n",
              "      <td>0.734313</td>\n",
              "      <td>0.823833</td>\n",
              "      <td>00:03</td>\n",
              "    </tr>\n",
              "    <tr>\n",
              "      <td>12</td>\n",
              "      <td>0.726935</td>\n",
              "      <td>0.822590</td>\n",
              "      <td>00:03</td>\n",
              "    </tr>\n",
              "  </tbody>\n",
              "</table>"
            ],
            "text/plain": [
              "<IPython.core.display.HTML object>"
            ]
          },
          "metadata": {},
          "output_type": "display_data"
        }
      ],
      "source": [
        "lrnr = collab_learner(dls, n_factors=10, y_range=(0,5)) \n",
        "lrnr.fit(13) "
      ]
    },
    {
      "cell_type": "markdown",
      "id": "7a6da95d-34b9-492a-a5ce-744676252734",
      "metadata": {
        "id": "7a6da95d-34b9-492a-a5ce-744676252734"
      },
      "source": [
        "- 교재의 loss도 0.82 근처 "
      ]
    },
    {
      "cell_type": "markdown",
      "id": "50487668-7317-4c26-b3bd-00aa8a9ea842",
      "metadata": {
        "id": "50487668-7317-4c26-b3bd-00aa8a9ea842"
      },
      "source": [
        "`-` 결과를 살펴보자. "
      ]
    },
    {
      "cell_type": "code",
      "execution_count": null,
      "id": "b60d5fd4-0d26-4dcc-b7ce-683241ab5f6f",
      "metadata": {
        "id": "b60d5fd4-0d26-4dcc-b7ce-683241ab5f6f",
        "outputId": "221b9ffa-43ef-4485-b558-f36b24b8d5ff"
      },
      "outputs": [
        {
          "data": {
            "text/html": [],
            "text/plain": [
              "<IPython.core.display.HTML object>"
            ]
          },
          "metadata": {},
          "output_type": "display_data"
        },
        {
          "data": {
            "text/html": [
              "<table border=\"1\" class=\"dataframe\">\n",
              "  <thead>\n",
              "    <tr style=\"text-align: right;\">\n",
              "      <th></th>\n",
              "      <th>user</th>\n",
              "      <th>title</th>\n",
              "      <th>rating</th>\n",
              "      <th>rating_pred</th>\n",
              "    </tr>\n",
              "  </thead>\n",
              "  <tbody>\n",
              "    <tr>\n",
              "      <th>0</th>\n",
              "      <td>922</td>\n",
              "      <td>320</td>\n",
              "      <td>3</td>\n",
              "      <td>3.366130</td>\n",
              "    </tr>\n",
              "    <tr>\n",
              "      <th>1</th>\n",
              "      <td>75</td>\n",
              "      <td>245</td>\n",
              "      <td>2</td>\n",
              "      <td>3.019973</td>\n",
              "    </tr>\n",
              "    <tr>\n",
              "      <th>2</th>\n",
              "      <td>82</td>\n",
              "      <td>885</td>\n",
              "      <td>3</td>\n",
              "      <td>2.705256</td>\n",
              "    </tr>\n",
              "    <tr>\n",
              "      <th>3</th>\n",
              "      <td>25</td>\n",
              "      <td>42</td>\n",
              "      <td>4</td>\n",
              "      <td>4.255459</td>\n",
              "    </tr>\n",
              "    <tr>\n",
              "      <th>4</th>\n",
              "      <td>16</td>\n",
              "      <td>390</td>\n",
              "      <td>5</td>\n",
              "      <td>4.548031</td>\n",
              "    </tr>\n",
              "    <tr>\n",
              "      <th>5</th>\n",
              "      <td>488</td>\n",
              "      <td>33</td>\n",
              "      <td>4</td>\n",
              "      <td>3.670551</td>\n",
              "    </tr>\n",
              "    <tr>\n",
              "      <th>6</th>\n",
              "      <td>796</td>\n",
              "      <td>1477</td>\n",
              "      <td>3</td>\n",
              "      <td>3.682889</td>\n",
              "    </tr>\n",
              "    <tr>\n",
              "      <th>7</th>\n",
              "      <td>887</td>\n",
              "      <td>686</td>\n",
              "      <td>3</td>\n",
              "      <td>4.129278</td>\n",
              "    </tr>\n",
              "    <tr>\n",
              "      <th>8</th>\n",
              "      <td>297</td>\n",
              "      <td>442</td>\n",
              "      <td>1</td>\n",
              "      <td>3.848483</td>\n",
              "    </tr>\n",
              "  </tbody>\n",
              "</table>"
            ],
            "text/plain": [
              "<IPython.core.display.HTML object>"
            ]
          },
          "metadata": {},
          "output_type": "display_data"
        }
      ],
      "source": [
        "lrnr.show_results()"
      ]
    },
    {
      "cell_type": "markdown",
      "id": "3c345ea6-315d-4d97-b4d8-2c3ee867cc79",
      "metadata": {
        "id": "3c345ea6-315d-4d97-b4d8-2c3ee867cc79"
      },
      "source": [
        "- 솔직히 다 맞추는 느낌이 있진 않음 "
      ]
    },
    {
      "cell_type": "markdown",
      "id": "a5304ee0-22b1-4a79-a2f2-1f7df7adadc1",
      "metadata": {
        "id": "a5304ee0-22b1-4a79-a2f2-1f7df7adadc1"
      },
      "source": [
        "### learn2 "
      ]
    },
    {
      "cell_type": "code",
      "execution_count": null,
      "id": "0297476e-bd90-4033-be1d-d4fbae6e92c7",
      "metadata": {
        "id": "0297476e-bd90-4033-be1d-d4fbae6e92c7",
        "outputId": "609531e0-d7da-4026-839d-6ebac7f685f2"
      },
      "outputs": [
        {
          "data": {
            "text/html": [
              "<table border=\"1\" class=\"dataframe\">\n",
              "  <thead>\n",
              "    <tr style=\"text-align: left;\">\n",
              "      <th>epoch</th>\n",
              "      <th>train_loss</th>\n",
              "      <th>valid_loss</th>\n",
              "      <th>time</th>\n",
              "    </tr>\n",
              "  </thead>\n",
              "  <tbody>\n",
              "    <tr>\n",
              "      <td>0</td>\n",
              "      <td>0.943745</td>\n",
              "      <td>0.911532</td>\n",
              "      <td>00:05</td>\n",
              "    </tr>\n",
              "    <tr>\n",
              "      <td>1</td>\n",
              "      <td>0.886727</td>\n",
              "      <td>0.887183</td>\n",
              "      <td>00:05</td>\n",
              "    </tr>\n",
              "    <tr>\n",
              "      <td>2</td>\n",
              "      <td>0.851722</td>\n",
              "      <td>0.876992</td>\n",
              "      <td>00:04</td>\n",
              "    </tr>\n",
              "    <tr>\n",
              "      <td>3</td>\n",
              "      <td>0.866142</td>\n",
              "      <td>0.875833</td>\n",
              "      <td>00:04</td>\n",
              "    </tr>\n",
              "    <tr>\n",
              "      <td>4</td>\n",
              "      <td>0.804943</td>\n",
              "      <td>0.872449</td>\n",
              "      <td>00:04</td>\n",
              "    </tr>\n",
              "    <tr>\n",
              "      <td>5</td>\n",
              "      <td>0.810429</td>\n",
              "      <td>0.877015</td>\n",
              "      <td>00:04</td>\n",
              "    </tr>\n",
              "    <tr>\n",
              "      <td>6</td>\n",
              "      <td>0.753599</td>\n",
              "      <td>0.881696</td>\n",
              "      <td>00:04</td>\n",
              "    </tr>\n",
              "    <tr>\n",
              "      <td>7</td>\n",
              "      <td>0.722334</td>\n",
              "      <td>0.891261</td>\n",
              "      <td>00:04</td>\n",
              "    </tr>\n",
              "  </tbody>\n",
              "</table>"
            ],
            "text/plain": [
              "<IPython.core.display.HTML object>"
            ]
          },
          "metadata": {},
          "output_type": "display_data"
        }
      ],
      "source": [
        "lrnr2 = collab_learner(dls, use_nn=True, y_range=(0,5), layers=[20,10]) \n",
        "lrnr2.fit(8)"
      ]
    },
    {
      "cell_type": "code",
      "execution_count": null,
      "id": "dd819075-81ab-4ed1-a997-94a05313aed5",
      "metadata": {
        "id": "dd819075-81ab-4ed1-a997-94a05313aed5",
        "outputId": "823740db-e53e-48ad-fa70-c77c0119201d"
      },
      "outputs": [
        {
          "data": {
            "text/html": [],
            "text/plain": [
              "<IPython.core.display.HTML object>"
            ]
          },
          "metadata": {},
          "output_type": "display_data"
        },
        {
          "data": {
            "text/html": [
              "<table border=\"1\" class=\"dataframe\">\n",
              "  <thead>\n",
              "    <tr style=\"text-align: right;\">\n",
              "      <th></th>\n",
              "      <th>user</th>\n",
              "      <th>title</th>\n",
              "      <th>rating</th>\n",
              "      <th>rating_pred</th>\n",
              "    </tr>\n",
              "  </thead>\n",
              "  <tbody>\n",
              "    <tr>\n",
              "      <th>0</th>\n",
              "      <td>446</td>\n",
              "      <td>861</td>\n",
              "      <td>1</td>\n",
              "      <td>2.672008</td>\n",
              "    </tr>\n",
              "    <tr>\n",
              "      <th>1</th>\n",
              "      <td>311</td>\n",
              "      <td>1078</td>\n",
              "      <td>4</td>\n",
              "      <td>4.112122</td>\n",
              "    </tr>\n",
              "    <tr>\n",
              "      <th>2</th>\n",
              "      <td>234</td>\n",
              "      <td>909</td>\n",
              "      <td>4</td>\n",
              "      <td>3.065944</td>\n",
              "    </tr>\n",
              "    <tr>\n",
              "      <th>3</th>\n",
              "      <td>342</td>\n",
              "      <td>314</td>\n",
              "      <td>3</td>\n",
              "      <td>3.664986</td>\n",
              "    </tr>\n",
              "    <tr>\n",
              "      <th>4</th>\n",
              "      <td>823</td>\n",
              "      <td>95</td>\n",
              "      <td>3</td>\n",
              "      <td>3.768519</td>\n",
              "    </tr>\n",
              "    <tr>\n",
              "      <th>5</th>\n",
              "      <td>804</td>\n",
              "      <td>188</td>\n",
              "      <td>4</td>\n",
              "      <td>2.877244</td>\n",
              "    </tr>\n",
              "    <tr>\n",
              "      <th>6</th>\n",
              "      <td>234</td>\n",
              "      <td>497</td>\n",
              "      <td>4</td>\n",
              "      <td>3.379913</td>\n",
              "    </tr>\n",
              "    <tr>\n",
              "      <th>7</th>\n",
              "      <td>533</td>\n",
              "      <td>225</td>\n",
              "      <td>4</td>\n",
              "      <td>3.330431</td>\n",
              "    </tr>\n",
              "    <tr>\n",
              "      <th>8</th>\n",
              "      <td>848</td>\n",
              "      <td>927</td>\n",
              "      <td>5</td>\n",
              "      <td>4.673620</td>\n",
              "    </tr>\n",
              "  </tbody>\n",
              "</table>"
            ],
            "text/plain": [
              "<IPython.core.display.HTML object>"
            ]
          },
          "metadata": {},
          "output_type": "display_data"
        }
      ],
      "source": [
        "lrnr2.show_results()"
      ]
    },
    {
      "cell_type": "markdown",
      "id": "f2d26633-b477-47eb-b482-b2f5eb37fc9d",
      "metadata": {
        "id": "f2d26633-b477-47eb-b482-b2f5eb37fc9d"
      },
      "source": [
        "- 적당한 수준에서 합리적임 "
      ]
    },
    {
      "cell_type": "markdown",
      "id": "85a8ffb1-9c10-4f7d-978e-f4a98fceb0ae",
      "metadata": {
        "id": "85a8ffb1-9c10-4f7d-978e-f4a98fceb0ae"
      },
      "source": [
        "### bias "
      ]
    },
    {
      "cell_type": "code",
      "execution_count": null,
      "id": "db0fa9f8-24e5-4d6a-8e87-369270c36d46",
      "metadata": {
        "id": "db0fa9f8-24e5-4d6a-8e87-369270c36d46",
        "outputId": "e3055017-544b-47d0-dccf-083e1555d364"
      },
      "outputs": [
        {
          "data": {
            "text/plain": [
              "EmbeddingDotBias(\n",
              "  (u_weight): Embedding(944, 10)\n",
              "  (i_weight): Embedding(1665, 10)\n",
              "  (u_bias): Embedding(944, 1)\n",
              "  (i_bias): Embedding(1665, 1)\n",
              ")"
            ]
          },
          "execution_count": 49,
          "metadata": {},
          "output_type": "execute_result"
        }
      ],
      "source": [
        "lrnr.model"
      ]
    },
    {
      "cell_type": "code",
      "execution_count": null,
      "id": "05531d81-c6b6-49a7-a40c-ae87a44bf04f",
      "metadata": {
        "id": "05531d81-c6b6-49a7-a40c-ae87a44bf04f",
        "outputId": "bd4260f3-a5bb-405d-d3bd-78babb147822"
      },
      "outputs": [
        {
          "data": {
            "text/plain": [
              "tensor([ 0.0009, -0.1644,  0.0729,  ...,  0.0088,  0.2506,  0.0984])"
            ]
          },
          "execution_count": 50,
          "metadata": {},
          "output_type": "execute_result"
        }
      ],
      "source": [
        "lrnr.model.i_bias.weight.detach().to('cpu').squeeze()"
      ]
    },
    {
      "cell_type": "markdown",
      "id": "bb6a1b19-59e8-4645-a73a-5cdf69e647ff",
      "metadata": {
        "id": "bb6a1b19-59e8-4645-a73a-5cdf69e647ff"
      },
      "source": [
        "- 의미? 아이테의 바이어스: 평균적으로 높은 평점을 받거나 낮은 평점을 받는 영화들이있는데, 그 정도를 숫자로 표현`"
      ]
    },
    {
      "cell_type": "code",
      "execution_count": null,
      "id": "76a6615d-e9cf-4578-8b36-fd053af45ea8",
      "metadata": {
        "id": "76a6615d-e9cf-4578-8b36-fd053af45ea8"
      },
      "outputs": [],
      "source": [
        "lst1=lrnr.model.i_bias.weight.detach().to('cpu').squeeze().argsort()[:20].tolist()"
      ]
    },
    {
      "cell_type": "code",
      "execution_count": null,
      "id": "dcbc89ee-13cf-40f8-b052-6edc06846db7",
      "metadata": {
        "id": "dcbc89ee-13cf-40f8-b052-6edc06846db7"
      },
      "outputs": [],
      "source": [
        "lst2=lrnr.model.i_bias.weight.detach().to('cpu').squeeze().argsort(descending=True)[:20].tolist()"
      ]
    },
    {
      "cell_type": "code",
      "execution_count": null,
      "id": "9fc21cd8-3b2c-426c-b39f-b1476b7ea474",
      "metadata": {
        "id": "9fc21cd8-3b2c-426c-b39f-b1476b7ea474",
        "outputId": "d6553f1b-4dd3-4a53-c95b-723d17b51c03"
      },
      "outputs": [
        {
          "data": {
            "text/plain": [
              "['Children of the Corn: The Gathering (1996)',\n",
              " 'Body Parts (1991)',\n",
              " '3 Ninjas: High Noon At Mega Mountain (1998)',\n",
              " 'Jury Duty (1995)',\n",
              " 'Amityville II: The Possession (1982)',\n",
              " 'Theodore Rex (1995)',\n",
              " 'Lawnmower Man 2: Beyond Cyberspace (1996)',\n",
              " 'Dunston Checks In (1996)',\n",
              " 'Crow: City of Angels, The (1996)',\n",
              " 'Barb Wire (1996)',\n",
              " 'Robocop 3 (1993)',\n",
              " 'Amityville 3-D (1983)',\n",
              " 'Amityville: A New Generation (1993)',\n",
              " 'Bloodsport 2 (1995)',\n",
              " 'Island of Dr. Moreau, The (1996)',\n",
              " 'Solo (1996)',\n",
              " 'Bushwhacked (1995)',\n",
              " 'Big Bully (1996)',\n",
              " 'Gordy (1995)',\n",
              " 'Amityville Curse, The (1990)']"
            ]
          },
          "execution_count": 62,
          "metadata": {},
          "output_type": "execute_result"
        }
      ],
      "source": [
        "list(dls.classes['title'][lst1])"
      ]
    },
    {
      "cell_type": "markdown",
      "id": "031f2394-ada5-4732-ba96-0dfd2765ad72",
      "metadata": {
        "id": "031f2394-ada5-4732-ba96-0dfd2765ad72"
      },
      "source": [
        "- 비인기 "
      ]
    },
    {
      "cell_type": "code",
      "execution_count": null,
      "id": "48e39569-d7ac-4416-824d-7cb630c0ca17",
      "metadata": {
        "id": "48e39569-d7ac-4416-824d-7cb630c0ca17",
        "outputId": "3996ccf8-e7d1-4b19-d100-1caaab80e8dd"
      },
      "outputs": [
        {
          "data": {
            "text/plain": [
              "['Close Shave, A (1995)',\n",
              " 'As Good As It Gets (1997)',\n",
              " 'L.A. Confidential (1997)',\n",
              " \"Schindler's List (1993)\",\n",
              " 'Silence of the Lambs, The (1991)',\n",
              " 'Rear Window (1954)',\n",
              " 'Titanic (1997)',\n",
              " 'Apt Pupil (1998)',\n",
              " 'Wrong Trousers, The (1993)',\n",
              " 'Good Will Hunting (1997)',\n",
              " 'Henry V (1989)',\n",
              " 'North by Northwest (1959)',\n",
              " 'Vertigo (1958)',\n",
              " 'Sunset Blvd. (1950)',\n",
              " 'Shawshank Redemption, The (1994)',\n",
              " 'To Kill a Mockingbird (1962)',\n",
              " 'Fugitive, The (1993)',\n",
              " 'Full Monty, The (1997)',\n",
              " 'Blade Runner (1982)',\n",
              " 'Treasure of the Sierra Madre, The (1948)']"
            ]
          },
          "execution_count": 63,
          "metadata": {},
          "output_type": "execute_result"
        }
      ],
      "source": [
        "list(dls.classes['title'][lst2])"
      ]
    },
    {
      "cell_type": "markdown",
      "id": "616339ab-c13e-4fc5-9f17-c523e0dd7043",
      "metadata": {
        "id": "616339ab-c13e-4fc5-9f17-c523e0dd7043"
      },
      "source": [
        "- 인기"
      ]
    },
    {
      "cell_type": "markdown",
      "id": "0ff30559-939e-48ab-b18f-3a175e8e06eb",
      "metadata": {
        "id": "0ff30559-939e-48ab-b18f-3a175e8e06eb"
      },
      "source": [
        "`-` 모형이 잘 학습된것 같다. "
      ]
    },
    {
      "cell_type": "markdown",
      "id": "e36ff7a5-ec42-4f5f-b4d1-5a3207d3dfe4",
      "metadata": {
        "id": "e36ff7a5-ec42-4f5f-b4d1-5a3207d3dfe4"
      },
      "source": [
        "### 예측 "
      ]
    },
    {
      "cell_type": "markdown",
      "id": "30acc600-75ed-449c-ad59-6eace3b9f3a5",
      "metadata": {
        "id": "30acc600-75ed-449c-ad59-6eace3b9f3a5"
      },
      "source": [
        "`-` 타이타닉(1501)과 로보캅3(1251)에 관심을 가지자. "
      ]
    },
    {
      "cell_type": "code",
      "execution_count": null,
      "id": "ee1b2de8-e93c-4258-bc7a-a060e669d9f1",
      "metadata": {
        "id": "ee1b2de8-e93c-4258-bc7a-a060e669d9f1"
      },
      "outputs": [],
      "source": [
        "x,y = dls.one_batch()"
      ]
    },
    {
      "cell_type": "code",
      "execution_count": null,
      "id": "91d2bd2d-9333-43a1-bf21-674181c6bc1a",
      "metadata": {
        "id": "91d2bd2d-9333-43a1-bf21-674181c6bc1a",
        "outputId": "7b791db3-1dee-4d7f-ca70-c0218ea34cff"
      },
      "outputs": [
        {
          "data": {
            "text/plain": [
              "tensor([[ 782, 1315],\n",
              "        [ 145, 1207],\n",
              "        [ 823, 1508],\n",
              "        [ 452, 1157],\n",
              "        [ 794, 1524]])"
            ]
          },
          "execution_count": 69,
          "metadata": {},
          "output_type": "execute_result"
        }
      ],
      "source": [
        "x[:5]"
      ]
    },
    {
      "cell_type": "markdown",
      "id": "fbf314b7-49f8-4e51-af7d-a249fde2df62",
      "metadata": {
        "id": "fbf314b7-49f8-4e51-af7d-a249fde2df62"
      },
      "source": [
        "`-` 1~30번까지의 유저가 타이타닉(1501)을 어떻게 생각할지? 재미있게 생각한다. "
      ]
    },
    {
      "cell_type": "code",
      "execution_count": null,
      "id": "2b401c91-6af4-47a9-82c9-ed6fe9a17bb3",
      "metadata": {
        "id": "2b401c91-6af4-47a9-82c9-ed6fe9a17bb3"
      },
      "outputs": [],
      "source": [
        "xx = torch.tensor([[i,1501] for i in range(1,31)])"
      ]
    },
    {
      "cell_type": "code",
      "execution_count": null,
      "id": "3ccccca5-0eb3-4cf9-b3f3-0ab71b060fae",
      "metadata": {
        "id": "3ccccca5-0eb3-4cf9-b3f3-0ab71b060fae",
        "outputId": "a35a17eb-95d6-4d8c-bd74-aa0ae459295d"
      },
      "outputs": [
        {
          "data": {
            "text/plain": [
              "tensor([4.4531, 4.4386, 3.3761, 4.8889, 3.8445, 3.5618, 4.3848, 4.6649, 4.6996,\n",
              "        4.4931, 4.1034, 4.7730, 4.0311, 4.2925, 3.6165, 4.8764, 3.8198, 4.0804,\n",
              "        4.0261, 3.7349, 4.0564, 4.6282, 3.8605, 4.6444, 4.5684, 3.8845, 4.0185,\n",
              "        4.4556, 4.2731, 4.4253], device='cuda:0', grad_fn=<AddBackward0>)"
            ]
          },
          "execution_count": 75,
          "metadata": {},
          "output_type": "execute_result"
        }
      ],
      "source": [
        "lrnr.model(xx.to(\"cuda:0\"))"
      ]
    },
    {
      "cell_type": "code",
      "execution_count": null,
      "id": "7fd4e842-2727-4779-a586-b9d4460044ca",
      "metadata": {
        "id": "7fd4e842-2727-4779-a586-b9d4460044ca",
        "outputId": "2fa74dd6-38bf-438e-fd3a-353c0e2600ad"
      },
      "outputs": [
        {
          "data": {
            "text/plain": [
              "tensor([4.3266, 4.6268, 3.6982, 4.7522, 4.2184, 3.9160, 4.6478, 4.6014, 4.5140,\n",
              "        4.2847, 3.8976, 4.5324, 3.9723, 4.0141, 3.6544, 4.7591, 4.0607, 4.2835,\n",
              "        3.7749, 3.3524, 4.0209, 4.6510, 3.8351, 4.6803, 4.2459, 3.8215, 3.9208,\n",
              "        4.4372, 4.2947, 4.3690], device='cuda:0',\n",
              "       grad_fn=<ReshapeAliasBackward0>)"
            ]
          },
          "execution_count": 77,
          "metadata": {},
          "output_type": "execute_result"
        }
      ],
      "source": [
        "lrnr2.model(xx.to(\"cuda:0\")).reshape(-1)"
      ]
    },
    {
      "cell_type": "markdown",
      "id": "d2ceefaa-c77e-481e-b7e4-c7e33bb33cba",
      "metadata": {
        "id": "d2ceefaa-c77e-481e-b7e4-c7e33bb33cba"
      },
      "source": [
        "`-` 1~30번까지의 유저가 로보캅3(1251)을 어떻게 생각할지? 재미없게 생각한다. "
      ]
    },
    {
      "cell_type": "code",
      "execution_count": null,
      "id": "7004c811-8502-4dc9-bf62-3a26fd403457",
      "metadata": {
        "id": "7004c811-8502-4dc9-bf62-3a26fd403457"
      },
      "outputs": [],
      "source": [
        "xx = torch.tensor([[i,1251] for i in range(1,31)])"
      ]
    },
    {
      "cell_type": "code",
      "execution_count": null,
      "id": "9b36f467-96a2-41e8-9f54-795610810ea8",
      "metadata": {
        "id": "9b36f467-96a2-41e8-9f54-795610810ea8",
        "outputId": "0853ff78-fc9c-4388-c5c0-d687c2d957f0"
      },
      "outputs": [
        {
          "data": {
            "text/plain": [
              "tensor([1.2492, 1.5321, 1.7723, 2.0212, 1.5710, 1.4888, 2.3363, 1.6964, 1.9715,\n",
              "        2.4178, 2.2392, 2.1472, 1.6472, 2.1953, 1.7494, 1.3403, 1.7519, 2.2229,\n",
              "        2.3043, 2.3619, 1.3508, 1.1981, 1.9056, 2.0056, 2.2205, 1.5279, 1.7869,\n",
              "        1.7508, 2.0724, 2.4507], device='cuda:0', grad_fn=<AddBackward0>)"
            ]
          },
          "execution_count": 79,
          "metadata": {},
          "output_type": "execute_result"
        }
      ],
      "source": [
        "lrnr.model(xx.to(\"cuda:0\"))"
      ]
    },
    {
      "cell_type": "code",
      "execution_count": null,
      "id": "c49b8ab3-7697-4331-9681-e791a73d820f",
      "metadata": {
        "id": "c49b8ab3-7697-4331-9681-e791a73d820f",
        "outputId": "7389b6cb-5270-4eb3-cbba-acfb9e13e29a"
      },
      "outputs": [
        {
          "data": {
            "text/plain": [
              "tensor([1.3524, 1.9509, 1.3900, 2.1394, 1.6396, 0.9705, 2.4360, 1.8458, 2.0537,\n",
              "        2.2466, 1.8744, 2.5842, 1.7164, 2.3071, 1.2227, 1.8126, 1.0431, 1.8193,\n",
              "        2.2985, 2.4256, 1.1279, 1.1289, 1.4594, 2.2158, 2.8599, 1.6962, 1.2229,\n",
              "        1.8232, 1.7359, 1.6326], device='cuda:0',\n",
              "       grad_fn=<ReshapeAliasBackward0>)"
            ]
          },
          "execution_count": 80,
          "metadata": {},
          "output_type": "execute_result"
        }
      ],
      "source": [
        "lrnr2.model(xx.to(\"cuda:0\")).reshape(-1)"
      ]
    }
  ],
  "metadata": {
    "kernelspec": {
      "display_name": "Python 3",
      "language": "python",
      "name": "python3"
    },
    "language_info": {
      "codemirror_mode": {
        "name": "ipython",
        "version": 3
      },
      "file_extension": ".py",
      "mimetype": "text/x-python",
      "name": "python",
      "nbconvert_exporter": "python",
      "pygments_lexer": "ipython3",
      "version": "3.9.7"
    },
    "colab": {
      "name": "2021-12-02-(13주차) 12월2일.ipynb",
      "provenance": []
    }
  },
  "nbformat": 4,
  "nbformat_minor": 5
}