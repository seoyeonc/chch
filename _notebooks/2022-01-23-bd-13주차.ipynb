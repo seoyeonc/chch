{
 "cells": [
  {
   "cell_type": "markdown",
   "id": "3898153f-b67c-4f96-8ac7-3de6e73e5c5c",
   "metadata": {
    "id": "3898153f-b67c-4f96-8ac7-3de6e73e5c5c",
    "tags": []
   },
   "source": [
    "# 빅데이터 분석 (13주차) 12월2일\n",
    "> 추천시스템 (IMDB) \n",
    "\n",
    "- toc:true\n",
    "- branch: master\n",
    "- badges: false\n",
    "- comments: false \n",
    "- author: 최서연\n",
    "- categories: [Big Data Analysis, 추천시스템, IMDB]"
   ]
  },
  {
   "cell_type": "markdown",
   "id": "dc8dd0da-a341-4913-aef0-40186de57e67",
   "metadata": {
    "id": "dc8dd0da-a341-4913-aef0-40186de57e67"
   },
   "source": [
    "### import "
   ]
  },
  {
   "cell_type": "code",
   "execution_count": 1,
   "id": "805a5e0b-dd28-4f0e-8450-ed9f59d613c2",
   "metadata": {
    "id": "805a5e0b-dd28-4f0e-8450-ed9f59d613c2"
   },
   "outputs": [],
   "source": [
    "import torch \n",
    "from fastai.collab import * \n",
    "from fastai.tabular.all import * "
   ]
  },
  {
   "cell_type": "markdown",
   "id": "59cd06ce-4bb7-4649-b992-c7d776a0e630",
   "metadata": {
    "id": "59cd06ce-4bb7-4649-b992-c7d776a0e630"
   },
   "source": [
    "### data "
   ]
  },
  {
   "cell_type": "code",
   "execution_count": 2,
   "id": "52f6e1b7-3903-4311-a73f-c7e4a33cd96e",
   "metadata": {
    "id": "52f6e1b7-3903-4311-a73f-c7e4a33cd96e"
   },
   "outputs": [],
   "source": [
    "path = untar_data(URLs.ML_100k) "
   ]
  },
  {
   "cell_type": "markdown",
   "id": "4f9524c6-841d-45a3-9643-1d54915c11cf",
   "metadata": {
    "id": "4f9524c6-841d-45a3-9643-1d54915c11cf"
   },
   "source": [
    "`-` 첫번째 데이터프레임  "
   ]
  },
  {
   "cell_type": "code",
   "execution_count": 3,
   "id": "55b9fff8-f6b3-4659-86f8-c10ad8ad2c53",
   "metadata": {},
   "outputs": [
    {
     "data": {
      "text/plain": [
       "(#23) [Path('/home/csy/.fastai/data/ml-100k/ua.test'),Path('/home/csy/.fastai/data/ml-100k/u4.base'),Path('/home/csy/.fastai/data/ml-100k/u.user'),Path('/home/csy/.fastai/data/ml-100k/README'),Path('/home/csy/.fastai/data/ml-100k/u2.base'),Path('/home/csy/.fastai/data/ml-100k/u1.base'),Path('/home/csy/.fastai/data/ml-100k/ub.test'),Path('/home/csy/.fastai/data/ml-100k/ub.base'),Path('/home/csy/.fastai/data/ml-100k/u3.base'),Path('/home/csy/.fastai/data/ml-100k/ua.base')...]"
      ]
     },
     "execution_count": 3,
     "metadata": {},
     "output_type": "execute_result"
    }
   ],
   "source": [
    "path.ls()"
   ]
  },
  {
   "cell_type": "code",
   "execution_count": 4,
   "id": "5c14213a-1ec2-4509-9e6b-d73c6b622796",
   "metadata": {
    "id": "5c14213a-1ec2-4509-9e6b-d73c6b622796",
    "outputId": "9b9da9f6-d007-4077-9096-6ffb0ac8e816"
   },
   "outputs": [
    {
     "data": {
      "text/html": [
       "<div>\n",
       "<style scoped>\n",
       "    .dataframe tbody tr th:only-of-type {\n",
       "        vertical-align: middle;\n",
       "    }\n",
       "\n",
       "    .dataframe tbody tr th {\n",
       "        vertical-align: top;\n",
       "    }\n",
       "\n",
       "    .dataframe thead th {\n",
       "        text-align: right;\n",
       "    }\n",
       "</style>\n",
       "<table border=\"1\" class=\"dataframe\">\n",
       "  <thead>\n",
       "    <tr style=\"text-align: right;\">\n",
       "      <th></th>\n",
       "      <th>user</th>\n",
       "      <th>movie</th>\n",
       "      <th>rating</th>\n",
       "      <th>timestamp</th>\n",
       "    </tr>\n",
       "  </thead>\n",
       "  <tbody>\n",
       "    <tr>\n",
       "      <th>0</th>\n",
       "      <td>196</td>\n",
       "      <td>242</td>\n",
       "      <td>3</td>\n",
       "      <td>881250949</td>\n",
       "    </tr>\n",
       "    <tr>\n",
       "      <th>1</th>\n",
       "      <td>186</td>\n",
       "      <td>302</td>\n",
       "      <td>3</td>\n",
       "      <td>891717742</td>\n",
       "    </tr>\n",
       "    <tr>\n",
       "      <th>2</th>\n",
       "      <td>22</td>\n",
       "      <td>377</td>\n",
       "      <td>1</td>\n",
       "      <td>878887116</td>\n",
       "    </tr>\n",
       "    <tr>\n",
       "      <th>3</th>\n",
       "      <td>244</td>\n",
       "      <td>51</td>\n",
       "      <td>2</td>\n",
       "      <td>880606923</td>\n",
       "    </tr>\n",
       "    <tr>\n",
       "      <th>4</th>\n",
       "      <td>166</td>\n",
       "      <td>346</td>\n",
       "      <td>1</td>\n",
       "      <td>886397596</td>\n",
       "    </tr>\n",
       "    <tr>\n",
       "      <th>...</th>\n",
       "      <td>...</td>\n",
       "      <td>...</td>\n",
       "      <td>...</td>\n",
       "      <td>...</td>\n",
       "    </tr>\n",
       "    <tr>\n",
       "      <th>99995</th>\n",
       "      <td>880</td>\n",
       "      <td>476</td>\n",
       "      <td>3</td>\n",
       "      <td>880175444</td>\n",
       "    </tr>\n",
       "    <tr>\n",
       "      <th>99996</th>\n",
       "      <td>716</td>\n",
       "      <td>204</td>\n",
       "      <td>5</td>\n",
       "      <td>879795543</td>\n",
       "    </tr>\n",
       "    <tr>\n",
       "      <th>99997</th>\n",
       "      <td>276</td>\n",
       "      <td>1090</td>\n",
       "      <td>1</td>\n",
       "      <td>874795795</td>\n",
       "    </tr>\n",
       "    <tr>\n",
       "      <th>99998</th>\n",
       "      <td>13</td>\n",
       "      <td>225</td>\n",
       "      <td>2</td>\n",
       "      <td>882399156</td>\n",
       "    </tr>\n",
       "    <tr>\n",
       "      <th>99999</th>\n",
       "      <td>12</td>\n",
       "      <td>203</td>\n",
       "      <td>3</td>\n",
       "      <td>879959583</td>\n",
       "    </tr>\n",
       "  </tbody>\n",
       "</table>\n",
       "<p>100000 rows × 4 columns</p>\n",
       "</div>"
      ],
      "text/plain": [
       "       user  movie  rating  timestamp\n",
       "0       196    242       3  881250949\n",
       "1       186    302       3  891717742\n",
       "2        22    377       1  878887116\n",
       "3       244     51       2  880606923\n",
       "4       166    346       1  886397596\n",
       "...     ...    ...     ...        ...\n",
       "99995   880    476       3  880175444\n",
       "99996   716    204       5  879795543\n",
       "99997   276   1090       1  874795795\n",
       "99998    13    225       2  882399156\n",
       "99999    12    203       3  879959583\n",
       "\n",
       "[100000 rows x 4 columns]"
      ]
     },
     "execution_count": 4,
     "metadata": {},
     "output_type": "execute_result"
    }
   ],
   "source": [
    "ratings=pd.read_csv(path/'u.data', delimiter='\\t', header=None, names=['user','movie','rating','timestamp'])\n",
    "ratings"
   ]
  },
  {
   "cell_type": "markdown",
   "id": "35f96719-25f9-4a97-b9af-4af91a250ce4",
   "metadata": {
    "id": "35f96719-25f9-4a97-b9af-4af91a250ce4"
   },
   "source": [
    "- 마지막열은 무의믜 "
   ]
  },
  {
   "cell_type": "markdown",
   "id": "2405f202-ed04-4176-b46f-4098c226bdf1",
   "metadata": {},
   "source": [
    "최소한 movie 번호가 어떤 것을 의미하는지 알아야 모형을 세우지 않을까?"
   ]
  },
  {
   "cell_type": "markdown",
   "id": "7abcf451-bc44-4bd6-9d30-c988e2557057",
   "metadata": {
    "id": "7abcf451-bc44-4bd6-9d30-c988e2557057"
   },
   "source": [
    "`-` 두번째 데이터프레임 "
   ]
  },
  {
   "cell_type": "code",
   "execution_count": 5,
   "id": "1416cc26-f233-4374-aefe-664ee2583ca7",
   "metadata": {
    "id": "1416cc26-f233-4374-aefe-664ee2583ca7",
    "outputId": "3de69a87-d77d-45d9-aaf2-39baf6f8a4b1"
   },
   "outputs": [
    {
     "data": {
      "text/html": [
       "<div>\n",
       "<style scoped>\n",
       "    .dataframe tbody tr th:only-of-type {\n",
       "        vertical-align: middle;\n",
       "    }\n",
       "\n",
       "    .dataframe tbody tr th {\n",
       "        vertical-align: top;\n",
       "    }\n",
       "\n",
       "    .dataframe thead th {\n",
       "        text-align: right;\n",
       "    }\n",
       "</style>\n",
       "<table border=\"1\" class=\"dataframe\">\n",
       "  <thead>\n",
       "    <tr style=\"text-align: right;\">\n",
       "      <th></th>\n",
       "      <th>movie</th>\n",
       "      <th>title</th>\n",
       "    </tr>\n",
       "  </thead>\n",
       "  <tbody>\n",
       "    <tr>\n",
       "      <th>0</th>\n",
       "      <td>1</td>\n",
       "      <td>Toy Story (1995)</td>\n",
       "    </tr>\n",
       "    <tr>\n",
       "      <th>1</th>\n",
       "      <td>2</td>\n",
       "      <td>GoldenEye (1995)</td>\n",
       "    </tr>\n",
       "    <tr>\n",
       "      <th>2</th>\n",
       "      <td>3</td>\n",
       "      <td>Four Rooms (1995)</td>\n",
       "    </tr>\n",
       "    <tr>\n",
       "      <th>3</th>\n",
       "      <td>4</td>\n",
       "      <td>Get Shorty (1995)</td>\n",
       "    </tr>\n",
       "    <tr>\n",
       "      <th>4</th>\n",
       "      <td>5</td>\n",
       "      <td>Copycat (1995)</td>\n",
       "    </tr>\n",
       "    <tr>\n",
       "      <th>...</th>\n",
       "      <td>...</td>\n",
       "      <td>...</td>\n",
       "    </tr>\n",
       "    <tr>\n",
       "      <th>1677</th>\n",
       "      <td>1678</td>\n",
       "      <td>Mat' i syn (1997)</td>\n",
       "    </tr>\n",
       "    <tr>\n",
       "      <th>1678</th>\n",
       "      <td>1679</td>\n",
       "      <td>B. Monkey (1998)</td>\n",
       "    </tr>\n",
       "    <tr>\n",
       "      <th>1679</th>\n",
       "      <td>1680</td>\n",
       "      <td>Sliding Doors (1998)</td>\n",
       "    </tr>\n",
       "    <tr>\n",
       "      <th>1680</th>\n",
       "      <td>1681</td>\n",
       "      <td>You So Crazy (1994)</td>\n",
       "    </tr>\n",
       "    <tr>\n",
       "      <th>1681</th>\n",
       "      <td>1682</td>\n",
       "      <td>Scream of Stone (Schrei aus Stein) (1991)</td>\n",
       "    </tr>\n",
       "  </tbody>\n",
       "</table>\n",
       "<p>1682 rows × 2 columns</p>\n",
       "</div>"
      ],
      "text/plain": [
       "      movie                                      title\n",
       "0         1                           Toy Story (1995)\n",
       "1         2                           GoldenEye (1995)\n",
       "2         3                          Four Rooms (1995)\n",
       "3         4                          Get Shorty (1995)\n",
       "4         5                             Copycat (1995)\n",
       "...     ...                                        ...\n",
       "1677   1678                          Mat' i syn (1997)\n",
       "1678   1679                           B. Monkey (1998)\n",
       "1679   1680                       Sliding Doors (1998)\n",
       "1680   1681                        You So Crazy (1994)\n",
       "1681   1682  Scream of Stone (Schrei aus Stein) (1991)\n",
       "\n",
       "[1682 rows x 2 columns]"
      ]
     },
     "execution_count": 5,
     "metadata": {},
     "output_type": "execute_result"
    }
   ],
   "source": [
    "movies = pd.read_csv(path/'u.item', delimiter='|', encoding='latin-1', usecols=(0,1), names=('movie','title'), header=None)\n",
    "movies"
   ]
  },
  {
   "cell_type": "markdown",
   "id": "e3a356c9-23c1-48d3-bac3-6b5c9709ddec",
   "metadata": {
    "id": "e3a356c9-23c1-48d3-bac3-6b5c9709ddec"
   },
   "source": [
    "`-` 두 데이터프레임을 합친다. "
   ]
  },
  {
   "cell_type": "code",
   "execution_count": 6,
   "id": "ca1e616a-bd6e-4333-9d5d-383dce108840",
   "metadata": {
    "id": "ca1e616a-bd6e-4333-9d5d-383dce108840",
    "outputId": "1522f92c-3127-4afe-987e-3b684e0613c0"
   },
   "outputs": [
    {
     "data": {
      "text/html": [
       "<div>\n",
       "<style scoped>\n",
       "    .dataframe tbody tr th:only-of-type {\n",
       "        vertical-align: middle;\n",
       "    }\n",
       "\n",
       "    .dataframe tbody tr th {\n",
       "        vertical-align: top;\n",
       "    }\n",
       "\n",
       "    .dataframe thead th {\n",
       "        text-align: right;\n",
       "    }\n",
       "</style>\n",
       "<table border=\"1\" class=\"dataframe\">\n",
       "  <thead>\n",
       "    <tr style=\"text-align: right;\">\n",
       "      <th></th>\n",
       "      <th>user</th>\n",
       "      <th>movie</th>\n",
       "      <th>rating</th>\n",
       "      <th>timestamp</th>\n",
       "      <th>title</th>\n",
       "    </tr>\n",
       "  </thead>\n",
       "  <tbody>\n",
       "    <tr>\n",
       "      <th>0</th>\n",
       "      <td>196</td>\n",
       "      <td>242</td>\n",
       "      <td>3</td>\n",
       "      <td>881250949</td>\n",
       "      <td>Kolya (1996)</td>\n",
       "    </tr>\n",
       "    <tr>\n",
       "      <th>1</th>\n",
       "      <td>63</td>\n",
       "      <td>242</td>\n",
       "      <td>3</td>\n",
       "      <td>875747190</td>\n",
       "      <td>Kolya (1996)</td>\n",
       "    </tr>\n",
       "    <tr>\n",
       "      <th>2</th>\n",
       "      <td>226</td>\n",
       "      <td>242</td>\n",
       "      <td>5</td>\n",
       "      <td>883888671</td>\n",
       "      <td>Kolya (1996)</td>\n",
       "    </tr>\n",
       "    <tr>\n",
       "      <th>3</th>\n",
       "      <td>154</td>\n",
       "      <td>242</td>\n",
       "      <td>3</td>\n",
       "      <td>879138235</td>\n",
       "      <td>Kolya (1996)</td>\n",
       "    </tr>\n",
       "    <tr>\n",
       "      <th>4</th>\n",
       "      <td>306</td>\n",
       "      <td>242</td>\n",
       "      <td>5</td>\n",
       "      <td>876503793</td>\n",
       "      <td>Kolya (1996)</td>\n",
       "    </tr>\n",
       "    <tr>\n",
       "      <th>...</th>\n",
       "      <td>...</td>\n",
       "      <td>...</td>\n",
       "      <td>...</td>\n",
       "      <td>...</td>\n",
       "      <td>...</td>\n",
       "    </tr>\n",
       "    <tr>\n",
       "      <th>99995</th>\n",
       "      <td>840</td>\n",
       "      <td>1674</td>\n",
       "      <td>4</td>\n",
       "      <td>891211682</td>\n",
       "      <td>Mamma Roma (1962)</td>\n",
       "    </tr>\n",
       "    <tr>\n",
       "      <th>99996</th>\n",
       "      <td>655</td>\n",
       "      <td>1640</td>\n",
       "      <td>3</td>\n",
       "      <td>888474646</td>\n",
       "      <td>Eighth Day, The (1996)</td>\n",
       "    </tr>\n",
       "    <tr>\n",
       "      <th>99997</th>\n",
       "      <td>655</td>\n",
       "      <td>1637</td>\n",
       "      <td>3</td>\n",
       "      <td>888984255</td>\n",
       "      <td>Girls Town (1996)</td>\n",
       "    </tr>\n",
       "    <tr>\n",
       "      <th>99998</th>\n",
       "      <td>655</td>\n",
       "      <td>1630</td>\n",
       "      <td>3</td>\n",
       "      <td>887428735</td>\n",
       "      <td>Silence of the Palace, The (Saimt el Qusur) (1994)</td>\n",
       "    </tr>\n",
       "    <tr>\n",
       "      <th>99999</th>\n",
       "      <td>655</td>\n",
       "      <td>1641</td>\n",
       "      <td>3</td>\n",
       "      <td>887427810</td>\n",
       "      <td>Dadetown (1995)</td>\n",
       "    </tr>\n",
       "  </tbody>\n",
       "</table>\n",
       "<p>100000 rows × 5 columns</p>\n",
       "</div>"
      ],
      "text/plain": [
       "       user  movie  rating  timestamp  \\\n",
       "0       196    242       3  881250949   \n",
       "1        63    242       3  875747190   \n",
       "2       226    242       5  883888671   \n",
       "3       154    242       3  879138235   \n",
       "4       306    242       5  876503793   \n",
       "...     ...    ...     ...        ...   \n",
       "99995   840   1674       4  891211682   \n",
       "99996   655   1640       3  888474646   \n",
       "99997   655   1637       3  888984255   \n",
       "99998   655   1630       3  887428735   \n",
       "99999   655   1641       3  887427810   \n",
       "\n",
       "                                                    title  \n",
       "0                                            Kolya (1996)  \n",
       "1                                            Kolya (1996)  \n",
       "2                                            Kolya (1996)  \n",
       "3                                            Kolya (1996)  \n",
       "4                                            Kolya (1996)  \n",
       "...                                                   ...  \n",
       "99995                                   Mamma Roma (1962)  \n",
       "99996                              Eighth Day, The (1996)  \n",
       "99997                                   Girls Town (1996)  \n",
       "99998  Silence of the Palace, The (Saimt el Qusur) (1994)  \n",
       "99999                                     Dadetown (1995)  \n",
       "\n",
       "[100000 rows x 5 columns]"
      ]
     },
     "execution_count": 6,
     "metadata": {},
     "output_type": "execute_result"
    }
   ],
   "source": [
    "df = ratings.merge(movies)\n",
    "df"
   ]
  },
  {
   "cell_type": "markdown",
   "id": "6765a0a0-42e8-4021-9684-64230e09c35e",
   "metadata": {
    "id": "6765a0a0-42e8-4021-9684-64230e09c35e"
   },
   "source": [
    "### dls "
   ]
  },
  {
   "cell_type": "markdown",
   "id": "24221ffe-17ad-4ad4-9ab2-4b9e25837a5e",
   "metadata": {},
   "source": [
    "bs = batch size"
   ]
  },
  {
   "cell_type": "code",
   "execution_count": 7,
   "id": "6d2e8b85-9ea8-45dd-a8bb-1b1cdcd1907b",
   "metadata": {
    "id": "6d2e8b85-9ea8-45dd-a8bb-1b1cdcd1907b",
    "outputId": "d85146df-b134-40e1-df65-e3624791fa65"
   },
   "outputs": [
    {
     "data": {
      "text/html": [
       "<table border=\"1\" class=\"dataframe\">\n",
       "  <thead>\n",
       "    <tr style=\"text-align: right;\">\n",
       "      <th></th>\n",
       "      <th>user</th>\n",
       "      <th>title</th>\n",
       "      <th>rating</th>\n",
       "    </tr>\n",
       "  </thead>\n",
       "  <tbody>\n",
       "    <tr>\n",
       "      <th>0</th>\n",
       "      <td>292</td>\n",
       "      <td>Sting, The (1973)</td>\n",
       "      <td>4</td>\n",
       "    </tr>\n",
       "    <tr>\n",
       "      <th>1</th>\n",
       "      <td>933</td>\n",
       "      <td>Chinatown (1974)</td>\n",
       "      <td>4</td>\n",
       "    </tr>\n",
       "    <tr>\n",
       "      <th>2</th>\n",
       "      <td>532</td>\n",
       "      <td>Escape from L.A. (1996)</td>\n",
       "      <td>2</td>\n",
       "    </tr>\n",
       "    <tr>\n",
       "      <th>3</th>\n",
       "      <td>29</td>\n",
       "      <td>L.A. Confidential (1997)</td>\n",
       "      <td>4</td>\n",
       "    </tr>\n",
       "    <tr>\n",
       "      <th>4</th>\n",
       "      <td>532</td>\n",
       "      <td>Top Gun (1986)</td>\n",
       "      <td>5</td>\n",
       "    </tr>\n",
       "    <tr>\n",
       "      <th>5</th>\n",
       "      <td>894</td>\n",
       "      <td>Austin Powers: International Man of Mystery (1997)</td>\n",
       "      <td>3</td>\n",
       "    </tr>\n",
       "    <tr>\n",
       "      <th>6</th>\n",
       "      <td>202</td>\n",
       "      <td>Apartment, The (1960)</td>\n",
       "      <td>1</td>\n",
       "    </tr>\n",
       "    <tr>\n",
       "      <th>7</th>\n",
       "      <td>291</td>\n",
       "      <td>Brady Bunch Movie, The (1995)</td>\n",
       "      <td>4</td>\n",
       "    </tr>\n",
       "    <tr>\n",
       "      <th>8</th>\n",
       "      <td>514</td>\n",
       "      <td>Jerry Maguire (1996)</td>\n",
       "      <td>4</td>\n",
       "    </tr>\n",
       "    <tr>\n",
       "      <th>9</th>\n",
       "      <td>373</td>\n",
       "      <td>Young Guns (1988)</td>\n",
       "      <td>3</td>\n",
       "    </tr>\n",
       "  </tbody>\n",
       "</table>"
      ],
      "text/plain": [
       "<IPython.core.display.HTML object>"
      ]
     },
     "metadata": {},
     "output_type": "display_data"
    }
   ],
   "source": [
    "dls = CollabDataLoaders.from_df(df,bs=64,item_name='title') \n",
    "dls.show_batch()"
   ]
  },
  {
   "cell_type": "markdown",
   "id": "4591df34-b448-4c62-9c23-611679e21064",
   "metadata": {
    "id": "4591df34-b448-4c62-9c23-611679e21064"
   },
   "source": [
    "### learn "
   ]
  },
  {
   "cell_type": "code",
   "execution_count": 8,
   "id": "be939068-94ce-4b0b-a8e0-8871244cdba8",
   "metadata": {
    "id": "be939068-94ce-4b0b-a8e0-8871244cdba8",
    "outputId": "1bafad1a-0fa1-4564-d086-26cfe877c35a"
   },
   "outputs": [
    {
     "data": {
      "text/html": [
       "<table border=\"1\" class=\"dataframe\">\n",
       "  <thead>\n",
       "    <tr style=\"text-align: left;\">\n",
       "      <th>epoch</th>\n",
       "      <th>train_loss</th>\n",
       "      <th>valid_loss</th>\n",
       "      <th>time</th>\n",
       "    </tr>\n",
       "  </thead>\n",
       "  <tbody>\n",
       "    <tr>\n",
       "      <td>0</td>\n",
       "      <td>1.141182</td>\n",
       "      <td>1.115039</td>\n",
       "      <td>00:05</td>\n",
       "    </tr>\n",
       "    <tr>\n",
       "      <td>1</td>\n",
       "      <td>0.922928</td>\n",
       "      <td>0.911456</td>\n",
       "      <td>00:05</td>\n",
       "    </tr>\n",
       "    <tr>\n",
       "      <td>2</td>\n",
       "      <td>0.861752</td>\n",
       "      <td>0.870785</td>\n",
       "      <td>00:04</td>\n",
       "    </tr>\n",
       "    <tr>\n",
       "      <td>3</td>\n",
       "      <td>0.816649</td>\n",
       "      <td>0.850283</td>\n",
       "      <td>00:05</td>\n",
       "    </tr>\n",
       "    <tr>\n",
       "      <td>4</td>\n",
       "      <td>0.776631</td>\n",
       "      <td>0.839327</td>\n",
       "      <td>00:05</td>\n",
       "    </tr>\n",
       "    <tr>\n",
       "      <td>5</td>\n",
       "      <td>0.777621</td>\n",
       "      <td>0.832916</td>\n",
       "      <td>00:06</td>\n",
       "    </tr>\n",
       "    <tr>\n",
       "      <td>6</td>\n",
       "      <td>0.784220</td>\n",
       "      <td>0.828082</td>\n",
       "      <td>00:05</td>\n",
       "    </tr>\n",
       "    <tr>\n",
       "      <td>7</td>\n",
       "      <td>0.779736</td>\n",
       "      <td>0.826487</td>\n",
       "      <td>00:05</td>\n",
       "    </tr>\n",
       "    <tr>\n",
       "      <td>8</td>\n",
       "      <td>0.773721</td>\n",
       "      <td>0.824381</td>\n",
       "      <td>00:06</td>\n",
       "    </tr>\n",
       "    <tr>\n",
       "      <td>9</td>\n",
       "      <td>0.760006</td>\n",
       "      <td>0.822208</td>\n",
       "      <td>00:05</td>\n",
       "    </tr>\n",
       "    <tr>\n",
       "      <td>10</td>\n",
       "      <td>0.730945</td>\n",
       "      <td>0.820367</td>\n",
       "      <td>00:04</td>\n",
       "    </tr>\n",
       "    <tr>\n",
       "      <td>11</td>\n",
       "      <td>0.718741</td>\n",
       "      <td>0.817455</td>\n",
       "      <td>00:04</td>\n",
       "    </tr>\n",
       "    <tr>\n",
       "      <td>12</td>\n",
       "      <td>0.713176</td>\n",
       "      <td>0.816797</td>\n",
       "      <td>00:05</td>\n",
       "    </tr>\n",
       "  </tbody>\n",
       "</table>"
      ],
      "text/plain": [
       "<IPython.core.display.HTML object>"
      ]
     },
     "metadata": {},
     "output_type": "display_data"
    }
   ],
   "source": [
    "lrnr = collab_learner(dls, n_factors=10, y_range=(0,5)) \n",
    "lrnr.fit(13) "
   ]
  },
  {
   "cell_type": "markdown",
   "id": "284c1720-1394-4756-b9b6-865316f4939a",
   "metadata": {},
   "source": [
    "책에서는 5를 포함하지 않는다~해서 5.5하긴했음."
   ]
  },
  {
   "cell_type": "markdown",
   "id": "7a6da95d-34b9-492a-a5ce-744676252734",
   "metadata": {
    "id": "7a6da95d-34b9-492a-a5ce-744676252734"
   },
   "source": [
    "- 교재의 loss도 0.82 근처 "
   ]
  },
  {
   "cell_type": "markdown",
   "id": "50487668-7317-4c26-b3bd-00aa8a9ea842",
   "metadata": {
    "id": "50487668-7317-4c26-b3bd-00aa8a9ea842"
   },
   "source": [
    "`-` 결과를 살펴보자. "
   ]
  },
  {
   "cell_type": "code",
   "execution_count": 11,
   "id": "b60d5fd4-0d26-4dcc-b7ce-683241ab5f6f",
   "metadata": {
    "id": "b60d5fd4-0d26-4dcc-b7ce-683241ab5f6f",
    "outputId": "221b9ffa-43ef-4485-b558-f36b24b8d5ff"
   },
   "outputs": [
    {
     "data": {
      "text/html": [],
      "text/plain": [
       "<IPython.core.display.HTML object>"
      ]
     },
     "metadata": {},
     "output_type": "display_data"
    },
    {
     "data": {
      "text/html": [
       "<table border=\"1\" class=\"dataframe\">\n",
       "  <thead>\n",
       "    <tr style=\"text-align: right;\">\n",
       "      <th></th>\n",
       "      <th>user</th>\n",
       "      <th>title</th>\n",
       "      <th>rating</th>\n",
       "      <th>rating_pred</th>\n",
       "    </tr>\n",
       "  </thead>\n",
       "  <tbody>\n",
       "    <tr>\n",
       "      <th>0</th>\n",
       "      <td>197</td>\n",
       "      <td>622</td>\n",
       "      <td>4</td>\n",
       "      <td>4.597176</td>\n",
       "    </tr>\n",
       "    <tr>\n",
       "      <th>1</th>\n",
       "      <td>181</td>\n",
       "      <td>1153</td>\n",
       "      <td>1</td>\n",
       "      <td>2.050153</td>\n",
       "    </tr>\n",
       "    <tr>\n",
       "      <th>2</th>\n",
       "      <td>234</td>\n",
       "      <td>1290</td>\n",
       "      <td>3</td>\n",
       "      <td>3.270310</td>\n",
       "    </tr>\n",
       "    <tr>\n",
       "      <th>3</th>\n",
       "      <td>561</td>\n",
       "      <td>1565</td>\n",
       "      <td>3</td>\n",
       "      <td>2.120189</td>\n",
       "    </tr>\n",
       "    <tr>\n",
       "      <th>4</th>\n",
       "      <td>387</td>\n",
       "      <td>116</td>\n",
       "      <td>1</td>\n",
       "      <td>2.539219</td>\n",
       "    </tr>\n",
       "    <tr>\n",
       "      <th>5</th>\n",
       "      <td>280</td>\n",
       "      <td>1501</td>\n",
       "      <td>3</td>\n",
       "      <td>3.904207</td>\n",
       "    </tr>\n",
       "    <tr>\n",
       "      <th>6</th>\n",
       "      <td>272</td>\n",
       "      <td>457</td>\n",
       "      <td>4</td>\n",
       "      <td>4.706821</td>\n",
       "    </tr>\n",
       "    <tr>\n",
       "      <th>7</th>\n",
       "      <td>78</td>\n",
       "      <td>781</td>\n",
       "      <td>5</td>\n",
       "      <td>2.871252</td>\n",
       "    </tr>\n",
       "    <tr>\n",
       "      <th>8</th>\n",
       "      <td>442</td>\n",
       "      <td>1285</td>\n",
       "      <td>4</td>\n",
       "      <td>2.974716</td>\n",
       "    </tr>\n",
       "  </tbody>\n",
       "</table>"
      ],
      "text/plain": [
       "<IPython.core.display.HTML object>"
      ]
     },
     "metadata": {},
     "output_type": "display_data"
    }
   ],
   "source": [
    "lrnr.show_results()"
   ]
  },
  {
   "cell_type": "markdown",
   "id": "3c345ea6-315d-4d97-b4d8-2c3ee867cc79",
   "metadata": {
    "id": "3c345ea6-315d-4d97-b4d8-2c3ee867cc79"
   },
   "source": [
    "- 솔직히 다 맞추는 느낌이 있진 않음 "
   ]
  },
  {
   "cell_type": "markdown",
   "id": "7873ceab-e54e-445d-88d8-8defed42721a",
   "metadata": {},
   "source": [
    "리얼데이터이다보니 더 복잡한 취향이 있다는 것이 느껴짐"
   ]
  },
  {
   "cell_type": "markdown",
   "id": "a5304ee0-22b1-4a79-a2f2-1f7df7adadc1",
   "metadata": {
    "id": "a5304ee0-22b1-4a79-a2f2-1f7df7adadc1"
   },
   "source": [
    "### learn2 "
   ]
  },
  {
   "cell_type": "markdown",
   "id": "b51a2be8-a76e-4b77-ab62-f193dcd87533",
   "metadata": {},
   "source": [
    "비선형 mapping을 추가하면 모형이 더 좋아지지 않을까?"
   ]
  },
  {
   "cell_type": "code",
   "execution_count": 12,
   "id": "0297476e-bd90-4033-be1d-d4fbae6e92c7",
   "metadata": {
    "id": "0297476e-bd90-4033-be1d-d4fbae6e92c7",
    "outputId": "609531e0-d7da-4026-839d-6ebac7f685f2"
   },
   "outputs": [
    {
     "data": {
      "text/html": [
       "<table border=\"1\" class=\"dataframe\">\n",
       "  <thead>\n",
       "    <tr style=\"text-align: left;\">\n",
       "      <th>epoch</th>\n",
       "      <th>train_loss</th>\n",
       "      <th>valid_loss</th>\n",
       "      <th>time</th>\n",
       "    </tr>\n",
       "  </thead>\n",
       "  <tbody>\n",
       "    <tr>\n",
       "      <td>0</td>\n",
       "      <td>0.963282</td>\n",
       "      <td>0.927208</td>\n",
       "      <td>00:07</td>\n",
       "    </tr>\n",
       "    <tr>\n",
       "      <td>1</td>\n",
       "      <td>0.896801</td>\n",
       "      <td>0.891777</td>\n",
       "      <td>00:07</td>\n",
       "    </tr>\n",
       "    <tr>\n",
       "      <td>2</td>\n",
       "      <td>0.835703</td>\n",
       "      <td>0.876417</td>\n",
       "      <td>00:07</td>\n",
       "    </tr>\n",
       "    <tr>\n",
       "      <td>3</td>\n",
       "      <td>0.810163</td>\n",
       "      <td>0.866659</td>\n",
       "      <td>00:07</td>\n",
       "    </tr>\n",
       "    <tr>\n",
       "      <td>4</td>\n",
       "      <td>0.840598</td>\n",
       "      <td>0.873119</td>\n",
       "      <td>00:06</td>\n",
       "    </tr>\n",
       "    <tr>\n",
       "      <td>5</td>\n",
       "      <td>0.783492</td>\n",
       "      <td>0.871686</td>\n",
       "      <td>00:07</td>\n",
       "    </tr>\n",
       "    <tr>\n",
       "      <td>6</td>\n",
       "      <td>0.751926</td>\n",
       "      <td>0.883648</td>\n",
       "      <td>00:07</td>\n",
       "    </tr>\n",
       "    <tr>\n",
       "      <td>7</td>\n",
       "      <td>0.705028</td>\n",
       "      <td>0.886023</td>\n",
       "      <td>00:07</td>\n",
       "    </tr>\n",
       "  </tbody>\n",
       "</table>"
      ],
      "text/plain": [
       "<IPython.core.display.HTML object>"
      ]
     },
     "metadata": {},
     "output_type": "display_data"
    }
   ],
   "source": [
    "lrnr2 = collab_learner(dls, use_nn=True, y_range=(0,5), layers=[20,10]) \n",
    "lrnr2.fit(8)"
   ]
  },
  {
   "cell_type": "markdown",
   "id": "a9bdb96e-68b5-4799-847c-da6d28cb78c8",
   "metadata": {},
   "source": [
    "떨어자다가 올라가는 확률, overfitting의 의심"
   ]
  },
  {
   "cell_type": "code",
   "execution_count": 13,
   "id": "dd819075-81ab-4ed1-a997-94a05313aed5",
   "metadata": {
    "id": "dd819075-81ab-4ed1-a997-94a05313aed5",
    "outputId": "823740db-e53e-48ad-fa70-c77c0119201d"
   },
   "outputs": [
    {
     "data": {
      "text/html": [],
      "text/plain": [
       "<IPython.core.display.HTML object>"
      ]
     },
     "metadata": {},
     "output_type": "display_data"
    },
    {
     "data": {
      "text/html": [
       "<table border=\"1\" class=\"dataframe\">\n",
       "  <thead>\n",
       "    <tr style=\"text-align: right;\">\n",
       "      <th></th>\n",
       "      <th>user</th>\n",
       "      <th>title</th>\n",
       "      <th>rating</th>\n",
       "      <th>rating_pred</th>\n",
       "    </tr>\n",
       "  </thead>\n",
       "  <tbody>\n",
       "    <tr>\n",
       "      <th>0</th>\n",
       "      <td>377</td>\n",
       "      <td>1607</td>\n",
       "      <td>4</td>\n",
       "      <td>3.860305</td>\n",
       "    </tr>\n",
       "    <tr>\n",
       "      <th>1</th>\n",
       "      <td>493</td>\n",
       "      <td>572</td>\n",
       "      <td>5</td>\n",
       "      <td>3.343074</td>\n",
       "    </tr>\n",
       "    <tr>\n",
       "      <th>2</th>\n",
       "      <td>882</td>\n",
       "      <td>1102</td>\n",
       "      <td>2</td>\n",
       "      <td>4.298423</td>\n",
       "    </tr>\n",
       "    <tr>\n",
       "      <th>3</th>\n",
       "      <td>183</td>\n",
       "      <td>1398</td>\n",
       "      <td>4</td>\n",
       "      <td>3.070796</td>\n",
       "    </tr>\n",
       "    <tr>\n",
       "      <th>4</th>\n",
       "      <td>897</td>\n",
       "      <td>910</td>\n",
       "      <td>5</td>\n",
       "      <td>3.584368</td>\n",
       "    </tr>\n",
       "    <tr>\n",
       "      <th>5</th>\n",
       "      <td>257</td>\n",
       "      <td>1487</td>\n",
       "      <td>5</td>\n",
       "      <td>4.126847</td>\n",
       "    </tr>\n",
       "    <tr>\n",
       "      <th>6</th>\n",
       "      <td>542</td>\n",
       "      <td>93</td>\n",
       "      <td>4</td>\n",
       "      <td>4.080160</td>\n",
       "    </tr>\n",
       "    <tr>\n",
       "      <th>7</th>\n",
       "      <td>495</td>\n",
       "      <td>943</td>\n",
       "      <td>3</td>\n",
       "      <td>3.956127</td>\n",
       "    </tr>\n",
       "    <tr>\n",
       "      <th>8</th>\n",
       "      <td>921</td>\n",
       "      <td>144</td>\n",
       "      <td>1</td>\n",
       "      <td>2.097149</td>\n",
       "    </tr>\n",
       "  </tbody>\n",
       "</table>"
      ],
      "text/plain": [
       "<IPython.core.display.HTML object>"
      ]
     },
     "metadata": {},
     "output_type": "display_data"
    }
   ],
   "source": [
    "lrnr2.show_results()"
   ]
  },
  {
   "cell_type": "markdown",
   "id": "f2d26633-b477-47eb-b482-b2f5eb37fc9d",
   "metadata": {
    "id": "f2d26633-b477-47eb-b482-b2f5eb37fc9d"
   },
   "source": [
    "- 적당한 수준에서 합리적임 "
   ]
  },
  {
   "cell_type": "markdown",
   "id": "85a8ffb1-9c10-4f7d-978e-f4a98fceb0ae",
   "metadata": {
    "id": "85a8ffb1-9c10-4f7d-978e-f4a98fceb0ae"
   },
   "source": [
    "### bias "
   ]
  },
  {
   "cell_type": "code",
   "execution_count": 14,
   "id": "db0fa9f8-24e5-4d6a-8e87-369270c36d46",
   "metadata": {
    "id": "db0fa9f8-24e5-4d6a-8e87-369270c36d46",
    "outputId": "e3055017-544b-47d0-dccf-083e1555d364"
   },
   "outputs": [
    {
     "data": {
      "text/plain": [
       "EmbeddingDotBias(\n",
       "  (u_weight): Embedding(944, 10)\n",
       "  (i_weight): Embedding(1665, 10)\n",
       "  (u_bias): Embedding(944, 1)\n",
       "  (i_bias): Embedding(1665, 1)\n",
       ")"
      ]
     },
     "execution_count": 14,
     "metadata": {},
     "output_type": "execute_result"
    }
   ],
   "source": [
    "lrnr.model"
   ]
  },
  {
   "cell_type": "markdown",
   "id": "09b60e0d-6531-49f5-b9fc-ac4960644870",
   "metadata": {},
   "source": [
    "user / item / 각각의 bias"
   ]
  },
  {
   "cell_type": "markdown",
   "id": "1406c311-3fa4-43bb-a7ec-b1ac74344cfc",
   "metadata": {},
   "source": [
    "미분 제거 위해 detach"
   ]
  },
  {
   "cell_type": "code",
   "execution_count": 15,
   "id": "05531d81-c6b6-49a7-a40c-ae87a44bf04f",
   "metadata": {
    "id": "05531d81-c6b6-49a7-a40c-ae87a44bf04f",
    "outputId": "bd4260f3-a5bb-405d-d3bd-78babb147822"
   },
   "outputs": [
    {
     "data": {
      "text/plain": [
       "tensor([-0.0086, -0.1385, -0.0024,  ..., -0.0054,  0.2142,  0.0920])"
      ]
     },
     "execution_count": 15,
     "metadata": {},
     "output_type": "execute_result"
    }
   ],
   "source": [
    "lrnr.model.i_bias.weight.detach().to('cpu').squeeze()"
   ]
  },
  {
   "cell_type": "markdown",
   "id": "bb6a1b19-59e8-4645-a73a-5cdf69e647ff",
   "metadata": {
    "id": "bb6a1b19-59e8-4645-a73a-5cdf69e647ff"
   },
   "source": [
    "- 의미? item의 bias: 평균적으로 높은 평점을 받거나 낮은 평점을 받는 영화들이있는데, 그 정도를 숫자로 표현"
   ]
  },
  {
   "cell_type": "markdown",
   "id": "ae807a50-a98f-4dc2-a25c-b884957f4a82",
   "metadata": {},
   "source": [
    "인덱스가 나오게 됨"
   ]
  },
  {
   "cell_type": "code",
   "execution_count": 17,
   "id": "78200b9b-c8b6-4249-8a26-9b78d2cd0706",
   "metadata": {},
   "outputs": [
    {
     "data": {
      "text/plain": [
       "tensor([ 295,    9,  357,  ..., 1318,  830, 1282])"
      ]
     },
     "execution_count": 17,
     "metadata": {},
     "output_type": "execute_result"
    }
   ],
   "source": [
    "lrnr.model.i_bias.weight.detach().to('cpu').squeeze().argsort()"
   ]
  },
  {
   "cell_type": "code",
   "execution_count": 21,
   "id": "97173b06-e8f1-449c-aec3-a85c11e18491",
   "metadata": {},
   "outputs": [
    {
     "data": {
      "text/plain": [
       "tensor([1282,  830, 1318,  ...,  357,    9,  295])"
      ]
     },
     "execution_count": 21,
     "metadata": {},
     "output_type": "execute_result"
    }
   ],
   "source": [
    "lrnr.model.i_bias.weight.detach().to('cpu').squeeze().argsort(descending=True)"
   ]
  },
  {
   "cell_type": "code",
   "execution_count": 18,
   "id": "76a6615d-e9cf-4578-8b36-fd053af45ea8",
   "metadata": {
    "id": "76a6615d-e9cf-4578-8b36-fd053af45ea8"
   },
   "outputs": [],
   "source": [
    "lst1=lrnr.model.i_bias.weight.detach().to('cpu').squeeze().argsort()[:20].tolist()"
   ]
  },
  {
   "cell_type": "code",
   "execution_count": 19,
   "id": "dcbc89ee-13cf-40f8-b052-6edc06846db7",
   "metadata": {
    "id": "dcbc89ee-13cf-40f8-b052-6edc06846db7"
   },
   "outputs": [],
   "source": [
    "lst2=lrnr.model.i_bias.weight.detach().to('cpu').squeeze().argsort(descending=True)[:20].tolist()"
   ]
  },
  {
   "cell_type": "code",
   "execution_count": 20,
   "id": "9fc21cd8-3b2c-426c-b39f-b1476b7ea474",
   "metadata": {
    "id": "9fc21cd8-3b2c-426c-b39f-b1476b7ea474",
    "outputId": "d6553f1b-4dd3-4a53-c95b-723d17b51c03"
   },
   "outputs": [
    {
     "data": {
      "text/plain": [
       "['Children of the Corn: The Gathering (1996)',\n",
       " '3 Ninjas: High Noon At Mega Mountain (1998)',\n",
       " 'Crow: City of Angels, The (1996)',\n",
       " 'Barb Wire (1996)',\n",
       " 'Lawnmower Man 2: Beyond Cyberspace (1996)',\n",
       " 'Jury Duty (1995)',\n",
       " 'Amityville 3-D (1983)',\n",
       " 'Beverly Hills Ninja (1997)',\n",
       " 'Big Bully (1996)',\n",
       " 'Amityville II: The Possession (1982)',\n",
       " 'Free Willy 3: The Rescue (1997)',\n",
       " 'Best of the Best 3: No Turning Back (1995)',\n",
       " 'Amityville: A New Generation (1993)',\n",
       " 'Mortal Kombat: Annihilation (1997)',\n",
       " 'Being Human (1993)',\n",
       " 'Bushwhacked (1995)',\n",
       " 'Kansas City (1996)',\n",
       " 'Getting Even with Dad (1994)',\n",
       " \"Amityville 1992: It's About Time (1992)\",\n",
       " 'Body Parts (1991)']"
      ]
     },
     "execution_count": 20,
     "metadata": {},
     "output_type": "execute_result"
    }
   ],
   "source": [
    "list(dls.classes['title'][lst1])"
   ]
  },
  {
   "cell_type": "markdown",
   "id": "031f2394-ada5-4732-ba96-0dfd2765ad72",
   "metadata": {
    "id": "031f2394-ada5-4732-ba96-0dfd2765ad72"
   },
   "source": [
    "- 비인기 "
   ]
  },
  {
   "cell_type": "code",
   "execution_count": 22,
   "id": "48e39569-d7ac-4416-824d-7cb630c0ca17",
   "metadata": {
    "id": "48e39569-d7ac-4416-824d-7cb630c0ca17",
    "outputId": "3996ccf8-e7d1-4b19-d100-1caaab80e8dd"
   },
   "outputs": [
    {
     "data": {
      "text/plain": [
       "[\"Schindler's List (1993)\",\n",
       " 'L.A. Confidential (1997)',\n",
       " 'Shawshank Redemption, The (1994)',\n",
       " 'Apt Pupil (1998)',\n",
       " 'Good Will Hunting (1997)',\n",
       " 'Wrong Trousers, The (1993)',\n",
       " 'Close Shave, A (1995)',\n",
       " 'Vertigo (1958)',\n",
       " 'Rear Window (1954)',\n",
       " 'North by Northwest (1959)',\n",
       " 'As Good As It Gets (1997)',\n",
       " 'Silence of the Lambs, The (1991)',\n",
       " 'Titanic (1997)',\n",
       " 'Grand Day Out, A (1992)',\n",
       " 'Wallace & Gromit: The Best of Aardman Animation (1996)',\n",
       " 'Pather Panchali (1955)',\n",
       " 'Godfather, The (1972)',\n",
       " 'Dr. Strangelove or: How I Learned to Stop Worrying and Love the Bomb (1963)',\n",
       " \"One Flew Over the Cuckoo's Nest (1975)\",\n",
       " '12 Angry Men (1957)']"
      ]
     },
     "execution_count": 22,
     "metadata": {},
     "output_type": "execute_result"
    }
   ],
   "source": [
    "list(dls.classes['title'][lst2])"
   ]
  },
  {
   "cell_type": "markdown",
   "id": "616339ab-c13e-4fc5-9f17-c523e0dd7043",
   "metadata": {
    "id": "616339ab-c13e-4fc5-9f17-c523e0dd7043"
   },
   "source": [
    "- 인기"
   ]
  },
  {
   "cell_type": "markdown",
   "id": "0ff30559-939e-48ab-b18f-3a175e8e06eb",
   "metadata": {
    "id": "0ff30559-939e-48ab-b18f-3a175e8e06eb"
   },
   "source": [
    "`-` 모형이 잘 학습된것 같다. "
   ]
  },
  {
   "cell_type": "markdown",
   "id": "e36ff7a5-ec42-4f5f-b4d1-5a3207d3dfe4",
   "metadata": {
    "id": "e36ff7a5-ec42-4f5f-b4d1-5a3207d3dfe4"
   },
   "source": [
    "### 예측 "
   ]
  },
  {
   "cell_type": "code",
   "execution_count": 33,
   "id": "937a4e79-cd38-428b-b63b-458d13f1cb27",
   "metadata": {},
   "outputs": [
    {
     "data": {
      "text/plain": [
       "1501"
      ]
     },
     "execution_count": 33,
     "metadata": {},
     "output_type": "execute_result"
    }
   ],
   "source": [
    "lst2[12]"
   ]
  },
  {
   "cell_type": "code",
   "execution_count": 29,
   "id": "79596942-8ead-40eb-bf88-e8b5c06fe14f",
   "metadata": {},
   "outputs": [
    {
     "data": {
      "text/plain": [
       "561"
      ]
     },
     "execution_count": 29,
     "metadata": {},
     "output_type": "execute_result"
    }
   ],
   "source": [
    "lst1[10]"
   ]
  },
  {
   "cell_type": "markdown",
   "id": "8f4f9819-a4bc-457c-93a3-b178a50f106d",
   "metadata": {},
   "source": [
    "내 모형에는 로보캅이 없으,ㅁ.."
   ]
  },
  {
   "cell_type": "markdown",
   "id": "30acc600-75ed-449c-ad59-6eace3b9f3a5",
   "metadata": {
    "id": "30acc600-75ed-449c-ad59-6eace3b9f3a5",
    "tags": []
   },
   "source": [
    "`-` 타이타닉(1501)과 로보캅3(1251)에 관심을 가지자. "
   ]
  },
  {
   "cell_type": "code",
   "execution_count": 34,
   "id": "ee1b2de8-e93c-4258-bc7a-a060e669d9f1",
   "metadata": {
    "id": "ee1b2de8-e93c-4258-bc7a-a060e669d9f1"
   },
   "outputs": [],
   "source": [
    "x,y = dls.one_batch()"
   ]
  },
  {
   "cell_type": "markdown",
   "id": "d5c2f71a-a292-42bc-8f53-b753f3a1dc65",
   "metadata": {},
   "source": [
    "user, item"
   ]
  },
  {
   "cell_type": "code",
   "execution_count": 35,
   "id": "91d2bd2d-9333-43a1-bf21-674181c6bc1a",
   "metadata": {
    "id": "91d2bd2d-9333-43a1-bf21-674181c6bc1a",
    "outputId": "7b791db3-1dee-4d7f-ca70-c0218ea34cff"
   },
   "outputs": [
    {
     "data": {
      "text/plain": [
       "tensor([[ 582, 1634],\n",
       "        [ 889, 1457],\n",
       "        [   2,  830],\n",
       "        [ 435,  181],\n",
       "        [ 156,  768]])"
      ]
     },
     "execution_count": 35,
     "metadata": {},
     "output_type": "execute_result"
    }
   ],
   "source": [
    "x[:5]"
   ]
  },
  {
   "cell_type": "markdown",
   "id": "fbf314b7-49f8-4e51-af7d-a249fde2df62",
   "metadata": {
    "id": "fbf314b7-49f8-4e51-af7d-a249fde2df62"
   },
   "source": [
    "`-` 1~30번까지의 유저가 타이타닉(1501)을 어떻게 생각할지? 재미있게 생각한다. "
   ]
  },
  {
   "cell_type": "code",
   "execution_count": 36,
   "id": "2b401c91-6af4-47a9-82c9-ed6fe9a17bb3",
   "metadata": {
    "id": "2b401c91-6af4-47a9-82c9-ed6fe9a17bb3"
   },
   "outputs": [],
   "source": [
    "xx = torch.tensor([[i,1501] for i in range(1,31)])"
   ]
  },
  {
   "cell_type": "code",
   "execution_count": 37,
   "id": "3ccccca5-0eb3-4cf9-b3f3-0ab71b060fae",
   "metadata": {
    "id": "3ccccca5-0eb3-4cf9-b3f3-0ab71b060fae",
    "outputId": "a35a17eb-95d6-4d8c-bd74-aa0ae459295d"
   },
   "outputs": [
    {
     "data": {
      "text/plain": [
       "tensor([4.4197, 4.4980, 3.5523, 4.8458, 3.6919, 3.2887, 4.4829, 4.7335, 4.7594,\n",
       "        4.5789, 4.1758, 4.8316, 4.2905, 4.4045, 3.9606, 4.9019, 3.6463, 4.0611,\n",
       "        3.9284, 3.7203, 4.0472, 4.6268, 3.9310, 4.6264, 4.6121, 4.0433, 4.1479,\n",
       "        4.4882, 4.2470, 4.4125], device='cuda:0', grad_fn=<AddBackward0>)"
      ]
     },
     "execution_count": 37,
     "metadata": {},
     "output_type": "execute_result"
    }
   ],
   "source": [
    "lrnr.model(xx.to(\"cuda:0\"))"
   ]
  },
  {
   "cell_type": "code",
   "execution_count": 38,
   "id": "7fd4e842-2727-4779-a586-b9d4460044ca",
   "metadata": {
    "id": "7fd4e842-2727-4779-a586-b9d4460044ca",
    "outputId": "2fa74dd6-38bf-438e-fd3a-353c0e2600ad"
   },
   "outputs": [
    {
     "data": {
      "text/plain": [
       "tensor([4.1886, 4.2200, 3.4936, 4.6669, 3.4627, 3.7298, 4.6952, 4.3740, 4.5935,\n",
       "        4.4910, 4.3225, 4.7935, 4.0277, 4.4695, 4.0514, 4.5644, 3.5330, 4.3813,\n",
       "        4.1142, 3.9044, 3.6935, 4.4045, 4.1479, 4.3640, 4.5667, 4.1902, 4.1374,\n",
       "        4.5313, 4.0228, 4.4573], device='cuda:0',\n",
       "       grad_fn=<ReshapeAliasBackward0>)"
      ]
     },
     "execution_count": 38,
     "metadata": {},
     "output_type": "execute_result"
    }
   ],
   "source": [
    "lrnr2.model(xx.to(\"cuda:0\")).reshape(-1)"
   ]
  },
  {
   "cell_type": "markdown",
   "id": "d2ceefaa-c77e-481e-b7e4-c7e33bb33cba",
   "metadata": {
    "id": "d2ceefaa-c77e-481e-b7e4-c7e33bb33cba"
   },
   "source": [
    "`-` 1~30번까지의 유저가 로보캅3(1251)을 어떻게 생각할지? 재미없게 생각한다. "
   ]
  },
  {
   "cell_type": "code",
   "execution_count": 39,
   "id": "7004c811-8502-4dc9-bf62-3a26fd403457",
   "metadata": {
    "id": "7004c811-8502-4dc9-bf62-3a26fd403457"
   },
   "outputs": [],
   "source": [
    "xx = torch.tensor([[i,1251] for i in range(1,31)])"
   ]
  },
  {
   "cell_type": "code",
   "execution_count": 40,
   "id": "9b36f467-96a2-41e8-9f54-795610810ea8",
   "metadata": {
    "id": "9b36f467-96a2-41e8-9f54-795610810ea8",
    "outputId": "0853ff78-fc9c-4388-c5c0-d687c2d957f0"
   },
   "outputs": [
    {
     "data": {
      "text/plain": [
       "tensor([1.0677, 1.3579, 1.6918, 1.7708, 1.5957, 1.2411, 2.3900, 1.3234, 1.8278,\n",
       "        2.1464, 2.1753, 1.7971, 1.1096, 2.0255, 1.5500, 1.5622, 1.6522, 1.7865,\n",
       "        2.1084, 2.3826, 1.0598, 1.0457, 1.8304, 1.7866, 2.3392, 1.4715, 1.8355,\n",
       "        1.8598, 1.9085, 2.2277], device='cuda:0', grad_fn=<AddBackward0>)"
      ]
     },
     "execution_count": 40,
     "metadata": {},
     "output_type": "execute_result"
    }
   ],
   "source": [
    "lrnr.model(xx.to(\"cuda:0\"))"
   ]
  },
  {
   "cell_type": "code",
   "execution_count": 41,
   "id": "c49b8ab3-7697-4331-9681-e791a73d820f",
   "metadata": {
    "id": "c49b8ab3-7697-4331-9681-e791a73d820f",
    "outputId": "7389b6cb-5270-4eb3-cbba-acfb9e13e29a"
   },
   "outputs": [
    {
     "data": {
      "text/plain": [
       "tensor([0.7704, 1.2472, 1.3592, 2.6368, 0.9860, 0.6288, 2.1226, 0.8837, 1.7301,\n",
       "        1.5910, 1.9007, 2.4225, 0.7369, 1.9897, 0.9226, 1.8317, 0.6634, 1.5373,\n",
       "        2.2758, 1.6569, 0.9513, 0.7802, 1.3581, 2.3710, 2.5675, 1.0284, 1.2341,\n",
       "        1.2410, 1.8373, 1.7973], device='cuda:0',\n",
       "       grad_fn=<ReshapeAliasBackward0>)"
      ]
     },
     "execution_count": 41,
     "metadata": {},
     "output_type": "execute_result"
    }
   ],
   "source": [
    "lrnr2.model(xx.to(\"cuda:0\")).reshape(-1)"
   ]
  }
 ],
 "metadata": {
  "colab": {
   "name": "2021-12-02-(13주차) 12월2일.ipynb",
   "provenance": []
  },
  "kernelspec": {
   "display_name": "Python 3",
   "language": "python",
   "name": "python3"
  },
  "language_info": {
   "codemirror_mode": {
    "name": "ipython",
    "version": 3
   },
   "file_extension": ".py",
   "mimetype": "text/x-python",
   "name": "python",
   "nbconvert_exporter": "python",
   "pygments_lexer": "ipython3",
   "version": "3.8.12"
  }
 },
 "nbformat": 4,
 "nbformat_minor": 5
}
