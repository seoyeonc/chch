{
  "cells": [
    {
      "cell_type": "markdown",
      "id": "c71eeda5-37c9-48c6-a503-92d3b2c900c7",
      "metadata": {
        "tags": [],
        "id": "c71eeda5-37c9-48c6-a503-92d3b2c900c7"
      },
      "source": [
        "# 기계학습특강 "
      ]
    },
    {
      "cell_type": "code",
      "execution_count": null,
      "id": "5e83e8ba-c757-4852-8e74-d3f92d5ebb51",
      "metadata": {
        "id": "5e83e8ba-c757-4852-8e74-d3f92d5ebb51"
      },
      "outputs": [],
      "source": [
        "# 우리의 1차 목표: 이미지 -> 개/고양이 판단하는 모형을 채용하고, 그 모형에 데이터를 넣어서 학습하고, 그 모형의 결과를 판단하고 싶다. (즉 클래시파이어를 만든다는 소리)\n",
        "# 우리의 2차 목표: 그 모형에 \"새로운\" 자료를 전달하여 이미지를 분류할 것이다. (즉 클래시파이어를 쓴다는 소리)"
      ]
    }
  ],
  "metadata": {
    "kernelspec": {
      "display_name": "Python 3 (ipykernel)",
      "language": "python",
      "name": "python3"
    },
    "language_info": {
      "codemirror_mode": {
        "name": "ipython",
        "version": 3
      },
      "file_extension": ".py",
      "mimetype": "text/x-python",
      "name": "python",
      "nbconvert_exporter": "python",
      "pygments_lexer": "ipython3",
      "version": "3.7.13"
    },
    "colab": {
      "provenance": []
    }
  },
  "nbformat": 4,
  "nbformat_minor": 5
}