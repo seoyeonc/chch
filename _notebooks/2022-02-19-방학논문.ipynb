{
 "cells": [
  {
   "cell_type": "markdown",
   "id": "035edfb3-03a5-4973-b721-5c796f179bac",
   "metadata": {
    "id": "cac470df-29e7-4148-9bbd-d8b9a32fa570",
    "tags": []
   },
   "source": [
    "# Earth quake\n",
    "> graph laplacian\n",
    "\n",
    "- toc:true\n",
    "- branch: master\n",
    "- badges: true\n",
    "- comments: false\n",
    "- author: 최서연\n",
    "- categories: [Graph Laplacian, PCA]"
   ]
  },
  {
   "cell_type": "code",
   "execution_count": 1,
   "id": "f4cbc022-5d75-4201-9427-46a79ed76844",
   "metadata": {},
   "outputs": [],
   "source": [
    "import numpy as np\n",
    "import pandas as pd\n",
    "import matplotlib.pyplot as plt "
   ]
  },
  {
   "cell_type": "code",
   "execution_count": 2,
   "id": "7615901c-2423-4d3d-aec2-0d1e2c2861c2",
   "metadata": {
    "id": "98831339-6197-4662-beee-24c51eb3ada2",
    "outputId": "6a60b479-e363-4a9a-d3ee-a2ca5d4d9349"
   },
   "outputs": [
    {
     "data": {
      "text/html": [
       "<div>\n",
       "<style scoped>\n",
       "    .dataframe tbody tr th:only-of-type {\n",
       "        vertical-align: middle;\n",
       "    }\n",
       "\n",
       "    .dataframe tbody tr th {\n",
       "        vertical-align: top;\n",
       "    }\n",
       "\n",
       "    .dataframe thead th {\n",
       "        text-align: right;\n",
       "    }\n",
       "</style>\n",
       "<table border=\"1\" class=\"dataframe\">\n",
       "  <thead>\n",
       "    <tr style=\"text-align: right;\">\n",
       "      <th></th>\n",
       "      <th>Date</th>\n",
       "      <th>Latitude</th>\n",
       "      <th>Longitude</th>\n",
       "      <th>Magnitude</th>\n",
       "    </tr>\n",
       "  </thead>\n",
       "  <tbody>\n",
       "    <tr>\n",
       "      <th>0</th>\n",
       "      <td>01/02/1965</td>\n",
       "      <td>19.2460</td>\n",
       "      <td>145.6160</td>\n",
       "      <td>6.0</td>\n",
       "    </tr>\n",
       "    <tr>\n",
       "      <th>1</th>\n",
       "      <td>01/04/1965</td>\n",
       "      <td>1.8630</td>\n",
       "      <td>127.3520</td>\n",
       "      <td>5.8</td>\n",
       "    </tr>\n",
       "    <tr>\n",
       "      <th>2</th>\n",
       "      <td>01/05/1965</td>\n",
       "      <td>-20.5790</td>\n",
       "      <td>-173.9720</td>\n",
       "      <td>6.2</td>\n",
       "    </tr>\n",
       "    <tr>\n",
       "      <th>3</th>\n",
       "      <td>01/08/1965</td>\n",
       "      <td>-59.0760</td>\n",
       "      <td>-23.5570</td>\n",
       "      <td>5.8</td>\n",
       "    </tr>\n",
       "    <tr>\n",
       "      <th>4</th>\n",
       "      <td>01/09/1965</td>\n",
       "      <td>11.9380</td>\n",
       "      <td>126.4270</td>\n",
       "      <td>5.8</td>\n",
       "    </tr>\n",
       "    <tr>\n",
       "      <th>...</th>\n",
       "      <td>...</td>\n",
       "      <td>...</td>\n",
       "      <td>...</td>\n",
       "      <td>...</td>\n",
       "    </tr>\n",
       "    <tr>\n",
       "      <th>23407</th>\n",
       "      <td>12/28/2016</td>\n",
       "      <td>38.3917</td>\n",
       "      <td>-118.8941</td>\n",
       "      <td>5.6</td>\n",
       "    </tr>\n",
       "    <tr>\n",
       "      <th>23408</th>\n",
       "      <td>12/28/2016</td>\n",
       "      <td>38.3777</td>\n",
       "      <td>-118.8957</td>\n",
       "      <td>5.5</td>\n",
       "    </tr>\n",
       "    <tr>\n",
       "      <th>23409</th>\n",
       "      <td>12/28/2016</td>\n",
       "      <td>36.9179</td>\n",
       "      <td>140.4262</td>\n",
       "      <td>5.9</td>\n",
       "    </tr>\n",
       "    <tr>\n",
       "      <th>23410</th>\n",
       "      <td>12/29/2016</td>\n",
       "      <td>-9.0283</td>\n",
       "      <td>118.6639</td>\n",
       "      <td>6.3</td>\n",
       "    </tr>\n",
       "    <tr>\n",
       "      <th>23411</th>\n",
       "      <td>12/30/2016</td>\n",
       "      <td>37.3973</td>\n",
       "      <td>141.4103</td>\n",
       "      <td>5.5</td>\n",
       "    </tr>\n",
       "  </tbody>\n",
       "</table>\n",
       "<p>23412 rows × 4 columns</p>\n",
       "</div>"
      ],
      "text/plain": [
       "             Date  Latitude  Longitude  Magnitude\n",
       "0      01/02/1965   19.2460   145.6160        6.0\n",
       "1      01/04/1965    1.8630   127.3520        5.8\n",
       "2      01/05/1965  -20.5790  -173.9720        6.2\n",
       "3      01/08/1965  -59.0760   -23.5570        5.8\n",
       "4      01/09/1965   11.9380   126.4270        5.8\n",
       "...           ...       ...        ...        ...\n",
       "23407  12/28/2016   38.3917  -118.8941        5.6\n",
       "23408  12/28/2016   38.3777  -118.8957        5.5\n",
       "23409  12/28/2016   36.9179   140.4262        5.9\n",
       "23410  12/29/2016   -9.0283   118.6639        6.3\n",
       "23411  12/30/2016   37.3973   141.4103        5.5\n",
       "\n",
       "[23412 rows x 4 columns]"
      ]
     },
     "execution_count": 2,
     "metadata": {},
     "output_type": "execute_result"
    }
   ],
   "source": [
    "df=pd.read_csv('https://raw.githubusercontent.com/plotly/datasets/master/earthquakes-23k.csv')\n",
    "df"
   ]
  },
  {
   "cell_type": "code",
   "execution_count": 3,
   "id": "6c80c67f-3319-44aa-8342-60b1a76b9833",
   "metadata": {
    "id": "c048a717-4701-4098-8d21-792c86fc8cc1"
   },
   "outputs": [],
   "source": [
    "# df.assign 임시 데이터 만들어줘서 원래 데이터 안 건들이게\n",
    "lst=[df.assign(Year=list(map(lambda x: x.split('/')[-1], df.Date))).\\\n",
    "groupby('Year').\\\n",
    "pipe(list)[i][1].iloc[:,[1,2,3]].\\\n",
    "to_numpy().tolist() for i in range(2017-1965)]"
   ]
  },
  {
   "cell_type": "markdown",
   "id": "78388216-2e95-4968-a655-4ed1ee2f761c",
   "metadata": {},
   "source": [
    "pipe는 튜플로 묶여 있어서 [][] 해줘야 데이터프레임으로 나오지\n",
    "\n",
    "한 번에 list로 안 되어서 numpy 해준 후 list"
   ]
  },
  {
   "cell_type": "markdown",
   "id": "d054f47d-56d7-4de4-84c5-e99e60b99a32",
   "metadata": {
    "id": "eaba08ae-1d96-455b-bbe7-aeacc78d1f29"
   },
   "source": [
    "`-` 숙제: "
   ]
  },
  {
   "cell_type": "markdown",
   "id": "fbdc9523-bc0a-4732-abdf-c98d8f8c9ca5",
   "metadata": {
    "id": "ae8daa62-750a-4a4c-b482-7fb12607e2ea"
   },
   "source": [
    "지진자료에서 1985년 이후의 자료만 고른뒤에 HeatMapWithTime()을 이용하여 시각화하라."
   ]
  },
  {
   "cell_type": "code",
   "execution_count": 4,
   "id": "bf46d257-bc86-4423-8734-54c616f3755e",
   "metadata": {},
   "outputs": [],
   "source": [
    "lst2=[df.assign(Year=list(map(lambda x: x.split('/')[-1], df.Date))).query('Year>=\"1985\"').\\\n",
    "groupby('Year').\\\n",
    "pipe(list)[i][1].iloc[:,[1,2,3]].\\\n",
    "to_numpy().tolist() for i in range(2016-1985)]"
   ]
  },
  {
   "cell_type": "markdown",
   "id": "9f84321f-996f-46c3-aa6f-70707590ca42",
   "metadata": {},
   "source": [
    "- t = Year\n",
    "- x = Latitude\n",
    "- y = Longitude\n",
    "- f = Magnitude"
   ]
  },
  {
   "cell_type": "code",
   "execution_count": 13,
   "id": "0910e5ea-6e0e-49d2-893b-fc04a47df73c",
   "metadata": {},
   "outputs": [
    {
     "data": {
      "text/html": [
       "<div>\n",
       "<style scoped>\n",
       "    .dataframe tbody tr th:only-of-type {\n",
       "        vertical-align: middle;\n",
       "    }\n",
       "\n",
       "    .dataframe tbody tr th {\n",
       "        vertical-align: top;\n",
       "    }\n",
       "\n",
       "    .dataframe thead th {\n",
       "        text-align: right;\n",
       "    }\n",
       "</style>\n",
       "<table border=\"1\" class=\"dataframe\">\n",
       "  <thead>\n",
       "    <tr style=\"text-align: right;\">\n",
       "      <th></th>\n",
       "      <th>Date</th>\n",
       "      <th>Latitude</th>\n",
       "      <th>Longitude</th>\n",
       "      <th>Magnitude</th>\n",
       "      <th>Year</th>\n",
       "    </tr>\n",
       "  </thead>\n",
       "  <tbody>\n",
       "    <tr>\n",
       "      <th>0</th>\n",
       "      <td>01/02/2015</td>\n",
       "      <td>6.5739</td>\n",
       "      <td>60.3653</td>\n",
       "      <td>5.5</td>\n",
       "      <td>2015</td>\n",
       "    </tr>\n",
       "    <tr>\n",
       "      <th>1</th>\n",
       "      <td>01/05/2015</td>\n",
       "      <td>-43.0546</td>\n",
       "      <td>171.2364</td>\n",
       "      <td>5.6</td>\n",
       "      <td>2015</td>\n",
       "    </tr>\n",
       "    <tr>\n",
       "      <th>2</th>\n",
       "      <td>01/06/2015</td>\n",
       "      <td>55.2049</td>\n",
       "      <td>163.2446</td>\n",
       "      <td>5.6</td>\n",
       "      <td>2015</td>\n",
       "    </tr>\n",
       "    <tr>\n",
       "      <th>3</th>\n",
       "      <td>01/07/2015</td>\n",
       "      <td>5.9045</td>\n",
       "      <td>-82.6576</td>\n",
       "      <td>6.5</td>\n",
       "      <td>2015</td>\n",
       "    </tr>\n",
       "    <tr>\n",
       "      <th>4</th>\n",
       "      <td>01/08/2015</td>\n",
       "      <td>-61.6118</td>\n",
       "      <td>161.3346</td>\n",
       "      <td>5.7</td>\n",
       "      <td>2015</td>\n",
       "    </tr>\n",
       "    <tr>\n",
       "      <th>...</th>\n",
       "      <td>...</td>\n",
       "      <td>...</td>\n",
       "      <td>...</td>\n",
       "      <td>...</td>\n",
       "      <td>...</td>\n",
       "    </tr>\n",
       "    <tr>\n",
       "      <th>910</th>\n",
       "      <td>12/28/2016</td>\n",
       "      <td>38.3917</td>\n",
       "      <td>-118.8941</td>\n",
       "      <td>5.6</td>\n",
       "      <td>2016</td>\n",
       "    </tr>\n",
       "    <tr>\n",
       "      <th>911</th>\n",
       "      <td>12/28/2016</td>\n",
       "      <td>38.3777</td>\n",
       "      <td>-118.8957</td>\n",
       "      <td>5.5</td>\n",
       "      <td>2016</td>\n",
       "    </tr>\n",
       "    <tr>\n",
       "      <th>912</th>\n",
       "      <td>12/28/2016</td>\n",
       "      <td>36.9179</td>\n",
       "      <td>140.4262</td>\n",
       "      <td>5.9</td>\n",
       "      <td>2016</td>\n",
       "    </tr>\n",
       "    <tr>\n",
       "      <th>913</th>\n",
       "      <td>12/29/2016</td>\n",
       "      <td>-9.0283</td>\n",
       "      <td>118.6639</td>\n",
       "      <td>6.3</td>\n",
       "      <td>2016</td>\n",
       "    </tr>\n",
       "    <tr>\n",
       "      <th>914</th>\n",
       "      <td>12/30/2016</td>\n",
       "      <td>37.3973</td>\n",
       "      <td>141.4103</td>\n",
       "      <td>5.5</td>\n",
       "      <td>2016</td>\n",
       "    </tr>\n",
       "  </tbody>\n",
       "</table>\n",
       "<p>915 rows × 5 columns</p>\n",
       "</div>"
      ],
      "text/plain": [
       "           Date  Latitude  Longitude  Magnitude  Year\n",
       "0    01/02/2015    6.5739    60.3653        5.5  2015\n",
       "1    01/05/2015  -43.0546   171.2364        5.6  2015\n",
       "2    01/06/2015   55.2049   163.2446        5.6  2015\n",
       "3    01/07/2015    5.9045   -82.6576        6.5  2015\n",
       "4    01/08/2015  -61.6118   161.3346        5.7  2015\n",
       "..          ...       ...        ...        ...   ...\n",
       "910  12/28/2016   38.3917  -118.8941        5.6  2016\n",
       "911  12/28/2016   38.3777  -118.8957        5.5  2016\n",
       "912  12/28/2016   36.9179   140.4262        5.9  2016\n",
       "913  12/29/2016   -9.0283   118.6639        6.3  2016\n",
       "914  12/30/2016   37.3973   141.4103        5.5  2016\n",
       "\n",
       "[915 rows x 5 columns]"
      ]
     },
     "execution_count": 13,
     "metadata": {},
     "output_type": "execute_result"
    }
   ],
   "source": [
    "_df = df.assign(Year=list(map(lambda x: x.split('/')[-1], df.Date))).query('Year>=\"2015\"').reset_index().iloc[:,1:]\n",
    "_df"
   ]
  },
  {
   "cell_type": "code",
   "execution_count": 14,
   "id": "921669b8-7574-4815-96ba-eda30c7441f2",
   "metadata": {},
   "outputs": [],
   "source": [
    "f = _df.loc[:,\"Magnitude\"].iloc[:-1,]  # 일단 마지막 꺼 수 안맞으니까...일단..."
   ]
  },
  {
   "cell_type": "code",
   "execution_count": 15,
   "id": "ab943bb5-e673-4818-a57a-1cbedfd9ef0d",
   "metadata": {},
   "outputs": [
    {
     "data": {
      "text/plain": [
       "(914,)"
      ]
     },
     "execution_count": 15,
     "metadata": {},
     "output_type": "execute_result"
    }
   ],
   "source": [
    "f.shape"
   ]
  },
  {
   "cell_type": "code",
   "execution_count": 16,
   "id": "612235cc-28c6-455e-b95c-339f24a7a470",
   "metadata": {},
   "outputs": [
    {
     "data": {
      "text/plain": [
       "[<matplotlib.lines.Line2D at 0x7fc519069a00>]"
      ]
     },
     "execution_count": 16,
     "metadata": {},
     "output_type": "execute_result"
    },
    {
     "data": {
      "image/png": "[encoded data removed]",
      "text/plain": [
       "<Figure size 432x288 with 1 Axes>"
      ]
     },
     "metadata": {
      "needs_background": "light"
     },
     "output_type": "display_data"
    }
   ],
   "source": [
    "plt.plot(f,'.')"
   ]
  },
  {
   "cell_type": "code",
   "execution_count": 17,
   "id": "9b0f6534-f171-46b8-8cc2-fb5366924e12",
   "metadata": {},
   "outputs": [
    {
     "data": {
      "text/plain": [
       "[<matplotlib.lines.Line2D at 0x7fc5191a9c70>]"
      ]
     },
     "execution_count": 17,
     "metadata": {},
     "output_type": "execute_result"
    },
    {
     "data": {
      "image/png": "[encoded data removed]",
      "text/plain": [
       "<Figure size 432x288 with 1 Axes>"
      ]
     },
     "metadata": {
      "needs_background": "light"
     },
     "output_type": "display_data"
    }
   ],
   "source": [
    "plt.plot( _df.Latitude,_df.Longitude,'.')"
   ]
  },
  {
   "cell_type": "markdown",
   "id": "b0f39300-abdf-49dc-a32c-be3b6c2f1bf7",
   "metadata": {},
   "source": [
    "$$dist((x_i,y_i),(x_j,y_j))$$"
   ]
  },
  {
   "cell_type": "code",
   "execution_count": 18,
   "id": "6ca6bf2b-4a4b-4d29-a28d-ea183a37fc3c",
   "metadata": {},
   "outputs": [],
   "source": [
    "def dist(i,j):\n",
    "    return np.sqrt( ( ( _df.Latitude[i] - _df.Latitude[i-1] )**2) + ( ( _df.Longitude[j] - _df.Longitude[j-1] )**2) )"
   ]
  },
  {
   "cell_type": "markdown",
   "id": "d9deb546-963d-480e-97fe-efc1811cb75c",
   "metadata": {},
   "source": [
    "$$W_{i,j}=\\begin{cases}{exp(-\\frac{[dist(i,j)]^2}{2\\theta^2})} & \\quad \\text{if } dist(i,j) \\leq κ \\\\ 0 & \\quad \\text{otherwise} \\end{cases}$$"
   ]
  },
  {
   "cell_type": "code",
   "execution_count": 19,
   "id": "d782e51c-3e61-47fa-9abf-0374b4ba02da",
   "metadata": {},
   "outputs": [],
   "source": [
    "def weight(i,j,theta=100,kappa=1000):\n",
    "    return np.exp( -np.abs(dist(i,j))**2 / (2*theta**2) ) if dist(i,j) <= kappa else 0"
   ]
  },
  {
   "cell_type": "code",
   "execution_count": null,
   "id": "985c912d-5894-4e9b-95b2-8c18b97e09fc",
   "metadata": {},
   "outputs": [],
   "source": [
    "W = np.array([[weight(i,j) for i in range(1,len(_df))] for j in range(1,len(_df))])"
   ]
  },
  {
   "cell_type": "code",
   "execution_count": null,
   "id": "3f2ed686-8b1c-4958-b1ba-593d13968184",
   "metadata": {},
   "outputs": [],
   "source": [
    "W"
   ]
  },
  {
   "cell_type": "code",
   "execution_count": null,
   "id": "5e8e3a5c-441c-4b77-b0e2-dde3f7560bc2",
   "metadata": {},
   "outputs": [],
   "source": [
    "D = np.diag(W.sum(axis=1))"
   ]
  },
  {
   "cell_type": "code",
   "execution_count": null,
   "id": "36958841-d707-44de-8782-5be6eedad649",
   "metadata": {
    "tags": []
   },
   "outputs": [],
   "source": [
    "D"
   ]
  },
  {
   "cell_type": "code",
   "execution_count": null,
   "id": "c294cd41-abbd-4860-9c8e-0dffffe0f911",
   "metadata": {},
   "outputs": [],
   "source": [
    "L = D - W"
   ]
  },
  {
   "cell_type": "code",
   "execution_count": null,
   "id": "f3af58bb-7e16-4e34-b39a-73b7e35d7b23",
   "metadata": {},
   "outputs": [],
   "source": [
    "L"
   ]
  },
  {
   "cell_type": "markdown",
   "id": "16292bd0-c0b1-414c-961d-a14aef400748",
   "metadata": {},
   "source": [
    "고유값 분해"
   ]
  },
  {
   "cell_type": "code",
   "execution_count": null,
   "id": "02700222-adeb-4888-9f11-25d5caf09574",
   "metadata": {},
   "outputs": [],
   "source": [
    "λ, Ψ = np.linalg.eig(L)"
   ]
  },
  {
   "cell_type": "code",
   "execution_count": null,
   "id": "8f346fd8-ca40-4498-966f-40e6d4669c2f",
   "metadata": {},
   "outputs": [],
   "source": [
    "Λ = np.diag(λ)"
   ]
  },
  {
   "cell_type": "code",
   "execution_count": null,
   "id": "1097d2bc-bedb-4284-8145-9be0faf65fdb",
   "metadata": {},
   "outputs": [],
   "source": [
    "fig,ax =plt.subplots(10,10)\n",
    "k=0\n",
    "for i in range(10):\n",
    "    for j in range(10):\n",
    "        ax[i][j].plot(f @ np.outer(Ψ[:,k], Ψ[:,k]))\n",
    "        ax[i][j].set_ylim([-20,20])\n",
    "        ax[i][j].set_title(k)\n",
    "        k=k+1\n",
    "fig.set_figwidth(20)            \n",
    "fig.set_figheight(20)\n",
    "fig.tight_layout()        "
   ]
  },
  {
   "cell_type": "code",
   "execution_count": null,
   "id": "fc54034b-7e74-499e-b52b-97d6ad644e77",
   "metadata": {},
   "outputs": [],
   "source": [
    "fig,ax =plt.subplots(10,10)\n",
    "k=500\n",
    "for i in range(10):\n",
    "    for j in range(10):\n",
    "        ax[i][j].plot(f @ np.outer(Ψ[:,k], Ψ[:,k]))\n",
    "        ax[i][j].set_ylim([-20,20])\n",
    "        ax[i][j].set_title(k)\n",
    "        k=k+1\n",
    "fig.set_figwidth(20)            \n",
    "fig.set_figheight(20)\n",
    "fig.tight_layout()        "
   ]
  },
  {
   "cell_type": "code",
   "execution_count": null,
   "id": "a41d235e-042d-4e67-87e0-b3aaa5fbfdaf",
   "metadata": {},
   "outputs": [],
   "source": []
  },
  {
   "cell_type": "code",
   "execution_count": null,
   "id": "296f382b-c6b3-4790-821f-8e4bdffc43a0",
   "metadata": {},
   "outputs": [],
   "source": []
  },
  {
   "cell_type": "code",
   "execution_count": null,
   "id": "e58d2ce8-678e-4a03-9ce2-e5582dc8e920",
   "metadata": {},
   "outputs": [],
   "source": []
  }
 ],
 "metadata": {
  "kernelspec": {
   "display_name": "Python 3 (ipykernel)",
   "language": "python",
   "name": "python3"
  },
  "language_info": {
   "codemirror_mode": {
    "name": "ipython",
    "version": 3
   },
   "file_extension": ".py",
   "mimetype": "text/x-python",
   "name": "python",
   "nbconvert_exporter": "python",
   "pygments_lexer": "ipython3",
   "version": "3.8.12"
  }
 },
 "nbformat": 4,
 "nbformat_minor": 5
}
