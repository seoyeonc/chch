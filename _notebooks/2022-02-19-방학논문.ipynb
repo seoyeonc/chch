{
 "cells": [
  {
   "cell_type": "markdown",
   "id": "035edfb3-03a5-4973-b721-5c796f179bac",
   "metadata": {
    "id": "cac470df-29e7-4148-9bbd-d8b9a32fa570",
    "tags": []
   },
   "source": [
    "# Earth quake\n",
    "> graph laplacian\n",
    "\n",
    "- toc:true\n",
    "- branch: master\n",
    "- badges: true\n",
    "- comments: false\n",
    "- author: 최서연\n",
    "- categories: [Graph Laplacian, PCA]"
   ]
  },
  {
   "cell_type": "code",
   "execution_count": 1,
   "id": "f4cbc022-5d75-4201-9427-46a79ed76844",
   "metadata": {},
   "outputs": [],
   "source": [
    "import numpy as np\n",
    "import pandas as pd\n",
    "import matplotlib.pyplot as plt "
   ]
  },
  {
   "cell_type": "code",
   "execution_count": 2,
   "id": "7615901c-2423-4d3d-aec2-0d1e2c2861c2",
   "metadata": {
    "id": "98831339-6197-4662-beee-24c51eb3ada2",
    "outputId": "6a60b479-e363-4a9a-d3ee-a2ca5d4d9349"
   },
   "outputs": [
    {
     "data": {
      "text/html": [
       "<div>\n",
       "<style scoped>\n",
       "    .dataframe tbody tr th:only-of-type {\n",
       "        vertical-align: middle;\n",
       "    }\n",
       "\n",
       "    .dataframe tbody tr th {\n",
       "        vertical-align: top;\n",
       "    }\n",
       "\n",
       "    .dataframe thead th {\n",
       "        text-align: right;\n",
       "    }\n",
       "</style>\n",
       "<table border=\"1\" class=\"dataframe\">\n",
       "  <thead>\n",
       "    <tr style=\"text-align: right;\">\n",
       "      <th></th>\n",
       "      <th>Date</th>\n",
       "      <th>Latitude</th>\n",
       "      <th>Longitude</th>\n",
       "      <th>Magnitude</th>\n",
       "    </tr>\n",
       "  </thead>\n",
       "  <tbody>\n",
       "    <tr>\n",
       "      <th>0</th>\n",
       "      <td>01/02/1965</td>\n",
       "      <td>19.2460</td>\n",
       "      <td>145.6160</td>\n",
       "      <td>6.0</td>\n",
       "    </tr>\n",
       "    <tr>\n",
       "      <th>1</th>\n",
       "      <td>01/04/1965</td>\n",
       "      <td>1.8630</td>\n",
       "      <td>127.3520</td>\n",
       "      <td>5.8</td>\n",
       "    </tr>\n",
       "    <tr>\n",
       "      <th>2</th>\n",
       "      <td>01/05/1965</td>\n",
       "      <td>-20.5790</td>\n",
       "      <td>-173.9720</td>\n",
       "      <td>6.2</td>\n",
       "    </tr>\n",
       "    <tr>\n",
       "      <th>3</th>\n",
       "      <td>01/08/1965</td>\n",
       "      <td>-59.0760</td>\n",
       "      <td>-23.5570</td>\n",
       "      <td>5.8</td>\n",
       "    </tr>\n",
       "    <tr>\n",
       "      <th>4</th>\n",
       "      <td>01/09/1965</td>\n",
       "      <td>11.9380</td>\n",
       "      <td>126.4270</td>\n",
       "      <td>5.8</td>\n",
       "    </tr>\n",
       "    <tr>\n",
       "      <th>...</th>\n",
       "      <td>...</td>\n",
       "      <td>...</td>\n",
       "      <td>...</td>\n",
       "      <td>...</td>\n",
       "    </tr>\n",
       "    <tr>\n",
       "      <th>23407</th>\n",
       "      <td>12/28/2016</td>\n",
       "      <td>38.3917</td>\n",
       "      <td>-118.8941</td>\n",
       "      <td>5.6</td>\n",
       "    </tr>\n",
       "    <tr>\n",
       "      <th>23408</th>\n",
       "      <td>12/28/2016</td>\n",
       "      <td>38.3777</td>\n",
       "      <td>-118.8957</td>\n",
       "      <td>5.5</td>\n",
       "    </tr>\n",
       "    <tr>\n",
       "      <th>23409</th>\n",
       "      <td>12/28/2016</td>\n",
       "      <td>36.9179</td>\n",
       "      <td>140.4262</td>\n",
       "      <td>5.9</td>\n",
       "    </tr>\n",
       "    <tr>\n",
       "      <th>23410</th>\n",
       "      <td>12/29/2016</td>\n",
       "      <td>-9.0283</td>\n",
       "      <td>118.6639</td>\n",
       "      <td>6.3</td>\n",
       "    </tr>\n",
       "    <tr>\n",
       "      <th>23411</th>\n",
       "      <td>12/30/2016</td>\n",
       "      <td>37.3973</td>\n",
       "      <td>141.4103</td>\n",
       "      <td>5.5</td>\n",
       "    </tr>\n",
       "  </tbody>\n",
       "</table>\n",
       "<p>23412 rows × 4 columns</p>\n",
       "</div>"
      ],
      "text/plain": [
       "             Date  Latitude  Longitude  Magnitude\n",
       "0      01/02/1965   19.2460   145.6160        6.0\n",
       "1      01/04/1965    1.8630   127.3520        5.8\n",
       "2      01/05/1965  -20.5790  -173.9720        6.2\n",
       "3      01/08/1965  -59.0760   -23.5570        5.8\n",
       "4      01/09/1965   11.9380   126.4270        5.8\n",
       "...           ...       ...        ...        ...\n",
       "23407  12/28/2016   38.3917  -118.8941        5.6\n",
       "23408  12/28/2016   38.3777  -118.8957        5.5\n",
       "23409  12/28/2016   36.9179   140.4262        5.9\n",
       "23410  12/29/2016   -9.0283   118.6639        6.3\n",
       "23411  12/30/2016   37.3973   141.4103        5.5\n",
       "\n",
       "[23412 rows x 4 columns]"
      ]
     },
     "execution_count": 2,
     "metadata": {},
     "output_type": "execute_result"
    }
   ],
   "source": [
    "df=pd.read_csv('https://raw.githubusercontent.com/plotly/datasets/master/earthquakes-23k.csv')\n",
    "df"
   ]
  },
  {
   "cell_type": "code",
   "execution_count": 3,
   "id": "6c80c67f-3319-44aa-8342-60b1a76b9833",
   "metadata": {
    "id": "c048a717-4701-4098-8d21-792c86fc8cc1"
   },
   "outputs": [],
   "source": [
    "# df.assign 임시 데이터 만들어줘서 원래 데이터 안 건들이게\n",
    "lst=[df.assign(Year=list(map(lambda x: x.split('/')[-1], df.Date))).\\\n",
    "groupby('Year').\\\n",
    "pipe(list)[i][1].iloc[:,[1,2,3]].\\\n",
    "to_numpy().tolist() for i in range(2017-1965)]"
   ]
  },
  {
   "cell_type": "markdown",
   "id": "78388216-2e95-4968-a655-4ed1ee2f761c",
   "metadata": {},
   "source": [
    "pipe는 튜플로 묶여 있어서 [][] 해줘야 데이터프레임으로 나오지\n",
    "\n",
    "한 번에 list로 안 되어서 numpy 해준 후 list"
   ]
  },
  {
   "cell_type": "markdown",
   "id": "d054f47d-56d7-4de4-84c5-e99e60b99a32",
   "metadata": {
    "id": "eaba08ae-1d96-455b-bbe7-aeacc78d1f29"
   },
   "source": [
    "`-` 숙제: "
   ]
  },
  {
   "cell_type": "markdown",
   "id": "fbdc9523-bc0a-4732-abdf-c98d8f8c9ca5",
   "metadata": {
    "id": "ae8daa62-750a-4a4c-b482-7fb12607e2ea"
   },
   "source": [
    "지진자료에서 1985년 이후의 자료만 고른뒤에 HeatMapWithTime()을 이용하여 시각화하라."
   ]
  },
  {
   "cell_type": "code",
   "execution_count": 4,
   "id": "bf46d257-bc86-4423-8734-54c616f3755e",
   "metadata": {},
   "outputs": [],
   "source": [
    "lst2=[df.assign(Year=list(map(lambda x: x.split('/')[-1], df.Date))).query('Year>=\"1985\"').\\\n",
    "groupby('Year').\\\n",
    "pipe(list)[i][1].iloc[:,[1,2,3]].\\\n",
    "to_numpy().tolist() for i in range(2016-1985)]"
   ]
  },
  {
   "cell_type": "markdown",
   "id": "9f84321f-996f-46c3-aa6f-70707590ca42",
   "metadata": {},
   "source": [
    "- t = Year\n",
    "- x = Latitude\n",
    "- y = Longitude\n",
    "- f = Magnitude"
   ]
  },
  {
   "cell_type": "code",
   "execution_count": 5,
   "id": "0910e5ea-6e0e-49d2-893b-fc04a47df73c",
   "metadata": {},
   "outputs": [
    {
     "data": {
      "text/html": [
       "<div>\n",
       "<style scoped>\n",
       "    .dataframe tbody tr th:only-of-type {\n",
       "        vertical-align: middle;\n",
       "    }\n",
       "\n",
       "    .dataframe tbody tr th {\n",
       "        vertical-align: top;\n",
       "    }\n",
       "\n",
       "    .dataframe thead th {\n",
       "        text-align: right;\n",
       "    }\n",
       "</style>\n",
       "<table border=\"1\" class=\"dataframe\">\n",
       "  <thead>\n",
       "    <tr style=\"text-align: right;\">\n",
       "      <th></th>\n",
       "      <th>Date</th>\n",
       "      <th>Latitude</th>\n",
       "      <th>Longitude</th>\n",
       "      <th>Magnitude</th>\n",
       "      <th>Year</th>\n",
       "    </tr>\n",
       "  </thead>\n",
       "  <tbody>\n",
       "    <tr>\n",
       "      <th>0</th>\n",
       "      <td>01/02/2015</td>\n",
       "      <td>6.5739</td>\n",
       "      <td>60.3653</td>\n",
       "      <td>5.5</td>\n",
       "      <td>2015</td>\n",
       "    </tr>\n",
       "    <tr>\n",
       "      <th>1</th>\n",
       "      <td>01/05/2015</td>\n",
       "      <td>-43.0546</td>\n",
       "      <td>171.2364</td>\n",
       "      <td>5.6</td>\n",
       "      <td>2015</td>\n",
       "    </tr>\n",
       "    <tr>\n",
       "      <th>2</th>\n",
       "      <td>01/06/2015</td>\n",
       "      <td>55.2049</td>\n",
       "      <td>163.2446</td>\n",
       "      <td>5.6</td>\n",
       "      <td>2015</td>\n",
       "    </tr>\n",
       "    <tr>\n",
       "      <th>3</th>\n",
       "      <td>01/07/2015</td>\n",
       "      <td>5.9045</td>\n",
       "      <td>-82.6576</td>\n",
       "      <td>6.5</td>\n",
       "      <td>2015</td>\n",
       "    </tr>\n",
       "    <tr>\n",
       "      <th>4</th>\n",
       "      <td>01/08/2015</td>\n",
       "      <td>-61.6118</td>\n",
       "      <td>161.3346</td>\n",
       "      <td>5.7</td>\n",
       "      <td>2015</td>\n",
       "    </tr>\n",
       "    <tr>\n",
       "      <th>...</th>\n",
       "      <td>...</td>\n",
       "      <td>...</td>\n",
       "      <td>...</td>\n",
       "      <td>...</td>\n",
       "      <td>...</td>\n",
       "    </tr>\n",
       "    <tr>\n",
       "      <th>910</th>\n",
       "      <td>12/28/2016</td>\n",
       "      <td>38.3917</td>\n",
       "      <td>-118.8941</td>\n",
       "      <td>5.6</td>\n",
       "      <td>2016</td>\n",
       "    </tr>\n",
       "    <tr>\n",
       "      <th>911</th>\n",
       "      <td>12/28/2016</td>\n",
       "      <td>38.3777</td>\n",
       "      <td>-118.8957</td>\n",
       "      <td>5.5</td>\n",
       "      <td>2016</td>\n",
       "    </tr>\n",
       "    <tr>\n",
       "      <th>912</th>\n",
       "      <td>12/28/2016</td>\n",
       "      <td>36.9179</td>\n",
       "      <td>140.4262</td>\n",
       "      <td>5.9</td>\n",
       "      <td>2016</td>\n",
       "    </tr>\n",
       "    <tr>\n",
       "      <th>913</th>\n",
       "      <td>12/29/2016</td>\n",
       "      <td>-9.0283</td>\n",
       "      <td>118.6639</td>\n",
       "      <td>6.3</td>\n",
       "      <td>2016</td>\n",
       "    </tr>\n",
       "    <tr>\n",
       "      <th>914</th>\n",
       "      <td>12/30/2016</td>\n",
       "      <td>37.3973</td>\n",
       "      <td>141.4103</td>\n",
       "      <td>5.5</td>\n",
       "      <td>2016</td>\n",
       "    </tr>\n",
       "  </tbody>\n",
       "</table>\n",
       "<p>915 rows × 5 columns</p>\n",
       "</div>"
      ],
      "text/plain": [
       "           Date  Latitude  Longitude  Magnitude  Year\n",
       "0    01/02/2015    6.5739    60.3653        5.5  2015\n",
       "1    01/05/2015  -43.0546   171.2364        5.6  2015\n",
       "2    01/06/2015   55.2049   163.2446        5.6  2015\n",
       "3    01/07/2015    5.9045   -82.6576        6.5  2015\n",
       "4    01/08/2015  -61.6118   161.3346        5.7  2015\n",
       "..          ...       ...        ...        ...   ...\n",
       "910  12/28/2016   38.3917  -118.8941        5.6  2016\n",
       "911  12/28/2016   38.3777  -118.8957        5.5  2016\n",
       "912  12/28/2016   36.9179   140.4262        5.9  2016\n",
       "913  12/29/2016   -9.0283   118.6639        6.3  2016\n",
       "914  12/30/2016   37.3973   141.4103        5.5  2016\n",
       "\n",
       "[915 rows x 5 columns]"
      ]
     },
     "execution_count": 5,
     "metadata": {},
     "output_type": "execute_result"
    }
   ],
   "source": [
    "_df = df.assign(Year=list(map(lambda x: x.split('/')[-1], df.Date))).query('Year>=\"2015\"').reset_index().iloc[:,1:]\n",
    "_df"
   ]
  },
  {
   "cell_type": "code",
   "execution_count": 103,
   "id": "2e9173ee-ee55-4e6a-9517-d44f76e02097",
   "metadata": {},
   "outputs": [],
   "source": [
    "f = _df.loc[:,\"Magnitude\"]"
   ]
  },
  {
   "cell_type": "code",
   "execution_count": null,
   "id": "964253b3-02d2-451d-964a-f7867429ae05",
   "metadata": {},
   "outputs": [],
   "source": [
    "f_true = _df.loc[:,\"Magnitude\"]"
   ]
  },
  {
   "cell_type": "code",
   "execution_count": null,
   "id": "54673825-1212-47fe-8602-50cb3566dab9",
   "metadata": {},
   "outputs": [],
   "source": [
    "f = f_true + np.random.normal(scale=0.2,size=len(f_true))"
   ]
  },
  {
   "cell_type": "code",
   "execution_count": 51,
   "id": "ab943bb5-e673-4818-a57a-1cbedfd9ef0d",
   "metadata": {},
   "outputs": [
    {
     "data": {
      "text/plain": [
       "(915,)"
      ]
     },
     "execution_count": 51,
     "metadata": {},
     "output_type": "execute_result"
    }
   ],
   "source": [
    "f.shape"
   ]
  },
  {
   "cell_type": "code",
   "execution_count": null,
   "id": "bfe0ee19-60b7-42cc-aef9-3c8e8d7c510d",
   "metadata": {},
   "outputs": [],
   "source": [
    "plt.plot(f_true,'.')\n",
    "plt.plot(f,'-')"
   ]
  },
  {
   "cell_type": "code",
   "execution_count": 105,
   "id": "9b0f6534-f171-46b8-8cc2-fb5366924e12",
   "metadata": {},
   "outputs": [
    {
     "data": {
      "text/plain": [
       "[<matplotlib.lines.Line2D at 0x7fbe7bc7d910>]"
      ]
     },
     "execution_count": 105,
     "metadata": {},
     "output_type": "execute_result"
    },
    {
     "data": {
      "image/png": "[encoded data removed]",
      "text/plain": [
       "<Figure size 432x288 with 1 Axes>"
      ]
     },
     "metadata": {
      "needs_background": "light"
     },
     "output_type": "display_data"
    }
   ],
   "source": [
    "plt.plot( _df.Latitude,_df.Longitude,'.')"
   ]
  },
  {
   "cell_type": "markdown",
   "id": "b0f39300-abdf-49dc-a32c-be3b6c2f1bf7",
   "metadata": {},
   "source": [
    "$$dist((x_i,y_i),(x_j,y_j))$$"
   ]
  },
  {
   "cell_type": "code",
   "execution_count": 108,
   "id": "6ca6bf2b-4a4b-4d29-a28d-ea183a37fc3c",
   "metadata": {},
   "outputs": [],
   "source": [
    "def dist(i,j):\n",
    "    return np.sqrt( ( ( _df.Latitude[j] - _df.Latitude[i] )**2) + ( ( _df.Longitude[j] - _df.Longitude[i])**2) )"
   ]
  },
  {
   "cell_type": "markdown",
   "id": "d9deb546-963d-480e-97fe-efc1811cb75c",
   "metadata": {},
   "source": [
    "$$W_{i,j}=\\begin{cases}{exp(-\\frac{[dist(i,j)]^2}{2\\theta^2})} & \\quad \\text{if } dist(i,j) \\leq κ \\\\ 0 & \\quad \\text{otherwise} \\end{cases}$$"
   ]
  },
  {
   "cell_type": "code",
   "execution_count": 109,
   "id": "d782e51c-3e61-47fa-9abf-0374b4ba02da",
   "metadata": {},
   "outputs": [],
   "source": [
    "def weight(i,j,theta=10,kappa=100):\n",
    "    return np.exp( -np.abs(dist(i,j))**2 / (2*theta**2) ) if dist(i,j) <= kappa else 0"
   ]
  },
  {
   "cell_type": "code",
   "execution_count": 110,
   "id": "985c912d-5894-4e9b-95b2-8c18b97e09fc",
   "metadata": {},
   "outputs": [],
   "source": [
    "W = np.array([[weight(i,j) for i in range(len(_df))] for j in range(len(_df))])"
   ]
  },
  {
   "cell_type": "code",
   "execution_count": 111,
   "id": "3f2ed686-8b1c-4958-b1ba-593d13968184",
   "metadata": {},
   "outputs": [
    {
     "data": {
      "text/plain": [
       "array([[1.00000000e+00, 0.00000000e+00, 0.00000000e+00, ...,\n",
       "        1.20783713e-16, 1.23355927e-08, 4.72126380e-17],\n",
       "       [0.00000000e+00, 1.00000000e+00, 7.86860671e-22, ...,\n",
       "        1.12413695e-16, 3.04951206e-09, 1.03131967e-16],\n",
       "       [0.00000000e+00, 7.86860671e-22, 1.00000000e+00, ...,\n",
       "        1.39055291e-02, 5.30939200e-14, 1.88878509e-02],\n",
       "       ...,\n",
       "       [1.20783713e-16, 1.12413695e-16, 1.39055291e-02, ...,\n",
       "        1.00000000e+00, 2.44062848e-06, 9.94026527e-01],\n",
       "       [1.23355927e-08, 3.04951206e-09, 5.30939200e-14, ...,\n",
       "        2.44062848e-06, 1.00000000e+00, 1.57119318e-06],\n",
       "       [4.72126380e-17, 1.03131967e-16, 1.88878509e-02, ...,\n",
       "        9.94026527e-01, 1.57119318e-06, 1.00000000e+00]])"
      ]
     },
     "execution_count": 111,
     "metadata": {},
     "output_type": "execute_result"
    }
   ],
   "source": [
    "W"
   ]
  },
  {
   "cell_type": "code",
   "execution_count": 112,
   "id": "5e8e3a5c-441c-4b77-b0e2-dde3f7560bc2",
   "metadata": {},
   "outputs": [],
   "source": [
    "D = np.diag(W.sum(axis=1))"
   ]
  },
  {
   "cell_type": "code",
   "execution_count": 113,
   "id": "36958841-d707-44de-8782-5be6eedad649",
   "metadata": {
    "tags": []
   },
   "outputs": [
    {
     "data": {
      "text/plain": [
       "array([[ 3.65998438,  0.        ,  0.        , ...,  0.        ,\n",
       "         0.        ,  0.        ],\n",
       "       [ 0.        , 31.59296441,  0.        , ...,  0.        ,\n",
       "         0.        ,  0.        ],\n",
       "       [ 0.        ,  0.        , 14.54828876, ...,  0.        ,\n",
       "         0.        ,  0.        ],\n",
       "       ...,\n",
       "       [ 0.        ,  0.        ,  0.        , ..., 56.79401824,\n",
       "         0.        ,  0.        ],\n",
       "       [ 0.        ,  0.        ,  0.        , ...,  0.        ,\n",
       "        41.43859957,  0.        ],\n",
       "       [ 0.        ,  0.        ,  0.        , ...,  0.        ,\n",
       "         0.        , 55.80133105]])"
      ]
     },
     "execution_count": 113,
     "metadata": {},
     "output_type": "execute_result"
    }
   ],
   "source": [
    "D"
   ]
  },
  {
   "cell_type": "code",
   "execution_count": 114,
   "id": "c294cd41-abbd-4860-9c8e-0dffffe0f911",
   "metadata": {},
   "outputs": [],
   "source": [
    "L = D - W"
   ]
  },
  {
   "cell_type": "code",
   "execution_count": 115,
   "id": "f3af58bb-7e16-4e34-b39a-73b7e35d7b23",
   "metadata": {},
   "outputs": [
    {
     "data": {
      "text/plain": [
       "array([[ 2.65998438e+00,  0.00000000e+00,  0.00000000e+00, ...,\n",
       "        -1.20783713e-16, -1.23355927e-08, -4.72126380e-17],\n",
       "       [ 0.00000000e+00,  3.05929644e+01, -7.86860671e-22, ...,\n",
       "        -1.12413695e-16, -3.04951206e-09, -1.03131967e-16],\n",
       "       [ 0.00000000e+00, -7.86860671e-22,  1.35482888e+01, ...,\n",
       "        -1.39055291e-02, -5.30939200e-14, -1.88878509e-02],\n",
       "       ...,\n",
       "       [-1.20783713e-16, -1.12413695e-16, -1.39055291e-02, ...,\n",
       "         5.57940182e+01, -2.44062848e-06, -9.94026527e-01],\n",
       "       [-1.23355927e-08, -3.04951206e-09, -5.30939200e-14, ...,\n",
       "        -2.44062848e-06,  4.04385996e+01, -1.57119318e-06],\n",
       "       [-4.72126380e-17, -1.03131967e-16, -1.88878509e-02, ...,\n",
       "        -9.94026527e-01, -1.57119318e-06,  5.48013310e+01]])"
      ]
     },
     "execution_count": 115,
     "metadata": {},
     "output_type": "execute_result"
    }
   ],
   "source": [
    "L"
   ]
  },
  {
   "cell_type": "markdown",
   "id": "16292bd0-c0b1-414c-961d-a14aef400748",
   "metadata": {},
   "source": [
    "고유값 분해"
   ]
  },
  {
   "cell_type": "code",
   "execution_count": 116,
   "id": "02700222-adeb-4888-9f11-25d5caf09574",
   "metadata": {},
   "outputs": [],
   "source": [
    "λ, Ψ = np.linalg.eig(L)"
   ]
  },
  {
   "cell_type": "code",
   "execution_count": 117,
   "id": "8f346fd8-ca40-4498-966f-40e6d4669c2f",
   "metadata": {},
   "outputs": [],
   "source": [
    "Λ = np.diag(λ)"
   ]
  },
  {
   "cell_type": "markdown",
   "id": "476a1500-d695-46d1-bee0-f93022747c67",
   "metadata": {
    "id": "0963828e-66d3-4b39-9575-30756dd7e168"
   },
   "source": [
    "Note that ${\\bf L} = {\\boldsymbol\\Psi} {\\boldsymbol\\Lambda} {\\boldsymbol\\Psi}^\\top$"
   ]
  },
  {
   "cell_type": "code",
   "execution_count": 118,
   "id": "7c73ad02-b17b-402d-b94b-6fd2a35495af",
   "metadata": {},
   "outputs": [
    {
     "data": {
      "text/plain": [
       "array([[ 2.65998438e+00,  8.16182639e-15, -3.82938962e-15, ...,\n",
       "        -1.40115829e-14, -1.23355860e-08, -1.39853675e-14],\n",
       "       [ 8.16475458e-15,  3.05929644e+01, -9.88434595e-15, ...,\n",
       "        -2.95865762e-14, -3.04930895e-09, -1.75873855e-14],\n",
       "       [-3.82895758e-15, -9.88541660e-15,  1.35482888e+01, ...,\n",
       "        -1.39055291e-02, -4.60764239e-14, -1.88878509e-02],\n",
       "       ...,\n",
       "       [-1.40133770e-14, -2.95729153e-14, -1.39055291e-02, ...,\n",
       "         5.57940182e+01, -2.44062895e-06, -9.94026527e-01],\n",
       "       [-1.23355860e-08, -3.04930896e-09, -4.60974574e-14, ...,\n",
       "        -2.44062895e-06,  4.04385996e+01, -1.57119480e-06],\n",
       "       [-1.39871497e-14, -1.76079854e-14, -1.88878509e-02, ...,\n",
       "        -9.94026527e-01, -1.57119480e-06,  5.48013310e+01]])"
      ]
     },
     "execution_count": 118,
     "metadata": {},
     "output_type": "execute_result"
    }
   ],
   "source": [
    "Ψ @ Λ @ Ψ.T"
   ]
  },
  {
   "cell_type": "markdown",
   "id": "3f145d76-148b-460b-8657-f4893d7554c3",
   "metadata": {},
   "source": [
    "---"
   ]
  },
  {
   "cell_type": "code",
   "execution_count": 176,
   "id": "5c1d7b73-1f9e-4e96-91ac-92b75272779b",
   "metadata": {},
   "outputs": [
    {
     "data": {
      "text/plain": [
       "0.9099783573076969"
      ]
     },
     "execution_count": 176,
     "metadata": {},
     "output_type": "execute_result"
    }
   ],
   "source": [
    "np.sum(np.argsort(λ)[:-250])/np.sum(np.argsort(λ))"
   ]
  },
  {
   "cell_type": "markdown",
   "id": "596e8233-52b2-422f-abda-c0d8e630e7aa",
   "metadata": {},
   "source": [
    "---"
   ]
  },
  {
   "cell_type": "markdown",
   "id": "242a7d97-2436-499e-a1ed-07d05a44cefd",
   "metadata": {},
   "source": [
    "$Z^\\top = X^\\top$"
   ]
  },
  {
   "cell_type": "code",
   "execution_count": 149,
   "id": "a64c5eec-66cd-4936-83a2-c8e932e47332",
   "metadata": {},
   "outputs": [
    {
     "data": {
      "text/plain": [
       "array([[-4.07880429e-12, -2.26626061e-12,  2.49329887e-11, ...,\n",
       "        -6.59776522e-17, -8.35299033e-19,  4.20976156e-19],\n",
       "       [-8.07310309e-07, -1.11282463e-06,  1.78019153e-06, ...,\n",
       "         5.18209603e-17, -4.62563760e-16, -3.07446730e-15],\n",
       "       [ 1.37312998e-09,  1.21827118e-09, -6.12751548e-09, ...,\n",
       "        -2.35239674e-16, -1.60769652e-16,  8.11153365e-16],\n",
       "       ...,\n",
       "       [-5.80945916e-07, -5.14115443e-07,  2.66705057e-06, ...,\n",
       "        -2.02769332e-16, -2.62739516e-16,  3.32624078e-15],\n",
       "       [-3.52685340e-06, -2.47455595e-06,  1.83394309e-05, ...,\n",
       "         1.43625429e-16, -1.17622069e-16,  5.42483134e-15],\n",
       "       [-5.39885978e-07, -4.78229394e-07,  2.47495723e-06, ...,\n",
       "        -4.75416329e-16, -6.44874219e-16,  2.39938950e-15]])"
      ]
     },
     "execution_count": 149,
     "metadata": {},
     "output_type": "execute_result"
    }
   ],
   "source": [
    "Ψ @ np.sqrt(Λ)"
   ]
  },
  {
   "cell_type": "markdown",
   "id": "a2b9f11c-24de-455f-9c0f-26d23159c809",
   "metadata": {},
   "source": [
    "$Z = X$"
   ]
  },
  {
   "cell_type": "code",
   "execution_count": 150,
   "id": "00507541-83a5-4be2-8f42-931181a6c0ac",
   "metadata": {},
   "outputs": [
    {
     "data": {
      "text/plain": [
       "array([[-4.07880429e-12, -8.07310309e-07,  1.37312998e-09, ...,\n",
       "        -5.80945916e-07, -3.52685340e-06, -5.39885978e-07],\n",
       "       [-2.26626061e-12, -1.11282463e-06,  1.21827118e-09, ...,\n",
       "        -5.14115443e-07, -2.47455595e-06, -4.78229394e-07],\n",
       "       [ 2.49329887e-11,  1.78019153e-06, -6.12751548e-09, ...,\n",
       "         2.66705057e-06,  1.83394309e-05,  2.47495723e-06],\n",
       "       ...,\n",
       "       [-6.59776522e-17,  5.18209603e-17, -2.35239674e-16, ...,\n",
       "        -2.02769332e-16,  1.43625429e-16, -4.75416329e-16],\n",
       "       [-8.35299033e-19, -4.62563760e-16, -1.60769652e-16, ...,\n",
       "        -2.62739516e-16, -1.17622069e-16, -6.44874219e-16],\n",
       "       [ 4.20976156e-19, -3.07446730e-15,  8.11153365e-16, ...,\n",
       "         3.32624078e-15,  5.42483134e-15,  2.39938950e-15]])"
      ]
     },
     "execution_count": 150,
     "metadata": {},
     "output_type": "execute_result"
    }
   ],
   "source": [
    "np.sqrt(Λ) @ Ψ.T"
   ]
  },
  {
   "cell_type": "code",
   "execution_count": 151,
   "id": "07dc2e5f-8a8e-4a81-8aaf-7a10a039d698",
   "metadata": {},
   "outputs": [
    {
     "data": {
      "text/plain": [
       "(915, 915)"
      ]
     },
     "execution_count": 151,
     "metadata": {},
     "output_type": "execute_result"
    }
   ],
   "source": [
    "_.shape"
   ]
  },
  {
   "cell_type": "markdown",
   "id": "15cec220-f943-4f02-a323-a5c1bbf73244",
   "metadata": {},
   "source": [
    "---"
   ]
  },
  {
   "cell_type": "markdown",
   "id": "5a308bef-fa31-4b42-888a-3c3891a856ee",
   "metadata": {},
   "source": [
    "푸리에"
   ]
  },
  {
   "cell_type": "code",
   "execution_count": 140,
   "id": "5b6626a1-db1e-480a-9630-06d95ffc3f82",
   "metadata": {},
   "outputs": [
    {
     "data": {
      "text/plain": [
       "[<matplotlib.lines.Line2D at 0x7fbec411cbe0>]"
      ]
     },
     "execution_count": 140,
     "metadata": {},
     "output_type": "execute_result"
    },
    {
     "data": {
      "image/png": "[encoded data removed]",
      "text/plain": [
       "<Figure size 432x288 with 1 Axes>"
      ]
     },
     "metadata": {
      "needs_background": "light"
     },
     "output_type": "display_data"
    }
   ],
   "source": [
    "fbar = np.abs(np.fft.fft(f))/len(f)\n",
    "plt.plot(fbar,'.')"
   ]
  },
  {
   "cell_type": "code",
   "execution_count": 141,
   "id": "99ad81bd-131b-4d23-a896-974aaf403405",
   "metadata": {},
   "outputs": [
    {
     "data": {
      "text/plain": [
       "5.902699453551913"
      ]
     },
     "execution_count": 141,
     "metadata": {},
     "output_type": "execute_result"
    }
   ],
   "source": [
    "fbar[0] "
   ]
  },
  {
   "cell_type": "code",
   "execution_count": 142,
   "id": "009f21c5-744d-45e2-8402-b6931e29bb6c",
   "metadata": {},
   "outputs": [
    {
     "data": {
      "text/plain": [
       "457.5"
      ]
     },
     "execution_count": 142,
     "metadata": {},
     "output_type": "execute_result"
    }
   ],
   "source": [
    "len(f)/2"
   ]
  },
  {
   "cell_type": "code",
   "execution_count": 143,
   "id": "9908d945-bab1-42a4-b94e-997e023105a0",
   "metadata": {},
   "outputs": [
    {
     "data": {
      "text/plain": [
       "[<matplotlib.lines.Line2D at 0x7fbe69f3d580>]"
      ]
     },
     "execution_count": 143,
     "metadata": {},
     "output_type": "execute_result"
    },
    {
     "data": {
      "image/png": "[encoded data removed]",
      "text/plain": [
       "<Figure size 432x288 with 1 Axes>"
      ]
     },
     "metadata": {
      "needs_background": "light"
     },
     "output_type": "display_data"
    }
   ],
   "source": [
    "fbar2=np.zeros(456)\n",
    "# fbar2[0] = fbar[0] \n",
    "fbar2[1:456] = 2*fbar[1:456]\n",
    "plt.plot(fbar2,'.')"
   ]
  },
  {
   "cell_type": "code",
   "execution_count": 131,
   "id": "65f467ea-053a-4e85-8cb0-43c724ca9e6f",
   "metadata": {},
   "outputs": [
    {
     "data": {
      "text/plain": [
       "array([0.        , 0.02623713, 0.02514991, 0.0329304 , 0.05149158,\n",
       "       0.03196891, 0.04722996, 0.01731475, 0.01969443, 0.00960423])"
      ]
     },
     "execution_count": 131,
     "metadata": {},
     "output_type": "execute_result"
    }
   ],
   "source": [
    "fbar2[:10]"
   ]
  },
  {
   "cell_type": "markdown",
   "id": "5f880f28-9e5a-4d91-a283-ec6b1674500a",
   "metadata": {},
   "source": [
    "---"
   ]
  },
  {
   "cell_type": "markdown",
   "id": "f31318c4-9f37-4260-8c0c-e7c61f1190f3",
   "metadata": {},
   "source": [
    "고유값 차이"
   ]
  },
  {
   "cell_type": "code",
   "execution_count": 123,
   "id": "ec681a60-b759-4d31-a7ba-3bd11b16c18b",
   "metadata": {},
   "outputs": [
    {
     "data": {
      "text/plain": [
       "[<matplotlib.lines.Line2D at 0x7fbe778b7640>]"
      ]
     },
     "execution_count": 123,
     "metadata": {},
     "output_type": "execute_result"
    },
    {
     "data": {
      "image/png": "[encoded data removed]",
      "text/plain": [
       "<Figure size 432x288 with 1 Axes>"
      ]
     },
     "metadata": {
      "needs_background": "light"
     },
     "output_type": "display_data"
    }
   ],
   "source": [
    "Gap = [np.abs(λ[i] - λ[i-1]) for i in range(len(_df))]\n",
    "plt.plot(np.argsort(Gap),'.')  "
   ]
  },
  {
   "cell_type": "markdown",
   "id": "c1605aa3-7f29-4aaa-89d3-b23b04ec8bd8",
   "metadata": {},
   "source": [
    "그래프"
   ]
  },
  {
   "cell_type": "code",
   "execution_count": 124,
   "id": "d0e6f1b7-2bbc-4310-98af-d6ca49cf7b71",
   "metadata": {},
   "outputs": [],
   "source": [
    "import networkx as nx"
   ]
  },
  {
   "cell_type": "code",
   "execution_count": 125,
   "id": "32f058c0-019f-4189-906a-5772ad45dd3f",
   "metadata": {},
   "outputs": [
    {
     "data": {
      "image/png": "[encoded data removed]",
      "text/plain": [
       "<Figure size 432x288 with 1 Axes>"
      ]
     },
     "metadata": {},
     "output_type": "display_data"
    }
   ],
   "source": [
    "nx.draw(nx.Graph(W))"
   ]
  },
  {
   "cell_type": "markdown",
   "id": "918976e1-6200-4e1f-90e8-58261ac97777",
   "metadata": {},
   "source": [
    "---"
   ]
  },
  {
   "cell_type": "code",
   "execution_count": 126,
   "id": "1097d2bc-bedb-4284-8145-9be0faf65fdb",
   "metadata": {},
   "outputs": [
    {
     "data": {
      "image/png": "[encoded data removed]",
      "text/plain": [
       "<Figure size 1152x1152 with 25 Axes>"
      ]
     },
     "metadata": {
      "needs_background": "light"
     },
     "output_type": "display_data"
    }
   ],
   "source": [
    "fig,ax =plt.subplots(5,5)\n",
    "k=0\n",
    "for i in range(5):\n",
    "    for j in range(5):\n",
    "        ax[i][j].plot(f @ np.outer(Ψ[:,k], Ψ[:,k]))\n",
    "        ax[i][j].set_ylim([-2,7])\n",
    "        ax[i][j].set_title(k)\n",
    "        k=k+1\n",
    "fig.set_figwidth(16)            \n",
    "fig.set_figheight(16)\n",
    "fig.tight_layout()        "
   ]
  },
  {
   "cell_type": "code",
   "execution_count": null,
   "id": "95a3b3d2-d5e4-4f29-94d7-76c304aa698e",
   "metadata": {},
   "outputs": [],
   "source": []
  },
  {
   "cell_type": "code",
   "execution_count": null,
   "id": "cda54f8a-594b-4bc1-b72b-eba6b8d1523c",
   "metadata": {},
   "outputs": [],
   "source": []
  },
  {
   "cell_type": "code",
   "execution_count": null,
   "id": "ca05c19a-5d7d-4936-8fe8-7e4b8acebf30",
   "metadata": {},
   "outputs": [],
   "source": []
  },
  {
   "cell_type": "code",
   "execution_count": null,
   "id": "a3b61456-75e2-4cc2-8197-6cdb82bf93c0",
   "metadata": {},
   "outputs": [],
   "source": []
  }
 ],
 "metadata": {
  "kernelspec": {
   "display_name": "Python 3 (ipykernel)",
   "language": "python",
   "name": "python3"
  },
  "language_info": {
   "codemirror_mode": {
    "name": "ipython",
    "version": 3
   },
   "file_extension": ".py",
   "mimetype": "text/x-python",
   "name": "python",
   "nbconvert_exporter": "python",
   "pygments_lexer": "ipython3",
   "version": "3.8.12"
  }
 },
 "nbformat": 4,
 "nbformat_minor": 5
}
