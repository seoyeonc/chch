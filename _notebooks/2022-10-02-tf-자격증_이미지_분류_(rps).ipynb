{
 "cells": [
  {
   "cell_type": "markdown",
   "metadata": {
    "tags": []
   },
   "source": [
    "# TensorFlow 2.0 Category 3\n",
    ">  Convolution Neural Network (합성곱 신경망)를 활용한 이미지 분류 (Image Classification)\n",
    "\n",
    "- toc:true\n",
    "- branch: master\n",
    "- badges: true\n",
    "- comments: false\n",
    "- author: 최서연\n",
    "- categories: [TensorFlow]"
   ]
  },
  {
   "cell_type": "markdown",
   "metadata": {},
   "source": [
    "---"
   ]
  },
  {
   "cell_type": "markdown",
   "metadata": {},
   "source": [
    "3번 문제 이미지\n",
    "4 종류\n",
    "type a (2개)\n",
    "- image data generater\n",
    "type b (2개)\n",
    "- tensorflow image data set\n",
    "\n",
    "type a(rps)\n",
    "image augmentation(이미지 변형) 다양한 케이스를 학습하도록 변형해주는 것.\n",
    "- imageDataGenerator\n",
    "- flow_from_directory 이미지를 jpg등 파일로\n",
    "\n",
    "class_mode\n",
    "categorical-softmax\n",
    "binary-sigmoid\n",
    "\n",
    "Concolution Neural Network합성곱 신경망\n",
    "- localization(지역 특성)\n",
    "\n",
    "150,150,3-> 3은 컬러라는 뜻RGB\n",
    "\n",
    "dense layer하려면 1d가 필요해 선형이니까\n",
    "\n",
    "dropout 과대적합 방지"
   ]
  },
  {
   "cell_type": "markdown",
   "metadata": {},
   "source": [
    "---"
   ]
  },
  {
   "cell_type": "markdown",
   "metadata": {
    "id": "iRSKbgK8PRs5"
   },
   "source": [
    "## 확인"
   ]
  },
  {
   "cell_type": "markdown",
   "metadata": {
    "id": "Fc4QcKvRPSj-"
   },
   "source": [
    "1. GPU 옵션 켜져 있는지 확인할 것!!! (수정 - 노트설정 - 하드웨어설정 (GPU))"
   ]
  },
  {
   "cell_type": "markdown",
   "metadata": {
    "id": "JNPjnA62PXVn"
   },
   "source": [
    "## 순서"
   ]
  },
  {
   "cell_type": "markdown",
   "metadata": {
    "id": "T463L0aPPX_n"
   },
   "source": [
    "1. **import**: 필요한 모듈 import\n",
    "2. **전처리**: 학습에 필요한 데이터 전처리를 수행합니다.\n",
    "3. **모델링(model)**: 모델을 정의합니다.\n",
    "4. **컴파일(compile)**: 모델을 생성합니다.\n",
    "5. **학습 (fit)**: 모델을 학습시킵니다."
   ]
  },
  {
   "cell_type": "markdown",
   "metadata": {
    "id": "W1Hj9c1NPbPu"
   },
   "source": [
    "## 문제"
   ]
  },
  {
   "cell_type": "markdown",
   "metadata": {
    "id": "RcvEYUuhPb3f"
   },
   "source": [
    "For this task you will build a classifier for Rock-Paper-Scissors \n",
    "based on the rps dataset.\n",
    "\n",
    "IMPORTANT: Your final layer should be as shown, do not change the\n",
    "provided code, or the tests may fail\n",
    "\n",
    "IMPORTANT: Images will be tested as 150x150 with 3 bytes of color depth\n",
    "So ensure that your input layer is designed accordingly, or the tests\n",
    "may fail. \n",
    "\n",
    "NOTE THAT THIS IS UNLABELLED DATA. \n",
    "You can use the ImageDataGenerator to automatically label it\n",
    "and we have provided some starter code.\n",
    "\n",
    "-------------------------------\n",
    "\n",
    "이 작업에서는 Rock-Paper-Scissors에 대한 분류기를 작성합니다.\n",
    "rps 데이터 셋을 기반으로합니다.\n",
    "\n",
    "중요 : 최종 레이어는 그림과 같아야합니다.\n",
    "\n",
    "중요 : 이미지는 3 바이트 150x150의 컬러사진으로 테스트됩니다.\n",
    "따라서 입력 레이어가 그에 따라 설계되었거나 테스트되었는지 확인하십시오.\n",
    "\n",
    "ImageDataGenerator를 사용하여 자동으로 레이블을 지정할 수 있습니다."
   ]
  },
  {
   "cell_type": "markdown",
   "metadata": {
    "id": "7C3ewm9XQHgr"
   },
   "source": [
    "-----------------------------------\n"
   ]
  },
  {
   "cell_type": "markdown",
   "metadata": {
    "id": "U6JA3oYDQJno"
   },
   "source": [
    "# 실습"
   ]
  },
  {
   "cell_type": "markdown",
   "metadata": {
    "id": "TwblClY4QLkb"
   },
   "source": [
    "## STEP 1. import "
   ]
  },
  {
   "cell_type": "code",
   "execution_count": 2,
   "metadata": {
    "id": "_RAc5nAU1LkA"
   },
   "outputs": [],
   "source": [
    "import urllib.request\n",
    "import zipfile\n",
    "import numpy as np\n",
    "from IPython.display import Image\n",
    "\n",
    "import tensorflow as tf\n",
    "from tensorflow.keras.layers import Conv2D, MaxPooling2D, Flatten, Dropout, Dense\n",
    "from tensorflow.keras.models import Sequential\n",
    "from tensorflow.keras.preprocessing.image import ImageDataGenerator\n",
    "from tensorflow.keras.callbacks import ModelCheckpoint"
   ]
  },
  {
   "cell_type": "markdown",
   "metadata": {
    "id": "gzV-1NNX1LkV"
   },
   "source": [
    "## STEP 1. Load Dataset"
   ]
  },
  {
   "cell_type": "markdown",
   "metadata": {
    "id": "eOOsLCAj1LkW"
   },
   "source": [
    "가위바위보에 대한 손의 사진을 가지고 `가위`인지, `바위`인지, `보자기`인지 분류하는 `classification` 문제입니다."
   ]
  },
  {
   "cell_type": "code",
   "execution_count": 3,
   "metadata": {
    "id": "5g1dTl_q1LkX"
   },
   "outputs": [],
   "source": [
    "url = 'https://storage.googleapis.com/download.tensorflow.org/data/rps.zip'\n",
    "urllib.request.urlretrieve(url, 'rps.zip')\n",
    "local_zip = 'rps.zip'\n",
    "zip_ref = zipfile.ZipFile(local_zip, 'r')\n",
    "zip_ref.extractall('tmp/')\n",
    "zip_ref.close()"
   ]
  },
  {
   "cell_type": "markdown",
   "metadata": {
    "id": "QWULnRzA1Lkd"
   },
   "source": [
    "## STEP 2. 전처리 (ImageDataGenerator)"
   ]
  },
  {
   "cell_type": "markdown",
   "metadata": {
    "id": "9YoiAzkbQWAO"
   },
   "source": [
    "데이터셋의 경로를 지정해 주세요 (root 폴더의 경로를 지정하여야 합니다.)\n"
   ]
  },
  {
   "cell_type": "markdown",
   "metadata": {
    "id": "R3HJbL5XSDlN"
   },
   "source": [
    "[코드]"
   ]
  },
  {
   "cell_type": "code",
   "execution_count": 4,
   "metadata": {
    "id": "fFJb6A9z1Lkd"
   },
   "outputs": [],
   "source": [
    "TRAINING_DIR = \"tmp/rps/\""
   ]
  },
  {
   "cell_type": "markdown",
   "metadata": {
    "id": "IjKarwpkQoEr"
   },
   "source": [
    "`ImageDataGenerator`를 정의합니다.\n",
    "\n",
    "다음의 옵션 값들로 Image Aumentation(이미지 변형) 옵션을 적절히 조절해 주세요\n",
    "\n",
    "* `rescale`: 이미지의 픽셀 값을 조정\n",
    "* `rotation_range`: 이미지 회전\n",
    "* `width_shift_range`: 가로 방향으로 이동\n",
    "* `height_shift_range`: 세로 방향으로 이동\n",
    "* `shear_range`: 이미지 굴절\n",
    "* `zoom_range`: 이미지 확대\n",
    "* `horizontal_flip`: 횡 방향으로 이미지 반전\n",
    "* `fill_mode`: 이미지를 이동이나 굴절시켰을 때 빈 픽셀 값에 대하여 값을 채우는 방식\n",
    "* `validation_split`: validation set의 구성 비율"
   ]
  },
  {
   "cell_type": "markdown",
   "metadata": {
    "id": "DGslGzIrSE9U"
   },
   "source": [
    "[코드]"
   ]
  },
  {
   "cell_type": "code",
   "execution_count": 15,
   "metadata": {
    "id": "KemaTeRd1Lkp"
   },
   "outputs": [],
   "source": [
    "training_datagen = ImageDataGenerator(\n",
    "    rescale=1. / 255,\n",
    "    rotation_range = 20,\n",
    "    width_shift_range = 0.1,\n",
    "    height_shift_range = 0.1,\n",
    "    shear_range=0.3,\n",
    "    zoom_range = 0.3,\n",
    "    horizontal_flip = True,\n",
    "    fill_mode = 'nearest',\n",
    "    validation_split = 0.2\n",
    "    # 위의 옵션 값들을 보고 적절히 대입하여 줍니다.\n",
    "    )"
   ]
  },
  {
   "cell_type": "markdown",
   "metadata": {
    "id": "WZXWPiKY1Lkt"
   },
   "source": [
    "ImageDataGenerator를 잘 만들어 주었다면, `flow_from_directory`로 이미지를 어떻게 공급해 줄 것인가를 지정해 주어야합니다.\n",
    "\n",
    "* train / validation set 전용 generator를 별도로 정의합니다.\n",
    "* `batch_size`를 정의합니다 (128)\n",
    "* `target_size`를 정의합니다. (150 x 150). 이미지를 알아서 타겟 사이즈 만큼 잘라내어 공급합니다.\n",
    "* `class_mode`는 3개 이상의 클래스인 경우 'categorical' 이진 분류의 경우 `binary`를 지정합니다.\n",
    "* `subset`을 지정합니다. (training / validation)\n"
   ]
  },
  {
   "cell_type": "markdown",
   "metadata": {
    "id": "-aaAbYk4RqBd"
   },
   "source": [
    "**training_generator**에 대한 `from_from_directory`를 정의합니다.\n",
    "\n",
    "* 2016 개의 이미지가 출력되어야 합니다."
   ]
  },
  {
   "cell_type": "markdown",
   "metadata": {
    "id": "LiYxxiZXSGI_"
   },
   "source": [
    "[코드]"
   ]
  },
  {
   "cell_type": "code",
   "execution_count": 20,
   "metadata": {
    "colab": {
     "base_uri": "https://localhost:8080/",
     "height": 35
    },
    "id": "y4gbMm121Lk0",
    "outputId": "4c63fc34-604a-4328-eb88-db186844b8ce"
   },
   "outputs": [
    {
     "name": "stdout",
     "output_type": "stream",
     "text": [
      "Found 2018 images belonging to 3 classes.\n"
     ]
    }
   ],
   "source": [
    "training_generator = training_datagen.flow_from_directory(TRAINING_DIR, \n",
    "                                                          batch_size=128,\n",
    "                                                          target_size = (150,150),\n",
    "                                                          class_mode = 'categorical',                                                          \n",
    "                                                          subset='training',\n",
    "                                                         )"
   ]
  },
  {
   "cell_type": "markdown",
   "metadata": {
    "id": "r89m3meDRx8k"
   },
   "source": [
    "**validation_generator**에 대한 `from_from_directory`를 정의합니다.\n",
    "\n",
    "* 504 개의 이미지가 출력되어야 합니다."
   ]
  },
  {
   "cell_type": "markdown",
   "metadata": {
    "id": "6Wdicm3XSHT9"
   },
   "source": [
    "[코드]"
   ]
  },
  {
   "cell_type": "markdown",
   "metadata": {},
   "source": [
    "subset은 validation split할 때만 사용"
   ]
  },
  {
   "cell_type": "code",
   "execution_count": 21,
   "metadata": {
    "colab": {
     "base_uri": "https://localhost:8080/",
     "height": 35
    },
    "id": "_bAYGsIm1aZG",
    "outputId": "34520f47-05e1-414d-f45c-d29184286733"
   },
   "outputs": [
    {
     "name": "stdout",
     "output_type": "stream",
     "text": [
      "Found 504 images belonging to 3 classes.\n"
     ]
    }
   ],
   "source": [
    "validation_generator = training_datagen.flow_from_directory(TRAINING_DIR, \n",
    "                                                              batch_size=128,\n",
    "                                                              target_size = (150,150),\n",
    "                                                              class_mode = 'categorical',   \n",
    "                                                            subset='validation', \n",
    "                                                            )"
   ]
  },
  {
   "cell_type": "markdown",
   "metadata": {
    "id": "MKi8C1eoSB52",
    "tags": []
   },
   "source": [
    "## STEP 3. 모델 정의 (Sequential)"
   ]
  },
  {
   "cell_type": "code",
   "execution_count": null,
   "metadata": {
    "id": "Iwj8Q1ZR1Llt"
   },
   "outputs": [],
   "source": [
    "model = Sequential([\n",
    "    # Conv2D, MaxPooling2D 조합으로 층을 쌓습니다. 첫번째 입력층의 input_shape은 (150, 150, 3)으로 지정합니다.\n",
    "        \n",
    "\n",
    "\n",
    "\n",
    "    # 2D -> 1D로 변환을 위하여 Flatten 합니다.\n",
    "\n",
    "\n",
    "\n",
    "    # 과적합 방지를 위하여 Dropout을 적용합니다.\n",
    "\n",
    "\n",
    "    # Dense\n",
    "\n",
    "\n",
    "    # Classification을 위한 Softmax \n",
    "    # 출력층의 갯수는 클래스의 갯수와 동일하게 맞춰줍니다 (3개), activation도 잊지마세요!\n",
    "\n",
    "])"
   ]
  },
  {
   "cell_type": "code",
   "execution_count": null,
   "metadata": {
    "id": "Pw_G-lkR1Llv"
   },
   "outputs": [],
   "source": [
    "model.summary()"
   ]
  },
  {
   "cell_type": "markdown",
   "metadata": {
    "id": "4NhjbLsU1Ll0"
   },
   "source": [
    "## STEP 4. 컴파일 (compile)"
   ]
  },
  {
   "cell_type": "markdown",
   "metadata": {
    "id": "cdjO-SoLSohD"
   },
   "source": [
    "1. `optimizer`는 가장 최적화가 잘되는 알고리즘인 'adam'을 사용합니다.\n",
    "2. `loss`는 무엇을 지정하면 좋을까요? (`categorical_crossentropy` / `sparse_categorical_crossentropy`)\n",
    "3. `metrics`를 'acc' 혹은 'accuracy'로 지정하면, 학습시 정확도를 모니터링 할 수 있습니다."
   ]
  },
  {
   "cell_type": "code",
   "execution_count": null,
   "metadata": {
    "id": "yzw3sIaB1Ll0"
   },
   "outputs": [],
   "source": [
    "model.compile(                                          )"
   ]
  },
  {
   "cell_type": "markdown",
   "metadata": {
    "id": "yJ0gsuoqSv7z"
   },
   "source": [
    "## STEP 5. ModelCheckpoint"
   ]
  },
  {
   "cell_type": "markdown",
   "metadata": {
    "id": "oXHmDZ2aSx4O"
   },
   "source": [
    "`val_loss` 기준으로 epoch 마다 최적의 모델을 저장하기 위하여, ModelCheckpoint를 만듭니다.\n",
    "* `checkpoint_path`는 모델이 저장될 파일 명을 설정합니다.\n",
    "* `ModelCheckpoint`을 선언하고, 적절한 옵션 값을 지정합니다."
   ]
  },
  {
   "cell_type": "markdown",
   "metadata": {
    "id": "s1i6HUSiSzbL"
   },
   "source": [
    "[코드]"
   ]
  },
  {
   "cell_type": "code",
   "execution_count": null,
   "metadata": {
    "id": "ogAVTqJAS0um"
   },
   "outputs": [],
   "source": [
    "checkpoint_path = \n",
    "checkpoint = "
   ]
  },
  {
   "cell_type": "markdown",
   "metadata": {
    "id": "820Nfvw81Ll5"
   },
   "source": [
    "## STEP 6. 학습 (fit)"
   ]
  },
  {
   "cell_type": "code",
   "execution_count": null,
   "metadata": {
    "id": "Ifj14vP71LmA"
   },
   "outputs": [],
   "source": [
    "model.fit(\n",
    "    \n",
    "    \n",
    "          )"
   ]
  },
  {
   "cell_type": "markdown",
   "metadata": {
    "id": "shzhTOjAninH"
   },
   "source": [
    "## STEP 7. 학습 완료 후 Load Weights (ModelCheckpoint)"
   ]
  },
  {
   "cell_type": "markdown",
   "metadata": {
    "id": "kLqb_6XrMvdq"
   },
   "source": [
    "학습이 완료된 후에는 반드시 `load_weights`를 해주어야 합니다.\n",
    "\n",
    "그렇지 않으면, 열심히 ModelCheckpoint를 만든 의미가 없습니다."
   ]
  },
  {
   "cell_type": "markdown",
   "metadata": {
    "id": "jcXHQ_pNM_zA"
   },
   "source": [
    "[코드]"
   ]
  },
  {
   "cell_type": "code",
   "execution_count": null,
   "metadata": {
    "id": "4jO1ucZ9ninH"
   },
   "outputs": [],
   "source": []
  }
 ],
 "metadata": {
  "accelerator": "GPU",
  "colab": {
   "collapsed_sections": [],
   "provenance": []
  },
  "kernelspec": {
   "display_name": "Python 3 (ipykernel)",
   "language": "python",
   "name": "python3"
  },
  "language_info": {
   "codemirror_mode": {
    "name": "ipython",
    "version": 3
   },
   "file_extension": ".py",
   "mimetype": "text/x-python",
   "name": "python",
   "nbconvert_exporter": "python",
   "pygments_lexer": "ipython3",
   "version": "3.10.0"
  }
 },
 "nbformat": 4,
 "nbformat_minor": 4
}
