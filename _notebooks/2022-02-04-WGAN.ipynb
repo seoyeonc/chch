{
 "cells": [
  {
   "cell_type": "markdown",
   "id": "a327a00e-3d5a-4562-86ad-3bf83eb54fe4",
   "metadata": {
    "id": "d44ba9bc-ebf3-49d8-b2db-9d49bf1bec22",
    "tags": []
   },
   "source": [
    "# Wasserstein GAN\n",
    "> Martin Arjovsky(Courant Institute of Mathematical Sciences), Soumith Chintala(Facebook AI Research), and L´eon Bottou1(Courant Institute of Mathematical Sciences, Facebook AI Research)\n",
    "\n",
    "- toc:true\n",
    "- branch: master\n",
    "- badges: false\n",
    "- comments: false \n",
    "- author: 최서연\n",
    "- categories: [Wasserstein GAN, GAN]"
   ]
  },
  {
   "cell_type": "markdown",
   "id": "0d24ed9b-b50c-4ca2-bcae-c57a33e17432",
   "metadata": {},
   "source": [
    "ref: https://arxiv.org/pdf/1701.07875.pdf"
   ]
  }
 ],
 "metadata": {
  "kernelspec": {
   "display_name": "Python 3 (ipykernel)",
   "language": "python",
   "name": "python3"
  },
  "language_info": {
   "codemirror_mode": {
    "name": "ipython",
    "version": 3
   },
   "file_extension": ".py",
   "mimetype": "text/x-python",
   "name": "python",
   "nbconvert_exporter": "python",
   "pygments_lexer": "ipython3",
   "version": "3.8.12"
  }
 },
 "nbformat": 4,
 "nbformat_minor": 5
}
