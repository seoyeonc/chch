{
 "cells": [
  {
   "cell_type": "markdown",
   "id": "3d85086e-4a5f-49be-99b4-87379041e15d",
   "metadata": {
    "id": "f3553b32-b994-44a7-baea-e85d57f2ce34",
    "tags": []
   },
   "source": [
    "# 자율주행차에서 트롤리의 딜레마(MIT)\n",
    "> Trolley Dilemma\n",
    "\n",
    "- toc:true\n",
    "- branch: master\n",
    "- badges: true\n",
    "- comments: false\n",
    "- author: 최서연\n",
    "- categories: [Trolley Dilemma, 자율주행차]"
   ]
  },
  {
   "cell_type": "markdown",
   "id": "5b56ee34-baed-4469-8308-e4e2cc3ab8e4",
   "metadata": {},
   "source": [
    "> ref: https://www.moralmachine.net/"
   ]
  },
  {
   "cell_type": "markdown",
   "id": "75fe528a-9534-4e89-b4d9-7f78be9a71e5",
   "metadata": {},
   "source": [
    "> youtube: https://youtu.be/XCO8ET66xE4"
   ]
  },
  {
   "cell_type": "markdown",
   "id": "28102eb4-2785-4098-83e1-46a8298632ef",
   "metadata": {
    "tags": []
   },
   "source": [
    "### AI의 윤리적인 문제를 다룬 MIT에서 발표한 재밌는 결과"
   ]
  },
  {
   "cell_type": "markdown",
   "id": "aadff9df-68f8-4de7-86a9-56047800bbcc",
   "metadata": {},
   "source": [
    "가정, 빠른 속도의 차를 타고 있는데 차 안에는 세명이 있다, 행인도 3명이 있다. 행인은 노인이며, 차 안에는 젊은 사람이 타고 있다. 행인을 치고가거나 차가 낭떠러지에 떨어지는 두 가지 경우밖에 없다면, 어떤 식으로 AI 가 반응해야 올바른 결정이냐? 이 결과가 나라마다 다르다.\n",
    "- 노인을 구해야 한다.\n",
    "    - 1위 대만 2위 중국 3위 한국 4위 일본\n",
    "- 노인이 희생하더라도 치고 지나가야 한다.\n",
    "    - 1위 프랑스 2위 그리스 3위 캐나다 4위 영국"
   ]
  },
  {
   "cell_type": "markdown",
   "id": "25e65054-d347-4014-9bee-10b5f04547cf",
   "metadata": {},
   "source": [
    "빠른 속도의 차를 타고 있는데 차 안에는 세명이 있다, 행인도 3명이 있다. 행인을 치고가거나 차가 낭떠러지에 떨어지는 두 가지 경우밖에 없다면, 어떤 식으로 AI 가 반응해야 올바른 결정이냐?\n",
    "- 길 건너가는 사람 지켜야 한다, 내가 죽더라도\n",
    "    - 1위 일본 2위 노르웨이 3위 싱가폴 4위 덴마크 5위 폴란드\n",
    "- 행인을 치고 가야 한다.\n",
    "    - 1위 중국 2위 에디오피이 3위 대만 4위 프랑스"
   ]
  },
  {
   "cell_type": "markdown",
   "id": "921da521-0ba9-4012-a9f3-c7222c120f0f",
   "metadata": {},
   "source": [
    "차가 달리는데 행인이 5명이 있다. 계속 달리면 5명이 죽는데 차를 꺾으면 5명을 살리고 엉뚱한 1명이 죽는다.차를 꺾어야 하느냐? 아니냐?\n",
    "- 차를 돌리더라도 엉뚱한 사람을 살리는 것이 중요하다.희생자 줄이는게 중요하다\n",
    "    - 1위 프랑스 2위 이스라엘 3위 영국 4위 캐나다 5위 미국\n",
    "- 억울한 죽음은 안 된다. 차를 돌리지 말아야 한다.\n",
    "    - 1위 일본 2위 대만 3위 중국 4위 한국"
   ]
  },
  {
   "cell_type": "markdown",
   "id": "9bf253a9-977c-44e3-9676-d88f953c589f",
   "metadata": {},
   "source": [
    "- 나라마다 윤리적 관점이 달라지면, 어느 나라에서 자율주행차를 사느냐에 따라 어떤 사람이 죽을지 달라진다는 것일까,\n",
    "- 인공지능의 윤리에 답은 없는 것 같다. 사회적 합의가 중요한 시점."
   ]
  },
  {
   "cell_type": "markdown",
   "id": "43ef2018-a7b1-4359-baf7-8b3b4f3aa1af",
   "metadata": {},
   "source": [
    "ref: https://www.mit.edu/~amini/pubs/pdf/learning-in-simulation-vista.pdf"
   ]
  }
 ],
 "metadata": {
  "kernelspec": {
   "display_name": "Python 3",
   "language": "python",
   "name": "python3"
  },
  "language_info": {
   "codemirror_mode": {
    "name": "ipython",
    "version": 3
   },
   "file_extension": ".py",
   "mimetype": "text/x-python",
   "name": "python",
   "nbconvert_exporter": "python",
   "pygments_lexer": "ipython3",
   "version": "3.8.12"
  }
 },
 "nbformat": 4,
 "nbformat_minor": 5
}
