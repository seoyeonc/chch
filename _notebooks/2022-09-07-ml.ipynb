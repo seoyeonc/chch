{
 "cells": [
  {
   "cell_type": "markdown",
   "id": "c71eeda5-37c9-48c6-a503-92d3b2c900c7",
   "metadata": {
    "id": "c71eeda5-37c9-48c6-a503-92d3b2c900c7"
   },
   "source": [
    "# 기계학습특강 "
   ]
  },
  {
   "cell_type": "markdown",
   "id": "242a5488-b52c-4762-af61-2dec54edc5e0",
   "metadata": {
    "id": "242a5488-b52c-4762-af61-2dec54edc5e0"
   },
   "source": [
    "### 딥러닝 프레임워크 "
   ]
  },
  {
   "cell_type": "markdown",
   "id": "602384da-f388-47ed-8916-9e130d5a2cb2",
   "metadata": {
    "id": "602384da-f388-47ed-8916-9e130d5a2cb2"
   },
   "source": [
    "딥러닝 슈퍼스타: 힌튼, 얀르쿤, 요수아 벤지오, 응 "
   ]
  },
  {
   "cell_type": "markdown",
   "id": "4e31eeee-16c0-4562-881d-ca76c04829e6",
   "metadata": {
    "id": "4e31eeee-16c0-4562-881d-ca76c04829e6"
   },
   "source": [
    "요수아벤지오가 티아노를 만들었음. "
   ]
  },
  {
   "cell_type": "markdown",
   "id": "497c9892-d64b-4677-852b-8b32cfad678f",
   "metadata": {
    "id": "497c9892-d64b-4677-852b-8b32cfad678f"
   },
   "source": [
    "- 2010 티아노 (요수아벤지오)\n",
    "- 2013 caffe \n",
    "- 2015 체이너\n",
    "- 2015 텐서플로우 (구글)\n",
    "- 2015 케라스 (프랑소와 숄레)\n",
    "- 2016 파이토치 (페이스북)"
   ]
  },
  {
   "cell_type": "markdown",
   "id": "164587a5-54e0-435e-b17b-58d463b75cba",
   "metadata": {
    "id": "164587a5-54e0-435e-b17b-58d463b75cba"
   },
   "source": [
    "2017 티아노 개발 중지 선언 \n",
    "- 사실 개인 개발자나 대학연구팀이 구글과 메타(페이스북)을 이기는 건 불가능\n",
    "- 사실상 텐서플로우와 파이토치가 양분해야하는게 맞는데? \n",
    "- 케라스가 안죽어.. "
   ]
  },
  {
   "cell_type": "markdown",
   "id": "cdf22166-8309-425f-b8f0-47e26f59ff58",
   "metadata": {
    "id": "cdf22166-8309-425f-b8f0-47e26f59ff58"
   },
   "source": [
    "### 케라스의 시대"
   ]
  },
  {
   "cell_type": "markdown",
   "id": "2399b62f-e770-4546-86ec-c6fbab29b141",
   "metadata": {
    "id": "2399b62f-e770-4546-86ec-c6fbab29b141"
   },
   "source": [
    "케라스의 시대가 왔다 왜?? 쓰기가 쉬워요.."
   ]
  },
  {
   "cell_type": "markdown",
   "id": "f70d6456-e6b6-4e7b-8f3c-f57d01831005",
   "metadata": {
    "id": "f70d6456-e6b6-4e7b-8f3c-f57d01831005"
   },
   "source": [
    "누가 쓰기쉽냐 \n",
    "\n",
    "(1) 비 컴퓨터공학 출신\n",
    "\n",
    "(2) 딥러닝의 딥도 모르는 사람 \n",
    "\n",
    "--> 인공지능구현을 거의 엑셀다루는 수준으로 내림.. \n",
    "\n",
    "--> 잘 모르겠지만 이렇게 이미지 넣으면 개 고양이 구분해줍니다!"
   ]
  },
  {
   "cell_type": "markdown",
   "id": "542081d9-69c9-472d-83ba-e5e3baa02061",
   "metadata": {
    "id": "542081d9-69c9-472d-83ba-e5e3baa02061"
   },
   "source": [
    "다른 언어는 어떠냐 "
   ]
  },
  {
   "cell_type": "markdown",
   "id": "229aa3ee-6917-4be9-9ba5-d3c6b8c89e9c",
   "metadata": {
    "id": "229aa3ee-6917-4be9-9ba5-d3c6b8c89e9c"
   },
   "source": [
    "- 텐서플로우: 이건 진짜 못된 언어임 (높은 수준의 파이썬 숙련도가 필요, 컴공위주로 만들어졌음)\n",
    "- 파이토치: 프로그래밍 숙련도는 높지 않은데, 딥러닝의 알고리즘이 머리속에 있어야 함 "
   ]
  },
  {
   "cell_type": "markdown",
   "id": "f03f4688-c614-492a-bf4f-022092cd1829",
   "metadata": {
    "id": "f03f4688-c614-492a-bf4f-022092cd1829"
   },
   "source": [
    "케라스가 압도.. "
   ]
  },
  {
   "cell_type": "markdown",
   "id": "51c57a9f-3793-4040-a070-9af18c9b4ab2",
   "metadata": {
    "id": "51c57a9f-3793-4040-a070-9af18c9b4ab2"
   },
   "source": [
    "결말: 구글이 케라스를 삽니다. "
   ]
  },
  {
   "cell_type": "markdown",
   "id": "4223d3d5-2faa-45ea-8f3a-c9d7ef7ff474",
   "metadata": {
    "id": "4223d3d5-2faa-45ea-8f3a-c9d7ef7ff474"
   },
   "source": [
    "\n",
    "### 케라스와 파이토치의 시대 "
   ]
  },
  {
   "cell_type": "markdown",
   "id": "258dddb9-8aac-446f-beb1-81161fa260d2",
   "metadata": {
    "id": "258dddb9-8aac-446f-beb1-81161fa260d2"
   },
   "source": [
    "그런데 지금은 파이토치랑 케라스(텐서플로우)가 비등비등해요, \n",
    "\n",
    "그런데 점점 파이토치를 쓰는 추세 왜? "
   ]
  },
  {
   "cell_type": "markdown",
   "id": "4b7dd98d-2f29-4296-afa9-c0f9b2274df7",
   "metadata": {
    "id": "4b7dd98d-2f29-4296-afa9-c0f9b2274df7"
   },
   "source": [
    "- 나도 잘 모르는데.. "
   ]
  },
  {
   "cell_type": "code",
   "execution_count": null,
   "id": "522733f7-836a-4fe4-a947-50e19a52246d",
   "metadata": {
    "id": "522733f7-836a-4fe4-a947-50e19a52246d"
   },
   "outputs": [],
   "source": []
  }
 ],
 "metadata": {
  "colab": {
   "provenance": []
  },
  "kernelspec": {
   "display_name": "Python 3 (ipykernel)",
   "language": "python",
   "name": "python3"
  },
  "language_info": {
   "codemirror_mode": {
    "name": "ipython",
    "version": 3
   },
   "file_extension": ".py",
   "mimetype": "text/x-python",
   "name": "python",
   "nbconvert_exporter": "python",
   "pygments_lexer": "ipython3",
   "version": "3.8.12"
  }
 },
 "nbformat": 4,
 "nbformat_minor": 5
}
