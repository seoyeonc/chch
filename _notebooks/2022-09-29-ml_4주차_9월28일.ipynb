{
 "cells": [
  {
   "cell_type": "markdown",
   "id": "5f6bbbc1-1678-473a-8520-cec311b1ebee",
   "metadata": {
    "tags": []
   },
   "source": [
    "# 기계학습 특강 (4주차) 9월28일 \n",
    "> 딥러닝의 기초 - 회귀분석(2)--step1~4, step1의 다른표현, step4의 다른표현, 로지스틱 intro \n",
    "\n",
    "- toc:true\n",
    "- branch: master\n",
    "- badges: true\n",
    "- comments: false\n",
    "- author: 최서연\n",
    "- categories: [Special Topics in Machine Learning]"
   ]
  },
  {
   "cell_type": "markdown",
   "id": "e8245766-791f-4393-a87e-14c158bf55b7",
   "metadata": {
    "id": "e8245766-791f-4393-a87e-14c158bf55b7"
   },
   "source": [
    "## imports"
   ]
  },
  {
   "cell_type": "code",
   "execution_count": 213,
   "id": "c929aede-8fe2-48a0-9e0f-c72322d15795",
   "metadata": {
    "id": "c929aede-8fe2-48a0-9e0f-c72322d15795"
   },
   "outputs": [],
   "source": [
    "import numpy as np\n",
    "import matplotlib.pyplot as plt \n",
    "import pandas as pd\n",
    "import torch"
   ]
  },
  {
   "cell_type": "markdown",
   "id": "6fd69034-f065-4579-9fd3-fda959d2c372",
   "metadata": {
    "id": "6fd69034-f065-4579-9fd3-fda959d2c372"
   },
   "source": [
    "## numpy, torch (선택학습)"
   ]
  },
  {
   "cell_type": "markdown",
   "id": "090c4eac-4251-4d12-b879-cf4e8c42dbf2",
   "metadata": {
    "id": "090c4eac-4251-4d12-b879-cf4e8c42dbf2"
   },
   "source": [
    "### numpy, torch는 엄청 비슷해요 "
   ]
  },
  {
   "cell_type": "markdown",
   "id": "23d1bb49-10c7-4aec-84b1-9066cb1599b3",
   "metadata": {
    "id": "23d1bb49-10c7-4aec-84b1-9066cb1599b3"
   },
   "source": [
    "`-` torch.tensor() = np.array() 처럼 생각해도 무방 "
   ]
  },
  {
   "cell_type": "code",
   "execution_count": 214,
   "id": "5d013d82-0a2d-4df4-9c14-15e43f6d83d4",
   "metadata": {
    "id": "5d013d82-0a2d-4df4-9c14-15e43f6d83d4",
    "outputId": "4bdecf89-3a98-4cb7-e010-77690b983c18"
   },
   "outputs": [
    {
     "data": {
      "text/plain": [
       "(array([1, 2, 3]), tensor([1, 2, 3]))"
      ]
     },
     "execution_count": 214,
     "metadata": {},
     "output_type": "execute_result"
    }
   ],
   "source": [
    "np.array([1,2,3]), torch.tensor([1,2,3])"
   ]
  },
  {
   "cell_type": "markdown",
   "id": "8a6b78a2-6075-48ad-a3b6-3b2f51822850",
   "metadata": {
    "id": "8a6b78a2-6075-48ad-a3b6-3b2f51822850"
   },
   "source": [
    "`-` 소수점의 정밀도에서 차이가 있음 (torch가 좀 더 쪼잔함) "
   ]
  },
  {
   "cell_type": "code",
   "execution_count": 215,
   "id": "aec0f1ed-cb64-425a-a215-1b8815b5c439",
   "metadata": {
    "id": "aec0f1ed-cb64-425a-a215-1b8815b5c439",
    "outputId": "e715d7cc-fe24-4d9e-ab27-abe59037357b"
   },
   "outputs": [
    {
     "data": {
      "text/plain": [
       "array([3.12345679])"
      ]
     },
     "execution_count": 215,
     "metadata": {},
     "output_type": "execute_result"
    }
   ],
   "source": [
    "np.array([3.123456789])"
   ]
  },
  {
   "cell_type": "code",
   "execution_count": 216,
   "id": "c90aa64e-1b41-477f-abcf-bd17acf6ca2d",
   "metadata": {
    "id": "c90aa64e-1b41-477f-abcf-bd17acf6ca2d",
    "outputId": "68a84a0c-383c-47f0-c7f0-1dff562ec64b"
   },
   "outputs": [
    {
     "data": {
      "text/plain": [
       "tensor([3.1235])"
      ]
     },
     "execution_count": 216,
     "metadata": {},
     "output_type": "execute_result"
    }
   ],
   "source": [
    "torch.tensor([3.123456789])"
   ]
  },
  {
   "cell_type": "markdown",
   "id": "fc134ed7-2020-432e-82ff-7e968c7f9475",
   "metadata": {},
   "source": [
    "tensor는 gpu에 저장하기 때문에 메모리 아끼기 위해 정밀도가 낮은 경향이 있다."
   ]
  },
  {
   "cell_type": "markdown",
   "id": "185ef788-e42f-4283-8a6c-387f60ecc911",
   "metadata": {
    "id": "185ef788-e42f-4283-8a6c-387f60ecc911"
   },
   "source": [
    "`-` 기본적인 numpy 문법은 np 대신에 torch를 써도 무방 // 완전 같지는 않음 "
   ]
  },
  {
   "cell_type": "code",
   "execution_count": 217,
   "id": "e9c6fa33-0b71-44ab-9aeb-f487ae8059e3",
   "metadata": {
    "id": "e9c6fa33-0b71-44ab-9aeb-f487ae8059e3",
    "outputId": "2bc5fd35-628d-4f3c-fa63-7dba437a86a7"
   },
   "outputs": [
    {
     "data": {
      "text/plain": [
       "(array([0, 1, 2, 3, 4, 5, 6, 7, 8, 9]), tensor([0, 1, 2, 3, 4, 5, 6, 7, 8, 9]))"
      ]
     },
     "execution_count": 217,
     "metadata": {},
     "output_type": "execute_result"
    }
   ],
   "source": [
    "np.arange(10), torch.arange(10)"
   ]
  },
  {
   "cell_type": "code",
   "execution_count": 218,
   "id": "e9614c5d-bf5f-40f2-bff6-fded665e3057",
   "metadata": {
    "id": "e9614c5d-bf5f-40f2-bff6-fded665e3057",
    "outputId": "f978173f-5b5e-479e-c4e7-a9ca0252ada1"
   },
   "outputs": [
    {
     "data": {
      "text/plain": [
       "(array([0.        , 0.11111111, 0.22222222, 0.33333333, 0.44444444,\n",
       "        0.55555556, 0.66666667, 0.77777778, 0.88888889, 1.        ]),\n",
       " tensor([0.0000, 0.1111, 0.2222, 0.3333, 0.4444, 0.5556, 0.6667, 0.7778, 0.8889,\n",
       "         1.0000]))"
      ]
     },
     "execution_count": 218,
     "metadata": {},
     "output_type": "execute_result"
    }
   ],
   "source": [
    "np.linspace(0,1,10), torch.linspace(0,1,10)"
   ]
  },
  {
   "cell_type": "code",
   "execution_count": 219,
   "id": "aa506c5b-d8d0-4afd-a75f-530e524d8bd8",
   "metadata": {
    "id": "aa506c5b-d8d0-4afd-a75f-530e524d8bd8",
    "outputId": "35517b5e-02b3-4801-f08d-4ebe97449fdb"
   },
   "outputs": [
    {
     "data": {
      "text/plain": [
       "array([-2.04307368, -1.43344361, -0.53407612, -0.94061334,  1.12391347,\n",
       "        0.87837938, -0.78230893,  0.73597169, -0.4349671 , -0.28539105])"
      ]
     },
     "execution_count": 219,
     "metadata": {},
     "output_type": "execute_result"
    }
   ],
   "source": [
    "np.random.randn(10)"
   ]
  },
  {
   "cell_type": "code",
   "execution_count": 220,
   "id": "30534d70-3724-4b48-afb2-52eefdc8981d",
   "metadata": {
    "id": "30534d70-3724-4b48-afb2-52eefdc8981d",
    "outputId": "d49fc329-4a99-4b2c-e665-32968556294c"
   },
   "outputs": [
    {
     "data": {
      "text/plain": [
       "tensor([-1.5503, -1.9399,  1.2090,  0.5242,  0.3905, -0.5655,  0.8306,  0.6349,\n",
       "         0.8350,  0.3871])"
      ]
     },
     "execution_count": 220,
     "metadata": {},
     "output_type": "execute_result"
    }
   ],
   "source": [
    "torch.randn(10)"
   ]
  },
  {
   "cell_type": "markdown",
   "id": "c7560a2c-d406-499d-b459-feb802d80b08",
   "metadata": {
    "id": "c7560a2c-d406-499d-b459-feb802d80b08"
   },
   "source": [
    "### length $n$ vector, $n \\times 1$ col-vector, $1 \\times n$ row-vector "
   ]
  },
  {
   "cell_type": "markdown",
   "id": "322b7a7a-c064-4509-8f7f-37b9483e8c67",
   "metadata": {},
   "source": [
    "브로드캐스팅 길이가 3인 벡터와 1인벡터를 더하면 오류 뜨지 않고 더해줌"
   ]
  },
  {
   "cell_type": "markdown",
   "id": "a0fc3d80-e370-46ba-bdba-371d8e94bc9d",
   "metadata": {
    "id": "a0fc3d80-e370-46ba-bdba-371d8e94bc9d"
   },
   "source": [
    "`-` 길이가 3인 벡터 선언방법 "
   ]
  },
  {
   "cell_type": "code",
   "execution_count": 9,
   "id": "e6917569-59b2-4287-ba4e-d78366cfb193",
   "metadata": {
    "id": "e6917569-59b2-4287-ba4e-d78366cfb193",
    "outputId": "300a3063-1be1-4558-96c9-ce9906e41fa3"
   },
   "outputs": [
    {
     "data": {
      "text/plain": [
       "torch.Size([3])"
      ]
     },
     "execution_count": 9,
     "metadata": {},
     "output_type": "execute_result"
    }
   ],
   "source": [
    "a = torch.tensor([1,2,3])\n",
    "a.shape"
   ]
  },
  {
   "cell_type": "markdown",
   "id": "10b4f131-2f1c-4407-93b7-cbe6e4c5dfc5",
   "metadata": {
    "id": "10b4f131-2f1c-4407-93b7-cbe6e4c5dfc5"
   },
   "source": [
    "`-` 3x1 col-vec 선언방법 "
   ]
  },
  {
   "cell_type": "markdown",
   "id": "9e837702-3884-4939-8bce-9c104411cdb5",
   "metadata": {
    "id": "9e837702-3884-4939-8bce-9c104411cdb5"
   },
   "source": [
    "(방법1)"
   ]
  },
  {
   "cell_type": "code",
   "execution_count": 10,
   "id": "c918e903-2c68-4b30-a061-3f81bda6517e",
   "metadata": {
    "id": "c918e903-2c68-4b30-a061-3f81bda6517e",
    "outputId": "3b2d1a9a-25a6-44a3-972f-1bbd044268cc"
   },
   "outputs": [
    {
     "data": {
      "text/plain": [
       "torch.Size([3, 1])"
      ]
     },
     "execution_count": 10,
     "metadata": {},
     "output_type": "execute_result"
    }
   ],
   "source": [
    "a = torch.tensor([[1],[2],[3]])\n",
    "a.shape"
   ]
  },
  {
   "cell_type": "markdown",
   "id": "d1cb297f-aa74-487f-b54a-b1e6cdfb55dc",
   "metadata": {
    "id": "d1cb297f-aa74-487f-b54a-b1e6cdfb55dc"
   },
   "source": [
    "(방법2)"
   ]
  },
  {
   "cell_type": "code",
   "execution_count": 11,
   "id": "f6394a19-0ed4-4f1c-a578-cca5f7783e8e",
   "metadata": {
    "id": "f6394a19-0ed4-4f1c-a578-cca5f7783e8e",
    "outputId": "927b13f7-43ac-49cb-8ff0-21105bf892ef"
   },
   "outputs": [
    {
     "data": {
      "text/plain": [
       "torch.Size([3, 1])"
      ]
     },
     "execution_count": 11,
     "metadata": {},
     "output_type": "execute_result"
    }
   ],
   "source": [
    "a = torch.tensor([1,2,3]).reshape(3,1)\n",
    "a.shape"
   ]
  },
  {
   "cell_type": "markdown",
   "id": "bff6f97f-b1ef-42f4-8332-ab600dc29e9f",
   "metadata": {
    "id": "bff6f97f-b1ef-42f4-8332-ab600dc29e9f"
   },
   "source": [
    "`-` 1x3 row-vec 선언방법 "
   ]
  },
  {
   "cell_type": "markdown",
   "id": "a724b393-505b-4596-9e22-032d65028a47",
   "metadata": {
    "id": "a724b393-505b-4596-9e22-032d65028a47"
   },
   "source": [
    "(방법1)"
   ]
  },
  {
   "cell_type": "code",
   "execution_count": 12,
   "id": "73a6b593-a743-4d2d-a66c-6513c741dff6",
   "metadata": {
    "id": "73a6b593-a743-4d2d-a66c-6513c741dff6",
    "outputId": "33a88e79-e5ac-42b3-86b1-a9e8316e2912"
   },
   "outputs": [
    {
     "data": {
      "text/plain": [
       "torch.Size([1, 3])"
      ]
     },
     "execution_count": 12,
     "metadata": {},
     "output_type": "execute_result"
    }
   ],
   "source": [
    "a = torch.tensor([[1,2,3]])\n",
    "a.shape"
   ]
  },
  {
   "cell_type": "markdown",
   "id": "e58b9fd5-c15c-4a99-bb14-c9d4b1172ff0",
   "metadata": {
    "id": "e58b9fd5-c15c-4a99-bb14-c9d4b1172ff0"
   },
   "source": [
    "(방법2)"
   ]
  },
  {
   "cell_type": "code",
   "execution_count": 13,
   "id": "955a9e9b-8622-445c-9e3e-007cb51370b1",
   "metadata": {
    "id": "955a9e9b-8622-445c-9e3e-007cb51370b1",
    "outputId": "6a3060ed-fb78-4844-ea5d-4cca01424c27"
   },
   "outputs": [
    {
     "data": {
      "text/plain": [
       "torch.Size([1, 3])"
      ]
     },
     "execution_count": 13,
     "metadata": {},
     "output_type": "execute_result"
    }
   ],
   "source": [
    "a = torch.tensor([1,2,3]).reshape(1,3)\n",
    "a.shape"
   ]
  },
  {
   "cell_type": "markdown",
   "id": "d8a8ba67-61ac-4125-9998-1596a9040f75",
   "metadata": {
    "id": "d8a8ba67-61ac-4125-9998-1596a9040f75"
   },
   "source": [
    "`-` 3x1 col-vec 선언방법, 1x3 row-vec 선언방법에서 `[[1],[2],[3]]` 혹은 `[[1,2,3]]` 와 같은 표현이 이해안되면 아래링크로 가셔서 \n",
    "\n",
    "https://guebin.github.io/STBDA2022/2022/03/14/(2주차)-3월14일.html\n",
    "\n",
    "첫번째 동영상 12:15 - 22:45 에 해당하는 분량을 학습하시길 바랍니다. "
   ]
  },
  {
   "cell_type": "code",
   "execution_count": null,
   "id": "6abeab05-dac6-4361-af55-0735119bcfbf",
   "metadata": {},
   "outputs": [],
   "source": []
  },
  {
   "cell_type": "markdown",
   "id": "62e46f48-69d3-4fa5-b668-f8f8235a9561",
   "metadata": {
    "id": "62e46f48-69d3-4fa5-b668-f8f8235a9561"
   },
   "source": [
    "### torch의 dtype"
   ]
  },
  {
   "cell_type": "markdown",
   "id": "eb62aef6-966e-4589-9b85-d8fa6f2bd682",
   "metadata": {
    "id": "eb62aef6-966e-4589-9b85-d8fa6f2bd682"
   },
   "source": [
    "`-` 기본적으로 torch는 소수점으로 저장되면 dtype=torch.float32 가 된다. (이걸로 맞추는게 편리함) "
   ]
  },
  {
   "cell_type": "code",
   "execution_count": null,
   "id": "2e9b3c2d-ccf2-4e02-a1be-c64b909bfd31",
   "metadata": {
    "id": "2e9b3c2d-ccf2-4e02-a1be-c64b909bfd31",
    "outputId": "680cff4c-12c0-4b98-ffe4-62db3191b972"
   },
   "outputs": [
    {
     "data": {
      "text/plain": [
       "tensor([1.2300, 2.3400])"
      ]
     },
     "execution_count": 16,
     "metadata": {},
     "output_type": "execute_result"
    }
   ],
   "source": [
    "tsr = torch.tensor([1.23,2.34])\n",
    "tsr"
   ]
  },
  {
   "cell_type": "code",
   "execution_count": null,
   "id": "dbac7faf-0195-4f78-90ca-72c851cfecd2",
   "metadata": {
    "id": "dbac7faf-0195-4f78-90ca-72c851cfecd2",
    "outputId": "8f665b6a-7245-4b79-9458-e829c9a1ffe1"
   },
   "outputs": [
    {
     "data": {
      "text/plain": [
       "torch.float32"
      ]
     },
     "execution_count": 17,
     "metadata": {},
     "output_type": "execute_result"
    }
   ],
   "source": [
    "tsr.dtype"
   ]
  },
  {
   "cell_type": "markdown",
   "id": "633b68d6-5785-454f-8956-b39bc727b73b",
   "metadata": {
    "id": "633b68d6-5785-454f-8956-b39bc727b73b"
   },
   "source": [
    "`-` 정수로 선언하더라도 dtype를 torch.float32로 바꾸는게 유리함 "
   ]
  },
  {
   "cell_type": "markdown",
   "id": "8efac175-9f31-4ee0-aa92-90ef710d3368",
   "metadata": {
    "id": "8efac175-9f31-4ee0-aa92-90ef710d3368"
   },
   "source": [
    "(안 좋은 선언예시) "
   ]
  },
  {
   "cell_type": "code",
   "execution_count": null,
   "id": "e7e180ea-f28d-4e99-9c77-e684df4b1321",
   "metadata": {
    "id": "e7e180ea-f28d-4e99-9c77-e684df4b1321",
    "outputId": "0e6717bf-f9be-4b96-80af-0a1f87c0d6df"
   },
   "outputs": [
    {
     "data": {
      "text/plain": [
       "tensor([1, 2])"
      ]
     },
     "execution_count": 18,
     "metadata": {},
     "output_type": "execute_result"
    }
   ],
   "source": [
    "tsr = torch.tensor([1,2])\n",
    "tsr "
   ]
  },
  {
   "cell_type": "code",
   "execution_count": null,
   "id": "ebd8104b-cad6-40e8-a857-d5844f2cab16",
   "metadata": {
    "id": "ebd8104b-cad6-40e8-a857-d5844f2cab16",
    "outputId": "f4326bad-b6bb-4822-c6d5-f460f209b5e6"
   },
   "outputs": [
    {
     "data": {
      "text/plain": [
       "torch.int64"
      ]
     },
     "execution_count": 19,
     "metadata": {},
     "output_type": "execute_result"
    }
   ],
   "source": [
    "tsr.dtype"
   ]
  },
  {
   "cell_type": "markdown",
   "id": "7d383b2d-7ae7-4984-a11e-a7a1ffb0e4aa",
   "metadata": {
    "id": "7d383b2d-7ae7-4984-a11e-a7a1ffb0e4aa"
   },
   "source": [
    "(좋은 선언예시1) "
   ]
  },
  {
   "cell_type": "code",
   "execution_count": null,
   "id": "910a4edd-00cb-418a-8bb8-ccd5bf4f3238",
   "metadata": {
    "id": "910a4edd-00cb-418a-8bb8-ccd5bf4f3238",
    "outputId": "b48bd5d5-7486-4598-c0fb-10ec4f9d39e2"
   },
   "outputs": [
    {
     "data": {
      "text/plain": [
       "tensor([1., 2.])"
      ]
     },
     "execution_count": 20,
     "metadata": {},
     "output_type": "execute_result"
    }
   ],
   "source": [
    "tsr = torch.tensor([1,2],dtype=torch.float32)\n",
    "tsr "
   ]
  },
  {
   "cell_type": "code",
   "execution_count": null,
   "id": "48a71560-6ec7-4023-a7f3-f9623d8a20b3",
   "metadata": {
    "id": "48a71560-6ec7-4023-a7f3-f9623d8a20b3",
    "outputId": "ffb4ecbc-5750-49c6-8a6a-9a400571bee9"
   },
   "outputs": [
    {
     "data": {
      "text/plain": [
       "torch.float32"
      ]
     },
     "execution_count": 21,
     "metadata": {},
     "output_type": "execute_result"
    }
   ],
   "source": [
    "tsr.dtype"
   ]
  },
  {
   "cell_type": "markdown",
   "id": "2945f864-3910-4b9c-af3d-793728944493",
   "metadata": {
    "id": "2945f864-3910-4b9c-af3d-793728944493"
   },
   "source": [
    "(좋은 선언예시2) "
   ]
  },
  {
   "cell_type": "code",
   "execution_count": null,
   "id": "474c3163-06fd-448f-8828-9262793966af",
   "metadata": {
    "id": "474c3163-06fd-448f-8828-9262793966af",
    "outputId": "903507d9-0f59-4657-9b93-34685dcb7a22"
   },
   "outputs": [
    {
     "data": {
      "text/plain": [
       "tensor([1., 2.])"
      ]
     },
     "execution_count": 22,
     "metadata": {},
     "output_type": "execute_result"
    }
   ],
   "source": [
    "tsr = torch.tensor([1,2.0])\n",
    "tsr "
   ]
  },
  {
   "cell_type": "code",
   "execution_count": null,
   "id": "ee176ddb-3039-4416-ba9b-2eb8069963b5",
   "metadata": {
    "id": "ee176ddb-3039-4416-ba9b-2eb8069963b5",
    "outputId": "83492e83-c761-4d5e-9daf-5048eb860e5f"
   },
   "outputs": [
    {
     "data": {
      "text/plain": [
       "torch.float32"
      ]
     },
     "execution_count": 23,
     "metadata": {},
     "output_type": "execute_result"
    }
   ],
   "source": [
    "tsr.dtype"
   ]
  },
  {
   "cell_type": "markdown",
   "id": "d5e75f19-55ef-4b13-a029-f14f3c2747cf",
   "metadata": {
    "id": "d5e75f19-55ef-4b13-a029-f14f3c2747cf"
   },
   "source": [
    "(사실 int로 선언해도 나중에 float으로 바꾸면 큰 문제없음) "
   ]
  },
  {
   "cell_type": "code",
   "execution_count": null,
   "id": "04a8fc33-60b7-4af0-9cac-7e7a21895e39",
   "metadata": {
    "id": "04a8fc33-60b7-4af0-9cac-7e7a21895e39",
    "outputId": "5a561d5c-2b7f-4451-e723-b0e293821ac0"
   },
   "outputs": [
    {
     "data": {
      "text/plain": [
       "tensor([1., 2.])"
      ]
     },
     "execution_count": 24,
     "metadata": {},
     "output_type": "execute_result"
    }
   ],
   "source": [
    "tsr = torch.tensor([1,2]).float()\n",
    "tsr"
   ]
  },
  {
   "cell_type": "code",
   "execution_count": null,
   "id": "7600f46e-abb5-4596-85aa-4169b7e57d0c",
   "metadata": {
    "id": "7600f46e-abb5-4596-85aa-4169b7e57d0c",
    "outputId": "999a0ae6-edfb-4cdd-e5b6-506e16132cd2"
   },
   "outputs": [
    {
     "data": {
      "text/plain": [
       "torch.float32"
      ]
     },
     "execution_count": 25,
     "metadata": {},
     "output_type": "execute_result"
    }
   ],
   "source": [
    "tsr.dtype"
   ]
  },
  {
   "cell_type": "markdown",
   "id": "e30ffbf5-ecab-4e1b-ab8a-6620e17d8837",
   "metadata": {
    "id": "e30ffbf5-ecab-4e1b-ab8a-6620e17d8837"
   },
   "source": [
    "`-` 왜 정수만으로 torch.tensor를 만들때에도 torch.float32로 바꾸는게 유리할까? $\\to$ torch.tensor끼리의 연산에서 문제가 될 수 있음 "
   ]
  },
  {
   "cell_type": "markdown",
   "id": "e6682b95-2e6c-47a1-882e-30c9f4e22aa8",
   "metadata": {
    "id": "e6682b95-2e6c-47a1-882e-30c9f4e22aa8"
   },
   "source": [
    "별 문제 없을수도 있지만 "
   ]
  },
  {
   "cell_type": "code",
   "execution_count": null,
   "id": "471d54a1-dacd-45ba-a418-7265baf9a221",
   "metadata": {
    "id": "471d54a1-dacd-45ba-a418-7265baf9a221",
    "outputId": "b2d95733-2fed-43ab-a570-54eae8ffb566"
   },
   "outputs": [
    {
     "data": {
      "text/plain": [
       "tensor([0., 0.])"
      ]
     },
     "execution_count": 26,
     "metadata": {},
     "output_type": "execute_result"
    }
   ],
   "source": [
    "torch.tensor([1,2])-torch.tensor([1.0,2.0]) "
   ]
  },
  {
   "cell_type": "markdown",
   "id": "c24013e2-99d7-4a08-8cae-dd8d6568fa35",
   "metadata": {
    "id": "c24013e2-99d7-4a08-8cae-dd8d6568fa35"
   },
   "source": [
    "아래와 같이 에러가 날수도 있다 "
   ]
  },
  {
   "cell_type": "markdown",
   "id": "aba6c8ac-d40e-44d5-a8ca-15481f9c1980",
   "metadata": {
    "id": "aba6c8ac-d40e-44d5-a8ca-15481f9c1980"
   },
   "source": [
    "(에러1)"
   ]
  },
  {
   "cell_type": "code",
   "execution_count": null,
   "id": "b872920e-0c11-4c7d-bf7a-70d0eaab13d2",
   "metadata": {
    "id": "b872920e-0c11-4c7d-bf7a-70d0eaab13d2",
    "outputId": "a686ce98-c829-45d6-a945-1d9391b95a8b"
   },
   "outputs": [
    {
     "ename": "RuntimeError",
     "evalue": "expected scalar type Float but found Long",
     "output_type": "error",
     "traceback": [
      "\u001b[0;31m---------------------------------------------------------------------------\u001b[0m",
      "\u001b[0;31mRuntimeError\u001b[0m                              Traceback (most recent call last)",
      "\u001b[0;32m/tmp/ipykernel_1083902/281683190.py\u001b[0m in \u001b[0;36m<module>\u001b[0;34m\u001b[0m\n\u001b[0;32m----> 1\u001b[0;31m \u001b[0mtorch\u001b[0m\u001b[0;34m.\u001b[0m\u001b[0mtensor\u001b[0m\u001b[0;34m(\u001b[0m\u001b[0;34m[\u001b[0m\u001b[0;34m[\u001b[0m\u001b[0;36m1.0\u001b[0m\u001b[0;34m,\u001b[0m\u001b[0;36m0.0\u001b[0m\u001b[0;34m]\u001b[0m\u001b[0;34m,\u001b[0m\u001b[0;34m[\u001b[0m\u001b[0;36m0.0\u001b[0m\u001b[0;34m,\u001b[0m\u001b[0;36m1.0\u001b[0m\u001b[0;34m]\u001b[0m\u001b[0;34m]\u001b[0m\u001b[0;34m)\u001b[0m \u001b[0;34m@\u001b[0m \u001b[0mtorch\u001b[0m\u001b[0;34m.\u001b[0m\u001b[0mtensor\u001b[0m\u001b[0;34m(\u001b[0m\u001b[0;34m[\u001b[0m\u001b[0;34m[\u001b[0m\u001b[0;36m1\u001b[0m\u001b[0;34m]\u001b[0m\u001b[0;34m,\u001b[0m\u001b[0;34m[\u001b[0m\u001b[0;36m2\u001b[0m\u001b[0;34m]\u001b[0m\u001b[0;34m]\u001b[0m\u001b[0;34m)\u001b[0m\u001b[0;34m\u001b[0m\u001b[0;34m\u001b[0m\u001b[0m\n\u001b[0m",
      "\u001b[0;31mRuntimeError\u001b[0m: expected scalar type Float but found Long"
     ]
    }
   ],
   "source": [
    "torch.tensor([[1.0,0.0],[0.0,1.0]]) @ torch.tensor([[1],[2]]) "
   ]
  },
  {
   "cell_type": "markdown",
   "id": "9234c294-251b-49f0-b983-0760dbe5b076",
   "metadata": {
    "id": "9234c294-251b-49f0-b983-0760dbe5b076"
   },
   "source": [
    "(에러2)"
   ]
  },
  {
   "cell_type": "code",
   "execution_count": null,
   "id": "1d760fb5-8c81-4992-b016-f1ab769aa1d3",
   "metadata": {
    "id": "1d760fb5-8c81-4992-b016-f1ab769aa1d3",
    "outputId": "c32907e5-ae0f-4db9-d195-3ec6947c4973"
   },
   "outputs": [
    {
     "ename": "RuntimeError",
     "evalue": "expected scalar type Long but found Float",
     "output_type": "error",
     "traceback": [
      "\u001b[0;31m---------------------------------------------------------------------------\u001b[0m",
      "\u001b[0;31mRuntimeError\u001b[0m                              Traceback (most recent call last)",
      "\u001b[0;32m/tmp/ipykernel_1083902/837094206.py\u001b[0m in \u001b[0;36m<module>\u001b[0;34m\u001b[0m\n\u001b[0;32m----> 1\u001b[0;31m \u001b[0mtorch\u001b[0m\u001b[0;34m.\u001b[0m\u001b[0mtensor\u001b[0m\u001b[0;34m(\u001b[0m\u001b[0;34m[\u001b[0m\u001b[0;34m[\u001b[0m\u001b[0;36m1\u001b[0m\u001b[0;34m,\u001b[0m\u001b[0;36m0\u001b[0m\u001b[0;34m]\u001b[0m\u001b[0;34m,\u001b[0m\u001b[0;34m[\u001b[0m\u001b[0;36m0\u001b[0m\u001b[0;34m,\u001b[0m\u001b[0;36m1\u001b[0m\u001b[0;34m]\u001b[0m\u001b[0;34m]\u001b[0m\u001b[0;34m)\u001b[0m \u001b[0;34m@\u001b[0m \u001b[0mtorch\u001b[0m\u001b[0;34m.\u001b[0m\u001b[0mtensor\u001b[0m\u001b[0;34m(\u001b[0m\u001b[0;34m[\u001b[0m\u001b[0;34m[\u001b[0m\u001b[0;36m1.0\u001b[0m\u001b[0;34m]\u001b[0m\u001b[0;34m,\u001b[0m\u001b[0;34m[\u001b[0m\u001b[0;36m2.0\u001b[0m\u001b[0;34m]\u001b[0m\u001b[0;34m]\u001b[0m\u001b[0;34m)\u001b[0m\u001b[0;34m\u001b[0m\u001b[0;34m\u001b[0m\u001b[0m\n\u001b[0m",
      "\u001b[0;31mRuntimeError\u001b[0m: expected scalar type Long but found Float"
     ]
    }
   ],
   "source": [
    "torch.tensor([[1,0],[0,1]]) @ torch.tensor([[1.0],[2.0]])"
   ]
  },
  {
   "cell_type": "markdown",
   "id": "156bfcd1-d3e0-4e9f-8e24-ac4baf2b45dd",
   "metadata": {
    "id": "156bfcd1-d3e0-4e9f-8e24-ac4baf2b45dd"
   },
   "source": [
    "(해결1) 둘다 정수로 통일 "
   ]
  },
  {
   "cell_type": "code",
   "execution_count": null,
   "id": "9195ad97-bc85-4543-bfd8-458e6d50b580",
   "metadata": {
    "id": "9195ad97-bc85-4543-bfd8-458e6d50b580",
    "outputId": "9b75d944-ae5b-437b-e247-a1c972bd2903"
   },
   "outputs": [
    {
     "data": {
      "text/plain": [
       "tensor([[1],\n",
       "        [2]])"
      ]
     },
     "execution_count": 29,
     "metadata": {},
     "output_type": "execute_result"
    }
   ],
   "source": [
    "torch.tensor([[1,0],[0,1]]) @ torch.tensor([[1],[2]])"
   ]
  },
  {
   "cell_type": "markdown",
   "id": "cbfca2bd-fffd-4337-b6f0-8fdc28ae2dc0",
   "metadata": {
    "id": "cbfca2bd-fffd-4337-b6f0-8fdc28ae2dc0"
   },
   "source": [
    "(해결2) 둘다 소수로 통일 <-- 더 좋은 방법임"
   ]
  },
  {
   "cell_type": "code",
   "execution_count": null,
   "id": "615ffdc6-b2e9-40a9-9b3d-4fe29d3c5328",
   "metadata": {
    "id": "615ffdc6-b2e9-40a9-9b3d-4fe29d3c5328",
    "outputId": "3d50be54-5196-47c0-ab37-8e634f92206c"
   },
   "outputs": [
    {
     "data": {
      "text/plain": [
       "tensor([[1.],\n",
       "        [2.]])"
      ]
     },
     "execution_count": 30,
     "metadata": {},
     "output_type": "execute_result"
    }
   ],
   "source": [
    "torch.tensor([[1.0,0.0],[0.0,1.0]]) @ torch.tensor([[1.0],[2.0]])"
   ]
  },
  {
   "cell_type": "markdown",
   "id": "bee1e949-e24a-41a5-8bdc-6292401d7742",
   "metadata": {
    "id": "bee1e949-e24a-41a5-8bdc-6292401d7742"
   },
   "source": [
    "### shape of vector"
   ]
  },
  {
   "cell_type": "markdown",
   "id": "53997acc-542f-480f-9c32-3f38637b0608",
   "metadata": {
    "id": "53997acc-542f-480f-9c32-3f38637b0608"
   },
   "source": [
    "`-` 행렬곱셈에 대한 shape 조심"
   ]
  },
  {
   "cell_type": "code",
   "execution_count": 14,
   "id": "152c44a1-1cdd-458e-b48f-353917509c84",
   "metadata": {
    "id": "152c44a1-1cdd-458e-b48f-353917509c84"
   },
   "outputs": [],
   "source": [
    "A = torch.tensor([[2.00,0.00],[0.00,3.00]]) \n",
    "b1 = torch.tensor([[-1.0,-5.0]])\n",
    "b2 = torch.tensor([[-1.0],[-5.0]])\n",
    "b3 = torch.tensor([-1.0,-5.0])"
   ]
  },
  {
   "cell_type": "code",
   "execution_count": 15,
   "id": "4295b4bb-e061-4a9b-82a2-781e48050c26",
   "metadata": {
    "id": "4295b4bb-e061-4a9b-82a2-781e48050c26",
    "outputId": "b0670598-05f7-4e87-bbe4-ab9aacc561b8"
   },
   "outputs": [
    {
     "data": {
      "text/plain": [
       "(torch.Size([2, 2]), torch.Size([1, 2]), torch.Size([2, 1]), torch.Size([2]))"
      ]
     },
     "execution_count": 15,
     "metadata": {},
     "output_type": "execute_result"
    }
   ],
   "source": [
    "A.shape,b1.shape,b2.shape,b3.shape"
   ]
  },
  {
   "cell_type": "markdown",
   "id": "141d2b80-05b7-49ec-8a41-5462e5ef6987",
   "metadata": {
    "id": "141d2b80-05b7-49ec-8a41-5462e5ef6987"
   },
   "source": [
    "`-` A@b1: 계산불가, b1@A: 계산가능"
   ]
  },
  {
   "cell_type": "code",
   "execution_count": 16,
   "id": "ea28d368-10e4-499f-a283-daac93324a25",
   "metadata": {
    "id": "ea28d368-10e4-499f-a283-daac93324a25",
    "outputId": "5709d0f1-6910-49b9-cafc-f7ab0d211730"
   },
   "outputs": [
    {
     "ename": "RuntimeError",
     "evalue": "mat1 and mat2 shapes cannot be multiplied (2x2 and 1x2)",
     "output_type": "error",
     "traceback": [
      "\u001b[0;31m---------------------------------------------------------------------------\u001b[0m",
      "\u001b[0;31mRuntimeError\u001b[0m                              Traceback (most recent call last)",
      "\u001b[0;32m/tmp/ipykernel_637318/615827064.py\u001b[0m in \u001b[0;36m<module>\u001b[0;34m\u001b[0m\n\u001b[0;32m----> 1\u001b[0;31m \u001b[0mA\u001b[0m\u001b[0;34m@\u001b[0m\u001b[0mb1\u001b[0m\u001b[0;34m\u001b[0m\u001b[0;34m\u001b[0m\u001b[0m\n\u001b[0m",
      "\u001b[0;31mRuntimeError\u001b[0m: mat1 and mat2 shapes cannot be multiplied (2x2 and 1x2)"
     ]
    }
   ],
   "source": [
    "A@b1"
   ]
  },
  {
   "cell_type": "code",
   "execution_count": 17,
   "id": "56e69421-83bf-4c58-8a85-2add56d06ef8",
   "metadata": {
    "id": "56e69421-83bf-4c58-8a85-2add56d06ef8",
    "outputId": "ab6f9fc2-b3a9-4a70-c1e1-eeb9569ae05f"
   },
   "outputs": [
    {
     "data": {
      "text/plain": [
       "tensor([[ -2., -15.]])"
      ]
     },
     "execution_count": 17,
     "metadata": {},
     "output_type": "execute_result"
    }
   ],
   "source": [
    "b1@A"
   ]
  },
  {
   "cell_type": "markdown",
   "id": "14d64e9f-4083-4c84-87e1-15ada3b67d9a",
   "metadata": {
    "id": "14d64e9f-4083-4c84-87e1-15ada3b67d9a"
   },
   "source": [
    "`-` A@b2: 계산가능, b2@A: 계산불가 "
   ]
  },
  {
   "cell_type": "code",
   "execution_count": 18,
   "id": "a48cf626-adf8-4975-bb5a-f668bab1a536",
   "metadata": {
    "id": "a48cf626-adf8-4975-bb5a-f668bab1a536",
    "outputId": "49ee8533-2bac-4c8c-b157-9cabf7a96cca"
   },
   "outputs": [
    {
     "data": {
      "text/plain": [
       "tensor([[ -2.],\n",
       "        [-15.]])"
      ]
     },
     "execution_count": 18,
     "metadata": {},
     "output_type": "execute_result"
    }
   ],
   "source": [
    "A@b2"
   ]
  },
  {
   "cell_type": "code",
   "execution_count": 19,
   "id": "8ec27ef3-3279-42c0-a135-bbb4402245cc",
   "metadata": {
    "id": "8ec27ef3-3279-42c0-a135-bbb4402245cc",
    "outputId": "f3b251d7-87b0-481a-d599-ac3910014f55"
   },
   "outputs": [
    {
     "ename": "RuntimeError",
     "evalue": "mat1 and mat2 shapes cannot be multiplied (2x1 and 2x2)",
     "output_type": "error",
     "traceback": [
      "\u001b[0;31m---------------------------------------------------------------------------\u001b[0m",
      "\u001b[0;31mRuntimeError\u001b[0m                              Traceback (most recent call last)",
      "\u001b[0;32m/tmp/ipykernel_637318/926932629.py\u001b[0m in \u001b[0;36m<module>\u001b[0;34m\u001b[0m\n\u001b[0;32m----> 1\u001b[0;31m \u001b[0mb2\u001b[0m\u001b[0;34m@\u001b[0m\u001b[0mA\u001b[0m\u001b[0;34m\u001b[0m\u001b[0;34m\u001b[0m\u001b[0m\n\u001b[0m",
      "\u001b[0;31mRuntimeError\u001b[0m: mat1 and mat2 shapes cannot be multiplied (2x1 and 2x2)"
     ]
    }
   ],
   "source": [
    "b2@A"
   ]
  },
  {
   "cell_type": "markdown",
   "id": "8e88eed2-76fd-48b8-bbb1-515cb58e017c",
   "metadata": {
    "id": "8e88eed2-76fd-48b8-bbb1-515cb58e017c"
   },
   "source": [
    "`-` A@b3: 계산가능, b3@A: 계산가능 "
   ]
  },
  {
   "cell_type": "code",
   "execution_count": 20,
   "id": "aab20f69-96f2-4617-a8e8-d817c3e6b1b7",
   "metadata": {
    "id": "aab20f69-96f2-4617-a8e8-d817c3e6b1b7",
    "outputId": "5ada4104-c6f7-4ce3-c9f8-917859a1dffb"
   },
   "outputs": [
    {
     "data": {
      "text/plain": [
       "torch.Size([2])"
      ]
     },
     "execution_count": 20,
     "metadata": {},
     "output_type": "execute_result"
    }
   ],
   "source": [
    "(A@b3).shape ## b3를 마치 col-vec 처럼 해석"
   ]
  },
  {
   "cell_type": "code",
   "execution_count": 21,
   "id": "ff96b6d7-1ef0-4cf1-a76d-47f15f2fbb25",
   "metadata": {
    "id": "ff96b6d7-1ef0-4cf1-a76d-47f15f2fbb25",
    "outputId": "7da0b927-4f1f-44a9-ca83-f6e6f2e96fd9"
   },
   "outputs": [
    {
     "data": {
      "text/plain": [
       "torch.Size([2])"
      ]
     },
     "execution_count": 21,
     "metadata": {},
     "output_type": "execute_result"
    }
   ],
   "source": [
    "(b3@A).shape ## b3를 마지 row-vec 처럼 해석"
   ]
  },
  {
   "cell_type": "markdown",
   "id": "f685368c-a11a-44a2-86be-11da58def009",
   "metadata": {},
   "source": [
    "- 뒤에 놓으면 b3를 컬럼벡터로 인식\n",
    "- 앞에 놓으면 b3를 로우벡터로 인식"
   ]
  },
  {
   "cell_type": "markdown",
   "id": "2b91b259-fcce-4f90-8d50-bb1cac4d00b8",
   "metadata": {
    "id": "2b91b259-fcce-4f90-8d50-bb1cac4d00b8"
   },
   "source": [
    "`-` 브로드캐스팅 "
   ]
  },
  {
   "cell_type": "code",
   "execution_count": 22,
   "id": "7d70843a-e9ae-4966-9d27-aae3bc78cabe",
   "metadata": {
    "id": "7d70843a-e9ae-4966-9d27-aae3bc78cabe",
    "outputId": "9dbb7447-3a11-48c7-dd38-f6c6f05c13e5"
   },
   "outputs": [
    {
     "data": {
      "text/plain": [
       "tensor([0, 1, 2])"
      ]
     },
     "execution_count": 22,
     "metadata": {},
     "output_type": "execute_result"
    }
   ],
   "source": [
    "a = torch.tensor([1,2,3])\n",
    "a - 1"
   ]
  },
  {
   "cell_type": "code",
   "execution_count": 23,
   "id": "0ee30e16-ce83-4288-856b-16b8a78256f5",
   "metadata": {
    "id": "0ee30e16-ce83-4288-856b-16b8a78256f5",
    "outputId": "71b0e006-a14e-4ab4-b2cc-6c8a0f2f6731"
   },
   "outputs": [
    {
     "data": {
      "text/plain": [
       "tensor([[0],\n",
       "        [1],\n",
       "        [2]])"
      ]
     },
     "execution_count": 23,
     "metadata": {},
     "output_type": "execute_result"
    }
   ],
   "source": [
    "b = torch.tensor([[1],[2],[3]])\n",
    "b - 1"
   ]
  },
  {
   "cell_type": "markdown",
   "id": "731ba5e0-cc54-4842-9d5e-9336d3480dbe",
   "metadata": {},
   "source": [
    "계산이 되지 않아야 맞지 않나"
   ]
  },
  {
   "cell_type": "code",
   "execution_count": 24,
   "id": "96d471c0-7592-440c-8968-530f55cfa511",
   "metadata": {
    "id": "96d471c0-7592-440c-8968-530f55cfa511",
    "outputId": "8e1200f4-2887-41e9-f7ba-f827dde61dca"
   },
   "outputs": [
    {
     "data": {
      "text/plain": [
       "tensor([[ 0,  1,  2],\n",
       "        [-1,  0,  1],\n",
       "        [-2, -1,  0]])"
      ]
     },
     "execution_count": 24,
     "metadata": {},
     "output_type": "execute_result"
    }
   ],
   "source": [
    "a - b # a를 row-vec 로 해석"
   ]
  },
  {
   "cell_type": "markdown",
   "id": "e0328220-d886-451d-9d77-285855238574",
   "metadata": {},
   "source": [
    "잘못 계싼할 수 있으니 dimension 명시해주자"
   ]
  },
  {
   "cell_type": "markdown",
   "id": "5b2bb9b5-b0f3-479e-bb7a-57bb256717d0",
   "metadata": {
    "id": "5b2bb9b5-b0f3-479e-bb7a-57bb256717d0"
   },
   "source": [
    "## Review: step1~4 "
   ]
  },
  {
   "cell_type": "code",
   "execution_count": 25,
   "id": "a06ce253-aa98-42c7-98d4-8766071ae057",
   "metadata": {
    "id": "a06ce253-aa98-42c7-98d4-8766071ae057",
    "outputId": "7198b12a-5347-4cd9-dfc3-5afddb73535c"
   },
   "outputs": [
    {
     "data": {
      "text/html": [
       "<div>\n",
       "<style scoped>\n",
       "    .dataframe tbody tr th:only-of-type {\n",
       "        vertical-align: middle;\n",
       "    }\n",
       "\n",
       "    .dataframe tbody tr th {\n",
       "        vertical-align: top;\n",
       "    }\n",
       "\n",
       "    .dataframe thead th {\n",
       "        text-align: right;\n",
       "    }\n",
       "</style>\n",
       "<table border=\"1\" class=\"dataframe\">\n",
       "  <thead>\n",
       "    <tr style=\"text-align: right;\">\n",
       "      <th></th>\n",
       "      <th>x</th>\n",
       "      <th>y</th>\n",
       "    </tr>\n",
       "  </thead>\n",
       "  <tbody>\n",
       "    <tr>\n",
       "      <th>0</th>\n",
       "      <td>-2.482113</td>\n",
       "      <td>-8.542024</td>\n",
       "    </tr>\n",
       "    <tr>\n",
       "      <th>1</th>\n",
       "      <td>-2.362146</td>\n",
       "      <td>-6.576713</td>\n",
       "    </tr>\n",
       "    <tr>\n",
       "      <th>2</th>\n",
       "      <td>-1.997295</td>\n",
       "      <td>-5.949576</td>\n",
       "    </tr>\n",
       "    <tr>\n",
       "      <th>3</th>\n",
       "      <td>-1.623936</td>\n",
       "      <td>-4.479364</td>\n",
       "    </tr>\n",
       "    <tr>\n",
       "      <th>4</th>\n",
       "      <td>-1.479192</td>\n",
       "      <td>-4.251570</td>\n",
       "    </tr>\n",
       "    <tr>\n",
       "      <th>...</th>\n",
       "      <td>...</td>\n",
       "      <td>...</td>\n",
       "    </tr>\n",
       "    <tr>\n",
       "      <th>95</th>\n",
       "      <td>2.244400</td>\n",
       "      <td>10.325987</td>\n",
       "    </tr>\n",
       "    <tr>\n",
       "      <th>96</th>\n",
       "      <td>2.393501</td>\n",
       "      <td>12.266493</td>\n",
       "    </tr>\n",
       "    <tr>\n",
       "      <th>97</th>\n",
       "      <td>2.605604</td>\n",
       "      <td>13.098280</td>\n",
       "    </tr>\n",
       "    <tr>\n",
       "      <th>98</th>\n",
       "      <td>2.605658</td>\n",
       "      <td>12.546793</td>\n",
       "    </tr>\n",
       "    <tr>\n",
       "      <th>99</th>\n",
       "      <td>2.663240</td>\n",
       "      <td>13.834002</td>\n",
       "    </tr>\n",
       "  </tbody>\n",
       "</table>\n",
       "<p>100 rows × 2 columns</p>\n",
       "</div>"
      ],
      "text/plain": [
       "           x          y\n",
       "0  -2.482113  -8.542024\n",
       "1  -2.362146  -6.576713\n",
       "2  -1.997295  -5.949576\n",
       "3  -1.623936  -4.479364\n",
       "4  -1.479192  -4.251570\n",
       "..       ...        ...\n",
       "95  2.244400  10.325987\n",
       "96  2.393501  12.266493\n",
       "97  2.605604  13.098280\n",
       "98  2.605658  12.546793\n",
       "99  2.663240  13.834002\n",
       "\n",
       "[100 rows x 2 columns]"
      ]
     },
     "execution_count": 25,
     "metadata": {},
     "output_type": "execute_result"
    }
   ],
   "source": [
    "df = pd.read_csv(\"https://raw.githubusercontent.com/guebin/DL2022/master/_notebooks/2022-09-22-regression.csv\") \n",
    "df"
   ]
  },
  {
   "cell_type": "code",
   "execution_count": 30,
   "id": "044144db-1049-4268-b4cb-f77c6551edea",
   "metadata": {},
   "outputs": [
    {
     "data": {
      "text/plain": [
       "[<matplotlib.lines.Line2D at 0x7f6c385ae400>]"
      ]
     },
     "execution_count": 30,
     "metadata": {},
     "output_type": "execute_result"
    },
    {
     "data": {
      "image/png": "[encoded data removed]",
      "text/plain": [
       "<Figure size 432x288 with 1 Axes>"
      ]
     },
     "metadata": {
      "needs_background": "light"
     },
     "output_type": "display_data"
    }
   ],
   "source": [
    "plt.plot(df.x, df.y,'o')"
   ]
  },
  {
   "cell_type": "code",
   "execution_count": 31,
   "id": "2f581b46-aad3-4c11-8b57-650a3242864b",
   "metadata": {},
   "outputs": [
    {
     "data": {
      "text/plain": [
       "tensor([-2.4821, -2.3621, -1.9973, -1.6239, -1.4792, -1.4635, -1.4509, -1.4435,\n",
       "        -1.3722, -1.3079, -1.1904, -1.1092, -1.1054, -1.0875, -0.9469, -0.9319,\n",
       "        -0.8643, -0.7858, -0.7549, -0.7421, -0.6948, -0.6103, -0.5830, -0.5621,\n",
       "        -0.5506, -0.5058, -0.4806, -0.4738, -0.4710, -0.4676, -0.3874, -0.3719,\n",
       "        -0.3688, -0.3159, -0.2775, -0.2772, -0.2734, -0.2721, -0.2668, -0.2155,\n",
       "        -0.2000, -0.1816, -0.1708, -0.1565, -0.1448, -0.1361, -0.1057, -0.0603,\n",
       "        -0.0559, -0.0214,  0.0655,  0.0684,  0.1195,  0.1420,  0.1521,  0.1568,\n",
       "         0.2646,  0.2656,  0.3157,  0.3220,  0.3461,  0.3984,  0.4190,  0.5443,\n",
       "         0.5579,  0.5913,  0.6148,  0.6469,  0.6469,  0.6523,  0.6674,  0.7059,\n",
       "         0.7141,  0.7822,  0.8154,  0.8668,  0.9291,  0.9804,  0.9853,  0.9941,\n",
       "         1.0376,  1.0393,  1.0697,  1.1024,  1.1126,  1.1532,  1.2289,  1.3403,\n",
       "         1.3494,  1.4279,  1.4994,  1.5031,  1.5437,  1.6789,  2.0832,  2.2444,\n",
       "         2.3935,  2.6056,  2.6057,  2.6632], dtype=torch.float64)"
      ]
     },
     "execution_count": 31,
     "metadata": {},
     "output_type": "execute_result"
    }
   ],
   "source": [
    "torch.tensor(df.x)"
   ]
  },
  {
   "cell_type": "markdown",
   "id": "431ae2ab-7d44-4a05-96a7-0e4fdc51eeac",
   "metadata": {},
   "source": [
    "float63 숫자 정밀 저장"
   ]
  },
  {
   "cell_type": "markdown",
   "id": "ffb7b11f-f0b2-445d-949c-ea2d6e40d9c7",
   "metadata": {},
   "source": [
    "float30이면 `dtype=torch.float64)`꼬리표가 붙지 않음"
   ]
  },
  {
   "cell_type": "markdown",
   "id": "de597656-c769-4b24-8905-8dbe7ba84b5d",
   "metadata": {},
   "source": [
    "```python\n",
    "_trt = torch.tensor(df.x).float()\n",
    "_trt = torch.tensor(df.x,dtype=float30)\n",
    "```\n",
    "같은 역할, 메모리 적게 쓰기 위해 타입 바꿔주자"
   ]
  },
  {
   "cell_type": "markdown",
   "id": "4ed3a119-e5c4-4437-a0c3-2e0da8d43ec8",
   "metadata": {},
   "source": [
    "```python\n",
    "x= torch.tensor(df.x,dtype=torch.float32).reshape(100,1)\n",
    "```\n",
    "컬럼형식으로 받아주기 위해 변경"
   ]
  },
  {
   "cell_type": "code",
   "execution_count": 33,
   "id": "aa8b0ffd-1404-4887-b5d7-c53a4ce3dffc",
   "metadata": {
    "id": "aa8b0ffd-1404-4887-b5d7-c53a4ce3dffc"
   },
   "outputs": [],
   "source": [
    "x= torch.tensor(df.x,dtype=torch.float32).reshape(100,1)\n",
    "y= torch.tensor(df.y,dtype=torch.float32).reshape(100,1)\n",
    "_1= torch.ones([100,1])\n",
    "X = torch.concat([_1,x],axis=1)"
   ]
  },
  {
   "cell_type": "markdown",
   "id": "028efe26-17fa-47cf-9fcd-7c751f5901c3",
   "metadata": {},
   "source": [
    "```pyhon\n",
    "torch.ones([100,1])\n",
    "torch.tensor([[1]*100,x]).T\n",
    "```\n",
    "같은 셋"
   ]
  },
  {
   "cell_type": "code",
   "execution_count": 27,
   "id": "3e153a0e-2f9a-4be2-afe1-4f1c89681dce",
   "metadata": {
    "id": "dc9fffa9-9730-4344-add7-259e9f78e1ad",
    "outputId": "dc1ddf28-0237-44c6-8214-bd507e78a690"
   },
   "outputs": [
    {
     "data": {
      "text/plain": [
       "tensor([[-5.],\n",
       "        [10.]], requires_grad=True)"
      ]
     },
     "execution_count": 27,
     "metadata": {},
     "output_type": "execute_result"
    }
   ],
   "source": [
    "What = torch.tensor([[-5.0],[10.0]],requires_grad=True)\n",
    "What"
   ]
  },
  {
   "cell_type": "markdown",
   "id": "2dab34c3-54f7-4314-abfa-d8b1929c0971",
   "metadata": {},
   "source": [
    "```python\n",
    "requires_grad=True \n",
    "```\n",
    "reshape 미분 가능 옵션 주기 전에 shape 정해주자"
   ]
  },
  {
   "cell_type": "code",
   "execution_count": 35,
   "id": "54b28c1a-b07f-4ea2-a46f-ea3980e817d7",
   "metadata": {
    "id": "54b28c1a-b07f-4ea2-a46f-ea3980e817d7",
    "outputId": "5e538b3e-cce3-41d7-ff7c-0c7763400863"
   },
   "outputs": [
    {
     "data": {
      "text/plain": [
       "[<matplotlib.lines.Line2D at 0x7f6c30ad25b0>]"
      ]
     },
     "execution_count": 35,
     "metadata": {},
     "output_type": "execute_result"
    },
    {
     "data": {
      "image/png": "[encoded data removed]",
      "text/plain": [
       "<Figure size 432x288 with 1 Axes>"
      ]
     },
     "metadata": {
      "needs_background": "light"
     },
     "output_type": "display_data"
    }
   ],
   "source": [
    "plt.plot(x,y,'o')\n",
    "#plt.plot(x,-5+10*x,'--')\n",
    "plt.plot(x,X@What.data,'--')"
   ]
  },
  {
   "cell_type": "markdown",
   "id": "35184436-c493-4d78-8b23-82427f9faee2",
   "metadata": {
    "id": "35184436-c493-4d78-8b23-82427f9faee2"
   },
   "source": [
    "### ver1: loss = sum of squares error"
   ]
  },
  {
   "cell_type": "code",
   "execution_count": 36,
   "id": "21661af5-22c3-4c8a-ac8a-288208be1b3c",
   "metadata": {
    "id": "21661af5-22c3-4c8a-ac8a-288208be1b3c"
   },
   "outputs": [],
   "source": [
    "alpha = 1/1000\n",
    "What = torch.tensor([[-5.0],[10.0]],requires_grad=True)\n",
    "for epoc in range(30): \n",
    "    # step1: yhat \n",
    "    yhat = X@What \n",
    "    # step2: loss \n",
    "    loss = torch.sum((y-yhat)**2)\n",
    "    # step3: 미분 \n",
    "    loss.backward()\n",
    "    # step4: update \n",
    "    What.data = What.data - alpha * What.grad \n",
    "    What.grad = None # "
   ]
  },
  {
   "cell_type": "code",
   "execution_count": 37,
   "id": "2f06866c-d2b4-4b41-8d4b-18b86479187a",
   "metadata": {
    "id": "2f06866c-d2b4-4b41-8d4b-18b86479187a",
    "outputId": "b173f119-3d76-41bc-ea7b-efbaacb0b68c"
   },
   "outputs": [
    {
     "data": {
      "text/plain": [
       "tensor([[2.4290],\n",
       "        [4.0144]], requires_grad=True)"
      ]
     },
     "execution_count": 37,
     "metadata": {},
     "output_type": "execute_result"
    }
   ],
   "source": [
    "What"
   ]
  },
  {
   "cell_type": "code",
   "execution_count": 38,
   "id": "aa79c93b-3229-4e3d-8abb-522327439700",
   "metadata": {
    "id": "aa79c93b-3229-4e3d-8abb-522327439700",
    "outputId": "969c3e6d-3ed1-4982-e6e3-3e389a16b4b3"
   },
   "outputs": [
    {
     "data": {
      "text/plain": [
       "[<matplotlib.lines.Line2D at 0x7f6c30df8190>]"
      ]
     },
     "execution_count": 38,
     "metadata": {},
     "output_type": "execute_result"
    },
    {
     "data": {
      "image/png": "[encoded data removed]",
      "text/plain": [
       "<Figure size 432x288 with 1 Axes>"
      ]
     },
     "metadata": {
      "needs_background": "light"
     },
     "output_type": "display_data"
    }
   ],
   "source": [
    "plt.plot(x,y,'o') \n",
    "plt.plot(x,X@What.data,'--')"
   ]
  },
  {
   "cell_type": "markdown",
   "id": "9be29d1d-29b7-408c-925d-3fd4a7d81e83",
   "metadata": {
    "id": "9be29d1d-29b7-408c-925d-3fd4a7d81e83"
   },
   "source": [
    "- note: 왜 What = What - alpha*What.grad 는 안되는지?"
   ]
  },
  {
   "cell_type": "markdown",
   "id": "6470d9f8-13bf-4f5d-8623-6bb836bb7dc5",
   "metadata": {
    "id": "6470d9f8-13bf-4f5d-8623-6bb836bb7dc5"
   },
   "source": [
    "### ver2: loss = mean squared error = MSE "
   ]
  },
  {
   "cell_type": "code",
   "execution_count": 39,
   "id": "67cc60db-b8fb-4b5e-a516-343908c5b00c",
   "metadata": {
    "id": "67cc60db-b8fb-4b5e-a516-343908c5b00c"
   },
   "outputs": [],
   "source": [
    "alpha = 1/10\n",
    "What = torch.tensor([[-5.0],[10.0]],requires_grad=True)\n",
    "for epoc in range(30): \n",
    "    # step1: yhat \n",
    "    yhat = X@What \n",
    "    # step2: loss \n",
    "    loss = torch.mean((y-yhat)**2)\n",
    "    # step3: 미분 \n",
    "    loss.backward()\n",
    "    # step4: update \n",
    "    What.data = What.data - alpha * What.grad \n",
    "    What.grad = None # "
   ]
  },
  {
   "cell_type": "code",
   "execution_count": 40,
   "id": "ada0db67-f4fd-40d6-8081-07e915eb7491",
   "metadata": {
    "id": "ada0db67-f4fd-40d6-8081-07e915eb7491",
    "outputId": "246a5c48-dd44-4616-e4b7-54f30681f1a3"
   },
   "outputs": [
    {
     "data": {
      "text/plain": [
       "tensor([[2.4290],\n",
       "        [4.0144]], requires_grad=True)"
      ]
     },
     "execution_count": 40,
     "metadata": {},
     "output_type": "execute_result"
    }
   ],
   "source": [
    "What"
   ]
  },
  {
   "cell_type": "markdown",
   "id": "b6f0fb48-81d8-4d90-8a64-8b9e8c2171f0",
   "metadata": {},
   "source": [
    "mean 정의\n",
    "- 데이터를 더 효율적으로 학습 가능, 데이터 수만큼 안 해도 돼, 계산 덜 해도 돼"
   ]
  },
  {
   "cell_type": "markdown",
   "id": "cf14b6f0-496e-4e63-a998-5bbe744ddedf",
   "metadata": {
    "id": "cf14b6f0-496e-4e63-a998-5bbe744ddedf"
   },
   "source": [
    "## step1의 다른버전 -- net 설계만"
   ]
  },
  {
   "cell_type": "markdown",
   "id": "5a1391a1-9ab7-4d16-bb81-34914921b273",
   "metadata": {
    "id": "5a1391a1-9ab7-4d16-bb81-34914921b273"
   },
   "source": [
    "### ver1: net = torch.nn.Linear(1,1,bias=True) "
   ]
  },
  {
   "cell_type": "code",
   "execution_count": 42,
   "id": "c9d64e66-6021-4a1a-856f-c5b60cea0c3f",
   "metadata": {},
   "outputs": [
    {
     "data": {
      "text/plain": [
       "\u001b[0;31mInit signature:\u001b[0m\n",
       "\u001b[0mtorch\u001b[0m\u001b[0;34m.\u001b[0m\u001b[0mnn\u001b[0m\u001b[0;34m.\u001b[0m\u001b[0mLinear\u001b[0m\u001b[0;34m(\u001b[0m\u001b[0;34m\u001b[0m\n",
       "\u001b[0;34m\u001b[0m    \u001b[0min_features\u001b[0m\u001b[0;34m:\u001b[0m \u001b[0mint\u001b[0m\u001b[0;34m,\u001b[0m\u001b[0;34m\u001b[0m\n",
       "\u001b[0;34m\u001b[0m    \u001b[0mout_features\u001b[0m\u001b[0;34m:\u001b[0m \u001b[0mint\u001b[0m\u001b[0;34m,\u001b[0m\u001b[0;34m\u001b[0m\n",
       "\u001b[0;34m\u001b[0m    \u001b[0mbias\u001b[0m\u001b[0;34m:\u001b[0m \u001b[0mbool\u001b[0m \u001b[0;34m=\u001b[0m \u001b[0;32mTrue\u001b[0m\u001b[0;34m,\u001b[0m\u001b[0;34m\u001b[0m\n",
       "\u001b[0;34m\u001b[0m    \u001b[0mdevice\u001b[0m\u001b[0;34m=\u001b[0m\u001b[0;32mNone\u001b[0m\u001b[0;34m,\u001b[0m\u001b[0;34m\u001b[0m\n",
       "\u001b[0;34m\u001b[0m    \u001b[0mdtype\u001b[0m\u001b[0;34m=\u001b[0m\u001b[0;32mNone\u001b[0m\u001b[0;34m,\u001b[0m\u001b[0;34m\u001b[0m\n",
       "\u001b[0;34m\u001b[0m\u001b[0;34m)\u001b[0m \u001b[0;34m->\u001b[0m \u001b[0;32mNone\u001b[0m\u001b[0;34m\u001b[0m\u001b[0;34m\u001b[0m\u001b[0m\n",
       "\u001b[0;31mDocstring:\u001b[0m     \n",
       "Applies a linear transformation to the incoming data: :math:`y = xA^T + b`\n",
       "\n",
       "This module supports :ref:`TensorFloat32<tf32_on_ampere>`.\n",
       "\n",
       "Args:\n",
       "    in_features: size of each input sample\n",
       "    out_features: size of each output sample\n",
       "    bias: If set to ``False``, the layer will not learn an additive bias.\n",
       "        Default: ``True``\n",
       "\n",
       "Shape:\n",
       "    - Input: :math:`(*, H_{in})` where :math:`*` means any number of\n",
       "      dimensions including none and :math:`H_{in} = \\text{in\\_features}`.\n",
       "    - Output: :math:`(*, H_{out})` where all but the last dimension\n",
       "      are the same shape as the input and :math:`H_{out} = \\text{out\\_features}`.\n",
       "\n",
       "Attributes:\n",
       "    weight: the learnable weights of the module of shape\n",
       "        :math:`(\\text{out\\_features}, \\text{in\\_features})`. The values are\n",
       "        initialized from :math:`\\mathcal{U}(-\\sqrt{k}, \\sqrt{k})`, where\n",
       "        :math:`k = \\frac{1}{\\text{in\\_features}}`\n",
       "    bias:   the learnable bias of the module of shape :math:`(\\text{out\\_features})`.\n",
       "            If :attr:`bias` is ``True``, the values are initialized from\n",
       "            :math:`\\mathcal{U}(-\\sqrt{k}, \\sqrt{k})` where\n",
       "            :math:`k = \\frac{1}{\\text{in\\_features}}`\n",
       "\n",
       "Examples::\n",
       "\n",
       "    >>> m = nn.Linear(20, 30)\n",
       "    >>> input = torch.randn(128, 20)\n",
       "    >>> output = m(input)\n",
       "    >>> print(output.size())\n",
       "    torch.Size([128, 30])\n",
       "\u001b[0;31mInit docstring:\u001b[0m Initializes internal Module state, shared by both nn.Module and ScriptModule.\n",
       "\u001b[0;31mFile:\u001b[0m           ~/anaconda3/envs/csy/lib/python3.8/site-packages/torch/nn/modules/linear.py\n",
       "\u001b[0;31mType:\u001b[0m           type\n",
       "\u001b[0;31mSubclasses:\u001b[0m     NonDynamicallyQuantizableLinear, LazyLinear, Linear, Linear\n"
      ]
     },
     "metadata": {},
     "output_type": "display_data"
    }
   ],
   "source": [
    "torch.nn.Linear?"
   ]
  },
  {
   "cell_type": "markdown",
   "id": "053d4db8-5a01-4e07-a386-efd446b37628",
   "metadata": {},
   "source": [
    "input 잡는 법\n",
    "- x의 컬럼 부분을 input이라고 생각하자"
   ]
  },
  {
   "cell_type": "code",
   "execution_count": 43,
   "id": "f14361fc-4d5c-462a-a4ba-929f38f422d7",
   "metadata": {},
   "outputs": [
    {
     "data": {
      "text/plain": [
       "torch.Size([100, 1])"
      ]
     },
     "execution_count": 43,
     "metadata": {},
     "output_type": "execute_result"
    }
   ],
   "source": [
    "x.shape"
   ]
  },
  {
   "cell_type": "markdown",
   "id": "37860d31-70b0-4b59-b56e-558476622b56",
   "metadata": {},
   "source": [
    "output 잡는 법\n",
    "- y의 컬럼 부분을 output이라고 생각하자"
   ]
  },
  {
   "cell_type": "code",
   "execution_count": 44,
   "id": "fec56164-89a3-4fde-b5f1-7e7f0a83283a",
   "metadata": {},
   "outputs": [
    {
     "data": {
      "text/plain": [
       "torch.Size([100, 1])"
      ]
     },
     "execution_count": 44,
     "metadata": {},
     "output_type": "execute_result"
    }
   ],
   "source": [
    "y.shape"
   ]
  },
  {
   "cell_type": "code",
   "execution_count": 45,
   "id": "6cd8fa44-d98b-4a7b-8b3d-148d9adba78e",
   "metadata": {},
   "outputs": [],
   "source": [
    "_net =  torch.nn.Linear(in_features=1, out_features=1, bias=True) "
   ]
  },
  {
   "cell_type": "code",
   "execution_count": 47,
   "id": "26de3258-7b20-4276-8368-f7146febb06f",
   "metadata": {},
   "outputs": [
    {
     "data": {
      "text/plain": [
       "torch.Size([100, 1])"
      ]
     },
     "execution_count": 47,
     "metadata": {},
     "output_type": "execute_result"
    }
   ],
   "source": [
    "_net(x).shape"
   ]
  },
  {
   "cell_type": "code",
   "execution_count": 52,
   "id": "a0483bf5-6461-42a9-8272-566a7e400846",
   "metadata": {},
   "outputs": [
    {
     "data": {
      "text/plain": [
       "Parameter containing:\n",
       "tensor([-0.6065], requires_grad=True)"
      ]
     },
     "execution_count": 52,
     "metadata": {},
     "output_type": "execute_result"
    }
   ],
   "source": [
    "_net.bias # w0"
   ]
  },
  {
   "cell_type": "code",
   "execution_count": 53,
   "id": "9fb578c4-6c88-43d2-b141-4b013024291c",
   "metadata": {},
   "outputs": [
    {
     "data": {
      "text/plain": [
       "Parameter containing:\n",
       "tensor([[-0.7280]], requires_grad=True)"
      ]
     },
     "execution_count": 53,
     "metadata": {},
     "output_type": "execute_result"
    }
   ],
   "source": [
    "_net.weight # w1"
   ]
  },
  {
   "cell_type": "code",
   "execution_count": 57,
   "id": "9d0beed9-988a-4508-a0ee-3c0b97abe539",
   "metadata": {
    "id": "ba336824-2de7-4c65-93b9-5fb36239e624"
   },
   "outputs": [],
   "source": [
    "torch.manual_seed(43052)\n",
    "net = torch.nn.Linear(in_features=1, out_features=1, bias=True) "
   ]
  },
  {
   "cell_type": "code",
   "execution_count": 61,
   "id": "0488725c-43cc-4820-bf30-a01d227c1295",
   "metadata": {},
   "outputs": [
    {
     "data": {
      "text/plain": [
       "(Parameter containing:\n",
       " tensor([-0.8470], requires_grad=True),\n",
       " Parameter containing:\n",
       " tensor([[-0.3467]], requires_grad=True))"
      ]
     },
     "execution_count": 61,
     "metadata": {},
     "output_type": "execute_result"
    }
   ],
   "source": [
    "net.bias, net.weight"
   ]
  },
  {
   "cell_type": "code",
   "execution_count": 63,
   "id": "c7dd1a97-0cde-47b3-a864-4c7ee0d7f245",
   "metadata": {
    "id": "c7dd1a97-0cde-47b3-a864-4c7ee0d7f245",
    "outputId": "546e2440-9bd2-4609-d307-939699ec4f9e"
   },
   "outputs": [
    {
     "data": {
      "text/plain": [
       "[<matplotlib.lines.Line2D at 0x7f6c30c14220>]"
      ]
     },
     "execution_count": 63,
     "metadata": {},
     "output_type": "execute_result"
    },
    {
     "data": {
      "image/png": "[encoded data removed]",
      "text/plain": [
       "<Figure size 432x288 with 1 Axes>"
      ]
     },
     "metadata": {
      "needs_background": "light"
     },
     "output_type": "display_data"
    }
   ],
   "source": [
    "plt.plot(x,y,'o')\n",
    "plt.plot(x,net(x).data,'--')\n",
    "w0hat = -0.847\n",
    "w1hat = -0.3467\n",
    "plt.plot(x,w0hat+w1hat*x,'--')"
   ]
  },
  {
   "cell_type": "markdown",
   "id": "02d85294-527b-44d4-8612-9fe89a31d170",
   "metadata": {},
   "source": [
    "출력결과 같음을 확인"
   ]
  },
  {
   "cell_type": "markdown",
   "id": "8d73ffa8-264e-478a-b868-c15023eea226",
   "metadata": {
    "id": "8d73ffa8-264e-478a-b868-c15023eea226"
   },
   "source": [
    "`-` net에서 $\\hat{w}_0, \\hat{w}_1$ 의 값은? "
   ]
  },
  {
   "cell_type": "code",
   "execution_count": 64,
   "id": "fca0f7d3-b773-4b4f-a49c-514749aafe4b",
   "metadata": {
    "id": "fca0f7d3-b773-4b4f-a49c-514749aafe4b",
    "outputId": "65450194-e1cc-4fee-f287-fa6c7cac98b8"
   },
   "outputs": [
    {
     "data": {
      "text/plain": [
       "Parameter containing:\n",
       "tensor([[-0.3467]], requires_grad=True)"
      ]
     },
     "execution_count": 64,
     "metadata": {},
     "output_type": "execute_result"
    }
   ],
   "source": [
    "net.weight # w1 "
   ]
  },
  {
   "cell_type": "code",
   "execution_count": 65,
   "id": "d9b4e0e7-8e9c-4bb2-89ac-50828b699e4f",
   "metadata": {
    "id": "d9b4e0e7-8e9c-4bb2-89ac-50828b699e4f",
    "outputId": "f82772ec-ed22-4438-80c8-d5389b09f051"
   },
   "outputs": [
    {
     "data": {
      "text/plain": [
       "Parameter containing:\n",
       "tensor([-0.8470], requires_grad=True)"
      ]
     },
     "execution_count": 65,
     "metadata": {},
     "output_type": "execute_result"
    }
   ],
   "source": [
    "net.bias # w0 "
   ]
  },
  {
   "cell_type": "code",
   "execution_count": 66,
   "id": "e246abba-3639-4289-8964-d64f0b0c5a5b",
   "metadata": {
    "id": "e246abba-3639-4289-8964-d64f0b0c5a5b"
   },
   "outputs": [],
   "source": [
    "_yhat = -0.8470 + -0.3467*x "
   ]
  },
  {
   "cell_type": "code",
   "execution_count": 67,
   "id": "113b1bcd-6e88-4d3c-974a-99994f20557e",
   "metadata": {
    "id": "113b1bcd-6e88-4d3c-974a-99994f20557e",
    "outputId": "34fc4312-2598-4ad2-fbff-14f6d9282eca"
   },
   "outputs": [
    {
     "data": {
      "text/plain": [
       "[<matplotlib.lines.Line2D at 0x7f6c307226d0>]"
      ]
     },
     "execution_count": 67,
     "metadata": {},
     "output_type": "execute_result"
    },
    {
     "data": {
      "image/png": "[encoded data removed]",
      "text/plain": [
       "<Figure size 432x288 with 1 Axes>"
      ]
     },
     "metadata": {
      "needs_background": "light"
     },
     "output_type": "display_data"
    }
   ],
   "source": [
    "plt.plot(x,y,'o')\n",
    "plt.plot(x, _yhat,'--')\n",
    "plt.plot(x,net(x).data,'-.')"
   ]
  },
  {
   "cell_type": "markdown",
   "id": "a8344a6d-4e57-4d7d-ac75-fb09e65698ea",
   "metadata": {
    "id": "a8344a6d-4e57-4d7d-ac75-fb09e65698ea"
   },
   "source": [
    "`-` 수식표현: $\\hat{y}_i = \\hat{w}_0 + \\hat{w}_1 x_i = \\hat{b} + \\hat{w}x_i =  -0.8470 + -0.3467 x_i$ for all $i=1,2,\\dots,100$. "
   ]
  },
  {
   "cell_type": "markdown",
   "id": "c360d8da-a0a0-4b31-8c55-9902df2c5081",
   "metadata": {
    "id": "c360d8da-a0a0-4b31-8c55-9902df2c5081"
   },
   "source": [
    "### ver2: net = torch.nn.Linear(2,1,bias=False) "
   ]
  },
  {
   "cell_type": "markdown",
   "id": "85f4e2ed-3f60-4d7f-beff-3144fc51ee5f",
   "metadata": {
    "id": "85f4e2ed-3f60-4d7f-beff-3144fc51ee5f"
   },
   "source": [
    "`-` 입력이 x가 아닌 X를 넣고 싶다면? (보통 잘 안하긴 해요, 왜? bias=False로 주는게 귀찮거든요)\n",
    "- X는 바이어스가 고려된 상황 "
   ]
  },
  {
   "cell_type": "code",
   "execution_count": 68,
   "id": "87c19fe9-dec0-40c0-9727-c155f7b7ca3e",
   "metadata": {
    "id": "87c19fe9-dec0-40c0-9727-c155f7b7ca3e",
    "outputId": "ec8e7a02-422d-40ad-cbc8-5fd236e66bf1"
   },
   "outputs": [
    {
     "ename": "RuntimeError",
     "evalue": "mat1 and mat2 shapes cannot be multiplied (100x2 and 1x1)",
     "output_type": "error",
     "traceback": [
      "\u001b[0;31m---------------------------------------------------------------------------\u001b[0m",
      "\u001b[0;31mRuntimeError\u001b[0m                              Traceback (most recent call last)",
      "\u001b[0;32m/tmp/ipykernel_637318/1183070275.py\u001b[0m in \u001b[0;36m<module>\u001b[0;34m\u001b[0m\n\u001b[0;32m----> 1\u001b[0;31m \u001b[0mnet\u001b[0m\u001b[0;34m(\u001b[0m\u001b[0mX\u001b[0m\u001b[0;34m)\u001b[0m \u001b[0;31m## 그대로 쓰면 당연히 에러\u001b[0m\u001b[0;34m\u001b[0m\u001b[0;34m\u001b[0m\u001b[0m\n\u001b[0m",
      "\u001b[0;32m~/anaconda3/envs/csy/lib/python3.8/site-packages/torch/nn/modules/module.py\u001b[0m in \u001b[0;36m_call_impl\u001b[0;34m(self, *input, **kwargs)\u001b[0m\n\u001b[1;32m   1100\u001b[0m         if not (self._backward_hooks or self._forward_hooks or self._forward_pre_hooks or _global_backward_hooks\n\u001b[1;32m   1101\u001b[0m                 or _global_forward_hooks or _global_forward_pre_hooks):\n\u001b[0;32m-> 1102\u001b[0;31m             \u001b[0;32mreturn\u001b[0m \u001b[0mforward_call\u001b[0m\u001b[0;34m(\u001b[0m\u001b[0;34m*\u001b[0m\u001b[0minput\u001b[0m\u001b[0;34m,\u001b[0m \u001b[0;34m**\u001b[0m\u001b[0mkwargs\u001b[0m\u001b[0;34m)\u001b[0m\u001b[0;34m\u001b[0m\u001b[0;34m\u001b[0m\u001b[0m\n\u001b[0m\u001b[1;32m   1103\u001b[0m         \u001b[0;31m# Do not call functions when jit is used\u001b[0m\u001b[0;34m\u001b[0m\u001b[0;34m\u001b[0m\u001b[0;34m\u001b[0m\u001b[0m\n\u001b[1;32m   1104\u001b[0m         \u001b[0mfull_backward_hooks\u001b[0m\u001b[0;34m,\u001b[0m \u001b[0mnon_full_backward_hooks\u001b[0m \u001b[0;34m=\u001b[0m \u001b[0;34m[\u001b[0m\u001b[0;34m]\u001b[0m\u001b[0;34m,\u001b[0m \u001b[0;34m[\u001b[0m\u001b[0;34m]\u001b[0m\u001b[0;34m\u001b[0m\u001b[0;34m\u001b[0m\u001b[0m\n",
      "\u001b[0;32m~/anaconda3/envs/csy/lib/python3.8/site-packages/torch/nn/modules/linear.py\u001b[0m in \u001b[0;36mforward\u001b[0;34m(self, input)\u001b[0m\n\u001b[1;32m    101\u001b[0m \u001b[0;34m\u001b[0m\u001b[0m\n\u001b[1;32m    102\u001b[0m     \u001b[0;32mdef\u001b[0m \u001b[0mforward\u001b[0m\u001b[0;34m(\u001b[0m\u001b[0mself\u001b[0m\u001b[0;34m,\u001b[0m \u001b[0minput\u001b[0m\u001b[0;34m:\u001b[0m \u001b[0mTensor\u001b[0m\u001b[0;34m)\u001b[0m \u001b[0;34m->\u001b[0m \u001b[0mTensor\u001b[0m\u001b[0;34m:\u001b[0m\u001b[0;34m\u001b[0m\u001b[0;34m\u001b[0m\u001b[0m\n\u001b[0;32m--> 103\u001b[0;31m         \u001b[0;32mreturn\u001b[0m \u001b[0mF\u001b[0m\u001b[0;34m.\u001b[0m\u001b[0mlinear\u001b[0m\u001b[0;34m(\u001b[0m\u001b[0minput\u001b[0m\u001b[0;34m,\u001b[0m \u001b[0mself\u001b[0m\u001b[0;34m.\u001b[0m\u001b[0mweight\u001b[0m\u001b[0;34m,\u001b[0m \u001b[0mself\u001b[0m\u001b[0;34m.\u001b[0m\u001b[0mbias\u001b[0m\u001b[0;34m)\u001b[0m\u001b[0;34m\u001b[0m\u001b[0;34m\u001b[0m\u001b[0m\n\u001b[0m\u001b[1;32m    104\u001b[0m \u001b[0;34m\u001b[0m\u001b[0m\n\u001b[1;32m    105\u001b[0m     \u001b[0;32mdef\u001b[0m \u001b[0mextra_repr\u001b[0m\u001b[0;34m(\u001b[0m\u001b[0mself\u001b[0m\u001b[0;34m)\u001b[0m \u001b[0;34m->\u001b[0m \u001b[0mstr\u001b[0m\u001b[0;34m:\u001b[0m\u001b[0;34m\u001b[0m\u001b[0;34m\u001b[0m\u001b[0m\n",
      "\u001b[0;32m~/anaconda3/envs/csy/lib/python3.8/site-packages/torch/nn/functional.py\u001b[0m in \u001b[0;36mlinear\u001b[0;34m(input, weight, bias)\u001b[0m\n\u001b[1;32m   1846\u001b[0m     \u001b[0;32mif\u001b[0m \u001b[0mhas_torch_function_variadic\u001b[0m\u001b[0;34m(\u001b[0m\u001b[0minput\u001b[0m\u001b[0;34m,\u001b[0m \u001b[0mweight\u001b[0m\u001b[0;34m,\u001b[0m \u001b[0mbias\u001b[0m\u001b[0;34m)\u001b[0m\u001b[0;34m:\u001b[0m\u001b[0;34m\u001b[0m\u001b[0;34m\u001b[0m\u001b[0m\n\u001b[1;32m   1847\u001b[0m         \u001b[0;32mreturn\u001b[0m \u001b[0mhandle_torch_function\u001b[0m\u001b[0;34m(\u001b[0m\u001b[0mlinear\u001b[0m\u001b[0;34m,\u001b[0m \u001b[0;34m(\u001b[0m\u001b[0minput\u001b[0m\u001b[0;34m,\u001b[0m \u001b[0mweight\u001b[0m\u001b[0;34m,\u001b[0m \u001b[0mbias\u001b[0m\u001b[0;34m)\u001b[0m\u001b[0;34m,\u001b[0m \u001b[0minput\u001b[0m\u001b[0;34m,\u001b[0m \u001b[0mweight\u001b[0m\u001b[0;34m,\u001b[0m \u001b[0mbias\u001b[0m\u001b[0;34m=\u001b[0m\u001b[0mbias\u001b[0m\u001b[0;34m)\u001b[0m\u001b[0;34m\u001b[0m\u001b[0;34m\u001b[0m\u001b[0m\n\u001b[0;32m-> 1848\u001b[0;31m     \u001b[0;32mreturn\u001b[0m \u001b[0mtorch\u001b[0m\u001b[0;34m.\u001b[0m\u001b[0m_C\u001b[0m\u001b[0;34m.\u001b[0m\u001b[0m_nn\u001b[0m\u001b[0;34m.\u001b[0m\u001b[0mlinear\u001b[0m\u001b[0;34m(\u001b[0m\u001b[0minput\u001b[0m\u001b[0;34m,\u001b[0m \u001b[0mweight\u001b[0m\u001b[0;34m,\u001b[0m \u001b[0mbias\u001b[0m\u001b[0;34m)\u001b[0m\u001b[0;34m\u001b[0m\u001b[0;34m\u001b[0m\u001b[0m\n\u001b[0m\u001b[1;32m   1849\u001b[0m \u001b[0;34m\u001b[0m\u001b[0m\n\u001b[1;32m   1850\u001b[0m \u001b[0;34m\u001b[0m\u001b[0m\n",
      "\u001b[0;31mRuntimeError\u001b[0m: mat1 and mat2 shapes cannot be multiplied (100x2 and 1x1)"
     ]
    }
   ],
   "source": [
    "net(X) ## 그대로 쓰면 당연히 에러"
   ]
  },
  {
   "cell_type": "code",
   "execution_count": 71,
   "id": "607e8818-30f5-437d-be3c-9dd134c6e005",
   "metadata": {
    "id": "607e8818-30f5-437d-be3c-9dd134c6e005"
   },
   "outputs": [],
   "source": [
    "torch.manual_seed(43052)\n",
    "net = torch.nn.Linear(in_features=2, out_features=1, bias=False) "
   ]
  },
  {
   "cell_type": "code",
   "execution_count": 73,
   "id": "367c47ad-bd4c-4aad-9f37-389ff623bca8",
   "metadata": {},
   "outputs": [
    {
     "data": {
      "text/plain": [
       "torch.Size([100, 1])"
      ]
     },
     "execution_count": 73,
     "metadata": {},
     "output_type": "execute_result"
    }
   ],
   "source": [
    "net(X).shape"
   ]
  },
  {
   "cell_type": "code",
   "execution_count": 74,
   "id": "0b071453-5e9f-457b-8c38-2ed9fbe7e21f",
   "metadata": {
    "id": "0b071453-5e9f-457b-8c38-2ed9fbe7e21f",
    "outputId": "3b6ace75-7d03-4533-f4fa-f52a9a5c8c00"
   },
   "outputs": [
    {
     "data": {
      "text/plain": [
       "Parameter containing:\n",
       "tensor([[-0.2451, -0.5989]], requires_grad=True)"
      ]
     },
     "execution_count": 74,
     "metadata": {},
     "output_type": "execute_result"
    }
   ],
   "source": [
    "net.weight"
   ]
  },
  {
   "cell_type": "markdown",
   "id": "3cd47355-3e30-4909-bc16-e30ed1cb047f",
   "metadata": {},
   "source": [
    "위에 $w_0,w_1$ 순"
   ]
  },
  {
   "cell_type": "code",
   "execution_count": 75,
   "id": "f6179f9d-4103-4a8c-9569-549eabc82e8c",
   "metadata": {
    "id": "f6179f9d-4103-4a8c-9569-549eabc82e8c"
   },
   "outputs": [],
   "source": [
    "net.bias"
   ]
  },
  {
   "cell_type": "markdown",
   "id": "c9ac26c5-e067-43f8-bae9-3f0fe9ef3218",
   "metadata": {},
   "source": [
    "bias 없음을 확인"
   ]
  },
  {
   "cell_type": "code",
   "execution_count": 77,
   "id": "1b9fdad5-6ad1-4ae8-98b7-2a33218c4dbe",
   "metadata": {
    "id": "1b9fdad5-6ad1-4ae8-98b7-2a33218c4dbe",
    "outputId": "43da2534-4606-4f78-811c-f435dca77240"
   },
   "outputs": [
    {
     "data": {
      "text/plain": [
       "[<matplotlib.lines.Line2D at 0x7f6c30ef14f0>]"
      ]
     },
     "execution_count": 77,
     "metadata": {},
     "output_type": "execute_result"
    },
    {
     "data": {
      "image/png": "[encoded data removed]",
      "text/plain": [
       "<Figure size 432x288 with 1 Axes>"
      ]
     },
     "metadata": {
      "needs_background": "light"
     },
     "output_type": "display_data"
    }
   ],
   "source": [
    "plt.plot(x,y,'o') \n",
    "plt.plot(x,net(X).data, '--')\n",
    "plt.plot(x,X@torch.tensor([[-0.2451],[-0.5989]]), '-.')"
   ]
  },
  {
   "cell_type": "markdown",
   "id": "abb92993-70cb-4a5e-8d77-68c99a7e4631",
   "metadata": {
    "id": "abb92993-70cb-4a5e-8d77-68c99a7e4631"
   },
   "source": [
    "`-` 수식표현: $\\hat{\\bf y} = {\\bf X} {\\bf \\hat W} = \\begin{bmatrix} 1 & x_1 \\\\ 1 & x_2 \\\\ \\dots & \\dots \\\\ 1 & x_{100} \\end{bmatrix}  \\begin{bmatrix} -0.2451 \\\\ -0.5989  \\end{bmatrix}$"
   ]
  },
  {
   "cell_type": "markdown",
   "id": "013fb80c-b2ec-45fb-886f-4f7bbbb4ce71",
   "metadata": {
    "id": "013fb80c-b2ec-45fb-886f-4f7bbbb4ce71"
   },
   "source": [
    "### 잘못된사용1"
   ]
  },
  {
   "cell_type": "code",
   "execution_count": 78,
   "id": "eb9289bc-6609-48fa-80f5-b5d54842bbb3",
   "metadata": {
    "id": "eb9289bc-6609-48fa-80f5-b5d54842bbb3"
   },
   "outputs": [],
   "source": [
    "_x = x.reshape(-1)"
   ]
  },
  {
   "cell_type": "code",
   "execution_count": 79,
   "id": "a30c6513-3c9b-452f-b6cb-4bae17ca306f",
   "metadata": {
    "id": "a30c6513-3c9b-452f-b6cb-4bae17ca306f",
    "outputId": "69473010-c0d2-4b40-c696-9a2aad5ce7ee"
   },
   "outputs": [
    {
     "data": {
      "text/plain": [
       "tensor([-2.4821, -2.3621, -1.9973, -1.6239, -1.4792, -1.4635, -1.4509, -1.4435,\n",
       "        -1.3722, -1.3079, -1.1904, -1.1092, -1.1054, -1.0875, -0.9469, -0.9319,\n",
       "        -0.8643, -0.7858, -0.7549, -0.7421, -0.6948, -0.6103, -0.5830, -0.5621,\n",
       "        -0.5506, -0.5058, -0.4806, -0.4738, -0.4710, -0.4676, -0.3874, -0.3719,\n",
       "        -0.3688, -0.3159, -0.2775, -0.2772, -0.2734, -0.2721, -0.2668, -0.2155,\n",
       "        -0.2000, -0.1816, -0.1708, -0.1565, -0.1448, -0.1361, -0.1057, -0.0603,\n",
       "        -0.0559, -0.0214,  0.0655,  0.0684,  0.1195,  0.1420,  0.1521,  0.1568,\n",
       "         0.2646,  0.2656,  0.3157,  0.3220,  0.3461,  0.3984,  0.4190,  0.5443,\n",
       "         0.5579,  0.5913,  0.6148,  0.6469,  0.6469,  0.6523,  0.6674,  0.7059,\n",
       "         0.7141,  0.7822,  0.8154,  0.8668,  0.9291,  0.9804,  0.9853,  0.9941,\n",
       "         1.0376,  1.0393,  1.0697,  1.1024,  1.1126,  1.1532,  1.2289,  1.3403,\n",
       "         1.3494,  1.4279,  1.4994,  1.5031,  1.5437,  1.6789,  2.0832,  2.2444,\n",
       "         2.3935,  2.6056,  2.6057,  2.6632])"
      ]
     },
     "execution_count": 79,
     "metadata": {},
     "output_type": "execute_result"
    }
   ],
   "source": [
    "_x"
   ]
  },
  {
   "cell_type": "code",
   "execution_count": 80,
   "id": "011fb3e7-1aba-4a1e-8026-fdc25617cbee",
   "metadata": {
    "id": "011fb3e7-1aba-4a1e-8026-fdc25617cbee"
   },
   "outputs": [],
   "source": [
    "torch.manual_seed(43052)\n",
    "net = torch.nn.Linear(in_features=1,out_features=1) "
   ]
  },
  {
   "cell_type": "code",
   "execution_count": 81,
   "id": "b1ebe59e-e241-4bfc-872f-323c3482e9be",
   "metadata": {
    "id": "b1ebe59e-e241-4bfc-872f-323c3482e9be",
    "outputId": "2d0d29d1-68f2-4ef1-d4f3-b9aef3f6f30f"
   },
   "outputs": [
    {
     "ename": "RuntimeError",
     "evalue": "mat1 and mat2 shapes cannot be multiplied (1x100 and 1x1)",
     "output_type": "error",
     "traceback": [
      "\u001b[0;31m---------------------------------------------------------------------------\u001b[0m",
      "\u001b[0;31mRuntimeError\u001b[0m                              Traceback (most recent call last)",
      "\u001b[0;32m/tmp/ipykernel_637318/3314203086.py\u001b[0m in \u001b[0;36m<module>\u001b[0;34m\u001b[0m\n\u001b[0;32m----> 1\u001b[0;31m \u001b[0mnet\u001b[0m\u001b[0;34m(\u001b[0m\u001b[0m_x\u001b[0m\u001b[0;34m)\u001b[0m\u001b[0;34m\u001b[0m\u001b[0;34m\u001b[0m\u001b[0m\n\u001b[0m",
      "\u001b[0;32m~/anaconda3/envs/csy/lib/python3.8/site-packages/torch/nn/modules/module.py\u001b[0m in \u001b[0;36m_call_impl\u001b[0;34m(self, *input, **kwargs)\u001b[0m\n\u001b[1;32m   1100\u001b[0m         if not (self._backward_hooks or self._forward_hooks or self._forward_pre_hooks or _global_backward_hooks\n\u001b[1;32m   1101\u001b[0m                 or _global_forward_hooks or _global_forward_pre_hooks):\n\u001b[0;32m-> 1102\u001b[0;31m             \u001b[0;32mreturn\u001b[0m \u001b[0mforward_call\u001b[0m\u001b[0;34m(\u001b[0m\u001b[0;34m*\u001b[0m\u001b[0minput\u001b[0m\u001b[0;34m,\u001b[0m \u001b[0;34m**\u001b[0m\u001b[0mkwargs\u001b[0m\u001b[0;34m)\u001b[0m\u001b[0;34m\u001b[0m\u001b[0;34m\u001b[0m\u001b[0m\n\u001b[0m\u001b[1;32m   1103\u001b[0m         \u001b[0;31m# Do not call functions when jit is used\u001b[0m\u001b[0;34m\u001b[0m\u001b[0;34m\u001b[0m\u001b[0;34m\u001b[0m\u001b[0m\n\u001b[1;32m   1104\u001b[0m         \u001b[0mfull_backward_hooks\u001b[0m\u001b[0;34m,\u001b[0m \u001b[0mnon_full_backward_hooks\u001b[0m \u001b[0;34m=\u001b[0m \u001b[0;34m[\u001b[0m\u001b[0;34m]\u001b[0m\u001b[0;34m,\u001b[0m \u001b[0;34m[\u001b[0m\u001b[0;34m]\u001b[0m\u001b[0;34m\u001b[0m\u001b[0;34m\u001b[0m\u001b[0m\n",
      "\u001b[0;32m~/anaconda3/envs/csy/lib/python3.8/site-packages/torch/nn/modules/linear.py\u001b[0m in \u001b[0;36mforward\u001b[0;34m(self, input)\u001b[0m\n\u001b[1;32m    101\u001b[0m \u001b[0;34m\u001b[0m\u001b[0m\n\u001b[1;32m    102\u001b[0m     \u001b[0;32mdef\u001b[0m \u001b[0mforward\u001b[0m\u001b[0;34m(\u001b[0m\u001b[0mself\u001b[0m\u001b[0;34m,\u001b[0m \u001b[0minput\u001b[0m\u001b[0;34m:\u001b[0m \u001b[0mTensor\u001b[0m\u001b[0;34m)\u001b[0m \u001b[0;34m->\u001b[0m \u001b[0mTensor\u001b[0m\u001b[0;34m:\u001b[0m\u001b[0;34m\u001b[0m\u001b[0;34m\u001b[0m\u001b[0m\n\u001b[0;32m--> 103\u001b[0;31m         \u001b[0;32mreturn\u001b[0m \u001b[0mF\u001b[0m\u001b[0;34m.\u001b[0m\u001b[0mlinear\u001b[0m\u001b[0;34m(\u001b[0m\u001b[0minput\u001b[0m\u001b[0;34m,\u001b[0m \u001b[0mself\u001b[0m\u001b[0;34m.\u001b[0m\u001b[0mweight\u001b[0m\u001b[0;34m,\u001b[0m \u001b[0mself\u001b[0m\u001b[0;34m.\u001b[0m\u001b[0mbias\u001b[0m\u001b[0;34m)\u001b[0m\u001b[0;34m\u001b[0m\u001b[0;34m\u001b[0m\u001b[0m\n\u001b[0m\u001b[1;32m    104\u001b[0m \u001b[0;34m\u001b[0m\u001b[0m\n\u001b[1;32m    105\u001b[0m     \u001b[0;32mdef\u001b[0m \u001b[0mextra_repr\u001b[0m\u001b[0;34m(\u001b[0m\u001b[0mself\u001b[0m\u001b[0;34m)\u001b[0m \u001b[0;34m->\u001b[0m \u001b[0mstr\u001b[0m\u001b[0;34m:\u001b[0m\u001b[0;34m\u001b[0m\u001b[0;34m\u001b[0m\u001b[0m\n",
      "\u001b[0;32m~/anaconda3/envs/csy/lib/python3.8/site-packages/torch/nn/functional.py\u001b[0m in \u001b[0;36mlinear\u001b[0;34m(input, weight, bias)\u001b[0m\n\u001b[1;32m   1846\u001b[0m     \u001b[0;32mif\u001b[0m \u001b[0mhas_torch_function_variadic\u001b[0m\u001b[0;34m(\u001b[0m\u001b[0minput\u001b[0m\u001b[0;34m,\u001b[0m \u001b[0mweight\u001b[0m\u001b[0;34m,\u001b[0m \u001b[0mbias\u001b[0m\u001b[0;34m)\u001b[0m\u001b[0;34m:\u001b[0m\u001b[0;34m\u001b[0m\u001b[0;34m\u001b[0m\u001b[0m\n\u001b[1;32m   1847\u001b[0m         \u001b[0;32mreturn\u001b[0m \u001b[0mhandle_torch_function\u001b[0m\u001b[0;34m(\u001b[0m\u001b[0mlinear\u001b[0m\u001b[0;34m,\u001b[0m \u001b[0;34m(\u001b[0m\u001b[0minput\u001b[0m\u001b[0;34m,\u001b[0m \u001b[0mweight\u001b[0m\u001b[0;34m,\u001b[0m \u001b[0mbias\u001b[0m\u001b[0;34m)\u001b[0m\u001b[0;34m,\u001b[0m \u001b[0minput\u001b[0m\u001b[0;34m,\u001b[0m \u001b[0mweight\u001b[0m\u001b[0;34m,\u001b[0m \u001b[0mbias\u001b[0m\u001b[0;34m=\u001b[0m\u001b[0mbias\u001b[0m\u001b[0;34m)\u001b[0m\u001b[0;34m\u001b[0m\u001b[0;34m\u001b[0m\u001b[0m\n\u001b[0;32m-> 1848\u001b[0;31m     \u001b[0;32mreturn\u001b[0m \u001b[0mtorch\u001b[0m\u001b[0;34m.\u001b[0m\u001b[0m_C\u001b[0m\u001b[0;34m.\u001b[0m\u001b[0m_nn\u001b[0m\u001b[0;34m.\u001b[0m\u001b[0mlinear\u001b[0m\u001b[0;34m(\u001b[0m\u001b[0minput\u001b[0m\u001b[0;34m,\u001b[0m \u001b[0mweight\u001b[0m\u001b[0;34m,\u001b[0m \u001b[0mbias\u001b[0m\u001b[0;34m)\u001b[0m\u001b[0;34m\u001b[0m\u001b[0;34m\u001b[0m\u001b[0m\n\u001b[0m\u001b[1;32m   1849\u001b[0m \u001b[0;34m\u001b[0m\u001b[0m\n\u001b[1;32m   1850\u001b[0m \u001b[0;34m\u001b[0m\u001b[0m\n",
      "\u001b[0;31mRuntimeError\u001b[0m: mat1 and mat2 shapes cannot be multiplied (1x100 and 1x1)"
     ]
    }
   ],
   "source": [
    "net(_x)"
   ]
  },
  {
   "cell_type": "markdown",
   "id": "7a7638f3-dea1-46a5-a8bf-31d927c55975",
   "metadata": {
    "id": "b1ebe59e-e241-4bfc-872f-323c3482e9be",
    "outputId": "2d0d29d1-68f2-4ef1-d4f3-b9aef3f6f30f"
   },
   "source": [
    "```python\n",
    "net(_x.reshape(100,1))\n",
    "```\n",
    "과 같이 정의"
   ]
  },
  {
   "cell_type": "markdown",
   "id": "5f36492d-7931-4f2f-9285-e3fc0433166c",
   "metadata": {
    "id": "5f36492d-7931-4f2f-9285-e3fc0433166c"
   },
   "source": [
    "### 잘못된사용2"
   ]
  },
  {
   "cell_type": "code",
   "execution_count": 83,
   "id": "e7a2f861-57f7-4341-a37a-f615e8311d93",
   "metadata": {
    "id": "e7a2f861-57f7-4341-a37a-f615e8311d93"
   },
   "outputs": [],
   "source": [
    "torch.manual_seed(43052)\n",
    "net = torch.nn.Linear(in_features=2,out_features=1) # bias=False를 깜빡.."
   ]
  },
  {
   "cell_type": "code",
   "execution_count": 84,
   "id": "73da500d-0d6e-49df-88ed-84cb0321e973",
   "metadata": {
    "id": "73da500d-0d6e-49df-88ed-84cb0321e973",
    "outputId": "80b28a16-7bd5-4836-befc-8dfceed1da52"
   },
   "outputs": [
    {
     "data": {
      "text/plain": [
       "Parameter containing:\n",
       "tensor([[-0.2451, -0.5989]], requires_grad=True)"
      ]
     },
     "execution_count": 84,
     "metadata": {},
     "output_type": "execute_result"
    }
   ],
   "source": [
    "net.weight"
   ]
  },
  {
   "cell_type": "code",
   "execution_count": 85,
   "id": "c1d20227-959f-463f-ab95-3d0a5cf057be",
   "metadata": {
    "id": "c1d20227-959f-463f-ab95-3d0a5cf057be",
    "outputId": "630953ec-65b8-4399-926e-883531d2c25e"
   },
   "outputs": [
    {
     "data": {
      "text/plain": [
       "Parameter containing:\n",
       "tensor([0.2549], requires_grad=True)"
      ]
     },
     "execution_count": 85,
     "metadata": {},
     "output_type": "execute_result"
    }
   ],
   "source": [
    "net.bias"
   ]
  },
  {
   "cell_type": "code",
   "execution_count": 86,
   "id": "e9d0eba5-ba30-4fad-a92d-5df92d1c2a0e",
   "metadata": {
    "id": "e9d0eba5-ba30-4fad-a92d-5df92d1c2a0e",
    "outputId": "c00f97ff-7dcf-4e83-fe45-d252659e7561"
   },
   "outputs": [
    {
     "data": {
      "text/plain": [
       "[<matplotlib.lines.Line2D at 0x7f6c30d8fc40>]"
      ]
     },
     "execution_count": 86,
     "metadata": {},
     "output_type": "execute_result"
    },
    {
     "data": {
      "image/png": "[encoded data removed]",
      "text/plain": [
       "<Figure size 432x288 with 1 Axes>"
      ]
     },
     "metadata": {
      "needs_background": "light"
     },
     "output_type": "display_data"
    }
   ],
   "source": [
    "plt.plot(x,y,'o')\n",
    "plt.plot(x,net(X).data,'--')\n",
    "plt.plot(x,X@torch.tensor([[-0.2451],[-0.5989]])+0.2549,'-.')"
   ]
  },
  {
   "cell_type": "markdown",
   "id": "028c6990-723f-4165-a228-3946ffa82161",
   "metadata": {
    "id": "028c6990-723f-4165-a228-3946ffa82161"
   },
   "source": [
    "- 수식표현: $\\hat{\\bf y} = {\\bf X} {\\bf \\hat W} + \\hat{b}= \\begin{bmatrix} 1 & x_1 \\\\ 1 & x_2 \\\\ \\dots & \\dots \\\\ 1 & x_{100} \\end{bmatrix}  \\begin{bmatrix} -0.2451 \\\\ -0.5989  \\end{bmatrix} + 0.2549$"
   ]
  },
  {
   "cell_type": "markdown",
   "id": "c4b5763d-e7fe-4b8b-be3f-3d631056a2b0",
   "metadata": {
    "id": "c4b5763d-e7fe-4b8b-be3f-3d631056a2b0",
    "tags": []
   },
   "source": [
    "## step1의 다른버전 -- 끝까지 "
   ]
  },
  {
   "cell_type": "markdown",
   "id": "d7903b15-772e-4dac-b354-6e5fa76b53b0",
   "metadata": {
    "id": "d7903b15-772e-4dac-b354-6e5fa76b53b0"
   },
   "source": [
    "### ver1: net = torch.nn.Linear(1,1,bias=True) "
   ]
  },
  {
   "cell_type": "markdown",
   "id": "9d91da2f-4e4d-4197-bc61-8967f9c68ef2",
   "metadata": {
    "id": "9d91da2f-4e4d-4197-bc61-8967f9c68ef2"
   },
   "source": [
    "`-` 준비"
   ]
  },
  {
   "cell_type": "code",
   "execution_count": 87,
   "id": "1cbdd5b1-78f9-42ff-b39c-850b41431e1c",
   "metadata": {
    "id": "1cbdd5b1-78f9-42ff-b39c-850b41431e1c",
    "outputId": "10b66cbd-ad0c-4e40-bca3-8dd3ccd624bb"
   },
   "outputs": [
    {
     "data": {
      "text/plain": [
       "(Parameter containing:\n",
       " tensor([[10.]], requires_grad=True),\n",
       " Parameter containing:\n",
       " tensor([-5.], requires_grad=True))"
      ]
     },
     "execution_count": 87,
     "metadata": {},
     "output_type": "execute_result"
    }
   ],
   "source": [
    "net = torch.nn.Linear(1,1,bias=True)\n",
    "net.weight.data = torch.tensor([[10.0]])\n",
    "net.bias.data = torch.tensor([-5.0])\n",
    "net.weight,net.bias"
   ]
  },
  {
   "cell_type": "markdown",
   "id": "75653e8a-22c1-473b-8570-9bc49baa846b",
   "metadata": {
    "id": "75653e8a-22c1-473b-8570-9bc49baa846b"
   },
   "source": [
    "`-` step1 "
   ]
  },
  {
   "cell_type": "code",
   "execution_count": 88,
   "id": "fe5fd56b-fc6d-40f2-b986-8f5a410e79d9",
   "metadata": {
    "id": "fe5fd56b-fc6d-40f2-b986-8f5a410e79d9"
   },
   "outputs": [],
   "source": [
    "yhat = net(x) "
   ]
  },
  {
   "cell_type": "code",
   "execution_count": 91,
   "id": "60116b30-baab-442c-835b-d18746a351bf",
   "metadata": {
    "id": "60116b30-baab-442c-835b-d18746a351bf",
    "outputId": "c10e1cd0-9d49-4ea6-cdee-2006d8c05c62"
   },
   "outputs": [
    {
     "data": {
      "text/plain": [
       "[<matplotlib.lines.Line2D at 0x7f6c30772c40>]"
      ]
     },
     "execution_count": 91,
     "metadata": {},
     "output_type": "execute_result"
    },
    {
     "data": {
      "image/png": "[encoded data removed]",
      "text/plain": [
       "<Figure size 432x288 with 1 Axes>"
      ]
     },
     "metadata": {
      "needs_background": "light"
     },
     "output_type": "display_data"
    }
   ],
   "source": [
    "plt.plot(x,y,'o')\n",
    "plt.plot(x,net(x).data,'--')\n",
    "plt.plot(x,-5+10*x,'--')"
   ]
  },
  {
   "cell_type": "markdown",
   "id": "0c6cf0a7-540d-43fa-9108-215ec06b1bb1",
   "metadata": {
    "id": "0c6cf0a7-540d-43fa-9108-215ec06b1bb1"
   },
   "source": [
    "`-` step2"
   ]
  },
  {
   "cell_type": "code",
   "execution_count": 92,
   "id": "abf50ff0-1590-49e4-ab0f-5494d2e2a52a",
   "metadata": {
    "id": "abf50ff0-1590-49e4-ab0f-5494d2e2a52a"
   },
   "outputs": [],
   "source": [
    "loss = torch.mean((y-yhat)**2)"
   ]
  },
  {
   "cell_type": "markdown",
   "id": "0af7ca77-9c6f-48da-a895-97ead3e46a7d",
   "metadata": {
    "id": "0af7ca77-9c6f-48da-a895-97ead3e46a7d"
   },
   "source": [
    "`-` step3"
   ]
  },
  {
   "cell_type": "markdown",
   "id": "1af88a97-733e-4427-9489-e13dd44c3d3b",
   "metadata": {
    "id": "1af88a97-733e-4427-9489-e13dd44c3d3b"
   },
   "source": [
    "(미분전)"
   ]
  },
  {
   "cell_type": "code",
   "execution_count": 93,
   "id": "e8e1fde2-9446-4a7f-8c10-e30c51144b5c",
   "metadata": {
    "id": "e8e1fde2-9446-4a7f-8c10-e30c51144b5c",
    "outputId": "29fa7688-9bc0-42ab-ee15-86fbd878b4b6"
   },
   "outputs": [
    {
     "data": {
      "text/plain": [
       "(Parameter containing:\n",
       " tensor([-5.], requires_grad=True),\n",
       " Parameter containing:\n",
       " tensor([[10.]], requires_grad=True))"
      ]
     },
     "execution_count": 93,
     "metadata": {},
     "output_type": "execute_result"
    }
   ],
   "source": [
    "net.bias,net.weight"
   ]
  },
  {
   "cell_type": "code",
   "execution_count": 94,
   "id": "b993de58-83a1-4864-b305-d86440471ed1",
   "metadata": {
    "id": "b993de58-83a1-4864-b305-d86440471ed1",
    "outputId": "90f2e006-8a97-4a98-9ef3-919bd449a28b"
   },
   "outputs": [
    {
     "data": {
      "text/plain": [
       "(None, None)"
      ]
     },
     "execution_count": 94,
     "metadata": {},
     "output_type": "execute_result"
    }
   ],
   "source": [
    "net.bias.grad, net.weight.grad"
   ]
  },
  {
   "cell_type": "markdown",
   "id": "571e2b02-1dfb-490b-bbc7-b156b4e23866",
   "metadata": {
    "id": "571e2b02-1dfb-490b-bbc7-b156b4e23866"
   },
   "source": [
    "(미분)"
   ]
  },
  {
   "cell_type": "code",
   "execution_count": 95,
   "id": "b50bc74d-6fa9-4d9d-b969-4a670dee674d",
   "metadata": {
    "id": "b50bc74d-6fa9-4d9d-b969-4a670dee674d"
   },
   "outputs": [],
   "source": [
    "loss.backward()"
   ]
  },
  {
   "cell_type": "markdown",
   "id": "8ea49820-5d79-4653-8a41-d7cce8c55005",
   "metadata": {
    "id": "8ea49820-5d79-4653-8a41-d7cce8c55005"
   },
   "source": [
    "(미분후)"
   ]
  },
  {
   "cell_type": "code",
   "execution_count": 96,
   "id": "b6733e41-f7d4-4b94-9f78-2f16b8150580",
   "metadata": {
    "id": "b6733e41-f7d4-4b94-9f78-2f16b8150580",
    "outputId": "75d8d356-9f22-4b81-92f7-a735a8d4c2f1"
   },
   "outputs": [
    {
     "data": {
      "text/plain": [
       "(Parameter containing:\n",
       " tensor([-5.], requires_grad=True),\n",
       " Parameter containing:\n",
       " tensor([[10.]], requires_grad=True))"
      ]
     },
     "execution_count": 96,
     "metadata": {},
     "output_type": "execute_result"
    }
   ],
   "source": [
    "net.bias,net.weight"
   ]
  },
  {
   "cell_type": "code",
   "execution_count": 97,
   "id": "33b4f40b-b360-4e08-86fa-2adcd2194cad",
   "metadata": {
    "id": "33b4f40b-b360-4e08-86fa-2adcd2194cad",
    "outputId": "1c769cfe-f47d-4671-d980-4157c1b364a6"
   },
   "outputs": [
    {
     "data": {
      "text/plain": [
       "(tensor([-13.4225]), tensor([[11.8893]]))"
      ]
     },
     "execution_count": 97,
     "metadata": {},
     "output_type": "execute_result"
    }
   ],
   "source": [
    "net.bias.grad,net.weight.grad"
   ]
  },
  {
   "cell_type": "markdown",
   "id": "04b808dc-84fb-4443-a0b2-03f693c7fdbc",
   "metadata": {
    "id": "04b808dc-84fb-4443-a0b2-03f693c7fdbc"
   },
   "source": [
    "`-` step4 "
   ]
  },
  {
   "cell_type": "markdown",
   "id": "52df39a4-7206-4a94-8b2f-9bf938dc2c0f",
   "metadata": {
    "id": "52df39a4-7206-4a94-8b2f-9bf938dc2c0f"
   },
   "source": [
    "(업데이트전) "
   ]
  },
  {
   "cell_type": "code",
   "execution_count": 98,
   "id": "46f9f628-27be-4455-b892-fcf4f4fdbef8",
   "metadata": {
    "id": "46f9f628-27be-4455-b892-fcf4f4fdbef8",
    "outputId": "cd5efa23-c800-4114-8fc7-fb67c5e7224b"
   },
   "outputs": [
    {
     "data": {
      "text/plain": [
       "(Parameter containing:\n",
       " tensor([-5.], requires_grad=True),\n",
       " Parameter containing:\n",
       " tensor([[10.]], requires_grad=True))"
      ]
     },
     "execution_count": 98,
     "metadata": {},
     "output_type": "execute_result"
    }
   ],
   "source": [
    "net.bias,net.weight"
   ]
  },
  {
   "cell_type": "code",
   "execution_count": 99,
   "id": "1e6581ca-1248-4118-ba05-edcbdf532cbe",
   "metadata": {
    "id": "1e6581ca-1248-4118-ba05-edcbdf532cbe",
    "outputId": "d75ee7b9-8755-4411-dec6-4a225f2c4a9b"
   },
   "outputs": [
    {
     "data": {
      "text/plain": [
       "(tensor([-13.4225]), tensor([[11.8893]]))"
      ]
     },
     "execution_count": 99,
     "metadata": {},
     "output_type": "execute_result"
    }
   ],
   "source": [
    "net.bias.grad, net.weight.grad"
   ]
  },
  {
   "cell_type": "markdown",
   "id": "548e4b7b-26d8-4245-968d-98d0d61abc1e",
   "metadata": {
    "id": "548e4b7b-26d8-4245-968d-98d0d61abc1e"
   },
   "source": [
    "(업데이트) "
   ]
  },
  {
   "cell_type": "code",
   "execution_count": 100,
   "id": "1997eedf-a141-4373-bbc9-4124732a4d39",
   "metadata": {
    "id": "1997eedf-a141-4373-bbc9-4124732a4d39"
   },
   "outputs": [],
   "source": [
    "net.bias.data = net.bias.data - 0.1*net.bias.grad \n",
    "net.weight.data = net.weight.data - 0.1*net.weight.grad "
   ]
  },
  {
   "cell_type": "code",
   "execution_count": 101,
   "id": "b095a37f-66de-4a23-bd3e-4059127fac19",
   "metadata": {
    "id": "b095a37f-66de-4a23-bd3e-4059127fac19"
   },
   "outputs": [],
   "source": [
    "net.bias.grad = None \n",
    "net.weight.grad = None "
   ]
  },
  {
   "cell_type": "markdown",
   "id": "cfafa2fe-a89d-4223-87b5-5668bf37d6a4",
   "metadata": {
    "id": "cfafa2fe-a89d-4223-87b5-5668bf37d6a4"
   },
   "source": [
    "(업데이트후) "
   ]
  },
  {
   "cell_type": "code",
   "execution_count": 102,
   "id": "17f159cc-6656-49a9-bd71-3f6d4612e96d",
   "metadata": {
    "id": "17f159cc-6656-49a9-bd71-3f6d4612e96d",
    "outputId": "37778a01-a15b-49a1-eb52-f44b854a3908"
   },
   "outputs": [
    {
     "data": {
      "text/plain": [
       "(Parameter containing:\n",
       " tensor([-3.6577], requires_grad=True),\n",
       " Parameter containing:\n",
       " tensor([[8.8111]], requires_grad=True))"
      ]
     },
     "execution_count": 102,
     "metadata": {},
     "output_type": "execute_result"
    }
   ],
   "source": [
    "net.bias,net.weight"
   ]
  },
  {
   "cell_type": "code",
   "execution_count": 103,
   "id": "71c3d736-fc36-4e05-b992-3e46fed35c82",
   "metadata": {
    "id": "71c3d736-fc36-4e05-b992-3e46fed35c82",
    "outputId": "e58efb3f-466f-42ff-e997-1f2f1e6778d2"
   },
   "outputs": [
    {
     "data": {
      "text/plain": [
       "(None, None)"
      ]
     },
     "execution_count": 103,
     "metadata": {},
     "output_type": "execute_result"
    }
   ],
   "source": [
    "net.bias.grad, net.weight.grad"
   ]
  },
  {
   "cell_type": "markdown",
   "id": "cc68c234-1480-4277-8107-800f8325089f",
   "metadata": {
    "id": "cc68c234-1480-4277-8107-800f8325089f"
   },
   "source": [
    "`-` 반복 "
   ]
  },
  {
   "cell_type": "code",
   "execution_count": 104,
   "id": "8ca9202d-4a62-401c-a003-f4fc4e0e361f",
   "metadata": {
    "id": "1cbdd5b1-78f9-42ff-b39c-850b41431e1c",
    "outputId": "10b66cbd-ad0c-4e40-bca3-8dd3ccd624bb"
   },
   "outputs": [],
   "source": [
    "net = torch.nn.Linear(1,1)\n",
    "net.weight.data = torch.tensor([[10.0]])\n",
    "net.bias.data = torch.tensor([-5.0])"
   ]
  },
  {
   "cell_type": "code",
   "execution_count": 105,
   "id": "65ee078b-069d-4b9e-8bfb-1bf326431a44",
   "metadata": {
    "id": "65ee078b-069d-4b9e-8bfb-1bf326431a44"
   },
   "outputs": [],
   "source": [
    "for epoc in range(30):\n",
    "    yhat = net(x) \n",
    "    loss = torch.mean((y-yhat)**2)\n",
    "    loss.backward()\n",
    "    net.weight.data = net.weight.data - 0.1*net.weight.grad\n",
    "    net.bias.data = net.bias.data - 0.1*net.bias.grad\n",
    "    net.weight.grad = None\n",
    "    net.bias.grad = None"
   ]
  },
  {
   "cell_type": "code",
   "execution_count": 106,
   "id": "97e07c28-a2a0-4e23-86d9-0bdbbac0c29e",
   "metadata": {
    "id": "97e07c28-a2a0-4e23-86d9-0bdbbac0c29e",
    "outputId": "d6711e01-e2a2-4188-8477-ab59a4a0a980"
   },
   "outputs": [
    {
     "data": {
      "text/plain": [
       "[<matplotlib.lines.Line2D at 0x7f6c30522850>]"
      ]
     },
     "execution_count": 106,
     "metadata": {},
     "output_type": "execute_result"
    },
    {
     "data": {
      "image/png": "[encoded data removed]",
      "text/plain": [
       "<Figure size 432x288 with 1 Axes>"
      ]
     },
     "metadata": {
      "needs_background": "light"
     },
     "output_type": "display_data"
    }
   ],
   "source": [
    "plt.plot(x,y,'o')\n",
    "plt.plot(x,net(x).data,'--')"
   ]
  },
  {
   "cell_type": "markdown",
   "id": "958a7cc6-9189-4fb5-8195-3ed8902865c8",
   "metadata": {
    "id": "958a7cc6-9189-4fb5-8195-3ed8902865c8"
   },
   "source": [
    "### ver2: net = torch.nn.Linear(2,1,bias=False) "
   ]
  },
  {
   "cell_type": "markdown",
   "id": "4211bdda-f95c-4d61-84a0-ef729b256d82",
   "metadata": {
    "id": "4211bdda-f95c-4d61-84a0-ef729b256d82"
   },
   "source": [
    "`-` 준비"
   ]
  },
  {
   "cell_type": "code",
   "execution_count": 107,
   "id": "d4543a98-770c-486d-a7be-69d299d11297",
   "metadata": {
    "id": "d4543a98-770c-486d-a7be-69d299d11297"
   },
   "outputs": [],
   "source": [
    "net = torch.nn.Linear(2,1,bias=False)\n",
    "net.weight.data = torch.tensor([[-5.0, 10.0]])"
   ]
  },
  {
   "cell_type": "markdown",
   "id": "1321abfd-03f2-4a5f-8894-8db1fabe78fe",
   "metadata": {
    "id": "1321abfd-03f2-4a5f-8894-8db1fabe78fe"
   },
   "source": [
    "`-` step1"
   ]
  },
  {
   "cell_type": "code",
   "execution_count": 108,
   "id": "d340bb92-e2d7-4484-b45e-b0b4dc90a6d5",
   "metadata": {
    "id": "d340bb92-e2d7-4484-b45e-b0b4dc90a6d5"
   },
   "outputs": [],
   "source": [
    "yhat = net(X)"
   ]
  },
  {
   "cell_type": "markdown",
   "id": "629d080d-7ee6-47a1-bec4-c9df63a18069",
   "metadata": {
    "id": "629d080d-7ee6-47a1-bec4-c9df63a18069"
   },
   "source": [
    "`-` step2"
   ]
  },
  {
   "cell_type": "code",
   "execution_count": 109,
   "id": "5bb59cd2-1d51-475d-961d-84aa7b5216d2",
   "metadata": {
    "id": "5bb59cd2-1d51-475d-961d-84aa7b5216d2"
   },
   "outputs": [],
   "source": [
    "loss = torch.mean((y-yhat)**2)"
   ]
  },
  {
   "cell_type": "markdown",
   "id": "b1582f2b-0811-4644-96c1-3a8966661d55",
   "metadata": {
    "id": "b1582f2b-0811-4644-96c1-3a8966661d55"
   },
   "source": [
    "`-` step3"
   ]
  },
  {
   "cell_type": "markdown",
   "id": "b0438607-b082-4e67-afda-7d43658e8f60",
   "metadata": {
    "id": "b0438607-b082-4e67-afda-7d43658e8f60"
   },
   "source": [
    "(미분전) "
   ]
  },
  {
   "cell_type": "code",
   "execution_count": 110,
   "id": "6700b9b3-2315-4586-9895-9689a14ee748",
   "metadata": {
    "id": "6700b9b3-2315-4586-9895-9689a14ee748",
    "outputId": "4a891d95-26be-482d-b150-73fdfdba1ddd"
   },
   "outputs": [
    {
     "data": {
      "text/plain": [
       "Parameter containing:\n",
       "tensor([[-5., 10.]], requires_grad=True)"
      ]
     },
     "execution_count": 110,
     "metadata": {},
     "output_type": "execute_result"
    }
   ],
   "source": [
    "net.weight"
   ]
  },
  {
   "cell_type": "code",
   "execution_count": 111,
   "id": "0684b35b-22c0-44db-8eaf-821ce14a6ec4",
   "metadata": {
    "id": "0684b35b-22c0-44db-8eaf-821ce14a6ec4"
   },
   "outputs": [],
   "source": [
    "net.weight.grad"
   ]
  },
  {
   "cell_type": "markdown",
   "id": "e2a9ea64-e20d-4dd9-9f2d-995ec8a51afc",
   "metadata": {
    "id": "e2a9ea64-e20d-4dd9-9f2d-995ec8a51afc"
   },
   "source": [
    "(미분)"
   ]
  },
  {
   "cell_type": "code",
   "execution_count": 112,
   "id": "ad8a29a9-d5e9-4176-9208-1dc08d101980",
   "metadata": {
    "id": "ad8a29a9-d5e9-4176-9208-1dc08d101980"
   },
   "outputs": [],
   "source": [
    "loss.backward()"
   ]
  },
  {
   "cell_type": "markdown",
   "id": "dc0364a7-8b2a-4852-b34a-6e67e2d1c934",
   "metadata": {
    "id": "dc0364a7-8b2a-4852-b34a-6e67e2d1c934"
   },
   "source": [
    "(미분후)"
   ]
  },
  {
   "cell_type": "code",
   "execution_count": 113,
   "id": "cab73ba9-4ebf-402a-988c-a96951315828",
   "metadata": {
    "id": "cab73ba9-4ebf-402a-988c-a96951315828",
    "outputId": "292869f4-b896-4963-dbe4-6159adc9cf9e"
   },
   "outputs": [
    {
     "data": {
      "text/plain": [
       "Parameter containing:\n",
       "tensor([[-5., 10.]], requires_grad=True)"
      ]
     },
     "execution_count": 113,
     "metadata": {},
     "output_type": "execute_result"
    }
   ],
   "source": [
    "net.weight"
   ]
  },
  {
   "cell_type": "code",
   "execution_count": 114,
   "id": "a70c7632-e3b5-47de-85f3-01e41a6ee3d6",
   "metadata": {
    "id": "a70c7632-e3b5-47de-85f3-01e41a6ee3d6",
    "outputId": "445eeeab-68b1-420a-e854-07c0d81fdbab"
   },
   "outputs": [
    {
     "data": {
      "text/plain": [
       "tensor([[-13.4225,  11.8893]])"
      ]
     },
     "execution_count": 114,
     "metadata": {},
     "output_type": "execute_result"
    }
   ],
   "source": [
    "net.weight.grad"
   ]
  },
  {
   "cell_type": "markdown",
   "id": "d2b2634e-0cbc-4d3d-8eb1-452c81c04dbb",
   "metadata": {
    "id": "d2b2634e-0cbc-4d3d-8eb1-452c81c04dbb"
   },
   "source": [
    "`-` step4"
   ]
  },
  {
   "cell_type": "markdown",
   "id": "1285f8e2-63c4-47df-9263-d7391c63950d",
   "metadata": {
    "id": "1285f8e2-63c4-47df-9263-d7391c63950d"
   },
   "source": [
    "(업데이트전) "
   ]
  },
  {
   "cell_type": "code",
   "execution_count": 115,
   "id": "4a90a2e3-9694-4ee4-ba77-957cedc6fe2b",
   "metadata": {
    "id": "4a90a2e3-9694-4ee4-ba77-957cedc6fe2b",
    "outputId": "b3a47cc6-84e9-4ae8-bbd4-32df4a6b6dd6"
   },
   "outputs": [
    {
     "data": {
      "text/plain": [
       "Parameter containing:\n",
       "tensor([[-5., 10.]], requires_grad=True)"
      ]
     },
     "execution_count": 115,
     "metadata": {},
     "output_type": "execute_result"
    }
   ],
   "source": [
    "net.weight"
   ]
  },
  {
   "cell_type": "code",
   "execution_count": 116,
   "id": "8a3a89d0-8726-42e8-9d72-88cbf9b44604",
   "metadata": {
    "id": "8a3a89d0-8726-42e8-9d72-88cbf9b44604",
    "outputId": "6d6c5155-b5ee-4346-ff26-a767f70fc15d"
   },
   "outputs": [
    {
     "data": {
      "text/plain": [
       "tensor([[-13.4225,  11.8893]])"
      ]
     },
     "execution_count": 116,
     "metadata": {},
     "output_type": "execute_result"
    }
   ],
   "source": [
    "net.weight.grad"
   ]
  },
  {
   "cell_type": "markdown",
   "id": "ef478874-d55d-483e-8225-3f08aac54fdf",
   "metadata": {
    "id": "ef478874-d55d-483e-8225-3f08aac54fdf"
   },
   "source": [
    "(업데이트)"
   ]
  },
  {
   "cell_type": "code",
   "execution_count": 117,
   "id": "7f26acac-495e-483e-a0f0-06edb1bce63a",
   "metadata": {
    "id": "7f26acac-495e-483e-a0f0-06edb1bce63a"
   },
   "outputs": [],
   "source": [
    "net.weight.data = net.weight.data - 0.1*net.weight.grad"
   ]
  },
  {
   "cell_type": "code",
   "execution_count": 118,
   "id": "0c6d75e7-4317-4355-bacc-f1bac4ff5568",
   "metadata": {
    "id": "0c6d75e7-4317-4355-bacc-f1bac4ff5568"
   },
   "outputs": [],
   "source": [
    "net.weight.grad = None"
   ]
  },
  {
   "cell_type": "markdown",
   "id": "0623fa9a-88a0-4f0c-97af-7776dc636827",
   "metadata": {
    "id": "0623fa9a-88a0-4f0c-97af-7776dc636827"
   },
   "source": [
    "(업데이트후)"
   ]
  },
  {
   "cell_type": "code",
   "execution_count": 119,
   "id": "84a8335f-80c3-4fc9-b1db-096f50368366",
   "metadata": {
    "id": "84a8335f-80c3-4fc9-b1db-096f50368366",
    "outputId": "34ec2b38-6fb1-4a58-f813-8cdae14b1456"
   },
   "outputs": [
    {
     "data": {
      "text/plain": [
       "Parameter containing:\n",
       "tensor([[-3.6577,  8.8111]], requires_grad=True)"
      ]
     },
     "execution_count": 119,
     "metadata": {},
     "output_type": "execute_result"
    }
   ],
   "source": [
    "net.weight"
   ]
  },
  {
   "cell_type": "code",
   "execution_count": 120,
   "id": "0c7de57c-5f96-44fe-a793-5cabca242870",
   "metadata": {
    "id": "0c7de57c-5f96-44fe-a793-5cabca242870"
   },
   "outputs": [],
   "source": [
    "net.weight.grad"
   ]
  },
  {
   "cell_type": "markdown",
   "id": "03333b69-f30f-4f4c-98e1-bd809024f907",
   "metadata": {
    "id": "03333b69-f30f-4f4c-98e1-bd809024f907"
   },
   "source": [
    "`-` 반복"
   ]
  },
  {
   "cell_type": "code",
   "execution_count": 121,
   "id": "45020bcc-6b60-4cc7-b981-d32ca687eeeb",
   "metadata": {
    "id": "45020bcc-6b60-4cc7-b981-d32ca687eeeb"
   },
   "outputs": [],
   "source": [
    "net = torch.nn.Linear(2,1,bias=False)\n",
    "net.weight.data = torch.tensor([[-5.0, 10.0]])"
   ]
  },
  {
   "cell_type": "code",
   "execution_count": 122,
   "id": "bc36e6d5-8edd-484f-a423-0cfe1d8e91a8",
   "metadata": {
    "id": "bc36e6d5-8edd-484f-a423-0cfe1d8e91a8",
    "outputId": "7c26f785-f00c-4877-8379-cf721ab7223d"
   },
   "outputs": [
    {
     "data": {
      "text/plain": [
       "[<matplotlib.lines.Line2D at 0x7f6c304e1910>]"
      ]
     },
     "execution_count": 122,
     "metadata": {},
     "output_type": "execute_result"
    },
    {
     "data": {
      "image/png": "[encoded data removed]",
      "text/plain": [
       "<Figure size 432x288 with 1 Axes>"
      ]
     },
     "metadata": {
      "needs_background": "light"
     },
     "output_type": "display_data"
    }
   ],
   "source": [
    "plt.plot(x,y,'o')\n",
    "plt.plot(x,net(X).data,'--')"
   ]
  },
  {
   "cell_type": "code",
   "execution_count": 123,
   "id": "12e82dac-472d-4794-9f39-28de54fbad60",
   "metadata": {
    "id": "12e82dac-472d-4794-9f39-28de54fbad60"
   },
   "outputs": [],
   "source": [
    "for epoc in range(30):\n",
    "    yhat = net(X) \n",
    "    loss = torch.mean((y-yhat)**2)\n",
    "    loss.backward()\n",
    "    net.weight.data = net.weight.data - 0.1*net.weight.grad\n",
    "    net.weight.grad = None"
   ]
  },
  {
   "cell_type": "code",
   "execution_count": 124,
   "id": "8d34b7c7-d2e3-4787-a741-dfc6231e30c2",
   "metadata": {
    "id": "8d34b7c7-d2e3-4787-a741-dfc6231e30c2",
    "outputId": "667c2c3c-92a5-4f07-af59-d26d26352cf9"
   },
   "outputs": [
    {
     "data": {
      "text/plain": [
       "[<matplotlib.lines.Line2D at 0x7f6c304aa5b0>]"
      ]
     },
     "execution_count": 124,
     "metadata": {},
     "output_type": "execute_result"
    },
    {
     "data": {
      "image/png": "[encoded data removed]",
      "text/plain": [
       "<Figure size 432x288 with 1 Axes>"
      ]
     },
     "metadata": {
      "needs_background": "light"
     },
     "output_type": "display_data"
    }
   ],
   "source": [
    "plt.plot(x,y,'o')\n",
    "plt.plot(x,net(X).data,'--')"
   ]
  },
  {
   "cell_type": "markdown",
   "id": "a51c3c54-4032-4b3d-b174-6c52932699a6",
   "metadata": {
    "id": "a51c3c54-4032-4b3d-b174-6c52932699a6"
   },
   "source": [
    "## step4의 다른버전: 옵티마이저!"
   ]
  },
  {
   "cell_type": "markdown",
   "id": "23b3bc20-bfbf-4458-b986-882dbeb74a28",
   "metadata": {
    "id": "23b3bc20-bfbf-4458-b986-882dbeb74a28"
   },
   "source": [
    "### ver1: net = torch.nn.Linear(1,1,bias=True) "
   ]
  },
  {
   "cell_type": "markdown",
   "id": "631dec1f-ba5f-4738-8e79-a7a2e394b5cd",
   "metadata": {
    "id": "631dec1f-ba5f-4738-8e79-a7a2e394b5cd"
   },
   "source": [
    "`-` 준비 "
   ]
  },
  {
   "cell_type": "code",
   "execution_count": 126,
   "id": "147adb45-ebb9-47cd-be1d-d7e306d7cb64",
   "metadata": {
    "id": "147adb45-ebb9-47cd-be1d-d7e306d7cb64"
   },
   "outputs": [],
   "source": [
    "net = torch.nn.Linear(1,1) \n",
    "net.weight.data = torch.tensor([[10.0]]) \n",
    "net.bias.data = torch.tensor([[-5.0]]) "
   ]
  },
  {
   "cell_type": "code",
   "execution_count": 127,
   "id": "076f1f57-9297-4899-8ca5-56358a7ac416",
   "metadata": {},
   "outputs": [
    {
     "data": {
      "text/plain": [
       "\u001b[0;31mInit signature:\u001b[0m\n",
       "\u001b[0mtorch\u001b[0m\u001b[0;34m.\u001b[0m\u001b[0moptim\u001b[0m\u001b[0;34m.\u001b[0m\u001b[0mSGD\u001b[0m\u001b[0;34m(\u001b[0m\u001b[0;34m\u001b[0m\n",
       "\u001b[0;34m\u001b[0m    \u001b[0mparams\u001b[0m\u001b[0;34m,\u001b[0m\u001b[0;34m\u001b[0m\n",
       "\u001b[0;34m\u001b[0m    \u001b[0mlr\u001b[0m\u001b[0;34m=\u001b[0m\u001b[0;34m<\u001b[0m\u001b[0mrequired\u001b[0m \u001b[0mparameter\u001b[0m\u001b[0;34m>\u001b[0m\u001b[0;34m,\u001b[0m\u001b[0;34m\u001b[0m\n",
       "\u001b[0;34m\u001b[0m    \u001b[0mmomentum\u001b[0m\u001b[0;34m=\u001b[0m\u001b[0;36m0\u001b[0m\u001b[0;34m,\u001b[0m\u001b[0;34m\u001b[0m\n",
       "\u001b[0;34m\u001b[0m    \u001b[0mdampening\u001b[0m\u001b[0;34m=\u001b[0m\u001b[0;36m0\u001b[0m\u001b[0;34m,\u001b[0m\u001b[0;34m\u001b[0m\n",
       "\u001b[0;34m\u001b[0m    \u001b[0mweight_decay\u001b[0m\u001b[0;34m=\u001b[0m\u001b[0;36m0\u001b[0m\u001b[0;34m,\u001b[0m\u001b[0;34m\u001b[0m\n",
       "\u001b[0;34m\u001b[0m    \u001b[0mnesterov\u001b[0m\u001b[0;34m=\u001b[0m\u001b[0;32mFalse\u001b[0m\u001b[0;34m,\u001b[0m\u001b[0;34m\u001b[0m\n",
       "\u001b[0;34m\u001b[0m\u001b[0;34m)\u001b[0m\u001b[0;34m\u001b[0m\u001b[0;34m\u001b[0m\u001b[0m\n",
       "\u001b[0;31mDocstring:\u001b[0m     \n",
       "Implements stochastic gradient descent (optionally with momentum).\n",
       "\n",
       ".. math::\n",
       "   \\begin{aligned}\n",
       "        &\\rule{110mm}{0.4pt}                                                                 \\\\\n",
       "        &\\textbf{input}      : \\gamma \\text{ (lr)}, \\: \\theta_0 \\text{ (params)}, \\: f(\\theta)\n",
       "            \\text{ (objective)}, \\: \\lambda \\text{ (weight decay)},                          \\\\\n",
       "        &\\hspace{13mm} \\:\\mu \\text{ (momentum)}, \\:\\tau \\text{ (dampening)},\\:nesterov\\\\[-1.ex]\n",
       "        &\\rule{110mm}{0.4pt}                                                                 \\\\\n",
       "        &\\textbf{for} \\: t=1 \\: \\textbf{to} \\: \\ldots \\: \\textbf{do}                         \\\\\n",
       "        &\\hspace{5mm}g_t           \\leftarrow   \\nabla_{\\theta} f_t (\\theta_{t-1})           \\\\\n",
       "        &\\hspace{5mm}\\textbf{if} \\: \\lambda \\neq 0                                           \\\\\n",
       "        &\\hspace{10mm} g_t \\leftarrow g_t + \\lambda  \\theta_{t-1}                            \\\\\n",
       "        &\\hspace{5mm}\\textbf{if} \\: \\mu \\neq 0                                               \\\\\n",
       "        &\\hspace{10mm}\\textbf{if} \\: t > 1                                                   \\\\\n",
       "        &\\hspace{15mm} \\textbf{b}_t \\leftarrow \\mu \\textbf{b}_{t-1} + (1-\\tau) g_t           \\\\\n",
       "        &\\hspace{10mm}\\textbf{else}                                                          \\\\\n",
       "        &\\hspace{15mm} \\textbf{b}_t \\leftarrow g_t                                           \\\\\n",
       "        &\\hspace{10mm}\\textbf{if} \\: nesterov                                                \\\\\n",
       "        &\\hspace{15mm} g_t \\leftarrow g_{t-1} + \\mu \\textbf{b}_t                             \\\\\n",
       "        &\\hspace{10mm}\\textbf{else}                                                   \\\\[-1.ex]\n",
       "        &\\hspace{15mm} g_t  \\leftarrow  \\textbf{b}_t                                         \\\\\n",
       "        &\\hspace{5mm}\\theta_t \\leftarrow \\theta_{t-1} - \\gamma g_t                    \\\\[-1.ex]\n",
       "        &\\rule{110mm}{0.4pt}                                                          \\\\[-1.ex]\n",
       "        &\\bf{return} \\:  \\theta_t                                                     \\\\[-1.ex]\n",
       "        &\\rule{110mm}{0.4pt}                                                          \\\\[-1.ex]\n",
       "   \\end{aligned}\n",
       "\n",
       "Nesterov momentum is based on the formula from\n",
       "`On the importance of initialization and momentum in deep learning`__.\n",
       "\n",
       "Args:\n",
       "    params (iterable): iterable of parameters to optimize or dicts defining\n",
       "        parameter groups\n",
       "    lr (float): learning rate\n",
       "    momentum (float, optional): momentum factor (default: 0)\n",
       "    weight_decay (float, optional): weight decay (L2 penalty) (default: 0)\n",
       "    dampening (float, optional): dampening for momentum (default: 0)\n",
       "    nesterov (bool, optional): enables Nesterov momentum (default: False)\n",
       "\n",
       "Example:\n",
       "    >>> optimizer = torch.optim.SGD(model.parameters(), lr=0.1, momentum=0.9)\n",
       "    >>> optimizer.zero_grad()\n",
       "    >>> loss_fn(model(input), target).backward()\n",
       "    >>> optimizer.step()\n",
       "\n",
       "__ http://www.cs.toronto.edu/%7Ehinton/absps/momentum.pdf\n",
       "\n",
       ".. note::\n",
       "    The implementation of SGD with Momentum/Nesterov subtly differs from\n",
       "    Sutskever et. al. and implementations in some other frameworks.\n",
       "\n",
       "    Considering the specific case of Momentum, the update can be written as\n",
       "\n",
       "    .. math::\n",
       "        \\begin{aligned}\n",
       "            v_{t+1} & = \\mu * v_{t} + g_{t+1}, \\\\\n",
       "            p_{t+1} & = p_{t} - \\text{lr} * v_{t+1},\n",
       "        \\end{aligned}\n",
       "\n",
       "    where :math:`p`, :math:`g`, :math:`v` and :math:`\\mu` denote the\n",
       "    parameters, gradient, velocity, and momentum respectively.\n",
       "\n",
       "    This is in contrast to Sutskever et. al. and\n",
       "    other frameworks which employ an update of the form\n",
       "\n",
       "    .. math::\n",
       "        \\begin{aligned}\n",
       "            v_{t+1} & = \\mu * v_{t} + \\text{lr} * g_{t+1}, \\\\\n",
       "            p_{t+1} & = p_{t} - v_{t+1}.\n",
       "        \\end{aligned}\n",
       "\n",
       "    The Nesterov version is analogously modified.\n",
       "\u001b[0;31mFile:\u001b[0m           ~/anaconda3/envs/csy/lib/python3.8/site-packages/torch/optim/sgd.py\n",
       "\u001b[0;31mType:\u001b[0m           type\n",
       "\u001b[0;31mSubclasses:\u001b[0m     \n"
      ]
     },
     "metadata": {},
     "output_type": "display_data"
    }
   ],
   "source": [
    "torch.optim.SGD?"
   ]
  },
  {
   "cell_type": "markdown",
   "id": "ab61ca44-af2f-4f50-8fb6-61256c4597ac",
   "metadata": {},
   "source": [
    "Stocastic Gradiant Decscent"
   ]
  },
  {
   "cell_type": "code",
   "execution_count": 128,
   "id": "423c8636-4b0b-4031-ad66-3ebda0891852",
   "metadata": {},
   "outputs": [
    {
     "data": {
      "text/plain": [
       "<generator object Module.parameters at 0x7f6c30d49c10>"
      ]
     },
     "execution_count": 128,
     "metadata": {},
     "output_type": "execute_result"
    }
   ],
   "source": [
    "net.parameters()"
   ]
  },
  {
   "cell_type": "code",
   "execution_count": 129,
   "id": "67bddcbd-6907-40e5-a68e-339d70c2f97d",
   "metadata": {
    "id": "67bddcbd-6907-40e5-a68e-339d70c2f97d"
   },
   "outputs": [],
   "source": [
    "optimizr = torch.optim.SGD(net.parameters(),lr=1/10) "
   ]
  },
  {
   "cell_type": "markdown",
   "id": "eadf97be-a080-4807-8895-edc2aa86791b",
   "metadata": {
    "id": "eadf97be-a080-4807-8895-edc2aa86791b"
   },
   "source": [
    "`-` step1~3"
   ]
  },
  {
   "cell_type": "code",
   "execution_count": 130,
   "id": "ef0484e2-0729-4ec7-a55d-2297fa6020d5",
   "metadata": {
    "id": "ef0484e2-0729-4ec7-a55d-2297fa6020d5"
   },
   "outputs": [],
   "source": [
    "yhat = net(x)     "
   ]
  },
  {
   "cell_type": "code",
   "execution_count": 131,
   "id": "71bbb10d-daaa-45ce-9998-fe43ab8a50f3",
   "metadata": {
    "id": "71bbb10d-daaa-45ce-9998-fe43ab8a50f3"
   },
   "outputs": [],
   "source": [
    "loss = torch.mean((y-yhat)**2) "
   ]
  },
  {
   "cell_type": "code",
   "execution_count": 132,
   "id": "3519afad-f821-4f42-819f-6c269e99c61b",
   "metadata": {
    "id": "3519afad-f821-4f42-819f-6c269e99c61b"
   },
   "outputs": [],
   "source": [
    "loss.backward() "
   ]
  },
  {
   "cell_type": "markdown",
   "id": "3558139a-69dd-4829-ad70-e2e00e241cab",
   "metadata": {
    "id": "3558139a-69dd-4829-ad70-e2e00e241cab"
   },
   "source": [
    "`-` step4 "
   ]
  },
  {
   "cell_type": "markdown",
   "id": "355c9159-5bf5-46f8-8e17-ea3c3223993a",
   "metadata": {
    "id": "355c9159-5bf5-46f8-8e17-ea3c3223993a"
   },
   "source": [
    "(update 전)"
   ]
  },
  {
   "cell_type": "code",
   "execution_count": 133,
   "id": "7f78c571-f041-4add-a7cd-574f5b697823",
   "metadata": {
    "id": "7f78c571-f041-4add-a7cd-574f5b697823",
    "outputId": "29f4212a-13fc-4a6d-88d6-797e449aac47"
   },
   "outputs": [
    {
     "data": {
      "text/plain": [
       "(tensor([[10.]]), tensor([[-5.]]))"
      ]
     },
     "execution_count": 133,
     "metadata": {},
     "output_type": "execute_result"
    }
   ],
   "source": [
    "net.weight.data, net.bias.data ## 값은 업데이트 전"
   ]
  },
  {
   "cell_type": "code",
   "execution_count": 134,
   "id": "0ec1ad1f-762b-4edf-bf4c-bdf974ad0896",
   "metadata": {
    "id": "0ec1ad1f-762b-4edf-bf4c-bdf974ad0896",
    "outputId": "75859821-d2d1-4493-fa04-05148b34780b"
   },
   "outputs": [
    {
     "data": {
      "text/plain": [
       "(tensor([[11.8893]]), tensor([[-13.4225]]))"
      ]
     },
     "execution_count": 134,
     "metadata": {},
     "output_type": "execute_result"
    }
   ],
   "source": [
    "net.weight.grad, net.bias.grad ## 미분값은 청소전 "
   ]
  },
  {
   "cell_type": "markdown",
   "id": "3211748c-0180-44ec-bcc6-894614ed6390",
   "metadata": {
    "id": "3211748c-0180-44ec-bcc6-894614ed6390"
   },
   "source": [
    "(update) "
   ]
  },
  {
   "cell_type": "code",
   "execution_count": 135,
   "id": "a73cdb87-73c7-4955-b045-bdd4abc0f96d",
   "metadata": {
    "id": "a73cdb87-73c7-4955-b045-bdd4abc0f96d"
   },
   "outputs": [],
   "source": [
    "optimizr.step() \n",
    "optimizr.zero_grad() "
   ]
  },
  {
   "cell_type": "markdown",
   "id": "5757b695-c342-46ec-9a38-dba7eaaef671",
   "metadata": {
    "id": "5757b695-c342-46ec-9a38-dba7eaaef671"
   },
   "source": [
    "(update 후) "
   ]
  },
  {
   "cell_type": "code",
   "execution_count": 136,
   "id": "49cd11d8-5edb-4c41-ac2a-b4c9a627c360",
   "metadata": {
    "id": "49cd11d8-5edb-4c41-ac2a-b4c9a627c360",
    "outputId": "11f75bd7-2680-4b1f-b476-9df5d5cdf1bd"
   },
   "outputs": [
    {
     "data": {
      "text/plain": [
       "(tensor([[8.8111]]), tensor([[-3.6577]]))"
      ]
     },
     "execution_count": 136,
     "metadata": {},
     "output_type": "execute_result"
    }
   ],
   "source": [
    "net.weight.data, net.bias.data ## 값은 업데이트 되었음 "
   ]
  },
  {
   "cell_type": "code",
   "execution_count": 137,
   "id": "4634d3bf-87fb-44ed-a9be-4356ea9e7788",
   "metadata": {
    "id": "4634d3bf-87fb-44ed-a9be-4356ea9e7788",
    "outputId": "0493d662-f514-4c7e-e35c-a12142cf6e3c"
   },
   "outputs": [
    {
     "data": {
      "text/plain": [
       "(tensor([[0.]]), tensor([[0.]]))"
      ]
     },
     "execution_count": 137,
     "metadata": {},
     "output_type": "execute_result"
    }
   ],
   "source": [
    "net.weight.grad, net.bias.grad ## 미분값은 0으로 초기화하였음 "
   ]
  },
  {
   "cell_type": "markdown",
   "id": "7012d783-48d7-440f-92aa-64600708944f",
   "metadata": {
    "id": "7012d783-48d7-440f-92aa-64600708944f"
   },
   "source": [
    "`-` 반복 "
   ]
  },
  {
   "cell_type": "code",
   "execution_count": 143,
   "id": "8a0592d8-49f0-4eb4-89f7-76ca241eeb3d",
   "metadata": {
    "id": "8a0592d8-49f0-4eb4-89f7-76ca241eeb3d"
   },
   "outputs": [],
   "source": [
    "net = torch.nn.Linear(1,1) \n",
    "net.weight.data = torch.tensor([[10.0]])\n",
    "net.bias.data = torch.tensor([-5.0])\n",
    "optimizr = torch.optim.SGD(net.parameters(),lr=1/10) "
   ]
  },
  {
   "cell_type": "code",
   "execution_count": 144,
   "id": "f3eaa0da-a8c2-4747-93e0-dcba901c1500",
   "metadata": {
    "id": "1a1cab3c-1e1c-4bdc-b11e-cb5d2d20c7e8",
    "outputId": "b6516ca8-bed9-4169-ba1b-f8907fe38907"
   },
   "outputs": [
    {
     "data": {
      "text/plain": [
       "[<matplotlib.lines.Line2D at 0x7f6c303f43d0>]"
      ]
     },
     "execution_count": 144,
     "metadata": {},
     "output_type": "execute_result"
    },
    {
     "data": {
      "image/png": "[encoded data removed]",
      "text/plain": [
       "<Figure size 432x288 with 1 Axes>"
      ]
     },
     "metadata": {
      "needs_background": "light"
     },
     "output_type": "display_data"
    }
   ],
   "source": [
    "plt.plot(x,y,'o')\n",
    "plt.plot(x,net(x).data,'--')"
   ]
  },
  {
   "cell_type": "code",
   "execution_count": 145,
   "id": "79f4cb43-83e8-4ddd-938b-cf92a6395ed0",
   "metadata": {
    "id": "79f4cb43-83e8-4ddd-938b-cf92a6395ed0"
   },
   "outputs": [],
   "source": [
    "for epoc in range(30): \n",
    "    yhat = net(x)\n",
    "    loss = torch.mean((y-yhat)**2) \n",
    "    loss.backward() \n",
    "    optimizr.step(); optimizr.zero_grad() "
   ]
  },
  {
   "cell_type": "code",
   "execution_count": 146,
   "id": "1a1cab3c-1e1c-4bdc-b11e-cb5d2d20c7e8",
   "metadata": {
    "id": "1a1cab3c-1e1c-4bdc-b11e-cb5d2d20c7e8",
    "outputId": "b6516ca8-bed9-4169-ba1b-f8907fe38907"
   },
   "outputs": [
    {
     "data": {
      "text/plain": [
       "[<matplotlib.lines.Line2D at 0x7f6c30338160>]"
      ]
     },
     "execution_count": 146,
     "metadata": {},
     "output_type": "execute_result"
    },
    {
     "data": {
      "image/png": "[encoded data removed]",
      "text/plain": [
       "<Figure size 432x288 with 1 Axes>"
      ]
     },
     "metadata": {
      "needs_background": "light"
     },
     "output_type": "display_data"
    }
   ],
   "source": [
    "plt.plot(x,y,'o')\n",
    "plt.plot(x,net(x).data,'--')"
   ]
  },
  {
   "cell_type": "markdown",
   "id": "ca0091c0-d17d-4a0b-b430-f3a49b308b9d",
   "metadata": {
    "id": "ca0091c0-d17d-4a0b-b430-f3a49b308b9d"
   },
   "source": [
    "### ver2: net = torch.nn.Linear(2,1,bias=False) "
   ]
  },
  {
   "cell_type": "markdown",
   "id": "ad04f409-cd58-44b8-b401-ece72467b55f",
   "metadata": {
    "id": "ad04f409-cd58-44b8-b401-ece72467b55f"
   },
   "source": [
    "`-` 바로 반복하겠습니다.. "
   ]
  },
  {
   "cell_type": "code",
   "execution_count": 150,
   "id": "5e0bd95c-a522-4a10-82fc-319c1b0f70de",
   "metadata": {
    "id": "5e0bd95c-a522-4a10-82fc-319c1b0f70de"
   },
   "outputs": [],
   "source": [
    "net = torch.nn.Linear(2,1,bias=False) \n",
    "net.weight.data = torch.tensor([[-5.0, 10.0]])\n",
    "optimizr = torch.optim.SGD(net.parameters(),lr=1/10) "
   ]
  },
  {
   "cell_type": "code",
   "execution_count": 151,
   "id": "c5072b5a-be39-468f-b365-8b8a5e08b5ab",
   "metadata": {
    "id": "44d59c60-0839-41fe-b7a4-61522340bddd",
    "outputId": "58361a8e-76a9-4ff4-f373-29aa3cab5c31"
   },
   "outputs": [
    {
     "data": {
      "text/plain": [
       "[<matplotlib.lines.Line2D at 0x7f6c302c9400>]"
      ]
     },
     "execution_count": 151,
     "metadata": {},
     "output_type": "execute_result"
    },
    {
     "data": {
      "image/png": "[encoded data removed]",
      "text/plain": [
       "<Figure size 432x288 with 1 Axes>"
      ]
     },
     "metadata": {
      "needs_background": "light"
     },
     "output_type": "display_data"
    }
   ],
   "source": [
    "plt.plot(x,y,'o')\n",
    "plt.plot(x,net(X).data,'--')"
   ]
  },
  {
   "cell_type": "code",
   "execution_count": 152,
   "id": "02c373d3-e3f8-401d-9b57-5c973efe35e9",
   "metadata": {
    "id": "02c373d3-e3f8-401d-9b57-5c973efe35e9"
   },
   "outputs": [],
   "source": [
    "for epoc in range(30): \n",
    "    yhat = net(X)\n",
    "    loss = torch.mean((y-yhat)**2) \n",
    "    loss.backward() \n",
    "    optimizr.step(); optimizr.zero_grad() "
   ]
  },
  {
   "cell_type": "code",
   "execution_count": 153,
   "id": "44d59c60-0839-41fe-b7a4-61522340bddd",
   "metadata": {
    "id": "44d59c60-0839-41fe-b7a4-61522340bddd",
    "outputId": "58361a8e-76a9-4ff4-f373-29aa3cab5c31"
   },
   "outputs": [
    {
     "data": {
      "text/plain": [
       "[<matplotlib.lines.Line2D at 0x7f6c302af160>]"
      ]
     },
     "execution_count": 153,
     "metadata": {},
     "output_type": "execute_result"
    },
    {
     "data": {
      "image/png": "[encoded data removed]",
      "text/plain": [
       "<Figure size 432x288 with 1 Axes>"
      ]
     },
     "metadata": {
      "needs_background": "light"
     },
     "output_type": "display_data"
    }
   ],
   "source": [
    "plt.plot(x,y,'o')\n",
    "plt.plot(x,net(X).data,'--')"
   ]
  },
  {
   "cell_type": "markdown",
   "id": "580743a6-822d-4ba2-bde8-505656220343",
   "metadata": {
    "id": "580743a6-822d-4ba2-bde8-505656220343"
   },
   "source": [
    "--- "
   ]
  },
  {
   "cell_type": "markdown",
   "id": "12ed943c-e250-4ec2-b21a-33750e2bed51",
   "metadata": {
    "id": "12ed943c-e250-4ec2-b21a-33750e2bed51"
   },
   "source": [
    "## Appendix: `net.parameters()`의 의미? (선택학습)"
   ]
  },
  {
   "cell_type": "markdown",
   "id": "e9b28be4-c18f-4dd7-8642-cedfe7a15891",
   "metadata": {
    "id": "e9b28be4-c18f-4dd7-8642-cedfe7a15891"
   },
   "source": [
    "`-` iterator, generator의 개념필요 \n",
    "- https://guebin.github.io/IP2022/2022/06/06/(14주차)-6월6일.html, 클래스공부 8단계 참고 \n"
   ]
  },
  {
   "cell_type": "markdown",
   "id": "6e3f9bd8-d72f-45ce-87bc-9084a4ee8bf4",
   "metadata": {
    "id": "6e3f9bd8-d72f-45ce-87bc-9084a4ee8bf4"
   },
   "source": [
    "`-` 탐구시작: 네트워크 생성 "
   ]
  },
  {
   "cell_type": "code",
   "execution_count": null,
   "id": "9722a3a1-1332-4afa-a0c3-4274a48135f3",
   "metadata": {
    "id": "9722a3a1-1332-4afa-a0c3-4274a48135f3",
    "outputId": "de2d23e0-ac86-4062-f216-fa655b533446"
   },
   "outputs": [
    {
     "data": {
      "text/plain": [
       "Parameter containing:\n",
       "tensor([[-0.1656]], requires_grad=True)"
      ]
     },
     "execution_count": 129,
     "metadata": {},
     "output_type": "execute_result"
    }
   ],
   "source": [
    "net = torch.nn.Linear(in_features=1,out_features=1)\n",
    "net.weight"
   ]
  },
  {
   "cell_type": "code",
   "execution_count": null,
   "id": "bbbe8fc8-d297-47bb-8aa8-e870f327bca1",
   "metadata": {
    "id": "bbbe8fc8-d297-47bb-8aa8-e870f327bca1",
    "outputId": "96317115-1044-4d1b-f544-6a790a0f2d5b"
   },
   "outputs": [
    {
     "data": {
      "text/plain": [
       "Parameter containing:\n",
       "tensor([0.8529], requires_grad=True)"
      ]
     },
     "execution_count": 130,
     "metadata": {},
     "output_type": "execute_result"
    }
   ],
   "source": [
    "net.bias"
   ]
  },
  {
   "cell_type": "markdown",
   "id": "1c515a80-8fb7-4f41-84d2-6180b3c43c82",
   "metadata": {
    "id": "1c515a80-8fb7-4f41-84d2-6180b3c43c82"
   },
   "source": [
    "`-` torch.optim.SGD? 를 확인하면 params에 대한설명에 아래와 같이 되어있음 \n",
    "\n",
    "```\n",
    "params (iterable): iterable of parameters to optimize or dicts defining\n",
    "        parameter groups\n",
    "```"
   ]
  },
  {
   "cell_type": "markdown",
   "id": "9d32a8c0-7236-4da3-ae0d-a46955df1304",
   "metadata": {
    "id": "9d32a8c0-7236-4da3-ae0d-a46955df1304"
   },
   "source": [
    "`-` 설명을 읽어보면 params에 iterable object를 넣으라고 되어있음 (iterable object는 숨겨진 명령어로 `__iter__`를 가지고 있는 오브젝트를 의미)"
   ]
  },
  {
   "cell_type": "code",
   "execution_count": null,
   "id": "dd73fe01-4f26-4fff-a044-039e8cf32c13",
   "metadata": {
    "id": "dd73fe01-4f26-4fff-a044-039e8cf32c13",
    "outputId": "045caa21-18e8-46cc-b92c-8c318868dff6"
   },
   "outputs": [
    {
     "data": {
      "text/plain": [
       "set()"
      ]
     },
     "execution_count": 131,
     "metadata": {},
     "output_type": "execute_result"
    }
   ],
   "source": [
    "set(dir(net.parameters)) & {'__iter__'}"
   ]
  },
  {
   "cell_type": "code",
   "execution_count": null,
   "id": "6301c575-7ee4-4c0a-8935-5d320b5c19da",
   "metadata": {
    "id": "6301c575-7ee4-4c0a-8935-5d320b5c19da",
    "outputId": "adebbf03-b564-40c7-d28f-4a21b2d301b5"
   },
   "outputs": [
    {
     "data": {
      "text/plain": [
       "{'__iter__'}"
      ]
     },
     "execution_count": 132,
     "metadata": {},
     "output_type": "execute_result"
    }
   ],
   "source": [
    "set(dir(net.parameters())) & {'__iter__'}"
   ]
  },
  {
   "cell_type": "markdown",
   "id": "864d4dd3-4fdc-47d2-a455-293a9a7e9bc9",
   "metadata": {
    "id": "864d4dd3-4fdc-47d2-a455-293a9a7e9bc9"
   },
   "source": [
    "`-` 무슨의미? "
   ]
  },
  {
   "cell_type": "code",
   "execution_count": null,
   "id": "bcde9b99-c139-4ef7-8e62-a72f1e626599",
   "metadata": {
    "id": "bcde9b99-c139-4ef7-8e62-a72f1e626599"
   },
   "outputs": [],
   "source": [
    "_generator = net.parameters()"
   ]
  },
  {
   "cell_type": "code",
   "execution_count": null,
   "id": "6d8b6ce2-4f61-479d-b54f-4c10d71bec87",
   "metadata": {
    "id": "6d8b6ce2-4f61-479d-b54f-4c10d71bec87",
    "outputId": "52452274-aad2-4659-fac0-ccaec81b1297"
   },
   "outputs": [
    {
     "data": {
      "text/plain": [
       "Parameter containing:\n",
       "tensor([[-0.1656]], requires_grad=True)"
      ]
     },
     "execution_count": 134,
     "metadata": {},
     "output_type": "execute_result"
    }
   ],
   "source": [
    "_generator.__next__()"
   ]
  },
  {
   "cell_type": "code",
   "execution_count": null,
   "id": "5ad43be4-1c55-46bc-a037-6902f6efc3e6",
   "metadata": {
    "id": "5ad43be4-1c55-46bc-a037-6902f6efc3e6",
    "outputId": "85a6de5a-7e22-40bb-98ea-d29f45f82898"
   },
   "outputs": [
    {
     "data": {
      "text/plain": [
       "Parameter containing:\n",
       "tensor([0.8529], requires_grad=True)"
      ]
     },
     "execution_count": 135,
     "metadata": {},
     "output_type": "execute_result"
    }
   ],
   "source": [
    "_generator.__next__()"
   ]
  },
  {
   "cell_type": "code",
   "execution_count": null,
   "id": "0ef70550-16d4-4bf7-8e50-6f9e7bbb4304",
   "metadata": {
    "id": "0ef70550-16d4-4bf7-8e50-6f9e7bbb4304",
    "outputId": "9032e5a5-bd13-41d8-abb5-c9b518db7102"
   },
   "outputs": [
    {
     "ename": "StopIteration",
     "evalue": "",
     "output_type": "error",
     "traceback": [
      "\u001b[0;31m---------------------------------------------------------------------------\u001b[0m",
      "\u001b[0;31mStopIteration\u001b[0m                             Traceback (most recent call last)",
      "\u001b[0;32m/tmp/ipykernel_1083902/3395526306.py\u001b[0m in \u001b[0;36m<module>\u001b[0;34m\u001b[0m\n\u001b[0;32m----> 1\u001b[0;31m \u001b[0m_generator\u001b[0m\u001b[0;34m.\u001b[0m\u001b[0m__next__\u001b[0m\u001b[0;34m(\u001b[0m\u001b[0;34m)\u001b[0m\u001b[0;34m\u001b[0m\u001b[0;34m\u001b[0m\u001b[0m\n\u001b[0m",
      "\u001b[0;31mStopIteration\u001b[0m: "
     ]
    }
   ],
   "source": [
    "_generator.__next__()"
   ]
  },
  {
   "cell_type": "markdown",
   "id": "b226f42d-7d3d-4f39-a710-7eb7b153f2a9",
   "metadata": {
    "id": "b226f42d-7d3d-4f39-a710-7eb7b153f2a9"
   },
   "source": [
    "`-` 이건 이런느낌인데? "
   ]
  },
  {
   "cell_type": "code",
   "execution_count": null,
   "id": "6f94ee5a-ccc7-4a76-b74c-5beb00291468",
   "metadata": {
    "id": "6f94ee5a-ccc7-4a76-b74c-5beb00291468"
   },
   "outputs": [],
   "source": [
    "_generator2 = iter([net.weight,net.bias])"
   ]
  },
  {
   "cell_type": "code",
   "execution_count": null,
   "id": "8a52bedd-f56a-48eb-8bf1-e3c8e783ee71",
   "metadata": {
    "id": "8a52bedd-f56a-48eb-8bf1-e3c8e783ee71",
    "outputId": "98eb5d6d-8884-45c5-b4d1-008618d7488b"
   },
   "outputs": [
    {
     "data": {
      "text/plain": [
       "<list_iterator at 0x7efce86d5dd0>"
      ]
     },
     "execution_count": 138,
     "metadata": {},
     "output_type": "execute_result"
    }
   ],
   "source": [
    "_generator2"
   ]
  },
  {
   "cell_type": "code",
   "execution_count": null,
   "id": "5769b8e5-2808-4ee1-8290-e2344d055ac1",
   "metadata": {
    "id": "5769b8e5-2808-4ee1-8290-e2344d055ac1",
    "outputId": "9028b2e4-9d72-448f-dffa-819bf7c06bb6"
   },
   "outputs": [
    {
     "data": {
      "text/plain": [
       "Parameter containing:\n",
       "tensor([[-0.1656]], requires_grad=True)"
      ]
     },
     "execution_count": 139,
     "metadata": {},
     "output_type": "execute_result"
    }
   ],
   "source": [
    "_generator2.__next__()"
   ]
  },
  {
   "cell_type": "code",
   "execution_count": null,
   "id": "39d8fa7e-afc5-4d18-a918-d5bf8d37137e",
   "metadata": {
    "id": "39d8fa7e-afc5-4d18-a918-d5bf8d37137e",
    "outputId": "0194a3fb-0c8e-45dd-a4a5-d299207cd851"
   },
   "outputs": [
    {
     "data": {
      "text/plain": [
       "Parameter containing:\n",
       "tensor([0.8529], requires_grad=True)"
      ]
     },
     "execution_count": 140,
     "metadata": {},
     "output_type": "execute_result"
    }
   ],
   "source": [
    "_generator2.__next__()"
   ]
  },
  {
   "cell_type": "code",
   "execution_count": null,
   "id": "4ccc30a7-079e-4608-a381-1a0d06c7e052",
   "metadata": {
    "id": "4ccc30a7-079e-4608-a381-1a0d06c7e052",
    "outputId": "3e007f62-6617-4d2f-d37d-d6bcb73616f1"
   },
   "outputs": [
    {
     "ename": "StopIteration",
     "evalue": "",
     "output_type": "error",
     "traceback": [
      "\u001b[0;31m---------------------------------------------------------------------------\u001b[0m",
      "\u001b[0;31mStopIteration\u001b[0m                             Traceback (most recent call last)",
      "\u001b[0;32m/tmp/ipykernel_1083902/2722541531.py\u001b[0m in \u001b[0;36m<module>\u001b[0;34m\u001b[0m\n\u001b[0;32m----> 1\u001b[0;31m \u001b[0m_generator2\u001b[0m\u001b[0;34m.\u001b[0m\u001b[0m__next__\u001b[0m\u001b[0;34m(\u001b[0m\u001b[0;34m)\u001b[0m\u001b[0;34m\u001b[0m\u001b[0;34m\u001b[0m\u001b[0m\n\u001b[0m",
      "\u001b[0;31mStopIteration\u001b[0m: "
     ]
    }
   ],
   "source": [
    "_generator2.__next__()"
   ]
  },
  {
   "cell_type": "markdown",
   "id": "80c2e781-462a-4089-bf26-4e4edc79e7e1",
   "metadata": {
    "id": "80c2e781-462a-4089-bf26-4e4edc79e7e1"
   },
   "source": [
    "`-` 즉 아래는 같은코드이다. \n",
    "\n",
    "```python\n",
    "### 코드1\n",
    "_generator = net.parameters() \n",
    "torch.optim.SGD(_generator,lr=1/10) \n",
    "### 코드2\n",
    "_generator = iter([net.weight,net.bias])\n",
    "torch.optim.SGD(_generator,lr=1/10) \n",
    "### 코드3 (이렇게 써도 코드2가 실행된다고 이해할 수 있음)\n",
    "_iterator = [net.weight,net.bias]\n",
    "torch.optim.SGD(_iterator,lr=1/10) \n",
    "```"
   ]
  },
  {
   "cell_type": "markdown",
   "id": "ce01ea33-4209-4650-9b70-f9cd0b36a977",
   "metadata": {
    "id": "ce01ea33-4209-4650-9b70-f9cd0b36a977"
   },
   "source": [
    "결론: `net.parameters()`는 net오브젝트에서 학습할 파라메터를 모두 모아 리스트(iterable object)로 만드는 함수라 이해할 수 있다. "
   ]
  },
  {
   "cell_type": "markdown",
   "id": "673825ba-c7df-4a4a-b42e-65825e082d41",
   "metadata": {
    "id": "673825ba-c7df-4a4a-b42e-65825e082d41"
   },
   "source": [
    "`-` 응용예제1"
   ]
  },
  {
   "cell_type": "code",
   "execution_count": null,
   "id": "45a79850-c154-4b17-b698-e98830c76b99",
   "metadata": {
    "id": "45a79850-c154-4b17-b698-e98830c76b99"
   },
   "outputs": [],
   "source": [
    "What = torch.tensor([[-5.0],[10.0]],requires_grad=True)\n",
    "optimizr = torch.optim.SGD([What],lr=1/10) "
   ]
  },
  {
   "cell_type": "code",
   "execution_count": null,
   "id": "26853ca2-9f7a-44b9-9a75-1d373d9214c3",
   "metadata": {
    "id": "26853ca2-9f7a-44b9-9a75-1d373d9214c3",
    "outputId": "ab8920da-3b17-4b4e-a10a-a1ec2415d75e"
   },
   "outputs": [
    {
     "data": {
      "text/plain": [
       "[<matplotlib.lines.Line2D at 0x7efce8696410>]"
      ]
     },
     "execution_count": 143,
     "metadata": {},
     "output_type": "execute_result"
    },
    {
     "data": {
      "image/png": "[encoded data removed]",
      "text/plain": [
       "<Figure size 432x288 with 1 Axes>"
      ]
     },
     "metadata": {
      "needs_background": "light"
     },
     "output_type": "display_data"
    }
   ],
   "source": [
    "plt.plot(x,y,'o')\n",
    "plt.plot(x,(X@What).data,'--')"
   ]
  },
  {
   "cell_type": "code",
   "execution_count": null,
   "id": "f214d5fe-d377-400b-bd19-c94db6ebf124",
   "metadata": {
    "id": "f214d5fe-d377-400b-bd19-c94db6ebf124"
   },
   "outputs": [],
   "source": [
    "for epoc in range(30):\n",
    "    yhat = X@What \n",
    "    loss = torch.mean((y-yhat)**2)\n",
    "    loss.backward()\n",
    "    optimizr.step();optimizr.zero_grad() "
   ]
  },
  {
   "cell_type": "code",
   "execution_count": null,
   "id": "57ad55eb-72ee-45eb-a13d-318bc48a1285",
   "metadata": {
    "id": "57ad55eb-72ee-45eb-a13d-318bc48a1285",
    "outputId": "8589b629-02b1-45b0-cc1a-571afaee60ed"
   },
   "outputs": [
    {
     "data": {
      "text/plain": [
       "[<matplotlib.lines.Line2D at 0x7efce86124d0>]"
      ]
     },
     "execution_count": 145,
     "metadata": {},
     "output_type": "execute_result"
    },
    {
     "data": {
      "image/png": "[encoded data removed]",
      "text/plain": [
       "<Figure size 432x288 with 1 Axes>"
      ]
     },
     "metadata": {
      "needs_background": "light"
     },
     "output_type": "display_data"
    }
   ],
   "source": [
    "plt.plot(x,y,'o')\n",
    "plt.plot(x,(X@What).data,'--')"
   ]
  },
  {
   "cell_type": "markdown",
   "id": "a5546084-0d2b-407c-9107-94a3bb718096",
   "metadata": {
    "id": "a5546084-0d2b-407c-9107-94a3bb718096"
   },
   "source": [
    "`-` 응용예제2"
   ]
  },
  {
   "cell_type": "code",
   "execution_count": null,
   "id": "999d4116-b1fc-46ce-b170-ce91f3081415",
   "metadata": {
    "id": "999d4116-b1fc-46ce-b170-ce91f3081415"
   },
   "outputs": [],
   "source": [
    "b = torch.tensor(-5.0,requires_grad=True)\n",
    "w = torch.tensor(10.0,requires_grad=True)\n",
    "optimizr = torch.optim.SGD([b,w],lr=1/10)"
   ]
  },
  {
   "cell_type": "code",
   "execution_count": null,
   "id": "b68c09fd-6fb4-4ab0-bdec-82aa8d747590",
   "metadata": {
    "id": "b68c09fd-6fb4-4ab0-bdec-82aa8d747590",
    "outputId": "c1147904-a19a-46d7-930b-e0ce77dcc7db"
   },
   "outputs": [
    {
     "data": {
      "text/plain": [
       "[<matplotlib.lines.Line2D at 0x7efce85ccad0>]"
      ]
     },
     "execution_count": 147,
     "metadata": {},
     "output_type": "execute_result"
    },
    {
     "data": {
      "image/png": "[encoded data removed]",
      "text/plain": [
       "<Figure size 432x288 with 1 Axes>"
      ]
     },
     "metadata": {
      "needs_background": "light"
     },
     "output_type": "display_data"
    }
   ],
   "source": [
    "plt.plot(x,y,'o')\n",
    "plt.plot(x,(w*x+b).data,'--')"
   ]
  },
  {
   "cell_type": "code",
   "execution_count": null,
   "id": "89a491c3-35df-4331-a6b1-cf4be0c01eb7",
   "metadata": {
    "id": "89a491c3-35df-4331-a6b1-cf4be0c01eb7"
   },
   "outputs": [],
   "source": [
    "for epoc in range(30):\n",
    "    yhat = b+ w*x \n",
    "    loss = torch.mean((y-yhat)**2)\n",
    "    loss.backward()\n",
    "    optimizr.step(); optimizr.zero_grad()"
   ]
  },
  {
   "cell_type": "code",
   "execution_count": null,
   "id": "26844418-ac15-4cf1-886b-514d60959dd0",
   "metadata": {
    "id": "26844418-ac15-4cf1-886b-514d60959dd0",
    "outputId": "d10fef89-f8e3-4ca8-f531-50389baaaf7a"
   },
   "outputs": [
    {
     "data": {
      "text/plain": [
       "[<matplotlib.lines.Line2D at 0x7efce8505590>]"
      ]
     },
     "execution_count": 149,
     "metadata": {},
     "output_type": "execute_result"
    },
    {
     "data": {
      "image/png": "[encoded data removed]",
      "text/plain": [
       "<Figure size 432x288 with 1 Axes>"
      ]
     },
     "metadata": {
      "needs_background": "light"
     },
     "output_type": "display_data"
    }
   ],
   "source": [
    "plt.plot(x,y,'o')\n",
    "plt.plot(x,(w*x+b).data,'--')"
   ]
  },
  {
   "cell_type": "markdown",
   "id": "cbf538cc-538b-4f9f-a967-aaeabf2370e8",
   "metadata": {
    "id": "cbf538cc-538b-4f9f-a967-aaeabf2370e8",
    "tags": []
   },
   "source": [
    "## Logistic regression "
   ]
  },
  {
   "cell_type": "markdown",
   "id": "4903879d-1e14-424c-9964-c951b2e06614",
   "metadata": {
    "id": "4903879d-1e14-424c-9964-c951b2e06614"
   },
   "source": [
    "### motive "
   ]
  },
  {
   "cell_type": "markdown",
   "id": "3738bff6-86f5-40c5-b089-47151a315d3f",
   "metadata": {
    "id": "3738bff6-86f5-40c5-b089-47151a315d3f"
   },
   "source": [
    "`-` 현실에서 이런 경우가 많음 \n",
    "- $x$가 커질수록 (혹은 작아질수록) 성공확률이 증가함. "
   ]
  },
  {
   "cell_type": "markdown",
   "id": "c759cb0f-906b-429d-b398-0443599086a3",
   "metadata": {
    "id": "c759cb0f-906b-429d-b398-0443599086a3"
   },
   "source": [
    "`-` (X,y)는 어떤모양? "
   ]
  },
  {
   "cell_type": "code",
   "execution_count": 154,
   "id": "80c0b223-1b23-457e-99fe-0103c85877ac",
   "metadata": {
    "id": "80c0b223-1b23-457e-99fe-0103c85877ac",
    "outputId": "de911315-f9de-403b-8048-7dbef74b16a1"
   },
   "outputs": [
    {
     "data": {
      "text/html": [
       "<div>\n",
       "<style scoped>\n",
       "    .dataframe tbody tr th:only-of-type {\n",
       "        vertical-align: middle;\n",
       "    }\n",
       "\n",
       "    .dataframe tbody tr th {\n",
       "        vertical-align: top;\n",
       "    }\n",
       "\n",
       "    .dataframe thead th {\n",
       "        text-align: right;\n",
       "    }\n",
       "</style>\n",
       "<table border=\"1\" class=\"dataframe\">\n",
       "  <thead>\n",
       "    <tr style=\"text-align: right;\">\n",
       "      <th></th>\n",
       "      <th>x</th>\n",
       "      <th>y</th>\n",
       "    </tr>\n",
       "  </thead>\n",
       "  <tbody>\n",
       "    <tr>\n",
       "      <th>0</th>\n",
       "      <td>-6</td>\n",
       "      <td>0</td>\n",
       "    </tr>\n",
       "    <tr>\n",
       "      <th>1</th>\n",
       "      <td>-5</td>\n",
       "      <td>0</td>\n",
       "    </tr>\n",
       "    <tr>\n",
       "      <th>2</th>\n",
       "      <td>-4</td>\n",
       "      <td>0</td>\n",
       "    </tr>\n",
       "    <tr>\n",
       "      <th>3</th>\n",
       "      <td>-3</td>\n",
       "      <td>0</td>\n",
       "    </tr>\n",
       "    <tr>\n",
       "      <th>4</th>\n",
       "      <td>-2</td>\n",
       "      <td>0</td>\n",
       "    </tr>\n",
       "    <tr>\n",
       "      <th>5</th>\n",
       "      <td>-1</td>\n",
       "      <td>0</td>\n",
       "    </tr>\n",
       "    <tr>\n",
       "      <th>6</th>\n",
       "      <td>0</td>\n",
       "      <td>1</td>\n",
       "    </tr>\n",
       "    <tr>\n",
       "      <th>7</th>\n",
       "      <td>1</td>\n",
       "      <td>0</td>\n",
       "    </tr>\n",
       "    <tr>\n",
       "      <th>8</th>\n",
       "      <td>2</td>\n",
       "      <td>1</td>\n",
       "    </tr>\n",
       "    <tr>\n",
       "      <th>9</th>\n",
       "      <td>3</td>\n",
       "      <td>1</td>\n",
       "    </tr>\n",
       "    <tr>\n",
       "      <th>10</th>\n",
       "      <td>4</td>\n",
       "      <td>1</td>\n",
       "    </tr>\n",
       "    <tr>\n",
       "      <th>11</th>\n",
       "      <td>5</td>\n",
       "      <td>1</td>\n",
       "    </tr>\n",
       "    <tr>\n",
       "      <th>12</th>\n",
       "      <td>6</td>\n",
       "      <td>1</td>\n",
       "    </tr>\n",
       "  </tbody>\n",
       "</table>\n",
       "</div>"
      ],
      "text/plain": [
       "    x  y\n",
       "0  -6  0\n",
       "1  -5  0\n",
       "2  -4  0\n",
       "3  -3  0\n",
       "4  -2  0\n",
       "5  -1  0\n",
       "6   0  1\n",
       "7   1  0\n",
       "8   2  1\n",
       "9   3  1\n",
       "10  4  1\n",
       "11  5  1\n",
       "12  6  1"
      ]
     },
     "execution_count": 154,
     "metadata": {},
     "output_type": "execute_result"
    }
   ],
   "source": [
    "_df = pd.DataFrame({'x':range(-6,7),'y':[0,0,0,0,0,0,1,0,1,1,1,1,1]})\n",
    "_df "
   ]
  },
  {
   "cell_type": "code",
   "execution_count": 155,
   "id": "08a2de7d-30d8-4e76-a539-968fe6645cfa",
   "metadata": {
    "id": "08a2de7d-30d8-4e76-a539-968fe6645cfa",
    "outputId": "59ecf194-1f03-4265-94e6-fd2b5840db6b"
   },
   "outputs": [
    {
     "data": {
      "text/plain": [
       "[<matplotlib.lines.Line2D at 0x7f6c30208430>]"
      ]
     },
     "execution_count": 155,
     "metadata": {},
     "output_type": "execute_result"
    },
    {
     "data": {
      "image/png": "[encoded data removed]",
      "text/plain": [
       "<Figure size 432x288 with 1 Axes>"
      ]
     },
     "metadata": {
      "needs_background": "light"
     },
     "output_type": "display_data"
    }
   ],
   "source": [
    "plt.plot(_df.x,_df.y,'o')"
   ]
  },
  {
   "cell_type": "markdown",
   "id": "69b02d73-32b8-4377-a7b7-6f3ed9aa2bb9",
   "metadata": {
    "id": "69b02d73-32b8-4377-a7b7-6f3ed9aa2bb9"
   },
   "source": [
    "`-` (예비학습) 시그모이드라는 함수가 있음 "
   ]
  },
  {
   "cell_type": "code",
   "execution_count": 156,
   "id": "ffa06829-2c5e-411d-8ec2-23f81acdc7e7",
   "metadata": {
    "id": "ffa06829-2c5e-411d-8ec2-23f81acdc7e7"
   },
   "outputs": [],
   "source": [
    "xx = torch.linspace(-6,6,100)\n",
    "def f(x):\n",
    "    return torch.exp(x)/(1+torch.exp(x))"
   ]
  },
  {
   "cell_type": "code",
   "execution_count": 166,
   "id": "5a450682-b4f6-4ceb-ade0-9dce9e40c029",
   "metadata": {
    "id": "5a450682-b4f6-4ceb-ade0-9dce9e40c029",
    "outputId": "00633109-c587-4185-ee19-855ecdbe6aee"
   },
   "outputs": [
    {
     "data": {
      "text/plain": [
       "[<matplotlib.lines.Line2D at 0x7f6c2a673d60>]"
      ]
     },
     "execution_count": 166,
     "metadata": {},
     "output_type": "execute_result"
    },
    {
     "data": {
      "image/png": "[encoded data removed]",
      "text/plain": [
       "<Figure size 432x288 with 1 Axes>"
      ]
     },
     "metadata": {
      "needs_background": "light"
     },
     "output_type": "display_data"
    }
   ],
   "source": [
    "plt.plot(_df.x,_df.y,'o')\n",
    "plt.plot(xx,f(xx))\n",
    "plt.plot(xx,f(2.5*xx-1.2)) # 영향을 크게 받을 때 + 운적인 요소 영향 받을 때(절편) -> 모델링하는 과정"
   ]
  },
  {
   "cell_type": "markdown",
   "id": "3370d3ac-6e7a-436a-879a-a9305389e0e6",
   "metadata": {},
   "source": [
    "베르누이 특정 확률로 0 또는 1 뽑기"
   ]
  },
  {
   "cell_type": "markdown",
   "id": "8223c270-69bf-4d7d-ac77-841d67c25820",
   "metadata": {
    "id": "8223c270-69bf-4d7d-ac77-841d67c25820"
   },
   "source": [
    "### model"
   ]
  },
  {
   "cell_type": "markdown",
   "id": "5bb1d73f-7ac9-4e00-9029-b4b0549f47ab",
   "metadata": {
    "id": "5bb1d73f-7ac9-4e00-9029-b4b0549f47ab"
   },
   "source": [
    "`-` $x$가 커질수록 $y=1$이 잘나오는 모형은 아래와 같이 설계할 수 있음 <--- 외우세요!!!\n",
    "\n",
    "- $y_i \\sim Ber(\\pi_i),\\quad $ where $\\pi_i = \\frac{\\exp(w_0+w_1x_i)}{1+\\exp(w_0+w_1x_i)}$\n",
    "\n",
    "- $\\hat{y}_i= \\hat{pi}_\\frac{\\exp(\\hat{w}_0+\\hat{w}_1x_i)}{1+\\exp(\\hat{w}_0+\\hat{w}_1x_i)}=\\frac{1}{1+\\exp(-\\hat{w}_0-\\hat{w}_1x_i)}$ \n",
    "\n",
    "- $loss= - \\sum_{i=1}^{n} \\big(y_i\\log(\\hat{y}_i)+(1-y_i)\\log(1-\\hat{y}_i)\\big)$ <--- 외우세요!!"
   ]
  },
  {
   "cell_type": "markdown",
   "id": "92318c1b-00e2-41da-a0e2-fa07de2bd592",
   "metadata": {},
   "source": [
    "$y_i=1$ $\\hat{y_i} = 1$loss가 0 근처 $\\hat{y_i} = 0$ loss가- 무한대\n",
    "\n",
    "$y_i = 0$ $\\hat{y_i} = 0 $loss가 0근처 $\\hat{y_i} = 1$ loss가 1"
   ]
  },
  {
   "cell_type": "markdown",
   "id": "abc441d3-e7f3-4d10-9d19-834f3e547f9b",
   "metadata": {
    "id": "abc441d3-e7f3-4d10-9d19-834f3e547f9b"
   },
   "source": [
    "### toy example"
   ]
  },
  {
   "cell_type": "markdown",
   "id": "2a65365f-b678-45e8-bc15-7155d78c6609",
   "metadata": {
    "id": "2a65365f-b678-45e8-bc15-7155d78c6609"
   },
   "source": [
    "`-` 예제시작 "
   ]
  },
  {
   "cell_type": "code",
   "execution_count": 167,
   "id": "cfd74e5b-9d5a-4c9e-b98d-575e44a2e980",
   "metadata": {},
   "outputs": [
    {
     "data": {
      "text/plain": [
       "\u001b[0;31mDocstring:\u001b[0m\n",
       "bernoulli(input, *, generator=None, out=None) -> Tensor\n",
       "\n",
       "Draws binary random numbers (0 or 1) from a Bernoulli distribution.\n",
       "\n",
       "The :attr:`input` tensor should be a tensor containing probabilities\n",
       "to be used for drawing the binary random number.\n",
       "Hence, all values in :attr:`input` have to be in the range:\n",
       ":math:`0 \\leq \\text{input}_i \\leq 1`.\n",
       "\n",
       "The :math:`\\text{i}^{th}` element of the output tensor will draw a\n",
       "value :math:`1` according to the :math:`\\text{i}^{th}` probability value given\n",
       "in :attr:`input`.\n",
       "\n",
       ".. math::\n",
       "    \\text{out}_{i} \\sim \\mathrm{Bernoulli}(p = \\text{input}_{i})\n",
       "\n",
       "The returned :attr:`out` tensor only has values 0 or 1 and is of the same\n",
       "shape as :attr:`input`.\n",
       "\n",
       ":attr:`out` can have integral ``dtype``, but :attr:`input` must have floating\n",
       "point ``dtype``.\n",
       "\n",
       "Args:\n",
       "    input (Tensor): the input tensor of probability values for the Bernoulli distribution\n",
       "\n",
       "Keyword args:\n",
       "    generator (:class:`torch.Generator`, optional): a pseudorandom number generator for sampling\n",
       "    out (Tensor, optional): the output tensor.\n",
       "\n",
       "Example::\n",
       "\n",
       "    >>> a = torch.empty(3, 3).uniform_(0, 1)  # generate a uniform random matrix with range [0, 1]\n",
       "    >>> a\n",
       "    tensor([[ 0.1737,  0.0950,  0.3609],\n",
       "            [ 0.7148,  0.0289,  0.2676],\n",
       "            [ 0.9456,  0.8937,  0.7202]])\n",
       "    >>> torch.bernoulli(a)\n",
       "    tensor([[ 1.,  0.,  0.],\n",
       "            [ 0.,  0.,  0.],\n",
       "            [ 1.,  1.,  1.]])\n",
       "\n",
       "    >>> a = torch.ones(3, 3) # probability of drawing \"1\" is 1\n",
       "    >>> torch.bernoulli(a)\n",
       "    tensor([[ 1.,  1.,  1.],\n",
       "            [ 1.,  1.,  1.],\n",
       "            [ 1.,  1.,  1.]])\n",
       "    >>> a = torch.zeros(3, 3) # probability of drawing \"1\" is 0\n",
       "    >>> torch.bernoulli(a)\n",
       "    tensor([[ 0.,  0.,  0.],\n",
       "            [ 0.,  0.,  0.],\n",
       "            [ 0.,  0.,  0.]])\n",
       "\u001b[0;31mType:\u001b[0m      builtin_function_or_method\n"
      ]
     },
     "metadata": {},
     "output_type": "display_data"
    }
   ],
   "source": [
    "torch.bernoulli?"
   ]
  },
  {
   "cell_type": "code",
   "execution_count": 169,
   "id": "f9f671e5-c01f-4cb9-97a4-30f77dc50c32",
   "metadata": {},
   "outputs": [
    {
     "data": {
      "text/plain": [
       "tensor([0., 0., 1., 1., 0., 1., 0., 1., 0., 0., 1., 1., 1., 1., 0., 1., 1., 0.,\n",
       "        0., 1., 1., 1., 1., 0., 1., 1., 0., 0., 1., 0., 0., 1., 0., 0., 0., 0.,\n",
       "        0., 1., 1., 1., 0., 0., 1., 0., 0., 1., 0., 0., 1., 0., 1., 0., 1., 1.,\n",
       "        0., 0., 0., 1., 0., 1., 0., 1., 0., 1., 0., 0., 0., 0., 1., 0., 0., 0.,\n",
       "        1., 1., 1., 1., 0., 1., 1., 0., 0., 0., 1., 1., 1., 0., 1., 1., 0., 1.,\n",
       "        0., 0., 0., 0., 1., 0., 0., 0., 0., 0.])"
      ]
     },
     "execution_count": 169,
     "metadata": {},
     "output_type": "execute_result"
    }
   ],
   "source": [
    "torch.bernoulli(torch.tensor([0.5]*100)) # 0.5의 확률ㄹ 0 또는 1 뽑아"
   ]
  },
  {
   "cell_type": "code",
   "execution_count": 190,
   "id": "9e839c06-97c4-4b85-8c02-5ef8c4dde51a",
   "metadata": {
    "id": "9e839c06-97c4-4b85-8c02-5ef8c4dde51a"
   },
   "outputs": [],
   "source": [
    "x=torch.linspace(-1,1,2000).reshape(2000,1)\n",
    "w0= -1 \n",
    "w1= 5 \n",
    "u = w0+x*w1 \n",
    "v = torch.exp(u)/(1+torch.exp(u)) # v=πi, 즉 확률을 의미함\n",
    "y = torch.bernoulli(v) "
   ]
  },
  {
   "cell_type": "code",
   "execution_count": 191,
   "id": "f609e8ec-3dc8-485e-b5e4-8f34fbcfedbc",
   "metadata": {
    "id": "f609e8ec-3dc8-485e-b5e4-8f34fbcfedbc",
    "outputId": "82f7f246-0327-4c47-c009-44e709d81f69"
   },
   "outputs": [
    {
     "data": {
      "text/plain": [
       "[<matplotlib.lines.Line2D at 0x7f6c2a039ca0>]"
      ]
     },
     "execution_count": 191,
     "metadata": {},
     "output_type": "execute_result"
    },
    {
     "data": {
      "image/png": "[encoded data removed]",
      "text/plain": [
       "<Figure size 432x288 with 1 Axes>"
      ]
     },
     "metadata": {
      "needs_background": "light"
     },
     "output_type": "display_data"
    }
   ],
   "source": [
    "#plt.scatter(x,y,alpha=0.05)\n",
    "plt.plot(x,y,'o',alpha=0.05,ms=4)\n",
    "plt.plot(x,v,'--r')"
   ]
  },
  {
   "cell_type": "markdown",
   "id": "9dacd246-e80e-49f0-a7d2-a37717d619f6",
   "metadata": {
    "id": "9dacd246-e80e-49f0-a7d2-a37717d619f6"
   },
   "source": [
    "- 우리의 목적: $x$가 들어가면 빨간선 $\\hat{y}$의 값을 만들어주는 mapping을 학습해보자. "
   ]
  },
  {
   "cell_type": "code",
   "execution_count": 194,
   "id": "92fce54f-5fb9-4f5d-852d-e1696bb29336",
   "metadata": {},
   "outputs": [
    {
     "data": {
      "text/plain": [
       "[<matplotlib.lines.Line2D at 0x7f6c29fa6d30>]"
      ]
     },
     "execution_count": 194,
     "metadata": {},
     "output_type": "execute_result"
    },
    {
     "data": {
      "image/png": "[encoded data removed]",
      "text/plain": [
       "<Figure size 432x288 with 1 Axes>"
      ]
     },
     "metadata": {
      "needs_background": "light"
     },
     "output_type": "display_data"
    }
   ],
   "source": [
    "w0hat = 10\n",
    "w1hat = 3\n",
    "yhat = f(w0hat + w1hat*x)\n",
    "plt.plot(x,y,'o',alpha=0.05,ms=4)\n",
    "plt.plot(x,v,'--r')\n",
    "plt.plot(x,yhat,'--r')"
   ]
  },
  {
   "cell_type": "code",
   "execution_count": 195,
   "id": "00bbe2a2-648c-4764-ac42-465513b647a7",
   "metadata": {},
   "outputs": [],
   "source": [
    "l1 = torch.nn.Linear(1,1)"
   ]
  },
  {
   "cell_type": "code",
   "execution_count": 207,
   "id": "a2fca192-541d-4772-9408-75c0b8f9c058",
   "metadata": {},
   "outputs": [],
   "source": [
    "l1.bias.data = torch.tensor([-1.0])\n",
    "l1.weight.data = torch.tensor([[1.0]])"
   ]
  },
  {
   "cell_type": "code",
   "execution_count": 208,
   "id": "b98793ac-b858-4051-a5c1-667bc2284ab9",
   "metadata": {},
   "outputs": [],
   "source": [
    "a1 = torch.nn.Sigmoid()"
   ]
  },
  {
   "cell_type": "code",
   "execution_count": 209,
   "id": "578212f9-ea04-4df0-a17c-208b18f0eaa7",
   "metadata": {},
   "outputs": [
    {
     "data": {
      "text/plain": [
       "[<matplotlib.lines.Line2D at 0x7f6c2a12e2e0>]"
      ]
     },
     "execution_count": 209,
     "metadata": {},
     "output_type": "execute_result"
    },
    {
     "data": {
      "image/png": "[encoded data removed]",
      "text/plain": [
       "<Figure size 432x288 with 1 Axes>"
      ]
     },
     "metadata": {
      "needs_background": "light"
     },
     "output_type": "display_data"
    }
   ],
   "source": [
    "w0hat = -1\n",
    "w1hat = 3\n",
    "yhat = a1(w0hat + w1hat*x)\n",
    "plt.plot(x,y,'o',alpha=0.05,ms=4)\n",
    "plt.plot(x,v,'--r')\n",
    "plt.plot(x,yhat,'--r')"
   ]
  },
  {
   "cell_type": "code",
   "execution_count": 210,
   "id": "3b499c76-d5b4-4363-88ee-06921b97b0c4",
   "metadata": {},
   "outputs": [],
   "source": [
    "for epoc in range(6000):\n",
    "    ## step1 \n",
    "    yhat = a1(l1(x))\n",
    "    ## step2 \n",
    "    loss = torch.mean((y-yhat)**2) ## loss 를 원래 이렇게 하는건 아니에요.. \n",
    "    ## step3 \n",
    "    loss.backward()\n",
    "    ## step4 \n",
    "    l1.bias.data = l1.bias.data - 0.1 * l1.bias.grad \n",
    "    l1.weight.data = l1.weight.data - 0.1 * l1.weight.grad \n",
    "    l1.bias.grad = None \n",
    "    l1.weight.grad = None "
   ]
  },
  {
   "cell_type": "code",
   "execution_count": 212,
   "id": "fa2b9d6a-c1c5-463a-bc58-9ab60fff0a66",
   "metadata": {},
   "outputs": [
    {
     "data": {
      "text/plain": [
       "[<matplotlib.lines.Line2D at 0x7f6c29ea49a0>]"
      ]
     },
     "execution_count": 212,
     "metadata": {},
     "output_type": "execute_result"
    },
    {
     "data": {
      "image/png": "[encoded data removed]",
      "text/plain": [
       "<Figure size 432x288 with 1 Axes>"
      ]
     },
     "metadata": {
      "needs_background": "light"
     },
     "output_type": "display_data"
    }
   ],
   "source": [
    "plt.plot(x,y,'o',alpha=0.05,ms=4)\n",
    "plt.plot(x,v,'--r')\n",
    "plt.plot(x,a1(l1(x)).data,'--r')"
   ]
  },
  {
   "cell_type": "markdown",
   "id": "2d5024a9-44df-4c75-9107-8337e901d103",
   "metadata": {},
   "source": [
    "---"
   ]
  },
  {
   "cell_type": "markdown",
   "id": "9e1db865-6983-48a6-9582-524d567230eb",
   "metadata": {
    "id": "9e1db865-6983-48a6-9582-524d567230eb"
   },
   "source": [
    "## 숙제 "
   ]
  }
 ],
 "metadata": {
  "colab": {
   "provenance": []
  },
  "kernelspec": {
   "display_name": "Python 3 (ipykernel)",
   "language": "python",
   "name": "python3"
  },
  "language_info": {
   "codemirror_mode": {
    "name": "ipython",
    "version": 3
   },
   "file_extension": ".py",
   "mimetype": "text/x-python",
   "name": "python",
   "nbconvert_exporter": "python",
   "pygments_lexer": "ipython3",
   "version": "3.8.12"
  }
 },
 "nbformat": 4,
 "nbformat_minor": 5
}
