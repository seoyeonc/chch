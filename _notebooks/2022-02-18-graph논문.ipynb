{
 "cells": [
  {
   "cell_type": "markdown",
   "id": "035edfb3-03a5-4973-b721-5c796f179bac",
   "metadata": {
    "id": "cac470df-29e7-4148-9bbd-d8b9a32fa570",
    "tags": []
   },
   "source": [
    "# Earth quake\n",
    "> graph laplacian\n",
    "\n",
    "- toc:true\n",
    "- branch: master\n",
    "- badges: true\n",
    "- comments: false\n",
    "- author: 최서연\n",
    "- categories: [Graph Laplacian, PCA]"
   ]
  },
  {
   "cell_type": "code",
   "execution_count": 128,
   "id": "f4cbc022-5d75-4201-9427-46a79ed76844",
   "metadata": {},
   "outputs": [],
   "source": [
    "import numpy as np\n",
    "import pandas as pd\n",
    "import matplotlib.pyplot as plt "
   ]
  },
  {
   "cell_type": "code",
   "execution_count": 3,
   "id": "7615901c-2423-4d3d-aec2-0d1e2c2861c2",
   "metadata": {
    "id": "98831339-6197-4662-beee-24c51eb3ada2",
    "outputId": "6a60b479-e363-4a9a-d3ee-a2ca5d4d9349"
   },
   "outputs": [
    {
     "data": {
      "text/html": [
       "<div>\n",
       "<style scoped>\n",
       "    .dataframe tbody tr th:only-of-type {\n",
       "        vertical-align: middle;\n",
       "    }\n",
       "\n",
       "    .dataframe tbody tr th {\n",
       "        vertical-align: top;\n",
       "    }\n",
       "\n",
       "    .dataframe thead th {\n",
       "        text-align: right;\n",
       "    }\n",
       "</style>\n",
       "<table border=\"1\" class=\"dataframe\">\n",
       "  <thead>\n",
       "    <tr style=\"text-align: right;\">\n",
       "      <th></th>\n",
       "      <th>Date</th>\n",
       "      <th>Latitude</th>\n",
       "      <th>Longitude</th>\n",
       "      <th>Magnitude</th>\n",
       "    </tr>\n",
       "  </thead>\n",
       "  <tbody>\n",
       "    <tr>\n",
       "      <th>0</th>\n",
       "      <td>01/02/1965</td>\n",
       "      <td>19.2460</td>\n",
       "      <td>145.6160</td>\n",
       "      <td>6.0</td>\n",
       "    </tr>\n",
       "    <tr>\n",
       "      <th>1</th>\n",
       "      <td>01/04/1965</td>\n",
       "      <td>1.8630</td>\n",
       "      <td>127.3520</td>\n",
       "      <td>5.8</td>\n",
       "    </tr>\n",
       "    <tr>\n",
       "      <th>2</th>\n",
       "      <td>01/05/1965</td>\n",
       "      <td>-20.5790</td>\n",
       "      <td>-173.9720</td>\n",
       "      <td>6.2</td>\n",
       "    </tr>\n",
       "    <tr>\n",
       "      <th>3</th>\n",
       "      <td>01/08/1965</td>\n",
       "      <td>-59.0760</td>\n",
       "      <td>-23.5570</td>\n",
       "      <td>5.8</td>\n",
       "    </tr>\n",
       "    <tr>\n",
       "      <th>4</th>\n",
       "      <td>01/09/1965</td>\n",
       "      <td>11.9380</td>\n",
       "      <td>126.4270</td>\n",
       "      <td>5.8</td>\n",
       "    </tr>\n",
       "    <tr>\n",
       "      <th>...</th>\n",
       "      <td>...</td>\n",
       "      <td>...</td>\n",
       "      <td>...</td>\n",
       "      <td>...</td>\n",
       "    </tr>\n",
       "    <tr>\n",
       "      <th>23407</th>\n",
       "      <td>12/28/2016</td>\n",
       "      <td>38.3917</td>\n",
       "      <td>-118.8941</td>\n",
       "      <td>5.6</td>\n",
       "    </tr>\n",
       "    <tr>\n",
       "      <th>23408</th>\n",
       "      <td>12/28/2016</td>\n",
       "      <td>38.3777</td>\n",
       "      <td>-118.8957</td>\n",
       "      <td>5.5</td>\n",
       "    </tr>\n",
       "    <tr>\n",
       "      <th>23409</th>\n",
       "      <td>12/28/2016</td>\n",
       "      <td>36.9179</td>\n",
       "      <td>140.4262</td>\n",
       "      <td>5.9</td>\n",
       "    </tr>\n",
       "    <tr>\n",
       "      <th>23410</th>\n",
       "      <td>12/29/2016</td>\n",
       "      <td>-9.0283</td>\n",
       "      <td>118.6639</td>\n",
       "      <td>6.3</td>\n",
       "    </tr>\n",
       "    <tr>\n",
       "      <th>23411</th>\n",
       "      <td>12/30/2016</td>\n",
       "      <td>37.3973</td>\n",
       "      <td>141.4103</td>\n",
       "      <td>5.5</td>\n",
       "    </tr>\n",
       "  </tbody>\n",
       "</table>\n",
       "<p>23412 rows × 4 columns</p>\n",
       "</div>"
      ],
      "text/plain": [
       "             Date  Latitude  Longitude  Magnitude\n",
       "0      01/02/1965   19.2460   145.6160        6.0\n",
       "1      01/04/1965    1.8630   127.3520        5.8\n",
       "2      01/05/1965  -20.5790  -173.9720        6.2\n",
       "3      01/08/1965  -59.0760   -23.5570        5.8\n",
       "4      01/09/1965   11.9380   126.4270        5.8\n",
       "...           ...       ...        ...        ...\n",
       "23407  12/28/2016   38.3917  -118.8941        5.6\n",
       "23408  12/28/2016   38.3777  -118.8957        5.5\n",
       "23409  12/28/2016   36.9179   140.4262        5.9\n",
       "23410  12/29/2016   -9.0283   118.6639        6.3\n",
       "23411  12/30/2016   37.3973   141.4103        5.5\n",
       "\n",
       "[23412 rows x 4 columns]"
      ]
     },
     "execution_count": 3,
     "metadata": {},
     "output_type": "execute_result"
    }
   ],
   "source": [
    "df=pd.read_csv('https://raw.githubusercontent.com/plotly/datasets/master/earthquakes-23k.csv')\n",
    "df"
   ]
  },
  {
   "cell_type": "code",
   "execution_count": 4,
   "id": "6c80c67f-3319-44aa-8342-60b1a76b9833",
   "metadata": {
    "id": "c048a717-4701-4098-8d21-792c86fc8cc1"
   },
   "outputs": [],
   "source": [
    "# df.assign 임시 데이터 만들어줘서 원래 데이터 안 건들이게\n",
    "lst=[df.assign(Year=list(map(lambda x: x.split('/')[-1], df.Date))).\\\n",
    "groupby('Year').\\\n",
    "pipe(list)[i][1].iloc[:,[1,2,3]].\\\n",
    "to_numpy().tolist() for i in range(2017-1965)]"
   ]
  },
  {
   "cell_type": "markdown",
   "id": "78388216-2e95-4968-a655-4ed1ee2f761c",
   "metadata": {},
   "source": [
    "pipe는 튜플로 묶여 있어서 [][] 해줘야 데이터프레임으로 나오지\n",
    "\n",
    "한 번에 list로 안 되어서 numpy 해준 후 list"
   ]
  },
  {
   "cell_type": "markdown",
   "id": "d054f47d-56d7-4de4-84c5-e99e60b99a32",
   "metadata": {
    "id": "eaba08ae-1d96-455b-bbe7-aeacc78d1f29"
   },
   "source": [
    "`-` 숙제: "
   ]
  },
  {
   "cell_type": "markdown",
   "id": "fbdc9523-bc0a-4732-abdf-c98d8f8c9ca5",
   "metadata": {
    "id": "ae8daa62-750a-4a4c-b482-7fb12607e2ea"
   },
   "source": [
    "지진자료에서 1985년 이후의 자료만 고른뒤에 HeatMapWithTime()을 이용하여 시각화하라."
   ]
  },
  {
   "cell_type": "code",
   "execution_count": 9,
   "id": "bf46d257-bc86-4423-8734-54c616f3755e",
   "metadata": {},
   "outputs": [],
   "source": [
    "lst2=[df.assign(Year=list(map(lambda x: x.split('/')[-1], df.Date))).query('Year>=\"1985\"').\\\n",
    "groupby('Year').\\\n",
    "pipe(list)[i][1].iloc[:,[1,2,3]].\\\n",
    "to_numpy().tolist() for i in range(2016-1985)]"
   ]
  },
  {
   "cell_type": "markdown",
   "id": "9f84321f-996f-46c3-aa6f-70707590ca42",
   "metadata": {},
   "source": [
    "- t = Year\n",
    "- x = Latitude\n",
    "- y = Longitude\n",
    "- f = Magnitude"
   ]
  },
  {
   "cell_type": "code",
   "execution_count": 108,
   "id": "0910e5ea-6e0e-49d2-893b-fc04a47df73c",
   "metadata": {},
   "outputs": [
    {
     "data": {
      "text/html": [
       "<div>\n",
       "<style scoped>\n",
       "    .dataframe tbody tr th:only-of-type {\n",
       "        vertical-align: middle;\n",
       "    }\n",
       "\n",
       "    .dataframe tbody tr th {\n",
       "        vertical-align: top;\n",
       "    }\n",
       "\n",
       "    .dataframe thead th {\n",
       "        text-align: right;\n",
       "    }\n",
       "</style>\n",
       "<table border=\"1\" class=\"dataframe\">\n",
       "  <thead>\n",
       "    <tr style=\"text-align: right;\">\n",
       "      <th></th>\n",
       "      <th>Latitude</th>\n",
       "      <th>Longitude</th>\n",
       "      <th>Magnitude</th>\n",
       "      <th>Year</th>\n",
       "    </tr>\n",
       "  </thead>\n",
       "  <tbody>\n",
       "    <tr>\n",
       "      <th>0</th>\n",
       "      <td>-50.5575</td>\n",
       "      <td>139.4489</td>\n",
       "      <td>6.3</td>\n",
       "      <td>2016</td>\n",
       "    </tr>\n",
       "    <tr>\n",
       "      <th>1</th>\n",
       "      <td>-28.6278</td>\n",
       "      <td>-177.2810</td>\n",
       "      <td>5.8</td>\n",
       "      <td>2016</td>\n",
       "    </tr>\n",
       "    <tr>\n",
       "      <th>2</th>\n",
       "      <td>44.8069</td>\n",
       "      <td>129.9406</td>\n",
       "      <td>5.8</td>\n",
       "      <td>2016</td>\n",
       "    </tr>\n",
       "    <tr>\n",
       "      <th>3</th>\n",
       "      <td>24.8036</td>\n",
       "      <td>93.6505</td>\n",
       "      <td>6.7</td>\n",
       "      <td>2016</td>\n",
       "    </tr>\n",
       "    <tr>\n",
       "      <th>4</th>\n",
       "      <td>30.6132</td>\n",
       "      <td>132.7337</td>\n",
       "      <td>5.8</td>\n",
       "      <td>2016</td>\n",
       "    </tr>\n",
       "    <tr>\n",
       "      <th>...</th>\n",
       "      <td>...</td>\n",
       "      <td>...</td>\n",
       "      <td>...</td>\n",
       "      <td>...</td>\n",
       "    </tr>\n",
       "    <tr>\n",
       "      <th>464</th>\n",
       "      <td>38.3917</td>\n",
       "      <td>-118.8941</td>\n",
       "      <td>5.6</td>\n",
       "      <td>2016</td>\n",
       "    </tr>\n",
       "    <tr>\n",
       "      <th>465</th>\n",
       "      <td>38.3777</td>\n",
       "      <td>-118.8957</td>\n",
       "      <td>5.5</td>\n",
       "      <td>2016</td>\n",
       "    </tr>\n",
       "    <tr>\n",
       "      <th>466</th>\n",
       "      <td>36.9179</td>\n",
       "      <td>140.4262</td>\n",
       "      <td>5.9</td>\n",
       "      <td>2016</td>\n",
       "    </tr>\n",
       "    <tr>\n",
       "      <th>467</th>\n",
       "      <td>-9.0283</td>\n",
       "      <td>118.6639</td>\n",
       "      <td>6.3</td>\n",
       "      <td>2016</td>\n",
       "    </tr>\n",
       "    <tr>\n",
       "      <th>468</th>\n",
       "      <td>37.3973</td>\n",
       "      <td>141.4103</td>\n",
       "      <td>5.5</td>\n",
       "      <td>2016</td>\n",
       "    </tr>\n",
       "  </tbody>\n",
       "</table>\n",
       "<p>469 rows × 4 columns</p>\n",
       "</div>"
      ],
      "text/plain": [
       "     Latitude  Longitude  Magnitude  Year\n",
       "0    -50.5575   139.4489        6.3  2016\n",
       "1    -28.6278  -177.2810        5.8  2016\n",
       "2     44.8069   129.9406        5.8  2016\n",
       "3     24.8036    93.6505        6.7  2016\n",
       "4     30.6132   132.7337        5.8  2016\n",
       "..        ...        ...        ...   ...\n",
       "464   38.3917  -118.8941        5.6  2016\n",
       "465   38.3777  -118.8957        5.5  2016\n",
       "466   36.9179   140.4262        5.9  2016\n",
       "467   -9.0283   118.6639        6.3  2016\n",
       "468   37.3973   141.4103        5.5  2016\n",
       "\n",
       "[469 rows x 4 columns]"
      ]
     },
     "execution_count": 108,
     "metadata": {},
     "output_type": "execute_result"
    }
   ],
   "source": [
    "_df = df.assign(Year=list(map(lambda x: x.split('/')[-1], df.Date))).query('Year>=\"2016\"').reset_index().iloc[:,2:]\n",
    "_df"
   ]
  },
  {
   "cell_type": "code",
   "execution_count": 109,
   "id": "54203de1-8bf6-48cd-b49b-c3d7a9463351",
   "metadata": {},
   "outputs": [
    {
     "data": {
      "text/plain": [
       "316.7299"
      ]
     },
     "execution_count": 109,
     "metadata": {},
     "output_type": "execute_result"
    }
   ],
   "source": [
    "np.abs(_df.Longitude[0]-_df.Longitude[1])"
   ]
  },
  {
   "cell_type": "markdown",
   "id": "b0f39300-abdf-49dc-a32c-be3b6c2f1bf7",
   "metadata": {},
   "source": [
    "$$dist(i,i+1)$$"
   ]
  },
  {
   "cell_type": "code",
   "execution_count": 110,
   "id": "6ca6bf2b-4a4b-4d29-a28d-ea183a37fc3c",
   "metadata": {},
   "outputs": [],
   "source": [
    "def dist(i,j):\n",
    "    return np.abs(_df.Longitude[i-1]-_df.Longitude[j-1])"
   ]
  },
  {
   "cell_type": "code",
   "execution_count": 111,
   "id": "259aa7ca-9185-412e-82a3-dc8dab1a63d2",
   "metadata": {},
   "outputs": [
    {
     "data": {
      "text/plain": [
       "0.0"
      ]
     },
     "execution_count": 111,
     "metadata": {},
     "output_type": "execute_result"
    }
   ],
   "source": [
    "dist(1,1)"
   ]
  },
  {
   "cell_type": "code",
   "execution_count": 112,
   "id": "25914b9d-c281-48e1-beff-a06ec9eafa37",
   "metadata": {},
   "outputs": [
    {
     "data": {
      "text/plain": [
       "316.7299"
      ]
     },
     "execution_count": 112,
     "metadata": {},
     "output_type": "execute_result"
    }
   ],
   "source": [
    "dist(1,2)"
   ]
  },
  {
   "cell_type": "markdown",
   "id": "d9deb546-963d-480e-97fe-efc1811cb75c",
   "metadata": {},
   "source": [
    "$$W_{i,j}=\\begin{cases}{exp(-\\frac{[dist(i,j)]^2}{2\\theta^2})} & \\quad \\text{if } dist(i,j) \\leq κ \\\\ 0 & \\quad \\text{otherwise} \\end{cases},   (1)$$"
   ]
  },
  {
   "cell_type": "code",
   "execution_count": 113,
   "id": "d782e51c-3e61-47fa-9abf-0374b4ba02da",
   "metadata": {},
   "outputs": [],
   "source": [
    "def weight(i,j,theta=1,kappa=100):\n",
    "    return np.exp( -dist(i,j)**2 / (2*theta**2) ) if dist(i,j) <= kappa else 0"
   ]
  },
  {
   "cell_type": "code",
   "execution_count": 114,
   "id": "09ae6af5-2d5e-4eba-92e8-b431f60722a9",
   "metadata": {},
   "outputs": [
    {
     "data": {
      "text/plain": [
       "1.0"
      ]
     },
     "execution_count": 114,
     "metadata": {},
     "output_type": "execute_result"
    }
   ],
   "source": [
    "weight(1,1)"
   ]
  },
  {
   "cell_type": "code",
   "execution_count": 115,
   "id": "a0c6fab0-0f8d-4149-be2a-ffbcf48ee67e",
   "metadata": {},
   "outputs": [
    {
     "data": {
      "text/plain": [
       "0"
      ]
     },
     "execution_count": 115,
     "metadata": {},
     "output_type": "execute_result"
    }
   ],
   "source": [
    "weight(1,2)"
   ]
  },
  {
   "cell_type": "code",
   "execution_count": 149,
   "id": "d3c81a02-bec9-435a-9c24-0b4f5e0ff678",
   "metadata": {},
   "outputs": [
    {
     "data": {
      "text/plain": [
       "469"
      ]
     },
     "execution_count": 149,
     "metadata": {},
     "output_type": "execute_result"
    }
   ],
   "source": [
    "len(_df)"
   ]
  },
  {
   "cell_type": "code",
   "execution_count": 116,
   "id": "62046e7b-cc90-47a7-85c5-181445bce417",
   "metadata": {},
   "outputs": [],
   "source": [
    "W = [ [weight(i,j) for i in range(1,len(_df)) ] for j in range(1,len(_df)) ]"
   ]
  },
  {
   "cell_type": "code",
   "execution_count": 117,
   "id": "8a02bd88-88a3-4bea-b4fa-48cde93c3f52",
   "metadata": {},
   "outputs": [],
   "source": [
    "W = np.array(W)"
   ]
  },
  {
   "cell_type": "code",
   "execution_count": 118,
   "id": "362501f9-a240-4620-9c49-0bb708bdd624",
   "metadata": {},
   "outputs": [
    {
     "data": {
      "text/plain": [
       "array([[1.00000000e+000, 0.00000000e+000, 2.33454594e-020, ...,\n",
       "        0.00000000e+000, 6.20296528e-001, 1.54478732e-094],\n",
       "       [0.00000000e+000, 1.00000000e+000, 0.00000000e+000, ...,\n",
       "        0.00000000e+000, 0.00000000e+000, 0.00000000e+000],\n",
       "       [2.33454594e-020, 0.00000000e+000, 1.00000000e+000, ...,\n",
       "        0.00000000e+000, 1.33394211e-024, 2.43610672e-028],\n",
       "       ...,\n",
       "       [0.00000000e+000, 0.00000000e+000, 0.00000000e+000, ...,\n",
       "        1.00000000e+000, 0.00000000e+000, 0.00000000e+000],\n",
       "       [6.20296528e-001, 0.00000000e+000, 1.33394211e-024, ...,\n",
       "        0.00000000e+000, 1.00000000e+000, 1.44399551e-103],\n",
       "       [1.54478732e-094, 0.00000000e+000, 2.43610672e-028, ...,\n",
       "        0.00000000e+000, 1.44399551e-103, 1.00000000e+000]])"
      ]
     },
     "execution_count": 118,
     "metadata": {},
     "output_type": "execute_result"
    }
   ],
   "source": [
    "W"
   ]
  },
  {
   "cell_type": "code",
   "execution_count": 119,
   "id": "5e8e3a5c-441c-4b77-b0e2-dde3f7560bc2",
   "metadata": {},
   "outputs": [],
   "source": [
    "D = np.diag(W.sum(axis=1))"
   ]
  },
  {
   "cell_type": "code",
   "execution_count": 120,
   "id": "36958841-d707-44de-8782-5be6eedad649",
   "metadata": {},
   "outputs": [
    {
     "data": {
      "text/plain": [
       "array([[11.79067226,  0.        ,  0.        , ...,  0.        ,\n",
       "         0.        ,  0.        ],\n",
       "       [ 0.        , 18.50126278,  0.        , ...,  0.        ,\n",
       "         0.        ,  0.        ],\n",
       "       [ 0.        ,  0.        , 14.56741028, ...,  0.        ,\n",
       "         0.        ,  0.        ],\n",
       "       ...,\n",
       "       [ 0.        ,  0.        ,  0.        , ...,  3.00017066,\n",
       "         0.        ,  0.        ],\n",
       "       [ 0.        ,  0.        ,  0.        , ...,  0.        ,\n",
       "        16.56090066,  0.        ],\n",
       "       [ 0.        ,  0.        ,  0.        , ...,  0.        ,\n",
       "         0.        ,  2.76421023]])"
      ]
     },
     "execution_count": 120,
     "metadata": {},
     "output_type": "execute_result"
    }
   ],
   "source": [
    "D"
   ]
  },
  {
   "cell_type": "code",
   "execution_count": 121,
   "id": "c294cd41-abbd-4860-9c8e-0dffffe0f911",
   "metadata": {},
   "outputs": [],
   "source": [
    "L = D - W"
   ]
  },
  {
   "cell_type": "code",
   "execution_count": 122,
   "id": "f3af58bb-7e16-4e34-b39a-73b7e35d7b23",
   "metadata": {},
   "outputs": [
    {
     "data": {
      "text/plain": [
       "array([[ 1.07906723e+001,  0.00000000e+000, -2.33454594e-020, ...,\n",
       "         0.00000000e+000, -6.20296528e-001, -1.54478732e-094],\n",
       "       [ 0.00000000e+000,  1.75012628e+001,  0.00000000e+000, ...,\n",
       "         0.00000000e+000,  0.00000000e+000,  0.00000000e+000],\n",
       "       [-2.33454594e-020,  0.00000000e+000,  1.35674103e+001, ...,\n",
       "         0.00000000e+000, -1.33394211e-024, -2.43610672e-028],\n",
       "       ...,\n",
       "       [ 0.00000000e+000,  0.00000000e+000,  0.00000000e+000, ...,\n",
       "         2.00017066e+000,  0.00000000e+000,  0.00000000e+000],\n",
       "       [-6.20296528e-001,  0.00000000e+000, -1.33394211e-024, ...,\n",
       "         0.00000000e+000,  1.55609007e+001, -1.44399551e-103],\n",
       "       [-1.54478732e-094,  0.00000000e+000, -2.43610672e-028, ...,\n",
       "         0.00000000e+000, -1.44399551e-103,  1.76421023e+000]])"
      ]
     },
     "execution_count": 122,
     "metadata": {},
     "output_type": "execute_result"
    }
   ],
   "source": [
    "L"
   ]
  },
  {
   "cell_type": "code",
   "execution_count": 123,
   "id": "02700222-adeb-4888-9f11-25d5caf09574",
   "metadata": {},
   "outputs": [],
   "source": [
    "λ, Ψ = np.linalg.eig(L)"
   ]
  },
  {
   "cell_type": "code",
   "execution_count": 124,
   "id": "8f346fd8-ca40-4498-966f-40e6d4669c2f",
   "metadata": {},
   "outputs": [],
   "source": [
    "Λ = np.diag(λ)"
   ]
  },
  {
   "cell_type": "code",
   "execution_count": 144,
   "id": "ecc172f7-e123-49c7-bab7-7e72d2320e38",
   "metadata": {},
   "outputs": [
    {
     "data": {
      "text/plain": [
       "(469,)"
      ]
     },
     "execution_count": 144,
     "metadata": {},
     "output_type": "execute_result"
    }
   ],
   "source": [
    "np.array(_df.iloc[:,1]).shape"
   ]
  },
  {
   "cell_type": "code",
   "execution_count": 143,
   "id": "050ba046-ad2f-4c83-92eb-e20b98c2f50f",
   "metadata": {},
   "outputs": [
    {
     "data": {
      "text/plain": [
       "(468, 468)"
      ]
     },
     "execution_count": 143,
     "metadata": {},
     "output_type": "execute_result"
    }
   ],
   "source": [
    "np.outer(Ψ[:,0], Ψ[:,0]).shape"
   ]
  },
  {
   "cell_type": "code",
   "execution_count": 145,
   "id": "78b5d94b-dcca-484b-88bc-19dced3273b6",
   "metadata": {},
   "outputs": [
    {
     "ename": "ValueError",
     "evalue": "matmul: Input operand 1 has a mismatch in its core dimension 0, with gufunc signature (n?,k),(k,m?)->(n?,m?) (size 468 is different from 469)",
     "output_type": "error",
     "traceback": [
      "\u001b[0;31m---------------------------------------------------------------------------\u001b[0m",
      "\u001b[0;31mValueError\u001b[0m                                Traceback (most recent call last)",
      "\u001b[0;32m/tmp/ipykernel_109438/3954485767.py\u001b[0m in \u001b[0;36m<module>\u001b[0;34m\u001b[0m\n\u001b[0;32m----> 1\u001b[0;31m \u001b[0mnp\u001b[0m\u001b[0;34m.\u001b[0m\u001b[0marray\u001b[0m\u001b[0;34m(\u001b[0m\u001b[0m_df\u001b[0m\u001b[0;34m.\u001b[0m\u001b[0miloc\u001b[0m\u001b[0;34m[\u001b[0m\u001b[0;34m:\u001b[0m\u001b[0;34m,\u001b[0m\u001b[0;36m1\u001b[0m\u001b[0;34m]\u001b[0m\u001b[0;34m)\u001b[0m \u001b[0;34m@\u001b[0m \u001b[0mnp\u001b[0m\u001b[0;34m.\u001b[0m\u001b[0mouter\u001b[0m\u001b[0;34m(\u001b[0m\u001b[0mΨ\u001b[0m\u001b[0;34m[\u001b[0m\u001b[0;34m:\u001b[0m\u001b[0;34m,\u001b[0m\u001b[0;36m0\u001b[0m\u001b[0;34m]\u001b[0m\u001b[0;34m,\u001b[0m \u001b[0mΨ\u001b[0m\u001b[0;34m[\u001b[0m\u001b[0;34m:\u001b[0m\u001b[0;34m,\u001b[0m\u001b[0;36m0\u001b[0m\u001b[0;34m]\u001b[0m\u001b[0;34m)\u001b[0m\u001b[0;34m\u001b[0m\u001b[0;34m\u001b[0m\u001b[0m\n\u001b[0m",
      "\u001b[0;31mValueError\u001b[0m: matmul: Input operand 1 has a mismatch in its core dimension 0, with gufunc signature (n?,k),(k,m?)->(n?,m?) (size 468 is different from 469)"
     ]
    }
   ],
   "source": [
    "np.array(_df.iloc[:,1]) @ np.outer(Ψ[:,0], Ψ[:,0])"
   ]
  },
  {
   "cell_type": "code",
   "execution_count": 139,
   "id": "1097d2bc-bedb-4284-8145-9be0faf65fdb",
   "metadata": {},
   "outputs": [
    {
     "ename": "ValueError",
     "evalue": "matmul: Input operand 1 has a mismatch in its core dimension 0, with gufunc signature (n?,k),(k,m?)->(n?,m?) (size 468 is different from 469)",
     "output_type": "error",
     "traceback": [
      "\u001b[0;31m---------------------------------------------------------------------------\u001b[0m",
      "\u001b[0;31mValueError\u001b[0m                                Traceback (most recent call last)",
      "\u001b[0;32m/tmp/ipykernel_109438/1694423173.py\u001b[0m in \u001b[0;36m<module>\u001b[0;34m\u001b[0m\n\u001b[1;32m      3\u001b[0m \u001b[0;32mfor\u001b[0m \u001b[0mi\u001b[0m \u001b[0;32min\u001b[0m \u001b[0mrange\u001b[0m\u001b[0;34m(\u001b[0m\u001b[0;36m5\u001b[0m\u001b[0;34m)\u001b[0m\u001b[0;34m:\u001b[0m\u001b[0;34m\u001b[0m\u001b[0;34m\u001b[0m\u001b[0m\n\u001b[1;32m      4\u001b[0m     \u001b[0;32mfor\u001b[0m \u001b[0mj\u001b[0m \u001b[0;32min\u001b[0m \u001b[0mrange\u001b[0m\u001b[0;34m(\u001b[0m\u001b[0;36m5\u001b[0m\u001b[0;34m)\u001b[0m\u001b[0;34m:\u001b[0m\u001b[0;34m\u001b[0m\u001b[0;34m\u001b[0m\u001b[0m\n\u001b[0;32m----> 5\u001b[0;31m         \u001b[0max\u001b[0m\u001b[0;34m[\u001b[0m\u001b[0mi\u001b[0m\u001b[0;34m]\u001b[0m\u001b[0;34m[\u001b[0m\u001b[0mj\u001b[0m\u001b[0;34m]\u001b[0m\u001b[0;34m.\u001b[0m\u001b[0mplot\u001b[0m\u001b[0;34m(\u001b[0m\u001b[0mnp\u001b[0m\u001b[0;34m.\u001b[0m\u001b[0marray\u001b[0m\u001b[0;34m(\u001b[0m\u001b[0m_df\u001b[0m\u001b[0;34m.\u001b[0m\u001b[0miloc\u001b[0m\u001b[0;34m[\u001b[0m\u001b[0;34m:\u001b[0m\u001b[0;34m,\u001b[0m\u001b[0;36m1\u001b[0m\u001b[0;34m]\u001b[0m\u001b[0;34m)\u001b[0m \u001b[0;34m@\u001b[0m \u001b[0mnp\u001b[0m\u001b[0;34m.\u001b[0m\u001b[0mouter\u001b[0m\u001b[0;34m(\u001b[0m\u001b[0mΨ\u001b[0m\u001b[0;34m[\u001b[0m\u001b[0;34m:\u001b[0m\u001b[0;34m,\u001b[0m\u001b[0mk\u001b[0m\u001b[0;34m]\u001b[0m\u001b[0;34m,\u001b[0m \u001b[0mΨ\u001b[0m\u001b[0;34m[\u001b[0m\u001b[0;34m:\u001b[0m\u001b[0;34m,\u001b[0m\u001b[0mk\u001b[0m\u001b[0;34m]\u001b[0m\u001b[0;34m)\u001b[0m\u001b[0;34m)\u001b[0m\u001b[0;34m\u001b[0m\u001b[0;34m\u001b[0m\u001b[0m\n\u001b[0m\u001b[1;32m      6\u001b[0m         \u001b[0max\u001b[0m\u001b[0;34m[\u001b[0m\u001b[0mi\u001b[0m\u001b[0;34m]\u001b[0m\u001b[0;34m[\u001b[0m\u001b[0mj\u001b[0m\u001b[0;34m]\u001b[0m\u001b[0;34m.\u001b[0m\u001b[0mset_ylim\u001b[0m\u001b[0;34m(\u001b[0m\u001b[0;34m[\u001b[0m\u001b[0;34m-\u001b[0m\u001b[0;36m2\u001b[0m\u001b[0;34m,\u001b[0m\u001b[0;36m7\u001b[0m\u001b[0;34m]\u001b[0m\u001b[0;34m)\u001b[0m\u001b[0;34m\u001b[0m\u001b[0;34m\u001b[0m\u001b[0m\n\u001b[1;32m      7\u001b[0m         \u001b[0max\u001b[0m\u001b[0;34m[\u001b[0m\u001b[0mi\u001b[0m\u001b[0;34m]\u001b[0m\u001b[0;34m[\u001b[0m\u001b[0mj\u001b[0m\u001b[0;34m]\u001b[0m\u001b[0;34m.\u001b[0m\u001b[0mset_title\u001b[0m\u001b[0;34m(\u001b[0m\u001b[0mk\u001b[0m\u001b[0;34m)\u001b[0m\u001b[0;34m\u001b[0m\u001b[0;34m\u001b[0m\u001b[0m\n",
      "\u001b[0;31mValueError\u001b[0m: matmul: Input operand 1 has a mismatch in its core dimension 0, with gufunc signature (n?,k),(k,m?)->(n?,m?) (size 468 is different from 469)"
     ]
    },
    {
     "data": {
      "image/png": "[encoded data removed]",
      "text/plain": [
       "<Figure size 432x288 with 25 Axes>"
      ]
     },
     "metadata": {
      "needs_background": "light"
     },
     "output_type": "display_data"
    }
   ],
   "source": [
    "fig,ax =plt.subplots(5,5)\n",
    "k=0\n",
    "for i in range(5):\n",
    "    for j in range(5):\n",
    "        ax[i][j].plot(np.array(_df.iloc[:,1]) @ np.outer(Ψ[:,k], Ψ[:,k]))\n",
    "        ax[i][j].set_ylim([-2,7])\n",
    "        ax[i][j].set_title(k)\n",
    "        k=k+1\n",
    "fig.set_figwidth(16)            \n",
    "fig.set_figheight(16)\n",
    "fig.tight_layout()        "
   ]
  },
  {
   "cell_type": "code",
   "execution_count": null,
   "id": "6216421c-67d7-4c31-8f3c-942e7c303768",
   "metadata": {},
   "outputs": [],
   "source": []
  }
 ],
 "metadata": {
  "kernelspec": {
   "display_name": "Python 3 (ipykernel)",
   "language": "python",
   "name": "python3"
  },
  "language_info": {
   "codemirror_mode": {
    "name": "ipython",
    "version": 3
   },
   "file_extension": ".py",
   "mimetype": "text/x-python",
   "name": "python",
   "nbconvert_exporter": "python",
   "pygments_lexer": "ipython3",
   "version": "3.8.12"
  }
 },
 "nbformat": 4,
 "nbformat_minor": 5
}
