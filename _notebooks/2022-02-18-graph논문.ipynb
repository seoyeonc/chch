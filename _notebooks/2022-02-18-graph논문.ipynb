{
 "cells": [
  {
   "cell_type": "markdown",
   "id": "035edfb3-03a5-4973-b721-5c796f179bac",
   "metadata": {
    "id": "cac470df-29e7-4148-9bbd-d8b9a32fa570",
    "tags": []
   },
   "source": [
    "# Earth quake\n",
    "> graph laplacian\n",
    "\n",
    "- toc:true\n",
    "- branch: master\n",
    "- badges: true\n",
    "- comments: false\n",
    "- author: 최서연\n",
    "- categories: [Graph Laplacian, PCA]"
   ]
  },
  {
   "cell_type": "code",
   "execution_count": 16,
   "id": "f4cbc022-5d75-4201-9427-46a79ed76844",
   "metadata": {},
   "outputs": [],
   "source": [
    "import numpy as np\n",
    "import pandas as pd"
   ]
  },
  {
   "cell_type": "code",
   "execution_count": 3,
   "id": "7615901c-2423-4d3d-aec2-0d1e2c2861c2",
   "metadata": {
    "id": "98831339-6197-4662-beee-24c51eb3ada2",
    "outputId": "6a60b479-e363-4a9a-d3ee-a2ca5d4d9349"
   },
   "outputs": [
    {
     "data": {
      "text/html": [
       "<div>\n",
       "<style scoped>\n",
       "    .dataframe tbody tr th:only-of-type {\n",
       "        vertical-align: middle;\n",
       "    }\n",
       "\n",
       "    .dataframe tbody tr th {\n",
       "        vertical-align: top;\n",
       "    }\n",
       "\n",
       "    .dataframe thead th {\n",
       "        text-align: right;\n",
       "    }\n",
       "</style>\n",
       "<table border=\"1\" class=\"dataframe\">\n",
       "  <thead>\n",
       "    <tr style=\"text-align: right;\">\n",
       "      <th></th>\n",
       "      <th>Date</th>\n",
       "      <th>Latitude</th>\n",
       "      <th>Longitude</th>\n",
       "      <th>Magnitude</th>\n",
       "    </tr>\n",
       "  </thead>\n",
       "  <tbody>\n",
       "    <tr>\n",
       "      <th>0</th>\n",
       "      <td>01/02/1965</td>\n",
       "      <td>19.2460</td>\n",
       "      <td>145.6160</td>\n",
       "      <td>6.0</td>\n",
       "    </tr>\n",
       "    <tr>\n",
       "      <th>1</th>\n",
       "      <td>01/04/1965</td>\n",
       "      <td>1.8630</td>\n",
       "      <td>127.3520</td>\n",
       "      <td>5.8</td>\n",
       "    </tr>\n",
       "    <tr>\n",
       "      <th>2</th>\n",
       "      <td>01/05/1965</td>\n",
       "      <td>-20.5790</td>\n",
       "      <td>-173.9720</td>\n",
       "      <td>6.2</td>\n",
       "    </tr>\n",
       "    <tr>\n",
       "      <th>3</th>\n",
       "      <td>01/08/1965</td>\n",
       "      <td>-59.0760</td>\n",
       "      <td>-23.5570</td>\n",
       "      <td>5.8</td>\n",
       "    </tr>\n",
       "    <tr>\n",
       "      <th>4</th>\n",
       "      <td>01/09/1965</td>\n",
       "      <td>11.9380</td>\n",
       "      <td>126.4270</td>\n",
       "      <td>5.8</td>\n",
       "    </tr>\n",
       "    <tr>\n",
       "      <th>...</th>\n",
       "      <td>...</td>\n",
       "      <td>...</td>\n",
       "      <td>...</td>\n",
       "      <td>...</td>\n",
       "    </tr>\n",
       "    <tr>\n",
       "      <th>23407</th>\n",
       "      <td>12/28/2016</td>\n",
       "      <td>38.3917</td>\n",
       "      <td>-118.8941</td>\n",
       "      <td>5.6</td>\n",
       "    </tr>\n",
       "    <tr>\n",
       "      <th>23408</th>\n",
       "      <td>12/28/2016</td>\n",
       "      <td>38.3777</td>\n",
       "      <td>-118.8957</td>\n",
       "      <td>5.5</td>\n",
       "    </tr>\n",
       "    <tr>\n",
       "      <th>23409</th>\n",
       "      <td>12/28/2016</td>\n",
       "      <td>36.9179</td>\n",
       "      <td>140.4262</td>\n",
       "      <td>5.9</td>\n",
       "    </tr>\n",
       "    <tr>\n",
       "      <th>23410</th>\n",
       "      <td>12/29/2016</td>\n",
       "      <td>-9.0283</td>\n",
       "      <td>118.6639</td>\n",
       "      <td>6.3</td>\n",
       "    </tr>\n",
       "    <tr>\n",
       "      <th>23411</th>\n",
       "      <td>12/30/2016</td>\n",
       "      <td>37.3973</td>\n",
       "      <td>141.4103</td>\n",
       "      <td>5.5</td>\n",
       "    </tr>\n",
       "  </tbody>\n",
       "</table>\n",
       "<p>23412 rows × 4 columns</p>\n",
       "</div>"
      ],
      "text/plain": [
       "             Date  Latitude  Longitude  Magnitude\n",
       "0      01/02/1965   19.2460   145.6160        6.0\n",
       "1      01/04/1965    1.8630   127.3520        5.8\n",
       "2      01/05/1965  -20.5790  -173.9720        6.2\n",
       "3      01/08/1965  -59.0760   -23.5570        5.8\n",
       "4      01/09/1965   11.9380   126.4270        5.8\n",
       "...           ...       ...        ...        ...\n",
       "23407  12/28/2016   38.3917  -118.8941        5.6\n",
       "23408  12/28/2016   38.3777  -118.8957        5.5\n",
       "23409  12/28/2016   36.9179   140.4262        5.9\n",
       "23410  12/29/2016   -9.0283   118.6639        6.3\n",
       "23411  12/30/2016   37.3973   141.4103        5.5\n",
       "\n",
       "[23412 rows x 4 columns]"
      ]
     },
     "execution_count": 3,
     "metadata": {},
     "output_type": "execute_result"
    }
   ],
   "source": [
    "df=pd.read_csv('https://raw.githubusercontent.com/plotly/datasets/master/earthquakes-23k.csv')\n",
    "df"
   ]
  },
  {
   "cell_type": "code",
   "execution_count": 4,
   "id": "6c80c67f-3319-44aa-8342-60b1a76b9833",
   "metadata": {
    "id": "c048a717-4701-4098-8d21-792c86fc8cc1"
   },
   "outputs": [],
   "source": [
    "# df.assign 임시 데이터 만들어줘서 원래 데이터 안 건들이게\n",
    "lst=[df.assign(Year=list(map(lambda x: x.split('/')[-1], df.Date))).\\\n",
    "groupby('Year').\\\n",
    "pipe(list)[i][1].iloc[:,[1,2,3]].\\\n",
    "to_numpy().tolist() for i in range(2017-1965)]"
   ]
  },
  {
   "cell_type": "markdown",
   "id": "78388216-2e95-4968-a655-4ed1ee2f761c",
   "metadata": {},
   "source": [
    "pipe는 튜플로 묶여 있어서 [][] 해줘야 데이터프레임으로 나오지\n",
    "\n",
    "한 번에 list로 안 되어서 numpy 해준 후 list"
   ]
  },
  {
   "cell_type": "markdown",
   "id": "d054f47d-56d7-4de4-84c5-e99e60b99a32",
   "metadata": {
    "id": "eaba08ae-1d96-455b-bbe7-aeacc78d1f29"
   },
   "source": [
    "`-` 숙제: "
   ]
  },
  {
   "cell_type": "markdown",
   "id": "fbdc9523-bc0a-4732-abdf-c98d8f8c9ca5",
   "metadata": {
    "id": "ae8daa62-750a-4a4c-b482-7fb12607e2ea"
   },
   "source": [
    "지진자료에서 1985년 이후의 자료만 고른뒤에 HeatMapWithTime()을 이용하여 시각화하라."
   ]
  },
  {
   "cell_type": "code",
   "execution_count": 9,
   "id": "bf46d257-bc86-4423-8734-54c616f3755e",
   "metadata": {},
   "outputs": [],
   "source": [
    "lst2=[df.assign(Year=list(map(lambda x: x.split('/')[-1], df.Date))).query('Year>=\"1985\"').\\\n",
    "groupby('Year').\\\n",
    "pipe(list)[i][1].iloc[:,[1,2,3]].\\\n",
    "to_numpy().tolist() for i in range(2016-1985)]"
   ]
  },
  {
   "cell_type": "markdown",
   "id": "9f84321f-996f-46c3-aa6f-70707590ca42",
   "metadata": {},
   "source": [
    "- t = Year\n",
    "- x = Latitude\n",
    "- y = Longitude\n",
    "- f = Magnitude"
   ]
  },
  {
   "cell_type": "code",
   "execution_count": 24,
   "id": "0910e5ea-6e0e-49d2-893b-fc04a47df73c",
   "metadata": {},
   "outputs": [
    {
     "data": {
      "text/html": [
       "<div>\n",
       "<style scoped>\n",
       "    .dataframe tbody tr th:only-of-type {\n",
       "        vertical-align: middle;\n",
       "    }\n",
       "\n",
       "    .dataframe tbody tr th {\n",
       "        vertical-align: top;\n",
       "    }\n",
       "\n",
       "    .dataframe thead th {\n",
       "        text-align: right;\n",
       "    }\n",
       "</style>\n",
       "<table border=\"1\" class=\"dataframe\">\n",
       "  <thead>\n",
       "    <tr style=\"text-align: right;\">\n",
       "      <th></th>\n",
       "      <th>Latitude</th>\n",
       "      <th>Longitude</th>\n",
       "      <th>Magnitude</th>\n",
       "      <th>Year</th>\n",
       "    </tr>\n",
       "  </thead>\n",
       "  <tbody>\n",
       "    <tr>\n",
       "      <th>0</th>\n",
       "      <td>12.4240</td>\n",
       "      <td>141.9490</td>\n",
       "      <td>6.1</td>\n",
       "      <td>2010</td>\n",
       "    </tr>\n",
       "    <tr>\n",
       "      <th>1</th>\n",
       "      <td>-5.2970</td>\n",
       "      <td>145.8590</td>\n",
       "      <td>5.8</td>\n",
       "      <td>2010</td>\n",
       "    </tr>\n",
       "    <tr>\n",
       "      <th>2</th>\n",
       "      <td>-8.8020</td>\n",
       "      <td>-77.7180</td>\n",
       "      <td>5.7</td>\n",
       "      <td>2010</td>\n",
       "    </tr>\n",
       "    <tr>\n",
       "      <th>3</th>\n",
       "      <td>-8.7260</td>\n",
       "      <td>157.4870</td>\n",
       "      <td>6.6</td>\n",
       "      <td>2010</td>\n",
       "    </tr>\n",
       "    <tr>\n",
       "      <th>4</th>\n",
       "      <td>-8.7830</td>\n",
       "      <td>157.3540</td>\n",
       "      <td>7.1</td>\n",
       "      <td>2010</td>\n",
       "    </tr>\n",
       "    <tr>\n",
       "      <th>...</th>\n",
       "      <td>...</td>\n",
       "      <td>...</td>\n",
       "      <td>...</td>\n",
       "      <td>...</td>\n",
       "    </tr>\n",
       "    <tr>\n",
       "      <th>3569</th>\n",
       "      <td>38.3917</td>\n",
       "      <td>-118.8941</td>\n",
       "      <td>5.6</td>\n",
       "      <td>2016</td>\n",
       "    </tr>\n",
       "    <tr>\n",
       "      <th>3570</th>\n",
       "      <td>38.3777</td>\n",
       "      <td>-118.8957</td>\n",
       "      <td>5.5</td>\n",
       "      <td>2016</td>\n",
       "    </tr>\n",
       "    <tr>\n",
       "      <th>3571</th>\n",
       "      <td>36.9179</td>\n",
       "      <td>140.4262</td>\n",
       "      <td>5.9</td>\n",
       "      <td>2016</td>\n",
       "    </tr>\n",
       "    <tr>\n",
       "      <th>3572</th>\n",
       "      <td>-9.0283</td>\n",
       "      <td>118.6639</td>\n",
       "      <td>6.3</td>\n",
       "      <td>2016</td>\n",
       "    </tr>\n",
       "    <tr>\n",
       "      <th>3573</th>\n",
       "      <td>37.3973</td>\n",
       "      <td>141.4103</td>\n",
       "      <td>5.5</td>\n",
       "      <td>2016</td>\n",
       "    </tr>\n",
       "  </tbody>\n",
       "</table>\n",
       "<p>3574 rows × 4 columns</p>\n",
       "</div>"
      ],
      "text/plain": [
       "      Latitude  Longitude  Magnitude  Year\n",
       "0      12.4240   141.9490        6.1  2010\n",
       "1      -5.2970   145.8590        5.8  2010\n",
       "2      -8.8020   -77.7180        5.7  2010\n",
       "3      -8.7260   157.4870        6.6  2010\n",
       "4      -8.7830   157.3540        7.1  2010\n",
       "...        ...        ...        ...   ...\n",
       "3569   38.3917  -118.8941        5.6  2016\n",
       "3570   38.3777  -118.8957        5.5  2016\n",
       "3571   36.9179   140.4262        5.9  2016\n",
       "3572   -9.0283   118.6639        6.3  2016\n",
       "3573   37.3973   141.4103        5.5  2016\n",
       "\n",
       "[3574 rows x 4 columns]"
      ]
     },
     "execution_count": 24,
     "metadata": {},
     "output_type": "execute_result"
    }
   ],
   "source": [
    "_df = df.assign(Year=list(map(lambda x: x.split('/')[-1], df.Date))).query('Year>=\"2010\"').reset_index().iloc[:,2:]\n",
    "_df"
   ]
  },
  {
   "cell_type": "code",
   "execution_count": 30,
   "id": "54203de1-8bf6-48cd-b49b-c3d7a9463351",
   "metadata": {},
   "outputs": [
    {
     "data": {
      "text/plain": [
       "3.910000000000025"
      ]
     },
     "execution_count": 30,
     "metadata": {},
     "output_type": "execute_result"
    }
   ],
   "source": [
    "np.abs(_df.Longitude[0]-_df.Longitude[1])"
   ]
  },
  {
   "cell_type": "markdown",
   "id": "b0f39300-abdf-49dc-a32c-be3b6c2f1bf7",
   "metadata": {},
   "source": [
    "$$dist(i,i+1)$$"
   ]
  },
  {
   "cell_type": "code",
   "execution_count": 74,
   "id": "6ca6bf2b-4a4b-4d29-a28d-ea183a37fc3c",
   "metadata": {},
   "outputs": [],
   "source": [
    "def dist(i):\n",
    "    return np.abs(_df.Longitude[i]-_df.Longitude[i+1])"
   ]
  },
  {
   "cell_type": "code",
   "execution_count": 75,
   "id": "259aa7ca-9185-412e-82a3-dc8dab1a63d2",
   "metadata": {},
   "outputs": [
    {
     "data": {
      "text/plain": [
       "3.910000000000025"
      ]
     },
     "execution_count": 75,
     "metadata": {},
     "output_type": "execute_result"
    }
   ],
   "source": [
    "dist(0)"
   ]
  },
  {
   "cell_type": "code",
   "execution_count": 76,
   "id": "25914b9d-c281-48e1-beff-a06ec9eafa37",
   "metadata": {},
   "outputs": [
    {
     "data": {
      "text/plain": [
       "223.577"
      ]
     },
     "execution_count": 76,
     "metadata": {},
     "output_type": "execute_result"
    }
   ],
   "source": [
    "dist(1)"
   ]
  },
  {
   "cell_type": "markdown",
   "id": "d9deb546-963d-480e-97fe-efc1811cb75c",
   "metadata": {},
   "source": [
    "$$W_{i,j}=\\begin{cases}{exp(-\\frac{[dist(i,j)]^2}{2\\theta^2})} & \\quad \\text{if } dist(i,j) \\leq κ \\\\ 0 & \\quad \\text{otherwise} \\end{cases},   (1)$$"
   ]
  },
  {
   "cell_type": "code",
   "execution_count": 81,
   "id": "d782e51c-3e61-47fa-9abf-0374b4ba02da",
   "metadata": {},
   "outputs": [],
   "source": [
    "def weight(i,theta=1,kappa=100):\n",
    "    return np.exp( -dist(i)**2 / (2*theta**2) ) if dist(i) <= kappa else 0"
   ]
  },
  {
   "cell_type": "code",
   "execution_count": 78,
   "id": "09ae6af5-2d5e-4eba-92e8-b431f60722a9",
   "metadata": {},
   "outputs": [
    {
     "data": {
      "text/plain": [
       "0.00047888503490364315"
      ]
     },
     "execution_count": 78,
     "metadata": {},
     "output_type": "execute_result"
    }
   ],
   "source": [
    "weight(0)"
   ]
  },
  {
   "cell_type": "code",
   "execution_count": 79,
   "id": "a0c6fab0-0f8d-4149-be2a-ffbcf48ee67e",
   "metadata": {},
   "outputs": [
    {
     "data": {
      "text/plain": [
       "0"
      ]
     },
     "execution_count": 79,
     "metadata": {},
     "output_type": "execute_result"
    }
   ],
   "source": [
    "weight(1)"
   ]
  },
  {
   "cell_type": "code",
   "execution_count": 80,
   "id": "0efd154a-4fd0-46ef-8534-8842183a2856",
   "metadata": {},
   "outputs": [
    {
     "data": {
      "text/plain": [
       "0.14156447669413225"
      ]
     },
     "execution_count": 80,
     "metadata": {},
     "output_type": "execute_result"
    }
   ],
   "source": [
    "np.exp(-dist(0)*2 / (2*1*2) )"
   ]
  },
  {
   "cell_type": "code",
   "execution_count": null,
   "id": "62046e7b-cc90-47a7-85c5-181445bce417",
   "metadata": {},
   "outputs": [],
   "source": []
  }
 ],
 "metadata": {
  "kernelspec": {
   "display_name": "Python 3 (ipykernel)",
   "language": "python",
   "name": "python3"
  },
  "language_info": {
   "codemirror_mode": {
    "name": "ipython",
    "version": 3
   },
   "file_extension": ".py",
   "mimetype": "text/x-python",
   "name": "python",
   "nbconvert_exporter": "python",
   "pygments_lexer": "ipython3",
   "version": "3.8.12"
  }
 },
 "nbformat": 4,
 "nbformat_minor": 5
}
