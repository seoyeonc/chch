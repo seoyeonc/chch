{
 "cells": [
  {
   "cell_type": "markdown",
   "id": "034a160b-585c-4bbd-8c74-4ef50045a3d9",
   "metadata": {
    "tags": []
   },
   "source": [
    "# 빅데이터 분석 특강 (10주차) 5월9일\n",
    "\n",
    "- toc:true\n",
    "- branch: master\n",
    "- badges: true\n",
    "- comments: false\n",
    "- author: 최서연\n",
    "- categories: [Special Topics in Big Data Analysis]"
   ]
  },
  {
   "cell_type": "markdown",
   "id": "721dfd27-26a9-428c-a6a3-fa601473a0ac",
   "metadata": {},
   "source": [
    "```python\n",
    "conda env list\n",
    "\n",
    "conda remove -n 지우고싶은이름\n",
    "\n",
    "conda activate test\n",
    "(test 환경에 들어간다.)\n",
    "\n",
    "jupyter lab\n",
    "(실행하고 들어가면 사용 가능)\n",
    "\n",
    "conda deactivate 환경 나와\n",
    "\n",
    "conda create -n test \n",
    "(test라는 환경을 만들어 아직 아무것도 없는 상태)\n",
    "\n",
    "conda install -c conda-forge jupyterlab\n",
    "(conda라는 앱스토어에 들어가서 주피터랩 깔아라, 그런데 conda에서 추천하는 버전으로!!)\n",
    "(중간에 뭐 깔꺼냐고 y/n 선택하라고 물어보는 이유, 적절한 건 있는데 이렇게 설치 정말 할건지!, 그니까 원래 있던 버전 지우고 다른 버전깐다고 물어볼수도..)\n",
    "(pip / conda intall 차이점 pip는 최신 패키지만 다운 받음 conda install는 적절한 버전을 다운 받기 가능)\n",
    "\n",
    "conda install -c conda forge rise\n",
    "(주피터 노트북으로 발효자 만들기, 슬라이드 쇼 만들 수 있게!)\n",
    "\n",
    "주피터 노트북에서 view에서 slide show~, 슬라이드쇼 하는 중간에 수정도 가능\n",
    "ㄷ\n",
    "```"
   ]
  },
  {
   "cell_type": "markdown",
   "id": "c4f6e19b-33d5-457d-80e8-dca53a886c8b",
   "metadata": {
    "id": "c4f6e19b-33d5-457d-80e8-dca53a886c8b"
   },
   "source": [
    "### imports"
   ]
  },
  {
   "cell_type": "code",
   "execution_count": 1,
   "id": "0cfeb127-a213-48dd-a815-12298b527b46",
   "metadata": {
    "id": "0cfeb127-a213-48dd-a815-12298b527b46"
   },
   "outputs": [],
   "source": [
    "import tensorflow as tf\n",
    "import matplotlib.pyplot as plt\n",
    "import numpy as np\n",
    "import tensorflow.experimental.numpy as tnp"
   ]
  },
  {
   "cell_type": "code",
   "execution_count": 2,
   "id": "563ebbbc-be73-4d4e-be5e-557d46f512f3",
   "metadata": {
    "id": "563ebbbc-be73-4d4e-be5e-557d46f512f3",
    "outputId": "fa254444-01cf-4e3a-8018-2a55b36c09da"
   },
   "outputs": [
    {
     "data": {
      "text/plain": [
       "[PhysicalDevice(name='/physical_device:CPU:0', device_type='CPU'),\n",
       " PhysicalDevice(name='/physical_device:GPU:0', device_type='GPU')]"
      ]
     },
     "execution_count": 2,
     "metadata": {},
     "output_type": "execute_result"
    }
   ],
   "source": [
    "tf.config.experimental.list_physical_devices()"
   ]
  },
  {
   "cell_type": "code",
   "execution_count": 3,
   "id": "57a9ce84-9d59-4927-90b1-4e0e2f0fc41e",
   "metadata": {
    "id": "57a9ce84-9d59-4927-90b1-4e0e2f0fc41e"
   },
   "outputs": [],
   "source": [
    "import graphviz\n",
    "def gv(s): return graphviz.Source('digraph G{ rankdir=\"LR\"'+ s + ';}')"
   ]
  },
  {
   "cell_type": "markdown",
   "id": "cafc45fe-2917-4925-aa7a-c33cb29753ea",
   "metadata": {
    "id": "cafc45fe-2917-4925-aa7a-c33cb29753ea"
   },
   "source": [
    "### 로지스틱 모형 (1): 활성화함수로 sigmoid 선택"
   ]
  },
  {
   "cell_type": "markdown",
   "id": "a4e403b1-0fc2-428e-abde-daf0630d98fe",
   "metadata": {
    "id": "a4e403b1-0fc2-428e-abde-daf0630d98fe"
   },
   "source": [
    "`-` 기본버전은 아래와 같다 "
   ]
  },
  {
   "cell_type": "markdown",
   "id": "6805f22f-a786-49f4-ae76-99c6022c6571",
   "metadata": {
    "id": "6805f22f-a786-49f4-ae76-99c6022c6571"
   },
   "source": [
    "$$y_i \\approx \\text{sigmoid}(b + w_1 x_{1,i} + \\dots + w_{784}x_{784,i})= \\frac{\\exp(b + w_1 x_{1,i} + \\dots + w_{784}x_{784,i})}{1+\\exp(b + w_1 x_{1,i} + \\dots + w_{784}x_{784,i})}$$"
   ]
  },
  {
   "cell_type": "markdown",
   "id": "3fbab563-c310-4de6-aa6e-6052f7165c51",
   "metadata": {},
   "source": [
    "항상 0보다 클 것이고 분자가 분모보다 작아 1보다 작을 것이다."
   ]
  },
  {
   "cell_type": "markdown",
   "id": "6075e29a-a5b3-4c2d-8b6e-ad9fd63ed96d",
   "metadata": {
    "id": "6075e29a-a5b3-4c2d-8b6e-ad9fd63ed96d"
   },
   "source": [
    "`-` 벡터버전은 아래와 같다. "
   ]
  },
  {
   "cell_type": "markdown",
   "id": "ec929dee-7188-461c-bdaa-b0595510d90d",
   "metadata": {
    "id": "ec929dee-7188-461c-bdaa-b0595510d90d"
   },
   "source": [
    "$${\\boldsymbol y} \\approx \\text{sigmoid}({\\bf X}{\\bf W} + b) = \\frac{\\exp({\\bf XW} +b)}{1+\\exp({\\bf XW} +b)}$$ "
   ]
  },
  {
   "cell_type": "markdown",
   "id": "3f692fa7-3510-4dc7-bdb5-93e9bbc4145b",
   "metadata": {},
   "source": [
    "sigmoid는 broadcasting이 되어야 한다."
   ]
  },
  {
   "cell_type": "markdown",
   "id": "acf45fcc-b7c7-4b9d-9aad-4d5c6a013cfe",
   "metadata": {
    "id": "acf45fcc-b7c7-4b9d-9aad-4d5c6a013cfe"
   },
   "source": [
    "`-` 벡터버전에 익숙해지도록 하자. 벡터버전에 사용된 차원 및 연산을 정리하면 아래와 같다. \n",
    "\n",
    "- ${\\bf X}$: (n,784) matrix \n",
    "\n",
    "- ${\\boldsymbol y}$: (n,1) matrix\n",
    "\n",
    "- ${\\bf W}$: (784,1) matrix\n",
    "\n",
    "- $b$: (1,1) matrix\n",
    "\n",
    "- `+`, `exp` 는 브로드캐스팅"
   ]
  },
  {
   "cell_type": "markdown",
   "id": "ec43450e-46ea-40fa-85f0-81775e63262f",
   "metadata": {
    "id": "ec43450e-46ea-40fa-85f0-81775e63262f"
   },
   "source": [
    "### 로지스틱 모형 (2): 활성화함수로 softmax 선택"
   ]
  },
  {
   "cell_type": "markdown",
   "id": "dffa0a5b-d08a-4c44-806f-bc54800bac83",
   "metadata": {},
   "source": [
    "다차원 확장이 편해진다.\n",
    "\n",
    "0 또는 1로 정하는 이유, 0,1일 확률\n",
    "- class 를 나타낼 때는 이름을 갖는 스트링을 0 또는 1로 치환한 거니까 1,2,3... 순서로 표현하는 건 적절하지 않다."
   ]
  },
  {
   "cell_type": "markdown",
   "id": "8aa3dd75-3bcf-496e-8c67-b3202dfc02ea",
   "metadata": {
    "id": "8aa3dd75-3bcf-496e-8c67-b3202dfc02ea"
   },
   "source": [
    "`-` $y_i=0 \\text{ or } 1$ 대신에 $\\boldsymbol{y}_i=[y_{i1},y_{i2}]= [1,0] \\text { or } [0,1]$와 같이 코딩하면 어떠할까? (즉 원핫인코딩을 한다면?) \n",
    "- n by 2 matrix 가 되겠군!"
   ]
  },
  {
   "cell_type": "markdown",
   "id": "d9ad9856-ed0f-42d6-a65e-133a2823c992",
   "metadata": {
    "id": "d9ad9856-ed0f-42d6-a65e-133a2823c992"
   },
   "source": [
    "`-` 활성화 함수를 취하기 전의 버전은 아래와 같이 볼 수 있다. \n",
    "\n",
    "$$[{\\boldsymbol y}_1 ~ {\\boldsymbol y}_2] \\propto  [ {\\bf X}{\\bf W}_1  ~ {\\bf X}{\\bf W}_2] + [b_1 ~ b_2]= {\\bf X} [{\\bf W}_1 {\\bf W}_2] + [b_1 ~ b_2]= {\\bf X}{\\bf W} + {\\boldsymbol b}$$\n",
    "    \n",
    "여기에서 매트릭스 및 연산의 차원을 정리하면 아래와 같다. \n",
    "\n",
    "- ${\\bf X}$: (n,784) matrix \n",
    "\n",
    "- ${\\boldsymbol y}_1,{\\boldsymbol y}_2$: (n,1) matrix\n",
    "\n",
    "- ${\\boldsymbol y}:=[{\\boldsymbol y}_1~ {\\boldsymbol y}_2]$: (n,2) matrix\n",
    "\n",
    "- ${\\bf W}_1$, ${\\bf W}_2$: (784,1) matrix\n",
    "\n",
    "- ${\\bf W}:=[{\\bf W}_1~ {\\bf W}_2]$: (784,2) matrix\n",
    "\n",
    "- $b_1,b_2$: (1,1) matrix\n",
    "\n",
    "- $\\boldsymbol{b}:= [b_1 ~b_2] $: (1,2) matrix\n",
    "\n",
    "- `+` 는 브로드캐스팅\n",
    "\n"
   ]
  },
  {
   "cell_type": "markdown",
   "id": "b404347b-d3db-48d5-bb88-8dead20c6b3d",
   "metadata": {
    "id": "b404347b-d3db-48d5-bb88-8dead20c6b3d"
   },
   "source": [
    "`-` 즉 로지스틱 모형 (1)의 형태를 겹쳐놓은 형태로 해석할 수 있음. 따라서 ${\\bf X} {\\bf W}_1 + b_1$와 ${\\bf X} {\\bf W}_2 + b_2$의 row값이 클수록 ${\\boldsymbol y}_1$와 ${\\boldsymbol y}_2$의 row값이 1이어야 함 \n",
    "\n",
    "- ${\\boldsymbol y}_1 \\propto  {\\bf X} {\\bf W}_1 + b_1$ $\\to$ ${\\bf X} {\\bf W}_1 + b_1$의 row값이 클수록 $\\boldsymbol{y}_1$의 row 값이 1이라면 모형계수를 잘 추정한것 \n",
    "- ${\\boldsymbol y}_2 \\propto  {\\bf X} {\\bf W}_2 + b_2$ $\\to$ ${\\bf X} {\\bf W}_2 + b_2$의 row값이 클수록 $\\boldsymbol{y}_2$의 row 값을 1이라면 모형계수를 잘 추정한것\n"
   ]
  },
  {
   "cell_type": "markdown",
   "id": "905879bd-2a27-4fb7-bfd6-3acff0347bac",
   "metadata": {
    "id": "905879bd-2a27-4fb7-bfd6-3acff0347bac"
   },
   "source": [
    "`-` (문제) ${\\bf X}{\\bf W}_1 +b_1$의 값이 500, ${\\bf X}{\\bf W}_2 +b_2$의 값이 200 인 row가 있다고 하자. 대응하는 $\\boldsymbol{y}_1, \\boldsymbol{y}_2$의 row값은 얼마로 적합되어야 하는가? \n",
    "\n",
    "(1) $[0,0]$\n",
    "\n",
    "(2) $[0,1]$\n",
    "\n",
    "(3) $[1,0]$ <-- 이게 답이다!\n",
    "\n",
    "(4) $[1,1]$"
   ]
  },
  {
   "cell_type": "markdown",
   "id": "b4ff9437-115b-4e46-908f-c7ccd651e248",
   "metadata": {
    "id": "b4ff9437-115b-4e46-908f-c7ccd651e248"
   },
   "source": [
    "> note: 둘다 0 혹은 둘다 1로 적합할수는 없으니까 (1), (4)는 제외한다. ${\\bf X}{\\bf W}_1 +b_1$의 값이 ${\\bf X}{\\bf W}_2 +b_2$의 값보다 크므로 (3)번이 합리적임 "
   ]
  },
  {
   "cell_type": "markdown",
   "id": "aa67ce2d-88d8-442b-a271-8166ae55ee43",
   "metadata": {
    "id": "aa67ce2d-88d8-442b-a271-8166ae55ee43"
   },
   "source": [
    "`-` **목표:** 위와 같은 문제의 답을 유도해주는 활성화함수를 설계하자. 즉 합리적인 $\\hat{\\boldsymbol{y}}_1,\\hat{\\boldsymbol{y}}_2$를 구해주는 활성화 함수를 설계해보자. 이를 위해서는 아래의 사항들이 충족되어야 한다. \n",
    "\n",
    "(1) $\\hat{\\boldsymbol{y}}_1$, $\\hat{\\boldsymbol{y}}_2$의 각 원소는 0보다 크고 1보다 작아야 한다. (확률을 의미해야 하니까)\n",
    "\n",
    "(2) $\\hat{\\boldsymbol{y}}_1+\\hat{\\boldsymbol{y}}_2={\\bf 1}$ 이어야 한다. (확률의 총합은 1이니까!)\n",
    "\n",
    "(3) $\\hat{\\boldsymbol{y}}_1$와 $\\hat{\\boldsymbol{y}}_2$를 각각 따로해석하면 로지스틱처럼 되면 좋겠다. "
   ]
  },
  {
   "cell_type": "markdown",
   "id": "6d2e46a6-ffb0-47bb-8ea1-16da8dc52f0e",
   "metadata": {
    "id": "6d2e46a6-ffb0-47bb-8ea1-16da8dc52f0e"
   },
   "source": [
    "`-` 아래와 같은 활성화 함수를 도입하면 어떨까? "
   ]
  },
  {
   "cell_type": "markdown",
   "id": "e0aa7138-e594-4fc5-8d53-22981ca554f4",
   "metadata": {
    "id": "e0aa7138-e594-4fc5-8d53-22981ca554f4"
   },
   "source": [
    "$$\\hat{\\boldsymbol{y}}=[\\hat{\\boldsymbol y}_1 ~ \\hat{\\boldsymbol y}_2] =  \\big[ \\frac{\\exp({\\bf X}\\hat{\\bf W}_1+\\hat{b}_1)}{\\exp({\\bf X}\\hat{\\bf W}_1+\\hat{b}_1)+\\exp({\\bf X}\\hat{\\bf W}_2+\\hat{b}_2)}  ~~ \\frac{\\exp({\\bf X}\\hat{\\bf W}_2+\\hat{b}_2)}{\\exp({\\bf X}\\hat{\\bf W}_1+\\hat{b}_1)+\\exp({\\bf X}\\hat{\\bf W}_2+\\hat{b}_2)}  \\big]$$ "
   ]
  },
  {
   "cell_type": "markdown",
   "id": "c0ecd5f0-05c8-4b3c-afab-98d7adac3da6",
   "metadata": {
    "id": "c0ecd5f0-05c8-4b3c-afab-98d7adac3da6"
   },
   "source": [
    "`-` (1),(2)는 만족하는 듯 하다. (3)은 바로 이해되지는 않는다\n",
    "\n",
    "(1) $\\hat{\\boldsymbol{y}}_1$, $\\hat{\\boldsymbol{y}}_2$의 각 원소는 0보다 크고 1보다 작아야 한다. --> OK!\n",
    "\n",
    "(2) $\\hat{\\boldsymbol{y}}_1+\\hat{\\boldsymbol{y}}_2={\\bf 1}$ 이어야 한다. --> OK!\n",
    "\n",
    "(3) $\\hat{\\boldsymbol{y}}_1$와 $\\hat{\\boldsymbol{y}}_2$를 각각 따로해석하면 로지스틱처럼 되면 좋겠다.  --> ??? "
   ]
  },
  {
   "cell_type": "markdown",
   "id": "93264107-6eb5-4c86-b542-91bf8f30085d",
   "metadata": {
    "id": "93264107-6eb5-4c86-b542-91bf8f30085d"
   },
   "source": [
    "`-` 그런데 조금 따져보면 (3)도 만족된다는 것을 알 수 있다. (sigmoid, softmax Section 참고)"
   ]
  },
  {
   "cell_type": "markdown",
   "id": "a3f03f20-54a6-4a25-8e5f-be754a652896",
   "metadata": {
    "id": "a3f03f20-54a6-4a25-8e5f-be754a652896"
   },
   "source": [
    "`-` 위와 같은 함수를 softmax라고 하자. 즉 아래와 같이 정의하자. "
   ]
  },
  {
   "cell_type": "markdown",
   "id": "ca920dd5-b284-4a2d-96ae-c2744a289c47",
   "metadata": {
    "id": "ca920dd5-b284-4a2d-96ae-c2744a289c47"
   },
   "source": [
    "$$\n",
    "\\hat{\\boldsymbol y} = \\text{softmax}({\\bf X}\\hat{\\bf W} + {\\boldsymbol b}) \n",
    "= \\big[ \\frac{\\exp({\\bf X}\\hat{\\bf W}_1+\\hat{b}_1)}{\\exp({\\bf X}\\hat{\\bf W}_1+\\hat{b}_1)+\\exp({\\bf X}\\hat{\\bf W}_2+\\hat{b}_2)}  ~~ \\frac{\\exp({\\bf X}\\hat{\\bf W}_2+\\hat{b}_2)}{\\exp({\\bf X}\\hat{\\bf W}_1+\\hat{b}_1)+\\exp({\\bf X}\\hat{\\bf W}_2+\\hat{b}_2)}  \\big]\n",
    "$$"
   ]
  },
  {
   "cell_type": "markdown",
   "id": "3611bffe-ca5f-434c-9b17-328128138d84",
   "metadata": {
    "id": "3611bffe-ca5f-434c-9b17-328128138d84"
   },
   "source": [
    "### sigmoid, softmax "
   ]
  },
  {
   "cell_type": "markdown",
   "id": "8931ed60-512b-4495-ba87-d00b65e25811",
   "metadata": {
    "id": "8931ed60-512b-4495-ba87-d00b65e25811"
   },
   "source": [
    "#### **softmax는 sigmoid의 확장형**"
   ]
  },
  {
   "cell_type": "markdown",
   "id": "ebae5ffd-25c4-4457-b8f4-b48e49cf4069",
   "metadata": {
    "id": "ebae5ffd-25c4-4457-b8f4-b48e49cf4069"
   },
   "source": [
    "`-` 아래의 수식을 관찰하자. \n",
    "$$\\frac{\\exp(\\beta_0+\\beta_1 x_i)}{1+\\exp(\\beta_0+\\beta_1x_i)}=\\frac{\\exp(\\beta_0+\\beta_1 x_i)}{e^0+\\exp(\\beta_0+\\beta_1x_i)}$$"
   ]
  },
  {
   "cell_type": "markdown",
   "id": "17cf2f4f-eeb1-4c23-836c-dc4c8b026949",
   "metadata": {
    "id": "17cf2f4f-eeb1-4c23-836c-dc4c8b026949"
   },
   "source": [
    "`-` 1을 $e^0$로 해석하면 모형2의 해석을 아래와 같이 모형1의 해석으로 적용할수 있다. \n",
    "- 모형2: ${\\bf X}\\hat{\\bf W}_1 +\\hat{b}_1$ 와 ${\\bf X}\\hat{\\bf W}_2 +\\hat{b}_2$ 의 크기를 비교하고 확률 결정\n",
    "- 모형1: ${\\bf X}\\hat{\\bf W} +\\hat{b}$ 와 $0$의 크기를 비교하고 확률 결정 = ${\\bf X}\\hat{\\bf W} +\\hat{b}$의 row값이 양수이면 1로 예측하고 음수이면 0으로 예측"
   ]
  },
  {
   "cell_type": "markdown",
   "id": "4ddca402-232f-404a-b52d-36a72a9f1d5c",
   "metadata": {
    "id": "4ddca402-232f-404a-b52d-36a72a9f1d5c"
   },
   "source": [
    "`-` 이항분포를 차원이 2인 다항분포로 해석가능한 것처럼 sigmoid는 차원이 2인 softmax로 해석가능하다. 즉 다항분포가 이항분포의 확장형으로 해석가능한 것처럼 softmax도 sigmoid의 확장형으로 해석가능하다. \n",
    "- 클래스 2개면 sigmoid 클래스 3개 이상이면 softmax"
   ]
  },
  {
   "cell_type": "markdown",
   "id": "1c596068-664a-4969-9918-fb146ecb5156",
   "metadata": {
    "id": "1c596068-664a-4969-9918-fb146ecb5156"
   },
   "source": [
    "#### **클래스의 수가 2인 경우 softmax vs sigmoid**"
   ]
  },
  {
   "cell_type": "markdown",
   "id": "c64a8940-e691-45fe-a2be-74a0b6f23425",
   "metadata": {
    "id": "c64a8940-e691-45fe-a2be-74a0b6f23425"
   },
   "source": [
    "`-` 언뜻 생각하면 클래스가 2인 경우에도 sigmoid 대신 softmax로 활성화함수를 이용해도 될 듯 하다. 즉 $y=0 \\text{ or } 1$와 같이 정리하지 않고 $y=[0,1] \\text{ or } [1,0]$ 와 같이 정리해도 무방할 듯 하다. "
   ]
  },
  {
   "cell_type": "markdown",
   "id": "db820ea7-7f7d-419e-beab-1417cb161291",
   "metadata": {
    "id": "db820ea7-7f7d-419e-beab-1417cb161291"
   },
   "source": [
    "`-` 하지만 sigmoid가 좀 더 좋은 선택이다. 즉 $y= 0 \\text{ or } 1$로 데이터를 정리하는 것이 더 좋은 선택이다. 왜냐하면 sigmoid는 softmax와 비교하여 파라메터의 수가 적지만 표현력은 동등하기 때문이다. "
   ]
  },
  {
   "cell_type": "markdown",
   "id": "a827d994-74f1-4c69-8be2-f313659f76cf",
   "metadata": {
    "id": "a827d994-74f1-4c69-8be2-f313659f76cf"
   },
   "source": [
    "`-` 표현력이 동등한 이유? 아래 수식을 관찰하자. "
   ]
  },
  {
   "cell_type": "markdown",
   "id": "3a0dbd3f-e440-457e-b8b9-ae6282ac7764",
   "metadata": {
    "id": "3a0dbd3f-e440-457e-b8b9-ae6282ac7764"
   },
   "source": [
    "$$\\big(\\frac{e^{300}}{e^{300}+e^{500}},\\frac{e^{500}}{e^{300}+e^{500}}\\big) =\\big( \\frac{e^{0}}{e^{0}+e^{200}}, \\frac{e^{200}}{e^{0}+e^{200}}\\big)$$"
   ]
  },
  {
   "cell_type": "markdown",
   "id": "b1aa5951-65c1-4cb3-bd2a-7c15e7228d40",
   "metadata": {
    "id": "b1aa5951-65c1-4cb3-bd2a-7c15e7228d40"
   },
   "source": [
    "- $\\big(\\frac{e^{300}}{e^{300}+e^{500}},\\frac{e^{500}}{e^{300}+e^{500}}\\big)$를 표현하기 위해서 300, 500 이라는 2개의 숫자가 필요한것이 아니고 따지고보면 200이라는 하나의 숫자만 필요하다. \n",
    "- $(\\hat{\\boldsymbol{y}}_1,\\hat{\\boldsymbol{y}}_2)$의 표현에서도 ${\\bf X}\\hat{\\bf W}_1 +\\hat{b}_1$ 와 ${\\bf X}\\hat{\\bf W}_2 +\\hat{b}_2$ 라는 숫자 각각이 필요한 것이 아니고 $({\\bf X}\\hat{\\bf W}_1 +\\hat{b}_1)-({\\bf X}\\hat{\\bf W}_2 +\\hat{b}_2)$의 값만 알면 된다. \n",
    "    - 여기서는 (500-300=200)만 알면 되겠지!"
   ]
  },
  {
   "cell_type": "markdown",
   "id": "0d3172d8-42e4-450c-afb5-f9fc28c282c1",
   "metadata": {
    "id": "0d3172d8-42e4-450c-afb5-f9fc28c282c1"
   },
   "source": [
    "`-` 클래스의 수가 2개일 경우는 softmax가 sigmoid에 비하여 장점이 없다. 하지만 softmax는 클래스의 수가 3개 이상일 경우로 쉽게 확장할 수 있다는 점에서 매력적인 활성화 함수이다. "
   ]
  },
  {
   "cell_type": "markdown",
   "id": "668e0751-2fe9-470e-bfd9-53d347191f1b",
   "metadata": {
    "id": "668e0751-2fe9-470e-bfd9-53d347191f1b"
   },
   "source": [
    "### 분류할 클래스가 3개 이상일 경우 신경망 모형의 설계 "
   ]
  },
  {
   "cell_type": "markdown",
   "id": "de6f3c08-654b-41ad-a40f-8ec120e56a4e",
   "metadata": {},
   "source": [
    "클래스가 10개일때"
   ]
  },
  {
   "cell_type": "markdown",
   "id": "1122196f-607b-4c08-93b0-65aac538f0ae",
   "metadata": {
    "id": "1122196f-607b-4c08-93b0-65aac538f0ae"
   },
   "source": [
    "`-` y의 모양: [0 1 0 0 0 0 0 0 0 0] "
   ]
  },
  {
   "cell_type": "markdown",
   "id": "64cd37df-4b86-4e30-9d69-6623f48b340c",
   "metadata": {
    "id": "64cd37df-4b86-4e30-9d69-6623f48b340c"
   },
   "source": [
    "`-` 활성화함수의 선택: softmax "
   ]
  },
  {
   "cell_type": "markdown",
   "id": "33e82e80-6226-486e-88b0-98479b93ffd9",
   "metadata": {
    "id": "33e82e80-6226-486e-88b0-98479b93ffd9"
   },
   "source": [
    "`-` 손실함수의 선택: cross entropy"
   ]
  },
  {
   "cell_type": "markdown",
   "id": "86da6d25-de2a-4755-b206-d22307e1c9bc",
   "metadata": {
    "id": "86da6d25-de2a-4755-b206-d22307e1c9bc"
   },
   "source": [
    "### Fashion_MNIST 다중분류 "
   ]
  },
  {
   "cell_type": "markdown",
   "id": "b41b2e51-067d-420b-b564-cda58816379b",
   "metadata": {
    "id": "b41b2e51-067d-420b-b564-cda58816379b"
   },
   "source": [
    "`-` 데이터정리 "
   ]
  },
  {
   "cell_type": "markdown",
   "id": "fe801a9f-2cca-44fe-b1b2-b7036cab5680",
   "metadata": {
    "id": "fe801a9f-2cca-44fe-b1b2-b7036cab5680"
   },
   "source": [
    "`-` 시도1: 간단한 신경망"
   ]
  },
  {
   "cell_type": "code",
   "execution_count": null,
   "id": "26b82ff3-e96c-4844-ad72-7aeab389fbd2",
   "metadata": {
    "id": "26b82ff3-e96c-4844-ad72-7aeab389fbd2",
    "outputId": "0d4f2ac1-3835-4b77-b0ef-66c095cde292"
   },
   "outputs": [
    {
     "data": {
      "image/svg+xml": [
       "<?xml version=\"1.0\" encoding=\"UTF-8\" standalone=\"no\"?>\n",
       "<!DOCTYPE svg PUBLIC \"-//W3C//DTD SVG 1.1//EN\"\n",
       " \"http://www.w3.org/Graphics/SVG/1.1/DTD/svg11.dtd\">\n",
       "<!-- Generated by graphviz version 3.0.0 (20220315.2325)\n",
       " -->\n",
       "<!-- Title: G Pages: 1 -->\n",
       "<svg width=\"384pt\" height=\"261pt\"\n",
       " viewBox=\"0.00 0.00 384.18 261.00\" xmlns=\"http://www.w3.org/2000/svg\" xmlns:xlink=\"http://www.w3.org/1999/xlink\">\n",
       "<g id=\"graph0\" class=\"graph\" transform=\"scale(1 1) rotate(0) translate(4 257)\">\n",
       "<title>G</title>\n",
       "<polygon fill=\"white\" stroke=\"transparent\" points=\"-4,4 -4,-257 380.18,-257 380.18,4 -4,4\"/>\n",
       "<g id=\"clust1\" class=\"cluster\">\n",
       "<title>cluster_1</title>\n",
       "<polygon fill=\"lightgrey\" stroke=\"lightgrey\" points=\"8,-8 8,-245 91.59,-245 91.59,-8 8,-8\"/>\n",
       "<text text-anchor=\"middle\" x=\"49.8\" y=\"-229.8\" font-family=\"Times,serif\" font-size=\"14.00\">Layer 0</text>\n",
       "</g>\n",
       "<g id=\"clust2\" class=\"cluster\">\n",
       "<title>cluster_2</title>\n",
       "<polygon fill=\"lightgrey\" stroke=\"lightgrey\" points=\"111.59,-8 111.59,-245 219.29,-245 219.29,-8 111.59,-8\"/>\n",
       "<text text-anchor=\"middle\" x=\"165.44\" y=\"-229.8\" font-family=\"Times,serif\" font-size=\"14.00\">Layer 1: relu</text>\n",
       "</g>\n",
       "<g id=\"clust3\" class=\"cluster\">\n",
       "<title>cluster_3</title>\n",
       "<polygon fill=\"lightgrey\" stroke=\"lightgrey\" points=\"239.29,-35 239.29,-218 376.18,-218 376.18,-35 239.29,-35\"/>\n",
       "<text text-anchor=\"middle\" x=\"307.73\" y=\"-202.8\" font-family=\"Times,serif\" font-size=\"14.00\">Layer 2: softmax</text>\n",
       "</g>\n",
       "<!-- x1 -->\n",
       "<g id=\"node1\" class=\"node\">\n",
       "<title>x1</title>\n",
       "<ellipse fill=\"none\" stroke=\"black\" cx=\"49.8\" cy=\"-196\" rx=\"27\" ry=\"18\"/>\n",
       "<text text-anchor=\"middle\" x=\"49.8\" y=\"-192.3\" font-family=\"Times,serif\" font-size=\"14.00\">x1</text>\n",
       "</g>\n",
       "<!-- node1 -->\n",
       "<g id=\"node5\" class=\"node\">\n",
       "<title>node1</title>\n",
       "<ellipse fill=\"none\" stroke=\"black\" cx=\"165.44\" cy=\"-196\" rx=\"38.99\" ry=\"18\"/>\n",
       "<text text-anchor=\"middle\" x=\"165.44\" y=\"-192.3\" font-family=\"Times,serif\" font-size=\"14.00\">node1</text>\n",
       "</g>\n",
       "<!-- x1&#45;&gt;node1 -->\n",
       "<g id=\"edge1\" class=\"edge\">\n",
       "<title>x1&#45;&gt;node1</title>\n",
       "<path fill=\"none\" stroke=\"black\" d=\"M76.87,-196C88.57,-196 102.75,-196 116.27,-196\"/>\n",
       "<polygon fill=\"black\" stroke=\"black\" points=\"116.42,-199.5 126.42,-196 116.42,-192.5 116.42,-199.5\"/>\n",
       "</g>\n",
       "<!-- node2 -->\n",
       "<g id=\"node6\" class=\"node\">\n",
       "<title>node2</title>\n",
       "<ellipse fill=\"none\" stroke=\"black\" cx=\"165.44\" cy=\"-142\" rx=\"38.99\" ry=\"18\"/>\n",
       "<text text-anchor=\"middle\" x=\"165.44\" y=\"-138.3\" font-family=\"Times,serif\" font-size=\"14.00\">node2</text>\n",
       "</g>\n",
       "<!-- x1&#45;&gt;node2 -->\n",
       "<g id=\"edge5\" class=\"edge\">\n",
       "<title>x1&#45;&gt;node2</title>\n",
       "<path fill=\"none\" stroke=\"black\" d=\"M72.17,-185.84C88.01,-178.32 109.97,-167.88 128.5,-159.08\"/>\n",
       "<polygon fill=\"black\" stroke=\"black\" points=\"130.01,-162.23 137.54,-154.78 127.01,-155.91 130.01,-162.23\"/>\n",
       "</g>\n",
       "<!-- ... -->\n",
       "<g id=\"node7\" class=\"node\">\n",
       "<title>...</title>\n",
       "<ellipse fill=\"none\" stroke=\"black\" cx=\"165.44\" cy=\"-88\" rx=\"27\" ry=\"18\"/>\n",
       "<text text-anchor=\"middle\" x=\"165.44\" y=\"-84.3\" font-family=\"Times,serif\" font-size=\"14.00\">...</text>\n",
       "</g>\n",
       "<!-- x1&#45;&gt;... -->\n",
       "<g id=\"edge9\" class=\"edge\">\n",
       "<title>x1&#45;&gt;...</title>\n",
       "<path fill=\"none\" stroke=\"black\" d=\"M66.12,-181.43C85.53,-163 119.12,-131.07 141.56,-109.74\"/>\n",
       "<polygon fill=\"black\" stroke=\"black\" points=\"144.16,-112.11 148.99,-102.68 139.33,-107.03 144.16,-112.11\"/>\n",
       "</g>\n",
       "<!-- node30 -->\n",
       "<g id=\"node8\" class=\"node\">\n",
       "<title>node30</title>\n",
       "<ellipse fill=\"none\" stroke=\"black\" cx=\"165.44\" cy=\"-34\" rx=\"44.69\" ry=\"18\"/>\n",
       "<text text-anchor=\"middle\" x=\"165.44\" y=\"-30.3\" font-family=\"Times,serif\" font-size=\"14.00\">node30</text>\n",
       "</g>\n",
       "<!-- x1&#45;&gt;node30 -->\n",
       "<g id=\"edge13\" class=\"edge\">\n",
       "<title>x1&#45;&gt;node30</title>\n",
       "<path fill=\"none\" stroke=\"black\" d=\"M62.11,-179.87C81.8,-151.81 122.52,-93.76 146.23,-59.97\"/>\n",
       "<polygon fill=\"black\" stroke=\"black\" points=\"149.27,-61.72 152.15,-51.52 143.54,-57.7 149.27,-61.72\"/>\n",
       "</g>\n",
       "<!-- x2 -->\n",
       "<g id=\"node2\" class=\"node\">\n",
       "<title>x2</title>\n",
       "<ellipse fill=\"none\" stroke=\"black\" cx=\"49.8\" cy=\"-142\" rx=\"27\" ry=\"18\"/>\n",
       "<text text-anchor=\"middle\" x=\"49.8\" y=\"-138.3\" font-family=\"Times,serif\" font-size=\"14.00\">x2</text>\n",
       "</g>\n",
       "<!-- x2&#45;&gt;node1 -->\n",
       "<g id=\"edge2\" class=\"edge\">\n",
       "<title>x2&#45;&gt;node1</title>\n",
       "<path fill=\"none\" stroke=\"black\" d=\"M72.17,-152.16C88.01,-159.68 109.97,-170.12 128.5,-178.92\"/>\n",
       "<polygon fill=\"black\" stroke=\"black\" points=\"127.01,-182.09 137.54,-183.22 130.01,-175.77 127.01,-182.09\"/>\n",
       "</g>\n",
       "<!-- x2&#45;&gt;node2 -->\n",
       "<g id=\"edge6\" class=\"edge\">\n",
       "<title>x2&#45;&gt;node2</title>\n",
       "<path fill=\"none\" stroke=\"black\" d=\"M76.87,-142C88.57,-142 102.75,-142 116.27,-142\"/>\n",
       "<polygon fill=\"black\" stroke=\"black\" points=\"116.42,-145.5 126.42,-142 116.42,-138.5 116.42,-145.5\"/>\n",
       "</g>\n",
       "<!-- x2&#45;&gt;... -->\n",
       "<g id=\"edge10\" class=\"edge\">\n",
       "<title>x2&#45;&gt;...</title>\n",
       "<path fill=\"none\" stroke=\"black\" d=\"M72.17,-131.84C89.52,-123.6 114.21,-111.87 133.69,-102.61\"/>\n",
       "<polygon fill=\"black\" stroke=\"black\" points=\"135.24,-105.75 142.77,-98.3 132.24,-99.43 135.24,-105.75\"/>\n",
       "</g>\n",
       "<!-- x2&#45;&gt;node30 -->\n",
       "<g id=\"edge14\" class=\"edge\">\n",
       "<title>x2&#45;&gt;node30</title>\n",
       "<path fill=\"none\" stroke=\"black\" d=\"M66.12,-127.43C84.98,-109.51 117.25,-78.84 139.66,-57.55\"/>\n",
       "<polygon fill=\"black\" stroke=\"black\" points=\"142.29,-59.88 147.13,-50.45 137.47,-54.8 142.29,-59.88\"/>\n",
       "</g>\n",
       "<!-- .. -->\n",
       "<g id=\"node3\" class=\"node\">\n",
       "<title>..</title>\n",
       "<ellipse fill=\"none\" stroke=\"black\" cx=\"49.8\" cy=\"-88\" rx=\"27\" ry=\"18\"/>\n",
       "<text text-anchor=\"middle\" x=\"49.8\" y=\"-84.3\" font-family=\"Times,serif\" font-size=\"14.00\">..</text>\n",
       "</g>\n",
       "<!-- ..&#45;&gt;node1 -->\n",
       "<g id=\"edge3\" class=\"edge\">\n",
       "<title>..&#45;&gt;node1</title>\n",
       "<path fill=\"none\" stroke=\"black\" d=\"M66.12,-102.57C85.09,-120.59 117.63,-151.51 140.04,-172.81\"/>\n",
       "<polygon fill=\"black\" stroke=\"black\" points=\"137.85,-175.56 147.51,-179.91 142.67,-170.48 137.85,-175.56\"/>\n",
       "</g>\n",
       "<!-- ..&#45;&gt;node2 -->\n",
       "<g id=\"edge7\" class=\"edge\">\n",
       "<title>..&#45;&gt;node2</title>\n",
       "<path fill=\"none\" stroke=\"black\" d=\"M72.17,-98.16C88.01,-105.68 109.97,-116.12 128.5,-124.92\"/>\n",
       "<polygon fill=\"black\" stroke=\"black\" points=\"127.01,-128.09 137.54,-129.22 130.01,-121.77 127.01,-128.09\"/>\n",
       "</g>\n",
       "<!-- ..&#45;&gt;... -->\n",
       "<g id=\"edge11\" class=\"edge\">\n",
       "<title>..&#45;&gt;...</title>\n",
       "<path fill=\"none\" stroke=\"black\" d=\"M76.87,-88C91.92,-88 111.09,-88 127.66,-88\"/>\n",
       "<polygon fill=\"black\" stroke=\"black\" points=\"128.1,-91.5 138.1,-88 128.1,-84.5 128.1,-91.5\"/>\n",
       "</g>\n",
       "<!-- ..&#45;&gt;node30 -->\n",
       "<g id=\"edge15\" class=\"edge\">\n",
       "<title>..&#45;&gt;node30</title>\n",
       "<path fill=\"none\" stroke=\"black\" d=\"M72.17,-77.84C87.5,-70.56 108.57,-60.55 126.7,-51.93\"/>\n",
       "<polygon fill=\"black\" stroke=\"black\" points=\"128.33,-55.03 135.86,-47.58 125.33,-48.71 128.33,-55.03\"/>\n",
       "</g>\n",
       "<!-- x784 -->\n",
       "<g id=\"node4\" class=\"node\">\n",
       "<title>x784</title>\n",
       "<ellipse fill=\"none\" stroke=\"black\" cx=\"49.8\" cy=\"-34\" rx=\"33.6\" ry=\"18\"/>\n",
       "<text text-anchor=\"middle\" x=\"49.8\" y=\"-30.3\" font-family=\"Times,serif\" font-size=\"14.00\">x784</text>\n",
       "</g>\n",
       "<!-- x784&#45;&gt;node1 -->\n",
       "<g id=\"edge4\" class=\"edge\">\n",
       "<title>x784&#45;&gt;node1</title>\n",
       "<path fill=\"none\" stroke=\"black\" d=\"M62.53,-50.73C82.42,-79.07 122.87,-136.74 146.38,-170.26\"/>\n",
       "<polygon fill=\"black\" stroke=\"black\" points=\"143.65,-172.46 152.26,-178.63 149.38,-168.44 143.65,-172.46\"/>\n",
       "</g>\n",
       "<!-- x784&#45;&gt;node2 -->\n",
       "<g id=\"edge8\" class=\"edge\">\n",
       "<title>x784&#45;&gt;node2</title>\n",
       "<path fill=\"none\" stroke=\"black\" d=\"M67.08,-49.47C86.18,-67.63 118.05,-97.91 140.09,-118.86\"/>\n",
       "<polygon fill=\"black\" stroke=\"black\" points=\"137.79,-121.5 147.45,-125.85 142.61,-116.42 137.79,-121.5\"/>\n",
       "</g>\n",
       "<!-- x784&#45;&gt;... -->\n",
       "<g id=\"edge12\" class=\"edge\">\n",
       "<title>x784&#45;&gt;...</title>\n",
       "<path fill=\"none\" stroke=\"black\" d=\"M75.46,-45.72C92.58,-53.85 115.51,-64.75 133.8,-73.44\"/>\n",
       "<polygon fill=\"black\" stroke=\"black\" points=\"132.36,-76.63 142.89,-77.76 135.36,-70.31 132.36,-76.63\"/>\n",
       "</g>\n",
       "<!-- x784&#45;&gt;node30 -->\n",
       "<g id=\"edge16\" class=\"edge\">\n",
       "<title>x784&#45;&gt;node30</title>\n",
       "<path fill=\"none\" stroke=\"black\" d=\"M83.67,-34C91.95,-34 101.07,-34 110.11,-34\"/>\n",
       "<polygon fill=\"black\" stroke=\"black\" points=\"110.23,-37.5 120.23,-34 110.23,-30.5 110.23,-37.5\"/>\n",
       "</g>\n",
       "<!-- y10 -->\n",
       "<g id=\"node9\" class=\"node\">\n",
       "<title>y10</title>\n",
       "<ellipse fill=\"none\" stroke=\"black\" cx=\"307.23\" cy=\"-61\" rx=\"27.9\" ry=\"18\"/>\n",
       "<text text-anchor=\"middle\" x=\"307.23\" y=\"-57.3\" font-family=\"Times,serif\" font-size=\"14.00\">y10</text>\n",
       "</g>\n",
       "<!-- node1&#45;&gt;y10 -->\n",
       "<g id=\"edge17\" class=\"edge\">\n",
       "<title>node1&#45;&gt;y10</title>\n",
       "<path fill=\"none\" stroke=\"black\" d=\"M183.3,-179.72C208.39,-155.49 255.6,-109.89 283.65,-82.81\"/>\n",
       "<polygon fill=\"black\" stroke=\"black\" points=\"286.26,-85.16 291.02,-75.69 281.4,-80.12 286.26,-85.16\"/>\n",
       "</g>\n",
       "<!-- y1 -->\n",
       "<g id=\"node10\" class=\"node\">\n",
       "<title>y1</title>\n",
       "<ellipse fill=\"none\" stroke=\"black\" cx=\"307.23\" cy=\"-169\" rx=\"27\" ry=\"18\"/>\n",
       "<text text-anchor=\"middle\" x=\"307.23\" y=\"-165.3\" font-family=\"Times,serif\" font-size=\"14.00\">y1</text>\n",
       "</g>\n",
       "<!-- node1&#45;&gt;y1 -->\n",
       "<g id=\"edge21\" class=\"edge\">\n",
       "<title>node1&#45;&gt;y1</title>\n",
       "<path fill=\"none\" stroke=\"black\" d=\"M201.72,-189.19C222.99,-185.08 249.98,-179.87 271.2,-175.77\"/>\n",
       "<polygon fill=\"black\" stroke=\"black\" points=\"271.96,-179.19 281.11,-173.85 270.63,-172.31 271.96,-179.19\"/>\n",
       "</g>\n",
       "<!-- . -->\n",
       "<g id=\"node11\" class=\"node\">\n",
       "<title>.</title>\n",
       "<ellipse fill=\"none\" stroke=\"black\" cx=\"307.23\" cy=\"-115\" rx=\"27\" ry=\"18\"/>\n",
       "<text text-anchor=\"middle\" x=\"307.23\" y=\"-111.3\" font-family=\"Times,serif\" font-size=\"14.00\">.</text>\n",
       "</g>\n",
       "<!-- node1&#45;&gt;. -->\n",
       "<g id=\"edge25\" class=\"edge\">\n",
       "<title>node1&#45;&gt;.</title>\n",
       "<path fill=\"none\" stroke=\"black\" d=\"M190.47,-182.08C214.53,-168.14 251.56,-146.68 277.24,-131.8\"/>\n",
       "<polygon fill=\"black\" stroke=\"black\" points=\"279.24,-134.69 286.14,-126.65 275.73,-128.63 279.24,-134.69\"/>\n",
       "</g>\n",
       "<!-- node2&#45;&gt;y10 -->\n",
       "<g id=\"edge18\" class=\"edge\">\n",
       "<title>node2&#45;&gt;y10</title>\n",
       "<path fill=\"none\" stroke=\"black\" d=\"M190.47,-128.08C214.39,-114.22 251.13,-92.93 276.79,-78.06\"/>\n",
       "<polygon fill=\"black\" stroke=\"black\" points=\"278.8,-80.94 285.7,-72.9 275.29,-74.89 278.8,-80.94\"/>\n",
       "</g>\n",
       "<!-- node2&#45;&gt;y1 -->\n",
       "<g id=\"edge22\" class=\"edge\">\n",
       "<title>node2&#45;&gt;y1</title>\n",
       "<path fill=\"none\" stroke=\"black\" d=\"M201.72,-148.81C222.99,-152.92 249.98,-158.13 271.2,-162.23\"/>\n",
       "<polygon fill=\"black\" stroke=\"black\" points=\"270.63,-165.69 281.11,-164.15 271.96,-158.81 270.63,-165.69\"/>\n",
       "</g>\n",
       "<!-- node2&#45;&gt;. -->\n",
       "<g id=\"edge26\" class=\"edge\">\n",
       "<title>node2&#45;&gt;.</title>\n",
       "<path fill=\"none\" stroke=\"black\" d=\"M201.72,-135.19C222.99,-131.08 249.98,-125.87 271.2,-121.77\"/>\n",
       "<polygon fill=\"black\" stroke=\"black\" points=\"271.96,-125.19 281.11,-119.85 270.63,-118.31 271.96,-125.19\"/>\n",
       "</g>\n",
       "<!-- ...&#45;&gt;y10 -->\n",
       "<g id=\"edge19\" class=\"edge\">\n",
       "<title>...&#45;&gt;y10</title>\n",
       "<path fill=\"none\" stroke=\"black\" d=\"M191.76,-83.11C213.65,-78.88 245.56,-72.72 270.13,-67.97\"/>\n",
       "<polygon fill=\"black\" stroke=\"black\" points=\"271,-71.37 280.16,-66.04 269.68,-64.5 271,-71.37\"/>\n",
       "</g>\n",
       "<!-- ...&#45;&gt;y1 -->\n",
       "<g id=\"edge23\" class=\"edge\">\n",
       "<title>...&#45;&gt;y1</title>\n",
       "<path fill=\"none\" stroke=\"black\" d=\"M186.47,-99.61C210.34,-113.44 250.42,-136.66 277.57,-152.39\"/>\n",
       "<polygon fill=\"black\" stroke=\"black\" points=\"275.83,-155.43 286.24,-157.42 279.34,-149.37 275.83,-155.43\"/>\n",
       "</g>\n",
       "<!-- ...&#45;&gt;. -->\n",
       "<g id=\"edge27\" class=\"edge\">\n",
       "<title>...&#45;&gt;.</title>\n",
       "<path fill=\"none\" stroke=\"black\" d=\"M191.76,-92.89C213.92,-97.17 246.36,-103.44 271.05,-108.2\"/>\n",
       "<polygon fill=\"black\" stroke=\"black\" points=\"270.62,-111.69 281.11,-110.15 271.95,-104.81 270.62,-111.69\"/>\n",
       "</g>\n",
       "<!-- node30&#45;&gt;y10 -->\n",
       "<g id=\"edge20\" class=\"edge\">\n",
       "<title>node30&#45;&gt;y10</title>\n",
       "<path fill=\"none\" stroke=\"black\" d=\"M206.13,-41.66C226.24,-45.55 250.49,-50.23 270.09,-54.02\"/>\n",
       "<polygon fill=\"black\" stroke=\"black\" points=\"269.67,-57.5 280.15,-55.96 270.99,-50.63 269.67,-57.5\"/>\n",
       "</g>\n",
       "<!-- node30&#45;&gt;y1 -->\n",
       "<g id=\"edge24\" class=\"edge\">\n",
       "<title>node30&#45;&gt;y1</title>\n",
       "<path fill=\"none\" stroke=\"black\" d=\"M183.58,-50.55C208.77,-74.88 255.82,-120.32 283.75,-147.29\"/>\n",
       "<polygon fill=\"black\" stroke=\"black\" points=\"281.47,-149.95 291.09,-154.38 286.33,-144.91 281.47,-149.95\"/>\n",
       "</g>\n",
       "<!-- node30&#45;&gt;. -->\n",
       "<g id=\"edge28\" class=\"edge\">\n",
       "<title>node30&#45;&gt;.</title>\n",
       "<path fill=\"none\" stroke=\"black\" d=\"M191.76,-48.67C215.86,-62.64 252.11,-83.64 277.34,-98.26\"/>\n",
       "<polygon fill=\"black\" stroke=\"black\" points=\"275.68,-101.34 286.09,-103.33 279.19,-95.29 275.68,-101.34\"/>\n",
       "</g>\n",
       "</g>\n",
       "</svg>\n"
      ],
      "text/plain": [
       "<graphviz.sources.Source at 0x7fc70ff19990>"
      ]
     },
     "execution_count": 42,
     "metadata": {},
     "output_type": "execute_result"
    }
   ],
   "source": [
    "#collapse\n",
    "gv('''\n",
    "splines=line\n",
    "subgraph cluster_1{\n",
    "    style=filled;\n",
    "    color=lightgrey;\n",
    "    \"x1\"\n",
    "    \"x2\"\n",
    "    \"..\"\n",
    "    \"x784\"\n",
    "    label = \"Layer 0\"\n",
    "}\n",
    "subgraph cluster_2{\n",
    "    style=filled;\n",
    "    color=lightgrey;\n",
    "    \"x1\" -> \"node1\"\n",
    "    \"x2\" -> \"node1\"\n",
    "    \"..\" -> \"node1\"\n",
    "    \n",
    "    \"x784\" -> \"node1\"\n",
    "    \"x1\" -> \"node2\"\n",
    "    \"x2\" -> \"node2\"\n",
    "    \"..\" -> \"node2\"\n",
    "    \"x784\" -> \"node2\"\n",
    "    \n",
    "    \"x1\" -> \"...\"\n",
    "    \"x2\" -> \"...\"\n",
    "    \"..\" -> \"...\"\n",
    "    \"x784\" -> \"...\"\n",
    "\n",
    "    \"x1\" -> \"node30\"\n",
    "    \"x2\" -> \"node30\"\n",
    "    \"..\" -> \"node30\"\n",
    "    \"x784\" -> \"node30\"\n",
    "\n",
    "\n",
    "    label = \"Layer 1: relu\"\n",
    "}\n",
    "subgraph cluster_3{\n",
    "    style=filled;\n",
    "    color=lightgrey;\n",
    "\n",
    "    \"node1\" -> \"y10\"\n",
    "    \"node2\" -> \"y10\"\n",
    "    \"...\" -> \"y10\"\n",
    "    \"node30\" -> \"y10\"\n",
    "    \n",
    "    \"node1\" -> \"y1\"\n",
    "    \"node2\" -> \"y1\"\n",
    "    \"...\" -> \"y1\"\n",
    "    \"node30\" -> \"y1\"\n",
    "    \n",
    "    \"node1\" -> \".\"\n",
    "    \"node2\" -> \".\"\n",
    "    \"...\" -> \".\"\n",
    "    \"node30\" -> \".\"\n",
    "    \n",
    "    label = \"Layer 2: softmax\"\n",
    "}\n",
    "''')"
   ]
  },
  {
   "cell_type": "markdown",
   "id": "fd24aa15-0116-4d63-8ed7-9b467e5c394d",
   "metadata": {},
   "source": [
    "y는 10차원이 되겠지, [] 안에 있는 수만큼"
   ]
  },
  {
   "cell_type": "markdown",
   "id": "767d8c85-abd6-4543-b7d2-90599502f793",
   "metadata": {},
   "source": [
    "Fashion_MNIST 다중분류"
   ]
  },
  {
   "cell_type": "markdown",
   "id": "9b0f1cf5-fc66-4bea-9c89-5162f70c72f3",
   "metadata": {},
   "source": [
    "`-` 데이터정리"
   ]
  },
  {
   "cell_type": "code",
   "execution_count": 4,
   "id": "6923d8de-5521-4988-973a-87bf0ec66b4d",
   "metadata": {},
   "outputs": [],
   "source": [
    "(x_train, y_train), (x_test, y_test) = tf.keras.datasets.fashion_mnist.load_data()"
   ]
  },
  {
   "cell_type": "code",
   "execution_count": 5,
   "id": "95e807f2-6e05-4490-8e1c-bf27673a0fa7",
   "metadata": {},
   "outputs": [
    {
     "data": {
      "text/plain": [
       "array([[0., 0., 0., ..., 0., 0., 1.],\n",
       "       [1., 0., 0., ..., 0., 0., 0.],\n",
       "       [1., 0., 0., ..., 0., 0., 0.],\n",
       "       ...,\n",
       "       [0., 0., 0., ..., 0., 0., 0.],\n",
       "       [1., 0., 0., ..., 0., 0., 0.],\n",
       "       [0., 0., 0., ..., 0., 0., 0.]], dtype=float32)"
      ]
     },
     "execution_count": 5,
     "metadata": {},
     "output_type": "execute_result"
    }
   ],
   "source": [
    "tf.keras.utils.to_categorical(y_train)"
   ]
  },
  {
   "cell_type": "code",
   "execution_count": 14,
   "id": "e6feab72-1832-4170-be4b-f4c180431b62",
   "metadata": {},
   "outputs": [],
   "source": [
    "X=x_train.reshape(-1,784) # 60000 by 784\n",
    "y=tf.keras.utils.to_categorical(y_train) # 위처럼 10을 정렬하여 1 또는 0으로 \n",
    "XX=x_test.reshape(-1,784)\n",
    "yy=tf.keras.utils.to_categorical(y_test)"
   ]
  },
  {
   "cell_type": "code",
   "execution_count": 15,
   "id": "afb95018-cd58-454c-ae3f-aa1f597a4d5c",
   "metadata": {
    "scrolled": true,
    "tags": []
   },
   "outputs": [
    {
     "name": "stdout",
     "output_type": "stream",
     "text": [
      "Epoch 1/20\n",
      "50/50 [==============================] - 0s 3ms/step - loss: 32.5672 - accuracy: 0.3730\n",
      "Epoch 2/20\n",
      "50/50 [==============================] - 0s 3ms/step - loss: 2.4414 - accuracy: 0.3877\n",
      "Epoch 3/20\n",
      "50/50 [==============================] - 0s 3ms/step - loss: 1.9154 - accuracy: 0.3809\n",
      "Epoch 4/20\n",
      "50/50 [==============================] - 0s 3ms/step - loss: 1.7740 - accuracy: 0.4041\n",
      "Epoch 5/20\n",
      "50/50 [==============================] - 0s 3ms/step - loss: 1.6474 - accuracy: 0.4517\n",
      "Epoch 6/20\n",
      "50/50 [==============================] - 0s 3ms/step - loss: 1.5429 - accuracy: 0.4842\n",
      "Epoch 7/20\n",
      "50/50 [==============================] - 0s 3ms/step - loss: 1.4649 - accuracy: 0.4992\n",
      "Epoch 8/20\n",
      "50/50 [==============================] - 0s 3ms/step - loss: 1.4001 - accuracy: 0.5227\n",
      "Epoch 9/20\n",
      "50/50 [==============================] - 0s 3ms/step - loss: 1.3400 - accuracy: 0.5461\n",
      "Epoch 10/20\n",
      "50/50 [==============================] - 0s 3ms/step - loss: 1.2882 - accuracy: 0.5539\n",
      "Epoch 11/20\n",
      "50/50 [==============================] - 0s 3ms/step - loss: 1.2506 - accuracy: 0.5612\n",
      "Epoch 12/20\n",
      "50/50 [==============================] - 0s 4ms/step - loss: 1.2194 - accuracy: 0.5707\n",
      "Epoch 13/20\n",
      "50/50 [==============================] - 0s 3ms/step - loss: 1.1915 - accuracy: 0.5732\n",
      "Epoch 14/20\n",
      "50/50 [==============================] - 0s 3ms/step - loss: 1.1674 - accuracy: 0.5765\n",
      "Epoch 15/20\n",
      "50/50 [==============================] - 0s 4ms/step - loss: 1.1453 - accuracy: 0.5808\n",
      "Epoch 16/20\n",
      "50/50 [==============================] - 0s 4ms/step - loss: 1.1251 - accuracy: 0.5852\n",
      "Epoch 17/20\n",
      "50/50 [==============================] - 0s 4ms/step - loss: 1.1047 - accuracy: 0.5886\n",
      "Epoch 18/20\n",
      "50/50 [==============================] - 0s 4ms/step - loss: 1.0874 - accuracy: 0.5915\n",
      "Epoch 19/20\n",
      "50/50 [==============================] - 0s 4ms/step - loss: 1.0716 - accuracy: 0.5944\n",
      "Epoch 20/20\n",
      "50/50 [==============================] - 0s 4ms/step - loss: 1.0567 - accuracy: 0.5975\n"
     ]
    },
    {
     "data": {
      "text/plain": [
       "<keras.callbacks.History at 0x7fdc245ad360>"
      ]
     },
     "execution_count": 15,
     "metadata": {},
     "output_type": "execute_result"
    }
   ],
   "source": [
    "#collapse_output\n",
    "tf.random.set_seed(43052)\n",
    "net = tf.keras.Sequential()\n",
    "net.add(tf.keras.layers.Dense(30,activation='relu')) # 따로 써도 되고 같이 써도 되는 활성화함수\n",
    "net.add(tf.keras.layers.Dense(10,activation='softmax')) # y가 10이니까\n",
    "net.compile(optimizer='adam',loss=tf.losses.categorical_crossentropy,metrics=['accuracy'])\n",
    "net.fit(X,y,epochs=20,batch_size=1200)"
   ]
  },
  {
   "cell_type": "code",
   "execution_count": 16,
   "id": "d02341fa-2600-4011-baea-c4ba545503ed",
   "metadata": {},
   "outputs": [
    {
     "name": "stdout",
     "output_type": "stream",
     "text": [
      "313/313 [==============================] - 1s 3ms/step - loss: 1.0963 - accuracy: 0.5930\n"
     ]
    },
    {
     "data": {
      "text/plain": [
       "[1.0962964296340942, 0.5929999947547913]"
      ]
     },
     "execution_count": 16,
     "metadata": {},
     "output_type": "execute_result"
    }
   ],
   "source": [
    "net.evaluate(XX,yy)"
   ]
  },
  {
   "cell_type": "code",
   "execution_count": 17,
   "id": "9f88a7af-b919-492d-8df9-66ec0ff23daa",
   "metadata": {},
   "outputs": [
    {
     "name": "stdout",
     "output_type": "stream",
     "text": [
      "Model: \"sequential_4\"\n",
      "_________________________________________________________________\n",
      " Layer (type)                Output Shape              Param #   \n",
      "=================================================================\n",
      " dense_10 (Dense)            (None, 30)                23550     \n",
      "                                                                 \n",
      " dense_11 (Dense)            (None, 10)                310       \n",
      "                                                                 \n",
      "=================================================================\n",
      "Total params: 23,860\n",
      "Trainable params: 23,860\n",
      "Non-trainable params: 0\n",
      "_________________________________________________________________\n"
     ]
    }
   ],
   "source": [
    "net.summary()"
   ]
  },
  {
   "cell_type": "markdown",
   "id": "8ad1c2a5-a0b7-4b4f-a26a-7b823a49deeb",
   "metadata": {
    "id": "8ad1c2a5-a0b7-4b4f-a26a-7b823a49deeb"
   },
   "source": [
    "`-` 시도2: 더 깊은 신경망 "
   ]
  },
  {
   "cell_type": "code",
   "execution_count": null,
   "id": "82c577aa-3148-4e25-a8ae-721e9541d82f",
   "metadata": {
    "id": "82c577aa-3148-4e25-a8ae-721e9541d82f",
    "outputId": "0cb1adf9-7a2c-4a1d-cc61-c28a23ab56bd"
   },
   "outputs": [
    {
     "data": {
      "image/svg+xml": [
       "<?xml version=\"1.0\" encoding=\"UTF-8\" standalone=\"no\"?>\n",
       "<!DOCTYPE svg PUBLIC \"-//W3C//DTD SVG 1.1//EN\"\n",
       " \"http://www.w3.org/Graphics/SVG/1.1/DTD/svg11.dtd\">\n",
       "<!-- Generated by graphviz version 3.0.0 (20220315.2325)\n",
       " -->\n",
       "<!-- Title: G Pages: 1 -->\n",
       "<svg width=\"557pt\" height=\"261pt\"\n",
       " viewBox=\"0.00 0.00 557.27 261.00\" xmlns=\"http://www.w3.org/2000/svg\" xmlns:xlink=\"http://www.w3.org/1999/xlink\">\n",
       "<g id=\"graph0\" class=\"graph\" transform=\"scale(1 1) rotate(0) translate(4 257)\">\n",
       "<title>G</title>\n",
       "<polygon fill=\"white\" stroke=\"transparent\" points=\"-4,4 -4,-257 553.27,-257 553.27,4 -4,4\"/>\n",
       "<g id=\"clust1\" class=\"cluster\">\n",
       "<title>cluster_1</title>\n",
       "<polygon fill=\"lightgrey\" stroke=\"lightgrey\" points=\"8,-8 8,-245 91.59,-245 91.59,-8 8,-8\"/>\n",
       "<text text-anchor=\"middle\" x=\"49.8\" y=\"-229.8\" font-family=\"Times,serif\" font-size=\"14.00\">Layer 0</text>\n",
       "</g>\n",
       "<g id=\"clust2\" class=\"cluster\">\n",
       "<title>cluster_2</title>\n",
       "<polygon fill=\"lightgrey\" stroke=\"lightgrey\" points=\"111.59,-8 111.59,-245 228.99,-245 228.99,-8 111.59,-8\"/>\n",
       "<text text-anchor=\"middle\" x=\"170.29\" y=\"-229.8\" font-family=\"Times,serif\" font-size=\"14.00\">Layer 1: relu</text>\n",
       "</g>\n",
       "<g id=\"clust3\" class=\"cluster\">\n",
       "<title>cluster_3</title>\n",
       "<polygon fill=\"lightgrey\" stroke=\"lightgrey\" points=\"248.99,-8 248.99,-245 392.37,-245 392.37,-8 248.99,-8\"/>\n",
       "<text text-anchor=\"middle\" x=\"320.68\" y=\"-229.8\" font-family=\"Times,serif\" font-size=\"14.00\">Layer 2: relu</text>\n",
       "</g>\n",
       "<g id=\"clust4\" class=\"cluster\">\n",
       "<title>cluster_4</title>\n",
       "<polygon fill=\"lightgrey\" stroke=\"lightgrey\" points=\"412.37,-35 412.37,-218 549.27,-218 549.27,-35 412.37,-35\"/>\n",
       "<text text-anchor=\"middle\" x=\"480.82\" y=\"-202.8\" font-family=\"Times,serif\" font-size=\"14.00\">Layer 3: softmax</text>\n",
       "</g>\n",
       "<!-- x1 -->\n",
       "<g id=\"node1\" class=\"node\">\n",
       "<title>x1</title>\n",
       "<ellipse fill=\"none\" stroke=\"black\" cx=\"49.8\" cy=\"-196\" rx=\"27\" ry=\"18\"/>\n",
       "<text text-anchor=\"middle\" x=\"49.8\" y=\"-192.3\" font-family=\"Times,serif\" font-size=\"14.00\">x1</text>\n",
       "</g>\n",
       "<!-- node1 -->\n",
       "<g id=\"node5\" class=\"node\">\n",
       "<title>node1</title>\n",
       "<ellipse fill=\"none\" stroke=\"black\" cx=\"170.29\" cy=\"-196\" rx=\"38.99\" ry=\"18\"/>\n",
       "<text text-anchor=\"middle\" x=\"170.29\" y=\"-192.3\" font-family=\"Times,serif\" font-size=\"14.00\">node1</text>\n",
       "</g>\n",
       "<!-- x1&#45;&gt;node1 -->\n",
       "<g id=\"edge1\" class=\"edge\">\n",
       "<title>x1&#45;&gt;node1</title>\n",
       "<path fill=\"none\" stroke=\"black\" d=\"M76.8,-196C89.75,-196 105.84,-196 120.95,-196\"/>\n",
       "<polygon fill=\"black\" stroke=\"black\" points=\"121.2,-199.5 131.2,-196 121.2,-192.5 121.2,-199.5\"/>\n",
       "</g>\n",
       "<!-- node2 -->\n",
       "<g id=\"node6\" class=\"node\">\n",
       "<title>node2</title>\n",
       "<ellipse fill=\"none\" stroke=\"black\" cx=\"170.29\" cy=\"-142\" rx=\"38.99\" ry=\"18\"/>\n",
       "<text text-anchor=\"middle\" x=\"170.29\" y=\"-138.3\" font-family=\"Times,serif\" font-size=\"14.00\">node2</text>\n",
       "</g>\n",
       "<!-- x1&#45;&gt;node2 -->\n",
       "<g id=\"edge5\" class=\"edge\">\n",
       "<title>x1&#45;&gt;node2</title>\n",
       "<path fill=\"none\" stroke=\"black\" d=\"M72.53,-186.1C89.3,-178.46 112.87,-167.71 132.55,-158.74\"/>\n",
       "<polygon fill=\"black\" stroke=\"black\" points=\"134.21,-161.84 141.85,-154.5 131.3,-155.47 134.21,-161.84\"/>\n",
       "</g>\n",
       "<!-- ... -->\n",
       "<g id=\"node7\" class=\"node\">\n",
       "<title>...</title>\n",
       "<ellipse fill=\"none\" stroke=\"black\" cx=\"170.29\" cy=\"-88\" rx=\"27\" ry=\"18\"/>\n",
       "<text text-anchor=\"middle\" x=\"170.29\" y=\"-84.3\" font-family=\"Times,serif\" font-size=\"14.00\">...</text>\n",
       "</g>\n",
       "<!-- x1&#45;&gt;... -->\n",
       "<g id=\"edge9\" class=\"edge\">\n",
       "<title>x1&#45;&gt;...</title>\n",
       "<path fill=\"none\" stroke=\"black\" d=\"M66.78,-181.43C87.21,-162.81 122.74,-130.43 146.13,-109.11\"/>\n",
       "<polygon fill=\"black\" stroke=\"black\" points=\"148.53,-111.66 153.56,-102.33 143.81,-106.48 148.53,-111.66\"/>\n",
       "</g>\n",
       "<!-- node500 -->\n",
       "<g id=\"node8\" class=\"node\">\n",
       "<title>node500</title>\n",
       "<ellipse fill=\"none\" stroke=\"black\" cx=\"170.29\" cy=\"-34\" rx=\"50.89\" ry=\"18\"/>\n",
       "<text text-anchor=\"middle\" x=\"170.29\" y=\"-30.3\" font-family=\"Times,serif\" font-size=\"14.00\">node500</text>\n",
       "</g>\n",
       "<!-- x1&#45;&gt;node500 -->\n",
       "<g id=\"edge13\" class=\"edge\">\n",
       "<title>x1&#45;&gt;node500</title>\n",
       "<path fill=\"none\" stroke=\"black\" d=\"M62.59,-179.87C83.12,-151.81 125.58,-93.76 150.3,-59.97\"/>\n",
       "<polygon fill=\"black\" stroke=\"black\" points=\"153.39,-61.66 156.47,-51.52 147.74,-57.53 153.39,-61.66\"/>\n",
       "</g>\n",
       "<!-- x2 -->\n",
       "<g id=\"node2\" class=\"node\">\n",
       "<title>x2</title>\n",
       "<ellipse fill=\"none\" stroke=\"black\" cx=\"49.8\" cy=\"-142\" rx=\"27\" ry=\"18\"/>\n",
       "<text text-anchor=\"middle\" x=\"49.8\" y=\"-138.3\" font-family=\"Times,serif\" font-size=\"14.00\">x2</text>\n",
       "</g>\n",
       "<!-- x2&#45;&gt;node1 -->\n",
       "<g id=\"edge2\" class=\"edge\">\n",
       "<title>x2&#45;&gt;node1</title>\n",
       "<path fill=\"none\" stroke=\"black\" d=\"M72.53,-151.9C89.3,-159.54 112.87,-170.29 132.55,-179.26\"/>\n",
       "<polygon fill=\"black\" stroke=\"black\" points=\"131.3,-182.53 141.85,-183.5 134.21,-176.16 131.3,-182.53\"/>\n",
       "</g>\n",
       "<!-- x2&#45;&gt;node2 -->\n",
       "<g id=\"edge6\" class=\"edge\">\n",
       "<title>x2&#45;&gt;node2</title>\n",
       "<path fill=\"none\" stroke=\"black\" d=\"M76.8,-142C89.75,-142 105.84,-142 120.95,-142\"/>\n",
       "<polygon fill=\"black\" stroke=\"black\" points=\"121.2,-145.5 131.2,-142 121.2,-138.5 121.2,-145.5\"/>\n",
       "</g>\n",
       "<!-- x2&#45;&gt;... -->\n",
       "<g id=\"edge10\" class=\"edge\">\n",
       "<title>x2&#45;&gt;...</title>\n",
       "<path fill=\"none\" stroke=\"black\" d=\"M72.53,-132.1C90.87,-123.74 117.36,-111.66 137.99,-102.26\"/>\n",
       "<polygon fill=\"black\" stroke=\"black\" points=\"139.64,-105.36 147.29,-98.02 136.74,-98.99 139.64,-105.36\"/>\n",
       "</g>\n",
       "<!-- x2&#45;&gt;node500 -->\n",
       "<g id=\"edge14\" class=\"edge\">\n",
       "<title>x2&#45;&gt;node500</title>\n",
       "<path fill=\"none\" stroke=\"black\" d=\"M66.78,-127.43C86.41,-109.54 120,-78.93 143.35,-57.64\"/>\n",
       "<polygon fill=\"black\" stroke=\"black\" points=\"145.81,-60.14 150.84,-50.81 141.09,-54.96 145.81,-60.14\"/>\n",
       "</g>\n",
       "<!-- .. -->\n",
       "<g id=\"node3\" class=\"node\">\n",
       "<title>..</title>\n",
       "<ellipse fill=\"none\" stroke=\"black\" cx=\"49.8\" cy=\"-88\" rx=\"27\" ry=\"18\"/>\n",
       "<text text-anchor=\"middle\" x=\"49.8\" y=\"-84.3\" font-family=\"Times,serif\" font-size=\"14.00\">..</text>\n",
       "</g>\n",
       "<!-- ..&#45;&gt;node1 -->\n",
       "<g id=\"edge3\" class=\"edge\">\n",
       "<title>..&#45;&gt;node1</title>\n",
       "<path fill=\"none\" stroke=\"black\" d=\"M66.78,-102.57C86.64,-120.67 120.77,-151.78 144.15,-173.09\"/>\n",
       "<polygon fill=\"black\" stroke=\"black\" points=\"141.89,-175.76 151.64,-179.91 146.6,-170.59 141.89,-175.76\"/>\n",
       "</g>\n",
       "<!-- ..&#45;&gt;node2 -->\n",
       "<g id=\"edge7\" class=\"edge\">\n",
       "<title>..&#45;&gt;node2</title>\n",
       "<path fill=\"none\" stroke=\"black\" d=\"M72.53,-97.9C89.3,-105.54 112.87,-116.29 132.55,-125.26\"/>\n",
       "<polygon fill=\"black\" stroke=\"black\" points=\"131.3,-128.53 141.85,-129.5 134.21,-122.16 131.3,-128.53\"/>\n",
       "</g>\n",
       "<!-- ..&#45;&gt;... -->\n",
       "<g id=\"edge11\" class=\"edge\">\n",
       "<title>..&#45;&gt;...</title>\n",
       "<path fill=\"none\" stroke=\"black\" d=\"M76.8,-88C93.2,-88 114.63,-88 132.73,-88\"/>\n",
       "<polygon fill=\"black\" stroke=\"black\" points=\"132.94,-91.5 142.94,-88 132.94,-84.5 132.94,-91.5\"/>\n",
       "</g>\n",
       "<!-- ..&#45;&gt;node500 -->\n",
       "<g id=\"edge15\" class=\"edge\">\n",
       "<title>..&#45;&gt;node500</title>\n",
       "<path fill=\"none\" stroke=\"black\" d=\"M72.53,-78.1C88.31,-70.91 110.11,-60.97 129.02,-52.35\"/>\n",
       "<polygon fill=\"black\" stroke=\"black\" points=\"130.67,-55.44 138.32,-48.11 127.77,-49.08 130.67,-55.44\"/>\n",
       "</g>\n",
       "<!-- x784 -->\n",
       "<g id=\"node4\" class=\"node\">\n",
       "<title>x784</title>\n",
       "<ellipse fill=\"none\" stroke=\"black\" cx=\"49.8\" cy=\"-34\" rx=\"33.6\" ry=\"18\"/>\n",
       "<text text-anchor=\"middle\" x=\"49.8\" y=\"-30.3\" font-family=\"Times,serif\" font-size=\"14.00\">x784</text>\n",
       "</g>\n",
       "<!-- x784&#45;&gt;node1 -->\n",
       "<g id=\"edge4\" class=\"edge\">\n",
       "<title>x784&#45;&gt;node1</title>\n",
       "<path fill=\"none\" stroke=\"black\" d=\"M63.03,-50.73C83.77,-79.07 125.94,-136.74 150.46,-170.26\"/>\n",
       "<polygon fill=\"black\" stroke=\"black\" points=\"147.86,-172.63 156.59,-178.63 153.51,-168.49 147.86,-172.63\"/>\n",
       "</g>\n",
       "<!-- x784&#45;&gt;node2 -->\n",
       "<g id=\"edge8\" class=\"edge\">\n",
       "<title>x784&#45;&gt;node2</title>\n",
       "<path fill=\"none\" stroke=\"black\" d=\"M67.77,-49.47C87.69,-67.63 120.92,-97.91 143.9,-118.86\"/>\n",
       "<polygon fill=\"black\" stroke=\"black\" points=\"141.82,-121.7 151.57,-125.85 146.54,-116.53 141.82,-121.7\"/>\n",
       "</g>\n",
       "<!-- x784&#45;&gt;... -->\n",
       "<g id=\"edge12\" class=\"edge\">\n",
       "<title>x784&#45;&gt;...</title>\n",
       "<path fill=\"none\" stroke=\"black\" d=\"M75.93,-45.45C94.06,-53.72 118.66,-64.93 138.05,-73.77\"/>\n",
       "<polygon fill=\"black\" stroke=\"black\" points=\"136.83,-77.05 147.38,-78.02 139.74,-70.69 136.83,-77.05\"/>\n",
       "</g>\n",
       "<!-- x784&#45;&gt;node500 -->\n",
       "<g id=\"edge16\" class=\"edge\">\n",
       "<title>x784&#45;&gt;node500</title>\n",
       "<path fill=\"none\" stroke=\"black\" d=\"M83.8,-34C91.68,-34 100.33,-34 109.01,-34\"/>\n",
       "<polygon fill=\"black\" stroke=\"black\" points=\"109.17,-37.5 119.17,-34 109.17,-30.5 109.17,-37.5\"/>\n",
       "</g>\n",
       "<!-- node1(2) -->\n",
       "<g id=\"node9\" class=\"node\">\n",
       "<title>node1(2)</title>\n",
       "<ellipse fill=\"none\" stroke=\"black\" cx=\"320.68\" cy=\"-196\" rx=\"51.99\" ry=\"18\"/>\n",
       "<text text-anchor=\"middle\" x=\"320.68\" y=\"-192.3\" font-family=\"Times,serif\" font-size=\"14.00\">node1(2)</text>\n",
       "</g>\n",
       "<!-- node1&#45;&gt;node1(2) -->\n",
       "<g id=\"edge17\" class=\"edge\">\n",
       "<title>node1&#45;&gt;node1(2)</title>\n",
       "<path fill=\"none\" stroke=\"black\" d=\"M209.5,-196C224.37,-196 241.77,-196 258.3,-196\"/>\n",
       "<polygon fill=\"black\" stroke=\"black\" points=\"258.45,-199.5 268.45,-196 258.45,-192.5 258.45,-199.5\"/>\n",
       "</g>\n",
       "<!-- node2(2) -->\n",
       "<g id=\"node10\" class=\"node\">\n",
       "<title>node2(2)</title>\n",
       "<ellipse fill=\"none\" stroke=\"black\" cx=\"320.68\" cy=\"-142\" rx=\"51.99\" ry=\"18\"/>\n",
       "<text text-anchor=\"middle\" x=\"320.68\" y=\"-138.3\" font-family=\"Times,serif\" font-size=\"14.00\">node2(2)</text>\n",
       "</g>\n",
       "<!-- node1&#45;&gt;node2(2) -->\n",
       "<g id=\"edge21\" class=\"edge\">\n",
       "<title>node1&#45;&gt;node2(2)</title>\n",
       "<path fill=\"none\" stroke=\"black\" d=\"M201.32,-185.07C222.38,-177.41 250.91,-167.02 274.69,-158.37\"/>\n",
       "<polygon fill=\"black\" stroke=\"black\" points=\"276.01,-161.62 284.21,-154.91 273.62,-155.04 276.01,-161.62\"/>\n",
       "</g>\n",
       "<!-- .... -->\n",
       "<g id=\"node11\" class=\"node\">\n",
       "<title>....</title>\n",
       "<ellipse fill=\"none\" stroke=\"black\" cx=\"320.68\" cy=\"-88\" rx=\"27\" ry=\"18\"/>\n",
       "<text text-anchor=\"middle\" x=\"320.68\" y=\"-84.3\" font-family=\"Times,serif\" font-size=\"14.00\">....</text>\n",
       "</g>\n",
       "<!-- node1&#45;&gt;.... -->\n",
       "<g id=\"edge25\" class=\"edge\">\n",
       "<title>node1&#45;&gt;....</title>\n",
       "<path fill=\"none\" stroke=\"black\" d=\"M191.92,-180.98C218.34,-161.76 264.14,-128.42 293.13,-107.32\"/>\n",
       "<polygon fill=\"black\" stroke=\"black\" points=\"295.52,-109.91 301.55,-101.2 291.4,-104.25 295.52,-109.91\"/>\n",
       "</g>\n",
       "<!-- node500(2) -->\n",
       "<g id=\"node12\" class=\"node\">\n",
       "<title>node500(2)</title>\n",
       "<ellipse fill=\"none\" stroke=\"black\" cx=\"320.68\" cy=\"-34\" rx=\"63.89\" ry=\"18\"/>\n",
       "<text text-anchor=\"middle\" x=\"320.68\" y=\"-30.3\" font-family=\"Times,serif\" font-size=\"14.00\">node500(2)</text>\n",
       "</g>\n",
       "<!-- node1&#45;&gt;node500(2) -->\n",
       "<g id=\"edge29\" class=\"edge\">\n",
       "<title>node1&#45;&gt;node500(2)</title>\n",
       "<path fill=\"none\" stroke=\"black\" d=\"M186.33,-179.58C212.39,-151.13 266.07,-92.53 296.78,-59\"/>\n",
       "<polygon fill=\"black\" stroke=\"black\" points=\"299.53,-61.18 303.7,-51.45 294.36,-56.46 299.53,-61.18\"/>\n",
       "</g>\n",
       "<!-- node2&#45;&gt;node1(2) -->\n",
       "<g id=\"edge18\" class=\"edge\">\n",
       "<title>node2&#45;&gt;node1(2)</title>\n",
       "<path fill=\"none\" stroke=\"black\" d=\"M201.32,-152.93C222.38,-160.59 250.91,-170.98 274.69,-179.63\"/>\n",
       "<polygon fill=\"black\" stroke=\"black\" points=\"273.62,-182.96 284.21,-183.09 276.01,-176.38 273.62,-182.96\"/>\n",
       "</g>\n",
       "<!-- node2&#45;&gt;node2(2) -->\n",
       "<g id=\"edge22\" class=\"edge\">\n",
       "<title>node2&#45;&gt;node2(2)</title>\n",
       "<path fill=\"none\" stroke=\"black\" d=\"M209.5,-142C224.37,-142 241.77,-142 258.3,-142\"/>\n",
       "<polygon fill=\"black\" stroke=\"black\" points=\"258.45,-145.5 268.45,-142 258.45,-138.5 258.45,-145.5\"/>\n",
       "</g>\n",
       "<!-- node2&#45;&gt;.... -->\n",
       "<g id=\"edge26\" class=\"edge\">\n",
       "<title>node2&#45;&gt;....</title>\n",
       "<path fill=\"none\" stroke=\"black\" d=\"M201.32,-131.07C226.14,-122.04 261.33,-109.23 286.88,-99.93\"/>\n",
       "<polygon fill=\"black\" stroke=\"black\" points=\"288.3,-103.14 296.5,-96.43 285.91,-96.56 288.3,-103.14\"/>\n",
       "</g>\n",
       "<!-- node2&#45;&gt;node500(2) -->\n",
       "<g id=\"edge30\" class=\"edge\">\n",
       "<title>node2&#45;&gt;node500(2)</title>\n",
       "<path fill=\"none\" stroke=\"black\" d=\"M191.92,-126.98C216.86,-108.84 259.07,-78.11 288.11,-56.98\"/>\n",
       "<polygon fill=\"black\" stroke=\"black\" points=\"290.26,-59.74 296.29,-51.02 286.14,-54.08 290.26,-59.74\"/>\n",
       "</g>\n",
       "<!-- ...&#45;&gt;node1(2) -->\n",
       "<g id=\"edge19\" class=\"edge\">\n",
       "<title>...&#45;&gt;node1(2)</title>\n",
       "<path fill=\"none\" stroke=\"black\" d=\"M189.19,-101.03C213.88,-119 258.77,-151.67 288.9,-173.6\"/>\n",
       "<polygon fill=\"black\" stroke=\"black\" points=\"287.22,-176.7 297.36,-179.76 291.34,-171.04 287.22,-176.7\"/>\n",
       "</g>\n",
       "<!-- ...&#45;&gt;node2(2) -->\n",
       "<g id=\"edge23\" class=\"edge\">\n",
       "<title>...&#45;&gt;node2(2)</title>\n",
       "<path fill=\"none\" stroke=\"black\" d=\"M194.48,-96.44C215.89,-104.23 248.3,-116.02 274.78,-125.66\"/>\n",
       "<polygon fill=\"black\" stroke=\"black\" points=\"273.64,-128.97 284.23,-129.1 276.03,-122.39 273.64,-128.97\"/>\n",
       "</g>\n",
       "<!-- ...&#45;&gt;.... -->\n",
       "<g id=\"edge27\" class=\"edge\">\n",
       "<title>...&#45;&gt;....</title>\n",
       "<path fill=\"none\" stroke=\"black\" d=\"M197.48,-88C221.28,-88 256.62,-88 283.19,-88\"/>\n",
       "<polygon fill=\"black\" stroke=\"black\" points=\"283.25,-91.5 293.25,-88 283.25,-84.5 283.25,-91.5\"/>\n",
       "</g>\n",
       "<!-- ...&#45;&gt;node500(2) -->\n",
       "<g id=\"edge31\" class=\"edge\">\n",
       "<title>...&#45;&gt;node500(2)</title>\n",
       "<path fill=\"none\" stroke=\"black\" d=\"M194.48,-79.56C214.93,-72.12 245.41,-61.03 271.18,-51.65\"/>\n",
       "<polygon fill=\"black\" stroke=\"black\" points=\"272.59,-54.86 280.79,-48.15 270.19,-48.28 272.59,-54.86\"/>\n",
       "</g>\n",
       "<!-- node500&#45;&gt;node1(2) -->\n",
       "<g id=\"edge20\" class=\"edge\">\n",
       "<title>node500&#45;&gt;node1(2)</title>\n",
       "<path fill=\"none\" stroke=\"black\" d=\"M186.89,-51.03C213.2,-79.76 266.52,-137.97 296.98,-171.22\"/>\n",
       "<polygon fill=\"black\" stroke=\"black\" points=\"294.51,-173.7 303.84,-178.71 299.67,-168.97 294.51,-173.7\"/>\n",
       "</g>\n",
       "<!-- node500&#45;&gt;node2(2) -->\n",
       "<g id=\"edge24\" class=\"edge\">\n",
       "<title>node500&#45;&gt;node2(2)</title>\n",
       "<path fill=\"none\" stroke=\"black\" d=\"M193.5,-50.17C218.86,-68.62 260.48,-98.91 288.94,-119.62\"/>\n",
       "<polygon fill=\"black\" stroke=\"black\" points=\"287.17,-122.67 297.31,-125.72 291.29,-117.01 287.17,-122.67\"/>\n",
       "</g>\n",
       "<!-- node500&#45;&gt;.... -->\n",
       "<g id=\"edge28\" class=\"edge\">\n",
       "<title>node500&#45;&gt;....</title>\n",
       "<path fill=\"none\" stroke=\"black\" d=\"M206.46,-46.8C230.75,-55.64 262.86,-67.32 286.67,-75.99\"/>\n",
       "<polygon fill=\"black\" stroke=\"black\" points=\"285.73,-79.37 296.33,-79.5 288.12,-72.79 285.73,-79.37\"/>\n",
       "</g>\n",
       "<!-- node500&#45;&gt;node500(2) -->\n",
       "<g id=\"edge32\" class=\"edge\">\n",
       "<title>node500&#45;&gt;node500(2)</title>\n",
       "<path fill=\"none\" stroke=\"black\" d=\"M221.11,-34C229.34,-34 238.02,-34 246.68,-34\"/>\n",
       "<polygon fill=\"black\" stroke=\"black\" points=\"246.81,-37.5 256.81,-34 246.81,-30.5 246.81,-37.5\"/>\n",
       "</g>\n",
       "<!-- y10 -->\n",
       "<g id=\"node13\" class=\"node\">\n",
       "<title>y10</title>\n",
       "<ellipse fill=\"none\" stroke=\"black\" cx=\"480.32\" cy=\"-61\" rx=\"27.9\" ry=\"18\"/>\n",
       "<text text-anchor=\"middle\" x=\"480.32\" y=\"-57.3\" font-family=\"Times,serif\" font-size=\"14.00\">y10</text>\n",
       "</g>\n",
       "<!-- node1(2)&#45;&gt;y10 -->\n",
       "<g id=\"edge33\" class=\"edge\">\n",
       "<title>node1(2)&#45;&gt;y10</title>\n",
       "<path fill=\"none\" stroke=\"black\" d=\"M341.33,-179.18C370.12,-154.52 423.73,-108.61 454.98,-81.84\"/>\n",
       "<polygon fill=\"black\" stroke=\"black\" points=\"457.47,-84.32 462.79,-75.16 452.92,-79 457.47,-84.32\"/>\n",
       "</g>\n",
       "<!-- y1 -->\n",
       "<g id=\"node14\" class=\"node\">\n",
       "<title>y1</title>\n",
       "<ellipse fill=\"none\" stroke=\"black\" cx=\"480.32\" cy=\"-169\" rx=\"27\" ry=\"18\"/>\n",
       "<text text-anchor=\"middle\" x=\"480.32\" y=\"-165.3\" font-family=\"Times,serif\" font-size=\"14.00\">y1</text>\n",
       "</g>\n",
       "<!-- node1(2)&#45;&gt;y1 -->\n",
       "<g id=\"edge37\" class=\"edge\">\n",
       "<title>node1(2)&#45;&gt;y1</title>\n",
       "<path fill=\"none\" stroke=\"black\" d=\"M367.7,-188.12C392.02,-183.95 421.41,-178.92 443.93,-175.06\"/>\n",
       "<polygon fill=\"black\" stroke=\"black\" points=\"444.8,-178.46 454.06,-173.33 443.62,-171.56 444.8,-178.46\"/>\n",
       "</g>\n",
       "<!-- . -->\n",
       "<g id=\"node15\" class=\"node\">\n",
       "<title>.</title>\n",
       "<ellipse fill=\"none\" stroke=\"black\" cx=\"480.32\" cy=\"-115\" rx=\"27\" ry=\"18\"/>\n",
       "<text text-anchor=\"middle\" x=\"480.32\" y=\"-111.3\" font-family=\"Times,serif\" font-size=\"14.00\">.</text>\n",
       "</g>\n",
       "<!-- node1(2)&#45;&gt;. -->\n",
       "<g id=\"edge41\" class=\"edge\">\n",
       "<title>node1(2)&#45;&gt;.</title>\n",
       "<path fill=\"none\" stroke=\"black\" d=\"M350.59,-181.14C378.54,-166.78 420.72,-145.11 449.1,-130.53\"/>\n",
       "<polygon fill=\"black\" stroke=\"black\" points=\"450.86,-133.56 458.16,-125.87 447.66,-127.33 450.86,-133.56\"/>\n",
       "</g>\n",
       "<!-- node2(2)&#45;&gt;y10 -->\n",
       "<g id=\"edge34\" class=\"edge\">\n",
       "<title>node2(2)&#45;&gt;y10</title>\n",
       "<path fill=\"none\" stroke=\"black\" d=\"M350.59,-127.14C378.38,-112.86 420.24,-91.36 448.61,-76.78\"/>\n",
       "<polygon fill=\"black\" stroke=\"black\" points=\"450.39,-79.8 457.68,-72.12 447.19,-73.58 450.39,-79.8\"/>\n",
       "</g>\n",
       "<!-- node2(2)&#45;&gt;y1 -->\n",
       "<g id=\"edge38\" class=\"edge\">\n",
       "<title>node2(2)&#45;&gt;y1</title>\n",
       "<path fill=\"none\" stroke=\"black\" d=\"M367.7,-149.88C392.02,-154.05 421.41,-159.08 443.93,-162.94\"/>\n",
       "<polygon fill=\"black\" stroke=\"black\" points=\"443.62,-166.44 454.06,-164.67 444.8,-159.54 443.62,-166.44\"/>\n",
       "</g>\n",
       "<!-- node2(2)&#45;&gt;. -->\n",
       "<g id=\"edge42\" class=\"edge\">\n",
       "<title>node2(2)&#45;&gt;.</title>\n",
       "<path fill=\"none\" stroke=\"black\" d=\"M367.7,-134.12C392.02,-129.95 421.41,-124.92 443.93,-121.06\"/>\n",
       "<polygon fill=\"black\" stroke=\"black\" points=\"444.8,-124.46 454.06,-119.33 443.62,-117.56 444.8,-124.46\"/>\n",
       "</g>\n",
       "<!-- ....&#45;&gt;y10 -->\n",
       "<g id=\"edge35\" class=\"edge\">\n",
       "<title>....&#45;&gt;y10</title>\n",
       "<path fill=\"none\" stroke=\"black\" d=\"M347.01,-83.66C373.01,-79.21 413.72,-72.24 443.12,-67.2\"/>\n",
       "<polygon fill=\"black\" stroke=\"black\" points=\"443.74,-70.65 453,-65.51 442.56,-63.75 443.74,-70.65\"/>\n",
       "</g>\n",
       "<!-- ....&#45;&gt;y1 -->\n",
       "<g id=\"edge39\" class=\"edge\">\n",
       "<title>....&#45;&gt;y1</title>\n",
       "<path fill=\"none\" stroke=\"black\" d=\"M342.61,-98.76C369.94,-112.8 417.95,-137.46 449.19,-153.52\"/>\n",
       "<polygon fill=\"black\" stroke=\"black\" points=\"447.81,-156.74 458.3,-158.2 451.01,-150.52 447.81,-156.74\"/>\n",
       "</g>\n",
       "<!-- ....&#45;&gt;. -->\n",
       "<g id=\"edge43\" class=\"edge\">\n",
       "<title>....&#45;&gt;.</title>\n",
       "<path fill=\"none\" stroke=\"black\" d=\"M347.01,-92.34C373.32,-96.85 414.7,-103.93 444.17,-108.98\"/>\n",
       "<polygon fill=\"black\" stroke=\"black\" points=\"443.61,-112.43 454.06,-110.67 444.79,-105.53 443.61,-112.43\"/>\n",
       "</g>\n",
       "<!-- node500(2)&#45;&gt;y10 -->\n",
       "<g id=\"edge36\" class=\"edge\">\n",
       "<title>node500(2)&#45;&gt;y10</title>\n",
       "<path fill=\"none\" stroke=\"black\" d=\"M375.49,-43.22C397.82,-47.04 423.14,-51.38 443.18,-54.81\"/>\n",
       "<polygon fill=\"black\" stroke=\"black\" points=\"442.69,-58.28 453.14,-56.52 443.88,-51.38 442.69,-58.28\"/>\n",
       "</g>\n",
       "<!-- node500(2)&#45;&gt;y1 -->\n",
       "<g id=\"edge40\" class=\"edge\">\n",
       "<title>node500(2)&#45;&gt;y1</title>\n",
       "<path fill=\"none\" stroke=\"black\" d=\"M341.64,-51.1C370.55,-75.85 423.97,-121.6 455.09,-148.25\"/>\n",
       "<polygon fill=\"black\" stroke=\"black\" points=\"452.99,-151.06 462.86,-154.91 457.55,-145.74 452.99,-151.06\"/>\n",
       "</g>\n",
       "<!-- node500(2)&#45;&gt;. -->\n",
       "<g id=\"edge44\" class=\"edge\">\n",
       "<title>node500(2)&#45;&gt;.</title>\n",
       "<path fill=\"none\" stroke=\"black\" d=\"M352.45,-49.81C380.34,-64.14 421.22,-85.14 448.98,-99.41\"/>\n",
       "<polygon fill=\"black\" stroke=\"black\" points=\"447.71,-102.69 458.21,-104.15 450.91,-96.47 447.71,-102.69\"/>\n",
       "</g>\n",
       "</g>\n",
       "</svg>\n"
      ],
      "text/plain": [
       "<graphviz.sources.Source at 0x7fc70ff19de0>"
      ]
     },
     "execution_count": 46,
     "metadata": {},
     "output_type": "execute_result"
    }
   ],
   "source": [
    "#collapse\n",
    "gv('''\n",
    "splines=line\n",
    "subgraph cluster_1{\n",
    "    style=filled;\n",
    "    color=lightgrey;\n",
    "    \"x1\"\n",
    "    \"x2\"\n",
    "    \"..\"\n",
    "    \"x784\"\n",
    "    label = \"Layer 0\"\n",
    "}\n",
    "subgraph cluster_2{\n",
    "    style=filled;\n",
    "    color=lightgrey;\n",
    "    \"x1\" -> \"node1\"\n",
    "    \"x2\" -> \"node1\"\n",
    "    \"..\" -> \"node1\"\n",
    "    \n",
    "    \"x784\" -> \"node1\"\n",
    "    \"x1\" -> \"node2\"\n",
    "    \"x2\" -> \"node2\"\n",
    "    \"..\" -> \"node2\"\n",
    "    \"x784\" -> \"node2\"\n",
    "    \n",
    "    \"x1\" -> \"...\"\n",
    "    \"x2\" -> \"...\"\n",
    "    \"..\" -> \"...\"\n",
    "    \"x784\" -> \"...\"\n",
    "\n",
    "    \"x1\" -> \"node500\"\n",
    "    \"x2\" -> \"node500\"\n",
    "    \"..\" -> \"node500\"\n",
    "    \"x784\" -> \"node500\"\n",
    "\n",
    "\n",
    "    label = \"Layer 1: relu\"\n",
    "}\n",
    "\n",
    "subgraph cluster_3{\n",
    "    style=filled;\n",
    "    color=lightgrey;\n",
    "\n",
    "    \"node1\" -> \"node1(2)\"\n",
    "    \"node2\" -> \"node1(2)\"\n",
    "    \"...\" -> \"node1(2)\"\n",
    "    \"node500\" -> \"node1(2)\"\n",
    "\n",
    "    \"node1\" -> \"node2(2)\"\n",
    "    \"node2\" -> \"node2(2)\"\n",
    "    \"...\" -> \"node2(2)\"\n",
    "    \"node500\" -> \"node2(2)\"\n",
    "    \n",
    "    \"node1\" -> \"....\"\n",
    "    \"node2\" -> \"....\"\n",
    "    \"...\" -> \"....\"\n",
    "    \"node500\" -> \"....\"\n",
    "    \n",
    "    \"node1\" -> \"node500(2)\"\n",
    "    \"node2\" -> \"node500(2)\"\n",
    "    \"...\" -> \"node500(2)\"\n",
    "    \"node500\" -> \"node500(2)\"\n",
    "\n",
    "    \n",
    "    label = \"Layer 2: relu\"\n",
    "}\n",
    "\n",
    "subgraph cluster_4{\n",
    "    style=filled;\n",
    "    color=lightgrey;\n",
    "\n",
    "    \"node1(2)\" -> \"y10\"\n",
    "    \"node2(2)\" -> \"y10\"\n",
    "    \"....\" -> \"y10\"\n",
    "    \"node500(2)\" -> \"y10\"\n",
    "    \n",
    "    \"node1(2)\" -> \"y1\"\n",
    "    \"node2(2)\" -> \"y1\"\n",
    "    \"....\" -> \"y1\"\n",
    "    \"node500(2)\" -> \"y1\"\n",
    "    \n",
    "    \"node1(2)\" -> \".\"\n",
    "    \"node2(2)\" -> \".\"\n",
    "    \"....\" -> \".\"\n",
    "    \"node500(2)\" -> \".\"\n",
    "    \n",
    "    label = \"Layer 3: softmax\"\n",
    "}\n",
    "''')"
   ]
  },
  {
   "cell_type": "code",
   "execution_count": 19,
   "id": "12c96921-4c89-47cb-9f86-70b8f73c3e79",
   "metadata": {
    "scrolled": true,
    "tags": []
   },
   "outputs": [
    {
     "name": "stdout",
     "output_type": "stream",
     "text": [
      "Epoch 1/50\n",
      "50/50 [==============================] - 0s 3ms/step - loss: 21.6114 - accuracy: 0.6873\n",
      "Epoch 2/50\n",
      "50/50 [==============================] - 0s 4ms/step - loss: 1.9454 - accuracy: 0.8038\n",
      "Epoch 3/50\n",
      "50/50 [==============================] - 0s 4ms/step - loss: 1.2467 - accuracy: 0.8200\n",
      "Epoch 4/50\n",
      "50/50 [==============================] - 0s 4ms/step - loss: 0.9279 - accuracy: 0.8338\n",
      "Epoch 5/50\n",
      "50/50 [==============================] - 0s 4ms/step - loss: 0.7468 - accuracy: 0.8440\n",
      "Epoch 6/50\n",
      "50/50 [==============================] - 0s 4ms/step - loss: 0.6406 - accuracy: 0.8524\n",
      "Epoch 7/50\n",
      "50/50 [==============================] - 0s 4ms/step - loss: 0.5412 - accuracy: 0.8641\n",
      "Epoch 8/50\n",
      "50/50 [==============================] - 0s 4ms/step - loss: 0.4863 - accuracy: 0.8701\n",
      "Epoch 9/50\n",
      "50/50 [==============================] - 0s 4ms/step - loss: 0.4325 - accuracy: 0.8758\n",
      "Epoch 10/50\n",
      "50/50 [==============================] - 0s 4ms/step - loss: 0.3925 - accuracy: 0.8847\n",
      "Epoch 11/50\n",
      "50/50 [==============================] - 0s 4ms/step - loss: 0.3656 - accuracy: 0.8880\n",
      "Epoch 12/50\n",
      "50/50 [==============================] - 0s 4ms/step - loss: 0.3400 - accuracy: 0.8934\n",
      "Epoch 13/50\n",
      "50/50 [==============================] - 0s 4ms/step - loss: 0.3162 - accuracy: 0.8977\n",
      "Epoch 14/50\n",
      "50/50 [==============================] - 0s 4ms/step - loss: 0.3022 - accuracy: 0.9010\n",
      "Epoch 15/50\n",
      "50/50 [==============================] - 0s 4ms/step - loss: 0.2865 - accuracy: 0.9053\n",
      "Epoch 16/50\n",
      "50/50 [==============================] - 0s 4ms/step - loss: 0.2684 - accuracy: 0.9091\n",
      "Epoch 17/50\n",
      "50/50 [==============================] - 0s 4ms/step - loss: 0.2525 - accuracy: 0.9133\n",
      "Epoch 18/50\n",
      "50/50 [==============================] - 0s 4ms/step - loss: 0.2436 - accuracy: 0.9150\n",
      "Epoch 19/50\n",
      "50/50 [==============================] - 0s 4ms/step - loss: 0.2191 - accuracy: 0.9232\n",
      "Epoch 20/50\n",
      "50/50 [==============================] - 0s 4ms/step - loss: 0.2219 - accuracy: 0.9219\n",
      "Epoch 21/50\n",
      "50/50 [==============================] - 0s 4ms/step - loss: 0.2038 - accuracy: 0.9285\n",
      "Epoch 22/50\n",
      "50/50 [==============================] - 0s 4ms/step - loss: 0.1929 - accuracy: 0.9315\n",
      "Epoch 23/50\n",
      "50/50 [==============================] - 0s 4ms/step - loss: 0.2142 - accuracy: 0.9244\n",
      "Epoch 24/50\n",
      "50/50 [==============================] - 0s 4ms/step - loss: 0.1926 - accuracy: 0.9309\n",
      "Epoch 25/50\n",
      "50/50 [==============================] - 0s 4ms/step - loss: 0.1936 - accuracy: 0.9312\n",
      "Epoch 26/50\n",
      "50/50 [==============================] - 0s 4ms/step - loss: 0.1723 - accuracy: 0.9382\n",
      "Epoch 27/50\n",
      "50/50 [==============================] - 0s 4ms/step - loss: 0.1918 - accuracy: 0.9326\n",
      "Epoch 28/50\n",
      "50/50 [==============================] - 0s 4ms/step - loss: 0.1628 - accuracy: 0.9414\n",
      "Epoch 29/50\n",
      "50/50 [==============================] - 0s 4ms/step - loss: 0.1566 - accuracy: 0.9430\n",
      "Epoch 30/50\n",
      "50/50 [==============================] - 0s 4ms/step - loss: 0.1588 - accuracy: 0.9419\n",
      "Epoch 31/50\n",
      "50/50 [==============================] - 0s 4ms/step - loss: 0.1419 - accuracy: 0.9467\n",
      "Epoch 32/50\n",
      "50/50 [==============================] - 0s 4ms/step - loss: 0.1319 - accuracy: 0.9517\n",
      "Epoch 33/50\n",
      "50/50 [==============================] - 0s 4ms/step - loss: 0.1315 - accuracy: 0.9518\n",
      "Epoch 34/50\n",
      "50/50 [==============================] - 0s 4ms/step - loss: 0.1455 - accuracy: 0.9478\n",
      "Epoch 35/50\n",
      "50/50 [==============================] - 0s 4ms/step - loss: 0.1329 - accuracy: 0.9517\n",
      "Epoch 36/50\n",
      "50/50 [==============================] - 0s 4ms/step - loss: 0.1206 - accuracy: 0.9563\n",
      "Epoch 37/50\n",
      "50/50 [==============================] - 0s 4ms/step - loss: 0.1237 - accuracy: 0.9542\n",
      "Epoch 38/50\n",
      "50/50 [==============================] - 0s 4ms/step - loss: 0.1229 - accuracy: 0.9542\n",
      "Epoch 39/50\n",
      "50/50 [==============================] - 0s 4ms/step - loss: 0.1178 - accuracy: 0.9562\n",
      "Epoch 40/50\n",
      "50/50 [==============================] - 0s 4ms/step - loss: 0.1184 - accuracy: 0.9569\n",
      "Epoch 41/50\n",
      "50/50 [==============================] - 0s 4ms/step - loss: 0.1140 - accuracy: 0.9569\n",
      "Epoch 42/50\n",
      "50/50 [==============================] - 0s 4ms/step - loss: 0.1120 - accuracy: 0.9586\n",
      "Epoch 43/50\n",
      "50/50 [==============================] - 0s 4ms/step - loss: 0.1142 - accuracy: 0.9583\n",
      "Epoch 44/50\n",
      "50/50 [==============================] - 0s 4ms/step - loss: 0.1070 - accuracy: 0.9611\n",
      "Epoch 45/50\n",
      "50/50 [==============================] - 0s 4ms/step - loss: 0.1374 - accuracy: 0.9519\n",
      "Epoch 46/50\n",
      "50/50 [==============================] - 0s 4ms/step - loss: 0.1146 - accuracy: 0.9593\n",
      "Epoch 47/50\n",
      "50/50 [==============================] - 0s 4ms/step - loss: 0.1168 - accuracy: 0.9579\n",
      "Epoch 48/50\n",
      "50/50 [==============================] - 0s 4ms/step - loss: 0.1101 - accuracy: 0.9602\n",
      "Epoch 49/50\n",
      "50/50 [==============================] - 0s 4ms/step - loss: 0.1121 - accuracy: 0.9595\n",
      "Epoch 50/50\n",
      "50/50 [==============================] - 0s 4ms/step - loss: 0.1041 - accuracy: 0.9610\n"
     ]
    },
    {
     "data": {
      "text/plain": [
       "<keras.callbacks.History at 0x7fdc1c6b1c60>"
      ]
     },
     "execution_count": 19,
     "metadata": {},
     "output_type": "execute_result"
    }
   ],
   "source": [
    "#collapse_output\n",
    "tf.random.set_seed(43052)\n",
    "net = tf.keras.Sequential()\n",
    "net.add(tf.keras.layers.Dense(500,activation='relu'))\n",
    "net.add(tf.keras.layers.Dense(500,activation='relu'))\n",
    "net.add(tf.keras.layers.Dense(10,activation='softmax'))\n",
    "net.compile(optimizer='adam',loss=tf.losses.categorical_crossentropy,metrics=['accuracy'])\n",
    "net.fit(X,y,epochs=50,batch_size=1200)"
   ]
  },
  {
   "cell_type": "code",
   "execution_count": 20,
   "id": "4d17c8ec-fc31-4980-8b03-3ef36c95d147",
   "metadata": {},
   "outputs": [
    {
     "name": "stdout",
     "output_type": "stream",
     "text": [
      "313/313 [==============================] - 1s 3ms/step - loss: 0.7063 - accuracy: 0.8620\n"
     ]
    },
    {
     "data": {
      "text/plain": [
       "[0.706275999546051, 0.8619999885559082]"
      ]
     },
     "execution_count": 20,
     "metadata": {},
     "output_type": "execute_result"
    }
   ],
   "source": [
    "net.evaluate(XX,yy)"
   ]
  },
  {
   "cell_type": "code",
   "execution_count": 21,
   "id": "b769659a-a0c8-4b60-90d5-4c065ce9de5b",
   "metadata": {},
   "outputs": [
    {
     "name": "stdout",
     "output_type": "stream",
     "text": [
      "Model: \"sequential_5\"\n",
      "_________________________________________________________________\n",
      " Layer (type)                Output Shape              Param #   \n",
      "=================================================================\n",
      " dense_12 (Dense)            (None, 500)               392500    \n",
      "                                                                 \n",
      " dense_13 (Dense)            (None, 500)               250500    \n",
      "                                                                 \n",
      " dense_14 (Dense)            (None, 10)                5010      \n",
      "                                                                 \n",
      "=================================================================\n",
      "Total params: 648,010\n",
      "Trainable params: 648,010\n",
      "Non-trainable params: 0\n",
      "_________________________________________________________________\n"
     ]
    }
   ],
   "source": [
    "net.summary()"
   ]
  },
  {
   "cell_type": "markdown",
   "id": "e9b2c42c-f5b9-4277-bd8b-7e8fbaef52bb",
   "metadata": {},
   "source": [
    "훨씬 파라미터를 많이 썼네!"
   ]
  },
  {
   "cell_type": "markdown",
   "id": "745313e3-f534-4b5d-b3e6-e001ce769ada",
   "metadata": {
    "id": "745313e3-f534-4b5d-b3e6-e001ce769ada"
   },
   "source": [
    "### 숙제 "
   ]
  },
  {
   "cell_type": "markdown",
   "id": "37b40647-fea9-4e14-a1d0-f03b32da5f4f",
   "metadata": {
    "id": "37b40647-fea9-4e14-a1d0-f03b32da5f4f"
   },
   "source": [
    "`-` 시도1,2에서 사용된 모형에서 각각 추정해야할 파라메터의 수를 구하고 비교하라. "
   ]
  },
  {
   "cell_type": "markdown",
   "id": "bb407bd3-72db-4eae-89f8-743f9e73636e",
   "metadata": {
    "id": "bb407bd3-72db-4eae-89f8-743f9e73636e"
   },
   "source": [
    "**hint: `net.summary()` 이용**"
   ]
  },
  {
   "cell_type": "markdown",
   "id": "1e178b7b-8389-490b-8403-f74edb7e60a7",
   "metadata": {},
   "source": [
    "시도 1"
   ]
  },
  {
   "cell_type": "code",
   "execution_count": 17,
   "id": "0aedba0e-4080-4eaf-8fdb-c871fe0d5938",
   "metadata": {},
   "outputs": [
    {
     "name": "stdout",
     "output_type": "stream",
     "text": [
      "Model: \"sequential_4\"\n",
      "_________________________________________________________________\n",
      " Layer (type)                Output Shape              Param #   \n",
      "=================================================================\n",
      " dense_10 (Dense)            (None, 30)                23550     \n",
      "                                                                 \n",
      " dense_11 (Dense)            (None, 10)                310       \n",
      "                                                                 \n",
      "=================================================================\n",
      "Total params: 23,860\n",
      "Trainable params: 23,860\n",
      "Non-trainable params: 0\n",
      "_________________________________________________________________\n"
     ]
    }
   ],
   "source": [
    "net.summary()"
   ]
  },
  {
   "cell_type": "code",
   "execution_count": 16,
   "id": "0e6deace-7ed7-4e86-99eb-5b19860f61f2",
   "metadata": {},
   "outputs": [
    {
     "name": "stdout",
     "output_type": "stream",
     "text": [
      "313/313 [==============================] - 1s 3ms/step - loss: 1.0963 - accuracy: 0.5930\n"
     ]
    },
    {
     "data": {
      "text/plain": [
       "[1.0962964296340942, 0.5929999947547913]"
      ]
     },
     "execution_count": 16,
     "metadata": {},
     "output_type": "execute_result"
    }
   ],
   "source": [
    "net.evaluate(XX,yy)"
   ]
  },
  {
   "cell_type": "markdown",
   "id": "08066eb3-b3d6-4b1d-950b-888194e287bc",
   "metadata": {},
   "source": [
    "시도 2"
   ]
  },
  {
   "cell_type": "code",
   "execution_count": 21,
   "id": "72b59244-eabd-4a53-87c1-9848bcc90a43",
   "metadata": {},
   "outputs": [
    {
     "name": "stdout",
     "output_type": "stream",
     "text": [
      "Model: \"sequential_5\"\n",
      "_________________________________________________________________\n",
      " Layer (type)                Output Shape              Param #   \n",
      "=================================================================\n",
      " dense_12 (Dense)            (None, 500)               392500    \n",
      "                                                                 \n",
      " dense_13 (Dense)            (None, 500)               250500    \n",
      "                                                                 \n",
      " dense_14 (Dense)            (None, 10)                5010      \n",
      "                                                                 \n",
      "=================================================================\n",
      "Total params: 648,010\n",
      "Trainable params: 648,010\n",
      "Non-trainable params: 0\n",
      "_________________________________________________________________\n"
     ]
    }
   ],
   "source": [
    "net.summary()"
   ]
  },
  {
   "cell_type": "code",
   "execution_count": 20,
   "id": "65175f8e-40b7-4ef5-b9c5-4e652fb4d4c8",
   "metadata": {},
   "outputs": [
    {
     "name": "stdout",
     "output_type": "stream",
     "text": [
      "313/313 [==============================] - 1s 3ms/step - loss: 0.7063 - accuracy: 0.8620\n"
     ]
    },
    {
     "data": {
      "text/plain": [
       "[0.706275999546051, 0.8619999885559082]"
      ]
     },
     "execution_count": 20,
     "metadata": {},
     "output_type": "execute_result"
    }
   ],
   "source": [
    "net.evaluate(XX,yy)"
   ]
  },
  {
   "cell_type": "markdown",
   "id": "5f3bf2b8-2971-426d-b185-0094d1f9c924",
   "metadata": {},
   "source": [
    "- 시도 2가 사용한 파라메터의 수가 더 많다.\n",
    "- 정확도는 시도 2가 더 높았다."
   ]
  },
  {
   "cell_type": "markdown",
   "id": "56881dce-e37c-47da-8d44-4a5306094392",
   "metadata": {
    "id": "56881dce-e37c-47da-8d44-4a5306094392",
    "tags": []
   },
   "source": [
    "## 평가지표"
   ]
  },
  {
   "cell_type": "markdown",
   "id": "44e1103c-8fb4-4cc4-9d83-323ff5761536",
   "metadata": {
    "id": "44e1103c-8fb4-4cc4-9d83-323ff5761536"
   },
   "source": [
    "### 다양한 평가지표들 "
   ]
  },
  {
   "cell_type": "markdown",
   "id": "0aeca2c1-d5b0-4760-8dfc-1d980bbe501e",
   "metadata": {
    "id": "0aeca2c1-d5b0-4760-8dfc-1d980bbe501e"
   },
   "source": [
    "`-` 의문: 왜 다양한 평가지표가 필요한가? (accuray면 끝나는거 아닌가? 더 이상 뭐가 필요해?)"
   ]
  },
  {
   "cell_type": "markdown",
   "id": "8b7f2f2f-c498-43da-8160-14fda54d4101",
   "metadata": {
    "id": "8b7f2f2f-c498-43da-8160-14fda54d4101"
   },
   "source": [
    "`-` 여러가지 평가지표들: https://en.wikipedia.org/wiki/Positive_and_negative_predictive_values\n",
    "- 이걸 다 암기하는건 불가능함. \n",
    "- 몇 개만 뽑아서 암기하고 왜 쓰는지만 생각해보고 넘어가자!"
   ]
  },
  {
   "cell_type": "markdown",
   "id": "3b177c93-1d52-4c48-bdb3-b063cae18903",
   "metadata": {
    "id": "3b177c93-1d52-4c48-bdb3-b063cae18903"
   },
   "source": [
    "### confusion matrix의 이해 "
   ]
  },
  {
   "cell_type": "markdown",
   "id": "3f08dbd0-8e0d-4e15-9434-ca4fd1a81e60",
   "metadata": {
    "id": "3f08dbd0-8e0d-4e15-9434-ca4fd1a81e60"
   },
   "source": [
    "`-` 표1"
   ]
  },
  {
   "cell_type": "markdown",
   "id": "e134e892-e919-461e-bbdd-1220b1a2ede1",
   "metadata": {
    "id": "e134e892-e919-461e-bbdd-1220b1a2ede1"
   },
   "source": [
    "| |퇴사(예측)|안나감(예측)|\n",
    "|:-:|:-:|:-:|\n",
    "|퇴사(실제)|TP|FN|\n",
    "|안나감(실제)| FP| TN|"
   ]
  },
  {
   "cell_type": "markdown",
   "id": "6e143205-c372-4b1c-a5f4-1d452d8a163e",
   "metadata": {},
   "source": [
    "True/Positive/False/Negative"
   ]
  },
  {
   "cell_type": "markdown",
   "id": "20973ab7-3221-46d9-a29b-1309fc03c416",
   "metadata": {
    "id": "20973ab7-3221-46d9-a29b-1309fc03c416"
   },
   "source": [
    "`-` 표2 (책에없음) "
   ]
  },
  {
   "cell_type": "markdown",
   "id": "9b61a75a-ce73-4c57-8fbb-d4845b697583",
   "metadata": {
    "id": "9b61a75a-ce73-4c57-8fbb-d4845b697583"
   },
   "source": [
    "| |퇴사(예측)|안나감(예측)|\n",
    "|:-:|:-:|:-:|\n",
    "|퇴사(실제)|$(y,\\hat{y})= $ (O,O)|$(y,\\hat{y})= $(O,X)|\n",
    "|안나감(실제)| $(y,\\hat{y})= $(X,O)| $(y,\\hat{y})= $(X,X)|"
   ]
  },
  {
   "cell_type": "markdown",
   "id": "901d550c-6ef2-4904-a6e3-005195092cc7",
   "metadata": {
    "id": "901d550c-6ef2-4904-a6e3-005195092cc7"
   },
   "source": [
    "`-` 표3 (책에없음) "
   ]
  },
  {
   "cell_type": "markdown",
   "id": "6d57f627-4707-4fc7-a37d-9ed2d1a1e046",
   "metadata": {
    "id": "6d57f627-4707-4fc7-a37d-9ed2d1a1e046"
   },
   "source": [
    "| |퇴사(예측)|안나감(예측)|\n",
    "|:-:|:-:|:-:|\n",
    "|퇴사(실제)|TP, $\\# O/O$ |FN, $\\#O/X$|\n",
    "|안나감(실제)| FP, $\\#X/O$| TN, $\\#X/X$|"
   ]
  },
  {
   "cell_type": "markdown",
   "id": "b2c32968-6720-4a44-abb0-ac984ce02fdc",
   "metadata": {
    "id": "b2c32968-6720-4a44-abb0-ac984ce02fdc"
   },
   "source": [
    "- 암기법, (1) 두번째 글자를 그대로 쓴다 (2) 첫글자가 T이면 분류를 제대로한것, 첫글자가 F이면 분류를 잘못한것"
   ]
  },
  {
   "cell_type": "markdown",
   "id": "760b7899-86ce-4c7d-b33c-4f28d6481dd2",
   "metadata": {
    "id": "760b7899-86ce-4c7d-b33c-4f28d6481dd2"
   },
   "source": [
    "`-` 표4 (위키등에 있음) "
   ]
  },
  {
   "cell_type": "markdown",
   "id": "6dcfba33-552b-48b6-a33c-2d6f353f94f8",
   "metadata": {
    "id": "6dcfba33-552b-48b6-a33c-2d6f353f94f8"
   },
   "source": [
    "| |퇴사(예측)|안나감(예측)| |\n",
    "|:-:|:-:|:-:|:-:|\n",
    "|퇴사(실제)| TP, $\\# O/O$ |FN, $\\# O/X$| Sensitivity(민감도)=Recall(재현율)=$\\frac{TP}{TP+FN}$=$\\frac{\\#O/O}{\\# O/O+ \\#O/X}$|\n",
    "|안나감(실제)| FP, $\\# X/O$| TN, $\\# X/X$| |\n",
    "| |Precision(프리시즌)=$\\frac{TP}{TP+FP}$=$\\frac{\\# O/O}{\\# O/O+\\# X/O}$| |Accuracy(애큐러시)=$\\frac{TP+TN}{total}$=$\\frac{\\#O/O+\\# X/X}{total}$|"
   ]
  },
  {
   "cell_type": "markdown",
   "id": "d6790646-6489-41d5-a55a-19b53714b68c",
   "metadata": {
    "id": "d6790646-6489-41d5-a55a-19b53714b68c"
   },
   "source": [
    "### 상황극 "
   ]
  },
  {
   "cell_type": "markdown",
   "id": "d8f8fefe-653b-4fac-8a5b-4685bbf1e91f",
   "metadata": {
    "id": "d8f8fefe-653b-4fac-8a5b-4685bbf1e91f"
   },
   "source": [
    "`-` 최규빈은 입사하여 \"퇴사자 예측시스템\"의 개발에 들어갔다. "
   ]
  },
  {
   "cell_type": "markdown",
   "id": "d186fefe-7229-4c1d-908d-f41012e62bdb",
   "metadata": {
    "id": "d186fefe-7229-4c1d-908d-f41012e62bdb"
   },
   "source": [
    "`-` 자료의 특성상 대부분의 사람이 퇴사하지 않고 회사에 잘 다닌다. 즉 1000명이 있으면 10명정도 퇴사한다. "
   ]
  },
  {
   "cell_type": "markdown",
   "id": "315b79c7-9c45-4c6d-bbe0-02630068db97",
   "metadata": {
    "id": "315b79c7-9c45-4c6d-bbe0-02630068db97"
   },
   "source": [
    "### Accuracy"
   ]
  },
  {
   "cell_type": "markdown",
   "id": "4c3fb5c4-d1e2-48cb-9aea-82f7afc0b33a",
   "metadata": {
    "id": "4c3fb5c4-d1e2-48cb-9aea-82f7afc0b33a"
   },
   "source": [
    "`-` 정의: Accuracy(애큐러시)=$\\frac{TP+TN}{total}$=$\\frac{\\#O/O+ \\#X/X}{total}$\n",
    "- 한국말로는 정확도, 정분류율이라고 한다. \n",
    "- 한국말이 헷갈리므로 그냥 영어를 외우는게 좋다. (어차피 Keras에서 옵션도 영어로 넣음) "
   ]
  },
  {
   "cell_type": "markdown",
   "id": "0f113d5d-4523-488c-ae19-58168a0e7708",
   "metadata": {
    "id": "0f113d5d-4523-488c-ae19-58168a0e7708"
   },
   "source": [
    "`-` (상확극 시점1) 왜 애큐러시는 불충분한가?\n",
    "- 회사: 퇴사자예측프로그램 개발해\n",
    "- 최규빈: 귀찮은데 다 안 나간다고 하자! -> 99퍼의 accuracy \n",
    "\n",
    "> 모델에 사용한 파라메터 = 0. 그런데 애큐러시 = 99! 이거 엄청 좋은 모형이다? \n",
    "\n",
    "\n",
    "예측이 아니라.. 예상으로 그칠 듯, 결과와 비교하면? 맞지도 않을걸"
   ]
  },
  {
   "cell_type": "markdown",
   "id": "da1af1f5-7fd0-4985-a21b-4bb78b1b1b0c",
   "metadata": {
    "id": "da1af1f5-7fd0-4985-a21b-4bb78b1b1b0c"
   },
   "source": [
    "### Sensitivity(민감도), Recall(재현율), True Positive Rate(TPR)"
   ]
  },
  {
   "cell_type": "markdown",
   "id": "af74cefd-38de-4d46-bcf5-45dc840442da",
   "metadata": {
    "id": "af74cefd-38de-4d46-bcf5-45dc840442da"
   },
   "source": [
    "`-` 정의: Sensitivity(민감도)=Recall(재현율)=$\\frac{TP}{TP+FN}$=$\\frac{\\# O/O}{\\# O/O+\\# O/X}$\n",
    "- 분모: 실제 O인 관측치 수 \n",
    "- 분자: 실제 O를 O라고 예측한 관측치 수 \n",
    "- 뜻: 실제 O를 O라고 예측한 비율"
   ]
  },
  {
   "cell_type": "markdown",
   "id": "ebe6de05-f3e5-4ad9-aa73-5d855512331e",
   "metadata": {
    "id": "ebe6de05-f3e5-4ad9-aa73-5d855512331e"
   },
   "source": [
    "`-` (상황극 시점2) recall을 봐야하는 이유\n",
    "- 인사팀: 실제 퇴사자를 퇴사자로 예측해야 의미가 있음! 우리는 퇴사할것 같은 10명을 찍어달란 의미였어요! (그래야 면담을 하든 할거아냐!) \n",
    "- 최규빈: 가볍고(=파라메터 적고) 잘 맞추는 모형 만들어 달라면서요?\n"
   ]
  },
  {
   "cell_type": "markdown",
   "id": "9750589e-07b1-48a8-a682-4a203075173a",
   "metadata": {
    "id": "9750589e-07b1-48a8-a682-4a203075173a"
   },
   "source": [
    "- 인사팀: (고민중..) 사실 생각해보니까 이 경우는 애큐러시는 의미가 없네. 실제 나간 사람 중 최규빈이 나간다고 한 사람이 몇인지 카운트 하는게 더 의미가 있겠다. 우리는 앞으로 리컬(혹은 민감도)를 보겠다! \n",
    "\n",
    "> 예시1: 실제로 퇴사한 10명중 최규빈이 나간다고 찍은 사람이 5명이면 리컬이 50% \n",
    "\n",
    "> 예시2: 최규빈이 아무도 나가지 않는다고 예측해버린다? 실제 10명중에서 최규빈이 나간다고 적중시킨사람은 0명이므로 이 경우 리컬은 0%"
   ]
  },
  {
   "cell_type": "markdown",
   "id": "1bc361ae-c0c0-4946-a75f-6bb3127374f4",
   "metadata": {
    "id": "1bc361ae-c0c0-4946-a75f-6bb3127374f4"
   },
   "source": [
    "- 결론: 우리가 필요한건 recall이니까 앞으로 recall을 가져와! accuracy는 큰 의미없어. (그래도 명색이 모델인데 accuracy가 90은 되면 좋겠다)"
   ]
  },
  {
   "cell_type": "markdown",
   "id": "c363653f-3754-45c2-ad44-dcd2dac77ddd",
   "metadata": {
    "id": "c363653f-3754-45c2-ad44-dcd2dac77ddd"
   },
   "source": [
    "### Precision"
   ]
  },
  {
   "cell_type": "markdown",
   "id": "4c860208-82fe-4ef0-8501-f523df342349",
   "metadata": {
    "id": "4c860208-82fe-4ef0-8501-f523df342349"
   },
   "source": [
    "`-` 정의: Precision(프리시즌)=$\\frac{TP}{TP+FP}$=$\\frac{\\# O/O}{\\# O/O+\\# X/O}$\n",
    "- 분모: O라고 예측한 관측치\n",
    "- 분자: O라고 예측한 관측치중 진짜 O인 관측치 \n",
    "- 뜻: O라고 예측한 관측치중 진짜 O인 비율"
   ]
  },
  {
   "cell_type": "markdown",
   "id": "921094c0-0baa-4123-9fdb-825940d47a7f",
   "metadata": {
    "id": "921094c0-0baa-4123-9fdb-825940d47a7f"
   },
   "source": [
    "`-` (상황극 시점3) recall 만으로 불충분한 이유\n",
    "\n",
    "- 최규빈: 에휴.. 귀찮은데 그냥 좀만 수틀리면 다 나갈것 같다고 해야겠다. -> 한 100명 나간다고 했음 -> 실제로 최규빈이 찍은 100명중에 10명이 다 나감!\n",
    "    - 0.1만 넘어도 나간다고 해버리면?"
   ]
  },
  {
   "cell_type": "markdown",
   "id": "62337a64-6c48-4c1e-b7d1-935b308702c4",
   "metadata": {
    "id": "62337a64-6c48-4c1e-b7d1-935b308702c4"
   },
   "source": [
    "> 이 경우 애큐러시는 91%, 리컬은 100% (퇴사자 10명을 일단은 다 맞췄으므로). "
   ]
  },
  {
   "cell_type": "markdown",
   "id": "9552c5bb-dc5b-454a-9e85-c78f51b71a12",
   "metadata": {
    "id": "9552c5bb-dc5b-454a-9e85-c78f51b71a12"
   },
   "source": [
    "- 인사팀: (화가 많이 남) 멀쩡한 사람까지 다 퇴사할 것 같다고 하면 어떡해요? 최규빈 연구원이 나간다고 한 100명중에 실제로 10명만 나갔어요. \n",
    "\n",
    "- 인사팀: 마치 총으로 과녁중앙에 맞춰 달라고 했더니 기관총을 가져와서 한번 긁은것이랑 뭐가 달라요? 맞추는게 문제가 아니고 precision이 너무 낮아요. "
   ]
  },
  {
   "cell_type": "markdown",
   "id": "1a77c5a8-93d7-468a-b6f9-9eea8c519d1d",
   "metadata": {
    "id": "1a77c5a8-93d7-468a-b6f9-9eea8c519d1d"
   },
   "source": [
    "- 최규빈: accuracy 90% 이상, recall은 높을수록 좋다는게 주문 아니었나요? "
   ]
  },
  {
   "cell_type": "markdown",
   "id": "854eb2a6-07c4-4509-baaa-1715ea98289e",
   "metadata": {
    "id": "854eb2a6-07c4-4509-baaa-1715ea98289e"
   },
   "source": [
    "- 인사팀: (고민중..) 앞으로는 recall과 함께 precision도 같이 제출하세요. precision은 당신이 나간다고 한 사람중에 실제 나간사람의 비율을 의미해요. 이 경우는 $\\frac{10}{100}$이니까 precision이 10%입니다. (속마음: recall 올리겠다고 무작정 너무 많이 예측하지 말란 말이야!) "
   ]
  },
  {
   "cell_type": "markdown",
   "id": "c7c84d80-ac8d-43c4-9ead-6270d14ba9e6",
   "metadata": {
    "id": "c7c84d80-ac8d-43c4-9ead-6270d14ba9e6"
   },
   "source": [
    "### F1 score "
   ]
  },
  {
   "cell_type": "markdown",
   "id": "21bf3b4c-56ee-45ec-9eab-b86bad04c16b",
   "metadata": {
    "id": "21bf3b4c-56ee-45ec-9eab-b86bad04c16b"
   },
   "source": [
    "`-` 정의: recall과 precision의 조화평균 "
   ]
  },
  {
   "cell_type": "markdown",
   "id": "6c1d9e51-51a0-4574-ab82-085f59f3baec",
   "metadata": {
    "id": "6c1d9e51-51a0-4574-ab82-085f59f3baec"
   },
   "source": [
    "`-` (상황극 시점4) recall, precision을 모두 고려 "
   ]
  },
  {
   "cell_type": "markdown",
   "id": "21d8c192-4831-472b-8e1e-03117d13e6dc",
   "metadata": {
    "id": "21d8c192-4831-472b-8e1e-03117d13e6dc"
   },
   "source": [
    "- 최규빈: recall/precision을 같이 내는건 좋은데요, 둘은 trade off의 관계에 있습니다. 물론 둘다 올리는 모형이 있다면 좋지만 그게 쉽지는 않아요. 보통은 precision을 올리려면 recall이 희생되는 면이 있고요, recall을 올리려고 하면 precision이 다소 떨어집니다. \n",
    "\n",
    "- 최규빈: 평가기준이 애매하다는 의미입니다. 모형1,2가 있는데 모형1은 모형2보다 precision이 약간 좋고 대신 recall이 떨어진다면 모형1이 좋은것입니까? 아니면 모형2가 좋은것입니까? "
   ]
  },
  {
   "cell_type": "markdown",
   "id": "6c809454-ce58-4a16-8517-a0bdf0e63538",
   "metadata": {
    "id": "6c809454-ce58-4a16-8517-a0bdf0e63538"
   },
   "source": [
    "- 인사팀: 그렇다면 둘을 평균내서 F1score를 계산해서 제출해주세요. "
   ]
  },
  {
   "cell_type": "markdown",
   "id": "e1ebff1a-cea1-4bd5-8014-c6709924042d",
   "metadata": {
    "id": "e1ebff1a-cea1-4bd5-8014-c6709924042d"
   },
   "source": [
    "### Specificity(특이도), False Positive Rate(FPR) "
   ]
  },
  {
   "cell_type": "markdown",
   "id": "ce0e8e51-43af-4a32-8a50-5e6b6d53e83e",
   "metadata": {
    "id": "ce0e8e51-43af-4a32-8a50-5e6b6d53e83e"
   },
   "source": [
    "`-` 정의: \n",
    "\n",
    "(1) Specificity(특이도)=$\\frac{TN}{FP+TN}$=$\\frac{\\# X/X}{\\# X/O+\\# X/X}$\n",
    "\n",
    "(2) False Positive Rate (FPR) = 1-Specificity(특이도) = $\\frac{FP}{FP+TN}$=$\\frac{\\# X/O}{\\# X/O+\\# X/X}$"
   ]
  },
  {
   "cell_type": "markdown",
   "id": "46bed8ac-e7c1-43d3-b28c-b68c5fa9dfd8",
   "metadata": {
    "id": "46bed8ac-e7c1-43d3-b28c-b68c5fa9dfd8"
   },
   "source": [
    "`-` 의미: **FPR = 오해해서 미안해, recall(=TPR)을 올리려고 보니 어쩔 수 없었어 ㅠㅠ**\n",
    "- specificity는 안나간 사람을 안나갔다고 찾아낸 비율인데 별로 안중요하다. \n",
    "- FPR은 recall을 올리기 위해서 \"실제로는 회사 잘 다니고 있는 사람 중 최규빈이 나갈것 같다고 찍은 사람들\" 의 비율이다. "
   ]
  },
  {
   "cell_type": "markdown",
   "id": "df9f85db-c924-4c72-a41f-a1ebea2e86bb",
   "metadata": {
    "id": "df9f85db-c924-4c72-a41f-a1ebea2e86bb"
   },
   "source": [
    "> 즉 생사람잡은 비율.. 오해해서 미안한 사람의 비율.. (recall 올리다가 희생된 사람)"
   ]
  },
  {
   "cell_type": "markdown",
   "id": "f1353132-53d5-43ee-a056-1a6eaae00a60",
   "metadata": {
    "id": "f1353132-53d5-43ee-a056-1a6eaae00a60"
   },
   "source": [
    "### ROC curve "
   ]
  },
  {
   "cell_type": "markdown",
   "id": "ec1813b5-402b-403e-b164-6c77ddbf7292",
   "metadata": {
    "id": "ec1813b5-402b-403e-b164-6c77ddbf7292"
   },
   "source": [
    "`-` 정의: $x$축=FPR, $y$축=TPR 을 그린 커브 "
   ]
  },
  {
   "cell_type": "markdown",
   "id": "39139e17-7ff1-406d-a885-3a142d097fc1",
   "metadata": {
    "id": "39139e17-7ff1-406d-a885-3a142d097fc1"
   },
   "source": [
    "`-` 의미: \n",
    "- 결국 \"오해해서 미안해 vs recall\"을 그린 곡선이 ROC커브이다. \n",
    "- 생각해보면 오해하는 사람이 많을수록 당연히 recall은 올라간다. 따라서 우상향하는 곡선이다. \n",
    "- 오해한 사람이 매우 적은데 recall이 우수하면 매우 좋은 모형이다. 그래서 초반부터 ROC값이 급격하게 올라가면 좋은 모형이다. "
   ]
  },
  {
   "cell_type": "markdown",
   "id": "11a918f4-2af5-4b3e-8d35-51dd3ce5bbd6",
   "metadata": {},
   "source": [
    "![](https://raw.githubusercontent.com/angeloyeo/angeloyeo.github.io/master/pics/2020-08-05-ROC/pic1.png)"
   ]
  },
  {
   "cell_type": "markdown",
   "id": "cc83f5dc-1bbf-4200-a30e-abc171470dcb",
   "metadata": {},
   "source": [
    "### fashion_mnist (revisit)"
   ]
  },
  {
   "cell_type": "code",
   "execution_count": 22,
   "id": "2472d15f-6718-4ba3-94b5-13bed81a790b",
   "metadata": {},
   "outputs": [],
   "source": [
    "import tensorflow as tf \n",
    "import tensorflow.experimental.numpy as tnp"
   ]
  },
  {
   "cell_type": "code",
   "execution_count": 23,
   "id": "d4994f42-65ef-4389-ae4e-6405593d1aae",
   "metadata": {},
   "outputs": [],
   "source": [
    "tnp.experimental_enable_numpy_behavior()"
   ]
  },
  {
   "cell_type": "code",
   "execution_count": 24,
   "id": "ddc9fc12-0d38-42a2-bf30-7b0ca7227fd4",
   "metadata": {},
   "outputs": [],
   "source": [
    "import matplotlib.pyplot as plt"
   ]
  },
  {
   "cell_type": "markdown",
   "id": "8e995f3c-6d1d-4b09-b832-2a1822151a87",
   "metadata": {},
   "source": [
    "`-` fashion mnist data 다시 불러오자"
   ]
  },
  {
   "cell_type": "code",
   "execution_count": 25,
   "id": "f10892d2-fa2b-43f8-ae03-b93c617f25dd",
   "metadata": {},
   "outputs": [],
   "source": [
    "(x_train, y_train), (x_test, y_test) = tf.keras.datasets.fashion_mnist.load_data()"
   ]
  },
  {
   "cell_type": "code",
   "execution_count": 26,
   "id": "55e3898f-7021-4dd5-83cf-5ece5dc3173e",
   "metadata": {},
   "outputs": [
    {
     "data": {
      "text/plain": [
       "(60000, 28, 28)"
      ]
     },
     "execution_count": 26,
     "metadata": {},
     "output_type": "execute_result"
    }
   ],
   "source": [
    "x_train.shape"
   ]
  },
  {
   "cell_type": "markdown",
   "id": "eb44531b-9bb9-4e9d-8e5c-8a002bdffe10",
   "metadata": {},
   "source": [
    "- 이미지는 원래 가로픽셀 세로픽셀 3 이어야 한다. (색을 표현하는 basis는 빨,녹,파)"
   ]
  },
  {
   "cell_type": "markdown",
   "id": "bfb4c3e2-2d86-4e13-8bd1-7de7927203fa",
   "metadata": {},
   "source": [
    "`-`- 따라서 이미지의 차원이 단지 (28,28)이라는 것은 흑백이미지라는 뜻이다."
   ]
  },
  {
   "cell_type": "code",
   "execution_count": 27,
   "id": "1f2b10bb-f3f9-4715-96e4-79369533a5c8",
   "metadata": {},
   "outputs": [
    {
     "data": {
      "text/plain": [
       "<matplotlib.image.AxesImage at 0x7fdc1c42db40>"
      ]
     },
     "execution_count": 27,
     "metadata": {},
     "output_type": "execute_result"
    },
    {
     "data": {
      "image/png": "[encoded data removed]",
      "text/plain": [
       "<Figure size 432x288 with 1 Axes>"
      ]
     },
     "metadata": {
      "needs_background": "light"
     },
     "output_type": "display_data"
    }
   ],
   "source": [
    "plt.imshow(x_train[0]) "
   ]
  },
  {
   "cell_type": "markdown",
   "id": "cb9f5da0-fdc6-4a2b-8304-75d8800be902",
   "metadata": {},
   "source": [
    "- 아닌데요?! 칼라인데요?! -> 흑백이다. 그냥 밝을수록 노란색, 어두울수록 남색으로 표현한것 뿐임 (colormap이 viridis일 뿐임)"
   ]
  },
  {
   "cell_type": "markdown",
   "id": "538e4fe7-7e83-48d6-97ad-b9c3b621bf4f",
   "metadata": {},
   "source": [
    "`-` 일반적으로 분석할 이미지는 칼라를 의미하는 채널도 포함할테니 아래와 같이 자료형을 정리하는게 일반적으로 이미지 자료를 분석하는 정석적인 처리방법이다."
   ]
  },
  {
   "cell_type": "code",
   "execution_count": 29,
   "id": "ad3b328c-ef10-491f-9c61-6bb09388b464",
   "metadata": {},
   "outputs": [],
   "source": [
    "X = tf.constant(x_train.reshape(-1,28,28,1),dtype=tf.float64)\n",
    "y = tf.keras.utils.to_categorical(y_train)\n",
    "XX = tf.constant(x_test.reshape(-1,28,28,1),dtype=tf.float64)\n",
    "yy = tf.keras.utils.to_categorical(y_test)"
   ]
  },
  {
   "cell_type": "code",
   "execution_count": 30,
   "id": "e76b4155-fef6-48b4-876e-0444be37cae3",
   "metadata": {},
   "outputs": [
    {
     "data": {
      "text/plain": [
       "(TensorShape([60000, 28, 28, 1]), TensorShape([10000, 28, 28, 1]))"
      ]
     },
     "execution_count": 30,
     "metadata": {},
     "output_type": "execute_result"
    }
   ],
   "source": [
    "X.shape, XX.shape"
   ]
  },
  {
   "cell_type": "markdown",
   "id": "d74c9939-2aba-4994-82b3-bbf030b31f0c",
   "metadata": {},
   "source": [
    "- keras에서 이미지자료는 (관측치수,픽셀,픽셀,채널)과 같은 형식을 가진다.\n",
    "- 예를들어 256*256 size인 칼라이미지(채널수=3)가 10개 있다면 X.shape은 (10,256,256,3)이다."
   ]
  },
  {
   "cell_type": "markdown",
   "id": "a4ff9e47-b8b8-4567-9108-a8d43de84395",
   "metadata": {},
   "source": [
    "### X의 차원이 (관측치수,픽셀,픽셀,채널)일 경우 DNN 쓰기"
   ]
  },
  {
   "cell_type": "code",
   "execution_count": null,
   "id": "a8ba7cb7-8c9e-4b5e-b39a-b4df150ec3e7",
   "metadata": {},
   "outputs": [],
   "source": []
  }
 ],
 "metadata": {
  "colab": {
   "name": "Untitled.ipynb",
   "provenance": []
  },
  "kernelspec": {
   "display_name": "Python 3 (ipykernel)",
   "language": "python",
   "name": "python3"
  },
  "language_info": {
   "codemirror_mode": {
    "name": "ipython",
    "version": 3
   },
   "file_extension": ".py",
   "mimetype": "text/x-python",
   "name": "python",
   "nbconvert_exporter": "python",
   "pygments_lexer": "ipython3",
   "version": "3.10.0"
  }
 },
 "nbformat": 4,
 "nbformat_minor": 5
}
