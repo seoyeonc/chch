{
 "cells": [
  {
   "cell_type": "markdown",
   "id": "069214ad-cd4c-4b4b-97b3-e2768545767b",
   "metadata": {},
   "source": [
    "# 생물통계학 기말 과제\n",
    "> Effect of Sunscreen Application Under Maximal Use Conditions on Plasma Concentration of Sunscreen Active Ingredients A Randomized Clinical Trial\n",
    "\n",
    "- toc:true\n",
    "- branch: master\n",
    "- badges: true\n",
    "- comments: false\n",
    "- author: 최서연"
   ]
  },
  {
   "cell_type": "markdown",
   "id": "323c4606-e431-4643-af13-498ef3348d77",
   "metadata": {},
   "source": [
    "# Effect of Sunscreen Application Under Maximal Use Conditions on Plasma Concentration of Sunscreen Active Ingredients A Randomized Clinical Trial"
   ]
  },
  {
   "cell_type": "markdown",
   "id": "103de9ed-0f06-4eb6-8a77-4316a9d49620",
   "metadata": {},
   "source": [
    "Murali K. Matta, PhD; Robbert Zusterzeel, MD, PhD, MPH; Nageswara R. Pilli, PhD; Vikram Patel, PhD; Donna A. Volpe, PhD; Jeffry Florian, PhD; Luke Oh, PhD; Edward Bashaw, PharmD; Issam Zineh, PharmD, MPH; Carlos Sanabria, MD; Sarah Kemp, RN; Anthony Godfrey, PharmD Steven Adah, PhD; Sergio Coelho, PhD; Jian Wang, PhD; Lesley-Anne Furlong, MD; Charles Ganley, MD; Theresa Michele, MD; David G. Strauss, MD, PhD"
   ]
  },
  {
   "cell_type": "markdown",
   "id": "2e9c6a7d-e216-4564-8358-edbfb677adc0",
   "metadata": {},
   "source": [
    "ref: https://jamanetwork.com/journals/jama/fullarticle/2733085"
   ]
  },
  {
   "cell_type": "markdown",
   "id": "656340b7-2349-4968-a576-debc10698ce8",
   "metadata": {
    "tags": []
   },
   "source": [
    "## A. Title and abstract"
   ]
  },
  {
   "cell_type": "markdown",
   "id": "11f8db15-acf0-4541-a440-510ce4bc1164",
   "metadata": {},
   "source": [
    "### 1. Is the trial identified as a RCT in the title?"
   ]
  },
  {
   "cell_type": "markdown",
   "id": "ac982838-7030-496e-b7c6-ea3a25faec46",
   "metadata": {},
   "source": [
    "> Answer: title에 RCT가 명시되어 있다.\n",
    "- title: Effect of Sunscreen Application Under Maximal Use Conditions on Plasma Concentration of Sunscreen Active Ingredients **A Randomized Clinical Trial**,"
   ]
  },
  {
   "cell_type": "markdown",
   "id": "9afd1701-78f2-47ce-9f9e-0a6caddc11c0",
   "metadata": {},
   "source": [
    "### 2. Does the abstract summaries the trial’s primary objective, design, methods, results and conclusions?"
   ]
  },
  {
   "cell_type": "markdown",
   "id": "433319b3-3fee-40fc-bdcf-d4a8b77146a8",
   "metadata": {},
   "source": [
    "> Answer: abstract에 the trial’s primary objective, design, methods, results and conclusions 가 요약되어 있었다. **primary objective**는 시중에 판매되는 4가지 자외선 차단제의 활성 성분이 전신 순환계에 흡수되는지 보기 위함이다. **design**은 무작위 임상시험으로, 24명의 건강한 자원자들을 대상으로 진행되었다. **methods**는 4가지 성분의 최대 혈장 농도를 보는 것이었다. **results**는 4개 제품이 모두 0.5ng/mL 이상의 전신 농도에 도달했다는 것이며, 이상반응은 발진이  있었다. **conclusions**은 최대 사용 조건 아래 시중에 판매되는 4가지 자외선 차단제를 적용한 결과 혈장 농도가 자외선 차단제에 대한 일부 비임상 독성 연구들을 잠재적으로 중단하기 위한 임계값을 초과하여 이 발견의 임상적 중요성을 결정하기 위해 더 많은 연구가 필요하다는 것을 시사하는 것이었다."
   ]
  },
  {
   "cell_type": "markdown",
   "id": "1c4b89c4-6d17-47c8-8d67-0d79ce88de89",
   "metadata": {},
   "source": [
    "## B. Introduction"
   ]
  },
  {
   "cell_type": "markdown",
   "id": "8776c248-4eef-4d85-83f6-7c007f602d19",
   "metadata": {},
   "source": [
    "### 1. Is a proper description provided of the scientific background, and is the rationale for the trial explained sufficiently? Has all the relevant information from previous studies and other available evidence been included?"
   ]
  },
  {
   "cell_type": "markdown",
   "id": "bcae57e2-4ba0-4d8b-9261-61de3aa4c973",
   "metadata": {},
   "source": [
    "> Answer: 이전 연구들에 대한 언급은 찾을 수 없었지만, 식약청의 지침을 기반으로 시험이 필요한 이유를 서술하고 있었다. FDA에서는 자외선 차단제 가이던스는 피부 발암성 및 배태자 독성을 포함한 최대 사용 시험 및 비임상 안전성 평가로 자외선 차단제 성분의 인체 전신 흡수 평가를 추천하였다. FDA의 자외선 차단제 지침과 otc 자외선 차단제 모노그래프에 대한 제안된 규칙에 따라 **인간 약동학 최대 사용 시험의 결과가 0.5ng/mL 미만의 정상 상태 혈액 수준을 나타내는 경우 일부 비임상 독성 연구를 중단할 수 있음을 시사**했다."
   ]
  },
  {
   "cell_type": "markdown",
   "id": "6a5dd05c-2569-4c76-951e-65d9c1f2c531",
   "metadata": {},
   "source": [
    "### 2. Is the primary aim of the trial indicated, preferably in relation to a relevant hypothesis based on the outcome of interest, and are secondary objectives described?"
   ]
  },
  {
   "cell_type": "markdown",
   "id": "8cf9ba78-5a7d-428b-b126-05d291235a64",
   "metadata": {},
   "source": [
    "> Answer: primary aim은 찾을 수 있었지만, secondary objective는 없었다. 목적은 **최대 사용 조건에서 서로 다른 제형 유형의 4개 자외선 차단제에 대한 활성 성분의 전신 흡수를 측정하는 것**이었다."
   ]
  },
  {
   "cell_type": "markdown",
   "id": "598e391e-3079-4d9a-81ea-7896cbd6bca2",
   "metadata": {
    "tags": []
   },
   "source": [
    "## C. Methods"
   ]
  },
  {
   "cell_type": "markdown",
   "id": "3e9ece4e-e62a-4dae-88b9-08c5f017e6e0",
   "metadata": {},
   "source": [
    "### 1. Trial design Is the trial design described adequately? Are any aspects of the design utilized to avoid bias fully described? For example:"
   ]
  },
  {
   "cell_type": "markdown",
   "id": "aea1fb44-812d-4007-b4c7-63d580e141be",
   "metadata": {},
   "source": [
    "#### a) Randomization. Are full details of the randomization process provided, including the method used to generate the random allocation sequence, the type of randomization, steps taken to conceal the allocation sequence and details of the implementation of the randomization (e.g. who enrolled the participants and who assigned the participants to the interventions)?"
   ]
  },
  {
   "cell_type": "markdown",
   "id": "8f69d456-3975-4eab-bf29-e9d5f51158c9",
   "metadata": {},
   "source": [
    "#### b) Blinding. To what extent was the study blind? If relevant, is a description provided of the similarity of the interventions)?"
   ]
  },
  {
   "cell_type": "markdown",
   "id": "2ba40030-3f87-4dff-b609-c5dae0e25f66",
   "metadata": {},
   "source": [
    "#### c) Allocation concealment. Was the allocation sequence concealed from the staff who recruited patients for the trial?"
   ]
  },
  {
   "cell_type": "markdown",
   "id": "37489888-3456-42e6-9214-219f78a4c8b7",
   "metadata": {},
   "source": [
    "> Answer: **randomization 연구**인 것을 확인할 수 있었다. block size는 4로 무작위 배정이 진행되었으며, 연구에서 사용되는 treatment는 spray,lotion,cream 형 자외선 차단제이므로 제형에 차이가 구별되기 때문에 대상자들과 시험자들은 눈가림이 없이 진행되었다고 서술되었다."
   ]
  },
  {
   "cell_type": "markdown",
   "id": "00a3948a-c998-4e4e-aed5-2b8aa37056f3",
   "metadata": {
    "tags": []
   },
   "source": [
    "### 2. Participants"
   ]
  },
  {
   "cell_type": "markdown",
   "id": "b595c983-c2f7-4fe6-9c2b-069ce3241517",
   "metadata": {},
   "source": [
    "#### a) Is there a complete description of the eligibility (inclusion and exclusion) criteria for the participants?"
   ]
  },
  {
   "cell_type": "markdown",
   "id": "32cdaee9-918b-4e9b-87fb-69158779a80f",
   "metadata": {},
   "source": [
    "> Answer: 선정/제외기준을 찾을 수 있었다. **선정 기준**은 BMI가 18.5~29.9 사이이고, 알코올 및 남용 약물에 대한 음성 테스트 결과를 가진, 자외선 차단제 제형의 구성 요소에 대한 알려진 혹은 의심되는 알레르기나 민감성이 없는 18세에서 60세 사이의 대상자였다. **제외 기준**은 손상되거나, 자극받았거나, 치유되지 않은 피부를 가지거나, 활성 햇빛 화상을 가지거나, 활성 자가면역 질환, 빈혈, 혈액 표본에 영향을 주는 다른 만성 조건을 가진 대상자였다. 또한, 나열된 활성 성분들을 가진 제품들이나 나열된 자외선 차단제 제품들을 사용하는 참가자들은 등록에서 제외되었다."
   ]
  },
  {
   "cell_type": "markdown",
   "id": "7261dc69-cdf5-4e87-be67-8ee7c72bb205",
   "metadata": {
    "tags": []
   },
   "source": [
    "#### b) Was the study conducted using an appropriate spectrum of patients?"
   ]
  },
  {
   "cell_type": "markdown",
   "id": "c67dfe0d-7e87-4202-a9f9-b7162f5b0294",
   "metadata": {},
   "source": [
    "> Answer: 대상자들의 모집 경로(온라인, 이메일 등)에 대해 찾을 수 있었고, **공개 모집**되었기 때문에 대상자들이 appropriate spectrum을 가지고 모집되었다."
   ]
  },
  {
   "cell_type": "markdown",
   "id": "dd7569e7-327f-4a01-9886-e43957047673",
   "metadata": {},
   "source": [
    "### 3. Interventions"
   ]
  },
  {
   "cell_type": "markdown",
   "id": "df2bca74-cfaa-49d6-b7e4-3b219cb1f650",
   "metadata": {},
   "source": [
    "#### a) Is the intervention (treatment and/or placebo, if appropriate) for each group described in sufficient detail?"
   ]
  },
  {
   "cell_type": "markdown",
   "id": "6486ac62-47da-4051-b938-5d39d6bf9568",
   "metadata": {},
   "source": [
    "> Answer: 이 연구는 건강한 성인 참가자를 대상으로 4개의 다른 제형 유형의 자외선 차단제의 다중 적용을 효과를 평가가 목적이기 때문에 placebo가 존재하지 않는 연구였으며, **4개의 서로 다른 제형 유형(스프레이 두 개. 로션, 크림)의 자외선 차단제가 treatment**였다. **각각 4개의 그룹은 single fomulation을 받은 6명의 대상자(남성 3명, 여성 3명)로 구성**되었다. 7일 동안 30개의 혈액 샘플이 수집되었으며, 자외선 차단제를 최소 2시간에 한 번씩 바르고 여러 날에 반복으로 발라야 하기 때문에 이 방법이 선택되었다."
   ]
  },
  {
   "cell_type": "markdown",
   "id": "9f7437bb-7f90-4939-8d6e-9a8e8c0754ab",
   "metadata": {
    "tags": []
   },
   "source": [
    "#### b) Were the groups treated in similar fashion, aside from the fact that they received different Interventions?"
   ]
  },
  {
   "cell_type": "markdown",
   "id": "6d67a4e1-212c-4b48-8078-faa5ce2a7f38",
   "metadata": {},
   "source": [
    "> Answer: 참가자들은 **그룹별로 각각 다른 제형의 자외선 차단제**를 받은 것 이외에 연구 기간인 **7일 동안 직사광선에 노출되지 않은 같은 조건** 아래 연구가 진행되었다."
   ]
  },
  {
   "cell_type": "markdown",
   "id": "6816c925-433c-4f7f-9617-f9bbfaaacacc",
   "metadata": {},
   "source": [
    "### 4. Outcomes"
   ]
  },
  {
   "cell_type": "markdown",
   "id": "068a3360-6a35-4158-966e-32b2d0972269",
   "metadata": {
    "tags": []
   },
   "source": [
    "#### a) Is consideration given to all the important outcomes?"
   ]
  },
  {
   "cell_type": "markdown",
   "id": "60a98c06-1211-4619-b973-843035fae779",
   "metadata": {},
   "source": [
    "> Answer: 중대하거나 중대하지 않거나, 연구 약물과 관련된 **모든 이상반응이 연구자에 의해 기록**되었고, primary outcome, secondary outcomes와 더불어 일과 4일의 시간에 대한 **혈장 농도의 곡선 아래 면적(AUC), 최저 농도, 잔류 농도, 최종 반감기**을 포함하여 다른 탐색적 약동학적 평가변수가 계산된 것으로 보아 중요한 outcome이 고려되었다고 보았다."
   ]
  },
  {
   "cell_type": "markdown",
   "id": "ac05b103-ddf6-491c-9062-83f134190961",
   "metadata": {},
   "source": [
    "#### b) Are the primary and secondary outcomes defined precisely?"
   ]
  },
  {
   "cell_type": "markdown",
   "id": "80a257fa-ed4c-446d-8f0d-ad97c472d2cc",
   "metadata": {},
   "source": [
    "The prespecified primary outcome was the maximum plasma concentration of avobenzone over days 1 through 7. Avobenzone is one of the primary UVA filters in the OTC sunscreen monograph, and systemic exposure data for this compound did not exist. The secondary outcomes were the maximum plasma concentrations of oxybenzone, octocrylene, and ecamsule over days 1 through 7.\n",
    "- 미리 명시된 primary outcome 은 1일에서 7일 동안의 avobenzone의 최대 혈장 농도였다. Avobenzone은 OTC 자외선 차단제 모노그래프에서 주요한 UVA 필터 중 하나이며, 이 요소에 대한 전신 노출 데이터는 존재하지 않았다. secondary outcome은 oxybenzone, octocrylene, ecamsule의 1일에서 7일 동안 최대 혈장 농도였다."
   ]
  },
  {
   "cell_type": "markdown",
   "id": "2142248e-c700-4bb9-a6a9-cd534fc406e5",
   "metadata": {},
   "source": [
    "> Answer: primary, secondary outcome 이 자세하게 제시되어 있었다. **avobenzone의 최대 혈장 농도가 primary outcome**이었고, **oxybenzone, octocrylene, ecamsule의 최대 혈장 농도가 secondary outcomes** 였다. 추가로 **두 가지 사후 분석이 진행**되었는데 이는 **활성 성분이 0.5ng/mL를 초과하는 혈장 농도를 가진 대상자들의 수와 백분율은 1일차 관찰값을 기반으로 요약된 것과 반복 투여의 축적이 4일과 1일의 최대 혈장 농도 및 AUC의 로그변환 비율에 의해 평가된 것**이었다."
   ]
  },
  {
   "cell_type": "markdown",
   "id": "c5ea4aec-5c1f-4c74-8f82-043b6ee5e07f",
   "metadata": {},
   "source": [
    "#### c) Were there any changes to the outcomes after the trial started?"
   ]
  },
  {
   "cell_type": "markdown",
   "id": "936a3bfa-b216-4400-8e09-a7aa7cc86e3c",
   "metadata": {},
   "source": [
    "> Answer: 연구가 시작된 이후 outcomes의 변화는 없는 것으로 사료된다."
   ]
  },
  {
   "cell_type": "markdown",
   "id": "aea748e4-ef94-49cf-b3d2-d40889cc4e75",
   "metadata": {},
   "source": [
    "### 5. Sample size"
   ]
  },
  {
   "cell_type": "markdown",
   "id": "4f4d10e9-c3fb-492e-9fb1-4cf48c6874a7",
   "metadata": {},
   "source": [
    "#### a) Is there a power statement to justify the overall sample size? Does this power statement indicate the form of the statistical analysis on which it is based, and does it include a specification of the values of all the factors that affect sample size for this calculation?"
   ]
  },
  {
   "cell_type": "markdown",
   "id": "7093c436-5d69-48e0-99a8-aa42dc3f36e0",
   "metadata": {},
   "source": [
    "> Answer: 표본 크기 결정과 관련된 검정은 찾을 수 없었다."
   ]
  },
  {
   "cell_type": "markdown",
   "id": "ed6689ff-e020-4a49-98a3-6849bd6d01e7",
   "metadata": {},
   "source": [
    "#### b) If relevant, is there a full explanation of any interim analysis, including the steps taken to reduce the Type 1 error rate?"
   ]
  },
  {
   "cell_type": "markdown",
   "id": "d68c9dc7-a59c-4e22-ac88-41a6e361f772",
   "metadata": {},
   "source": [
    "> Answer: 표본 크기를 결정하기 위해 사용된 검정을 확인할 수 없었고, 중간 분석도 진행되지 않았지만, **다중 비교로 인한 제 1종 오류의 가능성 때문에 secondary outcomes의 분석 결과 탐색적 약동학 평가 변수 및 사후 평가 분석에 대한 결과는 탐색적 평가로 해석되어야 한다**고 언급되었다."
   ]
  },
  {
   "cell_type": "markdown",
   "id": "c92e40c6-55a5-46db-a9aa-377c64e1d533",
   "metadata": {
    "tags": []
   },
   "source": [
    "#### c) If subgroup analyses have been performed, is there a justification for the subgroup sample sizes, based on power calculations, and a description of the steps taken to reduce the Type 1 error rate? Alternatively., are these subgroup analysis specified as being exploratory in nature, with an indication that they may be under-powered?"
   ]
  },
  {
   "cell_type": "markdown",
   "id": "e4ea8a1c-f1c4-483f-ad9e-cdd0f7e6a144",
   "metadata": {},
   "source": [
    "> Answer: sample size에 관한 설명은 논문에서 아래 문항 이 유일했다. reference 7을 제시하며 최대 사용 시험을 위해 충분한 대상자가 필요성을 언급했다. (reference 7 내용 중 일부 발췌: If information needed to calculate the number of subjects (such as the expected intersubject and intrasubject variability) is not available, the FDA recommends that the sponsor conduct a pilot study. 이에 따라 **예비연구에 대한 자외선 차단제 지침 권장 사항을 참조하여 경험적으로 표본 크기가 결정된 것**으로 사료된다.)\n",
    "- Because this was an exploratory study to assess general methodology for a sunscreen maximal usage trial and no prior data existed on the systemic absorption of avobenzone, the sample size was determined empirically with reference to\n",
    "the sunscreen guidance recommendation for pilot studies."
   ]
  },
  {
   "cell_type": "markdown",
   "id": "f15bfcdb-0e9a-4943-bbb7-d399fd6085bf",
   "metadata": {
    "tags": []
   },
   "source": [
    "### 6. Statistical methods"
   ]
  },
  {
   "cell_type": "markdown",
   "id": "e1fa0c57-5675-4294-b583-0a2a2b12fb4f",
   "metadata": {},
   "source": [
    "#### a) Are all the statistical methods used to compare groups for primary and secondary outcomes identified?"
   ]
  },
  {
   "cell_type": "markdown",
   "id": "81132cae-3cfe-4578-a983-76ac935fa348",
   "metadata": {},
   "source": [
    "#### b) Are the statistical methods appropriate (e.g. have underlying assumptions been verified, and have dependencies in the data (e.g. pairing) been taken into account in the analysis?)?"
   ]
  },
  {
   "cell_type": "markdown",
   "id": "f6909d30-38c3-407b-88df-727eb7189699",
   "metadata": {},
   "source": [
    "> Answer for a,b: 해당 연구는  primary outcome과 secondary outcomes에 대한 그룹을 비교하는데 통계적 방법은 사용되지 않았다."
   ]
  },
  {
   "cell_type": "markdown",
   "id": "4c943b73-b93e-4bfc-89ef-5e9dc14ea680",
   "metadata": {},
   "source": [
    "#### c) Is there a description of additional analysis, such as subgroup analysis? Were any additional analyses undertaken specified a priori, or were they post hoc analyses?"
   ]
  },
  {
   "cell_type": "markdown",
   "id": "d2088b51-4a53-4cd8-ae72-cc788bc6f17c",
   "metadata": {},
   "source": [
    "> Answer: 두 가지 사후 평가가 진행되었으며 **활성 성분이 0.5ng/mL를 초과하는 혈장 농도를 가진 대상자들의 수와 백분율이 1일차 관찰값을 기반으로 요약**되었다. 또한 **반복 투여에 대한 축적은 4일과 1일의 최대 혈장 농도 및 AUC의 로그 변환 비율에 의해 평가**되었다."
   ]
  },
  {
   "cell_type": "markdown",
   "id": "7e0361b2-ed11-45e1-b747-69737142fdf9",
   "metadata": {},
   "source": [
    "## D. Results"
   ]
  },
  {
   "cell_type": "markdown",
   "id": "5feb2f2d-085c-43bf-b421-91b3b31d7cff",
   "metadata": {},
   "source": [
    "### 1. Participant numbers and dates"
   ]
  },
  {
   "cell_type": "markdown",
   "id": "5507943f-0379-42c4-b5cc-6d24b44e0377",
   "metadata": {},
   "source": [
    "#### a) Is there a full explanation (preferably in a participant flow chart), for each treatment group, of the numbers of participants who were randomly assigned, received the intended treatment and were analyzed for the primary outcome?"
   ]
  },
  {
   "cell_type": "markdown",
   "id": "823486d7-6583-4fb2-8d36-f30035212efb",
   "metadata": {},
   "source": [
    "> Answer: 대상자들은 공개 모집으로 모집했으며, 선정/제외 기준을 거쳐 enroll된 24명의 대상자들이 있었다. 이 대상자들은 4개의 치료그룹에 block size 4로 지정되어 무작위로 각 치료 그룹에 남성 3명, 여성 3명씩 배정되었다. Figure 1 Flow of Participants in Study of Sunscreen Ingredient Absorption를 보고 정리하자면, 88명의 건강한 성인 자원자들이 지원했고, 그 중 33명이 선정 기준에 충족하지 않았으며, 11명은 참여를 거부했고, 8명은 스크리닝 탈락했고, 대체될 시험자는 12명이 있었다. 따라서 24명의 건강한 성인 자원자들이 무작위 배정을 마치고 시험에 참가하였다. enroll된 24명의 대상자들에 탈락한 대상자는 포함되지 않으니 primary outcome에도 24명의 대상자 모두의 결과가 포함되어 있음을 알 수 있었다."
   ]
  },
  {
   "cell_type": "markdown",
   "id": "a8afcdd8-6bd7-422f-b8b7-ef5ae1143366",
   "metadata": {},
   "source": [
    "#### b) If relevant, are numbers of and reasons for losses to follow-up and exclusions after randomization documented?"
   ]
  },
  {
   "cell_type": "markdown",
   "id": "ed89d720-7aa1-42cb-bf8d-814382d9d6d9",
   "metadata": {},
   "source": [
    "> Answer: Figure 1 Flow of Participants in Study of Sunscreen Ingredient Absorption 을 참고해보니 **lost to follow up 대상자는 0명** 이었고, **1명이 이상반응 milla로 Withdrew 처리** 되었으나, 시험을 완료한 4번째 그룹의 대상자가 6명인 것으로 미루어보아 위 문항에서 본 대체될 시험자 12명 중 한 명으로 대체된 것 사료된다.(논문 자체에서는 대체되었다고 언급하지는 않았다. 하지만 대체되지 않으면 논문처럼 시험이 완료된 대상자의 수가 맞지 않았다.)"
   ]
  },
  {
   "cell_type": "markdown",
   "id": "bfe57a1b-af24-4cb2-848e-f3c60c7dea2d",
   "metadata": {},
   "source": [
    "#### c) Are dates provided which define the periods of recruitment and follow-up?"
   ]
  },
  {
   "cell_type": "markdown",
   "id": "747e687e-1b86-4279-883b-32427fd10c3e",
   "metadata": {},
   "source": [
    "> Answer: 모집은 2018년 7월에 시작하였고, 2018년 8월에 끝났다. 7일에 144h time point까지 혈액 샘플 채혈을 마친 후 follow-up 날짜는 제시되지 않았다. 혈액 샘플을 time point 모두 얻었다면 추적은 따로 하지 않는 연구로 사료된다."
   ]
  },
  {
   "cell_type": "markdown",
   "id": "1181de8d-6290-4126-a415-aff5c2214860",
   "metadata": {},
   "source": [
    "### 2. Baseline data"
   ]
  },
  {
   "cell_type": "markdown",
   "id": "552be9ca-7923-485c-96c4-601e8c0dd03a",
   "metadata": {},
   "source": [
    "#### a) Is there a table which shows the baseline demographic and clinical characteristics for each group?"
   ]
  },
  {
   "cell_type": "markdown",
   "id": "e0b63133-1ff5-4718-a9fb-0f3434657104",
   "metadata": {},
   "source": [
    "> Answer: table 1. Study Participant Demographics and Product Chracteristics에서 해당 내용을 확인할 수 있었다."
   ]
  },
  {
   "cell_type": "markdown",
   "id": "b45128d2-b08b-4f19-9e7f-3c5652756d50",
   "metadata": {},
   "source": [
    "#### b) Are the groups comparable?"
   ]
  },
  {
   "cell_type": "markdown",
   "id": "9fcf24a9-d95c-42b0-9e5c-bfab1c352459",
   "metadata": {},
   "source": [
    "> Answer: Table 1에 그룹별로 각각의 demographic이 제시되어 있기 때문에 비교할 수 있을 것으로 사료된다. 하지만 해당 연구는 한 그룹 내에서 day에 따른 활성 성분 검출을 비교하는 것이기 때문에 각 그룹 내에서 day 별 비교가 가능할 것이다. 또한  eTable 2 in Supplement 2에서는 그룹별 Demographics의 평균±표준편차가 제시되어 있는 것을 확인하였다."
   ]
  },
  {
   "cell_type": "markdown",
   "id": "8d993338-a160-44ce-a5f6-6517665b9a83",
   "metadata": {},
   "source": [
    "### 3. Numbers analyzed"
   ]
  },
  {
   "cell_type": "markdown",
   "id": "4d977169-3803-4ca7-bc95-f0b5441b9529",
   "metadata": {},
   "source": [
    "#### a) Is there a specification of whether an ‘Intention-to-treat’ (ITT) analysis was performed? Is a justification given for the choice of analysis (ITT or other), and is this appropriate?"
   ]
  },
  {
   "cell_type": "markdown",
   "id": "397438c3-d6af-47d8-929e-89e32d59e64d",
   "metadata": {},
   "source": [
    "> Answer: Intention-to-Treat에 관해 언급되지 않았다."
   ]
  },
  {
   "cell_type": "markdown",
   "id": "467e2b10-72d8-459b-a70c-0e5ca056316a",
   "metadata": {},
   "source": [
    "#### b) If there were protocol deviations, was a sensitivity analysis performed (e.g. as per protocol analysis or an analysis with imputed data for missing observations)?"
   ]
  },
  {
   "cell_type": "markdown",
   "id": "1c8c1ab7-166a-4c86-9cc1-ac4044a513d6",
   "metadata": {},
   "source": [
    "> Answer: 논문에는 계획서 위반에 대해 언급되지 않았다. 하지만 supplement 1의 statistic analysis plan을 본 결과 **결측치는 어느 값으로도 대체되지 않는 것을 확인**\n",
    "하였다."
   ]
  },
  {
   "cell_type": "markdown",
   "id": "1bb0c52d-87cd-4515-9a33-3d06bc8529d9",
   "metadata": {
    "tags": []
   },
   "source": [
    "### 4. Outcomes of interest"
   ]
  },
  {
   "cell_type": "markdown",
   "id": "aebbf15a-0f03-4c4e-980e-f1bad30c1a84",
   "metadata": {},
   "source": [
    "#### a) Main outcome of interest. Is an appropriate summary measure given the main outcome variable (i.e. that which relates to the primary aim of the study) for each comparison group? An example is the rate, risk or odds of occurrence of the outcome (e.g. death) if the outcome variable is binary, stating results in absolute numbers when feasible; or the mean (median) if the outcome variable is numerical."
   ]
  },
  {
   "cell_type": "markdown",
   "id": "bac0387f-ba75-44ee-97bf-990d6e136402",
   "metadata": {},
   "source": [
    "> Answer: 1일부터 7일까지 채취한 혈액 농도를 이용하여 평가되며, 사후 연구에서 반복 투여에 대한 축적 값으로 각각 제품과 활성 성분에 대한 1일과 4일의 로그 변환 된 AUC와 최대 혈장 농도를 사용하여 평가되었다. 데이터는 고정효과로 day를 놓고(1일 vs 4일), 랜덤 효과로 대상자들을 지정한 선형 혼합 효과 모델을 사용하여 분석되었다. 점 추정치 및 해당하는 양측 90% 신뢰구간은 모델에서 얻어 기하 평균 비율과 비율의 90% 신뢰구간 추정치를 제공하기 위해 지수화되었다. 여기서 90% 신뢰구간은 약동학 연구의 표준이기 때문에 선택되었다."
   ]
  },
  {
   "cell_type": "markdown",
   "id": "28e2f475-1f88-4520-97dc-d09204bc60f3",
   "metadata": {},
   "source": [
    "#### b) Magnitude of the effect of interest. Is there an indication of the magnitude of the interest? Examples include a ratio such as the relative rate, risk, or odds, or a difference such as the absolute difference in risk, if the outcome variable is binary; or a difference in means (medians) if the main outcome variable is numerical."
   ]
  },
  {
   "cell_type": "markdown",
   "id": "b14789da-c335-479f-b193-e49957b226d6",
   "metadata": {},
   "source": [
    "> Answer: 연구의 결과 변수는 혈중 농도로, 숫자이며, Figure 2에서는 시간에 따른 혈중 농도 곡선을 볼 수 있으며 Table 2에서는 자외선 차단제 활성 성분에 대한 약동학 매개변수들의 기하 평균 및 변동 계수값을 볼 수 이었다. 해당 연구에서는 그룹 비교, 즉 한 시험 그룹 내에서 일자별 농도 비교를 하고 있다. 따라서 제시한 일자별로 자외선 차단제 활성 성분의 기하 평균 및 변동 계수가 의미있는 Magnitude라고 볼 수 있겠다."
   ]
  },
  {
   "cell_type": "markdown",
   "id": "ea0402b5-f90e-44a8-aeb5-640f3439a098",
   "metadata": {},
   "source": [
    "#### c) Precision of the effect of interest. Is there an indication of the precision of the effect of interest (e.g. a 95% confidence interval or standard error)?"
   ]
  },
  {
   "cell_type": "markdown",
   "id": "41241535-7b37-49bf-95cf-551d427fee1d",
   "metadata": {},
   "source": [
    "> Answer:  a에서 언급되었듯이, 점 추정치 및 해당하는 양측 90% 신뢰구간은 모델에서 얻어 기하 평균 비율과 비율의 90% 신뢰구간 추정치를 제공하기 위해 지수화되었으며, 90% 신뢰구간은 약동학 연구의 표준이기 때문에 선택되었다. 또한 1일과 4일에서의 노출은 90% 신뢰구간 하한이 1을 포함하는 경우 유의하게 다르지 않은 것으로 고려되었다."
   ]
  },
  {
   "cell_type": "markdown",
   "id": "d69a002f-5641-45b7-aafa-676ea4e8da09",
   "metadata": {},
   "source": [
    "### 5. Additional analyses: If additional (e.g. subgroup) analyses performed, are their results provided, and are any exploratory analyses distinguished from harms in each group documented?"
   ]
  },
  {
   "cell_type": "markdown",
   "id": "eb65e33e-04fb-4127-b6b3-ccd13db75172",
   "metadata": {},
   "source": [
    "> Answer: 2번의 사후 분석이 진행되어 매개변수 평가에 대해 탐색적 분석이 이루어졌다. 사후 분석에 사용된 매개변수는 논문의 primary outcome, secondary outcome을 사용해 구해졌다."
   ]
  },
  {
   "cell_type": "markdown",
   "id": "a908ef82-b149-4c96-b27d-901fad84d106",
   "metadata": {
    "tags": []
   },
   "source": [
    "### 6. Harms: Are all important harms in each group documented?"
   ]
  },
  {
   "cell_type": "markdown",
   "id": "681fe679-bcb4-4177-be82-a2b7a660ce14",
   "metadata": {},
   "source": [
    "> Answer: 모든 이상반응은 기록되었고, 이상반응에 대한 추가적인 탐색적 연구가 진행되었으며, 그 결과도 제시되었다. 가장 흔한 이상반응은 각 그룹에서 1명의 대상자(17%)에서 발생한 발진이었다. 발진과 비립종, 가려움증을 포함한 이상반응은 모든 대상자에게서 해결되었다고 제시되었다."
   ]
  },
  {
   "cell_type": "markdown",
   "id": "f3d69171-1ee3-4d94-b106-0b74c122d817",
   "metadata": {},
   "source": [
    "## E. Discussion"
   ]
  },
  {
   "cell_type": "markdown",
   "id": "6974ffad-3712-4474-a611-2ffa1a0975ba",
   "metadata": {},
   "source": [
    "### 1. Deciding whether the results are important"
   ]
  },
  {
   "cell_type": "markdown",
   "id": "6e1d9352-afc4-4e4a-b814-0b447e340154",
   "metadata": {},
   "source": [
    "#### a) Are the key findings summarized with reference to the trial objectives?"
   ]
  },
  {
   "cell_type": "markdown",
   "id": "c56a9156-bb5c-4473-8c32-88cba4850d9a",
   "metadata": {},
   "source": [
    "> Answer: 주요 결과가 요약되어 있었다. 건강한 자원자를 대상으로 한 이 연구에서, **최대 사용 조건 아래 시판되는 4가지 자외선 차단제를 적용한 결과 혈장 농도가 자외선 차단제에 대한 일부 비임상 독성 연구들을 잠재적으로 중단하기 위해 FDA에서 설정한 임계값을 초과**했다. 자**외선 차단제 성분의 전신 흡수는 이 발견의 임상적 중요성을 결정하기 위해 더 많은 연구에 대한 필요성을 시사**한다. 이 결과는 **자외선 차단제의 사용을 자제해야 한다는 것을 의미하지는 않는다**."
   ]
  },
  {
   "cell_type": "markdown",
   "id": "9422cb6e-babd-41b2-8933-4b813f965c32",
   "metadata": {
    "tags": []
   },
   "source": [
    "#### b) Do the results make biological sense? If a confidence interval for the effect of interest (e.g. the difference in treatment means) has been provided:"
   ]
  },
  {
   "cell_type": "markdown",
   "id": "ef46947f-2730-47fd-87af-f2ba84be0f86",
   "metadata": {},
   "source": [
    "> Answer: 연구에서는 1일차와 4일차에 혈액 농도 검사에서 활성 성분의 검출 수준을 보고 얼마나 유지되는지 확인하였다. 각 제품 및 활성 성분에 대한 1일 및 4일의 최대 혈장 농도로부터 로그 변환 AUC, Cmax에 대해 점 추정치 밒 90% CI를 선형 혼합 효과 모델을 통해 분석한 결과(고정효과: Day, 랜덤효과: subject)로부터 얻었다. e Table 5 Supplement 2를 참고하여 아래 문항의 답을 작성하였다."
   ]
  },
  {
   "cell_type": "markdown",
   "id": "31d37251-bea0-48a4-a7ea-0af38990514e",
   "metadata": {},
   "source": [
    "##### (i) Would you regard the observed effect clinically important (irrespective of whether or not the result of the relevant hypothesis test is statistically significant) if lower limit of the confidence interval represented the true value of the effect?"
   ]
  },
  {
   "cell_type": "markdown",
   "id": "3a95b27c-18aa-4d8b-b3c7-242546ffb210",
   "metadata": {},
   "source": [
    "> Answer: 신뢰구간 하한이 1에 가까울 경우 비슷한 값을 가질 것이다. 하지만 1보다 작은 경우 1일차가 4일차보다 작은 혈중농도 값을 보일 것이고, 이는 활성 성분이 신뢰구간 하한 값에서도 노출이 유의미하다는 것, 즉 4일차에서도 활성 성분이 검출된다는 것을 의미하므로 임상적으로 중요하다고 사료된다."
   ]
  },
  {
   "cell_type": "markdown",
   "id": "3def8cea-3b6e-4f05-8f5c-e1bb9f23e2c8",
   "metadata": {},
   "source": [
    "##### (ii). Would you regard the observed effect clinically import if the upper limit of the confidence interval represented the true value of the effect?"
   ]
  },
  {
   "cell_type": "markdown",
   "id": "24e4e73b-0692-4a42-a93e-9184fff2da97",
   "metadata": {},
   "source": [
    "> Answer: 신뢰구간 상한이 1에 가까울 경우 1일과 4일이 비슷한 값을 가질 것이다. 1보다 큰 경우 1일차가 4일차보다 큰 혈중농도 값을 보일 것이고, 이는 활성 성분의 검출량이 줄어든 것을 의미하며, 노출되지 않았다는 것을 의미할 것이다. 이는 활성 성분이 신뢰구간 상한 값에서도 노출이 유의미함을 시사하므로 임상적으로 중요하다고 사료된다."
   ]
  },
  {
   "cell_type": "markdown",
   "id": "f25a88e3-c57d-421b-a8bc-d33e1a97db3f",
   "metadata": {},
   "source": [
    "##### (iii) Are your answers to questions (i) and (ii) sufficiently similar to declare the results of the study unambiguous and important?"
   ]
  },
  {
   "cell_type": "markdown",
   "id": "8180b6fd-f5bc-4ed7-bae4-27f321048965",
   "metadata": {},
   "source": [
    "> Answer: 그렇다. 여기서 의미하는 신뢰구간은 1일차와 4일차의 혈중농도에 대한 비율에 대한 것이기 떄문에, 또 이 연구 결과의 목적은 활성 성분이 유지되는 기간과 관련된 것이기 때문에 중요하다고 판단되며 또한 유사하다고 사료된다."
   ]
  },
  {
   "cell_type": "markdown",
   "id": "316356e5-4395-4d38-8533-dbdd43555a19",
   "metadata": {},
   "source": [
    "#### c) Is there an evaluation of the number of patients needed to treat (NNT) with the experimental treatment, rather than the control treatment in order to prevent one of them from developing the “bad” outcome?"
   ]
  },
  {
   "cell_type": "markdown",
   "id": "47d9fc01-9dc9-4d53-8368-016a9eda7929",
   "metadata": {},
   "source": [
    "> Answer: 이 연구의 경우 대조군/시험군이 나뉘어져 있지 않은 시험으로, 해당 문항에 대한 답을 할 수 없었다. 하지만 모든 이상반응이 기록되었으며, 특별한 이상반응은 감지되지 않았다."
   ]
  },
  {
   "cell_type": "markdown",
   "id": "27ec631c-0fc2-4c80-9689-46c7823f1221",
   "metadata": {},
   "source": [
    "### 2. Limitations: Is there a discussion of all the trial limitations, including sources of potential bias and imprecision?"
   ]
  },
  {
   "cell_type": "markdown",
   "id": "f0dc89ef-6a59-4c10-8da5-a1427ffa7d85",
   "metadata": {},
   "source": [
    "> Answer: 3가지 limitation이 있었다. 첫째, 이 연구는 **열, 햇빛, 습기에 노출되지 않은 실내 조건에서 수행되었다는 것**이다. 둘째, **이 연구는 제형 유형, Fitzpatrick skin type, 대상자 연령에 대한 흡수차이를 평가하도록 설계되지 않았다는 것**이다. 셋째, 이 연구는 **자외선 차단제를 여러 번 바르며 수행되어 단일 투여에 대해 평가되지 않았다는 것**이었다."
   ]
  },
  {
   "cell_type": "markdown",
   "id": "64879807-3b03-4b31-b92b-dd31bd9e1bf1",
   "metadata": {
    "tags": []
   },
   "source": [
    "### 3. Generalizability: Is there a discussion of the generalizability (external valid) of the trial findings (i.e. the extent to which the participants are representative of the wider population)?"
   ]
  },
  {
   "cell_type": "markdown",
   "id": "fd24226d-7f85-4720-b3e4-9e24ef983395",
   "metadata": {},
   "source": [
    "> Answer: the number of participants, 즉, sample size에 대한 언급은 없었다. 또한 이 연구에서 **제형당 총 참가자는 테스트된 성분에 대해 0.5ng/mL를 초과하는 전신 노출을 감지하기에 충분했지만, 자외선 차단제를 사용하는 전체 잠재 인구에 대한 흡수를 설명하지는 못했다.** 또한, **\"\"일반적으로 안전성과 효과성이 인지된\"\" 결정을 내리기에는 데이터가 충분하지 않았음**을 언급했다. 따라서 일반화된 결정을 내릴 수 없다는 점을 시사하였다."
   ]
  },
  {
   "cell_type": "markdown",
   "id": "ba6a32ef-4c38-4d6f-8011-a847b4ba4412",
   "metadata": {},
   "source": [
    "### 4. Interpretation: Taking the benefits and harms into consideration, as well as the limitations of the trial, any multiple testing and subgroup analyses, is the interpretation of the trial findings consistent with the results?"
   ]
  },
  {
   "cell_type": "markdown",
   "id": "4969e5b6-7775-4eb5-befe-42f3b44b4bcd",
   "metadata": {},
   "source": [
    "> Answer: 모든 4개의 자외선 차단제 활성 성분들은 0.5ng/mL를 초과하는 노출을 나타냈고, 자외선 차단제에 대한 일부 비임상 독성 연구들을 잠재적으로 중단하기 위해 FDA에서 설정한 임계값을 초과했기 때문에 시험을 중단할 근거가 생겼다. 따라서 시험 결과의 해석이 결과와 일치하는 것으로 사료된다. 하지만 논문에서 언급된대로 추가 연구가 필요하다."
   ]
  },
  {
   "cell_type": "markdown",
   "id": "be1fc9ee-f83d-42af-a91c-99dd07505bf6",
   "metadata": {},
   "source": [
    "## F. Other information"
   ]
  },
  {
   "cell_type": "markdown",
   "id": "6d6933e2-eb46-4111-9593-fda42d79a4f2",
   "metadata": {},
   "source": [
    "### 1. Registration: Are the trial registration number and the name of the trial registry provided?"
   ]
  },
  {
   "cell_type": "markdown",
   "id": "55c747d9-707c-4057-b97b-c9299780b6b0",
   "metadata": {},
   "source": [
    "> Answer: the name of the trial registry는 **ClinicalTrials.gov**이며, the trial registration number는 **NCT03582215**임을 알 수 있었다."
   ]
  },
  {
   "cell_type": "markdown",
   "id": "01370a7a-c76e-46f3-9e90-ce61fabfc12a",
   "metadata": {
    "tags": []
   },
   "source": [
    "### 2. Protocol: Is there information about where the protocol can be accessed?"
   ]
  },
  {
   "cell_type": "markdown",
   "id": "9366331e-1249-4042-825b-e987efcacce4",
   "metadata": {},
   "source": [
    "> Answer: 연구에 참고된 protocol, Statistical Analysis Plan과 Supplementary Online Content의 site를 확인할 수 있었으며(supplement 1),며이 자료에서 연구의 계획에서부터 통계 요약 결과까지 참고할만한 정보를 확인 할 수 있었다."
   ]
  },
  {
   "cell_type": "markdown",
   "id": "fde8ce5c-c327-4f72-83d4-6e7d5e1095bc",
   "metadata": {},
   "source": [
    "### 3. Funding: Are sources of finding documented?"
   ]
  },
  {
   "cell_type": "markdown",
   "id": "a592146b-3280-4a62-9997-5088ac802865",
   "metadata": {},
   "source": [
    "> Answer: 논문 마지막에 연구에 참고된 references 를 찾을 수 있었다."
   ]
  },
  {
   "cell_type": "markdown",
   "id": "4b7faa75-024b-4b9b-b974-bc0053ed30de",
   "metadata": {},
   "source": [
    "### 4. Conflict of interest: Is there a conflict of interest statement for each of the investigators?"
   ]
  },
  {
   "cell_type": "markdown",
   "id": "1a63aeab-2338-4ff3-b953-aeb84ba17998",
   "metadata": {},
   "source": [
    "> Answer: investigator에 대한 conflict는 없었다."
   ]
  }
 ],
 "metadata": {
  "kernelspec": {
   "display_name": "Python 3 (ipykernel)",
   "language": "python",
   "name": "python3"
  },
  "language_info": {
   "codemirror_mode": {
    "name": "ipython",
    "version": 3
   },
   "file_extension": ".py",
   "mimetype": "text/x-python",
   "name": "python",
   "nbconvert_exporter": "python",
   "pygments_lexer": "ipython3",
   "version": "3.8.12"
  }
 },
 "nbformat": 4,
 "nbformat_minor": 5
}
