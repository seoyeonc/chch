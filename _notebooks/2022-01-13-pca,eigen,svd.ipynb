{
 "cells": [
  {
   "cell_type": "markdown",
   "id": "fee3f6b0-e362-47a4-b7bd-9c321c546cce",
   "metadata": {
    "id": "427875ce-66ec-4c4d-a783-8ee5eeb54fa4",
    "tags": []
   },
   "source": [
    "# PCA, Eigen Value Decomposition, SVD\n",
    "> not done\n",
    "\n",
    "- toc:true\n",
    "- branch: master\n",
    "- badges: true\n",
    "- comments: false\n",
    "- author: 최서연\n",
    "- categories: [PCA, Eigen Value Decomposition, SVD]"
   ]
  },
  {
   "cell_type": "code",
   "execution_count": null,
   "id": "15dc131e-45da-4a24-82c4-3b8ed9e3d42e",
   "metadata": {},
   "outputs": [],
   "source": []
  }
 ],
 "metadata": {
  "kernelspec": {
   "display_name": "Python 3",
   "language": "python",
   "name": "python3"
  },
  "language_info": {
   "codemirror_mode": {
    "name": "ipython",
    "version": 3
   },
   "file_extension": ".py",
   "mimetype": "text/x-python",
   "name": "python",
   "nbconvert_exporter": "python",
   "pygments_lexer": "ipython3",
   "version": "3.8.12"
  }
 },
 "nbformat": 4,
 "nbformat_minor": 5
}
