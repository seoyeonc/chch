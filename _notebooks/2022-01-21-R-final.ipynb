{
 "cells": [
  {
   "cell_type": "markdown",
   "id": "cd0b452a-d6b0-4bb5-945a-f88ef93a7f89",
   "metadata": {
    "id": "cd0b452a-d6b0-4bb5-945a-f88ef93a7f89",
    "tags": []
   },
   "source": [
    "# 1번만 품 2021년 1학기 R입문 기말고사\n",
    "> 푸리에 변환\n",
    "\n",
    "- toc:false\n",
    "- branch: master\n",
    "- badges: false\n",
    "- comments: false\n",
    "- author: 최서연"
   ]
  },
  {
   "cell_type": "code",
   "execution_count": null,
   "id": "a27abf35-cdef-4797-a470-e479ecad2a93",
   "metadata": {
    "id": "a27abf35-cdef-4797-a470-e479ecad2a93",
    "tags": []
   },
   "outputs": [],
   "source": [
    "#hide\n",
    "#options(jupyter.rich_display=FALSE)\n",
    "options(repr.plot.width=6,repr.plot.height=6,repr.plot.res=150)\n",
    "options(max.print=1000)"
   ]
  },
  {
   "cell_type": "markdown",
   "id": "0dacb1a1-85b1-4361-88e2-6877d9b8e87d",
   "metadata": {
    "id": "0dacb1a1-85b1-4361-88e2-6877d9b8e87d"
   },
   "source": [
    "**의미가 모호한 문제는 질문할것**\n",
    "\n",
    "**필요한 패키지는 스스로 로드하여 사용할 것** "
   ]
  },
  {
   "cell_type": "markdown",
   "id": "21a0f600-e9bc-4909-b9e8-ca4c2900b20f",
   "metadata": {
    "id": "21a0f600-e9bc-4909-b9e8-ca4c2900b20f"
   },
   "source": [
    "## `1`. 회귀분석 (35점) "
   ]
  },
  {
   "cell_type": "markdown",
   "id": "317e056c-4165-4222-a637-0c6ac78ee201",
   "metadata": {
    "id": "317e056c-4165-4222-a637-0c6ac78ee201"
   },
   "source": [
    "아래와 같은 수식을 고려하자. \n",
    "\n",
    "$$y_i= 1.5+ 5\\sin(t_i)+ 3 \\cos(4 t_i)+\\epsilon_i, \\quad i=1,2,\\dots, 1000$$\n",
    "\n",
    "여기에서 $t_i=\\frac{2\\pi i}{1000}$ 이다. 그리고 $\\epsilon_i \\sim i.i.d~ N(0,1)$, 즉 서로 독립인 표준정규분포에서 추출된 샘플이다. "
   ]
  },
  {
   "cell_type": "markdown",
   "id": "620fd982-09c7-49ee-8faf-926bd5a09dd2",
   "metadata": {
    "id": "620fd982-09c7-49ee-8faf-926bd5a09dd2",
    "tags": []
   },
   "source": [
    "#### `(1)` `rnorm()`을 이용하여 $\\{\\epsilon_i \\}_{i=1}^{1000}$ 을 만들고 이를 벡터로 만들어라. 즉 아래와 같은 벡터를 생성하라. \n",
    "\n",
    "- $\\boldsymbol{\\epsilon}=(\\epsilon_1,\\dots,\\epsilon_{1000})$"
   ]
  },
  {
   "cell_type": "code",
   "execution_count": 1,
   "id": "50d678ed-0bd2-4258-b961-c78fee5fe3d7",
   "metadata": {},
   "outputs": [
    {
     "data": {
      "text/html": [
       "<style>\n",
       ".list-inline {list-style: none; margin:0; padding: 0}\n",
       ".list-inline>li {display: inline-block}\n",
       ".list-inline>li:not(:last-child)::after {content: \"\\00b7\"; padding: 0 .5ex}\n",
       "</style>\n",
       "<ol class=list-inline><li>0.430575502069495</li><li>0.840122626383675</li><li>0.896202889532715</li><li>-1.15886737645084</li><li>-0.199027700109155</li><li>-0.137954405303741</li></ol>\n"
      ],
      "text/latex": [
       "\\begin{enumerate*}\n",
       "\\item 0.430575502069495\n",
       "\\item 0.840122626383675\n",
       "\\item 0.896202889532715\n",
       "\\item -1.15886737645084\n",
       "\\item -0.199027700109155\n",
       "\\item -0.137954405303741\n",
       "\\end{enumerate*}\n"
      ],
      "text/markdown": [
       "1. 0.430575502069495\n",
       "2. 0.840122626383675\n",
       "3. 0.896202889532715\n",
       "4. -1.15886737645084\n",
       "5. -0.199027700109155\n",
       "6. -0.137954405303741\n",
       "\n",
       "\n"
      ],
      "text/plain": [
       "[1]  0.4305755  0.8401226  0.8962029 -1.1588674 -0.1990277 -0.1379544"
      ]
     },
     "metadata": {},
     "output_type": "display_data"
    }
   ],
   "source": [
    "epsilon <- rnorm(1000)\n",
    "head(epsilon)"
   ]
  },
  {
   "cell_type": "markdown",
   "id": "dd52f507-e2b6-4f65-a06c-2ee05620db5a",
   "metadata": {
    "id": "dd52f507-e2b6-4f65-a06c-2ee05620db5a"
   },
   "source": [
    "#### `(2)` $\\big\\{\\sin(t_i) \\big\\}_{i=1}^{1000}$와 $\\big\\{\\cos(4t_i) \\big\\}_{i=1}^{1000}$를 각각 생성하고 이를 ${\\bf x}_1$와 ${\\bf x}_2$에 저장하라. 즉 아래와 같은 2개의 벡터를 생성하라. \n",
    "- ${\\bf x}_1=\\big(\\sin(\\frac{2\\pi}{1000}),\\sin(\\frac{4\\pi}{1000}),\\dots,\\sin(2\\pi)\\big)$\n",
    "- ${\\bf x}_2=\\big(\\cos(\\frac{8\\pi}{1000}),\\cos(\\frac{16\\pi}{1000}),\\dots,\\cos(8\\pi)\\big)$"
   ]
  },
  {
   "cell_type": "code",
   "execution_count": 2,
   "id": "6a5641fa-708d-436f-abfa-d1f45a470bb5",
   "metadata": {},
   "outputs": [],
   "source": [
    "x1=c()\n",
    "for(i in 1:1000){x1[i] = sin(2*3.14*i/1000)}\n",
    "\n",
    "x2=c()    \n",
    "for(i in 1:1000){x2[i] = cos(4*2*3.14*i/1000)}"
   ]
  },
  {
   "cell_type": "code",
   "execution_count": 3,
   "id": "39d68fa1-7a40-46f7-b80c-e63e65ddeb7d",
   "metadata": {},
   "outputs": [
    {
     "data": {
      "text/html": [
       "<style>\n",
       ".list-inline {list-style: none; margin:0; padding: 0}\n",
       ".list-inline>li {display: inline-block}\n",
       ".list-inline>li:not(:last-child)::after {content: \"\\00b7\"; padding: 0 .5ex}\n",
       "</style>\n",
       "<ol class=list-inline><li>0.00627995872122273</li><li>0.0125596697717354</li><li>0.0188388854905957</li><li>0.0251173582363963</li><li>0.0313948403970313</li><li>0.0376710843994622</li></ol>\n"
      ],
      "text/latex": [
       "\\begin{enumerate*}\n",
       "\\item 0.00627995872122273\n",
       "\\item 0.0125596697717354\n",
       "\\item 0.0188388854905957\n",
       "\\item 0.0251173582363963\n",
       "\\item 0.0313948403970313\n",
       "\\item 0.0376710843994622\n",
       "\\end{enumerate*}\n"
      ],
      "text/markdown": [
       "1. 0.00627995872122273\n",
       "2. 0.0125596697717354\n",
       "3. 0.0188388854905957\n",
       "4. 0.0251173582363963\n",
       "5. 0.0313948403970313\n",
       "6. 0.0376710843994622\n",
       "\n",
       "\n"
      ],
      "text/plain": [
       "[1] 0.006279959 0.012559670 0.018838885 0.025117358 0.031394840 0.037671084"
      ]
     },
     "metadata": {},
     "output_type": "display_data"
    }
   ],
   "source": [
    "head(x1)"
   ]
  },
  {
   "cell_type": "code",
   "execution_count": 4,
   "id": "2bd99a72-e6c0-4e30-ad76-6623d0aa8135",
   "metadata": {},
   "outputs": [
    {
     "data": {
      "text/html": [
       "<style>\n",
       ".list-inline {list-style: none; margin:0; padding: 0}\n",
       ".list-inline>li {display: inline-block}\n",
       ".list-inline>li:not(:last-child)::after {content: \"\\00b7\"; padding: 0 .5ex}\n",
       "</style>\n",
       "<ol class=list-inline><li>0.99968450939045</li><li>0.998738236630449</li><li>0.997161778800337</li><li>0.994956130615398</li><li>0.992122683798211</li><li>0.988663226200505</li></ol>\n"
      ],
      "text/latex": [
       "\\begin{enumerate*}\n",
       "\\item 0.99968450939045\n",
       "\\item 0.998738236630449\n",
       "\\item 0.997161778800337\n",
       "\\item 0.994956130615398\n",
       "\\item 0.992122683798211\n",
       "\\item 0.988663226200505\n",
       "\\end{enumerate*}\n"
      ],
      "text/markdown": [
       "1. 0.99968450939045\n",
       "2. 0.998738236630449\n",
       "3. 0.997161778800337\n",
       "4. 0.994956130615398\n",
       "5. 0.992122683798211\n",
       "6. 0.988663226200505\n",
       "\n",
       "\n"
      ],
      "text/plain": [
       "[1] 0.9996845 0.9987382 0.9971618 0.9949561 0.9921227 0.9886632"
      ]
     },
     "metadata": {},
     "output_type": "display_data"
    }
   ],
   "source": [
    "head(x2)"
   ]
  },
  {
   "cell_type": "markdown",
   "id": "a04cf768-c251-49b2-b75c-227703917abc",
   "metadata": {
    "id": "a04cf768-c251-49b2-b75c-227703917abc"
   },
   "source": [
    "#### `(3)` (1),(2)로 부터 $y_i$를 계산하고, $(t_i,y_i)$를 scatter plot으로 시각화 하라. 색은 'gray60'을 사용하라. 시각화 예시는 아래와 같다. "
   ]
  },
  {
   "cell_type": "markdown",
   "id": "fb516585-3317-43ac-80d2-867a5953e203",
   "metadata": {
    "id": "fb516585-3317-43ac-80d2-867a5953e203"
   },
   "source": [
    "![](https://github.com/guebin/2021IR/blob/master/_notebooks/final_fig1.png?raw=true)"
   ]
  },
  {
   "cell_type": "code",
   "execution_count": 5,
   "id": "5f085ec6-0317-4054-bc41-32b7944ad646",
   "metadata": {},
   "outputs": [],
   "source": [
    "y <- 1.5+5*x1+3*x2+epsilon"
   ]
  },
  {
   "cell_type": "code",
   "execution_count": 10,
   "id": "98c29cba-9f27-4307-b8f9-560159f4afcc",
   "metadata": {},
   "outputs": [
    {
     "data": {
      "image/png": "[encoded data removed]",
      "text/plain": [
       "plot without title"
      ]
     },
     "metadata": {
      "image/png": {
       "height": 420,
       "width": 420
      }
     },
     "output_type": "display_data"
    }
   ],
   "source": [
    "plot(1:1000,y,col='darkgray')"
   ]
  },
  {
   "cell_type": "markdown",
   "id": "2aa97a6f-5be5-4dab-9ffd-cb05cafa1057",
   "metadata": {
    "id": "2aa97a6f-5be5-4dab-9ffd-cb05cafa1057"
   },
   "source": [
    "#### `(4)` 두 벡터 ${\\bf x}_1$, ${\\bf x}_2$와 `cbind()`를 이용하여 아래와 같은 $1000 \\times 3$ 매트릭스 ${\\bf X}$를 만들어라. "
   ]
  },
  {
   "cell_type": "markdown",
   "id": "1a7a9102-3f73-495b-9232-38d1a6a5d979",
   "metadata": {
    "id": "1a7a9102-3f73-495b-9232-38d1a6a5d979"
   },
   "source": [
    "$${\\bf X}=\\begin{bmatrix}\n",
    "1 & \\sin(\\frac{2\\pi}{1000}) & \\cos(\\frac{8\\pi}{1000})\\\\ \n",
    "1 & \\sin(\\frac{4\\pi}{1000}) & \\cos(\\frac{16\\pi}{1000})\\\\ \n",
    "\\dots & \\dots  & \\dots \\\\ \n",
    "1 & \\sin(2\\pi) & \\cos(8\\pi)\\\\ \n",
    "\\end{bmatrix} $$ "
   ]
  },
  {
   "cell_type": "markdown",
   "id": "d09a138b-47fe-479b-a04e-3043d2c3ba86",
   "metadata": {
    "id": "d09a138b-47fe-479b-a04e-3043d2c3ba86"
   },
   "source": [
    "#### `(5)` $3 \\times 1$ 매트릭스 $\\boldsymbol{\\beta}=\\begin{bmatrix} 1.5 \\\\ 5 \\\\ 3 \\end{bmatrix}$를 만들고 매트릭스 곱을 이용하여 ${\\bf X} {\\boldsymbol \\beta}$를 계산하라. 계산결과를 벡터화하고 (3)의 $y$축에 붉은선으로 시각화 하라. 시각화 예시는 아래와 같다. (필요하다면 적절하게 선의 굵기를 조정할 것) "
   ]
  },
  {
   "cell_type": "markdown",
   "id": "99111d0a-5dbc-42db-81f5-b216f9f907db",
   "metadata": {
    "id": "99111d0a-5dbc-42db-81f5-b216f9f907db"
   },
   "source": [
    "![](https://github.com/guebin/2021IR/blob/master/_notebooks/final_fig2.png?raw=true)"
   ]
  },
  {
   "cell_type": "markdown",
   "id": "bd53c3f9-ec49-413b-93fc-4b30c9cf6081",
   "metadata": {
    "id": "bd53c3f9-ec49-413b-93fc-4b30c9cf6081",
    "tags": []
   },
   "source": [
    "#### `(6)` 아래의 수식을 이용하여 $\\boldsymbol{\\hat\\beta}$를 계산하고 계산결과를 $\\boldsymbol{\\beta}$와 비교하라. \n",
    "\n",
    "$$ \\boldsymbol{\\hat\\beta} = ({\\bf X}^\\top {\\bf X})^{-1}{\\bf X}^\\top {\\bf y}$$ "
   ]
  },
  {
   "cell_type": "markdown",
   "id": "eacf1fac-403a-49d0-961a-8275b1446a60",
   "metadata": {
    "id": "eacf1fac-403a-49d0-961a-8275b1446a60"
   },
   "source": [
    "여기에서 ${\\bf X}$와 ${\\bf y}$는 각각 아래와 같다. \n",
    "\n",
    "- ${\\bf X}=\\begin{bmatrix}\n",
    "1 & \\sin(\\frac{2\\pi}{1000}) & \\cos(\\frac{8\\pi}{1000})\\\\ \n",
    "1 & \\sin(\\frac{8\\pi}{1000}) & \\cos(\\frac{16\\pi}{1000})\\\\ \n",
    "\\dots & \\dots  & \\dots \\\\ \n",
    "1 & \\sin(2\\pi) & \\cos(8\\pi)\\\\ \n",
    "\\end{bmatrix}$,  $\\quad {\\bf y}=\\begin{bmatrix} y_1\\\\ y_2\\\\ \\dots \\\\ y_{1000}\\\\ \\end{bmatrix}$"
   ]
  },
  {
   "cell_type": "markdown",
   "id": "5c9c3816-5af7-46f2-9680-b0e97e729789",
   "metadata": {
    "id": "5c9c3816-5af7-46f2-9680-b0e97e729789"
   },
   "source": [
    "또한 ${\\bf X}^\\top$는 ${\\bf X}$의 전치행렬(transpose) 그리고 $({\\bf X}^\\top {\\bf X})^{-1}$은 ${\\bf X}^\\top {\\bf X}$의 역행렬을 의미한다. "
   ]
  },
  {
   "cell_type": "markdown",
   "id": "8f836f58-cb7d-4b0e-9e6c-612030446856",
   "metadata": {
    "id": "8f836f58-cb7d-4b0e-9e6c-612030446856"
   },
   "source": [
    "#### `(7)` ${\\bf X}\\boldsymbol{\\hat\\beta}$를 계산하라. 계산결과를 벡터화 하고 (5)의 시각화 결과에 푸른점선으로 시각화 하라. 시각화 예시는 아래와 같다. (필요하다면 적절하게 선의 굵기를 조정할 것) "
   ]
  },
  {
   "cell_type": "markdown",
   "id": "e2bdb6c4-fa29-4f07-8c50-5531fc325059",
   "metadata": {
    "id": "e2bdb6c4-fa29-4f07-8c50-5531fc325059"
   },
   "source": [
    "![](https://github.com/guebin/2021IR/blob/master/_notebooks/final_fig3.png?raw=true)"
   ]
  },
  {
   "cell_type": "markdown",
   "id": "743acaff-fba8-4bdd-83a0-9bff1bd4805c",
   "metadata": {
    "id": "743acaff-fba8-4bdd-83a0-9bff1bd4805c"
   },
   "source": [
    "## `2`. 몬테카를로 적분 (10점)\n",
    "\n",
    "#### `(1)` $\\int_{-1.96}^{1.96}\\frac{1}{\\sqrt{2\\pi}}e^{-\\frac{1}{2}x^2}dx$의 값을 `runif()`를 이용한 몬테카를로 적분으로 계산하라. "
   ]
  },
  {
   "cell_type": "markdown",
   "id": "feb55d2e-1824-4ada-b0fc-a2c5e934c5c1",
   "metadata": {
    "id": "feb55d2e-1824-4ada-b0fc-a2c5e934c5c1",
    "tags": []
   },
   "source": [
    "#### `(2)` `rnorm()`을 이용하여 표준정규분포에서 1000개의 확률변수를 생성하고 생성된 확률변수들 중 구간 $(-1.96 , 1.96)$사이에 있는 확률변수를 count하라. "
   ]
  },
  {
   "cell_type": "markdown",
   "id": "b37287d2-025e-4aaa-bb88-435403610185",
   "metadata": {
    "id": "b37287d2-025e-4aaa-bb88-435403610185"
   },
   "source": [
    "## `3`. 징검다리 (10점)"
   ]
  },
  {
   "cell_type": "markdown",
   "id": "e0280e4f-623f-4e31-a524-fe8dd78b33b1",
   "metadata": {
    "id": "e0280e4f-623f-4e31-a524-fe8dd78b33b1"
   },
   "source": [
    "10명의 참가자가 (유리,강화유리)의 쌍으로 이루어진 징검다리를 건너는 게임을 시작한다. (유리,강화유리)의 쌍은 총 20개 있다. 따라서 유리는 총 40장이 있다. 참가자는 강화유리로 된 징검다리를 밟으면 살아남지만 유리로 된 징검다리를 밟으면 죽는다. 10명의 참가자의 특징은 아래와 같다. \n",
    "\n",
    "- 1번~8번 참가자, 10번 참가자: 50퍼센트의 확률로 강화유리를 고를 수 있다. \n",
    "- 9번 참가자: 95퍼센트의 확률로 강화유리를 고를 수 있다. \n",
    "\n",
    "다리를 건너는 순서는 아래와 같이 번호의 오름차순으로 건너는 방법과 번호의 내림차순으로 건너는 2가지 방법이 있다고 하자. \n",
    "\n",
    "- Type A: 10번 참가자부터 다리를 건너고 그 뒤로 9번, 8번, ... 1번 순으로 다리를 건넌다. \n",
    "- Type B: 1번 참가자부터 다리를 건너고 그 뒤로 2번, 3번, ... 10번 순으로 다리를 건넌다. \n",
    "\n",
    "8번 참가자는 Type A 와 Type B 중 어떠한 경우에 살아남을 확률이 높은가? "
   ]
  },
  {
   "cell_type": "markdown",
   "id": "73fcbaef-2059-453e-95f5-3b7084b07bc5",
   "metadata": {
    "id": "73fcbaef-2059-453e-95f5-3b7084b07bc5"
   },
   "source": [
    "## `4`. COVID19 (15점)"
   ]
  },
  {
   "cell_type": "markdown",
   "id": "dd6dcd9d-22f0-46cb-96ea-6f4f1705b749",
   "metadata": {
    "id": "dd6dcd9d-22f0-46cb-96ea-6f4f1705b749"
   },
   "source": [
    "아래는 한국의 코로나확진자 발생수를 tibble로 불러오는 코드와 그 결과이다. "
   ]
  },
  {
   "cell_type": "code",
   "execution_count": null,
   "id": "a9beee8e-2bbc-452d-919e-2d225c1f0777",
   "metadata": {
    "id": "a9beee8e-2bbc-452d-919e-2d225c1f0777",
    "outputId": "22700940-4226-4030-b919-a84ad9e7bcf2"
   },
   "outputs": [
    {
     "name": "stderr",
     "output_type": "stream",
     "text": [
      "\u001b[1mRows: \u001b[22m\u001b[34m12294\u001b[39m \u001b[1mColumns: \u001b[22m\u001b[34m5\u001b[39m\n",
      "\n",
      "\u001b[36m──\u001b[39m \u001b[1mColumn specification\u001b[22m \u001b[36m────────────────────────────────────────────────────────\u001b[39m\n",
      "\u001b[1mDelimiter:\u001b[22m \",\"\n",
      "\u001b[31mchr\u001b[39m (1): prov\n",
      "\u001b[32mdbl\u001b[39m (4): year, month, day, cases\n",
      "\n",
      "\n",
      "\u001b[36mℹ\u001b[39m Use \u001b[30m\u001b[47m\u001b[30m\u001b[47m`spec()`\u001b[47m\u001b[30m\u001b[49m\u001b[39m to retrieve the full column specification for this data.\n",
      "\u001b[36mℹ\u001b[39m Specify the column types or set \u001b[30m\u001b[47m\u001b[30m\u001b[47m`show_col_types = FALSE`\u001b[47m\u001b[30m\u001b[49m\u001b[39m to quiet this message.\n",
      "\n"
     ]
    },
    {
     "data": {
      "text/html": [
       "<table class=\"dataframe\">\n",
       "<caption>A tibble: 6 × 5</caption>\n",
       "<thead>\n",
       "\t<tr><th scope=col>year</th><th scope=col>month</th><th scope=col>day</th><th scope=col>prov</th><th scope=col>cases</th></tr>\n",
       "\t<tr><th scope=col>&lt;dbl&gt;</th><th scope=col>&lt;dbl&gt;</th><th scope=col>&lt;dbl&gt;</th><th scope=col>&lt;chr&gt;</th><th scope=col>&lt;dbl&gt;</th></tr>\n",
       "</thead>\n",
       "<tbody>\n",
       "\t<tr><td>2020</td><td>1</td><td>20</td><td>서울</td><td>0</td></tr>\n",
       "\t<tr><td>2020</td><td>1</td><td>20</td><td>부산</td><td>0</td></tr>\n",
       "\t<tr><td>2020</td><td>1</td><td>20</td><td>대구</td><td>0</td></tr>\n",
       "\t<tr><td>2020</td><td>1</td><td>20</td><td>인천</td><td>1</td></tr>\n",
       "\t<tr><td>2020</td><td>1</td><td>20</td><td>광주</td><td>0</td></tr>\n",
       "\t<tr><td>2020</td><td>1</td><td>20</td><td>대전</td><td>0</td></tr>\n",
       "</tbody>\n",
       "</table>\n"
      ],
      "text/latex": [
       "A tibble: 6 × 5\n",
       "\\begin{tabular}{lllll}\n",
       " year & month & day & prov & cases\\\\\n",
       " <dbl> & <dbl> & <dbl> & <chr> & <dbl>\\\\\n",
       "\\hline\n",
       "\t 2020 & 1 & 20 & 서울 & 0\\\\\n",
       "\t 2020 & 1 & 20 & 부산 & 0\\\\\n",
       "\t 2020 & 1 & 20 & 대구 & 0\\\\\n",
       "\t 2020 & 1 & 20 & 인천 & 1\\\\\n",
       "\t 2020 & 1 & 20 & 광주 & 0\\\\\n",
       "\t 2020 & 1 & 20 & 대전 & 0\\\\\n",
       "\\end{tabular}\n"
      ],
      "text/markdown": [
       "\n",
       "A tibble: 6 × 5\n",
       "\n",
       "| year &lt;dbl&gt; | month &lt;dbl&gt; | day &lt;dbl&gt; | prov &lt;chr&gt; | cases &lt;dbl&gt; |\n",
       "|---|---|---|---|---|\n",
       "| 2020 | 1 | 20 | 서울 | 0 |\n",
       "| 2020 | 1 | 20 | 부산 | 0 |\n",
       "| 2020 | 1 | 20 | 대구 | 0 |\n",
       "| 2020 | 1 | 20 | 인천 | 1 |\n",
       "| 2020 | 1 | 20 | 광주 | 0 |\n",
       "| 2020 | 1 | 20 | 대전 | 0 |\n",
       "\n"
      ],
      "text/plain": [
       "  year month day prov cases\n",
       "1 2020 1     20  서울 0    \n",
       "2 2020 1     20  부산 0    \n",
       "3 2020 1     20  대구 0    \n",
       "4 2020 1     20  인천 1    \n",
       "5 2020 1     20  광주 0    \n",
       "6 2020 1     20  대전 0    "
      ]
     },
     "metadata": {},
     "output_type": "display_data"
    }
   ],
   "source": [
    "df=read_csv('https://raw.githubusercontent.com/guebin/2021IR/master/_notebooks/covid19.csv')\n",
    "head(df)"
   ]
  },
  {
   "cell_type": "markdown",
   "id": "d0e96a57-a0a1-4be6-9743-78bb9007e0bf",
   "metadata": {
    "id": "d0e96a57-a0a1-4be6-9743-78bb9007e0bf",
    "jp-MarkdownHeadingCollapsed": true,
    "tags": []
   },
   "source": [
    "#### `(1)` 2020년의 확진자(cases)총합과 2021년의 확진자(cases)총합을 구하라. "
   ]
  },
  {
   "cell_type": "markdown",
   "id": "709adf3e-9747-49ab-a28d-6bc014195e29",
   "metadata": {
    "id": "709adf3e-9747-49ab-a28d-6bc014195e29",
    "tags": []
   },
   "source": [
    "#### `(2)` 2020년 2월1일 ~ 2020년 2월15일까지의 기간동안 확진자의 합을 지역별로 나누어 구하라 (아래예시 참고). 가장 많은 확진자가 발견된 지역은 어디인가? "
   ]
  },
  {
   "cell_type": "markdown",
   "id": "9eabba75-e486-439b-aa24-c7bc95e19112",
   "metadata": {
    "id": "9eabba75-e486-439b-aa24-c7bc95e19112"
   },
   "source": [
    "즉 아래를 각각 계산하고 2020년 2월1일 ~ 2020년 2월15일 기간동안 발생한 확진자의 합이 가장 큰 지역을 찾으면 된다. \n",
    "\n",
    "- 2020년2월1일 ~ 2020년2월15일 기간 서울에서 발생한 확진자의 합 = 2020년2월1일 서울에서 발생한 확진자수 + ... + 2020년2월15일 서울에서 발생한 확진자수\n",
    "- ...\n",
    "- 2020년2월1일 ~ 2020년2월15일 기간 제주에서 발생한 확진자의 합 = 2020년2월1일 제주에서 발생한 확진자수 + ... + 2020년2월15일 제주에서 발생한 확진자수"
   ]
  },
  {
   "cell_type": "markdown",
   "id": "ed5aa778-7796-4ae6-815e-dbbbe25a0dbe",
   "metadata": {
    "id": "ed5aa778-7796-4ae6-815e-dbbbe25a0dbe"
   },
   "source": [
    "#### `(3)` 2020년 2월16일 ~ 2020년 2월29일까지의 기간동안 확진자의 총합을 지역별로 나누어 구하라 (아래예시 참고). 가장 많은 확진자가 발견된 지역은 어디인가?"
   ]
  },
  {
   "cell_type": "markdown",
   "id": "f0598204-3b09-4b3f-a875-0679c29d74e7",
   "metadata": {
    "id": "f0598204-3b09-4b3f-a875-0679c29d74e7"
   },
   "source": [
    "즉 아래를 각각 계산하고 2020년 2월16일 ~ 2020년 2월29일 기간동안 발생한 확진자의 합이 가장 큰 지역을 찾으면 된다. \n",
    "\n",
    "- 2020년2월16일 ~ 2020년2월29일 기간 서울에서 발생한 확진자의 합 = 2020년2월16일 서울에서 발생한 확진자수 + ... + 2020년2월29일 서울에서 발생한 확진자수\n",
    "- ...\n",
    "- 2020년2월16일 ~ 2020년2월29일 기간 제주에서 발생한 확진자의 합 = 2020년2월16일 제주에서 발생한 확진자수 + ... + 2020년2월29일 제주에서 발생한 확진자수"
   ]
  },
  {
   "cell_type": "markdown",
   "id": "224b4143-8f5b-43aa-a723-84187e7cfa37",
   "metadata": {
    "id": "224b4143-8f5b-43aa-a723-84187e7cfa37"
   },
   "source": [
    "## `5`. 다음을 잘 읽고 물음에 답하라. (10점)"
   ]
  },
  {
   "cell_type": "markdown",
   "id": "60833008-ae1c-4a00-b6bc-70cb3ee831f6",
   "metadata": {
    "id": "60833008-ae1c-4a00-b6bc-70cb3ee831f6",
    "jp-MarkdownHeadingCollapsed": true,
    "tags": []
   },
   "source": [
    "#### `(1)` cumprod 함수를 이용하여 $7!=7\\times 6 \\times 5 \\times \\dots \\times 1$을 계산하라. "
   ]
  },
  {
   "cell_type": "markdown",
   "id": "c78c6221-b283-43c7-a126-5dec505c68ec",
   "metadata": {
    "id": "c78c6221-b283-43c7-a126-5dec505c68ec"
   },
   "source": [
    "#### `(2)` $\\sum_{n=0}^{\\infty}\\frac{n}{n!}$의 값을 근사적으로 계산하라. 계산결과를 exp(1)과 비교하라. "
   ]
  },
  {
   "cell_type": "markdown",
   "id": "fb37132c-7ead-474c-8da8-6d27e33b0b0a",
   "metadata": {
    "id": "fb37132c-7ead-474c-8da8-6d27e33b0b0a",
    "tags": []
   },
   "source": [
    "#### `(3)` 표준정규분포에서 1000개의 난수를 생성발생시킨 뒤 0보다 큰 수를 세어보라. "
   ]
  },
  {
   "cell_type": "markdown",
   "id": "cb8ae7c8-4aec-4538-a305-67626417b60a",
   "metadata": {
    "id": "cb8ae7c8-4aec-4538-a305-67626417b60a"
   },
   "source": [
    "#### `(4)` $p=0.2$인 베르누이분포에서 1000개의 난수를 만들면 1이 몇개정도 포함되는가? 시뮬레이션을 통하여 검증하라."
   ]
  },
  {
   "cell_type": "markdown",
   "id": "e416ebdb-1db2-44ae-8c06-ab2c9033fea7",
   "metadata": {
    "id": "e416ebdb-1db2-44ae-8c06-ab2c9033fea7"
   },
   "source": [
    "#### `(5)` 아래는 표준정규분포, 즉 평균이 0이고 표준편차가 1인 정규분포에서 1000개의 난수를 생성하여 $x$라는 변수에 저장한뒤 $x$의 히스토그램을 그린 예시이다. 아래의 예시를 이용하여 평균이 1이고 표준편차가 1인 정규분포에서 5000개의 난수를 생성한뒤 $y$에 저장하고 $y$의 히스토그램을 그려라. 시각화 예시는 아래와 같다. "
   ]
  },
  {
   "cell_type": "code",
   "execution_count": null,
   "id": "9b5dfb2d-3b2a-4769-bf1c-bdedc5536625",
   "metadata": {
    "id": "9b5dfb2d-3b2a-4769-bf1c-bdedc5536625",
    "outputId": "808c0594-35f8-4733-8e68-fcfeed2572e3"
   },
   "outputs": [
    {
     "data": {
      "image/png": "[encoded data removed]",
      "text/plain": [
       "Plot with title “Histogram of x”"
      ]
     },
     "metadata": {
      "image/png": {
       "height": 450,
       "width": 450
      }
     },
     "output_type": "display_data"
    }
   ],
   "source": [
    "x=rnorm(1000)\n",
    "hist(x)"
   ]
  },
  {
   "cell_type": "markdown",
   "id": "2f3df486-8f37-42ed-b142-1371e265d0a4",
   "metadata": {
    "id": "2f3df486-8f37-42ed-b142-1371e265d0a4"
   },
   "source": [
    "#### `(6)` 아래와 같은 벡터 x에서 짝수번째 원소 (즉 x[2],x[4],$\\dots$,x[2000])의 합을 구하는 코드를 작성하라 "
   ]
  },
  {
   "cell_type": "code",
   "execution_count": null,
   "id": "02dbd2f9-e678-4bbd-b6d2-5358e8a5d67c",
   "metadata": {
    "id": "02dbd2f9-e678-4bbd-b6d2-5358e8a5d67c"
   },
   "outputs": [],
   "source": [
    "x=-1000:1000/1000"
   ]
  },
  {
   "cell_type": "markdown",
   "id": "1148aa17-27a7-458d-b4f7-e1af562351f7",
   "metadata": {
    "id": "1148aa17-27a7-458d-b4f7-e1af562351f7"
   },
   "source": [
    "#### `(7)` 2021년 A씨의 연봉은 5000이다. 매년 연봉은 3%씩 오른다고 하자. 2030년 A씨의 연봉은 얼마인가? "
   ]
  },
  {
   "cell_type": "markdown",
   "id": "ac8212d6-cf8b-4fe2-8c17-eae8bc015819",
   "metadata": {
    "id": "ac8212d6-cf8b-4fe2-8c17-eae8bc015819"
   },
   "source": [
    "#### `(8)` 임의의 입력 $x$에 대하여 아래를 만족하는 함수를 선언하라. "
   ]
  },
  {
   "cell_type": "markdown",
   "id": "328e404d-e10d-41ac-b453-a77edcf3eff6",
   "metadata": {
    "id": "328e404d-e10d-41ac-b453-a77edcf3eff6"
   },
   "source": [
    "- $x >0$: $\\log (x)$를 계산하여 출력 \n",
    "- $x =0$: print(\"음의 무한대\")\n",
    "- $x <0$: print(\"x는 양수이어야 합니다.\")"
   ]
  },
  {
   "cell_type": "markdown",
   "id": "750e263a-5dcc-48c8-bd17-7ff67034f15b",
   "metadata": {
    "id": "750e263a-5dcc-48c8-bd17-7ff67034f15b"
   },
   "source": [
    "#### `(9)` 아래와 같은 데이터프레임이 있다고 하자. "
   ]
  },
  {
   "cell_type": "code",
   "execution_count": null,
   "id": "a120373f-07df-4a12-9816-b2fddde62c74",
   "metadata": {
    "id": "a120373f-07df-4a12-9816-b2fddde62c74",
    "outputId": "774037f3-e89e-4f09-bdee-0d3411e7d461"
   },
   "outputs": [
    {
     "data": {
      "text/html": [
       "<table class=\"dataframe\">\n",
       "<caption>A tibble: 6 × 2</caption>\n",
       "<thead>\n",
       "\t<tr><th scope=col>X1</th><th scope=col>X2</th></tr>\n",
       "\t<tr><th scope=col>&lt;dbl&gt;</th><th scope=col>&lt;dbl&gt;</th></tr>\n",
       "</thead>\n",
       "<tbody>\n",
       "\t<tr><td>-0.92831089</td><td> 2.5959065</td></tr>\n",
       "\t<tr><td>-0.07387717</td><td>-1.0698486</td></tr>\n",
       "\t<tr><td>-1.60085998</td><td>-0.0705430</td></tr>\n",
       "\t<tr><td>-0.29223020</td><td> 0.6043498</td></tr>\n",
       "\t<tr><td> 0.62995753</td><td> 0.4082469</td></tr>\n",
       "\t<tr><td>-0.26448626</td><td> 0.3490946</td></tr>\n",
       "</tbody>\n",
       "</table>\n"
      ],
      "text/latex": [
       "A tibble: 6 × 2\n",
       "\\begin{tabular}{ll}\n",
       " X1 & X2\\\\\n",
       " <dbl> & <dbl>\\\\\n",
       "\\hline\n",
       "\t -0.92831089 &  2.5959065\\\\\n",
       "\t -0.07387717 & -1.0698486\\\\\n",
       "\t -1.60085998 & -0.0705430\\\\\n",
       "\t -0.29223020 &  0.6043498\\\\\n",
       "\t  0.62995753 &  0.4082469\\\\\n",
       "\t -0.26448626 &  0.3490946\\\\\n",
       "\\end{tabular}\n"
      ],
      "text/markdown": [
       "\n",
       "A tibble: 6 × 2\n",
       "\n",
       "| X1 &lt;dbl&gt; | X2 &lt;dbl&gt; |\n",
       "|---|---|\n",
       "| -0.92831089 |  2.5959065 |\n",
       "| -0.07387717 | -1.0698486 |\n",
       "| -1.60085998 | -0.0705430 |\n",
       "| -0.29223020 |  0.6043498 |\n",
       "|  0.62995753 |  0.4082469 |\n",
       "| -0.26448626 |  0.3490946 |\n",
       "\n"
      ],
      "text/plain": [
       "  X1          X2        \n",
       "1 -0.92831089  2.5959065\n",
       "2 -0.07387717 -1.0698486\n",
       "3 -1.60085998 -0.0705430\n",
       "4 -0.29223020  0.6043498\n",
       "5  0.62995753  0.4082469\n",
       "6 -0.26448626  0.3490946"
      ]
     },
     "metadata": {},
     "output_type": "display_data"
    }
   ],
   "source": [
    "df=tibble(X1=rnorm(100),X2=rnorm(100))\n",
    "head(df)"
   ]
  },
  {
   "cell_type": "markdown",
   "id": "aa71709c-2459-493e-9cbf-f07e40933074",
   "metadata": {
    "id": "aa71709c-2459-493e-9cbf-f07e40933074"
   },
   "source": [
    "위의 데이터프레임 df에서 `mutate`를 이용하여 `Z=X1^2+X2^2`을 계산하여 새로운 열 Z를 만들어라. "
   ]
  },
  {
   "cell_type": "markdown",
   "id": "fdd57b34-45c6-41e0-a9ec-0e3bcf096a39",
   "metadata": {
    "id": "fdd57b34-45c6-41e0-a9ec-0e3bcf096a39",
    "tags": []
   },
   "source": [
    "#### `(10)` 아래와 같은 매트릭스에서 `apply`함수를 이용하여 각 행의 합과 각 열의 합을 구하라 "
   ]
  },
  {
   "cell_type": "code",
   "execution_count": null,
   "id": "4dce282e-0765-47de-9fc4-2d55df4c4372",
   "metadata": {
    "id": "4dce282e-0765-47de-9fc4-2d55df4c4372",
    "outputId": "a9566c12-4a67-446f-c0fc-7d00417568df"
   },
   "outputs": [
    {
     "name": "stdout",
     "output_type": "stream",
     "text": [
      "      [,1] [,2] [,3] [,4] [,5] [,6] [,7] [,8] [,9] [,10]\n",
      " [1,]    2    3    3    2    2    3    1    3    3     3\n",
      " [2,]    1    3    3    4    2    2    4    2    2     1\n",
      " [3,]    2    2    2    2    4    4    2    3    3     3\n",
      " [4,]    3    2    4    5    2    5    1    4    2     2\n",
      " [5,]    2    2    2    2    1    4    2    2    3     4\n",
      " [6,]    5    1    3    1    1    3    4    2    4     3\n",
      " [7,]    4    3    4    3    2    3    2    3    0     1\n",
      " [8,]    4    4    2    3    2    3    3    0    4     2\n",
      " [9,]    5    5    4    3    2    4    4    4    1     4\n",
      "[10,]    2    4    4    3    1    3    3    2    1     2\n"
     ]
    }
   ],
   "source": [
    "set.seed(1221)\n",
    "mat = rbinom(n=100,size=5,prob=0.5)\n",
    "dim(mat)=c(10,10)\n",
    "print(mat)"
   ]
  },
  {
   "cell_type": "markdown",
   "id": "5412d8eb-a07a-4f74-92e0-754d1753f8ac",
   "metadata": {
    "id": "5412d8eb-a07a-4f74-92e0-754d1753f8ac"
   },
   "source": [
    "즉 아래를 구하라 "
   ]
  },
  {
   "cell_type": "markdown",
   "id": "8dded61e-e395-4bc4-a2a5-f936b30029eb",
   "metadata": {
    "id": "8dded61e-e395-4bc4-a2a5-f936b30029eb"
   },
   "source": [
    "`-` 각 행의 합\n",
    "- 1행의 합 = 2+3+3+ ... +3+3+3 \n",
    "- ...\n",
    "- 10행의 합 = 2+4+4+ ... +2+1+2"
   ]
  },
  {
   "cell_type": "markdown",
   "id": "1600d9a5-363e-4ffd-a756-90bb4dcbd4c3",
   "metadata": {
    "id": "1600d9a5-363e-4ffd-a756-90bb4dcbd4c3"
   },
   "source": [
    "`-` 각 열의 합\n",
    "- 1열의 합 = 2+1+2+ ... +4+5+2\n",
    "- ...\n",
    "- 10열의 합 = 3+1+3+ ... +2+4+2"
   ]
  },
  {
   "cell_type": "markdown",
   "id": "9ce31908-cc7a-48e0-89b6-6117a143c13c",
   "metadata": {
    "id": "9ce31908-cc7a-48e0-89b6-6117a143c13c",
    "tags": []
   },
   "source": [
    "## `6`. 다음을 잘 읽고 물음에 답하라. (20점)"
   ]
  },
  {
   "cell_type": "markdown",
   "id": "24d014aa-d2c5-417f-afcd-c4bbc35f6403",
   "metadata": {
    "id": "24d014aa-d2c5-417f-afcd-c4bbc35f6403"
   },
   "source": [
    "#### `(1)` 자료 $x_1,x_2,\\dots, x_{50}$에 대하여 다음 과정을 순서대로 시행하였다."
   ]
  },
  {
   "cell_type": "markdown",
   "id": "35ad820e-3421-4c0a-a40c-38c78942ed83",
   "metadata": {
    "id": "35ad820e-3421-4c0a-a40c-38c78942ed83"
   },
   "source": [
    "(가) 처음 두 수 $x_1$과 $x_2$의 평균을 구한다. \n",
    "\n",
    "(나) $x_3$을 추가하여 $x_1, x_2, x_3$의 평균을 구한다. \n",
    "\n",
    "(다) $x_4$을 추가하여 $x_1, x_2, x_3, x_4$의 평균을 구한다. \n",
    "\n",
    "...\n",
    "\n",
    "$x_{50}$을 추가하여 $x_1, x_2, x_3 ,\\dots , x_{50}$의 평균을 구한다. "
   ]
  },
  {
   "cell_type": "markdown",
   "id": "4a30daaa-66ce-4344-8ef5-722e8ffb0006",
   "metadata": {
    "id": "4a30daaa-66ce-4344-8ef5-722e8ffb0006"
   },
   "source": [
    "위의 과정을 시행할 결과, $x_1$과 $x_2$의 평균이 5이고, 자료 하나가 추가될때 마다 평균이 1씩 증가하였다. 이때 $x_{50}$의 값은? "
   ]
  },
  {
   "cell_type": "markdown",
   "id": "2e2653d1-f565-4900-ad35-4431ed1d074d",
   "metadata": {
    "id": "2e2653d1-f565-4900-ad35-4431ed1d074d",
    "tags": []
   },
   "source": [
    "#### `(2)` 복도의 라커 \n",
    "\n",
    "복도에 100개의 라커가 있다. 복도를 어떤 남자가 **짝수번호**의 라커를 모두 연다. 그리고 나서 3의 배수의 라커를 전부 닫는다. 그 다음에는 번호가 4의 배수인 라커를 순서대로 찾아다니며 열려 있으면 닫고, 닫혀 있으면 연다. 그 다음에는 번호가 5의 배수인 라커를 순서대로 찾아다니며 열려있으면 닫고, 닫혀있으면 연다. 이후에 6의 배수, 7의 배수 .. 인 라커를 순서대로 찾아다니며 행동을 반복한다. 이런식으로 복도를 **50번** 지나가면 열린 라커의 문은 몇개가 되겠는가? (주의: 중간고사문제와 약간다릅니다, 다른부분은 볼드체 표시했습니다)"
   ]
  },
  {
   "cell_type": "markdown",
   "id": "e2f77aba-17d3-45c0-977b-ebc7ebc1b007",
   "metadata": {
    "id": "e2f77aba-17d3-45c0-977b-ebc7ebc1b007"
   },
   "source": [
    "#### `(3)` 몬테카를로 시뮬레이션을 이용하여 원주율 $\\pi$를 추론하는 코드를 작성하라. "
   ]
  },
  {
   "cell_type": "markdown",
   "id": "6d96b655-723b-4b88-be3a-179599fec430",
   "metadata": {
    "id": "6d96b655-723b-4b88-be3a-179599fec430"
   },
   "source": [
    "#### `(4)` 아래와 같은 연립일차방정식을 푸는 R코드를 작성하라. "
   ]
  },
  {
   "cell_type": "markdown",
   "id": "1242cd3f-41fe-4f41-870d-311c0ec85d69",
   "metadata": {
    "id": "1242cd3f-41fe-4f41-870d-311c0ec85d69"
   },
   "source": [
    "$\\begin{cases}\n",
    "w+2x+3y+4z=1 \\\\\n",
    "2w+2x+y=9 \\\\\n",
    "x-y=4 \\\\\n",
    "3w+x-y+3y=7\n",
    "\\end{cases}$\n"
   ]
  },
  {
   "cell_type": "markdown",
   "id": "8c0bca0f-2b2b-483e-98bf-46f560db01f7",
   "metadata": {
    "id": "8c0bca0f-2b2b-483e-98bf-46f560db01f7"
   },
   "source": [
    "#### `(5)` 우산의 회전"
   ]
  },
  {
   "cell_type": "markdown",
   "id": "856adbd0-6cac-4de3-9a4e-5758c5b3c60a",
   "metadata": {
    "id": "856adbd0-6cac-4de3-9a4e-5758c5b3c60a"
   },
   "source": [
    "다음은 인터넷에서 어떠한 자료를 다운받아 매트릭스로 저장하는 코드이다. \n",
    "```R\n",
    "df=read.csv(\"https://raw.githubusercontent.com/guebin/2021IR/master/_notebooks/round2.csv\")\n",
    "X=as.matrix(df)\n",
    "```\n",
    "매트릭스는 `X`이라는 변수에 저장되어 있다. 저장된 모양은 아래와 같다. \n",
    "$${\\bf X}= \n",
    "\\begin{bmatrix}\n",
    "x_1 & y_1 \\\\ \n",
    "x_2 & y_2 \\\\ \n",
    "\\dots & \\dots \\\\ \n",
    "x_{5513} & y_{5513}\n",
    "\\end{bmatrix}\n",
    "$$\n",
    "아래를 계산하여 $\\tilde{\\bf X}$를 만들고 \n",
    "$$\n",
    "\\tilde{\\bf X}={\\bf X} \\begin{bmatrix}\n",
    "\\cos(\\frac{\\pi}{4}) & -\\sin (\\frac{\\pi}{4}) \\\\\n",
    "\\sin(\\frac{\\pi}{4}) & \\cos (\\frac{\\pi}{4})\n",
    "\\end{bmatrix} \n",
    "$$"
   ]
  },
  {
   "cell_type": "markdown",
   "id": "ed520940-df49-49ea-b613-704f98d7d0e3",
   "metadata": {
    "id": "ed520940-df49-49ea-b613-704f98d7d0e3"
   },
   "source": [
    "$\\tilde{\\bf X}$의 첫번째열을 $x$축으로, 두번째열을 $y$축으로 하여 시각화 하라. 시각화 예시는 아래와 같다. "
   ]
  },
  {
   "cell_type": "markdown",
   "id": "25975e05-2cf1-47b6-b126-b8caf43009af",
   "metadata": {
    "id": "25975e05-2cf1-47b6-b126-b8caf43009af"
   },
   "source": [
    "![](https://github.com/guebin/2021IR/blob/master/_notebooks/final_fig5.png?raw=true)"
   ]
  }
 ],
 "metadata": {
  "colab": {
   "name": "2021-12-21-2021년 1학기 R입문기말고사.ipynb",
   "provenance": []
  },
  "kernelspec": {
   "display_name": "R",
   "language": "R",
   "name": "ir"
  },
  "language_info": {
   "codemirror_mode": "r",
   "file_extension": ".r",
   "mimetype": "text/x-r-source",
   "name": "R",
   "pygments_lexer": "r",
   "version": "4.0.5"
  }
 },
 "nbformat": 4,
 "nbformat_minor": 5
}
