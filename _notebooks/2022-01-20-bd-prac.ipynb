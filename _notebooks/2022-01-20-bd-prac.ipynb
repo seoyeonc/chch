{
 "cells": [
  {
   "cell_type": "markdown",
   "id": "0ebe177a-00ca-47ab-ba07-7fcf7c7ed44b",
   "metadata": {
    "id": "b8b7d3a2-9f09-40b7-b3b5-03aaddd38d09",
    "tags": []
   },
   "source": [
    "# CNN 연습\n",
    "> Pytorch CNN (MNIST 3,7)\n",
    "\n",
    "- toc:true\n",
    "- branch: master\n",
    "- badges: true\n",
    "- comments: false\n",
    "- author: 최서연\n",
    "- categories: []"
   ]
  },
  {
   "cell_type": "code",
   "execution_count": 1,
   "id": "9295a4f9-80a1-422a-8586-cbb6f6fed2ff",
   "metadata": {},
   "outputs": [],
   "source": [
    "import torch\n",
    "from fastai.vision.all import *"
   ]
  },
  {
   "cell_type": "code",
   "execution_count": 2,
   "id": "b8a01e81-c8fb-43ad-8465-722f3616c9a7",
   "metadata": {
    "id": "87abf984-23f9-49b4-8948-437c3fc0b2bf"
   },
   "outputs": [],
   "source": [
    "import graphviz"
   ]
  },
  {
   "cell_type": "code",
   "execution_count": 3,
   "id": "8566c7d5-db6a-44f2-8c00-829e58892d8d",
   "metadata": {
    "id": "9ff903db-93df-41ec-9c5d-e467d8c268a7"
   },
   "outputs": [],
   "source": [
    "def gv(s): return graphviz.Source('digraph G{ rankdir=\"LR\"'+ s + ';}')"
   ]
  },
  {
   "cell_type": "code",
   "execution_count": 12,
   "id": "a67ca455-bdf8-4f97-b9e6-85c97c5580c9",
   "metadata": {},
   "outputs": [],
   "source": [
    "path=untar_data(URLs.MNIST_SAMPLE)"
   ]
  },
  {
   "cell_type": "code",
   "execution_count": 13,
   "id": "66ed649e-df05-453b-9c36-e6422a009344",
   "metadata": {},
   "outputs": [
    {
     "data": {
      "text/plain": [
       "<bound method Path.ls of Path('/home/csy/.fastai/data/mnist_sample')>"
      ]
     },
     "execution_count": 13,
     "metadata": {},
     "output_type": "execute_result"
    }
   ],
   "source": [
    "path.ls"
   ]
  },
  {
   "cell_type": "code",
   "execution_count": 14,
   "id": "cf3eac4f-12dd-4ab4-92ef-46b86022ea4d",
   "metadata": {},
   "outputs": [
    {
     "data": {
      "text/plain": [
       "(#2) [Path('/home/csy/.fastai/data/mnist_sample/train/7'),Path('/home/csy/.fastai/data/mnist_sample/train/3')]"
      ]
     },
     "execution_count": 14,
     "metadata": {},
     "output_type": "execute_result"
    }
   ],
   "source": [
    "(path/'train').ls()"
   ]
  },
  {
   "cell_type": "code",
   "execution_count": 15,
   "id": "55771896-4bc9-4234-af41-503e91f4b1ea",
   "metadata": {
    "id": "d35b8700-c942-48db-9f4a-0417890ded1f"
   },
   "outputs": [],
   "source": [
    "threes=(path/'train'/'3').ls()\n",
    "sevens=(path/'train'/'7').ls()"
   ]
  },
  {
   "cell_type": "code",
   "execution_count": 16,
   "id": "9a1e3861-607f-408d-98ac-a88d09587777",
   "metadata": {
    "id": "54741b7c-c7d1-4ce7-9440-d47d429664b7"
   },
   "outputs": [],
   "source": [
    "seven_tensor = torch.stack([tensor(Image.open(i)) for i in sevens]).float()/255\n",
    "three_tensor = torch.stack([tensor(Image.open(i)) for i in threes]).float()/255"
   ]
  },
  {
   "cell_type": "code",
   "execution_count": 23,
   "id": "55f07f91-d89b-4e8d-829e-a25e0fbfc308",
   "metadata": {
    "id": "606d4f96-da56-4665-9f3f-4ace860933bd"
   },
   "outputs": [],
   "source": [
    "y=torch.tensor([0.0]*6265+ [1.0]*6131).reshape(12396,1)"
   ]
  },
  {
   "cell_type": "code",
   "execution_count": 24,
   "id": "67f8ba13-ce5b-4252-91c1-c87472367df8",
   "metadata": {
    "id": "93bc8238-95ce-4988-9d62-d5e694bdc019"
   },
   "outputs": [],
   "source": [
    "X=torch.vstack([seven_tensor,three_tensor]).reshape(12396,-1)"
   ]
  },
  {
   "cell_type": "code",
   "execution_count": 25,
   "id": "5f6cf469-8a6f-4368-be74-c0ce55115696",
   "metadata": {
    "id": "6a6d8c94-b593-4aed-a09d-05329893066b"
   },
   "outputs": [],
   "source": [
    "X=X.reshape(12396,1,28,28)"
   ]
  },
  {
   "cell_type": "code",
   "execution_count": null,
   "id": "d8ae51a6-9b17-4e1d-a136-fafedc01a7dd",
   "metadata": {},
   "outputs": [],
   "source": []
  }
 ],
 "metadata": {
  "kernelspec": {
   "display_name": "Python 3",
   "language": "python",
   "name": "python3"
  },
  "language_info": {
   "codemirror_mode": {
    "name": "ipython",
    "version": 3
   },
   "file_extension": ".py",
   "mimetype": "text/x-python",
   "name": "python",
   "nbconvert_exporter": "python",
   "pygments_lexer": "ipython3",
   "version": "3.8.12"
  }
 },
 "nbformat": 4,
 "nbformat_minor": 5
}
