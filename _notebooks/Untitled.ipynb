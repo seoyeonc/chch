{
 "cells": [
  {
   "cell_type": "markdown",
   "id": "2cbf391f-19b4-4568-8d78-e5a809e40fb9",
   "metadata": {
    "id": "3ad05ba4-3ed8-44d8-9f65-b5688710daf1",
    "tags": []
   },
   "source": [
    "# Fourier transform, FT\n",
    "> Fourier transform\n",
    "\n",
    "- toc:true\n",
    "- branch: master\n",
    "- badges: true\n",
    "- comments: false\n",
    "- author: 최서연\n",
    "- categories: [Fourier transform]"
   ]
  },
  {
   "cell_type": "markdown",
   "id": "a9622430-c885-4fb1-8365-924509bc7cb0",
   "metadata": {},
   "source": [
    "#### 푸리에 변환"
   ]
  },
  {
   "cell_type": "markdown",
   "id": "601896c0-5701-476b-81c5-d0e9fa6592c5",
   "metadata": {},
   "source": [
    "> 시간이나 공간에 대한 함수를 시간 또는 공간 주파수 성분으로 분해하는 변환을 말한다. 종종 이 변환으로 나타난 주파수 영역에서 함수를 표현한 결과물을 가리키는 용어로도 사용된다."
   ]
  },
  {
   "cell_type": "markdown",
   "id": "37bb9c0e-7867-4796-9bae-64186bf8ea7d",
   "metadata": {},
   "source": [
    ": 임의의 입력 신호를 다양한 주파수를 갖는 주기함수들(sin, cos)의 합으로 분해하여 표현"
   ]
  },
  {
   "cell_type": "markdown",
   "id": "150c513f-24bc-46dd-9210-e3b1ebf5a57f",
   "metadata": {},
   "source": [
    "> youtube: https://www.youtube.com/watch?v=1JnayXHhjlg"
   ]
  },
  {
   "cell_type": "code",
   "execution_count": null,
   "id": "ce5fd3a7-d788-41c0-8eb0-7b284ebe39f4",
   "metadata": {},
   "outputs": [],
   "source": []
  }
 ],
 "metadata": {
  "kernelspec": {
   "display_name": "Python 3",
   "language": "python",
   "name": "python3"
  },
  "language_info": {
   "codemirror_mode": {
    "name": "ipython",
    "version": 3
   },
   "file_extension": ".py",
   "mimetype": "text/x-python",
   "name": "python",
   "nbconvert_exporter": "python",
   "pygments_lexer": "ipython3",
   "version": "3.8.12"
  }
 },
 "nbformat": 4,
 "nbformat_minor": 5
}
