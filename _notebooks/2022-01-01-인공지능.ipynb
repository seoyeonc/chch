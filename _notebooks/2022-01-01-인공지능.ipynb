{
 "cells": [
  {
   "cell_type": "markdown",
   "id": "c5fd0472-d8e4-471b-9c8b-f5bba5e0c361",
   "metadata": {
    "id": "f3553b32-b994-44a7-baea-e85d57f2ce34",
    "tags": []
   },
   "source": [
    "# 야사와 만화로 배우는 인공지능\n",
    "> 인공지능\n",
    "\n",
    "- toc:true\n",
    "- branch: master\n",
    "- badges: true\n",
    "- comments: false\n",
    "- author: 최서연\n",
    "- categories: [인공지능]"
   ]
  },
  {
   "cell_type": "markdown",
   "id": "c755c06e-8dbb-4a29-be79-1b1a10426cfa",
   "metadata": {},
   "source": [
    "ref: https://brunch.co.kr/magazine/yamanin"
   ]
  },
  {
   "cell_type": "markdown",
   "id": "4e52e62a-7c2f-4915-b6de-8eaeacd78230",
   "metadata": {},
   "source": [
    "## 1권"
   ]
  },
  {
   "cell_type": "markdown",
   "id": "7498b4bd-60ca-41de-873f-9c1851f52dbe",
   "metadata": {
    "tags": []
   },
   "source": [
    "#### 인공지능 탄생"
   ]
  },
  {
   "cell_type": "markdown",
   "id": "62c8bb14-029c-4143-8511-0ec14cabd798",
   "metadata": {},
   "source": [
    "인공지능을 정의한 마빈 민스키Marvin Minsky(MIT) vs 신경망 '퍼셉트론' 프랭크 로젠블랫Frank Rosenblatt(코넬연구소)\n",
    "- 퍼셉트론: 학습시켜 추론"
   ]
  },
  {
   "cell_type": "markdown",
   "id": "a5a3f955-c7fa-4974-9233-1634db09e8a5",
   "metadata": {},
   "source": [
    "쿠니히코 후쿠시마Kunihiko Fukushima의 네오코그니트론Neoognitron(1980): CNN 모델의 근간,\n",
    "- s-cell(simple)+c-cell(complex)의 여러층으로 만듦(계층형 네트워크 구조), 추출+모으기의 반복의 결과!"
   ]
  },
  {
   "cell_type": "markdown",
   "id": "623a35d0-9bd4-493f-a976-ab9c3617694f",
   "metadata": {},
   "source": [
    "존 홉필드John Hopfield의 홉필드Hopfield 네트워크 $\\to$ 제프리 힌튼Geoffrey Hinton의 볼츠만 머신Restricted Boltzmann Machine(RBM)(1984)\n",
    "- 제프리 힌튼의 백프로퍼게이션 Back-propagation\n",
    "- 1989년 얀 레쿤 & 요수야 벤지오의 CNN = (네오코그니트론Neoognitron( + 볼츠만 머신Restricted Boltzmann Machine + 백프로퍼게이션Back-propagation)\n",
    "- 얀 레쿤은 LeNet5 개발(손 글씨 우편 번호 자동 인식)"
   ]
  },
  {
   "cell_type": "markdown",
   "id": "32f31eb5-03b5-4886-8334-7fc06b50f0e1",
   "metadata": {},
   "source": [
    "#### 인공지능의 재시작"
   ]
  },
  {
   "cell_type": "markdown",
   "id": "18e903f2-69a6-4e7a-9343-5430794ef1f2",
   "metadata": {},
   "source": [
    "알고리즘(코호넨 맵, 코호넨 네트워크)\n",
    "1. 연결가중치 초기화\n",
    "2. 입력벡터 지시\n",
    "3. 벡터와 모든 뉴런 간 거리 계산\n",
    "4. 최소거리 출력 뉴런 선택\n",
    "5. 승자 뉴런과 이웃 뉴런들 연결 가중치 조겅\n",
    "6. 지정된 학습 횟수 반복\n",
    "    - 벡터 간 거리는 유클리디만 거리법, 연결 가중치 조정은 SOM에서 제시한 연결 가중치 조정식 사용\n",
    "    - 코호넨Kohonen의 중요한 기여 SOM(Self-organizing map): 자기 조직회지도"
   ]
  },
  {
   "cell_type": "markdown",
   "id": "9945f660-8108-45e3-8eb8-8564640d6bf3",
   "metadata": {},
   "source": [
    "코호넨 네크워크 활용: 화상 처리, 문자 인식, 연상 기억, 음성 변환, 데이터 마이닝, 패턴 인식, 최적화 문제, NP-Hard(TSP, Traveling Salesperson Problem) 등\n",
    "- NP-Hard: 문제거 계산 불가능할 정도로 지나치게 복잡할 경우로 실제 최적해가 아니더라도 최적해에 가까운 답을 찾는다."
   ]
  },
  {
   "cell_type": "markdown",
   "id": "98ab5af4-c7d8-4f9f-9bf2-d7457e365405",
   "metadata": {},
   "source": [
    "#### 인공지능의 봄"
   ]
  },
  {
   "cell_type": "markdown",
   "id": "f07bfdb5-cf94-4568-9bc7-a43aa7d6dea6",
   "metadata": {},
   "source": [
    "ADALINE 모델\n",
    "- input $\\to$ weights가중치 $\\to$ Net Inputs Function순입력함수 $\\to$ Activationfunction실제값과 예측값의 차이 계산 최소가 되게! $\\to$ Quanatiger -1 또는 1로 표시 $\\to$ output\n",
    "    - 얀 레쿤이 발견한 논문 $\\to$ 데이빗 럼멜하트David E. Rumelhart(캘리포니아 대학)과 제프리 힌튼Geoffrey Hinton에 의해 백프로퍼게이션Back-propagation이 다시 정리되어 신경망 부활"
   ]
  },
  {
   "cell_type": "markdown",
   "id": "49dd98c9-2607-402e-a0f5-e9d3eebaaf6f",
   "metadata": {},
   "source": [
    "ADALINE 모델에서 실제값-예측값 계산시 최소화하기 위해 비용함수J(w)가 사용된다."
   ]
  },
  {
   "cell_type": "markdown",
   "id": "1530e290-7adc-45c3-9d03-38817af774bf",
   "metadata": {},
   "source": [
    "$w_j = w_j + \\Delta w_j = w_j - \\eta \\Delta J(w) = w_j - \\eta \\sum_{i}(y_i-\\hat{y_i}x_{ji})$"
   ]
  },
  {
   "cell_type": "markdown",
   "id": "4b9675e5-0c4f-43a9-9bac-6cde86a8ff9f",
   "metadata": {},
   "source": [
    "#### 딥러닝 세상"
   ]
  },
  {
   "cell_type": "markdown",
   "id": "f95fc2b2-3e10-43d4-83e5-5621396a6d13",
   "metadata": {},
   "source": [
    "홉필드John J. Hopfield의 첫 논문 - 신경 회로망과 응집력이 있는 물리적 시스템(이론 물리, 신경생물학, 컴퓨터 과학)"
   ]
  },
  {
   "cell_type": "markdown",
   "id": "07094a3b-740e-42d7-a79f-a32e5df1b855",
   "metadata": {},
   "source": [
    "허버트 사이먼Herbert A. Simon의 인공지능 연구 목적 2가지 \n",
    "- 인간 능력 증진(활용측면)\n",
    "- 어떻게 사고하는지 이해(원리 추론)\n",
    "- 오류역전파 학습 알고리즘 형식화를 통해 인간인지에 대한 접근 시도를 보여주기도 함"
   ]
  },
  {
   "cell_type": "markdown",
   "id": "5251836c-f669-4b1f-ae92-9a5d9efa12d4",
   "metadata": {},
   "source": [
    "뉴욕대 조경현 교수\n",
    "- GRU(Gated Recurrent Unit) 모델(LSTM 모델 개선)\n",
    "    - forget-gate와 input-fate를 update date로 통합하고 cell state와 hidden state를 하나로 통합한 것"
   ]
  },
  {
   "cell_type": "markdown",
   "id": "0ff69b05-a967-47d5-b7c8-d48a8b825603",
   "metadata": {},
   "source": [
    "딥러닝(여러 층으로 구성된 신경망을 학습시키는 방법)\n",
    "- 제프리 힌튼Geoffrey Everest Hinton + 요슈아 벤지오Yoshua Bengio + 얀 레쿤Yann LeCun"
   ]
  },
  {
   "cell_type": "markdown",
   "id": "7d3a75cf-a35f-49b3-bba2-c5fea70658b2",
   "metadata": {},
   "source": [
    "자비에 글로럿Xavier Glorot - ReLU 비선형성을 사용하여 딥러닝"
   ]
  },
  {
   "cell_type": "markdown",
   "id": "19a09021-509c-4896-bec6-14dce607201f",
   "metadata": {},
   "source": [
    "요슈아 벤지오 Yoshua Bengio - MILA(the Montreal Institute for Learning Algorithms) 세워서 삼성전자와 협력!"
   ]
  },
  {
   "cell_type": "markdown",
   "id": "0c7850bd-95aa-453f-baa9-52f9ada02c47",
   "metadata": {},
   "source": [
    "제프리 힌튼\n",
    "- A fast learning algorithm for deep belif nsts 깊은 신경망 네트워크를 잘 학습시키기 위해 초기화가 중요\n",
    "- 볼츠만 머신 응용한 RBM으로 두개층 쌓아가는 초기화 방법 제안\n",
    "- 신경망 깊으면 학습이 되지 않는 vanishing gradient 문제 해결 가능성 시사\n",
    "- RBM: Backward, Foreward 반복하여 weight 조정"
   ]
  },
  {
   "cell_type": "markdown",
   "id": "1d90430f-607f-4523-9d5d-2432d95e624b",
   "metadata": {},
   "source": [
    "> note: 딥러닝 신경망: 학습에 있어서 사람처럼 좋은 데이터로 잘 학습시키는 것이 중요하지만 신경망의 초기값을 어떻게 주느냐가 학습에 매우 큰 영향을 줌"
   ]
  },
  {
   "cell_type": "markdown",
   "id": "fc3bb6a2-e8ad-4c9a-bb80-fe608c2fb415",
   "metadata": {},
   "source": [
    "2010년 몬트리온 대학 요슈아 벤치오 연구실의 자비에 글로럿이 초기화하려는 신경망 구간에서 input 노트와 output 노트 수에 비례하여 정규분포로 초기화하면 훨씬 쉽고 빠르게 초기화 가능 보여줌\n",
    "\n",
    "$$N(\\phi, \\sqrt{\\frac{2}{(입력수+출력수)}})$$"
   ]
  },
  {
   "cell_type": "markdown",
   "id": "d8d3494f-41a5-46f4-941e-b5f71200c3e7",
   "metadata": {},
   "source": [
    "케이밍 허Kaming He: ReLU 함수에 효과적 초기화 방식 제안\n",
    "\n",
    "$$N(\\phi,\\sqrt{\\frac{2}{입력수}})$$"
   ]
  },
  {
   "cell_type": "markdown",
   "id": "10c18f32-f04b-43df-97ae-b97fbebb7ba2",
   "metadata": {},
   "source": [
    "알렉스와 일리야\n",
    "- 제한된 시간에 성능을 내기 위해 자신들의 모델에 GPU 기능 추가\n",
    "- but, overfitting 문제\n",
    "- 니티시 스리바스타바Nitish Srivastava: 모든 노드를 계산하지 않고 랜덤하게 일부 노드 계산 값을 버리고 계산하자 $\\to$ 드랍아웃 dropout\n",
    "- 활성화 함수인 ReLU로 바꿔보니 훨씬 향상\n",
    "- ILSVRC 대회 오류율 26% $\\to$ 15% 로 떨어뜨려 우승"
   ]
  },
  {
   "cell_type": "markdown",
   "id": "0b368a3e-bf67-4c01-87f3-91eba53fb918",
   "metadata": {},
   "source": [
    "## 2권"
   ]
  },
  {
   "cell_type": "markdown",
   "id": "6fca93a2-b607-4d7e-a10a-e3775791b45a",
   "metadata": {},
   "source": []
  },
  {
   "cell_type": "markdown",
   "id": "55327b81-527a-4c39-9655-4f53f1a257bd",
   "metadata": {},
   "source": []
  },
  {
   "cell_type": "markdown",
   "id": "b9511a26-7c4d-4b90-9e14-a8c4fddac370",
   "metadata": {},
   "source": []
  },
  {
   "cell_type": "markdown",
   "id": "f8266894-874c-4fe2-b64e-7cb44e956234",
   "metadata": {},
   "source": []
  },
  {
   "cell_type": "markdown",
   "id": "cc2ad730-36b9-485b-b59e-e8f78f828074",
   "metadata": {},
   "source": []
  },
  {
   "cell_type": "markdown",
   "id": "b8a220a3-c504-4523-8683-2d3f6d8ff4fa",
   "metadata": {},
   "source": []
  },
  {
   "cell_type": "markdown",
   "id": "d3f6aa56-990c-44bf-83b0-3f7c268a2648",
   "metadata": {},
   "source": []
  },
  {
   "cell_type": "markdown",
   "id": "c12be1b4-12a2-45ac-a110-99667604f6b9",
   "metadata": {},
   "source": []
  },
  {
   "cell_type": "markdown",
   "id": "343d3c76-646d-4eb8-ad28-68598eb3e9a0",
   "metadata": {},
   "source": []
  },
  {
   "cell_type": "markdown",
   "id": "d43c0d86-8583-4ec1-8c4e-6fbfd1810352",
   "metadata": {},
   "source": []
  },
  {
   "cell_type": "markdown",
   "id": "4d319a63-2ca5-4a5c-9e23-7f88a9b64732",
   "metadata": {},
   "source": [
    "## 3권"
   ]
  },
  {
   "cell_type": "code",
   "execution_count": null,
   "id": "944132f3-bcde-4131-81ac-b9b8c0696bb8",
   "metadata": {},
   "outputs": [],
   "source": []
  }
 ],
 "metadata": {
  "kernelspec": {
   "display_name": "Python 3",
   "language": "python",
   "name": "python3"
  },
  "language_info": {
   "codemirror_mode": {
    "name": "ipython",
    "version": 3
   },
   "file_extension": ".py",
   "mimetype": "text/x-python",
   "name": "python",
   "nbconvert_exporter": "python",
   "pygments_lexer": "ipython3",
   "version": "3.8.12"
  }
 },
 "nbformat": 4,
 "nbformat_minor": 5
}
