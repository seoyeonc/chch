{
 "cells": [
  {
   "cell_type": "markdown",
   "id": "e05d01f9-83a6-4cc7-97ca-9453a99a5e29",
   "metadata": {
    "tags": []
   },
   "source": [
    "# 기계학습 특강 (6주차) 10월5일 Homework\n",
    "> \n",
    "\n",
    "- toc:true\n",
    "- branch: master\n",
    "- badges: true\n",
    "- comments: false\n",
    "- author: 최서연\n",
    "- categories: [Special Topics in Machine Learning]"
   ]
  },
  {
   "cell_type": "markdown",
   "id": "13e464e9-ec54-402a-ad0d-204d356f9172",
   "metadata": {
    "id": "b87bafb6-7825-47a5-83d5-6bdb8695b86e"
   },
   "source": [
    "## imports"
   ]
  },
  {
   "cell_type": "code",
   "execution_count": 198,
   "id": "b468f250-35ba-4cb9-8500-6324caebdaf5",
   "metadata": {
    "id": "187b8464-ed3f-47c9-85c8-873f500e4893",
    "tags": []
   },
   "outputs": [],
   "source": [
    "import torch\n",
    "import torchvision\n",
    "from fastai.data.all import *\n",
    "import matplotlib.pyplot as plt"
   ]
  },
  {
   "cell_type": "markdown",
   "id": "98d155ff-66f8-4884-b397-86bd22521b9e",
   "metadata": {
    "id": "1e963452-0ff3-4200-857d-ae505c055a39"
   },
   "source": [
    "## 숙제 (해설 및 풀이는 [여기](https://guebin.github.io/DL2022/2022/10/06/(6%EC%A3%BC%EC%B0%A8)-10%EC%9B%946%EC%9D%BC.html#%EC%88%99%EC%A0%9C)참고) "
   ]
  },
  {
   "cell_type": "markdown",
   "id": "7e0921d1-55af-4d59-899d-188316624fef",
   "metadata": {
    "id": "88b19e4f-ab49-4fa0-a4dc-1ae6f0318e16"
   },
   "source": [
    "(1) 숫자0과 숫자1을 구분하는 네트워크를 아래와 같은 구조로 설계하라\n",
    "\n",
    "$$\\underset{(n,784)}{\\bf X} \\overset{l_1}{\\to} \\underset{(n,64)}{\\boldsymbol u^{(1)}} \\overset{a_1}{\\to} \\underset{(n,64)}{\\boldsymbol v^{(1)}} \\overset{l_1}{\\to} \\underset{(n,1)}{\\boldsymbol u^{(2)}} \\overset{a_2}{\\to} \\underset{(n,1)}{\\boldsymbol v^{(2)}}=\\underset{(n,1)}{\\hat{\\boldsymbol y}}$$\n",
    "\n",
    "위에서 $a_1$은 relu를, $a_2$는 sigmoid를 의미한다. "
   ]
  },
  {
   "cell_type": "markdown",
   "id": "566c19cb-e27f-44da-bb5e-8d6c549d2919",
   "metadata": {
    "id": "c6abcaba-8159-4820-95d4-314c418893d4"
   },
   "source": [
    "- \"y=0\"은 숫자0을 의미하도록 하고 \"y=1\"은 숫자1을 의미하도록 설정하라. "
   ]
  },
  {
   "cell_type": "code",
   "execution_count": 700,
   "id": "cce2c13a-e705-461c-b0bf-211edcde8b5d",
   "metadata": {},
   "outputs": [],
   "source": [
    "path = untar_data(URLs.MNIST)"
   ]
  },
  {
   "cell_type": "code",
   "execution_count": 701,
   "id": "78c1799b-ceb1-4ca3-8ccf-26294c214835",
   "metadata": {},
   "outputs": [],
   "source": [
    "zero_fnames = (path/'training/0').ls()"
   ]
  },
  {
   "cell_type": "code",
   "execution_count": 702,
   "id": "a7a2a580-7bc6-4d4a-80f5-5f67acf42842",
   "metadata": {},
   "outputs": [],
   "source": [
    "one_fnames = (path/'training/1').ls()"
   ]
  },
  {
   "cell_type": "code",
   "execution_count": 703,
   "id": "02e55131-af80-41a2-bd73-fcf019831c24",
   "metadata": {},
   "outputs": [],
   "source": [
    "X0 = torch.stack([torchvision.io.read_image(str(zf)) for zf in zero_fnames])"
   ]
  },
  {
   "cell_type": "code",
   "execution_count": 704,
   "id": "4c175854-f0cf-475c-8925-d5c16db0ae9d",
   "metadata": {},
   "outputs": [],
   "source": [
    "X1 = torch.stack([torchvision.io.read_image(str(of)) for of in one_fnames])"
   ]
  },
  {
   "cell_type": "code",
   "execution_count": 705,
   "id": "710d8270-1888-4982-a053-bb86ad351011",
   "metadata": {},
   "outputs": [],
   "source": [
    "X = torch.concat([X0,X1],axis=0).reshape(-1,1*28*28).float()"
   ]
  },
  {
   "cell_type": "code",
   "execution_count": 709,
   "id": "fecd0fae-9995-422c-b140-9c41a28189d1",
   "metadata": {},
   "outputs": [],
   "source": [
    "y = torch.tensor([0.0]*len(X0) + [1.0]*len(X1)).reshape(-1,1)"
   ]
  },
  {
   "cell_type": "code",
   "execution_count": 710,
   "id": "0852e183-ec65-4e6f-adc9-e3d12a079f8f",
   "metadata": {},
   "outputs": [],
   "source": [
    "torch.manual_seed(12345)\n",
    "net = torch.nn.Sequential(\n",
    "    torch.nn.Linear(784,64),\n",
    "    torch.nn.ReLU(),\n",
    "    torch.nn.Linear(64,1),\n",
    "    torch.nn.Sigmoid()\n",
    ")"
   ]
  },
  {
   "cell_type": "markdown",
   "id": "4e10c526-3e45-46e0-b065-c42e58a3266f",
   "metadata": {
    "id": "0eb66b3a-0ca8-469d-998b-525aca132f4e"
   },
   "source": [
    "(2) 아래의 지침에 따라 200 epoch 학습을 진행하라.\n",
    "- 손실함수는 BECLoss를 이용할 것. torch.nn.BCELoss() 를 이용할 것. \n",
    "- 옵티마이저는 아담으로 설정할 것. 학습률은 lr=0.002로 설정할 것. "
   ]
  },
  {
   "cell_type": "code",
   "execution_count": 711,
   "id": "194a6d07-8039-41a8-a15b-6bff4d46b1e6",
   "metadata": {},
   "outputs": [],
   "source": [
    "loss_fn = torch.nn.BCELoss()\n",
    "optimizr = torch.optim.Adam(net.parameters(),lr=0.002)"
   ]
  },
  {
   "cell_type": "code",
   "execution_count": 712,
   "id": "6adaead3-ec41-48ec-839b-5d14dd670679",
   "metadata": {},
   "outputs": [],
   "source": [
    "for epoc in range(200):\n",
    "    yhat = net(X)\n",
    "    loss = loss_fn(yhat,y)\n",
    "    loss.backward()\n",
    "    optimizr.step()\n",
    "    optimizr.zero_grad()"
   ]
  },
  {
   "cell_type": "code",
   "execution_count": 713,
   "id": "ffd1d73f-4e72-43f1-b6a1-53dcfda4b91e",
   "metadata": {},
   "outputs": [
    {
     "data": {
      "text/plain": [
       "[<matplotlib.lines.Line2D at 0x7fa026574ee0>]"
      ]
     },
     "execution_count": 713,
     "metadata": {},
     "output_type": "execute_result"
    },
    {
     "data": {
      "image/png": "[encoded data removed]",
      "text/plain": [
       "<Figure size 432x288 with 1 Axes>"
      ]
     },
     "metadata": {
      "needs_background": "light"
     },
     "output_type": "display_data"
    }
   ],
   "source": [
    "plt.plot(y)\n",
    "plt.plot(yhat.data,'.',alpha=0.4)"
   ]
  },
  {
   "cell_type": "markdown",
   "id": "6758bd2b-53bd-4c9b-88d9-e3d0bac5d2ed",
   "metadata": {
    "id": "7a6a3311-6637-40ec-8173-dae3119d22e6"
   },
   "source": [
    "(3) 아래의 지침에 따라 200 epoch 학습을 진행하라. 학습이 잘 되는가? \n",
    "- 손실함수는 BECLoss를 이용할 것. torch.nn.BCELoss()를 사용하지 않고 수식을 직접 입력할 것.\n",
    "- 옵티마이저는 아담으로 설정할 것. 학습률은 lr=0.002로 설정할 것. "
   ]
  },
  {
   "cell_type": "code",
   "execution_count": 714,
   "id": "b2b0867a-69ef-4ea1-b42e-dd709e49b55a",
   "metadata": {},
   "outputs": [],
   "source": [
    "torch.manual_seed(12345)\n",
    "net = torch.nn.Sequential(\n",
    "    torch.nn.Linear(784,64),\n",
    "    torch.nn.ReLU(),\n",
    "    torch.nn.Linear(64,1),\n",
    "    torch.nn.Sigmoid()\n",
    ")"
   ]
  },
  {
   "cell_type": "code",
   "execution_count": 715,
   "id": "9b029676-1d64-421a-aa36-2b107c169a5a",
   "metadata": {},
   "outputs": [],
   "source": [
    "optimizr = torch.optim.Adam(net.parameters(),lr=0.002)"
   ]
  },
  {
   "cell_type": "code",
   "execution_count": 716,
   "id": "fd6625f9-0764-4090-84c0-be451fbb36ce",
   "metadata": {},
   "outputs": [],
   "source": [
    "for epoc in range(200):\n",
    "    yhat = net(X)\n",
    "    loss = -torch.mean(y*torch.log(yhat) + (1-y)*torch.log(1-yhat))\n",
    "    loss.backward()\n",
    "    optimizr.step()\n",
    "    optimizr.zero_grad()"
   ]
  },
  {
   "cell_type": "code",
   "execution_count": 717,
   "id": "cc11bc41-71ba-43c5-8203-6eb02004ed0e",
   "metadata": {},
   "outputs": [
    {
     "data": {
      "text/plain": [
       "[<matplotlib.lines.Line2D at 0x7fa03ab98790>]"
      ]
     },
     "execution_count": 717,
     "metadata": {},
     "output_type": "execute_result"
    },
    {
     "data": {
      "image/png": "[encoded data removed]",
      "text/plain": [
       "<Figure size 432x288 with 1 Axes>"
      ]
     },
     "metadata": {
      "needs_background": "light"
     },
     "output_type": "display_data"
    }
   ],
   "source": [
    "plt.plot(y)\n",
    "plt.plot(yhat.data,'.',alpha=0.4)"
   ]
  },
  {
   "cell_type": "code",
   "execution_count": 718,
   "id": "3ad780b7-11b4-469c-ae05-158497158eb7",
   "metadata": {},
   "outputs": [
    {
     "data": {
      "text/plain": [
       "tensor([[nan],\n",
       "        [nan],\n",
       "        [nan],\n",
       "        ...,\n",
       "        [nan],\n",
       "        [nan],\n",
       "        [nan]])"
      ]
     },
     "execution_count": 718,
     "metadata": {},
     "output_type": "execute_result"
    }
   ],
   "source": [
    "yhat.data"
   ]
  },
  {
   "cell_type": "markdown",
   "id": "0e205751-09b0-4687-8612-ebaa49a30109",
   "metadata": {},
   "source": [
    "학습이 잘 되지 않았다."
   ]
  },
  {
   "cell_type": "markdown",
   "id": "4df6c374-60bd-4910-8dcb-8cad13a2d98f",
   "metadata": {
    "id": "f1b676a7-cbfd-4e9a-9975-167426a135f4"
   },
   "source": [
    "(4) 아래의 지침에 따라 200 epoch 학습을 진행하라. 학습이 잘 되는가? \n",
    "- 이미지의 값을 0과 1사이로 규격화 하라. (Xnp = Xnp/255 를 이용하세요!)\n",
    "- 손실함수는 BECLoss를 이용할 것. torch.nn.BCELoss()를 사용하지 않고 수식을 직접 입력할 것.\n",
    "- 옵티마이저는 아담으로 설정할 것. 학습률은 lr=0.002로 설정할 것. "
   ]
  },
  {
   "cell_type": "code",
   "execution_count": 719,
   "id": "578dc5dd-89d0-43d2-9aa6-c869051211bf",
   "metadata": {},
   "outputs": [],
   "source": [
    "X = X/255"
   ]
  },
  {
   "cell_type": "code",
   "execution_count": 720,
   "id": "82723c20-9612-42ce-9734-a01d6f2758e5",
   "metadata": {},
   "outputs": [],
   "source": [
    "torch.manual_seed(12345)\n",
    "net = torch.nn.Sequential(\n",
    "    torch.nn.Linear(784,64),\n",
    "    torch.nn.ReLU(),\n",
    "    torch.nn.Linear(64,1),\n",
    "    torch.nn.Sigmoid()\n",
    ")"
   ]
  },
  {
   "cell_type": "code",
   "execution_count": 721,
   "id": "734638d6-d69b-4176-be41-d9644eb37681",
   "metadata": {},
   "outputs": [],
   "source": [
    "optimizr=torch.optim.Adam(net.parameters(),lr=0.002)"
   ]
  },
  {
   "cell_type": "code",
   "execution_count": 722,
   "id": "48b1e1d8-c83f-431e-80af-4fa71aff0fcb",
   "metadata": {},
   "outputs": [],
   "source": [
    "for epoc in range(200):\n",
    "    yhat = net(X)\n",
    "    loss = -torch.mean(y*torch.log(yhat) + (1-y)*torch.log(1-yhat))\n",
    "    loss.backward()\n",
    "    optimizr.step()\n",
    "    optimizr.zero_grad()"
   ]
  },
  {
   "cell_type": "code",
   "execution_count": 723,
   "id": "6116e56d-5f5b-42e7-92cb-fab8c260b87a",
   "metadata": {},
   "outputs": [
    {
     "data": {
      "text/plain": [
       "[<matplotlib.lines.Line2D at 0x7fa0327c0dc0>]"
      ]
     },
     "execution_count": 723,
     "metadata": {},
     "output_type": "execute_result"
    },
    {
     "data": {
      "image/png": "[encoded data removed]",
      "text/plain": [
       "<Figure size 432x288 with 1 Axes>"
      ]
     },
     "metadata": {
      "needs_background": "light"
     },
     "output_type": "display_data"
    }
   ],
   "source": [
    "plt.plot(y)\n",
    "plt.plot(yhat.data,'.',alpha=0.4)"
   ]
  },
  {
   "cell_type": "markdown",
   "id": "21512adf-8771-4f7a-9cec-75eaf4a2fbe3",
   "metadata": {
    "id": "3fdb16a4-61e3-4eb0-8961-1b0131d8af43"
   },
   "source": [
    "(5) 아래와 같은 수식을 이용하여 accuracy를 계산하라. "
   ]
  },
  {
   "cell_type": "markdown",
   "id": "102def98-f67f-4f5a-8d39-933f6d169eec",
   "metadata": {
    "id": "bd3c67fe-56bf-4dfc-a71c-cdcab1047417"
   },
   "source": [
    "$\\text{accuracy}=\\frac{1}{n}\\sum_{i=1}^n I(\\tilde{y}_i=y_i)$\n",
    "- $\\tilde{y}_i = \\begin{cases}\n",
    " 1 & \\hat{y}_i > 0.5 \\\\ \n",
    " 0 & \\hat{y}_i \\leq 0.5 \n",
    "\\end{cases}$ \n",
    "- $I(\\tilde{y}_i=y_i) = \\begin{cases} 1 & \\tilde{y}_i=y_i \\\\ 0 & \\tilde{y}_i \\neq y_i \\end{cases}$"
   ]
  },
  {
   "cell_type": "markdown",
   "id": "871b42e1-d6dd-499d-ab65-fdfd88d4831e",
   "metadata": {
    "id": "f38eecbe-dff1-4bac-9b9d-aa61d33212f3"
   },
   "source": [
    "단, $n$은 0과 1을 의미하는 이미지의 수 "
   ]
  },
  {
   "cell_type": "code",
   "execution_count": 724,
   "id": "8ed07bf5-783a-418c-9af3-48363625145a",
   "metadata": {},
   "outputs": [],
   "source": [
    "ytilde = (yhat > 0.5) * 1"
   ]
  },
  {
   "cell_type": "code",
   "execution_count": 725,
   "id": "a9d7badd-0272-4ee7-bba4-b6227ce106f5",
   "metadata": {},
   "outputs": [
    {
     "data": {
      "text/plain": [
       "tensor([[0],\n",
       "        [0],\n",
       "        [0],\n",
       "        ...,\n",
       "        [1],\n",
       "        [1],\n",
       "        [1]])"
      ]
     },
     "execution_count": 725,
     "metadata": {},
     "output_type": "execute_result"
    }
   ],
   "source": [
    "ytilde"
   ]
  },
  {
   "cell_type": "code",
   "execution_count": 726,
   "id": "4bdef4d8-1faf-4b75-9919-e4c4897b01da",
   "metadata": {},
   "outputs": [
    {
     "data": {
      "text/plain": [
       "tensor([[1],\n",
       "        [1],\n",
       "        [1],\n",
       "        ...,\n",
       "        [1],\n",
       "        [1],\n",
       "        [1]])"
      ]
     },
     "execution_count": 726,
     "metadata": {},
     "output_type": "execute_result"
    }
   ],
   "source": [
    "(ytilde == y) * 1"
   ]
  },
  {
   "cell_type": "code",
   "execution_count": 727,
   "id": "f55d4fe4-26f8-472c-bb23-0c3526646932",
   "metadata": {},
   "outputs": [
    {
     "data": {
      "text/plain": [
       "tensor(12661)"
      ]
     },
     "execution_count": 727,
     "metadata": {},
     "output_type": "execute_result"
    }
   ],
   "source": [
    "torch.sum((ytilde == y) * 1)"
   ]
  },
  {
   "cell_type": "code",
   "execution_count": 728,
   "id": "350fcc41-a8a0-455b-ada6-59af36004e1f",
   "metadata": {},
   "outputs": [
    {
     "data": {
      "text/plain": [
       "tensor(0.9997)"
      ]
     },
     "execution_count": 728,
     "metadata": {},
     "output_type": "execute_result"
    }
   ],
   "source": [
    "torch.sum((ytilde == y) * 1)/len(y)"
   ]
  },
  {
   "cell_type": "code",
   "execution_count": 730,
   "id": "120350b2-6d51-4819-9071-e83ee6a8f6eb",
   "metadata": {},
   "outputs": [
    {
     "name": "stdout",
     "output_type": "stream",
     "text": [
      "accuraccy:  tensor(0.9997)\n"
     ]
    }
   ],
   "source": [
    "print(\"accuraccy: \",torch.sum((ytilde == y) * 1)/len(y))"
   ]
  }
 ],
 "metadata": {
  "kernelspec": {
   "display_name": "Python 3 (ipykernel)",
   "language": "python",
   "name": "python3"
  },
  "language_info": {
   "codemirror_mode": {
    "name": "ipython",
    "version": 3
   },
   "file_extension": ".py",
   "mimetype": "text/x-python",
   "name": "python",
   "nbconvert_exporter": "python",
   "pygments_lexer": "ipython3",
   "version": "3.8.12"
  }
 },
 "nbformat": 4,
 "nbformat_minor": 5
}
