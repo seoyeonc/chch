{
 "cells": [
  {
   "cell_type": "markdown",
   "id": "34a6504b-389b-49f2-9ce4-d6cb60499933",
   "metadata": {},
   "source": []
  },
  {
   "cell_type": "code",
   "execution_count": null,
   "id": "5dc0b027-2a75-472c-bcaf-da73e499b3f0",
   "metadata": {},
   "outputs": [],
   "source": [
    "https://www.mk.co.kr/news/it/view/2021/06/538404/"
   ]
  }
 ],
 "metadata": {
  "kernelspec": {
   "display_name": "Python 3",
   "language": "python",
   "name": "python3"
  },
  "language_info": {
   "codemirror_mode": {
    "name": "ipython",
    "version": 3
   },
   "file_extension": ".py",
   "mimetype": "text/x-python",
   "name": "python",
   "nbconvert_exporter": "python",
   "pygments_lexer": "ipython3",
   "version": "3.8.12"
  }
 },
 "nbformat": 4,
 "nbformat_minor": 5
}
