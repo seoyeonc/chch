{
 "cells": [
  {
   "cell_type": "markdown",
   "id": "3a5cb57d-af27-42d6-a5e8-4656e4474a6a",
   "metadata": {
    "tags": []
   },
   "source": [
    "# 고급회귀분석 실습\n",
    "> chapter 6, chapter 7\n",
    "\n",
    "- toc:true\n",
    "- branch: master\n",
    "- badges: true\n",
    "- comments: false\n",
    "- author: 최서연\n",
    "- categories: [Advanced Regression Analysis]"
   ]
  },
  {
   "cell_type": "code",
   "execution_count": 1,
   "id": "250cbd09-db19-4d07-bd92-c2447ae06544",
   "metadata": {},
   "outputs": [],
   "source": [
    "library(MASS)"
   ]
  },
  {
   "cell_type": "code",
   "execution_count": 2,
   "id": "3543985c-6d7c-406b-adb4-4d3d212a68bc",
   "metadata": {},
   "outputs": [],
   "source": [
    "data(Boston)"
   ]
  },
  {
   "cell_type": "code",
   "execution_count": 3,
   "id": "417d2a27-25bd-4427-99d7-116b357ffcc0",
   "metadata": {},
   "outputs": [
    {
     "data": {
      "text/html": [
       "<table class=\"dataframe\">\n",
       "<caption>A data.frame: 6 × 14</caption>\n",
       "<thead>\n",
       "\t<tr><th></th><th scope=col>crim</th><th scope=col>zn</th><th scope=col>indus</th><th scope=col>chas</th><th scope=col>nox</th><th scope=col>rm</th><th scope=col>age</th><th scope=col>dis</th><th scope=col>rad</th><th scope=col>tax</th><th scope=col>ptratio</th><th scope=col>black</th><th scope=col>lstat</th><th scope=col>medv</th></tr>\n",
       "\t<tr><th></th><th scope=col>&lt;dbl&gt;</th><th scope=col>&lt;dbl&gt;</th><th scope=col>&lt;dbl&gt;</th><th scope=col>&lt;int&gt;</th><th scope=col>&lt;dbl&gt;</th><th scope=col>&lt;dbl&gt;</th><th scope=col>&lt;dbl&gt;</th><th scope=col>&lt;dbl&gt;</th><th scope=col>&lt;int&gt;</th><th scope=col>&lt;dbl&gt;</th><th scope=col>&lt;dbl&gt;</th><th scope=col>&lt;dbl&gt;</th><th scope=col>&lt;dbl&gt;</th><th scope=col>&lt;dbl&gt;</th></tr>\n",
       "</thead>\n",
       "<tbody>\n",
       "\t<tr><th scope=row>1</th><td>0.00632</td><td>18</td><td>2.31</td><td>0</td><td>0.538</td><td>6.575</td><td>65.2</td><td>4.0900</td><td>1</td><td>296</td><td>15.3</td><td>396.90</td><td>4.98</td><td>24.0</td></tr>\n",
       "\t<tr><th scope=row>2</th><td>0.02731</td><td> 0</td><td>7.07</td><td>0</td><td>0.469</td><td>6.421</td><td>78.9</td><td>4.9671</td><td>2</td><td>242</td><td>17.8</td><td>396.90</td><td>9.14</td><td>21.6</td></tr>\n",
       "\t<tr><th scope=row>3</th><td>0.02729</td><td> 0</td><td>7.07</td><td>0</td><td>0.469</td><td>7.185</td><td>61.1</td><td>4.9671</td><td>2</td><td>242</td><td>17.8</td><td>392.83</td><td>4.03</td><td>34.7</td></tr>\n",
       "\t<tr><th scope=row>4</th><td>0.03237</td><td> 0</td><td>2.18</td><td>0</td><td>0.458</td><td>6.998</td><td>45.8</td><td>6.0622</td><td>3</td><td>222</td><td>18.7</td><td>394.63</td><td>2.94</td><td>33.4</td></tr>\n",
       "\t<tr><th scope=row>5</th><td>0.06905</td><td> 0</td><td>2.18</td><td>0</td><td>0.458</td><td>7.147</td><td>54.2</td><td>6.0622</td><td>3</td><td>222</td><td>18.7</td><td>396.90</td><td>5.33</td><td>36.2</td></tr>\n",
       "\t<tr><th scope=row>6</th><td>0.02985</td><td> 0</td><td>2.18</td><td>0</td><td>0.458</td><td>6.430</td><td>58.7</td><td>6.0622</td><td>3</td><td>222</td><td>18.7</td><td>394.12</td><td>5.21</td><td>28.7</td></tr>\n",
       "</tbody>\n",
       "</table>\n"
      ],
      "text/latex": [
       "A data.frame: 6 × 14\n",
       "\\begin{tabular}{r|llllllllllllll}\n",
       "  & crim & zn & indus & chas & nox & rm & age & dis & rad & tax & ptratio & black & lstat & medv\\\\\n",
       "  & <dbl> & <dbl> & <dbl> & <int> & <dbl> & <dbl> & <dbl> & <dbl> & <int> & <dbl> & <dbl> & <dbl> & <dbl> & <dbl>\\\\\n",
       "\\hline\n",
       "\t1 & 0.00632 & 18 & 2.31 & 0 & 0.538 & 6.575 & 65.2 & 4.0900 & 1 & 296 & 15.3 & 396.90 & 4.98 & 24.0\\\\\n",
       "\t2 & 0.02731 &  0 & 7.07 & 0 & 0.469 & 6.421 & 78.9 & 4.9671 & 2 & 242 & 17.8 & 396.90 & 9.14 & 21.6\\\\\n",
       "\t3 & 0.02729 &  0 & 7.07 & 0 & 0.469 & 7.185 & 61.1 & 4.9671 & 2 & 242 & 17.8 & 392.83 & 4.03 & 34.7\\\\\n",
       "\t4 & 0.03237 &  0 & 2.18 & 0 & 0.458 & 6.998 & 45.8 & 6.0622 & 3 & 222 & 18.7 & 394.63 & 2.94 & 33.4\\\\\n",
       "\t5 & 0.06905 &  0 & 2.18 & 0 & 0.458 & 7.147 & 54.2 & 6.0622 & 3 & 222 & 18.7 & 396.90 & 5.33 & 36.2\\\\\n",
       "\t6 & 0.02985 &  0 & 2.18 & 0 & 0.458 & 6.430 & 58.7 & 6.0622 & 3 & 222 & 18.7 & 394.12 & 5.21 & 28.7\\\\\n",
       "\\end{tabular}\n"
      ],
      "text/markdown": [
       "\n",
       "A data.frame: 6 × 14\n",
       "\n",
       "| <!--/--> | crim &lt;dbl&gt; | zn &lt;dbl&gt; | indus &lt;dbl&gt; | chas &lt;int&gt; | nox &lt;dbl&gt; | rm &lt;dbl&gt; | age &lt;dbl&gt; | dis &lt;dbl&gt; | rad &lt;int&gt; | tax &lt;dbl&gt; | ptratio &lt;dbl&gt; | black &lt;dbl&gt; | lstat &lt;dbl&gt; | medv &lt;dbl&gt; |\n",
       "|---|---|---|---|---|---|---|---|---|---|---|---|---|---|---|\n",
       "| 1 | 0.00632 | 18 | 2.31 | 0 | 0.538 | 6.575 | 65.2 | 4.0900 | 1 | 296 | 15.3 | 396.90 | 4.98 | 24.0 |\n",
       "| 2 | 0.02731 |  0 | 7.07 | 0 | 0.469 | 6.421 | 78.9 | 4.9671 | 2 | 242 | 17.8 | 396.90 | 9.14 | 21.6 |\n",
       "| 3 | 0.02729 |  0 | 7.07 | 0 | 0.469 | 7.185 | 61.1 | 4.9671 | 2 | 242 | 17.8 | 392.83 | 4.03 | 34.7 |\n",
       "| 4 | 0.03237 |  0 | 2.18 | 0 | 0.458 | 6.998 | 45.8 | 6.0622 | 3 | 222 | 18.7 | 394.63 | 2.94 | 33.4 |\n",
       "| 5 | 0.06905 |  0 | 2.18 | 0 | 0.458 | 7.147 | 54.2 | 6.0622 | 3 | 222 | 18.7 | 396.90 | 5.33 | 36.2 |\n",
       "| 6 | 0.02985 |  0 | 2.18 | 0 | 0.458 | 6.430 | 58.7 | 6.0622 | 3 | 222 | 18.7 | 394.12 | 5.21 | 28.7 |\n",
       "\n"
      ],
      "text/plain": [
       "  crim    zn indus chas nox   rm    age  dis    rad tax ptratio black  lstat\n",
       "1 0.00632 18 2.31  0    0.538 6.575 65.2 4.0900 1   296 15.3    396.90 4.98 \n",
       "2 0.02731  0 7.07  0    0.469 6.421 78.9 4.9671 2   242 17.8    396.90 9.14 \n",
       "3 0.02729  0 7.07  0    0.469 7.185 61.1 4.9671 2   242 17.8    392.83 4.03 \n",
       "4 0.03237  0 2.18  0    0.458 6.998 45.8 6.0622 3   222 18.7    394.63 2.94 \n",
       "5 0.06905  0 2.18  0    0.458 7.147 54.2 6.0622 3   222 18.7    396.90 5.33 \n",
       "6 0.02985  0 2.18  0    0.458 6.430 58.7 6.0622 3   222 18.7    394.12 5.21 \n",
       "  medv\n",
       "1 24.0\n",
       "2 21.6\n",
       "3 34.7\n",
       "4 33.4\n",
       "5 36.2\n",
       "6 28.7"
      ]
     },
     "metadata": {},
     "output_type": "display_data"
    }
   ],
   "source": [
    "head(Boston)"
   ]
  },
  {
   "cell_type": "code",
   "execution_count": 4,
   "id": "3bf007b0-e7d8-4787-8aff-98ea4d07a337",
   "metadata": {},
   "outputs": [
    {
     "data": {
      "text/html": [
       "506"
      ],
      "text/latex": [
       "506"
      ],
      "text/markdown": [
       "506"
      ],
      "text/plain": [
       "[1] 506"
      ]
     },
     "metadata": {},
     "output_type": "display_data"
    }
   ],
   "source": [
    "nrow(Boston)"
   ]
  },
  {
   "cell_type": "markdown",
   "id": "37898eb9-44d2-43bb-8c8a-2021ef7a37bb",
   "metadata": {},
   "source": [
    "보스턴 집값 데이터 이 데이터는 보스턴 근교 지역의 집값 및 다른 정보를 포함한다.\n",
    "\n",
    "MASS 패키지를 설치하면 데이터를 로딩할 수 있다."
   ]
  },
  {
   "cell_type": "markdown",
   "id": "b9207f62-e1fe-4437-bf36-db65fc521843",
   "metadata": {},
   "source": [
    "B보스턴 근교 506개 지역에 대한 범죄율 (crim)등 14개의 변수로 구성 \n",
    "\n",
    "• crim : 범죄율\n",
    "\n",
    "• zn: 25,000평방비트 기준 거지주 비율\n",
    "\n",
    "• indus: 비소매업종 점유 구역 비율\n",
    "\n",
    "• chas: 찰스강 인접 여부 (1=인접, 0=비인접)\n",
    "\n",
    "• nox: 일산화질소 농도 (천만개 당)\n",
    "\n",
    "• rm: 거주지의 평균 방 갯수 ***\n",
    "\n",
    "• age: 1940년 이전에 건축된 주택의 비율\n",
    "\n",
    "• dis: 보스턴 5대 사업지구와의 거리\n",
    "\n",
    "• rad: 고속도로 진입용이성 정도\n",
    "\n",
    "• tax: 재산세율 (10,000달러 당)\n",
    "\n",
    "• ptratio: 학생 대 교사 비율\n",
    "\n",
    "• black: 1000(B − 0.63)2, B: 아프리카계 미국인 비율\n",
    "\n",
    "• lstat : 저소득층 비율 ****\n",
    "\n",
    "• medv: 주택가격의 중앙값 (단위:1,000달러 당)"
   ]
  },
  {
   "cell_type": "markdown",
   "id": "8b0b39f3-7aba-4962-a3c6-2bdbe1a06b5d",
   "metadata": {},
   "source": [
    "- 데이터 세 변수만 가지고 산점도 그려보기\n",
    "\n",
    "- 음의 상관관계가 있는 것 같기도 하고~"
   ]
  },
  {
   "cell_type": "code",
   "execution_count": 5,
   "id": "8c4399ea-24ec-4c13-a636-186bad4b1a5e",
   "metadata": {},
   "outputs": [
    {
     "data": {
      "image/png": "[encoded data removed]",
      "text/plain": [
       "plot without title"
      ]
     },
     "metadata": {
      "image/png": {
       "height": 420,
       "width": 420
      }
     },
     "output_type": "display_data"
    }
   ],
   "source": [
    "pairs(Boston[,which(names(Boston) %in% c('medv', 'rm', 'lstat'))], pch=16, col='darkorange')"
   ]
  },
  {
   "cell_type": "markdown",
   "id": "29a685ec-8760-4a0d-aaf1-4692f7b55f93",
   "metadata": {},
   "source": [
    "- lm(y ~ x_1 + x_2, data)"
   ]
  },
  {
   "cell_type": "code",
   "execution_count": 6,
   "id": "5bb726df-7d21-46ae-a5f3-26684004a61c",
   "metadata": {},
   "outputs": [],
   "source": [
    "fit_Boston<-lm(medv~rm+lstat, data=Boston)"
   ]
  },
  {
   "cell_type": "markdown",
   "id": "e5b644dd-e416-46c0-8825-dbb147a15045",
   "metadata": {},
   "source": [
    "- `F-statistic: 444.3 on 2 and 503 DF,  p-value: < 2.2e-16`\n",
    "- `R-squared:  0.6386`\n",
    "    - 집값 y의 총변동 중에 회귀모형이 63.86%정도 설명하고 있다.\n",
    "- `Adjusted R-squared:  0.6371`\n",
    "    - 설명변수가 증가하면 R-squared값이 증가하는 현상때문에 수정된 R-squared값이 필요\n",
    "    - 모형 비교시 Adjusted R-squared가 나을 수도 있음\n",
    "- rm,lstat의 p-value `<2e-16`"
   ]
  },
  {
   "cell_type": "code",
   "execution_count": 7,
   "id": "57c380f7-e1dc-4156-a927-d99ba506b28a",
   "metadata": {},
   "outputs": [
    {
     "data": {
      "text/plain": [
       "\n",
       "Call:\n",
       "lm(formula = medv ~ rm + lstat, data = Boston)\n",
       "\n",
       "Residuals:\n",
       "    Min      1Q  Median      3Q     Max \n",
       "-18.076  -3.516  -1.010   1.909  28.131 \n",
       "\n",
       "Coefficients:\n",
       "            Estimate Std. Error t value Pr(>|t|)    \n",
       "(Intercept) -1.35827    3.17283  -0.428    0.669    \n",
       "rm           5.09479    0.44447  11.463   <2e-16 ***\n",
       "lstat       -0.64236    0.04373 -14.689   <2e-16 ***\n",
       "---\n",
       "Signif. codes:  0 ‘***’ 0.001 ‘**’ 0.01 ‘*’ 0.05 ‘.’ 0.1 ‘ ’ 1\n",
       "\n",
       "Residual standard error: 5.54 on 503 degrees of freedom\n",
       "Multiple R-squared:  0.6386,\tAdjusted R-squared:  0.6371 \n",
       "F-statistic: 444.3 on 2 and 503 DF,  p-value: < 2.2e-16\n"
      ]
     },
     "metadata": {},
     "output_type": "display_data"
    }
   ],
   "source": [
    "summary(fit_Boston)"
   ]
  },
  {
   "cell_type": "markdown",
   "id": "e35f187d-f410-4ec7-9601-13c77870763b",
   "metadata": {},
   "source": [
    "- 원하는 변수만 추출해내서 회귀분석 진행가능"
   ]
  },
  {
   "cell_type": "code",
   "execution_count": 12,
   "id": "c6dd1cbb-bb74-451f-82ba-0aa521853062",
   "metadata": {},
   "outputs": [],
   "source": [
    "dt <- Boston[,which(names(Boston) %in% c('medv', 'rm', 'lstat'))]"
   ]
  },
  {
   "cell_type": "code",
   "execution_count": 13,
   "id": "12477ce6-5ea9-4623-8c80-f65fa79b3a59",
   "metadata": {},
   "outputs": [
    {
     "data": {
      "text/html": [
       "<table class=\"dataframe\">\n",
       "<caption>A data.frame: 6 × 3</caption>\n",
       "<thead>\n",
       "\t<tr><th></th><th scope=col>rm</th><th scope=col>lstat</th><th scope=col>medv</th></tr>\n",
       "\t<tr><th></th><th scope=col>&lt;dbl&gt;</th><th scope=col>&lt;dbl&gt;</th><th scope=col>&lt;dbl&gt;</th></tr>\n",
       "</thead>\n",
       "<tbody>\n",
       "\t<tr><th scope=row>1</th><td>6.575</td><td>4.98</td><td>24.0</td></tr>\n",
       "\t<tr><th scope=row>2</th><td>6.421</td><td>9.14</td><td>21.6</td></tr>\n",
       "\t<tr><th scope=row>3</th><td>7.185</td><td>4.03</td><td>34.7</td></tr>\n",
       "\t<tr><th scope=row>4</th><td>6.998</td><td>2.94</td><td>33.4</td></tr>\n",
       "\t<tr><th scope=row>5</th><td>7.147</td><td>5.33</td><td>36.2</td></tr>\n",
       "\t<tr><th scope=row>6</th><td>6.430</td><td>5.21</td><td>28.7</td></tr>\n",
       "</tbody>\n",
       "</table>\n"
      ],
      "text/latex": [
       "A data.frame: 6 × 3\n",
       "\\begin{tabular}{r|lll}\n",
       "  & rm & lstat & medv\\\\\n",
       "  & <dbl> & <dbl> & <dbl>\\\\\n",
       "\\hline\n",
       "\t1 & 6.575 & 4.98 & 24.0\\\\\n",
       "\t2 & 6.421 & 9.14 & 21.6\\\\\n",
       "\t3 & 7.185 & 4.03 & 34.7\\\\\n",
       "\t4 & 6.998 & 2.94 & 33.4\\\\\n",
       "\t5 & 7.147 & 5.33 & 36.2\\\\\n",
       "\t6 & 6.430 & 5.21 & 28.7\\\\\n",
       "\\end{tabular}\n"
      ],
      "text/markdown": [
       "\n",
       "A data.frame: 6 × 3\n",
       "\n",
       "| <!--/--> | rm &lt;dbl&gt; | lstat &lt;dbl&gt; | medv &lt;dbl&gt; |\n",
       "|---|---|---|---|\n",
       "| 1 | 6.575 | 4.98 | 24.0 |\n",
       "| 2 | 6.421 | 9.14 | 21.6 |\n",
       "| 3 | 7.185 | 4.03 | 34.7 |\n",
       "| 4 | 6.998 | 2.94 | 33.4 |\n",
       "| 5 | 7.147 | 5.33 | 36.2 |\n",
       "| 6 | 6.430 | 5.21 | 28.7 |\n",
       "\n"
      ],
      "text/plain": [
       "  rm    lstat medv\n",
       "1 6.575 4.98  24.0\n",
       "2 6.421 9.14  21.6\n",
       "3 7.185 4.03  34.7\n",
       "4 6.998 2.94  33.4\n",
       "5 7.147 5.33  36.2\n",
       "6 6.430 5.21  28.7"
      ]
     },
     "metadata": {},
     "output_type": "display_data"
    }
   ],
   "source": [
    "head(dt)"
   ]
  },
  {
   "cell_type": "markdown",
   "id": "beb631d5-cd5b-480a-a801-ff528620c3b6",
   "metadata": {},
   "source": [
    "- `.` 쓰면 설명변수 다 쓰겠다는 의미"
   ]
  },
  {
   "cell_type": "code",
   "execution_count": 10,
   "id": "da40d667-b524-4440-b8ff-a67e9ad19f59",
   "metadata": {},
   "outputs": [],
   "source": [
    "fit_Boston<-lm(medv~., data=dt)"
   ]
  },
  {
   "cell_type": "markdown",
   "id": "49e47089-61c6-406d-bcea-5085112aa7dc",
   "metadata": {},
   "source": [
    "$\\hat{y} = -1.3583 + 5.0948*rm - 0.6424*lstat$\n",
    "\n",
    "- 저소득층이 변하지 않고 방이 하나 더 증가한다면 집값의 중앙값은 5.0948 정도 증가한다.\n",
    "- 방의 수는 변하지 않고 저소득층이 증가한다면 집값의 중앙값은 0.6424 정도 감소한다."
   ]
  },
  {
   "cell_type": "markdown",
   "id": "20dc6426-9f6d-4ca2-8a52-eb283aa3cf2a",
   "metadata": {},
   "source": [
    "- SSR = 41308.84 = 20654.42 + 20654.42\n",
    "- **밑의 F 통계량이 아니라 summary 의 F 통계량을 봐야 한다.**"
   ]
  },
  {
   "cell_type": "code",
   "execution_count": 16,
   "id": "bceed563-506a-444e-b253-c3088457690a",
   "metadata": {},
   "outputs": [
    {
     "data": {
      "text/html": [
       "<table class=\"dataframe\">\n",
       "<caption>A anova: 3 × 5</caption>\n",
       "<thead>\n",
       "\t<tr><th></th><th scope=col>Df</th><th scope=col>Sum Sq</th><th scope=col>Mean Sq</th><th scope=col>F value</th><th scope=col>Pr(&gt;F)</th></tr>\n",
       "\t<tr><th></th><th scope=col>&lt;int&gt;</th><th scope=col>&lt;dbl&gt;</th><th scope=col>&lt;dbl&gt;</th><th scope=col>&lt;dbl&gt;</th><th scope=col>&lt;dbl&gt;</th></tr>\n",
       "</thead>\n",
       "<tbody>\n",
       "\t<tr><th scope=row>rm</th><td>  1</td><td>20654.42</td><td>20654.41622</td><td>672.9039</td><td>8.266887e-95</td></tr>\n",
       "\t<tr><th scope=row>lstat</th><td>  1</td><td> 6622.57</td><td> 6622.56999</td><td>215.7579</td><td>6.669365e-41</td></tr>\n",
       "\t<tr><th scope=row>Residuals</th><td>503</td><td>15439.31</td><td>   30.69445</td><td>      NA</td><td>          NA</td></tr>\n",
       "</tbody>\n",
       "</table>\n"
      ],
      "text/latex": [
       "A anova: 3 × 5\n",
       "\\begin{tabular}{r|lllll}\n",
       "  & Df & Sum Sq & Mean Sq & F value & Pr(>F)\\\\\n",
       "  & <int> & <dbl> & <dbl> & <dbl> & <dbl>\\\\\n",
       "\\hline\n",
       "\trm &   1 & 20654.42 & 20654.41622 & 672.9039 & 8.266887e-95\\\\\n",
       "\tlstat &   1 &  6622.57 &  6622.56999 & 215.7579 & 6.669365e-41\\\\\n",
       "\tResiduals & 503 & 15439.31 &    30.69445 &       NA &           NA\\\\\n",
       "\\end{tabular}\n"
      ],
      "text/markdown": [
       "\n",
       "A anova: 3 × 5\n",
       "\n",
       "| <!--/--> | Df &lt;int&gt; | Sum Sq &lt;dbl&gt; | Mean Sq &lt;dbl&gt; | F value &lt;dbl&gt; | Pr(&gt;F) &lt;dbl&gt; |\n",
       "|---|---|---|---|---|---|\n",
       "| rm |   1 | 20654.42 | 20654.41622 | 672.9039 | 8.266887e-95 |\n",
       "| lstat |   1 |  6622.57 |  6622.56999 | 215.7579 | 6.669365e-41 |\n",
       "| Residuals | 503 | 15439.31 |    30.69445 |       NA |           NA |\n",
       "\n"
      ],
      "text/plain": [
       "          Df  Sum Sq   Mean Sq     F value  Pr(>F)      \n",
       "rm          1 20654.42 20654.41622 672.9039 8.266887e-95\n",
       "lstat       1  6622.57  6622.56999 215.7579 6.669365e-41\n",
       "Residuals 503 15439.31    30.69445       NA           NA"
      ]
     },
     "metadata": {},
     "output_type": "display_data"
    }
   ],
   "source": [
    "anova(fit_Boston)"
   ]
  },
  {
   "cell_type": "markdown",
   "id": "ae7fec3f-b8a3-4e0c-83eb-096f09f5cb7d",
   "metadata": {},
   "source": [
    "$var(\\hat{\\beta}) = (X^TX)^{-1} \\sigma^2$"
   ]
  },
  {
   "cell_type": "code",
   "execution_count": 17,
   "id": "193c0826-a96c-4ce2-9f7a-a52326713cfd",
   "metadata": {},
   "outputs": [
    {
     "data": {
      "text/html": [
       "<table class=\"dataframe\">\n",
       "<caption>A matrix: 3 × 3 of type dbl</caption>\n",
       "<thead>\n",
       "\t<tr><th></th><th scope=col>(Intercept)</th><th scope=col>rm</th><th scope=col>lstat</th></tr>\n",
       "</thead>\n",
       "<tbody>\n",
       "\t<tr><th scope=row>(Intercept)</th><td>10.06683612</td><td>-1.39248641</td><td>-0.099178133</td></tr>\n",
       "\t<tr><th scope=row>rm</th><td>-1.39248641</td><td> 0.19754958</td><td> 0.011930670</td></tr>\n",
       "\t<tr><th scope=row>lstat</th><td>-0.09917813</td><td> 0.01193067</td><td> 0.001912441</td></tr>\n",
       "</tbody>\n",
       "</table>\n"
      ],
      "text/latex": [
       "A matrix: 3 × 3 of type dbl\n",
       "\\begin{tabular}{r|lll}\n",
       "  & (Intercept) & rm & lstat\\\\\n",
       "\\hline\n",
       "\t(Intercept) & 10.06683612 & -1.39248641 & -0.099178133\\\\\n",
       "\trm & -1.39248641 &  0.19754958 &  0.011930670\\\\\n",
       "\tlstat & -0.09917813 &  0.01193067 &  0.001912441\\\\\n",
       "\\end{tabular}\n"
      ],
      "text/markdown": [
       "\n",
       "A matrix: 3 × 3 of type dbl\n",
       "\n",
       "| <!--/--> | (Intercept) | rm | lstat |\n",
       "|---|---|---|---|\n",
       "| (Intercept) | 10.06683612 | -1.39248641 | -0.099178133 |\n",
       "| rm | -1.39248641 |  0.19754958 |  0.011930670 |\n",
       "| lstat | -0.09917813 |  0.01193067 |  0.001912441 |\n",
       "\n"
      ],
      "text/plain": [
       "            (Intercept) rm          lstat       \n",
       "(Intercept) 10.06683612 -1.39248641 -0.099178133\n",
       "rm          -1.39248641  0.19754958  0.011930670\n",
       "lstat       -0.09917813  0.01193067  0.001912441"
      ]
     },
     "metadata": {},
     "output_type": "display_data"
    }
   ],
   "source": [
    "vcov(fit_Boston)  "
   ]
  },
  {
   "cell_type": "code",
   "execution_count": 18,
   "id": "4e4dea7a-5d9b-4405-9b7c-7ea795d69114",
   "metadata": {},
   "outputs": [
    {
     "data": {
      "text/html": [
       "<table class=\"dataframe\">\n",
       "<caption>A matrix: 3 × 2 of type dbl</caption>\n",
       "<thead>\n",
       "\t<tr><th></th><th scope=col>2.5 %</th><th scope=col>97.5 %</th></tr>\n",
       "</thead>\n",
       "<tbody>\n",
       "\t<tr><th scope=row>(Intercept)</th><td>-7.5919003</td><td> 4.8753547</td></tr>\n",
       "\t<tr><th scope=row>rm</th><td> 4.2215504</td><td> 5.9680255</td></tr>\n",
       "\t<tr><th scope=row>lstat</th><td>-0.7282772</td><td>-0.5564395</td></tr>\n",
       "</tbody>\n",
       "</table>\n"
      ],
      "text/latex": [
       "A matrix: 3 × 2 of type dbl\n",
       "\\begin{tabular}{r|ll}\n",
       "  & 2.5 \\% & 97.5 \\%\\\\\n",
       "\\hline\n",
       "\t(Intercept) & -7.5919003 &  4.8753547\\\\\n",
       "\trm &  4.2215504 &  5.9680255\\\\\n",
       "\tlstat & -0.7282772 & -0.5564395\\\\\n",
       "\\end{tabular}\n"
      ],
      "text/markdown": [
       "\n",
       "A matrix: 3 × 2 of type dbl\n",
       "\n",
       "| <!--/--> | 2.5 % | 97.5 % |\n",
       "|---|---|---|\n",
       "| (Intercept) | -7.5919003 |  4.8753547 |\n",
       "| rm |  4.2215504 |  5.9680255 |\n",
       "| lstat | -0.7282772 | -0.5564395 |\n",
       "\n"
      ],
      "text/plain": [
       "            2.5 %      97.5 %    \n",
       "(Intercept) -7.5919003  4.8753547\n",
       "rm           4.2215504  5.9680255\n",
       "lstat       -0.7282772 -0.5564395"
      ]
     },
     "metadata": {},
     "output_type": "display_data"
    }
   ],
   "source": [
    "confint(fit_Boston, level = 0.95)"
   ]
  },
  {
   "cell_type": "code",
   "execution_count": 19,
   "id": "26d8c9e4-5e02-4f4d-a494-c49b38ef306c",
   "metadata": {},
   "outputs": [
    {
     "data": {
      "text/html": [
       "<style>\n",
       ".dl-inline {width: auto; margin:0; padding: 0}\n",
       ".dl-inline>dt, .dl-inline>dd {float: none; width: auto; display: inline-block}\n",
       ".dl-inline>dt::after {content: \":\\0020\"; padding-right: .5ex}\n",
       ".dl-inline>dt:not(:first-of-type) {padding-left: .5ex}\n",
       "</style><dl class=dl-inline><dt>(Intercept)</dt><dd>4.87535465808389</dd><dt>rm</dt><dd>5.96802553290791</dd><dt>lstat</dt><dd>-0.556439501179164</dd></dl>\n"
      ],
      "text/latex": [
       "\\begin{description*}\n",
       "\\item[(Intercept)] 4.87535465808389\n",
       "\\item[rm] 5.96802553290791\n",
       "\\item[lstat] -0.556439501179164\n",
       "\\end{description*}\n"
      ],
      "text/markdown": [
       "(Intercept)\n",
       ":   4.87535465808389rm\n",
       ":   5.96802553290791lstat\n",
       ":   -0.556439501179164\n",
       "\n"
      ],
      "text/plain": [
       "(Intercept)          rm       lstat \n",
       "  4.8753547   5.9680255  -0.5564395 "
      ]
     },
     "metadata": {},
     "output_type": "display_data"
    }
   ],
   "source": [
    "coef(fit_Boston) + qt(0.975, 503) * summary(fit_Boston)$coef[,2]"
   ]
  },
  {
   "cell_type": "code",
   "execution_count": 20,
   "id": "1ca8906e-2f69-4878-91fc-ad0214a693ba",
   "metadata": {},
   "outputs": [
    {
     "data": {
      "text/html": [
       "<style>\n",
       ".dl-inline {width: auto; margin:0; padding: 0}\n",
       ".dl-inline>dt, .dl-inline>dd {float: none; width: auto; display: inline-block}\n",
       ".dl-inline>dt::after {content: \":\\0020\"; padding-right: .5ex}\n",
       ".dl-inline>dt:not(:first-of-type) {padding-left: .5ex}\n",
       "</style><dl class=dl-inline><dt>(Intercept)</dt><dd>-7.59190028183298</dd><dt>rm</dt><dd>4.22155043576519</dd><dt>lstat</dt><dd>-0.728277167309095</dd></dl>\n"
      ],
      "text/latex": [
       "\\begin{description*}\n",
       "\\item[(Intercept)] -7.59190028183298\n",
       "\\item[rm] 4.22155043576519\n",
       "\\item[lstat] -0.728277167309095\n",
       "\\end{description*}\n"
      ],
      "text/markdown": [
       "(Intercept)\n",
       ":   -7.59190028183298rm\n",
       ":   4.22155043576519lstat\n",
       ":   -0.728277167309095\n",
       "\n"
      ],
      "text/plain": [
       "(Intercept)          rm       lstat \n",
       " -7.5919003   4.2215504  -0.7282772 "
      ]
     },
     "metadata": {},
     "output_type": "display_data"
    }
   ],
   "source": [
    "coef(fit_Boston) - qt(0.975, 503) * summary(fit_Boston)$coef[,2]"
   ]
  },
  {
   "cell_type": "markdown",
   "id": "c70a3311-1e56-413a-bb1d-e5f2db6c247b",
   "metadata": {},
   "source": [
    "평균반응, 개별 y 추정"
   ]
  },
  {
   "cell_type": "markdown",
   "id": "38444c83-6200-4856-a753-8f8185fbea4f",
   "metadata": {},
   "source": [
    "$E(Y|x_0), y = E(Y|x_0) + \\epsilon$"
   ]
  },
  {
   "cell_type": "code",
   "execution_count": 22,
   "id": "bb4e7a71-51e1-4fda-b60f-ce3127b4dbcf",
   "metadata": {},
   "outputs": [],
   "source": [
    "new_dt <- data.frame(rm=7, lstat=10)"
   ]
  },
  {
   "cell_type": "markdown",
   "id": "ed7694c8-f79e-45ae-9e13-51b9b0d37666",
   "metadata": {},
   "source": [
    "$\\hat{y}_0 = -1.3583 + 5.0948*7 - 0.6424*10$"
   ]
  },
  {
   "cell_type": "code",
   "execution_count": 24,
   "id": "b563ca00-82dc-40d1-896c-c038d7dc1c80",
   "metadata": {},
   "outputs": [
    {
     "data": {
      "text/html": [
       "<strong>1:</strong> 27.88165973604"
      ],
      "text/latex": [
       "\\textbf{1:} 27.88165973604"
      ],
      "text/markdown": [
       "**1:** 27.88165973604"
      ],
      "text/plain": [
       "       1 \n",
       "27.88166 "
      ]
     },
     "metadata": {},
     "output_type": "display_data"
    }
   ],
   "source": [
    "predict(fit_Boston, newdata = new_dt)"
   ]
  },
  {
   "cell_type": "markdown",
   "id": "8fbd20bf-3e1e-4fca-aaab-c85257f034b6",
   "metadata": {},
   "source": [
    "평균반응"
   ]
  },
  {
   "cell_type": "code",
   "execution_count": 25,
   "id": "191c8146-c39a-40f7-87cf-593f6257209c",
   "metadata": {},
   "outputs": [
    {
     "data": {
      "text/html": [
       "<table class=\"dataframe\">\n",
       "<caption>A matrix: 1 × 3 of type dbl</caption>\n",
       "<thead>\n",
       "\t<tr><th></th><th scope=col>fit</th><th scope=col>lwr</th><th scope=col>upr</th></tr>\n",
       "</thead>\n",
       "<tbody>\n",
       "\t<tr><th scope=row>1</th><td>27.88166</td><td>27.17347</td><td>28.58985</td></tr>\n",
       "</tbody>\n",
       "</table>\n"
      ],
      "text/latex": [
       "A matrix: 1 × 3 of type dbl\n",
       "\\begin{tabular}{r|lll}\n",
       "  & fit & lwr & upr\\\\\n",
       "\\hline\n",
       "\t1 & 27.88166 & 27.17347 & 28.58985\\\\\n",
       "\\end{tabular}\n"
      ],
      "text/markdown": [
       "\n",
       "A matrix: 1 × 3 of type dbl\n",
       "\n",
       "| <!--/--> | fit | lwr | upr |\n",
       "|---|---|---|---|\n",
       "| 1 | 27.88166 | 27.17347 | 28.58985 |\n",
       "\n"
      ],
      "text/plain": [
       "  fit      lwr      upr     \n",
       "1 27.88166 27.17347 28.58985"
      ]
     },
     "metadata": {},
     "output_type": "display_data"
    }
   ],
   "source": [
    "predict(fit_Boston, \n",
    "        newdata = new_dt,\n",
    "        interval = c(\"confidence\"), \n",
    "        level = 0.95)  "
   ]
  },
  {
   "cell_type": "markdown",
   "id": "efff3dea-b407-43b5-9719-cce07e3b5d1d",
   "metadata": {},
   "source": [
    "개별 y"
   ]
  },
  {
   "cell_type": "code",
   "execution_count": 26,
   "id": "766cb93f-4de5-40a2-9eb6-fb7c7231ef99",
   "metadata": {},
   "outputs": [
    {
     "data": {
      "text/html": [
       "<table class=\"dataframe\">\n",
       "<caption>A matrix: 1 × 3 of type dbl</caption>\n",
       "<thead>\n",
       "\t<tr><th></th><th scope=col>fit</th><th scope=col>lwr</th><th scope=col>upr</th></tr>\n",
       "</thead>\n",
       "<tbody>\n",
       "\t<tr><th scope=row>1</th><td>27.88166</td><td>16.97375</td><td>38.78957</td></tr>\n",
       "</tbody>\n",
       "</table>\n"
      ],
      "text/latex": [
       "A matrix: 1 × 3 of type dbl\n",
       "\\begin{tabular}{r|lll}\n",
       "  & fit & lwr & upr\\\\\n",
       "\\hline\n",
       "\t1 & 27.88166 & 16.97375 & 38.78957\\\\\n",
       "\\end{tabular}\n"
      ],
      "text/markdown": [
       "\n",
       "A matrix: 1 × 3 of type dbl\n",
       "\n",
       "| <!--/--> | fit | lwr | upr |\n",
       "|---|---|---|---|\n",
       "| 1 | 27.88166 | 16.97375 | 38.78957 |\n",
       "\n"
      ],
      "text/plain": [
       "  fit      lwr      upr     \n",
       "1 27.88166 16.97375 38.78957"
      ]
     },
     "metadata": {},
     "output_type": "display_data"
    }
   ],
   "source": [
    "predict(fit_Boston, newdata = new_dt, \n",
    "        interval = c(\"prediction\"), \n",
    "        level = 0.95)  "
   ]
  },
  {
   "cell_type": "markdown",
   "id": "87749337-a4a0-4c5f-82a2-5242b6522dad",
   "metadata": {},
   "source": [
    "- fit은 같고 lwr,upr만 달라진다."
   ]
  },
  {
   "cell_type": "markdown",
   "id": "eb00c9e6-d3ca-4bf9-adc9-54c89079a82a",
   "metadata": {},
   "source": [
    "잔차분석"
   ]
  },
  {
   "cell_type": "markdown",
   "id": "9f6d1998-ee14-4659-b5e8-d2bc22335491",
   "metadata": {},
   "source": [
    "$\\epsilon$ : 선형성, 등분산성, 정규성, 독립성 "
   ]
  },
  {
   "cell_type": "markdown",
   "id": "350d714d-ba4a-4c3c-a435-6306270c841b",
   "metadata": {},
   "source": [
    "```R\n",
    "yhat <- fitted_values(fit_Boston)\n",
    "```"
   ]
  },
  {
   "cell_type": "code",
   "execution_count": 27,
   "id": "bc311372-2e8a-409a-882e-691e64b9a08f",
   "metadata": {},
   "outputs": [],
   "source": [
    "yhat <- fitted(fit_Boston)"
   ]
  },
  {
   "cell_type": "code",
   "execution_count": 28,
   "id": "7d5a6291-63ed-4f6e-999e-d2cade443ff4",
   "metadata": {},
   "outputs": [],
   "source": [
    "res <- resid(fit_Boston)"
   ]
  },
  {
   "cell_type": "markdown",
   "id": "1946e332-78be-49aa-923a-0155f8b484f5",
   "metadata": {},
   "source": [
    "잔차그림\n",
    "- 대칭 아니다\n",
    "- u 턴 커브 모형이다.\n",
    "- 애초에 산점도에서도 커브가 보였다.\n",
    "- 나중에 제곱텀 넣어볼 예정"
   ]
  },
  {
   "cell_type": "code",
   "execution_count": 29,
   "id": "bb939df5-144d-4771-be99-84d466b08108",
   "metadata": {},
   "outputs": [
    {
     "data": {
      "image/png": "[encoded data removed]",
      "text/plain": [
       "plot without title"
      ]
     },
     "metadata": {
      "image/png": {
       "height": 420,
       "width": 420
      }
     },
     "output_type": "display_data"
    }
   ],
   "source": [
    "plot(res ~ yhat,pch=16, ylab = 'Residual')\n",
    "abline(h=0, lty=2, col='grey')"
   ]
  },
  {
   "cell_type": "markdown",
   "id": "c4de77cc-8cd7-4985-8f28-71a0bff9cad0",
   "metadata": {},
   "source": [
    "- 제곱텀 필요해보인다."
   ]
  },
  {
   "cell_type": "code",
   "execution_count": 30,
   "id": "03521647-7ded-4b3b-86dc-14abf4125ee8",
   "metadata": {},
   "outputs": [
    {
     "data": {
      "image/png": "[encoded data removed]",
      "text/plain": [
       "plot without title"
      ]
     },
     "metadata": {
      "image/png": {
       "height": 420,
       "width": 420
      }
     },
     "output_type": "display_data"
    }
   ],
   "source": [
    "plot(res ~ dt$rm,pch=16, ylab = 'Residual')\n",
    "abline(h=0, lty=2, col='grey')"
   ]
  },
  {
   "cell_type": "markdown",
   "id": "904422a6-719a-4f27-8c2c-4707e8982c68",
   "metadata": {},
   "source": [
    "- 제곱텀 필요해보인다."
   ]
  },
  {
   "cell_type": "code",
   "execution_count": 75,
   "id": "ba4037ab-4f5e-48a0-b847-ad492e409059",
   "metadata": {},
   "outputs": [
    {
     "data": {
      "image/png": "[encoded data removed]",
      "text/plain": [
       "plot without title"
      ]
     },
     "metadata": {
      "image/png": {
       "height": 420,
       "width": 420
      }
     },
     "output_type": "display_data"
    }
   ],
   "source": [
    "plot(res ~ dt$lstat,pch=16, ylab = 'Residual')\n",
    "abline(h=0, lty=2, col='grey')"
   ]
  },
  {
   "cell_type": "markdown",
   "id": "7d796130-676b-4763-8d18-69f48e7319bf",
   "metadata": {},
   "source": [
    "독립성검정 : DW test"
   ]
  },
  {
   "cell_type": "code",
   "execution_count": 33,
   "id": "228d5e63-242c-483f-8c8f-6c4d66501ee7",
   "metadata": {},
   "outputs": [],
   "source": [
    "library(lmtest)"
   ]
  },
  {
   "cell_type": "markdown",
   "id": "9ab98466-2d7e-4a12-bb13-06c9cbf00139",
   "metadata": {},
   "source": [
    "$H_0 : \\text{ uncorrelated vs } H_1 : \\rho \\neq 0$"
   ]
  },
  {
   "cell_type": "code",
   "execution_count": 34,
   "id": "f9cda38b-9eec-4b22-a801-f1a32adff980",
   "metadata": {},
   "outputs": [
    {
     "data": {
      "text/plain": [
       "\n",
       "\tDurbin-Watson test\n",
       "\n",
       "data:  fit_Boston\n",
       "DW = 0.83421, p-value < 2.2e-16\n",
       "alternative hypothesis: true autocorrelation is not 0\n"
      ]
     },
     "metadata": {},
     "output_type": "display_data"
    }
   ],
   "source": [
    "dwtest(fit_Boston, alternative = \"two.sided\")  "
   ]
  },
  {
   "cell_type": "markdown",
   "id": "d82c0da3-3b23-486d-9923-6d16a4232232",
   "metadata": {},
   "source": [
    "- p-value < 2.2e-16로 귀무가설 기각한다. 잔차는 독립이 아니다."
   ]
  },
  {
   "cell_type": "markdown",
   "id": "6e2a7090-1c50-487d-be5d-e0907a42b5c9",
   "metadata": {},
   "source": [
    "잔차의 QQ plot"
   ]
  },
  {
   "cell_type": "markdown",
   "id": "87ad9540-bfee-4c99-80aa-343b9d67d8e3",
   "metadata": {},
   "source": [
    "정규성 확인 결과도 좋지 않음"
   ]
  },
  {
   "cell_type": "code",
   "execution_count": 36,
   "id": "be277662-f588-4e3d-aa00-767f1440ac31",
   "metadata": {},
   "outputs": [
    {
     "data": {
      "image/png": "[encoded data removed]",
      "text/plain": [
       "Plot with title “Normal Q-Q Plot”"
      ]
     },
     "metadata": {
      "image/png": {
       "height": 420,
       "width": 420
      }
     },
     "output_type": "display_data"
    }
   ],
   "source": [
    "qqnorm(res, pch=16)\n",
    "qqline(res, col = 2)"
   ]
  },
  {
   "cell_type": "code",
   "execution_count": 38,
   "id": "aa791d83-6dd4-4ffb-850b-8dd8044ec6bb",
   "metadata": {},
   "outputs": [
    {
     "data": {
      "text/html": [
       "<table class=\"dataframe\">\n",
       "<caption>A data.frame: 6 × 3</caption>\n",
       "<thead>\n",
       "\t<tr><th></th><th scope=col>rm</th><th scope=col>lstat</th><th scope=col>medv</th></tr>\n",
       "\t<tr><th></th><th scope=col>&lt;dbl&gt;</th><th scope=col>&lt;dbl&gt;</th><th scope=col>&lt;dbl&gt;</th></tr>\n",
       "</thead>\n",
       "<tbody>\n",
       "\t<tr><th scope=row>1</th><td>6.575</td><td>4.98</td><td>24.0</td></tr>\n",
       "\t<tr><th scope=row>2</th><td>6.421</td><td>9.14</td><td>21.6</td></tr>\n",
       "\t<tr><th scope=row>3</th><td>7.185</td><td>4.03</td><td>34.7</td></tr>\n",
       "\t<tr><th scope=row>4</th><td>6.998</td><td>2.94</td><td>33.4</td></tr>\n",
       "\t<tr><th scope=row>5</th><td>7.147</td><td>5.33</td><td>36.2</td></tr>\n",
       "\t<tr><th scope=row>6</th><td>6.430</td><td>5.21</td><td>28.7</td></tr>\n",
       "</tbody>\n",
       "</table>\n"
      ],
      "text/latex": [
       "A data.frame: 6 × 3\n",
       "\\begin{tabular}{r|lll}\n",
       "  & rm & lstat & medv\\\\\n",
       "  & <dbl> & <dbl> & <dbl>\\\\\n",
       "\\hline\n",
       "\t1 & 6.575 & 4.98 & 24.0\\\\\n",
       "\t2 & 6.421 & 9.14 & 21.6\\\\\n",
       "\t3 & 7.185 & 4.03 & 34.7\\\\\n",
       "\t4 & 6.998 & 2.94 & 33.4\\\\\n",
       "\t5 & 7.147 & 5.33 & 36.2\\\\\n",
       "\t6 & 6.430 & 5.21 & 28.7\\\\\n",
       "\\end{tabular}\n"
      ],
      "text/markdown": [
       "\n",
       "A data.frame: 6 × 3\n",
       "\n",
       "| <!--/--> | rm &lt;dbl&gt; | lstat &lt;dbl&gt; | medv &lt;dbl&gt; |\n",
       "|---|---|---|---|\n",
       "| 1 | 6.575 | 4.98 | 24.0 |\n",
       "| 2 | 6.421 | 9.14 | 21.6 |\n",
       "| 3 | 7.185 | 4.03 | 34.7 |\n",
       "| 4 | 6.998 | 2.94 | 33.4 |\n",
       "| 5 | 7.147 | 5.33 | 36.2 |\n",
       "| 6 | 6.430 | 5.21 | 28.7 |\n",
       "\n"
      ],
      "text/plain": [
       "  rm    lstat medv\n",
       "1 6.575 4.98  24.0\n",
       "2 6.421 9.14  21.6\n",
       "3 7.185 4.03  34.7\n",
       "4 6.998 2.94  33.4\n",
       "5 7.147 5.33  36.2\n",
       "6 6.430 5.21  28.7"
      ]
     },
     "metadata": {},
     "output_type": "display_data"
    }
   ],
   "source": [
    "head(dt)"
   ]
  },
  {
   "cell_type": "code",
   "execution_count": 39,
   "id": "ee084f81-4f3f-4eea-85b4-a4d960331c90",
   "metadata": {},
   "outputs": [],
   "source": [
    "dt$lstat2 <- (dt$lstat)^2"
   ]
  },
  {
   "cell_type": "code",
   "execution_count": 40,
   "id": "95f59f16-6a62-47c8-bffc-654a7d1b242e",
   "metadata": {},
   "outputs": [
    {
     "data": {
      "text/html": [
       "<table class=\"dataframe\">\n",
       "<caption>A data.frame: 6 × 4</caption>\n",
       "<thead>\n",
       "\t<tr><th></th><th scope=col>rm</th><th scope=col>lstat</th><th scope=col>medv</th><th scope=col>lstat2</th></tr>\n",
       "\t<tr><th></th><th scope=col>&lt;dbl&gt;</th><th scope=col>&lt;dbl&gt;</th><th scope=col>&lt;dbl&gt;</th><th scope=col>&lt;dbl&gt;</th></tr>\n",
       "</thead>\n",
       "<tbody>\n",
       "\t<tr><th scope=row>1</th><td>6.575</td><td>4.98</td><td>24.0</td><td>24.8004</td></tr>\n",
       "\t<tr><th scope=row>2</th><td>6.421</td><td>9.14</td><td>21.6</td><td>83.5396</td></tr>\n",
       "\t<tr><th scope=row>3</th><td>7.185</td><td>4.03</td><td>34.7</td><td>16.2409</td></tr>\n",
       "\t<tr><th scope=row>4</th><td>6.998</td><td>2.94</td><td>33.4</td><td> 8.6436</td></tr>\n",
       "\t<tr><th scope=row>5</th><td>7.147</td><td>5.33</td><td>36.2</td><td>28.4089</td></tr>\n",
       "\t<tr><th scope=row>6</th><td>6.430</td><td>5.21</td><td>28.7</td><td>27.1441</td></tr>\n",
       "</tbody>\n",
       "</table>\n"
      ],
      "text/latex": [
       "A data.frame: 6 × 4\n",
       "\\begin{tabular}{r|llll}\n",
       "  & rm & lstat & medv & lstat2\\\\\n",
       "  & <dbl> & <dbl> & <dbl> & <dbl>\\\\\n",
       "\\hline\n",
       "\t1 & 6.575 & 4.98 & 24.0 & 24.8004\\\\\n",
       "\t2 & 6.421 & 9.14 & 21.6 & 83.5396\\\\\n",
       "\t3 & 7.185 & 4.03 & 34.7 & 16.2409\\\\\n",
       "\t4 & 6.998 & 2.94 & 33.4 &  8.6436\\\\\n",
       "\t5 & 7.147 & 5.33 & 36.2 & 28.4089\\\\\n",
       "\t6 & 6.430 & 5.21 & 28.7 & 27.1441\\\\\n",
       "\\end{tabular}\n"
      ],
      "text/markdown": [
       "\n",
       "A data.frame: 6 × 4\n",
       "\n",
       "| <!--/--> | rm &lt;dbl&gt; | lstat &lt;dbl&gt; | medv &lt;dbl&gt; | lstat2 &lt;dbl&gt; |\n",
       "|---|---|---|---|---|\n",
       "| 1 | 6.575 | 4.98 | 24.0 | 24.8004 |\n",
       "| 2 | 6.421 | 9.14 | 21.6 | 83.5396 |\n",
       "| 3 | 7.185 | 4.03 | 34.7 | 16.2409 |\n",
       "| 4 | 6.998 | 2.94 | 33.4 |  8.6436 |\n",
       "| 5 | 7.147 | 5.33 | 36.2 | 28.4089 |\n",
       "| 6 | 6.430 | 5.21 | 28.7 | 27.1441 |\n",
       "\n"
      ],
      "text/plain": [
       "  rm    lstat medv lstat2 \n",
       "1 6.575 4.98  24.0 24.8004\n",
       "2 6.421 9.14  21.6 83.5396\n",
       "3 7.185 4.03  34.7 16.2409\n",
       "4 6.998 2.94  33.4  8.6436\n",
       "5 7.147 5.33  36.2 28.4089\n",
       "6 6.430 5.21  28.7 27.1441"
      ]
     },
     "metadata": {},
     "output_type": "display_data"
    }
   ],
   "source": [
    "head(dt)"
   ]
  },
  {
   "cell_type": "markdown",
   "id": "88214ca8-90b7-40ee-8bad-64fc184f9de1",
   "metadata": {},
   "source": [
    "1번 방법"
   ]
  },
  {
   "cell_type": "code",
   "execution_count": 41,
   "id": "9c42c319-30d8-4255-b59d-eb99bb5ef9a9",
   "metadata": {},
   "outputs": [],
   "source": [
    "fit_Boston2<-lm(medv~., data=dt)"
   ]
  },
  {
   "cell_type": "markdown",
   "id": "8e8c54fc-aac0-4349-926a-400e02c69f25",
   "metadata": {},
   "source": [
    "```R\n",
    "# 이렇게 쓰면 위에와 결과 같음\n",
    "fit_Boston2<-lm(medv~rm+lstat+lstat^2, data=Boston)\n",
    "```"
   ]
  },
  {
   "cell_type": "markdown",
   "id": "c8f97d9d-77d3-4a08-92b0-6a3d1ec59c8e",
   "metadata": {},
   "source": [
    "2번 방법 변수 생성 없이 수행가능"
   ]
  },
  {
   "cell_type": "code",
   "execution_count": 42,
   "id": "2dcb6d07-5d86-4337-a584-37251149011f",
   "metadata": {},
   "outputs": [],
   "source": [
    "fit_Boston2<-lm(medv~rm+lstat+I(lstat^2), data=Boston)"
   ]
  },
  {
   "cell_type": "markdown",
   "id": "558fd786-e8d8-4484-a218-9e99e4b4c474",
   "metadata": {},
   "source": [
    "- `Adjusted R-squared:  0.7013`이 63%에서 증가한 모습"
   ]
  },
  {
   "cell_type": "code",
   "execution_count": 43,
   "id": "301773ed-df86-4299-8af3-21d7d0f5916a",
   "metadata": {},
   "outputs": [
    {
     "data": {
      "text/plain": [
       "\n",
       "Call:\n",
       "lm(formula = medv ~ rm + lstat + I(lstat^2), data = Boston)\n",
       "\n",
       "Residuals:\n",
       "     Min       1Q   Median       3Q      Max \n",
       "-18.1427  -3.2429  -0.4829   2.3607  27.0256 \n",
       "\n",
       "Coefficients:\n",
       "            Estimate Std. Error t value Pr(>|t|)    \n",
       "(Intercept) 11.68964    3.13810   3.725 0.000217 ***\n",
       "rm           4.22727    0.41172  10.267  < 2e-16 ***\n",
       "lstat       -1.84863    0.12213 -15.136  < 2e-16 ***\n",
       "I(lstat^2)   0.03634    0.00348  10.443  < 2e-16 ***\n",
       "---\n",
       "Signif. codes:  0 ‘***’ 0.001 ‘**’ 0.01 ‘*’ 0.05 ‘.’ 0.1 ‘ ’ 1\n",
       "\n",
       "Residual standard error: 5.027 on 502 degrees of freedom\n",
       "Multiple R-squared:  0.7031,\tAdjusted R-squared:  0.7013 \n",
       "F-statistic: 396.2 on 3 and 502 DF,  p-value: < 2.2e-16\n"
      ]
     },
     "metadata": {},
     "output_type": "display_data"
    }
   ],
   "source": [
    "summary(fit_Boston2)"
   ]
  },
  {
   "cell_type": "code",
   "execution_count": 44,
   "id": "ffcf0ca4-8ce9-4b18-bc6b-865f976b08f0",
   "metadata": {},
   "outputs": [],
   "source": [
    "yhat2 <- fitted.values(fit_Boston2)"
   ]
  },
  {
   "cell_type": "code",
   "execution_count": 45,
   "id": "86b6de71-2bd7-410d-ac06-a83690e63400",
   "metadata": {},
   "outputs": [],
   "source": [
    "res2 <- resid(fit_Boston2)"
   ]
  },
  {
   "cell_type": "markdown",
   "id": "1c208478-ef2b-46f7-8899-f30be6f6b559",
   "metadata": {},
   "source": [
    "- 곡선 느낌은 사라지고 outlier는 보이고 있다."
   ]
  },
  {
   "cell_type": "code",
   "execution_count": 46,
   "id": "43066488-6529-4c76-a3be-4ac6ccce0ef0",
   "metadata": {},
   "outputs": [
    {
     "data": {
      "image/png": "[encoded data removed]",
      "text/plain": [
       "plot without title"
      ]
     },
     "metadata": {
      "image/png": {
       "height": 420,
       "width": 420
      }
     },
     "output_type": "display_data"
    }
   ],
   "source": [
    "plot(res2 ~ yhat2,pch=16, ylab = 'Residual')\n",
    "abline(h=0, lty=2, col='grey')"
   ]
  },
  {
   "cell_type": "markdown",
   "id": "560e7ba7-0b81-44cf-aee4-99f4cfc534e9",
   "metadata": {},
   "source": [
    "- 꼬리가 죽은 모습"
   ]
  },
  {
   "cell_type": "code",
   "execution_count": 47,
   "id": "ccd5a48f-116c-4fc4-a729-368c7f59b3e1",
   "metadata": {},
   "outputs": [
    {
     "data": {
      "image/png": "[encoded data removed]",
      "text/plain": [
       "Plot with title “Normal Q-Q Plot”"
      ]
     },
     "metadata": {
      "image/png": {
       "height": 420,
       "width": 420
      }
     },
     "output_type": "display_data"
    }
   ],
   "source": [
    "qqnorm(res2, pch=16)\n",
    "qqline(res2, col = 2)"
   ]
  },
  {
   "cell_type": "markdown",
   "id": "6c60b648-bdd7-4ca0-9ef2-5052b5637624",
   "metadata": {},
   "source": [
    "$H_0 : \\text{ uncorrelated vs } H_1 : \\rho \\neq 0$"
   ]
  },
  {
   "cell_type": "code",
   "execution_count": 48,
   "id": "406da7f1-7607-47e2-ab90-f99b991dfb7e",
   "metadata": {},
   "outputs": [
    {
     "data": {
      "text/plain": [
       "\n",
       "\tDurbin-Watson test\n",
       "\n",
       "data:  fit_Boston2\n",
       "DW = 0.84831, p-value < 2.2e-16\n",
       "alternative hypothesis: true autocorrelation is not 0\n"
      ]
     },
     "metadata": {},
     "output_type": "display_data"
    }
   ],
   "source": [
    "dwtest(fit_Boston2, alternative = \"two.sided\")"
   ]
  },
  {
   "cell_type": "markdown",
   "id": "eab1214f-41eb-4d12-b0f6-f705ded0eaed",
   "metadata": {},
   "source": [
    "- 여전히 잔차가 독립이 아니고 기각한다."
   ]
  },
  {
   "cell_type": "code",
   "execution_count": 49,
   "id": "038ad35c-34d2-463e-a18b-517aae908a04",
   "metadata": {},
   "outputs": [],
   "source": [
    "fit_Boston3 <- lm(medv~rm, data=Boston)"
   ]
  },
  {
   "cell_type": "code",
   "execution_count": 50,
   "id": "ae1db0dc-ed3c-4064-a9a3-a615adfd9b80",
   "metadata": {},
   "outputs": [],
   "source": [
    "fit_Boston4 <- lm(medv~lstat, data=Boston)"
   ]
  },
  {
   "cell_type": "code",
   "execution_count": 51,
   "id": "680383da-8dd0-4617-9206-c75dddcb6c4f",
   "metadata": {},
   "outputs": [
    {
     "data": {
      "text/plain": [
       "\n",
       "Call:\n",
       "lm(formula = medv ~ rm, data = Boston)\n",
       "\n",
       "Residuals:\n",
       "    Min      1Q  Median      3Q     Max \n",
       "-23.346  -2.547   0.090   2.986  39.433 \n",
       "\n",
       "Coefficients:\n",
       "            Estimate Std. Error t value Pr(>|t|)    \n",
       "(Intercept)  -34.671      2.650  -13.08   <2e-16 ***\n",
       "rm             9.102      0.419   21.72   <2e-16 ***\n",
       "---\n",
       "Signif. codes:  0 ‘***’ 0.001 ‘**’ 0.01 ‘*’ 0.05 ‘.’ 0.1 ‘ ’ 1\n",
       "\n",
       "Residual standard error: 6.616 on 504 degrees of freedom\n",
       "Multiple R-squared:  0.4835,\tAdjusted R-squared:  0.4825 \n",
       "F-statistic: 471.8 on 1 and 504 DF,  p-value: < 2.2e-16\n"
      ]
     },
     "metadata": {},
     "output_type": "display_data"
    }
   ],
   "source": [
    "summary(fit_Boston3)"
   ]
  },
  {
   "cell_type": "code",
   "execution_count": 52,
   "id": "06ff9c88-eae5-49ad-b610-97dd6f3814c3",
   "metadata": {},
   "outputs": [
    {
     "data": {
      "text/plain": [
       "\n",
       "Call:\n",
       "lm(formula = medv ~ lstat, data = Boston)\n",
       "\n",
       "Residuals:\n",
       "    Min      1Q  Median      3Q     Max \n",
       "-15.168  -3.990  -1.318   2.034  24.500 \n",
       "\n",
       "Coefficients:\n",
       "            Estimate Std. Error t value Pr(>|t|)    \n",
       "(Intercept) 34.55384    0.56263   61.41   <2e-16 ***\n",
       "lstat       -0.95005    0.03873  -24.53   <2e-16 ***\n",
       "---\n",
       "Signif. codes:  0 ‘***’ 0.001 ‘**’ 0.01 ‘*’ 0.05 ‘.’ 0.1 ‘ ’ 1\n",
       "\n",
       "Residual standard error: 6.216 on 504 degrees of freedom\n",
       "Multiple R-squared:  0.5441,\tAdjusted R-squared:  0.5432 \n",
       "F-statistic: 601.6 on 1 and 504 DF,  p-value: < 2.2e-16\n"
      ]
     },
     "metadata": {},
     "output_type": "display_data"
    }
   ],
   "source": [
    "summary(fit_Boston4)"
   ]
  },
  {
   "cell_type": "code",
   "execution_count": 54,
   "id": "f21d62c7-20f1-4a13-8b57-772598258f11",
   "metadata": {},
   "outputs": [],
   "source": [
    "x1<-c(4,8,9,8,8,12,6,10,6,9)\n",
    "x2<-c(4,10,8,5,10,15,8,13,5,12)\n",
    "y<-c(9,20,22,15,17,30,18,25,10,20)"
   ]
  },
  {
   "cell_type": "markdown",
   "id": "6d2de951-1f85-4481-adbd-7f575f90cc19",
   "metadata": {},
   "source": [
    "FM"
   ]
  },
  {
   "cell_type": "code",
   "execution_count": 55,
   "id": "5a646ed5-47e0-47eb-a899-02ab630cb855",
   "metadata": {},
   "outputs": [],
   "source": [
    "fit<-lm(y~x1+x2)"
   ]
  },
  {
   "cell_type": "code",
   "execution_count": 56,
   "id": "1c4fbc7e-1c9e-4b0c-b01a-92132c4cef49",
   "metadata": {},
   "outputs": [
    {
     "data": {
      "text/plain": [
       "\n",
       "Call:\n",
       "lm(formula = y ~ x1 + x2)\n",
       "\n",
       "Residuals:\n",
       "    Min      1Q  Median      3Q     Max \n",
       "-2.4575 -1.9100  0.3314  0.6388  3.2628 \n",
       "\n",
       "Coefficients:\n",
       "            Estimate Std. Error t value Pr(>|t|)  \n",
       "(Intercept)  -0.6507     2.9075  -0.224   0.8293  \n",
       "x1            1.5515     0.6462   2.401   0.0474 *\n",
       "x2            0.7599     0.3968   1.915   0.0970 .\n",
       "---\n",
       "Signif. codes:  0 ‘***’ 0.001 ‘**’ 0.01 ‘*’ 0.05 ‘.’ 0.1 ‘ ’ 1\n",
       "\n",
       "Residual standard error: 2.278 on 7 degrees of freedom\n",
       "Multiple R-squared:  0.9014,\tAdjusted R-squared:  0.8732 \n",
       "F-statistic:    32 on 2 and 7 DF,  p-value: 0.0003011\n"
      ]
     },
     "metadata": {},
     "output_type": "display_data"
    }
   ],
   "source": [
    "summary(fit)"
   ]
  },
  {
   "cell_type": "code",
   "execution_count": 57,
   "id": "3df61814-fe3a-455a-a802-0c6c4e659fda",
   "metadata": {},
   "outputs": [
    {
     "data": {
      "text/html": [
       "<table class=\"dataframe\">\n",
       "<caption>A anova: 3 × 5</caption>\n",
       "<thead>\n",
       "\t<tr><th></th><th scope=col>Df</th><th scope=col>Sum Sq</th><th scope=col>Mean Sq</th><th scope=col>F value</th><th scope=col>Pr(&gt;F)</th></tr>\n",
       "\t<tr><th></th><th scope=col>&lt;int&gt;</th><th scope=col>&lt;dbl&gt;</th><th scope=col>&lt;dbl&gt;</th><th scope=col>&lt;dbl&gt;</th><th scope=col>&lt;dbl&gt;</th></tr>\n",
       "</thead>\n",
       "<tbody>\n",
       "\t<tr><th scope=row>x1</th><td>1</td><td>313.04348</td><td>313.043478</td><td>60.323103</td><td>0.0001100467</td></tr>\n",
       "\t<tr><th scope=row>x2</th><td>1</td><td> 19.03040</td><td> 19.030400</td><td> 3.667135</td><td>0.0970444465</td></tr>\n",
       "\t<tr><th scope=row>Residuals</th><td>7</td><td> 36.32612</td><td>  5.189446</td><td>       NA</td><td>          NA</td></tr>\n",
       "</tbody>\n",
       "</table>\n"
      ],
      "text/latex": [
       "A anova: 3 × 5\n",
       "\\begin{tabular}{r|lllll}\n",
       "  & Df & Sum Sq & Mean Sq & F value & Pr(>F)\\\\\n",
       "  & <int> & <dbl> & <dbl> & <dbl> & <dbl>\\\\\n",
       "\\hline\n",
       "\tx1 & 1 & 313.04348 & 313.043478 & 60.323103 & 0.0001100467\\\\\n",
       "\tx2 & 1 &  19.03040 &  19.030400 &  3.667135 & 0.0970444465\\\\\n",
       "\tResiduals & 7 &  36.32612 &   5.189446 &        NA &           NA\\\\\n",
       "\\end{tabular}\n"
      ],
      "text/markdown": [
       "\n",
       "A anova: 3 × 5\n",
       "\n",
       "| <!--/--> | Df &lt;int&gt; | Sum Sq &lt;dbl&gt; | Mean Sq &lt;dbl&gt; | F value &lt;dbl&gt; | Pr(&gt;F) &lt;dbl&gt; |\n",
       "|---|---|---|---|---|---|\n",
       "| x1 | 1 | 313.04348 | 313.043478 | 60.323103 | 0.0001100467 |\n",
       "| x2 | 1 |  19.03040 |  19.030400 |  3.667135 | 0.0970444465 |\n",
       "| Residuals | 7 |  36.32612 |   5.189446 |        NA |           NA |\n",
       "\n"
      ],
      "text/plain": [
       "          Df Sum Sq    Mean Sq    F value   Pr(>F)      \n",
       "x1        1  313.04348 313.043478 60.323103 0.0001100467\n",
       "x2        1   19.03040  19.030400  3.667135 0.0970444465\n",
       "Residuals 7   36.32612   5.189446        NA           NA"
      ]
     },
     "metadata": {},
     "output_type": "display_data"
    }
   ],
   "source": [
    "anova(fit)"
   ]
  },
  {
   "cell_type": "markdown",
   "id": "0743594c-1a00-4c70-a5be-2dded986abb0",
   "metadata": {},
   "source": [
    "```R\n",
    "install.packages(\"car\")\n",
    "```"
   ]
  },
  {
   "cell_type": "code",
   "execution_count": 59,
   "id": "1083021c-6743-4fd7-8f82-74d0030fb48b",
   "metadata": {},
   "outputs": [],
   "source": [
    "library(car)"
   ]
  },
  {
   "cell_type": "markdown",
   "id": "d67c02ce-81c0-4296-bbda-c769e4036cac",
   "metadata": {},
   "source": [
    "$H_0 : T\\times\\beta = c$ "
   ]
  },
  {
   "cell_type": "markdown",
   "id": "5441b13c-21bd-42bc-a7c5-91a21a6fc513",
   "metadata": {},
   "source": [
    "$b_1-b_2=0 \\to (0,1,-1) \\times \\beta $"
   ]
  },
  {
   "cell_type": "markdown",
   "id": "47f6172c-82dc-46d9-b5f6-82b4acdb492e",
   "metadata": {},
   "source": [
    "$H_0 : \\beta_1 = \\beta_2$"
   ]
  },
  {
   "cell_type": "code",
   "execution_count": 61,
   "id": "0c9e1b8d-595a-4177-ad25-cd010600a3ca",
   "metadata": {},
   "outputs": [
    {
     "data": {
      "text/html": [
       "<table class=\"dataframe\">\n",
       "<caption>A anova: 2 × 6</caption>\n",
       "<thead>\n",
       "\t<tr><th></th><th scope=col>Res.Df</th><th scope=col>RSS</th><th scope=col>Df</th><th scope=col>Sum of Sq</th><th scope=col>F</th><th scope=col>Pr(&gt;F)</th></tr>\n",
       "\t<tr><th></th><th scope=col>&lt;dbl&gt;</th><th scope=col>&lt;dbl&gt;</th><th scope=col>&lt;dbl&gt;</th><th scope=col>&lt;dbl&gt;</th><th scope=col>&lt;dbl&gt;</th><th scope=col>&lt;dbl&gt;</th></tr>\n",
       "</thead>\n",
       "<tbody>\n",
       "\t<tr><th scope=row>1</th><td>8</td><td>39.53514</td><td>NA</td><td>      NA</td><td>       NA</td><td>       NA</td></tr>\n",
       "\t<tr><th scope=row>2</th><td>7</td><td>36.32612</td><td> 1</td><td>3.209014</td><td>0.6183731</td><td>0.4574425</td></tr>\n",
       "</tbody>\n",
       "</table>\n"
      ],
      "text/latex": [
       "A anova: 2 × 6\n",
       "\\begin{tabular}{r|llllll}\n",
       "  & Res.Df & RSS & Df & Sum of Sq & F & Pr(>F)\\\\\n",
       "  & <dbl> & <dbl> & <dbl> & <dbl> & <dbl> & <dbl>\\\\\n",
       "\\hline\n",
       "\t1 & 8 & 39.53514 & NA &       NA &        NA &        NA\\\\\n",
       "\t2 & 7 & 36.32612 &  1 & 3.209014 & 0.6183731 & 0.4574425\\\\\n",
       "\\end{tabular}\n"
      ],
      "text/markdown": [
       "\n",
       "A anova: 2 × 6\n",
       "\n",
       "| <!--/--> | Res.Df &lt;dbl&gt; | RSS &lt;dbl&gt; | Df &lt;dbl&gt; | Sum of Sq &lt;dbl&gt; | F &lt;dbl&gt; | Pr(&gt;F) &lt;dbl&gt; |\n",
       "|---|---|---|---|---|---|---|\n",
       "| 1 | 8 | 39.53514 | NA |       NA |        NA |        NA |\n",
       "| 2 | 7 | 36.32612 |  1 | 3.209014 | 0.6183731 | 0.4574425 |\n",
       "\n"
      ],
      "text/plain": [
       "  Res.Df RSS      Df Sum of Sq F         Pr(>F)   \n",
       "1 8      39.53514 NA       NA         NA        NA\n",
       "2 7      36.32612  1 3.209014  0.6183731 0.4574425"
      ]
     },
     "metadata": {},
     "output_type": "display_data"
    }
   ],
   "source": [
    "linearHypothesis(fit, c(0,1,-1), 0)"
   ]
  },
  {
   "cell_type": "markdown",
   "id": "8ef45e3e-4d36-4c69-aba6-528cc44da1e9",
   "metadata": {},
   "source": [
    "- 제약조건, T matrix c(0,1,-1)\n",
    "- c = 0"
   ]
  },
  {
   "cell_type": "code",
   "execution_count": 78,
   "id": "93f693dd-6844-491e-be27-471c175922c5",
   "metadata": {},
   "outputs": [
    {
     "data": {
      "text/html": [
       "0.618373170600108"
      ],
      "text/latex": [
       "0.618373170600108"
      ],
      "text/markdown": [
       "0.618373170600108"
      ],
      "text/plain": [
       "[1] 0.6183732"
      ]
     },
     "metadata": {},
     "output_type": "display_data"
    }
   ],
   "source": [
    "3.209014 / (36.32612/7)"
   ]
  },
  {
   "cell_type": "markdown",
   "id": "fe1bf2f2-cbf8-436a-9198-6c3fe200c768",
   "metadata": {},
   "source": [
    "같다~"
   ]
  },
  {
   "cell_type": "markdown",
   "id": "d22b3c7e-a724-4cb8-bce2-255550cbccdb",
   "metadata": {},
   "source": [
    "$H_0 : \\beta_1 = 1$"
   ]
  },
  {
   "cell_type": "code",
   "execution_count": 62,
   "id": "c64a09b2-f628-4211-8976-61e1c2a8966c",
   "metadata": {},
   "outputs": [
    {
     "data": {
      "text/html": [
       "<table class=\"dataframe\">\n",
       "<caption>A anova: 2 × 6</caption>\n",
       "<thead>\n",
       "\t<tr><th></th><th scope=col>Res.Df</th><th scope=col>RSS</th><th scope=col>Df</th><th scope=col>Sum of Sq</th><th scope=col>F</th><th scope=col>Pr(&gt;F)</th></tr>\n",
       "\t<tr><th></th><th scope=col>&lt;dbl&gt;</th><th scope=col>&lt;dbl&gt;</th><th scope=col>&lt;dbl&gt;</th><th scope=col>&lt;dbl&gt;</th><th scope=col>&lt;dbl&gt;</th><th scope=col>&lt;dbl&gt;</th></tr>\n",
       "</thead>\n",
       "<tbody>\n",
       "\t<tr><th scope=row>1</th><td>8</td><td>40.10492</td><td>NA</td><td>      NA</td><td>       NA</td><td>       NA</td></tr>\n",
       "\t<tr><th scope=row>2</th><td>7</td><td>36.32612</td><td> 1</td><td>3.778797</td><td>0.7281696</td><td>0.4217136</td></tr>\n",
       "</tbody>\n",
       "</table>\n"
      ],
      "text/latex": [
       "A anova: 2 × 6\n",
       "\\begin{tabular}{r|llllll}\n",
       "  & Res.Df & RSS & Df & Sum of Sq & F & Pr(>F)\\\\\n",
       "  & <dbl> & <dbl> & <dbl> & <dbl> & <dbl> & <dbl>\\\\\n",
       "\\hline\n",
       "\t1 & 8 & 40.10492 & NA &       NA &        NA &        NA\\\\\n",
       "\t2 & 7 & 36.32612 &  1 & 3.778797 & 0.7281696 & 0.4217136\\\\\n",
       "\\end{tabular}\n"
      ],
      "text/markdown": [
       "\n",
       "A anova: 2 × 6\n",
       "\n",
       "| <!--/--> | Res.Df &lt;dbl&gt; | RSS &lt;dbl&gt; | Df &lt;dbl&gt; | Sum of Sq &lt;dbl&gt; | F &lt;dbl&gt; | Pr(&gt;F) &lt;dbl&gt; |\n",
       "|---|---|---|---|---|---|---|\n",
       "| 1 | 8 | 40.10492 | NA |       NA |        NA |        NA |\n",
       "| 2 | 7 | 36.32612 |  1 | 3.778797 | 0.7281696 | 0.4217136 |\n",
       "\n"
      ],
      "text/plain": [
       "  Res.Df RSS      Df Sum of Sq F         Pr(>F)   \n",
       "1 8      40.10492 NA       NA         NA        NA\n",
       "2 7      36.32612  1 3.778797  0.7281696 0.4217136"
      ]
     },
     "metadata": {},
     "output_type": "display_data"
    }
   ],
   "source": [
    "linearHypothesis(fit, c(0,1,0), 1)"
   ]
  },
  {
   "cell_type": "markdown",
   "id": "397ec4d2-3629-438b-baf2-dcf7212f7bc2",
   "metadata": {},
   "source": [
    "- 기각하지 못함"
   ]
  },
  {
   "cell_type": "markdown",
   "id": "c1b87102-8cde-4c03-95f1-90af4be1a353",
   "metadata": {},
   "source": [
    "$H_0 : \\beta_1 = \\beta_2 + 1$"
   ]
  },
  {
   "cell_type": "code",
   "execution_count": 63,
   "id": "911942ac-fa39-484b-ba57-94492873a44e",
   "metadata": {},
   "outputs": [
    {
     "data": {
      "text/html": [
       "<table class=\"dataframe\">\n",
       "<caption>A anova: 2 × 6</caption>\n",
       "<thead>\n",
       "\t<tr><th></th><th scope=col>Res.Df</th><th scope=col>RSS</th><th scope=col>Df</th><th scope=col>Sum of Sq</th><th scope=col>F</th><th scope=col>Pr(&gt;F)</th></tr>\n",
       "\t<tr><th></th><th scope=col>&lt;dbl&gt;</th><th scope=col>&lt;dbl&gt;</th><th scope=col>&lt;dbl&gt;</th><th scope=col>&lt;dbl&gt;</th><th scope=col>&lt;dbl&gt;</th><th scope=col>&lt;dbl&gt;</th></tr>\n",
       "</thead>\n",
       "<tbody>\n",
       "\t<tr><th scope=row>1</th><td>8</td><td>36.54865</td><td>NA</td><td>       NA</td><td>        NA</td><td>      NA</td></tr>\n",
       "\t<tr><th scope=row>2</th><td>7</td><td>36.32612</td><td> 1</td><td>0.2225273</td><td>0.04288074</td><td>0.841845</td></tr>\n",
       "</tbody>\n",
       "</table>\n"
      ],
      "text/latex": [
       "A anova: 2 × 6\n",
       "\\begin{tabular}{r|llllll}\n",
       "  & Res.Df & RSS & Df & Sum of Sq & F & Pr(>F)\\\\\n",
       "  & <dbl> & <dbl> & <dbl> & <dbl> & <dbl> & <dbl>\\\\\n",
       "\\hline\n",
       "\t1 & 8 & 36.54865 & NA &        NA &         NA &       NA\\\\\n",
       "\t2 & 7 & 36.32612 &  1 & 0.2225273 & 0.04288074 & 0.841845\\\\\n",
       "\\end{tabular}\n"
      ],
      "text/markdown": [
       "\n",
       "A anova: 2 × 6\n",
       "\n",
       "| <!--/--> | Res.Df &lt;dbl&gt; | RSS &lt;dbl&gt; | Df &lt;dbl&gt; | Sum of Sq &lt;dbl&gt; | F &lt;dbl&gt; | Pr(&gt;F) &lt;dbl&gt; |\n",
       "|---|---|---|---|---|---|---|\n",
       "| 1 | 8 | 36.54865 | NA |        NA |         NA |       NA |\n",
       "| 2 | 7 | 36.32612 |  1 | 0.2225273 | 0.04288074 | 0.841845 |\n",
       "\n"
      ],
      "text/plain": [
       "  Res.Df RSS      Df Sum of Sq F          Pr(>F)  \n",
       "1 8      36.54865 NA        NA         NA       NA\n",
       "2 7      36.32612  1 0.2225273 0.04288074 0.841845"
      ]
     },
     "metadata": {},
     "output_type": "display_data"
    }
   ],
   "source": [
    "linearHypothesis(fit, c(0,1,-1), 1)"
   ]
  },
  {
   "cell_type": "code",
   "execution_count": 80,
   "id": "dc5e1324-f134-4272-863c-205a2c2214fc",
   "metadata": {},
   "outputs": [
    {
     "data": {
      "text/html": [
       "0.0428807391894599"
      ],
      "text/latex": [
       "0.0428807391894599"
      ],
      "text/markdown": [
       "0.0428807391894599"
      ],
      "text/plain": [
       "[1] 0.04288074"
      ]
     },
     "metadata": {},
     "output_type": "display_data"
    }
   ],
   "source": [
    "F0"
   ]
  },
  {
   "cell_type": "markdown",
   "id": "d435a7f0-e826-420b-93c5-02a781cf093a",
   "metadata": {},
   "source": [
    "$H_0 : \\beta_1 = \\beta_2 + 1$\n",
    "\n",
    "$y = b_0 + b_1x_1 + b_2x_2 + \\epsilon = b_0+x_1 + b_2(x_1+x_2)+\\epsilon$\n",
    "\n",
    "$y-x_1 = b_0+b_2(x_1+x_2)+\\epsilon$ :   RM"
   ]
  },
  {
   "cell_type": "code",
   "execution_count": 64,
   "id": "a18d316a-28ad-4042-acd7-f7376cd0b469",
   "metadata": {},
   "outputs": [],
   "source": [
    "y1 <- y-x1\n",
    "z1 <- x1 + x2"
   ]
  },
  {
   "cell_type": "code",
   "execution_count": 65,
   "id": "08d5947e-1d1f-4951-ac8a-88983eb86246",
   "metadata": {},
   "outputs": [],
   "source": [
    "fit2 <- lm(y1~z1)"
   ]
  },
  {
   "cell_type": "code",
   "execution_count": 66,
   "id": "5156c2a0-6821-4769-a2de-4fa587e5cc7b",
   "metadata": {},
   "outputs": [
    {
     "data": {
      "text/plain": [
       "\n",
       "Call:\n",
       "lm(formula = y1 ~ z1)\n",
       "\n",
       "Residuals:\n",
       "    Min      1Q  Median      3Q     Max \n",
       "-2.5054 -1.9294  0.4236  0.6821  3.4473 \n",
       "\n",
       "Coefficients:\n",
       "            Estimate Std. Error t value Pr(>|t|)    \n",
       "(Intercept)  -1.0014     2.2175  -0.452 0.663574    \n",
       "z1            0.6824     0.1242   5.493 0.000578 ***\n",
       "---\n",
       "Signif. codes:  0 ‘***’ 0.001 ‘**’ 0.01 ‘*’ 0.05 ‘.’ 0.1 ‘ ’ 1\n",
       "\n",
       "Residual standard error: 2.137 on 8 degrees of freedom\n",
       "Multiple R-squared:  0.7904,\tAdjusted R-squared:  0.7642 \n",
       "F-statistic: 30.17 on 1 and 8 DF,  p-value: 0.0005785\n"
      ]
     },
     "metadata": {},
     "output_type": "display_data"
    }
   ],
   "source": [
    "summary(fit2)"
   ]
  },
  {
   "cell_type": "code",
   "execution_count": 67,
   "id": "a953e462-618d-4f35-a084-9c680d147cf5",
   "metadata": {},
   "outputs": [
    {
     "data": {
      "text/html": [
       "<table class=\"dataframe\">\n",
       "<caption>A anova: 2 × 5</caption>\n",
       "<thead>\n",
       "\t<tr><th></th><th scope=col>Df</th><th scope=col>Sum Sq</th><th scope=col>Mean Sq</th><th scope=col>F value</th><th scope=col>Pr(&gt;F)</th></tr>\n",
       "\t<tr><th></th><th scope=col>&lt;int&gt;</th><th scope=col>&lt;dbl&gt;</th><th scope=col>&lt;dbl&gt;</th><th scope=col>&lt;dbl&gt;</th><th scope=col>&lt;dbl&gt;</th></tr>\n",
       "</thead>\n",
       "<tbody>\n",
       "\t<tr><th scope=row>z1</th><td>1</td><td>137.85135</td><td>137.851351</td><td>30.17378</td><td>0.0005784583</td></tr>\n",
       "\t<tr><th scope=row>Residuals</th><td>8</td><td> 36.54865</td><td>  4.568581</td><td>      NA</td><td>          NA</td></tr>\n",
       "</tbody>\n",
       "</table>\n"
      ],
      "text/latex": [
       "A anova: 2 × 5\n",
       "\\begin{tabular}{r|lllll}\n",
       "  & Df & Sum Sq & Mean Sq & F value & Pr(>F)\\\\\n",
       "  & <int> & <dbl> & <dbl> & <dbl> & <dbl>\\\\\n",
       "\\hline\n",
       "\tz1 & 1 & 137.85135 & 137.851351 & 30.17378 & 0.0005784583\\\\\n",
       "\tResiduals & 8 &  36.54865 &   4.568581 &       NA &           NA\\\\\n",
       "\\end{tabular}\n"
      ],
      "text/markdown": [
       "\n",
       "A anova: 2 × 5\n",
       "\n",
       "| <!--/--> | Df &lt;int&gt; | Sum Sq &lt;dbl&gt; | Mean Sq &lt;dbl&gt; | F value &lt;dbl&gt; | Pr(&gt;F) &lt;dbl&gt; |\n",
       "|---|---|---|---|---|---|\n",
       "| z1 | 1 | 137.85135 | 137.851351 | 30.17378 | 0.0005784583 |\n",
       "| Residuals | 8 |  36.54865 |   4.568581 |       NA |           NA |\n",
       "\n"
      ],
      "text/plain": [
       "          Df Sum Sq    Mean Sq    F value  Pr(>F)      \n",
       "z1        1  137.85135 137.851351 30.17378 0.0005784583\n",
       "Residuals 8   36.54865   4.568581       NA           NA"
      ]
     },
     "metadata": {},
     "output_type": "display_data"
    }
   ],
   "source": [
    "anova(fit2)"
   ]
  },
  {
   "cell_type": "markdown",
   "id": "9009e130-7ca2-4677-a63e-9c6cf357d101",
   "metadata": {},
   "source": [
    "FM"
   ]
  },
  {
   "cell_type": "code",
   "execution_count": 68,
   "id": "b83ec33d-ce70-4fbd-beb7-e6967fe8a851",
   "metadata": {},
   "outputs": [
    {
     "data": {
      "text/html": [
       "<table class=\"dataframe\">\n",
       "<caption>A anova: 3 × 5</caption>\n",
       "<thead>\n",
       "\t<tr><th></th><th scope=col>Df</th><th scope=col>Sum Sq</th><th scope=col>Mean Sq</th><th scope=col>F value</th><th scope=col>Pr(&gt;F)</th></tr>\n",
       "\t<tr><th></th><th scope=col>&lt;int&gt;</th><th scope=col>&lt;dbl&gt;</th><th scope=col>&lt;dbl&gt;</th><th scope=col>&lt;dbl&gt;</th><th scope=col>&lt;dbl&gt;</th></tr>\n",
       "</thead>\n",
       "<tbody>\n",
       "\t<tr><th scope=row>x1</th><td>1</td><td>313.04348</td><td>313.043478</td><td>60.323103</td><td>0.0001100467</td></tr>\n",
       "\t<tr><th scope=row>x2</th><td>1</td><td> 19.03040</td><td> 19.030400</td><td> 3.667135</td><td>0.0970444465</td></tr>\n",
       "\t<tr><th scope=row>Residuals</th><td>7</td><td> 36.32612</td><td>  5.189446</td><td>       NA</td><td>          NA</td></tr>\n",
       "</tbody>\n",
       "</table>\n"
      ],
      "text/latex": [
       "A anova: 3 × 5\n",
       "\\begin{tabular}{r|lllll}\n",
       "  & Df & Sum Sq & Mean Sq & F value & Pr(>F)\\\\\n",
       "  & <int> & <dbl> & <dbl> & <dbl> & <dbl>\\\\\n",
       "\\hline\n",
       "\tx1 & 1 & 313.04348 & 313.043478 & 60.323103 & 0.0001100467\\\\\n",
       "\tx2 & 1 &  19.03040 &  19.030400 &  3.667135 & 0.0970444465\\\\\n",
       "\tResiduals & 7 &  36.32612 &   5.189446 &        NA &           NA\\\\\n",
       "\\end{tabular}\n"
      ],
      "text/markdown": [
       "\n",
       "A anova: 3 × 5\n",
       "\n",
       "| <!--/--> | Df &lt;int&gt; | Sum Sq &lt;dbl&gt; | Mean Sq &lt;dbl&gt; | F value &lt;dbl&gt; | Pr(&gt;F) &lt;dbl&gt; |\n",
       "|---|---|---|---|---|---|\n",
       "| x1 | 1 | 313.04348 | 313.043478 | 60.323103 | 0.0001100467 |\n",
       "| x2 | 1 |  19.03040 |  19.030400 |  3.667135 | 0.0970444465 |\n",
       "| Residuals | 7 |  36.32612 |   5.189446 |        NA |           NA |\n",
       "\n"
      ],
      "text/plain": [
       "          Df Sum Sq    Mean Sq    F value   Pr(>F)      \n",
       "x1        1  313.04348 313.043478 60.323103 0.0001100467\n",
       "x2        1   19.03040  19.030400  3.667135 0.0970444465\n",
       "Residuals 7   36.32612   5.189446        NA           NA"
      ]
     },
     "metadata": {},
     "output_type": "display_data"
    }
   ],
   "source": [
    "anova(fit)  "
   ]
  },
  {
   "cell_type": "markdown",
   "id": "5dde9566-8fac-42c8-a3b2-c2b2ddee107b",
   "metadata": {},
   "source": [
    "RM"
   ]
  },
  {
   "cell_type": "code",
   "execution_count": 69,
   "id": "d1275714-1c27-4683-8c62-1d6e66880ca8",
   "metadata": {},
   "outputs": [
    {
     "data": {
      "text/html": [
       "<table class=\"dataframe\">\n",
       "<caption>A anova: 2 × 5</caption>\n",
       "<thead>\n",
       "\t<tr><th></th><th scope=col>Df</th><th scope=col>Sum Sq</th><th scope=col>Mean Sq</th><th scope=col>F value</th><th scope=col>Pr(&gt;F)</th></tr>\n",
       "\t<tr><th></th><th scope=col>&lt;int&gt;</th><th scope=col>&lt;dbl&gt;</th><th scope=col>&lt;dbl&gt;</th><th scope=col>&lt;dbl&gt;</th><th scope=col>&lt;dbl&gt;</th></tr>\n",
       "</thead>\n",
       "<tbody>\n",
       "\t<tr><th scope=row>z1</th><td>1</td><td>137.85135</td><td>137.851351</td><td>30.17378</td><td>0.0005784583</td></tr>\n",
       "\t<tr><th scope=row>Residuals</th><td>8</td><td> 36.54865</td><td>  4.568581</td><td>      NA</td><td>          NA</td></tr>\n",
       "</tbody>\n",
       "</table>\n"
      ],
      "text/latex": [
       "A anova: 2 × 5\n",
       "\\begin{tabular}{r|lllll}\n",
       "  & Df & Sum Sq & Mean Sq & F value & Pr(>F)\\\\\n",
       "  & <int> & <dbl> & <dbl> & <dbl> & <dbl>\\\\\n",
       "\\hline\n",
       "\tz1 & 1 & 137.85135 & 137.851351 & 30.17378 & 0.0005784583\\\\\n",
       "\tResiduals & 8 &  36.54865 &   4.568581 &       NA &           NA\\\\\n",
       "\\end{tabular}\n"
      ],
      "text/markdown": [
       "\n",
       "A anova: 2 × 5\n",
       "\n",
       "| <!--/--> | Df &lt;int&gt; | Sum Sq &lt;dbl&gt; | Mean Sq &lt;dbl&gt; | F value &lt;dbl&gt; | Pr(&gt;F) &lt;dbl&gt; |\n",
       "|---|---|---|---|---|---|\n",
       "| z1 | 1 | 137.85135 | 137.851351 | 30.17378 | 0.0005784583 |\n",
       "| Residuals | 8 |  36.54865 |   4.568581 |       NA |           NA |\n",
       "\n"
      ],
      "text/plain": [
       "          Df Sum Sq    Mean Sq    F value  Pr(>F)      \n",
       "z1        1  137.85135 137.851351 30.17378 0.0005784583\n",
       "Residuals 8   36.54865   4.568581       NA           NA"
      ]
     },
     "metadata": {},
     "output_type": "display_data"
    }
   ],
   "source": [
    "anova(fit2)  "
   ]
  },
  {
   "cell_type": "markdown",
   "id": "24c16628-5ca5-4e24-b52f-96f5c96e9b4d",
   "metadata": {},
   "source": [
    "$F = {(SSE_RM - SSE_FM)/r} / {SSE_FM/(n-p-1)}$"
   ]
  },
  {
   "cell_type": "markdown",
   "id": "b3ac82f0-6f90-41c4-ad84-59efc64c5444",
   "metadata": {},
   "source": [
    "SSE_FM"
   ]
  },
  {
   "cell_type": "code",
   "execution_count": 71,
   "id": "dce156dc-f906-49e5-9999-4eabeb781def",
   "metadata": {},
   "outputs": [],
   "source": [
    "SSE_FM <- anova(fit)$Sum[3]  "
   ]
  },
  {
   "cell_type": "markdown",
   "id": "0f838686-0909-49f6-9f9f-7b35d029830d",
   "metadata": {},
   "source": [
    "SSE_RM"
   ]
  },
  {
   "cell_type": "code",
   "execution_count": 72,
   "id": "353caa8d-6e04-476b-bec0-7764487e5708",
   "metadata": {},
   "outputs": [],
   "source": [
    "SSE_RM <- anova(fit2)$Sum[2]  "
   ]
  },
  {
   "cell_type": "code",
   "execution_count": 73,
   "id": "b6312d7c-064a-4f7e-9b31-9c77fa225409",
   "metadata": {},
   "outputs": [
    {
     "data": {
      "text/html": [
       "0.0428807391894599"
      ],
      "text/latex": [
       "0.0428807391894599"
      ],
      "text/markdown": [
       "0.0428807391894599"
      ],
      "text/plain": [
       "[1] 0.04288074"
      ]
     },
     "metadata": {},
     "output_type": "display_data"
    }
   ],
   "source": [
    "F0 <- (SSE_RM-SSE_FM)/(SSE_FM/7)\n",
    "F0"
   ]
  },
  {
   "cell_type": "markdown",
   "id": "f9ff177f-b3f7-4c7e-991b-1e8e57a79aa6",
   "metadata": {},
   "source": [
    "기각역 $F_{0.05}(1,7)$"
   ]
  },
  {
   "cell_type": "code",
   "execution_count": 74,
   "id": "91744158-e8b8-46bd-a059-8f8a9f42b928",
   "metadata": {},
   "outputs": [
    {
     "data": {
      "text/html": [
       "5.59144785122073"
      ],
      "text/latex": [
       "5.59144785122073"
      ],
      "text/markdown": [
       "5.59144785122073"
      ],
      "text/plain": [
       "[1] 5.591448"
      ]
     },
     "metadata": {},
     "output_type": "display_data"
    }
   ],
   "source": [
    "qf(0.95, 1, 7)"
   ]
  },
  {
   "cell_type": "markdown",
   "id": "eb65a613-0f75-414c-9641-3c3ca8f905e8",
   "metadata": {},
   "source": [
    "기각할 수 없다.$\\beta_1$은 $\\beta_2$에 1 더한 값과 같다."
   ]
  },
  {
   "cell_type": "code",
   "execution_count": null,
   "id": "11978e68-09f9-4583-b333-738fd8b00d83",
   "metadata": {},
   "outputs": [],
   "source": []
  }
 ],
 "metadata": {
  "kernelspec": {
   "display_name": "R",
   "language": "R",
   "name": "ir"
  },
  "language_info": {
   "codemirror_mode": "r",
   "file_extension": ".r",
   "mimetype": "text/x-r-source",
   "name": "R",
   "pygments_lexer": "r",
   "version": "4.1.2"
  }
 },
 "nbformat": 4,
 "nbformat_minor": 5
}
