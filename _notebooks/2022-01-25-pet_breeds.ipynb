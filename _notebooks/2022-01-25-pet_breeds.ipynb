{
 "cells": [
  {
   "cell_type": "markdown",
   "id": "8f3d6e9c-7d75-4db3-809c-c07a76fc32bc",
   "metadata": {
    "id": "d44ba9bc-ebf3-49d8-b2db-9d49bf1bec22",
    "tags": []
   },
   "source": [
    "# fastbook 05_pet_breeds\n",
    "> Not done\n",
    "\n",
    "- toc:true\n",
    "- branch: master\n",
    "- badges: false\n",
    "- comments: false \n",
    "- author: 최서연\n",
    "- categories: [fastbook, pet breeds]"
   ]
  },
  {
   "cell_type": "markdown",
   "id": "3a603668-ce5e-4239-85d9-b14242494365",
   "metadata": {},
   "source": [
    "ref: https://github.com/fastai/fastbook"
   ]
  },
  {
   "cell_type": "code",
   "execution_count": 1,
   "id": "0937bd73-157f-4029-87af-90144bda3c88",
   "metadata": {},
   "outputs": [],
   "source": [
    "import fastbook\n",
    "fastbook.setup_book()"
   ]
  },
  {
   "cell_type": "code",
   "execution_count": 3,
   "id": "afc8223b-fa49-4716-9039-c2de5a2a6ee8",
   "metadata": {},
   "outputs": [],
   "source": [
    "from fastbook import *"
   ]
  },
  {
   "cell_type": "markdown",
   "id": "89ce90eb-ab3f-49db-bb9f-a8c30934959d",
   "metadata": {},
   "source": [
    "## Image Classification"
   ]
  },
  {
   "cell_type": "markdown",
   "id": "247d8636-f4c4-40eb-a6b2-65513b20af32",
   "metadata": {},
   "source": [
    "- Make them better.\n",
    "- Apply them to a wider variety of types of data."
   ]
  },
  {
   "cell_type": "markdown",
   "id": "7934b658-7c45-4577-b587-99c4eacba124",
   "metadata": {},
   "source": [
    "## From Dogs and Cats to Pet Breeds"
   ]
  },
  {
   "cell_type": "code",
   "execution_count": 4,
   "id": "9e9b87b6-80b7-4ed3-94e0-0007fb6ed9fd",
   "metadata": {},
   "outputs": [],
   "source": [
    "from fastai.vision.all import *\n",
    "path = untar_data(URLs.PETS)"
   ]
  },
  {
   "cell_type": "markdown",
   "id": "55da8ad7-e5e9-42c7-a6a9-fef660eed406",
   "metadata": {},
   "source": [
    "- Individual files representing items of data, such as text documents or images, possibly organized into folders or with filenames representing information about those items\n",
    "- A table of data, such as in CSV format, where each row is an item which may include filenames providing a connection between the data in the table and data in other formats, such as text documents and images"
   ]
  },
  {
   "cell_type": "markdown",
   "id": "170efc24-4a07-4ef5-8369-1db3bd394b80",
   "metadata": {},
   "source": [
    " the vast majority of the datasets you'll work with will use some combination of these two formats."
   ]
  },
  {
   "cell_type": "code",
   "execution_count": 7,
   "id": "3a9f6857-50b7-48e3-af52-4d10021bcf4c",
   "metadata": {},
   "outputs": [],
   "source": [
    "Path.BASE_PATH = path"
   ]
  },
  {
   "cell_type": "code",
   "execution_count": 8,
   "id": "3d3b681a-5d21-406d-8fb8-28109583630d",
   "metadata": {},
   "outputs": [
    {
     "data": {
      "text/plain": [
       "(#2) [Path('images'),Path('annotations')]"
      ]
     },
     "execution_count": 8,
     "metadata": {},
     "output_type": "execute_result"
    }
   ],
   "source": [
    "path.ls()"
   ]
  },
  {
   "cell_type": "code",
   "execution_count": 10,
   "id": "fb952146-4d87-4933-aa15-3c32f1afa3a1",
   "metadata": {},
   "outputs": [
    {
     "data": {
      "text/plain": [
       "(#7393) [Path('images/Bombay_13.jpg'),Path('images/beagle_193.jpg'),Path('images/Ragdoll_8.jpg'),Path('images/boxer_106.jpg'),Path('images/keeshond_56.jpg'),Path('images/american_pit_bull_terrier_162.jpg'),Path('images/saint_bernard_136.jpg'),Path('images/staffordshire_bull_terrier_76.jpg'),Path('images/pug_173.jpg'),Path('images/american_pit_bull_terrier_117.jpg')...]"
      ]
     },
     "execution_count": 10,
     "metadata": {},
     "output_type": "execute_result"
    }
   ],
   "source": [
    "(path/\"images\").ls()"
   ]
  },
  {
   "cell_type": "code",
   "execution_count": null,
   "id": "c820ff5d-a597-434d-ab68-3e745b7a9fcf",
   "metadata": {},
   "outputs": [],
   "source": []
  }
 ],
 "metadata": {
  "kernelspec": {
   "display_name": "Python 3",
   "language": "python",
   "name": "python3"
  },
  "language_info": {
   "codemirror_mode": {
    "name": "ipython",
    "version": 3
   },
   "file_extension": ".py",
   "mimetype": "text/x-python",
   "name": "python",
   "nbconvert_exporter": "python",
   "pygments_lexer": "ipython3",
   "version": "3.8.12"
  }
 },
 "nbformat": 4,
 "nbformat_minor": 5
}
