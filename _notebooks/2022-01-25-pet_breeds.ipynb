{
 "cells": [
  {
   "cell_type": "markdown",
   "id": "8f3d6e9c-7d75-4db3-809c-c07a76fc32bc",
   "metadata": {
    "id": "d44ba9bc-ebf3-49d8-b2db-9d49bf1bec22",
    "tags": []
   },
   "source": [
    "# fastbook 05_pet_breeds\n",
    "> Not done\n",
    "\n",
    "- toc:true\n",
    "- branch: master\n",
    "- badges: false\n",
    "- comments: false \n",
    "- author: 최서연\n",
    "- categories: [fastbook, pet breeds]"
   ]
  },
  {
   "cell_type": "markdown",
   "id": "3a603668-ce5e-4239-85d9-b14242494365",
   "metadata": {},
   "source": [
    "ref: https://github.com/fastai/fastbook"
   ]
  },
  {
   "cell_type": "code",
   "execution_count": null,
   "id": "0937bd73-157f-4029-87af-90144bda3c88",
   "metadata": {},
   "outputs": [],
   "source": []
  }
 ],
 "metadata": {
  "kernelspec": {
   "display_name": "Python 3",
   "language": "python",
   "name": "python3"
  },
  "language_info": {
   "codemirror_mode": {
    "name": "ipython",
    "version": 3
   },
   "file_extension": ".py",
   "mimetype": "text/x-python",
   "name": "python",
   "nbconvert_exporter": "python",
   "pygments_lexer": "ipython3",
   "version": "3.8.12"
  }
 },
 "nbformat": 4,
 "nbformat_minor": 5
}
