{
 "cells": [
  {
   "cell_type": "markdown",
   "id": "f6db4edb-4e98-42e6-a313-6101e7359305",
   "metadata": {
    "id": "d44ba9bc-ebf3-49d8-b2db-9d49bf1bec22",
    "tags": []
   },
   "source": [
    "# fastbook 04_mnist_basics\n",
    "> done\n",
    "\n",
    "- toc:true\n",
    "- branch: master\n",
    "- badges: false\n",
    "- comments: false \n",
    "- author: 최서연\n",
    "- categories: [MNIST]"
   ]
  },
  {
   "cell_type": "markdown",
   "id": "83c01336-7362-4565-a838-344c7adc1688",
   "metadata": {},
   "source": [
    "ref: https://github.com/fastai/fastbook"
   ]
  },
  {
   "cell_type": "code",
   "execution_count": 38,
   "id": "e8c75b7f-b39e-4605-9882-271c37308e47",
   "metadata": {},
   "outputs": [],
   "source": [
    "!pip install -Uqq fastbook"
   ]
  },
  {
   "cell_type": "code",
   "execution_count": 39,
   "id": "1f92fdd0-9342-44a0-be85-60bdd9912c1f",
   "metadata": {},
   "outputs": [],
   "source": [
    "import fastbook\n",
    "fastbook.setup_book()\n",
    "from fastai.vision.all import *\n",
    "from fastbook import *\n",
    "matplotlib.rc('image', cmap='Greys')"
   ]
  },
  {
   "cell_type": "markdown",
   "id": "c9a13c83-a7a8-4ff3-9d1c-48e6b83c4d20",
   "metadata": {},
   "source": [
    "## Introduction"
   ]
  },
  {
   "cell_type": "markdown",
   "id": "e6c36e6d-8d2a-42c0-9857-3464ff5cfd08",
   "metadata": {
    "tags": []
   },
   "source": [
    "- We'll explain stochastic gradient descent (SGD), the mechanism for learning by updating weights automatically.\n",
    "- We'll discuss the choice of a loss function for our basic classification task, and the role of mini-batches.\n",
    "- We'll also describe the math that a basic neural network is actually doing.\n",
    "- Finally, we'll put all these pieces together."
   ]
  },
  {
   "cell_type": "markdown",
   "id": "8e7caef6-b7ca-49b7-9866-436ca82b6c4d",
   "metadata": {},
   "source": [
    "## End sidebar"
   ]
  },
  {
   "cell_type": "code",
   "execution_count": 2,
   "id": "5ef4f47e-a569-41a1-87a3-07f758d7d9e3",
   "metadata": {},
   "outputs": [],
   "source": [
    "path = untar_data(URLs.MNIST_SAMPLE)"
   ]
  },
  {
   "cell_type": "code",
   "execution_count": 3,
   "id": "3f0788fe-8eca-4dbf-9d93-01423ee1787f",
   "metadata": {},
   "outputs": [],
   "source": [
    "Path.BASE_PATH = path"
   ]
  },
  {
   "cell_type": "code",
   "execution_count": 4,
   "id": "4a7d2fbb-0a47-4718-8b41-c6c38fc8ae5a",
   "metadata": {},
   "outputs": [
    {
     "data": {
      "text/plain": [
       "(#3) [Path('train'),Path('labels.csv'),Path('valid')]"
      ]
     },
     "execution_count": 4,
     "metadata": {},
     "output_type": "execute_result"
    }
   ],
   "source": [
    "path.ls()"
   ]
  },
  {
   "cell_type": "code",
   "execution_count": 5,
   "id": "f1bc605e-afaf-47b1-b99d-6a6ec7c8cce4",
   "metadata": {},
   "outputs": [
    {
     "data": {
      "text/plain": [
       "(#2) [Path('train/7'),Path('train/3')]"
      ]
     },
     "execution_count": 5,
     "metadata": {},
     "output_type": "execute_result"
    }
   ],
   "source": [
    "(path/'train').ls()"
   ]
  },
  {
   "cell_type": "markdown",
   "id": "cc6408d1-d43a-431c-891b-fdaaab82a5af",
   "metadata": {},
   "source": [
    "Let's take a look in one of these folders (using sorted to ensure we all get the same order of file"
   ]
  },
  {
   "cell_type": "code",
   "execution_count": 6,
   "id": "cd17780c-8bee-4880-bb8e-689805aee596",
   "metadata": {},
   "outputs": [],
   "source": [
    "threes = (path/'train'/'3').ls().sorted()\n",
    "sevens = (path/'train'/'7').ls().sorted()"
   ]
  },
  {
   "cell_type": "markdown",
   "id": "d5fb3378-cc16-4285-963b-6168299cd1ea",
   "metadata": {},
   "source": [
    "Let’s take a look at one now. Here’s an image of a handwritten number 3, taken from the famous MNIST dataset of handwritten numbers:"
   ]
  },
  {
   "cell_type": "code",
   "execution_count": 7,
   "id": "61fb14be-26f8-4946-aac5-f1e376034786",
   "metadata": {},
   "outputs": [
    {
     "data": {
      "image/png": "[encoded data removed]",
      "text/plain": [
       "<PIL.PngImagePlugin.PngImageFile image mode=L size=28x28 at 0x7F7FF0742760>"
      ]
     },
     "execution_count": 7,
     "metadata": {},
     "output_type": "execute_result"
    }
   ],
   "source": [
    "im3_path=threes[1]\n",
    "im3=Image.open(im3_path)\n",
    "im3"
   ]
  },
  {
   "cell_type": "markdown",
   "id": "1e872061-a3b8-4806-a2f0-d6ee85a5b5aa",
   "metadata": {},
   "source": [
    "Here we are using the *Image* class from the *Python Imaging Library (PIL)*, which is the most widely used Python package for opening, manipulating, and viewing images."
   ]
  },
  {
   "cell_type": "code",
   "execution_count": 8,
   "id": "287fa259-7ccc-421a-9cb2-7e276a0d3e5f",
   "metadata": {},
   "outputs": [
    {
     "data": {
      "text/plain": [
       "array([[  0,   0,   0,   0,   0,   0],\n",
       "       [  0,   0,   0,   0,   0,  29],\n",
       "       [  0,   0,   0,  48, 166, 224],\n",
       "       [  0,  93, 244, 249, 253, 187],\n",
       "       [  0, 107, 253, 253, 230,  48],\n",
       "       [  0,   3,  20,  20,  15,   0]], dtype=uint8)"
      ]
     },
     "execution_count": 8,
     "metadata": {},
     "output_type": "execute_result"
    }
   ],
   "source": [
    "array(im3)[4:10,4:10]"
   ]
  },
  {
   "cell_type": "markdown",
   "id": "86639677-ef29-47ce-b24c-87495ea3bdf2",
   "metadata": {},
   "source": [
    "NumPy indexes from top to bottom and left to right, so this section is located in the top-left corner of the image.\n",
    "\n",
    "Here's the same thing as a PyTorch tensor:"
   ]
  },
  {
   "cell_type": "code",
   "execution_count": 9,
   "id": "6ae46108-8926-46d1-af21-7f2933848050",
   "metadata": {},
   "outputs": [
    {
     "data": {
      "text/plain": [
       "tensor([[  0,   0,   0,   0,   0,   0],\n",
       "        [  0,   0,   0,   0,   0,  29],\n",
       "        [  0,   0,   0,  48, 166, 224],\n",
       "        [  0,  93, 244, 249, 253, 187],\n",
       "        [  0, 107, 253, 253, 230,  48],\n",
       "        [  0,   3,  20,  20,  15,   0]], dtype=torch.uint8)"
      ]
     },
     "execution_count": 9,
     "metadata": {},
     "output_type": "execute_result"
    }
   ],
   "source": [
    "tensor(im3)[4:10,4:10]"
   ]
  },
  {
   "cell_type": "code",
   "execution_count": 10,
   "id": "ac5159b9-6f2c-429e-836d-cae9edfe28f6",
   "metadata": {},
   "outputs": [
    {
     "data": {
      "text/html": [
       "<style type=\"text/css\">\n",
       "#T_651f1_row0_col0, #T_651f1_row0_col1, #T_651f1_row0_col2, #T_651f1_row0_col3, #T_651f1_row0_col4, #T_651f1_row0_col5, #T_651f1_row0_col6, #T_651f1_row0_col7, #T_651f1_row0_col8, #T_651f1_row0_col9, #T_651f1_row0_col10, #T_651f1_row0_col11, #T_651f1_row0_col12, #T_651f1_row0_col13, #T_651f1_row0_col14, #T_651f1_row0_col15, #T_651f1_row0_col16, #T_651f1_row0_col17, #T_651f1_row1_col0, #T_651f1_row1_col1, #T_651f1_row1_col2, #T_651f1_row1_col3, #T_651f1_row1_col4, #T_651f1_row1_col15, #T_651f1_row1_col16, #T_651f1_row1_col17, #T_651f1_row2_col0, #T_651f1_row2_col1, #T_651f1_row2_col2, #T_651f1_row2_col15, #T_651f1_row2_col16, #T_651f1_row2_col17, #T_651f1_row3_col0, #T_651f1_row3_col15, #T_651f1_row3_col16, #T_651f1_row3_col17, #T_651f1_row4_col0, #T_651f1_row4_col6, #T_651f1_row4_col7, #T_651f1_row4_col8, #T_651f1_row4_col9, #T_651f1_row4_col10, #T_651f1_row4_col15, #T_651f1_row4_col16, #T_651f1_row4_col17, #T_651f1_row5_col0, #T_651f1_row5_col5, #T_651f1_row5_col6, #T_651f1_row5_col7, #T_651f1_row5_col8, #T_651f1_row5_col9, #T_651f1_row5_col15, #T_651f1_row5_col16, #T_651f1_row5_col17, #T_651f1_row6_col0, #T_651f1_row6_col1, #T_651f1_row6_col2, #T_651f1_row6_col3, #T_651f1_row6_col4, #T_651f1_row6_col5, #T_651f1_row6_col6, #T_651f1_row6_col7, #T_651f1_row6_col8, #T_651f1_row6_col9, #T_651f1_row6_col14, #T_651f1_row6_col15, #T_651f1_row6_col16, #T_651f1_row6_col17, #T_651f1_row7_col0, #T_651f1_row7_col1, #T_651f1_row7_col2, #T_651f1_row7_col3, #T_651f1_row7_col4, #T_651f1_row7_col5, #T_651f1_row7_col6, #T_651f1_row7_col13, #T_651f1_row7_col14, #T_651f1_row7_col15, #T_651f1_row7_col16, #T_651f1_row7_col17, #T_651f1_row8_col0, #T_651f1_row8_col1, #T_651f1_row8_col2, #T_651f1_row8_col3, #T_651f1_row8_col4, #T_651f1_row8_col13, #T_651f1_row8_col14, #T_651f1_row8_col15, #T_651f1_row8_col16, #T_651f1_row8_col17, #T_651f1_row9_col0, #T_651f1_row9_col1, #T_651f1_row9_col2, #T_651f1_row9_col3, #T_651f1_row9_col4, #T_651f1_row9_col16, #T_651f1_row9_col17, #T_651f1_row10_col0, #T_651f1_row10_col1, #T_651f1_row10_col2, #T_651f1_row10_col3, #T_651f1_row10_col4, #T_651f1_row10_col5, #T_651f1_row10_col6, #T_651f1_row10_col17 {\n",
       "  font-size: 6pt;\n",
       "  background-color: #ffffff;\n",
       "  color: #000000;\n",
       "}\n",
       "#T_651f1_row1_col5 {\n",
       "  font-size: 6pt;\n",
       "  background-color: #efefef;\n",
       "  color: #000000;\n",
       "}\n",
       "#T_651f1_row1_col6, #T_651f1_row1_col13 {\n",
       "  font-size: 6pt;\n",
       "  background-color: #7c7c7c;\n",
       "  color: #f1f1f1;\n",
       "}\n",
       "#T_651f1_row1_col7 {\n",
       "  font-size: 6pt;\n",
       "  background-color: #4a4a4a;\n",
       "  color: #f1f1f1;\n",
       "}\n",
       "#T_651f1_row1_col8, #T_651f1_row1_col9, #T_651f1_row1_col10, #T_651f1_row2_col5, #T_651f1_row2_col6, #T_651f1_row2_col7, #T_651f1_row2_col11, #T_651f1_row2_col12, #T_651f1_row2_col13, #T_651f1_row3_col4, #T_651f1_row3_col12, #T_651f1_row3_col13, #T_651f1_row4_col1, #T_651f1_row4_col2, #T_651f1_row4_col3, #T_651f1_row4_col12, #T_651f1_row4_col13, #T_651f1_row5_col12, #T_651f1_row6_col11, #T_651f1_row9_col11, #T_651f1_row10_col11, #T_651f1_row10_col12, #T_651f1_row10_col13, #T_651f1_row10_col14, #T_651f1_row10_col15, #T_651f1_row10_col16 {\n",
       "  font-size: 6pt;\n",
       "  background-color: #000000;\n",
       "  color: #f1f1f1;\n",
       "}\n",
       "#T_651f1_row1_col11 {\n",
       "  font-size: 6pt;\n",
       "  background-color: #606060;\n",
       "  color: #f1f1f1;\n",
       "}\n",
       "#T_651f1_row1_col12 {\n",
       "  font-size: 6pt;\n",
       "  background-color: #4d4d4d;\n",
       "  color: #f1f1f1;\n",
       "}\n",
       "#T_651f1_row1_col14 {\n",
       "  font-size: 6pt;\n",
       "  background-color: #bbbbbb;\n",
       "  color: #000000;\n",
       "}\n",
       "#T_651f1_row2_col3 {\n",
       "  font-size: 6pt;\n",
       "  background-color: #e4e4e4;\n",
       "  color: #000000;\n",
       "}\n",
       "#T_651f1_row2_col4, #T_651f1_row8_col6 {\n",
       "  font-size: 6pt;\n",
       "  background-color: #6b6b6b;\n",
       "  color: #f1f1f1;\n",
       "}\n",
       "#T_651f1_row2_col8, #T_651f1_row2_col14, #T_651f1_row3_col14 {\n",
       "  font-size: 6pt;\n",
       "  background-color: #171717;\n",
       "  color: #f1f1f1;\n",
       "}\n",
       "#T_651f1_row2_col9, #T_651f1_row3_col11 {\n",
       "  font-size: 6pt;\n",
       "  background-color: #4b4b4b;\n",
       "  color: #f1f1f1;\n",
       "}\n",
       "#T_651f1_row2_col10, #T_651f1_row7_col10, #T_651f1_row8_col8, #T_651f1_row8_col10, #T_651f1_row9_col8, #T_651f1_row9_col10 {\n",
       "  font-size: 6pt;\n",
       "  background-color: #010101;\n",
       "  color: #f1f1f1;\n",
       "}\n",
       "#T_651f1_row3_col1 {\n",
       "  font-size: 6pt;\n",
       "  background-color: #272727;\n",
       "  color: #f1f1f1;\n",
       "}\n",
       "#T_651f1_row3_col2 {\n",
       "  font-size: 6pt;\n",
       "  background-color: #0a0a0a;\n",
       "  color: #f1f1f1;\n",
       "}\n",
       "#T_651f1_row3_col3 {\n",
       "  font-size: 6pt;\n",
       "  background-color: #050505;\n",
       "  color: #f1f1f1;\n",
       "}\n",
       "#T_651f1_row3_col5 {\n",
       "  font-size: 6pt;\n",
       "  background-color: #333333;\n",
       "  color: #f1f1f1;\n",
       "}\n",
       "#T_651f1_row3_col6 {\n",
       "  font-size: 6pt;\n",
       "  background-color: #e6e6e6;\n",
       "  color: #000000;\n",
       "}\n",
       "#T_651f1_row3_col7, #T_651f1_row3_col10 {\n",
       "  font-size: 6pt;\n",
       "  background-color: #fafafa;\n",
       "  color: #000000;\n",
       "}\n",
       "#T_651f1_row3_col8 {\n",
       "  font-size: 6pt;\n",
       "  background-color: #fbfbfb;\n",
       "  color: #000000;\n",
       "}\n",
       "#T_651f1_row3_col9 {\n",
       "  font-size: 6pt;\n",
       "  background-color: #fdfdfd;\n",
       "  color: #000000;\n",
       "}\n",
       "#T_651f1_row4_col4 {\n",
       "  font-size: 6pt;\n",
       "  background-color: #1b1b1b;\n",
       "  color: #f1f1f1;\n",
       "}\n",
       "#T_651f1_row4_col5 {\n",
       "  font-size: 6pt;\n",
       "  background-color: #e0e0e0;\n",
       "  color: #000000;\n",
       "}\n",
       "#T_651f1_row4_col11 {\n",
       "  font-size: 6pt;\n",
       "  background-color: #4e4e4e;\n",
       "  color: #f1f1f1;\n",
       "}\n",
       "#T_651f1_row4_col14 {\n",
       "  font-size: 6pt;\n",
       "  background-color: #767676;\n",
       "  color: #f1f1f1;\n",
       "}\n",
       "#T_651f1_row5_col1 {\n",
       "  font-size: 6pt;\n",
       "  background-color: #fcfcfc;\n",
       "  color: #000000;\n",
       "}\n",
       "#T_651f1_row5_col2, #T_651f1_row5_col3 {\n",
       "  font-size: 6pt;\n",
       "  background-color: #f6f6f6;\n",
       "  color: #000000;\n",
       "}\n",
       "#T_651f1_row5_col4, #T_651f1_row7_col7 {\n",
       "  font-size: 6pt;\n",
       "  background-color: #f8f8f8;\n",
       "  color: #000000;\n",
       "}\n",
       "#T_651f1_row5_col10, #T_651f1_row10_col7 {\n",
       "  font-size: 6pt;\n",
       "  background-color: #e8e8e8;\n",
       "  color: #000000;\n",
       "}\n",
       "#T_651f1_row5_col11 {\n",
       "  font-size: 6pt;\n",
       "  background-color: #222222;\n",
       "  color: #f1f1f1;\n",
       "}\n",
       "#T_651f1_row5_col13, #T_651f1_row6_col12 {\n",
       "  font-size: 6pt;\n",
       "  background-color: #090909;\n",
       "  color: #f1f1f1;\n",
       "}\n",
       "#T_651f1_row5_col14 {\n",
       "  font-size: 6pt;\n",
       "  background-color: #d0d0d0;\n",
       "  color: #000000;\n",
       "}\n",
       "#T_651f1_row6_col10, #T_651f1_row7_col11, #T_651f1_row9_col6 {\n",
       "  font-size: 6pt;\n",
       "  background-color: #060606;\n",
       "  color: #f1f1f1;\n",
       "}\n",
       "#T_651f1_row6_col13 {\n",
       "  font-size: 6pt;\n",
       "  background-color: #979797;\n",
       "  color: #f1f1f1;\n",
       "}\n",
       "#T_651f1_row7_col8 {\n",
       "  font-size: 6pt;\n",
       "  background-color: #b6b6b6;\n",
       "  color: #000000;\n",
       "}\n",
       "#T_651f1_row7_col9 {\n",
       "  font-size: 6pt;\n",
       "  background-color: #252525;\n",
       "  color: #f1f1f1;\n",
       "}\n",
       "#T_651f1_row7_col12 {\n",
       "  font-size: 6pt;\n",
       "  background-color: #999999;\n",
       "  color: #f1f1f1;\n",
       "}\n",
       "#T_651f1_row8_col5 {\n",
       "  font-size: 6pt;\n",
       "  background-color: #f9f9f9;\n",
       "  color: #000000;\n",
       "}\n",
       "#T_651f1_row8_col7 {\n",
       "  font-size: 6pt;\n",
       "  background-color: #101010;\n",
       "  color: #f1f1f1;\n",
       "}\n",
       "#T_651f1_row8_col9, #T_651f1_row9_col9 {\n",
       "  font-size: 6pt;\n",
       "  background-color: #020202;\n",
       "  color: #f1f1f1;\n",
       "}\n",
       "#T_651f1_row8_col11 {\n",
       "  font-size: 6pt;\n",
       "  background-color: #545454;\n",
       "  color: #f1f1f1;\n",
       "}\n",
       "#T_651f1_row8_col12 {\n",
       "  font-size: 6pt;\n",
       "  background-color: #f1f1f1;\n",
       "  color: #000000;\n",
       "}\n",
       "#T_651f1_row9_col5 {\n",
       "  font-size: 6pt;\n",
       "  background-color: #f7f7f7;\n",
       "  color: #000000;\n",
       "}\n",
       "#T_651f1_row9_col7 {\n",
       "  font-size: 6pt;\n",
       "  background-color: #030303;\n",
       "  color: #f1f1f1;\n",
       "}\n",
       "#T_651f1_row9_col12 {\n",
       "  font-size: 6pt;\n",
       "  background-color: #181818;\n",
       "  color: #f1f1f1;\n",
       "}\n",
       "#T_651f1_row9_col13 {\n",
       "  font-size: 6pt;\n",
       "  background-color: #303030;\n",
       "  color: #f1f1f1;\n",
       "}\n",
       "#T_651f1_row9_col14 {\n",
       "  font-size: 6pt;\n",
       "  background-color: #a9a9a9;\n",
       "  color: #f1f1f1;\n",
       "}\n",
       "#T_651f1_row9_col15 {\n",
       "  font-size: 6pt;\n",
       "  background-color: #fefefe;\n",
       "  color: #000000;\n",
       "}\n",
       "#T_651f1_row10_col8, #T_651f1_row10_col9 {\n",
       "  font-size: 6pt;\n",
       "  background-color: #bababa;\n",
       "  color: #000000;\n",
       "}\n",
       "#T_651f1_row10_col10 {\n",
       "  font-size: 6pt;\n",
       "  background-color: #393939;\n",
       "  color: #f1f1f1;\n",
       "}\n",
       "</style>\n",
       "<table id=\"T_651f1_\">\n",
       "  <thead>\n",
       "    <tr>\n",
       "      <th class=\"blank level0\" >&nbsp;</th>\n",
       "      <th class=\"col_heading level0 col0\" >0</th>\n",
       "      <th class=\"col_heading level0 col1\" >1</th>\n",
       "      <th class=\"col_heading level0 col2\" >2</th>\n",
       "      <th class=\"col_heading level0 col3\" >3</th>\n",
       "      <th class=\"col_heading level0 col4\" >4</th>\n",
       "      <th class=\"col_heading level0 col5\" >5</th>\n",
       "      <th class=\"col_heading level0 col6\" >6</th>\n",
       "      <th class=\"col_heading level0 col7\" >7</th>\n",
       "      <th class=\"col_heading level0 col8\" >8</th>\n",
       "      <th class=\"col_heading level0 col9\" >9</th>\n",
       "      <th class=\"col_heading level0 col10\" >10</th>\n",
       "      <th class=\"col_heading level0 col11\" >11</th>\n",
       "      <th class=\"col_heading level0 col12\" >12</th>\n",
       "      <th class=\"col_heading level0 col13\" >13</th>\n",
       "      <th class=\"col_heading level0 col14\" >14</th>\n",
       "      <th class=\"col_heading level0 col15\" >15</th>\n",
       "      <th class=\"col_heading level0 col16\" >16</th>\n",
       "      <th class=\"col_heading level0 col17\" >17</th>\n",
       "    </tr>\n",
       "  </thead>\n",
       "  <tbody>\n",
       "    <tr>\n",
       "      <th id=\"T_651f1_level0_row0\" class=\"row_heading level0 row0\" >0</th>\n",
       "      <td id=\"T_651f1_row0_col0\" class=\"data row0 col0\" >0</td>\n",
       "      <td id=\"T_651f1_row0_col1\" class=\"data row0 col1\" >0</td>\n",
       "      <td id=\"T_651f1_row0_col2\" class=\"data row0 col2\" >0</td>\n",
       "      <td id=\"T_651f1_row0_col3\" class=\"data row0 col3\" >0</td>\n",
       "      <td id=\"T_651f1_row0_col4\" class=\"data row0 col4\" >0</td>\n",
       "      <td id=\"T_651f1_row0_col5\" class=\"data row0 col5\" >0</td>\n",
       "      <td id=\"T_651f1_row0_col6\" class=\"data row0 col6\" >0</td>\n",
       "      <td id=\"T_651f1_row0_col7\" class=\"data row0 col7\" >0</td>\n",
       "      <td id=\"T_651f1_row0_col8\" class=\"data row0 col8\" >0</td>\n",
       "      <td id=\"T_651f1_row0_col9\" class=\"data row0 col9\" >0</td>\n",
       "      <td id=\"T_651f1_row0_col10\" class=\"data row0 col10\" >0</td>\n",
       "      <td id=\"T_651f1_row0_col11\" class=\"data row0 col11\" >0</td>\n",
       "      <td id=\"T_651f1_row0_col12\" class=\"data row0 col12\" >0</td>\n",
       "      <td id=\"T_651f1_row0_col13\" class=\"data row0 col13\" >0</td>\n",
       "      <td id=\"T_651f1_row0_col14\" class=\"data row0 col14\" >0</td>\n",
       "      <td id=\"T_651f1_row0_col15\" class=\"data row0 col15\" >0</td>\n",
       "      <td id=\"T_651f1_row0_col16\" class=\"data row0 col16\" >0</td>\n",
       "      <td id=\"T_651f1_row0_col17\" class=\"data row0 col17\" >0</td>\n",
       "    </tr>\n",
       "    <tr>\n",
       "      <th id=\"T_651f1_level0_row1\" class=\"row_heading level0 row1\" >1</th>\n",
       "      <td id=\"T_651f1_row1_col0\" class=\"data row1 col0\" >0</td>\n",
       "      <td id=\"T_651f1_row1_col1\" class=\"data row1 col1\" >0</td>\n",
       "      <td id=\"T_651f1_row1_col2\" class=\"data row1 col2\" >0</td>\n",
       "      <td id=\"T_651f1_row1_col3\" class=\"data row1 col3\" >0</td>\n",
       "      <td id=\"T_651f1_row1_col4\" class=\"data row1 col4\" >0</td>\n",
       "      <td id=\"T_651f1_row1_col5\" class=\"data row1 col5\" >29</td>\n",
       "      <td id=\"T_651f1_row1_col6\" class=\"data row1 col6\" >150</td>\n",
       "      <td id=\"T_651f1_row1_col7\" class=\"data row1 col7\" >195</td>\n",
       "      <td id=\"T_651f1_row1_col8\" class=\"data row1 col8\" >254</td>\n",
       "      <td id=\"T_651f1_row1_col9\" class=\"data row1 col9\" >255</td>\n",
       "      <td id=\"T_651f1_row1_col10\" class=\"data row1 col10\" >254</td>\n",
       "      <td id=\"T_651f1_row1_col11\" class=\"data row1 col11\" >176</td>\n",
       "      <td id=\"T_651f1_row1_col12\" class=\"data row1 col12\" >193</td>\n",
       "      <td id=\"T_651f1_row1_col13\" class=\"data row1 col13\" >150</td>\n",
       "      <td id=\"T_651f1_row1_col14\" class=\"data row1 col14\" >96</td>\n",
       "      <td id=\"T_651f1_row1_col15\" class=\"data row1 col15\" >0</td>\n",
       "      <td id=\"T_651f1_row1_col16\" class=\"data row1 col16\" >0</td>\n",
       "      <td id=\"T_651f1_row1_col17\" class=\"data row1 col17\" >0</td>\n",
       "    </tr>\n",
       "    <tr>\n",
       "      <th id=\"T_651f1_level0_row2\" class=\"row_heading level0 row2\" >2</th>\n",
       "      <td id=\"T_651f1_row2_col0\" class=\"data row2 col0\" >0</td>\n",
       "      <td id=\"T_651f1_row2_col1\" class=\"data row2 col1\" >0</td>\n",
       "      <td id=\"T_651f1_row2_col2\" class=\"data row2 col2\" >0</td>\n",
       "      <td id=\"T_651f1_row2_col3\" class=\"data row2 col3\" >48</td>\n",
       "      <td id=\"T_651f1_row2_col4\" class=\"data row2 col4\" >166</td>\n",
       "      <td id=\"T_651f1_row2_col5\" class=\"data row2 col5\" >224</td>\n",
       "      <td id=\"T_651f1_row2_col6\" class=\"data row2 col6\" >253</td>\n",
       "      <td id=\"T_651f1_row2_col7\" class=\"data row2 col7\" >253</td>\n",
       "      <td id=\"T_651f1_row2_col8\" class=\"data row2 col8\" >234</td>\n",
       "      <td id=\"T_651f1_row2_col9\" class=\"data row2 col9\" >196</td>\n",
       "      <td id=\"T_651f1_row2_col10\" class=\"data row2 col10\" >253</td>\n",
       "      <td id=\"T_651f1_row2_col11\" class=\"data row2 col11\" >253</td>\n",
       "      <td id=\"T_651f1_row2_col12\" class=\"data row2 col12\" >253</td>\n",
       "      <td id=\"T_651f1_row2_col13\" class=\"data row2 col13\" >253</td>\n",
       "      <td id=\"T_651f1_row2_col14\" class=\"data row2 col14\" >233</td>\n",
       "      <td id=\"T_651f1_row2_col15\" class=\"data row2 col15\" >0</td>\n",
       "      <td id=\"T_651f1_row2_col16\" class=\"data row2 col16\" >0</td>\n",
       "      <td id=\"T_651f1_row2_col17\" class=\"data row2 col17\" >0</td>\n",
       "    </tr>\n",
       "    <tr>\n",
       "      <th id=\"T_651f1_level0_row3\" class=\"row_heading level0 row3\" >3</th>\n",
       "      <td id=\"T_651f1_row3_col0\" class=\"data row3 col0\" >0</td>\n",
       "      <td id=\"T_651f1_row3_col1\" class=\"data row3 col1\" >93</td>\n",
       "      <td id=\"T_651f1_row3_col2\" class=\"data row3 col2\" >244</td>\n",
       "      <td id=\"T_651f1_row3_col3\" class=\"data row3 col3\" >249</td>\n",
       "      <td id=\"T_651f1_row3_col4\" class=\"data row3 col4\" >253</td>\n",
       "      <td id=\"T_651f1_row3_col5\" class=\"data row3 col5\" >187</td>\n",
       "      <td id=\"T_651f1_row3_col6\" class=\"data row3 col6\" >46</td>\n",
       "      <td id=\"T_651f1_row3_col7\" class=\"data row3 col7\" >10</td>\n",
       "      <td id=\"T_651f1_row3_col8\" class=\"data row3 col8\" >8</td>\n",
       "      <td id=\"T_651f1_row3_col9\" class=\"data row3 col9\" >4</td>\n",
       "      <td id=\"T_651f1_row3_col10\" class=\"data row3 col10\" >10</td>\n",
       "      <td id=\"T_651f1_row3_col11\" class=\"data row3 col11\" >194</td>\n",
       "      <td id=\"T_651f1_row3_col12\" class=\"data row3 col12\" >253</td>\n",
       "      <td id=\"T_651f1_row3_col13\" class=\"data row3 col13\" >253</td>\n",
       "      <td id=\"T_651f1_row3_col14\" class=\"data row3 col14\" >233</td>\n",
       "      <td id=\"T_651f1_row3_col15\" class=\"data row3 col15\" >0</td>\n",
       "      <td id=\"T_651f1_row3_col16\" class=\"data row3 col16\" >0</td>\n",
       "      <td id=\"T_651f1_row3_col17\" class=\"data row3 col17\" >0</td>\n",
       "    </tr>\n",
       "    <tr>\n",
       "      <th id=\"T_651f1_level0_row4\" class=\"row_heading level0 row4\" >4</th>\n",
       "      <td id=\"T_651f1_row4_col0\" class=\"data row4 col0\" >0</td>\n",
       "      <td id=\"T_651f1_row4_col1\" class=\"data row4 col1\" >107</td>\n",
       "      <td id=\"T_651f1_row4_col2\" class=\"data row4 col2\" >253</td>\n",
       "      <td id=\"T_651f1_row4_col3\" class=\"data row4 col3\" >253</td>\n",
       "      <td id=\"T_651f1_row4_col4\" class=\"data row4 col4\" >230</td>\n",
       "      <td id=\"T_651f1_row4_col5\" class=\"data row4 col5\" >48</td>\n",
       "      <td id=\"T_651f1_row4_col6\" class=\"data row4 col6\" >0</td>\n",
       "      <td id=\"T_651f1_row4_col7\" class=\"data row4 col7\" >0</td>\n",
       "      <td id=\"T_651f1_row4_col8\" class=\"data row4 col8\" >0</td>\n",
       "      <td id=\"T_651f1_row4_col9\" class=\"data row4 col9\" >0</td>\n",
       "      <td id=\"T_651f1_row4_col10\" class=\"data row4 col10\" >0</td>\n",
       "      <td id=\"T_651f1_row4_col11\" class=\"data row4 col11\" >192</td>\n",
       "      <td id=\"T_651f1_row4_col12\" class=\"data row4 col12\" >253</td>\n",
       "      <td id=\"T_651f1_row4_col13\" class=\"data row4 col13\" >253</td>\n",
       "      <td id=\"T_651f1_row4_col14\" class=\"data row4 col14\" >156</td>\n",
       "      <td id=\"T_651f1_row4_col15\" class=\"data row4 col15\" >0</td>\n",
       "      <td id=\"T_651f1_row4_col16\" class=\"data row4 col16\" >0</td>\n",
       "      <td id=\"T_651f1_row4_col17\" class=\"data row4 col17\" >0</td>\n",
       "    </tr>\n",
       "    <tr>\n",
       "      <th id=\"T_651f1_level0_row5\" class=\"row_heading level0 row5\" >5</th>\n",
       "      <td id=\"T_651f1_row5_col0\" class=\"data row5 col0\" >0</td>\n",
       "      <td id=\"T_651f1_row5_col1\" class=\"data row5 col1\" >3</td>\n",
       "      <td id=\"T_651f1_row5_col2\" class=\"data row5 col2\" >20</td>\n",
       "      <td id=\"T_651f1_row5_col3\" class=\"data row5 col3\" >20</td>\n",
       "      <td id=\"T_651f1_row5_col4\" class=\"data row5 col4\" >15</td>\n",
       "      <td id=\"T_651f1_row5_col5\" class=\"data row5 col5\" >0</td>\n",
       "      <td id=\"T_651f1_row5_col6\" class=\"data row5 col6\" >0</td>\n",
       "      <td id=\"T_651f1_row5_col7\" class=\"data row5 col7\" >0</td>\n",
       "      <td id=\"T_651f1_row5_col8\" class=\"data row5 col8\" >0</td>\n",
       "      <td id=\"T_651f1_row5_col9\" class=\"data row5 col9\" >0</td>\n",
       "      <td id=\"T_651f1_row5_col10\" class=\"data row5 col10\" >43</td>\n",
       "      <td id=\"T_651f1_row5_col11\" class=\"data row5 col11\" >224</td>\n",
       "      <td id=\"T_651f1_row5_col12\" class=\"data row5 col12\" >253</td>\n",
       "      <td id=\"T_651f1_row5_col13\" class=\"data row5 col13\" >245</td>\n",
       "      <td id=\"T_651f1_row5_col14\" class=\"data row5 col14\" >74</td>\n",
       "      <td id=\"T_651f1_row5_col15\" class=\"data row5 col15\" >0</td>\n",
       "      <td id=\"T_651f1_row5_col16\" class=\"data row5 col16\" >0</td>\n",
       "      <td id=\"T_651f1_row5_col17\" class=\"data row5 col17\" >0</td>\n",
       "    </tr>\n",
       "    <tr>\n",
       "      <th id=\"T_651f1_level0_row6\" class=\"row_heading level0 row6\" >6</th>\n",
       "      <td id=\"T_651f1_row6_col0\" class=\"data row6 col0\" >0</td>\n",
       "      <td id=\"T_651f1_row6_col1\" class=\"data row6 col1\" >0</td>\n",
       "      <td id=\"T_651f1_row6_col2\" class=\"data row6 col2\" >0</td>\n",
       "      <td id=\"T_651f1_row6_col3\" class=\"data row6 col3\" >0</td>\n",
       "      <td id=\"T_651f1_row6_col4\" class=\"data row6 col4\" >0</td>\n",
       "      <td id=\"T_651f1_row6_col5\" class=\"data row6 col5\" >0</td>\n",
       "      <td id=\"T_651f1_row6_col6\" class=\"data row6 col6\" >0</td>\n",
       "      <td id=\"T_651f1_row6_col7\" class=\"data row6 col7\" >0</td>\n",
       "      <td id=\"T_651f1_row6_col8\" class=\"data row6 col8\" >0</td>\n",
       "      <td id=\"T_651f1_row6_col9\" class=\"data row6 col9\" >0</td>\n",
       "      <td id=\"T_651f1_row6_col10\" class=\"data row6 col10\" >249</td>\n",
       "      <td id=\"T_651f1_row6_col11\" class=\"data row6 col11\" >253</td>\n",
       "      <td id=\"T_651f1_row6_col12\" class=\"data row6 col12\" >245</td>\n",
       "      <td id=\"T_651f1_row6_col13\" class=\"data row6 col13\" >126</td>\n",
       "      <td id=\"T_651f1_row6_col14\" class=\"data row6 col14\" >0</td>\n",
       "      <td id=\"T_651f1_row6_col15\" class=\"data row6 col15\" >0</td>\n",
       "      <td id=\"T_651f1_row6_col16\" class=\"data row6 col16\" >0</td>\n",
       "      <td id=\"T_651f1_row6_col17\" class=\"data row6 col17\" >0</td>\n",
       "    </tr>\n",
       "    <tr>\n",
       "      <th id=\"T_651f1_level0_row7\" class=\"row_heading level0 row7\" >7</th>\n",
       "      <td id=\"T_651f1_row7_col0\" class=\"data row7 col0\" >0</td>\n",
       "      <td id=\"T_651f1_row7_col1\" class=\"data row7 col1\" >0</td>\n",
       "      <td id=\"T_651f1_row7_col2\" class=\"data row7 col2\" >0</td>\n",
       "      <td id=\"T_651f1_row7_col3\" class=\"data row7 col3\" >0</td>\n",
       "      <td id=\"T_651f1_row7_col4\" class=\"data row7 col4\" >0</td>\n",
       "      <td id=\"T_651f1_row7_col5\" class=\"data row7 col5\" >0</td>\n",
       "      <td id=\"T_651f1_row7_col6\" class=\"data row7 col6\" >0</td>\n",
       "      <td id=\"T_651f1_row7_col7\" class=\"data row7 col7\" >14</td>\n",
       "      <td id=\"T_651f1_row7_col8\" class=\"data row7 col8\" >101</td>\n",
       "      <td id=\"T_651f1_row7_col9\" class=\"data row7 col9\" >223</td>\n",
       "      <td id=\"T_651f1_row7_col10\" class=\"data row7 col10\" >253</td>\n",
       "      <td id=\"T_651f1_row7_col11\" class=\"data row7 col11\" >248</td>\n",
       "      <td id=\"T_651f1_row7_col12\" class=\"data row7 col12\" >124</td>\n",
       "      <td id=\"T_651f1_row7_col13\" class=\"data row7 col13\" >0</td>\n",
       "      <td id=\"T_651f1_row7_col14\" class=\"data row7 col14\" >0</td>\n",
       "      <td id=\"T_651f1_row7_col15\" class=\"data row7 col15\" >0</td>\n",
       "      <td id=\"T_651f1_row7_col16\" class=\"data row7 col16\" >0</td>\n",
       "      <td id=\"T_651f1_row7_col17\" class=\"data row7 col17\" >0</td>\n",
       "    </tr>\n",
       "    <tr>\n",
       "      <th id=\"T_651f1_level0_row8\" class=\"row_heading level0 row8\" >8</th>\n",
       "      <td id=\"T_651f1_row8_col0\" class=\"data row8 col0\" >0</td>\n",
       "      <td id=\"T_651f1_row8_col1\" class=\"data row8 col1\" >0</td>\n",
       "      <td id=\"T_651f1_row8_col2\" class=\"data row8 col2\" >0</td>\n",
       "      <td id=\"T_651f1_row8_col3\" class=\"data row8 col3\" >0</td>\n",
       "      <td id=\"T_651f1_row8_col4\" class=\"data row8 col4\" >0</td>\n",
       "      <td id=\"T_651f1_row8_col5\" class=\"data row8 col5\" >11</td>\n",
       "      <td id=\"T_651f1_row8_col6\" class=\"data row8 col6\" >166</td>\n",
       "      <td id=\"T_651f1_row8_col7\" class=\"data row8 col7\" >239</td>\n",
       "      <td id=\"T_651f1_row8_col8\" class=\"data row8 col8\" >253</td>\n",
       "      <td id=\"T_651f1_row8_col9\" class=\"data row8 col9\" >253</td>\n",
       "      <td id=\"T_651f1_row8_col10\" class=\"data row8 col10\" >253</td>\n",
       "      <td id=\"T_651f1_row8_col11\" class=\"data row8 col11\" >187</td>\n",
       "      <td id=\"T_651f1_row8_col12\" class=\"data row8 col12\" >30</td>\n",
       "      <td id=\"T_651f1_row8_col13\" class=\"data row8 col13\" >0</td>\n",
       "      <td id=\"T_651f1_row8_col14\" class=\"data row8 col14\" >0</td>\n",
       "      <td id=\"T_651f1_row8_col15\" class=\"data row8 col15\" >0</td>\n",
       "      <td id=\"T_651f1_row8_col16\" class=\"data row8 col16\" >0</td>\n",
       "      <td id=\"T_651f1_row8_col17\" class=\"data row8 col17\" >0</td>\n",
       "    </tr>\n",
       "    <tr>\n",
       "      <th id=\"T_651f1_level0_row9\" class=\"row_heading level0 row9\" >9</th>\n",
       "      <td id=\"T_651f1_row9_col0\" class=\"data row9 col0\" >0</td>\n",
       "      <td id=\"T_651f1_row9_col1\" class=\"data row9 col1\" >0</td>\n",
       "      <td id=\"T_651f1_row9_col2\" class=\"data row9 col2\" >0</td>\n",
       "      <td id=\"T_651f1_row9_col3\" class=\"data row9 col3\" >0</td>\n",
       "      <td id=\"T_651f1_row9_col4\" class=\"data row9 col4\" >0</td>\n",
       "      <td id=\"T_651f1_row9_col5\" class=\"data row9 col5\" >16</td>\n",
       "      <td id=\"T_651f1_row9_col6\" class=\"data row9 col6\" >248</td>\n",
       "      <td id=\"T_651f1_row9_col7\" class=\"data row9 col7\" >250</td>\n",
       "      <td id=\"T_651f1_row9_col8\" class=\"data row9 col8\" >253</td>\n",
       "      <td id=\"T_651f1_row9_col9\" class=\"data row9 col9\" >253</td>\n",
       "      <td id=\"T_651f1_row9_col10\" class=\"data row9 col10\" >253</td>\n",
       "      <td id=\"T_651f1_row9_col11\" class=\"data row9 col11\" >253</td>\n",
       "      <td id=\"T_651f1_row9_col12\" class=\"data row9 col12\" >232</td>\n",
       "      <td id=\"T_651f1_row9_col13\" class=\"data row9 col13\" >213</td>\n",
       "      <td id=\"T_651f1_row9_col14\" class=\"data row9 col14\" >111</td>\n",
       "      <td id=\"T_651f1_row9_col15\" class=\"data row9 col15\" >2</td>\n",
       "      <td id=\"T_651f1_row9_col16\" class=\"data row9 col16\" >0</td>\n",
       "      <td id=\"T_651f1_row9_col17\" class=\"data row9 col17\" >0</td>\n",
       "    </tr>\n",
       "    <tr>\n",
       "      <th id=\"T_651f1_level0_row10\" class=\"row_heading level0 row10\" >10</th>\n",
       "      <td id=\"T_651f1_row10_col0\" class=\"data row10 col0\" >0</td>\n",
       "      <td id=\"T_651f1_row10_col1\" class=\"data row10 col1\" >0</td>\n",
       "      <td id=\"T_651f1_row10_col2\" class=\"data row10 col2\" >0</td>\n",
       "      <td id=\"T_651f1_row10_col3\" class=\"data row10 col3\" >0</td>\n",
       "      <td id=\"T_651f1_row10_col4\" class=\"data row10 col4\" >0</td>\n",
       "      <td id=\"T_651f1_row10_col5\" class=\"data row10 col5\" >0</td>\n",
       "      <td id=\"T_651f1_row10_col6\" class=\"data row10 col6\" >0</td>\n",
       "      <td id=\"T_651f1_row10_col7\" class=\"data row10 col7\" >43</td>\n",
       "      <td id=\"T_651f1_row10_col8\" class=\"data row10 col8\" >98</td>\n",
       "      <td id=\"T_651f1_row10_col9\" class=\"data row10 col9\" >98</td>\n",
       "      <td id=\"T_651f1_row10_col10\" class=\"data row10 col10\" >208</td>\n",
       "      <td id=\"T_651f1_row10_col11\" class=\"data row10 col11\" >253</td>\n",
       "      <td id=\"T_651f1_row10_col12\" class=\"data row10 col12\" >253</td>\n",
       "      <td id=\"T_651f1_row10_col13\" class=\"data row10 col13\" >253</td>\n",
       "      <td id=\"T_651f1_row10_col14\" class=\"data row10 col14\" >253</td>\n",
       "      <td id=\"T_651f1_row10_col15\" class=\"data row10 col15\" >187</td>\n",
       "      <td id=\"T_651f1_row10_col16\" class=\"data row10 col16\" >22</td>\n",
       "      <td id=\"T_651f1_row10_col17\" class=\"data row10 col17\" >0</td>\n",
       "    </tr>\n",
       "  </tbody>\n",
       "</table>\n"
      ],
      "text/plain": [
       "<pandas.io.formats.style.Styler at 0x7f7e9096c970>"
      ]
     },
     "execution_count": 10,
     "metadata": {},
     "output_type": "execute_result"
    }
   ],
   "source": [
    "im3_t=tensor(im3)\n",
    "df=pd.DataFrame(im3_t[4:15,4:22])\n",
    "df.style.set_properties(**{'font-size':'6pt'}).background_gradient('Greys')"
   ]
  },
  {
   "cell_type": "markdown",
   "id": "d8fc8106-ab9b-4f09-b929-41bd44fca51a",
   "metadata": {},
   "source": [
    "- You can see that the background **white pixels are stored as the number 0**, **black is the number 255**, and **shades of gray are between the two**. \n",
    "-  The entire image contains 28 pixels across and 28 pixels down, for a total of 784 pixels."
   ]
  },
  {
   "cell_type": "markdown",
   "id": "cff9ecaf-75a8-47a3-8059-3ac255bdc2b0",
   "metadata": {},
   "source": [
    "## Pixel Similarity"
   ]
  },
  {
   "cell_type": "code",
   "execution_count": 11,
   "id": "a4b6dd6f-04f3-469c-a1f1-179141aaf92e",
   "metadata": {},
   "outputs": [
    {
     "data": {
      "text/plain": [
       "array([[0.        , 0.        , 0.        , 0.        , 0.        ,\n",
       "        0.        ],\n",
       "       [0.        , 0.        , 0.        , 0.        , 0.        ,\n",
       "        0.11372549],\n",
       "       [0.        , 0.        , 0.        , 0.18823529, 0.65098039,\n",
       "        0.87843137],\n",
       "       [0.        , 0.36470588, 0.95686275, 0.97647059, 0.99215686,\n",
       "        0.73333333],\n",
       "       [0.        , 0.41960784, 0.99215686, 0.99215686, 0.90196078,\n",
       "        0.18823529],\n",
       "       [0.        , 0.01176471, 0.07843137, 0.07843137, 0.05882353,\n",
       "        0.        ]])"
      ]
     },
     "execution_count": 11,
     "metadata": {},
     "output_type": "execute_result"
    }
   ],
   "source": [
    "array(im3)[4:10,4:10]/255"
   ]
  },
  {
   "cell_type": "code",
   "execution_count": 12,
   "id": "029e5558-e2f1-4b51-953f-28055e9f96c2",
   "metadata": {},
   "outputs": [],
   "source": [
    "three_tensors=[tensor(Image.open(i)) for i in threes]\n",
    "seven_tensors=[tensor(Image.open(i)) for i in sevens]"
   ]
  },
  {
   "cell_type": "code",
   "execution_count": 13,
   "id": "178e0451-b7f5-49cc-b749-24d940ba5668",
   "metadata": {},
   "outputs": [
    {
     "data": {
      "text/plain": [
       "(6131, 6265)"
      ]
     },
     "execution_count": 13,
     "metadata": {},
     "output_type": "execute_result"
    }
   ],
   "source": [
    "len(three_tensors),len(seven_tensors)"
   ]
  },
  {
   "cell_type": "markdown",
   "id": "1aa0009a-c498-48c4-a3f8-83c9aed0c91d",
   "metadata": {},
   "source": [
    "Since we now *have tensors* (which Jupyter by default will print as values), rather than PIL images (which Jupyter by default will display as images), we need to use fastai's show_image function to display it:`"
   ]
  },
  {
   "cell_type": "code",
   "execution_count": 14,
   "id": "dbd83314-ad4e-4585-8ab8-875be01cdd2f",
   "metadata": {},
   "outputs": [
    {
     "data": {
      "text/plain": [
       "<AxesSubplot:>"
      ]
     },
     "execution_count": 14,
     "metadata": {},
     "output_type": "execute_result"
    },
    {
     "data": {
      "image/png": "[encoded data removed]",
      "text/plain": [
       "<Figure size 72x72 with 1 Axes>"
      ]
     },
     "metadata": {
      "needs_background": "light"
     },
     "output_type": "display_data"
    }
   ],
   "source": [
    "show_image(seven_tensors[3])"
   ]
  },
  {
   "cell_type": "markdown",
   "id": "e2bf2b88-f4ec-4fd8-bb34-d87ad4e42e96",
   "metadata": {},
   "source": [
    "- For every pixel position, we want to compute the average over all the images of the intensity of that pixel. \n",
    "    - 모든 픽셀 위치에서 해당 픽셀 강도의 모든 이미지에 대한 평균을 계산하기 위해서 \n",
    "- To do this we first combine all the images in this list into a single three-dimensional tensor. \n",
    "    - 우선 이 리스트의 모든 이미지를 단일 3차원 텐서로 결합한다.\n",
    "- The most common way to describe such a tensor is to call it a rank-3 tensor. \n",
    "- We often need to stack up individual tensors in a collection into a single tensor. "
   ]
  },
  {
   "cell_type": "markdown",
   "id": "afa19961-b253-4eff-bd4d-c89e9a60aeea",
   "metadata": {},
   "source": [
    "Generally when images are floats, the pixel values are expected to be between 0 and 1, so we will also divide by 255 here:"
   ]
  },
  {
   "cell_type": "code",
   "execution_count": 15,
   "id": "550373c4-0260-417f-976c-21b54db2d237",
   "metadata": {},
   "outputs": [],
   "source": [
    "stacked_threes = torch.stack(three_tensors).float()/255\n",
    "stacked_sevens = torch.stack(seven_tensors).float()/255"
   ]
  },
  {
   "cell_type": "code",
   "execution_count": 16,
   "id": "34eeb02c-bae7-4433-a2f3-4e9ccfac05ad",
   "metadata": {},
   "outputs": [
    {
     "data": {
      "text/plain": [
       "(torch.Size([6131, 28, 28]), torch.Size([6265, 28, 28]))"
      ]
     },
     "execution_count": 16,
     "metadata": {},
     "output_type": "execute_result"
    }
   ],
   "source": [
    "stacked_threes.shape, stacked_sevens.shape"
   ]
  },
  {
   "cell_type": "markdown",
   "id": "808dd9e9-3b0d-432d-9e8a-f9f178980a99",
   "metadata": {},
   "source": [
    "There is nothing specifically about this tensor that says that the first axis is the number of images, the second is the height, and the third is the width"
   ]
  },
  {
   "cell_type": "code",
   "execution_count": 17,
   "id": "b74abf63-c526-4758-b1c2-9c6dfab4de2b",
   "metadata": {},
   "outputs": [
    {
     "data": {
      "text/plain": [
       "3"
      ]
     },
     "execution_count": 17,
     "metadata": {},
     "output_type": "execute_result"
    }
   ],
   "source": [
    "len(stacked_sevens.shape)"
   ]
  },
  {
   "cell_type": "markdown",
   "id": "f2c8454d-995f-49ef-82aa-f465263801ae",
   "metadata": {},
   "source": [
    "> important: rank is the number of axes or dimensions in a tensor; shape is the size of each axis of a tensor."
   ]
  },
  {
   "cell_type": "markdown",
   "id": "d8c40297-f024-4f5a-b858-b300c8a75095",
   "metadata": {},
   "source": [
    "We can also get a tensor's rank directly with ndim:"
   ]
  },
  {
   "cell_type": "code",
   "execution_count": 18,
   "id": "a1a9f3ef-b351-4fd9-8e77-92b9c62049ec",
   "metadata": {},
   "outputs": [
    {
     "data": {
      "text/plain": [
       "3"
      ]
     },
     "execution_count": 18,
     "metadata": {},
     "output_type": "execute_result"
    }
   ],
   "source": [
    "stacked_sevens.ndim"
   ]
  },
  {
   "cell_type": "markdown",
   "id": "1fc62dd6-be7c-4ded-ae56-3a4fec9b1608",
   "metadata": {},
   "source": [
    "for every pixel position, this will compute the average of that pixel over all images. \n",
    "\n",
    "The result will be one value for every pixel position, or a single image. Here it is:"
   ]
  },
  {
   "cell_type": "code",
   "execution_count": 19,
   "id": "8300af1f-38ce-4ea5-8f21-a330a64e9f8e",
   "metadata": {},
   "outputs": [
    {
     "data": {
      "text/plain": [
       "<AxesSubplot:>"
      ]
     },
     "execution_count": 19,
     "metadata": {},
     "output_type": "execute_result"
    },
    {
     "data": {
      "image/png": "[encoded data removed]",
      "text/plain": [
       "<Figure size 72x72 with 1 Axes>"
      ]
     },
     "metadata": {
      "needs_background": "light"
     },
     "output_type": "display_data"
    }
   ],
   "source": [
    "mean3=stacked_threes.mean(0)\n",
    "show_image(mean3)"
   ]
  },
  {
   "cell_type": "code",
   "execution_count": 20,
   "id": "52a9bf73-1072-4b80-a7d3-a3220f271040",
   "metadata": {},
   "outputs": [
    {
     "data": {
      "text/plain": [
       "<AxesSubplot:>"
      ]
     },
     "execution_count": 20,
     "metadata": {},
     "output_type": "execute_result"
    },
    {
     "data": {
      "image/png": "[encoded data removed]",
      "text/plain": [
       "<Figure size 72x72 with 1 Axes>"
      ]
     },
     "metadata": {
      "needs_background": "light"
     },
     "output_type": "display_data"
    }
   ],
   "source": [
    "mean7=stacked_sevens.mean(0)\n",
    "show_image(mean7)"
   ]
  },
  {
   "cell_type": "code",
   "execution_count": 21,
   "id": "99e52182-8473-4dce-a435-0a8c5ed65c08",
   "metadata": {},
   "outputs": [
    {
     "data": {
      "text/plain": [
       "<AxesSubplot:>"
      ]
     },
     "execution_count": 21,
     "metadata": {},
     "output_type": "execute_result"
    },
    {
     "data": {
      "image/png": "[encoded data removed]",
      "text/plain": [
       "<Figure size 72x72 with 1 Axes>"
      ]
     },
     "metadata": {
      "needs_background": "light"
     },
     "output_type": "display_data"
    }
   ],
   "source": [
    "a_3 = stacked_threes[1]\n",
    "show_image(a_3)"
   ]
  },
  {
   "cell_type": "code",
   "execution_count": 22,
   "id": "ddd93ddc-3c1d-4a20-9c72-43045143c3a4",
   "metadata": {},
   "outputs": [
    {
     "data": {
      "text/plain": [
       "<AxesSubplot:>"
      ]
     },
     "execution_count": 22,
     "metadata": {},
     "output_type": "execute_result"
    },
    {
     "data": {
      "image/png": "[encoded data removed]",
      "text/plain": [
       "<Figure size 72x72 with 1 Axes>"
      ]
     },
     "metadata": {
      "needs_background": "light"
     },
     "output_type": "display_data"
    }
   ],
   "source": [
    "a_7 = stacked_sevens[1]\n",
    "show_image(a_7)"
   ]
  },
  {
   "cell_type": "code",
   "execution_count": 23,
   "id": "35aa164f-2b62-49c6-9bcb-7269569f2eb5",
   "metadata": {},
   "outputs": [
    {
     "data": {
      "text/plain": [
       "<AxesSubplot:>"
      ]
     },
     "execution_count": 23,
     "metadata": {},
     "output_type": "execute_result"
    },
    {
     "data": {
      "image/png": "[encoded data removed]",
      "text/plain": [
       "<Figure size 72x72 with 1 Axes>"
      ]
     },
     "metadata": {
      "needs_background": "light"
     },
     "output_type": "display_data"
    }
   ],
   "source": [
    "show_image(abs(a_3-mean3))"
   ]
  },
  {
   "cell_type": "markdown",
   "id": "dbffa804-b540-4f3a-a498-0ec86dc929fd",
   "metadata": {},
   "source": [
    "- We can't just add up the differences between the pixels of this image and the ideal digit. \n",
    "- Some differences will be positive while others will be negative, and these differences will cancel out, resulting in a situation where an image that is too dark in some places and too light in others might be shown as having zero total differences from the ideal.\n",
    "- That would be misleading!"
   ]
  },
  {
   "cell_type": "markdown",
   "id": "9533dd5b-9ef7-4cbd-83ee-665c4b95db4f",
   "metadata": {},
   "source": [
    "1. Take the mean of the *absolute value* of differences (absolute value is the function that replaces negative values with positive values). This is called the *mean absolute difference* or L1 norm\n",
    "2. Take the mean of the *square* of differences (which makes everything positive) and then take the *square root* (which undoes the squaring). This is called the root mean *squared error (RMSE)* or L2 norm."
   ]
  },
  {
   "cell_type": "code",
   "execution_count": 24,
   "id": "ef7f8644-4031-44f0-bbcf-3e1997d71ad5",
   "metadata": {},
   "outputs": [
    {
     "data": {
      "text/plain": [
       "(tensor(0.1114), tensor(0.2021))"
      ]
     },
     "execution_count": 24,
     "metadata": {},
     "output_type": "execute_result"
    }
   ],
   "source": [
    "dist_3_abs=(a_3 - mean3).abs().mean()\n",
    "dist_3_sqr = ((a_3-mean3)**2).mean().sqrt()\n",
    "dist_3_abs, dist_3_sqr"
   ]
  },
  {
   "cell_type": "code",
   "execution_count": 25,
   "id": "43f8aca6-51db-4d3d-ad8b-c971821fc39a",
   "metadata": {},
   "outputs": [
    {
     "data": {
      "text/plain": [
       "(tensor(0.1304), tensor(0.2585))"
      ]
     },
     "execution_count": 25,
     "metadata": {},
     "output_type": "execute_result"
    }
   ],
   "source": [
    "dist_7_abs=(a_7 - mean7).abs().mean()\n",
    "dist_7_sqr = ((a_7-mean7)**2).mean().sqrt()\n",
    "dist_7_abs, dist_7_sqr"
   ]
  },
  {
   "cell_type": "markdown",
   "id": "c4982159-c280-431c-9378-a49ba8adb214",
   "metadata": {},
   "source": [
    "- In both cases, the distance between our 3 and the \"ideal\" 3 is less than the distance to the ideal 7. \n",
    "- So our simple model will give the right prediction in this case."
   ]
  },
  {
   "cell_type": "markdown",
   "id": "258ed157-aaa8-428b-af4d-a6cefa016bfb",
   "metadata": {},
   "source": [
    "PyTorch already provides both of these as loss functions. You'll find these inside `torch.nn.functional`, which the PyTorch team recommends importing as F (and is available by default under that name in fastai):"
   ]
  },
  {
   "cell_type": "code",
   "execution_count": 26,
   "id": "06046ce4-f5d2-43e6-ab49-6d1db5a3b0cc",
   "metadata": {},
   "outputs": [
    {
     "data": {
      "text/plain": [
       "(tensor(0.1114), tensor(0.2021))"
      ]
     },
     "execution_count": 26,
     "metadata": {},
     "output_type": "execute_result"
    }
   ],
   "source": [
    "F.l1_loss(a_3.float(),mean3), F.mse_loss(a_3,mean3).sqrt()"
   ]
  },
  {
   "cell_type": "code",
   "execution_count": 27,
   "id": "2cdfe8e5-c850-40ec-9979-3bd9a37f0088",
   "metadata": {},
   "outputs": [
    {
     "data": {
      "text/plain": [
       "(tensor(0.1304), tensor(0.2585))"
      ]
     },
     "execution_count": 27,
     "metadata": {},
     "output_type": "execute_result"
    }
   ],
   "source": [
    "F.l1_loss(a_7.float(),mean7), F.mse_loss(a_7,mean7).sqrt()"
   ]
  },
  {
   "cell_type": "markdown",
   "id": "1dfa402f-2c8e-4351-a537-d7d745399d7b",
   "metadata": {},
   "source": [
    "Here mse stands for mean squared error, and l1 refers to the standard mathematical jargon for mean absolute value (in math it's called the L1 norm)."
   ]
  },
  {
   "cell_type": "markdown",
   "id": "8f958247-660c-4c25-8683-8d9fbea08df2",
   "metadata": {},
   "source": [
    "## Computing Metrics Using Broadcasting"
   ]
  },
  {
   "cell_type": "code",
   "execution_count": 28,
   "id": "21e74672-8374-4836-98c5-fe366eea428e",
   "metadata": {},
   "outputs": [
    {
     "data": {
      "text/plain": [
       "(torch.Size([1010, 28, 28]), torch.Size([1028, 28, 28]))"
      ]
     },
     "execution_count": 28,
     "metadata": {},
     "output_type": "execute_result"
    }
   ],
   "source": [
    "valid_3_tens = torch.stack([tensor(Image.open(i)) for i in (path/'valid'/'3').ls()]).float()/255\n",
    "valid_7_tens = torch.stack([tensor(Image.open(i)) for i in (path/'valid'/'7').ls()]).float()/255\n",
    "valid_3_tens.shape, valid_7_tens.shape"
   ]
  },
  {
   "cell_type": "code",
   "execution_count": 29,
   "id": "46f020b4-6aae-43f0-b92f-f06f67d7a8b5",
   "metadata": {},
   "outputs": [],
   "source": [
    "def mnist_distance(a,b): return (a-b).abs().mean((-1,-2))"
   ]
  },
  {
   "cell_type": "code",
   "execution_count": 30,
   "id": "838ece24-a6bc-45db-95ab-643ef533e812",
   "metadata": {},
   "outputs": [
    {
     "data": {
      "text/plain": [
       "tensor(0.1114)"
      ]
     },
     "execution_count": 30,
     "metadata": {},
     "output_type": "execute_result"
    }
   ],
   "source": [
    "mnist_distance(a_3,mean3)"
   ]
  },
  {
   "cell_type": "markdown",
   "id": "b220ca44-9de2-4cc1-8489-4c718b14d2cb",
   "metadata": {},
   "source": [
    "This is the same value we previously calculated for the distance between these two images, the ideal 3 mean3 and the arbitrary sample 3 a_3, which are both single-image tensors with a shape of [28,28]."
   ]
  },
  {
   "cell_type": "code",
   "execution_count": 31,
   "id": "d3ff63dd-6633-427d-80d4-a25bbf42ef1f",
   "metadata": {},
   "outputs": [
    {
     "data": {
      "text/plain": [
       "(tensor([0.1421, 0.1246, 0.1330,  ..., 0.1656, 0.1222, 0.1477]),\n",
       " torch.Size([1010]))"
      ]
     },
     "execution_count": 31,
     "metadata": {},
     "output_type": "execute_result"
    }
   ],
   "source": [
    "valid_3_dist=mnist_distance(valid_3_tens,mean3)\n",
    "valid_3_dist, valid_3_dist.shape"
   ]
  },
  {
   "cell_type": "markdown",
   "id": "3dec0d2d-93cb-46f4-98da-2eae97fe3459",
   "metadata": {},
   "source": [
    "PyTorch treats mean3, a rank-2 tensor representing a single image, as if it were 1,010 copies of the same image, and then subtracts each of those copies from each 3 in our validation set."
   ]
  },
  {
   "cell_type": "code",
   "execution_count": 32,
   "id": "3fbbf397-9075-4e5c-84db-408387c08f70",
   "metadata": {},
   "outputs": [
    {
     "data": {
      "text/plain": [
       "(torch.Size([1010, 28, 28]), torch.Size([28, 28]), torch.Size([1010, 28, 28]))"
      ]
     },
     "execution_count": 32,
     "metadata": {},
     "output_type": "execute_result"
    }
   ],
   "source": [
    "valid_3_tens.shape, mean3.shape, (valid_3_tens-mean3).shape"
   ]
  },
  {
   "cell_type": "markdown",
   "id": "6024af88-a1ff-45c5-98f9-5165f9019e12",
   "metadata": {},
   "source": [
    "- PyTorch doesn't actually copy mean3 1,010 times. It pretends it were a tensor of that shape, but doesn't actually allocate any additional memory\n",
    "- It does the whole calculation in C (or, if you're using a GPU, in CUDA, the equivalent of C on the GPU), tens of thousands of times faster than pure Python (up to millions of times faster on a GPU!)."
   ]
  },
  {
   "cell_type": "markdown",
   "id": "db025103-dcf4-4bf3-ae77-1d6c8facafc0",
   "metadata": {},
   "source": [
    "our function calls *mean((-1,-2))*. The tuple (-1,-2) represents a range of axes. In Python, `-1` refers to the last element, and `-2` refers to the second-to-last. So in this case, this tells PyTorch that we want to take the mean ranging over the values indexed by the last two axes of the tensor. The last two axes are the horizontal and vertical dimensions of an image. After taking the mean over the last two axes, we are left with just the first tensor axis, which indexes over our images, which is why our final size was (1010). In other words, for every image, we averaged the intensity of all the pixels in that image."
   ]
  },
  {
   "cell_type": "markdown",
   "id": "4cee17c5-6ba9-4e46-bd41-62968089e209",
   "metadata": {},
   "source": [
    "We can use mnist_distance to figure out whether an image is a 3 or not by using the following logic: **if the distance between the digit in question and the ideal 3 is less than the distance to the ideal 7, then it's a 3**. This function will automatically do broadcasting and be applied elementwise, just like all PyTorch functions and operators:"
   ]
  },
  {
   "cell_type": "code",
   "execution_count": 33,
   "id": "bfd4c7d5-fff4-42ba-bb08-f97eb02a7036",
   "metadata": {},
   "outputs": [],
   "source": [
    "def is_3(x): return mnist_distance(x,mean3)<mnist_distance(x,mean7)"
   ]
  },
  {
   "cell_type": "code",
   "execution_count": 34,
   "id": "68d5e6f3-ae90-4967-a7d7-498a2f6deac1",
   "metadata": {},
   "outputs": [
    {
     "data": {
      "text/plain": [
       "(tensor(True), tensor(1.))"
      ]
     },
     "execution_count": 34,
     "metadata": {},
     "output_type": "execute_result"
    }
   ],
   "source": [
    "is_3(a_3),is_3(a_3).float()"
   ]
  },
  {
   "cell_type": "markdown",
   "id": "487bdbd3-4abe-40ac-b263-b946dde50d14",
   "metadata": {},
   "source": [
    "Note that when we convert the Boolean response to a float, **we get 1.0 for True and 0.0 for False**."
   ]
  },
  {
   "cell_type": "code",
   "execution_count": 35,
   "id": "9e79a4c2-75ac-42ec-9167-184a5881cef1",
   "metadata": {},
   "outputs": [
    {
     "data": {
      "text/plain": [
       "tensor([True, True, True,  ..., True, True, True])"
      ]
     },
     "execution_count": 35,
     "metadata": {},
     "output_type": "execute_result"
    }
   ],
   "source": [
    "is_3(valid_3_tens)"
   ]
  },
  {
   "cell_type": "code",
   "execution_count": 36,
   "id": "2cee01ad-060f-4172-b194-6a81497d687e",
   "metadata": {},
   "outputs": [
    {
     "data": {
      "text/plain": [
       "(tensor(0.9168), tensor(0.9854), tensor(0.9511))"
      ]
     },
     "execution_count": 36,
     "metadata": {},
     "output_type": "execute_result"
    }
   ],
   "source": [
    "accuracy_3s=is_3(valid_3_tens).float().mean()\n",
    "accuracy_7s = (1-is_3(valid_7_tens).float()).mean()\n",
    "accuracy_3s, accuracy_7s, (accuracy_3s+accuracy_7s)/2"
   ]
  },
  {
   "cell_type": "markdown",
   "id": "9db7be9c-4763-498e-aa0a-438b107a999f",
   "metadata": {},
   "source": [
    "## Stochastic Gradient Descent (SGD)"
   ]
  },
  {
   "cell_type": "markdown",
   "id": "94fc62bd-1998-4b8c-8124-f52dc9a09b05",
   "metadata": {},
   "source": [
    "we could instead look at each individual pixel and come up with a set of weights for each one, such that the highest weights are associated with those pixels most likely to be black for a particular category. \n",
    "- We want to find the specific values for the vector w that causes the result of our function to be high for those images that are actually 8s"
   ]
  },
  {
   "cell_type": "markdown",
   "id": "af9f6fa0-8af8-4de1-81dd-03c910e2e959",
   "metadata": {},
   "source": [
    "Here are the steps that we are going to require, to turn this function into a machine learning classifier:\n",
    "1. Initialize the weights. \n",
    "    - 가중치를 초기화한다.\n",
    "        - We initialize the parameters to random values. \n",
    "2. For each image, use these weights to predict whether it appears to be a 3 or a 7.\n",
    "    - 각 이미지에 대해 3이나 7로 나타나는지 예측하기 위해 가중치를 사용한다.\n",
    "3. Based on these predictions, calculate how good the model is (its loss).\n",
    "    - 이 예측을 바탕으로 모델이 얼마나 좋은지 즉, 손실을 계산한다.\n",
    "        - We need some function that will return a number that is small if the performance of the model is good.\n",
    "        - the standard approach is to treat a small loss as good, and a large loss as bad, although this is just a convention.\n",
    "4. Calculate the gradient, which measures for each weight, how changing that weight would change the loss\n",
    "    - 각 가중치를 측정하는 기울기를 계산하고, 가중치가 변경되면 손실은 어떻게 변화하는지 계산한다.\n",
    "5. Step (that is, change) all the weights based on that calculation.\n",
    "    - 계산에 따라 모든 가중치를 단계, 즉 변경한다.\n",
    "6. Go back to the step 2, and repeat the process.\n",
    "    - 2단계로 돌아가서 과정을 반복한다.\n",
    "7. Iterate until you decide to stop the training process (for instance, because the model is good enough or you don't want to wait any longer).\n",
    "    - 학습 과정을 중단하기로 결정할떄까지 반복한다.(모델이 충분히 좋거나 더이상 기다리기 싫을때)\n",
    "        - Once we've decided how many epochs to train the model for (a few suggestions for this were given in the earlier list), we apply that decision."
   ]
  },
  {
   "cell_type": "markdown",
   "id": "f37da8b8-501e-48a8-a136-09e622960f4e",
   "metadata": {},
   "source": [
    "- These seven steps, illustrated in <>, are the key to the training of all deep learning models.\n",
    "- That deep learning turns out to rely entirely on these steps is extremely surprising and counterintuitive."
   ]
  },
  {
   "cell_type": "code",
   "execution_count": 40,
   "id": "7164c2fc-dc80-4274-bba8-91e8c8ffbc3f",
   "metadata": {},
   "outputs": [
    {
     "data": {
      "image/svg+xml": [
       "<?xml version=\"1.0\" encoding=\"UTF-8\" standalone=\"no\"?>\n",
       "<!DOCTYPE svg PUBLIC \"-//W3C//DTD SVG 1.1//EN\"\n",
       " \"http://www.w3.org/Graphics/SVG/1.1/DTD/svg11.dtd\">\n",
       "<!-- Generated by graphviz version 2.50.0 (20211209.0339)\n",
       " -->\n",
       "<!-- Title: G Pages: 1 -->\n",
       "<svg width=\"661pt\" height=\"78pt\"\n",
       " viewBox=\"0.00 0.00 660.87 78.00\" xmlns=\"http://www.w3.org/2000/svg\" xmlns:xlink=\"http://www.w3.org/1999/xlink\">\n",
       "<g id=\"graph0\" class=\"graph\" transform=\"scale(1 1) rotate(0) translate(4 74)\">\n",
       "<title>G</title>\n",
       "<polygon fill=\"white\" stroke=\"transparent\" points=\"-4,4 -4,-74 656.87,-74 656.87,4 -4,4\"/>\n",
       "<!-- init -->\n",
       "<g id=\"node1\" class=\"node\">\n",
       "<title>init</title>\n",
       "<ellipse fill=\"none\" stroke=\"black\" cx=\"27\" cy=\"-18\" rx=\"27\" ry=\"18\"/>\n",
       "<text text-anchor=\"middle\" x=\"27\" y=\"-14.3\" font-family=\"Times,serif\" font-size=\"14.00\">init</text>\n",
       "</g>\n",
       "<!-- predict -->\n",
       "<g id=\"node2\" class=\"node\">\n",
       "<title>predict</title>\n",
       "<ellipse fill=\"none\" stroke=\"black\" cx=\"135.2\" cy=\"-18\" rx=\"44.39\" ry=\"18\"/>\n",
       "<text text-anchor=\"middle\" x=\"135.2\" y=\"-14.3\" font-family=\"Times,serif\" font-size=\"14.00\">predict</text>\n",
       "</g>\n",
       "<!-- init&#45;&gt;predict -->\n",
       "<g id=\"edge1\" class=\"edge\">\n",
       "<title>init&#45;&gt;predict</title>\n",
       "<path fill=\"none\" stroke=\"black\" d=\"M54.25,-18C62.37,-18 71.63,-18 80.89,-18\"/>\n",
       "<polygon fill=\"black\" stroke=\"black\" points=\"80.89,-21.5 90.89,-18 80.89,-14.5 80.89,-21.5\"/>\n",
       "</g>\n",
       "<!-- loss -->\n",
       "<g id=\"node3\" class=\"node\">\n",
       "<title>loss</title>\n",
       "<ellipse fill=\"none\" stroke=\"black\" cx=\"244.99\" cy=\"-52\" rx=\"28.7\" ry=\"18\"/>\n",
       "<text text-anchor=\"middle\" x=\"244.99\" y=\"-48.3\" font-family=\"Times,serif\" font-size=\"14.00\">loss</text>\n",
       "</g>\n",
       "<!-- predict&#45;&gt;loss -->\n",
       "<g id=\"edge2\" class=\"edge\">\n",
       "<title>predict&#45;&gt;loss</title>\n",
       "<path fill=\"none\" stroke=\"black\" d=\"M170.6,-28.85C183.05,-32.78 197.09,-37.21 209.54,-41.14\"/>\n",
       "<polygon fill=\"black\" stroke=\"black\" points=\"208.53,-44.49 219.12,-44.16 210.64,-37.81 208.53,-44.49\"/>\n",
       "</g>\n",
       "<!-- gradient -->\n",
       "<g id=\"node4\" class=\"node\">\n",
       "<title>gradient</title>\n",
       "<ellipse fill=\"none\" stroke=\"black\" cx=\"406.63\" cy=\"-52\" rx=\"50.09\" ry=\"18\"/>\n",
       "<text text-anchor=\"middle\" x=\"406.63\" y=\"-48.3\" font-family=\"Times,serif\" font-size=\"14.00\">gradient</text>\n",
       "</g>\n",
       "<!-- loss&#45;&gt;gradient -->\n",
       "<g id=\"edge3\" class=\"edge\">\n",
       "<title>loss&#45;&gt;gradient</title>\n",
       "<path fill=\"none\" stroke=\"black\" d=\"M273.8,-52C293.82,-52 321.57,-52 346.45,-52\"/>\n",
       "<polygon fill=\"black\" stroke=\"black\" points=\"346.55,-55.5 356.55,-52 346.55,-48.5 346.55,-55.5\"/>\n",
       "</g>\n",
       "<!-- step -->\n",
       "<g id=\"node5\" class=\"node\">\n",
       "<title>step</title>\n",
       "<ellipse fill=\"none\" stroke=\"black\" cx=\"524.23\" cy=\"-18\" rx=\"30.59\" ry=\"18\"/>\n",
       "<text text-anchor=\"middle\" x=\"524.23\" y=\"-14.3\" font-family=\"Times,serif\" font-size=\"14.00\">step</text>\n",
       "</g>\n",
       "<!-- gradient&#45;&gt;step -->\n",
       "<g id=\"edge4\" class=\"edge\">\n",
       "<title>gradient&#45;&gt;step</title>\n",
       "<path fill=\"none\" stroke=\"black\" d=\"M445.8,-40.77C459.01,-36.89 473.76,-32.55 486.82,-28.71\"/>\n",
       "<polygon fill=\"black\" stroke=\"black\" points=\"487.82,-32.06 496.43,-25.88 485.85,-25.35 487.82,-32.06\"/>\n",
       "</g>\n",
       "<!-- step&#45;&gt;predict -->\n",
       "<g id=\"edge6\" class=\"edge\">\n",
       "<title>step&#45;&gt;predict</title>\n",
       "<path fill=\"none\" stroke=\"black\" d=\"M493.68,-18C428.65,-18 272.39,-18 189.67,-18\"/>\n",
       "<polygon fill=\"black\" stroke=\"black\" points=\"189.47,-14.5 179.47,-18 189.47,-21.5 189.47,-14.5\"/>\n",
       "<text text-anchor=\"middle\" x=\"315.09\" y=\"-21.8\" font-family=\"Times,serif\" font-size=\"14.00\">repeat</text>\n",
       "</g>\n",
       "<!-- stop -->\n",
       "<g id=\"node6\" class=\"node\">\n",
       "<title>stop</title>\n",
       "<ellipse fill=\"none\" stroke=\"black\" cx=\"622.32\" cy=\"-18\" rx=\"30.59\" ry=\"18\"/>\n",
       "<text text-anchor=\"middle\" x=\"622.32\" y=\"-14.3\" font-family=\"Times,serif\" font-size=\"14.00\">stop</text>\n",
       "</g>\n",
       "<!-- step&#45;&gt;stop -->\n",
       "<g id=\"edge5\" class=\"edge\">\n",
       "<title>step&#45;&gt;stop</title>\n",
       "<path fill=\"none\" stroke=\"black\" d=\"M554.84,-18C563.24,-18 572.53,-18 581.44,-18\"/>\n",
       "<polygon fill=\"black\" stroke=\"black\" points=\"581.64,-21.5 591.64,-18 581.64,-14.5 581.64,-21.5\"/>\n",
       "</g>\n",
       "</g>\n",
       "</svg>\n"
      ],
      "text/plain": [
       "<graphviz.sources.Source at 0x7f7e901ff9a0>"
      ]
     },
     "execution_count": 40,
     "metadata": {},
     "output_type": "execute_result"
    }
   ],
   "source": [
    "gv('''\n",
    "init->predict->loss->gradient->step->stop\n",
    "step->predict[label=repeat]\n",
    "''')"
   ]
  },
  {
   "cell_type": "markdown",
   "id": "69706c75-cb70-4bde-9ebd-ff845d1da51c",
   "metadata": {},
   "source": [
    "let's pretend that this is our loss function, and x is a weight parameter of the function:"
   ]
  },
  {
   "cell_type": "code",
   "execution_count": 41,
   "id": "6d2358e0-32fa-4dfe-948e-7f13faf2fd08",
   "metadata": {},
   "outputs": [],
   "source": [
    "def f(x): return x**2"
   ]
  },
  {
   "cell_type": "code",
   "execution_count": 46,
   "id": "edc9f945-c803-4e21-af93-b59253e74419",
   "metadata": {},
   "outputs": [
    {
     "data": {
      "image/png": "[encoded data removed]",
      "text/plain": [
       "<Figure size 432x288 with 1 Axes>"
      ]
     },
     "metadata": {
      "needs_background": "light"
     },
     "output_type": "display_data"
    }
   ],
   "source": [
    "plot_function(f,'x','x**2')"
   ]
  },
  {
   "cell_type": "markdown",
   "id": "9d430c0c-4439-4ac5-a264-aed2edea37bd",
   "metadata": {},
   "source": [
    "The sequence of steps we described earlier starts by picking some random value for a parameter, and calculating the value of the loss:"
   ]
  },
  {
   "cell_type": "code",
   "execution_count": 47,
   "id": "19a9dfc0-d9b2-4c5b-b0dd-e33cab0d56aa",
   "metadata": {},
   "outputs": [
    {
     "data": {
      "text/plain": [
       "<matplotlib.collections.PathCollection at 0x7f7ed919dee0>"
      ]
     },
     "execution_count": 47,
     "metadata": {},
     "output_type": "execute_result"
    },
    {
     "data": {
      "image/png": "[encoded data removed]",
      "text/plain": [
       "<Figure size 432x288 with 1 Axes>"
      ]
     },
     "metadata": {
      "needs_background": "light"
     },
     "output_type": "display_data"
    }
   ],
   "source": [
    "plot_function(f,'x','x**2')\n",
    "plt.scatter(-1.5,f(-1.5),color='red')"
   ]
  },
  {
   "cell_type": "markdown",
   "id": "bd397afa-57ef-4f8a-a5ff-aecf80133551",
   "metadata": {},
   "source": [
    "We can change our weight by a little in the direction of the slope, calculate our loss and adjustment again, and repeat this a few times.\n",
    "- 위와 같이 제시되었을때, 가중치를 기울기 방향으로 조금씩 바꾸어 손실과 조정을 반복해서 계산할 수 있다.(결국 (0,0)에 도달하게 될 것이다.)"
   ]
  },
  {
   "cell_type": "markdown",
   "id": "d6d1bd39-fcda-4007-88da-06516215aa88",
   "metadata": {},
   "source": [
    "## Calculating Gradients"
   ]
  },
  {
   "cell_type": "markdown",
   "id": "39ec7b42-4126-4e2f-b6a1-ea77949e7643",
   "metadata": {},
   "source": [
    "- PyTorch is able to automatically compute the derivative of nearly any function!\n",
    "- What's more, it does it very fast. \n",
    "- Most of the time, it will be at least as fast as any derivative function that you can create by hand.\n",
    "- 파이토치는 어느 함수든 자동으로 계산하여 유도할 수 있으며, 빠르기까지 하다."
   ]
  },
  {
   "cell_type": "markdown",
   "id": "86639c29-9e5a-4c11-b0d6-744e3059333e",
   "metadata": {},
   "source": [
    "First, let's pick a tensor value which we want gradients at:"
   ]
  },
  {
   "cell_type": "code",
   "execution_count": 51,
   "id": "317e7976-2675-4a83-b58e-10e89eeebf64",
   "metadata": {},
   "outputs": [],
   "source": [
    "xt = tensor(3.0).requires_grad_()"
   ]
  },
  {
   "cell_type": "markdown",
   "id": "18d57e70-8328-4ab6-ba0b-1825e110ce49",
   "metadata": {},
   "source": [
    "Notice the special method` requires_grad_`? \n",
    "   - That's the magical incantation we use to tell PyTorch that we want to calculate gradients with respect to that variable at that value. \n",
    "   -  It is essentially tagging the variable, so PyTorch will remember to keep track of how to compute gradients of the other, direct calculations on it that you will ask for.\n",
    "   - requires_grad_()는 변수에 태그하는 것이어서 파이토치가 나중에 우리가 직접 계산해달라고 해줄 다른 기울기를 계산하는 법의 추적을 가지고 있는 것이라 보면 된다."
   ]
  },
  {
   "cell_type": "markdown",
   "id": "d65162c5-d47e-4701-b87e-2e6aec92a5b1",
   "metadata": {},
   "source": [
    "Notice how PyTorch prints not just the value calculated, but also a note that it has a gradient function it'll be using to calculate our gradients when needed:"
   ]
  },
  {
   "cell_type": "code",
   "execution_count": 52,
   "id": "11e6d7be-91d0-4b22-8760-951557c17d96",
   "metadata": {},
   "outputs": [
    {
     "data": {
      "text/plain": [
       "tensor(9., grad_fn=<PowBackward0>)"
      ]
     },
     "execution_count": 52,
     "metadata": {},
     "output_type": "execute_result"
    }
   ],
   "source": [
    "yt = f(xt)\n",
    "yt"
   ]
  },
  {
   "cell_type": "code",
   "execution_count": 53,
   "id": "3b43846d-3e3e-4849-afb8-f3ce9f39dd9a",
   "metadata": {},
   "outputs": [],
   "source": [
    "yt.backward()"
   ]
  },
  {
   "cell_type": "markdown",
   "id": "3d4aa9aa-36e7-45a2-a1ed-3da2ccc73485",
   "metadata": {},
   "source": [
    "The \"backward\" here refers to backpropagation, which is the name given to the process of calculating the derivative of each layer.\n",
    "   - backward는 역전파를 가리키는데, 이건 각 층의 유도를 계산하는 과정에 주어진 이름이다.\n",
    "   - 역전파를 시작하겠다!\n",
    "   \n",
    "This is called the \"backward pass\" of the network, as opposed to the \"forward pass,\" which is where the activations are calculated. "
   ]
  },
  {
   "cell_type": "code",
   "execution_count": 54,
   "id": "a1ba3d78-094f-44e1-add9-b4c192c0c91c",
   "metadata": {},
   "outputs": [
    {
     "data": {
      "text/plain": [
       "tensor(6.)"
      ]
     },
     "execution_count": 54,
     "metadata": {},
     "output_type": "execute_result"
    }
   ],
   "source": [
    "xt.grad"
   ]
  },
  {
   "cell_type": "markdown",
   "id": "fa2fc7c8-ffc2-4b41-b66f-06ee4dd261ef",
   "metadata": {},
   "source": [
    "위는 우리가 입력한 xt 즉, 3과 f함수 **2가 적용되어 6이 나온 것."
   ]
  },
  {
   "cell_type": "markdown",
   "id": "799f12d3-1a08-475c-810b-bb328e2e7343",
   "metadata": {},
   "source": [
    "Now we'll repeat the preceding steps, but with a vector argument for our function:"
   ]
  },
  {
   "cell_type": "code",
   "execution_count": 61,
   "id": "e0fc5f5d-9dcc-49f7-a8a0-370e4436eb7c",
   "metadata": {},
   "outputs": [
    {
     "data": {
      "text/plain": [
       "tensor([ 3.,  4., 10.], requires_grad=True)"
      ]
     },
     "execution_count": 61,
     "metadata": {},
     "output_type": "execute_result"
    }
   ],
   "source": [
    "xt=tensor([3.,4.,10.]).requires_grad_()\n",
    "xt"
   ]
  },
  {
   "cell_type": "markdown",
   "id": "9570fdf2-6d45-4aaf-b84d-6f9898541df9",
   "metadata": {},
   "source": [
    "we'll **add sum** to our function so it can **take a vector** (i.e., a rank-1 tensor), and return a scalar (i.e., a rank-0 tensor):"
   ]
  },
  {
   "cell_type": "code",
   "execution_count": 102,
   "id": "4d28723e-758b-494b-8007-d91ec0254daa",
   "metadata": {},
   "outputs": [],
   "source": [
    "def f(x): return (x**2).sum()"
   ]
  },
  {
   "cell_type": "code",
   "execution_count": 103,
   "id": "48039cf3-ad09-412a-9746-d8e553b32e1f",
   "metadata": {},
   "outputs": [
    {
     "data": {
      "text/plain": [
       "tensor(125., grad_fn=<SumBackward0>)"
      ]
     },
     "execution_count": 103,
     "metadata": {},
     "output_type": "execute_result"
    }
   ],
   "source": [
    "yt=f(xt)\n",
    "yt"
   ]
  },
  {
   "cell_type": "code",
   "execution_count": 104,
   "id": "1233f922-44ea-4332-a3fb-935a25d6269d",
   "metadata": {},
   "outputs": [],
   "source": [
    "yt.backward()"
   ]
  },
  {
   "cell_type": "code",
   "execution_count": 105,
   "id": "452ee2df-c4b6-4064-a446-8fb1d482af31",
   "metadata": {},
   "outputs": [
    {
     "data": {
      "text/plain": [
       "tensor([ 39.,  64., 340.])"
      ]
     },
     "execution_count": 105,
     "metadata": {},
     "output_type": "execute_result"
    }
   ],
   "source": [
    "xt.grad"
   ]
  },
  {
   "cell_type": "markdown",
   "id": "d809bfb4-dd8d-4604-868f-65b64853d932",
   "metadata": {},
   "source": [
    "## Stepping With a Learning Rate"
   ]
  },
  {
   "cell_type": "markdown",
   "id": "b55505e2-0307-4eb1-8d16-ef36135bf52e",
   "metadata": {},
   "source": [
    "Nearly all approaches start with the basic idea of multiplying the gradient by some small number, called the **learning rate (LR).**\n",
    "- The learning rate is often a number between 0.001 and 0.1, although it could be anything. "
   ]
  },
  {
   "cell_type": "markdown",
   "id": "e682cae1-5d07-47d8-a0f0-0d3ffff131bd",
   "metadata": {},
   "source": [
    "Once you've picked a learning rate, you can adjust your parameters using this simple function:\n",
    "$$\\text{w -= gradient(w_ * lr)}$$"
   ]
  },
  {
   "cell_type": "markdown",
   "id": "21b87b64-fd67-414f-ab53-e3301d4f1328",
   "metadata": {},
   "source": [
    "## An End-to-End SGD Example"
   ]
  },
  {
   "cell_type": "markdown",
   "id": "0de49d0c-3e0a-4200-bc1f-d273e1ec760e",
   "metadata": {},
   "source": [
    "롤러코스터 스피드 측정하는 예제"
   ]
  },
  {
   "cell_type": "code",
   "execution_count": 199,
   "id": "000e21e5-5269-485d-a3b3-208dfd19cdd6",
   "metadata": {},
   "outputs": [
    {
     "data": {
      "text/plain": [
       "tensor([ 0.,  1.,  2.,  3.,  4.,  5.,  6.,  7.,  8.,  9., 10., 11., 12., 13., 14., 15., 16., 17., 18., 19.])"
      ]
     },
     "execution_count": 199,
     "metadata": {},
     "output_type": "execute_result"
    }
   ],
   "source": [
    "time = torch.arange(0,20).float()\n",
    "time"
   ]
  },
  {
   "cell_type": "code",
   "execution_count": 200,
   "id": "f0543bc2-13d2-449a-a692-9795b384d4ce",
   "metadata": {},
   "outputs": [
    {
     "data": {
      "text/plain": [
       "<matplotlib.collections.PathCollection at 0x7f7ed2500d60>"
      ]
     },
     "execution_count": 200,
     "metadata": {},
     "output_type": "execute_result"
    },
    {
     "data": {
      "image/png": "[encoded data removed]",
      "text/plain": [
       "<Figure size 432x288 with 1 Axes>"
      ]
     },
     "metadata": {
      "needs_background": "light"
     },
     "output_type": "display_data"
    }
   ],
   "source": [
    "speed=torch.randn(20)*3+0.75*(time-9.5)**2+1\n",
    "plt.scatter(time,speed)"
   ]
  },
  {
   "cell_type": "markdown",
   "id": "83967ab8-a094-4cc7-96f1-8999c365987e",
   "metadata": {},
   "source": [
    "We've added a bit of random noise, since measuring things manually isn't precise.\n",
    "\n",
    "a function of the form $a*(time**2)+(b*time)+c$"
   ]
  },
  {
   "cell_type": "code",
   "execution_count": 201,
   "id": "80ccc68e-65e8-4b88-afa6-013a61ca757e",
   "metadata": {},
   "outputs": [],
   "source": [
    "def f(t, params):\n",
    "    a,b,c = params\n",
    "    return a*(t**2) + (b*t) + c"
   ]
  },
  {
   "cell_type": "markdown",
   "id": "28696a7f-91fe-45c5-9458-0ed2d3fe2dfd",
   "metadata": {},
   "source": [
    " Thus, to find the best quadratic function, we only need to find the best values for a, b, and c."
   ]
  },
  {
   "cell_type": "markdown",
   "id": "3730dfe4-51f5-4cfc-be40-e65280524e5e",
   "metadata": {},
   "source": [
    "- We need to define first what we mean by \"best.\" \n",
    "- We define this precisely by choosing a loss function, which will return a value based on a prediction and a target, where lower values of the function correspond to \"better\" predictions.\n",
    "    - 여기서 'best'의 의미는 정확하게 손실 함수를 선택함으로써 정의하는데, 함수의 낮은 값이 더 나은 예측에 기반한 예측과 target을 반환하는 것이다.\n",
    "- For continuous data, it's common to use mean squared error:"
   ]
  },
  {
   "cell_type": "code",
   "execution_count": 202,
   "id": "f4d10dc2-5873-4d88-90a8-001f103dc6cb",
   "metadata": {},
   "outputs": [],
   "source": [
    "def mse(preds, targets): return ((preds-targets)**2).mean().sqrt()"
   ]
  },
  {
   "cell_type": "markdown",
   "id": "4283d832-d949-43f6-b645-115575f82c28",
   "metadata": {},
   "source": [
    "**Step 1: Initialize the parameters**"
   ]
  },
  {
   "cell_type": "code",
   "execution_count": 229,
   "id": "ace48395-25f0-48c7-b1b5-b20f8433e2a6",
   "metadata": {},
   "outputs": [],
   "source": [
    "params=torch.randn(3).requires_grad_()"
   ]
  },
  {
   "cell_type": "code",
   "execution_count": 230,
   "id": "e78ad80a-4648-4796-b53f-283673c465e0",
   "metadata": {},
   "outputs": [],
   "source": [
    "orig_params=params.clone()"
   ]
  },
  {
   "cell_type": "code",
   "execution_count": 231,
   "id": "1ef83ed6-27f6-4304-a919-5ea2a490814b",
   "metadata": {},
   "outputs": [
    {
     "data": {
      "text/plain": [
       "tensor([-0.6300,  0.2694,  0.7482], grad_fn=<CloneBackward0>)"
      ]
     },
     "execution_count": 231,
     "metadata": {},
     "output_type": "execute_result"
    }
   ],
   "source": [
    "orig_params"
   ]
  },
  {
   "cell_type": "markdown",
   "id": "27f3bc8e-29a5-48e0-bc40-a9e5f4e78f1a",
   "metadata": {},
   "source": [
    "**Step 2: Calculate the predictions**"
   ]
  },
  {
   "cell_type": "code",
   "execution_count": 232,
   "id": "bff31b29-3886-4969-b5ec-03afbe684e05",
   "metadata": {},
   "outputs": [],
   "source": [
    "preds=f(time,params)"
   ]
  },
  {
   "cell_type": "code",
   "execution_count": 233,
   "id": "17892307-11e4-423a-b552-3d96a5def044",
   "metadata": {},
   "outputs": [],
   "source": [
    "def show_preds(preds, ax=None):\n",
    "    if ax is None: ax=plt.subplots()[1]\n",
    "    ax.scatter(time, speed)\n",
    "    ax.scatter(time, to_np(preds), color='red')\n",
    "    ax.set_ylim(-300,100)"
   ]
  },
  {
   "cell_type": "code",
   "execution_count": 234,
   "id": "48b08821-0c91-4c2d-a7c2-f3e52ed876f3",
   "metadata": {},
   "outputs": [
    {
     "data": {
      "text/plain": [
       "\u001b[0;31mSignature:\u001b[0m \u001b[0mto_np\u001b[0m\u001b[0;34m(\u001b[0m\u001b[0mx\u001b[0m\u001b[0;34m)\u001b[0m\u001b[0;34m\u001b[0m\u001b[0;34m\u001b[0m\u001b[0m\n",
       "\u001b[0;31mSource:\u001b[0m   \n",
       "\u001b[0;32mdef\u001b[0m \u001b[0mto_np\u001b[0m\u001b[0;34m(\u001b[0m\u001b[0mx\u001b[0m\u001b[0;34m)\u001b[0m\u001b[0;34m:\u001b[0m\u001b[0;34m\u001b[0m\n",
       "\u001b[0;34m\u001b[0m    \u001b[0;34m\"Convert a tensor to a numpy array.\"\u001b[0m\u001b[0;34m\u001b[0m\n",
       "\u001b[0;34m\u001b[0m    \u001b[0;32mreturn\u001b[0m \u001b[0mapply\u001b[0m\u001b[0;34m(\u001b[0m\u001b[0;32mlambda\u001b[0m \u001b[0mo\u001b[0m\u001b[0;34m:\u001b[0m \u001b[0mo\u001b[0m\u001b[0;34m.\u001b[0m\u001b[0mdata\u001b[0m\u001b[0;34m.\u001b[0m\u001b[0mcpu\u001b[0m\u001b[0;34m(\u001b[0m\u001b[0;34m)\u001b[0m\u001b[0;34m.\u001b[0m\u001b[0mnumpy\u001b[0m\u001b[0;34m(\u001b[0m\u001b[0;34m)\u001b[0m\u001b[0;34m,\u001b[0m \u001b[0mx\u001b[0m\u001b[0;34m)\u001b[0m\u001b[0;34m\u001b[0m\u001b[0;34m\u001b[0m\u001b[0m\n",
       "\u001b[0;31mFile:\u001b[0m      ~/anaconda3/envs/csy/lib/python3.8/site-packages/fastai/torch_core.py\n",
       "\u001b[0;31mType:\u001b[0m      function\n"
      ]
     },
     "metadata": {},
     "output_type": "display_data"
    }
   ],
   "source": [
    "to_np??"
   ]
  },
  {
   "cell_type": "code",
   "execution_count": 235,
   "id": "b33b267f-ed14-4cd5-808c-579747f18fe0",
   "metadata": {},
   "outputs": [
    {
     "data": {
      "image/png": "[encoded data removed]",
      "text/plain": [
       "<Figure size 432x288 with 1 Axes>"
      ]
     },
     "metadata": {
      "needs_background": "light"
     },
     "output_type": "display_data"
    }
   ],
   "source": [
    "show_preds(preds)"
   ]
  },
  {
   "cell_type": "markdown",
   "id": "a0b3f2d9-48a4-4e32-9da1-3751085aaf20",
   "metadata": {},
   "source": [
    "our random parameters suggest that the roller coaster will end up going backwards, since we have negative speeds!"
   ]
  },
  {
   "cell_type": "markdown",
   "id": "dd7860b0-4160-4083-9140-37a2537c52c8",
   "metadata": {},
   "source": [
    "**Step 3: Calculate the loss**"
   ]
  },
  {
   "cell_type": "code",
   "execution_count": 236,
   "id": "845d308f-7ac0-41b5-b4ae-39e71a075b8e",
   "metadata": {},
   "outputs": [
    {
     "data": {
      "text/plain": [
       "tensor(127.6359, grad_fn=<SqrtBackward0>)"
      ]
     },
     "execution_count": 236,
     "metadata": {},
     "output_type": "execute_result"
    }
   ],
   "source": [
    "loss=mse(preds,speed)\n",
    "loss"
   ]
  },
  {
   "cell_type": "markdown",
   "id": "218c7732-e3ab-4eba-84f2-50685c3ae4cf",
   "metadata": {},
   "source": [
    "**Step 4: Calculate the gradients**"
   ]
  },
  {
   "cell_type": "code",
   "execution_count": 237,
   "id": "99bbc237-e0fb-4a91-9fa5-91b739923728",
   "metadata": {},
   "outputs": [],
   "source": [
    "loss.backward()"
   ]
  },
  {
   "cell_type": "code",
   "execution_count": 238,
   "id": "218a3de9-7ca4-4aef-8502-59f36943cae7",
   "metadata": {},
   "outputs": [
    {
     "data": {
      "text/plain": [
       "tensor([-164.3499,  -10.5352,   -0.7926])"
      ]
     },
     "execution_count": 238,
     "metadata": {},
     "output_type": "execute_result"
    }
   ],
   "source": [
    "params.grad"
   ]
  },
  {
   "cell_type": "code",
   "execution_count": 239,
   "id": "a84a15e8-cb3c-4557-8d76-54e6a3aa1e80",
   "metadata": {},
   "outputs": [
    {
     "data": {
      "text/plain": [
       "tensor([-1.6435e-03, -1.0535e-04, -7.9262e-06])"
      ]
     },
     "execution_count": 239,
     "metadata": {},
     "output_type": "execute_result"
    }
   ],
   "source": [
    "params.grad * 1e-5"
   ]
  },
  {
   "cell_type": "markdown",
   "id": "6dc578ae-b404-49da-a33a-e7bb558c2321",
   "metadata": {},
   "source": [
    "We'll need to pick a learning rate (we'll discuss how to do that in practice in the next chapter; for now we'll just use 1e-5, or 0.00001):"
   ]
  },
  {
   "cell_type": "code",
   "execution_count": 240,
   "id": "10c69de1-1454-4edb-a1b1-bdb00868a167",
   "metadata": {},
   "outputs": [
    {
     "data": {
      "text/plain": [
       "tensor([-0.6300,  0.2694,  0.7482], requires_grad=True)"
      ]
     },
     "execution_count": 240,
     "metadata": {},
     "output_type": "execute_result"
    }
   ],
   "source": [
    "params"
   ]
  },
  {
   "cell_type": "markdown",
   "id": "a232f5b4-e180-470d-bff6-4dc914b11a7c",
   "metadata": {},
   "source": [
    "**Step 5: Step the weights**"
   ]
  },
  {
   "cell_type": "code",
   "execution_count": 241,
   "id": "7dace8c9-ec84-47b6-9213-d1ba93438fb4",
   "metadata": {},
   "outputs": [],
   "source": [
    "lr = 1e-5\n",
    "params.data -= lr * params.grad.data\n",
    "params.grad = None"
   ]
  },
  {
   "cell_type": "markdown",
   "id": "eb513a06-f336-4e45-9644-2d87d30f1439",
   "metadata": {},
   "source": [
    "> a: Understanding this bit depends on remembering recent history. To calculate the gradients we call backward on the loss. But this loss was itself calculated by mse, which in turn took preds as an input, which was calculated using f taking as an input params, which was the object on which we originally called required_grads_—which is the original call that now allows us to call backward on loss. This chain of function calls represents the mathematical composition of functions, which enables PyTorch to use calculus's chain rule under the hood to calculate these gradients."
   ]
  },
  {
   "cell_type": "markdown",
   "id": "64572f5c-df5c-4159-a8ba-7518eef8d7f4",
   "metadata": {},
   "source": [
    "> a: 이 비트를 이해하는 것은 최근 기록을 기억하느냐에 달려있다. gradient를 계산하는 것을 손실에서 backward로 부른다. 하지만 그 손실은 mse에 의해 스스로 계산되었고, 이를 입력으로 pred를 받아들였고, f를 입력 매개 변수로 사용해 계산되었는데 이게 손실에서 backward라 부른 것이자 원래 required_grads_라 부르는 것이었다. 이 함수의 연결성을 함수의 수학적 구성으로 부르고, 파이토치에서는 gradient를 계산하기 위해 미적분의 chain rule을 사용한다."
   ]
  },
  {
   "cell_type": "code",
   "execution_count": 242,
   "id": "bcaa98ae-4ae4-430d-8de5-29ff018a97dd",
   "metadata": {},
   "outputs": [
    {
     "data": {
      "text/plain": [
       "tensor(127.3647, grad_fn=<SqrtBackward0>)"
      ]
     },
     "execution_count": 242,
     "metadata": {},
     "output_type": "execute_result"
    }
   ],
   "source": [
    "preds = f(time,params)\n",
    "mse(preds,speed)"
   ]
  },
  {
   "cell_type": "code",
   "execution_count": 243,
   "id": "f542c00f-9af1-43b3-b498-b117e1c6e336",
   "metadata": {},
   "outputs": [
    {
     "data": {
      "image/png": "[encoded data removed]",
      "text/plain": [
       "<Figure size 432x288 with 1 Axes>"
      ]
     },
     "metadata": {
      "needs_background": "light"
     },
     "output_type": "display_data"
    }
   ],
   "source": [
    "show_preds(preds)"
   ]
  },
  {
   "cell_type": "markdown",
   "id": "e3827b08-51bc-4560-9b62-0d579dd061af",
   "metadata": {},
   "source": [
    "we'll create a function to apply one step:"
   ]
  },
  {
   "cell_type": "code",
   "execution_count": 244,
   "id": "82112ab1-ed64-4d42-87ef-5e73d40f466b",
   "metadata": {},
   "outputs": [],
   "source": [
    "def apply_step(params, prn=True):\n",
    "    preds = f(time, params)\n",
    "    loss = mse(preds, speed)\n",
    "    loss.backward()\n",
    "    params.data -= lr * params.grad.data\n",
    "    params.grad = None\n",
    "    if prn: print(loss.item())\n",
    "    return preds"
   ]
  },
  {
   "cell_type": "markdown",
   "id": "7a77a6e7-e184-4f25-bab5-c7ae4bd9f4a0",
   "metadata": {},
   "source": [
    "**Step 6: Repeat the process**"
   ]
  },
  {
   "cell_type": "code",
   "execution_count": 245,
   "id": "c3f37279-f462-4e61-8dd3-da659a965ce9",
   "metadata": {},
   "outputs": [
    {
     "name": "stdout",
     "output_type": "stream",
     "text": [
      "127.36465454101562\n",
      "127.09349060058594\n",
      "126.82237243652344\n",
      "126.55130004882812\n",
      "126.2802963256836\n",
      "126.00932312011719\n",
      "125.73841094970703\n",
      "125.46753692626953\n",
      "125.19672393798828\n",
      "124.92595672607422\n"
     ]
    }
   ],
   "source": [
    "for i in range(10): apply_step(params)"
   ]
  },
  {
   "cell_type": "code",
   "execution_count": 246,
   "id": "0866c95a-1916-47d1-82c3-2007d1d7703f",
   "metadata": {},
   "outputs": [],
   "source": [
    "params=orig_params.detach().requires_grad_()"
   ]
  },
  {
   "cell_type": "code",
   "execution_count": 247,
   "id": "047a37da-2405-4e73-810a-ab6c630552e2",
   "metadata": {},
   "outputs": [
    {
     "data": {
      "image/png": "[encoded data removed]",
      "text/plain": [
       "<Figure size 864x216 with 4 Axes>"
      ]
     },
     "metadata": {
      "needs_background": "light"
     },
     "output_type": "display_data"
    }
   ],
   "source": [
    "_,axs = plt.subplots(1,4,figsize=(12,3))\n",
    "for ax in axs: show_preds(apply_step(params, False), ax)\n",
    "plt.tight_layout()"
   ]
  },
  {
   "cell_type": "markdown",
   "id": "75ae3d25-8a0f-4020-86df-ba6fa6b18166",
   "metadata": {},
   "source": [
    "**Step 7: stop**"
   ]
  },
  {
   "cell_type": "markdown",
   "id": "1b0c95f0-7a7f-4805-a204-b6de8e414a9b",
   "metadata": {},
   "source": [
    "## Summarizing Gradient Descent"
   ]
  },
  {
   "cell_type": "code",
   "execution_count": 249,
   "id": "ea9d60c4-fb11-4d90-a493-aab9d58e4f95",
   "metadata": {},
   "outputs": [
    {
     "data": {
      "image/svg+xml": [
       "<?xml version=\"1.0\" encoding=\"UTF-8\" standalone=\"no\"?>\n",
       "<!DOCTYPE svg PUBLIC \"-//W3C//DTD SVG 1.1//EN\"\n",
       " \"http://www.w3.org/Graphics/SVG/1.1/DTD/svg11.dtd\">\n",
       "<!-- Generated by graphviz version 2.50.0 (20211209.0339)\n",
       " -->\n",
       "<!-- Title: G Pages: 1 -->\n",
       "<svg width=\"661pt\" height=\"78pt\"\n",
       " viewBox=\"0.00 0.00 660.87 78.00\" xmlns=\"http://www.w3.org/2000/svg\" xmlns:xlink=\"http://www.w3.org/1999/xlink\">\n",
       "<g id=\"graph0\" class=\"graph\" transform=\"scale(1 1) rotate(0) translate(4 74)\">\n",
       "<title>G</title>\n",
       "<polygon fill=\"white\" stroke=\"transparent\" points=\"-4,4 -4,-74 656.87,-74 656.87,4 -4,4\"/>\n",
       "<!-- init -->\n",
       "<g id=\"node1\" class=\"node\">\n",
       "<title>init</title>\n",
       "<ellipse fill=\"none\" stroke=\"black\" cx=\"27\" cy=\"-18\" rx=\"27\" ry=\"18\"/>\n",
       "<text text-anchor=\"middle\" x=\"27\" y=\"-14.3\" font-family=\"Times,serif\" font-size=\"14.00\">init</text>\n",
       "</g>\n",
       "<!-- predict -->\n",
       "<g id=\"node2\" class=\"node\">\n",
       "<title>predict</title>\n",
       "<ellipse fill=\"none\" stroke=\"black\" cx=\"135.2\" cy=\"-18\" rx=\"44.39\" ry=\"18\"/>\n",
       "<text text-anchor=\"middle\" x=\"135.2\" y=\"-14.3\" font-family=\"Times,serif\" font-size=\"14.00\">predict</text>\n",
       "</g>\n",
       "<!-- init&#45;&gt;predict -->\n",
       "<g id=\"edge1\" class=\"edge\">\n",
       "<title>init&#45;&gt;predict</title>\n",
       "<path fill=\"none\" stroke=\"black\" d=\"M54.25,-18C62.37,-18 71.63,-18 80.89,-18\"/>\n",
       "<polygon fill=\"black\" stroke=\"black\" points=\"80.89,-21.5 90.89,-18 80.89,-14.5 80.89,-21.5\"/>\n",
       "</g>\n",
       "<!-- loss -->\n",
       "<g id=\"node3\" class=\"node\">\n",
       "<title>loss</title>\n",
       "<ellipse fill=\"none\" stroke=\"black\" cx=\"244.99\" cy=\"-52\" rx=\"28.7\" ry=\"18\"/>\n",
       "<text text-anchor=\"middle\" x=\"244.99\" y=\"-48.3\" font-family=\"Times,serif\" font-size=\"14.00\">loss</text>\n",
       "</g>\n",
       "<!-- predict&#45;&gt;loss -->\n",
       "<g id=\"edge2\" class=\"edge\">\n",
       "<title>predict&#45;&gt;loss</title>\n",
       "<path fill=\"none\" stroke=\"black\" d=\"M170.6,-28.85C183.05,-32.78 197.09,-37.21 209.54,-41.14\"/>\n",
       "<polygon fill=\"black\" stroke=\"black\" points=\"208.53,-44.49 219.12,-44.16 210.64,-37.81 208.53,-44.49\"/>\n",
       "</g>\n",
       "<!-- gradient -->\n",
       "<g id=\"node4\" class=\"node\">\n",
       "<title>gradient</title>\n",
       "<ellipse fill=\"none\" stroke=\"black\" cx=\"406.63\" cy=\"-52\" rx=\"50.09\" ry=\"18\"/>\n",
       "<text text-anchor=\"middle\" x=\"406.63\" y=\"-48.3\" font-family=\"Times,serif\" font-size=\"14.00\">gradient</text>\n",
       "</g>\n",
       "<!-- loss&#45;&gt;gradient -->\n",
       "<g id=\"edge3\" class=\"edge\">\n",
       "<title>loss&#45;&gt;gradient</title>\n",
       "<path fill=\"none\" stroke=\"black\" d=\"M273.8,-52C293.82,-52 321.57,-52 346.45,-52\"/>\n",
       "<polygon fill=\"black\" stroke=\"black\" points=\"346.55,-55.5 356.55,-52 346.55,-48.5 346.55,-55.5\"/>\n",
       "</g>\n",
       "<!-- step -->\n",
       "<g id=\"node5\" class=\"node\">\n",
       "<title>step</title>\n",
       "<ellipse fill=\"none\" stroke=\"black\" cx=\"524.23\" cy=\"-18\" rx=\"30.59\" ry=\"18\"/>\n",
       "<text text-anchor=\"middle\" x=\"524.23\" y=\"-14.3\" font-family=\"Times,serif\" font-size=\"14.00\">step</text>\n",
       "</g>\n",
       "<!-- gradient&#45;&gt;step -->\n",
       "<g id=\"edge4\" class=\"edge\">\n",
       "<title>gradient&#45;&gt;step</title>\n",
       "<path fill=\"none\" stroke=\"black\" d=\"M445.8,-40.77C459.01,-36.89 473.76,-32.55 486.82,-28.71\"/>\n",
       "<polygon fill=\"black\" stroke=\"black\" points=\"487.82,-32.06 496.43,-25.88 485.85,-25.35 487.82,-32.06\"/>\n",
       "</g>\n",
       "<!-- step&#45;&gt;predict -->\n",
       "<g id=\"edge6\" class=\"edge\">\n",
       "<title>step&#45;&gt;predict</title>\n",
       "<path fill=\"none\" stroke=\"black\" d=\"M493.68,-18C428.65,-18 272.39,-18 189.67,-18\"/>\n",
       "<polygon fill=\"black\" stroke=\"black\" points=\"189.47,-14.5 179.47,-18 189.47,-21.5 189.47,-14.5\"/>\n",
       "<text text-anchor=\"middle\" x=\"315.09\" y=\"-21.8\" font-family=\"Times,serif\" font-size=\"14.00\">repeat</text>\n",
       "</g>\n",
       "<!-- stop -->\n",
       "<g id=\"node6\" class=\"node\">\n",
       "<title>stop</title>\n",
       "<ellipse fill=\"none\" stroke=\"black\" cx=\"622.32\" cy=\"-18\" rx=\"30.59\" ry=\"18\"/>\n",
       "<text text-anchor=\"middle\" x=\"622.32\" y=\"-14.3\" font-family=\"Times,serif\" font-size=\"14.00\">stop</text>\n",
       "</g>\n",
       "<!-- step&#45;&gt;stop -->\n",
       "<g id=\"edge5\" class=\"edge\">\n",
       "<title>step&#45;&gt;stop</title>\n",
       "<path fill=\"none\" stroke=\"black\" d=\"M554.84,-18C563.24,-18 572.53,-18 581.44,-18\"/>\n",
       "<polygon fill=\"black\" stroke=\"black\" points=\"581.64,-21.5 591.64,-18 581.64,-14.5 581.64,-21.5\"/>\n",
       "</g>\n",
       "</g>\n",
       "</svg>\n"
      ],
      "text/plain": [
       "<graphviz.sources.Source at 0x7f7ed23baaf0>"
      ]
     },
     "execution_count": 249,
     "metadata": {},
     "output_type": "execute_result"
    }
   ],
   "source": [
    "#hide_input\n",
    "#id gradient_descent\n",
    "#caption The gradient descent process\n",
    "#alt Graph showing the steps for Gradient Descent\n",
    "gv('''\n",
    "init->predict->loss->gradient->step->stop\n",
    "step->predict[label=repeat]\n",
    "''')"
   ]
  },
  {
   "cell_type": "markdown",
   "id": "df14dcf9-3153-4e10-a885-1d32bd494d17",
   "metadata": {},
   "source": [
    "## The MNIST Loss Function"
   ]
  },
  {
   "cell_type": "code",
   "execution_count": 274,
   "id": "66c4dc36-ac43-4778-9bdb-5696ea1e9278",
   "metadata": {},
   "outputs": [],
   "source": [
    "train_x = torch.cat([stacked_threes, stacked_sevens]).view(-1, 28*28)"
   ]
  },
  {
   "cell_type": "markdown",
   "id": "685ebb54-3882-4f4d-935e-098d5fa3d0d0",
   "metadata": {},
   "source": [
    "We'll use 1 for 3s and 0 for 7s:"
   ]
  },
  {
   "cell_type": "code",
   "execution_count": 275,
   "id": "da28cc35-fc78-46c3-9a77-61530dcc22fb",
   "metadata": {},
   "outputs": [
    {
     "data": {
      "text/plain": [
       "(torch.Size([12396, 784]), torch.Size([12396, 1]))"
      ]
     },
     "execution_count": 275,
     "metadata": {},
     "output_type": "execute_result"
    }
   ],
   "source": [
    "train_y = tensor([1]*len(threes) + [0]*len(sevens)).unsqueeze(1)\n",
    "train_x.shape,train_y.shape"
   ]
  },
  {
   "cell_type": "code",
   "execution_count": 276,
   "id": "e86638b8-38d8-4266-bc0f-a2904ae3f091",
   "metadata": {},
   "outputs": [
    {
     "data": {
      "text/plain": [
       "(torch.Size([784]), tensor([1]))"
      ]
     },
     "execution_count": 276,
     "metadata": {},
     "output_type": "execute_result"
    }
   ],
   "source": [
    "dset = list(zip(train_x,train_y))\n",
    "x,y = dset[0]\n",
    "x.shape,y"
   ]
  },
  {
   "cell_type": "code",
   "execution_count": 277,
   "id": "45d4c5d0-d23d-4283-a149-287da6b43213",
   "metadata": {},
   "outputs": [],
   "source": [
    "valid_x = torch.cat([valid_3_tens, valid_7_tens]).view(-1, 28*28)\n",
    "valid_y = tensor([1]*len(valid_3_tens) + [0]*len(valid_7_tens)).unsqueeze(1)\n",
    "valid_dset = list(zip(valid_x,valid_y))"
   ]
  },
  {
   "cell_type": "markdown",
   "id": "397c2da8-abda-44bf-ac57-12a63f6648c2",
   "metadata": {},
   "source": [
    "Now we need an (initially random) weight for every pixel "
   ]
  },
  {
   "cell_type": "code",
   "execution_count": 278,
   "id": "c5b4f17c-0cac-4b22-84fc-6bcd3962d70b",
   "metadata": {},
   "outputs": [],
   "source": [
    "def init_params(size,std=1.0): return(torch.randn(size)*std).requires_grad_()"
   ]
  },
  {
   "cell_type": "code",
   "execution_count": 284,
   "id": "7e9e7177-7065-4e53-b649-825b2f556b21",
   "metadata": {},
   "outputs": [],
   "source": [
    "weights = init_params((28*28,1))"
   ]
  },
  {
   "cell_type": "markdown",
   "id": "a8cdb3d9-bcc6-4200-8e1c-1fa709703648",
   "metadata": {},
   "source": [
    "The function `weights*pixels` won't be flexible enough—it is always equal to 0 when the pixels are equal to 0 (i.e., its intercept is 0). \n",
    "\n",
    "You might remember from high school math that the formula for a line is `y=w*x+b`; we still need the `b`. We'll initialize it to a random number too:"
   ]
  },
  {
   "cell_type": "code",
   "execution_count": 285,
   "id": "81461065-26de-43db-986c-a4e673c3a313",
   "metadata": {},
   "outputs": [],
   "source": [
    "bias=init_params(1)"
   ]
  },
  {
   "cell_type": "markdown",
   "id": "8d9a9840-3d04-4d2f-aaac-adcdcb4f985d",
   "metadata": {},
   "source": [
    "이미지 한 개 예측 계산해보기"
   ]
  },
  {
   "cell_type": "code",
   "execution_count": 286,
   "id": "1a6b67cd-4442-4e4d-99de-1bac106e2157",
   "metadata": {},
   "outputs": [
    {
     "data": {
      "text/plain": [
       "tensor([-7.7136], grad_fn=<AddBackward0>)"
      ]
     },
     "execution_count": 286,
     "metadata": {},
     "output_type": "execute_result"
    }
   ],
   "source": [
    "(train_x[0]*weights.T).sum() + bias"
   ]
  },
  {
   "cell_type": "markdown",
   "id": "69646ec1-72d1-4b08-b468-de491b8589ad",
   "metadata": {},
   "source": [
    "In Python, matrix multiplication is represented with the @ operator. Let's try it:"
   ]
  },
  {
   "cell_type": "code",
   "execution_count": 287,
   "id": "a4905240-7bb5-49e0-8cf2-a6b10b0a776d",
   "metadata": {},
   "outputs": [
    {
     "data": {
      "text/plain": [
       "tensor([[ -7.7136],\n",
       "        [-14.9169],\n",
       "        [ -6.2609],\n",
       "        ...,\n",
       "        [ -4.8340],\n",
       "        [ -0.3482],\n",
       "        [  6.8171]], grad_fn=<AddBackward0>)"
      ]
     },
     "execution_count": 287,
     "metadata": {},
     "output_type": "execute_result"
    }
   ],
   "source": [
    "def linear1(xb): return xb@weights + bias\n",
    "preds = linear1(train_x)\n",
    "preds"
   ]
  },
  {
   "cell_type": "code",
   "execution_count": 288,
   "id": "f58f5d51-f919-440d-a607-5288943447e9",
   "metadata": {},
   "outputs": [
    {
     "data": {
      "text/plain": [
       "tensor([[False],\n",
       "        [False],\n",
       "        [False],\n",
       "        ...,\n",
       "        [ True],\n",
       "        [ True],\n",
       "        [False]])"
      ]
     },
     "execution_count": 288,
     "metadata": {},
     "output_type": "execute_result"
    }
   ],
   "source": [
    "corrects = (preds>0.5).float() == train_y\n",
    "corrects"
   ]
  },
  {
   "cell_type": "code",
   "execution_count": 289,
   "id": "c8ee93c8-fc35-45d8-99d9-9f0a433f69aa",
   "metadata": {},
   "outputs": [
    {
     "data": {
      "text/plain": [
       "0.2702484726905823"
      ]
     },
     "execution_count": 289,
     "metadata": {},
     "output_type": "execute_result"
    }
   ],
   "source": [
    "corrects.float().mean().item()"
   ]
  },
  {
   "cell_type": "code",
   "execution_count": 294,
   "id": "90e5958a-f62a-49c6-81bf-560025d2df5a",
   "metadata": {},
   "outputs": [
    {
     "data": {
      "text/plain": [
       "0.25701838731765747"
      ]
     },
     "execution_count": 294,
     "metadata": {},
     "output_type": "execute_result"
    }
   ],
   "source": [
    "preds = linear1(train_x)\n",
    "((preds>0.0).float() == train_y).float().mean().item()"
   ]
  },
  {
   "cell_type": "markdown",
   "id": "f01d38ef-d6f6-4fba-aa51-6bddbeaefc0c",
   "metadata": {},
   "source": [
    "The purpose of the loss function is to measure the difference between predicted values and the true values — that is, the targets (aka labels). Let's make another argument, trgts, with values of 0 or 1 which tells whether an image actually is a 3 or not. It is also a vector (i.e., another rank-1 tensor), indexed over the images."
   ]
  },
  {
   "cell_type": "markdown",
   "id": "7524776b-5d2f-463a-8206-090b09510d83",
   "metadata": {},
   "source": [
    "This would mean our loss function would receive these values as its inputs:"
   ]
  },
  {
   "cell_type": "code",
   "execution_count": 295,
   "id": "ae6288ab-daf3-4ad8-b824-6d888ec129aa",
   "metadata": {},
   "outputs": [],
   "source": [
    "trgts  = tensor([1,0,1])\n",
    "prds   = tensor([0.9, 0.4, 0.2])"
   ]
  },
  {
   "cell_type": "code",
   "execution_count": 296,
   "id": "ba094ef1-ae54-440c-b7d2-4262215d0d6b",
   "metadata": {},
   "outputs": [],
   "source": [
    "def mnist_loss(predictions, targets):\n",
    "    return torch.where(targets==1, 1-predictions, predictions).mean()"
   ]
  },
  {
   "cell_type": "markdown",
   "id": "d690a517-b376-4f90-a3b9-2c256a11dddf",
   "metadata": {},
   "source": [
    "`torch.where(a,b,c)` is the same as running the list comprehension [b[i] if a[i] else c[i] for i in range(len(a))], except it works on tensors, at C/CUDA speed. "
   ]
  },
  {
   "cell_type": "code",
   "execution_count": 297,
   "id": "2875df66-884e-4206-b40c-1eb6d4015141",
   "metadata": {},
   "outputs": [
    {
     "data": {
      "text/plain": [
       "tensor([0.1000, 0.4000, 0.8000])"
      ]
     },
     "execution_count": 297,
     "metadata": {},
     "output_type": "execute_result"
    }
   ],
   "source": [
    "torch.where(trgts==1, 1-prds, prds)"
   ]
  },
  {
   "cell_type": "code",
   "execution_count": 298,
   "id": "60da17fc-36ea-492e-b138-dad6d85f65fd",
   "metadata": {},
   "outputs": [
    {
     "data": {
      "text/plain": [
       "tensor(0.4333)"
      ]
     },
     "execution_count": 298,
     "metadata": {},
     "output_type": "execute_result"
    }
   ],
   "source": [
    "mnist_loss(prds,trgts)"
   ]
  },
  {
   "cell_type": "code",
   "execution_count": 299,
   "id": "a7ce14bc-ea9b-47c7-a5c7-c7a4d6ae1139",
   "metadata": {},
   "outputs": [
    {
     "data": {
      "text/plain": [
       "tensor(0.2333)"
      ]
     },
     "execution_count": 299,
     "metadata": {},
     "output_type": "execute_result"
    }
   ],
   "source": [
    "mnist_loss(tensor([0.9, 0.4, 0.8]),trgts)"
   ]
  },
  {
   "cell_type": "markdown",
   "id": "9242df22-4edc-45c2-856c-0c178f73666d",
   "metadata": {},
   "source": [
    "## Sigmoid"
   ]
  },
  {
   "cell_type": "markdown",
   "id": "870ed1d1-c683-4d5f-ac00-b728ea3d64b4",
   "metadata": {},
   "source": [
    "One problem with mnist_loss as currently defined is that it assumes that predictions are always between 0 and 1. We need to ensure, then, that this is actually the case! As it happens, there is a function that does exactly that—let's take a look."
   ]
  },
  {
   "cell_type": "code",
   "execution_count": 301,
   "id": "40f3865c-4d2d-442e-9cab-d50cebfe278c",
   "metadata": {},
   "outputs": [],
   "source": [
    "def sigmoid(x): return 1/(1+torch.exp(-x))"
   ]
  },
  {
   "cell_type": "markdown",
   "id": "62689272-1c32-4e77-b2f7-ea28a4226241",
   "metadata": {},
   "source": [
    "Pytorch defines an accelerated version for us, so we don’t really need our own. This is an important function in deep learning, since we often want to ensure values are between 0 and 1. This is what it looks like:"
   ]
  },
  {
   "cell_type": "code",
   "execution_count": 302,
   "id": "93003845-56ab-4950-98a8-dc1ba4f79fda",
   "metadata": {},
   "outputs": [
    {
     "data": {
      "image/png": "[encoded data removed]",
      "text/plain": [
       "<Figure size 432x288 with 1 Axes>"
      ]
     },
     "metadata": {
      "needs_background": "light"
     },
     "output_type": "display_data"
    }
   ],
   "source": [
    "plot_function(torch.sigmoid, title='Sigmoid', min=-4, max=4)"
   ]
  },
  {
   "cell_type": "markdown",
   "id": "87e6ccf8-7def-43a6-9b2a-029f0bfe1e6c",
   "metadata": {},
   "source": [
    "As you can see, **it takes any input value, positive or negative**, and smooshes it onto an output value between 0 and 1. It's also a smooth curve that only goes up, which makes it easier for SGD to find meaningful gradients."
   ]
  },
  {
   "cell_type": "code",
   "execution_count": 303,
   "id": "83abcfe7-2004-4148-b771-e037b46cf3fd",
   "metadata": {},
   "outputs": [],
   "source": [
    "def mnist_loss(predictions, targets):\n",
    "    predictions = predictions.sigmoid()\n",
    "    return torch.where(targets==1, 1-predictions, predictions).mean()"
   ]
  },
  {
   "cell_type": "markdown",
   "id": "d799553f-c2c9-4421-9597-92c92c26fb6d",
   "metadata": {},
   "source": [
    "## SGD and Mini-Batches"
   ]
  },
  {
   "cell_type": "markdown",
   "id": "f148053c-8279-4d09-9a92-7694a61860d1",
   "metadata": {},
   "source": [
    "Now that we have a loss function that is suitable for driving SGD, we can consider some of the details involved in the next phase of the learning process, which is to change or update the weights based on the gradients. This is called an optimization step.\n",
    "- gradient에 따라 가중치를 변경하거나 업데이트하는 단계를 최적화 단계라고 한다."
   ]
  },
  {
   "cell_type": "markdown",
   "id": "3b6e2f2a-8d88-4a4d-b618-02b08390dd5e",
   "metadata": {},
   "source": [
    "*A larger batch size means that you will get a more accurate and stable estimate of your dataset's gradients from the loss function, but it will take longer, and you will process fewer mini-batches per epoch.*"
   ]
  },
  {
   "cell_type": "markdown",
   "id": "98158a47-d4ec-49df-bfde-3fd8a453fbd9",
   "metadata": {},
   "source": [
    "**Choosing a good batch size is one of the decisions you need to make as a deep learning practitioner to train your model quickly and accurately. We will talk about how to make this choice throughout this book.**"
   ]
  },
  {
   "cell_type": "markdown",
   "id": "b33ec9a0-f0da-4408-b013-243e7f78a9d6",
   "metadata": {},
   "source": [
    "Another good reason for using mini-batches rather than calculating the gradient on individual data items is that, in practice, we nearly always do our training on an accelerator such as a GPU. "
   ]
  },
  {
   "cell_type": "markdown",
   "id": "3457285a-c926-4610-8173-a1159a94b6a8",
   "metadata": {},
   "source": [
    "One simple and effective thing we can vary is what data items we put in each mini-batch. Rather than simply enumerating our dataset in order for every epoch, instead what we normally do is randomly shuffle it on every epoch, before we create mini-batches. **PyTorch and fastai provide a class that will do the shuffling and mini-batch collation for you, called DataLoader**.\n",
    "- 미니 배치를 만들기 전에 epoc을 순서대로가 아닌 임의로 섞는 것이 일반적이다. 파이토치와 패스트에이아이는 임의로 섞고, 미니배치 수집할 DataLoader라고 불리는 클래스가 있다."
   ]
  },
  {
   "cell_type": "markdown",
   "id": "d323c5a0-547c-4e56-8909-305b0942677a",
   "metadata": {},
   "source": [
    "A DataLoader can take any Python collection and turn it into an iterator over many batches, like so:"
   ]
  },
  {
   "cell_type": "code",
   "execution_count": 304,
   "id": "ff07b8af-ffb5-4ceb-8ee0-2fcf63ee87c7",
   "metadata": {},
   "outputs": [
    {
     "data": {
      "text/plain": [
       "[tensor([ 3, 12,  8, 10,  2]),\n",
       " tensor([ 9,  4,  7, 14,  5]),\n",
       " tensor([ 1, 13,  0,  6, 11])]"
      ]
     },
     "execution_count": 304,
     "metadata": {},
     "output_type": "execute_result"
    }
   ],
   "source": [
    "coll = range(15)\n",
    "dl = DataLoader(coll, batch_size=5, shuffle=True)\n",
    "list(dl)"
   ]
  },
  {
   "cell_type": "markdown",
   "id": "6cf3285c-01e5-423d-b541-8352228bfb9d",
   "metadata": {},
   "source": [
    "A collection that contains tuples of independent and dependent variables is known in PyTorch as a Dataset. "
   ]
  },
  {
   "cell_type": "markdown",
   "id": "8602c0e5-03a8-48b0-93f1-bbd63b9d71fc",
   "metadata": {},
   "source": [
    "Here's an example of an extremely simple Dataset:"
   ]
  },
  {
   "cell_type": "code",
   "execution_count": 305,
   "id": "b6e86ae0-fc16-46e2-87f7-e1c7c08ced0c",
   "metadata": {},
   "outputs": [
    {
     "data": {
      "text/plain": [
       "(#26) [(0, 'a'),(1, 'b'),(2, 'c'),(3, 'd'),(4, 'e'),(5, 'f'),(6, 'g'),(7, 'h'),(8, 'i'),(9, 'j')...]"
      ]
     },
     "execution_count": 305,
     "metadata": {},
     "output_type": "execute_result"
    }
   ],
   "source": [
    "ds = L(enumerate(string.ascii_lowercase))\n",
    "ds"
   ]
  },
  {
   "cell_type": "markdown",
   "id": "713d712e-0199-4460-9d5d-e01292a0e9b6",
   "metadata": {},
   "source": [
    "When we pass a Dataset to a DataLoader we will get back many batches which are themselves tuples of tensors representing batches of independent and dependent variables:\n",
    "- Dataset을 DataLoader에 전달하면 독립변수, 종속변수의 배치를 나타내는 텐서의 튜플인 많은 배치를 다시 얻을 것이다."
   ]
  },
  {
   "cell_type": "code",
   "execution_count": 306,
   "id": "c4daf806-0861-4544-89d8-047f362998b7",
   "metadata": {},
   "outputs": [
    {
     "data": {
      "text/plain": [
       "[(tensor([17, 18, 10, 22,  8, 14]), ('r', 's', 'k', 'w', 'i', 'o')),\n",
       " (tensor([20, 15,  9, 13, 21, 12]), ('u', 'p', 'j', 'n', 'v', 'm')),\n",
       " (tensor([ 7, 25,  6,  5, 11, 23]), ('h', 'z', 'g', 'f', 'l', 'x')),\n",
       " (tensor([ 1,  3,  0, 24, 19, 16]), ('b', 'd', 'a', 'y', 't', 'q')),\n",
       " (tensor([2, 4]), ('c', 'e'))]"
      ]
     },
     "execution_count": 306,
     "metadata": {},
     "output_type": "execute_result"
    }
   ],
   "source": [
    "dl = DataLoader(ds, batch_size=6, shuffle=True)\n",
    "list(dl)"
   ]
  },
  {
   "cell_type": "markdown",
   "id": "e87e2508-c2d3-452f-80a1-d455f107b92c",
   "metadata": {},
   "source": [
    "## Putting It All Together"
   ]
  },
  {
   "cell_type": "code",
   "execution_count": 307,
   "id": "efb56bfa-48d4-4b79-a3f7-499d6fe8f620",
   "metadata": {},
   "outputs": [],
   "source": [
    "weights = init_params((28*28,1))\n",
    "bias = init_params(1)"
   ]
  },
  {
   "cell_type": "code",
   "execution_count": 308,
   "id": "7418424c-9c6a-44bb-bdab-179d362aa13f",
   "metadata": {},
   "outputs": [
    {
     "data": {
      "text/plain": [
       "(torch.Size([256, 784]), torch.Size([256, 1]))"
      ]
     },
     "execution_count": 308,
     "metadata": {},
     "output_type": "execute_result"
    }
   ],
   "source": [
    "dl = DataLoader(dset, batch_size=256)\n",
    "xb,yb = first(dl)\n",
    "xb.shape,yb.shape"
   ]
  },
  {
   "cell_type": "code",
   "execution_count": 310,
   "id": "1ef256b0-1e71-42ef-9c23-0a7db42a0821",
   "metadata": {},
   "outputs": [],
   "source": [
    "valid_dl = DataLoader(valid_dset, batch_size=256)"
   ]
  },
  {
   "cell_type": "code",
   "execution_count": 311,
   "id": "ca7b8338-b374-4575-9684-bcfa832edc5c",
   "metadata": {},
   "outputs": [
    {
     "data": {
      "text/plain": [
       "torch.Size([4, 784])"
      ]
     },
     "execution_count": 311,
     "metadata": {},
     "output_type": "execute_result"
    }
   ],
   "source": [
    "batch = train_x[:4]\n",
    "batch.shape"
   ]
  },
  {
   "cell_type": "code",
   "execution_count": 312,
   "id": "c06bad22-72ec-428e-be23-11621798ab3e",
   "metadata": {},
   "outputs": [
    {
     "data": {
      "text/plain": [
       "tensor([[14.9930],\n",
       "        [10.0441],\n",
       "        [ 4.8257],\n",
       "        [ 9.4000]], grad_fn=<AddBackward0>)"
      ]
     },
     "execution_count": 312,
     "metadata": {},
     "output_type": "execute_result"
    }
   ],
   "source": [
    "preds = linear1(batch)\n",
    "preds"
   ]
  },
  {
   "cell_type": "code",
   "execution_count": 313,
   "id": "999d0ca5-8764-4273-851f-a6627df11b66",
   "metadata": {},
   "outputs": [
    {
     "data": {
      "text/plain": [
       "tensor(0.0020, grad_fn=<MeanBackward0>)"
      ]
     },
     "execution_count": 313,
     "metadata": {},
     "output_type": "execute_result"
    }
   ],
   "source": [
    "loss = mnist_loss(preds, train_y[:4])\n",
    "loss"
   ]
  },
  {
   "cell_type": "code",
   "execution_count": 314,
   "id": "d58a4269-e0e8-49ef-8c40-a614903f1ff0",
   "metadata": {},
   "outputs": [
    {
     "data": {
      "text/plain": [
       "(torch.Size([784, 1]), tensor(-0.0003), tensor([-0.0020]))"
      ]
     },
     "execution_count": 314,
     "metadata": {},
     "output_type": "execute_result"
    }
   ],
   "source": [
    "loss.backward()\n",
    "weights.grad.shape,weights.grad.mean(),bias.grad"
   ]
  },
  {
   "cell_type": "code",
   "execution_count": 315,
   "id": "602dfac7-14f1-4aa3-b0eb-04e6c6d89013",
   "metadata": {},
   "outputs": [],
   "source": [
    "def calc_grad(xb, yb, model):\n",
    "    preds = model(xb)\n",
    "    loss = mnist_loss(preds, yb)\n",
    "    loss.backward()"
   ]
  },
  {
   "cell_type": "code",
   "execution_count": 316,
   "id": "0a348669-398e-4f7b-900c-d5e0f925c63b",
   "metadata": {},
   "outputs": [
    {
     "data": {
      "text/plain": [
       "(tensor(-0.0006), tensor([-0.0040]))"
      ]
     },
     "execution_count": 316,
     "metadata": {},
     "output_type": "execute_result"
    }
   ],
   "source": [
    "calc_grad(batch, train_y[:4], linear1)\n",
    "weights.grad.mean(),bias.grad"
   ]
  },
  {
   "cell_type": "code",
   "execution_count": 317,
   "id": "5269ce96-190b-4969-8803-173a60718f44",
   "metadata": {},
   "outputs": [
    {
     "data": {
      "text/plain": [
       "(tensor(-0.0009), tensor([-0.0060]))"
      ]
     },
     "execution_count": 317,
     "metadata": {},
     "output_type": "execute_result"
    }
   ],
   "source": [
    "calc_grad(batch, train_y[:4], linear1)\n",
    "weights.grad.mean(),bias.grad"
   ]
  },
  {
   "cell_type": "markdown",
   "id": "cade0cdd-caec-4cda-9921-67c60c3517a0",
   "metadata": {},
   "source": [
    "The gradients have changed! *The reason for this is that loss.backward actually adds the gradients of loss to any gradients that are currently stored*. So, we have to set the current gradients to 0 first:"
   ]
  },
  {
   "cell_type": "code",
   "execution_count": 318,
   "id": "e701fb70-cf4f-4a82-b6af-d72dfb9e08df",
   "metadata": {},
   "outputs": [],
   "source": [
    "weights.grad.zero_()\n",
    "bias.grad.zero_();"
   ]
  },
  {
   "cell_type": "code",
   "execution_count": 319,
   "id": "78c87847-251e-42fe-81f2-d4fbe025710b",
   "metadata": {},
   "outputs": [],
   "source": [
    "def train_epoch(model, lr, params):\n",
    "    for xb,yb in dl:\n",
    "        calc_grad(xb, yb, model)\n",
    "        for p in params:\n",
    "            p.data -= p.grad*lr\n",
    "            p.grad.zero_()"
   ]
  },
  {
   "cell_type": "markdown",
   "id": "85b6ec6b-2c1d-40a2-909e-38c439b4a927",
   "metadata": {},
   "source": [
    "To decide if an output represents a 3 or a 7, we can just check whether it's greater than 0. So our accuracy for each item can be calculated (using broadcasting, so no loops!) with:"
   ]
  },
  {
   "cell_type": "code",
   "execution_count": 320,
   "id": "579f73a3-fe03-4afa-a845-9159b42bbfb2",
   "metadata": {},
   "outputs": [
    {
     "data": {
      "text/plain": [
       "tensor([[True],\n",
       "        [True],\n",
       "        [True],\n",
       "        [True]])"
      ]
     },
     "execution_count": 320,
     "metadata": {},
     "output_type": "execute_result"
    }
   ],
   "source": [
    "(preds>0.0).float() == train_y[:4]"
   ]
  },
  {
   "cell_type": "code",
   "execution_count": 321,
   "id": "69a9d90e-77c2-44e4-ae65-22a5710bc438",
   "metadata": {},
   "outputs": [],
   "source": [
    "def batch_accuracy(xb, yb):\n",
    "    preds = xb.sigmoid()\n",
    "    correct = (preds>0.5) == yb\n",
    "    return correct.float().mean()"
   ]
  },
  {
   "cell_type": "code",
   "execution_count": 323,
   "id": "1466fa40-7e5f-4e3f-9952-f323b61e4012",
   "metadata": {},
   "outputs": [
    {
     "data": {
      "text/plain": [
       "tensor(1.)"
      ]
     },
     "execution_count": 323,
     "metadata": {},
     "output_type": "execute_result"
    }
   ],
   "source": [
    "batch_accuracy(linear1(batch), train_y[:4])"
   ]
  },
  {
   "cell_type": "code",
   "execution_count": 324,
   "id": "da7319e1-60da-441c-a00e-5976d75c4e78",
   "metadata": {},
   "outputs": [],
   "source": [
    "def validate_epoch(model):\n",
    "    accs = [batch_accuracy(model(xb), yb) for xb,yb in valid_dl]\n",
    "    return round(torch.stack(accs).mean().item(), 4)"
   ]
  },
  {
   "cell_type": "code",
   "execution_count": 325,
   "id": "0abfec78-d0a2-4d47-9d7d-9b1c5e0f5a71",
   "metadata": {},
   "outputs": [
    {
     "data": {
      "text/plain": [
       "0.6301"
      ]
     },
     "execution_count": 325,
     "metadata": {},
     "output_type": "execute_result"
    }
   ],
   "source": [
    "validate_epoch(linear1)"
   ]
  },
  {
   "cell_type": "code",
   "execution_count": 326,
   "id": "03f76cec-b94c-413c-b8d8-c675eb61bf40",
   "metadata": {},
   "outputs": [
    {
     "data": {
      "text/plain": [
       "0.6938"
      ]
     },
     "execution_count": 326,
     "metadata": {},
     "output_type": "execute_result"
    }
   ],
   "source": [
    "lr = 1.\n",
    "params = weights,bias\n",
    "train_epoch(linear1, lr, params)\n",
    "validate_epoch(linear1)"
   ]
  },
  {
   "cell_type": "code",
   "execution_count": 327,
   "id": "c1f853a0-0ff6-4088-bf2f-c615b830af58",
   "metadata": {},
   "outputs": [
    {
     "name": "stdout",
     "output_type": "stream",
     "text": [
      "0.8857 0.9321 0.9433 0.9482 0.9516 0.9545 0.9565 0.9584 0.9614 0.9623 0.9628 0.9643 0.9658 0.9658 0.9662 0.9662 0.9662 0.9672 0.9672 0.9672 "
     ]
    }
   ],
   "source": [
    "for i in range(20):\n",
    "    train_epoch(linear1, lr, params)\n",
    "    print(validate_epoch(linear1), end=' ')"
   ]
  },
  {
   "cell_type": "markdown",
   "id": "ec5949ab-7917-4bac-bc91-a632c2e26b08",
   "metadata": {},
   "source": [
    "We're already about at the same accuracy as our \"pixel similarity\" approach, and we've created a general-purpose foundation we can build on. Our next step will be to create an object that will handle the SGD step for us. In PyTorch, it's called an optimizer.\n",
    "- 파이토치에서 최적화 도구라 불리는 SGD 단계를 처리할 객체를 만들 것이다."
   ]
  },
  {
   "cell_type": "markdown",
   "id": "96af79b6-6a49-4a08-8aa9-ce4360e7bab3",
   "metadata": {},
   "source": [
    "## Creating an Optimizer"
   ]
  },
  {
   "cell_type": "markdown",
   "id": "eead5788-aba8-426e-a2f1-ce4ae067534c",
   "metadata": {},
   "source": [
    "The first thing we can do is replace our linear1 function with PyTorch's `nn.Linear` module. \n",
    "\n",
    "A module is an object of a class that inherits from the PyTorch `nn.Module` class. \n",
    "\n",
    "`nn.Linear` does the same thing as our `init_params` and `linear` together. It contains both the weights and biases in a single class. Here's how we replicate our model from the previous section:"
   ]
  },
  {
   "cell_type": "code",
   "execution_count": 329,
   "id": "79384dbb-1265-4302-9943-916b40da232e",
   "metadata": {},
   "outputs": [],
   "source": [
    "linear_model = nn.Linear(28*28,1)"
   ]
  },
  {
   "cell_type": "code",
   "execution_count": 330,
   "id": "9664c1ba-58a0-41a1-b750-d5f4c297ef7c",
   "metadata": {},
   "outputs": [
    {
     "data": {
      "text/plain": [
       "(torch.Size([1, 784]), torch.Size([1]))"
      ]
     },
     "execution_count": 330,
     "metadata": {},
     "output_type": "execute_result"
    }
   ],
   "source": [
    "w,b = linear_model.parameters()\n",
    "w.shape,b.shape"
   ]
  },
  {
   "cell_type": "markdown",
   "id": "7d640faa-243a-463c-addd-8e9285576673",
   "metadata": {},
   "source": [
    "We can use this information to create an optimizer:"
   ]
  },
  {
   "cell_type": "code",
   "execution_count": 331,
   "id": "c27608cd-5898-42ed-9fce-023f8821e96d",
   "metadata": {},
   "outputs": [],
   "source": [
    "class BasicOptim:\n",
    "    def __init__(self,params,lr): self.params,self.lr = list(params),lr\n",
    "\n",
    "    def step(self, *args, **kwargs):\n",
    "        for p in self.params: p.data -= p.grad.data * self.lr\n",
    "\n",
    "    def zero_grad(self, *args, **kwargs):\n",
    "        for p in self.params: p.grad = None"
   ]
  },
  {
   "cell_type": "markdown",
   "id": "4fd85235-259a-4a00-835f-aba9e25dd6de",
   "metadata": {},
   "source": [
    "We can create our optimizer by passing in the model's parameters:"
   ]
  },
  {
   "cell_type": "code",
   "execution_count": 333,
   "id": "581f6eeb-3ef0-48f6-b99b-8e277b2cdc16",
   "metadata": {},
   "outputs": [],
   "source": [
    "opt = BasicOptim(linear_model.parameters(), lr)"
   ]
  },
  {
   "cell_type": "markdown",
   "id": "c1e0ef45-a7f9-4a80-ad7a-aa292a9b3734",
   "metadata": {},
   "source": [
    "Our training loop can now be simplified to:"
   ]
  },
  {
   "cell_type": "code",
   "execution_count": 334,
   "id": "aec8f3c3-beca-4c6a-a19a-6d4efa298305",
   "metadata": {},
   "outputs": [],
   "source": [
    "def train_epoch(model):\n",
    "    for xb,yb in dl:\n",
    "        calc_grad(xb, yb, model)\n",
    "        opt.step()\n",
    "        opt.zero_grad()"
   ]
  },
  {
   "cell_type": "code",
   "execution_count": 335,
   "id": "577c140b-b734-42e2-b5f8-78664a1e7d68",
   "metadata": {},
   "outputs": [
    {
     "data": {
      "text/plain": [
       "0.2646"
      ]
     },
     "execution_count": 335,
     "metadata": {},
     "output_type": "execute_result"
    }
   ],
   "source": [
    "validate_epoch(linear_model)"
   ]
  },
  {
   "cell_type": "markdown",
   "id": "443cd082-01de-4e30-bd7f-8525dd625d8b",
   "metadata": {},
   "source": [
    "Let's put our little training loop in a function, to make things simpler:"
   ]
  },
  {
   "cell_type": "code",
   "execution_count": 336,
   "id": "7856da1e-4e20-458c-b885-047bb90ac1f6",
   "metadata": {},
   "outputs": [],
   "source": [
    "def train_model(model, epochs):\n",
    "    for i in range(epochs):\n",
    "        train_epoch(model)\n",
    "        print(validate_epoch(model), end=' ')"
   ]
  },
  {
   "cell_type": "code",
   "execution_count": 337,
   "id": "17a9f275-db06-4c7b-ab30-83da2cea04d2",
   "metadata": {},
   "outputs": [
    {
     "name": "stdout",
     "output_type": "stream",
     "text": [
      "0.4932 0.4932 0.6763 0.8701 0.9209 0.9365 0.9516 0.957 0.9634 0.9658 0.9678 0.9702 0.9721 0.9741 0.9746 0.9761 0.977 0.9775 0.978 0.978 "
     ]
    }
   ],
   "source": [
    "train_model(linear_model, 20)"
   ]
  },
  {
   "cell_type": "markdown",
   "id": "36f9c2ac-f990-41b9-a6d7-58df9d1eb87b",
   "metadata": {},
   "source": [
    "fastai provides the `SGD` class which, by default, does the same thing as our `BasicOptim`:"
   ]
  },
  {
   "cell_type": "code",
   "execution_count": 338,
   "id": "64885357-c3ba-49aa-8ffd-4912471f87a6",
   "metadata": {},
   "outputs": [
    {
     "name": "stdout",
     "output_type": "stream",
     "text": [
      "0.4932 0.7949 0.8535 0.916 0.9355 0.9472 0.9575 0.9634 0.9663 0.9678 0.9697 0.9712 0.9746 0.9751 0.9761 0.9765 0.9775 0.978 0.978 0.979 "
     ]
    }
   ],
   "source": [
    "linear_model = nn.Linear(28*28,1)\n",
    "opt = SGD(linear_model.parameters(), lr)\n",
    "train_model(linear_model, 20)"
   ]
  },
  {
   "cell_type": "markdown",
   "id": "0f465a87-559a-44cb-96b4-15201f6f2a5a",
   "metadata": {},
   "source": [
    "fastai also provides `Learner.fit`, which we can use instead of `train_model`. To create a `Learner` we first need to create a `DataLoaders`, by passing in our training and validation `DataLoaders`:"
   ]
  },
  {
   "cell_type": "code",
   "execution_count": 339,
   "id": "46740661-4164-4957-bd89-319e8efcba42",
   "metadata": {},
   "outputs": [],
   "source": [
    "dls = DataLoaders(dl, valid_dl)"
   ]
  },
  {
   "cell_type": "markdown",
   "id": "8c010e32-56fe-4b88-9fe8-4deccefe4f0d",
   "metadata": {},
   "source": [
    "To create a Learner without using an application (such as cnn_learner) we need to pass in all the elements that we've created in this chapter: the DataLoaders, the model, the optimization function (which will be passed the parameters), the loss function, and optionally any metrics to print:\n",
    "- cnn_learner같은 어플리케이션 없이 학습시키기 위해 선택적으로 인쇄할 모든 매트릭스, 손실 함수, 최적화 함수, 모델, DataLoaders를 모두 전달해야 한다."
   ]
  },
  {
   "cell_type": "code",
   "execution_count": 340,
   "id": "6d79d0c8-fb03-4d27-b02a-e494d4b19084",
   "metadata": {},
   "outputs": [],
   "source": [
    "learn = Learner(dls, nn.Linear(28*28,1), opt_func=SGD,\n",
    "                loss_func=mnist_loss, metrics=batch_accuracy)"
   ]
  },
  {
   "cell_type": "code",
   "execution_count": 341,
   "id": "a59ee340-8b41-4b7c-b3ab-5029a2e1bb83",
   "metadata": {},
   "outputs": [
    {
     "data": {
      "text/html": [
       "<table border=\"1\" class=\"dataframe\">\n",
       "  <thead>\n",
       "    <tr style=\"text-align: left;\">\n",
       "      <th>epoch</th>\n",
       "      <th>train_loss</th>\n",
       "      <th>valid_loss</th>\n",
       "      <th>batch_accuracy</th>\n",
       "      <th>time</th>\n",
       "    </tr>\n",
       "  </thead>\n",
       "  <tbody>\n",
       "    <tr>\n",
       "      <td>0</td>\n",
       "      <td>0.636537</td>\n",
       "      <td>0.503338</td>\n",
       "      <td>0.495584</td>\n",
       "      <td>00:00</td>\n",
       "    </tr>\n",
       "    <tr>\n",
       "      <td>1</td>\n",
       "      <td>0.467653</td>\n",
       "      <td>0.233290</td>\n",
       "      <td>0.786555</td>\n",
       "      <td>00:00</td>\n",
       "    </tr>\n",
       "    <tr>\n",
       "      <td>2</td>\n",
       "      <td>0.174121</td>\n",
       "      <td>0.161429</td>\n",
       "      <td>0.853778</td>\n",
       "      <td>00:00</td>\n",
       "    </tr>\n",
       "    <tr>\n",
       "      <td>3</td>\n",
       "      <td>0.077529</td>\n",
       "      <td>0.101020</td>\n",
       "      <td>0.915604</td>\n",
       "      <td>00:00</td>\n",
       "    </tr>\n",
       "    <tr>\n",
       "      <td>4</td>\n",
       "      <td>0.041900</td>\n",
       "      <td>0.075255</td>\n",
       "      <td>0.935721</td>\n",
       "      <td>00:00</td>\n",
       "    </tr>\n",
       "    <tr>\n",
       "      <td>5</td>\n",
       "      <td>0.027915</td>\n",
       "      <td>0.060847</td>\n",
       "      <td>0.948970</td>\n",
       "      <td>00:00</td>\n",
       "    </tr>\n",
       "    <tr>\n",
       "      <td>6</td>\n",
       "      <td>0.022117</td>\n",
       "      <td>0.051727</td>\n",
       "      <td>0.956820</td>\n",
       "      <td>00:00</td>\n",
       "    </tr>\n",
       "    <tr>\n",
       "      <td>7</td>\n",
       "      <td>0.019508</td>\n",
       "      <td>0.045614</td>\n",
       "      <td>0.963199</td>\n",
       "      <td>00:00</td>\n",
       "    </tr>\n",
       "    <tr>\n",
       "      <td>8</td>\n",
       "      <td>0.018168</td>\n",
       "      <td>0.041303</td>\n",
       "      <td>0.966634</td>\n",
       "      <td>00:00</td>\n",
       "    </tr>\n",
       "    <tr>\n",
       "      <td>9</td>\n",
       "      <td>0.017355</td>\n",
       "      <td>0.038121</td>\n",
       "      <td>0.968106</td>\n",
       "      <td>00:00</td>\n",
       "    </tr>\n",
       "  </tbody>\n",
       "</table>"
      ],
      "text/plain": [
       "<IPython.core.display.HTML object>"
      ]
     },
     "metadata": {},
     "output_type": "display_data"
    }
   ],
   "source": [
    "learn.fit(10, lr=lr)"
   ]
  },
  {
   "cell_type": "markdown",
   "id": "9c9405b3-3b8e-47c0-80ba-623fa11ba418",
   "metadata": {},
   "source": [
    "As you can see, there's nothing magic about the PyTorch and fastai classes. They are just convenient pre-packaged pieces that make your life a bit easier! "
   ]
  },
  {
   "cell_type": "markdown",
   "id": "e1554a37-8907-40b0-9ba9-8af4abd2998f",
   "metadata": {},
   "source": [
    "## Adding a Nonlinearity"
   ]
  },
  {
   "cell_type": "markdown",
   "id": "904c11e8-09f8-4d84-af38-2c6f399832db",
   "metadata": {},
   "source": [
    "the entire definition of a basic neural network:"
   ]
  },
  {
   "cell_type": "code",
   "execution_count": 343,
   "id": "dbcaa4c5-e646-48df-be2d-f2dadade39ca",
   "metadata": {},
   "outputs": [],
   "source": [
    "def simple_net(xb): \n",
    "    res = xb@w1 + b1\n",
    "    res = res.max(tensor(0.0))\n",
    "    res = res@w2 + b2\n",
    "    return res"
   ]
  },
  {
   "cell_type": "markdown",
   "id": "fe4ae880-9ae0-4f47-83a4-b5d621918d83",
   "metadata": {},
   "source": [
    "That's it! All we have in `simple_net` is two linear classifiers with a `max` function between them.\n",
    "\n",
    "Here, `w1` and `w2` are weight tensors, and b1 and b2 are bias tensors"
   ]
  },
  {
   "cell_type": "code",
   "execution_count": 345,
   "id": "b28bdde1-aee8-4145-959d-fbf612cde4f1",
   "metadata": {},
   "outputs": [],
   "source": [
    "w1 = init_params((28*28,30)) #  has 30 output activations\n",
    "b1 = init_params(30)\n",
    "w2 = init_params((30,1)) # must have 30 input activations, so they match\n",
    "b2 = init_params(1)"
   ]
  },
  {
   "cell_type": "markdown",
   "id": "7f756770-702b-43c7-8f84-b825e5e29ae9",
   "metadata": {},
   "source": [
    "That little function res.max(tensor(0.0)) is called a rectified linear unit, also known as ReLU. We think we can all agree that rectified linear unit sounds pretty fancy and complicated... But actually, there's nothing more to it than res.max(tensor(0.0))—in other words, replace every negative number with a zero. This tiny function is also available in PyTorch as F.relu:\n",
    "- ReLU로 알려진 res.mas(0.0)은 정류된 선형 단위. 모든 음수를 0으로 바꿔준다."
   ]
  },
  {
   "cell_type": "code",
   "execution_count": 346,
   "id": "11b46a32-8ba2-4a62-96c0-3ad818b2adce",
   "metadata": {},
   "outputs": [
    {
     "data": {
      "image/png": "[encoded data removed]",
      "text/plain": [
       "<Figure size 432x288 with 1 Axes>"
      ]
     },
     "metadata": {
      "needs_background": "light"
     },
     "output_type": "display_data"
    }
   ],
   "source": [
    "plot_function(F.relu)"
   ]
  },
  {
   "cell_type": "markdown",
   "id": "c2bb175c-c0be-44d9-a6d7-98c560fde135",
   "metadata": {},
   "source": [
    "The basic idea is that by using more linear layers, we can have our model do more computation, and therefore model more complex functions. But there's no point just putting one linear layer directly after another one, because when we multiply things together and then add them up multiple times, that could be replaced by multiplying different things together and adding them up just once! That is to say, a series of any number of linear layers in a row can be replaced with a single linear layer with a different set of parameters.\n",
    "- 기본적인 아이디어는 선형함수를 더 사용할수록 모델이 더 많은 계산을 할 수 있어 더 복잡한 함수를 모데링할 수 있다는 것이다.\n",
    "- 하지만 한 선형 층을 다른 층에 바로 붙이면 의미가 없는데, 왜냐하면 곱하고 여러번 더하는 건 곱하고 한 번에 더하는 것과 같기 때문이다. 즉 한 행에 에 있는 일련의 선형 층은 서로 다른 파라미터 집합을 가진 단일 선형 층으로 대체할 수 있다는 것이다.\n",
    "\n",
    "But if we put a nonlinear function between them, such as `max`, then this is no longer true. Now each linear layer is actually somewhat decoupled from the other ones, and can do its own useful work. The max function is particularly interesting, because it operates as a simple if statement.\n",
    "- 만일 'max'와 같은 비선형 함수를 선형 함수 사이에 넣는다면 각 선형 층은 다른 층과 어느정도 분리되는 것으로 보고 유용한 작업을 할 수 있을 것으로 본다. 'max' 함수는 특히 if 구문을 사용하기 때문에 흥미롭다.\n",
    "\n",
    "Amazingly enough, it can be mathematically proven that this little function can solve any computable problem to an arbitrarily high level of accuracy, if you can find the right parameters for w1 and w2 and if you make these matrices big enough. For any arbitrarily wiggly function, we can approximate it as a bunch of lines joined together; to make it closer to the wiggly function, we just have to use shorter lines. This is known as the `universal approximation theorem`. The three lines of code that we have here are known as layers. The first and third are known as linear layers, and the second line of code is known variously as a nonlinearity, or activation function.\n",
    "- 'max'라는 함수는 임의의 높은 정확도로 계산 가능한 문제를 풀 수 있다는 것을 수학적으로 증명할 수 있다.\n",
    "- 'w1','w2'의 right parameter를 찾을 수 있고, 이 행렬이 충분히 크다면 말이다.\n",
    "- 임의의 wiggly 함수에 대해 선들을 합쳐서 근사할 수 있다.\n",
    "- wiggly 함수에 가깝게 하기 위해서 보편 근사 정리라고 알려진 더 짧은 선들을 사용해야 한다.\n",
    "- 이 세 줄의 선은 layer라 부르고, 첫번째, 세번째 줄은 선형 layer이며, 두 번째 줄은 비선형 layer이며, 활성화 함수이다."
   ]
  },
  {
   "cell_type": "code",
   "execution_count": 347,
   "id": "dc00836f-74df-4200-a38d-7544414f9285",
   "metadata": {},
   "outputs": [],
   "source": [
    "simple_net = nn.Sequential(\n",
    "    nn.Linear(28*28,30),\n",
    "    nn.ReLU(),\n",
    "    nn.Linear(30,1)\n",
    ")"
   ]
  },
  {
   "cell_type": "markdown",
   "id": "dbba628b-fb9a-418c-b1f0-47ef92d32a2f",
   "metadata": {},
   "source": [
    "`nn.Sequential` creates a module that will call each of the listed layers or functions in turn.\n",
    "- nn.Sequential는 나열된 layer나 함수를 차례로 호출하는 모듈을 만든다.\n",
    "\n",
    "`nn.ReLU` is a PyTorch module that does exactly the same thing as the F.relu function. Most functions that can appear in a model also have identical forms that are modules. Generally, it's just a case of replacing F with nn and changing the capitalization. When using nn.Sequential, PyTorch requires us to use the module version. Since modules are classes, we have to instantiate them, which is why you see nn.ReLU() in this example.\n",
    "- nn.Sequential을 사용할 경우, 파이토치는 모듈 버전을 사용할 것을 요구한다. \n",
    "- 이 모듈은 class이고, nn.ReLU에서 본 이유이기도 했던, instance화를 해야한다.\n",
    "\n",
    "Because `nn.Sequential` is a module, we can get its parameters, which will return a list of all the parameters of all the modules it contains. Let's try it out! As this is a deeper model, we'll use a lower learning rate and a few more epochs.\n",
    "- nn.Sequential은 모듈이기 때문에 파라미터를 가져올 수 있고, 포함한 모든 모듈의 매게변수 목록을 반환할 것이다."
   ]
  },
  {
   "cell_type": "code",
   "execution_count": 348,
   "id": "05fbfdf9-ae8a-4046-8785-df5761a3b86d",
   "metadata": {},
   "outputs": [],
   "source": [
    "learn = Learner(dls, simple_net, opt_func=SGD,\n",
    "                loss_func=mnist_loss, metrics=batch_accuracy)"
   ]
  },
  {
   "cell_type": "code",
   "execution_count": 349,
   "id": "f320c30a-d43f-4a5a-a5cc-8cc949a1af41",
   "metadata": {},
   "outputs": [
    {
     "data": {
      "text/html": [
       "<table border=\"1\" class=\"dataframe\">\n",
       "  <thead>\n",
       "    <tr style=\"text-align: left;\">\n",
       "      <th>epoch</th>\n",
       "      <th>train_loss</th>\n",
       "      <th>valid_loss</th>\n",
       "      <th>batch_accuracy</th>\n",
       "      <th>time</th>\n",
       "    </tr>\n",
       "  </thead>\n",
       "  <tbody>\n",
       "    <tr>\n",
       "      <td>0</td>\n",
       "      <td>0.275952</td>\n",
       "      <td>0.411253</td>\n",
       "      <td>0.506379</td>\n",
       "      <td>00:00</td>\n",
       "    </tr>\n",
       "    <tr>\n",
       "      <td>1</td>\n",
       "      <td>0.133328</td>\n",
       "      <td>0.214047</td>\n",
       "      <td>0.820903</td>\n",
       "      <td>00:00</td>\n",
       "    </tr>\n",
       "    <tr>\n",
       "      <td>2</td>\n",
       "      <td>0.075737</td>\n",
       "      <td>0.109673</td>\n",
       "      <td>0.919038</td>\n",
       "      <td>00:00</td>\n",
       "    </tr>\n",
       "    <tr>\n",
       "      <td>3</td>\n",
       "      <td>0.050957</td>\n",
       "      <td>0.074739</td>\n",
       "      <td>0.942100</td>\n",
       "      <td>00:00</td>\n",
       "    </tr>\n",
       "    <tr>\n",
       "      <td>4</td>\n",
       "      <td>0.039277</td>\n",
       "      <td>0.058585</td>\n",
       "      <td>0.961236</td>\n",
       "      <td>00:00</td>\n",
       "    </tr>\n",
       "    <tr>\n",
       "      <td>5</td>\n",
       "      <td>0.033197</td>\n",
       "      <td>0.049507</td>\n",
       "      <td>0.965162</td>\n",
       "      <td>00:00</td>\n",
       "    </tr>\n",
       "    <tr>\n",
       "      <td>6</td>\n",
       "      <td>0.029636</td>\n",
       "      <td>0.043790</td>\n",
       "      <td>0.966634</td>\n",
       "      <td>00:00</td>\n",
       "    </tr>\n",
       "    <tr>\n",
       "      <td>7</td>\n",
       "      <td>0.027287</td>\n",
       "      <td>0.039878</td>\n",
       "      <td>0.968106</td>\n",
       "      <td>00:00</td>\n",
       "    </tr>\n",
       "    <tr>\n",
       "      <td>8</td>\n",
       "      <td>0.025576</td>\n",
       "      <td>0.037031</td>\n",
       "      <td>0.970069</td>\n",
       "      <td>00:00</td>\n",
       "    </tr>\n",
       "    <tr>\n",
       "      <td>9</td>\n",
       "      <td>0.024243</td>\n",
       "      <td>0.034862</td>\n",
       "      <td>0.972031</td>\n",
       "      <td>00:00</td>\n",
       "    </tr>\n",
       "    <tr>\n",
       "      <td>10</td>\n",
       "      <td>0.023159</td>\n",
       "      <td>0.033143</td>\n",
       "      <td>0.973994</td>\n",
       "      <td>00:00</td>\n",
       "    </tr>\n",
       "    <tr>\n",
       "      <td>11</td>\n",
       "      <td>0.022252</td>\n",
       "      <td>0.031735</td>\n",
       "      <td>0.975466</td>\n",
       "      <td>00:00</td>\n",
       "    </tr>\n",
       "    <tr>\n",
       "      <td>12</td>\n",
       "      <td>0.021480</td>\n",
       "      <td>0.030554</td>\n",
       "      <td>0.976448</td>\n",
       "      <td>00:00</td>\n",
       "    </tr>\n",
       "    <tr>\n",
       "      <td>13</td>\n",
       "      <td>0.020811</td>\n",
       "      <td>0.029541</td>\n",
       "      <td>0.976448</td>\n",
       "      <td>00:00</td>\n",
       "    </tr>\n",
       "    <tr>\n",
       "      <td>14</td>\n",
       "      <td>0.020226</td>\n",
       "      <td>0.028656</td>\n",
       "      <td>0.976448</td>\n",
       "      <td>00:00</td>\n",
       "    </tr>\n",
       "    <tr>\n",
       "      <td>15</td>\n",
       "      <td>0.019707</td>\n",
       "      <td>0.027873</td>\n",
       "      <td>0.976938</td>\n",
       "      <td>00:00</td>\n",
       "    </tr>\n",
       "    <tr>\n",
       "      <td>16</td>\n",
       "      <td>0.019242</td>\n",
       "      <td>0.027173</td>\n",
       "      <td>0.977429</td>\n",
       "      <td>00:00</td>\n",
       "    </tr>\n",
       "    <tr>\n",
       "      <td>17</td>\n",
       "      <td>0.018823</td>\n",
       "      <td>0.026542</td>\n",
       "      <td>0.978901</td>\n",
       "      <td>00:00</td>\n",
       "    </tr>\n",
       "    <tr>\n",
       "      <td>18</td>\n",
       "      <td>0.018441</td>\n",
       "      <td>0.025969</td>\n",
       "      <td>0.979392</td>\n",
       "      <td>00:00</td>\n",
       "    </tr>\n",
       "    <tr>\n",
       "      <td>19</td>\n",
       "      <td>0.018091</td>\n",
       "      <td>0.025447</td>\n",
       "      <td>0.979882</td>\n",
       "      <td>00:00</td>\n",
       "    </tr>\n",
       "    <tr>\n",
       "      <td>20</td>\n",
       "      <td>0.017769</td>\n",
       "      <td>0.024968</td>\n",
       "      <td>0.979882</td>\n",
       "      <td>00:00</td>\n",
       "    </tr>\n",
       "    <tr>\n",
       "      <td>21</td>\n",
       "      <td>0.017471</td>\n",
       "      <td>0.024527</td>\n",
       "      <td>0.979882</td>\n",
       "      <td>00:00</td>\n",
       "    </tr>\n",
       "    <tr>\n",
       "      <td>22</td>\n",
       "      <td>0.017193</td>\n",
       "      <td>0.024121</td>\n",
       "      <td>0.980373</td>\n",
       "      <td>00:00</td>\n",
       "    </tr>\n",
       "    <tr>\n",
       "      <td>23</td>\n",
       "      <td>0.016933</td>\n",
       "      <td>0.023744</td>\n",
       "      <td>0.980864</td>\n",
       "      <td>00:00</td>\n",
       "    </tr>\n",
       "    <tr>\n",
       "      <td>24</td>\n",
       "      <td>0.016689</td>\n",
       "      <td>0.023395</td>\n",
       "      <td>0.981354</td>\n",
       "      <td>00:00</td>\n",
       "    </tr>\n",
       "    <tr>\n",
       "      <td>25</td>\n",
       "      <td>0.016460</td>\n",
       "      <td>0.023069</td>\n",
       "      <td>0.981354</td>\n",
       "      <td>00:00</td>\n",
       "    </tr>\n",
       "    <tr>\n",
       "      <td>26</td>\n",
       "      <td>0.016243</td>\n",
       "      <td>0.022766</td>\n",
       "      <td>0.981354</td>\n",
       "      <td>00:00</td>\n",
       "    </tr>\n",
       "    <tr>\n",
       "      <td>27</td>\n",
       "      <td>0.016038</td>\n",
       "      <td>0.022484</td>\n",
       "      <td>0.982336</td>\n",
       "      <td>00:00</td>\n",
       "    </tr>\n",
       "    <tr>\n",
       "      <td>28</td>\n",
       "      <td>0.015844</td>\n",
       "      <td>0.022220</td>\n",
       "      <td>0.982336</td>\n",
       "      <td>00:00</td>\n",
       "    </tr>\n",
       "    <tr>\n",
       "      <td>29</td>\n",
       "      <td>0.015658</td>\n",
       "      <td>0.021972</td>\n",
       "      <td>0.982826</td>\n",
       "      <td>00:00</td>\n",
       "    </tr>\n",
       "    <tr>\n",
       "      <td>30</td>\n",
       "      <td>0.015482</td>\n",
       "      <td>0.021741</td>\n",
       "      <td>0.982826</td>\n",
       "      <td>00:00</td>\n",
       "    </tr>\n",
       "    <tr>\n",
       "      <td>31</td>\n",
       "      <td>0.015314</td>\n",
       "      <td>0.021523</td>\n",
       "      <td>0.982826</td>\n",
       "      <td>00:00</td>\n",
       "    </tr>\n",
       "    <tr>\n",
       "      <td>32</td>\n",
       "      <td>0.015153</td>\n",
       "      <td>0.021318</td>\n",
       "      <td>0.983317</td>\n",
       "      <td>00:00</td>\n",
       "    </tr>\n",
       "    <tr>\n",
       "      <td>33</td>\n",
       "      <td>0.014999</td>\n",
       "      <td>0.021126</td>\n",
       "      <td>0.983317</td>\n",
       "      <td>00:00</td>\n",
       "    </tr>\n",
       "    <tr>\n",
       "      <td>34</td>\n",
       "      <td>0.014852</td>\n",
       "      <td>0.020945</td>\n",
       "      <td>0.983317</td>\n",
       "      <td>00:00</td>\n",
       "    </tr>\n",
       "    <tr>\n",
       "      <td>35</td>\n",
       "      <td>0.014710</td>\n",
       "      <td>0.020773</td>\n",
       "      <td>0.983317</td>\n",
       "      <td>00:00</td>\n",
       "    </tr>\n",
       "    <tr>\n",
       "      <td>36</td>\n",
       "      <td>0.014574</td>\n",
       "      <td>0.020611</td>\n",
       "      <td>0.983317</td>\n",
       "      <td>00:00</td>\n",
       "    </tr>\n",
       "    <tr>\n",
       "      <td>37</td>\n",
       "      <td>0.014443</td>\n",
       "      <td>0.020458</td>\n",
       "      <td>0.983808</td>\n",
       "      <td>00:00</td>\n",
       "    </tr>\n",
       "    <tr>\n",
       "      <td>38</td>\n",
       "      <td>0.014316</td>\n",
       "      <td>0.020313</td>\n",
       "      <td>0.983808</td>\n",
       "      <td>00:00</td>\n",
       "    </tr>\n",
       "    <tr>\n",
       "      <td>39</td>\n",
       "      <td>0.014194</td>\n",
       "      <td>0.020175</td>\n",
       "      <td>0.983808</td>\n",
       "      <td>00:00</td>\n",
       "    </tr>\n",
       "  </tbody>\n",
       "</table>"
      ],
      "text/plain": [
       "<IPython.core.display.HTML object>"
      ]
     },
     "metadata": {},
     "output_type": "display_data"
    }
   ],
   "source": [
    "#hide_output\n",
    "learn.fit(40, 0.1)"
   ]
  },
  {
   "cell_type": "markdown",
   "id": "2858fde3-07fb-4095-8e69-1431d3a39f89",
   "metadata": {},
   "source": [
    "the training process is recorded in `learn.recorder`, with the table of output stored in the `values` attribute, so we can plot the accuracy over training as:"
   ]
  },
  {
   "cell_type": "code",
   "execution_count": 350,
   "id": "12c977d7-bf9c-44b0-b639-6f39acd50cbb",
   "metadata": {},
   "outputs": [
    {
     "data": {
      "image/png": "[encoded data removed]",
      "text/plain": [
       "<Figure size 432x288 with 1 Axes>"
      ]
     },
     "metadata": {
      "needs_background": "light"
     },
     "output_type": "display_data"
    }
   ],
   "source": [
    "plt.plot(L(learn.recorder.values).itemgot(2));"
   ]
  },
  {
   "cell_type": "code",
   "execution_count": 351,
   "id": "871e28ba-794d-41e3-b840-21bcb479f63a",
   "metadata": {},
   "outputs": [
    {
     "data": {
      "text/plain": [
       "0.9838076829910278"
      ]
     },
     "execution_count": 351,
     "metadata": {},
     "output_type": "execute_result"
    }
   ],
   "source": [
    "learn.recorder.values[-1][2]"
   ]
  },
  {
   "cell_type": "markdown",
   "id": "5c992b99-76da-498b-9c4d-65c7b738caa8",
   "metadata": {},
   "source": [
    "1. A function that can solve any problem to any level of accuracy (the neural network) given the correct set of parameters\n",
    "    - 정확한 파라미터 집합이 주어진다면 어떤 수준의 정확도(신경망)으로든 문제를 해결할 수 있다.\n",
    "2. A way to find the best set of parameters for any function (stochastic gradient descent)\n",
    "    - 모든 함수에 대해 최적의 매개함수 집합을 찾는 방법을 알 수 있다."
   ]
  },
  {
   "cell_type": "markdown",
   "id": "f54815ca-36a4-406a-9d9a-dde7f3f1bfe0",
   "metadata": {},
   "source": [
    "## Going Deeper"
   ]
  },
  {
   "cell_type": "markdown",
   "id": "aea1be12-48a4-4ad4-abac-8aae1590f13f",
   "metadata": {},
   "source": [
    "We already know that a single nonlinearity with two linear layers is enough to approximate any function. So why would we use deeper models? The reason is performance. With a deeper model (that is, one with more layers) we do not need to use as many parameters; it turns out that we can use smaller matrices with more layers, and get better results than we would get with larger matrices, and few layers.\n",
    "- 두 개의 선형 layer를 가진 단일 비선형성이 충분히 어느 함수든 잘 설명한다는 것을 알았다.\n",
    "- 왜 깊은 모델을 사용해야할까? 그 이유는 성능이다. \n",
    "- deeper model에서는 많은 파라미터를 사용할 필요가 없다.\n",
    "- layer가 더 많은 작은 행렬을 사용할 수 있다면 더 큰 행렬과 더 작은 layer를 가진 것보다 더 좋은 결과를 얻을 수 있다.\n",
    "\n",
    "That means that we can train the model more quickly, and it will take up less memory.\n",
    "- 모델을 더 빨리 학습시킬 수 있다면 더 적은 메모리를 사용할 것이다. "
   ]
  },
  {
   "cell_type": "markdown",
   "id": "4f2ab3af-e893-4f19-b118-0b63e30ae8fe",
   "metadata": {},
   "source": [
    "what happens when we train an 18-layer model"
   ]
  },
  {
   "cell_type": "code",
   "execution_count": 356,
   "id": "4505721e-4e5d-4983-aa56-afa2bd742022",
   "metadata": {},
   "outputs": [
    {
     "data": {
      "text/html": [
       "<table border=\"1\" class=\"dataframe\">\n",
       "  <thead>\n",
       "    <tr style=\"text-align: left;\">\n",
       "      <th>epoch</th>\n",
       "      <th>train_loss</th>\n",
       "      <th>valid_loss</th>\n",
       "      <th>accuracy</th>\n",
       "      <th>time</th>\n",
       "    </tr>\n",
       "  </thead>\n",
       "  <tbody>\n",
       "    <tr>\n",
       "      <td>0</td>\n",
       "      <td>0.109431</td>\n",
       "      <td>0.013922</td>\n",
       "      <td>0.994603</td>\n",
       "      <td>00:08</td>\n",
       "    </tr>\n",
       "  </tbody>\n",
       "</table>"
      ],
      "text/plain": [
       "<IPython.core.display.HTML object>"
      ]
     },
     "metadata": {},
     "output_type": "display_data"
    }
   ],
   "source": [
    "dls = ImageDataLoaders.from_folder(path)\n",
    "learn = cnn_learner(dls, resnet18, pretrained=False,\n",
    "                    loss_func=F.cross_entropy, metrics=accuracy)\n",
    "learn.fit_one_cycle(1, 0.1)"
   ]
  },
  {
   "cell_type": "markdown",
   "id": "a0a4ccf3-f96a-4b3d-ac99-8ef39ab8f79e",
   "metadata": {},
   "source": [
    "Nearly 100% accuracy! That's a big difference compared to our simple neural net. But as you'll learn in the remainder of this book, there are just a few little tricks you need to use to get such great results from scratch yourself. You already know the key foundational pieces."
   ]
  }
 ],
 "metadata": {
  "kernelspec": {
   "display_name": "Python 3",
   "language": "python",
   "name": "python3"
  },
  "language_info": {
   "codemirror_mode": {
    "name": "ipython",
    "version": 3
   },
   "file_extension": ".py",
   "mimetype": "text/x-python",
   "name": "python",
   "nbconvert_exporter": "python",
   "pygments_lexer": "ipython3",
   "version": "3.8.12"
  }
 },
 "nbformat": 4,
 "nbformat_minor": 5
}
