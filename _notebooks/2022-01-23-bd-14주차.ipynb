{
 "cells": [
  {
   "cell_type": "markdown",
   "id": "7719d563-3bf1-4cdc-a468-fa97bb108655",
   "metadata": {
    "id": "7719d563-3bf1-4cdc-a468-fa97bb108655",
    "tags": []
   },
   "source": [
    "# 빅데이터 분석 (14주차) 12월16일\n",
    "> 순환신경망 \n",
    "\n",
    "- toc:true\n",
    "- branch: master\n",
    "- badges: false\n",
    "- comments: false \n",
    "- author: 최서연\n",
    "- categories: [Big Data Analysis, 순환신경망, Pytorch and Tensorflow, Fastai and Keras]"
   ]
  },
  {
   "cell_type": "markdown",
   "id": "73fb5ae3-76e0-47d0-884e-1b4ddf07c4b5",
   "metadata": {},
   "source": [
    "---------------------"
   ]
  },
  {
   "cell_type": "markdown",
   "id": "99e7c80d-e7e3-4e93-9650-37d98666c3a4",
   "metadata": {},
   "source": [
    "딥러닝 공부 추천 교재\n",
    "- 한국어: 기계학습(오일석)(한빛아카데미)\n",
    "- 원서: 심층학습(이안굿펠로우) 번역본보다는 원서로.."
   ]
  },
  {
   "cell_type": "markdown",
   "id": "a77b5ff2-9677-4b07-bdfe-f085d727d394",
   "metadata": {},
   "source": [
    "(-) 표시는 교수님 의견..!"
   ]
  },
  {
   "cell_type": "markdown",
   "id": "56ae82cb-6afe-4c9c-9fcd-105cfc980c2a",
   "metadata": {},
   "source": [
    "Pytorch and Tensorflow    - 컴퓨터 잘하는 사람들, 전문가용\n",
    "- 장점:  밑바닥부터 구현이 가능하다는 장점, 그래서 어떠한 형태의 알고리즘이라도 구현가능\n",
    "- 단점: 최종 아웃푹까지 만드는 코딩이 힘듦\n",
    "    - TR / TEST 분리, 배치, GPU, Dropout 등 귀찮은 작업이 있음\n",
    "    - 내가 할 줄 알아도 하기 싫음"
   ]
  },
  {
   "cell_type": "markdown",
   "id": "c13a6fe0-a467-40f5-8dcd-cc109d5ba013",
   "metadata": {},
   "source": [
    "Fastai and Keras - 컴퓨터에 익숙하지 않지만 딥러닝을 할 필요가 있는 사람들, 준전문가용\n",
    "- 장점: 사람들이 쓰기 쉽게 구성되어 있음\n",
    "- 단점: 지원하는 어플리케이션이 제한되어 있음"
   ]
  },
  {
   "cell_type": "markdown",
   "id": "47c5484b-cecf-49a7-8e4b-4a439f871410",
   "metadata": {},
   "source": [
    "Tensorflow\n",
    "- 산업체에서 많이 쓴다.\n",
    "- 점유율이 Pytorch보다 앞서고 있다.\n",
    "- 쓰기 어렵다. 구현방식이 별로이다. (-) \n",
    "- Google이 서포트한다는 점에서 장점이 있음\n",
    "- Google이 지원하니까 Tensorflow의 여러 단점들이 하나씩 극복되지 않을까? 하는 기대가 있음  (-)"
   ]
  },
  {
   "cell_type": "markdown",
   "id": "10614114-eea8-49a6-982b-861816ef4482",
   "metadata": {},
   "source": [
    "Pytorch\n",
    "- 학계에서 많이 쓴다.\n",
    "- 컴퓨터 공학/통계/산업공학 의외의 다른 정공의 전문가들(=교수님들)이 선호 (-)\n",
    "- 쓰기가 쉽고 코드 가독성이 높다. 즉, 깔끔하다. (-)\n",
    "- 요즘 대세, 예제코드 자체가 Tensorflow를 압도하는 느낌 (-)\n",
    "- Meta(구 facebook)에서 지원, Google만큼의 안전성은 없음 (-)"
   ]
  },
  {
   "cell_type": "markdown",
   "id": "4b592d3d-b734-4957-97f5-e090e2b56c07",
   "metadata": {},
   "source": [
    "Keras\n",
    "- 과거에는 Tensorflow, Pytorch와 어깨를 나란히. 지금은 Tensorflow에 소속되어 있음\n",
    "- 지금은 Tensorflow에 소속되어 있음\n",
    "- Google에서 공식 지원\n",
    "- 현재는 Tensorflow <-> Keras 간의 부드러운 연동이 부족한 느낌  (-)\n",
    "- 공식문서가 매우 잘 정리되어 있음"
   ]
  },
  {
   "cell_type": "markdown",
   "id": "701f7a23-d960-4b78-99c6-2334d8e56313",
   "metadata": {},
   "source": [
    "Fastai\n",
    "- Meta(구 facebook)에서 공식 지원하지 않음\n",
    "- 공식 문서가 잘 정리되지 않음\n",
    "- 적용되는 어플리케이션의 수가 Keras보다 적다.\n",
    "- 파이토치와 연동이 부드러움, 그래서 코드를 뜯어보면서 공부하기 좋다.  (-)"
   ]
  },
  {
   "cell_type": "markdown",
   "id": "4f2f7396-3bc4-420e-b7ea-d8dd43d969d8",
   "metadata": {},
   "source": [
    "종합\n",
    "- Tensorflow + Keras / Pytorch + Fastai 중 하나는 반드시 할 줄 알아야 함,\n",
    "    - 둘 중에서는 Pytorch + Fastai가 좋아보이기도 하다! 가정일뿐\n",
    "- 4개를 독립적으로 보면 Pytorch(연구목적), Keras(빠르개)가 좋다."
   ]
  },
  {
   "cell_type": "markdown",
   "id": "5c35960b-b60c-4953-9682-2d2958ab8f40",
   "metadata": {},
   "source": [
    "-------------------"
   ]
  },
  {
   "cell_type": "markdown",
   "id": "d0d3b05d-74b0-48f6-a453-dcf3d36090b2",
   "metadata": {
    "id": "d0d3b05d-74b0-48f6-a453-dcf3d36090b2"
   },
   "source": [
    "### 강인공지능(AGI)? "
   ]
  },
  {
   "cell_type": "markdown",
   "id": "7e0c9b28-9344-4b9c-a524-bc0b14a9cf4e",
   "metadata": {
    "id": "7e0c9b28-9344-4b9c-a524-bc0b14a9cf4e"
   },
   "source": [
    "`-` https://zdnet.co.kr/view/?no=20160622145838"
   ]
  },
  {
   "cell_type": "markdown",
   "id": "04e3f7c7-dec2-4a27-ad6c-ee87a76f61cf",
   "metadata": {
    "id": "04e3f7c7-dec2-4a27-ad6c-ee87a76f61cf"
   },
   "source": [
    "> 김 교수는 “인공지능은 사람보다 훌륭한 강인공지능과 사람보다 못하지만 사람에게 도움이 되는 약인공지능으로 나눌 수 있다”며 “90년대 후반부터 부활한 인공지능은 기계학습의 발전, 데이터로부터의 지식 추출, 빠른 컴퓨터와 다양한 데이터로 새로운 지식을 창출할 수 있는 방향으로 발전했다”고 설명했다. 또 “사람들은 지식의 오류를 인정하는 약인공지능으로 갔고 약인공지능은 확률, 통계 이론을 중심으로 발전하고 있다”고 덧붙였다. 강인공지능은 영화 터미네이터, 아이로봇에 나오는 로봇처럼 사람의 능력을 뛰어넘는 인공지능을 의미한다. 사람보다 강한 체력과 지능으로 인간이 못하는 일을 척척 해내는 인공지능이다. 반면 약인공지능은 바이센티니얼맨이나 A.I.에 나오는 로봇으로 감성 등 인간 고유의 특성을 넘을 수 없고 오류가 나기도 하지만 뛰어난 연산능력으로 사람의 업무에 도움을 주는 인공지능이다. 인공지능 초기에는 강인공지능이 대세를 이뤘다. 튜링테스트를 시작으로 초기의 자연어 처리 기능이 등장했지만 강인공지능은 커진 기대감을 충족시키지 못하고 큰 실망감을 안기며 사라졌다. 김 교수는 “70년대 중반부터 과학기술 투자 펀드가 인공지능 연구 지원을 끊었는데 이유는 결과물이 없었기 때문”이라고 설명했다."
   ]
  },
  {
   "cell_type": "markdown",
   "id": "95d357c3-5fbb-4a53-b87c-92ed1e931c0e",
   "metadata": {},
   "source": [
    "대략 이렇게 설명.\n",
    "- 약인공지능: 우리가 수업시간에 배운 AI\n",
    "- 강인공지능: 우리가 영화에서 보던 AI"
   ]
  },
  {
   "cell_type": "markdown",
   "id": "c6f15df8-9034-462e-924e-201dbaf70160",
   "metadata": {},
   "source": [
    "Timeline\n",
    "- 2012년 힌튼 + 알렉스 우승\n",
    "- 2016년 알파고 우승 3월\n",
    "- 2016년 김용대교수님 6월\n",
    "- ..\n",
    "- 2020년 여름, GPT-3\n",
    "\n",
    "GPT-3: AGI의 등장.\n",
    "- 소설 쓰는 AI \n",
    "- 작곡하는 AI\n",
    "- github compilot 코드를 이어서 자동으로 짜줌"
   ]
  },
  {
   "cell_type": "markdown",
   "id": "647bd1da-e8ec-4d59-a300-951b838affe8",
   "metadata": {
    "id": "647bd1da-e8ec-4d59-a300-951b838affe8"
   },
   "source": [
    "`-` GPT3를 기점으로 언어모델의 발전이 눈부심 $\\to$ AGI의 출현이라 말하는 사람도 있음 \n",
    "- 최근 뜨고 있는 모델"
   ]
  },
  {
   "cell_type": "markdown",
   "id": "8ac833bd-5e2e-4fa4-9238-ecd892af8527",
   "metadata": {
    "id": "8ac833bd-5e2e-4fa4-9238-ecd892af8527"
   },
   "source": [
    "### 언어모델 실습 "
   ]
  },
  {
   "cell_type": "code",
   "execution_count": 1,
   "id": "2ab827b3-93b4-4a53-89fb-e24d1ac911a3",
   "metadata": {
    "id": "2ab827b3-93b4-4a53-89fb-e24d1ac911a3"
   },
   "outputs": [],
   "source": [
    "from fastai.text.all import * \n",
    "import numpy as np"
   ]
  },
  {
   "cell_type": "code",
   "execution_count": 3,
   "id": "aba6af68-699c-44e7-b446-815f9416f95c",
   "metadata": {
    "id": "aba6af68-699c-44e7-b446-815f9416f95c"
   },
   "outputs": [],
   "source": [
    "path = untar_data(URLs.IMDB)"
   ]
  },
  {
   "cell_type": "code",
   "execution_count": 6,
   "id": "8db78e08-7806-40e3-9bfd-234f0797d931",
   "metadata": {},
   "outputs": [
    {
     "data": {
      "text/plain": [
       "Path('/home/csy/.fastai/data/imdb')"
      ]
     },
     "execution_count": 6,
     "metadata": {},
     "output_type": "execute_result"
    }
   ],
   "source": [
    "path"
   ]
  },
  {
   "cell_type": "code",
   "execution_count": 4,
   "id": "5b0a8e6c-1060-423c-b55c-4c47aeaa576c",
   "metadata": {
    "id": "5b0a8e6c-1060-423c-b55c-4c47aeaa576c",
    "outputId": "6013429c-aa0d-4bda-f86a-0ae8114ee213"
   },
   "outputs": [
    {
     "data": {
      "text/plain": [
       "(#100002) [Path('/home/csy/.fastai/data/imdb/train/neg/775_4.txt'),Path('/home/csy/.fastai/data/imdb/train/neg/8999_4.txt'),Path('/home/csy/.fastai/data/imdb/train/neg/3814_1.txt'),Path('/home/csy/.fastai/data/imdb/train/neg/834_4.txt'),Path('/home/csy/.fastai/data/imdb/train/neg/5250_4.txt'),Path('/home/csy/.fastai/data/imdb/train/neg/10016_4.txt'),Path('/home/csy/.fastai/data/imdb/train/neg/10241_1.txt'),Path('/home/csy/.fastai/data/imdb/train/neg/1775_4.txt'),Path('/home/csy/.fastai/data/imdb/train/neg/7746_1.txt'),Path('/home/csy/.fastai/data/imdb/train/neg/7721_4.txt')...]"
      ]
     },
     "execution_count": 4,
     "metadata": {},
     "output_type": "execute_result"
    }
   ],
   "source": [
    "files = get_text_files(path) \n",
    "files"
   ]
  },
  {
   "cell_type": "markdown",
   "id": "d5d87080-41d1-4c6c-b9b6-9dd11ede77a8",
   "metadata": {
    "id": "d5d87080-41d1-4c6c-b9b6-9dd11ede77a8"
   },
   "source": [
    "- files: path의 모든 하위폴더에 존재하는 text파일들을 목록화하여 저장한것"
   ]
  },
  {
   "cell_type": "markdown",
   "id": "be2fae7a-a554-4278-8199-847cbbdd7413",
   "metadata": {},
   "source": [
    "```python\n",
    "is_lm=False\n",
    "```\n",
    "가 default고 텍스트 입력하면 긍정인지 부정인지 맞추는것\n",
    "```python\n",
    "is_lm=True\n",
    "```\n",
    "생성하는 모형에 관심있으니까."
   ]
  },
  {
   "cell_type": "code",
   "execution_count": 9,
   "id": "52de55e5-352d-433e-a7e9-f625d7e7b498",
   "metadata": {
    "id": "52de55e5-352d-433e-a7e9-f625d7e7b498"
   },
   "outputs": [],
   "source": [
    "dls = DataBlock(\n",
    "    blocks=TextBlock.from_folder(path,is_lm=True), \n",
    "    get_items=get_text_files, splitter=RandomSplitter(0.1)\n",
    ").dataloaders(path,bs=128,seq_len=80) "
   ]
  },
  {
   "cell_type": "markdown",
   "id": "58272d58-f024-4583-ae1c-a91053820b1b",
   "metadata": {},
   "source": [
    "- seq_len의 길이에 따라 나타남,\n",
    "- is_lm(언어모델) false로 놓으면 text만 나타나"
   ]
  },
  {
   "cell_type": "code",
   "execution_count": 10,
   "id": "74862a84-baea-432d-ab33-31847f65041d",
   "metadata": {
    "id": "74862a84-baea-432d-ab33-31847f65041d",
    "outputId": "e7004c41-849d-4be4-80d2-74c18fb2c2b9"
   },
   "outputs": [
    {
     "data": {
      "text/html": [
       "<table border=\"1\" class=\"dataframe\">\n",
       "  <thead>\n",
       "    <tr style=\"text-align: right;\">\n",
       "      <th></th>\n",
       "      <th>text</th>\n",
       "      <th>text_</th>\n",
       "    </tr>\n",
       "  </thead>\n",
       "  <tbody>\n",
       "    <tr>\n",
       "      <th>0</th>\n",
       "      <td>xxbos xxmaj seriously - avoid this movie at any cost . i just saw it in my first \" sneak preview \" ever and although i paid non - xxunk money for it , i walked out of the cinema after a mere 15 minutes . xxmaj which already includes 2 minutes of discussion among my friends whether or not to leave . xxmaj first time xxup ever i walked out of a movie . xxmaj and i lived through</td>\n",
       "      <td>xxmaj seriously - avoid this movie at any cost . i just saw it in my first \" sneak preview \" ever and although i paid non - xxunk money for it , i walked out of the cinema after a mere 15 minutes . xxmaj which already includes 2 minutes of discussion among my friends whether or not to leave . xxmaj first time xxup ever i walked out of a movie . xxmaj and i lived through some</td>\n",
       "    </tr>\n",
       "    <tr>\n",
       "      <th>1</th>\n",
       "      <td>l. xxmaj jackson , one of the most prolific actors in xxmaj hollywood , as \" mace xxmaj windu \" and xxmaj jimmy xxmaj smits , another instantly recognizable household name , as xxmaj senator \" bail xxmaj xxunk \" . xxmaj my xxmaj god , xxmaj lukas could have at least picked actors who have n't reached idol status yet , but no , he had to make his budget xxup larger . xxmaj the majority of people who</td>\n",
       "      <td>xxmaj jackson , one of the most prolific actors in xxmaj hollywood , as \" mace xxmaj windu \" and xxmaj jimmy xxmaj smits , another instantly recognizable household name , as xxmaj senator \" bail xxmaj xxunk \" . xxmaj my xxmaj god , xxmaj lukas could have at least picked actors who have n't reached idol status yet , but no , he had to make his budget xxup larger . xxmaj the majority of people who liked</td>\n",
       "    </tr>\n",
       "    <tr>\n",
       "      <th>2</th>\n",
       "      <td>will deceive you in this movie . xxmaj stephen xxmaj nichols is mis - cast as a young german student still bending under his father 's orders although the actor obviously looks near 40 years - old . xxmaj this makes his relationship ( a collection of copulation scenes , basically ) to a very young looking girl all the more disturbing . xxmaj the character 's have no dimension and the war depiction serves only as a backdrop for</td>\n",
       "      <td>deceive you in this movie . xxmaj stephen xxmaj nichols is mis - cast as a young german student still bending under his father 's orders although the actor obviously looks near 40 years - old . xxmaj this makes his relationship ( a collection of copulation scenes , basically ) to a very young looking girl all the more disturbing . xxmaj the character 's have no dimension and the war depiction serves only as a backdrop for this</td>\n",
       "    </tr>\n",
       "    <tr>\n",
       "      <th>3</th>\n",
       "      <td>germans . xxmaj maybe that s why so few films were made about the xxmaj merchant xxmaj navy , what s a war film without some nasty xxmaj nazis in xxunk with submachine guns running about and a few xxunk xxunk xxunk ? \\n\\n xxmaj quite possibly the best thing i can say about this film is that after seeing this as a kid i wanted to join the xxmaj merchant xxmaj navy , and i did , and xxmaj</td>\n",
       "      <td>. xxmaj maybe that s why so few films were made about the xxmaj merchant xxmaj navy , what s a war film without some nasty xxmaj nazis in xxunk with submachine guns running about and a few xxunk xxunk xxunk ? \\n\\n xxmaj quite possibly the best thing i can say about this film is that after seeing this as a kid i wanted to join the xxmaj merchant xxmaj navy , and i did , and xxmaj i</td>\n",
       "    </tr>\n",
       "    <tr>\n",
       "      <th>4</th>\n",
       "      <td>for the xxmaj champ to come home when he is out on a drinking binge . xxmaj champ 's ex - wife , socialite xxmaj linda , sees xxmaj andy and xxmaj dink at the racetrack one day and tries to convince xxmaj andy that xxmaj dink would be better off with her . xxmaj at first the xxmaj champ is xxunk . xxmaj however , when he gets a hold of a good sum of money and gambles it</td>\n",
       "      <td>the xxmaj champ to come home when he is out on a drinking binge . xxmaj champ 's ex - wife , socialite xxmaj linda , sees xxmaj andy and xxmaj dink at the racetrack one day and tries to convince xxmaj andy that xxmaj dink would be better off with her . xxmaj at first the xxmaj champ is xxunk . xxmaj however , when he gets a hold of a good sum of money and gambles it away</td>\n",
       "    </tr>\n",
       "    <tr>\n",
       "      <th>5</th>\n",
       "      <td>of xxmaj the xxmaj dead . xxbos xxmaj valentine is now one of my favorite slasher films . xxmaj the death scenes are elaborate and the most of the acting is good . xxmaj marley xxmaj shelton did great as the female lead ( much better than xxmaj jennifer xxmaj love xxmaj hewitt in the \" i xxmaj know … \" films ) . xxmaj david xxmaj boreanaz , whom is the main reason i saw this movie , had</td>\n",
       "      <td>xxmaj the xxmaj dead . xxbos xxmaj valentine is now one of my favorite slasher films . xxmaj the death scenes are elaborate and the most of the acting is good . xxmaj marley xxmaj shelton did great as the female lead ( much better than xxmaj jennifer xxmaj love xxmaj hewitt in the \" i xxmaj know … \" films ) . xxmaj david xxmaj boreanaz , whom is the main reason i saw this movie , had a</td>\n",
       "    </tr>\n",
       "    <tr>\n",
       "      <th>6</th>\n",
       "      <td>big budget disaster movie follows the formula set by any number of xxmaj hollywood films of the late 90 's ( i assume , having seen none of them ) , with the scale of disaster and tragedy bringing out the nobility of the human ( well , xxmaj japanese ) spirit in acts of heroism and sacrifice , and proving the power of love or something like that . i.e. it 's as naive in its psychology as it</td>\n",
       "      <td>budget disaster movie follows the formula set by any number of xxmaj hollywood films of the late 90 's ( i assume , having seen none of them ) , with the scale of disaster and tragedy bringing out the nobility of the human ( well , xxmaj japanese ) spirit in acts of heroism and sacrifice , and proving the power of love or something like that . i.e. it 's as naive in its psychology as it 's</td>\n",
       "    </tr>\n",
       "    <tr>\n",
       "      <th>7</th>\n",
       "      <td>reiser does an excellent job , although he is n't a great actor always that does n't mean that this did n't work actually xxmaj peter xxmaj falk and xxmaj paul xxmaj reiser plays the perfect xxmaj father and xxmaj son , the rest of the cast is good enough but you do n't see them as much so just say they do what they shall to get this to shine even more . \\n\\n xxmaj music : 10 /</td>\n",
       "      <td>does an excellent job , although he is n't a great actor always that does n't mean that this did n't work actually xxmaj peter xxmaj falk and xxmaj paul xxmaj reiser plays the perfect xxmaj father and xxmaj son , the rest of the cast is good enough but you do n't see them as much so just say they do what they shall to get this to shine even more . \\n\\n xxmaj music : 10 / 10</td>\n",
       "    </tr>\n",
       "    <tr>\n",
       "      <th>8</th>\n",
       "      <td>gets work again . xxmaj on top of that i hope the director never gets to make another film , and has his paycheck taken back for this crap . { xxunk out of 10 } xxbos xxmaj it makes me laugh when i read bad reviews of this movie . xxmaj no one claimed it was a classic , no claimed it would win awards or prizes for depth of storyline etc . \\n\\n xxmaj what it does have</td>\n",
       "      <td>work again . xxmaj on top of that i hope the director never gets to make another film , and has his paycheck taken back for this crap . { xxunk out of 10 } xxbos xxmaj it makes me laugh when i read bad reviews of this movie . xxmaj no one claimed it was a classic , no claimed it would win awards or prizes for depth of storyline etc . \\n\\n xxmaj what it does have is</td>\n",
       "    </tr>\n",
       "  </tbody>\n",
       "</table>"
      ],
      "text/plain": [
       "<IPython.core.display.HTML object>"
      ]
     },
     "metadata": {},
     "output_type": "display_data"
    }
   ],
   "source": [
    "dls.show_batch()"
   ]
  },
  {
   "cell_type": "markdown",
   "id": "5f9b2e5d-7ba4-412c-b9cd-739bcbdc49f9",
   "metadata": {
    "id": "5f9b2e5d-7ba4-412c-b9cd-739bcbdc49f9"
   },
   "source": [
    "- xxbox: 새로운 텍스트의 시작 \n",
    "- xxmaj: 다음단어가 대문자임로 시작함을 의미함 (모든단어는 기본적으로 소문자로 생각함) \n",
    "\n"
   ]
  },
  {
   "cell_type": "code",
   "execution_count": 12,
   "id": "c903b0fb-46c3-4bc5-b887-aef25624ce06",
   "metadata": {
    "id": "c903b0fb-46c3-4bc5-b887-aef25624ce06"
   },
   "outputs": [],
   "source": [
    "lrnr = language_model_learner(dls,AWD_LSTM,metrics=accuracy).to_fp16()"
   ]
  },
  {
   "cell_type": "markdown",
   "id": "a68180ae-eb62-48f1-a5d1-d115c2672f49",
   "metadata": {},
   "source": [
    "to_fp16()\n",
    "- 계산을 대충하는 대신,, 가볍게 만드는.."
   ]
  },
  {
   "cell_type": "code",
   "execution_count": 13,
   "id": "076da87a-269a-4b8f-bf88-ce705975baa7",
   "metadata": {
    "id": "076da87a-269a-4b8f-bf88-ce705975baa7",
    "outputId": "65f6079c-5bea-4439-a484-dc4e593c9bc7"
   },
   "outputs": [
    {
     "data": {
      "text/html": [
       "<table border=\"1\" class=\"dataframe\">\n",
       "  <thead>\n",
       "    <tr style=\"text-align: left;\">\n",
       "      <th>epoch</th>\n",
       "      <th>train_loss</th>\n",
       "      <th>valid_loss</th>\n",
       "      <th>accuracy</th>\n",
       "      <th>time</th>\n",
       "    </tr>\n",
       "  </thead>\n",
       "  <tbody>\n",
       "    <tr>\n",
       "      <td>0</td>\n",
       "      <td>4.473711</td>\n",
       "      <td>4.139537</td>\n",
       "      <td>0.282725</td>\n",
       "      <td>08:33</td>\n",
       "    </tr>\n",
       "    <tr>\n",
       "      <td>1</td>\n",
       "      <td>4.343895</td>\n",
       "      <td>4.037108</td>\n",
       "      <td>0.289659</td>\n",
       "      <td>08:25</td>\n",
       "    </tr>\n",
       "    <tr>\n",
       "      <td>2</td>\n",
       "      <td>4.293358</td>\n",
       "      <td>4.003340</td>\n",
       "      <td>0.291987</td>\n",
       "      <td>08:29</td>\n",
       "    </tr>\n",
       "    <tr>\n",
       "      <td>3</td>\n",
       "      <td>4.272007</td>\n",
       "      <td>3.990718</td>\n",
       "      <td>0.292921</td>\n",
       "      <td>08:31</td>\n",
       "    </tr>\n",
       "    <tr>\n",
       "      <td>4</td>\n",
       "      <td>4.262070</td>\n",
       "      <td>3.988740</td>\n",
       "      <td>0.293041</td>\n",
       "      <td>08:30</td>\n",
       "    </tr>\n",
       "  </tbody>\n",
       "</table>"
      ],
      "text/plain": [
       "<IPython.core.display.HTML object>"
      ]
     },
     "metadata": {},
     "output_type": "display_data"
    }
   ],
   "source": [
    "lrnr.fit_one_cycle(5) "
   ]
  },
  {
   "cell_type": "code",
   "execution_count": 15,
   "id": "a1fb04e6-f74f-4e8c-86ad-0a3fdc05f066",
   "metadata": {
    "id": "a1fb04e6-f74f-4e8c-86ad-0a3fdc05f066",
    "outputId": "3f37ec0e-84c3-4637-865c-9f878994f6be"
   },
   "outputs": [
    {
     "data": {
      "text/html": [],
      "text/plain": [
       "<IPython.core.display.HTML object>"
      ]
     },
     "metadata": {},
     "output_type": "display_data"
    },
    {
     "data": {
      "text/plain": [
       "\"i liked this movie because it cells wooden much . It something any other affects the guy a way , although Susan Sarandon does n't dare to discuss this . i went to step up the movie and watch it on the\""
      ]
     },
     "execution_count": 15,
     "metadata": {},
     "output_type": "execute_result"
    }
   ],
   "source": [
    "lrnr.predict('I liked this movie because',40) "
   ]
  },
  {
   "cell_type": "markdown",
   "id": "5df2e70f-5761-4762-86ab-a159b0bf8316",
   "metadata": {
    "id": "5df2e70f-5761-4762-86ab-a159b0bf8316"
   },
   "source": [
    "- 말이 안되는게 있긴 하겠지만 그럴듯해보임 \n",
    "- 실행할때마다 달라"
   ]
  },
  {
   "cell_type": "markdown",
   "id": "d9aeb71e-50b5-4785-9a70-657ff7a5b9ce",
   "metadata": {
    "id": "d9aeb71e-50b5-4785-9a70-657ff7a5b9ce"
   },
   "source": [
    "### 문제의설계 "
   ]
  },
  {
   "cell_type": "markdown",
   "id": "32d21f5e-4b9f-4656-bce5-17a882266c28",
   "metadata": {},
   "source": [
    "간단한 예제를 통한 이해"
   ]
  },
  {
   "cell_type": "code",
   "execution_count": 16,
   "id": "57b48d7f-65a5-469e-b1be-635d470f879f",
   "metadata": {
    "id": "57b48d7f-65a5-469e-b1be-635d470f879f",
    "outputId": "8eecbd82-86d9-43ef-8403-04741da62ffd"
   },
   "outputs": [
    {
     "data": {
      "text/plain": [
       "'h e l l o h e l l o h e l l o h e l l o h e l l o h e l l o h e l l o h e l l o h e l l o h e l l o h e l l o h e l l o h e l l o h e l l o h e l l o h e l l o h e l l o h e l l o h e l l o h e l l o h e l l o h e l l o h e l l o h e l l o h e l l o h e l l o h e l l o h e l l o h e l l o h e l l o h e l l o h e l l o h e l l o h e l l o h e l l o h e l l o h e l l o h e l l o h e l l o h e l l o h e l l o h e l l o h e l l o h e l l o h e l l o h e l l o h e l l o h e l l o h e l l o h e l l o h e l l o h e l l o h e l l o h e l l o h e l l o h e l l o h e l l o h e l l o h e l l o h e l l o h e l l o h e l l o h e l l o h e l l o h e l l o h e l l o h e l l o h e l l o h e l l o h e l l o h e l l o h e l l o h e l l o h e l l o h e l l o h e l l o h e l l o h e l l o h e l l o h e l l o h e l l o h e l l o h e l l o h e l l o h e l l o h e l l o h e l l o h e l l o h e l l o h e l l o h e l l o h e l l o h e l l o h e l l o h e l l o h e l l o h e l l o h e l l o h e l l o h e l l o '"
      ]
     },
     "execution_count": 16,
     "metadata": {},
     "output_type": "execute_result"
    }
   ],
   "source": [
    "text = 'h e l l o '*100 \n",
    "text "
   ]
  },
  {
   "cell_type": "code",
   "execution_count": 17,
   "id": "a022fb8e-9a10-4e0c-a196-8a19ca43e8eb",
   "metadata": {
    "id": "a022fb8e-9a10-4e0c-a196-8a19ca43e8eb",
    "outputId": "13f47784-0fa7-4835-914e-fcfcc06b56a8"
   },
   "outputs": [
    {
     "data": {
      "text/plain": [
       "['h', 'e', 'l', 'l', 'o', 'h', 'e', 'l', 'l', 'o']"
      ]
     },
     "execution_count": 17,
     "metadata": {},
     "output_type": "execute_result"
    }
   ],
   "source": [
    "tokens = text.split(' ')[:-1]\n",
    "tokens[:10]"
   ]
  },
  {
   "cell_type": "markdown",
   "id": "e4fb4e25-4227-4a3c-aa92-f7745767e717",
   "metadata": {
    "id": "e4fb4e25-4227-4a3c-aa92-f7745767e717"
   },
   "source": [
    "`-` 바로직전의 문자로 다음문자를 맞춰보자 \n",
    "\n",
    "- hello니까, h $\\to$ e, e$\\to$ l, l $\\to$ l/o (?), o $\\to$ h, ... \n",
    "- l 다음에 올 문자가 조금 애매하다. "
   ]
  },
  {
   "cell_type": "markdown",
   "id": "1fbf044f-4033-412f-a8d7-eca48293e5d9",
   "metadata": {
    "id": "1fbf044f-4033-412f-a8d7-eca48293e5d9"
   },
   "source": [
    "`-` 마치 아래의 표에서 $X \\to y$인 맵핑을 알아차려 $X$를 보고 $y$를 예측하듯이 "
   ]
  },
  {
   "cell_type": "markdown",
   "id": "9b8fbd5f-96d7-4950-b4f4-5f769c4557f8",
   "metadata": {
    "id": "9b8fbd5f-96d7-4950-b4f4-5f769c4557f8"
   },
   "source": [
    "|X|y|\n",
    "|:-:|:-:|\n",
    "|1|2|\n",
    "|2|4|\n",
    "|3|6|\n",
    "|1|2|\n",
    "|2|4|\n",
    "|3|6|\n",
    "|1|2|\n",
    "|2|4|\n",
    "|...|...|"
   ]
  },
  {
   "cell_type": "markdown",
   "id": "167eafed-d9a5-4bf5-ab40-9fbbf5628b8a",
   "metadata": {
    "id": "167eafed-d9a5-4bf5-ab40-9fbbf5628b8a"
   },
   "source": [
    "아래의 규칙을 알아차리는 것이 목표이다. "
   ]
  },
  {
   "cell_type": "markdown",
   "id": "8a9d853b-6575-4ee3-afcb-007bf5a5dba5",
   "metadata": {
    "id": "8a9d853b-6575-4ee3-afcb-007bf5a5dba5"
   },
   "source": [
    "|X|y|\n",
    "|:-:|:-:|\n",
    "|h|e|\n",
    "|e|l|\n",
    "|l|l/o|\n",
    "|o|h|\n",
    "|h|e|\n",
    "|...|...|"
   ]
  },
  {
   "cell_type": "markdown",
   "id": "77a4985e-0088-49b9-a3ea-0300c63352da",
   "metadata": {
    "id": "77a4985e-0088-49b9-a3ea-0300c63352da"
   },
   "source": [
    "### Embedding "
   ]
  },
  {
   "cell_type": "markdown",
   "id": "09cf718d-4de6-427f-82b5-40099a63b81c",
   "metadata": {
    "id": "09cf718d-4de6-427f-82b5-40099a63b81c"
   },
   "source": [
    "`-` X,y를 설정하자. "
   ]
  },
  {
   "cell_type": "code",
   "execution_count": 18,
   "id": "4f6b4b89-6079-4faf-adca-1bed8f5cb075",
   "metadata": {
    "id": "4f6b4b89-6079-4faf-adca-1bed8f5cb075",
    "outputId": "80ffc111-e8d9-427d-ba12-73241598d392"
   },
   "outputs": [
    {
     "data": {
      "text/plain": [
       "500"
      ]
     },
     "execution_count": 18,
     "metadata": {},
     "output_type": "execute_result"
    }
   ],
   "source": [
    "len(tokens)"
   ]
  },
  {
   "cell_type": "code",
   "execution_count": 19,
   "id": "b4a9d3cb-9c27-4086-ba8c-a1c46119058d",
   "metadata": {
    "id": "b4a9d3cb-9c27-4086-ba8c-a1c46119058d"
   },
   "outputs": [],
   "source": [
    "X= tokens[:(len(tokens)-1)]\n",
    "y= tokens[1:]"
   ]
  },
  {
   "cell_type": "markdown",
   "id": "3ae5c5c0-75ed-481a-8297-f9577427332c",
   "metadata": {},
   "source": [
    "x다음 y가 이어지는 알파벳 오도록 설정"
   ]
  },
  {
   "cell_type": "code",
   "execution_count": 20,
   "id": "e447adb5-2fbc-4c55-b5b9-8d32b8bf06ad",
   "metadata": {
    "id": "e447adb5-2fbc-4c55-b5b9-8d32b8bf06ad",
    "outputId": "069e3448-0be1-4525-fc13-c3767a6abda2"
   },
   "outputs": [
    {
     "data": {
      "text/plain": [
       "('h', 'e')"
      ]
     },
     "execution_count": 20,
     "metadata": {},
     "output_type": "execute_result"
    }
   ],
   "source": [
    "X[0],y[0]"
   ]
  },
  {
   "cell_type": "code",
   "execution_count": 21,
   "id": "aa53662f-8764-40fa-b2f2-325306e3b1bc",
   "metadata": {
    "id": "aa53662f-8764-40fa-b2f2-325306e3b1bc",
    "outputId": "d235a16f-d286-497d-fb98-67720aa9c3ed"
   },
   "outputs": [
    {
     "data": {
      "text/plain": [
       "('e', 'l')"
      ]
     },
     "execution_count": 21,
     "metadata": {},
     "output_type": "execute_result"
    }
   ],
   "source": [
    "X[1],y[1]"
   ]
  },
  {
   "cell_type": "code",
   "execution_count": 22,
   "id": "bdc5f005-ce76-47d5-92ff-31e68cc6cc7a",
   "metadata": {
    "id": "bdc5f005-ce76-47d5-92ff-31e68cc6cc7a",
    "outputId": "3ef8e9b7-7cd4-4015-daf3-e605645dad81"
   },
   "outputs": [
    {
     "name": "stdout",
     "output_type": "stream",
     "text": [
      "['h', 'e', 'l', 'l', 'o', 'h', 'e', 'l', 'l', 'o']\n",
      "['e', 'l', 'l', 'o', 'h', 'e', 'l', 'l', 'o', 'h']\n"
     ]
    }
   ],
   "source": [
    "print(X[:10])\n",
    "print(y[:10])"
   ]
  },
  {
   "cell_type": "markdown",
   "id": "27e5ad30-d735-4c8d-8aa3-f45014a8bb08",
   "metadata": {
    "id": "27e5ad30-d735-4c8d-8aa3-f45014a8bb08"
   },
   "source": [
    "`-` 이제 문자를 숫자로 바꾸어서 컴퓨터가 이해할수 있는 형태, 즉 학습가능한 형태로 만들자. "
   ]
  },
  {
   "cell_type": "code",
   "execution_count": 23,
   "id": "a9209870-3e42-4401-bc1a-3dcf24746347",
   "metadata": {
    "id": "a9209870-3e42-4401-bc1a-3dcf24746347",
    "outputId": "5756ce01-b035-4b0e-efd0-1e8023f8bf57"
   },
   "outputs": [
    {
     "data": {
      "text/plain": [
       "{'h': 0, 'e': 1, 'l': 2, 'o': 3}"
      ]
     },
     "execution_count": 23,
     "metadata": {},
     "output_type": "execute_result"
    }
   ],
   "source": [
    "dic = {'h':0, 'e':1, 'l':2, 'o':3} \n",
    "dic"
   ]
  },
  {
   "cell_type": "code",
   "execution_count": 24,
   "id": "ef01784f-5810-4192-b116-aa99a91a997a",
   "metadata": {
    "id": "ef01784f-5810-4192-b116-aa99a91a997a",
    "outputId": "bc2544e1-0e3b-4568-91ea-449fd9f6e8bb"
   },
   "outputs": [
    {
     "data": {
      "text/plain": [
       "(0, 1, 2, 3)"
      ]
     },
     "execution_count": 24,
     "metadata": {},
     "output_type": "execute_result"
    }
   ],
   "source": [
    "dic['h'],dic['e'],dic['l'],dic['o']"
   ]
  },
  {
   "cell_type": "code",
   "execution_count": 25,
   "id": "0126456b-2e38-49ac-bc12-6e13bf895ad0",
   "metadata": {
    "id": "0126456b-2e38-49ac-bc12-6e13bf895ad0"
   },
   "outputs": [],
   "source": [
    "nums = [dic[i] for i in tokens]"
   ]
  },
  {
   "cell_type": "code",
   "execution_count": 26,
   "id": "f5b7cbc7-80ac-493b-9fad-6ff015deb89c",
   "metadata": {
    "id": "f5b7cbc7-80ac-493b-9fad-6ff015deb89c",
    "outputId": "9a034bef-0359-4c5f-a80f-946f6d86bd15"
   },
   "outputs": [
    {
     "data": {
      "text/plain": [
       "(['h', 'e', 'l', 'l', 'o', 'h', 'e', 'l', 'l', 'o'],\n",
       " [0, 1, 2, 2, 3, 0, 1, 2, 2, 3])"
      ]
     },
     "execution_count": 26,
     "metadata": {},
     "output_type": "execute_result"
    }
   ],
   "source": [
    "tokens[:10], nums[:10]"
   ]
  },
  {
   "cell_type": "markdown",
   "id": "430250ed-fab1-4031-aaa2-9a870b7ba456",
   "metadata": {
    "id": "430250ed-fab1-4031-aaa2-9a870b7ba456"
   },
   "source": [
    "`-` (맵핑방식1) 아래와 같이 문자와 숫자를 맵핑하였다. "
   ]
  },
  {
   "cell_type": "markdown",
   "id": "a077f13d-b70d-40d7-81a3-7533f6a048f8",
   "metadata": {
    "id": "a077f13d-b70d-40d7-81a3-7533f6a048f8"
   },
   "source": [
    "|문자(tokens)|숫자(nums)|\n",
    "|:-:|:-:|\n",
    "|'h'|0|\n",
    "|'e'|1|\n",
    "|'l'|2|\n",
    "|'l'|2|\n",
    "|'o'|3|\n",
    "|'h'|0|\n",
    "|'e'|1|\n",
    "|'l'|2|\n",
    "|'l'|2|\n",
    "|'o'|3|\n",
    "|...|...|"
   ]
  },
  {
   "cell_type": "markdown",
   "id": "16b5d834-312c-487a-95b1-dffbc8a16784",
   "metadata": {
    "id": "16b5d834-312c-487a-95b1-dffbc8a16784"
   },
   "source": [
    "`-` (맵핑방식2) 위의 방식보다 아래의 방식이 더 의미상 좋다. 위의 방식대로 맵핑하면하면 의미가 `e=1`, `l=2`가 되는데 그렇다고 해서 `l이 e보다 2배 강한 입력`을 의미하는 것은 아니잖음? "
   ]
  },
  {
   "cell_type": "markdown",
   "id": "28d7adec-fc05-4784-b8f7-ed0c6f65177d",
   "metadata": {
    "id": "28d7adec-fc05-4784-b8f7-ed0c6f65177d"
   },
   "source": [
    "|문자(tokens)|숫자(nums)|\n",
    "|:-:|:-:|\n",
    "|'h'|1,0,0,0|\n",
    "|'e'|0,1,0,0|\n",
    "|'l'|0,0,1,0|\n",
    "|'l'|0,0,1,0|\n",
    "|'o'|0,0,0,1|\n",
    "|'h'|1,0,0,0|\n",
    "|'e'|0,1,0,0|\n",
    "|'l'|0,0,1,0|\n",
    "|'l'|0,0,1,0|\n",
    "|'o'|0,0,0,1|\n",
    "|...|...|"
   ]
  },
  {
   "cell_type": "markdown",
   "id": "7bdbf16c-a293-4f3c-a322-6dbaa82d35a3",
   "metadata": {
    "id": "7bdbf16c-a293-4f3c-a322-6dbaa82d35a3"
   },
   "source": [
    "`-` 맵핑방식2로 처리하고 싶은데, 데이터 전처리 하기가 너무 힘들것 같다. \n",
    "- 그런데 이러한것은 빈번하게 일어나는 상황 \n",
    "- 누군가가 구해놓지 않았을까? \n",
    "- torch.nn.Embedding"
   ]
  },
  {
   "cell_type": "markdown",
   "id": "69f6ab89-0635-4c2d-82fc-f3cf72537ebd",
   "metadata": {
    "id": "69f6ab89-0635-4c2d-82fc-f3cf72537ebd"
   },
   "source": [
    "`-` 맵핑방식1의 구현"
   ]
  },
  {
   "cell_type": "code",
   "execution_count": 27,
   "id": "94c67daa-fbdc-48e3-b883-0215caef6f74",
   "metadata": {
    "id": "94c67daa-fbdc-48e3-b883-0215caef6f74",
    "outputId": "60919a62-d825-4ced-c59a-ec3ad0bdc51d"
   },
   "outputs": [
    {
     "data": {
      "text/plain": [
       "tensor([[0.],\n",
       "        [1.],\n",
       "        [2.],\n",
       "        [2.],\n",
       "        [3.],\n",
       "        [0.],\n",
       "        [1.],\n",
       "        [2.],\n",
       "        [2.],\n",
       "        [3.]])"
      ]
     },
     "execution_count": 27,
     "metadata": {},
     "output_type": "execute_result"
    }
   ],
   "source": [
    "_x = torch.tensor([[0.0],[1.0],[2.0],[2.0],[3.0],[0.0],[1.0],[2.0],[2.0],[3.0]])\n",
    "_x "
   ]
  },
  {
   "cell_type": "markdown",
   "id": "038398a1-9ddd-4250-a21f-7d0e536b8968",
   "metadata": {},
   "source": [
    "column으로 만들기 위해 각각을 []에 넣어줌"
   ]
  },
  {
   "cell_type": "code",
   "execution_count": 28,
   "id": "53c35048-00b7-43ac-beb0-4364ac367ec6",
   "metadata": {
    "id": "53c35048-00b7-43ac-beb0-4364ac367ec6"
   },
   "outputs": [],
   "source": [
    "_l1 = torch.nn.Linear(in_features=1, out_features=20, bias=False) "
   ]
  },
  {
   "cell_type": "code",
   "execution_count": 30,
   "id": "5f5fda0a-e9dc-4a08-8bfc-aeff0a32a666",
   "metadata": {},
   "outputs": [
    {
     "data": {
      "text/plain": [
       "torch.Size([10, 20])"
      ]
     },
     "execution_count": 30,
     "metadata": {},
     "output_type": "execute_result"
    }
   ],
   "source": [
    "_l1(_x).shape"
   ]
  },
  {
   "cell_type": "code",
   "execution_count": 29,
   "id": "fe55f7f7-8ad5-4683-9ed5-82868b85d9b7",
   "metadata": {
    "id": "fe55f7f7-8ad5-4683-9ed5-82868b85d9b7",
    "outputId": "a62c0095-f8c1-4edc-fd98-c96bfd82c1bf"
   },
   "outputs": [
    {
     "data": {
      "text/plain": [
       "tensor([[ 0.0000, -0.0000,  0.0000,  0.0000, -0.0000, -0.0000, -0.0000,  0.0000,\n",
       "         -0.0000,  0.0000, -0.0000,  0.0000,  0.0000, -0.0000,  0.0000, -0.0000,\n",
       "          0.0000, -0.0000, -0.0000,  0.0000],\n",
       "        [ 0.3879, -0.5278,  0.6592,  0.5050, -0.4057, -0.1697, -0.9148,  0.7739,\n",
       "         -0.0408,  0.9071, -0.9085,  0.7083,  0.0870, -0.0630,  0.0993, -0.9907,\n",
       "          0.7534, -0.1981, -0.1808,  0.9388],\n",
       "        [ 0.7759, -1.0555,  1.3183,  1.0099, -0.8113, -0.3395, -1.8297,  1.5477,\n",
       "         -0.0815,  1.8141, -1.8170,  1.4166,  0.1741, -0.1261,  0.1987, -1.9813,\n",
       "          1.5068, -0.3961, -0.3617,  1.8776],\n",
       "        [ 0.7759, -1.0555,  1.3183,  1.0099, -0.8113, -0.3395, -1.8297,  1.5477,\n",
       "         -0.0815,  1.8141, -1.8170,  1.4166,  0.1741, -0.1261,  0.1987, -1.9813,\n",
       "          1.5068, -0.3961, -0.3617,  1.8776],\n",
       "        [ 1.1638, -1.5833,  1.9775,  1.5149, -1.2170, -0.5092, -2.7445,  2.3216,\n",
       "         -0.1223,  2.7212, -2.7255,  2.1250,  0.2611, -0.1891,  0.2980, -2.9720,\n",
       "          2.2602, -0.5942, -0.5425,  2.8165],\n",
       "        [ 0.0000, -0.0000,  0.0000,  0.0000, -0.0000, -0.0000, -0.0000,  0.0000,\n",
       "         -0.0000,  0.0000, -0.0000,  0.0000,  0.0000, -0.0000,  0.0000, -0.0000,\n",
       "          0.0000, -0.0000, -0.0000,  0.0000],\n",
       "        [ 0.3879, -0.5278,  0.6592,  0.5050, -0.4057, -0.1697, -0.9148,  0.7739,\n",
       "         -0.0408,  0.9071, -0.9085,  0.7083,  0.0870, -0.0630,  0.0993, -0.9907,\n",
       "          0.7534, -0.1981, -0.1808,  0.9388],\n",
       "        [ 0.7759, -1.0555,  1.3183,  1.0099, -0.8113, -0.3395, -1.8297,  1.5477,\n",
       "         -0.0815,  1.8141, -1.8170,  1.4166,  0.1741, -0.1261,  0.1987, -1.9813,\n",
       "          1.5068, -0.3961, -0.3617,  1.8776],\n",
       "        [ 0.7759, -1.0555,  1.3183,  1.0099, -0.8113, -0.3395, -1.8297,  1.5477,\n",
       "         -0.0815,  1.8141, -1.8170,  1.4166,  0.1741, -0.1261,  0.1987, -1.9813,\n",
       "          1.5068, -0.3961, -0.3617,  1.8776],\n",
       "        [ 1.1638, -1.5833,  1.9775,  1.5149, -1.2170, -0.5092, -2.7445,  2.3216,\n",
       "         -0.1223,  2.7212, -2.7255,  2.1250,  0.2611, -0.1891,  0.2980, -2.9720,\n",
       "          2.2602, -0.5942, -0.5425,  2.8165]], grad_fn=<MmBackward0>)"
      ]
     },
     "execution_count": 29,
     "metadata": {},
     "output_type": "execute_result"
    }
   ],
   "source": [
    "_l1(_x)"
   ]
  },
  {
   "cell_type": "markdown",
   "id": "e76c0e61-d924-4916-8515-8dc1012327e1",
   "metadata": {
    "id": "e76c0e61-d924-4916-8515-8dc1012327e1"
   },
   "source": [
    "- 입력: (10,1)\n",
    "- 출력: (10,20) "
   ]
  },
  {
   "cell_type": "markdown",
   "id": "c600dc52-2afd-4f01-9f75-19e63b00ec99",
   "metadata": {
    "id": "c600dc52-2afd-4f01-9f75-19e63b00ec99"
   },
   "source": [
    "`-` 맵핑방식2의 구현"
   ]
  },
  {
   "cell_type": "code",
   "execution_count": 31,
   "id": "c140a465-6fd5-4353-8ec4-a3f21ee3db4b",
   "metadata": {
    "id": "c140a465-6fd5-4353-8ec4-a3f21ee3db4b"
   },
   "outputs": [],
   "source": [
    "e1= torch.nn.Embedding(num_embeddings=4, embedding_dim=20) "
   ]
  },
  {
   "cell_type": "code",
   "execution_count": 32,
   "id": "fac41515-820f-4d86-be9d-f2e868d394ad",
   "metadata": {
    "id": "fac41515-820f-4d86-be9d-f2e868d394ad",
    "outputId": "8f0cfecd-fa3e-48ef-f25f-654d709ecd9b"
   },
   "outputs": [
    {
     "data": {
      "text/plain": [
       "tensor([0, 1, 2, 2, 3, 0, 1, 2, 2, 3])"
      ]
     },
     "execution_count": 32,
     "metadata": {},
     "output_type": "execute_result"
    }
   ],
   "source": [
    "_x = torch.tensor([0,1,2,2,3,0,1,2,2,3])\n",
    "_x"
   ]
  },
  {
   "cell_type": "code",
   "execution_count": 33,
   "id": "639b5920-c867-413b-8cbb-1e0b79e43b96",
   "metadata": {
    "id": "639b5920-c867-413b-8cbb-1e0b79e43b96",
    "outputId": "daafa4f3-6506-4280-8371-3499149b255a"
   },
   "outputs": [
    {
     "data": {
      "text/plain": [
       "tensor([[ 0.2254, -0.3840,  0.9268,  0.4517,  2.2971, -0.4934, -1.3508, -1.3967,\n",
       "          0.2507,  1.0178, -1.1175, -0.3891, -1.1492,  0.6222, -0.9820,  0.0778,\n",
       "          0.5645, -0.7270,  0.6511,  1.3918],\n",
       "        [ 0.6158,  1.1618,  1.0513, -2.2748,  0.4146,  1.1175,  1.0338,  0.9896,\n",
       "          0.3465,  0.2706,  2.2675, -0.3080, -0.5355,  0.0450, -0.0675, -0.4521,\n",
       "         -0.1553,  0.3424,  0.5461,  1.5637],\n",
       "        [ 0.5781, -0.6058,  0.9321, -1.0924,  0.4152, -0.4331, -1.3501,  2.2705,\n",
       "         -0.0448, -0.1180,  0.1774,  0.6332, -0.2868,  1.0492, -0.4399,  0.5393,\n",
       "          1.0011, -0.7080,  0.5177, -0.8671],\n",
       "        [ 0.5781, -0.6058,  0.9321, -1.0924,  0.4152, -0.4331, -1.3501,  2.2705,\n",
       "         -0.0448, -0.1180,  0.1774,  0.6332, -0.2868,  1.0492, -0.4399,  0.5393,\n",
       "          1.0011, -0.7080,  0.5177, -0.8671],\n",
       "        [-1.9725,  0.1694, -0.9259,  0.8846, -0.7848, -1.3822,  1.0476,  0.5490,\n",
       "         -0.4070, -0.5807, -0.6074, -0.4921, -0.3262,  1.4773,  1.3528,  0.0930,\n",
       "          1.1281, -0.0695,  0.3036,  1.9600],\n",
       "        [ 0.2254, -0.3840,  0.9268,  0.4517,  2.2971, -0.4934, -1.3508, -1.3967,\n",
       "          0.2507,  1.0178, -1.1175, -0.3891, -1.1492,  0.6222, -0.9820,  0.0778,\n",
       "          0.5645, -0.7270,  0.6511,  1.3918],\n",
       "        [ 0.6158,  1.1618,  1.0513, -2.2748,  0.4146,  1.1175,  1.0338,  0.9896,\n",
       "          0.3465,  0.2706,  2.2675, -0.3080, -0.5355,  0.0450, -0.0675, -0.4521,\n",
       "         -0.1553,  0.3424,  0.5461,  1.5637],\n",
       "        [ 0.5781, -0.6058,  0.9321, -1.0924,  0.4152, -0.4331, -1.3501,  2.2705,\n",
       "         -0.0448, -0.1180,  0.1774,  0.6332, -0.2868,  1.0492, -0.4399,  0.5393,\n",
       "          1.0011, -0.7080,  0.5177, -0.8671],\n",
       "        [ 0.5781, -0.6058,  0.9321, -1.0924,  0.4152, -0.4331, -1.3501,  2.2705,\n",
       "         -0.0448, -0.1180,  0.1774,  0.6332, -0.2868,  1.0492, -0.4399,  0.5393,\n",
       "          1.0011, -0.7080,  0.5177, -0.8671],\n",
       "        [-1.9725,  0.1694, -0.9259,  0.8846, -0.7848, -1.3822,  1.0476,  0.5490,\n",
       "         -0.4070, -0.5807, -0.6074, -0.4921, -0.3262,  1.4773,  1.3528,  0.0930,\n",
       "          1.1281, -0.0695,  0.3036,  1.9600]], grad_fn=<EmbeddingBackward0>)"
      ]
     },
     "execution_count": 33,
     "metadata": {},
     "output_type": "execute_result"
    }
   ],
   "source": [
    "e1(_x)"
   ]
  },
  {
   "cell_type": "markdown",
   "id": "a374584b-d41f-4299-9702-6bbeba49696e",
   "metadata": {
    "id": "a374584b-d41f-4299-9702-6bbeba49696e"
   },
   "source": [
    "- 입력 (10,1)\n",
    "- 출력 (10,20)"
   ]
  },
  {
   "cell_type": "markdown",
   "id": "8b3c0da1-a894-4517-8b7b-1bb4fe304579",
   "metadata": {
    "id": "8b3c0da1-a894-4517-8b7b-1bb4fe304579"
   },
   "source": [
    "`-` torch.nn.Linear(), torch.nn.Embedding() 의 차이가 없어보인다? $\\to$ 파라메터를 조사하면 차이가 있다"
   ]
  },
  {
   "cell_type": "code",
   "execution_count": 34,
   "id": "b21d9598-35aa-485d-bdf4-3a68ebf3f696",
   "metadata": {
    "id": "b21d9598-35aa-485d-bdf4-3a68ebf3f696",
    "outputId": "63119044-f326-4a29-c1f4-0d59082656af"
   },
   "outputs": [
    {
     "data": {
      "text/plain": [
       "20"
      ]
     },
     "execution_count": 34,
     "metadata": {},
     "output_type": "execute_result"
    }
   ],
   "source": [
    "len(list(_l1.parameters())[0])"
   ]
  },
  {
   "cell_type": "code",
   "execution_count": 35,
   "id": "b094e58d-0c2d-4a82-a8a7-c69afc16d233",
   "metadata": {
    "id": "b094e58d-0c2d-4a82-a8a7-c69afc16d233",
    "outputId": "7b7933f3-a3c4-4ed3-a58a-3908f77ff9de"
   },
   "outputs": [
    {
     "data": {
      "text/plain": [
       "torch.Size([4, 20])"
      ]
     },
     "execution_count": 35,
     "metadata": {},
     "output_type": "execute_result"
    }
   ],
   "source": [
    "list(e1.parameters())[0].shape"
   ]
  },
  {
   "cell_type": "markdown",
   "id": "8cb74d8f-2527-4cbb-8890-54a32cc13a87",
   "metadata": {
    "id": "8cb74d8f-2527-4cbb-8890-54a32cc13a87"
   },
   "source": [
    "`-` 결국에는 맵핑방식1의 경우 아래와 같이 이해할 수 있고 \n",
    "\n",
    "- ${\\bf X}$: (10,1) \n",
    "- ${\\bf W}$: (1,20) \n",
    "- ${\\bf XW}$: (10,20)"
   ]
  },
  {
   "cell_type": "markdown",
   "id": "acf252df-c083-4c67-a81a-524329806b77",
   "metadata": {
    "id": "acf252df-c083-4c67-a81a-524329806b77"
   },
   "source": [
    "`-` 맵핑방식2의 경우 아래와 같이 이해가능하다. \n",
    "\n",
    "- ${\\bf X}$: (10,1) \n",
    "- $\\tilde{\\bf X}$: (10,4) \n",
    "- ${\\bf W}$: (4,20) \n",
    "- $\\tilde{\\bf X}{\\bf W}$: (10,20)"
   ]
  },
  {
   "cell_type": "markdown",
   "id": "1a8e1740-44fe-457e-90e5-790766ff9def",
   "metadata": {},
   "source": [
    "여기서 4는 (0,0,0,0)(0,1,0,0)(0,0,1,0)(0,0,0,1)을 의미함"
   ]
  },
  {
   "cell_type": "markdown",
   "id": "af7d05d0-d683-49ed-b7e0-a0f1332a683c",
   "metadata": {
    "id": "af7d05d0-d683-49ed-b7e0-a0f1332a683c"
   },
   "source": [
    "`-` 결국 우리가 맵핑방식2처럼 구현하고 싶다고 해도, 입력은 아래와 같이 넣어도 무방하다. 이후에는 파이토치의 torch.nn.Embedding()이 알아서 해결해준다. "
   ]
  },
  {
   "cell_type": "code",
   "execution_count": 36,
   "id": "e0e4d096-8047-4874-be05-e2093162f4fa",
   "metadata": {
    "id": "e0e4d096-8047-4874-be05-e2093162f4fa",
    "outputId": "e06f205d-452c-4c92-bb0e-24db8e47c676"
   },
   "outputs": [
    {
     "data": {
      "text/plain": [
       "tensor([0, 1, 2, 2, 3, 0, 1, 2, 2, 3])"
      ]
     },
     "execution_count": 36,
     "metadata": {},
     "output_type": "execute_result"
    }
   ],
   "source": [
    "_x"
   ]
  },
  {
   "cell_type": "markdown",
   "id": "2cf41e02-057b-430e-9e96-272ee5b18047",
   "metadata": {
    "id": "2cf41e02-057b-430e-9e96-272ee5b18047"
   },
   "source": [
    "### 네트워크 구축 "
   ]
  },
  {
   "cell_type": "markdown",
   "id": "b9c79888-867f-4e63-805f-697b55defd7d",
   "metadata": {
    "id": "b9c79888-867f-4e63-805f-697b55defd7d"
   },
   "source": [
    "`-` 이제 숫자화된 자료 `nums`를 이용하여 다시 X,y를 선언하자."
   ]
  },
  {
   "cell_type": "code",
   "execution_count": 37,
   "id": "7f202249-6693-479a-a849-5980e05ea4d5",
   "metadata": {
    "id": "7f202249-6693-479a-a849-5980e05ea4d5"
   },
   "outputs": [],
   "source": [
    "X = torch.tensor(nums[:499]) \n",
    "y = torch.tensor(nums[1:]) "
   ]
  },
  {
   "cell_type": "code",
   "execution_count": 38,
   "id": "4b9f57e9-e287-4615-bf7c-e811fbf7d85f",
   "metadata": {
    "id": "4b9f57e9-e287-4615-bf7c-e811fbf7d85f",
    "outputId": "30bd5ef9-f472-41d3-d6a9-f01a1affa3cb"
   },
   "outputs": [
    {
     "data": {
      "text/plain": [
       "(tensor(0), tensor(1))"
      ]
     },
     "execution_count": 38,
     "metadata": {},
     "output_type": "execute_result"
    }
   ],
   "source": [
    "X[0],y[0]"
   ]
  },
  {
   "cell_type": "markdown",
   "id": "7079a36e-93ab-4c37-b40f-2dd33681ccc7",
   "metadata": {},
   "source": [
    "위에서는 h,e였지"
   ]
  },
  {
   "cell_type": "code",
   "execution_count": 39,
   "id": "4e7f8dd1-82c4-43f5-851d-519377b139b1",
   "metadata": {
    "id": "4e7f8dd1-82c4-43f5-851d-519377b139b1",
    "outputId": "3bd6ac79-808b-4cad-f2ad-3de0cec6dffe"
   },
   "outputs": [
    {
     "data": {
      "text/plain": [
       "(tensor(1), tensor(2))"
      ]
     },
     "execution_count": 39,
     "metadata": {},
     "output_type": "execute_result"
    }
   ],
   "source": [
    "X[1],y[1]"
   ]
  },
  {
   "cell_type": "markdown",
   "id": "2ec460bd-2d80-4840-a36f-1df2740d4e04",
   "metadata": {},
   "source": [
    "위에서는 e,l이었지"
   ]
  },
  {
   "cell_type": "markdown",
   "id": "8eda24bb-9102-4e84-9083-f8c2ba8ac5c1",
   "metadata": {
    "id": "8eda24bb-9102-4e84-9083-f8c2ba8ac5c1"
   },
   "source": [
    "`-` 간단한 네트워크를 설계하자. "
   ]
  },
  {
   "cell_type": "code",
   "execution_count": 40,
   "id": "93e87db8-a46c-43c3-9bec-5f474832f069",
   "metadata": {
    "id": "93e87db8-a46c-43c3-9bec-5f474832f069"
   },
   "outputs": [],
   "source": [
    "e1=torch.nn.Embedding(num_embeddings=4, embedding_dim=20) \n",
    "l1=torch.nn.Linear(in_features=20,out_features=20)\n",
    "a1=torch.nn.ReLU()\n",
    "l2=torch.nn.Linear(in_features=20,out_features=4) \n",
    "a2=torch.nn.Softmax() "
   ]
  },
  {
   "cell_type": "code",
   "execution_count": 41,
   "id": "c5fbd4b7-cdeb-4f33-8e65-9295822bebf2",
   "metadata": {
    "id": "c5fbd4b7-cdeb-4f33-8e65-9295822bebf2",
    "outputId": "61168ed1-2465-44f4-c8a4-2ce66c4ccd8b"
   },
   "outputs": [
    {
     "data": {
      "text/plain": [
       "(torch.Size([499]), torch.Size([499, 20]))"
      ]
     },
     "execution_count": 41,
     "metadata": {},
     "output_type": "execute_result"
    }
   ],
   "source": [
    "X.shape, e1(X).shape"
   ]
  },
  {
   "cell_type": "code",
   "execution_count": 42,
   "id": "7c09caa3-8713-498f-a421-368160c37c3e",
   "metadata": {
    "id": "7c09caa3-8713-498f-a421-368160c37c3e",
    "outputId": "0a504213-2b73-4251-e07c-ac4e1d662a01"
   },
   "outputs": [
    {
     "data": {
      "text/plain": [
       "(torch.Size([499, 20]), torch.Size([499, 20]))"
      ]
     },
     "execution_count": 42,
     "metadata": {},
     "output_type": "execute_result"
    }
   ],
   "source": [
    "e1(X).shape, a1(l1(e1(X))).shape"
   ]
  },
  {
   "cell_type": "code",
   "execution_count": 43,
   "id": "bc07086f-4db8-4115-8076-b28d89518830",
   "metadata": {
    "id": "bc07086f-4db8-4115-8076-b28d89518830",
    "outputId": "84ec6b1f-cc64-4709-9b7d-83b5a4589cfa"
   },
   "outputs": [
    {
     "data": {
      "text/plain": [
       "(torch.Size([499, 20]), torch.Size([499, 4]))"
      ]
     },
     "execution_count": 43,
     "metadata": {},
     "output_type": "execute_result"
    }
   ],
   "source": [
    "a1(l1(e1(X))).shape, l2(a1(l1(e1(X)))).shape"
   ]
  },
  {
   "cell_type": "code",
   "execution_count": 45,
   "id": "75608e7d-a6cb-419a-8e93-a0e7c751a502",
   "metadata": {
    "id": "75608e7d-a6cb-419a-8e93-a0e7c751a502",
    "outputId": "79c7105b-0357-4c23-fec9-26bf7291e7f4"
   },
   "outputs": [
    {
     "name": "stderr",
     "output_type": "stream",
     "text": [
      "<ipython-input-45-6a5d66616296>:1: UserWarning: Implicit dimension choice for softmax has been deprecated. Change the call to include dim=X as an argument.\n",
      "  a2(l2(a1(l1(e1(X))))).shape\n"
     ]
    },
    {
     "data": {
      "text/plain": [
       "torch.Size([499, 4])"
      ]
     },
     "execution_count": 45,
     "metadata": {},
     "output_type": "execute_result"
    }
   ],
   "source": [
    "a2(l2(a1(l1(e1(X))))).shape"
   ]
  },
  {
   "cell_type": "markdown",
   "id": "a40655e4-5ea6-4140-b9d0-aba013a2e627",
   "metadata": {
    "id": "a40655e4-5ea6-4140-b9d0-aba013a2e627"
   },
   "source": [
    "- $X$의 차원이 정확하게 명시되지 않아서 대충 컴퓨터가 알아서 계산했다라는 뜻의 워닝 "
   ]
  },
  {
   "cell_type": "markdown",
   "id": "5f0666f0-ae39-4f5b-aefd-41f06c7deb37",
   "metadata": {
    "id": "5f0666f0-ae39-4f5b-aefd-41f06c7deb37"
   },
   "source": [
    "`-` warning이 떠도 맞게 실행되었나 확인하기 위해 softmax를 수동으로 직접 계산해봄 "
   ]
  },
  {
   "cell_type": "code",
   "execution_count": 46,
   "id": "93ab341f-909c-48dc-90ef-9f8343a5e62a",
   "metadata": {
    "id": "93ab341f-909c-48dc-90ef-9f8343a5e62a",
    "outputId": "c2e91cbc-f6ea-482a-a559-7f442c00538e"
   },
   "outputs": [
    {
     "data": {
      "text/plain": [
       "tensor([ 0.2303, -0.2560,  0.0649, -0.1178], grad_fn=<SelectBackward0>)"
      ]
     },
     "execution_count": 46,
     "metadata": {},
     "output_type": "execute_result"
    }
   ],
   "source": [
    "l2(a1(l1(e1(X))))[0]"
   ]
  },
  {
   "cell_type": "code",
   "execution_count": 51,
   "id": "086f8a1b-3602-434d-a779-e1ff8cb9bfcb",
   "metadata": {
    "id": "086f8a1b-3602-434d-a779-e1ff8cb9bfcb",
    "outputId": "718408f5-caf1-4b22-b9e9-f80d99bed1aa"
   },
   "outputs": [
    {
     "data": {
      "text/plain": [
       "0.31560872675242624"
      ]
     },
     "execution_count": 51,
     "metadata": {},
     "output_type": "execute_result"
    }
   ],
   "source": [
    "np.exp(0.2303)/(np.exp(0.2303)+np.exp( -0.2560)+np.exp(0.0649)+np.exp(-0.1178))"
   ]
  },
  {
   "cell_type": "code",
   "execution_count": 52,
   "id": "b1470661-6a9f-4180-9326-8013dcbb9817",
   "metadata": {
    "id": "086f8a1b-3602-434d-a779-e1ff8cb9bfcb",
    "outputId": "718408f5-caf1-4b22-b9e9-f80d99bed1aa"
   },
   "outputs": [
    {
     "data": {
      "text/plain": [
       "0.1940669572337474"
      ]
     },
     "execution_count": 52,
     "metadata": {},
     "output_type": "execute_result"
    }
   ],
   "source": [
    "np.exp(-0.2560)/(np.exp(0.2303)+np.exp(-0.2560)+np.exp(0.0649)+np.exp(-0.1178))"
   ]
  },
  {
   "cell_type": "code",
   "execution_count": 53,
   "id": "4aed14a3-f098-4b02-b7e6-78c0b2257f7d",
   "metadata": {
    "id": "086f8a1b-3602-434d-a779-e1ff8cb9bfcb",
    "outputId": "718408f5-caf1-4b22-b9e9-f80d99bed1aa"
   },
   "outputs": [
    {
     "data": {
      "text/plain": [
       "0.2674956327129962"
      ]
     },
     "execution_count": 53,
     "metadata": {},
     "output_type": "execute_result"
    }
   ],
   "source": [
    "np.exp(0.0649)/(np.exp(0.2303)+np.exp( -0.2560)+np.exp(0.0649)+np.exp(-0.1178))"
   ]
  },
  {
   "cell_type": "code",
   "execution_count": 54,
   "id": "3e2c1079-53e6-4d02-bb55-0f9ebf93088a",
   "metadata": {
    "id": "086f8a1b-3602-434d-a779-e1ff8cb9bfcb",
    "outputId": "718408f5-caf1-4b22-b9e9-f80d99bed1aa"
   },
   "outputs": [
    {
     "data": {
      "text/plain": [
       "0.22282868330083022"
      ]
     },
     "execution_count": 54,
     "metadata": {},
     "output_type": "execute_result"
    }
   ],
   "source": [
    "np.exp(-0.1178)/(np.exp(0.2303)+np.exp( -0.2560)+np.exp(0.0649)+np.exp(-0.1178))"
   ]
  },
  {
   "cell_type": "code",
   "execution_count": 50,
   "id": "dba156e3-8470-4d37-85f8-68aa9218db79",
   "metadata": {
    "id": "dba156e3-8470-4d37-85f8-68aa9218db79",
    "outputId": "d19bf4b4-e49f-4bb5-e645-8201903ea980"
   },
   "outputs": [
    {
     "name": "stderr",
     "output_type": "stream",
     "text": [
      "<ipython-input-50-17d00ccf79de>:1: UserWarning: Implicit dimension choice for softmax has been deprecated. Change the call to include dim=X as an argument.\n",
      "  a2(l2(a1(l1(e1(X)))))[0]\n"
     ]
    },
    {
     "data": {
      "text/plain": [
       "tensor([0.3156, 0.1941, 0.2675, 0.2228], grad_fn=<SelectBackward0>)"
      ]
     },
     "execution_count": 50,
     "metadata": {},
     "output_type": "execute_result"
    }
   ],
   "source": [
    "a2(l2(a1(l1(e1(X)))))[0]"
   ]
  },
  {
   "cell_type": "markdown",
   "id": "27d66e89-8b23-4429-a0f1-415284d305d4",
   "metadata": {
    "id": "27d66e89-8b23-4429-a0f1-415284d305d4"
   },
   "source": [
    "- 잘 계산된것 같다. "
   ]
  },
  {
   "cell_type": "markdown",
   "id": "084dd9d9-2dd5-4b64-8bda-1efd83637ceb",
   "metadata": {},
   "source": [
    "위에서 학습을 잘했다면, e가 (0,1,0,0) 이런식으로 나오게끔 값이 조정될것"
   ]
  },
  {
   "cell_type": "markdown",
   "id": "8539696a-3288-4dcd-909d-9937cf2eb28c",
   "metadata": {
    "id": "8539696a-3288-4dcd-909d-9937cf2eb28c"
   },
   "source": [
    "`-` 순전파의 차원변화 요약 \n",
    "\n",
    "```\n",
    "torch.Size([499]) # X\n",
    "torch.Size([499, 20]) # e1이후\n",
    "torch.Size([499, 20]) # l1이후  \n",
    "torch.Size([499, 20]) # a1이후 \n",
    "torch.Size([499, 4]) # l1이후 \n",
    "torch.Size([499, 4]) # a2이후 = yhat \n",
    "```"
   ]
  },
  {
   "cell_type": "code",
   "execution_count": 55,
   "id": "94c189f1-935d-4718-9f7e-4ad1b02a14eb",
   "metadata": {
    "id": "94c189f1-935d-4718-9f7e-4ad1b02a14eb"
   },
   "outputs": [],
   "source": [
    "net = torch.nn.Sequential(\n",
    "    torch.nn.Embedding(num_embeddings=4,embedding_dim=20),\n",
    "    torch.nn.Linear(in_features=20,out_features=20), \n",
    "    torch.nn.ReLU(),\n",
    "    torch.nn.Linear(in_features=20,out_features=4))\n",
    "    #torch.nn.Softmax()"
   ]
  },
  {
   "cell_type": "markdown",
   "id": "e6531551-6981-4610-a411-ef4b8a9aab3e",
   "metadata": {},
   "source": [
    "softmax는 손실함수로 빼서 계산할 거야"
   ]
  },
  {
   "cell_type": "code",
   "execution_count": 56,
   "id": "dc29bd6e-a585-4afd-915e-fba935875955",
   "metadata": {
    "id": "dc29bd6e-a585-4afd-915e-fba935875955",
    "outputId": "7ddd3a7c-871f-410f-a252-a22092ff9b4f"
   },
   "outputs": [
    {
     "data": {
      "text/plain": [
       "tensor([[-0.2585,  0.1341,  0.0437, -0.1027],\n",
       "        [-0.3168,  0.0997, -0.0775, -0.2730],\n",
       "        [-0.3455,  0.2284, -0.0816,  0.1940],\n",
       "        ...,\n",
       "        [-0.3168,  0.0997, -0.0775, -0.2730],\n",
       "        [-0.3455,  0.2284, -0.0816,  0.1940],\n",
       "        [-0.3455,  0.2284, -0.0816,  0.1940]], grad_fn=<AddmmBackward0>)"
      ]
     },
     "execution_count": 56,
     "metadata": {},
     "output_type": "execute_result"
    }
   ],
   "source": [
    "net(X)"
   ]
  },
  {
   "cell_type": "markdown",
   "id": "d1734484-ede7-4d59-baf8-ba9ef3ad54cb",
   "metadata": {
    "id": "d1734484-ede7-4d59-baf8-ba9ef3ad54cb"
   },
   "source": [
    "`-` 손실함수, 옵티마이저 "
   ]
  },
  {
   "cell_type": "code",
   "execution_count": 58,
   "id": "78b266ae-f517-44f3-b653-08bb0dcb8e8d",
   "metadata": {
    "id": "78b266ae-f517-44f3-b653-08bb0dcb8e8d"
   },
   "outputs": [],
   "source": [
    "loss_fn = torch.nn.CrossEntropyLoss()\n",
    "optimizer = torch.optim.Adam(net.parameters())"
   ]
  },
  {
   "cell_type": "markdown",
   "id": "0d02ab97-6c3a-4374-89c3-b9d51325cc19",
   "metadata": {
    "id": "0d02ab97-6c3a-4374-89c3-b9d51325cc19"
   },
   "source": [
    "`-` 학습"
   ]
  },
  {
   "cell_type": "code",
   "execution_count": 59,
   "id": "ec0e4890-4849-4e32-b938-586bb0bd37f0",
   "metadata": {
    "id": "ec0e4890-4849-4e32-b938-586bb0bd37f0"
   },
   "outputs": [],
   "source": [
    "for i in range(1000): \n",
    "    ## 1 \n",
    "    yhat = net(X)\n",
    "    ## 2 \n",
    "    loss = loss_fn(yhat,y) \n",
    "    ## 3 \n",
    "    loss.backward()\n",
    "    ## 4 \n",
    "    optimizer.step()\n",
    "    optimizer.zero_grad()"
   ]
  },
  {
   "cell_type": "code",
   "execution_count": 60,
   "id": "bfa96905-8016-4550-ace4-6f2ea0f399df",
   "metadata": {
    "id": "bfa96905-8016-4550-ace4-6f2ea0f399df",
    "outputId": "52ee133e-fbdf-4b91-8296-42ac6323a393"
   },
   "outputs": [
    {
     "data": {
      "text/plain": [
       "tensor([0, 1, 2, 2, 3, 0, 1])"
      ]
     },
     "execution_count": 60,
     "metadata": {},
     "output_type": "execute_result"
    }
   ],
   "source": [
    "X[:7]"
   ]
  },
  {
   "cell_type": "code",
   "execution_count": 61,
   "id": "d026dd54-f8c5-41b0-8af4-0c171a9413d6",
   "metadata": {
    "id": "d026dd54-f8c5-41b0-8af4-0c171a9413d6",
    "outputId": "83e3c3ef-4fea-4c09-aedf-e3b278517dc9"
   },
   "outputs": [
    {
     "data": {
      "text/plain": [
       "tensor([[-3.0674,  5.6732, -1.9852, -3.5369],\n",
       "        [-4.0728, -3.9873,  4.0940, -3.9972],\n",
       "        [-4.8514, -3.8910,  3.7314,  3.7311],\n",
       "        [-4.8514, -3.8910,  3.7314,  3.7311],\n",
       "        [ 5.3389, -2.6426, -2.3245, -3.6480],\n",
       "        [-3.0674,  5.6732, -1.9852, -3.5369],\n",
       "        [-4.0728, -3.9873,  4.0940, -3.9972]], grad_fn=<SliceBackward0>)"
      ]
     },
     "execution_count": 61,
     "metadata": {},
     "output_type": "execute_result"
    }
   ],
   "source": [
    "net(X)[:7]"
   ]
  },
  {
   "cell_type": "markdown",
   "id": "2f9cf5c1-f588-4c1f-9ba4-6753efca73f7",
   "metadata": {
    "id": "2f9cf5c1-f588-4c1f-9ba4-6753efca73f7"
   },
   "source": [
    "- 학습이 잘 되었다. "
   ]
  },
  {
   "cell_type": "code",
   "execution_count": 62,
   "id": "ea48e7a7-0b86-4b64-9cb4-cb6cbf7b0c51",
   "metadata": {},
   "outputs": [
    {
     "name": "stderr",
     "output_type": "stream",
     "text": [
      "<ipython-input-62-407a0f11aae6>:1: UserWarning: Implicit dimension choice for softmax has been deprecated. Change the call to include dim=X as an argument.\n",
      "  a2(net(X)[:7])\n"
     ]
    },
    {
     "data": {
      "text/plain": [
       "tensor([[1.5983e-04, 9.9927e-01, 4.7173e-04, 9.9953e-05],\n",
       "        [2.8370e-04, 3.0900e-04, 9.9910e-01, 3.0596e-04],\n",
       "        [9.3631e-05, 2.4464e-04, 4.9992e-01, 4.9975e-01],\n",
       "        [9.3631e-05, 2.4464e-04, 4.9992e-01, 4.9975e-01],\n",
       "        [9.9906e-01, 3.4141e-04, 4.6926e-04, 1.2492e-04],\n",
       "        [1.5983e-04, 9.9927e-01, 4.7173e-04, 9.9953e-05],\n",
       "        [2.8370e-04, 3.0900e-04, 9.9910e-01, 3.0596e-04]],\n",
       "       grad_fn=<SoftmaxBackward0>)"
      ]
     },
     "execution_count": 62,
     "metadata": {},
     "output_type": "execute_result"
    }
   ],
   "source": [
    "a2(net(X)[:7])"
   ]
  },
  {
   "cell_type": "markdown",
   "id": "5a73738c-00f7-462e-9ece-e37545202b18",
   "metadata": {
    "id": "5a73738c-00f7-462e-9ece-e37545202b18"
   },
   "source": [
    "### net의 개선 "
   ]
  },
  {
   "cell_type": "markdown",
   "id": "4f477e31-80c3-4f32-8c62-767a20723ea5",
   "metadata": {
    "id": "4f477e31-80c3-4f32-8c62-767a20723ea5"
   },
   "source": [
    "`-` 단어수(num_embeddings)가 4에서 바뀔때마다 아래를 반복하여 입력해야할까? \n",
    "\n",
    "```python\n",
    "net = torch.nn.Sequential(\n",
    "    torch.nn.Embedding(num_embeddings=4,embedding_dim=20),\n",
    "    torch.nn.Linear(in_features=20,out_features=20), \n",
    "    torch.nn.ReLU(),\n",
    "    torch.nn.Linear(in_features=20,out_features=4))\n",
    "    #torch.nn.Softmax()\n",
    "```"
   ]
  },
  {
   "cell_type": "markdown",
   "id": "eac88a81-7e3b-4949-be0a-526b24be10ec",
   "metadata": {
    "id": "eac88a81-7e3b-4949-be0a-526b24be10ec"
   },
   "source": [
    "`-` `net`을 찍어내는 무언가가 있으면 좋겠다. 제가 만들어볼게요!"
   ]
  },
  {
   "cell_type": "code",
   "execution_count": 63,
   "id": "681a83ec-3ac8-46e2-928a-824212914e73",
   "metadata": {
    "id": "681a83ec-3ac8-46e2-928a-824212914e73"
   },
   "outputs": [],
   "source": [
    "class BDA(Module): \n",
    "    def __init__(self, num_embeddings): \n",
    "        self.embedding = torch.nn.Embedding(num_embeddings,20)\n",
    "        self.linear1 = torch.nn.Linear(in_features=20,out_features=20)\n",
    "        self.relu = torch.nn.ReLU()\n",
    "        self.linear2 = torch.nn.Linear(in_features=20,out_features=num_embeddings)\n",
    "    def forward(self, X): # net(X)를 계산해주는 방식 \n",
    "        u=self.linear1(self.embedding(X))\n",
    "        v=self.relu(u)\n",
    "        return self.linear2(v) # net(X)의 결과"
   ]
  },
  {
   "cell_type": "code",
   "execution_count": 64,
   "id": "c35f24bd-b4dd-4f56-93b5-c7c54d5333d2",
   "metadata": {
    "id": "c35f24bd-b4dd-4f56-93b5-c7c54d5333d2"
   },
   "outputs": [],
   "source": [
    "net2 = BDA(4) "
   ]
  },
  {
   "cell_type": "code",
   "execution_count": 65,
   "id": "610586f5-bf3f-4f2e-9cff-b0ccd4af6f66",
   "metadata": {
    "id": "610586f5-bf3f-4f2e-9cff-b0ccd4af6f66",
    "outputId": "ad201ce1-51fe-4840-bc6d-710c25a010b7"
   },
   "outputs": [
    {
     "data": {
      "text/plain": [
       "Sequential(\n",
       "  (0): Embedding(4, 20)\n",
       "  (1): Linear(in_features=20, out_features=20, bias=True)\n",
       "  (2): ReLU()\n",
       "  (3): Linear(in_features=20, out_features=4, bias=True)\n",
       ")"
      ]
     },
     "execution_count": 65,
     "metadata": {},
     "output_type": "execute_result"
    }
   ],
   "source": [
    "net"
   ]
  },
  {
   "cell_type": "code",
   "execution_count": 66,
   "id": "364571ad-ec12-4580-bbf8-ecd033ac8d0d",
   "metadata": {
    "id": "364571ad-ec12-4580-bbf8-ecd033ac8d0d",
    "outputId": "32d8ca48-d46d-46e1-99dc-30d79ed56d8f"
   },
   "outputs": [
    {
     "data": {
      "text/plain": [
       "BDA(\n",
       "  (embedding): Embedding(4, 20)\n",
       "  (linear1): Linear(in_features=20, out_features=20, bias=True)\n",
       "  (relu): ReLU()\n",
       "  (linear2): Linear(in_features=20, out_features=4, bias=True)\n",
       ")"
      ]
     },
     "execution_count": 66,
     "metadata": {},
     "output_type": "execute_result"
    }
   ],
   "source": [
    "net2"
   ]
  },
  {
   "cell_type": "markdown",
   "id": "8bbb892f-6b8d-4c8f-a660-0886fd24e1fd",
   "metadata": {
    "id": "8bbb892f-6b8d-4c8f-a660-0886fd24e1fd"
   },
   "source": [
    "`-` net2도 학습하여 net와 동일한 결과가 나오는지 체크해보자. "
   ]
  },
  {
   "cell_type": "code",
   "execution_count": 67,
   "id": "b733279b-2453-429e-b43d-b220b93d8a77",
   "metadata": {
    "id": "b733279b-2453-429e-b43d-b220b93d8a77"
   },
   "outputs": [],
   "source": [
    "loss_fn= torch.nn.CrossEntropyLoss()\n",
    "optimizer2 = torch.optim.Adam(net2.parameters())"
   ]
  },
  {
   "cell_type": "code",
   "execution_count": 68,
   "id": "11ff2af1-3964-4319-b2ed-db1b52705278",
   "metadata": {
    "id": "11ff2af1-3964-4319-b2ed-db1b52705278"
   },
   "outputs": [],
   "source": [
    "for i in range(1000):\n",
    "    ## 1 \n",
    "    yhat = net2(X) \n",
    "    ## 2 \n",
    "    loss = loss_fn(yhat,y) \n",
    "    ## 3\n",
    "    loss.backward()\n",
    "    ## 4 \n",
    "    optimizer2.step()\n",
    "    optimizer2.zero_grad()"
   ]
  },
  {
   "cell_type": "code",
   "execution_count": 69,
   "id": "48267df1-a522-45fd-8849-69324ec8c934",
   "metadata": {
    "id": "48267df1-a522-45fd-8849-69324ec8c934",
    "outputId": "22b43dd0-a8bd-4272-e716-dea386b32469"
   },
   "outputs": [
    {
     "data": {
      "text/plain": [
       "tensor([[-3.7872,  5.4197, -2.2008, -3.8995],\n",
       "        [-4.3267, -5.5556,  4.3692, -3.0839],\n",
       "        [-5.8338, -5.0290,  2.7784,  2.7775],\n",
       "        ...,\n",
       "        [-4.3267, -5.5556,  4.3692, -3.0839],\n",
       "        [-5.8338, -5.0290,  2.7784,  2.7775],\n",
       "        [-5.8338, -5.0290,  2.7784,  2.7775]], grad_fn=<AddmmBackward0>)"
      ]
     },
     "execution_count": 69,
     "metadata": {},
     "output_type": "execute_result"
    }
   ],
   "source": [
    "net2(X) "
   ]
  },
  {
   "cell_type": "code",
   "execution_count": 70,
   "id": "8e11c331-76b4-4a46-bea2-8c3a135e5d27",
   "metadata": {
    "id": "8e11c331-76b4-4a46-bea2-8c3a135e5d27",
    "outputId": "b8ff250e-4d80-4526-8cc1-3e56b4bfa98f"
   },
   "outputs": [
    {
     "data": {
      "text/plain": [
       "tensor([[-3.0674,  5.6732, -1.9852, -3.5369],\n",
       "        [-4.0728, -3.9873,  4.0940, -3.9972],\n",
       "        [-4.8514, -3.8910,  3.7314,  3.7311],\n",
       "        ...,\n",
       "        [-4.0728, -3.9873,  4.0940, -3.9972],\n",
       "        [-4.8514, -3.8910,  3.7314,  3.7311],\n",
       "        [-4.8514, -3.8910,  3.7314,  3.7311]], grad_fn=<AddmmBackward0>)"
      ]
     },
     "execution_count": 70,
     "metadata": {},
     "output_type": "execute_result"
    }
   ],
   "source": [
    "net(X)"
   ]
  },
  {
   "cell_type": "markdown",
   "id": "140aa942-8962-407d-b4f6-bca73c169337",
   "metadata": {
    "id": "140aa942-8962-407d-b4f6-bca73c169337"
   },
   "source": [
    "`-` net2도 잘 학습되었다. "
   ]
  },
  {
   "cell_type": "markdown",
   "id": "627bc1fd-4d38-4d54-9cdc-a0fa94d6f7cc",
   "metadata": {
    "id": "627bc1fd-4d38-4d54-9cdc-a0fa94d6f7cc"
   },
   "source": [
    "### 이전 2개의 글자를 보고 다음 글자를 맞추어보자. "
   ]
  },
  {
   "cell_type": "markdown",
   "id": "987eebd2-4651-4a82-8a45-649da5681dca",
   "metadata": {
    "id": "987eebd2-4651-4a82-8a45-649da5681dca"
   },
   "source": [
    "`-` X,y 를 다시 설정하자. "
   ]
  },
  {
   "cell_type": "code",
   "execution_count": 71,
   "id": "c772a26e-b2c0-4965-bef0-80c2507f8047",
   "metadata": {
    "id": "c772a26e-b2c0-4965-bef0-80c2507f8047"
   },
   "outputs": [],
   "source": [
    "X = torch.tensor([nums[:498],nums[1:499]]).T\n",
    "y = torch.tensor(nums[2:])"
   ]
  },
  {
   "cell_type": "code",
   "execution_count": 72,
   "id": "5fd255ac-76cd-4fda-8e07-b2579fc58ae9",
   "metadata": {
    "id": "5fd255ac-76cd-4fda-8e07-b2579fc58ae9",
    "outputId": "d99f8d5f-f1b1-4da8-a73a-6e21ca1e7c55"
   },
   "outputs": [
    {
     "data": {
      "text/plain": [
       "(tensor([0, 1]), tensor(2))"
      ]
     },
     "execution_count": 72,
     "metadata": {},
     "output_type": "execute_result"
    }
   ],
   "source": [
    "X[0],y[0] # h,e -> l "
   ]
  },
  {
   "cell_type": "code",
   "execution_count": 73,
   "id": "da284b3a-da96-47f0-ba4a-aab92e776747",
   "metadata": {
    "id": "da284b3a-da96-47f0-ba4a-aab92e776747",
    "outputId": "1ae0166a-956f-441a-cc72-5b9c4da348a4"
   },
   "outputs": [
    {
     "data": {
      "text/plain": [
       "(tensor([1, 2]), tensor(2))"
      ]
     },
     "execution_count": 73,
     "metadata": {},
     "output_type": "execute_result"
    }
   ],
   "source": [
    "X[1],y[1] # e,l -> l "
   ]
  },
  {
   "cell_type": "code",
   "execution_count": 74,
   "id": "3f33ed64-cbf7-465c-976a-2b74c2e665bf",
   "metadata": {
    "id": "3f33ed64-cbf7-465c-976a-2b74c2e665bf",
    "outputId": "f433b28f-f7e4-47d3-9031-92a9bd234a3e"
   },
   "outputs": [
    {
     "data": {
      "text/plain": [
       "(tensor([2, 2]), tensor(3))"
      ]
     },
     "execution_count": 74,
     "metadata": {},
     "output_type": "execute_result"
    }
   ],
   "source": [
    "X[2],y[2] # l,l -> o"
   ]
  },
  {
   "cell_type": "code",
   "execution_count": 75,
   "id": "ad7f3958-1840-4efa-9bbd-82bb2e42b194",
   "metadata": {
    "id": "ad7f3958-1840-4efa-9bbd-82bb2e42b194",
    "outputId": "c2f00bf3-8c12-45f4-fc44-2483a549ccec"
   },
   "outputs": [
    {
     "data": {
      "text/plain": [
       "(tensor([2, 3]), tensor(0))"
      ]
     },
     "execution_count": 75,
     "metadata": {},
     "output_type": "execute_result"
    }
   ],
   "source": [
    "X[3],y[3] # l,o -> h"
   ]
  },
  {
   "cell_type": "markdown",
   "id": "f8962920-b364-45f9-aab4-35210c0c4bb5",
   "metadata": {
    "id": "f8962920-b364-45f9-aab4-35210c0c4bb5"
   },
   "source": [
    "`-` 아키텍처를 대충 스케치하여 보자. "
   ]
  },
  {
   "cell_type": "code",
   "execution_count": 76,
   "id": "66621810-92f0-4e79-b698-51a293c61914",
   "metadata": {
    "id": "66621810-92f0-4e79-b698-51a293c61914"
   },
   "outputs": [],
   "source": [
    "_e1 = torch.nn.Embedding(num_embeddings=4, embedding_dim=20) "
   ]
  },
  {
   "cell_type": "code",
   "execution_count": 77,
   "id": "6a6f1008-7d2a-4d02-82f3-eae3bdc83a83",
   "metadata": {
    "id": "6a6f1008-7d2a-4d02-82f3-eae3bdc83a83",
    "outputId": "8d57e3b2-aedd-4233-80df-3b025a1fab47"
   },
   "outputs": [
    {
     "data": {
      "text/plain": [
       "(torch.Size([498, 2]), torch.Size([498, 2, 20]))"
      ]
     },
     "execution_count": 77,
     "metadata": {},
     "output_type": "execute_result"
    }
   ],
   "source": [
    "X.shape, _e1(X).shape"
   ]
  },
  {
   "cell_type": "markdown",
   "id": "38c224bd-f637-4fba-9ec9-ad13ebcc406b",
   "metadata": {},
   "source": [
    "차원 하나가 늘어나 2가 된 모습"
   ]
  },
  {
   "cell_type": "markdown",
   "id": "f5c9717c-bb64-481c-bc82-794b3dcdcb2b",
   "metadata": {
    "id": "f5c9717c-bb64-481c-bc82-794b3dcdcb2b"
   },
   "source": [
    "`-` 이전의 아키텍처는 아래와 같았음 \n",
    "\n",
    "```\n",
    "torch.Size([499]) # X\n",
    "torch.Size([499, 20]) # e1이후\n",
    "torch.Size([499, 20]) # l1이후  \n",
    "torch.Size([499, 20]) # a1이후 \n",
    "torch.Size([499, 4]) # l1이후 \n",
    "torch.Size([499, 4]) # a2이후 = yhat \n",
    "```"
   ]
  },
  {
   "cell_type": "markdown",
   "id": "f40cdeb1-f032-4a8c-a329-a06006bc00ba",
   "metadata": {
    "id": "f40cdeb1-f032-4a8c-a329-a06006bc00ba"
   },
   "source": [
    "`-` 마지막의 차원을 처리하기 애매해진다. $\\to$ 순환망을 설계함 "
   ]
  },
  {
   "cell_type": "code",
   "execution_count": 79,
   "id": "5695c836-1fff-4959-962d-4d22acf51f9f",
   "metadata": {
    "id": "5695c836-1fff-4959-962d-4d22acf51f9f",
    "outputId": "857b7a29-4101-48af-b29e-435b5ce3ded8"
   },
   "outputs": [
    {
     "data": {
      "text/plain": [
       "tensor([0, 1, 2, 2, 3, 0, 1, 2, 2, 3, 0, 1, 2, 2, 3, 0, 1, 2, 2, 3, 0, 1, 2, 2,\n",
       "        3, 0, 1, 2, 2, 3, 0, 1, 2, 2, 3, 0, 1, 2, 2, 3, 0, 1, 2, 2, 3, 0, 1, 2,\n",
       "        2, 3, 0, 1, 2, 2, 3, 0, 1, 2, 2, 3, 0, 1, 2, 2, 3, 0, 1, 2, 2, 3, 0, 1,\n",
       "        2, 2, 3, 0, 1, 2, 2, 3, 0, 1, 2, 2, 3, 0, 1, 2, 2, 3, 0, 1, 2, 2, 3, 0,\n",
       "        1, 2, 2, 3, 0, 1, 2, 2, 3, 0, 1, 2, 2, 3, 0, 1, 2, 2, 3, 0, 1, 2, 2, 3,\n",
       "        0, 1, 2, 2, 3, 0, 1, 2, 2, 3, 0, 1, 2, 2, 3, 0, 1, 2, 2, 3, 0, 1, 2, 2,\n",
       "        3, 0, 1, 2, 2, 3, 0, 1, 2, 2, 3, 0, 1, 2, 2, 3, 0, 1, 2, 2, 3, 0, 1, 2,\n",
       "        2, 3, 0, 1, 2, 2, 3, 0, 1, 2, 2, 3, 0, 1, 2, 2, 3, 0, 1, 2, 2, 3, 0, 1,\n",
       "        2, 2, 3, 0, 1, 2, 2, 3, 0, 1, 2, 2, 3, 0, 1, 2, 2, 3, 0, 1, 2, 2, 3, 0,\n",
       "        1, 2, 2, 3, 0, 1, 2, 2, 3, 0, 1, 2, 2, 3, 0, 1, 2, 2, 3, 0, 1, 2, 2, 3,\n",
       "        0, 1, 2, 2, 3, 0, 1, 2, 2, 3, 0, 1, 2, 2, 3, 0, 1, 2, 2, 3, 0, 1, 2, 2,\n",
       "        3, 0, 1, 2, 2, 3, 0, 1, 2, 2, 3, 0, 1, 2, 2, 3, 0, 1, 2, 2, 3, 0, 1, 2,\n",
       "        2, 3, 0, 1, 2, 2, 3, 0, 1, 2, 2, 3, 0, 1, 2, 2, 3, 0, 1, 2, 2, 3, 0, 1,\n",
       "        2, 2, 3, 0, 1, 2, 2, 3, 0, 1, 2, 2, 3, 0, 1, 2, 2, 3, 0, 1, 2, 2, 3, 0,\n",
       "        1, 2, 2, 3, 0, 1, 2, 2, 3, 0, 1, 2, 2, 3, 0, 1, 2, 2, 3, 0, 1, 2, 2, 3,\n",
       "        0, 1, 2, 2, 3, 0, 1, 2, 2, 3, 0, 1, 2, 2, 3, 0, 1, 2, 2, 3, 0, 1, 2, 2,\n",
       "        3, 0, 1, 2, 2, 3, 0, 1, 2, 2, 3, 0, 1, 2, 2, 3, 0, 1, 2, 2, 3, 0, 1, 2,\n",
       "        2, 3, 0, 1, 2, 2, 3, 0, 1, 2, 2, 3, 0, 1, 2, 2, 3, 0, 1, 2, 2, 3, 0, 1,\n",
       "        2, 2, 3, 0, 1, 2, 2, 3, 0, 1, 2, 2, 3, 0, 1, 2, 2, 3, 0, 1, 2, 2, 3, 0,\n",
       "        1, 2, 2, 3, 0, 1, 2, 2, 3, 0, 1, 2, 2, 3, 0, 1, 2, 2, 3, 0, 1, 2, 2, 3,\n",
       "        0, 1, 2, 2, 3, 0, 1, 2, 2, 3, 0, 1, 2, 2, 3, 0, 1, 2])"
      ]
     },
     "execution_count": 79,
     "metadata": {},
     "output_type": "execute_result"
    }
   ],
   "source": [
    "X[:,0]"
   ]
  },
  {
   "cell_type": "code",
   "execution_count": 80,
   "id": "65dec055-0f36-4822-880d-2afffc53a10b",
   "metadata": {
    "id": "5695c836-1fff-4959-962d-4d22acf51f9f",
    "outputId": "857b7a29-4101-48af-b29e-435b5ce3ded8"
   },
   "outputs": [
    {
     "data": {
      "text/plain": [
       "tensor([1, 2, 2, 3, 0, 1, 2, 2, 3, 0, 1, 2, 2, 3, 0, 1, 2, 2, 3, 0, 1, 2, 2, 3,\n",
       "        0, 1, 2, 2, 3, 0, 1, 2, 2, 3, 0, 1, 2, 2, 3, 0, 1, 2, 2, 3, 0, 1, 2, 2,\n",
       "        3, 0, 1, 2, 2, 3, 0, 1, 2, 2, 3, 0, 1, 2, 2, 3, 0, 1, 2, 2, 3, 0, 1, 2,\n",
       "        2, 3, 0, 1, 2, 2, 3, 0, 1, 2, 2, 3, 0, 1, 2, 2, 3, 0, 1, 2, 2, 3, 0, 1,\n",
       "        2, 2, 3, 0, 1, 2, 2, 3, 0, 1, 2, 2, 3, 0, 1, 2, 2, 3, 0, 1, 2, 2, 3, 0,\n",
       "        1, 2, 2, 3, 0, 1, 2, 2, 3, 0, 1, 2, 2, 3, 0, 1, 2, 2, 3, 0, 1, 2, 2, 3,\n",
       "        0, 1, 2, 2, 3, 0, 1, 2, 2, 3, 0, 1, 2, 2, 3, 0, 1, 2, 2, 3, 0, 1, 2, 2,\n",
       "        3, 0, 1, 2, 2, 3, 0, 1, 2, 2, 3, 0, 1, 2, 2, 3, 0, 1, 2, 2, 3, 0, 1, 2,\n",
       "        2, 3, 0, 1, 2, 2, 3, 0, 1, 2, 2, 3, 0, 1, 2, 2, 3, 0, 1, 2, 2, 3, 0, 1,\n",
       "        2, 2, 3, 0, 1, 2, 2, 3, 0, 1, 2, 2, 3, 0, 1, 2, 2, 3, 0, 1, 2, 2, 3, 0,\n",
       "        1, 2, 2, 3, 0, 1, 2, 2, 3, 0, 1, 2, 2, 3, 0, 1, 2, 2, 3, 0, 1, 2, 2, 3,\n",
       "        0, 1, 2, 2, 3, 0, 1, 2, 2, 3, 0, 1, 2, 2, 3, 0, 1, 2, 2, 3, 0, 1, 2, 2,\n",
       "        3, 0, 1, 2, 2, 3, 0, 1, 2, 2, 3, 0, 1, 2, 2, 3, 0, 1, 2, 2, 3, 0, 1, 2,\n",
       "        2, 3, 0, 1, 2, 2, 3, 0, 1, 2, 2, 3, 0, 1, 2, 2, 3, 0, 1, 2, 2, 3, 0, 1,\n",
       "        2, 2, 3, 0, 1, 2, 2, 3, 0, 1, 2, 2, 3, 0, 1, 2, 2, 3, 0, 1, 2, 2, 3, 0,\n",
       "        1, 2, 2, 3, 0, 1, 2, 2, 3, 0, 1, 2, 2, 3, 0, 1, 2, 2, 3, 0, 1, 2, 2, 3,\n",
       "        0, 1, 2, 2, 3, 0, 1, 2, 2, 3, 0, 1, 2, 2, 3, 0, 1, 2, 2, 3, 0, 1, 2, 2,\n",
       "        3, 0, 1, 2, 2, 3, 0, 1, 2, 2, 3, 0, 1, 2, 2, 3, 0, 1, 2, 2, 3, 0, 1, 2,\n",
       "        2, 3, 0, 1, 2, 2, 3, 0, 1, 2, 2, 3, 0, 1, 2, 2, 3, 0, 1, 2, 2, 3, 0, 1,\n",
       "        2, 2, 3, 0, 1, 2, 2, 3, 0, 1, 2, 2, 3, 0, 1, 2, 2, 3, 0, 1, 2, 2, 3, 0,\n",
       "        1, 2, 2, 3, 0, 1, 2, 2, 3, 0, 1, 2, 2, 3, 0, 1, 2, 2])"
      ]
     },
     "execution_count": 80,
     "metadata": {},
     "output_type": "execute_result"
    }
   ],
   "source": [
    "X[:,1]"
   ]
  },
  {
   "cell_type": "code",
   "execution_count": 81,
   "id": "53b87f7f-2d66-4371-bbda-a676a1963aaf",
   "metadata": {
    "id": "53b87f7f-2d66-4371-bbda-a676a1963aaf"
   },
   "outputs": [],
   "source": [
    "class BDA2(Module): \n",
    "    def __init__(self, num_embeddings): \n",
    "        self.embedding = torch.nn.Embedding(num_embeddings,20)\n",
    "        self.linear1 = torch.nn.Linear(in_features=20,out_features=20)\n",
    "        self.relu = torch.nn.ReLU()\n",
    "        self.linear2 = torch.nn.Linear(in_features=20,out_features=num_embeddings)\n",
    "    def forward(self, X): # net(X)를 계산해주는 방식 \n",
    "        x1=X[:,0] # X의 첫번째 칼럼, y보다 2시점 이전  (x1,x2) -> y // (h,e) --> l \n",
    "        x2=X[:,1] # X의 두번째 칼럼, y보다 1시점 이전 \n",
    "        h=self.relu(self.linear1(self.embedding(x1))) # x1 -> x2를 예측하는 네트워크의 일부 \n",
    "        h2=self.relu(self.linear1(h+ self.embedding(x2))) # x2 -> y를 예측하는 네트어크의 일부 \n",
    "        return self.linear2(h2) # net(X)의 결과"
   ]
  },
  {
   "cell_type": "markdown",
   "id": "b80957cf-f77e-43bc-8087-a6ff9811027d",
   "metadata": {
    "id": "b80957cf-f77e-43bc-8087-a6ff9811027d"
   },
   "source": [
    "`-` 결국 최종출력인 self.linear2(h2)는 h와 x2가 담긴 함수이다. 그런데 h는 x1이 담긴 함수이다. 따라서 h2는 x2가 담겨있는 동시에 x1에 대한 정보도 약하게 담겨있다고 볼 수 있음 "
   ]
  },
  {
   "cell_type": "code",
   "execution_count": 82,
   "id": "b0990640-97cd-48cc-8a32-170389a42474",
   "metadata": {
    "id": "b0990640-97cd-48cc-8a32-170389a42474",
    "outputId": "e9f10294-78eb-4a52-da18-bc8de5e0ac3a"
   },
   "outputs": [
    {
     "data": {
      "text/plain": [
       "BDA2(\n",
       "  (embedding): Embedding(4, 20)\n",
       "  (linear1): Linear(in_features=20, out_features=20, bias=True)\n",
       "  (relu): ReLU()\n",
       "  (linear2): Linear(in_features=20, out_features=4, bias=True)\n",
       ")"
      ]
     },
     "execution_count": 82,
     "metadata": {},
     "output_type": "execute_result"
    }
   ],
   "source": [
    "net3=BDA2(4) \n",
    "net3"
   ]
  },
  {
   "cell_type": "code",
   "execution_count": 83,
   "id": "9335d15f-81ba-44a7-83c0-fb6351b3e514",
   "metadata": {
    "id": "9335d15f-81ba-44a7-83c0-fb6351b3e514",
    "outputId": "e29fd13a-cad4-4db8-babe-ec6732eeda67"
   },
   "outputs": [
    {
     "data": {
      "text/plain": [
       "BDA(\n",
       "  (embedding): Embedding(4, 20)\n",
       "  (linear1): Linear(in_features=20, out_features=20, bias=True)\n",
       "  (relu): ReLU()\n",
       "  (linear2): Linear(in_features=20, out_features=4, bias=True)\n",
       ")"
      ]
     },
     "execution_count": 83,
     "metadata": {},
     "output_type": "execute_result"
    }
   ],
   "source": [
    "net2"
   ]
  },
  {
   "cell_type": "markdown",
   "id": "95c45dcc-7756-45a4-b7d6-b4611a79485d",
   "metadata": {
    "id": "95c45dcc-7756-45a4-b7d6-b4611a79485d"
   },
   "source": [
    "- 구조의 차이는 없지만 순전파의 계산방식이 다르다! (그렇다면 역전파 계산방식도 다르겠죠?) "
   ]
  },
  {
   "cell_type": "markdown",
   "id": "6ed85fde-ce29-480d-9f9f-114ab3553a2e",
   "metadata": {
    "id": "6ed85fde-ce29-480d-9f9f-114ab3553a2e"
   },
   "source": [
    "`-` 다시 학습해보자. "
   ]
  },
  {
   "cell_type": "code",
   "execution_count": 84,
   "id": "96625cd8-8afc-4ffc-ad76-f0db98267fd9",
   "metadata": {
    "id": "96625cd8-8afc-4ffc-ad76-f0db98267fd9"
   },
   "outputs": [],
   "source": [
    "loss_fn = torch.nn.CrossEntropyLoss() \n",
    "optimizer3= torch. optim.Adam(net3.parameters())"
   ]
  },
  {
   "cell_type": "code",
   "execution_count": 85,
   "id": "e7acb25b-ef2d-4289-b91b-83817a85e8f1",
   "metadata": {
    "id": "e7acb25b-ef2d-4289-b91b-83817a85e8f1"
   },
   "outputs": [],
   "source": [
    "for i in range(1000):\n",
    "    ## 1 \n",
    "    yhat = net3(X) \n",
    "    ## 2 \n",
    "    loss = loss_fn(yhat,y) \n",
    "    ## 3 \n",
    "    loss.backward()\n",
    "    ## 4 \n",
    "    optimizer3.step()\n",
    "    optimizer3.zero_grad()"
   ]
  },
  {
   "cell_type": "code",
   "execution_count": 86,
   "id": "c7b0ed0a-a557-4221-9b34-c2a0fc8e8ea1",
   "metadata": {
    "id": "c7b0ed0a-a557-4221-9b34-c2a0fc8e8ea1",
    "outputId": "22a153ee-484f-48c3-add9-67fdf7f07e4c"
   },
   "outputs": [
    {
     "data": {
      "text/plain": [
       "tensor([[0, 1],\n",
       "        [1, 2],\n",
       "        [2, 2],\n",
       "        [2, 3],\n",
       "        [3, 0]])"
      ]
     },
     "execution_count": 86,
     "metadata": {},
     "output_type": "execute_result"
    }
   ],
   "source": [
    "X[:5]"
   ]
  },
  {
   "cell_type": "code",
   "execution_count": 87,
   "id": "208c8700-6a58-423b-933d-3341e4121825",
   "metadata": {
    "id": "208c8700-6a58-423b-933d-3341e4121825",
    "outputId": "9bac22ce-b006-4385-dc0d-9e1f7effc014"
   },
   "outputs": [
    {
     "data": {
      "text/plain": [
       "tensor([[-2.3154, -2.9011,  6.0370, -1.8242],\n",
       "        [-3.7222, -2.4275,  6.0288, -2.0538],\n",
       "        [-2.1673, -2.4698, -1.2548,  6.5036],\n",
       "        [ 7.1155, -3.4118, -1.7391, -0.8178],\n",
       "        [-4.5102,  5.4290, -3.0714, -4.2645]], grad_fn=<SliceBackward0>)"
      ]
     },
     "execution_count": 87,
     "metadata": {},
     "output_type": "execute_result"
    }
   ],
   "source": [
    "net3(X)[:5]"
   ]
  },
  {
   "cell_type": "markdown",
   "id": "df42a952-e365-441b-9f33-eca060710b1e",
   "metadata": {
    "id": "df42a952-e365-441b-9f33-eca060710b1e"
   },
   "source": [
    "- h,e $\\to$ l \n",
    "- e,l $\\to$ l \n",
    "- l,l $\\to$ o\n",
    "- l,o $\\to$ h\n",
    "- o,h $\\to$ e"
   ]
  },
  {
   "cell_type": "markdown",
   "id": "058e0171-7d98-4985-a9ac-4a8f8fc87eef",
   "metadata": {
    "id": "058e0171-7d98-4985-a9ac-4a8f8fc87eef"
   },
   "source": [
    "`-` 학습이 잘 되었다. "
   ]
  },
  {
   "cell_type": "markdown",
   "id": "17bdfc43-73fe-4d68-b127-47e81f135ac2",
   "metadata": {},
   "source": [
    "- 기사를 대신 써준다던가.\n",
    "    - 축구는 전반은 어떘다, 후반은 어땠다 등 넣어주면 y를 출력해내는 게 어렵지 않음\n",
    "- 하지만 파라메터 많이 필요하고...\n",
    "- 작년부터 다시 뜨기 시작함..\n",
    "- 시계열이랑 RNN이랑 비슷"
   ]
  }
 ],
 "metadata": {
  "colab": {
   "name": "2021-12-16-(14주차) 12월16일.ipynb",
   "provenance": []
  },
  "kernelspec": {
   "display_name": "Python 3",
   "language": "python",
   "name": "python3"
  },
  "language_info": {
   "codemirror_mode": {
    "name": "ipython",
    "version": 3
   },
   "file_extension": ".py",
   "mimetype": "text/x-python",
   "name": "python",
   "nbconvert_exporter": "python",
   "pygments_lexer": "ipython3",
   "version": "3.8.12"
  }
 },
 "nbformat": 4,
 "nbformat_minor": 5
}
