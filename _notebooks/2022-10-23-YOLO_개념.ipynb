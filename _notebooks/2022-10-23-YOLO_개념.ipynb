{
 "cells": [
  {
   "cell_type": "markdown",
   "id": "1be95605-1f4b-48e2-b551-1d2d02baf187",
   "metadata": {
    "tags": []
   },
   "source": [
    "# YOLO(You only look once)\n",
    "> \n",
    "\n",
    "- toc:true\n",
    "- branch: master\n",
    "- badges: true\n",
    "- comments: false\n",
    "- author: 최서연\n",
    "- categories: [YOLO]"
   ]
  },
  {
   "cell_type": "markdown",
   "id": "4ce1c716-71a7-4ac5-bbe9-e10c2e099d89",
   "metadata": {
    "tags": []
   },
   "source": [
    "### Object Detection 문제 영역의 출력값"
   ]
  },
  {
   "cell_type": "markdown",
   "id": "c855da89-7f78-4fd5-a583-83aa5b8b017f",
   "metadata": {},
   "source": [
    "- x_min : 물체의 Bounding Box 의 왼쪽 위 (Left-Top) x 좌표\n",
    "- y_min : 물체의 Bounding Box 의 왼쪽 위 (Left-Top) y 좌표\n",
    "- x_max : 물체의 Bounding Box 의 오른쪽 아래 (Right - Bottom) x 좌표\n",
    "- y_max : 물체의 Bounding Box 의 오른쪽 아래 (Right - Bottom) y 좌표\n",
    "- class : Bounding BOx에 속한 물체의 class\n",
    "- confidence : Bounding Box에 실체 물제가 있을 것이라고 확신하는 정도를 나타내는 값(0.0~1.0 사이의 값)"
   ]
  },
  {
   "cell_type": "markdown",
   "id": "f8a97980-7bfe-4db8-9cb6-c1a116499758",
   "metadata": {},
   "source": [
    "### Open Image Dataset Ground Truth"
   ]
  },
  {
   "cell_type": "markdown",
   "id": "ee018196-3831-4315-915c-99ec3982930c",
   "metadata": {},
   "source": [
    "- Obhect Detection 문제 영역의 Ground Truth 데이터는 사람이 지정한 Bounding Box와 Class Label\n",
    "- 정답 Ground Truth 데이터와 비교했을때, 예측 값의 성능을 비교하기 위한 Metric이 필요"
   ]
  },
  {
   "cell_type": "markdown",
   "id": "3893109c-9898-49e1-8ae4-a73477a4defb",
   "metadata": {},
   "source": [
    "### Metric 1"
   ]
  },
  {
   "cell_type": "markdown",
   "id": "89f8accb-3755-4111-a80f-f29ee4624c68",
   "metadata": {},
   "source": [
    "**Intersection over Union(IoU) Metric**\n",
    "\n",
    "- IoU은 1개의 Bounding Box와 1개의 Bounding Box가 얼마나 일치하는 지를 0.0~1.0 사이의 값으로 표현\n",
    "- 2개의 Bounding Box가 일치할수록 1.0에 가까운 값이 되고, 일치하지 않을 수록 0.0에 가까운 값"
   ]
  },
  {
   "cell_type": "markdown",
   "id": "2c971cbf-5d8c-4596-b392-a7ae21029cca",
   "metadata": {},
   "source": [
    "### Metric 2"
   ]
  },
  {
   "cell_type": "markdown",
   "id": "f2d35fb0-18cf-4f9d-95d0-5f27f97f9634",
   "metadata": {},
   "source": [
    "**Precision, Recall, F1**\n",
    "\n",
    "- Precision : 정밀도, 검색된 결과 중 관련 있는 것으로 분류된 결과물의 비율\n",
    "$$\\text{Precision} = \\frac{\\text{TP}}{\\text{TP + FP}}$$\n",
    "- Recall : 재현율, 관련 있는 것으로 분류된 항목들 중 실제 검색된 항목들의 비율\n",
    "$$\\text{Recall} = \\frac{\\text{TP}}{\\text{TP + FN}}$$\n",
    "- F1 : 정밀도와 재현율의 조화 평균, 정밀도와 재현율을 한 번에 비교 가능\n",
    "$$\\text{F1} = 2 - \\frac{\\text{precision - Recall}}{\\text{Precision + Recall}}$$"
   ]
  },
  {
   "cell_type": "markdown",
   "id": "23730d97-25f3-40c9-82a3-2e88464a302f",
   "metadata": {},
   "source": [
    "**Average Precision(AP)**\n",
    "\n",
    "- Positive_판단 기준 : 일정한 임계치의 IoU를 넘기면 맞춘 것으로 간주\n",
    "- Average Precision(AP) : 재현율 별 정밀도의 평균"
   ]
  },
  {
   "cell_type": "markdown",
   "id": "49a42698-94ee-4ecb-8018-1ba58dfb1ea2",
   "metadata": {},
   "source": [
    "**Mean Average Precision(MAP)**\n",
    "- class 들의 평균 정밀도의 평균"
   ]
  },
  {
   "cell_type": "markdown",
   "id": "cbf2c515-4425-4d9c-bab6-1b89de76d981",
   "metadata": {},
   "source": [
    "### Metric 3"
   ]
  },
  {
   "cell_type": "markdown",
   "id": "02461b3a-f371-479d-9b9f-9103951a289c",
   "metadata": {},
   "source": [
    "**MS COCO Metric**\n",
    "- IoU가 0.5,0.55,0.6,0.65,.. 일떄의 평균 정밀도를 구하는 법 등"
   ]
  },
  {
   "cell_type": "markdown",
   "id": "e646054b-cb21-40f6-aba8-c51f36b6a716",
   "metadata": {},
   "source": [
    "### Object Detection Datasets"
   ]
  },
  {
   "cell_type": "markdown",
   "id": "0db33620-f20b-4c65-8882-0b0524b31862",
   "metadata": {},
   "source": [
    "- Object Detection 문제를 학습 시키기 위해 정답 Bounding Box와 Label이 지정된 이미지 필요\n",
    "- 대표적인 Object Detection을 위한 데이터셋으로 Pascal VOC, MS COCO 데이터 셋 등 존재"
   ]
  },
  {
   "cell_type": "markdown",
   "id": "aed8b83e-d926-4437-91c1-17c2dceb59e3",
   "metadata": {},
   "source": [
    "1. Pascal VOC Dataset\n",
    "- 20 classes, 4 categories\n",
    "    - Person(person)\n",
    "    - Animal(bird, cat, cow, dog, horse, sheep)\n",
    "    - Vehicle(aeroplane, bicycle, boat, bus, car, motorbike, train)\n",
    "    - Indoor(bottle, chair, dining table, potted plant, sofa, tv/monitor))\n",
    "        - VOC2007\n",
    "        - VOC2012\n",
    "2. MS-COCO\n",
    "- Microsoft, 80 labels\n",
    "3. KITTI\n",
    "- 자율주행연구 위한 이미지\n",
    "- 21 training sequences, 29 test sequences\n",
    "- 8 classes\n",
    "    - Car, Van, Truck, Pedestrian, Person(sitting), Cyclist, Tram, Misc\n",
    "4. Open Image Dataset v4\n",
    "- Google, 600 labels"
   ]
  },
  {
   "cell_type": "markdown",
   "id": "77c8784c-8f76-41a2-b45c-80e544f9397a",
   "metadata": {},
   "source": [
    "### Yolo concept"
   ]
  },
  {
   "cell_type": "markdown",
   "id": "fc7f55a6-26bc-4b6a-9ca1-e4dfc8c43a4d",
   "metadata": {},
   "source": [
    "- image를 $S \\times S \\text{ Grid Cell}$로 나누고 Grid Cell 별로 B개의 Bounding Box 예측\n",
    "- YOLO 모델 최종 Output : $S \\times S \\times (5 * B + c)(5:x,y,w,h,\\text{ confidence})$\n",
    "- ex) S = 7, B = 2, C = 20, then $7 \\times 7 \\times 30$ 이 output\n",
    "\n",
    "$x,y,w,h,\\text{ confidence}$\n",
    "- x :  grid cell 내의 x 위치 (0~1 사이의 값)\n",
    "- y : grid cell 내의 y 위치 (0~1 사이의 값)\n",
    "- w : 전체 이미지 대비의 width (0~1 사이의 값)\n",
    "- h : 전체 이미지 대비의 height (0~1 사이의 값)\n",
    "- confidence : 이미지 내의 object가 있을 것이라고 확신하는 정도(0~1 사이의 값)"
   ]
  },
  {
   "cell_type": "markdown",
   "id": "4c4c6723-cc44-459f-9a40-a193365d9da5",
   "metadata": {},
   "source": [
    "### Non-Maximum Suppression Algorithm 동작 과정"
   ]
  },
  {
   "cell_type": "markdown",
   "id": "13925944-3297-442e-9ffe-dc5ad1e21184",
   "metadata": {},
   "source": [
    "1. confidence $\\leq$ 이하의 Bounding Box를 제거\n",
    "2. class 별로 confidenxe가 가장 높은 Bounding Box 가 앞으로 오도록 전체 Bounding Box를 내림차순 정렬\n",
    "3. 가장 confidence가 높은 Bounding Box와 나머지 Bounding Box를 비교해서 2개의 Bounding Box의 IoU $\\geq$ 0.5라면 Confidence 가 작은 Bounding Box를 제거\n",
    "4. 제거되지 않은 Bounding Box 중에서 Confidence가 가장 높은 Bounding Box와 나머지 BOunding Box간에 3번 과정 반복\n",
    "5. 3,4 과정을 전체 Bounding Box에 대해서 진행\n",
    "6. 2~5 과정을 전체 class에 대해서 진행"
   ]
  },
  {
   "cell_type": "code",
   "execution_count": null,
   "id": "10bd1e6f-dd64-417f-8ec6-5e1bfb5c8f5d",
   "metadata": {},
   "outputs": [],
   "source": []
  }
 ],
 "metadata": {
  "kernelspec": {
   "display_name": "Python 3 (ipykernel)",
   "language": "python",
   "name": "python3"
  },
  "language_info": {
   "codemirror_mode": {
    "name": "ipython",
    "version": 3
   },
   "file_extension": ".py",
   "mimetype": "text/x-python",
   "name": "python",
   "nbconvert_exporter": "python",
   "pygments_lexer": "ipython3",
   "version": "3.10.0"
  }
 },
 "nbformat": 4,
 "nbformat_minor": 5
}
