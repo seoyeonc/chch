{
 "cells": [
  {
   "cell_type": "markdown",
   "id": "af4e5fb5-eca7-42a5-bf0a-7dc573edda62",
   "metadata": {},
   "source": [
    "# Ubuntu\n",
    "> Ubuntu formet, server setting\n",
    "\n",
    "- toc:true\n",
    "- branch: master\n",
    "- badges: true\n",
    "- comments: false\n",
    "- author: 최서연\n",
    "- categories: [Ubuntu]"
   ]
  },
  {
   "cell_type": "markdown",
   "id": "4cd1c87f-e669-48b8-b35d-fa0a6e068ac7",
   "metadata": {},
   "source": [
    "2021/12/23 우분투 설치 및 서버 세팅 한 거 기반"
   ]
  },
  {
   "cell_type": "markdown",
   "id": "15dc3158-fb41-4730-b3f3-671aba5a0035",
   "metadata": {},
   "source": [
    "### 우분투 운영체제 설치"
   ]
  },
  {
   "cell_type": "markdown",
   "id": "a4e7c4ec-0617-45f1-b325-d6d447a24f44",
   "metadata": {},
   "source": [
    "1. www.ubuntu.com/download/desktop 접속\n",
    "  - 컴퓨터 사양에 맞게 선택(32bit  ot 62bit 선택)\n",
    "  - download\n",
    "  - 결제하라고 나오는 거(옵션인듯?) 지나쳐서!\n",
    "  - `not now, take me to the download`"
   ]
  },
  {
   "cell_type": "markdown",
   "id": "04c89363-9db4-4c64-9d85-67a12773c38b",
   "metadata": {},
   "source": [
    "2. 우분투가 설치된 usb 꽂기\n",
    "- 다운받은 우분투 운영체제 실행\n",
    "- 왼쪽 하단 Diskimage 선택하면 오른쪽 ISO 자동 선택 되어 있는듯\n",
    "- 다운 받은 우분투 파일 선택"
   ]
  },
  {
   "cell_type": "markdown",
   "id": "8bf6d987-03ef-4834-9afb-28636e9d8b33",
   "metadata": {},
   "source": [
    "3. 컴퓨터 restart\n",
    "- delete 키 누르면 Bios setting 나타남\n",
    "- 여기에서 부팅 순서 변경 (깔아줄 우분투로)"
   ]
  },
  {
   "cell_type": "markdown",
   "id": "2cd8beba-49c8-4522-9e70-3cd77aa7f7aa",
   "metadata": {},
   "source": [
    "4. 재부팅되면 설치~\n",
    "- install ubuntu(try ubuntu는 약간..체험용?)\n",
    "- english\n",
    "- install this third-party software  (처음 우분투 설치는 선택 안 하기!)\n",
    "- something else 선텍(partition 직접 조정가능)"
   ]
  },
  {
   "cell_type": "markdown",
   "id": "c01c3347-9525-4fc7-823a-2fa7af34f448",
   "metadata": {},
   "source": [
    "5. partition 설정\n",
    "- https://remocon33.tistory.com/328\n",
    "- 혹은.. 기억이 잘 안 남.."
   ]
  },
  {
   "cell_type": "markdown",
   "id": "ebe6ffd0-030f-463b-bb1b-5ee6f542ed99",
   "metadata": {},
   "source": [
    "6. 국적 설정 seoul"
   ]
  },
  {
   "cell_type": "markdown",
   "id": "e1873634-04bb-4517-b6dc-374541d8e50e",
   "metadata": {},
   "source": [
    "7. 아이디 및 비밀번호 입력"
   ]
  },
  {
   "cell_type": "markdown",
   "id": "97253bf1-33c2-453f-b5d7-d2d189d8d1bb",
   "metadata": {},
   "source": [
    "8. 설치 진행\n",
    "- 설치 후 재부팅되면 우분투 깔려있는 모습"
   ]
  },
  {
   "cell_type": "markdown",
   "id": "46139574-1bb5-49e1-9242-3993bfc539b0",
   "metadata": {},
   "source": [
    "### server setting"
   ]
  },
  {
   "cell_type": "markdown",
   "id": "054ccee8-5495-4829-b54e-e4900b4f9912",
   "metadata": {},
   "source": [
    "ref: https://miruetoto.github.io/yechan/%EC%9A%B0%EB%B6%84%ED%88%AC/2000/01/03/(%EB%85%B8%ED%8A%B8)-%EC%9A%B0%EB%B6%84%ED%88%AC-%ED%8F%AC%EB%A7%B7-%EB%B0%8F-%EA%B0%9C%EB%B0%9C%EC%9A%A9-%EC%84%9C%EB%B2%84-%EC%85%8B%ED%8C%85-%EC%9A%B0%EB%B6%84%ED%88%AC.html"
   ]
  },
  {
   "cell_type": "markdown",
   "id": "15578913-7117-494a-99c8-f0c6ec6ef110",
   "metadata": {},
   "source": [
    "1. gedit 열기 및 순서대로 입력\n",
    "- `blacklist nouveau`\n",
    "- `options nouveau modeset=0`"
   ]
  },
  {
   "cell_type": "markdown",
   "id": "9fe3f039-baac-4291-832f-1b5427d98d0f",
   "metadata": {},
   "source": [
    "2. 파일이름을 `blacklist-nouveau.conf`로 지정 및 home에 저장 후 ctrl+alt+F3을 눌러서 까만화면으로 간다.\n",
    "- `sudo -i` 입력\n",
    "- 우분투 설치시 입력한 아이디/비밀번호 입력해 root 권한을 얻기\n",
    "- `sudo cp /home/cgb2/blacklist-nouveau.conf /etc/modprobe.d`\n",
    "- `sudo update-initramfs -u`\n",
    "- `exit`\n",
    "- `sudo rebooting`(재부팅) 여기서 sud는 관리자 권한으로 실행이라는 뜻,"
   ]
  },
  {
   "cell_type": "markdown",
   "id": "d3f222ff-5213-48ef-afb7-91993f43a6e9",
   "metadata": {},
   "source": [
    "3. command 에서 실행\n",
    "- `sudo apt install gcc`\n",
    "- `sudo apt install build-essential`\n",
    "- 엔비디아 공식 홈페이지 https://www.nvidia.com/en-us/geforce/drivers/ 접속\n",
    "- OS 는 LINUX 64-BIT 선택 후 검색(다운 진행됨)\n",
    "- 다운 후 파일 있는 폴더로 이동 및 `chmod +x NVIDIA-Linux-x86_64-410.78.run` 실핼\n",
    "- 드라이버 잘 설치되었는지 `nvidia-smi` 확인"
   ]
  },
  {
   "cell_type": "markdown",
   "id": "c81c9260-8149-4d5e-bced-64f6f65b9aeb",
   "metadata": {},
   "source": [
    "### Anaconda"
   ]
  },
  {
   "cell_type": "markdown",
   "id": "d3c0084c-8864-41c9-85f7-96bb5c8b1337",
   "metadata": {},
   "source": [
    "1.  ubuntu 다운\n",
    "- https://www.anaconda.com/products/individual 접속 및 아나콘다 다운\n",
    "- download 폴더에 있겠지? 그 폴더로 commend 로 가서 \n",
    "- `bash Anaconda3-2019.03-Linux-x86_64.sh` 실행"
   ]
  },
  {
   "cell_type": "markdown",
   "id": "3ca5fb0d-db84-4367-b220-3c587c79b170",
   "metadata": {},
   "source": [
    "2. 환경 구성\n",
    "- (base) `conda create -n py38r40 python=3.8`\n",
    "- (base) `conda create --name py38r40 python=3.8`\n",
    "- 둘 중 골라 파이썬 설치\n",
    "- 파이썬 버전이 높으면 나중에 `conda tensorflow-gpu` 실행 안 될 수도"
   ]
  },
  {
   "cell_type": "markdown",
   "id": "e6c9ba42-cb29-4caa-be5e-e910326ea8b7",
   "metadata": {},
   "source": [
    "3. SSH\n",
    "- 컴퓨터에 ssh 없으면 검색해서 일단 설치\n",
    "- 있다는 전제 하래 진행\n",
    "- 연결하고 싶은 환경의 command 에서 실행\n",
    "- `sudo apt install openssh-server`"
   ]
  },
  {
   "cell_type": "markdown",
   "id": "f23211f9-33c2-4969-b096-c08cd30c229c",
   "metadata": {},
   "source": [
    "### Jupiter 원격 제어"
   ]
  },
  {
   "cell_type": "markdown",
   "id": "fa8024d1-dab8-4bd6-981e-e3e1e335037f",
   "metadata": {},
   "source": [
    "1. 주피터랩 설치\n",
    "- 콘다 가상환경에서 주피터랩 설치\n",
    "`(py48r40) conda install -c conda-forge jupyterlab`"
   ]
  },
  {
   "cell_type": "markdown",
   "id": "84e7e97c-fbbc-4400-8a7a-3c85be85782c",
   "metadata": {},
   "source": [
    "2. 패스워드 설정\n",
    "- 주피터랩을 원격으로 접속할 수 있게 만들기\n",
    "- 커멘드에서 실행\n",
    "- (py38r40) `jupyter lab --generate-config`\n",
    "- (py38r40) `jupyter lab password`"
   ]
  },
  {
   "cell_type": "markdown",
   "id": "3417fe3d-ce38-43fb-8590-2430dbcc0c0e",
   "metadata": {},
   "source": [
    "3. 주피터랩 환경설정\n",
    "- `/home/\"내가 입력한 아이디!!\"/.jupyter/jupyter_lab_config.py` 파일 열기\n",
    "- 아이피 주소를 바꾸고 port도 바꾸고 싶다면 바꾸기\n",
    "    - c.ServerApp.ip = '192.168.0.4'\n",
    "    - c.ServerApp.port = 1306"
   ]
  },
  {
   "cell_type": "markdown",
   "id": "5460ca78-85c6-443d-a1cc-debc603a2da0",
   "metadata": {},
   "source": [
    "> note: 192.168.0.4는 내부 IP, 고정 IP 있다면 고정 IP 입력"
   ]
  },
  {
   "cell_type": "markdown",
   "id": "89f66e98-1914-48cc-89bf-a17c8cbdd7c9",
   "metadata": {},
   "source": [
    "### CUDA, cuDNN, tensorflow, pytorch"
   ]
  },
  {
   "cell_type": "markdown",
   "id": "97419941-eb54-44f8-94ec-1a2991f76a5f",
   "metadata": {},
   "source": [
    "1. 콘다 환경 가서 아래 실행\n",
    "- (py38r40) `conda install -c conda-forge tensorflow-gpu`\n",
    "- (py38r40) `conda install -c conda-forge pytorch-gpu`\n",
    "- 실행하면 CUDA, cuDNN, tensorflow, pytorch 모두 설치됨"
   ]
  },
  {
   "cell_type": "markdown",
   "id": "0a6687a3-8355-4910-9210-e4f28253fc2c",
   "metadata": {},
   "source": [
    "### 주피터와 R 커널 연결"
   ]
  },
  {
   "cell_type": "markdown",
   "id": "6005b82a-ddb9-493a-b0c9-583efa48b4be",
   "metadata": {},
   "source": [
    "1. 콘다 환경가서 아래 실행\n",
    "- (py38r40) `conda install -c conda-forge r-essentials=4.0`\n",
    "- 콘다환경에만 R이 설치되고, base에는 설치가 되지 않는다.\n",
    "- 콘다 환경에서 R을 실행\n",
    "- commend 에서 R 실행( `R` 만 입력하면 실행~)\n",
    "- `install.packages(\"IRkernel\")`로 `IRkernel`설치\n",
    "- `IRkernel::installspec()` 실행 시 주피터랩과 R 환경 연결"
   ]
  },
  {
   "cell_type": "markdown",
   "id": "0a23f06e-21b7-4fa2-8ffc-6fe6b9e6f3a8",
   "metadata": {},
   "source": [
    "### package"
   ]
  },
  {
   "cell_type": "markdown",
   "id": "eaef0902-c8a0-4707-be0b-9a279e1a1f93",
   "metadata": {},
   "source": [
    "```\n",
    "conda install -c conda-forge jupyterlab \n",
    "conda install pytorch torchvision torchaudio cudatoolkit=11.3 -c pytorch\n",
    "pip install fastai\n",
    "pip install plotly \n",
    "pip install ipywidgets\n",
    "pip install jupyter-dash\n",
    "pip install dash \n",
    "pip install plotnine\n",
    "pip install seaboarn\n",
    "pip install opencv-python\n",
    "pip install folium\n",
    "pip install pandas_datareader\n",
    "conda install -c conda-forge r-essentials=4 \n",
    "pip install rpy2\n",
    "conda install -c conda-forge python-graphviz\n",
    "```"
   ]
  },
  {
   "cell_type": "markdown",
   "id": "ec106ae6-3333-4b11-a839-7fe69416464b",
   "metadata": {},
   "source": [
    "기본 tool 미리 설치"
   ]
  },
  {
   "cell_type": "markdown",
   "id": "feeb9646-60c1-4041-bcff-edd505e8b378",
   "metadata": {},
   "source": []
  },
  {
   "cell_type": "markdown",
   "id": "d82058bb-9ed3-4d63-a9f4-a1d7f2f73041",
   "metadata": {},
   "source": []
  },
  {
   "cell_type": "markdown",
   "id": "ddb210e0-b6a8-4619-884e-9105468cb649",
   "metadata": {},
   "source": []
  },
  {
   "cell_type": "markdown",
   "id": "297406ac-7bd2-44de-914f-4871d1808f97",
   "metadata": {},
   "source": []
  },
  {
   "cell_type": "markdown",
   "id": "8ba80331-03a5-441d-8d05-0b1afb520d83",
   "metadata": {},
   "source": []
  }
 ],
 "metadata": {
  "kernelspec": {
   "display_name": "Python 3",
   "language": "python",
   "name": "python3"
  },
  "language_info": {
   "codemirror_mode": {
    "name": "ipython",
    "version": 3
   },
   "file_extension": ".py",
   "mimetype": "text/x-python",
   "name": "python",
   "nbconvert_exporter": "python",
   "pygments_lexer": "ipython3",
   "version": "3.8.12"
  }
 },
 "nbformat": 4,
 "nbformat_minor": 5
}
