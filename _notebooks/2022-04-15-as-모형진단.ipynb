{
 "cells": [
  {
   "cell_type": "markdown",
   "id": "7f4d04ea-1902-4fec-ae96-9c6e53bc023d",
   "metadata": {
    "id": "cac470df-29e7-4148-9bbd-d8b9a32fa570",
    "tags": []
   },
   "source": [
    "# 응용통계학 (6주차) 4월 14일\n",
    "> 모형 진단\n",
    "\n",
    "- toc:true\n",
    "- branch: master\n",
    "- badges: true\n",
    "- comments: false\n",
    "- author: 최서연\n",
    "- categories: [Applied Statistics, 모형 진단]"
   ]
  },
  {
   "cell_type": "markdown",
   "id": "4399d5ae-b242-4d23-a472-b2193302b690",
   "metadata": {},
   "source": [
    "## 응용통계학 : 모형 진단"
   ]
  },
  {
   "cell_type": "markdown",
   "id": "c3765aaa-9a33-4771-9707-f9733fcf0c94",
   "metadata": {},
   "source": [
    "선형모형에서 추정량의 특정 성질이나 이후 추론과정들은 모형의 가정에 의존하게 된다. 즉, 가정에 대한 검토과정이 정당성을 획득하기 위해 필요한 절차이다. 모형 가정에 대한 이슈는 다음과 같이 요약될 수 있다.\n",
    "- $y = X\\beta + \\epsilon$\n",
    "1. 오차항 가정\n",
    "2. 모형가정"
   ]
  },
  {
   "cell_type": "markdown",
   "id": "929b7fa0-9734-4e60-a0db-94a4b0af2a3c",
   "metadata": {
    "tags": []
   },
   "source": [
    "1. 오차항 : 정규성, 등분산성, 독립성\n",
    "    - stochastic part; Stochastic refers to the property of being well described by a random probability distribution.\n",
    "2. 모형 : $ E(y)=Xβ $ : 선형성\n",
    "    - deterministric part = symmetric part\n",
    "3. 특이 관측치 : 간혹 소수의 관측치들이 모형에 잘 맞지 않아 모형 전체에 영향을 미칠 수 있다.\n",
    "    - outlier 있나?\n",
    "    - 어떻게 처리해서 모델을 봐 볼까?"
   ]
  },
  {
   "cell_type": "markdown",
   "id": "6eb4c691-835d-45f5-9a1a-5bdc71bd4b75",
   "metadata": {},
   "source": [
    "## Checking error assumptions"
   ]
  },
  {
   "cell_type": "markdown",
   "id": "5084797d-6ea3-4170-b5ff-645587a83a45",
   "metadata": {},
   "source": [
    "오차항을 관측 불가하므로 잔차에 기반하여 가정을 검토한다.\n",
    "\n",
    "$$e=y−X\\hat{β}=(I−H)y.$$\n",
    "\n",
    "오차항은 서로 독립이더라도 잔차들은 그렇지 않음을 유의하자."
   ]
  },
  {
   "cell_type": "markdown",
   "id": "7bd739b4-0d23-41dd-8884-23c9ec05de03",
   "metadata": {},
   "source": [
    "### constant variance (등분산성)"
   ]
  },
  {
   "cell_type": "markdown",
   "id": "18b47f0e-9873-4d5f-ac83-f51a513626bb",
   "metadata": {},
   "source": [
    "$e_i vs \\hat{y}_i$(x축 vs y축) 산점도(residual plot)가 가장 기본이 되는 진단 방법이다. 만약 가정이 모두 만족된다면 수직축 기준으로 대칭적이고 일정한 정도를 보이는 변동만이 나타날 것이다.\n",
    "\n",
    "- Note : 가로축에 설명변수를 넣은 산점도를 이용하기도 한다."
   ]
  },
  {
   "cell_type": "markdown",
   "id": "9422f040-eee2-4711-baaf-738c1bd5d6a2",
   "metadata": {},
   "source": [
    "![](https://i.stack.imgur.com/rtn7e.png)"
   ]
  },
  {
   "cell_type": "code",
   "execution_count": 3,
   "id": "8f471fef-75bb-4ec3-bbce-c803105e51e3",
   "metadata": {},
   "outputs": [],
   "source": [
    "library(faraway)"
   ]
  },
  {
   "cell_type": "code",
   "execution_count": 4,
   "id": "d198daab-61dc-4781-a85a-8ac976ca74ed",
   "metadata": {},
   "outputs": [
    {
     "name": "stdout",
     "output_type": "stream",
     "text": [
      "'data.frame':\t50 obs. of  5 variables:\n",
      " $ sr   : num  11.43 12.07 13.17 5.75 12.88 ...\n",
      " $ pop15: num  29.4 23.3 23.8 41.9 42.2 ...\n",
      " $ pop75: num  2.87 4.41 4.43 1.67 0.83 2.85 1.34 0.67 1.06 1.14 ...\n",
      " $ dpi  : num  2330 1508 2108 189 728 ...\n",
      " $ ddpi : num  2.87 3.93 3.82 0.22 4.56 2.43 2.67 6.51 3.08 2.8 ...\n"
     ]
    }
   ],
   "source": [
    "data(savings,package=\"faraway\")\n",
    "str(savings)"
   ]
  },
  {
   "cell_type": "code",
   "execution_count": null,
   "id": "400e1e16-2e2e-4cda-8a1b-1a2ef2ce1bde",
   "metadata": {},
   "outputs": [],
   "source": []
  }
 ],
 "metadata": {
  "kernelspec": {
   "display_name": "R",
   "language": "R",
   "name": "ir"
  },
  "language_info": {
   "codemirror_mode": "r",
   "file_extension": ".r",
   "mimetype": "text/x-r-source",
   "name": "R",
   "pygments_lexer": "r",
   "version": "4.1.2"
  }
 },
 "nbformat": 4,
 "nbformat_minor": 5
}
