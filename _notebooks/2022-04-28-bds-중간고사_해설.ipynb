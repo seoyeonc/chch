{
 "cells": [
  {
   "cell_type": "markdown",
   "id": "19b8c152-dc4e-49e1-b935-5e01876643c0",
   "metadata": {
    "tags": []
   },
   "source": [
    "# 빅데이터 분석 특강 (중간고사 해설) 4월 27일 \n",
    "\n",
    "- toc:true\n",
    "- branch: master\n",
    "- badges: true\n",
    "- comments: false\n",
    "- author: 최서연\n",
    "- categories: [Special Topics in Big Data Analysis]"
   ]
  },
  {
   "cell_type": "markdown",
   "id": "fc573f98-34fb-463c-9a16-111ad798c0e7",
   "metadata": {},
   "source": [
    "**원하는 방향**\n",
    "- 손실함수와 로그우도함수, LSE와 MLE $\\to$ 1번\n",
    "- 효율적으로 학습률을 찾는 방법 $\\to$ 2번\n",
    "- 미니배치의 개념 + 확률적 경사하강법 $\\to$ 2번 + 다른 문제들\n",
    "- 복잡한 모형과 오버피팅 $\\to$ 3번의 (1)\n",
    "- 분석결과를 물어보는 방법 $\\to$ 4번"
   ]
  },
  {
   "cell_type": "markdown",
   "id": "19644b04-ad5a-416a-ac17-80ec6e1ba279",
   "metadata": {
    "id": "19644b04-ad5a-416a-ac17-80ec6e1ba279"
   },
   "source": [
    "### imports "
   ]
  },
  {
   "cell_type": "code",
   "execution_count": 47,
   "id": "a05d1125-708a-4485-92a7-75d22b4a90fc",
   "metadata": {
    "id": "a05d1125-708a-4485-92a7-75d22b4a90fc"
   },
   "outputs": [],
   "source": [
    "import numpy as np\n",
    "import tensorflow as tf \n",
    "import tensorflow.experimental.numpy as tnp "
   ]
  },
  {
   "cell_type": "code",
   "execution_count": 2,
   "id": "d18e1f6b-45d7-427c-8c84-9274f2ea341d",
   "metadata": {
    "id": "d18e1f6b-45d7-427c-8c84-9274f2ea341d"
   },
   "outputs": [],
   "source": [
    "tnp.experimental_enable_numpy_behavior()"
   ]
  },
  {
   "cell_type": "code",
   "execution_count": 3,
   "id": "87906483-47e5-408e-bcb7-ce0bcb1fad5b",
   "metadata": {
    "id": "87906483-47e5-408e-bcb7-ce0bcb1fad5b"
   },
   "outputs": [],
   "source": [
    "import matplotlib.pyplot as plt "
   ]
  },
  {
   "cell_type": "markdown",
   "id": "13f70088-339a-48c7-927b-1e039fe43b62",
   "metadata": {
    "id": "13f70088-339a-48c7-927b-1e039fe43b62"
   },
   "source": [
    "### `1`. 경사하강법과 tf.GradientTape()의 사용방법 (30점)"
   ]
  },
  {
   "cell_type": "markdown",
   "id": "44a4b43e-bac9-4dc5-a19c-72602b3089a0",
   "metadata": {},
   "source": [
    "**손실함수와 로그우도함수, LSE와 MLE**"
   ]
  },
  {
   "cell_type": "markdown",
   "id": "1bf2e145-d18c-4006-93a0-c4e9f5f91d94",
   "metadata": {
    "id": "1bf2e145-d18c-4006-93a0-c4e9f5f91d94"
   },
   "source": [
    "`(1)` 아래는 $X_i \\overset{iid}{\\sim} N(3,2^2)$ 를 생성하는 코드이다. "
   ]
  },
  {
   "cell_type": "code",
   "execution_count": 5,
   "id": "62c4c5bb-1c84-4d08-9a8c-0f56ac31fc7a",
   "metadata": {
    "id": "62c4c5bb-1c84-4d08-9a8c-0f56ac31fc7a",
    "outputId": "b030ea1b-cabe-4bee-84c8-ada513bc907a"
   },
   "outputs": [
    {
     "data": {
      "text/plain": [
       "<tf.Tensor: shape=(10000,), dtype=float64, numpy=\n",
       "array([ 4.12539849,  5.46696729,  5.27243374, ...,  2.89712332,\n",
       "        5.01072291, -1.13050477])>"
      ]
     },
     "execution_count": 5,
     "metadata": {},
     "output_type": "execute_result"
    }
   ],
   "source": [
    "tf.random.set_seed(43052)\n",
    "x= tnp.random.randn(10000)*2+3\n",
    "x"
   ]
  },
  {
   "cell_type": "markdown",
   "id": "4266f989-9bc3-4bb6-ae0a-5bde6f7fa489",
   "metadata": {
    "id": "4266f989-9bc3-4bb6-ae0a-5bde6f7fa489"
   },
   "source": [
    "함수 $L(\\mu,\\sigma)$을 최대화하는 $(\\mu,\\sigma)$를 `tf.GradeintTape()`를 활용하여 추정하라. (경사하강법 혹은 경사상승법을 사용하고 $\\mu$의 초기값은 2로 $\\sigma$의 초기값은 3으로 설정할 것) \n",
    "\n",
    "$$L(\\mu,\\sigma)=\\prod_{i=1}^{n}f(x_i), \\quad f(x_i)=\\frac{1}{\\sqrt{2\\pi}\\sigma}e^{-\\frac{1}{2}(\\frac{x_i-\\mu}{\\sigma})^2}$$"
   ]
  },
  {
   "cell_type": "markdown",
   "id": "7858a3d3-b42a-4352-b3ef-470756e3a83f",
   "metadata": {
    "id": "7858a3d3-b42a-4352-b3ef-470756e3a83f"
   },
   "source": [
    "**(풀이)**"
   ]
  },
  {
   "cell_type": "code",
   "execution_count": 6,
   "id": "0f95acef-0f1c-46e3-b17b-071f5555aaaa",
   "metadata": {
    "id": "0f95acef-0f1c-46e3-b17b-071f5555aaaa"
   },
   "outputs": [],
   "source": [
    "sigma = tf.Variable(3.0) \n",
    "mu = tf.Variable(2.0)"
   ]
  },
  {
   "cell_type": "markdown",
   "id": "0d0f82aa-1c8e-4238-940e-8cee57b29dcd",
   "metadata": {},
   "source": [
    "상수는 안 곱해도 결과는 같을테니 빼도 상관없겠지"
   ]
  },
  {
   "cell_type": "code",
   "execution_count": 7,
   "id": "846b9e34-c8d4-4ed9-8116-07ecd27531d9",
   "metadata": {
    "id": "846b9e34-c8d4-4ed9-8116-07ecd27531d9",
    "outputId": "42d600e8-c407-4331-c58b-d42d9bd1a137"
   },
   "outputs": [
    {
     "data": {
      "text/plain": [
       "[<tf.Tensor: shape=(), dtype=float32, numpy=1129.3353>,\n",
       " <tf.Tensor: shape=(), dtype=float32, numpy=-1488.3431>]"
      ]
     },
     "execution_count": 7,
     "metadata": {},
     "output_type": "execute_result"
    }
   ],
   "source": [
    "with tf.GradientTape() as tape: \n",
    "    pdf = 1/sigma * tnp.exp(-0.5*((x-mu)/sigma)**2)\n",
    "    logL = tf.reduce_sum(tnp.log(pdf) ) \n",
    "tape.gradient(logL,[mu,sigma]) "
   ]
  },
  {
   "cell_type": "markdown",
   "id": "954923d7-84de-4589-89eb-251ae0a3d157",
   "metadata": {},
   "source": [
    "경사하강법에서 `assign_sub` 가장 작은 값을 구하는\n",
    "\n",
    "경사상승법에서 `assign_add` 가장 큰 값을 구하는"
   ]
  },
  {
   "cell_type": "code",
   "execution_count": 8,
   "id": "ef24b70f-e031-4313-b10a-a50c9372dbec",
   "metadata": {
    "id": "ef24b70f-e031-4313-b10a-a50c9372dbec",
    "tags": []
   },
   "outputs": [],
   "source": [
    "for i in range(1000):\n",
    "    with tf.GradientTape() as tape: \n",
    "        pdf = 1/sigma * tnp.exp(-0.5*((x-mu)/sigma)**2)\n",
    "        logL = tf.reduce_sum(tnp.log(pdf) ) \n",
    "    slope1, slope2 = tape.gradient(logL,[mu,sigma]) \n",
    "    mu.assign_add(slope1* 0.1/10000) # N=10000 \n",
    "    sigma.assign_add(slope2* 0.1/10000) "
   ]
  },
  {
   "cell_type": "markdown",
   "id": "08549617-d547-4c66-87cb-9d6edf46af2a",
   "metadata": {
    "id": "ef24b70f-e031-4313-b10a-a50c9372dbec",
    "tags": []
   },
   "source": [
    "```python\n",
    "for i in range(1000):\n",
    "    with tf.GradientTape() as tape: \n",
    "        pdf = 1/sigma * tnp.exp(-0.5*((x-mu)/sigma)**2)\n",
    "        logL = -tf.reduce_sum(tnp.log(pdf) ) \n",
    "    slope1, slope2 = tape.gradient(logL,[mu,sigma]) \n",
    "    mu.assign_add(slope1* 0.1/10000) # N=10000 \n",
    "    sigma.assign_sub(slope2* 0.1/10000) \n",
    "```\n",
    "와 같다"
   ]
  },
  {
   "cell_type": "code",
   "execution_count": 9,
   "id": "a50c2c98-b348-4757-9df5-b9eddd4a7e69",
   "metadata": {
    "id": "a50c2c98-b348-4757-9df5-b9eddd4a7e69",
    "outputId": "d6f877d0-47dd-4239-ba4c-0be016768cc5"
   },
   "outputs": [
    {
     "data": {
      "text/plain": [
       "(<tf.Variable 'Variable:0' shape=() dtype=float32, numpy=3.0163972>,\n",
       " <tf.Variable 'Variable:0' shape=() dtype=float32, numpy=1.9870595>)"
      ]
     },
     "execution_count": 9,
     "metadata": {},
     "output_type": "execute_result"
    }
   ],
   "source": [
    "mu,sigma"
   ]
  },
  {
   "cell_type": "markdown",
   "id": "22a89af4-8834-4b4a-b0bc-6d9782315e99",
   "metadata": {
    "id": "22a89af4-8834-4b4a-b0bc-6d9782315e99"
   },
   "source": [
    "`(2)` 아래는 $X_i \\overset{iid}{\\sim} Ber(0.8)$을 생성하는 코드이다. "
   ]
  },
  {
   "cell_type": "code",
   "execution_count": 10,
   "id": "78dc1408-f4f7-4124-a073-c71296fcc249",
   "metadata": {
    "id": "78dc1408-f4f7-4124-a073-c71296fcc249",
    "outputId": "e7d0a4ef-b23a-4229-d076-2f0d6d1140b4"
   },
   "outputs": [
    {
     "data": {
      "text/plain": [
       "<tf.Tensor: shape=(10000,), dtype=int64, numpy=array([0, 1, 1, ..., 1, 1, 1])>"
      ]
     },
     "execution_count": 10,
     "metadata": {},
     "output_type": "execute_result"
    }
   ],
   "source": [
    "tf.random.set_seed(43052)\n",
    "x= tf.constant(np.random.binomial(1,0.8,(10000,)))\n",
    "x"
   ]
  },
  {
   "cell_type": "markdown",
   "id": "56d3b31c-ac0a-4648-8663-5b74c2b2b051",
   "metadata": {
    "id": "56d3b31c-ac0a-4648-8663-5b74c2b2b051"
   },
   "source": [
    "함수 $L(p)$을 최대화하는 $p$를 `tf.GradeintTape()`를 활용하여 추정하라. (경사하강법 혹은 경사상승법을 사용하고 $p$의 초기값은 0.3으로 설정할 것) \n",
    "\n",
    "\n",
    "$$L(\\mu,\\sigma)=\\prod_{i=1}^{n}f(x_i), \\quad f(x_i)=p^{x_i}(1-p)^{1-x_i}$$"
   ]
  },
  {
   "cell_type": "markdown",
   "id": "3a7d4e40-545b-4bee-a33f-e45c3a2ca051",
   "metadata": {
    "id": "3a7d4e40-545b-4bee-a33f-e45c3a2ca051"
   },
   "source": [
    "**(풀이)**"
   ]
  },
  {
   "cell_type": "code",
   "execution_count": 11,
   "id": "3c6ae38d-67e4-40d6-bcfb-f33630e4abe6",
   "metadata": {
    "id": "3c6ae38d-67e4-40d6-bcfb-f33630e4abe6"
   },
   "outputs": [],
   "source": [
    "p=tf.Variable(0.3) \n",
    "for i in range(1000):\n",
    "    with tf.GradientTape() as tape: \n",
    "        pdf = p**x * (1-p)**(1-x) \n",
    "        logL = tf.reduce_sum(tnp.log(pdf)) \n",
    "    slope = tape.gradient(logL,p) \n",
    "    p.assign_add(slope* 0.1/10000) # N=10000 "
   ]
  },
  {
   "cell_type": "code",
   "execution_count": 12,
   "id": "79e1b0c3-3859-445d-a15f-15771442870b",
   "metadata": {
    "id": "79e1b0c3-3859-445d-a15f-15771442870b",
    "outputId": "9932bc9d-5531-41ec-c57c-ebdf11433b8b"
   },
   "outputs": [
    {
     "data": {
      "text/plain": [
       "<tf.Variable 'Variable:0' shape=() dtype=float32, numpy=0.7984>"
      ]
     },
     "execution_count": 12,
     "metadata": {},
     "output_type": "execute_result"
    }
   ],
   "source": [
    "p"
   ]
  },
  {
   "cell_type": "markdown",
   "id": "af7d2663-4db7-4da1-b55c-acab57da3f9b",
   "metadata": {
    "id": "af7d2663-4db7-4da1-b55c-acab57da3f9b"
   },
   "source": [
    "`(3)` 아래의 모형에 따라서 $\\{Y_i\\}_{i=1}^{10000}$를 생성하는 코드를 작성하라. \n",
    "- $Y_i \\overset{iid}{\\sim} N(\\mu_i,1)$ \n",
    "- $\\mu_i = \\beta_0 + \\beta_1 x_i = 0.5 + 2 x_i$ , where $x_i = \\frac{i}{10000}$"
   ]
  },
  {
   "cell_type": "markdown",
   "id": "da6536c1-15f4-4d5a-b119-2a9e4a9ee146",
   "metadata": {
    "id": "da6536c1-15f4-4d5a-b119-2a9e4a9ee146"
   },
   "source": [
    "함수 $L(\\beta_0,\\beta_1)$을 최대화하는 $(\\beta_0,\\beta_1)$를 `tf.GradeintTape()`를 활용하여 추정하라. (경사하강법 혹은 경사상승법을 사용하고 $\\beta_0,\\beta_1$의 초기값은 모두 1로 설정할 것) \n",
    "\n",
    "$$L(\\beta_0,\\beta_1)=\\prod_{i=1}^{n}f(y_i), \\quad f(y_i)=\\frac{1}{\\sqrt{2\\pi}}e^{-\\frac{1}{2}(y_i-\\mu_i)^2}, \\quad \\mu_i=\\beta_0+\\beta_1 x_i$$"
   ]
  },
  {
   "cell_type": "markdown",
   "id": "0e09988b-02c1-44cd-8339-3d1cabd2dfda",
   "metadata": {
    "id": "0e09988b-02c1-44cd-8339-3d1cabd2dfda"
   },
   "source": [
    "**(풀이)**"
   ]
  },
  {
   "cell_type": "markdown",
   "id": "478300a6-91bc-435e-b5c4-cb4233cfcad2",
   "metadata": {},
   "source": [
    "```python\n",
    "[y1,y2] = np.random.normal(loc=0,scale=1,size=(2,))+[mu1,mu2]\n",
    "```"
   ]
  },
  {
   "cell_type": "code",
   "execution_count": 13,
   "id": "18114e81-df7d-44fc-95e8-d145a6fc7699",
   "metadata": {
    "id": "18114e81-df7d-44fc-95e8-d145a6fc7699",
    "tags": []
   },
   "outputs": [],
   "source": [
    "x= tf.constant(np.arange(1,10001)/10000)\n",
    "y= tnp.random.randn(10000) + (0.5 + 2*x) "
   ]
  },
  {
   "cell_type": "code",
   "execution_count": 17,
   "id": "5f7905ae-c4d9-4545-bcce-63c66f85ebcc",
   "metadata": {},
   "outputs": [
    {
     "data": {
      "text/plain": [
       "[<matplotlib.lines.Line2D at 0x7f4500271930>]"
      ]
     },
     "execution_count": 17,
     "metadata": {},
     "output_type": "execute_result"
    },
    {
     "data": {
      "image/png": "[encoded data removed]",
      "text/plain": [
       "<Figure size 432x288 with 1 Axes>"
      ]
     },
     "metadata": {
      "needs_background": "light"
     },
     "output_type": "display_data"
    }
   ],
   "source": [
    "plt.plot(x,y)"
   ]
  },
  {
   "cell_type": "code",
   "execution_count": 14,
   "id": "7726d65f-0fcb-4722-ab57-837ab2bd9090",
   "metadata": {
    "id": "7726d65f-0fcb-4722-ab57-837ab2bd9090"
   },
   "outputs": [],
   "source": [
    "beta0= tf.Variable(1.0)\n",
    "beta1= tf.Variable(1.0) \n",
    "for i in range(2000):\n",
    "    with tf.GradientTape() as tape: \n",
    "        mu = beta0 + beta1*x \n",
    "        pdf = tnp.exp(-0.5*(y-mu)**2)\n",
    "        logL = tf.reduce_sum(tnp.log(pdf)) \n",
    "    slope1, slope2 = tape.gradient(logL,[beta0,beta1]) \n",
    "    beta0.assign_add(slope1* 0.1/10000) # N=10000 \n",
    "    beta1.assign_add(slope2* 0.1/10000) "
   ]
  },
  {
   "cell_type": "code",
   "execution_count": 15,
   "id": "513a40a6-38de-4015-8d75-57aea356924f",
   "metadata": {
    "id": "513a40a6-38de-4015-8d75-57aea356924f",
    "outputId": "928e786f-69c3-40d9-9139-b0e8b5f1ce3a"
   },
   "outputs": [
    {
     "data": {
      "text/plain": [
       "(<tf.Variable 'Variable:0' shape=() dtype=float32, numpy=0.5316726>,\n",
       " <tf.Variable 'Variable:0' shape=() dtype=float32, numpy=1.9530618>)"
      ]
     },
     "execution_count": 15,
     "metadata": {},
     "output_type": "execute_result"
    }
   ],
   "source": [
    "beta0, beta1"
   ]
  },
  {
   "cell_type": "markdown",
   "id": "f702594a-236e-4e18-a409-c0d926897d2b",
   "metadata": {
    "id": "f702594a-236e-4e18-a409-c0d926897d2b"
   },
   "source": [
    "### `2`. 회귀분석의 이론적해와 tf.keras.optimizer 이용방법 (20점)"
   ]
  },
  {
   "cell_type": "markdown",
   "id": "d2ce33c8-d3ee-4aaf-9476-a14da1d83ef8",
   "metadata": {},
   "source": [
    "**효율적으로 학습률을 찾는 방법**"
   ]
  },
  {
   "cell_type": "markdown",
   "id": "836fa7e8-520c-4097-af2f-532acf652c36",
   "metadata": {},
   "source": [
    "**미니배치의 개념 + 확률적 경사하강법**"
   ]
  },
  {
   "cell_type": "markdown",
   "id": "3efebdc4-8086-43bb-a1fd-9a8b49d86b97",
   "metadata": {
    "id": "3efebdc4-8086-43bb-a1fd-9a8b49d86b97"
   },
   "source": [
    "아래와 같은 선형모형을 고려하자. \n",
    "\n",
    "$$y_i = \\beta_0 + \\beta_1 x_i +\\epsilon_i.$$\n",
    "\n",
    "이때 오차항은 정규분포로 가정한다. 즉 $\\epsilon_i \\overset{iid}{\\sim} N(0,\\sigma^2)$라고 가정한다. \n",
    "\n",
    "관측데이터가 아래와 같을때 아래의 물음에 답하라. "
   ]
  },
  {
   "cell_type": "code",
   "execution_count": 48,
   "id": "eabac705-2792-40cd-9aef-c395ad3c0bb8",
   "metadata": {
    "id": "eabac705-2792-40cd-9aef-c395ad3c0bb8",
    "tags": []
   },
   "outputs": [],
   "source": [
    "#x= tnp.array([20.1, 22.2, 22.7, 23.3, 24.4, 25.1, 26.2, 27.3, 28.4, 30.4])\n",
    "\n",
    "X= tnp.array([[1.0, 20.1], [1.0, 22.2], [1.0, 22.7], [1.0, 23.3], [1.0, 24.4],\n",
    "              [1.0, 25.1], [1.0, 26.2], [1.0, 27.3], [1.0, 28.4], [1.0, 30.4]])\n",
    "y= tnp.array([55.4183651 , 58.19427589, 61.23082496, 62.31255873, 63.1070028 , \n",
    "              63.69569103, 67.24704918, 71.43650092, 73.10130336, 77.84988286]).reshape(10,1)"
   ]
  },
  {
   "cell_type": "markdown",
   "id": "609e3983-c1b8-4746-a745-4ff83186ed98",
   "metadata": {},
   "source": [
    "```python\n",
    "y= tnp.array([55.4183651 , 58.19427589, 61.23082496, 62.31255873, 63.1070028 , \n",
    "              63.69569103, 67.24704918, 71.43650092, 73.10130336, 77.84988286]).reshape(-1,1)\n",
    "# 같음\n",
    "y= tnp.array([55.4183651 , 58.19427589, 61.23082496, 62.31255873, 63.1070028 , \n",
    "              63.69569103, 67.24704918, 71.43650092, 73.10130336, 77.84988286]).reshape(10,1)\n",
    "```"
   ]
  },
  {
   "cell_type": "markdown",
   "id": "fe6f678b-8d2f-4b95-a3d4-b38ada920de1",
   "metadata": {},
   "source": [
    "**곡선이 완만하게 convex해서 조금만 기울기 크게 만들면 터져버려 실현시키기 어려운 모형이다.**"
   ]
  },
  {
   "cell_type": "markdown",
   "id": "b9f5139e-1d1d-4644-a09d-04a7c9a24e22",
   "metadata": {
    "id": "b9f5139e-1d1d-4644-a09d-04a7c9a24e22"
   },
   "source": [
    "`(1)` MSE loss를 최소화 하는 $\\beta_0,\\beta_1$의 해석해를 구하라. "
   ]
  },
  {
   "cell_type": "markdown",
   "id": "a6009c54-00e3-4bad-8af2-0561deb8c5ab",
   "metadata": {
    "id": "a6009c54-00e3-4bad-8af2-0561deb8c5ab"
   },
   "source": [
    "**(풀이)**"
   ]
  },
  {
   "cell_type": "code",
   "execution_count": 30,
   "id": "fb4f9672-6749-441e-95c6-fc97563265c2",
   "metadata": {
    "id": "fb4f9672-6749-441e-95c6-fc97563265c2",
    "outputId": "620211a0-98a2-4204-e509-9f4c9c7e5905"
   },
   "outputs": [
    {
     "data": {
      "text/plain": [
       "<tf.Tensor: shape=(2, 1), dtype=float64, numpy=\n",
       "array([[9.94457323],\n",
       "       [2.21570461]])>"
      ]
     },
     "execution_count": 30,
     "metadata": {},
     "output_type": "execute_result"
    }
   ],
   "source": [
    "tf.linalg.inv(X.T @ X ) @ X.T @ y"
   ]
  },
  {
   "cell_type": "markdown",
   "id": "cbfabe4b-ffc2-40ef-ad4e-7df81174f0ce",
   "metadata": {
    "id": "cbfabe4b-ffc2-40ef-ad4e-7df81174f0ce"
   },
   "source": [
    "`(2)` 경사하강법과 MSE loss의 도함수를 이용하여 $\\beta_0,\\beta_1$을 추정하라. \n",
    "\n",
    "**주의** tf.GradeintTape()를 이용하지 말고 MSE loss의 해석적 도함수를 사용할 것."
   ]
  },
  {
   "cell_type": "markdown",
   "id": "be889f5c-ce64-4d05-b6e7-72a9a9df53ae",
   "metadata": {
    "id": "be889f5c-ce64-4d05-b6e7-72a9a9df53ae"
   },
   "source": [
    "**(풀이)**"
   ]
  },
  {
   "cell_type": "code",
   "execution_count": 23,
   "id": "5cea66e8-0e7d-4bb8-80d2-3cad2ff9f983",
   "metadata": {
    "id": "5cea66e8-0e7d-4bb8-80d2-3cad2ff9f983"
   },
   "outputs": [],
   "source": [
    "beta= tnp.array([5,10]).reshape(2,1) "
   ]
  },
  {
   "cell_type": "code",
   "execution_count": 24,
   "id": "388788a4-4484-4ab4-bd91-814e19607e09",
   "metadata": {
    "id": "388788a4-4484-4ab4-bd91-814e19607e09"
   },
   "outputs": [],
   "source": [
    "for i in range(50000): \n",
    "    beta = beta - 0.0015 * (-2*X.T @y + 2*X.T@X@beta)/10 "
   ]
  },
  {
   "cell_type": "code",
   "execution_count": 25,
   "id": "e7fcd026-ceb4-428b-84f2-2a7207a8a9cf",
   "metadata": {
    "id": "e7fcd026-ceb4-428b-84f2-2a7207a8a9cf",
    "outputId": "1955347e-fa96-4523-d739-c671fb4da51a"
   },
   "outputs": [
    {
     "data": {
      "text/plain": [
       "<tf.Tensor: shape=(2, 1), dtype=float64, numpy=\n",
       "array([[9.28579424],\n",
       "       [2.24168098]])>"
      ]
     },
     "execution_count": 25,
     "metadata": {},
     "output_type": "execute_result"
    }
   ],
   "source": [
    "beta"
   ]
  },
  {
   "cell_type": "markdown",
   "id": "79cd50f2-b147-4203-8ae4-ae94e75a9e81",
   "metadata": {
    "id": "79cd50f2-b147-4203-8ae4-ae94e75a9e81"
   },
   "source": [
    "`(3)` `tf.keras.optimizers`의 `apply_gradients()`를 이용하여 $\\beta_0,\\beta_1$을 추정하라. "
   ]
  },
  {
   "cell_type": "markdown",
   "id": "b6baf179-8f72-491c-b47e-50715a99dac2",
   "metadata": {
    "id": "b6baf179-8f72-491c-b47e-50715a99dac2"
   },
   "source": [
    "**(풀이)**"
   ]
  },
  {
   "cell_type": "code",
   "execution_count": 49,
   "id": "1e44e475-0e21-496d-aa35-46f6e2d98780",
   "metadata": {
    "id": "1e44e475-0e21-496d-aa35-46f6e2d98780"
   },
   "outputs": [],
   "source": [
    "beta = tf.Variable(tnp.array([5.0,10.0]).reshape(2,1)) \n",
    "opt = tf.optimizers.SGD(0.0015) \n",
    "for i in range(50000): \n",
    "    with tf.GradientTape() as tape: \n",
    "        loss = (y-X@beta).T @ (y-X@beta) / 10 \n",
    "    slope = tape.gradient(loss,beta) \n",
    "    opt.apply_gradients([(slope,beta)]) "
   ]
  },
  {
   "cell_type": "code",
   "execution_count": 50,
   "id": "5e858e5b-5722-433a-a8df-cd6d7f1972e5",
   "metadata": {
    "id": "5e858e5b-5722-433a-a8df-cd6d7f1972e5",
    "outputId": "d9145023-1726-4835-ad08-9435b901dd79"
   },
   "outputs": [
    {
     "data": {
      "text/plain": [
       "<tf.Variable 'Variable:0' shape=(2, 1) dtype=float64, numpy=\n",
       "array([[9.28579425],\n",
       "       [2.24168098]])>"
      ]
     },
     "execution_count": 50,
     "metadata": {},
     "output_type": "execute_result"
    }
   ],
   "source": [
    "beta"
   ]
  },
  {
   "cell_type": "markdown",
   "id": "0c172474-11b5-41ae-84e8-538c8ac2af17",
   "metadata": {
    "id": "0c172474-11b5-41ae-84e8-538c8ac2af17"
   },
   "source": [
    "`(4)` `tf.keras.optimizers`의 `minimize()`를 이용하여 $\\beta_0,\\beta_1$을 추정하라. "
   ]
  },
  {
   "cell_type": "markdown",
   "id": "d94e8f24-69f9-4533-8b46-b2d11e593022",
   "metadata": {
    "id": "d94e8f24-69f9-4533-8b46-b2d11e593022"
   },
   "source": [
    "**(풀이)**"
   ]
  },
  {
   "cell_type": "code",
   "execution_count": 28,
   "id": "63d55f7f-3a96-404b-9b82-72d49aa9648e",
   "metadata": {
    "id": "63d55f7f-3a96-404b-9b82-72d49aa9648e"
   },
   "outputs": [],
   "source": [
    "beta = tf.Variable(tnp.array([5.0,10.0]).reshape(2,1)) \n",
    "opt = tf.optimizers.SGD(0.0015) \n",
    "loss_fn = lambda: (y-X@beta).T @ (y-X@beta) / 10 \n",
    "for i in range(50000): \n",
    "    opt.minimize(loss_fn,beta)  "
   ]
  },
  {
   "cell_type": "code",
   "execution_count": 29,
   "id": "c59c9ff7-9b01-4855-9047-01cc082c9418",
   "metadata": {
    "id": "c59c9ff7-9b01-4855-9047-01cc082c9418",
    "outputId": "2b01a6a6-2744-4e05-a901-e96034c55776"
   },
   "outputs": [
    {
     "data": {
      "text/plain": [
       "<tf.Variable 'Variable:0' shape=(2, 1) dtype=float64, numpy=\n",
       "array([[9.28579425],\n",
       "       [2.24168098]])>"
      ]
     },
     "execution_count": 29,
     "metadata": {},
     "output_type": "execute_result"
    }
   ],
   "source": [
    "beta"
   ]
  },
  {
   "cell_type": "markdown",
   "id": "4c5fe083-f319-4381-bc21-5bf18ae531cf",
   "metadata": {
    "id": "4c5fe083-f319-4381-bc21-5bf18ae531cf"
   },
   "source": [
    "### `3`. keras를 이용한 풀이 (30점)"
   ]
  },
  {
   "cell_type": "markdown",
   "id": "5d15790d-6f7e-4ecd-9b9d-27d809ff8a0d",
   "metadata": {
    "id": "5d15790d-6f7e-4ecd-9b9d-27d809ff8a0d"
   },
   "source": [
    "`(1)` 아래와 같은 모형을 고려하자. \n",
    "\n",
    "$$y_i= \\beta_0 + \\sum_{k=1}^{5} \\beta_k \\cos(k t_i)+\\epsilon_i, \\quad i=0,1,\\dots, 999$$\n",
    "\n",
    "여기에서 $t_i=\\frac{2\\pi i}{1000}$ 이다. 그리고 $\\epsilon_i \\sim i.i.d~ N(0,\\sigma^2)$, 즉 서로 독립인 표준정규분포에서 추출된 샘플이다. 위의 모형에서 아래와 같은 데이터를 관측했다고 가정하자. "
   ]
  },
  {
   "cell_type": "markdown",
   "id": "526c2389-4212-4438-aa04-d0d09309e627",
   "metadata": {},
   "source": [
    "**복잡한 모형과 오버피팅**"
   ]
  },
  {
   "cell_type": "code",
   "execution_count": 31,
   "id": "d136550f-c5de-49c2-9592-d5727132eeae",
   "metadata": {
    "id": "d136550f-c5de-49c2-9592-d5727132eeae",
    "outputId": "52e89f79-1d0e-4452-abba-63be02411256"
   },
   "outputs": [
    {
     "data": {
      "text/plain": [
       "[<matplotlib.lines.Line2D at 0x7f4500288a90>]"
      ]
     },
     "execution_count": 31,
     "metadata": {},
     "output_type": "execute_result"
    },
    {
     "data": {
      "image/png": "[encoded data removed]",
      "text/plain": [
       "<Figure size 432x288 with 1 Axes>"
      ]
     },
     "metadata": {
      "needs_background": "light"
     },
     "output_type": "display_data"
    }
   ],
   "source": [
    "np.random.seed(43052)\n",
    "t= np.array(range(1000))* np.pi/1000\n",
    "y = -2+ 3*np.cos(t) + 1*np.cos(2*t) + 0.5*np.cos(5*t) + np.random.randn(1000)*0.2\n",
    "plt.plot(t,y,'.',alpha=0.2)"
   ]
  },
  {
   "cell_type": "markdown",
   "id": "eeab60d2-c405-4d7b-9cc7-49d887f414bc",
   "metadata": {
    "id": "eeab60d2-c405-4d7b-9cc7-49d887f414bc"
   },
   "source": [
    "tf.keras를 이용하여 $\\beta_0,\\dots,\\beta_5$를 추정하라. ($\\beta_0,\\dots,\\beta_5$의 참값은 각각 -2,3,1,0,0,0.5 이다) "
   ]
  },
  {
   "cell_type": "markdown",
   "id": "24378357-f1a8-4006-98c0-da6b112fd15b",
   "metadata": {
    "id": "24378357-f1a8-4006-98c0-da6b112fd15b"
   },
   "source": [
    "**(풀이)**"
   ]
  },
  {
   "cell_type": "code",
   "execution_count": 32,
   "id": "d4e5462a-8e5f-440a-ab55-36740a20ff2b",
   "metadata": {
    "id": "d4e5462a-8e5f-440a-ab55-36740a20ff2b"
   },
   "outputs": [],
   "source": [
    "y = y.reshape(1000,1)\n",
    "x1 = np.cos(t) \n",
    "x2 = np.cos(2*t)\n",
    "x3 = np.cos(3*t)\n",
    "x4 = np.cos(4*t)\n",
    "x5 = np.cos(5*t)\n",
    "X = tf.stack([x1,x2,x3,x4,x5],axis=1)"
   ]
  },
  {
   "cell_type": "markdown",
   "id": "b9b9aa1c-2f90-447a-b14b-cdff1ee268fe",
   "metadata": {},
   "source": [
    "bias  true로 만들면 되니까 상수항 별도로 안 만들어도 뭐.."
   ]
  },
  {
   "cell_type": "code",
   "execution_count": 33,
   "id": "91219b55-a5ab-4f12-9df5-77b0242ad086",
   "metadata": {
    "id": "91219b55-a5ab-4f12-9df5-77b0242ad086",
    "outputId": "7f4a2088-db10-4439-a26f-3036cc413f56"
   },
   "outputs": [
    {
     "data": {
      "text/plain": [
       "<keras.callbacks.History at 0x7f448013ca90>"
      ]
     },
     "execution_count": 33,
     "metadata": {},
     "output_type": "execute_result"
    }
   ],
   "source": [
    "net = tf.keras.Sequential()\n",
    "net.add(tf.keras.layers.Dense(1)) \n",
    "net.compile(loss='mse',optimizer='sgd') \n",
    "net.fit(X,y,batch_size=1000, epochs = 1000, verbose=0) "
   ]
  },
  {
   "cell_type": "code",
   "execution_count": 34,
   "id": "f3ccfe2f-7318-4abb-bbb9-33ab06d2eb1d",
   "metadata": {
    "id": "f3ccfe2f-7318-4abb-bbb9-33ab06d2eb1d",
    "outputId": "0e361431-f669-4474-9742-0c27d57b0920"
   },
   "outputs": [
    {
     "data": {
      "text/plain": [
       "[<tf.Variable 'dense/kernel:0' shape=(5, 1) dtype=float32, numpy=\n",
       " array([[ 3.0008404e+00],\n",
       "        [ 1.0067019e+00],\n",
       "        [ 1.8562048e-03],\n",
       "        [-3.8460973e-03],\n",
       "        [ 4.9710518e-01]], dtype=float32)>,\n",
       " <tf.Variable 'dense/bias:0' shape=(1,) dtype=float32, numpy=array([-2.0122595], dtype=float32)>]"
      ]
     },
     "execution_count": 34,
     "metadata": {},
     "output_type": "execute_result"
    }
   ],
   "source": [
    "net.weights"
   ]
  },
  {
   "cell_type": "markdown",
   "id": "85e44a28-4970-40ba-92ad-821134f8cb79",
   "metadata": {
    "id": "85e44a28-4970-40ba-92ad-821134f8cb79"
   },
   "source": [
    "`(2)` 아래와 같은 모형을 고려하자. \n",
    "\n",
    "$$y_i \\sim Ber(\\pi_i), ~ \\text{where} ~ \\pi_i=\\frac{\\exp(w_0+w_1x_i)}{1+\\exp(w_0+w_1x_i)}$$\n"
   ]
  },
  {
   "cell_type": "markdown",
   "id": "f7caedd8-176b-4b04-8632-729c376ee521",
   "metadata": {
    "id": "f7caedd8-176b-4b04-8632-729c376ee521"
   },
   "source": [
    "위의 모형에서 관측한 데이터는 아래와 같다. "
   ]
  },
  {
   "cell_type": "code",
   "execution_count": 35,
   "id": "f4761787-1e6b-49f0-b8bf-a11e8332bab6",
   "metadata": {
    "id": "f4761787-1e6b-49f0-b8bf-a11e8332bab6",
    "outputId": "719b5dff-8cb3-435a-f16d-bea11a5369d1",
    "tags": []
   },
   "outputs": [
    {
     "data": {
      "text/plain": [
       "[<matplotlib.lines.Line2D at 0x7f445c456830>]"
      ]
     },
     "execution_count": 35,
     "metadata": {},
     "output_type": "execute_result"
    },
    {
     "data": {
      "image/png": "[encoded data removed]",
      "text/plain": [
       "<Figure size 432x288 with 1 Axes>"
      ]
     },
     "metadata": {
      "needs_background": "light"
     },
     "output_type": "display_data"
    }
   ],
   "source": [
    "tf.random.set_seed(43052)\n",
    "x = tnp.linspace(-1,1,2000) \n",
    "y = tf.constant(np.random.binomial(1, tf.nn.sigmoid(-1+5*x)),dtype=tf.float64) \n",
    "plt.plot(x,y,'.',alpha=0.05)"
   ]
  },
  {
   "cell_type": "markdown",
   "id": "d449924f-1bb3-460b-bfd5-5a68ae2de894",
   "metadata": {
    "id": "d449924f-1bb3-460b-bfd5-5a68ae2de894"
   },
   "source": [
    "tf.keras를 이용하여 $w_0,w_1$을 추정하라. (참고: $w_0, w_1$에 대한 참값은 -1과 5이다.) "
   ]
  },
  {
   "cell_type": "markdown",
   "id": "6da441f9-693d-42f7-a613-3cf1ef2cc1b9",
   "metadata": {
    "id": "6da441f9-693d-42f7-a613-3cf1ef2cc1b9"
   },
   "source": [
    "**(풀이)**"
   ]
  },
  {
   "cell_type": "code",
   "execution_count": 36,
   "id": "9796f386-74b1-4b94-8140-d4acc073d057",
   "metadata": {
    "id": "9796f386-74b1-4b94-8140-d4acc073d057"
   },
   "outputs": [],
   "source": [
    "x= x.reshape(2000,1) \n",
    "y= y.reshape(2000,1) "
   ]
  },
  {
   "cell_type": "code",
   "execution_count": 37,
   "id": "07edd833-3739-4421-ad93-0d488dd46b41",
   "metadata": {
    "id": "07edd833-3739-4421-ad93-0d488dd46b41",
    "outputId": "08ace0cd-947e-4c5f-ce78-851c5912c9ef"
   },
   "outputs": [
    {
     "data": {
      "text/plain": [
       "<keras.callbacks.History at 0x7f45001764a0>"
      ]
     },
     "execution_count": 37,
     "metadata": {},
     "output_type": "execute_result"
    }
   ],
   "source": [
    "net= tf.keras.Sequential()\n",
    "net.add(tf.keras.layers.Dense(1,activation='sigmoid'))\n",
    "net.compile(optimizer='sgd', loss= tf.losses.binary_crossentropy) \n",
    "net.fit(x,y,epochs=10000,batch_size=2000, verbose=0)"
   ]
  },
  {
   "cell_type": "code",
   "execution_count": 38,
   "id": "58fc4d4b-b40f-4518-92dc-19250710e471",
   "metadata": {
    "id": "58fc4d4b-b40f-4518-92dc-19250710e471",
    "outputId": "f31dcc70-50d9-4ceb-c007-c6f2a590ee4c"
   },
   "outputs": [
    {
     "data": {
      "text/plain": [
       "[<tf.Variable 'dense_1/kernel:0' shape=(1, 1) dtype=float32, numpy=array([[4.232856]], dtype=float32)>,\n",
       " <tf.Variable 'dense_1/bias:0' shape=(1,) dtype=float32, numpy=array([-0.90837014], dtype=float32)>]"
      ]
     },
     "execution_count": 38,
     "metadata": {},
     "output_type": "execute_result"
    }
   ],
   "source": [
    "net.weights"
   ]
  },
  {
   "cell_type": "code",
   "execution_count": 39,
   "id": "de44e0db-c5f3-4736-9350-54f372a710ee",
   "metadata": {
    "id": "de44e0db-c5f3-4736-9350-54f372a710ee",
    "outputId": "c731ac82-f7ac-4cfd-b8c1-7d1dee61389a"
   },
   "outputs": [
    {
     "data": {
      "text/plain": [
       "[<matplotlib.lines.Line2D at 0x7f4500176110>]"
      ]
     },
     "execution_count": 39,
     "metadata": {},
     "output_type": "execute_result"
    },
    {
     "data": {
      "image/png": "[encoded data removed]",
      "text/plain": [
       "<Figure size 432x288 with 1 Axes>"
      ]
     },
     "metadata": {
      "needs_background": "light"
     },
     "output_type": "display_data"
    }
   ],
   "source": [
    "plt.plot(y,'.')\n",
    "plt.plot(net(x),'--')"
   ]
  },
  {
   "cell_type": "markdown",
   "id": "6d234980-2466-4209-a6a1-190475ffec6d",
   "metadata": {
    "id": "6d234980-2466-4209-a6a1-190475ffec6d"
   },
   "source": [
    "### `4`. Piecewise-linear regression (15점) "
   ]
  },
  {
   "cell_type": "markdown",
   "id": "301363f2-75c1-4371-bdf6-21847412a009",
   "metadata": {},
   "source": [
    "**분석결과를 물어보는 방법**"
   ]
  },
  {
   "cell_type": "markdown",
   "id": "413d267a-10c6-405b-90dc-edfdd9f42e5a",
   "metadata": {
    "id": "413d267a-10c6-405b-90dc-edfdd9f42e5a"
   },
   "source": [
    "아래의 모형을 고려하자. \n",
    "\n",
    "model: $y_i=\\begin{cases} x_i +0.3\\epsilon_i & x\\leq 0 \\\\ 3.5x_i +0.3\\epsilon_i & x>0 \\end{cases}$ "
   ]
  },
  {
   "cell_type": "markdown",
   "id": "e7f1c5db-e8cc-4518-9c8e-0e5a44b570fa",
   "metadata": {
    "id": "e7f1c5db-e8cc-4518-9c8e-0e5a44b570fa"
   },
   "source": [
    "아래는 위의 모형에서 생성한 샘플이다. "
   ]
  },
  {
   "cell_type": "code",
   "execution_count": 40,
   "id": "908224ae-65a2-414a-95c2-2f3f62e18da0",
   "metadata": {
    "id": "908224ae-65a2-414a-95c2-2f3f62e18da0"
   },
   "outputs": [],
   "source": [
    "## data \n",
    "np.random.seed(43052)\n",
    "N=100\n",
    "x= np.linspace(-1,1,N).reshape(N,1)\n",
    "y= np.array(list(map(lambda x: x*1+np.random.normal()*0.3 if x<0 else x*3.5+np.random.normal()*0.3,x))).reshape(N,1)"
   ]
  },
  {
   "cell_type": "markdown",
   "id": "908a20cf-96ca-448e-a19e-a0f24792f6b2",
   "metadata": {
    "id": "908a20cf-96ca-448e-a19e-a0f24792f6b2"
   },
   "source": [
    "`(1)` 다음은 $(x_i,y_i)$를 아래와 같은 아키텍처로 적합시키는 코드이다. \n",
    "\n",
    "- $\\hat{y} =  \\hat{\\beta}_0+\\hat{\\beta}_1x $"
   ]
  },
  {
   "cell_type": "code",
   "execution_count": 41,
   "id": "8ed0488d-ad21-4f0b-81ec-6317ce3257ee",
   "metadata": {
    "id": "8ed0488d-ad21-4f0b-81ec-6317ce3257ee",
    "outputId": "aeceb812-bf5c-4eeb-ad4a-f9844897d359"
   },
   "outputs": [
    {
     "data": {
      "text/plain": [
       "<keras.callbacks.History at 0x7f445c1e5b10>"
      ]
     },
     "execution_count": 41,
     "metadata": {},
     "output_type": "execute_result"
    }
   ],
   "source": [
    "tf.random.set_seed(43054) \n",
    "net = tf.keras.Sequential()\n",
    "net.add(tf.keras.layers.Dense(1)) \n",
    "net.compile(optimizer=tf.optimizers.SGD(0.1),loss='mse')\n",
    "net.fit(x,y,batch_size=N,epochs=1000,verbose=0) # numpy로 해도 돌아감"
   ]
  },
  {
   "cell_type": "markdown",
   "id": "2aafce5a-c3c4-4102-8b24-40d345f47c91",
   "metadata": {
    "id": "2aafce5a-c3c4-4102-8b24-40d345f47c91"
   },
   "source": [
    "케라스에 의해 추정된 $\\hat{\\beta}_0,\\hat{\\beta}_1$을 구하라. "
   ]
  },
  {
   "cell_type": "code",
   "execution_count": 42,
   "id": "00609860-f8e5-404d-af0a-4a24070110e2",
   "metadata": {
    "id": "00609860-f8e5-404d-af0a-4a24070110e2",
    "outputId": "b87b30d9-219e-4222-85d7-92551b6fd544"
   },
   "outputs": [
    {
     "data": {
      "text/plain": [
       "[<tf.Variable 'dense_2/kernel:0' shape=(1, 1) dtype=float32, numpy=array([[2.2616348]], dtype=float32)>,\n",
       " <tf.Variable 'dense_2/bias:0' shape=(1,) dtype=float32, numpy=array([0.6069048], dtype=float32)>]"
      ]
     },
     "execution_count": 42,
     "metadata": {},
     "output_type": "execute_result"
    }
   ],
   "source": [
    "net.weights"
   ]
  },
  {
   "cell_type": "markdown",
   "id": "443a41e5-2a3e-4179-9fd6-6dbffe31cc85",
   "metadata": {
    "id": "443a41e5-2a3e-4179-9fd6-6dbffe31cc85"
   },
   "source": [
    "**(풀이)**"
   ]
  },
  {
   "cell_type": "markdown",
   "id": "e9594216-ea58-467a-9482-9cfb23da2934",
   "metadata": {
    "id": "e9594216-ea58-467a-9482-9cfb23da2934"
   },
   "source": [
    "- $\\hat{\\beta}_0= 0.6069048$\n",
    "- $\\hat{\\beta}_1= 2.2616348$"
   ]
  },
  {
   "cell_type": "markdown",
   "id": "5899c1fc-0b60-4eed-9732-3fe7b14c1e81",
   "metadata": {
    "id": "5899c1fc-0b60-4eed-9732-3fe7b14c1e81"
   },
   "source": [
    "`(2)` 다음은 $(x_i,y_i)$를 아래와 같은 아키텍처로 적합시키는 코드이다. \n",
    "\n",
    "- $\\boldsymbol{u}= x\\boldsymbol{W}^{(1)}+\\boldsymbol{b}^{(1)}$\n",
    "- $\\boldsymbol{v}= \\text{relu}(u)$ \n",
    "- $yhat= \\boldsymbol{v}\\boldsymbol{W}^{(2)}+b^{(2)}$"
   ]
  },
  {
   "cell_type": "code",
   "execution_count": 45,
   "id": "7763ed76-b80a-4e87-b03b-054e49cfed69",
   "metadata": {
    "id": "7763ed76-b80a-4e87-b03b-054e49cfed69",
    "outputId": "90db1594-4b5b-4253-b7d1-59e00017fd87"
   },
   "outputs": [
    {
     "data": {
      "text/plain": [
       "<keras.callbacks.History at 0x7f445c1244f0>"
      ]
     },
     "execution_count": 45,
     "metadata": {},
     "output_type": "execute_result"
    }
   ],
   "source": [
    "tf.random.set_seed(43056) \n",
    "## 1단계\n",
    "net = tf.keras.Sequential() \n",
    "net.add(tf.keras.layers.Dense(2))\n",
    "net.add(tf.keras.layers.Activation('relu')) \n",
    "net.add(tf.keras.layers.Dense(1))\n",
    "net.compile(optimizer=tf.optimizers.SGD(0.1),loss='mse')\n",
    "net.fit(x,y,epochs=1000,verbose=0,batch_size=N)"
   ]
  },
  {
   "cell_type": "markdown",
   "id": "e33d6f7e-aa2e-4fb3-b2c8-dfab5e675de7",
   "metadata": {
    "id": "e33d6f7e-aa2e-4fb3-b2c8-dfab5e675de7"
   },
   "source": [
    "${\\boldsymbol u}$를 이용하여 ${\\boldsymbol v}$를 만드는 코드와 ${\\boldsymbol v}$를 이용하여 $yhat$를 만드는 코드를 작성하라. "
   ]
  },
  {
   "cell_type": "markdown",
   "id": "2c4078ad-37a9-45e4-97f9-344e8ec34305",
   "metadata": {
    "id": "2c4078ad-37a9-45e4-97f9-344e8ec34305"
   },
   "source": [
    "**(풀이)**"
   ]
  },
  {
   "cell_type": "code",
   "execution_count": 46,
   "id": "2b64e9ea-baff-40cb-b451-4dbbc1402b8d",
   "metadata": {
    "id": "2b64e9ea-baff-40cb-b451-4dbbc1402b8d"
   },
   "outputs": [],
   "source": [
    "u=net.layers[0](x)\n",
    "v=net.layers[1](u) \n",
    "yhat=net.layers[2](v) "
   ]
  },
  {
   "cell_type": "markdown",
   "id": "0c1435de-aebe-4bb0-96da-18bc35075fa5",
   "metadata": {},
   "source": [
    "```python\n",
    "# 같음\n",
    "l1,a1,l2 = net.layers\n",
    "u=l1(x)\n",
    "v=a1(u)\n",
    "yhat=l2(v)\n",
    "```"
   ]
  },
  {
   "cell_type": "markdown",
   "id": "baa588e0-03dd-4f33-aff2-19e09ab69f6d",
   "metadata": {
    "id": "baa588e0-03dd-4f33-aff2-19e09ab69f6d"
   },
   "source": [
    "`(3)` 아래는 `(1)-(2)`번 모형에 대한 discussion이다. 올바른 것을 모두 골라라. \n",
    "\n",
    "**(곤이)** (2) 모형은 활성화함수로 relu를 사용하였다. \n",
    "\n",
    "**(철용)** (1) 모형에서 추정해야할 파라메터의 수는 2개이다. \n",
    "\n",
    "**(아귀)** (2) 모형이 (1) 모형보다 복잡한 모형이다. \n",
    "\n",
    "~~**(짝귀)** (1) 의 모형은 오버피팅의 위험이 있다.~~"
   ]
  },
  {
   "cell_type": "markdown",
   "id": "1fbe974e-1a43-4281-bfd0-84c09e00ead4",
   "metadata": {
    "id": "1fbe974e-1a43-4281-bfd0-84c09e00ead4"
   },
   "source": [
    "### `5`. 다음을 잘 읽고 참과 거짓을 판단하라. (5점)"
   ]
  },
  {
   "cell_type": "markdown",
   "id": "6a972202-b9ef-4e37-9561-41bb58c3df17",
   "metadata": {
    "id": "6a972202-b9ef-4e37-9561-41bb58c3df17"
   },
   "source": [
    "`(1)` 적절한 학습률이 선택된다면, 경사하강법은 손실함수가 convex일때 언제나 전역최소해를 찾을 수 있다."
   ]
  },
  {
   "cell_type": "markdown",
   "id": "99bcd77d-c751-4cb9-ac24-ba15f5f01d01",
   "metadata": {
    "id": "99bcd77d-c751-4cb9-ac24-ba15f5f01d01"
   },
   "source": [
    "~~`(2)` `tf.GradeintTape()`는 경사하강법을 이용하여 최적점을 찾아주는 tool이다.~~"
   ]
  },
  {
   "cell_type": "markdown",
   "id": "9ce0ca2f-39c7-441f-ac28-4d2647f42049",
   "metadata": {
    "id": "9ce0ca2f-39c7-441f-ac28-4d2647f42049"
   },
   "source": [
    "`(3)` 학습률이 크다는 것은 파라메터는 1회 업데이트 하는 양이 크다는 것을 의미한다. "
   ]
  },
  {
   "cell_type": "markdown",
   "id": "00e49702-9cfc-4148-bbd9-d90c61299cfb",
   "metadata": {
    "id": "00e49702-9cfc-4148-bbd9-d90c61299cfb"
   },
   "source": [
    "~~`(4)` 학습률이 크면 학습파라메터의 수렴속도가 빨라지지만 때때로 과적합에 빠질 수도 있다.~~"
   ]
  },
  {
   "cell_type": "markdown",
   "id": "1b76fa32-7b56-4d60-9eaf-a8df25216185",
   "metadata": {},
   "source": [
    "과적합은 학습률이랑 상관이 없어요"
   ]
  },
  {
   "cell_type": "markdown",
   "id": "7520eafe-392a-4b37-b117-add58f81f74e",
   "metadata": {
    "id": "7520eafe-392a-4b37-b117-add58f81f74e"
   },
   "source": [
    "`(5)` 단순회귀분석에서 MSE loss를 최소화 하는 해는 경사하강법을 이용하지 않아도 해석적으로 구할 수 있다. "
   ]
  }
 ],
 "metadata": {
  "colab": {
   "name": "2022-04-27-중간고사 해설.ipynb",
   "provenance": []
  },
  "kernelspec": {
   "display_name": "Python 3 (ipykernel)",
   "language": "python",
   "name": "python3"
  },
  "language_info": {
   "codemirror_mode": {
    "name": "ipython",
    "version": 3
   },
   "file_extension": ".py",
   "mimetype": "text/x-python",
   "name": "python",
   "nbconvert_exporter": "python",
   "pygments_lexer": "ipython3",
   "version": "3.10.0"
  }
 },
 "nbformat": 4,
 "nbformat_minor": 5
}
