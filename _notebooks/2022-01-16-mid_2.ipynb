{
 "cells": [
  {
   "cell_type": "markdown",
   "id": "5e4a12e2-85ef-4b19-965c-7087d36edf79",
   "metadata": {
    "id": "5e4a12e2-85ef-4b19-965c-7087d36edf79",
    "tags": []
   },
   "source": [
    "# 안 끝남.. 빅데이터분석 중간고사\n",
    "\n",
    "- toc:false\n",
    "- branch: master\n",
    "- badges: false\n",
    "- comments: false \n",
    "- author: 최서연\n",
    "- categories: [Big Data Analysis]"
   ]
  },
  {
   "cell_type": "markdown",
   "id": "e136699b-1d2c-438d-8baa-db30c4161dd7",
   "metadata": {
    "id": "e136699b-1d2c-438d-8baa-db30c4161dd7",
    "tags": []
   },
   "source": [
    "### `1`. 크롤링을 통한 이미지 분석 및 CAM (40점)"
   ]
  },
  {
   "cell_type": "markdown",
   "id": "f46963d5-b6a2-4b53-9e19-0988a104810a",
   "metadata": {
    "id": "f46963d5-b6a2-4b53-9e19-0988a104810a"
   },
   "source": [
    "#### (a) 두가지 키워드로 크롤링하여 이미지 자료를 모으고 CNN 모형을 활용하여 분석하라. \n",
    "- 2주차-hw1의 분석코드를 그대로 활용하여도 무방함"
   ]
  },
  {
   "cell_type": "markdown",
   "id": "091ded1b-354b-4fd5-a027-3a11e72f155a",
   "metadata": {
    "id": "091ded1b-354b-4fd5-a027-3a11e72f155a"
   },
   "source": [
    "#### (b) CAM을 이용하여 CNN의 판단근거를 시각화하라. "
   ]
  },
  {
   "cell_type": "markdown",
   "id": "a71e4ec8-4b7e-4fc5-9ff3-00557db98a90",
   "metadata": {
    "id": "a71e4ec8-4b7e-4fc5-9ff3-00557db98a90"
   },
   "source": [
    "### `2`. 아래와 같은 5개의 자료를 관측하였다고 가정하자. (15점)"
   ]
  },
  {
   "cell_type": "markdown",
   "id": "57db4e75-0471-40d9-90f6-403dc126f944",
   "metadata": {
    "id": "57db4e75-0471-40d9-90f6-403dc126f944"
   },
   "source": [
    "||x|y|\n",
    "|:-:|:-:|:-:|\n",
    "|0|11|17.7|\n",
    "|1|12|18.5|\n",
    "|2|13|21.2|\n",
    "|3|14|23.6|\n",
    "|4|15|24.2|\n"
   ]
  },
  {
   "cell_type": "markdown",
   "id": "33ba1aa9-6c60-4293-a965-5a434431b998",
   "metadata": {
    "id": "33ba1aa9-6c60-4293-a965-5a434431b998"
   },
   "source": [
    "#### (a) 모형 $y_i=\\beta_0+\\beta_1 x_i$에 해당하는 네트워크를 파이토치를 이용하여 설계하고 손실함수를 정의하라. $(\\beta_0,\\beta_1)=(3,3)$일 경우의 loss를 계산하라. "
   ]
  },
  {
   "cell_type": "markdown",
   "id": "f88dfaa9-6f76-4dd8-87c8-8172bef81d23",
   "metadata": {
    "id": "f88dfaa9-6f76-4dd8-87c8-8172bef81d23"
   },
   "source": [
    "- 손실함수는 MSELoss를 활용한다. "
   ]
  },
  {
   "cell_type": "markdown",
   "id": "18f1d29b-eee9-4ecd-92ac-fb56e0b2d3ed",
   "metadata": {
    "id": "18f1d29b-eee9-4ecd-92ac-fb56e0b2d3ed"
   },
   "source": [
    "#### (b) $(\\beta_0,\\beta_1)=(3,3)$에서 손실함수의 미분계수를 계산하라. "
   ]
  },
  {
   "cell_type": "markdown",
   "id": "2c1931c6-61b2-4c97-8a58-9ddf56602461",
   "metadata": {
    "id": "2c1931c6-61b2-4c97-8a58-9ddf56602461"
   },
   "source": [
    "#### (c) 경사하강법을 통하여 $(\\beta_0,\\beta_1)=(3,3)$의 값을 1회 update하라. 여기에서 학습률은 0.01로 설정한다. "
   ]
  },
  {
   "cell_type": "markdown",
   "id": "246568bd-62fe-4edd-8f67-ed859f941712",
   "metadata": {
    "id": "246568bd-62fe-4edd-8f67-ed859f941712"
   },
   "source": [
    "### `3`. 파이토치를 이용한 모형구축 및 학습 (20점) "
   ]
  },
  {
   "cell_type": "markdown",
   "id": "77ca41f9-bfff-400f-8f82-93380214df1f",
   "metadata": {
    "id": "77ca41f9-bfff-400f-8f82-93380214df1f"
   },
   "source": [
    "아래와 같은 모형에서 시뮬레이션 된 자료가 있다고 하자. "
   ]
  },
  {
   "cell_type": "markdown",
   "id": "449a698b-96da-4525-9900-d6a346ea2e9a",
   "metadata": {
    "id": "449a698b-96da-4525-9900-d6a346ea2e9a"
   },
   "source": [
    "$$y_i= \\beta_0 + \\beta_1 \\exp(-x_i)+ \\epsilon_i$$"
   ]
  },
  {
   "cell_type": "markdown",
   "id": "372f6ba2-f624-4866-bb69-6ebad340c2a4",
   "metadata": {
    "id": "372f6ba2-f624-4866-bb69-6ebad340c2a4"
   },
   "source": [
    "여기에서 $\\epsilon_i \\overset{iid}\\sim N(0,0.1^2)$ 이다. 시뮬레이션된 자료는 아래의 코드를 통하여 얻을 수 있다."
   ]
  },
  {
   "cell_type": "code",
   "execution_count": null,
   "id": "af6d6bfb-94ed-4c70-ad1b-7a539baf9de4",
   "metadata": {
    "id": "af6d6bfb-94ed-4c70-ad1b-7a539baf9de4",
    "outputId": "403f21ac-8bfa-4af8-f14c-2052ea87f6e0"
   },
   "outputs": [
    {
     "data": {
      "text/html": [
       "<div>\n",
       "<style scoped>\n",
       "    .dataframe tbody tr th:only-of-type {\n",
       "        vertical-align: middle;\n",
       "    }\n",
       "\n",
       "    .dataframe tbody tr th {\n",
       "        vertical-align: top;\n",
       "    }\n",
       "\n",
       "    .dataframe thead th {\n",
       "        text-align: right;\n",
       "    }\n",
       "</style>\n",
       "<table border=\"1\" class=\"dataframe\">\n",
       "  <thead>\n",
       "    <tr style=\"text-align: right;\">\n",
       "      <th></th>\n",
       "      <th>x</th>\n",
       "      <th>y</th>\n",
       "    </tr>\n",
       "  </thead>\n",
       "  <tbody>\n",
       "    <tr>\n",
       "      <th>0</th>\n",
       "      <td>0.0</td>\n",
       "      <td>4.962202</td>\n",
       "    </tr>\n",
       "    <tr>\n",
       "      <th>1</th>\n",
       "      <td>0.1</td>\n",
       "      <td>4.889815</td>\n",
       "    </tr>\n",
       "    <tr>\n",
       "      <th>2</th>\n",
       "      <td>0.2</td>\n",
       "      <td>4.605782</td>\n",
       "    </tr>\n",
       "    <tr>\n",
       "      <th>3</th>\n",
       "      <td>0.3</td>\n",
       "      <td>4.491711</td>\n",
       "    </tr>\n",
       "    <tr>\n",
       "      <th>4</th>\n",
       "      <td>0.4</td>\n",
       "      <td>4.344537</td>\n",
       "    </tr>\n",
       "  </tbody>\n",
       "</table>\n",
       "</div>"
      ],
      "text/plain": [
       "     x         y\n",
       "0  0.0  4.962202\n",
       "1  0.1  4.889815\n",
       "2  0.2  4.605782\n",
       "3  0.3  4.491711\n",
       "4  0.4  4.344537"
      ]
     },
     "execution_count": 63,
     "metadata": {},
     "output_type": "execute_result"
    }
   ],
   "source": [
    "import pandas as pd \n",
    "df=pd.read_csv('https://raw.githubusercontent.com/guebin/2021BDA/master/_notebooks/2021-11-06-prob3.csv')\n",
    "df.head()"
   ]
  },
  {
   "cell_type": "markdown",
   "id": "7ae34b8b-6a21-4af3-844c-374a83eefbe8",
   "metadata": {
    "id": "7ae34b8b-6a21-4af3-844c-374a83eefbe8"
   },
   "source": [
    "자료를 시각화 하면 아래와 같다. "
   ]
  },
  {
   "cell_type": "code",
   "execution_count": null,
   "id": "4414f4d8-dc33-4e23-aaae-11352f30296d",
   "metadata": {
    "id": "4414f4d8-dc33-4e23-aaae-11352f30296d",
    "outputId": "72239491-6f26-4513-a213-24da4e1627cd"
   },
   "outputs": [
    {
     "data": {
      "text/plain": [
       "[<matplotlib.lines.Line2D at 0x7fc16f7dcd60>]"
      ]
     },
     "execution_count": 62,
     "metadata": {},
     "output_type": "execute_result"
    },
    {
     "data": {
      "image/png": "[encoded data removed]",
      "text/plain": [
       "<Figure size 432x288 with 1 Axes>"
      ]
     },
     "metadata": {
      "needs_background": "light"
     },
     "output_type": "display_data"
    }
   ],
   "source": [
    "plt.plot(df.x,df.y,'.')"
   ]
  },
  {
   "cell_type": "markdown",
   "id": "acdc7883-f136-4d41-91fa-d7d751aaeb34",
   "metadata": {
    "id": "acdc7883-f136-4d41-91fa-d7d751aaeb34"
   },
   "source": [
    "파이토치를 이용하여 적절한 $\\beta_0, \\beta_1$의 값을 구하여라. (손실함수는 MSEloss를 사용한다.) "
   ]
  },
  {
   "cell_type": "markdown",
   "id": "9419b5c9-92c2-4c9a-9248-8567c3d9ad83",
   "metadata": {
    "id": "9419b5c9-92c2-4c9a-9248-8567c3d9ad83"
   },
   "source": [
    "### `4`. 다음을 잘 읽고 물음에 O/X로 답하라. (25점)"
   ]
  },
  {
   "cell_type": "markdown",
   "id": "5882816b-2bfa-476c-a5bb-99fbf4db0691",
   "metadata": {
    "id": "5882816b-2bfa-476c-a5bb-99fbf4db0691"
   },
   "source": [
    "`(1)` 경사하강법은 손실함수와 상관없이 언제나 전역최소해를 찾을 수 있다. "
   ]
  },
  {
   "cell_type": "markdown",
   "id": "365b54c5-c63a-4232-bed8-543c3c8f56a5",
   "metadata": {},
   "source": [
    "X"
   ]
  },
  {
   "cell_type": "markdown",
   "id": "6a3f52db-34aa-40aa-81f6-aa279e1a7a57",
   "metadata": {
    "id": "6a3f52db-34aa-40aa-81f6-aa279e1a7a57"
   },
   "source": [
    "`(2)` 확률적경사하강법은 손실함수와 상관없이 언제 전역최소해를 찾을 수 있다. "
   ]
  },
  {
   "cell_type": "markdown",
   "id": "0d66ce32-f7b5-4df0-a4bd-2442a6ad3164",
   "metadata": {},
   "source": [
    "X"
   ]
  },
  {
   "cell_type": "markdown",
   "id": "604e99bd-3dca-4a96-8a68-012d43bcc10a",
   "metadata": {
    "id": "604e99bd-3dca-4a96-8a68-012d43bcc10a"
   },
   "source": [
    "`(3)` 일반근사정리(universal approximation theorem)는 충분히 깊은 신경망이 어떠한 함수든 표현할 수 있다는 내용의 이론이다. "
   ]
  },
  {
   "cell_type": "markdown",
   "id": "443281ec-0fb4-4fb4-9309-567f7d087e1f",
   "metadata": {},
   "source": [
    "O"
   ]
  },
  {
   "cell_type": "markdown",
   "id": "14b1fbd7-1f53-4b9d-adc8-b5de6b885a0c",
   "metadata": {
    "id": "14b1fbd7-1f53-4b9d-adc8-b5de6b885a0c"
   },
   "source": [
    "`(4)` $y_i=\\beta_0+\\beta_1 x_i+\\epsilon_i$ 와 같은 형태의 단순회귀모형은 학습해야할 파라메터가 2개이다. "
   ]
  },
  {
   "cell_type": "markdown",
   "id": "04b64bf8-5ebc-4460-8d70-6fefcc5781c2",
   "metadata": {},
   "source": [
    "x"
   ]
  },
  {
   "cell_type": "markdown",
   "id": "61ba04f4-882a-4d88-ae7a-b74c38096a08",
   "metadata": {
    "id": "61ba04f4-882a-4d88-ae7a-b74c38096a08"
   },
   "source": [
    "`(5)` 참모형(true model)이 단순회귀모형일 경우, 비선형 활성화 함수를 사용한 깊은신경망으로 모형을 적합시키면 오히려 적합력이 떨어진다. "
   ]
  },
  {
   "cell_type": "markdown",
   "id": "5c5a109a-0843-4c8f-8e73-b5c5dcec9bc9",
   "metadata": {},
   "source": [
    "O"
   ]
  },
  {
   "cell_type": "markdown",
   "id": "eb09a0cf-aa51-45b3-855d-9e36ca7b7ffc",
   "metadata": {
    "id": "eb09a0cf-aa51-45b3-855d-9e36ca7b7ffc"
   },
   "source": [
    "`(6)` 확률적 경사하강법은 관측자료에 임의의 오차항을 더하여 학습시키는 방법이다. "
   ]
  },
  {
   "cell_type": "markdown",
   "id": "467924c0-3c85-49db-9b27-cd6c7e7c8bba",
   "metadata": {},
   "source": [
    "x"
   ]
  },
  {
   "cell_type": "markdown",
   "id": "18a237ff-0552-4d60-8406-c31406b97b29",
   "metadata": {
    "id": "18a237ff-0552-4d60-8406-c31406b97b29"
   },
   "source": [
    "`(7)` 경사하강법은 손실함수가 convex일 경우 언제나 전역최소해를 찾을 수 있다. "
   ]
  },
  {
   "cell_type": "markdown",
   "id": "35f4038c-28e7-46d2-b400-df40ca1e7267",
   "metadata": {},
   "source": [
    "O"
   ]
  },
  {
   "cell_type": "markdown",
   "id": "7dada2ae-eeee-40e3-881c-87fbd9b5ea0e",
   "metadata": {
    "id": "7dada2ae-eeee-40e3-881c-87fbd9b5ea0e"
   },
   "source": [
    "`(8)` 로지스틱 모형에서 MSEloss를 사용하더라도 전역최소해를 찾는 경우가 있다. 즉 시그모이드 활성화 함수와 MSEloss를 사용한다고 하여도 항상 전역최소해를 찾지 못하는 것은 아니다. "
   ]
  },
  {
   "cell_type": "markdown",
   "id": "e4e1412a-7a43-47bb-8bbc-841f855ac546",
   "metadata": {},
   "source": [
    "O"
   ]
  },
  {
   "cell_type": "markdown",
   "id": "63275fcb-20b8-404f-b715-44f02cda7ba9",
   "metadata": {
    "id": "63275fcb-20b8-404f-b715-44f02cda7ba9"
   },
   "source": [
    "`(9)` 로지스틱 모형에서 MLELoss를 사용하면 옵티마이저를 Adam으로 선택하고 BCELoss를 사용하면 확률적 경사하강법을 사용한다. "
   ]
  },
  {
   "cell_type": "markdown",
   "id": "664bd873-04f0-4301-9b47-b26ca71b1f4f",
   "metadata": {},
   "source": [
    "O"
   ]
  },
  {
   "cell_type": "markdown",
   "id": "b60e2a6e-cf58-4cd5-b930-103d2166f8cd",
   "metadata": {
    "id": "b60e2a6e-cf58-4cd5-b930-103d2166f8cd"
   },
   "source": [
    "`(10)` 확률적 경사하강법은 컴퓨터의 자원을 효율적으로 활용할 수 있도록 도와준다. "
   ]
  },
  {
   "cell_type": "markdown",
   "id": "720e5804-58fd-453b-82ab-c2695824ed89",
   "metadata": {},
   "source": [
    "O"
   ]
  },
  {
   "cell_type": "markdown",
   "id": "35e374ad-fe1c-4634-ade0-199d13f4ac0b",
   "metadata": {
    "id": "35e374ad-fe1c-4634-ade0-199d13f4ac0b"
   },
   "source": [
    "`(11)` 학습할 파라메터가 많을수록 GPU의 학습속도가 CPU의 학습속도 보다 빠르다. "
   ]
  },
  {
   "cell_type": "markdown",
   "id": "1bbf985d-5a24-494c-bdc0-2e57d495c1d8",
   "metadata": {},
   "source": [
    "O"
   ]
  },
  {
   "cell_type": "markdown",
   "id": "7201e47d-5360-44ff-bae9-ad4b4fe11511",
   "metadata": {
    "id": "7201e47d-5360-44ff-bae9-ad4b4fe11511"
   },
   "source": [
    "`(12)` GPU는 언제나 CPU보다 빠르게 모형을 학습한다. "
   ]
  },
  {
   "cell_type": "markdown",
   "id": "33c8f0b2-2c32-4b3f-9051-4ae9f27ce51c",
   "metadata": {},
   "source": [
    "X"
   ]
  },
  {
   "cell_type": "markdown",
   "id": "15b3b551-8860-4b00-ac35-4a102fe150a6",
   "metadata": {
    "id": "15b3b551-8860-4b00-ac35-4a102fe150a6"
   },
   "source": [
    "`(13)` CNN 모형에서 에서 2D콘볼루션은 비선형 변환이다. "
   ]
  },
  {
   "cell_type": "markdown",
   "id": "6b5c2492-f366-4c18-bc50-76be7bd870c9",
   "metadata": {},
   "source": [
    "X"
   ]
  },
  {
   "cell_type": "markdown",
   "id": "b7b79354-ba2f-450a-964d-373cb595e12d",
   "metadata": {
    "id": "b7b79354-ba2f-450a-964d-373cb595e12d"
   },
   "source": [
    "`(14)` 드랍아웃은 결측치를 제거하는 기법이다. "
   ]
  },
  {
   "cell_type": "markdown",
   "id": "9cf47c17-37c4-4313-8620-9167a2f4e34b",
   "metadata": {},
   "source": [
    "X"
   ]
  },
  {
   "cell_type": "markdown",
   "id": "d2ff1851-e112-4c00-a011-326285425c1c",
   "metadata": {
    "id": "d2ff1851-e112-4c00-a011-326285425c1c"
   },
   "source": [
    "`(15)` 모든 관측치를 활용하지 않고 일부의 관측치만 활용하여 학습하는 기법을 드랍아웃이라 한다. "
   ]
  },
  {
   "cell_type": "markdown",
   "id": "fffa2330-7521-4752-aeae-ed498437a194",
   "metadata": {},
   "source": [
    "O"
   ]
  },
  {
   "cell_type": "markdown",
   "id": "8cbc1b9a-50ef-4b47-935c-154e117f7a2d",
   "metadata": {
    "id": "8cbc1b9a-50ef-4b47-935c-154e117f7a2d"
   },
   "source": [
    "`(16)` 확률적 경사하강법은 드랍아웃과 같이 사용할 수 없다. "
   ]
  },
  {
   "cell_type": "markdown",
   "id": "42d05bd8-b104-4f0d-a476-3648f74099d0",
   "metadata": {},
   "source": [
    "X"
   ]
  },
  {
   "cell_type": "markdown",
   "id": "eacc29bb-0675-4f4f-bb66-314afc3d83a5",
   "metadata": {
    "id": "eacc29bb-0675-4f4f-bb66-314afc3d83a5"
   },
   "source": [
    "`(17)` MLP의 모든 활성화 함수가 선형이라면 은닉층(Hidden Layer)을 아무리 추가하여도 모형의 표현력이 향상되지 않는다. "
   ]
  },
  {
   "cell_type": "markdown",
   "id": "bd2664d8-7b74-460c-b5a7-d572fee21e23",
   "metadata": {},
   "source": [
    "O"
   ]
  },
  {
   "cell_type": "markdown",
   "id": "0b028d7a-e9f3-49b4-a371-4ce4025d4cb4",
   "metadata": {
    "id": "0b028d7a-e9f3-49b4-a371-4ce4025d4cb4"
   },
   "source": [
    "`(18)` 학습할 파라메터수가 증가하면 언더피팅의 위험이 있다. "
   ]
  },
  {
   "cell_type": "markdown",
   "id": "59419500-a52d-48f1-9842-542b2d63fc20",
   "metadata": {},
   "source": [
    "X"
   ]
  },
  {
   "cell_type": "markdown",
   "id": "06b520bc-6a58-4811-9aa3-358d4ec65551",
   "metadata": {
    "id": "06b520bc-6a58-4811-9aa3-358d4ec65551"
   },
   "source": [
    "`(19)` CAM은 CNN의 모든층에서 사용가능하다. "
   ]
  },
  {
   "cell_type": "markdown",
   "id": "9e349d17-aa5b-460c-ab89-d0032e74f0ba",
   "metadata": {},
   "source": [
    "X\n",
    "- 최종 아웃풋에서만 시각화할 수 있음"
   ]
  },
  {
   "cell_type": "markdown",
   "id": "539b98e8-7d95-4575-b759-189f47821481",
   "metadata": {
    "id": "539b98e8-7d95-4575-b759-189f47821481"
   },
   "source": [
    "`(20)` CAM은 CNN모형의 일부를 수정해야 한다는 점에서 단점이 있다. "
   ]
  },
  {
   "cell_type": "markdown",
   "id": "3c91bbfc-d59a-4b85-9ff3-8f8527aff197",
   "metadata": {},
   "source": [
    "O"
   ]
  },
  {
   "cell_type": "markdown",
   "id": "e419d33f-06f1-4b72-92ca-7e8ea4416309",
   "metadata": {
    "id": "e419d33f-06f1-4b72-92ca-7e8ea4416309"
   },
   "source": [
    "`(21)` CNN은 이미지 자료만 분석할 수 있다. "
   ]
  },
  {
   "cell_type": "markdown",
   "id": "06322661-f170-4580-9866-c6e75225e709",
   "metadata": {},
   "source": [
    "O"
   ]
  },
  {
   "cell_type": "markdown",
   "id": "f3987fb2-848b-4ba3-936b-5a86917b413c",
   "metadata": {
    "id": "f3987fb2-848b-4ba3-936b-5a86917b413c"
   },
   "source": [
    "`(22)` 드랍아웃은 과적합을 방지하는 효과가 있다. "
   ]
  },
  {
   "cell_type": "markdown",
   "id": "0339f80a-bd74-41fb-b7e4-80749bf94835",
   "metadata": {},
   "source": [
    "O"
   ]
  },
  {
   "cell_type": "markdown",
   "id": "49c9720f-c49f-4ea9-b2ec-324acf5957dc",
   "metadata": {
    "id": "49c9720f-c49f-4ea9-b2ec-324acf5957dc"
   },
   "source": [
    "`(23)` 예측 및 적합을 할때는 네트워크에서 드랍아웃층을 제거해야 한다. "
   ]
  },
  {
   "cell_type": "markdown",
   "id": "0273e7a1-5b37-4bce-b6a3-45100239fe0c",
   "metadata": {},
   "source": []
  },
  {
   "cell_type": "markdown",
   "id": "8f00ead7-8400-4b56-81ec-72b4ea005d8d",
   "metadata": {
    "id": "8f00ead7-8400-4b56-81ec-72b4ea005d8d"
   },
   "source": [
    "`(24)` BCELoss는 Softmax 활성화 함수와 잘 어울린다. "
   ]
  },
  {
   "cell_type": "markdown",
   "id": "0cb33575-80b3-4d3b-b9fc-a41f27c365db",
   "metadata": {
    "id": "0cb33575-80b3-4d3b-b9fc-a41f27c365db"
   },
   "source": [
    "`(25)` 파이토치에서 미분을 수행하는 메소드는 backward() 이다. "
   ]
  }
 ],
 "metadata": {
  "colab": {
   "name": "2021-11-09-mid.ipynb",
   "provenance": []
  },
  "kernelspec": {
   "display_name": "Python 3",
   "language": "python",
   "name": "python3"
  },
  "language_info": {
   "codemirror_mode": {
    "name": "ipython",
    "version": 3
   },
   "file_extension": ".py",
   "mimetype": "text/x-python",
   "name": "python",
   "nbconvert_exporter": "python",
   "pygments_lexer": "ipython3",
   "version": "3.8.12"
  }
 },
 "nbformat": 4,
 "nbformat_minor": 5
}
