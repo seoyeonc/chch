{
 "cells": [
  {
   "cell_type": "markdown",
   "id": "7874be38-204b-4e30-831c-9da1266d6bfa",
   "metadata": {},
   "source": [
    "# 빅데이터 분석 (4주차) 9월30일\n",
    "> 파이토치를 이용하여 회귀모형 학습하기 (2) \n",
    "\n",
    "- toc:true\n",
    "- branch: master\n",
    "- badges: true\n",
    "- comments: false\n",
    "- author: 최서연\n",
    "- categories: [Big Data Analysis, pytorch]"
   ]
  },
  {
   "cell_type": "code",
   "execution_count": 1,
   "id": "ee681dce-103c-418d-b65e-c5342d4469e0",
   "metadata": {},
   "outputs": [],
   "source": [
    "import torch\n",
    "import numpy as np"
   ]
  },
  {
   "cell_type": "markdown",
   "id": "11f969fa-97a8-4b62-beea-d479725411b8",
   "metadata": {
    "id": "b5ef1300-22ce-425f-96bd-e030e5cc6619",
    "tags": []
   },
   "source": [
    "### Data"
   ]
  },
  {
   "cell_type": "markdown",
   "id": "bdaea35b-1c4d-4511-8304-a14791868649",
   "metadata": {
    "id": "28b2b7fd-485c-4a70-a25e-f6a11472e267"
   },
   "source": [
    "`-` model: $y_i= w_0+w_1 x_i +\\epsilon_i = 2.5 + 4x_i +\\epsilon_i, \\quad i=1,2,\\dots,n$ "
   ]
  },
  {
   "cell_type": "markdown",
   "id": "5f576b3d-2f01-402e-87ad-67e1af4c7071",
   "metadata": {
    "id": "1f2e03fe-47e7-4457-9851-e05825f6608b"
   },
   "source": [
    "`-` model: ${\\bf y}={\\bf X}{\\bf W} +\\boldsymbol{\\epsilon}$"
   ]
  },
  {
   "cell_type": "markdown",
   "id": "865e62d8-89d9-44df-88f9-9d8f56a2fdd9",
   "metadata": {
    "id": "3cd6dd85-0a38-4ebf-a12d-a143becd33f1"
   },
   "source": [
    "- ${\\bf y}=\\begin{bmatrix} y_1 \\\\ y_2 \\\\ \\dots \\\\ y_n\\end{bmatrix}, \\quad {\\bf X}=\\begin{bmatrix} 1 & x_1 \\\\ 1 & x_2 \\\\ \\dots \\\\ 1 & x_n\\end{bmatrix}, \\quad {\\bf W}=\\begin{bmatrix} 2.5 \\\\ 4 \\end{bmatrix}, \\quad \\boldsymbol{\\epsilon}= \\begin{bmatrix} \\epsilon_1 \\\\ \\dots \\\\ \\epsilon_n\\end{bmatrix}$"
   ]
  },
  {
   "cell_type": "code",
   "execution_count": 26,
   "id": "0c2bb89f-1c51-471f-a70b-40aadd81c8d1",
   "metadata": {
    "id": "135fc368-bbb6-4f2a-92da-51a180aa5ad5"
   },
   "outputs": [],
   "source": [
    "torch.manual_seed(202150754)\n",
    "n=100\n",
    "ones= torch.ones(n)\n",
    "x,_ = torch.randn(n).sort()\n",
    "X = torch.vstack([ones,x]).T\n",
    "W = torch.tensor([2.5,4])\n",
    "ϵ = torch.randn(n)*0.5\n",
    "y = X@W + ϵ\n",
    "ytrue = X@W"
   ]
  },
  {
   "cell_type": "markdown",
   "id": "457d54e8-0993-4e1a-b334-acb649d0b23a",
   "metadata": {
    "id": "e138f427-fefd-4c4f-acb0-dd6bf2aee980"
   },
   "source": [
    "### step1~2 요약 "
   ]
  },
  {
   "cell_type": "markdown",
   "id": "7488e823-a579-4084-96b6-cb47b5843e12",
   "metadata": {
    "id": "13eaeff9-6bf0-46e1-b24d-a0d53692d086"
   },
   "source": [
    "#### 방법1: 모델을 직접선언 + loss함수도 직접선언 "
   ]
  },
  {
   "cell_type": "code",
   "execution_count": 27,
   "id": "c1116cea-cc50-4527-b171-cc350c593091",
   "metadata": {
    "id": "b6b736e9-d473-4df9-bb82-c4398191542e",
    "outputId": "3e4f238a-951b-4e66-f4f5-b84aa25324a5"
   },
   "outputs": [
    {
     "data": {
      "text/plain": [
       "tensor(110.0313, grad_fn=<MeanBackward0>)"
      ]
     },
     "execution_count": 27,
     "metadata": {},
     "output_type": "execute_result"
    }
   ],
   "source": [
    "What1=torch.tensor([-5.0,10.0],requires_grad=True) \n",
    "yhat1=X@What1\n",
    "loss1=torch.mean((y-yhat1)**2) \n",
    "loss1"
   ]
  },
  {
   "cell_type": "markdown",
   "id": "bd2e24e8-242e-429d-b5d5-f5d4312a42db",
   "metadata": {
    "id": "b8b2b0cc-c482-47df-b87e-1f8c5a94dad3"
   },
   "source": [
    "#### 방법2: 모델식을 torch.nn으로 선언 (bias=False) + loss 직접선언 "
   ]
  },
  {
   "cell_type": "code",
   "execution_count": 28,
   "id": "ef28e73a-2327-4af4-892b-b1bddea6ed47",
   "metadata": {
    "id": "ab517881-a65f-469f-951d-a0d3eacd66fa",
    "outputId": "bd36c727-7676-4f42-97fa-c32fe297176f"
   },
   "outputs": [
    {
     "data": {
      "text/plain": [
       "tensor(110.0313, grad_fn=<MeanBackward0>)"
      ]
     },
     "execution_count": 28,
     "metadata": {},
     "output_type": "execute_result"
    }
   ],
   "source": [
    "net2=torch.nn.Linear(in_features=2,out_features=1,bias=False) \n",
    "net2.weight.data= torch.tensor([[-5.0,10.0]]) \n",
    "yhat2=net2(X) \n",
    "loss2=torch.mean((y.reshape(100,1)-yhat2)**2) \n",
    "loss2"
   ]
  },
  {
   "cell_type": "markdown",
   "id": "ff6c99ad-3352-43c4-88ab-b2a4aa22f0c0",
   "metadata": {
    "id": "4d58344c-b87c-4cef-a957-7b3ebd7b1580"
   },
   "source": [
    "#### 방법3: 모델식을 torch.nn으로 선언 (bias=True) + loss 직접선언"
   ]
  },
  {
   "cell_type": "code",
   "execution_count": 29,
   "id": "c50291bc-3e00-4073-bd9d-a91fe4890476",
   "metadata": {
    "id": "34967540-3a16-4409-acaa-13bbb70556a0",
    "outputId": "41c53661-4846-4bbf-a1ff-0e53906615ea"
   },
   "outputs": [
    {
     "data": {
      "text/plain": [
       "tensor(110.0313, grad_fn=<MeanBackward0>)"
      ]
     },
     "execution_count": 29,
     "metadata": {},
     "output_type": "execute_result"
    }
   ],
   "source": [
    "net3=torch.nn.Linear(in_features=1,out_features=1,bias=True) \n",
    "net3.weight.data= torch.tensor([[10.0]])\n",
    "net3.bias.data= torch.tensor([[-5.0]]) \n",
    "yhat3=net3(x.reshape(100,1)) \n",
    "loss3=torch.mean((y.reshape(100,1)-yhat3)**2) \n",
    "loss3"
   ]
  },
  {
   "cell_type": "markdown",
   "id": "13cc3152-0028-4542-b91d-4204df196fe1",
   "metadata": {
    "id": "7d044eb6-545d-48ac-b152-00cab99b0c27"
   },
   "source": [
    "#### 방법4: 모델식을 직접선언 + loss함수는 torch.nn.MSELoss() "
   ]
  },
  {
   "cell_type": "code",
   "execution_count": 30,
   "id": "b70d7d08-55c9-4926-8eaf-622506b811cd",
   "metadata": {
    "id": "25eca344-f0b7-47af-aac5-45884061ab45",
    "outputId": "35c74e0c-0634-46db-af40-4e5922f204c6"
   },
   "outputs": [
    {
     "data": {
      "text/plain": [
       "tensor(110.0313, grad_fn=<MseLossBackward0>)"
      ]
     },
     "execution_count": 30,
     "metadata": {},
     "output_type": "execute_result"
    }
   ],
   "source": [
    "What4=torch.tensor([-5.0,10.0],requires_grad=True) \n",
    "yhat4=X@What4 \n",
    "lossfn=torch.nn.MSELoss() \n",
    "loss4=lossfn(y,yhat4) \n",
    "loss4"
   ]
  },
  {
   "cell_type": "markdown",
   "id": "238e5085-fd09-4a25-8a2e-5f2d216a68a9",
   "metadata": {
    "id": "0909dbc8-630e-49ef-949b-7893c6e11644"
   },
   "source": [
    "#### 방법5: 모델식을 torch.nn으로 선언 (bias=False) + loss함수는 torch.nn.MSELoss()"
   ]
  },
  {
   "cell_type": "code",
   "execution_count": 31,
   "id": "7dd4aae5-fdd2-474f-9716-2f70476ecd9c",
   "metadata": {
    "id": "61c9fe69-ef0f-4526-ad48-43b153fceb1b",
    "outputId": "71f9bf42-18b1-4f3e-abcc-9d3f63ace87a"
   },
   "outputs": [
    {
     "data": {
      "text/plain": [
       "tensor(110.0313, grad_fn=<MseLossBackward0>)"
      ]
     },
     "execution_count": 31,
     "metadata": {},
     "output_type": "execute_result"
    }
   ],
   "source": [
    "net5=torch.nn.Linear(in_features=2,out_features=1,bias=False) \n",
    "net5.weight.data= torch.tensor([[-5.0,10.0]]) \n",
    "yhat5=net5(X) \n",
    "#lossfn=torch.nn.MSELoss() \n",
    "loss5=lossfn(y.reshape(100,1),yhat5) \n",
    "loss5 "
   ]
  },
  {
   "cell_type": "markdown",
   "id": "b24dcac0-ae59-4c13-84d0-0f154f725fa9",
   "metadata": {
    "id": "bb407b67-6363-49d0-9a1f-3a8a86845bd8"
   },
   "source": [
    "#### 방법6: 모델식을 torch.nn으로 선언 (bias=True) + loss함수는 torch.nn.MSELoss()"
   ]
  },
  {
   "cell_type": "code",
   "execution_count": 32,
   "id": "2920f14b-2bf8-4579-a3ab-c39c95dd7878",
   "metadata": {
    "id": "c4cd1901-fb20-4c01-9207-851eca09d4a4",
    "outputId": "bee6f3e2-9127-429e-d918-3c16103235c5"
   },
   "outputs": [
    {
     "data": {
      "text/plain": [
       "tensor(110.0313, grad_fn=<MseLossBackward0>)"
      ]
     },
     "execution_count": 32,
     "metadata": {},
     "output_type": "execute_result"
    }
   ],
   "source": [
    "net6=torch.nn.Linear(in_features=1,out_features=1,bias=True) \n",
    "net6.weight.data= torch.tensor([[10.0]])\n",
    "net6.bias.data= torch.tensor([[-5.0]]) \n",
    "yhat6=net6(x.reshape(100,1)) \n",
    "loss6=lossfn(y.reshape(100,1),yhat6) \n",
    "loss6"
   ]
  },
  {
   "cell_type": "markdown",
   "id": "50e43b2a-bcba-4d7c-b144-6bf2b3ed2cdd",
   "metadata": {
    "id": "5d03b433-da08-462c-89d1-93ffdccc5779",
    "tags": []
   },
   "source": [
    "### step3: derivation  "
   ]
  },
  {
   "cell_type": "markdown",
   "id": "463eb1d0-9a31-4f4d-89ab-702cb1800efd",
   "metadata": {
    "id": "24b7cbfc-6961-4c7a-ac57-86bf37c029aa"
   },
   "source": [
    "#### loss1 "
   ]
  },
  {
   "cell_type": "code",
   "execution_count": 33,
   "id": "dcbc5853-d247-47ed-b3f5-e3223f3903a6",
   "metadata": {},
   "outputs": [],
   "source": [
    "loss1.backward()"
   ]
  },
  {
   "cell_type": "code",
   "execution_count": 34,
   "id": "10f7ef27-4bac-4296-9436-2954c1fb1b6e",
   "metadata": {},
   "outputs": [
    {
     "data": {
      "text/plain": [
       "tensor([-17.3043,  14.8581])"
      ]
     },
     "execution_count": 34,
     "metadata": {},
     "output_type": "execute_result"
    }
   ],
   "source": [
    "What1.grad.data"
   ]
  },
  {
   "cell_type": "markdown",
   "id": "702e0029-9649-42d6-9798-1b1f35ced00c",
   "metadata": {
    "id": "87450b2e-5d8d-44d4-b042-46433352c354",
    "tags": []
   },
   "source": [
    "#### loss2"
   ]
  },
  {
   "cell_type": "code",
   "execution_count": 35,
   "id": "bfa0764e-5b67-4995-b390-b6c2de5ee8bc",
   "metadata": {
    "tags": []
   },
   "outputs": [],
   "source": [
    "loss2.backward()"
   ]
  },
  {
   "cell_type": "code",
   "execution_count": 36,
   "id": "8e3c3706-01d2-44de-ba05-3ff24f92ccf6",
   "metadata": {},
   "outputs": [
    {
     "data": {
      "text/plain": [
       "tensor([[-17.3043,  14.8581]])"
      ]
     },
     "execution_count": 36,
     "metadata": {},
     "output_type": "execute_result"
    }
   ],
   "source": [
    "net2.weight.grad"
   ]
  },
  {
   "cell_type": "markdown",
   "id": "0f03cf4d-dfa3-4ac3-ba99-8d1d2c89abc2",
   "metadata": {
    "id": "7c15da89-e4c3-45dd-bca3-66855374b31b"
   },
   "source": [
    "#### loss3 "
   ]
  },
  {
   "cell_type": "code",
   "execution_count": 37,
   "id": "88388deb-4df9-46e1-8386-e92302190e5c",
   "metadata": {
    "id": "48584dae-ba66-47ed-a542-73472f73c6a2"
   },
   "outputs": [],
   "source": [
    "loss3.backward()"
   ]
  },
  {
   "cell_type": "code",
   "execution_count": 38,
   "id": "59527f7a-fcc6-4f2f-a748-08336bd34a30",
   "metadata": {
    "id": "c66357b5-1c4a-4125-80c3-a45ed2ef3c25",
    "outputId": "9b703c3a-a59e-45b5-e5d8-b7e505738520"
   },
   "outputs": [
    {
     "data": {
      "text/plain": [
       "(tensor([[-17.3043]]), tensor([[14.8581]]))"
      ]
     },
     "execution_count": 38,
     "metadata": {},
     "output_type": "execute_result"
    }
   ],
   "source": [
    "net3.bias.grad,net3.weight.grad"
   ]
  },
  {
   "cell_type": "markdown",
   "id": "09d3a829-0382-4deb-a46b-227b21bb92e9",
   "metadata": {
    "id": "58a81ca7-6327-4592-969f-d1d182a5f10c"
   },
   "source": [
    "#### loss4"
   ]
  },
  {
   "cell_type": "code",
   "execution_count": 39,
   "id": "0dddebeb-c8f8-46d3-8e34-1c4111df0a2c",
   "metadata": {
    "id": "c86d31b7-6eb0-4411-80a1-4da48a5d2955"
   },
   "outputs": [],
   "source": [
    "loss4.backward()"
   ]
  },
  {
   "cell_type": "code",
   "execution_count": 40,
   "id": "a8b90cbb-96a6-466d-bf44-059cf3820d30",
   "metadata": {
    "id": "c85a2e8a-69ad-44bc-a65f-ab8c44653dc7",
    "outputId": "36f6c24b-2be0-4d2b-e381-bfa8df9fc065"
   },
   "outputs": [
    {
     "data": {
      "text/plain": [
       "tensor([-17.3043,  14.8581])"
      ]
     },
     "execution_count": 40,
     "metadata": {},
     "output_type": "execute_result"
    }
   ],
   "source": [
    "What4.grad.data"
   ]
  },
  {
   "cell_type": "markdown",
   "id": "dd5ae108-c684-408f-8027-80b171635e30",
   "metadata": {
    "id": "8dc756ee-0509-4c04-9e2c-b60c415cffee",
    "tags": []
   },
   "source": [
    "#### loss5 "
   ]
  },
  {
   "cell_type": "code",
   "execution_count": 41,
   "id": "bc1f4732-e6da-4660-b9ef-d9475aad1e62",
   "metadata": {
    "id": "a42cfe77-5eae-40c1-83a4-723680641f4f"
   },
   "outputs": [],
   "source": [
    "loss5.backward()"
   ]
  },
  {
   "cell_type": "code",
   "execution_count": 42,
   "id": "75de1642-4c0e-4f8d-90e9-3d5c541bfe43",
   "metadata": {
    "id": "6f7428e8-3893-4b16-94a3-f4754f48a5db",
    "outputId": "07baf69e-ac70-40a9-bc7c-17395c065aae"
   },
   "outputs": [
    {
     "data": {
      "text/plain": [
       "tensor([[-17.3043,  14.8581]])"
      ]
     },
     "execution_count": 42,
     "metadata": {},
     "output_type": "execute_result"
    }
   ],
   "source": [
    "net5.weight.grad"
   ]
  },
  {
   "cell_type": "markdown",
   "id": "7125e16b-26d6-42df-93cc-96c1b02896cf",
   "metadata": {
    "id": "417e40ba-ec01-4292-943f-445b81fa9790"
   },
   "source": [
    "#### loss6"
   ]
  },
  {
   "cell_type": "code",
   "execution_count": 43,
   "id": "d5d3ef05-83fc-4029-8a86-f6ade5cd4a14",
   "metadata": {
    "id": "e08a657a-a9b9-4c71-82ae-0417550af741"
   },
   "outputs": [],
   "source": [
    "loss6.backward()"
   ]
  },
  {
   "cell_type": "code",
   "execution_count": 44,
   "id": "1373d57e-260e-44ef-b517-fbb6abcbfcbe",
   "metadata": {
    "id": "4d9d25be-5d6d-4caa-b874-03f44697f4c8",
    "outputId": "918fb09e-84ca-484a-e67b-6a9fcd2b5bef"
   },
   "outputs": [
    {
     "data": {
      "text/plain": [
       "(tensor([[-17.3043]]), tensor([[14.8581]]))"
      ]
     },
     "execution_count": 44,
     "metadata": {},
     "output_type": "execute_result"
    }
   ],
   "source": [
    "net6.bias.grad,net6.weight.grad"
   ]
  },
  {
   "cell_type": "markdown",
   "id": "e479145b-ae6a-45d7-936e-5c4b1be9eac8",
   "metadata": {
    "id": "e23c413d-7b31-464b-b233-59c2c9490a73",
    "tags": []
   },
   "source": [
    "### step4: update "
   ]
  },
  {
   "cell_type": "markdown",
   "id": "24fd648d-7e2b-4c66-a933-5ce5cc595bbb",
   "metadata": {
    "id": "12ff6b16-ac5b-4e5a-80a2-2f07461028e7"
   },
   "source": [
    "#### loss1 "
   ]
  },
  {
   "cell_type": "code",
   "execution_count": 45,
   "id": "0845f762-3282-4143-adb0-0b64e7fdf703",
   "metadata": {
    "id": "9b2552e2-c01a-4711-a9d0-32e2e6b52289",
    "outputId": "7996401e-b241-4732-b7cd-346863a3c74d",
    "tags": []
   },
   "outputs": [
    {
     "data": {
      "text/plain": [
       "tensor([-5., 10.])"
      ]
     },
     "execution_count": 45,
     "metadata": {},
     "output_type": "execute_result"
    }
   ],
   "source": [
    "What1.data ## update 전 "
   ]
  },
  {
   "cell_type": "code",
   "execution_count": 46,
   "id": "83c89474-2f79-47f9-90bc-a03c3800e568",
   "metadata": {
    "id": "9ad7583e-6e7c-42e7-88e1-1014482f4fd2",
    "outputId": "5c4340bc-6e10-466b-95a4-246c4b0e5843"
   },
   "outputs": [
    {
     "data": {
      "text/plain": [
       "tensor([-3.2696,  8.5142], requires_grad=True)"
      ]
     },
     "execution_count": 46,
     "metadata": {},
     "output_type": "execute_result"
    }
   ],
   "source": [
    "lr=0.1  # learning rate\n",
    "What1.data = What1.data - lr*What1.grad.data ## update 후 \n",
    "What1"
   ]
  },
  {
   "cell_type": "markdown",
   "id": "1b751881-8baa-4495-99d4-90cf6557fe23",
   "metadata": {
    "id": "f33fcb8e-6d4f-4721-a50d-dd95a7fc4fb7"
   },
   "source": [
    "#### loss2 "
   ]
  },
  {
   "cell_type": "code",
   "execution_count": 55,
   "id": "c413703d-90f9-4c11-ae66-4f1b74f30917",
   "metadata": {
    "id": "ee1d00b6-01d1-4958-b89a-277547a2dc8a",
    "outputId": "6f91be8c-69d3-4ec5-8dc9-973afe553b6b"
   },
   "outputs": [
    {
     "data": {
      "text/plain": [
       "tensor([[-3.2696,  8.5142]])"
      ]
     },
     "execution_count": 55,
     "metadata": {},
     "output_type": "execute_result"
    }
   ],
   "source": [
    "net2.weight.data "
   ]
  },
  {
   "cell_type": "markdown",
   "id": "574b8ae9-5089-465d-86a3-9c0ff05dc65d",
   "metadata": {},
   "source": [
    "- SGD: Implements stochastic gradient descent (optionally with momentum)."
   ]
  },
  {
   "cell_type": "code",
   "execution_count": 56,
   "id": "f7cd5ade-b798-4a68-908f-d41600708f2b",
   "metadata": {
    "id": "a53ecae2-cd43-4248-9a72-858b4b0c836e"
   },
   "outputs": [],
   "source": [
    "optmz2 = torch.optim.SGD(net2.parameters(),lr=0.1) "
   ]
  },
  {
   "cell_type": "code",
   "execution_count": 57,
   "id": "9132f640-1079-4e0a-8798-dfdf484e3a07",
   "metadata": {},
   "outputs": [
    {
     "data": {
      "text/plain": [
       "[Parameter containing:\n",
       " tensor([[-3.2696,  8.5142]], requires_grad=True)]"
      ]
     },
     "execution_count": 57,
     "metadata": {},
     "output_type": "execute_result"
    }
   ],
   "source": [
    "list(net2.parameters())"
   ]
  },
  {
   "cell_type": "code",
   "execution_count": 58,
   "id": "973cbe45-71e7-4be9-a8db-6d3517d3d536",
   "metadata": {
    "id": "3ec28731-e96e-4f9f-a9e2-7e3c4381fa32"
   },
   "outputs": [],
   "source": [
    "optmz2.step() ## update "
   ]
  },
  {
   "cell_type": "code",
   "execution_count": 59,
   "id": "5c859753-0054-48e5-a139-d7f5fc5fd26a",
   "metadata": {
    "id": "17e34442-c568-45c9-8f40-ee7038137382",
    "outputId": "7a821638-900b-43a5-b02b-7d790d772fb8",
    "tags": []
   },
   "outputs": [
    {
     "data": {
      "text/plain": [
       "tensor([[-1.5391,  7.0284]])"
      ]
     },
     "execution_count": 59,
     "metadata": {},
     "output_type": "execute_result"
    }
   ],
   "source": [
    "net2.weight.data ## update 후"
   ]
  },
  {
   "cell_type": "markdown",
   "id": "9b699842-0403-4068-adb4-0a76cee25446",
   "metadata": {
    "id": "b29df101-e8bc-4397-ac9c-294a0e259d2f",
    "tags": []
   },
   "source": [
    "#### loss3"
   ]
  },
  {
   "cell_type": "code",
   "execution_count": 51,
   "id": "cf2cdd66-6ce9-4c82-822d-0b6cb3d92fbb",
   "metadata": {
    "id": "9c1208e5-2c5e-45ea-b793-03fde82fab0b",
    "outputId": "a13685e0-7adf-4ee2-8668-17611a90717a"
   },
   "outputs": [
    {
     "data": {
      "text/plain": [
       "(tensor([[-5.]]), tensor([[10.]]))"
      ]
     },
     "execution_count": 51,
     "metadata": {},
     "output_type": "execute_result"
    }
   ],
   "source": [
    "net3.bias.data,net3.weight.data"
   ]
  },
  {
   "cell_type": "code",
   "execution_count": 52,
   "id": "2ee9e228-7ce3-4459-87b6-2b747b41e7b7",
   "metadata": {
    "id": "7eb60919-6d2c-4c7f-a67b-6177d156e840"
   },
   "outputs": [],
   "source": [
    "optmz3 = torch.optim.SGD(net3.parameters(),lr=0.1) "
   ]
  },
  {
   "cell_type": "code",
   "execution_count": 66,
   "id": "8d58e352-a2cc-4d4c-b59d-6d85be688907",
   "metadata": {
    "id": "9db9795c-e3cf-4431-8cc8-d4cce49a80d8"
   },
   "outputs": [],
   "source": [
    "optmz3.step()"
   ]
  },
  {
   "cell_type": "code",
   "execution_count": 67,
   "id": "5f2f9559-12a8-40fd-b53d-c1e84746ab2d",
   "metadata": {
    "id": "684e258b-25ea-4733-aeae-1c7835815234",
    "outputId": "0d6e9265-2b07-4431-9684-e59f60c714d7"
   },
   "outputs": [
    {
     "data": {
      "text/plain": [
       "(tensor([[1.9217]]), tensor([[4.0567]]))"
      ]
     },
     "execution_count": 67,
     "metadata": {},
     "output_type": "execute_result"
    }
   ],
   "source": [
    "net3.bias.data,net3.weight.data"
   ]
  },
  {
   "cell_type": "code",
   "execution_count": 68,
   "id": "b147fc13-1928-457d-a49a-67d553e56a40",
   "metadata": {
    "id": "5758cb69-0068-4d6d-9a86-0e80f478be1c",
    "outputId": "8f9cfd32-ae78-46db-eddf-6c3e8784e9ee"
   },
   "outputs": [
    {
     "data": {
      "text/plain": [
       "[Parameter containing:\n",
       " tensor([[4.0567]], requires_grad=True),\n",
       " Parameter containing:\n",
       " tensor([[1.9217]], requires_grad=True)]"
      ]
     },
     "execution_count": 68,
     "metadata": {},
     "output_type": "execute_result"
    }
   ],
   "source": [
    "list(net3.parameters())"
   ]
  },
  {
   "cell_type": "markdown",
   "id": "9c2975dd-1536-4773-a004-9b5e7a457e57",
   "metadata": {
    "id": "a3c19550-66f0-425b-8acc-08b273956999",
    "tags": []
   },
   "source": [
    "#### loss4"
   ]
  },
  {
   "cell_type": "code",
   "execution_count": 69,
   "id": "2e362e50-1a23-400f-a558-6c6f909bb229",
   "metadata": {
    "id": "71c9965d-c4a7-42b6-a008-c0b8dac2d4d2",
    "outputId": "de3c1cef-42b0-4c8e-c400-a71bbf59e84e",
    "tags": []
   },
   "outputs": [
    {
     "data": {
      "text/plain": [
       "tensor([-5., 10.])"
      ]
     },
     "execution_count": 69,
     "metadata": {},
     "output_type": "execute_result"
    }
   ],
   "source": [
    "What4.data ## update 전 "
   ]
  },
  {
   "cell_type": "code",
   "execution_count": 70,
   "id": "fa84325b-0aef-4347-8244-c556c6eedaf2",
   "metadata": {
    "id": "ca71c72f-62b8-442f-a8c2-0e6e82177646",
    "outputId": "dc279d4b-ceb2-44df-b74a-df4932ff4cb2"
   },
   "outputs": [
    {
     "data": {
      "text/plain": [
       "tensor([-3.2696,  8.5142], requires_grad=True)"
      ]
     },
     "execution_count": 70,
     "metadata": {},
     "output_type": "execute_result"
    }
   ],
   "source": [
    "lr=0.1 \n",
    "What4.data = What4.data - lr*What4.grad.data ## update 후 \n",
    "What4"
   ]
  },
  {
   "cell_type": "markdown",
   "id": "304230ed-c372-4c81-85af-5262de351c27",
   "metadata": {
    "id": "60703314-7f3b-437e-a337-5d0ba17d5078"
   },
   "source": [
    "#### loss5"
   ]
  },
  {
   "cell_type": "code",
   "execution_count": 71,
   "id": "e55e55b6-bc8e-46ff-9131-7e78b394643d",
   "metadata": {
    "id": "e573f847-7ee5-431b-b2be-10f1e2bd4676",
    "outputId": "1847be8b-2bad-4026-a842-95ef2fdb3688"
   },
   "outputs": [
    {
     "data": {
      "text/plain": [
       "tensor([[-5., 10.]])"
      ]
     },
     "execution_count": 71,
     "metadata": {},
     "output_type": "execute_result"
    }
   ],
   "source": [
    "net5.weight.data "
   ]
  },
  {
   "cell_type": "code",
   "execution_count": 72,
   "id": "c1597796-7ae1-405b-9a9f-88e3d6eb18cb",
   "metadata": {
    "id": "c8fefd87-3ba4-46b9-8a6c-241ffaddd67b"
   },
   "outputs": [],
   "source": [
    "optmz5 = torch.optim.SGD(net5.parameters(),lr=0.1) "
   ]
  },
  {
   "cell_type": "code",
   "execution_count": 73,
   "id": "606a1e95-bb64-41e3-8ed2-48e960ac8f89",
   "metadata": {
    "id": "b62c8c0b-dbc4-4ee2-af58-31494919218b"
   },
   "outputs": [],
   "source": [
    "optmz5.step() ## update "
   ]
  },
  {
   "cell_type": "code",
   "execution_count": 74,
   "id": "2fa3883d-1f90-45de-9571-5ecb0a5985fc",
   "metadata": {
    "id": "78fa2e05-784c-42a1-8fa3-21a6628abfa1",
    "outputId": "1a1c92b2-195e-4276-97f4-7c3fc327636c",
    "tags": []
   },
   "outputs": [
    {
     "data": {
      "text/plain": [
       "tensor([[-3.2696,  8.5142]])"
      ]
     },
     "execution_count": 74,
     "metadata": {},
     "output_type": "execute_result"
    }
   ],
   "source": [
    "net5.weight.data ## update 후"
   ]
  },
  {
   "cell_type": "markdown",
   "id": "de86efa2-6654-4b20-9a80-3476236cd41d",
   "metadata": {
    "id": "24b74f1b-9fb3-4c3f-b38a-4b76b0050901",
    "tags": []
   },
   "source": [
    "#### loss6"
   ]
  },
  {
   "cell_type": "code",
   "execution_count": 75,
   "id": "d14b60d1-48e1-4d10-8445-49626d35497c",
   "metadata": {
    "id": "fd6b3a9c-88a7-4a48-8ad1-f7d79aa74c60",
    "outputId": "e3912033-86f5-40a4-9063-52c82a2dda31"
   },
   "outputs": [
    {
     "data": {
      "text/plain": [
       "(tensor([[-5.]]), tensor([[10.]]))"
      ]
     },
     "execution_count": 75,
     "metadata": {},
     "output_type": "execute_result"
    }
   ],
   "source": [
    "net6.bias.data,net6.weight.data"
   ]
  },
  {
   "cell_type": "code",
   "execution_count": 76,
   "id": "202e4d8d-d506-4a64-afcf-ed74dfa86ed1",
   "metadata": {
    "id": "232fdb3d-742e-444e-affd-a8b321e6f43f"
   },
   "outputs": [],
   "source": [
    "optmz6 = torch.optim.SGD(net6.parameters(),lr=0.1) "
   ]
  },
  {
   "cell_type": "code",
   "execution_count": 77,
   "id": "0db7e74f-fc5f-4b5e-a2ca-ac92b4b7a7e7",
   "metadata": {
    "id": "c21d1113-3958-4317-a6c2-876f863595d3"
   },
   "outputs": [],
   "source": [
    "optmz6.step()"
   ]
  },
  {
   "cell_type": "code",
   "execution_count": 78,
   "id": "19394b64-1a11-48ae-9739-47f4e8f42f70",
   "metadata": {
    "id": "58c29861-6cf3-4ae1-b6ab-859a7fff0efc",
    "outputId": "51742f59-3047-4e6c-c6d8-17019df4c4e1"
   },
   "outputs": [
    {
     "data": {
      "text/plain": [
       "(tensor([[-3.2696]]), tensor([[8.5142]]))"
      ]
     },
     "execution_count": 78,
     "metadata": {},
     "output_type": "execute_result"
    }
   ],
   "source": [
    "net6.bias.data,net6.weight.data"
   ]
  },
  {
   "cell_type": "markdown",
   "id": "029db7be-8cac-4038-9fe9-cb158e011ae4",
   "metadata": {
    "id": "af2393cd-b578-4903-b02f-56f32d2a43d8"
   },
   "source": [
    "### step1~4를 반복하면된다. "
   ]
  },
  {
   "cell_type": "code",
   "execution_count": 79,
   "id": "cbb85ca8-2bfc-4082-94ac-f663e0b51f8e",
   "metadata": {
    "id": "cbb85ca8-2bfc-4082-94ac-f663e0b51f8e"
   },
   "outputs": [],
   "source": [
    "net=torch.nn.Linear(in_features=2,out_features=1,bias=False) ## 모형정의 \n",
    "optmz=torch.optim.SGD(net.parameters(),lr=0.1)\n",
    "mseloss=torch.nn.MSELoss() \n",
    "for epoc in range(100): \n",
    "    # step1: yhat \n",
    "    yhat=net(X) ## yhat 계산 \n",
    "    # step2: loss\n",
    "    loss=mseloss(y.reshape(100,1),yhat) \n",
    "    # step3: derivation \n",
    "    loss.backward() \n",
    "    # step4: update\n",
    "    optmz.step()\n",
    "    optmz.zero_grad() ## 누적되는 기울기값 방지"
   ]
  },
  {
   "cell_type": "code",
   "execution_count": 80,
   "id": "f9248ef0-23f0-40ef-87c3-735c17cf6d53",
   "metadata": {
    "id": "f9248ef0-23f0-40ef-87c3-735c17cf6d53",
    "outputId": "bfb40e33-1309-48fb-d88c-07d087671779"
   },
   "outputs": [
    {
     "data": {
      "text/plain": [
       "[Parameter containing:\n",
       " tensor([[2.5306, 3.9915]], requires_grad=True)]"
      ]
     },
     "execution_count": 80,
     "metadata": {},
     "output_type": "execute_result"
    }
   ],
   "source": [
    "list(net.parameters())"
   ]
  },
  {
   "cell_type": "markdown",
   "id": "f2eec7a4-5624-4676-9563-b8a6476825bd",
   "metadata": {
    "id": "0b85b12f-9e48-4b4f-8ef4-63f9f881535c"
   },
   "source": [
    "### 숙제 "
   ]
  },
  {
   "cell_type": "markdown",
   "id": "f924356f-c0bc-4d67-9573-f2aaa5227e6e",
   "metadata": {
    "id": "d3e11b9e-8201-442e-afb0-caab1fbad5cb"
   },
   "source": [
    "아래를 실행해보고 결과를 관찰하라. "
   ]
  },
  {
   "cell_type": "code",
   "execution_count": 81,
   "id": "895714e0-529c-43e6-82fd-8367ae62461f",
   "metadata": {},
   "outputs": [],
   "source": [
    "net=torch.nn.Linear(in_features=2,out_features=1,bias=False) ## 모형정의 \n",
    "optmz=torch.optim.SGD(net.parameters(),lr=0.1)\n",
    "mseloss=torch.nn.MSELoss() \n",
    "for epoc in range(100): \n",
    "    # step1: yhat \n",
    "    yhat=net(X) ## yhat 계산 \n",
    "    # step2: loss\n",
    "    loss=mseloss(y.reshape(100,1),yhat) \n",
    "    # step3: derivation \n",
    "    loss.backward() \n",
    "    # step4: update\n",
    "    optmz.step()"
   ]
  },
  {
   "cell_type": "code",
   "execution_count": 82,
   "id": "8fe4608c-74c0-4640-b3dc-817399f3947c",
   "metadata": {},
   "outputs": [
    {
     "data": {
      "text/plain": [
       "[Parameter containing:\n",
       " tensor([[5.9608, 7.2038]], requires_grad=True)]"
      ]
     },
     "execution_count": 82,
     "metadata": {},
     "output_type": "execute_result"
    }
   ],
   "source": [
    "list(net.parameters())"
   ]
  },
  {
   "cell_type": "markdown",
   "id": "e3a7bd05-3090-446d-9bd7-8d948ae3ff96",
   "metadata": {
    "tags": []
   },
   "source": [
    "### definition of SGD"
   ]
  },
  {
   "cell_type": "markdown",
   "id": "c5656a14-0921-4d1c-8be1-8cc599ebc9e6",
   "metadata": {},
   "source": [
    "ref: https://pytorch.org/docs/stable/generated/torch.optim.SGD.html"
   ]
  },
  {
   "cell_type": "markdown",
   "id": "3bdf8414-d1b7-4273-b4eb-acaa9f11490e",
   "metadata": {},
   "source": [
    "CLASS > **torch.optim.SGD(params, lr=<required parameter>, momentum=0, dampening=0, weight_decay=0, nesterov=False)**"
   ]
  },
  {
   "cell_type": "markdown",
   "id": "123d385b-be73-486b-8d7f-a842cb8ec693",
   "metadata": {},
   "source": [
    "- params (iterable) – iterable of parameters to optimize or dicts defining parameter groups\n",
    "- lr (float) – learning rate\n",
    "- momentum (float, optional) – momentum factor (default: 0)\n",
    "- weight_decay (float, optional) – weight decay (L2 penalty) (default: 0)\n",
    "- dampening (float, optional) – dampening for momentum (default: 0)\n",
    "- nesterov (bool, optional) – enables Nesterov momentum (default: False)"
   ]
  },
  {
   "cell_type": "markdown",
   "id": "5c3190a3-a57d-408c-ae22-0b28e0496447",
   "metadata": {},
   "source": [
    "사용한 function"
   ]
  },
  {
   "cell_type": "markdown",
   "id": "89f4e98a-a1b8-49fd-b688-ff5421df9137",
   "metadata": {},
   "source": [
    "step(closure=None) > Performs a single optimization step.\n",
    "\n",
    "Parameters > closure (callable, optional) – A closure that reevaluates the model and returns the loss."
   ]
  },
  {
   "cell_type": "markdown",
   "id": "ff9b704c-44ed-4c4b-a791-040649ca77bb",
   "metadata": {},
   "source": [
    "zero_grad(set_to_none=False)> Sets the gradients of all optimized torch.Tensor s to zero.\n",
    "\n",
    "Parameters> set_to_none (bool) – instead of setting to zero, set the grads to None. This will in general have lower memory footprint, and can modestly improve performance. However, it changes certain behaviors. For example: 1. When the user tries to access a gradient and perform manual ops on it, a None attribute or a Tensor full of 0s will behave differently. 2. *If the user requests zero_grad(set_to_none=True) followed by a backward pass, .grads are guaranteed to be None for params that did not receive a gradient. 3. torch.optim optimizers have a different behavior if the gradient is 0 or None (in one case it does the step with a gradient of 0 and in the other it skips the step altogether).*"
   ]
  }
 ],
 "metadata": {
  "kernelspec": {
   "display_name": "Python 3",
   "language": "python",
   "name": "python3"
  },
  "language_info": {
   "codemirror_mode": {
    "name": "ipython",
    "version": 3
   },
   "file_extension": ".py",
   "mimetype": "text/x-python",
   "name": "python",
   "nbconvert_exporter": "python",
   "pygments_lexer": "ipython3",
   "version": "3.8.12"
  }
 },
 "nbformat": 4,
 "nbformat_minor": 5
}
