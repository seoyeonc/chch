{
 "cells": [
  {
   "cell_type": "markdown",
   "id": "c195040b-792b-42d3-a7b9-4165ea2dd8da",
   "metadata": {
    "id": "c195040b-792b-42d3-a7b9-4165ea2dd8da",
    "tags": []
   },
   "source": [
    "# 기말고사 대비요령\n",
    "\n",
    "- toc:true\n",
    "- branch: master\n",
    "- badges: true\n",
    "- comments: false\n",
    "- author: 최서연\n",
    "- categories: [wideform, longform, stack, reset_index, melt, set_index,groupby,map, applymap, lambda,pipe()]"
   ]
  },
  {
   "cell_type": "code",
   "execution_count": 35,
   "id": "c61a9c26-ce32-40a1-9595-0be29850eb10",
   "metadata": {},
   "outputs": [],
   "source": [
    "import numpy as np\n",
    "import pandas as pd"
   ]
  },
  {
   "cell_type": "markdown",
   "id": "b54ea82a-c2a5-45af-95ee-486e60fe1042",
   "metadata": {
    "id": "b54ea82a-c2a5-45af-95ee-486e60fe1042"
   },
   "source": [
    "`-` 아래의 내용을 숙지하시길 바랍니다. \n",
    "- wideform / longform \n",
    "- stack(), reset_index(), melt(), set_index() \n",
    "- groupby() \n",
    "- map(), applymap(), lambda \n",
    "- pipe() "
   ]
  },
  {
   "cell_type": "markdown",
   "id": "b18548f6-d67e-4520-a1cc-261015b9cb77",
   "metadata": {},
   "source": [
    "#### map"
   ]
  },
  {
   "cell_type": "markdown",
   "id": "54229c7c-1287-49ae-85f7-379d21930cd9",
   "metadata": {},
   "source": [
    "- 같은 결과~\n",
    "```python\n",
    "def inc(x):return x+1\n",
    "list(map(inc,[1,2,3,4]))\n",
    "list(map(lambda x:x+1,[1,2,3,4]))\n",
    "```\n",
    "output\n",
    "```\n",
    "[2, 3, 4, 5]\n",
    "```"
   ]
  },
  {
   "cell_type": "markdown",
   "id": "be359b0d-5692-4f75-855c-f435e5715b35",
   "metadata": {},
   "source": [
    "`-` map 과 list comprehensions 비교"
   ]
  },
  {
   "cell_type": "code",
   "execution_count": 22,
   "id": "603652d6-23bc-4779-b134-9006ff00af05",
   "metadata": {},
   "outputs": [
    {
     "data": {
      "text/plain": [
       "(True, False)"
      ]
     },
     "execution_count": 22,
     "metadata": {},
     "output_type": "execute_result"
    }
   ],
   "source": [
    "f=lambda x: 'X' in x\n",
    "f('X1'),f('y1')"
   ]
  },
  {
   "cell_type": "code",
   "execution_count": 29,
   "id": "a54793d2-752a-483e-a5db-a9af20cd1d35",
   "metadata": {},
   "outputs": [
    {
     "data": {
      "text/plain": [
       "([True, False], [True, False])"
      ]
     },
     "execution_count": 29,
     "metadata": {},
     "output_type": "execute_result"
    }
   ],
   "source": [
    "list(map(f,['X1','y1'])),[f(x) for x in ['X1','y1']]"
   ]
  },
  {
   "cell_type": "markdown",
   "id": "55eb7a7a-8e05-4351-b3aa-545fa0ecb415",
   "metadata": {},
   "source": [
    "`-` 두 개의 입력 받는 함수 pow의 map과 listi comprehensions 비교"
   ]
  },
  {
   "cell_type": "code",
   "execution_count": 27,
   "id": "a1a9f832-6303-4656-8f9e-39f7ae5b5fd8",
   "metadata": {},
   "outputs": [
    {
     "data": {
      "text/plain": [
       "([16, 1024], [16, 1024])"
      ]
     },
     "execution_count": 27,
     "metadata": {},
     "output_type": "execute_result"
    }
   ],
   "source": [
    "list(map(pow,[2,4],[4,5])),[pow(x,y) for x,y in zip([2,4],[4,5])]"
   ]
  },
  {
   "cell_type": "markdown",
   "id": "d1737cca-a6e4-4017-a374-1ea7aae61fa1",
   "metadata": {
    "tags": []
   },
   "source": [
    "- 두 개 이상을 입력받는 함수를 list comprehensions에 입력하고 싶을 때 zip()으로 묶어줘야 함"
   ]
  },
  {
   "cell_type": "code",
   "execution_count": 31,
   "id": "381b5b71-61ba-49bc-92fd-6e5eeea6bbad",
   "metadata": {},
   "outputs": [
    {
     "data": {
      "text/plain": [
       "([0, 1, 4, 9, 16], [0, 1, 4, 9, 16])"
      ]
     },
     "execution_count": 31,
     "metadata": {},
     "output_type": "execute_result"
    }
   ],
   "source": [
    "g=[]\n",
    "for i in range(5):g.append(i**2)\n",
    "g,list(map(lambda x : x**2,range(5)))"
   ]
  },
  {
   "cell_type": "markdown",
   "id": "1370ae43-2c3b-4243-a8ec-cc4787c0f061",
   "metadata": {},
   "source": [
    "- lsit comprehensions와 비교하면 반복 index를 쓰지 않는 장점이 있지만, 더 제약적으로 사용할 수밖에 없다."
   ]
  },
  {
   "cell_type": "markdown",
   "id": "1132e94a-e053-43f2-a0cf-289e51da48f2",
   "metadata": {
    "tags": []
   },
   "source": [
    "#### lambda [lambda:입력:출력]_5주차"
   ]
  },
  {
   "cell_type": "markdown",
   "id": "c418c5c0-0f78-4573-9dea-1e28a9c7769b",
   "metadata": {},
   "source": [
    "`-` 기본"
   ]
  },
  {
   "cell_type": "markdown",
   "id": "9c417bc6-378e-49f0-a8db-1a1bd1f7aaaf",
   "metadata": {},
   "source": [
    "- 7로 같은 결과\n",
    "```python\n",
    "(lambda x,y: x+y)(3,4)\n",
    "f=lambda x,y:x+y;f(3,4)\n",
    "```"
   ]
  },
  {
   "cell_type": "markdown",
   "id": "7188be4d-b673-4153-8855-3eeb03026726",
   "metadata": {},
   "source": [
    "`-` lambda들의 list"
   ]
  },
  {
   "cell_type": "code",
   "execution_count": 8,
   "id": "096407e4-5d4e-4c1a-aa4c-acfe2371ef29",
   "metadata": {},
   "outputs": [
    {
     "name": "stdout",
     "output_type": "stream",
     "text": [
      "2\n",
      "3\n"
     ]
    }
   ],
   "source": [
    "l=[lambda x: x+1, lambda x:x+2]\n",
    "for f in l:\n",
    "    print(f(1))"
   ]
  },
  {
   "cell_type": "markdown",
   "id": "ba79b72e-a5d2-4a18-ad16-6351e70f256d",
   "metadata": {},
   "source": [
    "`-` lambda들의 dictionary"
   ]
  },
  {
   "cell_type": "code",
   "execution_count": 10,
   "id": "b6481fbb-3e33-4c05-ab37-039743553414",
   "metadata": {},
   "outputs": [
    {
     "data": {
      "text/plain": [
       "(2, 4)"
      ]
     },
     "execution_count": 10,
     "metadata": {},
     "output_type": "execute_result"
    }
   ],
   "source": [
    "dct={'f1':(lambda x:x+1),'f2':(lambda x:x+2)}\n",
    "dct['f1'](1),dct['f2'](2)"
   ]
  },
  {
   "cell_type": "markdown",
   "id": "5a934042-3e2b-4b04-9c43-62982af04958",
   "metadata": {},
   "source": [
    "`-` lambda 조건부 입력"
   ]
  },
  {
   "cell_type": "code",
   "execution_count": 17,
   "id": "22ec8ae5-c1d1-46aa-bbf1-12fd6936108e",
   "metadata": {},
   "outputs": [
    {
     "data": {
      "text/plain": [
       "('t', 'a', 4, 3)"
      ]
     },
     "execution_count": 17,
     "metadata": {},
     "output_type": "execute_result"
    }
   ],
   "source": [
    "upper=lambda x,y: x if x>y else y\n",
    "lower=lambda x,y: x if x<y else y\n",
    "upper('a','t'),lower('a','t'),upper(3,4),lower(3,4)"
   ]
  },
  {
   "cell_type": "markdown",
   "id": "38c33155-2c6f-4b77-9025-59e8f16884ea",
   "metadata": {},
   "source": [
    "`-` lambda expression return(lambda y:x+y 자체가 오브젝트라 가능)"
   ]
  },
  {
   "cell_type": "code",
   "execution_count": 18,
   "id": "8139c61d-33c7-4023-b5ec-f53edc94826b",
   "metadata": {},
   "outputs": [
    {
     "name": "stdout",
     "output_type": "stream",
     "text": [
      "90\n",
      "91\n"
     ]
    },
    {
     "data": {
      "text/plain": [
       "(None, None)"
      ]
     },
     "execution_count": 18,
     "metadata": {},
     "output_type": "execute_result"
    }
   ],
   "source": [
    "def action(x):return (lambda y : x+y)\n",
    "act=action(88)\n",
    "act2=action(89)\n",
    "print(act(2)),print(act2(2))"
   ]
  },
  {
   "cell_type": "markdown",
   "id": "39858efb-2e24-4be8-98e8-b16aacc6a8b9",
   "metadata": {},
   "source": [
    "#### 열,행 선택"
   ]
  },
  {
   "cell_type": "code",
   "execution_count": 39,
   "id": "81951d15-232c-4221-a277-72b30f77cf0a",
   "metadata": {},
   "outputs": [],
   "source": [
    "#collapse\n",
    "dic={'X1':np.random.normal(0,1,5),\n",
    "     'X2':np.random.normal(0,1,5),\n",
    "     'X3':np.random.normal(0,1,5),\n",
    "     'X4':np.random.normal(0,1,5)}\n",
    "df=pd.DataFrame(dic)"
   ]
  },
  {
   "cell_type": "markdown",
   "id": "ba1f6c80-9020-45ca-ada4-3bed6d63d5ef",
   "metadata": {},
   "source": [
    "`````python\n",
    "df.X2\n",
    "df['X2'] # pandas series return\n",
    "df[['X2']] # dictionary return 마치 테이블처럼\n",
    "df.loc[:,'X2'] # 모든 행 선택, pandas series return\n",
    "df.loc[:,['X2']] # dictionary  return\n",
    "df.loc[:,[False True,False]] # 불인덱싱가능(=Boolean indexing)\n",
    "# 컴퓨터 과학에서 불리언(boolean) 자료형은 논리 자료형이라고도 하며, 참과 거짓을 나타내는 데 쓰인다\n",
    "df.iloc[:,1] # iloc = integer loction\n",
    "df.iloc[:,[1]] # iloc에서는 0이 첫번째\n",
    "df.iloc[:,[False True,False]]\n",
    "\n",
    "df[['X2','X3','X4']]\n",
    "df.loc[:,['X2','X3','X4']]\n",
    "df.loc[:,'X2':'X4']\n",
    "df.loc[:,[False,True, True True]]\n",
    "df.iloc[:,[1,2,3]]\n",
    "df.iloc[:,1:]\n",
    "df.iloc[:,1:3]\n",
    "df.iloc[:,range(1,3)]\n",
    "df.iloc[:,[False,True, True True]]\n",
    "`````\n",
    "`df.X2`가 단순하지만 변수 이름을 알고 있어야 하며, 변수 이름에 `마침점(.)`이나 `공백( )`이 있으면 사용할 수 없다."
   ]
  },
  {
   "cell_type": "code",
   "execution_count": 38,
   "id": "c42e089e-c3b3-4016-8c26-4ba63d24815b",
   "metadata": {},
   "outputs": [],
   "source": [
    "#collapse\n",
    "_df = pd.DataFrame(np.array([[1,2,3],[3,4,5],[5,6,7]]))"
   ]
  },
  {
   "cell_type": "markdown",
   "id": "e1fbdc2f-a3bb-49e5-b796-9786a30428a3",
   "metadata": {},
   "source": [
    "`````python\n",
    "_df[1]\n",
    "_df[[1]]\n",
    "_df.loc[:,0]\n",
    "_df.iloc[:,0]\n",
    "_df.loc[:,[0]]\n",
    "_df.iloc[:,[0]]\n",
    "`````\n",
    "- 열이름이 integer일 경우이다. 모두 같은 결과로 ` 선택."
   ]
  },
  {
   "cell_type": "code",
   "execution_count": 42,
   "id": "5546d92a-bad3-433b-aea1-f38e230cd23a",
   "metadata": {},
   "outputs": [],
   "source": [
    "df=pd.read_csv('https://raw.githubusercontent.com/PacktPublishing/Pandas-Cookbook/master/data/movie.csv')\n",
    "# pd.Series(df.columns)\n",
    "# 열 이름들 쭉 나열!"
   ]
  },
  {
   "cell_type": "markdown",
   "id": "2cd0c173-bbc9-4043-9855-57aa753e8a8b",
   "metadata": {},
   "source": [
    "```python\n",
    "df.iloc[:,list(map(lambda x: 'actor' in x,df.columns))]\n",
    "df.loc[:,list(map(lambda x: 'actor' in x, df.columns))]\n",
    "df.iloc[:,map(lambda x: 'actor' in x,df.columns)]\n",
    "df.loc[:,map(lambda x: 'actor' in x, df.columns)]\n",
    "df.loc[:,filter(lambda x: 'actor' in x, df.columns)]\n",
    "# filter는 문자열로 반환해주기 때문에 iloc은 에러가 뜬다.\n",
    "```\n",
    "actor 라는 단어가 포함된 열만 선택\n",
    "```python\n",
    "df.iloc[:,list(map(lambda x: 'actor' not in x,df.columns))]\n",
    "df.loc[:,list(map(lambda x: 'actor' not in x, df.columns))]\n",
    "df.iloc[:,map(lambda x: 'actor' not in x,df.columns)]\n",
    "df.loc[:,map(lambda x: 'actor' not in x, df.columns)]\n",
    "df.loc[:,filter(lambda x: 'actor' not in x, df.columns)]\n",
    "```\n",
    "actor 라는 단어가 포함되지 않는 열만 선택\n",
    "```python\n",
    "df.iloc[:,map(lambda x: 's' ==x[-1],df.columns)]\n",
    "df.loc[:,map(lambda x: 's' ==x[-1],df.columns)]\n",
    "```\n",
    "변수 이름이 s로 끝나는 변수들 선택 (반대는 !=)\n",
    "```python\n",
    "df.iloc[:,map(lambda x: 'a' != x[0],df.columns)]\n",
    "df.loc[:,map(lambda x: 'a' != x[0],df.columns)]\n",
    "```\n",
    "변수 이름이 a로 시작하지 않는 변수들만 선택(반대는 =)\n",
    "```python\n",
    "df.iloc[:,map(lambda x: 'c'==x[0] or 'd'==x[0],df.columns)]\n",
    "df.loc[:,map(lambda x: 'c'==x[0] or 'd'==x[0],df.columns)]\n",
    "```"
   ]
  },
  {
   "cell_type": "code",
   "execution_count": null,
   "id": "2382b2ca-2365-4897-b361-a0074ab24964",
   "metadata": {},
   "outputs": [],
   "source": []
  },
  {
   "cell_type": "code",
   "execution_count": null,
   "id": "299a98fc-3807-488c-ae59-9b69df7943a0",
   "metadata": {},
   "outputs": [],
   "source": []
  },
  {
   "cell_type": "markdown",
   "id": "0495c8a0-962e-48e1-ba75-71e3bff85c1d",
   "metadata": {
    "id": "0495c8a0-962e-48e1-ba75-71e3bff85c1d"
   },
   "source": [
    "`-` ggplot을 이용한 고난도 문제가 출제될 수 있습니다. "
   ]
  },
  {
   "cell_type": "markdown",
   "id": "34d91938-a184-4b71-8f06-030b1a23da7d",
   "metadata": {
    "id": "34d91938-a184-4b71-8f06-030b1a23da7d"
   },
   "source": [
    "`-` pandas backend를 이용한 plot은 아주 잘 숙지하고 계셔야합니다. "
   ]
  },
  {
   "cell_type": "code",
   "execution_count": null,
   "id": "7e415fa3-0e7c-4d12-bebc-ab9dbe091d4d",
   "metadata": {},
   "outputs": [],
   "source": []
  }
 ],
 "metadata": {
  "colab": {
   "name": "2021-12-12-기말고사 대비요령.ipynb",
   "provenance": []
  },
  "kernelspec": {
   "display_name": "Python 3 (ipykernel)",
   "language": "python",
   "name": "python3"
  },
  "language_info": {
   "codemirror_mode": {
    "name": "ipython",
    "version": 3
   },
   "file_extension": ".py",
   "mimetype": "text/x-python",
   "name": "python",
   "nbconvert_exporter": "python",
   "pygments_lexer": "ipython3",
   "version": "3.8.12"
  }
 },
 "nbformat": 4,
 "nbformat_minor": 5
}
