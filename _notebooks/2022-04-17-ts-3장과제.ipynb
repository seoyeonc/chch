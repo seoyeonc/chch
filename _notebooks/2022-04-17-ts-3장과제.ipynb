{
 "cells": [
  {
   "cell_type": "markdown",
   "id": "c28f8969-2980-4ebc-afdc-a0912b2c31b5",
   "metadata": {
    "id": "cac470df-29e7-4148-9bbd-d8b9a32fa570",
    "tags": []
   },
   "source": [
    "# 이론통계학 과제 4월 12일\n",
    "> 3장\n",
    "\n",
    "- toc:true\n",
    "- branch: master\n",
    "- badges: true\n",
    "- comments: false\n",
    "- author: 최서연\n",
    "- categories: [Theoritical Statistics]"
   ]
  },
  {
   "cell_type": "markdown",
   "id": "160bfc45-d499-4663-b07f-a60878ce9aa8",
   "metadata": {},
   "source": [
    "`6.` 모분포 $N(0,25)$로부터 랜덤표본 $X_1,X_2, \\dots, X_5$를 얻었다고 할 때,\n",
    "\n",
    "(1) $P(\\bar{X}_5<c) = 0.90$을 만족하는 상수 $c$ 값을 구하라.\n",
    "\n",
    "(2) $P(\\frac{1}{5}\\sum^{5}_{i=1} X^{2}_{i} <c) = 0.90$을 만족하는 상수 $c$ 값을 구하라."
   ]
  },
  {
   "cell_type": "code",
   "execution_count": 24,
   "id": "6864525b-a26b-48f4-ac33-271236eb7950",
   "metadata": {},
   "outputs": [
    {
     "data": {
      "text/html": [
       "2.865636417229"
      ],
      "text/latex": [
       "2.865636417229"
      ],
      "text/markdown": [
       "2.865636417229"
      ],
      "text/plain": [
       "[1] 2.865636"
      ]
     },
     "metadata": {},
     "output_type": "display_data"
    }
   ],
   "source": [
    "qnorm(0.9,0,sqrt(5))"
   ]
  },
  {
   "cell_type": "code",
   "execution_count": 25,
   "id": "314d80c5-0593-48f9-a478-b8e9dbfedb5e",
   "metadata": {},
   "outputs": [
    {
     "data": {
      "text/html": [
       "2.865636417229"
      ],
      "text/latex": [
       "2.865636417229"
      ],
      "text/markdown": [
       "2.865636417229"
      ],
      "text/plain": [
       "[1] 2.865636"
      ]
     },
     "metadata": {},
     "output_type": "display_data"
    }
   ],
   "source": [
    "qnorm(0.9,0,1)*sqrt(5)"
   ]
  },
  {
   "cell_type": "code",
   "execution_count": 27,
   "id": "d4780dcd-0de6-47b4-90f0-65f09db44b79",
   "metadata": {},
   "outputs": [
    {
     "data": {
      "text/html": [
       "1.84727137995622"
      ],
      "text/latex": [
       "1.84727137995622"
      ],
      "text/markdown": [
       "1.84727137995622"
      ],
      "text/plain": [
       "[1] 1.847271"
      ]
     },
     "metadata": {},
     "output_type": "display_data"
    }
   ],
   "source": [
    "qchisq(0.9,df=5)/5"
   ]
  },
  {
   "cell_type": "markdown",
   "id": "7be0c397-e1d8-401c-b4b8-65b72bbb7f6d",
   "metadata": {},
   "source": [
    "위에가 아니라 아래가 답!,\n",
    "- $E(\\frac{1}{5}\\sum^{5}_{i=1}X^{2}_{i}) = \\frac{1}{5} \\times 5 = 1$\n",
    "- $var(\\frac{1}{5}\\sum^{5}_{i=1}X^{2}_{i}) = \\frac{\\sigma^2}{n} = \\frac{10}{5} = 2$\n",
    "- $\\therefore \\frac{1}{5} \\sum^{5}_{i=1} \\sim \\chi^{2}_{1}$"
   ]
  },
  {
   "cell_type": "code",
   "execution_count": 28,
   "id": "b540a188-a07c-45f1-8529-b6e31a8e80eb",
   "metadata": {},
   "outputs": [
    {
     "data": {
      "text/html": [
       "2.70554345409542"
      ],
      "text/latex": [
       "2.70554345409542"
      ],
      "text/markdown": [
       "2.70554345409542"
      ],
      "text/plain": [
       "[1] 2.705543"
      ]
     },
     "metadata": {},
     "output_type": "display_data"
    }
   ],
   "source": [
    "qchisq(0.9,df=1)"
   ]
  },
  {
   "cell_type": "markdown",
   "id": "a5fc235c-9f5d-43eb-bee5-777e6faecb4a",
   "metadata": {},
   "source": [
    "`7.` $X_1,X_2, \\dots, X_n$ 이 $N(\\mu, \\sigma^2)$로부터 구한 랜덤표본이라고 하자.\n",
    "\n",
    "이때 $\\sum^{n}_{i=1}(X_i - \\bar{X}_n)^2/n$ 의 분산을 구하라."
   ]
  },
  {
   "cell_type": "markdown",
   "id": "443fb8b3-011d-4211-9f5e-ec58b79e28d0",
   "metadata": {},
   "source": [
    "`12.` $X_1, X_2, \\dots, X_{10}$이 $N(\\mu, 25)$ 으로부터 구한 랜덤표본이라고 하자. \n",
    "\n",
    "이때 $P(4<\\sum^{10}_{i=1} (X_i - \\bar{X}_{10} )^2 /10 <14 )$를 계산하라."
   ]
  },
  {
   "cell_type": "code",
   "execution_count": 14,
   "id": "5d344c9b-2f06-4acc-bf95-dfdcf6d6e33c",
   "metadata": {},
   "outputs": [
    {
     "data": {
      "text/html": [
       "0.217146972939312"
      ],
      "text/latex": [
       "0.217146972939312"
      ],
      "text/markdown": [
       "0.217146972939312"
      ],
      "text/plain": [
       "[1] 0.217147"
      ]
     },
     "metadata": {},
     "output_type": "display_data"
    }
   ],
   "source": [
    "pchisq(14*10/25,df=9) - pchisq(4*10/25,df=9)"
   ]
  },
  {
   "cell_type": "markdown",
   "id": "8cf9470e-c047-4497-8392-a3ebd12ed0da",
   "metadata": {},
   "source": [
    "`13.`$X_1,X_2 \\dots, X_{16}$이 $N(5,25)$ 으로부터 구한 랜덤표본이라고 하자.\n",
    "\n",
    "이때 $P(0<\\bar{X}_{16}<6, 20< \\sum^{16}_{i=1} (X_i - \\bar{X}_{16})^2 /16 <30)$을 계산하라."
   ]
  },
  {
   "cell_type": "code",
   "execution_count": 15,
   "id": "9b281848-9bce-4986-837a-aa2374b009f3",
   "metadata": {},
   "outputs": [
    {
     "data": {
      "text/html": [
       "0.977218196809988"
      ],
      "text/latex": [
       "0.977218196809988"
      ],
      "text/markdown": [
       "0.977218196809988"
      ],
      "text/plain": [
       "[1] 0.9772182"
      ]
     },
     "metadata": {},
     "output_type": "display_data"
    }
   ],
   "source": [
    "pnorm(2,0,1) - pnorm(-4,0,1)"
   ]
  },
  {
   "cell_type": "code",
   "execution_count": 16,
   "id": "389b1eb7-e990-4094-99eb-3c4c3dc4ef9b",
   "metadata": {},
   "outputs": [
    {
     "data": {
      "text/html": [
       "0.412929051104458"
      ],
      "text/latex": [
       "0.412929051104458"
      ],
      "text/markdown": [
       "0.412929051104458"
      ],
      "text/plain": [
       "[1] 0.4129291"
      ]
     },
     "metadata": {},
     "output_type": "display_data"
    }
   ],
   "source": [
    "pchisq(19.2,df=15) - pchisq(12.8,df=15)"
   ]
  },
  {
   "cell_type": "code",
   "execution_count": 7,
   "id": "eee814cc-ae1f-4534-9db1-67f07f06a56d",
   "metadata": {},
   "outputs": [
    {
     "data": {
      "text/html": [
       "0.977218196809988"
      ],
      "text/latex": [
       "0.977218196809988"
      ],
      "text/markdown": [
       "0.977218196809988"
      ],
      "text/plain": [
       "[1] 0.9772182"
      ]
     },
     "metadata": {},
     "output_type": "display_data"
    }
   ],
   "source": [
    "pnorm(2,0,1)-pnorm(-4,0,1)"
   ]
  },
  {
   "cell_type": "code",
   "execution_count": 17,
   "id": "f1aa28d4-2348-4d4c-a8ff-b5b902c13b25",
   "metadata": {},
   "outputs": [
    {
     "data": {
      "text/html": [
       "0.403521782730758"
      ],
      "text/latex": [
       "0.403521782730758"
      ],
      "text/markdown": [
       "0.403521782730758"
      ],
      "text/plain": [
       "[1] 0.4035218"
      ]
     },
     "metadata": {},
     "output_type": "display_data"
    }
   ],
   "source": [
    "(pnorm(2,0,1) - pnorm(-4,0,1)) * (pchisq(19.2,df=15) - pchisq(12.8,df=15))"
   ]
  },
  {
   "cell_type": "markdown",
   "id": "ab057a04-a7eb-4c60-9512-ae2c45d83bf5",
   "metadata": {},
   "source": [
    "`14.` $X_1, X_2, \\dots, X_{16}$과 $Y_1,Y_2,\\dots,Y_{25}$이 각각 $N(0,9)$와 $N(2,16)$으로부터 구한 서로 독립인 랜덤표본이라고 하자. 이때\n",
    "\n",
    "(1) $\\bar{X}_{16} - \\bar{Y}_{25}$ 의 분포를 구하라.\n",
    "\n",
    "(2) $P(\\bar{X}_{16} - \\bar{Y}_{25} > 0)$ 를 계산하라."
   ]
  },
  {
   "cell_type": "code",
   "execution_count": 21,
   "id": "2fef83ba-475a-4450-9540-b703d74cbbfa",
   "metadata": {},
   "outputs": [
    {
     "data": {
      "text/html": [
       "0.0340879047226217"
      ],
      "text/latex": [
       "0.0340879047226217"
      ],
      "text/markdown": [
       "0.0340879047226217"
      ],
      "text/plain": [
       "[1] 0.0340879"
      ]
     },
     "metadata": {},
     "output_type": "display_data"
    }
   ],
   "source": [
    "1-pnorm(0,-2,sqrt(481/400))"
   ]
  },
  {
   "cell_type": "markdown",
   "id": "0a30e2c2-88f3-4db5-ab35-05f60388f212",
   "metadata": {},
   "source": [
    "`17.` 모분포 $N(0,1)$ 로부터 랜덤표본 $X_1, X_2,\\dots , X_{50}$을 얻었다고 할 때,\n",
    "\n",
    "(1) $P(X_1 - X_2 < 2)$ 을 계산하라.\n",
    "\n",
    "(2) $P(X_1 + X_2 < 2)$ 을 계산하라.\n",
    "\n",
    "(3) $P(X^{2}_{1} + \\dots + X^{2}_{50} < 60)$ 을 계산하라.\n",
    "\n",
    "(4) $P(40 < X^{2}_{1} + \\dots + X^{2}_{50} < 60)$ 을 계산하라.\n",
    "\n",
    "(5) $P(X^{2}_{1} + \\dots + X^{2}_{50} < 50 + c) = 0.9$ 를 만족하는 상수 $c$ 를 구하라."
   ]
  },
  {
   "cell_type": "code",
   "execution_count": 8,
   "id": "647e575e-b56b-4882-a0dc-f4838df8eaa9",
   "metadata": {},
   "outputs": [
    {
     "data": {
      "text/html": [
       "0.921350396474857"
      ],
      "text/latex": [
       "0.921350396474857"
      ],
      "text/markdown": [
       "0.921350396474857"
      ],
      "text/plain": [
       "[1] 0.9213504"
      ]
     },
     "metadata": {},
     "output_type": "display_data"
    }
   ],
   "source": [
    "pnorm(sqrt(2),0,1)"
   ]
  },
  {
   "cell_type": "code",
   "execution_count": 8,
   "id": "90648533-594b-4de5-8081-68ef875acf49",
   "metadata": {},
   "outputs": [
    {
     "data": {
      "text/html": [
       "0.921350396474857"
      ],
      "text/latex": [
       "0.921350396474857"
      ],
      "text/markdown": [
       "0.921350396474857"
      ],
      "text/plain": [
       "[1] 0.9213504"
      ]
     },
     "metadata": {},
     "output_type": "display_data"
    }
   ],
   "source": [
    "pnorm(sqrt(2),0,1)"
   ]
  },
  {
   "cell_type": "code",
   "execution_count": 32,
   "id": "f6a396d3-6698-4f62-b206-eefb82d334f1",
   "metadata": {},
   "outputs": [
    {
     "data": {
      "text/html": [
       "0.842757972761609"
      ],
      "text/latex": [
       "0.842757972761609"
      ],
      "text/markdown": [
       "0.842757972761609"
      ],
      "text/plain": [
       "[1] 0.842758"
      ]
     },
     "metadata": {},
     "output_type": "display_data"
    }
   ],
   "source": [
    "pchisq(60,df=50)"
   ]
  },
  {
   "cell_type": "code",
   "execution_count": 10,
   "id": "dad2b896-56cc-49fa-bc97-2caa7aff994b",
   "metadata": {},
   "outputs": [
    {
     "data": {
      "text/html": [
       "0.685985350935371"
      ],
      "text/latex": [
       "0.685985350935371"
      ],
      "text/markdown": [
       "0.685985350935371"
      ],
      "text/plain": [
       "[1] 0.6859854"
      ]
     },
     "metadata": {},
     "output_type": "display_data"
    }
   ],
   "source": [
    "pchisq(60,df=50)-pchisq(40,df=50)"
   ]
  },
  {
   "cell_type": "code",
   "execution_count": 33,
   "id": "e90c1869-7afb-4d1b-a5db-0d39b8a6a20a",
   "metadata": {},
   "outputs": [
    {
     "data": {
      "text/html": [
       "13.1671210057263"
      ],
      "text/latex": [
       "13.1671210057263"
      ],
      "text/markdown": [
       "13.1671210057263"
      ],
      "text/plain": [
       "[1] 13.16712"
      ]
     },
     "metadata": {},
     "output_type": "display_data"
    }
   ],
   "source": [
    "qchisq(0.9,df=50)-50"
   ]
  }
 ],
 "metadata": {
  "kernelspec": {
   "display_name": "R",
   "language": "R",
   "name": "ir"
  },
  "language_info": {
   "codemirror_mode": "r",
   "file_extension": ".r",
   "mimetype": "text/x-r-source",
   "name": "R",
   "pygments_lexer": "r",
   "version": "4.1.2"
  }
 },
 "nbformat": 4,
 "nbformat_minor": 5
}
