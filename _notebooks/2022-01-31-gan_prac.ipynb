{
 "cells": [
  {
   "cell_type": "markdown",
   "id": "2358d703-8cc3-4658-bdfd-bf6bb2b55b7f",
   "metadata": {
    "id": "d44ba9bc-ebf3-49d8-b2db-9d49bf1bec22",
    "tags": []
   },
   "source": [
    "# gan keras로 해보기\n",
    "> Not done\n",
    "\n",
    "- toc:true\n",
    "- branch: master\n",
    "- badges: false\n",
    "- comments: false \n",
    "- author: 최서연\n",
    "- categories: [GAN]"
   ]
  },
  {
   "cell_type": "code",
   "execution_count": 1,
   "id": "581b0e9a-89a6-4921-94ca-b4034dc585fa",
   "metadata": {},
   "outputs": [],
   "source": [
    "import numpy as np"
   ]
  },
  {
   "cell_type": "code",
   "execution_count": 15,
   "id": "c1ca8561-41c2-4dad-95f5-427115395570",
   "metadata": {},
   "outputs": [],
   "source": [
    "from tensorflow.keras.utils import to_categorical"
   ]
  },
  {
   "cell_type": "code",
   "execution_count": 16,
   "id": "cb693bf1-ce71-491a-94c3-a704e7f04fe6",
   "metadata": {},
   "outputs": [],
   "source": [
    "from keras.datasets import cifar10"
   ]
  },
  {
   "cell_type": "markdown",
   "id": "bc9d44ee-3f3f-4495-aa71-7716d4d2b1a9",
   "metadata": {},
   "source": [
    "#### 데이터 적재"
   ]
  },
  {
   "cell_type": "code",
   "execution_count": 34,
   "id": "9de7acbc-86b4-488d-8820-a6fe715db6d3",
   "metadata": {},
   "outputs": [],
   "source": [
    "(x_train,y_train),(x_test,y_test)=cifar10.load_data()"
   ]
  },
  {
   "cell_type": "markdown",
   "id": "ebeed45c-411f-4b32-81b4-08fd497b0b68",
   "metadata": {},
   "source": [
    "데이터 셋을 적재한다."
   ]
  },
  {
   "cell_type": "code",
   "execution_count": 35,
   "id": "4e3f5459-0e6c-49c1-8b6e-eeae491b2577",
   "metadata": {},
   "outputs": [
    {
     "data": {
      "text/plain": [
       "((50000, 32, 32, 3), (10000, 32, 32, 3), (50000, 1), (10000, 1))"
      ]
     },
     "execution_count": 35,
     "metadata": {},
     "output_type": "execute_result"
    }
   ],
   "source": [
    "x_train.shape, x_test.shape, y_train.shape,  y_test.shape"
   ]
  },
  {
   "cell_type": "markdown",
   "id": "3121cbea-62b7-4aa2-8880-d41f5d3d6121",
   "metadata": {},
   "source": [
    "- shape에서 첫번째 차원은 index를 가리킴.\n",
    "- 두 번째 차원은 이미지 높이\n",
    "- 세 번째 차원은 이미지 너비\n",
    "- 마지막 차원은 RGB 채널\n",
    "- 이런 배열을 4차원 tensor라 부름"
   ]
  },
  {
   "cell_type": "code",
   "execution_count": 36,
   "id": "4b8f8d20-9ac2-42eb-a13a-11a6c9fa0f3f",
   "metadata": {},
   "outputs": [],
   "source": [
    "NUM_CLASSES = 10"
   ]
  },
  {
   "cell_type": "code",
   "execution_count": 37,
   "id": "7d9a4296-c679-4573-a7f7-6f229d7c553a",
   "metadata": {},
   "outputs": [],
   "source": [
    "x_train = x_train.astype('float32')/255.0\n",
    "x_test = x_test.astype('float32')/255.0"
   ]
  },
  {
   "cell_type": "markdown",
   "id": "eb357927-d0a5-48be-9693-34ed0e46cb35",
   "metadata": {},
   "source": [
    "신경망은 -1~1 사이 놓여있게 만들기!"
   ]
  },
  {
   "cell_type": "code",
   "execution_count": 38,
   "id": "4205b4cb-bc17-48e4-9bc1-e57c1b69719e",
   "metadata": {},
   "outputs": [],
   "source": [
    "y_train = to_categorical(y_train,NUM_CLASSES)\n",
    "y_test = to_categorical(y_test,NUM_CLASSES)"
   ]
  },
  {
   "cell_type": "markdown",
   "id": "58d06376-2e5f-4432-8ce5-8178d877bfc6",
   "metadata": {},
   "source": [
    "이미지의 정수 레이블을 one-hot-encoding vector로 바꾸기\n",
    "- 어떤 이미지의 class 정수 레이블이 i라면 이 뜻은 one-hot encoding이 i번빼 원소가 1이고 그외에는 모두 0인 길이가 10(class개수)인 vector가 된다.\n",
    "- 따라서 shape도 바뀐 것을 볼 수 있음"
   ]
  },
  {
   "cell_type": "code",
   "execution_count": 39,
   "id": "c2ebb7b6-6a49-419d-8b28-09cce7246033",
   "metadata": {},
   "outputs": [
    {
     "data": {
      "text/plain": [
       "((50000, 10), (10000, 10))"
      ]
     },
     "execution_count": 39,
     "metadata": {},
     "output_type": "execute_result"
    }
   ],
   "source": [
    "y_train.shape, y_test.shape"
   ]
  },
  {
   "cell_type": "markdown",
   "id": "44295945-4286-4a69-a815-3957d7067c97",
   "metadata": {},
   "source": [
    "#### 모델 만들기"
   ]
  },
  {
   "cell_type": "markdown",
   "id": "20df073b-82fb-4419-9105-ce72263b4753",
   "metadata": {},
   "source": [
    "Sequential 모델은 일렬로 층을 쌓은 네트워크를 빠르게 만들때 사용하기 좋음\n",
    "\n",
    "API 모델은 각각 층으로 볼 수 있음"
   ]
  },
  {
   "cell_type": "code",
   "execution_count": 42,
   "id": "101d09a0-205a-430e-9a5f-39f6afe534bd",
   "metadata": {},
   "outputs": [],
   "source": [
    "from tensorflow.keras.models import Sequential"
   ]
  },
  {
   "cell_type": "code",
   "execution_count": 43,
   "id": "c1cfc399-ea3b-4802-b860-aa4ba62958ef",
   "metadata": {},
   "outputs": [],
   "source": [
    "from tensorflow.keras.layers import Flatten, Dense"
   ]
  },
  {
   "cell_type": "code",
   "execution_count": 45,
   "id": "0a669bc6-511b-4348-b17e-af7bc41e13b6",
   "metadata": {},
   "outputs": [],
   "source": [
    "model = Sequential([Dense(200, activation  = 'relu', input_shape=(32,32,3)),\n",
    "                   Flatten(),\n",
    "                   Dense(150, activation = 'relu'),\n",
    "                   Dense(10,activation = 'softmax'),])"
   ]
  },
  {
   "cell_type": "markdown",
   "id": "41396a6d-df09-4e4a-b4ec-04f6db017fdd",
   "metadata": {},
   "source": [
    "Sequential 사용한 network"
   ]
  },
  {
   "cell_type": "code",
   "execution_count": 46,
   "id": "8e6d74ca-77aa-4ec9-aa04-86da59958a29",
   "metadata": {},
   "outputs": [],
   "source": [
    "from tensorflow.keras.layers import Input, Flatten, Dense"
   ]
  },
  {
   "cell_type": "code",
   "execution_count": 47,
   "id": "3fb03cde-873f-477c-a7fe-3c551ba3683b",
   "metadata": {},
   "outputs": [],
   "source": [
    "from tensorflow.keras.models import Model"
   ]
  },
  {
   "cell_type": "code",
   "execution_count": 48,
   "id": "eb27edba-8e6c-4149-8ea6-69359c7834ea",
   "metadata": {},
   "outputs": [],
   "source": [
    "input_layer = Input(shape=(32,32,3))"
   ]
  },
  {
   "cell_type": "code",
   "execution_count": 49,
   "id": "80eeb446-1fca-44b1-ada7-414c83be4b59",
   "metadata": {},
   "outputs": [],
   "source": [
    "x=Flatten()(input_layer)"
   ]
  },
  {
   "cell_type": "code",
   "execution_count": 50,
   "id": "769071d8-5c38-48a2-b254-dd83b7267116",
   "metadata": {},
   "outputs": [],
   "source": [
    "x=Dense(units=200,activation='relu')(x)"
   ]
  },
  {
   "cell_type": "code",
   "execution_count": 52,
   "id": "03219e37-0f9f-4666-87c8-efb2d8668471",
   "metadata": {},
   "outputs": [],
   "source": [
    "x=Dense(units=150,activation = 'relu')(x)"
   ]
  },
  {
   "cell_type": "code",
   "execution_count": 53,
   "id": "ecf4541f-f7b7-4dfb-8464-f3ad98f33f50",
   "metadata": {},
   "outputs": [],
   "source": [
    "output_layer = Dense(units=10,activation='softmax')(x)"
   ]
  },
  {
   "cell_type": "code",
   "execution_count": 54,
   "id": "3f585d2a-861a-4de0-81f6-2585d6c20ee0",
   "metadata": {},
   "outputs": [],
   "source": [
    "model=Model(input_layer,output_layer)"
   ]
  },
  {
   "cell_type": "markdown",
   "id": "1dfa3820-8ee5-4468-843a-b2f2e2c2dfb9",
   "metadata": {},
   "source": [
    "API 사용한 network"
   ]
  },
  {
   "cell_type": "code",
   "execution_count": 55,
   "id": "cc7830b4-b051-4c14-b392-1bbef013f838",
   "metadata": {},
   "outputs": [
    {
     "name": "stdout",
     "output_type": "stream",
     "text": [
      "Model: \"model\"\n",
      "_________________________________________________________________\n",
      " Layer (type)                Output Shape              Param #   \n",
      "=================================================================\n",
      " input_1 (InputLayer)        [(None, 32, 32, 3)]       0         \n",
      "                                                                 \n",
      " flatten_1 (Flatten)         (None, 3072)              0         \n",
      "                                                                 \n",
      " dense_3 (Dense)             (None, 200)               614600    \n",
      "                                                                 \n",
      " dense_4 (Dense)             (None, 150)               30150     \n",
      "                                                                 \n",
      " dense_5 (Dense)             (None, 10)                1510      \n",
      "                                                                 \n",
      "=================================================================\n",
      "Total params: 646,260\n",
      "Trainable params: 646,260\n",
      "Non-trainable params: 0\n",
      "_________________________________________________________________\n"
     ]
    }
   ],
   "source": [
    "model.summary()"
   ]
  },
  {
   "cell_type": "markdown",
   "id": "b2f71e68-a1a4-4f0e-88db-0ec544aef092",
   "metadata": {},
   "source": [
    "- **Input**\n",
    "    - 네트워크의 시작점\n",
    "    - 입력 데이터 크기를 튜플에 알려주기\n",
    "- **Flatten**\n",
    "    - 입력을 하나의 vector로 펼치기\n",
    "    - 32 * 32 * 3 = 3,072\n",
    "- **Dense**\n",
    "    - 이전 층과 완전하게 연결되는 유닛을 가짐\n",
    "    - 이 층의 각 unit은 이전 층의 모든 unit과 연결됨!\n",
    "    - unit의 출력은 이전 층으로부터 받은 입력과 가중치를 곱하여 더한 것\n",
    "- **activation function**\n",
    "    - 비선형 활성화 함수\n",
    "        - 렐루Relu: 입력이 음수이면 0, 그 외는 입력과 동일한 값 출력\n",
    "        - 리키렐루leaky relu: 음수이면 입력에 비례하는 작은 음수 반환, 그 외는 입력과 동일한 값 출력\n",
    "        - 시그모이드sigmoid: 층의 출력을 0에서 1사이로 조정하고 시싶을 때!(binary/multilabel classification에서 사용)\n",
    "        - 소프트맥스softmax: 층의 전체 출력 합이 1이 되어야 할 떄 사용(multiclass classification)"
   ]
  },
  {
   "cell_type": "markdown",
   "id": "15b11471-1d06-418f-a43b-71fb2b453646",
   "metadata": {},
   "source": [
    "![](http://androidkt.com/wp-content/uploads/2020/05/Selection_019-1024x490.png)\n",
    "\n",
    "![](https://kjhov195.github.io/post_img/200107/image2.png)"
   ]
  },
  {
   "cell_type": "markdown",
   "id": "fe87ca93-adaf-4af9-b196-5eccac46a09e",
   "metadata": {},
   "source": [
    "![](https://miro.medium.com/max/1400/1*IWUxuBpqn2VuV-7Ubr01ng.png)"
   ]
  },
  {
   "cell_type": "code",
   "execution_count": null,
   "id": "6ce1a2ed-2397-4d9c-a8c7-c15f6d1a8506",
   "metadata": {},
   "outputs": [],
   "source": []
  }
 ],
 "metadata": {
  "kernelspec": {
   "display_name": "Python 3",
   "language": "python",
   "name": "python3"
  },
  "language_info": {
   "codemirror_mode": {
    "name": "ipython",
    "version": 3
   },
   "file_extension": ".py",
   "mimetype": "text/x-python",
   "name": "python",
   "nbconvert_exporter": "python",
   "pygments_lexer": "ipython3",
   "version": "3.8.12"
  }
 },
 "nbformat": 4,
 "nbformat_minor": 5
}
