{
 "cells": [
  {
   "cell_type": "markdown",
   "id": "5e4a12e2-85ef-4b19-965c-7087d36edf79",
   "metadata": {
    "id": "5e4a12e2-85ef-4b19-965c-7087d36edf79",
    "tags": []
   },
   "source": [
    "# 빅데이터 분석 중간고사 대비문제 \n",
    "\n",
    "- toc:false\n",
    "- branch: master\n",
    "- badges: false\n",
    "- comments: false \n",
    "- author: 최서연\n",
    "- categories: [Big Data Analysis]"
   ]
  },
  {
   "cell_type": "markdown",
   "id": "e136699b-1d2c-438d-8baa-db30c4161dd7",
   "metadata": {
    "id": "e136699b-1d2c-438d-8baa-db30c4161dd7",
    "tags": []
   },
   "source": [
    "### `1`. 크롤링을 통한 이미지 분석 및 CAM (40점)"
   ]
  },
  {
   "cell_type": "markdown",
   "id": "f46963d5-b6a2-4b53-9e19-0988a104810a",
   "metadata": {
    "id": "f46963d5-b6a2-4b53-9e19-0988a104810a"
   },
   "source": [
    "#### (a) 두가지 키워드로 크롤링하여 이미지 자료를 모으고 CNN 모형을 활용하여 분석하라. \n",
    "- 2주차-hw1의 분석코드를 그대로 활용하여도 무방함"
   ]
  },
  {
   "cell_type": "markdown",
   "id": "091ded1b-354b-4fd5-a027-3a11e72f155a",
   "metadata": {
    "id": "091ded1b-354b-4fd5-a027-3a11e72f155a"
   },
   "source": [
    "#### (b) CAM을 이용하여 CNN의 판단근거를 시각화하라. "
   ]
  },
  {
   "cell_type": "markdown",
   "id": "a71e4ec8-4b7e-4fc5-9ff3-00557db98a90",
   "metadata": {
    "id": "a71e4ec8-4b7e-4fc5-9ff3-00557db98a90"
   },
   "source": [
    "### `2`. 아래와 같은 5개의 자료를 관측하였다고 가정하자. (15점)"
   ]
  },
  {
   "cell_type": "markdown",
   "id": "57db4e75-0471-40d9-90f6-403dc126f944",
   "metadata": {
    "id": "57db4e75-0471-40d9-90f6-403dc126f944"
   },
   "source": [
    "||x|y|\n",
    "|:-:|:-:|:-:|\n",
    "|0|11|17.7|\n",
    "|1|12|18.5|\n",
    "|2|13|21.2|\n",
    "|3|14|23.6|\n",
    "|4|15|24.2|\n"
   ]
  },
  {
   "cell_type": "markdown",
   "id": "33ba1aa9-6c60-4293-a965-5a434431b998",
   "metadata": {
    "id": "33ba1aa9-6c60-4293-a965-5a434431b998"
   },
   "source": [
    "#### (a) 모형 $y_i=\\beta_0+\\beta_1 x_i$에 해당하는 네트워크를 파이토치를 이용하여 설계하고 손실함수를 정의하라. $(\\beta_0,\\beta_1)=(3,3)$일 경우의 loss를 계산하라. "
   ]
  },
  {
   "cell_type": "markdown",
   "id": "f88dfaa9-6f76-4dd8-87c8-8172bef81d23",
   "metadata": {
    "id": "f88dfaa9-6f76-4dd8-87c8-8172bef81d23"
   },
   "source": [
    "- 손실함수는 MSELoss를 활용한다. "
   ]
  },
  {
   "cell_type": "markdown",
   "id": "18f1d29b-eee9-4ecd-92ac-fb56e0b2d3ed",
   "metadata": {
    "id": "18f1d29b-eee9-4ecd-92ac-fb56e0b2d3ed"
   },
   "source": [
    "#### (b) $(\\beta_0,\\beta_1)=(3,3)$에서 손실함수의 미분계수를 계산하라. "
   ]
  },
  {
   "cell_type": "markdown",
   "id": "2c1931c6-61b2-4c97-8a58-9ddf56602461",
   "metadata": {
    "id": "2c1931c6-61b2-4c97-8a58-9ddf56602461"
   },
   "source": [
    "#### (c) 경사하강법을 통하여 $(\\beta_0,\\beta_1)=(3,3)$의 값을 1회 update하라. 여기에서 학습률은 0.01로 설정한다. "
   ]
  },
  {
   "cell_type": "markdown",
   "id": "246568bd-62fe-4edd-8f67-ed859f941712",
   "metadata": {
    "id": "246568bd-62fe-4edd-8f67-ed859f941712"
   },
   "source": [
    "### `3`. 파이토치를 이용한 모형구축 및 학습 (20점) "
   ]
  },
  {
   "cell_type": "markdown",
   "id": "77ca41f9-bfff-400f-8f82-93380214df1f",
   "metadata": {
    "id": "77ca41f9-bfff-400f-8f82-93380214df1f"
   },
   "source": [
    "아래와 같은 모형에서 시뮬레이션 된 자료가 있다고 하자. "
   ]
  },
  {
   "cell_type": "markdown",
   "id": "449a698b-96da-4525-9900-d6a346ea2e9a",
   "metadata": {
    "id": "449a698b-96da-4525-9900-d6a346ea2e9a"
   },
   "source": [
    "$$y_i= \\beta_0 + \\beta_1 \\exp(-x_i)+ \\epsilon_i$$"
   ]
  },
  {
   "cell_type": "markdown",
   "id": "372f6ba2-f624-4866-bb69-6ebad340c2a4",
   "metadata": {
    "id": "372f6ba2-f624-4866-bb69-6ebad340c2a4"
   },
   "source": [
    "여기에서 $\\epsilon_i \\overset{iid}\\sim N(0,0.1^2)$ 이다. 시뮬레이션된 자료는 아래의 코드를 통하여 얻을 수 있다."
   ]
  },
  {
   "cell_type": "code",
   "execution_count": null,
   "id": "af6d6bfb-94ed-4c70-ad1b-7a539baf9de4",
   "metadata": {
    "id": "af6d6bfb-94ed-4c70-ad1b-7a539baf9de4",
    "outputId": "c23b34bb-e4c7-4de5-c127-5f9c00d0ee4a"
   },
   "outputs": [
    {
     "data": {
      "text/html": [
       "<div>\n",
       "<style scoped>\n",
       "    .dataframe tbody tr th:only-of-type {\n",
       "        vertical-align: middle;\n",
       "    }\n",
       "\n",
       "    .dataframe tbody tr th {\n",
       "        vertical-align: top;\n",
       "    }\n",
       "\n",
       "    .dataframe thead th {\n",
       "        text-align: right;\n",
       "    }\n",
       "</style>\n",
       "<table border=\"1\" class=\"dataframe\">\n",
       "  <thead>\n",
       "    <tr style=\"text-align: right;\">\n",
       "      <th></th>\n",
       "      <th>x</th>\n",
       "      <th>y</th>\n",
       "    </tr>\n",
       "  </thead>\n",
       "  <tbody>\n",
       "    <tr>\n",
       "      <th>0</th>\n",
       "      <td>0.0</td>\n",
       "      <td>4.962202</td>\n",
       "    </tr>\n",
       "    <tr>\n",
       "      <th>1</th>\n",
       "      <td>0.1</td>\n",
       "      <td>4.889815</td>\n",
       "    </tr>\n",
       "    <tr>\n",
       "      <th>2</th>\n",
       "      <td>0.2</td>\n",
       "      <td>4.605782</td>\n",
       "    </tr>\n",
       "    <tr>\n",
       "      <th>3</th>\n",
       "      <td>0.3</td>\n",
       "      <td>4.491711</td>\n",
       "    </tr>\n",
       "    <tr>\n",
       "      <th>4</th>\n",
       "      <td>0.4</td>\n",
       "      <td>4.344537</td>\n",
       "    </tr>\n",
       "  </tbody>\n",
       "</table>\n",
       "</div>"
      ],
      "text/plain": [
       "     x         y\n",
       "0  0.0  4.962202\n",
       "1  0.1  4.889815\n",
       "2  0.2  4.605782\n",
       "3  0.3  4.491711\n",
       "4  0.4  4.344537"
      ]
     },
     "execution_count": 63,
     "metadata": {},
     "output_type": "execute_result"
    }
   ],
   "source": [
    "import pandas as pd \n",
    "df=pd.read_csv('https://raw.githubusercontent.com/guebin/2021BDA/master/_notebooks/2021-11-06-prob3.csv')\n",
    "df.head()"
   ]
  },
  {
   "cell_type": "markdown",
   "id": "7ae34b8b-6a21-4af3-844c-374a83eefbe8",
   "metadata": {
    "id": "7ae34b8b-6a21-4af3-844c-374a83eefbe8"
   },
   "source": [
    "자료를 시각화 하면 아래와 같다. "
   ]
  },
  {
   "cell_type": "code",
   "execution_count": null,
   "id": "4414f4d8-dc33-4e23-aaae-11352f30296d",
   "metadata": {
    "id": "4414f4d8-dc33-4e23-aaae-11352f30296d",
    "outputId": "45ab7e3f-cc89-4fcd-ec5c-c20abecbca5c"
   },
   "outputs": [
    {
     "data": {
      "text/plain": [
       "[<matplotlib.lines.Line2D at 0x7fc16f7dcd60>]"
      ]
     },
     "execution_count": 62,
     "metadata": {},
     "output_type": "execute_result"
    },
    {
     "data": {
      "image/png": "[encoded data removed]",
      "text/plain": [
       "<Figure size 432x288 with 1 Axes>"
      ]
     },
     "metadata": {
      "needs_background": "light"
     },
     "output_type": "display_data"
    }
   ],
   "source": [
    "plt.plot(df.x,df.y,'.')"
   ]
  },
  {
   "cell_type": "markdown",
   "id": "acdc7883-f136-4d41-91fa-d7d751aaeb34",
   "metadata": {
    "id": "acdc7883-f136-4d41-91fa-d7d751aaeb34"
   },
   "source": [
    "파이토치를 이용하여 적절한 $\\beta_0, \\beta_1$의 값을 구하여라. (손실함수는 MSEloss를 사용한다.) "
   ]
  },
  {
   "cell_type": "markdown",
   "id": "9419b5c9-92c2-4c9a-9248-8567c3d9ad83",
   "metadata": {
    "id": "9419b5c9-92c2-4c9a-9248-8567c3d9ad83"
   },
   "source": [
    "### `4`. 다음을 잘 읽고 물음에 O/X로 답하라. (25점)"
   ]
  },
  {
   "cell_type": "markdown",
   "id": "5882816b-2bfa-476c-a5bb-99fbf4db0691",
   "metadata": {
    "id": "5882816b-2bfa-476c-a5bb-99fbf4db0691"
   },
   "source": [
    "`-` 확률적 경사하강법은 손실함수의 모양과 상관없이 언제나 전역최소해를 찾을 수 있다. "
   ]
  }
 ],
 "metadata": {
  "colab": {
   "name": "2021-11-06-(A2) 중간고사 대비문제.ipynb",
   "provenance": []
  },
  "kernelspec": {
   "display_name": "Python 3",
   "language": "python",
   "name": "python3"
  },
  "language_info": {
   "codemirror_mode": {
    "name": "ipython",
    "version": 3
   },
   "file_extension": ".py",
   "mimetype": "text/x-python",
   "name": "python",
   "nbconvert_exporter": "python",
   "pygments_lexer": "ipython3",
   "version": "3.8.12"
  }
 },
 "nbformat": 4,
 "nbformat_minor": 5
}
