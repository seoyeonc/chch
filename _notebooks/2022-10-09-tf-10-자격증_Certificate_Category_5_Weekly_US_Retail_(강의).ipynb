{
 "cells": [
  {
   "cell_type": "markdown",
   "id": "9e41ff2b-a10d-4b70-a93c-ab46cab31704",
   "metadata": {
    "tags": []
   },
   "source": [
    "# TensorFlow Category 5\n",
    "> Sequence (시계열) 데이터 다루기\n",
    "\n",
    "- toc:true\n",
    "- branch: master\n",
    "- badges: true\n",
    "- comments: false\n",
    "- author: 최서연\n",
    "- categories: [TensorFlow]"
   ]
  },
  {
   "cell_type": "markdown",
   "id": "6dfad319",
   "metadata": {
    "id": "6dfad319"
   },
   "source": [
    "## 확인"
   ]
  },
  {
   "cell_type": "markdown",
   "id": "33158dd8",
   "metadata": {
    "id": "33158dd8"
   },
   "source": [
    "1. GPU 옵션 켜져 있는지 확인할 것!!! (수정 - 노트설정 - 하드웨어설정 (GPU))"
   ]
  },
  {
   "cell_type": "markdown",
   "id": "b0989fb2",
   "metadata": {
    "id": "b0989fb2"
   },
   "source": [
    "## 순서"
   ]
  },
  {
   "cell_type": "markdown",
   "id": "a133fcd4",
   "metadata": {
    "id": "a133fcd4"
   },
   "source": [
    "1. **import**: 필요한 모듈 import\n",
    "2. **전처리**: 학습에 필요한 데이터 전처리를 수행합니다.\n",
    "3. **모델링(model)**: 모델을 정의합니다.\n",
    "4. **컴파일(compile)**: 모델을 생성합니다.\n",
    "5. **학습 (fit)**: 모델을 학습시킵니다."
   ]
  },
  {
   "cell_type": "markdown",
   "id": "41716c06",
   "metadata": {
    "id": "41716c06"
   },
   "source": [
    "## 문제"
   ]
  },
  {
   "cell_type": "markdown",
   "id": "2a909b6c",
   "metadata": {
    "id": "2a909b6c"
   },
   "source": [
    "Build and train a neural network to predict the time indexed variable of the univariate US diesel prices (On - Highway) All types for the period of 1994 - 2021.\n",
    "\n",
    "Using a **window of past 10 observations of 1 feature** , train the model to predict the **next 10 observations** of that feature.\n",
    "\n",
    "---\n",
    "\n",
    "HINT: If you follow all the rules mentioned above and throughout this\n",
    "question while training your neural network, there is a possibility that a\n",
    "validation **MAE of approximately 0.02 or less on the normalized validation\n",
    "dataset** may fetch you top marks."
   ]
  },
  {
   "cell_type": "markdown",
   "id": "d3422951",
   "metadata": {
    "id": "d3422951"
   },
   "source": [
    "## 실습 예제 다운로드"
   ]
  },
  {
   "cell_type": "code",
   "execution_count": 2,
   "id": "4407fa14",
   "metadata": {
    "id": "4407fa14"
   },
   "outputs": [
    {
     "data": {
      "text/plain": [
       "('Weekly_U.S.Diesel_Retail_Prices.csv',\n",
       " <http.client.HTTPMessage at 0x7f94bbce4e20>)"
      ]
     },
     "execution_count": 2,
     "metadata": {},
     "output_type": "execute_result"
    }
   ],
   "source": [
    "import urllib\n",
    "import pandas as pd\n",
    "import tensorflow as tf\n",
    "from tensorflow.keras.layers import Dense, Conv1D, LSTM, Bidirectional\n",
    "from tensorflow.keras.models import Sequential\n",
    "from tensorflow.keras.callbacks import ModelCheckpoint\n",
    "\n",
    "# 아래 2줄 코드는 넣지 말아 주세요!!!\n",
    "url = 'https://www.dropbox.com/s/eduk281didil1km/Weekly_U.S.Diesel_Retail_Prices.csv?dl=1'\n",
    "urllib.request.urlretrieve(url, 'Weekly_U.S.Diesel_Retail_Prices.csv')"
   ]
  },
  {
   "cell_type": "markdown",
   "id": "67ea2ea7",
   "metadata": {
    "id": "67ea2ea7"
   },
   "source": [
    "### Normalization"
   ]
  },
  {
   "cell_type": "code",
   "execution_count": 3,
   "id": "edf69d68",
   "metadata": {
    "id": "edf69d68"
   },
   "outputs": [],
   "source": [
    "# This function normalizes the dataset using min max scaling.\n",
    "# DO NOT CHANGE THIS CODE\n",
    "def normalize_series(data, min, max):\n",
    "    data = data - min\n",
    "    data = data / max\n",
    "    return data"
   ]
  },
  {
   "cell_type": "markdown",
   "id": "80820e55",
   "metadata": {
    "id": "80820e55"
   },
   "source": [
    "### Windowed Dataset 생성"
   ]
  },
  {
   "cell_type": "code",
   "execution_count": 4,
   "id": "4f85f8f2",
   "metadata": {
    "id": "4f85f8f2"
   },
   "outputs": [],
   "source": [
    "# DO NOT CHANGE THIS.\n",
    "def windowed_dataset(series, batch_size, n_past=10, n_future=10, shift=1):\n",
    "    ds = tf.data.Dataset.from_tensor_slices(series)\n",
    "    ds = ds.window(size=n_past + n_future, shift=shift, drop_remainder=True)\n",
    "    ds = ds.flat_map(lambda w: w.batch(n_past + n_future))\n",
    "    ds = ds.map(lambda w: (w[:n_past], w[n_past:]))\n",
    "    return ds.batch(batch_size).prefetch(1)"
   ]
  },
  {
   "cell_type": "markdown",
   "id": "5294aaa0",
   "metadata": {
    "id": "5294aaa0"
   },
   "source": [
    "### Dataset 로드"
   ]
  },
  {
   "cell_type": "code",
   "execution_count": 6,
   "id": "cb8adcad",
   "metadata": {
    "id": "cb8adcad"
   },
   "outputs": [
    {
     "data": {
      "text/html": [
       "<div>\n",
       "<style scoped>\n",
       "    .dataframe tbody tr th:only-of-type {\n",
       "        vertical-align: middle;\n",
       "    }\n",
       "\n",
       "    .dataframe tbody tr th {\n",
       "        vertical-align: top;\n",
       "    }\n",
       "\n",
       "    .dataframe thead th {\n",
       "        text-align: right;\n",
       "    }\n",
       "</style>\n",
       "<table border=\"1\" class=\"dataframe\">\n",
       "  <thead>\n",
       "    <tr style=\"text-align: right;\">\n",
       "      <th></th>\n",
       "      <th>Weekly U.S. No 2 Diesel Retail Prices Dollars per Gallon</th>\n",
       "    </tr>\n",
       "    <tr>\n",
       "      <th>Week of</th>\n",
       "      <th></th>\n",
       "    </tr>\n",
       "  </thead>\n",
       "  <tbody>\n",
       "    <tr>\n",
       "      <th>1994-03-21</th>\n",
       "      <td>1.106</td>\n",
       "    </tr>\n",
       "    <tr>\n",
       "      <th>1994-03-28</th>\n",
       "      <td>1.107</td>\n",
       "    </tr>\n",
       "    <tr>\n",
       "      <th>1994-04-04</th>\n",
       "      <td>1.109</td>\n",
       "    </tr>\n",
       "    <tr>\n",
       "      <th>1994-04-11</th>\n",
       "      <td>1.108</td>\n",
       "    </tr>\n",
       "    <tr>\n",
       "      <th>1994-04-18</th>\n",
       "      <td>1.105</td>\n",
       "    </tr>\n",
       "    <tr>\n",
       "      <th>1994-04-25</th>\n",
       "      <td>1.106</td>\n",
       "    </tr>\n",
       "    <tr>\n",
       "      <th>1994-05-02</th>\n",
       "      <td>1.104</td>\n",
       "    </tr>\n",
       "    <tr>\n",
       "      <th>1994-05-09</th>\n",
       "      <td>1.101</td>\n",
       "    </tr>\n",
       "    <tr>\n",
       "      <th>1994-05-16</th>\n",
       "      <td>1.099</td>\n",
       "    </tr>\n",
       "    <tr>\n",
       "      <th>1994-05-23</th>\n",
       "      <td>1.099</td>\n",
       "    </tr>\n",
       "    <tr>\n",
       "      <th>1994-05-30</th>\n",
       "      <td>1.098</td>\n",
       "    </tr>\n",
       "    <tr>\n",
       "      <th>1994-06-06</th>\n",
       "      <td>1.101</td>\n",
       "    </tr>\n",
       "    <tr>\n",
       "      <th>1994-06-13</th>\n",
       "      <td>1.098</td>\n",
       "    </tr>\n",
       "    <tr>\n",
       "      <th>1994-06-20</th>\n",
       "      <td>1.103</td>\n",
       "    </tr>\n",
       "    <tr>\n",
       "      <th>1994-06-27</th>\n",
       "      <td>1.108</td>\n",
       "    </tr>\n",
       "    <tr>\n",
       "      <th>1994-07-04</th>\n",
       "      <td>1.109</td>\n",
       "    </tr>\n",
       "    <tr>\n",
       "      <th>1994-07-11</th>\n",
       "      <td>1.110</td>\n",
       "    </tr>\n",
       "    <tr>\n",
       "      <th>1994-07-18</th>\n",
       "      <td>1.111</td>\n",
       "    </tr>\n",
       "    <tr>\n",
       "      <th>1994-07-25</th>\n",
       "      <td>1.111</td>\n",
       "    </tr>\n",
       "    <tr>\n",
       "      <th>1994-08-01</th>\n",
       "      <td>1.116</td>\n",
       "    </tr>\n",
       "  </tbody>\n",
       "</table>\n",
       "</div>"
      ],
      "text/plain": [
       "            Weekly U.S. No 2 Diesel Retail Prices Dollars per Gallon\n",
       "Week of                                                             \n",
       "1994-03-21                                              1.106       \n",
       "1994-03-28                                              1.107       \n",
       "1994-04-04                                              1.109       \n",
       "1994-04-11                                              1.108       \n",
       "1994-04-18                                              1.105       \n",
       "1994-04-25                                              1.106       \n",
       "1994-05-02                                              1.104       \n",
       "1994-05-09                                              1.101       \n",
       "1994-05-16                                              1.099       \n",
       "1994-05-23                                              1.099       \n",
       "1994-05-30                                              1.098       \n",
       "1994-06-06                                              1.101       \n",
       "1994-06-13                                              1.098       \n",
       "1994-06-20                                              1.103       \n",
       "1994-06-27                                              1.108       \n",
       "1994-07-04                                              1.109       \n",
       "1994-07-11                                              1.110       \n",
       "1994-07-18                                              1.111       \n",
       "1994-07-25                                              1.111       \n",
       "1994-08-01                                              1.116       "
      ]
     },
     "execution_count": 6,
     "metadata": {},
     "output_type": "execute_result"
    }
   ],
   "source": [
    "df = pd.read_csv('Weekly_U.S.Diesel_Retail_Prices.csv', infer_datetime_format=True, index_col='Week of', header=0)\n",
    "df.head(20)"
   ]
  },
  {
   "cell_type": "code",
   "execution_count": 7,
   "id": "ec1f883e",
   "metadata": {
    "id": "ec1f883e"
   },
   "outputs": [
    {
     "data": {
      "text/plain": [
       "1"
      ]
     },
     "execution_count": 7,
     "metadata": {},
     "output_type": "execute_result"
    }
   ],
   "source": [
    "# 특성 정의\n",
    "N_FEATURES = len(df.columns)\n",
    "N_FEATURES"
   ]
  },
  {
   "cell_type": "markdown",
   "id": "66090bba",
   "metadata": {
    "id": "66090bba"
   },
   "source": [
    "### 정규화 및 데이터 분할"
   ]
  },
  {
   "cell_type": "code",
   "execution_count": 8,
   "id": "26502285",
   "metadata": {
    "id": "26502285"
   },
   "outputs": [],
   "source": [
    "# 정규화 코드\n",
    "data = df.values\n",
    "data = normalize_series(data, data.min(axis=0), data.max(axis=0))\n",
    "\n",
    "# 데이터 분할\n",
    "SPLIT_TIME = int(len(data) * 0.8) # DO NOT CHANGE THIS\n",
    "x_train = data[:SPLIT_TIME]\n",
    "x_valid = data[SPLIT_TIME:]"
   ]
  },
  {
   "cell_type": "code",
   "execution_count": 9,
   "id": "e75e029a",
   "metadata": {
    "id": "e75e029a"
   },
   "outputs": [],
   "source": [
    "BATCH_SIZE = 32  # 배치사이즈\n",
    "N_PAST = 10      # 과거 데이터 (X)\n",
    "N_FUTURE = 10    # 미래 데이터 (Y)\n",
    "SHIFT = 1        # SHIFT"
   ]
  },
  {
   "cell_type": "markdown",
   "id": "63e49b63",
   "metadata": {
    "id": "63e49b63"
   },
   "source": [
    "### train / validation set 구성"
   ]
  },
  {
   "cell_type": "code",
   "execution_count": 10,
   "id": "91292427",
   "metadata": {
    "id": "91292427"
   },
   "outputs": [],
   "source": [
    "train_set = windowed_dataset(series=x_train, batch_size=BATCH_SIZE,\n",
    "                             n_past=N_PAST, n_future=N_FUTURE,\n",
    "                             shift=SHIFT)\n",
    "\n",
    "valid_set = windowed_dataset(series=x_valid, batch_size=BATCH_SIZE,\n",
    "                             n_past=N_PAST, n_future=N_FUTURE,\n",
    "                             shift=SHIFT)"
   ]
  },
  {
   "cell_type": "markdown",
   "id": "a9bb69e7",
   "metadata": {
    "id": "a9bb69e7"
   },
   "source": [
    "### 모델 구성"
   ]
  },
  {
   "cell_type": "code",
   "execution_count": 11,
   "id": "b9a2ca86",
   "metadata": {
    "id": "b9a2ca86"
   },
   "outputs": [],
   "source": [
    "model = tf.keras.models.Sequential([\n",
    "    Conv1D(filters=32, kernel_size=5, padding='causal', activation='relu', input_shape=[N_PAST, 1]),\n",
    "    Bidirectional(LSTM(32, return_sequences=True)),\n",
    "    Bidirectional(LSTM(32, return_sequences=True)),\n",
    "    Dense(32, activation='relu'),\n",
    "    Dense(16, activation='relu'),\n",
    "    Dense(N_FEATURES)\n",
    "])"
   ]
  },
  {
   "cell_type": "markdown",
   "id": "c71b0cde",
   "metadata": {
    "id": "c71b0cde"
   },
   "source": [
    "### 체크포인트 생성"
   ]
  },
  {
   "cell_type": "code",
   "execution_count": 12,
   "id": "4e7c72b8",
   "metadata": {
    "id": "4e7c72b8"
   },
   "outputs": [],
   "source": [
    "checkpoint_path = 'model/my_checkpoint.ckpt'\n",
    "checkpoint = ModelCheckpoint(filepath=checkpoint_path,\n",
    "                             save_weights_only=True,\n",
    "                             save_best_only=True,\n",
    "                             monitor='val_mae',\n",
    "                             verbose=1)"
   ]
  },
  {
   "cell_type": "markdown",
   "id": "a5d88f17",
   "metadata": {
    "id": "a5d88f17"
   },
   "source": [
    "### 컴파일"
   ]
  },
  {
   "cell_type": "code",
   "execution_count": 13,
   "id": "a51acd99",
   "metadata": {
    "id": "a51acd99"
   },
   "outputs": [],
   "source": [
    "optimizer = tf.keras.optimizers.Adam(0.0001)\n",
    "model.compile(optimizer=optimizer, loss=tf.keras.losses.Huber(), metrics=['mae'])"
   ]
  },
  {
   "cell_type": "markdown",
   "id": "6ada3688",
   "metadata": {
    "id": "6ada3688"
   },
   "source": [
    "### 학습(train)"
   ]
  },
  {
   "cell_type": "code",
   "execution_count": 14,
   "id": "a9f3a59e",
   "metadata": {
    "id": "a9f3a59e"
   },
   "outputs": [
    {
     "name": "stdout",
     "output_type": "stream",
     "text": [
      "Epoch 1/100\n",
      "     35/Unknown - 5s 35ms/step - loss: 0.0554 - mae: 0.2580\n",
      "Epoch 1: val_mae improved from inf to 0.33711, saving model to model/my_checkpoint.ckpt\n",
      "35/35 [==============================] - 7s 82ms/step - loss: 0.0554 - mae: 0.2580 - val_loss: 0.0589 - val_mae: 0.3371\n",
      "Epoch 2/100\n",
      "35/35 [==============================] - ETA: 0s - loss: 0.0406 - mae: 0.2109\n",
      "Epoch 2: val_mae improved from 0.33711 to 0.26549, saving model to model/my_checkpoint.ckpt\n",
      "35/35 [==============================] - 1s 42ms/step - loss: 0.0406 - mae: 0.2109 - val_loss: 0.0371 - val_mae: 0.2655\n",
      "Epoch 3/100\n",
      "35/35 [==============================] - ETA: 0s - loss: 0.0235 - mae: 0.1597\n",
      "Epoch 3: val_mae improved from 0.26549 to 0.17092, saving model to model/my_checkpoint.ckpt\n",
      "35/35 [==============================] - 1s 42ms/step - loss: 0.0235 - mae: 0.1597 - val_loss: 0.0163 - val_mae: 0.1709\n",
      "Epoch 4/100\n",
      "35/35 [==============================] - ETA: 0s - loss: 0.0115 - mae: 0.1225\n",
      "Epoch 4: val_mae improved from 0.17092 to 0.07557, saving model to model/my_checkpoint.ckpt\n",
      "35/35 [==============================] - 1s 41ms/step - loss: 0.0115 - mae: 0.1225 - val_loss: 0.0042 - val_mae: 0.0756\n",
      "Epoch 5/100\n",
      "35/35 [==============================] - ETA: 0s - loss: 0.0075 - mae: 0.1067\n",
      "Epoch 5: val_mae improved from 0.07557 to 0.04704, saving model to model/my_checkpoint.ckpt\n",
      "35/35 [==============================] - 1s 42ms/step - loss: 0.0075 - mae: 0.1067 - val_loss: 0.0018 - val_mae: 0.0470\n",
      "Epoch 6/100\n",
      "35/35 [==============================] - ETA: 0s - loss: 0.0068 - mae: 0.1009\n",
      "Epoch 6: val_mae improved from 0.04704 to 0.04703, saving model to model/my_checkpoint.ckpt\n",
      "35/35 [==============================] - 1s 42ms/step - loss: 0.0068 - mae: 0.1009 - val_loss: 0.0017 - val_mae: 0.0470\n",
      "Epoch 7/100\n",
      "35/35 [==============================] - ETA: 0s - loss: 0.0054 - mae: 0.0895\n",
      "Epoch 7: val_mae improved from 0.04703 to 0.04511, saving model to model/my_checkpoint.ckpt\n",
      "35/35 [==============================] - 1s 42ms/step - loss: 0.0054 - mae: 0.0895 - val_loss: 0.0016 - val_mae: 0.0451\n",
      "Epoch 8/100\n",
      "35/35 [==============================] - ETA: 0s - loss: 0.0043 - mae: 0.0785\n",
      "Epoch 8: val_mae improved from 0.04511 to 0.04366, saving model to model/my_checkpoint.ckpt\n",
      "35/35 [==============================] - 1s 42ms/step - loss: 0.0043 - mae: 0.0785 - val_loss: 0.0015 - val_mae: 0.0437\n",
      "Epoch 9/100\n",
      "35/35 [==============================] - ETA: 0s - loss: 0.0034 - mae: 0.0691\n",
      "Epoch 9: val_mae improved from 0.04366 to 0.04260, saving model to model/my_checkpoint.ckpt\n",
      "35/35 [==============================] - 1s 42ms/step - loss: 0.0034 - mae: 0.0691 - val_loss: 0.0015 - val_mae: 0.0426\n",
      "Epoch 10/100\n",
      "35/35 [==============================] - ETA: 0s - loss: 0.0028 - mae: 0.0607\n",
      "Epoch 10: val_mae improved from 0.04260 to 0.04181, saving model to model/my_checkpoint.ckpt\n",
      "35/35 [==============================] - 1s 42ms/step - loss: 0.0028 - mae: 0.0607 - val_loss: 0.0014 - val_mae: 0.0418\n",
      "Epoch 11/100\n",
      "35/35 [==============================] - ETA: 0s - loss: 0.0024 - mae: 0.0532\n",
      "Epoch 11: val_mae improved from 0.04181 to 0.04110, saving model to model/my_checkpoint.ckpt\n",
      "35/35 [==============================] - 1s 42ms/step - loss: 0.0024 - mae: 0.0532 - val_loss: 0.0014 - val_mae: 0.0411\n",
      "Epoch 12/100\n",
      "35/35 [==============================] - ETA: 0s - loss: 0.0021 - mae: 0.0473\n",
      "Epoch 12: val_mae improved from 0.04110 to 0.04001, saving model to model/my_checkpoint.ckpt\n",
      "35/35 [==============================] - 1s 41ms/step - loss: 0.0021 - mae: 0.0473 - val_loss: 0.0013 - val_mae: 0.0400\n",
      "Epoch 13/100\n",
      "35/35 [==============================] - ETA: 0s - loss: 0.0019 - mae: 0.0434\n",
      "Epoch 13: val_mae improved from 0.04001 to 0.03867, saving model to model/my_checkpoint.ckpt\n",
      "35/35 [==============================] - 1s 41ms/step - loss: 0.0019 - mae: 0.0434 - val_loss: 0.0012 - val_mae: 0.0387\n",
      "Epoch 14/100\n",
      "35/35 [==============================] - ETA: 0s - loss: 0.0018 - mae: 0.0408\n",
      "Epoch 14: val_mae improved from 0.03867 to 0.03722, saving model to model/my_checkpoint.ckpt\n",
      "35/35 [==============================] - 1s 42ms/step - loss: 0.0018 - mae: 0.0408 - val_loss: 0.0011 - val_mae: 0.0372\n",
      "Epoch 15/100\n",
      "35/35 [==============================] - ETA: 0s - loss: 0.0017 - mae: 0.0390\n",
      "Epoch 15: val_mae improved from 0.03722 to 0.03592, saving model to model/my_checkpoint.ckpt\n",
      "35/35 [==============================] - 1s 41ms/step - loss: 0.0017 - mae: 0.0390 - val_loss: 0.0011 - val_mae: 0.0359\n",
      "Epoch 16/100\n",
      "35/35 [==============================] - ETA: 0s - loss: 0.0017 - mae: 0.0378\n",
      "Epoch 16: val_mae improved from 0.03592 to 0.03479, saving model to model/my_checkpoint.ckpt\n",
      "35/35 [==============================] - 1s 43ms/step - loss: 0.0017 - mae: 0.0378 - val_loss: 0.0010 - val_mae: 0.0348\n",
      "Epoch 17/100\n",
      "35/35 [==============================] - ETA: 0s - loss: 0.0016 - mae: 0.0369\n",
      "Epoch 17: val_mae improved from 0.03479 to 0.03379, saving model to model/my_checkpoint.ckpt\n",
      "35/35 [==============================] - 1s 42ms/step - loss: 0.0016 - mae: 0.0369 - val_loss: 9.6386e-04 - val_mae: 0.0338\n",
      "Epoch 18/100\n",
      "35/35 [==============================] - ETA: 0s - loss: 0.0016 - mae: 0.0361\n",
      "Epoch 18: val_mae improved from 0.03379 to 0.03285, saving model to model/my_checkpoint.ckpt\n",
      "35/35 [==============================] - 1s 42ms/step - loss: 0.0016 - mae: 0.0361 - val_loss: 9.1955e-04 - val_mae: 0.0328\n",
      "Epoch 19/100\n",
      "35/35 [==============================] - ETA: 0s - loss: 0.0015 - mae: 0.0354\n",
      "Epoch 19: val_mae improved from 0.03285 to 0.03199, saving model to model/my_checkpoint.ckpt\n",
      "35/35 [==============================] - 1s 41ms/step - loss: 0.0015 - mae: 0.0354 - val_loss: 8.8076e-04 - val_mae: 0.0320\n",
      "Epoch 20/100\n",
      "35/35 [==============================] - ETA: 0s - loss: 0.0015 - mae: 0.0348\n",
      "Epoch 20: val_mae improved from 0.03199 to 0.03120, saving model to model/my_checkpoint.ckpt\n",
      "35/35 [==============================] - 1s 42ms/step - loss: 0.0015 - mae: 0.0348 - val_loss: 8.4650e-04 - val_mae: 0.0312\n",
      "Epoch 21/100\n",
      "35/35 [==============================] - ETA: 0s - loss: 0.0015 - mae: 0.0342\n",
      "Epoch 21: val_mae improved from 0.03120 to 0.03049, saving model to model/my_checkpoint.ckpt\n",
      "35/35 [==============================] - 1s 42ms/step - loss: 0.0015 - mae: 0.0342 - val_loss: 8.1676e-04 - val_mae: 0.0305\n",
      "Epoch 22/100\n",
      "35/35 [==============================] - ETA: 0s - loss: 0.0014 - mae: 0.0338\n",
      "Epoch 22: val_mae improved from 0.03049 to 0.02987, saving model to model/my_checkpoint.ckpt\n",
      "35/35 [==============================] - 1s 42ms/step - loss: 0.0014 - mae: 0.0338 - val_loss: 7.9112e-04 - val_mae: 0.0299\n",
      "Epoch 23/100\n",
      "35/35 [==============================] - ETA: 0s - loss: 0.0014 - mae: 0.0333\n",
      "Epoch 23: val_mae improved from 0.02987 to 0.02934, saving model to model/my_checkpoint.ckpt\n",
      "35/35 [==============================] - 1s 42ms/step - loss: 0.0014 - mae: 0.0333 - val_loss: 7.6902e-04 - val_mae: 0.0293\n",
      "Epoch 24/100\n",
      "35/35 [==============================] - ETA: 0s - loss: 0.0014 - mae: 0.0330\n",
      "Epoch 24: val_mae improved from 0.02934 to 0.02887, saving model to model/my_checkpoint.ckpt\n",
      "35/35 [==============================] - 1s 42ms/step - loss: 0.0014 - mae: 0.0330 - val_loss: 7.5015e-04 - val_mae: 0.0289\n",
      "Epoch 25/100\n",
      "35/35 [==============================] - ETA: 0s - loss: 0.0014 - mae: 0.0326\n",
      "Epoch 25: val_mae improved from 0.02887 to 0.02846, saving model to model/my_checkpoint.ckpt\n",
      "35/35 [==============================] - 1s 41ms/step - loss: 0.0014 - mae: 0.0326 - val_loss: 7.3407e-04 - val_mae: 0.0285\n",
      "Epoch 26/100\n",
      "35/35 [==============================] - ETA: 0s - loss: 0.0014 - mae: 0.0324\n",
      "Epoch 26: val_mae improved from 0.02846 to 0.02811, saving model to model/my_checkpoint.ckpt\n",
      "35/35 [==============================] - 1s 42ms/step - loss: 0.0014 - mae: 0.0324 - val_loss: 7.2033e-04 - val_mae: 0.0281\n",
      "Epoch 27/100\n",
      "35/35 [==============================] - ETA: 0s - loss: 0.0014 - mae: 0.0321\n",
      "Epoch 27: val_mae improved from 0.02811 to 0.02782, saving model to model/my_checkpoint.ckpt\n",
      "35/35 [==============================] - 1s 41ms/step - loss: 0.0014 - mae: 0.0321 - val_loss: 7.0900e-04 - val_mae: 0.0278\n",
      "Epoch 28/100\n",
      "35/35 [==============================] - ETA: 0s - loss: 0.0013 - mae: 0.0319\n",
      "Epoch 28: val_mae improved from 0.02782 to 0.02759, saving model to model/my_checkpoint.ckpt\n",
      "35/35 [==============================] - 1s 42ms/step - loss: 0.0013 - mae: 0.0319 - val_loss: 6.9988e-04 - val_mae: 0.0276\n",
      "Epoch 29/100\n",
      "35/35 [==============================] - ETA: 0s - loss: 0.0013 - mae: 0.0317\n",
      "Epoch 29: val_mae improved from 0.02759 to 0.02739, saving model to model/my_checkpoint.ckpt\n",
      "35/35 [==============================] - 1s 42ms/step - loss: 0.0013 - mae: 0.0317 - val_loss: 6.9191e-04 - val_mae: 0.0274\n",
      "Epoch 30/100\n",
      "35/35 [==============================] - ETA: 0s - loss: 0.0013 - mae: 0.0315\n",
      "Epoch 30: val_mae improved from 0.02739 to 0.02724, saving model to model/my_checkpoint.ckpt\n",
      "35/35 [==============================] - 1s 42ms/step - loss: 0.0013 - mae: 0.0315 - val_loss: 6.8589e-04 - val_mae: 0.0272\n",
      "Epoch 31/100\n",
      "35/35 [==============================] - ETA: 0s - loss: 0.0013 - mae: 0.0314\n",
      "Epoch 31: val_mae improved from 0.02724 to 0.02713, saving model to model/my_checkpoint.ckpt\n",
      "35/35 [==============================] - 1s 41ms/step - loss: 0.0013 - mae: 0.0314 - val_loss: 6.8094e-04 - val_mae: 0.0271\n",
      "Epoch 32/100\n",
      "35/35 [==============================] - ETA: 0s - loss: 0.0013 - mae: 0.0313\n",
      "Epoch 32: val_mae improved from 0.02713 to 0.02707, saving model to model/my_checkpoint.ckpt\n",
      "35/35 [==============================] - 1s 42ms/step - loss: 0.0013 - mae: 0.0313 - val_loss: 6.7761e-04 - val_mae: 0.0271\n",
      "Epoch 33/100\n",
      "35/35 [==============================] - ETA: 0s - loss: 0.0013 - mae: 0.0312\n",
      "Epoch 33: val_mae improved from 0.02707 to 0.02703, saving model to model/my_checkpoint.ckpt\n",
      "35/35 [==============================] - 1s 42ms/step - loss: 0.0013 - mae: 0.0312 - val_loss: 6.7521e-04 - val_mae: 0.0270\n",
      "Epoch 34/100\n",
      "35/35 [==============================] - ETA: 0s - loss: 0.0013 - mae: 0.0311\n",
      "Epoch 34: val_mae improved from 0.02703 to 0.02701, saving model to model/my_checkpoint.ckpt\n",
      "35/35 [==============================] - 1s 43ms/step - loss: 0.0013 - mae: 0.0311 - val_loss: 6.7355e-04 - val_mae: 0.0270\n",
      "Epoch 35/100\n",
      "35/35 [==============================] - ETA: 0s - loss: 0.0013 - mae: 0.0311\n",
      "Epoch 35: val_mae improved from 0.02701 to 0.02700, saving model to model/my_checkpoint.ckpt\n",
      "35/35 [==============================] - 1s 42ms/step - loss: 0.0013 - mae: 0.0311 - val_loss: 6.7222e-04 - val_mae: 0.0270\n",
      "Epoch 36/100\n",
      "35/35 [==============================] - ETA: 0s - loss: 0.0013 - mae: 0.0310\n",
      "Epoch 36: val_mae did not improve from 0.02700\n",
      "35/35 [==============================] - 1s 40ms/step - loss: 0.0013 - mae: 0.0310 - val_loss: 6.7174e-04 - val_mae: 0.0270\n",
      "Epoch 37/100\n",
      "35/35 [==============================] - ETA: 0s - loss: 0.0013 - mae: 0.0310\n",
      "Epoch 37: val_mae did not improve from 0.02700\n",
      "35/35 [==============================] - 1s 41ms/step - loss: 0.0013 - mae: 0.0310 - val_loss: 6.7151e-04 - val_mae: 0.0270\n",
      "Epoch 38/100\n",
      "35/35 [==============================] - ETA: 0s - loss: 0.0013 - mae: 0.0309\n",
      "Epoch 38: val_mae did not improve from 0.02700\n",
      "35/35 [==============================] - 1s 41ms/step - loss: 0.0013 - mae: 0.0309 - val_loss: 6.7128e-04 - val_mae: 0.0271\n",
      "Epoch 39/100\n",
      "35/35 [==============================] - ETA: 0s - loss: 0.0013 - mae: 0.0309\n",
      "Epoch 39: val_mae did not improve from 0.02700\n",
      "35/35 [==============================] - 1s 40ms/step - loss: 0.0013 - mae: 0.0309 - val_loss: 6.7115e-04 - val_mae: 0.0271\n",
      "Epoch 40/100\n",
      "35/35 [==============================] - ETA: 0s - loss: 0.0013 - mae: 0.0308\n",
      "Epoch 40: val_mae did not improve from 0.02700\n",
      "35/35 [==============================] - 1s 40ms/step - loss: 0.0013 - mae: 0.0308 - val_loss: 6.6848e-04 - val_mae: 0.0270\n",
      "Epoch 41/100\n",
      "35/35 [==============================] - ETA: 0s - loss: 0.0013 - mae: 0.0308\n",
      "Epoch 41: val_mae did not improve from 0.02700\n",
      "35/35 [==============================] - 1s 41ms/step - loss: 0.0013 - mae: 0.0308 - val_loss: 6.7023e-04 - val_mae: 0.0271\n",
      "Epoch 42/100\n",
      "35/35 [==============================] - ETA: 0s - loss: 0.0013 - mae: 0.0307\n",
      "Epoch 42: val_mae did not improve from 0.02700\n",
      "35/35 [==============================] - 1s 42ms/step - loss: 0.0013 - mae: 0.0307 - val_loss: 6.6569e-04 - val_mae: 0.0270\n",
      "Epoch 43/100\n",
      "35/35 [==============================] - ETA: 0s - loss: 0.0013 - mae: 0.0306\n",
      "Epoch 43: val_mae did not improve from 0.02700\n",
      "35/35 [==============================] - 1s 41ms/step - loss: 0.0013 - mae: 0.0306 - val_loss: 6.6646e-04 - val_mae: 0.0271\n",
      "Epoch 44/100\n",
      "35/35 [==============================] - ETA: 0s - loss: 0.0013 - mae: 0.0306\n",
      "Epoch 44: val_mae did not improve from 0.02700\n",
      "35/35 [==============================] - 1s 41ms/step - loss: 0.0013 - mae: 0.0306 - val_loss: 6.6682e-04 - val_mae: 0.0271\n",
      "Epoch 45/100\n",
      "35/35 [==============================] - ETA: 0s - loss: 0.0013 - mae: 0.0305\n",
      "Epoch 45: val_mae did not improve from 0.02700\n",
      "35/35 [==============================] - 1s 40ms/step - loss: 0.0013 - mae: 0.0305 - val_loss: 6.6615e-04 - val_mae: 0.0271\n",
      "Epoch 46/100\n",
      "35/35 [==============================] - ETA: 0s - loss: 0.0013 - mae: 0.0305\n",
      "Epoch 46: val_mae did not improve from 0.02700\n",
      "35/35 [==============================] - 1s 41ms/step - loss: 0.0013 - mae: 0.0305 - val_loss: 6.6626e-04 - val_mae: 0.0271\n",
      "Epoch 47/100\n",
      "35/35 [==============================] - ETA: 0s - loss: 0.0013 - mae: 0.0305\n",
      "Epoch 47: val_mae did not improve from 0.02700\n",
      "35/35 [==============================] - 1s 40ms/step - loss: 0.0013 - mae: 0.0305 - val_loss: 6.6624e-04 - val_mae: 0.0271\n",
      "Epoch 48/100\n",
      "35/35 [==============================] - ETA: 0s - loss: 0.0012 - mae: 0.0304\n",
      "Epoch 48: val_mae did not improve from 0.02700\n",
      "35/35 [==============================] - 1s 41ms/step - loss: 0.0012 - mae: 0.0304 - val_loss: 6.6624e-04 - val_mae: 0.0271\n",
      "Epoch 49/100\n",
      "35/35 [==============================] - ETA: 0s - loss: 0.0012 - mae: 0.0304\n",
      "Epoch 49: val_mae did not improve from 0.02700\n",
      "35/35 [==============================] - 1s 41ms/step - loss: 0.0012 - mae: 0.0304 - val_loss: 6.6611e-04 - val_mae: 0.0272\n",
      "Epoch 50/100\n",
      "35/35 [==============================] - ETA: 0s - loss: 0.0012 - mae: 0.0303\n",
      "Epoch 50: val_mae did not improve from 0.02700\n",
      "35/35 [==============================] - 1s 41ms/step - loss: 0.0012 - mae: 0.0303 - val_loss: 6.6570e-04 - val_mae: 0.0272\n",
      "Epoch 51/100\n",
      "35/35 [==============================] - ETA: 0s - loss: 0.0012 - mae: 0.0303\n",
      "Epoch 51: val_mae did not improve from 0.02700\n",
      "35/35 [==============================] - 1s 40ms/step - loss: 0.0012 - mae: 0.0303 - val_loss: 6.6532e-04 - val_mae: 0.0272\n",
      "Epoch 52/100\n",
      "35/35 [==============================] - ETA: 0s - loss: 0.0012 - mae: 0.0303\n",
      "Epoch 52: val_mae did not improve from 0.02700\n",
      "35/35 [==============================] - 1s 40ms/step - loss: 0.0012 - mae: 0.0303 - val_loss: 6.6482e-04 - val_mae: 0.0272\n",
      "Epoch 53/100\n",
      "35/35 [==============================] - ETA: 0s - loss: 0.0012 - mae: 0.0303\n",
      "Epoch 53: val_mae did not improve from 0.02700\n",
      "35/35 [==============================] - 1s 41ms/step - loss: 0.0012 - mae: 0.0303 - val_loss: 6.6467e-04 - val_mae: 0.0272\n",
      "Epoch 54/100\n",
      "35/35 [==============================] - ETA: 0s - loss: 0.0012 - mae: 0.0302\n",
      "Epoch 54: val_mae did not improve from 0.02700\n",
      "35/35 [==============================] - 1s 41ms/step - loss: 0.0012 - mae: 0.0302 - val_loss: 6.6419e-04 - val_mae: 0.0272\n",
      "Epoch 55/100\n",
      "35/35 [==============================] - ETA: 0s - loss: 0.0012 - mae: 0.0302\n",
      "Epoch 55: val_mae did not improve from 0.02700\n",
      "35/35 [==============================] - 1s 37ms/step - loss: 0.0012 - mae: 0.0302 - val_loss: 6.6378e-04 - val_mae: 0.0272\n",
      "Epoch 56/100\n",
      "35/35 [==============================] - ETA: 0s - loss: 0.0012 - mae: 0.0302\n",
      "Epoch 56: val_mae did not improve from 0.02700\n",
      "35/35 [==============================] - 1s 38ms/step - loss: 0.0012 - mae: 0.0302 - val_loss: 6.6381e-04 - val_mae: 0.0272\n",
      "Epoch 57/100\n",
      "35/35 [==============================] - ETA: 0s - loss: 0.0012 - mae: 0.0301\n",
      "Epoch 57: val_mae did not improve from 0.02700\n",
      "35/35 [==============================] - 1s 39ms/step - loss: 0.0012 - mae: 0.0301 - val_loss: 6.6329e-04 - val_mae: 0.0272\n",
      "Epoch 58/100\n",
      "35/35 [==============================] - ETA: 0s - loss: 0.0012 - mae: 0.0301\n",
      "Epoch 58: val_mae did not improve from 0.02700\n",
      "35/35 [==============================] - 1s 41ms/step - loss: 0.0012 - mae: 0.0301 - val_loss: 6.6305e-04 - val_mae: 0.0272\n",
      "Epoch 59/100\n",
      "35/35 [==============================] - ETA: 0s - loss: 0.0012 - mae: 0.0301\n",
      "Epoch 59: val_mae did not improve from 0.02700\n",
      "35/35 [==============================] - 1s 41ms/step - loss: 0.0012 - mae: 0.0301 - val_loss: 6.6292e-04 - val_mae: 0.0272\n",
      "Epoch 60/100\n",
      "35/35 [==============================] - ETA: 0s - loss: 0.0012 - mae: 0.0300\n",
      "Epoch 60: val_mae did not improve from 0.02700\n",
      "35/35 [==============================] - 1s 41ms/step - loss: 0.0012 - mae: 0.0300 - val_loss: 6.6236e-04 - val_mae: 0.0272\n",
      "Epoch 61/100\n",
      "35/35 [==============================] - ETA: 0s - loss: 0.0012 - mae: 0.0300\n",
      "Epoch 61: val_mae did not improve from 0.02700\n",
      "35/35 [==============================] - 1s 41ms/step - loss: 0.0012 - mae: 0.0300 - val_loss: 6.6228e-04 - val_mae: 0.0272\n",
      "Epoch 62/100\n",
      "35/35 [==============================] - ETA: 0s - loss: 0.0012 - mae: 0.0300\n",
      "Epoch 62: val_mae did not improve from 0.02700\n",
      "35/35 [==============================] - 1s 38ms/step - loss: 0.0012 - mae: 0.0300 - val_loss: 6.6202e-04 - val_mae: 0.0272\n",
      "Epoch 63/100\n",
      "35/35 [==============================] - ETA: 0s - loss: 0.0012 - mae: 0.0299\n",
      "Epoch 63: val_mae did not improve from 0.02700\n",
      "35/35 [==============================] - 1s 39ms/step - loss: 0.0012 - mae: 0.0299 - val_loss: 6.6144e-04 - val_mae: 0.0272\n",
      "Epoch 64/100\n",
      "35/35 [==============================] - ETA: 0s - loss: 0.0012 - mae: 0.0299\n",
      "Epoch 64: val_mae did not improve from 0.02700\n",
      "35/35 [==============================] - 1s 38ms/step - loss: 0.0012 - mae: 0.0299 - val_loss: 6.6122e-04 - val_mae: 0.0272\n",
      "Epoch 65/100\n",
      "35/35 [==============================] - ETA: 0s - loss: 0.0012 - mae: 0.0299\n",
      "Epoch 65: val_mae did not improve from 0.02700\n",
      "35/35 [==============================] - 1s 38ms/step - loss: 0.0012 - mae: 0.0299 - val_loss: 6.6065e-04 - val_mae: 0.0272\n",
      "Epoch 66/100\n",
      "35/35 [==============================] - ETA: 0s - loss: 0.0012 - mae: 0.0298\n",
      "Epoch 66: val_mae did not improve from 0.02700\n",
      "35/35 [==============================] - 1s 38ms/step - loss: 0.0012 - mae: 0.0298 - val_loss: 6.6015e-04 - val_mae: 0.0272\n",
      "Epoch 67/100\n",
      "35/35 [==============================] - ETA: 0s - loss: 0.0012 - mae: 0.0298\n",
      "Epoch 67: val_mae did not improve from 0.02700\n",
      "35/35 [==============================] - 1s 38ms/step - loss: 0.0012 - mae: 0.0298 - val_loss: 6.5964e-04 - val_mae: 0.0272\n",
      "Epoch 68/100\n",
      "35/35 [==============================] - ETA: 0s - loss: 0.0012 - mae: 0.0298\n",
      "Epoch 68: val_mae did not improve from 0.02700\n",
      "35/35 [==============================] - 1s 38ms/step - loss: 0.0012 - mae: 0.0298 - val_loss: 6.5903e-04 - val_mae: 0.0272\n",
      "Epoch 69/100\n",
      "35/35 [==============================] - ETA: 0s - loss: 0.0012 - mae: 0.0297\n",
      "Epoch 69: val_mae did not improve from 0.02700\n",
      "35/35 [==============================] - 1s 38ms/step - loss: 0.0012 - mae: 0.0297 - val_loss: 6.5845e-04 - val_mae: 0.0272\n",
      "Epoch 70/100\n",
      "35/35 [==============================] - ETA: 0s - loss: 0.0012 - mae: 0.0297\n",
      "Epoch 70: val_mae did not improve from 0.02700\n",
      "35/35 [==============================] - 1s 37ms/step - loss: 0.0012 - mae: 0.0297 - val_loss: 6.5796e-04 - val_mae: 0.0272\n",
      "Epoch 71/100\n",
      "35/35 [==============================] - ETA: 0s - loss: 0.0012 - mae: 0.0297\n",
      "Epoch 71: val_mae did not improve from 0.02700\n",
      "35/35 [==============================] - 1s 38ms/step - loss: 0.0012 - mae: 0.0297 - val_loss: 6.5714e-04 - val_mae: 0.0272\n",
      "Epoch 72/100\n",
      "35/35 [==============================] - ETA: 0s - loss: 0.0012 - mae: 0.0296\n",
      "Epoch 72: val_mae did not improve from 0.02700\n",
      "35/35 [==============================] - 1s 40ms/step - loss: 0.0012 - mae: 0.0296 - val_loss: 6.5672e-04 - val_mae: 0.0272\n",
      "Epoch 73/100\n",
      "35/35 [==============================] - ETA: 0s - loss: 0.0012 - mae: 0.0296\n",
      "Epoch 73: val_mae did not improve from 0.02700\n",
      "35/35 [==============================] - 1s 40ms/step - loss: 0.0012 - mae: 0.0296 - val_loss: 6.5613e-04 - val_mae: 0.0272\n",
      "Epoch 74/100\n",
      "35/35 [==============================] - ETA: 0s - loss: 0.0012 - mae: 0.0296\n",
      "Epoch 74: val_mae did not improve from 0.02700\n",
      "35/35 [==============================] - 1s 41ms/step - loss: 0.0012 - mae: 0.0296 - val_loss: 6.5529e-04 - val_mae: 0.0271\n",
      "Epoch 75/100\n",
      "35/35 [==============================] - ETA: 0s - loss: 0.0012 - mae: 0.0295\n",
      "Epoch 75: val_mae did not improve from 0.02700\n",
      "35/35 [==============================] - 1s 40ms/step - loss: 0.0012 - mae: 0.0295 - val_loss: 6.5524e-04 - val_mae: 0.0271\n",
      "Epoch 76/100\n",
      "35/35 [==============================] - ETA: 0s - loss: 0.0012 - mae: 0.0295\n",
      "Epoch 76: val_mae did not improve from 0.02700\n",
      "35/35 [==============================] - 1s 41ms/step - loss: 0.0012 - mae: 0.0295 - val_loss: 6.5412e-04 - val_mae: 0.0271\n",
      "Epoch 77/100\n",
      "35/35 [==============================] - ETA: 0s - loss: 0.0012 - mae: 0.0295\n",
      "Epoch 77: val_mae did not improve from 0.02700\n",
      "35/35 [==============================] - 1s 40ms/step - loss: 0.0012 - mae: 0.0295 - val_loss: 6.5392e-04 - val_mae: 0.0271\n",
      "Epoch 78/100\n",
      "35/35 [==============================] - ETA: 0s - loss: 0.0012 - mae: 0.0294\n",
      "Epoch 78: val_mae did not improve from 0.02700\n",
      "35/35 [==============================] - 1s 40ms/step - loss: 0.0012 - mae: 0.0294 - val_loss: 6.5324e-04 - val_mae: 0.0271\n",
      "Epoch 79/100\n",
      "35/35 [==============================] - ETA: 0s - loss: 0.0012 - mae: 0.0294\n",
      "Epoch 79: val_mae did not improve from 0.02700\n",
      "35/35 [==============================] - 1s 41ms/step - loss: 0.0012 - mae: 0.0294 - val_loss: 6.5295e-04 - val_mae: 0.0271\n",
      "Epoch 80/100\n",
      "35/35 [==============================] - ETA: 0s - loss: 0.0012 - mae: 0.0294\n",
      "Epoch 80: val_mae did not improve from 0.02700\n",
      "35/35 [==============================] - 1s 42ms/step - loss: 0.0012 - mae: 0.0294 - val_loss: 6.5225e-04 - val_mae: 0.0271\n",
      "Epoch 81/100\n",
      "35/35 [==============================] - ETA: 0s - loss: 0.0012 - mae: 0.0293\n",
      "Epoch 81: val_mae did not improve from 0.02700\n",
      "35/35 [==============================] - 1s 41ms/step - loss: 0.0012 - mae: 0.0293 - val_loss: 6.5180e-04 - val_mae: 0.0271\n",
      "Epoch 82/100\n",
      "35/35 [==============================] - ETA: 0s - loss: 0.0012 - mae: 0.0293\n",
      "Epoch 82: val_mae did not improve from 0.02700\n",
      "35/35 [==============================] - 1s 40ms/step - loss: 0.0012 - mae: 0.0293 - val_loss: 6.5109e-04 - val_mae: 0.0271\n",
      "Epoch 83/100\n",
      "35/35 [==============================] - ETA: 0s - loss: 0.0012 - mae: 0.0292\n",
      "Epoch 83: val_mae did not improve from 0.02700\n",
      "35/35 [==============================] - 1s 40ms/step - loss: 0.0012 - mae: 0.0292 - val_loss: 6.5087e-04 - val_mae: 0.0271\n",
      "Epoch 84/100\n",
      "35/35 [==============================] - ETA: 0s - loss: 0.0011 - mae: 0.0292\n",
      "Epoch 84: val_mae did not improve from 0.02700\n",
      "35/35 [==============================] - 1s 41ms/step - loss: 0.0011 - mae: 0.0292 - val_loss: 6.4992e-04 - val_mae: 0.0271\n",
      "Epoch 85/100\n",
      "35/35 [==============================] - ETA: 0s - loss: 0.0011 - mae: 0.0292\n",
      "Epoch 85: val_mae did not improve from 0.02700\n",
      "35/35 [==============================] - 1s 41ms/step - loss: 0.0011 - mae: 0.0292 - val_loss: 6.4934e-04 - val_mae: 0.0271\n",
      "Epoch 86/100\n",
      "35/35 [==============================] - ETA: 0s - loss: 0.0011 - mae: 0.0291\n",
      "Epoch 86: val_mae did not improve from 0.02700\n",
      "35/35 [==============================] - 1s 41ms/step - loss: 0.0011 - mae: 0.0291 - val_loss: 6.4868e-04 - val_mae: 0.0271\n",
      "Epoch 87/100\n",
      "35/35 [==============================] - ETA: 0s - loss: 0.0011 - mae: 0.0291\n",
      "Epoch 87: val_mae did not improve from 0.02700\n",
      "35/35 [==============================] - 1s 41ms/step - loss: 0.0011 - mae: 0.0291 - val_loss: 6.4798e-04 - val_mae: 0.0270\n",
      "Epoch 88/100\n",
      "35/35 [==============================] - ETA: 0s - loss: 0.0011 - mae: 0.0291\n",
      "Epoch 88: val_mae did not improve from 0.02700\n",
      "35/35 [==============================] - 1s 40ms/step - loss: 0.0011 - mae: 0.0291 - val_loss: 6.4715e-04 - val_mae: 0.0270\n",
      "Epoch 89/100\n",
      "35/35 [==============================] - ETA: 0s - loss: 0.0011 - mae: 0.0290\n",
      "Epoch 89: val_mae did not improve from 0.02700\n",
      "35/35 [==============================] - 1s 41ms/step - loss: 0.0011 - mae: 0.0290 - val_loss: 6.4644e-04 - val_mae: 0.0270\n",
      "Epoch 90/100\n",
      "35/35 [==============================] - ETA: 0s - loss: 0.0011 - mae: 0.0290\n",
      "Epoch 90: val_mae did not improve from 0.02700\n",
      "35/35 [==============================] - 1s 41ms/step - loss: 0.0011 - mae: 0.0290 - val_loss: 6.4568e-04 - val_mae: 0.0270\n",
      "Epoch 91/100\n",
      "35/35 [==============================] - ETA: 0s - loss: 0.0011 - mae: 0.0289\n",
      "Epoch 91: val_mae did not improve from 0.02700\n",
      "35/35 [==============================] - 1s 41ms/step - loss: 0.0011 - mae: 0.0289 - val_loss: 6.4551e-04 - val_mae: 0.0270\n",
      "Epoch 92/100\n",
      "35/35 [==============================] - ETA: 0s - loss: 0.0011 - mae: 0.0289\n",
      "Epoch 92: val_mae improved from 0.02700 to 0.02700, saving model to model/my_checkpoint.ckpt\n",
      "35/35 [==============================] - 1s 43ms/step - loss: 0.0011 - mae: 0.0289 - val_loss: 6.4469e-04 - val_mae: 0.0270\n",
      "Epoch 93/100\n",
      "35/35 [==============================] - ETA: 0s - loss: 0.0011 - mae: 0.0289\n",
      "Epoch 93: val_mae improved from 0.02700 to 0.02698, saving model to model/my_checkpoint.ckpt\n",
      "35/35 [==============================] - 1s 43ms/step - loss: 0.0011 - mae: 0.0289 - val_loss: 6.4389e-04 - val_mae: 0.0270\n",
      "Epoch 94/100\n",
      "35/35 [==============================] - ETA: 0s - loss: 0.0011 - mae: 0.0288\n",
      "Epoch 94: val_mae improved from 0.02698 to 0.02698, saving model to model/my_checkpoint.ckpt\n",
      "35/35 [==============================] - 1s 42ms/step - loss: 0.0011 - mae: 0.0288 - val_loss: 6.4329e-04 - val_mae: 0.0270\n",
      "Epoch 95/100\n",
      "35/35 [==============================] - ETA: 0s - loss: 0.0011 - mae: 0.0288\n",
      "Epoch 95: val_mae improved from 0.02698 to 0.02697, saving model to model/my_checkpoint.ckpt\n",
      "35/35 [==============================] - 1s 42ms/step - loss: 0.0011 - mae: 0.0288 - val_loss: 6.4272e-04 - val_mae: 0.0270\n",
      "Epoch 96/100\n",
      "35/35 [==============================] - ETA: 0s - loss: 0.0011 - mae: 0.0287\n",
      "Epoch 96: val_mae improved from 0.02697 to 0.02696, saving model to model/my_checkpoint.ckpt\n",
      "35/35 [==============================] - 1s 41ms/step - loss: 0.0011 - mae: 0.0287 - val_loss: 6.4210e-04 - val_mae: 0.0270\n",
      "Epoch 97/100\n",
      "35/35 [==============================] - ETA: 0s - loss: 0.0011 - mae: 0.0287\n",
      "Epoch 97: val_mae did not improve from 0.02696\n",
      "35/35 [==============================] - 1s 41ms/step - loss: 0.0011 - mae: 0.0287 - val_loss: 6.4188e-04 - val_mae: 0.0270\n",
      "Epoch 98/100\n",
      "35/35 [==============================] - ETA: 0s - loss: 0.0011 - mae: 0.0287\n",
      "Epoch 98: val_mae improved from 0.02696 to 0.02696, saving model to model/my_checkpoint.ckpt\n",
      "35/35 [==============================] - 1s 41ms/step - loss: 0.0011 - mae: 0.0287 - val_loss: 6.4145e-04 - val_mae: 0.0270\n",
      "Epoch 99/100\n",
      "35/35 [==============================] - ETA: 0s - loss: 0.0011 - mae: 0.0286\n",
      "Epoch 99: val_mae improved from 0.02696 to 0.02695, saving model to model/my_checkpoint.ckpt\n",
      "35/35 [==============================] - 1s 43ms/step - loss: 0.0011 - mae: 0.0286 - val_loss: 6.4074e-04 - val_mae: 0.0269\n",
      "Epoch 100/100\n",
      "35/35 [==============================] - ETA: 0s - loss: 0.0011 - mae: 0.0286\n",
      "Epoch 100: val_mae improved from 0.02695 to 0.02693, saving model to model/my_checkpoint.ckpt\n",
      "35/35 [==============================] - 1s 42ms/step - loss: 0.0011 - mae: 0.0286 - val_loss: 6.3978e-04 - val_mae: 0.0269\n"
     ]
    },
    {
     "data": {
      "text/plain": [
       "<keras.callbacks.History at 0x7f948473d060>"
      ]
     },
     "execution_count": 14,
     "metadata": {},
     "output_type": "execute_result"
    }
   ],
   "source": [
    "model.fit(train_set,\n",
    "          validation_data=(valid_set),\n",
    "          epochs=100,\n",
    "          callbacks=[checkpoint])"
   ]
  },
  {
   "cell_type": "markdown",
   "id": "f8f6196d",
   "metadata": {
    "id": "f8f6196d"
   },
   "source": [
    "### 가중치 로드"
   ]
  },
  {
   "cell_type": "code",
   "execution_count": 15,
   "id": "a4e2057a",
   "metadata": {
    "id": "a4e2057a"
   },
   "outputs": [
    {
     "data": {
      "text/plain": [
       "<tensorflow.python.checkpoint.checkpoint.CheckpointLoadStatus at 0x7f94642b0ac0>"
      ]
     },
     "execution_count": 15,
     "metadata": {},
     "output_type": "execute_result"
    }
   ],
   "source": [
    "model.load_weights(checkpoint_path)"
   ]
  },
  {
   "cell_type": "code",
   "execution_count": null,
   "id": "7c62d8a6-a192-4fb6-9e43-8a134c7a010e",
   "metadata": {},
   "outputs": [],
   "source": []
  }
 ],
 "metadata": {
  "accelerator": "GPU",
  "colab": {
   "collapsed_sections": [],
   "provenance": []
  },
  "kernelspec": {
   "display_name": "Python 3 (ipykernel)",
   "language": "python",
   "name": "python3"
  },
  "language_info": {
   "codemirror_mode": {
    "name": "ipython",
    "version": 3
   },
   "file_extension": ".py",
   "mimetype": "text/x-python",
   "name": "python",
   "nbconvert_exporter": "python",
   "pygments_lexer": "ipython3",
   "version": "3.10.0"
  }
 },
 "nbformat": 4,
 "nbformat_minor": 5
}
