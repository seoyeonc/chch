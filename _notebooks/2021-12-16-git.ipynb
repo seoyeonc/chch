{
 "cells": [
  {
   "cell_type": "markdown",
   "id": "bc283119-82d1-434e-ba6e-aac0f6a61cca",
   "metadata": {},
   "source": [
    "# Github\n",
    "> git auth, git fetch, git reset\n",
    "\n",
    "- toc:true\n",
    "- branch: master\n",
    "- badges: true\n",
    "- comments: false\n",
    "- author: 최서연\n",
    "- categories: [git auth, git fetch, git reset]"
   ]
  },
  {
   "cell_type": "markdown",
   "id": "9fab599c-23c6-4024-9ee4-cb754ce269ff",
   "metadata": {},
   "source": [
    "### git auth"
   ]
  },
  {
   "cell_type": "markdown",
   "id": "4cb21021-4fc9-4bc8-93b1-62bc23158bd7",
   "metadata": {},
   "source": [
    "- `gh auth login` 입력\n",
    "- What account do you want to log into? `GitHub.com 선택`  GitHub Enterprise Server\n",
    "- You're already logged into github.com. Do you want to re-authenticate? (y/N) `y 입력`\n",
    "- What is your preferred protocol for Git operations? `HTTPS 선택` SSH\n",
    "- How would you like to authenticate GitHub CLI? Login with a web browser `Paste an authentication token 선택`\n",
    "- tip 에 써져 있는대로 `https://github.com/settings/tokens` 접속\n",
    "    - \"Generate ne token\" click \n",
    "    - title에 blog name 입력\n",
    "    - 기간 무한으로 설정\n",
    "    - \"redo\", \"workflow\", \"read:org\" ckeck 혹은 모두 ckeck\n",
    "    - Generate token 클릭, `토큰 복사`\n",
    "- Tip: you can generate a Personal Access Token here https://github.com/settings/tokens\n",
    "    - The minimum required scopes are 'repo', 'read:org', 'workflow'. \n",
    "    - ? Paste your authentication token: `복사한 토큰 입력`\n",
    "-gh config set -h github.com git_protocol https ✓ Configured git protocol ✓ Logged in as \"blog name\" `메세지 확인`"
   ]
  },
  {
   "cell_type": "markdown",
   "id": "fd112fcf-b70b-4371-a244-c740b02e0684",
   "metadata": {},
   "source": [
    "- 위 과정 한 번 진행했으면 그 다음부터는\n",
    "- `git add .`\n",
    "- `git commit -m .`\n",
    "- `git push`\n",
    "- 입력 후 username에 내 github 아이디 입력하고\n",
    "- 비밀번호에 위의 토큰 입력. (기한을 무한으로 설정했기 때문에 가능)"
   ]
  },
  {
   "cell_type": "markdown",
   "id": "f36789fa-1f9d-43cc-a870-230e0cf33c9e",
   "metadata": {},
   "source": [
    "### git fetch"
   ]
  },
  {
   "cell_type": "markdown",
   "id": "5cea0989-0b9f-4c68-8b7d-fbd6a7ab3b2f",
   "metadata": {},
   "source": [
    "- git에 upload하는 법은\n",
    "    - jupyter lab에서 push\n",
    "    - github 상에서 직접 upload\n",
    "    - github desktop에서 colsole\n",
    "- 이렇게 있는데,\n",
    "- 두 환경에서 upload 하면 업데이트 버전이 달라 push에 error 가 날 수 있다.\n",
    "- error 창 보면 (fetch first) 문구를 볼 수 있음.\n",
    "- 이때\n",
    "- `git fetch`\n",
    "- `git pull`\n",
    "- `git add .`\n",
    "- `git commit -m .`\n",
    "- `git push`\n",
    "- 로 서로의 버전을 맞춰주게 과정을 진행해주면 됨"
   ]
  },
  {
   "cell_type": "markdown",
   "id": "3d74d60a-57d5-4124-a87c-dd18a5aee36d",
   "metadata": {},
   "source": [
    "### git reset"
   ]
  },
  {
   "cell_type": "markdown",
   "id": "11a1f1c7-ea9c-4d92-9fa7-98f26fd6b94d",
   "metadata": {},
   "source": [
    "- git code 창에서 (~) commit click.\n",
    "- commit 실패한 구간의 주소 복사\n",
    "- git에 `git reset --hard (복사한 주소)` 입력\n",
    "- `git add .`\n",
    "- `git commit -m .`\n",
    "- `git push`\n",
    "- 차례로 진행\n",
    "- 어떤 수정이 잘못되었는지 파일 살펴보기"
   ]
  },
  {
   "cell_type": "markdown",
   "id": "ef706f51-472c-4e80-9a5d-87759e518cc4",
   "metadata": {},
   "source": [
    "ref: http://git-scm.com/docs/git-reset"
   ]
  },
  {
   "cell_type": "markdown",
   "id": "01e08972-83f1-486f-aa74-afac0c634ea8",
   "metadata": {},
   "source": [
    "-` git reset --hard HEAD`\n",
    "   - what is the “–hard” option used for?\n",
    "   - The “–hard” option is used in order to reset the files of the index (or the staging area) and of the working directory."
   ]
  },
  {
   "cell_type": "code",
   "execution_count": null,
   "id": "8de55001-c8b6-4114-a88e-db579364ed02",
   "metadata": {},
   "outputs": [],
   "source": []
  },
  {
   "cell_type": "code",
   "execution_count": null,
   "id": "70de65cf-4f92-44dc-a463-a23c819a1c69",
   "metadata": {},
   "outputs": [],
   "source": []
  },
  {
   "cell_type": "code",
   "execution_count": null,
   "id": "e286351c-4aa1-40a6-a532-c451e246c35c",
   "metadata": {},
   "outputs": [],
   "source": []
  },
  {
   "cell_type": "code",
   "execution_count": null,
   "id": "e75dc467-894b-4d05-9e6c-e82a74a7de76",
   "metadata": {},
   "outputs": [],
   "source": []
  },
  {
   "cell_type": "code",
   "execution_count": null,
   "id": "c78aee80-14d8-4157-9bd6-794e38d2d0d3",
   "metadata": {},
   "outputs": [],
   "source": []
  },
  {
   "cell_type": "code",
   "execution_count": null,
   "id": "a0e6826c-08f4-4da8-937f-ee987e210847",
   "metadata": {},
   "outputs": [],
   "source": []
  }
 ],
 "metadata": {
  "kernelspec": {
   "display_name": "Python 3 (ipykernel)",
   "language": "python",
   "name": "python3"
  },
  "language_info": {
   "codemirror_mode": {
    "name": "ipython",
    "version": 3
   },
   "file_extension": ".py",
   "mimetype": "text/x-python",
   "name": "python",
   "nbconvert_exporter": "python",
   "pygments_lexer": "ipython3",
   "version": "3.8.12"
  }
 },
 "nbformat": 4,
 "nbformat_minor": 5
}
