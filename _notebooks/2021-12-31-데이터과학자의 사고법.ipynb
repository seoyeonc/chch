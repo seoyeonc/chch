{
 "cells": [
  {
   "cell_type": "markdown",
   "id": "82ddc421-386a-44ee-8f92-3141c7b83b49",
   "metadata": {
    "tags": []
   },
   "source": [
    "# 데이터 과학자의 사고법\n",
    "> 김용대\n",
    "\n",
    "- toc:true\n",
    "- branch: master\n",
    "- badges: true\n",
    "- comments: false\n",
    "- author: 최서연\n",
    "- categories: [데이터 과학자의 사고법]\n"
    "- image: images/ds.JPG"
   ]
  },
  {
   "cell_type": "markdown",
   "id": "408f705d-e107-4008-8f94-1abba611568a",
   "metadata": {},
   "source": [
    "### 1부 데이터 리터러시"
   ]
  },
  {
   "cell_type": "markdown",
   "id": "c550db16-0838-4792-bbe3-235d38116b5f",
   "metadata": {},
   "source": [
    "#### 1장 역사 속의 데이터"
   ]
  },
  {
   "cell_type": "markdown",
   "id": "ac2a6a8e-24e1-4537-8621-63b971add148",
   "metadata": {},
   "source": [
    "2008년 금융위기 3가지 원인\n",
    "- 저소득층 시장의 신용을 높게 평가한 점\n",
    "    - 거절자 추론(reject inference): 모집단을 대표하지 못하는 표본\n",
    "- 평가 기법을 잘 아는 금융회사\n",
    "    - 인위적 평가 조정 가능, 잘못된 지점(부도의 평가 등)에 집중\n",
    "- 금융 상품의 공정 평가가 어려운 신용평가 기관"
   ]
  },
  {
   "cell_type": "markdown",
   "id": "76f338a1-ded7-49c3-bf21-bf054968c275",
   "metadata": {},
   "source": [
    "#### 2장 불확실한 세상을 위한 언어"
   ]
  },
  {
   "cell_type": "markdown",
   "id": "ce67ebf2-a5a1-43b8-b443-90b4bee13abc",
   "metadata": {},
   "source": [
    "데이터 과학의 목적: 데이터로부터 불확실한 사건의 확률을 구하는 것\n",
    "- 확률은 불확실성을 표현하는 언어이자 나아가 데이터 과학의 언어!"
   ]
  },
  {
   "cell_type": "markdown",
   "id": "47a19a1f-2c29-4f74-adc4-fff35a64f0ea",
   "metadata": {},
   "source": [
    "몬티홀 문제: \n",
    "- Suppose you’re on a game show, and you’re given the choice of three doors. Behind one door is a car, behind the others, goats. You pick a door, say #1, and the host, who knows what’s behind the doors, opens another door, say #3, which has a goat. He says to you, \"Do you want to pick door #2?\" Is it to your advantage to switch your choice of doors?\n",
    "\n",
    "- 당신이 한 게임 쇼에 참여하여 세 문들 중 하나를 고를 기회를 가졌다고 생각해봐라. 한 문 뒤에는 자동차가 있으며, 다른 두 문 뒤에는 염소가 있다. 당신은 1번 문을 고르고, 문 뒤에 무엇이 있는지 아는 사회자는 염소가 있는 3번 문을 연다. 그는 당신에게 \"2번 문을 고르고 싶습니까?\"라고 묻는다. 당신의 선택을 바꾸는 것은 이득이 되는가?\n",
    "\n",
    "ref: https://namu.wiki/w/%EB%AA%AC%ED%8B%B0%20%ED%99%80%20%EB%AC%B8%EC%A0%9C"
   ]
  },
  {
   "cell_type": "markdown",
   "id": "bc3d7a98-ea50-47d6-a997-33682c126911",
   "metadata": {},
   "source": [
    "#### 3장 확률, 그 오묘함에 대하여"
   ]
  },
  {
   "cell_type": "markdown",
   "id": "9dc4dec2-084d-4c76-b751-4bab49dee560",
   "metadata": {},
   "source": [
    "A: 우리가 궁극적으로 알고자 하는 것\n",
    "\n",
    "B: 데이터로부터 얻는 정보\n",
    "\n",
    "P(A|B)와 A의 차이로 B가 미치는 영향을 조사\n",
    "\n",
    "조건부 확률은 정확히 계산이 맞아 떨어지진 않는 실제 상황~"
   ]
  },
  {
   "cell_type": "markdown",
   "id": "e2cc37b0-1c5c-4d23-8e3e-6e73fbdb10cd",
   "metadata": {},
   "source": [
    "#### 4장 종 모양의 데이터"
   ]
  },
  {
   "cell_type": "markdown",
   "id": "cc19d7c4-fad8-42bc-9095-c9c56372247c",
   "metadata": {},
   "source": [
    "데이터 = 정보 + 잡음\n",
    "\n",
    "D = I + N $\\to$ 정규분포\n",
    "\n",
    "잡음이 많은 데이터를 분석할 분석 방법의 필요성! 그것을 찾는 것이 과제!"
   ]
  },
  {
   "cell_type": "markdown",
   "id": "6ab0ef7e-3072-4456-be1b-62e1f4b4e9f8",
   "metadata": {},
   "source": [
    "#### 5장 요약 본능과 본능의 이해"
   ]
  },
  {
   "cell_type": "markdown",
   "id": "7bed348f-ff0d-4808-b71a-1bf63fe92640",
   "metadata": {},
   "source": [
    "평균과 변동 - 원인 파악을 통한 효과 제거 및 변동 감소 - 변동 파악의 중요성"
   ]
  },
  {
   "cell_type": "markdown",
   "id": "558bb9cd-1e01-4d38-b192-f66e6ab0e68d",
   "metadata": {},
   "source": [
    "#### 6장 합리적으로 판단하기"
   ]
  },
  {
   "cell_type": "markdown",
   "id": "775ba951-1032-4c6e-8d2c-3cbc4089752e",
   "metadata": {},
   "source": [
    "통계적 가설 검정의 오류를 줄이기 위한 합리적 판단의 중요성, 사회적 지식의 필요성."
   ]
  },
  {
   "cell_type": "markdown",
   "id": "229c1a70-c212-43e9-bfd6-cee59b62c0b9",
   "metadata": {},
   "source": [
    "#### 7장 관계의 이해"
   ]
  },
  {
   "cell_type": "markdown",
   "id": "1991419e-5b8e-4aea-9985-b7408000f658",
   "metadata": {},
   "source": [
    "상관관계는 인과관계로 이어지지 않는다.\n",
    "\n",
    "데이터 과학만으로 모든 인과관계를 밝혀내기는 쉽지 않다.\n",
    "\n",
    "\n",
    "전문적인 지식을 이용한 판단의 중요성!"
   ]
  },
  {
   "cell_type": "markdown",
   "id": "b5a97560-1cbf-4b7e-93ab-434ca9f91fba",
   "metadata": {},
   "source": [
    "#### 8장 2년차 징크스는 왜 생길까?"
   ]
  },
  {
   "cell_type": "markdown",
   "id": "0aa06a33-662b-4a50-bd5a-0a9ed99f0f91",
   "metadata": {},
   "source": [
    "평균으로의 회귀\n",
    "\n",
    "- 평균으로의 회귀(영어: regression toward the mean)는 예언된 변인에서 극단적인 값을 가져야 될 사람이 덜 극단적인 예언된 특성을 지니는 경향성을 말한다. 평균을 향한 회귀, 평균회귀, 회귀효과라고도 한다.\n",
    "\n",
    "- 일반적으로 두 변수간 상관이 아주 크지 않을 경우, 한 변수에서 극단치를 보인 사례가 다른 변수에서는 덜 극단적인, 즉 평균에 가까운 값을 보이는 통계적 성질이 있다. 회귀분석이 어원이 된 것이지만, 회귀분석은 통계분석방법이고 평균회귀는 통계적 법칙을 이르는 것으로 의미는 같지 않다.\n",
    "\n",
    "- ref: https://ko.m.wikipedia.org/wiki/%ED%8F%89%EA%B7%A0%EC%9C%BC%EB%A1%9C%EC%9D%98_%ED%9A%8C%EA%B7%80\n",
    "\n",
    "- 경험에 의존한 판단은 피해야 하며 이는 경험이 필요없다는 뜻이 아니라 경험 해석이 어렵기 때문이다."
   ]
  },
  {
   "cell_type": "markdown",
   "id": "c83aca48-eafa-40d3-9d65-158a6164064d",
   "metadata": {},
   "source": [
    "#### 9장 왜 내 차선만 막히나요?"
   ]
  },
  {
   "cell_type": "markdown",
   "id": "ee47fc21-6abf-4015-85af-60f92a6f6e4e",
   "metadata": {},
   "source": [
    "데이터 편향으로 인한 왜곡된 결과!"
   ]
  },
  {
   "cell_type": "markdown",
   "id": "38a2bc72-fb96-42be-a51c-15d6ad33ee77",
   "metadata": {},
   "source": [
    "#### 10장 걱정은 팔자가 아니고 과학입니다."
   ]
  },
  {
   "cell_type": "markdown",
   "id": "aea30064-0f82-47ed-b9fe-42ab521cde87",
   "metadata": {},
   "source": [
    "극단치 이론: 최대값과 최소값에 관심을 둔 이론\n",
    "- 최대값, 최소값은 데이터에 관계없이 특정한 히스토그램(극단값 분포)을 가진다.\n",
    "- 평균은 중심극한정리를 통해 정규분포를 따름\n",
    "- 최대값, 최소값은 극단값 분포를 따름\n",
    "- 극단값은 존재하는 데이터이기 때문에 절대! 불필요하진 않을 듯!"
   ]
  },
  {
   "cell_type": "markdown",
   "id": "7ec85021-c182-477b-9020-a823ea58f542",
   "metadata": {},
   "source": [
    "#### 11장 술 취한 사람 이해하기"
   ]
  },
  {
   "cell_type": "markdown",
   "id": "14c5effe-19bd-4003-a8f9-01c48b8976ee",
   "metadata": {},
   "source": [
    "임의보행\n",
    "- 잡음에 대한 이해는 데이터 과학의 핵심\n",
    "\n",
    "\n",
    "클라이브 그레인저(Clive Granger): 임의보행으로 경제 데이터 분석 방법 연구\n",
    "- Granger was awarded the Nobel Memorial Prize in Economic Sciences in 2003 in recognition of the contributions that he and his co-winner, Robert F. Engle, had made to the analysis of time series data. This work fundamentally changed the way in which economists analyse financial and macroeconomic data.\n",
    "- https://en.m.wikipedia.org/wiki/Clive_Granger"
   ]
  },
  {
   "cell_type": "markdown",
   "id": "808cba8d-c3bc-4a0f-96b0-7c7f5a04834b",
   "metadata": {},
   "source": [
    "#### 12장 미래 예측하기"
   ]
  },
  {
   "cell_type": "markdown",
   "id": "304dd391-41a1-4674-9a6c-827eba56ab06",
   "metadata": {},
   "source": [
    "미래 예측- 통계학의 회귀분석이나 기계학습에서의 지도학습은 예측을 위한 방법론\n",
    "\n",
    "인공지능과 공존하기 위해 인간에게 필요한 것은 무엇일까?\n",
    "- 반복적인 일을 잘하고 감정이 없는 인공지능,\n",
    "- 창의적인 생각으로 접근 가능한 감정있는 인간,\n",
    "- 장단점을 적절히 조화하여 공존하는 방법을 모색하는 것이 필요하겠다!"
   ]
  },
  {
   "cell_type": "markdown",
   "id": "621b7ea2-cdf3-4052-8c3e-64711e9826a4",
   "metadata": {},
   "source": [
    "#### 13장 너의 마음을 보여줘"
   ]
  },
  {
   "cell_type": "markdown",
   "id": "68629793-6bd6-484a-8056-2ee51bb41155",
   "metadata": {},
   "source": [
    "표본조사\n",
    "- 대표성의 중요도\n",
    "- 공정한 데이터 선정을 위한 무작위 추출\n",
    "\n",
    "\n",
    "- 사회가 선진화될수록 양질의 통계를 요구하는 분야는 늘어남!"
   ]
  },
  {
   "cell_type": "markdown",
   "id": "a71f494e-3500-429c-a5ec-becfdae0473e",
   "metadata": {},
   "source": [
    "#### 14장 로또에 당첨되는 법"
   ]
  },
  {
   "cell_type": "markdown",
   "id": "f11b30f4-7343-43ed-87f6-18ff3e291dd6",
   "metadata": {},
   "source": [
    "다중 비교의 오류: 데이터를 분석하며 원하는 결과가 나올 때까지 계속하다 발생하는 오류\n",
    "- 데이터는 유한하기 때문에\n",
    "- 확인 분석을 통해 오류를 피하자"
   ]
  },
  {
   "cell_type": "markdown",
   "id": "347add9b-4e2c-4999-8f19-71494e26bbb8",
   "metadata": {},
   "source": [
    "#### 15장 목표 없는 정보의 허무함"
   ]
  },
  {
   "cell_type": "markdown",
   "id": "11f255c1-6e34-4cc1-8417-10862e7e33f5",
   "metadata": {},
   "source": [
    "빅데이터와 세분화의 함정\n",
    "- 빅데이터는 '목표없이 모이는 자료'\n",
    "- 또한, 빅데이터는 성공한 연구 결과만 기록될 수 있다.\n",
    "\n",
    "\n",
    "\n",
    "- 데이터 자체를 그저 믿기보다 합라적인 사고와 정확한 판단, 사회적 지식이 요구된다!"
   ]
  },
  {
   "cell_type": "markdown",
   "id": "e509751a-53e5-4021-8510-45ac455095ad",
   "metadata": {},
   "source": [
    "**벤포드 법칙**\n",
    "\n",
    "벤포드의 법칙(Benford's law)은 실세계에서 존재하는 많은 수치 데이터의 10진법 값에서 수의 첫째 자리의 확률 분포를 관찰한 결과, 첫째 자리 숫자가 작을 확률이 크다는 법칙이다. 벤포드의 법칙을 따르는 데이터 집합에 등장하는 수들의 첫째 자리가 1일 확률은 약 30%인 데 반해, 9가 첫째 자리로 등장할 확률은 5% 정도밖에 되지 않는다. 만약 1부터 9까지의 숫자가 수의 맨 앞자리에 등장할 확률이 균등분포를 따른다면, 각 숫자는 약 11.1%의 확률로 맨 앞자리에 등장하여야 할 것이다. 벤포드의 법칙은 또한 수의 둘째 이후 자리의 확률 분포나 숫자 조합에 대한 확률 분포도 예측할 수 있다.\n",
    "\n",
    "\n",
    "$$P(d)=log_{10}(1+\\frac{1}{d})$$\n",
    "\n",
    "- https://ko.m.wikipedia.org/wiki/%EB%B2%A4%ED%8F%AC%EB%93%9C%EC%9D%98_%EB%B2%95%EC%B9%99"
   ]
  },
  {
   "cell_type": "markdown",
   "id": "a2f706ba-3411-4c8d-975b-d6bc433376f6",
   "metadata": {},
   "source": [
    "### 2부 데이터의 활약상"
   ]
  },
  {
   "cell_type": "markdown",
   "id": "55cb2c58-5e4f-44aa-b68b-62affe1ae8c5",
   "metadata": {},
   "source": [
    "#### 1장 데이터의 발자취"
   ]
  },
  {
   "cell_type": "markdown",
   "id": "fd63fb73-583e-4bd2-9e5b-3addb5b7c63b",
   "metadata": {},
   "source": [
    "데이터의 발자취\n",
    "- 흥미로운 statistic의 어원\n",
    "    - 국가 state + -ista 장인 = statista (이탈리아어)"
   ]
  },
  {
   "cell_type": "markdown",
   "id": "55a91941-999a-40e9-872b-c7123491c1e8",
   "metadata": {},
   "source": [
    "빅데이터가 세계를 열은 건 사실이지만.. 현재 개인정보 침해 들으로 뭇매 맞고 있는 것 또한 사실!"
   ]
  },
  {
   "cell_type": "markdown",
   "id": "afa5b7ce-cc02-4e57-99d8-66f207213eec",
   "metadata": {},
   "source": [
    "#### 2장 네번째 과학"
   ]
  },
  {
   "cell_type": "markdown",
   "id": "abf12ed0-fa05-46de-a8af-3d91075eb96f",
   "metadata": {},
   "source": [
    "꿈 촬영에서 중력파 검출까지_ 과학에서 데이터의 역할을 알 수 있었던 장\n",
    "- 과학의 발전 단계\n",
    "    - 1단계 실험과학: 실험을 통하여 새로운 과학적 사실을 파악\n",
    "    - 2단계 이론과학: 과학적 사실에 대한 이론을 개발하는 방법\n",
    "    - 3단계 계산과학: 과학의 복잡계 현상을 복잡한 계산 모형을 통하여 설명하고자 하는 방법\n",
    "    - 4단계 데이터 과학: 데이터를 통해 새로운 과학적 사실을 발견"
   ]
  },
  {
   "cell_type": "markdown",
   "id": "50d48761-3d8c-4e60-8634-0917deb4668d",
   "metadata": {},
   "source": [
    "> youtube: https://www.youtube.com/watch?v=yVkxkuSLwUs"
   ]
  },
  {
   "cell_type": "markdown",
   "id": "d8e166ab-16c5-4222-a1e2-b1e34528426f",
   "metadata": {},
   "source": [
    "꿈을 과학적으로 해석하려는 최초의 접근법\n",
    "- 위 영상은 프로이트 관련 기획강연\n",
    "- 지르문트 프로이트_ 꿈의 해석 1900년 출간(하지만 번역본은 많지~)"
   ]
  },
  {
   "cell_type": "markdown",
   "id": "21c2ee81-94cc-4386-9371-4034e3ba633d",
   "metadata": {},
   "source": [
    "꿈을 연구하는 다양한 접근법의 한계 $\\to$ 꿈에 관한 객관적 정보를 찾기 어려움"
   ]
  },
  {
   "cell_type": "markdown",
   "id": "6129dce4-3d0a-4393-bcaf-7f87aa3405e9",
   "metadata": {},
   "source": [
    "2011년 이코노미스트에서 버클리대학교 연구진이 빅데이터를 이용하여 개발한 방법론\n",
    "- 원리: 영상 정보와 시각 반응 정보의 관계를 모형화하고, 이 모형을 통해 대뇌피질에서 얻은 반응만 이용해 시각 정보를 재구성하고자 함!\n",
    "- fMRI: MRI의 동영상 버전~\n",
    "- 여러 사람에게 다양한 영상을 몇 시간 동안 보여주면서 대뇌에서 일어나는 변화를 fMRI로 수집\n",
    "- **fMRI 데이터를 입력으로, 영상을 출력으로 하는 예측 모형을 만듦!!**\n",
    "\n",
    "\n",
    "\n",
    "- 참고!!\n",
    "    - https://news.berkeley.edu/2011/09/22/brain-movies/\n",
    "    - https://news.berkeley.edu/2011/01/05/functionalmri/"
   ]
  },
  {
   "cell_type": "markdown",
   "id": "174c1fec-1d5c-406d-a909-737558dc63b5",
   "metadata": {},
   "source": [
    "> youtube: https://www.youtube.com/watch?v=6FsH7RK1S2E"
   ]
  },
  {
   "cell_type": "markdown",
   "id": "1bf5736f-d91a-49e2-a91e-80e4b3d55559",
   "metadata": {},
   "source": [
    "> youtube: https://youtu.be/nsjDnYxJ0bo"
   ]
  },
  {
   "cell_type": "markdown",
   "id": "ca2cc973-69f2-416c-92a8-811f1c8829e0",
   "metadata": {},
   "source": [
    "버클리 대학교 연구진이 개발한 꿈을 찍는 이 기술은 현재 꿈을 주입하는 단계로 발전하는 중!\n",
    "- 빅데이터가 연 또 다른 새로운 세계"
   ]
  },
  {
   "cell_type": "markdown",
   "id": "db707b79-e08d-446f-8182-e410844ef109",
   "metadata": {},
   "source": [
    "중력파 관측소 LIGO(https://www.ligo.caltech.edu/) = 중력파 + 우리 주의의 모든 행동(잡음)이 잡힘\n",
    "- 잡음 제거를 위해 클라우드 소싱이 등장(클라우드 소싱crowd+sourcing: 기계학습이나 인공지능에 필요한 데이터를 일반인의 참여를 모으는 법)\n",
    "- 그래비티 스파이gravity spy 프로젝트(https://www.zooniverse.org/projects/zooniverse/gravity-spy)_현재진행중\n",
    "    - LIGO에서 다양한 잡음 관찰 $\\to$ 실험 또는 클라우드 소싱 이용한 잡음 파장 알아내기 $\\to$ 기존에 알려진 잡음인지, 새로운 잡음인지 알아내기 $\\to$ 중력파 관측"
   ]
  },
  {
   "cell_type": "markdown",
   "id": "b2850cf9-deb5-454a-8cde-a9e53ed14fc3",
   "metadata": {},
   "source": [
    "#### 3장 건강한 사회를 위하여"
   ]
  },
  {
   "cell_type": "markdown",
   "id": "69dcfaf0-db4c-4631-a6a3-69f01710d005",
   "metadata": {},
   "source": [
    "건강을 위해 필요\n",
    "- 의학의 3가지 분야 $\\to$ 진단/치료/예방"
   ]
  },
  {
   "cell_type": "markdown",
   "id": "d4a826fb-c1f4-4833-9cc4-3142291224c3",
   "metadata": {},
   "source": [
    "- 개인 맞춤 의료를 위해선 데이터가 중요 $\\to$ 생명을 지키는 데이터라 할 수 있지,\n",
    "- DNA 정보가 우리의 건강과 어떤 관계가 있을까 $\\to$ 데이터과학의 핵심적 역할 발휘!\n",
    "    - DNA 데이터를 분석하면 개인 건강의 차이와 DNA가 어떻게 연관되어 있는지 알 수 있다.\n",
    "    - DNA는 우리 몸의 설계도 같은 역할!\n",
    "    - 데이터에서 잡음을 없애고 필요한 정보를 통해 질병을 파악해내고, 예방하기!!"
   ]
  },
  {
   "cell_type": "markdown",
   "id": "ff58e399-0956-4e04-9ffd-4fde98f22454",
   "metadata": {},
   "source": [
    "#### 4장 백신을 위한 과학"
   ]
  },
  {
   "cell_type": "markdown",
   "id": "7529c1da-455f-421a-aff3-eaf11f1721a1",
   "metadata": {},
   "source": [
    "임상시험\n",
    "- 1상(10명~50명) $\\to$ 안전성- 안전하게 투약할 용량을 알아냄\n",
    "- 2상(100명~200명) $\\to$ 유효성 - 질병 걸린 자가 대상\n",
    "- 3상(수백~ 수천 명) $\\to$ 효과와 안전성 - 3~5년이 걸림!"
   ]
  },
  {
   "cell_type": "markdown",
   "id": "795ddfcc-1773-4bcc-87af-1660e204a2f4",
   "metadata": {},
   "source": [
    "중도절단(즉, 시험 중간에 탈락한 시험자들) 분석은 생존분석이 이용된다. $\\to$ 3상 임상실험을 위해 꼭 필요\n",
    "- 에드워드 캐플런Edward Kaplan과 폴 마이어Paul Meier의 생존분석Aurvivial Curve (https://en.wikipedia.org/wiki/Kaplan%E2%80%93Meier_estimator)"
   ]
  },
  {
   "cell_type": "markdown",
   "id": "1ab8b916-389b-455f-85bf-9643de239fc4",
   "metadata": {},
   "source": [
    "#### 5장 공동체를 위하여"
   ]
  },
  {
   "cell_type": "markdown",
   "id": "4eda6410-eeb8-4298-acfb-aee6b49aa8b7",
   "metadata": {},
   "source": [
    "공동체를 위한 신뢰받는 통계! $\\to$ 국가 통계 선진화는 선진국으로 가는 길~"
   ]
  },
  {
   "cell_type": "markdown",
   "id": "3fbfdb80-b221-4cd3-9073-0efaaf4a71ab",
   "metadata": {},
   "source": [
    "BPP(Billion Prices Project): 인터넷 쇼핑몰 가격을 이용해 물가지수 알기, 신뢰도가 높다.\n",
    "- http://www.thebillionpricesproject.com/"
   ]
  },
  {
   "cell_type": "markdown",
   "id": "da385633-8f2f-41ce-9ad8-608f5b7b209d",
   "metadata": {},
   "source": [
    "#### 6장 민주주의와 선거"
   ]
  },
  {
   "cell_type": "markdown",
   "id": "4a24513e-69c9-4a28-861d-e5c40f13f0eb",
   "metadata": {},
   "source": [
    "선거를 위한 데이터 과학 $\\to$ 여론조사의 한계를 뛰어넘는 데이터"
   ]
  },
  {
   "cell_type": "markdown",
   "id": "36b944fc-8210-4d3a-a49d-35faad0580b0",
   "metadata": {},
   "source": [
    "2012년 본격적 빅데이터 기법을 선거에 적용한 오바마 캠프의 개인 맞춤형 정책 홍보\n",
    "- 데이터베이스 유전자 등록데이터베이스\n",
    "- 민간업체 데이터베이스(액시엄Acxiom, 인포USA_infoUSA 등)\n",
    "- 자원봉사자 입력 정보\n",
    "- How Obama’s Team Used Big Data to Rally Voters(https://www.technologyreview.com/2012/12/19/114510/how-obamas-team-used-big-data-to-rally-voters/)"
   ]
  },
  {
   "cell_type": "markdown",
   "id": "12744e9d-0eff-4b67-a7e5-e8e74f504ba4",
   "metadata": {},
   "source": [
    "#### 7장 금융과 신용"
   ]
  },
  {
   "cell_type": "markdown",
   "id": "f5ac5098-fbb3-4cad-97a9-659507a03327",
   "metadata": {},
   "source": [
    "금융시장 발전을 위한 금융시장 안정화 신성장 등이 금융 사업의 생존 문제가 됌"
   ]
  },
  {
   "cell_type": "markdown",
   "id": "3855bc3d-007e-4d29-81e4-a84d8c9635b5",
   "metadata": {},
   "source": [
    "대출자의 신용평가 $\\to$ 은행의 핵심!"
   ]
  },
  {
   "cell_type": "markdown",
   "id": "9a4c80cc-4d6c-4e29-a375-89ab69813dc4",
   "metadata": {},
   "source": [
    "은행 건전성: 은행이 대출해준 개인이나 기업의 신용상태\n",
    "- 신용 좋은 개인, 기업에게만 대출한다면 은행 건전성이 높아지겠지?"
   ]
  },
  {
   "cell_type": "markdown",
   "id": "4d8689a8-6d5c-4385-8cf4-b2be853e219b",
   "metadata": {},
   "source": [
    "미국 회사 렌도Lenddo의 sns를 이용한 신용평가(https://deliverypdf.ssrn.com/delivery.php?ID=020102027024074107120117065086016014122017071012062030101002076122113066067007115029056029020062102033001067100031083119121114015072091036076109088006001028064064067085066040013001065075003109113099116065101103113121079002101089064113065095022066003072&EXT=pdf&INDEX=TRUE)\n",
    "- SNS 상에서 구축한 평판 정보를 활용해 개인신용평가를 하고 이를 기반으로 소액대출을 제공하는 업체,\n",
    "- 주요 고객은 대출 상환 능력은 있지만 거래 이력이 없어 전통적인 금융회사에서 대출이 쉽지 않은 신흥국 중산층\n",
    "- 2011년 3월 서비스를 시작해 필리핀, 콜롬비아, 멕시코 등에서 사업 영위\n",
    "- 신용평가를 위해 SNS 계정 수, 해당 계정의 사용 기간, 친구 수, 일반 커뮤니티, 트러스티드 네트워크 등 이용\n",
    "- 이머징 국가의 금융 소비자들에게 한달 월급 정도의 소액대출을 실행해줌으로써 치역적 특성과 결합한 소셜 미디어의 확장성을 보여주는 사례로 평가받고 있음\n",
    "- 대출 서비스가 지원되는 필리핀과 콜롬비아에서는 금융소비자 1인당 400~800 달러 상당의 대출이 이뤄지고 있으며, 주된 대출 목적은 교육비이고, 대출 상환율은 95%에 달하는 것으로 파악됌.\n",
    "- https://www.mk.co.kr/news/economy/view/2020/06/573304/"
   ]
  },
  {
   "cell_type": "markdown",
   "id": "2b999149-2b83-49fa-8f27-f89888caa2f7",
   "metadata": {},
   "source": [
    "데이터 기반의 위험 분석\n",
    "- 제이피 모건의 부동산 시장 가격 분석\n",
    "- 산탐의 보험 사기 탐지 시스템\n",
    "- 프로그레시브- 운전한만큼 지불pay as you drive\n",
    "- 어슈어런트 솔루션스- 콜센터에 전화한 고객에 적합한 상담원 실시간 배정\n",
    "    - 음성인식으로 텍스트 구현, 텍스트 마이닝을 통한 정밀추론"
   ]
  },
  {
   "cell_type": "markdown",
   "id": "b4c5ac3b-82a9-46d3-88e2-fc5f2d5f26a2",
   "metadata": {},
   "source": [
    "#### 8장 광고 속 데이터과학"
   ]
  },
  {
   "cell_type": "markdown",
   "id": "32d87f02-b367-451b-9578-0bee993563d6",
   "metadata": {},
   "source": [
    "베스트 셀러도 데이터가 결정하는 시대"
   ]
  },
  {
   "cell_type": "markdown",
   "id": "fa8fa48e-e50f-4011-85eb-33e0e5fff912",
   "metadata": {},
   "source": [
    "추천 시스템recommendation system: 고객 맞춤형 추천을 위하여 아마존에서 사용하는 데이터 분석 알고리즘\n",
    "- 내용 기반 추천: 상품 내용 사이의 관계를 파악하여 과거에 구매한 상품과 비슷한 내용의 상품을 고객에게 추천해주는 방법"
   ]
  },
  {
   "cell_type": "markdown",
   "id": "3c90925d-5702-46ed-a23d-5cbd6bee67b2",
   "metadata": {},
   "source": [
    "#### 9장 제조업을 위한 데이터과학"
   ]
  },
  {
   "cell_type": "markdown",
   "id": "d34e82fd-08cf-44c3-b6c0-a841f6c7d7f0",
   "metadata": {},
   "source": [
    "커피믹스에서 데이터\n",
    "- 배합 비율을 어떻게 할 것인가?\n",
    "- 크림은? 원두는? 설탕은?"
   ]
  },
  {
   "cell_type": "markdown",
   "id": "a2441190-daf7-49ac-9102-2c879551f192",
   "metadata": {},
   "source": [
    "김장에서의 데이터\n",
    "- 모든 재료의 최적 조합은 무엇일까?\n",
    "- 실험계획법을 통해 알아보기"
   ]
  },
  {
   "cell_type": "markdown",
   "id": "6e7abd08-6f7d-41b3-aa35-8126dcc0877a",
   "metadata": {},
   "source": [
    "불량의 원인을 찾자!\n",
    "- 기계가 고장 날 확률 등으을 계산"
   ]
  },
  {
   "cell_type": "markdown",
   "id": "21e3f510-8996-437c-b7c1-ff20451dd38d",
   "metadata": {},
   "source": [
    "**저번 특강 내용 _ LG CNS 분석 1팀 정환식 책임님**\n",
    "- 과정: 설계 $\\to$ 분석 $\\to$ 예측 $\\to$ 설명 $\\to$ 방안 도출\n",
    "- 스마트 팩토리(품질 환경, 설비유지): 어떻게 자동화하고 지능화할 것인가.\n",
    "- SCM Supply Chain Management 생산량 관리 계획의 효율성\n",
    "- 유통\n",
    "- AI\n",
    "- Technology sencing: 자동으로 기술찾고 동향을 찾는!\n",
    "- 통합품질분석\n",
    "- 설비예지 보넞 : 어느 주기로 설비를 관리할지? 등)\n",
    "- 에너지 관리 최적화\n",
    "- Techsencing : 텍스트를 마이닝! $\\to$ 과정이 중요하겠다!\n",
    "- 통합 품장 $\\to$ 제품의 완성도(정상/불량 예측, 방지도 중요!)\n",
    "- 설비 loss: 한 시점에 발생하는 event 있다면 가동~ 문제까지의 시점을 이용해 찾기"
   ]
  },
  {
   "cell_type": "markdown",
   "id": "9d9b56ff-831f-4f06-85ec-ea74624ed6c4",
   "metadata": {},
   "source": [
    "#### 10장 프라이버시 보호"
   ]
  },
  {
   "cell_type": "markdown",
   "id": "a1c7a617-ecae-4da9-8de3-350aa239e56d",
   "metadata": {},
   "source": [
    "다양한 익명화(원베이터 변형) 종류\n",
    "- 동형 암호Homorphic Encryption: 데이터의 평균, 분산 등을 암호화한 상태에서 구해 프라이버시 안전하게 보호, but 너무 많은 계산량\n",
    "- 연합학습Federated Learning: 각각의 서버가 중앙서버에 결과 송출, but 그 결과 이외에 분석은 불가"
   ]
  },
  {
   "cell_type": "markdown",
   "id": "18cdf734-dcaf-4206-9d7d-e5dd773ff8d7",
   "metadata": {},
   "source": [
    "백신 예방률 =  $(1-\\frac{P_{백신}}{p_{no 백신}})\\times 100%$"
   ]
  },
  {
   "cell_type": "markdown",
   "id": "d728a16d-5fdb-450f-90b5-bceba31199a7",
   "metadata": {},
   "source": [
    "### 3부 인공지능"
   ]
  },
  {
   "cell_type": "markdown",
   "id": "08dd349a-6bb8-4b5a-9701-eed88671a2f5",
   "metadata": {},
   "source": [
    "#### 1장 인공지능의 역사"
   ]
  },
  {
   "cell_type": "markdown",
   "id": "d8f31c01-dfe6-48bf-9ee0-8380805fd515",
   "metadata": {},
   "source": [
    "- 개척기(1952~1956) : 1956년 개최한 다트머스학회, 존 메커시가 처음 제안한 인공지능 개념\n",
    "- 황금기(1956~1974)\n",
    "- 암흑기(1974~1980): 모라백의 역설\n",
    "  - Moravec’s paradox is a phenomenon surrounding the abilities of AI-powered tools. It observes that tasks humans find complex are easy to teach AI. Compared, that is, to simple, sensorimotor skills that come instinctively to humans.\n",
    "  - In the 1980s, Hans Moravec, Rodney Brooks, Marvin Minsky and others articulated and discussed this AI paradox. As Moravec put it:\n",
    "  - “It is comparatively easy to make computers exhibit adult level performance […] and difficult or impossible to give them the skills of a one-year-old.”\n",
    "- 개화기(1980년대): 존홉필드. 데이빗 루멜하트(역전파 알고리즘)\n",
    "- 2000년대~현재 인공지능: 이미지 경젠대회(ILSVRC)에서 제프리 힌턴이 오류를 26% $\\to$ 15%로 줄임(빅데이터 수업때!)"
   ]
  },
  {
   "cell_type": "markdown",
   "id": "eae46f44-73c5-436c-9d6c-36c5442ec4f0",
   "metadata": {},
   "source": [
    "딥러닝 - 데이터 과학의 깊은 이해가 필요하겠다!"
   ]
  },
  {
   "cell_type": "markdown",
   "id": "f6b3791f-7747-4629-8048-2a744a294411",
   "metadata": {},
   "source": [
    "#### 2장 알파고의 탄생"
   ]
  },
  {
   "cell_type": "markdown",
   "id": "ce1481b9-33bf-47db-a736-3316cdc1a69d",
   "metadata": {},
   "source": [
    "이세돌 vs 알파고"
   ]
  },
  {
   "cell_type": "markdown",
   "id": "984949b1-095d-45c0-bb41-80eb3cdabc98",
   "metadata": {},
   "source": [
    "성공할 수를 턴때마다 생각함"
   ]
  },
  {
   "cell_type": "markdown",
   "id": "ad20c483-7930-4304-a98f-887c22656157",
   "metadata": {},
   "source": [
    "#### 3장 인공지능의 활약과 부작용"
   ]
  },
  {
   "cell_type": "markdown",
   "id": "0559e9f4-fa96-4a1e-b317-8b647a8f91fe",
   "metadata": {},
   "source": [
    "- 이미지 $\\to$ 세그먼테이션(객체 나누기) $\\to$ 객체 인식\n",
    "- 딥페이크\n",
    "- 통계적 기계 번역 SMT(Statistical machine translation): 확률로 기계 번역?!"
   ]
  },
  {
   "cell_type": "markdown",
   "id": "ef396e04-5ef0-4e0c-b3b5-3493665c1c08",
   "metadata": {},
   "source": [
    "인간도 모르는 인간에 대한 새로운 통찰을 알려주는 시대"
   ]
  },
  {
   "cell_type": "markdown",
   "id": "56d00d02-b818-4d20-a904-30a86cb506c2",
   "metadata": {},
   "source": [
    "#### 4장 인공지능을 인간답게"
   ]
  },
  {
   "cell_type": "markdown",
   "id": "2a72deac-d200-412f-9f09-7b5f43f16a46",
   "metadata": {},
   "source": [
    "인공지능 윤리문제\n",
    "- 마이크로 소프트 테이tay\n",
    "    - https://www.theverge.com/2016/3/24/11297050/tay-microsoft-chatbot-racist\n",
    "- 편견이 없을까? 부당한 편향이 있을 수 있지, 인공지능도 인간에 의한 학습인데 편향이 없을까.(my opinion)"
   ]
  },
  {
   "cell_type": "markdown",
   "id": "d6b507fe-820b-417d-b018-e50cbd3380c2",
   "metadata": {},
   "source": [
    "인공지능 설명하는 방법\n",
    "- 인공지능 개발: 이미 학습된 인공지능 설명\n",
    "- 인공지능 만들기: 인공지능을 학습하는 처음 단계부터 설명"
   ]
  },
  {
   "cell_type": "markdown",
   "id": "0a5ad0a9-5b47-4381-91bd-633b860f9576",
   "metadata": {},
   "source": [
    " 보통 예측력이 좋은 인공지능은 설명을 잘 못하는 반면, 설명을 잘하는 인공지능은 예측력이 떨어져 예측력과 설명력을 동시에 확보할 수 있는 대안이 필요하겠다."
   ]
  },
  {
   "cell_type": "markdown",
   "id": "e051514b-baea-44b3-a3f6-b89ba885110b",
   "metadata": {},
   "source": [
    "-----------------------------------------"
   ]
  }
 ],
 "metadata": {
  "kernelspec": {
   "display_name": "Python 3",
   "language": "python",
   "name": "python3"
  },
  "language_info": {
   "codemirror_mode": {
    "name": "ipython",
    "version": 3
   },
   "file_extension": ".py",
   "mimetype": "text/x-python",
   "name": "python",
   "nbconvert_exporter": "python",
   "pygments_lexer": "ipython3",
   "version": "3.8.12"
  }
 },
 "nbformat": 4,
 "nbformat_minor": 5
}
