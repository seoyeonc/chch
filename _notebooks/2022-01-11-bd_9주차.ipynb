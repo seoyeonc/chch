{
 "cells": [
  {
   "cell_type": "markdown",
   "id": "427875ce-66ec-4c4d-a783-8ee5eeb54fa4",
   "metadata": {
    "id": "427875ce-66ec-4c4d-a783-8ee5eeb54fa4",
    "tags": []
   },
   "source": [
    "# 듣는 중 빅데이터 분석 (9주차) 11월4일\n",
    "> CNN 세부내용\n",
    "\n",
    "- toc:true\n",
    "- branch: master\n",
    "- badges: true\n",
    "- comments: false\n",
    "- author: 최서연\n",
    "- categories: [CNN, feature extraction]"
   ]
  },
  {
   "cell_type": "markdown",
   "id": "3d753898-89cd-48db-9831-27ecae3019dc",
   "metadata": {
    "id": "3d753898-89cd-48db-9831-27ecae3019dc"
   },
   "source": [
    "### import "
   ]
  },
  {
   "cell_type": "code",
   "execution_count": 3,
   "id": "9eaacede-f564-43ff-9b45-c1e54983f9d4",
   "metadata": {
    "id": "77ead912-cf50-48c7-b706-527b15b24f53"
   },
   "outputs": [],
   "source": [
    "import torch \n",
    "import matplotlib.pyplot as plt "
   ]
  },
  {
   "cell_type": "markdown",
   "id": "591320ec-e2aa-4d0b-9cd1-89df676093a4",
   "metadata": {
    "id": "591320ec-e2aa-4d0b-9cd1-89df676093a4"
   },
   "source": [
    "### 컨볼루션 "
   ]
  },
  {
   "cell_type": "markdown",
   "id": "f0551c38-d2b9-43fb-9400-89b3ac617c0b",
   "metadata": {
    "id": "f0551c38-d2b9-43fb-9400-89b3ac617c0b"
   },
   "source": [
    "#### 컨볼루션 연산 "
   ]
  },
  {
   "cell_type": "markdown",
   "id": "8d4d2158-bd33-46a7-8cc8-93b8869c5332",
   "metadata": {
    "id": "8d4d2158-bd33-46a7-8cc8-93b8869c5332"
   },
   "source": [
    "`-` 아래는 (5,5) 이미지에 (3,3) 커널을 적용하여 컨볼루션을 수행한 결과이다. "
   ]
  },
  {
   "cell_type": "markdown",
   "id": "4f5f5334-9217-486a-9d5b-be8b8dda68f1",
   "metadata": {
    "id": "4f5f5334-9217-486a-9d5b-be8b8dda68f1"
   },
   "source": [
    "![](https://github.com/guebin/2021BDA/blob/master/_notebooks/2021-11-04-conv.png?raw=true)"
   ]
  },
  {
   "cell_type": "markdown",
   "id": "9fea4926-2b4a-4bdf-9bd7-6e01414bfd58",
   "metadata": {
    "id": "9fea4926-2b4a-4bdf-9bd7-6e01414bfd58"
   },
   "source": [
    "- https://arxiv.org/abs/1603.07285"
   ]
  },
  {
   "cell_type": "markdown",
   "id": "38dbe50e-af80-4286-8d7c-aaccbe176b13",
   "metadata": {
    "id": "38dbe50e-af80-4286-8d7c-aaccbe176b13"
   },
   "source": [
    "`-` 위의 연산을 구현하면 아래와 같다. "
   ]
  },
  {
   "cell_type": "code",
   "execution_count": 4,
   "id": "37053ed6-2bcb-45cc-b9ce-1c5c68e6c810",
   "metadata": {
    "id": "30d21cb5-deb3-44a9-9a8c-a96b83e045a5"
   },
   "outputs": [],
   "source": [
    "img = torch.Tensor([[3.0, 3.0, 2.0, 1.0, 0.0],\n",
    "                    [0.0, 0.0, 1.0, 3.0, 1.0],\n",
    "                    [3.0, 1.0, 2.0, 2.0, 3.0],\n",
    "                    [2.0, 0.0, 0.0, 2.0, 2.0],\n",
    "                    [2.0, 0.0, 0.0, 0.0, 1.0]])"
   ]
  },
  {
   "cell_type": "code",
   "execution_count": 5,
   "id": "13b3e90b-313f-4df2-9441-b3e9291a01fe",
   "metadata": {
    "id": "13b3e90b-313f-4df2-9441-b3e9291a01fe",
    "outputId": "4f28dc39-a960-40ef-e4df-1cf1d05dbaf3"
   },
   "outputs": [
    {
     "data": {
      "text/plain": [
       "torch.Size([5, 5])"
      ]
     },
     "execution_count": 5,
     "metadata": {},
     "output_type": "execute_result"
    }
   ],
   "source": [
    "img.shape"
   ]
  },
  {
   "cell_type": "markdown",
   "id": "c487d423-cfff-403a-bdd0-18f2db0d053c",
   "metadata": {},
   "source": [
    "아래 reshape 안 취해주면 에러가 뜬다.  1 observation 1 chennal "
   ]
  },
  {
   "cell_type": "code",
   "execution_count": 6,
   "id": "4c562370-3fe0-4167-b7a4-774f9e7e29a9",
   "metadata": {
    "id": "4c562370-3fe0-4167-b7a4-774f9e7e29a9"
   },
   "outputs": [],
   "source": [
    "img=img.reshape(1,1,5,5) "
   ]
  },
  {
   "cell_type": "code",
   "execution_count": 7,
   "id": "13fedcfd-e11b-4d12-976a-ee7ee4980324",
   "metadata": {
    "id": "13fedcfd-e11b-4d12-976a-ee7ee4980324"
   },
   "outputs": [],
   "source": [
    "conv=torch.nn.Conv2d(in_channels=1,out_channels=1, kernel_size=(3,3), bias=False) "
   ]
  },
  {
   "cell_type": "code",
   "execution_count": 8,
   "id": "52ed66f4-7008-4075-b2dd-1f3d6c5797f3",
   "metadata": {
    "id": "52ed66f4-7008-4075-b2dd-1f3d6c5797f3",
    "outputId": "eea24168-e6d9-4255-b71e-fe215ef50f60"
   },
   "outputs": [
    {
     "data": {
      "text/plain": [
       "Parameter containing:\n",
       "tensor([[[[ 0.0217, -0.0667,  0.1019],\n",
       "          [ 0.2479,  0.2325, -0.2041],\n",
       "          [ 0.2590,  0.2724,  0.1134]]]], requires_grad=True)"
      ]
     },
     "execution_count": 8,
     "metadata": {},
     "output_type": "execute_result"
    }
   ],
   "source": [
    "conv.weight"
   ]
  },
  {
   "cell_type": "markdown",
   "id": "f6fb99be-503f-4955-b7e3-9ca164136505",
   "metadata": {},
   "source": [
    "위의 imgage에서 표의 진한 부분에서 오른쪽 아래 있는 것들 입력한 것!"
   ]
  },
  {
   "cell_type": "code",
   "execution_count": 9,
   "id": "510fa70b-b34d-4391-9c87-5234aa210fa6",
   "metadata": {
    "id": "510fa70b-b34d-4391-9c87-5234aa210fa6"
   },
   "outputs": [],
   "source": [
    "conv.weight.data = torch.Tensor([[[[0.0, 1.0, 2.0], \n",
    "                                   [2.0, 2.0, 0.0],\n",
    "                                   [0.0, 1.0, 2.0]]]])                                   "
   ]
  },
  {
   "cell_type": "code",
   "execution_count": 10,
   "id": "a05b4846-bd34-4737-b18c-0e7486b1ac30",
   "metadata": {
    "id": "a05b4846-bd34-4737-b18c-0e7486b1ac30",
    "outputId": "cb546b75-807d-441b-daeb-6272dd5bbe7a"
   },
   "outputs": [
    {
     "data": {
      "text/plain": [
       "Parameter containing:\n",
       "tensor([[[[0., 1., 2.],\n",
       "          [2., 2., 0.],\n",
       "          [0., 1., 2.]]]], requires_grad=True)"
      ]
     },
     "execution_count": 10,
     "metadata": {},
     "output_type": "execute_result"
    }
   ],
   "source": [
    "conv.weight"
   ]
  },
  {
   "cell_type": "code",
   "execution_count": 11,
   "id": "5c8e65b2-d3f6-4239-918f-b1ac533bddf6",
   "metadata": {
    "id": "5c8e65b2-d3f6-4239-918f-b1ac533bddf6",
    "outputId": "926732f8-f513-4502-e940-ec509e140d8d"
   },
   "outputs": [
    {
     "data": {
      "text/plain": [
       "tensor([[[[12., 12., 17.],\n",
       "          [10., 17., 19.],\n",
       "          [ 9.,  6., 14.]]]], grad_fn=<ThnnConv2DBackward0>)"
      ]
     },
     "execution_count": 11,
     "metadata": {},
     "output_type": "execute_result"
    }
   ],
   "source": [
    "conv(img)"
   ]
  },
  {
   "cell_type": "markdown",
   "id": "65f2dcc6-7307-4802-ab02-0c9fbfeecf4e",
   "metadata": {
    "id": "65f2dcc6-7307-4802-ab02-0c9fbfeecf4e"
   },
   "source": [
    "- 현재는 입력채널이 1개 출력채널이 1개인 경우이다. \n",
    "- 입력채널이 3개인경우 (3,3) 커널이 3개 필요하다. \n",
    "- 입력채널이 3개이고 출력채널이 16개인 경우라면 (3,3) 커널이 48개(3$\\times 16$) 필요하다. "
   ]
  },
  {
   "cell_type": "markdown",
   "id": "08cffde4-f74a-481f-8083-eba03602eec0",
   "metadata": {
    "id": "08cffde4-f74a-481f-8083-eba03602eec0",
    "tags": []
   },
   "source": [
    "#### 특징추출기능 (feature extraction) "
   ]
  },
  {
   "cell_type": "markdown",
   "id": "e99e93ea-e7e4-4a27-ad8e-4d4da2ea22e8",
   "metadata": {
    "id": "e99e93ea-e7e4-4a27-ad8e-4d4da2ea22e8"
   },
   "source": [
    "`-` 컨볼루션연산은 커널의 계수값에 따라서 이미지의 특징을 추출하는 역할을 하는데 그것을 알아보기 위해 아래와 같이 Conv2d 층을 하나 생성하자. "
   ]
  },
  {
   "cell_type": "code",
   "execution_count": 12,
   "id": "1baeaee7-e1e5-4ee4-b96c-db634f377584",
   "metadata": {
    "id": "1baeaee7-e1e5-4ee4-b96c-db634f377584"
   },
   "outputs": [],
   "source": [
    "conv = torch.nn.Conv2d(in_channels=1, out_channels=2, kernel_size=2, bias=False)"
   ]
  },
  {
   "cell_type": "markdown",
   "id": "54c38a22-6104-445d-ac24-7bdae91e7be2",
   "metadata": {
    "id": "54c38a22-6104-445d-ac24-7bdae91e7be2"
   },
   "source": [
    "`-` 필터값확인 "
   ]
  },
  {
   "cell_type": "code",
   "execution_count": 13,
   "id": "af84e82e-6ca6-430f-adfb-68caae2ca730",
   "metadata": {
    "id": "af84e82e-6ca6-430f-adfb-68caae2ca730",
    "outputId": "4788b580-bd48-48ce-df5d-41c78b7067c1"
   },
   "outputs": [
    {
     "data": {
      "text/plain": [
       "Parameter containing:\n",
       "tensor([[[[ 0.3047,  0.2079],\n",
       "          [-0.0800, -0.0205]]],\n",
       "\n",
       "\n",
       "        [[[ 0.1961, -0.3685],\n",
       "          [-0.0205, -0.4432]]]], requires_grad=True)"
      ]
     },
     "execution_count": 13,
     "metadata": {},
     "output_type": "execute_result"
    }
   ],
   "source": [
    "conv.weight"
   ]
  },
  {
   "cell_type": "markdown",
   "id": "1fea358c-4c75-432b-b545-81ee05dedffd",
   "metadata": {
    "id": "1fea358c-4c75-432b-b545-81ee05dedffd"
   },
   "source": [
    "`-` 필터값을 내가 원하는 값으로 변경 "
   ]
  },
  {
   "cell_type": "code",
   "execution_count": 14,
   "id": "ea65ee12-88ac-40aa-97e3-5cb9a9813086",
   "metadata": {
    "id": "ea65ee12-88ac-40aa-97e3-5cb9a9813086"
   },
   "outputs": [],
   "source": [
    "conv.weight.data= torch.Tensor([[[[0.25, 0.25], \n",
    "                                  [0.25, 0.25]]],\n",
    "                                [[[-1.0,1.0],\n",
    "                                  [-1.0,1.0]]]])"
   ]
  },
  {
   "cell_type": "markdown",
   "id": "f8663e4f-07ab-438d-9922-7fdd0c1170ee",
   "metadata": {
    "id": "f8663e4f-07ab-438d-9922-7fdd0c1170ee"
   },
   "source": [
    "- 첫번째 필터는 평균필터, 두번째 필터는 엣지검출필터 "
   ]
  },
  {
   "cell_type": "markdown",
   "id": "70576018-20fc-4428-b378-a2cdea50bc0f",
   "metadata": {},
   "source": [
    "1/4(=0.25)를 2 $]times$ 2 에서 각각 곱해 더해주니까. 엣지 검출 필터는 뒤에서 앞을 뺴준다는 개념으로 접근해보자 경계선 검출해주는 역할"
   ]
  },
  {
   "cell_type": "markdown",
   "id": "d7fbc6df-43bc-4a2e-bc5e-f01a88b9eb76",
   "metadata": {
    "id": "d7fbc6df-43bc-4a2e-bc5e-f01a88b9eb76"
   },
   "source": [
    "`-` 입력데이터 생성 (단순한 흑백대비)"
   ]
  },
  {
   "cell_type": "code",
   "execution_count": 15,
   "id": "53d8c700-19e5-4e10-b1b1-5ef3ea2159dd",
   "metadata": {
    "id": "53d8c700-19e5-4e10-b1b1-5ef3ea2159dd"
   },
   "outputs": [],
   "source": [
    "img = torch.Tensor([[.1, .1, .1, .0, .0, .0],\n",
    "                    [.1, .1, .1, .0, .0, .0],\n",
    "                    [.1, .1, .1, .0, .0, .0],\n",
    "                    [.1, .1, .1, .0, .0, .0],\n",
    "                    [.1, .1, .1, .0, .0, .0],\n",
    "                    [.1, .1, .1, .0, .0, .0]]).reshape(1,1,6,6)"
   ]
  },
  {
   "cell_type": "code",
   "execution_count": 23,
   "id": "8d7126c2-237c-48d6-b6c9-86d148641c96",
   "metadata": {
    "id": "53d8c700-19e5-4e10-b1b1-5ef3ea2159dd"
   },
   "outputs": [],
   "source": [
    "_img = torch.Tensor([[.1, -0.1, -0.1, .0, .0, -0.1],\n",
    "                    [.1, -0.1, -0.1, .0, .0, -0.1],\n",
    "                    [.1, -0.1, -0.1, .0, .0,-0.1],\n",
    "                    [.1, -0.1, -0.1, .0, .0, -0.1],\n",
    "                    [.1, -0.1, -0.1, .0, .0, -0.1],\n",
    "                    [.1, -0.1, -0.1, .0, .0, -0.1]]).reshape(1,1,6,6)"
   ]
  },
  {
   "cell_type": "code",
   "execution_count": 16,
   "id": "7eb1c57d-2e6a-4e38-9025-40d927206f0f",
   "metadata": {
    "id": "7eb1c57d-2e6a-4e38-9025-40d927206f0f",
    "outputId": "8c8e8d2a-a240-4e66-f467-afdaa7243700"
   },
   "outputs": [
    {
     "data": {
      "text/plain": [
       "tensor([[[[0.1000, 0.1000, 0.1000, 0.0000, 0.0000, 0.0000],\n",
       "          [0.1000, 0.1000, 0.1000, 0.0000, 0.0000, 0.0000],\n",
       "          [0.1000, 0.1000, 0.1000, 0.0000, 0.0000, 0.0000],\n",
       "          [0.1000, 0.1000, 0.1000, 0.0000, 0.0000, 0.0000],\n",
       "          [0.1000, 0.1000, 0.1000, 0.0000, 0.0000, 0.0000],\n",
       "          [0.1000, 0.1000, 0.1000, 0.0000, 0.0000, 0.0000]]]])"
      ]
     },
     "execution_count": 16,
     "metadata": {},
     "output_type": "execute_result"
    }
   ],
   "source": [
    "img"
   ]
  },
  {
   "cell_type": "markdown",
   "id": "3756fa9e-a72d-4da1-99ec-c19e2157f349",
   "metadata": {},
   "source": [
    "차원 줄여주기 squeeze"
   ]
  },
  {
   "cell_type": "code",
   "execution_count": 17,
   "id": "4c550635-3819-43df-a50a-0501719e8985",
   "metadata": {
    "id": "4c550635-3819-43df-a50a-0501719e8985",
    "outputId": "364d177a-94ae-4564-85ac-ffda03ad5700"
   },
   "outputs": [
    {
     "data": {
      "text/plain": [
       "<matplotlib.image.AxesImage at 0x7fc678179310>"
      ]
     },
     "execution_count": 17,
     "metadata": {},
     "output_type": "execute_result"
    },
    {
     "data": {
      "image/png": "[encoded data removed]",
      "text/plain": [
       "<Figure size 432x288 with 1 Axes>"
      ]
     },
     "metadata": {
      "needs_background": "light"
     },
     "output_type": "display_data"
    }
   ],
   "source": [
    "plt.imshow(img.squeeze(),cmap='gray')"
   ]
  },
  {
   "cell_type": "markdown",
   "id": "722ea014-48c1-4d77-b0f5-71482e5a7de4",
   "metadata": {
    "id": "722ea014-48c1-4d77-b0f5-71482e5a7de4"
   },
   "source": [
    "`-` 입력이미지에 컨볼루션 적용 "
   ]
  },
  {
   "cell_type": "markdown",
   "id": "22c445e7-e0f9-4d3d-938d-6d12794a97a9",
   "metadata": {},
   "source": [
    "img에 필터 적용, 즉 평균내볼까"
   ]
  },
  {
   "cell_type": "code",
   "execution_count": 18,
   "id": "b9f48802-1eb8-41ab-8f86-c920db6a1f1e",
   "metadata": {
    "id": "b9f48802-1eb8-41ab-8f86-c920db6a1f1e",
    "outputId": "e6290e71-5680-40e6-b46f-ceec1a31ca9b"
   },
   "outputs": [
    {
     "data": {
      "text/plain": [
       "<matplotlib.image.AxesImage at 0x7fc6780761c0>"
      ]
     },
     "execution_count": 18,
     "metadata": {},
     "output_type": "execute_result"
    },
    {
     "data": {
      "image/png": "[encoded data removed]",
      "text/plain": [
       "<Figure size 432x288 with 1 Axes>"
      ]
     },
     "metadata": {
      "needs_background": "light"
     },
     "output_type": "display_data"
    }
   ],
   "source": [
    "plt.imshow(conv(img)[0][0].data,cmap='gray')"
   ]
  },
  {
   "cell_type": "markdown",
   "id": "c99604e6-23ca-4886-8cf8-62359b231c28",
   "metadata": {
    "id": "c99604e6-23ca-4886-8cf8-62359b231c28"
   },
   "source": [
    "- 첫번째 필터를 적용한 결과 "
   ]
  },
  {
   "cell_type": "code",
   "execution_count": 21,
   "id": "09babd8f-7252-47b5-94f0-e8dd5f2123ba",
   "metadata": {},
   "outputs": [
    {
     "data": {
      "text/plain": [
       "tensor([[[[ 0.1000,  0.1000,  0.0500,  0.0000,  0.0000],\n",
       "          [ 0.1000,  0.1000,  0.0500,  0.0000,  0.0000],\n",
       "          [ 0.1000,  0.1000,  0.0500,  0.0000,  0.0000],\n",
       "          [ 0.1000,  0.1000,  0.0500,  0.0000,  0.0000],\n",
       "          [ 0.1000,  0.1000,  0.0500,  0.0000,  0.0000]],\n",
       "\n",
       "         [[ 0.0000,  0.0000, -0.2000,  0.0000,  0.0000],\n",
       "          [ 0.0000,  0.0000, -0.2000,  0.0000,  0.0000],\n",
       "          [ 0.0000,  0.0000, -0.2000,  0.0000,  0.0000],\n",
       "          [ 0.0000,  0.0000, -0.2000,  0.0000,  0.0000],\n",
       "          [ 0.0000,  0.0000, -0.2000,  0.0000,  0.0000]]]],\n",
       "       grad_fn=<ThnnConv2DBackward0>)"
      ]
     },
     "execution_count": 21,
     "metadata": {},
     "output_type": "execute_result"
    }
   ],
   "source": [
    "conv(img)"
   ]
  },
  {
   "cell_type": "markdown",
   "id": "24153f9e-64b8-406f-b1d0-6afc34a33858",
   "metadata": {},
   "source": [
    "위에서 두 번째 거..(미분 꼬리표 가짐)"
   ]
  },
  {
   "cell_type": "code",
   "execution_count": 19,
   "id": "22b1d92f-d35a-4721-8755-045b03cfce94",
   "metadata": {
    "id": "22b1d92f-d35a-4721-8755-045b03cfce94",
    "outputId": "960c0d33-9f7f-489c-fce7-501f076dffb6"
   },
   "outputs": [
    {
     "data": {
      "text/plain": [
       "<matplotlib.image.AxesImage at 0x7fc671fbad90>"
      ]
     },
     "execution_count": 19,
     "metadata": {},
     "output_type": "execute_result"
    },
    {
     "data": {
      "image/png": "[encoded data removed]",
      "text/plain": [
       "<Figure size 432x288 with 1 Axes>"
      ]
     },
     "metadata": {
      "needs_background": "light"
     },
     "output_type": "display_data"
    }
   ],
   "source": [
    "plt.imshow(conv(img)[0][1].data,cmap='gray') "
   ]
  },
  {
   "cell_type": "code",
   "execution_count": 24,
   "id": "64410304-b267-4abc-aa9f-d3ca81f23121",
   "metadata": {
    "id": "4c550635-3819-43df-a50a-0501719e8985",
    "outputId": "364d177a-94ae-4564-85ac-ffda03ad5700"
   },
   "outputs": [
    {
     "data": {
      "text/plain": [
       "<matplotlib.image.AxesImage at 0x7fc671f9e400>"
      ]
     },
     "execution_count": 24,
     "metadata": {},
     "output_type": "execute_result"
    },
    {
     "data": {
      "image/png": "[encoded data removed]",
      "text/plain": [
       "<Figure size 432x288 with 1 Axes>"
      ]
     },
     "metadata": {
      "needs_background": "light"
     },
     "output_type": "display_data"
    }
   ],
   "source": [
    "plt.imshow(_img.squeeze(),cmap='gray')"
   ]
  },
  {
   "cell_type": "markdown",
   "id": "c5302349-e9ee-409f-a802-c45781ca8bb3",
   "metadata": {
    "id": "722ea014-48c1-4d77-b0f5-71482e5a7de4"
   },
   "source": [
    "`-` 입력이미지에 컨볼루션 적용 "
   ]
  },
  {
   "cell_type": "code",
   "execution_count": 25,
   "id": "f0e9f6c4-e67e-4643-b299-5cd742af4e39",
   "metadata": {
    "id": "b9f48802-1eb8-41ab-8f86-c920db6a1f1e",
    "outputId": "e6290e71-5680-40e6-b46f-ceec1a31ca9b"
   },
   "outputs": [
    {
     "data": {
      "text/plain": [
       "<matplotlib.image.AxesImage at 0x7fc671f022b0>"
      ]
     },
     "execution_count": 25,
     "metadata": {},
     "output_type": "execute_result"
    },
    {
     "data": {
      "image/png": "[encoded data removed]",
      "text/plain": [
       "<Figure size 432x288 with 1 Axes>"
      ]
     },
     "metadata": {
      "needs_background": "light"
     },
     "output_type": "display_data"
    }
   ],
   "source": [
    "plt.imshow(conv(_img)[0][0].data,cmap='gray')"
   ]
  },
  {
   "cell_type": "markdown",
   "id": "bfeb1682-d7a8-4549-afc1-ece1dd2c6aab",
   "metadata": {
    "id": "c99604e6-23ca-4886-8cf8-62359b231c28"
   },
   "source": [
    "- 첫번째 필터를 적용한 결과 "
   ]
  },
  {
   "cell_type": "code",
   "execution_count": 26,
   "id": "11c1d995-c718-4b1a-abfe-4c7df95da7de",
   "metadata": {
    "id": "22b1d92f-d35a-4721-8755-045b03cfce94",
    "outputId": "960c0d33-9f7f-489c-fce7-501f076dffb6"
   },
   "outputs": [
    {
     "data": {
      "text/plain": [
       "<matplotlib.image.AxesImage at 0x7fc671ecca60>"
      ]
     },
     "execution_count": 26,
     "metadata": {},
     "output_type": "execute_result"
    },
    {
     "data": {
      "image/png": "[encoded data removed]",
      "text/plain": [
       "<Figure size 432x288 with 1 Axes>"
      ]
     },
     "metadata": {
      "needs_background": "light"
     },
     "output_type": "display_data"
    }
   ],
   "source": [
    "plt.imshow(conv(_img)[0][1].data,cmap='gray') "
   ]
  },
  {
   "cell_type": "markdown",
   "id": "eec6ad19-2def-4d48-b760-d4abe4b1d452",
   "metadata": {
    "id": "eec6ad19-2def-4d48-b760-d4abe4b1d452"
   },
   "source": [
    "`-` 요약 \n",
    "\n",
    "- 커널의 계수에 따라서 엣지를 검출하는 필터가 만들어지기도 하고, 스무딩을 하는 필터가 만들어지기도 한다. \n",
    "- 이들을 조합하면 다양한 특징을 검출할 수 있다. \n"
   ]
  },
  {
   "cell_type": "markdown",
   "id": "f59544e1-a323-4d25-bb60-5c68f2ff0ce7",
   "metadata": {
    "id": "f59544e1-a323-4d25-bb60-5c68f2ff0ce7"
   },
   "source": [
    "#### 패딩, 스트라이드 "
   ]
  },
  {
   "cell_type": "markdown",
   "id": "441d294e-a2f5-42e8-8c44-17a20b105a9e",
   "metadata": {
    "id": "441d294e-a2f5-42e8-8c44-17a20b105a9e"
   },
   "source": [
    "`-` 패딩: 이미지의 가장자리에 적당한 값(예를들면 0)을 넣고 커널연산을 수행. 그래서 컨볼루션 연산 이후에도 이미지의 크기가 줄어들지 않도록 방지."
   ]
  },
  {
   "cell_type": "markdown",
   "id": "4396fea0-08cd-442b-ac6d-a66e86e2ccb5",
   "metadata": {
    "id": "4396fea0-08cd-442b-ac6d-a66e86e2ccb5"
   },
   "source": [
    "`-` 스트라이드: 윈도우가 1칸씩 이동하는 것이 아니라 2~3칸씩 이동함 (이미지 축소효과) "
   ]
  },
  {
   "cell_type": "markdown",
   "id": "19f49fad-3089-4a39-93f7-659270321211",
   "metadata": {
    "id": "19f49fad-3089-4a39-93f7-659270321211"
   },
   "source": [
    "### CNN 아키텍처의 표현방법 "
   ]
  },
  {
   "cell_type": "markdown",
   "id": "e4f49666-6532-43d9-b67d-4abd9b31b2cd",
   "metadata": {
    "id": "e4f49666-6532-43d9-b67d-4abd9b31b2cd"
   },
   "source": [
    "`-` 왜 풀링을 하는가? 이미지를 줄이고 싶어서. "
   ]
  },
  {
   "cell_type": "markdown",
   "id": "36179a0e-f7d2-4971-b5ea-5666970ffa5f",
   "metadata": {
    "id": "36179a0e-f7d2-4971-b5ea-5666970ffa5f"
   },
   "source": [
    "`-` 아래와 같이 아키텍처의 형태로 표현하고 굳이 이미지를 그리지않음 (출처: 위키피디아)"
   ]
  },
  {
   "cell_type": "markdown",
   "id": "4ddb4c13-6b60-4d0a-8163-3a8e4f74c76c",
   "metadata": {
    "id": "4ddb4c13-6b60-4d0a-8163-3a8e4f74c76c"
   },
   "source": [
    "![](https://upload.wikimedia.org/wikipedia/commons/thumb/c/cc/Comparison_image_neural_networks.svg/1920px-Comparison_image_neural_networks.svg.png)"
   ]
  },
  {
   "cell_type": "markdown",
   "id": "c4d11447-41a5-4557-8117-dad9d0b9caba",
   "metadata": {
    "id": "c4d11447-41a5-4557-8117-dad9d0b9caba"
   },
   "source": [
    "### 배치노말라이제이션 (아키텍처레벨의 컨트롤) "
   ]
  },
  {
   "cell_type": "markdown",
   "id": "69c1f44b-386e-4999-a251-488d98d28fce",
   "metadata": {
    "id": "69c1f44b-386e-4999-a251-488d98d28fce"
   },
   "source": [
    "- ref: https://www.google.com/search?q=deep+learning+ian+goodfellow&biw=1119&bih=707&tbm=bks&sxsrf=AOaemvJfbtYOtnqia8NXVzJ03G1m-NuukQ%3A1635986386747&ei=0iuDYbP-LInT-QbphZXABQ&oq=Deep+Learning+i&gs_l=psy-ab.3.0.0i19k1.10636.13294.0.14233.4.3.1.0.0.0.166.447.0j3.3.0....0...1c.1j4.64.psy-ab..0.4.451....0.dDa1TpYCPMs\n",
    "\n",
    "`-` 원래 목적은 최적화의 개선으로 개발된 방법이다. 역전파에 의해 발생하는 2~3차 사이드 이펙을 캔슬한다. (미분값을 잘 계산하기 위한 알고리즘) \n",
    "\n",
    "`-` 하지만 부수적으로 과적합을 피하는 효과도 있다 (그래서 종종 드랍아웃을 쓸 필요가 없어진다.) \n",
    "\n",
    "`-` 생각보다 어려운 개념이다. 그냥 이런것이 있다는 것 정도만 알아둘것 "
   ]
  },
  {
   "cell_type": "markdown",
   "id": "82177f77-8324-47e4-8207-2de63f2c7746",
   "metadata": {
    "id": "82177f77-8324-47e4-8207-2de63f2c7746"
   },
   "source": [
    "### discussion about CNN "
   ]
  },
  {
   "cell_type": "markdown",
   "id": "62766b4d-37d9-453f-b9e3-57805730cb39",
   "metadata": {
    "id": "62766b4d-37d9-453f-b9e3-57805730cb39"
   },
   "source": [
    "`-` 격자형태로 배열된 자료를 처리하는데 특화된 신경망이다. \n",
    "- 시계열 (1차원 격자), 이미지(2차원 격자) "
   ]
  },
  {
   "cell_type": "markdown",
   "id": "b5055c6a-02a3-4831-a55d-53e5bb1335de",
   "metadata": {
    "id": "b5055c6a-02a3-4831-a55d-53e5bb1335de"
   },
   "source": [
    "`-` 신경과학의 원리가 심층학습에 영향을 미친 사례 "
   ]
  },
  {
   "cell_type": "markdown",
   "id": "c01347a5-178d-4765-8116-7b13faff702b",
   "metadata": {
    "id": "c01347a5-178d-4765-8116-7b13faff702b"
   },
   "source": [
    "#### 모티브 "
   ]
  },
  {
   "cell_type": "markdown",
   "id": "70e5f1d8-e539-4d5e-9b2d-bc734d6caa83",
   "metadata": {
    "id": "70e5f1d8-e539-4d5e-9b2d-bc734d6caa83"
   },
   "source": [
    "`-` 회소성 + 매개변수 공유 \n",
    "\n",
    "- 희소성: 이미지를 분석하여 특징을 뽑아낼 떄 부분부분의 특징만 뽑으면 된다는 의미 \n",
    "- 매개변수공유: 한 채널에는 하나의 역할을 하는 커널을 설계하면 된다는 의미 (스무딩이든 엣징이든). 즉 어떤지역은 스무딩, 어떤 지역은 엣징을 할 필요없이 한 채널은 모두 스무딩, 다른 채널은 모두 엣징만 하고 여러채널을 고려하여 이미지를 이해하면 된다는 의미 "
   ]
  },
  {
   "cell_type": "markdown",
   "id": "7c938a83-104a-4818-b68f-8d5efdc46788",
   "metadata": {
    "id": "7c938a83-104a-4818-b68f-8d5efdc46788"
   },
   "source": [
    "`-` 당연한 소리같지만 위의 원리로 인해서 파라메터 감소효과가 엄청남 "
   ]
  },
  {
   "cell_type": "markdown",
   "id": "0fd464fa-17d3-4285-baf9-226730d4f370",
   "metadata": {
    "id": "0fd464fa-17d3-4285-baf9-226730d4f370"
   },
   "source": [
    "(예시) (1,6,6) $\\to$ (2,5,5) \n",
    "- MLP 방식이라면 $36\\times 50$의 파라메터가 필요함 \n",
    "- CNN은 8개 "
   ]
  },
  {
   "cell_type": "markdown",
   "id": "6b93d211-061e-4d5c-86c8-63e309c08afa",
   "metadata": {
    "id": "6b93d211-061e-4d5c-86c8-63e309c08afa"
   },
   "source": [
    "(예시) (3,244,244) $\\to$ (16,224,244) "
   ]
  },
  {
   "cell_type": "markdown",
   "id": "ed28fd50-8b17-4684-8954-77fd1c55e684",
   "metadata": {
    "id": "ed28fd50-8b17-4684-8954-77fd1c55e684"
   },
   "source": [
    "#### 신경망의 구조 "
   ]
  },
  {
   "cell_type": "markdown",
   "id": "7643339b-69d7-46c9-9582-a1d20ba6fb03",
   "metadata": {
    "id": "7643339b-69d7-46c9-9582-a1d20ba6fb03"
   },
   "source": [
    "`-` 컨볼루션 - 활성화 - 풀링 "
   ]
  },
  {
   "cell_type": "markdown",
   "id": "98fc504c-5244-4a88-939f-a220b2ae1e38",
   "metadata": {
    "id": "98fc504c-5244-4a88-939f-a220b2ae1e38"
   },
   "source": [
    "`-` 풀링: 요약의 의미 \n",
    "- 요약을 굳이 왜 하는가? 어차피 결국 $y=0$ 아니면 $y=1$ 이니까 줄이긴 줄여야 함\n",
    "- 요약을 하나도 안하고 있다가 나중에 한번에 하려면 힘들어요 \n"
   ]
  }
 ],
 "metadata": {
  "colab": {
   "name": "2021-11-04-(9주차) 11월4일.ipynb",
   "provenance": []
  },
  "kernelspec": {
   "display_name": "Python 3",
   "language": "python",
   "name": "python3"
  },
  "language_info": {
   "codemirror_mode": {
    "name": "ipython",
    "version": 3
   },
   "file_extension": ".py",
   "mimetype": "text/x-python",
   "name": "python",
   "nbconvert_exporter": "python",
   "pygments_lexer": "ipython3",
   "version": "3.8.12"
  }
 },
 "nbformat": 4,
 "nbformat_minor": 5
}
