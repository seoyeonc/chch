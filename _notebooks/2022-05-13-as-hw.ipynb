{
 "cells": [
  {
   "cell_type": "markdown",
   "id": "1274533e-2324-47fa-883b-da07e1204247",
   "metadata": {
    "id": "cac470df-29e7-4148-9bbd-d8b9a32fa570",
    "tags": []
   },
   "source": [
    "# 응용통계학 과제\n",
    "> 다중공선성\n",
    "\n",
    "- toc:true\n",
    "- branch: master\n",
    "- badges: true\n",
    "- comments: false\n",
    "- author: 최서연\n",
    "- categories: [Applied Statistics, 다중공선성]"
   ]
  },
  {
   "cell_type": "markdown",
   "id": "93a9c948-0d19-44c8-9469-31be39080adc",
   "metadata": {},
   "source": [
    "# 응용통계학 과제 20220512\n",
    "- 202150754 최서연\n",
    "> 다중공선성 "
   ]
  },
  {
   "cell_type": "markdown",
   "id": "523b9ded-5195-40f5-b055-5508851aa981",
   "metadata": {},
   "source": [
    "\n",
    "다중공선성이 존재하는 상황을 가정하고 \n",
    "\n",
    " \n",
    "\n",
    "다중공선성을 어느 정도 제거한 모형 (M1)과 다중공선성이 내재되어 있는 모형 (M2) 을 고려하여\n",
    "\n",
    " \n",
    "\n",
    "두 모형의 예측력을 모의실험을 통해 비교하여라,\n",
    "\n",
    " \n",
    "\n",
    "단, 실험은 여러 번 반복하여 평균적인 결과를  report하되 설명변수의 개수는 3개 이상으로 설정하여라.\n",
    "\n",
    " \n",
    "\n",
    "이미 존재하는 문서들을 참고하거나 재현해도 무방함.\n",
    "\n",
    " \n",
    "\n",
    "(첨부된 문서 참고)"
   ]
  },
  {
   "cell_type": "code",
   "execution_count": 131,
   "id": "8f64ee8d-0948-46ff-9188-59053b7a2273",
   "metadata": {},
   "outputs": [
    {
     "data": {
      "text/html": [
       "<style>\n",
       ".list-inline {list-style: none; margin:0; padding: 0}\n",
       ".list-inline>li {display: inline-block}\n",
       ".list-inline>li:not(:last-child)::after {content: \"\\00b7\"; padding: 0 .5ex}\n",
       "</style>\n",
       "<ol class=list-inline><li>54.9859802741436</li><li>54.9844364829571</li></ol>\n"
      ],
      "text/latex": [
       "\\begin{enumerate*}\n",
       "\\item 54.9859802741436\n",
       "\\item 54.9844364829571\n",
       "\\end{enumerate*}\n"
      ],
      "text/markdown": [
       "1. 54.9859802741436\n",
       "2. 54.9844364829571\n",
       "\n",
       "\n"
      ],
      "text/plain": [
       "[1] 54.98598 54.98444"
      ]
     },
     "metadata": {},
     "output_type": "display_data"
    },
    {
     "data": {
      "text/html": [
       "<style>\n",
       ".list-inline {list-style: none; margin:0; padding: 0}\n",
       ".list-inline>li {display: inline-block}\n",
       ".list-inline>li:not(:last-child)::after {content: \"\\00b7\"; padding: 0 .5ex}\n",
       "</style>\n",
       "<ol class=list-inline><li>21.0332685954485</li><li>1.00054778850279</li></ol>\n"
      ],
      "text/latex": [
       "\\begin{enumerate*}\n",
       "\\item 21.0332685954485\n",
       "\\item 1.00054778850279\n",
       "\\end{enumerate*}\n"
      ],
      "text/markdown": [
       "1. 21.0332685954485\n",
       "2. 1.00054778850279\n",
       "\n",
       "\n"
      ],
      "text/plain": [
       "[1] 21.033269  1.000548"
      ]
     },
     "metadata": {},
     "output_type": "display_data"
    }
   ],
   "source": [
    "Nrep = 200\n",
    "\n",
    "n = 1000\n",
    "\n",
    "hatb1 <- hatb2 <- c()\n",
    "te1 <- te2 <- c()\n",
    "\n",
    "for (k in 1:Nrep)\n",
    "{\n",
    "x1 = runif(n,-3,3)\n",
    "x2 = x1 + rnorm(n,0,0.01)\n",
    "#X = model.matrix(~ x1 + x2)\n",
    "#solve(t(X)%*%X)\n",
    "y = 2 + x1 + 2*x2 + rnorm(n)\n",
    "\n",
    "ind = sample(1:n,500)\n",
    "tx1 = x1[ind]\n",
    "tx2 = x2[ind]\n",
    "test_x1 = x1[-ind]\n",
    "test_x2 = x2[-ind]\n",
    "ty  = y[ind]\n",
    "test_y = y[-ind]\n",
    "\n",
    "fit1 = lm(ty~tx1+tx2)\n",
    "fit2 = lm(ty~tx1)\n",
    "\n",
    "hatb1[k] = fit1$coefficients[2]\n",
    "hatb2[k] = fit2$coefficients[2]\n",
    "\n",
    "te1[k] = mean((test_y - predict(fit1,newdata=data.frame(test_x1,test_x2)))^2)\n",
    "te2[k] = mean((test_y - predict(fit2,newdata=data.frame(test_x1)))^2)\n",
    "#summary(lm(y~x1+x2))\n",
    "#print(k)\n",
    "}\n",
    "\n",
    "c(mean(te1),mean(te2))\n",
    "c(mean((hatb1-1)^2),mean((hatb2-2)^2))"
   ]
  },
  {
   "cell_type": "markdown",
   "id": "86df5d1c-73c9-4211-b42e-d951f4b81e2a",
   "metadata": {},
   "source": [
    "---"
   ]
  },
  {
   "cell_type": "code",
   "execution_count": 165,
   "id": "47335c43-cb6f-4456-8e00-dcc50ec8d495",
   "metadata": {},
   "outputs": [],
   "source": [
    "library(regclass)"
   ]
  },
  {
   "cell_type": "code",
   "execution_count": 239,
   "id": "d15a431b-beb3-4355-9e54-e41af62d9e42",
   "metadata": {},
   "outputs": [],
   "source": [
    "library(car)"
   ]
  },
  {
   "cell_type": "markdown",
   "id": "ff5c7bc5-a3d2-43e4-806f-a6086e109cb9",
   "metadata": {},
   "source": [
    "---"
   ]
  },
  {
   "cell_type": "markdown",
   "id": "8685278c-725f-4529-8a53-ac36c6c6777a",
   "metadata": {},
   "source": [
    "## 시도 1"
   ]
  },
  {
   "cell_type": "code",
   "execution_count": 238,
   "id": "e49c4ffa-cad7-43ce-ba09-a45cac956a3a",
   "metadata": {},
   "outputs": [
    {
     "data": {
      "text/html": [
       "<style>\n",
       ".list-inline {list-style: none; margin:0; padding: 0}\n",
       ".list-inline>li {display: inline-block}\n",
       ".list-inline>li:not(:last-child)::after {content: \"\\00b7\"; padding: 0 .5ex}\n",
       "</style>\n",
       "<ol class=list-inline><li>120.592204323053</li><li>120.592204323053</li></ol>\n"
      ],
      "text/latex": [
       "\\begin{enumerate*}\n",
       "\\item 120.592204323053\n",
       "\\item 120.592204323053\n",
       "\\end{enumerate*}\n"
      ],
      "text/markdown": [
       "1. 120.592204323053\n",
       "2. 120.592204323053\n",
       "\n",
       "\n"
      ],
      "text/plain": [
       "[1] 120.5922 120.5922"
      ]
     },
     "metadata": {},
     "output_type": "display_data"
    },
    {
     "data": {
      "text/html": [
       "<style>\n",
       ".list-inline {list-style: none; margin:0; padding: 0}\n",
       ".list-inline>li {display: inline-block}\n",
       ".list-inline>li:not(:last-child)::after {content: \"\\00b7\"; padding: 0 .5ex}\n",
       "</style>\n",
       "<ol class=list-inline><li>20.3486378566787</li><li>4.11141866723293</li></ol>\n"
      ],
      "text/latex": [
       "\\begin{enumerate*}\n",
       "\\item 20.3486378566787\n",
       "\\item 4.11141866723293\n",
       "\\end{enumerate*}\n"
      ],
      "text/markdown": [
       "1. 20.3486378566787\n",
       "2. 4.11141866723293\n",
       "\n",
       "\n"
      ],
      "text/plain": [
       "[1] 20.348638  4.111419"
      ]
     },
     "metadata": {},
     "output_type": "display_data"
    }
   ],
   "source": [
    "Nrep = 200\n",
    "\n",
    "n = 1000\n",
    "\n",
    "hatb1 <- hatb2 <- c()\n",
    "te1 <- te2 <- c()\n",
    "\n",
    "for (k in 1:Nrep)\n",
    "{\n",
    "x1 = runif(n,-3,3)\n",
    "x2 = x1 + rnorm(n,0,0.01)\n",
    "x3 = x1^2 + rnorm(n,0,0.01)\n",
    "y = 2 + x1 + 2*x2 + 3*x3 + rnorm(n)\n",
    "\n",
    "ind = sample(1:n,500)\n",
    "tx1 = x1[ind]\n",
    "tx2 = x2[ind]\n",
    "tx3 = x3[ind]\n",
    "test_x1 = x1[-ind]\n",
    "test_x2 = x2[-ind]\n",
    "test_x3 = x3[-ind]\n",
    "ty  = y[ind]\n",
    "test_y = y[-ind]\n",
    "\n",
    "M2 = lm(ty~tx1+tx2+tx3)\n",
    "M1 = lm(ty~tx1)\n",
    "\n",
    "hatb1[k] = M2$coefficients[2]\n",
    "hatb2[k] = M1$coefficients[2]\n",
    "\n",
    "te1[k] = mean((test_y - predict(M1,newdata=data.frame(test_x1,test_x2,test_x3)))^2)\n",
    "te2[k] = mean((test_y - predict(M1,newdata=data.frame(test_x1)))^2)\n",
    "}\n",
    "\n",
    "c(mean(te1),mean(te2))\n",
    "c(mean((hatb1-2)^2),mean((hatb2-1)^2))"
   ]
  },
  {
   "cell_type": "markdown",
   "id": "6172f227-fa35-473d-91ce-b73c5d89efbe",
   "metadata": {},
   "source": [
    "---"
   ]
  },
  {
   "cell_type": "markdown",
   "id": "b2f1c467-e50b-47f6-b053-93f710520667",
   "metadata": {},
   "source": [
    "## 시도 2"
   ]
  },
  {
   "cell_type": "code",
   "execution_count": 223,
   "id": "4b9407c6-4459-4243-9200-e12f07e77f63",
   "metadata": {},
   "outputs": [],
   "source": [
    "x1 = runif(500)\n",
    "x2 = x1 + rnorm(500,0,0.01)\n",
    "x3 = x1 + rnorm(500,0,0.1)\n",
    "y1= 3 + x1 + 1.5*x2 + 3.5*x3 + rnorm(500)"
   ]
  },
  {
   "cell_type": "code",
   "execution_count": 224,
   "id": "8f7e2bad-a5e7-492f-8bc6-951cd28e933d",
   "metadata": {},
   "outputs": [
    {
     "data": {
      "text/html": [
       "0.999397955067459"
      ],
      "text/latex": [
       "0.999397955067459"
      ],
      "text/markdown": [
       "0.999397955067459"
      ],
      "text/plain": [
       "[1] 0.999398"
      ]
     },
     "metadata": {},
     "output_type": "display_data"
    },
    {
     "data": {
      "text/html": [
       "0.947206821885553"
      ],
      "text/latex": [
       "0.947206821885553"
      ],
      "text/markdown": [
       "0.947206821885553"
      ],
      "text/plain": [
       "[1] 0.9472068"
      ]
     },
     "metadata": {},
     "output_type": "display_data"
    }
   ],
   "source": [
    "cor(x1,x2)\n",
    "cor(x1,x3)"
   ]
  },
  {
   "cell_type": "markdown",
   "id": "30b8d8ef-3fd4-401c-8a6c-4cf711ef4d7d",
   "metadata": {},
   "source": [
    "높은 상관계수 확인"
   ]
  },
  {
   "cell_type": "code",
   "execution_count": 225,
   "id": "78628715-07dd-472f-a84d-92294c92be8f",
   "metadata": {},
   "outputs": [],
   "source": [
    "M1 = lm(y1~x1)"
   ]
  },
  {
   "cell_type": "code",
   "execution_count": 227,
   "id": "7f1d1038-3dbd-4b91-bd9a-25819a4b8f6c",
   "metadata": {},
   "outputs": [],
   "source": [
    "M2 = lm(y1~x1+x2+x3)"
   ]
  },
  {
   "cell_type": "code",
   "execution_count": 229,
   "id": "fea833d0-a7a0-4c58-b5b7-5e5be6f7dd02",
   "metadata": {},
   "outputs": [
    {
     "data": {
      "text/html": [
       "<style>\n",
       ".dl-inline {width: auto; margin:0; padding: 0}\n",
       ".dl-inline>dt, .dl-inline>dd {float: none; width: auto; display: inline-block}\n",
       ".dl-inline>dt::after {content: \":\\0020\"; padding-right: .5ex}\n",
       ".dl-inline>dt:not(:first-of-type) {padding-left: .5ex}\n",
       "</style><dl class=dl-inline><dt>x1</dt><dd>843.200649128036</dd><dt>x2</dt><dd>831.081926727956</dd><dt>x3</dt><dd>9.73155177017751</dd></dl>\n"
      ],
      "text/latex": [
       "\\begin{description*}\n",
       "\\item[x1] 843.200649128036\n",
       "\\item[x2] 831.081926727956\n",
       "\\item[x3] 9.73155177017751\n",
       "\\end{description*}\n"
      ],
      "text/markdown": [
       "x1\n",
       ":   843.200649128036x2\n",
       ":   831.081926727956x3\n",
       ":   9.73155177017751\n",
       "\n"
      ],
      "text/plain": [
       "        x1         x2         x3 \n",
       "843.200649 831.081927   9.731552 "
      ]
     },
     "metadata": {},
     "output_type": "display_data"
    }
   ],
   "source": [
    "VIF(M2)"
   ]
  },
  {
   "cell_type": "markdown",
   "id": "9fd7a774-3964-4496-a99c-0fa65cb8121c",
   "metadata": {},
   "source": [
    "다중공선성 존재를 가정한 모형의 VIF 10 넘는 모습이었다."
   ]
  },
  {
   "cell_type": "code",
   "execution_count": 230,
   "id": "c843e576-a078-40f2-9372-3faf2379776c",
   "metadata": {},
   "outputs": [
    {
     "data": {
      "text/html": [
       "<style>\n",
       ".dl-inline {width: auto; margin:0; padding: 0}\n",
       ".dl-inline>dt, .dl-inline>dd {float: none; width: auto; display: inline-block}\n",
       ".dl-inline>dt::after {content: \":\\0020\"; padding-right: .5ex}\n",
       ".dl-inline>dt:not(:first-of-type) {padding-left: .5ex}\n",
       "</style><dl class=dl-inline><dt>(Intercept)</dt><dd>3.13908871355663</dd><dt>x1</dt><dd>5.72431221101947</dd></dl>\n"
      ],
      "text/latex": [
       "\\begin{description*}\n",
       "\\item[(Intercept)] 3.13908871355663\n",
       "\\item[x1] 5.72431221101947\n",
       "\\end{description*}\n"
      ],
      "text/markdown": [
       "(Intercept)\n",
       ":   3.13908871355663x1\n",
       ":   5.72431221101947\n",
       "\n"
      ],
      "text/plain": [
       "(Intercept)          x1 \n",
       "   3.139089    5.724312 "
      ]
     },
     "metadata": {},
     "output_type": "display_data"
    }
   ],
   "source": [
    "M1$coefficients"
   ]
  },
  {
   "cell_type": "code",
   "execution_count": 232,
   "id": "9e2543df-d2b3-4510-b9a9-b20a324ad3e8",
   "metadata": {},
   "outputs": [
    {
     "data": {
      "text/html": [
       "<style>\n",
       ".dl-inline {width: auto; margin:0; padding: 0}\n",
       ".dl-inline>dt, .dl-inline>dd {float: none; width: auto; display: inline-block}\n",
       ".dl-inline>dt::after {content: \":\\0020\"; padding-right: .5ex}\n",
       ".dl-inline>dt:not(:first-of-type) {padding-left: .5ex}\n",
       "</style><dl class=dl-inline><dt>(Intercept)</dt><dd>3.15525842033983</dd><dt>x1</dt><dd>-1.18623189027701</dd><dt>x2</dt><dd>3.55249697741275</dd><dt>x3</dt><dd>3.383658856131</dd></dl>\n"
      ],
      "text/latex": [
       "\\begin{description*}\n",
       "\\item[(Intercept)] 3.15525842033983\n",
       "\\item[x1] -1.18623189027701\n",
       "\\item[x2] 3.55249697741275\n",
       "\\item[x3] 3.383658856131\n",
       "\\end{description*}\n"
      ],
      "text/markdown": [
       "(Intercept)\n",
       ":   3.15525842033983x1\n",
       ":   -1.18623189027701x2\n",
       ":   3.55249697741275x3\n",
       ":   3.383658856131\n",
       "\n"
      ],
      "text/plain": [
       "(Intercept)          x1          x2          x3 \n",
       "   3.155258   -1.186232    3.552497    3.383659 "
      ]
     },
     "metadata": {},
     "output_type": "display_data"
    }
   ],
   "source": [
    "M2$coefficients"
   ]
  },
  {
   "cell_type": "code",
   "execution_count": 233,
   "id": "077314e1-c894-402b-b104-d7fa487854e4",
   "metadata": {},
   "outputs": [
    {
     "data": {
      "text/html": [
       "1.11142741872991"
      ],
      "text/latex": [
       "1.11142741872991"
      ],
      "text/markdown": [
       "1.11142741872991"
      ],
      "text/plain": [
       "[1] 1.111427"
      ]
     },
     "metadata": {},
     "output_type": "display_data"
    }
   ],
   "source": [
    "mean((y1-predict(M1,data.frame(x1)))^2)"
   ]
  },
  {
   "cell_type": "code",
   "execution_count": 235,
   "id": "f534b02b-7d66-4485-9c67-2340149d0b50",
   "metadata": {},
   "outputs": [
    {
     "data": {
      "text/html": [
       "1.00320582298134"
      ],
      "text/latex": [
       "1.00320582298134"
      ],
      "text/markdown": [
       "1.00320582298134"
      ],
      "text/plain": [
       "[1] 1.003206"
      ]
     },
     "metadata": {},
     "output_type": "display_data"
    }
   ],
   "source": [
    "mean((y1-predict(M2,data.frame(x1,x2,x3)))^2)"
   ]
  },
  {
   "cell_type": "markdown",
   "id": "ba55d48f-7c01-484d-a443-f6211bac7e2a",
   "metadata": {},
   "source": [
    "다중공선성을 제거한 모형이 다중공선성이 있는 모형보다 제곱평균오차가 컸다."
   ]
  },
  {
   "cell_type": "markdown",
   "id": "12881b23-d873-4a50-a14a-a8047e9023af",
   "metadata": {},
   "source": [
    "반복"
   ]
  },
  {
   "cell_type": "code",
   "execution_count": 254,
   "id": "2ae7f6ad-a678-484e-ae81-172b92838359",
   "metadata": {},
   "outputs": [
    {
     "name": "stdout",
     "output_type": "stream",
     "text": [
      "[1] 7.007346\n",
      "[1] 7.016345\n"
     ]
    }
   ],
   "source": [
    "result1 = c()\n",
    "result2 = c()\n",
    "for (i in 1:1000){\n",
    "    x1 = runif(500)\n",
    "    x2 = x1 + rnorm(500,0,0.01)\n",
    "    x3 = x1 + rnorm(500,0,0.01)\n",
    "    y1= 3 + x1 + 1.5*x2 + 3.5*x3 + rnorm(500)\n",
    "    train_x1 = x1[1:250]\n",
    "    train_x2 = x2[1:250]\n",
    "    train_x3 = x3[1:250]\n",
    "    train_y1 = y1[1:250]\n",
    "    test_x1 = x1[251:500]\n",
    "    test_x2 = x2[251:500]\n",
    "    test_x3 = x3[251:500]\n",
    "    test_y1 = y1[251:500]\n",
    "    M1 = lm(train_y1~train_x1)\n",
    "    M2 = lm(train_y1~train_x1+train_x2+train_x3)\n",
    "    result1[i]=mean((test_y1-predict(M1,data.frame(test_x1)))^2)\n",
    "    result2[i]=mean((test_y1-predict(M2,data.frame(test_x1,test_x2,test_x3)))^2)\n",
    "    }\n",
    "print(mean(result1));print(mean(result2))"
   ]
  },
  {
   "cell_type": "markdown",
   "id": "b7685a18-e54e-430b-b411-fa6810ee1589",
   "metadata": {},
   "source": [
    "다중공선성이 있는 모형과 다중공선성이 없는 모형의 MSE가 비슷한 값이 나왔다."
   ]
  },
  {
   "cell_type": "markdown",
   "id": "5620018d-f99a-487b-a3d0-cf920b484a38",
   "metadata": {},
   "source": [
    "---"
   ]
  },
  {
   "cell_type": "markdown",
   "id": "fb14ebd5-7778-4131-af28-ce5aa90fe1c7",
   "metadata": {},
   "source": [
    "## 시도 3"
   ]
  },
  {
   "cell_type": "code",
   "execution_count": 259,
   "id": "c601d447-7fed-4143-913d-e1f821547dd0",
   "metadata": {},
   "outputs": [
    {
     "name": "stdout",
     "output_type": "stream",
     "text": [
      "[1] 6.682649\n",
      "[1] 6.927406\n"
     ]
    }
   ],
   "source": [
    "result1 = c()\n",
    "result2 = c()\n",
    "for (i in 1:1000){\n",
    "    x1 = runif(1000)\n",
    "    x2 = x1^2 + rnorm(1000,0,0.01)\n",
    "    x3 = x1^3 + rnorm(1000,0,0.01)\n",
    "    y1= 3 + x1 + 2*x2 + 3*x3 + rnorm(1000)\n",
    "    train_x1 = x1[1:500]\n",
    "    train_x2 = x2[1:500]\n",
    "    train_x3 = x3[1:500]\n",
    "    train_y1 = y1[1:500]\n",
    "    test_x1 = x1[501:1000]\n",
    "    test_x2 = x2[501:1000]\n",
    "    test_x3 = x3[501:1000]\n",
    "    test_y1 = y1[501:1000]\n",
    "    M1 = lm(train_y1~train_x1)\n",
    "    M2 = lm(train_y1~train_x1+train_x2+train_x3)\n",
    "    result1[i]=mean((test_y1-predict(M1,data.frame(test_x1)))^2)\n",
    "    result2[i]=mean((test_y1-predict(M2,data.frame(test_x1,test_x2,test_x3)))^2)\n",
    "    }\n",
    "print(mean(result1));print(mean(result2))"
   ]
  },
  {
   "cell_type": "markdown",
   "id": "6e821d01-b15c-4a2c-a6a5-ecba0577c23e",
   "metadata": {},
   "source": [
    "---"
   ]
  },
  {
   "cell_type": "markdown",
   "id": "db88b100-5a85-4880-a31c-7c829467e3fb",
   "metadata": {
    "tags": []
   },
   "source": [
    "## 시도4"
   ]
  },
  {
   "cell_type": "code",
   "execution_count": 260,
   "id": "e242426d-0218-4983-bbeb-b709a06f350f",
   "metadata": {},
   "outputs": [
    {
     "name": "stdout",
     "output_type": "stream",
     "text": [
      "[1] 5.660808\n",
      "[1] 5.897727\n"
     ]
    }
   ],
   "source": [
    "result1 = c()\n",
    "result2 = c()\n",
    "for (i in 1:1000){\n",
    "    x1 = runif(1000)\n",
    "    x2 = x1^2 + rnorm(1000,0,0.01)\n",
    "    x3 = x1^3 + rnorm(1000,0,0.01)\n",
    "    y1= 3 + x1 + 2*x2 + 3*x3 + rnorm(1000,0,0.1)\n",
    "    train_x1 = x1[1:500]\n",
    "    train_x2 = x2[1:500]\n",
    "    train_x3 = x3[1:500]\n",
    "    train_y1 = y1[1:500]\n",
    "    test_x1 = x1[501:1000]\n",
    "    test_x2 = x2[501:1000]\n",
    "    test_x3 = x3[501:1000]\n",
    "    test_y1 = y1[501:1000]\n",
    "    M1 = lm(train_y1~train_x1)\n",
    "    M2 = lm(train_y1~train_x1+train_x2+train_x3)\n",
    "    result1[i]=mean((test_y1-predict(M1,data.frame(test_x1)))^2)\n",
    "    result2[i]=mean((test_y1-predict(M2,data.frame(test_x1,test_x2,test_x3)))^2)\n",
    "    }\n",
    "print(mean(result1));print(mean(result2))"
   ]
  },
  {
   "cell_type": "markdown",
   "id": "b9397147-070e-4674-957f-bb68e05fe067",
   "metadata": {},
   "source": [
    "---"
   ]
  },
  {
   "cell_type": "markdown",
   "id": "d59c8608-e5ed-4500-8ab4-241a8eec6e27",
   "metadata": {},
   "source": [
    "## 시도 5"
   ]
  },
  {
   "cell_type": "code",
   "execution_count": 262,
   "id": "18883a5a-da39-4fc9-b0c8-81a46ee6a78f",
   "metadata": {},
   "outputs": [
    {
     "name": "stdout",
     "output_type": "stream",
     "text": [
      "[1] 281.1676\n",
      "[1] 281.1806\n"
     ]
    }
   ],
   "source": [
    "result1 = c()\n",
    "result2 = c()\n",
    "for (i in 1:1000){\n",
    "    x1 = runif(1000)\n",
    "    x2 = x1*2 + rnorm(1000,0,0.01)\n",
    "    x3 = x1*3 + rnorm(1000,0,0.01)\n",
    "    y1= 3 + x1 + 5*x2 + 10*x3 + rnorm(1000)\n",
    "    train_x1 = x1[1:500]\n",
    "    train_x2 = x2[1:500]\n",
    "    train_x3 = x3[1:500]\n",
    "    train_y1 = y1[1:500]\n",
    "    test_x1 = x1[501:1000]\n",
    "    test_x2 = x2[501:1000]\n",
    "    test_x3 = x3[501:1000]\n",
    "    test_y1 = y1[501:1000]\n",
    "    M1 = lm(train_y1~train_x1)\n",
    "    M2 = lm(train_y1~train_x1+train_x2+train_x3)\n",
    "    result1[i]=mean((test_y1-predict(M1,data.frame(test_x1)))^2)\n",
    "    result2[i]=mean((test_y1-predict(M2,data.frame(test_x1,test_x2,test_x3)))^2)\n",
    "    }\n",
    "print(mean(result1));print(mean(result2))"
   ]
  },
  {
   "cell_type": "markdown",
   "id": "49bc2d86-6812-4713-b9eb-81d05d9991d5",
   "metadata": {},
   "source": [
    "---"
   ]
  },
  {
   "cell_type": "markdown",
   "id": "a04c6f27-315d-4a47-8bc1-5a31c0eea2b8",
   "metadata": {
    "tags": []
   },
   "source": [
    "## 시도 5"
   ]
  },
  {
   "cell_type": "code",
   "execution_count": 263,
   "id": "493a5fbc-00be-46a1-9444-69770fe47717",
   "metadata": {},
   "outputs": [
    {
     "name": "stdout",
     "output_type": "stream",
     "text": [
      "[1] 280.2357\n",
      "[1] 280.2495\n"
     ]
    }
   ],
   "source": [
    "result1 = c()\n",
    "result2 = c()\n",
    "for (i in 1:1000){\n",
    "    x1 = runif(1000)\n",
    "    x2 = x1*2 + rnorm(1000,0,0.01)\n",
    "    x3 = x1*3 + rnorm(1000,0,0.01)\n",
    "    y1= 3 + x1 + 5*x2 + 10*x3 + rnorm(1000,0,0.01)\n",
    "    train_x1 = x1[1:500]\n",
    "    train_x2 = x2[1:500]\n",
    "    train_x3 = x3[1:500]\n",
    "    train_y1 = y1[1:500]\n",
    "    test_x1 = x1[501:1000]\n",
    "    test_x2 = x2[501:1000]\n",
    "    test_x3 = x3[501:1000]\n",
    "    test_y1 = y1[501:1000]\n",
    "    M1 = lm(train_y1~train_x1)\n",
    "    M2 = lm(train_y1~train_x1+train_x2+train_x3)\n",
    "    result1[i]=mean((test_y1-predict(M1,data.frame(test_x1)))^2)\n",
    "    result2[i]=mean((test_y1-predict(M2,data.frame(test_x1,test_x2,test_x3)))^2)\n",
    "    }\n",
    "print(mean(result1));print(mean(result2))"
   ]
  },
  {
   "cell_type": "markdown",
   "id": "cb7a1f3b-a8a4-4f0a-a77b-0673baf09720",
   "metadata": {},
   "source": [
    "---"
   ]
  },
  {
   "cell_type": "markdown",
   "id": "605956fa-674f-4814-aa7c-7eda334aa8dc",
   "metadata": {
    "tags": []
   },
   "source": [
    "## 시도 6"
   ]
  },
  {
   "cell_type": "code",
   "execution_count": 268,
   "id": "ca2ae1e1-3d5e-4c55-b51a-bb3264dea38b",
   "metadata": {},
   "outputs": [
    {
     "name": "stdout",
     "output_type": "stream",
     "text": [
      "[1] 1705.596\n",
      "[1] 1705.619\n"
     ]
    }
   ],
   "source": [
    "result1 = c()\n",
    "result2 = c()\n",
    "for (i in 1:1000){\n",
    "    x1 = runif(1000)\n",
    "    x2 = x1*2 + rnorm(1000,0,0.01)\n",
    "    x3 = x1*3 + rnorm(1000,0,0.01)\n",
    "    x4 = x1*4 + rnorm(1000,0,0.01)\n",
    "    y1= 3 + x1 + 5*x2 + 10*x3 + 15*x4 + rnorm(1000)\n",
    "    train_x1 = x1[1:500]\n",
    "    train_x2 = x2[1:500]\n",
    "    train_x3 = x3[1:500]\n",
    "    train_x4 = x4[1:500]\n",
    "    train_y1 = y1[1:500]\n",
    "    test_x1 = x1[501:1000]\n",
    "    test_x2 = x2[501:1000]\n",
    "    test_x3 = x3[501:1000]\n",
    "    test_x4 = x4[501:1000]\n",
    "    test_y1 = y1[501:1000]\n",
    "    M1 = lm(train_y1~train_x1)\n",
    "    M2 = lm(train_y1~train_x1+train_x2+train_x3++train_x4)\n",
    "    result1[i]=mean((test_y1-predict(M1,data.frame(test_x1)))^2)\n",
    "    result2[i]=mean((test_y1-predict(M2,data.frame(test_x1,test_x2,test_x3,test_x4)))^2)\n",
    "    }\n",
    "print(mean(result1));print(mean(result2))"
   ]
  },
  {
   "cell_type": "markdown",
   "id": "a5f2d3ff-081e-4140-8b31-203e4c2e4138",
   "metadata": {},
   "source": [
    "---"
   ]
  },
  {
   "cell_type": "markdown",
   "id": "c2ccab59-4d05-44a2-b305-def92f47a8d7",
   "metadata": {
    "tags": []
   },
   "source": [
    "## 시도 7"
   ]
  },
  {
   "cell_type": "code",
   "execution_count": 289,
   "id": "323518dc-faf5-44a3-8e1f-e537c2c732d1",
   "metadata": {},
   "outputs": [
    {
     "name": "stdout",
     "output_type": "stream",
     "text": [
      "[1] 6750.782\n",
      "[1] 6750.758\n",
      "[1] 6750.782\n",
      "[1] 6750.802\n",
      "[1] 6750.812\n"
     ]
    }
   ],
   "source": [
    "result1 = c()\n",
    "result2 = c()\n",
    "result2_2 = c()\n",
    "for (i in 1:1000){\n",
    "    x1 = runif(1000)\n",
    "    x2 = x1*2 + rnorm(1000,0,0.01)\n",
    "    x3 = x1*3 + rnorm(1000,0,0.01)\n",
    "    x4 = x1*4 + rnorm(1000,0,0.01)\n",
    "    x5 = x1*5 + rnorm(1000,0,0.01)\n",
    "    y1= 3 + x1 + 5*x2 + 10*x3 + 15*x4 + 20*x5 + rnorm(1000)\n",
    "    train_x1 = x1[1:500]\n",
    "    train_x2 = x2[1:500]\n",
    "    train_x3 = x3[1:500]\n",
    "    train_x4 = x4[1:500]\n",
    "    train_x5 = x5[1:500]\n",
    "    train_y1 = y1[1:500]\n",
    "    test_x1 = x1[501:1000]\n",
    "    test_x2 = x2[501:1000]\n",
    "    test_x3 = x3[501:1000]\n",
    "    test_x4 = x4[501:1000]\n",
    "    test_x5 = x5[501:1000]\n",
    "    test_y1 = y1[501:1000]\n",
    "    M1 = lm(train_y1~train_x1)\n",
    "    M2 = lm(train_y1~train_x1+train_x2)\n",
    "    M2_2 = lm(train_y1~train_x1+train_x2+train_x3)\n",
    "    M2_3 = lm(train_y1~train_x1+train_x2+train_x3+train_x4)\n",
    "    M2_4 = lm(train_y1~train_x1+train_x2+train_x3+train_x4+train_x5)\n",
    "    result1[i]=mean((test_y1-predict(M1,data.frame(test_x1)))^2)\n",
    "    result2[i]=mean((test_y1-predict(M2,data.frame(test_x1,test_x2,test_x3)))^2)\n",
    "    result2_2[i]=mean((test_y1-predict(M2_2,data.frame(test_x1,test_x2,test_x3)))^2)\n",
    "    result2_3[i]=mean((test_y1-predict(M2_3,data.frame(test_x1,test_x2,test_x3,test_x4)))^2)\n",
    "    result2_4[i]=mean((test_y1-predict(M2_4,data.frame(test_x1,test_x2,test_x3,test_x4,test_x5)))^2)\n",
    "    }\n",
    "print(mean(result1));print(mean(result2));print(mean(result2_2));print(mean(result2_3));print(mean(result2_4))"
   ]
  },
  {
   "cell_type": "markdown",
   "id": "6139d9d0-b6b0-42b7-8536-8df5829cb0be",
   "metadata": {},
   "source": [
    "---"
   ]
  },
  {
   "cell_type": "markdown",
   "id": "3e421e7c-8a95-4e38-baec-db69b5f4c172",
   "metadata": {
    "tags": []
   },
   "source": [
    "## 시도 7"
   ]
  },
  {
   "cell_type": "code",
   "execution_count": 288,
   "id": "13774235-54f1-4e48-acc2-bd754fcee64a",
   "metadata": {},
   "outputs": [
    {
     "name": "stdout",
     "output_type": "stream",
     "text": [
      "[1] 14.05266\n",
      "[1] 15.13615\n",
      "[1] 15.221\n",
      "[1] 15.24096\n",
      "[1] 15.24595\n"
     ]
    }
   ],
   "source": [
    "result1 = c()\n",
    "result2 = c()\n",
    "result2_2 = c()\n",
    "result2_3 = c()\n",
    "result2_4 = c()\n",
    "for (i in 1:1000){\n",
    "    x1 = runif(1000)\n",
    "    x2 = x1^2 + rnorm(1000,0,0.01)\n",
    "    x3 = x1^3 + rnorm(1000,0,0.01)\n",
    "    x4 = x1^4 + rnorm(1000,0,0.01)\n",
    "    x5 = x1^5 + rnorm(1000,0,0.01)\n",
    "    y1= 3 + x1 + 1.5*x2 + 2*x3 + 2.5*x4 + 3*x5 + rnorm(1000)\n",
    "    train_x1 = x1[1:500]\n",
    "    train_x2 = x2[1:500]\n",
    "    train_x3 = x3[1:500]\n",
    "    train_x4 = x4[1:500]\n",
    "    train_x5 = x5[1:500]\n",
    "    train_y1 = y1[1:500]\n",
    "    test_x1 = x1[501:1000]\n",
    "    test_x2 = x2[501:1000]\n",
    "    test_x3 = x3[501:1000]\n",
    "    test_x4 = x4[501:1000]\n",
    "    test_x5 = x5[501:1000]\n",
    "    test_y1 = y1[501:1000]\n",
    "    M1 = lm(train_y1~train_x1)\n",
    "    M2 = lm(train_y1~train_x1+train_x2)\n",
    "    M2_2 = lm(train_y1~train_x1+train_x2+train_x3)\n",
    "    M2_3 = lm(train_y1~train_x1+train_x2+train_x3+train_x4)\n",
    "    M2_4 = lm(train_y1~train_x1+train_x2+train_x3+train_x4+train_x5)\n",
    "    result1[i]=mean((test_y1-predict(M1,data.frame(test_x1)))^2)\n",
    "    result2[i]=mean((test_y1-predict(M2,data.frame(test_x1,test_x2)))^2)\n",
    "    result2_2[i]=mean((test_y1-predict(M2_2,data.frame(test_x1,test_x2,test_x3)))^2)\n",
    "    result2_3[i]=mean((test_y1-predict(M2_3,data.frame(test_x1,test_x2,test_x3,test_x4)))^2)\n",
    "    result2_4[i]=mean((test_y1-predict(M2_4,data.frame(test_x1,test_x2,test_x3,test_x4,test_x5)))^2)  \n",
    "    }\n",
    "print(mean(result1));print(mean(result2));print(mean(result2_2));print(mean(result2_3));print(mean(result2_4))"
   ]
  },
  {
   "cell_type": "code",
   "execution_count": null,
   "id": "c17fb2a0-3aa1-48f9-98ed-729204b96bdd",
   "metadata": {},
   "outputs": [],
   "source": []
  }
 ],
 "metadata": {
  "kernelspec": {
   "display_name": "R",
   "language": "R",
   "name": "ir"
  },
  "language_info": {
   "codemirror_mode": "r",
   "file_extension": ".r",
   "mimetype": "text/x-r-source",
   "name": "R",
   "pygments_lexer": "r",
   "version": "4.1.2"
  }
 },
 "nbformat": 4,
 "nbformat_minor": 5
}
