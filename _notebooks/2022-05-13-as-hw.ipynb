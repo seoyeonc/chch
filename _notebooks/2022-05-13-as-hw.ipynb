{
 "cells": [
  {
   "cell_type": "markdown",
   "id": "1274533e-2324-47fa-883b-da07e1204247",
   "metadata": {
    "id": "cac470df-29e7-4148-9bbd-d8b9a32fa570",
    "tags": []
   },
   "source": [
    "# 응용통계학 과제\n",
    "> 다중공선성\n",
    "\n",
    "- toc:true\n",
    "- branch: master\n",
    "- badges: true\n",
    "- comments: false\n",
    "- author: 최서연\n",
    "- categories: [Applied Statistics, 다중공선성]"
   ]
  },
  {
   "cell_type": "markdown",
   "id": "93a9c948-0d19-44c8-9469-31be39080adc",
   "metadata": {},
   "source": [
    "# 응용통계학 과제 20220512\n",
    "- 202150754 최서연\n",
    "> 다중공선성 "
   ]
  },
  {
   "cell_type": "markdown",
   "id": "523b9ded-5195-40f5-b055-5508851aa981",
   "metadata": {},
   "source": [
    "\n",
    "다중공선성이 존재하는 상황을 가정하고 \n",
    "\n",
    " \n",
    "\n",
    "다중공선성을 어느 정도 제거한 모형 (M1)과 다중공선성이 내재되어 있는 모형 (M2) 을 고려하여\n",
    "\n",
    " \n",
    "\n",
    "두 모형의 예측력을 모의실험을 통해 비교하여라,\n",
    "\n",
    " \n",
    "\n",
    "단, 실험은 여러 번 반복하여 평균적인 결과를  report하되 설명변수의 개수는 3개 이상으로 설정하여라.\n",
    "\n",
    " \n",
    "\n",
    "이미 존재하는 문서들을 참고하거나 재현해도 무방함.\n",
    "\n",
    " \n",
    "\n",
    "(첨부된 문서 참고)"
   ]
  },
  {
   "cell_type": "code",
   "execution_count": 1,
   "id": "8f64ee8d-0948-46ff-9188-59053b7a2273",
   "metadata": {},
   "outputs": [
    {
     "data": {
      "text/html": [
       "<style>\n",
       ".list-inline {list-style: none; margin:0; padding: 0}\n",
       ".list-inline>li {display: inline-block}\n",
       ".list-inline>li:not(:last-child)::after {content: \"\\00b7\"; padding: 0 .5ex}\n",
       "</style>\n",
       "<ol class=list-inline><li>55.0383388997727</li><li>55.0360914185699</li></ol>\n"
      ],
      "text/latex": [
       "\\begin{enumerate*}\n",
       "\\item 55.0383388997727\n",
       "\\item 55.0360914185699\n",
       "\\end{enumerate*}\n"
      ],
      "text/markdown": [
       "1. 55.0383388997727\n",
       "2. 55.0360914185699\n",
       "\n",
       "\n"
      ],
      "text/plain": [
       "[1] 55.03834 55.03609"
      ]
     },
     "metadata": {},
     "output_type": "display_data"
    },
    {
     "data": {
      "text/html": [
       "<style>\n",
       ".list-inline {list-style: none; margin:0; padding: 0}\n",
       ".list-inline>li {display: inline-block}\n",
       ".list-inline>li:not(:last-child)::after {content: \"\\00b7\"; padding: 0 .5ex}\n",
       "</style>\n",
       "<ol class=list-inline><li>23.3087271671364</li><li>1.00460057563712</li></ol>\n"
      ],
      "text/latex": [
       "\\begin{enumerate*}\n",
       "\\item 23.3087271671364\n",
       "\\item 1.00460057563712\n",
       "\\end{enumerate*}\n"
      ],
      "text/markdown": [
       "1. 23.3087271671364\n",
       "2. 1.00460057563712\n",
       "\n",
       "\n"
      ],
      "text/plain": [
       "[1] 23.308727  1.004601"
      ]
     },
     "metadata": {},
     "output_type": "display_data"
    }
   ],
   "source": [
    "Nrep = 200\n",
    "\n",
    "n = 1000\n",
    "\n",
    "hatb1 <- hatb2 <- c()\n",
    "te1 <- te2 <- c()\n",
    "\n",
    "for (k in 1:Nrep)\n",
    "{\n",
    "x1 = runif(n,-3,3)\n",
    "x2 = x1 + rnorm(n,0,0.01)\n",
    "#X = model.matrix(~ x1 + x2)\n",
    "#solve(t(X)%*%X)\n",
    "y = 2 + x1 + 2*x2 + rnorm(n)\n",
    "\n",
    "ind = sample(1:n,500)\n",
    "tx1 = x1[ind]\n",
    "tx2 = x2[ind]\n",
    "test_x1 = x1[-ind]\n",
    "test_x2 = x2[-ind]\n",
    "ty  = y[ind]\n",
    "test_y = y[-ind]\n",
    "\n",
    "fit1 = lm(ty~tx1+tx2)\n",
    "fit2 = lm(ty~tx1)\n",
    "\n",
    "hatb1[k] = fit1$coefficients[2]\n",
    "hatb2[k] = fit2$coefficients[2]\n",
    "\n",
    "te1[k] = mean((test_y - predict(fit1,newdata=data.frame(test_x1,test_x2)))^2)\n",
    "te2[k] = mean((test_y - predict(fit2,newdata=data.frame(test_x1)))^2)\n",
    "#summary(lm(y~x1+x2))\n",
    "#print(k)\n",
    "}\n",
    "\n",
    "c(mean(te1),mean(te2))\n",
    "c(mean((hatb1-1)^2),mean((hatb2-2)^2))"
   ]
  },
  {
   "cell_type": "markdown",
   "id": "86df5d1c-73c9-4211-b42e-d951f4b81e2a",
   "metadata": {},
   "source": [
    "---"
   ]
  },
  {
   "cell_type": "code",
   "execution_count": 35,
   "id": "47335c43-cb6f-4456-8e00-dcc50ec8d495",
   "metadata": {},
   "outputs": [],
   "source": [
    "library(regclass)"
   ]
  },
  {
   "cell_type": "code",
   "execution_count": 36,
   "id": "d15a431b-beb3-4355-9e54-e41af62d9e42",
   "metadata": {},
   "outputs": [],
   "source": [
    "library(car)"
   ]
  },
  {
   "cell_type": "markdown",
   "id": "ff5c7bc5-a3d2-43e4-806f-a6086e109cb9",
   "metadata": {},
   "source": [
    "---"
   ]
  },
  {
   "cell_type": "markdown",
   "id": "8685278c-725f-4529-8a53-ac36c6c6777a",
   "metadata": {},
   "source": [
    "## 시도 1"
   ]
  },
  {
   "cell_type": "code",
   "execution_count": 4,
   "id": "e49c4ffa-cad7-43ce-ba09-a45cac956a3a",
   "metadata": {},
   "outputs": [
    {
     "data": {
      "text/html": [
       "<style>\n",
       ".list-inline {list-style: none; margin:0; padding: 0}\n",
       ".list-inline>li {display: inline-block}\n",
       ".list-inline>li:not(:last-child)::after {content: \"\\00b7\"; padding: 0 .5ex}\n",
       "</style>\n",
       "<ol class=list-inline><li>120.706759195379</li><li>120.706759195379</li></ol>\n"
      ],
      "text/latex": [
       "\\begin{enumerate*}\n",
       "\\item 120.706759195379\n",
       "\\item 120.706759195379\n",
       "\\end{enumerate*}\n"
      ],
      "text/markdown": [
       "1. 120.706759195379\n",
       "2. 120.706759195379\n",
       "\n",
       "\n"
      ],
      "text/plain": [
       "[1] 120.7068 120.7068"
      ]
     },
     "metadata": {},
     "output_type": "display_data"
    },
    {
     "data": {
      "text/html": [
       "<style>\n",
       ".list-inline {list-style: none; margin:0; padding: 0}\n",
       ".list-inline>li {display: inline-block}\n",
       ".list-inline>li:not(:last-child)::after {content: \"\\00b7\"; padding: 0 .5ex}\n",
       "</style>\n",
       "<ol class=list-inline><li>19.0165546979099</li><li>4.16295517171254</li></ol>\n"
      ],
      "text/latex": [
       "\\begin{enumerate*}\n",
       "\\item 19.0165546979099\n",
       "\\item 4.16295517171254\n",
       "\\end{enumerate*}\n"
      ],
      "text/markdown": [
       "1. 19.0165546979099\n",
       "2. 4.16295517171254\n",
       "\n",
       "\n"
      ],
      "text/plain": [
       "[1] 19.016555  4.162955"
      ]
     },
     "metadata": {},
     "output_type": "display_data"
    }
   ],
   "source": [
    "Nrep = 200\n",
    "\n",
    "n = 1000\n",
    "\n",
    "hatb1 <- hatb2 <- c()\n",
    "te1 <- te2 <- c()\n",
    "\n",
    "for (k in 1:Nrep)\n",
    "{\n",
    "x1 = runif(n,-3,3)\n",
    "x2 = x1 + rnorm(n,0,0.01)\n",
    "x3 = x1^2 + rnorm(n,0,0.01)\n",
    "y = 2 + x1 + 2*x2 + 3*x3 + rnorm(n)\n",
    "\n",
    "ind = sample(1:n,500)\n",
    "tx1 = x1[ind]\n",
    "tx2 = x2[ind]\n",
    "tx3 = x3[ind]\n",
    "test_x1 = x1[-ind]\n",
    "test_x2 = x2[-ind]\n",
    "test_x3 = x3[-ind]\n",
    "ty  = y[ind]\n",
    "test_y = y[-ind]\n",
    "\n",
    "M2 = lm(ty~tx1+tx2+tx3)\n",
    "M1 = lm(ty~tx1)\n",
    "\n",
    "hatb1[k] = M2$coefficients[2]\n",
    "hatb2[k] = M1$coefficients[2]\n",
    "\n",
    "te1[k] = mean((test_y - predict(M1,newdata=data.frame(test_x1,test_x2,test_x3)))^2)\n",
    "te2[k] = mean((test_y - predict(M1,newdata=data.frame(test_x1)))^2)\n",
    "}\n",
    "\n",
    "c(mean(te1),mean(te2))\n",
    "c(mean((hatb1-2)^2),mean((hatb2-1)^2))"
   ]
  },
  {
   "cell_type": "markdown",
   "id": "6172f227-fa35-473d-91ce-b73c5d89efbe",
   "metadata": {},
   "source": [
    "---"
   ]
  },
  {
   "cell_type": "markdown",
   "id": "b2f1c467-e50b-47f6-b053-93f710520667",
   "metadata": {},
   "source": [
    "## 시도 2"
   ]
  },
  {
   "cell_type": "markdown",
   "id": "ecdad398-80d9-4336-b37d-cf2eef1c1062",
   "metadata": {},
   "source": [
    "- $y_1=3+x_1+1.5x_2+3.5x_3+\\epsilon$\n",
    "  - $x_2=x_1+\\epsilon$\n",
    "  - $x_3=x_1+\\epsilon$\n",
    "- 1000번 반복\n",
    "- 500개 데이터"
   ]
  },
  {
   "cell_type": "code",
   "execution_count": 5,
   "id": "4b9407c6-4459-4243-9200-e12f07e77f63",
   "metadata": {},
   "outputs": [],
   "source": [
    "x1 = runif(500)\n",
    "x2 = x1 + rnorm(500,0,0.01)\n",
    "x3 = x1 + rnorm(500,0,0.1)\n",
    "y1= 3 + x1 + 1.5*x2 + 3.5*x3 + rnorm(500)"
   ]
  },
  {
   "cell_type": "code",
   "execution_count": 6,
   "id": "8f7e2bad-a5e7-492f-8bc6-951cd28e933d",
   "metadata": {},
   "outputs": [
    {
     "data": {
      "text/html": [
       "0.999394817060633"
      ],
      "text/latex": [
       "0.999394817060633"
      ],
      "text/markdown": [
       "0.999394817060633"
      ],
      "text/plain": [
       "[1] 0.9993948"
      ]
     },
     "metadata": {},
     "output_type": "display_data"
    },
    {
     "data": {
      "text/html": [
       "0.948251870423055"
      ],
      "text/latex": [
       "0.948251870423055"
      ],
      "text/markdown": [
       "0.948251870423055"
      ],
      "text/plain": [
       "[1] 0.9482519"
      ]
     },
     "metadata": {},
     "output_type": "display_data"
    }
   ],
   "source": [
    "cor(x1,x2)\n",
    "cor(x1,x3)"
   ]
  },
  {
   "cell_type": "markdown",
   "id": "30b8d8ef-3fd4-401c-8a6c-4cf711ef4d7d",
   "metadata": {},
   "source": [
    "높은 상관계수 확인"
   ]
  },
  {
   "cell_type": "code",
   "execution_count": 7,
   "id": "78628715-07dd-472f-a84d-92294c92be8f",
   "metadata": {},
   "outputs": [],
   "source": [
    "M1 = lm(y1~x1)"
   ]
  },
  {
   "cell_type": "code",
   "execution_count": 8,
   "id": "7f1d1038-3dbd-4b91-bd9a-25819a4b8f6c",
   "metadata": {},
   "outputs": [],
   "source": [
    "M2 = lm(y1~x1+x2+x3)"
   ]
  },
  {
   "cell_type": "code",
   "execution_count": 9,
   "id": "fea833d0-a7a0-4c58-b5b7-5e5be6f7dd02",
   "metadata": {},
   "outputs": [
    {
     "data": {
      "text/html": [
       "<style>\n",
       ".dl-inline {width: auto; margin:0; padding: 0}\n",
       ".dl-inline>dt, .dl-inline>dd {float: none; width: auto; display: inline-block}\n",
       ".dl-inline>dt::after {content: \":\\0020\"; padding-right: .5ex}\n",
       ".dl-inline>dt:not(:first-of-type) {padding-left: .5ex}\n",
       "</style><dl class=dl-inline><dt>x1</dt><dd>833.634174212119</dd><dt>x2</dt><dd>826.540055814332</dd><dt>x3</dt><dd>9.91994775238591</dd></dl>\n"
      ],
      "text/latex": [
       "\\begin{description*}\n",
       "\\item[x1] 833.634174212119\n",
       "\\item[x2] 826.540055814332\n",
       "\\item[x3] 9.91994775238591\n",
       "\\end{description*}\n"
      ],
      "text/markdown": [
       "x1\n",
       ":   833.634174212119x2\n",
       ":   826.540055814332x3\n",
       ":   9.91994775238591\n",
       "\n"
      ],
      "text/plain": [
       "        x1         x2         x3 \n",
       "833.634174 826.540056   9.919948 "
      ]
     },
     "metadata": {},
     "output_type": "display_data"
    }
   ],
   "source": [
    "VIF(M2)"
   ]
  },
  {
   "cell_type": "markdown",
   "id": "9fd7a774-3964-4496-a99c-0fa65cb8121c",
   "metadata": {},
   "source": [
    "다중공선성 존재를 가정한 모형의 VIF 10 넘는 모습이었다."
   ]
  },
  {
   "cell_type": "code",
   "execution_count": 10,
   "id": "c843e576-a078-40f2-9372-3faf2379776c",
   "metadata": {},
   "outputs": [
    {
     "name": "stdout",
     "output_type": "stream",
     "text": [
      "(Intercept)          x1 \n",
      "   3.101744    5.896756 \n"
     ]
    }
   ],
   "source": [
    "print(M1$coefficients)"
   ]
  },
  {
   "cell_type": "code",
   "execution_count": 11,
   "id": "9e2543df-d2b3-4510-b9a9-b20a324ad3e8",
   "metadata": {},
   "outputs": [
    {
     "name": "stdout",
     "output_type": "stream",
     "text": [
      "(Intercept)          x1          x2          x3 \n",
      "  3.1254411   2.3697439  -0.3499881   3.8186590 \n"
     ]
    }
   ],
   "source": [
    "print(M2$coefficients)"
   ]
  },
  {
   "cell_type": "code",
   "execution_count": 12,
   "id": "077314e1-c894-402b-b104-d7fa487854e4",
   "metadata": {},
   "outputs": [
    {
     "data": {
      "text/html": [
       "1.20540745012315"
      ],
      "text/latex": [
       "1.20540745012315"
      ],
      "text/markdown": [
       "1.20540745012315"
      ],
      "text/plain": [
       "[1] 1.205407"
      ]
     },
     "metadata": {},
     "output_type": "display_data"
    }
   ],
   "source": [
    "mean((y1-predict(M1,data.frame(x1)))^2)"
   ]
  },
  {
   "cell_type": "code",
   "execution_count": 13,
   "id": "f534b02b-7d66-4485-9c67-2340149d0b50",
   "metadata": {},
   "outputs": [
    {
     "data": {
      "text/html": [
       "1.05650517407321"
      ],
      "text/latex": [
       "1.05650517407321"
      ],
      "text/markdown": [
       "1.05650517407321"
      ],
      "text/plain": [
       "[1] 1.056505"
      ]
     },
     "metadata": {},
     "output_type": "display_data"
    }
   ],
   "source": [
    "mean((y1-predict(M2,data.frame(x1,x2,x3)))^2)"
   ]
  },
  {
   "cell_type": "markdown",
   "id": "ba55d48f-7c01-484d-a443-f6211bac7e2a",
   "metadata": {},
   "source": [
    "다중공선성을 제거한 모형이 다중공선성이 있는 모형보다 제곱평균오차가 컸다."
   ]
  },
  {
   "cell_type": "markdown",
   "id": "12881b23-d873-4a50-a14a-a8047e9023af",
   "metadata": {},
   "source": [
    "반복"
   ]
  },
  {
   "cell_type": "code",
   "execution_count": 14,
   "id": "2ae7f6ad-a678-484e-ae81-172b92838359",
   "metadata": {},
   "outputs": [
    {
     "name": "stdout",
     "output_type": "stream",
     "text": [
      "[1] 7.004371\n",
      "[1] 7.013314\n"
     ]
    }
   ],
   "source": [
    "result1 = c()\n",
    "result2 = c()\n",
    "for (i in 1:1000){\n",
    "    x1 = runif(500)\n",
    "    x2 = x1 + rnorm(500,0,0.01)\n",
    "    x3 = x1 + rnorm(500,0,0.01)\n",
    "    y1= 3 + x1 + 1.5*x2 + 3.5*x3 + rnorm(500)\n",
    "    train_x1 = x1[1:250]\n",
    "    train_x2 = x2[1:250]\n",
    "    train_x3 = x3[1:250]\n",
    "    train_y1 = y1[1:250]\n",
    "    test_x1 = x1[251:500]\n",
    "    test_x2 = x2[251:500]\n",
    "    test_x3 = x3[251:500]\n",
    "    test_y1 = y1[251:500]\n",
    "    M1 = lm(train_y1~train_x1)\n",
    "    M2 = lm(train_y1~train_x1+train_x2+train_x3)\n",
    "    result1[i]=mean((test_y1-predict(M1,data.frame(test_x1)))^2)\n",
    "    result2[i]=mean((test_y1-predict(M2,data.frame(test_x1,test_x2,test_x3)))^2)\n",
    "    }\n",
    "print(mean(result1));print(mean(result2))"
   ]
  },
  {
   "cell_type": "markdown",
   "id": "b7685a18-e54e-430b-b411-fa6810ee1589",
   "metadata": {},
   "source": [
    "다중공선성이 있는 모형과 다중공선성이 없는 모형의 MSE가 비슷한 값이 나왔다."
   ]
  },
  {
   "cell_type": "code",
   "execution_count": 15,
   "id": "3c6271d4-6285-4353-895c-b8b3c6f464a1",
   "metadata": {},
   "outputs": [
    {
     "data": {
      "text/html": [
       "<style>\n",
       ".dl-inline {width: auto; margin:0; padding: 0}\n",
       ".dl-inline>dt, .dl-inline>dd {float: none; width: auto; display: inline-block}\n",
       ".dl-inline>dt::after {content: \":\\0020\"; padding-right: .5ex}\n",
       ".dl-inline>dt:not(:first-of-type) {padding-left: .5ex}\n",
       "</style><dl class=dl-inline><dt>(Intercept)</dt><dd>2.95166936850483</dd><dt>train_x1</dt><dd>6.31893566934747</dd><dt>train_x2</dt><dd>-7.57004919218059</dd><dt>train_x3</dt><dd>7.31093469844317</dd></dl>\n"
      ],
      "text/latex": [
       "\\begin{description*}\n",
       "\\item[(Intercept)] 2.95166936850483\n",
       "\\item[train\\textbackslash{}\\_x1] 6.31893566934747\n",
       "\\item[train\\textbackslash{}\\_x2] -7.57004919218059\n",
       "\\item[train\\textbackslash{}\\_x3] 7.31093469844317\n",
       "\\end{description*}\n"
      ],
      "text/markdown": [
       "(Intercept)\n",
       ":   2.95166936850483train_x1\n",
       ":   6.31893566934747train_x2\n",
       ":   -7.57004919218059train_x3\n",
       ":   7.31093469844317\n",
       "\n"
      ],
      "text/plain": [
       "(Intercept)    train_x1    train_x2    train_x3 \n",
       "   2.951669    6.318936   -7.570049    7.310935 "
      ]
     },
     "metadata": {},
     "output_type": "display_data"
    }
   ],
   "source": [
    "M2$coefficients"
   ]
  },
  {
   "cell_type": "code",
   "execution_count": 16,
   "id": "498ffe6d-251e-40ba-a73e-2d8ac814511b",
   "metadata": {},
   "outputs": [
    {
     "data": {
      "text/html": [
       "<style>\n",
       ".dl-inline {width: auto; margin:0; padding: 0}\n",
       ".dl-inline>dt, .dl-inline>dd {float: none; width: auto; display: inline-block}\n",
       ".dl-inline>dt::after {content: \":\\0020\"; padding-right: .5ex}\n",
       ".dl-inline>dt:not(:first-of-type) {padding-left: .5ex}\n",
       "</style><dl class=dl-inline><dt>train_x1</dt><dd>1532.26129565099</dd><dt>train_x2</dt><dd>752.809687640852</dd><dt>train_x3</dt><dd>810.576270200647</dd></dl>\n"
      ],
      "text/latex": [
       "\\begin{description*}\n",
       "\\item[train\\textbackslash{}\\_x1] 1532.26129565099\n",
       "\\item[train\\textbackslash{}\\_x2] 752.809687640852\n",
       "\\item[train\\textbackslash{}\\_x3] 810.576270200647\n",
       "\\end{description*}\n"
      ],
      "text/markdown": [
       "train_x1\n",
       ":   1532.26129565099train_x2\n",
       ":   752.809687640852train_x3\n",
       ":   810.576270200647\n",
       "\n"
      ],
      "text/plain": [
       " train_x1  train_x2  train_x3 \n",
       "1532.2613  752.8097  810.5763 "
      ]
     },
     "metadata": {},
     "output_type": "display_data"
    }
   ],
   "source": [
    "VIF(M2)"
   ]
  },
  {
   "cell_type": "markdown",
   "id": "5620018d-f99a-487b-a3d0-cf920b484a38",
   "metadata": {},
   "source": [
    "---"
   ]
  },
  {
   "cell_type": "markdown",
   "id": "fb14ebd5-7778-4131-af28-ce5aa90fe1c7",
   "metadata": {},
   "source": [
    "## 시도 3"
   ]
  },
  {
   "cell_type": "markdown",
   "id": "8f3042b4-461f-439b-91e4-180adb889b89",
   "metadata": {},
   "source": [
    "- $y_1=3+x_1+2x_2+3x_3+\\epsilon$\n",
    "  - $x_2=x_1^2+\\epsilon$\n",
    "  - $x_3=x_1^3+\\epsilon$\n",
    "- 1000번 반복\n",
    "- 1000개 데이터"
   ]
  },
  {
   "cell_type": "code",
   "execution_count": 17,
   "id": "c601d447-7fed-4143-913d-e1f821547dd0",
   "metadata": {},
   "outputs": [
    {
     "name": "stdout",
     "output_type": "stream",
     "text": [
      "[1] 6.655706\n",
      "[1] 6.899516\n"
     ]
    }
   ],
   "source": [
    "result1 = c()\n",
    "result2 = c()\n",
    "for (i in 1:1000){\n",
    "    x1 = runif(1000)\n",
    "    x2 = x1^2 + rnorm(1000,0,0.01)\n",
    "    x3 = x1^3 + rnorm(1000,0,0.01)\n",
    "    y1= 3 + x1 + 2*x2 + 3*x3 + rnorm(1000)\n",
    "    train_x1 = x1[1:500]\n",
    "    train_x2 = x2[1:500]\n",
    "    train_x3 = x3[1:500]\n",
    "    train_y1 = y1[1:500]\n",
    "    test_x1 = x1[501:1000]\n",
    "    test_x2 = x2[501:1000]\n",
    "    test_x3 = x3[501:1000]\n",
    "    test_y1 = y1[501:1000]\n",
    "    M1 = lm(train_y1~train_x1)\n",
    "    M2 = lm(train_y1~train_x1+train_x2+train_x3)\n",
    "    result1[i]=mean((test_y1-predict(M1,data.frame(test_x1)))^2)\n",
    "    result2[i]=mean((test_y1-predict(M2,data.frame(test_x1,test_x2,test_x3)))^2)\n",
    "    }\n",
    "print(mean(result1));print(mean(result2))"
   ]
  },
  {
   "cell_type": "code",
   "execution_count": 18,
   "id": "4f566f57-84eb-42d9-962b-511652b70c0f",
   "metadata": {},
   "outputs": [
    {
     "data": {
      "text/html": [
       "<style>\n",
       ".dl-inline {width: auto; margin:0; padding: 0}\n",
       ".dl-inline>dt, .dl-inline>dd {float: none; width: auto; display: inline-block}\n",
       ".dl-inline>dt::after {content: \":\\0020\"; padding-right: .5ex}\n",
       ".dl-inline>dt:not(:first-of-type) {padding-left: .5ex}\n",
       "</style><dl class=dl-inline><dt>(Intercept)</dt><dd>3.1722807655406</dd><dt>train_x1</dt><dd>-0.803885135696428</dd><dt>train_x2</dt><dd>5.33385899535763</dd><dt>train_x3</dt><dd>1.27000093939837</dd></dl>\n"
      ],
      "text/latex": [
       "\\begin{description*}\n",
       "\\item[(Intercept)] 3.1722807655406\n",
       "\\item[train\\textbackslash{}\\_x1] -0.803885135696428\n",
       "\\item[train\\textbackslash{}\\_x2] 5.33385899535763\n",
       "\\item[train\\textbackslash{}\\_x3] 1.27000093939837\n",
       "\\end{description*}\n"
      ],
      "text/markdown": [
       "(Intercept)\n",
       ":   3.1722807655406train_x1\n",
       ":   -0.803885135696428train_x2\n",
       ":   5.33385899535763train_x3\n",
       ":   1.27000093939837\n",
       "\n"
      ],
      "text/plain": [
       "(Intercept)    train_x1    train_x2    train_x3 \n",
       "  3.1722808  -0.8038851   5.3338590   1.2700009 "
      ]
     },
     "metadata": {},
     "output_type": "display_data"
    }
   ],
   "source": [
    "M2$coefficients"
   ]
  },
  {
   "cell_type": "code",
   "execution_count": 19,
   "id": "9dce7b89-57cb-4d54-8aef-53253e22213e",
   "metadata": {},
   "outputs": [
    {
     "data": {
      "text/html": [
       "<style>\n",
       ".dl-inline {width: auto; margin:0; padding: 0}\n",
       ".dl-inline>dt, .dl-inline>dd {float: none; width: auto; display: inline-block}\n",
       ".dl-inline>dt::after {content: \":\\0020\"; padding-right: .5ex}\n",
       ".dl-inline>dt:not(:first-of-type) {padding-left: .5ex}\n",
       "</style><dl class=dl-inline><dt>train_x1</dt><dd>52.3160125363476</dd><dt>train_x2</dt><dd>285.051700873521</dd><dt>train_x3</dt><dd>114.224043489052</dd></dl>\n"
      ],
      "text/latex": [
       "\\begin{description*}\n",
       "\\item[train\\textbackslash{}\\_x1] 52.3160125363476\n",
       "\\item[train\\textbackslash{}\\_x2] 285.051700873521\n",
       "\\item[train\\textbackslash{}\\_x3] 114.224043489052\n",
       "\\end{description*}\n"
      ],
      "text/markdown": [
       "train_x1\n",
       ":   52.3160125363476train_x2\n",
       ":   285.051700873521train_x3\n",
       ":   114.224043489052\n",
       "\n"
      ],
      "text/plain": [
       " train_x1  train_x2  train_x3 \n",
       " 52.31601 285.05170 114.22404 "
      ]
     },
     "metadata": {},
     "output_type": "display_data"
    }
   ],
   "source": [
    "VIF(M2)"
   ]
  },
  {
   "cell_type": "markdown",
   "id": "6e821d01-b15c-4a2c-a6a5-ecba0577c23e",
   "metadata": {},
   "source": [
    "---"
   ]
  },
  {
   "cell_type": "markdown",
   "id": "db88b100-5a85-4880-a31c-7c829467e3fb",
   "metadata": {
    "tags": []
   },
   "source": [
    "## 시도4"
   ]
  },
  {
   "cell_type": "markdown",
   "id": "d9c75241-df7b-4f86-9cf8-8d336084c6eb",
   "metadata": {},
   "source": [
    "- $y_1=3+x_1+2x_2+3x_3+\\epsilon$\n",
    "    - 시도 3과 다른 점: $\\epsilon$의 $mean=0$, $sd=0.1$ 가정\n",
    "  - $x_2=x_1^2+\\epsilon$\n",
    "  - $x_3=x_2^3+\\epsilon$\n",
    "- 1000번 반복\n",
    "- 1000개 데이터"
   ]
  },
  {
   "cell_type": "code",
   "execution_count": 20,
   "id": "e242426d-0218-4983-bbeb-b709a06f350f",
   "metadata": {},
   "outputs": [
    {
     "name": "stdout",
     "output_type": "stream",
     "text": [
      "[1] 4.407255\n",
      "[1] 4.750254\n"
     ]
    }
   ],
   "source": [
    "result1 = c()\n",
    "result2 = c()\n",
    "for (i in 1:1000){\n",
    "    x1 = runif(1000)\n",
    "    x2 = x1^2 + rnorm(1000,0,0.01)\n",
    "    x3 = x2^3 + rnorm(1000,0,0.01)\n",
    "    y1= 3 + x1 + 2*x2 + 3*x3 + rnorm(1000,0,0.1)\n",
    "    train_x1 = x1[1:500]\n",
    "    train_x2 = x2[1:500]\n",
    "    train_x3 = x3[1:500]\n",
    "    train_y1 = y1[1:500]\n",
    "    test_x1 = x1[501:1000]\n",
    "    test_x2 = x2[501:1000]\n",
    "    test_x3 = x3[501:1000]\n",
    "    test_y1 = y1[501:1000]\n",
    "    M1 = lm(train_y1~train_x1)\n",
    "    M2 = lm(train_y1~train_x1+train_x2+train_x3)\n",
    "    result1[i]=mean((test_y1-predict(M1,data.frame(test_x1)))^2)\n",
    "    result2[i]=mean((test_y1-predict(M2,data.frame(test_x1,test_x2,test_x3)))^2)\n",
    "    }\n",
    "print(mean(result1));print(mean(result2))"
   ]
  },
  {
   "cell_type": "code",
   "execution_count": 21,
   "id": "46d64413-9b11-414c-b129-3dacc9944744",
   "metadata": {},
   "outputs": [
    {
     "data": {
      "text/html": [
       "<style>\n",
       ".dl-inline {width: auto; margin:0; padding: 0}\n",
       ".dl-inline>dt, .dl-inline>dd {float: none; width: auto; display: inline-block}\n",
       ".dl-inline>dt::after {content: \":\\0020\"; padding-right: .5ex}\n",
       ".dl-inline>dt:not(:first-of-type) {padding-left: .5ex}\n",
       "</style><dl class=dl-inline><dt>(Intercept)</dt><dd>2.98443080143881</dd><dt>train_x1</dt><dd>1.10397880526529</dd><dt>train_x2</dt><dd>1.89042910272871</dd><dt>train_x3</dt><dd>3.03856902277434</dd></dl>\n"
      ],
      "text/latex": [
       "\\begin{description*}\n",
       "\\item[(Intercept)] 2.98443080143881\n",
       "\\item[train\\textbackslash{}\\_x1] 1.10397880526529\n",
       "\\item[train\\textbackslash{}\\_x2] 1.89042910272871\n",
       "\\item[train\\textbackslash{}\\_x3] 3.03856902277434\n",
       "\\end{description*}\n"
      ],
      "text/markdown": [
       "(Intercept)\n",
       ":   2.98443080143881train_x1\n",
       ":   1.10397880526529train_x2\n",
       ":   1.89042910272871train_x3\n",
       ":   3.03856902277434\n",
       "\n"
      ],
      "text/plain": [
       "(Intercept)    train_x1    train_x2    train_x3 \n",
       "   2.984431    1.103979    1.890429    3.038569 "
      ]
     },
     "metadata": {},
     "output_type": "display_data"
    }
   ],
   "source": [
    "M2$coefficients"
   ]
  },
  {
   "cell_type": "code",
   "execution_count": 22,
   "id": "f7b2fdf5-5b2d-4d98-a889-40c49714c686",
   "metadata": {},
   "outputs": [
    {
     "data": {
      "text/html": [
       "<style>\n",
       ".dl-inline {width: auto; margin:0; padding: 0}\n",
       ".dl-inline>dt, .dl-inline>dd {float: none; width: auto; display: inline-block}\n",
       ".dl-inline>dt::after {content: \":\\0020\"; padding-right: .5ex}\n",
       ".dl-inline>dt:not(:first-of-type) {padding-left: .5ex}\n",
       "</style><dl class=dl-inline><dt>train_x1</dt><dd>41.1249486526823</dd><dt>train_x2</dt><dd>83.4135981154547</dd><dt>train_x3</dt><dd>13.854722775645</dd></dl>\n"
      ],
      "text/latex": [
       "\\begin{description*}\n",
       "\\item[train\\textbackslash{}\\_x1] 41.1249486526823\n",
       "\\item[train\\textbackslash{}\\_x2] 83.4135981154547\n",
       "\\item[train\\textbackslash{}\\_x3] 13.854722775645\n",
       "\\end{description*}\n"
      ],
      "text/markdown": [
       "train_x1\n",
       ":   41.1249486526823train_x2\n",
       ":   83.4135981154547train_x3\n",
       ":   13.854722775645\n",
       "\n"
      ],
      "text/plain": [
       "train_x1 train_x2 train_x3 \n",
       "41.12495 83.41360 13.85472 "
      ]
     },
     "metadata": {},
     "output_type": "display_data"
    }
   ],
   "source": [
    "VIF(M2)"
   ]
  },
  {
   "cell_type": "markdown",
   "id": "b9397147-070e-4674-957f-bb68e05fe067",
   "metadata": {},
   "source": [
    "---"
   ]
  },
  {
   "cell_type": "markdown",
   "id": "d59c8608-e5ed-4500-8ab4-241a8eec6e27",
   "metadata": {
    "tags": []
   },
   "source": [
    "## 시도 5"
   ]
  },
  {
   "cell_type": "markdown",
   "id": "5e680899-429f-40dc-88b9-5b5e9435fb8e",
   "metadata": {},
   "source": [
    "- $y_1=3+x_1+5x_2+10x_3+\\epsilon$\n",
    "  - $x_2=2x_1+\\epsilon$\n",
    "  - $x_3=3x_1+\\epsilon$\n",
    "- 1000번 반복\n",
    "- 1000개 데이터"
   ]
  },
  {
   "cell_type": "code",
   "execution_count": 23,
   "id": "18883a5a-da39-4fc9-b0c8-81a46ee6a78f",
   "metadata": {},
   "outputs": [
    {
     "name": "stdout",
     "output_type": "stream",
     "text": [
      "[1] 280.8567\n",
      "[1] 280.8766\n"
     ]
    }
   ],
   "source": [
    "result1 = c()\n",
    "result2 = c()\n",
    "for (i in 1:1000){\n",
    "    x1 = runif(1000)\n",
    "    x2 = x1*2 + rnorm(1000,0,0.01)\n",
    "    x3 = x1*3 + rnorm(1000,0,0.01)\n",
    "    y1= 3 + x1 + 5*x2 + 10*x3 + rnorm(1000)\n",
    "    train_x1 = x1[1:500]\n",
    "    train_x2 = x2[1:500]\n",
    "    train_x3 = x3[1:500]\n",
    "    train_y1 = y1[1:500]\n",
    "    test_x1 = x1[501:1000]\n",
    "    test_x2 = x2[501:1000]\n",
    "    test_x3 = x3[501:1000]\n",
    "    test_y1 = y1[501:1000]\n",
    "    M1 = lm(train_y1~train_x1)\n",
    "    M2 = lm(train_y1~train_x1+train_x2+train_x3)\n",
    "    result1[i]=mean((test_y1-predict(M1,data.frame(test_x1)))^2)\n",
    "    result2[i]=mean((test_y1-predict(M2,data.frame(test_x1,test_x2,test_x3)))^2)\n",
    "    }\n",
    "print(mean(result1));print(mean(result2))"
   ]
  },
  {
   "cell_type": "code",
   "execution_count": 24,
   "id": "df0b95d9-131d-42ca-a89f-772b0a7a10a3",
   "metadata": {},
   "outputs": [
    {
     "data": {
      "text/html": [
       "<style>\n",
       ".dl-inline {width: auto; margin:0; padding: 0}\n",
       ".dl-inline>dt, .dl-inline>dd {float: none; width: auto; display: inline-block}\n",
       ".dl-inline>dt::after {content: \":\\0020\"; padding-right: .5ex}\n",
       ".dl-inline>dt:not(:first-of-type) {padding-left: .5ex}\n",
       "</style><dl class=dl-inline><dt>(Intercept)</dt><dd>2.94499782543414</dd><dt>train_x1</dt><dd>-0.851627852341095</dd><dt>train_x2</dt><dd>-2.05771910014527</dd><dt>train_x3</dt><dd>15.3323394415922</dd></dl>\n"
      ],
      "text/latex": [
       "\\begin{description*}\n",
       "\\item[(Intercept)] 2.94499782543414\n",
       "\\item[train\\textbackslash{}\\_x1] -0.851627852341095\n",
       "\\item[train\\textbackslash{}\\_x2] -2.05771910014527\n",
       "\\item[train\\textbackslash{}\\_x3] 15.3323394415922\n",
       "\\end{description*}\n"
      ],
      "text/markdown": [
       "(Intercept)\n",
       ":   2.94499782543414train_x1\n",
       ":   -0.851627852341095train_x2\n",
       ":   -2.05771910014527train_x3\n",
       ":   15.3323394415922\n",
       "\n"
      ],
      "text/plain": [
       "(Intercept)    train_x1    train_x2    train_x3 \n",
       "  2.9449978  -0.8516279  -2.0577191  15.3323394 "
      ]
     },
     "metadata": {},
     "output_type": "display_data"
    }
   ],
   "source": [
    "M2$coefficients"
   ]
  },
  {
   "cell_type": "code",
   "execution_count": 25,
   "id": "c6bb7756-a8f1-4756-a0e8-c06130eaba82",
   "metadata": {},
   "outputs": [
    {
     "data": {
      "text/html": [
       "<style>\n",
       ".dl-inline {width: auto; margin:0; padding: 0}\n",
       ".dl-inline>dt, .dl-inline>dd {float: none; width: auto; display: inline-block}\n",
       ".dl-inline>dt::after {content: \":\\0020\"; padding-right: .5ex}\n",
       ".dl-inline>dt:not(:first-of-type) {padding-left: .5ex}\n",
       "</style><dl class=dl-inline><dt>train_x1</dt><dd>12207.8561089719</dd><dt>train_x2</dt><dd>3438.30708249541</dd><dt>train_x3</dt><dd>8106.02210331097</dd></dl>\n"
      ],
      "text/latex": [
       "\\begin{description*}\n",
       "\\item[train\\textbackslash{}\\_x1] 12207.8561089719\n",
       "\\item[train\\textbackslash{}\\_x2] 3438.30708249541\n",
       "\\item[train\\textbackslash{}\\_x3] 8106.02210331097\n",
       "\\end{description*}\n"
      ],
      "text/markdown": [
       "train_x1\n",
       ":   12207.8561089719train_x2\n",
       ":   3438.30708249541train_x3\n",
       ":   8106.02210331097\n",
       "\n"
      ],
      "text/plain": [
       " train_x1  train_x2  train_x3 \n",
       "12207.856  3438.307  8106.022 "
      ]
     },
     "metadata": {},
     "output_type": "display_data"
    }
   ],
   "source": [
    "VIF(M2)"
   ]
  },
  {
   "cell_type": "markdown",
   "id": "e1d63496-9026-401f-a7c2-2b4bab8bf046",
   "metadata": {},
   "source": [
    "- $x_1$이랑 제곱관계였던 시도 4까지의 결과와 조금 다르게 거의 비슷한 모습"
   ]
  },
  {
   "cell_type": "markdown",
   "id": "49bc2d86-6812-4713-b9eb-81d05d9991d5",
   "metadata": {},
   "source": [
    "---"
   ]
  },
  {
   "cell_type": "markdown",
   "id": "605956fa-674f-4814-aa7c-7eda334aa8dc",
   "metadata": {
    "tags": []
   },
   "source": [
    "## 시도 6"
   ]
  },
  {
   "cell_type": "markdown",
   "id": "cfedf2be-a9f0-4b9a-9c1e-270793a0f347",
   "metadata": {},
   "source": [
    "- $y_1=3+x_1+5x_2+10x_3+\\epsilon$\n",
    "  - $x_2=2x_1+\\epsilon$\n",
    "  - $x_3=3x_1+\\epsilon$\n",
    "  - $x_4=4x_2+\\epsilon$\n",
    "- 1000번 반복\n",
    "- 1000개 데이터"
   ]
  },
  {
   "cell_type": "code",
   "execution_count": 26,
   "id": "ca2ae1e1-3d5e-4c55-b51a-bb3264dea38b",
   "metadata": {},
   "outputs": [
    {
     "name": "stdout",
     "output_type": "stream",
     "text": [
      "[1] 4317.344\n",
      "[1] 4317.734\n"
     ]
    }
   ],
   "source": [
    "result1 = c()\n",
    "result2 = c()\n",
    "for (i in 1:1000){\n",
    "    x1 = runif(1000)\n",
    "    x2 = x1*2 + rnorm(1000,0,0.01)\n",
    "    x3 = x1*3 + rnorm(1000,0,0.01)\n",
    "    x4 = x2*4 + rnorm(1000,0,0.01)\n",
    "    y1= 3 + x1 + 5*x2 + 10*x3 + 15*x4 + rnorm(1000)\n",
    "    train_x1 = x1[1:500]\n",
    "    train_x2 = x2[1:500]\n",
    "    train_x3 = x3[1:500]\n",
    "    train_x4 = x4[1:500]\n",
    "    train_y1 = y1[1:500]\n",
    "    test_x1 = x1[501:1000]\n",
    "    test_x2 = x2[501:1000]\n",
    "    test_x3 = x3[501:1000]\n",
    "    test_x4 = x4[501:1000]\n",
    "    test_y1 = y1[501:1000]\n",
    "    M1 = lm(train_y1~train_x1)\n",
    "    M2 = lm(train_y1~train_x1+train_x2+train_x3++train_x4)\n",
    "    result1[i]=mean((test_y1-predict(M1,data.frame(test_x1)))^2)\n",
    "    result2[i]=mean((test_y1-predict(M2,data.frame(test_x1,test_x2,test_x3,test_x4)))^2)\n",
    "    }\n",
    "print(mean(result1));print(mean(result2))"
   ]
  },
  {
   "cell_type": "code",
   "execution_count": 27,
   "id": "a40884b9-d383-4029-83f1-d38aa0336417",
   "metadata": {},
   "outputs": [
    {
     "data": {
      "text/html": [
       "<style>\n",
       ".dl-inline {width: auto; margin:0; padding: 0}\n",
       ".dl-inline>dt, .dl-inline>dd {float: none; width: auto; display: inline-block}\n",
       ".dl-inline>dt::after {content: \":\\0020\"; padding-right: .5ex}\n",
       ".dl-inline>dt:not(:first-of-type) {padding-left: .5ex}\n",
       "</style><dl class=dl-inline><dt>(Intercept)</dt><dd>3.06497938655941</dd><dt>train_x1</dt><dd>27.569754309646</dd><dt>train_x2</dt><dd>6.00445989616462</dd><dt>train_x3</dt><dd>0.271289346076251</dd><dt>train_x4</dt><dd>15.0658253783155</dd></dl>\n"
      ],
      "text/latex": [
       "\\begin{description*}\n",
       "\\item[(Intercept)] 3.06497938655941\n",
       "\\item[train\\textbackslash{}\\_x1] 27.569754309646\n",
       "\\item[train\\textbackslash{}\\_x2] 6.00445989616462\n",
       "\\item[train\\textbackslash{}\\_x3] 0.271289346076251\n",
       "\\item[train\\textbackslash{}\\_x4] 15.0658253783155\n",
       "\\end{description*}\n"
      ],
      "text/markdown": [
       "(Intercept)\n",
       ":   3.06497938655941train_x1\n",
       ":   27.569754309646train_x2\n",
       ":   6.00445989616462train_x3\n",
       ":   0.271289346076251train_x4\n",
       ":   15.0658253783155\n",
       "\n"
      ],
      "text/plain": [
       "(Intercept)    train_x1    train_x2    train_x3    train_x4 \n",
       "  3.0649794  27.5697543   6.0044599   0.2712893  15.0658254 "
      ]
     },
     "metadata": {},
     "output_type": "display_data"
    }
   ],
   "source": [
    "M2$coefficients"
   ]
  },
  {
   "cell_type": "code",
   "execution_count": 28,
   "id": "ee517938-d664-4ea6-8a8f-d56a17ca277f",
   "metadata": {},
   "outputs": [
    {
     "data": {
      "text/html": [
       "<style>\n",
       ".dl-inline {width: auto; margin:0; padding: 0}\n",
       ".dl-inline>dt, .dl-inline>dd {float: none; width: auto; display: inline-block}\n",
       ".dl-inline>dt::after {content: \":\\0020\"; padding-right: .5ex}\n",
       ".dl-inline>dt:not(:first-of-type) {padding-left: .5ex}\n",
       "</style><dl class=dl-inline><dt>train_x1</dt><dd>10184.1166864687</dd><dt>train_x2</dt><dd>51761.1715395813</dd><dt>train_x3</dt><dd>7606.48940304079</dd><dt>train_x4</dt><dd>50649.4885768582</dd></dl>\n"
      ],
      "text/latex": [
       "\\begin{description*}\n",
       "\\item[train\\textbackslash{}\\_x1] 10184.1166864687\n",
       "\\item[train\\textbackslash{}\\_x2] 51761.1715395813\n",
       "\\item[train\\textbackslash{}\\_x3] 7606.48940304079\n",
       "\\item[train\\textbackslash{}\\_x4] 50649.4885768582\n",
       "\\end{description*}\n"
      ],
      "text/markdown": [
       "train_x1\n",
       ":   10184.1166864687train_x2\n",
       ":   51761.1715395813train_x3\n",
       ":   7606.48940304079train_x4\n",
       ":   50649.4885768582\n",
       "\n"
      ],
      "text/plain": [
       " train_x1  train_x2  train_x3  train_x4 \n",
       "10184.117 51761.172  7606.489 50649.489 "
      ]
     },
     "metadata": {},
     "output_type": "display_data"
    }
   ],
   "source": [
    "VIF(M2)"
   ]
  },
  {
   "cell_type": "markdown",
   "id": "a5f2d3ff-081e-4140-8b31-203e4c2e4138",
   "metadata": {},
   "source": [
    "---"
   ]
  },
  {
   "cell_type": "markdown",
   "id": "c2ccab59-4d05-44a2-b305-def92f47a8d7",
   "metadata": {
    "tags": []
   },
   "source": [
    "## 시도 7"
   ]
  },
  {
   "cell_type": "markdown",
   "id": "081dc44e-d535-41ba-8a40-7b1c0b664f31",
   "metadata": {},
   "source": [
    "- $y_1=3+x_1+5x_2+10x_3+15x_4+20x_5+\\epsilon$\n",
    "  - $x_2=2x_1+\\epsilon$\n",
    "  - $x_3=3x_1+\\epsilon$\n",
    "  - $x_4=4x_1+\\epsilon$\n",
    "  - $x_5=5x_1+\\epsilon$\n",
    "- 1000번 반복\n",
    "- 1000개 데이터\n",
    "- 설명변수를 하나씩 제거해나가며 값 확인"
   ]
  },
  {
   "cell_type": "code",
   "execution_count": 29,
   "id": "323518dc-faf5-44a3-8e1f-e537c2c732d1",
   "metadata": {},
   "outputs": [
    {
     "name": "stdout",
     "output_type": "stream",
     "text": [
      "[1] 6743.22\n",
      "[1] 6743.23\n",
      "[1] 6743.228\n",
      "[1] 6743.258\n",
      "[1] 6743.326\n"
     ]
    }
   ],
   "source": [
    "result1 = c()\n",
    "result2 = c()\n",
    "result2_2 = c()\n",
    "result2_3 = c()\n",
    "result2_4 = c()\n",
    "for (i in 1:1000){\n",
    "    x1 = runif(1000)\n",
    "    x2 = x1*2 + rnorm(1000,0,0.01)\n",
    "    x3 = x1*3 + rnorm(1000,0,0.01)\n",
    "    x4 = x1*4 + rnorm(1000,0,0.01)\n",
    "    x5 = x1*5 + rnorm(1000,0,0.01)\n",
    "    y1= 3 + x1 + 5*x2 + 10*x3 + 15*x4 + 20*x5 + rnorm(1000)\n",
    "    train_x1 = x1[1:500]\n",
    "    train_x2 = x2[1:500]\n",
    "    train_x3 = x3[1:500]\n",
    "    train_x4 = x4[1:500]\n",
    "    train_x5 = x5[1:500]\n",
    "    train_y1 = y1[1:500]\n",
    "    test_x1 = x1[501:1000]\n",
    "    test_x2 = x2[501:1000]\n",
    "    test_x3 = x3[501:1000]\n",
    "    test_x4 = x4[501:1000]\n",
    "    test_x5 = x5[501:1000]\n",
    "    test_y1 = y1[501:1000]\n",
    "    M1 = lm(train_y1~train_x1)\n",
    "    M2 = lm(train_y1~train_x1+train_x2)\n",
    "    M2_2 = lm(train_y1~train_x1+train_x2+train_x3)\n",
    "    M2_3 = lm(train_y1~train_x1+train_x2+train_x3+train_x4)\n",
    "    M2_4 = lm(train_y1~train_x1+train_x2+train_x3+train_x4+train_x5)\n",
    "    result1[i]=mean((test_y1-predict(M1,data.frame(test_x1)))^2)\n",
    "    result2[i]=mean((test_y1-predict(M2,data.frame(test_x1,test_x2,test_x3)))^2)\n",
    "    result2_2[i]=mean((test_y1-predict(M2_2,data.frame(test_x1,test_x2,test_x3)))^2)\n",
    "    result2_3[i]=mean((test_y1-predict(M2_3,data.frame(test_x1,test_x2,test_x3,test_x4)))^2)\n",
    "    result2_4[i]=mean((test_y1-predict(M2_4,data.frame(test_x1,test_x2,test_x3,test_x4,test_x5)))^2)\n",
    "    }\n",
    "print(mean(result1));print(mean(result2));print(mean(result2_2));print(mean(result2_3));print(mean(result2_4))"
   ]
  },
  {
   "cell_type": "code",
   "execution_count": 30,
   "id": "b8c9571d-097c-4673-bafe-7512487e1e00",
   "metadata": {},
   "outputs": [
    {
     "data": {
      "text/html": [
       "<style>\n",
       ".dl-inline {width: auto; margin:0; padding: 0}\n",
       ".dl-inline>dt, .dl-inline>dd {float: none; width: auto; display: inline-block}\n",
       ".dl-inline>dt::after {content: \":\\0020\"; padding-right: .5ex}\n",
       ".dl-inline>dt:not(:first-of-type) {padding-left: .5ex}\n",
       "</style><dl class=dl-inline><dt>(Intercept)</dt><dd>3.14229057776291</dd><dt>train_x1</dt><dd>191.592156934206</dd><dt>train_x2</dt><dd>4.592358164603</dd></dl>\n"
      ],
      "text/latex": [
       "\\begin{description*}\n",
       "\\item[(Intercept)] 3.14229057776291\n",
       "\\item[train\\textbackslash{}\\_x1] 191.592156934206\n",
       "\\item[train\\textbackslash{}\\_x2] 4.592358164603\n",
       "\\end{description*}\n"
      ],
      "text/markdown": [
       "(Intercept)\n",
       ":   3.14229057776291train_x1\n",
       ":   191.592156934206train_x2\n",
       ":   4.592358164603\n",
       "\n"
      ],
      "text/plain": [
       "(Intercept)    train_x1    train_x2 \n",
       "   3.142291  191.592157    4.592358 "
      ]
     },
     "metadata": {},
     "output_type": "display_data"
    },
    {
     "data": {
      "text/html": [
       "<style>\n",
       ".dl-inline {width: auto; margin:0; padding: 0}\n",
       ".dl-inline>dt, .dl-inline>dd {float: none; width: auto; display: inline-block}\n",
       ".dl-inline>dt::after {content: \":\\0020\"; padding-right: .5ex}\n",
       ".dl-inline>dt:not(:first-of-type) {padding-left: .5ex}\n",
       "</style><dl class=dl-inline><dt>(Intercept)</dt><dd>3.13946828384026</dd><dt>train_x1</dt><dd>152.101047376151</dd><dt>train_x2</dt><dd>5.48457032032642</dd><dt>train_x3</dt><dd>12.5700253588448</dd></dl>\n"
      ],
      "text/latex": [
       "\\begin{description*}\n",
       "\\item[(Intercept)] 3.13946828384026\n",
       "\\item[train\\textbackslash{}\\_x1] 152.101047376151\n",
       "\\item[train\\textbackslash{}\\_x2] 5.48457032032642\n",
       "\\item[train\\textbackslash{}\\_x3] 12.5700253588448\n",
       "\\end{description*}\n"
      ],
      "text/markdown": [
       "(Intercept)\n",
       ":   3.13946828384026train_x1\n",
       ":   152.101047376151train_x2\n",
       ":   5.48457032032642train_x3\n",
       ":   12.5700253588448\n",
       "\n"
      ],
      "text/plain": [
       "(Intercept)    train_x1    train_x2    train_x3 \n",
       "   3.139468  152.101047    5.484570   12.570025 "
      ]
     },
     "metadata": {},
     "output_type": "display_data"
    },
    {
     "data": {
      "text/html": [
       "<style>\n",
       ".dl-inline {width: auto; margin:0; padding: 0}\n",
       ".dl-inline>dt, .dl-inline>dd {float: none; width: auto; display: inline-block}\n",
       ".dl-inline>dt::after {content: \":\\0020\"; padding-right: .5ex}\n",
       ".dl-inline>dt:not(:first-of-type) {padding-left: .5ex}\n",
       "</style><dl class=dl-inline><dt>(Intercept)</dt><dd>3.15352997428773</dd><dt>train_x1</dt><dd>101.847117641019</dd><dt>train_x2</dt><dd>5.39865705788164</dd><dt>train_x3</dt><dd>12.5031156664608</dd><dt>train_x4</dt><dd>12.6523453161946</dd></dl>\n"
      ],
      "text/latex": [
       "\\begin{description*}\n",
       "\\item[(Intercept)] 3.15352997428773\n",
       "\\item[train\\textbackslash{}\\_x1] 101.847117641019\n",
       "\\item[train\\textbackslash{}\\_x2] 5.39865705788164\n",
       "\\item[train\\textbackslash{}\\_x3] 12.5031156664608\n",
       "\\item[train\\textbackslash{}\\_x4] 12.6523453161946\n",
       "\\end{description*}\n"
      ],
      "text/markdown": [
       "(Intercept)\n",
       ":   3.15352997428773train_x1\n",
       ":   101.847117641019train_x2\n",
       ":   5.39865705788164train_x3\n",
       ":   12.5031156664608train_x4\n",
       ":   12.6523453161946\n",
       "\n"
      ],
      "text/plain": [
       "(Intercept)    train_x1    train_x2    train_x3    train_x4 \n",
       "   3.153530  101.847118    5.398657   12.503116   12.652345 "
      ]
     },
     "metadata": {},
     "output_type": "display_data"
    },
    {
     "data": {
      "text/html": [
       "<style>\n",
       ".dl-inline {width: auto; margin:0; padding: 0}\n",
       ".dl-inline>dt, .dl-inline>dd {float: none; width: auto; display: inline-block}\n",
       ".dl-inline>dt::after {content: \":\\0020\"; padding-right: .5ex}\n",
       ".dl-inline>dt:not(:first-of-type) {padding-left: .5ex}\n",
       "</style><dl class=dl-inline><dt>(Intercept)</dt><dd>3.12999846572166</dd><dt>train_x1</dt><dd>12.5911240468077</dd><dt>train_x2</dt><dd>5.34451976152817</dd><dt>train_x3</dt><dd>12.6847839220765</dd><dt>train_x4</dt><dd>12.6165982386795</dd><dt>train_x5</dt><dd>17.7968532012727</dd></dl>\n"
      ],
      "text/latex": [
       "\\begin{description*}\n",
       "\\item[(Intercept)] 3.12999846572166\n",
       "\\item[train\\textbackslash{}\\_x1] 12.5911240468077\n",
       "\\item[train\\textbackslash{}\\_x2] 5.34451976152817\n",
       "\\item[train\\textbackslash{}\\_x3] 12.6847839220765\n",
       "\\item[train\\textbackslash{}\\_x4] 12.6165982386795\n",
       "\\item[train\\textbackslash{}\\_x5] 17.7968532012727\n",
       "\\end{description*}\n"
      ],
      "text/markdown": [
       "(Intercept)\n",
       ":   3.12999846572166train_x1\n",
       ":   12.5911240468077train_x2\n",
       ":   5.34451976152817train_x3\n",
       ":   12.6847839220765train_x4\n",
       ":   12.6165982386795train_x5\n",
       ":   17.7968532012727\n",
       "\n"
      ],
      "text/plain": [
       "(Intercept)    train_x1    train_x2    train_x3    train_x4    train_x5 \n",
       "   3.129998   12.591124    5.344520   12.684784   12.616598   17.796853 "
      ]
     },
     "metadata": {},
     "output_type": "display_data"
    }
   ],
   "source": [
    "M2$coefficients;M2_2$coefficients;M2_3$coefficients;M2_4$coefficients"
   ]
  },
  {
   "cell_type": "code",
   "execution_count": 31,
   "id": "8ad3ae51-f988-4137-bbc9-a58fcbe405bb",
   "metadata": {},
   "outputs": [
    {
     "data": {
      "text/html": [
       "<style>\n",
       ".dl-inline {width: auto; margin:0; padding: 0}\n",
       ".dl-inline>dt, .dl-inline>dd {float: none; width: auto; display: inline-block}\n",
       ".dl-inline>dt::after {content: \":\\0020\"; padding-right: .5ex}\n",
       ".dl-inline>dt:not(:first-of-type) {padding-left: .5ex}\n",
       "</style><dl class=dl-inline><dt>train_x1</dt><dd>3199.50596330676</dd><dt>train_x2</dt><dd>3199.50596330676</dd></dl>\n"
      ],
      "text/latex": [
       "\\begin{description*}\n",
       "\\item[train\\textbackslash{}\\_x1] 3199.50596330676\n",
       "\\item[train\\textbackslash{}\\_x2] 3199.50596330676\n",
       "\\end{description*}\n"
      ],
      "text/markdown": [
       "train_x1\n",
       ":   3199.50596330676train_x2\n",
       ":   3199.50596330676\n",
       "\n"
      ],
      "text/plain": [
       "train_x1 train_x2 \n",
       "3199.506 3199.506 "
      ]
     },
     "metadata": {},
     "output_type": "display_data"
    },
    {
     "data": {
      "text/html": [
       "<style>\n",
       ".dl-inline {width: auto; margin:0; padding: 0}\n",
       ".dl-inline>dt, .dl-inline>dd {float: none; width: auto; display: inline-block}\n",
       ".dl-inline>dt::after {content: \":\\0020\"; padding-right: .5ex}\n",
       ".dl-inline>dt:not(:first-of-type) {padding-left: .5ex}\n",
       "</style><dl class=dl-inline><dt>train_x1</dt><dd>11028.5645796285</dd><dt>train_x2</dt><dd>3215.46470823126</dd><dt>train_x3</dt><dd>7139.1852762786</dd></dl>\n"
      ],
      "text/latex": [
       "\\begin{description*}\n",
       "\\item[train\\textbackslash{}\\_x1] 11028.5645796285\n",
       "\\item[train\\textbackslash{}\\_x2] 3215.46470823126\n",
       "\\item[train\\textbackslash{}\\_x3] 7139.1852762786\n",
       "\\end{description*}\n"
      ],
      "text/markdown": [
       "train_x1\n",
       ":   11028.5645796285train_x2\n",
       ":   3215.46470823126train_x3\n",
       ":   7139.1852762786\n",
       "\n"
      ],
      "text/plain": [
       " train_x1  train_x2  train_x3 \n",
       "11028.565  3215.465  7139.185 "
      ]
     },
     "metadata": {},
     "output_type": "display_data"
    },
    {
     "data": {
      "text/html": [
       "<style>\n",
       ".dl-inline {width: auto; margin:0; padding: 0}\n",
       ".dl-inline>dt, .dl-inline>dd {float: none; width: auto; display: inline-block}\n",
       ".dl-inline>dt::after {content: \":\\0020\"; padding-right: .5ex}\n",
       ".dl-inline>dt:not(:first-of-type) {padding-left: .5ex}\n",
       "</style><dl class=dl-inline><dt>train_x1</dt><dd>23792.4840684325</dd><dt>train_x2</dt><dd>3215.61368413446</dd><dt>train_x3</dt><dd>7139.38892775602</dd><dt>train_x4</dt><dd>12954.7807912569</dd></dl>\n"
      ],
      "text/latex": [
       "\\begin{description*}\n",
       "\\item[train\\textbackslash{}\\_x1] 23792.4840684325\n",
       "\\item[train\\textbackslash{}\\_x2] 3215.61368413446\n",
       "\\item[train\\textbackslash{}\\_x3] 7139.38892775602\n",
       "\\item[train\\textbackslash{}\\_x4] 12954.7807912569\n",
       "\\end{description*}\n"
      ],
      "text/markdown": [
       "train_x1\n",
       ":   23792.4840684325train_x2\n",
       ":   3215.61368413446train_x3\n",
       ":   7139.38892775602train_x4\n",
       ":   12954.7807912569\n",
       "\n"
      ],
      "text/plain": [
       " train_x1  train_x2  train_x3  train_x4 \n",
       "23792.484  3215.614  7139.389 12954.781 "
      ]
     },
     "metadata": {},
     "output_type": "display_data"
    },
    {
     "data": {
      "text/html": [
       "<style>\n",
       ".dl-inline {width: auto; margin:0; padding: 0}\n",
       ".dl-inline>dt, .dl-inline>dd {float: none; width: auto; display: inline-block}\n",
       ".dl-inline>dt::after {content: \":\\0020\"; padding-right: .5ex}\n",
       ".dl-inline>dt:not(:first-of-type) {padding-left: .5ex}\n",
       "</style><dl class=dl-inline><dt>train_x1</dt><dd>45574.8755824188</dd><dt>train_x2</dt><dd>3215.64568601484</dd><dt>train_x3</dt><dd>7140.20111160112</dd><dt>train_x4</dt><dd>12954.8367355594</dd><dt>train_x5</dt><dd>21640.2394284721</dd></dl>\n"
      ],
      "text/latex": [
       "\\begin{description*}\n",
       "\\item[train\\textbackslash{}\\_x1] 45574.8755824188\n",
       "\\item[train\\textbackslash{}\\_x2] 3215.64568601484\n",
       "\\item[train\\textbackslash{}\\_x3] 7140.20111160112\n",
       "\\item[train\\textbackslash{}\\_x4] 12954.8367355594\n",
       "\\item[train\\textbackslash{}\\_x5] 21640.2394284721\n",
       "\\end{description*}\n"
      ],
      "text/markdown": [
       "train_x1\n",
       ":   45574.8755824188train_x2\n",
       ":   3215.64568601484train_x3\n",
       ":   7140.20111160112train_x4\n",
       ":   12954.8367355594train_x5\n",
       ":   21640.2394284721\n",
       "\n"
      ],
      "text/plain": [
       " train_x1  train_x2  train_x3  train_x4  train_x5 \n",
       "45574.876  3215.646  7140.201 12954.837 21640.239 "
      ]
     },
     "metadata": {},
     "output_type": "display_data"
    }
   ],
   "source": [
    "VIF(M2);VIF(M2_2);VIF(M2_3);VIF(M2_4)"
   ]
  },
  {
   "cell_type": "markdown",
   "id": "6139d9d0-b6b0-42b7-8536-8df5829cb0be",
   "metadata": {},
   "source": [
    "---"
   ]
  },
  {
   "cell_type": "markdown",
   "id": "3e421e7c-8a95-4e38-baec-db69b5f4c172",
   "metadata": {
    "tags": []
   },
   "source": [
    "## 시도 8"
   ]
  },
  {
   "cell_type": "markdown",
   "id": "3cd0be68-f5d8-44ec-a8c3-42947dd7f9d6",
   "metadata": {},
   "source": [
    "- $y_1=3+x_1+1.5x_2+2x_3+2.5x_4+3x_5+\\epsilon$\n",
    "  - $x_2=x^2_1+\\epsilon$\n",
    "  - $x_3=x^3_1+\\epsilon$\n",
    "  - $x_4=x^4_1+\\epsilon$\n",
    "  - $x_5=x^5_1+\\epsilon$\n",
    "- 1000번 반복\n",
    "- 1000개 데이터\n",
    "- 설명변수를 하나씩 제거해나가며 값 확인"
   ]
  },
  {
   "cell_type": "code",
   "execution_count": 32,
   "id": "13774235-54f1-4e48-acc2-bd754fcee64a",
   "metadata": {},
   "outputs": [
    {
     "name": "stdout",
     "output_type": "stream",
     "text": [
      "[1] 14.147\n",
      "[1] 15.23608\n",
      "[1] 15.31943\n",
      "[1] 15.33841\n",
      "[1] 15.34419\n"
     ]
    }
   ],
   "source": [
    "result1 = c()\n",
    "result2 = c()\n",
    "result2_2 = c()\n",
    "result2_3 = c()\n",
    "result2_4 = c()\n",
    "for (i in 1:1000){\n",
    "    x1 = runif(1000)\n",
    "    x2 = x1^2 + rnorm(1000,0,0.01)\n",
    "    x3 = x1^3 + rnorm(1000,0,0.01)\n",
    "    x4 = x1^4 + rnorm(1000,0,0.01)\n",
    "    x5 = x1^5 + rnorm(1000,0,0.01)\n",
    "    y1= 3 + x1 + 1.5*x2 + 2*x3 + 2.5*x4 + 3*x5 + rnorm(1000)\n",
    "    train_x1 = x1[1:500]\n",
    "    train_x2 = x2[1:500]\n",
    "    train_x3 = x3[1:500]\n",
    "    train_x4 = x4[1:500]\n",
    "    train_x5 = x5[1:500]\n",
    "    train_y1 = y1[1:500]\n",
    "    test_x1 = x1[501:1000]\n",
    "    test_x2 = x2[501:1000]\n",
    "    test_x3 = x3[501:1000]\n",
    "    test_x4 = x4[501:1000]\n",
    "    test_x5 = x5[501:1000]\n",
    "    test_y1 = y1[501:1000]\n",
    "    M1 = lm(train_y1~train_x1)\n",
    "    M2 = lm(train_y1~train_x1+train_x2)\n",
    "    M2_2 = lm(train_y1~train_x1+train_x2+train_x3)\n",
    "    M2_3 = lm(train_y1~train_x1+train_x2+train_x3+train_x4)\n",
    "    M2_4 = lm(train_y1~train_x1+train_x2+train_x3+train_x4+train_x5)\n",
    "    result1[i]=mean((test_y1-predict(M1,data.frame(test_x1)))^2)\n",
    "    result2[i]=mean((test_y1-predict(M2,data.frame(test_x1,test_x2)))^2)\n",
    "    result2_2[i]=mean((test_y1-predict(M2_2,data.frame(test_x1,test_x2,test_x3)))^2)\n",
    "    result2_3[i]=mean((test_y1-predict(M2_3,data.frame(test_x1,test_x2,test_x3,test_x4)))^2)\n",
    "    result2_4[i]=mean((test_y1-predict(M2_4,data.frame(test_x1,test_x2,test_x3,test_x4,test_x5)))^2)  \n",
    "    }\n",
    "print(mean(result1));print(mean(result2));print(mean(result2_2));print(mean(result2_3));print(mean(result2_4))"
   ]
  },
  {
   "cell_type": "code",
   "execution_count": 33,
   "id": "8ec84a1f-e3b6-4122-bc06-f858cfb471a6",
   "metadata": {},
   "outputs": [
    {
     "data": {
      "text/html": [
       "<style>\n",
       ".dl-inline {width: auto; margin:0; padding: 0}\n",
       ".dl-inline>dt, .dl-inline>dd {float: none; width: auto; display: inline-block}\n",
       ".dl-inline>dt::after {content: \":\\0020\"; padding-right: .5ex}\n",
       ".dl-inline>dt:not(:first-of-type) {padding-left: .5ex}\n",
       "</style><dl class=dl-inline><dt>(Intercept)</dt><dd>3.33742167691734</dd><dt>train_x1</dt><dd>-4.4218260738446</dd><dt>train_x2</dt><dd>13.0062453144602</dd></dl>\n"
      ],
      "text/latex": [
       "\\begin{description*}\n",
       "\\item[(Intercept)] 3.33742167691734\n",
       "\\item[train\\textbackslash{}\\_x1] -4.4218260738446\n",
       "\\item[train\\textbackslash{}\\_x2] 13.0062453144602\n",
       "\\end{description*}\n"
      ],
      "text/markdown": [
       "(Intercept)\n",
       ":   3.33742167691734train_x1\n",
       ":   -4.4218260738446train_x2\n",
       ":   13.0062453144602\n",
       "\n"
      ],
      "text/plain": [
       "(Intercept)    train_x1    train_x2 \n",
       "   3.337422   -4.421826   13.006245 "
      ]
     },
     "metadata": {},
     "output_type": "display_data"
    },
    {
     "data": {
      "text/html": [
       "<style>\n",
       ".dl-inline {width: auto; margin:0; padding: 0}\n",
       ".dl-inline>dt, .dl-inline>dd {float: none; width: auto; display: inline-block}\n",
       ".dl-inline>dt::after {content: \":\\0020\"; padding-right: .5ex}\n",
       ".dl-inline>dt:not(:first-of-type) {padding-left: .5ex}\n",
       "</style><dl class=dl-inline><dt>(Intercept)</dt><dd>2.79738940769783</dd><dt>train_x1</dt><dd>2.92350133078144</dd><dt>train_x2</dt><dd>-6.31809961451126</dd><dt>train_x3</dt><dd>13.268899752175</dd></dl>\n"
      ],
      "text/latex": [
       "\\begin{description*}\n",
       "\\item[(Intercept)] 2.79738940769783\n",
       "\\item[train\\textbackslash{}\\_x1] 2.92350133078144\n",
       "\\item[train\\textbackslash{}\\_x2] -6.31809961451126\n",
       "\\item[train\\textbackslash{}\\_x3] 13.268899752175\n",
       "\\end{description*}\n"
      ],
      "text/markdown": [
       "(Intercept)\n",
       ":   2.79738940769783train_x1\n",
       ":   2.92350133078144train_x2\n",
       ":   -6.31809961451126train_x3\n",
       ":   13.268899752175\n",
       "\n"
      ],
      "text/plain": [
       "(Intercept)    train_x1    train_x2    train_x3 \n",
       "   2.797389    2.923501   -6.318100   13.268900 "
      ]
     },
     "metadata": {},
     "output_type": "display_data"
    },
    {
     "data": {
      "text/html": [
       "<style>\n",
       ".dl-inline {width: auto; margin:0; padding: 0}\n",
       ".dl-inline>dt, .dl-inline>dd {float: none; width: auto; display: inline-block}\n",
       ".dl-inline>dt::after {content: \":\\0020\"; padding-right: .5ex}\n",
       ".dl-inline>dt:not(:first-of-type) {padding-left: .5ex}\n",
       "</style><dl class=dl-inline><dt>(Intercept)</dt><dd>2.67631232157832</dd><dt>train_x1</dt><dd>3.53810018129673</dd><dt>train_x2</dt><dd>-4.20729411947289</dd><dt>train_x3</dt><dd>4.72887135993403</dd><dt>train_x4</dt><dd>6.18767167407493</dd></dl>\n"
      ],
      "text/latex": [
       "\\begin{description*}\n",
       "\\item[(Intercept)] 2.67631232157832\n",
       "\\item[train\\textbackslash{}\\_x1] 3.53810018129673\n",
       "\\item[train\\textbackslash{}\\_x2] -4.20729411947289\n",
       "\\item[train\\textbackslash{}\\_x3] 4.72887135993403\n",
       "\\item[train\\textbackslash{}\\_x4] 6.18767167407493\n",
       "\\end{description*}\n"
      ],
      "text/markdown": [
       "(Intercept)\n",
       ":   2.67631232157832train_x1\n",
       ":   3.53810018129673train_x2\n",
       ":   -4.20729411947289train_x3\n",
       ":   4.72887135993403train_x4\n",
       ":   6.18767167407493\n",
       "\n"
      ],
      "text/plain": [
       "(Intercept)    train_x1    train_x2    train_x3    train_x4 \n",
       "   2.676312    3.538100   -4.207294    4.728871    6.187672 "
      ]
     },
     "metadata": {},
     "output_type": "display_data"
    },
    {
     "data": {
      "text/html": [
       "<style>\n",
       ".dl-inline {width: auto; margin:0; padding: 0}\n",
       ".dl-inline>dt, .dl-inline>dd {float: none; width: auto; display: inline-block}\n",
       ".dl-inline>dt::after {content: \":\\0020\"; padding-right: .5ex}\n",
       ".dl-inline>dt:not(:first-of-type) {padding-left: .5ex}\n",
       "</style><dl class=dl-inline><dt>(Intercept)</dt><dd>2.6944260166692</dd><dt>train_x1</dt><dd>2.9164772419162</dd><dt>train_x2</dt><dd>-1.6408374248753</dd><dt>train_x3</dt><dd>3.84299551629256</dd><dt>train_x4</dt><dd>0.495275734059115</dd><dt>train_x5</dt><dd>4.76860416637478</dd></dl>\n"
      ],
      "text/latex": [
       "\\begin{description*}\n",
       "\\item[(Intercept)] 2.6944260166692\n",
       "\\item[train\\textbackslash{}\\_x1] 2.9164772419162\n",
       "\\item[train\\textbackslash{}\\_x2] -1.6408374248753\n",
       "\\item[train\\textbackslash{}\\_x3] 3.84299551629256\n",
       "\\item[train\\textbackslash{}\\_x4] 0.495275734059115\n",
       "\\item[train\\textbackslash{}\\_x5] 4.76860416637478\n",
       "\\end{description*}\n"
      ],
      "text/markdown": [
       "(Intercept)\n",
       ":   2.6944260166692train_x1\n",
       ":   2.9164772419162train_x2\n",
       ":   -1.6408374248753train_x3\n",
       ":   3.84299551629256train_x4\n",
       ":   0.495275734059115train_x5\n",
       ":   4.76860416637478\n",
       "\n"
      ],
      "text/plain": [
       "(Intercept)    train_x1    train_x2    train_x3    train_x4    train_x5 \n",
       "  2.6944260   2.9164772  -1.6408374   3.8429955   0.4952757   4.7686042 "
      ]
     },
     "metadata": {},
     "output_type": "display_data"
    }
   ],
   "source": [
    "M2$coefficients;M2_2$coefficients;M2_3$coefficients;M2_4$coefficients"
   ]
  },
  {
   "cell_type": "code",
   "execution_count": 34,
   "id": "2ffb1b7d-799b-4ec8-9ae8-0402b4d25859",
   "metadata": {},
   "outputs": [
    {
     "data": {
      "text/html": [
       "<style>\n",
       ".dl-inline {width: auto; margin:0; padding: 0}\n",
       ".dl-inline>dt, .dl-inline>dd {float: none; width: auto; display: inline-block}\n",
       ".dl-inline>dt::after {content: \":\\0020\"; padding-right: .5ex}\n",
       ".dl-inline>dt:not(:first-of-type) {padding-left: .5ex}\n",
       "</style><dl class=dl-inline><dt>train_x1</dt><dd>15.3582739877788</dd><dt>train_x2</dt><dd>15.3582739877788</dd></dl>\n"
      ],
      "text/latex": [
       "\\begin{description*}\n",
       "\\item[train\\textbackslash{}\\_x1] 15.3582739877788\n",
       "\\item[train\\textbackslash{}\\_x2] 15.3582739877788\n",
       "\\end{description*}\n"
      ],
      "text/markdown": [
       "train_x1\n",
       ":   15.3582739877788train_x2\n",
       ":   15.3582739877788\n",
       "\n"
      ],
      "text/plain": [
       "train_x1 train_x2 \n",
       "15.35827 15.35827 "
      ]
     },
     "metadata": {},
     "output_type": "display_data"
    },
    {
     "data": {
      "text/html": [
       "<style>\n",
       ".dl-inline {width: auto; margin:0; padding: 0}\n",
       ".dl-inline>dt, .dl-inline>dd {float: none; width: auto; display: inline-block}\n",
       ".dl-inline>dt::after {content: \":\\0020\"; padding-right: .5ex}\n",
       ".dl-inline>dt:not(:first-of-type) {padding-left: .5ex}\n",
       "</style><dl class=dl-inline><dt>train_x1</dt><dd>56.311258430317</dd><dt>train_x2</dt><dd>329.079676685842</dd><dt>train_x3</dt><dd>136.482356227786</dd></dl>\n"
      ],
      "text/latex": [
       "\\begin{description*}\n",
       "\\item[train\\textbackslash{}\\_x1] 56.311258430317\n",
       "\\item[train\\textbackslash{}\\_x2] 329.079676685842\n",
       "\\item[train\\textbackslash{}\\_x3] 136.482356227786\n",
       "\\end{description*}\n"
      ],
      "text/markdown": [
       "train_x1\n",
       ":   56.311258430317train_x2\n",
       ":   329.079676685842train_x3\n",
       ":   136.482356227786\n",
       "\n"
      ],
      "text/plain": [
       " train_x1  train_x2  train_x3 \n",
       " 56.31126 329.07968 136.48236 "
      ]
     },
     "metadata": {},
     "output_type": "display_data"
    },
    {
     "data": {
      "text/html": [
       "<style>\n",
       ".dl-inline {width: auto; margin:0; padding: 0}\n",
       ".dl-inline>dt, .dl-inline>dd {float: none; width: auto; display: inline-block}\n",
       ".dl-inline>dt::after {content: \":\\0020\"; padding-right: .5ex}\n",
       ".dl-inline>dt:not(:first-of-type) {padding-left: .5ex}\n",
       "</style><dl class=dl-inline><dt>train_x1</dt><dd>58.1468087888072</dd><dt>train_x2</dt><dd>353.043195799331</dd><dt>train_x3</dt><dd>498.429281610092</dd><dt>train_x4</dt><dd>170.495203086306</dd></dl>\n"
      ],
      "text/latex": [
       "\\begin{description*}\n",
       "\\item[train\\textbackslash{}\\_x1] 58.1468087888072\n",
       "\\item[train\\textbackslash{}\\_x2] 353.043195799331\n",
       "\\item[train\\textbackslash{}\\_x3] 498.429281610092\n",
       "\\item[train\\textbackslash{}\\_x4] 170.495203086306\n",
       "\\end{description*}\n"
      ],
      "text/markdown": [
       "train_x1\n",
       ":   58.1468087888072train_x2\n",
       ":   353.043195799331train_x3\n",
       ":   498.429281610092train_x4\n",
       ":   170.495203086306\n",
       "\n"
      ],
      "text/plain": [
       " train_x1  train_x2  train_x3  train_x4 \n",
       " 58.14681 353.04320 498.42928 170.49520 "
      ]
     },
     "metadata": {},
     "output_type": "display_data"
    },
    {
     "data": {
      "text/html": [
       "<style>\n",
       ".dl-inline {width: auto; margin:0; padding: 0}\n",
       ".dl-inline>dt, .dl-inline>dd {float: none; width: auto; display: inline-block}\n",
       ".dl-inline>dt::after {content: \":\\0020\"; padding-right: .5ex}\n",
       ".dl-inline>dt:not(:first-of-type) {padding-left: .5ex}\n",
       "</style><dl class=dl-inline><dt>train_x1</dt><dd>62.3638143924368</dd><dt>train_x2</dt><dd>432.602200437012</dd><dt>train_x3</dt><dd>507.175881850585</dd><dt>train_x4</dt><dd>494.547525661941</dd><dt>train_x5</dt><dd>202.355701338419</dd></dl>\n"
      ],
      "text/latex": [
       "\\begin{description*}\n",
       "\\item[train\\textbackslash{}\\_x1] 62.3638143924368\n",
       "\\item[train\\textbackslash{}\\_x2] 432.602200437012\n",
       "\\item[train\\textbackslash{}\\_x3] 507.175881850585\n",
       "\\item[train\\textbackslash{}\\_x4] 494.547525661941\n",
       "\\item[train\\textbackslash{}\\_x5] 202.355701338419\n",
       "\\end{description*}\n"
      ],
      "text/markdown": [
       "train_x1\n",
       ":   62.3638143924368train_x2\n",
       ":   432.602200437012train_x3\n",
       ":   507.175881850585train_x4\n",
       ":   494.547525661941train_x5\n",
       ":   202.355701338419\n",
       "\n"
      ],
      "text/plain": [
       " train_x1  train_x2  train_x3  train_x4  train_x5 \n",
       " 62.36381 432.60220 507.17588 494.54753 202.35570 "
      ]
     },
     "metadata": {},
     "output_type": "display_data"
    }
   ],
   "source": [
    "VIF(M2);VIF(M2_2);VIF(M2_3);VIF(M2_4)"
   ]
  },
  {
   "cell_type": "markdown",
   "id": "c0b11abe-f623-48cc-bdc3-4aef880f3d58",
   "metadata": {},
   "source": [
    "---"
   ]
  },
  {
   "cell_type": "markdown",
   "id": "568bf768-c994-473f-b633-6a5b2bb8c1ac",
   "metadata": {},
   "source": [
    "다중공선성을 어느정도 제거한 모델(`M1`)과 제거하지 않은 모델들(`M2`,`M2_2`,`M2_3`,`M2_4`)을 비교해보았다.\n",
    "- 설명변수($x_1,x_2,x_3,x_4,x_5$)끼리 배수 관계에 있던 모델들과 다르게 거듭제곱 관계에 있던 모델들은 결과(MSE)가 비슷하긴 하지만 설명변수가 배수관계에 있던 모델만큼 비슷하진 않았다.\n",
    "    - 배수 관계 가정: `시도2`, `시도5`, `시도6`, `시도7`\n",
    "    - 거듭제곱 관계 가정: `시도3`, `시도4`, `시도8`\n",
    "- 다중공선성을 가정하여 모델을 만들었기 때문에 당연하게 `VIF;분산팽창요인`이 모든 시도에서 크게 나온 결과를 확인할 수 있었다.\n",
    "- `시도2`, `시도3`을 비교해보니 데이터 500개를 사용할 때보다 1000개를 사용할때 다중공선성을 가정한 MSE가 조금 더 컸다. 하지만 분산퍙창계수의 차이는 1000개의 데이터를 사용했을때 더 작았다.\n",
    "    - 시도2보다 시도3에서 M1과 M2의 차이가 크다고 했지만 그 크기는 0.3정도의 차이이긴 하다.\n",
    "    - 분산팽창요인은 그래도 시도2와 시도3이 10을 충분히 넘긴 값이긴 헀다.\n",
    "- `시도3`과 `시도4`의 차이는 반응변수 $y$의 $\\epsilon$ 의 $rnorm$ 지정을 해줄때 시도4에 $mean=0, sd=0.1$을 지정해준 것이다.\n",
    "    - 결과를 보니 분산팽창계수가 낮아졌다. 하지만 여전히 모두 10을 넘었다.\n",
    "- `시도7`,`시도8` 을 미루어 보아 설명변수끼리 관계가 있고, 또 여러개 존재했을때 설명변수가 추가될수록 모형의 평균제곱오차가 조금씩 커지는 경향을 보였다.\n",
    "    - 즉, 예측력이 조금씩 줄어드는 경향을 보였다."
   ]
  }
 ],
 "metadata": {
  "kernelspec": {
   "display_name": "R",
   "language": "R",
   "name": "ir"
  },
  "language_info": {
   "codemirror_mode": "r",
   "file_extension": ".r",
   "mimetype": "text/x-r-source",
   "name": "R",
   "pygments_lexer": "r",
   "version": "4.1.2"
  }
 },
 "nbformat": 4,
 "nbformat_minor": 5
}
