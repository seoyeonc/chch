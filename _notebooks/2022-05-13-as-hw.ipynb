{
 "cells": [
  {
   "cell_type": "markdown",
   "id": "1274533e-2324-47fa-883b-da07e1204247",
   "metadata": {
    "id": "cac470df-29e7-4148-9bbd-d8b9a32fa570",
    "tags": []
   },
   "source": [
    "# 응용통계학 과제\n",
    "> 다중공선성\n",
    "\n",
    "- toc:true\n",
    "- branch: master\n",
    "- badges: true\n",
    "- comments: false\n",
    "- author: 최서연\n",
    "- categories: [Applied Statistics, 다중공선성]"
   ]
  },
  {
   "cell_type": "markdown",
   "id": "93a9c948-0d19-44c8-9469-31be39080adc",
   "metadata": {},
   "source": [
    "# 응용통계학 과제 20220512\n",
    "- 202150754 최서연\n",
    "> 다중공선성 "
   ]
  },
  {
   "cell_type": "markdown",
   "id": "523b9ded-5195-40f5-b055-5508851aa981",
   "metadata": {},
   "source": [
    "\n",
    "다중공선성이 존재하는 상황을 가정하고 \n",
    "\n",
    " \n",
    "\n",
    "다중공선성을 어느 정도 제거한 모형 (M1)과 다중공선성이 내재되어 있는 모형 (M2) 을 고려하여\n",
    "\n",
    " \n",
    "\n",
    "두 모형의 예측력을 모의실험을 통해 비교하여라,\n",
    "\n",
    " \n",
    "\n",
    "단, 실험은 여러 번 반복하여 평균적인 결과를  report하되 설명변수의 개수는 3개 이상으로 설정하여라.\n",
    "\n",
    " \n",
    "\n",
    "이미 존재하는 문서들을 참고하거나 재현해도 무방함.\n",
    "\n",
    " \n",
    "\n",
    "(첨부된 문서 참고)"
   ]
  },
  {
   "cell_type": "code",
   "execution_count": 57,
   "id": "8f64ee8d-0948-46ff-9188-59053b7a2273",
   "metadata": {},
   "outputs": [
    {
     "data": {
      "text/html": [
       "<style>\n",
       ".list-inline {list-style: none; margin:0; padding: 0}\n",
       ".list-inline>li {display: inline-block}\n",
       ".list-inline>li:not(:last-child)::after {content: \"\\00b7\"; padding: 0 .5ex}\n",
       "</style>\n",
       "<ol class=list-inline><li>54.8308225989788</li><li>54.8277929247816</li></ol>\n"
      ],
      "text/latex": [
       "\\begin{enumerate*}\n",
       "\\item 54.8308225989788\n",
       "\\item 54.8277929247816\n",
       "\\end{enumerate*}\n"
      ],
      "text/markdown": [
       "1. 54.8308225989788\n",
       "2. 54.8277929247816\n",
       "\n",
       "\n"
      ],
      "text/plain": [
       "[1] 54.83082 54.82779"
      ]
     },
     "metadata": {},
     "output_type": "display_data"
    },
    {
     "data": {
      "text/html": [
       "<style>\n",
       ".list-inline {list-style: none; margin:0; padding: 0}\n",
       ".list-inline>li {display: inline-block}\n",
       ".list-inline>li:not(:last-child)::after {content: \"\\00b7\"; padding: 0 .5ex}\n",
       "</style>\n",
       "<ol class=list-inline><li>22.8316869455307</li><li>0.999111193289439</li></ol>\n"
      ],
      "text/latex": [
       "\\begin{enumerate*}\n",
       "\\item 22.8316869455307\n",
       "\\item 0.999111193289439\n",
       "\\end{enumerate*}\n"
      ],
      "text/markdown": [
       "1. 22.8316869455307\n",
       "2. 0.999111193289439\n",
       "\n",
       "\n"
      ],
      "text/plain": [
       "[1] 22.8316869  0.9991112"
      ]
     },
     "metadata": {},
     "output_type": "display_data"
    }
   ],
   "source": [
    "Nrep = 200\n",
    "\n",
    "n = 1000\n",
    "\n",
    "hatb1 <- hatb2 <- c()\n",
    "te1 <- te2 <- c()\n",
    "\n",
    "for (k in 1:Nrep)\n",
    "{\n",
    "x1 = runif(n,-3,3)\n",
    "x2 = x1 + rnorm(n,0,0.01)\n",
    "#X = model.matrix(~ x1 + x2)\n",
    "#solve(t(X)%*%X)\n",
    "y = 2 + x1 + 2*x2 + rnorm(n)\n",
    "\n",
    "ind = sample(1:n,500)\n",
    "tx1 = x1[ind]\n",
    "tx2 = x2[ind]\n",
    "test_x1 = x1[-ind]\n",
    "test_x2 = x2[-ind]\n",
    "ty  = y[ind]\n",
    "test_y = y[-ind]\n",
    "\n",
    "fit1 = lm(ty~tx1+tx2)\n",
    "fit2 = lm(ty~tx1)\n",
    "\n",
    "hatb1[k] = fit1$coefficients[2]\n",
    "hatb2[k] = fit2$coefficients[2]\n",
    "\n",
    "te1[k] = mean((test_y - predict(fit1,newdata=data.frame(test_x1,test_x2)))^2)\n",
    "te2[k] = mean((test_y - predict(fit2,newdata=data.frame(test_x1)))^2)\n",
    "#summary(lm(y~x1+x2))\n",
    "#print(k)\n",
    "}\n",
    "\n",
    "c(mean(te1),mean(te2))\n",
    "c(mean((hatb1-1)^2),mean((hatb2-2)^2))"
   ]
  },
  {
   "cell_type": "markdown",
   "id": "86df5d1c-73c9-4211-b42e-d951f4b81e2a",
   "metadata": {},
   "source": [
    "---"
   ]
  },
  {
   "cell_type": "code",
   "execution_count": 55,
   "id": "47335c43-cb6f-4456-8e00-dcc50ec8d495",
   "metadata": {},
   "outputs": [],
   "source": [
    "library(regclass)"
   ]
  },
  {
   "cell_type": "code",
   "execution_count": 56,
   "id": "d15a431b-beb3-4355-9e54-e41af62d9e42",
   "metadata": {},
   "outputs": [],
   "source": [
    "library(car)"
   ]
  },
  {
   "cell_type": "markdown",
   "id": "ff5c7bc5-a3d2-43e4-806f-a6086e109cb9",
   "metadata": {},
   "source": [
    "---"
   ]
  },
  {
   "cell_type": "markdown",
   "id": "8685278c-725f-4529-8a53-ac36c6c6777a",
   "metadata": {},
   "source": [
    "## 시도 1"
   ]
  },
  {
   "cell_type": "code",
   "execution_count": 4,
   "id": "e49c4ffa-cad7-43ce-ba09-a45cac956a3a",
   "metadata": {},
   "outputs": [
    {
     "data": {
      "text/html": [
       "<style>\n",
       ".list-inline {list-style: none; margin:0; padding: 0}\n",
       ".list-inline>li {display: inline-block}\n",
       ".list-inline>li:not(:last-child)::after {content: \"\\00b7\"; padding: 0 .5ex}\n",
       "</style>\n",
       "<ol class=list-inline><li>119.991384079334</li><li>119.991384079334</li></ol>\n"
      ],
      "text/latex": [
       "\\begin{enumerate*}\n",
       "\\item 119.991384079334\n",
       "\\item 119.991384079334\n",
       "\\end{enumerate*}\n"
      ],
      "text/markdown": [
       "1. 119.991384079334\n",
       "2. 119.991384079334\n",
       "\n",
       "\n"
      ],
      "text/plain": [
       "[1] 119.9914 119.9914"
      ]
     },
     "metadata": {},
     "output_type": "display_data"
    },
    {
     "data": {
      "text/html": [
       "<style>\n",
       ".list-inline {list-style: none; margin:0; padding: 0}\n",
       ".list-inline>li {display: inline-block}\n",
       ".list-inline>li:not(:last-child)::after {content: \"\\00b7\"; padding: 0 .5ex}\n",
       "</style>\n",
       "<ol class=list-inline><li>19.200631052119</li><li>4.08750895649477</li></ol>\n"
      ],
      "text/latex": [
       "\\begin{enumerate*}\n",
       "\\item 19.200631052119\n",
       "\\item 4.08750895649477\n",
       "\\end{enumerate*}\n"
      ],
      "text/markdown": [
       "1. 19.200631052119\n",
       "2. 4.08750895649477\n",
       "\n",
       "\n"
      ],
      "text/plain": [
       "[1] 19.200631  4.087509"
      ]
     },
     "metadata": {},
     "output_type": "display_data"
    }
   ],
   "source": [
    "Nrep = 200\n",
    "\n",
    "n = 1000\n",
    "\n",
    "hatb1 <- hatb2 <- c()\n",
    "te1 <- te2 <- c()\n",
    "\n",
    "for (k in 1:Nrep)\n",
    "{\n",
    "x1 = runif(n,-3,3)\n",
    "x2 = x1 + rnorm(n,0,0.01)\n",
    "x3 = x1^2 + rnorm(n,0,0.01)\n",
    "y = 2 + x1 + 2*x2 + 3*x3 + rnorm(n)\n",
    "\n",
    "ind = sample(1:n,500)\n",
    "tx1 = x1[ind]\n",
    "tx2 = x2[ind]\n",
    "tx3 = x3[ind]\n",
    "test_x1 = x1[-ind]\n",
    "test_x2 = x2[-ind]\n",
    "test_x3 = x3[-ind]\n",
    "ty  = y[ind]\n",
    "test_y = y[-ind]\n",
    "\n",
    "M2 = lm(ty~tx1+tx2+tx3)\n",
    "M1 = lm(ty~tx1)\n",
    "\n",
    "hatb1[k] = M2$coefficients[2]\n",
    "hatb2[k] = M1$coefficients[2]\n",
    "\n",
    "te1[k] = mean((test_y - predict(M1,newdata=data.frame(test_x1,test_x2,test_x3)))^2)\n",
    "te2[k] = mean((test_y - predict(M1,newdata=data.frame(test_x1)))^2)\n",
    "}\n",
    "\n",
    "c(mean(te1),mean(te2))\n",
    "c(mean((hatb1-2)^2),mean((hatb2-1)^2))"
   ]
  },
  {
   "cell_type": "markdown",
   "id": "6172f227-fa35-473d-91ce-b73c5d89efbe",
   "metadata": {},
   "source": [
    "---"
   ]
  },
  {
   "cell_type": "markdown",
   "id": "b2f1c467-e50b-47f6-b053-93f710520667",
   "metadata": {},
   "source": [
    "## 시도 2"
   ]
  },
  {
   "cell_type": "markdown",
   "id": "ecdad398-80d9-4336-b37d-cf2eef1c1062",
   "metadata": {},
   "source": [
    "- $y_1=3+x_1+1.5x_2+3.5x_3+\\epsilon$\n",
    "  - $x_2=x_1+\\epsilon$\n",
    "  - $x_3=x_1+\\epsilon$\n",
    "- 1000번 반복\n",
    "- 500개 데이터"
   ]
  },
  {
   "cell_type": "code",
   "execution_count": 5,
   "id": "4b9407c6-4459-4243-9200-e12f07e77f63",
   "metadata": {},
   "outputs": [],
   "source": [
    "x1 = runif(500)\n",
    "x2 = x1 + rnorm(500,0,0.01)\n",
    "x3 = x1 + rnorm(500,0,0.1)\n",
    "y1= 3 + x1 + 1.5*x2 + 3.5*x3 + rnorm(500)"
   ]
  },
  {
   "cell_type": "code",
   "execution_count": 6,
   "id": "8f7e2bad-a5e7-492f-8bc6-951cd28e933d",
   "metadata": {},
   "outputs": [
    {
     "data": {
      "text/html": [
       "0.999333332056596"
      ],
      "text/latex": [
       "0.999333332056596"
      ],
      "text/markdown": [
       "0.999333332056596"
      ],
      "text/plain": [
       "[1] 0.9993333"
      ]
     },
     "metadata": {},
     "output_type": "display_data"
    },
    {
     "data": {
      "text/html": [
       "0.944426638052701"
      ],
      "text/latex": [
       "0.944426638052701"
      ],
      "text/markdown": [
       "0.944426638052701"
      ],
      "text/plain": [
       "[1] 0.9444266"
      ]
     },
     "metadata": {},
     "output_type": "display_data"
    }
   ],
   "source": [
    "cor(x1,x2)\n",
    "cor(x1,x3)"
   ]
  },
  {
   "cell_type": "markdown",
   "id": "30b8d8ef-3fd4-401c-8a6c-4cf711ef4d7d",
   "metadata": {},
   "source": [
    "높은 상관계수 확인"
   ]
  },
  {
   "cell_type": "code",
   "execution_count": 7,
   "id": "78628715-07dd-472f-a84d-92294c92be8f",
   "metadata": {},
   "outputs": [],
   "source": [
    "M1 = lm(y1~x1)"
   ]
  },
  {
   "cell_type": "code",
   "execution_count": 8,
   "id": "7f1d1038-3dbd-4b91-bd9a-25819a4b8f6c",
   "metadata": {},
   "outputs": [],
   "source": [
    "M2 = lm(y1~x1+x2+x3)"
   ]
  },
  {
   "cell_type": "code",
   "execution_count": 9,
   "id": "fea833d0-a7a0-4c58-b5b7-5e5be6f7dd02",
   "metadata": {},
   "outputs": [
    {
     "data": {
      "text/html": [
       "<style>\n",
       ".dl-inline {width: auto; margin:0; padding: 0}\n",
       ".dl-inline>dt, .dl-inline>dd {float: none; width: auto; display: inline-block}\n",
       ".dl-inline>dt::after {content: \":\\0020\"; padding-right: .5ex}\n",
       ".dl-inline>dt:not(:first-of-type) {padding-left: .5ex}\n",
       "</style><dl class=dl-inline><dt>x1</dt><dd>769.478040146558</dd><dt>x2</dt><dd>752.525005883978</dd><dt>x3</dt><dd>9.28234021861863</dd></dl>\n"
      ],
      "text/latex": [
       "\\begin{description*}\n",
       "\\item[x1] 769.478040146558\n",
       "\\item[x2] 752.525005883978\n",
       "\\item[x3] 9.28234021861863\n",
       "\\end{description*}\n"
      ],
      "text/markdown": [
       "x1\n",
       ":   769.478040146558x2\n",
       ":   752.525005883978x3\n",
       ":   9.28234021861863\n",
       "\n"
      ],
      "text/plain": [
       "       x1        x2        x3 \n",
       "769.47804 752.52501   9.28234 "
      ]
     },
     "metadata": {},
     "output_type": "display_data"
    }
   ],
   "source": [
    "VIF(M2)"
   ]
  },
  {
   "cell_type": "markdown",
   "id": "9fd7a774-3964-4496-a99c-0fa65cb8121c",
   "metadata": {},
   "source": [
    "다중공선성 존재를 가정한 모형의 VIF 10 넘는 모습이었다."
   ]
  },
  {
   "cell_type": "code",
   "execution_count": 10,
   "id": "c843e576-a078-40f2-9372-3faf2379776c",
   "metadata": {},
   "outputs": [
    {
     "name": "stdout",
     "output_type": "stream",
     "text": [
      "(Intercept)          x1 \n",
      "   2.924154    6.104740 \n"
     ]
    }
   ],
   "source": [
    "print(M1$coefficients)"
   ]
  },
  {
   "cell_type": "code",
   "execution_count": 11,
   "id": "9e2543df-d2b3-4510-b9a9-b20a324ad3e8",
   "metadata": {},
   "outputs": [
    {
     "name": "stdout",
     "output_type": "stream",
     "text": [
      "(Intercept)          x1          x2          x3 \n",
      "  2.9648412   0.6290067   0.7840545   4.6822841 \n"
     ]
    }
   ],
   "source": [
    "print(M2$coefficients)"
   ]
  },
  {
   "cell_type": "code",
   "execution_count": 12,
   "id": "077314e1-c894-402b-b104-d7fa487854e4",
   "metadata": {},
   "outputs": [
    {
     "data": {
      "text/html": [
       "1.16027629279028"
      ],
      "text/latex": [
       "1.16027629279028"
      ],
      "text/markdown": [
       "1.16027629279028"
      ],
      "text/plain": [
       "[1] 1.160276"
      ]
     },
     "metadata": {},
     "output_type": "display_data"
    }
   ],
   "source": [
    "mean((y1-predict(M1,data.frame(x1)))^2)"
   ]
  },
  {
   "cell_type": "code",
   "execution_count": 13,
   "id": "f534b02b-7d66-4485-9c67-2340149d0b50",
   "metadata": {},
   "outputs": [
    {
     "data": {
      "text/html": [
       "0.939102615255114"
      ],
      "text/latex": [
       "0.939102615255114"
      ],
      "text/markdown": [
       "0.939102615255114"
      ],
      "text/plain": [
       "[1] 0.9391026"
      ]
     },
     "metadata": {},
     "output_type": "display_data"
    }
   ],
   "source": [
    "mean((y1-predict(M2,data.frame(x1,x2,x3)))^2)"
   ]
  },
  {
   "cell_type": "markdown",
   "id": "ba55d48f-7c01-484d-a443-f6211bac7e2a",
   "metadata": {},
   "source": [
    "다중공선성을 제거한 모형이 다중공선성이 있는 모형보다 제곱평균오차가 컸다."
   ]
  },
  {
   "cell_type": "markdown",
   "id": "12881b23-d873-4a50-a14a-a8047e9023af",
   "metadata": {},
   "source": [
    "반복"
   ]
  },
  {
   "cell_type": "code",
   "execution_count": 73,
   "id": "2ae7f6ad-a678-484e-ae81-172b92838359",
   "metadata": {},
   "outputs": [
    {
     "name": "stdout",
     "output_type": "stream",
     "text": [
      "[1] 6.985387\n",
      "[1] 6.996821\n"
     ]
    }
   ],
   "source": [
    "result1 = c()\n",
    "result2 = c()\n",
    "for (i in 1:1000){\n",
    "    x1 = runif(500)\n",
    "    x2 = x1 + rnorm(500,0,0.01)\n",
    "    x3 = x1 + rnorm(500,0,0.01)\n",
    "    y1= 3 + x1 + 1.5*x2 + 3.5*x3 + rnorm(500)\n",
    "    train_x1 = x1[1:250]\n",
    "    train_x2 = x2[1:250]\n",
    "    train_x3 = x3[1:250]\n",
    "    train_y1 = y1[1:250]\n",
    "    test_x1 = x1[251:500]\n",
    "    test_x2 = x2[251:500]\n",
    "    test_x3 = x3[251:500]\n",
    "    test_y1 = y1[251:500]\n",
    "    M1 = lm(train_y1~train_x1)\n",
    "    M2 = lm(train_y1~train_x1+train_x2+train_x3)\n",
    "    result1[i]=mean((test_y1-predict(M1,data.frame(test_x1)))^2)\n",
    "    result2[i]=mean((test_y1-predict(M2,data.frame(test_x1,test_x2,test_x3)))^2)\n",
    "    }\n",
    "print(mean(result1));print(mean(result2))"
   ]
  },
  {
   "cell_type": "markdown",
   "id": "b7685a18-e54e-430b-b411-fa6810ee1589",
   "metadata": {},
   "source": [
    "다중공선성이 있는 모형과 다중공선성이 없는 모형의 MSE가 비슷한 값이 나왔다."
   ]
  },
  {
   "cell_type": "code",
   "execution_count": 74,
   "id": "3c6271d4-6285-4353-895c-b8b3c6f464a1",
   "metadata": {},
   "outputs": [
    {
     "data": {
      "text/html": [
       "<style>\n",
       ".dl-inline {width: auto; margin:0; padding: 0}\n",
       ".dl-inline>dt, .dl-inline>dd {float: none; width: auto; display: inline-block}\n",
       ".dl-inline>dt::after {content: \":\\0020\"; padding-right: .5ex}\n",
       ".dl-inline>dt:not(:first-of-type) {padding-left: .5ex}\n",
       "</style><dl class=dl-inline><dt>(Intercept)</dt><dd>3.07608787656261</dd><dt>train_x1</dt><dd>10.3449761360414</dd><dt>train_x2</dt><dd>-9.46445312391056</dd><dt>train_x3</dt><dd>5.03184427287122</dd></dl>\n"
      ],
      "text/latex": [
       "\\begin{description*}\n",
       "\\item[(Intercept)] 3.07608787656261\n",
       "\\item[train\\textbackslash{}\\_x1] 10.3449761360414\n",
       "\\item[train\\textbackslash{}\\_x2] -9.46445312391056\n",
       "\\item[train\\textbackslash{}\\_x3] 5.03184427287122\n",
       "\\end{description*}\n"
      ],
      "text/markdown": [
       "(Intercept)\n",
       ":   3.07608787656261train_x1\n",
       ":   10.3449761360414train_x2\n",
       ":   -9.46445312391056train_x3\n",
       ":   5.03184427287122\n",
       "\n"
      ],
      "text/plain": [
       "(Intercept)    train_x1    train_x2    train_x3 \n",
       "   3.076088   10.344976   -9.464453    5.031844 "
      ]
     },
     "metadata": {},
     "output_type": "display_data"
    }
   ],
   "source": [
    "M2$coefficients"
   ]
  },
  {
   "cell_type": "code",
   "execution_count": 75,
   "id": "498ffe6d-251e-40ba-a73e-2d8ac814511b",
   "metadata": {},
   "outputs": [
    {
     "data": {
      "text/html": [
       "<style>\n",
       ".dl-inline {width: auto; margin:0; padding: 0}\n",
       ".dl-inline>dt, .dl-inline>dd {float: none; width: auto; display: inline-block}\n",
       ".dl-inline>dt::after {content: \":\\0020\"; padding-right: .5ex}\n",
       ".dl-inline>dt:not(:first-of-type) {padding-left: .5ex}\n",
       "</style><dl class=dl-inline><dt>train_x1</dt><dd>1699.17143597162</dd><dt>train_x2</dt><dd>831.818476211278</dd><dt>train_x3</dt><dd>858.731910268151</dd></dl>\n"
      ],
      "text/latex": [
       "\\begin{description*}\n",
       "\\item[train\\textbackslash{}\\_x1] 1699.17143597162\n",
       "\\item[train\\textbackslash{}\\_x2] 831.818476211278\n",
       "\\item[train\\textbackslash{}\\_x3] 858.731910268151\n",
       "\\end{description*}\n"
      ],
      "text/markdown": [
       "train_x1\n",
       ":   1699.17143597162train_x2\n",
       ":   831.818476211278train_x3\n",
       ":   858.731910268151\n",
       "\n"
      ],
      "text/plain": [
       " train_x1  train_x2  train_x3 \n",
       "1699.1714  831.8185  858.7319 "
      ]
     },
     "metadata": {},
     "output_type": "display_data"
    }
   ],
   "source": [
    "VIF(M2)"
   ]
  },
  {
   "cell_type": "markdown",
   "id": "5620018d-f99a-487b-a3d0-cf920b484a38",
   "metadata": {},
   "source": [
    "---"
   ]
  },
  {
   "cell_type": "markdown",
   "id": "fb14ebd5-7778-4131-af28-ce5aa90fe1c7",
   "metadata": {},
   "source": [
    "## 시도 3"
   ]
  },
  {
   "cell_type": "markdown",
   "id": "8f3042b4-461f-439b-91e4-180adb889b89",
   "metadata": {},
   "source": [
    "- $y_1=3+x_1+2x_2+3x_3+\\epsilon$\n",
    "  - $x_2=x_1^2+\\epsilon$\n",
    "  - $x_3=x_1^3+\\epsilon$\n",
    "- 1000번 반복\n",
    "- 1000개 데이터"
   ]
  },
  {
   "cell_type": "code",
   "execution_count": 76,
   "id": "c601d447-7fed-4143-913d-e1f821547dd0",
   "metadata": {},
   "outputs": [
    {
     "name": "stdout",
     "output_type": "stream",
     "text": [
      "[1] 6.677294\n",
      "[1] 6.918895\n"
     ]
    }
   ],
   "source": [
    "result1 = c()\n",
    "result2 = c()\n",
    "for (i in 1:1000){\n",
    "    x1 = runif(1000)\n",
    "    x2 = x1^2 + rnorm(1000,0,0.01)\n",
    "    x3 = x1^3 + rnorm(1000,0,0.01)\n",
    "    y1= 3 + x1 + 2*x2 + 3*x3 + rnorm(1000)\n",
    "    train_x1 = x1[1:500]\n",
    "    train_x2 = x2[1:500]\n",
    "    train_x3 = x3[1:500]\n",
    "    train_y1 = y1[1:500]\n",
    "    test_x1 = x1[501:1000]\n",
    "    test_x2 = x2[501:1000]\n",
    "    test_x3 = x3[501:1000]\n",
    "    test_y1 = y1[501:1000]\n",
    "    M1 = lm(train_y1~train_x1)\n",
    "    M2 = lm(train_y1~train_x1+train_x2+train_x3)\n",
    "    result1[i]=mean((test_y1-predict(M1,data.frame(test_x1)))^2)\n",
    "    result2[i]=mean((test_y1-predict(M2,data.frame(test_x1,test_x2,test_x3)))^2)\n",
    "    }\n",
    "print(mean(result1));print(mean(result2))"
   ]
  },
  {
   "cell_type": "code",
   "execution_count": 77,
   "id": "4f566f57-84eb-42d9-962b-511652b70c0f",
   "metadata": {},
   "outputs": [
    {
     "data": {
      "text/html": [
       "<style>\n",
       ".dl-inline {width: auto; margin:0; padding: 0}\n",
       ".dl-inline>dt, .dl-inline>dd {float: none; width: auto; display: inline-block}\n",
       ".dl-inline>dt::after {content: \":\\0020\"; padding-right: .5ex}\n",
       ".dl-inline>dt:not(:first-of-type) {padding-left: .5ex}\n",
       "</style><dl class=dl-inline><dt>(Intercept)</dt><dd>2.93760362323675</dd><dt>train_x1</dt><dd>1.15536980504807</dd><dt>train_x2</dt><dd>0.683083797697924</dd><dt>train_x3</dt><dd>4.59283734188584</dd></dl>\n"
      ],
      "text/latex": [
       "\\begin{description*}\n",
       "\\item[(Intercept)] 2.93760362323675\n",
       "\\item[train\\textbackslash{}\\_x1] 1.15536980504807\n",
       "\\item[train\\textbackslash{}\\_x2] 0.683083797697924\n",
       "\\item[train\\textbackslash{}\\_x3] 4.59283734188584\n",
       "\\end{description*}\n"
      ],
      "text/markdown": [
       "(Intercept)\n",
       ":   2.93760362323675train_x1\n",
       ":   1.15536980504807train_x2\n",
       ":   0.683083797697924train_x3\n",
       ":   4.59283734188584\n",
       "\n"
      ],
      "text/plain": [
       "(Intercept)    train_x1    train_x2    train_x3 \n",
       "  2.9376036   1.1553698   0.6830838   4.5928373 "
      ]
     },
     "metadata": {},
     "output_type": "display_data"
    }
   ],
   "source": [
    "M2$coefficients"
   ]
  },
  {
   "cell_type": "code",
   "execution_count": 78,
   "id": "9dce7b89-57cb-4d54-8aef-53253e22213e",
   "metadata": {},
   "outputs": [
    {
     "data": {
      "text/html": [
       "<style>\n",
       ".dl-inline {width: auto; margin:0; padding: 0}\n",
       ".dl-inline>dt, .dl-inline>dd {float: none; width: auto; display: inline-block}\n",
       ".dl-inline>dt::after {content: \":\\0020\"; padding-right: .5ex}\n",
       ".dl-inline>dt:not(:first-of-type) {padding-left: .5ex}\n",
       "</style><dl class=dl-inline><dt>train_x1</dt><dd>53.7312523707977</dd><dt>train_x2</dt><dd>277.218070478995</dd><dt>train_x3</dt><dd>107.588328435756</dd></dl>\n"
      ],
      "text/latex": [
       "\\begin{description*}\n",
       "\\item[train\\textbackslash{}\\_x1] 53.7312523707977\n",
       "\\item[train\\textbackslash{}\\_x2] 277.218070478995\n",
       "\\item[train\\textbackslash{}\\_x3] 107.588328435756\n",
       "\\end{description*}\n"
      ],
      "text/markdown": [
       "train_x1\n",
       ":   53.7312523707977train_x2\n",
       ":   277.218070478995train_x3\n",
       ":   107.588328435756\n",
       "\n"
      ],
      "text/plain": [
       " train_x1  train_x2  train_x3 \n",
       " 53.73125 277.21807 107.58833 "
      ]
     },
     "metadata": {},
     "output_type": "display_data"
    }
   ],
   "source": [
    "VIF(M2)"
   ]
  },
  {
   "cell_type": "markdown",
   "id": "6e821d01-b15c-4a2c-a6a5-ecba0577c23e",
   "metadata": {},
   "source": [
    "---"
   ]
  },
  {
   "cell_type": "markdown",
   "id": "db88b100-5a85-4880-a31c-7c829467e3fb",
   "metadata": {
    "tags": []
   },
   "source": [
    "## 시도4"
   ]
  },
  {
   "cell_type": "markdown",
   "id": "d9c75241-df7b-4f86-9cf8-8d336084c6eb",
   "metadata": {},
   "source": [
    "- $y_1=3+x_1+2x_2+3x_3+\\epsilon$\n",
    "    - 시도 3과 다른 점: $\\epsilon$의 $mean=0$, $sd=0.1$ 가정\n",
    "  - $x_2=x_1^2+\\epsilon$\n",
    "  - $x_3=x_2^3+\\epsilon$\n",
    "- 1000번 반복\n",
    "- 1000개 데이터"
   ]
  },
  {
   "cell_type": "code",
   "execution_count": 82,
   "id": "e242426d-0218-4983-bbeb-b709a06f350f",
   "metadata": {},
   "outputs": [
    {
     "name": "stdout",
     "output_type": "stream",
     "text": [
      "[1] 4.40432\n",
      "[1] 4.745128\n"
     ]
    }
   ],
   "source": [
    "result1 = c()\n",
    "result2 = c()\n",
    "for (i in 1:1000){\n",
    "    x1 = runif(1000)\n",
    "    x2 = x1^2 + rnorm(1000,0,0.01)\n",
    "    x3 = x2^3 + rnorm(1000,0,0.01)\n",
    "    y1= 3 + x1 + 2*x2 + 3*x3 + rnorm(1000,0,0.1)\n",
    "    train_x1 = x1[1:500]\n",
    "    train_x2 = x2[1:500]\n",
    "    train_x3 = x3[1:500]\n",
    "    train_y1 = y1[1:500]\n",
    "    test_x1 = x1[501:1000]\n",
    "    test_x2 = x2[501:1000]\n",
    "    test_x3 = x3[501:1000]\n",
    "    test_y1 = y1[501:1000]\n",
    "    M1 = lm(train_y1~train_x1)\n",
    "    M2 = lm(train_y1~train_x1+train_x2+train_x3)\n",
    "    result1[i]=mean((test_y1-predict(M1,data.frame(test_x1)))^2)\n",
    "    result2[i]=mean((test_y1-predict(M2,data.frame(test_x1,test_x2,test_x3)))^2)\n",
    "    }\n",
    "print(mean(result1));print(mean(result2))"
   ]
  },
  {
   "cell_type": "code",
   "execution_count": 83,
   "id": "46d64413-9b11-414c-b129-3dacc9944744",
   "metadata": {},
   "outputs": [
    {
     "data": {
      "text/html": [
       "<style>\n",
       ".dl-inline {width: auto; margin:0; padding: 0}\n",
       ".dl-inline>dt, .dl-inline>dd {float: none; width: auto; display: inline-block}\n",
       ".dl-inline>dt::after {content: \":\\0020\"; padding-right: .5ex}\n",
       ".dl-inline>dt:not(:first-of-type) {padding-left: .5ex}\n",
       "</style><dl class=dl-inline><dt>(Intercept)</dt><dd>2.99594709724435</dd><dt>train_x1</dt><dd>1.03210897848428</dd><dt>train_x2</dt><dd>1.95860418782891</dd><dt>train_x3</dt><dd>3.0245492739577</dd></dl>\n"
      ],
      "text/latex": [
       "\\begin{description*}\n",
       "\\item[(Intercept)] 2.99594709724435\n",
       "\\item[train\\textbackslash{}\\_x1] 1.03210897848428\n",
       "\\item[train\\textbackslash{}\\_x2] 1.95860418782891\n",
       "\\item[train\\textbackslash{}\\_x3] 3.0245492739577\n",
       "\\end{description*}\n"
      ],
      "text/markdown": [
       "(Intercept)\n",
       ":   2.99594709724435train_x1\n",
       ":   1.03210897848428train_x2\n",
       ":   1.95860418782891train_x3\n",
       ":   3.0245492739577\n",
       "\n"
      ],
      "text/plain": [
       "(Intercept)    train_x1    train_x2    train_x3 \n",
       "   2.995947    1.032109    1.958604    3.024549 "
      ]
     },
     "metadata": {},
     "output_type": "display_data"
    }
   ],
   "source": [
    "M2$coefficients"
   ]
  },
  {
   "cell_type": "code",
   "execution_count": 84,
   "id": "f7b2fdf5-5b2d-4d98-a889-40c49714c686",
   "metadata": {},
   "outputs": [
    {
     "data": {
      "text/html": [
       "<style>\n",
       ".dl-inline {width: auto; margin:0; padding: 0}\n",
       ".dl-inline>dt, .dl-inline>dd {float: none; width: auto; display: inline-block}\n",
       ".dl-inline>dt::after {content: \":\\0020\"; padding-right: .5ex}\n",
       ".dl-inline>dt:not(:first-of-type) {padding-left: .5ex}\n",
       "</style><dl class=dl-inline><dt>train_x1</dt><dd>40.3916888838993</dd><dt>train_x2</dt><dd>77.6732829586284</dd><dt>train_x3</dt><dd>11.9567640242305</dd></dl>\n"
      ],
      "text/latex": [
       "\\begin{description*}\n",
       "\\item[train\\textbackslash{}\\_x1] 40.3916888838993\n",
       "\\item[train\\textbackslash{}\\_x2] 77.6732829586284\n",
       "\\item[train\\textbackslash{}\\_x3] 11.9567640242305\n",
       "\\end{description*}\n"
      ],
      "text/markdown": [
       "train_x1\n",
       ":   40.3916888838993train_x2\n",
       ":   77.6732829586284train_x3\n",
       ":   11.9567640242305\n",
       "\n"
      ],
      "text/plain": [
       "train_x1 train_x2 train_x3 \n",
       "40.39169 77.67328 11.95676 "
      ]
     },
     "metadata": {},
     "output_type": "display_data"
    }
   ],
   "source": [
    "VIF(M2)"
   ]
  },
  {
   "cell_type": "markdown",
   "id": "b9397147-070e-4674-957f-bb68e05fe067",
   "metadata": {},
   "source": [
    "---"
   ]
  },
  {
   "cell_type": "markdown",
   "id": "d59c8608-e5ed-4500-8ab4-241a8eec6e27",
   "metadata": {
    "tags": []
   },
   "source": [
    "## 시도 5"
   ]
  },
  {
   "cell_type": "markdown",
   "id": "5e680899-429f-40dc-88b9-5b5e9435fb8e",
   "metadata": {},
   "source": [
    "- $y_1=3+x_1+5x_2+10x_3+\\epsilon$\n",
    "  - $x_2=2x_1+\\epsilon$\n",
    "  - $x_3=3x_1+\\epsilon$\n",
    "- 1000번 반복\n",
    "- 1000개 데이터"
   ]
  },
  {
   "cell_type": "code",
   "execution_count": 52,
   "id": "18883a5a-da39-4fc9-b0c8-81a46ee6a78f",
   "metadata": {},
   "outputs": [
    {
     "name": "stdout",
     "output_type": "stream",
     "text": [
      "[1] 280.9196\n",
      "[1] 280.9316\n"
     ]
    }
   ],
   "source": [
    "result1 = c()\n",
    "result2 = c()\n",
    "for (i in 1:1000){\n",
    "    x1 = runif(1000)\n",
    "    x2 = x1*2 + rnorm(1000,0,0.01)\n",
    "    x3 = x1*3 + rnorm(1000,0,0.01)\n",
    "    y1= 3 + x1 + 5*x2 + 10*x3 + rnorm(1000)\n",
    "    train_x1 = x1[1:500]\n",
    "    train_x2 = x2[1:500]\n",
    "    train_x3 = x3[1:500]\n",
    "    train_y1 = y1[1:500]\n",
    "    test_x1 = x1[501:1000]\n",
    "    test_x2 = x2[501:1000]\n",
    "    test_x3 = x3[501:1000]\n",
    "    test_y1 = y1[501:1000]\n",
    "    M1 = lm(train_y1~train_x1)\n",
    "    M2 = lm(train_y1~train_x1+train_x2+train_x3)\n",
    "    result1[i]=mean((test_y1-predict(M1,data.frame(test_x1)))^2)\n",
    "    result2[i]=mean((test_y1-predict(M2,data.frame(test_x1,test_x2,test_x3)))^2)\n",
    "    }\n",
    "print(mean(result1));print(mean(result2))"
   ]
  },
  {
   "cell_type": "code",
   "execution_count": 53,
   "id": "df0b95d9-131d-42ca-a89f-772b0a7a10a3",
   "metadata": {},
   "outputs": [
    {
     "data": {
      "text/html": [
       "<style>\n",
       ".dl-inline {width: auto; margin:0; padding: 0}\n",
       ".dl-inline>dt, .dl-inline>dd {float: none; width: auto; display: inline-block}\n",
       ".dl-inline>dt::after {content: \":\\0020\"; padding-right: .5ex}\n",
       ".dl-inline>dt:not(:first-of-type) {padding-left: .5ex}\n",
       "</style><dl class=dl-inline><dt>(Intercept)</dt><dd>2.9978064880942</dd><dt>train_x1</dt><dd>-35.2368394233624</dd><dt>train_x2</dt><dd>11.6881488213043</dd><dt>train_x3</dt><dd>17.615700144289</dd></dl>\n"
      ],
      "text/latex": [
       "\\begin{description*}\n",
       "\\item[(Intercept)] 2.9978064880942\n",
       "\\item[train\\textbackslash{}\\_x1] -35.2368394233624\n",
       "\\item[train\\textbackslash{}\\_x2] 11.6881488213043\n",
       "\\item[train\\textbackslash{}\\_x3] 17.615700144289\n",
       "\\end{description*}\n"
      ],
      "text/markdown": [
       "(Intercept)\n",
       ":   2.9978064880942train_x1\n",
       ":   -35.2368394233624train_x2\n",
       ":   11.6881488213043train_x3\n",
       ":   17.615700144289\n",
       "\n"
      ],
      "text/plain": [
       "(Intercept)    train_x1    train_x2    train_x3 \n",
       "   2.997806  -35.236839   11.688149   17.615700 "
      ]
     },
     "metadata": {},
     "output_type": "display_data"
    }
   ],
   "source": [
    "M2$coefficients"
   ]
  },
  {
   "cell_type": "code",
   "execution_count": 54,
   "id": "c6bb7756-a8f1-4756-a0e8-c06130eaba82",
   "metadata": {},
   "outputs": [
    {
     "data": {
      "text/html": [
       "<style>\n",
       ".dl-inline {width: auto; margin:0; padding: 0}\n",
       ".dl-inline>dt, .dl-inline>dd {float: none; width: auto; display: inline-block}\n",
       ".dl-inline>dt::after {content: \":\\0020\"; padding-right: .5ex}\n",
       ".dl-inline>dt:not(:first-of-type) {padding-left: .5ex}\n",
       "</style><dl class=dl-inline><dt>train_x1</dt><dd>11752.2010580882</dd><dt>train_x2</dt><dd>3502.03225966611</dd><dt>train_x3</dt><dd>7496.8201118209</dd></dl>\n"
      ],
      "text/latex": [
       "\\begin{description*}\n",
       "\\item[train\\textbackslash{}\\_x1] 11752.2010580882\n",
       "\\item[train\\textbackslash{}\\_x2] 3502.03225966611\n",
       "\\item[train\\textbackslash{}\\_x3] 7496.8201118209\n",
       "\\end{description*}\n"
      ],
      "text/markdown": [
       "train_x1\n",
       ":   11752.2010580882train_x2\n",
       ":   3502.03225966611train_x3\n",
       ":   7496.8201118209\n",
       "\n"
      ],
      "text/plain": [
       " train_x1  train_x2  train_x3 \n",
       "11752.201  3502.032  7496.820 "
      ]
     },
     "metadata": {},
     "output_type": "display_data"
    }
   ],
   "source": [
    "VIF(M2)"
   ]
  },
  {
   "cell_type": "markdown",
   "id": "e1d63496-9026-401f-a7c2-2b4bab8bf046",
   "metadata": {},
   "source": [
    "- $x_1$이랑 제곱관계였던 시도 4까지의 결과와 조금 다르게 거의 비슷한 모습"
   ]
  },
  {
   "cell_type": "markdown",
   "id": "49bc2d86-6812-4713-b9eb-81d05d9991d5",
   "metadata": {},
   "source": [
    "---"
   ]
  },
  {
   "cell_type": "markdown",
   "id": "605956fa-674f-4814-aa7c-7eda334aa8dc",
   "metadata": {
    "tags": []
   },
   "source": [
    "## 시도 6"
   ]
  },
  {
   "cell_type": "markdown",
   "id": "cfedf2be-a9f0-4b9a-9c1e-270793a0f347",
   "metadata": {},
   "source": [
    "- $y_1=3+x_1+5x_2+10x_3+\\epsilon$\n",
    "  - $x_2=2x_1+\\epsilon$\n",
    "  - $x_3=3x_1+\\epsilon$\n",
    "  - $x_4=4x_2+\\epsilon$\n",
    "- 1000번 반복\n",
    "- 1000개 데이터"
   ]
  },
  {
   "cell_type": "code",
   "execution_count": 38,
   "id": "ca2ae1e1-3d5e-4c55-b51a-bb3264dea38b",
   "metadata": {},
   "outputs": [
    {
     "name": "stdout",
     "output_type": "stream",
     "text": [
      "[1] 4320.598\n",
      "[1] 4320.973\n"
     ]
    }
   ],
   "source": [
    "result1 = c()\n",
    "result2 = c()\n",
    "for (i in 1:1000){\n",
    "    x1 = runif(1000)\n",
    "    x2 = x1*2 + rnorm(1000,0,0.01)\n",
    "    x3 = x1*3 + rnorm(1000,0,0.01)\n",
    "    x4 = x2*4 + rnorm(1000,0,0.01)\n",
    "    y1= 3 + x1 + 5*x2 + 10*x3 + 15*x4 + rnorm(1000)\n",
    "    train_x1 = x1[1:500]\n",
    "    train_x2 = x2[1:500]\n",
    "    train_x3 = x3[1:500]\n",
    "    train_x4 = x4[1:500]\n",
    "    train_y1 = y1[1:500]\n",
    "    test_x1 = x1[501:1000]\n",
    "    test_x2 = x2[501:1000]\n",
    "    test_x3 = x3[501:1000]\n",
    "    test_x4 = x4[501:1000]\n",
    "    test_y1 = y1[501:1000]\n",
    "    M1 = lm(train_y1~train_x1)\n",
    "    M2 = lm(train_y1~train_x1+train_x2+train_x3++train_x4)\n",
    "    result1[i]=mean((test_y1-predict(M1,data.frame(test_x1)))^2)\n",
    "    result2[i]=mean((test_y1-predict(M2,data.frame(test_x1,test_x2,test_x3,test_x4)))^2)\n",
    "    }\n",
    "print(mean(result1));print(mean(result2))"
   ]
  },
  {
   "cell_type": "code",
   "execution_count": 39,
   "id": "a40884b9-d383-4029-83f1-d38aa0336417",
   "metadata": {},
   "outputs": [
    {
     "data": {
      "text/html": [
       "<style>\n",
       ".dl-inline {width: auto; margin:0; padding: 0}\n",
       ".dl-inline>dt, .dl-inline>dd {float: none; width: auto; display: inline-block}\n",
       ".dl-inline>dt::after {content: \":\\0020\"; padding-right: .5ex}\n",
       ".dl-inline>dt:not(:first-of-type) {padding-left: .5ex}\n",
       "</style><dl class=dl-inline><dt>(Intercept)</dt><dd>3.15363791743348</dd><dt>train_x1</dt><dd>16.6426420713978</dd><dt>train_x2</dt><dd>8.03663563813773</dd><dt>train_x3</dt><dd>0.62255117177624</dd><dt>train_x4</dt><dd>15.7689338787659</dd></dl>\n"
      ],
      "text/latex": [
       "\\begin{description*}\n",
       "\\item[(Intercept)] 3.15363791743348\n",
       "\\item[train\\textbackslash{}\\_x1] 16.6426420713978\n",
       "\\item[train\\textbackslash{}\\_x2] 8.03663563813773\n",
       "\\item[train\\textbackslash{}\\_x3] 0.62255117177624\n",
       "\\item[train\\textbackslash{}\\_x4] 15.7689338787659\n",
       "\\end{description*}\n"
      ],
      "text/markdown": [
       "(Intercept)\n",
       ":   3.15363791743348train_x1\n",
       ":   16.6426420713978train_x2\n",
       ":   8.03663563813773train_x3\n",
       ":   0.62255117177624train_x4\n",
       ":   15.7689338787659\n",
       "\n"
      ],
      "text/plain": [
       "(Intercept)    train_x1    train_x2    train_x3    train_x4 \n",
       "  3.1536379  16.6426421   8.0366356   0.6225512  15.7689339 "
      ]
     },
     "metadata": {},
     "output_type": "display_data"
    }
   ],
   "source": [
    "M2$coefficients"
   ]
  },
  {
   "cell_type": "code",
   "execution_count": 40,
   "id": "ee517938-d664-4ea6-8a8f-d56a17ca277f",
   "metadata": {},
   "outputs": [
    {
     "data": {
      "text/html": [
       "<style>\n",
       ".dl-inline {width: auto; margin:0; padding: 0}\n",
       ".dl-inline>dt, .dl-inline>dd {float: none; width: auto; display: inline-block}\n",
       ".dl-inline>dt::after {content: \":\\0020\"; padding-right: .5ex}\n",
       ".dl-inline>dt:not(:first-of-type) {padding-left: .5ex}\n",
       "</style><dl class=dl-inline><dt>train_x1</dt><dd>13127.9715497742</dd><dt>train_x2</dt><dd>67670.3991606889</dd><dt>train_x3</dt><dd>9883.52314564991</dd><dt>train_x4</dt><dd>63381.055447586</dd></dl>\n"
      ],
      "text/latex": [
       "\\begin{description*}\n",
       "\\item[train\\textbackslash{}\\_x1] 13127.9715497742\n",
       "\\item[train\\textbackslash{}\\_x2] 67670.3991606889\n",
       "\\item[train\\textbackslash{}\\_x3] 9883.52314564991\n",
       "\\item[train\\textbackslash{}\\_x4] 63381.055447586\n",
       "\\end{description*}\n"
      ],
      "text/markdown": [
       "train_x1\n",
       ":   13127.9715497742train_x2\n",
       ":   67670.3991606889train_x3\n",
       ":   9883.52314564991train_x4\n",
       ":   63381.055447586\n",
       "\n"
      ],
      "text/plain": [
       " train_x1  train_x2  train_x3  train_x4 \n",
       "13127.972 67670.399  9883.523 63381.055 "
      ]
     },
     "metadata": {},
     "output_type": "display_data"
    }
   ],
   "source": [
    "VIF(M2)"
   ]
  },
  {
   "cell_type": "markdown",
   "id": "a5f2d3ff-081e-4140-8b31-203e4c2e4138",
   "metadata": {},
   "source": [
    "---"
   ]
  },
  {
   "cell_type": "markdown",
   "id": "c2ccab59-4d05-44a2-b305-def92f47a8d7",
   "metadata": {
    "tags": []
   },
   "source": [
    "## 시도 7"
   ]
  },
  {
   "cell_type": "markdown",
   "id": "081dc44e-d535-41ba-8a40-7b1c0b664f31",
   "metadata": {},
   "source": [
    "- $y_1=3+x_1+5x_2+10x_3+15x_4+20x_5+\\epsilon$\n",
    "  - $x_2=2x_1+\\epsilon$\n",
    "  - $x_3=3x_1+\\epsilon$\n",
    "  - $x_4=4x_1+\\epsilon$\n",
    "  - $x_5=5x_1+\\epsilon$\n",
    "- 1000번 반복\n",
    "- 1000개 데이터\n",
    "- 설명변수를 하나씩 제거해나가며 값 확인"
   ]
  },
  {
   "cell_type": "code",
   "execution_count": 29,
   "id": "323518dc-faf5-44a3-8e1f-e537c2c732d1",
   "metadata": {},
   "outputs": [
    {
     "name": "stdout",
     "output_type": "stream",
     "text": [
      "[1] 6735.608\n",
      "[1] 6735.607\n",
      "[1] 6735.616\n",
      "[1] 6735.613\n",
      "[1] 6735.732\n"
     ]
    }
   ],
   "source": [
    "result1 = c()\n",
    "result2 = c()\n",
    "result2_2 = c()\n",
    "result2_3 = c()\n",
    "result2_4 = c()\n",
    "for (i in 1:1000){\n",
    "    x1 = runif(1000)\n",
    "    x2 = x1*2 + rnorm(1000,0,0.01)\n",
    "    x3 = x1*3 + rnorm(1000,0,0.01)\n",
    "    x4 = x1*4 + rnorm(1000,0,0.01)\n",
    "    x5 = x1*5 + rnorm(1000,0,0.01)\n",
    "    y1= 3 + x1 + 5*x2 + 10*x3 + 15*x4 + 20*x5 + rnorm(1000)\n",
    "    train_x1 = x1[1:500]\n",
    "    train_x2 = x2[1:500]\n",
    "    train_x3 = x3[1:500]\n",
    "    train_x4 = x4[1:500]\n",
    "    train_x5 = x5[1:500]\n",
    "    train_y1 = y1[1:500]\n",
    "    test_x1 = x1[501:1000]\n",
    "    test_x2 = x2[501:1000]\n",
    "    test_x3 = x3[501:1000]\n",
    "    test_x4 = x4[501:1000]\n",
    "    test_x5 = x5[501:1000]\n",
    "    test_y1 = y1[501:1000]\n",
    "    M1 = lm(train_y1~train_x1)\n",
    "    M2 = lm(train_y1~train_x1+train_x2)\n",
    "    M2_2 = lm(train_y1~train_x1+train_x2+train_x3)\n",
    "    M2_3 = lm(train_y1~train_x1+train_x2+train_x3+train_x4)\n",
    "    M2_4 = lm(train_y1~train_x1+train_x2+train_x3+train_x4+train_x5)\n",
    "    result1[i]=mean((test_y1-predict(M1,data.frame(test_x1)))^2)\n",
    "    result2[i]=mean((test_y1-predict(M2,data.frame(test_x1,test_x2,test_x3)))^2)\n",
    "    result2_2[i]=mean((test_y1-predict(M2_2,data.frame(test_x1,test_x2,test_x3)))^2)\n",
    "    result2_3[i]=mean((test_y1-predict(M2_3,data.frame(test_x1,test_x2,test_x3,test_x4)))^2)\n",
    "    result2_4[i]=mean((test_y1-predict(M2_4,data.frame(test_x1,test_x2,test_x3,test_x4,test_x5)))^2)\n",
    "    }\n",
    "print(mean(result1));print(mean(result2));print(mean(result2_2));print(mean(result2_3));print(mean(result2_4))"
   ]
  },
  {
   "cell_type": "code",
   "execution_count": 30,
   "id": "b8c9571d-097c-4673-bafe-7512487e1e00",
   "metadata": {},
   "outputs": [
    {
     "data": {
      "text/html": [
       "<style>\n",
       ".dl-inline {width: auto; margin:0; padding: 0}\n",
       ".dl-inline>dt, .dl-inline>dd {float: none; width: auto; display: inline-block}\n",
       ".dl-inline>dt::after {content: \":\\0020\"; padding-right: .5ex}\n",
       ".dl-inline>dt:not(:first-of-type) {padding-left: .5ex}\n",
       "</style><dl class=dl-inline><dt>(Intercept)</dt><dd>3.02133046170469</dd><dt>train_x1</dt><dd>177.505220215858</dd><dt>train_x2</dt><dd>11.6995779017842</dd></dl>\n"
      ],
      "text/latex": [
       "\\begin{description*}\n",
       "\\item[(Intercept)] 3.02133046170469\n",
       "\\item[train\\textbackslash{}\\_x1] 177.505220215858\n",
       "\\item[train\\textbackslash{}\\_x2] 11.6995779017842\n",
       "\\end{description*}\n"
      ],
      "text/markdown": [
       "(Intercept)\n",
       ":   3.02133046170469train_x1\n",
       ":   177.505220215858train_x2\n",
       ":   11.6995779017842\n",
       "\n"
      ],
      "text/plain": [
       "(Intercept)    train_x1    train_x2 \n",
       "    3.02133   177.50522    11.69958 "
      ]
     },
     "metadata": {},
     "output_type": "display_data"
    },
    {
     "data": {
      "text/html": [
       "<style>\n",
       ".dl-inline {width: auto; margin:0; padding: 0}\n",
       ".dl-inline>dt, .dl-inline>dd {float: none; width: auto; display: inline-block}\n",
       ".dl-inline>dt::after {content: \":\\0020\"; padding-right: .5ex}\n",
       ".dl-inline>dt:not(:first-of-type) {padding-left: .5ex}\n",
       "</style><dl class=dl-inline><dt>(Intercept)</dt><dd>3.0233883086674</dd><dt>train_x1</dt><dd>151.693724752295</dd><dt>train_x2</dt><dd>12.0291029701986</dd><dt>train_x3</dt><dd>8.38387426855961</dd></dl>\n"
      ],
      "text/latex": [
       "\\begin{description*}\n",
       "\\item[(Intercept)] 3.0233883086674\n",
       "\\item[train\\textbackslash{}\\_x1] 151.693724752295\n",
       "\\item[train\\textbackslash{}\\_x2] 12.0291029701986\n",
       "\\item[train\\textbackslash{}\\_x3] 8.38387426855961\n",
       "\\end{description*}\n"
      ],
      "text/markdown": [
       "(Intercept)\n",
       ":   3.0233883086674train_x1\n",
       ":   151.693724752295train_x2\n",
       ":   12.0291029701986train_x3\n",
       ":   8.38387426855961\n",
       "\n"
      ],
      "text/plain": [
       "(Intercept)    train_x1    train_x2    train_x3 \n",
       "   3.023388  151.693725   12.029103    8.383874 "
      ]
     },
     "metadata": {},
     "output_type": "display_data"
    },
    {
     "data": {
      "text/html": [
       "<style>\n",
       ".dl-inline {width: auto; margin:0; padding: 0}\n",
       ".dl-inline>dt, .dl-inline>dd {float: none; width: auto; display: inline-block}\n",
       ".dl-inline>dt::after {content: \":\\0020\"; padding-right: .5ex}\n",
       ".dl-inline>dt:not(:first-of-type) {padding-left: .5ex}\n",
       "</style><dl class=dl-inline><dt>(Intercept)</dt><dd>3.01066587574842</dd><dt>train_x1</dt><dd>125.436928165086</dd><dt>train_x2</dt><dd>11.7909382889645</dd><dt>train_x3</dt><dd>8.763207461606</dd><dt>train_x4</dt><dd>6.40372318285598</dd></dl>\n"
      ],
      "text/latex": [
       "\\begin{description*}\n",
       "\\item[(Intercept)] 3.01066587574842\n",
       "\\item[train\\textbackslash{}\\_x1] 125.436928165086\n",
       "\\item[train\\textbackslash{}\\_x2] 11.7909382889645\n",
       "\\item[train\\textbackslash{}\\_x3] 8.763207461606\n",
       "\\item[train\\textbackslash{}\\_x4] 6.40372318285598\n",
       "\\end{description*}\n"
      ],
      "text/markdown": [
       "(Intercept)\n",
       ":   3.01066587574842train_x1\n",
       ":   125.436928165086train_x2\n",
       ":   11.7909382889645train_x3\n",
       ":   8.763207461606train_x4\n",
       ":   6.40372318285598\n",
       "\n"
      ],
      "text/plain": [
       "(Intercept)    train_x1    train_x2    train_x3    train_x4 \n",
       "   3.010666  125.436928   11.790938    8.763207    6.403723 "
      ]
     },
     "metadata": {},
     "output_type": "display_data"
    },
    {
     "data": {
      "text/html": [
       "<style>\n",
       ".dl-inline {width: auto; margin:0; padding: 0}\n",
       ".dl-inline>dt, .dl-inline>dd {float: none; width: auto; display: inline-block}\n",
       ".dl-inline>dt::after {content: \":\\0020\"; padding-right: .5ex}\n",
       ".dl-inline>dt:not(:first-of-type) {padding-left: .5ex}\n",
       "</style><dl class=dl-inline><dt>(Intercept)</dt><dd>3.01944871868079</dd><dt>train_x1</dt><dd>-27.9624082768309</dd><dt>train_x2</dt><dd>11.1383244780174</dd><dt>train_x3</dt><dd>9.84437151196588</dd><dt>train_x4</dt><dd>6.56463458120151</dd><dt>train_x5</dt><dd>30.1567530057975</dd></dl>\n"
      ],
      "text/latex": [
       "\\begin{description*}\n",
       "\\item[(Intercept)] 3.01944871868079\n",
       "\\item[train\\textbackslash{}\\_x1] -27.9624082768309\n",
       "\\item[train\\textbackslash{}\\_x2] 11.1383244780174\n",
       "\\item[train\\textbackslash{}\\_x3] 9.84437151196588\n",
       "\\item[train\\textbackslash{}\\_x4] 6.56463458120151\n",
       "\\item[train\\textbackslash{}\\_x5] 30.1567530057975\n",
       "\\end{description*}\n"
      ],
      "text/markdown": [
       "(Intercept)\n",
       ":   3.01944871868079train_x1\n",
       ":   -27.9624082768309train_x2\n",
       ":   11.1383244780174train_x3\n",
       ":   9.84437151196588train_x4\n",
       ":   6.56463458120151train_x5\n",
       ":   30.1567530057975\n",
       "\n"
      ],
      "text/plain": [
       "(Intercept)    train_x1    train_x2    train_x3    train_x4    train_x5 \n",
       "   3.019449  -27.962408   11.138324    9.844372    6.564635   30.156753 "
      ]
     },
     "metadata": {},
     "output_type": "display_data"
    }
   ],
   "source": [
    "M2$coefficients;M2_2$coefficients;M2_3$coefficients;M2_4$coefficients"
   ]
  },
  {
   "cell_type": "code",
   "execution_count": 31,
   "id": "8ad3ae51-f988-4137-bbc9-a58fcbe405bb",
   "metadata": {},
   "outputs": [
    {
     "data": {
      "text/html": [
       "<style>\n",
       ".dl-inline {width: auto; margin:0; padding: 0}\n",
       ".dl-inline>dt, .dl-inline>dd {float: none; width: auto; display: inline-block}\n",
       ".dl-inline>dt::after {content: \":\\0020\"; padding-right: .5ex}\n",
       ".dl-inline>dt:not(:first-of-type) {padding-left: .5ex}\n",
       "</style><dl class=dl-inline><dt>train_x1</dt><dd>2997.62930639729</dd><dt>train_x2</dt><dd>2997.62930639729</dd></dl>\n"
      ],
      "text/latex": [
       "\\begin{description*}\n",
       "\\item[train\\textbackslash{}\\_x1] 2997.62930639729\n",
       "\\item[train\\textbackslash{}\\_x2] 2997.62930639729\n",
       "\\end{description*}\n"
      ],
      "text/markdown": [
       "train_x1\n",
       ":   2997.62930639729train_x2\n",
       ":   2997.62930639729\n",
       "\n"
      ],
      "text/plain": [
       "train_x1 train_x2 \n",
       "2997.629 2997.629 "
      ]
     },
     "metadata": {},
     "output_type": "display_data"
    },
    {
     "data": {
      "text/html": [
       "<style>\n",
       ".dl-inline {width: auto; margin:0; padding: 0}\n",
       ".dl-inline>dt, .dl-inline>dd {float: none; width: auto; display: inline-block}\n",
       ".dl-inline>dt::after {content: \":\\0020\"; padding-right: .5ex}\n",
       ".dl-inline>dt:not(:first-of-type) {padding-left: .5ex}\n",
       "</style><dl class=dl-inline><dt>train_x1</dt><dd>10371.4478281789</dd><dt>train_x2</dt><dd>3002.44922031198</dd><dt>train_x3</dt><dd>7002.65401108803</dd></dl>\n"
      ],
      "text/latex": [
       "\\begin{description*}\n",
       "\\item[train\\textbackslash{}\\_x1] 10371.4478281789\n",
       "\\item[train\\textbackslash{}\\_x2] 3002.44922031198\n",
       "\\item[train\\textbackslash{}\\_x3] 7002.65401108803\n",
       "\\end{description*}\n"
      ],
      "text/markdown": [
       "train_x1\n",
       ":   10371.4478281789train_x2\n",
       ":   3002.44922031198train_x3\n",
       ":   7002.65401108803\n",
       "\n"
      ],
      "text/plain": [
       " train_x1  train_x2  train_x3 \n",
       "10371.448  3002.449  7002.654 "
      ]
     },
     "metadata": {},
     "output_type": "display_data"
    },
    {
     "data": {
      "text/html": [
       "<style>\n",
       ".dl-inline {width: auto; margin:0; padding: 0}\n",
       ".dl-inline>dt, .dl-inline>dd {float: none; width: auto; display: inline-block}\n",
       ".dl-inline>dt::after {content: \":\\0020\"; padding-right: .5ex}\n",
       ".dl-inline>dt:not(:first-of-type) {padding-left: .5ex}\n",
       "</style><dl class=dl-inline><dt>train_x1</dt><dd>21738.9682838921</dd><dt>train_x2</dt><dd>3006.20010086975</dd><dt>train_x3</dt><dd>7024.01055652592</dd><dt>train_x4</dt><dd>10803.2780820302</dd></dl>\n"
      ],
      "text/latex": [
       "\\begin{description*}\n",
       "\\item[train\\textbackslash{}\\_x1] 21738.9682838921\n",
       "\\item[train\\textbackslash{}\\_x2] 3006.20010086975\n",
       "\\item[train\\textbackslash{}\\_x3] 7024.01055652592\n",
       "\\item[train\\textbackslash{}\\_x4] 10803.2780820302\n",
       "\\end{description*}\n"
      ],
      "text/markdown": [
       "train_x1\n",
       ":   21738.9682838921train_x2\n",
       ":   3006.20010086975train_x3\n",
       ":   7024.01055652592train_x4\n",
       ":   10803.2780820302\n",
       "\n"
      ],
      "text/plain": [
       " train_x1  train_x2  train_x3  train_x4 \n",
       "21738.968  3006.200  7024.011 10803.278 "
      ]
     },
     "metadata": {},
     "output_type": "display_data"
    },
    {
     "data": {
      "text/html": [
       "<style>\n",
       ".dl-inline {width: auto; margin:0; padding: 0}\n",
       ".dl-inline>dt, .dl-inline>dd {float: none; width: auto; display: inline-block}\n",
       ".dl-inline>dt::after {content: \":\\0020\"; padding-right: .5ex}\n",
       ".dl-inline>dt:not(:first-of-type) {padding-left: .5ex}\n",
       "</style><dl class=dl-inline><dt>train_x1</dt><dd>44479.7520063121</dd><dt>train_x2</dt><dd>3007.85079737738</dd><dt>train_x3</dt><dd>7034.17886473744</dd><dt>train_x4</dt><dd>10803.6778796026</dd><dt>train_x5</dt><dd>21983.2869286084</dd></dl>\n"
      ],
      "text/latex": [
       "\\begin{description*}\n",
       "\\item[train\\textbackslash{}\\_x1] 44479.7520063121\n",
       "\\item[train\\textbackslash{}\\_x2] 3007.85079737738\n",
       "\\item[train\\textbackslash{}\\_x3] 7034.17886473744\n",
       "\\item[train\\textbackslash{}\\_x4] 10803.6778796026\n",
       "\\item[train\\textbackslash{}\\_x5] 21983.2869286084\n",
       "\\end{description*}\n"
      ],
      "text/markdown": [
       "train_x1\n",
       ":   44479.7520063121train_x2\n",
       ":   3007.85079737738train_x3\n",
       ":   7034.17886473744train_x4\n",
       ":   10803.6778796026train_x5\n",
       ":   21983.2869286084\n",
       "\n"
      ],
      "text/plain": [
       " train_x1  train_x2  train_x3  train_x4  train_x5 \n",
       "44479.752  3007.851  7034.179 10803.678 21983.287 "
      ]
     },
     "metadata": {},
     "output_type": "display_data"
    }
   ],
   "source": [
    "VIF(M2);VIF(M2_2);VIF(M2_3);VIF(M2_4)"
   ]
  },
  {
   "cell_type": "markdown",
   "id": "6139d9d0-b6b0-42b7-8536-8df5829cb0be",
   "metadata": {},
   "source": [
    "---"
   ]
  },
  {
   "cell_type": "markdown",
   "id": "3e421e7c-8a95-4e38-baec-db69b5f4c172",
   "metadata": {
    "tags": []
   },
   "source": [
    "## 시도 8"
   ]
  },
  {
   "cell_type": "markdown",
   "id": "3cd0be68-f5d8-44ec-a8c3-42947dd7f9d6",
   "metadata": {},
   "source": [
    "- $y_1=3+x_1+1.5x_2+2x_3+2.5x_4+3x_5+\\epsilon$\n",
    "  - $x_2=x^2_1+\\epsilon$\n",
    "  - $x_3=x^3_1+\\epsilon$\n",
    "  - $x_4=x^4_1+\\epsilon$\n",
    "  - $x_5=x^5_1+\\epsilon$\n",
    "- 1000번 반복\n",
    "- 1000개 데이터\n",
    "- 설명변수를 하나씩 제거해나가며 값 확인"
   ]
  },
  {
   "cell_type": "code",
   "execution_count": 32,
   "id": "13774235-54f1-4e48-acc2-bd754fcee64a",
   "metadata": {},
   "outputs": [
    {
     "name": "stdout",
     "output_type": "stream",
     "text": [
      "[1] 14.10746\n",
      "[1] 15.20563\n",
      "[1] 15.28523\n",
      "[1] 15.30233\n",
      "[1] 15.30715\n"
     ]
    }
   ],
   "source": [
    "result1 = c()\n",
    "result2 = c()\n",
    "result2_2 = c()\n",
    "result2_3 = c()\n",
    "result2_4 = c()\n",
    "for (i in 1:1000){\n",
    "    x1 = runif(1000)\n",
    "    x2 = x1^2 + rnorm(1000,0,0.01)\n",
    "    x3 = x1^3 + rnorm(1000,0,0.01)\n",
    "    x4 = x1^4 + rnorm(1000,0,0.01)\n",
    "    x5 = x1^5 + rnorm(1000,0,0.01)\n",
    "    y1= 3 + x1 + 1.5*x2 + 2*x3 + 2.5*x4 + 3*x5 + rnorm(1000)\n",
    "    train_x1 = x1[1:500]\n",
    "    train_x2 = x2[1:500]\n",
    "    train_x3 = x3[1:500]\n",
    "    train_x4 = x4[1:500]\n",
    "    train_x5 = x5[1:500]\n",
    "    train_y1 = y1[1:500]\n",
    "    test_x1 = x1[501:1000]\n",
    "    test_x2 = x2[501:1000]\n",
    "    test_x3 = x3[501:1000]\n",
    "    test_x4 = x4[501:1000]\n",
    "    test_x5 = x5[501:1000]\n",
    "    test_y1 = y1[501:1000]\n",
    "    M1 = lm(train_y1~train_x1)\n",
    "    M2 = lm(train_y1~train_x1+train_x2)\n",
    "    M2_2 = lm(train_y1~train_x1+train_x2+train_x3)\n",
    "    M2_3 = lm(train_y1~train_x1+train_x2+train_x3+train_x4)\n",
    "    M2_4 = lm(train_y1~train_x1+train_x2+train_x3+train_x4+train_x5)\n",
    "    result1[i]=mean((test_y1-predict(M1,data.frame(test_x1)))^2)\n",
    "    result2[i]=mean((test_y1-predict(M2,data.frame(test_x1,test_x2)))^2)\n",
    "    result2_2[i]=mean((test_y1-predict(M2_2,data.frame(test_x1,test_x2,test_x3)))^2)\n",
    "    result2_3[i]=mean((test_y1-predict(M2_3,data.frame(test_x1,test_x2,test_x3,test_x4)))^2)\n",
    "    result2_4[i]=mean((test_y1-predict(M2_4,data.frame(test_x1,test_x2,test_x3,test_x4,test_x5)))^2)  \n",
    "    }\n",
    "print(mean(result1));print(mean(result2));print(mean(result2_2));print(mean(result2_3));print(mean(result2_4))"
   ]
  },
  {
   "cell_type": "code",
   "execution_count": 33,
   "id": "8ec84a1f-e3b6-4122-bc06-f858cfb471a6",
   "metadata": {},
   "outputs": [
    {
     "data": {
      "text/html": [
       "<style>\n",
       ".dl-inline {width: auto; margin:0; padding: 0}\n",
       ".dl-inline>dt, .dl-inline>dd {float: none; width: auto; display: inline-block}\n",
       ".dl-inline>dt::after {content: \":\\0020\"; padding-right: .5ex}\n",
       ".dl-inline>dt:not(:first-of-type) {padding-left: .5ex}\n",
       "</style><dl class=dl-inline><dt>(Intercept)</dt><dd>3.43922238611235</dd><dt>train_x1</dt><dd>-5.11848078388494</dd><dt>train_x2</dt><dd>13.7602759453977</dd></dl>\n"
      ],
      "text/latex": [
       "\\begin{description*}\n",
       "\\item[(Intercept)] 3.43922238611235\n",
       "\\item[train\\textbackslash{}\\_x1] -5.11848078388494\n",
       "\\item[train\\textbackslash{}\\_x2] 13.7602759453977\n",
       "\\end{description*}\n"
      ],
      "text/markdown": [
       "(Intercept)\n",
       ":   3.43922238611235train_x1\n",
       ":   -5.11848078388494train_x2\n",
       ":   13.7602759453977\n",
       "\n"
      ],
      "text/plain": [
       "(Intercept)    train_x1    train_x2 \n",
       "   3.439222   -5.118481   13.760276 "
      ]
     },
     "metadata": {},
     "output_type": "display_data"
    },
    {
     "data": {
      "text/html": [
       "<style>\n",
       ".dl-inline {width: auto; margin:0; padding: 0}\n",
       ".dl-inline>dt, .dl-inline>dd {float: none; width: auto; display: inline-block}\n",
       ".dl-inline>dt::after {content: \":\\0020\"; padding-right: .5ex}\n",
       ".dl-inline>dt:not(:first-of-type) {padding-left: .5ex}\n",
       "</style><dl class=dl-inline><dt>(Intercept)</dt><dd>3.06051152308215</dd><dt>train_x1</dt><dd>0.425244178427299</dd><dt>train_x2</dt><dd>-0.941049181418513</dd><dt>train_x3</dt><dd>10.0833930808763</dd></dl>\n"
      ],
      "text/latex": [
       "\\begin{description*}\n",
       "\\item[(Intercept)] 3.06051152308215\n",
       "\\item[train\\textbackslash{}\\_x1] 0.425244178427299\n",
       "\\item[train\\textbackslash{}\\_x2] -0.941049181418513\n",
       "\\item[train\\textbackslash{}\\_x3] 10.0833930808763\n",
       "\\end{description*}\n"
      ],
      "text/markdown": [
       "(Intercept)\n",
       ":   3.06051152308215train_x1\n",
       ":   0.425244178427299train_x2\n",
       ":   -0.941049181418513train_x3\n",
       ":   10.0833930808763\n",
       "\n"
      ],
      "text/plain": [
       "(Intercept)    train_x1    train_x2    train_x3 \n",
       "  3.0605115   0.4252442  -0.9410492  10.0833931 "
      ]
     },
     "metadata": {},
     "output_type": "display_data"
    },
    {
     "data": {
      "text/html": [
       "<style>\n",
       ".dl-inline {width: auto; margin:0; padding: 0}\n",
       ".dl-inline>dt, .dl-inline>dd {float: none; width: auto; display: inline-block}\n",
       ".dl-inline>dt::after {content: \":\\0020\"; padding-right: .5ex}\n",
       ".dl-inline>dt:not(:first-of-type) {padding-left: .5ex}\n",
       "</style><dl class=dl-inline><dt>(Intercept)</dt><dd>2.93950376323615</dd><dt>train_x1</dt><dd>0.930102594724328</dd><dt>train_x2</dt><dd>1.17216918085252</dd><dt>train_x3</dt><dd>2.49007964061987</dd><dt>train_x4</dt><dd>5.30472856926207</dd></dl>\n"
      ],
      "text/latex": [
       "\\begin{description*}\n",
       "\\item[(Intercept)] 2.93950376323615\n",
       "\\item[train\\textbackslash{}\\_x1] 0.930102594724328\n",
       "\\item[train\\textbackslash{}\\_x2] 1.17216918085252\n",
       "\\item[train\\textbackslash{}\\_x3] 2.49007964061987\n",
       "\\item[train\\textbackslash{}\\_x4] 5.30472856926207\n",
       "\\end{description*}\n"
      ],
      "text/markdown": [
       "(Intercept)\n",
       ":   2.93950376323615train_x1\n",
       ":   0.930102594724328train_x2\n",
       ":   1.17216918085252train_x3\n",
       ":   2.49007964061987train_x4\n",
       ":   5.30472856926207\n",
       "\n"
      ],
      "text/plain": [
       "(Intercept)    train_x1    train_x2    train_x3    train_x4 \n",
       "  2.9395038   0.9301026   1.1721692   2.4900796   5.3047286 "
      ]
     },
     "metadata": {},
     "output_type": "display_data"
    },
    {
     "data": {
      "text/html": [
       "<style>\n",
       ".dl-inline {width: auto; margin:0; padding: 0}\n",
       ".dl-inline>dt, .dl-inline>dd {float: none; width: auto; display: inline-block}\n",
       ".dl-inline>dt::after {content: \":\\0020\"; padding-right: .5ex}\n",
       ".dl-inline>dt:not(:first-of-type) {padding-left: .5ex}\n",
       "</style><dl class=dl-inline><dt>(Intercept)</dt><dd>2.97402631029458</dd><dt>train_x1</dt><dd>0.190261620167224</dd><dt>train_x2</dt><dd>3.90315454832904</dd><dt>train_x3</dt><dd>2.06627835454202</dd><dt>train_x4</dt><dd>-1.51701012521074</dd><dt>train_x5</dt><dd>5.38093715623795</dd></dl>\n"
      ],
      "text/latex": [
       "\\begin{description*}\n",
       "\\item[(Intercept)] 2.97402631029458\n",
       "\\item[train\\textbackslash{}\\_x1] 0.190261620167224\n",
       "\\item[train\\textbackslash{}\\_x2] 3.90315454832904\n",
       "\\item[train\\textbackslash{}\\_x3] 2.06627835454202\n",
       "\\item[train\\textbackslash{}\\_x4] -1.51701012521074\n",
       "\\item[train\\textbackslash{}\\_x5] 5.38093715623795\n",
       "\\end{description*}\n"
      ],
      "text/markdown": [
       "(Intercept)\n",
       ":   2.97402631029458train_x1\n",
       ":   0.190261620167224train_x2\n",
       ":   3.90315454832904train_x3\n",
       ":   2.06627835454202train_x4\n",
       ":   -1.51701012521074train_x5\n",
       ":   5.38093715623795\n",
       "\n"
      ],
      "text/plain": [
       "(Intercept)    train_x1    train_x2    train_x3    train_x4    train_x5 \n",
       "  2.9740263   0.1902616   3.9031545   2.0662784  -1.5170101   5.3809372 "
      ]
     },
     "metadata": {},
     "output_type": "display_data"
    }
   ],
   "source": [
    "M2$coefficients;M2_2$coefficients;M2_3$coefficients;M2_4$coefficients"
   ]
  },
  {
   "cell_type": "code",
   "execution_count": 34,
   "id": "2ffb1b7d-799b-4ec8-9ae8-0402b4d25859",
   "metadata": {},
   "outputs": [
    {
     "data": {
      "text/html": [
       "<style>\n",
       ".dl-inline {width: auto; margin:0; padding: 0}\n",
       ".dl-inline>dt, .dl-inline>dd {float: none; width: auto; display: inline-block}\n",
       ".dl-inline>dt::after {content: \":\\0020\"; padding-right: .5ex}\n",
       ".dl-inline>dt:not(:first-of-type) {padding-left: .5ex}\n",
       "</style><dl class=dl-inline><dt>train_x1</dt><dd>15.1692894602882</dd><dt>train_x2</dt><dd>15.1692894602882</dd></dl>\n"
      ],
      "text/latex": [
       "\\begin{description*}\n",
       "\\item[train\\textbackslash{}\\_x1] 15.1692894602882\n",
       "\\item[train\\textbackslash{}\\_x2] 15.1692894602882\n",
       "\\end{description*}\n"
      ],
      "text/markdown": [
       "train_x1\n",
       ":   15.1692894602882train_x2\n",
       ":   15.1692894602882\n",
       "\n"
      ],
      "text/plain": [
       "train_x1 train_x2 \n",
       "15.16929 15.16929 "
      ]
     },
     "metadata": {},
     "output_type": "display_data"
    },
    {
     "data": {
      "text/html": [
       "<style>\n",
       ".dl-inline {width: auto; margin:0; padding: 0}\n",
       ".dl-inline>dt, .dl-inline>dd {float: none; width: auto; display: inline-block}\n",
       ".dl-inline>dt::after {content: \":\\0020\"; padding-right: .5ex}\n",
       ".dl-inline>dt:not(:first-of-type) {padding-left: .5ex}\n",
       "</style><dl class=dl-inline><dt>train_x1</dt><dd>52.2868341496221</dd><dt>train_x2</dt><dd>290.816754686358</dd><dt>train_x3</dt><dd>118.24642999704</dd></dl>\n"
      ],
      "text/latex": [
       "\\begin{description*}\n",
       "\\item[train\\textbackslash{}\\_x1] 52.2868341496221\n",
       "\\item[train\\textbackslash{}\\_x2] 290.816754686358\n",
       "\\item[train\\textbackslash{}\\_x3] 118.24642999704\n",
       "\\end{description*}\n"
      ],
      "text/markdown": [
       "train_x1\n",
       ":   52.2868341496221train_x2\n",
       ":   290.816754686358train_x3\n",
       ":   118.24642999704\n",
       "\n"
      ],
      "text/plain": [
       " train_x1  train_x2  train_x3 \n",
       " 52.28683 290.81675 118.24643 "
      ]
     },
     "metadata": {},
     "output_type": "display_data"
    },
    {
     "data": {
      "text/html": [
       "<style>\n",
       ".dl-inline {width: auto; margin:0; padding: 0}\n",
       ".dl-inline>dt, .dl-inline>dd {float: none; width: auto; display: inline-block}\n",
       ".dl-inline>dt::after {content: \":\\0020\"; padding-right: .5ex}\n",
       ".dl-inline>dt:not(:first-of-type) {padding-left: .5ex}\n",
       "</style><dl class=dl-inline><dt>train_x1</dt><dd>53.9597537109162</dd><dt>train_x2</dt><dd>321.768829005536</dd><dt>train_x3</dt><dd>482.662287112856</dd><dt>train_x4</dt><dd>157.457936958897</dd></dl>\n"
      ],
      "text/latex": [
       "\\begin{description*}\n",
       "\\item[train\\textbackslash{}\\_x1] 53.9597537109162\n",
       "\\item[train\\textbackslash{}\\_x2] 321.768829005536\n",
       "\\item[train\\textbackslash{}\\_x3] 482.662287112856\n",
       "\\item[train\\textbackslash{}\\_x4] 157.457936958897\n",
       "\\end{description*}\n"
      ],
      "text/markdown": [
       "train_x1\n",
       ":   53.9597537109162train_x2\n",
       ":   321.768829005536train_x3\n",
       ":   482.662287112856train_x4\n",
       ":   157.457936958897\n",
       "\n"
      ],
      "text/plain": [
       " train_x1  train_x2  train_x3  train_x4 \n",
       " 53.95975 321.76883 482.66229 157.45794 "
      ]
     },
     "metadata": {},
     "output_type": "display_data"
    },
    {
     "data": {
      "text/html": [
       "<style>\n",
       ".dl-inline {width: auto; margin:0; padding: 0}\n",
       ".dl-inline>dt, .dl-inline>dd {float: none; width: auto; display: inline-block}\n",
       ".dl-inline>dt::after {content: \":\\0020\"; padding-right: .5ex}\n",
       ".dl-inline>dt:not(:first-of-type) {padding-left: .5ex}\n",
       "</style><dl class=dl-inline><dt>train_x1</dt><dd>59.0647172833834</dd><dt>train_x2</dt><dd>395.223561840468</dd><dt>train_x3</dt><dd>484.275304993268</dd><dt>train_x4</dt><dd>527.463634543441</dd><dt>train_x5</dt><dd>205.557127783091</dd></dl>\n"
      ],
      "text/latex": [
       "\\begin{description*}\n",
       "\\item[train\\textbackslash{}\\_x1] 59.0647172833834\n",
       "\\item[train\\textbackslash{}\\_x2] 395.223561840468\n",
       "\\item[train\\textbackslash{}\\_x3] 484.275304993268\n",
       "\\item[train\\textbackslash{}\\_x4] 527.463634543441\n",
       "\\item[train\\textbackslash{}\\_x5] 205.557127783091\n",
       "\\end{description*}\n"
      ],
      "text/markdown": [
       "train_x1\n",
       ":   59.0647172833834train_x2\n",
       ":   395.223561840468train_x3\n",
       ":   484.275304993268train_x4\n",
       ":   527.463634543441train_x5\n",
       ":   205.557127783091\n",
       "\n"
      ],
      "text/plain": [
       " train_x1  train_x2  train_x3  train_x4  train_x5 \n",
       " 59.06472 395.22356 484.27530 527.46363 205.55713 "
      ]
     },
     "metadata": {},
     "output_type": "display_data"
    }
   ],
   "source": [
    "VIF(M2);VIF(M2_2);VIF(M2_3);VIF(M2_4)"
   ]
  },
  {
   "cell_type": "markdown",
   "id": "c0b11abe-f623-48cc-bdc3-4aef880f3d58",
   "metadata": {},
   "source": [
    "---"
   ]
  },
  {
   "cell_type": "markdown",
   "id": "568bf768-c994-473f-b633-6a5b2bb8c1ac",
   "metadata": {},
   "source": [
    "다중공선성을 어느정도 제거한 모델(`M1`)과 제거하지 않은 모델들(`M2`,`M2_2`,`M2_3`,`M2_4`)을 비교해보았다.\n",
    "- 설명변수($x_1,x_2,x_3,x_4,x_5$)끼리 배수 관계에 있던 모델들과 다르게 거듭제곱 관계에 있던 모델들은 결과가 비슷하긴 하지만 설명변수가 배수관계에 있던 모델만큼 비슷하진 않았다.\n",
    "    - 배수 관계 가정: `시도2`, `시도5`, `시도6`, `시도7`\n",
    "    - 거듭제곱 관계 가정: `시도3`, `시도4`, `시도8`\n",
    "- 다중공선성을 가정하여 모델을 만들었기 때문에 당연하게 `VIF;분산팽창요인`이 모든 시도에서 크게 나온 결과를 확인할 수 있었다.\n",
    "- `시도2`, `시도3`을 비교해보니 데이터 500개를 사용할 때보다 1000개를 사용할때 MSE 차이가 조금 더 컸다. 하지만 분산퍙창계수의 차이는 1000개의 데이터를 사용했을때 더 작았다.\n",
    "    - 시도3의 차이가 크다고 했지만 0.3정도의 차이이긴 하다.\n",
    "    - 분산팽창요인은 그래도 시도2와 시도3이 10을 충분히 넘긴 값이긴 헀다.\n",
    "- `시도3`과 `시도4`의 차이는 반응변수 $y$의 $\\epsilon$ 의 $rnorm$ 지정을 해줄때 시도4에 $mean=0, sd=0.1$을 지정해준 것이다.\n",
    "    - 결과를 보니 분산팽창계수가 낮아졌다. 하지만 여전히 모두 10을 넘었다.\n",
    "- `시도7`,`시도8` 을 미루어 보아 설명변수끼리 관계가 있고, 또 여러개 존재했을때 설명변수가 추가될수록 모형의 평균제곱오차가 조금씩 커지는 경향을 보였다.\n",
    "\n"
   ]
  }
 ],
 "metadata": {
  "kernelspec": {
   "display_name": "R",
   "language": "R",
   "name": "ir"
  },
  "language_info": {
   "codemirror_mode": "r",
   "file_extension": ".r",
   "mimetype": "text/x-r-source",
   "name": "R",
   "pygments_lexer": "r",
   "version": "4.1.2"
  }
 },
 "nbformat": 4,
 "nbformat_minor": 5
}
