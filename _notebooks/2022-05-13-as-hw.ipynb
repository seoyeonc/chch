{
 "cells": [
  {
   "cell_type": "markdown",
   "id": "1274533e-2324-47fa-883b-da07e1204247",
   "metadata": {
    "id": "cac470df-29e7-4148-9bbd-d8b9a32fa570",
    "tags": []
   },
   "source": [
    "# 응용통계학 과제\n",
    "> 다중공선성\n",
    "\n",
    "- toc:true\n",
    "- branch: master\n",
    "- badges: true\n",
    "- comments: false\n",
    "- author: 최서연\n",
    "- categories: [Applied Statistics, 다중공선성]"
   ]
  },
  {
   "cell_type": "markdown",
   "id": "93a9c948-0d19-44c8-9469-31be39080adc",
   "metadata": {},
   "source": [
    "# 응용통계학 과제 20220512\n",
    "- 202150754 최서연\n",
    "> 다중공선성 "
   ]
  },
  {
   "cell_type": "markdown",
   "id": "523b9ded-5195-40f5-b055-5508851aa981",
   "metadata": {},
   "source": [
    "\n",
    "다중공선성이 존재하는 상황을 가정하고 \n",
    "\n",
    " \n",
    "\n",
    "다중공선성을 어느 정도 제거한 모형 (M1)과 다중공선성이 내재되어 있는 모형 (M2) 을 고려하여\n",
    "\n",
    " \n",
    "\n",
    "두 모형의 예측력을 모의실험을 통해 비교하여라,\n",
    "\n",
    " \n",
    "\n",
    "단, 실험은 여러 번 반복하여 평균적인 결과를  report하되 설명변수의 개수는 3개 이상으로 설정하여라.\n",
    "\n",
    " \n",
    "\n",
    "이미 존재하는 문서들을 참고하거나 재현해도 무방함.\n",
    "\n",
    " \n",
    "\n",
    "(첨부된 문서 참고)"
   ]
  },
  {
   "cell_type": "code",
   "execution_count": 1,
   "id": "8f64ee8d-0948-46ff-9188-59053b7a2273",
   "metadata": {},
   "outputs": [
    {
     "data": {
      "text/html": [
       "<style>\n",
       ".list-inline {list-style: none; margin:0; padding: 0}\n",
       ".list-inline>li {display: inline-block}\n",
       ".list-inline>li:not(:last-child)::after {content: \"\\00b7\"; padding: 0 .5ex}\n",
       "</style>\n",
       "<ol class=list-inline><li>55.6085526301215</li><li>55.6071607030301</li></ol>\n"
      ],
      "text/latex": [
       "\\begin{enumerate*}\n",
       "\\item 55.6085526301215\n",
       "\\item 55.6071607030301\n",
       "\\end{enumerate*}\n"
      ],
      "text/markdown": [
       "1. 55.6085526301215\n",
       "2. 55.6071607030301\n",
       "\n",
       "\n"
      ],
      "text/plain": [
       "[1] 55.60855 55.60716"
      ]
     },
     "metadata": {},
     "output_type": "display_data"
    },
    {
     "data": {
      "text/html": [
       "<style>\n",
       ".list-inline {list-style: none; margin:0; padding: 0}\n",
       ".list-inline>li {display: inline-block}\n",
       ".list-inline>li:not(:last-child)::after {content: \"\\00b7\"; padding: 0 .5ex}\n",
       "</style>\n",
       "<ol class=list-inline><li>22.1862441890965</li><li>0.997195170669373</li></ol>\n"
      ],
      "text/latex": [
       "\\begin{enumerate*}\n",
       "\\item 22.1862441890965\n",
       "\\item 0.997195170669373\n",
       "\\end{enumerate*}\n"
      ],
      "text/markdown": [
       "1. 22.1862441890965\n",
       "2. 0.997195170669373\n",
       "\n",
       "\n"
      ],
      "text/plain": [
       "[1] 22.1862442  0.9971952"
      ]
     },
     "metadata": {},
     "output_type": "display_data"
    }
   ],
   "source": [
    "Nrep = 200\n",
    "\n",
    "n = 1000\n",
    "\n",
    "hatb1 <- hatb2 <- c()\n",
    "te1 <- te2 <- c()\n",
    "\n",
    "for (k in 1:Nrep)\n",
    "{\n",
    "x1 = runif(n,-3,3)\n",
    "x2 = x1 + rnorm(n,0,0.01)\n",
    "#X = model.matrix(~ x1 + x2)\n",
    "#solve(t(X)%*%X)\n",
    "y = 2 + x1 + 2*x2 + rnorm(n)\n",
    "\n",
    "ind = sample(1:n,500)\n",
    "tx1 = x1[ind]\n",
    "tx2 = x2[ind]\n",
    "test_x1 = x1[-ind]\n",
    "test_x2 = x2[-ind]\n",
    "ty  = y[ind]\n",
    "test_y = y[-ind]\n",
    "\n",
    "fit1 = lm(ty~tx1+tx2)\n",
    "fit2 = lm(ty~tx1)\n",
    "\n",
    "hatb1[k] = fit1$coefficients[2]\n",
    "hatb2[k] = fit2$coefficients[2]\n",
    "\n",
    "te1[k] = mean((test_y - predict(fit1,newdata=data.frame(test_x1,test_x2)))^2)\n",
    "te2[k] = mean((test_y - predict(fit2,newdata=data.frame(test_x1)))^2)\n",
    "#summary(lm(y~x1+x2))\n",
    "#print(k)\n",
    "}\n",
    "\n",
    "c(mean(te1),mean(te2))\n",
    "c(mean((hatb1-1)^2),mean((hatb2-2)^2))"
   ]
  },
  {
   "cell_type": "markdown",
   "id": "86df5d1c-73c9-4211-b42e-d951f4b81e2a",
   "metadata": {},
   "source": [
    "---"
   ]
  },
  {
   "cell_type": "code",
   "execution_count": 28,
   "id": "47335c43-cb6f-4456-8e00-dcc50ec8d495",
   "metadata": {},
   "outputs": [],
   "source": [
    "library(regclass)"
   ]
  },
  {
   "cell_type": "code",
   "execution_count": 29,
   "id": "d15a431b-beb3-4355-9e54-e41af62d9e42",
   "metadata": {},
   "outputs": [],
   "source": [
    "library(car)"
   ]
  },
  {
   "cell_type": "markdown",
   "id": "ff5c7bc5-a3d2-43e4-806f-a6086e109cb9",
   "metadata": {},
   "source": [
    "---"
   ]
  },
  {
   "cell_type": "markdown",
   "id": "8685278c-725f-4529-8a53-ac36c6c6777a",
   "metadata": {},
   "source": [
    "## 시도 1"
   ]
  },
  {
   "cell_type": "code",
   "execution_count": 4,
   "id": "e49c4ffa-cad7-43ce-ba09-a45cac956a3a",
   "metadata": {},
   "outputs": [
    {
     "data": {
      "text/html": [
       "<style>\n",
       ".list-inline {list-style: none; margin:0; padding: 0}\n",
       ".list-inline>li {display: inline-block}\n",
       ".list-inline>li:not(:last-child)::after {content: \"\\00b7\"; padding: 0 .5ex}\n",
       "</style>\n",
       "<ol class=list-inline><li>119.952961261721</li><li>119.952961261721</li></ol>\n"
      ],
      "text/latex": [
       "\\begin{enumerate*}\n",
       "\\item 119.952961261721\n",
       "\\item 119.952961261721\n",
       "\\end{enumerate*}\n"
      ],
      "text/markdown": [
       "1. 119.952961261721\n",
       "2. 119.952961261721\n",
       "\n",
       "\n"
      ],
      "text/plain": [
       "[1] 119.953 119.953"
      ]
     },
     "metadata": {},
     "output_type": "display_data"
    },
    {
     "data": {
      "text/html": [
       "<style>\n",
       ".list-inline {list-style: none; margin:0; padding: 0}\n",
       ".list-inline>li {display: inline-block}\n",
       ".list-inline>li:not(:last-child)::after {content: \"\\00b7\"; padding: 0 .5ex}\n",
       "</style>\n",
       "<ol class=list-inline><li>22.7654935128551</li><li>4.04412870077358</li></ol>\n"
      ],
      "text/latex": [
       "\\begin{enumerate*}\n",
       "\\item 22.7654935128551\n",
       "\\item 4.04412870077358\n",
       "\\end{enumerate*}\n"
      ],
      "text/markdown": [
       "1. 22.7654935128551\n",
       "2. 4.04412870077358\n",
       "\n",
       "\n"
      ],
      "text/plain": [
       "[1] 22.765494  4.044129"
      ]
     },
     "metadata": {},
     "output_type": "display_data"
    }
   ],
   "source": [
    "Nrep = 200\n",
    "\n",
    "n = 1000\n",
    "\n",
    "hatb1 <- hatb2 <- c()\n",
    "te1 <- te2 <- c()\n",
    "\n",
    "for (k in 1:Nrep)\n",
    "{\n",
    "x1 = runif(n,-3,3)\n",
    "x2 = x1 + rnorm(n,0,0.01)\n",
    "x3 = x1^2 + rnorm(n,0,0.01)\n",
    "y = 2 + x1 + 2*x2 + 3*x3 + rnorm(n)\n",
    "\n",
    "ind = sample(1:n,500)\n",
    "tx1 = x1[ind]\n",
    "tx2 = x2[ind]\n",
    "tx3 = x3[ind]\n",
    "test_x1 = x1[-ind]\n",
    "test_x2 = x2[-ind]\n",
    "test_x3 = x3[-ind]\n",
    "ty  = y[ind]\n",
    "test_y = y[-ind]\n",
    "\n",
    "M2 = lm(ty~tx1+tx2+tx3)\n",
    "M1 = lm(ty~tx1)\n",
    "\n",
    "hatb1[k] = M2$coefficients[2]\n",
    "hatb2[k] = M1$coefficients[2]\n",
    "\n",
    "te1[k] = mean((test_y - predict(M1,newdata=data.frame(test_x1,test_x2,test_x3)))^2)\n",
    "te2[k] = mean((test_y - predict(M1,newdata=data.frame(test_x1)))^2)\n",
    "}\n",
    "\n",
    "c(mean(te1),mean(te2))\n",
    "c(mean((hatb1-2)^2),mean((hatb2-1)^2))"
   ]
  },
  {
   "cell_type": "markdown",
   "id": "6172f227-fa35-473d-91ce-b73c5d89efbe",
   "metadata": {},
   "source": [
    "---"
   ]
  },
  {
   "cell_type": "markdown",
   "id": "b2f1c467-e50b-47f6-b053-93f710520667",
   "metadata": {},
   "source": [
    "## 시도 2"
   ]
  },
  {
   "cell_type": "markdown",
   "id": "ecdad398-80d9-4336-b37d-cf2eef1c1062",
   "metadata": {},
   "source": [
    "- $y_1=3+x_1+1.5x_2+3.5x_3+\\epsilon$\n",
    "  - $x_2=x_1+\\epsilon$\n",
    "  - $x_3=x_1+\\epsilon$\n",
    "- 1000번 반복\n",
    "- 500개 데이터"
   ]
  },
  {
   "cell_type": "code",
   "execution_count": 5,
   "id": "4b9407c6-4459-4243-9200-e12f07e77f63",
   "metadata": {},
   "outputs": [],
   "source": [
    "x1 = runif(500)\n",
    "x2 = x1 + rnorm(500,0,0.01)\n",
    "x3 = x1 + rnorm(500,0,0.1)\n",
    "y1= 3 + x1 + 1.5*x2 + 3.5*x3 + rnorm(500)"
   ]
  },
  {
   "cell_type": "code",
   "execution_count": 6,
   "id": "8f7e2bad-a5e7-492f-8bc6-951cd28e933d",
   "metadata": {},
   "outputs": [
    {
     "data": {
      "text/html": [
       "0.999444175673429"
      ],
      "text/latex": [
       "0.999444175673429"
      ],
      "text/markdown": [
       "0.999444175673429"
      ],
      "text/plain": [
       "[1] 0.9994442"
      ]
     },
     "metadata": {},
     "output_type": "display_data"
    },
    {
     "data": {
      "text/html": [
       "0.941544266683282"
      ],
      "text/latex": [
       "0.941544266683282"
      ],
      "text/markdown": [
       "0.941544266683282"
      ],
      "text/plain": [
       "[1] 0.9415443"
      ]
     },
     "metadata": {},
     "output_type": "display_data"
    }
   ],
   "source": [
    "cor(x1,x2)\n",
    "cor(x1,x3)"
   ]
  },
  {
   "cell_type": "markdown",
   "id": "30b8d8ef-3fd4-401c-8a6c-4cf711ef4d7d",
   "metadata": {},
   "source": [
    "높은 상관계수 확인"
   ]
  },
  {
   "cell_type": "code",
   "execution_count": 7,
   "id": "78628715-07dd-472f-a84d-92294c92be8f",
   "metadata": {},
   "outputs": [],
   "source": [
    "M1 = lm(y1~x1)"
   ]
  },
  {
   "cell_type": "code",
   "execution_count": 8,
   "id": "7f1d1038-3dbd-4b91-bd9a-25819a4b8f6c",
   "metadata": {},
   "outputs": [],
   "source": [
    "M2 = lm(y1~x1+x2+x3)"
   ]
  },
  {
   "cell_type": "code",
   "execution_count": 9,
   "id": "fea833d0-a7a0-4c58-b5b7-5e5be6f7dd02",
   "metadata": {},
   "outputs": [
    {
     "data": {
      "text/html": [
       "<style>\n",
       ".dl-inline {width: auto; margin:0; padding: 0}\n",
       ".dl-inline>dt, .dl-inline>dd {float: none; width: auto; display: inline-block}\n",
       ".dl-inline>dt::after {content: \":\\0020\"; padding-right: .5ex}\n",
       ".dl-inline>dt:not(:first-of-type) {padding-left: .5ex}\n",
       "</style><dl class=dl-inline><dt>x1</dt><dd>903.701250415492</dd><dt>x2</dt><dd>900.495401955853</dd><dt>x3</dt><dd>8.81767166557017</dd></dl>\n"
      ],
      "text/latex": [
       "\\begin{description*}\n",
       "\\item[x1] 903.701250415492\n",
       "\\item[x2] 900.495401955853\n",
       "\\item[x3] 8.81767166557017\n",
       "\\end{description*}\n"
      ],
      "text/markdown": [
       "x1\n",
       ":   903.701250415492x2\n",
       ":   900.495401955853x3\n",
       ":   8.81767166557017\n",
       "\n"
      ],
      "text/plain": [
       "        x1         x2         x3 \n",
       "903.701250 900.495402   8.817672 "
      ]
     },
     "metadata": {},
     "output_type": "display_data"
    }
   ],
   "source": [
    "VIF(M2)"
   ]
  },
  {
   "cell_type": "markdown",
   "id": "9fd7a774-3964-4496-a99c-0fa65cb8121c",
   "metadata": {},
   "source": [
    "다중공선성 존재를 가정한 모형의 VIF 10 넘는 모습이었다."
   ]
  },
  {
   "cell_type": "code",
   "execution_count": 10,
   "id": "c843e576-a078-40f2-9372-3faf2379776c",
   "metadata": {},
   "outputs": [
    {
     "name": "stdout",
     "output_type": "stream",
     "text": [
      "(Intercept)          x1 \n",
      "   3.059741    5.870505 \n"
     ]
    }
   ],
   "source": [
    "print(M1$coefficients)"
   ]
  },
  {
   "cell_type": "code",
   "execution_count": 11,
   "id": "9e2543df-d2b3-4510-b9a9-b20a324ad3e8",
   "metadata": {},
   "outputs": [
    {
     "name": "stdout",
     "output_type": "stream",
     "text": [
      "(Intercept)          x1          x2          x3 \n",
      "  3.0182881   2.0232424   0.2413279   3.7029953 \n"
     ]
    }
   ],
   "source": [
    "print(M2$coefficients)"
   ]
  },
  {
   "cell_type": "code",
   "execution_count": 12,
   "id": "077314e1-c894-402b-b104-d7fa487854e4",
   "metadata": {},
   "outputs": [
    {
     "data": {
      "text/html": [
       "1.17127889768916"
      ],
      "text/latex": [
       "1.17127889768916"
      ],
      "text/markdown": [
       "1.17127889768916"
      ],
      "text/plain": [
       "[1] 1.171279"
      ]
     },
     "metadata": {},
     "output_type": "display_data"
    }
   ],
   "source": [
    "mean((y1-predict(M1,data.frame(x1)))^2)"
   ]
  },
  {
   "cell_type": "code",
   "execution_count": 13,
   "id": "f534b02b-7d66-4485-9c67-2340149d0b50",
   "metadata": {},
   "outputs": [
    {
     "data": {
      "text/html": [
       "1.03329128794456"
      ],
      "text/latex": [
       "1.03329128794456"
      ],
      "text/markdown": [
       "1.03329128794456"
      ],
      "text/plain": [
       "[1] 1.033291"
      ]
     },
     "metadata": {},
     "output_type": "display_data"
    }
   ],
   "source": [
    "mean((y1-predict(M2,data.frame(x1,x2,x3)))^2)"
   ]
  },
  {
   "cell_type": "markdown",
   "id": "ba55d48f-7c01-484d-a443-f6211bac7e2a",
   "metadata": {},
   "source": [
    "다중공선성을 제거한 모형이 다중공선성이 있는 모형보다 제곱평균오차가 컸다."
   ]
  },
  {
   "cell_type": "markdown",
   "id": "12881b23-d873-4a50-a14a-a8047e9023af",
   "metadata": {},
   "source": [
    "반복"
   ]
  },
  {
   "cell_type": "code",
   "execution_count": 14,
   "id": "2ae7f6ad-a678-484e-ae81-172b92838359",
   "metadata": {},
   "outputs": [
    {
     "name": "stdout",
     "output_type": "stream",
     "text": [
      "[1] 7.024189\n",
      "[1] 7.033023\n"
     ]
    }
   ],
   "source": [
    "result1 = c()\n",
    "result2 = c()\n",
    "for (i in 1:1000){\n",
    "    x1 = runif(500)\n",
    "    x2 = x1 + rnorm(500,0,0.01)\n",
    "    x3 = x1 + rnorm(500,0,0.01)\n",
    "    y1= 3 + x1 + 1.5*x2 + 3.5*x3 + rnorm(500)\n",
    "    train_x1 = x1[1:250]\n",
    "    train_x2 = x2[1:250]\n",
    "    train_x3 = x3[1:250]\n",
    "    train_y1 = y1[1:250]\n",
    "    test_x1 = x1[251:500]\n",
    "    test_x2 = x2[251:500]\n",
    "    test_x3 = x3[251:500]\n",
    "    test_y1 = y1[251:500]\n",
    "    M1 = lm(train_y1~train_x1)\n",
    "    M2 = lm(train_y1~train_x1+train_x2+train_x3)\n",
    "    result1[i]=mean((test_y1-predict(M1,data.frame(test_x1)))^2)\n",
    "    result2[i]=mean((test_y1-predict(M2,data.frame(test_x1,test_x2,test_x3)))^2)\n",
    "    }\n",
    "print(mean(result1));print(mean(result2))"
   ]
  },
  {
   "cell_type": "markdown",
   "id": "b7685a18-e54e-430b-b411-fa6810ee1589",
   "metadata": {},
   "source": [
    "다중공선성이 있는 모형과 다중공선성이 없는 모형의 MSE가 비슷한 값이 나왔다."
   ]
  },
  {
   "cell_type": "code",
   "execution_count": 15,
   "id": "3c6271d4-6285-4353-895c-b8b3c6f464a1",
   "metadata": {},
   "outputs": [
    {
     "data": {
      "text/html": [
       "<style>\n",
       ".dl-inline {width: auto; margin:0; padding: 0}\n",
       ".dl-inline>dt, .dl-inline>dd {float: none; width: auto; display: inline-block}\n",
       ".dl-inline>dt::after {content: \":\\0020\"; padding-right: .5ex}\n",
       ".dl-inline>dt:not(:first-of-type) {padding-left: .5ex}\n",
       "</style><dl class=dl-inline><dt>(Intercept)</dt><dd>3.00543185586315</dd><dt>train_x1</dt><dd>11.7483378893802</dd><dt>train_x2</dt><dd>-6.49152225543129</dd><dt>train_x3</dt><dd>0.806493799681926</dd></dl>\n"
      ],
      "text/latex": [
       "\\begin{description*}\n",
       "\\item[(Intercept)] 3.00543185586315\n",
       "\\item[train\\textbackslash{}\\_x1] 11.7483378893802\n",
       "\\item[train\\textbackslash{}\\_x2] -6.49152225543129\n",
       "\\item[train\\textbackslash{}\\_x3] 0.806493799681926\n",
       "\\end{description*}\n"
      ],
      "text/markdown": [
       "(Intercept)\n",
       ":   3.00543185586315train_x1\n",
       ":   11.7483378893802train_x2\n",
       ":   -6.49152225543129train_x3\n",
       ":   0.806493799681926\n",
       "\n"
      ],
      "text/plain": [
       "(Intercept)    train_x1    train_x2    train_x3 \n",
       "  3.0054319  11.7483379  -6.4915223   0.8064938 "
      ]
     },
     "metadata": {},
     "output_type": "display_data"
    }
   ],
   "source": [
    "M2$coefficients"
   ]
  },
  {
   "cell_type": "markdown",
   "id": "5620018d-f99a-487b-a3d0-cf920b484a38",
   "metadata": {},
   "source": [
    "---"
   ]
  },
  {
   "cell_type": "markdown",
   "id": "fb14ebd5-7778-4131-af28-ce5aa90fe1c7",
   "metadata": {},
   "source": [
    "## 시도 3"
   ]
  },
  {
   "cell_type": "markdown",
   "id": "8f3042b4-461f-439b-91e4-180adb889b89",
   "metadata": {},
   "source": [
    "- $y_1=3+x_1+2x_2+3x_3+\\epsilon$\n",
    "  - $x_2=x_1^2+\\epsilon$\n",
    "  - $x_3=x_1^3+\\epsilon$\n",
    "- 1000번 반복\n",
    "- 500개 데이터"
   ]
  },
  {
   "cell_type": "code",
   "execution_count": 16,
   "id": "c601d447-7fed-4143-913d-e1f821547dd0",
   "metadata": {},
   "outputs": [
    {
     "name": "stdout",
     "output_type": "stream",
     "text": [
      "[1] 6.652483\n",
      "[1] 6.896817\n"
     ]
    }
   ],
   "source": [
    "result1 = c()\n",
    "result2 = c()\n",
    "for (i in 1:1000){\n",
    "    x1 = runif(1000)\n",
    "    x2 = x1^2 + rnorm(1000,0,0.01)\n",
    "    x3 = x1^3 + rnorm(1000,0,0.01)\n",
    "    y1= 3 + x1 + 2*x2 + 3*x3 + rnorm(1000)\n",
    "    train_x1 = x1[1:500]\n",
    "    train_x2 = x2[1:500]\n",
    "    train_x3 = x3[1:500]\n",
    "    train_y1 = y1[1:500]\n",
    "    test_x1 = x1[501:1000]\n",
    "    test_x2 = x2[501:1000]\n",
    "    test_x3 = x3[501:1000]\n",
    "    test_y1 = y1[501:1000]\n",
    "    M1 = lm(train_y1~train_x1)\n",
    "    M2 = lm(train_y1~train_x1+train_x2+train_x3)\n",
    "    result1[i]=mean((test_y1-predict(M1,data.frame(test_x1)))^2)\n",
    "    result2[i]=mean((test_y1-predict(M2,data.frame(test_x1,test_x2,test_x3)))^2)\n",
    "    }\n",
    "print(mean(result1));print(mean(result2))"
   ]
  },
  {
   "cell_type": "code",
   "execution_count": 17,
   "id": "4f566f57-84eb-42d9-962b-511652b70c0f",
   "metadata": {},
   "outputs": [
    {
     "data": {
      "text/html": [
       "<style>\n",
       ".dl-inline {width: auto; margin:0; padding: 0}\n",
       ".dl-inline>dt, .dl-inline>dd {float: none; width: auto; display: inline-block}\n",
       ".dl-inline>dt::after {content: \":\\0020\"; padding-right: .5ex}\n",
       ".dl-inline>dt:not(:first-of-type) {padding-left: .5ex}\n",
       "</style><dl class=dl-inline><dt>(Intercept)</dt><dd>2.71598879977947</dd><dt>train_x1</dt><dd>3.65705561322457</dd><dt>train_x2</dt><dd>-4.07401862767607</dd><dt>train_x3</dt><dd>7.06271178789933</dd></dl>\n"
      ],
      "text/latex": [
       "\\begin{description*}\n",
       "\\item[(Intercept)] 2.71598879977947\n",
       "\\item[train\\textbackslash{}\\_x1] 3.65705561322457\n",
       "\\item[train\\textbackslash{}\\_x2] -4.07401862767607\n",
       "\\item[train\\textbackslash{}\\_x3] 7.06271178789933\n",
       "\\end{description*}\n"
      ],
      "text/markdown": [
       "(Intercept)\n",
       ":   2.71598879977947train_x1\n",
       ":   3.65705561322457train_x2\n",
       ":   -4.07401862767607train_x3\n",
       ":   7.06271178789933\n",
       "\n"
      ],
      "text/plain": [
       "(Intercept)    train_x1    train_x2    train_x3 \n",
       "   2.715989    3.657056   -4.074019    7.062712 "
      ]
     },
     "metadata": {},
     "output_type": "display_data"
    }
   ],
   "source": [
    "M2$coefficients"
   ]
  },
  {
   "cell_type": "markdown",
   "id": "6e821d01-b15c-4a2c-a6a5-ecba0577c23e",
   "metadata": {},
   "source": [
    "---"
   ]
  },
  {
   "cell_type": "markdown",
   "id": "db88b100-5a85-4880-a31c-7c829467e3fb",
   "metadata": {
    "tags": []
   },
   "source": [
    "## 시도4"
   ]
  },
  {
   "cell_type": "markdown",
   "id": "d9c75241-df7b-4f86-9cf8-8d336084c6eb",
   "metadata": {},
   "source": [
    "- $y_1=3+x_1+2x_2+3x_3+\\epsilon$\n",
    "  - $x_2=x_1^2+\\epsilon$\n",
    "  - $x_3=x_1^3+\\epsilon$\n",
    "- 1000번 반복\n",
    "- 1000개 데이터"
   ]
  },
  {
   "cell_type": "code",
   "execution_count": 18,
   "id": "e242426d-0218-4983-bbeb-b709a06f350f",
   "metadata": {},
   "outputs": [
    {
     "name": "stdout",
     "output_type": "stream",
     "text": [
      "[1] 5.69406\n",
      "[1] 5.929241\n"
     ]
    }
   ],
   "source": [
    "result1 = c()\n",
    "result2 = c()\n",
    "for (i in 1:1000){\n",
    "    x1 = runif(1000)\n",
    "    x2 = x1^2 + rnorm(1000,0,0.01)\n",
    "    x3 = x1^3 + rnorm(1000,0,0.01)\n",
    "    y1= 3 + x1 + 2*x2 + 3*x3 + rnorm(1000,0,0.1)\n",
    "    train_x1 = x1[1:500]\n",
    "    train_x2 = x2[1:500]\n",
    "    train_x3 = x3[1:500]\n",
    "    train_y1 = y1[1:500]\n",
    "    test_x1 = x1[501:1000]\n",
    "    test_x2 = x2[501:1000]\n",
    "    test_x3 = x3[501:1000]\n",
    "    test_y1 = y1[501:1000]\n",
    "    M1 = lm(train_y1~train_x1)\n",
    "    M2 = lm(train_y1~train_x1+train_x2+train_x3)\n",
    "    result1[i]=mean((test_y1-predict(M1,data.frame(test_x1)))^2)\n",
    "    result2[i]=mean((test_y1-predict(M2,data.frame(test_x1,test_x2,test_x3)))^2)\n",
    "    }\n",
    "print(mean(result1));print(mean(result2))"
   ]
  },
  {
   "cell_type": "code",
   "execution_count": 19,
   "id": "46d64413-9b11-414c-b129-3dacc9944744",
   "metadata": {},
   "outputs": [
    {
     "data": {
      "text/html": [
       "<style>\n",
       ".dl-inline {width: auto; margin:0; padding: 0}\n",
       ".dl-inline>dt, .dl-inline>dd {float: none; width: auto; display: inline-block}\n",
       ".dl-inline>dt::after {content: \":\\0020\"; padding-right: .5ex}\n",
       ".dl-inline>dt:not(:first-of-type) {padding-left: .5ex}\n",
       "</style><dl class=dl-inline><dt>(Intercept)</dt><dd>2.97727467509058</dd><dt>train_x1</dt><dd>1.164405987023</dd><dt>train_x2</dt><dd>1.62898505720326</dd><dt>train_x3</dt><dd>3.25835240003888</dd></dl>\n"
      ],
      "text/latex": [
       "\\begin{description*}\n",
       "\\item[(Intercept)] 2.97727467509058\n",
       "\\item[train\\textbackslash{}\\_x1] 1.164405987023\n",
       "\\item[train\\textbackslash{}\\_x2] 1.62898505720326\n",
       "\\item[train\\textbackslash{}\\_x3] 3.25835240003888\n",
       "\\end{description*}\n"
      ],
      "text/markdown": [
       "(Intercept)\n",
       ":   2.97727467509058train_x1\n",
       ":   1.164405987023train_x2\n",
       ":   1.62898505720326train_x3\n",
       ":   3.25835240003888\n",
       "\n"
      ],
      "text/plain": [
       "(Intercept)    train_x1    train_x2    train_x3 \n",
       "   2.977275    1.164406    1.628985    3.258352 "
      ]
     },
     "metadata": {},
     "output_type": "display_data"
    }
   ],
   "source": [
    "M2$coefficients"
   ]
  },
  {
   "cell_type": "markdown",
   "id": "b9397147-070e-4674-957f-bb68e05fe067",
   "metadata": {},
   "source": [
    "---"
   ]
  },
  {
   "cell_type": "markdown",
   "id": "d59c8608-e5ed-4500-8ab4-241a8eec6e27",
   "metadata": {
    "tags": []
   },
   "source": [
    "## 시도 5"
   ]
  },
  {
   "cell_type": "markdown",
   "id": "5e680899-429f-40dc-88b9-5b5e9435fb8e",
   "metadata": {},
   "source": [
    "- $y_1=3+x_1+5x_2+10x_3+\\epsilon$\n",
    "  - $x_2=2x_1+\\epsilon$\n",
    "  - $x_3=3x_1+\\epsilon$\n",
    "- 1000번 반복\n",
    "- 1000개 데이터"
   ]
  },
  {
   "cell_type": "code",
   "execution_count": 20,
   "id": "18883a5a-da39-4fc9-b0c8-81a46ee6a78f",
   "metadata": {},
   "outputs": [
    {
     "name": "stdout",
     "output_type": "stream",
     "text": [
      "[1] 280.6168\n",
      "[1] 280.6332\n"
     ]
    }
   ],
   "source": [
    "result1 = c()\n",
    "result2 = c()\n",
    "for (i in 1:1000){\n",
    "    x1 = runif(1000)\n",
    "    x2 = x1*2 + rnorm(1000,0,0.01)\n",
    "    x3 = x1*3 + rnorm(1000,0,0.01)\n",
    "    y1= 3 + x1 + 5*x2 + 10*x3 + rnorm(1000)\n",
    "    train_x1 = x1[1:500]\n",
    "    train_x2 = x2[1:500]\n",
    "    train_x3 = x3[1:500]\n",
    "    train_y1 = y1[1:500]\n",
    "    test_x1 = x1[501:1000]\n",
    "    test_x2 = x2[501:1000]\n",
    "    test_x3 = x3[501:1000]\n",
    "    test_y1 = y1[501:1000]\n",
    "    M1 = lm(train_y1~train_x1)\n",
    "    M2 = lm(train_y1~train_x1+train_x2+train_x3)\n",
    "    result1[i]=mean((test_y1-predict(M1,data.frame(test_x1)))^2)\n",
    "    result2[i]=mean((test_y1-predict(M2,data.frame(test_x1,test_x2,test_x3)))^2)\n",
    "    }\n",
    "print(mean(result1));print(mean(result2))"
   ]
  },
  {
   "cell_type": "code",
   "execution_count": 21,
   "id": "df0b95d9-131d-42ca-a89f-772b0a7a10a3",
   "metadata": {},
   "outputs": [
    {
     "data": {
      "text/html": [
       "<style>\n",
       ".dl-inline {width: auto; margin:0; padding: 0}\n",
       ".dl-inline>dt, .dl-inline>dd {float: none; width: auto; display: inline-block}\n",
       ".dl-inline>dt::after {content: \":\\0020\"; padding-right: .5ex}\n",
       ".dl-inline>dt:not(:first-of-type) {padding-left: .5ex}\n",
       "</style><dl class=dl-inline><dt>(Intercept)</dt><dd>2.97887460273926</dd><dt>train_x1</dt><dd>25.1899614191919</dd><dt>train_x2</dt><dd>3.11896042973492</dd><dt>train_x3</dt><dd>3.22292222121642</dd></dl>\n"
      ],
      "text/latex": [
       "\\begin{description*}\n",
       "\\item[(Intercept)] 2.97887460273926\n",
       "\\item[train\\textbackslash{}\\_x1] 25.1899614191919\n",
       "\\item[train\\textbackslash{}\\_x2] 3.11896042973492\n",
       "\\item[train\\textbackslash{}\\_x3] 3.22292222121642\n",
       "\\end{description*}\n"
      ],
      "text/markdown": [
       "(Intercept)\n",
       ":   2.97887460273926train_x1\n",
       ":   25.1899614191919train_x2\n",
       ":   3.11896042973492train_x3\n",
       ":   3.22292222121642\n",
       "\n"
      ],
      "text/plain": [
       "(Intercept)    train_x1    train_x2    train_x3 \n",
       "   2.978875   25.189961    3.118960    3.222922 "
      ]
     },
     "metadata": {},
     "output_type": "display_data"
    }
   ],
   "source": [
    "M2$coefficients"
   ]
  },
  {
   "cell_type": "markdown",
   "id": "e1d63496-9026-401f-a7c2-2b4bab8bf046",
   "metadata": {},
   "source": [
    "- $x_1$이랑 제곱관계였던 시도 4까지의 결과와 조금 다르게 거의 비슷한 모습"
   ]
  },
  {
   "cell_type": "markdown",
   "id": "49bc2d86-6812-4713-b9eb-81d05d9991d5",
   "metadata": {},
   "source": [
    "---"
   ]
  },
  {
   "cell_type": "markdown",
   "id": "605956fa-674f-4814-aa7c-7eda334aa8dc",
   "metadata": {
    "tags": []
   },
   "source": [
    "## 시도 6"
   ]
  },
  {
   "cell_type": "markdown",
   "id": "cfedf2be-a9f0-4b9a-9c1e-270793a0f347",
   "metadata": {},
   "source": [
    "- $y_1=3+x_1+5x_2+10x_3+\\epsilon$\n",
    "  - $x_2=2x_1+\\epsilon$\n",
    "  - $x_3=3x_1+\\epsilon$\n",
    "  - $x_4=4x_1+\\epsilon$\n",
    "- 1000번 반복\n",
    "- 1000개 데이터"
   ]
  },
  {
   "cell_type": "code",
   "execution_count": 22,
   "id": "ca2ae1e1-3d5e-4c55-b51a-bb3264dea38b",
   "metadata": {},
   "outputs": [
    {
     "name": "stdout",
     "output_type": "stream",
     "text": [
      "[1] 1700.399\n",
      "[1] 1700.447\n"
     ]
    }
   ],
   "source": [
    "result1 = c()\n",
    "result2 = c()\n",
    "for (i in 1:1000){\n",
    "    x1 = runif(1000)\n",
    "    x2 = x1*2 + rnorm(1000,0,0.01)\n",
    "    x3 = x1*3 + rnorm(1000,0,0.01)\n",
    "    x4 = x1*4 + rnorm(1000,0,0.01)\n",
    "    y1= 3 + x1 + 5*x2 + 10*x3 + 15*x4 + rnorm(1000)\n",
    "    train_x1 = x1[1:500]\n",
    "    train_x2 = x2[1:500]\n",
    "    train_x3 = x3[1:500]\n",
    "    train_x4 = x4[1:500]\n",
    "    train_y1 = y1[1:500]\n",
    "    test_x1 = x1[501:1000]\n",
    "    test_x2 = x2[501:1000]\n",
    "    test_x3 = x3[501:1000]\n",
    "    test_x4 = x4[501:1000]\n",
    "    test_y1 = y1[501:1000]\n",
    "    M1 = lm(train_y1~train_x1)\n",
    "    M2 = lm(train_y1~train_x1+train_x2+train_x3++train_x4)\n",
    "    result1[i]=mean((test_y1-predict(M1,data.frame(test_x1)))^2)\n",
    "    result2[i]=mean((test_y1-predict(M2,data.frame(test_x1,test_x2,test_x3,test_x4)))^2)\n",
    "    }\n",
    "print(mean(result1));print(mean(result2))"
   ]
  },
  {
   "cell_type": "code",
   "execution_count": 23,
   "id": "a40884b9-d383-4029-83f1-d38aa0336417",
   "metadata": {},
   "outputs": [
    {
     "data": {
      "text/html": [
       "<style>\n",
       ".dl-inline {width: auto; margin:0; padding: 0}\n",
       ".dl-inline>dt, .dl-inline>dd {float: none; width: auto; display: inline-block}\n",
       ".dl-inline>dt::after {content: \":\\0020\"; padding-right: .5ex}\n",
       ".dl-inline>dt:not(:first-of-type) {padding-left: .5ex}\n",
       "</style><dl class=dl-inline><dt>(Intercept)</dt><dd>2.94831087936386</dd><dt>train_x1</dt><dd>-23.4764125136832</dd><dt>train_x2</dt><dd>19.4868771870945</dd><dt>train_x3</dt><dd>10.091052315003</dd><dt>train_x4</dt><dd>13.7839548863972</dd></dl>\n"
      ],
      "text/latex": [
       "\\begin{description*}\n",
       "\\item[(Intercept)] 2.94831087936386\n",
       "\\item[train\\textbackslash{}\\_x1] -23.4764125136832\n",
       "\\item[train\\textbackslash{}\\_x2] 19.4868771870945\n",
       "\\item[train\\textbackslash{}\\_x3] 10.091052315003\n",
       "\\item[train\\textbackslash{}\\_x4] 13.7839548863972\n",
       "\\end{description*}\n"
      ],
      "text/markdown": [
       "(Intercept)\n",
       ":   2.94831087936386train_x1\n",
       ":   -23.4764125136832train_x2\n",
       ":   19.4868771870945train_x3\n",
       ":   10.091052315003train_x4\n",
       ":   13.7839548863972\n",
       "\n"
      ],
      "text/plain": [
       "(Intercept)    train_x1    train_x2    train_x3    train_x4 \n",
       "   2.948311  -23.476413   19.486877   10.091052   13.783955 "
      ]
     },
     "metadata": {},
     "output_type": "display_data"
    }
   ],
   "source": [
    "M2$coefficients"
   ]
  },
  {
   "cell_type": "markdown",
   "id": "a5f2d3ff-081e-4140-8b31-203e4c2e4138",
   "metadata": {},
   "source": [
    "---"
   ]
  },
  {
   "cell_type": "markdown",
   "id": "c2ccab59-4d05-44a2-b305-def92f47a8d7",
   "metadata": {
    "tags": []
   },
   "source": [
    "## 시도 7"
   ]
  },
  {
   "cell_type": "markdown",
   "id": "081dc44e-d535-41ba-8a40-7b1c0b664f31",
   "metadata": {},
   "source": [
    "- $y_1=3+x_1+5x_2+10x_3+15x_4+20x_5+\\epsilon$\n",
    "  - $x_2=2x_1+\\epsilon$\n",
    "  - $x_3=3x_1+\\epsilon$\n",
    "  - $x_4=4x_1+\\epsilon$\n",
    "  - $x_5=5x_1+\\epsilon$\n",
    "- 1000번 반복\n",
    "- 1000개 데이터\n",
    "- 설명변수를 하나씩 제거해나가며 값 확인"
   ]
  },
  {
   "cell_type": "code",
   "execution_count": 24,
   "id": "323518dc-faf5-44a3-8e1f-e537c2c732d1",
   "metadata": {},
   "outputs": [
    {
     "name": "stdout",
     "output_type": "stream",
     "text": [
      "[1] 6736.468\n",
      "[1] 6736.455\n",
      "[1] 6736.485\n",
      "[1] 6736.49\n",
      "[1] 6736.483\n"
     ]
    }
   ],
   "source": [
    "result1 = c()\n",
    "result2 = c()\n",
    "result2_2 = c()\n",
    "result2_3 = c()\n",
    "result2_4 = c()\n",
    "for (i in 1:1000){\n",
    "    x1 = runif(1000)\n",
    "    x2 = x1*2 + rnorm(1000,0,0.01)\n",
    "    x3 = x1*3 + rnorm(1000,0,0.01)\n",
    "    x4 = x1*4 + rnorm(1000,0,0.01)\n",
    "    x5 = x1*5 + rnorm(1000,0,0.01)\n",
    "    y1= 3 + x1 + 5*x2 + 10*x3 + 15*x4 + 20*x5 + rnorm(1000)\n",
    "    train_x1 = x1[1:500]\n",
    "    train_x2 = x2[1:500]\n",
    "    train_x3 = x3[1:500]\n",
    "    train_x4 = x4[1:500]\n",
    "    train_x5 = x5[1:500]\n",
    "    train_y1 = y1[1:500]\n",
    "    test_x1 = x1[501:1000]\n",
    "    test_x2 = x2[501:1000]\n",
    "    test_x3 = x3[501:1000]\n",
    "    test_x4 = x4[501:1000]\n",
    "    test_x5 = x5[501:1000]\n",
    "    test_y1 = y1[501:1000]\n",
    "    M1 = lm(train_y1~train_x1)\n",
    "    M2 = lm(train_y1~train_x1+train_x2)\n",
    "    M2_2 = lm(train_y1~train_x1+train_x2+train_x3)\n",
    "    M2_3 = lm(train_y1~train_x1+train_x2+train_x3+train_x4)\n",
    "    M2_4 = lm(train_y1~train_x1+train_x2+train_x3+train_x4+train_x5)\n",
    "    result1[i]=mean((test_y1-predict(M1,data.frame(test_x1)))^2)\n",
    "    result2[i]=mean((test_y1-predict(M2,data.frame(test_x1,test_x2,test_x3)))^2)\n",
    "    result2_2[i]=mean((test_y1-predict(M2_2,data.frame(test_x1,test_x2,test_x3)))^2)\n",
    "    result2_3[i]=mean((test_y1-predict(M2_3,data.frame(test_x1,test_x2,test_x3,test_x4)))^2)\n",
    "    result2_4[i]=mean((test_y1-predict(M2_4,data.frame(test_x1,test_x2,test_x3,test_x4,test_x5)))^2)\n",
    "    }\n",
    "print(mean(result1));print(mean(result2));print(mean(result2_2));print(mean(result2_3));print(mean(result2_4))"
   ]
  },
  {
   "cell_type": "code",
   "execution_count": 25,
   "id": "b8c9571d-097c-4673-bafe-7512487e1e00",
   "metadata": {},
   "outputs": [
    {
     "data": {
      "text/html": [
       "<style>\n",
       ".dl-inline {width: auto; margin:0; padding: 0}\n",
       ".dl-inline>dt, .dl-inline>dd {float: none; width: auto; display: inline-block}\n",
       ".dl-inline>dt::after {content: \":\\0020\"; padding-right: .5ex}\n",
       ".dl-inline>dt:not(:first-of-type) {padding-left: .5ex}\n",
       "</style><dl class=dl-inline><dt>(Intercept)</dt><dd>2.8306496541219</dd><dt>train_x1</dt><dd>186.074837670576</dd><dt>train_x2</dt><dd>7.60631504612975</dd></dl>\n"
      ],
      "text/latex": [
       "\\begin{description*}\n",
       "\\item[(Intercept)] 2.8306496541219\n",
       "\\item[train\\textbackslash{}\\_x1] 186.074837670576\n",
       "\\item[train\\textbackslash{}\\_x2] 7.60631504612975\n",
       "\\end{description*}\n"
      ],
      "text/markdown": [
       "(Intercept)\n",
       ":   2.8306496541219train_x1\n",
       ":   186.074837670576train_x2\n",
       ":   7.60631504612975\n",
       "\n"
      ],
      "text/plain": [
       "(Intercept)    train_x1    train_x2 \n",
       "   2.830650  186.074838    7.606315 "
      ]
     },
     "metadata": {},
     "output_type": "display_data"
    },
    {
     "data": {
      "text/html": [
       "<style>\n",
       ".dl-inline {width: auto; margin:0; padding: 0}\n",
       ".dl-inline>dt, .dl-inline>dd {float: none; width: auto; display: inline-block}\n",
       ".dl-inline>dt::after {content: \":\\0020\"; padding-right: .5ex}\n",
       ".dl-inline>dt:not(:first-of-type) {padding-left: .5ex}\n",
       "</style><dl class=dl-inline><dt>(Intercept)</dt><dd>2.81293634487363</dd><dt>train_x1</dt><dd>155.93847697259</dd><dt>train_x2</dt><dd>7.13395489134443</dd><dt>train_x3</dt><dd>10.3695359655814</dd></dl>\n"
      ],
      "text/latex": [
       "\\begin{description*}\n",
       "\\item[(Intercept)] 2.81293634487363\n",
       "\\item[train\\textbackslash{}\\_x1] 155.93847697259\n",
       "\\item[train\\textbackslash{}\\_x2] 7.13395489134443\n",
       "\\item[train\\textbackslash{}\\_x3] 10.3695359655814\n",
       "\\end{description*}\n"
      ],
      "text/markdown": [
       "(Intercept)\n",
       ":   2.81293634487363train_x1\n",
       ":   155.93847697259train_x2\n",
       ":   7.13395489134443train_x3\n",
       ":   10.3695359655814\n",
       "\n"
      ],
      "text/plain": [
       "(Intercept)    train_x1    train_x2    train_x3 \n",
       "   2.812936  155.938477    7.133955   10.369536 "
      ]
     },
     "metadata": {},
     "output_type": "display_data"
    },
    {
     "data": {
      "text/html": [
       "<style>\n",
       ".dl-inline {width: auto; margin:0; padding: 0}\n",
       ".dl-inline>dt, .dl-inline>dd {float: none; width: auto; display: inline-block}\n",
       ".dl-inline>dt::after {content: \":\\0020\"; padding-right: .5ex}\n",
       ".dl-inline>dt:not(:first-of-type) {padding-left: .5ex}\n",
       "</style><dl class=dl-inline><dt>(Intercept)</dt><dd>2.84222940474263</dd><dt>train_x1</dt><dd>67.3937797374541</dd><dt>train_x2</dt><dd>7.21533722341487</dd><dt>train_x3</dt><dd>10.2477294341318</dd><dt>train_x4</dt><dd>22.1753147053389</dd></dl>\n"
      ],
      "text/latex": [
       "\\begin{description*}\n",
       "\\item[(Intercept)] 2.84222940474263\n",
       "\\item[train\\textbackslash{}\\_x1] 67.3937797374541\n",
       "\\item[train\\textbackslash{}\\_x2] 7.21533722341487\n",
       "\\item[train\\textbackslash{}\\_x3] 10.2477294341318\n",
       "\\item[train\\textbackslash{}\\_x4] 22.1753147053389\n",
       "\\end{description*}\n"
      ],
      "text/markdown": [
       "(Intercept)\n",
       ":   2.84222940474263train_x1\n",
       ":   67.3937797374541train_x2\n",
       ":   7.21533722341487train_x3\n",
       ":   10.2477294341318train_x4\n",
       ":   22.1753147053389\n",
       "\n"
      ],
      "text/plain": [
       "(Intercept)    train_x1    train_x2    train_x3    train_x4 \n",
       "   2.842229   67.393780    7.215337   10.247729   22.175315 "
      ]
     },
     "metadata": {},
     "output_type": "display_data"
    },
    {
     "data": {
      "text/html": [
       "<style>\n",
       ".dl-inline {width: auto; margin:0; padding: 0}\n",
       ".dl-inline>dt, .dl-inline>dd {float: none; width: auto; display: inline-block}\n",
       ".dl-inline>dt::after {content: \":\\0020\"; padding-right: .5ex}\n",
       ".dl-inline>dt:not(:first-of-type) {padding-left: .5ex}\n",
       "</style><dl class=dl-inline><dt>(Intercept)</dt><dd>2.85904525016924</dd><dt>train_x1</dt><dd>-17.2304608579006</dd><dt>train_x2</dt><dd>7.95170292499877</dd><dt>train_x3</dt><dd>10.5545962012116</dd><dt>train_x4</dt><dd>21.8145970063931</dd><dt>train_x5</dt><dd>16.7252407580374</dd></dl>\n"
      ],
      "text/latex": [
       "\\begin{description*}\n",
       "\\item[(Intercept)] 2.85904525016924\n",
       "\\item[train\\textbackslash{}\\_x1] -17.2304608579006\n",
       "\\item[train\\textbackslash{}\\_x2] 7.95170292499877\n",
       "\\item[train\\textbackslash{}\\_x3] 10.5545962012116\n",
       "\\item[train\\textbackslash{}\\_x4] 21.8145970063931\n",
       "\\item[train\\textbackslash{}\\_x5] 16.7252407580374\n",
       "\\end{description*}\n"
      ],
      "text/markdown": [
       "(Intercept)\n",
       ":   2.85904525016924train_x1\n",
       ":   -17.2304608579006train_x2\n",
       ":   7.95170292499877train_x3\n",
       ":   10.5545962012116train_x4\n",
       ":   21.8145970063931train_x5\n",
       ":   16.7252407580374\n",
       "\n"
      ],
      "text/plain": [
       "(Intercept)    train_x1    train_x2    train_x3    train_x4    train_x5 \n",
       "   2.859045  -17.230461    7.951703   10.554596   21.814597   16.725241 "
      ]
     },
     "metadata": {},
     "output_type": "display_data"
    }
   ],
   "source": [
    "M2$coefficients;M2_2$coefficients;M2_3$coefficients;M2_4$coefficients"
   ]
  },
  {
   "cell_type": "markdown",
   "id": "6139d9d0-b6b0-42b7-8536-8df5829cb0be",
   "metadata": {},
   "source": [
    "---"
   ]
  },
  {
   "cell_type": "markdown",
   "id": "3e421e7c-8a95-4e38-baec-db69b5f4c172",
   "metadata": {
    "tags": []
   },
   "source": [
    "## 시도 8"
   ]
  },
  {
   "cell_type": "markdown",
   "id": "3cd0be68-f5d8-44ec-a8c3-42947dd7f9d6",
   "metadata": {},
   "source": [
    "- $y_1=3+x_1+1.5x_2+2x_3+2.5x_4+3x_5+\\epsilon$\n",
    "  - $x_2=x^2_1+\\epsilon$\n",
    "  - $x_3=x^3_1+\\epsilon$\n",
    "  - $x_4=x^4_1+\\epsilon$\n",
    "  - $x_5=x^5_1+\\epsilon$\n",
    "- 1000번 반복\n",
    "- 1000개 데이터\n",
    "- 설명변수를 하나씩 제거해나가며 값 확인"
   ]
  },
  {
   "cell_type": "code",
   "execution_count": 26,
   "id": "13774235-54f1-4e48-acc2-bd754fcee64a",
   "metadata": {},
   "outputs": [
    {
     "name": "stdout",
     "output_type": "stream",
     "text": [
      "[1] 14.08265\n",
      "[1] 15.17156\n",
      "[1] 15.25551\n",
      "[1] 15.27434\n",
      "[1] 15.27908\n"
     ]
    }
   ],
   "source": [
    "result1 = c()\n",
    "result2 = c()\n",
    "result2_2 = c()\n",
    "result2_3 = c()\n",
    "result2_4 = c()\n",
    "for (i in 1:1000){\n",
    "    x1 = runif(1000)\n",
    "    x2 = x1^2 + rnorm(1000,0,0.01)\n",
    "    x3 = x1^3 + rnorm(1000,0,0.01)\n",
    "    x4 = x1^4 + rnorm(1000,0,0.01)\n",
    "    x5 = x1^5 + rnorm(1000,0,0.01)\n",
    "    y1= 3 + x1 + 1.5*x2 + 2*x3 + 2.5*x4 + 3*x5 + rnorm(1000)\n",
    "    train_x1 = x1[1:500]\n",
    "    train_x2 = x2[1:500]\n",
    "    train_x3 = x3[1:500]\n",
    "    train_x4 = x4[1:500]\n",
    "    train_x5 = x5[1:500]\n",
    "    train_y1 = y1[1:500]\n",
    "    test_x1 = x1[501:1000]\n",
    "    test_x2 = x2[501:1000]\n",
    "    test_x3 = x3[501:1000]\n",
    "    test_x4 = x4[501:1000]\n",
    "    test_x5 = x5[501:1000]\n",
    "    test_y1 = y1[501:1000]\n",
    "    M1 = lm(train_y1~train_x1)\n",
    "    M2 = lm(train_y1~train_x1+train_x2)\n",
    "    M2_2 = lm(train_y1~train_x1+train_x2+train_x3)\n",
    "    M2_3 = lm(train_y1~train_x1+train_x2+train_x3+train_x4)\n",
    "    M2_4 = lm(train_y1~train_x1+train_x2+train_x3+train_x4+train_x5)\n",
    "    result1[i]=mean((test_y1-predict(M1,data.frame(test_x1)))^2)\n",
    "    result2[i]=mean((test_y1-predict(M2,data.frame(test_x1,test_x2)))^2)\n",
    "    result2_2[i]=mean((test_y1-predict(M2_2,data.frame(test_x1,test_x2,test_x3)))^2)\n",
    "    result2_3[i]=mean((test_y1-predict(M2_3,data.frame(test_x1,test_x2,test_x3,test_x4)))^2)\n",
    "    result2_4[i]=mean((test_y1-predict(M2_4,data.frame(test_x1,test_x2,test_x3,test_x4,test_x5)))^2)  \n",
    "    }\n",
    "print(mean(result1));print(mean(result2));print(mean(result2_2));print(mean(result2_3));print(mean(result2_4))"
   ]
  },
  {
   "cell_type": "code",
   "execution_count": 27,
   "id": "8ec84a1f-e3b6-4122-bc06-f858cfb471a6",
   "metadata": {},
   "outputs": [
    {
     "data": {
      "text/html": [
       "<style>\n",
       ".dl-inline {width: auto; margin:0; padding: 0}\n",
       ".dl-inline>dt, .dl-inline>dd {float: none; width: auto; display: inline-block}\n",
       ".dl-inline>dt::after {content: \":\\0020\"; padding-right: .5ex}\n",
       ".dl-inline>dt:not(:first-of-type) {padding-left: .5ex}\n",
       "</style><dl class=dl-inline><dt>(Intercept)</dt><dd>3.5241285282012</dd><dt>train_x1</dt><dd>-4.70891535599682</dd><dt>train_x2</dt><dd>12.8778890436116</dd></dl>\n"
      ],
      "text/latex": [
       "\\begin{description*}\n",
       "\\item[(Intercept)] 3.5241285282012\n",
       "\\item[train\\textbackslash{}\\_x1] -4.70891535599682\n",
       "\\item[train\\textbackslash{}\\_x2] 12.8778890436116\n",
       "\\end{description*}\n"
      ],
      "text/markdown": [
       "(Intercept)\n",
       ":   3.5241285282012train_x1\n",
       ":   -4.70891535599682train_x2\n",
       ":   12.8778890436116\n",
       "\n"
      ],
      "text/plain": [
       "(Intercept)    train_x1    train_x2 \n",
       "   3.524129   -4.708915   12.877889 "
      ]
     },
     "metadata": {},
     "output_type": "display_data"
    },
    {
     "data": {
      "text/html": [
       "<style>\n",
       ".dl-inline {width: auto; margin:0; padding: 0}\n",
       ".dl-inline>dt, .dl-inline>dd {float: none; width: auto; display: inline-block}\n",
       ".dl-inline>dt::after {content: \":\\0020\"; padding-right: .5ex}\n",
       ".dl-inline>dt:not(:first-of-type) {padding-left: .5ex}\n",
       "</style><dl class=dl-inline><dt>(Intercept)</dt><dd>2.98387847437407</dd><dt>train_x1</dt><dd>1.97425785211899</dd><dt>train_x2</dt><dd>-4.23962120525278</dd><dt>train_x3</dt><dd>11.629664558138</dd></dl>\n"
      ],
      "text/latex": [
       "\\begin{description*}\n",
       "\\item[(Intercept)] 2.98387847437407\n",
       "\\item[train\\textbackslash{}\\_x1] 1.97425785211899\n",
       "\\item[train\\textbackslash{}\\_x2] -4.23962120525278\n",
       "\\item[train\\textbackslash{}\\_x3] 11.629664558138\n",
       "\\end{description*}\n"
      ],
      "text/markdown": [
       "(Intercept)\n",
       ":   2.98387847437407train_x1\n",
       ":   1.97425785211899train_x2\n",
       ":   -4.23962120525278train_x3\n",
       ":   11.629664558138\n",
       "\n"
      ],
      "text/plain": [
       "(Intercept)    train_x1    train_x2    train_x3 \n",
       "   2.983878    1.974258   -4.239621   11.629665 "
      ]
     },
     "metadata": {},
     "output_type": "display_data"
    },
    {
     "data": {
      "text/html": [
       "<style>\n",
       ".dl-inline {width: auto; margin:0; padding: 0}\n",
       ".dl-inline>dt, .dl-inline>dd {float: none; width: auto; display: inline-block}\n",
       ".dl-inline>dt::after {content: \":\\0020\"; padding-right: .5ex}\n",
       ".dl-inline>dt:not(:first-of-type) {padding-left: .5ex}\n",
       "</style><dl class=dl-inline><dt>(Intercept)</dt><dd>2.82836639015607</dd><dt>train_x1</dt><dd>2.61958081029974</dd><dt>train_x2</dt><dd>0.163239001522516</dd><dt>train_x3</dt><dd>-3.37527552305487</dd><dt>train_x4</dt><dd>10.5161502618148</dd></dl>\n"
      ],
      "text/latex": [
       "\\begin{description*}\n",
       "\\item[(Intercept)] 2.82836639015607\n",
       "\\item[train\\textbackslash{}\\_x1] 2.61958081029974\n",
       "\\item[train\\textbackslash{}\\_x2] 0.163239001522516\n",
       "\\item[train\\textbackslash{}\\_x3] -3.37527552305487\n",
       "\\item[train\\textbackslash{}\\_x4] 10.5161502618148\n",
       "\\end{description*}\n"
      ],
      "text/markdown": [
       "(Intercept)\n",
       ":   2.82836639015607train_x1\n",
       ":   2.61958081029974train_x2\n",
       ":   0.163239001522516train_x3\n",
       ":   -3.37527552305487train_x4\n",
       ":   10.5161502618148\n",
       "\n"
      ],
      "text/plain": [
       "(Intercept)    train_x1    train_x2    train_x3    train_x4 \n",
       "   2.828366    2.619581    0.163239   -3.375276   10.516150 "
      ]
     },
     "metadata": {},
     "output_type": "display_data"
    },
    {
     "data": {
      "text/html": [
       "<style>\n",
       ".dl-inline {width: auto; margin:0; padding: 0}\n",
       ".dl-inline>dt, .dl-inline>dd {float: none; width: auto; display: inline-block}\n",
       ".dl-inline>dt::after {content: \":\\0020\"; padding-right: .5ex}\n",
       ".dl-inline>dt:not(:first-of-type) {padding-left: .5ex}\n",
       "</style><dl class=dl-inline><dt>(Intercept)</dt><dd>2.81817547093281</dd><dt>train_x1</dt><dd>2.43306713917384</dd><dt>train_x2</dt><dd>1.33059690583496</dd><dt>train_x3</dt><dd>-3.69965966417416</dd><dt>train_x4</dt><dd>7.10468360627456</dd><dt>train_x5</dt><dd>2.86671849180492</dd></dl>\n"
      ],
      "text/latex": [
       "\\begin{description*}\n",
       "\\item[(Intercept)] 2.81817547093281\n",
       "\\item[train\\textbackslash{}\\_x1] 2.43306713917384\n",
       "\\item[train\\textbackslash{}\\_x2] 1.33059690583496\n",
       "\\item[train\\textbackslash{}\\_x3] -3.69965966417416\n",
       "\\item[train\\textbackslash{}\\_x4] 7.10468360627456\n",
       "\\item[train\\textbackslash{}\\_x5] 2.86671849180492\n",
       "\\end{description*}\n"
      ],
      "text/markdown": [
       "(Intercept)\n",
       ":   2.81817547093281train_x1\n",
       ":   2.43306713917384train_x2\n",
       ":   1.33059690583496train_x3\n",
       ":   -3.69965966417416train_x4\n",
       ":   7.10468360627456train_x5\n",
       ":   2.86671849180492\n",
       "\n"
      ],
      "text/plain": [
       "(Intercept)    train_x1    train_x2    train_x3    train_x4    train_x5 \n",
       "   2.818175    2.433067    1.330597   -3.699660    7.104684    2.866718 "
      ]
     },
     "metadata": {},
     "output_type": "display_data"
    }
   ],
   "source": [
    "M2$coefficients;M2_2$coefficients;M2_3$coefficients;M2_4$coefficients"
   ]
  },
  {
   "cell_type": "markdown",
   "id": "c0b11abe-f623-48cc-bdc3-4aef880f3d58",
   "metadata": {},
   "source": [
    "---"
   ]
  },
  {
   "cell_type": "markdown",
   "id": "568bf768-c994-473f-b633-6a5b2bb8c1ac",
   "metadata": {},
   "source": [
    "다중공선성을 어느정도 제거한 모델과 제거하지 않은 모델들을 비교해보았다.\n",
    "- 설명변수끼리 배수 관계에 있던 모델들과 다르게 거듭제곱 관계에 있던 모델들은 결과가 비슷하긴 하지만 설명변수가 배수관계에 있던 모델만큼 비슷하진 않았다.\n",
    "- 설명변수끼리 관계가 있고, 또 여러개 존재했을때 확실히 설명변수가 추가될수록 모형의 평균제곱오차가 커지는 경향을 보였다."
   ]
  },
  {
   "cell_type": "code",
   "execution_count": null,
   "id": "8bdcc642-227d-46be-8d9d-7ea893dcfc51",
   "metadata": {},
   "outputs": [],
   "source": []
  },
  {
   "cell_type": "code",
   "execution_count": null,
   "id": "af58d7ad-72c6-4eda-aa1f-604d699fb7aa",
   "metadata": {},
   "outputs": [],
   "source": []
  }
 ],
 "metadata": {
  "kernelspec": {
   "display_name": "R",
   "language": "R",
   "name": "ir"
  },
  "language_info": {
   "codemirror_mode": "r",
   "file_extension": ".r",
   "mimetype": "text/x-r-source",
   "name": "R",
   "pygments_lexer": "r",
   "version": "4.1.2"
  }
 },
 "nbformat": 4,
 "nbformat_minor": 5
}
