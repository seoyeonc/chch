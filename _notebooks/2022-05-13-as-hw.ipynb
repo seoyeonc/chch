{
 "cells": [
  {
   "cell_type": "markdown",
   "id": "1274533e-2324-47fa-883b-da07e1204247",
   "metadata": {
    "id": "cac470df-29e7-4148-9bbd-d8b9a32fa570",
    "tags": []
   },
   "source": [
    "# 응용통계학 과제\n",
    "> 다중공선성\n",
    "\n",
    "- toc:true\n",
    "- branch: master\n",
    "- badges: true\n",
    "- comments: false\n",
    "- author: 최서연\n",
    "- categories: [Applied Statistics, 다중공선성]"
   ]
  },
  {
   "cell_type": "markdown",
   "id": "523b9ded-5195-40f5-b055-5508851aa981",
   "metadata": {},
   "source": [
    "\n",
    "다중공선성이 존재하는 상황을 가정하고 \n",
    "\n",
    " \n",
    "\n",
    "다중공선성을 어느 정도 제거한 모형 (M1)과 다중공선성이 내재되어 있는 모형 (M2) 을 고려하여\n",
    "\n",
    " \n",
    "\n",
    "두 모형의 예측력을 모의실험을 통해 비교하여라,\n",
    "\n",
    " \n",
    "\n",
    "단, 실험은 여러 번 반복하여 평균적인 결과를  report하되 설명변수의 개수는 3개 이상으로 설정하여라.\n",
    "\n",
    " \n",
    "\n",
    "이미 존재하는 문서들을 참고하거나 재현해도 무방함.\n",
    "\n",
    " \n",
    "\n",
    "(첨부된 문서 참고)"
   ]
  },
  {
   "cell_type": "code",
   "execution_count": 2,
   "id": "8f64ee8d-0948-46ff-9188-59053b7a2273",
   "metadata": {},
   "outputs": [
    {
     "data": {
      "text/html": [
       "<style>\n",
       ".list-inline {list-style: none; margin:0; padding: 0}\n",
       ".list-inline>li {display: inline-block}\n",
       ".list-inline>li:not(:last-child)::after {content: \"\\00b7\"; padding: 0 .5ex}\n",
       "</style>\n",
       "<ol class=list-inline><li>55.1327101053596</li><li>55.1308698035524</li></ol>\n"
      ],
      "text/latex": [
       "\\begin{enumerate*}\n",
       "\\item 55.1327101053596\n",
       "\\item 55.1308698035524\n",
       "\\end{enumerate*}\n"
      ],
      "text/markdown": [
       "1. 55.1327101053596\n",
       "2. 55.1308698035524\n",
       "\n",
       "\n"
      ],
      "text/plain": [
       "[1] 55.13271 55.13087"
      ]
     },
     "metadata": {},
     "output_type": "display_data"
    },
    {
     "data": {
      "text/html": [
       "<style>\n",
       ".list-inline {list-style: none; margin:0; padding: 0}\n",
       ".list-inline>li {display: inline-block}\n",
       ".list-inline>li:not(:last-child)::after {content: \"\\00b7\"; padding: 0 .5ex}\n",
       "</style>\n",
       "<ol class=list-inline><li>15.5428446077113</li><li>1.001849737575</li></ol>\n"
      ],
      "text/latex": [
       "\\begin{enumerate*}\n",
       "\\item 15.5428446077113\n",
       "\\item 1.001849737575\n",
       "\\end{enumerate*}\n"
      ],
      "text/markdown": [
       "1. 15.5428446077113\n",
       "2. 1.001849737575\n",
       "\n",
       "\n"
      ],
      "text/plain": [
       "[1] 15.54284  1.00185"
      ]
     },
     "metadata": {},
     "output_type": "display_data"
    }
   ],
   "source": [
    "Nrep = 200\n",
    "\n",
    "n = 1000\n",
    "\n",
    "hatb1 <- hatb2 <- c()\n",
    "te1 <- te2 <- c()\n",
    "\n",
    "for (k in 1:Nrep)\n",
    "{\n",
    "x1 = runif(n,-3,3)\n",
    "x2 = x1 + rnorm(n,0,0.01)\n",
    "#X = model.matrix(~ x1 + x2)\n",
    "#solve(t(X)%*%X)\n",
    "y = 2 + x1 + 2*x2 + rnorm(n)\n",
    "\n",
    "ind = sample(1:n,500)\n",
    "tx1 = x1[ind]\n",
    "tx2 = x2[ind]\n",
    "test_x1 = x1[-ind]\n",
    "test_x2 = x2[-ind]\n",
    "ty  = y[ind]\n",
    "test_y = y[-ind]\n",
    "\n",
    "fit1 = lm(ty~tx1+tx2)\n",
    "fit2 = lm(ty~tx1)\n",
    "\n",
    "hatb1[k] = fit1$coefficients[2]\n",
    "hatb2[k] = fit2$coefficients[2]\n",
    "\n",
    "te1[k] = mean((test_y - predict(fit1,newdata=data.frame(test_x1,test_x2)))^2)\n",
    "te2[k] = mean((test_y - predict(fit2,newdata=data.frame(test_x1)))^2)\n",
    "#summary(lm(y~x1+x2))\n",
    "#print(k)\n",
    "}\n",
    "\n",
    "c(mean(te1),mean(te2))\n",
    "c(mean((hatb1-1)^2),mean((hatb2-2)^2))\n",
    "\n"
   ]
  },
  {
   "cell_type": "code",
   "execution_count": null,
   "id": "4b9407c6-4459-4243-9200-e12f07e77f63",
   "metadata": {},
   "outputs": [],
   "source": []
  }
 ],
 "metadata": {
  "kernelspec": {
   "display_name": "R",
   "language": "R",
   "name": "ir"
  },
  "language_info": {
   "codemirror_mode": "r",
   "file_extension": ".r",
   "mimetype": "text/x-r-source",
   "name": "R",
   "pygments_lexer": "r",
   "version": "4.1.2"
  }
 },
 "nbformat": 4,
 "nbformat_minor": 5
}
