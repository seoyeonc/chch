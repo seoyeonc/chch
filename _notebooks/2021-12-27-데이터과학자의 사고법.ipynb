{
 "cells": [
  {
   "cell_type": "markdown",
   "id": "82ddc421-386a-44ee-8f92-3141c7b83b49",
   "metadata": {
    "tags": []
   },
   "source": [
    "# 데이터 과학자의 사고법\n",
    "> \n",
    "\n",
    "- toc:true\n",
    "- branch: master\n",
    "- badges: true\n",
    "- comments: false\n",
    "- author: 최서연"
   ]
  },
  {
   "cell_type": "markdown",
   "id": "408f705d-e107-4008-8f94-1abba611568a",
   "metadata": {},
   "source": [
    "### 1부"
   ]
  },
  {
   "cell_type": "markdown",
   "id": "c550db16-0838-4792-bbe3-235d38116b5f",
   "metadata": {},
   "source": [
    "#### 1장"
   ]
  },
  {
   "cell_type": "markdown",
   "id": "ac2a6a8e-24e1-4537-8621-63b971add148",
   "metadata": {},
   "source": [
    "2008년 금융위기 3가지 원인\n",
    "- 저소득층 시장의 신용을 높게 평가한 점\n",
    "    - 거절자 추론(reject inference): 모집단을 대표하지 못하는 표본\n",
    "- 평가 기법을 잘 아는 금융회사\n",
    "    - 인위적 평가 조정 가능, 잘못된 지점(부도의 평가 등)에 집중\n",
    "- 금융 상품의 공정 평가가 어려운 신용평가 기관"
   ]
  },
  {
   "cell_type": "markdown",
   "id": "76f338a1-ded7-49c3-bf21-bf054968c275",
   "metadata": {},
   "source": [
    "#### 2장"
   ]
  },
  {
   "cell_type": "markdown",
   "id": "ce67ebf2-a5a1-43b8-b443-90b4bee13abc",
   "metadata": {},
   "source": [
    "데이터 과학의 목적: 데이터로부터 불확실한 사건의 확률을 구하는 것\n",
    "- 확률은 불확실성을 표현하는 언어이자 나아가 데이터 과학의 언어!"
   ]
  },
  {
   "cell_type": "markdown",
   "id": "47a19a1f-2c29-4f74-adc4-fff35a64f0ea",
   "metadata": {},
   "source": [
    "몬티홀 문제: \n",
    "- Suppose you’re on a game show, and you’re given the choice of three doors. Behind one door is a car, behind the others, goats. You pick a door, say #1, and the host, who knows what’s behind the doors, opens another door, say #3, which has a goat. He says to you, \"Do you want to pick door #2?\" Is it to your advantage to switch your choice of doors?\n",
    "\n",
    "- 당신이 한 게임 쇼에 참여하여 세 문들 중 하나를 고를 기회를 가졌다고 생각해봐라. 한 문 뒤에는 자동차가 있으며, 다른 두 문 뒤에는 염소가 있다. 당신은 1번 문을 고르고, 문 뒤에 무엇이 있는지 아는 사회자는 염소가 있는 3번 문을 연다. 그는 당신에게 \"2번 문을 고르고 싶습니까?\"라고 묻는다. 당신의 선택을 바꾸는 것은 이득이 되는가?\n",
    "\n",
    "ref: https://namu.wiki/w/%EB%AA%AC%ED%8B%B0%20%ED%99%80%20%EB%AC%B8%EC%A0%9C"
   ]
  },
  {
   "cell_type": "markdown",
   "id": "bc3d7a98-ea50-47d6-a997-33682c126911",
   "metadata": {},
   "source": [
    "#### 3장"
   ]
  },
  {
   "cell_type": "markdown",
   "id": "9dc4dec2-084d-4c76-b751-4bab49dee560",
   "metadata": {},
   "source": [
    "A: 우리가 궁극적으로 알고자 하는 것\n",
    "\n",
    "B: 데이터로부터 얻는 정보\n",
    "\n",
    "P(A|B)와 A의 차이로 B가 미치는 영향을 조사\n",
    "\n",
    "조건부 확률은 정확히 계산이 맞아 떨어지진 않는 실제 상황~"
   ]
  },
  {
   "cell_type": "markdown",
   "id": "e2cc37b0-1c5c-4d23-8e3e-6e73fbdb10cd",
   "metadata": {},
   "source": [
    "#### 4장"
   ]
  },
  {
   "cell_type": "markdown",
   "id": "cc19d7c4-fad8-42bc-9095-c9c56372247c",
   "metadata": {},
   "source": [
    "데이터 = 정보 + 잡음\n",
    "\n",
    "D = I + N $\\to$ 정규분포\n",
    "\n",
    "잡음이 많은 데이터를 분석할 분석 방법의 필요성! 그것을 찾는 것이 과제!"
   ]
  },
  {
   "cell_type": "markdown",
   "id": "6ab0ef7e-3072-4456-be1b-62e1f4b4e9f8",
   "metadata": {},
   "source": [
    "#### 5장"
   ]
  },
  {
   "cell_type": "markdown",
   "id": "7bed348f-ff0d-4808-b71a-1bf63fe92640",
   "metadata": {},
   "source": [
    "평균과 변동 - 원인 파악을 통한 효과 제거 및 변동 감소 - 변동 파악의 중요성"
   ]
  },
  {
   "cell_type": "markdown",
   "id": "558bb9cd-1e01-4d38-b192-f66e6ab0e68d",
   "metadata": {},
   "source": [
    "#### 6장"
   ]
  },
  {
   "cell_type": "markdown",
   "id": "775ba951-1032-4c6e-8d2c-3cbc4089752e",
   "metadata": {},
   "source": [
    "통계적 가설 검정의 오류를 줄이기 위한 합리적 판단의 중요성, 사회적 지식의 필요성."
   ]
  },
  {
   "cell_type": "markdown",
   "id": "229c1a70-c212-43e9-bfd6-cee59b62c0b9",
   "metadata": {},
   "source": [
    "#### 7장"
   ]
  },
  {
   "cell_type": "markdown",
   "id": "1991419e-5b8e-4aea-9985-b7408000f658",
   "metadata": {},
   "source": [
    "상관관계는 인과관계로 이어지지 않는다.\n",
    "\n",
    "데이터 과학만으로 모든 인과관계를 밝혀내기는 쉽지 않다.\n",
    "\n",
    "\n",
    "전문적인 지식을 이용한 판단의 중요성!"
   ]
  },
  {
   "cell_type": "markdown",
   "id": "b5a97560-1cbf-4b7e-93ab-434ca9f91fba",
   "metadata": {},
   "source": [
    "#### 8장"
   ]
  },
  {
   "cell_type": "markdown",
   "id": "0aa06a33-662b-4a50-bd5a-0a9ed99f0f91",
   "metadata": {},
   "source": [
    "평균으로의 회귀\n",
    "\n",
    "- 평균으로의 회귀(영어: regression toward the mean)는 예언된 변인에서 극단적인 값을 가져야 될 사람이 덜 극단적인 예언된 특성을 지니는 경향성을 말한다. 평균을 향한 회귀, 평균회귀, 회귀효과라고도 한다.\n",
    "\n",
    "- 일반적으로 두 변수간 상관이 아주 크지 않을 경우, 한 변수에서 극단치를 보인 사례가 다른 변수에서는 덜 극단적인, 즉 평균에 가까운 값을 보이는 통계적 성질이 있다. 회귀분석이 어원이 된 것이지만, 회귀분석은 통계분석방법이고 평균회귀는 통계적 법칙을 이르는 것으로 의미는 같지 않다.\n",
    "\n",
    "- ref: https://ko.m.wikipedia.org/wiki/%ED%8F%89%EA%B7%A0%EC%9C%BC%EB%A1%9C%EC%9D%98_%ED%9A%8C%EA%B7%80\n",
    "\n",
    "- 경험에 의존한 판단은 피해야 하며 이는 경험이 필요없다는 뜻이 아니라 경험 해석이 어렵기 때문이다."
   ]
  },
  {
   "cell_type": "markdown",
   "id": "c83aca48-eafa-40d3-9d65-158a6164064d",
   "metadata": {},
   "source": [
    "#### 9장"
   ]
  },
  {
   "cell_type": "markdown",
   "id": "ee47fc21-6abf-4015-85af-60f92a6f6e4e",
   "metadata": {},
   "source": [
    "데이터 편향으로 인한 왜곡된 결과!"
   ]
  },
  {
   "cell_type": "markdown",
   "id": "38a2bc72-fb96-42be-a51c-15d6ad33ee77",
   "metadata": {},
   "source": [
    "#### 10장"
   ]
  },
  {
   "cell_type": "markdown",
   "id": "aea30064-0f82-47ed-b9fe-42ab521cde87",
   "metadata": {},
   "source": [
    "극단치 이론: 최대값과 최소값에 관심을 둔 이론\n",
    "- 최대값, 최소값은 데이터에 관계없이 특정한 히스토그램(극단값 분포)을 가진다.\n",
    "- 평균은 중심극한정리를 통해 정규분포를 따름\n",
    "- 최대값, 최소값은 극단값 분포를 따름\n",
    "- 극단값은 존재하는 데이터이기 때문에 절대! 불필요하진 않을 듯!"
   ]
  },
  {
   "cell_type": "markdown",
   "id": "7ec85021-c182-477b-9020-a823ea58f542",
   "metadata": {},
   "source": [
    "#### 11장"
   ]
  },
  {
   "cell_type": "markdown",
   "id": "14c5effe-19bd-4003-a8f9-01c48b8976ee",
   "metadata": {},
   "source": [
    "임의보행\n",
    "- 잡음에 대한 이해는 데이터 과학의 핵심\n",
    "\n",
    "\n",
    "클라이브 그레인저(Clive Granger): 임의보행으로 경제 데이터 분석 방법 연구\n",
    "- Granger was awarded the Nobel Memorial Prize in Economic Sciences in 2003 in recognition of the contributions that he and his co-winner, Robert F. Engle, had made to the analysis of time series data. This work fundamentally changed the way in which economists analyse financial and macroeconomic data.\n",
    "- https://en.m.wikipedia.org/wiki/Clive_Granger"
   ]
  },
  {
   "cell_type": "markdown",
   "id": "808cba8d-c3bc-4a0f-96b0-7c7f5a04834b",
   "metadata": {},
   "source": [
    "#### 12장"
   ]
  },
  {
   "cell_type": "markdown",
   "id": "304dd391-41a1-4674-9a6c-827eba56ab06",
   "metadata": {},
   "source": [
    "미래 예측- 통계학의 회귀분석이나 기계학습에서의 지도학습은 예측을 위한 방법론\n",
    "\n",
    "인공지능과 공존하기 위해 인간에게 필요한 것은 무엇일까?\n",
    "- 반복적인 일을 잘하고 감정이 없는 인공지능,\n",
    "- 창의적인 생각으로 접근 가능한 감정있는 인간,\n",
    "- 장단점을 적절히 조화하여 공존하는 방법을 모색하는 것이 필요하겠다!"
   ]
  },
  {
   "cell_type": "markdown",
   "id": "621b7ea2-cdf3-4052-8c3e-64711e9826a4",
   "metadata": {},
   "source": [
    "#### 13장"
   ]
  },
  {
   "cell_type": "markdown",
   "id": "68629793-6bd6-484a-8056-2ee51bb41155",
   "metadata": {},
   "source": [
    "표본조사\n",
    "- 대표성의 중요도\n",
    "- 공정한 데이터 선정을 위한 무작위 추출\n",
    "\n",
    "\n",
    "- 사회가 선진화될수록 양질의 통계를 요구하는 분야는 늘어남!"
   ]
  },
  {
   "cell_type": "markdown",
   "id": "a71f494e-3500-429c-a5ec-becfdae0473e",
   "metadata": {},
   "source": [
    "#### 14장"
   ]
  },
  {
   "cell_type": "markdown",
   "id": "f11b30f4-7343-43ed-87f6-18ff3e291dd6",
   "metadata": {},
   "source": [
    "다중 비교의 오류: 데이터를 분석하며 원하는 결과가 나올 때까지 계속하다 발생하는 오류\n",
    "- 데이터는 유한하기 때문에\n",
    "- 확인 분석을 통해 오류를 피하자"
   ]
  },
  {
   "cell_type": "markdown",
   "id": "347add9b-4e2c-4999-8f19-71494e26bbb8",
   "metadata": {},
   "source": [
    "#### 15장"
   ]
  },
  {
   "cell_type": "markdown",
   "id": "11f255c1-6e34-4cc1-8417-10862e7e33f5",
   "metadata": {},
   "source": [
    "빅데이터와 세분화의 함정\n",
    "- 빅데이터는 '목표없이 모이는 자료'\n",
    "- 또한, 빅데이터는 성공한 연구 결과만 기록될 수 있다.\n",
    "\n",
    "\n",
    "\n",
    "- 데이터 자체를 그저 믿기보다 합라적인 사고와 정확한 판단, 사회적 지식이 요구된다!"
   ]
  },
  {
   "cell_type": "markdown",
   "id": "e509751a-53e5-4021-8510-45ac455095ad",
   "metadata": {},
   "source": [
    "**벤포드 법칙**\n",
    "\n",
    "벤포드의 법칙(Benford's law)은 실세계에서 존재하는 많은 수치 데이터의 10진법 값에서 수의 첫째 자리의 확률 분포를 관찰한 결과, 첫째 자리 숫자가 작을 확률이 크다는 법칙이다. 벤포드의 법칙을 따르는 데이터 집합에 등장하는 수들의 첫째 자리가 1일 확률은 약 30%인 데 반해, 9가 첫째 자리로 등장할 확률은 5% 정도밖에 되지 않는다. 만약 1부터 9까지의 숫자가 수의 맨 앞자리에 등장할 확률이 균등분포를 따른다면, 각 숫자는 약 11.1%의 확률로 맨 앞자리에 등장하여야 할 것이다. 벤포드의 법칙은 또한 수의 둘째 이후 자리의 확률 분포나 숫자 조합에 대한 확률 분포도 예측할 수 있다.\n",
    "\n",
    "\n",
    "$$P(d)=log_{10}(1+\\frac{1}{d})$$\n",
    "\n",
    "- https://ko.m.wikipedia.org/wiki/%EB%B2%A4%ED%8F%AC%EB%93%9C%EC%9D%98_%EB%B2%95%EC%B9%99"
   ]
  },
  {
   "cell_type": "markdown",
   "id": "a2f706ba-3411-4c8d-975b-d6bc433376f6",
   "metadata": {},
   "source": [
    "### 2부"
   ]
  },
  {
   "cell_type": "markdown",
   "id": "55cb2c58-5e4f-44aa-b68b-62affe1ae8c5",
   "metadata": {},
   "source": [
    "#### 1장"
   ]
  },
  {
   "cell_type": "markdown",
   "id": "fd63fb73-583e-4bd2-9e5b-3addb5b7c63b",
   "metadata": {},
   "source": [
    "데이터의 발자취\n",
    "- 흥미로운 statistic의 어원\n",
    "    - 국가 state + -ista 장인 = statista (이탈리아어)"
   ]
  },
  {
   "cell_type": "markdown",
   "id": "55a91941-999a-40e9-872b-c7123491c1e8",
   "metadata": {},
   "source": [
    "빅데이터가 세계를 열은 건 사실이지만.. 현재 개인정보 침해 들으로 뭇매 맞고 있는 것 또한 사실!"
   ]
  },
  {
   "cell_type": "markdown",
   "id": "afa5b7ce-cc02-4e57-99d8-66f207213eec",
   "metadata": {},
   "source": [
    "#### 2장"
   ]
  },
  {
   "cell_type": "markdown",
   "id": "abf12ed0-fa05-46de-a8af-3d91075eb96f",
   "metadata": {},
   "source": [
    "꿈 촬영에서 중력파 검출까지_ 과학에서 데이터의 역할을 알 수 있었던 장\n",
    "- 과학의 발전 단계\n",
    "    - 1단계 실험과학: 실험을 통하여 새로운 과학적 사실을 파악\n",
    "    - 2단계 이론과학: 과학적 사실에 대한 이론을 개발하는 방법\n",
    "    - 3단계 계산과학: 과학의 복잡계 현상을 복잡한 계산 모형을 통하여 설명하고자 하는 방법\n",
    "    - 4단계 데이터 과학: 데이터를 통해 새로운 과학적 사실을 발견"
   ]
  },
  {
   "cell_type": "markdown",
   "id": "50d48761-3d8c-4e60-8634-0917deb4668d",
   "metadata": {},
   "source": [
    "> youtube: https://www.youtube.com/watch?v=yVkxkuSLwUs"
   ]
  },
  {
   "cell_type": "markdown",
   "id": "d8e166ab-16c5-4222-a1e2-b1e34528426f",
   "metadata": {},
   "source": [
    "꿈을 과학적으로 헤석하려는 최초의 접근법\n",
    "- 위 영상은 프로이트 관련 기획강연\n",
    "- 지르문트 프로이트_ 꿈의 해석 1900년 출간(하지만 번역본은 많지~)"
   ]
  },
  {
   "cell_type": "markdown",
   "id": "21c2ee81-94cc-4386-9371-4034e3ba633d",
   "metadata": {},
   "source": [
    "꿈을 연구하는 다양한 접근법의 한계 $\\to$ 꿈에 관한 객관적 정보를 찾기 어려움"
   ]
  },
  {
   "cell_type": "markdown",
   "id": "6129dce4-3d0a-4393-bcaf-7f87aa3405e9",
   "metadata": {},
   "source": [
    "2011년 이코노미스트에서 버클리대학교 연구진이 빅데이터를 이용하여 개발한 방법론\n",
    "- 원리: 영상 정보와 시각 반응 정보의 관계를 모형화하고, 이 모형을 통해 대뇌피질에서 얻은 반응만 이용해 시각 정보를 재구성하고자 함!\n",
    "- fMRI: MRI의 동영상 버전~\n",
    "- 여러 사람에게 다양한 영상을 몇 시간 동안 보여주면서 대뇌에서 일어나는 변화를 fMRI로 수집\n",
    "- **fMRI 데이터를 입력으로, 영상을 출력으로 하는 예측 모형을 만듦!!**\n",
    "\n",
    "\n",
    "\n",
    "- 참고!!\n",
    "    - https://news.berkeley.edu/2011/09/22/brain-movies/\n",
    "    - https://news.berkeley.edu/2011/01/05/functionalmri/"
   ]
  },
  {
   "cell_type": "markdown",
   "id": "174c1fec-1d5c-406d-a909-737558dc63b5",
   "metadata": {},
   "source": [
    "> youtube: https://www.youtube.com/watch?v=6FsH7RK1S2E"
   ]
  },
  {
   "cell_type": "markdown",
   "id": "1bf5736f-d91a-49e2-a91e-80e4b3d55559",
   "metadata": {},
   "source": [
    "> youtube: https://youtu.be/nsjDnYxJ0bo"
   ]
  },
  {
   "cell_type": "markdown",
   "id": "ca2cc973-69f2-416c-92a8-811f1c8829e0",
   "metadata": {},
   "source": [
    "버클리 대학교 연구진이 개발한 꿈을 찍는 이 기술은 현재 꿈을 주입하는 단계로 발전하는 중!\n",
    "- 빅데이터가 연 또 다른 새로운 세계"
   ]
  },
  {
   "cell_type": "code",
   "execution_count": null,
   "id": "f00c53c8-472c-4469-8b3a-260a969d2127",
   "metadata": {},
   "outputs": [],
   "source": []
  }
 ],
 "metadata": {
  "kernelspec": {
   "display_name": "Python 3",
   "language": "python",
   "name": "python3"
  },
  "language_info": {
   "codemirror_mode": {
    "name": "ipython",
    "version": 3
   },
   "file_extension": ".py",
   "mimetype": "text/x-python",
   "name": "python",
   "nbconvert_exporter": "python",
   "pygments_lexer": "ipython3",
   "version": "3.8.12"
  }
 },
 "nbformat": 4,
 "nbformat_minor": 5
}
