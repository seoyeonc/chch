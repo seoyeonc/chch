{
 "cells": [
  {
   "cell_type": "markdown",
   "id": "75ae6138-65f2-49c6-a160-4ab7eee64fbf",
   "metadata": {},
   "source": [
    "# Generalised Network Autoregressive Processes and the GNAR package\n",
    "> Marina Knight, Kathryn Leeming, Guy Nason, Matthew Nunes\n",
    "\n",
    "- toc:true\n",
    "- branch: master\n",
    "- badges: true\n",
    "- comments: false\n",
    "- author: 최서연\n",
    "- categories: [논문리뷰]"
   ]
  },
  {
   "cell_type": "markdown",
   "id": "b90515c4-1efb-4285-9372-71c37de48d1b",
   "metadata": {},
   "source": [
    "### 2.3. GNAR network example"
   ]
  },
  {
   "cell_type": "code",
   "execution_count": null,
   "id": "d9c56058-0ce7-49cb-a85d-e96d0fdcd2ba",
   "metadata": {},
   "outputs": [
    {
     "name": "stderr",
     "output_type": "stream",
     "text": [
      "Installing package into ‘/home/csy/R/x86_64-pc-linux-gnu-library/4.1’\n",
      "(as ‘lib’ is unspecified)\n",
      "\n",
      "also installing the dependencies ‘igraph’, ‘wordcloud’\n",
      "\n",
      "\n"
     ]
    }
   ],
   "source": [
    "install.packages(\"GNAR\")"
   ]
  },
  {
   "cell_type": "code",
   "execution_count": 6,
   "id": "ac5c8003-5e5a-4e69-a4b4-315ca0c9b956",
   "metadata": {},
   "outputs": [
    {
     "ename": "ERROR",
     "evalue": "Error in library(GNAR): there is no package called ‘GNAR’\n",
     "output_type": "error",
     "traceback": [
      "Error in library(GNAR): there is no package called ‘GNAR’\nTraceback:\n",
      "1. library(GNAR)"
     ]
    }
   ],
   "source": [
    "library(\"GNAR\")\n",
    "library(\"igraph\")"
   ]
  },
  {
   "cell_type": "code",
   "execution_count": null,
   "id": "76f42469-4eed-4fdb-bc8a-452c683e4ed1",
   "metadata": {},
   "outputs": [],
   "source": [
    "plot(fiveNet, vertex.label = c(\"A\",\"B\",\"C\",\"D\",\"E\"))"
   ]
  },
  {
   "cell_type": "code",
   "execution_count": null,
   "id": "0bbc3ce1-63b7-4716-b200-bd0516633b2f",
   "metadata": {},
   "outputs": [],
   "source": [
    "summary(fiveNet)"
   ]
  },
  {
   "cell_type": "code",
   "execution_count": null,
   "id": "52bf9450-fcf2-4396-b394-df82749c7719",
   "metadata": {},
   "outputs": [],
   "source": [
    "fiveNet2 <- GNARtoigraph(net = fiveNet)\n",
    "summary(fiveNet2)"
   ]
  },
  {
   "cell_type": "code",
   "execution_count": null,
   "id": "c4f94c15-69ca-465d-a254-a5a6a25f3594",
   "metadata": {},
   "outputs": [],
   "source": [
    "fiveNet3 <- igraphtoGNAR(fiveNet2)\n",
    "all.equal(fiveNet,fiveNet3)"
   ]
  },
  {
   "cell_type": "code",
   "execution_count": null,
   "id": "80b8c9b5-bcb9-4190-b4d2-13d0db421ef5",
   "metadata": {},
   "outputs": [],
   "source": [
    "g <- make_ring(10)\n",
    "print(igraphtoGNAR(g))"
   ]
  },
  {
   "cell_type": "code",
   "execution_count": null,
   "id": "ab1fde1f-c9be-42c2-bc36-842716fdd40b",
   "metadata": {},
   "outputs": [],
   "source": [
    "as.matrix(fiveNet)"
   ]
  },
  {
   "cell_type": "code",
   "execution_count": null,
   "id": "aaec1992-f429-446b-b419-0dc19b883692",
   "metadata": {},
   "outputs": [],
   "source": [
    "adj <- matrix(runif(9), ncol = 3, nrow = 3)\n",
    "adj[adj < 0.3] <- 0\n",
    "print(matrixtoGNAR(adj))"
   ]
  },
  {
   "cell_type": "markdown",
   "id": "b67fab44-4942-4dd2-bc7d-9706473a42f2",
   "metadata": {},
   "source": [
    "### 2.4. Example: GNAR model fitting"
   ]
  },
  {
   "cell_type": "code",
   "execution_count": 4,
   "id": "425e0085-15cd-4280-bbbc-987735e9b950",
   "metadata": {},
   "outputs": [
    {
     "name": "stderr",
     "output_type": "stream",
     "text": [
      "Warning message in data(\"fiveNode\"):\n",
      "“data set ‘fiveNode’ not found”\n"
     ]
    },
    {
     "ename": "ERROR",
     "evalue": "Error in GNARfit(vts = fiveVTS, net = fiveNet, alphaOrder = 2, betaOrder = c(1, : could not find function \"GNARfit\"\n",
     "output_type": "error",
     "traceback": [
      "Error in GNARfit(vts = fiveVTS, net = fiveNet, alphaOrder = 2, betaOrder = c(1, : could not find function \"GNARfit\"\nTraceback:\n"
     ]
    }
   ],
   "source": [
    "data(\"fiveNode\")\n",
    "answer <- GNARfit(vts = fiveVTS, net = fiveNet, alphaOrder = 2,\n",
    "                  betaOrder = c(1,1))\n",
    "answer"
   ]
  },
  {
   "cell_type": "code",
   "execution_count": 5,
   "id": "03dff0d1-80be-43e9-8330-82e0d65bd807",
   "metadata": {},
   "outputs": [
    {
     "ename": "ERROR",
     "evalue": "Error in plot(fiveVTS[, 1], ylab = \"Node A Time Series\"): object 'fiveVTS' not found\n",
     "output_type": "error",
     "traceback": [
      "Error in plot(fiveVTS[, 1], ylab = \"Node A Time Series\"): object 'fiveVTS' not found\nTraceback:\n",
      "1. plot(fiveVTS[, 1], ylab = \"Node A Time Series\")"
     ]
    }
   ],
   "source": [
    "plot(fiveVTS[, 1], ylab = \"Node A Time Series\")\n",
    "lines(fitted(answer)[, 1], col = 2)\n",
    "myresiduals <- residuals(answer)[,1]\n",
    "layout(matrix(c(1,2),2,1))\n",
    "plot(ts(residuals(answer)[, 1]), ylab = \"'answer' model resuduals\")\n",
    "hist(residuals(answer)[, 1], main = \"\",\n",
    "     xlab = \"'answer' model resuduals\")"
   ]
  },
  {
   "cell_type": "code",
   "execution_count": null,
   "id": "60cba9ab-40cf-4a66-9fea-c7bbc8c82d1d",
   "metadata": {},
   "outputs": [],
   "source": []
  }
 ],
 "metadata": {
  "kernelspec": {
   "display_name": "R",
   "language": "R",
   "name": "ir"
  },
  "language_info": {
   "codemirror_mode": "r",
   "file_extension": ".r",
   "mimetype": "text/x-r-source",
   "name": "R",
   "pygments_lexer": "r",
   "version": "4.1.2"
  }
 },
 "nbformat": 4,
 "nbformat_minor": 5
}
