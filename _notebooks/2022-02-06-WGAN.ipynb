{
 "cells": [
  {
   "cell_type": "markdown",
   "id": "a327a00e-3d5a-4562-86ad-3bf83eb54fe4",
   "metadata": {
    "id": "d44ba9bc-ebf3-49d8-b2db-9d49bf1bec22",
    "tags": []
   },
   "source": [
    "# Wasserstein GAN\n",
    "> Martin Arjovsky(Courant Institute of Mathematical Sciences), Soumith Chintala(Facebook AI Research), and L´eon Bottou1(Courant Institute of Mathematical Sciences, Facebook AI Research)\n",
    "\n",
    "- toc:true\n",
    "- branch: master\n",
    "- badges: false\n",
    "- comments: false \n",
    "- author: 최서연\n",
    "- categories: [Wasserstein GAN, GAN]"
   ]
  },
  {
   "cell_type": "markdown",
   "id": "0d24ed9b-b50c-4ca2-bcae-c57a33e17432",
   "metadata": {},
   "source": [
    "ref: https://arxiv.org/pdf/1701.07875.pdf"
   ]
  },
  {
   "cell_type": "markdown",
   "id": "3a0ab002-cfde-430c-a34f-f90c7f35cefd",
   "metadata": {},
   "source": [
    "https://jonathan-hui.medium.com/gan-wasserstein-gan-wgan-gp-6a1a2aa1b490"
   ]
  },
  {
   "cell_type": "markdown",
   "id": "e0f55c08-cda0-4249-abae-e2dc1108e54d",
   "metadata": {},
   "source": [
    "## Different Distances"
   ]
  },
  {
   "cell_type": "markdown",
   "id": "1426c533-2fc9-4042-a089-4da4bf268d94",
   "metadata": {},
   "source": [
    "- Let $X$ be a compact metric set (such as the space of images $[0, 1]^d$) \n",
    "- and let $Σ$ denote the set of all the Borel subsets of $X$ . \n",
    "- Let $Prob(X )$ denote the space of probability measures defined on $X$ .\n",
    "- We can now define elementary distances and divergences between two distributions $P_r, P_g ∈ Prob(X )$\n",
    "    - The Total Variation (TV) distance, The Kullback-Leibler (KL) divergence, The Jensen-Shannon (JS) divergence, The Earth-Mover (EM) distance or Wasserstein-1이 사용될 것.\n",
    "    - p값들은 절대적으로 연속!\n",
    "    - 그러므로 카이제곱에서 정의되는 같은 측정치 뮤가 나옴.\n",
    "- The following example illustrates how apparently simple sequences of probability distributions converge under the EM distance but do not converge under the other distances and divergences defined above\n",
    "    - 제시된 4개의 거리 및 발산에서는 수렴되지 않"
   ]
  },
  {
   "cell_type": "markdown",
   "id": "1f45c146-5128-4da5-a07e-7a50de90f9cf",
   "metadata": {},
   "source": []
  },
  {
   "cell_type": "code",
   "execution_count": null,
   "id": "7f720d7d-a41c-4f06-97b0-9248e1da31dd",
   "metadata": {},
   "outputs": [],
   "source": []
  }
 ],
 "metadata": {
  "kernelspec": {
   "display_name": "Python 3 (ipykernel)",
   "language": "python",
   "name": "python3"
  },
  "language_info": {
   "codemirror_mode": {
    "name": "ipython",
    "version": 3
   },
   "file_extension": ".py",
   "mimetype": "text/x-python",
   "name": "python",
   "nbconvert_exporter": "python",
   "pygments_lexer": "ipython3",
   "version": "3.8.12"
  }
 },
 "nbformat": 4,
 "nbformat_minor": 5
}
