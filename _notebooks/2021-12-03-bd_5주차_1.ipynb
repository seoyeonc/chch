{
 "cells": [
  {
   "cell_type": "markdown",
   "id": "fc62e087-6fb3-4b99-ad10-4ccb880d9bf9",
   "metadata": {
    "id": "1991f598",
    "tags": []
   },
   "source": [
    "# 빅데이터 분석 (5주차) 10월7일\n",
    "> 알렉스넷(잡담), 로지스틱 회귀분석 \n",
    "\n",
    "- toc:true\n",
    "- branch: master\n",
    "- badges: true\n",
    "- comments: false\n",
    "- author: 최서연\n",
    "- Categories: [Alexnet, logistic regression]"
   ]
  },
  {
   "cell_type": "markdown",
   "id": "edf2458c-1e21-4c94-b082-9a44be37a4a8",
   "metadata": {},
   "source": [
    "만화화, 흥미롭다. https://brunch.co.kr/@hvnpoet/109"
   ]
  },
  {
   "cell_type": "markdown",
   "id": "5f81d301-37a2-49c7-b59c-14155845e9fa",
   "metadata": {},
   "source": [
    "`-` Alexnet알렉스넷\n",
    "\n",
    "- 힌튼 교수님 주요 인물\n",
    " - 딥러닝 문제 해결방법 제시했는데 아무도 몰라주는데 공모전을 나가게 됨\n",
    " - 이제껏 오류율이 28%, 26% 이랬음\n",
    " - 교수님 제자인 알렉스가 GPU 사용 제안, CPU는 학습 속도가 너무 느리기 때문.\n",
    " - 하지만 overfitting 문제 발생, 다른 제자가 dropout 제안\n",
    " - GPU 써도 학습 속도가 느리네?\n",
    " - 벤지오연구실의 ReLU 함수를 써보자고 알렉스가 제안\n",
    " - 2012년 우승해서 알렉스넷 제안, 오류율은 무려 16%!!"
   ]
  },
  {
   "cell_type": "markdown",
   "id": "8310ddb1-2ac9-44f2-93b4-1200125749c4",
   "metadata": {
    "id": "8ca84ae4",
    "tags": []
   },
   "source": [
    "### Logistic regression "
   ]
  },
  {
   "cell_type": "code",
   "execution_count": 28,
   "id": "8f6e9f4e-adb3-4246-b178-0fa25cea23a0",
   "metadata": {
    "id": "1e28c34c"
   },
   "outputs": [],
   "source": [
    "import torch \n",
    "import matplotlib.pyplot as plt"
   ]
  },
  {
   "cell_type": "markdown",
   "id": "5e747c19-e378-4919-8542-ed6b6b63ca82",
   "metadata": {
    "id": "5307d34d"
   },
   "source": [
    "### Example "
   ]
  },
  {
   "cell_type": "markdown",
   "id": "d903cc24-05a4-4844-b948-327aaf77bcae",
   "metadata": {
    "id": "46f95e17"
   },
   "source": [
    "`-` 현실에서  $x$가 커질수록 (혹은 작아질수록) 성공확률이 증가하는 경우가 많음"
   ]
  },
  {
   "cell_type": "markdown",
   "id": "48cba9c1-edea-4a16-bfdf-e990f89867a0",
   "metadata": {
    "id": "3bfcd82c"
   },
   "source": [
    "`-` 현실의 모형은 아래와 같이 설계할 수 있음 <--- 외우세요!!!"
   ]
  },
  {
   "cell_type": "markdown",
   "id": "e5cf5994-fb5b-4e54-8efd-2cec742b5790",
   "metadata": {
    "id": "c50ccf71"
   },
   "source": [
    "- $y_i \\sim Ber(\\pi_i),\\quad $ where $\\pi_i = \\frac{\\exp(w_0+w_1x_i)}{1+\\exp(w_0+w_1x_i)}$\n",
    "\n",
    "- $\\hat{y}_i= \\frac{\\exp(\\hat{w}_0+\\hat{w}_1x_i)}{1+\\exp(\\hat{w}_0+\\hat{w}_1x_i)}=\\frac{1}{1+\\exp(-\\hat{w}_0-\\hat{w}_1x_i)}$ \n",
    "    - 여기서 $\\hat{y}$는 $\\hat{\\pi_i}$\n",
    "\n",
    "\n",
    "- $loss= - \\sum_{i=1}^{n} \\big(y_i\\log(\\hat{y}_i)+(1-y_i)\\log(1-\\hat{y}_i)\\big)$ <--- 외우세요!!{수업 여쭤볼까}"
   ]
  },
  {
   "cell_type": "markdown",
   "id": "a88a1708-a8fe-4647-86d2-14a56f0d777b",
   "metadata": {
    "id": "461894cd"
   },
   "source": [
    "`-` 예제시작 "
   ]
  },
  {
   "cell_type": "code",
   "execution_count": 33,
   "id": "8cf3a0d8-e582-4cf3-abd8-2280f962f789",
   "metadata": {
    "id": "df0fe5eb"
   },
   "outputs": [],
   "source": [
    "X=torch.linspace(-1,1,2000).reshape(2000,1)\n",
    "w0= - 1 \n",
    "w1= 5 \n",
    "u = w0+X*w1 # 이건 대각선이 나옴\n",
    "v = torch.exp(u)/(1+torch.exp(u)) # v=πi\n",
    "y = torch.bernoulli(v) "
   ]
  },
  {
   "cell_type": "code",
   "execution_count": 37,
   "id": "1752a724-90dc-4064-ac44-4cb444188c44",
   "metadata": {},
   "outputs": [
    {
     "data": {
      "text/plain": [
       "(tensor([[-6.0000],\n",
       "         [-5.9950],\n",
       "         [-5.9900],\n",
       "         ...,\n",
       "         [ 3.9900],\n",
       "         [ 3.9950],\n",
       "         [ 4.0000]]),\n",
       " tensor([[0.0025],\n",
       "         [0.0025],\n",
       "         [0.0025],\n",
       "         ...,\n",
       "         [0.9818],\n",
       "         [0.9819],\n",
       "         [0.9820]]),\n",
       " tensor([[0.],\n",
       "         [0.],\n",
       "         [0.],\n",
       "         ...,\n",
       "         [1.],\n",
       "         [1.],\n",
       "         [1.]]))"
      ]
     },
     "execution_count": 37,
     "metadata": {},
     "output_type": "execute_result"
    }
   ],
   "source": [
    "u,v,y"
   ]
  },
  {
   "cell_type": "code",
   "execution_count": 35,
   "id": "347d42de-08d9-45a5-954e-c9bd8ea9a4a9",
   "metadata": {
    "id": "48e25578",
    "outputId": "58c419ec-3a66-427c-b947-db71e3ed5781"
   },
   "outputs": [
    {
     "data": {
      "text/plain": [
       "[<matplotlib.lines.Line2D at 0x7f82c042a190>]"
      ]
     },
     "execution_count": 35,
     "metadata": {},
     "output_type": "execute_result"
    },
    {
     "data": {
      "image/png": "[encoded data removed]",
      "text/plain": [
       "<Figure size 432x288 with 1 Axes>"
      ]
     },
     "metadata": {
      "needs_background": "light"
     },
     "output_type": "display_data"
    }
   ],
   "source": [
    "plt.scatter(X,y,alpha=0.05)\n",
    "plt.plot(X,v,'--r')"
   ]
  },
  {
   "cell_type": "markdown",
   "id": "6e9557c2-b381-48d1-af81-3a695832c8fc",
   "metadata": {
    "id": "88ca063e"
   },
   "source": [
    "`-` 다이어그램으로 표현하면 "
   ]
  },
  {
   "cell_type": "code",
   "execution_count": 38,
   "id": "8945da88-b76f-4ace-b4de-faf38d0e20ed",
   "metadata": {
    "id": "c99b1617"
   },
   "outputs": [],
   "source": [
    "import graphviz"
   ]
  },
  {
   "cell_type": "code",
   "execution_count": 39,
   "id": "46e8bce2-70e4-40d5-84cf-481691b72e58",
   "metadata": {
    "id": "8d4e5d88"
   },
   "outputs": [],
   "source": [
    "def gv(s): return graphviz.Source('digraph G{ rankdir=\"LR\"' + s + '; }')"
   ]
  },
  {
   "cell_type": "markdown",
   "id": "45786378-3992-4d5e-ba32-fbf01bc6725b",
   "metadata": {},
   "source": [
    "ref: http://taewan.kim/post/sigmoid_diff/\n",
    "유명한 활성화 함수"
   ]
  },
  {
   "cell_type": "code",
   "execution_count": 40,
   "id": "ddf8992b-520c-4a6c-b6e4-a90f289dfc6d",
   "metadata": {
    "id": "9176ad8d",
    "outputId": "919ac52e-dff8-4943-baad-a4d44c50e27e"
   },
   "outputs": [
    {
     "data": {
      "image/svg+xml": [
       "<?xml version=\"1.0\" encoding=\"UTF-8\" standalone=\"no\"?>\n",
       "<!DOCTYPE svg PUBLIC \"-//W3C//DTD SVG 1.1//EN\"\n",
       " \"http://www.w3.org/Graphics/SVG/1.1/DTD/svg11.dtd\">\n",
       "<!-- Generated by graphviz version 2.42.3 (20191010.1750)\n",
       " -->\n",
       "<!-- Title: G Pages: 1 -->\n",
       "<svg width=\"548pt\" height=\"99pt\"\n",
       " viewBox=\"0.00 0.00 548.47 99.00\" xmlns=\"http://www.w3.org/2000/svg\" xmlns:xlink=\"http://www.w3.org/1999/xlink\">\n",
       "<g id=\"graph0\" class=\"graph\" transform=\"scale(1 1) rotate(0) translate(4 95)\">\n",
       "<title>G</title>\n",
       "<polygon fill=\"white\" stroke=\"transparent\" points=\"-4,4 -4,-95 544.47,-95 544.47,4 -4,4\"/>\n",
       "<g id=\"clust1\" class=\"cluster\">\n",
       "<title>cluster_1</title>\n",
       "<polygon fill=\"lightgrey\" stroke=\"lightgrey\" points=\"8,-8 8,-83 79,-83 79,-8 8,-8\"/>\n",
       "<text text-anchor=\"middle\" x=\"43.5\" y=\"-67.8\" font-family=\"Times,serif\" font-size=\"14.00\">Layer 0</text>\n",
       "</g>\n",
       "<g id=\"clust2\" class=\"cluster\">\n",
       "<title>cluster_2</title>\n",
       "<polygon fill=\"lightgrey\" stroke=\"lightgrey\" points=\"129,-8 129,-83 532.47,-83 532.47,-8 129,-8\"/>\n",
       "<text text-anchor=\"middle\" x=\"330.74\" y=\"-67.8\" font-family=\"Times,serif\" font-size=\"14.00\">Layer 1</text>\n",
       "</g>\n",
       "<!-- X -->\n",
       "<g id=\"node1\" class=\"node\">\n",
       "<title>X</title>\n",
       "<ellipse fill=\"none\" stroke=\"black\" cx=\"43\" cy=\"-34\" rx=\"27\" ry=\"18\"/>\n",
       "<text text-anchor=\"middle\" x=\"43\" y=\"-30.3\" font-family=\"Times,serif\" font-size=\"14.00\">X</text>\n",
       "</g>\n",
       "<!-- X@W -->\n",
       "<g id=\"node2\" class=\"node\">\n",
       "<title>X@W</title>\n",
       "<ellipse fill=\"none\" stroke=\"black\" cx=\"173.4\" cy=\"-34\" rx=\"36.29\" ry=\"18\"/>\n",
       "<text text-anchor=\"middle\" x=\"173.4\" y=\"-30.3\" font-family=\"Times,serif\" font-size=\"14.00\">X@W</text>\n",
       "</g>\n",
       "<!-- X&#45;&gt;X@W -->\n",
       "<g id=\"edge1\" class=\"edge\">\n",
       "<title>X&#45;&gt;X@W</title>\n",
       "<path fill=\"none\" stroke=\"black\" d=\"M70.29,-34C86.51,-34 107.76,-34 126.67,-34\"/>\n",
       "<polygon fill=\"black\" stroke=\"black\" points=\"126.89,-37.5 136.89,-34 126.89,-30.5 126.89,-37.5\"/>\n",
       "<text text-anchor=\"middle\" x=\"104\" y=\"-37.8\" font-family=\"Times,serif\" font-size=\"14.00\">@W</text>\n",
       "</g>\n",
       "<!-- Sigmoid(X@W)=yhat -->\n",
       "<g id=\"node3\" class=\"node\">\n",
       "<title>Sigmoid(X@W)=yhat</title>\n",
       "<ellipse fill=\"none\" stroke=\"black\" cx=\"414.63\" cy=\"-34\" rx=\"109.68\" ry=\"18\"/>\n",
       "<text text-anchor=\"middle\" x=\"414.63\" y=\"-30.3\" font-family=\"Times,serif\" font-size=\"14.00\">Sigmoid(X@W)=yhat</text>\n",
       "</g>\n",
       "<!-- X@W&#45;&gt;Sigmoid(X@W)=yhat -->\n",
       "<g id=\"edge2\" class=\"edge\">\n",
       "<title>X@W&#45;&gt;Sigmoid(X@W)=yhat</title>\n",
       "<path fill=\"none\" stroke=\"black\" d=\"M209.95,-34C232.74,-34 263.75,-34 294.71,-34\"/>\n",
       "<polygon fill=\"black\" stroke=\"black\" points=\"294.74,-37.5 304.74,-34 294.74,-30.5 294.74,-37.5\"/>\n",
       "<text text-anchor=\"middle\" x=\"257.29\" y=\"-37.8\" font-family=\"Times,serif\" font-size=\"14.00\">Sigmoid</text>\n",
       "</g>\n",
       "</g>\n",
       "</svg>\n"
      ],
      "text/plain": [
       "<graphviz.files.Source at 0x7f82c0444430>"
      ]
     },
     "execution_count": 40,
     "metadata": {},
     "output_type": "execute_result"
    }
   ],
   "source": [
    "#collapse\n",
    "gv('''\n",
    "subgraph cluster_1{\n",
    "    style=filled;\n",
    "    color=lightgrey;\n",
    "    \"X\" \n",
    "    label = \"Layer 0\"\n",
    "}\n",
    "subgraph cluster_2{\n",
    "    style=filled;\n",
    "    color=lightgrey;\n",
    "    \"X\" -> \"X@W\"[label=\"@W\"]\n",
    "    \"X@W\" -> \"Sigmoid(X@W)=yhat\"[label=\"Sigmoid\"]\n",
    "    label = \"Layer 1\"\n",
    "}\n",
    "''')"
   ]
  },
  {
   "cell_type": "code",
   "execution_count": 41,
   "id": "46b77895-3707-42dd-806a-d939f4785f3f",
   "metadata": {
    "id": "c49495c8",
    "outputId": "ffb7ea6f-d0cc-462d-be5c-35561eb35b11"
   },
   "outputs": [
    {
     "data": {
      "image/svg+xml": [
       "<?xml version=\"1.0\" encoding=\"UTF-8\" standalone=\"no\"?>\n",
       "<!DOCTYPE svg PUBLIC \"-//W3C//DTD SVG 1.1//EN\"\n",
       " \"http://www.w3.org/Graphics/SVG/1.1/DTD/svg11.dtd\">\n",
       "<!-- Generated by graphviz version 2.42.3 (20191010.1750)\n",
       " -->\n",
       "<!-- Title: G Pages: 1 -->\n",
       "<svg width=\"266pt\" height=\"99pt\"\n",
       " viewBox=\"0.00 0.00 266.19 99.00\" xmlns=\"http://www.w3.org/2000/svg\" xmlns:xlink=\"http://www.w3.org/1999/xlink\">\n",
       "<g id=\"graph0\" class=\"graph\" transform=\"scale(1 1) rotate(0) translate(4 95)\">\n",
       "<title>G</title>\n",
       "<polygon fill=\"white\" stroke=\"transparent\" points=\"-4,4 -4,-95 262.19,-95 262.19,4 -4,4\"/>\n",
       "<g id=\"clust1\" class=\"cluster\">\n",
       "<title>cluster_1</title>\n",
       "<polygon fill=\"lightgrey\" stroke=\"lightgrey\" points=\"8,-8 8,-83 79,-83 79,-8 8,-8\"/>\n",
       "<text text-anchor=\"middle\" x=\"43.5\" y=\"-67.8\" font-family=\"Times,serif\" font-size=\"14.00\">Layer 0</text>\n",
       "</g>\n",
       "<g id=\"clust2\" class=\"cluster\">\n",
       "<title>cluster_2</title>\n",
       "<polygon fill=\"lightgrey\" stroke=\"lightgrey\" points=\"99,-8 99,-83 250.19,-83 250.19,-8 99,-8\"/>\n",
       "<text text-anchor=\"middle\" x=\"174.59\" y=\"-67.8\" font-family=\"Times,serif\" font-size=\"14.00\">Layer 1: Sigmoid</text>\n",
       "</g>\n",
       "<!-- X -->\n",
       "<g id=\"node1\" class=\"node\">\n",
       "<title>X</title>\n",
       "<ellipse fill=\"none\" stroke=\"black\" cx=\"43\" cy=\"-34\" rx=\"27\" ry=\"18\"/>\n",
       "<text text-anchor=\"middle\" x=\"43\" y=\"-30.3\" font-family=\"Times,serif\" font-size=\"14.00\">X</text>\n",
       "</g>\n",
       "<!-- node1=yhat -->\n",
       "<g id=\"node2\" class=\"node\">\n",
       "<title>node1=yhat</title>\n",
       "<ellipse fill=\"none\" stroke=\"black\" cx=\"174.59\" cy=\"-34\" rx=\"67.69\" ry=\"18\"/>\n",
       "<text text-anchor=\"middle\" x=\"174.59\" y=\"-30.3\" font-family=\"Times,serif\" font-size=\"14.00\">node1=yhat</text>\n",
       "</g>\n",
       "<!-- X&#45;&gt;node1=yhat -->\n",
       "<g id=\"edge1\" class=\"edge\">\n",
       "<title>X&#45;&gt;node1=yhat</title>\n",
       "<path fill=\"none\" stroke=\"black\" d=\"M70.23,-34C78.18,-34 87.36,-34 96.9,-34\"/>\n",
       "<polygon fill=\"black\" stroke=\"black\" points=\"96.93,-37.5 106.93,-34 96.93,-30.5 96.93,-37.5\"/>\n",
       "</g>\n",
       "</g>\n",
       "</svg>\n"
      ],
      "text/plain": [
       "<graphviz.files.Source at 0x7f82c0444310>"
      ]
     },
     "execution_count": 41,
     "metadata": {},
     "output_type": "execute_result"
    }
   ],
   "source": [
    "#collapse\n",
    "gv('''\n",
    "subgraph cluster_1{\n",
    "    style=filled;\n",
    "    color=lightgrey;\n",
    "    X\n",
    "    label = \"Layer 0\"\n",
    "}\n",
    "subgraph cluster_2{\n",
    "    style=filled;\n",
    "    color=lightgrey;\n",
    "    X -> \"node1=yhat\"\n",
    "    label = \"Layer 1: Sigmoid\"\n",
    "}\n",
    "''')"
   ]
  },
  {
   "cell_type": "markdown",
   "id": "8114b495-aa6c-41da-a03e-fdb7b4b3baca",
   "metadata": {
    "id": "9bdd7f81"
   },
   "source": [
    "`-` 아키텍처, 손실함수, 옵티마이저 "
   ]
  },
  {
   "cell_type": "markdown",
   "id": "dde02c4e-ef7f-4962-ab13-edc7a5011e98",
   "metadata": {},
   "source": [
    "$$Sigmoid(x)=\\sigma(x)=\\frac{1}{1+exp(-x)}$$"
   ]
  },
  {
   "cell_type": "code",
   "execution_count": 56,
   "id": "0f1c1e09-60f4-44b8-a622-d9835013fb00",
   "metadata": {
    "id": "ed79ff32"
   },
   "outputs": [],
   "source": [
    "#torch.manual_seed(202150754) \n",
    "l1=torch.nn.Linear(in_features=1,out_features=1,bias=True) \n",
    "a1=torch.nn.Sigmoid() \n",
    "net=torch.nn.Sequential(l1,a1) \n",
    "#loss = torch.mean((y-yhat)**2) <--- 이러면 안됩니다!!!\n",
    "optimizer=torch.optim.SGD(net.parameters(),lr=0.05) "
   ]
  },
  {
   "cell_type": "code",
   "execution_count": 57,
   "id": "1dbb0d4d-2c29-405e-b760-12156c54c8f9",
   "metadata": {},
   "outputs": [
    {
     "data": {
      "text/plain": [
       "Sequential(\n",
       "  (0): Linear(in_features=1, out_features=1, bias=True)\n",
       "  (1): Sigmoid()\n",
       ")"
      ]
     },
     "execution_count": 57,
     "metadata": {},
     "output_type": "execute_result"
    }
   ],
   "source": [
    "net"
   ]
  },
  {
   "cell_type": "code",
   "execution_count": 58,
   "id": "90eda7f8-7fce-4bfe-805a-405a0dc5a987",
   "metadata": {
    "id": "5a054dc2",
    "outputId": "becfd3c2-69ae-45f5-e41d-a50f907f1c7c"
   },
   "outputs": [
    {
     "data": {
      "text/plain": [
       "[<matplotlib.lines.Line2D at 0x7f82c0243430>]"
      ]
     },
     "execution_count": 58,
     "metadata": {},
     "output_type": "execute_result"
    },
    {
     "data": {
      "image/png": "[encoded data removed]",
      "text/plain": [
       "<Figure size 432x288 with 1 Axes>"
      ]
     },
     "metadata": {
      "needs_background": "light"
     },
     "output_type": "display_data"
    }
   ],
   "source": [
    "plt.scatter(X,y,alpha=0.01) \n",
    "plt.plot(X,net(X).data,'--') \n",
    "plt.plot(X,v,'--r') # 파란 선을 빨간 선과 일치 시키는 과정 필요"
   ]
  },
  {
   "cell_type": "markdown",
   "id": "29f81524-1d26-4efb-90cd-9016265f68db",
   "metadata": {
    "id": "470ab4de"
   },
   "source": [
    "`-` step1~4 "
   ]
  },
  {
   "cell_type": "code",
   "execution_count": 59,
   "id": "db776e9f-dce2-4c7e-a78d-e10c04389029",
   "metadata": {
    "id": "30df374f"
   },
   "outputs": [],
   "source": [
    "for epoc in range(10000): \n",
    "    ## 1 \n",
    "    yhat=net(X) \n",
    "    ## 2 \n",
    "    loss=-torch.mean(y*torch.log(yhat) + (1-y)*torch.log(1-yhat)) \n",
    "    ## 3 \n",
    "    loss.backward() \n",
    "    ## 4 \n",
    "    optimizer.step() \n",
    "    net.zero_grad() "
   ]
  },
  {
   "cell_type": "code",
   "execution_count": 60,
   "id": "34b18c19-133c-4a3c-9d1d-cec0e6e54c1a",
   "metadata": {
    "id": "2bcc1192",
    "outputId": "ad8b43a3-4172-4460-99c0-8f974c83ab36"
   },
   "outputs": [
    {
     "data": {
      "text/plain": [
       "[Parameter containing:\n",
       " tensor([[4.9150]], requires_grad=True),\n",
       " Parameter containing:\n",
       " tensor([-0.8898], requires_grad=True)]"
      ]
     },
     "execution_count": 60,
     "metadata": {},
     "output_type": "execute_result"
    }
   ],
   "source": [
    "list(net.parameters())"
   ]
  },
  {
   "cell_type": "code",
   "execution_count": 61,
   "id": "87dc3af2-1aba-4501-a21c-1396646bb3ce",
   "metadata": {
    "id": "9df839d8",
    "outputId": "2ce0aa84-27f0-46dd-dcb5-5f49510e3283"
   },
   "outputs": [
    {
     "data": {
      "text/plain": [
       "[<matplotlib.lines.Line2D at 0x7f82c0156be0>]"
      ]
     },
     "execution_count": 61,
     "metadata": {},
     "output_type": "execute_result"
    },
    {
     "data": {
      "image/png": "[encoded data removed]",
      "text/plain": [
       "<Figure size 432x288 with 1 Axes>"
      ]
     },
     "metadata": {
      "needs_background": "light"
     },
     "output_type": "display_data"
    }
   ],
   "source": [
    "plt.scatter(X,y,alpha=0.01) \n",
    "plt.plot(X,net(X).data,'--') \n",
    "plt.plot(X,v,'--r')"
   ]
  },
  {
   "cell_type": "markdown",
   "id": "9166f641-0340-4806-9211-354a3e48196a",
   "metadata": {
    "id": "3b00da05"
   },
   "source": [
    "### 숙제 "
   ]
  },
  {
   "cell_type": "markdown",
   "id": "13813475-e67b-4330-8ea2-34d3c0c5bec7",
   "metadata": {
    "id": "6c019c37"
   },
   "source": [
    "loss를 mse로 바꿔서 돌려볼것 "
   ]
  },
  {
   "cell_type": "code",
   "execution_count": 62,
   "id": "1126d965-dc97-442f-aea5-ea4911d8c42d",
   "metadata": {
    "id": "3a3e6d8b"
   },
   "outputs": [],
   "source": [
    "#torch.manual_seed(202150754) \n",
    "#l1=torch.nn.Linear(in_features=1,out_features=1,bias=True) \n",
    "#a1=torch.nn.Sigmoid() \n",
    "#net=torch.nn.Sequential(l1,a1) \n",
    "#optimizer=torch.optim.SGD(net.parameters(),lr=0.05) \n",
    "loss_fn=torch.nn.MSELoss()"
   ]
  },
  {
   "cell_type": "code",
   "execution_count": 63,
   "id": "57c1de77-dc98-4f6c-8204-8b7441ee34d5",
   "metadata": {
    "id": "ec71b6f5"
   },
   "outputs": [],
   "source": [
    "for epoc in range(10000): \n",
    "    ## 1 \n",
    "    yhat=net(X) \n",
    "    ## 2 \n",
    "#####    loss=-torch.mean(y*torch.log(yhat) + (1-y)*torch.log(1-yhat)) <-- 여기만수정해서!!\n",
    "    loss=loss_fn(y,yhat)\n",
    "    ## 3 \n",
    "    loss.backward() \n",
    "    ## 4 \n",
    "    optimizer.step() \n",
    "    net.zero_grad() "
   ]
  },
  {
   "cell_type": "code",
   "execution_count": 64,
   "id": "aeb8d142-1308-4175-a987-369561814298",
   "metadata": {
    "id": "18fdade9"
   },
   "outputs": [
    {
     "data": {
      "text/plain": [
       "[Parameter containing:\n",
       " tensor([[4.8740]], requires_grad=True),\n",
       " Parameter containing:\n",
       " tensor([-0.8902], requires_grad=True)]"
      ]
     },
     "execution_count": 64,
     "metadata": {},
     "output_type": "execute_result"
    }
   ],
   "source": [
    "list(net.parameters())"
   ]
  },
  {
   "cell_type": "code",
   "execution_count": 65,
   "id": "5d0ba514-01a4-4198-b6dc-b5ae7945c25c",
   "metadata": {
    "id": "2723d629"
   },
   "outputs": [
    {
     "data": {
      "text/plain": [
       "[<matplotlib.lines.Line2D at 0x7f82c0149a60>]"
      ]
     },
     "execution_count": 65,
     "metadata": {},
     "output_type": "execute_result"
    },
    {
     "data": {
      "image/png": "[encoded data removed]",
      "text/plain": [
       "<Figure size 432x288 with 1 Axes>"
      ]
     },
     "metadata": {
      "needs_background": "light"
     },
     "output_type": "display_data"
    }
   ],
   "source": [
    "plt.scatter(X,y,alpha=0.01) \n",
    "plt.plot(X,net(X).data,'--') \n",
    "plt.plot(X,v,'--r')"
   ]
  },
  {
   "cell_type": "code",
   "execution_count": 68,
   "id": "e03192c4-6b3e-46db-a3e4-8e6af3c07420",
   "metadata": {},
   "outputs": [
    {
     "data": {
      "text/plain": [
       "\u001b[0;31mInit signature:\u001b[0m \u001b[0mtorch\u001b[0m\u001b[0;34m.\u001b[0m\u001b[0mnn\u001b[0m\u001b[0;34m.\u001b[0m\u001b[0mMSELoss\u001b[0m\u001b[0;34m(\u001b[0m\u001b[0msize_average\u001b[0m\u001b[0;34m=\u001b[0m\u001b[0;32mNone\u001b[0m\u001b[0;34m,\u001b[0m \u001b[0mreduce\u001b[0m\u001b[0;34m=\u001b[0m\u001b[0;32mNone\u001b[0m\u001b[0;34m,\u001b[0m \u001b[0mreduction\u001b[0m\u001b[0;34m:\u001b[0m \u001b[0mstr\u001b[0m \u001b[0;34m=\u001b[0m \u001b[0;34m'mean'\u001b[0m\u001b[0;34m)\u001b[0m \u001b[0;34m->\u001b[0m \u001b[0;32mNone\u001b[0m\u001b[0;34m\u001b[0m\u001b[0;34m\u001b[0m\u001b[0m\n",
       "\u001b[0;31mDocstring:\u001b[0m     \n",
       "Creates a criterion that measures the mean squared error (squared L2 norm) between\n",
       "each element in the input :math:`x` and target :math:`y`.\n",
       "\n",
       "The unreduced (i.e. with :attr:`reduction` set to ``'none'``) loss can be described as:\n",
       "\n",
       ".. math::\n",
       "    \\ell(x, y) = L = \\{l_1,\\dots,l_N\\}^\\top, \\quad\n",
       "    l_n = \\left( x_n - y_n \\right)^2,\n",
       "\n",
       "where :math:`N` is the batch size. If :attr:`reduction` is not ``'none'``\n",
       "(default ``'mean'``), then:\n",
       "\n",
       ".. math::\n",
       "    \\ell(x, y) =\n",
       "    \\begin{cases}\n",
       "        \\operatorname{mean}(L), &  \\text{if reduction} = \\text{`mean';}\\\\\n",
       "        \\operatorname{sum}(L),  &  \\text{if reduction} = \\text{`sum'.}\n",
       "    \\end{cases}\n",
       "\n",
       ":math:`x` and :math:`y` are tensors of arbitrary shapes with a total\n",
       "of :math:`n` elements each.\n",
       "\n",
       "The mean operation still operates over all the elements, and divides by :math:`n`.\n",
       "\n",
       "The division by :math:`n` can be avoided if one sets ``reduction = 'sum'``.\n",
       "\n",
       "Args:\n",
       "    size_average (bool, optional): Deprecated (see :attr:`reduction`). By default,\n",
       "        the losses are averaged over each loss element in the batch. Note that for\n",
       "        some losses, there are multiple elements per sample. If the field :attr:`size_average`\n",
       "        is set to ``False``, the losses are instead summed for each minibatch. Ignored\n",
       "        when :attr:`reduce` is ``False``. Default: ``True``\n",
       "    reduce (bool, optional): Deprecated (see :attr:`reduction`). By default, the\n",
       "        losses are averaged or summed over observations for each minibatch depending\n",
       "        on :attr:`size_average`. When :attr:`reduce` is ``False``, returns a loss per\n",
       "        batch element instead and ignores :attr:`size_average`. Default: ``True``\n",
       "    reduction (string, optional): Specifies the reduction to apply to the output:\n",
       "        ``'none'`` | ``'mean'`` | ``'sum'``. ``'none'``: no reduction will be applied,\n",
       "        ``'mean'``: the sum of the output will be divided by the number of\n",
       "        elements in the output, ``'sum'``: the output will be summed. Note: :attr:`size_average`\n",
       "        and :attr:`reduce` are in the process of being deprecated, and in the meantime,\n",
       "        specifying either of those two args will override :attr:`reduction`. Default: ``'mean'``\n",
       "\n",
       "Shape:\n",
       "    - Input: :math:`(*)`, where :math:`*` means any number of dimensions.\n",
       "    - Target: :math:`(*)`, same shape as the input.\n",
       "\n",
       "Examples::\n",
       "\n",
       "    >>> loss = nn.MSELoss()\n",
       "    >>> input = torch.randn(3, 5, requires_grad=True)\n",
       "    >>> target = torch.randn(3, 5)\n",
       "    >>> output = loss(input, target)\n",
       "    >>> output.backward()\n",
       "\u001b[0;31mInit docstring:\u001b[0m Initializes internal Module state, shared by both nn.Module and ScriptModule.\n",
       "\u001b[0;31mFile:\u001b[0m           ~/anaconda3/envs/csy/lib/python3.8/site-packages/torch/nn/modules/loss.py\n",
       "\u001b[0;31mType:\u001b[0m           type\n",
       "\u001b[0;31mSubclasses:\u001b[0m     \n"
      ]
     },
     "metadata": {},
     "output_type": "display_data"
    }
   ],
   "source": [
    "?torch.nn.MSELoss"
   ]
  }
 ],
 "metadata": {
  "kernelspec": {
   "display_name": "Python 3 (ipykernel)",
   "language": "python",
   "name": "python3"
  },
  "language_info": {
   "codemirror_mode": {
    "name": "ipython",
    "version": 3
   },
   "file_extension": ".py",
   "mimetype": "text/x-python",
   "name": "python",
   "nbconvert_exporter": "python",
   "pygments_lexer": "ipython3",
   "version": "3.8.12"
  }
 },
 "nbformat": 4,
 "nbformat_minor": 5
}
