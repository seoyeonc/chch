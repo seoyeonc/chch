{
 "cells": [
  {
   "cell_type": "markdown",
   "id": "67a097ac-8d49-4481-ac5a-62838b3b7249",
   "metadata": {
    "id": "67a097ac-8d49-4481-ac5a-62838b3b7249",
    "tags": []
   },
   "source": [
    "# 빅데이터 분석 (6주차) 10월14일\n",
    "> 미니배치\n",
    "\n",
    "- toc:true\n",
    "- branch: master\n",
    "- badges: true\n",
    "- comments: true\n",
    "- author: 최서연\n",
    "- categories: [Big Data Analysis, 미니배치]"
   ]
  },
  {
   "cell_type": "markdown",
   "id": "e23acb63-9fd1-45f4-95d3-49791a102c9e",
   "metadata": {
    "id": "e23acb63-9fd1-45f4-95d3-49791a102c9e"
   },
   "source": [
    "### import "
   ]
  },
  {
   "cell_type": "code",
   "execution_count": null,
   "id": "143b68f3-40ab-47c5-b308-cecea44b64e0",
   "metadata": {
    "id": "143b68f3-40ab-47c5-b308-cecea44b64e0"
   },
   "outputs": [],
   "source": [
    "import torch\n",
    "from fastai.vision.all import * "
   ]
  },
  {
   "cell_type": "markdown",
   "id": "0edb8b5e-307f-44ee-a746-8c09ba6da98d",
   "metadata": {
    "id": "0edb8b5e-307f-44ee-a746-8c09ba6da98d"
   },
   "source": [
    "### Dataset "
   ]
  },
  {
   "cell_type": "code",
   "execution_count": null,
   "id": "4a1c647e-823d-4fba-b479-fc8c100730af",
   "metadata": {
    "id": "4a1c647e-823d-4fba-b479-fc8c100730af"
   },
   "outputs": [],
   "source": [
    "X=torch.tensor([3.0, 4.0, 5.0, 6.0, 7.0, 8.0, 9.0])\n",
    "y=torch.tensor([1.0, 0.0, 1.0, 0.0, 1.0, 1.0, 0.0])"
   ]
  },
  {
   "cell_type": "code",
   "execution_count": null,
   "id": "ffb1e14b-4eca-4395-b246-8600755bd14c",
   "metadata": {
    "id": "ffb1e14b-4eca-4395-b246-8600755bd14c",
    "outputId": "d53b5959-c638-4dc7-af50-6945624eca6e"
   },
   "outputs": [
    {
     "data": {
      "text/plain": [
       "(tensor([3., 4., 5., 6., 7., 8., 9.]), tensor([1., 0., 1., 0., 1., 1., 0.]))"
      ]
     },
     "execution_count": 5,
     "metadata": {},
     "output_type": "execute_result"
    }
   ],
   "source": [
    "X,y"
   ]
  },
  {
   "cell_type": "code",
   "execution_count": null,
   "id": "3afc3018-9b46-4e40-aa09-071088f6aada",
   "metadata": {
    "id": "3afc3018-9b46-4e40-aa09-071088f6aada"
   },
   "outputs": [],
   "source": [
    "ds=torch.utils.data.TensorDataset(X,y)"
   ]
  },
  {
   "cell_type": "code",
   "execution_count": null,
   "id": "75c1e2ba-bf9f-44dc-86e7-c35bea714487",
   "metadata": {
    "id": "75c1e2ba-bf9f-44dc-86e7-c35bea714487",
    "outputId": "5d2e8f4d-8c6c-48d6-d2fb-1f1af8622bb6"
   },
   "outputs": [
    {
     "data": {
      "text/plain": [
       "<torch.utils.data.dataset.TensorDataset at 0x7f7e8ae947f0>"
      ]
     },
     "execution_count": 12,
     "metadata": {},
     "output_type": "execute_result"
    }
   ],
   "source": [
    "ds ## 그냥 텐서들의 pair "
   ]
  },
  {
   "cell_type": "code",
   "execution_count": null,
   "id": "90f775bf-0ab1-4709-9ce2-44b0235bae29",
   "metadata": {
    "id": "90f775bf-0ab1-4709-9ce2-44b0235bae29",
    "outputId": "7f76f722-4cf4-415c-9683-64323324c6f6"
   },
   "outputs": [
    {
     "data": {
      "text/plain": [
       "(tensor([3., 4., 5., 6., 7., 8., 9.]), tensor([1., 0., 1., 0., 1., 1., 0.]))"
      ]
     },
     "execution_count": 13,
     "metadata": {},
     "output_type": "execute_result"
    }
   ],
   "source": [
    "ds.tensors"
   ]
  },
  {
   "cell_type": "markdown",
   "id": "b6f25315-6c91-43b0-be3a-3e7f76b04b9f",
   "metadata": {
    "id": "b6f25315-6c91-43b0-be3a-3e7f76b04b9f"
   },
   "source": [
    "### DataLoader "
   ]
  },
  {
   "cell_type": "markdown",
   "id": "3636b844-380e-472b-a0a7-bba299a4bf6d",
   "metadata": {
    "id": "3636b844-380e-472b-a0a7-bba299a4bf6d"
   },
   "source": [
    "`-` 배치사이즈=2, 셔플= True, "
   ]
  },
  {
   "cell_type": "code",
   "execution_count": null,
   "id": "c9468ad2-d121-491c-a4ab-3872f3d25fc5",
   "metadata": {
    "id": "c9468ad2-d121-491c-a4ab-3872f3d25fc5"
   },
   "outputs": [],
   "source": [
    "dl=torch.utils.data.DataLoader(ds,batch_size=2,shuffle=True)"
   ]
  },
  {
   "cell_type": "code",
   "execution_count": null,
   "id": "37d52490-2e90-4fec-968e-6839a9517b99",
   "metadata": {
    "id": "37d52490-2e90-4fec-968e-6839a9517b99",
    "outputId": "f7da8cb3-8041-4f2f-f28b-67c33f2c0767"
   },
   "outputs": [
    {
     "data": {
      "text/plain": [
       "<torch.utils.data.dataloader.DataLoader at 0x7f7e8a1f4f40>"
      ]
     },
     "execution_count": 15,
     "metadata": {},
     "output_type": "execute_result"
    }
   ],
   "source": [
    "dl"
   ]
  },
  {
   "cell_type": "code",
   "execution_count": null,
   "id": "c6e24c3d-728a-41e2-b1a9-bcaea3ea97ad",
   "metadata": {
    "id": "c6e24c3d-728a-41e2-b1a9-bcaea3ea97ad",
    "outputId": "e61187fc-c8d5-4d7c-b145-d26c47dea532"
   },
   "outputs": [
    {
     "data": {
      "text/plain": [
       "['_DataLoader__initialized',\n",
       " '_DataLoader__multiprocessing_context',\n",
       " '_IterableDataset_len_called',\n",
       " '__annotations__',\n",
       " '__class__',\n",
       " '__class_getitem__',\n",
       " '__delattr__',\n",
       " '__dict__',\n",
       " '__dir__',\n",
       " '__doc__',\n",
       " '__eq__',\n",
       " '__format__',\n",
       " '__ge__',\n",
       " '__getattribute__',\n",
       " '__gt__',\n",
       " '__hash__',\n",
       " '__init__',\n",
       " '__init_subclass__',\n",
       " '__iter__',\n",
       " '__le__',\n",
       " '__len__',\n",
       " '__lt__',\n",
       " '__module__',\n",
       " '__ne__',\n",
       " '__new__',\n",
       " '__orig_bases__',\n",
       " '__parameters__',\n",
       " '__reduce__',\n",
       " '__reduce_ex__',\n",
       " '__repr__',\n",
       " '__setattr__',\n",
       " '__sizeof__',\n",
       " '__slots__',\n",
       " '__str__',\n",
       " '__subclasshook__',\n",
       " '__weakref__',\n",
       " '_auto_collation',\n",
       " '_dataset_kind',\n",
       " '_get_iterator',\n",
       " '_index_sampler',\n",
       " '_is_protocol',\n",
       " '_iterator',\n",
       " 'batch_sampler',\n",
       " 'batch_size',\n",
       " 'check_worker_number_rationality',\n",
       " 'collate_fn',\n",
       " 'dataset',\n",
       " 'drop_last',\n",
       " 'generator',\n",
       " 'multiprocessing_context',\n",
       " 'num_workers',\n",
       " 'persistent_workers',\n",
       " 'pin_memory',\n",
       " 'prefetch_factor',\n",
       " 'sampler',\n",
       " 'timeout',\n",
       " 'worker_init_fn']"
      ]
     },
     "execution_count": 16,
     "metadata": {},
     "output_type": "execute_result"
    }
   ],
   "source": [
    "dir(dl)"
   ]
  },
  {
   "cell_type": "markdown",
   "id": "9e177d17-0b0c-44e3-897b-483d372c1e36",
   "metadata": {
    "id": "9e177d17-0b0c-44e3-897b-483d372c1e36"
   },
   "source": [
    "- dl은 배치를 만드는 기능이 있어보임 "
   ]
  },
  {
   "cell_type": "code",
   "execution_count": null,
   "id": "8663fcc9-0b10-48de-ab39-87e31a11968d",
   "metadata": {
    "id": "8663fcc9-0b10-48de-ab39-87e31a11968d",
    "outputId": "53247bc4-d1f3-4a3d-d8ca-4fb890683a2b"
   },
   "outputs": [
    {
     "name": "stdout",
     "output_type": "stream",
     "text": [
      "tensor([7., 3.]) tensor([1., 1.])\n",
      "tensor([6., 9.]) tensor([0., 0.])\n",
      "tensor([4., 5.]) tensor([0., 1.])\n",
      "tensor([8.]) tensor([1.])\n"
     ]
    }
   ],
   "source": [
    "for xx,yy in dl: \n",
    "    print(xx,yy)"
   ]
  },
  {
   "cell_type": "markdown",
   "id": "6e75bf74-52b2-4c12-984b-25c4f68ca243",
   "metadata": {
    "id": "6e75bf74-52b2-4c12-984b-25c4f68ca243"
   },
   "source": [
    "`-` 배치사이즈=2, 셔플= False"
   ]
  },
  {
   "cell_type": "code",
   "execution_count": null,
   "id": "bdb04639-a8f1-432f-b62e-382baa9fc52e",
   "metadata": {
    "id": "bdb04639-a8f1-432f-b62e-382baa9fc52e"
   },
   "outputs": [],
   "source": [
    "dl=torch.utils.data.DataLoader(ds,batch_size=2,shuffle=False)"
   ]
  },
  {
   "cell_type": "code",
   "execution_count": null,
   "id": "01f5a73a-5ff0-40c3-9961-7010639d7f34",
   "metadata": {
    "id": "01f5a73a-5ff0-40c3-9961-7010639d7f34",
    "outputId": "21b25734-85be-41b9-9ebb-4f31df414273"
   },
   "outputs": [
    {
     "name": "stdout",
     "output_type": "stream",
     "text": [
      "tensor([3., 4.]) tensor([1., 0.])\n",
      "tensor([5., 6.]) tensor([1., 0.])\n",
      "tensor([7., 8.]) tensor([1., 1.])\n",
      "tensor([9.]) tensor([0.])\n"
     ]
    }
   ],
   "source": [
    "for xx,yy in dl: \n",
    "    print(xx,yy)"
   ]
  },
  {
   "cell_type": "markdown",
   "id": "c733174e-3dbf-45df-8398-395944a0f60d",
   "metadata": {
    "id": "c733174e-3dbf-45df-8398-395944a0f60d"
   },
   "source": [
    "`-` 배치사이즈=3, 셔플= True"
   ]
  },
  {
   "cell_type": "code",
   "execution_count": null,
   "id": "55a0b2d4-4253-4951-bd68-575d4627a3e2",
   "metadata": {
    "id": "55a0b2d4-4253-4951-bd68-575d4627a3e2"
   },
   "outputs": [],
   "source": [
    "dl=torch.utils.data.DataLoader(ds,batch_size=3,shuffle=True)"
   ]
  },
  {
   "cell_type": "code",
   "execution_count": null,
   "id": "4a0c9aaf-cf6c-44e6-a6cb-64e77fe4cae4",
   "metadata": {
    "id": "4a0c9aaf-cf6c-44e6-a6cb-64e77fe4cae4",
    "outputId": "84657944-91c6-42db-92f0-4d78ef81de2a"
   },
   "outputs": [
    {
     "name": "stdout",
     "output_type": "stream",
     "text": [
      "tensor([3., 6., 5.]) tensor([1., 0., 1.])\n",
      "tensor([8., 7., 9.]) tensor([1., 1., 0.])\n",
      "tensor([4.]) tensor([0.])\n"
     ]
    }
   ],
   "source": [
    "for xx,yy in dl: \n",
    "    print(xx,yy)"
   ]
  },
  {
   "cell_type": "markdown",
   "id": "1045c19c-bdc3-4078-831b-06e1e3d0b259",
   "metadata": {
    "id": "1045c19c-bdc3-4078-831b-06e1e3d0b259"
   },
   "source": [
    "### MNIST 3/7 예제"
   ]
  },
  {
   "cell_type": "markdown",
   "id": "3572aa2e-efaf-429f-a998-ab056efaf0d6",
   "metadata": {
    "id": "3572aa2e-efaf-429f-a998-ab056efaf0d6"
   },
   "source": [
    "`-` 우선 텐서로 이루어진 X,y를 만들자. "
   ]
  },
  {
   "cell_type": "code",
   "execution_count": null,
   "id": "e6fa692b-7028-45ef-bbdf-f0ddea31af91",
   "metadata": {
    "id": "e6fa692b-7028-45ef-bbdf-f0ddea31af91"
   },
   "outputs": [],
   "source": [
    "path = untar_data(URLs.MNIST_SAMPLE) "
   ]
  },
  {
   "cell_type": "code",
   "execution_count": null,
   "id": "2938169e-9ef9-459d-bcb6-c2aef5a3fdfb",
   "metadata": {
    "id": "2938169e-9ef9-459d-bcb6-c2aef5a3fdfb"
   },
   "outputs": [],
   "source": [
    "threes=(path/'train'/'3').ls()\n",
    "sevens=(path/'train'/'7').ls()"
   ]
  },
  {
   "cell_type": "code",
   "execution_count": null,
   "id": "e046ab6d-71dc-424e-a574-33efa6949b40",
   "metadata": {
    "id": "e046ab6d-71dc-424e-a574-33efa6949b40"
   },
   "outputs": [],
   "source": [
    "seven_tensor = torch.stack([tensor(Image.open(i)) for i in sevens]).float()/255\n",
    "three_tensor = torch.stack([tensor(Image.open(i)) for i in threes]).float()/255"
   ]
  },
  {
   "cell_type": "code",
   "execution_count": null,
   "id": "f0aa7f82-9ade-471e-adf1-5cff15e7208e",
   "metadata": {
    "id": "f0aa7f82-9ade-471e-adf1-5cff15e7208e"
   },
   "outputs": [],
   "source": [
    "X=torch.vstack([seven_tensor,three_tensor]).reshape(12396,-1) \n",
    "y=torch.tensor([0.0]*6265 + [1.0]*6131).reshape(12396,1)"
   ]
  },
  {
   "cell_type": "markdown",
   "id": "7b6562c8-ae33-4c05-8afb-8478a9d86abf",
   "metadata": {
    "id": "7b6562c8-ae33-4c05-8afb-8478a9d86abf"
   },
   "source": [
    "`-` dataset=(X,y) 를 만들자. "
   ]
  },
  {
   "cell_type": "code",
   "execution_count": null,
   "id": "24070f72-cebf-44df-90c1-3b5447135410",
   "metadata": {
    "id": "24070f72-cebf-44df-90c1-3b5447135410"
   },
   "outputs": [],
   "source": [
    "ds=torch.utils.data.TensorDataset(X,y)"
   ]
  },
  {
   "cell_type": "markdown",
   "id": "c52e6ea4-d6de-448a-95e2-f064b834a24d",
   "metadata": {
    "id": "c52e6ea4-d6de-448a-95e2-f064b834a24d"
   },
   "source": [
    "`-` dataloader를 만들자. "
   ]
  },
  {
   "cell_type": "code",
   "execution_count": null,
   "id": "e0871738-7c3a-4e49-b07f-711a190e97e3",
   "metadata": {
    "id": "e0871738-7c3a-4e49-b07f-711a190e97e3"
   },
   "outputs": [],
   "source": [
    "dl=torch.utils.data.DataLoader(ds,batch_size=2048,shuffle=True)"
   ]
  },
  {
   "cell_type": "markdown",
   "id": "e88d4036-65bc-4b34-ae9f-c5930e062f45",
   "metadata": {
    "id": "e88d4036-65bc-4b34-ae9f-c5930e062f45"
   },
   "source": [
    "`-` 네트워크(아키텍처), 손실함수, 옵티마이저 "
   ]
  },
  {
   "cell_type": "code",
   "execution_count": null,
   "id": "1864c859-0849-4f18-bb9d-532882d64fa9",
   "metadata": {
    "id": "1864c859-0849-4f18-bb9d-532882d64fa9"
   },
   "outputs": [],
   "source": [
    "torch.manual_seed(1)\n",
    "net = torch.nn.Sequential(\n",
    "    torch.nn.Linear(in_features=784,out_features=30),\n",
    "    torch.nn.ReLU(),\n",
    "    torch.nn.Linear(in_features=30,out_features=1)\n",
    "    #torch.nn.Sigmoid()\n",
    ")\n",
    "loss_fn=torch.nn.BCEWithLogitsLoss()\n",
    "optimizer=torch.optim.Adam(net.parameters())"
   ]
  },
  {
   "cell_type": "markdown",
   "id": "4b37b0bd-410f-4439-9b1f-4ad662192144",
   "metadata": {
    "id": "4b37b0bd-410f-4439-9b1f-4ad662192144"
   },
   "source": [
    "`-` 저번시간 복습"
   ]
  },
  {
   "cell_type": "code",
   "execution_count": null,
   "id": "cb8e14d6-4f6f-443f-b5e4-efbfd8e5432c",
   "metadata": {
    "id": "cb8e14d6-4f6f-443f-b5e4-efbfd8e5432c"
   },
   "outputs": [],
   "source": [
    "for epoc in range(200):\n",
    "    ## 1\n",
    "    yhat=net(X) \n",
    "    ## 2 \n",
    "    loss= loss_fn(yhat,y) \n",
    "    ## 3 \n",
    "    loss.backward()\n",
    "    ## 4 \n",
    "    optimizer.step()\n",
    "    net.zero_grad()    "
   ]
  },
  {
   "cell_type": "code",
   "execution_count": null,
   "id": "67ba82bf-d809-4fc4-a832-20c807e418dc",
   "metadata": {
    "id": "67ba82bf-d809-4fc4-a832-20c807e418dc",
    "outputId": "52892fad-80f1-47f3-f870-3eee01b614d2"
   },
   "outputs": [
    {
     "data": {
      "text/plain": [
       "[<matplotlib.lines.Line2D at 0x7f7e8bd37b50>]"
      ]
     },
     "execution_count": 105,
     "metadata": {},
     "output_type": "execute_result"
    },
    {
     "data": {
      "image/png": "[encoded data removed]",
      "text/plain": [
       "<Figure size 432x288 with 1 Axes>"
      ]
     },
     "metadata": {
      "needs_background": "light"
     },
     "output_type": "display_data"
    }
   ],
   "source": [
    "plt.plot(yhat.data,'.')"
   ]
  },
  {
   "cell_type": "code",
   "execution_count": null,
   "id": "a62334a1-e5c3-4bd5-8f69-ced6f3df9392",
   "metadata": {
    "id": "a62334a1-e5c3-4bd5-8f69-ced6f3df9392",
    "outputId": "0ec5535f-ea07-4eb2-cdb8-c542a67d6341"
   },
   "outputs": [
    {
     "data": {
      "text/plain": [
       "[<matplotlib.lines.Line2D at 0x7f7e73ba0910>]"
      ]
     },
     "execution_count": 106,
     "metadata": {},
     "output_type": "execute_result"
    },
    {
     "data": {
      "image/png": "[encoded data removed]",
      "text/plain": [
       "<Figure size 432x288 with 1 Axes>"
      ]
     },
     "metadata": {
      "needs_background": "light"
     },
     "output_type": "display_data"
    }
   ],
   "source": [
    "f=torch.nn.Sigmoid() \n",
    "plt.plot(f(yhat.data),'.')"
   ]
  },
  {
   "cell_type": "markdown",
   "id": "94d421c5-588e-47c0-a7a2-2393c37759e2",
   "metadata": {
    "id": "94d421c5-588e-47c0-a7a2-2393c37759e2"
   },
   "source": [
    "`-` 미니배치활용 "
   ]
  },
  {
   "cell_type": "code",
   "execution_count": null,
   "id": "390a1d25-b279-4400-b245-7de1f0791a03",
   "metadata": {
    "id": "390a1d25-b279-4400-b245-7de1f0791a03"
   },
   "outputs": [],
   "source": [
    "torch.manual_seed(1)\n",
    "net = torch.nn.Sequential(\n",
    "    torch.nn.Linear(in_features=784,out_features=30),\n",
    "    torch.nn.ReLU(),\n",
    "    torch.nn.Linear(in_features=30,out_features=1)\n",
    "    #torch.nn.Sigmoid()\n",
    ")\n",
    "loss_fn=torch.nn.BCEWithLogitsLoss()\n",
    "optimizer=torch.optim.Adam(net.parameters())"
   ]
  },
  {
   "cell_type": "markdown",
   "id": "846a68ba-db79-4913-ab75-e29a2c60efd9",
   "metadata": {
    "id": "846a68ba-db79-4913-ab75-e29a2c60efd9"
   },
   "source": [
    "- 네트워크 파라메터 다시 초기화"
   ]
  },
  {
   "cell_type": "code",
   "execution_count": null,
   "id": "eac2451d-5cae-483a-92e1-fd6939f01580",
   "metadata": {
    "id": "eac2451d-5cae-483a-92e1-fd6939f01580",
    "outputId": "6a52a1e3-5a00-45bb-d1c9-7c49ea9e4d67"
   },
   "outputs": [
    {
     "data": {
      "text/plain": [
       "6.052734375"
      ]
     },
     "execution_count": 108,
     "metadata": {},
     "output_type": "execute_result"
    }
   ],
   "source": [
    "12396 / 2048 "
   ]
  },
  {
   "cell_type": "markdown",
   "id": "6337b931-a9e7-4064-b7d9-4834d91846d2",
   "metadata": {
    "id": "6337b931-a9e7-4064-b7d9-4834d91846d2"
   },
   "source": [
    "- 총 7개의 미니배치가 만들어질것임 $\\to$ 따라서 파라메터를 업데이트하는 횟수는 7 $\\times$ epoc 임 (실제적으로는 6 $\\times$ epoc) "
   ]
  },
  {
   "cell_type": "code",
   "execution_count": null,
   "id": "a21877c6-0f75-452c-93db-dad3c1c1fc7e",
   "metadata": {
    "id": "a21877c6-0f75-452c-93db-dad3c1c1fc7e",
    "outputId": "c7d377ce-e247-4daa-a963-36c456f3926f"
   },
   "outputs": [
    {
     "data": {
      "text/plain": [
       "33.333333333333336"
      ]
     },
     "execution_count": 110,
     "metadata": {},
     "output_type": "execute_result"
    }
   ],
   "source": [
    "200/6"
   ]
  },
  {
   "cell_type": "code",
   "execution_count": null,
   "id": "40e82d4b-26d0-489c-861b-99604d1928af",
   "metadata": {
    "id": "40e82d4b-26d0-489c-861b-99604d1928af"
   },
   "outputs": [],
   "source": [
    "for epoc in range(33): \n",
    "    for xx,yy in dl:  ### 총 7번돌면 끝나는 for \n",
    "        ## 1 \n",
    "        yyhat=net(xx)\n",
    "        ## 2 \n",
    "        loss= loss_fn(yyhat,yy) \n",
    "        ## 3 \n",
    "        loss.backward()\n",
    "        ## 4 \n",
    "        optimizer.step()\n",
    "        net.zero_grad() "
   ]
  },
  {
   "cell_type": "code",
   "execution_count": null,
   "id": "5c0f7f70-f57d-42e2-9c3a-247e6682dad4",
   "metadata": {
    "id": "5c0f7f70-f57d-42e2-9c3a-247e6682dad4",
    "outputId": "7e4a8c9d-04af-47c8-a69f-04a01194b42a"
   },
   "outputs": [
    {
     "data": {
      "text/plain": [
       "[<matplotlib.lines.Line2D at 0x7f7e746f2d30>]"
      ]
     },
     "execution_count": 113,
     "metadata": {},
     "output_type": "execute_result"
    },
    {
     "data": {
      "image/png": "[encoded data removed]",
      "text/plain": [
       "<Figure size 432x288 with 1 Axes>"
      ]
     },
     "metadata": {
      "needs_background": "light"
     },
     "output_type": "display_data"
    }
   ],
   "source": [
    "plt.plot(yyhat.data,'.')"
   ]
  },
  {
   "cell_type": "markdown",
   "id": "fd18f1ec-89a0-4250-83c3-7fae481addfa",
   "metadata": {
    "id": "fd18f1ec-89a0-4250-83c3-7fae481addfa"
   },
   "source": [
    "- 이게 왜이러지?? "
   ]
  },
  {
   "cell_type": "markdown",
   "id": "0374f29a-876c-4f47-a801-336b2fe69e18",
   "metadata": {
    "id": "0374f29a-876c-4f47-a801-336b2fe69e18"
   },
   "source": [
    "`-` 배치사이즈를 다시 확인해보자. "
   ]
  },
  {
   "cell_type": "code",
   "execution_count": null,
   "id": "960436e9-3eb9-4f0c-8b91-b40dc6854509",
   "metadata": {
    "id": "960436e9-3eb9-4f0c-8b91-b40dc6854509",
    "outputId": "aa5c3306-6015-49d7-c0ac-a4c625c8d0ca"
   },
   "outputs": [
    {
     "name": "stdout",
     "output_type": "stream",
     "text": [
      "torch.Size([2048, 784]) torch.Size([2048, 1])\n",
      "torch.Size([2048, 784]) torch.Size([2048, 1])\n",
      "torch.Size([2048, 784]) torch.Size([2048, 1])\n",
      "torch.Size([2048, 784]) torch.Size([2048, 1])\n",
      "torch.Size([2048, 784]) torch.Size([2048, 1])\n",
      "torch.Size([2048, 784]) torch.Size([2048, 1])\n",
      "torch.Size([108, 784]) torch.Size([108, 1])\n"
     ]
    }
   ],
   "source": [
    "for xx,yy in dl: \n",
    "    print(xx.shape,yy.shape)"
   ]
  },
  {
   "cell_type": "markdown",
   "id": "ffbf5b38-a9ff-4500-9904-ed89a6a7db8c",
   "metadata": {
    "id": "ffbf5b38-a9ff-4500-9904-ed89a6a7db8c"
   },
   "source": [
    "`-` 마지막이 108개이므로 108개의 y만 그려짐 "
   ]
  },
  {
   "cell_type": "code",
   "execution_count": null,
   "id": "7fc42123-d72d-4fe3-b6ae-0395bfe93ea1",
   "metadata": {
    "id": "7fc42123-d72d-4fe3-b6ae-0395bfe93ea1",
    "outputId": "d17ce787-63d6-4490-ce93-cad70379a155"
   },
   "outputs": [
    {
     "data": {
      "text/plain": [
       "[<matplotlib.lines.Line2D at 0x7f7e7474f1c0>]"
      ]
     },
     "execution_count": 117,
     "metadata": {},
     "output_type": "execute_result"
    },
    {
     "data": {
      "image/png": "[encoded data removed]",
      "text/plain": [
       "<Figure size 432x288 with 1 Axes>"
      ]
     },
     "metadata": {
      "needs_background": "light"
     },
     "output_type": "display_data"
    }
   ],
   "source": [
    "plt.plot(net(X).data,'.')"
   ]
  },
  {
   "cell_type": "markdown",
   "id": "df779f78-3c90-4073-b0ea-066ec784e4f0",
   "metadata": {
    "id": "df779f78-3c90-4073-b0ea-066ec784e4f0"
   },
   "source": [
    "`-` 2048개 정도만 대충학습해도 동일 반복횟수에 대하여 거의 대등한 효율이 나옴 "
   ]
  },
  {
   "cell_type": "markdown",
   "id": "c6ce75eb-ec9a-4a44-a34a-2024dcd9789c",
   "metadata": {
    "id": "c6ce75eb-ec9a-4a44-a34a-2024dcd9789c"
   },
   "source": [
    "`-` GPU에 있는 메모리로 12396개의 데이터를 모두 보내지 않아도 괜찮겠다 $\\to$ 그래픽카드의 메모리를 얼마나 큰 것으로 살지는 자료의 크기와는 상관없다. "
   ]
  },
  {
   "cell_type": "markdown",
   "id": "1ec488dd-3eaf-4c84-bf7b-3844c20d2ff6",
   "metadata": {
    "id": "1ec488dd-3eaf-4c84-bf7b-3844c20d2ff6"
   },
   "source": [
    "`-` net.parameters()에 저장된 값들은 그대로 GPU로 가야만한다. $\\to$ 그래픽카드의 메모리를 얼마나 큰것으로 살지는 모형의 복잡도와 관련이 있다. "
   ]
  },
  {
   "cell_type": "markdown",
   "id": "399e945f-c1c9-4188-ba34-6f9fec19d623",
   "metadata": {
    "id": "399e945f-c1c9-4188-ba34-6f9fec19d623"
   },
   "source": [
    "***컴퓨터사는방법***\n",
    "- 메모리: $n$이 큰 자료를 다룰수록 메모리가 커야한다. \n",
    "- GPU의 메모리: 모형의 복잡도가 커질수록 GPU의 메모리가 커야한다. "
   ]
  },
  {
   "cell_type": "markdown",
   "id": "f21d1574-bddc-42b6-8a0b-152c35d314e8",
   "metadata": {
    "id": "f21d1574-bddc-42b6-8a0b-152c35d314e8"
   },
   "source": [
    "### 숙제 \n",
    "\n",
    "`-` batchsize=1024로 바꾼후 학습해보고 결과를 관찰할것 "
   ]
  }
 ],
 "metadata": {
  "colab": {
   "name": "2021-10-14-(6주차) 10월14일.ipynb",
   "provenance": []
  },
  "kernelspec": {
   "display_name": "Python 3",
   "language": "python",
   "name": "python3"
  },
  "language_info": {
   "codemirror_mode": {
    "name": "ipython",
    "version": 3
   },
   "file_extension": ".py",
   "mimetype": "text/x-python",
   "name": "python",
   "nbconvert_exporter": "python",
   "pygments_lexer": "ipython3",
   "version": "3.8.12"
  }
 },
 "nbformat": 4,
 "nbformat_minor": 5
}
