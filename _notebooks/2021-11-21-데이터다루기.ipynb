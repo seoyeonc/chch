{
 "cells": [
  {
   "cell_type": "markdown",
   "id": "b025fc03-62dc-4b6b-a1ac-a2c22f04e979",
   "metadata": {},
   "source": [
    "# 데이터 다루기 study\n",
    "> 1차시험에 기반한 데이터 다루기 study\n",
    "\n",
    "- toc:true\n",
    "- branch: master\n",
    "- badges: true\n",
    "- comments: false\n",
    "- author: 최서연\n",
    "- categories: [결측치, missing data, python]"
   ]
  },
  {
   "cell_type": "markdown",
   "id": "2dddaf76-7294-48c9-b16d-62fcf7031250",
   "metadata": {},
   "source": [
    "ref: https://books.google.co.kr/books/about/Python_for_Data_Analysis.html?id=JtJAkfzds4wC&printsec=frontcover&source=kp_read_button&hl=en&redir_esc=y#v=onepage&q&f=false\n",
    "\n",
    "파이썬 라이브러리를 활용한 데이터 분석"
   ]
  },
  {
   "cell_type": "code",
   "execution_count": 38,
   "id": "47df3c29-b037-4453-8e75-a564ed82239b",
   "metadata": {},
   "outputs": [],
   "source": [
    "import pandas as pd\n",
    "import numpy as np"
   ]
  },
  {
   "cell_type": "code",
   "execution_count": 3,
   "id": "e931e247-c8c5-4fad-b298-753cc054e12b",
   "metadata": {},
   "outputs": [],
   "source": [
    "df=pd.read_csv('https://raw.githubusercontent.com/guebin/2021DV/master/_notebooks/2021-10-25-FIFA22_official_data.csv')"
   ]
  },
  {
   "cell_type": "markdown",
   "id": "58f978e5-54a0-4e22-a411-f26a62825a4e",
   "metadata": {},
   "source": [
    "- 데이터를 한 객체에 입력했다면, df2에 df를 다시 받는 등의 원본 건드는 일은 하지 말 것.\n",
    "    - 파이썬 특성상 데이터가 독립적으로 존재하지 않아 만약 df2를 변형시 df가 변형될 수 있는 가능성이 존재함."
   ]
  },
  {
   "cell_type": "markdown",
   "id": "2d414b63-f52b-4a66-88fb-164877341972",
   "metadata": {},
   "source": [
    "#### 결측치 찾기"
   ]
  },
  {
   "cell_type": "markdown",
   "id": "240a85ef-d718-4340-b962-ec6aca7842b7",
   "metadata": {},
   "source": [
    "|인자|설명|\n",
    "|:-:|:-:|\n",
    "|dropna|누락된 데이터가 있는 축(raw,column)을 제외시킨다. 하나라도 포함되면 제외.어느 정도의 누락 데이터까지 용인할 것인지 지정할 수 있다.|\n",
    "|fillna|누락된 데이터를 대신할 값을 채우거나 'ffill'이나 'bfill' 같은 보간 메서드를 적용한다.|\n",
    "|isnull|누락되거나 NA인 값을 알려주는 불리언값이 저장된 같은 형의 객체를 반환한다.|\n",
    "|notnull|isnull과 반대되는 메서드|"
   ]
  },
  {
   "cell_type": "markdown",
   "id": "13af3a4f-546e-477d-94e8-aa5e7e94797b",
   "metadata": {},
   "source": [
    "- 사용\n",
    "`````python\n",
    "df.dropna()\n",
    "df.dropna(how='all') ### how 옵션은 전부 NA값인 행만 제외시킨다.\n",
    "df.dropna(axis=1,how='all') ### axis 기본값은 0(행)이니 1(열)로 값 주어주면 전부 NA 값인 열만 제외시킨다.\n",
    "df.fillna()\n",
    "df.isnull()\n",
    "df.notnull()\n",
    "`````"
   ]
  },
  {
   "cell_type": "markdown",
   "id": "3f56b916-3796-47b7-be9a-c68f04e12f0d",
   "metadata": {},
   "source": [
    "#### 결측치 채우기"
   ]
  },
  {
   "cell_type": "markdown",
   "id": "9c378650-9bb9-4f6c-aa0e-f13df4d0557f",
   "metadata": {},
   "source": [
    "|인자|설명|\n",
    "|:-:|:-:|\n",
    "|value|비어 있는 값을 채울 스칼라값이나 사전 형식의 객체|\n",
    "|method|보간 방식, 기본적으로 'ffill'을 사용한다.|\n",
    "|axis|값을 채워 넣을 축, 기본값은 axis=0이다.|\n",
    "|limit|값을 앞 혹은 뒤에서부터 몇 개까지 채울지 지정한다.|"
   ]
  },
  {
   "cell_type": "markdown",
   "id": "44a77616-cf6c-44ac-95ee-aefcb3bc9636",
   "metadata": {},
   "source": [
    "`````python\n",
    "df.fillna(df.mean()) \n",
    "df.fillna(method='ffill',limit=2) # 결측치 있다면 앞값과 같은 값을 2개의 결측치까지만 입력할 것이다.\n",
    "df.fillna({1:0}) ## 열[1]에는 0 입력, 이때는 결측치에 입력하는 개념이 아니다.\n",
    "`````"
   ]
  },
  {
   "cell_type": "markdown",
   "id": "be809f58-1766-40ce-a965-64e940ec4f38",
   "metadata": {},
   "source": [
    "#### lambda"
   ]
  },
  {
   "cell_type": "markdown",
   "id": "74ae6bac-51f1-40e8-93bc-eaba69573f25",
   "metadata": {},
   "source": [
    ": Small anonymous functions can be created with the lambda keyword. This function returns the sum of its two arguments: lambda a, b: a+b. Lambda functions can be used wherever function objects are required. They are syntactically restricted to a single expression. Semantically, they are just syntactic sugar for a normal function definition. \n",
    "\n",
    "ref: https://docs.python.org/3/tutorial/controlflow.html"
   ]
  },
  {
   "cell_type": "code",
   "execution_count": 42,
   "id": "2ed4d0b2-afa4-471a-a7b6-f179bd141bb6",
   "metadata": {},
   "outputs": [],
   "source": [
    "f= lambda x,y,z : x+y+z\n",
    "# 함수 = lambda 입력 : 출력"
   ]
  },
  {
   "cell_type": "code",
   "execution_count": 43,
   "id": "29be245e-b70e-40a0-b8f9-9dbd3faa6900",
   "metadata": {},
   "outputs": [
    {
     "data": {
      "text/plain": [
       "9"
      ]
     },
     "execution_count": 43,
     "metadata": {},
     "output_type": "execute_result"
    }
   ],
   "source": [
    "f(2,3,4)"
   ]
  },
  {
   "cell_type": "code",
   "execution_count": 71,
   "id": "cf6a05c6-b729-4d34-8373-85279620a4ac",
   "metadata": {},
   "outputs": [
    {
     "data": {
      "text/plain": [
       "9"
      ]
     },
     "execution_count": 71,
     "metadata": {},
     "output_type": "execute_result"
    }
   ],
   "source": [
    "(lambda x,y,z : x+y+z)(2,3,4) ## 같은 결과!"
   ]
  },
  {
   "cell_type": "markdown",
   "id": "0327daee-5b8c-4906-93f0-d457040ac38f",
   "metadata": {},
   "source": [
    "- lambda의 기본 입력값은?"
   ]
  },
  {
   "cell_type": "code",
   "execution_count": 69,
   "id": "00e44167-e0a9-4b25-952e-c1b1dca26fbc",
   "metadata": {},
   "outputs": [],
   "source": [
    "x= (lambda a='fee',b='fie',c='foe': a+b+c) "
   ]
  },
  {
   "cell_type": "code",
   "execution_count": 70,
   "id": "71b1173a-d837-4e41-80dc-b4677cf78cf9",
   "metadata": {},
   "outputs": [
    {
     "data": {
      "text/plain": [
       "'wefefoe'"
      ]
     },
     "execution_count": 70,
     "metadata": {},
     "output_type": "execute_result"
    }
   ],
   "source": [
    "x('we','fe') # x가 object화 된다."
   ]
  },
  {
   "cell_type": "markdown",
   "id": "f7a22ecb-85df-43d3-91f7-fa5689911a01",
   "metadata": {},
   "source": [
    "- lambda 들의 list"
   ]
  },
  {
   "cell_type": "code",
   "execution_count": 48,
   "id": "3b58a548-6912-47ad-bb73-f819a2cc8f0a",
   "metadata": {},
   "outputs": [],
   "source": [
    "l=[lambda x: x+1, lambda x:x+2]"
   ]
  },
  {
   "cell_type": "code",
   "execution_count": 50,
   "id": "3981de0f-fefd-4058-b05d-2d641d4215ad",
   "metadata": {},
   "outputs": [
    {
     "name": "stdout",
     "output_type": "stream",
     "text": [
      "2\n",
      "3\n"
     ]
    }
   ],
   "source": [
    "for f in l:\n",
    "    print(f(1))"
   ]
  },
  {
   "cell_type": "markdown",
   "id": "ab3405e8-db9e-44d6-be38-d834408aaf08",
   "metadata": {},
   "source": [
    "- lamda 들의 dictionary"
   ]
  },
  {
   "cell_type": "code",
   "execution_count": 51,
   "id": "eb6a2fd5-98df-4b1e-8f28-927953daf877",
   "metadata": {},
   "outputs": [],
   "source": [
    "dct={'f1':(lambda x:x+1),'f2':(lambda x:x+2)}"
   ]
  },
  {
   "cell_type": "code",
   "execution_count": 52,
   "id": "b36292b8-8afd-4cbf-8cda-7b8f63f62912",
   "metadata": {},
   "outputs": [
    {
     "data": {
      "text/plain": [
       "(2, 4)"
      ]
     },
     "execution_count": 52,
     "metadata": {},
     "output_type": "execute_result"
    }
   ],
   "source": [
    "dct['f1'](1),dct['f2'](2)"
   ]
  },
  {
   "cell_type": "markdown",
   "id": "ddff1116-8b0a-4986-b846-964a288e16c0",
   "metadata": {},
   "source": [
    "- lambda 조건부 입력"
   ]
  },
  {
   "cell_type": "code",
   "execution_count": 57,
   "id": "996d5b83-1cbb-4bb3-aac0-92a58174e3a8",
   "metadata": {},
   "outputs": [],
   "source": [
    "upper=lambda x,y: x if x>y else y\n",
    "lower=lambda x,y: x if x<y else y"
   ]
  },
  {
   "cell_type": "code",
   "execution_count": 58,
   "id": "270542f9-5150-4539-8271-54b4e0702432",
   "metadata": {},
   "outputs": [
    {
     "data": {
      "text/plain": [
       "('r', 6)"
      ]
     },
     "execution_count": 58,
     "metadata": {},
     "output_type": "execute_result"
    }
   ],
   "source": [
    "upper('a','r'),upper(6,4)"
   ]
  },
  {
   "cell_type": "code",
   "execution_count": 59,
   "id": "4afa2596-12b3-469b-a29b-50a6fa354a2b",
   "metadata": {},
   "outputs": [
    {
     "data": {
      "text/plain": [
       "('a', 4)"
      ]
     },
     "execution_count": 59,
     "metadata": {},
     "output_type": "execute_result"
    }
   ],
   "source": [
    "lower('a','r'),lower(6,4)"
   ]
  },
  {
   "cell_type": "markdown",
   "id": "b063d99c-88e0-4810-9af0-d3489874ffd1",
   "metadata": {},
   "source": [
    "- lambda expression return(*lambda y:x+y* 자체가 오브젝트라 가능)"
   ]
  },
  {
   "cell_type": "code",
   "execution_count": 65,
   "id": "5541bca1-5396-4afd-8668-8c29b046395f",
   "metadata": {},
   "outputs": [],
   "source": [
    "def action(x): \n",
    "    return (lambda y : x+y) ## lambda 괄호 생략해도 가능! 여기서는 단순히 구분하기 위함"
   ]
  },
  {
   "cell_type": "code",
   "execution_count": 66,
   "id": "503d8dc3-9c3b-4fb3-aea7-a27cb7ad0816",
   "metadata": {},
   "outputs": [],
   "source": [
    "act=action(88)\n",
    "act2=action(89)"
   ]
  },
  {
   "cell_type": "code",
   "execution_count": 67,
   "id": "d6238746-8468-43b2-a2b6-ef2e9534f6b6",
   "metadata": {},
   "outputs": [
    {
     "name": "stdout",
     "output_type": "stream",
     "text": [
      "90\n",
      "91\n"
     ]
    }
   ],
   "source": [
    "print(act(2))## action은 함수를 만드는 함수와 같다.\n",
    "print(act2(2))"
   ]
  },
  {
   "cell_type": "markdown",
   "id": "e5e9996d-e1bb-491b-b7d6-fd3c341bb5dc",
   "metadata": {},
   "source": [
    "#### map"
   ]
  },
  {
   "cell_type": "markdown",
   "id": "58e461e3-39a3-4acc-9ee5-4a9f88513cac",
   "metadata": {},
   "source": [
    "*map(function, iterable, ...)*: Return an iterator that applies function to every item of iterable, yielding the results. If additional iterable arguments are passed, function must take that many arguments and is applied to the items from all iterables in parallel. With multiple iterables, the iterator stops when the shortest iterable is exhausted. For cases where the function inputs are already arranged into argument tuples, see itertools.starmap().\n",
    "\n",
    "ref: https://docs.python.org/3/library/functions.html#map"
   ]
  },
  {
   "cell_type": "code",
   "execution_count": 74,
   "id": "1973e448-9584-4a7f-8e0c-d96567ff0bc1",
   "metadata": {},
   "outputs": [],
   "source": [
    "def inc(x): return x+1"
   ]
  },
  {
   "cell_type": "code",
   "execution_count": 75,
   "id": "f7dde864-2643-4caa-b5b6-c6e97771590a",
   "metadata": {},
   "outputs": [
    {
     "data": {
      "text/plain": [
       "[2, 3, 4, 5]"
      ]
     },
     "execution_count": 75,
     "metadata": {},
     "output_type": "execute_result"
    }
   ],
   "source": [
    "list(map(inc,[1,2,3,4]))"
   ]
  },
  {
   "cell_type": "markdown",
   "id": "0f428eed-e9ec-4779-a071-61091808d770",
   "metadata": {},
   "source": [
    "- lambda를 사용한 변형$\\to$함수명을 쓰는 자리에 lambda로 표현한 오브젝트 자체 전달하여 코드 간단하게"
   ]
  },
  {
   "cell_type": "code",
   "execution_count": 76,
   "id": "064286e5-bdf9-4e3b-9a20-67e72f14cb6e",
   "metadata": {},
   "outputs": [
    {
     "data": {
      "text/plain": [
       "[2, 3, 4, 5]"
      ]
     },
     "execution_count": 76,
     "metadata": {},
     "output_type": "execute_result"
    }
   ],
   "source": [
    "list(map(lambda x: x+1,[1,2,3,4]))"
   ]
  },
  {
   "cell_type": "markdown",
   "id": "e008cbbb-4161-4ee2-b0e4-ed459e71da7f",
   "metadata": {},
   "source": [
    "- map과 list comprehensions 비교"
   ]
  },
  {
   "cell_type": "code",
   "execution_count": 78,
   "id": "7d69fdff-de0e-44aa-af3d-e8fde1fd16e9",
   "metadata": {},
   "outputs": [],
   "source": [
    "f= lambda x: 'X' in x"
   ]
  },
  {
   "cell_type": "code",
   "execution_count": 83,
   "id": "39bbd421-12b1-4923-8ada-72b8f1a53004",
   "metadata": {},
   "outputs": [
    {
     "data": {
      "text/plain": [
       "(True, False)"
      ]
     },
     "execution_count": 83,
     "metadata": {},
     "output_type": "execute_result"
    }
   ],
   "source": [
    "f('X1'),f('y1')"
   ]
  },
  {
   "cell_type": "code",
   "execution_count": 84,
   "id": "581bf044-aac9-421d-b361-3955bc504940",
   "metadata": {},
   "outputs": [
    {
     "data": {
      "text/plain": [
       "[True, False]"
      ]
     },
     "execution_count": 84,
     "metadata": {},
     "output_type": "execute_result"
    }
   ],
   "source": [
    "list(map(f,['X1','y1'])) # map"
   ]
  },
  {
   "cell_type": "code",
   "execution_count": 85,
   "id": "44ff9fe7-7e32-40b5-93bc-76819752e0ad",
   "metadata": {},
   "outputs": [
    {
     "data": {
      "text/plain": [
       "[True, False]"
      ]
     },
     "execution_count": 85,
     "metadata": {},
     "output_type": "execute_result"
    }
   ],
   "source": [
    "[f(x) for x in ['X1','y1']] # list comprehensions"
   ]
  },
  {
   "cell_type": "markdown",
   "id": "c9ea36aa-7392-416a-a0ec-d53d5dacf62e",
   "metadata": {},
   "source": [
    "- 두 개의 입력 받는 함수 pow의 map과 list comprehensions 비교"
   ]
  },
  {
   "cell_type": "code",
   "execution_count": 87,
   "id": "7566979a-92ca-40b7-954e-b5eb6db6b612",
   "metadata": {},
   "outputs": [
    {
     "data": {
      "text/plain": [
       "[16, 1024]"
      ]
     },
     "execution_count": 87,
     "metadata": {},
     "output_type": "execute_result"
    }
   ],
   "source": [
    "list(map(pow, [2,4],[4,5])) # map"
   ]
  },
  {
   "cell_type": "code",
   "execution_count": 89,
   "id": "984c17b9-6359-466a-9732-97791bac06af",
   "metadata": {},
   "outputs": [
    {
     "data": {
      "text/plain": [
       "[16, 1024]"
      ]
     },
     "execution_count": 89,
     "metadata": {},
     "output_type": "execute_result"
    }
   ],
   "source": [
    "[pow(x,y) for x,y in zip([2,4],[4,5])] # list comprehensions"
   ]
  },
  {
   "cell_type": "markdown",
   "id": "9e4652b0-a8b6-4046-868d-14bf23e08f3d",
   "metadata": {},
   "source": [
    "**두 개 이상을 입력 받는 함수를 list comprehensions에 입력하고 싶을 때 zip()으로 묶어줘야 함**"
   ]
  },
  {
   "cell_type": "markdown",
   "id": "78c2d29f-ba8f-459b-8b4b-f3b81fc9818e",
   "metadata": {},
   "source": [
    "- my example"
   ]
  },
  {
   "cell_type": "code",
   "execution_count": 90,
   "id": "167e0139-cbae-428b-8f31-373b3912307e",
   "metadata": {},
   "outputs": [],
   "source": [
    "g = []\n",
    "for i in range(5):\n",
    "    g.append(i**2)"
   ]
  },
  {
   "cell_type": "code",
   "execution_count": 91,
   "id": "d18323e8-3f3f-45ad-8253-dd23d674e222",
   "metadata": {},
   "outputs": [
    {
     "data": {
      "text/plain": [
       "[0, 1, 4, 9, 16]"
      ]
     },
     "execution_count": 91,
     "metadata": {},
     "output_type": "execute_result"
    }
   ],
   "source": [
    "g"
   ]
  },
  {
   "cell_type": "code",
   "execution_count": 93,
   "id": "4e812b53-ea0d-4719-bbaa-66b762402f1d",
   "metadata": {},
   "outputs": [
    {
     "data": {
      "text/plain": [
       "[0, 1, 4, 9, 16]"
      ]
     },
     "execution_count": 93,
     "metadata": {},
     "output_type": "execute_result"
    }
   ],
   "source": [
    "list(map(lambda x: x**2,range(5)))"
   ]
  },
  {
   "cell_type": "markdown",
   "id": "92126897-5013-49af-9fd1-b841fbb80a27",
   "metadata": {},
   "source": [
    "**list comprehensions와 비교하면 반복 index를 쓰지 않는 장점이 있지만, 더 제약적으로 사용할 수 밖에 없다.**"
   ]
  },
  {
   "cell_type": "markdown",
   "id": "904a8866-152f-4e6a-8eb5-e304542f3e19",
   "metadata": {
    "tags": []
   },
   "source": [
    "#### 열 선택"
   ]
  },
  {
   "cell_type": "markdown",
   "id": "66f615e6-1c30-4ed3-9f7b-b19e21a92261",
   "metadata": {},
   "source": [
    "- .loc is primarily label based, but may also be used with a boolean array. .loc will raise KeyError when the items are not found.\n",
    "- .iloc is primarily integer position based (from 0 to length-1 of the axis), but may also be used with a boolean array. .iloc will raise IndexError if a requested indexer is out-of-bounds, except slice indexers which allow out-of-bounds indexing. (this conforms with Python/NumPy slice semantics).\n",
    "\n",
    "ref: https://pandas.pydata.org/pandas-docs/stable/user_guide/indexing.html"
   ]
  },
  {
   "cell_type": "markdown",
   "id": "5d9d47af-e5f9-4af4-bd56-1c9bb3bb981f",
   "metadata": {},
   "source": [
    "##### 열 한 개 선택"
   ]
  },
  {
   "cell_type": "code",
   "execution_count": 17,
   "id": "ec24e6e6-2a1c-43ee-b413-1c766383756e",
   "metadata": {},
   "outputs": [
    {
     "data": {
      "text/html": [
       "<div>\n",
       "<style scoped>\n",
       "    .dataframe tbody tr th:only-of-type {\n",
       "        vertical-align: middle;\n",
       "    }\n",
       "\n",
       "    .dataframe tbody tr th {\n",
       "        vertical-align: top;\n",
       "    }\n",
       "\n",
       "    .dataframe thead th {\n",
       "        text-align: right;\n",
       "    }\n",
       "</style>\n",
       "<table border=\"1\" class=\"dataframe\">\n",
       "  <thead>\n",
       "    <tr style=\"text-align: right;\">\n",
       "      <th></th>\n",
       "      <th>X1</th>\n",
       "      <th>X2</th>\n",
       "      <th>X3</th>\n",
       "    </tr>\n",
       "  </thead>\n",
       "  <tbody>\n",
       "    <tr>\n",
       "      <th>0</th>\n",
       "      <td>1.697495</td>\n",
       "      <td>-3.032503</td>\n",
       "      <td>-0.999274</td>\n",
       "    </tr>\n",
       "    <tr>\n",
       "      <th>1</th>\n",
       "      <td>-0.225047</td>\n",
       "      <td>-1.492761</td>\n",
       "      <td>0.189800</td>\n",
       "    </tr>\n",
       "    <tr>\n",
       "      <th>2</th>\n",
       "      <td>0.418417</td>\n",
       "      <td>-0.130769</td>\n",
       "      <td>0.958274</td>\n",
       "    </tr>\n",
       "    <tr>\n",
       "      <th>3</th>\n",
       "      <td>0.817289</td>\n",
       "      <td>1.379434</td>\n",
       "      <td>0.134466</td>\n",
       "    </tr>\n",
       "    <tr>\n",
       "      <th>4</th>\n",
       "      <td>0.149122</td>\n",
       "      <td>-1.413137</td>\n",
       "      <td>-0.535361</td>\n",
       "    </tr>\n",
       "  </tbody>\n",
       "</table>\n",
       "</div>"
      ],
      "text/plain": [
       "         X1        X2        X3\n",
       "0  1.697495 -3.032503 -0.999274\n",
       "1 -0.225047 -1.492761  0.189800\n",
       "2  0.418417 -0.130769  0.958274\n",
       "3  0.817289  1.379434  0.134466\n",
       "4  0.149122 -1.413137 -0.535361"
      ]
     },
     "execution_count": 17,
     "metadata": {},
     "output_type": "execute_result"
    }
   ],
   "source": [
    "dic={'X1':np.random.normal(0,1,5),\n",
    "     'X2':np.random.normal(0,1,5),\n",
    "     'X3':np.random.normal(0,1,5)}\n",
    "df=pd.DataFrame(dic)\n",
    "df"
   ]
  },
  {
   "cell_type": "markdown",
   "id": "ef7bac38-b34f-43fa-8110-089d219176d8",
   "metadata": {},
   "source": [
    "1. 'X2' 열을 선택하고 싶을 때, 아래 각각 모두 같은 결과\n",
    "`````python\n",
    "df.X2\n",
    "df['X2'] # pandas series return\n",
    "df[['X2']] # dictionary return 마치 테이블처럼\n",
    "df.loc[:,'X2'] # 모든 행 선택, pandas series return\n",
    "df.loc[:,['X2']] # dictionary  return\n",
    "df.loc[:,[False True,False]] # 불인덱싱가능(=Boolean indexing)\n",
    "# 컴퓨터 과학에서 불리언(boolean) 자료형은 논리 자료형이라고도 하며, 참과 거짓을 나타내는 데 쓰인다\n",
    "df.iloc[:,1] # iloc = integer loction\n",
    "df.iloc[:,[1]] # iloc에서는 0이 첫번째\n",
    "df.iloc[:,[False True,False]]\n",
    "`````"
   ]
  },
  {
   "cell_type": "markdown",
   "id": "ce3c195e-807f-4496-954d-07ab000cc34e",
   "metadata": {},
   "source": [
    "- `df.X2`가 제일 편하고 단순하지만,\n",
    "  - **1은 변수 이름을 알고 있어야 한다는 단점**\n",
    "  - **1,2 모두 변수 이름에 `.`이 있거나 변수 이름에서 `공백`이 있을 경우 사용할 수 없다$\\star$**"
   ]
  },
  {
   "cell_type": "markdown",
   "id": "1c1863e5-14c3-49d3-a892-d957d136f6a8",
   "metadata": {},
   "source": [
    "- 열 이름이 integer라면?"
   ]
  },
  {
   "cell_type": "code",
   "execution_count": 20,
   "id": "7303a1fe-ae35-4a42-8b27-df24d38ecef5",
   "metadata": {},
   "outputs": [
    {
     "data": {
      "text/html": [
       "<div>\n",
       "<style scoped>\n",
       "    .dataframe tbody tr th:only-of-type {\n",
       "        vertical-align: middle;\n",
       "    }\n",
       "\n",
       "    .dataframe tbody tr th {\n",
       "        vertical-align: top;\n",
       "    }\n",
       "\n",
       "    .dataframe thead th {\n",
       "        text-align: right;\n",
       "    }\n",
       "</style>\n",
       "<table border=\"1\" class=\"dataframe\">\n",
       "  <thead>\n",
       "    <tr style=\"text-align: right;\">\n",
       "      <th></th>\n",
       "      <th>0</th>\n",
       "      <th>1</th>\n",
       "      <th>2</th>\n",
       "    </tr>\n",
       "  </thead>\n",
       "  <tbody>\n",
       "    <tr>\n",
       "      <th>0</th>\n",
       "      <td>1</td>\n",
       "      <td>2</td>\n",
       "      <td>3</td>\n",
       "    </tr>\n",
       "    <tr>\n",
       "      <th>1</th>\n",
       "      <td>3</td>\n",
       "      <td>4</td>\n",
       "      <td>5</td>\n",
       "    </tr>\n",
       "    <tr>\n",
       "      <th>2</th>\n",
       "      <td>5</td>\n",
       "      <td>6</td>\n",
       "      <td>7</td>\n",
       "    </tr>\n",
       "  </tbody>\n",
       "</table>\n",
       "</div>"
      ],
      "text/plain": [
       "   0  1  2\n",
       "0  1  2  3\n",
       "1  3  4  5\n",
       "2  5  6  7"
      ]
     },
     "execution_count": 20,
     "metadata": {},
     "output_type": "execute_result"
    }
   ],
   "source": [
    "_df = pd.DataFrame(np.array([[1,2,3],[3,4,5],[5,6,7]])) \n",
    "_df"
   ]
  },
  {
   "cell_type": "markdown",
   "id": "812bf696-9ce0-42c1-847b-1db8e7b28e64",
   "metadata": {},
   "source": [
    "2. 아래 모두 같은 결과로 '1'열을 선택함\n",
    "````python\n",
    "_df[1]\n",
    "_df[[1]]\n",
    "_df.loc[:,0]\n",
    "_df.iloc[:,0]\n",
    "_df.loc[:,[0]]\n",
    "_df.iloc[:,[0]]\n",
    "````"
   ]
  },
  {
   "cell_type": "markdown",
   "id": "10a4e192-b930-4ccd-af1a-30eb582a8d9c",
   "metadata": {},
   "source": [
    "##### 열 여러개 선택"
   ]
  },
  {
   "cell_type": "code",
   "execution_count": 23,
   "id": "b220e674-ce35-4b93-be2a-07d64f6d9d32",
   "metadata": {},
   "outputs": [
    {
     "data": {
      "text/html": [
       "<div>\n",
       "<style scoped>\n",
       "    .dataframe tbody tr th:only-of-type {\n",
       "        vertical-align: middle;\n",
       "    }\n",
       "\n",
       "    .dataframe tbody tr th {\n",
       "        vertical-align: top;\n",
       "    }\n",
       "\n",
       "    .dataframe thead th {\n",
       "        text-align: right;\n",
       "    }\n",
       "</style>\n",
       "<table border=\"1\" class=\"dataframe\">\n",
       "  <thead>\n",
       "    <tr style=\"text-align: right;\">\n",
       "      <th></th>\n",
       "      <th>X1</th>\n",
       "      <th>X2</th>\n",
       "      <th>X3</th>\n",
       "      <th>X4</th>\n",
       "    </tr>\n",
       "  </thead>\n",
       "  <tbody>\n",
       "    <tr>\n",
       "      <th>0</th>\n",
       "      <td>-1.896014</td>\n",
       "      <td>1.725614</td>\n",
       "      <td>-0.802534</td>\n",
       "      <td>-1.122817</td>\n",
       "    </tr>\n",
       "    <tr>\n",
       "      <th>1</th>\n",
       "      <td>0.746437</td>\n",
       "      <td>0.495350</td>\n",
       "      <td>-1.138017</td>\n",
       "      <td>0.947324</td>\n",
       "    </tr>\n",
       "    <tr>\n",
       "      <th>2</th>\n",
       "      <td>-0.164683</td>\n",
       "      <td>2.212696</td>\n",
       "      <td>-0.156115</td>\n",
       "      <td>0.080835</td>\n",
       "    </tr>\n",
       "    <tr>\n",
       "      <th>3</th>\n",
       "      <td>0.348194</td>\n",
       "      <td>-0.541565</td>\n",
       "      <td>1.161967</td>\n",
       "      <td>0.661712</td>\n",
       "    </tr>\n",
       "    <tr>\n",
       "      <th>4</th>\n",
       "      <td>-0.401492</td>\n",
       "      <td>-0.549708</td>\n",
       "      <td>-1.016357</td>\n",
       "      <td>-0.126648</td>\n",
       "    </tr>\n",
       "  </tbody>\n",
       "</table>\n",
       "</div>"
      ],
      "text/plain": [
       "         X1        X2        X3        X4\n",
       "0 -1.896014  1.725614 -0.802534 -1.122817\n",
       "1  0.746437  0.495350 -1.138017  0.947324\n",
       "2 -0.164683  2.212696 -0.156115  0.080835\n",
       "3  0.348194 -0.541565  1.161967  0.661712\n",
       "4 -0.401492 -0.549708 -1.016357 -0.126648"
      ]
     },
     "execution_count": 23,
     "metadata": {},
     "output_type": "execute_result"
    }
   ],
   "source": [
    "dic={'X1':np.random.normal(0,1,5),\n",
    "     'X2':np.random.normal(0,1,5),\n",
    "     'X3':np.random.normal(0,1,5),\n",
    "     'X4':np.random.normal(0,1,5)}\n",
    "df=pd.DataFrame(dic)\n",
    "df"
   ]
  },
  {
   "cell_type": "markdown",
   "id": "a3703d13-df5c-446c-be6d-2618483f8178",
   "metadata": {},
   "source": [
    "- X2~X4 선택하고 싶다면? 아래 모두 같은 결과\n",
    "`````python\n",
    "df[['X2','X3','X4']]\n",
    "df.loc[:,['X2','X3','X4']]\n",
    "df.loc[:,'X2':'X4']\n",
    "df.loc[:,[False,True, True True]]\n",
    "df.iloc[:,[1,2,3]]\n",
    "df.iloc[:,1:]\n",
    "df.iloc[:,1:3]\n",
    "df.iloc[:,range(1,3)]\n",
    "df.iloc[:,[False,True, True True]]\n",
    "`````"
   ]
  },
  {
   "cell_type": "markdown",
   "id": "e76cb66d-154b-4136-9bf3-49eba6d8e36a",
   "metadata": {},
   "source": [
    "##### 특정 조건에 맞는 열 선택"
   ]
  },
  {
   "cell_type": "code",
   "execution_count": 29,
   "id": "4a23136c-6f6c-4351-bbbf-e234fb4b8a4c",
   "metadata": {},
   "outputs": [
    {
     "data": {
      "text/plain": [
       "0                         color\n",
       "1                 director_name\n",
       "2        num_critic_for_reviews\n",
       "3                      duration\n",
       "4       director_facebook_likes\n",
       "5        actor_3_facebook_likes\n",
       "6                  actor_2_name\n",
       "7        actor_1_facebook_likes\n",
       "8                         gross\n",
       "9                        genres\n",
       "10                 actor_1_name\n",
       "11                  movie_title\n",
       "12              num_voted_users\n",
       "13    cast_total_facebook_likes\n",
       "14                 actor_3_name\n",
       "15         facenumber_in_poster\n",
       "16                plot_keywords\n",
       "17              movie_imdb_link\n",
       "18         num_user_for_reviews\n",
       "19                     language\n",
       "20                      country\n",
       "21               content_rating\n",
       "22                       budget\n",
       "23                   title_year\n",
       "24       actor_2_facebook_likes\n",
       "25                   imdb_score\n",
       "26                 aspect_ratio\n",
       "27         movie_facebook_likes\n",
       "dtype: object"
      ]
     },
     "execution_count": 29,
     "metadata": {},
     "output_type": "execute_result"
    }
   ],
   "source": [
    "df=pd.read_csv('https://raw.githubusercontent.com/PacktPublishing/Pandas-Cookbook/master/data/movie.csv')\n",
    "pd.Series(df.columns)"
   ]
  },
  {
   "cell_type": "markdown",
   "id": "d4aa56e7-78e3-4ab5-8f67-0ee832f7890c",
   "metadata": {},
   "source": [
    "- 아래 카테고리는 각각 같은 결과를 나타냄"
   ]
  },
  {
   "cell_type": "markdown",
   "id": "12fc6888-c213-46de-bda9-7f4cb2ee64f7",
   "metadata": {},
   "source": [
    "- actor 라는 단어가 포함된 열만 선택\n",
    "`````python\n",
    "df.iloc[:,list(map(lambda x: 'actor' in x,df.columns))]\n",
    "df.loc[:,list(map(lambda x: 'actor' in x, df.columns))]\n",
    "df.iloc[:,map(lambda x: 'actor' in x,df.columns)]\n",
    "df.loc[:,map(lambda x: 'actor' in x, df.columns)]\n",
    "df.loc[:,filter(lambda x: 'actor' in x, df.columns)]\n",
    "# filter는 문자열로 반환해주기 때문에 iloc은 에러가 뜬다.\n",
    "`````"
   ]
  },
  {
   "cell_type": "markdown",
   "id": "3930d426-5a78-4a23-ac9a-09f028eaa7a0",
   "metadata": {},
   "source": [
    "- actor 라는 단어가 제외된 열만 선택\n",
    "`````python\n",
    "df.iloc[:,list(map(lambda x: 'actor' not in x,df.columns))]\n",
    "df.loc[:,list(map(lambda x: 'actor' not in x, df.columns))]\n",
    "df.iloc[:,map(lambda x: 'actor' not in x,df.columns)]\n",
    "df.loc[:,map(lambda x: 'actor' not in x, df.columns)]\n",
    "df.loc[:,filter(lambda x: 'actor' not in x, df.columns)]\n",
    "`````"
   ]
  },
  {
   "cell_type": "markdown",
   "id": "a933936a-38a1-448e-a7a4-b09ac4268770",
   "metadata": {},
   "source": [
    "- 변수 이름이 s로 끝나는 변수들만 선택\n",
    "`````python\n",
    "df.iloc[:,map(lambda x: 's' ==x[-1],df.columns)]\n",
    "df.loc[:,map(lambda x: 's' ==x[-1],df.columns)]\n",
    "`````"
   ]
  },
  {
   "cell_type": "markdown",
   "id": "62614e3f-0c6d-41ea-b931-fcf29b89ae9c",
   "metadata": {},
   "source": [
    "- 변수 이름이 a로 시작하지 않는 변수들만 선택\n",
    "`````python\n",
    "df.iloc[:,map(lambda x: 'a' != x[0],df.columns)]\n",
    "df.loc[:,map(lambda x: 'a' != x[0],df.columns)]\n",
    "`````"
   ]
  },
  {
   "cell_type": "markdown",
   "id": "e48c0df7-d2b4-4149-9b1a-3f8cff657dd9",
   "metadata": {},
   "source": [
    "- 변수 이름이 c 혹은 d로 시작하는 변수들만 선택\n",
    "`````python\n",
    "df.iloc[:,map(lambda x: 'c'==x[0] or 'd'==x[0],df.columns)]\n",
    "df.loc[:,map(lambda x: 'c'==x[0] or 'd'==x[0],df.columns)]\n",
    "`````"
   ]
  },
  {
   "cell_type": "code",
   "execution_count": null,
   "id": "cf94df39-9b5b-4fe9-a431-39230f845bf6",
   "metadata": {},
   "outputs": [],
   "source": []
  },
  {
   "cell_type": "code",
   "execution_count": null,
   "id": "ae44e6ff-62f1-4e8b-a6c2-9f3f93f638f1",
   "metadata": {},
   "outputs": [],
   "source": []
  },
  {
   "cell_type": "code",
   "execution_count": null,
   "id": "0f4241a0-9151-4aa5-8452-2f8a773bd8f2",
   "metadata": {},
   "outputs": [],
   "source": []
  },
  {
   "cell_type": "code",
   "execution_count": null,
   "id": "17eb7efa-dc46-467f-93ed-7a06bb440d56",
   "metadata": {},
   "outputs": [],
   "source": []
  }
 ],
 "metadata": {
  "kernelspec": {
   "display_name": "Python 3",
   "language": "python",
   "name": "python3"
  },
  "language_info": {
   "codemirror_mode": {
    "name": "ipython",
    "version": 3
   },
   "file_extension": ".py",
   "mimetype": "text/x-python",
   "name": "python",
   "nbconvert_exporter": "python",
   "pygments_lexer": "ipython3",
   "version": "3.8.12"
  }
 },
 "nbformat": 4,
 "nbformat_minor": 5
}
