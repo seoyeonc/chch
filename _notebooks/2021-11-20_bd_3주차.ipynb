{
 "cells": [
  {
   "cell_type": "markdown",
   "id": "40598648-b0e4-4c5b-a1e3-6e1cbbf78e93",
   "metadata": {},
   "source": [
    "# 빅데이터 분석 (3주차) 9월28일\n",
    "> 파이토치를 이용하여 회귀모형 학습하기 (2) \n",
    "\n",
    "- toc:true\n",
    "- branch: master\n",
    "- badges: true\n",
    "- comments: false\n",
    "- author: 최서연\n",
    "- tags: 빅데이터분석"
   ]
  },
  {
   "cell_type": "code",
   "execution_count": 120,
   "id": "aeb86adc-5729-4cff-a56f-25bcc59b9ede",
   "metadata": {},
   "outputs": [],
   "source": [
    "import torch\n",
    "import numpy as np"
   ]
  },
  {
   "cell_type": "markdown",
   "id": "65d7cf27-3918-414e-a64e-7a8686bca2e2",
   "metadata": {
    "id": "840ba289-b5b4-414c-9faa-dc845b317f96",
    "tags": []
   },
   "source": [
    "### Data"
   ]
  },
  {
   "cell_type": "markdown",
   "id": "1121b033-a556-4016-8541-ff9ab916f177",
   "metadata": {
    "id": "15f0909c-4dde-43b5-9a5c-d86d45398612"
   },
   "source": [
    "`-` model: $y_i= w_0+w_1 x_i +\\epsilon_i = 2.5 + 4x_i +\\epsilon_i, \\quad i=1,2,\\dots,n$ "
   ]
  },
  {
   "cell_type": "markdown",
   "id": "2953dbf0-e391-40f5-8610-654d65dbacc0",
   "metadata": {
    "id": "45944f02-ac5e-4d5c-bfae-9e4a9533d54b"
   },
   "source": [
    "`-` model: ${\\bf y}={\\bf X}{\\bf W} +\\boldsymbol{\\epsilon}$"
   ]
  },
  {
   "cell_type": "markdown",
   "id": "efe58a78-b13e-400a-be75-72de71569b52",
   "metadata": {
    "id": "fde38ecb-fd61-4cf2-9fd5-25f57b79342c"
   },
   "source": [
    "${\\bf y}=\\begin{bmatrix} y_1 \\\\ y_2 \\\\ \\dots \\\\ y_n\\end{bmatrix}, \\quad {\\bf X}=\\begin{bmatrix} 1 & x_1 \\\\ 1 & x_2 \\\\ \\dots \\\\ 1 & x_n\\end{bmatrix}, \\quad {\\bf W}=\\begin{bmatrix} 2.5 \\\\ 4 \\end{bmatrix}, \\quad \\boldsymbol{\\epsilon}= \\begin{bmatrix} \\epsilon_1 \\\\ \\dots \\\\ \\epsilon_n\\end{bmatrix}$"
   ]
  },
  {
   "cell_type": "code",
   "execution_count": 121,
   "id": "5577e491-e0d1-4506-b0a9-86a7d2f0b03c",
   "metadata": {},
   "outputs": [],
   "source": [
    "torch.manual_seed(202150754)\n",
    "n=100\n",
    "ones=torch.ones(n)\n",
    "x,_=torch.randn(n).sort()\n",
    "X=torch.vstack([ones,x]).T\n",
    "W=torch.tensor([2.5,4])\n",
    "ϵ=torch.randn(n)*0.4\n",
    "y=X@W+ϵ\n",
    "ytrue = X@W"
   ]
  },
  {
   "cell_type": "markdown",
   "id": "c5683519-54e1-493f-9bb6-2f6179912324",
   "metadata": {},
   "source": [
    "`-` 지난 시간에 했던 for문을 보고 step 찾기\n",
    "`````python\n",
    "What= torch.tensor([-5.0,10.0],requires_grad=True)\n",
    "for epoc in range(30): \n",
    "    Whats=Whats+[What.data.tolist()] \n",
    "    What.grad=None\n",
    "    yhat=X@What # yhat을 계산하는 공식을 알고 있거나, 과정이 필요\n",
    "    yhats=yhats+[yhat.data.tolist()]\n",
    "    loss=torch.sum((y-yhat)**2) # loss정의하는 과정이 필요!\n",
    "    losses = losses + [loss.item()]\n",
    "    loss.backward() # 미분을 하는 과정이 필요\n",
    "    What.data = What.data-alpha * What.grad.data # 미분한 값을 가지고 업데이트를 하는 과정\n",
    "`````"
   ]
  },
  {
   "cell_type": "markdown",
   "id": "ca9f8322-662f-4282-b5ab-bc316cb51148",
   "metadata": {
    "id": "5407e158-506b-4f25-aefd-983bbd7e923f"
   },
   "source": [
    "### 이전방법요약 "
   ]
  },
  {
   "cell_type": "markdown",
   "id": "bc363cc2-56c4-4d33-b8d7-d08b5a8c7321",
   "metadata": {
    "id": "6019294b-3565-4405-9d99-4745b7f9ac66"
   },
   "source": [
    "`-` step1: yhat \n",
    "\n",
    "`-` step2: loss \n",
    "\n",
    "`-` step3: derivation \n",
    "\n",
    "`-` step4: update "
   ]
  },
  {
   "cell_type": "markdown",
   "id": "d61d3df9-4e18-4918-9c26-a11a85951525",
   "metadata": {
    "id": "9f61f9bf-e6fd-478a-9bbb-cfae4f24a6ac"
   },
   "source": [
    "### step1: yhat"
   ]
  },
  {
   "cell_type": "markdown",
   "id": "0bf644b9-c423-467e-83f0-a500e72b5e24",
   "metadata": {
    "id": "0d04d243-7ed2-41bc-86ae-80c75c2055d5"
   },
   "source": [
    "`-` feedforward 신경망을 설계하는 과정(딥러닝 용어!)\n",
    "\n",
    "   - 입력층으로 데이터가 입력되고, 1개 이상으로 구성되는 은닉 층을 거쳐서 마지막에 있는 출력 층으로 출력 값을 내보내는 과정.\n",
    "   - 이전 틍에서 나온 출력 값이, 층과 층 사이에 적용되는 가중치 영향을 받은 다음 다음 층의 입력 값으로 들어가는 것\n",
    "\n",
    "`-` 이 단계가 잘 완료되었다면, 임의의 ${\\bf\\hat{W}}$을 넣었을 때 $\\bf\\hat{y}$를 계산할 수 있어야 함 "
   ]
  },
  {
   "cell_type": "markdown",
   "id": "d0321f79-d244-4353-87eb-388dbc3c40e7",
   "metadata": {
    "id": "17f9f2d2-7e8b-4553-87ab-334130712f4a"
   },
   "source": [
    "#### 방법1: 직접선언_직접 곱하는 것 (내가 공식을 알고 있어야 한다)"
   ]
  },
  {
   "cell_type": "markdown",
   "id": "70048bbb-72f7-4f85-8f89-18d231b64fac",
   "metadata": {},
   "source": [
    "`-` model: ${\\bf y}={\\bf X}{\\bf W} +\\boldsymbol{\\epsilon}$"
   ]
  },
  {
   "cell_type": "code",
   "execution_count": 122,
   "id": "6a666bd4-c4dd-4159-bc15-90ad478da31e",
   "metadata": {},
   "outputs": [],
   "source": [
    "What=torch.tensor([-5.0,10.0],requires_grad=True)"
   ]
  },
  {
   "cell_type": "code",
   "execution_count": 123,
   "id": "3b37931b-b635-4528-b5a3-aa45678f3410",
   "metadata": {},
   "outputs": [],
   "source": [
    "yhat1=X@What"
   ]
  },
  {
   "cell_type": "code",
   "execution_count": 124,
   "id": "66b3ff92-2493-4230-9c33-bb15ce50470c",
   "metadata": {},
   "outputs": [
    {
     "data": {
      "text/plain": [
       "tensor([-27.9716, -26.0391, -25.8951, -24.1830, -23.6405, -23.1161, -22.0441,\n",
       "        -21.9913, -21.4959, -21.2860, -20.4771, -19.6991, -19.1434, -18.0758,\n",
       "        -17.5390, -17.4888, -16.8212, -16.6630, -16.2503, -14.3326, -13.8527,\n",
       "        -13.6397, -13.5228, -13.2096, -12.8514, -12.8461, -12.7527, -12.2431,\n",
       "        -12.0267, -11.7990, -11.6495, -11.5587, -11.5497, -11.1709, -10.9643,\n",
       "        -10.7969, -10.7696, -10.7324, -10.6567, -10.4404, -10.1049,  -9.9527,\n",
       "         -9.7916,  -9.3899,  -9.2762,  -8.2773,  -8.0850,  -7.9550,  -7.8498,\n",
       "         -7.7767,  -7.6419,  -7.2295,  -7.1686,  -6.9773,  -6.9454,  -6.6435,\n",
       "         -5.6597,  -5.5200,  -5.4562,  -5.3640,  -4.9588,  -4.9111,  -4.5447,\n",
       "         -3.9894,  -3.6367,  -3.0762,  -2.4928,  -2.4512,  -2.1695,  -2.0062,\n",
       "         -1.7060,   0.1909,   0.5915,   0.9467,   1.3453,   1.4359,   2.0752,\n",
       "          2.4723,   2.5368,   2.7189,   2.7902,   2.8337,   3.2249,   3.7238,\n",
       "          3.8636,   3.9170,   3.9852,   5.0601,   5.7496,   6.0569,   7.0621,\n",
       "          7.2674,   7.6805,   7.9669,   8.4266,   9.6044,   9.6791,  10.7418,\n",
       "         12.6324,  18.9507], grad_fn=<MvBackward0>)"
      ]
     },
     "execution_count": 124,
     "metadata": {},
     "output_type": "execute_result"
    }
   ],
   "source": [
    "yhat1"
   ]
  },
  {
   "cell_type": "markdown",
   "id": "63d2fec3-0629-41c5-b014-659de1b3f3e2",
   "metadata": {
    "id": "533b9265-f530-4e00-bb0e-2be6ee209681",
    "tags": []
   },
   "source": [
    "#### 방법2: torch.nn.Linear() 사용_우리가 주로 사용할 방법_Neural Network"
   ]
  },
  {
   "cell_type": "markdown",
   "id": "890e14d3-ff4d-47c6-9c09-061759072853",
   "metadata": {},
   "source": [
    "? 두 번 입력하면 코드까지 다나온다~~"
   ]
  },
  {
   "cell_type": "code",
   "execution_count": 125,
   "id": "603bb450-4c77-4187-be33-2d06702259fa",
   "metadata": {},
   "outputs": [
    {
     "data": {
      "text/plain": [
       "\u001b[0;31mInit signature:\u001b[0m\n",
       "\u001b[0mtorch\u001b[0m\u001b[0;34m.\u001b[0m\u001b[0mnn\u001b[0m\u001b[0;34m.\u001b[0m\u001b[0mLinear\u001b[0m\u001b[0;34m(\u001b[0m\u001b[0;34m\u001b[0m\n",
       "\u001b[0;34m\u001b[0m    \u001b[0min_features\u001b[0m\u001b[0;34m:\u001b[0m \u001b[0mint\u001b[0m\u001b[0;34m,\u001b[0m\u001b[0;34m\u001b[0m\n",
       "\u001b[0;34m\u001b[0m    \u001b[0mout_features\u001b[0m\u001b[0;34m:\u001b[0m \u001b[0mint\u001b[0m\u001b[0;34m,\u001b[0m\u001b[0;34m\u001b[0m\n",
       "\u001b[0;34m\u001b[0m    \u001b[0mbias\u001b[0m\u001b[0;34m:\u001b[0m \u001b[0mbool\u001b[0m \u001b[0;34m=\u001b[0m \u001b[0;32mTrue\u001b[0m\u001b[0;34m,\u001b[0m\u001b[0;34m\u001b[0m\n",
       "\u001b[0;34m\u001b[0m    \u001b[0mdevice\u001b[0m\u001b[0;34m=\u001b[0m\u001b[0;32mNone\u001b[0m\u001b[0;34m,\u001b[0m\u001b[0;34m\u001b[0m\n",
       "\u001b[0;34m\u001b[0m    \u001b[0mdtype\u001b[0m\u001b[0;34m=\u001b[0m\u001b[0;32mNone\u001b[0m\u001b[0;34m,\u001b[0m\u001b[0;34m\u001b[0m\n",
       "\u001b[0;34m\u001b[0m\u001b[0;34m)\u001b[0m \u001b[0;34m->\u001b[0m \u001b[0;32mNone\u001b[0m\u001b[0;34m\u001b[0m\u001b[0;34m\u001b[0m\u001b[0m\n",
       "\u001b[0;31mSource:\u001b[0m        \n",
       "\u001b[0;32mclass\u001b[0m \u001b[0mLinear\u001b[0m\u001b[0;34m(\u001b[0m\u001b[0mModule\u001b[0m\u001b[0;34m)\u001b[0m\u001b[0;34m:\u001b[0m\u001b[0;34m\u001b[0m\n",
       "\u001b[0;34m\u001b[0m    \u001b[0;34mr\"\"\"Applies a linear transformation to the incoming data: :math:`y = xA^T + b`\u001b[0m\n",
       "\u001b[0;34m\u001b[0m\n",
       "\u001b[0;34m    This module supports :ref:`TensorFloat32<tf32_on_ampere>`.\u001b[0m\n",
       "\u001b[0;34m\u001b[0m\n",
       "\u001b[0;34m    Args:\u001b[0m\n",
       "\u001b[0;34m        in_features: size of each input sample\u001b[0m\n",
       "\u001b[0;34m        out_features: size of each output sample\u001b[0m\n",
       "\u001b[0;34m        bias: If set to ``False``, the layer will not learn an additive bias.\u001b[0m\n",
       "\u001b[0;34m            Default: ``True``\u001b[0m\n",
       "\u001b[0;34m\u001b[0m\n",
       "\u001b[0;34m    Shape:\u001b[0m\n",
       "\u001b[0;34m        - Input: :math:`(*, H_{in})` where :math:`*` means any number of\u001b[0m\n",
       "\u001b[0;34m          dimensions including none and :math:`H_{in} = \\text{in\\_features}`.\u001b[0m\n",
       "\u001b[0;34m        - Output: :math:`(*, H_{out})` where all but the last dimension\u001b[0m\n",
       "\u001b[0;34m          are the same shape as the input and :math:`H_{out} = \\text{out\\_features}`.\u001b[0m\n",
       "\u001b[0;34m\u001b[0m\n",
       "\u001b[0;34m    Attributes:\u001b[0m\n",
       "\u001b[0;34m        weight: the learnable weights of the module of shape\u001b[0m\n",
       "\u001b[0;34m            :math:`(\\text{out\\_features}, \\text{in\\_features})`. The values are\u001b[0m\n",
       "\u001b[0;34m            initialized from :math:`\\mathcal{U}(-\\sqrt{k}, \\sqrt{k})`, where\u001b[0m\n",
       "\u001b[0;34m            :math:`k = \\frac{1}{\\text{in\\_features}}`\u001b[0m\n",
       "\u001b[0;34m        bias:   the learnable bias of the module of shape :math:`(\\text{out\\_features})`.\u001b[0m\n",
       "\u001b[0;34m                If :attr:`bias` is ``True``, the values are initialized from\u001b[0m\n",
       "\u001b[0;34m                :math:`\\mathcal{U}(-\\sqrt{k}, \\sqrt{k})` where\u001b[0m\n",
       "\u001b[0;34m                :math:`k = \\frac{1}{\\text{in\\_features}}`\u001b[0m\n",
       "\u001b[0;34m\u001b[0m\n",
       "\u001b[0;34m    Examples::\u001b[0m\n",
       "\u001b[0;34m\u001b[0m\n",
       "\u001b[0;34m        >>> m = nn.Linear(20, 30)\u001b[0m\n",
       "\u001b[0;34m        >>> input = torch.randn(128, 20)\u001b[0m\n",
       "\u001b[0;34m        >>> output = m(input)\u001b[0m\n",
       "\u001b[0;34m        >>> print(output.size())\u001b[0m\n",
       "\u001b[0;34m        torch.Size([128, 30])\u001b[0m\n",
       "\u001b[0;34m    \"\"\"\u001b[0m\u001b[0;34m\u001b[0m\n",
       "\u001b[0;34m\u001b[0m    \u001b[0m__constants__\u001b[0m \u001b[0;34m=\u001b[0m \u001b[0;34m[\u001b[0m\u001b[0;34m'in_features'\u001b[0m\u001b[0;34m,\u001b[0m \u001b[0;34m'out_features'\u001b[0m\u001b[0;34m]\u001b[0m\u001b[0;34m\u001b[0m\n",
       "\u001b[0;34m\u001b[0m    \u001b[0min_features\u001b[0m\u001b[0;34m:\u001b[0m \u001b[0mint\u001b[0m\u001b[0;34m\u001b[0m\n",
       "\u001b[0;34m\u001b[0m    \u001b[0mout_features\u001b[0m\u001b[0;34m:\u001b[0m \u001b[0mint\u001b[0m\u001b[0;34m\u001b[0m\n",
       "\u001b[0;34m\u001b[0m    \u001b[0mweight\u001b[0m\u001b[0;34m:\u001b[0m \u001b[0mTensor\u001b[0m\u001b[0;34m\u001b[0m\n",
       "\u001b[0;34m\u001b[0m\u001b[0;34m\u001b[0m\n",
       "\u001b[0;34m\u001b[0m    \u001b[0;32mdef\u001b[0m \u001b[0m__init__\u001b[0m\u001b[0;34m(\u001b[0m\u001b[0mself\u001b[0m\u001b[0;34m,\u001b[0m \u001b[0min_features\u001b[0m\u001b[0;34m:\u001b[0m \u001b[0mint\u001b[0m\u001b[0;34m,\u001b[0m \u001b[0mout_features\u001b[0m\u001b[0;34m:\u001b[0m \u001b[0mint\u001b[0m\u001b[0;34m,\u001b[0m \u001b[0mbias\u001b[0m\u001b[0;34m:\u001b[0m \u001b[0mbool\u001b[0m \u001b[0;34m=\u001b[0m \u001b[0;32mTrue\u001b[0m\u001b[0;34m,\u001b[0m\u001b[0;34m\u001b[0m\n",
       "\u001b[0;34m\u001b[0m                 \u001b[0mdevice\u001b[0m\u001b[0;34m=\u001b[0m\u001b[0;32mNone\u001b[0m\u001b[0;34m,\u001b[0m \u001b[0mdtype\u001b[0m\u001b[0;34m=\u001b[0m\u001b[0;32mNone\u001b[0m\u001b[0;34m)\u001b[0m \u001b[0;34m->\u001b[0m \u001b[0;32mNone\u001b[0m\u001b[0;34m:\u001b[0m\u001b[0;34m\u001b[0m\n",
       "\u001b[0;34m\u001b[0m        \u001b[0mfactory_kwargs\u001b[0m \u001b[0;34m=\u001b[0m \u001b[0;34m{\u001b[0m\u001b[0;34m'device'\u001b[0m\u001b[0;34m:\u001b[0m \u001b[0mdevice\u001b[0m\u001b[0;34m,\u001b[0m \u001b[0;34m'dtype'\u001b[0m\u001b[0;34m:\u001b[0m \u001b[0mdtype\u001b[0m\u001b[0;34m}\u001b[0m\u001b[0;34m\u001b[0m\n",
       "\u001b[0;34m\u001b[0m        \u001b[0msuper\u001b[0m\u001b[0;34m(\u001b[0m\u001b[0mLinear\u001b[0m\u001b[0;34m,\u001b[0m \u001b[0mself\u001b[0m\u001b[0;34m)\u001b[0m\u001b[0;34m.\u001b[0m\u001b[0m__init__\u001b[0m\u001b[0;34m(\u001b[0m\u001b[0;34m)\u001b[0m\u001b[0;34m\u001b[0m\n",
       "\u001b[0;34m\u001b[0m        \u001b[0mself\u001b[0m\u001b[0;34m.\u001b[0m\u001b[0min_features\u001b[0m \u001b[0;34m=\u001b[0m \u001b[0min_features\u001b[0m\u001b[0;34m\u001b[0m\n",
       "\u001b[0;34m\u001b[0m        \u001b[0mself\u001b[0m\u001b[0;34m.\u001b[0m\u001b[0mout_features\u001b[0m \u001b[0;34m=\u001b[0m \u001b[0mout_features\u001b[0m\u001b[0;34m\u001b[0m\n",
       "\u001b[0;34m\u001b[0m        \u001b[0mself\u001b[0m\u001b[0;34m.\u001b[0m\u001b[0mweight\u001b[0m \u001b[0;34m=\u001b[0m \u001b[0mParameter\u001b[0m\u001b[0;34m(\u001b[0m\u001b[0mtorch\u001b[0m\u001b[0;34m.\u001b[0m\u001b[0mempty\u001b[0m\u001b[0;34m(\u001b[0m\u001b[0;34m(\u001b[0m\u001b[0mout_features\u001b[0m\u001b[0;34m,\u001b[0m \u001b[0min_features\u001b[0m\u001b[0;34m)\u001b[0m\u001b[0;34m,\u001b[0m \u001b[0;34m**\u001b[0m\u001b[0mfactory_kwargs\u001b[0m\u001b[0;34m)\u001b[0m\u001b[0;34m)\u001b[0m\u001b[0;34m\u001b[0m\n",
       "\u001b[0;34m\u001b[0m        \u001b[0;32mif\u001b[0m \u001b[0mbias\u001b[0m\u001b[0;34m:\u001b[0m\u001b[0;34m\u001b[0m\n",
       "\u001b[0;34m\u001b[0m            \u001b[0mself\u001b[0m\u001b[0;34m.\u001b[0m\u001b[0mbias\u001b[0m \u001b[0;34m=\u001b[0m \u001b[0mParameter\u001b[0m\u001b[0;34m(\u001b[0m\u001b[0mtorch\u001b[0m\u001b[0;34m.\u001b[0m\u001b[0mempty\u001b[0m\u001b[0;34m(\u001b[0m\u001b[0mout_features\u001b[0m\u001b[0;34m,\u001b[0m \u001b[0;34m**\u001b[0m\u001b[0mfactory_kwargs\u001b[0m\u001b[0;34m)\u001b[0m\u001b[0;34m)\u001b[0m\u001b[0;34m\u001b[0m\n",
       "\u001b[0;34m\u001b[0m        \u001b[0;32melse\u001b[0m\u001b[0;34m:\u001b[0m\u001b[0;34m\u001b[0m\n",
       "\u001b[0;34m\u001b[0m            \u001b[0mself\u001b[0m\u001b[0;34m.\u001b[0m\u001b[0mregister_parameter\u001b[0m\u001b[0;34m(\u001b[0m\u001b[0;34m'bias'\u001b[0m\u001b[0;34m,\u001b[0m \u001b[0;32mNone\u001b[0m\u001b[0;34m)\u001b[0m\u001b[0;34m\u001b[0m\n",
       "\u001b[0;34m\u001b[0m        \u001b[0mself\u001b[0m\u001b[0;34m.\u001b[0m\u001b[0mreset_parameters\u001b[0m\u001b[0;34m(\u001b[0m\u001b[0;34m)\u001b[0m\u001b[0;34m\u001b[0m\n",
       "\u001b[0;34m\u001b[0m\u001b[0;34m\u001b[0m\n",
       "\u001b[0;34m\u001b[0m    \u001b[0;32mdef\u001b[0m \u001b[0mreset_parameters\u001b[0m\u001b[0;34m(\u001b[0m\u001b[0mself\u001b[0m\u001b[0;34m)\u001b[0m \u001b[0;34m->\u001b[0m \u001b[0;32mNone\u001b[0m\u001b[0;34m:\u001b[0m\u001b[0;34m\u001b[0m\n",
       "\u001b[0;34m\u001b[0m        \u001b[0;31m# Setting a=sqrt(5) in kaiming_uniform is the same as initializing with\u001b[0m\u001b[0;34m\u001b[0m\n",
       "\u001b[0;34m\u001b[0m        \u001b[0;31m# uniform(-1/sqrt(in_features), 1/sqrt(in_features)). For details, see\u001b[0m\u001b[0;34m\u001b[0m\n",
       "\u001b[0;34m\u001b[0m        \u001b[0;31m# https://github.com/pytorch/pytorch/issues/57109\u001b[0m\u001b[0;34m\u001b[0m\n",
       "\u001b[0;34m\u001b[0m        \u001b[0minit\u001b[0m\u001b[0;34m.\u001b[0m\u001b[0mkaiming_uniform_\u001b[0m\u001b[0;34m(\u001b[0m\u001b[0mself\u001b[0m\u001b[0;34m.\u001b[0m\u001b[0mweight\u001b[0m\u001b[0;34m,\u001b[0m \u001b[0ma\u001b[0m\u001b[0;34m=\u001b[0m\u001b[0mmath\u001b[0m\u001b[0;34m.\u001b[0m\u001b[0msqrt\u001b[0m\u001b[0;34m(\u001b[0m\u001b[0;36m5\u001b[0m\u001b[0;34m)\u001b[0m\u001b[0;34m)\u001b[0m\u001b[0;34m\u001b[0m\n",
       "\u001b[0;34m\u001b[0m        \u001b[0;32mif\u001b[0m \u001b[0mself\u001b[0m\u001b[0;34m.\u001b[0m\u001b[0mbias\u001b[0m \u001b[0;32mis\u001b[0m \u001b[0;32mnot\u001b[0m \u001b[0;32mNone\u001b[0m\u001b[0;34m:\u001b[0m\u001b[0;34m\u001b[0m\n",
       "\u001b[0;34m\u001b[0m            \u001b[0mfan_in\u001b[0m\u001b[0;34m,\u001b[0m \u001b[0m_\u001b[0m \u001b[0;34m=\u001b[0m \u001b[0minit\u001b[0m\u001b[0;34m.\u001b[0m\u001b[0m_calculate_fan_in_and_fan_out\u001b[0m\u001b[0;34m(\u001b[0m\u001b[0mself\u001b[0m\u001b[0;34m.\u001b[0m\u001b[0mweight\u001b[0m\u001b[0;34m)\u001b[0m\u001b[0;34m\u001b[0m\n",
       "\u001b[0;34m\u001b[0m            \u001b[0mbound\u001b[0m \u001b[0;34m=\u001b[0m \u001b[0;36m1\u001b[0m \u001b[0;34m/\u001b[0m \u001b[0mmath\u001b[0m\u001b[0;34m.\u001b[0m\u001b[0msqrt\u001b[0m\u001b[0;34m(\u001b[0m\u001b[0mfan_in\u001b[0m\u001b[0;34m)\u001b[0m \u001b[0;32mif\u001b[0m \u001b[0mfan_in\u001b[0m \u001b[0;34m>\u001b[0m \u001b[0;36m0\u001b[0m \u001b[0;32melse\u001b[0m \u001b[0;36m0\u001b[0m\u001b[0;34m\u001b[0m\n",
       "\u001b[0;34m\u001b[0m            \u001b[0minit\u001b[0m\u001b[0;34m.\u001b[0m\u001b[0muniform_\u001b[0m\u001b[0;34m(\u001b[0m\u001b[0mself\u001b[0m\u001b[0;34m.\u001b[0m\u001b[0mbias\u001b[0m\u001b[0;34m,\u001b[0m \u001b[0;34m-\u001b[0m\u001b[0mbound\u001b[0m\u001b[0;34m,\u001b[0m \u001b[0mbound\u001b[0m\u001b[0;34m)\u001b[0m\u001b[0;34m\u001b[0m\n",
       "\u001b[0;34m\u001b[0m\u001b[0;34m\u001b[0m\n",
       "\u001b[0;34m\u001b[0m    \u001b[0;32mdef\u001b[0m \u001b[0mforward\u001b[0m\u001b[0;34m(\u001b[0m\u001b[0mself\u001b[0m\u001b[0;34m,\u001b[0m \u001b[0minput\u001b[0m\u001b[0;34m:\u001b[0m \u001b[0mTensor\u001b[0m\u001b[0;34m)\u001b[0m \u001b[0;34m->\u001b[0m \u001b[0mTensor\u001b[0m\u001b[0;34m:\u001b[0m\u001b[0;34m\u001b[0m\n",
       "\u001b[0;34m\u001b[0m        \u001b[0;32mreturn\u001b[0m \u001b[0mF\u001b[0m\u001b[0;34m.\u001b[0m\u001b[0mlinear\u001b[0m\u001b[0;34m(\u001b[0m\u001b[0minput\u001b[0m\u001b[0;34m,\u001b[0m \u001b[0mself\u001b[0m\u001b[0;34m.\u001b[0m\u001b[0mweight\u001b[0m\u001b[0;34m,\u001b[0m \u001b[0mself\u001b[0m\u001b[0;34m.\u001b[0m\u001b[0mbias\u001b[0m\u001b[0;34m)\u001b[0m\u001b[0;34m\u001b[0m\n",
       "\u001b[0;34m\u001b[0m\u001b[0;34m\u001b[0m\n",
       "\u001b[0;34m\u001b[0m    \u001b[0;32mdef\u001b[0m \u001b[0mextra_repr\u001b[0m\u001b[0;34m(\u001b[0m\u001b[0mself\u001b[0m\u001b[0;34m)\u001b[0m \u001b[0;34m->\u001b[0m \u001b[0mstr\u001b[0m\u001b[0;34m:\u001b[0m\u001b[0;34m\u001b[0m\n",
       "\u001b[0;34m\u001b[0m        \u001b[0;32mreturn\u001b[0m \u001b[0;34m'in_features={}, out_features={}, bias={}'\u001b[0m\u001b[0;34m.\u001b[0m\u001b[0mformat\u001b[0m\u001b[0;34m(\u001b[0m\u001b[0;34m\u001b[0m\n",
       "\u001b[0;34m\u001b[0m            \u001b[0mself\u001b[0m\u001b[0;34m.\u001b[0m\u001b[0min_features\u001b[0m\u001b[0;34m,\u001b[0m \u001b[0mself\u001b[0m\u001b[0;34m.\u001b[0m\u001b[0mout_features\u001b[0m\u001b[0;34m,\u001b[0m \u001b[0mself\u001b[0m\u001b[0;34m.\u001b[0m\u001b[0mbias\u001b[0m \u001b[0;32mis\u001b[0m \u001b[0;32mnot\u001b[0m \u001b[0;32mNone\u001b[0m\u001b[0;34m\u001b[0m\n",
       "\u001b[0;34m\u001b[0m        \u001b[0;34m)\u001b[0m\u001b[0;34m\u001b[0m\u001b[0;34m\u001b[0m\u001b[0m\n",
       "\u001b[0;31mFile:\u001b[0m           ~/anaconda3/envs/csy/lib/python3.8/site-packages/torch/nn/modules/linear.py\n",
       "\u001b[0;31mType:\u001b[0m           type\n",
       "\u001b[0;31mSubclasses:\u001b[0m     NonDynamicallyQuantizableLinear, LazyLinear, Linear, Linear\n"
      ]
     },
     "metadata": {},
     "output_type": "display_data"
    }
   ],
   "source": [
    "torch.nn.Linear??"
   ]
  },
  {
   "cell_type": "markdown",
   "id": "d543fda9-4c00-4069-b16e-2a4df03e9102",
   "metadata": {},
   "source": [
    "- ${\\bf y}=\\begin{bmatrix} y_1 \\\\ y_2 \\\\ \\dots \\\\ y_n\\end{bmatrix}, \\quad {\\bf X}=\\begin{bmatrix} 1 & x_1 \\\\ 1 & x_2 \\\\ \\dots \\\\ 1 & x_n\\end{bmatrix}, \\quad {\\bf W}=\\begin{bmatrix} 2.5 \\\\ 4 \\end{bmatrix}, \\quad \\boldsymbol{\\epsilon}= \\begin{bmatrix} \\epsilon_1 \\\\ \\dots \\\\ \\epsilon_n\\end{bmatrix}$"
   ]
  },
  {
   "cell_type": "code",
   "execution_count": 126,
   "id": "6045f126-b1f9-4eee-98e9-8d19adec8918",
   "metadata": {},
   "outputs": [],
   "source": [
    "net=torch.nn.Linear(in_features=2,out_features=1,bias=False) "
   ]
  },
  {
   "cell_type": "markdown",
   "id": "b25c69c4-9058-406e-a509-9f6fb0eb6c17",
   "metadata": {},
   "source": [
    "- in_features – size of each input sample\n",
    "- out_features – size of each output sample\n",
    "- bias – If set to False, the layer will not learn an additive bias. Default: True"
   ]
  },
  {
   "cell_type": "markdown",
   "id": "a71e8089-dc21-4692-88d1-37aabbb17846",
   "metadata": {},
   "source": [
    "- Linear라는 클래스를 사용하여, in_features입력차원이자 $X(1,x_i)$라서 2, out_features출력차원이자 $y_{hat}$라서 1\n",
    "- bias가 False 인 이유는 $X(1,x_i)$에서 1이 bias의 역할을 하고 있기 때문에 필요가 없어서"
   ]
  },
  {
   "cell_type": "code",
   "execution_count": 127,
   "id": "17424a27-6cc8-4cdb-9561-4d42a4a4247e",
   "metadata": {},
   "outputs": [
    {
     "data": {
      "text/plain": [
       "tensor([[-0.1629,  0.6929]])"
      ]
     },
     "execution_count": 127,
     "metadata": {},
     "output_type": "execute_result"
    }
   ],
   "source": [
    "net.weight.data # 우리가 원하는 입력값이 아니야"
   ]
  },
  {
   "cell_type": "code",
   "execution_count": 128,
   "id": "b1bbce9a-883e-4602-9af6-86fe614ffcaa",
   "metadata": {},
   "outputs": [],
   "source": [
    "net.weight.data=torch.tensor([[-5.0,10.0]])"
   ]
  },
  {
   "cell_type": "code",
   "execution_count": 129,
   "id": "976a1ead-f7af-4abe-a09d-bc2f6cfbff57",
   "metadata": {},
   "outputs": [
    {
     "data": {
      "text/plain": [
       "tensor([[-5., 10.]])"
      ]
     },
     "execution_count": 129,
     "metadata": {},
     "output_type": "execute_result"
    }
   ],
   "source": [
    "net.weight.data"
   ]
  },
  {
   "cell_type": "code",
   "execution_count": 130,
   "id": "19452030-6552-4c6f-bc88-8c10ac868328",
   "metadata": {},
   "outputs": [
    {
     "data": {
      "text/plain": [
       "tensor([[-27.9716],\n",
       "        [-26.0391],\n",
       "        [-25.8951],\n",
       "        [-24.1830],\n",
       "        [-23.6405],\n",
       "        [-23.1161],\n",
       "        [-22.0441],\n",
       "        [-21.9913],\n",
       "        [-21.4959],\n",
       "        [-21.2860],\n",
       "        [-20.4771],\n",
       "        [-19.6991],\n",
       "        [-19.1434],\n",
       "        [-18.0758],\n",
       "        [-17.5390],\n",
       "        [-17.4888],\n",
       "        [-16.8212],\n",
       "        [-16.6630],\n",
       "        [-16.2503],\n",
       "        [-14.3326],\n",
       "        [-13.8527],\n",
       "        [-13.6397],\n",
       "        [-13.5228],\n",
       "        [-13.2096],\n",
       "        [-12.8514],\n",
       "        [-12.8461],\n",
       "        [-12.7527],\n",
       "        [-12.2431],\n",
       "        [-12.0267],\n",
       "        [-11.7990],\n",
       "        [-11.6495],\n",
       "        [-11.5587],\n",
       "        [-11.5497],\n",
       "        [-11.1709],\n",
       "        [-10.9643],\n",
       "        [-10.7969],\n",
       "        [-10.7696],\n",
       "        [-10.7324],\n",
       "        [-10.6567],\n",
       "        [-10.4404],\n",
       "        [-10.1049],\n",
       "        [ -9.9527],\n",
       "        [ -9.7916],\n",
       "        [ -9.3899],\n",
       "        [ -9.2762],\n",
       "        [ -8.2773],\n",
       "        [ -8.0850],\n",
       "        [ -7.9550],\n",
       "        [ -7.8498],\n",
       "        [ -7.7767],\n",
       "        [ -7.6419],\n",
       "        [ -7.2295],\n",
       "        [ -7.1686],\n",
       "        [ -6.9773],\n",
       "        [ -6.9454],\n",
       "        [ -6.6435],\n",
       "        [ -5.6597],\n",
       "        [ -5.5200],\n",
       "        [ -5.4562],\n",
       "        [ -5.3640],\n",
       "        [ -4.9588],\n",
       "        [ -4.9111],\n",
       "        [ -4.5447],\n",
       "        [ -3.9894],\n",
       "        [ -3.6367],\n",
       "        [ -3.0762],\n",
       "        [ -2.4928],\n",
       "        [ -2.4512],\n",
       "        [ -2.1695],\n",
       "        [ -2.0062],\n",
       "        [ -1.7060],\n",
       "        [  0.1909],\n",
       "        [  0.5915],\n",
       "        [  0.9467],\n",
       "        [  1.3453],\n",
       "        [  1.4359],\n",
       "        [  2.0752],\n",
       "        [  2.4723],\n",
       "        [  2.5368],\n",
       "        [  2.7189],\n",
       "        [  2.7902],\n",
       "        [  2.8337],\n",
       "        [  3.2249],\n",
       "        [  3.7238],\n",
       "        [  3.8636],\n",
       "        [  3.9170],\n",
       "        [  3.9852],\n",
       "        [  5.0601],\n",
       "        [  5.7496],\n",
       "        [  6.0569],\n",
       "        [  7.0621],\n",
       "        [  7.2674],\n",
       "        [  7.6805],\n",
       "        [  7.9669],\n",
       "        [  8.4266],\n",
       "        [  9.6044],\n",
       "        [  9.6791],\n",
       "        [ 10.7418],\n",
       "        [ 12.6324],\n",
       "        [ 18.9507]], grad_fn=<MmBackward0>)"
      ]
     },
     "execution_count": 130,
     "metadata": {},
     "output_type": "execute_result"
    }
   ],
   "source": [
    "net(X)"
   ]
  },
  {
   "cell_type": "code",
   "execution_count": 131,
   "id": "0bae089c-cb57-4fde-b4ed-d81e75224d73",
   "metadata": {},
   "outputs": [],
   "source": [
    "yhat2=net(X)"
   ]
  },
  {
   "cell_type": "markdown",
   "id": "65a33651-7529-46e3-8532-f12d99476714",
   "metadata": {},
   "source": [
    "- 네트워크에 X를 입력으로 넣음으로써 y를 구하는 법"
   ]
  },
  {
   "cell_type": "markdown",
   "id": "605e10ec-5752-4f55-99c1-15ddd8ebfbe2",
   "metadata": {
    "id": "ff787f14-7337-4d8e-8441-bb98c5219336",
    "tags": []
   },
   "source": [
    "#### 방법3: torch.nn.Linear()사용, bias=True"
   ]
  },
  {
   "cell_type": "markdown",
   "id": "cb8865a0-912c-4391-bc37-b81a06b20ffd",
   "metadata": {},
   "source": [
    "`-` model: $y_i= w_0+w_1 x_i +\\epsilon_i = 2.5 + 4x_i +\\epsilon_i, \\quad i=1,2,\\dots,n$ "
   ]
  },
  {
   "cell_type": "code",
   "execution_count": 132,
   "id": "dade3673-c862-4364-8c57-56722c31d958",
   "metadata": {},
   "outputs": [],
   "source": [
    "net=torch.nn.Linear(in_features=1,out_features=1,bias=True)"
   ]
  },
  {
   "cell_type": "markdown",
   "id": "cc8d0acb-82b9-4689-a390-0d848f3c5439",
   "metadata": {},
   "source": [
    "- Linear라는 클래스를 사용하여, in_features입력차원이자 $x_i$라서 1, out_features출력차원이자 $y_{hat}$라서 1\n",
    "- bias가 True 인 이유는 bias term상수항이 존재하는 네트워크라 정의했기 때문"
   ]
  },
  {
   "cell_type": "code",
   "execution_count": 133,
   "id": "166e5ed6-ddf1-4d59-b622-357f17424e20",
   "metadata": {},
   "outputs": [
    {
     "data": {
      "text/plain": [
       "tensor([[-0.9442]])"
      ]
     },
     "execution_count": 133,
     "metadata": {},
     "output_type": "execute_result"
    }
   ],
   "source": [
    "net.weight.data # 입력차원을 1로 했기 때문에 출력차원 1개만 값이 나온 것."
   ]
  },
  {
   "cell_type": "code",
   "execution_count": 134,
   "id": "5a9f8e06-396a-427c-bd4f-5c3283162b79",
   "metadata": {},
   "outputs": [],
   "source": [
    "net.weight.data=torch.tensor([[10.0]]) # tensor 괄호 수 따라가.."
   ]
  },
  {
   "cell_type": "code",
   "execution_count": 135,
   "id": "aa42aa2f-e0d8-418e-baa7-ac1c36a49af7",
   "metadata": {},
   "outputs": [],
   "source": [
    "net.bias.data=torch.tensor([-5.0])"
   ]
  },
  {
   "cell_type": "code",
   "execution_count": 136,
   "id": "e04f6286-d273-493d-a33e-fe06e2aba459",
   "metadata": {},
   "outputs": [
    {
     "data": {
      "text/plain": [
       "(Parameter containing:\n",
       " tensor([[10.]], requires_grad=True),\n",
       " Parameter containing:\n",
       " tensor([-5.], requires_grad=True))"
      ]
     },
     "execution_count": 136,
     "metadata": {},
     "output_type": "execute_result"
    }
   ],
   "source": [
    "net.weight,net.bias"
   ]
  },
  {
   "cell_type": "markdown",
   "id": "b76889c2-36d0-47e3-ba12-dc129e331935",
   "metadata": {},
   "source": [
    "- $X$가 아니라 $x(즉, x_i)$를 넣어야 함\n",
    "- net(x.reshape(100,1)) x.reshape은 100값이 나오지만, (100,1)로 차원 명시 해주기"
   ]
  },
  {
   "cell_type": "code",
   "execution_count": 137,
   "id": "044396f5-1b19-4aa6-8b64-49baee819f03",
   "metadata": {},
   "outputs": [
    {
     "data": {
      "text/plain": [
       "tensor([[-27.9716],\n",
       "        [-26.0391],\n",
       "        [-25.8951],\n",
       "        [-24.1830],\n",
       "        [-23.6405],\n",
       "        [-23.1161],\n",
       "        [-22.0441],\n",
       "        [-21.9913],\n",
       "        [-21.4959],\n",
       "        [-21.2860],\n",
       "        [-20.4771],\n",
       "        [-19.6991],\n",
       "        [-19.1434],\n",
       "        [-18.0758],\n",
       "        [-17.5390],\n",
       "        [-17.4888],\n",
       "        [-16.8212],\n",
       "        [-16.6630],\n",
       "        [-16.2503],\n",
       "        [-14.3326],\n",
       "        [-13.8527],\n",
       "        [-13.6397],\n",
       "        [-13.5228],\n",
       "        [-13.2096],\n",
       "        [-12.8514],\n",
       "        [-12.8461],\n",
       "        [-12.7527],\n",
       "        [-12.2431],\n",
       "        [-12.0267],\n",
       "        [-11.7990],\n",
       "        [-11.6495],\n",
       "        [-11.5587],\n",
       "        [-11.5497],\n",
       "        [-11.1709],\n",
       "        [-10.9643],\n",
       "        [-10.7969],\n",
       "        [-10.7696],\n",
       "        [-10.7324],\n",
       "        [-10.6567],\n",
       "        [-10.4404],\n",
       "        [-10.1049],\n",
       "        [ -9.9527],\n",
       "        [ -9.7916],\n",
       "        [ -9.3899],\n",
       "        [ -9.2762],\n",
       "        [ -8.2773],\n",
       "        [ -8.0850],\n",
       "        [ -7.9550],\n",
       "        [ -7.8498],\n",
       "        [ -7.7767],\n",
       "        [ -7.6419],\n",
       "        [ -7.2295],\n",
       "        [ -7.1686],\n",
       "        [ -6.9773],\n",
       "        [ -6.9454],\n",
       "        [ -6.6435],\n",
       "        [ -5.6597],\n",
       "        [ -5.5200],\n",
       "        [ -5.4562],\n",
       "        [ -5.3640],\n",
       "        [ -4.9588],\n",
       "        [ -4.9111],\n",
       "        [ -4.5447],\n",
       "        [ -3.9894],\n",
       "        [ -3.6367],\n",
       "        [ -3.0762],\n",
       "        [ -2.4928],\n",
       "        [ -2.4512],\n",
       "        [ -2.1695],\n",
       "        [ -2.0062],\n",
       "        [ -1.7060],\n",
       "        [  0.1909],\n",
       "        [  0.5915],\n",
       "        [  0.9467],\n",
       "        [  1.3453],\n",
       "        [  1.4359],\n",
       "        [  2.0752],\n",
       "        [  2.4723],\n",
       "        [  2.5368],\n",
       "        [  2.7189],\n",
       "        [  2.7902],\n",
       "        [  2.8337],\n",
       "        [  3.2249],\n",
       "        [  3.7238],\n",
       "        [  3.8636],\n",
       "        [  3.9170],\n",
       "        [  3.9852],\n",
       "        [  5.0601],\n",
       "        [  5.7496],\n",
       "        [  6.0569],\n",
       "        [  7.0621],\n",
       "        [  7.2674],\n",
       "        [  7.6805],\n",
       "        [  7.9669],\n",
       "        [  8.4266],\n",
       "        [  9.6044],\n",
       "        [  9.6791],\n",
       "        [ 10.7418],\n",
       "        [ 12.6324],\n",
       "        [ 18.9507]], grad_fn=<AddmmBackward0>)"
      ]
     },
     "execution_count": 137,
     "metadata": {},
     "output_type": "execute_result"
    }
   ],
   "source": [
    "net(x.reshape(100,1))"
   ]
  },
  {
   "cell_type": "markdown",
   "id": "0b93e1cb-1afc-45d2-ace4-ab1c6a582caf",
   "metadata": {},
   "source": [
    "- 방법 2와 3의 결과가 같아서 방법 3의 yhat은 따로 변수화하지 않음"
   ]
  },
  {
   "cell_type": "markdown",
   "id": "ed294fa1-21e3-475d-a8da-271f278de719",
   "metadata": {
    "id": "076a430b-167e-4e13-8ff0-d61d435832a1",
    "tags": []
   },
   "source": [
    "### step2: loss"
   ]
  },
  {
   "cell_type": "markdown",
   "id": "49c584a5-ce78-4089-8bac-e43227a78aeb",
   "metadata": {
    "id": "c4f7a66c-f798-411c-aa66-2f859e83fd6c"
   },
   "source": [
    "#### 방법1: 손실함수를 직접정의하는 방법"
   ]
  },
  {
   "cell_type": "code",
   "execution_count": 138,
   "id": "03161a96-4f57-4093-996f-e5fba3b23c3e",
   "metadata": {},
   "outputs": [
    {
     "data": {
      "text/plain": [
       "tensor(109.8145, grad_fn=<MeanBackward0>)"
      ]
     },
     "execution_count": 138,
     "metadata": {},
     "output_type": "execute_result"
    }
   ],
   "source": [
    "loss=torch.mean((y-yhat1)**2)\n",
    "loss"
   ]
  },
  {
   "cell_type": "code",
   "execution_count": 139,
   "id": "10dbc570-f050-40b4-b941-68006306ab69",
   "metadata": {},
   "outputs": [
    {
     "data": {
      "text/plain": [
       "tensor(187.0950, grad_fn=<MeanBackward0>)"
      ]
     },
     "execution_count": 139,
     "metadata": {},
     "output_type": "execute_result"
    }
   ],
   "source": [
    "loss=torch.mean((y-yhat2)**2)\n",
    "loss"
   ]
  },
  {
   "cell_type": "markdown",
   "id": "80c920f1-768f-4ff1-b544-c1c17251f31e",
   "metadata": {},
   "source": [
    "- 두 값이 다르기도 하고, 187.0950는 잘못된 결과\n",
    "- grad_fn=<MeanBackward0> 주의깊게 보기"
   ]
  },
  {
   "cell_type": "code",
   "execution_count": 140,
   "id": "42d43c33-b512-490d-b6f7-df2561347dcc",
   "metadata": {},
   "outputs": [
    {
     "data": {
      "text/plain": [
       "torch.Size([100, 100])"
      ]
     },
     "execution_count": 140,
     "metadata": {},
     "output_type": "execute_result"
    }
   ],
   "source": [
    "(y-yhat2).shape"
   ]
  },
  {
   "cell_type": "code",
   "execution_count": 141,
   "id": "30f38790-4b64-49ae-9b1e-bee39f32ee8a",
   "metadata": {},
   "outputs": [
    {
     "data": {
      "text/plain": [
       "torch.Size([100])"
      ]
     },
     "execution_count": 141,
     "metadata": {},
     "output_type": "execute_result"
    }
   ],
   "source": [
    "y.shape"
   ]
  },
  {
   "cell_type": "code",
   "execution_count": 142,
   "id": "d901ce49-daee-45cb-a901-c4f5a337047d",
   "metadata": {},
   "outputs": [
    {
     "data": {
      "text/plain": [
       "torch.Size([100, 1])"
      ]
     },
     "execution_count": 142,
     "metadata": {},
     "output_type": "execute_result"
    }
   ],
   "source": [
    "yhat2.shape"
   ]
  },
  {
   "cell_type": "markdown",
   "id": "8892404d-0fd4-4bd4-8a51-ccd5341c91a5",
   "metadata": {},
   "source": [
    "- **차원에 대한 개념 파악 너무 중요$\\star$**"
   ]
  },
  {
   "cell_type": "code",
   "execution_count": 143,
   "id": "720c9b0f-422d-4d34-b41e-c850940798ec",
   "metadata": {},
   "outputs": [
    {
     "data": {
      "text/plain": [
       "tensor(109.8145, grad_fn=<MeanBackward0>)"
      ]
     },
     "execution_count": 143,
     "metadata": {},
     "output_type": "execute_result"
    }
   ],
   "source": [
    "torch.mean((y-yhat2.flatten())**2) # yhat2를 벡터화시키는 방법 1"
   ]
  },
  {
   "cell_type": "code",
   "execution_count": 144,
   "id": "33f299db-ae13-4ed7-8e6e-a8c019bd3620",
   "metadata": {},
   "outputs": [
    {
     "data": {
      "text/plain": [
       "tensor(109.8145, grad_fn=<MeanBackward0>)"
      ]
     },
     "execution_count": 144,
     "metadata": {},
     "output_type": "execute_result"
    }
   ],
   "source": [
    "loss=torch.mean((y.reshape(100,1)-yhat2)**2) # y의 dhape을 바꿔주는 방법 2\n",
    "loss"
   ]
  },
  {
   "cell_type": "markdown",
   "id": "5c663c3d-c251-4278-b9f3-67af0a77200a",
   "metadata": {
    "id": "44a14ef3-9a40-4367-88af-b7bf8b7af3fd"
   },
   "source": [
    "#### 방법2: torch.nn.MSELoss()를 사용하여 손실함수를 정의하는 방법 "
   ]
  },
  {
   "cell_type": "markdown",
   "id": "301f61a1-98f0-4284-8707-1667c9368c5f",
   "metadata": {},
   "source": [
    "torch.nn.MSELoss는 class함수"
   ]
  },
  {
   "cell_type": "code",
   "execution_count": 152,
   "id": "f9003de1-09e8-48eb-8ba9-7bf0074f4667",
   "metadata": {},
   "outputs": [
    {
     "data": {
      "text/plain": [
       "\u001b[0;31mInit signature:\u001b[0m \u001b[0mtorch\u001b[0m\u001b[0;34m.\u001b[0m\u001b[0mnn\u001b[0m\u001b[0;34m.\u001b[0m\u001b[0mMSELoss\u001b[0m\u001b[0;34m(\u001b[0m\u001b[0msize_average\u001b[0m\u001b[0;34m=\u001b[0m\u001b[0;32mNone\u001b[0m\u001b[0;34m,\u001b[0m \u001b[0mreduce\u001b[0m\u001b[0;34m=\u001b[0m\u001b[0;32mNone\u001b[0m\u001b[0;34m,\u001b[0m \u001b[0mreduction\u001b[0m\u001b[0;34m:\u001b[0m \u001b[0mstr\u001b[0m \u001b[0;34m=\u001b[0m \u001b[0;34m'mean'\u001b[0m\u001b[0;34m)\u001b[0m \u001b[0;34m->\u001b[0m \u001b[0;32mNone\u001b[0m\u001b[0;34m\u001b[0m\u001b[0;34m\u001b[0m\u001b[0m\n",
       "\u001b[0;31mSource:\u001b[0m        \n",
       "\u001b[0;32mclass\u001b[0m \u001b[0mMSELoss\u001b[0m\u001b[0;34m(\u001b[0m\u001b[0m_Loss\u001b[0m\u001b[0;34m)\u001b[0m\u001b[0;34m:\u001b[0m\u001b[0;34m\u001b[0m\n",
       "\u001b[0;34m\u001b[0m    \u001b[0;34mr\"\"\"Creates a criterion that measures the mean squared error (squared L2 norm) between\u001b[0m\n",
       "\u001b[0;34m    each element in the input :math:`x` and target :math:`y`.\u001b[0m\n",
       "\u001b[0;34m\u001b[0m\n",
       "\u001b[0;34m    The unreduced (i.e. with :attr:`reduction` set to ``'none'``) loss can be described as:\u001b[0m\n",
       "\u001b[0;34m\u001b[0m\n",
       "\u001b[0;34m    .. math::\u001b[0m\n",
       "\u001b[0;34m        \\ell(x, y) = L = \\{l_1,\\dots,l_N\\}^\\top, \\quad\u001b[0m\n",
       "\u001b[0;34m        l_n = \\left( x_n - y_n \\right)^2,\u001b[0m\n",
       "\u001b[0;34m\u001b[0m\n",
       "\u001b[0;34m    where :math:`N` is the batch size. If :attr:`reduction` is not ``'none'``\u001b[0m\n",
       "\u001b[0;34m    (default ``'mean'``), then:\u001b[0m\n",
       "\u001b[0;34m\u001b[0m\n",
       "\u001b[0;34m    .. math::\u001b[0m\n",
       "\u001b[0;34m        \\ell(x, y) =\u001b[0m\n",
       "\u001b[0;34m        \\begin{cases}\u001b[0m\n",
       "\u001b[0;34m            \\operatorname{mean}(L), &  \\text{if reduction} = \\text{`mean';}\\\\\u001b[0m\n",
       "\u001b[0;34m            \\operatorname{sum}(L),  &  \\text{if reduction} = \\text{`sum'.}\u001b[0m\n",
       "\u001b[0;34m        \\end{cases}\u001b[0m\n",
       "\u001b[0;34m\u001b[0m\n",
       "\u001b[0;34m    :math:`x` and :math:`y` are tensors of arbitrary shapes with a total\u001b[0m\n",
       "\u001b[0;34m    of :math:`n` elements each.\u001b[0m\n",
       "\u001b[0;34m\u001b[0m\n",
       "\u001b[0;34m    The mean operation still operates over all the elements, and divides by :math:`n`.\u001b[0m\n",
       "\u001b[0;34m\u001b[0m\n",
       "\u001b[0;34m    The division by :math:`n` can be avoided if one sets ``reduction = 'sum'``.\u001b[0m\n",
       "\u001b[0;34m\u001b[0m\n",
       "\u001b[0;34m    Args:\u001b[0m\n",
       "\u001b[0;34m        size_average (bool, optional): Deprecated (see :attr:`reduction`). By default,\u001b[0m\n",
       "\u001b[0;34m            the losses are averaged over each loss element in the batch. Note that for\u001b[0m\n",
       "\u001b[0;34m            some losses, there are multiple elements per sample. If the field :attr:`size_average`\u001b[0m\n",
       "\u001b[0;34m            is set to ``False``, the losses are instead summed for each minibatch. Ignored\u001b[0m\n",
       "\u001b[0;34m            when :attr:`reduce` is ``False``. Default: ``True``\u001b[0m\n",
       "\u001b[0;34m        reduce (bool, optional): Deprecated (see :attr:`reduction`). By default, the\u001b[0m\n",
       "\u001b[0;34m            losses are averaged or summed over observations for each minibatch depending\u001b[0m\n",
       "\u001b[0;34m            on :attr:`size_average`. When :attr:`reduce` is ``False``, returns a loss per\u001b[0m\n",
       "\u001b[0;34m            batch element instead and ignores :attr:`size_average`. Default: ``True``\u001b[0m\n",
       "\u001b[0;34m        reduction (string, optional): Specifies the reduction to apply to the output:\u001b[0m\n",
       "\u001b[0;34m            ``'none'`` | ``'mean'`` | ``'sum'``. ``'none'``: no reduction will be applied,\u001b[0m\n",
       "\u001b[0;34m            ``'mean'``: the sum of the output will be divided by the number of\u001b[0m\n",
       "\u001b[0;34m            elements in the output, ``'sum'``: the output will be summed. Note: :attr:`size_average`\u001b[0m\n",
       "\u001b[0;34m            and :attr:`reduce` are in the process of being deprecated, and in the meantime,\u001b[0m\n",
       "\u001b[0;34m            specifying either of those two args will override :attr:`reduction`. Default: ``'mean'``\u001b[0m\n",
       "\u001b[0;34m\u001b[0m\n",
       "\u001b[0;34m    Shape:\u001b[0m\n",
       "\u001b[0;34m        - Input: :math:`(*)`, where :math:`*` means any number of dimensions.\u001b[0m\n",
       "\u001b[0;34m        - Target: :math:`(*)`, same shape as the input.\u001b[0m\n",
       "\u001b[0;34m\u001b[0m\n",
       "\u001b[0;34m    Examples::\u001b[0m\n",
       "\u001b[0;34m\u001b[0m\n",
       "\u001b[0;34m        >>> loss = nn.MSELoss()\u001b[0m\n",
       "\u001b[0;34m        >>> input = torch.randn(3, 5, requires_grad=True)\u001b[0m\n",
       "\u001b[0;34m        >>> target = torch.randn(3, 5)\u001b[0m\n",
       "\u001b[0;34m        >>> output = loss(input, target)\u001b[0m\n",
       "\u001b[0;34m        >>> output.backward()\u001b[0m\n",
       "\u001b[0;34m    \"\"\"\u001b[0m\u001b[0;34m\u001b[0m\n",
       "\u001b[0;34m\u001b[0m    \u001b[0m__constants__\u001b[0m \u001b[0;34m=\u001b[0m \u001b[0;34m[\u001b[0m\u001b[0;34m'reduction'\u001b[0m\u001b[0;34m]\u001b[0m\u001b[0;34m\u001b[0m\n",
       "\u001b[0;34m\u001b[0m\u001b[0;34m\u001b[0m\n",
       "\u001b[0;34m\u001b[0m    \u001b[0;32mdef\u001b[0m \u001b[0m__init__\u001b[0m\u001b[0;34m(\u001b[0m\u001b[0mself\u001b[0m\u001b[0;34m,\u001b[0m \u001b[0msize_average\u001b[0m\u001b[0;34m=\u001b[0m\u001b[0;32mNone\u001b[0m\u001b[0;34m,\u001b[0m \u001b[0mreduce\u001b[0m\u001b[0;34m=\u001b[0m\u001b[0;32mNone\u001b[0m\u001b[0;34m,\u001b[0m \u001b[0mreduction\u001b[0m\u001b[0;34m:\u001b[0m \u001b[0mstr\u001b[0m \u001b[0;34m=\u001b[0m \u001b[0;34m'mean'\u001b[0m\u001b[0;34m)\u001b[0m \u001b[0;34m->\u001b[0m \u001b[0;32mNone\u001b[0m\u001b[0;34m:\u001b[0m\u001b[0;34m\u001b[0m\n",
       "\u001b[0;34m\u001b[0m        \u001b[0msuper\u001b[0m\u001b[0;34m(\u001b[0m\u001b[0mMSELoss\u001b[0m\u001b[0;34m,\u001b[0m \u001b[0mself\u001b[0m\u001b[0;34m)\u001b[0m\u001b[0;34m.\u001b[0m\u001b[0m__init__\u001b[0m\u001b[0;34m(\u001b[0m\u001b[0msize_average\u001b[0m\u001b[0;34m,\u001b[0m \u001b[0mreduce\u001b[0m\u001b[0;34m,\u001b[0m \u001b[0mreduction\u001b[0m\u001b[0;34m)\u001b[0m\u001b[0;34m\u001b[0m\n",
       "\u001b[0;34m\u001b[0m\u001b[0;34m\u001b[0m\n",
       "\u001b[0;34m\u001b[0m    \u001b[0;32mdef\u001b[0m \u001b[0mforward\u001b[0m\u001b[0;34m(\u001b[0m\u001b[0mself\u001b[0m\u001b[0;34m,\u001b[0m \u001b[0minput\u001b[0m\u001b[0;34m:\u001b[0m \u001b[0mTensor\u001b[0m\u001b[0;34m,\u001b[0m \u001b[0mtarget\u001b[0m\u001b[0;34m:\u001b[0m \u001b[0mTensor\u001b[0m\u001b[0;34m)\u001b[0m \u001b[0;34m->\u001b[0m \u001b[0mTensor\u001b[0m\u001b[0;34m:\u001b[0m\u001b[0;34m\u001b[0m\n",
       "\u001b[0;34m\u001b[0m        \u001b[0;32mreturn\u001b[0m \u001b[0mF\u001b[0m\u001b[0;34m.\u001b[0m\u001b[0mmse_loss\u001b[0m\u001b[0;34m(\u001b[0m\u001b[0minput\u001b[0m\u001b[0;34m,\u001b[0m \u001b[0mtarget\u001b[0m\u001b[0;34m,\u001b[0m \u001b[0mreduction\u001b[0m\u001b[0;34m=\u001b[0m\u001b[0mself\u001b[0m\u001b[0;34m.\u001b[0m\u001b[0mreduction\u001b[0m\u001b[0;34m)\u001b[0m\u001b[0;34m\u001b[0m\u001b[0;34m\u001b[0m\u001b[0m\n",
       "\u001b[0;31mFile:\u001b[0m           ~/anaconda3/envs/csy/lib/python3.8/site-packages/torch/nn/modules/loss.py\n",
       "\u001b[0;31mType:\u001b[0m           type\n",
       "\u001b[0;31mSubclasses:\u001b[0m     \n"
      ]
     },
     "metadata": {},
     "output_type": "display_data"
    }
   ],
   "source": [
    "torch.nn.MSELoss??"
   ]
  },
  {
   "cell_type": "markdown",
   "id": "43306f1e-afac-4f08-982b-8fca80e30e99",
   "metadata": {},
   "source": [
    "definition of torch.nn.MSELoss\n",
    "- Creates a criterion that measures the mean squared error (squared L2 norm) between each element in the input $xx$ and target $yy$."
   ]
  },
  {
   "cell_type": "code",
   "execution_count": 146,
   "id": "4bdaccf9-a46d-4d6e-ad31-0f7594cd893b",
   "metadata": {},
   "outputs": [],
   "source": [
    "lossfn=torch.nn.MSELoss() # 단지 입력만하면 loss function이 만들어짐"
   ]
  },
  {
   "cell_type": "code",
   "execution_count": 147,
   "id": "fade1492-839f-4ff8-911c-1cf810f33eb6",
   "metadata": {},
   "outputs": [
    {
     "data": {
      "text/plain": [
       "tensor(109.8145, grad_fn=<MseLossBackward0>)"
      ]
     },
     "execution_count": 147,
     "metadata": {},
     "output_type": "execute_result"
    }
   ],
   "source": [
    "loss=lossfn(y,yhat1)\n",
    "loss"
   ]
  },
  {
   "cell_type": "code",
   "execution_count": 148,
   "id": "93fbdc98-e910-4258-a849-187d245fdd44",
   "metadata": {},
   "outputs": [
    {
     "data": {
      "text/plain": [
       "tensor(109.8145, grad_fn=<MseLossBackward0>)"
      ]
     },
     "execution_count": 148,
     "metadata": {},
     "output_type": "execute_result"
    }
   ],
   "source": [
    "loss=lossfn(y.reshape(100,1),yhat2)\n",
    "loss"
   ]
  },
  {
   "cell_type": "markdown",
   "id": "5cb32906-be7f-4056-9381-4bd5376e05fe",
   "metadata": {},
   "source": [
    "- 미분 꼬리표 붙은 모습! grad_fn=<MseLossBackward0>"
   ]
  },
  {
   "cell_type": "markdown",
   "id": "5e7a4503-958a-4da1-a104-c723e8542c05",
   "metadata": {},
   "source": [
    "- 총 6가지 조합으로 loss를 구할 수 있다."
   ]
  },
  {
   "cell_type": "markdown",
   "id": "1d2ce66f-f802-43ec-8907-68e87a967b06",
   "metadata": {
    "id": "e737f7c5-f6b2-4a2d-922b-38a9452b298a",
    "tags": []
   },
   "source": [
    "### [숙제](https://ieilms.jbnu.ac.kr/)"
   ]
  },
  {
   "cell_type": "markdown",
   "id": "c16d8848-ffdb-4d02-a0b0-5b4d55846887",
   "metadata": {
    "id": "8e1b9bd4-ffd6-495c-9fd6-1815db02158d"
   },
   "source": [
    "`-` model: $y_i= w_0+w_1 x_{i1}+w_2 x_{i2} +\\epsilon_i = 2.5 + 4x_{1i} + -2x_{2i}+\\epsilon_i, \\quad i=1,2,\\dots,n$ "
   ]
  },
  {
   "cell_type": "code",
   "execution_count": 99,
   "id": "eaee5255-29b5-41ed-ad16-5fce25b5cb6f",
   "metadata": {},
   "outputs": [],
   "source": [
    "torch.manual_seed(202150754)\n",
    "n=100\n",
    "ones=torch.ones(n)\n",
    "x1,_=torch.randn(n).sort()\n",
    "x2,_=torch.randn(n).sort()\n",
    "X=torch.vstack([ones,x1,x2]).T\n",
    "W=torch.tensor([2.5,4.0,-2.0])\n",
    "ϵ=torch.randn(n)*0.5\n",
    "y=X@W+ϵ\n",
    "ytrue=X@W"
   ]
  },
  {
   "cell_type": "code",
   "execution_count": 100,
   "id": "fcc8a914-e2ba-422a-b99d-77d587a7c3de",
   "metadata": {},
   "outputs": [],
   "source": [
    "net=torch.nn.Linear(in_features=3,out_features=1,bias=False)"
   ]
  },
  {
   "cell_type": "code",
   "execution_count": 101,
   "id": "9963bc2b-d95b-4a53-975f-c137811951a7",
   "metadata": {},
   "outputs": [
    {
     "data": {
      "text/plain": [
       "tensor([[0.1152, 0.4159, 0.3233]])"
      ]
     },
     "execution_count": 101,
     "metadata": {},
     "output_type": "execute_result"
    }
   ],
   "source": [
    "net.weight.data"
   ]
  },
  {
   "cell_type": "code",
   "execution_count": 102,
   "id": "bac45f30-fd23-41dc-96b6-859c7673dced",
   "metadata": {},
   "outputs": [],
   "source": [
    "net.weight.data=torch.tensor([[2.5,5.0,-2.0]])"
   ]
  },
  {
   "cell_type": "code",
   "execution_count": 103,
   "id": "d3c8aed1-5de8-425b-9bc1-fbcb0b02becd",
   "metadata": {},
   "outputs": [
    {
     "data": {
      "text/plain": [
       "tensor([[ 2.5000,  5.0000, -2.0000]])"
      ]
     },
     "execution_count": 103,
     "metadata": {},
     "output_type": "execute_result"
    }
   ],
   "source": [
    "net.weight.data"
   ]
  },
  {
   "cell_type": "code",
   "execution_count": 104,
   "id": "5cd01995-2432-4b39-b577-1cd3a175574c",
   "metadata": {},
   "outputs": [
    {
     "data": {
      "text/plain": [
       "tensor([[-2.6509],\n",
       "        [-3.6075],\n",
       "        [-3.5596],\n",
       "        [-3.1381],\n",
       "        [-3.3609],\n",
       "        [-3.4499],\n",
       "        [-3.2561],\n",
       "        [-3.2889],\n",
       "        [-3.2011],\n",
       "        [-3.1503],\n",
       "        [-2.7970],\n",
       "        [-2.5058],\n",
       "        [-2.3969],\n",
       "        [-1.9746],\n",
       "        [-1.7134],\n",
       "        [-1.6971],\n",
       "        [-1.4055],\n",
       "        [-1.5425],\n",
       "        [-1.4787],\n",
       "        [-0.5325],\n",
       "        [-0.5519],\n",
       "        [-0.4983],\n",
       "        [-0.5579],\n",
       "        [-0.4252],\n",
       "        [-0.3783],\n",
       "        [-0.3975],\n",
       "        [-0.4601],\n",
       "        [-0.3162],\n",
       "        [-0.2366],\n",
       "        [-0.1835],\n",
       "        [-0.1374],\n",
       "        [-0.1168],\n",
       "        [-0.1915],\n",
       "        [-0.2164],\n",
       "        [-0.1212],\n",
       "        [-0.0441],\n",
       "        [-0.0724],\n",
       "        [-0.0834],\n",
       "        [-0.0505],\n",
       "        [-0.0193],\n",
       "        [ 0.1136],\n",
       "        [ 0.1171],\n",
       "        [ 0.1026],\n",
       "        [ 0.2901],\n",
       "        [ 0.2309],\n",
       "        [ 0.7120],\n",
       "        [ 0.7832],\n",
       "        [ 0.8135],\n",
       "        [ 0.7912],\n",
       "        [ 0.7812],\n",
       "        [ 0.8180],\n",
       "        [ 0.9363],\n",
       "        [ 0.9441],\n",
       "        [ 1.0259],\n",
       "        [ 1.0002],\n",
       "        [ 1.0770],\n",
       "        [ 1.4815],\n",
       "        [ 1.3693],\n",
       "        [ 1.3779],\n",
       "        [ 1.4225],\n",
       "        [ 1.6098],\n",
       "        [ 1.5941],\n",
       "        [ 1.7537],\n",
       "        [ 2.0001],\n",
       "        [ 2.0957],\n",
       "        [ 2.3735],\n",
       "        [ 2.6115],\n",
       "        [ 2.6187],\n",
       "        [ 2.7009],\n",
       "        [ 2.7603],\n",
       "        [ 2.8919],\n",
       "        [ 3.7759],\n",
       "        [ 3.9732],\n",
       "        [ 4.0655],\n",
       "        [ 4.2620],\n",
       "        [ 4.2635],\n",
       "        [ 4.4946],\n",
       "        [ 4.6567],\n",
       "        [ 4.6651],\n",
       "        [ 4.7379],\n",
       "        [ 4.7674],\n",
       "        [ 4.6795],\n",
       "        [ 4.8486],\n",
       "        [ 5.0364],\n",
       "        [ 5.0838],\n",
       "        [ 5.0771],\n",
       "        [ 5.0922],\n",
       "        [ 5.5662],\n",
       "        [ 5.8656],\n",
       "        [ 5.8907],\n",
       "        [ 6.3554],\n",
       "        [ 6.4389],\n",
       "        [ 6.4179],\n",
       "        [ 6.2463],\n",
       "        [ 6.2930],\n",
       "        [ 6.6489],\n",
       "        [ 6.0923],\n",
       "        [ 6.1693],\n",
       "        [ 6.9698],\n",
       "        [ 9.9439]], grad_fn=<MmBackward0>)"
      ]
     },
     "execution_count": 104,
     "metadata": {},
     "output_type": "execute_result"
    }
   ],
   "source": [
    "net(X)"
   ]
  },
  {
   "cell_type": "code",
   "execution_count": 105,
   "id": "c554e08d-ff72-456e-bb16-3093cba35c0c",
   "metadata": {},
   "outputs": [],
   "source": [
    "yhat=net(X)"
   ]
  },
  {
   "cell_type": "code",
   "execution_count": 153,
   "id": "8b55a101-e055-40bd-b0eb-8b96090f2d10",
   "metadata": {},
   "outputs": [],
   "source": [
    "lossfn=torch.nn.MSELoss()"
   ]
  },
  {
   "cell_type": "code",
   "execution_count": 154,
   "id": "a5d48a63-8843-4f8f-b639-94714b844610",
   "metadata": {},
   "outputs": [],
   "source": [
    "loss=lossfn(y,yhat)"
   ]
  },
  {
   "cell_type": "code",
   "execution_count": 155,
   "id": "ca08bbc8-a648-4984-acde-f47bbf8b16ca",
   "metadata": {},
   "outputs": [
    {
     "data": {
      "text/plain": [
       "tensor(24.9339, grad_fn=<MseLossBackward0>)"
      ]
     },
     "execution_count": 155,
     "metadata": {},
     "output_type": "execute_result"
    }
   ],
   "source": [
    "loss"
   ]
  }
 ],
 "metadata": {
  "kernelspec": {
   "display_name": "Python 3",
   "language": "python",
   "name": "python3"
  },
  "language_info": {
   "codemirror_mode": {
    "name": "ipython",
    "version": 3
   },
   "file_extension": ".py",
   "mimetype": "text/x-python",
   "name": "python",
   "nbconvert_exporter": "python",
   "pygments_lexer": "ipython3",
   "version": "3.8.12"
  }
 },
 "nbformat": 4,
 "nbformat_minor": 5
}
