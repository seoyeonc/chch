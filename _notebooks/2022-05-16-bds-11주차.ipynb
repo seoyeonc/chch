{
 "cells": [
  {
   "cell_type": "markdown",
   "id": "aa073583-81da-422e-b10a-d824985b260a",
   "metadata": {
    "tags": []
   },
   "source": [
    "# 빅데이터 분석 특강 (11주차) 5월16일\n",
    "\n",
    "- toc:true\n",
    "- branch: master\n",
    "- badges: true\n",
    "- comments: false\n",
    "- author: 최서연\n",
    "- categories: [Special Topics in Big Data Analysis]"
   ]
  },
  {
   "cell_type": "markdown",
   "id": "83ae0d4d-6702-4456-b92d-361a8287877d",
   "metadata": {
    "id": "c4f6e19b-33d5-457d-80e8-dca53a886c8b"
   },
   "source": [
    "### imports"
   ]
  },
  {
   "cell_type": "code",
   "execution_count": 1,
   "id": "87cf195b-624d-4dba-8ead-168a9fc4f8a6",
   "metadata": {
    "id": "0cfeb127-a213-48dd-a815-12298b527b46"
   },
   "outputs": [],
   "source": [
    "import tensorflow as tf\n",
    "import matplotlib.pyplot as plt\n",
    "import numpy as np\n",
    "import tensorflow.experimental.numpy as tnp"
   ]
  },
  {
   "cell_type": "code",
   "execution_count": 2,
   "id": "9d878922-682d-4ca1-914b-8f893558ee55",
   "metadata": {
    "id": "563ebbbc-be73-4d4e-be5e-557d46f512f3",
    "outputId": "fa254444-01cf-4e3a-8018-2a55b36c09da"
   },
   "outputs": [
    {
     "data": {
      "text/plain": [
       "[PhysicalDevice(name='/physical_device:CPU:0', device_type='CPU'),\n",
       " PhysicalDevice(name='/physical_device:GPU:0', device_type='GPU')]"
      ]
     },
     "execution_count": 2,
     "metadata": {},
     "output_type": "execute_result"
    }
   ],
   "source": [
    "tf.config.experimental.list_physical_devices()"
   ]
  },
  {
   "cell_type": "code",
   "execution_count": 3,
   "id": "88bcff5f-0a6a-4dae-aed4-b666068a5be5",
   "metadata": {},
   "outputs": [],
   "source": [
    "tnp.experimental_enable_numpy_behavior()"
   ]
  },
  {
   "cell_type": "code",
   "execution_count": 4,
   "id": "f7e66ee1-e0b5-4e5a-b258-3625f9fe1ac2",
   "metadata": {},
   "outputs": [],
   "source": [
    "(x_train, y_train), (x_test, y_test) = tf.keras.datasets.fashion_mnist.load_data()"
   ]
  },
  {
   "cell_type": "code",
   "execution_count": 5,
   "id": "ba0986c9-58f3-44a4-aeed-a90b83a62f0f",
   "metadata": {},
   "outputs": [
    {
     "data": {
      "text/plain": [
       "array([9, 0, 0, ..., 3, 0, 5], dtype=uint8)"
      ]
     },
     "execution_count": 5,
     "metadata": {},
     "output_type": "execute_result"
    }
   ],
   "source": [
    "y_train # 이 데이터는 클래스의 데이터"
   ]
  },
  {
   "cell_type": "code",
   "execution_count": 6,
   "id": "05bb5357-8deb-43b8-ac68-b6b736265b20",
   "metadata": {},
   "outputs": [
    {
     "data": {
      "text/plain": [
       "(60000, 28, 28)"
      ]
     },
     "execution_count": 6,
     "metadata": {},
     "output_type": "execute_result"
    }
   ],
   "source": [
    "x_train.shape"
   ]
  },
  {
   "cell_type": "code",
   "execution_count": 10,
   "id": "440f826d-eb21-4f45-8a87-0e2cbd7a529a",
   "metadata": {},
   "outputs": [],
   "source": [
    "X = tf.constant(x_train.reshape(-1,28,28,1),dtype=tf.float64)\n",
    "y = tf.keras.utils.to_categorical(y_train)\n",
    "XX = tf.constant(x_test.reshape(-1,28,28,1),dtype=tf.float64)\n",
    "yy = tf.keras.utils.to_categorical(y_test)"
   ]
  },
  {
   "cell_type": "code",
   "execution_count": 15,
   "id": "eb8bcbe5-4e7f-4a2d-81e0-c7123bae263b",
   "metadata": {},
   "outputs": [
    {
     "name": "stdout",
     "output_type": "stream",
     "text": [
      "Epoch 1/10\n",
      "  57/1875 [..............................] - ETA: 5s - loss: 17.1517 - accuracy: 0.2111  "
     ]
    },
    {
     "name": "stderr",
     "output_type": "stream",
     "text": [
      "2022-05-16 19:18:57.584523: I tensorflow/stream_executor/cuda/cuda_blas.cc:1774] TensorFloat-32 will be used for the matrix multiplication. This will only be logged once.\n"
     ]
    },
    {
     "name": "stdout",
     "output_type": "stream",
     "text": [
      "1875/1875 [==============================] - 7s 3ms/step - loss: 1.9477 - accuracy: 0.4426\n",
      "Epoch 2/10\n",
      "1875/1875 [==============================] - 6s 3ms/step - loss: 1.0451 - accuracy: 0.5917\n",
      "Epoch 3/10\n",
      "1875/1875 [==============================] - 6s 3ms/step - loss: 0.8487 - accuracy: 0.6686\n",
      "Epoch 4/10\n",
      "1875/1875 [==============================] - 6s 3ms/step - loss: 0.7931 - accuracy: 0.6836\n",
      "Epoch 5/10\n",
      "1875/1875 [==============================] - 6s 3ms/step - loss: 0.7587 - accuracy: 0.7028\n",
      "Epoch 6/10\n",
      "1875/1875 [==============================] - 6s 3ms/step - loss: 0.7128 - accuracy: 0.7225\n",
      "Epoch 7/10\n",
      "1875/1875 [==============================] - 6s 3ms/step - loss: 0.6896 - accuracy: 0.7284\n",
      "Epoch 8/10\n",
      "1875/1875 [==============================] - 6s 3ms/step - loss: 0.6661 - accuracy: 0.7359\n",
      "Epoch 9/10\n",
      "1875/1875 [==============================] - 6s 3ms/step - loss: 0.6561 - accuracy: 0.7393\n",
      "Epoch 10/10\n",
      "1875/1875 [==============================] - 6s 3ms/step - loss: 0.6475 - accuracy: 0.7394\n"
     ]
    },
    {
     "data": {
      "text/plain": [
       "<keras.callbacks.History at 0x7f0fbe329f90>"
      ]
     },
     "execution_count": 15,
     "metadata": {},
     "output_type": "execute_result"
    }
   ],
   "source": [
    "net1 = tf.keras.Sequential()\n",
    "net1.add(tf.keras.layers.Flatten())\n",
    "net1.add(tf.keras.layers.Dense(30,activation='relu')) # 30 잘 안 맞는 거 아는데 처음이니까~ 해보자\n",
    "net1.add(tf.keras.layers.Dense(30,activation='relu'))\n",
    "net1.add(tf.keras.layers.Dense(10,activation='softmax'))\n",
    "net1.compile(optimizer='adam',loss=tf.losses.categorical_crossentropy,metrics='accuracy')\n",
    "net1.fit(X,y,epochs=10)"
   ]
  },
  {
   "cell_type": "code",
   "execution_count": 16,
   "id": "d010f1ae-f720-478c-a38d-0fc8d4c862a7",
   "metadata": {},
   "outputs": [
    {
     "name": "stdout",
     "output_type": "stream",
     "text": [
      "313/313 [==============================] - 1s 3ms/step - loss: 0.7311 - accuracy: 0.7128\n"
     ]
    },
    {
     "data": {
      "text/plain": [
       "[0.7310638427734375, 0.7128000259399414]"
      ]
     },
     "execution_count": 16,
     "metadata": {},
     "output_type": "execute_result"
    }
   ],
   "source": [
    "net1.evaluate(XX,yy)"
   ]
  },
  {
   "cell_type": "markdown",
   "id": "cc4b0efb-278d-43a1-8599-67b51d83b591",
   "metadata": {},
   "source": [
    "net가 단순하다보니 정확도 계산에 한계가 있는 거 같다 에폭 20해도 크게 변하지 않음!"
   ]
  },
  {
   "cell_type": "code",
   "execution_count": 44,
   "id": "497e88eb-5818-4644-b0aa-2eeaedc00b29",
   "metadata": {},
   "outputs": [
    {
     "name": "stdout",
     "output_type": "stream",
     "text": [
      "Epoch 1/10\n",
      "1875/1875 [==============================] - 7s 4ms/step - loss: 2.0995 - accuracy: 0.7383\n",
      "Epoch 2/10\n",
      "1875/1875 [==============================] - 7s 4ms/step - loss: 0.7340 - accuracy: 0.7693\n",
      "Epoch 3/10\n",
      "1875/1875 [==============================] - 7s 4ms/step - loss: 0.5704 - accuracy: 0.8125\n",
      "Epoch 4/10\n",
      "1875/1875 [==============================] - 7s 4ms/step - loss: 0.4953 - accuracy: 0.8313\n",
      "Epoch 5/10\n",
      "1875/1875 [==============================] - 7s 4ms/step - loss: 0.4669 - accuracy: 0.8410\n",
      "Epoch 6/10\n",
      "1875/1875 [==============================] - 7s 4ms/step - loss: 0.4544 - accuracy: 0.8445\n",
      "Epoch 7/10\n",
      "1875/1875 [==============================] - 7s 4ms/step - loss: 0.4325 - accuracy: 0.8504\n",
      "Epoch 8/10\n",
      "1875/1875 [==============================] - 7s 4ms/step - loss: 0.4320 - accuracy: 0.8501\n",
      "Epoch 9/10\n",
      "1875/1875 [==============================] - 7s 4ms/step - loss: 0.4231 - accuracy: 0.8539\n",
      "Epoch 10/10\n",
      "1875/1875 [==============================] - 7s 4ms/step - loss: 0.4182 - accuracy: 0.8522\n"
     ]
    },
    {
     "data": {
      "text/plain": [
       "<keras.callbacks.History at 0x7f100416a710>"
      ]
     },
     "execution_count": 44,
     "metadata": {},
     "output_type": "execute_result"
    }
   ],
   "source": [
    "net1 = tf.keras.Sequential()\n",
    "net1.add(tf.keras.layers.Flatten())\n",
    "net1.add(tf.keras.layers.Dense(500,activation='relu'))\n",
    "net1.add(tf.keras.layers.Dense(500,activation='relu'))\n",
    "net1.add(tf.keras.layers.Dense(10,activation='softmax'))\n",
    "net1.compile(optimizer='adam',loss=tf.losses.categorical_crossentropy,metrics='accuracy')\n",
    "net1.fit(X,y,epochs=10)"
   ]
  },
  {
   "cell_type": "code",
   "execution_count": 45,
   "id": "5cba273b-ed1e-463b-9508-6a739ca7777a",
   "metadata": {},
   "outputs": [
    {
     "name": "stdout",
     "output_type": "stream",
     "text": [
      "313/313 [==============================] - 1s 3ms/step - loss: 0.4547 - accuracy: 0.8397\n"
     ]
    },
    {
     "data": {
      "text/plain": [
       "[0.4547102153301239, 0.8396999835968018]"
      ]
     },
     "execution_count": 45,
     "metadata": {},
     "output_type": "execute_result"
    }
   ],
   "source": [
    "net1.evaluate(XX,yy)"
   ]
  },
  {
   "cell_type": "code",
   "execution_count": 46,
   "id": "249adcc1-59b3-4e30-b666-3bea6392139e",
   "metadata": {},
   "outputs": [
    {
     "name": "stdout",
     "output_type": "stream",
     "text": [
      "Model: \"sequential_9\"\n",
      "_________________________________________________________________\n",
      " Layer (type)                Output Shape              Param #   \n",
      "=================================================================\n",
      " flatten_8 (Flatten)         (None, 784)               0         \n",
      "                                                                 \n",
      " dense_20 (Dense)            (None, 500)               392500    \n",
      "                                                                 \n",
      " dense_21 (Dense)            (None, 500)               250500    \n",
      "                                                                 \n",
      " dense_22 (Dense)            (None, 10)                5010      \n",
      "                                                                 \n",
      "=================================================================\n",
      "Total params: 648,010\n",
      "Trainable params: 648,010\n",
      "Non-trainable params: 0\n",
      "_________________________________________________________________\n"
     ]
    }
   ],
   "source": [
    "net1.summary()"
   ]
  },
  {
   "cell_type": "markdown",
   "id": "b5fd2481-fa3b-4751-88b6-247d54f2c7f7",
   "metadata": {},
   "source": [
    "Dense layer로 한계가 있는 것 같으니 다른 방법을 찾아보자"
   ]
  },
  {
   "cell_type": "markdown",
   "id": "d0557219-b267-4078-8d31-a740a117c918",
   "metadata": {},
   "source": [
    "---"
   ]
  },
  {
   "cell_type": "markdown",
   "id": "73074df6-386c-4dfb-a693-28f88cf9225a",
   "metadata": {},
   "source": [
    "`-` 두번째 시도\n",
    "- `tf.keras.layers.Conv2D`\n",
    "- `tf.keras.layers.MaxPool2D`"
   ]
  },
  {
   "cell_type": "code",
   "execution_count": 47,
   "id": "6cf21d10-859a-4c41-b661-84d98846eb4c",
   "metadata": {},
   "outputs": [
    {
     "name": "stdout",
     "output_type": "stream",
     "text": [
      "Epoch 1/5\n",
      "1875/1875 [==============================] - 8s 4ms/step - loss: 1.3192 - accuracy: 0.7984\n",
      "Epoch 2/5\n",
      "1875/1875 [==============================] - 8s 4ms/step - loss: 0.4260 - accuracy: 0.8600\n",
      "Epoch 3/5\n",
      "1875/1875 [==============================] - 8s 4ms/step - loss: 0.3790 - accuracy: 0.8711\n",
      "Epoch 4/5\n",
      "1875/1875 [==============================] - 8s 4ms/step - loss: 0.3572 - accuracy: 0.8771\n",
      "Epoch 5/5\n",
      "1875/1875 [==============================] - 8s 4ms/step - loss: 0.3407 - accuracy: 0.8831\n"
     ]
    },
    {
     "data": {
      "text/plain": [
       "<keras.callbacks.History at 0x7f0f9c325cf0>"
      ]
     },
     "execution_count": 47,
     "metadata": {},
     "output_type": "execute_result"
    }
   ],
   "source": [
    "net2 = tf.keras.Sequential()\n",
    "net2.add(tf.keras.layers.Conv2D(30,(2,2)))\n",
    "net2.add(tf.keras.layers.MaxPool2D())\n",
    "net2.add(tf.keras.layers.Conv2D(30,(2,2)))\n",
    "net2.add(tf.keras.layers.MaxPool2D())\n",
    "net2.add(tf.keras.layers.Flatten())\n",
    "net2.add(tf.keras.layers.Dense(10,activation='softmax'))\n",
    "net2.compile(optimizer='adam',loss=tf.losses.categorical_crossentropy,metrics='accuracy')\n",
    "net2.fit(X,y,epochs=5)"
   ]
  },
  {
   "cell_type": "code",
   "execution_count": 48,
   "id": "59168730-7c22-4233-9950-89260a413e69",
   "metadata": {},
   "outputs": [
    {
     "name": "stdout",
     "output_type": "stream",
     "text": [
      "313/313 [==============================] - 1s 3ms/step - loss: 0.4007 - accuracy: 0.8666\n"
     ]
    },
    {
     "data": {
      "text/plain": [
       "[0.4006589353084564, 0.866599977016449]"
      ]
     },
     "execution_count": 48,
     "metadata": {},
     "output_type": "execute_result"
    }
   ],
   "source": [
    "net2.evaluate(XX,yy)"
   ]
  },
  {
   "cell_type": "code",
   "execution_count": 49,
   "id": "cddaee77-5bdb-48df-b023-701f7beb9fb5",
   "metadata": {},
   "outputs": [
    {
     "name": "stdout",
     "output_type": "stream",
     "text": [
      "Model: \"sequential_10\"\n",
      "_________________________________________________________________\n",
      " Layer (type)                Output Shape              Param #   \n",
      "=================================================================\n",
      " conv2d_5 (Conv2D)           (None, 27, 27, 30)        150       \n",
      "                                                                 \n",
      " max_pooling2d_4 (MaxPooling  (None, 13, 13, 30)       0         \n",
      " 2D)                                                             \n",
      "                                                                 \n",
      " conv2d_6 (Conv2D)           (None, 12, 12, 30)        3630      \n",
      "                                                                 \n",
      " max_pooling2d_5 (MaxPooling  (None, 6, 6, 30)         0         \n",
      " 2D)                                                             \n",
      "                                                                 \n",
      " flatten_9 (Flatten)         (None, 1080)              0         \n",
      "                                                                 \n",
      " dense_23 (Dense)            (None, 10)                10810     \n",
      "                                                                 \n",
      "=================================================================\n",
      "Total params: 14,590\n",
      "Trainable params: 14,590\n",
      "Non-trainable params: 0\n",
      "_________________________________________________________________\n"
     ]
    }
   ],
   "source": [
    "net2.summary()"
   ]
  },
  {
   "cell_type": "markdown",
   "id": "1a6abd91-ffac-4c99-bcb8-351ef2041f38",
   "metadata": {},
   "source": [
    "dense에 파라메터 뭉쳐있는 이유\n",
    "- 펼쳐진 노드를 뭉치기 때문에..\n",
    "- 1080*10*bias10개 = 10810 이렇게 계산되지!"
   ]
  },
  {
   "cell_type": "markdown",
   "id": "ceb65fb2-1593-4844-8896-eb1b0f3a5cac",
   "metadata": {},
   "source": [
    "- 정확도만 보면 net2가 낫네?\n",
    "- 파라메터 수를 보니 첫번째 시도 대비 파라메터를 적게 사용한 모습을 볼 수 있다.\n",
    "\n",
    "$\\therefore$ 파라메터 조금쓰고 정확도 높은 좋은 net2모형!"
   ]
  },
  {
   "cell_type": "code",
   "execution_count": 50,
   "id": "ddd09163-756d-4508-9f63-eae742779af2",
   "metadata": {},
   "outputs": [
    {
     "data": {
      "text/plain": [
       "[<keras.layers.convolutional.Conv2D at 0x7f0f9c7da230>,\n",
       " <keras.layers.pooling.MaxPooling2D at 0x7f0f9c7da8f0>,\n",
       " <keras.layers.convolutional.Conv2D at 0x7f10c033bf40>,\n",
       " <keras.layers.pooling.MaxPooling2D at 0x7f10047a9ae0>,\n",
       " <keras.layers.core.flatten.Flatten at 0x7f0f9c7db370>,\n",
       " <keras.layers.core.dense.Dense at 0x7f10c033be50>]"
      ]
     },
     "execution_count": 50,
     "metadata": {},
     "output_type": "execute_result"
    }
   ],
   "source": [
    "net2.layers"
   ]
  },
  {
   "cell_type": "markdown",
   "id": "b07cd032-e995-4bb7-a2c3-1cf3de651944",
   "metadata": {},
   "source": [
    "내가 설계한 네트워크의 순서를 확인해보자"
   ]
  },
  {
   "cell_type": "code",
   "execution_count": 51,
   "id": "e58362bc-7a4f-4789-9856-a80f09bf86c0",
   "metadata": {},
   "outputs": [],
   "source": [
    "c1,m1,c2,m2,flttn,dns = net2.layers"
   ]
  },
  {
   "cell_type": "code",
   "execution_count": 56,
   "id": "657befe5-3f67-4fb7-975a-bb05a62520a7",
   "metadata": {},
   "outputs": [
    {
     "name": "stdout",
     "output_type": "stream",
     "text": [
      "(60000, 28, 28, 1)\n",
      "(60000, 27, 27, 30)\n",
      "(60000, 13, 13, 30)\n",
      "(60000, 12, 12, 30)\n",
      "(60000, 6, 6, 30)\n",
      "(60000, 1080)\n",
      "(60000, 10)\n"
     ]
    }
   ],
   "source": [
    "print(X.shape) # 입력이미지 = 2D # 1은 채널이 하나라는 뜻\n",
    "print(c1(X).shape) # 2D # 갑자기 채널이 30이 되어버리!\n",
    "print(m1(c1(X)).shape) # 2D # maxpool 통과했더니 fixel 크기가 줄어들었네?\n",
    "print(c2(m1(c1(X))).shape) # 2D # 또 줄어들고 채널은 30으로 유지되는데?\n",
    "print(m2(c2(m1(c1(X)))).shape) # 2D # 모두 퍼져서 12*12*30=4320이 되어버림\n",
    "print(flttn(m2(c2(m1(c1(X))))).shape) # 2D\n",
    "print(dns(flttn(m2(c2(m1(c1(X)))))).shape) # 2D"
   ]
  },
  {
   "cell_type": "markdown",
   "id": "73e30271-59f9-4abe-a293-8c019c8c314f",
   "metadata": {},
   "source": [
    "밑에서 배우겠지만 27 ->13 갈때 행/열 하나씩 잘림(기본 옵션)\n",
    "\n",
    "채널 갑자기 믾아진 이유 어느것이든 맞추겠지!"
   ]
  },
  {
   "cell_type": "code",
   "execution_count": 41,
   "id": "d6cfd11e-14a0-45d0-9ac1-42448d10eab0",
   "metadata": {},
   "outputs": [
    {
     "name": "stdout",
     "output_type": "stream",
     "text": [
      "Epoch 1/5\n",
      "1875/1875 [==============================] - 8s 4ms/step - loss: 0.7736 - accuracy: 0.8055\n",
      "Epoch 2/5\n",
      "1875/1875 [==============================] - 8s 4ms/step - loss: 0.3742 - accuracy: 0.8654\n",
      "Epoch 3/5\n",
      "1875/1875 [==============================] - 8s 4ms/step - loss: 0.3343 - accuracy: 0.8789\n",
      "Epoch 4/5\n",
      "1875/1875 [==============================] - 8s 4ms/step - loss: 0.3126 - accuracy: 0.8867\n",
      "Epoch 5/5\n",
      "1875/1875 [==============================] - 8s 4ms/step - loss: 0.2971 - accuracy: 0.8908\n"
     ]
    },
    {
     "data": {
      "text/plain": [
       "<keras.callbacks.History at 0x7f0f9c765510>"
      ]
     },
     "execution_count": 41,
     "metadata": {},
     "output_type": "execute_result"
    }
   ],
   "source": [
    "net2 = tf.keras.Sequential()\n",
    "net2.add(tf.keras.layers.Conv2D(30,(2,2),activation='relu'))\n",
    "net2.add(tf.keras.layers.MaxPool2D())\n",
    "net2.add(tf.keras.layers.Conv2D(30,(2,2),activation='relu'))\n",
    "net2.add(tf.keras.layers.MaxPool2D())\n",
    "net2.add(tf.keras.layers.Flatten())\n",
    "net2.add(tf.keras.layers.Dense(10,activation='softmax'))\n",
    "net2.compile(optimizer='adam',loss=tf.losses.categorical_crossentropy,metrics='accuracy')\n",
    "net2.fit(X,y,epochs=5)"
   ]
  },
  {
   "cell_type": "code",
   "execution_count": 42,
   "id": "b36b2321-1255-41fb-8141-05bdedfc02a0",
   "metadata": {},
   "outputs": [
    {
     "name": "stdout",
     "output_type": "stream",
     "text": [
      "313/313 [==============================] - 1s 3ms/step - loss: 0.3276 - accuracy: 0.8802\n"
     ]
    },
    {
     "data": {
      "text/plain": [
       "[0.32759028673171997, 0.8802000284194946]"
      ]
     },
     "execution_count": 42,
     "metadata": {},
     "output_type": "execute_result"
    }
   ],
   "source": [
    "net2.evaluate(XX,yy)"
   ]
  },
  {
   "cell_type": "markdown",
   "id": "f1fa1893-f4d8-4071-b617-8d178ffef19b",
   "metadata": {},
   "source": [
    "### maxpooling2D"
   ]
  },
  {
   "cell_type": "markdown",
   "id": "0e3c3431-b725-4d02-a86a-300120bd342b",
   "metadata": {
    "tags": []
   },
   "source": [
    "#### 테스트1"
   ]
  },
  {
   "cell_type": "code",
   "execution_count": 59,
   "id": "8ce77b2d-b3e1-4d27-bec6-6803da44e0f4",
   "metadata": {},
   "outputs": [],
   "source": [
    "m = tf.keras.layers.MaxPooling2D()"
   ]
  },
  {
   "cell_type": "code",
   "execution_count": 62,
   "id": "74a00122-8d7d-4393-a229-04898ffa46b3",
   "metadata": {},
   "outputs": [
    {
     "data": {
      "text/plain": [
       "<tf.Tensor: shape=(1, 4, 4, 1), dtype=int64, numpy=\n",
       "array([[[[ 0],\n",
       "         [ 1],\n",
       "         [ 2],\n",
       "         [ 3]],\n",
       "\n",
       "        [[ 4],\n",
       "         [ 5],\n",
       "         [ 6],\n",
       "         [ 7]],\n",
       "\n",
       "        [[ 8],\n",
       "         [ 9],\n",
       "         [10],\n",
       "         [11]],\n",
       "\n",
       "        [[12],\n",
       "         [13],\n",
       "         [14],\n",
       "         [15]]]])>"
      ]
     },
     "execution_count": 62,
     "metadata": {},
     "output_type": "execute_result"
    }
   ],
   "source": [
    "XXX = tnp.arange(1*4*4*1).reshape(1,4,4,1)\n",
    "XXX # observation / color / channel"
   ]
  },
  {
   "cell_type": "code",
   "execution_count": 64,
   "id": "1aaffb44-b6cb-48ff-a9ee-9e7c15a9d737",
   "metadata": {},
   "outputs": [
    {
     "data": {
      "text/plain": [
       "<tf.Tensor: shape=(1, 2, 2), dtype=int64, numpy=\n",
       "array([[[ 5,  7],\n",
       "        [13, 15]]])>"
      ]
     },
     "execution_count": 64,
     "metadata": {},
     "output_type": "execute_result"
    }
   ],
   "source": [
    "m(XXX).reshape(1,2,2)"
   ]
  },
  {
   "cell_type": "markdown",
   "id": "d0cb5c5a-e562-41e4-b347-9c850d2b1ca0",
   "metadata": {},
   "source": [
    "여기로 가는 mapping을 찾아볼까"
   ]
  },
  {
   "cell_type": "code",
   "execution_count": 63,
   "id": "afe74f48-ebd0-45ff-aa75-dd7cfbd9d3ea",
   "metadata": {},
   "outputs": [
    {
     "data": {
      "text/plain": [
       "<tf.Tensor: shape=(1, 4, 4), dtype=int64, numpy=\n",
       "array([[[ 0,  1,  2,  3],\n",
       "        [ 4,  5,  6,  7],\n",
       "        [ 8,  9, 10, 11],\n",
       "        [12, 13, 14, 15]]])>"
      ]
     },
     "execution_count": 63,
     "metadata": {},
     "output_type": "execute_result"
    }
   ],
   "source": [
    "XXX.reshape(1,4,4) #우리가 생각하는 이미지의 모습"
   ]
  },
  {
   "cell_type": "markdown",
   "id": "3456b534-879f-4f73-82ce-c2b3bf573bd7",
   "metadata": {},
   "source": [
    "[0,1,4,5] 중 max는 5\n",
    "\n",
    "[2,3,6,7] 중 max는 7\n",
    "\n",
    "[8,9,12,13] 중 max는 13\n",
    "\n",
    "[10,11,14,15] 중 max는 15"
   ]
  },
  {
   "cell_type": "markdown",
   "id": "46e518de-fa2c-4c88-a623-7046350e28d2",
   "metadata": {},
   "source": [
    "`-` MaxPool2D layer의 역할: (2,2) 윈도우를 만들고 (2,2) 윈도우에서 max를 뽑아 값을 기록, 윈도우를 움직이면서 반복"
   ]
  },
  {
   "cell_type": "markdown",
   "id": "73b9e10f-04d5-4f6b-8d7d-e5f5204ab068",
   "metadata": {
    "tags": []
   },
   "source": [
    "#### 테스트2"
   ]
  },
  {
   "cell_type": "code",
   "execution_count": 65,
   "id": "df27dffc-db95-4b8b-b613-4deca422c383",
   "metadata": {},
   "outputs": [
    {
     "data": {
      "text/plain": [
       "<tf.Tensor: shape=(1, 6, 6), dtype=int64, numpy=\n",
       "array([[[ 0,  1,  2,  3,  4,  5],\n",
       "        [ 6,  7,  8,  9, 10, 11],\n",
       "        [12, 13, 14, 15, 16, 17],\n",
       "        [18, 19, 20, 21, 22, 23],\n",
       "        [24, 25, 26, 27, 28, 29],\n",
       "        [30, 31, 32, 33, 34, 35]]])>"
      ]
     },
     "execution_count": 65,
     "metadata": {},
     "output_type": "execute_result"
    }
   ],
   "source": [
    "XXX = tnp.arange(1*6*6*1).reshape(1,6,6,1)\n",
    "XXX.reshape(1,6,6) # 흑백 이미지라면 이렇게 보일 것"
   ]
  },
  {
   "cell_type": "code",
   "execution_count": 66,
   "id": "7f26f837-9209-4403-b80c-f39603824f7d",
   "metadata": {},
   "outputs": [
    {
     "data": {
      "text/plain": [
       "<tf.Tensor: shape=(1, 3, 3), dtype=int64, numpy=\n",
       "array([[[ 7,  9, 11],\n",
       "        [19, 21, 23],\n",
       "        [31, 33, 35]]])>"
      ]
     },
     "execution_count": 66,
     "metadata": {},
     "output_type": "execute_result"
    }
   ],
   "source": [
    "m(XXX).reshape(1,3,3)"
   ]
  },
  {
   "cell_type": "markdown",
   "id": "73c839f4-7030-4fe7-affd-41d791c52b8c",
   "metadata": {
    "tags": []
   },
   "source": [
    "#### 테스트3"
   ]
  },
  {
   "cell_type": "code",
   "execution_count": 71,
   "id": "ad5ad873-8ce0-4d7a-b61f-58242ec64629",
   "metadata": {
    "scrolled": true,
    "tags": []
   },
   "outputs": [
    {
     "data": {
      "text/plain": [
       "\u001b[0;31mInit signature:\u001b[0m\n",
       "\u001b[0mtf\u001b[0m\u001b[0;34m.\u001b[0m\u001b[0mkeras\u001b[0m\u001b[0;34m.\u001b[0m\u001b[0mlayers\u001b[0m\u001b[0;34m.\u001b[0m\u001b[0mMaxPooling2D\u001b[0m\u001b[0;34m(\u001b[0m\u001b[0;34m\u001b[0m\n",
       "\u001b[0;34m\u001b[0m    \u001b[0mpool_size\u001b[0m\u001b[0;34m=\u001b[0m\u001b[0;34m(\u001b[0m\u001b[0;36m2\u001b[0m\u001b[0;34m,\u001b[0m \u001b[0;36m2\u001b[0m\u001b[0;34m)\u001b[0m\u001b[0;34m,\u001b[0m\u001b[0;34m\u001b[0m\n",
       "\u001b[0;34m\u001b[0m    \u001b[0mstrides\u001b[0m\u001b[0;34m=\u001b[0m\u001b[0;32mNone\u001b[0m\u001b[0;34m,\u001b[0m\u001b[0;34m\u001b[0m\n",
       "\u001b[0;34m\u001b[0m    \u001b[0mpadding\u001b[0m\u001b[0;34m=\u001b[0m\u001b[0;34m'valid'\u001b[0m\u001b[0;34m,\u001b[0m\u001b[0;34m\u001b[0m\n",
       "\u001b[0;34m\u001b[0m    \u001b[0mdata_format\u001b[0m\u001b[0;34m=\u001b[0m\u001b[0;32mNone\u001b[0m\u001b[0;34m,\u001b[0m\u001b[0;34m\u001b[0m\n",
       "\u001b[0;34m\u001b[0m    \u001b[0;34m**\u001b[0m\u001b[0mkwargs\u001b[0m\u001b[0;34m,\u001b[0m\u001b[0;34m\u001b[0m\n",
       "\u001b[0;34m\u001b[0m\u001b[0;34m)\u001b[0m\u001b[0;34m\u001b[0m\u001b[0;34m\u001b[0m\u001b[0m\n",
       "\u001b[0;31mSource:\u001b[0m        \n",
       "\u001b[0;34m@\u001b[0m\u001b[0mkeras_export\u001b[0m\u001b[0;34m(\u001b[0m\u001b[0;34m'keras.layers.MaxPool2D'\u001b[0m\u001b[0;34m,\u001b[0m \u001b[0;34m'keras.layers.MaxPooling2D'\u001b[0m\u001b[0;34m)\u001b[0m\u001b[0;34m\u001b[0m\n",
       "\u001b[0;34m\u001b[0m\u001b[0;32mclass\u001b[0m \u001b[0mMaxPooling2D\u001b[0m\u001b[0;34m(\u001b[0m\u001b[0mPooling2D\u001b[0m\u001b[0;34m)\u001b[0m\u001b[0;34m:\u001b[0m\u001b[0;34m\u001b[0m\n",
       "\u001b[0;34m\u001b[0m  \u001b[0;34m\"\"\"Max pooling operation for 2D spatial data.\u001b[0m\n",
       "\u001b[0;34m\u001b[0m\n",
       "\u001b[0;34m  Downsamples the input along its spatial dimensions (height and width)\u001b[0m\n",
       "\u001b[0;34m  by taking the maximum value over an input window\u001b[0m\n",
       "\u001b[0;34m  (of size defined by `pool_size`) for each channel of the input.\u001b[0m\n",
       "\u001b[0;34m  The window is shifted by `strides` along each dimension.\u001b[0m\n",
       "\u001b[0;34m\u001b[0m\n",
       "\u001b[0;34m  The resulting output,\u001b[0m\n",
       "\u001b[0;34m  when using the `\"valid\"` padding option, has a spatial shape\u001b[0m\n",
       "\u001b[0;34m  (number of rows or columns) of:\u001b[0m\n",
       "\u001b[0;34m  `output_shape = math.floor((input_shape - pool_size) / strides) + 1`\u001b[0m\n",
       "\u001b[0;34m  (when `input_shape >= pool_size`)\u001b[0m\n",
       "\u001b[0;34m\u001b[0m\n",
       "\u001b[0;34m  The resulting output shape when using the `\"same\"` padding option is:\u001b[0m\n",
       "\u001b[0;34m  `output_shape = math.floor((input_shape - 1) / strides) + 1`\u001b[0m\n",
       "\u001b[0;34m\u001b[0m\n",
       "\u001b[0;34m  For example, for `strides=(1, 1)` and `padding=\"valid\"`:\u001b[0m\n",
       "\u001b[0;34m\u001b[0m\n",
       "\u001b[0;34m  >>> x = tf.constant([[1., 2., 3.],\u001b[0m\n",
       "\u001b[0;34m  ...                  [4., 5., 6.],\u001b[0m\n",
       "\u001b[0;34m  ...                  [7., 8., 9.]])\u001b[0m\n",
       "\u001b[0;34m  >>> x = tf.reshape(x, [1, 3, 3, 1])\u001b[0m\n",
       "\u001b[0;34m  >>> max_pool_2d = tf.keras.layers.MaxPooling2D(pool_size=(2, 2),\u001b[0m\n",
       "\u001b[0;34m  ...    strides=(1, 1), padding='valid')\u001b[0m\n",
       "\u001b[0;34m  >>> max_pool_2d(x)\u001b[0m\n",
       "\u001b[0;34m  <tf.Tensor: shape=(1, 2, 2, 1), dtype=float32, numpy=\u001b[0m\n",
       "\u001b[0;34m    array([[[[5.],\u001b[0m\n",
       "\u001b[0;34m             [6.]],\u001b[0m\n",
       "\u001b[0;34m            [[8.],\u001b[0m\n",
       "\u001b[0;34m             [9.]]]], dtype=float32)>\u001b[0m\n",
       "\u001b[0;34m\u001b[0m\n",
       "\u001b[0;34m  For example, for `strides=(2, 2)` and `padding=\"valid\"`:\u001b[0m\n",
       "\u001b[0;34m\u001b[0m\n",
       "\u001b[0;34m  >>> x = tf.constant([[1., 2., 3., 4.],\u001b[0m\n",
       "\u001b[0;34m  ...                  [5., 6., 7., 8.],\u001b[0m\n",
       "\u001b[0;34m  ...                  [9., 10., 11., 12.]])\u001b[0m\n",
       "\u001b[0;34m  >>> x = tf.reshape(x, [1, 3, 4, 1])\u001b[0m\n",
       "\u001b[0;34m  >>> max_pool_2d = tf.keras.layers.MaxPooling2D(pool_size=(2, 2),\u001b[0m\n",
       "\u001b[0;34m  ...    strides=(2, 2), padding='valid')\u001b[0m\n",
       "\u001b[0;34m  >>> max_pool_2d(x)\u001b[0m\n",
       "\u001b[0;34m  <tf.Tensor: shape=(1, 1, 2, 1), dtype=float32, numpy=\u001b[0m\n",
       "\u001b[0;34m    array([[[[6.],\u001b[0m\n",
       "\u001b[0;34m             [8.]]]], dtype=float32)>\u001b[0m\n",
       "\u001b[0;34m\u001b[0m\n",
       "\u001b[0;34m  Usage Example:\u001b[0m\n",
       "\u001b[0;34m\u001b[0m\n",
       "\u001b[0;34m  >>> input_image = tf.constant([[[[1.], [1.], [2.], [4.]],\u001b[0m\n",
       "\u001b[0;34m  ...                            [[2.], [2.], [3.], [2.]],\u001b[0m\n",
       "\u001b[0;34m  ...                            [[4.], [1.], [1.], [1.]],\u001b[0m\n",
       "\u001b[0;34m  ...                            [[2.], [2.], [1.], [4.]]]])\u001b[0m\n",
       "\u001b[0;34m  >>> output = tf.constant([[[[1], [0]],\u001b[0m\n",
       "\u001b[0;34m  ...                       [[0], [1]]]])\u001b[0m\n",
       "\u001b[0;34m  >>> model = tf.keras.models.Sequential()\u001b[0m\n",
       "\u001b[0;34m  >>> model.add(tf.keras.layers.MaxPooling2D(pool_size=(2, 2),\u001b[0m\n",
       "\u001b[0;34m  ...    input_shape=(4, 4, 1)))\u001b[0m\n",
       "\u001b[0;34m  >>> model.compile('adam', 'mean_squared_error')\u001b[0m\n",
       "\u001b[0;34m  >>> model.predict(input_image, steps=1)\u001b[0m\n",
       "\u001b[0;34m  array([[[[2.],\u001b[0m\n",
       "\u001b[0;34m           [4.]],\u001b[0m\n",
       "\u001b[0;34m          [[4.],\u001b[0m\n",
       "\u001b[0;34m           [4.]]]], dtype=float32)\u001b[0m\n",
       "\u001b[0;34m\u001b[0m\n",
       "\u001b[0;34m  For example, for stride=(1, 1) and padding=\"same\":\u001b[0m\n",
       "\u001b[0;34m\u001b[0m\n",
       "\u001b[0;34m  >>> x = tf.constant([[1., 2., 3.],\u001b[0m\n",
       "\u001b[0;34m  ...                  [4., 5., 6.],\u001b[0m\n",
       "\u001b[0;34m  ...                  [7., 8., 9.]])\u001b[0m\n",
       "\u001b[0;34m  >>> x = tf.reshape(x, [1, 3, 3, 1])\u001b[0m\n",
       "\u001b[0;34m  >>> max_pool_2d = tf.keras.layers.MaxPooling2D(pool_size=(2, 2),\u001b[0m\n",
       "\u001b[0;34m  ...    strides=(1, 1), padding='same')\u001b[0m\n",
       "\u001b[0;34m  >>> max_pool_2d(x)\u001b[0m\n",
       "\u001b[0;34m  <tf.Tensor: shape=(1, 3, 3, 1), dtype=float32, numpy=\u001b[0m\n",
       "\u001b[0;34m    array([[[[5.],\u001b[0m\n",
       "\u001b[0;34m             [6.],\u001b[0m\n",
       "\u001b[0;34m             [6.]],\u001b[0m\n",
       "\u001b[0;34m            [[8.],\u001b[0m\n",
       "\u001b[0;34m             [9.],\u001b[0m\n",
       "\u001b[0;34m             [9.]],\u001b[0m\n",
       "\u001b[0;34m            [[8.],\u001b[0m\n",
       "\u001b[0;34m             [9.],\u001b[0m\n",
       "\u001b[0;34m             [9.]]]], dtype=float32)>\u001b[0m\n",
       "\u001b[0;34m\u001b[0m\n",
       "\u001b[0;34m  Args:\u001b[0m\n",
       "\u001b[0;34m    pool_size: integer or tuple of 2 integers,\u001b[0m\n",
       "\u001b[0;34m      window size over which to take the maximum.\u001b[0m\n",
       "\u001b[0;34m      `(2, 2)` will take the max value over a 2x2 pooling window.\u001b[0m\n",
       "\u001b[0;34m      If only one integer is specified, the same window length\u001b[0m\n",
       "\u001b[0;34m      will be used for both dimensions.\u001b[0m\n",
       "\u001b[0;34m    strides: Integer, tuple of 2 integers, or None.\u001b[0m\n",
       "\u001b[0;34m      Strides values.  Specifies how far the pooling window moves\u001b[0m\n",
       "\u001b[0;34m      for each pooling step. If None, it will default to `pool_size`.\u001b[0m\n",
       "\u001b[0;34m    padding: One of `\"valid\"` or `\"same\"` (case-insensitive).\u001b[0m\n",
       "\u001b[0;34m      `\"valid\"` means no padding. `\"same\"` results in padding evenly to\u001b[0m\n",
       "\u001b[0;34m      the left/right or up/down of the input such that output has the same\u001b[0m\n",
       "\u001b[0;34m      height/width dimension as the input.\u001b[0m\n",
       "\u001b[0;34m    data_format: A string,\u001b[0m\n",
       "\u001b[0;34m      one of `channels_last` (default) or `channels_first`.\u001b[0m\n",
       "\u001b[0;34m      The ordering of the dimensions in the inputs.\u001b[0m\n",
       "\u001b[0;34m      `channels_last` corresponds to inputs with shape\u001b[0m\n",
       "\u001b[0;34m      `(batch, height, width, channels)` while `channels_first`\u001b[0m\n",
       "\u001b[0;34m      corresponds to inputs with shape\u001b[0m\n",
       "\u001b[0;34m      `(batch, channels, height, width)`.\u001b[0m\n",
       "\u001b[0;34m      It defaults to the `image_data_format` value found in your\u001b[0m\n",
       "\u001b[0;34m      Keras config file at `~/.keras/keras.json`.\u001b[0m\n",
       "\u001b[0;34m      If you never set it, then it will be \"channels_last\".\u001b[0m\n",
       "\u001b[0;34m\u001b[0m\n",
       "\u001b[0;34m  Input shape:\u001b[0m\n",
       "\u001b[0;34m    - If `data_format='channels_last'`:\u001b[0m\n",
       "\u001b[0;34m      4D tensor with shape `(batch_size, rows, cols, channels)`.\u001b[0m\n",
       "\u001b[0;34m    - If `data_format='channels_first'`:\u001b[0m\n",
       "\u001b[0;34m      4D tensor with shape `(batch_size, channels, rows, cols)`.\u001b[0m\n",
       "\u001b[0;34m\u001b[0m\n",
       "\u001b[0;34m  Output shape:\u001b[0m\n",
       "\u001b[0;34m    - If `data_format='channels_last'`:\u001b[0m\n",
       "\u001b[0;34m      4D tensor with shape `(batch_size, pooled_rows, pooled_cols, channels)`.\u001b[0m\n",
       "\u001b[0;34m    - If `data_format='channels_first'`:\u001b[0m\n",
       "\u001b[0;34m      4D tensor with shape `(batch_size, channels, pooled_rows, pooled_cols)`.\u001b[0m\n",
       "\u001b[0;34m\u001b[0m\n",
       "\u001b[0;34m  Returns:\u001b[0m\n",
       "\u001b[0;34m    A tensor of rank 4 representing the maximum pooled values.  See above for\u001b[0m\n",
       "\u001b[0;34m    output shape.\u001b[0m\n",
       "\u001b[0;34m  \"\"\"\u001b[0m\u001b[0;34m\u001b[0m\n",
       "\u001b[0;34m\u001b[0m\u001b[0;34m\u001b[0m\n",
       "\u001b[0;34m\u001b[0m  \u001b[0;32mdef\u001b[0m \u001b[0m__init__\u001b[0m\u001b[0;34m(\u001b[0m\u001b[0mself\u001b[0m\u001b[0;34m,\u001b[0m\u001b[0;34m\u001b[0m\n",
       "\u001b[0;34m\u001b[0m               \u001b[0mpool_size\u001b[0m\u001b[0;34m=\u001b[0m\u001b[0;34m(\u001b[0m\u001b[0;36m2\u001b[0m\u001b[0;34m,\u001b[0m \u001b[0;36m2\u001b[0m\u001b[0;34m)\u001b[0m\u001b[0;34m,\u001b[0m\u001b[0;34m\u001b[0m\n",
       "\u001b[0;34m\u001b[0m               \u001b[0mstrides\u001b[0m\u001b[0;34m=\u001b[0m\u001b[0;32mNone\u001b[0m\u001b[0;34m,\u001b[0m\u001b[0;34m\u001b[0m\n",
       "\u001b[0;34m\u001b[0m               \u001b[0mpadding\u001b[0m\u001b[0;34m=\u001b[0m\u001b[0;34m'valid'\u001b[0m\u001b[0;34m,\u001b[0m\u001b[0;34m\u001b[0m\n",
       "\u001b[0;34m\u001b[0m               \u001b[0mdata_format\u001b[0m\u001b[0;34m=\u001b[0m\u001b[0;32mNone\u001b[0m\u001b[0;34m,\u001b[0m\u001b[0;34m\u001b[0m\n",
       "\u001b[0;34m\u001b[0m               \u001b[0;34m**\u001b[0m\u001b[0mkwargs\u001b[0m\u001b[0;34m)\u001b[0m\u001b[0;34m:\u001b[0m\u001b[0;34m\u001b[0m\n",
       "\u001b[0;34m\u001b[0m    \u001b[0msuper\u001b[0m\u001b[0;34m(\u001b[0m\u001b[0mMaxPooling2D\u001b[0m\u001b[0;34m,\u001b[0m \u001b[0mself\u001b[0m\u001b[0;34m)\u001b[0m\u001b[0;34m.\u001b[0m\u001b[0m__init__\u001b[0m\u001b[0;34m(\u001b[0m\u001b[0;34m\u001b[0m\n",
       "\u001b[0;34m\u001b[0m        \u001b[0mtf\u001b[0m\u001b[0;34m.\u001b[0m\u001b[0mcompat\u001b[0m\u001b[0;34m.\u001b[0m\u001b[0mv1\u001b[0m\u001b[0;34m.\u001b[0m\u001b[0mnn\u001b[0m\u001b[0;34m.\u001b[0m\u001b[0mmax_pool\u001b[0m\u001b[0;34m,\u001b[0m\u001b[0;34m\u001b[0m\n",
       "\u001b[0;34m\u001b[0m        \u001b[0mpool_size\u001b[0m\u001b[0;34m=\u001b[0m\u001b[0mpool_size\u001b[0m\u001b[0;34m,\u001b[0m \u001b[0mstrides\u001b[0m\u001b[0;34m=\u001b[0m\u001b[0mstrides\u001b[0m\u001b[0;34m,\u001b[0m\u001b[0;34m\u001b[0m\n",
       "\u001b[0;34m\u001b[0m        \u001b[0mpadding\u001b[0m\u001b[0;34m=\u001b[0m\u001b[0mpadding\u001b[0m\u001b[0;34m,\u001b[0m \u001b[0mdata_format\u001b[0m\u001b[0;34m=\u001b[0m\u001b[0mdata_format\u001b[0m\u001b[0;34m,\u001b[0m \u001b[0;34m**\u001b[0m\u001b[0mkwargs\u001b[0m\u001b[0;34m)\u001b[0m\u001b[0;34m\u001b[0m\u001b[0;34m\u001b[0m\u001b[0m\n",
       "\u001b[0;31mFile:\u001b[0m           ~/anaconda3/envs/stbda2022/lib/python3.10/site-packages/keras/layers/pooling.py\n",
       "\u001b[0;31mType:\u001b[0m           type\n",
       "\u001b[0;31mSubclasses:\u001b[0m     MaxPooling2D\n"
      ]
     },
     "metadata": {},
     "output_type": "display_data"
    }
   ],
   "source": [
    "#collapse_output\n",
    "tf.keras.layers.MaxPooling2D??"
   ]
  },
  {
   "cell_type": "code",
   "execution_count": 72,
   "id": "87b5c3e2-24bf-4ebb-b5e5-947779714df9",
   "metadata": {},
   "outputs": [],
   "source": [
    "m = tf.keras.layers.MaxPooling2D(pool_size=(3,3))"
   ]
  },
  {
   "cell_type": "code",
   "execution_count": 73,
   "id": "85ec82f9-db0e-4fa9-bd6e-f9134b331d59",
   "metadata": {},
   "outputs": [
    {
     "data": {
      "text/plain": [
       "<tf.Tensor: shape=(1, 6, 6), dtype=int64, numpy=\n",
       "array([[[ 0,  1,  2,  3,  4,  5],\n",
       "        [ 6,  7,  8,  9, 10, 11],\n",
       "        [12, 13, 14, 15, 16, 17],\n",
       "        [18, 19, 20, 21, 22, 23],\n",
       "        [24, 25, 26, 27, 28, 29],\n",
       "        [30, 31, 32, 33, 34, 35]]])>"
      ]
     },
     "execution_count": 73,
     "metadata": {},
     "output_type": "execute_result"
    }
   ],
   "source": [
    "XXX = tnp.arange(1*6*6*1).reshape(1,6,6,1)\n",
    "XXX.reshape(1,6,6) # 흑백 이미지라면 이렇게 보일 것"
   ]
  },
  {
   "cell_type": "code",
   "execution_count": 74,
   "id": "e1ff54f1-d02e-43ec-80c7-fcc1e5f95bf3",
   "metadata": {},
   "outputs": [
    {
     "data": {
      "text/plain": [
       "<tf.Tensor: shape=(1, 2, 2), dtype=int64, numpy=\n",
       "array([[[14, 17],\n",
       "        [32, 35]]])>"
      ]
     },
     "execution_count": 74,
     "metadata": {},
     "output_type": "execute_result"
    }
   ],
   "source": [
    "m(XXX).reshape(1,2,2)"
   ]
  },
  {
   "cell_type": "markdown",
   "id": "3c4d0f40-c027-4513-a905-b28843bf2b5f",
   "metadata": {
    "tags": []
   },
   "source": [
    "#### 테스트4"
   ]
  },
  {
   "cell_type": "code",
   "execution_count": 77,
   "id": "692f8ae4-6938-4d36-9dfa-45d9cf4402d1",
   "metadata": {},
   "outputs": [],
   "source": [
    "m = tf.keras.layers.MaxPooling2D(pool_size=(2,2))"
   ]
  },
  {
   "cell_type": "code",
   "execution_count": 78,
   "id": "c516a524-6ad6-4959-a904-2cbdad5d952c",
   "metadata": {},
   "outputs": [
    {
     "data": {
      "text/plain": [
       "<tf.Tensor: shape=(1, 5, 5), dtype=int64, numpy=\n",
       "array([[[ 0,  1,  2,  3,  4],\n",
       "        [ 5,  6,  7,  8,  9],\n",
       "        [10, 11, 12, 13, 14],\n",
       "        [15, 16, 17, 18, 19],\n",
       "        [20, 21, 22, 23, 24]]])>"
      ]
     },
     "execution_count": 78,
     "metadata": {},
     "output_type": "execute_result"
    }
   ],
   "source": [
    "XXX = tnp.arange(1*5*5*1).reshape(1,5,5,1)\n",
    "XXX.reshape(1,5,5) # 흑백 이미지라면 이렇게 보일 것"
   ]
  },
  {
   "cell_type": "code",
   "execution_count": 79,
   "id": "e232c62a-ab27-46ba-89f1-58ae75111ae4",
   "metadata": {},
   "outputs": [
    {
     "data": {
      "text/plain": [
       "<tf.Tensor: shape=(1, 2, 2), dtype=int64, numpy=\n",
       "array([[[ 6,  8],\n",
       "        [16, 18]]])>"
      ]
     },
     "execution_count": 79,
     "metadata": {},
     "output_type": "execute_result"
    }
   ],
   "source": [
    "m(XXX).reshape(1,2,2)"
   ]
  },
  {
   "cell_type": "markdown",
   "id": "e6d8bbf9-d033-4076-b2c4-9b4d41e5620e",
   "metadata": {},
   "source": [
    "애매한 열/행 수를 넣어주니 마지막 열/행은 버려버리네!\n",
    "- 차원이 안 맞으면 버려버림( 기본 옵션)"
   ]
  },
  {
   "cell_type": "code",
   "execution_count": 83,
   "id": "3c13b7fa-3e66-44ff-9b75-c0bc10793f7c",
   "metadata": {},
   "outputs": [],
   "source": [
    "m = tf.keras.layers.MaxPooling2D(pool_size=(2,2),padding='same')"
   ]
  },
  {
   "cell_type": "code",
   "execution_count": 84,
   "id": "9060afac-e32c-4cb8-b7b3-e411fe8410d2",
   "metadata": {},
   "outputs": [
    {
     "data": {
      "text/plain": [
       "<tf.Tensor: shape=(1, 5, 5), dtype=int64, numpy=\n",
       "array([[[ 0,  1,  2,  3,  4],\n",
       "        [ 5,  6,  7,  8,  9],\n",
       "        [10, 11, 12, 13, 14],\n",
       "        [15, 16, 17, 18, 19],\n",
       "        [20, 21, 22, 23, 24]]])>"
      ]
     },
     "execution_count": 84,
     "metadata": {},
     "output_type": "execute_result"
    }
   ],
   "source": [
    "XXX = tnp.arange(1*5*5*1).reshape(1,5,5,1)\n",
    "XXX.reshape(1,5,5) # 흑백 이미지라면 이렇게 보일 것"
   ]
  },
  {
   "cell_type": "code",
   "execution_count": 86,
   "id": "28a56094-3163-4d4d-a76f-84077352643a",
   "metadata": {},
   "outputs": [
    {
     "data": {
      "text/plain": [
       "<tf.Tensor: shape=(1, 3, 3), dtype=int64, numpy=\n",
       "array([[[ 6,  8,  9],\n",
       "        [16, 18, 19],\n",
       "        [21, 23, 24]]])>"
      ]
     },
     "execution_count": 86,
     "metadata": {},
     "output_type": "execute_result"
    }
   ],
   "source": [
    "m(XXX).reshape(1,3,3)"
   ]
  },
  {
   "cell_type": "markdown",
   "id": "03ca9ad0-b331-4c44-8c3c-7a0d8529deb0",
   "metadata": {},
   "source": [
    "`padding =\"same\"` 옵션을 넣어주니 차원을 버리지 않고 다 사용하네?\n",
    "- 균형을 맞춰 구하진 않음\n",
    "- 24의 경우 24 하나의 값 중에서 큰 값인 24를 택한 것."
   ]
  },
  {
   "cell_type": "markdown",
   "id": "9ae8fa0f-649f-4929-9dfa-a331d80b623e",
   "metadata": {
    "tags": []
   },
   "source": [
    "#### 테스트5"
   ]
  },
  {
   "cell_type": "code",
   "execution_count": 87,
   "id": "9ae1a1d4-aec5-4205-9679-edfe685f3112",
   "metadata": {},
   "outputs": [
    {
     "data": {
      "text/plain": [
       "<tf.Tensor: shape=(2, 4, 4), dtype=int64, numpy=\n",
       "array([[[ 0,  1,  2,  3],\n",
       "        [ 4,  5,  6,  7],\n",
       "        [ 8,  9, 10, 11],\n",
       "        [12, 13, 14, 15]],\n",
       "\n",
       "       [[16, 17, 18, 19],\n",
       "        [20, 21, 22, 23],\n",
       "        [24, 25, 26, 27],\n",
       "        [28, 29, 30, 31]]])>"
      ]
     },
     "execution_count": 87,
     "metadata": {},
     "output_type": "execute_result"
    }
   ],
   "source": [
    "XXX = tnp.arange(2*4*4*1).reshape(2,4,4,1)\n",
    "XXX.reshape(2,4,4)"
   ]
  },
  {
   "cell_type": "code",
   "execution_count": 88,
   "id": "94b430ab-5f87-4714-8403-a7ab11c9f5a5",
   "metadata": {},
   "outputs": [
    {
     "data": {
      "text/plain": [
       "<tf.Tensor: shape=(2, 2, 2), dtype=int64, numpy=\n",
       "array([[[ 5,  7],\n",
       "        [13, 15]],\n",
       "\n",
       "       [[21, 23],\n",
       "        [29, 31]]])>"
      ]
     },
     "execution_count": 88,
     "metadata": {},
     "output_type": "execute_result"
    }
   ],
   "source": [
    "m(XXX).reshape(2,2,2)"
   ]
  },
  {
   "cell_type": "markdown",
   "id": "a0e6806d-cd98-487e-baba-b91f24f15b6d",
   "metadata": {
    "tags": []
   },
   "source": [
    "#### 테스트5"
   ]
  },
  {
   "cell_type": "code",
   "execution_count": 89,
   "id": "2ee042b4-2088-457b-82ed-8c62e20b2f7b",
   "metadata": {},
   "outputs": [],
   "source": [
    "XXX = tnp.arange(1*4*4*3).reshape(1,4,4,3) # observation 1 channel 3으로 고정"
   ]
  },
  {
   "cell_type": "code",
   "execution_count": 92,
   "id": "20b2d21a-1cad-49cb-a315-6787b7f6ce62",
   "metadata": {},
   "outputs": [
    {
     "data": {
      "text/plain": [
       "<tf.Tensor: shape=(1, 4, 4), dtype=int64, numpy=\n",
       "array([[[ 0,  3,  6,  9],\n",
       "        [12, 15, 18, 21],\n",
       "        [24, 27, 30, 33],\n",
       "        [36, 39, 42, 45]]])>"
      ]
     },
     "execution_count": 92,
     "metadata": {},
     "output_type": "execute_result"
    }
   ],
   "source": [
    "XXX[:,:,:,0]"
   ]
  },
  {
   "cell_type": "markdown",
   "id": "54c92109-b350-4403-9146-8a39e24c9da3",
   "metadata": {},
   "source": [
    "위 아래 같은 결과..! 생략구문이라 부른다."
   ]
  },
  {
   "cell_type": "code",
   "execution_count": 93,
   "id": "a730cd20-c029-4e99-9fe7-c447532fb122",
   "metadata": {},
   "outputs": [
    {
     "data": {
      "text/plain": [
       "<tf.Tensor: shape=(1, 4, 4), dtype=int64, numpy=\n",
       "array([[[ 0,  3,  6,  9],\n",
       "        [12, 15, 18, 21],\n",
       "        [24, 27, 30, 33],\n",
       "        [36, 39, 42, 45]]])>"
      ]
     },
     "execution_count": 93,
     "metadata": {},
     "output_type": "execute_result"
    }
   ],
   "source": [
    "XXX[...,0]"
   ]
  },
  {
   "cell_type": "code",
   "execution_count": 91,
   "id": "b2e03868-ea12-4804-af97-a4fdb45f1ca6",
   "metadata": {},
   "outputs": [
    {
     "data": {
      "text/plain": [
       "<tf.Tensor: shape=(1, 2, 2), dtype=int64, numpy=\n",
       "array([[[15, 21],\n",
       "        [39, 45]]])>"
      ]
     },
     "execution_count": 91,
     "metadata": {},
     "output_type": "execute_result"
    }
   ],
   "source": [
    "m(XXX)[:,:,:,0]"
   ]
  },
  {
   "cell_type": "code",
   "execution_count": 94,
   "id": "de3ab18a-6f0e-4fa4-93ca-c418394ee326",
   "metadata": {},
   "outputs": [
    {
     "data": {
      "text/plain": [
       "<tf.Tensor: shape=(1, 2, 2), dtype=int64, numpy=\n",
       "array([[[15, 21],\n",
       "        [39, 45]]])>"
      ]
     },
     "execution_count": 94,
     "metadata": {},
     "output_type": "execute_result"
    }
   ],
   "source": [
    "m(XXX)[...,0]"
   ]
  },
  {
   "cell_type": "markdown",
   "id": "31bc54c6-7aa7-48b0-a4d8-1c46f977b38c",
   "metadata": {},
   "source": [
    "### Conv2d"
   ]
  },
  {
   "cell_type": "markdown",
   "id": "ccb9246c-dd68-4df4-ae2e-970efe64b90c",
   "metadata": {},
   "source": [
    "#### 테스트1"
   ]
  },
  {
   "cell_type": "markdown",
   "id": "ae5663cf-5850-4a3d-8f5b-7ff82a0b1855",
   "metadata": {},
   "source": [
    "`-` 레이어 생성"
   ]
  },
  {
   "cell_type": "code",
   "execution_count": 96,
   "id": "75d17538-6a0b-4a6f-8a3f-d93338a45c5a",
   "metadata": {},
   "outputs": [],
   "source": [
    "cnv = tf.keras.layers.Conv2D(1,(2,2))"
   ]
  },
  {
   "cell_type": "code",
   "execution_count": 97,
   "id": "7c27c092-cbd9-47d6-b0cd-2a748430de55",
   "metadata": {},
   "outputs": [
    {
     "data": {
      "text/plain": [
       "<keras.layers.convolutional.Conv2D at 0x7f0f7c5f2710>"
      ]
     },
     "execution_count": 97,
     "metadata": {},
     "output_type": "execute_result"
    }
   ],
   "source": [
    "cnv"
   ]
  },
  {
   "cell_type": "markdown",
   "id": "464e9a68-0da4-466e-b948-94b24fc52388",
   "metadata": {},
   "source": [
    "`-` XXX 생성"
   ]
  },
  {
   "cell_type": "code",
   "execution_count": 100,
   "id": "f008022d-d555-4ac8-a147-64ea28675de3",
   "metadata": {},
   "outputs": [
    {
     "data": {
      "text/plain": [
       "<tf.Tensor: shape=(1, 4, 4), dtype=int64, numpy=\n",
       "array([[[ 0,  1,  2,  3],\n",
       "        [ 4,  5,  6,  7],\n",
       "        [ 8,  9, 10, 11],\n",
       "        [12, 13, 14, 15]]])>"
      ]
     },
     "execution_count": 100,
     "metadata": {},
     "output_type": "execute_result"
    }
   ],
   "source": [
    "XXX = tnp.arange(1*4*4*1).reshape(1,4,4,1)\n",
    "XXX.reshape(1,4,4)"
   ]
  },
  {
   "cell_type": "markdown",
   "id": "53cd0759-33b9-4adb-9299-26d8ca3a6262",
   "metadata": {},
   "source": [
    "힘든 점:;; 이대로 넣으면 안 돌아간다."
   ]
  },
  {
   "cell_type": "markdown",
   "id": "cdb5d364-563e-4c35-98c0-40e810c5b841",
   "metadata": {},
   "source": [
    "- 데이터 타입이 int가 아니라 float이어야 한다."
   ]
  },
  {
   "cell_type": "code",
   "execution_count": 101,
   "id": "d840ac9c-c652-4a6b-a19f-f4ba6b4625e4",
   "metadata": {},
   "outputs": [
    {
     "ename": "InvalidArgumentError",
     "evalue": "Exception encountered when calling layer \"conv2d_8\" (type Conv2D).\n\nValue for attr 'T' of int64 is not in the list of allowed values: half, bfloat16, float, double, int32\n\t; NodeDef: {{node Conv2D}}; Op<name=Conv2D; signature=input:T, filter:T -> output:T; attr=T:type,allowed=[DT_HALF, DT_BFLOAT16, DT_FLOAT, DT_DOUBLE, DT_INT32]; attr=strides:list(int); attr=use_cudnn_on_gpu:bool,default=true; attr=padding:string,allowed=[\"SAME\", \"VALID\", \"EXPLICIT\"]; attr=explicit_paddings:list(int),default=[]; attr=data_format:string,default=\"NHWC\",allowed=[\"NHWC\", \"NCHW\"]; attr=dilations:list(int),default=[1, 1, 1, 1]> [Op:Conv2D]\n\nCall arguments received:\n  • inputs=tf.Tensor(shape=(1, 4, 4, 1), dtype=int64)",
     "output_type": "error",
     "traceback": [
      "\u001b[0;31m---------------------------------------------------------------------------\u001b[0m",
      "\u001b[0;31mInvalidArgumentError\u001b[0m                      Traceback (most recent call last)",
      "Input \u001b[0;32mIn [101]\u001b[0m, in \u001b[0;36m<cell line: 1>\u001b[0;34m()\u001b[0m\n\u001b[0;32m----> 1\u001b[0m \u001b[43mcnv\u001b[49m\u001b[43m(\u001b[49m\u001b[43mXXX\u001b[49m\u001b[43m)\u001b[49m\n",
      "File \u001b[0;32m~/anaconda3/envs/stbda2022/lib/python3.10/site-packages/keras/utils/traceback_utils.py:67\u001b[0m, in \u001b[0;36mfilter_traceback.<locals>.error_handler\u001b[0;34m(*args, **kwargs)\u001b[0m\n\u001b[1;32m     65\u001b[0m \u001b[38;5;28;01mexcept\u001b[39;00m \u001b[38;5;167;01mException\u001b[39;00m \u001b[38;5;28;01mas\u001b[39;00m e:  \u001b[38;5;66;03m# pylint: disable=broad-except\u001b[39;00m\n\u001b[1;32m     66\u001b[0m   filtered_tb \u001b[38;5;241m=\u001b[39m _process_traceback_frames(e\u001b[38;5;241m.\u001b[39m__traceback__)\n\u001b[0;32m---> 67\u001b[0m   \u001b[38;5;28;01mraise\u001b[39;00m e\u001b[38;5;241m.\u001b[39mwith_traceback(filtered_tb) \u001b[38;5;28;01mfrom\u001b[39;00m \u001b[38;5;28mNone\u001b[39m\n\u001b[1;32m     68\u001b[0m \u001b[38;5;28;01mfinally\u001b[39;00m:\n\u001b[1;32m     69\u001b[0m   \u001b[38;5;28;01mdel\u001b[39;00m filtered_tb\n",
      "File \u001b[0;32m~/anaconda3/envs/stbda2022/lib/python3.10/site-packages/tensorflow/python/framework/ops.py:7107\u001b[0m, in \u001b[0;36mraise_from_not_ok_status\u001b[0;34m(e, name)\u001b[0m\n\u001b[1;32m   7105\u001b[0m \u001b[38;5;28;01mdef\u001b[39;00m \u001b[38;5;21mraise_from_not_ok_status\u001b[39m(e, name):\n\u001b[1;32m   7106\u001b[0m   e\u001b[38;5;241m.\u001b[39mmessage \u001b[38;5;241m+\u001b[39m\u001b[38;5;241m=\u001b[39m (\u001b[38;5;124m\"\u001b[39m\u001b[38;5;124m name: \u001b[39m\u001b[38;5;124m\"\u001b[39m \u001b[38;5;241m+\u001b[39m name \u001b[38;5;28;01mif\u001b[39;00m name \u001b[38;5;129;01mis\u001b[39;00m \u001b[38;5;129;01mnot\u001b[39;00m \u001b[38;5;28;01mNone\u001b[39;00m \u001b[38;5;28;01melse\u001b[39;00m \u001b[38;5;124m\"\u001b[39m\u001b[38;5;124m\"\u001b[39m)\n\u001b[0;32m-> 7107\u001b[0m   \u001b[38;5;28;01mraise\u001b[39;00m core\u001b[38;5;241m.\u001b[39m_status_to_exception(e) \u001b[38;5;28;01mfrom\u001b[39;00m \u001b[38;5;28mNone\u001b[39m\n",
      "\u001b[0;31mInvalidArgumentError\u001b[0m: Exception encountered when calling layer \"conv2d_8\" (type Conv2D).\n\nValue for attr 'T' of int64 is not in the list of allowed values: half, bfloat16, float, double, int32\n\t; NodeDef: {{node Conv2D}}; Op<name=Conv2D; signature=input:T, filter:T -> output:T; attr=T:type,allowed=[DT_HALF, DT_BFLOAT16, DT_FLOAT, DT_DOUBLE, DT_INT32]; attr=strides:list(int); attr=use_cudnn_on_gpu:bool,default=true; attr=padding:string,allowed=[\"SAME\", \"VALID\", \"EXPLICIT\"]; attr=explicit_paddings:list(int),default=[]; attr=data_format:string,default=\"NHWC\",allowed=[\"NHWC\", \"NCHW\"]; attr=dilations:list(int),default=[1, 1, 1, 1]> [Op:Conv2D]\n\nCall arguments received:\n  • inputs=tf.Tensor(shape=(1, 4, 4, 1), dtype=int64)"
     ]
    }
   ],
   "source": [
    "cnv(XXX)"
   ]
  },
  {
   "cell_type": "code",
   "execution_count": 112,
   "id": "ab1267a3-ee35-41c1-95fd-03f3bbe646c1",
   "metadata": {},
   "outputs": [
    {
     "data": {
      "text/plain": [
       "<tf.Tensor: shape=(1, 4, 4), dtype=float64, numpy=\n",
       "array([[[ 0.,  1.,  2.,  3.],\n",
       "        [ 4.,  5.,  6.,  7.],\n",
       "        [ 8.,  9., 10., 11.],\n",
       "        [12., 13., 14., 15.]]])>"
      ]
     },
     "execution_count": 112,
     "metadata": {},
     "output_type": "execute_result"
    }
   ],
   "source": [
    "XXX = tnp.arange(1*4*4*1,dtype=tf.float64).reshape(1,4,4,1)\n",
    "XXX.reshape(1,4,4)"
   ]
  },
  {
   "cell_type": "code",
   "execution_count": 113,
   "id": "292706e9-72ff-4eb5-9d2a-d26ef1348065",
   "metadata": {},
   "outputs": [
    {
     "data": {
      "text/plain": [
       "<tf.Tensor: shape=(1, 3, 3, 1), dtype=float32, numpy=\n",
       "array([[[[-1.5591097 ],\n",
       "         [-1.3359121 ],\n",
       "         [-1.1127145 ]],\n",
       "\n",
       "        [[-0.66631955],\n",
       "         [-0.4431218 ],\n",
       "         [-0.21992403]],\n",
       "\n",
       "        [[ 0.22647053],\n",
       "         [ 0.4496683 ],\n",
       "         [ 0.67286605]]]], dtype=float32)>"
      ]
     },
     "execution_count": 113,
     "metadata": {},
     "output_type": "execute_result"
    }
   ],
   "source": [
    "cnv(XXX)"
   ]
  },
  {
   "cell_type": "markdown",
   "id": "c37b3dc9-29d7-40f9-b9d4-a755764da5cd",
   "metadata": {},
   "source": [
    "- 꼭 4 차원이어야 한다."
   ]
  },
  {
   "cell_type": "code",
   "execution_count": 114,
   "id": "84484932-a58e-421c-b133-0986fe4d2a91",
   "metadata": {},
   "outputs": [
    {
     "data": {
      "text/plain": [
       "<tf.Tensor: shape=(1, 3, 3), dtype=float64, numpy=\n",
       "array([[[0., 1., 2.],\n",
       "        [3., 4., 5.],\n",
       "        [6., 7., 8.]]])>"
      ]
     },
     "execution_count": 114,
     "metadata": {},
     "output_type": "execute_result"
    }
   ],
   "source": [
    "XXX = tnp.arange(1*3*3*1,dtype=tf.float64).reshape(1,3,3,1)\n",
    "XXX.reshape(1,3,3)"
   ]
  },
  {
   "cell_type": "code",
   "execution_count": 115,
   "id": "672aa8f0-e15f-4b3a-9114-9c4a9dbd3d77",
   "metadata": {},
   "outputs": [
    {
     "data": {
      "text/plain": [
       "<tf.Tensor: shape=(1, 2, 2, 1), dtype=float32, numpy=\n",
       "array([[[[-1.2662632 ],\n",
       "         [-1.0430658 ]],\n",
       "\n",
       "        [[-0.59667045],\n",
       "         [-0.37347317]]]], dtype=float32)>"
      ]
     },
     "execution_count": 115,
     "metadata": {},
     "output_type": "execute_result"
    }
   ],
   "source": [
    "cnv(XXX)"
   ]
  },
  {
   "cell_type": "code",
   "execution_count": 116,
   "id": "f65c4163-35d7-4db5-8fc0-e2ef87329bc5",
   "metadata": {},
   "outputs": [
    {
     "data": {
      "text/plain": [
       "<tf.Tensor: shape=(1, 4, 4), dtype=float64, numpy=\n",
       "array([[[ 0.,  1.,  2.,  3.],\n",
       "        [ 4.,  5.,  6.,  7.],\n",
       "        [ 8.,  9., 10., 11.],\n",
       "        [12., 13., 14., 15.]]])>"
      ]
     },
     "execution_count": 116,
     "metadata": {},
     "output_type": "execute_result"
    }
   ],
   "source": [
    "XXX = tnp.arange(1*4*4*1,dtype=tf.float64).reshape(1,4,4,1)\n",
    "XXX.reshape(1,4,4)"
   ]
  },
  {
   "cell_type": "code",
   "execution_count": 110,
   "id": "53577962-8a86-4a1c-b1da-a6e51d9cb1a1",
   "metadata": {},
   "outputs": [
    {
     "data": {
      "text/plain": [
       "<tf.Tensor: shape=(1, 3, 3), dtype=float32, numpy=\n",
       "array([[[-1.5591097 , -1.3359121 , -1.1127145 ],\n",
       "        [-0.66631955, -0.4431218 , -0.21992403],\n",
       "        [ 0.22647053,  0.4496683 ,  0.67286605]]], dtype=float32)>"
      ]
     },
     "execution_count": 110,
     "metadata": {},
     "output_type": "execute_result"
    }
   ],
   "source": [
    "cnv(XXX).reshape(1,3,3)"
   ]
  },
  {
   "cell_type": "markdown",
   "id": "753d2c39-e616-48c5-907d-38de80e676b2",
   "metadata": {},
   "source": [
    "- XXX에서 cnv(XXX)로 가는 맵핑을 찾는 건 쉽지 않아 보인다\n",
    "- 심지어 랜덤으로 결정되는 부분도 있어보인다."
   ]
  },
  {
   "cell_type": "markdown",
   "id": "da18e5d2-18c6-4659-a282-efbdcca8ce05",
   "metadata": {},
   "source": [
    "`-` 코드 정리"
   ]
  },
  {
   "cell_type": "code",
   "execution_count": 129,
   "id": "e67d89ce-725c-4634-bbc4-4df6e7b7228d",
   "metadata": {},
   "outputs": [],
   "source": [
    "tf.random.set_seed(43052)\n",
    "cnv = tf.keras.layers.Conv2D(1,(2,2))\n",
    "XXX = tnp.arange(1*4*4*1,dtype=tf.float64).reshape(1,4,4,1)"
   ]
  },
  {
   "cell_type": "code",
   "execution_count": 130,
   "id": "b031491f-99b9-4b46-84c5-6ca93a669105",
   "metadata": {},
   "outputs": [
    {
     "name": "stdout",
     "output_type": "stream",
     "text": [
      "tf.Tensor(\n",
      "[[[ 0.  1.  2.  3.]\n",
      "  [ 4.  5.  6.  7.]\n",
      "  [ 8.  9. 10. 11.]\n",
      "  [12. 13. 14. 15.]]], shape=(1, 4, 4), dtype=float64)\n",
      "tf.Tensor(\n",
      "[[[ -4.125754   -5.312817   -6.4998803]\n",
      "  [ -8.874006  -10.0610695 -11.248133 ]\n",
      "  [-13.622259  -14.809322  -15.996386 ]]], shape=(1, 3, 3), dtype=float32)\n"
     ]
    }
   ],
   "source": [
    "print(XXX.reshape(1,4,4))\n",
    "print(cnv(XXX).reshape(1,3,3))"
   ]
  },
  {
   "cell_type": "markdown",
   "id": "60a67125-3982-4b79-b712-200d990a80dc",
   "metadata": {},
   "source": [
    "dense 때와 비슷한 상황"
   ]
  },
  {
   "cell_type": "code",
   "execution_count": 131,
   "id": "daa6db3d-7658-45f9-8c49-bc44b7622b2c",
   "metadata": {},
   "outputs": [
    {
     "data": {
      "text/plain": [
       "[<tf.Variable 'conv2d_10/kernel:0' shape=(2, 2, 1, 1) dtype=float32, numpy=\n",
       " array([[[[-0.13014299]],\n",
       " \n",
       "         [[-0.23927206]]],\n",
       " \n",
       " \n",
       "        [[[-0.20175874]],\n",
       " \n",
       "         [[-0.6158894 ]]]], dtype=float32)>,\n",
       " <tf.Variable 'conv2d_10/bias:0' shape=(1,) dtype=float32, numpy=array([0.], dtype=float32)>]"
      ]
     },
     "execution_count": 131,
     "metadata": {},
     "output_type": "execute_result"
    }
   ],
   "source": [
    "cnv.weights"
   ]
  },
  {
   "cell_type": "code",
   "execution_count": 132,
   "id": "338614ae-d10e-4092-aaf8-e9293ad199f9",
   "metadata": {},
   "outputs": [
    {
     "data": {
      "text/plain": [
       "list"
      ]
     },
     "execution_count": 132,
     "metadata": {},
     "output_type": "execute_result"
    }
   ],
   "source": [
    "type(cnv.weights)"
   ]
  },
  {
   "cell_type": "code",
   "execution_count": 133,
   "id": "2148e2c2-3307-4b8b-a395-2d9fb6d09fcb",
   "metadata": {},
   "outputs": [
    {
     "data": {
      "text/plain": [
       "<tf.Variable 'conv2d_10/kernel:0' shape=(2, 2, 1, 1) dtype=float32, numpy=\n",
       "array([[[[-0.13014299]],\n",
       "\n",
       "        [[-0.23927206]]],\n",
       "\n",
       "\n",
       "       [[[-0.20175874]],\n",
       "\n",
       "        [[-0.6158894 ]]]], dtype=float32)>"
      ]
     },
     "execution_count": 133,
     "metadata": {},
     "output_type": "execute_result"
    }
   ],
   "source": [
    "cnv.weights[0]"
   ]
  },
  {
   "cell_type": "code",
   "execution_count": 134,
   "id": "fd7cb173-5752-48e5-b22b-2b0468168acf",
   "metadata": {},
   "outputs": [
    {
     "data": {
      "text/plain": [
       "<tf.Tensor: shape=(2, 2), dtype=float32, numpy=\n",
       "array([[-0.13014299, -0.23927206],\n",
       "       [-0.20175874, -0.6158894 ]], dtype=float32)>"
      ]
     },
     "execution_count": 134,
     "metadata": {},
     "output_type": "execute_result"
    }
   ],
   "source": [
    "tf.reshape(cnv.weights[0],(2,2))"
   ]
  },
  {
   "cell_type": "markdown",
   "id": "6ffda33b-9da6-4cce-bd3e-9140101166de",
   "metadata": {},
   "source": [
    "어떻게 유추될까?"
   ]
  },
  {
   "cell_type": "code",
   "execution_count": 138,
   "id": "78b41369-52d0-4ef3-b4b6-ee383456f77a",
   "metadata": {},
   "outputs": [
    {
     "data": {
      "text/plain": [
       "-4.1257540200000005"
      ]
     },
     "execution_count": 138,
     "metadata": {},
     "output_type": "execute_result"
    }
   ],
   "source": [
    "0 * -0.13014299 + 1 *  -0.23927206 + 4 * -0.20175874 + 5 *  -0.6158894 + 0"
   ]
  },
  {
   "cell_type": "markdown",
   "id": "d4754187-3d24-4858-8f93-b2a534146eb6",
   "metadata": {},
   "source": [
    "값이 나왔네\n",
    "- 원래는 위에서 bias가 들어가야 하지, 위 식에서는 bias가 0임"
   ]
  },
  {
   "cell_type": "code",
   "execution_count": 136,
   "id": "91b5df65-4aff-4679-be91-7ea481906d09",
   "metadata": {},
   "outputs": [
    {
     "data": {
      "text/plain": [
       "[array([[[[-0.13014299]],\n",
       " \n",
       "         [[-0.23927206]]],\n",
       " \n",
       " \n",
       "        [[[-0.20175874]],\n",
       " \n",
       "         [[-0.6158894 ]]]], dtype=float32),\n",
       " array([0.], dtype=float32)]"
      ]
     },
     "execution_count": 136,
     "metadata": {},
     "output_type": "execute_result"
    }
   ],
   "source": [
    "cnv.get_weights()"
   ]
  },
  {
   "cell_type": "markdown",
   "id": "505bae78-c22d-4280-a2a3-a3389d5a9535",
   "metadata": {},
   "source": [
    "2개 나온 모습"
   ]
  },
  {
   "cell_type": "code",
   "execution_count": 139,
   "id": "807ea122-edeb-47f0-9adb-8989eb55ac8d",
   "metadata": {},
   "outputs": [
    {
     "data": {
      "text/plain": [
       "list"
      ]
     },
     "execution_count": 139,
     "metadata": {},
     "output_type": "execute_result"
    }
   ],
   "source": [
    "type(cnv.get_weights())"
   ]
  },
  {
   "cell_type": "code",
   "execution_count": 140,
   "id": "fb21a63c-8e8c-4a9e-8316-498f86f2a150",
   "metadata": {},
   "outputs": [
    {
     "data": {
      "text/plain": [
       "numpy.ndarray"
      ]
     },
     "execution_count": 140,
     "metadata": {},
     "output_type": "execute_result"
    }
   ],
   "source": [
    "type(cnv.get_weights()[0])"
   ]
  },
  {
   "cell_type": "code",
   "execution_count": 145,
   "id": "a1a7fa8d-9a71-4430-964e-58588c18dd54",
   "metadata": {},
   "outputs": [
    {
     "data": {
      "text/plain": [
       "numpy.ndarray"
      ]
     },
     "execution_count": 145,
     "metadata": {},
     "output_type": "execute_result"
    }
   ],
   "source": [
    "type(cnv.get_weights()[1])"
   ]
  },
  {
   "cell_type": "code",
   "execution_count": 143,
   "id": "aa794e7e-31e8-4bae-b91a-516405498cb0",
   "metadata": {},
   "outputs": [
    {
     "data": {
      "text/plain": [
       "(2, 2, 1, 1)"
      ]
     },
     "execution_count": 143,
     "metadata": {},
     "output_type": "execute_result"
    }
   ],
   "source": [
    "cnv.get_weights()[0].shape"
   ]
  },
  {
   "cell_type": "code",
   "execution_count": 146,
   "id": "f0ba2a0b-d190-4cbf-9c2b-c7fdda4a58e5",
   "metadata": {},
   "outputs": [
    {
     "data": {
      "text/plain": [
       "(1,)"
      ]
     },
     "execution_count": 146,
     "metadata": {},
     "output_type": "execute_result"
    }
   ],
   "source": [
    "cnv.get_weights()[1].shape"
   ]
  },
  {
   "cell_type": "code",
   "execution_count": 271,
   "id": "b849f887-ecfe-4fd7-88a7-2eee36785e6d",
   "metadata": {},
   "outputs": [],
   "source": [
    "w = np.array([1/4,1/4,1/4,1/4],dtype=np.float32).reshape(2,2,1,1)\n",
    "b = np.array([3],dtype=np.float32)"
   ]
  },
  {
   "cell_type": "markdown",
   "id": "da1c5fee-9ba6-4249-9f55-be180667ff94",
   "metadata": {},
   "source": [
    "b는 bias인거 알지? 밑 weights에서 확인 가능"
   ]
  },
  {
   "cell_type": "code",
   "execution_count": 272,
   "id": "87b0b0b9-578b-487f-998c-b11f4df1b1c1",
   "metadata": {},
   "outputs": [
    {
     "data": {
      "text/plain": [
       "[array([[[[0.25]],\n",
       " \n",
       "         [[0.25]]],\n",
       " \n",
       " \n",
       "        [[[0.25]],\n",
       " \n",
       "         [[0.25]]]], dtype=float32),\n",
       " array([3.], dtype=float32)]"
      ]
     },
     "execution_count": 272,
     "metadata": {},
     "output_type": "execute_result"
    }
   ],
   "source": [
    "[w,b]"
   ]
  },
  {
   "cell_type": "markdown",
   "id": "c7c60634-4340-4f3b-ae28-b698fa6849ad",
   "metadata": {},
   "source": [
    "같은 형식으로 나오게 만들었다."
   ]
  },
  {
   "cell_type": "code",
   "execution_count": 153,
   "id": "3c43c055-0475-4fde-a6f3-614b86288b4c",
   "metadata": {},
   "outputs": [],
   "source": [
    "cnv.set_weights([w,b])"
   ]
  },
  {
   "cell_type": "code",
   "execution_count": 154,
   "id": "f02b11b2-0153-40df-8bdf-d9ee22ae430a",
   "metadata": {},
   "outputs": [
    {
     "data": {
      "text/plain": [
       "[<tf.Variable 'conv2d_10/kernel:0' shape=(2, 2, 1, 1) dtype=float32, numpy=\n",
       " array([[[[0.25]],\n",
       " \n",
       "         [[0.25]]],\n",
       " \n",
       " \n",
       "        [[[0.25]],\n",
       " \n",
       "         [[0.25]]]], dtype=float32)>,\n",
       " <tf.Variable 'conv2d_10/bias:0' shape=(1,) dtype=float32, numpy=array([3.], dtype=float32)>]"
      ]
     },
     "execution_count": 154,
     "metadata": {},
     "output_type": "execute_result"
    }
   ],
   "source": [
    "cnv.weights"
   ]
  },
  {
   "cell_type": "code",
   "execution_count": 156,
   "id": "78e648b7-3f2f-464d-81ea-48b63d2673cd",
   "metadata": {},
   "outputs": [
    {
     "data": {
      "text/plain": [
       "<tf.Tensor: shape=(1, 4, 4), dtype=float64, numpy=\n",
       "array([[[ 0.,  1.,  2.,  3.],\n",
       "        [ 4.,  5.,  6.,  7.],\n",
       "        [ 8.,  9., 10., 11.],\n",
       "        [12., 13., 14., 15.]]])>"
      ]
     },
     "execution_count": 156,
     "metadata": {},
     "output_type": "execute_result"
    }
   ],
   "source": [
    "XXX.reshape(1,4,4)"
   ]
  },
  {
   "cell_type": "code",
   "execution_count": 157,
   "id": "4ab66dfe-a831-4dcb-a45a-5409595c5e8c",
   "metadata": {},
   "outputs": [
    {
     "data": {
      "text/plain": [
       "<tf.Tensor: shape=(1, 3, 3), dtype=float32, numpy=\n",
       "array([[[ 5.5,  6.5,  7.5],\n",
       "        [ 9.5, 10.5, 11.5],\n",
       "        [13.5, 14.5, 15.5]]], dtype=float32)>"
      ]
     },
     "execution_count": 157,
     "metadata": {},
     "output_type": "execute_result"
    }
   ],
   "source": [
    "cnv(XXX).reshape(1,3,3)"
   ]
  },
  {
   "cell_type": "code",
   "execution_count": 160,
   "id": "b5e8c9d1-cf6b-4624-af2d-03a75cbd0524",
   "metadata": {},
   "outputs": [
    {
     "data": {
      "text/plain": [
       "(5.5, 6.5, 7.5)"
      ]
     },
     "execution_count": 160,
     "metadata": {},
     "output_type": "execute_result"
    }
   ],
   "source": [
    "np.mean([0,1,4,5])+3, np.mean([1,2,5,6])+3, np.mean([2,3,6,7])+3"
   ]
  },
  {
   "cell_type": "markdown",
   "id": "2b391543-5c4b-438b-ab02-d33a0bbbbbaf",
   "metadata": {},
   "source": [
    "겹치지 않는 MaxPooling과 달리 겹치는 ConV2D"
   ]
  },
  {
   "cell_type": "markdown",
   "id": "1dd7e81f-40f2-4fb1-9252-02f78eb4f825",
   "metadata": {},
   "source": [
    "### tf.keras.layers.Conv2D(1,kernel_size=(2,2)) 요약"
   ]
  },
  {
   "cell_type": "markdown",
   "id": "870a56a6-e1f4-486f-bbe6-58d0537737cb",
   "metadata": {},
   "source": [
    "(1) size=(2,2)인 윈도우를 만듦.\n",
    "\n",
    "(2) XXX에 윈도우를 통과시켜서 (2,2)크기의 sub XXX 를 얻음. sub XXX의 각 원소에 conv2d.weights[0]의 각 원소를 element-wise하게 곱한다.\n",
    "- sub XXX의 의미는 위에서 0,1,4,5(XXX.reshape(1,4,4) 결과 중 일부)를 의미\n",
    "\n",
    "(3) (2)의 결과를 모두 더한다. 그리고 그 결과에 다시 conv2d.weights[1]을 수행\n",
    "\n",
    "(4) 윈도우를 이동시키면서 반복!"
   ]
  },
  {
   "cell_type": "markdown",
   "id": "69cc3302-d1ee-4393-a9b4-0adc69ad6987",
   "metadata": {},
   "source": [
    "#### 테스트2"
   ]
  },
  {
   "cell_type": "markdown",
   "id": "e98f5a0e-6882-437f-8801-523a06e4e3ad",
   "metadata": {},
   "source": [
    "커널을 늘려보자"
   ]
  },
  {
   "cell_type": "code",
   "execution_count": 162,
   "id": "4176ae0e-56fe-46b5-8cc7-1b5d99c92ef1",
   "metadata": {},
   "outputs": [],
   "source": [
    "tf.random.set_seed(43052)\n",
    "cnv = tf.keras.layers.Conv2D(1,(3,3))\n",
    "XXX = tnp.arange(1*5*5*1,dtype=tf.float64).reshape(1,5,5,1)"
   ]
  },
  {
   "cell_type": "code",
   "execution_count": 164,
   "id": "8340ec84-0c15-4f79-8b3f-4c62b35bcefe",
   "metadata": {},
   "outputs": [
    {
     "data": {
      "text/plain": [
       "<tf.Tensor: shape=(1, 5, 5), dtype=float64, numpy=\n",
       "array([[[ 0.,  1.,  2.,  3.,  4.],\n",
       "        [ 5.,  6.,  7.,  8.,  9.],\n",
       "        [10., 11., 12., 13., 14.],\n",
       "        [15., 16., 17., 18., 19.],\n",
       "        [20., 21., 22., 23., 24.]]])>"
      ]
     },
     "execution_count": 164,
     "metadata": {},
     "output_type": "execute_result"
    }
   ],
   "source": [
    "XXX.reshape(1,5,5)"
   ]
  },
  {
   "cell_type": "code",
   "execution_count": 163,
   "id": "f24e6a84-1e38-4f97-bdd3-782bb08818dc",
   "metadata": {},
   "outputs": [
    {
     "data": {
      "text/plain": [
       "<tf.Tensor: shape=(1, 3, 3), dtype=float32, numpy=\n",
       "array([[[ 2.7395768 ,  2.2492635 ,  1.7589504 ],\n",
       "        [ 0.28801066, -0.20230258, -0.6926158 ],\n",
       "        [-2.1635566 , -2.6538715 , -3.1441827 ]]], dtype=float32)>"
      ]
     },
     "execution_count": 163,
     "metadata": {},
     "output_type": "execute_result"
    }
   ],
   "source": [
    "cnv(XXX).reshape(1,3,3)"
   ]
  },
  {
   "cell_type": "markdown",
   "id": "3511d0a2-b7c5-4f10-93f4-bcbe32988637",
   "metadata": {},
   "source": [
    "`2.7395768` 재현 해보기"
   ]
  },
  {
   "cell_type": "code",
   "execution_count": 165,
   "id": "7d4b6033-966d-480c-8dfc-447002bb2d45",
   "metadata": {},
   "outputs": [
    {
     "data": {
      "text/plain": [
       "<tf.Variable 'conv2d_11/bias:0' shape=(1,) dtype=float32, numpy=array([0.], dtype=float32)>"
      ]
     },
     "execution_count": 165,
     "metadata": {},
     "output_type": "execute_result"
    }
   ],
   "source": [
    "cnv.weights[1]"
   ]
  },
  {
   "cell_type": "markdown",
   "id": "8c524b2c-bbfb-4f4a-9a8b-7249d6525e5d",
   "metadata": {},
   "source": [
    "bias term은 보통 0이야.."
   ]
  },
  {
   "cell_type": "code",
   "execution_count": 164,
   "id": "5511efbe-14a5-4c49-bacb-134ade819ecc",
   "metadata": {},
   "outputs": [
    {
     "data": {
      "text/plain": [
       "<tf.Tensor: shape=(1, 5, 5), dtype=float64, numpy=\n",
       "array([[[ 0.,  1.,  2.,  3.,  4.],\n",
       "        [ 5.,  6.,  7.,  8.,  9.],\n",
       "        [10., 11., 12., 13., 14.],\n",
       "        [15., 16., 17., 18., 19.],\n",
       "        [20., 21., 22., 23., 24.]]])>"
      ]
     },
     "execution_count": 164,
     "metadata": {},
     "output_type": "execute_result"
    }
   ],
   "source": [
    "XXX.reshape(1,5,5)"
   ]
  },
  {
   "cell_type": "code",
   "execution_count": 169,
   "id": "483e193e-07ce-473b-a9b0-616537768445",
   "metadata": {},
   "outputs": [
    {
     "data": {
      "text/plain": [
       "<tf.Tensor: shape=(3, 3), dtype=float64, numpy=\n",
       "array([[ 0.,  1.,  2.],\n",
       "       [ 5.,  6.,  7.],\n",
       "       [10., 11., 12.]])>"
      ]
     },
     "execution_count": 169,
     "metadata": {},
     "output_type": "execute_result"
    }
   ],
   "source": [
    "XXX.reshape(1,5,5)[0,:3,:3]"
   ]
  },
  {
   "cell_type": "code",
   "execution_count": 167,
   "id": "3a8bece5-cfa4-4293-a5bd-7e70b555f6ed",
   "metadata": {},
   "outputs": [
    {
     "data": {
      "text/plain": [
       "<tf.Tensor: shape=(3, 3), dtype=float32, numpy=\n",
       "array([[-0.08676198, -0.1595147 , -0.13450584],\n",
       "       [-0.4105929 , -0.38366908,  0.07744962],\n",
       "       [-0.09255642,  0.4915564 ,  0.20828158]], dtype=float32)>"
      ]
     },
     "execution_count": 167,
     "metadata": {},
     "output_type": "execute_result"
    }
   ],
   "source": [
    "tf.reshape(cnv.weights[0],(3,3))"
   ]
  },
  {
   "cell_type": "code",
   "execution_count": 171,
   "id": "12b3fd0d-ee80-4bca-93e5-699da2e86e9c",
   "metadata": {},
   "outputs": [
    {
     "data": {
      "text/plain": [
       "<tf.Tensor: shape=(), dtype=float64, numpy=2.739577144384384>"
      ]
     },
     "execution_count": 171,
     "metadata": {},
     "output_type": "execute_result"
    }
   ],
   "source": [
    "tf.reduce_sum(XXX.reshape(1,5,5)[0,:3,:3] * tf.reshape(cnv.weights[0],(3,3)))"
   ]
  },
  {
   "cell_type": "markdown",
   "id": "6e36a233-6ca4-479f-b212-84375561eaf4",
   "metadata": {},
   "source": [
    "나왔다.\n",
    "- 요소끼리 곱 `*` 쓸 수 있는 거 기억해.."
   ]
  },
  {
   "cell_type": "markdown",
   "id": "f263f8da-80d5-4ca1-8fd9-4c44ef87a97d",
   "metadata": {},
   "source": [
    "#### 테스트3"
   ]
  },
  {
   "cell_type": "code",
   "execution_count": 173,
   "id": "5145a5ff-2ea7-4757-b1f8-39281f0f5742",
   "metadata": {},
   "outputs": [
    {
     "data": {
      "text/plain": [
       "12"
      ]
     },
     "execution_count": 173,
     "metadata": {},
     "output_type": "execute_result"
    }
   ],
   "source": [
    "3*0 + 3*1 + 2*2  +0*2 + 0*2 + 1*0 + 3*0 + 1*1 + 2*2"
   ]
  },
  {
   "cell_type": "markdown",
   "id": "c572eb15-374c-47ea-a083-275291f97847",
   "metadata": {},
   "source": [
    "하나만 해보기"
   ]
  },
  {
   "cell_type": "markdown",
   "id": "5efea9a9-3b61-4534-b52e-aa7c4b821cfc",
   "metadata": {},
   "source": [
    "![](https://github.com/guebin/2021BDA/blob/master/_notebooks/2021-11-04-conv.png?raw=true)"
   ]
  },
  {
   "cell_type": "markdown",
   "id": "af0e637d-fda0-4b44-95a3-720caff1cb1e",
   "metadata": {},
   "source": [
    "---"
   ]
  },
  {
   "cell_type": "markdown",
   "id": "7886b277-c864-4149-a4f0-0da0b87acb00",
   "metadata": {},
   "source": [
    "내가 한 거!"
   ]
  },
  {
   "cell_type": "code",
   "execution_count": 239,
   "id": "ea7bdd39-ee07-4fd0-aae9-39e535123e6f",
   "metadata": {},
   "outputs": [],
   "source": [
    "tf.random.set_seed(43052)\n",
    "cnv = tf.keras.layers.Conv2D(1,(3,3))"
   ]
  },
  {
   "cell_type": "code",
   "execution_count": 212,
   "id": "880addf5-bef6-408c-8439-f273b7facf18",
   "metadata": {},
   "outputs": [
    {
     "data": {
      "text/plain": [
       "array([[[3, 3, 2, 1, 0],\n",
       "        [0, 0, 1, 3, 1],\n",
       "        [3, 1, 2, 2, 3],\n",
       "        [2, 0, 0, 2, 2],\n",
       "        [2, 0, 0, 0, 1]]])"
      ]
     },
     "execution_count": 212,
     "metadata": {},
     "output_type": "execute_result"
    }
   ],
   "source": [
    "XXX = np.array([3,3,2,1,0,0,0,1,3,1,3,1,2,2,3,2,0,0,2,2,2,0,0,0,1]).reshape(1,5,5,1)\n",
    "XXX.reshape(1,5,5)"
   ]
  },
  {
   "cell_type": "code",
   "execution_count": 213,
   "id": "9ddfe50d-b4da-44e6-8b88-3cc8a8c0165d",
   "metadata": {},
   "outputs": [
    {
     "data": {
      "text/plain": [
       "array([[3, 1, 2],\n",
       "       [2, 0, 0],\n",
       "       [2, 0, 0]])"
      ]
     },
     "execution_count": 213,
     "metadata": {},
     "output_type": "execute_result"
    }
   ],
   "source": [
    "XXX.reshape(1,5,5)[0,2:,:3]"
   ]
  },
  {
   "cell_type": "code",
   "execution_count": 244,
   "id": "0ae520fd-039b-43b3-9db4-99507126fcb3",
   "metadata": {},
   "outputs": [],
   "source": [
    "_w = np.array([0,1,2,2,2,0,0,1,2],dtype=np.float32).reshape(3,3,1,1)\n",
    "_b = np.array([0],dtype=np.float32)"
   ]
  },
  {
   "cell_type": "code",
   "execution_count": null,
   "id": "0221bc14-96e6-473c-ae1a-92b930329e5d",
   "metadata": {},
   "outputs": [],
   "source": [
    "conv(XXX)"
   ]
  },
  {
   "cell_type": "code",
   "execution_count": 245,
   "id": "428f30b1-9b2f-4032-9d1a-179813082d13",
   "metadata": {},
   "outputs": [
    {
     "data": {
      "text/plain": [
       "array([[[[-0.08676198]],\n",
       "\n",
       "        [[-0.1595147 ]],\n",
       "\n",
       "        [[-0.13450584]]],\n",
       "\n",
       "\n",
       "       [[[-0.4105929 ]],\n",
       "\n",
       "        [[-0.38366908]],\n",
       "\n",
       "        [[ 0.07744962]]],\n",
       "\n",
       "\n",
       "       [[[-0.09255642]],\n",
       "\n",
       "        [[ 0.4915564 ]],\n",
       "\n",
       "        [[ 0.20828158]]]], dtype=float32)"
      ]
     },
     "execution_count": 245,
     "metadata": {},
     "output_type": "execute_result"
    }
   ],
   "source": [
    "cnv.get_weights()[0]"
   ]
  },
  {
   "cell_type": "code",
   "execution_count": 246,
   "id": "4784967b-0216-4ea9-be52-5fd9c4aefa38",
   "metadata": {},
   "outputs": [],
   "source": [
    "cnv.set_weights([_w,_b])"
   ]
  },
  {
   "cell_type": "code",
   "execution_count": 247,
   "id": "9be2ba54-f46b-4354-bc8f-34fcb6b33efb",
   "metadata": {},
   "outputs": [
    {
     "data": {
      "text/plain": [
       "<bound method Layer.get_weights of <keras.layers.convolutional.Conv2D object at 0x7f0f572ba710>>"
      ]
     },
     "execution_count": 247,
     "metadata": {},
     "output_type": "execute_result"
    }
   ],
   "source": [
    "cnv.get_weights"
   ]
  },
  {
   "cell_type": "code",
   "execution_count": 248,
   "id": "cda9063d-fcbb-46f6-bd87-4287284d545b",
   "metadata": {},
   "outputs": [
    {
     "data": {
      "text/plain": [
       "<tf.Tensor: shape=(), dtype=float64, numpy=9.0>"
      ]
     },
     "execution_count": 248,
     "metadata": {},
     "output_type": "execute_result"
    }
   ],
   "source": [
    "tf.reduce_sum(XXX.reshape(1,5,5)[0,2:,:3] * tf.reshape(cnv.weights[0],(3,3)))"
   ]
  },
  {
   "cell_type": "markdown",
   "id": "0996c535-45ab-4458-a5f7-c4e1d7746753",
   "metadata": {},
   "source": [
    "---"
   ]
  },
  {
   "cell_type": "markdown",
   "id": "91b0c9b8-8d19-4313-ac7f-e95edb6d620d",
   "metadata": {},
   "source": [
    "`-` 교수님 부분"
   ]
  },
  {
   "cell_type": "code",
   "execution_count": 252,
   "id": "f58e609d-816a-4915-8d86-e54f126b9057",
   "metadata": {},
   "outputs": [
    {
     "data": {
      "text/plain": [
       "<tf.Tensor: shape=(1, 5, 5), dtype=float64, numpy=\n",
       "array([[[3., 3., 2., 1., 0.],\n",
       "        [0., 0., 1., 3., 1.],\n",
       "        [3., 1., 2., 2., 3.],\n",
       "        [2., 0., 0., 2., 2.],\n",
       "        [2., 0., 0., 0., 1.]]])>"
      ]
     },
     "execution_count": 252,
     "metadata": {},
     "output_type": "execute_result"
    }
   ],
   "source": [
    "XXX = tf.constant([[3,3,2,1,0],[0,0,1,3,1],[3,1,2,2,3],[2,0,0,2,2],[2,0,0,0,1]],dtype=tf.float64).reshape(1,5,5,1)\n",
    "XXX.reshape(1,5,5)"
   ]
  },
  {
   "cell_type": "markdown",
   "id": "44dbf6d6-ca5d-4a14-9374-70346c3ae034",
   "metadata": {},
   "source": [
    "- 데이터 타입이 float이어야 한다.\n",
    "\n",
    "- shape 이 1 * 5 * 5 * 1 이어야 한다."
   ]
  },
  {
   "cell_type": "code",
   "execution_count": 253,
   "id": "7d913596-a85b-4e56-9d86-c656e397b8fb",
   "metadata": {},
   "outputs": [],
   "source": [
    "cnv = tf.keras.layers.Conv2D(1,(3,3))"
   ]
  },
  {
   "cell_type": "code",
   "execution_count": 255,
   "id": "07f9f8ee-e0f9-4bb0-a071-17fe1c2c20aa",
   "metadata": {},
   "outputs": [
    {
     "data": {
      "text/plain": [
       "<tf.Tensor: shape=(1, 3, 3), dtype=float32, numpy=\n",
       "array([[[-0.6065799 , -0.69143724, -1.1179221 ],\n",
       "        [ 2.2352955 ,  1.5314975 ,  1.8658445 ],\n",
       "        [ 0.7364182 ,  1.4419123 ,  1.2381717 ]]], dtype=float32)>"
      ]
     },
     "execution_count": 255,
     "metadata": {},
     "output_type": "execute_result"
    }
   ],
   "source": [
    "cnv(XXX).reshape(1,3,3)"
   ]
  },
  {
   "cell_type": "markdown",
   "id": "ca076fe0-d280-4af5-a2ea-c2b043cf08b5",
   "metadata": {},
   "source": [
    "> warning: 위처럼 한 번 통과시켜줘야 weights가 나옴!!!"
   ]
  },
  {
   "cell_type": "code",
   "execution_count": 257,
   "id": "1671014a-8f79-4c6d-a42f-c00db9bab625",
   "metadata": {},
   "outputs": [
    {
     "data": {
      "text/plain": [
       "<tf.Variable 'conv2d_17/kernel:0' shape=(3, 3, 1, 1) dtype=float32, numpy=\n",
       "array([[[[-0.3444655 ]],\n",
       "\n",
       "        [[ 0.4521824 ]],\n",
       "\n",
       "        [[ 0.236296  ]]],\n",
       "\n",
       "\n",
       "       [[[ 0.54707503]],\n",
       "\n",
       "        [[ 0.19746327]],\n",
       "\n",
       "        [[ 0.20471048]]],\n",
       "\n",
       "\n",
       "       [[[-0.1245549 ]],\n",
       "\n",
       "        [[-0.25237298]],\n",
       "\n",
       "        [[-0.4904977 ]]]], dtype=float32)>"
      ]
     },
     "execution_count": 257,
     "metadata": {},
     "output_type": "execute_result"
    }
   ],
   "source": [
    "cnv.weights[0]"
   ]
  },
  {
   "cell_type": "code",
   "execution_count": 262,
   "id": "abf4b3b2-d8b8-4036-a448-b381f6bfc17c",
   "metadata": {},
   "outputs": [],
   "source": [
    "_w = tf.constant([[0,1,2,],[2,2,0],[0,1,2]],dtype=tf.float64).reshape(3,3,1,1)\n",
    "_b = tf.constant([0],dtype=tf.float64)"
   ]
  },
  {
   "cell_type": "code",
   "execution_count": 263,
   "id": "eb10713e-80d1-4844-b73f-e33bd773c670",
   "metadata": {},
   "outputs": [],
   "source": [
    "cnv.set_weights([_w,_b])"
   ]
  },
  {
   "cell_type": "code",
   "execution_count": 264,
   "id": "44171d27-237c-433a-a57e-e6088557e853",
   "metadata": {},
   "outputs": [
    {
     "data": {
      "text/plain": [
       "[<tf.Variable 'conv2d_17/kernel:0' shape=(3, 3, 1, 1) dtype=float32, numpy=\n",
       " array([[[[0.]],\n",
       " \n",
       "         [[1.]],\n",
       " \n",
       "         [[2.]]],\n",
       " \n",
       " \n",
       "        [[[2.]],\n",
       " \n",
       "         [[2.]],\n",
       " \n",
       "         [[0.]]],\n",
       " \n",
       " \n",
       "        [[[0.]],\n",
       " \n",
       "         [[1.]],\n",
       " \n",
       "         [[2.]]]], dtype=float32)>,\n",
       " <tf.Variable 'conv2d_17/bias:0' shape=(1,) dtype=float32, numpy=array([0.], dtype=float32)>]"
      ]
     },
     "execution_count": 264,
     "metadata": {},
     "output_type": "execute_result"
    }
   ],
   "source": [
    "cnv.weights"
   ]
  },
  {
   "cell_type": "code",
   "execution_count": 265,
   "id": "03a49dfd-aee0-487d-9a71-d9a4ff45a337",
   "metadata": {},
   "outputs": [
    {
     "data": {
      "text/plain": [
       "<tf.Tensor: shape=(1, 3, 3), dtype=float32, numpy=\n",
       "array([[[12., 12., 17.],\n",
       "        [10., 17., 19.],\n",
       "        [ 9.,  6., 14.]]], dtype=float32)>"
      ]
     },
     "execution_count": 265,
     "metadata": {},
     "output_type": "execute_result"
    }
   ],
   "source": [
    "cnv(XXX).reshape(1,3,3)"
   ]
  },
  {
   "cell_type": "markdown",
   "id": "9a2e59ef-0578-4493-a67e-69b244901c94",
   "metadata": {},
   "source": [
    "#### 테스트4"
   ]
  },
  {
   "cell_type": "markdown",
   "id": "214808ea-7095-429b-bc78-d00d23fcbf82",
   "metadata": {},
   "source": [
    "observation 마다 반복하게 한다?"
   ]
  },
  {
   "cell_type": "code",
   "execution_count": 266,
   "id": "d1f432dc-01f4-491a-9ac1-740698af7bc8",
   "metadata": {},
   "outputs": [],
   "source": [
    "tf.random.set_seed(43052)\n",
    "cnv = tf.keras.layers.Conv2D(1,(2,2))\n",
    "XXX = tnp.arange(2*5*5*1,dtype=tf.float64).reshape(2,5,5,1)"
   ]
  },
  {
   "cell_type": "code",
   "execution_count": 267,
   "id": "1cd8dd04-3918-4b96-b96c-c678082a559c",
   "metadata": {},
   "outputs": [
    {
     "data": {
      "text/plain": [
       "<tf.Tensor: shape=(2, 5, 5), dtype=float64, numpy=\n",
       "array([[[ 0.,  1.,  2.,  3.,  4.],\n",
       "        [ 5.,  6.,  7.,  8.,  9.],\n",
       "        [10., 11., 12., 13., 14.],\n",
       "        [15., 16., 17., 18., 19.],\n",
       "        [20., 21., 22., 23., 24.]],\n",
       "\n",
       "       [[25., 26., 27., 28., 29.],\n",
       "        [30., 31., 32., 33., 34.],\n",
       "        [35., 36., 37., 38., 39.],\n",
       "        [40., 41., 42., 43., 44.],\n",
       "        [45., 46., 47., 48., 49.]]])>"
      ]
     },
     "execution_count": 267,
     "metadata": {},
     "output_type": "execute_result"
    }
   ],
   "source": [
    "XXX.reshape(2,5,5)"
   ]
  },
  {
   "cell_type": "code",
   "execution_count": 268,
   "id": "0b394ecc-ae2a-41d6-b6d9-e61e316d5efe",
   "metadata": {},
   "outputs": [
    {
     "data": {
      "text/plain": [
       "[]"
      ]
     },
     "execution_count": 268,
     "metadata": {},
     "output_type": "execute_result"
    }
   ],
   "source": [
    "cnv.weights"
   ]
  },
  {
   "cell_type": "code",
   "execution_count": 269,
   "id": "e2fec091-6be8-41f3-8bc3-5154abc2f1f3",
   "metadata": {},
   "outputs": [
    {
     "data": {
      "text/plain": [
       "<tf.Tensor: shape=(2, 4, 4, 1), dtype=float32, numpy=\n",
       "array([[[[ -4.943402 ],\n",
       "         [ -6.130465 ],\n",
       "         [ -7.3175282],\n",
       "         [ -8.504592 ]],\n",
       "\n",
       "        [[-10.878717 ],\n",
       "         [-12.065781 ],\n",
       "         [-13.252845 ],\n",
       "         [-14.439907 ]],\n",
       "\n",
       "        [[-16.814034 ],\n",
       "         [-18.001097 ],\n",
       "         [-19.18816  ],\n",
       "         [-20.375223 ]],\n",
       "\n",
       "        [[-22.74935  ],\n",
       "         [-23.936413 ],\n",
       "         [-25.123476 ],\n",
       "         [-26.31054  ]]],\n",
       "\n",
       "\n",
       "       [[[-34.61998  ],\n",
       "         [-35.807045 ],\n",
       "         [-36.994106 ],\n",
       "         [-38.18117  ]],\n",
       "\n",
       "        [[-40.555298 ],\n",
       "         [-41.74236  ],\n",
       "         [-42.929424 ],\n",
       "         [-44.116486 ]],\n",
       "\n",
       "        [[-46.490612 ],\n",
       "         [-47.677677 ],\n",
       "         [-48.86474  ],\n",
       "         [-50.051804 ]],\n",
       "\n",
       "        [[-52.425926 ],\n",
       "         [-53.61299  ],\n",
       "         [-54.800053 ],\n",
       "         [-55.987118 ]]]], dtype=float32)>"
      ]
     },
     "execution_count": 269,
     "metadata": {},
     "output_type": "execute_result"
    }
   ],
   "source": [
    "cnv(XXX)"
   ]
  },
  {
   "cell_type": "markdown",
   "id": "8efefd2e-10ce-45e7-8303-699ce1dff219",
   "metadata": {},
   "source": [
    "layer 한 번 통과시켜줘야 weights이 나오지"
   ]
  },
  {
   "cell_type": "code",
   "execution_count": 270,
   "id": "15e0c11f-5194-4320-a890-f0c714ad92b8",
   "metadata": {},
   "outputs": [
    {
     "data": {
      "text/plain": [
       "[<tf.Variable 'conv2d_18/kernel:0' shape=(2, 2, 1, 1) dtype=float32, numpy=\n",
       " array([[[[-0.13014299]],\n",
       " \n",
       "         [[-0.23927206]]],\n",
       " \n",
       " \n",
       "        [[[-0.20175874]],\n",
       " \n",
       "         [[-0.6158894 ]]]], dtype=float32)>,\n",
       " <tf.Variable 'conv2d_18/bias:0' shape=(1,) dtype=float32, numpy=array([0.], dtype=float32)>]"
      ]
     },
     "execution_count": 270,
     "metadata": {},
     "output_type": "execute_result"
    }
   ],
   "source": [
    "cnv.weights"
   ]
  },
  {
   "cell_type": "code",
   "execution_count": 273,
   "id": "660ffdb8-63db-44e8-aa04-87278ec0e75b",
   "metadata": {},
   "outputs": [
    {
     "data": {
      "text/plain": [
       "<tf.Tensor: shape=(2, 4, 4), dtype=float32, numpy=\n",
       "array([[[ 6.,  7.,  8.,  9.],\n",
       "        [11., 12., 13., 14.],\n",
       "        [16., 17., 18., 19.],\n",
       "        [21., 22., 23., 24.]],\n",
       "\n",
       "       [[31., 32., 33., 34.],\n",
       "        [36., 37., 38., 39.],\n",
       "        [41., 42., 43., 44.],\n",
       "        [46., 47., 48., 49.]]], dtype=float32)>"
      ]
     },
     "execution_count": 273,
     "metadata": {},
     "output_type": "execute_result"
    }
   ],
   "source": [
    "cnv.set_weights([w,b])\n",
    "cnv(XXX).reshape(2,4,4)"
   ]
  },
  {
   "cell_type": "code",
   "execution_count": 274,
   "id": "677092e8-e2d5-42fe-b9d3-211b69d5f1df",
   "metadata": {},
   "outputs": [
    {
     "name": "stdout",
     "output_type": "stream",
     "text": [
      "tf.Tensor(\n",
      "[[[ 6.  7.  8.  9.]\n",
      "  [11. 12. 13. 14.]\n",
      "  [16. 17. 18. 19.]\n",
      "  [21. 22. 23. 24.]]\n",
      "\n",
      " [[31. 32. 33. 34.]\n",
      "  [36. 37. 38. 39.]\n",
      "  [41. 42. 43. 44.]\n",
      "  [46. 47. 48. 49.]]], shape=(2, 4, 4), dtype=float32)\n"
     ]
    }
   ],
   "source": [
    "print(cnv(XXX).reshape(2,4,4))"
   ]
  },
  {
   "cell_type": "code",
   "execution_count": 276,
   "id": "382e97b6-a9b8-4633-b2ac-603cb4e7d4d0",
   "metadata": {},
   "outputs": [
    {
     "data": {
      "text/plain": [
       "(6.0, 7.0, 31.0)"
      ]
     },
     "execution_count": 276,
     "metadata": {},
     "output_type": "execute_result"
    }
   ],
   "source": [
    "np.mean([0,1,5,6])+3,np.mean([1,2,6,7])+3,np.mean([25,26,30,31])+3"
   ]
  },
  {
   "cell_type": "markdown",
   "id": "8e8a8aa7-423d-4b63-bfa3-d44a19dee773",
   "metadata": {},
   "source": [
    "#### 테스트5"
   ]
  },
  {
   "cell_type": "markdown",
   "id": "d3b71b2d-2a75-415e-bfa7-8a3c3c7e07c5",
   "metadata": {},
   "source": [
    "`-`"
   ]
  },
  {
   "cell_type": "markdown",
   "id": "05dd33e7-6a3e-46cb-8960-165c4d9330d8",
   "metadata": {},
   "source": [
    "observation이 고정이고 출력 채널이 바뀔때"
   ]
  },
  {
   "cell_type": "code",
   "execution_count": 279,
   "id": "7cf836db-60e7-4cfc-ac02-6dd4efcf1799",
   "metadata": {},
   "outputs": [],
   "source": [
    "tf.random.set_seed(43052)\n",
    "cnv = tf.keras.layers.Conv2D(4,(2,2))\n",
    "XXX = tnp.arange(1*2*2*1,dtype=tf.float64).reshape(1,2,2,1)"
   ]
  },
  {
   "cell_type": "markdown",
   "id": "72e70f74-fc86-4d51-92da-3c0967dd4305",
   "metadata": {},
   "source": [
    "> note:  `cnv = tf.keras.layers.Conv2D(4,(2,2))` 여기서 activation 'relu'주면 음의 값이 다 0이 되겠지 뭐~"
   ]
  },
  {
   "cell_type": "code",
   "execution_count": 280,
   "id": "51e08cb3-733b-4926-99ee-6ca9ddf279d8",
   "metadata": {},
   "outputs": [
    {
     "name": "stdout",
     "output_type": "stream",
     "text": [
      "tf.Tensor(\n",
      "[[[0. 1.]\n",
      "  [2. 3.]]], shape=(1, 2, 2), dtype=float64)\n"
     ]
    }
   ],
   "source": [
    "print(XXX.reshape(1,2,2))"
   ]
  },
  {
   "cell_type": "code",
   "execution_count": 281,
   "id": "fd81d931-d803-4cfa-a278-947e46682479",
   "metadata": {},
   "outputs": [
    {
     "data": {
      "text/plain": [
       "<tf.Tensor: shape=(1, 1, 1, 4), dtype=float32, numpy=\n",
       "array([[[[ 1.048703  , -1.0948269 , -0.04476056, -1.7289025 ]]]],\n",
       "      dtype=float32)>"
      ]
     },
     "execution_count": 281,
     "metadata": {},
     "output_type": "execute_result"
    }
   ],
   "source": [
    "cnv(XXX)"
   ]
  },
  {
   "cell_type": "markdown",
   "id": "86666bf9-2897-4b77-9098-87592b17589d",
   "metadata": {},
   "source": [
    "채널이 4개니까 4개의 결과가 출력되었다."
   ]
  },
  {
   "cell_type": "code",
   "execution_count": 283,
   "id": "ba18ca51-f364-4637-b604-821a87d578ce",
   "metadata": {},
   "outputs": [
    {
     "data": {
      "text/plain": [
       "[<tf.Variable 'conv2d_20/kernel:0' shape=(2, 2, 1, 4) dtype=float32, numpy=\n",
       " array([[[[-0.08230966, -0.15132892, -0.12760344, -0.38952267]],\n",
       " \n",
       "         [[-0.36398047,  0.07347518, -0.08780673,  0.46633136]]],\n",
       " \n",
       " \n",
       "        [[[ 0.19759327, -0.46042526, -0.15406173, -0.34838456]],\n",
       " \n",
       "         [[ 0.33916563, -0.08248386,  0.11705655, -0.49948823]]]],\n",
       "       dtype=float32)>,\n",
       " <tf.Variable 'conv2d_20/bias:0' shape=(4,) dtype=float32, numpy=array([0., 0., 0., 0.], dtype=float32)>]"
      ]
     },
     "execution_count": 283,
     "metadata": {},
     "output_type": "execute_result"
    }
   ],
   "source": [
    "cnv.weights"
   ]
  },
  {
   "cell_type": "code",
   "execution_count": 286,
   "id": "e2318761-0263-463a-a263-30aecad47769",
   "metadata": {},
   "outputs": [
    {
     "data": {
      "text/plain": [
       "<tf.Variable 'conv2d_20/kernel:0' shape=(2, 2, 1, 4) dtype=float32, numpy=\n",
       "array([[[[-0.08230966, -0.15132892, -0.12760344, -0.38952267]],\n",
       "\n",
       "        [[-0.36398047,  0.07347518, -0.08780673,  0.46633136]]],\n",
       "\n",
       "\n",
       "       [[[ 0.19759327, -0.46042526, -0.15406173, -0.34838456]],\n",
       "\n",
       "        [[ 0.33916563, -0.08248386,  0.11705655, -0.49948823]]]],\n",
       "      dtype=float32)>"
      ]
     },
     "execution_count": 286,
     "metadata": {},
     "output_type": "execute_result"
    }
   ],
   "source": [
    "cnv.weights[0] # (2,2) 커널의 크기 // 1은 XXX의 채널 수 // 4는 Conv(XXX)의 채널 수"
   ]
  },
  {
   "cell_type": "code",
   "execution_count": 285,
   "id": "f15a55a2-07a7-437f-a432-2dd4ed89619e",
   "metadata": {},
   "outputs": [
    {
     "data": {
      "text/plain": [
       "<tf.Variable 'conv2d_20/bias:0' shape=(4,) dtype=float32, numpy=array([0., 0., 0., 0.], dtype=float32)>"
      ]
     },
     "execution_count": 285,
     "metadata": {},
     "output_type": "execute_result"
    }
   ],
   "source": [
    "cnv.weights[1]"
   ]
  },
  {
   "cell_type": "markdown",
   "id": "38c51a52-d204-49c9-90f8-daff5afd5220",
   "metadata": {},
   "source": [
    "이 값은 0이니 여기서는 신경쓰지 않도록 하자"
   ]
  },
  {
   "cell_type": "code",
   "execution_count": 288,
   "id": "b7132bf6-c29a-40ec-9632-7cb8ec607bda",
   "metadata": {},
   "outputs": [
    {
     "data": {
      "text/plain": [
       "<tf.Tensor: shape=(2, 2), dtype=float32, numpy=\n",
       "array([[-0.08230966, -0.36398047],\n",
       "       [ 0.19759327,  0.33916563]], dtype=float32)>"
      ]
     },
     "execution_count": 288,
     "metadata": {},
     "output_type": "execute_result"
    }
   ],
   "source": [
    "cnv.weights[0][...,0].reshape(2,2) # Conv(XXX)의 첫번째 채널 출력을 얻기 위해 곱해지는 w"
   ]
  },
  {
   "cell_type": "markdown",
   "id": "c58dae9d-3dcb-4c3f-bea7-c90235545310",
   "metadata": {},
   "source": [
    "첫 번째 채널을 얻기 위해 나오는 계수 값\n",
    "- (2,2,1) 차원으로 나옴"
   ]
  },
  {
   "cell_type": "code",
   "execution_count": 290,
   "id": "b8f5af8e-68e5-4c19-8a64-6f2975dfbd79",
   "metadata": {},
   "outputs": [
    {
     "data": {
      "text/plain": [
       "<tf.Tensor: shape=(), dtype=float64, numpy=1.0487029552459717>"
      ]
     },
     "execution_count": 290,
     "metadata": {},
     "output_type": "execute_result"
    }
   ],
   "source": [
    "tf.reduce_sum(XXX.reshape(1,2,2) * cnv.weights[0][...,0].reshape(2,2))"
   ]
  },
  {
   "cell_type": "markdown",
   "id": "d754dbf5-d2d5-4c18-a92a-da799b077eb9",
   "metadata": {},
   "source": [
    "위 결과와 같은 출력 결과"
   ]
  },
  {
   "cell_type": "markdown",
   "id": "69a411ad-5a23-46b1-84f6-5ece931d57e0",
   "metadata": {},
   "source": [
    "x의채널이 3개면 컬러 1개면 흑백이었지.\n",
    "\n",
    "채널이 4개까지 커졌잖아. \n",
    "\n",
    "채널이 원래 1개 혹은 3개가 있는데 4개?5개?50개로 키워서 relu해 ... 큰 의미가 없.....\n",
    "\n",
    "채널을 많이 늘려서 의미있는 채널이 있을 것이라고 생각하며 키운 것일뿐!"
   ]
  },
  {
   "cell_type": "markdown",
   "id": "412ac466-1216-4be2-a9bc-cae74b4a9faf",
   "metadata": {},
   "source": [
    "`-` 계산결과를 확인하기 위해 쉽게 만든 약간의 트릭"
   ]
  },
  {
   "cell_type": "code",
   "execution_count": 291,
   "id": "51fc11a4-707a-40e6-a4e7-4aff1bfa6a8f",
   "metadata": {},
   "outputs": [
    {
     "data": {
      "text/plain": [
       "[1, 1, 1, 1]"
      ]
     },
     "execution_count": 291,
     "metadata": {},
     "output_type": "execute_result"
    }
   ],
   "source": [
    "[1]*1*2*2*1"
   ]
  },
  {
   "cell_type": "code",
   "execution_count": 292,
   "id": "db261167-23b1-41eb-a24b-4ab9fbd3951c",
   "metadata": {},
   "outputs": [
    {
     "ename": "TypeError",
     "evalue": "'<' not supported between instances of 'list' and 'int'",
     "output_type": "error",
     "traceback": [
      "\u001b[0;31m---------------------------------------------------------------------------\u001b[0m",
      "\u001b[0;31mTypeError\u001b[0m                                 Traceback (most recent call last)",
      "Input \u001b[0;32mIn [292]\u001b[0m, in \u001b[0;36m<cell line: 3>\u001b[0;34m()\u001b[0m\n\u001b[1;32m      1\u001b[0m tf\u001b[38;5;241m.\u001b[39mrandom\u001b[38;5;241m.\u001b[39mset_seed(\u001b[38;5;241m43052\u001b[39m)\n\u001b[1;32m      2\u001b[0m cnv \u001b[38;5;241m=\u001b[39m tf\u001b[38;5;241m.\u001b[39mkeras\u001b[38;5;241m.\u001b[39mlayers\u001b[38;5;241m.\u001b[39mConv2D(\u001b[38;5;241m4\u001b[39m,(\u001b[38;5;241m2\u001b[39m,\u001b[38;5;241m2\u001b[39m))\n\u001b[0;32m----> 3\u001b[0m XXX \u001b[38;5;241m=\u001b[39m \u001b[43mtnp\u001b[49m\u001b[38;5;241;43m.\u001b[39;49m\u001b[43marange\u001b[49m\u001b[43m(\u001b[49m\u001b[43m[\u001b[49m\u001b[38;5;241;43m1\u001b[39;49m\u001b[43m]\u001b[49m\u001b[38;5;241;43m*\u001b[39;49m\u001b[38;5;241;43m1\u001b[39;49m\u001b[38;5;241;43m*\u001b[39;49m\u001b[38;5;241;43m2\u001b[39;49m\u001b[38;5;241;43m*\u001b[39;49m\u001b[38;5;241;43m2\u001b[39;49m\u001b[38;5;241;43m*\u001b[39;49m\u001b[38;5;241;43m1\u001b[39;49m\u001b[43m,\u001b[49m\u001b[43mdtype\u001b[49m\u001b[38;5;241;43m=\u001b[39;49m\u001b[43mtf\u001b[49m\u001b[38;5;241;43m.\u001b[39;49m\u001b[43mfloat64\u001b[49m\u001b[43m)\u001b[49m\u001b[38;5;241m.\u001b[39mreshape(\u001b[38;5;241m1\u001b[39m,\u001b[38;5;241m2\u001b[39m,\u001b[38;5;241m2\u001b[39m,\u001b[38;5;241m1\u001b[39m)\n",
      "File \u001b[0;32m~/anaconda3/envs/stbda2022/lib/python3.10/site-packages/tensorflow/python/ops/numpy_ops/np_array_ops.py:262\u001b[0m, in \u001b[0;36marange\u001b[0;34m(start, stop, step, dtype)\u001b[0m\n\u001b[1;32m    259\u001b[0m   \u001b[38;5;28;01melse\u001b[39;00m:\n\u001b[1;32m    260\u001b[0m     dtype \u001b[38;5;241m=\u001b[39m np_utils\u001b[38;5;241m.\u001b[39mresult_type(start, step, stop)\n\u001b[1;32m    261\u001b[0m \u001b[38;5;28;01mif\u001b[39;00m step \u001b[38;5;241m>\u001b[39m \u001b[38;5;241m0\u001b[39m \u001b[38;5;129;01mand\u001b[39;00m ((stop \u001b[38;5;129;01mis\u001b[39;00m \u001b[38;5;129;01mnot\u001b[39;00m \u001b[38;5;28;01mNone\u001b[39;00m \u001b[38;5;129;01mand\u001b[39;00m start \u001b[38;5;241m>\u001b[39m stop) \u001b[38;5;129;01mor\u001b[39;00m\n\u001b[0;32m--> 262\u001b[0m                  (stop \u001b[38;5;129;01mis\u001b[39;00m \u001b[38;5;28;01mNone\u001b[39;00m \u001b[38;5;129;01mand\u001b[39;00m \u001b[43mstart\u001b[49m\u001b[43m \u001b[49m\u001b[38;5;241;43m<\u001b[39;49m\u001b[43m \u001b[49m\u001b[38;5;241;43m0\u001b[39;49m)):\n\u001b[1;32m    263\u001b[0m   \u001b[38;5;28;01mreturn\u001b[39;00m array([], dtype\u001b[38;5;241m=\u001b[39mdtype)\n\u001b[1;32m    264\u001b[0m \u001b[38;5;28;01mif\u001b[39;00m step \u001b[38;5;241m<\u001b[39m \u001b[38;5;241m0\u001b[39m \u001b[38;5;129;01mand\u001b[39;00m ((stop \u001b[38;5;129;01mis\u001b[39;00m \u001b[38;5;129;01mnot\u001b[39;00m \u001b[38;5;28;01mNone\u001b[39;00m \u001b[38;5;129;01mand\u001b[39;00m start \u001b[38;5;241m<\u001b[39m stop) \u001b[38;5;129;01mor\u001b[39;00m\n\u001b[1;32m    265\u001b[0m                  (stop \u001b[38;5;129;01mis\u001b[39;00m \u001b[38;5;28;01mNone\u001b[39;00m \u001b[38;5;129;01mand\u001b[39;00m start \u001b[38;5;241m>\u001b[39m \u001b[38;5;241m0\u001b[39m)):\n",
      "\u001b[0;31mTypeError\u001b[0m: '<' not supported between instances of 'list' and 'int'"
     ]
    }
   ],
   "source": [
    "tf.random.set_seed(43052)\n",
    "cnv = tf.keras.layers.Conv2D(4,(2,2))\n",
    "XXX = tnp.arange([1]*1*2*2*1,dtype=tf.float64).reshape(1,2,2,1)"
   ]
  },
  {
   "cell_type": "code",
   "execution_count": 280,
   "id": "3911e9de-2544-4edb-9f26-280598adf958",
   "metadata": {},
   "outputs": [
    {
     "name": "stdout",
     "output_type": "stream",
     "text": [
      "tf.Tensor(\n",
      "[[[0. 1.]\n",
      "  [2. 3.]]], shape=(1, 2, 2), dtype=float64)\n"
     ]
    }
   ],
   "source": [
    "print(XXX.reshape(1,2,2))"
   ]
  },
  {
   "cell_type": "markdown",
   "id": "c0ad370c-5169-437d-807c-7517c23dcfe3",
   "metadata": {},
   "source": [
    "- 이렇게 XXX를 설정하면 cnv(XXX)의 결과는 단지 cnv의 weight들의 sum이 된다."
   ]
  },
  {
   "cell_type": "code",
   "execution_count": 281,
   "id": "61240820-3966-48af-8efe-667dcacb0441",
   "metadata": {},
   "outputs": [
    {
     "data": {
      "text/plain": [
       "<tf.Tensor: shape=(1, 1, 1, 4), dtype=float32, numpy=\n",
       "array([[[[ 1.048703  , -1.0948269 , -0.04476056, -1.7289025 ]]]],\n",
       "      dtype=float32)>"
      ]
     },
     "execution_count": 281,
     "metadata": {},
     "output_type": "execute_result"
    }
   ],
   "source": [
    "cnv(XXX)"
   ]
  },
  {
   "cell_type": "markdown",
   "id": "03251f08-ad59-4cee-ba38-a0549540f3b1",
   "metadata": {},
   "source": [
    "채널이 4개니까 4개의 결과가 출력되었다."
   ]
  },
  {
   "cell_type": "code",
   "execution_count": 283,
   "id": "c5240805-1020-4945-8f0c-a59bac17e25d",
   "metadata": {},
   "outputs": [
    {
     "data": {
      "text/plain": [
       "[<tf.Variable 'conv2d_20/kernel:0' shape=(2, 2, 1, 4) dtype=float32, numpy=\n",
       " array([[[[-0.08230966, -0.15132892, -0.12760344, -0.38952267]],\n",
       " \n",
       "         [[-0.36398047,  0.07347518, -0.08780673,  0.46633136]]],\n",
       " \n",
       " \n",
       "        [[[ 0.19759327, -0.46042526, -0.15406173, -0.34838456]],\n",
       " \n",
       "         [[ 0.33916563, -0.08248386,  0.11705655, -0.49948823]]]],\n",
       "       dtype=float32)>,\n",
       " <tf.Variable 'conv2d_20/bias:0' shape=(4,) dtype=float32, numpy=array([0., 0., 0., 0.], dtype=float32)>]"
      ]
     },
     "execution_count": 283,
     "metadata": {},
     "output_type": "execute_result"
    }
   ],
   "source": [
    "cnv.weights"
   ]
  },
  {
   "cell_type": "code",
   "execution_count": 286,
   "id": "d0c7632e-9973-4782-a1dd-5162d7928922",
   "metadata": {},
   "outputs": [
    {
     "data": {
      "text/plain": [
       "<tf.Variable 'conv2d_20/kernel:0' shape=(2, 2, 1, 4) dtype=float32, numpy=\n",
       "array([[[[-0.08230966, -0.15132892, -0.12760344, -0.38952267]],\n",
       "\n",
       "        [[-0.36398047,  0.07347518, -0.08780673,  0.46633136]]],\n",
       "\n",
       "\n",
       "       [[[ 0.19759327, -0.46042526, -0.15406173, -0.34838456]],\n",
       "\n",
       "        [[ 0.33916563, -0.08248386,  0.11705655, -0.49948823]]]],\n",
       "      dtype=float32)>"
      ]
     },
     "execution_count": 286,
     "metadata": {},
     "output_type": "execute_result"
    }
   ],
   "source": [
    "cnv.weights[0] # (2,2) 커널의 크기 // 1은 XXX의 채널 수 // 4는 Conv(XXX)의 채널 수"
   ]
  },
  {
   "cell_type": "code",
   "execution_count": 285,
   "id": "58a340c1-7987-4dee-bb67-42e8bede196e",
   "metadata": {},
   "outputs": [
    {
     "data": {
      "text/plain": [
       "<tf.Variable 'conv2d_20/bias:0' shape=(4,) dtype=float32, numpy=array([0., 0., 0., 0.], dtype=float32)>"
      ]
     },
     "execution_count": 285,
     "metadata": {},
     "output_type": "execute_result"
    }
   ],
   "source": [
    "cnv.weights[1]"
   ]
  },
  {
   "cell_type": "markdown",
   "id": "39147576-9932-4396-845b-877bfbb19b6d",
   "metadata": {},
   "source": [
    "이 값은 0이니 여기서는 신경쓰지 않도록 하자"
   ]
  },
  {
   "cell_type": "code",
   "execution_count": 288,
   "id": "aefe212b-cdc0-4b9a-b735-1e1b49636816",
   "metadata": {},
   "outputs": [
    {
     "data": {
      "text/plain": [
       "<tf.Tensor: shape=(2, 2), dtype=float32, numpy=\n",
       "array([[-0.08230966, -0.36398047],\n",
       "       [ 0.19759327,  0.33916563]], dtype=float32)>"
      ]
     },
     "execution_count": 288,
     "metadata": {},
     "output_type": "execute_result"
    }
   ],
   "source": [
    "cnv.weights[0][...,0].reshape(2,2) # Conv(XXX)의 첫번째 채널 출력을 얻기 위해 곱해지는 w"
   ]
  },
  {
   "cell_type": "markdown",
   "id": "bf4ea0e7-45d5-4608-8320-c19746e2f3a8",
   "metadata": {},
   "source": [
    "첫 번째 채널을 얻기 위해 나오는 계수 값\n",
    "- (2,2,1) 차원으로 나옴"
   ]
  },
  {
   "cell_type": "code",
   "execution_count": 290,
   "id": "63484756-aa10-4004-91e0-534c41ca432a",
   "metadata": {},
   "outputs": [
    {
     "data": {
      "text/plain": [
       "<tf.Tensor: shape=(), dtype=float64, numpy=1.0487029552459717>"
      ]
     },
     "execution_count": 290,
     "metadata": {},
     "output_type": "execute_result"
    }
   ],
   "source": [
    "tf.resuce_sum(cnv.weights[0][...,0]),tf.reduce_sum(XXX.reshape(1,2,2) * cnv.weights[0][...,0].reshape(2,2)) # 같은 결과!"
   ]
  },
  {
   "cell_type": "markdown",
   "id": "1e979ecd-cac8-4ac7-bd53-6c9097f6d56c",
   "metadata": {},
   "source": [
    "#### 테스트6"
   ]
  },
  {
   "cell_type": "markdown",
   "id": "7f90a1a4-d023-49fe-8a4f-21eebf6702b7",
   "metadata": {},
   "source": [
    "X의 채널이 여러개 있고, conv의 채널도 여러개 일때"
   ]
  },
  {
   "cell_type": "code",
   "execution_count": 7,
   "id": "b9f355e8-7179-4735-9380-991496a70f17",
   "metadata": {},
   "outputs": [
    {
     "ename": "TypeError",
     "evalue": "'<' not supported between instances of 'list' and 'int'",
     "output_type": "error",
     "traceback": [
      "\u001b[0;31m---------------------------------------------------------------------------\u001b[0m",
      "\u001b[0;31mTypeError\u001b[0m                                 Traceback (most recent call last)",
      "Input \u001b[0;32mIn [7]\u001b[0m, in \u001b[0;36m<cell line: 3>\u001b[0;34m()\u001b[0m\n\u001b[1;32m      1\u001b[0m tf\u001b[38;5;241m.\u001b[39mrandom\u001b[38;5;241m.\u001b[39mset_seed(\u001b[38;5;241m43052\u001b[39m)\n\u001b[1;32m      2\u001b[0m cnv \u001b[38;5;241m=\u001b[39m tf\u001b[38;5;241m.\u001b[39mkeras\u001b[38;5;241m.\u001b[39mlayers\u001b[38;5;241m.\u001b[39mConv2D(\u001b[38;5;241m4\u001b[39m,(\u001b[38;5;241m2\u001b[39m,\u001b[38;5;241m2\u001b[39m))\n\u001b[0;32m----> 3\u001b[0m XXX \u001b[38;5;241m=\u001b[39m \u001b[43mtnp\u001b[49m\u001b[38;5;241;43m.\u001b[39;49m\u001b[43marange\u001b[49m\u001b[43m(\u001b[49m\u001b[43m[\u001b[49m\u001b[38;5;241;43m1\u001b[39;49m\u001b[43m]\u001b[49m\u001b[38;5;241;43m*\u001b[39;49m\u001b[38;5;241;43m1\u001b[39;49m\u001b[38;5;241;43m*\u001b[39;49m\u001b[38;5;241;43m2\u001b[39;49m\u001b[38;5;241;43m*\u001b[39;49m\u001b[38;5;241;43m2\u001b[39;49m\u001b[38;5;241;43m*\u001b[39;49m\u001b[38;5;241;43m3\u001b[39;49m\u001b[43m,\u001b[49m\u001b[43mdtype\u001b[49m\u001b[38;5;241;43m=\u001b[39;49m\u001b[43mtf\u001b[49m\u001b[38;5;241;43m.\u001b[39;49m\u001b[43mfloat64\u001b[49m\u001b[43m)\u001b[49m\u001b[38;5;241m.\u001b[39mreshape(\u001b[38;5;241m1\u001b[39m,\u001b[38;5;241m2\u001b[39m,\u001b[38;5;241m2\u001b[39m,\u001b[38;5;241m3\u001b[39m)\n",
      "File \u001b[0;32m~/anaconda3/envs/stbda2022/lib/python3.10/site-packages/tensorflow/python/ops/numpy_ops/np_array_ops.py:262\u001b[0m, in \u001b[0;36marange\u001b[0;34m(start, stop, step, dtype)\u001b[0m\n\u001b[1;32m    259\u001b[0m   \u001b[38;5;28;01melse\u001b[39;00m:\n\u001b[1;32m    260\u001b[0m     dtype \u001b[38;5;241m=\u001b[39m np_utils\u001b[38;5;241m.\u001b[39mresult_type(start, step, stop)\n\u001b[1;32m    261\u001b[0m \u001b[38;5;28;01mif\u001b[39;00m step \u001b[38;5;241m>\u001b[39m \u001b[38;5;241m0\u001b[39m \u001b[38;5;129;01mand\u001b[39;00m ((stop \u001b[38;5;129;01mis\u001b[39;00m \u001b[38;5;129;01mnot\u001b[39;00m \u001b[38;5;28;01mNone\u001b[39;00m \u001b[38;5;129;01mand\u001b[39;00m start \u001b[38;5;241m>\u001b[39m stop) \u001b[38;5;129;01mor\u001b[39;00m\n\u001b[0;32m--> 262\u001b[0m                  (stop \u001b[38;5;129;01mis\u001b[39;00m \u001b[38;5;28;01mNone\u001b[39;00m \u001b[38;5;129;01mand\u001b[39;00m \u001b[43mstart\u001b[49m\u001b[43m \u001b[49m\u001b[38;5;241;43m<\u001b[39;49m\u001b[43m \u001b[49m\u001b[38;5;241;43m0\u001b[39;49m)):\n\u001b[1;32m    263\u001b[0m   \u001b[38;5;28;01mreturn\u001b[39;00m array([], dtype\u001b[38;5;241m=\u001b[39mdtype)\n\u001b[1;32m    264\u001b[0m \u001b[38;5;28;01mif\u001b[39;00m step \u001b[38;5;241m<\u001b[39m \u001b[38;5;241m0\u001b[39m \u001b[38;5;129;01mand\u001b[39;00m ((stop \u001b[38;5;129;01mis\u001b[39;00m \u001b[38;5;129;01mnot\u001b[39;00m \u001b[38;5;28;01mNone\u001b[39;00m \u001b[38;5;129;01mand\u001b[39;00m start \u001b[38;5;241m<\u001b[39m stop) \u001b[38;5;129;01mor\u001b[39;00m\n\u001b[1;32m    265\u001b[0m                  (stop \u001b[38;5;129;01mis\u001b[39;00m \u001b[38;5;28;01mNone\u001b[39;00m \u001b[38;5;129;01mand\u001b[39;00m start \u001b[38;5;241m>\u001b[39m \u001b[38;5;241m0\u001b[39m)):\n",
      "\u001b[0;31mTypeError\u001b[0m: '<' not supported between instances of 'list' and 'int'"
     ]
    }
   ],
   "source": [
    "tf.random.set_seed(43052)\n",
    "cnv = tf.keras.layers.Conv2D(4,(2,2))\n",
    "XXX = tnp.arange([1]*1*2*2*3,dtype=tf.float64).reshape(1,2,2,3) # 채널이 3에서 4로 커지는 !"
   ]
  },
  {
   "cell_type": "code",
   "execution_count": null,
   "id": "12e13571-2ae5-4d2e-bcac-d787797075a1",
   "metadata": {},
   "outputs": [],
   "source": [
    "cnv.weights[0] ## (2,2) 는 커널의 사이즈 // 3은 XXX의 채널 // 4는 conv(XXX)의 채널"
   ]
  },
  {
   "cell_type": "code",
   "execution_count": null,
   "id": "6b8296d1-8ea4-42ad-87b5-6ae343dfed32",
   "metadata": {},
   "outputs": [],
   "source": [
    "cnv.weights[0][...,0] ## cnv(XXX)의 첫번째 채널 결과를 얻기 위해서 사용하는 w"
   ]
  },
  {
   "cell_type": "code",
   "execution_count": null,
   "id": "fca5645d-7917-456d-aecd-5276864796bc",
   "metadata": {},
   "outputs": [],
   "source": [
    "tf.reduce_sum(cnv.weights[0][...,0]) # cnv(XXX)의 첫번째 채널의 결과"
   ]
  },
  {
   "cell_type": "markdown",
   "id": "19c5e38e-f9c0-4808-9ae5-506dae727ed1",
   "metadata": {},
   "source": [
    "위와 일치하는 결과"
   ]
  },
  {
   "cell_type": "code",
   "execution_count": null,
   "id": "c064c711-2565-4c40-97c9-b0a1955ec6c2",
   "metadata": {},
   "outputs": [],
   "source": [
    "print(tf.reduce_sum(cnv.weights[0][...,0]))\n",
    "print(tf.reduce_sum(cnv.weights[0][...,1]))\n",
    "print(tf.reduce_sum(cnv.weights[0][...,2]))\n",
    "print(tf.reduce_sum(cnv.weights[0][...,3])) ### cnv(XXX)의 결과"
   ]
  },
  {
   "cell_type": "code",
   "execution_count": null,
   "id": "ec3edf54-a7ec-4709-98a7-dda567b82c48",
   "metadata": {},
   "outputs": [],
   "source": [
    "cnv(XXX)"
   ]
  },
  {
   "cell_type": "markdown",
   "id": "067e3315-fdaa-45a1-9fb1-5d8a082e6ca7",
   "metadata": {},
   "source": [
    "똑같이 재현된 모습"
   ]
  },
  {
   "cell_type": "code",
   "execution_count": null,
   "id": "c265f335-34cd-4c8f-a627-aadca6941055",
   "metadata": {},
   "outputs": [],
   "source": [
    "cnv.weights[0][...,0] # (2,2,3) 3은 x의 입력 채널에 대응한다."
   ]
  },
  {
   "cell_type": "code",
   "execution_count": null,
   "id": "6130213b-fc25-4d5f-a5d4-1951ffcec6b8",
   "metadata": {},
   "outputs": [],
   "source": [
    "w_red = cnv.weights[0][...,0][...,0]\n",
    "w_green = cnv.weights[0][...,0][...,1]\n",
    "w_blue = cnv.weights[0][...,0][...,2]"
   ]
  },
  {
   "cell_type": "code",
   "execution_count": null,
   "id": "65da66ba-846e-4afd-9438-3699c2c3d6c0",
   "metadata": {},
   "outputs": [],
   "source": [
    "XXX[...,0] # X_red"
   ]
  },
  {
   "cell_type": "code",
   "execution_count": 8,
   "id": "a2a54b8e-1770-48cf-9b73-93f93c1c25a3",
   "metadata": {},
   "outputs": [
    {
     "ename": "SyntaxError",
     "evalue": "invalid decimal literal (1669553406.py, line 1)",
     "output_type": "error",
     "traceback": [
      "\u001b[0;36m  Input \u001b[0;32mIn [8]\u001b[0;36m\u001b[0m\n\u001b[0;31m    tf.rreduce_sum(XXX[...,0] * 2_red + XXX[...,1] * W_green + XXX[...,2] * w_blue) # cnv(XXX)의 첫번째 채널의 출력 결과\u001b[0m\n\u001b[0m                                 ^\u001b[0m\n\u001b[0;31mSyntaxError\u001b[0m\u001b[0;31m:\u001b[0m invalid decimal literal\n"
     ]
    }
   ],
   "source": [
    "tf.rreduce_sum(XXX[...,0] * 2_red + XXX[...,1] * W_green + XXX[...,2] * w_blue) # cnv(XXX)의 첫번째 채널의 출력 결과"
   ]
  }
 ],
 "metadata": {
  "kernelspec": {
   "display_name": "Python 3 (ipykernel)",
   "language": "python",
   "name": "python3"
  },
  "language_info": {
   "codemirror_mode": {
    "name": "ipython",
    "version": 3
   },
   "file_extension": ".py",
   "mimetype": "text/x-python",
   "name": "python",
   "nbconvert_exporter": "python",
   "pygments_lexer": "ipython3",
   "version": "3.10.0"
  }
 },
 "nbformat": 4,
 "nbformat_minor": 5
}
