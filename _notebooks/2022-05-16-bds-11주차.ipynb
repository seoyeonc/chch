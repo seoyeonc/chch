{
 "cells": [
  {
   "cell_type": "markdown",
   "id": "aa073583-81da-422e-b10a-d824985b260a",
   "metadata": {
    "tags": []
   },
   "source": [
    "# 빅데이터 분석 특강 (11주차) 5월16일\n",
    "\n",
    "- toc:true\n",
    "- branch: master\n",
    "- badges: true\n",
    "- comments: false\n",
    "- author: 최서연\n",
    "- categories: [Special Topics in Big Data Analysis]"
   ]
  },
  {
   "cell_type": "markdown",
   "id": "83ae0d4d-6702-4456-b92d-361a8287877d",
   "metadata": {
    "id": "c4f6e19b-33d5-457d-80e8-dca53a886c8b"
   },
   "source": [
    "### imports"
   ]
  },
  {
   "cell_type": "code",
   "execution_count": 1,
   "id": "87cf195b-624d-4dba-8ead-168a9fc4f8a6",
   "metadata": {
    "id": "0cfeb127-a213-48dd-a815-12298b527b46"
   },
   "outputs": [],
   "source": [
    "import tensorflow as tf\n",
    "import matplotlib.pyplot as plt\n",
    "import numpy as np\n",
    "import tensorflow.experimental.numpy as tnp"
   ]
  },
  {
   "cell_type": "code",
   "execution_count": 2,
   "id": "9d878922-682d-4ca1-914b-8f893558ee55",
   "metadata": {
    "id": "563ebbbc-be73-4d4e-be5e-557d46f512f3",
    "outputId": "fa254444-01cf-4e3a-8018-2a55b36c09da"
   },
   "outputs": [
    {
     "data": {
      "text/plain": [
       "[PhysicalDevice(name='/physical_device:CPU:0', device_type='CPU'),\n",
       " PhysicalDevice(name='/physical_device:GPU:0', device_type='GPU')]"
      ]
     },
     "execution_count": 2,
     "metadata": {},
     "output_type": "execute_result"
    }
   ],
   "source": [
    "tf.config.experimental.list_physical_devices()"
   ]
  },
  {
   "cell_type": "code",
   "execution_count": 3,
   "id": "88bcff5f-0a6a-4dae-aed4-b666068a5be5",
   "metadata": {},
   "outputs": [],
   "source": [
    "tnp.experimental_enable_numpy_behavior()"
   ]
  },
  {
   "cell_type": "code",
   "execution_count": 4,
   "id": "f7e66ee1-e0b5-4e5a-b258-3625f9fe1ac2",
   "metadata": {},
   "outputs": [],
   "source": [
    "(x_train, y_train), (x_test, y_test) = tf.keras.datasets.fashion_mnist.load_data()"
   ]
  },
  {
   "cell_type": "code",
   "execution_count": 5,
   "id": "ba0986c9-58f3-44a4-aeed-a90b83a62f0f",
   "metadata": {},
   "outputs": [
    {
     "data": {
      "text/plain": [
       "array([9, 0, 0, ..., 3, 0, 5], dtype=uint8)"
      ]
     },
     "execution_count": 5,
     "metadata": {},
     "output_type": "execute_result"
    }
   ],
   "source": [
    "y_train # 이 데이터는 클래스의 데이터"
   ]
  },
  {
   "cell_type": "code",
   "execution_count": 6,
   "id": "05bb5357-8deb-43b8-ac68-b6b736265b20",
   "metadata": {},
   "outputs": [
    {
     "data": {
      "text/plain": [
       "(60000, 28, 28)"
      ]
     },
     "execution_count": 6,
     "metadata": {},
     "output_type": "execute_result"
    }
   ],
   "source": [
    "x_train.shape"
   ]
  },
  {
   "cell_type": "code",
   "execution_count": 10,
   "id": "440f826d-eb21-4f45-8a87-0e2cbd7a529a",
   "metadata": {},
   "outputs": [],
   "source": [
    "X = tf.constant(x_train.reshape(-1,28,28,1),dtype=tf.float64)\n",
    "y = tf.keras.utils.to_categorical(y_train)\n",
    "XX = tf.constant(x_test.reshape(-1,28,28,1),dtype=tf.float64)\n",
    "yy = tf.keras.utils.to_categorical(y_test)"
   ]
  },
  {
   "cell_type": "code",
   "execution_count": 15,
   "id": "eb8bcbe5-4e7f-4a2d-81e0-c7123bae263b",
   "metadata": {},
   "outputs": [
    {
     "name": "stdout",
     "output_type": "stream",
     "text": [
      "Epoch 1/10\n",
      "  57/1875 [..............................] - ETA: 5s - loss: 17.1517 - accuracy: 0.2111  "
     ]
    },
    {
     "name": "stderr",
     "output_type": "stream",
     "text": [
      "2022-05-16 19:18:57.584523: I tensorflow/stream_executor/cuda/cuda_blas.cc:1774] TensorFloat-32 will be used for the matrix multiplication. This will only be logged once.\n"
     ]
    },
    {
     "name": "stdout",
     "output_type": "stream",
     "text": [
      "1875/1875 [==============================] - 7s 3ms/step - loss: 1.9477 - accuracy: 0.4426\n",
      "Epoch 2/10\n",
      "1875/1875 [==============================] - 6s 3ms/step - loss: 1.0451 - accuracy: 0.5917\n",
      "Epoch 3/10\n",
      "1875/1875 [==============================] - 6s 3ms/step - loss: 0.8487 - accuracy: 0.6686\n",
      "Epoch 4/10\n",
      "1875/1875 [==============================] - 6s 3ms/step - loss: 0.7931 - accuracy: 0.6836\n",
      "Epoch 5/10\n",
      "1875/1875 [==============================] - 6s 3ms/step - loss: 0.7587 - accuracy: 0.7028\n",
      "Epoch 6/10\n",
      "1875/1875 [==============================] - 6s 3ms/step - loss: 0.7128 - accuracy: 0.7225\n",
      "Epoch 7/10\n",
      "1875/1875 [==============================] - 6s 3ms/step - loss: 0.6896 - accuracy: 0.7284\n",
      "Epoch 8/10\n",
      "1875/1875 [==============================] - 6s 3ms/step - loss: 0.6661 - accuracy: 0.7359\n",
      "Epoch 9/10\n",
      "1875/1875 [==============================] - 6s 3ms/step - loss: 0.6561 - accuracy: 0.7393\n",
      "Epoch 10/10\n",
      "1875/1875 [==============================] - 6s 3ms/step - loss: 0.6475 - accuracy: 0.7394\n"
     ]
    },
    {
     "data": {
      "text/plain": [
       "<keras.callbacks.History at 0x7f0fbe329f90>"
      ]
     },
     "execution_count": 15,
     "metadata": {},
     "output_type": "execute_result"
    }
   ],
   "source": [
    "net1 = tf.keras.Sequential()\n",
    "net1.add(tf.keras.layers.Flatten())\n",
    "net1.add(tf.keras.layers.Dense(30,activation='relu')) # 30 잘 안 맞는 거 아는데 처음이니까~ 해보자\n",
    "net1.add(tf.keras.layers.Dense(30,activation='relu'))\n",
    "net1.add(tf.keras.layers.Dense(10,activation='softmax'))\n",
    "net1.compile(optimizer='adam',loss=tf.losses.categorical_crossentropy,metrics='accuracy')\n",
    "net1.fit(X,y,epochs=10)"
   ]
  },
  {
   "cell_type": "code",
   "execution_count": 16,
   "id": "d010f1ae-f720-478c-a38d-0fc8d4c862a7",
   "metadata": {},
   "outputs": [
    {
     "name": "stdout",
     "output_type": "stream",
     "text": [
      "313/313 [==============================] - 1s 3ms/step - loss: 0.7311 - accuracy: 0.7128\n"
     ]
    },
    {
     "data": {
      "text/plain": [
       "[0.7310638427734375, 0.7128000259399414]"
      ]
     },
     "execution_count": 16,
     "metadata": {},
     "output_type": "execute_result"
    }
   ],
   "source": [
    "net1.evaluate(XX,yy)"
   ]
  },
  {
   "cell_type": "markdown",
   "id": "cc4b0efb-278d-43a1-8599-67b51d83b591",
   "metadata": {},
   "source": [
    "net가 단순하다보니 정확도 계산에 한계가 있는 거 같다 에폭 20해도 크게 변하지 않음!"
   ]
  },
  {
   "cell_type": "code",
   "execution_count": 44,
   "id": "497e88eb-5818-4644-b0aa-2eeaedc00b29",
   "metadata": {},
   "outputs": [
    {
     "name": "stdout",
     "output_type": "stream",
     "text": [
      "Epoch 1/10\n",
      "1875/1875 [==============================] - 7s 4ms/step - loss: 2.0995 - accuracy: 0.7383\n",
      "Epoch 2/10\n",
      "1875/1875 [==============================] - 7s 4ms/step - loss: 0.7340 - accuracy: 0.7693\n",
      "Epoch 3/10\n",
      "1875/1875 [==============================] - 7s 4ms/step - loss: 0.5704 - accuracy: 0.8125\n",
      "Epoch 4/10\n",
      "1875/1875 [==============================] - 7s 4ms/step - loss: 0.4953 - accuracy: 0.8313\n",
      "Epoch 5/10\n",
      "1875/1875 [==============================] - 7s 4ms/step - loss: 0.4669 - accuracy: 0.8410\n",
      "Epoch 6/10\n",
      "1875/1875 [==============================] - 7s 4ms/step - loss: 0.4544 - accuracy: 0.8445\n",
      "Epoch 7/10\n",
      "1875/1875 [==============================] - 7s 4ms/step - loss: 0.4325 - accuracy: 0.8504\n",
      "Epoch 8/10\n",
      "1875/1875 [==============================] - 7s 4ms/step - loss: 0.4320 - accuracy: 0.8501\n",
      "Epoch 9/10\n",
      "1875/1875 [==============================] - 7s 4ms/step - loss: 0.4231 - accuracy: 0.8539\n",
      "Epoch 10/10\n",
      "1875/1875 [==============================] - 7s 4ms/step - loss: 0.4182 - accuracy: 0.8522\n"
     ]
    },
    {
     "data": {
      "text/plain": [
       "<keras.callbacks.History at 0x7f100416a710>"
      ]
     },
     "execution_count": 44,
     "metadata": {},
     "output_type": "execute_result"
    }
   ],
   "source": [
    "net1 = tf.keras.Sequential()\n",
    "net1.add(tf.keras.layers.Flatten())\n",
    "net1.add(tf.keras.layers.Dense(500,activation='relu'))\n",
    "net1.add(tf.keras.layers.Dense(500,activation='relu'))\n",
    "net1.add(tf.keras.layers.Dense(10,activation='softmax'))\n",
    "net1.compile(optimizer='adam',loss=tf.losses.categorical_crossentropy,metrics='accuracy')\n",
    "net1.fit(X,y,epochs=10)"
   ]
  },
  {
   "cell_type": "code",
   "execution_count": 45,
   "id": "5cba273b-ed1e-463b-9508-6a739ca7777a",
   "metadata": {},
   "outputs": [
    {
     "name": "stdout",
     "output_type": "stream",
     "text": [
      "313/313 [==============================] - 1s 3ms/step - loss: 0.4547 - accuracy: 0.8397\n"
     ]
    },
    {
     "data": {
      "text/plain": [
       "[0.4547102153301239, 0.8396999835968018]"
      ]
     },
     "execution_count": 45,
     "metadata": {},
     "output_type": "execute_result"
    }
   ],
   "source": [
    "net1.evaluate(XX,yy)"
   ]
  },
  {
   "cell_type": "code",
   "execution_count": 46,
   "id": "249adcc1-59b3-4e30-b666-3bea6392139e",
   "metadata": {},
   "outputs": [
    {
     "name": "stdout",
     "output_type": "stream",
     "text": [
      "Model: \"sequential_9\"\n",
      "_________________________________________________________________\n",
      " Layer (type)                Output Shape              Param #   \n",
      "=================================================================\n",
      " flatten_8 (Flatten)         (None, 784)               0         \n",
      "                                                                 \n",
      " dense_20 (Dense)            (None, 500)               392500    \n",
      "                                                                 \n",
      " dense_21 (Dense)            (None, 500)               250500    \n",
      "                                                                 \n",
      " dense_22 (Dense)            (None, 10)                5010      \n",
      "                                                                 \n",
      "=================================================================\n",
      "Total params: 648,010\n",
      "Trainable params: 648,010\n",
      "Non-trainable params: 0\n",
      "_________________________________________________________________\n"
     ]
    }
   ],
   "source": [
    "net1.summary()"
   ]
  },
  {
   "cell_type": "markdown",
   "id": "b5fd2481-fa3b-4751-88b6-247d54f2c7f7",
   "metadata": {},
   "source": [
    "Dense layer로 한계가 있는 것 같으니 다른 방법을 찾아보자"
   ]
  },
  {
   "cell_type": "markdown",
   "id": "d0557219-b267-4078-8d31-a740a117c918",
   "metadata": {},
   "source": [
    "---"
   ]
  },
  {
   "cell_type": "markdown",
   "id": "73074df6-386c-4dfb-a693-28f88cf9225a",
   "metadata": {},
   "source": [
    "`-` 두번째 시도\n",
    "- `tf.keras.layers.Conv2D`\n",
    "- `tf.keras.layers.MaxPool2D`"
   ]
  },
  {
   "cell_type": "code",
   "execution_count": 47,
   "id": "6cf21d10-859a-4c41-b661-84d98846eb4c",
   "metadata": {},
   "outputs": [
    {
     "name": "stdout",
     "output_type": "stream",
     "text": [
      "Epoch 1/5\n",
      "1875/1875 [==============================] - 8s 4ms/step - loss: 1.3192 - accuracy: 0.7984\n",
      "Epoch 2/5\n",
      "1875/1875 [==============================] - 8s 4ms/step - loss: 0.4260 - accuracy: 0.8600\n",
      "Epoch 3/5\n",
      "1875/1875 [==============================] - 8s 4ms/step - loss: 0.3790 - accuracy: 0.8711\n",
      "Epoch 4/5\n",
      "1875/1875 [==============================] - 8s 4ms/step - loss: 0.3572 - accuracy: 0.8771\n",
      "Epoch 5/5\n",
      "1875/1875 [==============================] - 8s 4ms/step - loss: 0.3407 - accuracy: 0.8831\n"
     ]
    },
    {
     "data": {
      "text/plain": [
       "<keras.callbacks.History at 0x7f0f9c325cf0>"
      ]
     },
     "execution_count": 47,
     "metadata": {},
     "output_type": "execute_result"
    }
   ],
   "source": [
    "net2 = tf.keras.Sequential()\n",
    "net2.add(tf.keras.layers.Conv2D(30,(2,2)))\n",
    "net2.add(tf.keras.layers.MaxPool2D())\n",
    "net2.add(tf.keras.layers.Conv2D(30,(2,2)))\n",
    "net2.add(tf.keras.layers.MaxPool2D())\n",
    "net2.add(tf.keras.layers.Flatten())\n",
    "net2.add(tf.keras.layers.Dense(10,activation='softmax'))\n",
    "net2.compile(optimizer='adam',loss=tf.losses.categorical_crossentropy,metrics='accuracy')\n",
    "net2.fit(X,y,epochs=5)"
   ]
  },
  {
   "cell_type": "code",
   "execution_count": 48,
   "id": "59168730-7c22-4233-9950-89260a413e69",
   "metadata": {},
   "outputs": [
    {
     "name": "stdout",
     "output_type": "stream",
     "text": [
      "313/313 [==============================] - 1s 3ms/step - loss: 0.4007 - accuracy: 0.8666\n"
     ]
    },
    {
     "data": {
      "text/plain": [
       "[0.4006589353084564, 0.866599977016449]"
      ]
     },
     "execution_count": 48,
     "metadata": {},
     "output_type": "execute_result"
    }
   ],
   "source": [
    "net2.evaluate(XX,yy)"
   ]
  },
  {
   "cell_type": "code",
   "execution_count": 49,
   "id": "cddaee77-5bdb-48df-b023-701f7beb9fb5",
   "metadata": {},
   "outputs": [
    {
     "name": "stdout",
     "output_type": "stream",
     "text": [
      "Model: \"sequential_10\"\n",
      "_________________________________________________________________\n",
      " Layer (type)                Output Shape              Param #   \n",
      "=================================================================\n",
      " conv2d_5 (Conv2D)           (None, 27, 27, 30)        150       \n",
      "                                                                 \n",
      " max_pooling2d_4 (MaxPooling  (None, 13, 13, 30)       0         \n",
      " 2D)                                                             \n",
      "                                                                 \n",
      " conv2d_6 (Conv2D)           (None, 12, 12, 30)        3630      \n",
      "                                                                 \n",
      " max_pooling2d_5 (MaxPooling  (None, 6, 6, 30)         0         \n",
      " 2D)                                                             \n",
      "                                                                 \n",
      " flatten_9 (Flatten)         (None, 1080)              0         \n",
      "                                                                 \n",
      " dense_23 (Dense)            (None, 10)                10810     \n",
      "                                                                 \n",
      "=================================================================\n",
      "Total params: 14,590\n",
      "Trainable params: 14,590\n",
      "Non-trainable params: 0\n",
      "_________________________________________________________________\n"
     ]
    }
   ],
   "source": [
    "net2.summary()"
   ]
  },
  {
   "cell_type": "markdown",
   "id": "1a6abd91-ffac-4c99-bcb8-351ef2041f38",
   "metadata": {},
   "source": [
    "dense에 파라메터 뭉쳐있는 이유\n",
    "- 펼쳐진 노드를 뭉치기 때문에..\n",
    "- 1080*10*bias10개 = 10810 이렇게 계산되지!"
   ]
  },
  {
   "cell_type": "markdown",
   "id": "ceb65fb2-1593-4844-8896-eb1b0f3a5cac",
   "metadata": {},
   "source": [
    "- 정확도만 보면 net2가 낫네?\n",
    "- 파라메터 수를 보니 첫번째 시도 대비 파라메터를 적게 사용한 모습을 볼 수 있다.\n",
    "\n",
    "$\\therefore$ 파라메터 조금쓰고 정확도 높은 좋은 net2모형!"
   ]
  },
  {
   "cell_type": "code",
   "execution_count": 50,
   "id": "ddd09163-756d-4508-9f63-eae742779af2",
   "metadata": {},
   "outputs": [
    {
     "data": {
      "text/plain": [
       "[<keras.layers.convolutional.Conv2D at 0x7f0f9c7da230>,\n",
       " <keras.layers.pooling.MaxPooling2D at 0x7f0f9c7da8f0>,\n",
       " <keras.layers.convolutional.Conv2D at 0x7f10c033bf40>,\n",
       " <keras.layers.pooling.MaxPooling2D at 0x7f10047a9ae0>,\n",
       " <keras.layers.core.flatten.Flatten at 0x7f0f9c7db370>,\n",
       " <keras.layers.core.dense.Dense at 0x7f10c033be50>]"
      ]
     },
     "execution_count": 50,
     "metadata": {},
     "output_type": "execute_result"
    }
   ],
   "source": [
    "net2.layers"
   ]
  },
  {
   "cell_type": "markdown",
   "id": "b07cd032-e995-4bb7-a2c3-1cf3de651944",
   "metadata": {},
   "source": [
    "내가 설계한 네트워크의 순서를 확인해보자"
   ]
  },
  {
   "cell_type": "code",
   "execution_count": 51,
   "id": "e58362bc-7a4f-4789-9856-a80f09bf86c0",
   "metadata": {},
   "outputs": [],
   "source": [
    "c1,m1,c2,m2,flttn,dns = net2.layers"
   ]
  },
  {
   "cell_type": "code",
   "execution_count": 56,
   "id": "657befe5-3f67-4fb7-975a-bb05a62520a7",
   "metadata": {},
   "outputs": [
    {
     "name": "stdout",
     "output_type": "stream",
     "text": [
      "(60000, 28, 28, 1)\n",
      "(60000, 27, 27, 30)\n",
      "(60000, 13, 13, 30)\n",
      "(60000, 12, 12, 30)\n",
      "(60000, 6, 6, 30)\n",
      "(60000, 1080)\n",
      "(60000, 10)\n"
     ]
    }
   ],
   "source": [
    "print(X.shape) # 입력이미지 = 2D # 1은 채널이 하나라는 뜻\n",
    "print(c1(X).shape) # 2D # 갑자기 채널이 30이 되어버리!\n",
    "print(m1(c1(X)).shape) # 2D # maxpool 통과했더니 fixel 크기가 줄어들었네?\n",
    "print(c2(m1(c1(X))).shape) # 2D # 또 줄어들고 채널은 30으로 유지되는데?\n",
    "print(m2(c2(m1(c1(X)))).shape) # 2D # 모두 퍼져서 12*12*30=4320이 되어버림\n",
    "print(flttn(m2(c2(m1(c1(X))))).shape) # 2D\n",
    "print(dns(flttn(m2(c2(m1(c1(X)))))).shape) # 2D"
   ]
  },
  {
   "cell_type": "code",
   "execution_count": 41,
   "id": "d6cfd11e-14a0-45d0-9ac1-42448d10eab0",
   "metadata": {},
   "outputs": [
    {
     "name": "stdout",
     "output_type": "stream",
     "text": [
      "Epoch 1/5\n",
      "1875/1875 [==============================] - 8s 4ms/step - loss: 0.7736 - accuracy: 0.8055\n",
      "Epoch 2/5\n",
      "1875/1875 [==============================] - 8s 4ms/step - loss: 0.3742 - accuracy: 0.8654\n",
      "Epoch 3/5\n",
      "1875/1875 [==============================] - 8s 4ms/step - loss: 0.3343 - accuracy: 0.8789\n",
      "Epoch 4/5\n",
      "1875/1875 [==============================] - 8s 4ms/step - loss: 0.3126 - accuracy: 0.8867\n",
      "Epoch 5/5\n",
      "1875/1875 [==============================] - 8s 4ms/step - loss: 0.2971 - accuracy: 0.8908\n"
     ]
    },
    {
     "data": {
      "text/plain": [
       "<keras.callbacks.History at 0x7f0f9c765510>"
      ]
     },
     "execution_count": 41,
     "metadata": {},
     "output_type": "execute_result"
    }
   ],
   "source": [
    "net2 = tf.keras.Sequential()\n",
    "net2.add(tf.keras.layers.Conv2D(30,(2,2),activation='relu'))\n",
    "net2.add(tf.keras.layers.MaxPool2D())\n",
    "net2.add(tf.keras.layers.Conv2D(30,(2,2),activation='relu'))\n",
    "net2.add(tf.keras.layers.MaxPool2D())\n",
    "net2.add(tf.keras.layers.Flatten())\n",
    "net2.add(tf.keras.layers.Dense(10,activation='softmax'))\n",
    "net2.compile(optimizer='adam',loss=tf.losses.categorical_crossentropy,metrics='accuracy')\n",
    "net2.fit(X,y,epochs=5)"
   ]
  },
  {
   "cell_type": "code",
   "execution_count": 42,
   "id": "b36b2321-1255-41fb-8141-05bdedfc02a0",
   "metadata": {},
   "outputs": [
    {
     "name": "stdout",
     "output_type": "stream",
     "text": [
      "313/313 [==============================] - 1s 3ms/step - loss: 0.3276 - accuracy: 0.8802\n"
     ]
    },
    {
     "data": {
      "text/plain": [
       "[0.32759028673171997, 0.8802000284194946]"
      ]
     },
     "execution_count": 42,
     "metadata": {},
     "output_type": "execute_result"
    }
   ],
   "source": [
    "net2.evaluate(XX,yy)"
   ]
  },
  {
   "cell_type": "markdown",
   "id": "f1fa1893-f4d8-4071-b617-8d178ffef19b",
   "metadata": {},
   "source": [
    "## maxpoling"
   ]
  },
  {
   "cell_type": "markdown",
   "id": "0e3c3431-b725-4d02-a86a-300120bd342b",
   "metadata": {
    "tags": []
   },
   "source": [
    "#### 테스트1"
   ]
  },
  {
   "cell_type": "code",
   "execution_count": 59,
   "id": "8ce77b2d-b3e1-4d27-bec6-6803da44e0f4",
   "metadata": {},
   "outputs": [],
   "source": [
    "m = tf.keras.layers.MaxPooling2D()"
   ]
  },
  {
   "cell_type": "code",
   "execution_count": 62,
   "id": "74a00122-8d7d-4393-a229-04898ffa46b3",
   "metadata": {},
   "outputs": [
    {
     "data": {
      "text/plain": [
       "<tf.Tensor: shape=(1, 4, 4, 1), dtype=int64, numpy=\n",
       "array([[[[ 0],\n",
       "         [ 1],\n",
       "         [ 2],\n",
       "         [ 3]],\n",
       "\n",
       "        [[ 4],\n",
       "         [ 5],\n",
       "         [ 6],\n",
       "         [ 7]],\n",
       "\n",
       "        [[ 8],\n",
       "         [ 9],\n",
       "         [10],\n",
       "         [11]],\n",
       "\n",
       "        [[12],\n",
       "         [13],\n",
       "         [14],\n",
       "         [15]]]])>"
      ]
     },
     "execution_count": 62,
     "metadata": {},
     "output_type": "execute_result"
    }
   ],
   "source": [
    "XXX = tnp.arange(1*4*4*1).reshape(1,4,4,1)\n",
    "XXX # observation / color / channel"
   ]
  },
  {
   "cell_type": "code",
   "execution_count": 64,
   "id": "1aaffb44-b6cb-48ff-a9ee-9e7c15a9d737",
   "metadata": {},
   "outputs": [
    {
     "data": {
      "text/plain": [
       "<tf.Tensor: shape=(1, 2, 2), dtype=int64, numpy=\n",
       "array([[[ 5,  7],\n",
       "        [13, 15]]])>"
      ]
     },
     "execution_count": 64,
     "metadata": {},
     "output_type": "execute_result"
    }
   ],
   "source": [
    "m(XXX).reshape(1,2,2)"
   ]
  },
  {
   "cell_type": "markdown",
   "id": "d0cb5c5a-e562-41e4-b347-9c850d2b1ca0",
   "metadata": {},
   "source": [
    "여기로 가는 mapping을 찾아볼까"
   ]
  },
  {
   "cell_type": "code",
   "execution_count": 63,
   "id": "afe74f48-ebd0-45ff-aa75-dd7cfbd9d3ea",
   "metadata": {},
   "outputs": [
    {
     "data": {
      "text/plain": [
       "<tf.Tensor: shape=(1, 4, 4), dtype=int64, numpy=\n",
       "array([[[ 0,  1,  2,  3],\n",
       "        [ 4,  5,  6,  7],\n",
       "        [ 8,  9, 10, 11],\n",
       "        [12, 13, 14, 15]]])>"
      ]
     },
     "execution_count": 63,
     "metadata": {},
     "output_type": "execute_result"
    }
   ],
   "source": [
    "XXX.reshape(1,4,4) #우리가 생각하는 이미지의 모습"
   ]
  },
  {
   "cell_type": "markdown",
   "id": "3456b534-879f-4f73-82ce-c2b3bf573bd7",
   "metadata": {},
   "source": [
    "[0,1,4,5] 중 max는 5\n",
    "\n",
    "[2,3,6,7] 중 max는 7\n",
    "\n",
    "[8,9,12,13] 중 max는 13\n",
    "\n",
    "[10,11,14,15] 중 max는 15"
   ]
  },
  {
   "cell_type": "markdown",
   "id": "46e518de-fa2c-4c88-a623-7046350e28d2",
   "metadata": {},
   "source": [
    "`-` MaxPool2D layer의 역할: (2,2) 윈도우를 만들고 (2,2) 윈도우에서 max를 뽑아 값을 기록, 윈도우를 움직이면서 반복"
   ]
  },
  {
   "cell_type": "markdown",
   "id": "73b9e10f-04d5-4f6b-8d7d-e5f5204ab068",
   "metadata": {
    "tags": []
   },
   "source": [
    "#### 테스트2"
   ]
  },
  {
   "cell_type": "code",
   "execution_count": 65,
   "id": "df27dffc-db95-4b8b-b613-4deca422c383",
   "metadata": {},
   "outputs": [
    {
     "data": {
      "text/plain": [
       "<tf.Tensor: shape=(1, 6, 6), dtype=int64, numpy=\n",
       "array([[[ 0,  1,  2,  3,  4,  5],\n",
       "        [ 6,  7,  8,  9, 10, 11],\n",
       "        [12, 13, 14, 15, 16, 17],\n",
       "        [18, 19, 20, 21, 22, 23],\n",
       "        [24, 25, 26, 27, 28, 29],\n",
       "        [30, 31, 32, 33, 34, 35]]])>"
      ]
     },
     "execution_count": 65,
     "metadata": {},
     "output_type": "execute_result"
    }
   ],
   "source": [
    "XXX = tnp.arange(1*6*6*1).reshape(1,6,6,1)\n",
    "XXX.reshape(1,6,6) # 흑백 이미지라면 이렇게 보일 것"
   ]
  },
  {
   "cell_type": "code",
   "execution_count": 66,
   "id": "7f26f837-9209-4403-b80c-f39603824f7d",
   "metadata": {},
   "outputs": [
    {
     "data": {
      "text/plain": [
       "<tf.Tensor: shape=(1, 3, 3), dtype=int64, numpy=\n",
       "array([[[ 7,  9, 11],\n",
       "        [19, 21, 23],\n",
       "        [31, 33, 35]]])>"
      ]
     },
     "execution_count": 66,
     "metadata": {},
     "output_type": "execute_result"
    }
   ],
   "source": [
    "m(XXX).reshape(1,3,3)"
   ]
  },
  {
   "cell_type": "markdown",
   "id": "73c839f4-7030-4fe7-affd-41d791c52b8c",
   "metadata": {
    "tags": []
   },
   "source": [
    "#### 테스트3"
   ]
  },
  {
   "cell_type": "code",
   "execution_count": 71,
   "id": "ad5ad873-8ce0-4d7a-b61f-58242ec64629",
   "metadata": {
    "scrolled": true,
    "tags": []
   },
   "outputs": [
    {
     "data": {
      "text/plain": [
       "\u001b[0;31mInit signature:\u001b[0m\n",
       "\u001b[0mtf\u001b[0m\u001b[0;34m.\u001b[0m\u001b[0mkeras\u001b[0m\u001b[0;34m.\u001b[0m\u001b[0mlayers\u001b[0m\u001b[0;34m.\u001b[0m\u001b[0mMaxPooling2D\u001b[0m\u001b[0;34m(\u001b[0m\u001b[0;34m\u001b[0m\n",
       "\u001b[0;34m\u001b[0m    \u001b[0mpool_size\u001b[0m\u001b[0;34m=\u001b[0m\u001b[0;34m(\u001b[0m\u001b[0;36m2\u001b[0m\u001b[0;34m,\u001b[0m \u001b[0;36m2\u001b[0m\u001b[0;34m)\u001b[0m\u001b[0;34m,\u001b[0m\u001b[0;34m\u001b[0m\n",
       "\u001b[0;34m\u001b[0m    \u001b[0mstrides\u001b[0m\u001b[0;34m=\u001b[0m\u001b[0;32mNone\u001b[0m\u001b[0;34m,\u001b[0m\u001b[0;34m\u001b[0m\n",
       "\u001b[0;34m\u001b[0m    \u001b[0mpadding\u001b[0m\u001b[0;34m=\u001b[0m\u001b[0;34m'valid'\u001b[0m\u001b[0;34m,\u001b[0m\u001b[0;34m\u001b[0m\n",
       "\u001b[0;34m\u001b[0m    \u001b[0mdata_format\u001b[0m\u001b[0;34m=\u001b[0m\u001b[0;32mNone\u001b[0m\u001b[0;34m,\u001b[0m\u001b[0;34m\u001b[0m\n",
       "\u001b[0;34m\u001b[0m    \u001b[0;34m**\u001b[0m\u001b[0mkwargs\u001b[0m\u001b[0;34m,\u001b[0m\u001b[0;34m\u001b[0m\n",
       "\u001b[0;34m\u001b[0m\u001b[0;34m)\u001b[0m\u001b[0;34m\u001b[0m\u001b[0;34m\u001b[0m\u001b[0m\n",
       "\u001b[0;31mSource:\u001b[0m        \n",
       "\u001b[0;34m@\u001b[0m\u001b[0mkeras_export\u001b[0m\u001b[0;34m(\u001b[0m\u001b[0;34m'keras.layers.MaxPool2D'\u001b[0m\u001b[0;34m,\u001b[0m \u001b[0;34m'keras.layers.MaxPooling2D'\u001b[0m\u001b[0;34m)\u001b[0m\u001b[0;34m\u001b[0m\n",
       "\u001b[0;34m\u001b[0m\u001b[0;32mclass\u001b[0m \u001b[0mMaxPooling2D\u001b[0m\u001b[0;34m(\u001b[0m\u001b[0mPooling2D\u001b[0m\u001b[0;34m)\u001b[0m\u001b[0;34m:\u001b[0m\u001b[0;34m\u001b[0m\n",
       "\u001b[0;34m\u001b[0m  \u001b[0;34m\"\"\"Max pooling operation for 2D spatial data.\u001b[0m\n",
       "\u001b[0;34m\u001b[0m\n",
       "\u001b[0;34m  Downsamples the input along its spatial dimensions (height and width)\u001b[0m\n",
       "\u001b[0;34m  by taking the maximum value over an input window\u001b[0m\n",
       "\u001b[0;34m  (of size defined by `pool_size`) for each channel of the input.\u001b[0m\n",
       "\u001b[0;34m  The window is shifted by `strides` along each dimension.\u001b[0m\n",
       "\u001b[0;34m\u001b[0m\n",
       "\u001b[0;34m  The resulting output,\u001b[0m\n",
       "\u001b[0;34m  when using the `\"valid\"` padding option, has a spatial shape\u001b[0m\n",
       "\u001b[0;34m  (number of rows or columns) of:\u001b[0m\n",
       "\u001b[0;34m  `output_shape = math.floor((input_shape - pool_size) / strides) + 1`\u001b[0m\n",
       "\u001b[0;34m  (when `input_shape >= pool_size`)\u001b[0m\n",
       "\u001b[0;34m\u001b[0m\n",
       "\u001b[0;34m  The resulting output shape when using the `\"same\"` padding option is:\u001b[0m\n",
       "\u001b[0;34m  `output_shape = math.floor((input_shape - 1) / strides) + 1`\u001b[0m\n",
       "\u001b[0;34m\u001b[0m\n",
       "\u001b[0;34m  For example, for `strides=(1, 1)` and `padding=\"valid\"`:\u001b[0m\n",
       "\u001b[0;34m\u001b[0m\n",
       "\u001b[0;34m  >>> x = tf.constant([[1., 2., 3.],\u001b[0m\n",
       "\u001b[0;34m  ...                  [4., 5., 6.],\u001b[0m\n",
       "\u001b[0;34m  ...                  [7., 8., 9.]])\u001b[0m\n",
       "\u001b[0;34m  >>> x = tf.reshape(x, [1, 3, 3, 1])\u001b[0m\n",
       "\u001b[0;34m  >>> max_pool_2d = tf.keras.layers.MaxPooling2D(pool_size=(2, 2),\u001b[0m\n",
       "\u001b[0;34m  ...    strides=(1, 1), padding='valid')\u001b[0m\n",
       "\u001b[0;34m  >>> max_pool_2d(x)\u001b[0m\n",
       "\u001b[0;34m  <tf.Tensor: shape=(1, 2, 2, 1), dtype=float32, numpy=\u001b[0m\n",
       "\u001b[0;34m    array([[[[5.],\u001b[0m\n",
       "\u001b[0;34m             [6.]],\u001b[0m\n",
       "\u001b[0;34m            [[8.],\u001b[0m\n",
       "\u001b[0;34m             [9.]]]], dtype=float32)>\u001b[0m\n",
       "\u001b[0;34m\u001b[0m\n",
       "\u001b[0;34m  For example, for `strides=(2, 2)` and `padding=\"valid\"`:\u001b[0m\n",
       "\u001b[0;34m\u001b[0m\n",
       "\u001b[0;34m  >>> x = tf.constant([[1., 2., 3., 4.],\u001b[0m\n",
       "\u001b[0;34m  ...                  [5., 6., 7., 8.],\u001b[0m\n",
       "\u001b[0;34m  ...                  [9., 10., 11., 12.]])\u001b[0m\n",
       "\u001b[0;34m  >>> x = tf.reshape(x, [1, 3, 4, 1])\u001b[0m\n",
       "\u001b[0;34m  >>> max_pool_2d = tf.keras.layers.MaxPooling2D(pool_size=(2, 2),\u001b[0m\n",
       "\u001b[0;34m  ...    strides=(2, 2), padding='valid')\u001b[0m\n",
       "\u001b[0;34m  >>> max_pool_2d(x)\u001b[0m\n",
       "\u001b[0;34m  <tf.Tensor: shape=(1, 1, 2, 1), dtype=float32, numpy=\u001b[0m\n",
       "\u001b[0;34m    array([[[[6.],\u001b[0m\n",
       "\u001b[0;34m             [8.]]]], dtype=float32)>\u001b[0m\n",
       "\u001b[0;34m\u001b[0m\n",
       "\u001b[0;34m  Usage Example:\u001b[0m\n",
       "\u001b[0;34m\u001b[0m\n",
       "\u001b[0;34m  >>> input_image = tf.constant([[[[1.], [1.], [2.], [4.]],\u001b[0m\n",
       "\u001b[0;34m  ...                            [[2.], [2.], [3.], [2.]],\u001b[0m\n",
       "\u001b[0;34m  ...                            [[4.], [1.], [1.], [1.]],\u001b[0m\n",
       "\u001b[0;34m  ...                            [[2.], [2.], [1.], [4.]]]])\u001b[0m\n",
       "\u001b[0;34m  >>> output = tf.constant([[[[1], [0]],\u001b[0m\n",
       "\u001b[0;34m  ...                       [[0], [1]]]])\u001b[0m\n",
       "\u001b[0;34m  >>> model = tf.keras.models.Sequential()\u001b[0m\n",
       "\u001b[0;34m  >>> model.add(tf.keras.layers.MaxPooling2D(pool_size=(2, 2),\u001b[0m\n",
       "\u001b[0;34m  ...    input_shape=(4, 4, 1)))\u001b[0m\n",
       "\u001b[0;34m  >>> model.compile('adam', 'mean_squared_error')\u001b[0m\n",
       "\u001b[0;34m  >>> model.predict(input_image, steps=1)\u001b[0m\n",
       "\u001b[0;34m  array([[[[2.],\u001b[0m\n",
       "\u001b[0;34m           [4.]],\u001b[0m\n",
       "\u001b[0;34m          [[4.],\u001b[0m\n",
       "\u001b[0;34m           [4.]]]], dtype=float32)\u001b[0m\n",
       "\u001b[0;34m\u001b[0m\n",
       "\u001b[0;34m  For example, for stride=(1, 1) and padding=\"same\":\u001b[0m\n",
       "\u001b[0;34m\u001b[0m\n",
       "\u001b[0;34m  >>> x = tf.constant([[1., 2., 3.],\u001b[0m\n",
       "\u001b[0;34m  ...                  [4., 5., 6.],\u001b[0m\n",
       "\u001b[0;34m  ...                  [7., 8., 9.]])\u001b[0m\n",
       "\u001b[0;34m  >>> x = tf.reshape(x, [1, 3, 3, 1])\u001b[0m\n",
       "\u001b[0;34m  >>> max_pool_2d = tf.keras.layers.MaxPooling2D(pool_size=(2, 2),\u001b[0m\n",
       "\u001b[0;34m  ...    strides=(1, 1), padding='same')\u001b[0m\n",
       "\u001b[0;34m  >>> max_pool_2d(x)\u001b[0m\n",
       "\u001b[0;34m  <tf.Tensor: shape=(1, 3, 3, 1), dtype=float32, numpy=\u001b[0m\n",
       "\u001b[0;34m    array([[[[5.],\u001b[0m\n",
       "\u001b[0;34m             [6.],\u001b[0m\n",
       "\u001b[0;34m             [6.]],\u001b[0m\n",
       "\u001b[0;34m            [[8.],\u001b[0m\n",
       "\u001b[0;34m             [9.],\u001b[0m\n",
       "\u001b[0;34m             [9.]],\u001b[0m\n",
       "\u001b[0;34m            [[8.],\u001b[0m\n",
       "\u001b[0;34m             [9.],\u001b[0m\n",
       "\u001b[0;34m             [9.]]]], dtype=float32)>\u001b[0m\n",
       "\u001b[0;34m\u001b[0m\n",
       "\u001b[0;34m  Args:\u001b[0m\n",
       "\u001b[0;34m    pool_size: integer or tuple of 2 integers,\u001b[0m\n",
       "\u001b[0;34m      window size over which to take the maximum.\u001b[0m\n",
       "\u001b[0;34m      `(2, 2)` will take the max value over a 2x2 pooling window.\u001b[0m\n",
       "\u001b[0;34m      If only one integer is specified, the same window length\u001b[0m\n",
       "\u001b[0;34m      will be used for both dimensions.\u001b[0m\n",
       "\u001b[0;34m    strides: Integer, tuple of 2 integers, or None.\u001b[0m\n",
       "\u001b[0;34m      Strides values.  Specifies how far the pooling window moves\u001b[0m\n",
       "\u001b[0;34m      for each pooling step. If None, it will default to `pool_size`.\u001b[0m\n",
       "\u001b[0;34m    padding: One of `\"valid\"` or `\"same\"` (case-insensitive).\u001b[0m\n",
       "\u001b[0;34m      `\"valid\"` means no padding. `\"same\"` results in padding evenly to\u001b[0m\n",
       "\u001b[0;34m      the left/right or up/down of the input such that output has the same\u001b[0m\n",
       "\u001b[0;34m      height/width dimension as the input.\u001b[0m\n",
       "\u001b[0;34m    data_format: A string,\u001b[0m\n",
       "\u001b[0;34m      one of `channels_last` (default) or `channels_first`.\u001b[0m\n",
       "\u001b[0;34m      The ordering of the dimensions in the inputs.\u001b[0m\n",
       "\u001b[0;34m      `channels_last` corresponds to inputs with shape\u001b[0m\n",
       "\u001b[0;34m      `(batch, height, width, channels)` while `channels_first`\u001b[0m\n",
       "\u001b[0;34m      corresponds to inputs with shape\u001b[0m\n",
       "\u001b[0;34m      `(batch, channels, height, width)`.\u001b[0m\n",
       "\u001b[0;34m      It defaults to the `image_data_format` value found in your\u001b[0m\n",
       "\u001b[0;34m      Keras config file at `~/.keras/keras.json`.\u001b[0m\n",
       "\u001b[0;34m      If you never set it, then it will be \"channels_last\".\u001b[0m\n",
       "\u001b[0;34m\u001b[0m\n",
       "\u001b[0;34m  Input shape:\u001b[0m\n",
       "\u001b[0;34m    - If `data_format='channels_last'`:\u001b[0m\n",
       "\u001b[0;34m      4D tensor with shape `(batch_size, rows, cols, channels)`.\u001b[0m\n",
       "\u001b[0;34m    - If `data_format='channels_first'`:\u001b[0m\n",
       "\u001b[0;34m      4D tensor with shape `(batch_size, channels, rows, cols)`.\u001b[0m\n",
       "\u001b[0;34m\u001b[0m\n",
       "\u001b[0;34m  Output shape:\u001b[0m\n",
       "\u001b[0;34m    - If `data_format='channels_last'`:\u001b[0m\n",
       "\u001b[0;34m      4D tensor with shape `(batch_size, pooled_rows, pooled_cols, channels)`.\u001b[0m\n",
       "\u001b[0;34m    - If `data_format='channels_first'`:\u001b[0m\n",
       "\u001b[0;34m      4D tensor with shape `(batch_size, channels, pooled_rows, pooled_cols)`.\u001b[0m\n",
       "\u001b[0;34m\u001b[0m\n",
       "\u001b[0;34m  Returns:\u001b[0m\n",
       "\u001b[0;34m    A tensor of rank 4 representing the maximum pooled values.  See above for\u001b[0m\n",
       "\u001b[0;34m    output shape.\u001b[0m\n",
       "\u001b[0;34m  \"\"\"\u001b[0m\u001b[0;34m\u001b[0m\n",
       "\u001b[0;34m\u001b[0m\u001b[0;34m\u001b[0m\n",
       "\u001b[0;34m\u001b[0m  \u001b[0;32mdef\u001b[0m \u001b[0m__init__\u001b[0m\u001b[0;34m(\u001b[0m\u001b[0mself\u001b[0m\u001b[0;34m,\u001b[0m\u001b[0;34m\u001b[0m\n",
       "\u001b[0;34m\u001b[0m               \u001b[0mpool_size\u001b[0m\u001b[0;34m=\u001b[0m\u001b[0;34m(\u001b[0m\u001b[0;36m2\u001b[0m\u001b[0;34m,\u001b[0m \u001b[0;36m2\u001b[0m\u001b[0;34m)\u001b[0m\u001b[0;34m,\u001b[0m\u001b[0;34m\u001b[0m\n",
       "\u001b[0;34m\u001b[0m               \u001b[0mstrides\u001b[0m\u001b[0;34m=\u001b[0m\u001b[0;32mNone\u001b[0m\u001b[0;34m,\u001b[0m\u001b[0;34m\u001b[0m\n",
       "\u001b[0;34m\u001b[0m               \u001b[0mpadding\u001b[0m\u001b[0;34m=\u001b[0m\u001b[0;34m'valid'\u001b[0m\u001b[0;34m,\u001b[0m\u001b[0;34m\u001b[0m\n",
       "\u001b[0;34m\u001b[0m               \u001b[0mdata_format\u001b[0m\u001b[0;34m=\u001b[0m\u001b[0;32mNone\u001b[0m\u001b[0;34m,\u001b[0m\u001b[0;34m\u001b[0m\n",
       "\u001b[0;34m\u001b[0m               \u001b[0;34m**\u001b[0m\u001b[0mkwargs\u001b[0m\u001b[0;34m)\u001b[0m\u001b[0;34m:\u001b[0m\u001b[0;34m\u001b[0m\n",
       "\u001b[0;34m\u001b[0m    \u001b[0msuper\u001b[0m\u001b[0;34m(\u001b[0m\u001b[0mMaxPooling2D\u001b[0m\u001b[0;34m,\u001b[0m \u001b[0mself\u001b[0m\u001b[0;34m)\u001b[0m\u001b[0;34m.\u001b[0m\u001b[0m__init__\u001b[0m\u001b[0;34m(\u001b[0m\u001b[0;34m\u001b[0m\n",
       "\u001b[0;34m\u001b[0m        \u001b[0mtf\u001b[0m\u001b[0;34m.\u001b[0m\u001b[0mcompat\u001b[0m\u001b[0;34m.\u001b[0m\u001b[0mv1\u001b[0m\u001b[0;34m.\u001b[0m\u001b[0mnn\u001b[0m\u001b[0;34m.\u001b[0m\u001b[0mmax_pool\u001b[0m\u001b[0;34m,\u001b[0m\u001b[0;34m\u001b[0m\n",
       "\u001b[0;34m\u001b[0m        \u001b[0mpool_size\u001b[0m\u001b[0;34m=\u001b[0m\u001b[0mpool_size\u001b[0m\u001b[0;34m,\u001b[0m \u001b[0mstrides\u001b[0m\u001b[0;34m=\u001b[0m\u001b[0mstrides\u001b[0m\u001b[0;34m,\u001b[0m\u001b[0;34m\u001b[0m\n",
       "\u001b[0;34m\u001b[0m        \u001b[0mpadding\u001b[0m\u001b[0;34m=\u001b[0m\u001b[0mpadding\u001b[0m\u001b[0;34m,\u001b[0m \u001b[0mdata_format\u001b[0m\u001b[0;34m=\u001b[0m\u001b[0mdata_format\u001b[0m\u001b[0;34m,\u001b[0m \u001b[0;34m**\u001b[0m\u001b[0mkwargs\u001b[0m\u001b[0;34m)\u001b[0m\u001b[0;34m\u001b[0m\u001b[0;34m\u001b[0m\u001b[0m\n",
       "\u001b[0;31mFile:\u001b[0m           ~/anaconda3/envs/stbda2022/lib/python3.10/site-packages/keras/layers/pooling.py\n",
       "\u001b[0;31mType:\u001b[0m           type\n",
       "\u001b[0;31mSubclasses:\u001b[0m     MaxPooling2D\n"
      ]
     },
     "metadata": {},
     "output_type": "display_data"
    }
   ],
   "source": [
    "#collapse_output\n",
    "tf.keras.layers.MaxPooling2D??"
   ]
  },
  {
   "cell_type": "code",
   "execution_count": 72,
   "id": "87b5c3e2-24bf-4ebb-b5e5-947779714df9",
   "metadata": {},
   "outputs": [],
   "source": [
    "m = tf.keras.layers.MaxPooling2D(pool_size=(3,3))"
   ]
  },
  {
   "cell_type": "code",
   "execution_count": 73,
   "id": "85ec82f9-db0e-4fa9-bd6e-f9134b331d59",
   "metadata": {},
   "outputs": [
    {
     "data": {
      "text/plain": [
       "<tf.Tensor: shape=(1, 6, 6), dtype=int64, numpy=\n",
       "array([[[ 0,  1,  2,  3,  4,  5],\n",
       "        [ 6,  7,  8,  9, 10, 11],\n",
       "        [12, 13, 14, 15, 16, 17],\n",
       "        [18, 19, 20, 21, 22, 23],\n",
       "        [24, 25, 26, 27, 28, 29],\n",
       "        [30, 31, 32, 33, 34, 35]]])>"
      ]
     },
     "execution_count": 73,
     "metadata": {},
     "output_type": "execute_result"
    }
   ],
   "source": [
    "XXX = tnp.arange(1*6*6*1).reshape(1,6,6,1)\n",
    "XXX.reshape(1,6,6) # 흑백 이미지라면 이렇게 보일 것"
   ]
  },
  {
   "cell_type": "code",
   "execution_count": 74,
   "id": "e1ff54f1-d02e-43ec-80c7-fcc1e5f95bf3",
   "metadata": {},
   "outputs": [
    {
     "data": {
      "text/plain": [
       "<tf.Tensor: shape=(1, 2, 2), dtype=int64, numpy=\n",
       "array([[[14, 17],\n",
       "        [32, 35]]])>"
      ]
     },
     "execution_count": 74,
     "metadata": {},
     "output_type": "execute_result"
    }
   ],
   "source": [
    "m(XXX).reshape(1,2,2)"
   ]
  },
  {
   "cell_type": "markdown",
   "id": "3c4d0f40-c027-4513-a905-b28843bf2b5f",
   "metadata": {
    "tags": []
   },
   "source": [
    "#### 테스트4"
   ]
  },
  {
   "cell_type": "code",
   "execution_count": 77,
   "id": "692f8ae4-6938-4d36-9dfa-45d9cf4402d1",
   "metadata": {},
   "outputs": [],
   "source": [
    "m = tf.keras.layers.MaxPooling2D(pool_size=(2,2))"
   ]
  },
  {
   "cell_type": "code",
   "execution_count": 78,
   "id": "c516a524-6ad6-4959-a904-2cbdad5d952c",
   "metadata": {},
   "outputs": [
    {
     "data": {
      "text/plain": [
       "<tf.Tensor: shape=(1, 5, 5), dtype=int64, numpy=\n",
       "array([[[ 0,  1,  2,  3,  4],\n",
       "        [ 5,  6,  7,  8,  9],\n",
       "        [10, 11, 12, 13, 14],\n",
       "        [15, 16, 17, 18, 19],\n",
       "        [20, 21, 22, 23, 24]]])>"
      ]
     },
     "execution_count": 78,
     "metadata": {},
     "output_type": "execute_result"
    }
   ],
   "source": [
    "XXX = tnp.arange(1*5*5*1).reshape(1,5,5,1)\n",
    "XXX.reshape(1,5,5) # 흑백 이미지라면 이렇게 보일 것"
   ]
  },
  {
   "cell_type": "code",
   "execution_count": 79,
   "id": "e232c62a-ab27-46ba-89f1-58ae75111ae4",
   "metadata": {},
   "outputs": [
    {
     "data": {
      "text/plain": [
       "<tf.Tensor: shape=(1, 2, 2), dtype=int64, numpy=\n",
       "array([[[ 6,  8],\n",
       "        [16, 18]]])>"
      ]
     },
     "execution_count": 79,
     "metadata": {},
     "output_type": "execute_result"
    }
   ],
   "source": [
    "m(XXX).reshape(1,2,2)"
   ]
  },
  {
   "cell_type": "markdown",
   "id": "e6d8bbf9-d033-4076-b2c4-9b4d41e5620e",
   "metadata": {},
   "source": [
    "애매한 열/행 수를 넣어주니 마지막 열/행은 버려버리네!\n",
    "- 차원이 안 맞으면 버려버림( 기본 옵션)"
   ]
  },
  {
   "cell_type": "code",
   "execution_count": 83,
   "id": "3c13b7fa-3e66-44ff-9b75-c0bc10793f7c",
   "metadata": {},
   "outputs": [],
   "source": [
    "m = tf.keras.layers.MaxPooling2D(pool_size=(2,2),padding='same')"
   ]
  },
  {
   "cell_type": "code",
   "execution_count": 84,
   "id": "9060afac-e32c-4cb8-b7b3-e411fe8410d2",
   "metadata": {},
   "outputs": [
    {
     "data": {
      "text/plain": [
       "<tf.Tensor: shape=(1, 5, 5), dtype=int64, numpy=\n",
       "array([[[ 0,  1,  2,  3,  4],\n",
       "        [ 5,  6,  7,  8,  9],\n",
       "        [10, 11, 12, 13, 14],\n",
       "        [15, 16, 17, 18, 19],\n",
       "        [20, 21, 22, 23, 24]]])>"
      ]
     },
     "execution_count": 84,
     "metadata": {},
     "output_type": "execute_result"
    }
   ],
   "source": [
    "XXX = tnp.arange(1*5*5*1).reshape(1,5,5,1)\n",
    "XXX.reshape(1,5,5) # 흑백 이미지라면 이렇게 보일 것"
   ]
  },
  {
   "cell_type": "code",
   "execution_count": 86,
   "id": "28a56094-3163-4d4d-a76f-84077352643a",
   "metadata": {},
   "outputs": [
    {
     "data": {
      "text/plain": [
       "<tf.Tensor: shape=(1, 3, 3), dtype=int64, numpy=\n",
       "array([[[ 6,  8,  9],\n",
       "        [16, 18, 19],\n",
       "        [21, 23, 24]]])>"
      ]
     },
     "execution_count": 86,
     "metadata": {},
     "output_type": "execute_result"
    }
   ],
   "source": [
    "m(XXX).reshape(1,3,3)"
   ]
  },
  {
   "cell_type": "markdown",
   "id": "03ca9ad0-b331-4c44-8c3c-7a0d8529deb0",
   "metadata": {},
   "source": [
    "`padding =\"same\"` 옵션을 넣어주니 차원을 버리지 않고 다 사용하네?\n",
    "- 균형을 맞춰 구하진 않음\n",
    "- 24의 경우 24 하나의 값 중에서 큰 값인 24를 택한 것."
   ]
  },
  {
   "cell_type": "markdown",
   "id": "9ae8fa0f-649f-4929-9dfa-a331d80b623e",
   "metadata": {
    "tags": []
   },
   "source": [
    "#### 테스트5"
   ]
  },
  {
   "cell_type": "code",
   "execution_count": 87,
   "id": "9ae1a1d4-aec5-4205-9679-edfe685f3112",
   "metadata": {},
   "outputs": [
    {
     "data": {
      "text/plain": [
       "<tf.Tensor: shape=(2, 4, 4), dtype=int64, numpy=\n",
       "array([[[ 0,  1,  2,  3],\n",
       "        [ 4,  5,  6,  7],\n",
       "        [ 8,  9, 10, 11],\n",
       "        [12, 13, 14, 15]],\n",
       "\n",
       "       [[16, 17, 18, 19],\n",
       "        [20, 21, 22, 23],\n",
       "        [24, 25, 26, 27],\n",
       "        [28, 29, 30, 31]]])>"
      ]
     },
     "execution_count": 87,
     "metadata": {},
     "output_type": "execute_result"
    }
   ],
   "source": [
    "XXX = tnp.arange(2*4*4*1).reshape(2,4,4,1)\n",
    "XXX.reshape(2,4,4)"
   ]
  },
  {
   "cell_type": "code",
   "execution_count": 88,
   "id": "94b430ab-5f87-4714-8403-a7ab11c9f5a5",
   "metadata": {},
   "outputs": [
    {
     "data": {
      "text/plain": [
       "<tf.Tensor: shape=(2, 2, 2), dtype=int64, numpy=\n",
       "array([[[ 5,  7],\n",
       "        [13, 15]],\n",
       "\n",
       "       [[21, 23],\n",
       "        [29, 31]]])>"
      ]
     },
     "execution_count": 88,
     "metadata": {},
     "output_type": "execute_result"
    }
   ],
   "source": [
    "m(XXX).reshape(2,2,2)"
   ]
  },
  {
   "cell_type": "markdown",
   "id": "a0e6806d-cd98-487e-baba-b91f24f15b6d",
   "metadata": {
    "tags": []
   },
   "source": [
    "#### 테스트5"
   ]
  },
  {
   "cell_type": "code",
   "execution_count": 89,
   "id": "2ee042b4-2088-457b-82ed-8c62e20b2f7b",
   "metadata": {},
   "outputs": [],
   "source": [
    "XXX = tnp.arange(1*4*4*3).reshape(1,4,4,3) # observation 1 channel 3으로 고정"
   ]
  },
  {
   "cell_type": "code",
   "execution_count": 92,
   "id": "20b2d21a-1cad-49cb-a315-6787b7f6ce62",
   "metadata": {},
   "outputs": [
    {
     "data": {
      "text/plain": [
       "<tf.Tensor: shape=(1, 4, 4), dtype=int64, numpy=\n",
       "array([[[ 0,  3,  6,  9],\n",
       "        [12, 15, 18, 21],\n",
       "        [24, 27, 30, 33],\n",
       "        [36, 39, 42, 45]]])>"
      ]
     },
     "execution_count": 92,
     "metadata": {},
     "output_type": "execute_result"
    }
   ],
   "source": [
    "XXX[:,:,:,0]"
   ]
  },
  {
   "cell_type": "markdown",
   "id": "54c92109-b350-4403-9146-8a39e24c9da3",
   "metadata": {},
   "source": [
    "위 아래 같은 결과..! 생략구문이라 부른다."
   ]
  },
  {
   "cell_type": "code",
   "execution_count": 93,
   "id": "a730cd20-c029-4e99-9fe7-c447532fb122",
   "metadata": {},
   "outputs": [
    {
     "data": {
      "text/plain": [
       "<tf.Tensor: shape=(1, 4, 4), dtype=int64, numpy=\n",
       "array([[[ 0,  3,  6,  9],\n",
       "        [12, 15, 18, 21],\n",
       "        [24, 27, 30, 33],\n",
       "        [36, 39, 42, 45]]])>"
      ]
     },
     "execution_count": 93,
     "metadata": {},
     "output_type": "execute_result"
    }
   ],
   "source": [
    "XXX[...,0]"
   ]
  },
  {
   "cell_type": "code",
   "execution_count": 91,
   "id": "b2e03868-ea12-4804-af97-a4fdb45f1ca6",
   "metadata": {},
   "outputs": [
    {
     "data": {
      "text/plain": [
       "<tf.Tensor: shape=(1, 2, 2), dtype=int64, numpy=\n",
       "array([[[15, 21],\n",
       "        [39, 45]]])>"
      ]
     },
     "execution_count": 91,
     "metadata": {},
     "output_type": "execute_result"
    }
   ],
   "source": [
    "m(XXX)[:,:,:,0]"
   ]
  },
  {
   "cell_type": "code",
   "execution_count": 94,
   "id": "de3ab18a-6f0e-4fa4-93ca-c418394ee326",
   "metadata": {},
   "outputs": [
    {
     "data": {
      "text/plain": [
       "<tf.Tensor: shape=(1, 2, 2), dtype=int64, numpy=\n",
       "array([[[15, 21],\n",
       "        [39, 45]]])>"
      ]
     },
     "execution_count": 94,
     "metadata": {},
     "output_type": "execute_result"
    }
   ],
   "source": [
    "m(XXX)[...,0]"
   ]
  },
  {
   "cell_type": "code",
   "execution_count": null,
   "id": "9a01c200-a7dc-4207-b44c-bc3b66cfec24",
   "metadata": {},
   "outputs": [],
   "source": []
  }
 ],
 "metadata": {
  "kernelspec": {
   "display_name": "Python 3 (ipykernel)",
   "language": "python",
   "name": "python3"
  },
  "language_info": {
   "codemirror_mode": {
    "name": "ipython",
    "version": 3
   },
   "file_extension": ".py",
   "mimetype": "text/x-python",
   "name": "python",
   "nbconvert_exporter": "python",
   "pygments_lexer": "ipython3",
   "version": "3.10.0"
  }
 },
 "nbformat": 4,
 "nbformat_minor": 5
}
