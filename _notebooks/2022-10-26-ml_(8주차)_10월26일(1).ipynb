{
 "cells": [
  {
   "cell_type": "markdown",
   "id": "28bbb5eb-669d-4ce5-8214-e9a582edc22c",
   "metadata": {
    "tags": []
   },
   "source": [
    "# 기계학습 특강 (8주차) 10월26일--(1)\n",
    "> 이미지자료분석 - CNN 다중클래스 분류, fastai metric 사용 \n",
    "\n",
    "- toc:true\n",
    "- branch: master\n",
    "- badges: true\n",
    "- comments: false\n",
    "- author: 최서연\n",
    "- categories: [Special Topics in Machine Learning, 이미지자료분석, CNN 다중클래스분류, fastai metric]"
   ]
  },
  {
   "cell_type": "markdown",
   "id": "21027106-77ab-4c50-8fce-215942d5f32b",
   "metadata": {
    "id": "21027106-77ab-4c50-8fce-215942d5f32b"
   },
   "source": [
    "## imports "
   ]
  },
  {
   "cell_type": "code",
   "execution_count": 1,
   "id": "2bcc3320-8bfa-4696-b964-b348d83bd325",
   "metadata": {
    "id": "2bcc3320-8bfa-4696-b964-b348d83bd325"
   },
   "outputs": [],
   "source": [
    "import torch \n",
    "import torchvision\n",
    "import numpy as np\n",
    "from fastai.vision.all import * "
   ]
  },
  {
   "cell_type": "code",
   "execution_count": 2,
   "id": "a8c4db6d-99af-41bc-8f25-26dc24ba825d",
   "metadata": {
    "id": "a8c4db6d-99af-41bc-8f25-26dc24ba825d"
   },
   "outputs": [],
   "source": [
    "import graphviz\n",
    "def gv(s): return graphviz.Source('digraph G{ rankdir=\"LR\"'+s + '; }');"
   ]
  },
  {
   "cell_type": "code",
   "execution_count": 3,
   "id": "1f5e1460-f01d-4dd3-82f5-98af639a3dbc",
   "metadata": {
    "id": "1f5e1460-f01d-4dd3-82f5-98af639a3dbc",
    "outputId": "17f7d33d-23ec-44e0-d141-187b72972dad"
   },
   "outputs": [
    {
     "data": {
      "text/plain": [
       "'svg'"
      ]
     },
     "execution_count": 3,
     "metadata": {},
     "output_type": "execute_result"
    }
   ],
   "source": [
    "#hide\n",
    "graphviz.set_jupyter_format('png')"
   ]
  },
  {
   "cell_type": "markdown",
   "id": "fff5054c-f124-4685-915c-d84b54e33a77",
   "metadata": {
    "id": "fff5054c-f124-4685-915c-d84b54e33a77"
   },
   "source": [
    "## CNN 다중클래스 분류"
   ]
  },
  {
   "cell_type": "markdown",
   "id": "70081d6b-b8d4-4dad-bd9a-6cd2d9ed2a96",
   "metadata": {
    "id": "70081d6b-b8d4-4dad-bd9a-6cd2d9ed2a96"
   },
   "source": [
    "### 결론 (그냥 외우세요)"
   ]
  },
  {
   "cell_type": "markdown",
   "id": "3061c859-a39c-4f34-b05e-90618e5bdf79",
   "metadata": {
    "id": "3061c859-a39c-4f34-b05e-90618e5bdf79"
   },
   "source": [
    "`-` 2개의 class를 구분하는 문제가 아니라 $k$개의 class를 구분해야 한다면? \n",
    "\n",
    "***일반적인 개념*** \n",
    "\n",
    "- 손실함수: BCE loss $\\to$ Cross Entropy loss \n",
    "- 마지막층의 선형변환: torch.nn.Linear(?,1) $\\to$ torch.nn.Linear(?,k) \n",
    "- 마지막층의 활성화: sig $\\to$ softmax \n",
    "\n",
    "***파이토치 한정*** \n",
    "- **y의형태: (n,) vector + int형 // (n,k) one-hot encoded vector + float형**\n",
    "- 손실함수: torch.nn.BCEWithLogitsLoss,  $\\to$ torch.nn.CrossEntropyLoss\n",
    "- 마지막층의 선형변환: torch.nn.Linear(?,1) $\\to$ torch.nn.Linear(?,k) \n",
    "- 마지막층의 활성화: None $\\to$ None (손실함수에 이미 마지막층의 활성화가 포함) "
   ]
  },
  {
   "cell_type": "markdown",
   "id": "9192f045-7f8a-4e01-9487-bc7b047344c3",
   "metadata": {
    "id": "9192f045-7f8a-4e01-9487-bc7b047344c3"
   },
   "source": [
    "### 실습: 3개의 클래스를 구분 "
   ]
  },
  {
   "cell_type": "code",
   "execution_count": 4,
   "id": "5d9d64c1-44d5-4033-8027-5f7674b503a6",
   "metadata": {
    "id": "5d9d64c1-44d5-4033-8027-5f7674b503a6"
   },
   "outputs": [],
   "source": [
    "path = untar_data(URLs.MNIST)"
   ]
  },
  {
   "cell_type": "markdown",
   "id": "8b79a52e-de05-41e1-aa53-caabb55a0bcd",
   "metadata": {
    "id": "8b79a52e-de05-41e1-aa53-caabb55a0bcd"
   },
   "source": [
    "training set "
   ]
  },
  {
   "cell_type": "code",
   "execution_count": 5,
   "id": "9075cc8f-75e9-40d7-92ac-fe2b81e17fc4",
   "metadata": {
    "id": "9075cc8f-75e9-40d7-92ac-fe2b81e17fc4"
   },
   "outputs": [],
   "source": [
    "X0 = torch.stack([torchvision.io.read_image(str(fname)) for fname in (path/'training/0').ls()])\n",
    "X1 = torch.stack([torchvision.io.read_image(str(fname)) for fname in (path/'training/1').ls()])\n",
    "X2 = torch.stack([torchvision.io.read_image(str(fname)) for fname in (path/'training/2').ls()])\n",
    "X = torch.concat([X0,X1,X2])/255\n",
    "y = torch.tensor([0]*len(X0) + [1]*len(X1)+ [2]*len(X2))#.reshape(-1,1)"
   ]
  },
  {
   "cell_type": "markdown",
   "id": "db081054-ca70-445e-bcfe-15f3270cc1ff",
   "metadata": {},
   "source": [
    "**다중일때 int가 아닌float으로서 y를 정의해준 모습**"
   ]
  },
  {
   "cell_type": "markdown",
   "id": "9cd3a56f-0e2d-4b20-9263-8ed23cb4cf85",
   "metadata": {
    "id": "9cd3a56f-0e2d-4b20-9263-8ed23cb4cf85"
   },
   "source": [
    "test set "
   ]
  },
  {
   "cell_type": "code",
   "execution_count": 6,
   "id": "1c1c704d-192b-4e2a-be27-76a6f47785e1",
   "metadata": {
    "id": "1c1c704d-192b-4e2a-be27-76a6f47785e1"
   },
   "outputs": [],
   "source": [
    "X0 = torch.stack([torchvision.io.read_image(str(fname)) for fname in (path/'testing/0').ls()])\n",
    "X1 = torch.stack([torchvision.io.read_image(str(fname)) for fname in (path/'testing/1').ls()])\n",
    "X2 = torch.stack([torchvision.io.read_image(str(fname)) for fname in (path/'testing/2').ls()])\n",
    "XX = torch.concat([X0,X1,X2])/255\n",
    "yy = torch.tensor([0]*len(X0) + [1]*len(X1)+ [2]*len(X2))#.reshape(-1,1)"
   ]
  },
  {
   "cell_type": "markdown",
   "id": "ad96d2c9-fde8-4f9b-8b06-a35341af775c",
   "metadata": {
    "id": "ad96d2c9-fde8-4f9b-8b06-a35341af775c"
   },
   "source": [
    "(1) dls "
   ]
  },
  {
   "cell_type": "code",
   "execution_count": 9,
   "id": "fb8607d3-cbb2-4a65-8348-f1fce0515afc",
   "metadata": {
    "id": "fb8607d3-cbb2-4a65-8348-f1fce0515afc",
    "outputId": "ad03d0a5-1658-46e3-bf52-591bfb8108db"
   },
   "outputs": [
    {
     "data": {
      "text/plain": [
       "18623"
      ]
     },
     "execution_count": 9,
     "metadata": {},
     "output_type": "execute_result"
    }
   ],
   "source": [
    "len(X)"
   ]
  },
  {
   "cell_type": "code",
   "execution_count": 10,
   "id": "59b1004a-ca4b-41c5-93c6-53965e81f26c",
   "metadata": {
    "id": "59b1004a-ca4b-41c5-93c6-53965e81f26c"
   },
   "outputs": [],
   "source": [
    "ds1 = torch.utils.data.TensorDataset(X,y) \n",
    "ds2 = torch.utils.data.TensorDataset(XX,yy) \n",
    "dl1 = torch.utils.data.DataLoader(ds1,batch_size=1862) # 에폭당 11번 iter\n",
    "dl2 = torch.utils.data.DataLoader(ds2,batch_size=3147) # \n",
    "dls = DataLoaders(dl1,dl2) "
   ]
  },
  {
   "cell_type": "markdown",
   "id": "f8d0f683-052a-4fd9-85b9-1635c1c97832",
   "metadata": {
    "id": "f8d0f683-052a-4fd9-85b9-1635c1c97832"
   },
   "source": [
    "(2) lrnr "
   ]
  },
  {
   "cell_type": "code",
   "execution_count": 14,
   "id": "8a06cf51-7057-4be3-89be-26cea6ecb3f2",
   "metadata": {
    "id": "8a06cf51-7057-4be3-89be-26cea6ecb3f2"
   },
   "outputs": [],
   "source": [
    "net1 = torch.nn.Sequential(\n",
    "    torch.nn.Conv2d(1,16,(5,5)),\n",
    "    torch.nn.ReLU(),\n",
    "    torch.nn.MaxPool2d((2,2)),\n",
    "    torch.nn.Flatten()\n",
    ")"
   ]
  },
  {
   "cell_type": "code",
   "execution_count": 15,
   "id": "5a1cb5f3-2f9c-407e-96c4-b6e0cef07abc",
   "metadata": {
    "id": "5a1cb5f3-2f9c-407e-96c4-b6e0cef07abc",
    "outputId": "79c0150e-ad6a-417d-9cce-cae07ff7de00"
   },
   "outputs": [
    {
     "data": {
      "text/plain": [
       "torch.Size([18623, 2304])"
      ]
     },
     "execution_count": 15,
     "metadata": {},
     "output_type": "execute_result"
    }
   ],
   "source": [
    "net1(X).shape"
   ]
  },
  {
   "cell_type": "code",
   "execution_count": 16,
   "id": "2f6c35e9-c3f5-40f0-9e73-e889b65cd163",
   "metadata": {
    "id": "2f6c35e9-c3f5-40f0-9e73-e889b65cd163"
   },
   "outputs": [],
   "source": [
    "net = torch.nn.Sequential(\n",
    "    net1,\n",
    "    torch.nn.Linear(2304,3) # 0,1,2 3개를 구분하는 문제이므로 out_features=3 \n",
    ")\n",
    "loss_fn = torch.nn.CrossEntropyLoss() "
   ]
  },
  {
   "cell_type": "code",
   "execution_count": 17,
   "id": "5ca3a152-c2e5-4497-ac0b-18a1933d0084",
   "metadata": {
    "id": "5ca3a152-c2e5-4497-ac0b-18a1933d0084"
   },
   "outputs": [],
   "source": [
    "lrnr = Learner(dls,net,loss_fn) "
   ]
  },
  {
   "cell_type": "markdown",
   "id": "492753d6-1b31-4633-b4b4-2b3baf3caff5",
   "metadata": {},
   "source": [
    "adam기본인 learner"
   ]
  },
  {
   "cell_type": "markdown",
   "id": "b716cbcd-def6-40bb-9273-d2d789f4c82a",
   "metadata": {
    "id": "b716cbcd-def6-40bb-9273-d2d789f4c82a"
   },
   "source": [
    "(3) 학습"
   ]
  },
  {
   "cell_type": "markdown",
   "id": "1483f963-f1a0-4d2a-aec6-d6fdf54a9917",
   "metadata": {},
   "source": [
    "지금은 epoch당 11번 도는 설정, 18623/1862 = 11.xx"
   ]
  },
  {
   "cell_type": "code",
   "execution_count": 18,
   "id": "6b97c6a5-1f2e-4467-ad9f-a44277363792",
   "metadata": {
    "id": "6b97c6a5-1f2e-4467-ad9f-a44277363792",
    "outputId": "8e5f743b-2521-4747-d7ef-1b3138e872f5"
   },
   "outputs": [
    {
     "data": {
      "text/html": [
       "<table border=\"1\" class=\"dataframe\">\n",
       "  <thead>\n",
       "    <tr style=\"text-align: left;\">\n",
       "      <th>epoch</th>\n",
       "      <th>train_loss</th>\n",
       "      <th>valid_loss</th>\n",
       "      <th>time</th>\n",
       "    </tr>\n",
       "  </thead>\n",
       "  <tbody>\n",
       "    <tr>\n",
       "      <td>0</td>\n",
       "      <td>1.532752</td>\n",
       "      <td>1.059955</td>\n",
       "      <td>00:00</td>\n",
       "    </tr>\n",
       "    <tr>\n",
       "      <td>1</td>\n",
       "      <td>1.190896</td>\n",
       "      <td>0.830852</td>\n",
       "      <td>00:00</td>\n",
       "    </tr>\n",
       "    <tr>\n",
       "      <td>2</td>\n",
       "      <td>1.008513</td>\n",
       "      <td>0.646931</td>\n",
       "      <td>00:00</td>\n",
       "    </tr>\n",
       "    <tr>\n",
       "      <td>3</td>\n",
       "      <td>0.865353</td>\n",
       "      <td>0.427843</td>\n",
       "      <td>00:00</td>\n",
       "    </tr>\n",
       "    <tr>\n",
       "      <td>4</td>\n",
       "      <td>0.728408</td>\n",
       "      <td>0.264087</td>\n",
       "      <td>00:00</td>\n",
       "    </tr>\n",
       "    <tr>\n",
       "      <td>5</td>\n",
       "      <td>0.602026</td>\n",
       "      <td>0.179980</td>\n",
       "      <td>00:00</td>\n",
       "    </tr>\n",
       "    <tr>\n",
       "      <td>6</td>\n",
       "      <td>0.497519</td>\n",
       "      <td>0.137681</td>\n",
       "      <td>00:00</td>\n",
       "    </tr>\n",
       "    <tr>\n",
       "      <td>7</td>\n",
       "      <td>0.415113</td>\n",
       "      <td>0.112264</td>\n",
       "      <td>00:00</td>\n",
       "    </tr>\n",
       "    <tr>\n",
       "      <td>8</td>\n",
       "      <td>0.349265</td>\n",
       "      <td>0.096033</td>\n",
       "      <td>00:00</td>\n",
       "    </tr>\n",
       "    <tr>\n",
       "      <td>9</td>\n",
       "      <td>0.296159</td>\n",
       "      <td>0.084770</td>\n",
       "      <td>00:00</td>\n",
       "    </tr>\n",
       "  </tbody>\n",
       "</table>"
      ],
      "text/plain": [
       "<IPython.core.display.HTML object>"
      ]
     },
     "metadata": {},
     "output_type": "display_data"
    }
   ],
   "source": [
    "lrnr.fit(10) "
   ]
  },
  {
   "cell_type": "markdown",
   "id": "21a90e6c-cf53-4d50-8653-90102b406b7f",
   "metadata": {
    "id": "21a90e6c-cf53-4d50-8653-90102b406b7f"
   },
   "source": [
    "(4) 예측"
   ]
  },
  {
   "cell_type": "code",
   "execution_count": 19,
   "id": "b6a9a62e-14bb-4424-aab2-edd55aa4d73a",
   "metadata": {
    "id": "b6a9a62e-14bb-4424-aab2-edd55aa4d73a",
    "outputId": "083e5922-9223-4d00-b76c-2c97b7d35dd6"
   },
   "outputs": [
    {
     "data": {
      "text/plain": [
       "Sequential(\n",
       "  (0): Sequential(\n",
       "    (0): Conv2d(1, 16, kernel_size=(5, 5), stride=(1, 1))\n",
       "    (1): ReLU()\n",
       "    (2): MaxPool2d(kernel_size=(2, 2), stride=(2, 2), padding=0, dilation=1, ceil_mode=False)\n",
       "    (3): Flatten(start_dim=1, end_dim=-1)\n",
       "  )\n",
       "  (1): Linear(in_features=2304, out_features=3, bias=True)\n",
       ")"
      ]
     },
     "execution_count": 19,
     "metadata": {},
     "output_type": "execute_result"
    }
   ],
   "source": [
    "lrnr.model.to(\"cpu\")"
   ]
  },
  {
   "cell_type": "code",
   "execution_count": 20,
   "id": "5a373c87-ae50-4026-8fdc-cc6f84179c06",
   "metadata": {
    "id": "5a373c87-ae50-4026-8fdc-cc6f84179c06",
    "outputId": "3fea976e-fed1-4bdc-cffe-db4f2105e056"
   },
   "outputs": [
    {
     "data": {
      "text/html": [
       "<div>\n",
       "<style scoped>\n",
       "    .dataframe tbody tr th:only-of-type {\n",
       "        vertical-align: middle;\n",
       "    }\n",
       "\n",
       "    .dataframe tbody tr th {\n",
       "        vertical-align: top;\n",
       "    }\n",
       "\n",
       "    .dataframe thead th {\n",
       "        text-align: right;\n",
       "    }\n",
       "</style>\n",
       "<table border=\"1\" class=\"dataframe\">\n",
       "  <thead>\n",
       "    <tr style=\"text-align: right;\">\n",
       "      <th></th>\n",
       "      <th>0</th>\n",
       "      <th>1</th>\n",
       "      <th>2</th>\n",
       "      <th>y</th>\n",
       "    </tr>\n",
       "  </thead>\n",
       "  <tbody>\n",
       "    <tr>\n",
       "      <th>0</th>\n",
       "      <td>2.838031</td>\n",
       "      <td>-14.031689</td>\n",
       "      <td>-1.230620</td>\n",
       "      <td>0</td>\n",
       "    </tr>\n",
       "    <tr>\n",
       "      <th>1</th>\n",
       "      <td>-0.732540</td>\n",
       "      <td>-6.829875</td>\n",
       "      <td>-0.657546</td>\n",
       "      <td>0</td>\n",
       "    </tr>\n",
       "    <tr>\n",
       "      <th>2</th>\n",
       "      <td>2.525343</td>\n",
       "      <td>-7.813309</td>\n",
       "      <td>-2.658828</td>\n",
       "      <td>0</td>\n",
       "    </tr>\n",
       "    <tr>\n",
       "      <th>3</th>\n",
       "      <td>1.173236</td>\n",
       "      <td>-5.229916</td>\n",
       "      <td>-2.532024</td>\n",
       "      <td>0</td>\n",
       "    </tr>\n",
       "    <tr>\n",
       "      <th>4</th>\n",
       "      <td>0.102843</td>\n",
       "      <td>-3.444337</td>\n",
       "      <td>-1.044323</td>\n",
       "      <td>0</td>\n",
       "    </tr>\n",
       "    <tr>\n",
       "      <th>...</th>\n",
       "      <td>...</td>\n",
       "      <td>...</td>\n",
       "      <td>...</td>\n",
       "      <td>...</td>\n",
       "    </tr>\n",
       "    <tr>\n",
       "      <th>3142</th>\n",
       "      <td>-2.697058</td>\n",
       "      <td>-3.533814</td>\n",
       "      <td>-0.154926</td>\n",
       "      <td>2</td>\n",
       "    </tr>\n",
       "    <tr>\n",
       "      <th>3143</th>\n",
       "      <td>-5.334007</td>\n",
       "      <td>-6.445426</td>\n",
       "      <td>2.196163</td>\n",
       "      <td>2</td>\n",
       "    </tr>\n",
       "    <tr>\n",
       "      <th>3144</th>\n",
       "      <td>-3.041989</td>\n",
       "      <td>-5.655945</td>\n",
       "      <td>1.335649</td>\n",
       "      <td>2</td>\n",
       "    </tr>\n",
       "    <tr>\n",
       "      <th>3145</th>\n",
       "      <td>-4.720510</td>\n",
       "      <td>-5.899189</td>\n",
       "      <td>1.208340</td>\n",
       "      <td>2</td>\n",
       "    </tr>\n",
       "    <tr>\n",
       "      <th>3146</th>\n",
       "      <td>-2.413806</td>\n",
       "      <td>-3.101650</td>\n",
       "      <td>0.852677</td>\n",
       "      <td>2</td>\n",
       "    </tr>\n",
       "  </tbody>\n",
       "</table>\n",
       "<p>3147 rows × 4 columns</p>\n",
       "</div>"
      ],
      "text/plain": [
       "             0          1         2  y\n",
       "0     2.838031 -14.031689 -1.230620  0\n",
       "1    -0.732540  -6.829875 -0.657546  0\n",
       "2     2.525343  -7.813309 -2.658828  0\n",
       "3     1.173236  -5.229916 -2.532024  0\n",
       "4     0.102843  -3.444337 -1.044323  0\n",
       "...        ...        ...       ... ..\n",
       "3142 -2.697058  -3.533814 -0.154926  2\n",
       "3143 -5.334007  -6.445426  2.196163  2\n",
       "3144 -3.041989  -5.655945  1.335649  2\n",
       "3145 -4.720510  -5.899189  1.208340  2\n",
       "3146 -2.413806  -3.101650  0.852677  2\n",
       "\n",
       "[3147 rows x 4 columns]"
      ]
     },
     "execution_count": 20,
     "metadata": {},
     "output_type": "execute_result"
    }
   ],
   "source": [
    "pd.DataFrame(lrnr.model(XX)).assign(y=yy) "
   ]
  },
  {
   "cell_type": "code",
   "execution_count": 21,
   "id": "2d10b166-f338-441b-87cf-a16b085c060f",
   "metadata": {
    "id": "2d10b166-f338-441b-87cf-a16b085c060f",
    "outputId": "f8dc139f-30ca-4a83-afa1-ec77383f83a1"
   },
   "outputs": [
    {
     "data": {
      "text/html": [
       "<div>\n",
       "<style scoped>\n",
       "    .dataframe tbody tr th:only-of-type {\n",
       "        vertical-align: middle;\n",
       "    }\n",
       "\n",
       "    .dataframe tbody tr th {\n",
       "        vertical-align: top;\n",
       "    }\n",
       "\n",
       "    .dataframe thead th {\n",
       "        text-align: right;\n",
       "    }\n",
       "</style>\n",
       "<table border=\"1\" class=\"dataframe\">\n",
       "  <thead>\n",
       "    <tr style=\"text-align: right;\">\n",
       "      <th></th>\n",
       "      <th>0</th>\n",
       "      <th>1</th>\n",
       "      <th>2</th>\n",
       "      <th>y</th>\n",
       "    </tr>\n",
       "  </thead>\n",
       "  <tbody>\n",
       "    <tr>\n",
       "      <th>0</th>\n",
       "      <td>2.838031</td>\n",
       "      <td>-14.031689</td>\n",
       "      <td>-1.230620</td>\n",
       "      <td>0</td>\n",
       "    </tr>\n",
       "    <tr>\n",
       "      <th>1</th>\n",
       "      <td>-0.732540</td>\n",
       "      <td>-6.829875</td>\n",
       "      <td>-0.657546</td>\n",
       "      <td>0</td>\n",
       "    </tr>\n",
       "    <tr>\n",
       "      <th>2</th>\n",
       "      <td>2.525343</td>\n",
       "      <td>-7.813309</td>\n",
       "      <td>-2.658828</td>\n",
       "      <td>0</td>\n",
       "    </tr>\n",
       "    <tr>\n",
       "      <th>3</th>\n",
       "      <td>1.173236</td>\n",
       "      <td>-5.229916</td>\n",
       "      <td>-2.532024</td>\n",
       "      <td>0</td>\n",
       "    </tr>\n",
       "    <tr>\n",
       "      <th>4</th>\n",
       "      <td>0.102843</td>\n",
       "      <td>-3.444337</td>\n",
       "      <td>-1.044323</td>\n",
       "      <td>0</td>\n",
       "    </tr>\n",
       "    <tr>\n",
       "      <th>...</th>\n",
       "      <td>...</td>\n",
       "      <td>...</td>\n",
       "      <td>...</td>\n",
       "      <td>...</td>\n",
       "    </tr>\n",
       "    <tr>\n",
       "      <th>975</th>\n",
       "      <td>1.330218</td>\n",
       "      <td>-6.934738</td>\n",
       "      <td>-0.893682</td>\n",
       "      <td>0</td>\n",
       "    </tr>\n",
       "    <tr>\n",
       "      <th>976</th>\n",
       "      <td>3.073657</td>\n",
       "      <td>-11.082842</td>\n",
       "      <td>-3.012246</td>\n",
       "      <td>0</td>\n",
       "    </tr>\n",
       "    <tr>\n",
       "      <th>977</th>\n",
       "      <td>3.607128</td>\n",
       "      <td>-7.156256</td>\n",
       "      <td>-5.264734</td>\n",
       "      <td>0</td>\n",
       "    </tr>\n",
       "    <tr>\n",
       "      <th>978</th>\n",
       "      <td>1.993969</td>\n",
       "      <td>-7.487792</td>\n",
       "      <td>-2.306112</td>\n",
       "      <td>0</td>\n",
       "    </tr>\n",
       "    <tr>\n",
       "      <th>979</th>\n",
       "      <td>1.534865</td>\n",
       "      <td>-7.852367</td>\n",
       "      <td>-1.404178</td>\n",
       "      <td>0</td>\n",
       "    </tr>\n",
       "  </tbody>\n",
       "</table>\n",
       "<p>980 rows × 4 columns</p>\n",
       "</div>"
      ],
      "text/plain": [
       "            0          1         2  y\n",
       "0    2.838031 -14.031689 -1.230620  0\n",
       "1   -0.732540  -6.829875 -0.657546  0\n",
       "2    2.525343  -7.813309 -2.658828  0\n",
       "3    1.173236  -5.229916 -2.532024  0\n",
       "4    0.102843  -3.444337 -1.044323  0\n",
       "..        ...        ...       ... ..\n",
       "975  1.330218  -6.934738 -0.893682  0\n",
       "976  3.073657 -11.082842 -3.012246  0\n",
       "977  3.607128  -7.156256 -5.264734  0\n",
       "978  1.993969  -7.487792 -2.306112  0\n",
       "979  1.534865  -7.852367 -1.404178  0\n",
       "\n",
       "[980 rows x 4 columns]"
      ]
     },
     "execution_count": 21,
     "metadata": {},
     "output_type": "execute_result"
    }
   ],
   "source": [
    "pd.DataFrame(lrnr.model(XX)).assign(y=yy).query('y==0')"
   ]
  },
  {
   "cell_type": "markdown",
   "id": "5f4de083-58c6-4410-9650-29d1ad9f07c1",
   "metadata": {
    "id": "5f4de083-58c6-4410-9650-29d1ad9f07c1"
   },
   "source": [
    "- 대체적으로 첫번째 칼럼의 숫자들이 다른칼럼보다 크다. "
   ]
  },
  {
   "cell_type": "code",
   "execution_count": 22,
   "id": "462a91a9-0f94-49e5-ad1b-74ee57574e09",
   "metadata": {
    "id": "462a91a9-0f94-49e5-ad1b-74ee57574e09",
    "outputId": "858575f5-cd54-49c8-fb6f-6dd3ab8e722c"
   },
   "outputs": [
    {
     "data": {
      "text/html": [
       "<div>\n",
       "<style scoped>\n",
       "    .dataframe tbody tr th:only-of-type {\n",
       "        vertical-align: middle;\n",
       "    }\n",
       "\n",
       "    .dataframe tbody tr th {\n",
       "        vertical-align: top;\n",
       "    }\n",
       "\n",
       "    .dataframe thead th {\n",
       "        text-align: right;\n",
       "    }\n",
       "</style>\n",
       "<table border=\"1\" class=\"dataframe\">\n",
       "  <thead>\n",
       "    <tr style=\"text-align: right;\">\n",
       "      <th></th>\n",
       "      <th>0</th>\n",
       "      <th>1</th>\n",
       "      <th>2</th>\n",
       "      <th>y</th>\n",
       "    </tr>\n",
       "  </thead>\n",
       "  <tbody>\n",
       "    <tr>\n",
       "      <th>980</th>\n",
       "      <td>-4.239265</td>\n",
       "      <td>2.068619</td>\n",
       "      <td>-1.274470</td>\n",
       "      <td>1</td>\n",
       "    </tr>\n",
       "    <tr>\n",
       "      <th>981</th>\n",
       "      <td>-4.559580</td>\n",
       "      <td>2.755761</td>\n",
       "      <td>-1.822832</td>\n",
       "      <td>1</td>\n",
       "    </tr>\n",
       "    <tr>\n",
       "      <th>982</th>\n",
       "      <td>-4.617976</td>\n",
       "      <td>1.838857</td>\n",
       "      <td>-0.515022</td>\n",
       "      <td>1</td>\n",
       "    </tr>\n",
       "    <tr>\n",
       "      <th>983</th>\n",
       "      <td>-4.119075</td>\n",
       "      <td>2.247138</td>\n",
       "      <td>-0.991911</td>\n",
       "      <td>1</td>\n",
       "    </tr>\n",
       "    <tr>\n",
       "      <th>984</th>\n",
       "      <td>-3.344346</td>\n",
       "      <td>1.100410</td>\n",
       "      <td>-1.496944</td>\n",
       "      <td>1</td>\n",
       "    </tr>\n",
       "    <tr>\n",
       "      <th>...</th>\n",
       "      <td>...</td>\n",
       "      <td>...</td>\n",
       "      <td>...</td>\n",
       "      <td>...</td>\n",
       "    </tr>\n",
       "    <tr>\n",
       "      <th>2110</th>\n",
       "      <td>-4.141958</td>\n",
       "      <td>2.405002</td>\n",
       "      <td>-1.260467</td>\n",
       "      <td>1</td>\n",
       "    </tr>\n",
       "    <tr>\n",
       "      <th>2111</th>\n",
       "      <td>-4.405143</td>\n",
       "      <td>2.479209</td>\n",
       "      <td>-1.356262</td>\n",
       "      <td>1</td>\n",
       "    </tr>\n",
       "    <tr>\n",
       "      <th>2112</th>\n",
       "      <td>-3.695343</td>\n",
       "      <td>1.773260</td>\n",
       "      <td>-1.218412</td>\n",
       "      <td>1</td>\n",
       "    </tr>\n",
       "    <tr>\n",
       "      <th>2113</th>\n",
       "      <td>-3.986775</td>\n",
       "      <td>2.423826</td>\n",
       "      <td>-1.349702</td>\n",
       "      <td>1</td>\n",
       "    </tr>\n",
       "    <tr>\n",
       "      <th>2114</th>\n",
       "      <td>-4.925949</td>\n",
       "      <td>2.532830</td>\n",
       "      <td>-1.160674</td>\n",
       "      <td>1</td>\n",
       "    </tr>\n",
       "  </tbody>\n",
       "</table>\n",
       "<p>1135 rows × 4 columns</p>\n",
       "</div>"
      ],
      "text/plain": [
       "             0         1         2  y\n",
       "980  -4.239265  2.068619 -1.274470  1\n",
       "981  -4.559580  2.755761 -1.822832  1\n",
       "982  -4.617976  1.838857 -0.515022  1\n",
       "983  -4.119075  2.247138 -0.991911  1\n",
       "984  -3.344346  1.100410 -1.496944  1\n",
       "...        ...       ...       ... ..\n",
       "2110 -4.141958  2.405002 -1.260467  1\n",
       "2111 -4.405143  2.479209 -1.356262  1\n",
       "2112 -3.695343  1.773260 -1.218412  1\n",
       "2113 -3.986775  2.423826 -1.349702  1\n",
       "2114 -4.925949  2.532830 -1.160674  1\n",
       "\n",
       "[1135 rows x 4 columns]"
      ]
     },
     "execution_count": 22,
     "metadata": {},
     "output_type": "execute_result"
    }
   ],
   "source": [
    "pd.DataFrame(lrnr.model(XX)).assign(y=yy).query('y==1')"
   ]
  },
  {
   "cell_type": "markdown",
   "id": "ad3af27e-edb0-43dc-9bea-df0d77c97410",
   "metadata": {
    "id": "ad3af27e-edb0-43dc-9bea-df0d77c97410"
   },
   "source": [
    "- 대체적으로 두번째 칼럼의 숫자들이 다른칼럼보다 크다. "
   ]
  },
  {
   "cell_type": "code",
   "execution_count": 23,
   "id": "71bd24c1-d4d6-495e-94bf-3870a536e257",
   "metadata": {
    "id": "71bd24c1-d4d6-495e-94bf-3870a536e257",
    "outputId": "f691cfb3-05eb-4a4a-a792-cee95b03eb1d"
   },
   "outputs": [
    {
     "data": {
      "text/html": [
       "<div>\n",
       "<style scoped>\n",
       "    .dataframe tbody tr th:only-of-type {\n",
       "        vertical-align: middle;\n",
       "    }\n",
       "\n",
       "    .dataframe tbody tr th {\n",
       "        vertical-align: top;\n",
       "    }\n",
       "\n",
       "    .dataframe thead th {\n",
       "        text-align: right;\n",
       "    }\n",
       "</style>\n",
       "<table border=\"1\" class=\"dataframe\">\n",
       "  <thead>\n",
       "    <tr style=\"text-align: right;\">\n",
       "      <th></th>\n",
       "      <th>0</th>\n",
       "      <th>1</th>\n",
       "      <th>2</th>\n",
       "      <th>y</th>\n",
       "    </tr>\n",
       "  </thead>\n",
       "  <tbody>\n",
       "    <tr>\n",
       "      <th>2115</th>\n",
       "      <td>-4.723238</td>\n",
       "      <td>-3.105680</td>\n",
       "      <td>1.052694</td>\n",
       "      <td>2</td>\n",
       "    </tr>\n",
       "    <tr>\n",
       "      <th>2116</th>\n",
       "      <td>-2.576618</td>\n",
       "      <td>-7.337523</td>\n",
       "      <td>2.118495</td>\n",
       "      <td>2</td>\n",
       "    </tr>\n",
       "    <tr>\n",
       "      <th>2117</th>\n",
       "      <td>-3.796456</td>\n",
       "      <td>-6.393374</td>\n",
       "      <td>2.169248</td>\n",
       "      <td>2</td>\n",
       "    </tr>\n",
       "    <tr>\n",
       "      <th>2118</th>\n",
       "      <td>-3.276625</td>\n",
       "      <td>-2.622900</td>\n",
       "      <td>0.176427</td>\n",
       "      <td>2</td>\n",
       "    </tr>\n",
       "    <tr>\n",
       "      <th>2119</th>\n",
       "      <td>-4.627345</td>\n",
       "      <td>-5.335648</td>\n",
       "      <td>1.157538</td>\n",
       "      <td>2</td>\n",
       "    </tr>\n",
       "    <tr>\n",
       "      <th>...</th>\n",
       "      <td>...</td>\n",
       "      <td>...</td>\n",
       "      <td>...</td>\n",
       "      <td>...</td>\n",
       "    </tr>\n",
       "    <tr>\n",
       "      <th>3142</th>\n",
       "      <td>-2.697058</td>\n",
       "      <td>-3.533814</td>\n",
       "      <td>-0.154926</td>\n",
       "      <td>2</td>\n",
       "    </tr>\n",
       "    <tr>\n",
       "      <th>3143</th>\n",
       "      <td>-5.334007</td>\n",
       "      <td>-6.445426</td>\n",
       "      <td>2.196163</td>\n",
       "      <td>2</td>\n",
       "    </tr>\n",
       "    <tr>\n",
       "      <th>3144</th>\n",
       "      <td>-3.041989</td>\n",
       "      <td>-5.655945</td>\n",
       "      <td>1.335649</td>\n",
       "      <td>2</td>\n",
       "    </tr>\n",
       "    <tr>\n",
       "      <th>3145</th>\n",
       "      <td>-4.720510</td>\n",
       "      <td>-5.899189</td>\n",
       "      <td>1.208340</td>\n",
       "      <td>2</td>\n",
       "    </tr>\n",
       "    <tr>\n",
       "      <th>3146</th>\n",
       "      <td>-2.413806</td>\n",
       "      <td>-3.101650</td>\n",
       "      <td>0.852677</td>\n",
       "      <td>2</td>\n",
       "    </tr>\n",
       "  </tbody>\n",
       "</table>\n",
       "<p>1032 rows × 4 columns</p>\n",
       "</div>"
      ],
      "text/plain": [
       "             0         1         2  y\n",
       "2115 -4.723238 -3.105680  1.052694  2\n",
       "2116 -2.576618 -7.337523  2.118495  2\n",
       "2117 -3.796456 -6.393374  2.169248  2\n",
       "2118 -3.276625 -2.622900  0.176427  2\n",
       "2119 -4.627345 -5.335648  1.157538  2\n",
       "...        ...       ...       ... ..\n",
       "3142 -2.697058 -3.533814 -0.154926  2\n",
       "3143 -5.334007 -6.445426  2.196163  2\n",
       "3144 -3.041989 -5.655945  1.335649  2\n",
       "3145 -4.720510 -5.899189  1.208340  2\n",
       "3146 -2.413806 -3.101650  0.852677  2\n",
       "\n",
       "[1032 rows x 4 columns]"
      ]
     },
     "execution_count": 23,
     "metadata": {},
     "output_type": "execute_result"
    }
   ],
   "source": [
    "pd.DataFrame(lrnr.model(XX)).assign(y=yy).query('y==2')"
   ]
  },
  {
   "cell_type": "markdown",
   "id": "3f8684ea-8726-44ba-ba84-7793707551de",
   "metadata": {
    "id": "3f8684ea-8726-44ba-ba84-7793707551de"
   },
   "source": [
    "- 대체적으로 세번째 칼럼의 숫자들이 다른칼럼보다 크다. "
   ]
  },
  {
   "cell_type": "markdown",
   "id": "d8e10578-7a9e-477d-b037-b4dd25a4cd4a",
   "metadata": {
    "id": "d8e10578-7a9e-477d-b037-b4dd25a4cd4a"
   },
   "source": [
    "`-` 예측하는방법? \n",
    "- 칼럼0의 숫자가 크다 -> y=0일 확률이 큼\n",
    "- 칼럼1의 숫자가 크다 -> y=1일 확률이 큼 \n",
    "- 칼럼2의 숫자가 크다 -> y=2일 확률이 큼"
   ]
  },
  {
   "cell_type": "markdown",
   "id": "51e381d3-ee21-4e35-9123-6c31103e0c44",
   "metadata": {
    "id": "51e381d3-ee21-4e35-9123-6c31103e0c44",
    "tags": []
   },
   "source": [
    "### 공부: Softmax "
   ]
  },
  {
   "cell_type": "markdown",
   "id": "ee52ab61-2ea4-436f-9d6f-3f180880ae9d",
   "metadata": {
    "id": "ee52ab61-2ea4-436f-9d6f-3f180880ae9d"
   },
   "source": [
    "`-` 눈치: softmax를 쓰기 직전의 숫자들은 (n,k)꼴로 되어있음. 각 observation 마다 k개의 숫자가 있는데, 그중에서 유난히 큰 하나의 숫자가 있음. "
   ]
  },
  {
   "cell_type": "markdown",
   "id": "0fd4c23c-9eba-43b1-a3b2-40f2c1e51051",
   "metadata": {
    "id": "0fd4c23c-9eba-43b1-a3b2-40f2c1e51051"
   },
   "source": [
    "`-` torch.nn.Softmax() 손계산 "
   ]
  },
  {
   "cell_type": "markdown",
   "id": "3d01821c-d23e-4f8d-a3ba-bba44d26259a",
   "metadata": {
    "id": "3d01821c-d23e-4f8d-a3ba-bba44d26259a"
   },
   "source": [
    "(예시1) -- 잘못계산 "
   ]
  },
  {
   "cell_type": "code",
   "execution_count": 24,
   "id": "55ddb3f2-617f-4087-bfee-56b95dc7b244",
   "metadata": {},
   "outputs": [
    {
     "data": {
      "text/plain": [
       "\u001b[0;31mInit signature:\u001b[0m \u001b[0mtorch\u001b[0m\u001b[0;34m.\u001b[0m\u001b[0mnn\u001b[0m\u001b[0;34m.\u001b[0m\u001b[0mSoftmax\u001b[0m\u001b[0;34m(\u001b[0m\u001b[0mdim\u001b[0m\u001b[0;34m:\u001b[0m \u001b[0mUnion\u001b[0m\u001b[0;34m[\u001b[0m\u001b[0mint\u001b[0m\u001b[0;34m,\u001b[0m \u001b[0mNoneType\u001b[0m\u001b[0;34m]\u001b[0m \u001b[0;34m=\u001b[0m \u001b[0;32mNone\u001b[0m\u001b[0;34m)\u001b[0m \u001b[0;34m->\u001b[0m \u001b[0;32mNone\u001b[0m\u001b[0;34m\u001b[0m\u001b[0;34m\u001b[0m\u001b[0m\n",
       "\u001b[0;31mDocstring:\u001b[0m     \n",
       "Applies the Softmax function to an n-dimensional input Tensor\n",
       "rescaling them so that the elements of the n-dimensional output Tensor\n",
       "lie in the range [0,1] and sum to 1.\n",
       "\n",
       "Softmax is defined as:\n",
       "\n",
       ".. math::\n",
       "    \\text{Softmax}(x_{i}) = \\frac{\\exp(x_i)}{\\sum_j \\exp(x_j)}\n",
       "\n",
       "When the input Tensor is a sparse tensor then the unspecifed\n",
       "values are treated as ``-inf``.\n",
       "\n",
       "Shape:\n",
       "    - Input: :math:`(*)` where `*` means, any number of additional\n",
       "      dimensions\n",
       "    - Output: :math:`(*)`, same shape as the input\n",
       "\n",
       "Returns:\n",
       "    a Tensor of the same dimension and shape as the input with\n",
       "    values in the range [0, 1]\n",
       "\n",
       "Args:\n",
       "    dim (int): A dimension along which Softmax will be computed (so every slice\n",
       "        along dim will sum to 1).\n",
       "\n",
       ".. note::\n",
       "    This module doesn't work directly with NLLLoss,\n",
       "    which expects the Log to be computed between the Softmax and itself.\n",
       "    Use `LogSoftmax` instead (it's faster and has better numerical properties).\n",
       "\n",
       "Examples::\n",
       "\n",
       "    >>> m = nn.Softmax(dim=1)\n",
       "    >>> input = torch.randn(2, 3)\n",
       "    >>> output = m(input)\n",
       "\u001b[0;31mInit docstring:\u001b[0m Initializes internal Module state, shared by both nn.Module and ScriptModule.\n",
       "\u001b[0;31mFile:\u001b[0m           ~/anaconda3/envs/csy/lib/python3.8/site-packages/torch/nn/modules/activation.py\n",
       "\u001b[0;31mType:\u001b[0m           type\n",
       "\u001b[0;31mSubclasses:\u001b[0m     \n"
      ]
     },
     "metadata": {},
     "output_type": "display_data"
    }
   ],
   "source": [
    "torch.nn.Softmax?"
   ]
  },
  {
   "cell_type": "code",
   "execution_count": 31,
   "id": "72af0ecb-53bc-40f5-a344-6fb3836f458e",
   "metadata": {
    "id": "72af0ecb-53bc-40f5-a344-6fb3836f458e"
   },
   "outputs": [],
   "source": [
    "sftmax = torch.nn.Softmax(dim=0) # columns"
   ]
  },
  {
   "cell_type": "code",
   "execution_count": 32,
   "id": "bfd273eb-c99d-4f8b-8825-452c7b418ef3",
   "metadata": {
    "id": "bfd273eb-c99d-4f8b-8825-452c7b418ef3",
    "outputId": "c9c26c54-2e1f-430d-b56e-c024caf9669d"
   },
   "outputs": [
    {
     "data": {
      "text/plain": [
       "tensor([[-2.0000, -2.0000,  0.0000],\n",
       "        [ 3.1400,  3.1400,  3.1400],\n",
       "        [ 0.0000,  0.0000,  2.0000],\n",
       "        [ 2.0000,  2.0000,  4.0000],\n",
       "        [ 0.0000,  0.0000,  0.0000]])"
      ]
     },
     "execution_count": 32,
     "metadata": {},
     "output_type": "execute_result"
    }
   ],
   "source": [
    "_netout = torch.tensor([[-2.0,-2.0,0.0],\n",
    "                        [3.14,3.14,3.14],\n",
    "                        [0.0,0.0,2.0],\n",
    "                        [2.0,2.0,4.0],\n",
    "                        [0.0,0.0,0.0]])\n",
    "_netout"
   ]
  },
  {
   "cell_type": "code",
   "execution_count": 33,
   "id": "f778b833-8d35-4e26-89d4-e8dd16f8ddfa",
   "metadata": {
    "id": "f778b833-8d35-4e26-89d4-e8dd16f8ddfa",
    "outputId": "6bd08e77-8314-42d0-9cbe-a29920c06562"
   },
   "outputs": [
    {
     "data": {
      "text/plain": [
       "tensor([[0.0041, 0.0041, 0.0115],\n",
       "        [0.7081, 0.7081, 0.2653],\n",
       "        [0.0306, 0.0306, 0.0848],\n",
       "        [0.2265, 0.2265, 0.6269],\n",
       "        [0.0306, 0.0306, 0.0115]])"
      ]
     },
     "execution_count": 33,
     "metadata": {},
     "output_type": "execute_result"
    }
   ],
   "source": [
    "sftmax(_netout) "
   ]
  },
  {
   "cell_type": "markdown",
   "id": "c6c1bb49-14de-48f7-bbfd-05f52421a265",
   "metadata": {
    "id": "c6c1bb49-14de-48f7-bbfd-05f52421a265"
   },
   "source": [
    "(예시2) -- 이게 맞게 계산되는 것임 "
   ]
  },
  {
   "cell_type": "code",
   "execution_count": 34,
   "id": "2cbdfb8b-049d-46bf-8707-37dab346d088",
   "metadata": {
    "id": "2cbdfb8b-049d-46bf-8707-37dab346d088"
   },
   "outputs": [],
   "source": [
    "sftmax = torch.nn.Softmax(dim=1) # rows"
   ]
  },
  {
   "cell_type": "code",
   "execution_count": 35,
   "id": "9c8b7430-2a01-4975-aa92-f4f29a5630a5",
   "metadata": {
    "id": "9c8b7430-2a01-4975-aa92-f4f29a5630a5",
    "outputId": "59a18352-e47f-4a7e-b929-bc5b6085a329"
   },
   "outputs": [
    {
     "data": {
      "text/plain": [
       "tensor([[-2.0000, -2.0000,  0.0000],\n",
       "        [ 3.1400,  3.1400,  3.1400],\n",
       "        [ 0.0000,  0.0000,  2.0000],\n",
       "        [ 2.0000,  2.0000,  4.0000],\n",
       "        [ 0.0000,  0.0000,  0.0000]])"
      ]
     },
     "execution_count": 35,
     "metadata": {},
     "output_type": "execute_result"
    }
   ],
   "source": [
    "_netout"
   ]
  },
  {
   "cell_type": "code",
   "execution_count": 36,
   "id": "3ceeb181-dab4-4214-a0b7-dc3978fa8b8e",
   "metadata": {
    "id": "3ceeb181-dab4-4214-a0b7-dc3978fa8b8e",
    "outputId": "7f534fb9-4a4a-4dc1-e432-ac7e663db610"
   },
   "outputs": [
    {
     "data": {
      "text/plain": [
       "tensor([[0.1065, 0.1065, 0.7870],\n",
       "        [0.3333, 0.3333, 0.3333],\n",
       "        [0.1065, 0.1065, 0.7870],\n",
       "        [0.1065, 0.1065, 0.7870],\n",
       "        [0.3333, 0.3333, 0.3333]])"
      ]
     },
     "execution_count": 36,
     "metadata": {},
     "output_type": "execute_result"
    }
   ],
   "source": [
    "sftmax(_netout)"
   ]
  },
  {
   "cell_type": "markdown",
   "id": "897dde3a-a581-4cc9-859f-77e43f41517c",
   "metadata": {
    "id": "897dde3a-a581-4cc9-859f-77e43f41517c"
   },
   "source": [
    "(예시3) -- 차원을 명시안하면 맞게 계산해주고 경고 줌 "
   ]
  },
  {
   "cell_type": "code",
   "execution_count": 37,
   "id": "47d2a564-902a-4f05-bbc8-68cad148f718",
   "metadata": {
    "id": "47d2a564-902a-4f05-bbc8-68cad148f718"
   },
   "outputs": [],
   "source": [
    "sftmax = torch.nn.Softmax()"
   ]
  },
  {
   "cell_type": "code",
   "execution_count": 38,
   "id": "b53cea7c-83f5-4bfd-8403-928cc1e76146",
   "metadata": {
    "id": "b53cea7c-83f5-4bfd-8403-928cc1e76146",
    "outputId": "465e670c-d4e5-43b2-b06b-99c6efb0e4a2"
   },
   "outputs": [
    {
     "data": {
      "text/plain": [
       "tensor([[-2.0000, -2.0000,  0.0000],\n",
       "        [ 3.1400,  3.1400,  3.1400],\n",
       "        [ 0.0000,  0.0000,  2.0000],\n",
       "        [ 2.0000,  2.0000,  4.0000],\n",
       "        [ 0.0000,  0.0000,  0.0000]])"
      ]
     },
     "execution_count": 38,
     "metadata": {},
     "output_type": "execute_result"
    }
   ],
   "source": [
    "_netout"
   ]
  },
  {
   "cell_type": "code",
   "execution_count": 40,
   "id": "d1f8b716-24b2-4ec9-8b25-275e1d9a5dc3",
   "metadata": {
    "id": "d1f8b716-24b2-4ec9-8b25-275e1d9a5dc3",
    "outputId": "61e59513-bda8-4d1a-e821-f266452ce1ea"
   },
   "outputs": [
    {
     "name": "stderr",
     "output_type": "stream",
     "text": [
      "/tmp/ipykernel_2380807/3715462293.py:1: UserWarning: Implicit dimension choice for softmax has been deprecated. Change the call to include dim=X as an argument.\n",
      "  sftmax(_netout)\n"
     ]
    },
    {
     "data": {
      "text/plain": [
       "tensor([[0.1065, 0.1065, 0.7870],\n",
       "        [0.3333, 0.3333, 0.3333],\n",
       "        [0.1065, 0.1065, 0.7870],\n",
       "        [0.1065, 0.1065, 0.7870],\n",
       "        [0.3333, 0.3333, 0.3333]])"
      ]
     },
     "execution_count": 40,
     "metadata": {},
     "output_type": "execute_result"
    }
   ],
   "source": [
    "sftmax(_netout)"
   ]
  },
  {
   "cell_type": "markdown",
   "id": "8d5302c7-5d60-486d-9ef2-4ddfd64c9acb",
   "metadata": {
    "id": "8d5302c7-5d60-486d-9ef2-4ddfd64c9acb"
   },
   "source": [
    "(예시4) -- 진짜 손계산 "
   ]
  },
  {
   "cell_type": "code",
   "execution_count": 41,
   "id": "f77bc8e3-82d3-4ace-89c0-eeeca757ebf9",
   "metadata": {
    "id": "f77bc8e3-82d3-4ace-89c0-eeeca757ebf9",
    "outputId": "c8e19811-974d-430d-a716-e4b6aaab9095"
   },
   "outputs": [
    {
     "data": {
      "text/plain": [
       "tensor([[-2.0000, -2.0000,  0.0000],\n",
       "        [ 3.1400,  3.1400,  3.1400],\n",
       "        [ 0.0000,  0.0000,  2.0000],\n",
       "        [ 2.0000,  2.0000,  4.0000],\n",
       "        [ 0.0000,  0.0000,  0.0000]])"
      ]
     },
     "execution_count": 41,
     "metadata": {},
     "output_type": "execute_result"
    }
   ],
   "source": [
    "_netout "
   ]
  },
  {
   "cell_type": "code",
   "execution_count": 42,
   "id": "4c3145f6-ae88-46f4-8ee0-63495a80eaba",
   "metadata": {
    "id": "4c3145f6-ae88-46f4-8ee0-63495a80eaba",
    "outputId": "a65de163-7d4f-46de-f9aa-5139c58e4b45"
   },
   "outputs": [
    {
     "data": {
      "text/plain": [
       "tensor([[ 0.1353,  0.1353,  1.0000],\n",
       "        [23.1039, 23.1039, 23.1039],\n",
       "        [ 1.0000,  1.0000,  7.3891],\n",
       "        [ 7.3891,  7.3891, 54.5981],\n",
       "        [ 1.0000,  1.0000,  1.0000]])"
      ]
     },
     "execution_count": 42,
     "metadata": {},
     "output_type": "execute_result"
    }
   ],
   "source": [
    "torch.exp(_netout)"
   ]
  },
  {
   "cell_type": "code",
   "execution_count": 43,
   "id": "5875293e-bec3-4a3d-a09b-7e04905c873e",
   "metadata": {
    "id": "5875293e-bec3-4a3d-a09b-7e04905c873e",
    "outputId": "5bcade08-d231-4d8f-9b79-e2bdb0a18116"
   },
   "outputs": [
    {
     "data": {
      "text/plain": [
       "(0.10648512513773022, 0.10648512513773022, 0.7870297497245397)"
      ]
     },
     "execution_count": 43,
     "metadata": {},
     "output_type": "execute_result"
    }
   ],
   "source": [
    "0.1353/(0.1353 + 0.1353 + 1.0000), 0.1353/(0.1353 + 0.1353 + 1.0000), 1.0000/(0.1353 + 0.1353 + 1.0000) # 첫 obs"
   ]
  },
  {
   "cell_type": "code",
   "execution_count": 44,
   "id": "a3f495e6-eb56-444d-861e-91ff2377e2cc",
   "metadata": {
    "id": "a3f495e6-eb56-444d-861e-91ff2377e2cc",
    "outputId": "7c21acd8-ebf2-4a5f-9665-983d7791fdc6"
   },
   "outputs": [
    {
     "data": {
      "text/plain": [
       "tensor([0.3333, 0.3333, 0.3333])"
      ]
     },
     "execution_count": 44,
     "metadata": {},
     "output_type": "execute_result"
    }
   ],
   "source": [
    "np.exp(_netout[1])/np.exp(_netout[1]).sum() # 두번째 obs "
   ]
  },
  {
   "cell_type": "code",
   "execution_count": 45,
   "id": "03fdbe55-2545-4e56-819a-0fd9d70bab8e",
   "metadata": {
    "id": "03fdbe55-2545-4e56-819a-0fd9d70bab8e",
    "outputId": "212e60a1-f1ae-4c19-ae44-41715ea79465"
   },
   "outputs": [
    {
     "data": {
      "text/plain": [
       "array([[0.10650698, 0.10650698, 0.78698605],\n",
       "       [0.33333334, 0.33333334, 0.33333334],\n",
       "       [0.10650699, 0.10650699, 0.78698605],\n",
       "       [0.10650698, 0.10650698, 0.78698605],\n",
       "       [0.33333334, 0.33333334, 0.33333334]], dtype=float32)"
      ]
     },
     "execution_count": 45,
     "metadata": {},
     "output_type": "execute_result"
    }
   ],
   "source": [
    "np.apply_along_axis(lambda x: np.exp(x) / np.exp(x).sum(),1,_netout)"
   ]
  },
  {
   "cell_type": "markdown",
   "id": "0e4399ed-4420-4d17-8501-ee2ef763e3aa",
   "metadata": {},
   "source": [
    "위에서 1은 축방향을 의미"
   ]
  },
  {
   "cell_type": "markdown",
   "id": "0b1aeff2-a9f9-48f2-996a-2fa7f00c1a60",
   "metadata": {
    "id": "0b1aeff2-a9f9-48f2-996a-2fa7f00c1a60"
   },
   "source": [
    "### 공부: CrossEntropyLoss"
   ]
  },
  {
   "cell_type": "markdown",
   "id": "f6d5d103-d71a-4c53-b3a1-e016dbd82a83",
   "metadata": {
    "id": "f6d5d103-d71a-4c53-b3a1-e016dbd82a83"
   },
   "source": [
    "#### `#` ***torch.nn.CrossEntropyLoss() 손계산: one-hot version***"
   ]
  },
  {
   "cell_type": "code",
   "execution_count": 50,
   "id": "c0107313-9323-47f4-a0f1-48d27d25d89f",
   "metadata": {
    "id": "c0107313-9323-47f4-a0f1-48d27d25d89f"
   },
   "outputs": [],
   "source": [
    "loss_fn = torch.nn.CrossEntropyLoss()"
   ]
  },
  {
   "cell_type": "code",
   "execution_count": 51,
   "id": "9827f1a4-e5d2-4026-b8b0-96d91457e6e5",
   "metadata": {
    "id": "9827f1a4-e5d2-4026-b8b0-96d91457e6e5",
    "outputId": "ae9ca45f-ed08-412b-dd96-68289300dc5b"
   },
   "outputs": [
    {
     "data": {
      "text/plain": [
       "tensor([[-2.0000, -2.0000,  0.0000],\n",
       "        [ 3.1400,  3.1400,  3.1400],\n",
       "        [ 0.0000,  0.0000,  2.0000],\n",
       "        [ 2.0000,  2.0000,  4.0000],\n",
       "        [ 0.0000,  0.0000,  0.0000]])"
      ]
     },
     "execution_count": 51,
     "metadata": {},
     "output_type": "execute_result"
    }
   ],
   "source": [
    "_netout"
   ]
  },
  {
   "cell_type": "code",
   "execution_count": 52,
   "id": "9ccf2824-f948-4477-9b91-f8c0133cbf5b",
   "metadata": {
    "id": "9ccf2824-f948-4477-9b91-f8c0133cbf5b",
    "outputId": "3c0d997c-e3f8-4152-d915-9a9d06af5b48"
   },
   "outputs": [
    {
     "data": {
      "text/plain": [
       "tensor([[0., 0., 1.],\n",
       "        [0., 1., 0.],\n",
       "        [0., 0., 1.],\n",
       "        [0., 0., 1.],\n",
       "        [1., 0., 0.]])"
      ]
     },
     "execution_count": 52,
     "metadata": {},
     "output_type": "execute_result"
    }
   ],
   "source": [
    "_y_onehot = torch.tensor([[0,0,1],\n",
    "                          [0,1,0],\n",
    "                          [0,0,1],\n",
    "                          [0,0,1],\n",
    "                          [1,0,0]])*1.0\n",
    "_y_onehot"
   ]
  },
  {
   "cell_type": "markdown",
   "id": "a7e8913c-a50e-4067-ab80-dd573c4fb4c5",
   "metadata": {},
   "source": [
    "**위에서 꼭 1.0 곱해줌으로써 int가 아닌 float으로 만들어주기**"
   ]
  },
  {
   "cell_type": "code",
   "execution_count": 53,
   "id": "b214cdd3-abe4-4e7a-9075-49b07b7125f3",
   "metadata": {
    "id": "b214cdd3-abe4-4e7a-9075-49b07b7125f3",
    "outputId": "94a1aefe-39d6-4ff7-c1c7-0dcfa38ad3c6"
   },
   "outputs": [
    {
     "data": {
      "text/plain": [
       "(tensor([[0.1065, 0.1065, 0.7870],\n",
       "         [0.3333, 0.3333, 0.3333],\n",
       "         [0.1065, 0.1065, 0.7870],\n",
       "         [0.1065, 0.1065, 0.7870],\n",
       "         [0.3333, 0.3333, 0.3333]]),\n",
       " tensor([[0., 0., 1.],\n",
       "         [0., 1., 0.],\n",
       "         [0., 0., 1.],\n",
       "         [0., 0., 1.],\n",
       "         [1., 0., 0.]]))"
      ]
     },
     "execution_count": 53,
     "metadata": {},
     "output_type": "execute_result"
    }
   ],
   "source": [
    "sftmax = torch.nn.Softmax(dim=1) \n",
    "sftmax(_netout), _y_onehot"
   ]
  },
  {
   "cell_type": "markdown",
   "id": "643ea7c4-1b47-4942-bcd7-19e7cbe75231",
   "metadata": {
    "id": "643ea7c4-1b47-4942-bcd7-19e7cbe75231"
   },
   "source": [
    "`-` 계산결과 "
   ]
  },
  {
   "cell_type": "code",
   "execution_count": 54,
   "id": "0a32cacf-43f9-402e-abd6-bf63caadf282",
   "metadata": {
    "id": "0a32cacf-43f9-402e-abd6-bf63caadf282",
    "outputId": "a1d0809e-7a2e-40ee-910b-b9dacfa9abff"
   },
   "outputs": [
    {
     "data": {
      "text/plain": [
       "tensor(0.5832)"
      ]
     },
     "execution_count": 54,
     "metadata": {},
     "output_type": "execute_result"
    }
   ],
   "source": [
    "loss_fn(_netout,_y_onehot)"
   ]
  },
  {
   "cell_type": "code",
   "execution_count": 55,
   "id": "798b3d1b-b8c9-46ca-b29b-3d0dc98d33e4",
   "metadata": {
    "id": "798b3d1b-b8c9-46ca-b29b-3d0dc98d33e4",
    "outputId": "946d7b09-5201-4101-9f5e-d4a5664d2e2a"
   },
   "outputs": [
    {
     "data": {
      "text/plain": [
       "tensor(0.5832)"
      ]
     },
     "execution_count": 55,
     "metadata": {},
     "output_type": "execute_result"
    }
   ],
   "source": [
    "- torch.sum(torch.log(sftmax(_netout)) * _y_onehot)/5 "
   ]
  },
  {
   "cell_type": "markdown",
   "id": "170ee16c-2a2b-46a4-8992-59b06f00a0bc",
   "metadata": {
    "id": "170ee16c-2a2b-46a4-8992-59b06f00a0bc"
   },
   "source": [
    "`-` 계산하는 방법도 중요한데 torch.nn.CrossEntropyLoss() 에는 **softmax 활성화함수가 이미 포함**되어 있다는 것을 확인하는 것이 더 중요함. "
   ]
  },
  {
   "cell_type": "markdown",
   "id": "b3962ffb-9baf-4b37-95df-bf8420dc0db6",
   "metadata": {
    "id": "b3962ffb-9baf-4b37-95df-bf8420dc0db6"
   },
   "source": [
    "`-` 따라서 torch.nn.CrossEntropyLoss() 는 사실 torch.nn.CEWithSoftmaxLoss() 정도로 바꾸는 것이 더 말이 되는 것 같다. "
   ]
  },
  {
   "cell_type": "markdown",
   "id": "2dcee925-e521-4306-bca3-3928372bcbd4",
   "metadata": {
    "id": "2dcee925-e521-4306-bca3-3928372bcbd4"
   },
   "source": [
    "#### `#` ***torch.nn.CrossEntropyLoss() 손계산: lenght $n$ vertor version***"
   ]
  },
  {
   "cell_type": "code",
   "execution_count": 56,
   "id": "efc28a60-3165-4270-b510-867ad3debef1",
   "metadata": {
    "id": "efc28a60-3165-4270-b510-867ad3debef1",
    "outputId": "313f77b5-2461-491e-ad69-6d5af6c1bc14"
   },
   "outputs": [
    {
     "data": {
      "text/plain": [
       "tensor([[-2.0000, -2.0000,  0.0000],\n",
       "        [ 3.1400,  3.1400,  3.1400],\n",
       "        [ 0.0000,  0.0000,  2.0000],\n",
       "        [ 2.0000,  2.0000,  4.0000],\n",
       "        [ 0.0000,  0.0000,  0.0000]])"
      ]
     },
     "execution_count": 56,
     "metadata": {},
     "output_type": "execute_result"
    }
   ],
   "source": [
    "_netout "
   ]
  },
  {
   "cell_type": "code",
   "execution_count": 57,
   "id": "fd6d1245-8b10-47e3-add9-fef5331bad6c",
   "metadata": {
    "id": "fd6d1245-8b10-47e3-add9-fef5331bad6c"
   },
   "outputs": [],
   "source": [
    "_y = torch.tensor([2,1,2,2,0])"
   ]
  },
  {
   "cell_type": "markdown",
   "id": "37566c63-a993-4f6b-8637-279847cb0ad5",
   "metadata": {},
   "source": [
    "원핫인코딩 안하면 int로 만든 다음에 넣기, float은 또 계산되지 않음!"
   ]
  },
  {
   "cell_type": "code",
   "execution_count": 58,
   "id": "ee47f0d1-94cc-419c-b971-3b7bcd63904f",
   "metadata": {
    "id": "ee47f0d1-94cc-419c-b971-3b7bcd63904f",
    "outputId": "75256124-5ec1-42f6-f6ff-367ec5b7f061"
   },
   "outputs": [
    {
     "data": {
      "text/plain": [
       "tensor(0.5832)"
      ]
     },
     "execution_count": 58,
     "metadata": {},
     "output_type": "execute_result"
    }
   ],
   "source": [
    "loss_fn(_netout,_y)"
   ]
  },
  {
   "cell_type": "markdown",
   "id": "b687f520-f1ac-4651-8c14-519a3cc1be4a",
   "metadata": {
    "id": "b687f520-f1ac-4651-8c14-519a3cc1be4a"
   },
   "source": [
    "### 실습: $k=2$로 두면 이진분류도 가능"
   ]
  },
  {
   "cell_type": "markdown",
   "id": "47b82744-6adc-4500-893d-1e3a980dc34e",
   "metadata": {
    "id": "47b82744-6adc-4500-893d-1e3a980dc34e"
   },
   "source": [
    "`-` download data "
   ]
  },
  {
   "cell_type": "code",
   "execution_count": 59,
   "id": "5a1afb86-1e56-4618-9379-d7156a8d5ed4",
   "metadata": {
    "id": "5a1afb86-1e56-4618-9379-d7156a8d5ed4"
   },
   "outputs": [],
   "source": [
    "path = untar_data(URLs.MNIST) "
   ]
  },
  {
   "cell_type": "markdown",
   "id": "e954fb96-323a-4bbe-ad89-17e3f1e14de4",
   "metadata": {
    "id": "e954fb96-323a-4bbe-ad89-17e3f1e14de4"
   },
   "source": [
    "training "
   ]
  },
  {
   "cell_type": "code",
   "execution_count": 60,
   "id": "efe098d8-7a3a-4f83-8241-a4fa6cc4e14e",
   "metadata": {
    "id": "efe098d8-7a3a-4f83-8241-a4fa6cc4e14e",
    "tags": []
   },
   "outputs": [],
   "source": [
    "X0 = torch.stack([torchvision.io.read_image(str(fname)) for fname in (path/'training/0').ls()])\n",
    "X1 = torch.stack([torchvision.io.read_image(str(fname)) for fname in (path/'training/1').ls()])\n",
    "X = torch.concat([X0,X1])/255\n",
    "y = torch.tensor([0]*len(X0) + [1]*len(X1))#.reshape(-1,1)"
   ]
  },
  {
   "cell_type": "code",
   "execution_count": 61,
   "id": "3ebfed2c-1c94-4a88-8dd2-283df0b5c744",
   "metadata": {
    "id": "3ebfed2c-1c94-4a88-8dd2-283df0b5c744"
   },
   "outputs": [],
   "source": [
    "y_onehot = torch.nn.functional.one_hot(y).float()\n",
    "#y_onehot = torch.tensor(list(map(lambda x: [1,0] if x==0 else [0,1],y))).float()"
   ]
  },
  {
   "cell_type": "markdown",
   "id": "d605ae64-a6a0-4749-bac1-6824f0450f63",
   "metadata": {},
   "source": [
    "**float**만들어주기 원핫인코딩이기"
   ]
  },
  {
   "cell_type": "markdown",
   "id": "cd1c7cb6-8bec-4c34-972f-58f87d6404bf",
   "metadata": {
    "id": "cd1c7cb6-8bec-4c34-972f-58f87d6404bf"
   },
   "source": [
    "test"
   ]
  },
  {
   "cell_type": "code",
   "execution_count": 62,
   "id": "43772bc8-f339-441b-ab21-d03ec24aa0b7",
   "metadata": {
    "id": "43772bc8-f339-441b-ab21-d03ec24aa0b7",
    "tags": []
   },
   "outputs": [],
   "source": [
    "X0 = torch.stack([torchvision.io.read_image(str(fname)) for fname in (path/'testing/0').ls()])\n",
    "X1 = torch.stack([torchvision.io.read_image(str(fname)) for fname in (path/'testing/1').ls()])\n",
    "XX = torch.concat([X0,X1])/255\n",
    "yy = torch.tensor([0]*len(X0) + [1]*len(X1))#.reshape(-1,1)"
   ]
  },
  {
   "cell_type": "code",
   "execution_count": 63,
   "id": "0fde2cda-ea48-45f7-a5e7-814a212078c1",
   "metadata": {
    "id": "0fde2cda-ea48-45f7-a5e7-814a212078c1"
   },
   "outputs": [],
   "source": [
    "yy_onehot = torch.nn.functional.one_hot(yy).float()\n",
    "#yy_onehot = torch.tensor(list(map(lambda x: [1,0] if x==0 else [0,1],yy))).float()"
   ]
  },
  {
   "cell_type": "markdown",
   "id": "4722ead7-41de-4907-a2d8-0772b767c402",
   "metadata": {
    "id": "4722ead7-41de-4907-a2d8-0772b767c402"
   },
   "source": [
    "(1) dls "
   ]
  },
  {
   "cell_type": "code",
   "execution_count": 64,
   "id": "9ce8cf2a-7bac-41cb-8593-a30feed7bbb0",
   "metadata": {
    "id": "9ce8cf2a-7bac-41cb-8593-a30feed7bbb0"
   },
   "outputs": [],
   "source": [
    "ds1 = torch.utils.data.TensorDataset(X,y_onehot) \n",
    "ds2 = torch.utils.data.TensorDataset(XX,yy_onehot) \n",
    "dl1 = torch.utils.data.DataLoader(ds1,batch_size=1862) # 에폭당 11번 iter\n",
    "dl2 = torch.utils.data.DataLoader(ds2,batch_size=3147) # \n",
    "dls = DataLoaders(dl1,dl2) "
   ]
  },
  {
   "cell_type": "markdown",
   "id": "d599b87f-05a7-40b4-89bf-185017e8c301",
   "metadata": {
    "id": "d599b87f-05a7-40b4-89bf-185017e8c301"
   },
   "source": [
    "(2) lrnr "
   ]
  },
  {
   "cell_type": "code",
   "execution_count": 65,
   "id": "3a1ffbaf-fce3-41c0-8c4c-e415b4d4b07b",
   "metadata": {
    "id": "3a1ffbaf-fce3-41c0-8c4c-e415b4d4b07b"
   },
   "outputs": [],
   "source": [
    "net = torch.nn.Sequential(\n",
    "    torch.nn.Conv2d(1,16,(5,5)),\n",
    "    torch.nn.ReLU(),\n",
    "    torch.nn.MaxPool2d((2,2)),\n",
    "    torch.nn.Flatten(),\n",
    "    torch.nn.Linear(2304,2)\n",
    "    #torch.nn.Softmax()\n",
    ")\n",
    "loss_fn = torch.nn.CrossEntropyLoss()\n",
    "lrnr = Learner(dls,net,loss_fn) "
   ]
  },
  {
   "cell_type": "markdown",
   "id": "39505c6d-ff93-41a2-895c-3d0d6116a128",
   "metadata": {
    "id": "39505c6d-ff93-41a2-895c-3d0d6116a128"
   },
   "source": [
    "(3) 학습"
   ]
  },
  {
   "cell_type": "code",
   "execution_count": 66,
   "id": "9408185d-f96f-4879-b848-7f6f6a85b3e1",
   "metadata": {
    "id": "9408185d-f96f-4879-b848-7f6f6a85b3e1",
    "outputId": "20ea789c-506b-403e-95ad-9d35f31fa358"
   },
   "outputs": [
    {
     "data": {
      "text/html": [
       "<table border=\"1\" class=\"dataframe\">\n",
       "  <thead>\n",
       "    <tr style=\"text-align: left;\">\n",
       "      <th>epoch</th>\n",
       "      <th>train_loss</th>\n",
       "      <th>valid_loss</th>\n",
       "      <th>time</th>\n",
       "    </tr>\n",
       "  </thead>\n",
       "  <tbody>\n",
       "    <tr>\n",
       "      <td>0</td>\n",
       "      <td>1.233556</td>\n",
       "      <td>0.787265</td>\n",
       "      <td>00:00</td>\n",
       "    </tr>\n",
       "    <tr>\n",
       "      <td>1</td>\n",
       "      <td>0.829398</td>\n",
       "      <td>0.433228</td>\n",
       "      <td>00:00</td>\n",
       "    </tr>\n",
       "    <tr>\n",
       "      <td>2</td>\n",
       "      <td>0.650216</td>\n",
       "      <td>0.319202</td>\n",
       "      <td>00:00</td>\n",
       "    </tr>\n",
       "    <tr>\n",
       "      <td>3</td>\n",
       "      <td>0.540207</td>\n",
       "      <td>0.183107</td>\n",
       "      <td>00:00</td>\n",
       "    </tr>\n",
       "    <tr>\n",
       "      <td>4</td>\n",
       "      <td>0.444210</td>\n",
       "      <td>0.113277</td>\n",
       "      <td>00:00</td>\n",
       "    </tr>\n",
       "    <tr>\n",
       "      <td>5</td>\n",
       "      <td>0.365939</td>\n",
       "      <td>0.074700</td>\n",
       "      <td>00:00</td>\n",
       "    </tr>\n",
       "    <tr>\n",
       "      <td>6</td>\n",
       "      <td>0.303410</td>\n",
       "      <td>0.049914</td>\n",
       "      <td>00:00</td>\n",
       "    </tr>\n",
       "    <tr>\n",
       "      <td>7</td>\n",
       "      <td>0.253710</td>\n",
       "      <td>0.035714</td>\n",
       "      <td>00:00</td>\n",
       "    </tr>\n",
       "    <tr>\n",
       "      <td>8</td>\n",
       "      <td>0.214157</td>\n",
       "      <td>0.027470</td>\n",
       "      <td>00:00</td>\n",
       "    </tr>\n",
       "    <tr>\n",
       "      <td>9</td>\n",
       "      <td>0.182333</td>\n",
       "      <td>0.022121</td>\n",
       "      <td>00:00</td>\n",
       "    </tr>\n",
       "  </tbody>\n",
       "</table>"
      ],
      "text/plain": [
       "<IPython.core.display.HTML object>"
      ]
     },
     "metadata": {},
     "output_type": "display_data"
    }
   ],
   "source": [
    "lrnr.fit(10) "
   ]
  },
  {
   "cell_type": "markdown",
   "id": "76863d6d-b5d2-4e92-a49e-c2cbdc71f2e4",
   "metadata": {
    "id": "76863d6d-b5d2-4e92-a49e-c2cbdc71f2e4"
   },
   "source": [
    "(4) 예측 및 시각화 "
   ]
  },
  {
   "cell_type": "code",
   "execution_count": 67,
   "id": "78883d9a-3add-4a32-ab47-8e44fe47291a",
   "metadata": {
    "id": "78883d9a-3add-4a32-ab47-8e44fe47291a",
    "outputId": "94e4e448-eb94-4ced-b597-032983cdbd75"
   },
   "outputs": [
    {
     "data": {
      "text/plain": [
       "Sequential(\n",
       "  (0): Conv2d(1, 16, kernel_size=(5, 5), stride=(1, 1))\n",
       "  (1): ReLU()\n",
       "  (2): MaxPool2d(kernel_size=(2, 2), stride=(2, 2), padding=0, dilation=1, ceil_mode=False)\n",
       "  (3): Flatten(start_dim=1, end_dim=-1)\n",
       "  (4): Linear(in_features=2304, out_features=2, bias=True)\n",
       ")"
      ]
     },
     "execution_count": 67,
     "metadata": {},
     "output_type": "execute_result"
    }
   ],
   "source": [
    "lrnr.model.to(\"cpu\")"
   ]
  },
  {
   "cell_type": "code",
   "execution_count": 70,
   "id": "db465521-8f39-4d38-8c23-380f3ef2f455",
   "metadata": {
    "id": "db465521-8f39-4d38-8c23-380f3ef2f455",
    "outputId": "83095449-d402-45f8-b1dc-5c58d13bbaea"
   },
   "outputs": [
    {
     "data": {
      "text/plain": [
       "Text(0.5, 0.98, 'Training Set')"
      ]
     },
     "execution_count": 70,
     "metadata": {},
     "output_type": "execute_result"
    },
    {
     "data": {
      "image/png": "[encoded data removed]",
      "text/plain": [
       "<Figure size 576x288 with 2 Axes>"
      ]
     },
     "metadata": {
      "needs_background": "light"
     },
     "output_type": "display_data"
    }
   ],
   "source": [
    "sftmax = torch.nn.Softmax(dim=1) \n",
    "sig = torch.nn.Sigmoid()\n",
    "fig,ax = plt.subplots(1,2,figsize=(8,4))\n",
    "ax[0].plot(net(X).diff(axis=1).data,',',color=\"C1\") # u2-u1\n",
    "ax[1].plot(y)\n",
    "ax[1].plot(sftmax(net(X))[:,1].data,',')\n",
    "#ax[1].plot(sig(net(X).diff(axis=1)).data,',')\n",
    "fig.suptitle(\"Training Set\",size=15)"
   ]
  },
  {
   "cell_type": "code",
   "execution_count": 71,
   "id": "92cd2812-943d-4f0c-bbbf-f36387528058",
   "metadata": {
    "id": "92cd2812-943d-4f0c-bbbf-f36387528058",
    "outputId": "6563156d-b0d3-442d-b4eb-c8122a647b32"
   },
   "outputs": [
    {
     "data": {
      "text/plain": [
       "Text(0.5, 0.98, 'Test Set')"
      ]
     },
     "execution_count": 71,
     "metadata": {},
     "output_type": "execute_result"
    },
    {
     "data": {
      "image/png": "[encoded data removed]",
      "text/plain": [
       "<Figure size 576x288 with 2 Axes>"
      ]
     },
     "metadata": {
      "needs_background": "light"
     },
     "output_type": "display_data"
    }
   ],
   "source": [
    "fig,ax = plt.subplots(1,2,figsize=(8,4))\n",
    "ax[0].plot(net(XX).diff(axis=1).data,',',color=\"C1\")\n",
    "ax[1].plot(yy)\n",
    "ax[1].plot(sftmax(net(XX))[:,1].data,',')\n",
    "#ax[1].plot(sig(net(XX).diff(axis=1)).data,',')\n",
    "fig.suptitle(\"Test Set\",size=15)"
   ]
  },
  {
   "cell_type": "markdown",
   "id": "c4f2f0fa-8955-4849-b5c7-124404431433",
   "metadata": {
    "id": "c4f2f0fa-8955-4849-b5c7-124404431433"
   },
   "source": [
    "`-` note: softmax(u1,u2)=[sig(u1-u2), sig(u2-u1)]=[1-sig(u2-u1),sig(u2-u1)]"
   ]
  },
  {
   "cell_type": "markdown",
   "id": "18b7d837-5267-4a83-8a5d-2417ea9324e2",
   "metadata": {},
   "source": [
    "$\\frac{1}{e^{u_1}+e^{u_2}} \\to \\frac{e^{u_1-u_2}}{e^{u_1-u_2}+e^{u_2-u_2}} \\to \\frac{e^{u_1-u_2}}{e^{u_1-u_2}+1} \\to sig(u_2-u_1)$"
   ]
  },
  {
   "cell_type": "markdown",
   "id": "3f9aedf8-b37c-4746-9b6c-491dfb0dbb69",
   "metadata": {
    "id": "3f9aedf8-b37c-4746-9b6c-491dfb0dbb69"
   },
   "source": [
    "### 공부: 이진분류에서 소프트맥스 vs 시그모이드 "
   ]
  },
  {
   "cell_type": "markdown",
   "id": "d8de9640-53de-4062-94fb-8e887c7447cd",
   "metadata": {
    "id": "d8de9640-53de-4062-94fb-8e887c7447cd"
   },
   "source": [
    "`-` 이진분류문제 = \"y=0 or y=1\" 을 맞추는 문제 = 성공과 실패를 맞추는 문제 = 성공확률과 실패확률을 추정하는 문제 "
   ]
  },
  {
   "cell_type": "markdown",
   "id": "8013c368-45ca-4225-b9dc-065f662e03e4",
   "metadata": {
    "id": "8013c368-45ca-4225-b9dc-065f662e03e4"
   },
   "source": [
    "`-` softmax, sigmoid\n",
    "- softmax: (실패확률, 성공확률) 꼴로 결과가 나옴 // softmax는 실패확률과 성공확률을 둘다 추정한다. \n",
    "- sigmoid: (성공확률) 꼴로 결과가 나옴 // sigmoid는 성공확률만 추정한다. "
   ]
  },
  {
   "cell_type": "markdown",
   "id": "b8ef661b-ef9d-4fc4-99f6-e6a8ca8fc837",
   "metadata": {
    "id": "b8ef661b-ef9d-4fc4-99f6-e6a8ca8fc837"
   },
   "source": [
    "`-` 그런데 \"실패확률=1-성공확률\" 이므로 사실상 둘은 같은걸 추정하는 셈이다. (성공확률만 추정하면 실패확률은 저절로 추정되니까) "
   ]
  },
  {
   "cell_type": "markdown",
   "id": "dfeeda2a-e00e-441c-b6c7-d03f1d12f774",
   "metadata": {
    "id": "dfeeda2a-e00e-441c-b6c7-d03f1d12f774"
   },
   "source": [
    "`-` 아래는 사실상 같은 모형이다. "
   ]
  },
  {
   "cell_type": "code",
   "execution_count": 72,
   "id": "a75cb232-1f02-4d03-96ea-0834337ef0e7",
   "metadata": {
    "id": "a75cb232-1f02-4d03-96ea-0834337ef0e7",
    "outputId": "2ec896a1-d571-49a6-95ed-9154f4a9af39"
   },
   "outputs": [
    {
     "data": {
      "image/png": "[encoded data removed]",
      "text/plain": [
       "<graphviz.sources.Source at 0x7f371c360310>"
      ]
     },
     "execution_count": 72,
     "metadata": {},
     "output_type": "execute_result"
    }
   ],
   "source": [
    "#collapse\n",
    "gv('''\n",
    "splines=line\n",
    "subgraph cluster_1{\n",
    "    style=filled;\n",
    "    color=lightgrey;\n",
    "    \"?\"\n",
    "    \"??\"\n",
    "    \"..\"\n",
    "    \"???\"\n",
    "    label = \"Layer ?\"\n",
    "}\n",
    "subgraph cluster_2{\n",
    "    style=filled;\n",
    "    color=lightgrey;\n",
    "    \"?\" -> \"node1\"\n",
    "    \"??\" -> \"node1\"\n",
    "    \"..\" -> \"node1\"\n",
    "    \"???\" -> \"node1\"\n",
    "    \n",
    "    \"?\" -> \"node2\"\n",
    "    \"??\" -> \"node2\"\n",
    "    \"..\" -> \"node2\"\n",
    "    \"???\" -> \"node2\"\n",
    "    \n",
    "    \"?\" -> \"...\"\n",
    "    \"??\" -> \"...\"\n",
    "    \"..\" -> \"...\"\n",
    "    \"???\" -> \"...\"\n",
    "    \n",
    "    \"?\" -> \"node2304\"\n",
    "    \"??\" -> \"node2304\"\n",
    "    \"..\" -> \"node2304\"\n",
    "    \"???\" -> \"node2304\"\n",
    "\n",
    "    label = \"Layer: ReLU\"\n",
    "}\n",
    "subgraph cluster_3{\n",
    "    style=filled;\n",
    "    color=lightgrey;\n",
    "    \"node1\" -> \"y1\"\n",
    "    \"node2\" -> \"y1\"\n",
    "    \"...\" -> \"y1\"\n",
    "    \"node2304\" -> \"y1\"\n",
    "    \n",
    "    \"node1\" -> \"y2\"\n",
    "    \"node2\" -> \"y2\"\n",
    "    \"...\" -> \"y2\"\n",
    "    \"node2304\" -> \"y2\"    \n",
    "    label = \"Layer: Softmax\"\n",
    "}\n",
    "''')"
   ]
  },
  {
   "cell_type": "code",
   "execution_count": 73,
   "id": "777fd535-4590-41c2-81b7-a7b37aa52fc1",
   "metadata": {
    "id": "777fd535-4590-41c2-81b7-a7b37aa52fc1",
    "outputId": "614a6e4b-6f44-47fa-a822-41c03facccde"
   },
   "outputs": [
    {
     "data": {
      "image/png": "[encoded data removed]",
      "text/plain": [
       "<graphviz.sources.Source at 0x7f371c36fdc0>"
      ]
     },
     "execution_count": 73,
     "metadata": {},
     "output_type": "execute_result"
    }
   ],
   "source": [
    "#collapse\n",
    "gv('''\n",
    "splines=line\n",
    "subgraph cluster_1{\n",
    "    style=filled;\n",
    "    color=lightgrey;\n",
    "    \"?\"\n",
    "    \"??\"\n",
    "    \"..\"\n",
    "    \"???\"\n",
    "    label = \"Layer ?\"\n",
    "}\n",
    "subgraph cluster_2{\n",
    "    style=filled;\n",
    "    color=lightgrey;\n",
    "    \"?\" -> \"node1\"\n",
    "    \"??\" -> \"node1\"\n",
    "    \"..\" -> \"node1\"\n",
    "    \"???\" -> \"node1\"\n",
    "    \n",
    "    \"?\" -> \"node2\"\n",
    "    \"??\" -> \"node2\"\n",
    "    \"..\" -> \"node2\"\n",
    "    \"???\" -> \"node2\"\n",
    "    \n",
    "    \"?\" -> \"...\"\n",
    "    \"??\" -> \"...\"\n",
    "    \"..\" -> \"...\"\n",
    "    \"???\" -> \"...\"\n",
    "    \n",
    "    \"?\" -> \"node2304\"\n",
    "    \"??\" -> \"node2304\"\n",
    "    \"..\" -> \"node2304\"\n",
    "    \"???\" -> \"node2304\"\n",
    "\n",
    "    label = \"Layer: ReLU\"\n",
    "}\n",
    "subgraph cluster_3{\n",
    "    style=filled;\n",
    "    color=lightgrey;\n",
    "    \"node1\" -> \"y\"\n",
    "    \"node2\" -> \"y\"\n",
    "    \"...\" -> \"y\"\n",
    "    \"node2304\" -> \"y\"\n",
    "    label = \"Layer: Sigmoid\"\n",
    "}\n",
    "''')"
   ]
  },
  {
   "cell_type": "markdown",
   "id": "5c80b76d-116e-47a1-8dae-153fa518cc55",
   "metadata": {
    "id": "5c80b76d-116e-47a1-8dae-153fa518cc55"
   },
   "source": [
    "`-` 둘은 사실상 같은 효과를 주는 모형인데 학습할 파라메터는 sigmoid의 경우가 더 적다. $\\to$ sigmoid를 사용하는 모형이 비용은 싸고(학습할 파라메터가 적음) 효과는 동일하다는 말 $\\to$ 이진분류 한정해서는 softmax를 쓰지말고 sigmoid를 써야함. \n",
    "- softmax가 갑자기 너무 안좋아보이는데 sigmoid는 k개의 클래스로 확장이 불가능한 반면 softmax는 확장이 용이하다는 장점이 있음 "
   ]
  },
  {
   "cell_type": "markdown",
   "id": "d1b43f28-8ac1-406e-9e38-480b974b50c3",
   "metadata": {
    "id": "d1b43f28-8ac1-406e-9e38-480b974b50c3"
   },
   "source": [
    "### 소프트맥스 vs 시그모이드 정리 "
   ]
  },
  {
   "cell_type": "markdown",
   "id": "7139e297-e9e2-49a0-860f-8cedc5d93090",
   "metadata": {
    "id": "7139e297-e9e2-49a0-860f-8cedc5d93090"
   },
   "source": [
    "`-` 결론 \n",
    "1. 소프트맥스는 시그모이드의 확장이다. \n",
    "2. 클래스의 수가 2개일 경우에는 (Sigmoid, BCEloss) 조합을 사용해야 하고 클래스의 수가 2개보다 클 경우에는 (Softmax, CrossEntropyLoss) 를 사용해야 한다. \n"
   ]
  },
  {
   "cell_type": "markdown",
   "id": "0bbde787-4d6c-43b8-ae65-2397bd216e31",
   "metadata": {
    "id": "0bbde787-4d6c-43b8-ae65-2397bd216e31"
   },
   "source": [
    "`-` 그런데 사실.. 클래스의 수가 2개일 경우일때 (Softmax, CrossEntropyLoss)를 사용해도 그렇게 큰일나는것은 아니다. (흑백이미지를 칼라잉크로 출력하는 느낌) "
   ]
  },
  {
   "cell_type": "markdown",
   "id": "f41b18e8-3132-47d3-a787-6d4af743470b",
   "metadata": {
    "id": "f41b18e8-3132-47d3-a787-6d4af743470b"
   },
   "source": [
    "***참고***\n",
    "\n",
    "|$y$|분포가정|마지막층의 활성화함수|손실함수|\n",
    "|:--:|:--:|:--:|:--:|\n",
    "|3.45, 4.43, ... (연속형) |정규분포|None (or Identity)|MSE|\n",
    "|0 or 1|이항분포 with $n=1$ (=베르누이) |Sigmoid| BCE|\n",
    "|[0,0,1], [0,1,0], [1,0,0]| 다항분포 with $n=1$|Softmax| Cross Entropy |"
   ]
  },
  {
   "cell_type": "markdown",
   "id": "75d2a7e9-0af0-4bf5-bfa0-a534503497b1",
   "metadata": {
    "id": "75d2a7e9-0af0-4bf5-bfa0-a534503497b1"
   },
   "source": [
    "## fastai metric 사용 "
   ]
  },
  {
   "cell_type": "markdown",
   "id": "3ad16bba-9a9d-419f-a94f-d5d3ed39735b",
   "metadata": {
    "id": "3ad16bba-9a9d-419f-a94f-d5d3ed39735b"
   },
   "source": [
    "### 데이터준비"
   ]
  },
  {
   "cell_type": "markdown",
   "id": "003e6427-1179-4f7b-8f63-efcfa292b66c",
   "metadata": {
    "id": "003e6427-1179-4f7b-8f63-efcfa292b66c"
   },
   "source": [
    "`-` download data "
   ]
  },
  {
   "cell_type": "code",
   "execution_count": 74,
   "id": "9149dbbb-84ee-41c1-bc95-c194873ff0cc",
   "metadata": {
    "id": "9149dbbb-84ee-41c1-bc95-c194873ff0cc"
   },
   "outputs": [],
   "source": [
    "path = untar_data(URLs.MNIST)"
   ]
  },
  {
   "cell_type": "markdown",
   "id": "8e1617de-3e7c-47f0-991c-49acbfb9a0a4",
   "metadata": {
    "id": "8e1617de-3e7c-47f0-991c-49acbfb9a0a4"
   },
   "source": [
    "`-` training set "
   ]
  },
  {
   "cell_type": "code",
   "execution_count": 75,
   "id": "bf21c291-cc90-4fad-adaf-907c29c7162c",
   "metadata": {
    "id": "bf21c291-cc90-4fad-adaf-907c29c7162c"
   },
   "outputs": [],
   "source": [
    "X0 = torch.stack([torchvision.io.read_image(str(fname)) for fname in (path/'training/0').ls()])\n",
    "X1 = torch.stack([torchvision.io.read_image(str(fname)) for fname in (path/'training/1').ls()])\n",
    "X = torch.concat([X0,X1])/255\n",
    "y = torch.tensor([0.0]*len(X0) + [1.0]*len(X1)).reshape(-1,1)"
   ]
  },
  {
   "cell_type": "markdown",
   "id": "faad1b20-9853-4754-9ea8-53eb3896ffa9",
   "metadata": {
    "id": "faad1b20-9853-4754-9ea8-53eb3896ffa9"
   },
   "source": [
    "`-` test set "
   ]
  },
  {
   "cell_type": "code",
   "execution_count": 76,
   "id": "d1e57ed8-d3e1-4a4d-89d0-9028cf5c0346",
   "metadata": {
    "id": "d1e57ed8-d3e1-4a4d-89d0-9028cf5c0346"
   },
   "outputs": [],
   "source": [
    "X0 = torch.stack([torchvision.io.read_image(str(fname)) for fname in (path/'testing/0').ls()])\n",
    "X1 = torch.stack([torchvision.io.read_image(str(fname)) for fname in (path/'testing/1').ls()])\n",
    "XX = torch.concat([X0,X1])/255\n",
    "yy = torch.tensor([0.0]*len(X0) + [1.0]*len(X1)).reshape(-1,1)"
   ]
  },
  {
   "cell_type": "code",
   "execution_count": 77,
   "id": "2767367b-4861-41de-a4d6-e08b728e47cf",
   "metadata": {
    "id": "2767367b-4861-41de-a4d6-e08b728e47cf",
    "outputId": "a9ff591c-ffca-47f0-a631-6279af398b1c"
   },
   "outputs": [
    {
     "data": {
      "text/plain": [
       "(torch.Size([12665, 1, 28, 28]),\n",
       " torch.Size([2115, 1, 28, 28]),\n",
       " torch.Size([12665, 1]),\n",
       " torch.Size([2115, 1]))"
      ]
     },
     "execution_count": 77,
     "metadata": {},
     "output_type": "execute_result"
    }
   ],
   "source": [
    "X.shape,XX.shape,y.shape,yy.shape"
   ]
  },
  {
   "cell_type": "markdown",
   "id": "a10343b1-ee38-4eff-889d-333c8c4cffa2",
   "metadata": {
    "id": "a10343b1-ee38-4eff-889d-333c8c4cffa2"
   },
   "source": [
    "### 사용자정의 메트릭이용 "
   ]
  },
  {
   "cell_type": "markdown",
   "id": "9b4cca54-bdc1-41d2-9de8-00b59d7fa061",
   "metadata": {
    "id": "9b4cca54-bdc1-41d2-9de8-00b59d7fa061"
   },
   "source": [
    "(1) dls 만들기"
   ]
  },
  {
   "cell_type": "code",
   "execution_count": 78,
   "id": "bfe0f20d-8980-4937-99bc-47ae571548e9",
   "metadata": {
    "id": "bfe0f20d-8980-4937-99bc-47ae571548e9"
   },
   "outputs": [],
   "source": [
    "ds1 = torch.utils.data.TensorDataset(X,y)\n",
    "ds2 = torch.utils.data.TensorDataset(XX,yy)\n",
    "dl1 = torch.utils.data.DataLoader(ds1,batch_size=1266) \n",
    "dl2 = torch.utils.data.DataLoader(ds2,batch_size=2115) \n",
    "dls = DataLoaders(dl1,dl2) "
   ]
  },
  {
   "cell_type": "markdown",
   "id": "655352a9-9086-47c5-afab-0c674dc87282",
   "metadata": {
    "id": "655352a9-9086-47c5-afab-0c674dc87282"
   },
   "source": [
    "(2) lrnr 생성 "
   ]
  },
  {
   "cell_type": "code",
   "execution_count": 79,
   "id": "b309d1a1-6aa5-47a1-beee-d03e3d1d3134",
   "metadata": {
    "id": "b309d1a1-6aa5-47a1-beee-d03e3d1d3134"
   },
   "outputs": [],
   "source": [
    "net = torch.nn.Sequential(\n",
    "    torch.nn.Conv2d(1,16,(5,5)),\n",
    "    torch.nn.ReLU(),\n",
    "    torch.nn.MaxPool2d((2,2)),\n",
    "    torch.nn.Flatten(),\n",
    "    torch.nn.Linear(2304,1),\n",
    "    torch.nn.Sigmoid()\n",
    ")\n",
    "loss_fn = torch.nn.BCELoss() "
   ]
  },
  {
   "cell_type": "code",
   "execution_count": 80,
   "id": "54709edc-2ba4-4a47-a441-05923bdc439f",
   "metadata": {
    "id": "54709edc-2ba4-4a47-a441-05923bdc439f"
   },
   "outputs": [],
   "source": [
    "def acc(yhat,y) : \n",
    "    return ((yhat>0.5)==y).float().mean()"
   ]
  },
  {
   "cell_type": "code",
   "execution_count": 81,
   "id": "12b7f206-7ee7-4b44-9e39-41ffb0e1c584",
   "metadata": {
    "id": "12b7f206-7ee7-4b44-9e39-41ffb0e1c584"
   },
   "outputs": [],
   "source": [
    "def err(yhat,y):\n",
    "    return 1-((yhat>0.5)==y).float().mean()"
   ]
  },
  {
   "cell_type": "code",
   "execution_count": 82,
   "id": "9cbbfc1a-6c88-4e2f-b564-c00307743872",
   "metadata": {
    "id": "9cbbfc1a-6c88-4e2f-b564-c00307743872"
   },
   "outputs": [],
   "source": [
    "lrnr = Learner(dls,net,loss_fn,metrics=[acc,err])"
   ]
  },
  {
   "cell_type": "markdown",
   "id": "0b1bda94-d8bb-47cb-8ec4-42305fed5e7e",
   "metadata": {
    "id": "0b1bda94-d8bb-47cb-8ec4-42305fed5e7e"
   },
   "source": [
    "(3) 학습"
   ]
  },
  {
   "cell_type": "code",
   "execution_count": 83,
   "id": "0b6b130b-bdec-4d28-8ca1-fba498a3ad93",
   "metadata": {
    "id": "0b6b130b-bdec-4d28-8ca1-fba498a3ad93",
    "outputId": "65970089-cdc4-44ce-fe4e-e337766907d0"
   },
   "outputs": [
    {
     "data": {
      "text/html": [
       "<table border=\"1\" class=\"dataframe\">\n",
       "  <thead>\n",
       "    <tr style=\"text-align: left;\">\n",
       "      <th>epoch</th>\n",
       "      <th>train_loss</th>\n",
       "      <th>valid_loss</th>\n",
       "      <th>acc</th>\n",
       "      <th>err</th>\n",
       "      <th>time</th>\n",
       "    </tr>\n",
       "  </thead>\n",
       "  <tbody>\n",
       "    <tr>\n",
       "      <td>0</td>\n",
       "      <td>1.012566</td>\n",
       "      <td>0.676096</td>\n",
       "      <td>0.463357</td>\n",
       "      <td>0.536643</td>\n",
       "      <td>00:00</td>\n",
       "    </tr>\n",
       "    <tr>\n",
       "      <td>1</td>\n",
       "      <td>0.738655</td>\n",
       "      <td>0.477148</td>\n",
       "      <td>0.994799</td>\n",
       "      <td>0.005201</td>\n",
       "      <td>00:00</td>\n",
       "    </tr>\n",
       "    <tr>\n",
       "      <td>2</td>\n",
       "      <td>0.603908</td>\n",
       "      <td>0.335415</td>\n",
       "      <td>0.985816</td>\n",
       "      <td>0.014184</td>\n",
       "      <td>00:00</td>\n",
       "    </tr>\n",
       "    <tr>\n",
       "      <td>3</td>\n",
       "      <td>0.497049</td>\n",
       "      <td>0.183633</td>\n",
       "      <td>0.995745</td>\n",
       "      <td>0.004255</td>\n",
       "      <td>00:00</td>\n",
       "    </tr>\n",
       "    <tr>\n",
       "      <td>4</td>\n",
       "      <td>0.394664</td>\n",
       "      <td>0.097668</td>\n",
       "      <td>0.995745</td>\n",
       "      <td>0.004255</td>\n",
       "      <td>00:00</td>\n",
       "    </tr>\n",
       "    <tr>\n",
       "      <td>5</td>\n",
       "      <td>0.309929</td>\n",
       "      <td>0.056333</td>\n",
       "      <td>0.995745</td>\n",
       "      <td>0.004255</td>\n",
       "      <td>00:00</td>\n",
       "    </tr>\n",
       "    <tr>\n",
       "      <td>6</td>\n",
       "      <td>0.244836</td>\n",
       "      <td>0.037147</td>\n",
       "      <td>0.995745</td>\n",
       "      <td>0.004255</td>\n",
       "      <td>00:00</td>\n",
       "    </tr>\n",
       "    <tr>\n",
       "      <td>7</td>\n",
       "      <td>0.195441</td>\n",
       "      <td>0.027278</td>\n",
       "      <td>0.995745</td>\n",
       "      <td>0.004255</td>\n",
       "      <td>00:00</td>\n",
       "    </tr>\n",
       "    <tr>\n",
       "      <td>8</td>\n",
       "      <td>0.157570</td>\n",
       "      <td>0.021531</td>\n",
       "      <td>0.995745</td>\n",
       "      <td>0.004255</td>\n",
       "      <td>00:00</td>\n",
       "    </tr>\n",
       "    <tr>\n",
       "      <td>9</td>\n",
       "      <td>0.128163</td>\n",
       "      <td>0.017795</td>\n",
       "      <td>0.997163</td>\n",
       "      <td>0.002837</td>\n",
       "      <td>00:00</td>\n",
       "    </tr>\n",
       "  </tbody>\n",
       "</table>"
      ],
      "text/plain": [
       "<IPython.core.display.HTML object>"
      ]
     },
     "metadata": {},
     "output_type": "display_data"
    }
   ],
   "source": [
    "lrnr.fit(10)"
   ]
  },
  {
   "cell_type": "markdown",
   "id": "78a5c659-7d82-480c-aaae-8c3e46e4dd54",
   "metadata": {
    "id": "78a5c659-7d82-480c-aaae-8c3e46e4dd54"
   },
   "source": [
    "(4) 예측\n",
    "\n",
    "- 생략"
   ]
  },
  {
   "cell_type": "markdown",
   "id": "d1c72003-7ed5-45c0-9e54-f09b99a5b337",
   "metadata": {
    "id": "d1c72003-7ed5-45c0-9e54-f09b99a5b337"
   },
   "source": [
    "### fastai지원 메트릭이용-- 잘못된사용 "
   ]
  },
  {
   "cell_type": "markdown",
   "id": "0ad7ac2e-5b8b-4a63-bb0c-d6bc603fa2c4",
   "metadata": {
    "id": "0ad7ac2e-5b8b-4a63-bb0c-d6bc603fa2c4"
   },
   "source": [
    "(1) dls 만들기"
   ]
  },
  {
   "cell_type": "code",
   "execution_count": 84,
   "id": "d1d2cfe0-bca6-417b-82df-f110d7eac22e",
   "metadata": {
    "id": "d1d2cfe0-bca6-417b-82df-f110d7eac22e"
   },
   "outputs": [],
   "source": [
    "ds1 = torch.utils.data.TensorDataset(X,y)\n",
    "ds2 = torch.utils.data.TensorDataset(XX,yy)\n",
    "dl1 = torch.utils.data.DataLoader(ds1,batch_size=1266) \n",
    "dl2 = torch.utils.data.DataLoader(ds2,batch_size=2115) \n",
    "dls = DataLoaders(dl1,dl2) "
   ]
  },
  {
   "cell_type": "markdown",
   "id": "50730a6b-9edb-428f-bd27-598edce24fb6",
   "metadata": {
    "id": "50730a6b-9edb-428f-bd27-598edce24fb6"
   },
   "source": [
    "(2) lrnr 생성 "
   ]
  },
  {
   "cell_type": "code",
   "execution_count": 85,
   "id": "f65b5074-dd5d-4043-a2c9-947f2a383aca",
   "metadata": {
    "id": "f65b5074-dd5d-4043-a2c9-947f2a383aca"
   },
   "outputs": [],
   "source": [
    "net = torch.nn.Sequential(\n",
    "    torch.nn.Conv2d(1,16,(5,5)),\n",
    "    torch.nn.ReLU(),\n",
    "    torch.nn.MaxPool2d((2,2)),\n",
    "    torch.nn.Flatten(),\n",
    "    torch.nn.Linear(2304,1),\n",
    "    torch.nn.Sigmoid()\n",
    ")\n",
    "loss_fn = torch.nn.BCELoss()\n",
    "lrnr = Learner(dls,net,loss_fn,metrics=[accuracy,error_rate])"
   ]
  },
  {
   "cell_type": "code",
   "execution_count": 86,
   "id": "b2905aa8-d964-49f6-9ec4-65bb51715e45",
   "metadata": {
    "id": "b2905aa8-d964-49f6-9ec4-65bb51715e45",
    "outputId": "0e6a2bbf-368e-4860-a964-14ca1a4b26c1"
   },
   "outputs": [
    {
     "data": {
      "text/plain": [
       "\u001b[0;31mSignature:\u001b[0m \u001b[0maccuracy\u001b[0m\u001b[0;34m(\u001b[0m\u001b[0minp\u001b[0m\u001b[0;34m,\u001b[0m \u001b[0mtarg\u001b[0m\u001b[0;34m,\u001b[0m \u001b[0maxis\u001b[0m\u001b[0;34m=\u001b[0m\u001b[0;34m-\u001b[0m\u001b[0;36m1\u001b[0m\u001b[0;34m)\u001b[0m\u001b[0;34m\u001b[0m\u001b[0;34m\u001b[0m\u001b[0m\n",
       "\u001b[0;31mSource:\u001b[0m   \n",
       "\u001b[0;32mdef\u001b[0m \u001b[0maccuracy\u001b[0m\u001b[0;34m(\u001b[0m\u001b[0minp\u001b[0m\u001b[0;34m,\u001b[0m \u001b[0mtarg\u001b[0m\u001b[0;34m,\u001b[0m \u001b[0maxis\u001b[0m\u001b[0;34m=\u001b[0m\u001b[0;34m-\u001b[0m\u001b[0;36m1\u001b[0m\u001b[0;34m)\u001b[0m\u001b[0;34m:\u001b[0m\u001b[0;34m\u001b[0m\n",
       "\u001b[0;34m\u001b[0m    \u001b[0;34m\"Compute accuracy with `targ` when `pred` is bs * n_classes\"\u001b[0m\u001b[0;34m\u001b[0m\n",
       "\u001b[0;34m\u001b[0m    \u001b[0mpred\u001b[0m\u001b[0;34m,\u001b[0m\u001b[0mtarg\u001b[0m \u001b[0;34m=\u001b[0m \u001b[0mflatten_check\u001b[0m\u001b[0;34m(\u001b[0m\u001b[0minp\u001b[0m\u001b[0;34m.\u001b[0m\u001b[0margmax\u001b[0m\u001b[0;34m(\u001b[0m\u001b[0mdim\u001b[0m\u001b[0;34m=\u001b[0m\u001b[0maxis\u001b[0m\u001b[0;34m)\u001b[0m\u001b[0;34m,\u001b[0m \u001b[0mtarg\u001b[0m\u001b[0;34m)\u001b[0m\u001b[0;34m\u001b[0m\n",
       "\u001b[0;34m\u001b[0m    \u001b[0;32mreturn\u001b[0m \u001b[0;34m(\u001b[0m\u001b[0mpred\u001b[0m \u001b[0;34m==\u001b[0m \u001b[0mtarg\u001b[0m\u001b[0;34m)\u001b[0m\u001b[0;34m.\u001b[0m\u001b[0mfloat\u001b[0m\u001b[0;34m(\u001b[0m\u001b[0;34m)\u001b[0m\u001b[0;34m.\u001b[0m\u001b[0mmean\u001b[0m\u001b[0;34m(\u001b[0m\u001b[0;34m)\u001b[0m\u001b[0;34m\u001b[0m\u001b[0;34m\u001b[0m\u001b[0m\n",
       "\u001b[0;31mFile:\u001b[0m      ~/anaconda3/envs/csy/lib/python3.8/site-packages/fastai/metrics.py\n",
       "\u001b[0;31mType:\u001b[0m      function\n"
      ]
     },
     "metadata": {},
     "output_type": "display_data"
    }
   ],
   "source": [
    "accuracy??"
   ]
  },
  {
   "cell_type": "code",
   "execution_count": 87,
   "id": "486b648a-705b-4db8-9a40-916acb4830cb",
   "metadata": {
    "id": "486b648a-705b-4db8-9a40-916acb4830cb",
    "outputId": "826f490d-c082-439f-b2b0-3c9f2ea69b9b"
   },
   "outputs": [
    {
     "data": {
      "text/plain": [
       "\u001b[0;31mSignature:\u001b[0m \u001b[0merror_rate\u001b[0m\u001b[0;34m(\u001b[0m\u001b[0minp\u001b[0m\u001b[0;34m,\u001b[0m \u001b[0mtarg\u001b[0m\u001b[0;34m,\u001b[0m \u001b[0maxis\u001b[0m\u001b[0;34m=\u001b[0m\u001b[0;34m-\u001b[0m\u001b[0;36m1\u001b[0m\u001b[0;34m)\u001b[0m\u001b[0;34m\u001b[0m\u001b[0;34m\u001b[0m\u001b[0m\n",
       "\u001b[0;31mSource:\u001b[0m   \n",
       "\u001b[0;32mdef\u001b[0m \u001b[0merror_rate\u001b[0m\u001b[0;34m(\u001b[0m\u001b[0minp\u001b[0m\u001b[0;34m,\u001b[0m \u001b[0mtarg\u001b[0m\u001b[0;34m,\u001b[0m \u001b[0maxis\u001b[0m\u001b[0;34m=\u001b[0m\u001b[0;34m-\u001b[0m\u001b[0;36m1\u001b[0m\u001b[0;34m)\u001b[0m\u001b[0;34m:\u001b[0m\u001b[0;34m\u001b[0m\n",
       "\u001b[0;34m\u001b[0m    \u001b[0;34m\"1 - `accuracy`\"\u001b[0m\u001b[0;34m\u001b[0m\n",
       "\u001b[0;34m\u001b[0m    \u001b[0;32mreturn\u001b[0m \u001b[0;36m1\u001b[0m \u001b[0;34m-\u001b[0m \u001b[0maccuracy\u001b[0m\u001b[0;34m(\u001b[0m\u001b[0minp\u001b[0m\u001b[0;34m,\u001b[0m \u001b[0mtarg\u001b[0m\u001b[0;34m,\u001b[0m \u001b[0maxis\u001b[0m\u001b[0;34m=\u001b[0m\u001b[0maxis\u001b[0m\u001b[0;34m)\u001b[0m\u001b[0;34m\u001b[0m\u001b[0;34m\u001b[0m\u001b[0m\n",
       "\u001b[0;31mFile:\u001b[0m      ~/anaconda3/envs/csy/lib/python3.8/site-packages/fastai/metrics.py\n",
       "\u001b[0;31mType:\u001b[0m      function\n"
      ]
     },
     "metadata": {},
     "output_type": "display_data"
    }
   ],
   "source": [
    "error_rate??"
   ]
  },
  {
   "cell_type": "markdown",
   "id": "bc2302ca-c7d7-4295-ab6d-4221adf06c4c",
   "metadata": {
    "id": "bc2302ca-c7d7-4295-ab6d-4221adf06c4c"
   },
   "source": [
    "(3) 학습"
   ]
  },
  {
   "cell_type": "code",
   "execution_count": 88,
   "id": "942bef4d-3e70-4f97-989e-7e832d626137",
   "metadata": {
    "id": "942bef4d-3e70-4f97-989e-7e832d626137",
    "outputId": "1600647e-f651-41d9-c17e-0613d9c3a0bf"
   },
   "outputs": [
    {
     "data": {
      "text/html": [
       "<table border=\"1\" class=\"dataframe\">\n",
       "  <thead>\n",
       "    <tr style=\"text-align: left;\">\n",
       "      <th>epoch</th>\n",
       "      <th>train_loss</th>\n",
       "      <th>valid_loss</th>\n",
       "      <th>accuracy</th>\n",
       "      <th>error_rate</th>\n",
       "      <th>time</th>\n",
       "    </tr>\n",
       "  </thead>\n",
       "  <tbody>\n",
       "    <tr>\n",
       "      <td>0</td>\n",
       "      <td>0.971997</td>\n",
       "      <td>0.616424</td>\n",
       "      <td>0.463357</td>\n",
       "      <td>0.536643</td>\n",
       "      <td>00:00</td>\n",
       "    </tr>\n",
       "    <tr>\n",
       "      <td>1</td>\n",
       "      <td>0.671642</td>\n",
       "      <td>0.380434</td>\n",
       "      <td>0.463357</td>\n",
       "      <td>0.536643</td>\n",
       "      <td>00:00</td>\n",
       "    </tr>\n",
       "    <tr>\n",
       "      <td>2</td>\n",
       "      <td>0.525948</td>\n",
       "      <td>0.232161</td>\n",
       "      <td>0.463357</td>\n",
       "      <td>0.536643</td>\n",
       "      <td>00:00</td>\n",
       "    </tr>\n",
       "    <tr>\n",
       "      <td>3</td>\n",
       "      <td>0.414203</td>\n",
       "      <td>0.123899</td>\n",
       "      <td>0.463357</td>\n",
       "      <td>0.536643</td>\n",
       "      <td>00:00</td>\n",
       "    </tr>\n",
       "    <tr>\n",
       "      <td>4</td>\n",
       "      <td>0.322394</td>\n",
       "      <td>0.071857</td>\n",
       "      <td>0.463357</td>\n",
       "      <td>0.536643</td>\n",
       "      <td>00:00</td>\n",
       "    </tr>\n",
       "    <tr>\n",
       "      <td>5</td>\n",
       "      <td>0.252299</td>\n",
       "      <td>0.045784</td>\n",
       "      <td>0.463357</td>\n",
       "      <td>0.536643</td>\n",
       "      <td>00:00</td>\n",
       "    </tr>\n",
       "    <tr>\n",
       "      <td>6</td>\n",
       "      <td>0.199783</td>\n",
       "      <td>0.032276</td>\n",
       "      <td>0.463357</td>\n",
       "      <td>0.536643</td>\n",
       "      <td>00:00</td>\n",
       "    </tr>\n",
       "    <tr>\n",
       "      <td>7</td>\n",
       "      <td>0.160118</td>\n",
       "      <td>0.024500</td>\n",
       "      <td>0.463357</td>\n",
       "      <td>0.536643</td>\n",
       "      <td>00:00</td>\n",
       "    </tr>\n",
       "    <tr>\n",
       "      <td>8</td>\n",
       "      <td>0.129659</td>\n",
       "      <td>0.019576</td>\n",
       "      <td>0.463357</td>\n",
       "      <td>0.536643</td>\n",
       "      <td>00:00</td>\n",
       "    </tr>\n",
       "    <tr>\n",
       "      <td>9</td>\n",
       "      <td>0.105914</td>\n",
       "      <td>0.016207</td>\n",
       "      <td>0.463357</td>\n",
       "      <td>0.536643</td>\n",
       "      <td>00:00</td>\n",
       "    </tr>\n",
       "  </tbody>\n",
       "</table>"
      ],
      "text/plain": [
       "<IPython.core.display.HTML object>"
      ]
     },
     "metadata": {},
     "output_type": "display_data"
    }
   ],
   "source": [
    "lrnr.fit(10)"
   ]
  },
  {
   "cell_type": "markdown",
   "id": "c09200b8-d082-4158-b495-55a8ac5303ea",
   "metadata": {
    "id": "c09200b8-d082-4158-b495-55a8ac5303ea"
   },
   "source": [
    "- 이상하다..? "
   ]
  },
  {
   "cell_type": "markdown",
   "id": "0c6d2497-6f07-4504-b6f9-1e8488cb258a",
   "metadata": {
    "id": "0c6d2497-6f07-4504-b6f9-1e8488cb258a"
   },
   "source": [
    "(4) 예측 "
   ]
  },
  {
   "cell_type": "code",
   "execution_count": 89,
   "id": "a072dbca-449b-4d58-905a-f9475befa5e4",
   "metadata": {
    "id": "a072dbca-449b-4d58-905a-f9475befa5e4",
    "outputId": "174eab24-7fb9-4b62-c701-a68b49357020"
   },
   "outputs": [
    {
     "data": {
      "text/plain": [
       "Sequential(\n",
       "  (0): Conv2d(1, 16, kernel_size=(5, 5), stride=(1, 1))\n",
       "  (1): ReLU()\n",
       "  (2): MaxPool2d(kernel_size=(2, 2), stride=(2, 2), padding=0, dilation=1, ceil_mode=False)\n",
       "  (3): Flatten(start_dim=1, end_dim=-1)\n",
       "  (4): Linear(in_features=2304, out_features=1, bias=True)\n",
       "  (5): Sigmoid()\n",
       ")"
      ]
     },
     "execution_count": 89,
     "metadata": {},
     "output_type": "execute_result"
    }
   ],
   "source": [
    "lrnr.model.to(\"cpu\")"
   ]
  },
  {
   "cell_type": "code",
   "execution_count": 90,
   "id": "dd9f238c-186e-4dc6-9c95-8700f86b07ba",
   "metadata": {
    "id": "dd9f238c-186e-4dc6-9c95-8700f86b07ba",
    "outputId": "3f6e775a-d287-4bf5-a57f-ce5a0c277b9b"
   },
   "outputs": [
    {
     "data": {
      "text/plain": [
       "[<matplotlib.lines.Line2D at 0x7f377ee9c9d0>]"
      ]
     },
     "execution_count": 90,
     "metadata": {},
     "output_type": "execute_result"
    },
    {
     "data": {
      "image/png": "[encoded data removed]",
      "text/plain": [
       "<Figure size 432x288 with 1 Axes>"
      ]
     },
     "metadata": {
      "needs_background": "light"
     },
     "output_type": "display_data"
    }
   ],
   "source": [
    "plt.plot(yy)\n",
    "plt.plot(lrnr.model(XX).data,'.')"
   ]
  },
  {
   "cell_type": "markdown",
   "id": "2d649ddc-fee0-44b2-926b-fa1b8bdf3e31",
   "metadata": {
    "id": "2d649ddc-fee0-44b2-926b-fa1b8bdf3e31"
   },
   "source": [
    "- 맞추는건 잘 맞추는데? "
   ]
  },
  {
   "cell_type": "markdown",
   "id": "ecf08808-7565-4051-be53-9db1774196dd",
   "metadata": {
    "id": "ecf08808-7565-4051-be53-9db1774196dd"
   },
   "source": [
    "### fastai지원 메트릭이용-- 올바른 사용(1)"
   ]
  },
  {
   "cell_type": "markdown",
   "id": "45b1ce1f-e91d-4ca3-bee1-fd4c85f884fa",
   "metadata": {
    "id": "45b1ce1f-e91d-4ca3-bee1-fd4c85f884fa"
   },
   "source": [
    "`-` 가정\n",
    "- X의 형태는 (n,채널,픽셀,픽셀)로 가정한다. \n",
    "- y의 형태는 (n,) 벡터이다. 즉 $n\\times 1$ 이 아니라 그냥 길이가 $n$인 벡터로 가정한다. \n",
    "- y의 각 원소는 0,1,2,3,... 와 같이 카테고리를 의미하는 숫자이어야 하며 이 숫자는 int형으로 저장되어야 한다. \n",
    "- loss function은 CrossEntropyLoss()를 쓴다고 가정한다. (따라서 네트워크의 최종레이어는 torch.nn.Linear(?,클래스의수) 꼴이 되어야 한다.)"
   ]
  },
  {
   "cell_type": "markdown",
   "id": "41b93e0e-5626-4448-83a4-e14f73c8fcda",
   "metadata": {
    "id": "41b93e0e-5626-4448-83a4-e14f73c8fcda"
   },
   "source": [
    "(1) dls 만들기"
   ]
  },
  {
   "cell_type": "markdown",
   "id": "7d0da09a-80b5-4c15-a496-d8a22d29ce30",
   "metadata": {},
   "source": [
    "지원하는 함수로 바꿔주기"
   ]
  },
  {
   "cell_type": "code",
   "execution_count": 91,
   "id": "2068e939-357c-40ea-b97e-d68acff113d3",
   "metadata": {
    "id": "2068e939-357c-40ea-b97e-d68acff113d3",
    "outputId": "f6402d0c-9b9d-4e1f-f331-45499dd031e7"
   },
   "outputs": [
    {
     "data": {
      "text/plain": [
       "(tensor([0, 0, 0,  ..., 1, 1, 1]), tensor([0, 0, 0,  ..., 1, 1, 1]))"
      ]
     },
     "execution_count": 91,
     "metadata": {},
     "output_type": "execute_result"
    }
   ],
   "source": [
    "y.to(torch.int64).reshape(-1),yy.to(torch.int64).reshape(-1)"
   ]
  },
  {
   "cell_type": "code",
   "execution_count": 92,
   "id": "b7c30bee-ed7e-471c-be52-2ee8004a74d5",
   "metadata": {
    "id": "b7c30bee-ed7e-471c-be52-2ee8004a74d5"
   },
   "outputs": [],
   "source": [
    "ds1 = torch.utils.data.TensorDataset(X,y.to(torch.int64).reshape(-1))\n",
    "ds2 = torch.utils.data.TensorDataset(XX,yy.to(torch.int64).reshape(-1))\n",
    "dl1 = torch.utils.data.DataLoader(ds1,batch_size=1266) \n",
    "dl2 = torch.utils.data.DataLoader(ds2,batch_size=2115) \n",
    "dls = DataLoaders(dl1,dl2) "
   ]
  },
  {
   "cell_type": "markdown",
   "id": "5d35d772-656d-4068-9d65-a7af8889c71f",
   "metadata": {
    "id": "5d35d772-656d-4068-9d65-a7af8889c71f"
   },
   "source": [
    "(2) lrnr 생성 "
   ]
  },
  {
   "cell_type": "code",
   "execution_count": 93,
   "id": "f6d910a3-c6be-4e02-af68-8e9b0f0c1d23",
   "metadata": {
    "id": "f6d910a3-c6be-4e02-af68-8e9b0f0c1d23"
   },
   "outputs": [],
   "source": [
    "net = torch.nn.Sequential(\n",
    "    torch.nn.Conv2d(1,16,(5,5)),\n",
    "    torch.nn.ReLU(),\n",
    "    torch.nn.MaxPool2d((2,2)),\n",
    "    torch.nn.Flatten(),\n",
    "    torch.nn.Linear(2304,2),\n",
    ")\n",
    "loss_fn = torch.nn.CrossEntropyLoss()\n",
    "lrnr = Learner(dls,net,loss_fn,metrics=[accuracy,error_rate])"
   ]
  },
  {
   "cell_type": "markdown",
   "id": "6af51242-ee1e-4090-b61b-6d109ab2b532",
   "metadata": {
    "id": "6af51242-ee1e-4090-b61b-6d109ab2b532"
   },
   "source": [
    "(3) 학습"
   ]
  },
  {
   "cell_type": "code",
   "execution_count": 94,
   "id": "6e1258a1-ad26-470a-b5c1-42cdeea76d69",
   "metadata": {
    "id": "6e1258a1-ad26-470a-b5c1-42cdeea76d69",
    "outputId": "8e38600d-2027-43c6-c145-94b861326df9"
   },
   "outputs": [
    {
     "data": {
      "text/html": [
       "<table border=\"1\" class=\"dataframe\">\n",
       "  <thead>\n",
       "    <tr style=\"text-align: left;\">\n",
       "      <th>epoch</th>\n",
       "      <th>train_loss</th>\n",
       "      <th>valid_loss</th>\n",
       "      <th>accuracy</th>\n",
       "      <th>error_rate</th>\n",
       "      <th>time</th>\n",
       "    </tr>\n",
       "  </thead>\n",
       "  <tbody>\n",
       "    <tr>\n",
       "      <td>0</td>\n",
       "      <td>1.038122</td>\n",
       "      <td>0.539247</td>\n",
       "      <td>0.463357</td>\n",
       "      <td>0.536643</td>\n",
       "      <td>00:00</td>\n",
       "    </tr>\n",
       "    <tr>\n",
       "      <td>1</td>\n",
       "      <td>0.621439</td>\n",
       "      <td>0.261176</td>\n",
       "      <td>0.977778</td>\n",
       "      <td>0.022222</td>\n",
       "      <td>00:00</td>\n",
       "    </tr>\n",
       "    <tr>\n",
       "      <td>2</td>\n",
       "      <td>0.451623</td>\n",
       "      <td>0.118811</td>\n",
       "      <td>0.989125</td>\n",
       "      <td>0.010875</td>\n",
       "      <td>00:00</td>\n",
       "    </tr>\n",
       "    <tr>\n",
       "      <td>3</td>\n",
       "      <td>0.333172</td>\n",
       "      <td>0.059299</td>\n",
       "      <td>0.995272</td>\n",
       "      <td>0.004728</td>\n",
       "      <td>00:00</td>\n",
       "    </tr>\n",
       "    <tr>\n",
       "      <td>4</td>\n",
       "      <td>0.250918</td>\n",
       "      <td>0.037678</td>\n",
       "      <td>0.996217</td>\n",
       "      <td>0.003783</td>\n",
       "      <td>00:00</td>\n",
       "    </tr>\n",
       "    <tr>\n",
       "      <td>5</td>\n",
       "      <td>0.193416</td>\n",
       "      <td>0.026810</td>\n",
       "      <td>0.996217</td>\n",
       "      <td>0.003783</td>\n",
       "      <td>00:00</td>\n",
       "    </tr>\n",
       "    <tr>\n",
       "      <td>6</td>\n",
       "      <td>0.152078</td>\n",
       "      <td>0.020631</td>\n",
       "      <td>0.996217</td>\n",
       "      <td>0.003783</td>\n",
       "      <td>00:00</td>\n",
       "    </tr>\n",
       "    <tr>\n",
       "      <td>7</td>\n",
       "      <td>0.121511</td>\n",
       "      <td>0.016605</td>\n",
       "      <td>0.996690</td>\n",
       "      <td>0.003310</td>\n",
       "      <td>00:00</td>\n",
       "    </tr>\n",
       "    <tr>\n",
       "      <td>8</td>\n",
       "      <td>0.098301</td>\n",
       "      <td>0.013718</td>\n",
       "      <td>0.997636</td>\n",
       "      <td>0.002364</td>\n",
       "      <td>00:00</td>\n",
       "    </tr>\n",
       "    <tr>\n",
       "      <td>9</td>\n",
       "      <td>0.080287</td>\n",
       "      <td>0.011546</td>\n",
       "      <td>0.998109</td>\n",
       "      <td>0.001891</td>\n",
       "      <td>00:00</td>\n",
       "    </tr>\n",
       "  </tbody>\n",
       "</table>"
      ],
      "text/plain": [
       "<IPython.core.display.HTML object>"
      ]
     },
     "metadata": {},
     "output_type": "display_data"
    }
   ],
   "source": [
    "lrnr.fit(10)"
   ]
  },
  {
   "cell_type": "markdown",
   "id": "262a3fc3-406f-4ca8-a29c-7f73f72bd15c",
   "metadata": {
    "id": "262a3fc3-406f-4ca8-a29c-7f73f72bd15c"
   },
   "source": [
    "### fastai지원 메트릭이용-- 올바른 사용(2)"
   ]
  },
  {
   "cell_type": "markdown",
   "id": "d8a47b09-2769-49c1-b161-d351e4408f29",
   "metadata": {
    "id": "d8a47b09-2769-49c1-b161-d351e4408f29"
   },
   "source": [
    "`-` 가정 \n",
    "- X의 형태는 (n,채널,픽셀,픽셀)로 가정한다. \n",
    "- y의 형태는 (n,클래스의수)로 가정한다. 즉 y가 one_hot 인코딩된 형태로 가정한다. \n",
    "- y의 각 원소는 0 혹은 1이다. \n",
    "- loss function은 CrossEntropyLoss()를 쓴다고 가정한다. (따라서 네트워크의 최종레이어는 torch.nn.Linear(?,클래스의수) 꼴이 되어야 한다.)"
   ]
  },
  {
   "cell_type": "markdown",
   "id": "cb242dc6-12a1-49ce-8248-db4bf1667a0a",
   "metadata": {
    "id": "cb242dc6-12a1-49ce-8248-db4bf1667a0a"
   },
   "source": [
    "(1) dls 만들기"
   ]
  },
  {
   "cell_type": "code",
   "execution_count": 95,
   "id": "f83ce93e-96b6-4037-9c88-ceef3cc0350d",
   "metadata": {
    "id": "f83ce93e-96b6-4037-9c88-ceef3cc0350d"
   },
   "outputs": [],
   "source": [
    "y_onehot = torch.tensor(list(map(lambda x: [1.0,0.0] if x==0 else [0.0,1.0], y)))\n",
    "yy_onehot = torch.tensor(list(map(lambda x: [1.0,0.0] if x==0 else [0.0,1.0], yy)))\n",
    "# y_onehot = torch.nn.functional.one_hot(y.reshape(-1).to(torch.int64)).to(torch.float32)\n",
    "# yy_onehot = torch.nn.functional.one_hot(yy.reshape(-1).to(torch.int64)).to(torch.float32)"
   ]
  },
  {
   "cell_type": "code",
   "execution_count": 98,
   "id": "bef13ba4-6a21-40de-80fa-a6da21be160f",
   "metadata": {
    "id": "bef13ba4-6a21-40de-80fa-a6da21be160f"
   },
   "outputs": [],
   "source": [
    "ds1 = torch.utils.data.TensorDataset(X,y_onehot)\n",
    "ds2 = torch.utils.data.TensorDataset(XX,yy_onehot)\n",
    "dl1 = torch.utils.data.DataLoader(ds1,batch_size=1266) \n",
    "dl2 = torch.utils.data.DataLoader(ds2,batch_size=2115) \n",
    "dls = DataLoaders(dl1,dl2) "
   ]
  },
  {
   "cell_type": "markdown",
   "id": "3aa987f5-c1f0-414a-b75a-6ea38d8ce38c",
   "metadata": {
    "id": "3aa987f5-c1f0-414a-b75a-6ea38d8ce38c"
   },
   "source": [
    "(2) lrnr 생성 "
   ]
  },
  {
   "cell_type": "code",
   "execution_count": 100,
   "id": "cbf958b9-93e6-482a-ab02-4744e5b36985",
   "metadata": {
    "id": "cbf958b9-93e6-482a-ab02-4744e5b36985"
   },
   "outputs": [],
   "source": [
    "net = torch.nn.Sequential(\n",
    "    torch.nn.Conv2d(1,16,(5,5)),\n",
    "    torch.nn.ReLU(),\n",
    "    torch.nn.MaxPool2d((2,2)),\n",
    "    torch.nn.Flatten(),\n",
    "    torch.nn.Linear(2304,2),\n",
    "    #torch.nn.Softmax()\n",
    ")\n",
    "loss_fn = torch.nn.CrossEntropyLoss() \n",
    "lrnr = Learner(dls,net,loss_fn,metrics=[accuracy_multi])"
   ]
  },
  {
   "cell_type": "markdown",
   "id": "1b65e477-d4d4-463e-b723-f4aaaf0d3146",
   "metadata": {},
   "source": [
    "`accuracy_multi` "
   ]
  },
  {
   "cell_type": "markdown",
   "id": "744733d6-81dd-4b66-b0f8-1e8227d90d58",
   "metadata": {
    "id": "744733d6-81dd-4b66-b0f8-1e8227d90d58"
   },
   "source": [
    "(3) 학습"
   ]
  },
  {
   "cell_type": "code",
   "execution_count": 101,
   "id": "56cc9b09-4374-434f-8e8e-7d48e19821ae",
   "metadata": {
    "id": "56cc9b09-4374-434f-8e8e-7d48e19821ae",
    "outputId": "6a03c491-62ec-465a-962c-333a3c7e7edd"
   },
   "outputs": [
    {
     "data": {
      "text/html": [
       "<table border=\"1\" class=\"dataframe\">\n",
       "  <thead>\n",
       "    <tr style=\"text-align: left;\">\n",
       "      <th>epoch</th>\n",
       "      <th>train_loss</th>\n",
       "      <th>valid_loss</th>\n",
       "      <th>accuracy_multi</th>\n",
       "      <th>time</th>\n",
       "    </tr>\n",
       "  </thead>\n",
       "  <tbody>\n",
       "    <tr>\n",
       "      <td>0</td>\n",
       "      <td>1.038750</td>\n",
       "      <td>0.569555</td>\n",
       "      <td>0.463357</td>\n",
       "      <td>00:00</td>\n",
       "    </tr>\n",
       "    <tr>\n",
       "      <td>1</td>\n",
       "      <td>0.640057</td>\n",
       "      <td>0.285553</td>\n",
       "      <td>0.977778</td>\n",
       "      <td>00:00</td>\n",
       "    </tr>\n",
       "    <tr>\n",
       "      <td>2</td>\n",
       "      <td>0.469265</td>\n",
       "      <td>0.137582</td>\n",
       "      <td>0.987943</td>\n",
       "      <td>00:00</td>\n",
       "    </tr>\n",
       "    <tr>\n",
       "      <td>3</td>\n",
       "      <td>0.348698</td>\n",
       "      <td>0.064898</td>\n",
       "      <td>0.995035</td>\n",
       "      <td>00:00</td>\n",
       "    </tr>\n",
       "    <tr>\n",
       "      <td>4</td>\n",
       "      <td>0.262547</td>\n",
       "      <td>0.038338</td>\n",
       "      <td>0.996217</td>\n",
       "      <td>00:00</td>\n",
       "    </tr>\n",
       "    <tr>\n",
       "      <td>5</td>\n",
       "      <td>0.201805</td>\n",
       "      <td>0.025988</td>\n",
       "      <td>0.996690</td>\n",
       "      <td>00:00</td>\n",
       "    </tr>\n",
       "    <tr>\n",
       "      <td>6</td>\n",
       "      <td>0.158089</td>\n",
       "      <td>0.019443</td>\n",
       "      <td>0.996927</td>\n",
       "      <td>00:00</td>\n",
       "    </tr>\n",
       "    <tr>\n",
       "      <td>7</td>\n",
       "      <td>0.125811</td>\n",
       "      <td>0.015470</td>\n",
       "      <td>0.997163</td>\n",
       "      <td>00:00</td>\n",
       "    </tr>\n",
       "    <tr>\n",
       "      <td>8</td>\n",
       "      <td>0.101381</td>\n",
       "      <td>0.012772</td>\n",
       "      <td>0.998109</td>\n",
       "      <td>00:00</td>\n",
       "    </tr>\n",
       "    <tr>\n",
       "      <td>9</td>\n",
       "      <td>0.082515</td>\n",
       "      <td>0.010802</td>\n",
       "      <td>0.998582</td>\n",
       "      <td>00:00</td>\n",
       "    </tr>\n",
       "  </tbody>\n",
       "</table>"
      ],
      "text/plain": [
       "<IPython.core.display.HTML object>"
      ]
     },
     "metadata": {},
     "output_type": "display_data"
    }
   ],
   "source": [
    "lrnr.fit(10)"
   ]
  }
 ],
 "metadata": {
  "colab": {
   "provenance": []
  },
  "kernelspec": {
   "display_name": "Python 3 (ipykernel)",
   "language": "python",
   "name": "python3"
  },
  "language_info": {
   "codemirror_mode": {
    "name": "ipython",
    "version": 3
   },
   "file_extension": ".py",
   "mimetype": "text/x-python",
   "name": "python",
   "nbconvert_exporter": "python",
   "pygments_lexer": "ipython3",
   "version": "3.8.12"
  }
 },
 "nbformat": 4,
 "nbformat_minor": 5
}
