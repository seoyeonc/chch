{
 "cells": [
  {
   "cell_type": "markdown",
   "id": "42c60858-3614-46cb-a4a9-d24e9317b303",
   "metadata": {
    "id": "42c60858-3614-46cb-a4a9-d24e9317b303",
    "tags": []
   },
   "source": [
    "# 빅데이터 분석 (10주차) 11월16일\n",
    "> CNN 세부내용\n",
    "\n",
    "- toc:true\n",
    "- branch: master\n",
    "- badges: true\n",
    "- comments: false\n",
    "- author: 최서연\n",
    "- categories: [CNN]"
   ]
  },
  {
   "cell_type": "markdown",
   "id": "1aec3900-123f-4d75-9e67-60527ab613d7",
   "metadata": {
    "id": "1aec3900-123f-4d75-9e67-60527ab613d7"
   },
   "source": [
    "> Note: 영상에 해당하는 강의자료는 LMS에 있습니다. (pdf파일참고) "
   ]
  },
  {
   "cell_type": "markdown",
   "id": "f342cfbe-2073-43bd-9583-5af769b3f995",
   "metadata": {
    "id": "fe1daa04-4693-4dc1-986d-6b20d27fbe85"
   },
   "source": [
    "벡터미분/ 매트릭스 미분"
   ]
  },
  {
   "cell_type": "markdown",
   "id": "e1a33f34-dbed-4e91-ae01-c20531e1f1c2",
   "metadata": {},
   "source": [
    "1. 정의1: 벡터로 미분하는 경우\n",
    "$$\\frac{\\partial}{\\partial y}\\begin{bmatrix}{frac{\\partial}{\\partial y_1}}\\\\{\\frac{\\partial}{\\partial y_n}}\\end{bmatrix}$$"
   ]
  },
  {
   "cell_type": "markdown",
   "id": "305d0aad-1412-4cfc-86f7-9afbbb11d987",
   "metadata": {},
   "source": [
    "2. 정의 2: 매트릭스도 미분하는 경우"
   ]
  }
 ],
 "metadata": {
  "colab": {
   "name": "2021-11-16-(10주차) 11월16일.ipynb",
   "provenance": []
  },
  "kernelspec": {
   "display_name": "Python 3",
   "language": "python",
   "name": "python3"
  },
  "language_info": {
   "codemirror_mode": {
    "name": "ipython",
    "version": 3
   },
   "file_extension": ".py",
   "mimetype": "text/x-python",
   "name": "python",
   "nbconvert_exporter": "python",
   "pygments_lexer": "ipython3",
   "version": "3.8.12"
  }
 },
 "nbformat": 4,
 "nbformat_minor": 5
}
