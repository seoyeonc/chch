{
  "cells": [
    {
      "cell_type": "markdown",
      "id": "42c60858-3614-46cb-a4a9-d24e9317b303",
      "metadata": {
        "tags": [],
        "id": "42c60858-3614-46cb-a4a9-d24e9317b303"
      },
      "source": [
        "# (10주차) 11월16일\n",
        "> 벡터와 매트릭스 미분 \n",
        "\n",
        "- toc:true\n",
        "- branch: master\n",
        "- badges: true\n",
        "- comments: true\n",
        "- author: 최규빈"
      ]
    },
    {
      "cell_type": "markdown",
      "id": "2eda6e3c-9f83-4cfa-87a6-aff6981ec0a8",
      "metadata": {
        "id": "2eda6e3c-9f83-4cfa-87a6-aff6981ec0a8"
      },
      "source": [
        "### 강의영상 "
      ]
    },
    {
      "cell_type": "markdown",
      "id": "711b1b8a-fa7e-4a3d-825b-8503024a7f4a",
      "metadata": {
        "id": "711b1b8a-fa7e-4a3d-825b-8503024a7f4a"
      },
      "source": [
        "> youtube: https://youtube.com/playlist?list=PLQqh36zP38-yANCXRUfkKIeVw1oQecrsh"
      ]
    },
    {
      "cell_type": "markdown",
      "id": "12df2705-2629-4c81-9067-fe725ce3686d",
      "metadata": {
        "id": "12df2705-2629-4c81-9067-fe725ce3686d"
      },
      "source": [
        "`-` (1/5) 벡터와 매트릭스의 미분 (1) \n",
        "\n",
        "`-` (2/5) 벡터와 매트릭스의 미분 (2) \n",
        "\n",
        "`-` (3/5) 벡터와 매트릭스의 미분 (3) \n",
        "\n",
        "`-` (4/5) 벡터와 매트릭스의 미분 (4) \n",
        "\n",
        "`-` (5/5) 벡터와 매트릭스의 미분 (5) "
      ]
    },
    {
      "cell_type": "markdown",
      "id": "1aec3900-123f-4d75-9e67-60527ab613d7",
      "metadata": {
        "id": "1aec3900-123f-4d75-9e67-60527ab613d7"
      },
      "source": [
        "> Note: 영상에 해당하는 강의자료는 LMS에 있습니다. (pdf파일참고) "
      ]
    },
    {
      "cell_type": "code",
      "execution_count": null,
      "id": "fe1daa04-4693-4dc1-986d-6b20d27fbe85",
      "metadata": {
        "id": "fe1daa04-4693-4dc1-986d-6b20d27fbe85"
      },
      "outputs": [],
      "source": [
        ""
      ]
    }
  ],
  "metadata": {
    "kernelspec": {
      "display_name": "Python 3 (ipykernel)",
      "language": "python",
      "name": "python3"
    },
    "language_info": {
      "codemirror_mode": {
        "name": "ipython",
        "version": 3
      },
      "file_extension": ".py",
      "mimetype": "text/x-python",
      "name": "python",
      "nbconvert_exporter": "python",
      "pygments_lexer": "ipython3",
      "version": "3.8.12"
    },
    "colab": {
      "name": "2021-11-16-(10주차) 11월16일.ipynb",
      "provenance": []
    }
  },
  "nbformat": 4,
  "nbformat_minor": 5
}