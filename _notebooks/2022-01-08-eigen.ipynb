{
 "cells": [
  {
   "cell_type": "markdown",
   "id": "09b8286a-05ec-45c7-b21c-df69751aad18",
   "metadata": {
    "tags": []
   },
   "source": [
    "# Introduction to Linear Algebra\n",
    "> Gilbert Strang\n",
    "\n",
    "- toc:true\n",
    "- branch: master\n",
    "- badges: true\n",
    "- comments: false\n",
    "- author: 최서연\n",
    "- categories: [Linear Algebra]"
   ]
  },
  {
   "cell_type": "markdown",
   "id": "1df53c0f-861a-4d61-9683-8d2fd6b5408f",
   "metadata": {},
   "source": [
    "## Chapter 6 Eilgenvalues and Eigenvectors"
   ]
  },
  {
   "cell_type": "markdown",
   "id": "8da08b65-4787-4b02-b14b-f2024d321d1b",
   "metadata": {},
   "source": [
    "### 6.1 Introduction to Eigencalues"
   ]
  },
  {
   "cell_type": "markdown",
   "id": "cc19aace-c8b5-4d4c-9e97-2dfb89ce81b1",
   "metadata": {},
   "source": [
    "This chapter enters a new part of linear algebra, based on $Ax = AX.$"
   ]
  },
  {
   "cell_type": "markdown",
   "id": "1ff11e0c-53a9-4f7d-9132-e2bffafd2e39",
   "metadata": {},
   "source": [
    "Certain exceptional vectors x are in the same direction as Ax. Those are the \"eigenvectors\". Multiply an eigenvector by A, and the vector Ax is a number A times the original x. \n",
    "\n",
    "`+` 선형변환 A에 의한 변환 결과가 자기 자신의 상수배가 되는 0이 아닌 벡터"
   ]
  },
  {
   "cell_type": "markdown",
   "id": "bb04f8a8-efe6-44a5-b7a6-7e58c24d4e03",
   "metadata": {},
   "source": [
    "**The basic equation is $Ax = Ax$. The number $A$ is an eigenvalue of $A$.**"
   ]
  },
  {
   "cell_type": "markdown",
   "id": "73ecf559-9dc7-4f78-bfc0-f246321bad97",
   "metadata": {},
   "source": [
    "- 고유값 $\\lambda$는 A의 고유값이며, 0이 될 수 있다.\n",
    "- $Ax=0x$는 이 고유벡터 x가 **nullspace** 안에 있다는 것을 의미한다."
   ]
  },
  {
   "cell_type": "markdown",
   "id": "c0f5f754-ede7-496f-9c42-7be3f85c7917",
   "metadata": {},
   "source": [
    "- A가 identity matrix라면 모든 벡터는 Ax=x를 가지고 있음.\n",
    "- 모든 벡터들이 I의 고유벡터이고, 모든 고유값 lambda는 1임"
   ]
  },
  {
   "cell_type": "markdown",
   "id": "7b835a6d-8830-4f6b-bec1-9805890e7e77",
   "metadata": {},
   "source": [
    "##### ex1)"
   ]
  },
  {
   "cell_type": "markdown",
   "id": "554d0fb1-833e-4a0b-b343-ad32b735a883",
   "metadata": {},
   "source": [
    "$A= \\begin{bmatrix}{.8}&{.3}\\\\{.2}&{.7} \\end{bmatrix} det\\begin{bmatrix}{.8-\\lambda}&{.3}\\\\{.2}&{.7-\\lambda} \\end{bmatrix} = \\lambda^{2}-\\frac{3}{2} \\lambda + \\frac{1}{2} = (\\lambda-1)(\\lambda-\\frac{1}{2})$"
   ]
  },
  {
   "cell_type": "markdown",
   "id": "c46f44c9-d1a5-4b44-aaa7-30acf0e4704b",
   "metadata": {},
   "source": [
    "nullspace에 있는\n",
    "- $(A-I)x_1=0, Ax_1=x_1$, 고유벡터$(.6,.4) \\rightarrow Ax_1=\\begin{bmatrix}{.8}&{.3}\\\\{.2}&{.7}\\end{bmatrix}\\begin{bmatrix}{.6}\\\\{.4} \\end{bmatrix}=x_1$\n",
    "- $(A-\\frac{1}{2}I)x_2=0, Ax_2=x_2$, 고유벡터$(1,-1) \\rightarrow Ax_2=\\begin{bmatrix}{.8}&{.3}\\\\{1}&{-1}\\end{bmatrix}\\begin{bmatrix}{.5}\\\\{-.5} \\end{bmatrix}=x_2$"
   ]
  },
  {
   "cell_type": "markdown",
   "id": "f45bc25a-dc60-4483-b66e-099806e0216d",
   "metadata": {},
   "source": [
    "**When A is squared, the eigenvectors stay the same. The eigenvalues are squared.**\n",
    "- 여기서 고유벡터들이 절대 섞이지 않고 자신의 방향에 머물기 때문에 패턴이 유지된다."
   ]
  },
  {
   "cell_type": "markdown",
   "id": "70b3305f-521d-4224-a4cb-5c9455dfa068",
   "metadata": {},
   "source": [
    "Other vectors do change direction. But all other vectors are combinations of the two eigenvectors. \n",
    "- 방향이 변하는 다른 벡터들의 경우.\n",
    "- A의 첫번째 열은 $x_1+(.2)x_2$ 임.\n",
    "- 예제에서는 $\\begin{bmatrix}{.8}\\\\{-.2} \\end{bmatrix}=x_1+(.2)x_2=\\begin{bmatrix}{.6}\\\\{-.4} \\end{bmatrix}+\\begin{bmatrix}{.2}\\\\{-.2} \\end{bmatrix}$\n",
    "- A에 곱해질때 각 고유벡터는 고유값에 곱해짐\n",
    "- At every step $x_1$ is unchanged and $x_2$ is multiplied by ($\\frac{1}{2}$), so we have ($\\frac{1}{2})^{99}$\n",
    "- $x^{99}\\begin{bmatrix}{.8}\\\\{-.2} \\end{bmatrix} isreally_1+(.2)\\frac{1}{2}^{99}x_2=\\begin{bmatrix}{.6}\\\\{-.4} \\end{bmatrix}+\\begin{bmatrix}{very}\\\\{small}\\\\{vector} \\end{bmatrix}$\n",
    "- This is the first column of A 100. $\\rightarrow$ 여기서(.8,.2)를 의미함"
   ]
  },
  {
   "cell_type": "markdown",
   "id": "82d6ee1f-75a1-45b8-bbda-7fefca88ccd6",
   "metadata": {},
   "source": [
    "**A is a Markov matrix(각 열 벡터들을 더하면 1이 되는 행렬).**\n",
    "- Its eigenvector $x_l = (.6,.4)$ is the steady state-which all columns of Ak will approach."
   ]
  },
  {
   "cell_type": "markdown",
   "id": "9145a60d-9c2e-4378-9bb5-cc5a5d052039",
   "metadata": {},
   "source": [
    "-----------------------"
   ]
  },
  {
   "cell_type": "markdown",
   "id": "6585e669-01fe-40f5-86fb-07ba659577c8",
   "metadata": {},
   "source": [
    "##### ex2)"
   ]
  },
  {
   "cell_type": "markdown",
   "id": "62c3a2bd-86e5-4946-9072-07bf42b6917f",
   "metadata": {},
   "source": [
    "**The projection matrix $P=\\begin{bmatrix}{.5}&{.5}\\\\{.5}&{.5} \\end{bmatrix}$ has eigencalues $\\lambda=1$ and $\\lambda=0$**"
   ]
  },
  {
   "cell_type": "markdown",
   "id": "da0573ab-f988-4639-9232-193bacd9df05",
   "metadata": {},
   "source": [
    "위 예는 markov matrices, singular matrices, 그리고 symmetric matrices를 설명한다.\n",
    "- All have special A's and x 's: \n",
    "    - $P=\\begin{bmatrix}{.5}&{.5}\\\\{.5}&{.5} \\end{bmatrix}$의 각 열은 1을 추가해서 람다=1이 고유값\n",
    "    - P는 singular여서 람다=0이 고유값\n",
    "    - P는 대칭이어서 고유벡터(1,1)과 (1,-1)이 직각"
   ]
  },
  {
   "cell_type": "markdown",
   "id": "f2ef27ab-0e53-45d7-a2ff-72ee3ba02368",
   "metadata": {},
   "source": [
    "- 영공간nullspace는 0에 투영되어있음\n",
    "- 열 공간은 그 스스로를 투영함\n",
    "- Project each aprt $v=\\begin{bmatrix}{1}&{-1}\\\\{2}&{2} \\end{bmatrix}$ projects onto $P_v=\\begin{bmatrix}{0}&{0}\\\\{2}&{2} \\end{bmatrix}$"
   ]
  },
  {
   "cell_type": "markdown",
   "id": "b8eff78f-00c7-49b8-9314-017104d68a7d",
   "metadata": {},
   "source": [
    "- Projections have $\\lambda = 0$ and $1$. Permutations have all $|A| = 1$."
   ]
  },
  {
   "cell_type": "markdown",
   "id": "93293487-ed27-4852-bf01-a77dc7daa1f1",
   "metadata": {},
   "source": [
    "-----------------------"
   ]
  },
  {
   "cell_type": "markdown",
   "id": "761e7a1d-4840-46bc-9044-0e540b215800",
   "metadata": {},
   "source": [
    "##### ex3)"
   ]
  },
  {
   "cell_type": "markdown",
   "id": "96412ed9-f939-4cc0-af6f-1094882176df",
   "metadata": {},
   "source": [
    "**The reflection matrix $R=\\begin{bmatrix}{0}&{1}\\\\{1}&{0} \\end{bmatrix}$ has eigenvalues 1 snd -1**"
   ]
  },
  {
   "cell_type": "markdown",
   "id": "5acc3e95-fe59-4316-a8fc-c6cbc9253a54",
   "metadata": {},
   "source": [
    "- 고유벡터(1,1)은 R에 의해 변하지 않음!\n",
    "- $reflection = 2(projection)-I$ 때문에 R에서 고유벡터은 P에서와 같다.\n",
    "- $R=2P-I, \\begin{bmatrix}{0}&{1}\\\\{1}&{0} \\end{bmatrix}=2\\begin{bmatrix}{.5}&{.5}\\\\{.5}&{.5} \\end{bmatrix}-\\begin{bmatrix}{1}&{0}\\\\{0}&{1} \\end{bmatrix}.\\dots (2)$\n",
    "- $2Px=2\\lambda x$처럼 행렬이 두 배가 되면 고유값이 2배가 된다.\n",
    "- 그 결과가 $(2p-i)X=(2\\lambda-1)x$!!\n",
    "- 행렬이 I에 의해 변하면 각 $\\lambda$는 1에 의해 바뀐다. 고유벡터 내에서는 변화 없음!!"
   ]
  },
  {
   "cell_type": "markdown",
   "id": "c2c295b2-8755-494e-91cf-710fb32a814c",
   "metadata": {},
   "source": [
    "Key idea: The eigenvalues of Rand P are related exactly as the matrices are related:\n",
    "- The eigenvalues of $R = 2P - I$ are 2(1) - 1 = 1 and 2(0) - 1 = -1. \n",
    "- The eigenvalues of $R^2$ are $\\lambda^2$. In this case $R^2 = I$. Check $(I)^2$ = 1 and $(-1)^2$ = 1. "
   ]
  },
  {
   "cell_type": "markdown",
   "id": "99d93ff3-5f27-49b3-a7b3-5a58a908cbd4",
   "metadata": {},
   "source": [
    "-----------------------"
   ]
  },
  {
   "cell_type": "markdown",
   "id": "3dc7c2ed-ba5f-4c36-8455-c74c0f00c983",
   "metadata": {},
   "source": [
    "#### The Equation for the Eigenvalues"
   ]
  },
  {
   "cell_type": "markdown",
   "id": "2ec3091f-2ca7-4080-9f38-38027db9fc38",
   "metadata": {},
   "source": [
    "The Equation for the Eigenvalues: $P x = x, P x = 0, Rx = -x$ is the key caculation almost every application starts by solving $Ax = \\lambda x$. \n",
    "- 일단 $\\lambda x$를 왼쪽으로 넘기면 $(A-\\lambda I)x=0$을 쓸 수 있고\n",
    "- 행렬 $(A-\\lambda I)$매를 한 고유벡터 x는 0 벡터임.\n",
    "- **The eigenvectors make up the nullspace of $A - \\lambda I$**\n",
    "- 고유값 람다를 알때, $(A-\\lambda I)x=0$을 풀어서 고유벡터를 찾을 수 있음"
   ]
  },
  {
   "cell_type": "markdown",
   "id": "acaa4e25-d5b3-4930-a4df-812de7e75fba",
   "metadata": {},
   "source": [
    "If $(A - \\lambda I)X = 0$ has a nonzero solution, $A - \\lambda I$ is not invertible. The determinant of $A -\\lambda I$ must be zero. \n",
    "- 고유값 람다 알아내는 법\n",
    "    - **The number $\\lambda$ is an eignvalue of A if and only if $A-\\lambda I$ is singular:**\n",
    "    - Equtation for the eigenvalues $\\rightarrow det(A-\\lambda I)=0$\n",
    "        - $det(A-\\lambda I)=0$ 여기에는 x가 아닌 람다만 들어있음\n",
    "        - A가 N $\\times$ N 행렬일때 $det(A-\\lambda I)=0$는 degree N을 가지게 됨"
   ]
  },
  {
   "cell_type": "markdown",
   "id": "5cff8c3d-4ad4-431f-b92e-39651ee84b65",
   "metadata": {},
   "source": [
    "> For each elgenvalue $\\lambda$ solve $(A - \\lambda I)x = 0$ or $A_x=\\lambda x$ to find an eigenvector x."
   ]
  },
  {
   "cell_type": "markdown",
   "id": "1b1a901a-f051-42bd-976f-2761e346d6dd",
   "metadata": {},
   "source": [
    "-----------------------"
   ]
  },
  {
   "cell_type": "markdown",
   "id": "c4d2e6fa-dfe3-4ea0-abcb-010f3b0b6641",
   "metadata": {},
   "source": [
    "##### ex4)"
   ]
  },
  {
   "cell_type": "markdown",
   "id": "f9541b5f-cfe9-4e28-b652-71cc2160e837",
   "metadata": {},
   "source": [
    "$A=\\begin{bmatrix}{1}&{2}\\\\{2}&{4} \\end{bmatrix}$ is already singular (zero determinant). Find its $\\lambda$'s and $x$'s"
   ]
  },
  {
   "cell_type": "markdown",
   "id": "c1cbdc8a-3b5a-4b9a-b662-009fc91356c1",
   "metadata": {},
   "source": [
    "- A가 singular일때 $\\lambda=0$은 고유값들 중 하나이다.\n",
    "- $Ax=0x$가 solution을 가짐! 이는 $\\lambda=0$에 대한 고유 벡터임\n",
    "- 하지만 $det(A-\\lambda I)=0$은 모든 람다들과 x들을 찾는 방법임\n",
    "- **Subtract $\\lambda$ from the diagonal to find $a-\\lambda i =\\begin{bmatrix}{1-\\lambda}&{2}\\\\{2}&{4-\\lambda} \\end{bmatrix}$**"
   ]
  },
  {
   "cell_type": "markdown",
   "id": "6b2c6f55-0757-4de8-a264-d03e73e90354",
   "metadata": {},
   "source": [
    "**Take the determinant \"ad - bc\" of this 2 by 2 matrix.**\n",
    "- $det\\begin{bmatrix}{1-\\lambda}&{2}\\\\{2}&{4-\\lambda} \\end{bmatrix}=(1-\\lambda)(4-\\lambda)-(2)(2)=\\lambda^{2}-5\\lambda$\n",
    "- $\\lambda^{2}-5\\lambda$를 0으로 놓으면 근은 람다가 0 또는 5\n",
    "- One solution is $\\lambda = 0$ (as expected, since A is singular). Factoring into $\\lambda$ times $\\lambda - 5$, the other root is $\\lambda = 5$.:\n",
    "- $det(A-\\lambda I)=\\lambda^2-5\\lambda =0$ yields the eigenvalues $\\lambda_1=0$ and $\\lambda_2=5$\n",
    "- 고유벡터를 찾아보자\n",
    "- $(A-0I)x=\\begin{bmatrix}{1}&{2}\\\\{2}&{4} \\end{bmatrix}\\begin{bmatrix}{y}\\\\{z} \\end{bmatrix}=\\begin{bmatrix}{0}\\\\{0} \\end{bmatrix}$ yields the eigenvector $\\begin{bmatrix}{y}\\\\{z} \\end{bmatrix}=\\begin{bmatrix}{2}\\\\{-1} \\end{bmatrix}$ for $\\lambda_1=0$\n",
    "- $(A-5I)x=\\begin{bmatrix}{-4}&{2}\\\\{2}&{-1} \\end{bmatrix}\\begin{bmatrix}{y}\\\\{z} \\end{bmatrix}=\\begin{bmatrix}{0}\\\\{0} \\end{bmatrix}$ yields the eigenvector $\\begin{bmatrix}{y}\\\\{z} \\end{bmatrix}=\\begin{bmatrix}{1}\\\\{2} \\end{bmatrix}$ for $\\lambda_2=5$.\n",
    "    - 0과 5가 고유값이기 때문에 $A-0I$, $A-5I$는 singular이다.\n",
    "    - 고유벡터 (2,-1)과 (1,2)은 영공간nullspace에 있다.: $(A-\\lambda I)x=0$ is $Ax=\\lambda x$"
   ]
  },
  {
   "cell_type": "markdown",
   "id": "1d300315-c521-425a-be06-1e08b0eb416b",
   "metadata": {},
   "source": [
    "> warning: There is nothing exceptional about A = O. Like every other number, zero might be an eigenvalue and it might not. If A is singular, it is. The eigenvectors fill the nullspace: Ax = Ox = O. **If A is invertible, zero is not an eigenvalue. We shift A by a multiple of I to make it singular.**"
   ]
  },
  {
   "cell_type": "markdown",
   "id": "4ab0c079-eadd-482f-a494-1b3caa5cb590",
   "metadata": {},
   "source": [
    "-----------------------"
   ]
  },
  {
   "cell_type": "markdown",
   "id": "21994773-83ce-464e-a968-1511bb66d758",
   "metadata": {},
   "source": [
    "summary: n matrix에 의한 고유값 문제를 해결하기 위해 밟을 step!\n",
    "1. Compute the determinant of $A-\\lambda I$.\n",
    "2. Find the roots of this polynomial\n",
    "3. solve $(A-\\lambda I)x=0$ to find an eigenvector $x$"
   ]
  },
  {
   "cell_type": "markdown",
   "id": "e473e68d-f1e5-42d3-9797-4d3c48d6d07b",
   "metadata": {},
   "source": [
    "-----------------------"
   ]
  },
  {
   "cell_type": "markdown",
   "id": "c074269c-7030-4191-ac24-e963f5cf3fcb",
   "metadata": {},
   "source": [
    "> warning: Some 2 by 2 matrices have only one line of eigenvectors. This can only happen when two eigenvalues are equal. *Similarly some n by n matrices don't have n independent eigenvectors. Without n eigenvectors, we don't have a basis. We can't write every v as a combination of eigenvectors.*"
   ]
  },
  {
   "cell_type": "markdown",
   "id": "4d6ff7b9-72e0-4007-9855-f4b1b9cade4f",
   "metadata": {},
   "source": [
    "-----------------------"
   ]
  },
  {
   "cell_type": "markdown",
   "id": "8029e1f1-c297-4794-8ad0-e1b6f5ae5a1f",
   "metadata": {},
   "source": [
    "#### Good News, Bad News"
   ]
  },
  {
   "cell_type": "markdown",
   "id": "bf3c808e-c2b6-4bb9-bed4-b5c3fb65d2c7",
   "metadata": {},
   "source": [
    "Bad news: A 행에 또다른 열을 추가하거나 행을 바꾼다면 고유값들은 항상 변할 것임!\n",
    "- Elimination does not preserve the A'S. The triangular U has its eigenvalues sitting along the diagonal-they are the pivots. But they are not the eigenvalues of A!"
   ]
  },
  {
   "cell_type": "markdown",
   "id": "01368500-a26a-4c93-b8b6-5e87f201ac60",
   "metadata": {},
   "source": [
    "Good news: The product $\\lambda_1$ times $\\lambda_2$ and the sum $\\lambda_1$ + $\\lambda_2$ can be found quickly from the matrix."
   ]
  },
  {
   "cell_type": "markdown",
   "id": "14c87014-9350-4039-8acb-bd985dc5bd79",
   "metadata": {},
   "source": [
    "**The product of the n eigenvalues equals the determinant. The sum of the n eigenvalues equals the sum of the n diagonal entries.**\n",
    "- The sum of the entries on the main diagonal is called the trace of A:\n",
    "    - $\\lambda_1+\\lambda_2+\\dots+\\lambda_n=trace=a_{11}+a_{22}+\\dots+a_{nn}$\n",
    "    - 계산을 잘못했는지 알 수 있음! 잘못되었다면? go back to $det(A-\\lambda I)=0$\n",
    "- The determinant test makes the product of the A'S equal to the product of the pivots (assuming no row exchanges). But the sum of the A'S is not the sum of the pivots-as the example showed. The individual A's have almost nothing to do with the pivots. In this new part of linear algebra, the key equation is really nonlinear: A multiplies x."
   ]
  },
  {
   "cell_type": "markdown",
   "id": "7c0db0d0-bca9-4161-9385-34b94e4f5f88",
   "metadata": {},
   "source": [
    "-----------------------"
   ]
  },
  {
   "cell_type": "markdown",
   "id": "db2775e1-7def-4581-b755-17123a236cce",
   "metadata": {},
   "source": [
    "#### Imaginary Eigenvalues"
   ]
  },
  {
   "cell_type": "markdown",
   "id": "fb07d3d4-ecb3-4f51-823b-57f77c738d66",
   "metadata": {},
   "source": [
    " The eigenvalues might not be real numbers.?!?!"
   ]
  },
  {
   "cell_type": "markdown",
   "id": "8bbb7210-4f1e-480a-919f-d6b90d62cfe5",
   "metadata": {},
   "source": [
    "##### ex5)"
   ]
  },
  {
   "cell_type": "markdown",
   "id": "791f44de-e9ad-499c-93f7-217cf71e04a7",
   "metadata": {},
   "source": [
    "**The $90^o$ rotation $Q=\\begin{bmatrix}{0}&{-1}\\\\{1}&{0} \\end{bmatrix}$ has no real eigenvectors. Its eigenvalues are $\\lambda=i$ and $\\lambda=-i$. Sum of $\\lambda$'s= trace=0, Product=determinany=1.**\n",
    "- rotation 후 $Q_x$ 어느 벡터도 x와 같은 방향에 있지 않음 x=0일때 빼고.\n",
    "- 그러면 고유벡터가 될 수 없는데 그래도 우리는 허수imaginary numbers로 보겠다.\n",
    "- $-I$인 $Q^2$을 봐봐. 만약 Q가 90도 회전하면 $Q^2$은 180도 회전하겠지? 그건 고유값들이 -1과 -1이라는 거고.(확실히 $-IX=-1X$인 건 아니까.) $Q^2$이니까 각 $\\lambda ^2$이 될거고. 우리는 $\\lambda ^2=-1$을 얻게될거야. 그러면 근은 $i,-i$가 나오겠지. 우리는 허수 i가 고유벡터에 있다는 것을 알 수 있어.\n",
    "    - $\\begin{matrix}  complex \\\\  eigenvectors \\end{matrix}$   $\\begin{bmatrix}{0}&{-1}\\\\{1}&{0} \\end{bmatrix}\\begin{bmatrix}{1}\\\\{i} \\end{bmatrix}=-i\\begin{bmatrix}{1}\\\\{i} \\end{bmatrix}$ and $\\begin{bmatrix}{0}&{-1}\\\\{1}&{0} \\end{bmatrix}\\begin{bmatrix}{i}\\\\{1} \\end{bmatrix}=i\\begin{bmatrix}{i}\\\\{1} \\end{bmatrix}$\n",
    "    - 여기서 복소수벡터complex vector $x_1=(1,i),x_2=(i,1)$는 회전한 방향을 유지하지. \n",
    "    - 이 예제들은 실제 행렬이 복소수 고유치들과 고유값들을 쉽게 가질 수 있는 모든 중요한 포인트를 만들지.\n",
    "    - 특히 고유치 i와 -i는 Q의 two special properties을 말해.\n",
    "    1. Q is an otrhogonal matrix so the absolute value of each $\\lambda$ is $|\\lambda|=1$\n",
    "    2. Q is a skew-wymmetric matrix so each $\\lambda$ is pure imaginary.\n",
    "    - A symmetric matrix $(^AT=A)$ can be compared to a real number. A skew-symmetric matrix $(A^T = -A)$ can be compared to an imaginary number. An orthogonal matrix $(A^T A = 1)$ can be compared to a complex number with $|\\lambda| = 1$.\n",
    "    - The eigenvectors for all these special matrices are perpendicular. Somehow (i, I) and (1, i) are perpendicular"
   ]
  },
  {
   "cell_type": "markdown",
   "id": "dcc60d03-956b-4f8c-858b-ddbf0e810935",
   "metadata": {},
   "source": [
    "-----------------------"
   ]
  },
  {
   "cell_type": "markdown",
   "id": "7e544238-a5a4-4adb-8917-d25648be0f6d",
   "metadata": {},
   "source": [
    "#### Eigshow in MATLAB"
   ]
  },
  {
   "attachments": {
    "8c81ba4d-11fa-425c-922d-09b05dd88eff.png": {
     "image/png": "[encoded data removed]"
    }
   },
   "cell_type": "markdown",
   "id": "dfdda7f1-816a-4518-8b45-d23b51434417",
   "metadata": {},
   "source": [
    "![image.png](attachment:8c81ba4d-11fa-425c-922d-09b05dd88eff.png)"
   ]
  },
  {
   "cell_type": "markdown",
   "id": "3eae13c7-b2af-40be-89d8-faaade715f4d",
   "metadata": {},
   "source": [
    "The eigenvalue A is the length of Ax , when the unit eigenvector x lines up. T"
   ]
  },
  {
   "cell_type": "markdown",
   "id": "fd4d97fa-d4ca-4bf0-872f-4487451f590c",
   "metadata": {},
   "source": []
  },
  {
   "cell_type": "markdown",
   "id": "40c724c7-e97b-4afd-9f39-68a6a920180d",
   "metadata": {},
   "source": []
  },
  {
   "cell_type": "markdown",
   "id": "cf507732-aef3-408d-b3ce-998f20388e5c",
   "metadata": {},
   "source": []
  }
 ],
 "metadata": {
  "kernelspec": {
   "display_name": "Python 3",
   "language": "python",
   "name": "python3"
  },
  "language_info": {
   "codemirror_mode": {
    "name": "ipython",
    "version": 3
   },
   "file_extension": ".py",
   "mimetype": "text/x-python",
   "name": "python",
   "nbconvert_exporter": "python",
   "pygments_lexer": "ipython3",
   "version": "3.8.12"
  }
 },
 "nbformat": 4,
 "nbformat_minor": 5
}
