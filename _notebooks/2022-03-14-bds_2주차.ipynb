{
 "cells": [
  {
   "cell_type": "markdown",
   "id": "71d953f9-9b88-4d52-a812-073fdb06d048",
   "metadata": {},
   "source": [
    "# 빅데이터 분석 특강 (2주차) 3월 14일 \n",
    "\n",
    "- toc:true\n",
    "- branch: master\n",
    "- badges: true\n",
    "- comments: false\n",
    "- author: 최서연\n",
    "- categories: [Special Topics in Big Data Analysis, 정규방정식, 벡터 미분, 매트릭스 미분]"
   ]
  },
  {
   "cell_type": "code",
   "execution_count": 1,
   "id": "e18d4288-4668-45c2-a66f-5bb76f5b9ca2",
   "metadata": {
    "id": "e18d4288-4668-45c2-a66f-5bb76f5b9ca2"
   },
   "outputs": [],
   "source": [
    "import tensorflow as tf\n",
    "import numpy as np"
   ]
  },
  {
   "cell_type": "code",
   "execution_count": 2,
   "id": "c4a78936-73df-4a20-8041-0d76aa07fd0f",
   "metadata": {
    "id": "c4a78936-73df-4a20-8041-0d76aa07fd0f",
    "outputId": "b578d650-2bf4-4ebd-dd56-d0b2a21ce0f1"
   },
   "outputs": [
    {
     "data": {
      "text/plain": [
       "[PhysicalDevice(name='/physical_device:GPU:0', device_type='GPU')]"
      ]
     },
     "execution_count": 2,
     "metadata": {},
     "output_type": "execute_result"
    }
   ],
   "source": [
    "tf.config.experimental.list_physical_devices('GPU')"
   ]
  },
  {
   "cell_type": "markdown",
   "id": "1f7d8172-8b82-4777-b922-aa46ea9e5a48",
   "metadata": {
    "id": "1f7d8172-8b82-4777-b922-aa46ea9e5a48"
   },
   "source": [
    "### tf.constant "
   ]
  },
  {
   "cell_type": "markdown",
   "id": "e4d1e6af-e420-4a30-b5b8-fe9ac1a460d2",
   "metadata": {},
   "source": [
    "`-` 리스트"
   ]
  },
  {
   "cell_type": "code",
   "execution_count": 7,
   "id": "6d374027-335b-4933-ad33-ecbb1724817c",
   "metadata": {},
   "outputs": [
    {
     "data": {
      "text/plain": [
       "[1, 2, 3, 4, 5, 6]"
      ]
     },
     "execution_count": 7,
     "metadata": {},
     "output_type": "execute_result"
    }
   ],
   "source": [
    "lst = [1,2,3,4,5,6]\n",
    "lst"
   ]
  },
  {
   "cell_type": "code",
   "execution_count": 8,
   "id": "14aede70-045c-4181-85ac-ff3b3e36947c",
   "metadata": {},
   "outputs": [
    {
     "data": {
      "text/plain": [
       "1"
      ]
     },
     "execution_count": 8,
     "metadata": {},
     "output_type": "execute_result"
    }
   ],
   "source": [
    "lst[0]"
   ]
  },
  {
   "cell_type": "code",
   "execution_count": 9,
   "id": "72518796-cff0-4ca8-9193-0a741b711069",
   "metadata": {},
   "outputs": [
    {
     "data": {
      "text/plain": [
       "2"
      ]
     },
     "execution_count": 9,
     "metadata": {},
     "output_type": "execute_result"
    }
   ],
   "source": [
    "lst[1]"
   ]
  },
  {
   "cell_type": "code",
   "execution_count": 10,
   "id": "b11fa035-0440-464a-b04c-55f415d44a73",
   "metadata": {},
   "outputs": [
    {
     "data": {
      "text/plain": [
       "6"
      ]
     },
     "execution_count": 10,
     "metadata": {},
     "output_type": "execute_result"
    }
   ],
   "source": [
    "lst[-1]"
   ]
  },
  {
   "cell_type": "markdown",
   "id": "19d1b4f6-91ae-4638-b332-103dadaf6473",
   "metadata": {
    "id": "19d1b4f6-91ae-4638-b332-103dadaf6473"
   },
   "source": [
    "#### 예비학습: 중첩리스트 "
   ]
  },
  {
   "cell_type": "markdown",
   "id": "62c74d9b-6cce-429f-89b4-5f3b9c9929d1",
   "metadata": {},
   "source": [
    "`-` 아래는 일차원이지만 이차원으로 생각할 수 있다."
   ]
  },
  {
   "cell_type": "code",
   "execution_count": 21,
   "id": "b9044520-fdfd-41c4-a5e8-561b6d41cabf",
   "metadata": {},
   "outputs": [],
   "source": [
    "lst = [[1,2],[3,4]]"
   ]
  },
  {
   "cell_type": "code",
   "execution_count": 22,
   "id": "7b1c4125-745c-4d4d-8f22-8e9c8173edfc",
   "metadata": {},
   "outputs": [
    {
     "data": {
      "text/plain": [
       "2"
      ]
     },
     "execution_count": 22,
     "metadata": {},
     "output_type": "execute_result"
    }
   ],
   "source": [
    "lst[0][1]"
   ]
  },
  {
   "cell_type": "code",
   "execution_count": 23,
   "id": "d44c862f-6f4c-42d8-a9dd-242f99484356",
   "metadata": {},
   "outputs": [
    {
     "data": {
      "text/plain": [
       "3"
      ]
     },
     "execution_count": 23,
     "metadata": {},
     "output_type": "execute_result"
    }
   ],
   "source": [
    "lst[1][0]"
   ]
  },
  {
   "cell_type": "markdown",
   "id": "074ac1ea-b2b5-4b5a-b6e8-45c702741ddf",
   "metadata": {},
   "source": [
    "원소가 벡터이면 matrix로 생각 가능하다"
   ]
  },
  {
   "cell_type": "markdown",
   "id": "b1bf3beb-ee23-43e0-9858-8b8c8a65c34d",
   "metadata": {},
   "source": [
    "```\n",
    "1 2\n",
    "3 4\n",
    "```"
   ]
  },
  {
   "cell_type": "code",
   "execution_count": 26,
   "id": "d6257977-cf47-4e01-8b5d-b0ae860fe995",
   "metadata": {},
   "outputs": [
    {
     "name": "stdout",
     "output_type": "stream",
     "text": [
      "1\n",
      "2\n",
      "3\n",
      "4\n"
     ]
    }
   ],
   "source": [
    "print(lst[0][0]) # (1,1)\n",
    "print(lst[0][1]) # (1,2)\n",
    "print(lst[1][0]) # (2,1)\n",
    "print(lst[1][1]) # (2,2)"
   ]
  },
  {
   "cell_type": "code",
   "execution_count": 27,
   "id": "c09420a3-c773-4e9b-81ae-0ed26f63f0e9",
   "metadata": {},
   "outputs": [
    {
     "data": {
      "text/plain": [
       "[[1, 2], [3, 4]]"
      ]
     },
     "execution_count": 27,
     "metadata": {},
     "output_type": "execute_result"
    }
   ],
   "source": [
    "lst"
   ]
  },
  {
   "cell_type": "code",
   "execution_count": 28,
   "id": "3ecfff64-5037-4564-a31a-faa8c6244116",
   "metadata": {},
   "outputs": [
    {
     "data": {
      "text/plain": [
       "array([[1, 2],\n",
       "       [3, 4]])"
      ]
     },
     "execution_count": 28,
     "metadata": {},
     "output_type": "execute_result"
    }
   ],
   "source": [
    "np.array(lst)"
   ]
  },
  {
   "cell_type": "markdown",
   "id": "c6bc7935-b476-4455-8d3a-aec0ba07d7a7",
   "metadata": {},
   "source": [
    "`-` (4,1)  matrix 느낌의 list"
   ]
  },
  {
   "cell_type": "code",
   "execution_count": 30,
   "id": "84674c4a-0d54-4269-9fe3-fd9d1dc2eb0c",
   "metadata": {},
   "outputs": [
    {
     "data": {
      "text/plain": [
       "[[1, 2], [2, 3], [3, 4], [4, 5]]"
      ]
     },
     "execution_count": 30,
     "metadata": {},
     "output_type": "execute_result"
    }
   ],
   "source": [
    "[[1,2],[2,3],[3,4],[4,5]]"
   ]
  },
  {
   "cell_type": "code",
   "execution_count": 34,
   "id": "b2726fe1-862b-4910-b8cd-2e58326c6f87",
   "metadata": {},
   "outputs": [
    {
     "data": {
      "text/plain": [
       "[[1], [2], [3], [4]]"
      ]
     },
     "execution_count": 34,
     "metadata": {},
     "output_type": "execute_result"
    }
   ],
   "source": [
    "lst = [[1],[2],[3],[4]] # (4,1) matrix = 길이가 4인 col-vector\n",
    "lst"
   ]
  },
  {
   "cell_type": "code",
   "execution_count": 33,
   "id": "fac43903-620f-4a62-99e1-fecfa6f8939d",
   "metadata": {},
   "outputs": [
    {
     "data": {
      "text/plain": [
       "array([[1],\n",
       "       [2],\n",
       "       [3],\n",
       "       [4]])"
      ]
     },
     "execution_count": 33,
     "metadata": {},
     "output_type": "execute_result"
    }
   ],
   "source": [
    "np.array(lst)"
   ]
  },
  {
   "cell_type": "markdown",
   "id": "d8a1740f-48e5-48f2-970f-f6a3a0ca7f7f",
   "metadata": {},
   "source": [
    "`-` (1,4) 느낌의 list"
   ]
  },
  {
   "cell_type": "code",
   "execution_count": 36,
   "id": "f1bd4867-8639-4f02-b182-2c96e0400f3b",
   "metadata": {},
   "outputs": [
    {
     "data": {
      "text/plain": [
       "[[1, 2, 3, 4]]"
      ]
     },
     "execution_count": 36,
     "metadata": {},
     "output_type": "execute_result"
    }
   ],
   "source": [
    "lst = [[1,2,3,4]] # (1,4) matrix = 길이가 4인 row-vector\n",
    "lst"
   ]
  },
  {
   "cell_type": "code",
   "execution_count": 38,
   "id": "1307d111-2a5a-4b29-9808-5908110c849e",
   "metadata": {},
   "outputs": [
    {
     "data": {
      "text/plain": [
       "array([[1, 2, 3, 4]])"
      ]
     },
     "execution_count": 38,
     "metadata": {},
     "output_type": "execute_result"
    }
   ],
   "source": [
    "np.array(lst)"
   ]
  },
  {
   "cell_type": "markdown",
   "id": "6a4dd379-e9c5-4e5d-a3ec-c2383ae1ac56",
   "metadata": {
    "id": "6a4dd379-e9c5-4e5d-a3ec-c2383ae1ac56",
    "tags": []
   },
   "source": [
    "#### 선언"
   ]
  },
  {
   "cell_type": "markdown",
   "id": "3514e6f9-f8af-409e-83b6-ca3d15fe25c3",
   "metadata": {},
   "source": [
    "`-` 스칼라"
   ]
  },
  {
   "cell_type": "code",
   "execution_count": 43,
   "id": "9e8beb20-0e18-4aa9-bd4b-467519ea1a30",
   "metadata": {},
   "outputs": [
    {
     "data": {
      "text/plain": [
       "<tf.Tensor: shape=(), dtype=float32, numpy=3.14>"
      ]
     },
     "execution_count": 43,
     "metadata": {},
     "output_type": "execute_result"
    }
   ],
   "source": [
    "tf.constant(3.14)"
   ]
  },
  {
   "cell_type": "code",
   "execution_count": 44,
   "id": "d549d2c4-7cda-4212-9c8d-31e97188093f",
   "metadata": {},
   "outputs": [
    {
     "data": {
      "text/plain": [
       "<tf.Tensor: shape=(), dtype=float32, numpy=6.28>"
      ]
     },
     "execution_count": 44,
     "metadata": {},
     "output_type": "execute_result"
    }
   ],
   "source": [
    "tf.constant(3.14) + tf.constant(3.14)"
   ]
  },
  {
   "cell_type": "markdown",
   "id": "34e058a1-7a33-4ce3-bf20-f0ec4c4f1704",
   "metadata": {},
   "source": [
    "- 텐서플로로 꼭 바꿔줘야 함!"
   ]
  },
  {
   "cell_type": "markdown",
   "id": "c2bfc97f-99a1-4dc5-8ca5-57d81db01b25",
   "metadata": {},
   "source": [
    "`-` 벡터"
   ]
  },
  {
   "cell_type": "code",
   "execution_count": 50,
   "id": "a62e22bf-add3-4300-aa43-af9a17ca7efb",
   "metadata": {},
   "outputs": [
    {
     "data": {
      "text/plain": [
       "<property at 0x7feb9dc2b0b0>"
      ]
     },
     "execution_count": 50,
     "metadata": {},
     "output_type": "execute_result"
    }
   ],
   "source": [
    "type(tf.constant(1)).shape"
   ]
  },
  {
   "cell_type": "markdown",
   "id": "db79211f-706f-4388-9e10-6b057ec840fb",
   "metadata": {
    "id": "db79211f-706f-4388-9e10-6b057ec840fb"
   },
   "source": [
    "#### 타입"
   ]
  },
  {
   "cell_type": "code",
   "execution_count": 51,
   "id": "e14521d9-1496-42e2-af90-77cc7c65098d",
   "metadata": {},
   "outputs": [
    {
     "data": {
      "text/plain": [
       "tensorflow.python.framework.ops.EagerTensor"
      ]
     },
     "execution_count": 51,
     "metadata": {},
     "output_type": "execute_result"
    }
   ],
   "source": [
    "type(tf.constant([1,2,3]))"
   ]
  },
  {
   "cell_type": "markdown",
   "id": "3527ea3f-bd2d-4497-97e1-94a2bf4ce507",
   "metadata": {},
   "source": [
    "- 자료형 확인"
   ]
  },
  {
   "cell_type": "code",
   "execution_count": 47,
   "id": "6a31a221-789a-45c3-b452-eec7e29c62e6",
   "metadata": {},
   "outputs": [
    {
     "data": {
      "text/plain": [
       "<tf.Tensor: shape=(), dtype=int32, numpy=1>"
      ]
     },
     "execution_count": 47,
     "metadata": {},
     "output_type": "execute_result"
    }
   ],
   "source": [
    "tf.constant(1)"
   ]
  },
  {
   "cell_type": "code",
   "execution_count": 52,
   "id": "0705b4ca-b9e3-4beb-b77f-7522582e7f75",
   "metadata": {},
   "outputs": [
    {
     "data": {
      "text/plain": [
       "<tf.Tensor: shape=(3,), dtype=int32, numpy=array([1, 2, 3], dtype=int32)>"
      ]
     },
     "execution_count": 52,
     "metadata": {},
     "output_type": "execute_result"
    }
   ],
   "source": [
    "tf.constant([1,2,3])"
   ]
  },
  {
   "cell_type": "code",
   "execution_count": 53,
   "id": "db0db85d-2172-4bc7-a417-b2b18a228c64",
   "metadata": {},
   "outputs": [],
   "source": [
    "_vector = tf.constant([1,2,3])"
   ]
  },
  {
   "cell_type": "code",
   "execution_count": 55,
   "id": "d38ea5e2-a078-472e-b22f-636258c70de6",
   "metadata": {},
   "outputs": [
    {
     "data": {
      "text/plain": [
       "<tf.Tensor: shape=(), dtype=int32, numpy=1>"
      ]
     },
     "execution_count": 55,
     "metadata": {},
     "output_type": "execute_result"
    }
   ],
   "source": [
    "_vector[0]"
   ]
  },
  {
   "cell_type": "markdown",
   "id": "c659e979-ae1c-4165-8d95-10ee68d9b8b8",
   "metadata": {},
   "source": [
    "`-` 매트릭스"
   ]
  },
  {
   "cell_type": "code",
   "execution_count": 56,
   "id": "f584c9a5-dc1b-4810-8251-45d257ad5dc1",
   "metadata": {},
   "outputs": [],
   "source": [
    "_matrix = tf.constant([[1,0],[0,1]])"
   ]
  },
  {
   "cell_type": "code",
   "execution_count": 57,
   "id": "62f03725-ef65-4330-84ef-0322b67cdc4a",
   "metadata": {},
   "outputs": [
    {
     "data": {
      "text/plain": [
       "<tf.Tensor: shape=(2, 2), dtype=int32, numpy=\n",
       "array([[1, 0],\n",
       "       [0, 1]], dtype=int32)>"
      ]
     },
     "execution_count": 57,
     "metadata": {},
     "output_type": "execute_result"
    }
   ],
   "source": [
    "_matrix"
   ]
  },
  {
   "cell_type": "markdown",
   "id": "23aa408e-3f19-405a-9b18-5708c38ee7f5",
   "metadata": {},
   "source": [
    "3차원 이상의 배열은 tensor~"
   ]
  },
  {
   "cell_type": "markdown",
   "id": "d7da1d62-6962-4e57-8f2a-82646e974c9a",
   "metadata": {},
   "source": [
    "`-` array"
   ]
  },
  {
   "cell_type": "code",
   "execution_count": 65,
   "id": "a94f1a33-aaad-44bd-81a1-7f6a8d94eb4c",
   "metadata": {},
   "outputs": [
    {
     "data": {
      "text/plain": [
       "array([[[ 0,  1,  1],\n",
       "        [ 1,  2, -1]],\n",
       "\n",
       "       [[ 0,  1,  2],\n",
       "        [ 1,  2, -1]]])"
      ]
     },
     "execution_count": 65,
     "metadata": {},
     "output_type": "execute_result"
    }
   ],
   "source": [
    "np.array([[[0,1,1],[1,2,-1]],[[0,1,2],[1,2,-1]]])"
   ]
  },
  {
   "cell_type": "code",
   "execution_count": 64,
   "id": "54946f61-fec1-4fb9-a6e3-43d42c38ff8a",
   "metadata": {},
   "outputs": [
    {
     "data": {
      "text/plain": [
       "(2, 2, 3)"
      ]
     },
     "execution_count": 64,
     "metadata": {},
     "output_type": "execute_result"
    }
   ],
   "source": [
    "np.array([[[0,1,1],[1,2,-1]],[[0,1,2],[1,2,-1]]]).shape"
   ]
  },
  {
   "cell_type": "code",
   "execution_count": 63,
   "id": "0017f93d-5aa3-4903-9257-442e31f56973",
   "metadata": {},
   "outputs": [
    {
     "data": {
      "text/plain": [
       "<tf.Tensor: shape=(2, 2, 3), dtype=int64, numpy=\n",
       "array([[[ 0,  1,  1],\n",
       "        [ 1,  2, -1]],\n",
       "\n",
       "       [[ 0,  1,  2],\n",
       "        [ 1,  2, -1]]])>"
      ]
     },
     "execution_count": 63,
     "metadata": {},
     "output_type": "execute_result"
    }
   ],
   "source": [
    "tf.constant(np.array([[[0,1,1],[1,2,-1]],[[0,1,2],[1,2,-1]]]))"
   ]
  },
  {
   "cell_type": "markdown",
   "id": "f06b1e19-16d1-4667-b881-5aabf63c84d9",
   "metadata": {
    "id": "f06b1e19-16d1-4667-b881-5aabf63c84d9"
   },
   "source": [
    "#### 인덱싱 "
   ]
  },
  {
   "cell_type": "code",
   "execution_count": 66,
   "id": "286c4b5e-1cb1-4259-952e-ebcce3581288",
   "metadata": {},
   "outputs": [
    {
     "data": {
      "text/plain": [
       "<tf.Tensor: shape=(2, 2), dtype=int32, numpy=\n",
       "array([[1, 2],\n",
       "       [3, 4]], dtype=int32)>"
      ]
     },
     "execution_count": 66,
     "metadata": {},
     "output_type": "execute_result"
    }
   ],
   "source": [
    "_matrix = tf.constant([[1,2],[3,4]])\n",
    "_matrix"
   ]
  },
  {
   "cell_type": "code",
   "execution_count": 69,
   "id": "1b07b2ed-f98b-46ba-a453-82e93977d998",
   "metadata": {},
   "outputs": [
    {
     "data": {
      "text/plain": [
       "<tf.Tensor: shape=(), dtype=int32, numpy=1>"
      ]
     },
     "execution_count": 69,
     "metadata": {},
     "output_type": "execute_result"
    }
   ],
   "source": [
    "_matrix[0][0]"
   ]
  },
  {
   "cell_type": "code",
   "execution_count": 70,
   "id": "ae27bd6d-2263-4e88-9046-7e586de8dcb7",
   "metadata": {},
   "outputs": [
    {
     "data": {
      "text/plain": [
       "<tf.Tensor: shape=(2,), dtype=int32, numpy=array([1, 2], dtype=int32)>"
      ]
     },
     "execution_count": 70,
     "metadata": {},
     "output_type": "execute_result"
    }
   ],
   "source": [
    "_matrix[0]"
   ]
  },
  {
   "cell_type": "code",
   "execution_count": 71,
   "id": "db1993c9-a255-4e4e-8874-6071064d313d",
   "metadata": {},
   "outputs": [
    {
     "data": {
      "text/plain": [
       "<tf.Tensor: shape=(2,), dtype=int32, numpy=array([1, 2], dtype=int32)>"
      ]
     },
     "execution_count": 71,
     "metadata": {},
     "output_type": "execute_result"
    }
   ],
   "source": [
    "_matrix[0,:]"
   ]
  },
  {
   "cell_type": "code",
   "execution_count": 72,
   "id": "90e9a0af-0683-4146-afa8-9b883d8e4b57",
   "metadata": {},
   "outputs": [
    {
     "data": {
      "text/plain": [
       "<tf.Tensor: shape=(2,), dtype=int32, numpy=array([1, 3], dtype=int32)>"
      ]
     },
     "execution_count": 72,
     "metadata": {},
     "output_type": "execute_result"
    }
   ],
   "source": [
    "_matrix[:,0]"
   ]
  },
  {
   "cell_type": "markdown",
   "id": "6e5e2e1d-da84-4aab-bb58-8dd202bcfa97",
   "metadata": {},
   "source": [
    "- list 이기 때문에 "
   ]
  },
  {
   "cell_type": "markdown",
   "id": "cebc2e49-6c71-47bf-a884-e8556c3198cf",
   "metadata": {
    "id": "cebc2e49-6c71-47bf-a884-e8556c3198cf"
   },
   "source": [
    "#### tf.constant는 불편하다. "
   ]
  },
  {
   "cell_type": "markdown",
   "id": "97afddab-3007-426d-a21d-dd7056351b8a",
   "metadata": {},
   "source": [
    "`-` 불편한 점\n",
    "1. 모든 데이터 타입이 다 같아야 한다.\n",
    "2. 원소 수정을 일부만 하는 것이 불가능하다\n",
    "3. 묵시적 변환이 불가능하다"
   ]
  },
  {
   "cell_type": "code",
   "execution_count": 106,
   "id": "275e16b7-3062-4e88-9fd7-6d94ea748495",
   "metadata": {},
   "outputs": [
    {
     "data": {
      "text/plain": [
       "<tf.Tensor: shape=(3,), dtype=int32, numpy=array([ 1, 22, 33], dtype=int32)>"
      ]
     },
     "execution_count": 106,
     "metadata": {},
     "output_type": "execute_result"
    }
   ],
   "source": [
    "a = tf.constant([1,22,33])\n",
    "a"
   ]
  },
  {
   "cell_type": "code",
   "execution_count": 107,
   "id": "71fd4af6-7f1e-414a-97ce-b6bb031e559f",
   "metadata": {},
   "outputs": [
    {
     "data": {
      "text/plain": [
       "<tf.Tensor: shape=(), dtype=int32, numpy=1>"
      ]
     },
     "execution_count": 107,
     "metadata": {},
     "output_type": "execute_result"
    }
   ],
   "source": [
    "a[0]"
   ]
  },
  {
   "cell_type": "code",
   "execution_count": 109,
   "id": "50a98d40-63ff-4335-b154-00a123b0c186",
   "metadata": {},
   "outputs": [
    {
     "ename": "TypeError",
     "evalue": "'tensorflow.python.framework.ops.EagerTensor' object does not support item assignment",
     "output_type": "error",
     "traceback": [
      "\u001b[0;31m---------------------------------------------------------------------------\u001b[0m",
      "\u001b[0;31mTypeError\u001b[0m                                 Traceback (most recent call last)",
      "Input \u001b[0;32mIn [109]\u001b[0m, in \u001b[0;36m<cell line: 1>\u001b[0;34m()\u001b[0m\n\u001b[0;32m----> 1\u001b[0m a[\u001b[38;5;241m0\u001b[39m] \u001b[38;5;241m=\u001b[39m [\u001b[38;5;241m11\u001b[39m]\n",
      "\u001b[0;31mTypeError\u001b[0m: 'tensorflow.python.framework.ops.EagerTensor' object does not support item assignment"
     ]
    }
   ],
   "source": [
    "a[0] = [11]"
   ]
  },
  {
   "cell_type": "code",
   "execution_count": 110,
   "id": "841ab3cf-de40-4cc7-a9dd-e35ff3d18f1f",
   "metadata": {},
   "outputs": [
    {
     "data": {
      "text/plain": [
       "(4, 14)"
      ]
     },
     "execution_count": 110,
     "metadata": {},
     "output_type": "execute_result"
    }
   ],
   "source": [
    "1 + 3,14"
   ]
  },
  {
   "cell_type": "markdown",
   "id": "d798df90-ca10-4719-9b0e-7478fccda7f6",
   "metadata": {},
   "source": [
    "- int랑 float이랑 더하면 원래 int가 float으로 자동으로 바뀌어서 4.14로 계산되어야 하는 거 아닌가!"
   ]
  },
  {
   "cell_type": "code",
   "execution_count": 111,
   "id": "c555221c-6485-47ab-8b44-9ea22b53d11a",
   "metadata": {},
   "outputs": [
    {
     "data": {
      "text/plain": [
       "<tf.Tensor: shape=(), dtype=float32, numpy=1.0>"
      ]
     },
     "execution_count": 111,
     "metadata": {},
     "output_type": "execute_result"
    }
   ],
   "source": [
    "tf.constant(1.0)"
   ]
  },
  {
   "cell_type": "code",
   "execution_count": 112,
   "id": "76e323b8-3b75-426f-988b-f3d52bb1b6c8",
   "metadata": {},
   "outputs": [
    {
     "data": {
      "text/plain": [
       "<tf.Tensor: shape=(), dtype=float32, numpy=3.14>"
      ]
     },
     "execution_count": 112,
     "metadata": {},
     "output_type": "execute_result"
    }
   ],
   "source": [
    "tf.constant(3.14)"
   ]
  },
  {
   "cell_type": "code",
   "execution_count": 113,
   "id": "21a80b65-6bef-43b4-b166-86127a4ad2a9",
   "metadata": {},
   "outputs": [
    {
     "data": {
      "text/plain": [
       "<tf.Tensor: shape=(), dtype=float32, numpy=4.1400003>"
      ]
     },
     "execution_count": 113,
     "metadata": {},
     "output_type": "execute_result"
    }
   ],
   "source": [
    "tf.constant(1.0) + tf.constant(3.14)"
   ]
  },
  {
   "cell_type": "markdown",
   "id": "1d2af4e3-14d0-43ad-95c0-cba7e96b7f75",
   "metadata": {},
   "source": [
    "- 이제 되네~"
   ]
  },
  {
   "cell_type": "markdown",
   "id": "60cc1887-3c72-4caf-9fe4-12175cf0e077",
   "metadata": {},
   "source": [
    "`-` 같은 float도 안 되는 경우가 있음"
   ]
  },
  {
   "cell_type": "code",
   "execution_count": 114,
   "id": "08c1ea07-3016-4383-802b-65f81c123ff5",
   "metadata": {},
   "outputs": [
    {
     "data": {
      "text/plain": [
       "<tf.Tensor: shape=(), dtype=float64, numpy=1.0>"
      ]
     },
     "execution_count": 114,
     "metadata": {},
     "output_type": "execute_result"
    }
   ],
   "source": [
    "tf.constant(1.0,dtype=tf.float64)"
   ]
  },
  {
   "cell_type": "code",
   "execution_count": 115,
   "id": "2309b3bb-f13f-4f2d-bcd6-64feefff7365",
   "metadata": {},
   "outputs": [
    {
     "data": {
      "text/plain": [
       "<tf.Tensor: shape=(), dtype=float32, numpy=3.14>"
      ]
     },
     "execution_count": 115,
     "metadata": {},
     "output_type": "execute_result"
    }
   ],
   "source": [
    "tf.constant(3.14)"
   ]
  },
  {
   "cell_type": "code",
   "execution_count": 116,
   "id": "d4543ba4-0c3e-4d79-b435-7108782f8538",
   "metadata": {},
   "outputs": [
    {
     "ename": "InvalidArgumentError",
     "evalue": "cannot compute AddV2 as input #1(zero-based) was expected to be a double tensor but is a float tensor [Op:AddV2]",
     "output_type": "error",
     "traceback": [
      "\u001b[0;31m---------------------------------------------------------------------------\u001b[0m",
      "\u001b[0;31mInvalidArgumentError\u001b[0m                      Traceback (most recent call last)",
      "Input \u001b[0;32mIn [116]\u001b[0m, in \u001b[0;36m<cell line: 1>\u001b[0;34m()\u001b[0m\n\u001b[0;32m----> 1\u001b[0m \u001b[43mtf\u001b[49m\u001b[38;5;241;43m.\u001b[39;49m\u001b[43mconstant\u001b[49m\u001b[43m(\u001b[49m\u001b[38;5;241;43m1.0\u001b[39;49m\u001b[43m,\u001b[49m\u001b[43mdtype\u001b[49m\u001b[38;5;241;43m=\u001b[39;49m\u001b[43mtf\u001b[49m\u001b[38;5;241;43m.\u001b[39;49m\u001b[43mfloat64\u001b[49m\u001b[43m)\u001b[49m\u001b[43m \u001b[49m\u001b[38;5;241;43m+\u001b[39;49m\u001b[43m \u001b[49m\u001b[43mtf\u001b[49m\u001b[38;5;241;43m.\u001b[39;49m\u001b[43mconstant\u001b[49m\u001b[43m(\u001b[49m\u001b[38;5;241;43m3.14\u001b[39;49m\u001b[43m)\u001b[49m\n",
      "File \u001b[0;32m~/anaconda3/envs/stbda2022/lib/python3.10/site-packages/tensorflow/python/util/traceback_utils.py:153\u001b[0m, in \u001b[0;36mfilter_traceback.<locals>.error_handler\u001b[0;34m(*args, **kwargs)\u001b[0m\n\u001b[1;32m    151\u001b[0m \u001b[38;5;28;01mexcept\u001b[39;00m \u001b[38;5;167;01mException\u001b[39;00m \u001b[38;5;28;01mas\u001b[39;00m e:\n\u001b[1;32m    152\u001b[0m   filtered_tb \u001b[38;5;241m=\u001b[39m _process_traceback_frames(e\u001b[38;5;241m.\u001b[39m__traceback__)\n\u001b[0;32m--> 153\u001b[0m   \u001b[38;5;28;01mraise\u001b[39;00m e\u001b[38;5;241m.\u001b[39mwith_traceback(filtered_tb) \u001b[38;5;28;01mfrom\u001b[39;00m \u001b[38;5;28mNone\u001b[39m\n\u001b[1;32m    154\u001b[0m \u001b[38;5;28;01mfinally\u001b[39;00m:\n\u001b[1;32m    155\u001b[0m   \u001b[38;5;28;01mdel\u001b[39;00m filtered_tb\n",
      "File \u001b[0;32m~/anaconda3/envs/stbda2022/lib/python3.10/site-packages/tensorflow/python/framework/ops.py:7107\u001b[0m, in \u001b[0;36mraise_from_not_ok_status\u001b[0;34m(e, name)\u001b[0m\n\u001b[1;32m   7105\u001b[0m \u001b[38;5;28;01mdef\u001b[39;00m \u001b[38;5;21mraise_from_not_ok_status\u001b[39m(e, name):\n\u001b[1;32m   7106\u001b[0m   e\u001b[38;5;241m.\u001b[39mmessage \u001b[38;5;241m+\u001b[39m\u001b[38;5;241m=\u001b[39m (\u001b[38;5;124m\"\u001b[39m\u001b[38;5;124m name: \u001b[39m\u001b[38;5;124m\"\u001b[39m \u001b[38;5;241m+\u001b[39m name \u001b[38;5;28;01mif\u001b[39;00m name \u001b[38;5;129;01mis\u001b[39;00m \u001b[38;5;129;01mnot\u001b[39;00m \u001b[38;5;28;01mNone\u001b[39;00m \u001b[38;5;28;01melse\u001b[39;00m \u001b[38;5;124m\"\u001b[39m\u001b[38;5;124m\"\u001b[39m)\n\u001b[0;32m-> 7107\u001b[0m   \u001b[38;5;28;01mraise\u001b[39;00m core\u001b[38;5;241m.\u001b[39m_status_to_exception(e) \u001b[38;5;28;01mfrom\u001b[39;00m \u001b[38;5;28mNone\u001b[39m\n",
      "\u001b[0;31mInvalidArgumentError\u001b[0m: cannot compute AddV2 as input #1(zero-based) was expected to be a double tensor but is a float tensor [Op:AddV2]"
     ]
    }
   ],
   "source": [
    "tf.constant(1.0,dtype=tf.float64) + tf.constant(3.14)"
   ]
  },
  {
   "cell_type": "markdown",
   "id": "295aa0fa-f1d4-4f35-97eb-6ca2ad69a584",
   "metadata": {},
   "source": [
    "안 되는 모습!!"
   ]
  },
  {
   "cell_type": "markdown",
   "id": "0f7a75ed-b984-4f27-9440-d57253cb89bd",
   "metadata": {
    "id": "0f7a75ed-b984-4f27-9440-d57253cb89bd"
   },
   "source": [
    "#### tf.constant $\\to$ 넘파이 "
   ]
  },
  {
   "cell_type": "markdown",
   "id": "6e49a450-2076-487b-a6c5-5f1b47406906",
   "metadata": {},
   "source": [
    "---"
   ]
  },
  {
   "cell_type": "code",
   "execution_count": 117,
   "id": "10c2bf25-10a0-4756-97a3-5ca149d25061",
   "metadata": {},
   "outputs": [
    {
     "data": {
      "text/plain": [
       "array([4.14])"
      ]
     },
     "execution_count": 117,
     "metadata": {},
     "output_type": "execute_result"
    }
   ],
   "source": [
    "np.array([3.14]) + np.array([1.0])"
   ]
  },
  {
   "cell_type": "code",
   "execution_count": 118,
   "id": "1fe8d194-67ff-4d39-b560-7ad609df9ca0",
   "metadata": {},
   "outputs": [
    {
     "data": {
      "text/plain": [
       "<tf.Tensor: shape=(2,), dtype=float64, numpy=array([ 4.14, -1.14])>"
      ]
     },
     "execution_count": 118,
     "metadata": {},
     "output_type": "execute_result"
    }
   ],
   "source": [
    "tf.constant(np.array([3.14,-3.14]) + np.array([1,2]))"
   ]
  },
  {
   "cell_type": "markdown",
   "id": "8d4c9e8c-ebb5-46fa-af88-e28289c1f52b",
   "metadata": {},
   "source": [
    "---"
   ]
  },
  {
   "cell_type": "code",
   "execution_count": 119,
   "id": "d284a764-f5e9-4eff-979b-54f5ff4ddc2e",
   "metadata": {},
   "outputs": [
    {
     "data": {
      "text/plain": [
       "array(1, dtype=int32)"
      ]
     },
     "execution_count": 119,
     "metadata": {},
     "output_type": "execute_result"
    }
   ],
   "source": [
    "np.array(tf.constant(1)) # 방법 1"
   ]
  },
  {
   "cell_type": "code",
   "execution_count": 120,
   "id": "a69fed2e-fc61-4952-9fc7-0a3aef4c54bd",
   "metadata": {},
   "outputs": [
    {
     "data": {
      "text/plain": [
       "tensorflow.python.framework.ops.EagerTensor"
      ]
     },
     "execution_count": 120,
     "metadata": {},
     "output_type": "execute_result"
    }
   ],
   "source": [
    "a = tf.constant(3.14)\n",
    "type(a)"
   ]
  },
  {
   "cell_type": "code",
   "execution_count": 121,
   "id": "28eafac5-85d8-4e25-a36b-23f47e99e754",
   "metadata": {},
   "outputs": [
    {
     "data": {
      "text/plain": [
       "3.14"
      ]
     },
     "execution_count": 121,
     "metadata": {},
     "output_type": "execute_result"
    }
   ],
   "source": [
    "a.numpy()"
   ]
  },
  {
   "cell_type": "markdown",
   "id": "b1e11f1e-122d-4de3-95e8-e8eda9dac045",
   "metadata": {
    "id": "b1e11f1e-122d-4de3-95e8-e8eda9dac045"
   },
   "source": [
    "#### 연산"
   ]
  },
  {
   "cell_type": "code",
   "execution_count": 123,
   "id": "58d8645e-fa81-4513-b6cd-c9271e39fd1b",
   "metadata": {},
   "outputs": [
    {
     "data": {
      "text/plain": [
       "<tf.Tensor: shape=(2,), dtype=int32, numpy=array([4, 6], dtype=int32)>"
      ]
     },
     "execution_count": 123,
     "metadata": {},
     "output_type": "execute_result"
    }
   ],
   "source": [
    "a = tf.constant([1,2]) \n",
    "b = tf.constant([3,4])\n",
    "a + b"
   ]
  },
  {
   "cell_type": "code",
   "execution_count": 124,
   "id": "ceb55242-92f5-442b-a5ad-1544751a3086",
   "metadata": {},
   "outputs": [
    {
     "data": {
      "text/plain": [
       "<tf.Tensor: shape=(2,), dtype=int32, numpy=array([4, 6], dtype=int32)>"
      ]
     },
     "execution_count": 124,
     "metadata": {},
     "output_type": "execute_result"
    }
   ],
   "source": [
    "tf.add(a,b)"
   ]
  },
  {
   "cell_type": "markdown",
   "id": "29f06ef8-914f-4b94-8221-21b170cc25f4",
   "metadata": {},
   "source": [
    "`-` 곱하기"
   ]
  },
  {
   "cell_type": "code",
   "execution_count": 136,
   "id": "bd5b42e9-791d-40d3-b03a-0734b443fee7",
   "metadata": {},
   "outputs": [
    {
     "data": {
      "text/plain": [
       "<tf.Tensor: shape=(2, 2), dtype=int32, numpy=\n",
       "array([[ 5, 12],\n",
       "       [21, 32]], dtype=int32)>"
      ]
     },
     "execution_count": 136,
     "metadata": {},
     "output_type": "execute_result"
    }
   ],
   "source": [
    "a = tf.constant([[1,2],[3,4]])\n",
    "b = tf.constant([[5,6],[7,8]])\n",
    "a * b # 요소들의 곱"
   ]
  },
  {
   "cell_type": "code",
   "execution_count": 137,
   "id": "f619d71a-7c82-4ed6-91c2-ba5b921a6728",
   "metadata": {},
   "outputs": [
    {
     "data": {
      "text/plain": [
       "<tf.Tensor: shape=(2, 2), dtype=int32, numpy=\n",
       "array([[ 5, 12],\n",
       "       [21, 32]], dtype=int32)>"
      ]
     },
     "execution_count": 137,
     "metadata": {},
     "output_type": "execute_result"
    }
   ],
   "source": [
    "tf.multiply(a,b)"
   ]
  },
  {
   "cell_type": "markdown",
   "id": "6125e58f-b2f2-4975-9bca-40d85da9fcc5",
   "metadata": {},
   "source": [
    "`-` 매트릭스의 곱"
   ]
  },
  {
   "cell_type": "code",
   "execution_count": 138,
   "id": "ad7f9d7e-7a5a-44a8-b5fb-1fce0001e071",
   "metadata": {},
   "outputs": [
    {
     "data": {
      "text/plain": [
       "<tf.Tensor: shape=(2, 1), dtype=int32, numpy=\n",
       "array([[5],\n",
       "       [7]], dtype=int32)>"
      ]
     },
     "execution_count": 138,
     "metadata": {},
     "output_type": "execute_result"
    }
   ],
   "source": [
    "a = tf.constant([[1,0],[0,1]]) # (2,2)\n",
    "b = tf.constant([[5],[7]]) # (2,1)\n",
    "a @ b"
   ]
  },
  {
   "cell_type": "code",
   "execution_count": 139,
   "id": "41277a94-f30b-4fd3-aaad-16fa39e499e6",
   "metadata": {},
   "outputs": [
    {
     "data": {
      "text/plain": [
       "<tf.Tensor: shape=(2, 1), dtype=int32, numpy=\n",
       "array([[5],\n",
       "       [7]], dtype=int32)>"
      ]
     },
     "execution_count": 139,
     "metadata": {},
     "output_type": "execute_result"
    }
   ],
   "source": [
    "tf.matmul(a,b)"
   ]
  },
  {
   "cell_type": "markdown",
   "id": "e2a25443-6b27-4625-a4cd-90d74e72be9c",
   "metadata": {},
   "source": [
    "`-` 역행렬 구하기"
   ]
  },
  {
   "cell_type": "code",
   "execution_count": 140,
   "id": "0512fba2-47d9-41e8-b69f-b266594050e2",
   "metadata": {},
   "outputs": [
    {
     "data": {
      "text/plain": [
       "<tf.Tensor: shape=(2, 2), dtype=int32, numpy=\n",
       "array([[1, 0],\n",
       "       [0, 2]], dtype=int32)>"
      ]
     },
     "execution_count": 140,
     "metadata": {},
     "output_type": "execute_result"
    }
   ],
   "source": [
    "a = tf.constant([[1,0],[0,2]])\n",
    "a"
   ]
  },
  {
   "cell_type": "markdown",
   "id": "9a8e412a-4b9d-4710-9d90-22bad6fb8631",
   "metadata": {},
   "source": [
    "자료향이 int라서 에러가 떠~"
   ]
  },
  {
   "cell_type": "code",
   "execution_count": 141,
   "id": "91686723-2186-4861-8fed-969458aa2bf8",
   "metadata": {},
   "outputs": [
    {
     "ename": "InvalidArgumentError",
     "evalue": "Value for attr 'T' of int32 is not in the list of allowed values: double, float, half, complex64, complex128\n\t; NodeDef: {{node MatrixInverse}}; Op<name=MatrixInverse; signature=input:T -> output:T; attr=adjoint:bool,default=false; attr=T:type,allowed=[DT_DOUBLE, DT_FLOAT, DT_HALF, DT_COMPLEX64, DT_COMPLEX128]> [Op:MatrixInverse]",
     "output_type": "error",
     "traceback": [
      "\u001b[0;31m---------------------------------------------------------------------------\u001b[0m",
      "\u001b[0;31mInvalidArgumentError\u001b[0m                      Traceback (most recent call last)",
      "Input \u001b[0;32mIn [141]\u001b[0m, in \u001b[0;36m<cell line: 1>\u001b[0;34m()\u001b[0m\n\u001b[0;32m----> 1\u001b[0m \u001b[43mtf\u001b[49m\u001b[38;5;241;43m.\u001b[39;49m\u001b[43mlinalg\u001b[49m\u001b[38;5;241;43m.\u001b[39;49m\u001b[43minv\u001b[49m\u001b[43m(\u001b[49m\u001b[43ma\u001b[49m\u001b[43m)\u001b[49m\n",
      "File \u001b[0;32m~/anaconda3/envs/stbda2022/lib/python3.10/site-packages/tensorflow/python/ops/gen_linalg_ops.py:1506\u001b[0m, in \u001b[0;36mmatrix_inverse\u001b[0;34m(input, adjoint, name)\u001b[0m\n\u001b[1;32m   1504\u001b[0m   \u001b[38;5;28;01mreturn\u001b[39;00m _result\n\u001b[1;32m   1505\u001b[0m \u001b[38;5;28;01mexcept\u001b[39;00m _core\u001b[38;5;241m.\u001b[39m_NotOkStatusException \u001b[38;5;28;01mas\u001b[39;00m e:\n\u001b[0;32m-> 1506\u001b[0m   \u001b[43m_ops\u001b[49m\u001b[38;5;241;43m.\u001b[39;49m\u001b[43mraise_from_not_ok_status\u001b[49m\u001b[43m(\u001b[49m\u001b[43me\u001b[49m\u001b[43m,\u001b[49m\u001b[43m \u001b[49m\u001b[43mname\u001b[49m\u001b[43m)\u001b[49m\n\u001b[1;32m   1507\u001b[0m \u001b[38;5;28;01mexcept\u001b[39;00m _core\u001b[38;5;241m.\u001b[39m_FallbackException:\n\u001b[1;32m   1508\u001b[0m   \u001b[38;5;28;01mpass\u001b[39;00m\n",
      "File \u001b[0;32m~/anaconda3/envs/stbda2022/lib/python3.10/site-packages/tensorflow/python/framework/ops.py:7107\u001b[0m, in \u001b[0;36mraise_from_not_ok_status\u001b[0;34m(e, name)\u001b[0m\n\u001b[1;32m   7105\u001b[0m \u001b[38;5;28;01mdef\u001b[39;00m \u001b[38;5;21mraise_from_not_ok_status\u001b[39m(e, name):\n\u001b[1;32m   7106\u001b[0m   e\u001b[38;5;241m.\u001b[39mmessage \u001b[38;5;241m+\u001b[39m\u001b[38;5;241m=\u001b[39m (\u001b[38;5;124m\"\u001b[39m\u001b[38;5;124m name: \u001b[39m\u001b[38;5;124m\"\u001b[39m \u001b[38;5;241m+\u001b[39m name \u001b[38;5;28;01mif\u001b[39;00m name \u001b[38;5;129;01mis\u001b[39;00m \u001b[38;5;129;01mnot\u001b[39;00m \u001b[38;5;28;01mNone\u001b[39;00m \u001b[38;5;28;01melse\u001b[39;00m \u001b[38;5;124m\"\u001b[39m\u001b[38;5;124m\"\u001b[39m)\n\u001b[0;32m-> 7107\u001b[0m   \u001b[38;5;28;01mraise\u001b[39;00m core\u001b[38;5;241m.\u001b[39m_status_to_exception(e) \u001b[38;5;28;01mfrom\u001b[39;00m \u001b[38;5;28mNone\u001b[39m\n",
      "\u001b[0;31mInvalidArgumentError\u001b[0m: Value for attr 'T' of int32 is not in the list of allowed values: double, float, half, complex64, complex128\n\t; NodeDef: {{node MatrixInverse}}; Op<name=MatrixInverse; signature=input:T -> output:T; attr=adjoint:bool,default=false; attr=T:type,allowed=[DT_DOUBLE, DT_FLOAT, DT_HALF, DT_COMPLEX64, DT_COMPLEX128]> [Op:MatrixInverse]"
     ]
    }
   ],
   "source": [
    "tf.linalg.inv(a)"
   ]
  },
  {
   "cell_type": "code",
   "execution_count": 142,
   "id": "43e1382d-14ee-4ce7-bde5-032cc1187bfa",
   "metadata": {},
   "outputs": [
    {
     "data": {
      "text/plain": [
       "<tf.Tensor: shape=(2, 2), dtype=float32, numpy=\n",
       "array([[1., 0.],\n",
       "       [0., 2.]], dtype=float32)>"
      ]
     },
     "execution_count": 142,
     "metadata": {},
     "output_type": "execute_result"
    }
   ],
   "source": [
    "a = tf.constant([[1.0,0.0],[0.0,2.0]])\n",
    "a"
   ]
  },
  {
   "cell_type": "code",
   "execution_count": 143,
   "id": "0919e752-1139-4fc2-9ba4-eacdc7656311",
   "metadata": {},
   "outputs": [
    {
     "data": {
      "text/plain": [
       "<tf.Tensor: shape=(2, 2), dtype=float32, numpy=\n",
       "array([[1. , 0. ],\n",
       "       [0. , 0.5]], dtype=float32)>"
      ]
     },
     "execution_count": 143,
     "metadata": {},
     "output_type": "execute_result"
    }
   ],
   "source": [
    "tf.linalg.inv(a)"
   ]
  },
  {
   "cell_type": "markdown",
   "id": "26d801a9-c946-4a25-bca0-5950d6266280",
   "metadata": {},
   "source": [
    "`-` `tf.linalg.` + `tab` 에서 응용해봐~"
   ]
  },
  {
   "cell_type": "code",
   "execution_count": 144,
   "id": "93bf2971-25fc-48c4-814d-2df01b66daeb",
   "metadata": {},
   "outputs": [
    {
     "name": "stdout",
     "output_type": "stream",
     "text": [
      "tf.Tensor(\n",
      "[[1. 2.]\n",
      " [3. 4.]], shape=(2, 2), dtype=float32)\n"
     ]
    },
    {
     "data": {
      "text/plain": [
       "<tf.Tensor: shape=(), dtype=float32, numpy=-2.0>"
      ]
     },
     "execution_count": 144,
     "metadata": {},
     "output_type": "execute_result"
    }
   ],
   "source": [
    "a = tf.constant([[1.0,2.0],[3.0,4.0]])\n",
    "print(a)\n",
    "tf.linalg.det(a)"
   ]
  },
  {
   "cell_type": "code",
   "execution_count": 145,
   "id": "625e18c5-c593-4b12-903f-a86c207280f4",
   "metadata": {},
   "outputs": [
    {
     "data": {
      "text/plain": [
       "<tf.Tensor: shape=(), dtype=float32, numpy=5.0>"
      ]
     },
     "execution_count": 145,
     "metadata": {},
     "output_type": "execute_result"
    }
   ],
   "source": [
    "tf.linalg.trace(a) # 대각선 원소들의 합"
   ]
  },
  {
   "cell_type": "markdown",
   "id": "36eb6964-8d92-469c-b4fd-5e9ae19bf9af",
   "metadata": {
    "id": "36eb6964-8d92-469c-b4fd-5e9ae19bf9af",
    "tags": []
   },
   "source": [
    "#### 형태변환"
   ]
  },
  {
   "cell_type": "markdown",
   "id": "fc29d8bf-9252-4255-aeab-1f31685c39ae",
   "metadata": {},
   "source": [
    "`-` 기본: `tf.reshape()` 를 이용"
   ]
  },
  {
   "cell_type": "code",
   "execution_count": 147,
   "id": "fb3f84f7-8e68-4c08-a6af-0e617c1fde8d",
   "metadata": {},
   "outputs": [
    {
     "data": {
      "text/plain": [
       "<tf.Tensor: shape=(4,), dtype=int32, numpy=array([1, 2, 3, 4], dtype=int32)>"
      ]
     },
     "execution_count": 147,
     "metadata": {},
     "output_type": "execute_result"
    }
   ],
   "source": [
    "a = tf.constant([1,2,3,4])\n",
    "a"
   ]
  },
  {
   "cell_type": "code",
   "execution_count": 148,
   "id": "f87a02f2-4808-4534-bc39-9f8710243862",
   "metadata": {},
   "outputs": [
    {
     "data": {
      "text/plain": [
       "<tf.Tensor: shape=(4, 1), dtype=int32, numpy=\n",
       "array([[1],\n",
       "       [2],\n",
       "       [3],\n",
       "       [4]], dtype=int32)>"
      ]
     },
     "execution_count": 148,
     "metadata": {},
     "output_type": "execute_result"
    }
   ],
   "source": [
    "tf.reshape(a,(4,1))"
   ]
  },
  {
   "cell_type": "markdown",
   "id": "5ff9cc4b-864d-47b9-92eb-bb38741c7b93",
   "metadata": {},
   "source": [
    "shape바꿔주기 (4,1)에서 (1,4) 로~"
   ]
  },
  {
   "cell_type": "code",
   "execution_count": 149,
   "id": "7cec81bf-8280-45f4-b1fa-c4783fd434a0",
   "metadata": {},
   "outputs": [
    {
     "data": {
      "text/plain": [
       "<tf.Tensor: shape=(2, 2), dtype=int32, numpy=\n",
       "array([[1, 2],\n",
       "       [3, 4]], dtype=int32)>"
      ]
     },
     "execution_count": 149,
     "metadata": {},
     "output_type": "execute_result"
    }
   ],
   "source": [
    "tf.reshape(a,(2,2))"
   ]
  },
  {
   "cell_type": "code",
   "execution_count": 150,
   "id": "193b6f05-c197-4162-91eb-d44e33e20697",
   "metadata": {},
   "outputs": [
    {
     "data": {
      "text/plain": [
       "<tf.Tensor: shape=(2, 2, 1), dtype=int32, numpy=\n",
       "array([[[1],\n",
       "        [2]],\n",
       "\n",
       "       [[3],\n",
       "        [4]]], dtype=int32)>"
      ]
     },
     "execution_count": 150,
     "metadata": {},
     "output_type": "execute_result"
    }
   ],
   "source": [
    "tf.reshape(a,(2,2,1))"
   ]
  },
  {
   "cell_type": "markdown",
   "id": "bbfe82f0-b88d-441e-b419-b4c9612826ac",
   "metadata": {},
   "source": [
    "`-` 다차원"
   ]
  },
  {
   "cell_type": "code",
   "execution_count": 151,
   "id": "26ad4785-121d-46f2-9064-149af6e012e8",
   "metadata": {},
   "outputs": [
    {
     "data": {
      "text/plain": [
       "<tf.Tensor: shape=(12,), dtype=int32, numpy=array([ 1,  2,  3,  4,  5,  6,  7,  8,  9, 10, 11, 12], dtype=int32)>"
      ]
     },
     "execution_count": 151,
     "metadata": {},
     "output_type": "execute_result"
    }
   ],
   "source": [
    "a = tf.constant([1,2,3,4,5,6,7,8,9,10,11,12])\n",
    "a"
   ]
  },
  {
   "cell_type": "code",
   "execution_count": 153,
   "id": "4b9ede3b-acfb-4de7-8fde-35d0ce4cb8f9",
   "metadata": {},
   "outputs": [
    {
     "data": {
      "text/plain": [
       "<tf.Tensor: shape=(2, 2, 3), dtype=int32, numpy=\n",
       "array([[[ 1,  2,  3],\n",
       "        [ 4,  5,  6]],\n",
       "\n",
       "       [[ 7,  8,  9],\n",
       "        [10, 11, 12]]], dtype=int32)>"
      ]
     },
     "execution_count": 153,
     "metadata": {},
     "output_type": "execute_result"
    }
   ],
   "source": [
    "tf.reshape(a,(2,2,3))"
   ]
  },
  {
   "cell_type": "code",
   "execution_count": 154,
   "id": "e93b01fd-1719-453a-b212-332d5139f453",
   "metadata": {},
   "outputs": [
    {
     "data": {
      "text/plain": [
       "<tf.Tensor: shape=(4, 3), dtype=int32, numpy=\n",
       "array([[ 1,  2,  3],\n",
       "       [ 4,  5,  6],\n",
       "       [ 7,  8,  9],\n",
       "       [10, 11, 12]], dtype=int32)>"
      ]
     },
     "execution_count": 154,
     "metadata": {},
     "output_type": "execute_result"
    }
   ],
   "source": [
    "tf.reshape(a,(4,3))"
   ]
  },
  {
   "cell_type": "markdown",
   "id": "6d7d8cf7-cceb-4f72-902a-7f196b20625c",
   "metadata": {},
   "source": [
    "`-` `tf.resh`"
   ]
  },
  {
   "cell_type": "markdown",
   "id": "472f9842-1370-44e4-b56b-8cc08f31e12e",
   "metadata": {},
   "source": [
    "-1을 쓰면 남은 차원을 알아서 계산을 해준다.\n",
    "- 아래의 경우 4 쓰고 -1 쓰면 3으로 자동 계산되는 것~"
   ]
  },
  {
   "cell_type": "code",
   "execution_count": 157,
   "id": "9ebe33d8-80cb-4cf5-833f-d3ff1fbb8b71",
   "metadata": {},
   "outputs": [
    {
     "data": {
      "text/plain": [
       "<tf.Tensor: shape=(4, 3), dtype=int32, numpy=\n",
       "array([[ 1,  2,  3],\n",
       "       [ 4,  5,  6],\n",
       "       [ 7,  8,  9],\n",
       "       [10, 11, 12]], dtype=int32)>"
      ]
     },
     "execution_count": 157,
     "metadata": {},
     "output_type": "execute_result"
    }
   ],
   "source": [
    "tf.reshape(a,(4,-1))"
   ]
  },
  {
   "cell_type": "markdown",
   "id": "0586a603-b39c-45fd-b9cf-c5cf90064313",
   "metadata": {},
   "source": [
    "아래의 경우 2,2,-1 쓰면 -1이 알아서 계산~"
   ]
  },
  {
   "cell_type": "code",
   "execution_count": 159,
   "id": "6b3afb9f-8233-4f6d-8d53-e46abb2bfc7f",
   "metadata": {},
   "outputs": [
    {
     "data": {
      "text/plain": [
       "<tf.Tensor: shape=(2, 2, 3), dtype=int32, numpy=\n",
       "array([[[ 1,  2,  3],\n",
       "        [ 4,  5,  6]],\n",
       "\n",
       "       [[ 7,  8,  9],\n",
       "        [10, 11, 12]]], dtype=int32)>"
      ]
     },
     "execution_count": 159,
     "metadata": {},
     "output_type": "execute_result"
    }
   ],
   "source": [
    "tf.reshape(a,(2,2,-1))"
   ]
  },
  {
   "cell_type": "code",
   "execution_count": 160,
   "id": "01a1e246-1fa1-4ce6-879f-0f0681c8a7dc",
   "metadata": {},
   "outputs": [
    {
     "data": {
      "text/plain": [
       "<tf.Tensor: shape=(2, 2, 3), dtype=int32, numpy=\n",
       "array([[[ 1,  2,  3],\n",
       "        [ 4,  5,  6]],\n",
       "\n",
       "       [[ 7,  8,  9],\n",
       "        [10, 11, 12]]], dtype=int32)>"
      ]
     },
     "execution_count": 160,
     "metadata": {},
     "output_type": "execute_result"
    }
   ],
   "source": [
    "b = tf.reshape(a,(2,2,-1))\n",
    "b"
   ]
  },
  {
   "cell_type": "markdown",
   "id": "5281c8ad-ef58-44d9-9b7a-1fc29d144f81",
   "metadata": {},
   "source": [
    "-1로 array 변경도 가능~"
   ]
  },
  {
   "cell_type": "code",
   "execution_count": 162,
   "id": "3193459b-e20b-4b8c-887f-e013ab714cc3",
   "metadata": {},
   "outputs": [
    {
     "data": {
      "text/plain": [
       "<tf.Tensor: shape=(12,), dtype=int32, numpy=array([ 1,  2,  3,  4,  5,  6,  7,  8,  9, 10, 11, 12], dtype=int32)>"
      ]
     },
     "execution_count": 162,
     "metadata": {},
     "output_type": "execute_result"
    }
   ],
   "source": [
    "tf.reshape(b,-1)"
   ]
  },
  {
   "cell_type": "markdown",
   "id": "327eb735-9f41-40d5-8837-1ff630860b58",
   "metadata": {
    "id": "327eb735-9f41-40d5-8837-1ff630860b58"
   },
   "source": [
    "#### 선언고급 "
   ]
  },
  {
   "cell_type": "markdown",
   "id": "154575ea-1bee-4cd4-b2c8-66ca78d03848",
   "metadata": {},
   "source": [
    "`-` 다른 자료형 (리스트나 넘파이)로 만들고 바꾸는 것도 좋다."
   ]
  },
  {
   "cell_type": "code",
   "execution_count": 164,
   "id": "43a87feb-d56c-4e60-8724-90f0c1022d60",
   "metadata": {},
   "outputs": [
    {
     "data": {
      "text/plain": [
       "array([[1, 0, 0, 0],\n",
       "       [0, 2, 0, 0],\n",
       "       [0, 0, 3, 0],\n",
       "       [0, 0, 0, 4]])"
      ]
     },
     "execution_count": 164,
     "metadata": {},
     "output_type": "execute_result"
    }
   ],
   "source": [
    "np.diag([1,2,3,4]) # 대각행렬 만들어"
   ]
  },
  {
   "cell_type": "code",
   "execution_count": 166,
   "id": "ff8a511a-e77a-45cf-ba8b-70660b32b36d",
   "metadata": {},
   "outputs": [
    {
     "data": {
      "text/plain": [
       "<tf.Tensor: shape=(4, 4), dtype=int64, numpy=\n",
       "array([[1, 0, 0, 0],\n",
       "       [0, 2, 0, 0],\n",
       "       [0, 0, 3, 0],\n",
       "       [0, 0, 0, 4]])>"
      ]
     },
     "execution_count": 166,
     "metadata": {},
     "output_type": "execute_result"
    }
   ],
   "source": [
    "tf.constant(np.diag([1,2,3,4])) # 텐서로도 만들어"
   ]
  },
  {
   "cell_type": "markdown",
   "id": "e2c2876d-0132-431d-a6e6-5b573f0dcb9b",
   "metadata": {},
   "source": [
    "`-` `tf.ones`, `tf.zeros`"
   ]
  },
  {
   "cell_type": "code",
   "execution_count": 167,
   "id": "1b12547f-323f-4216-b62a-fb736d909639",
   "metadata": {},
   "outputs": [
    {
     "data": {
      "text/plain": [
       "<tf.Tensor: shape=(3, 3), dtype=float32, numpy=\n",
       "array([[0., 0., 0.],\n",
       "       [0., 0., 0.],\n",
       "       [0., 0., 0.]], dtype=float32)>"
      ]
     },
     "execution_count": 167,
     "metadata": {},
     "output_type": "execute_result"
    }
   ],
   "source": [
    "tf.zeros([3,3])"
   ]
  },
  {
   "cell_type": "markdown",
   "id": "20d39113-e491-4dc6-8ad0-9cd3499cd59b",
   "metadata": {},
   "source": [
    "아래는 int로 나오고 위에는 float으로 나왔다~"
   ]
  },
  {
   "cell_type": "code",
   "execution_count": 171,
   "id": "16e60ccc-6417-4f88-9973-7d51f8a6e10e",
   "metadata": {},
   "outputs": [
    {
     "data": {
      "text/plain": [
       "<tf.Tensor: shape=(3, 3), dtype=int32, numpy=\n",
       "array([[0, 0, 0],\n",
       "       [0, 0, 0],\n",
       "       [0, 0, 0]], dtype=int32)>"
      ]
     },
     "execution_count": 171,
     "metadata": {},
     "output_type": "execute_result"
    }
   ],
   "source": [
    "tf.reshape(tf.constant([0]*9),(3,-1))"
   ]
  },
  {
   "cell_type": "markdown",
   "id": "68321929-abb1-4c72-a905-67acf20a8e94",
   "metadata": {},
   "source": [
    "`-` range(10)"
   ]
  },
  {
   "cell_type": "code",
   "execution_count": 185,
   "id": "21907e2c-5f57-4805-a049-beee7448800b",
   "metadata": {},
   "outputs": [],
   "source": [
    "a = range(0,12) # genrator야 range는"
   ]
  },
  {
   "cell_type": "code",
   "execution_count": 186,
   "id": "0bbdf5a3-87d7-439c-9e7d-386438716c86",
   "metadata": {},
   "outputs": [
    {
     "name": "stdout",
     "output_type": "stream",
     "text": [
      "range(0, 12)\n"
     ]
    }
   ],
   "source": [
    "print(a)"
   ]
  },
  {
   "cell_type": "code",
   "execution_count": 187,
   "id": "6dbcc945-9159-4fa1-bf0e-4c24e3b713d5",
   "metadata": {},
   "outputs": [
    {
     "data": {
      "text/plain": [
       "\u001b[0;31mType:\u001b[0m        range\n",
       "\u001b[0;31mString form:\u001b[0m range(0, 12)\n",
       "\u001b[0;31mLength:\u001b[0m      12\n",
       "\u001b[0;31mDocstring:\u001b[0m  \n",
       "range(stop) -> range object\n",
       "range(start, stop[, step]) -> range object\n",
       "\n",
       "Return an object that produces a sequence of integers from start (inclusive)\n",
       "to stop (exclusive) by step.  range(i, j) produces i, i+1, i+2, ..., j-1.\n",
       "start defaults to 0, and stop is omitted!  range(4) produces 0, 1, 2, 3.\n",
       "These are exactly the valid indices for a list of 4 elements.\n",
       "When step is given, it specifies the increment (or decrement).\n"
      ]
     },
     "metadata": {},
     "output_type": "display_data"
    }
   ],
   "source": [
    "a?"
   ]
  },
  {
   "cell_type": "code",
   "execution_count": 188,
   "id": "9254e03a-7a8f-4898-8b1e-46925ce35787",
   "metadata": {},
   "outputs": [
    {
     "data": {
      "text/plain": [
       "[0, 1, 2, 3, 4, 5, 6, 7, 8, 9, 10, 11]"
      ]
     },
     "execution_count": 188,
     "metadata": {},
     "output_type": "execute_result"
    }
   ],
   "source": [
    "list(a)"
   ]
  },
  {
   "cell_type": "markdown",
   "id": "2128d7c9-040b-47f8-aab7-1cb6ef37187a",
   "metadata": {},
   "source": [
    "array가 만들어진 모습"
   ]
  },
  {
   "cell_type": "code",
   "execution_count": 189,
   "id": "68f48145-1a82-4633-8ee1-0c09f1ecf8f5",
   "metadata": {},
   "outputs": [
    {
     "data": {
      "text/plain": [
       "<tf.Tensor: shape=(12,), dtype=int32, numpy=array([ 0,  1,  2,  3,  4,  5,  6,  7,  8,  9, 10, 11], dtype=int32)>"
      ]
     },
     "execution_count": 189,
     "metadata": {},
     "output_type": "execute_result"
    }
   ],
   "source": [
    "tf.constant(a)"
   ]
  },
  {
   "cell_type": "code",
   "execution_count": 191,
   "id": "e8b26475-85f3-4abb-bc71-844a6ffa9a94",
   "metadata": {},
   "outputs": [
    {
     "data": {
      "text/plain": [
       "[0, 1, 2, 3, 4]"
      ]
     },
     "execution_count": 191,
     "metadata": {},
     "output_type": "execute_result"
    }
   ],
   "source": [
    "list(range(0,5)) # 0,1,2,3,4"
   ]
  },
  {
   "cell_type": "code",
   "execution_count": 193,
   "id": "bedb7215-bf02-4957-bddd-d9baee587cf2",
   "metadata": {},
   "outputs": [
    {
     "data": {
      "text/plain": [
       "[0, 3, 6, 9, 12, 15, 18, 21, 24, 27, 30, 33, 36, 39, 42, 45, 48]"
      ]
     },
     "execution_count": 193,
     "metadata": {},
     "output_type": "execute_result"
    }
   ],
   "source": [
    "list(range(0,50,3)) # 3씩 건너서 만들어줘!"
   ]
  },
  {
   "cell_type": "markdown",
   "id": "d7208a5a-b631-49b2-8cf3-2b219ac1e519",
   "metadata": {},
   "source": [
    "`-` `tf.linspace`"
   ]
  },
  {
   "cell_type": "code",
   "execution_count": 197,
   "id": "3d3690e1-d904-4c10-a651-f907bff74c77",
   "metadata": {},
   "outputs": [
    {
     "data": {
      "text/plain": [
       "<tf.Tensor: shape=(10,), dtype=float64, numpy=\n",
       "array([0.        , 0.11111111, 0.22222222, 0.33333333, 0.44444444,\n",
       "       0.55555556, 0.66666667, 0.77777778, 0.88888889, 1.        ])>"
      ]
     },
     "execution_count": 197,
     "metadata": {},
     "output_type": "execute_result"
    }
   ],
   "source": [
    "tf.linspace(0,1,10) # 0에서 1 사이의 10개 만들어줘!"
   ]
  },
  {
   "cell_type": "code",
   "execution_count": null,
   "id": "3060ee9b-921c-4261-b85d-ca3af02c6720",
   "metadata": {},
   "outputs": [],
   "source": []
  },
  {
   "cell_type": "markdown",
   "id": "2d0f27b7-688e-437a-856a-7ebb6d6a4a27",
   "metadata": {
    "id": "2d0f27b7-688e-437a-856a-7ebb6d6a4a27"
   },
   "source": [
    "#### tf.concat "
   ]
  },
  {
   "cell_type": "markdown",
   "id": "fd8402bf-ccef-414e-a574-22524b02b593",
   "metadata": {
    "id": "fd8402bf-ccef-414e-a574-22524b02b593"
   },
   "source": [
    "#### tf.stack "
   ]
  },
  {
   "cell_type": "markdown",
   "id": "57cefe0a-61fa-451a-8b7c-cf27ceb750b6",
   "metadata": {
    "id": "57cefe0a-61fa-451a-8b7c-cf27ceb750b6",
    "tags": []
   },
   "source": [
    "#### tf.einsum"
   ]
  },
  {
   "cell_type": "markdown",
   "id": "d314cfb7-f3f1-496d-b5cb-ac6f57eaa503",
   "metadata": {
    "id": "d314cfb7-f3f1-496d-b5cb-ac6f57eaa503"
   },
   "source": [
    "### tnp"
   ]
  },
  {
   "cell_type": "markdown",
   "id": "de010dbc-4294-4a4f-a861-c13799fe1eb6",
   "metadata": {
    "id": "de010dbc-4294-4a4f-a861-c13799fe1eb6"
   },
   "source": [
    "#### tnp 사용방법 (불만해결방법)"
   ]
  },
  {
   "cell_type": "markdown",
   "id": "a7e4538a-52ff-4f84-8ac9-5381e0970fef",
   "metadata": {
    "id": "a7e4538a-52ff-4f84-8ac9-5381e0970fef"
   },
   "source": [
    "#### 선언, 선언고급"
   ]
  },
  {
   "cell_type": "markdown",
   "id": "c1a84f81-fff4-4a5a-b8b2-8045ba3943fe",
   "metadata": {
    "id": "c1a84f81-fff4-4a5a-b8b2-8045ba3943fe"
   },
   "source": [
    "#### 타입"
   ]
  },
  {
   "cell_type": "markdown",
   "id": "bb759864-ef75-4ba0-9a11-d10cca6669f3",
   "metadata": {
    "id": "bb759864-ef75-4ba0-9a11-d10cca6669f3"
   },
   "source": [
    "#### tf.contant로 만들어도 마치 넘파이인듯 쓰는 기능들"
   ]
  },
  {
   "cell_type": "markdown",
   "id": "8426767e-976c-4e35-a390-7f2943ec4e8d",
   "metadata": {
    "id": "8426767e-976c-4e35-a390-7f2943ec4e8d"
   },
   "source": [
    "#### 그렇지만 np.array는 아님 "
   ]
  },
  {
   "cell_type": "markdown",
   "id": "134e8dc9-4dcf-4802-b6c8-ca0178d2792d",
   "metadata": {
    "id": "134e8dc9-4dcf-4802-b6c8-ca0178d2792d"
   },
   "source": [
    "### tf.Variable"
   ]
  },
  {
   "cell_type": "markdown",
   "id": "da5a80db-9fe7-4c46-b210-dd10a07fef3b",
   "metadata": {
    "id": "da5a80db-9fe7-4c46-b210-dd10a07fef3b"
   },
   "source": [
    "#### 선언 "
   ]
  },
  {
   "cell_type": "markdown",
   "id": "e60dd0db-f157-4def-802d-613b2bd20804",
   "metadata": {
    "id": "e60dd0db-f157-4def-802d-613b2bd20804"
   },
   "source": [
    "#### 타입"
   ]
  },
  {
   "cell_type": "markdown",
   "id": "ea5946ae-2c9a-4d31-8720-5c136a024eca",
   "metadata": {
    "id": "ea5946ae-2c9a-4d31-8720-5c136a024eca"
   },
   "source": [
    "#### 인덱싱 "
   ]
  },
  {
   "cell_type": "markdown",
   "id": "7e469d06-98f9-4470-a654-299a97383706",
   "metadata": {
    "id": "7e469d06-98f9-4470-a654-299a97383706"
   },
   "source": [
    "#### tf.Variable $\\to$ 넘파이 "
   ]
  },
  {
   "cell_type": "markdown",
   "id": "065ea0b5-16ea-4884-b640-ac074d0c44ce",
   "metadata": {
    "id": "065ea0b5-16ea-4884-b640-ac074d0c44ce"
   },
   "source": [
    "#### tf.Variable 도 불편하다. "
   ]
  },
  {
   "cell_type": "markdown",
   "id": "6f802f8d-2562-4af8-b386-199fb01461c5",
   "metadata": {
    "id": "6f802f8d-2562-4af8-b386-199fb01461c5"
   },
   "source": [
    "#### 연산 "
   ]
  },
  {
   "cell_type": "markdown",
   "id": "5ae73107-074f-4c65-8ebb-4bf54e889b4c",
   "metadata": {
    "id": "5ae73107-074f-4c65-8ebb-4bf54e889b4c"
   },
   "source": [
    "#### 형태변환 "
   ]
  },
  {
   "cell_type": "markdown",
   "id": "a9b7e7eb-aeb9-491b-83d7-4a3d26334364",
   "metadata": {
    "id": "a9b7e7eb-aeb9-491b-83d7-4a3d26334364"
   },
   "source": [
    "#### 선언고급 "
   ]
  },
  {
   "cell_type": "markdown",
   "id": "ac9fb364-db20-4174-8b1d-5a476436fe77",
   "metadata": {
    "id": "ac9fb364-db20-4174-8b1d-5a476436fe77"
   },
   "source": [
    "#### tf.concat "
   ]
  },
  {
   "cell_type": "markdown",
   "id": "fc96fc7a-a57e-4eee-9931-88bca5d3e0f6",
   "metadata": {
    "id": "fc96fc7a-a57e-4eee-9931-88bca5d3e0f6"
   },
   "source": [
    "#### tf.stack"
   ]
  },
  {
   "cell_type": "markdown",
   "id": "43844a72-d627-49f1-8146-36859459a654",
   "metadata": {
    "id": "43844a72-d627-49f1-8146-36859459a654"
   },
   "source": [
    "#### 심지어 tf.Variable()로 만들어진 오브젝트는 tnp의 효과(은총)도 받지 못함"
   ]
  }
 ],
 "metadata": {
  "colab": {
   "name": "2022-03-14-(2주차) 3월14일.ipynb",
   "provenance": []
  },
  "kernelspec": {
   "display_name": "Python 3 (ipykernel)",
   "language": "python",
   "name": "python3"
  },
  "language_info": {
   "codemirror_mode": {
    "name": "ipython",
    "version": 3
   },
   "file_extension": ".py",
   "mimetype": "text/x-python",
   "name": "python",
   "nbconvert_exporter": "python",
   "pygments_lexer": "ipython3",
   "version": "3.10.0"
  }
 },
 "nbformat": 4,
 "nbformat_minor": 5
}
