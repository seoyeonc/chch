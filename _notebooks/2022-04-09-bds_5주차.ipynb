{
 "cells": [
  {
   "cell_type": "markdown",
   "id": "962369ed-bf5d-4180-9e5e-16657bbbc0dc",
   "metadata": {
    "tags": []
   },
   "source": [
    "# 빅데이터 분석 특강 (5주차) 4월 4일 \n",
    "\n",
    "- toc:true\n",
    "- branch: master\n",
    "- badges: true\n",
    "- comments: false\n",
    "- author: 최서연\n",
    "- categories: [Special Topics in Big Data Analysis, TensorFlow, TensorFlow NumPy]"
   ]
  },
  {
   "cell_type": "markdown",
   "id": "ea093d98-e476-4de2-9ff5-7b98f7d621e2",
   "metadata": {
    "id": "ea093d98-e476-4de2-9ff5-7b98f7d621e2"
   },
   "source": [
    "### imports "
   ]
  },
  {
   "cell_type": "code",
   "execution_count": 516,
   "id": "5ae54fd7-4dfb-4879-b711-70ef051721e3",
   "metadata": {
    "id": "5ae54fd7-4dfb-4879-b711-70ef051721e3"
   },
   "outputs": [],
   "source": [
    "#!conda install -c conda-forge python-graphviz -y"
   ]
  },
  {
   "cell_type": "code",
   "execution_count": 517,
   "id": "4ec7ad60-84d4-4b61-88d0-5f83872be0be",
   "metadata": {
    "id": "4ec7ad60-84d4-4b61-88d0-5f83872be0be"
   },
   "outputs": [],
   "source": [
    "import tensorflow as tf \n",
    "import numpy as np\n",
    "import matplotlib.pyplot as plt "
   ]
  },
  {
   "cell_type": "code",
   "execution_count": 518,
   "id": "9691fb34-384f-4317-9437-998e8219cf8a",
   "metadata": {
    "id": "9691fb34-384f-4317-9437-998e8219cf8a"
   },
   "outputs": [],
   "source": [
    "import tensorflow.experimental.numpy as tnp "
   ]
  },
  {
   "cell_type": "code",
   "execution_count": 519,
   "id": "2b368af7-2aac-4028-97e2-a83e7196c7dd",
   "metadata": {
    "id": "2b368af7-2aac-4028-97e2-a83e7196c7dd"
   },
   "outputs": [],
   "source": [
    "tnp.experimental_enable_numpy_behavior() "
   ]
  },
  {
   "cell_type": "markdown",
   "id": "3f4677a4-dba0-4274-96b5-a51a892026c9",
   "metadata": {
    "id": "3f4677a4-dba0-4274-96b5-a51a892026c9",
    "tags": []
   },
   "source": [
    "### 최적화의 문제 "
   ]
  },
  {
   "cell_type": "markdown",
   "id": "bc860b47-d266-4cbc-b7da-8a00d565f1d9",
   "metadata": {
    "id": "bc860b47-d266-4cbc-b7da-8a00d565f1d9"
   },
   "source": [
    "`-` $loss=(\\frac{1}{2}\\beta-1)^2$ "
   ]
  },
  {
   "cell_type": "markdown",
   "id": "320ac0cd-9a4d-4e31-a206-2d93581cacbb",
   "metadata": {
    "id": "320ac0cd-9a4d-4e31-a206-2d93581cacbb"
   },
   "source": [
    "`-` 기존에 했던 방법은 수식을 알고 있어야 한다는 단점이 있음 "
   ]
  },
  {
   "cell_type": "markdown",
   "id": "35317c2c-7521-451b-8666-879d6ec88363",
   "metadata": {},
   "source": [
    "- 최적값을 만드는 함수를 만들자-> optimizer\n",
    "- beta=2를 만드는 함수 찾자, loss가 0이 되는 함수 찾자\n",
    "- 수식을 기억할 필요가 없다(장점)"
   ]
  },
  {
   "cell_type": "markdown",
   "id": "0acf255d-c030-4c91-b9e1-1cf62a09fb65",
   "metadata": {
    "id": "0acf255d-c030-4c91-b9e1-1cf62a09fb65"
   },
   "source": [
    "### tf.keras.optimizers를 이용한 최적화방법 "
   ]
  },
  {
   "cell_type": "markdown",
   "id": "1434f90f-3e99-4a2c-b526-768543c0348d",
   "metadata": {
    "id": "1434f90f-3e99-4a2c-b526-768543c0348d"
   },
   "source": [
    "#### 방법1:  `opt.apply_gradients([(slope,beta)])`를 이용"
   ]
  },
  {
   "cell_type": "code",
   "execution_count": 377,
   "id": "c02fe4b5-72a7-4861-b260-b6c8598cb2a0",
   "metadata": {},
   "outputs": [],
   "source": [
    "beta = tnp.linspace(-10,10,100)\n",
    "loss= (beta/2-1)**2"
   ]
  },
  {
   "cell_type": "code",
   "execution_count": 378,
   "id": "2bf322f3-6dda-4715-b0d7-a03a35c02fc8",
   "metadata": {},
   "outputs": [
    {
     "data": {
      "text/plain": [
       "[<matplotlib.lines.Line2D at 0x7f21d40e6440>]"
      ]
     },
     "execution_count": 378,
     "metadata": {},
     "output_type": "execute_result"
    },
    {
     "data": {
      "image/png": "[encoded data removed]",
      "text/plain": [
       "<Figure size 432x288 with 1 Axes>"
      ]
     },
     "metadata": {
      "needs_background": "light"
     },
     "output_type": "display_data"
    }
   ],
   "source": [
    "plt.plot(beta,loss)"
   ]
  },
  {
   "cell_type": "markdown",
   "id": "64c2f563-7ac2-4bbc-b3d3-e02c8d3f112a",
   "metadata": {},
   "source": [
    "학습률 설정"
   ]
  },
  {
   "cell_type": "code",
   "execution_count": 379,
   "id": "333ce121-bb97-4003-90cd-e5a7ee9bef0d",
   "metadata": {},
   "outputs": [],
   "source": [
    "alpha = 0.01/6"
   ]
  },
  {
   "cell_type": "code",
   "execution_count": 380,
   "id": "f720a931-4613-4f90-80ea-66660a2d47e7",
   "metadata": {},
   "outputs": [],
   "source": [
    "beta = tf.Variable(-10.0)"
   ]
  },
  {
   "cell_type": "markdown",
   "id": "244ea893-e4b2-4cc5-9a35-802cc04f4ad8",
   "metadata": {},
   "source": [
    "이전에 했던 거"
   ]
  },
  {
   "cell_type": "code",
   "execution_count": 381,
   "id": "d13a3523-ad16-4c3c-a570-2b4c8176fad5",
   "metadata": {},
   "outputs": [],
   "source": [
    "with tf.GradientTape(persistent=True) as tape:\n",
    "    tape.watch(beta) # 생략 가능\n",
    "    loss = (beta/2-1)**2\n",
    "slope = tape.gradient(loss,beta)"
   ]
  },
  {
   "cell_type": "markdown",
   "id": "09f8e5e0-ee0b-426f-bdbd-9cff7f79fc76",
   "metadata": {},
   "source": [
    "그레디언트 룰 알고 있다는 전제가 필요."
   ]
  },
  {
   "cell_type": "markdown",
   "id": "76f03c38-cc68-40a0-9d70-c71b3b591011",
   "metadata": {},
   "source": [
    "```python\n",
    "beta.assign_sub(slope * alpha)\n",
    "beta\n",
    "```\n",
    "이거 안 하고 싶어\n",
    "- slope와 beta를 opt에 입력해줘야 하겠지?"
   ]
  },
  {
   "cell_type": "code",
   "execution_count": 382,
   "id": "05cab77a-a550-4709-a591-1c1840166414",
   "metadata": {},
   "outputs": [
    {
     "data": {
      "text/plain": [
       "<tf.Tensor: shape=(), dtype=float32, numpy=-6.0>"
      ]
     },
     "execution_count": 382,
     "metadata": {},
     "output_type": "execute_result"
    }
   ],
   "source": [
    "slope"
   ]
  },
  {
   "cell_type": "code",
   "execution_count": 383,
   "id": "3a29d2b4-6db0-4013-bb02-4a25fe0cd331",
   "metadata": {},
   "outputs": [
    {
     "data": {
      "text/plain": [
       "<tf.Variable 'Variable:0' shape=() dtype=float32, numpy=-10.0>"
      ]
     },
     "execution_count": 383,
     "metadata": {},
     "output_type": "execute_result"
    }
   ],
   "source": [
    "beta"
   ]
  },
  {
   "cell_type": "markdown",
   "id": "7ee7b270-125c-43a0-8d76-18f1ff19bf37",
   "metadata": {},
   "source": [
    "`-` iter1: `opt.apply_gradients()` 에 값을 전달하여 beta를 1회 업데이트"
   ]
  },
  {
   "cell_type": "code",
   "execution_count": 384,
   "id": "543c39ca-976f-4978-8040-35819397ef55",
   "metadata": {},
   "outputs": [],
   "source": [
    "opt = tf.keras.optimizers.SGD(alpha)"
   ]
  },
  {
   "cell_type": "markdown",
   "id": "6e566125-0182-4001-963c-8edfcfc4af23",
   "metadata": {},
   "source": [
    "학습률alpha이 0.01인 optimizer 만들어, SGD 확률적 경사 하강법"
   ]
  },
  {
   "cell_type": "code",
   "execution_count": 385,
   "id": "4df3b6c8-9016-4b6e-a7de-4fd0d2940a6d",
   "metadata": {
    "scrolled": true,
    "tags": []
   },
   "outputs": [
    {
     "data": {
      "text/plain": [
       "\u001b[0;31mSignature:\u001b[0m\n",
       "\u001b[0mopt\u001b[0m\u001b[0;34m.\u001b[0m\u001b[0mapply_gradients\u001b[0m\u001b[0;34m(\u001b[0m\u001b[0;34m\u001b[0m\n",
       "\u001b[0;34m\u001b[0m    \u001b[0mgrads_and_vars\u001b[0m\u001b[0;34m,\u001b[0m\u001b[0;34m\u001b[0m\n",
       "\u001b[0;34m\u001b[0m    \u001b[0mname\u001b[0m\u001b[0;34m=\u001b[0m\u001b[0;32mNone\u001b[0m\u001b[0;34m,\u001b[0m\u001b[0;34m\u001b[0m\n",
       "\u001b[0;34m\u001b[0m    \u001b[0mexperimental_aggregate_gradients\u001b[0m\u001b[0;34m=\u001b[0m\u001b[0;32mTrue\u001b[0m\u001b[0;34m,\u001b[0m\u001b[0;34m\u001b[0m\n",
       "\u001b[0;34m\u001b[0m\u001b[0;34m)\u001b[0m\u001b[0;34m\u001b[0m\u001b[0;34m\u001b[0m\u001b[0m\n",
       "\u001b[0;31mDocstring:\u001b[0m\n",
       "Apply gradients to variables.\n",
       "\n",
       "This is the second part of `minimize()`. It returns an `Operation` that\n",
       "applies gradients.\n",
       "\n",
       "The method sums gradients from all replicas in the presence of\n",
       "`tf.distribute.Strategy` by default. You can aggregate gradients yourself by\n",
       "passing `experimental_aggregate_gradients=False`.\n",
       "\n",
       "Example:\n",
       "\n",
       "```python\n",
       "grads = tape.gradient(loss, vars)\n",
       "grads = tf.distribute.get_replica_context().all_reduce('sum', grads)\n",
       "# Processing aggregated gradients.\n",
       "optimizer.apply_gradients(zip(grads, vars),\n",
       "    experimental_aggregate_gradients=False)\n",
       "\n",
       "```\n",
       "\n",
       "Args:\n",
       "  grads_and_vars: List of (gradient, variable) pairs.\n",
       "  name: Optional name for the returned operation. Default to the name passed\n",
       "    to the `Optimizer` constructor.\n",
       "  experimental_aggregate_gradients: Whether to sum gradients from different\n",
       "    replicas in the presence of `tf.distribute.Strategy`. If False, it's\n",
       "    user responsibility to aggregate the gradients. Default to True.\n",
       "\n",
       "Returns:\n",
       "  An `Operation` that applies the specified gradients. The `iterations`\n",
       "  will be automatically increased by 1.\n",
       "\n",
       "Raises:\n",
       "  TypeError: If `grads_and_vars` is malformed.\n",
       "  ValueError: If none of the variables have gradients.\n",
       "  RuntimeError: If called in a cross-replica context.\n",
       "\u001b[0;31mFile:\u001b[0m      ~/anaconda3/envs/stbda2022/lib/python3.10/site-packages/keras/optimizer_v2/optimizer_v2.py\n",
       "\u001b[0;31mType:\u001b[0m      method\n"
      ]
     },
     "metadata": {},
     "output_type": "display_data"
    }
   ],
   "source": [
    "#collapse-output\n",
    "opt.apply_gradients?"
   ]
  },
  {
   "cell_type": "code",
   "execution_count": 386,
   "id": "2faca28c-37de-4ef4-8dfb-388b26016f1c",
   "metadata": {},
   "outputs": [
    {
     "data": {
      "text/plain": [
       "<tf.Variable 'UnreadVariable' shape=() dtype=int64, numpy=1>"
      ]
     },
     "execution_count": 386,
     "metadata": {},
     "output_type": "execute_result"
    }
   ],
   "source": [
    "opt.apply_gradients([(slope,beta)]) # beta.assign_sub(slope * alpha)"
   ]
  },
  {
   "cell_type": "markdown",
   "id": "993b784b-134e-4c26-883a-01e24c928918",
   "metadata": {},
   "source": [
    "() `opt.apply_gradient`를 위한 소괄호 안에 [] `list`를 전달하기 위한 대괄호 안에 () `pair`를 입력하기 위한 소괄호 입력"
   ]
  },
  {
   "cell_type": "markdown",
   "id": "e25ee81e-741f-41cd-a146-65ddacbce073",
   "metadata": {},
   "source": [
    "- 주의점: `opt.apply_gradients()`의 입력으로 pair의 list를 전달해야함."
   ]
  },
  {
   "cell_type": "code",
   "execution_count": 387,
   "id": "4217c247-34ac-4f60-9854-d28fc68d7ffb",
   "metadata": {},
   "outputs": [
    {
     "data": {
      "text/plain": [
       "<tf.Tensor: shape=(), dtype=float32, numpy=-6.0>"
      ]
     },
     "execution_count": 387,
     "metadata": {},
     "output_type": "execute_result"
    }
   ],
   "source": [
    "slope"
   ]
  },
  {
   "cell_type": "code",
   "execution_count": 388,
   "id": "6241672d-bc48-4fd8-8aad-6893b2635b73",
   "metadata": {},
   "outputs": [
    {
     "data": {
      "text/plain": [
       "<tf.Variable 'Variable:0' shape=() dtype=float32, numpy=-9.99>"
      ]
     },
     "execution_count": 388,
     "metadata": {},
     "output_type": "execute_result"
    }
   ],
   "source": [
    "beta"
   ]
  },
  {
   "cell_type": "markdown",
   "id": "108feb85-cd66-476d-9ce8-a5b9fd6dda5b",
   "metadata": {},
   "source": [
    "beta가 -10에서 -9.9로 업데이트 된 모습"
   ]
  },
  {
   "cell_type": "markdown",
   "id": "f730a0a6-9379-4d54-a300-6d2ff3c8d20b",
   "metadata": {},
   "source": [
    "`-`iter2"
   ]
  },
  {
   "cell_type": "code",
   "execution_count": 47,
   "id": "1aaebe51-b18b-4eec-b2bc-0bc932b83c14",
   "metadata": {},
   "outputs": [
    {
     "data": {
      "text/plain": [
       "<tf.Variable 'Variable:0' shape=() dtype=float32, numpy=-9.980008>"
      ]
     },
     "execution_count": 47,
     "metadata": {},
     "output_type": "execute_result"
    }
   ],
   "source": [
    "with tf.GradientTape(persistent=True) as tape:\n",
    "    tape.watch(beta) # 생략 가능\n",
    "    loss = (beta/2-1)**2\n",
    "slope = tape.gradient(loss,beta)\n",
    "opt.apply_gradients([(slope,beta)]) # beta.assign_sub(slope * alpha)\n",
    "beta"
   ]
  },
  {
   "cell_type": "markdown",
   "id": "911321eb-8b07-47e1-b9c1-1bb7e19279f0",
   "metadata": {},
   "source": [
    "beta가 업데이트된 모습"
   ]
  },
  {
   "cell_type": "markdown",
   "id": "d6942e73-af53-41ee-abc0-935ee90288d4",
   "metadata": {},
   "source": [
    "`-` for문으로 반복 정리"
   ]
  },
  {
   "cell_type": "code",
   "execution_count": 58,
   "id": "dbf13f75-3f9b-4021-95d1-97e4b2fae7dd",
   "metadata": {},
   "outputs": [],
   "source": [
    "alpha = 0.01/6\n",
    "beta = tf.Variable(-10.0)\n",
    "opt = tf.keras.optimizers.SGD(alpha)"
   ]
  },
  {
   "cell_type": "code",
   "execution_count": 59,
   "id": "7523bada-2841-4c86-b021-21511a03478e",
   "metadata": {},
   "outputs": [],
   "source": [
    "for epoc in range(10000):\n",
    "    with tf.GradientTape(persistent=True) as tape:\n",
    "        tape.watch(beta) # 생략 가능\n",
    "        loss = (beta/2-1)**2\n",
    "    slope = tape.gradient(loss,beta)\n",
    "    opt.apply_gradients([(slope,beta)]) # beta.assign_sub(slope * alpha)\n",
    "    beta"
   ]
  },
  {
   "cell_type": "code",
   "execution_count": 60,
   "id": "9e7d162d-51e3-4678-825c-216890784424",
   "metadata": {},
   "outputs": [
    {
     "data": {
      "text/plain": [
       "<tf.Variable 'Variable:0' shape=() dtype=float32, numpy=1.9971251>"
      ]
     },
     "execution_count": 60,
     "metadata": {},
     "output_type": "execute_result"
    }
   ],
   "source": [
    "beta"
   ]
  },
  {
   "cell_type": "markdown",
   "id": "14acfb54-dce9-43dc-8f54-2f5d9751a677",
   "metadata": {},
   "source": [
    "2에 가까운 beta가 나온 모습을 볼 수 있었다."
   ]
  },
  {
   "cell_type": "code",
   "execution_count": 540,
   "id": "69009e97-36f4-4926-8a3b-fb901d228612",
   "metadata": {},
   "outputs": [
    {
     "data": {
      "text/plain": [
       "<tf.Variable 'Variable:0' shape=() dtype=float32, numpy=1.9971251>"
      ]
     },
     "execution_count": 540,
     "metadata": {},
     "output_type": "execute_result"
    }
   ],
   "source": [
    "#collapse\n",
    "beta = tf.Variable(-10.0)\n",
    "alpha=0.01/6\n",
    "opt = tf.keras.optimizers.SGD(alpha)\n",
    "for epoc in range(10000):\n",
    "    with tf.GradientTape() as tape:\n",
    "        tape.watch(beta)\n",
    "        loss = (beta/2-1)**2\n",
    "    slope = tape.gradient(loss,beta)\n",
    "    opt.apply_gradients([(slope,beta)])\n",
    "beta"
   ]
  },
  {
   "cell_type": "markdown",
   "id": "9949539d-f156-4da7-8976-ef1af7638964",
   "metadata": {},
   "source": [
    "---"
   ]
  },
  {
   "cell_type": "code",
   "execution_count": 54,
   "id": "7b5ccb40-24d8-4927-afed-c3a09b5a251b",
   "metadata": {},
   "outputs": [
    {
     "data": {
      "text/plain": [
       "<tf.Variable 'learning_rate:0' shape=() dtype=float32, numpy=0.0016666667>"
      ]
     },
     "execution_count": 54,
     "metadata": {},
     "output_type": "execute_result"
    }
   ],
   "source": [
    "opt.learning_rate"
   ]
  },
  {
   "cell_type": "code",
   "execution_count": 57,
   "id": "4e10af3a-6d07-467e-bb7c-f0bff2120266",
   "metadata": {},
   "outputs": [
    {
     "data": {
      "text/plain": [
       "139784512996208"
      ]
     },
     "execution_count": 57,
     "metadata": {},
     "output_type": "execute_result"
    }
   ],
   "source": [
    "id(opt.learning_rate)"
   ]
  },
  {
   "cell_type": "markdown",
   "id": "bc4cf6c8-09c9-42df-aaa1-6b5a04e3dab8",
   "metadata": {},
   "source": [
    "위에는 알파값"
   ]
  },
  {
   "cell_type": "code",
   "execution_count": 55,
   "id": "cb9bb27e-6b4a-45bc-8015-4787743034b9",
   "metadata": {},
   "outputs": [
    {
     "data": {
      "text/plain": [
       "<tf.Variable 'learning_rate:0' shape=() dtype=float32, numpy=0.0016666667>"
      ]
     },
     "execution_count": 55,
     "metadata": {},
     "output_type": "execute_result"
    }
   ],
   "source": [
    "opt.lr"
   ]
  },
  {
   "cell_type": "code",
   "execution_count": 56,
   "id": "cabb8a42-7011-48bc-97b9-9fbe4e46197f",
   "metadata": {},
   "outputs": [
    {
     "data": {
      "text/plain": [
       "139784512996208"
      ]
     },
     "execution_count": 56,
     "metadata": {},
     "output_type": "execute_result"
    }
   ],
   "source": [
    "id(opt.lr)"
   ]
  },
  {
   "cell_type": "markdown",
   "id": "6d9e1a57-3b29-4938-806e-ece903440f99",
   "metadata": {},
   "source": [
    "주소 같네, 같은 거네"
   ]
  },
  {
   "cell_type": "markdown",
   "id": "59c107ec-27e5-438f-a1af-793f1a3fdedf",
   "metadata": {},
   "source": [
    "---"
   ]
  },
  {
   "cell_type": "markdown",
   "id": "779dcb12-af26-47b3-a168-e3c87714106b",
   "metadata": {
    "id": "779dcb12-af26-47b3-a168-e3c87714106b",
    "tags": []
   },
   "source": [
    "#### 방법2: `opt.minimize(loss_fn,beta)`"
   ]
  },
  {
   "cell_type": "markdown",
   "id": "df81dc38-5286-4aa4-ae65-245e1bb5a12a",
   "metadata": {},
   "source": [
    "- 이거 쓰면 gradient tape 안 써도 된다.\n",
    "- gradient tape문법이 까다로울 수 있으니.."
   ]
  },
  {
   "cell_type": "code",
   "execution_count": 343,
   "id": "2fea0f81-acb4-4b33-8eb5-d62490da3386",
   "metadata": {},
   "outputs": [],
   "source": [
    "alpha = 0.01/6\n",
    "beta = tf.Variable(-10.0)\n",
    "opt = tf.keras.optimizers.SGD(alpha)\n",
    "# optimizer를 만든다고 표현."
   ]
  },
  {
   "cell_type": "code",
   "execution_count": 344,
   "id": "31176da4-4e7a-4444-ac1f-d146f34b7432",
   "metadata": {
    "scrolled": true,
    "tags": []
   },
   "outputs": [
    {
     "data": {
      "text/plain": [
       "\u001b[0;31mSignature:\u001b[0m \u001b[0mopt\u001b[0m\u001b[0;34m.\u001b[0m\u001b[0mminimize\u001b[0m\u001b[0;34m(\u001b[0m\u001b[0mloss\u001b[0m\u001b[0;34m,\u001b[0m \u001b[0mvar_list\u001b[0m\u001b[0;34m,\u001b[0m \u001b[0mgrad_loss\u001b[0m\u001b[0;34m=\u001b[0m\u001b[0;32mNone\u001b[0m\u001b[0;34m,\u001b[0m \u001b[0mname\u001b[0m\u001b[0;34m=\u001b[0m\u001b[0;32mNone\u001b[0m\u001b[0;34m,\u001b[0m \u001b[0mtape\u001b[0m\u001b[0;34m=\u001b[0m\u001b[0;32mNone\u001b[0m\u001b[0;34m)\u001b[0m\u001b[0;34m\u001b[0m\u001b[0;34m\u001b[0m\u001b[0m\n",
       "\u001b[0;31mDocstring:\u001b[0m\n",
       "Minimize `loss` by updating `var_list`.\n",
       "\n",
       "This method simply computes gradient using `tf.GradientTape` and calls\n",
       "`apply_gradients()`. If you want to process the gradient before applying\n",
       "then call `tf.GradientTape` and `apply_gradients()` explicitly instead\n",
       "of using this function.\n",
       "\n",
       "Args:\n",
       "  loss: `Tensor` or callable. If a callable, `loss` should take no arguments\n",
       "    and return the value to minimize. If a `Tensor`, the `tape` argument\n",
       "    must be passed.\n",
       "  var_list: list or tuple of `Variable` objects to update to minimize\n",
       "    `loss`, or a callable returning the list or tuple of `Variable` objects.\n",
       "    Use callable when the variable list would otherwise be incomplete before\n",
       "    `minimize` since the variables are created at the first time `loss` is\n",
       "    called.\n",
       "  grad_loss: (Optional). A `Tensor` holding the gradient computed for\n",
       "    `loss`.\n",
       "  name: (Optional) str. Name for the returned operation.\n",
       "  tape: (Optional) `tf.GradientTape`. If `loss` is provided as a `Tensor`,\n",
       "    the tape that computed the `loss` must be provided.\n",
       "\n",
       "Returns:\n",
       "  An `Operation` that updates the variables in `var_list`. The `iterations`\n",
       "  will be automatically increased by 1.\n",
       "\n",
       "Raises:\n",
       "  ValueError: If some of the variables are not `Variable` objects.\n",
       "\u001b[0;31mFile:\u001b[0m      ~/anaconda3/envs/stbda2022/lib/python3.10/site-packages/keras/optimizer_v2/optimizer_v2.py\n",
       "\u001b[0;31mType:\u001b[0m      method\n"
      ]
     },
     "metadata": {},
     "output_type": "display_data"
    }
   ],
   "source": [
    "#collapse-output\n",
    "opt.minimize?"
   ]
  },
  {
   "cell_type": "markdown",
   "id": "87c44c38-fe50-44f1-b62b-42863d347f04",
   "metadata": {},
   "source": [
    "loss fuction써서 넘겨주기"
   ]
  },
  {
   "cell_type": "markdown",
   "id": "6b779f2b-4ad2-40b2-a832-f90b4aefa960",
   "metadata": {},
   "source": [
    "```python\n",
    "loss_fn = lambda: (y-X@beta).T @ (y-X@beta).T\n",
    "#나중에 할 거\n",
    "```"
   ]
  },
  {
   "cell_type": "code",
   "execution_count": 345,
   "id": "37c08d0d-cdb6-4e3a-87dd-32c33a128653",
   "metadata": {},
   "outputs": [],
   "source": [
    "loss_fn = lambda: (beta/2-1)**2"
   ]
  },
  {
   "cell_type": "markdown",
   "id": "3d1682ba-9392-4666-a6e8-9afd3df73309",
   "metadata": {},
   "source": [
    "lambda; 입력함수\n",
    "- `lambda x: x**2` <=> `lambda(x) = x^2`\n",
    "- `lambda x,y: x+y` <=> `lambda(x,y) = x+y`\n",
    "- `lambda y` <=> `lambda()=y`, 입력이 없으며 출력은 항상 y인 함수"
   ]
  },
  {
   "cell_type": "code",
   "execution_count": 346,
   "id": "26e7650e-e33e-49e3-9240-354deae2db7a",
   "metadata": {},
   "outputs": [
    {
     "data": {
      "text/plain": [
       "<tf.Tensor: shape=(), dtype=float32, numpy=36.0>"
      ]
     },
     "execution_count": 346,
     "metadata": {},
     "output_type": "execute_result"
    }
   ],
   "source": [
    "loss_fn() # 입력은 없고 출력은 뭔가 계산되는 함수"
   ]
  },
  {
   "cell_type": "markdown",
   "id": "02baeccc-ae3a-403c-bb7f-ab7fe03c7669",
   "metadata": {},
   "source": [
    "$\\beta$에 $-10$ 넣어줬으니까 $loss$ 계산 되어서 $(\\frac{1}{2}\\beta-1)^2 =36$ 나온 거"
   ]
  },
  {
   "cell_type": "markdown",
   "id": "b4551e66-e4c0-41aa-8ede-2c6f70453908",
   "metadata": {},
   "source": [
    "`-` iter1"
   ]
  },
  {
   "cell_type": "code",
   "execution_count": 347,
   "id": "b8484dc0-b00a-4125-b93f-0d409f2633f7",
   "metadata": {},
   "outputs": [
    {
     "data": {
      "text/plain": [
       "<tf.Variable 'UnreadVariable' shape=() dtype=int64, numpy=1>"
      ]
     },
     "execution_count": 347,
     "metadata": {},
     "output_type": "execute_result"
    }
   ],
   "source": [
    "opt.minimize(loss_fn,beta)"
   ]
  },
  {
   "cell_type": "markdown",
   "id": "3697bf3f-e3d1-41d2-8c27-0380945db78b",
   "metadata": {},
   "source": [
    "loss_fn과 beta를 전달하자"
   ]
  },
  {
   "cell_type": "code",
   "execution_count": 348,
   "id": "ae93b77d-c12e-43b0-ba8d-3357d7748886",
   "metadata": {},
   "outputs": [
    {
     "data": {
      "text/plain": [
       "<tf.Variable 'Variable:0' shape=() dtype=float32, numpy=-9.99>"
      ]
     },
     "execution_count": 348,
     "metadata": {},
     "output_type": "execute_result"
    }
   ],
   "source": [
    "beta"
   ]
  },
  {
   "cell_type": "markdown",
   "id": "419b2f2f-c66f-446e-96a0-5760e5f93e6e",
   "metadata": {},
   "source": [
    "업데이트된 beta"
   ]
  },
  {
   "cell_type": "markdown",
   "id": "dd85828d-5e4d-41b5-97dd-aed0f83a928d",
   "metadata": {},
   "source": [
    "`-` iter2"
   ]
  },
  {
   "cell_type": "code",
   "execution_count": 70,
   "id": "4e1b0c45-308b-4dec-b2ef-33916914d158",
   "metadata": {},
   "outputs": [
    {
     "data": {
      "text/plain": [
       "<tf.Variable 'Variable:0' shape=() dtype=float32, numpy=-9.980008>"
      ]
     },
     "execution_count": 70,
     "metadata": {},
     "output_type": "execute_result"
    }
   ],
   "source": [
    "opt.minimize(loss_fn,beta)\n",
    "beta"
   ]
  },
  {
   "cell_type": "markdown",
   "id": "63440828-df35-47ae-81aa-513a5fda978f",
   "metadata": {},
   "source": [
    "업데이트된 beta"
   ]
  },
  {
   "cell_type": "code",
   "execution_count": 71,
   "id": "b21b46b3-2c02-401c-abe3-4bdaaa0c3891",
   "metadata": {},
   "outputs": [
    {
     "data": {
      "text/plain": [
       "<tf.Variable 'Variable:0' shape=() dtype=float32, numpy=1.9971251>"
      ]
     },
     "execution_count": 71,
     "metadata": {},
     "output_type": "execute_result"
    }
   ],
   "source": [
    "alpha = 0.01/6\n",
    "beta = tf.Variable(-10.0)\n",
    "opt = tf.keras.optimizers.SGD(alpha)\n",
    "loss_fn = lambda: (beta/2-1)**2\n",
    "for epoc in range(10000):\n",
    "    opt.minimize(loss_fn,beta)\n",
    "beta"
   ]
  },
  {
   "cell_type": "markdown",
   "id": "efa6374f-0194-48dd-8df5-f453f5ab6b53",
   "metadata": {},
   "source": [
    "2에 근접하게 나오는 beta"
   ]
  },
  {
   "cell_type": "markdown",
   "id": "7b617b34-7658-47b9-883b-7bc1ceb583bc",
   "metadata": {},
   "source": [
    "왜 하느냐!\n",
    "- 결국 회귀분석을 위해\n",
    "- loss_fn를 minimize하는 beta찾는 게 회귀식에서 기울기와 상수를 찾는 것과 같음"
   ]
  },
  {
   "cell_type": "code",
   "execution_count": 529,
   "id": "5cf0e275-ddc1-45f3-a290-70e73735e0c8",
   "metadata": {},
   "outputs": [
    {
     "data": {
      "text/plain": [
       "<tf.Variable 'Variable:0' shape=() dtype=float32, numpy=1.9999928>"
      ]
     },
     "execution_count": 529,
     "metadata": {},
     "output_type": "execute_result"
    }
   ],
   "source": [
    "#collapse\n",
    "beta=tf.Variable(-10.0)\n",
    "alpha=0.1/6\n",
    "opt = tf.keras.optimizers.SGD(alpha)\n",
    "loss_fn = lambda: (beta/2-1)**2\n",
    "for epoc in range(10000):\n",
    "    opt.minimize(loss_fn,beta)\n",
    "beta"
   ]
  },
  {
   "cell_type": "markdown",
   "id": "c72c9a7d-e1d7-472b-84c4-e2135b74e7e9",
   "metadata": {
    "id": "c72c9a7d-e1d7-472b-84c4-e2135b74e7e9",
    "tags": []
   },
   "source": [
    "### 회귀분석 문제"
   ]
  },
  {
   "cell_type": "markdown",
   "id": "c4bd3fe9-092a-4c8a-a4d0-b9abcfb4de6d",
   "metadata": {
    "id": "c4bd3fe9-092a-4c8a-a4d0-b9abcfb4de6d"
   },
   "source": [
    "`-` ${\\bf y} \\approx 2.5 + 4.0 {\\bf x}$"
   ]
  },
  {
   "cell_type": "markdown",
   "id": "8066c605-2d36-4c65-8059-a470e969aa70",
   "metadata": {},
   "source": [
    "초기값 잘 설정되면 수렴이 잘 돼.."
   ]
  },
  {
   "cell_type": "code",
   "execution_count": 544,
   "id": "2c80d44c-7e99-4bb4-92ff-382b29999470",
   "metadata": {
    "id": "2c80d44c-7e99-4bb4-92ff-382b29999470"
   },
   "outputs": [],
   "source": [
    "tnp.random.seed(43052)\n",
    "N = 200\n",
    "x = tnp.linspace(0,1,N) \n",
    "epsilon = tnp.random.randn(N)*0.5\n",
    "y = 2.5+4*x + epsilon\n",
    "y_true = 2.5+4*x"
   ]
  },
  {
   "cell_type": "code",
   "execution_count": 545,
   "id": "af3a1e90-9370-4705-9be7-f321f7c2f856",
   "metadata": {
    "id": "af3a1e90-9370-4705-9be7-f321f7c2f856",
    "outputId": "f5a48bce-6609-44c0-d40c-9e7c48058556"
   },
   "outputs": [
    {
     "data": {
      "text/plain": [
       "[<matplotlib.lines.Line2D at 0x7f1ba0b6f250>]"
      ]
     },
     "execution_count": 545,
     "metadata": {},
     "output_type": "execute_result"
    },
    {
     "data": {
      "image/png": "[encoded data removed]",
      "text/plain": [
       "<Figure size 432x288 with 1 Axes>"
      ]
     },
     "metadata": {
      "needs_background": "light"
     },
     "output_type": "display_data"
    }
   ],
   "source": [
    "plt.plot(x,y,'.')\n",
    "plt.plot(x,y_true,'r--')"
   ]
  },
  {
   "cell_type": "markdown",
   "id": "8031b7f3-8460-4804-8806-3615e0ce7ce4",
   "metadata": {
    "id": "8031b7f3-8460-4804-8806-3615e0ce7ce4"
   },
   "source": [
    "### 이론적 풀이"
   ]
  },
  {
   "cell_type": "markdown",
   "id": "ee07c412-7bfb-4b29-ad6c-3627c222e2c5",
   "metadata": {},
   "source": [
    "교수님께서 찾아서 목록화해놓은 방법들....정말 많은 방법들이 있는데 그 중 일부..."
   ]
  },
  {
   "cell_type": "markdown",
   "id": "726a27e8-8ccb-4432-a826-6848a682e4d6",
   "metadata": {
    "id": "726a27e8-8ccb-4432-a826-6848a682e4d6"
   },
   "source": [
    "#### 풀이1: 스칼라버전"
   ]
  },
  {
   "cell_type": "markdown",
   "id": "b5886ec9-ce8e-41b7-a6d2-7a4a1d4ddd96",
   "metadata": {
    "id": "b5886ec9-ce8e-41b7-a6d2-7a4a1d4ddd96"
   },
   "source": [
    "`-` 포인트 \n",
    "- $S_{xx}=16.834170854271363$, $S_{xy}=66.20937503043275$\n",
    "- $\\hat{\\beta}_0=2.583667211565867$, $\\hat{\\beta}_1=3.933034516733168$"
   ]
  },
  {
   "cell_type": "code",
   "execution_count": 400,
   "id": "6f51ec32-620f-43e2-a1aa-49e5f2f0c86b",
   "metadata": {},
   "outputs": [
    {
     "data": {
      "text/plain": [
       "(<tf.Tensor: shape=(), dtype=float64, numpy=16.834170854271363>,\n",
       " <tf.Tensor: shape=(), dtype=float64, numpy=66.20937503043275>)"
      ]
     },
     "execution_count": 400,
     "metadata": {},
     "output_type": "execute_result"
    }
   ],
   "source": [
    "Sxx = sum((x - x.mean())**2)\n",
    "Sxy = sum((x - x.mean())*(y-y.mean()))\n",
    "Sxx,Sxy"
   ]
  },
  {
   "cell_type": "code",
   "execution_count": 402,
   "id": "d93045b3-98bd-494f-ab3a-ecd31aa87216",
   "metadata": {},
   "outputs": [
    {
     "data": {
      "text/plain": [
       "<tf.Tensor: shape=(), dtype=float64, numpy=3.933034516733168>"
      ]
     },
     "execution_count": 402,
     "metadata": {},
     "output_type": "execute_result"
    }
   ],
   "source": [
    "beta1_hat = Sxy/Sxx # true값이 4니까 가깝네~\n",
    "beta1_hat"
   ]
  },
  {
   "cell_type": "code",
   "execution_count": 404,
   "id": "f7493d10-f141-4fa0-aed7-551da1fc9211",
   "metadata": {},
   "outputs": [
    {
     "data": {
      "text/plain": [
       "<tf.Tensor: shape=(), dtype=float64, numpy=2.583667211565867>"
      ]
     },
     "execution_count": 404,
     "metadata": {},
     "output_type": "execute_result"
    }
   ],
   "source": [
    "beta0_hat = y.mean() - x.mean()*beta1_hat # true값이 2.5니까 가깝네~\n",
    "beta0_hat"
   ]
  },
  {
   "cell_type": "code",
   "execution_count": 547,
   "id": "697166ee-568c-400d-8bfe-a10a29cddd24",
   "metadata": {},
   "outputs": [
    {
     "data": {
      "text/plain": [
       "(<tf.Tensor: shape=(), dtype=float64, numpy=2.583667211565867>,\n",
       " <tf.Tensor: shape=(), dtype=float64, numpy=3.933034516733168>)"
      ]
     },
     "execution_count": 547,
     "metadata": {},
     "output_type": "execute_result"
    }
   ],
   "source": [
    "# collapse\n",
    "beta1_hat = sum((x-x.mean())*(y-y.mean())) / sum((x-x.mean())**2)\n",
    "beta0_hat = y.mean() - x.mean()*beta1_hat\n",
    "beta0_hat, beta1_hat"
   ]
  },
  {
   "cell_type": "markdown",
   "id": "15c2e0df-79cf-47bc-88fc-01511aede78f",
   "metadata": {
    "id": "15c2e0df-79cf-47bc-88fc-01511aede78f",
    "tags": []
   },
   "source": [
    "#### 풀이2: 벡터버전"
   ]
  },
  {
   "cell_type": "markdown",
   "id": "304d3975-a8d7-4dc2-85e3-bdd79bf644b2",
   "metadata": {
    "id": "304d3975-a8d7-4dc2-85e3-bdd79bf644b2"
   },
   "source": [
    "`-` 포인트\n",
    "- $\\hat{\\beta}=(X'X)^{-1}X'y$"
   ]
  },
  {
   "cell_type": "markdown",
   "id": "2700e6c4-2465-4554-bd5e-48be6a83be59",
   "metadata": {
    "id": "b5886ec9-ce8e-41b7-a6d2-7a4a1d4ddd96"
   },
   "source": [
    "- $\\hat{\\beta}_0=2.58366721$, $\\hat{\\beta}_1=3.93303452$"
   ]
  },
  {
   "cell_type": "code",
   "execution_count": 407,
   "id": "21cf3eda-fc34-4bb8-b076-a378ed80a3d5",
   "metadata": {},
   "outputs": [
    {
     "data": {
      "text/plain": [
       "(TensorShape([200, 1]), TensorShape([200, 2]))"
      ]
     },
     "execution_count": 407,
     "metadata": {},
     "output_type": "execute_result"
    }
   ],
   "source": [
    "y = y.reshape(N,1)\n",
    "X = tf.stack([tf.ones(N,dtype=tf.float64),x],axis=1)\n",
    "y.shape, X.shape"
   ]
  },
  {
   "cell_type": "code",
   "execution_count": 411,
   "id": "56d44c1f-4051-4080-a901-a98a4c423de5",
   "metadata": {},
   "outputs": [
    {
     "data": {
      "text/plain": [
       "<tf.Tensor: shape=(2, 1), dtype=float64, numpy=\n",
       "array([[2.58366721],\n",
       "       [3.93303452]])>"
      ]
     },
     "execution_count": 411,
     "metadata": {},
     "output_type": "execute_result"
    }
   ],
   "source": [
    "tf.linalg.inv(X.T @ X) @ X.T @ y # 위에서 scalar로 구한 값과 같은 값이 나오는 모습."
   ]
  },
  {
   "cell_type": "code",
   "execution_count": 555,
   "id": "6614cc2f-57f6-4202-afbe-822f49d3a114",
   "metadata": {},
   "outputs": [
    {
     "data": {
      "text/plain": [
       "<tf.Tensor: shape=(2, 1), dtype=float64, numpy=\n",
       "array([[2.58366721],\n",
       "       [3.93303452]])>"
      ]
     },
     "execution_count": 555,
     "metadata": {},
     "output_type": "execute_result"
    }
   ],
   "source": [
    "# collaspse\n",
    "y = y.reshape(200,1)\n",
    "X = tf.stack([tf.ones(200,dtype=tf.float64),x],axis=1)\n",
    "tf.linalg.inv(X.T @ X) @ X.T @ y "
   ]
  },
  {
   "cell_type": "markdown",
   "id": "0e3bc322-477e-4b86-b8f4-57c5b522f3ab",
   "metadata": {
    "id": "0e3bc322-477e-4b86-b8f4-57c5b522f3ab",
    "tags": []
   },
   "source": [
    "#### 풀이3: 벡터버전, 손실함수의 도함수이용 "
   ]
  },
  {
   "cell_type": "markdown",
   "id": "c1755913-52f4-472d-bacf-bd282759e69e",
   "metadata": {
    "id": "c1755913-52f4-472d-bacf-bd282759e69e"
   },
   "source": [
    "`-` 포인트\n",
    "- $loss'(\\beta)=-2X'y +2X'X\\beta$\n",
    "- $\\beta_{new} = \\beta_{old} - \\alpha \\times loss'(\\beta_{old})$"
   ]
  },
  {
   "cell_type": "code",
   "execution_count": 417,
   "id": "95d8bcd1-5d64-4773-8d68-638ca086b936",
   "metadata": {},
   "outputs": [
    {
     "data": {
      "text/plain": [
       "(TensorShape([200, 2]), TensorShape([200, 1]))"
      ]
     },
     "execution_count": 417,
     "metadata": {},
     "output_type": "execute_result"
    }
   ],
   "source": [
    "y = y.reshape(N,1)\n",
    "X = tf.stack([tf.ones(N,dtype=tf.float64),x],axis=1)\n",
    "X.shape , y.shape"
   ]
  },
  {
   "cell_type": "code",
   "execution_count": 418,
   "id": "f6e25a05-6039-446d-9c12-1cf90f93abc3",
   "metadata": {},
   "outputs": [
    {
     "data": {
      "text/plain": [
       "<tf.Tensor: shape=(2, 1), dtype=int64, numpy=\n",
       "array([[-5],\n",
       "       [10]])>"
      ]
     },
     "execution_count": 418,
     "metadata": {},
     "output_type": "execute_result"
    }
   ],
   "source": [
    "beta_hat = tnp.array([-5,10]).reshape(2,1) # 지금 beta_hat은 아니지만.. beta_hat이 될 것이기 때문에 이름 이렇게 지정..\n",
    "beta_hat"
   ]
  },
  {
   "cell_type": "markdown",
   "id": "eee95c7c-f81c-4a33-8050-da77344e1183",
   "metadata": {},
   "source": [
    "미분해서 slope구하고 alpha * slope를 beta에서 뺴기_위의 식 그대로 풀어쓴 거..\n",
    "- 만약 slope 안 쓴다면?"
   ]
  },
  {
   "cell_type": "markdown",
   "id": "c0c676ef-0802-4656-853a-d24503c28786",
   "metadata": {},
   "source": [
    "SSE"
   ]
  },
  {
   "cell_type": "code",
   "execution_count": 419,
   "id": "63c7f3d7-4c9c-431e-b265-a1f735f89c65",
   "metadata": {},
   "outputs": [
    {
     "data": {
      "text/plain": [
       "<tf.Tensor: shape=(2, 1), dtype=float64, numpy=\n",
       "array([[-1820.07378797],\n",
       "       [ -705.77222696]])>"
      ]
     },
     "execution_count": 419,
     "metadata": {},
     "output_type": "execute_result"
    }
   ],
   "source": [
    "slope = -2 * X.T @ y +2 * X.T @ X @ beta_hat\n",
    "slope"
   ]
  },
  {
   "cell_type": "markdown",
   "id": "b61413f3-3bef-446f-9581-a513445e09fe",
   "metadata": {},
   "source": [
    "alpha가 1820씩 움직일 것. 너무 크니 적당히 잡아야겠다 다짐.."
   ]
  },
  {
   "cell_type": "code",
   "execution_count": 420,
   "id": "9a5a41f6-49f5-469f-b1e4-d49215960f9f",
   "metadata": {},
   "outputs": [],
   "source": [
    "alpha = 0.001"
   ]
  },
  {
   "cell_type": "code",
   "execution_count": 421,
   "id": "8857673f-9786-4df6-b93a-6908e1628992",
   "metadata": {},
   "outputs": [
    {
     "data": {
      "text/plain": [
       "<tf.Tensor: shape=(2, 1), dtype=float64, numpy=\n",
       "array([[-1.82007379],\n",
       "       [-0.70577223]])>"
      ]
     },
     "execution_count": 421,
     "metadata": {},
     "output_type": "execute_result"
    }
   ],
   "source": [
    "step = slope * alpha\n",
    "step"
   ]
  },
  {
   "cell_type": "code",
   "execution_count": 422,
   "id": "16d907bc-f7ed-43d0-831f-d0f61aea0639",
   "metadata": {},
   "outputs": [],
   "source": [
    "for epoc in range(1000):\n",
    "    slope = -2 * X.T @ y +2 * X.T @ X @ beta_hat\n",
    "    beta_hat = beta_hat -alpha * slope"
   ]
  },
  {
   "cell_type": "code",
   "execution_count": 423,
   "id": "509fe5f8-ee01-4e26-a554-43b19bea896c",
   "metadata": {},
   "outputs": [
    {
     "data": {
      "text/plain": [
       "<tf.Tensor: shape=(2, 1), dtype=float64, numpy=\n",
       "array([[2.58366721],\n",
       "       [3.93303452]])>"
      ]
     },
     "execution_count": 423,
     "metadata": {},
     "output_type": "execute_result"
    }
   ],
   "source": [
    "beta_hat"
   ]
  },
  {
   "cell_type": "markdown",
   "id": "c4097d4c-e1db-49e1-b30f-c6386a1096b0",
   "metadata": {},
   "source": [
    "위에랑 같은 모습"
   ]
  },
  {
   "cell_type": "code",
   "execution_count": 426,
   "id": "56e7b039-031c-4ac8-98fa-4c8c6fe7809f",
   "metadata": {},
   "outputs": [
    {
     "data": {
      "text/plain": [
       "(TensorShape([200, 2]), TensorShape([200, 1]))"
      ]
     },
     "execution_count": 426,
     "metadata": {},
     "output_type": "execute_result"
    }
   ],
   "source": [
    "y = y.reshape(N,1)\n",
    "X = tf.stack([tf.ones(N,dtype=tf.float64),x],axis=1)\n",
    "X.shape , y.shape"
   ]
  },
  {
   "cell_type": "code",
   "execution_count": 427,
   "id": "f164dec3-29f0-4816-9035-46616ce919f6",
   "metadata": {},
   "outputs": [
    {
     "data": {
      "text/plain": [
       "<tf.Tensor: shape=(2, 1), dtype=int64, numpy=\n",
       "array([[-5],\n",
       "       [10]])>"
      ]
     },
     "execution_count": 427,
     "metadata": {},
     "output_type": "execute_result"
    }
   ],
   "source": [
    "beta_hat = tnp.array([-5,10]).reshape(2,1)\n",
    "beta_hat"
   ]
  },
  {
   "cell_type": "markdown",
   "id": "df43bf4a-1a3e-4169-a9a5-1780045a0e41",
   "metadata": {},
   "source": [
    "MSE"
   ]
  },
  {
   "cell_type": "code",
   "execution_count": 428,
   "id": "6d14f199-27e6-4997-85fb-85452b3a0ad7",
   "metadata": {},
   "outputs": [
    {
     "data": {
      "text/plain": [
       "<tf.Tensor: shape=(2, 1), dtype=float64, numpy=\n",
       "array([[-9.10036894],\n",
       "       [-3.52886113]])>"
      ]
     },
     "execution_count": 428,
     "metadata": {},
     "output_type": "execute_result"
    }
   ],
   "source": [
    "slope = (-2 * X.T @ y +2 * X.T @ X @ beta_hat)/N # 위에서 1820 나왔잖아.. 나눠줘도 loss찾는데 문제 없으니까 뭐\n",
    "slope"
   ]
  },
  {
   "cell_type": "code",
   "execution_count": 429,
   "id": "f0c6aad4-4b72-4b0c-8b44-d12a288d59a6",
   "metadata": {},
   "outputs": [],
   "source": [
    "alpha = 0.1"
   ]
  },
  {
   "cell_type": "code",
   "execution_count": 430,
   "id": "0326dfbc-2cae-4e4f-add2-e2b28b59b742",
   "metadata": {},
   "outputs": [
    {
     "data": {
      "text/plain": [
       "<tf.Tensor: shape=(2, 1), dtype=float64, numpy=\n",
       "array([[-0.91003689],\n",
       "       [-0.35288611]])>"
      ]
     },
     "execution_count": 430,
     "metadata": {},
     "output_type": "execute_result"
    }
   ],
   "source": [
    "step = slope * alpha\n",
    "step"
   ]
  },
  {
   "cell_type": "code",
   "execution_count": 431,
   "id": "095d6b5b-f772-4760-9a2b-d3004543647c",
   "metadata": {},
   "outputs": [],
   "source": [
    "for epoc in range(1000):\n",
    "    slope = (-2 * X.T @ y +2 * X.T @ X @ beta_hat)/N\n",
    "    beta_hat = beta_hat -alpha * slope"
   ]
  },
  {
   "cell_type": "code",
   "execution_count": 432,
   "id": "6b672cc4-013a-4b83-bbbe-dc0d8b9fdbec",
   "metadata": {},
   "outputs": [
    {
     "data": {
      "text/plain": [
       "<tf.Tensor: shape=(2, 1), dtype=float64, numpy=\n",
       "array([[2.58366061],\n",
       "       [3.93304684]])>"
      ]
     },
     "execution_count": 432,
     "metadata": {},
     "output_type": "execute_result"
    }
   ],
   "source": [
    "beta_hat"
   ]
  },
  {
   "cell_type": "markdown",
   "id": "fc28a6b5-f89b-4d79-a008-eb12b678e8db",
   "metadata": {},
   "source": [
    "MSE로 loss값을 구해주면 같이 최소점을 찾을 수 있으나 alpha를 더 크게 적당히 움직이면서 가능..!"
   ]
  },
  {
   "cell_type": "code",
   "execution_count": 575,
   "id": "8819f925-a62d-485e-9b7a-1ad97c0e00f2",
   "metadata": {},
   "outputs": [
    {
     "data": {
      "text/plain": [
       "<tf.Tensor: shape=(2, 1), dtype=float64, numpy=\n",
       "array([[2.58366061],\n",
       "       [3.93304684]])>"
      ]
     },
     "execution_count": 575,
     "metadata": {},
     "output_type": "execute_result"
    }
   ],
   "source": [
    "#collapse\n",
    "y=y.reshape(200,1)\n",
    "X = tf.stack([tf.ones(200,dtype=tf.float64),x],axis=1)\n",
    "beta_hat = tf.Variable(tnp.array([-5.0,10.0]).reshape(2,1))\n",
    "alpha=0.1\n",
    "for epoc in range(1000):\n",
    "    slope = ( -2 * X.T @ y + 2 * X.T @ X @ beta_hat) /  N\n",
    "    beta_hat = beta_hat - alpha * slope\n",
    "beta_hat"
   ]
  },
  {
   "cell_type": "markdown",
   "id": "8f5231a2-1872-497e-baf4-f463f0574757",
   "metadata": {
    "id": "8f5231a2-1872-497e-baf4-f463f0574757"
   },
   "source": [
    "### GradientTape를 이용 "
   ]
  },
  {
   "cell_type": "markdown",
   "id": "6a6f1c18-aff6-41fc-b346-aa184f5cddb4",
   "metadata": {
    "id": "6a6f1c18-aff6-41fc-b346-aa184f5cddb4"
   },
   "source": [
    "#### 풀이1: 벡터버전"
   ]
  },
  {
   "cell_type": "markdown",
   "id": "55ba7a20-43ec-40b3-90f6-5df6036bda89",
   "metadata": {
    "id": "55ba7a20-43ec-40b3-90f6-5df6036bda89"
   },
   "source": [
    "`-` 포인트\n",
    "```python\n",
    "## 포인트코드1: 그레디언트 테입  \n",
    "with tf.GradientTape() as tape: \n",
    "    loss = \n",
    "## 포인트코드2: 미분 \n",
    "slope = tape.gradient(loss,beta_hat) \n",
    "## 포인트코드3: update \n",
    "beta_hat.assign_sub(slope*alph) \n",
    "```"
   ]
  },
  {
   "cell_type": "code",
   "execution_count": 146,
   "id": "5964b550-5378-4ad5-8fd6-7844ae414140",
   "metadata": {},
   "outputs": [
    {
     "data": {
      "text/plain": [
       "(TensorShape([200, 2]), TensorShape([200, 1]))"
      ]
     },
     "execution_count": 146,
     "metadata": {},
     "output_type": "execute_result"
    }
   ],
   "source": [
    "y = y.reshape(N,1)\n",
    "X.shape , y.shape"
   ]
  },
  {
   "cell_type": "code",
   "execution_count": 147,
   "id": "df7d7d05-65ea-46c2-b206-353adba99096",
   "metadata": {},
   "outputs": [
    {
     "data": {
      "text/plain": [
       "<tf.Variable 'Variable:0' shape=(2, 1) dtype=float64, numpy=\n",
       "array([[-5.],\n",
       "       [10.]])>"
      ]
     },
     "execution_count": 147,
     "metadata": {},
     "output_type": "execute_result"
    }
   ],
   "source": [
    "beta_hat = tf.Variable(tnp.array([-5.0,10.0]).reshape(2,1))\n",
    "beta_hat"
   ]
  },
  {
   "cell_type": "code",
   "execution_count": 148,
   "id": "06a2c645-1687-4ec0-8b5f-24c775c3aa01",
   "metadata": {},
   "outputs": [],
   "source": [
    "alpha=0.1"
   ]
  },
  {
   "cell_type": "code",
   "execution_count": 149,
   "id": "e60e18b4-88bc-4128-8214-0c2a61653cbb",
   "metadata": {},
   "outputs": [],
   "source": [
    "for epoc in range(1000):\n",
    "    with tf.GradientTape() as tape:\n",
    "        yhat = X@beta_hat\n",
    "        loss = (y-yhat).T @(y-yhat) / N\n",
    "    slope = tape.gradient(loss,beta_hat)\n",
    "    beta_hat.assign_sub(alpha*slope)"
   ]
  },
  {
   "cell_type": "code",
   "execution_count": 150,
   "id": "57874d4d-72f8-4767-8ad0-bbbb37a22a96",
   "metadata": {},
   "outputs": [
    {
     "data": {
      "text/plain": [
       "<tf.Variable 'Variable:0' shape=(2, 1) dtype=float64, numpy=\n",
       "array([[2.58366061],\n",
       "       [3.93304684]])>"
      ]
     },
     "execution_count": 150,
     "metadata": {},
     "output_type": "execute_result"
    }
   ],
   "source": [
    "beta_hat"
   ]
  },
  {
   "cell_type": "markdown",
   "id": "5e0152fe-fd49-4d8a-8276-296138b4f89c",
   "metadata": {},
   "source": [
    "위에랑 같은 모습.\n",
    "- slope값이 무한대로 가는 것을 막기 위해 N으로 나눠줬다."
   ]
  },
  {
   "cell_type": "code",
   "execution_count": 583,
   "id": "d5aa0f84-fb27-4754-bd7c-e094945876ed",
   "metadata": {},
   "outputs": [
    {
     "data": {
      "text/plain": [
       "<tf.Variable 'Variable:0' shape=(2, 1) dtype=float64, numpy=\n",
       "array([[2.58366061],\n",
       "       [3.93304684]])>"
      ]
     },
     "execution_count": 583,
     "metadata": {},
     "output_type": "execute_result"
    }
   ],
   "source": [
    "#collapse\n",
    "y = y.reshape(200,1)\n",
    "X = tf.stack([tf.ones(200,dtype=tf.float64),x],axis=1)\n",
    "beta_hat = tf.Variable(tnp.array([-5.0,10.0]).reshape(2,1))\n",
    "alpha=0.1\n",
    "for epoc in range(1000):\n",
    "    with tf.GradientTape() as tape:\n",
    "        tape.watch(beta_hat)\n",
    "        yhat = X@beta_hat\n",
    "        loss = ((y-yhat).T @ (y-yhat) )/N\n",
    "    slope = tape.gradient(loss,beta_hat)\n",
    "    beta_hat.assign_sub(slope*alpha)\n",
    "beta_hat"
   ]
  },
  {
   "cell_type": "markdown",
   "id": "45b5df07-64fd-4257-a8e5-1c55ffdc2172",
   "metadata": {
    "id": "45b5df07-64fd-4257-a8e5-1c55ffdc2172",
    "tags": []
   },
   "source": [
    "#### 풀이2: 스칼라버전"
   ]
  },
  {
   "cell_type": "markdown",
   "id": "121291bf-c8b8-4a77-9c72-3b0f5540ef17",
   "metadata": {
    "id": "121291bf-c8b8-4a77-9c72-3b0f5540ef17"
   },
   "source": [
    "`-` 포인트\n",
    "```python\n",
    "## 포인트코드: 미분\n",
    "slope0,slope1 = tape.gradient(loss,[beta0_hat,beta1_hat])\n",
    "```"
   ]
  },
  {
   "cell_type": "code",
   "execution_count": 156,
   "id": "e4f194e1-7936-4783-a6dd-575d8d384c33",
   "metadata": {},
   "outputs": [
    {
     "data": {
      "text/plain": [
       "(TensorShape([200]), TensorShape([200]))"
      ]
     },
     "execution_count": 156,
     "metadata": {},
     "output_type": "execute_result"
    }
   ],
   "source": [
    "y = y.reshape(-1)\n",
    "x.shape , y.shape"
   ]
  },
  {
   "cell_type": "code",
   "execution_count": 162,
   "id": "5f628760-79f2-4086-84ea-7f16721c0919",
   "metadata": {},
   "outputs": [],
   "source": [
    "beta0_hat = tf.Variable(-5.0)\n",
    "beta1_hat = tf.Variable(10.0)"
   ]
  },
  {
   "cell_type": "code",
   "execution_count": 167,
   "id": "bfdc059c-b6b4-48ab-8a89-ad38189f4b9c",
   "metadata": {},
   "outputs": [],
   "source": [
    "alpha=0.1"
   ]
  },
  {
   "cell_type": "code",
   "execution_count": 163,
   "id": "7a35df9d-b153-428f-b47d-22512a67238f",
   "metadata": {},
   "outputs": [],
   "source": [
    "for epoc in range(1000):\n",
    "    with tf.GradientTape() as tape:\n",
    "        yhat = beta0_hat + x*beta1_hat\n",
    "        loss = sum((y-yhat)**2) / N\n",
    "    slope0,slope1 = tape.gradient(loss,[beta0_hat,beta1_hat])\n",
    "    beta0_hat.assign_sub(alpha*slope0)\n",
    "    beta1_hat.assign_sub(alpha*slope1)"
   ]
  },
  {
   "cell_type": "code",
   "execution_count": 166,
   "id": "540b8c2c-406b-4272-b442-f2a7520ef0d9",
   "metadata": {},
   "outputs": [
    {
     "data": {
      "text/plain": [
       "(<tf.Variable 'Variable:0' shape=() dtype=float32, numpy=2.58366>,\n",
       " <tf.Variable 'Variable:0' shape=() dtype=float32, numpy=3.933048>)"
      ]
     },
     "execution_count": 166,
     "metadata": {},
     "output_type": "execute_result"
    }
   ],
   "source": [
    "beta0_hat, beta1_hat"
   ]
  },
  {
   "cell_type": "markdown",
   "id": "13aa0d89-beb1-4106-b460-ea55abb2b92b",
   "metadata": {},
   "source": [
    "1분정도..? 잘못됐지! 오래걸렸잖아"
   ]
  },
  {
   "cell_type": "code",
   "execution_count": 168,
   "id": "e4901a4e-f6a1-4975-bfa3-d6975bb0b6fc",
   "metadata": {},
   "outputs": [
    {
     "data": {
      "text/plain": [
       "(TensorShape([200]), TensorShape([200]))"
      ]
     },
     "execution_count": 168,
     "metadata": {},
     "output_type": "execute_result"
    }
   ],
   "source": [
    "y = y.reshape(-1)\n",
    "x.shape , y.shape"
   ]
  },
  {
   "cell_type": "code",
   "execution_count": 169,
   "id": "3047f075-135f-41f6-a5c5-758a800504c8",
   "metadata": {},
   "outputs": [],
   "source": [
    "beta0_hat = tf.Variable(-5.0)\n",
    "beta1_hat = tf.Variable(10.0)"
   ]
  },
  {
   "cell_type": "code",
   "execution_count": 170,
   "id": "d24c2c61-17d8-4cec-b69c-d530b192273c",
   "metadata": {},
   "outputs": [],
   "source": [
    "alpha=0.1"
   ]
  },
  {
   "cell_type": "code",
   "execution_count": 171,
   "id": "1ccf3ac5-52b6-4e4d-84b8-77079da221dc",
   "metadata": {},
   "outputs": [],
   "source": [
    "for epoc in range(1000):\n",
    "    with tf.GradientTape() as tape:\n",
    "        yhat = beta0_hat + x*beta1_hat\n",
    "        loss = tf.reduce_sum((y-yhat)**2) / N\n",
    "    slope0,slope1 = tape.gradient(loss,[beta0_hat,beta1_hat])\n",
    "    beta0_hat.assign_sub(alpha*slope0)\n",
    "    beta1_hat.assign_sub(alpha*slope1)"
   ]
  },
  {
   "cell_type": "code",
   "execution_count": 172,
   "id": "aa684323-be74-456a-b9db-6870a3a38df2",
   "metadata": {},
   "outputs": [
    {
     "data": {
      "text/plain": [
       "(<tf.Variable 'Variable:0' shape=() dtype=float32, numpy=2.58366>,\n",
       " <tf.Variable 'Variable:0' shape=() dtype=float32, numpy=3.933048>)"
      ]
     },
     "execution_count": 172,
     "metadata": {},
     "output_type": "execute_result"
    }
   ],
   "source": [
    "beta0_hat, beta1_hat"
   ]
  },
  {
   "cell_type": "markdown",
   "id": "b0d98489-b703-4210-81a7-84deab424fe2",
   "metadata": {},
   "source": [
    "tf.reduce_sum을 쓰니 빨라진 모습\n",
    "- 애매한 부분을 넘어가버림...그래서 빨라짐... \n",
    "- *바뀌는 과정에서 최적화가 덜 되었다고 표현*"
   ]
  },
  {
   "cell_type": "code",
   "execution_count": 589,
   "id": "9e50c9e3-9bb9-4c19-ad76-35a92b52c785",
   "metadata": {},
   "outputs": [
    {
     "data": {
      "text/plain": [
       "(<tf.Variable 'Variable:0' shape=() dtype=float32, numpy=2.58366>,\n",
       " <tf.Variable 'Variable:0' shape=() dtype=float32, numpy=3.933048>)"
      ]
     },
     "execution_count": 589,
     "metadata": {},
     "output_type": "execute_result"
    }
   ],
   "source": [
    "#collapse\n",
    "y = y.reshape(-1)\n",
    "beta0_hat = tf.Variable(-5.0)\n",
    "beta1_hat = tf.Variable(10.0)\n",
    "alpha = 0.1\n",
    "for epoc in range(1000):\n",
    "    with tf.GradientTape() as tape:\n",
    "        yhat = beta0_hat + x*beta1_hat\n",
    "        loss = ( tf.reduce_sum((y-yhat)**2) ) / N\n",
    "    slope0, slope1 = tape.gradient(loss, [beta0_hat, beta1_hat])\n",
    "    beta0_hat.assign_sub(alpha*slope0)\n",
    "    beta1_hat.assign_sub(alpha*slope1)\n",
    "beta0_hat, beta1_hat"
   ]
  },
  {
   "cell_type": "markdown",
   "id": "febc6310-7669-4cfe-ba5f-70ae1853f605",
   "metadata": {
    "id": "febc6310-7669-4cfe-ba5f-70ae1853f605"
   },
   "source": [
    "### GradientTape + opt.apply_gradients"
   ]
  },
  {
   "cell_type": "markdown",
   "id": "5089a331-82aa-48cc-9f6f-5ea1a93bbd2f",
   "metadata": {
    "id": "5089a331-82aa-48cc-9f6f-5ea1a93bbd2f",
    "tags": []
   },
   "source": [
    "#### 풀이1: 벡터버전 "
   ]
  },
  {
   "cell_type": "markdown",
   "id": "ad963999-5fe2-429f-914a-b70bd3ad9235",
   "metadata": {
    "id": "ad963999-5fe2-429f-914a-b70bd3ad9235"
   },
   "source": [
    "`-` 포인트 \n",
    "```python\n",
    "## 포인트코드: 업데이트\n",
    "opt.apply_gradients([(slope,beta_hat)])  ## pair의 list가 입력 \n",
    "```"
   ]
  },
  {
   "cell_type": "code",
   "execution_count": 449,
   "id": "37fc8f95-2e95-46cb-8d93-6497e67f6df7",
   "metadata": {},
   "outputs": [
    {
     "data": {
      "text/plain": [
       "(TensorShape([200, 2]), TensorShape([200, 1]))"
      ]
     },
     "execution_count": 449,
     "metadata": {},
     "output_type": "execute_result"
    }
   ],
   "source": [
    "y = y.reshape(N,1)\n",
    "X.shape , y.shape"
   ]
  },
  {
   "cell_type": "code",
   "execution_count": 450,
   "id": "9a81ba90-9737-4b12-a979-b3d3292aedc9",
   "metadata": {},
   "outputs": [
    {
     "data": {
      "text/plain": [
       "<tf.Variable 'Variable:0' shape=(2, 1) dtype=float64, numpy=\n",
       "array([[-5.],\n",
       "       [10.]])>"
      ]
     },
     "execution_count": 450,
     "metadata": {},
     "output_type": "execute_result"
    }
   ],
   "source": [
    "beta_hat = tf.Variable(tnp.array([-5.0,10.0]).reshape(2,1))\n",
    "beta_hat"
   ]
  },
  {
   "cell_type": "markdown",
   "id": "991685ed-dabd-4cb9-af6f-a993e9daccf2",
   "metadata": {},
   "source": [
    "---"
   ]
  },
  {
   "cell_type": "code",
   "execution_count": 177,
   "id": "32b1f990-bc05-4b1c-85fc-d17578408f39",
   "metadata": {},
   "outputs": [
    {
     "data": {
      "text/plain": [
       "<module 'keras.api._v2.keras.optimizers' from '/home/csy/anaconda3/envs/stbda2022/lib/python3.10/site-packages/keras/api/_v2/keras/optimizers/__init__.py'>"
      ]
     },
     "execution_count": 177,
     "metadata": {},
     "output_type": "execute_result"
    }
   ],
   "source": [
    "tf.keras.optimizers"
   ]
  },
  {
   "cell_type": "code",
   "execution_count": 178,
   "id": "95d061b0-0e62-4aa6-9696-9cb0ab2c28a9",
   "metadata": {},
   "outputs": [
    {
     "data": {
      "text/plain": [
       "<module 'keras.api._v2.keras.optimizers' from '/home/csy/anaconda3/envs/stbda2022/lib/python3.10/site-packages/keras/api/_v2/keras/optimizers/__init__.py'>"
      ]
     },
     "execution_count": 178,
     "metadata": {},
     "output_type": "execute_result"
    }
   ],
   "source": [
    "tf.optimizers"
   ]
  },
  {
   "cell_type": "markdown",
   "id": "e4452034-962a-4820-80e4-ae6f095408b3",
   "metadata": {},
   "source": [
    "경로가 같다 = 똑같은 위치에 있는 모듈 = 같은 것"
   ]
  },
  {
   "cell_type": "markdown",
   "id": "ddd5c7ef-01f2-4a13-8fc3-ec6d8f10d540",
   "metadata": {},
   "source": [
    "---"
   ]
  },
  {
   "cell_type": "code",
   "execution_count": 175,
   "id": "64a212bf-055b-40a2-8122-23cfc4d50ef9",
   "metadata": {},
   "outputs": [],
   "source": [
    "alpha=0.1"
   ]
  },
  {
   "cell_type": "code",
   "execution_count": 180,
   "id": "8645459c-7353-4dc7-ab8a-3b478b007601",
   "metadata": {},
   "outputs": [],
   "source": [
    "opt = tf.optimizers.SGD(alpha)"
   ]
  },
  {
   "cell_type": "code",
   "execution_count": 181,
   "id": "147dfbc9-4e24-4009-b989-64f26df5b5a2",
   "metadata": {
    "scrolled": true,
    "tags": []
   },
   "outputs": [
    {
     "data": {
      "text/plain": [
       "\u001b[0;31mSignature:\u001b[0m\n",
       "\u001b[0mopt\u001b[0m\u001b[0;34m.\u001b[0m\u001b[0mapply_gradients\u001b[0m\u001b[0;34m(\u001b[0m\u001b[0;34m\u001b[0m\n",
       "\u001b[0;34m\u001b[0m    \u001b[0mgrads_and_vars\u001b[0m\u001b[0;34m,\u001b[0m\u001b[0;34m\u001b[0m\n",
       "\u001b[0;34m\u001b[0m    \u001b[0mname\u001b[0m\u001b[0;34m=\u001b[0m\u001b[0;32mNone\u001b[0m\u001b[0;34m,\u001b[0m\u001b[0;34m\u001b[0m\n",
       "\u001b[0;34m\u001b[0m    \u001b[0mexperimental_aggregate_gradients\u001b[0m\u001b[0;34m=\u001b[0m\u001b[0;32mTrue\u001b[0m\u001b[0;34m,\u001b[0m\u001b[0;34m\u001b[0m\n",
       "\u001b[0;34m\u001b[0m\u001b[0;34m)\u001b[0m\u001b[0;34m\u001b[0m\u001b[0;34m\u001b[0m\u001b[0m\n",
       "\u001b[0;31mDocstring:\u001b[0m\n",
       "Apply gradients to variables.\n",
       "\n",
       "This is the second part of `minimize()`. It returns an `Operation` that\n",
       "applies gradients.\n",
       "\n",
       "The method sums gradients from all replicas in the presence of\n",
       "`tf.distribute.Strategy` by default. You can aggregate gradients yourself by\n",
       "passing `experimental_aggregate_gradients=False`.\n",
       "\n",
       "Example:\n",
       "\n",
       "```python\n",
       "grads = tape.gradient(loss, vars)\n",
       "grads = tf.distribute.get_replica_context().all_reduce('sum', grads)\n",
       "# Processing aggregated gradients.\n",
       "optimizer.apply_gradients(zip(grads, vars),\n",
       "    experimental_aggregate_gradients=False)\n",
       "\n",
       "```\n",
       "\n",
       "Args:\n",
       "  grads_and_vars: List of (gradient, variable) pairs.\n",
       "  name: Optional name for the returned operation. Default to the name passed\n",
       "    to the `Optimizer` constructor.\n",
       "  experimental_aggregate_gradients: Whether to sum gradients from different\n",
       "    replicas in the presence of `tf.distribute.Strategy`. If False, it's\n",
       "    user responsibility to aggregate the gradients. Default to True.\n",
       "\n",
       "Returns:\n",
       "  An `Operation` that applies the specified gradients. The `iterations`\n",
       "  will be automatically increased by 1.\n",
       "\n",
       "Raises:\n",
       "  TypeError: If `grads_and_vars` is malformed.\n",
       "  ValueError: If none of the variables have gradients.\n",
       "  RuntimeError: If called in a cross-replica context.\n",
       "\u001b[0;31mFile:\u001b[0m      ~/anaconda3/envs/stbda2022/lib/python3.10/site-packages/keras/optimizer_v2/optimizer_v2.py\n",
       "\u001b[0;31mType:\u001b[0m      method\n"
      ]
     },
     "metadata": {},
     "output_type": "display_data"
    }
   ],
   "source": [
    "#collapse-output\n",
    "opt.apply_gradients?"
   ]
  },
  {
   "cell_type": "code",
   "execution_count": 182,
   "id": "7218bf2d-3317-4050-be65-de40beb80a70",
   "metadata": {},
   "outputs": [],
   "source": [
    "for epoc in range(1000): \n",
    "    with tf.GradientTape() as tape: \n",
    "        yhat = X@beta_hat\n",
    "        loss = (y-yhat).T @ (y-yhat) / N \n",
    "    slope = tape.gradient(loss,beta_hat)  \n",
    "    opt.apply_gradients( [(slope,beta_hat)] )"
   ]
  },
  {
   "cell_type": "code",
   "execution_count": 183,
   "id": "f2bde8bc-6377-46bf-a32d-c055603fd006",
   "metadata": {},
   "outputs": [
    {
     "data": {
      "text/plain": [
       "<tf.Variable 'Variable:0' shape=(2, 1) dtype=float64, numpy=\n",
       "array([[2.58366061],\n",
       "       [3.93304684]])>"
      ]
     },
     "execution_count": 183,
     "metadata": {},
     "output_type": "execute_result"
    }
   ],
   "source": [
    "beta_hat"
   ]
  },
  {
   "cell_type": "code",
   "execution_count": 594,
   "id": "1f3f55f3-87a0-48d4-b731-0a9cb332c089",
   "metadata": {},
   "outputs": [
    {
     "data": {
      "text/plain": [
       "<tf.Variable 'Variable:0' shape=(2, 1) dtype=float64, numpy=\n",
       "array([[2.58366061],\n",
       "       [3.93304684]])>"
      ]
     },
     "execution_count": 594,
     "metadata": {},
     "output_type": "execute_result"
    }
   ],
   "source": [
    "#collapse\n",
    "y = y.reshape(200,1)\n",
    "X = tf.stack([tf.ones(200,dtype=tf.float64),x],axis=1)\n",
    "beta_hat = tf.Variable(tnp.array([-5.0,10.0]).reshape(2,1))\n",
    "alpha=0.1\n",
    "opt = tf.keras.optimizers.SGD(alpha)\n",
    "for epoc in range(1000):\n",
    "    with tf.GradientTape() as tape:\n",
    "        yhat = X@beta_hat\n",
    "        loss =( (y-yhat).T@(y-yhat) )/200\n",
    "    slope = tape.gradient(loss,beta_hat)\n",
    "    opt.apply_gradients([(slope,beta_hat)])\n",
    "beta_hat"
   ]
  },
  {
   "cell_type": "markdown",
   "id": "544bb15a-9809-4bfb-abda-c7e84e20f8e4",
   "metadata": {
    "id": "544bb15a-9809-4bfb-abda-c7e84e20f8e4",
    "tags": []
   },
   "source": [
    "#### 풀이2: 스칼라버전 "
   ]
  },
  {
   "cell_type": "markdown",
   "id": "9e93cdf6-3ba5-4102-b325-33c98fa8010c",
   "metadata": {
    "id": "9e93cdf6-3ba5-4102-b325-33c98fa8010c"
   },
   "source": [
    "`-` 포인트\n",
    "```python\n",
    "## 포인트코드: 업데이트 \n",
    "opt.apply_gradients([(slope0,beta0_hat),(slope1,beta1_hat)]) ## pair의 list가 입력 \n",
    "```"
   ]
  },
  {
   "cell_type": "code",
   "execution_count": 220,
   "id": "3f6d358b-abab-4f2c-80c2-4251df7ec206",
   "metadata": {},
   "outputs": [
    {
     "data": {
      "text/plain": [
       "(TensorShape([200]), TensorShape([200]))"
      ]
     },
     "execution_count": 220,
     "metadata": {},
     "output_type": "execute_result"
    }
   ],
   "source": [
    "y = y.reshape(-1)\n",
    "x.shape , y.shape"
   ]
  },
  {
   "cell_type": "code",
   "execution_count": 221,
   "id": "f535edac-0282-4f16-b82e-6ec788c73051",
   "metadata": {},
   "outputs": [],
   "source": [
    "beta0_hat = tf.Variable(-5.0)\n",
    "beta1_hat = tf.Variable(10.0)"
   ]
  },
  {
   "cell_type": "code",
   "execution_count": 222,
   "id": "20580d3e-7edf-4ca2-a1a0-74cae3130f50",
   "metadata": {},
   "outputs": [],
   "source": [
    "alpha=0.1\n",
    "opt = tf.optimizers.SGD(alpha)"
   ]
  },
  {
   "cell_type": "code",
   "execution_count": 223,
   "id": "9b0b703f-fea4-4424-9131-79b96966985e",
   "metadata": {},
   "outputs": [],
   "source": [
    "for epoc in range(1000): \n",
    "    with tf.GradientTape() as tape: \n",
    "        yhat = beta0_hat + beta1_hat*x\n",
    "        loss = tf.reduce_sum((y-yhat)**2) / N\n",
    "    slope0,slope1 = tape.gradient(loss,[beta0_hat,beta1_hat])  \n",
    "    opt.apply_gradients( [(slope0,beta0_hat),(slope1,beta1_hat)] )"
   ]
  },
  {
   "cell_type": "markdown",
   "id": "582c71c4-bb47-4576-b795-a9b4a30ef6fa",
   "metadata": {},
   "source": [
    "여러개를 가지고 미분하고 싶을때, 두 개 pair의 리스트로 전달해야함.."
   ]
  },
  {
   "cell_type": "code",
   "execution_count": 224,
   "id": "93ee9f16-2273-4de2-9568-035932e1e67c",
   "metadata": {},
   "outputs": [
    {
     "data": {
      "text/plain": [
       "(<tf.Variable 'Variable:0' shape=() dtype=float32, numpy=2.58366>,\n",
       " <tf.Variable 'Variable:0' shape=() dtype=float32, numpy=3.933048>)"
      ]
     },
     "execution_count": 224,
     "metadata": {},
     "output_type": "execute_result"
    }
   ],
   "source": [
    "beta0_hat,beta1_hat"
   ]
  },
  {
   "cell_type": "code",
   "execution_count": 597,
   "id": "18790c32-c520-4120-9d2e-983ee59ea4a8",
   "metadata": {},
   "outputs": [
    {
     "data": {
      "text/plain": [
       "(<tf.Variable 'Variable:0' shape=() dtype=float32, numpy=2.58366>,\n",
       " <tf.Variable 'Variable:0' shape=() dtype=float32, numpy=3.933048>)"
      ]
     },
     "execution_count": 597,
     "metadata": {},
     "output_type": "execute_result"
    }
   ],
   "source": [
    "#collapse\n",
    "y=y.reshape(-1)\n",
    "beta0_hat = tf.Variable(-5.0)\n",
    "beta1_hat = tf.Variable(10.0)\n",
    "alpha=0.1\n",
    "opt = tf.keras.optimizers.SGD(alpha)\n",
    "for epoc in range(1000):\n",
    "    with tf.GradientTape() as tape:\n",
    "        yhat = beta0_hat + beta1_hat*x\n",
    "        loss = ( tf.reduce_sum((y-yhat)**2) ) / 200\n",
    "    slope0,slope1 = tape.gradient(loss,[beta0_hat,beta1_hat])\n",
    "    opt.apply_gradients([(slope0,beta0_hat),(slope1,beta1_hat)])\n",
    "beta0_hat, beta1_hat"
   ]
  },
  {
   "cell_type": "markdown",
   "id": "08c010ea-0672-47da-a2ce-e731ccf6d6e0",
   "metadata": {
    "id": "08c010ea-0672-47da-a2ce-e731ccf6d6e0"
   },
   "source": [
    "### opt.minimize"
   ]
  },
  {
   "cell_type": "markdown",
   "id": "2d0207e6-a475-42bc-a1cc-36c7dd86e66d",
   "metadata": {
    "id": "2d0207e6-a475-42bc-a1cc-36c7dd86e66d",
    "tags": []
   },
   "source": [
    "#### 풀이1: 벡터버전, 사용자정의 손실함수 with lambda"
   ]
  },
  {
   "cell_type": "code",
   "execution_count": 201,
   "id": "062ec798-6327-4fa0-88cc-6f99606bcd1f",
   "metadata": {},
   "outputs": [
    {
     "data": {
      "text/plain": [
       "(TensorShape([200, 2]), TensorShape([200, 1]))"
      ]
     },
     "execution_count": 201,
     "metadata": {},
     "output_type": "execute_result"
    }
   ],
   "source": [
    "y = y.reshape(N,1)\n",
    "X.shape , y.shape"
   ]
  },
  {
   "cell_type": "code",
   "execution_count": 202,
   "id": "12cf3dd8-76de-498d-9944-879a805f1791",
   "metadata": {},
   "outputs": [
    {
     "data": {
      "text/plain": [
       "<tf.Variable 'Variable:0' shape=(2, 1) dtype=float64, numpy=\n",
       "array([[-5.],\n",
       "       [10.]])>"
      ]
     },
     "execution_count": 202,
     "metadata": {},
     "output_type": "execute_result"
    }
   ],
   "source": [
    "beta_hat = tf.Variable(tnp.array([-5.0,10.0]).reshape(2,1))\n",
    "beta_hat"
   ]
  },
  {
   "cell_type": "code",
   "execution_count": 206,
   "id": "740011a0-df45-40be-842a-a5158bb49a36",
   "metadata": {},
   "outputs": [],
   "source": [
    "loss_fn = lambda: (y-X@beta_hat).T @ (y-X@beta_hat) / N"
   ]
  },
  {
   "cell_type": "code",
   "execution_count": 210,
   "id": "5479cbd6-1d48-4a8e-b1f9-b403f2a17656",
   "metadata": {},
   "outputs": [],
   "source": [
    "alpha = 0.1\n",
    "opt = tf.optimizers.SGD(alpha)"
   ]
  },
  {
   "cell_type": "code",
   "execution_count": 211,
   "id": "21ef4f5d-84ed-413c-ac5b-d199e266d258",
   "metadata": {},
   "outputs": [],
   "source": [
    "for epoc in range(1000):\n",
    "    opt.minimize(loss_fn, beta_hat)"
   ]
  },
  {
   "cell_type": "code",
   "execution_count": 212,
   "id": "3e462ce0-17e5-4afa-99dc-213b8a2848a4",
   "metadata": {},
   "outputs": [
    {
     "data": {
      "text/plain": [
       "<tf.Variable 'Variable:0' shape=(2, 1) dtype=float64, numpy=\n",
       "array([[2.58366721],\n",
       "       [3.93303452]])>"
      ]
     },
     "execution_count": 212,
     "metadata": {},
     "output_type": "execute_result"
    }
   ],
   "source": [
    "beta_hat"
   ]
  },
  {
   "cell_type": "code",
   "execution_count": 601,
   "id": "210ff130-7ece-4bb5-9f5c-5bc04b041ef4",
   "metadata": {},
   "outputs": [
    {
     "data": {
      "text/plain": [
       "<tf.Variable 'Variable:0' shape=(2, 1) dtype=float64, numpy=\n",
       "array([[2.58366061],\n",
       "       [3.93304684]])>"
      ]
     },
     "execution_count": 601,
     "metadata": {},
     "output_type": "execute_result"
    }
   ],
   "source": [
    "#collapse\n",
    "y = y.reshape(200,1)\n",
    "X = tf.stack([tf.ones(200,dtype=tf.float64),x],axis=1)\n",
    "beta_hat = tf.Variable(tnp.array([-5.0,10.0]).reshape(2,1))\n",
    "alpha = 0.1\n",
    "opt = tf.optimizers.SGD(alpha)\n",
    "loss_fn = lambda: ((y-X@beta_hat).T @ (y-X@beta_hat) )/200\n",
    "for epoc in range(1000):\n",
    "    opt.minimize(loss_fn,beta_hat)\n",
    "beta_hat"
   ]
  },
  {
   "cell_type": "markdown",
   "id": "f9f7739e-27b2-40e6-a60f-de806e7216f4",
   "metadata": {
    "id": "f9f7739e-27b2-40e6-a60f-de806e7216f4",
    "tags": []
   },
   "source": [
    "#### 풀이2: 스칼라버전, 사용자정의 손실함수 with lambda"
   ]
  },
  {
   "cell_type": "markdown",
   "id": "cbd0e298-b04a-47dc-974c-4b72cebdfe55",
   "metadata": {
    "id": "cbd0e298-b04a-47dc-974c-4b72cebdfe55"
   },
   "source": [
    "`-` 포인트\n",
    "```python\n",
    "## 포인트코드: 미분 & 업데이트 = minimize \n",
    "opt.minimize(loss_fn,[beta0_hat,beta1_hat])\n",
    "```"
   ]
  },
  {
   "cell_type": "code",
   "execution_count": 214,
   "id": "b408757b-fab9-49a3-ad5b-58e77cf63c7b",
   "metadata": {},
   "outputs": [
    {
     "data": {
      "text/plain": [
       "(TensorShape([200]), TensorShape([200]))"
      ]
     },
     "execution_count": 214,
     "metadata": {},
     "output_type": "execute_result"
    }
   ],
   "source": [
    "y = y.reshape(-1)\n",
    "x.shape , y.shape"
   ]
  },
  {
   "cell_type": "code",
   "execution_count": 215,
   "id": "6e6c8a0d-842e-4899-ad05-76b451825415",
   "metadata": {},
   "outputs": [],
   "source": [
    "beta0_hat = tf.Variable(-5.0)\n",
    "beta1_hat = tf.Variable(10.0)"
   ]
  },
  {
   "cell_type": "code",
   "execution_count": 216,
   "id": "16d3ebe6-87bf-47dc-b8e3-5f56b0b07b2f",
   "metadata": {},
   "outputs": [],
   "source": [
    "loss_fn = lambda: tf.reduce_sum((y-beta0_hat-beta1_hat*x) **2) / N"
   ]
  },
  {
   "cell_type": "code",
   "execution_count": 217,
   "id": "342917ed-646c-4b62-a56d-618a716a7bae",
   "metadata": {},
   "outputs": [],
   "source": [
    "alpha=0.1\n",
    "opt = tf.optimizers.SGD(alpha)"
   ]
  },
  {
   "cell_type": "code",
   "execution_count": 218,
   "id": "e1d7df31-d845-489d-8aaf-731d8ecce67e",
   "metadata": {},
   "outputs": [],
   "source": [
    "for epoc in range(1000):\n",
    "    opt.minimize(loss_fn, [beta0_hat,beta1_hat])"
   ]
  },
  {
   "cell_type": "code",
   "execution_count": 219,
   "id": "b25c3a9e-1234-439e-947e-92889ae77a70",
   "metadata": {},
   "outputs": [
    {
     "data": {
      "text/plain": [
       "(<tf.Variable 'Variable:0' shape=() dtype=float32, numpy=2.58366>,\n",
       " <tf.Variable 'Variable:0' shape=() dtype=float32, numpy=3.933048>)"
      ]
     },
     "execution_count": 219,
     "metadata": {},
     "output_type": "execute_result"
    }
   ],
   "source": [
    "beta0_hat, beta1_hat"
   ]
  },
  {
   "cell_type": "code",
   "execution_count": 603,
   "id": "9fefe9cc-2fda-474c-acf3-85816c20eab4",
   "metadata": {},
   "outputs": [
    {
     "data": {
      "text/plain": [
       "(<tf.Variable 'Variable:0' shape=() dtype=float32, numpy=2.58366>,\n",
       " <tf.Variable 'Variable:0' shape=() dtype=float32, numpy=3.933048>)"
      ]
     },
     "execution_count": 603,
     "metadata": {},
     "output_type": "execute_result"
    }
   ],
   "source": [
    "#collapse\n",
    "y = y.reshape(-1)\n",
    "beta0_hat = tf.Variable(-5.0)\n",
    "beta1_hat = tf.Variable(10.0)\n",
    "alpha = 0.1\n",
    "opt = tf.keras.optimizers.SGD(alpha)\n",
    "loss_fn = lambda: tf.reduce_sum((y-beta0_hat-beta1_hat*x)**2) / 200\n",
    "for epoc in range(1000):\n",
    "    opt.minimize(loss_fn, [beta0_hat, beta1_hat])\n",
    "beta0_hat, beta1_hat"
   ]
  },
  {
   "cell_type": "markdown",
   "id": "a1f09a4f-bdb9-440b-9d9e-623cd220baff",
   "metadata": {
    "id": "a1f09a4f-bdb9-440b-9d9e-623cd220baff",
    "tags": []
   },
   "source": [
    "#### 풀이3: 벡터버전, 사용자정의 (짧은) 손실함수 "
   ]
  },
  {
   "cell_type": "markdown",
   "id": "f5031126-91a9-4d1f-a932-e0b67559776a",
   "metadata": {
    "id": "f5031126-91a9-4d1f-a932-e0b67559776a"
   },
   "source": [
    "`-` 포인트\n",
    "```python\n",
    "## 포인트코드: 손실함수정의 \n",
    "def loss_fn():\n",
    "    return ??\n",
    "```"
   ]
  },
  {
   "cell_type": "code",
   "execution_count": 225,
   "id": "de32e37e-1970-4300-81c2-388139bd9009",
   "metadata": {},
   "outputs": [
    {
     "data": {
      "text/plain": [
       "(TensorShape([200, 2]), TensorShape([200, 1]))"
      ]
     },
     "execution_count": 225,
     "metadata": {},
     "output_type": "execute_result"
    }
   ],
   "source": [
    "y = y.reshape(N,1)\n",
    "X.shape , y.shape"
   ]
  },
  {
   "cell_type": "code",
   "execution_count": 226,
   "id": "2eebfabd-2114-4282-bc86-c02cac6bf4c7",
   "metadata": {},
   "outputs": [
    {
     "data": {
      "text/plain": [
       "<tf.Variable 'Variable:0' shape=(2, 1) dtype=float64, numpy=\n",
       "array([[-5.],\n",
       "       [10.]])>"
      ]
     },
     "execution_count": 226,
     "metadata": {},
     "output_type": "execute_result"
    }
   ],
   "source": [
    "beta_hat = tf.Variable(tnp.array([-5.0,10.0]).reshape(2,1))\n",
    "beta_hat"
   ]
  },
  {
   "cell_type": "markdown",
   "id": "ab20ffcf-364f-4a3c-9056-51e8de596277",
   "metadata": {},
   "source": [
    "거즘 더미함수라 생각"
   ]
  },
  {
   "cell_type": "code",
   "execution_count": 227,
   "id": "243a6515-e3d7-4cda-b931-1e02d4aca76c",
   "metadata": {},
   "outputs": [],
   "source": [
    "def loss_fn():\n",
    "    return (y-X@beta_hat).T @ (y-X@beta_hat) / N"
   ]
  },
  {
   "cell_type": "code",
   "execution_count": 228,
   "id": "aeb916a9-73bc-49ff-8867-f286c5ec71f8",
   "metadata": {},
   "outputs": [],
   "source": [
    "alpha = 0.1\n",
    "opt = tf.optimizers.SGD(alpha)"
   ]
  },
  {
   "cell_type": "code",
   "execution_count": 229,
   "id": "632c20de-8c04-4e9d-a692-85ce2f8b46a7",
   "metadata": {},
   "outputs": [],
   "source": [
    "for epoc in range(1000):\n",
    "    opt.minimize(loss_fn, beta_hat)"
   ]
  },
  {
   "cell_type": "code",
   "execution_count": 230,
   "id": "f897a341-782e-4145-ae49-2b373b450e29",
   "metadata": {},
   "outputs": [
    {
     "data": {
      "text/plain": [
       "<tf.Variable 'Variable:0' shape=(2, 1) dtype=float64, numpy=\n",
       "array([[2.58366061],\n",
       "       [3.93304684]])>"
      ]
     },
     "execution_count": 230,
     "metadata": {},
     "output_type": "execute_result"
    }
   ],
   "source": [
    "beta_hat"
   ]
  },
  {
   "cell_type": "markdown",
   "id": "e61e4ece-2621-42b0-bb32-718c12ba8efe",
   "metadata": {},
   "source": [
    "같은 결과"
   ]
  },
  {
   "cell_type": "code",
   "execution_count": 606,
   "id": "9f588551-9936-4708-9a83-abb6bd579e92",
   "metadata": {},
   "outputs": [
    {
     "data": {
      "text/plain": [
       "<tf.Variable 'Variable:0' shape=(2, 1) dtype=float64, numpy=\n",
       "array([[2.58366061],\n",
       "       [3.93304684]])>"
      ]
     },
     "execution_count": 606,
     "metadata": {},
     "output_type": "execute_result"
    }
   ],
   "source": [
    "#collapse\n",
    "y = y.reshape(200,1)\n",
    "X = tf.stack([tf.ones(200,dtype=tf.float64),x],axis=1)\n",
    "beta_hat = tf.Variable(tnp.array([-5.0,10.0]).reshape(2,1))\n",
    "alpha = 0.1\n",
    "opt = tf.keras.optimizers.SGD(alpha)\n",
    "def loss_fn():\n",
    "    return ( (y-X@beta_hat).T @ (y-X@beta_hat) ) /200\n",
    "for oepoc in range(1000):\n",
    "        opt.minimize(loss_fn,beta_hat)\n",
    "beta_hat"
   ]
  },
  {
   "cell_type": "markdown",
   "id": "28e46453-92c4-4858-8feb-19597cf34e73",
   "metadata": {
    "id": "28e46453-92c4-4858-8feb-19597cf34e73",
    "tags": []
   },
   "source": [
    "#### 풀이4: 벡터버전, 사용자정의 (긴) 손실함수 "
   ]
  },
  {
   "cell_type": "markdown",
   "id": "74a717fc-0e55-416c-aaa0-3d6dc5a60371",
   "metadata": {
    "id": "74a717fc-0e55-416c-aaa0-3d6dc5a60371"
   },
   "source": [
    "`-` 포인트\n",
    "```python\n",
    "## 포인트코드: 손실함수정의 \n",
    "def loss_fn():\n",
    "    ??\n",
    "    ??\n",
    "    return ??\n",
    "```"
   ]
  },
  {
   "cell_type": "code",
   "execution_count": 231,
   "id": "5c95f996-609c-40ee-ae12-232fc9668924",
   "metadata": {},
   "outputs": [
    {
     "data": {
      "text/plain": [
       "(TensorShape([200, 2]), TensorShape([200, 1]))"
      ]
     },
     "execution_count": 231,
     "metadata": {},
     "output_type": "execute_result"
    }
   ],
   "source": [
    "y = y.reshape(N,1)\n",
    "X.shape , y.shape"
   ]
  },
  {
   "cell_type": "code",
   "execution_count": 232,
   "id": "016c6b59-e68c-449b-884a-b2d120e812e8",
   "metadata": {},
   "outputs": [
    {
     "data": {
      "text/plain": [
       "<tf.Variable 'Variable:0' shape=(2, 1) dtype=float64, numpy=\n",
       "array([[-5.],\n",
       "       [10.]])>"
      ]
     },
     "execution_count": 232,
     "metadata": {},
     "output_type": "execute_result"
    }
   ],
   "source": [
    "beta_hat = tf.Variable(tnp.array([-5.0,10.0]).reshape(2,1))\n",
    "beta_hat"
   ]
  },
  {
   "cell_type": "code",
   "execution_count": 234,
   "id": "b88f77bd-124f-4c8b-8af4-1de248fa999c",
   "metadata": {},
   "outputs": [],
   "source": [
    "def loss_fn():\n",
    "    yhat = X@beta_hat # 컴퓨터한테 전달할 수식 1\n",
    "    loss = (y-yhat).T @ (y-yhat) / N # 컴퓨터한테 전달할 수식 2\n",
    "    return loss # tape.gradient(loss,beta_hat) 에서의 미분 당하는 애"
   ]
  },
  {
   "cell_type": "markdown",
   "id": "a86ffd73-5361-4236-9ab7-3a5cbcd47fc3",
   "metadata": {},
   "source": [
    "gradient tape을 대체해버린 minimize ..원래 그러면 안 되지..\n",
    "- 그 흔적들이 있음\n",
    "- tensorflow gradient역할을 loss_fn이 대신한다."
   ]
  },
  {
   "cell_type": "code",
   "execution_count": 235,
   "id": "2eeb3262-52fb-4808-8b72-122cf8f6b10d",
   "metadata": {},
   "outputs": [],
   "source": [
    "alpha = 0.1\n",
    "opt = tf.optimizers.SGD(alpha)"
   ]
  },
  {
   "cell_type": "code",
   "execution_count": 236,
   "id": "b37c343d-1380-472e-b9b8-9b55bec7c50b",
   "metadata": {},
   "outputs": [],
   "source": [
    "for epoc in range(1000):\n",
    "    opt.minimize(loss_fn, beta_hat)"
   ]
  },
  {
   "cell_type": "code",
   "execution_count": 237,
   "id": "80e68a54-0142-458c-9525-5705ecd844fa",
   "metadata": {},
   "outputs": [
    {
     "data": {
      "text/plain": [
       "<tf.Variable 'Variable:0' shape=(2, 1) dtype=float64, numpy=\n",
       "array([[2.58366061],\n",
       "       [3.93304684]])>"
      ]
     },
     "execution_count": 237,
     "metadata": {},
     "output_type": "execute_result"
    }
   ],
   "source": [
    "beta_hat"
   ]
  },
  {
   "cell_type": "code",
   "execution_count": 609,
   "id": "86ab7f96-6103-42c4-9ec1-a097c832b6ca",
   "metadata": {},
   "outputs": [
    {
     "data": {
      "text/plain": [
       "<tf.Variable 'Variable:0' shape=(2, 1) dtype=float64, numpy=\n",
       "array([[2.58366061],\n",
       "       [3.93304684]])>"
      ]
     },
     "execution_count": 609,
     "metadata": {},
     "output_type": "execute_result"
    }
   ],
   "source": [
    "#collapse\n",
    "y = y.reshape(200,1)\n",
    "X = tf.stack([tf.ones(200,dtype=tf.float64),x],axis=1)\n",
    "alpha = 0.1\n",
    "opt = tf.keras.optimizers.SGD(alpha)\n",
    "beta_hat = tf.Variable(tnp.array([-5.0,10.0]).reshape(2,1))\n",
    "def loss_fn():\n",
    "    yhat = X@beta_hat\n",
    "    return ((y-yhat).T@(y-yhat))/200\n",
    "for epoc in range(1000):\n",
    "    opt.minimize(loss_fn,beta_hat)\n",
    "beta_hat"
   ]
  },
  {
   "cell_type": "markdown",
   "id": "07f15e8b-d947-4341-ad00-d2994d462eef",
   "metadata": {
    "id": "07f15e8b-d947-4341-ad00-d2994d462eef"
   },
   "source": [
    "#### 풀이5: 벡터버전, 사용자정의 손실함수 <- tf.losses.MSE "
   ]
  },
  {
   "cell_type": "markdown",
   "id": "016c6e35-1822-4973-a654-9ff28ac7be66",
   "metadata": {
    "id": "016c6e35-1822-4973-a654-9ff28ac7be66"
   },
   "source": [
    "`-` 포인트\n",
    "```python\n",
    "## 포인트코드: 미리구현되어있는 손실함수 이용 \n",
    "tf.losses.MSE(y,yhat)\n",
    "```"
   ]
  },
  {
   "cell_type": "code",
   "execution_count": 238,
   "id": "abd0acd5-f1a1-40c4-8af4-898dcf35597c",
   "metadata": {},
   "outputs": [
    {
     "data": {
      "text/plain": [
       "(TensorShape([200, 2]), TensorShape([200, 1]))"
      ]
     },
     "execution_count": 238,
     "metadata": {},
     "output_type": "execute_result"
    }
   ],
   "source": [
    "y=y.reshape(N,1)\n",
    "X.shape,y.shape"
   ]
  },
  {
   "cell_type": "code",
   "execution_count": 239,
   "id": "4e90be62-895c-4f03-9eeb-9b9c9c2fa9dc",
   "metadata": {},
   "outputs": [
    {
     "data": {
      "text/plain": [
       "<tf.Variable 'Variable:0' shape=(2, 1) dtype=float64, numpy=\n",
       "array([[-5.],\n",
       "       [10.]])>"
      ]
     },
     "execution_count": 239,
     "metadata": {},
     "output_type": "execute_result"
    }
   ],
   "source": [
    "beta_hat = tf.Variable(tnp.array([-5.0,10.0]).reshape(2,1))\n",
    "beta_hat"
   ]
  },
  {
   "cell_type": "code",
   "execution_count": 240,
   "id": "4f8fa7ee-77ee-4013-9fa4-82333b03a8a2",
   "metadata": {},
   "outputs": [],
   "source": [
    "alpha=0.1"
   ]
  },
  {
   "cell_type": "code",
   "execution_count": 241,
   "id": "18023ac9-1270-47a6-8716-01708500a644",
   "metadata": {},
   "outputs": [],
   "source": [
    "opt = tf.optimizers.SGD(alpha) "
   ]
  },
  {
   "cell_type": "code",
   "execution_count": 242,
   "id": "779b86e0-241c-4f5b-8523-e22222fdfc64",
   "metadata": {
    "scrolled": true,
    "tags": []
   },
   "outputs": [
    {
     "data": {
      "text/plain": [
       "\u001b[0;31mSignature:\u001b[0m \u001b[0mtf\u001b[0m\u001b[0;34m.\u001b[0m\u001b[0mkeras\u001b[0m\u001b[0;34m.\u001b[0m\u001b[0mlosses\u001b[0m\u001b[0;34m.\u001b[0m\u001b[0mMSE\u001b[0m\u001b[0;34m(\u001b[0m\u001b[0my_true\u001b[0m\u001b[0;34m,\u001b[0m \u001b[0my_pred\u001b[0m\u001b[0;34m)\u001b[0m\u001b[0;34m\u001b[0m\u001b[0;34m\u001b[0m\u001b[0m\n",
       "\u001b[0;31mDocstring:\u001b[0m\n",
       "Computes the mean squared error between labels and predictions.\n",
       "\n",
       "After computing the squared distance between the inputs, the mean value over\n",
       "the last dimension is returned.\n",
       "\n",
       "`loss = mean(square(y_true - y_pred), axis=-1)`\n",
       "\n",
       "Standalone usage:\n",
       "\n",
       ">>> y_true = np.random.randint(0, 2, size=(2, 3))\n",
       ">>> y_pred = np.random.random(size=(2, 3))\n",
       ">>> loss = tf.keras.losses.mean_squared_error(y_true, y_pred)\n",
       ">>> assert loss.shape == (2,)\n",
       ">>> assert np.array_equal(\n",
       "...     loss.numpy(), np.mean(np.square(y_true - y_pred), axis=-1))\n",
       "\n",
       "Args:\n",
       "  y_true: Ground truth values. shape = `[batch_size, d0, .. dN]`.\n",
       "  y_pred: The predicted values. shape = `[batch_size, d0, .. dN]`.\n",
       "\n",
       "Returns:\n",
       "  Mean squared error values. shape = `[batch_size, d0, .. dN-1]`.\n",
       "\u001b[0;31mFile:\u001b[0m      ~/anaconda3/envs/stbda2022/lib/python3.10/site-packages/keras/losses.py\n",
       "\u001b[0;31mType:\u001b[0m      function\n"
      ]
     },
     "metadata": {},
     "output_type": "display_data"
    }
   ],
   "source": [
    "#collapse-output\n",
    "tf.keras.losses.MSE?"
   ]
  },
  {
   "cell_type": "markdown",
   "id": "13673d4f-6d88-4cc3-83f7-5912b7cc075a",
   "metadata": {},
   "source": [
    "tf.keras.losses.MSE(y_true, y_pred)\n",
    "- 실제값과 예측값 집어넣어주면 되겠다"
   ]
  },
  {
   "cell_type": "markdown",
   "id": "7837d6c4-158d-499b-bf01-cab6555518a0",
   "metadata": {},
   "source": [
    "---"
   ]
  },
  {
   "cell_type": "code",
   "execution_count": 244,
   "id": "9a0c5a2d-c1eb-4463-a7e8-1ea36482f19b",
   "metadata": {},
   "outputs": [
    {
     "data": {
      "text/plain": [
       "<tf.Tensor: shape=(), dtype=float64, numpy=4.666666666666667>"
      ]
     },
     "execution_count": 244,
     "metadata": {},
     "output_type": "execute_result"
    }
   ],
   "source": [
    "tf.keras.losses.MSE(tnp.array([0.0,0.0,0.0]),tnp.array([1.0,2.0,3.0]))"
   ]
  },
  {
   "cell_type": "code",
   "execution_count": 245,
   "id": "311a848f-34e1-442a-a5b5-46767f45a742",
   "metadata": {},
   "outputs": [
    {
     "data": {
      "text/plain": [
       "4.666666666666667"
      ]
     },
     "execution_count": 245,
     "metadata": {},
     "output_type": "execute_result"
    }
   ],
   "source": [
    "(1+4+9)/3"
   ]
  },
  {
   "cell_type": "code",
   "execution_count": 246,
   "id": "04bec543-d294-4be5-979c-4fe972b3bc76",
   "metadata": {},
   "outputs": [
    {
     "data": {
      "text/plain": [
       "TensorShape([3])"
      ]
     },
     "execution_count": 246,
     "metadata": {},
     "output_type": "execute_result"
    }
   ],
   "source": [
    "tnp.array([0.0,0.0,0.0]).shape"
   ]
  },
  {
   "cell_type": "markdown",
   "id": "18051cad-15d8-4084-ac7d-0dbfe8e34923",
   "metadata": {},
   "source": [
    "여기서는 길이가 (3,1)이었잖아 우리도 이렇게 만들어주자 \n",
    "- reshape(-1)로 밑에 처럼"
   ]
  },
  {
   "cell_type": "code",
   "execution_count": 256,
   "id": "d9062edd-b99e-423a-8450-c37cc621134b",
   "metadata": {},
   "outputs": [
    {
     "data": {
      "text/plain": [
       "TensorShape([200, 1])"
      ]
     },
     "execution_count": 256,
     "metadata": {},
     "output_type": "execute_result"
    }
   ],
   "source": [
    "y.shape"
   ]
  },
  {
   "cell_type": "code",
   "execution_count": 259,
   "id": "39884c5b-2330-424c-a998-28c627e5a12c",
   "metadata": {},
   "outputs": [
    {
     "data": {
      "text/plain": [
       "TensorShape([200])"
      ]
     },
     "execution_count": 259,
     "metadata": {},
     "output_type": "execute_result"
    }
   ],
   "source": [
    "y.reshape(-1).shape"
   ]
  },
  {
   "cell_type": "markdown",
   "id": "42e300fe-b862-4256-9d95-d42c9dd14db6",
   "metadata": {},
   "source": [
    "---"
   ]
  },
  {
   "cell_type": "code",
   "execution_count": 249,
   "id": "63b56301-436b-45f1-ba34-dda681ccca6f",
   "metadata": {},
   "outputs": [],
   "source": [
    "def loss_fn():\n",
    "    yhat = X@beta_hat\n",
    "    loss = tf.losses.MSE(y.reshape(-1),yhat.reshape(-1))\n",
    "    return loss"
   ]
  },
  {
   "cell_type": "code",
   "execution_count": 254,
   "id": "0f909810-cc86-41cc-832c-001886ddac1d",
   "metadata": {},
   "outputs": [],
   "source": [
    "for epoc in range(1000):\n",
    "    opt.minimize(loss_fn,beta_hat) # 미분 + update "
   ]
  },
  {
   "cell_type": "code",
   "execution_count": 255,
   "id": "8a3e9da2-bab2-4bb1-81e7-125bd16c206a",
   "metadata": {},
   "outputs": [
    {
     "data": {
      "text/plain": [
       "<tf.Variable 'Variable:0' shape=(2, 1) dtype=float64, numpy=\n",
       "array([[2.58366061],\n",
       "       [3.93304684]])>"
      ]
     },
     "execution_count": 255,
     "metadata": {},
     "output_type": "execute_result"
    }
   ],
   "source": [
    "beta_hat"
   ]
  },
  {
   "cell_type": "code",
   "execution_count": 612,
   "id": "8126510f-504d-49ef-9ab8-2bb8123a63c0",
   "metadata": {},
   "outputs": [
    {
     "data": {
      "text/plain": [
       "<tf.Variable 'Variable:0' shape=(2, 1) dtype=float64, numpy=\n",
       "array([[2.58366061],\n",
       "       [3.93304684]])>"
      ]
     },
     "execution_count": 612,
     "metadata": {},
     "output_type": "execute_result"
    }
   ],
   "source": [
    "#collapse\n",
    "y = y.reshape(200,1)\n",
    "X = tf.stack([tf.ones(200,dtype=tf.float64),x],axis=1)\n",
    "beta_hat = tf.Variable(tnp.array([-5.0,10.0]).reshape(2,1))\n",
    "alpha = 0.1\n",
    "opt = tf.optimizers.SGD(alpha)\n",
    "def loss_fn():\n",
    "    yhat = X@beta_hat\n",
    "    loss = tf.losses.MSE(y.reshape(-1),yhat.reshape(-1))\n",
    "    return loss\n",
    "for epoc in range(1000):\n",
    "    opt.minimize(loss_fn,beta_hat)\n",
    "beta_hat"
   ]
  },
  {
   "cell_type": "markdown",
   "id": "1c725521-bfe4-431e-bf45-9eed25d2d83d",
   "metadata": {
    "id": "1c725521-bfe4-431e-bf45-9eed25d2d83d"
   },
   "source": [
    "#### 풀이6: 벡터버전, 사용자정의 손실함수 <- tf.losses.MeadnSquaredError"
   ]
  },
  {
   "cell_type": "markdown",
   "id": "a16611c1-31ef-4ea4-acc5-5d259273b545",
   "metadata": {
    "id": "a16611c1-31ef-4ea4-acc5-5d259273b545"
   },
   "source": [
    "`-` 포인트\n",
    "```python\n",
    "## 포인트코드: 클래스로부터 손실함수 오브젝트 생성 (함수를 찍어내는 클래스) \n",
    "mse_fn = tf.losses.MeanSquaredError()\n",
    "mse_fn(y,yhat)\n",
    "```"
   ]
  },
  {
   "cell_type": "code",
   "execution_count": 260,
   "id": "98628954-4938-4d86-a7ca-da6024c061fa",
   "metadata": {},
   "outputs": [
    {
     "data": {
      "text/plain": [
       "(TensorShape([200, 2]), TensorShape([200, 1]))"
      ]
     },
     "execution_count": 260,
     "metadata": {},
     "output_type": "execute_result"
    }
   ],
   "source": [
    "y=y.reshape(N,1)\n",
    "X.shape,y.shape"
   ]
  },
  {
   "cell_type": "code",
   "execution_count": 261,
   "id": "5fb5360e-a9ef-4cd4-bdea-9be5846bc8c6",
   "metadata": {},
   "outputs": [
    {
     "data": {
      "text/plain": [
       "<tf.Variable 'Variable:0' shape=(2, 1) dtype=float64, numpy=\n",
       "array([[-5.],\n",
       "       [10.]])>"
      ]
     },
     "execution_count": 261,
     "metadata": {},
     "output_type": "execute_result"
    }
   ],
   "source": [
    "beta_hat = tf.Variable(tnp.array([-5.0,10.0]).reshape(2,1))\n",
    "beta_hat"
   ]
  },
  {
   "cell_type": "code",
   "execution_count": 262,
   "id": "4687c7e4-28cd-45f5-9887-d5e3f6d9e745",
   "metadata": {},
   "outputs": [],
   "source": [
    "alpha=0.1"
   ]
  },
  {
   "cell_type": "code",
   "execution_count": 263,
   "id": "b29c8740-252d-4fba-9511-c22f10848318",
   "metadata": {},
   "outputs": [],
   "source": [
    "opt = tf.optimizers.SGD(alpha) "
   ]
  },
  {
   "cell_type": "markdown",
   "id": "d0fafe4b-911e-435b-94ce-2095f9e443e8",
   "metadata": {},
   "source": [
    "f는 function, c는 class인데.."
   ]
  },
  {
   "cell_type": "code",
   "execution_count": 264,
   "id": "c78d8680-7dab-4ec5-858e-02bb59c5f8f1",
   "metadata": {},
   "outputs": [],
   "source": [
    "mseloss_fn = tf.losses.MeanSquaredError()"
   ]
  },
  {
   "cell_type": "markdown",
   "id": "c45f5e12-d1c1-404d-b795-6eef2236c50e",
   "metadata": {},
   "source": [
    "---"
   ]
  },
  {
   "cell_type": "code",
   "execution_count": 265,
   "id": "a229946c-1744-47c6-95e8-87cfe88c1bd2",
   "metadata": {
    "scrolled": true,
    "tags": []
   },
   "outputs": [
    {
     "data": {
      "text/plain": [
       "\u001b[0;31mSignature:\u001b[0m      \u001b[0mmseloss_fn\u001b[0m\u001b[0;34m(\u001b[0m\u001b[0my_true\u001b[0m\u001b[0;34m,\u001b[0m \u001b[0my_pred\u001b[0m\u001b[0;34m,\u001b[0m \u001b[0msample_weight\u001b[0m\u001b[0;34m=\u001b[0m\u001b[0;32mNone\u001b[0m\u001b[0;34m)\u001b[0m\u001b[0;34m\u001b[0m\u001b[0;34m\u001b[0m\u001b[0m\n",
       "\u001b[0;31mType:\u001b[0m           MeanSquaredError\n",
       "\u001b[0;31mString form:\u001b[0m    <keras.losses.MeanSquaredError object at 0x7f221e1db880>\n",
       "\u001b[0;31mFile:\u001b[0m           ~/anaconda3/envs/stbda2022/lib/python3.10/site-packages/keras/losses.py\n",
       "\u001b[0;31mDocstring:\u001b[0m     \n",
       "Computes the mean of squares of errors between labels and predictions.\n",
       "\n",
       "`loss = square(y_true - y_pred)`\n",
       "\n",
       "Standalone usage:\n",
       "\n",
       ">>> y_true = [[0., 1.], [0., 0.]]\n",
       ">>> y_pred = [[1., 1.], [1., 0.]]\n",
       ">>> # Using 'auto'/'sum_over_batch_size' reduction type.\n",
       ">>> mse = tf.keras.losses.MeanSquaredError()\n",
       ">>> mse(y_true, y_pred).numpy()\n",
       "0.5\n",
       "\n",
       ">>> # Calling with 'sample_weight'.\n",
       ">>> mse(y_true, y_pred, sample_weight=[0.7, 0.3]).numpy()\n",
       "0.25\n",
       "\n",
       ">>> # Using 'sum' reduction type.\n",
       ">>> mse = tf.keras.losses.MeanSquaredError(\n",
       "...     reduction=tf.keras.losses.Reduction.SUM)\n",
       ">>> mse(y_true, y_pred).numpy()\n",
       "1.0\n",
       "\n",
       ">>> # Using 'none' reduction type.\n",
       ">>> mse = tf.keras.losses.MeanSquaredError(\n",
       "...     reduction=tf.keras.losses.Reduction.NONE)\n",
       ">>> mse(y_true, y_pred).numpy()\n",
       "array([0.5, 0.5], dtype=float32)\n",
       "\n",
       "Usage with the `compile()` API:\n",
       "\n",
       "```python\n",
       "model.compile(optimizer='sgd', loss=tf.keras.losses.MeanSquaredError())\n",
       "```\n",
       "\u001b[0;31mInit docstring:\u001b[0m\n",
       "Initializes `MeanSquaredError` instance.\n",
       "\n",
       "Args:\n",
       "  reduction: Type of `tf.keras.losses.Reduction` to apply to\n",
       "    loss. Default value is `AUTO`. `AUTO` indicates that the reduction\n",
       "    option will be determined by the usage context. For almost all cases\n",
       "    this defaults to `SUM_OVER_BATCH_SIZE`. When used with\n",
       "    `tf.distribute.Strategy`, outside of built-in training loops such as\n",
       "    `tf.keras` `compile` and `fit`, using `AUTO` or `SUM_OVER_BATCH_SIZE`\n",
       "    will raise an error. Please see this custom training [tutorial](\n",
       "      https://www.tensorflow.org/tutorials/distribute/custom_training) for\n",
       "        more details.\n",
       "  name: Optional name for the instance. Defaults to 'mean_squared_error'.\n",
       "\u001b[0;31mCall docstring:\u001b[0m\n",
       "Invokes the `Loss` instance.\n",
       "\n",
       "Args:\n",
       "  y_true: Ground truth values. shape = `[batch_size, d0, .. dN]`, except\n",
       "    sparse loss functions such as sparse categorical crossentropy where\n",
       "    shape = `[batch_size, d0, .. dN-1]`\n",
       "  y_pred: The predicted values. shape = `[batch_size, d0, .. dN]`\n",
       "  sample_weight: Optional `sample_weight` acts as a coefficient for the\n",
       "    loss. If a scalar is provided, then the loss is simply scaled by the\n",
       "    given value. If `sample_weight` is a tensor of size `[batch_size]`, then\n",
       "    the total loss for each sample of the batch is rescaled by the\n",
       "    corresponding element in the `sample_weight` vector. If the shape of\n",
       "    `sample_weight` is `[batch_size, d0, .. dN-1]` (or can be broadcasted to\n",
       "    this shape), then each loss element of `y_pred` is scaled\n",
       "    by the corresponding value of `sample_weight`. (Note on`dN-1`: all loss\n",
       "      functions reduce by 1 dimension, usually axis=-1.)\n",
       "\n",
       "Returns:\n",
       "  Weighted loss float `Tensor`. If `reduction` is `NONE`, this has\n",
       "    shape `[batch_size, d0, .. dN-1]`; otherwise, it is scalar. (Note `dN-1`\n",
       "    because all loss functions reduce by 1 dimension, usually axis=-1.)\n",
       "\n",
       "Raises:\n",
       "  ValueError: If the shape of `sample_weight` is invalid.\n"
      ]
     },
     "metadata": {},
     "output_type": "display_data"
    }
   ],
   "source": [
    "#collapse-output\n",
    "mseloss_fn?"
   ]
  },
  {
   "cell_type": "markdown",
   "id": "6431a34b-fbc8-4222-b32f-6b99fbb26280",
   "metadata": {},
   "source": [
    "mseloss_fn는 type이 MeanSquaredError네..?"
   ]
  },
  {
   "cell_type": "markdown",
   "id": "3e43af24-65ec-4f46-81f9-f412a4846c05",
   "metadata": {},
   "source": [
    " mseloss_fn(y_true, y_pred, sample_weight=None)"
   ]
  },
  {
   "cell_type": "code",
   "execution_count": 266,
   "id": "1b43196b-f12f-466e-8e95-fd91cf55db51",
   "metadata": {
    "scrolled": true,
    "tags": []
   },
   "outputs": [
    {
     "data": {
      "text/plain": [
       "['__call__',\n",
       " '__class__',\n",
       " '__delattr__',\n",
       " '__dict__',\n",
       " '__dir__',\n",
       " '__doc__',\n",
       " '__eq__',\n",
       " '__format__',\n",
       " '__ge__',\n",
       " '__getattribute__',\n",
       " '__gt__',\n",
       " '__hash__',\n",
       " '__init__',\n",
       " '__init_subclass__',\n",
       " '__le__',\n",
       " '__lt__',\n",
       " '__module__',\n",
       " '__ne__',\n",
       " '__new__',\n",
       " '__reduce__',\n",
       " '__reduce_ex__',\n",
       " '__repr__',\n",
       " '__setattr__',\n",
       " '__sizeof__',\n",
       " '__str__',\n",
       " '__subclasshook__',\n",
       " '__weakref__',\n",
       " '_allow_sum_over_batch_size',\n",
       " '_fn_kwargs',\n",
       " '_get_reduction',\n",
       " '_keras_api_names',\n",
       " '_keras_api_names_v1',\n",
       " '_name_scope',\n",
       " '_set_name_scope',\n",
       " 'call',\n",
       " 'fn',\n",
       " 'from_config',\n",
       " 'get_config',\n",
       " 'name',\n",
       " 'reduction']"
      ]
     },
     "execution_count": 266,
     "metadata": {},
     "output_type": "execute_result"
    }
   ],
   "source": [
    "#collapse-outpur\n",
    "dir(mseloss_fn)"
   ]
  },
  {
   "cell_type": "markdown",
   "id": "c9f35eb6-db8b-40f9-a57e-26510476eb66",
   "metadata": {},
   "source": [
    "dir(변수) 쳐서 `'__call__'`이 있다면 함수!!\n",
    "- 따라서 mseloss_fn도 함수"
   ]
  },
  {
   "cell_type": "code",
   "execution_count": 270,
   "id": "dde16e32-bcc0-48f5-be73-9d3b32308871",
   "metadata": {},
   "outputs": [
    {
     "data": {
      "text/plain": [
       "<tf.Tensor: shape=(), dtype=float64, numpy=2.5>"
      ]
     },
     "execution_count": 270,
     "metadata": {},
     "output_type": "execute_result"
    }
   ],
   "source": [
    "mseloss_fn(tnp.array([0.0,0.0]),tnp.array([1.0,2.0]))"
   ]
  },
  {
   "cell_type": "markdown",
   "id": "121c8b41-a5a5-4db4-8f8b-a522115c7628",
   "metadata": {},
   "source": [
    "---"
   ]
  },
  {
   "cell_type": "markdown",
   "id": "41d8fa9a-91eb-42c9-8052-df92042c284b",
   "metadata": {},
   "source": [
    "`mseloss_fn` = `tf.keras.losses.MSE`"
   ]
  },
  {
   "cell_type": "code",
   "execution_count": 271,
   "id": "6ba5415a-3583-4ac2-a10e-4a2c8fe72b9c",
   "metadata": {},
   "outputs": [],
   "source": [
    "def loss_fn():\n",
    "    yhat= X@beta_hat\n",
    "    loss = mseloss_fn(y.reshape(-1),yhat.reshape(-1))\n",
    "    return loss"
   ]
  },
  {
   "cell_type": "code",
   "execution_count": 272,
   "id": "6dfa6b99-a742-48dd-9912-89a61c6f68ca",
   "metadata": {
    "tags": []
   },
   "outputs": [],
   "source": [
    "for epoc in range(1000):\n",
    "    opt.minimize(loss_fn,beta_hat) # 미분 + update "
   ]
  },
  {
   "cell_type": "code",
   "execution_count": 273,
   "id": "29625b2c-eeea-4d47-9468-709d911f0599",
   "metadata": {},
   "outputs": [
    {
     "data": {
      "text/plain": [
       "<tf.Variable 'Variable:0' shape=(2, 1) dtype=float64, numpy=\n",
       "array([[2.58366061],\n",
       "       [3.93304684]])>"
      ]
     },
     "execution_count": 273,
     "metadata": {},
     "output_type": "execute_result"
    }
   ],
   "source": [
    "beta_hat"
   ]
  },
  {
   "cell_type": "code",
   "execution_count": 614,
   "id": "9979a3d4-3e76-4d62-a461-b27b6b2a6ea5",
   "metadata": {},
   "outputs": [
    {
     "data": {
      "text/plain": [
       "<tf.Variable 'Variable:0' shape=(2, 1) dtype=float64, numpy=\n",
       "array([[2.58366061],\n",
       "       [3.93304684]])>"
      ]
     },
     "execution_count": 614,
     "metadata": {},
     "output_type": "execute_result"
    }
   ],
   "source": [
    "#collapse\n",
    "y = y.reshape(200,1)\n",
    "X = tf.stack([tf.ones(200,dtype = tf.float64),x],axis=1)\n",
    "beta_hat = tf.Variable(tnp.array([-5.0,10.0]).reshape(2,1))\n",
    "alpha = 0.1\n",
    "opt = tf.keras.optimizers.SGD(alpha)\n",
    "mseloss_fn = tf.losses.MeanSquaredError()\n",
    "def loss_fn():\n",
    "    yhat = X@beta_hat\n",
    "    loss = mseloss_fn(y.reshape(-1),yhat.reshape(-1))\n",
    "    return loss\n",
    "for epoc in range(1000):\n",
    "    opt.minimize(loss_fn,beta_hat)\n",
    "beta_hat"
   ]
  },
  {
   "cell_type": "markdown",
   "id": "bc382f53-9b01-44f7-b62c-08dd158132bb",
   "metadata": {
    "id": "bc382f53-9b01-44f7-b62c-08dd158132bb"
   },
   "source": [
    "### tf.keras.Sequential"
   ]
  },
  {
   "cell_type": "markdown",
   "id": "898fb22e-89bf-4e73-94d9-4370898e9592",
   "metadata": {
    "id": "898fb22e-89bf-4e73-94d9-4370898e9592"
   },
   "source": [
    "`-` $\\hat{y}_i=\\hat{\\beta}_0+\\hat{\\beta}_1x_i$ 의 서로다른 표현 "
   ]
  },
  {
   "cell_type": "code",
   "execution_count": 9,
   "id": "d6645006-7871-4cec-959f-4f77cbc7df06",
   "metadata": {
    "id": "d6645006-7871-4cec-959f-4f77cbc7df06"
   },
   "outputs": [],
   "source": [
    "import graphviz\n",
    "def gv(s): return graphviz.Source('digraph G{ rankdir=\"LR\"'+s + '; }')"
   ]
  },
  {
   "cell_type": "code",
   "execution_count": 10,
   "id": "281cb5f1-4bae-4b38-b31f-da1ffa18b220",
   "metadata": {
    "id": "912037ce-376d-4eac-9c01-7dfd2b681549",
    "outputId": "24540192-dcb5-461b-b42c-926284b12d30"
   },
   "outputs": [
    {
     "data": {
      "image/svg+xml": [
       "<?xml version=\"1.0\" encoding=\"UTF-8\" standalone=\"no\"?>\n",
       "<!DOCTYPE svg PUBLIC \"-//W3C//DTD SVG 1.1//EN\"\n",
       " \"http://www.w3.org/Graphics/SVG/1.1/DTD/svg11.dtd\">\n",
       "<!-- Generated by graphviz version 2.50.0 (20211209.0339)\n",
       " -->\n",
       "<!-- Title: G Pages: 1 -->\n",
       "<svg width=\"727pt\" height=\"98pt\"\n",
       " viewBox=\"0.00 0.00 726.86 98.00\" xmlns=\"http://www.w3.org/2000/svg\" xmlns:xlink=\"http://www.w3.org/1999/xlink\">\n",
       "<g id=\"graph0\" class=\"graph\" transform=\"scale(1 1) rotate(0) translate(4 94)\">\n",
       "<title>G</title>\n",
       "<polygon fill=\"white\" stroke=\"transparent\" points=\"-4,4 -4,-94 722.86,-94 722.86,4 -4,4\"/>\n",
       "<!-- 1 -->\n",
       "<g id=\"node1\" class=\"node\">\n",
       "<title>1</title>\n",
       "<ellipse fill=\"none\" stroke=\"black\" cx=\"27\" cy=\"-72\" rx=\"27\" ry=\"18\"/>\n",
       "<text text-anchor=\"middle\" x=\"27\" y=\"-68.3\" font-family=\"Times,serif\" font-size=\"14.00\">1</text>\n",
       "</g>\n",
       "<!-- beta0_hat + x*beta1_hat, &#160;&#160;&#160;bias=False -->\n",
       "<g id=\"node2\" class=\"node\">\n",
       "<title>beta0_hat + x*beta1_hat, &#160;&#160;&#160;bias=False</title>\n",
       "<ellipse fill=\"none\" stroke=\"black\" cx=\"363.73\" cy=\"-45\" rx=\"191.97\" ry=\"18\"/>\n",
       "<text text-anchor=\"middle\" x=\"363.73\" y=\"-41.3\" font-family=\"Times,serif\" font-size=\"14.00\">beta0_hat + x*beta1_hat, &#160;&#160;&#160;bias=False</text>\n",
       "</g>\n",
       "<!-- 1&#45;&gt;beta0_hat + x*beta1_hat, &#160;&#160;&#160;bias=False -->\n",
       "<g id=\"edge1\" class=\"edge\">\n",
       "<title>1&#45;&gt;beta0_hat + x*beta1_hat, &#160;&#160;&#160;bias=False</title>\n",
       "<path fill=\"none\" stroke=\"black\" d=\"M53.99,-69.9C87.46,-67.2 148.36,-62.29 207.28,-57.54\"/>\n",
       "<polygon fill=\"black\" stroke=\"black\" points=\"207.79,-61.01 217.48,-56.72 207.23,-54.03 207.79,-61.01\"/>\n",
       "<text text-anchor=\"middle\" x=\"113\" y=\"-71.8\" font-family=\"Times,serif\" font-size=\"14.00\">* beta0_hat</text>\n",
       "</g>\n",
       "<!-- yhat -->\n",
       "<g id=\"node4\" class=\"node\">\n",
       "<title>yhat</title>\n",
       "<ellipse fill=\"none\" stroke=\"black\" cx=\"687.66\" cy=\"-45\" rx=\"31.4\" ry=\"18\"/>\n",
       "<text text-anchor=\"middle\" x=\"687.66\" y=\"-41.3\" font-family=\"Times,serif\" font-size=\"14.00\">yhat</text>\n",
       "</g>\n",
       "<!-- beta0_hat + x*beta1_hat, &#160;&#160;&#160;bias=False&#45;&gt;yhat -->\n",
       "<g id=\"edge3\" class=\"edge\">\n",
       "<title>beta0_hat + x*beta1_hat, &#160;&#160;&#160;bias=False&#45;&gt;yhat</title>\n",
       "<path fill=\"none\" stroke=\"black\" d=\"M555.72,-45C589.92,-45 622.25,-45 646.23,-45\"/>\n",
       "<polygon fill=\"black\" stroke=\"black\" points=\"646.3,-48.5 656.3,-45 646.3,-41.5 646.3,-48.5\"/>\n",
       "<text text-anchor=\"middle\" x=\"605.97\" y=\"-48.8\" font-family=\"Times,serif\" font-size=\"14.00\">indentity</text>\n",
       "</g>\n",
       "<!-- x -->\n",
       "<g id=\"node3\" class=\"node\">\n",
       "<title>x</title>\n",
       "<ellipse fill=\"none\" stroke=\"black\" cx=\"27\" cy=\"-18\" rx=\"27\" ry=\"18\"/>\n",
       "<text text-anchor=\"middle\" x=\"27\" y=\"-14.3\" font-family=\"Times,serif\" font-size=\"14.00\">x</text>\n",
       "</g>\n",
       "<!-- x&#45;&gt;beta0_hat + x*beta1_hat, &#160;&#160;&#160;bias=False -->\n",
       "<g id=\"edge2\" class=\"edge\">\n",
       "<title>x&#45;&gt;beta0_hat + x*beta1_hat, &#160;&#160;&#160;bias=False</title>\n",
       "<path fill=\"none\" stroke=\"black\" d=\"M53.99,-20.1C87.46,-22.8 148.36,-27.71 207.28,-32.46\"/>\n",
       "<polygon fill=\"black\" stroke=\"black\" points=\"207.23,-35.97 217.48,-33.28 207.79,-28.99 207.23,-35.97\"/>\n",
       "<text text-anchor=\"middle\" x=\"113\" y=\"-30.8\" font-family=\"Times,serif\" font-size=\"14.00\">* beta1_hat</text>\n",
       "</g>\n",
       "</g>\n",
       "</svg>\n"
      ],
      "text/plain": [
       "<graphviz.sources.Source at 0x7f30e4235250>"
      ]
     },
     "execution_count": 10,
     "metadata": {},
     "output_type": "execute_result"
    }
   ],
   "source": [
    "gv(''' \n",
    "    \"1\" -> \"beta0_hat + x*beta1_hat,    bias=False\"[label=\"* beta0_hat\"]\n",
    "    \"x\" -> \"beta0_hat + x*beta1_hat,    bias=False\"[label=\"* beta1_hat\"]\n",
    "    \"beta0_hat + x*beta1_hat,    bias=False\" -> \"yhat\"[label=\"indentity\"]\n",
    "    ''')"
   ]
  },
  {
   "cell_type": "markdown",
   "id": "fe478826-fcba-42d0-80c7-0e85d6a96a1a",
   "metadata": {
    "tags": []
   },
   "source": [
    "identity가 항등함수라는 뜻...(항등함수를 취한다.) 항등함수가 아니라 다른 함수로 만들어지는 경우도 있지.\n",
    "- 여기는 biase가 false"
   ]
  },
  {
   "cell_type": "code",
   "execution_count": 11,
   "id": "179e99a2-a45b-42bc-a39c-c79143dd42a7",
   "metadata": {
    "id": "a57cf1ac-1e13-488b-9d5e-dc9323b8864f",
    "outputId": "1b47baff-0cb0-4e66-eb0d-a33f9c057984"
   },
   "outputs": [
    {
     "data": {
      "image/svg+xml": [
       "<?xml version=\"1.0\" encoding=\"UTF-8\" standalone=\"no\"?>\n",
       "<!DOCTYPE svg PUBLIC \"-//W3C//DTD SVG 1.1//EN\"\n",
       " \"http://www.w3.org/Graphics/SVG/1.1/DTD/svg11.dtd\">\n",
       "<!-- Generated by graphviz version 2.50.0 (20211209.0339)\n",
       " -->\n",
       "<!-- Title: G Pages: 1 -->\n",
       "<svg width=\"598pt\" height=\"44pt\"\n",
       " viewBox=\"0.00 0.00 598.07 44.00\" xmlns=\"http://www.w3.org/2000/svg\" xmlns:xlink=\"http://www.w3.org/1999/xlink\">\n",
       "<g id=\"graph0\" class=\"graph\" transform=\"scale(1 1) rotate(0) translate(4 40)\">\n",
       "<title>G</title>\n",
       "<polygon fill=\"white\" stroke=\"transparent\" points=\"-4,4 -4,-40 594.07,-40 594.07,4 -4,4\"/>\n",
       "<!-- x -->\n",
       "<g id=\"node1\" class=\"node\">\n",
       "<title>x</title>\n",
       "<ellipse fill=\"none\" stroke=\"black\" cx=\"27\" cy=\"-18\" rx=\"27\" ry=\"18\"/>\n",
       "<text text-anchor=\"middle\" x=\"27\" y=\"-14.3\" font-family=\"Times,serif\" font-size=\"14.00\">x</text>\n",
       "</g>\n",
       "<!-- x*beta1_hat, &#160;&#160;&#160;bias=True -->\n",
       "<g id=\"node2\" class=\"node\">\n",
       "<title>x*beta1_hat, &#160;&#160;&#160;bias=True</title>\n",
       "<ellipse fill=\"none\" stroke=\"black\" cx=\"297.34\" cy=\"-18\" rx=\"129.18\" ry=\"18\"/>\n",
       "<text text-anchor=\"middle\" x=\"297.34\" y=\"-14.3\" font-family=\"Times,serif\" font-size=\"14.00\">x*beta1_hat, &#160;&#160;&#160;bias=True</text>\n",
       "</g>\n",
       "<!-- x&#45;&gt;x*beta1_hat, &#160;&#160;&#160;bias=True -->\n",
       "<g id=\"edge1\" class=\"edge\">\n",
       "<title>x&#45;&gt;x*beta1_hat, &#160;&#160;&#160;bias=True</title>\n",
       "<path fill=\"none\" stroke=\"black\" d=\"M54.22,-18C78.96,-18 118.07,-18 157.71,-18\"/>\n",
       "<polygon fill=\"black\" stroke=\"black\" points=\"157.79,-21.5 167.79,-18 157.79,-14.5 157.79,-21.5\"/>\n",
       "<text text-anchor=\"middle\" x=\"111\" y=\"-21.8\" font-family=\"Times,serif\" font-size=\"14.00\">*beta1_hat</text>\n",
       "</g>\n",
       "<!-- yhat -->\n",
       "<g id=\"node3\" class=\"node\">\n",
       "<title>yhat</title>\n",
       "<ellipse fill=\"none\" stroke=\"black\" cx=\"558.87\" cy=\"-18\" rx=\"31.4\" ry=\"18\"/>\n",
       "<text text-anchor=\"middle\" x=\"558.87\" y=\"-14.3\" font-family=\"Times,serif\" font-size=\"14.00\">yhat</text>\n",
       "</g>\n",
       "<!-- x*beta1_hat, &#160;&#160;&#160;bias=True&#45;&gt;yhat -->\n",
       "<g id=\"edge2\" class=\"edge\">\n",
       "<title>x*beta1_hat, &#160;&#160;&#160;bias=True&#45;&gt;yhat</title>\n",
       "<path fill=\"none\" stroke=\"black\" d=\"M426.97,-18C459.87,-18 492.87,-18 517.5,-18\"/>\n",
       "<polygon fill=\"black\" stroke=\"black\" points=\"517.53,-21.5 527.53,-18 517.53,-14.5 517.53,-21.5\"/>\n",
       "<text text-anchor=\"middle\" x=\"477.18\" y=\"-21.8\" font-family=\"Times,serif\" font-size=\"14.00\">indentity</text>\n",
       "</g>\n",
       "</g>\n",
       "</svg>\n"
      ],
      "text/plain": [
       "<graphviz.sources.Source at 0x7f30e423b490>"
      ]
     },
     "execution_count": 11,
     "metadata": {},
     "output_type": "execute_result"
    }
   ],
   "source": [
    "gv('''\n",
    "\"x\" -> \"x*beta1_hat,    bias=True\"[label=\"*beta1_hat\"] ;\n",
    "\"x*beta1_hat,    bias=True\" -> \"yhat\"[label=\"indentity\"] ''')\n"
   ]
  },
  {
   "cell_type": "markdown",
   "id": "d3140273-d36d-4445-b608-1210ba784e02",
   "metadata": {},
   "source": [
    "1은 항상 쓰는 거니까 생략해볼까.\n",
    "- 이 표시를 위해 bias=True임\n",
    "- 어떠한 상수를 맞춰줄 estimater가 필요하다는 말"
   ]
  },
  {
   "cell_type": "code",
   "execution_count": 12,
   "id": "28dd5362-c6f6-4b54-abd3-c3ff7c26ae9a",
   "metadata": {
    "id": "6b6cacce-e9e7-40cc-8481-0eaabbedb4dc",
    "outputId": "257f14f5-7f89-4825-8b88-89fdf8283d8f"
   },
   "outputs": [
    {
     "data": {
      "image/svg+xml": [
       "<?xml version=\"1.0\" encoding=\"UTF-8\" standalone=\"no\"?>\n",
       "<!DOCTYPE svg PUBLIC \"-//W3C//DTD SVG 1.1//EN\"\n",
       " \"http://www.w3.org/Graphics/SVG/1.1/DTD/svg11.dtd\">\n",
       "<!-- Generated by graphviz version 2.50.0 (20211209.0339)\n",
       " -->\n",
       "<!-- Title: G Pages: 1 -->\n",
       "<svg width=\"640pt\" height=\"44pt\"\n",
       " viewBox=\"0.00 0.00 639.56 44.00\" xmlns=\"http://www.w3.org/2000/svg\" xmlns:xlink=\"http://www.w3.org/1999/xlink\">\n",
       "<g id=\"graph0\" class=\"graph\" transform=\"scale(1 1) rotate(0) translate(4 40)\">\n",
       "<title>G</title>\n",
       "<polygon fill=\"white\" stroke=\"transparent\" points=\"-4,4 -4,-40 635.56,-40 635.56,4 -4,4\"/>\n",
       "<!-- X=[1 x] -->\n",
       "<g id=\"node1\" class=\"node\">\n",
       "<title>X=[1 x]</title>\n",
       "<ellipse fill=\"none\" stroke=\"black\" cx=\"46.15\" cy=\"-18\" rx=\"46.29\" ry=\"18\"/>\n",
       "<text text-anchor=\"middle\" x=\"46.15\" y=\"-14.3\" font-family=\"Times,serif\" font-size=\"14.00\">X=[1 x]</text>\n",
       "</g>\n",
       "<!-- X@beta_hat, &#160;&#160;&#160;bias=False -->\n",
       "<g id=\"node2\" class=\"node\">\n",
       "<title>X@beta_hat, &#160;&#160;&#160;bias=False</title>\n",
       "<ellipse fill=\"none\" stroke=\"black\" cx=\"336.23\" cy=\"-18\" rx=\"131.88\" ry=\"18\"/>\n",
       "<text text-anchor=\"middle\" x=\"336.23\" y=\"-14.3\" font-family=\"Times,serif\" font-size=\"14.00\">X@beta_hat, &#160;&#160;&#160;bias=False</text>\n",
       "</g>\n",
       "<!-- X=[1 x]&#45;&gt;X@beta_hat, &#160;&#160;&#160;bias=False -->\n",
       "<g id=\"edge1\" class=\"edge\">\n",
       "<title>X=[1 x]&#45;&gt;X@beta_hat, &#160;&#160;&#160;bias=False</title>\n",
       "<path fill=\"none\" stroke=\"black\" d=\"M92.48,-18C120.07,-18 156.97,-18 193.66,-18\"/>\n",
       "<polygon fill=\"black\" stroke=\"black\" points=\"193.99,-21.5 203.99,-18 193.99,-14.5 193.99,-21.5\"/>\n",
       "<text text-anchor=\"middle\" x=\"148.29\" y=\"-21.8\" font-family=\"Times,serif\" font-size=\"14.00\">@beta_hat</text>\n",
       "</g>\n",
       "<!-- yhat -->\n",
       "<g id=\"node3\" class=\"node\">\n",
       "<title>yhat</title>\n",
       "<ellipse fill=\"none\" stroke=\"black\" cx=\"600.37\" cy=\"-18\" rx=\"31.4\" ry=\"18\"/>\n",
       "<text text-anchor=\"middle\" x=\"600.37\" y=\"-14.3\" font-family=\"Times,serif\" font-size=\"14.00\">yhat</text>\n",
       "</g>\n",
       "<!-- X@beta_hat, &#160;&#160;&#160;bias=False&#45;&gt;yhat -->\n",
       "<g id=\"edge2\" class=\"edge\">\n",
       "<title>X@beta_hat, &#160;&#160;&#160;bias=False&#45;&gt;yhat</title>\n",
       "<path fill=\"none\" stroke=\"black\" d=\"M468.3,-18C501.34,-18 534.38,-18 559.02,-18\"/>\n",
       "<polygon fill=\"black\" stroke=\"black\" points=\"559.04,-21.5 569.04,-18 559.04,-14.5 559.04,-21.5\"/>\n",
       "<text text-anchor=\"middle\" x=\"518.67\" y=\"-21.8\" font-family=\"Times,serif\" font-size=\"14.00\">indentity</text>\n",
       "</g>\n",
       "</g>\n",
       "</svg>\n"
      ],
      "text/plain": [
       "<graphviz.sources.Source at 0x7f30e423b310>"
      ]
     },
     "execution_count": 12,
     "metadata": {},
     "output_type": "execute_result"
    }
   ],
   "source": [
    "gv('''\n",
    "\"X=[1 x]\" -> \"X@beta_hat,    bias=False\"[label=\"@beta_hat\"] ;\n",
    "\"X@beta_hat,    bias=False\" -> \"yhat\"[label=\"indentity\"] ''')\n"
   ]
  },
  {
   "cell_type": "markdown",
   "id": "63828a3e-c1c2-400d-bf11-ddf30cf59ca4",
   "metadata": {},
   "source": [
    "beta_hat과 matrix곱해서.. X에 beta가 다 있어서 biase =False"
   ]
  },
  {
   "cell_type": "markdown",
   "id": "c88f2b88-47af-494c-bbf0-b7cab6f30730",
   "metadata": {},
   "source": [
    "이를 레이어라고 표현"
   ]
  },
  {
   "cell_type": "markdown",
   "id": "755caa9d-a9d5-40b0-9006-bbc9bbb64800",
   "metadata": {
    "id": "755caa9d-a9d5-40b0-9006-bbc9bbb64800"
   },
   "source": [
    "#### 풀이1: 벡터버전, 사용자정의 손실함수 "
   ]
  },
  {
   "cell_type": "markdown",
   "id": "15875d56-087b-4ea5-abd7-1e7ce4225aad",
   "metadata": {
    "id": "15875d56-087b-4ea5-abd7-1e7ce4225aad"
   },
   "source": [
    "`-` 포인트\n",
    "```python\n",
    "## 포인트코드1: 네트워크 생성 \n",
    "net = tf.keras.Sequential()\n",
    "\n",
    "## 포인트코드2: 네트워크의 아키텍처 설계 \n",
    "net.add(tf.keras.layers.Dense(1,input_shape=(2,),use_bias=False)) \n",
    "\n",
    "## 포인트코드3: 네트워크 컴파일 = 아키텍처 + 손실함수 + 옵티마이저\n",
    "net.compile(opt,loss=loss_fn2)\n",
    "\n",
    "## 포인트코드4: 미분 & update \n",
    "net.fit(X,y,epochs=1000,verbose=0,batch_size=N) \n",
    "```"
   ]
  },
  {
   "cell_type": "markdown",
   "id": "5ee81bb1-ba54-4966-8365-25680d5127a8",
   "metadata": {},
   "source": [
    "`-` 레이어: 입력 -> 레이어1 -> 출력/입력 -> 레이어2 -> ... \n",
    "- 이렇게 이어서 가능~"
   ]
  },
  {
   "cell_type": "markdown",
   "id": "21690eb3-b5cd-4518-bb92-29e24ec9d33f",
   "metadata": {},
   "source": [
    "`-` 레이어: 입력 -> 레이어 -> 출력\n",
    "- 일단 이거로 시작"
   ]
  },
  {
   "cell_type": "markdown",
   "id": "304d7be0-56a2-40b0-bf91-75e7adfccb5b",
   "metadata": {},
   "source": [
    "`-` 네트워크: 레이어들의 집합\n",
    "- 네트워크를 설계한다 ? -> 레이어를 설계한다.\n",
    "- $x$를 입력으로 해서 $\\hat{y}$를 설계한다 -> $\\hat{y}$의 아키텍쳐를 설계한다."
   ]
  },
  {
   "cell_type": "code",
   "execution_count": 615,
   "id": "503551b3-b52e-4e88-90a1-0c60d2bb3c5a",
   "metadata": {},
   "outputs": [],
   "source": [
    "net = tf.keras.Sequential()"
   ]
  },
  {
   "cell_type": "code",
   "execution_count": 616,
   "id": "e843930e-edcd-45ff-a2e6-3044d1e85a58",
   "metadata": {},
   "outputs": [
    {
     "ename": "ValueError",
     "evalue": "This model has not yet been built. Build the model first by calling `build()` or by calling the model on a batch of data.",
     "output_type": "error",
     "traceback": [
      "\u001b[0;31m---------------------------------------------------------------------------\u001b[0m",
      "\u001b[0;31mValueError\u001b[0m                                Traceback (most recent call last)",
      "Input \u001b[0;32mIn [616]\u001b[0m, in \u001b[0;36m<cell line: 1>\u001b[0;34m()\u001b[0m\n\u001b[0;32m----> 1\u001b[0m \u001b[43mnet\u001b[49m\u001b[38;5;241;43m.\u001b[39;49m\u001b[43msummary\u001b[49m\u001b[43m(\u001b[49m\u001b[43m)\u001b[49m\n",
      "File \u001b[0;32m~/anaconda3/envs/stbda2022/lib/python3.10/site-packages/keras/engine/training.py:2579\u001b[0m, in \u001b[0;36mModel.summary\u001b[0;34m(self, line_length, positions, print_fn, expand_nested)\u001b[0m\n\u001b[1;32m   2559\u001b[0m \u001b[38;5;124;03m\"\"\"Prints a string summary of the network.\u001b[39;00m\n\u001b[1;32m   2560\u001b[0m \n\u001b[1;32m   2561\u001b[0m \u001b[38;5;124;03mArgs:\u001b[39;00m\n\u001b[0;32m   (...)\u001b[0m\n\u001b[1;32m   2576\u001b[0m \u001b[38;5;124;03m    ValueError: if `summary()` is called before the model is built.\u001b[39;00m\n\u001b[1;32m   2577\u001b[0m \u001b[38;5;124;03m\"\"\"\u001b[39;00m\n\u001b[1;32m   2578\u001b[0m \u001b[38;5;28;01mif\u001b[39;00m \u001b[38;5;129;01mnot\u001b[39;00m \u001b[38;5;28mself\u001b[39m\u001b[38;5;241m.\u001b[39mbuilt:\n\u001b[0;32m-> 2579\u001b[0m   \u001b[38;5;28;01mraise\u001b[39;00m \u001b[38;5;167;01mValueError\u001b[39;00m(\n\u001b[1;32m   2580\u001b[0m       \u001b[38;5;124m'\u001b[39m\u001b[38;5;124mThis model has not yet been built. \u001b[39m\u001b[38;5;124m'\u001b[39m\n\u001b[1;32m   2581\u001b[0m       \u001b[38;5;124m'\u001b[39m\u001b[38;5;124mBuild the model first by calling `build()` or by calling \u001b[39m\u001b[38;5;124m'\u001b[39m\n\u001b[1;32m   2582\u001b[0m       \u001b[38;5;124m'\u001b[39m\u001b[38;5;124mthe model on a batch of data.\u001b[39m\u001b[38;5;124m'\u001b[39m)\n\u001b[1;32m   2583\u001b[0m layer_utils\u001b[38;5;241m.\u001b[39mprint_summary(\n\u001b[1;32m   2584\u001b[0m     \u001b[38;5;28mself\u001b[39m,\n\u001b[1;32m   2585\u001b[0m     line_length\u001b[38;5;241m=\u001b[39mline_length,\n\u001b[1;32m   2586\u001b[0m     positions\u001b[38;5;241m=\u001b[39mpositions,\n\u001b[1;32m   2587\u001b[0m     print_fn\u001b[38;5;241m=\u001b[39mprint_fn,\n\u001b[1;32m   2588\u001b[0m     expand_nested\u001b[38;5;241m=\u001b[39mexpand_nested)\n",
      "\u001b[0;31mValueError\u001b[0m: This model has not yet been built. Build the model first by calling `build()` or by calling the model on a batch of data."
     ]
    }
   ],
   "source": [
    "net.summary()"
   ]
  },
  {
   "cell_type": "markdown",
   "id": "d0715563-67f6-4ab5-8ee9-9efa4615aee8",
   "metadata": {},
   "source": [
    "오류뜨네"
   ]
  },
  {
   "cell_type": "code",
   "execution_count": 617,
   "id": "73a8d32d-2ad8-4867-8c9f-cd5225f1f845",
   "metadata": {
    "scrolled": true,
    "tags": []
   },
   "outputs": [
    {
     "data": {
      "text/plain": [
       "\u001b[0;31mSignature:\u001b[0m      \u001b[0mnet\u001b[0m\u001b[0;34m(\u001b[0m\u001b[0;34m*\u001b[0m\u001b[0margs\u001b[0m\u001b[0;34m,\u001b[0m \u001b[0;34m**\u001b[0m\u001b[0mkwargs\u001b[0m\u001b[0;34m)\u001b[0m\u001b[0;34m\u001b[0m\u001b[0;34m\u001b[0m\u001b[0m\n",
       "\u001b[0;31mType:\u001b[0m           Sequential\n",
       "\u001b[0;31mString form:\u001b[0m    <keras.engine.sequential.Sequential object at 0x7f1b8b7ddf90>\n",
       "\u001b[0;31mFile:\u001b[0m           ~/anaconda3/envs/stbda2022/lib/python3.10/site-packages/keras/engine/sequential.py\n",
       "\u001b[0;31mDocstring:\u001b[0m     \n",
       "`Sequential` groups a linear stack of layers into a `tf.keras.Model`.\n",
       "\n",
       "`Sequential` provides training and inference features on this model.\n",
       "\n",
       "Examples:\n",
       "\n",
       "```python\n",
       "# Optionally, the first layer can receive an `input_shape` argument:\n",
       "model = tf.keras.Sequential()\n",
       "model.add(tf.keras.layers.Dense(8, input_shape=(16,)))\n",
       "# Afterwards, we do automatic shape inference:\n",
       "model.add(tf.keras.layers.Dense(4))\n",
       "\n",
       "# This is identical to the following:\n",
       "model = tf.keras.Sequential()\n",
       "model.add(tf.keras.Input(shape=(16,)))\n",
       "model.add(tf.keras.layers.Dense(8))\n",
       "\n",
       "# Note that you can also omit the `input_shape` argument.\n",
       "# In that case the model doesn't have any weights until the first call\n",
       "# to a training/evaluation method (since it isn't yet built):\n",
       "model = tf.keras.Sequential()\n",
       "model.add(tf.keras.layers.Dense(8))\n",
       "model.add(tf.keras.layers.Dense(4))\n",
       "# model.weights not created yet\n",
       "\n",
       "# Whereas if you specify the input shape, the model gets built\n",
       "# continuously as you are adding layers:\n",
       "model = tf.keras.Sequential()\n",
       "model.add(tf.keras.layers.Dense(8, input_shape=(16,)))\n",
       "model.add(tf.keras.layers.Dense(4))\n",
       "len(model.weights)\n",
       "# Returns \"4\"\n",
       "\n",
       "# When using the delayed-build pattern (no input shape specified), you can\n",
       "# choose to manually build your model by calling\n",
       "# `build(batch_input_shape)`:\n",
       "model = tf.keras.Sequential()\n",
       "model.add(tf.keras.layers.Dense(8))\n",
       "model.add(tf.keras.layers.Dense(4))\n",
       "model.build((None, 16))\n",
       "len(model.weights)\n",
       "# Returns \"4\"\n",
       "\n",
       "# Note that when using the delayed-build pattern (no input shape specified),\n",
       "# the model gets built the first time you call `fit`, `eval`, or `predict`,\n",
       "# or the first time you call the model on some input data.\n",
       "model = tf.keras.Sequential()\n",
       "model.add(tf.keras.layers.Dense(8))\n",
       "model.add(tf.keras.layers.Dense(1))\n",
       "model.compile(optimizer='sgd', loss='mse')\n",
       "# This builds the model for the first time:\n",
       "model.fit(x, y, batch_size=32, epochs=10)\n",
       "```\n",
       "\u001b[0;31mInit docstring:\u001b[0m\n",
       "Creates a `Sequential` model instance.\n",
       "\n",
       "Args:\n",
       "  layers: Optional list of layers to add to the model.\n",
       "  name: Optional name for the model.\n",
       "\u001b[0;31mCall docstring:\u001b[0m\n",
       "Wraps `call`, applying pre- and post-processing steps.\n",
       "\n",
       "Args:\n",
       "  *args: Positional arguments to be passed to `self.call`.\n",
       "  **kwargs: Keyword arguments to be passed to `self.call`.\n",
       "\n",
       "Returns:\n",
       "  Output tensor(s).\n",
       "\n",
       "Note:\n",
       "  - The following optional keyword arguments are reserved for specific uses:\n",
       "    * `training`: Boolean scalar tensor of Python boolean indicating\n",
       "      whether the `call` is meant for training or inference.\n",
       "    * `mask`: Boolean input mask.\n",
       "  - If the layer's `call` method takes a `mask` argument (as some Keras\n",
       "    layers do), its default value will be set to the mask generated\n",
       "    for `inputs` by the previous layer (if `input` did come from\n",
       "    a layer that generated a corresponding mask, i.e. if it came from\n",
       "    a Keras layer with masking support.\n",
       "  - If the layer is not built, the method will call `build`.\n",
       "\n",
       "Raises:\n",
       "  ValueError: if the layer's `call` method returns None (an invalid value).\n",
       "  RuntimeError: if `super().__init__()` was not called in the constructor.\n"
      ]
     },
     "metadata": {},
     "output_type": "display_data"
    }
   ],
   "source": [
    "#collapse-output\n",
    "net?"
   ]
  },
  {
   "cell_type": "code",
   "execution_count": 618,
   "id": "b2d05419-9c6d-47d2-9279-c5c78886c946",
   "metadata": {},
   "outputs": [],
   "source": [
    "net.add(tf.keras.layers.Dense(units=1,input_shape=(2,),use_bias=False))"
   ]
  },
  {
   "cell_type": "markdown",
   "id": "6ea62af1-327c-47a1-9798-029454ec3df5",
   "metadata": {},
   "source": [
    "- input을 dimension이 1인 튜플로 만들자\n",
    "- y dimension은 1"
   ]
  },
  {
   "cell_type": "code",
   "execution_count": 619,
   "id": "c5853a93-6e21-4232-ab32-86d40f063cba",
   "metadata": {},
   "outputs": [
    {
     "name": "stdout",
     "output_type": "stream",
     "text": [
      "Model: \"sequential_7\"\n",
      "_________________________________________________________________\n",
      " Layer (type)                Output Shape              Param #   \n",
      "=================================================================\n",
      " dense_7 (Dense)             (None, 1)                 2         \n",
      "                                                                 \n",
      "=================================================================\n",
      "Total params: 2\n",
      "Trainable params: 2\n",
      "Non-trainable params: 0\n",
      "_________________________________________________________________\n"
     ]
    }
   ],
   "source": [
    "net.summary()"
   ]
  },
  {
   "cell_type": "markdown",
   "id": "f970554e-cd6a-4bc1-b3c0-f70b0b5bc3c3",
   "metadata": {},
   "source": [
    "잘 되네\n",
    "- n * p에서 dimension은 p"
   ]
  },
  {
   "cell_type": "markdown",
   "id": "e5788740-58c8-4280-ad86-992c7d3b0b18",
   "metadata": {},
   "source": [
    "```python\n",
    "net.add(tf.keras.layers.Dense(units=1,input_shape=(2,),use_bias=False))\n",
    "```\n",
    "- units는 layer의 출력의 차원, 이 경우는 yhat의 차원, yhat은 (200,1)이므로 1이다.\n",
    "- input_shape는 layer의 입력의 차원, 이 경우는 X의 차원, X(200,2)이므로 2이다.\n",
    "\n",
    "**이 말은 즉슨 yhat을 구하는 방법 정의 = 아키텍쳐가 설계**"
   ]
  },
  {
   "cell_type": "code",
   "execution_count": 620,
   "id": "d611e34d-341c-4b3e-9e6a-46274c87de6d",
   "metadata": {},
   "outputs": [
    {
     "data": {
      "text/plain": [
       "[<tf.Variable 'dense_7/kernel:0' shape=(2, 1) dtype=float32, numpy=\n",
       " array([[-0.8437647],\n",
       "        [ 1.1076161]], dtype=float32)>]"
      ]
     },
     "execution_count": 620,
     "metadata": {},
     "output_type": "execute_result"
    }
   ],
   "source": [
    "net.weights"
   ]
  },
  {
   "cell_type": "markdown",
   "id": "fd0f8b27-1f04-4f18-95c6-d5124125acfe",
   "metadata": {},
   "source": [
    "내가 입력한 적 없는 숫자가 들어가 있음.\n",
    "- net.weights @ X[0] 이 차원이 같아야 잘 yhat이 구해지겠지"
   ]
  },
  {
   "cell_type": "code",
   "execution_count": 621,
   "id": "dcfa0e6d-8f3b-46e9-bde3-f22200c7bd76",
   "metadata": {},
   "outputs": [
    {
     "data": {
      "text/plain": [
       "(TensorShape([200, 2]), TensorShape([200, 1]))"
      ]
     },
     "execution_count": 621,
     "metadata": {},
     "output_type": "execute_result"
    }
   ],
   "source": [
    "y=y.reshape(N,1)\n",
    "X.shape,y.shape"
   ]
  },
  {
   "cell_type": "code",
   "execution_count": 622,
   "id": "b2aec69e-4f11-49d8-b791-0eb70979dfa5",
   "metadata": {},
   "outputs": [],
   "source": [
    "net = tf.keras.Sequential() \n",
    "net.add(tf.keras.layers.Dense(units=1,input_shape=(2,),use_bias=False)) "
   ]
  },
  {
   "cell_type": "code",
   "execution_count": 623,
   "id": "0433921a-442f-47a3-8aa3-9fc707ff17ad",
   "metadata": {},
   "outputs": [],
   "source": [
    "def loss_fn2(y,yhat):\n",
    "    return (y-yhat).T @ (y-yhat) / N"
   ]
  },
  {
   "cell_type": "code",
   "execution_count": 624,
   "id": "08023fcd-3b8d-431d-8940-ce9957744236",
   "metadata": {},
   "outputs": [],
   "source": [
    "alpha = 0.1\n",
    "opt = tf.optimizers.SGD(alpha)"
   ]
  },
  {
   "cell_type": "markdown",
   "id": "268bfdad-92c9-4902-8577-1471e484625f",
   "metadata": {},
   "source": [
    "- 아키텍처 설계 + 소실함수 설계 + 옵티마이저 선택 -> 네트워크에 컴파일한다."
   ]
  },
  {
   "cell_type": "code",
   "execution_count": 625,
   "id": "4f4cd562-2ea0-429b-ba7c-b6a13fec8919",
   "metadata": {},
   "outputs": [],
   "source": [
    "net.compile(opt,loss_fn2)"
   ]
  },
  {
   "cell_type": "markdown",
   "id": "0b1bf8a9-09c3-4a09-83c1-e807fcd0b010",
   "metadata": {},
   "source": [
    "```python\n",
    "# 아래와 같음\n",
    "net.compile(opt,tf.losses.MSE)\n",
    "```"
   ]
  },
  {
   "cell_type": "markdown",
   "id": "aabf146f-1f6e-48c2-bca8-8737943eec00",
   "metadata": {},
   "source": [
    "`verbose` option; 결과를 보여줄 개수? 혹은 어떻게 보여줄지를 의미한다."
   ]
  },
  {
   "cell_type": "code",
   "execution_count": 626,
   "id": "0c8eefe3-53bb-46fd-9450-d35a67363541",
   "metadata": {},
   "outputs": [
    {
     "data": {
      "text/plain": [
       "<keras.callbacks.History at 0x7f1b8b7dc7f0>"
      ]
     },
     "execution_count": 626,
     "metadata": {},
     "output_type": "execute_result"
    }
   ],
   "source": [
    "net.fit(X,y,epochs=1000,batch_size=N,verbose=0)"
   ]
  },
  {
   "cell_type": "markdown",
   "id": "30c9d094-3f07-409a-8bbb-7a4869a330d4",
   "metadata": {},
   "source": [
    "- 미분 + 파라미터 업데이트 = net.fit"
   ]
  },
  {
   "cell_type": "markdown",
   "id": "090e2f09-cc00-486e-8428-1f55dfa34bd0",
   "metadata": {},
   "source": [
    "`net.weight` 했더니 초기값이 나옴"
   ]
  },
  {
   "cell_type": "code",
   "execution_count": 311,
   "id": "3c2680eb-11fd-4220-878e-411ca2e4791b",
   "metadata": {},
   "outputs": [
    {
     "data": {
      "text/plain": [
       "[<tf.Variable 'dense_2/kernel:0' shape=(2, 1) dtype=float32, numpy=\n",
       " array([[2.5836723],\n",
       "        [3.9330251]], dtype=float32)>]"
      ]
     },
     "execution_count": 311,
     "metadata": {},
     "output_type": "execute_result"
    }
   ],
   "source": [
    "net.weights"
   ]
  },
  {
   "cell_type": "markdown",
   "id": "3c083782-bc67-4986-aa8d-fc8bb91ccac5",
   "metadata": {},
   "source": [
    "초기값 정하는 방법"
   ]
  },
  {
   "cell_type": "code",
   "execution_count": 628,
   "id": "1d4c9ced-a8eb-4a69-be16-3bc4566f19e5",
   "metadata": {},
   "outputs": [
    {
     "data": {
      "text/plain": [
       "(TensorShape([200, 2]), TensorShape([200, 1]))"
      ]
     },
     "execution_count": 628,
     "metadata": {},
     "output_type": "execute_result"
    }
   ],
   "source": [
    "y=y.reshape(N,1)\n",
    "X.shape,y.shape"
   ]
  },
  {
   "cell_type": "code",
   "execution_count": 629,
   "id": "8ae8eb61-18e6-4d6b-b4dc-37c0b9840855",
   "metadata": {},
   "outputs": [],
   "source": [
    "net = tf.keras.Sequential() \n",
    "net.add(tf.keras.layers.Dense(units=1,input_shape=(2,),use_bias=False)) "
   ]
  },
  {
   "cell_type": "code",
   "execution_count": 630,
   "id": "d4392408-4a7d-42f9-a69d-ab13f1b95264",
   "metadata": {},
   "outputs": [],
   "source": [
    "def loss_fn2(y,yhat):\n",
    "    return (y-yhat).T @ (y-yhat) / N"
   ]
  },
  {
   "cell_type": "code",
   "execution_count": 631,
   "id": "850d2a8d-d30a-4666-b551-e5fa231d997c",
   "metadata": {},
   "outputs": [],
   "source": [
    "alpha = 0.1\n",
    "opt = tf.optimizers.SGD(alpha)"
   ]
  },
  {
   "cell_type": "code",
   "execution_count": 632,
   "id": "f9a87e71-3ee1-4c7f-b38b-42ae29df45f1",
   "metadata": {},
   "outputs": [],
   "source": [
    "_w = net.get_weights()"
   ]
  },
  {
   "cell_type": "markdown",
   "id": "69e1a3a3-f775-4d3d-a817-52986f09ff81",
   "metadata": {},
   "source": [
    "---"
   ]
  },
  {
   "cell_type": "code",
   "execution_count": 635,
   "id": "a87bf1d0-945c-441a-a30f-d5e5b22fd311",
   "metadata": {},
   "outputs": [
    {
     "data": {
      "text/plain": [
       "list"
      ]
     },
     "execution_count": 635,
     "metadata": {},
     "output_type": "execute_result"
    }
   ],
   "source": [
    "type(_w)"
   ]
  },
  {
   "cell_type": "code",
   "execution_count": 636,
   "id": "93fbc9d4-816d-403d-91be-63e0bc4b9273",
   "metadata": {},
   "outputs": [
    {
     "data": {
      "text/plain": [
       "\u001b[0;31mType:\u001b[0m        list\n",
       "\u001b[0;31mString form:\u001b[0m\n",
       "[array([[-1.053657 ],\n",
       "       [ 1.3536845]], dtype=float32)]\n",
       "\u001b[0;31mLength:\u001b[0m      1\n",
       "\u001b[0;31mDocstring:\u001b[0m  \n",
       "Built-in mutable sequence.\n",
       "\n",
       "If no argument is given, the constructor creates a new empty list.\n",
       "The argument must be an iterable if specified.\n"
      ]
     },
     "metadata": {},
     "output_type": "display_data"
    }
   ],
   "source": [
    "#collapse-output\n",
    "_w?"
   ]
  },
  {
   "cell_type": "markdown",
   "id": "2b2afc73-9989-4455-82b5-f126de77eb6b",
   "metadata": {},
   "source": [
    "길이가 1인 list네. "
   ]
  },
  {
   "cell_type": "code",
   "execution_count": 637,
   "id": "057780ed-6308-470e-841d-45cca6154a3f",
   "metadata": {},
   "outputs": [
    {
     "data": {
      "text/plain": [
       "array([[-1.053657 ],\n",
       "       [ 1.3536845]], dtype=float32)"
      ]
     },
     "execution_count": 637,
     "metadata": {},
     "output_type": "execute_result"
    }
   ],
   "source": [
    "_w[0]"
   ]
  },
  {
   "cell_type": "code",
   "execution_count": 638,
   "id": "814babf3-dc29-4491-91f4-11b349dd3839",
   "metadata": {},
   "outputs": [
    {
     "data": {
      "text/plain": [
       "numpy.ndarray"
      ]
     },
     "execution_count": 638,
     "metadata": {},
     "output_type": "execute_result"
    }
   ],
   "source": [
    "type(_w[0])"
   ]
  },
  {
   "cell_type": "markdown",
   "id": "8f88948d-f0d2-4cf0-817f-5587108c8749",
   "metadata": {},
   "source": [
    "`get_weight`는 numpy array를 list로 만든 것"
   ]
  },
  {
   "cell_type": "markdown",
   "id": "68c0ea01-96ff-4c0a-af4b-5e74506d9474",
   "metadata": {},
   "source": [
    "---"
   ]
  },
  {
   "cell_type": "code",
   "execution_count": 639,
   "id": "d2d9494f-e916-4454-b688-bf22fb8299e5",
   "metadata": {},
   "outputs": [
    {
     "data": {
      "text/plain": [
       "[array([[-5.],\n",
       "        [10.]], dtype=float32)]"
      ]
     },
     "execution_count": 639,
     "metadata": {},
     "output_type": "execute_result"
    }
   ],
   "source": [
    "[np.array([[-5.0],[10.0]],dtype=np.float32)]"
   ]
  },
  {
   "cell_type": "markdown",
   "id": "aaeb2f00-01f6-4ff7-8d90-eaba9d93ac51",
   "metadata": {},
   "source": [
    "초기값 설정하기 위해 "
   ]
  },
  {
   "cell_type": "code",
   "execution_count": 640,
   "id": "283a84b0-8686-45e1-856e-d4eaf0359be5",
   "metadata": {},
   "outputs": [],
   "source": [
    "net.set_weights([np.array([[-5.0],[10.0]],dtype=np.float32)])"
   ]
  },
  {
   "cell_type": "code",
   "execution_count": 641,
   "id": "266b9d79-ae8a-4ea7-a194-19e06a36a4c6",
   "metadata": {},
   "outputs": [
    {
     "data": {
      "text/plain": [
       "[array([[-5.],\n",
       "        [10.]], dtype=float32)]"
      ]
     },
     "execution_count": 641,
     "metadata": {},
     "output_type": "execute_result"
    }
   ],
   "source": [
    "net.get_weights()"
   ]
  },
  {
   "cell_type": "markdown",
   "id": "cecf155b-a997-4260-8e4e-a25c436a37f1",
   "metadata": {},
   "source": [
    "초기값 설정이 잘 되어있는 모습"
   ]
  },
  {
   "cell_type": "code",
   "execution_count": 642,
   "id": "96a9e75f-57e3-4c33-8bae-334f38391465",
   "metadata": {},
   "outputs": [],
   "source": [
    "net.compile(opt,tf.losses.MSE) # = net.compile(opt,loss_fn2) 결과 같음"
   ]
  },
  {
   "cell_type": "code",
   "execution_count": 643,
   "id": "ec4c19db-06c0-48b6-92f9-6b0833baa6a7",
   "metadata": {},
   "outputs": [
    {
     "data": {
      "text/plain": [
       "<keras.callbacks.History at 0x7f1b8a517370>"
      ]
     },
     "execution_count": 643,
     "metadata": {},
     "output_type": "execute_result"
    }
   ],
   "source": [
    "net.fit(X,y,epochs=1000,batch_size=N,verbose=0)"
   ]
  },
  {
   "cell_type": "markdown",
   "id": "0a4fed07-e954-4ef7-97db-28e5f2eb868c",
   "metadata": {},
   "source": [
    "- 미분 + 파라미터 업데이트 = net.fit"
   ]
  },
  {
   "cell_type": "code",
   "execution_count": 644,
   "id": "10a7907a-a2c0-4ce7-8f26-3d0c442eec07",
   "metadata": {},
   "outputs": [
    {
     "data": {
      "text/plain": [
       "[<tf.Variable 'dense_9/kernel:0' shape=(2, 1) dtype=float32, numpy=\n",
       " array([[2.58366 ],\n",
       "        [3.933048]], dtype=float32)>]"
      ]
     },
     "execution_count": 644,
     "metadata": {},
     "output_type": "execute_result"
    }
   ],
   "source": [
    "net.weights"
   ]
  },
  {
   "cell_type": "markdown",
   "id": "0ca916b3-2dc1-4e66-9c9b-aa9339e121dd",
   "metadata": {},
   "source": [
    "잘 학습된 모습"
   ]
  },
  {
   "cell_type": "code",
   "execution_count": 656,
   "id": "c50cd221-56bb-48c6-a128-65ceeacba991",
   "metadata": {},
   "outputs": [
    {
     "data": {
      "text/plain": [
       "[<tf.Variable 'dense_19/kernel:0' shape=(2, 1) dtype=float32, numpy=\n",
       " array([[2.58366 ],\n",
       "        [3.933048]], dtype=float32)>]"
      ]
     },
     "execution_count": 656,
     "metadata": {},
     "output_type": "execute_result"
    }
   ],
   "source": [
    "#collapse\n",
    "y = y.reshape(200,1)\n",
    "net = tf.keras.Sequential()\n",
    "net.add(tf.keras.layers.Dense(units=1,input_shape=(2,),use_bias=False))\n",
    "opt = tf.keras.optimizers.SGD(0.1)\n",
    "net.set_weights([np.array([[-5.0],[10.0]],dtype=np.float32)])\n",
    "net.compile(opt,tf.losses.MSE)\n",
    "net.fit(X,y,epochs=1000,batch_size=200, verbose=0)\n",
    "net.weights"
   ]
  }
 ],
 "metadata": {
  "colab": {
   "name": "2022-03-30-(5주차) 4월4일.ipynb",
   "provenance": []
  },
  "kernelspec": {
   "display_name": "Python 3 (ipykernel)",
   "language": "python",
   "name": "python3"
  },
  "language_info": {
   "codemirror_mode": {
    "name": "ipython",
    "version": 3
   },
   "file_extension": ".py",
   "mimetype": "text/x-python",
   "name": "python",
   "nbconvert_exporter": "python",
   "pygments_lexer": "ipython3",
   "version": "3.8.12"
  }
 },
 "nbformat": 4,
 "nbformat_minor": 5
}
