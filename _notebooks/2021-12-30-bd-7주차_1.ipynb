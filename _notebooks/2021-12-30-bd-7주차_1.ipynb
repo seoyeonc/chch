{
 "cells": [
  {
   "cell_type": "markdown",
   "id": "b8b7d3a2-9f09-40b7-b3b5-03aaddd38d09",
   "metadata": {
    "id": "b8b7d3a2-9f09-40b7-b3b5-03aaddd38d09",
    "tags": []
   },
   "source": [
    "# 빅데이터 분석 (7주차) 10월21일\n",
    "> Pytorch CNN (MNIST 3,7)\n",
    "\n",
    "- toc:true\n",
    "- branch: master\n",
    "- badges: true\n",
    "- comments: false\n",
    "- author: 최서연\n",
    "- categories: [Pytorch CNN (MNIST 3 7)]"
   ]
  },
  {
   "cell_type": "markdown",
   "id": "706f42f5-6ab0-4733-bda6-cbde67e77093",
   "metadata": {
    "id": "706f42f5-6ab0-4733-bda6-cbde67e77093"
   },
   "source": [
    "### import "
   ]
  },
  {
   "cell_type": "markdown",
   "id": "b246803c-6f2a-4016-b350-b72a6d881c01",
   "metadata": {},
   "source": [
    "- 5주차에 했던 MLP와 다른 모형으로 해보는 수업, 일단 5주차 내용으로 시작"
   ]
  },
  {
   "cell_type": "code",
   "execution_count": 1,
   "id": "e8aeb3c7-f3dc-4c47-802b-0f7766cec272",
   "metadata": {
    "id": "e8aeb3c7-f3dc-4c47-802b-0f7766cec272"
   },
   "outputs": [],
   "source": [
    "import torch \n",
    "from fastai.vision.all import * "
   ]
  },
  {
   "cell_type": "code",
   "execution_count": 2,
   "id": "87abf984-23f9-49b4-8948-437c3fc0b2bf",
   "metadata": {
    "id": "87abf984-23f9-49b4-8948-437c3fc0b2bf"
   },
   "outputs": [],
   "source": [
    "import graphviz"
   ]
  },
  {
   "cell_type": "code",
   "execution_count": 3,
   "id": "9ff903db-93df-41ec-9c5d-e467d8c268a7",
   "metadata": {
    "id": "9ff903db-93df-41ec-9c5d-e467d8c268a7"
   },
   "outputs": [],
   "source": [
    "def gv(s): return graphviz.Source('digraph G{ rankdir=\"LR\"'+ s + ';}')"
   ]
  },
  {
   "cell_type": "markdown",
   "id": "344a6a05-28e5-421c-a835-5ea13745c7bd",
   "metadata": {
    "id": "344a6a05-28e5-421c-a835-5ea13745c7bd"
   },
   "source": [
    "### data "
   ]
  },
  {
   "cell_type": "markdown",
   "id": "78259eb5-80cd-43a0-b136-6c18985819d3",
   "metadata": {
    "id": "78259eb5-80cd-43a0-b136-6c18985819d3"
   },
   "source": [
    "`-` download data "
   ]
  },
  {
   "cell_type": "code",
   "execution_count": 4,
   "id": "39bffb35-6c53-4979-8ce3-ccb35122ccc8",
   "metadata": {
    "id": "39bffb35-6c53-4979-8ce3-ccb35122ccc8"
   },
   "outputs": [],
   "source": [
    "path = untar_data(URLs.MNIST_SAMPLE)"
   ]
  },
  {
   "cell_type": "code",
   "execution_count": 5,
   "id": "6489e671-2055-4c2b-80f7-b9724c3e26d1",
   "metadata": {
    "id": "6489e671-2055-4c2b-80f7-b9724c3e26d1",
    "outputId": "c51179a1-48e5-4352-b8ab-0742f1b55fe4"
   },
   "outputs": [
    {
     "data": {
      "text/plain": [
       "(#3) [Path('/home/csy/.fastai/data/mnist_sample/train'),Path('/home/csy/.fastai/data/mnist_sample/labels.csv'),Path('/home/csy/.fastai/data/mnist_sample/valid')]"
      ]
     },
     "execution_count": 5,
     "metadata": {},
     "output_type": "execute_result"
    }
   ],
   "source": [
    "path.ls()"
   ]
  },
  {
   "cell_type": "markdown",
   "id": "159e50f9-f75b-4101-b4ff-27c101cf908f",
   "metadata": {
    "id": "159e50f9-f75b-4101-b4ff-27c101cf908f"
   },
   "source": [
    "`-` list "
   ]
  },
  {
   "cell_type": "code",
   "execution_count": 6,
   "id": "d35b8700-c942-48db-9f4a-0417890ded1f",
   "metadata": {
    "id": "d35b8700-c942-48db-9f4a-0417890ded1f"
   },
   "outputs": [],
   "source": [
    "threes=(path/'train'/'3').ls()\n",
    "sevens=(path/'train'/'7').ls()"
   ]
  },
  {
   "cell_type": "markdown",
   "id": "228e3342-8a9a-430e-b121-fc04f6ffed50",
   "metadata": {
    "id": "228e3342-8a9a-430e-b121-fc04f6ffed50"
   },
   "source": [
    "`-` list $\\to$ image "
   ]
  },
  {
   "cell_type": "code",
   "execution_count": 7,
   "id": "3529e679-a68a-4665-a3c6-e7cee5f0adf0",
   "metadata": {
    "id": "3529e679-a68a-4665-a3c6-e7cee5f0adf0",
    "outputId": "f29d7217-cebf-4a3c-e7b5-6e801ca0654b"
   },
   "outputs": [
    {
     "data": {
      "image/png": "[encoded data removed]",
      "text/plain": [
       "<PIL.PngImagePlugin.PngImageFile image mode=L size=28x28 at 0x7F15F0EF0D90>"
      ]
     },
     "execution_count": 7,
     "metadata": {},
     "output_type": "execute_result"
    }
   ],
   "source": [
    "Image.open(threes[4])"
   ]
  },
  {
   "cell_type": "markdown",
   "id": "8bcd003e-1b77-4f13-82d4-18b04e1d8f22",
   "metadata": {
    "id": "8bcd003e-1b77-4f13-82d4-18b04e1d8f22"
   },
   "source": [
    "`-` image $\\to$ tensor "
   ]
  },
  {
   "cell_type": "code",
   "execution_count": 8,
   "id": "bd87de72-2454-4c0c-b4b7-fab73c9a2764",
   "metadata": {
    "id": "bd87de72-2454-4c0c-b4b7-fab73c9a2764",
    "outputId": "b5a7cb75-514f-47c0-9cf4-e5d09d2484ab"
   },
   "outputs": [
    {
     "data": {
      "text/plain": [
       "tensor([[  0,   0,   0,   0,   0,   0,   0,   0,   0,   0,   0,   0,   0,   0,\n",
       "           0,   0,   0,   0,   0,   0,   0,   0,   0,   0,   0,   0,   0,   0],\n",
       "        [  0,   0,   0,   0,   0,   0,   0,   0,   0,   0,   0,   0,   0,   0,\n",
       "           0,   0,   0,   0,   0,   0,   0,   0,   0,   0,   0,   0,   0,   0],\n",
       "        [  0,   0,   0,   0,   0,   0,   0,   0,   0,   0,   0,   0,   0,   0,\n",
       "           0,   0,   0,   0,   0,   0,   0,   0,   0,   0,   0,   0,   0,   0],\n",
       "        [  0,   0,   0,   0,   0,   0,   0,   0,   0,   0,   0,   0,   0,   0,\n",
       "           0,   0,   0,   0,   0,   0,   0,   0,   0,   0,   0,   0,   0,   0],\n",
       "        [  0,   0,   0,   0,   0,   0,   0,   0,   0,   0,   0,  64, 128, 128,\n",
       "         191, 128,   0,   0,   0,   0,   0,   0,   0,   0,   0,   0,   0,   0],\n",
       "        [  0,   0,   0,   0,   0,   0,   0,   0,   0, 128, 255, 255, 255, 255,\n",
       "         255, 255, 191,   0,   0,   0,   0,   0,   0,   0,   0,   0,   0,   0],\n",
       "        [  0,   0,   0,   0,   0,   0,   0,   0, 255, 255, 255, 191, 128, 128,\n",
       "          64, 191, 255, 128,   0,   0,   0,   0,   0,   0,   0,   0,   0,   0],\n",
       "        [  0,   0,   0,   0,   0,   0,   0,   0, 191, 128,   0,   0,   0,   0,\n",
       "           0, 128, 255, 128,   0,   0,   0,   0,   0,   0,   0,   0,   0,   0],\n",
       "        [  0,   0,   0,   0,   0,   0,   0,   0,   0,   0,   0,   0,   0,   0,\n",
       "           0, 128, 255, 128,   0,   0,   0,   0,   0,   0,   0,   0,   0,   0],\n",
       "        [  0,   0,   0,   0,   0,   0,   0,   0,   0,   0,   0,   0,   0,   0,\n",
       "           0, 191, 255,   0,   0,   0,   0,   0,   0,   0,   0,   0,   0,   0],\n",
       "        [  0,   0,   0,   0,   0,   0,   0,   0,   0,   0,   0,   0,   0,   0,\n",
       "         128, 255,  64,   0,   0,   0,   0,   0,   0,   0,   0,   0,   0,   0],\n",
       "        [  0,   0,   0,   0,   0,   0,   0,   0,   0,   0,   0,   0,   0,  64,\n",
       "         255, 191,   0,   0,   0,   0,   0,   0,   0,   0,   0,   0,   0,   0],\n",
       "        [  0,   0,   0,   0,   0,   0,   0,   0,   0,   0,   0,   0, 128, 255,\n",
       "         255, 191,   0,   0,   0,   0,   0,   0,   0,   0,   0,   0,   0,   0],\n",
       "        [  0,   0,   0,   0,   0,   0,   0,   0,   0,   0, 128, 191, 255, 255,\n",
       "         255, 255, 255, 191,  64,   0,   0,   0,   0,   0,   0,   0,   0,   0],\n",
       "        [  0,   0,   0,   0,   0,   0,   0,   0,  64, 255, 255, 255, 191, 128,\n",
       "          64, 128, 255, 255, 255, 128,   0,   0,   0,   0,   0,   0,   0,   0],\n",
       "        [  0,   0,   0,   0,   0,   0,   0,   0,   0, 128, 128,  64,   0,   0,\n",
       "           0,   0,   0,  64, 191, 255, 128,   0,   0,   0,   0,   0,   0,   0],\n",
       "        [  0,   0,   0,   0,   0,   0,   0,   0,   0,   0,   0,   0,   0,   0,\n",
       "           0,   0,   0,   0,   0, 255, 255,  64,   0,   0,   0,   0,   0,   0],\n",
       "        [  0,   0,   0,   0,   0,   0,   0,   0,   0,   0,   0,   0,   0,   0,\n",
       "           0,   0,   0,   0,   0, 255, 255,  64,   0,   0,   0,   0,   0,   0],\n",
       "        [  0,   0,   0,   0,   0,   0,   0,   0,   0,   0,   0,   0,   0,   0,\n",
       "           0,   0,   0,   0,   0, 255, 255,   0,   0,   0,   0,   0,   0,   0],\n",
       "        [  0,   0,   0,   0,   0,   0,   0,   0,   0,   0,   0,   0,   0,   0,\n",
       "           0,   0,   0,  64, 191, 255, 128,   0,   0,   0,   0,   0,   0,   0],\n",
       "        [  0,   0,   0,   0,   0,   0,  64,   0,   0,   0,   0,   0,   0,   0,\n",
       "           0,  64, 191, 255, 255, 128,   0,   0,   0,   0,   0,   0,   0,   0],\n",
       "        [  0,   0,   0,   0,   0,   0, 255, 128,   0,   0,   0,   0,   0,   0,\n",
       "         128, 255, 255, 191,  64,   0,   0,   0,   0,   0,   0,   0,   0,   0],\n",
       "        [  0,   0,   0,   0,   0,   0,  64, 255, 255, 128, 128, 128, 191, 255,\n",
       "         255, 128,   0,   0,   0,   0,   0,   0,   0,   0,   0,   0,   0,   0],\n",
       "        [  0,   0,   0,   0,   0,   0,   0, 128, 128, 128, 255, 255, 191, 128,\n",
       "           0,   0,   0,   0,   0,   0,   0,   0,   0,   0,   0,   0,   0,   0],\n",
       "        [  0,   0,   0,   0,   0,   0,   0,   0,   0,   0,   0,   0,   0,   0,\n",
       "           0,   0,   0,   0,   0,   0,   0,   0,   0,   0,   0,   0,   0,   0],\n",
       "        [  0,   0,   0,   0,   0,   0,   0,   0,   0,   0,   0,   0,   0,   0,\n",
       "           0,   0,   0,   0,   0,   0,   0,   0,   0,   0,   0,   0,   0,   0],\n",
       "        [  0,   0,   0,   0,   0,   0,   0,   0,   0,   0,   0,   0,   0,   0,\n",
       "           0,   0,   0,   0,   0,   0,   0,   0,   0,   0,   0,   0,   0,   0],\n",
       "        [  0,   0,   0,   0,   0,   0,   0,   0,   0,   0,   0,   0,   0,   0,\n",
       "           0,   0,   0,   0,   0,   0,   0,   0,   0,   0,   0,   0,   0,   0]],\n",
       "       dtype=torch.uint8)"
      ]
     },
     "execution_count": 8,
     "metadata": {},
     "output_type": "execute_result"
    }
   ],
   "source": [
    "tensor(Image.open(threes[4]))"
   ]
  },
  {
   "cell_type": "markdown",
   "id": "e292c66c-734f-40b3-889f-5e9a357bfa64",
   "metadata": {
    "id": "e292c66c-734f-40b3-889f-5e9a357bfa64"
   },
   "source": [
    "- 여기에서 tensor는 파이토치가 아니라 fastai에서 구현한 함수임 "
   ]
  },
  {
   "cell_type": "markdown",
   "id": "f92c7cd3-1257-4df3-b11f-c543c1e269b0",
   "metadata": {
    "id": "f92c7cd3-1257-4df3-b11f-c543c1e269b0"
   },
   "source": [
    "`-` 여러개의 리스트를 모두 텐서로 바꿔보자. "
   ]
  },
  {
   "cell_type": "code",
   "execution_count": 9,
   "id": "54741b7c-c7d1-4ce7-9440-d47d429664b7",
   "metadata": {
    "id": "54741b7c-c7d1-4ce7-9440-d47d429664b7"
   },
   "outputs": [],
   "source": [
    "seven_tensor = torch.stack([tensor(Image.open(i)) for i in sevens]).float()/255\n",
    "three_tensor = torch.stack([tensor(Image.open(i)) for i in threes]).float()/255"
   ]
  },
  {
   "cell_type": "markdown",
   "id": "dd07f2c7-5cd7-4949-83f3-3327967bf762",
   "metadata": {
    "id": "dd07f2c7-5cd7-4949-83f3-3327967bf762"
   },
   "source": [
    "`-` $X$와 $y$를 만들자. "
   ]
  },
  {
   "cell_type": "code",
   "execution_count": 10,
   "id": "a37f6846-23fd-491e-bf09-e00135a2ba8b",
   "metadata": {
    "id": "a37f6846-23fd-491e-bf09-e00135a2ba8b",
    "outputId": "66538197-d065-4807-b26a-f422ad852e72"
   },
   "outputs": [
    {
     "data": {
      "text/plain": [
       "(torch.Size([6265, 28, 28]), torch.Size([6131, 28, 28]))"
      ]
     },
     "execution_count": 10,
     "metadata": {},
     "output_type": "execute_result"
    }
   ],
   "source": [
    "seven_tensor.shape, three_tensor.shape"
   ]
  },
  {
   "cell_type": "code",
   "execution_count": 11,
   "id": "606d4f96-da56-4665-9f3f-4ace860933bd",
   "metadata": {
    "id": "606d4f96-da56-4665-9f3f-4ace860933bd"
   },
   "outputs": [],
   "source": [
    "y=torch.tensor([0.0]*6265+ [1.0]*6131).reshape(12396,1)"
   ]
  },
  {
   "cell_type": "code",
   "execution_count": 12,
   "id": "93bc8238-95ce-4988-9d62-d5e694bdc019",
   "metadata": {
    "id": "93bc8238-95ce-4988-9d62-d5e694bdc019"
   },
   "outputs": [],
   "source": [
    "X=torch.vstack([seven_tensor,three_tensor]).reshape(12396,-1)"
   ]
  },
  {
   "cell_type": "code",
   "execution_count": 13,
   "id": "d2fbf077-cf41-44ec-8b25-138d9d3d9dd3",
   "metadata": {
    "id": "d2fbf077-cf41-44ec-8b25-138d9d3d9dd3",
    "outputId": "51768463-256a-4a31-bcd3-8acc6863a814"
   },
   "outputs": [
    {
     "data": {
      "text/plain": [
       "(torch.Size([12396, 784]), torch.Size([12396, 1]))"
      ]
     },
     "execution_count": 13,
     "metadata": {},
     "output_type": "execute_result"
    }
   ],
   "source": [
    "X.shape, y.shape"
   ]
  },
  {
   "cell_type": "markdown",
   "id": "dd6ea422-9069-4920-8292-3c6950c5084f",
   "metadata": {
    "id": "dd6ea422-9069-4920-8292-3c6950c5084f"
   },
   "source": [
    "### 기존의 MLP 모형 "
   ]
  },
  {
   "cell_type": "markdown",
   "id": "1e8eadf7-57b0-4bbc-8f7a-1fa40de37b82",
   "metadata": {
    "id": "1e8eadf7-57b0-4bbc-8f7a-1fa40de37b82"
   },
   "source": [
    "${\\bf X} \\to {\\bf WX+b} \\to f({\\bf WX+b}) \\to \\dots \\to {\\bf y}$\n",
    "- ${\\bf X}=12396 \\times 784$ matrix \n",
    "- ${\\bf y}=12396 \\times 1$ (col) vector"
   ]
  },
  {
   "cell_type": "markdown",
   "id": "173b7c9d-1785-4daa-b4e9-1605413e8c87",
   "metadata": {
    "id": "173b7c9d-1785-4daa-b4e9-1605413e8c87"
   },
   "source": [
    "`-` 교재의 모형 "
   ]
  },
  {
   "cell_type": "code",
   "execution_count": 14,
   "id": "5433e463-f622-4f92-92bf-9ccb76490080",
   "metadata": {
    "id": "5433e463-f622-4f92-92bf-9ccb76490080",
    "outputId": "af6e4855-b9ce-42f8-dcdc-1a329cf52641"
   },
   "outputs": [
    {
     "data": {
      "image/svg+xml": [
       "<?xml version=\"1.0\" encoding=\"UTF-8\" standalone=\"no\"?>\n",
       "<!DOCTYPE svg PUBLIC \"-//W3C//DTD SVG 1.1//EN\"\n",
       " \"http://www.w3.org/Graphics/SVG/1.1/DTD/svg11.dtd\">\n",
       "<!-- Generated by graphviz version 2.50.0 (20211209.0339)\n",
       " -->\n",
       "<!-- Title: G Pages: 1 -->\n",
       "<svg width=\"396pt\" height=\"261pt\"\n",
       " viewBox=\"0.00 0.00 396.29 261.00\" xmlns=\"http://www.w3.org/2000/svg\" xmlns:xlink=\"http://www.w3.org/1999/xlink\">\n",
       "<g id=\"graph0\" class=\"graph\" transform=\"scale(1 1) rotate(0) translate(4 257)\">\n",
       "<title>G</title>\n",
       "<polygon fill=\"white\" stroke=\"transparent\" points=\"-4,4 -4,-257 392.29,-257 392.29,4 -4,4\"/>\n",
       "<g id=\"clust1\" class=\"cluster\">\n",
       "<title>cluster_1</title>\n",
       "<polygon fill=\"lightgrey\" stroke=\"lightgrey\" points=\"8,-8 8,-245 91.59,-245 91.59,-8 8,-8\"/>\n",
       "<text text-anchor=\"middle\" x=\"49.8\" y=\"-229.8\" font-family=\"Times,serif\" font-size=\"14.00\">Layer 0</text>\n",
       "</g>\n",
       "<g id=\"clust2\" class=\"cluster\">\n",
       "<title>cluster_2</title>\n",
       "<polygon fill=\"lightgrey\" stroke=\"lightgrey\" points=\"111.59,-8 111.59,-245 230.29,-245 230.29,-8 111.59,-8\"/>\n",
       "<text text-anchor=\"middle\" x=\"170.94\" y=\"-229.8\" font-family=\"Times,serif\" font-size=\"14.00\">Layer 1: ReLU</text>\n",
       "</g>\n",
       "<g id=\"clust3\" class=\"cluster\">\n",
       "<title>cluster_3</title>\n",
       "<polygon fill=\"lightgrey\" stroke=\"lightgrey\" points=\"250.29,-89 250.29,-164 388.29,-164 388.29,-89 250.29,-89\"/>\n",
       "<text text-anchor=\"middle\" x=\"319.29\" y=\"-148.8\" font-family=\"Times,serif\" font-size=\"14.00\">Layer 2: Sigmoid</text>\n",
       "</g>\n",
       "<!-- x1 -->\n",
       "<g id=\"node1\" class=\"node\">\n",
       "<title>x1</title>\n",
       "<ellipse fill=\"none\" stroke=\"black\" cx=\"49.8\" cy=\"-196\" rx=\"27\" ry=\"18\"/>\n",
       "<text text-anchor=\"middle\" x=\"49.8\" y=\"-192.3\" font-family=\"Times,serif\" font-size=\"14.00\">x1</text>\n",
       "</g>\n",
       "<!-- node1 -->\n",
       "<g id=\"node5\" class=\"node\">\n",
       "<title>node1</title>\n",
       "<ellipse fill=\"none\" stroke=\"black\" cx=\"170.44\" cy=\"-196\" rx=\"38.99\" ry=\"18\"/>\n",
       "<text text-anchor=\"middle\" x=\"170.44\" y=\"-192.3\" font-family=\"Times,serif\" font-size=\"14.00\">node1</text>\n",
       "</g>\n",
       "<!-- x1&#45;&gt;node1 -->\n",
       "<g id=\"edge1\" class=\"edge\">\n",
       "<title>x1&#45;&gt;node1</title>\n",
       "<path fill=\"none\" stroke=\"black\" d=\"M76.83,-196C89.8,-196 105.91,-196 121.04,-196\"/>\n",
       "<polygon fill=\"black\" stroke=\"black\" points=\"121.3,-199.5 131.3,-196 121.3,-192.5 121.3,-199.5\"/>\n",
       "</g>\n",
       "<!-- node2 -->\n",
       "<g id=\"node6\" class=\"node\">\n",
       "<title>node2</title>\n",
       "<ellipse fill=\"none\" stroke=\"black\" cx=\"170.44\" cy=\"-142\" rx=\"38.99\" ry=\"18\"/>\n",
       "<text text-anchor=\"middle\" x=\"170.44\" y=\"-138.3\" font-family=\"Times,serif\" font-size=\"14.00\">node2</text>\n",
       "</g>\n",
       "<!-- x1&#45;&gt;node2 -->\n",
       "<g id=\"edge5\" class=\"edge\">\n",
       "<title>x1&#45;&gt;node2</title>\n",
       "<path fill=\"none\" stroke=\"black\" d=\"M72.56,-186.1C89.34,-178.46 112.95,-167.71 132.66,-158.74\"/>\n",
       "<polygon fill=\"black\" stroke=\"black\" points=\"134.32,-161.83 141.97,-154.5 131.42,-155.46 134.32,-161.83\"/>\n",
       "</g>\n",
       "<!-- ... -->\n",
       "<g id=\"node7\" class=\"node\">\n",
       "<title>...</title>\n",
       "<ellipse fill=\"none\" stroke=\"black\" cx=\"170.44\" cy=\"-88\" rx=\"27\" ry=\"18\"/>\n",
       "<text text-anchor=\"middle\" x=\"170.44\" y=\"-84.3\" font-family=\"Times,serif\" font-size=\"14.00\">...</text>\n",
       "</g>\n",
       "<!-- x1&#45;&gt;... -->\n",
       "<g id=\"edge9\" class=\"edge\">\n",
       "<title>x1&#45;&gt;...</title>\n",
       "<path fill=\"none\" stroke=\"black\" d=\"M66.8,-181.43C87.26,-162.81 122.83,-130.43 146.25,-109.11\"/>\n",
       "<polygon fill=\"black\" stroke=\"black\" points=\"148.65,-111.65 153.69,-102.33 143.94,-106.48 148.65,-111.65\"/>\n",
       "</g>\n",
       "<!-- node30 -->\n",
       "<g id=\"node8\" class=\"node\">\n",
       "<title>node30</title>\n",
       "<ellipse fill=\"none\" stroke=\"black\" cx=\"170.44\" cy=\"-34\" rx=\"44.69\" ry=\"18\"/>\n",
       "<text text-anchor=\"middle\" x=\"170.44\" y=\"-30.3\" font-family=\"Times,serif\" font-size=\"14.00\">node30</text>\n",
       "</g>\n",
       "<!-- x1&#45;&gt;node30 -->\n",
       "<g id=\"edge13\" class=\"edge\">\n",
       "<title>x1&#45;&gt;node30</title>\n",
       "<path fill=\"none\" stroke=\"black\" d=\"M62.61,-179.87C83.16,-151.81 125.67,-93.76 150.42,-59.97\"/>\n",
       "<polygon fill=\"black\" stroke=\"black\" points=\"153.52,-61.66 156.61,-51.52 147.87,-57.52 153.52,-61.66\"/>\n",
       "</g>\n",
       "<!-- x2 -->\n",
       "<g id=\"node2\" class=\"node\">\n",
       "<title>x2</title>\n",
       "<ellipse fill=\"none\" stroke=\"black\" cx=\"49.8\" cy=\"-142\" rx=\"27\" ry=\"18\"/>\n",
       "<text text-anchor=\"middle\" x=\"49.8\" y=\"-138.3\" font-family=\"Times,serif\" font-size=\"14.00\">x2</text>\n",
       "</g>\n",
       "<!-- x2&#45;&gt;node1 -->\n",
       "<g id=\"edge2\" class=\"edge\">\n",
       "<title>x2&#45;&gt;node1</title>\n",
       "<path fill=\"none\" stroke=\"black\" d=\"M72.56,-151.9C89.34,-159.54 112.95,-170.29 132.66,-179.26\"/>\n",
       "<polygon fill=\"black\" stroke=\"black\" points=\"131.42,-182.54 141.97,-183.5 134.32,-176.17 131.42,-182.54\"/>\n",
       "</g>\n",
       "<!-- x2&#45;&gt;node2 -->\n",
       "<g id=\"edge6\" class=\"edge\">\n",
       "<title>x2&#45;&gt;node2</title>\n",
       "<path fill=\"none\" stroke=\"black\" d=\"M76.83,-142C89.8,-142 105.91,-142 121.04,-142\"/>\n",
       "<polygon fill=\"black\" stroke=\"black\" points=\"121.3,-145.5 131.3,-142 121.3,-138.5 121.3,-145.5\"/>\n",
       "</g>\n",
       "<!-- x2&#45;&gt;... -->\n",
       "<g id=\"edge10\" class=\"edge\">\n",
       "<title>x2&#45;&gt;...</title>\n",
       "<path fill=\"none\" stroke=\"black\" d=\"M72.56,-132.1C91.04,-123.68 117.78,-111.51 138.49,-102.09\"/>\n",
       "<polygon fill=\"black\" stroke=\"black\" points=\"140.17,-105.17 147.82,-97.84 137.27,-98.8 140.17,-105.17\"/>\n",
       "</g>\n",
       "<!-- x2&#45;&gt;node30 -->\n",
       "<g id=\"edge14\" class=\"edge\">\n",
       "<title>x2&#45;&gt;node30</title>\n",
       "<path fill=\"none\" stroke=\"black\" d=\"M66.8,-127.43C86.57,-109.43 120.47,-78.57 143.87,-57.28\"/>\n",
       "<polygon fill=\"black\" stroke=\"black\" points=\"146.33,-59.77 151.37,-50.45 141.62,-54.59 146.33,-59.77\"/>\n",
       "</g>\n",
       "<!-- .. -->\n",
       "<g id=\"node3\" class=\"node\">\n",
       "<title>..</title>\n",
       "<ellipse fill=\"none\" stroke=\"black\" cx=\"49.8\" cy=\"-88\" rx=\"27\" ry=\"18\"/>\n",
       "<text text-anchor=\"middle\" x=\"49.8\" y=\"-84.3\" font-family=\"Times,serif\" font-size=\"14.00\">..</text>\n",
       "</g>\n",
       "<!-- ..&#45;&gt;node1 -->\n",
       "<g id=\"edge3\" class=\"edge\">\n",
       "<title>..&#45;&gt;node1</title>\n",
       "<path fill=\"none\" stroke=\"black\" d=\"M66.8,-102.57C86.69,-120.67 120.86,-151.78 144.27,-173.09\"/>\n",
       "<polygon fill=\"black\" stroke=\"black\" points=\"142.01,-175.77 151.76,-179.91 146.73,-170.59 142.01,-175.77\"/>\n",
       "</g>\n",
       "<!-- ..&#45;&gt;node2 -->\n",
       "<g id=\"edge7\" class=\"edge\">\n",
       "<title>..&#45;&gt;node2</title>\n",
       "<path fill=\"none\" stroke=\"black\" d=\"M72.56,-97.9C89.34,-105.54 112.95,-116.29 132.66,-125.26\"/>\n",
       "<polygon fill=\"black\" stroke=\"black\" points=\"131.42,-128.54 141.97,-129.5 134.32,-122.17 131.42,-128.54\"/>\n",
       "</g>\n",
       "<!-- ..&#45;&gt;... -->\n",
       "<g id=\"edge11\" class=\"edge\">\n",
       "<title>..&#45;&gt;...</title>\n",
       "<path fill=\"none\" stroke=\"black\" d=\"M76.83,-88C93.26,-88 114.71,-88 132.83,-88\"/>\n",
       "<polygon fill=\"black\" stroke=\"black\" points=\"133.05,-91.5 143.05,-88 133.05,-84.5 133.05,-91.5\"/>\n",
       "</g>\n",
       "<!-- ..&#45;&gt;node30 -->\n",
       "<g id=\"edge15\" class=\"edge\">\n",
       "<title>..&#45;&gt;node30</title>\n",
       "<path fill=\"none\" stroke=\"black\" d=\"M72.56,-78.1C88.88,-70.66 111.66,-60.3 131.03,-51.48\"/>\n",
       "<polygon fill=\"black\" stroke=\"black\" points=\"132.57,-54.63 140.22,-47.3 129.67,-48.26 132.57,-54.63\"/>\n",
       "</g>\n",
       "<!-- x784 -->\n",
       "<g id=\"node4\" class=\"node\">\n",
       "<title>x784</title>\n",
       "<ellipse fill=\"none\" stroke=\"black\" cx=\"49.8\" cy=\"-34\" rx=\"33.6\" ry=\"18\"/>\n",
       "<text text-anchor=\"middle\" x=\"49.8\" y=\"-30.3\" font-family=\"Times,serif\" font-size=\"14.00\">x784</text>\n",
       "</g>\n",
       "<!-- x784&#45;&gt;node1 -->\n",
       "<g id=\"edge4\" class=\"edge\">\n",
       "<title>x784&#45;&gt;node1</title>\n",
       "<path fill=\"none\" stroke=\"black\" d=\"M63.05,-50.73C83.81,-79.07 126.04,-136.74 150.59,-170.26\"/>\n",
       "<polygon fill=\"black\" stroke=\"black\" points=\"147.99,-172.63 156.72,-178.63 153.64,-168.5 147.99,-172.63\"/>\n",
       "</g>\n",
       "<!-- x784&#45;&gt;node2 -->\n",
       "<g id=\"edge8\" class=\"edge\">\n",
       "<title>x784&#45;&gt;node2</title>\n",
       "<path fill=\"none\" stroke=\"black\" d=\"M67.8,-49.47C87.74,-67.63 121.01,-97.91 144.02,-118.86\"/>\n",
       "<polygon fill=\"black\" stroke=\"black\" points=\"141.95,-121.71 151.7,-125.85 146.66,-116.53 141.95,-121.71\"/>\n",
       "</g>\n",
       "<!-- x784&#45;&gt;... -->\n",
       "<g id=\"edge12\" class=\"edge\">\n",
       "<title>x784&#45;&gt;...</title>\n",
       "<path fill=\"none\" stroke=\"black\" d=\"M75.96,-45.45C94.11,-53.72 118.74,-64.93 138.17,-73.77\"/>\n",
       "<polygon fill=\"black\" stroke=\"black\" points=\"136.95,-77.06 147.51,-78.02 139.85,-70.69 136.95,-77.06\"/>\n",
       "</g>\n",
       "<!-- x784&#45;&gt;node30 -->\n",
       "<g id=\"edge16\" class=\"edge\">\n",
       "<title>x784&#45;&gt;node30</title>\n",
       "<path fill=\"none\" stroke=\"black\" d=\"M83.85,-34C93.61,-34 104.57,-34 115.31,-34\"/>\n",
       "<polygon fill=\"black\" stroke=\"black\" points=\"115.48,-37.5 125.48,-34 115.48,-30.5 115.48,-37.5\"/>\n",
       "</g>\n",
       "<!-- y -->\n",
       "<g id=\"node9\" class=\"node\">\n",
       "<title>y</title>\n",
       "<ellipse fill=\"none\" stroke=\"black\" cx=\"319.29\" cy=\"-115\" rx=\"27\" ry=\"18\"/>\n",
       "<text text-anchor=\"middle\" x=\"319.29\" y=\"-111.3\" font-family=\"Times,serif\" font-size=\"14.00\">y</text>\n",
       "</g>\n",
       "<!-- node1&#45;&gt;y -->\n",
       "<g id=\"edge17\" class=\"edge\">\n",
       "<title>node1&#45;&gt;y</title>\n",
       "<path fill=\"none\" stroke=\"black\" d=\"M196.35,-182.26C221.97,-168.13 261.85,-146.13 288.97,-131.17\"/>\n",
       "<polygon fill=\"black\" stroke=\"black\" points=\"290.92,-134.09 297.99,-126.19 287.54,-127.96 290.92,-134.09\"/>\n",
       "</g>\n",
       "<!-- node2&#45;&gt;y -->\n",
       "<g id=\"edge18\" class=\"edge\">\n",
       "<title>node2&#45;&gt;y</title>\n",
       "<path fill=\"none\" stroke=\"black\" d=\"M206.99,-135.46C230.1,-131.21 260.11,-125.7 283.14,-121.46\"/>\n",
       "<polygon fill=\"black\" stroke=\"black\" points=\"283.98,-124.87 293.18,-119.62 282.72,-117.98 283.98,-124.87\"/>\n",
       "</g>\n",
       "<!-- ...&#45;&gt;y -->\n",
       "<g id=\"edge19\" class=\"edge\">\n",
       "<title>...&#45;&gt;y</title>\n",
       "<path fill=\"none\" stroke=\"black\" d=\"M196.68,-92.64C220.43,-97.01 256.21,-103.59 282.82,-108.48\"/>\n",
       "<polygon fill=\"black\" stroke=\"black\" points=\"282.41,-111.96 292.88,-110.33 283.68,-105.08 282.41,-111.96\"/>\n",
       "</g>\n",
       "<!-- node30&#45;&gt;y -->\n",
       "<g id=\"edge20\" class=\"edge\">\n",
       "<title>node30&#45;&gt;y</title>\n",
       "<path fill=\"none\" stroke=\"black\" d=\"M197.69,-48.48C223.37,-62.65 262.41,-84.18 289.06,-98.88\"/>\n",
       "<polygon fill=\"black\" stroke=\"black\" points=\"287.48,-102.01 297.93,-103.77 290.86,-95.88 287.48,-102.01\"/>\n",
       "</g>\n",
       "</g>\n",
       "</svg>\n"
      ],
      "text/plain": [
       "<graphviz.sources.Source at 0x7f15f0ab42e0>"
      ]
     },
     "execution_count": 14,
     "metadata": {},
     "output_type": "execute_result"
    }
   ],
   "source": [
    "#collapse\n",
    "gv('''\n",
    "splines=line\n",
    "subgraph cluster_1{\n",
    "    style=filled;\n",
    "    color=lightgrey;\n",
    "    \"x1\"\n",
    "    \"x2\"\n",
    "    \"..\"\n",
    "    \"x784\"\n",
    "    label = \"Layer 0\"\n",
    "}\n",
    "subgraph cluster_2{\n",
    "    style=filled;\n",
    "    color=lightgrey;\n",
    "    \"x1\" -> \"node1\"\n",
    "    \"x2\" -> \"node1\"\n",
    "    \"..\" -> \"node1\"\n",
    "    \n",
    "    \"x784\" -> \"node1\"\n",
    "    \"x1\" -> \"node2\"\n",
    "    \"x2\" -> \"node2\"\n",
    "    \"..\" -> \"node2\"\n",
    "    \"x784\" -> \"node2\"\n",
    "    \n",
    "    \"x1\" -> \"...\"\n",
    "    \"x2\" -> \"...\"\n",
    "    \"..\" -> \"...\"\n",
    "    \"x784\" -> \"...\"\n",
    "\n",
    "    \"x1\" -> \"node30\"\n",
    "    \"x2\" -> \"node30\"\n",
    "    \"..\" -> \"node30\"\n",
    "    \"x784\" -> \"node30\"\n",
    "\n",
    "\n",
    "    label = \"Layer 1: ReLU\"\n",
    "}\n",
    "subgraph cluster_3{\n",
    "    style=filled;\n",
    "    color=lightgrey;\n",
    "    \"node1\" -> \"y\"\n",
    "    \"node2\" -> \"y\"\n",
    "    \"...\" -> \"y\"\n",
    "    \"node30\" -> \"y\"\n",
    "    label = \"Layer 2: Sigmoid\"\n",
    "}\n",
    "''')"
   ]
  },
  {
   "cell_type": "markdown",
   "id": "62a12218-42ca-49ff-9f81-4e3a73f5b2fa",
   "metadata": {},
   "source": [
    "- Layer 선형 $\\to$ 2d convolution Maxpooling, ReLU 비선형 $\\to$ Sigmoid 선형"
   ]
  },
  {
   "cell_type": "markdown",
   "id": "b5b504c5-09b0-4bcd-98df-39b2d1a78ce8",
   "metadata": {
    "id": "b5b504c5-09b0-4bcd-98df-39b2d1a78ce8"
   },
   "source": [
    "`-` 왜 28$\\times$28 이미지를 784개의 벡터로 만든 다음에 모형을 돌려야 하는가? "
   ]
  },
  {
   "cell_type": "markdown",
   "id": "de96664d-4b2b-451b-a498-baa274b78cb3",
   "metadata": {
    "id": "de96664d-4b2b-451b-a498-baa274b78cb3"
   },
   "source": [
    "`-` 기존에 개발된 모형이 회귀분석 기반으로 되어있어서 결국 회귀분석 틀에 짜 맞추어서 이미지자료를 분석하는 느낌 "
   ]
  },
  {
   "cell_type": "markdown",
   "id": "0ca81597-e11c-443b-b085-e889e22bd931",
   "metadata": {
    "id": "0ca81597-e11c-443b-b085-e889e22bd931"
   },
   "source": [
    "`-` observation의 차원은 $784$가 아니라 $1\\times (28\\times 28)$이 되어야 맞다. \n",
    "- 이는 흑백으로 했을때, 빛의 3원색 조화 개념이 들어오면 3배로 많아질 수 있다."
   ]
  },
  {
   "cell_type": "code",
   "execution_count": 15,
   "id": "76cfc11f-7f0d-45cd-9366-f56df02ef344",
   "metadata": {
    "id": "76cfc11f-7f0d-45cd-9366-f56df02ef344",
    "outputId": "7ddded7b-6ecf-4861-c22d-4e98e31416a6"
   },
   "outputs": [
    {
     "data": {
      "text/plain": [
       "torch.Size([12396, 784])"
      ]
     },
     "execution_count": 15,
     "metadata": {},
     "output_type": "execute_result"
    }
   ],
   "source": [
    "X.shape"
   ]
  },
  {
   "cell_type": "code",
   "execution_count": 16,
   "id": "6a6d8c94-b593-4aed-a09d-05329893066b",
   "metadata": {
    "id": "6a6d8c94-b593-4aed-a09d-05329893066b"
   },
   "outputs": [],
   "source": [
    "X=X.reshape(12396,1,28,28)"
   ]
  },
  {
   "cell_type": "code",
   "execution_count": 17,
   "id": "7d032317-7208-4f6f-be63-88feb59578d0",
   "metadata": {
    "id": "7d032317-7208-4f6f-be63-88feb59578d0",
    "outputId": "18b7944f-ae07-47c8-bf3d-8b9db9057304"
   },
   "outputs": [
    {
     "data": {
      "text/plain": [
       "torch.Size([12396, 1, 28, 28])"
      ]
     },
     "execution_count": 17,
     "metadata": {},
     "output_type": "execute_result"
    }
   ],
   "source": [
    "X.shape"
   ]
  },
  {
   "cell_type": "code",
   "execution_count": 18,
   "id": "af064e8f-914b-49e3-8ef8-b128dc52fc08",
   "metadata": {
    "id": "af064e8f-914b-49e3-8ef8-b128dc52fc08",
    "outputId": "fc03a541-ad64-4bbd-8e78-a4233d5bbb08"
   },
   "outputs": [
    {
     "data": {
      "text/plain": [
       "<matplotlib.image.AxesImage at 0x7f15f0adef10>"
      ]
     },
     "execution_count": 18,
     "metadata": {},
     "output_type": "execute_result"
    },
    {
     "data": {
      "image/png": "[encoded data removed]",
      "text/plain": [
       "<Figure size 432x288 with 1 Axes>"
      ]
     },
     "metadata": {
      "needs_background": "light"
     },
     "output_type": "display_data"
    }
   ],
   "source": [
    "plt.imshow(X[776][0])"
   ]
  },
  {
   "cell_type": "markdown",
   "id": "5b558fdd-b2df-431a-9d40-ba991269e9e2",
   "metadata": {
    "id": "5b558fdd-b2df-431a-9d40-ba991269e9e2",
    "tags": []
   },
   "source": [
    "### 선형변환 대신에 2d convolution with windowsize=5"
   ]
  },
  {
   "cell_type": "code",
   "execution_count": 21,
   "id": "a87215ba-71a0-4aea-99a8-2e4bac0a656b",
   "metadata": {
    "scrolled": true,
    "tags": []
   },
   "outputs": [
    {
     "data": {
      "text/plain": [
       "\u001b[0;31mInit signature:\u001b[0m\n",
       "\u001b[0mtorch\u001b[0m\u001b[0;34m.\u001b[0m\u001b[0mnn\u001b[0m\u001b[0;34m.\u001b[0m\u001b[0mConv2d\u001b[0m\u001b[0;34m(\u001b[0m\u001b[0;34m\u001b[0m\n",
       "\u001b[0;34m\u001b[0m    \u001b[0min_channels\u001b[0m\u001b[0;34m:\u001b[0m \u001b[0mint\u001b[0m\u001b[0;34m,\u001b[0m\u001b[0;34m\u001b[0m\n",
       "\u001b[0;34m\u001b[0m    \u001b[0mout_channels\u001b[0m\u001b[0;34m:\u001b[0m \u001b[0mint\u001b[0m\u001b[0;34m,\u001b[0m\u001b[0;34m\u001b[0m\n",
       "\u001b[0;34m\u001b[0m    \u001b[0mkernel_size\u001b[0m\u001b[0;34m:\u001b[0m \u001b[0mUnion\u001b[0m\u001b[0;34m[\u001b[0m\u001b[0mint\u001b[0m\u001b[0;34m,\u001b[0m \u001b[0mTuple\u001b[0m\u001b[0;34m[\u001b[0m\u001b[0mint\u001b[0m\u001b[0;34m,\u001b[0m \u001b[0mint\u001b[0m\u001b[0;34m]\u001b[0m\u001b[0;34m]\u001b[0m\u001b[0;34m,\u001b[0m\u001b[0;34m\u001b[0m\n",
       "\u001b[0;34m\u001b[0m    \u001b[0mstride\u001b[0m\u001b[0;34m:\u001b[0m \u001b[0mUnion\u001b[0m\u001b[0;34m[\u001b[0m\u001b[0mint\u001b[0m\u001b[0;34m,\u001b[0m \u001b[0mTuple\u001b[0m\u001b[0;34m[\u001b[0m\u001b[0mint\u001b[0m\u001b[0;34m,\u001b[0m \u001b[0mint\u001b[0m\u001b[0;34m]\u001b[0m\u001b[0;34m]\u001b[0m \u001b[0;34m=\u001b[0m \u001b[0;36m1\u001b[0m\u001b[0;34m,\u001b[0m\u001b[0;34m\u001b[0m\n",
       "\u001b[0;34m\u001b[0m    \u001b[0mpadding\u001b[0m\u001b[0;34m:\u001b[0m \u001b[0mUnion\u001b[0m\u001b[0;34m[\u001b[0m\u001b[0mstr\u001b[0m\u001b[0;34m,\u001b[0m \u001b[0mint\u001b[0m\u001b[0;34m,\u001b[0m \u001b[0mTuple\u001b[0m\u001b[0;34m[\u001b[0m\u001b[0mint\u001b[0m\u001b[0;34m,\u001b[0m \u001b[0mint\u001b[0m\u001b[0;34m]\u001b[0m\u001b[0;34m]\u001b[0m \u001b[0;34m=\u001b[0m \u001b[0;36m0\u001b[0m\u001b[0;34m,\u001b[0m\u001b[0;34m\u001b[0m\n",
       "\u001b[0;34m\u001b[0m    \u001b[0mdilation\u001b[0m\u001b[0;34m:\u001b[0m \u001b[0mUnion\u001b[0m\u001b[0;34m[\u001b[0m\u001b[0mint\u001b[0m\u001b[0;34m,\u001b[0m \u001b[0mTuple\u001b[0m\u001b[0;34m[\u001b[0m\u001b[0mint\u001b[0m\u001b[0;34m,\u001b[0m \u001b[0mint\u001b[0m\u001b[0;34m]\u001b[0m\u001b[0;34m]\u001b[0m \u001b[0;34m=\u001b[0m \u001b[0;36m1\u001b[0m\u001b[0;34m,\u001b[0m\u001b[0;34m\u001b[0m\n",
       "\u001b[0;34m\u001b[0m    \u001b[0mgroups\u001b[0m\u001b[0;34m:\u001b[0m \u001b[0mint\u001b[0m \u001b[0;34m=\u001b[0m \u001b[0;36m1\u001b[0m\u001b[0;34m,\u001b[0m\u001b[0;34m\u001b[0m\n",
       "\u001b[0;34m\u001b[0m    \u001b[0mbias\u001b[0m\u001b[0;34m:\u001b[0m \u001b[0mbool\u001b[0m \u001b[0;34m=\u001b[0m \u001b[0;32mTrue\u001b[0m\u001b[0;34m,\u001b[0m\u001b[0;34m\u001b[0m\n",
       "\u001b[0;34m\u001b[0m    \u001b[0mpadding_mode\u001b[0m\u001b[0;34m:\u001b[0m \u001b[0mstr\u001b[0m \u001b[0;34m=\u001b[0m \u001b[0;34m'zeros'\u001b[0m\u001b[0;34m,\u001b[0m\u001b[0;34m\u001b[0m\n",
       "\u001b[0;34m\u001b[0m    \u001b[0mdevice\u001b[0m\u001b[0;34m=\u001b[0m\u001b[0;32mNone\u001b[0m\u001b[0;34m,\u001b[0m\u001b[0;34m\u001b[0m\n",
       "\u001b[0;34m\u001b[0m    \u001b[0mdtype\u001b[0m\u001b[0;34m=\u001b[0m\u001b[0;32mNone\u001b[0m\u001b[0;34m,\u001b[0m\u001b[0;34m\u001b[0m\n",
       "\u001b[0;34m\u001b[0m\u001b[0;34m)\u001b[0m \u001b[0;34m->\u001b[0m \u001b[0;32mNone\u001b[0m\u001b[0;34m\u001b[0m\u001b[0;34m\u001b[0m\u001b[0m\n",
       "\u001b[0;31mDocstring:\u001b[0m     \n",
       "Applies a 2D convolution over an input signal composed of several input\n",
       "planes.\n",
       "\n",
       "In the simplest case, the output value of the layer with input size\n",
       ":math:`(N, C_{\\text{in}}, H, W)` and output :math:`(N, C_{\\text{out}}, H_{\\text{out}}, W_{\\text{out}})`\n",
       "can be precisely described as:\n",
       "\n",
       ".. math::\n",
       "    \\text{out}(N_i, C_{\\text{out}_j}) = \\text{bias}(C_{\\text{out}_j}) +\n",
       "    \\sum_{k = 0}^{C_{\\text{in}} - 1} \\text{weight}(C_{\\text{out}_j}, k) \\star \\text{input}(N_i, k)\n",
       "\n",
       "\n",
       "where :math:`\\star` is the valid 2D `cross-correlation`_ operator,\n",
       ":math:`N` is a batch size, :math:`C` denotes a number of channels,\n",
       ":math:`H` is a height of input planes in pixels, and :math:`W` is\n",
       "width in pixels.\n",
       "\n",
       "\n",
       "This module supports :ref:`TensorFloat32<tf32_on_ampere>`.\n",
       "\n",
       "* :attr:`stride` controls the stride for the cross-correlation, a single\n",
       "  number or a tuple.\n",
       "\n",
       "* :attr:`padding` controls the amount of padding applied to the input. It\n",
       "  can be either a string {'valid', 'same'} or a tuple of ints giving the\n",
       "  amount of implicit padding applied on both sides.\n",
       "\n",
       "* :attr:`dilation` controls the spacing between the kernel points; also\n",
       "  known as the à trous algorithm. It is harder to describe, but this `link`_\n",
       "  has a nice visualization of what :attr:`dilation` does.\n",
       "\n",
       "* :attr:`groups` controls the connections between inputs and outputs.\n",
       "  :attr:`in_channels` and :attr:`out_channels` must both be divisible by\n",
       "  :attr:`groups`. For example,\n",
       "\n",
       "    * At groups=1, all inputs are convolved to all outputs.\n",
       "    * At groups=2, the operation becomes equivalent to having two conv\n",
       "      layers side by side, each seeing half the input channels\n",
       "      and producing half the output channels, and both subsequently\n",
       "      concatenated.\n",
       "    * At groups= :attr:`in_channels`, each input channel is convolved with\n",
       "      its own set of filters (of size\n",
       "      :math:`\\frac{\\text{out\\_channels}}{\\text{in\\_channels}}`).\n",
       "\n",
       "The parameters :attr:`kernel_size`, :attr:`stride`, :attr:`padding`, :attr:`dilation` can either be:\n",
       "\n",
       "    - a single ``int`` -- in which case the same value is used for the height and width dimension\n",
       "    - a ``tuple`` of two ints -- in which case, the first `int` is used for the height dimension,\n",
       "      and the second `int` for the width dimension\n",
       "\n",
       "Note:\n",
       "    When `groups == in_channels` and `out_channels == K * in_channels`,\n",
       "    where `K` is a positive integer, this operation is also known as a \"depthwise convolution\".\n",
       "\n",
       "    In other words, for an input of size :math:`(N, C_{in}, L_{in})`,\n",
       "    a depthwise convolution with a depthwise multiplier `K` can be performed with the arguments\n",
       "    :math:`(C_\\text{in}=C_\\text{in}, C_\\text{out}=C_\\text{in} \\times \\text{K}, ..., \\text{groups}=C_\\text{in})`.\n",
       "\n",
       "Note:\n",
       "    In some circumstances when given tensors on a CUDA device and using CuDNN, this operator may select a nondeterministic algorithm to increase performance. If this is undesirable, you can try to make the operation deterministic (potentially at a performance cost) by setting ``torch.backends.cudnn.deterministic = True``. See :doc:`/notes/randomness` for more information.\n",
       "\n",
       "Note:\n",
       "    ``padding='valid'`` is the same as no padding. ``padding='same'`` pads\n",
       "    the input so the output has the shape as the input. However, this mode\n",
       "    doesn't support any stride values other than 1.\n",
       "\n",
       "Args:\n",
       "    in_channels (int): Number of channels in the input image\n",
       "    out_channels (int): Number of channels produced by the convolution\n",
       "    kernel_size (int or tuple): Size of the convolving kernel\n",
       "    stride (int or tuple, optional): Stride of the convolution. Default: 1\n",
       "    padding (int, tuple or str, optional): Padding added to all four sides of\n",
       "        the input. Default: 0\n",
       "    padding_mode (string, optional): ``'zeros'``, ``'reflect'``,\n",
       "        ``'replicate'`` or ``'circular'``. Default: ``'zeros'``\n",
       "    dilation (int or tuple, optional): Spacing between kernel elements. Default: 1\n",
       "    groups (int, optional): Number of blocked connections from input\n",
       "        channels to output channels. Default: 1\n",
       "    bias (bool, optional): If ``True``, adds a learnable bias to the\n",
       "        output. Default: ``True``\n",
       "\n",
       "\n",
       "Shape:\n",
       "    - Input: :math:`(N, C_{in}, H_{in}, W_{in})`\n",
       "    - Output: :math:`(N, C_{out}, H_{out}, W_{out})` where\n",
       "\n",
       "      .. math::\n",
       "          H_{out} = \\left\\lfloor\\frac{H_{in}  + 2 \\times \\text{padding}[0] - \\text{dilation}[0]\n",
       "                    \\times (\\text{kernel\\_size}[0] - 1) - 1}{\\text{stride}[0]} + 1\\right\\rfloor\n",
       "\n",
       "      .. math::\n",
       "          W_{out} = \\left\\lfloor\\frac{W_{in}  + 2 \\times \\text{padding}[1] - \\text{dilation}[1]\n",
       "                    \\times (\\text{kernel\\_size}[1] - 1) - 1}{\\text{stride}[1]} + 1\\right\\rfloor\n",
       "\n",
       "Attributes:\n",
       "    weight (Tensor): the learnable weights of the module of shape\n",
       "        :math:`(\\text{out\\_channels}, \\frac{\\text{in\\_channels}}{\\text{groups}},`\n",
       "        :math:`\\text{kernel\\_size[0]}, \\text{kernel\\_size[1]})`.\n",
       "        The values of these weights are sampled from\n",
       "        :math:`\\mathcal{U}(-\\sqrt{k}, \\sqrt{k})` where\n",
       "        :math:`k = \\frac{groups}{C_\\text{in} * \\prod_{i=0}^{1}\\text{kernel\\_size}[i]}`\n",
       "    bias (Tensor):   the learnable bias of the module of shape\n",
       "        (out_channels). If :attr:`bias` is ``True``,\n",
       "        then the values of these weights are\n",
       "        sampled from :math:`\\mathcal{U}(-\\sqrt{k}, \\sqrt{k})` where\n",
       "        :math:`k = \\frac{groups}{C_\\text{in} * \\prod_{i=0}^{1}\\text{kernel\\_size}[i]}`\n",
       "\n",
       "Examples:\n",
       "\n",
       "    >>> # With square kernels and equal stride\n",
       "    >>> m = nn.Conv2d(16, 33, 3, stride=2)\n",
       "    >>> # non-square kernels and unequal stride and with padding\n",
       "    >>> m = nn.Conv2d(16, 33, (3, 5), stride=(2, 1), padding=(4, 2))\n",
       "    >>> # non-square kernels and unequal stride and with padding and dilation\n",
       "    >>> m = nn.Conv2d(16, 33, (3, 5), stride=(2, 1), padding=(4, 2), dilation=(3, 1))\n",
       "    >>> input = torch.randn(20, 16, 50, 100)\n",
       "    >>> output = m(input)\n",
       "\n",
       ".. _cross-correlation:\n",
       "    https://en.wikipedia.org/wiki/Cross-correlation\n",
       "\n",
       ".. _link:\n",
       "    https://github.com/vdumoulin/conv_arithmetic/blob/master/README.md\n",
       "\u001b[0;31mInit docstring:\u001b[0m Initializes internal Module state, shared by both nn.Module and ScriptModule.\n",
       "\u001b[0;31mFile:\u001b[0m           ~/anaconda3/envs/csy/lib/python3.8/site-packages/torch/nn/modules/conv.py\n",
       "\u001b[0;31mType:\u001b[0m           type\n",
       "\u001b[0;31mSubclasses:\u001b[0m     LazyConv2d, Conv2d, ConvBn2d, Conv2d, Conv2d\n"
      ]
     },
     "metadata": {},
     "output_type": "display_data"
    }
   ],
   "source": [
    "torch.nn.Conv2d?"
   ]
  },
  {
   "cell_type": "code",
   "execution_count": 22,
   "id": "2560d6c5-2edb-4ce0-aa1a-976620f1f16f",
   "metadata": {
    "id": "2560d6c5-2edb-4ce0-aa1a-976620f1f16f"
   },
   "outputs": [],
   "source": [
    "c1=torch.nn.Conv2d(1,16,5) # 입력채널=1 (흑백이므로), 출력채널=16, 윈도우크기5 "
   ]
  },
  {
   "cell_type": "code",
   "execution_count": 24,
   "id": "86174d8d-8536-45af-959f-5c25ca60f63c",
   "metadata": {
    "scrolled": true,
    "tags": []
   },
   "outputs": [
    {
     "data": {
      "text/plain": [
       "tensor([[[[-0.0881, -0.0881, -0.0881,  ..., -0.0881, -0.0881, -0.0881],\n",
       "          [-0.0881, -0.0881, -0.0881,  ..., -0.0881, -0.0881, -0.0881],\n",
       "          [-0.0881, -0.0881, -0.0881,  ..., -0.0881, -0.0881, -0.0881],\n",
       "          ...,\n",
       "          [-0.0881, -0.0881, -0.0881,  ..., -0.0881, -0.0881, -0.0881],\n",
       "          [-0.0881, -0.0881, -0.0881,  ..., -0.0881, -0.0881, -0.0881],\n",
       "          [-0.0881, -0.0881, -0.0881,  ..., -0.0881, -0.0881, -0.0881]],\n",
       "\n",
       "         [[ 0.0066,  0.0066,  0.0066,  ...,  0.0066,  0.0066,  0.0066],\n",
       "          [ 0.0066,  0.0066,  0.0066,  ...,  0.0066,  0.0066,  0.0066],\n",
       "          [ 0.0066,  0.0066,  0.0066,  ...,  0.0066,  0.0066,  0.0066],\n",
       "          ...,\n",
       "          [ 0.0066,  0.0066,  0.0066,  ...,  0.0066,  0.0066,  0.0066],\n",
       "          [ 0.0066,  0.0066,  0.0066,  ...,  0.0066,  0.0066,  0.0066],\n",
       "          [ 0.0066,  0.0066,  0.0066,  ...,  0.0066,  0.0066,  0.0066]],\n",
       "\n",
       "         [[-0.0872, -0.0872, -0.0872,  ..., -0.0872, -0.0872, -0.0872],\n",
       "          [-0.0872, -0.0872, -0.0872,  ..., -0.0872, -0.0872, -0.0872],\n",
       "          [-0.0872, -0.0872, -0.0872,  ..., -0.0872, -0.0872, -0.0872],\n",
       "          ...,\n",
       "          [-0.0872, -0.0872, -0.0872,  ..., -0.0872, -0.0872, -0.0872],\n",
       "          [-0.0872, -0.0872, -0.0872,  ..., -0.0872, -0.0872, -0.0872],\n",
       "          [-0.0872, -0.0872, -0.0872,  ..., -0.0872, -0.0872, -0.0872]],\n",
       "\n",
       "         ...,\n",
       "\n",
       "         [[ 0.1584,  0.1584,  0.1584,  ...,  0.1584,  0.1584,  0.1584],\n",
       "          [ 0.1584,  0.1584,  0.1584,  ...,  0.1584,  0.1584,  0.1584],\n",
       "          [ 0.1584,  0.1584,  0.1584,  ...,  0.1584,  0.1584,  0.1584],\n",
       "          ...,\n",
       "          [ 0.1584,  0.1584,  0.1584,  ...,  0.1584,  0.1584,  0.1584],\n",
       "          [ 0.1584,  0.1584,  0.1584,  ...,  0.1584,  0.1584,  0.1584],\n",
       "          [ 0.1584,  0.1584,  0.1584,  ...,  0.1584,  0.1584,  0.1584]],\n",
       "\n",
       "         [[ 0.0018,  0.0018,  0.0018,  ...,  0.0018,  0.0018,  0.0018],\n",
       "          [ 0.0018,  0.0018,  0.0018,  ...,  0.0018,  0.0018,  0.0018],\n",
       "          [ 0.0018,  0.0018,  0.0018,  ...,  0.0018,  0.0018,  0.0018],\n",
       "          ...,\n",
       "          [ 0.0018,  0.0018,  0.0018,  ...,  0.0018,  0.0018,  0.0018],\n",
       "          [ 0.0018,  0.0018,  0.0018,  ...,  0.0018,  0.0018,  0.0018],\n",
       "          [ 0.0018,  0.0018,  0.0018,  ...,  0.0018,  0.0018,  0.0018]],\n",
       "\n",
       "         [[ 0.1960,  0.1960,  0.1960,  ...,  0.1960,  0.1960,  0.1960],\n",
       "          [ 0.1960,  0.1960,  0.1960,  ...,  0.1960,  0.1960,  0.1960],\n",
       "          [ 0.1960,  0.1960,  0.1960,  ...,  0.1960,  0.1960,  0.1960],\n",
       "          ...,\n",
       "          [ 0.1960,  0.1960,  0.1960,  ...,  0.1960,  0.1960,  0.1960],\n",
       "          [ 0.1960,  0.1960,  0.1960,  ...,  0.1960,  0.1960,  0.1960],\n",
       "          [ 0.1960,  0.1960,  0.1960,  ...,  0.1960,  0.1960,  0.1960]]],\n",
       "\n",
       "\n",
       "        [[[-0.0881, -0.0881, -0.0881,  ..., -0.0881, -0.0881, -0.0881],\n",
       "          [-0.0881, -0.0881, -0.0881,  ..., -0.0881, -0.0881, -0.0881],\n",
       "          [-0.0881, -0.0881, -0.0881,  ..., -0.0881, -0.0881, -0.0881],\n",
       "          ...,\n",
       "          [-0.0881, -0.0881, -0.0881,  ..., -0.0881, -0.0881, -0.0881],\n",
       "          [-0.0881, -0.0881, -0.0881,  ..., -0.0881, -0.0881, -0.0881],\n",
       "          [-0.0881, -0.0881, -0.0881,  ..., -0.0881, -0.0881, -0.0881]],\n",
       "\n",
       "         [[ 0.0066,  0.0066,  0.0066,  ...,  0.0066,  0.0066,  0.0066],\n",
       "          [ 0.0066,  0.0066,  0.0066,  ...,  0.0066,  0.0066,  0.0066],\n",
       "          [ 0.0066,  0.0066,  0.0066,  ...,  0.0066,  0.0066,  0.0066],\n",
       "          ...,\n",
       "          [ 0.0066,  0.0066,  0.0066,  ...,  0.0066,  0.0066,  0.0066],\n",
       "          [ 0.0066,  0.0066,  0.0066,  ...,  0.0066,  0.0066,  0.0066],\n",
       "          [ 0.0066,  0.0066,  0.0066,  ...,  0.0066,  0.0066,  0.0066]],\n",
       "\n",
       "         [[-0.0872, -0.0872, -0.0872,  ..., -0.0872, -0.0872, -0.0872],\n",
       "          [-0.0872, -0.0872, -0.0872,  ..., -0.0872, -0.0872, -0.0872],\n",
       "          [-0.0872, -0.0872, -0.0872,  ..., -0.0872, -0.0872, -0.0872],\n",
       "          ...,\n",
       "          [-0.0872, -0.0872, -0.0872,  ..., -0.0872, -0.0872, -0.0872],\n",
       "          [-0.0872, -0.0872, -0.0872,  ..., -0.0872, -0.0872, -0.0872],\n",
       "          [-0.0872, -0.0872, -0.0872,  ..., -0.0872, -0.0872, -0.0872]],\n",
       "\n",
       "         ...,\n",
       "\n",
       "         [[ 0.1584,  0.1584,  0.1584,  ...,  0.1584,  0.1584,  0.1584],\n",
       "          [ 0.1584,  0.1584,  0.1584,  ...,  0.1584,  0.1584,  0.1584],\n",
       "          [ 0.1584,  0.1584,  0.1584,  ...,  0.1584,  0.1584,  0.1584],\n",
       "          ...,\n",
       "          [ 0.1584,  0.1584,  0.1584,  ...,  0.1584,  0.1584,  0.1584],\n",
       "          [ 0.1584,  0.1584,  0.1584,  ...,  0.1584,  0.1584,  0.1584],\n",
       "          [ 0.1584,  0.1584,  0.1584,  ...,  0.1584,  0.1584,  0.1584]],\n",
       "\n",
       "         [[ 0.0018,  0.0018,  0.0018,  ...,  0.0018,  0.0018,  0.0018],\n",
       "          [ 0.0018,  0.0018,  0.0018,  ...,  0.0018,  0.0018,  0.0018],\n",
       "          [ 0.0018,  0.0018,  0.0018,  ...,  0.0018,  0.0018,  0.0018],\n",
       "          ...,\n",
       "          [ 0.0018,  0.0018,  0.0018,  ...,  0.0018,  0.0018,  0.0018],\n",
       "          [ 0.0018,  0.0018,  0.0018,  ...,  0.0018,  0.0018,  0.0018],\n",
       "          [ 0.0018,  0.0018,  0.0018,  ...,  0.0018,  0.0018,  0.0018]],\n",
       "\n",
       "         [[ 0.1960,  0.1960,  0.1960,  ...,  0.1960,  0.1960,  0.1960],\n",
       "          [ 0.1960,  0.1960,  0.1960,  ...,  0.1960,  0.1960,  0.1960],\n",
       "          [ 0.1960,  0.1960,  0.1960,  ...,  0.1960,  0.1960,  0.1960],\n",
       "          ...,\n",
       "          [ 0.1960,  0.1960,  0.1960,  ...,  0.1960,  0.1960,  0.1960],\n",
       "          [ 0.1960,  0.1960,  0.1960,  ...,  0.1960,  0.1960,  0.1960],\n",
       "          [ 0.1960,  0.1960,  0.1960,  ...,  0.1960,  0.1960,  0.1960]]],\n",
       "\n",
       "\n",
       "        [[[-0.0881, -0.0881, -0.0881,  ..., -0.0881, -0.0881, -0.0881],\n",
       "          [-0.0881, -0.0881, -0.0881,  ..., -0.0881, -0.0881, -0.0881],\n",
       "          [-0.0881, -0.0881, -0.0881,  ..., -0.0881, -0.0881, -0.0881],\n",
       "          ...,\n",
       "          [-0.0881, -0.0881, -0.0881,  ..., -0.0881, -0.0881, -0.0881],\n",
       "          [-0.0881, -0.0881, -0.0881,  ..., -0.0881, -0.0881, -0.0881],\n",
       "          [-0.0881, -0.0881, -0.0881,  ..., -0.0881, -0.0881, -0.0881]],\n",
       "\n",
       "         [[ 0.0066,  0.0066,  0.0066,  ...,  0.0066,  0.0066,  0.0066],\n",
       "          [ 0.0066,  0.0066,  0.0066,  ...,  0.0066,  0.0066,  0.0066],\n",
       "          [ 0.0066,  0.0066,  0.0066,  ...,  0.0066,  0.0066,  0.0066],\n",
       "          ...,\n",
       "          [ 0.0066,  0.0066,  0.0066,  ...,  0.0066,  0.0066,  0.0066],\n",
       "          [ 0.0066,  0.0066,  0.0066,  ...,  0.0066,  0.0066,  0.0066],\n",
       "          [ 0.0066,  0.0066,  0.0066,  ...,  0.0066,  0.0066,  0.0066]],\n",
       "\n",
       "         [[-0.0872, -0.0872, -0.0872,  ..., -0.0872, -0.0872, -0.0872],\n",
       "          [-0.0872, -0.0872, -0.0872,  ..., -0.0872, -0.0872, -0.0872],\n",
       "          [-0.0872, -0.0872, -0.0872,  ..., -0.0872, -0.0872, -0.0872],\n",
       "          ...,\n",
       "          [-0.0872, -0.0872, -0.0872,  ..., -0.0872, -0.0872, -0.0872],\n",
       "          [-0.0872, -0.0872, -0.0872,  ..., -0.0872, -0.0872, -0.0872],\n",
       "          [-0.0872, -0.0872, -0.0872,  ..., -0.0872, -0.0872, -0.0872]],\n",
       "\n",
       "         ...,\n",
       "\n",
       "         [[ 0.1584,  0.1584,  0.1584,  ...,  0.1584,  0.1584,  0.1584],\n",
       "          [ 0.1584,  0.1584,  0.1584,  ...,  0.1584,  0.1584,  0.1584],\n",
       "          [ 0.1584,  0.1584,  0.1584,  ...,  0.1584,  0.1584,  0.1584],\n",
       "          ...,\n",
       "          [ 0.1584,  0.1584,  0.1584,  ...,  0.1584,  0.1584,  0.1584],\n",
       "          [ 0.1584,  0.1584,  0.1584,  ...,  0.1584,  0.1584,  0.1584],\n",
       "          [ 0.1584,  0.1584,  0.1584,  ...,  0.1584,  0.1584,  0.1584]],\n",
       "\n",
       "         [[ 0.0018,  0.0018,  0.0018,  ...,  0.0018,  0.0018,  0.0018],\n",
       "          [ 0.0018,  0.0018,  0.0018,  ...,  0.0018,  0.0018,  0.0018],\n",
       "          [ 0.0018,  0.0018,  0.0018,  ...,  0.0018,  0.0018,  0.0018],\n",
       "          ...,\n",
       "          [ 0.0018,  0.0018,  0.0018,  ...,  0.0018,  0.0018,  0.0018],\n",
       "          [ 0.0018,  0.0018,  0.0018,  ...,  0.0018,  0.0018,  0.0018],\n",
       "          [ 0.0018,  0.0018,  0.0018,  ...,  0.0018,  0.0018,  0.0018]],\n",
       "\n",
       "         [[ 0.1960,  0.1960,  0.1960,  ...,  0.1960,  0.1960,  0.1960],\n",
       "          [ 0.1960,  0.1960,  0.1960,  ...,  0.1960,  0.1960,  0.1960],\n",
       "          [ 0.1960,  0.1960,  0.1960,  ...,  0.1960,  0.1960,  0.1960],\n",
       "          ...,\n",
       "          [ 0.1960,  0.1960,  0.1960,  ...,  0.1960,  0.1960,  0.1960],\n",
       "          [ 0.1960,  0.1960,  0.1960,  ...,  0.1960,  0.1960,  0.1960],\n",
       "          [ 0.1960,  0.1960,  0.1960,  ...,  0.1960,  0.1960,  0.1960]]],\n",
       "\n",
       "\n",
       "        ...,\n",
       "\n",
       "\n",
       "        [[[-0.0881, -0.0881, -0.0881,  ..., -0.0881, -0.0881, -0.0881],\n",
       "          [-0.0881, -0.0881, -0.0881,  ..., -0.0881, -0.0881, -0.0881],\n",
       "          [-0.0881, -0.0881, -0.0881,  ..., -0.0881, -0.0881, -0.0881],\n",
       "          ...,\n",
       "          [-0.0881, -0.0881, -0.0881,  ..., -0.0881, -0.0881, -0.0881],\n",
       "          [-0.0881, -0.0881, -0.0881,  ..., -0.0881, -0.0881, -0.0881],\n",
       "          [-0.0881, -0.0881, -0.0881,  ..., -0.0881, -0.0881, -0.0881]],\n",
       "\n",
       "         [[ 0.0066,  0.0066,  0.0066,  ...,  0.0066,  0.0066,  0.0066],\n",
       "          [ 0.0066,  0.0066,  0.0066,  ...,  0.0066,  0.0066,  0.0066],\n",
       "          [ 0.0066,  0.0066,  0.0066,  ...,  0.0066,  0.0066,  0.0066],\n",
       "          ...,\n",
       "          [ 0.0066,  0.0066,  0.0066,  ...,  0.0066,  0.0066,  0.0066],\n",
       "          [ 0.0066,  0.0066,  0.0066,  ...,  0.0066,  0.0066,  0.0066],\n",
       "          [ 0.0066,  0.0066,  0.0066,  ...,  0.0066,  0.0066,  0.0066]],\n",
       "\n",
       "         [[-0.0872, -0.0872, -0.0872,  ..., -0.0872, -0.0872, -0.0872],\n",
       "          [-0.0872, -0.0872, -0.0872,  ..., -0.0872, -0.0872, -0.0872],\n",
       "          [-0.0872, -0.0872, -0.0872,  ..., -0.0872, -0.0872, -0.0872],\n",
       "          ...,\n",
       "          [-0.0872, -0.0872, -0.0872,  ..., -0.0872, -0.0872, -0.0872],\n",
       "          [-0.0872, -0.0872, -0.0872,  ..., -0.0872, -0.0872, -0.0872],\n",
       "          [-0.0872, -0.0872, -0.0872,  ..., -0.0872, -0.0872, -0.0872]],\n",
       "\n",
       "         ...,\n",
       "\n",
       "         [[ 0.1584,  0.1584,  0.1584,  ...,  0.1584,  0.1584,  0.1584],\n",
       "          [ 0.1584,  0.1584,  0.1584,  ...,  0.1584,  0.1584,  0.1584],\n",
       "          [ 0.1584,  0.1584,  0.1584,  ...,  0.1584,  0.1584,  0.1584],\n",
       "          ...,\n",
       "          [ 0.1584,  0.1584,  0.1584,  ...,  0.1584,  0.1584,  0.1584],\n",
       "          [ 0.1584,  0.1584,  0.1584,  ...,  0.1584,  0.1584,  0.1584],\n",
       "          [ 0.1584,  0.1584,  0.1584,  ...,  0.1584,  0.1584,  0.1584]],\n",
       "\n",
       "         [[ 0.0018,  0.0018,  0.0018,  ...,  0.0018,  0.0018,  0.0018],\n",
       "          [ 0.0018,  0.0018,  0.0018,  ...,  0.0018,  0.0018,  0.0018],\n",
       "          [ 0.0018,  0.0018,  0.0018,  ...,  0.0018,  0.0018,  0.0018],\n",
       "          ...,\n",
       "          [ 0.0018,  0.0018,  0.0018,  ...,  0.0018,  0.0018,  0.0018],\n",
       "          [ 0.0018,  0.0018,  0.0018,  ...,  0.0018,  0.0018,  0.0018],\n",
       "          [ 0.0018,  0.0018,  0.0018,  ...,  0.0018,  0.0018,  0.0018]],\n",
       "\n",
       "         [[ 0.1960,  0.1960,  0.1960,  ...,  0.1960,  0.1960,  0.1960],\n",
       "          [ 0.1960,  0.1960,  0.1960,  ...,  0.1960,  0.1960,  0.1960],\n",
       "          [ 0.1960,  0.1960,  0.1960,  ...,  0.1960,  0.1960,  0.1960],\n",
       "          ...,\n",
       "          [ 0.1960,  0.1960,  0.1960,  ...,  0.1960,  0.1960,  0.1960],\n",
       "          [ 0.1960,  0.1960,  0.1960,  ...,  0.1960,  0.1960,  0.1960],\n",
       "          [ 0.1960,  0.1960,  0.1960,  ...,  0.1960,  0.1960,  0.1960]]],\n",
       "\n",
       "\n",
       "        [[[-0.0881, -0.0881, -0.0881,  ..., -0.0881, -0.0881, -0.0881],\n",
       "          [-0.0881, -0.0881, -0.0881,  ..., -0.0881, -0.0881, -0.0881],\n",
       "          [-0.0881, -0.0881, -0.0881,  ..., -0.0881, -0.0881, -0.0881],\n",
       "          ...,\n",
       "          [-0.0881, -0.0881, -0.0881,  ..., -0.0881, -0.0881, -0.0881],\n",
       "          [-0.0881, -0.0881, -0.0881,  ..., -0.0881, -0.0881, -0.0881],\n",
       "          [-0.0881, -0.0881, -0.0881,  ..., -0.0881, -0.0881, -0.0881]],\n",
       "\n",
       "         [[ 0.0066,  0.0066,  0.0066,  ...,  0.0066,  0.0066,  0.0066],\n",
       "          [ 0.0066,  0.0066,  0.0066,  ...,  0.0066,  0.0066,  0.0066],\n",
       "          [ 0.0066,  0.0066,  0.0066,  ...,  0.0066,  0.0066,  0.0066],\n",
       "          ...,\n",
       "          [ 0.0066,  0.0066,  0.0066,  ...,  0.0066,  0.0066,  0.0066],\n",
       "          [ 0.0066,  0.0066,  0.0066,  ...,  0.0066,  0.0066,  0.0066],\n",
       "          [ 0.0066,  0.0066,  0.0066,  ...,  0.0066,  0.0066,  0.0066]],\n",
       "\n",
       "         [[-0.0872, -0.0872, -0.0872,  ..., -0.0872, -0.0872, -0.0872],\n",
       "          [-0.0872, -0.0872, -0.0872,  ..., -0.0872, -0.0872, -0.0872],\n",
       "          [-0.0872, -0.0872, -0.0872,  ..., -0.0872, -0.0872, -0.0872],\n",
       "          ...,\n",
       "          [-0.0872, -0.0872, -0.0872,  ..., -0.0872, -0.0872, -0.0872],\n",
       "          [-0.0872, -0.0872, -0.0872,  ..., -0.0872, -0.0872, -0.0872],\n",
       "          [-0.0872, -0.0872, -0.0872,  ..., -0.0872, -0.0872, -0.0872]],\n",
       "\n",
       "         ...,\n",
       "\n",
       "         [[ 0.1584,  0.1584,  0.1584,  ...,  0.1584,  0.1584,  0.1584],\n",
       "          [ 0.1584,  0.1584,  0.1584,  ...,  0.1584,  0.1584,  0.1584],\n",
       "          [ 0.1584,  0.1584,  0.1584,  ...,  0.1584,  0.1584,  0.1584],\n",
       "          ...,\n",
       "          [ 0.1584,  0.1584,  0.1584,  ...,  0.1584,  0.1584,  0.1584],\n",
       "          [ 0.1584,  0.1584,  0.1584,  ...,  0.1584,  0.1584,  0.1584],\n",
       "          [ 0.1584,  0.1584,  0.1584,  ...,  0.1584,  0.1584,  0.1584]],\n",
       "\n",
       "         [[ 0.0018,  0.0018,  0.0018,  ...,  0.0018,  0.0018,  0.0018],\n",
       "          [ 0.0018,  0.0018,  0.0018,  ...,  0.0018,  0.0018,  0.0018],\n",
       "          [ 0.0018,  0.0018,  0.0018,  ...,  0.0018,  0.0018,  0.0018],\n",
       "          ...,\n",
       "          [ 0.0018,  0.0018,  0.0018,  ...,  0.0018,  0.0018,  0.0018],\n",
       "          [ 0.0018,  0.0018,  0.0018,  ...,  0.0018,  0.0018,  0.0018],\n",
       "          [ 0.0018,  0.0018,  0.0018,  ...,  0.0018,  0.0018,  0.0018]],\n",
       "\n",
       "         [[ 0.1960,  0.1960,  0.1960,  ...,  0.1960,  0.1960,  0.1960],\n",
       "          [ 0.1960,  0.1960,  0.1960,  ...,  0.1960,  0.1960,  0.1960],\n",
       "          [ 0.1960,  0.1960,  0.1960,  ...,  0.1960,  0.1960,  0.1960],\n",
       "          ...,\n",
       "          [ 0.1960,  0.1960,  0.1960,  ...,  0.1960,  0.1960,  0.1960],\n",
       "          [ 0.1960,  0.1960,  0.1960,  ...,  0.1960,  0.1960,  0.1960],\n",
       "          [ 0.1960,  0.1960,  0.1960,  ...,  0.1960,  0.1960,  0.1960]]],\n",
       "\n",
       "\n",
       "        [[[-0.0881, -0.0881, -0.0881,  ..., -0.0881, -0.0881, -0.0881],\n",
       "          [-0.0881, -0.0881, -0.0881,  ..., -0.0881, -0.0881, -0.0881],\n",
       "          [-0.0881, -0.0881, -0.0881,  ..., -0.0881, -0.0881, -0.0881],\n",
       "          ...,\n",
       "          [-0.0881, -0.0881, -0.0881,  ..., -0.0881, -0.0881, -0.0881],\n",
       "          [-0.0881, -0.0881, -0.0881,  ..., -0.0881, -0.0881, -0.0881],\n",
       "          [-0.0881, -0.0881, -0.0881,  ..., -0.0881, -0.0881, -0.0881]],\n",
       "\n",
       "         [[ 0.0066,  0.0066,  0.0066,  ...,  0.0066,  0.0066,  0.0066],\n",
       "          [ 0.0066,  0.0066,  0.0066,  ...,  0.0066,  0.0066,  0.0066],\n",
       "          [ 0.0066,  0.0066,  0.0066,  ...,  0.0066,  0.0066,  0.0066],\n",
       "          ...,\n",
       "          [ 0.0066,  0.0066,  0.0066,  ...,  0.0066,  0.0066,  0.0066],\n",
       "          [ 0.0066,  0.0066,  0.0066,  ...,  0.0066,  0.0066,  0.0066],\n",
       "          [ 0.0066,  0.0066,  0.0066,  ...,  0.0066,  0.0066,  0.0066]],\n",
       "\n",
       "         [[-0.0872, -0.0872, -0.0872,  ..., -0.0872, -0.0872, -0.0872],\n",
       "          [-0.0872, -0.0872, -0.0872,  ..., -0.0872, -0.0872, -0.0872],\n",
       "          [-0.0872, -0.0872, -0.0872,  ..., -0.0872, -0.0872, -0.0872],\n",
       "          ...,\n",
       "          [-0.0872, -0.0872, -0.0872,  ..., -0.0872, -0.0872, -0.0872],\n",
       "          [-0.0872, -0.0872, -0.0872,  ..., -0.0872, -0.0872, -0.0872],\n",
       "          [-0.0872, -0.0872, -0.0872,  ..., -0.0872, -0.0872, -0.0872]],\n",
       "\n",
       "         ...,\n",
       "\n",
       "         [[ 0.1584,  0.1584,  0.1584,  ...,  0.1584,  0.1584,  0.1584],\n",
       "          [ 0.1584,  0.1584,  0.1584,  ...,  0.1584,  0.1584,  0.1584],\n",
       "          [ 0.1584,  0.1584,  0.1584,  ...,  0.1584,  0.1584,  0.1584],\n",
       "          ...,\n",
       "          [ 0.1584,  0.1584,  0.1584,  ...,  0.1584,  0.1584,  0.1584],\n",
       "          [ 0.1584,  0.1584,  0.1584,  ...,  0.1584,  0.1584,  0.1584],\n",
       "          [ 0.1584,  0.1584,  0.1584,  ...,  0.1584,  0.1584,  0.1584]],\n",
       "\n",
       "         [[ 0.0018,  0.0018,  0.0018,  ...,  0.0018,  0.0018,  0.0018],\n",
       "          [ 0.0018,  0.0018,  0.0018,  ...,  0.0018,  0.0018,  0.0018],\n",
       "          [ 0.0018,  0.0018,  0.0018,  ...,  0.0018,  0.0018,  0.0018],\n",
       "          ...,\n",
       "          [ 0.0018,  0.0018,  0.0018,  ...,  0.0018,  0.0018,  0.0018],\n",
       "          [ 0.0018,  0.0018,  0.0018,  ...,  0.0018,  0.0018,  0.0018],\n",
       "          [ 0.0018,  0.0018,  0.0018,  ...,  0.0018,  0.0018,  0.0018]],\n",
       "\n",
       "         [[ 0.1960,  0.1960,  0.1960,  ...,  0.1960,  0.1960,  0.1960],\n",
       "          [ 0.1960,  0.1960,  0.1960,  ...,  0.1960,  0.1960,  0.1960],\n",
       "          [ 0.1960,  0.1960,  0.1960,  ...,  0.1960,  0.1960,  0.1960],\n",
       "          ...,\n",
       "          [ 0.1960,  0.1960,  0.1960,  ...,  0.1960,  0.1960,  0.1960],\n",
       "          [ 0.1960,  0.1960,  0.1960,  ...,  0.1960,  0.1960,  0.1960],\n",
       "          [ 0.1960,  0.1960,  0.1960,  ...,  0.1960,  0.1960,  0.1960]]]],\n",
       "       grad_fn=<MkldnnConvolutionBackward0>)"
      ]
     },
     "execution_count": 24,
     "metadata": {},
     "output_type": "execute_result"
    }
   ],
   "source": [
    "c1(X)"
   ]
  },
  {
   "cell_type": "markdown",
   "id": "e197261b-2496-44fd-83fb-e2166ba6384a",
   "metadata": {},
   "source": [
    "- 이동평균 개념에서의 window size랑 비슷하네\n",
    "- ref: https://towardsdatascience.com/intuitively-understanding-convolutions-for-deep-learning-1f6f42faee1\n",
    "    - 선형변환한 예제 $\\sum{X*w}$\n",
    "    - 차원 변화(5*5 행렬인데 windowsize를 으로 주니까 3*3으로 변화)\n",
    "        - 우리의 경우 28*28 $\\to$ 24*24 (window size를 5로 주니까)"
   ]
  },
  {
   "cell_type": "code",
   "execution_count": 33,
   "id": "9e09c582-c405-4069-8bb9-2090df821af6",
   "metadata": {
    "id": "9e09c582-c405-4069-8bb9-2090df821af6",
    "outputId": "694cd227-10ed-471e-b882-e7742aed50a3"
   },
   "outputs": [
    {
     "data": {
      "text/plain": [
       "(torch.Size([12396, 1, 28, 28]), torch.Size([12396, 16, 24, 24]))"
      ]
     },
     "execution_count": 39,
     "metadata": {},
     "output_type": "execute_result"
    }
   ],
   "source": [
    "X.shape, c1(X).shape"
   ]
  },
  {
   "cell_type": "code",
   "execution_count": 42,
   "id": "9c01b542-912c-4afc-a86e-0f88cdc442a8",
   "metadata": {
    "id": "9c01b542-912c-4afc-a86e-0f88cdc442a8",
    "outputId": "e6933118-fe90-470d-cf09-968e3a95992f"
   },
   "outputs": [
    {
     "data": {
      "image/png": "[encoded data removed]",
      "text/plain": [
       "<Figure size 432x288 with 16 Axes>"
      ]
     },
     "metadata": {
      "needs_background": "light"
     },
     "output_type": "display_data"
    }
   ],
   "source": [
    "fig, axs = plt.subplots(4,4) \n",
    "k=0 \n",
    "for i in range(4):\n",
    "    for j in range(4):\n",
    "        axs[i,j].imshow(c1(X)[776][k].data) \n",
    "        k=k+1"
   ]
  },
  {
   "cell_type": "code",
   "execution_count": 43,
   "id": "64c568bd-1715-445f-b22d-0e22b8c586ec",
   "metadata": {
    "id": "64c568bd-1715-445f-b22d-0e22b8c586ec",
    "outputId": "b77d70e9-779c-442a-9353-1c6dbf34d942"
   },
   "outputs": [
    {
     "data": {
      "image/png": "[encoded data removed]",
      "text/plain": [
       "<Figure size 576x576 with 16 Axes>"
      ]
     },
     "execution_count": 43,
     "metadata": {},
     "output_type": "execute_result"
    }
   ],
   "source": [
    "fig.set_figheight(8)\n",
    "fig.set_figwidth(8)\n",
    "fig.tight_layout()\n",
    "fig"
   ]
  },
  {
   "cell_type": "markdown",
   "id": "96053552-8ec5-4737-b5cf-73d5eb128ffd",
   "metadata": {
    "id": "96053552-8ec5-4737-b5cf-73d5eb128ffd"
   },
   "source": [
    "### ReLU() 대신 MaxPool2d + ReLU"
   ]
  },
  {
   "cell_type": "markdown",
   "id": "21333155-d258-421d-87b1-0108df7ca39b",
   "metadata": {
    "id": "21333155-d258-421d-87b1-0108df7ca39b"
   },
   "source": [
    "#### MaxPool2d"
   ]
  },
  {
   "cell_type": "code",
   "execution_count": 44,
   "id": "e33c41c3-6fd0-4b5b-9025-234ef4cf28e5",
   "metadata": {
    "id": "e33c41c3-6fd0-4b5b-9025-234ef4cf28e5"
   },
   "outputs": [],
   "source": [
    "m1=torch.nn.MaxPool2d(2)"
   ]
  },
  {
   "cell_type": "code",
   "execution_count": 45,
   "id": "828ef6ce-a25c-4fe6-b3ed-d1a8d761abcb",
   "metadata": {
    "id": "828ef6ce-a25c-4fe6-b3ed-d1a8d761abcb",
    "outputId": "6812f73b-980e-4bf8-9da2-92fbdeb3bb9a"
   },
   "outputs": [
    {
     "data": {
      "text/plain": [
       "(torch.Size([12396, 1, 28, 28]),\n",
       " torch.Size([12396, 16, 24, 24]),\n",
       " torch.Size([12396, 16, 12, 12]))"
      ]
     },
     "execution_count": 45,
     "metadata": {},
     "output_type": "execute_result"
    }
   ],
   "source": [
    "X.shape,c1(X).shape,m1(c1(X)).shape"
   ]
  },
  {
   "cell_type": "code",
   "execution_count": 46,
   "id": "682f7d14-cd91-4f81-88d9-c8e7cf615f2d",
   "metadata": {
    "id": "682f7d14-cd91-4f81-88d9-c8e7cf615f2d",
    "outputId": "499d2019-3515-4836-9382-acb25f0a53d8"
   },
   "outputs": [
    {
     "data": {
      "image/png": "[encoded data removed]",
      "text/plain": [
       "<Figure size 576x576 with 16 Axes>"
      ]
     },
     "metadata": {
      "needs_background": "light"
     },
     "output_type": "display_data"
    }
   ],
   "source": [
    "fig, axs = plt.subplots(4,4) \n",
    "k=0 \n",
    "for i in range(4):\n",
    "    for j in range(4):\n",
    "        axs[i,j].imshow(m1(c1(X))[776][k].data) \n",
    "        k=k+1\n",
    "fig.set_figheight(8)\n",
    "fig.set_figwidth(8)\n",
    "fig.tight_layout()    "
   ]
  },
  {
   "cell_type": "markdown",
   "id": "f17e8839-4c1c-4e2a-92fe-205931adad41",
   "metadata": {},
   "source": [
    "- maxpool 취하기 전의 저해상 버전,\n",
    "- maxpool의 역할은 해상을 낮추는 역할"
   ]
  },
  {
   "cell_type": "markdown",
   "id": "696ff68e-c4ee-47c7-a0fb-3526c4715c4f",
   "metadata": {
    "id": "696ff68e-c4ee-47c7-a0fb-3526c4715c4f"
   },
   "source": [
    "#### ReLU "
   ]
  },
  {
   "cell_type": "code",
   "execution_count": 47,
   "id": "a5074ae1-2840-445e-ac39-39bb45e87c93",
   "metadata": {
    "id": "a5074ae1-2840-445e-ac39-39bb45e87c93"
   },
   "outputs": [],
   "source": [
    "a1=torch.nn.ReLU()"
   ]
  },
  {
   "cell_type": "code",
   "execution_count": 48,
   "id": "a308618f-d119-4f46-b963-fb849f777940",
   "metadata": {
    "id": "a308618f-d119-4f46-b963-fb849f777940",
    "outputId": "1b21589f-5e26-4e19-8e43-814e724218a8"
   },
   "outputs": [
    {
     "data": {
      "text/plain": [
       "(torch.Size([12396, 1, 28, 28]),\n",
       " torch.Size([12396, 16, 24, 24]),\n",
       " torch.Size([12396, 16, 12, 12]),\n",
       " torch.Size([12396, 16, 12, 12]))"
      ]
     },
     "execution_count": 48,
     "metadata": {},
     "output_type": "execute_result"
    }
   ],
   "source": [
    "X.shape,c1(X).shape, m1(c1(X)).shape, a1(m1(c1(X))).shape"
   ]
  },
  {
   "cell_type": "code",
   "execution_count": null,
   "id": "8876ba1d-d448-47d1-8cf2-89514d6caba9",
   "metadata": {
    "id": "8876ba1d-d448-47d1-8cf2-89514d6caba9",
    "outputId": "9af63f43-ea9f-411f-fb4d-3a98460ddc4f"
   },
   "outputs": [],
   "source": [
    "fig, axs = plt.subplots(4,4) \n",
    "k=0 \n",
    "for i in range(4):\n",
    "    for j in range(4):\n",
    "        axs[i,j].imshow(a1(m1(c1(X)))[776][k].data) \n",
    "        k=k+1\n",
    "fig.set_figheight(8)\n",
    "fig.set_figwidth(8)\n",
    "fig.tight_layout()    "
   ]
  },
  {
   "cell_type": "code",
   "execution_count": null,
   "id": "55292df0-72ed-474d-9c1f-9364c4ae7e8b",
   "metadata": {
    "id": "55292df0-72ed-474d-9c1f-9364c4ae7e8b",
    "outputId": "2e1a7851-ba98-499f-9206-531e5eb0025a"
   },
   "outputs": [
    {
     "data": {
      "text/plain": [
       "tensor([[ 0.6614,  0.2669,  0.0617],\n",
       "        [ 0.6213, -0.4519, -0.1661],\n",
       "        [-1.5228,  0.3817, -1.0276]])"
      ]
     },
     "execution_count": 61,
     "metadata": {},
     "output_type": "execute_result"
    }
   ],
   "source": [
    "torch.manual_seed(1)\n",
    "_A= torch.randn((3,3))\n",
    "_A"
   ]
  },
  {
   "cell_type": "code",
   "execution_count": null,
   "id": "fc6d8c76-44f7-4623-8021-e81de4ff4905",
   "metadata": {
    "id": "fc6d8c76-44f7-4623-8021-e81de4ff4905",
    "outputId": "2858f1ac-9f78-409f-8b35-0fdf4dd2cdd1"
   },
   "outputs": [
    {
     "data": {
      "text/plain": [
       "tensor([[0.6614, 0.2669, 0.0617],\n",
       "        [0.6213, 0.0000, 0.0000],\n",
       "        [0.0000, 0.3817, 0.0000]])"
      ]
     },
     "execution_count": 62,
     "metadata": {},
     "output_type": "execute_result"
    }
   ],
   "source": [
    "a1(_A)"
   ]
  },
  {
   "cell_type": "markdown",
   "id": "699bd232-6c8b-4c10-8a86-da7ba497208d",
   "metadata": {
    "id": "699bd232-6c8b-4c10-8a86-da7ba497208d"
   },
   "source": [
    "### 여기에서 그냥 시그모이드에 태우자. "
   ]
  },
  {
   "cell_type": "markdown",
   "id": "b7728b2b-1a79-4cec-bff1-3dddc3b10868",
   "metadata": {
    "id": "b7728b2b-1a79-4cec-bff1-3dddc3b10868"
   },
   "source": [
    "`-` 현재상황 "
   ]
  },
  {
   "cell_type": "code",
   "execution_count": null,
   "id": "2146f6b4-69af-4e93-9d2f-75c55db86199",
   "metadata": {
    "id": "2146f6b4-69af-4e93-9d2f-75c55db86199",
    "outputId": "a87fa1cc-40bc-4d8d-f5ca-538de3710a39"
   },
   "outputs": [
    {
     "data": {
      "text/plain": [
       "torch.Size([12396, 16, 12, 12])"
      ]
     },
     "execution_count": 63,
     "metadata": {},
     "output_type": "execute_result"
    }
   ],
   "source": [
    "a1(m1(c1(X))).shape"
   ]
  },
  {
   "cell_type": "markdown",
   "id": "ffb57abc-767e-4e69-b2c2-8323b45b87a5",
   "metadata": {
    "id": "ffb57abc-767e-4e69-b2c2-8323b45b87a5"
   },
   "source": [
    "`-` 펼치자"
   ]
  },
  {
   "cell_type": "code",
   "execution_count": null,
   "id": "fba906ac-3f04-4853-9731-8532cc3f8b6f",
   "metadata": {
    "id": "fba906ac-3f04-4853-9731-8532cc3f8b6f",
    "outputId": "2365c248-6b91-4ef4-8045-5435146914cb"
   },
   "outputs": [
    {
     "data": {
      "text/plain": [
       "torch.Size([12396, 2304])"
      ]
     },
     "execution_count": 65,
     "metadata": {},
     "output_type": "execute_result"
    }
   ],
   "source": [
    "a1(m1(c1(X))).reshape(12396,-1).shape"
   ]
  },
  {
   "cell_type": "markdown",
   "id": "f1f6851c-60f9-4283-8379-3bc6a5d9fa07",
   "metadata": {
    "id": "f1f6851c-60f9-4283-8379-3bc6a5d9fa07"
   },
   "source": [
    "`-` 2304의 디멘젼을 1로 만들자. "
   ]
  },
  {
   "cell_type": "code",
   "execution_count": null,
   "id": "d1c09cc3-9fb9-4c10-9d48-51dadf3bb6f6",
   "metadata": {
    "id": "d1c09cc3-9fb9-4c10-9d48-51dadf3bb6f6"
   },
   "outputs": [],
   "source": [
    "l1=torch.nn.Linear(in_features=2304,out_features=1) "
   ]
  },
  {
   "cell_type": "code",
   "execution_count": null,
   "id": "0f594851-6ae1-46d6-96c8-c8b4e9e7d70b",
   "metadata": {
    "id": "0f594851-6ae1-46d6-96c8-c8b4e9e7d70b",
    "outputId": "05ad483b-fce1-4ee3-a6e4-a14967f42505"
   },
   "outputs": [
    {
     "data": {
      "text/plain": [
       "tensor([[-0.0023],\n",
       "        [-0.0947],\n",
       "        [ 0.0029],\n",
       "        ...,\n",
       "        [-0.1033],\n",
       "        [-0.1207],\n",
       "        [-0.1130]], grad_fn=<AddmmBackward>)"
      ]
     },
     "execution_count": 68,
     "metadata": {},
     "output_type": "execute_result"
    }
   ],
   "source": [
    "l1(a1(m1(c1(X))).reshape(12396,-1))"
   ]
  },
  {
   "cell_type": "markdown",
   "id": "582e3445-5c64-4e4b-8365-62265c8cf4ee",
   "metadata": {
    "id": "582e3445-5c64-4e4b-8365-62265c8cf4ee"
   },
   "source": [
    "`-` 시그모이드를 걸자. "
   ]
  },
  {
   "cell_type": "code",
   "execution_count": null,
   "id": "777ae674-cf5e-4302-9343-6c471873efcc",
   "metadata": {
    "id": "777ae674-cf5e-4302-9343-6c471873efcc",
    "outputId": "9ef2e2df-6054-4fe1-9919-8c6dff24b959"
   },
   "outputs": [
    {
     "data": {
      "text/plain": [
       "tensor([[0.4994],\n",
       "        [0.4764],\n",
       "        [0.5007],\n",
       "        ...,\n",
       "        [0.4742],\n",
       "        [0.4699],\n",
       "        [0.4718]], grad_fn=<SigmoidBackward>)"
      ]
     },
     "execution_count": 69,
     "metadata": {},
     "output_type": "execute_result"
    }
   ],
   "source": [
    "a2=torch.nn.Sigmoid() \n",
    "a2(l1(a1(m1(c1(X))).reshape(12396,-1)))"
   ]
  },
  {
   "cell_type": "markdown",
   "id": "fb07c831-42a7-4138-830f-5c156926f018",
   "metadata": {
    "id": "fb07c831-42a7-4138-830f-5c156926f018"
   },
   "source": [
    "### networks 설계 "
   ]
  },
  {
   "cell_type": "code",
   "execution_count": null,
   "id": "53ca598a-cca0-4b09-bb67-10d8b6bb7513",
   "metadata": {
    "id": "53ca598a-cca0-4b09-bb67-10d8b6bb7513",
    "outputId": "bf636566-3038-4fae-a99d-21d2966a970c"
   },
   "outputs": [
    {
     "ename": "TypeError",
     "evalue": "torch.FloatTensor is not a Module subclass",
     "output_type": "error",
     "traceback": [
      "\u001b[0;31m---------------------------------------------------------------------------\u001b[0m",
      "\u001b[0;31mTypeError\u001b[0m                                 Traceback (most recent call last)",
      "\u001b[0;32m/tmp/ipykernel_2953/1160457815.py\u001b[0m in \u001b[0;36m<module>\u001b[0;34m\u001b[0m\n\u001b[0;32m----> 1\u001b[0;31m net = nn.Sequential(\n\u001b[0m\u001b[1;32m      2\u001b[0m     \u001b[0mc1\u001b[0m\u001b[0;34m,\u001b[0m \u001b[0;31m# 컨볼루션(선형)\u001b[0m\u001b[0;34m\u001b[0m\u001b[0;34m\u001b[0m\u001b[0m\n\u001b[1;32m      3\u001b[0m     \u001b[0mm1\u001b[0m\u001b[0;34m,\u001b[0m \u001b[0;31m# 맥스풀링(비선형) -- 효과? 이미지를 계층적으로 파악할 수 있게함\u001b[0m\u001b[0;34m\u001b[0m\u001b[0;34m\u001b[0m\u001b[0m\n\u001b[1;32m      4\u001b[0m     \u001b[0ma1\u001b[0m\u001b[0;34m,\u001b[0m \u001b[0;31m# 렐루(비선형)\u001b[0m\u001b[0;34m\u001b[0m\u001b[0;34m\u001b[0m\u001b[0m\n\u001b[1;32m      5\u001b[0m \u001b[0;34m\u001b[0m\u001b[0m\n",
      "\u001b[0;32m~/anaconda3/envs/bda2021/lib/python3.8/site-packages/torch/nn/modules/container.py\u001b[0m in \u001b[0;36m__init__\u001b[0;34m(self, *args)\u001b[0m\n\u001b[1;32m     87\u001b[0m         \u001b[0;32melse\u001b[0m\u001b[0;34m:\u001b[0m\u001b[0;34m\u001b[0m\u001b[0;34m\u001b[0m\u001b[0m\n\u001b[1;32m     88\u001b[0m             \u001b[0;32mfor\u001b[0m \u001b[0midx\u001b[0m\u001b[0;34m,\u001b[0m \u001b[0mmodule\u001b[0m \u001b[0;32min\u001b[0m \u001b[0menumerate\u001b[0m\u001b[0;34m(\u001b[0m\u001b[0margs\u001b[0m\u001b[0;34m)\u001b[0m\u001b[0;34m:\u001b[0m\u001b[0;34m\u001b[0m\u001b[0;34m\u001b[0m\u001b[0m\n\u001b[0;32m---> 89\u001b[0;31m                 \u001b[0mself\u001b[0m\u001b[0;34m.\u001b[0m\u001b[0madd_module\u001b[0m\u001b[0;34m(\u001b[0m\u001b[0mstr\u001b[0m\u001b[0;34m(\u001b[0m\u001b[0midx\u001b[0m\u001b[0;34m)\u001b[0m\u001b[0;34m,\u001b[0m \u001b[0mmodule\u001b[0m\u001b[0;34m)\u001b[0m\u001b[0;34m\u001b[0m\u001b[0;34m\u001b[0m\u001b[0m\n\u001b[0m\u001b[1;32m     90\u001b[0m \u001b[0;34m\u001b[0m\u001b[0m\n\u001b[1;32m     91\u001b[0m     \u001b[0;32mdef\u001b[0m \u001b[0m_get_item_by_idx\u001b[0m\u001b[0;34m(\u001b[0m\u001b[0mself\u001b[0m\u001b[0;34m,\u001b[0m \u001b[0miterator\u001b[0m\u001b[0;34m,\u001b[0m \u001b[0midx\u001b[0m\u001b[0;34m)\u001b[0m \u001b[0;34m->\u001b[0m \u001b[0mT\u001b[0m\u001b[0;34m:\u001b[0m\u001b[0;34m\u001b[0m\u001b[0;34m\u001b[0m\u001b[0m\n",
      "\u001b[0;32m~/anaconda3/envs/bda2021/lib/python3.8/site-packages/torch/nn/modules/module.py\u001b[0m in \u001b[0;36madd_module\u001b[0;34m(self, name, module)\u001b[0m\n\u001b[1;32m    370\u001b[0m         \"\"\"\n\u001b[1;32m    371\u001b[0m         \u001b[0;32mif\u001b[0m \u001b[0;32mnot\u001b[0m \u001b[0misinstance\u001b[0m\u001b[0;34m(\u001b[0m\u001b[0mmodule\u001b[0m\u001b[0;34m,\u001b[0m \u001b[0mModule\u001b[0m\u001b[0;34m)\u001b[0m \u001b[0;32mand\u001b[0m \u001b[0mmodule\u001b[0m \u001b[0;32mis\u001b[0m \u001b[0;32mnot\u001b[0m \u001b[0;32mNone\u001b[0m\u001b[0;34m:\u001b[0m\u001b[0;34m\u001b[0m\u001b[0;34m\u001b[0m\u001b[0m\n\u001b[0;32m--> 372\u001b[0;31m             raise TypeError(\"{} is not a Module subclass\".format(\n\u001b[0m\u001b[1;32m    373\u001b[0m                 torch.typename(module)))\n\u001b[1;32m    374\u001b[0m         \u001b[0;32melif\u001b[0m \u001b[0;32mnot\u001b[0m \u001b[0misinstance\u001b[0m\u001b[0;34m(\u001b[0m\u001b[0mname\u001b[0m\u001b[0;34m,\u001b[0m \u001b[0mtorch\u001b[0m\u001b[0;34m.\u001b[0m\u001b[0m_six\u001b[0m\u001b[0;34m.\u001b[0m\u001b[0mstring_classes\u001b[0m\u001b[0;34m)\u001b[0m\u001b[0;34m:\u001b[0m\u001b[0;34m\u001b[0m\u001b[0;34m\u001b[0m\u001b[0m\n",
      "\u001b[0;31mTypeError\u001b[0m: torch.FloatTensor is not a Module subclass"
     ]
    }
   ],
   "source": [
    "net = nn.Sequential(\n",
    "    c1, # 컨볼루션(선형)\n",
    "    m1, # 맥스풀링(비선형) -- 효과? 이미지를 계층적으로 파악할 수 있게함 \n",
    "    a1, # 렐루(비선형) \n",
    "    \n",
    "    a1(m1(c1(X))).reshape(12396,-1), ## 이걸 구현해야하는데?? \n",
    "    \n",
    "    l1) \n",
    "## 마지막의 a2는 생략한다. torch.nn..BCEWithLogitsLoss()에 내장되어 있을것이므로 "
   ]
  },
  {
   "cell_type": "code",
   "execution_count": null,
   "id": "d34be40e-2191-4f3c-84a3-e02301e1e417",
   "metadata": {
    "id": "d34be40e-2191-4f3c-84a3-e02301e1e417"
   },
   "outputs": [],
   "source": [
    "net = nn.Sequential(\n",
    "    c1, # 컨볼루션(선형)\n",
    "    m1, # 맥스풀링(비선형) -- 효과? 이미지를 계층적으로 파악할 수 있게함 \n",
    "    a1, # 렐루(비선형) \n",
    "    \n",
    "#    a1(m1(c1(X))).reshape(12396,-1), ## 이걸 구현해야하는데?? \n",
    "    \n",
    "    l1) \n",
    "## 마지막의 a2는 생략한다. torch.nn..BCEWithLogitsLoss()에 내장되어 있을것이므로 \n"
   ]
  },
  {
   "cell_type": "markdown",
   "id": "8b3c6e16-84cd-403f-aa34-fa036aa22536",
   "metadata": {
    "id": "8b3c6e16-84cd-403f-aa34-fa036aa22536"
   },
   "source": [
    "`-` 결국 주석처리한 부분을 구현해야함. "
   ]
  },
  {
   "cell_type": "markdown",
   "id": "2ce0c4f4-b1cb-4075-9911-7da4cf0267e5",
   "metadata": {
    "id": "2ce0c4f4-b1cb-4075-9911-7da4cf0267e5"
   },
   "source": [
    "`-` `c1`,`m1`,`a1`,`l1`의 공통점 \n",
    "\n",
    "- 무언가를 상속받는 클래스에서 생성된 인스턴스이다. \n",
    "- forward메소드가 있다. "
   ]
  },
  {
   "cell_type": "markdown",
   "id": "5144e0c8-4c5a-4461-a21a-a00760e63260",
   "metadata": {
    "id": "5144e0c8-4c5a-4461-a21a-a00760e63260"
   },
   "source": [
    "`-` custom layer를 만드는 방법 \n",
    "- torch.nn.Module을 상속받아서 클래스를 하나 만든다. \n",
    "- forward 메소드를 정의한다. (다음레이어로 리턴할 값)"
   ]
  },
  {
   "cell_type": "code",
   "execution_count": null,
   "id": "bcf93e56-d273-408d-8f81-e4387b97db8e",
   "metadata": {
    "id": "bcf93e56-d273-408d-8f81-e4387b97db8e"
   },
   "outputs": [],
   "source": [
    "class Flatten(torch.nn.Module):\n",
    "    def forward(self,x): \n",
    "        return x.reshape(12396,-1)"
   ]
  },
  {
   "cell_type": "code",
   "execution_count": null,
   "id": "34a8bac1-66c8-4318-8ec1-84aad43c942a",
   "metadata": {
    "id": "34a8bac1-66c8-4318-8ec1-84aad43c942a"
   },
   "outputs": [],
   "source": [
    "flatten=Flatten()"
   ]
  },
  {
   "cell_type": "code",
   "execution_count": null,
   "id": "ceacd2f0-0575-4b4a-bc6a-5a503d68b649",
   "metadata": {
    "id": "ceacd2f0-0575-4b4a-bc6a-5a503d68b649",
    "outputId": "f07e3952-fb7b-4e21-ff8d-284e5d79fc85"
   },
   "outputs": [
    {
     "data": {
      "text/plain": [
       "torch.Size([12396, 2304])"
      ]
     },
     "execution_count": 86,
     "metadata": {},
     "output_type": "execute_result"
    }
   ],
   "source": [
    "flatten(a1(m1(c1(X)))).shape"
   ]
  },
  {
   "cell_type": "markdown",
   "id": "18259565-934d-4593-96da-45f5eedb9c1c",
   "metadata": {
    "id": "18259565-934d-4593-96da-45f5eedb9c1c"
   },
   "source": [
    "`-` 잘 구현이 된것 같다. "
   ]
  },
  {
   "cell_type": "code",
   "execution_count": null,
   "id": "35fc393e-e6fd-4ee7-96ca-ff01b46609b6",
   "metadata": {
    "id": "35fc393e-e6fd-4ee7-96ca-ff01b46609b6"
   },
   "outputs": [],
   "source": [
    "net = nn.Sequential(\n",
    "    c1, # 컨볼루션(선형)\n",
    "    m1, # 맥스풀링(비선형) -- 효과? 이미지를 계층적으로 파악할 수 있게함 \n",
    "    a1, # 렐루(비선형) \n",
    "    flatten,#    a1(m1(c1(X))).reshape(12396,-1), ## 이걸 구현해야하는데?? \n",
    "    l1) \n",
    "## 마지막의 a2는 생략한다. torch.nn..BCEWithLogitsLoss()에 내장되어 있을것이므로 "
   ]
  },
  {
   "cell_type": "markdown",
   "id": "a3ce32a6-7160-42a6-8e60-8d3e28ab9234",
   "metadata": {
    "id": "a3ce32a6-7160-42a6-8e60-8d3e28ab9234"
   },
   "source": [
    "`-` 손실함수와 옵티마이저 정의 "
   ]
  },
  {
   "cell_type": "code",
   "execution_count": null,
   "id": "4f46ca98-1a7d-4215-85ac-da3b2894ea34",
   "metadata": {
    "id": "4f46ca98-1a7d-4215-85ac-da3b2894ea34"
   },
   "outputs": [],
   "source": [
    "loss_fn=torch.nn.BCEWithLogitsLoss()\n",
    "optimizer= torch.optim.Adam(net.parameters())"
   ]
  },
  {
   "cell_type": "markdown",
   "id": "dcc089cc-e686-4bdd-824d-c9b7806452c1",
   "metadata": {
    "id": "dcc089cc-e686-4bdd-824d-c9b7806452c1"
   },
   "source": [
    "`-` step1~4"
   ]
  },
  {
   "cell_type": "code",
   "execution_count": null,
   "id": "4ec2b195-0699-4603-bd59-6ced8751daff",
   "metadata": {
    "id": "4ec2b195-0699-4603-bd59-6ced8751daff"
   },
   "outputs": [],
   "source": [
    "for epoc in range(200): \n",
    "    ## 1 \n",
    "    yhat=net(X)\n",
    "    ## 2 \n",
    "    loss=loss_fn(yhat,y) \n",
    "    ## 3 \n",
    "    loss.backward()\n",
    "    ## 4 \n",
    "    optimizer.step()\n",
    "    net.zero_grad()"
   ]
  },
  {
   "cell_type": "code",
   "execution_count": null,
   "id": "bf52695c-2bf4-40c6-a4be-6eabf2a7614b",
   "metadata": {
    "id": "bf52695c-2bf4-40c6-a4be-6eabf2a7614b",
    "outputId": "3cdb0ffa-bb71-4f6a-d656-e41c4e30ee00"
   },
   "outputs": [
    {
     "data": {
      "text/plain": [
       "[<matplotlib.lines.Line2D at 0x7f6382540a90>]"
      ]
     },
     "execution_count": 91,
     "metadata": {},
     "output_type": "execute_result"
    },
    {
     "data": {
      "image/png": "[encoded data removed]",
      "text/plain": [
       "<Figure size 432x288 with 1 Axes>"
      ]
     },
     "metadata": {
      "needs_background": "light"
     },
     "output_type": "display_data"
    }
   ],
   "source": [
    "plt.plot(y)\n",
    "plt.plot(a2(yhat.data),'.')"
   ]
  },
  {
   "cell_type": "code",
   "execution_count": null,
   "id": "66162109-07ff-4d13-9725-857c4d2d68ef",
   "metadata": {
    "id": "66162109-07ff-4d13-9725-857c4d2d68ef"
   },
   "outputs": [],
   "source": [
    "ypred=a2(yhat.data)>0.5 "
   ]
  },
  {
   "cell_type": "code",
   "execution_count": null,
   "id": "c6b6732d-92e1-4249-b2f4-0198a5a0757f",
   "metadata": {
    "id": "c6b6732d-92e1-4249-b2f4-0198a5a0757f",
    "outputId": "fb0349bd-002d-47e5-9d2b-c64a548ed88c"
   },
   "outputs": [
    {
     "data": {
      "text/plain": [
       "tensor([0.9927])"
      ]
     },
     "execution_count": 93,
     "metadata": {},
     "output_type": "execute_result"
    }
   ],
   "source": [
    "sum(ypred==y)/12396"
   ]
  },
  {
   "cell_type": "markdown",
   "id": "78145471-f51c-490d-ad31-478053de7de9",
   "metadata": {
    "id": "78145471-f51c-490d-ad31-478053de7de9"
   },
   "source": [
    "`-` 좀 더 성능이 좋아졌다. (이미 좋았는데 약간 더 좋아짐) "
   ]
  },
  {
   "cell_type": "markdown",
   "id": "aa9bac74-cfe7-47d5-ab85-b35202d69cfc",
   "metadata": {
    "id": "aa9bac74-cfe7-47d5-ab85-b35202d69cfc"
   },
   "source": [
    "### 숙제 "
   ]
  },
  {
   "cell_type": "markdown",
   "id": "c8de1c77-d64a-4236-a592-db2e004f4592",
   "metadata": {
    "id": "c8de1c77-d64a-4236-a592-db2e004f4592"
   },
   "source": [
    "`-` torch.nn.MaxPool2d(2) 대신 torch.nn.MaxPool2d(3) 을 사용하여 모형을 학습해보고 결과비교"
   ]
  }
 ],
 "metadata": {
  "colab": {
   "name": "2021-10-21-(7주차) 10월21일.ipynb",
   "provenance": []
  },
  "kernelspec": {
   "display_name": "Python 3",
   "language": "python",
   "name": "python3"
  },
  "language_info": {
   "codemirror_mode": {
    "name": "ipython",
    "version": 3
   },
   "file_extension": ".py",
   "mimetype": "text/x-python",
   "name": "python",
   "nbconvert_exporter": "python",
   "pygments_lexer": "ipython3",
   "version": "3.8.12"
  }
 },
 "nbformat": 4,
 "nbformat_minor": 5
}
