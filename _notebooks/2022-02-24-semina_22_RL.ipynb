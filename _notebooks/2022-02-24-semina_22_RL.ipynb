{
 "cells": [
  {
   "cell_type": "markdown",
   "id": "9fcc9eb2-3285-4b1f-8b0e-c1f7c90031ee",
   "metadata": {
    "id": "cac470df-29e7-4148-9bbd-d8b9a32fa570",
    "tags": []
   },
   "source": [
    "# Semina Review(20220223)\n",
    "> Reinforcement learning\n",
    "\n",
    "- toc:true\n",
    "- branch: master\n",
    "- badges: true\n",
    "- comments: false\n",
    "- author: 최서연\n",
    "- categories: [Reinforcement learning]"
   ]
  },
  {
   "cell_type": "markdown",
   "id": "3c1d3c6f-17f8-4e07-960f-c066f3d34295",
   "metadata": {},
   "source": [
    "---"
   ]
  },
  {
   "cell_type": "markdown",
   "id": "e55596f4-21db-4d57-8744-bbfd9a1c10cb",
   "metadata": {},
   "source": [
    "## intro"
   ]
  },
  {
   "cell_type": "markdown",
   "id": "b55d7981-83f7-4ee5-a093-a78e8abbdc05",
   "metadata": {},
   "source": [
    "고한규연사님\n",
    "- 카이스트 컴퓨터 공학과\n",
    "- 에트리 근무끝\n",
    " -LG전자 인공지능연구소 근무 중\n",
    "- 교수님 직장상사/면접관/사수님/\n",
    "- 거의 모든 인공지능 이론을 알고 있음"
   ]
  },
  {
   "cell_type": "markdown",
   "id": "e00d28a3-9c58-46bf-940f-cc266dc34080",
   "metadata": {},
   "source": [
    "Subject: 인공지능과 로봇 매니퓰레이션"
   ]
  },
  {
   "cell_type": "markdown",
   "id": "628417e7-823d-4a45-8485-f5e8502190d2",
   "metadata": {},
   "source": [
    "강화학습이란?\n",
    "- 에이전트에게 목표가 주어지면 무작위로 여러 행동들을 해보다가 happen-to-be 목표에 적합한 행동을 했을 때 그 행동을 더 자주(강화)하도록 학습"
   ]
  },
  {
   "cell_type": "markdown",
   "id": "f76d0a8c-db19-4eac-8426-edd9001393e7",
   "metadata": {},
   "source": [
    "- 환경에 대한 사전지식 없이 학습 가능\n",
    "- 순차적으로 결정을 내려야 하는 문제에는 약함\n",
    "    - 순차적 결정 문제를 풀었다는 뜻은  최적의 정책optimal policy룰 찾았다함\n",
    "- 상태,행동,보상,정책이 주어져야 학습하지"
   ]
  },
  {
   "cell_type": "markdown",
   "id": "6542fe29-bdb5-4ba9-8111-316034f63bd9",
   "metadata": {},
   "source": [
    "---"
   ]
  },
  {
   "cell_type": "markdown",
   "id": "a921023a-98f6-4dd7-8d75-a7f987a28945",
   "metadata": {},
   "source": [
    "## Why AI That Teaches Itself to Achieve a Goal Is the Next Big Thing"
   ]
  },
  {
   "cell_type": "markdown",
   "id": "564077e8-cbbe-4c7d-8f1f-b879195870be",
   "metadata": {},
   "source": [
    "by Kathryn Hume, Matthew E. Taylor"
   ]
  },
  {
   "cell_type": "markdown",
   "id": "3d195dc4-891d-4a3e-a5d5-48fe8a80cc92",
   "metadata": {},
   "source": [
    "ref: https://hbr.org/2021/04/why-ai-that-teaches-itself-to-achieve-a-goal-is-the-next-big-thing"
   ]
  },
  {
   "cell_type": "code",
   "execution_count": null,
   "id": "568f0cc6-0919-4719-80f0-9636d9305bdf",
   "metadata": {},
   "outputs": [],
   "source": []
  },
  {
   "cell_type": "markdown",
   "id": "d7e76f6e-3755-4dd3-9123-371187af4f1f",
   "metadata": {},
   "source": [
    "---"
   ]
  },
  {
   "cell_type": "markdown",
   "id": "a72b28ca-9b83-467e-93db-3cecd97e8d0d",
   "metadata": {},
   "source": [
    "## 어려운 이유"
   ]
  },
  {
   "cell_type": "markdown",
   "id": "9248492b-87b3-4c00-9cd1-6b2d414a8e5b",
   "metadata": {},
   "source": [
    "- Horribly Sample Inefficient\n",
    "    - 사람 수준 이상의 성능내기 위해 막대한 샘플 필요\n",
    "- Better Solved by Other Methods\n",
    "    - 강화학습은 일반화 가능성이 높지만 도메인 특화 기술에 비해 성능이 낮게 나오는 경우가 많음\n",
    "    - Boston Dynamoc 현대가인수한 로봇제어회사\n",
    "- Difficult Reward Function Design\n",
    "    - 다양한 상황에서 최종목적에 부합하는 적절한 Reward Function 설계의 어려움\n",
    "    - Reward Density 에 따른 trade-off\n",
    "- Local Optina\n",
    "    - Exploitation & Exploration 문제\n",
    "    - 강화학습이 Atari 게임을 잘한다고 해도 단일 강화학습이 모든 Atari 문제 해결?)"
   ]
  },
  {
   "cell_type": "markdown",
   "id": "008fd5ae-ce4b-4fa7-96fc-293212535ba1",
   "metadata": {},
   "source": [
    "## 강화학습 한계 극복 연구"
   ]
  },
  {
   "cell_type": "markdown",
   "id": "b5a69167-3f34-469b-8aa6-f2219622c86f",
   "metadata": {},
   "source": [
    "- Model-based RL\n",
    "    - 동적 모델 및 모델 예측 제어기 학습MPC,sample efficient\n",
    "- Reward Finction\n",
    "    - 전문가,사람의 시연으로부터 reward function 을 구하는 연구\n",
    "- Transfer Learning\n",
    "    - 이미 잘 훈련된 모델이 있고 유사한 문제를 해결할 수 있다면\n",
    "- Meta Learning\n",
    "    - 학습하는 방법을 학습..?"
   ]
  },
  {
   "cell_type": "markdown",
   "id": "1cd202a3-aca3-4a02-a9d4-45a8a4589f39",
   "metadata": {},
   "source": [
    "---"
   ]
  },
  {
   "cell_type": "markdown",
   "id": "46a8cd90-8130-4adc-bf94-0f32b3a904d6",
   "metadata": {},
   "source": [
    "## 강화학습 기반 로봇 매니퓰레이션"
   ]
  },
  {
   "cell_type": "markdown",
   "id": "ec123597-e8eb-4cab-a4ad-163200ee1e15",
   "metadata": {},
   "source": [
    "ref: https://ai.googleblog.com/2018/06/scalable-deep-reinforcement-learning"
   ]
  },
  {
   "cell_type": "code",
   "execution_count": null,
   "id": "1b8e9187-2e44-4b92-a40d-d7822b535c28",
   "metadata": {},
   "outputs": [],
   "source": []
  }
 ],
 "metadata": {
  "kernelspec": {
   "display_name": "Python 3 (ipykernel)",
   "language": "python",
   "name": "python3"
  },
  "language_info": {
   "codemirror_mode": {
    "name": "ipython",
    "version": 3
   },
   "file_extension": ".py",
   "mimetype": "text/x-python",
   "name": "python",
   "nbconvert_exporter": "python",
   "pygments_lexer": "ipython3",
   "version": "3.8.12"
  }
 },
 "nbformat": 4,
 "nbformat_minor": 5
}
