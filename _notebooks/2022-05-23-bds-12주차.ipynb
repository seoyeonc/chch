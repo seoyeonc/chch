{
  "cells": [
    {
      "cell_type": "markdown",
      "id": "ab68b31f-9790-4b22-a34a-aaab2bda66aa",
      "metadata": {
        "tags": [],
        "id": "ab68b31f-9790-4b22-a34a-aaab2bda66aa"
      },
      "source": [
        "# (12주차) 5월23일\n",
        "\n",
        "- toc:true\n",
        "- branch: master\n",
        "- badges: true\n",
        "- comments: true\n",
        "- author: 최규빈"
      ]
    },
    {
      "cell_type": "markdown",
      "id": "bd402ae6-525e-4a12-8067-c22692830fee",
      "metadata": {
        "tags": [],
        "id": "bd402ae6-525e-4a12-8067-c22692830fee"
      },
      "source": [
        "## 강의영상 "
      ]
    },
    {
      "cell_type": "markdown",
      "id": "4a066051-d0ac-4715-8320-1725fc53f257",
      "metadata": {
        "id": "4a066051-d0ac-4715-8320-1725fc53f257"
      },
      "source": [
        "> youtube: https://youtube.com/playlist?list=PLQqh36zP38-xOfpHJG0LrtYt4TUVgqUNy"
      ]
    },
    {
      "cell_type": "markdown",
      "id": "01c91214-7727-4442-8c08-87f1c0f2f93f",
      "metadata": {
        "tags": [],
        "id": "01c91214-7727-4442-8c08-87f1c0f2f93f"
      },
      "source": [
        "## imports"
      ]
    },
    {
      "cell_type": "code",
      "execution_count": null,
      "id": "d4454a23-3b9d-4483-8450-cc3275c5182f",
      "metadata": {
        "id": "d4454a23-3b9d-4483-8450-cc3275c5182f"
      },
      "outputs": [],
      "source": [
        "import tensorflow as tf\n",
        "import tensorflow.experimental.numpy as tnp"
      ]
    },
    {
      "cell_type": "code",
      "execution_count": null,
      "id": "abbc26d9-195d-4792-b0a8-f702baca62ae",
      "metadata": {
        "id": "abbc26d9-195d-4792-b0a8-f702baca62ae"
      },
      "outputs": [],
      "source": [
        "tnp.experimental_enable_numpy_behavior()"
      ]
    },
    {
      "cell_type": "code",
      "execution_count": null,
      "id": "b5a5824a-a616-42c2-b451-d9c73642cf1f",
      "metadata": {
        "id": "b5a5824a-a616-42c2-b451-d9c73642cf1f"
      },
      "outputs": [],
      "source": [
        "import matplotlib.pyplot as plt\n",
        "import numpy as np"
      ]
    },
    {
      "cell_type": "markdown",
      "id": "03ee0f3c-2093-41d2-b888-e5d925e6f7d8",
      "metadata": {
        "id": "03ee0f3c-2093-41d2-b888-e5d925e6f7d8"
      },
      "source": [
        "## CNN"
      ]
    },
    {
      "cell_type": "markdown",
      "id": "6133c4a9-1f32-41e9-b464-1a7457c47004",
      "metadata": {
        "id": "6133c4a9-1f32-41e9-b464-1a7457c47004"
      },
      "source": [
        "### CONV의 역할"
      ]
    },
    {
      "cell_type": "markdown",
      "id": "05fb71a9-8f1d-4fee-97c7-c61e1ce2b386",
      "metadata": {
        "id": "05fb71a9-8f1d-4fee-97c7-c61e1ce2b386"
      },
      "source": [
        "`-` 데이터생성 (그냥 흑백대비 데이터)"
      ]
    },
    {
      "cell_type": "code",
      "execution_count": null,
      "id": "993b4d50-05f8-4c18-8da5-58d2c45e3de7",
      "metadata": {
        "id": "993b4d50-05f8-4c18-8da5-58d2c45e3de7",
        "outputId": "350ed793-bac1-49b2-f48a-fbb36060ddb0"
      },
      "outputs": [
        {
          "data": {
            "text/plain": [
              "<tf.Tensor: shape=(50, 25), dtype=float64, numpy=\n",
              "array([[10., 10., 10., ..., 10., 10., 10.],\n",
              "       [10., 10., 10., ..., 10., 10., 10.],\n",
              "       [10., 10., 10., ..., 10., 10., 10.],\n",
              "       ...,\n",
              "       [10., 10., 10., ..., 10., 10., 10.],\n",
              "       [10., 10., 10., ..., 10., 10., 10.],\n",
              "       [10., 10., 10., ..., 10., 10., 10.]])>"
            ]
          },
          "execution_count": 7,
          "metadata": {},
          "output_type": "execute_result"
        }
      ],
      "source": [
        "_X1 = tnp.ones([50,25])*10 \n",
        "_X1"
      ]
    },
    {
      "cell_type": "code",
      "execution_count": null,
      "id": "399e901f-2871-47b6-b5ca-7d038a32af5e",
      "metadata": {
        "id": "399e901f-2871-47b6-b5ca-7d038a32af5e",
        "outputId": "f6bf5dc1-d210-4f20-89d3-520a171de55a"
      },
      "outputs": [
        {
          "data": {
            "text/plain": [
              "<tf.Tensor: shape=(50, 25), dtype=float64, numpy=\n",
              "array([[0., 0., 0., ..., 0., 0., 0.],\n",
              "       [0., 0., 0., ..., 0., 0., 0.],\n",
              "       [0., 0., 0., ..., 0., 0., 0.],\n",
              "       ...,\n",
              "       [0., 0., 0., ..., 0., 0., 0.],\n",
              "       [0., 0., 0., ..., 0., 0., 0.],\n",
              "       [0., 0., 0., ..., 0., 0., 0.]])>"
            ]
          },
          "execution_count": 8,
          "metadata": {},
          "output_type": "execute_result"
        }
      ],
      "source": [
        "_X2 = tnp.zeros([50,25])*10 \n",
        "_X2"
      ]
    },
    {
      "cell_type": "code",
      "execution_count": null,
      "id": "31c8005a-dd9e-40d2-a601-226328a641bd",
      "metadata": {
        "id": "31c8005a-dd9e-40d2-a601-226328a641bd",
        "outputId": "79d2cfd0-04aa-438d-e760-0d77b41c29e3"
      },
      "outputs": [
        {
          "data": {
            "text/plain": [
              "<tf.Tensor: shape=(50, 50), dtype=float64, numpy=\n",
              "array([[10., 10., 10., ...,  0.,  0.,  0.],\n",
              "       [10., 10., 10., ...,  0.,  0.,  0.],\n",
              "       [10., 10., 10., ...,  0.,  0.,  0.],\n",
              "       ...,\n",
              "       [10., 10., 10., ...,  0.,  0.,  0.],\n",
              "       [10., 10., 10., ...,  0.,  0.,  0.],\n",
              "       [10., 10., 10., ...,  0.,  0.,  0.]])>"
            ]
          },
          "execution_count": 9,
          "metadata": {},
          "output_type": "execute_result"
        }
      ],
      "source": [
        "tf.concat([_X1,_X2],axis=1)"
      ]
    },
    {
      "cell_type": "code",
      "execution_count": null,
      "id": "74fe449c-3d77-4003-8bfd-96fa4c7539b3",
      "metadata": {
        "id": "74fe449c-3d77-4003-8bfd-96fa4c7539b3",
        "outputId": "7baefe52-27af-4a53-a658-fe73422156c2"
      },
      "outputs": [
        {
          "data": {
            "text/plain": [
              "<tf.Tensor: shape=(50, 50), dtype=float64, numpy=\n",
              "array([[-0.30380244,  0.06484819,  0.60069937, ..., -0.49237769,\n",
              "         1.72552047,  0.32319886],\n",
              "       [-0.1442766 ,  0.32071132,  0.27135225, ...,  0.12584098,\n",
              "         1.77500838,  0.30678486],\n",
              "       [-0.98493241,  0.70428041, -0.10798709, ..., -0.07145503,\n",
              "         0.11185082,  1.4473293 ],\n",
              "       ...,\n",
              "       [ 0.41430467, -0.67483518, -0.46844066, ...,  0.76154689,\n",
              "        -1.60328529, -0.37098601],\n",
              "       [-1.65297477, -1.45893833, -1.7887122 , ..., -0.81344932,\n",
              "        -0.21032504, -0.53206832],\n",
              "       [-0.2352507 , -0.77675024, -2.01329394, ..., -1.41071477,\n",
              "        -1.20259288,  0.07060629]])>"
            ]
          },
          "execution_count": 15,
          "metadata": {},
          "output_type": "execute_result"
        }
      ],
      "source": [
        "_noise = tnp.random.randn(50*50).reshape(50,50)\n",
        "_noise"
      ]
    },
    {
      "cell_type": "code",
      "execution_count": null,
      "id": "2f660a0e-aebe-446b-b791-31de84c7f299",
      "metadata": {
        "id": "2f660a0e-aebe-446b-b791-31de84c7f299"
      },
      "outputs": [],
      "source": [
        "XXX = tf.concat([_X1,_X2],axis=1) + _noise"
      ]
    },
    {
      "cell_type": "code",
      "execution_count": null,
      "id": "2478e82a-2f71-4770-a9cf-bc0d009723e4",
      "metadata": {
        "id": "2478e82a-2f71-4770-a9cf-bc0d009723e4"
      },
      "outputs": [],
      "source": [
        "XXX=XXX.reshape(1,50,50,1)"
      ]
    },
    {
      "cell_type": "code",
      "execution_count": null,
      "id": "cd1ea97b-9eae-414a-b9d2-5848f0dbf376",
      "metadata": {
        "id": "cd1ea97b-9eae-414a-b9d2-5848f0dbf376",
        "outputId": "f7993798-115f-4b43-bff2-1beed97c52df"
      },
      "outputs": [
        {
          "data": {
            "text/plain": [
              "<matplotlib.image.AxesImage at 0x7f6769d77f10>"
            ]
          },
          "execution_count": 25,
          "metadata": {},
          "output_type": "execute_result"
        },
        {
          "data": {
            "image/png": "[encoded data removed]",
            "text/plain": [
              "<Figure size 432x288 with 1 Axes>"
            ]
          },
          "metadata": {
            "needs_background": "light"
          },
          "output_type": "display_data"
        }
      ],
      "source": [
        "plt.imshow(XXX.reshape(50,50),cmap='gray')"
      ]
    },
    {
      "cell_type": "markdown",
      "id": "5e21163e-fbe4-46af-9127-ae3497c4481e",
      "metadata": {
        "id": "5e21163e-fbe4-46af-9127-ae3497c4481e"
      },
      "source": [
        "`-` conv layer 생성 "
      ]
    },
    {
      "cell_type": "code",
      "execution_count": null,
      "id": "6c9f8d24-baf1-4453-89ab-c4adbc248a1a",
      "metadata": {
        "id": "6c9f8d24-baf1-4453-89ab-c4adbc248a1a"
      },
      "outputs": [],
      "source": [
        "conv = tf.keras.layers.Conv2D(2,(2,2)) "
      ]
    },
    {
      "cell_type": "code",
      "execution_count": null,
      "id": "f990dcef-883f-49d4-a1ab-25f183799c10",
      "metadata": {
        "id": "f990dcef-883f-49d4-a1ab-25f183799c10",
        "outputId": "a77b0931-5c04-46a7-929d-6327e0657d49"
      },
      "outputs": [
        {
          "data": {
            "text/plain": [
              "[]"
            ]
          },
          "execution_count": 27,
          "metadata": {},
          "output_type": "execute_result"
        }
      ],
      "source": [
        "conv.weights # 처음에는 가중치가 없음 "
      ]
    },
    {
      "cell_type": "code",
      "execution_count": null,
      "id": "fb322af5-92b5-4d26-969b-ed570ecdfb0e",
      "metadata": {
        "id": "fb322af5-92b5-4d26-969b-ed570ecdfb0e",
        "outputId": "4659cd0e-1113-44a2-dece-6a81d34d140d"
      },
      "outputs": [
        {
          "data": {
            "text/plain": [
              "[<tf.Variable 'conv2d_1/kernel:0' shape=(2, 2, 1, 2) dtype=float32, numpy=\n",
              " array([[[[ 0.06554878,  0.39761645]],\n",
              " \n",
              "         [[-0.4267348 , -0.376472  ]]],\n",
              " \n",
              " \n",
              "        [[[ 0.2653011 ,  0.42274743]],\n",
              " \n",
              "         [[ 0.4461723 , -0.6650867 ]]]], dtype=float32)>,\n",
              " <tf.Variable 'conv2d_1/bias:0' shape=(2,) dtype=float32, numpy=array([0., 0.], dtype=float32)>]"
            ]
          },
          "execution_count": 31,
          "metadata": {},
          "output_type": "execute_result"
        }
      ],
      "source": [
        "conv(XXX) # 가중치를 만들기 위해서 XXX를 conv에 한번 통과시킴\n",
        "conv.weights # 이제 가중치가 생김"
      ]
    },
    {
      "cell_type": "markdown",
      "id": "779c9db6-442d-4d58-9453-a358952d30fb",
      "metadata": {
        "id": "779c9db6-442d-4d58-9453-a358952d30fb"
      },
      "source": [
        "`-` 가중치의 값을 확인해보자. "
      ]
    },
    {
      "cell_type": "code",
      "execution_count": null,
      "id": "2dfeaf70-6df9-4f70-b1be-491b1877605a",
      "metadata": {
        "id": "2dfeaf70-6df9-4f70-b1be-491b1877605a",
        "outputId": "a70e8e3b-54c4-49fd-deae-419d87d626ba"
      },
      "outputs": [
        {
          "data": {
            "text/plain": [
              "<tf.Variable 'conv2d_1/kernel:0' shape=(2, 2, 1, 2) dtype=float32, numpy=\n",
              "array([[[[ 0.06554878,  0.39761645]],\n",
              "\n",
              "        [[-0.4267348 , -0.376472  ]]],\n",
              "\n",
              "\n",
              "       [[[ 0.2653011 ,  0.42274743]],\n",
              "\n",
              "        [[ 0.4461723 , -0.6650867 ]]]], dtype=float32)>"
            ]
          },
          "execution_count": 34,
          "metadata": {},
          "output_type": "execute_result"
        }
      ],
      "source": [
        "conv.weights[0] # kernel에 해당하는것 "
      ]
    },
    {
      "cell_type": "code",
      "execution_count": null,
      "id": "2b4667f0-bc0a-4bcf-8027-7c73beb80dd3",
      "metadata": {
        "id": "2b4667f0-bc0a-4bcf-8027-7c73beb80dd3",
        "outputId": "12a55b77-92cc-4a6f-99f8-59aa71d626d2"
      },
      "outputs": [
        {
          "data": {
            "text/plain": [
              "<tf.Variable 'conv2d_1/bias:0' shape=(2,) dtype=float32, numpy=array([0., 0.], dtype=float32)>"
            ]
          },
          "execution_count": 35,
          "metadata": {},
          "output_type": "execute_result"
        }
      ],
      "source": [
        "conv.weights[1] # bias에 해당하는것 "
      ]
    },
    {
      "cell_type": "markdown",
      "id": "8607b3db-5f60-428c-a604-fda7ed5e51eb",
      "metadata": {
        "id": "8607b3db-5f60-428c-a604-fda7ed5e51eb"
      },
      "source": [
        "`-` 필터값을 원하는 것으로 변경해보자. "
      ]
    },
    {
      "cell_type": "code",
      "execution_count": null,
      "id": "08ee8240-b49c-46db-8beb-dfc5411f78ba",
      "metadata": {
        "id": "08ee8240-b49c-46db-8beb-dfc5411f78ba"
      },
      "outputs": [],
      "source": [
        "w0 = [[0.25,0.25],[0.25,0.25]] # 잡티를 제거하는 효과를 준다. \n",
        "w1 = [[-1.0,1.0],[-1.0,1.0]] # 경계를 찾기 좋아보이는 필터이다. (엣지검출)"
      ]
    },
    {
      "cell_type": "code",
      "execution_count": null,
      "id": "c7e8586b-e922-45ab-8c0e-f6618c106625",
      "metadata": {
        "id": "c7e8586b-e922-45ab-8c0e-f6618c106625",
        "outputId": "5e88a32a-88b6-4e21-888f-6ff55683b39a"
      },
      "outputs": [
        {
          "data": {
            "text/plain": [
              "array([[[[ 0.25, -1.  ]],\n",
              "\n",
              "        [[ 0.25,  1.  ]]],\n",
              "\n",
              "\n",
              "       [[[ 0.25, -1.  ]],\n",
              "\n",
              "        [[ 0.25,  1.  ]]]])"
            ]
          },
          "execution_count": 45,
          "metadata": {},
          "output_type": "execute_result"
        }
      ],
      "source": [
        "w=np.concatenate([np.array(w0).reshape(2,2,1,1),np.array(w1).reshape(2,2,1,1)],axis=-1)\n",
        "w"
      ]
    },
    {
      "cell_type": "code",
      "execution_count": null,
      "id": "56124e71-a752-4a3e-9281-3ebfc8be94e8",
      "metadata": {
        "id": "56124e71-a752-4a3e-9281-3ebfc8be94e8",
        "outputId": "c1a888a6-6204-43d9-f74b-6e494385b251"
      },
      "outputs": [
        {
          "data": {
            "text/plain": [
              "array([0., 0.])"
            ]
          },
          "execution_count": 47,
          "metadata": {},
          "output_type": "execute_result"
        }
      ],
      "source": [
        "b= np.array([0.0,0.0])\n",
        "b"
      ]
    },
    {
      "cell_type": "code",
      "execution_count": null,
      "id": "7facc917-3ffb-4a36-a87f-cd62ed23aa6d",
      "metadata": {
        "id": "7facc917-3ffb-4a36-a87f-cd62ed23aa6d",
        "outputId": "2e1da904-b8b4-49a1-d457-e497e96dd8bb"
      },
      "outputs": [
        {
          "data": {
            "text/plain": [
              "[array([[[[ 0.25, -1.  ]],\n",
              " \n",
              "         [[ 0.25,  1.  ]]],\n",
              " \n",
              " \n",
              "        [[[ 0.25, -1.  ]],\n",
              " \n",
              "         [[ 0.25,  1.  ]]]], dtype=float32),\n",
              " array([0., 0.], dtype=float32)]"
            ]
          },
          "execution_count": 50,
          "metadata": {},
          "output_type": "execute_result"
        }
      ],
      "source": [
        "conv.set_weights([w,b])\n",
        "conv.get_weights()"
      ]
    },
    {
      "cell_type": "markdown",
      "id": "e58ece36-91db-4967-8865-ce19b416cc28",
      "metadata": {
        "id": "e58ece36-91db-4967-8865-ce19b416cc28"
      },
      "source": [
        "- 첫번째는 평균을 구하는 필터, \n",
        "- 두번째는 엣지를 검출하는 필터 "
      ]
    },
    {
      "cell_type": "markdown",
      "id": "64a61c29-96b0-4b07-a54b-1221ddd9f28b",
      "metadata": {
        "id": "64a61c29-96b0-4b07-a54b-1221ddd9f28b"
      },
      "source": [
        "`-` 필터를 넣은 결과를 확인 "
      ]
    },
    {
      "cell_type": "code",
      "execution_count": null,
      "id": "c6b1b6d7-c6a8-4b4b-9462-e4c1db692349",
      "metadata": {
        "id": "c6b1b6d7-c6a8-4b4b-9462-e4c1db692349",
        "outputId": "04a4b3ec-409c-4a43-803b-2e2ada95a4b7"
      },
      "outputs": [
        {
          "data": {
            "text/plain": [
              "<tf.Tensor: shape=(1, 49, 49), dtype=float32, numpy=\n",
              "array([[[ 9.984369  , 10.314403  , 10.114662  , ..., -0.2716803 ,\n",
              "          0.78349805,  1.032628  ],\n",
              "        [ 9.973946  , 10.29709   , 10.011451  , ..., -0.78137755,\n",
              "          0.4853113 ,  0.91024333],\n",
              "        [ 9.694317  , 10.180944  , 10.165418  , ..., -1.1441237 ,\n",
              "         -0.10771888,  0.0131253 ],\n",
              "        ...,\n",
              "        [ 9.950029  ,  9.197831  ,  9.421099  , ...,  0.2848997 ,\n",
              "         -0.24674678, -0.35682005],\n",
              "        [ 9.156889  ,  8.902268  ,  9.352164  , ...,  0.01892059,\n",
              "         -0.46637818, -0.67916614],\n",
              "        [ 8.969021  ,  8.490577  ,  9.140195  , ..., -0.2541374 ,\n",
              "         -0.9092705 , -0.46859497]]], dtype=float32)>"
            ]
          },
          "execution_count": 61,
          "metadata": {},
          "output_type": "execute_result"
        }
      ],
      "source": [
        "XXX0=conv(XXX)[...,0] # 채널0\n",
        "XXX0"
      ]
    },
    {
      "cell_type": "code",
      "execution_count": null,
      "id": "aff8cb87-6c85-4c62-b295-77e6d4dc9476",
      "metadata": {
        "id": "aff8cb87-6c85-4c62-b295-77e6d4dc9476",
        "outputId": "0b44ff7e-5809-4c03-9e4a-d0835d464e76"
      },
      "outputs": [
        {
          "data": {
            "text/plain": [
              "<tf.Tensor: shape=(1, 49, 49), dtype=float32, numpy=\n",
              "array([[[ 0.8336382 ,  0.48649216, -1.2854509 , ...,  0.35364777,\n",
              "          3.8670654 , -2.8705451 ],\n",
              "        [ 2.1542006 , -0.8616276 , -0.28092575, ...,  3.2342823 ,\n",
              "          1.8324732 , -0.13274503],\n",
              "        [ 2.0953035 , -0.14879417,  0.08668804, ...,  5.0843253 ,\n",
              "         -0.93870586,  1.4220824 ],\n",
              "        ...,\n",
              "        [-1.498992  , -1.5097971 ,  2.4028683 , ...,  1.3495452 ,\n",
              "         -3.4761312 ,  3.0358381 ],\n",
              "        [-0.89510345, -0.12337971,  1.9229631 , ..., -0.17948717,\n",
              "         -1.7617078 ,  0.910556  ],\n",
              "        [-0.3474636 , -1.5663171 ,  4.1647916 , ..., -3.4317784 ,\n",
              "          0.81124616,  0.9514559 ]]], dtype=float32)>"
            ]
          },
          "execution_count": 62,
          "metadata": {},
          "output_type": "execute_result"
        }
      ],
      "source": [
        "XXX1=conv(XXX)[...,1] # 채널1\n",
        "XXX1"
      ]
    },
    {
      "cell_type": "markdown",
      "id": "e9819779-4375-41d4-b581-222d9a048921",
      "metadata": {
        "id": "e9819779-4375-41d4-b581-222d9a048921"
      },
      "source": [
        "`-` 각 채널을 시각화 "
      ]
    },
    {
      "cell_type": "code",
      "execution_count": null,
      "id": "5449fb3b-d8ef-4ac0-affe-d8aa9f91d1b7",
      "metadata": {
        "id": "5449fb3b-d8ef-4ac0-affe-d8aa9f91d1b7",
        "outputId": "465a5ad9-c489-4d06-c2ca-db0639f1550f"
      },
      "outputs": [
        {
          "data": {
            "image/png": "[encoded data removed]",
            "text/plain": [
              "<Figure size 432x288 with 4 Axes>"
            ]
          },
          "metadata": {
            "needs_background": "light"
          },
          "output_type": "display_data"
        }
      ],
      "source": [
        "fig, ((ax1,ax2),(ax3,ax4)) = plt.subplots(2,2)"
      ]
    },
    {
      "cell_type": "code",
      "execution_count": null,
      "id": "5c758ed5-8d64-4644-8ce6-894b6a20608f",
      "metadata": {
        "id": "5c758ed5-8d64-4644-8ce6-894b6a20608f",
        "outputId": "64533f50-9ac0-4529-e2cf-a9ae168fbe21"
      },
      "outputs": [
        {
          "data": {
            "text/plain": [
              "<matplotlib.image.AxesImage at 0x7f67684b5720>"
            ]
          },
          "execution_count": 58,
          "metadata": {},
          "output_type": "execute_result"
        }
      ],
      "source": [
        "ax1.imshow(XXX.reshape(50,50),cmap='gray')"
      ]
    },
    {
      "cell_type": "code",
      "execution_count": null,
      "id": "655b30d8-54f2-423f-b4e9-b6a2852ff43c",
      "metadata": {
        "id": "655b30d8-54f2-423f-b4e9-b6a2852ff43c",
        "outputId": "2b4550f0-3c40-45e9-e8c5-66581b2eab53"
      },
      "outputs": [
        {
          "data": {
            "text/plain": [
              "<matplotlib.image.AxesImage at 0x7f67684b47c0>"
            ]
          },
          "execution_count": 63,
          "metadata": {},
          "output_type": "execute_result"
        }
      ],
      "source": [
        "ax3.imshow(XXX0.reshape(49,49),cmap='gray')"
      ]
    },
    {
      "cell_type": "code",
      "execution_count": null,
      "id": "f535fec2-a6a4-4de5-b0e0-1640f519de07",
      "metadata": {
        "id": "f535fec2-a6a4-4de5-b0e0-1640f519de07",
        "outputId": "e51bb334-1683-40ea-e65b-064734434283"
      },
      "outputs": [
        {
          "data": {
            "text/plain": [
              "<matplotlib.image.AxesImage at 0x7f67684b72e0>"
            ]
          },
          "execution_count": 64,
          "metadata": {},
          "output_type": "execute_result"
        }
      ],
      "source": [
        "ax4.imshow(XXX1.reshape(49,49),cmap='gray')"
      ]
    },
    {
      "cell_type": "code",
      "execution_count": null,
      "id": "5570686d-0b12-4c08-b2d9-59d961b82b1d",
      "metadata": {
        "id": "5570686d-0b12-4c08-b2d9-59d961b82b1d",
        "outputId": "841b87c2-c78d-44f4-c969-dd16b50993b3"
      },
      "outputs": [
        {
          "data": {
            "image/png": "[encoded data removed]",
            "text/plain": [
              "<Figure size 432x288 with 4 Axes>"
            ]
          },
          "execution_count": 65,
          "metadata": {},
          "output_type": "execute_result"
        }
      ],
      "source": [
        "fig"
      ]
    },
    {
      "cell_type": "markdown",
      "id": "fa27ea5d-167d-446b-91ed-2b6eb65f5d5b",
      "metadata": {
        "id": "fa27ea5d-167d-446b-91ed-2b6eb65f5d5b"
      },
      "source": [
        "- 2사분면: 원래이미지 \n",
        "- 3사분면: 원래이미지 -> 평균을 의미하는 conv적용 \n",
        "- 4사분면: 원래이미지 -> 엣지를 검출하는 conv적용"
      ]
    },
    {
      "cell_type": "markdown",
      "id": "d2e1b572-db56-4c3f-9d27-7e16a6afdeed",
      "metadata": {
        "id": "d2e1b572-db56-4c3f-9d27-7e16a6afdeed"
      },
      "source": [
        "`-` conv(XXX)의 각 채널에 한번더 conv를 통과시켜보자"
      ]
    },
    {
      "cell_type": "code",
      "execution_count": null,
      "id": "d3b5a539-e7f5-4547-a0ac-41e2dd6d1930",
      "metadata": {
        "id": "d3b5a539-e7f5-4547-a0ac-41e2dd6d1930",
        "outputId": "877ddbe3-8326-4097-efd1-8a544f38c535"
      },
      "outputs": [
        {
          "data": {
            "text/plain": [
              "<tf.Tensor: shape=(1, 48, 48), dtype=float32, numpy=\n",
              "array([[[ 1.01424513e+01,  1.01844015e+01,  9.86733055e+00, ...,\n",
              "         -4.99692082e-01,  5.39378747e-02,  8.02920163e-01],\n",
              "        [ 1.00365734e+01,  1.01637259e+01,  1.02149420e+01, ...,\n",
              "         -7.43912578e-01, -3.86977196e-01,  3.25240284e-01],\n",
              "        [ 9.74410343e+00,  1.01362820e+01,  1.04401426e+01, ...,\n",
              "         -8.01947534e-01, -6.61381423e-01, -1.04143508e-01],\n",
              "        ...,\n",
              "        [ 9.49301243e+00,  9.22852516e+00,  9.76124573e+00, ...,\n",
              "         -3.70009184e-01, -2.82902658e-01, -3.20988595e-01],\n",
              "        [ 9.30175495e+00,  9.21834087e+00,  9.71927547e+00, ...,\n",
              "         -1.98229820e-01, -1.02326170e-01, -4.37277794e-01],\n",
              "        [ 8.87968922e+00,  8.97130108e+00,  9.59087849e+00, ...,\n",
              "         -5.38469851e-03, -4.02716398e-01, -6.30852461e-01]]],\n",
              "      dtype=float32)>"
            ]
          },
          "execution_count": 74,
          "metadata": {},
          "output_type": "execute_result"
        }
      ],
      "source": [
        "conv(XXX0.reshape(1,49,49,1))[...,0] ### XXX0 -> 평균필터 <=> XXX -> 평균필터 -> 평균필터 \n",
        "conv(XXX0.reshape(1,49,49,1))[...,1] ### XXX0 -> 엣지필터 <=> XXX -> 평균필터 -> 엣지필터 \n",
        "conv(XXX1.reshape(1,49,49,1))[...,0] ### XXX1 -> 평균필터 <=> XXX -> 엣지필터 -> 평균필터 \n",
        "conv(XXX1.reshape(1,49,49,1))[...,1] ### XXX1 -> 엣지필터 <=> XXX -> 엣지필터 -> 엣지필터 "
      ]
    },
    {
      "cell_type": "code",
      "execution_count": null,
      "id": "3df76478-b8f3-48dd-8d6a-d0dc832686b0",
      "metadata": {
        "id": "3df76478-b8f3-48dd-8d6a-d0dc832686b0",
        "outputId": "dc6bcb72-0078-4ad2-a4b3-104119b57b1b"
      },
      "outputs": [
        {
          "data": {
            "image/png": "[encoded data removed]",
            "text/plain": [
              "<Figure size 432x288 with 12 Axes>"
            ]
          },
          "metadata": {
            "needs_background": "light"
          },
          "output_type": "display_data"
        }
      ],
      "source": [
        "fig,ax =plt.subplots(3,4)"
      ]
    },
    {
      "cell_type": "code",
      "execution_count": null,
      "id": "6b603ddc-e5b9-4187-be41-baa66c7dab9a",
      "metadata": {
        "id": "6b603ddc-e5b9-4187-be41-baa66c7dab9a",
        "outputId": "1da7d275-f18d-4e3a-ab26-4e8e7b7303ce"
      },
      "outputs": [
        {
          "data": {
            "text/plain": [
              "<matplotlib.image.AxesImage at 0x7f61a4265540>"
            ]
          },
          "execution_count": 82,
          "metadata": {},
          "output_type": "execute_result"
        }
      ],
      "source": [
        "ax[0][0].imshow(XXX.reshape(50,50),cmap='gray') # 원래이미지"
      ]
    },
    {
      "cell_type": "code",
      "execution_count": null,
      "id": "33bf9ee8-72d4-4ddf-8edd-7a6650fc49a3",
      "metadata": {
        "id": "33bf9ee8-72d4-4ddf-8edd-7a6650fc49a3",
        "outputId": "4ba9d2d4-db88-4ab0-e2cb-771fd4b7856a"
      },
      "outputs": [
        {
          "data": {
            "text/plain": [
              "<matplotlib.image.AxesImage at 0x7f61a429b880>"
            ]
          },
          "execution_count": 89,
          "metadata": {},
          "output_type": "execute_result"
        }
      ],
      "source": [
        "ax[1][0].imshow(XXX0.reshape(49,49),cmap='gray') # 원래이미지 -> 평균필터 \n",
        "ax[1][2].imshow(XXX1.reshape(49,49),cmap='gray') # 원래이미지 -> 엣지필터"
      ]
    },
    {
      "cell_type": "code",
      "execution_count": null,
      "id": "f1cea099-ec15-4ee8-8904-8106e3aa635c",
      "metadata": {
        "id": "f1cea099-ec15-4ee8-8904-8106e3aa635c",
        "outputId": "ef68f75a-a403-4c74-afe3-4adc4e3d0193"
      },
      "outputs": [
        {
          "data": {
            "text/plain": [
              "<matplotlib.image.AxesImage at 0x7f61a415e380>"
            ]
          },
          "execution_count": 92,
          "metadata": {},
          "output_type": "execute_result"
        }
      ],
      "source": [
        "ax[2][0].imshow(conv(XXX0.reshape(1,49,49,1))[...,0].reshape(48,48),cmap='gray') # 원래이미지 -> 평균필터 \n",
        "ax[2][1].imshow(conv(XXX0.reshape(1,49,49,1))[...,1].reshape(48,48),cmap='gray') # 원래이미지 -> 엣지필터\n",
        "ax[2][2].imshow(conv(XXX1.reshape(1,49,49,1))[...,0].reshape(48,48),cmap='gray') # 원래이미지 -> 평균필터 \n",
        "ax[2][3].imshow(conv(XXX1.reshape(1,49,49,1))[...,1].reshape(48,48),cmap='gray') # 원래이미지 -> 엣지필터"
      ]
    },
    {
      "cell_type": "code",
      "execution_count": null,
      "id": "e83b8c8f-27d0-437f-bb51-806d68d6923e",
      "metadata": {
        "id": "e83b8c8f-27d0-437f-bb51-806d68d6923e",
        "outputId": "e90ed174-5cea-441f-bcff-70695196ac40"
      },
      "outputs": [
        {
          "data": {
            "image/png": "[encoded data removed]",
            "text/plain": [
              "<Figure size 1152x576 with 12 Axes>"
            ]
          },
          "execution_count": 96,
          "metadata": {},
          "output_type": "execute_result"
        }
      ],
      "source": [
        "fig.set_figheight(8)\n",
        "fig.set_figwidth(16)\n",
        "fig.tight_layout()\n",
        "fig"
      ]
    },
    {
      "cell_type": "markdown",
      "id": "f981cbca-b7e9-457b-bc2c-21e2c0068288",
      "metadata": {
        "id": "f981cbca-b7e9-457b-bc2c-21e2c0068288"
      },
      "source": [
        "`-` 요약 \n",
        "- conv의 weight에 따라서 엣지를 검출하는 필터가 만들어지기도 하고 스무딩의 역할을 하는 필터가 만들어지기도 한다. 그리고 우리는 의미를 알 수 없지만 어떠한 역할을 하는 필터가 만들어질 것이다. \n",
        "- 이것들을 조합하다보면 우연히 이미지를 분류하기에 유리한 특징을 뽑아내는 weight가 맞춰질 수도 있겠다. \n",
        "- 채널수를 많이 만들고 다양한 웨이트조합을 실험하다보면 보다 복잡한 이미지의 특징을 추출할 수도 있을 것이다? \n",
        "- 컨볼루션 레이어의 역할 = 이미지의 특징을 추출하는 역할 "
      ]
    },
    {
      "cell_type": "markdown",
      "id": "afd9f35d-5a96-4c89-8aa5-f02b403bfff8",
      "metadata": {
        "id": "afd9f35d-5a96-4c89-8aa5-f02b403bfff8"
      },
      "source": [
        "`-` 참고: 스트라이드, 패딩\n",
        "- 스트라이드: 윈도우가 1칸씩 이동하는 것이 아니라 2~3칸씩 이동함 \n",
        "- 패딩: 이미지의 가장자리에 정당한 값을 넣어서 (예를들어 0) 컨볼루션을 수행. 따라서 컨볼루션 연산 이후에도 이미지의 크기가 줄어들지 않도록 방지한다. "
      ]
    },
    {
      "cell_type": "markdown",
      "id": "e6e05b29-a69d-44fc-a7db-00bf2205c186",
      "metadata": {
        "id": "e6e05b29-a69d-44fc-a7db-00bf2205c186"
      },
      "source": [
        "### MAXPOOL"
      ]
    },
    {
      "cell_type": "markdown",
      "id": "fe3fec66-2e0b-4c3b-a76f-87e1142a7071",
      "metadata": {
        "id": "fe3fec66-2e0b-4c3b-a76f-87e1142a7071"
      },
      "source": [
        "`-` 기본적역할: 이미지의 크기를 줄이는 것 \n",
        "- 이미지의의 크기를 줄여야하는 이유? 어차피 최종적으로 10차원으로 줄어야하므로 \n",
        "- 이미지의 크기를 줄이면서도 동시에 아주 크리티컬한 특징은 손실없이 유지하고 싶다~"
      ]
    },
    {
      "cell_type": "markdown",
      "id": "3a85f72b-e94e-4052-87ad-3bd7e6e91001",
      "metadata": {
        "id": "3a85f72b-e94e-4052-87ad-3bd7e6e91001"
      },
      "source": [
        "`-` 점점 작은 이미지가 되면서 중요한 특징들은 살아남지만 그렇지 않으면 죽는다. (캐리커쳐 느낌)"
      ]
    },
    {
      "cell_type": "markdown",
      "id": "0d9da22f-b315-4ada-8fb2-231fc580d459",
      "metadata": {
        "id": "0d9da22f-b315-4ada-8fb2-231fc580d459"
      },
      "source": [
        "`-` 평균이 아니라 max를 쓴 이유는? 그냥 평균보다 나을것이라고 생각했음.. \n",
        "- 그런데 사실은 꼭 그렇지만은 않아서 최근에는 꼭 맥스풀링을 고집하진 않는 추세 (평균풀링도 많이씀) "
      ]
    },
    {
      "cell_type": "markdown",
      "id": "5a008e45-d696-4cce-b7b4-12b1eec333ca",
      "metadata": {
        "id": "5a008e45-d696-4cce-b7b4-12b1eec333ca"
      },
      "source": [
        "### CNN 아키텍처의 표현방법"
      ]
    },
    {
      "cell_type": "markdown",
      "id": "98fc8c3f-6c05-4528-9ac3-31620598491d",
      "metadata": {
        "id": "98fc8c3f-6c05-4528-9ac3-31620598491d"
      },
      "source": [
        "`-` 아래와 같이 아키텍처의 다이어그램형태로 표현하고 굳이 노드별로 이미지를 그리진 않음"
      ]
    },
    {
      "cell_type": "markdown",
      "id": "44f67916-2529-4522-bdcb-c9c881016a49",
      "metadata": {
        "id": "44f67916-2529-4522-bdcb-c9c881016a49"
      },
      "source": [
        "![](https://upload.wikimedia.org/wikipedia/commons/thumb/c/cc/Comparison_image_neural_networks.svg/2560px-Comparison_image_neural_networks.svg.png)"
      ]
    },
    {
      "cell_type": "markdown",
      "id": "4ba5be91-17ed-4491-9783-95c70a245ded",
      "metadata": {
        "id": "4ba5be91-17ed-4491-9783-95c70a245ded"
      },
      "source": [
        "`-` 물론 아래와 같이 그리는 경우도 있음"
      ]
    },
    {
      "cell_type": "markdown",
      "id": "ccddca57-68d6-4748-b0f6-dedd296aeefa",
      "metadata": {
        "id": "ccddca57-68d6-4748-b0f6-dedd296aeefa"
      },
      "source": [
        "![](https://editor.analyticsvidhya.com/uploads/90650dnn2.jpeg)"
      ]
    },
    {
      "cell_type": "markdown",
      "id": "ea43974c-bd23-4fee-82db-3124e428fd8c",
      "metadata": {
        "id": "ea43974c-bd23-4fee-82db-3124e428fd8c"
      },
      "source": [
        "### Discusstion about CNN "
      ]
    },
    {
      "cell_type": "markdown",
      "id": "aeab83b2-5173-4508-b099-e8a22f01e912",
      "metadata": {
        "id": "aeab83b2-5173-4508-b099-e8a22f01e912"
      },
      "source": [
        "`-` 격자형태로 배열된 자료를 처리하는데 특화된 신경망이다. \n",
        "- 시계열 (1차원격자), 이미지 (2차원격자)"
      ]
    },
    {
      "cell_type": "markdown",
      "id": "623c9d2f-5cc4-4771-8b6e-bdd743bf9867",
      "metadata": {
        "id": "623c9d2f-5cc4-4771-8b6e-bdd743bf9867"
      },
      "source": [
        "`-` 실제응용에서 엄청난 성공을 거두었다. "
      ]
    },
    {
      "cell_type": "markdown",
      "id": "15be8ed7-6df0-4097-a602-56e1c9c323dd",
      "metadata": {
        "id": "15be8ed7-6df0-4097-a602-56e1c9c323dd"
      },
      "source": [
        "`-` 이름의 유래는 컨볼루션이라는 수학적 연산을 사용했기 때문 \n",
        "- 컨볼루션은 조금 특별한 선형변환이다. "
      ]
    },
    {
      "cell_type": "markdown",
      "id": "3ad57856-2954-4bfb-9f5a-4c491b7244f0",
      "metadata": {
        "id": "3ad57856-2954-4bfb-9f5a-4c491b7244f0"
      },
      "source": [
        "`-` 신경과학의 원리가 심층학습에 영향을 미친 사례이다. "
      ]
    },
    {
      "cell_type": "markdown",
      "id": "989e025a-a12c-4cd9-9ed9-48f7b869c1c5",
      "metadata": {
        "id": "989e025a-a12c-4cd9-9ed9-48f7b869c1c5"
      },
      "source": [
        "### CNN의 모티브"
      ]
    },
    {
      "cell_type": "markdown",
      "id": "ac44b61f-7d8a-4429-9636-c5fa79404adc",
      "metadata": {
        "id": "ac44b61f-7d8a-4429-9636-c5fa79404adc"
      },
      "source": [
        "`-` 희소성 + 매개변수의 공유\n",
        "- 다소 철학적인 모티브임 \n",
        "- 희소성: 이미지를 분석하여 특징을 뽑아낼때 부분부분의 특징만 뽑으면 된다는 의미 \n",
        "- 매개변수의 공유: 한 채널에는 하나의 역할을 하는 커널을 설계하면 된다는 의미 (스무딩이든 엣징이든). 즉 어떤지역은 스무딩, 어떤지역은 엣징을 할 필요가 없이 한채널에서는 엣징만, 다른채널에서는 스무딩만 수행한뒤 여러채널을 조합해서 이해하면 된다. "
      ]
    },
    {
      "cell_type": "markdown",
      "id": "725d766b-bbd8-4f19-9649-621d3addcacf",
      "metadata": {
        "id": "725d766b-bbd8-4f19-9649-621d3addcacf"
      },
      "source": [
        "`-` 매개변수 공유효과로 인해서 파라메터가 확 줄어든다. "
      ]
    },
    {
      "cell_type": "markdown",
      "id": "f2db8e5a-7da7-4266-8e09-3a947894da30",
      "metadata": {
        "id": "f2db8e5a-7da7-4266-8e09-3a947894da30"
      },
      "source": [
        "(예시) (1,6,6,1) -> (1,5,5,2) \n",
        "- MLP방식이면 (36,50) 의 차원을 가진 매트릭스가 필요함 => 1800개의 매개변수 필요\n",
        "- CNN은 8개의 매개변수 필요"
      ]
    },
    {
      "cell_type": "markdown",
      "id": "2ccb7248-21d1-40f3-8d4b-af5f2de5ac15",
      "metadata": {
        "id": "2ccb7248-21d1-40f3-8d4b-af5f2de5ac15"
      },
      "source": [
        "### CNN 신경망의 기본구조 "
      ]
    },
    {
      "cell_type": "markdown",
      "id": "75710961-c900-4e87-970f-506d822fe9c7",
      "metadata": {
        "id": "75710961-c900-4e87-970f-506d822fe9c7"
      },
      "source": [
        "`-` 기본유닛 \n",
        "- conv - activation - pooling\n",
        "- conv - conv - activation - pooling"
      ]
    },
    {
      "cell_type": "markdown",
      "id": "66d3fc11-3adf-4656-bd9b-dfe10e7660d9",
      "metadata": {
        "id": "66d3fc11-3adf-4656-bd9b-dfe10e7660d9"
      },
      "source": [
        "## 모형의 성능을 올리기 위한 노력들 "
      ]
    },
    {
      "cell_type": "markdown",
      "id": "8cb9cb78-0704-46e5-b30e-879962d42fc7",
      "metadata": {
        "id": "8cb9cb78-0704-46e5-b30e-879962d42fc7"
      },
      "source": [
        "### dropout "
      ]
    },
    {
      "cell_type": "markdown",
      "id": "517f0bb9-641d-4fda-82b0-1be442dd0f33",
      "metadata": {
        "id": "517f0bb9-641d-4fda-82b0-1be442dd0f33"
      },
      "source": [
        "`-` 아래의 예제를 복습하자. "
      ]
    },
    {
      "cell_type": "code",
      "execution_count": null,
      "id": "96f57243-d853-42d5-8d3f-9e5e32848819",
      "metadata": {
        "id": "96f57243-d853-42d5-8d3f-9e5e32848819",
        "outputId": "c3d66fe0-1fb3-4611-a788-d6f969d66063"
      },
      "outputs": [
        {
          "data": {
            "text/plain": [
              "[<matplotlib.lines.Line2D at 0x7f1b9d3df0d0>]"
            ]
          },
          "execution_count": 4,
          "metadata": {},
          "output_type": "execute_result"
        },
        {
          "data": {
            "image/png": "[encoded data removed]",
            "text/plain": [
              "<Figure size 432x288 with 1 Axes>"
            ]
          },
          "metadata": {
            "needs_background": "light"
          },
          "output_type": "display_data"
        }
      ],
      "source": [
        "np.random.seed(43052)\n",
        "x = np.linspace(0,1,100).reshape(100,1)\n",
        "y = np.random.normal(loc=0,scale=0.01,size=(100,1))\n",
        "plt.plot(x,y)"
      ]
    },
    {
      "cell_type": "code",
      "execution_count": null,
      "id": "5cb694ab-eedf-4783-911c-3acb8ec88ceb",
      "metadata": {
        "id": "5cb694ab-eedf-4783-911c-3acb8ec88ceb",
        "outputId": "94cc54a9-56c8-4324-d417-28c6d92563e2"
      },
      "outputs": [
        {
          "name": "stderr",
          "output_type": "stream",
          "text": [
            "2022-05-23 19:33:01.211991: I tensorflow/stream_executor/cuda/cuda_gpu_executor.cc:939] successful NUMA node read from SysFS had negative value (-1), but there must be at least one NUMA node, so returning NUMA node zero\n"
          ]
        },
        {
          "data": {
            "text/plain": [
              "<keras.callbacks.History at 0x7f1b9528feb0>"
            ]
          },
          "execution_count": 5,
          "metadata": {},
          "output_type": "execute_result"
        }
      ],
      "source": [
        "tf.random.set_seed(43052)\n",
        "net = tf.keras.Sequential()\n",
        "net.add(tf.keras.layers.Dense(2048,activation='relu'))\n",
        "net.add(tf.keras.layers.Dense(1))\n",
        "net.compile(loss='mse',optimizer='adam')\n",
        "net.fit(x,y,epochs=5000,verbose=0,batch_size=100)"
      ]
    },
    {
      "cell_type": "code",
      "execution_count": null,
      "id": "68f7b197-9436-406c-91d5-9e78f800bd42",
      "metadata": {
        "id": "68f7b197-9436-406c-91d5-9e78f800bd42",
        "outputId": "df7d909c-c0b8-4114-e927-3b3a0a7d8da4"
      },
      "outputs": [
        {
          "data": {
            "text/plain": [
              "[<matplotlib.lines.Line2D at 0x7f1b881bc9d0>]"
            ]
          },
          "execution_count": 6,
          "metadata": {},
          "output_type": "execute_result"
        },
        {
          "data": {
            "image/png": "[encoded data removed]",
            "text/plain": [
              "<Figure size 432x288 with 1 Axes>"
            ]
          },
          "metadata": {
            "needs_background": "light"
          },
          "output_type": "display_data"
        }
      ],
      "source": [
        "plt.plot(x,y)\n",
        "plt.plot(x,net(x),'--')"
      ]
    },
    {
      "cell_type": "markdown",
      "id": "b909d6cc-bd6b-45c1-b89c-29944f35e829",
      "metadata": {
        "id": "b909d6cc-bd6b-45c1-b89c-29944f35e829"
      },
      "source": [
        "`-` train/test로 나누어서 생각해보자."
      ]
    },
    {
      "cell_type": "code",
      "execution_count": null,
      "id": "dd22f960-72b9-4b05-ad5b-94216e386cb4",
      "metadata": {
        "id": "dd22f960-72b9-4b05-ad5b-94216e386cb4",
        "outputId": "1bb98ed3-12d9-40e4-a977-996184be9231"
      },
      "outputs": [
        {
          "data": {
            "text/plain": [
              "<keras.callbacks.History at 0x7f1b881f9840>"
            ]
          },
          "execution_count": 7,
          "metadata": {},
          "output_type": "execute_result"
        }
      ],
      "source": [
        "tf.random.set_seed(43052)\n",
        "net = tf.keras.Sequential()\n",
        "net.add(tf.keras.layers.Dense(2048,activation='relu'))\n",
        "net.add(tf.keras.layers.Dense(1))\n",
        "net.compile(loss='mse',optimizer='adam')\n",
        "net.fit(x[:80],y[:80],epochs=5000,verbose=0,batch_size=80)"
      ]
    },
    {
      "cell_type": "code",
      "execution_count": null,
      "id": "a0eae141-9479-4a37-aa53-4b447e291c4f",
      "metadata": {
        "id": "a0eae141-9479-4a37-aa53-4b447e291c4f",
        "outputId": "70518302-1777-4eac-beb7-abf76b30ed07"
      },
      "outputs": [
        {
          "data": {
            "text/plain": [
              "[<matplotlib.lines.Line2D at 0x7f1b881faa40>]"
            ]
          },
          "execution_count": 8,
          "metadata": {},
          "output_type": "execute_result"
        },
        {
          "data": {
            "image/png": "[encoded data removed]",
            "text/plain": [
              "<Figure size 432x288 with 1 Axes>"
            ]
          },
          "metadata": {
            "needs_background": "light"
          },
          "output_type": "display_data"
        }
      ],
      "source": [
        "plt.plot(x,y)\n",
        "plt.plot(x[:80],net(x[:80]),'--')"
      ]
    },
    {
      "cell_type": "code",
      "execution_count": null,
      "id": "9a3cf108-77fe-4de2-a546-cd10af72c026",
      "metadata": {
        "id": "9a3cf108-77fe-4de2-a546-cd10af72c026",
        "outputId": "fac11490-4d3c-4363-c02f-55d8937dcfe5"
      },
      "outputs": [
        {
          "data": {
            "text/plain": [
              "[<matplotlib.lines.Line2D at 0x7f1b881686d0>]"
            ]
          },
          "execution_count": 9,
          "metadata": {},
          "output_type": "execute_result"
        },
        {
          "data": {
            "image/png": "[encoded data removed]",
            "text/plain": [
              "<Figure size 432x288 with 1 Axes>"
            ]
          },
          "metadata": {
            "needs_background": "light"
          },
          "output_type": "display_data"
        }
      ],
      "source": [
        "plt.plot(x,y)\n",
        "plt.plot(x[:80],net(x[:80]),'--')\n",
        "plt.plot(x[80:],net(x[80:]),'--')"
      ]
    },
    {
      "cell_type": "markdown",
      "id": "0cb1bf97-0176-439c-80aa-1d524848435f",
      "metadata": {
        "id": "0cb1bf97-0176-439c-80aa-1d524848435f"
      },
      "source": [
        "- train에서 추세를 따라가는게 좋은게 아니다 $\\to$ 그냥 직선으로 핏하는거 이외에는 다 오버핏이다. "
      ]
    },
    {
      "cell_type": "markdown",
      "id": "bd6e25e1-1e54-4086-b618-fe7465c0cd12",
      "metadata": {
        "id": "bd6e25e1-1e54-4086-b618-fe7465c0cd12"
      },
      "source": [
        "`-` 매 에폭마다 적당히 80%의 노드들을 빼고 학습하자 $\\to$ 너무 잘 학습되는 문제는 생기지 않을 것이다 (과적합이 방지될것이다?)"
      ]
    },
    {
      "cell_type": "code",
      "execution_count": null,
      "id": "a41f9a62-8b22-44d1-bff0-be04dfc5f0c3",
      "metadata": {
        "id": "a41f9a62-8b22-44d1-bff0-be04dfc5f0c3",
        "outputId": "4f35db81-c989-4ce4-f48d-f57a8684b5bb"
      },
      "outputs": [
        {
          "data": {
            "text/plain": [
              "<keras.callbacks.History at 0x7f1b80381a50>"
            ]
          },
          "execution_count": 10,
          "metadata": {},
          "output_type": "execute_result"
        }
      ],
      "source": [
        "tf.random.set_seed(43052)\n",
        "net = tf.keras.Sequential()\n",
        "net.add(tf.keras.layers.Dense(2048,activation='relu'))\n",
        "net.add(tf.keras.layers.Dropout(0.8))\n",
        "net.add(tf.keras.layers.Dense(1))\n",
        "net.compile(loss='mse',optimizer='adam')\n",
        "net.fit(x[:80],y[:80],epochs=5000,verbose=0,batch_size=80)"
      ]
    },
    {
      "cell_type": "code",
      "execution_count": null,
      "id": "029c0c55-ce78-4c78-a9ba-8070b2f5815b",
      "metadata": {
        "id": "029c0c55-ce78-4c78-a9ba-8070b2f5815b",
        "outputId": "d40fe0e4-d567-42b5-86e0-10928920a301"
      },
      "outputs": [
        {
          "data": {
            "text/plain": [
              "[<matplotlib.lines.Line2D at 0x7f1b8039db10>]"
            ]
          },
          "execution_count": 11,
          "metadata": {},
          "output_type": "execute_result"
        },
        {
          "data": {
            "image/png": "[encoded data removed]",
            "text/plain": [
              "<Figure size 432x288 with 1 Axes>"
            ]
          },
          "metadata": {
            "needs_background": "light"
          },
          "output_type": "display_data"
        }
      ],
      "source": [
        "plt.plot(x,y)\n",
        "plt.plot(x[:80],net(x[:80]),'--')\n",
        "plt.plot(x[80:],net(x[80:]),'--')"
      ]
    },
    {
      "cell_type": "markdown",
      "id": "d53bfa89-8b05-49c6-97e5-d4049ba905cc",
      "metadata": {
        "id": "d53bfa89-8b05-49c6-97e5-d4049ba905cc"
      },
      "source": [
        "`-` 드랍아웃에 대한 summary\n",
        "- 직관: 특정노드를 랜덤으로 off시키면 학습이 방해되어 오히려 과적합이 방지되는 효과가 있다 (그렇지만 진짜 중요한 특징이라면 랜덤으로 off 되더라도 어느정도는 학습될 듯)\n",
        "- note: 드랍아웃을 쓰면 오버핏이 줄어드는건 맞지만 완전히 없어지는건 아니다. \n",
        "- note: 오버핏을 줄이는 유일한 방법이 드랍아웃만 있는것도 아니며, 드랍아웃이 오버핏을 줄이는 가장 효과적인 방법도 아니다 (최근에는 dropout보다 batch nomalization을 사용하는 추세임)"
      ]
    },
    {
      "cell_type": "markdown",
      "id": "9de29c6b-ad9d-427a-8ed3-c81d5e9dda98",
      "metadata": {
        "id": "9de29c6b-ad9d-427a-8ed3-c81d5e9dda98"
      },
      "source": [
        "### train / val / test "
      ]
    },
    {
      "cell_type": "markdown",
      "id": "774e8f74-0a2a-4fa1-839a-78e23c1e41f0",
      "metadata": {
        "id": "774e8f74-0a2a-4fa1-839a-78e23c1e41f0"
      },
      "source": [
        "`-` data"
      ]
    },
    {
      "cell_type": "code",
      "execution_count": null,
      "id": "4ce7121f-6bb7-4b1d-bb39-f6249ba3cca2",
      "metadata": {
        "id": "4ce7121f-6bb7-4b1d-bb39-f6249ba3cca2"
      },
      "outputs": [],
      "source": [
        "(x_train, y_train), (x_test, y_test) = tf.keras.datasets.fashion_mnist.load_data()"
      ]
    },
    {
      "cell_type": "code",
      "execution_count": null,
      "id": "8b5bf325-8eb1-4e9a-8da7-0d0d40ff439d",
      "metadata": {
        "id": "8b5bf325-8eb1-4e9a-8da7-0d0d40ff439d"
      },
      "outputs": [],
      "source": [
        "X= x_train.reshape(-1,28,28,1)/255 ## 입력이 0~255 -> 0~1로 표준화 시키는 효과 + float으로 자료형이 바뀜 \n",
        "y = tf.keras.utils.to_categorical(y_train)\n",
        "XX = x_test.reshape(-1,28,28,1)/255\n",
        "yy = tf.keras.utils.to_categorical(y_test)"
      ]
    },
    {
      "cell_type": "code",
      "execution_count": null,
      "id": "c84c1fc4-1570-4ca8-b655-eb48c14bf50c",
      "metadata": {
        "id": "c84c1fc4-1570-4ca8-b655-eb48c14bf50c"
      },
      "outputs": [],
      "source": [
        "net = tf.keras.Sequential()\n",
        "net.add(tf.keras.layers.Flatten())\n",
        "net.add(tf.keras.layers.Dense(50,activation='relu'))\n",
        "net.add(tf.keras.layers.Dense(10,activation='softmax'))\n",
        "net.compile(optimizer='adam',loss=tf.losses.categorical_crossentropy,metrics='accuracy')"
      ]
    },
    {
      "cell_type": "code",
      "execution_count": null,
      "id": "92ef5c24-396c-4617-b055-03f78f0d88e6",
      "metadata": {
        "scrolled": true,
        "tags": [],
        "id": "92ef5c24-396c-4617-b055-03f78f0d88e6",
        "outputId": "3e9c1bae-7ced-4faf-c3b6-a5039723c68b"
      },
      "outputs": [
        {
          "name": "stdout",
          "output_type": "stream",
          "text": [
            "Epoch 1/200\n",
            "240/240 [==============================] - 0s 1ms/step - loss: 0.7013 - accuracy: 0.7666 - val_loss: 0.4976 - val_accuracy: 0.8320\n",
            "Epoch 2/200\n",
            "240/240 [==============================] - 0s 887us/step - loss: 0.4703 - accuracy: 0.8400 - val_loss: 0.4822 - val_accuracy: 0.8320\n",
            "Epoch 3/200\n",
            "240/240 [==============================] - 0s 915us/step - loss: 0.4287 - accuracy: 0.8518 - val_loss: 0.4339 - val_accuracy: 0.8535\n",
            "Epoch 4/200\n",
            "240/240 [==============================] - 0s 949us/step - loss: 0.4061 - accuracy: 0.8592 - val_loss: 0.4077 - val_accuracy: 0.8568\n",
            "Epoch 5/200\n",
            "240/240 [==============================] - 0s 937us/step - loss: 0.3851 - accuracy: 0.8661 - val_loss: 0.3948 - val_accuracy: 0.8619\n",
            "Epoch 6/200\n",
            "240/240 [==============================] - 0s 951us/step - loss: 0.3703 - accuracy: 0.8699 - val_loss: 0.3900 - val_accuracy: 0.8617\n",
            "Epoch 7/200\n",
            "240/240 [==============================] - 0s 879us/step - loss: 0.3587 - accuracy: 0.8746 - val_loss: 0.3846 - val_accuracy: 0.8678\n",
            "Epoch 8/200\n",
            "240/240 [==============================] - 0s 897us/step - loss: 0.3468 - accuracy: 0.8768 - val_loss: 0.3684 - val_accuracy: 0.8716\n",
            "Epoch 9/200\n",
            "240/240 [==============================] - 0s 905us/step - loss: 0.3397 - accuracy: 0.8788 - val_loss: 0.3678 - val_accuracy: 0.8708\n",
            "Epoch 10/200\n",
            "240/240 [==============================] - 0s 918us/step - loss: 0.3307 - accuracy: 0.8806 - val_loss: 0.3619 - val_accuracy: 0.8726\n",
            "Epoch 11/200\n",
            "240/240 [==============================] - 0s 961us/step - loss: 0.3208 - accuracy: 0.8843 - val_loss: 0.3619 - val_accuracy: 0.8711\n",
            "Epoch 12/200\n",
            "240/240 [==============================] - 0s 896us/step - loss: 0.3160 - accuracy: 0.8857 - val_loss: 0.3572 - val_accuracy: 0.8734\n",
            "Epoch 13/200\n",
            "240/240 [==============================] - 0s 879us/step - loss: 0.3098 - accuracy: 0.8889 - val_loss: 0.3567 - val_accuracy: 0.8723\n",
            "Epoch 14/200\n",
            "240/240 [==============================] - 0s 914us/step - loss: 0.3023 - accuracy: 0.8915 - val_loss: 0.3545 - val_accuracy: 0.8751\n",
            "Epoch 15/200\n",
            "240/240 [==============================] - 0s 972us/step - loss: 0.2983 - accuracy: 0.8937 - val_loss: 0.3514 - val_accuracy: 0.8763\n",
            "Epoch 16/200\n",
            "240/240 [==============================] - 0s 963us/step - loss: 0.2945 - accuracy: 0.8939 - val_loss: 0.3745 - val_accuracy: 0.8639\n",
            "Epoch 17/200\n",
            "240/240 [==============================] - 0s 884us/step - loss: 0.2901 - accuracy: 0.8956 - val_loss: 0.3427 - val_accuracy: 0.8786\n",
            "Epoch 18/200\n",
            "240/240 [==============================] - 0s 876us/step - loss: 0.2835 - accuracy: 0.8972 - val_loss: 0.3470 - val_accuracy: 0.8770\n",
            "Epoch 19/200\n",
            "240/240 [==============================] - 0s 916us/step - loss: 0.2787 - accuracy: 0.8997 - val_loss: 0.3457 - val_accuracy: 0.8803\n",
            "Epoch 20/200\n",
            "240/240 [==============================] - 0s 943us/step - loss: 0.2741 - accuracy: 0.9007 - val_loss: 0.3373 - val_accuracy: 0.8814\n",
            "Epoch 21/200\n",
            "240/240 [==============================] - 0s 883us/step - loss: 0.2699 - accuracy: 0.9016 - val_loss: 0.3352 - val_accuracy: 0.8832\n",
            "Epoch 22/200\n",
            "240/240 [==============================] - 0s 880us/step - loss: 0.2644 - accuracy: 0.9036 - val_loss: 0.3320 - val_accuracy: 0.8817\n",
            "Epoch 23/200\n",
            "240/240 [==============================] - 0s 948us/step - loss: 0.2610 - accuracy: 0.9059 - val_loss: 0.3384 - val_accuracy: 0.8768\n",
            "Epoch 24/200\n",
            "240/240 [==============================] - 0s 946us/step - loss: 0.2575 - accuracy: 0.9076 - val_loss: 0.3446 - val_accuracy: 0.8785\n",
            "Epoch 25/200\n",
            "240/240 [==============================] - 0s 939us/step - loss: 0.2532 - accuracy: 0.9084 - val_loss: 0.3312 - val_accuracy: 0.8820\n",
            "Epoch 26/200\n",
            "240/240 [==============================] - 0s 967us/step - loss: 0.2509 - accuracy: 0.9094 - val_loss: 0.3383 - val_accuracy: 0.8833\n",
            "Epoch 27/200\n",
            "240/240 [==============================] - 0s 929us/step - loss: 0.2487 - accuracy: 0.9106 - val_loss: 0.3365 - val_accuracy: 0.8827\n",
            "Epoch 28/200\n",
            "240/240 [==============================] - 0s 943us/step - loss: 0.2450 - accuracy: 0.9123 - val_loss: 0.3376 - val_accuracy: 0.8827\n",
            "Epoch 29/200\n",
            "240/240 [==============================] - 0s 922us/step - loss: 0.2424 - accuracy: 0.9122 - val_loss: 0.3346 - val_accuracy: 0.8823\n",
            "Epoch 30/200\n",
            "240/240 [==============================] - 0s 903us/step - loss: 0.2407 - accuracy: 0.9137 - val_loss: 0.3367 - val_accuracy: 0.8813\n",
            "Epoch 31/200\n",
            "240/240 [==============================] - 0s 906us/step - loss: 0.2380 - accuracy: 0.9147 - val_loss: 0.3376 - val_accuracy: 0.8813\n",
            "Epoch 32/200\n",
            "240/240 [==============================] - 0s 885us/step - loss: 0.2349 - accuracy: 0.9155 - val_loss: 0.3372 - val_accuracy: 0.8856\n",
            "Epoch 33/200\n",
            "240/240 [==============================] - 0s 891us/step - loss: 0.2324 - accuracy: 0.9167 - val_loss: 0.3362 - val_accuracy: 0.8833\n",
            "Epoch 34/200\n",
            "240/240 [==============================] - 0s 900us/step - loss: 0.2285 - accuracy: 0.9177 - val_loss: 0.3486 - val_accuracy: 0.8810\n",
            "Epoch 35/200\n",
            "240/240 [==============================] - 0s 858us/step - loss: 0.2270 - accuracy: 0.9188 - val_loss: 0.3364 - val_accuracy: 0.8817\n",
            "Epoch 36/200\n",
            "240/240 [==============================] - 0s 893us/step - loss: 0.2241 - accuracy: 0.9204 - val_loss: 0.3401 - val_accuracy: 0.8852\n",
            "Epoch 37/200\n",
            "240/240 [==============================] - 0s 907us/step - loss: 0.2258 - accuracy: 0.9178 - val_loss: 0.3451 - val_accuracy: 0.8811\n",
            "Epoch 38/200\n",
            "240/240 [==============================] - 0s 899us/step - loss: 0.2249 - accuracy: 0.9196 - val_loss: 0.3377 - val_accuracy: 0.8836\n",
            "Epoch 39/200\n",
            "240/240 [==============================] - 0s 876us/step - loss: 0.2187 - accuracy: 0.9215 - val_loss: 0.3298 - val_accuracy: 0.8867\n",
            "Epoch 40/200\n",
            "240/240 [==============================] - 0s 905us/step - loss: 0.2148 - accuracy: 0.9229 - val_loss: 0.3342 - val_accuracy: 0.8853\n",
            "Epoch 41/200\n",
            "240/240 [==============================] - 0s 954us/step - loss: 0.2118 - accuracy: 0.9240 - val_loss: 0.3378 - val_accuracy: 0.8840\n",
            "Epoch 42/200\n",
            "240/240 [==============================] - 0s 916us/step - loss: 0.2135 - accuracy: 0.9243 - val_loss: 0.3348 - val_accuracy: 0.8857\n",
            "Epoch 43/200\n",
            "240/240 [==============================] - 0s 943us/step - loss: 0.2101 - accuracy: 0.9247 - val_loss: 0.3369 - val_accuracy: 0.8857\n",
            "Epoch 44/200\n",
            "240/240 [==============================] - 0s 877us/step - loss: 0.2069 - accuracy: 0.9261 - val_loss: 0.3400 - val_accuracy: 0.8832\n",
            "Epoch 45/200\n",
            "240/240 [==============================] - 0s 900us/step - loss: 0.2040 - accuracy: 0.9267 - val_loss: 0.3358 - val_accuracy: 0.8854\n",
            "Epoch 46/200\n",
            "240/240 [==============================] - 0s 926us/step - loss: 0.2029 - accuracy: 0.9271 - val_loss: 0.3562 - val_accuracy: 0.8802\n",
            "Epoch 47/200\n",
            "240/240 [==============================] - 0s 901us/step - loss: 0.2052 - accuracy: 0.9263 - val_loss: 0.3509 - val_accuracy: 0.8841\n",
            "Epoch 48/200\n",
            "240/240 [==============================] - 0s 927us/step - loss: 0.1977 - accuracy: 0.9296 - val_loss: 0.3434 - val_accuracy: 0.8852\n",
            "Epoch 49/200\n",
            "240/240 [==============================] - 0s 870us/step - loss: 0.1980 - accuracy: 0.9281 - val_loss: 0.3587 - val_accuracy: 0.8810\n",
            "Epoch 50/200\n",
            "240/240 [==============================] - 0s 874us/step - loss: 0.1972 - accuracy: 0.9292 - val_loss: 0.3483 - val_accuracy: 0.8828\n",
            "Epoch 51/200\n",
            "240/240 [==============================] - 0s 924us/step - loss: 0.1973 - accuracy: 0.9286 - val_loss: 0.3518 - val_accuracy: 0.8834\n",
            "Epoch 52/200\n",
            "240/240 [==============================] - 0s 886us/step - loss: 0.1920 - accuracy: 0.9309 - val_loss: 0.3647 - val_accuracy: 0.8796\n",
            "Epoch 53/200\n",
            "240/240 [==============================] - 0s 901us/step - loss: 0.1935 - accuracy: 0.9306 - val_loss: 0.3571 - val_accuracy: 0.8831\n",
            "Epoch 54/200\n",
            "240/240 [==============================] - 0s 946us/step - loss: 0.1918 - accuracy: 0.9311 - val_loss: 0.3545 - val_accuracy: 0.8834\n",
            "Epoch 55/200\n",
            "240/240 [==============================] - 0s 950us/step - loss: 0.1921 - accuracy: 0.9306 - val_loss: 0.3643 - val_accuracy: 0.8823\n",
            "Epoch 56/200\n",
            "240/240 [==============================] - 0s 913us/step - loss: 0.1870 - accuracy: 0.9335 - val_loss: 0.3665 - val_accuracy: 0.8798\n",
            "Epoch 57/200\n",
            "240/240 [==============================] - 0s 908us/step - loss: 0.1857 - accuracy: 0.9328 - val_loss: 0.3539 - val_accuracy: 0.8833\n",
            "Epoch 58/200\n",
            "240/240 [==============================] - 0s 919us/step - loss: 0.1815 - accuracy: 0.9353 - val_loss: 0.3569 - val_accuracy: 0.8833\n",
            "Epoch 59/200\n",
            "240/240 [==============================] - 0s 863us/step - loss: 0.1832 - accuracy: 0.9337 - val_loss: 0.3603 - val_accuracy: 0.8833\n",
            "Epoch 60/200\n",
            "240/240 [==============================] - 0s 912us/step - loss: 0.1804 - accuracy: 0.9361 - val_loss: 0.3690 - val_accuracy: 0.8812\n",
            "Epoch 61/200\n",
            "240/240 [==============================] - 0s 858us/step - loss: 0.1769 - accuracy: 0.9368 - val_loss: 0.3624 - val_accuracy: 0.8840\n",
            "Epoch 62/200\n",
            "240/240 [==============================] - 0s 885us/step - loss: 0.1756 - accuracy: 0.9366 - val_loss: 0.3637 - val_accuracy: 0.8829\n",
            "Epoch 63/200\n",
            "240/240 [==============================] - 0s 903us/step - loss: 0.1766 - accuracy: 0.9363 - val_loss: 0.3663 - val_accuracy: 0.8824\n",
            "Epoch 64/200\n",
            "240/240 [==============================] - 0s 878us/step - loss: 0.1767 - accuracy: 0.9363 - val_loss: 0.3694 - val_accuracy: 0.8825\n",
            "Epoch 65/200\n",
            "240/240 [==============================] - 0s 866us/step - loss: 0.1733 - accuracy: 0.9377 - val_loss: 0.3820 - val_accuracy: 0.8838\n",
            "Epoch 66/200\n",
            "240/240 [==============================] - 0s 949us/step - loss: 0.1742 - accuracy: 0.9370 - val_loss: 0.3721 - val_accuracy: 0.8825\n",
            "Epoch 67/200\n",
            "240/240 [==============================] - 0s 887us/step - loss: 0.1698 - accuracy: 0.9386 - val_loss: 0.3717 - val_accuracy: 0.8838\n",
            "Epoch 68/200\n",
            "240/240 [==============================] - 0s 942us/step - loss: 0.1683 - accuracy: 0.9399 - val_loss: 0.3823 - val_accuracy: 0.8821\n",
            "Epoch 69/200\n",
            "240/240 [==============================] - 0s 951us/step - loss: 0.1680 - accuracy: 0.9406 - val_loss: 0.3739 - val_accuracy: 0.8865\n",
            "Epoch 70/200\n",
            "240/240 [==============================] - 0s 900us/step - loss: 0.1673 - accuracy: 0.9395 - val_loss: 0.3789 - val_accuracy: 0.8821\n",
            "Epoch 71/200\n",
            "240/240 [==============================] - 0s 904us/step - loss: 0.1671 - accuracy: 0.9396 - val_loss: 0.3881 - val_accuracy: 0.8808\n",
            "Epoch 72/200\n",
            "240/240 [==============================] - 0s 915us/step - loss: 0.1664 - accuracy: 0.9396 - val_loss: 0.3821 - val_accuracy: 0.8824\n",
            "Epoch 73/200\n",
            "240/240 [==============================] - 0s 899us/step - loss: 0.1603 - accuracy: 0.9433 - val_loss: 0.3864 - val_accuracy: 0.8822\n",
            "Epoch 74/200\n",
            "240/240 [==============================] - 0s 926us/step - loss: 0.1621 - accuracy: 0.9411 - val_loss: 0.3850 - val_accuracy: 0.8820\n",
            "Epoch 75/200\n",
            "240/240 [==============================] - 0s 902us/step - loss: 0.1578 - accuracy: 0.9439 - val_loss: 0.3827 - val_accuracy: 0.8838\n",
            "Epoch 76/200\n",
            "240/240 [==============================] - 0s 899us/step - loss: 0.1589 - accuracy: 0.9431 - val_loss: 0.4160 - val_accuracy: 0.8751\n",
            "Epoch 77/200\n",
            "240/240 [==============================] - 0s 909us/step - loss: 0.1597 - accuracy: 0.9426 - val_loss: 0.3934 - val_accuracy: 0.8810\n",
            "Epoch 78/200\n",
            "240/240 [==============================] - 0s 894us/step - loss: 0.1582 - accuracy: 0.9420 - val_loss: 0.4076 - val_accuracy: 0.8777\n",
            "Epoch 79/200\n",
            "240/240 [==============================] - 0s 897us/step - loss: 0.1573 - accuracy: 0.9439 - val_loss: 0.3890 - val_accuracy: 0.8832\n",
            "Epoch 80/200\n",
            "240/240 [==============================] - 0s 917us/step - loss: 0.1567 - accuracy: 0.9445 - val_loss: 0.4039 - val_accuracy: 0.8805\n",
            "Epoch 81/200\n",
            "240/240 [==============================] - 0s 921us/step - loss: 0.1529 - accuracy: 0.9455 - val_loss: 0.3967 - val_accuracy: 0.8818\n",
            "Epoch 82/200\n",
            "240/240 [==============================] - 0s 919us/step - loss: 0.1522 - accuracy: 0.9456 - val_loss: 0.4028 - val_accuracy: 0.8796\n",
            "Epoch 83/200\n",
            "240/240 [==============================] - 0s 984us/step - loss: 0.1501 - accuracy: 0.9462 - val_loss: 0.4147 - val_accuracy: 0.8802\n",
            "Epoch 84/200\n",
            "240/240 [==============================] - 0s 873us/step - loss: 0.1493 - accuracy: 0.9466 - val_loss: 0.3956 - val_accuracy: 0.8818\n",
            "Epoch 85/200\n",
            "240/240 [==============================] - 0s 882us/step - loss: 0.1484 - accuracy: 0.9470 - val_loss: 0.4121 - val_accuracy: 0.8807\n",
            "Epoch 86/200\n",
            "240/240 [==============================] - 0s 894us/step - loss: 0.1504 - accuracy: 0.9449 - val_loss: 0.4089 - val_accuracy: 0.8790\n",
            "Epoch 87/200\n",
            "240/240 [==============================] - 0s 924us/step - loss: 0.1437 - accuracy: 0.9493 - val_loss: 0.4243 - val_accuracy: 0.8776\n",
            "Epoch 88/200\n",
            "240/240 [==============================] - 0s 905us/step - loss: 0.1462 - accuracy: 0.9478 - val_loss: 0.4123 - val_accuracy: 0.8799\n",
            "Epoch 89/200\n",
            "240/240 [==============================] - 0s 950us/step - loss: 0.1444 - accuracy: 0.9479 - val_loss: 0.4105 - val_accuracy: 0.8823\n",
            "Epoch 90/200\n",
            "240/240 [==============================] - 0s 908us/step - loss: 0.1460 - accuracy: 0.9482 - val_loss: 0.4103 - val_accuracy: 0.8827\n",
            "Epoch 91/200\n",
            "240/240 [==============================] - 0s 889us/step - loss: 0.1425 - accuracy: 0.9489 - val_loss: 0.4112 - val_accuracy: 0.8819\n",
            "Epoch 92/200\n",
            "240/240 [==============================] - 0s 869us/step - loss: 0.1455 - accuracy: 0.9483 - val_loss: 0.4115 - val_accuracy: 0.8818\n",
            "Epoch 93/200\n",
            "240/240 [==============================] - 0s 917us/step - loss: 0.1412 - accuracy: 0.9491 - val_loss: 0.4177 - val_accuracy: 0.8805\n",
            "Epoch 94/200\n",
            "240/240 [==============================] - 0s 865us/step - loss: 0.1398 - accuracy: 0.9500 - val_loss: 0.4177 - val_accuracy: 0.8813\n",
            "Epoch 95/200\n",
            "240/240 [==============================] - 0s 910us/step - loss: 0.1417 - accuracy: 0.9504 - val_loss: 0.4248 - val_accuracy: 0.8796\n",
            "Epoch 96/200\n",
            "240/240 [==============================] - 0s 917us/step - loss: 0.1392 - accuracy: 0.9499 - val_loss: 0.4207 - val_accuracy: 0.8840\n",
            "Epoch 97/200\n",
            "240/240 [==============================] - 0s 872us/step - loss: 0.1366 - accuracy: 0.9514 - val_loss: 0.4218 - val_accuracy: 0.8810\n",
            "Epoch 98/200\n",
            "240/240 [==============================] - 0s 896us/step - loss: 0.1344 - accuracy: 0.9519 - val_loss: 0.4281 - val_accuracy: 0.8794\n",
            "Epoch 99/200\n",
            "240/240 [==============================] - 0s 928us/step - loss: 0.1346 - accuracy: 0.9521 - val_loss: 0.4304 - val_accuracy: 0.8803\n",
            "Epoch 100/200\n",
            "240/240 [==============================] - 0s 849us/step - loss: 0.1368 - accuracy: 0.9511 - val_loss: 0.4335 - val_accuracy: 0.8800\n",
            "Epoch 101/200\n",
            "240/240 [==============================] - 0s 930us/step - loss: 0.1317 - accuracy: 0.9540 - val_loss: 0.4345 - val_accuracy: 0.8799\n",
            "Epoch 102/200\n",
            "240/240 [==============================] - 0s 919us/step - loss: 0.1318 - accuracy: 0.9530 - val_loss: 0.4430 - val_accuracy: 0.8774\n",
            "Epoch 103/200\n",
            "240/240 [==============================] - 0s 905us/step - loss: 0.1306 - accuracy: 0.9538 - val_loss: 0.4427 - val_accuracy: 0.8783\n",
            "Epoch 104/200\n",
            "240/240 [==============================] - 0s 892us/step - loss: 0.1322 - accuracy: 0.9532 - val_loss: 0.4409 - val_accuracy: 0.8797\n",
            "Epoch 105/200\n",
            "240/240 [==============================] - 0s 853us/step - loss: 0.1322 - accuracy: 0.9524 - val_loss: 0.4631 - val_accuracy: 0.8759\n",
            "Epoch 106/200\n",
            "240/240 [==============================] - 0s 901us/step - loss: 0.1295 - accuracy: 0.9540 - val_loss: 0.4451 - val_accuracy: 0.8811\n",
            "Epoch 107/200\n",
            "240/240 [==============================] - 0s 910us/step - loss: 0.1287 - accuracy: 0.9539 - val_loss: 0.4393 - val_accuracy: 0.8795\n",
            "Epoch 108/200\n",
            "240/240 [==============================] - 0s 927us/step - loss: 0.1265 - accuracy: 0.9549 - val_loss: 0.4547 - val_accuracy: 0.8783\n",
            "Epoch 109/200\n",
            "240/240 [==============================] - 0s 899us/step - loss: 0.1257 - accuracy: 0.9553 - val_loss: 0.4467 - val_accuracy: 0.8798\n",
            "Epoch 110/200\n",
            "240/240 [==============================] - 0s 911us/step - loss: 0.1264 - accuracy: 0.9558 - val_loss: 0.4494 - val_accuracy: 0.8775\n",
            "Epoch 111/200\n",
            "240/240 [==============================] - 0s 911us/step - loss: 0.1256 - accuracy: 0.9550 - val_loss: 0.4600 - val_accuracy: 0.8777\n",
            "Epoch 112/200\n",
            "240/240 [==============================] - 0s 897us/step - loss: 0.1241 - accuracy: 0.9561 - val_loss: 0.4468 - val_accuracy: 0.8785\n",
            "Epoch 113/200\n",
            "240/240 [==============================] - 0s 904us/step - loss: 0.1242 - accuracy: 0.9556 - val_loss: 0.4592 - val_accuracy: 0.8788\n",
            "Epoch 114/200\n",
            "240/240 [==============================] - 0s 913us/step - loss: 0.1224 - accuracy: 0.9574 - val_loss: 0.4640 - val_accuracy: 0.8778\n",
            "Epoch 115/200\n",
            "240/240 [==============================] - 0s 912us/step - loss: 0.1235 - accuracy: 0.9563 - val_loss: 0.4590 - val_accuracy: 0.8777\n",
            "Epoch 116/200\n",
            "240/240 [==============================] - 0s 907us/step - loss: 0.1222 - accuracy: 0.9568 - val_loss: 0.4762 - val_accuracy: 0.8781\n",
            "Epoch 117/200\n",
            "240/240 [==============================] - 0s 913us/step - loss: 0.1178 - accuracy: 0.9583 - val_loss: 0.4585 - val_accuracy: 0.8818\n",
            "Epoch 118/200\n",
            "240/240 [==============================] - 0s 901us/step - loss: 0.1207 - accuracy: 0.9571 - val_loss: 0.4796 - val_accuracy: 0.8770\n",
            "Epoch 119/200\n",
            "240/240 [==============================] - 0s 883us/step - loss: 0.1194 - accuracy: 0.9574 - val_loss: 0.4711 - val_accuracy: 0.8790\n",
            "Epoch 120/200\n",
            "240/240 [==============================] - 0s 953us/step - loss: 0.1204 - accuracy: 0.9565 - val_loss: 0.4612 - val_accuracy: 0.8796\n",
            "Epoch 121/200\n",
            "240/240 [==============================] - 0s 887us/step - loss: 0.1138 - accuracy: 0.9596 - val_loss: 0.4792 - val_accuracy: 0.8770\n",
            "Epoch 122/200\n",
            "240/240 [==============================] - 0s 874us/step - loss: 0.1142 - accuracy: 0.9602 - val_loss: 0.4784 - val_accuracy: 0.8762\n",
            "Epoch 123/200\n",
            "240/240 [==============================] - 0s 914us/step - loss: 0.1184 - accuracy: 0.9574 - val_loss: 0.4791 - val_accuracy: 0.8787\n",
            "Epoch 124/200\n",
            "240/240 [==============================] - 0s 922us/step - loss: 0.1161 - accuracy: 0.9593 - val_loss: 0.4876 - val_accuracy: 0.8763\n",
            "Epoch 125/200\n",
            "240/240 [==============================] - 0s 882us/step - loss: 0.1159 - accuracy: 0.9584 - val_loss: 0.4888 - val_accuracy: 0.8745\n",
            "Epoch 126/200\n",
            "240/240 [==============================] - 0s 951us/step - loss: 0.1140 - accuracy: 0.9597 - val_loss: 0.5025 - val_accuracy: 0.8754\n",
            "Epoch 127/200\n",
            "240/240 [==============================] - 0s 900us/step - loss: 0.1151 - accuracy: 0.9593 - val_loss: 0.4892 - val_accuracy: 0.8747\n",
            "Epoch 128/200\n",
            "240/240 [==============================] - 0s 890us/step - loss: 0.1100 - accuracy: 0.9611 - val_loss: 0.4833 - val_accuracy: 0.8777\n",
            "Epoch 129/200\n",
            "240/240 [==============================] - 0s 890us/step - loss: 0.1121 - accuracy: 0.9606 - val_loss: 0.4996 - val_accuracy: 0.8720\n",
            "Epoch 130/200\n",
            "240/240 [==============================] - 0s 892us/step - loss: 0.1097 - accuracy: 0.9614 - val_loss: 0.4904 - val_accuracy: 0.8779\n",
            "Epoch 131/200\n",
            "240/240 [==============================] - 0s 888us/step - loss: 0.1084 - accuracy: 0.9620 - val_loss: 0.4944 - val_accuracy: 0.8748\n",
            "Epoch 132/200\n",
            "240/240 [==============================] - 0s 931us/step - loss: 0.1123 - accuracy: 0.9604 - val_loss: 0.4892 - val_accuracy: 0.8778\n",
            "Epoch 133/200\n",
            "240/240 [==============================] - 0s 896us/step - loss: 0.1097 - accuracy: 0.9621 - val_loss: 0.5165 - val_accuracy: 0.8733\n",
            "Epoch 134/200\n",
            "240/240 [==============================] - 0s 897us/step - loss: 0.1050 - accuracy: 0.9631 - val_loss: 0.5124 - val_accuracy: 0.8731\n",
            "Epoch 135/200\n",
            "240/240 [==============================] - 0s 915us/step - loss: 0.1093 - accuracy: 0.9618 - val_loss: 0.5165 - val_accuracy: 0.8733\n",
            "Epoch 136/200\n",
            "240/240 [==============================] - 0s 909us/step - loss: 0.1045 - accuracy: 0.9640 - val_loss: 0.5045 - val_accuracy: 0.8781\n",
            "Epoch 137/200\n",
            "240/240 [==============================] - 0s 931us/step - loss: 0.1056 - accuracy: 0.9627 - val_loss: 0.5124 - val_accuracy: 0.8773\n",
            "Epoch 138/200\n",
            "240/240 [==============================] - 0s 905us/step - loss: 0.1089 - accuracy: 0.9610 - val_loss: 0.5152 - val_accuracy: 0.8751\n",
            "Epoch 139/200\n",
            "240/240 [==============================] - 0s 922us/step - loss: 0.1059 - accuracy: 0.9628 - val_loss: 0.5150 - val_accuracy: 0.8744\n",
            "Epoch 140/200\n",
            "240/240 [==============================] - 0s 923us/step - loss: 0.1031 - accuracy: 0.9638 - val_loss: 0.5156 - val_accuracy: 0.8740\n",
            "Epoch 141/200\n",
            "240/240 [==============================] - 0s 870us/step - loss: 0.1063 - accuracy: 0.9620 - val_loss: 0.5207 - val_accuracy: 0.8719\n",
            "Epoch 142/200\n",
            "240/240 [==============================] - 0s 904us/step - loss: 0.1054 - accuracy: 0.9621 - val_loss: 0.5220 - val_accuracy: 0.8740\n",
            "Epoch 143/200\n",
            "240/240 [==============================] - 0s 929us/step - loss: 0.1043 - accuracy: 0.9623 - val_loss: 0.5356 - val_accuracy: 0.8736\n",
            "Epoch 144/200\n",
            "240/240 [==============================] - 0s 869us/step - loss: 0.1039 - accuracy: 0.9636 - val_loss: 0.5403 - val_accuracy: 0.8737\n",
            "Epoch 145/200\n",
            "240/240 [==============================] - 0s 872us/step - loss: 0.1014 - accuracy: 0.9649 - val_loss: 0.5294 - val_accuracy: 0.8751\n",
            "Epoch 146/200\n",
            "240/240 [==============================] - 0s 903us/step - loss: 0.1027 - accuracy: 0.9636 - val_loss: 0.5321 - val_accuracy: 0.8770\n",
            "Epoch 147/200\n",
            "240/240 [==============================] - 0s 906us/step - loss: 0.1012 - accuracy: 0.9646 - val_loss: 0.5329 - val_accuracy: 0.8748\n",
            "Epoch 148/200\n",
            "240/240 [==============================] - 0s 909us/step - loss: 0.1006 - accuracy: 0.9645 - val_loss: 0.5368 - val_accuracy: 0.8743\n",
            "Epoch 149/200\n",
            "240/240 [==============================] - 0s 872us/step - loss: 0.0975 - accuracy: 0.9656 - val_loss: 0.5320 - val_accuracy: 0.8759\n",
            "Epoch 150/200\n",
            "240/240 [==============================] - 0s 895us/step - loss: 0.0985 - accuracy: 0.9660 - val_loss: 0.5357 - val_accuracy: 0.8745\n",
            "Epoch 151/200\n",
            "240/240 [==============================] - 0s 896us/step - loss: 0.0962 - accuracy: 0.9668 - val_loss: 0.5353 - val_accuracy: 0.8748\n",
            "Epoch 152/200\n",
            "240/240 [==============================] - 0s 936us/step - loss: 0.0955 - accuracy: 0.9674 - val_loss: 0.5318 - val_accuracy: 0.8763\n",
            "Epoch 153/200\n",
            "240/240 [==============================] - 0s 878us/step - loss: 0.0970 - accuracy: 0.9660 - val_loss: 0.5866 - val_accuracy: 0.8702\n",
            "Epoch 154/200\n",
            "240/240 [==============================] - 0s 940us/step - loss: 0.0992 - accuracy: 0.9646 - val_loss: 0.5421 - val_accuracy: 0.8750\n",
            "Epoch 155/200\n",
            "240/240 [==============================] - 0s 931us/step - loss: 0.0965 - accuracy: 0.9661 - val_loss: 0.5436 - val_accuracy: 0.8739\n",
            "Epoch 156/200\n",
            "240/240 [==============================] - 0s 939us/step - loss: 0.0959 - accuracy: 0.9666 - val_loss: 0.5542 - val_accuracy: 0.8745\n",
            "Epoch 157/200\n",
            "240/240 [==============================] - 0s 898us/step - loss: 0.0980 - accuracy: 0.9647 - val_loss: 0.5441 - val_accuracy: 0.8747\n",
            "Epoch 158/200\n",
            "240/240 [==============================] - 0s 905us/step - loss: 0.0925 - accuracy: 0.9676 - val_loss: 0.5507 - val_accuracy: 0.8746\n",
            "Epoch 159/200\n",
            "240/240 [==============================] - 0s 905us/step - loss: 0.0950 - accuracy: 0.9663 - val_loss: 0.5700 - val_accuracy: 0.8712\n",
            "Epoch 160/200\n",
            "240/240 [==============================] - 0s 927us/step - loss: 0.0908 - accuracy: 0.9679 - val_loss: 0.5641 - val_accuracy: 0.8727\n",
            "Epoch 161/200\n",
            "240/240 [==============================] - 0s 937us/step - loss: 0.0936 - accuracy: 0.9668 - val_loss: 0.5689 - val_accuracy: 0.8750\n",
            "Epoch 162/200\n",
            "240/240 [==============================] - 0s 899us/step - loss: 0.0888 - accuracy: 0.9694 - val_loss: 0.5641 - val_accuracy: 0.8772\n",
            "Epoch 163/200\n",
            "240/240 [==============================] - 0s 907us/step - loss: 0.0903 - accuracy: 0.9685 - val_loss: 0.5628 - val_accuracy: 0.8737\n",
            "Epoch 164/200\n",
            "240/240 [==============================] - 0s 908us/step - loss: 0.0923 - accuracy: 0.9675 - val_loss: 0.5623 - val_accuracy: 0.8752\n",
            "Epoch 165/200\n",
            "240/240 [==============================] - 0s 949us/step - loss: 0.0880 - accuracy: 0.9696 - val_loss: 0.5775 - val_accuracy: 0.8713\n",
            "Epoch 166/200\n",
            "240/240 [==============================] - 0s 930us/step - loss: 0.0919 - accuracy: 0.9672 - val_loss: 0.5924 - val_accuracy: 0.8719\n",
            "Epoch 167/200\n",
            "240/240 [==============================] - 0s 932us/step - loss: 0.0868 - accuracy: 0.9697 - val_loss: 0.5952 - val_accuracy: 0.8719\n",
            "Epoch 168/200\n",
            "240/240 [==============================] - 0s 861us/step - loss: 0.0910 - accuracy: 0.9679 - val_loss: 0.5820 - val_accuracy: 0.8733\n",
            "Epoch 169/200\n",
            "240/240 [==============================] - 0s 938us/step - loss: 0.0871 - accuracy: 0.9700 - val_loss: 0.5781 - val_accuracy: 0.8734\n",
            "Epoch 170/200\n",
            "240/240 [==============================] - 0s 912us/step - loss: 0.0885 - accuracy: 0.9691 - val_loss: 0.5683 - val_accuracy: 0.8742\n",
            "Epoch 171/200\n",
            "240/240 [==============================] - 0s 939us/step - loss: 0.0894 - accuracy: 0.9680 - val_loss: 0.5945 - val_accuracy: 0.8721\n",
            "Epoch 172/200\n",
            "240/240 [==============================] - 0s 888us/step - loss: 0.0878 - accuracy: 0.9684 - val_loss: 0.5798 - val_accuracy: 0.8744\n",
            "Epoch 173/200\n",
            "240/240 [==============================] - 0s 917us/step - loss: 0.0852 - accuracy: 0.9710 - val_loss: 0.6017 - val_accuracy: 0.8690\n",
            "Epoch 174/200\n",
            "240/240 [==============================] - 0s 872us/step - loss: 0.0838 - accuracy: 0.9714 - val_loss: 0.5840 - val_accuracy: 0.8753\n",
            "Epoch 175/200\n",
            "240/240 [==============================] - 0s 937us/step - loss: 0.0863 - accuracy: 0.9697 - val_loss: 0.5770 - val_accuracy: 0.8726\n",
            "Epoch 176/200\n",
            "240/240 [==============================] - 0s 892us/step - loss: 0.0854 - accuracy: 0.9697 - val_loss: 0.5971 - val_accuracy: 0.8741\n",
            "Epoch 177/200\n",
            "240/240 [==============================] - 0s 924us/step - loss: 0.0896 - accuracy: 0.9674 - val_loss: 0.5859 - val_accuracy: 0.8743\n",
            "Epoch 178/200\n",
            "240/240 [==============================] - 0s 904us/step - loss: 0.0845 - accuracy: 0.9699 - val_loss: 0.6103 - val_accuracy: 0.8723\n",
            "Epoch 179/200\n",
            "240/240 [==============================] - 0s 889us/step - loss: 0.0863 - accuracy: 0.9688 - val_loss: 0.6157 - val_accuracy: 0.8708\n",
            "Epoch 180/200\n",
            "240/240 [==============================] - 0s 902us/step - loss: 0.0850 - accuracy: 0.9697 - val_loss: 0.5974 - val_accuracy: 0.8752\n",
            "Epoch 181/200\n",
            "240/240 [==============================] - 0s 899us/step - loss: 0.0825 - accuracy: 0.9710 - val_loss: 0.6102 - val_accuracy: 0.8736\n",
            "Epoch 182/200\n",
            "240/240 [==============================] - 0s 895us/step - loss: 0.0833 - accuracy: 0.9709 - val_loss: 0.6265 - val_accuracy: 0.8690\n",
            "Epoch 183/200\n",
            "240/240 [==============================] - 0s 899us/step - loss: 0.0821 - accuracy: 0.9715 - val_loss: 0.6197 - val_accuracy: 0.8718\n",
            "Epoch 184/200\n",
            "240/240 [==============================] - 0s 940us/step - loss: 0.0791 - accuracy: 0.9727 - val_loss: 0.6139 - val_accuracy: 0.8727\n",
            "Epoch 185/200\n",
            "240/240 [==============================] - 0s 880us/step - loss: 0.0815 - accuracy: 0.9716 - val_loss: 0.6055 - val_accuracy: 0.8718\n",
            "Epoch 186/200\n",
            "240/240 [==============================] - 0s 878us/step - loss: 0.0860 - accuracy: 0.9696 - val_loss: 0.6192 - val_accuracy: 0.8713\n",
            "Epoch 187/200\n",
            "240/240 [==============================] - 0s 925us/step - loss: 0.0905 - accuracy: 0.9680 - val_loss: 0.6147 - val_accuracy: 0.8722\n",
            "Epoch 188/200\n",
            "240/240 [==============================] - 0s 884us/step - loss: 0.0826 - accuracy: 0.9707 - val_loss: 0.6203 - val_accuracy: 0.8737\n",
            "Epoch 189/200\n",
            "240/240 [==============================] - 0s 934us/step - loss: 0.0810 - accuracy: 0.9722 - val_loss: 0.6316 - val_accuracy: 0.8701\n",
            "Epoch 190/200\n",
            "240/240 [==============================] - 0s 899us/step - loss: 0.0763 - accuracy: 0.9735 - val_loss: 0.6246 - val_accuracy: 0.8758\n",
            "Epoch 191/200\n",
            "240/240 [==============================] - 0s 888us/step - loss: 0.0767 - accuracy: 0.9736 - val_loss: 0.6358 - val_accuracy: 0.8712\n",
            "Epoch 192/200\n",
            "240/240 [==============================] - 0s 867us/step - loss: 0.0792 - accuracy: 0.9728 - val_loss: 0.6281 - val_accuracy: 0.8749\n",
            "Epoch 193/200\n",
            "240/240 [==============================] - 0s 932us/step - loss: 0.0764 - accuracy: 0.9741 - val_loss: 0.6248 - val_accuracy: 0.8737\n",
            "Epoch 194/200\n",
            "240/240 [==============================] - 0s 919us/step - loss: 0.0765 - accuracy: 0.9733 - val_loss: 0.6223 - val_accuracy: 0.8734\n",
            "Epoch 195/200\n",
            "240/240 [==============================] - 0s 870us/step - loss: 0.0796 - accuracy: 0.9724 - val_loss: 0.6413 - val_accuracy: 0.8707\n",
            "Epoch 196/200\n",
            "240/240 [==============================] - 0s 903us/step - loss: 0.0750 - accuracy: 0.9742 - val_loss: 0.6315 - val_accuracy: 0.8737\n",
            "Epoch 197/200\n",
            "240/240 [==============================] - 0s 901us/step - loss: 0.0789 - accuracy: 0.9724 - val_loss: 0.6602 - val_accuracy: 0.8684\n",
            "Epoch 198/200\n",
            "240/240 [==============================] - 0s 915us/step - loss: 0.0793 - accuracy: 0.9720 - val_loss: 0.6615 - val_accuracy: 0.8698\n",
            "Epoch 199/200\n",
            "240/240 [==============================] - 0s 892us/step - loss: 0.0727 - accuracy: 0.9753 - val_loss: 0.6486 - val_accuracy: 0.8692\n",
            "Epoch 200/200\n",
            "240/240 [==============================] - 0s 937us/step - loss: 0.0736 - accuracy: 0.9747 - val_loss: 0.6474 - val_accuracy: 0.8723\n"
          ]
        },
        {
          "data": {
            "text/plain": [
              "<keras.callbacks.History at 0x7f1b802e05b0>"
            ]
          },
          "execution_count": 15,
          "metadata": {},
          "output_type": "execute_result"
        }
      ],
      "source": [
        "#collapse_output\n",
        "cb1 = tf.keras.callbacks.TensorBoard()\n",
        "net.fit(X,y,epochs=200,batch_size=200,validation_split=0.2,callbacks=cb1,verbose=1) "
      ]
    },
    {
      "cell_type": "markdown",
      "id": "7b94e107-391d-41a1-9823-3cbd3f4a9748",
      "metadata": {
        "id": "7b94e107-391d-41a1-9823-3cbd3f4a9748"
      },
      "source": [
        "`-` 텐서보드 여는 방법1"
      ]
    },
    {
      "cell_type": "code",
      "execution_count": null,
      "id": "244ffe75-75f9-40c1-8e91-0eb0160de4a1",
      "metadata": {
        "id": "244ffe75-75f9-40c1-8e91-0eb0160de4a1"
      },
      "outputs": [],
      "source": [
        "%load_ext tensorboard\n",
        "# 주피터노트북 (혹은 주피터랩)에서 텐서보드를 임베딩하여 넣을 수 있도록 도와주는 매직펑션"
      ]
    },
    {
      "cell_type": "code",
      "execution_count": null,
      "id": "0caf4156-9c41-4ead-b35e-e9b5525167aa",
      "metadata": {
        "id": "0caf4156-9c41-4ead-b35e-e9b5525167aa",
        "outputId": "5ea29d71-8711-4daf-a97e-a885ca21dbed"
      },
      "outputs": [
        {
          "name": "stdout",
          "output_type": "stream",
          "text": [
            "/bin/bash: line 0: kill: (313799) - No such process\n"
          ]
        }
      ],
      "source": [
        "!rm -rf logs\n",
        "!kill 313799"
      ]
    },
    {
      "cell_type": "code",
      "execution_count": null,
      "id": "5d4a3fdc-68af-4578-ab46-ad1223858395",
      "metadata": {
        "id": "5d4a3fdc-68af-4578-ab46-ad1223858395"
      },
      "outputs": [],
      "source": [
        "#\n",
        "# %tensorboard --logdir logs --host 0.0.0.0\n",
        "# %tensorboard --logdir logs <-- 실습에서는 이렇게 하면됩니다. "
      ]
    },
    {
      "cell_type": "markdown",
      "id": "813f099d-850f-4a88-b40b-46907e27c426",
      "metadata": {
        "id": "813f099d-850f-4a88-b40b-46907e27c426"
      },
      "source": [
        "(참고사항) 파이썬 3.10의 경우 아래의 수정이 필요\n",
        "\n",
        "`?/python3.10/site-packages/tensorboard/_vendor/html5lib/_trie/_base.py` 을 열고\n",
        "```python\n",
        "from collections import Mapping ### 수정전\n",
        "from collections.abc import Mapping ### 수정후 \n",
        "```\n",
        "와 같이 수정한다. "
      ]
    },
    {
      "cell_type": "markdown",
      "id": "a08cf376-2130-401a-a517-8a1ecef165b6",
      "metadata": {
        "id": "a08cf376-2130-401a-a517-8a1ecef165b6"
      },
      "source": [
        "- 왜냐하면 파이썬 3.10부터 `from collections import Mapping` 가 동작하지 않고 `from collections.abc import Mapping` 가 동작하도록 문법이 바뀜"
      ]
    },
    {
      "cell_type": "markdown",
      "id": "3fc22264-c3f3-4123-ab63-aa0670fff692",
      "metadata": {
        "id": "3fc22264-c3f3-4123-ab63-aa0670fff692"
      },
      "source": [
        "`-` 텐서보드를 실행하는 방법2"
      ]
    },
    {
      "cell_type": "code",
      "execution_count": null,
      "id": "59326423-ffe7-493b-a235-3e8ea16867ba",
      "metadata": {
        "id": "59326423-ffe7-493b-a235-3e8ea16867ba"
      },
      "outputs": [],
      "source": [
        "#\n",
        "# !tensorboard --logdir logs --host 0.0.0.0\n",
        "# !tensorboard --logdir logs <-- 실습에서는 이렇게 하면됩니다. "
      ]
    },
    {
      "cell_type": "markdown",
      "id": "1cf3208f-2be7-458f-96f0-c059269a331e",
      "metadata": {
        "id": "1cf3208f-2be7-458f-96f0-c059269a331e"
      },
      "source": [
        "### 조기종료 "
      ]
    },
    {
      "cell_type": "markdown",
      "id": "9dbaad6d-da11-4b47-8651-ecee93293dbb",
      "metadata": {
        "id": "9dbaad6d-da11-4b47-8651-ecee93293dbb"
      },
      "source": [
        "`-` 텐서보드를 살펴보니 특정에폭 이후에는 오히려 과적합이 진행되는 듯 하다 (학습할수록 손해인듯 하다) $\\to$ 그 특정에폭까지만 학습해보자"
      ]
    },
    {
      "cell_type": "code",
      "execution_count": null,
      "id": "1797f22c-116e-48c3-a0ce-f42286656998",
      "metadata": {
        "id": "1797f22c-116e-48c3-a0ce-f42286656998"
      },
      "outputs": [],
      "source": [
        "tf.random.set_seed(43052)\n",
        "net = tf.keras.Sequential()\n",
        "net.add(tf.keras.layers.Flatten())\n",
        "net.add(tf.keras.layers.Dense(5000,activation='relu')) ## 과적합좀 시키려고 \n",
        "net.add(tf.keras.layers.Dense(5000,activation='relu')) ## 레이어를 2장만듬 + 레이어하나당 노드수도 증가 \n",
        "net.add(tf.keras.layers.Dense(10,activation='softmax'))\n",
        "net.compile(optimizer='adam',loss=tf.losses.categorical_crossentropy,metrics='accuracy')"
      ]
    },
    {
      "cell_type": "code",
      "execution_count": null,
      "id": "66f8f26d-5e3b-49ca-8e11-2ccfe3f3150e",
      "metadata": {
        "id": "66f8f26d-5e3b-49ca-8e11-2ccfe3f3150e",
        "outputId": "491b584e-17fb-4418-d516-3aaf9c7d4f54"
      },
      "outputs": [
        {
          "name": "stdout",
          "output_type": "stream",
          "text": [
            "Epoch 1/200\n",
            "240/240 [==============================] - 1s 4ms/step - loss: 0.5483 - accuracy: 0.8134 - val_loss: 0.4027 - val_accuracy: 0.8546\n",
            "Epoch 2/200\n",
            "240/240 [==============================] - 1s 3ms/step - loss: 0.3568 - accuracy: 0.8671 - val_loss: 0.3531 - val_accuracy: 0.8712\n",
            "Epoch 3/200\n",
            "240/240 [==============================] - 1s 3ms/step - loss: 0.3210 - accuracy: 0.8799 - val_loss: 0.3477 - val_accuracy: 0.8733\n",
            "Epoch 4/200\n",
            "240/240 [==============================] - 1s 3ms/step - loss: 0.2971 - accuracy: 0.8876 - val_loss: 0.3502 - val_accuracy: 0.8776\n"
          ]
        },
        {
          "data": {
            "text/plain": [
              "<keras.callbacks.History at 0x7f1b80086650>"
            ]
          },
          "execution_count": 21,
          "metadata": {},
          "output_type": "execute_result"
        }
      ],
      "source": [
        "#\n",
        "#cb1 = tf.keras.callbacks.TensorBoard()\n",
        "cb2 = tf.keras.callbacks.EarlyStopping(patience=1) # val-loss가 1회증가하면 멈추어라 \n",
        "net.fit(X,y,epochs=200,batch_size=200,validation_split=0.2,callbacks=cb2,verbose=1) "
      ]
    },
    {
      "cell_type": "code",
      "execution_count": null,
      "id": "14125cdd-2818-4086-85c0-e60e9bb1ae80",
      "metadata": {
        "id": "14125cdd-2818-4086-85c0-e60e9bb1ae80",
        "outputId": "d34eb36b-561c-4ad8-f11c-c97f78b4878a"
      },
      "outputs": [
        {
          "name": "stdout",
          "output_type": "stream",
          "text": [
            "Epoch 1/200\n",
            "240/240 [==============================] - 1s 3ms/step - loss: 0.2791 - accuracy: 0.8935 - val_loss: 0.3224 - val_accuracy: 0.8820\n",
            "Epoch 2/200\n",
            "240/240 [==============================] - 1s 3ms/step - loss: 0.2619 - accuracy: 0.8999 - val_loss: 0.3498 - val_accuracy: 0.8779\n"
          ]
        },
        {
          "data": {
            "text/plain": [
              "<keras.callbacks.History at 0x7f1b24290a90>"
            ]
          },
          "execution_count": 22,
          "metadata": {},
          "output_type": "execute_result"
        }
      ],
      "source": [
        "#\n",
        "#cb1 = tf.keras.callbacks.TensorBoard()\n",
        "cb2 = tf.keras.callbacks.EarlyStopping(patience=1) # val-loss가 1회증가하면 멈추어라 \n",
        "net.fit(X,y,epochs=200,batch_size=200,validation_split=0.2,callbacks=cb2,verbose=1) "
      ]
    },
    {
      "cell_type": "code",
      "execution_count": null,
      "id": "e77493a9-01ec-446f-ae11-c0eab3496aa9",
      "metadata": {
        "id": "e77493a9-01ec-446f-ae11-c0eab3496aa9",
        "outputId": "4e202410-846f-4784-bf17-d29d91f8c212"
      },
      "outputs": [
        {
          "name": "stdout",
          "output_type": "stream",
          "text": [
            "Epoch 1/200\n",
            "240/240 [==============================] - 1s 3ms/step - loss: 0.2491 - accuracy: 0.9043 - val_loss: 0.3641 - val_accuracy: 0.8711\n",
            "Epoch 2/200\n",
            "240/240 [==============================] - 1s 3ms/step - loss: 0.2328 - accuracy: 0.9110 - val_loss: 0.3282 - val_accuracy: 0.8848\n",
            "Epoch 3/200\n",
            "240/240 [==============================] - 1s 3ms/step - loss: 0.2254 - accuracy: 0.9151 - val_loss: 0.3280 - val_accuracy: 0.8843\n",
            "Epoch 4/200\n",
            "240/240 [==============================] - 1s 3ms/step - loss: 0.2144 - accuracy: 0.9177 - val_loss: 0.3191 - val_accuracy: 0.8925\n",
            "Epoch 5/200\n",
            "240/240 [==============================] - 1s 3ms/step - loss: 0.2074 - accuracy: 0.9223 - val_loss: 0.3152 - val_accuracy: 0.8949\n",
            "Epoch 6/200\n",
            "240/240 [==============================] - 1s 3ms/step - loss: 0.1952 - accuracy: 0.9250 - val_loss: 0.3322 - val_accuracy: 0.8863\n"
          ]
        },
        {
          "data": {
            "text/plain": [
              "<keras.callbacks.History at 0x7f1b242c1660>"
            ]
          },
          "execution_count": 23,
          "metadata": {},
          "output_type": "execute_result"
        }
      ],
      "source": [
        "#\n",
        "#cb1 = tf.keras.callbacks.TensorBoard()\n",
        "cb2 = tf.keras.callbacks.EarlyStopping(patience=1) # val-loss가 1회증가하면 멈추어라 \n",
        "net.fit(X,y,epochs=200,batch_size=200,validation_split=0.2,callbacks=cb2,verbose=1) "
      ]
    },
    {
      "cell_type": "code",
      "execution_count": null,
      "id": "bd282760-81a7-4cba-a241-7bd8c709763f",
      "metadata": {
        "id": "bd282760-81a7-4cba-a241-7bd8c709763f",
        "outputId": "c0ad69e0-b90c-4e74-c077-0eeb13ed7e96"
      },
      "outputs": [
        {
          "name": "stdout",
          "output_type": "stream",
          "text": [
            "Epoch 1/200\n",
            "240/240 [==============================] - 1s 3ms/step - loss: 0.1908 - accuracy: 0.9257 - val_loss: 0.3513 - val_accuracy: 0.8836\n",
            "Epoch 2/200\n",
            "240/240 [==============================] - 1s 3ms/step - loss: 0.1799 - accuracy: 0.9304 - val_loss: 0.3376 - val_accuracy: 0.8901\n",
            "Epoch 3/200\n",
            "240/240 [==============================] - 1s 3ms/step - loss: 0.1712 - accuracy: 0.9346 - val_loss: 0.3568 - val_accuracy: 0.8894\n"
          ]
        },
        {
          "data": {
            "text/plain": [
              "<keras.callbacks.History at 0x7f1b24302230>"
            ]
          },
          "execution_count": 24,
          "metadata": {},
          "output_type": "execute_result"
        }
      ],
      "source": [
        "#\n",
        "#cb1 = tf.keras.callbacks.TensorBoard()\n",
        "cb2 = tf.keras.callbacks.EarlyStopping(patience=1) # val-loss가 1회증가하면 멈추어라 \n",
        "net.fit(X,y,epochs=200,batch_size=200,validation_split=0.2,callbacks=cb2,verbose=1) "
      ]
    },
    {
      "cell_type": "code",
      "execution_count": null,
      "id": "bf9455d7-c1b5-4022-a74b-97031b8b0401",
      "metadata": {
        "id": "bf9455d7-c1b5-4022-a74b-97031b8b0401",
        "outputId": "2045857a-19c8-4233-a3de-18283f3cc40d"
      },
      "outputs": [
        {
          "name": "stdout",
          "output_type": "stream",
          "text": [
            "Epoch 1/200\n",
            "240/240 [==============================] - 1s 3ms/step - loss: 0.1591 - accuracy: 0.9367 - val_loss: 0.3995 - val_accuracy: 0.8780\n",
            "Epoch 2/200\n",
            "240/240 [==============================] - 1s 3ms/step - loss: 0.1552 - accuracy: 0.9398 - val_loss: 0.3469 - val_accuracy: 0.8917\n",
            "Epoch 3/200\n",
            "240/240 [==============================] - 1s 3ms/step - loss: 0.1481 - accuracy: 0.9423 - val_loss: 0.3726 - val_accuracy: 0.8853\n"
          ]
        },
        {
          "data": {
            "text/plain": [
              "<keras.callbacks.History at 0x7f1b24136e00>"
            ]
          },
          "execution_count": 25,
          "metadata": {},
          "output_type": "execute_result"
        }
      ],
      "source": [
        "#\n",
        "#cb1 = tf.keras.callbacks.TensorBoard()\n",
        "cb2 = tf.keras.callbacks.EarlyStopping(patience=1) # val-loss가 1회증가하면 멈추어라 \n",
        "net.fit(X,y,epochs=200,batch_size=200,validation_split=0.2,callbacks=cb2,verbose=1) "
      ]
    },
    {
      "cell_type": "markdown",
      "id": "777ce4cd-27f3-4aec-8795-6a161f6a6c29",
      "metadata": {
        "id": "777ce4cd-27f3-4aec-8795-6a161f6a6c29"
      },
      "source": [
        "`-` 몇 번 좀 참았다가 멈추면 좋겠다. "
      ]
    },
    {
      "cell_type": "code",
      "execution_count": null,
      "id": "e1e29cab-1a0a-4cdc-b9d2-595dbc50c2e0",
      "metadata": {
        "id": "e1e29cab-1a0a-4cdc-b9d2-595dbc50c2e0"
      },
      "outputs": [],
      "source": [
        "tf.random.set_seed(43052)\n",
        "net = tf.keras.Sequential()\n",
        "net.add(tf.keras.layers.Flatten())\n",
        "net.add(tf.keras.layers.Dense(5000,activation='relu')) ## 과적합좀 시키려고 \n",
        "net.add(tf.keras.layers.Dense(5000,activation='relu')) ## 레이어를 2장만듬 + 레이어하나당 노드수도 증가 \n",
        "net.add(tf.keras.layers.Dense(10,activation='softmax'))\n",
        "net.compile(optimizer='adam',loss=tf.losses.categorical_crossentropy,metrics='accuracy')"
      ]
    },
    {
      "cell_type": "code",
      "execution_count": null,
      "id": "14c8be6e-7a43-4eae-8a46-eed8cef26495",
      "metadata": {
        "id": "14c8be6e-7a43-4eae-8a46-eed8cef26495",
        "outputId": "8b5029fa-2979-4c37-b4cf-b738f2a34231"
      },
      "outputs": [
        {
          "name": "stdout",
          "output_type": "stream",
          "text": [
            "Epoch 1/200\n",
            "240/240 [==============================] - 1s 4ms/step - loss: 0.5475 - accuracy: 0.8139 - val_loss: 0.4219 - val_accuracy: 0.8453\n",
            "Epoch 2/200\n",
            "240/240 [==============================] - 1s 3ms/step - loss: 0.3575 - accuracy: 0.8676 - val_loss: 0.3647 - val_accuracy: 0.8712\n",
            "Epoch 3/200\n",
            "240/240 [==============================] - 1s 3ms/step - loss: 0.3219 - accuracy: 0.8792 - val_loss: 0.3559 - val_accuracy: 0.8710\n",
            "Epoch 4/200\n",
            "240/240 [==============================] - 1s 3ms/step - loss: 0.2990 - accuracy: 0.8883 - val_loss: 0.3448 - val_accuracy: 0.8808\n",
            "Epoch 5/200\n",
            "240/240 [==============================] - 1s 3ms/step - loss: 0.2759 - accuracy: 0.8966 - val_loss: 0.3337 - val_accuracy: 0.8792\n",
            "Epoch 6/200\n",
            "240/240 [==============================] - 1s 3ms/step - loss: 0.2621 - accuracy: 0.9004 - val_loss: 0.3220 - val_accuracy: 0.8841\n",
            "Epoch 7/200\n",
            "240/240 [==============================] - 1s 3ms/step - loss: 0.2478 - accuracy: 0.9074 - val_loss: 0.3302 - val_accuracy: 0.8858\n",
            "Epoch 8/200\n",
            "240/240 [==============================] - 1s 3ms/step - loss: 0.2342 - accuracy: 0.9110 - val_loss: 0.3150 - val_accuracy: 0.8904\n",
            "Epoch 9/200\n",
            "240/240 [==============================] - 1s 3ms/step - loss: 0.2261 - accuracy: 0.9144 - val_loss: 0.3117 - val_accuracy: 0.8932\n",
            "Epoch 10/200\n",
            "240/240 [==============================] - 1s 3ms/step - loss: 0.2116 - accuracy: 0.9200 - val_loss: 0.3345 - val_accuracy: 0.8888\n",
            "Epoch 11/200\n",
            "240/240 [==============================] - 1s 3ms/step - loss: 0.2081 - accuracy: 0.9207 - val_loss: 0.3344 - val_accuracy: 0.8867\n",
            "Epoch 12/200\n",
            "240/240 [==============================] - 1s 3ms/step - loss: 0.1956 - accuracy: 0.9255 - val_loss: 0.3158 - val_accuracy: 0.8975\n",
            "Epoch 13/200\n",
            "240/240 [==============================] - 1s 3ms/step - loss: 0.1863 - accuracy: 0.9275 - val_loss: 0.3302 - val_accuracy: 0.8934\n",
            "Epoch 14/200\n",
            "240/240 [==============================] - 1s 3ms/step - loss: 0.1764 - accuracy: 0.9324 - val_loss: 0.3717 - val_accuracy: 0.8859\n"
          ]
        },
        {
          "data": {
            "text/plain": [
              "<keras.callbacks.History at 0x7f1b24301960>"
            ]
          },
          "execution_count": 27,
          "metadata": {},
          "output_type": "execute_result"
        }
      ],
      "source": [
        "#\n",
        "#cb1 = tf.keras.callbacks.TensorBoard()\n",
        "cb2 = tf.keras.callbacks.EarlyStopping(patience=5) # 좀더 참다가 멈추어라 \n",
        "net.fit(X,y,epochs=200,batch_size=200,validation_split=0.2,callbacks=cb2,verbose=1) "
      ]
    },
    {
      "cell_type": "markdown",
      "id": "d4891c40-60c7-4200-ba4e-1136d5886f90",
      "metadata": {
        "id": "d4891c40-60c7-4200-ba4e-1136d5886f90"
      },
      "source": [
        "`-` 텐서보드로 그려보자?"
      ]
    },
    {
      "cell_type": "code",
      "execution_count": null,
      "id": "f963092d-4779-46e0-9fb3-ad1110b84261",
      "metadata": {
        "id": "f963092d-4779-46e0-9fb3-ad1110b84261"
      },
      "outputs": [],
      "source": [
        "#\n",
        "# %tensorboard --logdir logs --host 0.0.0.0 \n",
        "# 아무것도 안나온다 -> 왜? cb1을 써야 텐서보드가 나옴"
      ]
    },
    {
      "cell_type": "markdown",
      "id": "c85b8520-fb7e-489d-ac01-530a52cb9423",
      "metadata": {
        "id": "c85b8520-fb7e-489d-ac01-530a52cb9423"
      },
      "source": [
        "`-` 조기종료와 텐서보드를 같이 쓰려면?"
      ]
    },
    {
      "cell_type": "code",
      "execution_count": null,
      "id": "5a8e7583-c664-468b-ab67-6f8b54df485b",
      "metadata": {
        "id": "5a8e7583-c664-468b-ab67-6f8b54df485b"
      },
      "outputs": [],
      "source": [
        "tf.random.set_seed(43052)\n",
        "net = tf.keras.Sequential()\n",
        "net.add(tf.keras.layers.Flatten())\n",
        "net.add(tf.keras.layers.Dense(50,activation='relu')) \n",
        "net.add(tf.keras.layers.Dense(10,activation='softmax'))\n",
        "net.compile(optimizer='adam',loss=tf.losses.categorical_crossentropy,metrics='accuracy')"
      ]
    },
    {
      "cell_type": "code",
      "execution_count": null,
      "id": "85fbb75d-7c66-486d-8fd2-e37d8db0cbae",
      "metadata": {
        "id": "85fbb75d-7c66-486d-8fd2-e37d8db0cbae",
        "outputId": "28a956d4-61fa-40ab-e9a5-63f7189d558e"
      },
      "outputs": [
        {
          "name": "stdout",
          "output_type": "stream",
          "text": [
            "Epoch 1/200\n",
            "240/240 [==============================] - 0s 1ms/step - loss: 0.7184 - accuracy: 0.7581 - val_loss: 0.5077 - val_accuracy: 0.8276\n",
            "Epoch 2/200\n",
            "240/240 [==============================] - 0s 890us/step - loss: 0.4752 - accuracy: 0.8386 - val_loss: 0.4793 - val_accuracy: 0.8342\n",
            "Epoch 3/200\n",
            "240/240 [==============================] - 0s 899us/step - loss: 0.4304 - accuracy: 0.8517 - val_loss: 0.4386 - val_accuracy: 0.8497\n",
            "Epoch 4/200\n",
            "240/240 [==============================] - 0s 880us/step - loss: 0.4048 - accuracy: 0.8582 - val_loss: 0.4029 - val_accuracy: 0.8603\n",
            "Epoch 5/200\n",
            "240/240 [==============================] - 0s 923us/step - loss: 0.3832 - accuracy: 0.8669 - val_loss: 0.3932 - val_accuracy: 0.8619\n",
            "Epoch 6/200\n",
            "240/240 [==============================] - 0s 934us/step - loss: 0.3697 - accuracy: 0.8705 - val_loss: 0.3842 - val_accuracy: 0.8657\n",
            "Epoch 7/200\n",
            "240/240 [==============================] - 0s 900us/step - loss: 0.3569 - accuracy: 0.8759 - val_loss: 0.3844 - val_accuracy: 0.8668\n",
            "Epoch 8/200\n",
            "240/240 [==============================] - 0s 889us/step - loss: 0.3482 - accuracy: 0.8774 - val_loss: 0.3679 - val_accuracy: 0.8708\n",
            "Epoch 9/200\n",
            "240/240 [==============================] - 0s 912us/step - loss: 0.3387 - accuracy: 0.8799 - val_loss: 0.3602 - val_accuracy: 0.8719\n",
            "Epoch 10/200\n",
            "240/240 [==============================] - 0s 923us/step - loss: 0.3299 - accuracy: 0.8820 - val_loss: 0.3610 - val_accuracy: 0.8748\n",
            "Epoch 11/200\n",
            "240/240 [==============================] - 0s 853us/step - loss: 0.3229 - accuracy: 0.8858 - val_loss: 0.3574 - val_accuracy: 0.8717\n",
            "Epoch 12/200\n",
            "240/240 [==============================] - 0s 904us/step - loss: 0.3157 - accuracy: 0.8873 - val_loss: 0.3572 - val_accuracy: 0.8743\n",
            "Epoch 13/200\n",
            "240/240 [==============================] - 0s 890us/step - loss: 0.3106 - accuracy: 0.8899 - val_loss: 0.3545 - val_accuracy: 0.8761\n",
            "Epoch 14/200\n",
            "240/240 [==============================] - 0s 911us/step - loss: 0.3046 - accuracy: 0.8914 - val_loss: 0.3493 - val_accuracy: 0.8759\n",
            "Epoch 15/200\n",
            "240/240 [==============================] - 0s 921us/step - loss: 0.3011 - accuracy: 0.8928 - val_loss: 0.3483 - val_accuracy: 0.8776\n",
            "Epoch 16/200\n",
            "240/240 [==============================] - 0s 937us/step - loss: 0.2988 - accuracy: 0.8935 - val_loss: 0.3733 - val_accuracy: 0.8716\n",
            "Epoch 17/200\n",
            "240/240 [==============================] - 0s 892us/step - loss: 0.2925 - accuracy: 0.8947 - val_loss: 0.3481 - val_accuracy: 0.8768\n",
            "Epoch 18/200\n",
            "240/240 [==============================] - 0s 933us/step - loss: 0.2880 - accuracy: 0.8951 - val_loss: 0.3396 - val_accuracy: 0.8801\n",
            "Epoch 19/200\n",
            "240/240 [==============================] - 0s 957us/step - loss: 0.2827 - accuracy: 0.8982 - val_loss: 0.3439 - val_accuracy: 0.8798\n",
            "Epoch 20/200\n",
            "240/240 [==============================] - 0s 881us/step - loss: 0.2791 - accuracy: 0.8986 - val_loss: 0.3489 - val_accuracy: 0.8779\n",
            "Epoch 21/200\n",
            "240/240 [==============================] - 0s 886us/step - loss: 0.2765 - accuracy: 0.9007 - val_loss: 0.3350 - val_accuracy: 0.8823\n",
            "Epoch 22/200\n",
            "240/240 [==============================] - 0s 912us/step - loss: 0.2709 - accuracy: 0.9016 - val_loss: 0.3350 - val_accuracy: 0.8812\n",
            "Epoch 23/200\n",
            "240/240 [==============================] - 0s 908us/step - loss: 0.2688 - accuracy: 0.9029 - val_loss: 0.3374 - val_accuracy: 0.8820\n",
            "Epoch 24/200\n",
            "240/240 [==============================] - 0s 930us/step - loss: 0.2658 - accuracy: 0.9041 - val_loss: 0.3445 - val_accuracy: 0.8805\n",
            "Epoch 25/200\n",
            "240/240 [==============================] - 0s 872us/step - loss: 0.2607 - accuracy: 0.9058 - val_loss: 0.3383 - val_accuracy: 0.8822\n",
            "Epoch 26/200\n",
            "240/240 [==============================] - 0s 928us/step - loss: 0.2607 - accuracy: 0.9056 - val_loss: 0.3415 - val_accuracy: 0.8811\n",
            "Epoch 27/200\n",
            "240/240 [==============================] - 0s 927us/step - loss: 0.2576 - accuracy: 0.9068 - val_loss: 0.3402 - val_accuracy: 0.8814\n",
            "Epoch 28/200\n",
            "240/240 [==============================] - 0s 905us/step - loss: 0.2525 - accuracy: 0.9098 - val_loss: 0.3469 - val_accuracy: 0.8802\n"
          ]
        },
        {
          "data": {
            "text/plain": [
              "<keras.callbacks.History at 0x7f1b24217a00>"
            ]
          },
          "execution_count": 30,
          "metadata": {},
          "output_type": "execute_result"
        }
      ],
      "source": [
        "cb1 = tf.keras.callbacks.TensorBoard()\n",
        "cb2 = tf.keras.callbacks.EarlyStopping(patience=7) # 좀더 참다가 멈추어라 \n",
        "net.fit(X,y,epochs=200,batch_size=200,validation_split=0.2,callbacks=[cb1,cb2]) "
      ]
    },
    {
      "cell_type": "code",
      "execution_count": null,
      "id": "bc54043d-0df0-4e78-b1b0-1fa2c1c6940a",
      "metadata": {
        "id": "bc54043d-0df0-4e78-b1b0-1fa2c1c6940a"
      },
      "outputs": [],
      "source": [
        "# \n",
        "# 조기종료가 구현된 그림이 출력\n",
        "# %tensorboard --logdir logs --host 0.0.0.0 "
      ]
    },
    {
      "cell_type": "markdown",
      "id": "fa983e19-e107-4522-a0fb-798e61519d22",
      "metadata": {
        "id": "fa983e19-e107-4522-a0fb-798e61519d22"
      },
      "source": [
        "### 하이퍼파라메터 선택"
      ]
    },
    {
      "cell_type": "markdown",
      "id": "84afda09-5de1-41f2-aee2-252cbd93c355",
      "metadata": {
        "id": "84afda09-5de1-41f2-aee2-252cbd93c355"
      },
      "source": [
        "`-` 하이퍼파라메터 설정"
      ]
    },
    {
      "cell_type": "code",
      "execution_count": null,
      "id": "e00a6c2b-6a25-4f0c-9a16-f23a9b364448",
      "metadata": {
        "id": "e00a6c2b-6a25-4f0c-9a16-f23a9b364448"
      },
      "outputs": [],
      "source": [
        "from tensorboard.plugins.hparams import api as hp"
      ]
    },
    {
      "cell_type": "code",
      "execution_count": null,
      "id": "9e1e22b7-6859-4ab6-9626-eebb2f793740",
      "metadata": {
        "id": "9e1e22b7-6859-4ab6-9626-eebb2f793740",
        "outputId": "df26bb78-bd29-4390-f807-a4a3adb7d65c"
      },
      "outputs": [
        {
          "name": "stdout",
          "output_type": "stream",
          "text": [
            "313/313 [==============================] - 0s 859us/step - loss: 0.3803 - accuracy: 0.8704\n"
          ]
        }
      ],
      "source": [
        "a=net.evaluate(XX,yy)"
      ]
    },
    {
      "cell_type": "code",
      "execution_count": null,
      "id": "ff328d81-caac-46a1-af77-4d7ea5325815",
      "metadata": {
        "id": "ff328d81-caac-46a1-af77-4d7ea5325815",
        "outputId": "8564ca21-a07b-4ba1-889f-5f7bb4acdd41"
      },
      "outputs": [
        {
          "name": "stdout",
          "output_type": "stream",
          "text": [
            "Epoch 1/3\n",
            "1875/1875 [==============================] - 2s 1ms/step - loss: 0.5255 - accuracy: 0.8180 - recall: 0.7546\n",
            "Epoch 2/3\n",
            "1875/1875 [==============================] - 2s 1ms/step - loss: 0.3993 - accuracy: 0.8588 - recall: 0.8294\n",
            "Epoch 3/3\n",
            "1875/1875 [==============================] - 2s 1ms/step - loss: 0.3648 - accuracy: 0.8698 - recall: 0.8443\n",
            "313/313 [==============================] - 0s 830us/step - loss: 0.4063 - accuracy: 0.8545 - recall: 0.8286\n",
            "Epoch 1/3\n",
            "1875/1875 [==============================] - 2s 1ms/step - loss: 0.7744 - accuracy: 0.7503 - recall: 0.5797\n",
            "Epoch 2/3\n",
            "1875/1875 [==============================] - 2s 1ms/step - loss: 0.5204 - accuracy: 0.8223 - recall: 0.7565\n",
            "Epoch 3/3\n",
            "1875/1875 [==============================] - 2s 1ms/step - loss: 0.4742 - accuracy: 0.8369 - recall: 0.7859\n",
            "313/313 [==============================] - 0s 828us/step - loss: 0.4899 - accuracy: 0.8304 - recall: 0.7831\n",
            "Epoch 1/3\n",
            "1875/1875 [==============================] - 2s 1ms/step - loss: 0.7502 - accuracy: 0.7356 - recall: 0.6115\n",
            "Epoch 2/3\n",
            "1875/1875 [==============================] - 2s 1ms/step - loss: 0.5738 - accuracy: 0.7923 - recall: 0.7133\n",
            "Epoch 3/3\n",
            "1875/1875 [==============================] - 2s 1ms/step - loss: 0.5473 - accuracy: 0.8037 - recall: 0.7321\n",
            "313/313 [==============================] - 0s 865us/step - loss: 0.4319 - accuracy: 0.8448 - recall: 0.7919\n",
            "Epoch 1/3\n",
            "1875/1875 [==============================] - 2s 1ms/step - loss: 1.0932 - accuracy: 0.6228 - recall: 0.3971\n",
            "Epoch 2/3\n",
            "1875/1875 [==============================] - 2s 1ms/step - loss: 0.7616 - accuracy: 0.7388 - recall: 0.5956\n",
            "Epoch 3/3\n",
            "1875/1875 [==============================] - 2s 1ms/step - loss: 0.6828 - accuracy: 0.7684 - recall: 0.6478\n",
            "313/313 [==============================] - 0s 894us/step - loss: 0.5265 - accuracy: 0.8180 - recall: 0.7353\n",
            "Epoch 1/3\n",
            "1875/1875 [==============================] - 2s 1ms/step - loss: 0.4777 - accuracy: 0.8292 - recall: 0.7890\n",
            "Epoch 2/3\n",
            "1875/1875 [==============================] - 2s 1ms/step - loss: 0.3603 - accuracy: 0.8682 - recall: 0.8427\n",
            "Epoch 3/3\n",
            "1875/1875 [==============================] - 2s 1ms/step - loss: 0.3197 - accuracy: 0.8817 - recall: 0.8605\n",
            "313/313 [==============================] - 0s 846us/step - loss: 0.3803 - accuracy: 0.8628 - recall: 0.8428\n",
            "Epoch 1/3\n",
            "1875/1875 [==============================] - 2s 1ms/step - loss: 0.6685 - accuracy: 0.7883 - recall: 0.6444\n",
            "Epoch 2/3\n",
            "1875/1875 [==============================] - 2s 1ms/step - loss: 0.4815 - accuracy: 0.8372 - recall: 0.7781\n",
            "Epoch 3/3\n",
            "1875/1875 [==============================] - 2s 1ms/step - loss: 0.4408 - accuracy: 0.8498 - recall: 0.8021\n",
            "313/313 [==============================] - 0s 859us/step - loss: 0.4634 - accuracy: 0.8390 - recall: 0.7962\n",
            "Epoch 1/3\n",
            "1875/1875 [==============================] - 2s 1ms/step - loss: 0.5708 - accuracy: 0.7991 - recall: 0.7556\n",
            "Epoch 2/3\n",
            "1875/1875 [==============================] - 2s 1ms/step - loss: 0.4418 - accuracy: 0.8393 - recall: 0.8057\n",
            "Epoch 3/3\n",
            "1875/1875 [==============================] - 2s 1ms/step - loss: 0.4091 - accuracy: 0.8514 - recall: 0.8211\n",
            "313/313 [==============================] - 0s 850us/step - loss: 0.3937 - accuracy: 0.8587 - recall: 0.8238\n",
            "Epoch 1/3\n",
            "1875/1875 [==============================] - 2s 1ms/step - loss: 0.6930 - accuracy: 0.7752 - recall: 0.6338\n",
            "Epoch 2/3\n",
            "1875/1875 [==============================] - 2s 1ms/step - loss: 0.5048 - accuracy: 0.8274 - recall: 0.7651\n",
            "Epoch 3/3\n",
            "1875/1875 [==============================] - 2s 1ms/step - loss: 0.4608 - accuracy: 0.8417 - recall: 0.7910\n",
            "313/313 [==============================] - 0s 854us/step - loss: 0.4625 - accuracy: 0.8396 - recall: 0.7957\n"
          ]
        }
      ],
      "source": [
        "!rm -rf logs\n",
        "for u in [50,5000]: \n",
        "    for d in [0.0,0.5]: \n",
        "        for o in ['adam','sgd']:\n",
        "            logdir = 'logs/hpguebin_{}_{}_{}'.format(u,d,o)\n",
        "            with tf.summary.create_file_writer(logdir).as_default():\n",
        "                net = tf.keras.Sequential()\n",
        "                net.add(tf.keras.layers.Flatten())\n",
        "                net.add(tf.keras.layers.Dense(u,activation='relu'))\n",
        "                net.add(tf.keras.layers.Dropout(d))\n",
        "                net.add(tf.keras.layers.Dense(10,activation='softmax'))\n",
        "                net.compile(optimizer=o,loss=tf.losses.categorical_crossentropy,metrics=['accuracy','Recall'])\n",
        "                cb3 = hp.KerasCallback(logdir, {'유닛수':u, '드랍아웃비율':d, '옵티마이저':o})\n",
        "                net.fit(X,y,epochs=3,callbacks=cb3)\n",
        "                _rslt=net.evaluate(XX,yy)\n",
        "                _mymetric=_rslt[1]*0.8 + _rslt[2]*0.2  \n",
        "                tf.summary.scalar('애큐러시와리컬의가중평균(테스트셋)', _mymetric, step=1) "
      ]
    },
    {
      "cell_type": "code",
      "execution_count": null,
      "id": "43419b69-c0a2-4968-9978-bd51c3028965",
      "metadata": {
        "id": "43419b69-c0a2-4968-9978-bd51c3028965"
      },
      "outputs": [],
      "source": [
        "#\n",
        "#%tensorboard --logdir logs --host 0.0.0.0"
      ]
    },
    {
      "cell_type": "markdown",
      "id": "32f8e532-65f9-49bf-bb16-d332bdd8b8d2",
      "metadata": {
        "id": "32f8e532-65f9-49bf-bb16-d332bdd8b8d2"
      },
      "source": [
        "## 숙제"
      ]
    },
    {
      "cell_type": "markdown",
      "id": "038d1f13-e0be-4c80-a532-c167c3e76528",
      "metadata": {
        "id": "038d1f13-e0be-4c80-a532-c167c3e76528"
      },
      "source": [
        "`-` 아래의 네트워크에서 옵티마이저를 adam, sgd를 선택하여 각각 적합시켜보고 testset의 loss를 성능비교를 하라. epoch은 5정도로 설정하라. \n",
        "```\n",
        "net = tf.keras.Sequential()\n",
        "net.add(tf.keras.layers.Flatten())\n",
        "net.add(tf.keras.layers.Dense(50,activation='relu'))\n",
        "net.add(tf.keras.layers.Dense(50,activation='relu'))\n",
        "net.add(tf.keras.layers.Dense(10,activation='softmax'))\n",
        "net.compile(optimizer=???,loss=tf.losses.categorical_crossentropy,metrics=['accuracy','Recall'])\n",
        "```"
      ]
    }
  ],
  "metadata": {
    "kernelspec": {
      "display_name": "Python 3 (ipykernel)",
      "language": "python",
      "name": "python3"
    },
    "language_info": {
      "codemirror_mode": {
        "name": "ipython",
        "version": 3
      },
      "file_extension": ".py",
      "mimetype": "text/x-python",
      "name": "python",
      "nbconvert_exporter": "python",
      "pygments_lexer": "ipython3",
      "version": "3.10.2"
    },
    "colab": {
      "name": "2022-05-23-(12주차) 5월23일.ipynb",
      "provenance": []
    }
  },
  "nbformat": 4,
  "nbformat_minor": 5
}