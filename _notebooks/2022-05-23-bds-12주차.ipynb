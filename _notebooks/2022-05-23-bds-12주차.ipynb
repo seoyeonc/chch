{
 "cells": [
  {
   "cell_type": "markdown",
   "id": "c9d32f26-f337-444a-9218-fc7e3d5f15b0",
   "metadata": {
    "tags": []
   },
   "source": [
    "# 빅데이터 분석 특강 (12주차) 5월23일\n",
    "\n",
    "- toc:true\n",
    "- branch: master\n",
    "- badges: true\n",
    "- comments: false\n",
    "- author: 최서연\n",
    "- categories: [Special Topics in Big Data Analysis, tensorboard]"
   ]
  },
  {
   "cell_type": "markdown",
   "id": "01c91214-7727-4442-8c08-87f1c0f2f93f",
   "metadata": {
    "id": "01c91214-7727-4442-8c08-87f1c0f2f93f",
    "tags": []
   },
   "source": [
    "## imports"
   ]
  },
  {
   "cell_type": "code",
   "execution_count": 1,
   "id": "d4454a23-3b9d-4483-8450-cc3275c5182f",
   "metadata": {
    "id": "d4454a23-3b9d-4483-8450-cc3275c5182f"
   },
   "outputs": [],
   "source": [
    "import tensorflow as tf\n",
    "import tensorflow.experimental.numpy as tnp"
   ]
  },
  {
   "cell_type": "code",
   "execution_count": 2,
   "id": "abbc26d9-195d-4792-b0a8-f702baca62ae",
   "metadata": {
    "id": "abbc26d9-195d-4792-b0a8-f702baca62ae"
   },
   "outputs": [],
   "source": [
    "tnp.experimental_enable_numpy_behavior()"
   ]
  },
  {
   "cell_type": "code",
   "execution_count": 3,
   "id": "b5a5824a-a616-42c2-b451-d9c73642cf1f",
   "metadata": {
    "id": "b5a5824a-a616-42c2-b451-d9c73642cf1f"
   },
   "outputs": [],
   "source": [
    "import matplotlib.pyplot as plt\n",
    "import numpy as np"
   ]
  },
  {
   "cell_type": "markdown",
   "id": "03ee0f3c-2093-41d2-b888-e5d925e6f7d8",
   "metadata": {
    "id": "03ee0f3c-2093-41d2-b888-e5d925e6f7d8"
   },
   "source": [
    "## CNN"
   ]
  },
  {
   "cell_type": "markdown",
   "id": "6133c4a9-1f32-41e9-b464-1a7457c47004",
   "metadata": {
    "id": "6133c4a9-1f32-41e9-b464-1a7457c47004"
   },
   "source": [
    "### CONV의 역할"
   ]
  },
  {
   "cell_type": "markdown",
   "id": "05fb71a9-8f1d-4fee-97c7-c61e1ce2b386",
   "metadata": {
    "id": "05fb71a9-8f1d-4fee-97c7-c61e1ce2b386"
   },
   "source": [
    "`-` 데이터생성 (그냥 흑백대비 데이터)"
   ]
  },
  {
   "cell_type": "code",
   "execution_count": 8,
   "id": "993b4d50-05f8-4c18-8da5-58d2c45e3de7",
   "metadata": {
    "id": "993b4d50-05f8-4c18-8da5-58d2c45e3de7",
    "outputId": "350ed793-bac1-49b2-f48a-fbb36060ddb0"
   },
   "outputs": [
    {
     "data": {
      "text/plain": [
       "<tf.Tensor: shape=(50, 25), dtype=float64, numpy=\n",
       "array([[10., 10., 10., ..., 10., 10., 10.],\n",
       "       [10., 10., 10., ..., 10., 10., 10.],\n",
       "       [10., 10., 10., ..., 10., 10., 10.],\n",
       "       ...,\n",
       "       [10., 10., 10., ..., 10., 10., 10.],\n",
       "       [10., 10., 10., ..., 10., 10., 10.],\n",
       "       [10., 10., 10., ..., 10., 10., 10.]])>"
      ]
     },
     "execution_count": 8,
     "metadata": {},
     "output_type": "execute_result"
    }
   ],
   "source": [
    "_X1 = tnp.ones([50,25])*10 \n",
    "_X1"
   ]
  },
  {
   "cell_type": "code",
   "execution_count": 9,
   "id": "399e901f-2871-47b6-b5ca-7d038a32af5e",
   "metadata": {
    "id": "399e901f-2871-47b6-b5ca-7d038a32af5e",
    "outputId": "f6bf5dc1-d210-4f20-89d3-520a171de55a"
   },
   "outputs": [
    {
     "data": {
      "text/plain": [
       "<tf.Tensor: shape=(50, 25), dtype=float64, numpy=\n",
       "array([[0., 0., 0., ..., 0., 0., 0.],\n",
       "       [0., 0., 0., ..., 0., 0., 0.],\n",
       "       [0., 0., 0., ..., 0., 0., 0.],\n",
       "       ...,\n",
       "       [0., 0., 0., ..., 0., 0., 0.],\n",
       "       [0., 0., 0., ..., 0., 0., 0.],\n",
       "       [0., 0., 0., ..., 0., 0., 0.]])>"
      ]
     },
     "execution_count": 9,
     "metadata": {},
     "output_type": "execute_result"
    }
   ],
   "source": [
    "_X2 = tnp.zeros([50,25])*10 \n",
    "_X2"
   ]
  },
  {
   "cell_type": "code",
   "execution_count": 10,
   "id": "31c8005a-dd9e-40d2-a601-226328a641bd",
   "metadata": {
    "id": "31c8005a-dd9e-40d2-a601-226328a641bd",
    "outputId": "79d2cfd0-04aa-438d-e760-0d77b41c29e3"
   },
   "outputs": [
    {
     "data": {
      "text/plain": [
       "<tf.Tensor: shape=(50, 50), dtype=float64, numpy=\n",
       "array([[10., 10., 10., ...,  0.,  0.,  0.],\n",
       "       [10., 10., 10., ...,  0.,  0.,  0.],\n",
       "       [10., 10., 10., ...,  0.,  0.,  0.],\n",
       "       ...,\n",
       "       [10., 10., 10., ...,  0.,  0.,  0.],\n",
       "       [10., 10., 10., ...,  0.,  0.,  0.],\n",
       "       [10., 10., 10., ...,  0.,  0.,  0.]])>"
      ]
     },
     "execution_count": 10,
     "metadata": {},
     "output_type": "execute_result"
    }
   ],
   "source": [
    "tf.concat([_X1,_X2],axis=1)"
   ]
  },
  {
   "cell_type": "code",
   "execution_count": 11,
   "id": "a27be4dd-0322-4b31-b61e-2104d52d862a",
   "metadata": {},
   "outputs": [
    {
     "data": {
      "text/plain": [
       "<matplotlib.image.AxesImage at 0x7f53304fcf10>"
      ]
     },
     "execution_count": 11,
     "metadata": {},
     "output_type": "execute_result"
    },
    {
     "data": {
      "image/png": "[encoded data removed]",
      "text/plain": [
       "<Figure size 432x288 with 1 Axes>"
      ]
     },
     "metadata": {
      "needs_background": "light"
     },
     "output_type": "display_data"
    }
   ],
   "source": [
    "plt.imshow(tf.concat([_X1,_X2],axis=1),cmap='gray')"
   ]
  },
  {
   "cell_type": "code",
   "execution_count": 12,
   "id": "74fe449c-3d77-4003-8bfd-96fa4c7539b3",
   "metadata": {
    "id": "74fe449c-3d77-4003-8bfd-96fa4c7539b3",
    "outputId": "7baefe52-27af-4a53-a658-fe73422156c2"
   },
   "outputs": [
    {
     "data": {
      "text/plain": [
       "<tf.Tensor: shape=(50, 50), dtype=float64, numpy=\n",
       "array([[-1.4994335 ,  1.14178473,  0.71103747, ...,  0.45121632,\n",
       "        -0.92730065,  1.00259235],\n",
       "       [ 0.30215592, -0.92434633,  1.02168957, ...,  0.63058577,\n",
       "        -1.03171565, -0.81419678],\n",
       "       [ 1.88469035,  0.04708497, -0.46601688, ...,  0.4809128 ,\n",
       "         0.55345481,  0.5988075 ],\n",
       "       ...,\n",
       "       [ 1.05154198, -0.21949264,  0.89873666, ...,  0.58016494,\n",
       "         0.10418315, -1.45269251],\n",
       "       [ 1.40811858,  0.60528329, -0.19723869, ..., -1.40293283,\n",
       "         1.67386734, -1.38784729],\n",
       "       [ 1.09589203, -0.59392903,  0.92308979, ...,  0.71062065,\n",
       "         1.19756064,  0.65937463]])>"
      ]
     },
     "execution_count": 12,
     "metadata": {},
     "output_type": "execute_result"
    }
   ],
   "source": [
    "_noise = tnp.random.randn(50*50).reshape(50,50)\n",
    "_noise"
   ]
  },
  {
   "cell_type": "code",
   "execution_count": 13,
   "id": "2f660a0e-aebe-446b-b791-31de84c7f299",
   "metadata": {
    "id": "2f660a0e-aebe-446b-b791-31de84c7f299"
   },
   "outputs": [],
   "source": [
    "XXX = tf.concat([_X1,_X2],axis=1) + _noise"
   ]
  },
  {
   "cell_type": "code",
   "execution_count": 14,
   "id": "2478e82a-2f71-4770-a9cf-bc0d009723e4",
   "metadata": {
    "id": "2478e82a-2f71-4770-a9cf-bc0d009723e4"
   },
   "outputs": [],
   "source": [
    "XXX=XXX.reshape(1,50,50,1) # conv를 위해 shape을 맞춰주었다."
   ]
  },
  {
   "cell_type": "code",
   "execution_count": 15,
   "id": "cd1ea97b-9eae-414a-b9d2-5848f0dbf376",
   "metadata": {
    "id": "cd1ea97b-9eae-414a-b9d2-5848f0dbf376",
    "outputId": "f7993798-115f-4b43-bff2-1beed97c52df"
   },
   "outputs": [
    {
     "data": {
      "text/plain": [
       "<matplotlib.image.AxesImage at 0x7f533034fa30>"
      ]
     },
     "execution_count": 15,
     "metadata": {},
     "output_type": "execute_result"
    },
    {
     "data": {
      "image/png": "[encoded data removed]",
      "text/plain": [
       "<Figure size 432x288 with 1 Axes>"
      ]
     },
     "metadata": {
      "needs_background": "light"
     },
     "output_type": "display_data"
    }
   ],
   "source": [
    "plt.imshow(XXX.reshape(50,50),cmap='gray')"
   ]
  },
  {
   "cell_type": "markdown",
   "id": "5e21163e-fbe4-46af-9127-ae3497c4481e",
   "metadata": {
    "id": "5e21163e-fbe4-46af-9127-ae3497c4481e"
   },
   "source": [
    "`-` conv layer 생성 "
   ]
  },
  {
   "cell_type": "code",
   "execution_count": 17,
   "id": "6c9f8d24-baf1-4453-89ab-c4adbc248a1a",
   "metadata": {
    "id": "6c9f8d24-baf1-4453-89ab-c4adbc248a1a"
   },
   "outputs": [],
   "source": [
    "conv = tf.keras.layers.Conv2D(2,(2,2)) "
   ]
  },
  {
   "cell_type": "code",
   "execution_count": 18,
   "id": "f990dcef-883f-49d4-a1ab-25f183799c10",
   "metadata": {
    "id": "f990dcef-883f-49d4-a1ab-25f183799c10",
    "outputId": "a77b0931-5c04-46a7-929d-6327e0657d49"
   },
   "outputs": [
    {
     "data": {
      "text/plain": [
       "[]"
      ]
     },
     "execution_count": 18,
     "metadata": {},
     "output_type": "execute_result"
    }
   ],
   "source": [
    "conv.weights # 처음에는 가중치가 없음 "
   ]
  },
  {
   "cell_type": "code",
   "execution_count": 20,
   "id": "fb322af5-92b5-4d26-969b-ed570ecdfb0e",
   "metadata": {
    "id": "fb322af5-92b5-4d26-969b-ed570ecdfb0e",
    "outputId": "4659cd0e-1113-44a2-dece-6a81d34d140d"
   },
   "outputs": [
    {
     "data": {
      "text/plain": [
       "[<tf.Variable 'conv2d/kernel:0' shape=(2, 2, 1, 2) dtype=float32, numpy=\n",
       " array([[[[-0.50288284,  0.2487824 ]],\n",
       " \n",
       "         [[-0.27068847, -0.37406996]]],\n",
       " \n",
       " \n",
       "        [[[-0.24489376,  0.03335083]],\n",
       " \n",
       "         [[-0.05075628,  0.5841275 ]]]], dtype=float32)>,\n",
       " <tf.Variable 'conv2d/bias:0' shape=(2,) dtype=float32, numpy=array([0., 0.], dtype=float32)>]"
      ]
     },
     "execution_count": 20,
     "metadata": {},
     "output_type": "execute_result"
    }
   ],
   "source": [
    "conv(XXX) # 가중치를 만들기 위해서 XXX를 conv에 한번 통과시킴\n",
    "conv.weights # 이제 가중치가 생김"
   ]
  },
  {
   "cell_type": "markdown",
   "id": "779c9db6-442d-4d58-9453-a358952d30fb",
   "metadata": {
    "id": "779c9db6-442d-4d58-9453-a358952d30fb"
   },
   "source": [
    "`-` 가중치의 값을 확인해보자. "
   ]
  },
  {
   "cell_type": "code",
   "execution_count": 21,
   "id": "2dfeaf70-6df9-4f70-b1be-491b1877605a",
   "metadata": {
    "id": "2dfeaf70-6df9-4f70-b1be-491b1877605a",
    "outputId": "a70e8e3b-54c4-49fd-deae-419d87d626ba"
   },
   "outputs": [
    {
     "data": {
      "text/plain": [
       "<tf.Variable 'conv2d/kernel:0' shape=(2, 2, 1, 2) dtype=float32, numpy=\n",
       "array([[[[-0.50288284,  0.2487824 ]],\n",
       "\n",
       "        [[-0.27068847, -0.37406996]]],\n",
       "\n",
       "\n",
       "       [[[-0.24489376,  0.03335083]],\n",
       "\n",
       "        [[-0.05075628,  0.5841275 ]]]], dtype=float32)>"
      ]
     },
     "execution_count": 21,
     "metadata": {},
     "output_type": "execute_result"
    }
   ],
   "source": [
    "conv.weights[0] # kernel에 해당하는것 "
   ]
  },
  {
   "cell_type": "code",
   "execution_count": 22,
   "id": "2b4667f0-bc0a-4bcf-8027-7c73beb80dd3",
   "metadata": {
    "id": "2b4667f0-bc0a-4bcf-8027-7c73beb80dd3",
    "outputId": "12a55b77-92cc-4a6f-99f8-59aa71d626d2"
   },
   "outputs": [
    {
     "data": {
      "text/plain": [
       "<tf.Variable 'conv2d/bias:0' shape=(2,) dtype=float32, numpy=array([0., 0.], dtype=float32)>"
      ]
     },
     "execution_count": 22,
     "metadata": {},
     "output_type": "execute_result"
    }
   ],
   "source": [
    "conv.weights[1] # bias에 해당하는것 "
   ]
  },
  {
   "cell_type": "markdown",
   "id": "e0a0a074-453a-451f-b649-758114b1a2f0",
   "metadata": {},
   "source": [
    "bias가 2개 들어가있네!"
   ]
  },
  {
   "cell_type": "markdown",
   "id": "ee11e3c9-b9df-467a-b8c1-5d11aa7dd2be",
   "metadata": {},
   "source": [
    "![](https://encrypted-tbn0.gstatic.com/images?q=tbn:ANd9GcTUxJVwkcG3p6C963vzaykLcpXUMBFJtGK7CQ&usqp=CAU)"
   ]
  },
  {
   "cell_type": "markdown",
   "id": "0cda443f-bd57-4415-a2c0-b9dd369a53fa",
   "metadata": {},
   "source": [
    "w1 참고 그림"
   ]
  },
  {
   "cell_type": "markdown",
   "id": "8607b3db-5f60-428c-a604-fda7ed5e51eb",
   "metadata": {
    "id": "8607b3db-5f60-428c-a604-fda7ed5e51eb"
   },
   "source": [
    "`-` 필터값을 원하는 것으로 변경해보자. "
   ]
  },
  {
   "cell_type": "code",
   "execution_count": 23,
   "id": "08ee8240-b49c-46db-8beb-dfc5411f78ba",
   "metadata": {
    "id": "08ee8240-b49c-46db-8beb-dfc5411f78ba"
   },
   "outputs": [],
   "source": [
    "w0 = [[0.25,0.25],[0.25,0.25]] # 잡티를 제거하는 효과를 준다. (평균이 되니까!)\n",
    "w1 = [[-1.0,1.0],[-1.0,1.0]] # 경계를 찾기 좋아보이는 필터이다. (엣지검출)"
   ]
  },
  {
   "cell_type": "code",
   "execution_count": 24,
   "id": "b815948e-676d-446f-9fd6-58c8f4d60609",
   "metadata": {},
   "outputs": [
    {
     "data": {
      "text/plain": [
       "array([[[[0.25]],\n",
       "\n",
       "        [[0.25]]],\n",
       "\n",
       "\n",
       "       [[[0.25]],\n",
       "\n",
       "        [[0.25]]]])"
      ]
     },
     "execution_count": 24,
     "metadata": {},
     "output_type": "execute_result"
    }
   ],
   "source": [
    "np.array(w0).reshape(2,2,1,1)"
   ]
  },
  {
   "cell_type": "code",
   "execution_count": 25,
   "id": "092a7d4a-3807-4fab-aa47-3aaf300080e0",
   "metadata": {},
   "outputs": [
    {
     "data": {
      "text/plain": [
       "array([[[[-1.]],\n",
       "\n",
       "        [[ 1.]]],\n",
       "\n",
       "\n",
       "       [[[-1.]],\n",
       "\n",
       "        [[ 1.]]]])"
      ]
     },
     "execution_count": 25,
     "metadata": {},
     "output_type": "execute_result"
    }
   ],
   "source": [
    "np.array(w1).reshape(2,2,1,1)"
   ]
  },
  {
   "cell_type": "code",
   "execution_count": 26,
   "id": "c7e8586b-e922-45ab-8c0e-f6618c106625",
   "metadata": {
    "id": "c7e8586b-e922-45ab-8c0e-f6618c106625",
    "outputId": "5e88a32a-88b6-4e21-888f-6ff55683b39a"
   },
   "outputs": [
    {
     "data": {
      "text/plain": [
       "array([[[[ 0.25, -1.  ]],\n",
       "\n",
       "        [[ 0.25,  1.  ]]],\n",
       "\n",
       "\n",
       "       [[[ 0.25, -1.  ]],\n",
       "\n",
       "        [[ 0.25,  1.  ]]]])"
      ]
     },
     "execution_count": 26,
     "metadata": {},
     "output_type": "execute_result"
    }
   ],
   "source": [
    "w=np.concatenate([np.array(w0).reshape(2,2,1,1),np.array(w1).reshape(2,2,1,1)],axis=-1)\n",
    "w"
   ]
  },
  {
   "cell_type": "code",
   "execution_count": 27,
   "id": "56124e71-a752-4a3e-9281-3ebfc8be94e8",
   "metadata": {
    "id": "56124e71-a752-4a3e-9281-3ebfc8be94e8",
    "outputId": "c1a888a6-6204-43d9-f74b-6e494385b251"
   },
   "outputs": [
    {
     "data": {
      "text/plain": [
       "array([0., 0.])"
      ]
     },
     "execution_count": 27,
     "metadata": {},
     "output_type": "execute_result"
    }
   ],
   "source": [
    "b= np.array([0.0,0.0])\n",
    "b"
   ]
  },
  {
   "cell_type": "code",
   "execution_count": 28,
   "id": "7facc917-3ffb-4a36-a87f-cd62ed23aa6d",
   "metadata": {
    "id": "7facc917-3ffb-4a36-a87f-cd62ed23aa6d",
    "outputId": "2e1da904-b8b4-49a1-d457-e497e96dd8bb"
   },
   "outputs": [
    {
     "data": {
      "text/plain": [
       "[array([[[[ 0.25, -1.  ]],\n",
       " \n",
       "         [[ 0.25,  1.  ]]],\n",
       " \n",
       " \n",
       "        [[[ 0.25, -1.  ]],\n",
       " \n",
       "         [[ 0.25,  1.  ]]]], dtype=float32),\n",
       " array([0., 0.], dtype=float32)]"
      ]
     },
     "execution_count": 28,
     "metadata": {},
     "output_type": "execute_result"
    }
   ],
   "source": [
    "conv.set_weights([w,b])\n",
    "conv.get_weights()"
   ]
  },
  {
   "cell_type": "markdown",
   "id": "e58ece36-91db-4967-8865-ce19b416cc28",
   "metadata": {
    "id": "e58ece36-91db-4967-8865-ce19b416cc28"
   },
   "source": [
    "- 첫번째는 평균을 구하는 필터, \n",
    "- 두번째는 엣지를 검출하는 필터 "
   ]
  },
  {
   "cell_type": "markdown",
   "id": "64a61c29-96b0-4b07-a54b-1221ddd9f28b",
   "metadata": {
    "id": "64a61c29-96b0-4b07-a54b-1221ddd9f28b"
   },
   "source": [
    "`-` 필터를 넣은 결과를 확인 "
   ]
  },
  {
   "cell_type": "markdown",
   "id": "e04ef3b8-10ab-476e-b167-8eddb96ffdb2",
   "metadata": {},
   "source": [
    "채널 2개(1,49,49,2) 나오니까 나눠서 보자"
   ]
  },
  {
   "cell_type": "code",
   "execution_count": 29,
   "id": "c6b1b6d7-c6a8-4b4b-9462-e4c1db692349",
   "metadata": {
    "id": "c6b1b6d7-c6a8-4b4b-9462-e4c1db692349",
    "outputId": "04a4b3ec-409c-4a43-803b-2e2ada95a4b7"
   },
   "outputs": [
    {
     "data": {
      "text/plain": [
       "<tf.Tensor: shape=(1, 49, 49), dtype=float32, numpy=\n",
       "array([[[ 9.75504   , 10.487541  , 10.61261   , ...,  0.9340217 ,\n",
       "         -0.21930355, -0.44265518],\n",
       "        [10.327396  ,  9.919603  , 10.930278  , ...,  0.6309451 ,\n",
       "          0.15830944, -0.17341252],\n",
       "        [ 9.870857  ,  9.726486  , 10.473045  , ...,  0.5480703 ,\n",
       "          0.4546234 ,  0.23532967],\n",
       "        ...,\n",
       "        [10.772679  , 10.920618  , 10.934088  , ..., -0.46006233,\n",
       "          0.28696376, -0.8030181 ],\n",
       "        [10.711363  , 10.271822  ,  9.693743  , ..., -1.0189676 ,\n",
       "          0.23882064, -0.26562232],\n",
       "        [10.62884   , 10.184301  ,  9.686417  , ..., -0.5479482 ,\n",
       "          0.54477894,  0.5357388 ]]], dtype=float32)>"
      ]
     },
     "execution_count": 29,
     "metadata": {},
     "output_type": "execute_result"
    }
   ],
   "source": [
    "XXX0=conv(XXX)[...,0] # 채널0\n",
    "XXX0"
   ]
  },
  {
   "cell_type": "code",
   "execution_count": 30,
   "id": "aff8cb87-6c85-4c62-b295-77e6d4dc9476",
   "metadata": {
    "id": "aff8cb87-6c85-4c62-b295-77e6d4dc9476",
    "outputId": "0b44ff7e-5809-4c03-9e4a-d0835d464e76"
   },
   "outputs": [
    {
     "data": {
      "text/plain": [
       "<tf.Tensor: shape=(1, 49, 49), dtype=float32, numpy=\n",
       "array([[[ 1.4147167 ,  1.5152884 , -1.0150156 , ..., -1.5724827 ,\n",
       "         -3.0408185 ,  2.1474118 ],\n",
       "        [-3.064107  ,  1.4329338 ,  2.609764  , ..., -0.30078316,\n",
       "         -1.5897593 ,  0.26287156],\n",
       "        [-2.5716524 ,  1.9941673 ,  0.9920702 , ...,  2.410153  ,\n",
       "         -2.7839408 ,  1.9067657 ],\n",
       "        ...,\n",
       "        [-0.03046417,  0.62222004, -0.56834507, ...,  4.518659  ,\n",
       "         -1.530555  , -2.8293724 ],\n",
       "        [-2.0738697 ,  0.3157072 , -2.6280255 , ...,  2.4303343 ,\n",
       "          2.6008184 , -4.6185904 ],\n",
       "        [-2.4926558 ,  0.7144966 , -2.7060347 , ...,  0.80716825,\n",
       "          3.5637403 , -3.5999007 ]]], dtype=float32)>"
      ]
     },
     "execution_count": 30,
     "metadata": {},
     "output_type": "execute_result"
    }
   ],
   "source": [
    "XXX1=conv(XXX)[...,1] # 채널1\n",
    "XXX1"
   ]
  },
  {
   "cell_type": "markdown",
   "id": "e9819779-4375-41d4-b581-222d9a048921",
   "metadata": {
    "id": "e9819779-4375-41d4-b581-222d9a048921"
   },
   "source": [
    "`-` 각 채널을 시각화 "
   ]
  },
  {
   "cell_type": "code",
   "execution_count": 36,
   "id": "5449fb3b-d8ef-4ac0-affe-d8aa9f91d1b7",
   "metadata": {
    "id": "5449fb3b-d8ef-4ac0-affe-d8aa9f91d1b7",
    "outputId": "465a5ad9-c489-4d06-c2ca-db0639f1550f"
   },
   "outputs": [
    {
     "data": {
      "image/png": "[encoded data removed]",
      "text/plain": [
       "<Figure size 432x288 with 4 Axes>"
      ]
     },
     "metadata": {
      "needs_background": "light"
     },
     "output_type": "display_data"
    }
   ],
   "source": [
    "fig, ((ax1,ax2),(ax3,ax4)) = plt.subplots(2,2)"
   ]
  },
  {
   "cell_type": "code",
   "execution_count": 37,
   "id": "5c758ed5-8d64-4644-8ce6-894b6a20608f",
   "metadata": {
    "id": "5c758ed5-8d64-4644-8ce6-894b6a20608f",
    "outputId": "64533f50-9ac0-4529-e2cf-a9ae168fbe21"
   },
   "outputs": [
    {
     "data": {
      "text/plain": [
       "<matplotlib.image.AxesImage at 0x7f53301f15d0>"
      ]
     },
     "execution_count": 37,
     "metadata": {},
     "output_type": "execute_result"
    }
   ],
   "source": [
    "ax1.imshow(XXX.reshape(50,50),cmap='gray')"
   ]
  },
  {
   "cell_type": "code",
   "execution_count": 38,
   "id": "655b30d8-54f2-423f-b4e9-b6a2852ff43c",
   "metadata": {
    "id": "655b30d8-54f2-423f-b4e9-b6a2852ff43c",
    "outputId": "2b4550f0-3c40-45e9-e8c5-66581b2eab53"
   },
   "outputs": [
    {
     "data": {
      "text/plain": [
       "<matplotlib.image.AxesImage at 0x7f533001cd30>"
      ]
     },
     "execution_count": 38,
     "metadata": {},
     "output_type": "execute_result"
    }
   ],
   "source": [
    "ax3.imshow(XXX0.reshape(49,49),cmap='gray')"
   ]
  },
  {
   "cell_type": "code",
   "execution_count": 39,
   "id": "f535fec2-a6a4-4de5-b0e0-1640f519de07",
   "metadata": {
    "id": "f535fec2-a6a4-4de5-b0e0-1640f519de07",
    "outputId": "e51bb334-1683-40ea-e65b-064734434283"
   },
   "outputs": [
    {
     "data": {
      "text/plain": [
       "<matplotlib.image.AxesImage at 0x7f5330329b10>"
      ]
     },
     "execution_count": 39,
     "metadata": {},
     "output_type": "execute_result"
    }
   ],
   "source": [
    "ax4.imshow(XXX1.reshape(49,49),cmap='gray')"
   ]
  },
  {
   "cell_type": "code",
   "execution_count": 40,
   "id": "5570686d-0b12-4c08-b2d9-59d961b82b1d",
   "metadata": {
    "id": "5570686d-0b12-4c08-b2d9-59d961b82b1d",
    "outputId": "841b87c2-c78d-44f4-c969-dd16b50993b3"
   },
   "outputs": [
    {
     "data": {
      "image/png": "[encoded data removed]",
      "text/plain": [
       "<Figure size 432x288 with 4 Axes>"
      ]
     },
     "execution_count": 40,
     "metadata": {},
     "output_type": "execute_result"
    }
   ],
   "source": [
    "fig"
   ]
  },
  {
   "cell_type": "markdown",
   "id": "fa27ea5d-167d-446b-91ed-2b6eb65f5d5b",
   "metadata": {
    "id": "fa27ea5d-167d-446b-91ed-2b6eb65f5d5b"
   },
   "source": [
    "- 2사분면: 원래이미지 \n",
    "- 3사분면: 원래이미지 -> 평균을 의미하는 conv적용 \n",
    "- 4사분면: 원래이미지 -> 엣지를 검출하는 conv적용"
   ]
  },
  {
   "cell_type": "markdown",
   "id": "d2e1b572-db56-4c3f-9d27-7e16a6afdeed",
   "metadata": {
    "id": "d2e1b572-db56-4c3f-9d27-7e16a6afdeed"
   },
   "source": [
    "`-` conv(XXX)의 각 채널에 한 번 더 conv를 통과시켜보자"
   ]
  },
  {
   "cell_type": "code",
   "execution_count": 41,
   "id": "29fd52fb-2d10-4616-abff-f1f1c6c28f5e",
   "metadata": {},
   "outputs": [
    {
     "data": {
      "text/plain": [
       "(TensorShape([1, 49, 49]), TensorShape([1, 49, 49]))"
      ]
     },
     "execution_count": 41,
     "metadata": {},
     "output_type": "execute_result"
    }
   ],
   "source": [
    "XXX0.shape, XXX1.shape"
   ]
  },
  {
   "cell_type": "code",
   "execution_count": 42,
   "id": "d3b5a539-e7f5-4547-a0ac-41e2dd6d1930",
   "metadata": {
    "id": "d3b5a539-e7f5-4547-a0ac-41e2dd6d1930",
    "outputId": "877ddbe3-8326-4097-efd1-8a544f38c535"
   },
   "outputs": [
    {
     "data": {
      "text/plain": [
       "<tf.Tensor: shape=(1, 48, 48), dtype=float32, numpy=\n",
       "array([[[  4.5976124 ,  -1.3534737 ,  -2.5089645 , ...,  -8.443421  ,\n",
       "          -2.7573118 ,   7.0408616 ],\n",
       "        [  9.0628605 ,   0.17473316,  -9.184645  , ...,   0.05799007,\n",
       "          -6.48307   ,   6.543338  ],\n",
       "        [  9.833731  ,  -7.029951  ,  -1.1439972 , ...,   2.0186691 ,\n",
       "         -10.097098  ,  10.359213  ],\n",
       "        ...,\n",
       "        [  1.043313  ,  -0.42036915,  -4.250057  , ...,  10.255383  ,\n",
       "          -7.148736  ,   0.3711524 ],\n",
       "        [  3.0422611 ,  -4.134298  ,   4.5457377 , ...,  14.35323   ,\n",
       "          -5.87873   ,  -8.518227  ],\n",
       "        [  5.5967293 ,  -6.364264  ,  13.89122   , ...,   7.4165688 ,\n",
       "           2.927056  , -14.383051  ]]], dtype=float32)>"
      ]
     },
     "execution_count": 42,
     "metadata": {},
     "output_type": "execute_result"
    }
   ],
   "source": [
    "conv(XXX0.reshape(1,49,49,1))[...,0] ### XXX0 -> 평균필터 <=> XXX -> 평균필터 -> 평균필터 \n",
    "conv(XXX0.reshape(1,49,49,1))[...,1] ### XXX0 -> 엣지필터 <=> XXX -> 평균필터 -> 엣지필터 \n",
    "conv(XXX1.reshape(1,49,49,1))[...,0] ### XXX1 -> 평균필터 <=> XXX -> 엣지필터 -> 평균필터 \n",
    "conv(XXX1.reshape(1,49,49,1))[...,1] ### XXX1 -> 엣지필터 <=> XXX -> 엣지필터 -> 엣지필터 "
   ]
  },
  {
   "cell_type": "code",
   "execution_count": 43,
   "id": "3df76478-b8f3-48dd-8d6a-d0dc832686b0",
   "metadata": {
    "id": "3df76478-b8f3-48dd-8d6a-d0dc832686b0",
    "outputId": "dc6bcb72-0078-4ad2-a4b3-104119b57b1b"
   },
   "outputs": [
    {
     "data": {
      "image/png": "[encoded data removed]",
      "text/plain": [
       "<Figure size 432x288 with 12 Axes>"
      ]
     },
     "metadata": {
      "needs_background": "light"
     },
     "output_type": "display_data"
    }
   ],
   "source": [
    "fig,ax =plt.subplots(3,4)"
   ]
  },
  {
   "cell_type": "code",
   "execution_count": 44,
   "id": "6b603ddc-e5b9-4187-be41-baa66c7dab9a",
   "metadata": {
    "id": "6b603ddc-e5b9-4187-be41-baa66c7dab9a",
    "outputId": "1da7d275-f18d-4e3a-ab26-4e8e7b7303ce"
   },
   "outputs": [
    {
     "data": {
      "text/plain": [
       "<matplotlib.image.AxesImage at 0x7f52cc02c220>"
      ]
     },
     "execution_count": 44,
     "metadata": {},
     "output_type": "execute_result"
    }
   ],
   "source": [
    "ax[0][0].imshow(XXX.reshape(50,50),cmap='gray') # 원래 이미지"
   ]
  },
  {
   "cell_type": "code",
   "execution_count": 45,
   "id": "33bf9ee8-72d4-4ddf-8edd-7a6650fc49a3",
   "metadata": {
    "id": "33bf9ee8-72d4-4ddf-8edd-7a6650fc49a3",
    "outputId": "4ba9d2d4-db88-4ab0-e2cb-771fd4b7856a"
   },
   "outputs": [
    {
     "data": {
      "text/plain": [
       "<matplotlib.image.AxesImage at 0x7f52cc02de10>"
      ]
     },
     "execution_count": 45,
     "metadata": {},
     "output_type": "execute_result"
    }
   ],
   "source": [
    "ax[1][0].imshow(XXX0.reshape(49,49),cmap='gray') # 원래 이미지 -> 평균필터 \n",
    "ax[1][2].imshow(XXX1.reshape(49,49),cmap='gray') # 원래 이미지 -> 엣지필터"
   ]
  },
  {
   "cell_type": "code",
   "execution_count": 46,
   "id": "f1cea099-ec15-4ee8-8904-8106e3aa635c",
   "metadata": {
    "id": "f1cea099-ec15-4ee8-8904-8106e3aa635c",
    "outputId": "ef68f75a-a403-4c74-afe3-4adc4e3d0193"
   },
   "outputs": [
    {
     "data": {
      "text/plain": [
       "<matplotlib.image.AxesImage at 0x7f52cc06dd80>"
      ]
     },
     "execution_count": 46,
     "metadata": {},
     "output_type": "execute_result"
    }
   ],
   "source": [
    "ax[2][0].imshow(conv(XXX0.reshape(1,49,49,1))[...,0].reshape(48,48),cmap='gray') # 원래이미지 -> 평균필터 \n",
    "ax[2][1].imshow(conv(XXX0.reshape(1,49,49,1))[...,1].reshape(48,48),cmap='gray') # 원래이미지 -> 엣지필터\n",
    "ax[2][2].imshow(conv(XXX1.reshape(1,49,49,1))[...,0].reshape(48,48),cmap='gray') # 원래이미지 -> 평균필터 \n",
    "ax[2][3].imshow(conv(XXX1.reshape(1,49,49,1))[...,1].reshape(48,48),cmap='gray') # 원래이미지 -> 엣지필터"
   ]
  },
  {
   "cell_type": "code",
   "execution_count": 47,
   "id": "e83b8c8f-27d0-437f-bb51-806d68d6923e",
   "metadata": {
    "id": "e83b8c8f-27d0-437f-bb51-806d68d6923e",
    "outputId": "e90ed174-5cea-441f-bcff-70695196ac40"
   },
   "outputs": [
    {
     "data": {
      "image/png": "[encoded data removed]",
      "text/plain": [
       "<Figure size 1152x576 with 12 Axes>"
      ]
     },
     "execution_count": 47,
     "metadata": {},
     "output_type": "execute_result"
    }
   ],
   "source": [
    "fig.set_figheight(8)\n",
    "fig.set_figwidth(16)\n",
    "fig.tight_layout()\n",
    "fig"
   ]
  },
  {
   "cell_type": "markdown",
   "id": "109a88f0-0ac9-44b3-bd95-e1dd6d145e99",
   "metadata": {},
   "source": [
    "평균 두 번 했더니 희미해지는 거 같아\n",
    "\n",
    "엣지 두 번하는 것은 의미 없는 것 같아"
   ]
  },
  {
   "cell_type": "markdown",
   "id": "f981cbca-b7e9-457b-bc2c-21e2c0068288",
   "metadata": {
    "id": "f981cbca-b7e9-457b-bc2c-21e2c0068288"
   },
   "source": [
    "`-` 요약 \n",
    "- conv의 weight에 따라서 엣지를 검출하는 필터가 만들어지기도 하고 스무딩의 역할을 하는 필터가 만들어지기도 한다. 그리고 우리는 의미를 알 수 없지만 어떠한 역할을 하는 필터가 만들어질 것이다. \n",
    "- 이것들을 조합하다보면 우연히 이미지를 분류하기에 유리한 특징을 뽑아내는 weight가 맞춰질 수도 있겠다. \n",
    "- 채널수를 많이 만들고 다양한 웨이트조합을 실험하다보면 보다 복잡한 이미지의 특징을 추출할 수도 있을 것이다? \n",
    "- 컨볼루션 레이어의 역할 = 이미지의 특징을 추출하는 역할 "
   ]
  },
  {
   "cell_type": "code",
   "execution_count": 48,
   "id": "25a2dfd7-b96a-4310-8581-377312001cc3",
   "metadata": {},
   "outputs": [
    {
     "data": {
      "text/plain": [
       "TensorShape([1, 50, 50, 1])"
      ]
     },
     "execution_count": 48,
     "metadata": {},
     "output_type": "execute_result"
    }
   ],
   "source": [
    "XXX.shape"
   ]
  },
  {
   "cell_type": "code",
   "execution_count": 49,
   "id": "74db3c08-c5d0-4faa-8327-7d2bca498ffd",
   "metadata": {},
   "outputs": [
    {
     "data": {
      "text/plain": [
       "<matplotlib.image.AxesImage at 0x7f52c4777a90>"
      ]
     },
     "execution_count": 49,
     "metadata": {},
     "output_type": "execute_result"
    },
    {
     "data": {
      "image/png": "[encoded data removed]",
      "text/plain": [
       "<Figure size 432x288 with 1 Axes>"
      ]
     },
     "metadata": {
      "needs_background": "light"
     },
     "output_type": "display_data"
    }
   ],
   "source": [
    "plt.imshow(conv(XXX.reshape(50,50).T.reshape(1,50,50,1))[...,1].reshape(49,49))"
   ]
  },
  {
   "cell_type": "code",
   "execution_count": 50,
   "id": "e94114dc-9b07-43b8-86cd-d53d85d43a7f",
   "metadata": {},
   "outputs": [
    {
     "data": {
      "text/plain": [
       "<matplotlib.image.AxesImage at 0x7f52c47cccd0>"
      ]
     },
     "execution_count": 50,
     "metadata": {},
     "output_type": "execute_result"
    },
    {
     "data": {
      "image/png": "[encoded data removed]",
      "text/plain": [
       "<Figure size 432x288 with 1 Axes>"
      ]
     },
     "metadata": {
      "needs_background": "light"
     },
     "output_type": "display_data"
    }
   ],
   "source": [
    "plt.imshow(conv(XXX.reshape(50,50).T.reshape(1,50,50,1))[...,0].reshape(49,49))"
   ]
  },
  {
   "cell_type": "markdown",
   "id": "b769c61c-c570-484b-a73b-154d30cc863a",
   "metadata": {},
   "source": [
    "- 경계 없는 거랑 있는 거랑은 값을 다 더해서 큰 것만 골라내는 법으로 찾을 수 있음\n",
    "- 필터를 다르게 설정하면 경계를 다르게 가진 이미지를 구분해낼 수 있다.\n",
    "    - 경계가 위처럼 등장할 것이니까!\n",
    "    - 하지만 모든 필터가 이렇게 경계를 구분해 내는 것은 아니야, 우리는 기대를 할 뿐, 그 경계를 찾을 것이라는"
   ]
  },
  {
   "cell_type": "markdown",
   "id": "afd9f35d-5a96-4c89-8aa5-f02b403bfff8",
   "metadata": {
    "id": "afd9f35d-5a96-4c89-8aa5-f02b403bfff8"
   },
   "source": [
    "`-` 참고: 스트라이드, 패딩\n",
    "- 스트라이드: 윈도우가 1칸씩 이동하는 것이 아니라 2~3칸씩 이동함 \n",
    "- 패딩: 이미지의 가장자리에 정당한 값을 넣어서 (예를들어 0) 컨볼루션을 수행. 따라서 컨볼루션 연산 이후에도 이미지의 크기가 줄어들지 않도록 방지한다. "
   ]
  },
  {
   "cell_type": "markdown",
   "id": "e6e05b29-a69d-44fc-a7db-00bf2205c186",
   "metadata": {
    "id": "e6e05b29-a69d-44fc-a7db-00bf2205c186"
   },
   "source": [
    "### MAXPOOL"
   ]
  },
  {
   "cell_type": "markdown",
   "id": "fe3fec66-2e0b-4c3b-a76f-87e1142a7071",
   "metadata": {
    "id": "fe3fec66-2e0b-4c3b-a76f-87e1142a7071"
   },
   "source": [
    "`-` 기본적역할: 이미지의 크기를 줄이는 것 \n",
    "- 이미지의의 크기를 줄여야하는 이유? 어차피 최종적으로 10차원으로 줄어야하므로 \n",
    "- 이미지의 크기를 줄이면서도 동시에 아주 크리티컬한 특징은 손실없이 유지하고 싶다~"
   ]
  },
  {
   "cell_type": "markdown",
   "id": "9906e01d-4ed9-4be6-b619-b998aa3d6119",
   "metadata": {},
   "source": [
    "이미지 크기를 줄여서 계산 덜 하게 하자( 더 빨리 돌아가게, 더 효율적으로)"
   ]
  },
  {
   "cell_type": "markdown",
   "id": "3a85f72b-e94e-4052-87ad-3bd7e6e91001",
   "metadata": {
    "id": "3a85f72b-e94e-4052-87ad-3bd7e6e91001"
   },
   "source": [
    "`-` 점점 작은 이미지가 되면서 중요한 특징들은 살아남지만 그렇지 않으면 죽는다. (캐리커쳐 느낌)"
   ]
  },
  {
   "cell_type": "markdown",
   "id": "0d9da22f-b315-4ada-8fb2-231fc580d459",
   "metadata": {
    "id": "0d9da22f-b315-4ada-8fb2-231fc580d459"
   },
   "source": [
    "`-` 평균이 아니라 max를 쓴 이유는? 그냥 평균보다 나을것이라고 생각했음.. \n",
    "- 그런데 사실은 꼭 그렇지만은 않아서 최근에는 꼭 맥스풀링을 고집하진 않는 추세 (평균풀링도 많이씀) "
   ]
  },
  {
   "cell_type": "markdown",
   "id": "6287b1c7-a01c-4731-b8b9-bf32f5b7c073",
   "metadata": {},
   "source": [
    "특징을 압축하고, ..압축하고..\n",
    "\n",
    "컴퓨터가 weight를 자동으로 찾는 maxpooling"
   ]
  },
  {
   "cell_type": "markdown",
   "id": "5a008e45-d696-4cce-b7b4-12b1eec333ca",
   "metadata": {
    "id": "5a008e45-d696-4cce-b7b4-12b1eec333ca"
   },
   "source": [
    "### CNN 아키텍처의 표현방법"
   ]
  },
  {
   "cell_type": "markdown",
   "id": "98fc8c3f-6c05-4528-9ac3-31620598491d",
   "metadata": {
    "id": "98fc8c3f-6c05-4528-9ac3-31620598491d"
   },
   "source": [
    "`-` 아래와 같이 아키텍처의 다이어그램 형태로 표현하고 굳이 노드별로 이미지를 그리진 않음"
   ]
  },
  {
   "cell_type": "markdown",
   "id": "44f67916-2529-4522-bdcb-c9c881016a49",
   "metadata": {
    "id": "44f67916-2529-4522-bdcb-c9c881016a49"
   },
   "source": [
    "![](https://upload.wikimedia.org/wikipedia/commons/thumb/c/cc/Comparison_image_neural_networks.svg/2560px-Comparison_image_neural_networks.svg.png)"
   ]
  },
  {
   "cell_type": "markdown",
   "id": "4ba5be91-17ed-4491-9783-95c70a245ded",
   "metadata": {
    "id": "4ba5be91-17ed-4491-9783-95c70a245ded"
   },
   "source": [
    "`-` 물론 아래와 같이 그리는 경우도 있음"
   ]
  },
  {
   "cell_type": "markdown",
   "id": "ccddca57-68d6-4748-b0f6-dedd296aeefa",
   "metadata": {
    "id": "ccddca57-68d6-4748-b0f6-dedd296aeefa"
   },
   "source": [
    "![](https://editor.analyticsvidhya.com/uploads/90650dnn2.jpeg)"
   ]
  },
  {
   "cell_type": "markdown",
   "id": "ea43974c-bd23-4fee-82db-3124e428fd8c",
   "metadata": {
    "id": "ea43974c-bd23-4fee-82db-3124e428fd8c"
   },
   "source": [
    "### Discusstion about CNN "
   ]
  },
  {
   "cell_type": "markdown",
   "id": "aeab83b2-5173-4508-b099-e8a22f01e912",
   "metadata": {
    "id": "aeab83b2-5173-4508-b099-e8a22f01e912"
   },
   "source": [
    "`-` 격자형태로 배열된 자료를 처리하는데 특화된 신경망이다. \n",
    "- 시계열 (1차원격자), 이미지 (2차원격자)"
   ]
  },
  {
   "cell_type": "markdown",
   "id": "623c9d2f-5cc4-4771-8b6e-bdd743bf9867",
   "metadata": {
    "id": "623c9d2f-5cc4-4771-8b6e-bdd743bf9867"
   },
   "source": [
    "`-` 실제응용에서 엄청난 성공을 거두었다. "
   ]
  },
  {
   "cell_type": "markdown",
   "id": "15be8ed7-6df0-4097-a602-56e1c9c323dd",
   "metadata": {
    "id": "15be8ed7-6df0-4097-a602-56e1c9c323dd"
   },
   "source": [
    "`-` 이름의 유래는 컨볼루션이라는 수학적 연산을 사용했기 때문 \n",
    "- 컨볼루션은 조금 특별한 선형변환이다. "
   ]
  },
  {
   "cell_type": "markdown",
   "id": "a849917c-4ebd-4a4a-8bdc-ecc18f0d2ea3",
   "metadata": {},
   "source": [
    "convolution neural network"
   ]
  },
  {
   "cell_type": "markdown",
   "id": "3ad57856-2954-4bfb-9f5a-4c491b7244f0",
   "metadata": {
    "id": "3ad57856-2954-4bfb-9f5a-4c491b7244f0"
   },
   "source": [
    "`-` 신경과학의 원리가 심층학습에 영향을 미친 사례이다. "
   ]
  },
  {
   "cell_type": "markdown",
   "id": "989e025a-a12c-4cd9-9ed9-48f7b869c1c5",
   "metadata": {
    "id": "989e025a-a12c-4cd9-9ed9-48f7b869c1c5"
   },
   "source": [
    "### CNN의 모티브"
   ]
  },
  {
   "cell_type": "markdown",
   "id": "ac44b61f-7d8a-4429-9636-c5fa79404adc",
   "metadata": {
    "id": "ac44b61f-7d8a-4429-9636-c5fa79404adc"
   },
   "source": [
    "`-` 희소성 + 매개변수의 공유\n",
    "- 다소 철학적인 모티브임 \n",
    "- 희소성: 이미지를 분석하여 특징을 뽑아낼때 부분부분의 특징만 뽑으면 된다는 의미 \n",
    "- 매개변수의 공유: 한 채널에는 하나의 역할을 하는 커널을 설계하면 된다는 의미 (스무딩이든 엣징이든). 즉 어떤지역은 스무딩, 어떤지역은 엣징을 할 필요가 없이 한채널에서는 엣징만, 다른채널에서는 스무딩만 수행한뒤 여러채널을 조합해서 이해하면 된다. "
   ]
  },
  {
   "cell_type": "markdown",
   "id": "461685e1-5f90-484d-a14c-90c8f333e857",
   "metadata": {},
   "source": [
    "DNN에서는 픽셀마다 weight가 다 걸리니까 어느 부분에서 스무딩했는지, 엣징했는지 DNN의 출력결과를 통해 알아낼 수 있다."
   ]
  },
  {
   "cell_type": "markdown",
   "id": "725d766b-bbd8-4f19-9649-621d3addcacf",
   "metadata": {
    "id": "725d766b-bbd8-4f19-9649-621d3addcacf"
   },
   "source": [
    "`-` 매개변수 공유효과로 인해서 파라메터가 확 줄어든다. "
   ]
  },
  {
   "cell_type": "markdown",
   "id": "f2db8e5a-7da7-4266-8e09-3a947894da30",
   "metadata": {
    "id": "f2db8e5a-7da7-4266-8e09-3a947894da30"
   },
   "source": [
    "(예시) (1,6,6,1) -> (1,5,5,2) \n",
    "- MLP방식이면 (36,50) 의 차원을 가진 매트릭스가 필요함 => 1800개의 매개변수 필요\n",
    "- CNN은 8개의 매개변수 필요"
   ]
  },
  {
   "cell_type": "markdown",
   "id": "2ccb7248-21d1-40f3-8d4b-af5f2de5ac15",
   "metadata": {
    "id": "2ccb7248-21d1-40f3-8d4b-af5f2de5ac15"
   },
   "source": [
    "### CNN 신경망의 기본구조 "
   ]
  },
  {
   "cell_type": "markdown",
   "id": "75710961-c900-4e87-970f-506d822fe9c7",
   "metadata": {
    "id": "75710961-c900-4e87-970f-506d822fe9c7"
   },
   "source": [
    "`-` 기본유닛 \n",
    "- conv - activation - pooling\n",
    "- conv - conv - activation - pooling"
   ]
  },
  {
   "cell_type": "markdown",
   "id": "66d3fc11-3adf-4656-bd9b-dfe10e7660d9",
   "metadata": {
    "id": "66d3fc11-3adf-4656-bd9b-dfe10e7660d9"
   },
   "source": [
    "## 모형의 성능을 올리기 위한 노력들 "
   ]
  },
  {
   "cell_type": "markdown",
   "id": "8cb9cb78-0704-46e5-b30e-879962d42fc7",
   "metadata": {
    "id": "8cb9cb78-0704-46e5-b30e-879962d42fc7"
   },
   "source": [
    "### dropout "
   ]
  },
  {
   "cell_type": "markdown",
   "id": "517f0bb9-641d-4fda-82b0-1be442dd0f33",
   "metadata": {
    "id": "517f0bb9-641d-4fda-82b0-1be442dd0f33"
   },
   "source": [
    "`-` 아래의 예제를 복습하자. "
   ]
  },
  {
   "cell_type": "code",
   "execution_count": 51,
   "id": "96f57243-d853-42d5-8d3f-9e5e32848819",
   "metadata": {
    "id": "96f57243-d853-42d5-8d3f-9e5e32848819",
    "outputId": "c3d66fe0-1fb3-4611-a788-d6f969d66063"
   },
   "outputs": [
    {
     "data": {
      "text/plain": [
       "[<matplotlib.lines.Line2D at 0x7f52c464c2b0>]"
      ]
     },
     "execution_count": 51,
     "metadata": {},
     "output_type": "execute_result"
    },
    {
     "data": {
      "image/png": "[encoded data removed]",
      "text/plain": [
       "<Figure size 432x288 with 1 Axes>"
      ]
     },
     "metadata": {
      "needs_background": "light"
     },
     "output_type": "display_data"
    }
   ],
   "source": [
    "np.random.seed(43052)\n",
    "x = np.linspace(0,1,100).reshape(100,1)\n",
    "y = np.random.normal(loc=0,scale=0.01,size=(100,1))\n",
    "plt.plot(x,y)"
   ]
  },
  {
   "cell_type": "markdown",
   "id": "289952a9-5373-4ebe-b75d-e04b650bbbd9",
   "metadata": {},
   "source": [
    "추정값이 직선이 나와서 이미 오버피팅이 예상되는 상태"
   ]
  },
  {
   "cell_type": "code",
   "execution_count": 54,
   "id": "5cb694ab-eedf-4783-911c-3acb8ec88ceb",
   "metadata": {
    "id": "5cb694ab-eedf-4783-911c-3acb8ec88ceb",
    "outputId": "94cc54a9-56c8-4324-d417-28c6d92563e2"
   },
   "outputs": [
    {
     "data": {
      "text/plain": [
       "<keras.callbacks.History at 0x7f52c4394460>"
      ]
     },
     "execution_count": 54,
     "metadata": {},
     "output_type": "execute_result"
    }
   ],
   "source": [
    "tf.random.set_seed(43052)\n",
    "net = tf.keras.Sequential()\n",
    "net.add(tf.keras.layers.Dense(2048,activation='relu'))\n",
    "net.add(tf.keras.layers.Dense(1))\n",
    "net.compile(loss='mse',optimizer='adam')\n",
    "net.fit(x,y,epochs=5000,verbose=0,batch_size=100)"
   ]
  },
  {
   "cell_type": "code",
   "execution_count": 55,
   "id": "68f7b197-9436-406c-91d5-9e78f800bd42",
   "metadata": {
    "id": "68f7b197-9436-406c-91d5-9e78f800bd42",
    "outputId": "df7d909c-c0b8-4114-e927-3b3a0a7d8da4"
   },
   "outputs": [
    {
     "data": {
      "text/plain": [
       "[<matplotlib.lines.Line2D at 0x7f52c42a0730>]"
      ]
     },
     "execution_count": 55,
     "metadata": {},
     "output_type": "execute_result"
    },
    {
     "data": {
      "image/png": "[encoded data removed]",
      "text/plain": [
       "<Figure size 432x288 with 1 Axes>"
      ]
     },
     "metadata": {
      "needs_background": "light"
     },
     "output_type": "display_data"
    }
   ],
   "source": [
    "plt.plot(x,y)\n",
    "plt.plot(x,net(x),'--')"
   ]
  },
  {
   "cell_type": "markdown",
   "id": "b909d6cc-bd6b-45c1-b89c-29944f35e829",
   "metadata": {
    "id": "b909d6cc-bd6b-45c1-b89c-29944f35e829"
   },
   "source": [
    "`-` train/test로 나누어서 생각해보자."
   ]
  },
  {
   "cell_type": "code",
   "execution_count": 56,
   "id": "dd22f960-72b9-4b05-ad5b-94216e386cb4",
   "metadata": {
    "id": "dd22f960-72b9-4b05-ad5b-94216e386cb4",
    "outputId": "1bb98ed3-12d9-40e4-a977-996184be9231"
   },
   "outputs": [
    {
     "data": {
      "text/plain": [
       "<keras.callbacks.History at 0x7f52c42c8c70>"
      ]
     },
     "execution_count": 56,
     "metadata": {},
     "output_type": "execute_result"
    }
   ],
   "source": [
    "tf.random.set_seed(43052)\n",
    "net = tf.keras.Sequential()\n",
    "net.add(tf.keras.layers.Dense(2048,activation='relu'))\n",
    "net.add(tf.keras.layers.Dense(1))\n",
    "net.compile(loss='mse',optimizer='adam')\n",
    "net.fit(x[:80],y[:80],epochs=5000,verbose=0,batch_size=80)"
   ]
  },
  {
   "cell_type": "code",
   "execution_count": 57,
   "id": "a0eae141-9479-4a37-aa53-4b447e291c4f",
   "metadata": {
    "id": "a0eae141-9479-4a37-aa53-4b447e291c4f",
    "outputId": "70518302-1777-4eac-beb7-abf76b30ed07"
   },
   "outputs": [
    {
     "data": {
      "text/plain": [
       "[<matplotlib.lines.Line2D at 0x7f52c42c9ed0>]"
      ]
     },
     "execution_count": 57,
     "metadata": {},
     "output_type": "execute_result"
    },
    {
     "data": {
      "image/png": "[encoded data removed]",
      "text/plain": [
       "<Figure size 432x288 with 1 Axes>"
      ]
     },
     "metadata": {
      "needs_background": "light"
     },
     "output_type": "display_data"
    }
   ],
   "source": [
    "plt.plot(x,y)\n",
    "plt.plot(x[:80],net(x[:80]),'--')"
   ]
  },
  {
   "cell_type": "code",
   "execution_count": 58,
   "id": "9a3cf108-77fe-4de2-a546-cd10af72c026",
   "metadata": {
    "id": "9a3cf108-77fe-4de2-a546-cd10af72c026",
    "outputId": "fac11490-4d3c-4363-c02f-55d8937dcfe5"
   },
   "outputs": [
    {
     "data": {
      "text/plain": [
       "[<matplotlib.lines.Line2D at 0x7f52c435d5d0>]"
      ]
     },
     "execution_count": 58,
     "metadata": {},
     "output_type": "execute_result"
    },
    {
     "data": {
      "image/png": "[encoded data removed]",
      "text/plain": [
       "<Figure size 432x288 with 1 Axes>"
      ]
     },
     "metadata": {
      "needs_background": "light"
     },
     "output_type": "display_data"
    }
   ],
   "source": [
    "plt.plot(x,y)\n",
    "plt.plot(x[:80],net(x[:80]),'--')\n",
    "plt.plot(x[80:],net(x[80:]),'--')"
   ]
  },
  {
   "cell_type": "markdown",
   "id": "c5fd5c5b-3535-44fe-9466-5856c86e0d20",
   "metadata": {},
   "source": [
    "오버피팅의 전형적안 예시"
   ]
  },
  {
   "cell_type": "markdown",
   "id": "eb81a42c-cee4-4692-b4fe-54f596504bc8",
   "metadata": {},
   "source": [
    "train, val-test 나눈다?\n",
    "- 조금 훈련하고 예측해보고 조금 훈련하고 예측해보고 이런 식!"
   ]
  },
  {
   "cell_type": "markdown",
   "id": "0cb1bf97-0176-439c-80aa-1d524848435f",
   "metadata": {
    "id": "0cb1bf97-0176-439c-80aa-1d524848435f"
   },
   "source": [
    "- train에서 추세를 따라가는게 좋은게 아니다 $\\to$ 그냥 직선으로 핏하는거 이외에는 다 오버핏이다. "
   ]
  },
  {
   "cell_type": "markdown",
   "id": "bd6e25e1-1e54-4086-b618-fe7465c0cd12",
   "metadata": {
    "id": "bd6e25e1-1e54-4086-b618-fe7465c0cd12"
   },
   "source": [
    "`-` 매 에폭마다 적당히 80%의 노드들을 빼고 학습하자 $\\to$ 너무 잘 학습되는 문제는 생기지 않을 것이다 (과적합이 방지될것이다?)"
   ]
  },
  {
   "cell_type": "code",
   "execution_count": 59,
   "id": "a41f9a62-8b22-44d1-bff0-be04dfc5f0c3",
   "metadata": {
    "id": "a41f9a62-8b22-44d1-bff0-be04dfc5f0c3",
    "outputId": "4f35db81-c989-4ce4-f48d-f57a8684b5bb"
   },
   "outputs": [
    {
     "data": {
      "text/plain": [
       "<keras.callbacks.History at 0x7f52b41acf10>"
      ]
     },
     "execution_count": 59,
     "metadata": {},
     "output_type": "execute_result"
    }
   ],
   "source": [
    "tf.random.set_seed(43052)\n",
    "net = tf.keras.Sequential()\n",
    "net.add(tf.keras.layers.Dense(2048,activation='relu'))\n",
    "net.add(tf.keras.layers.Dropout(0.8))\n",
    "net.add(tf.keras.layers.Dense(1))\n",
    "net.compile(loss='mse',optimizer='adam')\n",
    "net.fit(x[:80],y[:80],epochs=5000,verbose=0,batch_size=80)"
   ]
  },
  {
   "cell_type": "code",
   "execution_count": 60,
   "id": "029c0c55-ce78-4c78-a9ba-8070b2f5815b",
   "metadata": {
    "id": "029c0c55-ce78-4c78-a9ba-8070b2f5815b",
    "outputId": "d40fe0e4-d567-42b5-86e0-10928920a301"
   },
   "outputs": [
    {
     "data": {
      "text/plain": [
       "[<matplotlib.lines.Line2D at 0x7f52b41c0a00>]"
      ]
     },
     "execution_count": 60,
     "metadata": {},
     "output_type": "execute_result"
    },
    {
     "data": {
      "image/png": "[encoded data removed]",
      "text/plain": [
       "<Figure size 432x288 with 1 Axes>"
      ]
     },
     "metadata": {
      "needs_background": "light"
     },
     "output_type": "display_data"
    }
   ],
   "source": [
    "plt.plot(x,y)\n",
    "plt.plot(x[:80],net(x[:80]),'--')\n",
    "plt.plot(x[80:],net(x[80:]),'--')"
   ]
  },
  {
   "cell_type": "markdown",
   "id": "d53bfa89-8b05-49c6-97e5-d4049ba905cc",
   "metadata": {
    "id": "d53bfa89-8b05-49c6-97e5-d4049ba905cc"
   },
   "source": [
    "`-` 드랍아웃에 대한 summary\n",
    "- 직관: 특정노드를 랜덤으로 off시키면 학습이 방해되어 오히려 과적합이 방지되는 효과가 있다 (그렇지만 진짜 중요한 특징이라면 랜덤으로 off 되더라도 어느정도는 학습될 듯)\n",
    "- note: 드랍아웃을 쓰면 오버핏이 줄어드는건 맞지만 완전히 없어지는건 아니다. \n",
    "- note: 오버핏을 줄이는 유일한 방법이 드랍아웃만 있는것도 아니며, 드랍아웃이 오버핏을 줄이는 가장 효과적인 방법도 아니다 (최근에는 dropout보다 batch nomalization을 사용하는 추세임)"
   ]
  },
  {
   "cell_type": "markdown",
   "id": "a04b3642-e431-41fc-8585-d5d8b0ea0ec3",
   "metadata": {},
   "source": [
    "중요한 특징은 이렇게 몇 개 빼고 해도 잘 나타날걸???"
   ]
  },
  {
   "cell_type": "markdown",
   "id": "9de29c6b-ad9d-427a-8ed3-c81d5e9dda98",
   "metadata": {
    "id": "9de29c6b-ad9d-427a-8ed3-c81d5e9dda98"
   },
   "source": [
    "### train / val / test "
   ]
  },
  {
   "cell_type": "markdown",
   "id": "774e8f74-0a2a-4fa1-839a-78e23c1e41f0",
   "metadata": {
    "id": "774e8f74-0a2a-4fa1-839a-78e23c1e41f0"
   },
   "source": [
    "`-` data"
   ]
  },
  {
   "cell_type": "code",
   "execution_count": 219,
   "id": "4ce7121f-6bb7-4b1d-bb39-f6249ba3cca2",
   "metadata": {
    "id": "4ce7121f-6bb7-4b1d-bb39-f6249ba3cca2"
   },
   "outputs": [],
   "source": [
    "(x_train, y_train), (x_test, y_test) = tf.keras.datasets.fashion_mnist.load_data()"
   ]
  },
  {
   "cell_type": "code",
   "execution_count": 220,
   "id": "8b5bf325-8eb1-4e9a-8da7-0d0d40ff439d",
   "metadata": {
    "id": "8b5bf325-8eb1-4e9a-8da7-0d0d40ff439d"
   },
   "outputs": [],
   "source": [
    "X= x_train.reshape(-1,28,28,1)/255 ## 입력이 0~255 -> 0~1로 표준화 시키는 효과 + float으로 자료형이 바뀜 \n",
    "y = tf.keras.utils.to_categorical(y_train)\n",
    "XX = x_test.reshape(-1,28,28,1)/255\n",
    "yy = tf.keras.utils.to_categorical(y_test)"
   ]
  },
  {
   "cell_type": "markdown",
   "id": "ebc5215c-c823-4426-86fa-a1bc137f8fc5",
   "metadata": {},
   "source": [
    "255로 나누면\n",
    "- type이 float이 되고\n",
    "- 0 ~ 255를 0 ~ 1로 표준화도 되고\n",
    "    - 표준화가 어느정도 되어 있어야 표현력이 높아진다.\n",
    "    - $255 \\times 1$ 보다 $1 \\times \\frac{1}{255}$가 나음"
   ]
  },
  {
   "cell_type": "markdown",
   "id": "b08539c7-ad10-4fde-b9d4-cd19becdc1ed",
   "metadata": {},
   "source": [
    "CNN 말고 DNN으로 받으려고 flatten이랑~\n",
    "- 이미지니까 categorical_crossentropy 써주자"
   ]
  },
  {
   "cell_type": "code",
   "execution_count": 221,
   "id": "c84c1fc4-1570-4ca8-b655-eb48c14bf50c",
   "metadata": {
    "id": "c84c1fc4-1570-4ca8-b655-eb48c14bf50c"
   },
   "outputs": [],
   "source": [
    "net = tf.keras.Sequential()\n",
    "net.add(tf.keras.layers.Flatten())\n",
    "net.add(tf.keras.layers.Dense(50,activation='relu'))\n",
    "net.add(tf.keras.layers.Dense(10,activation='softmax'))\n",
    "net.compile(optimizer='adam',loss=tf.losses.categorical_crossentropy,metrics='accuracy')"
   ]
  },
  {
   "cell_type": "code",
   "execution_count": 223,
   "id": "ac387ec1-55df-4578-8e79-e5866c0f10b4",
   "metadata": {},
   "outputs": [
    {
     "data": {
      "text/plain": [
       "(100, 1)"
      ]
     },
     "execution_count": 223,
     "metadata": {},
     "output_type": "execute_result"
    }
   ],
   "source": [
    "x.shape"
   ]
  },
  {
   "cell_type": "markdown",
   "id": "6420be36-42de-4efb-8f62-4a3c150312f1",
   "metadata": {},
   "source": [
    "20%를 valdation으로 빼서 학습을 시킬 것이다.\n",
    "- 아래 해석: 뺀 20%의 validation을 제외한 80%으로 학습을 한다.그것으로 20%를 맞춰보니 val_accuracy가 0.8~이러고 나왔다.\n",
    "- 한 40 정도에서는 끊어져야 하지 않을까? 그 이후에는 val_accuracy가 높아지지 않으니까.\n",
    "    - 우리의 목표는 val_accuracy가 높아지는 것이니까 끊는게 좋겠다."
   ]
  },
  {
   "cell_type": "code",
   "execution_count": 227,
   "id": "92ef5c24-396c-4617-b055-03f78f0d88e6",
   "metadata": {
    "id": "92ef5c24-396c-4617-b055-03f78f0d88e6",
    "outputId": "3e9c1bae-7ced-4faf-c3b6-a5039723c68b",
    "scrolled": true,
    "tags": []
   },
   "outputs": [
    {
     "name": "stdout",
     "output_type": "stream",
     "text": [
      "Epoch 1/200\n",
      "240/240 [==============================] - 1s 4ms/step - loss: 0.0746 - accuracy: 0.9749 - val_loss: 0.6305 - val_accuracy: 0.8712\n",
      "Epoch 2/200\n",
      "240/240 [==============================] - 1s 4ms/step - loss: 0.0751 - accuracy: 0.9747 - val_loss: 0.6487 - val_accuracy: 0.8677\n",
      "Epoch 3/200\n",
      "240/240 [==============================] - 1s 4ms/step - loss: 0.0698 - accuracy: 0.9771 - val_loss: 0.6159 - val_accuracy: 0.8713\n",
      "Epoch 4/200\n",
      "240/240 [==============================] - 1s 4ms/step - loss: 0.0730 - accuracy: 0.9755 - val_loss: 0.6260 - val_accuracy: 0.8702\n",
      "Epoch 5/200\n",
      "240/240 [==============================] - 1s 4ms/step - loss: 0.0757 - accuracy: 0.9746 - val_loss: 0.6266 - val_accuracy: 0.8721\n",
      "Epoch 6/200\n",
      "240/240 [==============================] - 1s 4ms/step - loss: 0.0715 - accuracy: 0.9757 - val_loss: 0.6375 - val_accuracy: 0.8720\n",
      "Epoch 7/200\n",
      "240/240 [==============================] - 1s 4ms/step - loss: 0.0749 - accuracy: 0.9750 - val_loss: 0.6479 - val_accuracy: 0.8692\n",
      "Epoch 8/200\n",
      "240/240 [==============================] - 1s 4ms/step - loss: 0.0774 - accuracy: 0.9737 - val_loss: 0.6627 - val_accuracy: 0.8655\n",
      "Epoch 9/200\n",
      "240/240 [==============================] - 1s 4ms/step - loss: 0.0711 - accuracy: 0.9771 - val_loss: 0.6414 - val_accuracy: 0.8693\n",
      "Epoch 10/200\n",
      "240/240 [==============================] - 1s 4ms/step - loss: 0.0720 - accuracy: 0.9761 - val_loss: 0.6445 - val_accuracy: 0.8673\n",
      "Epoch 11/200\n",
      "240/240 [==============================] - 1s 4ms/step - loss: 0.0703 - accuracy: 0.9759 - val_loss: 0.6522 - val_accuracy: 0.8671\n",
      "Epoch 12/200\n",
      "240/240 [==============================] - 1s 4ms/step - loss: 0.0689 - accuracy: 0.9768 - val_loss: 0.6500 - val_accuracy: 0.8698\n",
      "Epoch 13/200\n",
      "240/240 [==============================] - 1s 4ms/step - loss: 0.0666 - accuracy: 0.9786 - val_loss: 0.6451 - val_accuracy: 0.8703\n",
      "Epoch 14/200\n",
      "240/240 [==============================] - 1s 4ms/step - loss: 0.0709 - accuracy: 0.9766 - val_loss: 0.6570 - val_accuracy: 0.8687\n",
      "Epoch 15/200\n",
      "240/240 [==============================] - 1s 4ms/step - loss: 0.0724 - accuracy: 0.9761 - val_loss: 0.6603 - val_accuracy: 0.8709\n",
      "Epoch 16/200\n",
      "240/240 [==============================] - 1s 4ms/step - loss: 0.0688 - accuracy: 0.9769 - val_loss: 0.6663 - val_accuracy: 0.8706\n",
      "Epoch 17/200\n",
      "240/240 [==============================] - 1s 4ms/step - loss: 0.0725 - accuracy: 0.9755 - val_loss: 0.6682 - val_accuracy: 0.8693\n",
      "Epoch 18/200\n",
      "240/240 [==============================] - 1s 4ms/step - loss: 0.0667 - accuracy: 0.9781 - val_loss: 0.6558 - val_accuracy: 0.8698\n",
      "Epoch 19/200\n",
      "240/240 [==============================] - 1s 4ms/step - loss: 0.0679 - accuracy: 0.9775 - val_loss: 0.6701 - val_accuracy: 0.8712\n",
      "Epoch 20/200\n",
      "240/240 [==============================] - 1s 4ms/step - loss: 0.0742 - accuracy: 0.9741 - val_loss: 0.6780 - val_accuracy: 0.8691\n",
      "Epoch 21/200\n",
      "240/240 [==============================] - 1s 4ms/step - loss: 0.0681 - accuracy: 0.9770 - val_loss: 0.6669 - val_accuracy: 0.8697\n",
      "Epoch 22/200\n",
      "240/240 [==============================] - 1s 4ms/step - loss: 0.0637 - accuracy: 0.9786 - val_loss: 0.6725 - val_accuracy: 0.8683\n",
      "Epoch 23/200\n",
      "240/240 [==============================] - 1s 4ms/step - loss: 0.0647 - accuracy: 0.9777 - val_loss: 0.6937 - val_accuracy: 0.8683\n",
      "Epoch 24/200\n",
      "240/240 [==============================] - 1s 4ms/step - loss: 0.0625 - accuracy: 0.9799 - val_loss: 0.6838 - val_accuracy: 0.8697\n",
      "Epoch 25/200\n",
      "240/240 [==============================] - 1s 4ms/step - loss: 0.0687 - accuracy: 0.9763 - val_loss: 0.6984 - val_accuracy: 0.8662\n",
      "Epoch 26/200\n",
      "240/240 [==============================] - 1s 4ms/step - loss: 0.0655 - accuracy: 0.9782 - val_loss: 0.6962 - val_accuracy: 0.8680\n",
      "Epoch 27/200\n",
      "240/240 [==============================] - 1s 4ms/step - loss: 0.0656 - accuracy: 0.9775 - val_loss: 0.6884 - val_accuracy: 0.8689\n",
      "Epoch 28/200\n",
      "240/240 [==============================] - 1s 4ms/step - loss: 0.0644 - accuracy: 0.9778 - val_loss: 0.6903 - val_accuracy: 0.8669\n",
      "Epoch 29/200\n",
      "240/240 [==============================] - 1s 4ms/step - loss: 0.0646 - accuracy: 0.9789 - val_loss: 0.7084 - val_accuracy: 0.8666\n",
      "Epoch 30/200\n",
      "240/240 [==============================] - 1s 4ms/step - loss: 0.0636 - accuracy: 0.9790 - val_loss: 0.7072 - val_accuracy: 0.8692\n",
      "Epoch 31/200\n",
      "240/240 [==============================] - 1s 4ms/step - loss: 0.0630 - accuracy: 0.9792 - val_loss: 0.7032 - val_accuracy: 0.8692\n",
      "Epoch 32/200\n",
      "240/240 [==============================] - 1s 4ms/step - loss: 0.0613 - accuracy: 0.9804 - val_loss: 0.6934 - val_accuracy: 0.8664\n",
      "Epoch 33/200\n",
      "240/240 [==============================] - 1s 4ms/step - loss: 0.0633 - accuracy: 0.9787 - val_loss: 0.6982 - val_accuracy: 0.8661\n",
      "Epoch 34/200\n",
      "240/240 [==============================] - 1s 4ms/step - loss: 0.0629 - accuracy: 0.9793 - val_loss: 0.6950 - val_accuracy: 0.8677\n",
      "Epoch 35/200\n",
      "240/240 [==============================] - 1s 4ms/step - loss: 0.0659 - accuracy: 0.9776 - val_loss: 0.7051 - val_accuracy: 0.8698\n",
      "Epoch 36/200\n",
      "240/240 [==============================] - 1s 4ms/step - loss: 0.0587 - accuracy: 0.9806 - val_loss: 0.7148 - val_accuracy: 0.8680\n",
      "Epoch 37/200\n",
      "240/240 [==============================] - 1s 4ms/step - loss: 0.0608 - accuracy: 0.9801 - val_loss: 0.7269 - val_accuracy: 0.8669\n",
      "Epoch 38/200\n",
      "240/240 [==============================] - 1s 4ms/step - loss: 0.0612 - accuracy: 0.9800 - val_loss: 0.7155 - val_accuracy: 0.8669\n",
      "Epoch 39/200\n",
      "240/240 [==============================] - 1s 4ms/step - loss: 0.0635 - accuracy: 0.9781 - val_loss: 0.7230 - val_accuracy: 0.8683\n",
      "Epoch 40/200\n",
      "240/240 [==============================] - 1s 4ms/step - loss: 0.0640 - accuracy: 0.9778 - val_loss: 0.7165 - val_accuracy: 0.8675\n",
      "Epoch 41/200\n",
      "240/240 [==============================] - 1s 4ms/step - loss: 0.0598 - accuracy: 0.9801 - val_loss: 0.7003 - val_accuracy: 0.8683\n",
      "Epoch 42/200\n",
      "240/240 [==============================] - 1s 4ms/step - loss: 0.0572 - accuracy: 0.9812 - val_loss: 0.7078 - val_accuracy: 0.8691\n",
      "Epoch 43/200\n",
      "240/240 [==============================] - 1s 4ms/step - loss: 0.0567 - accuracy: 0.9818 - val_loss: 0.7119 - val_accuracy: 0.8695\n",
      "Epoch 44/200\n",
      "240/240 [==============================] - 1s 4ms/step - loss: 0.0663 - accuracy: 0.9771 - val_loss: 0.7406 - val_accuracy: 0.8656\n",
      "Epoch 45/200\n",
      "240/240 [==============================] - 1s 4ms/step - loss: 0.0604 - accuracy: 0.9796 - val_loss: 0.7146 - val_accuracy: 0.8682\n",
      "Epoch 46/200\n",
      "240/240 [==============================] - 1s 4ms/step - loss: 0.0557 - accuracy: 0.9820 - val_loss: 0.7421 - val_accuracy: 0.8699\n",
      "Epoch 47/200\n",
      "240/240 [==============================] - 1s 4ms/step - loss: 0.0594 - accuracy: 0.9805 - val_loss: 0.7156 - val_accuracy: 0.8694\n",
      "Epoch 48/200\n",
      "240/240 [==============================] - 1s 4ms/step - loss: 0.0578 - accuracy: 0.9805 - val_loss: 0.7280 - val_accuracy: 0.8660\n",
      "Epoch 49/200\n",
      "240/240 [==============================] - 1s 4ms/step - loss: 0.0594 - accuracy: 0.9800 - val_loss: 0.7239 - val_accuracy: 0.8677\n",
      "Epoch 50/200\n",
      "240/240 [==============================] - 1s 4ms/step - loss: 0.0561 - accuracy: 0.9815 - val_loss: 0.7471 - val_accuracy: 0.8663\n",
      "Epoch 51/200\n",
      "240/240 [==============================] - 1s 4ms/step - loss: 0.0562 - accuracy: 0.9808 - val_loss: 0.7300 - val_accuracy: 0.8677\n",
      "Epoch 52/200\n",
      "240/240 [==============================] - 1s 4ms/step - loss: 0.0596 - accuracy: 0.9798 - val_loss: 0.7682 - val_accuracy: 0.8678\n",
      "Epoch 53/200\n",
      "240/240 [==============================] - 1s 4ms/step - loss: 0.0594 - accuracy: 0.9794 - val_loss: 0.7357 - val_accuracy: 0.8683\n",
      "Epoch 54/200\n",
      "240/240 [==============================] - 1s 4ms/step - loss: 0.0582 - accuracy: 0.9805 - val_loss: 0.7435 - val_accuracy: 0.8687\n",
      "Epoch 55/200\n",
      "240/240 [==============================] - 1s 4ms/step - loss: 0.0542 - accuracy: 0.9825 - val_loss: 0.7532 - val_accuracy: 0.8670\n",
      "Epoch 56/200\n",
      "240/240 [==============================] - 1s 4ms/step - loss: 0.0566 - accuracy: 0.9806 - val_loss: 0.7619 - val_accuracy: 0.8645\n",
      "Epoch 57/200\n",
      "240/240 [==============================] - 1s 4ms/step - loss: 0.0532 - accuracy: 0.9827 - val_loss: 0.7516 - val_accuracy: 0.8654\n",
      "Epoch 58/200\n",
      "240/240 [==============================] - 1s 4ms/step - loss: 0.0556 - accuracy: 0.9813 - val_loss: 0.7583 - val_accuracy: 0.8669\n",
      "Epoch 59/200\n",
      "240/240 [==============================] - 1s 4ms/step - loss: 0.0563 - accuracy: 0.9810 - val_loss: 0.7682 - val_accuracy: 0.8658\n",
      "Epoch 60/200\n",
      "240/240 [==============================] - 1s 4ms/step - loss: 0.0541 - accuracy: 0.9824 - val_loss: 0.7672 - val_accuracy: 0.8664\n",
      "Epoch 61/200\n",
      "240/240 [==============================] - 1s 4ms/step - loss: 0.0544 - accuracy: 0.9821 - val_loss: 0.7575 - val_accuracy: 0.8673\n",
      "Epoch 62/200\n",
      "240/240 [==============================] - 1s 4ms/step - loss: 0.0535 - accuracy: 0.9822 - val_loss: 0.7793 - val_accuracy: 0.8659\n",
      "Epoch 63/200\n",
      "240/240 [==============================] - 1s 4ms/step - loss: 0.0521 - accuracy: 0.9833 - val_loss: 0.7583 - val_accuracy: 0.8684\n",
      "Epoch 64/200\n",
      "240/240 [==============================] - 1s 4ms/step - loss: 0.0560 - accuracy: 0.9808 - val_loss: 0.7650 - val_accuracy: 0.8688\n",
      "Epoch 65/200\n",
      "240/240 [==============================] - 1s 4ms/step - loss: 0.0517 - accuracy: 0.9831 - val_loss: 0.7780 - val_accuracy: 0.8656\n",
      "Epoch 66/200\n",
      "240/240 [==============================] - 1s 4ms/step - loss: 0.0564 - accuracy: 0.9808 - val_loss: 0.7696 - val_accuracy: 0.8677\n",
      "Epoch 67/200\n",
      "240/240 [==============================] - 1s 4ms/step - loss: 0.0512 - accuracy: 0.9834 - val_loss: 0.7613 - val_accuracy: 0.8682\n",
      "Epoch 68/200\n",
      "240/240 [==============================] - 1s 4ms/step - loss: 0.0561 - accuracy: 0.9809 - val_loss: 0.7701 - val_accuracy: 0.8686\n",
      "Epoch 69/200\n",
      "240/240 [==============================] - 1s 4ms/step - loss: 0.0534 - accuracy: 0.9823 - val_loss: 0.7697 - val_accuracy: 0.8655\n",
      "Epoch 70/200\n",
      "240/240 [==============================] - 1s 4ms/step - loss: 0.0490 - accuracy: 0.9839 - val_loss: 0.7915 - val_accuracy: 0.8673\n",
      "Epoch 71/200\n",
      "240/240 [==============================] - 1s 4ms/step - loss: 0.0533 - accuracy: 0.9820 - val_loss: 0.7940 - val_accuracy: 0.8667\n",
      "Epoch 72/200\n",
      "240/240 [==============================] - 1s 4ms/step - loss: 0.0512 - accuracy: 0.9825 - val_loss: 0.7909 - val_accuracy: 0.8662\n",
      "Epoch 73/200\n",
      "240/240 [==============================] - 1s 4ms/step - loss: 0.0555 - accuracy: 0.9810 - val_loss: 0.8169 - val_accuracy: 0.8627\n",
      "Epoch 74/200\n",
      "240/240 [==============================] - 1s 4ms/step - loss: 0.0497 - accuracy: 0.9840 - val_loss: 0.7917 - val_accuracy: 0.8659\n",
      "Epoch 75/200\n",
      "240/240 [==============================] - 1s 4ms/step - loss: 0.0495 - accuracy: 0.9840 - val_loss: 0.7904 - val_accuracy: 0.8673\n",
      "Epoch 76/200\n",
      "240/240 [==============================] - 1s 4ms/step - loss: 0.0512 - accuracy: 0.9832 - val_loss: 0.7715 - val_accuracy: 0.8673\n",
      "Epoch 77/200\n",
      "240/240 [==============================] - 1s 4ms/step - loss: 0.0487 - accuracy: 0.9844 - val_loss: 0.8142 - val_accuracy: 0.8631\n",
      "Epoch 78/200\n",
      "240/240 [==============================] - 1s 4ms/step - loss: 0.0457 - accuracy: 0.9854 - val_loss: 0.7959 - val_accuracy: 0.8658\n",
      "Epoch 79/200\n",
      "240/240 [==============================] - 1s 4ms/step - loss: 0.0517 - accuracy: 0.9829 - val_loss: 0.7867 - val_accuracy: 0.8654\n",
      "Epoch 80/200\n",
      "240/240 [==============================] - 1s 4ms/step - loss: 0.0450 - accuracy: 0.9852 - val_loss: 0.7976 - val_accuracy: 0.8652\n",
      "Epoch 81/200\n",
      "240/240 [==============================] - 1s 4ms/step - loss: 0.0580 - accuracy: 0.9804 - val_loss: 0.8236 - val_accuracy: 0.8629\n",
      "Epoch 82/200\n",
      "240/240 [==============================] - 1s 4ms/step - loss: 0.0496 - accuracy: 0.9841 - val_loss: 0.8083 - val_accuracy: 0.8662\n",
      "Epoch 83/200\n",
      "240/240 [==============================] - 1s 4ms/step - loss: 0.0462 - accuracy: 0.9854 - val_loss: 0.8086 - val_accuracy: 0.8683\n",
      "Epoch 84/200\n",
      "240/240 [==============================] - 1s 4ms/step - loss: 0.0453 - accuracy: 0.9850 - val_loss: 0.8117 - val_accuracy: 0.8673\n",
      "Epoch 85/200\n",
      "240/240 [==============================] - 1s 4ms/step - loss: 0.0467 - accuracy: 0.9852 - val_loss: 0.8035 - val_accuracy: 0.8683\n",
      "Epoch 86/200\n",
      "240/240 [==============================] - 1s 4ms/step - loss: 0.0515 - accuracy: 0.9828 - val_loss: 0.8395 - val_accuracy: 0.8687\n",
      "Epoch 87/200\n",
      "240/240 [==============================] - 1s 4ms/step - loss: 0.0500 - accuracy: 0.9827 - val_loss: 0.8034 - val_accuracy: 0.8675\n",
      "Epoch 88/200\n",
      "240/240 [==============================] - 1s 4ms/step - loss: 0.0500 - accuracy: 0.9833 - val_loss: 0.8191 - val_accuracy: 0.8658\n",
      "Epoch 89/200\n",
      "240/240 [==============================] - 1s 4ms/step - loss: 0.0445 - accuracy: 0.9857 - val_loss: 0.8209 - val_accuracy: 0.8652\n",
      "Epoch 90/200\n",
      "240/240 [==============================] - 1s 4ms/step - loss: 0.0435 - accuracy: 0.9860 - val_loss: 0.8171 - val_accuracy: 0.8664\n",
      "Epoch 91/200\n",
      "240/240 [==============================] - 1s 4ms/step - loss: 0.0474 - accuracy: 0.9846 - val_loss: 0.8437 - val_accuracy: 0.8675\n",
      "Epoch 92/200\n",
      "240/240 [==============================] - 1s 4ms/step - loss: 0.0441 - accuracy: 0.9862 - val_loss: 0.8367 - val_accuracy: 0.8660\n",
      "Epoch 93/200\n",
      "240/240 [==============================] - 1s 4ms/step - loss: 0.0475 - accuracy: 0.9843 - val_loss: 0.8218 - val_accuracy: 0.8644\n",
      "Epoch 94/200\n",
      "240/240 [==============================] - 1s 4ms/step - loss: 0.0456 - accuracy: 0.9852 - val_loss: 0.8275 - val_accuracy: 0.8627\n",
      "Epoch 95/200\n",
      "240/240 [==============================] - 1s 4ms/step - loss: 0.0420 - accuracy: 0.9869 - val_loss: 0.8408 - val_accuracy: 0.8675\n",
      "Epoch 96/200\n",
      "240/240 [==============================] - 1s 4ms/step - loss: 0.0453 - accuracy: 0.9859 - val_loss: 0.8387 - val_accuracy: 0.8668\n",
      "Epoch 97/200\n",
      "240/240 [==============================] - 1s 4ms/step - loss: 0.0494 - accuracy: 0.9831 - val_loss: 0.8517 - val_accuracy: 0.8640\n",
      "Epoch 98/200\n",
      "240/240 [==============================] - 1s 4ms/step - loss: 0.0464 - accuracy: 0.9846 - val_loss: 0.8606 - val_accuracy: 0.8668\n",
      "Epoch 99/200\n",
      "240/240 [==============================] - 1s 4ms/step - loss: 0.0420 - accuracy: 0.9866 - val_loss: 0.8384 - val_accuracy: 0.8668\n",
      "Epoch 100/200\n",
      "240/240 [==============================] - 1s 4ms/step - loss: 0.0419 - accuracy: 0.9861 - val_loss: 0.8523 - val_accuracy: 0.8652\n",
      "Epoch 101/200\n",
      "240/240 [==============================] - 1s 4ms/step - loss: 0.0452 - accuracy: 0.9851 - val_loss: 0.8565 - val_accuracy: 0.8678\n",
      "Epoch 102/200\n",
      "240/240 [==============================] - 1s 4ms/step - loss: 0.0426 - accuracy: 0.9864 - val_loss: 0.8557 - val_accuracy: 0.8648\n",
      "Epoch 103/200\n",
      "240/240 [==============================] - 1s 4ms/step - loss: 0.0436 - accuracy: 0.9860 - val_loss: 0.8497 - val_accuracy: 0.8658\n",
      "Epoch 104/200\n",
      "240/240 [==============================] - 1s 4ms/step - loss: 0.0396 - accuracy: 0.9876 - val_loss: 0.8446 - val_accuracy: 0.8679\n",
      "Epoch 105/200\n",
      "240/240 [==============================] - 1s 4ms/step - loss: 0.0438 - accuracy: 0.9854 - val_loss: 0.8469 - val_accuracy: 0.8665\n",
      "Epoch 106/200\n",
      "240/240 [==============================] - 1s 4ms/step - loss: 0.0478 - accuracy: 0.9836 - val_loss: 0.8585 - val_accuracy: 0.8689\n",
      "Epoch 107/200\n",
      "240/240 [==============================] - 1s 4ms/step - loss: 0.0474 - accuracy: 0.9836 - val_loss: 0.8698 - val_accuracy: 0.8673\n",
      "Epoch 108/200\n",
      "240/240 [==============================] - 1s 4ms/step - loss: 0.0419 - accuracy: 0.9868 - val_loss: 0.8538 - val_accuracy: 0.8663\n",
      "Epoch 109/200\n",
      "240/240 [==============================] - 1s 4ms/step - loss: 0.0412 - accuracy: 0.9866 - val_loss: 0.8952 - val_accuracy: 0.8616\n",
      "Epoch 110/200\n",
      "240/240 [==============================] - 1s 4ms/step - loss: 0.0433 - accuracy: 0.9861 - val_loss: 0.8681 - val_accuracy: 0.8644\n",
      "Epoch 111/200\n",
      "240/240 [==============================] - 1s 4ms/step - loss: 0.0401 - accuracy: 0.9868 - val_loss: 0.8734 - val_accuracy: 0.8640\n",
      "Epoch 112/200\n",
      "240/240 [==============================] - 1s 4ms/step - loss: 0.0384 - accuracy: 0.9881 - val_loss: 0.8732 - val_accuracy: 0.8645\n",
      "Epoch 113/200\n",
      "240/240 [==============================] - 1s 4ms/step - loss: 0.0417 - accuracy: 0.9864 - val_loss: 0.9470 - val_accuracy: 0.8575\n",
      "Epoch 114/200\n",
      "240/240 [==============================] - 1s 4ms/step - loss: 0.0456 - accuracy: 0.9847 - val_loss: 0.8877 - val_accuracy: 0.8645\n",
      "Epoch 115/200\n",
      "240/240 [==============================] - 1s 4ms/step - loss: 0.0477 - accuracy: 0.9843 - val_loss: 0.8834 - val_accuracy: 0.8668\n",
      "Epoch 116/200\n",
      "240/240 [==============================] - 1s 4ms/step - loss: 0.0377 - accuracy: 0.9883 - val_loss: 0.8928 - val_accuracy: 0.8633\n",
      "Epoch 117/200\n",
      "240/240 [==============================] - 1s 4ms/step - loss: 0.0388 - accuracy: 0.9882 - val_loss: 0.8923 - val_accuracy: 0.8646\n",
      "Epoch 118/200\n",
      "240/240 [==============================] - 1s 4ms/step - loss: 0.0415 - accuracy: 0.9861 - val_loss: 0.8994 - val_accuracy: 0.8642\n",
      "Epoch 119/200\n",
      "240/240 [==============================] - 1s 4ms/step - loss: 0.0398 - accuracy: 0.9875 - val_loss: 0.8834 - val_accuracy: 0.8662\n",
      "Epoch 120/200\n",
      "240/240 [==============================] - 1s 4ms/step - loss: 0.0387 - accuracy: 0.9877 - val_loss: 0.8944 - val_accuracy: 0.8633\n",
      "Epoch 121/200\n",
      "240/240 [==============================] - 1s 4ms/step - loss: 0.0342 - accuracy: 0.9898 - val_loss: 0.9118 - val_accuracy: 0.8603\n",
      "Epoch 122/200\n",
      "240/240 [==============================] - 1s 4ms/step - loss: 0.0376 - accuracy: 0.9878 - val_loss: 0.8913 - val_accuracy: 0.8638\n",
      "Epoch 123/200\n",
      "240/240 [==============================] - 1s 4ms/step - loss: 0.0448 - accuracy: 0.9852 - val_loss: 0.9215 - val_accuracy: 0.8632\n",
      "Epoch 124/200\n",
      "240/240 [==============================] - 1s 4ms/step - loss: 0.0478 - accuracy: 0.9842 - val_loss: 0.9255 - val_accuracy: 0.8611\n",
      "Epoch 125/200\n",
      "240/240 [==============================] - 1s 4ms/step - loss: 0.0384 - accuracy: 0.9880 - val_loss: 0.9337 - val_accuracy: 0.8615\n",
      "Epoch 126/200\n",
      "240/240 [==============================] - 1s 4ms/step - loss: 0.0449 - accuracy: 0.9852 - val_loss: 0.9125 - val_accuracy: 0.8629\n",
      "Epoch 127/200\n",
      "240/240 [==============================] - 1s 4ms/step - loss: 0.0353 - accuracy: 0.9890 - val_loss: 0.9271 - val_accuracy: 0.8640\n",
      "Epoch 128/200\n",
      "240/240 [==============================] - 1s 4ms/step - loss: 0.0347 - accuracy: 0.9892 - val_loss: 0.9107 - val_accuracy: 0.8671\n",
      "Epoch 129/200\n",
      "240/240 [==============================] - 1s 4ms/step - loss: 0.0374 - accuracy: 0.9880 - val_loss: 0.9225 - val_accuracy: 0.8662\n",
      "Epoch 130/200\n",
      "240/240 [==============================] - 1s 4ms/step - loss: 0.0372 - accuracy: 0.9879 - val_loss: 0.9178 - val_accuracy: 0.8663\n",
      "Epoch 131/200\n",
      "240/240 [==============================] - 1s 4ms/step - loss: 0.0391 - accuracy: 0.9871 - val_loss: 0.9211 - val_accuracy: 0.8630\n",
      "Epoch 132/200\n",
      "240/240 [==============================] - 1s 4ms/step - loss: 0.0383 - accuracy: 0.9879 - val_loss: 0.9524 - val_accuracy: 0.8625\n",
      "Epoch 133/200\n",
      "240/240 [==============================] - 1s 4ms/step - loss: 0.0420 - accuracy: 0.9858 - val_loss: 0.9357 - val_accuracy: 0.8657\n",
      "Epoch 134/200\n",
      "240/240 [==============================] - 1s 4ms/step - loss: 0.0320 - accuracy: 0.9906 - val_loss: 0.9126 - val_accuracy: 0.8658\n",
      "Epoch 135/200\n",
      "240/240 [==============================] - 1s 4ms/step - loss: 0.0351 - accuracy: 0.9887 - val_loss: 0.9260 - val_accuracy: 0.8633\n",
      "Epoch 136/200\n",
      "240/240 [==============================] - 1s 4ms/step - loss: 0.0371 - accuracy: 0.9881 - val_loss: 0.9525 - val_accuracy: 0.8658\n",
      "Epoch 137/200\n",
      "240/240 [==============================] - 1s 4ms/step - loss: 0.0464 - accuracy: 0.9843 - val_loss: 0.9863 - val_accuracy: 0.8613\n",
      "Epoch 138/200\n",
      "240/240 [==============================] - 1s 4ms/step - loss: 0.0334 - accuracy: 0.9900 - val_loss: 0.9325 - val_accuracy: 0.8637\n",
      "Epoch 139/200\n",
      "240/240 [==============================] - 1s 4ms/step - loss: 0.0323 - accuracy: 0.9901 - val_loss: 0.9136 - val_accuracy: 0.8654\n",
      "Epoch 140/200\n",
      "240/240 [==============================] - 1s 4ms/step - loss: 0.0350 - accuracy: 0.9890 - val_loss: 0.9292 - val_accuracy: 0.8650\n",
      "Epoch 141/200\n",
      "240/240 [==============================] - 1s 4ms/step - loss: 0.0353 - accuracy: 0.9887 - val_loss: 0.9283 - val_accuracy: 0.8633\n",
      "Epoch 142/200\n",
      "240/240 [==============================] - 1s 4ms/step - loss: 0.0358 - accuracy: 0.9886 - val_loss: 0.9683 - val_accuracy: 0.8635\n",
      "Epoch 143/200\n",
      "240/240 [==============================] - 1s 4ms/step - loss: 0.0390 - accuracy: 0.9874 - val_loss: 1.0051 - val_accuracy: 0.8526\n",
      "Epoch 144/200\n",
      "240/240 [==============================] - 1s 4ms/step - loss: 0.0414 - accuracy: 0.9857 - val_loss: 0.9515 - val_accuracy: 0.8654\n",
      "Epoch 145/200\n",
      "240/240 [==============================] - 1s 4ms/step - loss: 0.0344 - accuracy: 0.9888 - val_loss: 0.9691 - val_accuracy: 0.8649\n",
      "Epoch 146/200\n",
      "240/240 [==============================] - 1s 4ms/step - loss: 0.0354 - accuracy: 0.9885 - val_loss: 0.9512 - val_accuracy: 0.8618\n",
      "Epoch 147/200\n",
      "240/240 [==============================] - 1s 4ms/step - loss: 0.0343 - accuracy: 0.9885 - val_loss: 0.9441 - val_accuracy: 0.8633\n",
      "Epoch 148/200\n",
      "240/240 [==============================] - 1s 4ms/step - loss: 0.0320 - accuracy: 0.9897 - val_loss: 0.9447 - val_accuracy: 0.8648\n",
      "Epoch 149/200\n",
      "240/240 [==============================] - 1s 4ms/step - loss: 0.0301 - accuracy: 0.9910 - val_loss: 0.9594 - val_accuracy: 0.8626\n",
      "Epoch 150/200\n",
      "240/240 [==============================] - 1s 4ms/step - loss: 0.0341 - accuracy: 0.9884 - val_loss: 0.9534 - val_accuracy: 0.8627\n",
      "Epoch 151/200\n",
      "240/240 [==============================] - 1s 4ms/step - loss: 0.0522 - accuracy: 0.9823 - val_loss: 0.9727 - val_accuracy: 0.8613\n",
      "Epoch 152/200\n",
      "240/240 [==============================] - 1s 4ms/step - loss: 0.0316 - accuracy: 0.9899 - val_loss: 0.9746 - val_accuracy: 0.8603\n",
      "Epoch 153/200\n",
      "240/240 [==============================] - 1s 4ms/step - loss: 0.0463 - accuracy: 0.9843 - val_loss: 0.9653 - val_accuracy: 0.8649\n",
      "Epoch 154/200\n",
      "240/240 [==============================] - 1s 4ms/step - loss: 0.0365 - accuracy: 0.9879 - val_loss: 0.9821 - val_accuracy: 0.8613\n",
      "Epoch 155/200\n",
      "240/240 [==============================] - 1s 4ms/step - loss: 0.0323 - accuracy: 0.9896 - val_loss: 0.9548 - val_accuracy: 0.8622\n",
      "Epoch 156/200\n",
      "240/240 [==============================] - 1s 4ms/step - loss: 0.0291 - accuracy: 0.9910 - val_loss: 0.9699 - val_accuracy: 0.8652\n",
      "Epoch 157/200\n",
      "240/240 [==============================] - 1s 4ms/step - loss: 0.0320 - accuracy: 0.9897 - val_loss: 0.9767 - val_accuracy: 0.8655\n",
      "Epoch 158/200\n",
      "240/240 [==============================] - 1s 4ms/step - loss: 0.0320 - accuracy: 0.9896 - val_loss: 0.9924 - val_accuracy: 0.8635\n",
      "Epoch 159/200\n",
      "240/240 [==============================] - 1s 4ms/step - loss: 0.0320 - accuracy: 0.9899 - val_loss: 0.9641 - val_accuracy: 0.8648\n",
      "Epoch 160/200\n",
      "240/240 [==============================] - 1s 4ms/step - loss: 0.0288 - accuracy: 0.9915 - val_loss: 0.9895 - val_accuracy: 0.8625\n",
      "Epoch 161/200\n",
      "240/240 [==============================] - 1s 4ms/step - loss: 0.0364 - accuracy: 0.9877 - val_loss: 1.0155 - val_accuracy: 0.8609\n",
      "Epoch 162/200\n",
      "240/240 [==============================] - 1s 4ms/step - loss: 0.0283 - accuracy: 0.9915 - val_loss: 0.9749 - val_accuracy: 0.8655\n",
      "Epoch 163/200\n",
      "240/240 [==============================] - 1s 4ms/step - loss: 0.0332 - accuracy: 0.9894 - val_loss: 0.9839 - val_accuracy: 0.8638\n",
      "Epoch 164/200\n",
      "240/240 [==============================] - 1s 4ms/step - loss: 0.0317 - accuracy: 0.9899 - val_loss: 0.9816 - val_accuracy: 0.8646\n",
      "Epoch 165/200\n",
      "240/240 [==============================] - 1s 4ms/step - loss: 0.0350 - accuracy: 0.9885 - val_loss: 0.9969 - val_accuracy: 0.8606\n",
      "Epoch 166/200\n",
      "240/240 [==============================] - 1s 4ms/step - loss: 0.0326 - accuracy: 0.9893 - val_loss: 1.0105 - val_accuracy: 0.8628\n",
      "Epoch 167/200\n",
      "240/240 [==============================] - 1s 4ms/step - loss: 0.0318 - accuracy: 0.9895 - val_loss: 0.9831 - val_accuracy: 0.8644\n",
      "Epoch 168/200\n",
      "240/240 [==============================] - 1s 4ms/step - loss: 0.0429 - accuracy: 0.9848 - val_loss: 1.0224 - val_accuracy: 0.8626\n",
      "Epoch 169/200\n",
      "240/240 [==============================] - 1s 4ms/step - loss: 0.0332 - accuracy: 0.9891 - val_loss: 1.0409 - val_accuracy: 0.8607\n",
      "Epoch 170/200\n",
      "240/240 [==============================] - 1s 4ms/step - loss: 0.0316 - accuracy: 0.9898 - val_loss: 1.0112 - val_accuracy: 0.8634\n",
      "Epoch 171/200\n",
      "240/240 [==============================] - 1s 4ms/step - loss: 0.0303 - accuracy: 0.9904 - val_loss: 1.0175 - val_accuracy: 0.8626\n",
      "Epoch 172/200\n",
      "240/240 [==============================] - 1s 4ms/step - loss: 0.0342 - accuracy: 0.9889 - val_loss: 1.0195 - val_accuracy: 0.8640\n",
      "Epoch 173/200\n",
      "240/240 [==============================] - 1s 4ms/step - loss: 0.0331 - accuracy: 0.9894 - val_loss: 1.0189 - val_accuracy: 0.8608\n",
      "Epoch 174/200\n",
      "240/240 [==============================] - 1s 4ms/step - loss: 0.0359 - accuracy: 0.9879 - val_loss: 1.0099 - val_accuracy: 0.8653\n",
      "Epoch 175/200\n",
      "240/240 [==============================] - 1s 4ms/step - loss: 0.0263 - accuracy: 0.9919 - val_loss: 1.0120 - val_accuracy: 0.8608\n",
      "Epoch 176/200\n",
      "240/240 [==============================] - 1s 4ms/step - loss: 0.0242 - accuracy: 0.9931 - val_loss: 1.0182 - val_accuracy: 0.8645\n",
      "Epoch 177/200\n",
      "240/240 [==============================] - 1s 4ms/step - loss: 0.0344 - accuracy: 0.9888 - val_loss: 1.0345 - val_accuracy: 0.8620\n",
      "Epoch 178/200\n",
      "240/240 [==============================] - 1s 4ms/step - loss: 0.0331 - accuracy: 0.9900 - val_loss: 1.0186 - val_accuracy: 0.8616\n",
      "Epoch 179/200\n",
      "240/240 [==============================] - 1s 4ms/step - loss: 0.0312 - accuracy: 0.9899 - val_loss: 1.0312 - val_accuracy: 0.8658\n",
      "Epoch 180/200\n",
      "240/240 [==============================] - 1s 4ms/step - loss: 0.0363 - accuracy: 0.9879 - val_loss: 1.0360 - val_accuracy: 0.8632\n",
      "Epoch 181/200\n",
      "240/240 [==============================] - 1s 4ms/step - loss: 0.0368 - accuracy: 0.9879 - val_loss: 1.0694 - val_accuracy: 0.8589\n",
      "Epoch 182/200\n",
      "240/240 [==============================] - 1s 4ms/step - loss: 0.0306 - accuracy: 0.9900 - val_loss: 1.0371 - val_accuracy: 0.8652\n",
      "Epoch 183/200\n",
      "240/240 [==============================] - 1s 4ms/step - loss: 0.0297 - accuracy: 0.9907 - val_loss: 1.0342 - val_accuracy: 0.8621\n",
      "Epoch 184/200\n",
      "240/240 [==============================] - 1s 4ms/step - loss: 0.0303 - accuracy: 0.9908 - val_loss: 1.0116 - val_accuracy: 0.8642\n",
      "Epoch 185/200\n",
      "240/240 [==============================] - 1s 4ms/step - loss: 0.0285 - accuracy: 0.9906 - val_loss: 1.0369 - val_accuracy: 0.8643\n",
      "Epoch 186/200\n",
      "240/240 [==============================] - 1s 4ms/step - loss: 0.0272 - accuracy: 0.9916 - val_loss: 1.0330 - val_accuracy: 0.8651\n",
      "Epoch 187/200\n",
      "240/240 [==============================] - 1s 4ms/step - loss: 0.0375 - accuracy: 0.9868 - val_loss: 1.0345 - val_accuracy: 0.8642\n",
      "Epoch 188/200\n",
      "240/240 [==============================] - 1s 4ms/step - loss: 0.0240 - accuracy: 0.9929 - val_loss: 1.0269 - val_accuracy: 0.8638\n",
      "Epoch 189/200\n",
      "240/240 [==============================] - 1s 4ms/step - loss: 0.0246 - accuracy: 0.9925 - val_loss: 1.0341 - val_accuracy: 0.8657\n",
      "Epoch 190/200\n",
      "240/240 [==============================] - 1s 4ms/step - loss: 0.0256 - accuracy: 0.9922 - val_loss: 1.0355 - val_accuracy: 0.8664\n",
      "Epoch 191/200\n",
      "240/240 [==============================] - 1s 4ms/step - loss: 0.0288 - accuracy: 0.9908 - val_loss: 1.0574 - val_accuracy: 0.8643\n",
      "Epoch 192/200\n",
      "240/240 [==============================] - 1s 4ms/step - loss: 0.0263 - accuracy: 0.9922 - val_loss: 1.0463 - val_accuracy: 0.8635\n",
      "Epoch 193/200\n",
      "240/240 [==============================] - 1s 4ms/step - loss: 0.0302 - accuracy: 0.9903 - val_loss: 1.0972 - val_accuracy: 0.8603\n",
      "Epoch 194/200\n",
      "240/240 [==============================] - 1s 4ms/step - loss: 0.0344 - accuracy: 0.9887 - val_loss: 1.0526 - val_accuracy: 0.8652\n",
      "Epoch 195/200\n",
      "240/240 [==============================] - 1s 4ms/step - loss: 0.0303 - accuracy: 0.9903 - val_loss: 1.0375 - val_accuracy: 0.8643\n",
      "Epoch 196/200\n",
      "240/240 [==============================] - 1s 4ms/step - loss: 0.0250 - accuracy: 0.9925 - val_loss: 1.0625 - val_accuracy: 0.8636\n",
      "Epoch 197/200\n",
      "240/240 [==============================] - 1s 4ms/step - loss: 0.0293 - accuracy: 0.9905 - val_loss: 1.0538 - val_accuracy: 0.8614\n",
      "Epoch 198/200\n",
      "240/240 [==============================] - 1s 4ms/step - loss: 0.0272 - accuracy: 0.9912 - val_loss: 1.0540 - val_accuracy: 0.8629\n",
      "Epoch 199/200\n",
      "240/240 [==============================] - 1s 4ms/step - loss: 0.0250 - accuracy: 0.9923 - val_loss: 1.0672 - val_accuracy: 0.8646\n",
      "Epoch 200/200\n",
      "240/240 [==============================] - 1s 4ms/step - loss: 0.0215 - accuracy: 0.9939 - val_loss: 1.0585 - val_accuracy: 0.8635\n"
     ]
    },
    {
     "data": {
      "text/plain": [
       "<keras.callbacks.History at 0x7f51fc56fe80>"
      ]
     },
     "execution_count": 227,
     "metadata": {},
     "output_type": "execute_result"
    }
   ],
   "source": [
    "#collapse_output\n",
    "cb1 = tf.keras.callbacks.TensorBoard()\n",
    "net.fit(X,y,epochs=200,batch_size=200,validation_split=0.2,callbacks=cb1,verbose=1) "
   ]
  },
  {
   "cell_type": "markdown",
   "id": "59e12f56-c5fe-4542-ae11-2d05603a908e",
   "metadata": {},
   "source": [
    "callback 넣었을 때랑 넣지 않았을때랑 시작하는 accuracy가 달랐다."
   ]
  },
  {
   "cell_type": "markdown",
   "id": "4d57cb07-dded-4473-99f7-7f77fc22b0b1",
   "metadata": {},
   "source": [
    "이미지니까 loss function `tf.losses.categorical_crossentropy`"
   ]
  },
  {
   "cell_type": "markdown",
   "id": "d90da976-b003-4378-af6e-3d4afa1bce47",
   "metadata": {},
   "source": [
    "`,validation_split=0.2` 20%만큼 validattion 을 val set 으로 뺴내겠다."
   ]
  },
  {
   "cell_type": "markdown",
   "id": "4909f693-aabd-4e70-bd06-a32539170a0b",
   "metadata": {},
   "source": [
    "한 20 전에는 끊어도 상관없어, 그 이후에는 accuracy 변화가 거의 없다고 해도 무방하니까!"
   ]
  },
  {
   "cell_type": "markdown",
   "id": "7b94e107-391d-41a1-9823-3cbd3f4a9748",
   "metadata": {
    "id": "7b94e107-391d-41a1-9823-3cbd3f4a9748"
   },
   "source": [
    "`-` 텐서보드 여는 방법1"
   ]
  },
  {
   "cell_type": "code",
   "execution_count": 226,
   "id": "1effcebf-c961-4d57-93c3-49756cf54fae",
   "metadata": {
    "id": "244ffe75-75f9-40c1-8e91-0eb0160de4a1"
   },
   "outputs": [
    {
     "name": "stdout",
     "output_type": "stream",
     "text": [
      "The tensorboard extension is already loaded. To reload it, use:\n",
      "  %reload_ext tensorboard\n"
     ]
    }
   ],
   "source": [
    "%load_ext tensorboard\n",
    "# 주피터노트북 (혹은 주피터랩)에서 텐서보드를 임베딩하여 넣을 수 있도록 도와주는 매직펑션"
   ]
  },
  {
   "cell_type": "code",
   "execution_count": 236,
   "id": "843b3cf6-11c0-434f-8e11-4936b2a3f016",
   "metadata": {
    "id": "0caf4156-9c41-4ead-b35e-e9b5525167aa",
    "outputId": "5ea29d71-8711-4daf-a97e-a885ca21dbed"
   },
   "outputs": [],
   "source": [
    "#!rm -rf logs\n",
    "#!kill 313799"
   ]
  },
  {
   "cell_type": "markdown",
   "id": "4da13af8-bb04-4f8b-9cb2-f3ecf8c25ac2",
   "metadata": {},
   "source": [
    "주피터랩의 서버로 늘어가는 경우는 IP주소같은 형식의 무엇인가가 필요한가봐"
   ]
  },
  {
   "cell_type": "markdown",
   "id": "ad6cb270-e287-4c6b-ab3b-0e651c684123",
   "metadata": {},
   "source": [
    "training accuracy는 올라가는데 validation accuracy는 그저 그렇다(우리의 목적이 아님)\n",
    "\n",
    "training loss는 줄어들고 있는데 validation loss는 오히려 커지고 있다.(이상함을 감지)\n",
    "\n",
    "-> 오버피팅의 징조!!!"
   ]
  },
  {
   "cell_type": "markdown",
   "id": "3dc949c0-d820-48aa-8890-0c73c7a33513",
   "metadata": {},
   "source": [
    "교수님 결과와 다르다...."
   ]
  },
  {
   "cell_type": "code",
   "execution_count": 233,
   "id": "9a556b13-a944-4935-b44a-7f4fb9178f7e",
   "metadata": {
    "id": "5d4a3fdc-68af-4578-ab46-ad1223858395"
   },
   "outputs": [
    {
     "data": {
      "text/plain": [
       "Reusing TensorBoard on port 6006 (pid 701906), started 0:00:05 ago. (Use '!kill 701906' to kill it.)"
      ]
     },
     "metadata": {},
     "output_type": "display_data"
    },
    {
     "data": {
      "text/html": [
       "\n",
       "      <iframe id=\"tensorboard-frame-26056b3cd789b90\" width=\"100%\" height=\"800\" frameborder=\"0\">\n",
       "      </iframe>\n",
       "      <script>\n",
       "        (function() {\n",
       "          const frame = document.getElementById(\"tensorboard-frame-26056b3cd789b90\");\n",
       "          const url = new URL(\"/\", window.location);\n",
       "          const port = 6006;\n",
       "          if (port) {\n",
       "            url.port = port;\n",
       "          }\n",
       "          frame.src = url;\n",
       "        })();\n",
       "      </script>\n",
       "    "
      ],
      "text/plain": [
       "<IPython.core.display.HTML object>"
      ]
     },
     "metadata": {},
     "output_type": "display_data"
    }
   ],
   "source": [
    "#\n",
    "%tensorboard --logdir logs --host 0.0.0.0\n",
    "# %tensorboard --logdir logs <-- 실습에서는 이렇게 하면됩니다. "
   ]
  },
  {
   "cell_type": "markdown",
   "id": "813f099d-850f-4a88-b40b-46907e27c426",
   "metadata": {
    "id": "813f099d-850f-4a88-b40b-46907e27c426"
   },
   "source": [
    "(참고사항) 파이썬 3.10의 경우 아래의 수정이 필요\n",
    "\n",
    "`?/python3.10/site-packages/tensorboard/_vendor/html5lib/_trie/_base.py` 을 열고\n",
    "```python\n",
    "from collections import Mapping ### 수정전\n",
    "from collections.abc import Mapping ### 수정후 \n",
    "```\n",
    "와 같이 수정한다. "
   ]
  },
  {
   "cell_type": "markdown",
   "id": "a08cf376-2130-401a-a517-8a1ecef165b6",
   "metadata": {
    "id": "a08cf376-2130-401a-a517-8a1ecef165b6"
   },
   "source": [
    "- 왜냐하면 파이썬 3.10부터 `from collections import Mapping` 가 동작하지 않고 `from collections.abc import Mapping` 가 동작하도록 문법이 바뀜"
   ]
  },
  {
   "cell_type": "markdown",
   "id": "3fc22264-c3f3-4123-ab63-aa0670fff692",
   "metadata": {
    "id": "3fc22264-c3f3-4123-ab63-aa0670fff692"
   },
   "source": [
    "`-` 텐서보드를 실행하는 방법2"
   ]
  },
  {
   "cell_type": "code",
   "execution_count": 231,
   "id": "59326423-ffe7-493b-a235-3e8ea16867ba",
   "metadata": {
    "id": "59326423-ffe7-493b-a235-3e8ea16867ba"
   },
   "outputs": [
    {
     "name": "stdout",
     "output_type": "stream",
     "text": [
      "\n",
      "NOTE: Using experimental fast data loading logic. To disable, pass\n",
      "    \"--load_fast=false\" and report issues on GitHub. More details:\n",
      "    https://github.com/tensorflow/tensorboard/issues/4784\n",
      "\n",
      "TensorBoard 2.6.0 at http://0.0.0.0:6007/ (Press CTRL+C to quit)\n",
      "^C\n"
     ]
    }
   ],
   "source": [
    "#\n",
    "!tensorboard --logdir logs --host 0.0.0.0\n",
    "#!tensorboard --logdir logs\n",
    "#<-- 실습에서는 이렇게 하면됩니다. "
   ]
  },
  {
   "cell_type": "markdown",
   "id": "1cf3208f-2be7-458f-96f0-c059269a331e",
   "metadata": {
    "id": "1cf3208f-2be7-458f-96f0-c059269a331e"
   },
   "source": [
    "### 조기종료 "
   ]
  },
  {
   "cell_type": "markdown",
   "id": "9dbaad6d-da11-4b47-8651-ecee93293dbb",
   "metadata": {
    "id": "9dbaad6d-da11-4b47-8651-ecee93293dbb"
   },
   "source": [
    "`-` 텐서보드를 살펴보니 특정에폭 이후에는 오히려 과적합이 진행되는 듯 하다 (학습할수록 손해인듯 하다) $\\to$ 그 특정에폭까지만 학습해보자"
   ]
  },
  {
   "cell_type": "code",
   "execution_count": 237,
   "id": "1797f22c-116e-48c3-a0ce-f42286656998",
   "metadata": {
    "id": "1797f22c-116e-48c3-a0ce-f42286656998"
   },
   "outputs": [],
   "source": [
    "tf.random.set_seed(43052)\n",
    "net = tf.keras.Sequential()\n",
    "net.add(tf.keras.layers.Flatten())\n",
    "net.add(tf.keras.layers.Dense(5000,activation='relu')) ## 과적합좀 시키려고 \n",
    "net.add(tf.keras.layers.Dense(5000,activation='relu')) ## 레이어를 2장만듦 + 레이어하나당 노드수도 증가 \n",
    "net.add(tf.keras.layers.Dense(10,activation='softmax'))\n",
    "net.compile(optimizer='adam',loss=tf.losses.categorical_crossentropy,metrics='accuracy')"
   ]
  },
  {
   "cell_type": "markdown",
   "id": "26d1cbea-fb37-4eb6-85b0-17ce757c319d",
   "metadata": {},
   "source": [
    "val-loss 가 한 번 올라간다? 즉, 그래프가 상승해서 멈춘다! 는 뜻! 오목한 부분이 끝날때마다!"
   ]
  },
  {
   "cell_type": "code",
   "execution_count": 100,
   "id": "66f8f26d-5e3b-49ca-8e11-2ccfe3f3150e",
   "metadata": {
    "id": "66f8f26d-5e3b-49ca-8e11-2ccfe3f3150e",
    "outputId": "491b584e-17fb-4418-d516-3aaf9c7d4f54"
   },
   "outputs": [
    {
     "name": "stdout",
     "output_type": "stream",
     "text": [
      "Epoch 1/200\n",
      "240/240 [==============================] - 2s 6ms/step - loss: 0.5493 - accuracy: 0.8127 - val_loss: 0.4113 - val_accuracy: 0.8497\n",
      "Epoch 2/200\n",
      "240/240 [==============================] - 1s 6ms/step - loss: 0.3571 - accuracy: 0.8673 - val_loss: 0.3793 - val_accuracy: 0.8649\n",
      "Epoch 3/200\n",
      "240/240 [==============================] - 1s 6ms/step - loss: 0.3254 - accuracy: 0.8791 - val_loss: 0.3679 - val_accuracy: 0.8677\n",
      "Epoch 4/200\n",
      "240/240 [==============================] - 1s 6ms/step - loss: 0.2978 - accuracy: 0.8869 - val_loss: 0.3498 - val_accuracy: 0.8791\n",
      "Epoch 5/200\n",
      "240/240 [==============================] - 1s 6ms/step - loss: 0.2794 - accuracy: 0.8960 - val_loss: 0.3341 - val_accuracy: 0.8791\n",
      "Epoch 6/200\n",
      "240/240 [==============================] - 1s 6ms/step - loss: 0.2618 - accuracy: 0.9001 - val_loss: 0.3264 - val_accuracy: 0.8827\n",
      "Epoch 7/200\n",
      "240/240 [==============================] - 1s 6ms/step - loss: 0.2472 - accuracy: 0.9066 - val_loss: 0.3363 - val_accuracy: 0.8802\n"
     ]
    },
    {
     "data": {
      "text/plain": [
       "<keras.callbacks.History at 0x7f54031d1540>"
      ]
     },
     "execution_count": 100,
     "metadata": {},
     "output_type": "execute_result"
    }
   ],
   "source": [
    "#\n",
    "#cb1 = tf.keras.callbacks.TensorBoard()\n",
    "cb2 = tf.keras.callbacks.EarlyStopping(patience=1) # val-loss가 1회 증가하면 멈추어라 \n",
    "net.fit(X,y,epochs=200,batch_size=200,validation_split=0.2,callbacks=cb2,verbose=1) "
   ]
  },
  {
   "cell_type": "code",
   "execution_count": 101,
   "id": "14125cdd-2818-4086-85c0-e60e9bb1ae80",
   "metadata": {
    "id": "14125cdd-2818-4086-85c0-e60e9bb1ae80",
    "outputId": "d34eb36b-561c-4ad8-f11c-c97f78b4878a"
   },
   "outputs": [
    {
     "name": "stdout",
     "output_type": "stream",
     "text": [
      "Epoch 1/200\n",
      "240/240 [==============================] - 1s 6ms/step - loss: 0.2388 - accuracy: 0.9080 - val_loss: 0.3112 - val_accuracy: 0.8863\n",
      "Epoch 2/200\n",
      "240/240 [==============================] - 1s 6ms/step - loss: 0.2245 - accuracy: 0.9143 - val_loss: 0.3266 - val_accuracy: 0.8887\n"
     ]
    },
    {
     "data": {
      "text/plain": [
       "<keras.callbacks.History at 0x7f5403070fd0>"
      ]
     },
     "execution_count": 101,
     "metadata": {},
     "output_type": "execute_result"
    }
   ],
   "source": [
    "#\n",
    "#cb1 = tf.keras.callbacks.TensorBoard()\n",
    "cb2 = tf.keras.callbacks.EarlyStopping(patience=1) # val-loss가 1회증가하면 멈추어라 \n",
    "net.fit(X,y,epochs=200,batch_size=200,validation_split=0.2,callbacks=cb2,verbose=1) "
   ]
  },
  {
   "cell_type": "code",
   "execution_count": 102,
   "id": "e77493a9-01ec-446f-ae11-c0eab3496aa9",
   "metadata": {
    "id": "e77493a9-01ec-446f-ae11-c0eab3496aa9",
    "outputId": "4e202410-846f-4784-bf17-d29d91f8c212"
   },
   "outputs": [
    {
     "name": "stdout",
     "output_type": "stream",
     "text": [
      "Epoch 1/200\n",
      "240/240 [==============================] - 1s 6ms/step - loss: 0.2164 - accuracy: 0.9161 - val_loss: 0.3316 - val_accuracy: 0.8876\n",
      "Epoch 2/200\n",
      "240/240 [==============================] - 1s 6ms/step - loss: 0.2010 - accuracy: 0.9223 - val_loss: 0.3334 - val_accuracy: 0.8884\n"
     ]
    },
    {
     "data": {
      "text/plain": [
       "<keras.callbacks.History at 0x7f54030de320>"
      ]
     },
     "execution_count": 102,
     "metadata": {},
     "output_type": "execute_result"
    }
   ],
   "source": [
    "#\n",
    "#cb1 = tf.keras.callbacks.TensorBoard()\n",
    "cb2 = tf.keras.callbacks.EarlyStopping(patience=1) # val-loss가 1회증가하면 멈추어라 \n",
    "net.fit(X,y,epochs=200,batch_size=200,validation_split=0.2,callbacks=cb2,verbose=1) "
   ]
  },
  {
   "cell_type": "code",
   "execution_count": 103,
   "id": "bd282760-81a7-4cba-a241-7bd8c709763f",
   "metadata": {
    "id": "bd282760-81a7-4cba-a241-7bd8c709763f",
    "outputId": "c0ad69e0-b90c-4e74-c077-0eeb13ed7e96"
   },
   "outputs": [
    {
     "name": "stdout",
     "output_type": "stream",
     "text": [
      "Epoch 1/200\n",
      "240/240 [==============================] - 1s 6ms/step - loss: 0.1909 - accuracy: 0.9257 - val_loss: 0.3789 - val_accuracy: 0.8819\n",
      "Epoch 2/200\n",
      "240/240 [==============================] - 1s 6ms/step - loss: 0.1864 - accuracy: 0.9275 - val_loss: 0.3458 - val_accuracy: 0.8890\n",
      "Epoch 3/200\n",
      "240/240 [==============================] - 1s 6ms/step - loss: 0.1852 - accuracy: 0.9290 - val_loss: 0.3508 - val_accuracy: 0.8903\n"
     ]
    },
    {
     "data": {
      "text/plain": [
       "<keras.callbacks.History at 0x7f5403116d10>"
      ]
     },
     "execution_count": 103,
     "metadata": {},
     "output_type": "execute_result"
    }
   ],
   "source": [
    "#\n",
    "#cb1 = tf.keras.callbacks.TensorBoard()\n",
    "cb2 = tf.keras.callbacks.EarlyStopping(patience=1) # val-loss가 1회증가하면 멈추어라 \n",
    "net.fit(X,y,epochs=200,batch_size=200,validation_split=0.2,callbacks=cb2,verbose=1) "
   ]
  },
  {
   "cell_type": "code",
   "execution_count": 104,
   "id": "bf9455d7-c1b5-4022-a74b-97031b8b0401",
   "metadata": {
    "id": "bf9455d7-c1b5-4022-a74b-97031b8b0401",
    "outputId": "2045857a-19c8-4233-a3de-18283f3cc40d"
   },
   "outputs": [
    {
     "name": "stdout",
     "output_type": "stream",
     "text": [
      "Epoch 1/200\n",
      "240/240 [==============================] - 2s 6ms/step - loss: 0.1653 - accuracy: 0.9339 - val_loss: 0.3870 - val_accuracy: 0.8848\n",
      "Epoch 2/200\n",
      "240/240 [==============================] - 1s 6ms/step - loss: 0.1574 - accuracy: 0.9383 - val_loss: 0.3708 - val_accuracy: 0.8921\n",
      "Epoch 3/200\n",
      "240/240 [==============================] - 1s 6ms/step - loss: 0.1558 - accuracy: 0.9390 - val_loss: 0.3727 - val_accuracy: 0.8890\n"
     ]
    },
    {
     "data": {
      "text/plain": [
       "<keras.callbacks.History at 0x7f5403147bb0>"
      ]
     },
     "execution_count": 104,
     "metadata": {},
     "output_type": "execute_result"
    }
   ],
   "source": [
    "#\n",
    "#cb1 = tf.keras.callbacks.TensorBoard()\n",
    "cb2 = tf.keras.callbacks.EarlyStopping(patience=1) # val-loss가 1회증가하면 멈추어라 \n",
    "net.fit(X,y,epochs=200,batch_size=200,validation_split=0.2,callbacks=cb2,verbose=1) "
   ]
  },
  {
   "cell_type": "markdown",
   "id": "777ce4cd-27f3-4aec-8795-6a161f6a6c29",
   "metadata": {
    "id": "777ce4cd-27f3-4aec-8795-6a161f6a6c29"
   },
   "source": [
    "`-` 몇 번 좀 참았다가 멈추면 좋겠다. "
   ]
  },
  {
   "cell_type": "code",
   "execution_count": 238,
   "id": "e1e29cab-1a0a-4cdc-b9d2-595dbc50c2e0",
   "metadata": {
    "id": "e1e29cab-1a0a-4cdc-b9d2-595dbc50c2e0"
   },
   "outputs": [],
   "source": [
    "tf.random.set_seed(43052)\n",
    "net = tf.keras.Sequential()\n",
    "net.add(tf.keras.layers.Flatten())\n",
    "net.add(tf.keras.layers.Dense(5000,activation='relu')) ## 과적합좀 시키려고 \n",
    "net.add(tf.keras.layers.Dense(5000,activation='relu')) ## 레이어를 2장만듬 + 레이어하나당 노드수도 증가 \n",
    "net.add(tf.keras.layers.Dense(10,activation='softmax'))\n",
    "net.compile(optimizer='adam',loss=tf.losses.categorical_crossentropy,metrics='accuracy')"
   ]
  },
  {
   "cell_type": "code",
   "execution_count": 239,
   "id": "14c8be6e-7a43-4eae-8a46-eed8cef26495",
   "metadata": {
    "id": "14c8be6e-7a43-4eae-8a46-eed8cef26495",
    "outputId": "8b5029fa-2979-4c37-b4cf-b738f2a34231",
    "tags": []
   },
   "outputs": [
    {
     "name": "stdout",
     "output_type": "stream",
     "text": [
      "Epoch 1/200\n",
      "240/240 [==============================] - 2s 6ms/step - loss: 0.5489 - accuracy: 0.8131 - val_loss: 0.4094 - val_accuracy: 0.8514\n",
      "Epoch 2/200\n",
      "240/240 [==============================] - 1s 6ms/step - loss: 0.3556 - accuracy: 0.8681 - val_loss: 0.3624 - val_accuracy: 0.8708\n",
      "Epoch 3/200\n",
      "240/240 [==============================] - 1s 6ms/step - loss: 0.3206 - accuracy: 0.8796 - val_loss: 0.3538 - val_accuracy: 0.8715\n",
      "Epoch 4/200\n",
      "240/240 [==============================] - 1s 6ms/step - loss: 0.2952 - accuracy: 0.8889 - val_loss: 0.3466 - val_accuracy: 0.8776\n",
      "Epoch 5/200\n",
      "240/240 [==============================] - 1s 6ms/step - loss: 0.2775 - accuracy: 0.8963 - val_loss: 0.3236 - val_accuracy: 0.8822\n",
      "Epoch 6/200\n",
      "240/240 [==============================] - 1s 6ms/step - loss: 0.2600 - accuracy: 0.9015 - val_loss: 0.3257 - val_accuracy: 0.8818\n",
      "Epoch 7/200\n",
      "240/240 [==============================] - 1s 6ms/step - loss: 0.2449 - accuracy: 0.9080 - val_loss: 0.3098 - val_accuracy: 0.8875\n",
      "Epoch 8/200\n",
      "240/240 [==============================] - 1s 6ms/step - loss: 0.2315 - accuracy: 0.9110 - val_loss: 0.3289 - val_accuracy: 0.8860\n",
      "Epoch 9/200\n",
      "240/240 [==============================] - 1s 6ms/step - loss: 0.2230 - accuracy: 0.9161 - val_loss: 0.3139 - val_accuracy: 0.8903\n",
      "Epoch 10/200\n",
      "240/240 [==============================] - 1s 6ms/step - loss: 0.2101 - accuracy: 0.9188 - val_loss: 0.3216 - val_accuracy: 0.8887\n",
      "Epoch 11/200\n",
      "240/240 [==============================] - 1s 6ms/step - loss: 0.2087 - accuracy: 0.9197 - val_loss: 0.3342 - val_accuracy: 0.8827\n",
      "Epoch 12/200\n",
      "240/240 [==============================] - 1s 6ms/step - loss: 0.1988 - accuracy: 0.9235 - val_loss: 0.3245 - val_accuracy: 0.8942\n"
     ]
    },
    {
     "data": {
      "text/plain": [
       "<keras.callbacks.History at 0x7f51fc5e1d50>"
      ]
     },
     "execution_count": 239,
     "metadata": {},
     "output_type": "execute_result"
    }
   ],
   "source": [
    "#\n",
    "#cb1 = tf.keras.callbacks.TensorBoard()\n",
    "cb2 = tf.keras.callbacks.EarlyStopping(patience=5) # 좀더 참다가 멈추어라 \n",
    "net.fit(X,y,epochs=200,batch_size=200,validation_split=0.2,callbacks=cb2,verbose=1) "
   ]
  },
  {
   "cell_type": "markdown",
   "id": "d4891c40-60c7-4200-ba4e-1136d5886f90",
   "metadata": {
    "id": "d4891c40-60c7-4200-ba4e-1136d5886f90"
   },
   "source": [
    "`-` 텐서보드로 그려보자?"
   ]
  },
  {
   "cell_type": "markdown",
   "id": "49d67f4a-0931-4aa1-bd5f-6c0185a4a3a7",
   "metadata": {},
   "source": [
    "텐서보드 기능이 없는 상태"
   ]
  },
  {
   "cell_type": "code",
   "execution_count": 240,
   "id": "f963092d-4779-46e0-9fb3-ad1110b84261",
   "metadata": {
    "id": "f963092d-4779-46e0-9fb3-ad1110b84261"
   },
   "outputs": [
    {
     "data": {
      "text/html": [
       "\n",
       "      <iframe id=\"tensorboard-frame-c94c2e187a1f1d71\" width=\"100%\" height=\"800\" frameborder=\"0\">\n",
       "      </iframe>\n",
       "      <script>\n",
       "        (function() {\n",
       "          const frame = document.getElementById(\"tensorboard-frame-c94c2e187a1f1d71\");\n",
       "          const url = new URL(\"/\", window.location);\n",
       "          const port = 6006;\n",
       "          if (port) {\n",
       "            url.port = port;\n",
       "          }\n",
       "          frame.src = url;\n",
       "        })();\n",
       "      </script>\n",
       "    "
      ],
      "text/plain": [
       "<IPython.core.display.HTML object>"
      ]
     },
     "metadata": {},
     "output_type": "display_data"
    }
   ],
   "source": [
    "#\n",
    "%tensorboard --logdir logs --host 0.0.0.0 \n",
    "# 아무것도 안나온다 -> 왜? cb1을 써야 텐서보드가 나옴"
   ]
  },
  {
   "cell_type": "markdown",
   "id": "f798ecc7-0e55-4170-b0cc-f86f7650c1cb",
   "metadata": {},
   "source": [
    "조기종료cb2와 텐서플로우show cb1을 함께 써서 안 보이는 문제가 생겨버렸다."
   ]
  },
  {
   "cell_type": "markdown",
   "id": "c85b8520-fb7e-489d-ac01-530a52cb9423",
   "metadata": {
    "id": "c85b8520-fb7e-489d-ac01-530a52cb9423"
   },
   "source": [
    "`-` 조기종료와 텐서보드를 같이 쓰려면?"
   ]
  },
  {
   "cell_type": "code",
   "execution_count": 242,
   "id": "825715ee-0457-4cbb-9199-3b7350600219",
   "metadata": {},
   "outputs": [],
   "source": [
    "#!rm -rf logs"
   ]
  },
  {
   "cell_type": "code",
   "execution_count": 243,
   "id": "5a8e7583-c664-468b-ab67-6f8b54df485b",
   "metadata": {
    "id": "5a8e7583-c664-468b-ab67-6f8b54df485b"
   },
   "outputs": [],
   "source": [
    "tf.random.set_seed(43052)\n",
    "net = tf.keras.Sequential()\n",
    "net.add(tf.keras.layers.Flatten())\n",
    "net.add(tf.keras.layers.Dense(50,activation='relu')) \n",
    "net.add(tf.keras.layers.Dense(10,activation='softmax'))\n",
    "net.compile(optimizer='adam',loss=tf.losses.categorical_crossentropy,metrics='accuracy')"
   ]
  },
  {
   "cell_type": "code",
   "execution_count": 244,
   "id": "85fbb75d-7c66-486d-8fd2-e37d8db0cbae",
   "metadata": {
    "id": "85fbb75d-7c66-486d-8fd2-e37d8db0cbae",
    "outputId": "28a956d4-61fa-40ab-e9a5-63f7189d558e"
   },
   "outputs": [
    {
     "name": "stdout",
     "output_type": "stream",
     "text": [
      "Epoch 1/200\n",
      "240/240 [==============================] - 1s 5ms/step - loss: 0.7184 - accuracy: 0.7581 - val_loss: 0.5077 - val_accuracy: 0.8276\n",
      "Epoch 2/200\n",
      "240/240 [==============================] - 1s 4ms/step - loss: 0.4752 - accuracy: 0.8386 - val_loss: 0.4793 - val_accuracy: 0.8342\n",
      "Epoch 3/200\n",
      "240/240 [==============================] - 1s 4ms/step - loss: 0.4304 - accuracy: 0.8517 - val_loss: 0.4386 - val_accuracy: 0.8497\n",
      "Epoch 4/200\n",
      "240/240 [==============================] - 1s 4ms/step - loss: 0.4048 - accuracy: 0.8582 - val_loss: 0.4029 - val_accuracy: 0.8603\n",
      "Epoch 5/200\n",
      "240/240 [==============================] - 1s 4ms/step - loss: 0.3832 - accuracy: 0.8669 - val_loss: 0.3932 - val_accuracy: 0.8619\n",
      "Epoch 6/200\n",
      "240/240 [==============================] - 1s 4ms/step - loss: 0.3697 - accuracy: 0.8705 - val_loss: 0.3842 - val_accuracy: 0.8657\n",
      "Epoch 7/200\n",
      "240/240 [==============================] - 1s 4ms/step - loss: 0.3569 - accuracy: 0.8759 - val_loss: 0.3844 - val_accuracy: 0.8668\n",
      "Epoch 8/200\n",
      "240/240 [==============================] - 1s 4ms/step - loss: 0.3482 - accuracy: 0.8774 - val_loss: 0.3679 - val_accuracy: 0.8708\n",
      "Epoch 9/200\n",
      "240/240 [==============================] - 1s 4ms/step - loss: 0.3387 - accuracy: 0.8799 - val_loss: 0.3602 - val_accuracy: 0.8719\n",
      "Epoch 10/200\n",
      "240/240 [==============================] - 1s 4ms/step - loss: 0.3299 - accuracy: 0.8820 - val_loss: 0.3610 - val_accuracy: 0.8748\n",
      "Epoch 11/200\n",
      "240/240 [==============================] - 1s 4ms/step - loss: 0.3229 - accuracy: 0.8858 - val_loss: 0.3574 - val_accuracy: 0.8717\n",
      "Epoch 12/200\n",
      "240/240 [==============================] - 1s 4ms/step - loss: 0.3157 - accuracy: 0.8873 - val_loss: 0.3572 - val_accuracy: 0.8743\n",
      "Epoch 13/200\n",
      "240/240 [==============================] - 1s 4ms/step - loss: 0.3106 - accuracy: 0.8899 - val_loss: 0.3545 - val_accuracy: 0.8761\n",
      "Epoch 14/200\n",
      "240/240 [==============================] - 1s 4ms/step - loss: 0.3046 - accuracy: 0.8914 - val_loss: 0.3493 - val_accuracy: 0.8759\n",
      "Epoch 15/200\n",
      "240/240 [==============================] - 1s 4ms/step - loss: 0.3011 - accuracy: 0.8928 - val_loss: 0.3483 - val_accuracy: 0.8776\n",
      "Epoch 16/200\n",
      "240/240 [==============================] - 1s 4ms/step - loss: 0.2988 - accuracy: 0.8935 - val_loss: 0.3733 - val_accuracy: 0.8716\n",
      "Epoch 17/200\n",
      "240/240 [==============================] - 1s 4ms/step - loss: 0.2925 - accuracy: 0.8947 - val_loss: 0.3481 - val_accuracy: 0.8768\n",
      "Epoch 18/200\n",
      "240/240 [==============================] - 1s 4ms/step - loss: 0.2880 - accuracy: 0.8951 - val_loss: 0.3396 - val_accuracy: 0.8801\n",
      "Epoch 19/200\n",
      "240/240 [==============================] - 1s 4ms/step - loss: 0.2827 - accuracy: 0.8982 - val_loss: 0.3439 - val_accuracy: 0.8798\n",
      "Epoch 20/200\n",
      "240/240 [==============================] - 1s 4ms/step - loss: 0.2791 - accuracy: 0.8986 - val_loss: 0.3489 - val_accuracy: 0.8779\n",
      "Epoch 21/200\n",
      "240/240 [==============================] - 1s 4ms/step - loss: 0.2765 - accuracy: 0.9007 - val_loss: 0.3350 - val_accuracy: 0.8823\n",
      "Epoch 22/200\n",
      "240/240 [==============================] - 1s 4ms/step - loss: 0.2709 - accuracy: 0.9016 - val_loss: 0.3350 - val_accuracy: 0.8812\n",
      "Epoch 23/200\n",
      "240/240 [==============================] - 1s 4ms/step - loss: 0.2688 - accuracy: 0.9029 - val_loss: 0.3374 - val_accuracy: 0.8820\n",
      "Epoch 24/200\n",
      "240/240 [==============================] - 1s 4ms/step - loss: 0.2658 - accuracy: 0.9041 - val_loss: 0.3445 - val_accuracy: 0.8805\n",
      "Epoch 25/200\n",
      "240/240 [==============================] - 1s 4ms/step - loss: 0.2607 - accuracy: 0.9058 - val_loss: 0.3383 - val_accuracy: 0.8822\n",
      "Epoch 26/200\n",
      "240/240 [==============================] - 1s 4ms/step - loss: 0.2607 - accuracy: 0.9056 - val_loss: 0.3415 - val_accuracy: 0.8811\n",
      "Epoch 27/200\n",
      "240/240 [==============================] - 1s 4ms/step - loss: 0.2576 - accuracy: 0.9068 - val_loss: 0.3402 - val_accuracy: 0.8814\n",
      "Epoch 28/200\n",
      "240/240 [==============================] - 1s 4ms/step - loss: 0.2525 - accuracy: 0.9098 - val_loss: 0.3469 - val_accuracy: 0.8802\n"
     ]
    },
    {
     "data": {
      "text/plain": [
       "<keras.callbacks.History at 0x7f51fc47c0a0>"
      ]
     },
     "execution_count": 244,
     "metadata": {},
     "output_type": "execute_result"
    }
   ],
   "source": [
    "cb1 = tf.keras.callbacks.TensorBoard()\n",
    "cb2 = tf.keras.callbacks.EarlyStopping(patience=7) # 좀더 참다가 멈추어라 \n",
    "net.fit(X,y,epochs=200,batch_size=200,validation_split=0.2,callbacks=[cb1,cb2]) "
   ]
  },
  {
   "cell_type": "markdown",
   "id": "8fd766e1-f0fd-404f-8bb3-99f40c292a09",
   "metadata": {},
   "source": [
    "결과 해석\n",
    "- training accuracy가 validation accuracy보다 높다?\n",
    "- training loss가 validation loss보다 낮다?"
   ]
  },
  {
   "cell_type": "code",
   "execution_count": 245,
   "id": "bc54043d-0df0-4e78-b1b0-1fa2c1c6940a",
   "metadata": {
    "id": "bc54043d-0df0-4e78-b1b0-1fa2c1c6940a"
   },
   "outputs": [
    {
     "data": {
      "text/plain": [
       "Reusing TensorBoard on port 6006 (pid 702426), started 0:01:48 ago. (Use '!kill 702426' to kill it.)"
      ]
     },
     "metadata": {},
     "output_type": "display_data"
    },
    {
     "data": {
      "text/html": [
       "\n",
       "      <iframe id=\"tensorboard-frame-5316f39bbcc3119\" width=\"100%\" height=\"800\" frameborder=\"0\">\n",
       "      </iframe>\n",
       "      <script>\n",
       "        (function() {\n",
       "          const frame = document.getElementById(\"tensorboard-frame-5316f39bbcc3119\");\n",
       "          const url = new URL(\"/\", window.location);\n",
       "          const port = 6006;\n",
       "          if (port) {\n",
       "            url.port = port;\n",
       "          }\n",
       "          frame.src = url;\n",
       "        })();\n",
       "      </script>\n",
       "    "
      ],
      "text/plain": [
       "<IPython.core.display.HTML object>"
      ]
     },
     "metadata": {},
     "output_type": "display_data"
    }
   ],
   "source": [
    "# \n",
    "# 조기종료가 구현된 그림이 출력\n",
    "%tensorboard --logdir logs --host 0.0.0.0 "
   ]
  },
  {
   "cell_type": "markdown",
   "id": "fa983e19-e107-4522-a0fb-798e61519d22",
   "metadata": {
    "id": "fa983e19-e107-4522-a0fb-798e61519d22"
   },
   "source": [
    "### 하이퍼파라메터 선택"
   ]
  },
  {
   "cell_type": "markdown",
   "id": "84afda09-5de1-41f2-aee2-252cbd93c355",
   "metadata": {
    "id": "84afda09-5de1-41f2-aee2-252cbd93c355"
   },
   "source": [
    "`-` 하이퍼파라메터 설정"
   ]
  },
  {
   "cell_type": "markdown",
   "id": "d500d089-f9ea-4bcb-9f45-b76dfa80303e",
   "metadata": {},
   "source": [
    "여러 상황에서 반복 실험시 유용"
   ]
  },
  {
   "cell_type": "code",
   "execution_count": 247,
   "id": "e00a6c2b-6a25-4f0c-9a16-f23a9b364448",
   "metadata": {
    "id": "e00a6c2b-6a25-4f0c-9a16-f23a9b364448"
   },
   "outputs": [],
   "source": [
    "from tensorboard.plugins.hparams import api as hp"
   ]
  },
  {
   "cell_type": "code",
   "execution_count": 133,
   "id": "9e1e22b7-6859-4ab6-9626-eebb2f793740",
   "metadata": {
    "id": "9e1e22b7-6859-4ab6-9626-eebb2f793740",
    "outputId": "df26bb78-bd29-4390-f807-a4a3adb7d65c"
   },
   "outputs": [
    {
     "name": "stdout",
     "output_type": "stream",
     "text": [
      "313/313 [==============================] - 1s 3ms/step - loss: 0.3817 - accuracy: 0.8706\n"
     ]
    }
   ],
   "source": [
    "a=net.evaluate(XX,yy)"
   ]
  },
  {
   "cell_type": "code",
   "execution_count": 134,
   "id": "f8d964ed-6d39-4cbb-b3d6-e6266f590f26",
   "metadata": {
    "tags": []
   },
   "outputs": [
    {
     "data": {
      "text/plain": [
       "list"
      ]
     },
     "execution_count": 134,
     "metadata": {},
     "output_type": "execute_result"
    }
   ],
   "source": [
    "type(a)"
   ]
  },
  {
   "cell_type": "code",
   "execution_count": 135,
   "id": "7700cd3d-b5fc-42dc-a3af-3be041db44de",
   "metadata": {},
   "outputs": [
    {
     "data": {
      "text/plain": [
       "[0.3817201852798462, 0.8705999851226807]"
      ]
     },
     "execution_count": 135,
     "metadata": {},
     "output_type": "execute_result"
    }
   ],
   "source": [
    "a"
   ]
  },
  {
   "cell_type": "markdown",
   "id": "757d1d32-8594-4c53-97d6-47d54b7c44cd",
   "metadata": {},
   "source": [
    "`_rslt=net.evaluate(XX,yy)`\n",
    "- test의 해당되는 evaluate"
   ]
  },
  {
   "cell_type": "markdown",
   "id": "68f358c3-2542-409a-87dd-79a4ff14ba83",
   "metadata": {},
   "source": [
    "`_mymetric=_rslt[1]*0.8 + _rslt[2]*0.2  `\n",
    "- 내가 보고 싶은 것은 recall\n",
    "- test의 accuracy 가 rsit[1]에 있어\n",
    "- test의 recall이 rsit[2]\n",
    "- 가중 평균을 보겠다, 이건 정해진거는 아니고 마음대로.."
   ]
  },
  {
   "cell_type": "markdown",
   "id": "95199b73-dadf-4a73-aaee-49535049ab47",
   "metadata": {},
   "source": [
    "with문이 있다는 건 들어갈때 나갈때가 정의되어 있다는 거"
   ]
  },
  {
   "cell_type": "code",
   "execution_count": 253,
   "id": "ff328d81-caac-46a1-af77-4d7ea5325815",
   "metadata": {
    "id": "ff328d81-caac-46a1-af77-4d7ea5325815",
    "outputId": "8564ca21-a07b-4ba1-889f-5f7bb4acdd41",
    "tags": []
   },
   "outputs": [
    {
     "name": "stdout",
     "output_type": "stream",
     "text": [
      "Epoch 1/3\n",
      "1875/1875 [==============================] - 8s 4ms/step - loss: 0.5364 - accuracy: 0.8143 - recall: 0.7509\n",
      "Epoch 2/3\n",
      "1875/1875 [==============================] - 8s 4ms/step - loss: 0.4072 - accuracy: 0.8559 - recall: 0.8242\n",
      "Epoch 3/3\n",
      "1875/1875 [==============================] - 8s 4ms/step - loss: 0.3725 - accuracy: 0.8668 - recall: 0.8413\n",
      "313/313 [==============================] - 1s 4ms/step - loss: 0.4010 - accuracy: 0.8572 - recall: 0.8301\n",
      "Epoch 1/3\n",
      "1875/1875 [==============================] - 8s 4ms/step - loss: 0.7590 - accuracy: 0.7494 - recall: 0.5859\n",
      "Epoch 2/3\n",
      "1875/1875 [==============================] - 8s 4ms/step - loss: 0.5225 - accuracy: 0.8223 - recall: 0.7521\n",
      "Epoch 3/3\n",
      "1875/1875 [==============================] - 8s 4ms/step - loss: 0.4754 - accuracy: 0.8356 - recall: 0.7833\n",
      "313/313 [==============================] - 1s 3ms/step - loss: 0.4910 - accuracy: 0.8274 - recall: 0.7813\n",
      "Epoch 1/3\n",
      "1875/1875 [==============================] - 8s 4ms/step - loss: 0.7480 - accuracy: 0.7374 - recall: 0.6156\n",
      "Epoch 2/3\n",
      "1875/1875 [==============================] - 8s 4ms/step - loss: 0.5666 - accuracy: 0.7983 - recall: 0.7225\n",
      "Epoch 3/3\n",
      "1875/1875 [==============================] - 8s 4ms/step - loss: 0.5325 - accuracy: 0.8080 - recall: 0.7416\n",
      "313/313 [==============================] - 1s 4ms/step - loss: 0.4301 - accuracy: 0.8487 - recall: 0.7878\n",
      "Epoch 1/3\n",
      "1875/1875 [==============================] - 8s 4ms/step - loss: 1.0498 - accuracy: 0.6383 - recall: 0.4178\n",
      "Epoch 2/3\n",
      "1875/1875 [==============================] - 8s 4ms/step - loss: 0.7483 - accuracy: 0.7434 - recall: 0.6015\n",
      "Epoch 3/3\n",
      "1875/1875 [==============================] - 8s 4ms/step - loss: 0.6737 - accuracy: 0.7699 - recall: 0.6519\n",
      "313/313 [==============================] - 1s 4ms/step - loss: 0.5269 - accuracy: 0.8169 - recall: 0.7380\n",
      "Epoch 1/3\n",
      "1875/1875 [==============================] - 8s 4ms/step - loss: 0.4760 - accuracy: 0.8278 - recall: 0.7880\n",
      "Epoch 2/3\n",
      "1875/1875 [==============================] - 8s 4ms/step - loss: 0.3607 - accuracy: 0.8683 - recall: 0.8424\n",
      "Epoch 3/3\n",
      "1875/1875 [==============================] - 8s 4ms/step - loss: 0.3239 - accuracy: 0.8817 - recall: 0.8591\n",
      "313/313 [==============================] - 1s 4ms/step - loss: 0.3508 - accuracy: 0.8737 - recall: 0.8516\n",
      "Epoch 1/3\n",
      "1875/1875 [==============================] - 8s 4ms/step - loss: 0.6701 - accuracy: 0.7875 - recall: 0.6453\n",
      "Epoch 2/3\n",
      "1875/1875 [==============================] - 8s 4ms/step - loss: 0.4827 - accuracy: 0.8362 - recall: 0.7766\n",
      "Epoch 3/3\n",
      "1875/1875 [==============================] - 8s 4ms/step - loss: 0.4422 - accuracy: 0.8481 - recall: 0.8006\n",
      "313/313 [==============================] - 1s 4ms/step - loss: 0.4625 - accuracy: 0.8398 - recall: 0.7971\n",
      "Epoch 1/3\n",
      "1875/1875 [==============================] - 8s 4ms/step - loss: 0.5722 - accuracy: 0.7997 - recall: 0.7570\n",
      "Epoch 2/3\n",
      "1875/1875 [==============================] - 8s 4ms/step - loss: 0.4404 - accuracy: 0.8398 - recall: 0.8067\n",
      "Epoch 3/3\n",
      "1875/1875 [==============================] - 8s 4ms/step - loss: 0.4103 - accuracy: 0.8504 - recall: 0.8204\n",
      "313/313 [==============================] - 1s 4ms/step - loss: 0.3789 - accuracy: 0.8662 - recall: 0.8362\n",
      "Epoch 1/3\n",
      "1875/1875 [==============================] - 8s 4ms/step - loss: 0.6961 - accuracy: 0.7745 - recall: 0.6357\n",
      "Epoch 2/3\n",
      "1875/1875 [==============================] - 8s 4ms/step - loss: 0.5041 - accuracy: 0.8285 - recall: 0.7665\n",
      "Epoch 3/3\n",
      "1875/1875 [==============================] - 8s 4ms/step - loss: 0.4606 - accuracy: 0.8415 - recall: 0.7904\n",
      "313/313 [==============================] - 1s 4ms/step - loss: 0.4603 - accuracy: 0.8402 - recall: 0.7931\n"
     ]
    }
   ],
   "source": [
    "!rm -rf logs\n",
    "for u in [50,5000]: \n",
    "    for d in [0.0,0.5]: \n",
    "        for o in ['adam','sgd']:\n",
    "            logdir = 'logs/hpguebin_{}_{}_{}'.format(u,d,o)\n",
    "            with tf.summary.create_file_writer(logdir).as_default():\n",
    "                net = tf.keras.Sequential()\n",
    "                net.add(tf.keras.layers.Flatten())\n",
    "                net.add(tf.keras.layers.Dense(u,activation='relu'))\n",
    "                net.add(tf.keras.layers.Dropout(d))\n",
    "                net.add(tf.keras.layers.Dense(10,activation='softmax'))\n",
    "                net.compile(optimizer=o,loss=tf.losses.categorical_crossentropy,metrics=['accuracy','Recall'])\n",
    "                cb3 = hp.KerasCallback(logdir, {'유닛수':u, '드랍아웃비율':d, '옵티마이저':o})\n",
    "                net.fit(X,y,epochs=3,callbacks=cb3)\n",
    "                _rslt=net.evaluate(XX,yy)\n",
    "                _mymetric=_rslt[1]*0.8 + _rslt[2]*0.2  \n",
    "                tf.summary.scalar('애큐러시와리컬의가중평균(테스트셋)', _mymetric, step=1) "
   ]
  },
  {
   "cell_type": "markdown",
   "id": "d86d3200-1c16-42ee-a872-e258a09c8ac4",
   "metadata": {},
   "source": [
    "opt가 adma일 때보다 sgd 일때"
   ]
  },
  {
   "cell_type": "code",
   "execution_count": 255,
   "id": "43419b69-c0a2-4968-9978-bd51c3028965",
   "metadata": {
    "id": "43419b69-c0a2-4968-9978-bd51c3028965"
   },
   "outputs": [
    {
     "data": {
      "text/plain": [
       "Reusing TensorBoard on port 6006 (pid 704607), started 0:02:40 ago. (Use '!kill 704607' to kill it.)"
      ]
     },
     "metadata": {},
     "output_type": "display_data"
    },
    {
     "data": {
      "text/html": [
       "\n",
       "      <iframe id=\"tensorboard-frame-c170a29a1f3a1cea\" width=\"100%\" height=\"800\" frameborder=\"0\">\n",
       "      </iframe>\n",
       "      <script>\n",
       "        (function() {\n",
       "          const frame = document.getElementById(\"tensorboard-frame-c170a29a1f3a1cea\");\n",
       "          const url = new URL(\"/\", window.location);\n",
       "          const port = 6006;\n",
       "          if (port) {\n",
       "            url.port = port;\n",
       "          }\n",
       "          frame.src = url;\n",
       "        })();\n",
       "      </script>\n",
       "    "
      ],
      "text/plain": [
       "<IPython.core.display.HTML object>"
      ]
     },
     "metadata": {},
     "output_type": "display_data"
    }
   ],
   "source": [
    "#\n",
    "%tensorboard --logdir logs --host 0.0.0.0"
   ]
  },
  {
   "cell_type": "markdown",
   "id": "32f8e532-65f9-49bf-bb16-d332bdd8b8d2",
   "metadata": {
    "id": "32f8e532-65f9-49bf-bb16-d332bdd8b8d2"
   },
   "source": [
    "## 숙제"
   ]
  },
  {
   "cell_type": "markdown",
   "id": "038d1f13-e0be-4c80-a532-c167c3e76528",
   "metadata": {
    "id": "038d1f13-e0be-4c80-a532-c167c3e76528"
   },
   "source": [
    "`-` 아래의 네트워크에서 옵티마이저를 adam, sgd를 선택하여 각각 적합시켜보고 testset의 loss를 성능비교를 하라. epoch은 5정도로 설정하라. \n",
    "```\n",
    "net = tf.keras.Sequential()\n",
    "net.add(tf.keras.layers.Flatten())\n",
    "net.add(tf.keras.layers.Dense(50,activation='relu'))\n",
    "net.add(tf.keras.layers.Dense(50,activation='relu'))\n",
    "net.add(tf.keras.layers.Dense(10,activation='softmax'))\n",
    "net.compile(optimizer=???,loss=tf.losses.categorical_crossentropy,metrics=['accuracy','Recall'])\n",
    "```"
   ]
  },
  {
   "cell_type": "markdown",
   "id": "8842eeb4-2f2f-4f37-b29b-5c6aab4536c9",
   "metadata": {},
   "source": [
    "`-` adam 적합"
   ]
  },
  {
   "cell_type": "code",
   "execution_count": 257,
   "id": "a4fece12-a770-4ccd-a58a-3728828ce70a",
   "metadata": {},
   "outputs": [],
   "source": [
    "!rm -rf logs\n",
    "tf.random.set_seed(202150754)\n",
    "net1 = tf.keras.Sequential()\n",
    "net1.add(tf.keras.layers.Flatten())\n",
    "net1.add(tf.keras.layers.Dense(50,activation='relu'))\n",
    "net1.add(tf.keras.layers.Dense(50,activation='relu'))\n",
    "net1.add(tf.keras.layers.Dense(10,activation='softmax'))\n",
    "net1.compile(optimizer='adam',loss=tf.losses.categorical_crossentropy,metrics=['accuracy','Recall'])"
   ]
  },
  {
   "cell_type": "code",
   "execution_count": 258,
   "id": "74a3f9ed-3e66-4f72-a044-da531c40aafa",
   "metadata": {},
   "outputs": [
    {
     "name": "stdout",
     "output_type": "stream",
     "text": [
      "Epoch 1/5\n",
      "240/240 [==============================] - 2s 6ms/step - loss: 0.7224 - accuracy: 0.7586 - recall: 0.6304 - val_loss: 0.4817 - val_accuracy: 0.8329 - val_recall: 0.7788\n",
      "Epoch 2/5\n",
      "240/240 [==============================] - 1s 5ms/step - loss: 0.4508 - accuracy: 0.8419 - recall: 0.7951 - val_loss: 0.4497 - val_accuracy: 0.8349 - val_recall: 0.7932\n",
      "Epoch 3/5\n",
      "240/240 [==============================] - 1s 5ms/step - loss: 0.4064 - accuracy: 0.8567 - recall: 0.8202 - val_loss: 0.4013 - val_accuracy: 0.8540 - val_recall: 0.8188\n",
      "Epoch 4/5\n",
      "240/240 [==============================] - 1s 5ms/step - loss: 0.3728 - accuracy: 0.8685 - recall: 0.8364 - val_loss: 0.3892 - val_accuracy: 0.8611 - val_recall: 0.8289\n",
      "Epoch 5/5\n",
      "240/240 [==============================] - 1s 5ms/step - loss: 0.3571 - accuracy: 0.8714 - recall: 0.8434 - val_loss: 0.3857 - val_accuracy: 0.8620 - val_recall: 0.8403\n"
     ]
    },
    {
     "data": {
      "text/plain": [
       "<keras.callbacks.History at 0x7f5230267e20>"
      ]
     },
     "execution_count": 258,
     "metadata": {},
     "output_type": "execute_result"
    }
   ],
   "source": [
    "net1.fit(X,y,epochs=5,batch_size=200,validation_split=0.2,callbacks=[cb1,cb2]) "
   ]
  },
  {
   "cell_type": "markdown",
   "id": "d33c2fb3-4497-474a-89c0-8220adbabdfa",
   "metadata": {},
   "source": [
    "`-` adam tensorboard"
   ]
  },
  {
   "cell_type": "code",
   "execution_count": 260,
   "id": "a91c4aae-23ba-4eb5-9055-53cc408100a9",
   "metadata": {},
   "outputs": [
    {
     "data": {
      "text/plain": [
       "Reusing TensorBoard on port 6006 (pid 704910), started 0:00:07 ago. (Use '!kill 704910' to kill it.)"
      ]
     },
     "metadata": {},
     "output_type": "display_data"
    },
    {
     "data": {
      "text/html": [
       "\n",
       "      <iframe id=\"tensorboard-frame-15d5acdfc308dd5a\" width=\"100%\" height=\"800\" frameborder=\"0\">\n",
       "      </iframe>\n",
       "      <script>\n",
       "        (function() {\n",
       "          const frame = document.getElementById(\"tensorboard-frame-15d5acdfc308dd5a\");\n",
       "          const url = new URL(\"/\", window.location);\n",
       "          const port = 6006;\n",
       "          if (port) {\n",
       "            url.port = port;\n",
       "          }\n",
       "          frame.src = url;\n",
       "        })();\n",
       "      </script>\n",
       "    "
      ],
      "text/plain": [
       "<IPython.core.display.HTML object>"
      ]
     },
     "metadata": {},
     "output_type": "display_data"
    }
   ],
   "source": [
    "%tensorboard --logdir logs --host 0.0.0.0"
   ]
  },
  {
   "cell_type": "markdown",
   "id": "fcb7b94f-d124-4dff-9b62-8a71871beff8",
   "metadata": {},
   "source": [
    "`-` sgd 적합"
   ]
  },
  {
   "cell_type": "code",
   "execution_count": 262,
   "id": "af5dbdde-23c1-4d5f-81ce-d7642fbf5f20",
   "metadata": {},
   "outputs": [],
   "source": [
    "!rm -rf logs\n",
    "tf.random.set_seed(202150754)\n",
    "net2 = tf.keras.Sequential()\n",
    "net2.add(tf.keras.layers.Flatten())\n",
    "net2.add(tf.keras.layers.Dense(50,activation='relu'))\n",
    "net2.add(tf.keras.layers.Dense(50,activation='relu'))\n",
    "net2.add(tf.keras.layers.Dense(10,activation='softmax'))\n",
    "net2.compile(optimizer='sgd',loss=tf.losses.categorical_crossentropy,metrics=['accuracy','Recall'])"
   ]
  },
  {
   "cell_type": "code",
   "execution_count": 263,
   "id": "6c5fb98e-255f-401d-86c2-c463cf0defee",
   "metadata": {},
   "outputs": [
    {
     "name": "stdout",
     "output_type": "stream",
     "text": [
      "Epoch 1/5\n",
      "240/240 [==============================] - 2s 6ms/step - loss: 1.6588 - accuracy: 0.4999 - recall: 0.0831 - val_loss: 1.1223 - val_accuracy: 0.6730 - val_recall: 0.2842\n",
      "Epoch 2/5\n",
      "240/240 [==============================] - 1s 5ms/step - loss: 0.9301 - accuracy: 0.6911 - recall: 0.4377 - val_loss: 0.8035 - val_accuracy: 0.7196 - val_recall: 0.5241\n",
      "Epoch 3/5\n",
      "240/240 [==============================] - 1s 5ms/step - loss: 0.7534 - accuracy: 0.7372 - recall: 0.5661 - val_loss: 0.7023 - val_accuracy: 0.7613 - val_recall: 0.6117\n",
      "Epoch 4/5\n",
      "240/240 [==============================] - 1s 5ms/step - loss: 0.6757 - accuracy: 0.7693 - recall: 0.6336 - val_loss: 0.6443 - val_accuracy: 0.7802 - val_recall: 0.6617\n",
      "Epoch 5/5\n",
      "240/240 [==============================] - 1s 5ms/step - loss: 0.6253 - accuracy: 0.7891 - recall: 0.6790 - val_loss: 0.6030 - val_accuracy: 0.7968 - val_recall: 0.6976\n"
     ]
    },
    {
     "data": {
      "text/plain": [
       "<keras.callbacks.History at 0x7f4b88780af0>"
      ]
     },
     "execution_count": 263,
     "metadata": {},
     "output_type": "execute_result"
    }
   ],
   "source": [
    "net2.fit(X,y,epochs=5,batch_size=200,validation_split=0.2,callbacks=[cb1,cb2]) "
   ]
  },
  {
   "cell_type": "markdown",
   "id": "26ebd7d5-5cdf-4a1d-95b7-77f3cdb2e53b",
   "metadata": {},
   "source": [
    "`-` sgd tensorboard"
   ]
  },
  {
   "cell_type": "code",
   "execution_count": 270,
   "id": "7f41a1ef-1b37-47e1-9921-c5492b923e50",
   "metadata": {},
   "outputs": [
    {
     "data": {
      "text/plain": [
       "Reusing TensorBoard on port 6006 (pid 705235), started 0:06:19 ago. (Use '!kill 705235' to kill it.)"
      ]
     },
     "metadata": {},
     "output_type": "display_data"
    },
    {
     "data": {
      "text/html": [
       "\n",
       "      <iframe id=\"tensorboard-frame-89296ea57da7ee03\" width=\"100%\" height=\"800\" frameborder=\"0\">\n",
       "      </iframe>\n",
       "      <script>\n",
       "        (function() {\n",
       "          const frame = document.getElementById(\"tensorboard-frame-89296ea57da7ee03\");\n",
       "          const url = new URL(\"/\", window.location);\n",
       "          const port = 6006;\n",
       "          if (port) {\n",
       "            url.port = port;\n",
       "          }\n",
       "          frame.src = url;\n",
       "        })();\n",
       "      </script>\n",
       "    "
      ],
      "text/plain": [
       "<IPython.core.display.HTML object>"
      ]
     },
     "metadata": {},
     "output_type": "display_data"
    }
   ],
   "source": [
    "%tensorboard --logdir logs --host 0.0.0.0"
   ]
  },
  {
   "cell_type": "code",
   "execution_count": 271,
   "id": "6d62cacf-5c94-4162-aa9e-20fdd2873ba3",
   "metadata": {},
   "outputs": [
    {
     "name": "stdout",
     "output_type": "stream",
     "text": [
      "313/313 [==============================] - 1s 4ms/step - loss: 0.4171 - accuracy: 0.8543 - recall: 0.8275\n"
     ]
    },
    {
     "data": {
      "text/plain": [
       "0.41707104444503784"
      ]
     },
     "execution_count": 271,
     "metadata": {},
     "output_type": "execute_result"
    }
   ],
   "source": [
    "net1.evaluate(XX,yy)[0]"
   ]
  },
  {
   "cell_type": "code",
   "execution_count": 272,
   "id": "f9a17bf1-ea12-4a3c-8b2a-706211cd5e1a",
   "metadata": {},
   "outputs": [
    {
     "name": "stdout",
     "output_type": "stream",
     "text": [
      "313/313 [==============================] - 1s 4ms/step - loss: 0.6277 - accuracy: 0.7835 - recall: 0.6898\n"
     ]
    },
    {
     "data": {
      "text/plain": [
       "0.627724289894104"
      ]
     },
     "execution_count": 272,
     "metadata": {},
     "output_type": "execute_result"
    }
   ],
   "source": [
    "net2.evaluate(XX,yy)[0]"
   ]
  },
  {
   "cell_type": "markdown",
   "id": "9aec7827-4630-49b5-974d-9308deaa6f20",
   "metadata": {},
   "source": [
    "`adam`을 optimizer로 선택하였을때 loss는 `0.41707104444503784`이었으며,\n",
    "\n",
    "`sgd`를 optimizer로 선택하였을때 loss는 `0.6277242302894592`이었다.\n",
    "\n",
    "loss값만 보았을때는 `adam`이 `sgd`보다 낮았다.\n",
    "\n",
    "`adam`은 trianing loss와 validation loss가 같은 수준까지 낮아지는 모습이지만,\n",
    "\n",
    "`sgd`는 training loss보다 validation loss가 더 낮은 수준까지 loss가 떨어졌다.\n",
    "\n",
    "opptimizer로 `sgd`를 적합시켰을때, 20%의 validation을 제외한 80%으로 학습을 한 것보다 20%의 validation의 loss가 더 낮았다는 원하는 결과가 도출되었다."
   ]
  }
 ],
 "metadata": {
  "colab": {
   "name": "2022-05-23-(12주차) 5월23일.ipynb",
   "provenance": []
  },
  "kernelspec": {
   "display_name": "Python 3 (ipykernel)",
   "language": "python",
   "name": "python3"
  },
  "language_info": {
   "codemirror_mode": {
    "name": "ipython",
    "version": 3
   },
   "file_extension": ".py",
   "mimetype": "text/x-python",
   "name": "python",
   "nbconvert_exporter": "python",
   "pygments_lexer": "ipython3",
   "version": "3.10.0"
  }
 },
 "nbformat": 4,
 "nbformat_minor": 5
}
