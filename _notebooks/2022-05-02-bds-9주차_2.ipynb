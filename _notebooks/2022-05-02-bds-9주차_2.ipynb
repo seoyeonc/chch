{
  "cells": [
    {
      "cell_type": "markdown",
      "id": "150d702d-62e0-4990-a341-bc149bde7cae",
      "metadata": {
        "id": "150d702d-62e0-4990-a341-bc149bde7cae"
      },
      "source": [
        "# (9주차) 5월2일 (2) -- lecture\n",
        "\n",
        "- toc:true\n",
        "- branch: master\n",
        "- badges: true\n",
        "- comments: true\n",
        "- author: 최규빈"
      ]
    },
    {
      "cell_type": "markdown",
      "id": "7e0ffce7-1379-433b-88aa-06e79f99ea6a",
      "metadata": {
        "tags": [],
        "id": "7e0ffce7-1379-433b-88aa-06e79f99ea6a"
      },
      "source": [
        "## import"
      ]
    },
    {
      "cell_type": "code",
      "execution_count": null,
      "id": "327fb6aa-8045-4aa8-acf4-57424f9fd2f2",
      "metadata": {
        "id": "327fb6aa-8045-4aa8-acf4-57424f9fd2f2"
      },
      "outputs": [],
      "source": [
        "import tensorflow as tf\n",
        "import matplotlib.pyplot as plt\n",
        "import numpy as np\n",
        "import tensorflow.experimental.numpy as tnp"
      ]
    },
    {
      "cell_type": "code",
      "execution_count": null,
      "id": "c43254c6-2874-4c84-b132-466712dd1e13",
      "metadata": {
        "id": "c43254c6-2874-4c84-b132-466712dd1e13",
        "outputId": "74b041e5-c8b2-4c98-bc4b-06e17d674fd6"
      },
      "outputs": [
        {
          "data": {
            "text/plain": [
              "[PhysicalDevice(name='/physical_device:CPU:0', device_type='CPU')]"
            ]
          },
          "execution_count": 2,
          "metadata": {},
          "output_type": "execute_result"
        }
      ],
      "source": [
        "tf.config.experimental.list_physical_devices()"
      ]
    },
    {
      "cell_type": "code",
      "execution_count": null,
      "id": "c47c390b-1e8b-40ad-898c-d6f32bd26a5b",
      "metadata": {
        "id": "c47c390b-1e8b-40ad-898c-d6f32bd26a5b"
      },
      "outputs": [],
      "source": [
        "import graphviz\n",
        "def gv(s): return graphviz.Source('digraph G{ rankdir=\"LR\"'+ s + ';}')"
      ]
    },
    {
      "cell_type": "markdown",
      "id": "2f7b0e44-117f-4307-8e17-c50d60133457",
      "metadata": {
        "id": "2f7b0e44-117f-4307-8e17-c50d60133457"
      },
      "source": [
        "## 중간고사 관련 잡담 "
      ]
    },
    {
      "cell_type": "markdown",
      "id": "d5bcf7f7-3d23-4899-9d98-7ad79293ed3f",
      "metadata": {
        "id": "d5bcf7f7-3d23-4899-9d98-7ad79293ed3f"
      },
      "source": [
        "### 중간고사 3번문제"
      ]
    },
    {
      "cell_type": "markdown",
      "id": "4512d3d1-9169-4607-bbaa-8ab2ba88d996",
      "metadata": {
        "id": "4512d3d1-9169-4607-bbaa-8ab2ba88d996"
      },
      "source": [
        "### 중간고사 1-(3)번 문제"
      ]
    },
    {
      "cell_type": "markdown",
      "id": "f07acbe5-13f0-48e4-9bee-f37e4d8d98f2",
      "metadata": {
        "tags": [],
        "id": "f07acbe5-13f0-48e4-9bee-f37e4d8d98f2"
      },
      "source": [
        "## 경사하강법과 확률적경사하강법"
      ]
    },
    {
      "cell_type": "markdown",
      "id": "686a5f46-4d83-408a-b6c4-5853e675a6c9",
      "metadata": {
        "id": "686a5f46-4d83-408a-b6c4-5853e675a6c9"
      },
      "source": [
        "### ver1: 모든 샘플을 사용하여 slope계산"
      ]
    },
    {
      "cell_type": "markdown",
      "id": "520b8b0f-391d-4d60-91dc-6b92194d4363",
      "metadata": {
        "id": "520b8b0f-391d-4d60-91dc-6b92194d4363"
      },
      "source": [
        "(epoch1) $loss=\\sum_{i=1}^{10}(y_i-\\beta_0-\\beta_1x_i)^2 \\quad \\to \\quad slope \\quad \\to \\quad update$"
      ]
    },
    {
      "cell_type": "markdown",
      "id": "264dce34-67c9-4ce1-9f25-bcc0ab15e94a",
      "metadata": {
        "id": "264dce34-67c9-4ce1-9f25-bcc0ab15e94a"
      },
      "source": [
        "(epoch2) $loss=\\sum_{i=1}^{10}(y_i-\\beta_0-\\beta_1x_i)^2 \\quad \\to \\quad slope \\quad \\to \\quad update$"
      ]
    },
    {
      "cell_type": "markdown",
      "id": "d777da58-9d8f-4157-a77f-d8c6caf81443",
      "metadata": {
        "id": "d777da58-9d8f-4157-a77f-d8c6caf81443"
      },
      "source": [
        "..."
      ]
    },
    {
      "cell_type": "markdown",
      "id": "c5b0914d-1645-493d-a51f-1df82b026312",
      "metadata": {
        "id": "c5b0914d-1645-493d-a51f-1df82b026312"
      },
      "source": [
        "### ver2: 하나의 샘플만 사용하여 slope계산 "
      ]
    },
    {
      "cell_type": "markdown",
      "id": "72120e79-8ce9-43c7-80a3-1e2605360767",
      "metadata": {
        "id": "72120e79-8ce9-43c7-80a3-1e2605360767"
      },
      "source": [
        "(epoch1) \n",
        "- $loss=(y_1-\\beta_0-\\beta_1x_1)^2 \\quad \\to \\quad slope \\quad \\to \\quad update$\n",
        "- $loss=(y_2-\\beta_0-\\beta_1x_1)^2 \\quad \\to \\quad slope \\quad \\to \\quad update$\n",
        "- ...\n",
        "- $loss=(y_{10}-\\beta_0-\\beta_1x_{10})^2 \\quad \\to \\quad slope \\quad \\to \\quad update$"
      ]
    },
    {
      "cell_type": "markdown",
      "id": "8e45ca5b-9615-4614-a251-0443deb70831",
      "metadata": {
        "id": "8e45ca5b-9615-4614-a251-0443deb70831"
      },
      "source": [
        "(epoch2) \n",
        "- $loss=(y_1-\\beta_0-\\beta_1x_1)^2 \\quad \\to \\quad slope \\quad \\to \\quad update$\n",
        "- $loss=(y_2-\\beta_0-\\beta_1x_1)^2 \\quad \\to \\quad slope \\quad \\to \\quad update$\n",
        "- ...\n",
        "- $loss=(y_{10}-\\beta_0-\\beta_1x_{10})^2 \\quad \\to \\quad slope \\quad \\to \\quad update$"
      ]
    },
    {
      "cell_type": "markdown",
      "id": "210f2aa1-3da2-41d2-bac8-905c75220b03",
      "metadata": {
        "id": "210f2aa1-3da2-41d2-bac8-905c75220b03"
      },
      "source": [
        "..."
      ]
    },
    {
      "cell_type": "markdown",
      "id": "57e07bb4-d3f1-4629-b8aa-74c6dbd80a8e",
      "metadata": {
        "id": "57e07bb4-d3f1-4629-b8aa-74c6dbd80a8e"
      },
      "source": [
        "### ver3: $m(\\leq n)$개의 샘플만 사용하여 slope계산"
      ]
    },
    {
      "cell_type": "markdown",
      "id": "72957d2a-6159-455b-a9f7-d0dc8ef2e18e",
      "metadata": {
        "id": "72957d2a-6159-455b-a9f7-d0dc8ef2e18e"
      },
      "source": [
        "$m=3$이라고 하자. "
      ]
    },
    {
      "cell_type": "markdown",
      "id": "17711a71-0bda-443c-86ee-f2de201cc6cc",
      "metadata": {
        "id": "17711a71-0bda-443c-86ee-f2de201cc6cc"
      },
      "source": [
        "(epoch1) \n",
        "- $loss=\\sum_{i=1}^{3}(y_i-\\beta_0-\\beta_1x_i)^2 \\quad \\to \\quad slope \\quad \\to \\quad update$\n",
        "- $loss=\\sum_{i=4}^{6}(y_i-\\beta_0-\\beta_1x_i)^2 \\quad \\to \\quad slope \\quad \\to \\quad update$\n",
        "- $loss=\\sum_{i=7}^{9}(y_i-\\beta_0-\\beta_1x_i)^2 \\quad \\to \\quad slope \\quad \\to \\quad update$\n",
        "- $loss=(y_{10}-\\beta_0-\\beta_1x_{10})^2 \\quad \\to \\quad slope \\quad \\to \\quad update$"
      ]
    },
    {
      "cell_type": "markdown",
      "id": "2dc1fa34-a514-4442-8499-d722c5669018",
      "metadata": {
        "id": "2dc1fa34-a514-4442-8499-d722c5669018"
      },
      "source": [
        "(epoch2) \n",
        "- $loss=\\sum_{i=1}^{3}(y_i-\\beta_0-\\beta_1x_i)^2 \\quad \\to \\quad slope \\quad \\to \\quad update$\n",
        "- $loss=\\sum_{i=4}^{6}(y_i-\\beta_0-\\beta_1x_i)^2 \\quad \\to \\quad slope \\quad \\to \\quad update$\n",
        "- $loss=\\sum_{i=7}^{9}(y_i-\\beta_0-\\beta_1x_i)^2 \\quad \\to \\quad slope \\quad \\to \\quad update$\n",
        "- $loss=(y_{10}-\\beta_0-\\beta_1x_{10})^2 \\quad \\to \\quad slope \\quad \\to \\quad update$"
      ]
    },
    {
      "cell_type": "markdown",
      "id": "cf3ae2c2-be34-416f-ab7f-8d6d1899084f",
      "metadata": {
        "id": "cf3ae2c2-be34-416f-ab7f-8d6d1899084f"
      },
      "source": [
        "..."
      ]
    },
    {
      "cell_type": "markdown",
      "id": "fa5a3830-f271-406e-b748-e45df9fe1076",
      "metadata": {
        "id": "fa5a3830-f271-406e-b748-e45df9fe1076"
      },
      "source": [
        "### 용어의 정리 "
      ]
    },
    {
      "cell_type": "markdown",
      "id": "b3a464b9-aaef-4625-8533-cacc00559c9a",
      "metadata": {
        "id": "b3a464b9-aaef-4625-8533-cacc00559c9a"
      },
      "source": [
        "#### 옛날 (좀 더 엄밀)"
      ]
    },
    {
      "cell_type": "markdown",
      "id": "870b1c0b-8465-4e54-a8ef-c6dc21512919",
      "metadata": {
        "id": "870b1c0b-8465-4e54-a8ef-c6dc21512919"
      },
      "source": [
        "`-` ver1: gradient descent, batch gradient descent \n"
      ]
    },
    {
      "cell_type": "markdown",
      "id": "f9b2a2ea-770a-439e-acb2-a5092f8f5687",
      "metadata": {
        "id": "f9b2a2ea-770a-439e-acb2-a5092f8f5687"
      },
      "source": [
        "`-` ver2: stochastic gradient descent"
      ]
    },
    {
      "cell_type": "markdown",
      "id": "7e0f292b-da41-47a5-8dea-6cfbc17e7b11",
      "metadata": {
        "id": "7e0f292b-da41-47a5-8dea-6cfbc17e7b11"
      },
      "source": [
        "`-` ver3: mini-batch gradient descent, mini-batch stochastic gradient descent"
      ]
    },
    {
      "cell_type": "markdown",
      "id": "106c2364-be91-43e9-bf87-a9ad9209317c",
      "metadata": {
        "id": "106c2364-be91-43e9-bf87-a9ad9209317c"
      },
      "source": [
        "#### 요즘 "
      ]
    },
    {
      "cell_type": "markdown",
      "id": "a03457f9-5a12-4240-8e46-8cb7a9ca6522",
      "metadata": {
        "id": "a03457f9-5a12-4240-8e46-8cb7a9ca6522"
      },
      "source": [
        "`-` ver1: gradient descent\n"
      ]
    },
    {
      "cell_type": "markdown",
      "id": "30369967-7ee8-46ba-abbc-ccf28df09cc5",
      "metadata": {
        "id": "30369967-7ee8-46ba-abbc-ccf28df09cc5"
      },
      "source": [
        "`-` ver2: stochastic gradient descent with batch size = 1 "
      ]
    },
    {
      "cell_type": "markdown",
      "id": "aabfe7d2-d779-4b5f-ac6d-e2367f693835",
      "metadata": {
        "id": "aabfe7d2-d779-4b5f-ac6d-e2367f693835"
      },
      "source": [
        "`-` ver3: stochastic gradient descent \n",
        "- https://www.deeplearningbook.org/contents/optimization.html, 알고리즘 8-1 참고. "
      ]
    },
    {
      "cell_type": "markdown",
      "id": "1aa1ab0c-e4be-4462-a9af-b9375056f617",
      "metadata": {
        "id": "1aa1ab0c-e4be-4462-a9af-b9375056f617"
      },
      "source": [
        "note: 이렇게 많이 쓰는 이유? ver1,2는 사실상 없는 방법이므로"
      ]
    },
    {
      "cell_type": "markdown",
      "id": "41b0806c-1312-40b4-ae45-1e7aa6e8eb95",
      "metadata": {
        "id": "41b0806c-1312-40b4-ae45-1e7aa6e8eb95"
      },
      "source": [
        "### ver1,2,3 이외에 좀 더 지저분한 것들이 있다. "
      ]
    },
    {
      "cell_type": "markdown",
      "id": "ab033e1a-c1a8-46f1-acde-80595eb87c73",
      "metadata": {
        "id": "ab033e1a-c1a8-46f1-acde-80595eb87c73"
      },
      "source": [
        "`-` ver2,3에서 샘플을 셔플할 수도 있다. "
      ]
    },
    {
      "cell_type": "markdown",
      "id": "b7b14707-101e-47ca-afa3-15bece9d3200",
      "metadata": {
        "id": "b7b14707-101e-47ca-afa3-15bece9d3200"
      },
      "source": [
        "`-` ver3에서 일부 샘플이 학습에 참여 안하는 버전도 있다. "
      ]
    },
    {
      "cell_type": "markdown",
      "id": "473e8f92-b711-46c2-86ae-30202e3218ff",
      "metadata": {
        "id": "473e8f92-b711-46c2-86ae-30202e3218ff"
      },
      "source": [
        "`-` 개인적 생각: 크게3개정도만 알면 괜찮고 나머지는 그렇게 유의미하지 않아보인다. "
      ]
    },
    {
      "cell_type": "markdown",
      "id": "1f96b101-074b-419f-961c-21bc7b2dec08",
      "metadata": {
        "id": "1f96b101-074b-419f-961c-21bc7b2dec08"
      },
      "source": [
        "### Discussion "
      ]
    },
    {
      "cell_type": "markdown",
      "id": "82f26aa7-736b-41e0-9cd5-24525c6318c1",
      "metadata": {
        "id": "82f26aa7-736b-41e0-9cd5-24525c6318c1"
      },
      "source": [
        "`-` 핵심개념 \n",
        "- **메모리사용량: ver1 > ver3 > ver2**\n",
        "- 계산속도: ver1 > ver3 > ver2 \n",
        "- local-min에 갇힘: ver1 > ver3 > ver2"
      ]
    },
    {
      "cell_type": "markdown",
      "id": "f20b36c8-ef09-46c6-8a05-2e0e31c84652",
      "metadata": {
        "id": "f20b36c8-ef09-46c6-8a05-2e0e31c84652"
      },
      "source": [
        "`-` 본질: GPU 메모리가 한정되어 있어서 ver1을 쓰지는 못한다. GPU 메모리를 가장 적게쓰는것은 ver2인데 이것은 너무 불안정하다. "
      ]
    },
    {
      "cell_type": "markdown",
      "id": "073482a8-ac5a-4eb1-a79c-45240454e597",
      "metadata": {
        "id": "073482a8-ac5a-4eb1-a79c-45240454e597"
      },
      "source": [
        "`-` 틀리진 않지만 어색한 블로그 정리 내용들 \n",
        "- 경사하강법은 종종 국소최소점에 갇히는 문제가 있다. 이를 해결하기 위해서 등장한 방법이 확률적 경사하강법이다.\n",
        "- 경사하강법은 계산시간이 오래걸린다. 계산을 빠르게 하기 위해서 등장한 방법이 확률적 경사하강법이다.\n"
      ]
    },
    {
      "cell_type": "markdown",
      "id": "c824d653-8259-473a-a6ae-d704a4d0ec46",
      "metadata": {
        "id": "c824d653-8259-473a-a6ae-d704a4d0ec46"
      },
      "source": [
        "## fashion_mnist 모듈 "
      ]
    },
    {
      "cell_type": "markdown",
      "id": "a9994341-1fe6-466a-99b2-5f9dc7e6293e",
      "metadata": {
        "id": "a9994341-1fe6-466a-99b2-5f9dc7e6293e"
      },
      "source": [
        "### tf.keras.datasets.fashion_mnist.load_data()"
      ]
    },
    {
      "cell_type": "markdown",
      "id": "e58529e6-3122-4aac-abbb-97b30527c24a",
      "metadata": {
        "id": "e58529e6-3122-4aac-abbb-97b30527c24a"
      },
      "source": [
        "### 데이터생성 및 탐색"
      ]
    },
    {
      "cell_type": "markdown",
      "id": "32792d84-35c1-444a-a6a1-ccecd40b045a",
      "metadata": {
        "id": "32792d84-35c1-444a-a6a1-ccecd40b045a"
      },
      "source": [
        "`-` tf.keras.datasets.fashion_mnist.load_data()를 이용한 데이터 생성 "
      ]
    },
    {
      "cell_type": "markdown",
      "id": "1890d715-a038-4ae4-a4ad-7aed7ac80ef5",
      "metadata": {
        "id": "1890d715-a038-4ae4-a4ad-7aed7ac80ef5"
      },
      "source": [
        "### 데이터구조 "
      ]
    },
    {
      "cell_type": "markdown",
      "id": "6df7878d-a027-4a0d-aa4d-287df84ca684",
      "metadata": {
        "id": "6df7878d-a027-4a0d-aa4d-287df84ca684"
      },
      "source": [
        "## 예제1"
      ]
    },
    {
      "cell_type": "markdown",
      "id": "46acce66-af19-4368-a663-079e5794821b",
      "metadata": {
        "tags": [],
        "id": "46acce66-af19-4368-a663-079e5794821b"
      },
      "source": [
        "### 데이터 정리 "
      ]
    },
    {
      "cell_type": "markdown",
      "id": "f1607fa9-169a-46c1-9d05-301dc135bd6b",
      "metadata": {
        "id": "f1607fa9-169a-46c1-9d05-301dc135bd6b"
      },
      "source": [
        "### 풀이1: 은닉층을 포함한 신경망  // epochs=100"
      ]
    },
    {
      "cell_type": "code",
      "execution_count": null,
      "id": "89de916e-b83d-42d6-bd39-f5d3004d25c2",
      "metadata": {
        "id": "89de916e-b83d-42d6-bd39-f5d3004d25c2",
        "outputId": "148609b2-3c9a-47d5-8ae5-6e9b5f4f6b38"
      },
      "outputs": [
        {
          "data": {
            "image/svg+xml": [
              "<?xml version=\"1.0\" encoding=\"UTF-8\" standalone=\"no\"?>\n",
              "<!DOCTYPE svg PUBLIC \"-//W3C//DTD SVG 1.1//EN\"\n",
              " \"http://www.w3.org/Graphics/SVG/1.1/DTD/svg11.dtd\">\n",
              "<!-- Generated by graphviz version 3.0.0 (20220315.2325)\n",
              " -->\n",
              "<!-- Title: G Pages: 1 -->\n",
              "<svg width=\"383pt\" height=\"261pt\"\n",
              " viewBox=\"0.00 0.00 383.29 261.00\" xmlns=\"http://www.w3.org/2000/svg\" xmlns:xlink=\"http://www.w3.org/1999/xlink\">\n",
              "<g id=\"graph0\" class=\"graph\" transform=\"scale(1 1) rotate(0) translate(4 257)\">\n",
              "<title>G</title>\n",
              "<polygon fill=\"white\" stroke=\"transparent\" points=\"-4,4 -4,-257 379.29,-257 379.29,4 -4,4\"/>\n",
              "<g id=\"clust1\" class=\"cluster\">\n",
              "<title>cluster_1</title>\n",
              "<polygon fill=\"lightgrey\" stroke=\"lightgrey\" points=\"8,-8 8,-245 91.59,-245 91.59,-8 8,-8\"/>\n",
              "<text text-anchor=\"middle\" x=\"49.8\" y=\"-229.8\" font-family=\"Times,serif\" font-size=\"14.00\">Layer 0</text>\n",
              "</g>\n",
              "<g id=\"clust2\" class=\"cluster\">\n",
              "<title>cluster_2</title>\n",
              "<polygon fill=\"lightgrey\" stroke=\"lightgrey\" points=\"111.59,-8 111.59,-245 219.29,-245 219.29,-8 111.59,-8\"/>\n",
              "<text text-anchor=\"middle\" x=\"165.44\" y=\"-229.8\" font-family=\"Times,serif\" font-size=\"14.00\">Layer 1: relu</text>\n",
              "</g>\n",
              "<g id=\"clust3\" class=\"cluster\">\n",
              "<title>cluster_3</title>\n",
              "<polygon fill=\"lightgrey\" stroke=\"lightgrey\" points=\"239.29,-89 239.29,-164 375.29,-164 375.29,-89 239.29,-89\"/>\n",
              "<text text-anchor=\"middle\" x=\"307.29\" y=\"-148.8\" font-family=\"Times,serif\" font-size=\"14.00\">Layer 2: sigmoid</text>\n",
              "</g>\n",
              "<!-- x1 -->\n",
              "<g id=\"node1\" class=\"node\">\n",
              "<title>x1</title>\n",
              "<ellipse fill=\"none\" stroke=\"black\" cx=\"49.8\" cy=\"-196\" rx=\"27\" ry=\"18\"/>\n",
              "<text text-anchor=\"middle\" x=\"49.8\" y=\"-192.3\" font-family=\"Times,serif\" font-size=\"14.00\">x1</text>\n",
              "</g>\n",
              "<!-- node1 -->\n",
              "<g id=\"node5\" class=\"node\">\n",
              "<title>node1</title>\n",
              "<ellipse fill=\"none\" stroke=\"black\" cx=\"165.44\" cy=\"-196\" rx=\"38.99\" ry=\"18\"/>\n",
              "<text text-anchor=\"middle\" x=\"165.44\" y=\"-192.3\" font-family=\"Times,serif\" font-size=\"14.00\">node1</text>\n",
              "</g>\n",
              "<!-- x1&#45;&gt;node1 -->\n",
              "<g id=\"edge1\" class=\"edge\">\n",
              "<title>x1&#45;&gt;node1</title>\n",
              "<path fill=\"none\" stroke=\"black\" d=\"M76.87,-196C88.57,-196 102.75,-196 116.27,-196\"/>\n",
              "<polygon fill=\"black\" stroke=\"black\" points=\"116.42,-199.5 126.42,-196 116.42,-192.5 116.42,-199.5\"/>\n",
              "</g>\n",
              "<!-- node2 -->\n",
              "<g id=\"node6\" class=\"node\">\n",
              "<title>node2</title>\n",
              "<ellipse fill=\"none\" stroke=\"black\" cx=\"165.44\" cy=\"-142\" rx=\"38.99\" ry=\"18\"/>\n",
              "<text text-anchor=\"middle\" x=\"165.44\" y=\"-138.3\" font-family=\"Times,serif\" font-size=\"14.00\">node2</text>\n",
              "</g>\n",
              "<!-- x1&#45;&gt;node2 -->\n",
              "<g id=\"edge5\" class=\"edge\">\n",
              "<title>x1&#45;&gt;node2</title>\n",
              "<path fill=\"none\" stroke=\"black\" d=\"M72.17,-185.84C88.01,-178.32 109.97,-167.88 128.5,-159.08\"/>\n",
              "<polygon fill=\"black\" stroke=\"black\" points=\"130.01,-162.23 137.54,-154.78 127.01,-155.91 130.01,-162.23\"/>\n",
              "</g>\n",
              "<!-- ... -->\n",
              "<g id=\"node7\" class=\"node\">\n",
              "<title>...</title>\n",
              "<ellipse fill=\"none\" stroke=\"black\" cx=\"165.44\" cy=\"-88\" rx=\"27\" ry=\"18\"/>\n",
              "<text text-anchor=\"middle\" x=\"165.44\" y=\"-84.3\" font-family=\"Times,serif\" font-size=\"14.00\">...</text>\n",
              "</g>\n",
              "<!-- x1&#45;&gt;... -->\n",
              "<g id=\"edge9\" class=\"edge\">\n",
              "<title>x1&#45;&gt;...</title>\n",
              "<path fill=\"none\" stroke=\"black\" d=\"M66.12,-181.43C85.53,-163 119.12,-131.07 141.56,-109.74\"/>\n",
              "<polygon fill=\"black\" stroke=\"black\" points=\"144.16,-112.11 148.99,-102.68 139.33,-107.03 144.16,-112.11\"/>\n",
              "</g>\n",
              "<!-- node30 -->\n",
              "<g id=\"node8\" class=\"node\">\n",
              "<title>node30</title>\n",
              "<ellipse fill=\"none\" stroke=\"black\" cx=\"165.44\" cy=\"-34\" rx=\"44.69\" ry=\"18\"/>\n",
              "<text text-anchor=\"middle\" x=\"165.44\" y=\"-30.3\" font-family=\"Times,serif\" font-size=\"14.00\">node30</text>\n",
              "</g>\n",
              "<!-- x1&#45;&gt;node30 -->\n",
              "<g id=\"edge13\" class=\"edge\">\n",
              "<title>x1&#45;&gt;node30</title>\n",
              "<path fill=\"none\" stroke=\"black\" d=\"M62.11,-179.87C81.8,-151.81 122.52,-93.76 146.23,-59.97\"/>\n",
              "<polygon fill=\"black\" stroke=\"black\" points=\"149.27,-61.72 152.15,-51.52 143.54,-57.7 149.27,-61.72\"/>\n",
              "</g>\n",
              "<!-- x2 -->\n",
              "<g id=\"node2\" class=\"node\">\n",
              "<title>x2</title>\n",
              "<ellipse fill=\"none\" stroke=\"black\" cx=\"49.8\" cy=\"-142\" rx=\"27\" ry=\"18\"/>\n",
              "<text text-anchor=\"middle\" x=\"49.8\" y=\"-138.3\" font-family=\"Times,serif\" font-size=\"14.00\">x2</text>\n",
              "</g>\n",
              "<!-- x2&#45;&gt;node1 -->\n",
              "<g id=\"edge2\" class=\"edge\">\n",
              "<title>x2&#45;&gt;node1</title>\n",
              "<path fill=\"none\" stroke=\"black\" d=\"M72.17,-152.16C88.01,-159.68 109.97,-170.12 128.5,-178.92\"/>\n",
              "<polygon fill=\"black\" stroke=\"black\" points=\"127.01,-182.09 137.54,-183.22 130.01,-175.77 127.01,-182.09\"/>\n",
              "</g>\n",
              "<!-- x2&#45;&gt;node2 -->\n",
              "<g id=\"edge6\" class=\"edge\">\n",
              "<title>x2&#45;&gt;node2</title>\n",
              "<path fill=\"none\" stroke=\"black\" d=\"M76.87,-142C88.57,-142 102.75,-142 116.27,-142\"/>\n",
              "<polygon fill=\"black\" stroke=\"black\" points=\"116.42,-145.5 126.42,-142 116.42,-138.5 116.42,-145.5\"/>\n",
              "</g>\n",
              "<!-- x2&#45;&gt;... -->\n",
              "<g id=\"edge10\" class=\"edge\">\n",
              "<title>x2&#45;&gt;...</title>\n",
              "<path fill=\"none\" stroke=\"black\" d=\"M72.17,-131.84C89.52,-123.6 114.21,-111.87 133.69,-102.61\"/>\n",
              "<polygon fill=\"black\" stroke=\"black\" points=\"135.24,-105.75 142.77,-98.3 132.24,-99.43 135.24,-105.75\"/>\n",
              "</g>\n",
              "<!-- x2&#45;&gt;node30 -->\n",
              "<g id=\"edge14\" class=\"edge\">\n",
              "<title>x2&#45;&gt;node30</title>\n",
              "<path fill=\"none\" stroke=\"black\" d=\"M66.12,-127.43C84.98,-109.51 117.25,-78.84 139.66,-57.55\"/>\n",
              "<polygon fill=\"black\" stroke=\"black\" points=\"142.29,-59.88 147.13,-50.45 137.47,-54.8 142.29,-59.88\"/>\n",
              "</g>\n",
              "<!-- .. -->\n",
              "<g id=\"node3\" class=\"node\">\n",
              "<title>..</title>\n",
              "<ellipse fill=\"none\" stroke=\"black\" cx=\"49.8\" cy=\"-88\" rx=\"27\" ry=\"18\"/>\n",
              "<text text-anchor=\"middle\" x=\"49.8\" y=\"-84.3\" font-family=\"Times,serif\" font-size=\"14.00\">..</text>\n",
              "</g>\n",
              "<!-- ..&#45;&gt;node1 -->\n",
              "<g id=\"edge3\" class=\"edge\">\n",
              "<title>..&#45;&gt;node1</title>\n",
              "<path fill=\"none\" stroke=\"black\" d=\"M66.12,-102.57C85.09,-120.59 117.63,-151.51 140.04,-172.81\"/>\n",
              "<polygon fill=\"black\" stroke=\"black\" points=\"137.85,-175.56 147.51,-179.91 142.67,-170.48 137.85,-175.56\"/>\n",
              "</g>\n",
              "<!-- ..&#45;&gt;node2 -->\n",
              "<g id=\"edge7\" class=\"edge\">\n",
              "<title>..&#45;&gt;node2</title>\n",
              "<path fill=\"none\" stroke=\"black\" d=\"M72.17,-98.16C88.01,-105.68 109.97,-116.12 128.5,-124.92\"/>\n",
              "<polygon fill=\"black\" stroke=\"black\" points=\"127.01,-128.09 137.54,-129.22 130.01,-121.77 127.01,-128.09\"/>\n",
              "</g>\n",
              "<!-- ..&#45;&gt;... -->\n",
              "<g id=\"edge11\" class=\"edge\">\n",
              "<title>..&#45;&gt;...</title>\n",
              "<path fill=\"none\" stroke=\"black\" d=\"M76.87,-88C91.92,-88 111.09,-88 127.66,-88\"/>\n",
              "<polygon fill=\"black\" stroke=\"black\" points=\"128.1,-91.5 138.1,-88 128.1,-84.5 128.1,-91.5\"/>\n",
              "</g>\n",
              "<!-- ..&#45;&gt;node30 -->\n",
              "<g id=\"edge15\" class=\"edge\">\n",
              "<title>..&#45;&gt;node30</title>\n",
              "<path fill=\"none\" stroke=\"black\" d=\"M72.17,-77.84C87.5,-70.56 108.57,-60.55 126.7,-51.93\"/>\n",
              "<polygon fill=\"black\" stroke=\"black\" points=\"128.33,-55.03 135.86,-47.58 125.33,-48.71 128.33,-55.03\"/>\n",
              "</g>\n",
              "<!-- x784 -->\n",
              "<g id=\"node4\" class=\"node\">\n",
              "<title>x784</title>\n",
              "<ellipse fill=\"none\" stroke=\"black\" cx=\"49.8\" cy=\"-34\" rx=\"33.6\" ry=\"18\"/>\n",
              "<text text-anchor=\"middle\" x=\"49.8\" y=\"-30.3\" font-family=\"Times,serif\" font-size=\"14.00\">x784</text>\n",
              "</g>\n",
              "<!-- x784&#45;&gt;node1 -->\n",
              "<g id=\"edge4\" class=\"edge\">\n",
              "<title>x784&#45;&gt;node1</title>\n",
              "<path fill=\"none\" stroke=\"black\" d=\"M62.53,-50.73C82.42,-79.07 122.87,-136.74 146.38,-170.26\"/>\n",
              "<polygon fill=\"black\" stroke=\"black\" points=\"143.65,-172.46 152.26,-178.63 149.38,-168.44 143.65,-172.46\"/>\n",
              "</g>\n",
              "<!-- x784&#45;&gt;node2 -->\n",
              "<g id=\"edge8\" class=\"edge\">\n",
              "<title>x784&#45;&gt;node2</title>\n",
              "<path fill=\"none\" stroke=\"black\" d=\"M67.08,-49.47C86.18,-67.63 118.05,-97.91 140.09,-118.86\"/>\n",
              "<polygon fill=\"black\" stroke=\"black\" points=\"137.79,-121.5 147.45,-125.85 142.61,-116.42 137.79,-121.5\"/>\n",
              "</g>\n",
              "<!-- x784&#45;&gt;... -->\n",
              "<g id=\"edge12\" class=\"edge\">\n",
              "<title>x784&#45;&gt;...</title>\n",
              "<path fill=\"none\" stroke=\"black\" d=\"M75.46,-45.72C92.58,-53.85 115.51,-64.75 133.8,-73.44\"/>\n",
              "<polygon fill=\"black\" stroke=\"black\" points=\"132.36,-76.63 142.89,-77.76 135.36,-70.31 132.36,-76.63\"/>\n",
              "</g>\n",
              "<!-- x784&#45;&gt;node30 -->\n",
              "<g id=\"edge16\" class=\"edge\">\n",
              "<title>x784&#45;&gt;node30</title>\n",
              "<path fill=\"none\" stroke=\"black\" d=\"M83.67,-34C91.95,-34 101.07,-34 110.11,-34\"/>\n",
              "<polygon fill=\"black\" stroke=\"black\" points=\"110.23,-37.5 120.23,-34 110.23,-30.5 110.23,-37.5\"/>\n",
              "</g>\n",
              "<!-- y -->\n",
              "<g id=\"node9\" class=\"node\">\n",
              "<title>y</title>\n",
              "<ellipse fill=\"none\" stroke=\"black\" cx=\"307.29\" cy=\"-115\" rx=\"27\" ry=\"18\"/>\n",
              "<text text-anchor=\"middle\" x=\"307.29\" y=\"-111.3\" font-family=\"Times,serif\" font-size=\"14.00\">y</text>\n",
              "</g>\n",
              "<!-- node1&#45;&gt;y -->\n",
              "<g id=\"edge17\" class=\"edge\">\n",
              "<title>node1&#45;&gt;y</title>\n",
              "<path fill=\"none\" stroke=\"black\" d=\"M190.48,-182.08C214.55,-168.14 251.59,-146.68 277.28,-131.8\"/>\n",
              "<polygon fill=\"black\" stroke=\"black\" points=\"279.28,-134.69 286.18,-126.65 275.77,-128.63 279.28,-134.69\"/>\n",
              "</g>\n",
              "<!-- node2&#45;&gt;y -->\n",
              "<g id=\"edge18\" class=\"edge\">\n",
              "<title>node2&#45;&gt;y</title>\n",
              "<path fill=\"none\" stroke=\"black\" d=\"M201.73,-135.19C223.01,-131.08 250.01,-125.87 271.24,-121.77\"/>\n",
              "<polygon fill=\"black\" stroke=\"black\" points=\"272,-125.18 281.15,-119.85 270.67,-118.31 272,-125.18\"/>\n",
              "</g>\n",
              "<!-- ...&#45;&gt;y -->\n",
              "<g id=\"edge19\" class=\"edge\">\n",
              "<title>...&#45;&gt;y</title>\n",
              "<path fill=\"none\" stroke=\"black\" d=\"M191.77,-92.89C213.94,-97.17 246.39,-103.44 271.09,-108.2\"/>\n",
              "<polygon fill=\"black\" stroke=\"black\" points=\"270.67,-111.69 281.15,-110.15 271.99,-104.81 270.67,-111.69\"/>\n",
              "</g>\n",
              "<!-- node30&#45;&gt;y -->\n",
              "<g id=\"edge20\" class=\"edge\">\n",
              "<title>node30&#45;&gt;y</title>\n",
              "<path fill=\"none\" stroke=\"black\" d=\"M191.77,-48.67C215.88,-62.64 252.14,-83.64 277.38,-98.26\"/>\n",
              "<polygon fill=\"black\" stroke=\"black\" points=\"275.73,-101.34 286.13,-103.33 279.23,-95.29 275.73,-101.34\"/>\n",
              "</g>\n",
              "</g>\n",
              "</svg>\n"
            ],
            "text/plain": [
              "<graphviz.sources.Source at 0x7f2a905a44c0>"
            ]
          },
          "execution_count": 21,
          "metadata": {},
          "output_type": "execute_result"
        }
      ],
      "source": [
        "#collapse\n",
        "gv('''\n",
        "splines=line\n",
        "subgraph cluster_1{\n",
        "    style=filled;\n",
        "    color=lightgrey;\n",
        "    \"x1\"\n",
        "    \"x2\"\n",
        "    \"..\"\n",
        "    \"x784\"\n",
        "    label = \"Layer 0\"\n",
        "}\n",
        "subgraph cluster_2{\n",
        "    style=filled;\n",
        "    color=lightgrey;\n",
        "    \"x1\" -> \"node1\"\n",
        "    \"x2\" -> \"node1\"\n",
        "    \"..\" -> \"node1\"\n",
        "    \n",
        "    \"x784\" -> \"node1\"\n",
        "    \"x1\" -> \"node2\"\n",
        "    \"x2\" -> \"node2\"\n",
        "    \"..\" -> \"node2\"\n",
        "    \"x784\" -> \"node2\"\n",
        "    \n",
        "    \"x1\" -> \"...\"\n",
        "    \"x2\" -> \"...\"\n",
        "    \"..\" -> \"...\"\n",
        "    \"x784\" -> \"...\"\n",
        "\n",
        "    \"x1\" -> \"node30\"\n",
        "    \"x2\" -> \"node30\"\n",
        "    \"..\" -> \"node30\"\n",
        "    \"x784\" -> \"node30\"\n",
        "\n",
        "\n",
        "    label = \"Layer 1: relu\"\n",
        "}\n",
        "subgraph cluster_3{\n",
        "    style=filled;\n",
        "    color=lightgrey;\n",
        "    \"node1\" -> \"y\"\n",
        "    \"node2\" -> \"y\"\n",
        "    \"...\" -> \"y\"\n",
        "    \"node30\" -> \"y\"\n",
        "    label = \"Layer 2: sigmoid\"\n",
        "}\n",
        "''')"
      ]
    },
    {
      "cell_type": "markdown",
      "id": "1e98a4d6-4b9a-4195-9637-d65833c75c86",
      "metadata": {
        "id": "1e98a4d6-4b9a-4195-9637-d65833c75c86"
      },
      "source": [
        "### 풀이2: 옵티마이저 개선"
      ]
    },
    {
      "cell_type": "markdown",
      "id": "64ea3ada-597c-4dd4-bd25-09c7910b36e7",
      "metadata": {
        "id": "64ea3ada-597c-4dd4-bd25-09c7910b36e7"
      },
      "source": [
        "### 풀이3: 컴파일시 metrics=['accuracy'] 추가"
      ]
    },
    {
      "cell_type": "markdown",
      "id": "2c5714c2-9bb7-4b11-9d4f-a2785425eba5",
      "metadata": {
        "tags": [],
        "id": "2c5714c2-9bb7-4b11-9d4f-a2785425eba5"
      },
      "source": [
        "### 풀이4: 확률적경사하강법 이용 // epochs=10"
      ]
    }
  ],
  "metadata": {
    "kernelspec": {
      "display_name": "Python 3",
      "language": "python",
      "name": "python3"
    },
    "language_info": {
      "codemirror_mode": {
        "name": "ipython",
        "version": 3
      },
      "file_extension": ".py",
      "mimetype": "text/x-python",
      "name": "python",
      "nbconvert_exporter": "python",
      "pygments_lexer": "ipython3",
      "version": "3.9.12"
    },
    "colab": {
      "name": "2022-05-02-lecture.ipynb",
      "provenance": []
    }
  },
  "nbformat": 4,
  "nbformat_minor": 5
}