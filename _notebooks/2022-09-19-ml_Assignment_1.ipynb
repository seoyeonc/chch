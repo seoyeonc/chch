{
  "cells": [
    {
      "cell_type": "markdown",
      "id": "1aa76da0-d9a3-4f01-a815-7c4578770181",
      "metadata": {
        "id": "1aa76da0-d9a3-4f01-a815-7c4578770181"
      },
      "source": [
        "# Assignment 1 (09.19)"
      ]
    },
    {
      "cell_type": "markdown",
      "id": "26155ca5-6b40-4b55-8697-087b2efa1e26",
      "metadata": {
        "id": "26155ca5-6b40-4b55-8697-087b2efa1e26"
      },
      "source": [
        "- 제출은 `이름(학번).ipynb` 파일과 `이름(학번).html`파일 2개를 제출할 것. \n",
        "- ipynb 혹은 html 파일을 이용한 제출이 익숙하지 않은 학생은 질문할 것. "
      ]
    },
    {
      "cell_type": "code",
      "execution_count": null,
      "id": "8a72b9fe-40b1-4dbe-b98d-44ba4017ac01",
      "metadata": {
        "id": "8a72b9fe-40b1-4dbe-b98d-44ba4017ac01"
      },
      "outputs": [],
      "source": [
        "from fastai.vision.all import * \n",
        "from fastai.collab import * \n",
        "from fastai.text.all import *"
      ]
    },
    {
      "cell_type": "markdown",
      "id": "d0a7066c-2675-4da4-8aff-60779d42b9c6",
      "metadata": {
        "id": "d0a7066c-2675-4da4-8aff-60779d42b9c6"
      },
      "source": [
        "## `1`. 이미지자료분석 "
      ]
    },
    {
      "cell_type": "markdown",
      "id": "82b8d30b-72a8-42e2-b2d0-de9f2ea984cd",
      "metadata": {
        "id": "82b8d30b-72a8-42e2-b2d0-de9f2ea984cd"
      },
      "source": [
        "아래를 이용하여 MNIST_SAMPLE 이미지 자료를 다운로드 받고 dls오브젝트를 만들어라. "
      ]
    },
    {
      "cell_type": "code",
      "execution_count": null,
      "id": "24770588-b52a-412e-b67d-ba14f9003ddd",
      "metadata": {
        "id": "24770588-b52a-412e-b67d-ba14f9003ddd"
      },
      "outputs": [],
      "source": [
        "path = untar_data(URLs.MNIST_SAMPLE)"
      ]
    },
    {
      "cell_type": "code",
      "execution_count": null,
      "id": "c6a009d2-b595-47d6-9101-e7303f8cf1e6",
      "metadata": {
        "id": "c6a009d2-b595-47d6-9101-e7303f8cf1e6"
      },
      "outputs": [],
      "source": [
        "dls = ImageDataLoaders.from_folder(path) "
      ]
    },
    {
      "cell_type": "code",
      "execution_count": null,
      "id": "709295d3-9394-40f5-84c9-b36a5ab56b86",
      "metadata": {
        "id": "709295d3-9394-40f5-84c9-b36a5ab56b86",
        "outputId": "fd1371a1-d2aa-4050-86e8-863794b8c7f5"
      },
      "outputs": [
        {
          "data": {
            "image/png": "[encoded data removed]",
            "text/plain": [
              "<Figure size 648x648 with 9 Axes>"
            ]
          },
          "metadata": {
            "needs_background": "light"
          },
          "output_type": "display_data"
        }
      ],
      "source": [
        "dls.show_batch()"
      ]
    },
    {
      "cell_type": "markdown",
      "id": "f5d34a52-dbc2-43ec-9182-77e47b50dd35",
      "metadata": {
        "id": "f5d34a52-dbc2-43ec-9182-77e47b50dd35"
      },
      "source": [
        "`(1)` cnn_learner를 이용하여 lrnr 오브젝트를 생성하라. \n",
        "- arch 는 resnet34 로 설정할 것 \n",
        "- metrics 는 error_rate 로 설정할 것 "
      ]
    },
    {
      "cell_type": "markdown",
      "id": "210447f8-4f0b-43ad-9b1d-21d0bea04a74",
      "metadata": {
        "id": "210447f8-4f0b-43ad-9b1d-21d0bea04a74"
      },
      "source": [
        "`(2)` fine_tune 을 이용하여 lrnr 오브젝트를 학습하라. "
      ]
    },
    {
      "cell_type": "markdown",
      "id": "41fcc907-4183-4e8b-878b-994d203bd5a0",
      "metadata": {
        "id": "41fcc907-4183-4e8b-878b-994d203bd5a0"
      },
      "source": [
        "`(3)` 아래를 이용하여 X,y를 만들어라. \n",
        "\n",
        "```python\n",
        "X,y = dls.one_batch()\n",
        "```\n",
        "\n",
        "X,y의 shape을 조사하라. X에는 몇개의 이미지가 있는가? 이미지의 size는 얼마인가? "
      ]
    },
    {
      "cell_type": "markdown",
      "id": "45b56ab8-107c-47a8-8064-d02a24c2ee4f",
      "metadata": {
        "id": "45b56ab8-107c-47a8-8064-d02a24c2ee4f"
      },
      "source": [
        "`(4)` 아래의 코드를 이용하여 X의 두번째 이미지가 어떠한 숫자를 의미하는지 확인하라. (그림보고 3인지 7인지 확인하여 답을 쓸 것)\n",
        "```python\n",
        "show_image(X[0])\n",
        "```"
      ]
    },
    {
      "cell_type": "markdown",
      "id": "31d22da5-32f1-4fbf-b30b-6331e7fc7346",
      "metadata": {
        "id": "31d22da5-32f1-4fbf-b30b-6331e7fc7346"
      },
      "source": [
        "그리고 show_image가 정의된 파일의 경로를 확인하고 show_image가 python 내장함수 인지, torch에서 지원하는 함수인지 fastai에서 지원하는 함수인지 파악하라. "
      ]
    },
    {
      "cell_type": "markdown",
      "id": "802451af-9e8f-4882-9cb5-2367a9cc9ec8",
      "metadata": {
        "id": "802451af-9e8f-4882-9cb5-2367a9cc9ec8"
      },
      "source": [
        "`(5)` lrnr 오브젝트를 이용하여 AI가 X[0]을 어떤 값으로 판단하는지 확인하라. 올바르게 판단하였는가? 올바르게 판단했다면 몇 프로의 확신으로 판단하였는가?"
      ]
    },
    {
      "cell_type": "markdown",
      "id": "536eb3e3-d1a6-4bf9-8bf7-3ab929b3dd77",
      "metadata": {
        "id": "536eb3e3-d1a6-4bf9-8bf7-3ab929b3dd77"
      },
      "source": [
        "## `2`. 추천시스템"
      ]
    },
    {
      "cell_type": "markdown",
      "id": "f2ebb584-3fc7-4e3d-8ebd-5f2a0a74afc6",
      "metadata": {
        "id": "f2ebb584-3fc7-4e3d-8ebd-5f2a0a74afc6"
      },
      "source": [
        "아래를 이용하여 rcmd_anal.csv 를 다운로드 받고 dls오브젝트를 만들어라."
      ]
    },
    {
      "cell_type": "code",
      "execution_count": null,
      "id": "08428e62-ce80-43df-a30c-699d284d4786",
      "metadata": {
        "id": "08428e62-ce80-43df-a30c-699d284d4786"
      },
      "outputs": [],
      "source": [
        "df = pd.read_csv('https://raw.githubusercontent.com/guebin/DL2022/master/_notebooks/2022-09-08-rcmd_anal.csv')"
      ]
    },
    {
      "cell_type": "markdown",
      "id": "64ce94a0-daee-4ca3-9f4b-f71c5e7af768",
      "metadata": {
        "id": "64ce94a0-daee-4ca3-9f4b-f71c5e7af768"
      },
      "source": [
        "`(1)` 73번 유저가 먹은 아이템 및 평점을 출력하는 코드를 작성하라. 이를 기반으로 73번 유저가 어떠한 취향인지 파악하라. "
      ]
    },
    {
      "cell_type": "markdown",
      "id": "a079de97-5b08-46c3-b57d-10d0042c5e68",
      "metadata": {
        "id": "a079de97-5b08-46c3-b57d-10d0042c5e68"
      },
      "source": [
        "`(2)` dls와 lrnr 오브젝트를 생성하고 lrnr 오브젝트를 학습하라. "
      ]
    },
    {
      "cell_type": "markdown",
      "id": "0c1da7b6-3969-4dec-b30e-0a4a051b1ce2",
      "metadata": {
        "id": "0c1da7b6-3969-4dec-b30e-0a4a051b1ce2"
      },
      "source": [
        "`(3)` 아래와 같은 데이터 프레임을 생성하고 df_new 에 저장하라. "
      ]
    },
    {
      "cell_type": "code",
      "execution_count": null,
      "id": "9ba83858-a50b-4340-aef4-8f70aaa37b12",
      "metadata": {
        "id": "9ba83858-a50b-4340-aef4-8f70aaa37b12",
        "outputId": "0c735307-7732-42cc-a4f2-07af3107b713"
      },
      "outputs": [
        {
          "data": {
            "text/html": [
              "<table border=\"1\" class=\"dataframe\">\n",
              "  <thead>\n",
              "    <tr style=\"text-align: right;\">\n",
              "      <th></th>\n",
              "      <th>user</th>\n",
              "      <th>item</th>\n",
              "    </tr>\n",
              "  </thead>\n",
              "  <tbody>\n",
              "    <tr>\n",
              "      <th>0</th>\n",
              "      <td>73</td>\n",
              "      <td>1</td>\n",
              "    </tr>\n",
              "    <tr>\n",
              "      <th>1</th>\n",
              "      <td>73</td>\n",
              "      <td>2</td>\n",
              "    </tr>\n",
              "    <tr>\n",
              "      <th>2</th>\n",
              "      <td>73</td>\n",
              "      <td>3</td>\n",
              "    </tr>\n",
              "    <tr>\n",
              "      <th>3</th>\n",
              "      <td>73</td>\n",
              "      <td>4</td>\n",
              "    </tr>\n",
              "    <tr>\n",
              "      <th>4</th>\n",
              "      <td>73</td>\n",
              "      <td>5</td>\n",
              "    </tr>\n",
              "    <tr>\n",
              "      <th>5</th>\n",
              "      <td>73</td>\n",
              "      <td>6</td>\n",
              "    </tr>\n",
              "    <tr>\n",
              "      <th>6</th>\n",
              "      <td>73</td>\n",
              "      <td>7</td>\n",
              "    </tr>\n",
              "    <tr>\n",
              "      <th>7</th>\n",
              "      <td>73</td>\n",
              "      <td>8</td>\n",
              "    </tr>\n",
              "    <tr>\n",
              "      <th>8</th>\n",
              "      <td>73</td>\n",
              "      <td>9</td>\n",
              "    </tr>\n",
              "    <tr>\n",
              "      <th>9</th>\n",
              "      <td>73</td>\n",
              "      <td>10</td>\n",
              "    </tr>\n",
              "    <tr>\n",
              "      <th>10</th>\n",
              "      <td>73</td>\n",
              "      <td>11</td>\n",
              "    </tr>\n",
              "    <tr>\n",
              "      <th>11</th>\n",
              "      <td>73</td>\n",
              "      <td>12</td>\n",
              "    </tr>\n",
              "    <tr>\n",
              "      <th>12</th>\n",
              "      <td>73</td>\n",
              "      <td>13</td>\n",
              "    </tr>\n",
              "    <tr>\n",
              "      <th>13</th>\n",
              "      <td>73</td>\n",
              "      <td>14</td>\n",
              "    </tr>\n",
              "    <tr>\n",
              "      <th>14</th>\n",
              "      <td>73</td>\n",
              "      <td>15</td>\n",
              "    </tr>\n",
              "    <tr>\n",
              "      <th>15</th>\n",
              "      <td>73</td>\n",
              "      <td>16</td>\n",
              "    </tr>\n",
              "    <tr>\n",
              "      <th>16</th>\n",
              "      <td>73</td>\n",
              "      <td>17</td>\n",
              "    </tr>\n",
              "    <tr>\n",
              "      <th>17</th>\n",
              "      <td>73</td>\n",
              "      <td>18</td>\n",
              "    </tr>\n",
              "    <tr>\n",
              "      <th>18</th>\n",
              "      <td>73</td>\n",
              "      <td>19</td>\n",
              "    </tr>\n",
              "    <tr>\n",
              "      <th>19</th>\n",
              "      <td>73</td>\n",
              "      <td>20</td>\n",
              "    </tr>\n",
              "  </tbody>\n",
              "</table>"
            ],
            "text/plain": [
              "<IPython.core.display.HTML object>"
            ]
          },
          "execution_count": 8,
          "metadata": {},
          "output_type": "execute_result"
        }
      ],
      "source": [
        "#hide\n",
        "import IPython \n",
        "_html='<table border=\"1\" class=\"dataframe\">\\n  <thead>\\n    <tr style=\"text-align: right;\">\\n      <th></th>\\n      <th>user</th>\\n      <th>item</th>\\n    </tr>\\n  </thead>\\n  <tbody>\\n    <tr>\\n      <th>0</th>\\n      <td>73</td>\\n      <td>1</td>\\n    </tr>\\n    <tr>\\n      <th>1</th>\\n      <td>73</td>\\n      <td>2</td>\\n    </tr>\\n    <tr>\\n      <th>2</th>\\n      <td>73</td>\\n      <td>3</td>\\n    </tr>\\n    <tr>\\n      <th>3</th>\\n      <td>73</td>\\n      <td>4</td>\\n    </tr>\\n    <tr>\\n      <th>4</th>\\n      <td>73</td>\\n      <td>5</td>\\n    </tr>\\n    <tr>\\n      <th>5</th>\\n      <td>73</td>\\n      <td>6</td>\\n    </tr>\\n    <tr>\\n      <th>6</th>\\n      <td>73</td>\\n      <td>7</td>\\n    </tr>\\n    <tr>\\n      <th>7</th>\\n      <td>73</td>\\n      <td>8</td>\\n    </tr>\\n    <tr>\\n      <th>8</th>\\n      <td>73</td>\\n      <td>9</td>\\n    </tr>\\n    <tr>\\n      <th>9</th>\\n      <td>73</td>\\n      <td>10</td>\\n    </tr>\\n    <tr>\\n      <th>10</th>\\n      <td>73</td>\\n      <td>11</td>\\n    </tr>\\n    <tr>\\n      <th>11</th>\\n      <td>73</td>\\n      <td>12</td>\\n    </tr>\\n    <tr>\\n      <th>12</th>\\n      <td>73</td>\\n      <td>13</td>\\n    </tr>\\n    <tr>\\n      <th>13</th>\\n      <td>73</td>\\n      <td>14</td>\\n    </tr>\\n    <tr>\\n      <th>14</th>\\n      <td>73</td>\\n      <td>15</td>\\n    </tr>\\n    <tr>\\n      <th>15</th>\\n      <td>73</td>\\n      <td>16</td>\\n    </tr>\\n    <tr>\\n      <th>16</th>\\n      <td>73</td>\\n      <td>17</td>\\n    </tr>\\n    <tr>\\n      <th>17</th>\\n      <td>73</td>\\n      <td>18</td>\\n    </tr>\\n    <tr>\\n      <th>18</th>\\n      <td>73</td>\\n      <td>19</td>\\n    </tr>\\n    <tr>\\n      <th>19</th>\\n      <td>73</td>\\n      <td>20</td>\\n    </tr>\\n  </tbody>\\n</table>'\n",
        "IPython.display.HTML(_html)"
      ]
    },
    {
      "cell_type": "markdown",
      "id": "34cddf69-14c0-41a4-87ba-c8158eb16a7f",
      "metadata": {
        "id": "34cddf69-14c0-41a4-87ba-c8158eb16a7f"
      },
      "source": [
        "`(4)` 아래의 코드를 이용하여 73번 유저의 취향을 파악하라. 73번 유저가 커피3, 커피5를 먹는다면 얼마정도의 평점을 줄 것이라 예측되는가? \n",
        "\n",
        "```Python\n",
        "_dl = dls.test_dl(df_new)\n",
        "lrnr.get_preds(dl=_dl)\n",
        "```\n"
      ]
    },
    {
      "cell_type": "markdown",
      "id": "53a81a4a-9600-499a-a452-f7d73191567c",
      "metadata": {
        "id": "53a81a4a-9600-499a-a452-f7d73191567c"
      },
      "source": [
        "## `3`. 시퀀스자료분석"
      ]
    },
    {
      "cell_type": "markdown",
      "id": "8a20ef78-837d-45dd-af33-6be25800734c",
      "metadata": {
        "id": "8a20ef78-837d-45dd-af33-6be25800734c"
      },
      "source": [
        "아래를 이용하여 자료를 다운로드 받아라. "
      ]
    },
    {
      "cell_type": "code",
      "execution_count": null,
      "id": "cec1d5c5-f3e3-4bfe-be18-80a931430b44",
      "metadata": {
        "id": "cec1d5c5-f3e3-4bfe-be18-80a931430b44"
      },
      "outputs": [],
      "source": [
        "df = pd.read_csv('https://raw.githubusercontent.com/guebin/DL2022/master/_notebooks/2022-09-19-human_numbers_100.csv')"
      ]
    },
    {
      "cell_type": "markdown",
      "id": "930d6582-a26c-4660-ab50-c9d26f5dd863",
      "metadata": {
        "id": "930d6582-a26c-4660-ab50-c9d26f5dd863"
      },
      "source": [
        "`(1)` TextDataLoaders.from_df을 이용하여 dls오브젝트를 만들어라. \n",
        "- is_lm = True 로 설정할 것 \n",
        "- seq_len = 5 로 설정할 것 "
      ]
    },
    {
      "cell_type": "markdown",
      "id": "c4df5593-c3d5-4299-9f95-7c4d5fa968a3",
      "metadata": {
        "id": "c4df5593-c3d5-4299-9f95-7c4d5fa968a3"
      },
      "source": [
        "`(2)` lrnr 오브젝트를 만들어라. \n",
        "- arch = AWD_LSTM 이용 \n",
        "- metrics = accuracy 이용 "
      ]
    },
    {
      "cell_type": "markdown",
      "id": "8044c0be-0e04-4dd7-ada8-fa7d1f3c61d3",
      "metadata": {
        "id": "8044c0be-0e04-4dd7-ada8-fa7d1f3c61d3"
      },
      "source": [
        "`(3)` lrnr오브젝트에서 fine_tune(3) 메소드를 이용하여 모형을 학습하라. "
      ]
    },
    {
      "cell_type": "markdown",
      "id": "03633796-9683-40de-a4b8-2d06a001273d",
      "metadata": {
        "id": "03633796-9683-40de-a4b8-2d06a001273d"
      },
      "source": [
        "`(4)` 'one , two ,' 이후에 이어질 50개의 단어를 생성하라."
      ]
    },
    {
      "cell_type": "markdown",
      "id": "8af44b7b-3040-479e-b941-4c8696a19744",
      "metadata": {
        "id": "8af44b7b-3040-479e-b941-4c8696a19744"
      },
      "source": [
        "`(5)` 'twenty , twenty one , ' 이후에 이어질 50개의 단어를 생성하라. "
      ]
    },
    {
      "cell_type": "markdown",
      "id": "9bec975e-d076-4b40-a274-feb99112c3fe",
      "metadata": {
        "id": "9bec975e-d076-4b40-a274-feb99112c3fe"
      },
      "source": [
        "## `4`. 리눅스명령어"
      ]
    },
    {
      "cell_type": "markdown",
      "id": "98166cbb-258b-4308-b1be-ba4d95fa6658",
      "metadata": {
        "id": "98166cbb-258b-4308-b1be-ba4d95fa6658"
      },
      "source": [
        "Collab 에서 (혹은 리눅스기반 서버에서) 아래의 명령어를 순서대로 실행해보라. \n",
        "```\n",
        "!ls\n",
        "!ls -a \n",
        "!ls .\n",
        "!ls .. \n",
        "!ls sample\n",
        "!mkdir asdf \n",
        "!wget https://raw.githubusercontent.com/guebin/DL2022/master/_notebooks/2022-09-08-rcmd_anal.csv\n",
        "!cp 2022-09-08-rcmd_anal.csv ./asdf \n",
        "!ls ./asdf \n",
        "!rm 2022-09-08-rcmd_anal.csv \n",
        "!rm -rf asdf \n",
        "```"
      ]
    },
    {
      "cell_type": "markdown",
      "id": "324af3d3-bc93-4c1b-9e37-094254d9e1bb",
      "metadata": {
        "id": "324af3d3-bc93-4c1b-9e37-094254d9e1bb"
      },
      "source": [
        "각 명령들이 무엇을 의미하는지 간단히 서술하라. "
      ]
    }
  ],
  "metadata": {
    "kernelspec": {
      "display_name": "Python 3 (ipykernel)",
      "language": "python",
      "name": "python3"
    },
    "language_info": {
      "codemirror_mode": {
        "name": "ipython",
        "version": 3
      },
      "file_extension": ".py",
      "mimetype": "text/x-python",
      "name": "python",
      "nbconvert_exporter": "python",
      "pygments_lexer": "ipython3",
      "version": "3.7.13"
    },
    "colab": {
      "provenance": []
    }
  },
  "nbformat": 4,
  "nbformat_minor": 5
}