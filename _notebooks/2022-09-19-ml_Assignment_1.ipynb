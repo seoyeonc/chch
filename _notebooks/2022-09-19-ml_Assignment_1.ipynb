{
 "cells": [
  {
   "cell_type": "markdown",
   "id": "23502a63-e5d5-4786-8ff8-8f31498b3b44",
   "metadata": {
    "tags": []
   },
   "source": [
    "# 기계학습 Assignment 1 (09.19)\n",
    "\n",
    "- toc:true\n",
    "- branch: master\n",
    "- badges: true\n",
    "- comments: false\n",
    "- author: 최서연\n",
    "- categories: [Special Topics in Machine Learning]"
   ]
  },
  {
   "cell_type": "markdown",
   "id": "26155ca5-6b40-4b55-8697-087b2efa1e26",
   "metadata": {
    "id": "26155ca5-6b40-4b55-8697-087b2efa1e26"
   },
   "source": [
    "- 제출은 `이름(학번).ipynb` 파일과 `이름(학번).html`파일 2개를 제출할 것. \n",
    "- ipynb 혹은 html 파일을 이용한 제출이 익숙하지 않은 학생은 질문할 것. "
   ]
  },
  {
   "cell_type": "code",
   "execution_count": 1,
   "id": "8a72b9fe-40b1-4dbe-b98d-44ba4017ac01",
   "metadata": {
    "id": "8a72b9fe-40b1-4dbe-b98d-44ba4017ac01"
   },
   "outputs": [],
   "source": [
    "from fastai.vision.all import * \n",
    "from fastai.collab import * \n",
    "from fastai.text.all import *"
   ]
  },
  {
   "cell_type": "code",
   "execution_count": 187,
   "id": "6d11f2bd-0231-4121-9c41-ba413628656b",
   "metadata": {},
   "outputs": [
    {
     "name": "stdout",
     "output_type": "stream",
     "text": [
      "Fri Sep 23 23:42:06 2022       \n",
      "+-----------------------------------------------------------------------------+\n",
      "| NVIDIA-SMI 495.46       Driver Version: 495.46       CUDA Version: 11.5     |\n",
      "|-------------------------------+----------------------+----------------------+\n",
      "| GPU  Name        Persistence-M| Bus-Id        Disp.A | Volatile Uncorr. ECC |\n",
      "| Fan  Temp  Perf  Pwr:Usage/Cap|         Memory-Usage | GPU-Util  Compute M. |\n",
      "|                               |                      |               MIG M. |\n",
      "|===============================+======================+======================|\n",
      "|   0  NVIDIA GeForce ...  Off  | 00000000:65:00.0 Off |                  N/A |\n",
      "|  0%   39C    P8    27W / 420W |  10309MiB / 24268MiB |      0%      Default |\n",
      "|                               |                      |                  N/A |\n",
      "+-------------------------------+----------------------+----------------------+\n",
      "                                                                               \n",
      "+-----------------------------------------------------------------------------+\n",
      "| Processes:                                                                  |\n",
      "|  GPU   GI   CI        PID   Type   Process name                  GPU Memory |\n",
      "|        ID   ID                                                   Usage      |\n",
      "|=============================================================================|\n",
      "|    0   N/A  N/A    447239      C   ...onda3/envs/csy/bin/python    10307MiB |\n",
      "+-----------------------------------------------------------------------------+\n"
     ]
    }
   ],
   "source": [
    "!nvidia-smi"
   ]
  },
  {
   "cell_type": "markdown",
   "id": "d0a7066c-2675-4da4-8aff-60779d42b9c6",
   "metadata": {
    "id": "d0a7066c-2675-4da4-8aff-60779d42b9c6"
   },
   "source": [
    "## `1`. 이미지자료분석 "
   ]
  },
  {
   "cell_type": "markdown",
   "id": "82b8d30b-72a8-42e2-b2d0-de9f2ea984cd",
   "metadata": {
    "id": "82b8d30b-72a8-42e2-b2d0-de9f2ea984cd"
   },
   "source": [
    "아래를 이용하여 MNIST_SAMPLE 이미지 자료를 다운로드 받고 dls오브젝트를 만들어라. "
   ]
  },
  {
   "cell_type": "code",
   "execution_count": 123,
   "id": "24770588-b52a-412e-b67d-ba14f9003ddd",
   "metadata": {
    "id": "24770588-b52a-412e-b67d-ba14f9003ddd"
   },
   "outputs": [],
   "source": [
    "path = untar_data(URLs.MNIST_SAMPLE)"
   ]
  },
  {
   "cell_type": "code",
   "execution_count": 124,
   "id": "c6a009d2-b595-47d6-9101-e7303f8cf1e6",
   "metadata": {
    "id": "c6a009d2-b595-47d6-9101-e7303f8cf1e6"
   },
   "outputs": [],
   "source": [
    "dls = ImageDataLoaders.from_folder(path) "
   ]
  },
  {
   "cell_type": "code",
   "execution_count": 125,
   "id": "709295d3-9394-40f5-84c9-b36a5ab56b86",
   "metadata": {
    "id": "709295d3-9394-40f5-84c9-b36a5ab56b86",
    "outputId": "fd1371a1-d2aa-4050-86e8-863794b8c7f5"
   },
   "outputs": [
    {
     "data": {
      "image/png": "[encoded data removed]",
      "text/plain": [
       "<Figure size 648x648 with 9 Axes>"
      ]
     },
     "metadata": {
      "needs_background": "light"
     },
     "output_type": "display_data"
    }
   ],
   "source": [
    "dls.show_batch()"
   ]
  },
  {
   "cell_type": "markdown",
   "id": "f5d34a52-dbc2-43ec-9182-77e47b50dd35",
   "metadata": {
    "id": "f5d34a52-dbc2-43ec-9182-77e47b50dd35"
   },
   "source": [
    "`(1)` cnn_learner를 이용하여 lrnr 오브젝트를 생성하라. \n",
    "- arch 는 resnet34 로 설정할 것 \n",
    "- metrics 는 error_rate 로 설정할 것 "
   ]
  },
  {
   "cell_type": "code",
   "execution_count": 127,
   "id": "8b7e9fd6-24cb-4211-926c-19388de8d30a",
   "metadata": {},
   "outputs": [],
   "source": [
    "lrnr = cnn_learner(dls,resnet34,metrics=accuracy)"
   ]
  },
  {
   "cell_type": "markdown",
   "id": "210447f8-4f0b-43ad-9b1d-21d0bea04a74",
   "metadata": {
    "id": "210447f8-4f0b-43ad-9b1d-21d0bea04a74"
   },
   "source": [
    "`(2)` fine_tune 을 이용하여 lrnr 오브젝트를 학습하라. "
   ]
  },
  {
   "cell_type": "code",
   "execution_count": 128,
   "id": "8226e43f-5ec4-4da9-8048-63a74497d069",
   "metadata": {},
   "outputs": [
    {
     "data": {
      "text/html": [
       "<table border=\"1\" class=\"dataframe\">\n",
       "  <thead>\n",
       "    <tr style=\"text-align: left;\">\n",
       "      <th>epoch</th>\n",
       "      <th>train_loss</th>\n",
       "      <th>valid_loss</th>\n",
       "      <th>accuracy</th>\n",
       "      <th>time</th>\n",
       "    </tr>\n",
       "  </thead>\n",
       "  <tbody>\n",
       "    <tr>\n",
       "      <td>0</td>\n",
       "      <td>0.302672</td>\n",
       "      <td>0.142502</td>\n",
       "      <td>0.950932</td>\n",
       "      <td>00:09</td>\n",
       "    </tr>\n",
       "  </tbody>\n",
       "</table>"
      ],
      "text/plain": [
       "<IPython.core.display.HTML object>"
      ]
     },
     "metadata": {},
     "output_type": "display_data"
    },
    {
     "data": {
      "text/html": [
       "<table border=\"1\" class=\"dataframe\">\n",
       "  <thead>\n",
       "    <tr style=\"text-align: left;\">\n",
       "      <th>epoch</th>\n",
       "      <th>train_loss</th>\n",
       "      <th>valid_loss</th>\n",
       "      <th>accuracy</th>\n",
       "      <th>time</th>\n",
       "    </tr>\n",
       "  </thead>\n",
       "  <tbody>\n",
       "    <tr>\n",
       "      <td>0</td>\n",
       "      <td>0.040394</td>\n",
       "      <td>0.020423</td>\n",
       "      <td>0.991168</td>\n",
       "      <td>00:10</td>\n",
       "    </tr>\n",
       "  </tbody>\n",
       "</table>"
      ],
      "text/plain": [
       "<IPython.core.display.HTML object>"
      ]
     },
     "metadata": {},
     "output_type": "display_data"
    }
   ],
   "source": [
    "lrnr.fine_tune(1)"
   ]
  },
  {
   "cell_type": "markdown",
   "id": "41fcc907-4183-4e8b-878b-994d203bd5a0",
   "metadata": {
    "id": "41fcc907-4183-4e8b-878b-994d203bd5a0"
   },
   "source": [
    "`(3)` 아래를 이용하여 X,y를 만들어라. \n",
    "\n",
    "```python\n",
    "X,y = dls.one_batch()\n",
    "```\n",
    "\n",
    "X,y의 shape을 조사하라. X에는 몇개의 이미지가 있는가? 이미지의 size는 얼마인가? "
   ]
  },
  {
   "cell_type": "code",
   "execution_count": 129,
   "id": "51ab3a2b-91a7-45ce-a8a9-5c217284cd81",
   "metadata": {},
   "outputs": [],
   "source": [
    "X,y = dls.one_batch()"
   ]
  },
  {
   "cell_type": "code",
   "execution_count": 130,
   "id": "a6aa8a64-88dc-4e38-a4fa-ee2ee4d33458",
   "metadata": {},
   "outputs": [
    {
     "data": {
      "text/plain": [
       "torch.Size([64, 3, 28, 28])"
      ]
     },
     "execution_count": 130,
     "metadata": {},
     "output_type": "execute_result"
    }
   ],
   "source": [
    "X.shape"
   ]
  },
  {
   "cell_type": "markdown",
   "id": "54b373bf-3f37-46b1-855c-2b0c6fb84d9d",
   "metadata": {},
   "source": [
    "**Answer**\n",
    "- X에는 64개의 이미지가 들어있다.\n",
    "- image size는 28 $\\times$ 28 이다."
   ]
  },
  {
   "cell_type": "code",
   "execution_count": 131,
   "id": "976dd426-9148-4d92-80c3-e177f5981920",
   "metadata": {},
   "outputs": [
    {
     "data": {
      "text/plain": [
       "torch.Size([64])"
      ]
     },
     "execution_count": 131,
     "metadata": {},
     "output_type": "execute_result"
    }
   ],
   "source": [
    "y.shape"
   ]
  },
  {
   "cell_type": "markdown",
   "id": "45b56ab8-107c-47a8-8064-d02a24c2ee4f",
   "metadata": {
    "id": "45b56ab8-107c-47a8-8064-d02a24c2ee4f"
   },
   "source": [
    "`(4)` 아래의 코드를 이용하여 X의 두번째 이미지가 어떠한 숫자를 의미하는지 확인하라. (그림보고 3인지 7인지 확인하여 답을 쓸 것)\n",
    "```python\n",
    "show_image(X[0])\n",
    "```"
   ]
  },
  {
   "cell_type": "markdown",
   "id": "31d22da5-32f1-4fbf-b30b-6331e7fc7346",
   "metadata": {
    "id": "31d22da5-32f1-4fbf-b30b-6331e7fc7346"
   },
   "source": [
    "그리고 show_image가 정의된 파일의 경로를 확인하고 show_image가 python 내장함수 인지, torch에서 지원하는 함수인지 fastai에서 지원하는 함수인지 파악하라. "
   ]
  },
  {
   "cell_type": "code",
   "execution_count": 132,
   "id": "bcbefe58-3d1a-4b50-af62-2ff292006966",
   "metadata": {},
   "outputs": [
    {
     "name": "stderr",
     "output_type": "stream",
     "text": [
      "Clipping input data to the valid range for imshow with RGB data ([0..1] for floats or [0..255] for integers).\n"
     ]
    },
    {
     "data": {
      "text/plain": [
       "<AxesSubplot:>"
      ]
     },
     "execution_count": 132,
     "metadata": {},
     "output_type": "execute_result"
    },
    {
     "data": {
      "image/png": "[encoded data removed]",
      "text/plain": [
       "<Figure size 72x72 with 1 Axes>"
      ]
     },
     "metadata": {
      "needs_background": "light"
     },
     "output_type": "display_data"
    }
   ],
   "source": [
    "show_image(X[1])"
   ]
  },
  {
   "cell_type": "markdown",
   "id": "edd731e8-4bb2-4a9a-8857-fa6603702b33",
   "metadata": {},
   "source": [
    "**Answer**\n",
    "- X의 2번째 이미지는 7이다."
   ]
  },
  {
   "cell_type": "code",
   "execution_count": 133,
   "id": "a729ad4a-a5d7-41f0-862c-4b5cf6ee388a",
   "metadata": {},
   "outputs": [
    {
     "data": {
      "text/plain": [
       "\u001b[0;31mType:\u001b[0m            TensorImage\n",
       "\u001b[0;31mString form:\u001b[0m    \n",
       "TensorImage([[[[-2.1179, -2.1179, -2.1179,  ..., -2.1179, -2.1179, -2.1179],\n",
       "           [-2.1179,  <...>          [-1.8044, -1.8044, -1.8044,  ..., -1.8044, -1.8044, -1.8044]]]],\n",
       "           device='cuda:0')\n",
       "\u001b[0;31mLength:\u001b[0m          64\n",
       "\u001b[0;31mFile:\u001b[0m            ~/anaconda3/envs/csy/lib/python3.8/site-packages/fastai/torch_core.py\n",
       "\u001b[0;31mDocstring:\u001b[0m       <no docstring>\n",
       "\u001b[0;31mClass docstring:\u001b[0m A `Tensor` which support subclass pickling, and maintains metadata when casting or after methods\n"
      ]
     },
     "metadata": {},
     "output_type": "display_data"
    }
   ],
   "source": [
    "?X"
   ]
  },
  {
   "cell_type": "markdown",
   "id": "a4e13075-7990-4c02-9699-82595f138f91",
   "metadata": {},
   "source": [
    "**Answer**\n",
    "- fastai에서 지원하는 함수임을 확인하였다."
   ]
  },
  {
   "cell_type": "markdown",
   "id": "802451af-9e8f-4882-9cb5-2367a9cc9ec8",
   "metadata": {
    "id": "802451af-9e8f-4882-9cb5-2367a9cc9ec8"
   },
   "source": [
    "`(5)` lrnr 오브젝트를 이용하여 AI가 X[0]을 어떤 값으로 판단하는지 확인하라. 올바르게 판단하였는가? 올바르게 판단했다면 몇 프로의 확신으로 판단하였는가?"
   ]
  },
  {
   "cell_type": "code",
   "execution_count": 134,
   "id": "5d3d4997-a185-4fd8-b06a-4a84f0995e0d",
   "metadata": {},
   "outputs": [
    {
     "data": {
      "text/plain": [
       "TensorBase([[-3.3856,  4.0050]], device='cuda:0', grad_fn=<AliasBackward0>)"
      ]
     },
     "execution_count": 134,
     "metadata": {},
     "output_type": "execute_result"
    }
   ],
   "source": [
    "lrnr.model(X[0:1])"
   ]
  },
  {
   "cell_type": "code",
   "execution_count": 135,
   "id": "f2bb1087-0bcd-440d-a066-f601c436e58f",
   "metadata": {},
   "outputs": [
    {
     "name": "stderr",
     "output_type": "stream",
     "text": [
      "Clipping input data to the valid range for imshow with RGB data ([0..1] for floats or [0..255] for integers).\n"
     ]
    },
    {
     "data": {
      "text/plain": [
       "<AxesSubplot:>"
      ]
     },
     "execution_count": 135,
     "metadata": {},
     "output_type": "execute_result"
    },
    {
     "data": {
      "image/png": "[encoded data removed]",
      "text/plain": [
       "<Figure size 72x72 with 1 Axes>"
      ]
     },
     "metadata": {
      "needs_background": "light"
     },
     "output_type": "display_data"
    }
   ],
   "source": [
    "show_image(X[0])"
   ]
  },
  {
   "cell_type": "markdown",
   "id": "8da7d845-dafa-4eb8-963e-9a790b8c4246",
   "metadata": {},
   "source": [
    "**Answer**\n",
    "- 왼쪽이 크면 3으로 판단\n",
    "- 오른쪽이 크면 7으로 판단"
   ]
  },
  {
   "cell_type": "code",
   "execution_count": 136,
   "id": "6fa29a32-12c5-4845-ac78-fcd61af431c8",
   "metadata": {},
   "outputs": [
    {
     "data": {
      "text/plain": [
       "TensorBase([[-3.0025,  1.7983]], device='cuda:0', grad_fn=<AliasBackward0>)"
      ]
     },
     "execution_count": 136,
     "metadata": {},
     "output_type": "execute_result"
    }
   ],
   "source": [
    "lrnr.model(X[1:2])"
   ]
  },
  {
   "cell_type": "code",
   "execution_count": 137,
   "id": "8aac8e0c-2f7f-40bb-b8c0-e576118ac4ec",
   "metadata": {},
   "outputs": [
    {
     "name": "stderr",
     "output_type": "stream",
     "text": [
      "Clipping input data to the valid range for imshow with RGB data ([0..1] for floats or [0..255] for integers).\n"
     ]
    },
    {
     "data": {
      "text/plain": [
       "<AxesSubplot:>"
      ]
     },
     "execution_count": 137,
     "metadata": {},
     "output_type": "execute_result"
    },
    {
     "data": {
      "image/png": "[encoded data removed]",
      "text/plain": [
       "<Figure size 72x72 with 1 Axes>"
      ]
     },
     "metadata": {
      "needs_background": "light"
     },
     "output_type": "display_data"
    }
   ],
   "source": [
    "show_image(X[1])"
   ]
  },
  {
   "cell_type": "markdown",
   "id": "2abb407e-6314-42df-8ed5-487dff763c0a",
   "metadata": {},
   "source": [
    "- y 값 의미 : 3이 0, 7이 1"
   ]
  },
  {
   "cell_type": "markdown",
   "id": "8cd0a26d-9ed5-4227-acc0-20dec5aa5eb5",
   "metadata": {},
   "source": [
    "**Answer**\n",
    "-  %의 확신..."
   ]
  },
  {
   "cell_type": "code",
   "execution_count": 138,
   "id": "8ab07170-b270-4172-8a56-81696247081b",
   "metadata": {},
   "outputs": [
    {
     "data": {
      "text/plain": [
       "torch.Size([3, 28, 28])"
      ]
     },
     "execution_count": 138,
     "metadata": {},
     "output_type": "execute_result"
    }
   ],
   "source": [
    "X[0].shape"
   ]
  },
  {
   "cell_type": "code",
   "execution_count": 147,
   "id": "a4d4b962-d89a-4bf6-8c98-b6a15717e2e6",
   "metadata": {
    "tags": []
   },
   "outputs": [
    {
     "data": {
      "text/plain": [
       "TensorBase([[-3.3856,  4.0050]], device='cuda:0', grad_fn=<AliasBackward0>)"
      ]
     },
     "execution_count": 147,
     "metadata": {},
     "output_type": "execute_result"
    }
   ],
   "source": [
    "lrnr.model(X[0:1])"
   ]
  },
  {
   "cell_type": "markdown",
   "id": "376b0251-1945-4db3-af75-45b3ac541488",
   "metadata": {},
   "source": [
    "### 질문?"
   ]
  },
  {
   "cell_type": "markdown",
   "id": "ee7e2c65-ed59-4148-a71a-3fc96ee3e3ff",
   "metadata": {},
   "source": [
    "fine_tune 결과로, 99%?"
   ]
  },
  {
   "cell_type": "markdown",
   "id": "536eb3e3-d1a6-4bf9-8bf7-3ab929b3dd77",
   "metadata": {
    "id": "536eb3e3-d1a6-4bf9-8bf7-3ab929b3dd77"
   },
   "source": [
    "## `2`. 추천시스템"
   ]
  },
  {
   "cell_type": "markdown",
   "id": "f2ebb584-3fc7-4e3d-8ebd-5f2a0a74afc6",
   "metadata": {
    "id": "f2ebb584-3fc7-4e3d-8ebd-5f2a0a74afc6"
   },
   "source": [
    "아래를 이용하여 rcmd_anal.csv 를 다운로드 받고 dls오브젝트를 만들어라."
   ]
  },
  {
   "cell_type": "code",
   "execution_count": 53,
   "id": "08428e62-ce80-43df-a30c-699d284d4786",
   "metadata": {
    "id": "08428e62-ce80-43df-a30c-699d284d4786"
   },
   "outputs": [],
   "source": [
    "df = pd.read_csv('https://raw.githubusercontent.com/guebin/DL2022/master/_notebooks/2022-09-08-rcmd_anal.csv')"
   ]
  },
  {
   "cell_type": "code",
   "execution_count": 54,
   "id": "77639105-f47c-438c-b5aa-4ac59b075496",
   "metadata": {},
   "outputs": [
    {
     "data": {
      "text/html": [
       "<div>\n",
       "<style scoped>\n",
       "    .dataframe tbody tr th:only-of-type {\n",
       "        vertical-align: middle;\n",
       "    }\n",
       "\n",
       "    .dataframe tbody tr th {\n",
       "        vertical-align: top;\n",
       "    }\n",
       "\n",
       "    .dataframe thead th {\n",
       "        text-align: right;\n",
       "    }\n",
       "</style>\n",
       "<table border=\"1\" class=\"dataframe\">\n",
       "  <thead>\n",
       "    <tr style=\"text-align: right;\">\n",
       "      <th></th>\n",
       "      <th>user</th>\n",
       "      <th>item</th>\n",
       "      <th>rating</th>\n",
       "      <th>item_name</th>\n",
       "    </tr>\n",
       "  </thead>\n",
       "  <tbody>\n",
       "    <tr>\n",
       "      <th>0</th>\n",
       "      <td>1</td>\n",
       "      <td>15</td>\n",
       "      <td>1.084308</td>\n",
       "      <td>홍차5</td>\n",
       "    </tr>\n",
       "    <tr>\n",
       "      <th>1</th>\n",
       "      <td>1</td>\n",
       "      <td>1</td>\n",
       "      <td>4.149209</td>\n",
       "      <td>커피1</td>\n",
       "    </tr>\n",
       "    <tr>\n",
       "      <th>2</th>\n",
       "      <td>1</td>\n",
       "      <td>11</td>\n",
       "      <td>1.142659</td>\n",
       "      <td>홍차1</td>\n",
       "    </tr>\n",
       "    <tr>\n",
       "      <th>3</th>\n",
       "      <td>1</td>\n",
       "      <td>5</td>\n",
       "      <td>4.033415</td>\n",
       "      <td>커피5</td>\n",
       "    </tr>\n",
       "    <tr>\n",
       "      <th>4</th>\n",
       "      <td>1</td>\n",
       "      <td>4</td>\n",
       "      <td>4.078139</td>\n",
       "      <td>커피4</td>\n",
       "    </tr>\n",
       "    <tr>\n",
       "      <th>...</th>\n",
       "      <td>...</td>\n",
       "      <td>...</td>\n",
       "      <td>...</td>\n",
       "      <td>...</td>\n",
       "    </tr>\n",
       "    <tr>\n",
       "      <th>995</th>\n",
       "      <td>100</td>\n",
       "      <td>18</td>\n",
       "      <td>4.104276</td>\n",
       "      <td>홍차8</td>\n",
       "    </tr>\n",
       "    <tr>\n",
       "      <th>996</th>\n",
       "      <td>100</td>\n",
       "      <td>17</td>\n",
       "      <td>4.164773</td>\n",
       "      <td>홍차7</td>\n",
       "    </tr>\n",
       "    <tr>\n",
       "      <th>997</th>\n",
       "      <td>100</td>\n",
       "      <td>14</td>\n",
       "      <td>4.026915</td>\n",
       "      <td>홍차4</td>\n",
       "    </tr>\n",
       "    <tr>\n",
       "      <th>998</th>\n",
       "      <td>100</td>\n",
       "      <td>4</td>\n",
       "      <td>0.838720</td>\n",
       "      <td>커피4</td>\n",
       "    </tr>\n",
       "    <tr>\n",
       "      <th>999</th>\n",
       "      <td>100</td>\n",
       "      <td>7</td>\n",
       "      <td>1.094826</td>\n",
       "      <td>커피7</td>\n",
       "    </tr>\n",
       "  </tbody>\n",
       "</table>\n",
       "<p>1000 rows × 4 columns</p>\n",
       "</div>"
      ],
      "text/plain": [
       "     user  item    rating item_name\n",
       "0       1    15  1.084308       홍차5\n",
       "1       1     1  4.149209       커피1\n",
       "2       1    11  1.142659       홍차1\n",
       "3       1     5  4.033415       커피5\n",
       "4       1     4  4.078139       커피4\n",
       "..    ...   ...       ...       ...\n",
       "995   100    18  4.104276       홍차8\n",
       "996   100    17  4.164773       홍차7\n",
       "997   100    14  4.026915       홍차4\n",
       "998   100     4  0.838720       커피4\n",
       "999   100     7  1.094826       커피7\n",
       "\n",
       "[1000 rows x 4 columns]"
      ]
     },
     "execution_count": 54,
     "metadata": {},
     "output_type": "execute_result"
    }
   ],
   "source": [
    "df"
   ]
  },
  {
   "cell_type": "markdown",
   "id": "a079de97-5b08-46c3-b57d-10d0042c5e68",
   "metadata": {
    "id": "a079de97-5b08-46c3-b57d-10d0042c5e68"
   },
   "source": [
    "`(2)` dls와 lrnr 오브젝트를 생성하고 lrnr 오브젝트를 학습하라. "
   ]
  },
  {
   "cell_type": "code",
   "execution_count": 55,
   "id": "392ca4d7-9748-45b3-b6ea-55cc93251569",
   "metadata": {},
   "outputs": [],
   "source": [
    "dls = CollabDataLoaders.from_df(df)"
   ]
  },
  {
   "cell_type": "code",
   "execution_count": 56,
   "id": "c93cb1a4-ac4a-4bca-8d1b-10bb4cfd8e44",
   "metadata": {},
   "outputs": [
    {
     "data": {
      "text/html": [
       "<table border=\"1\" class=\"dataframe\">\n",
       "  <thead>\n",
       "    <tr style=\"text-align: right;\">\n",
       "      <th></th>\n",
       "      <th>user</th>\n",
       "      <th>item</th>\n",
       "      <th>rating</th>\n",
       "    </tr>\n",
       "  </thead>\n",
       "  <tbody>\n",
       "    <tr>\n",
       "      <th>0</th>\n",
       "      <td>14</td>\n",
       "      <td>17</td>\n",
       "      <td>1.001649</td>\n",
       "    </tr>\n",
       "    <tr>\n",
       "      <th>1</th>\n",
       "      <td>76</td>\n",
       "      <td>1</td>\n",
       "      <td>1.216447</td>\n",
       "    </tr>\n",
       "    <tr>\n",
       "      <th>2</th>\n",
       "      <td>87</td>\n",
       "      <td>16</td>\n",
       "      <td>4.172413</td>\n",
       "    </tr>\n",
       "    <tr>\n",
       "      <th>3</th>\n",
       "      <td>66</td>\n",
       "      <td>3</td>\n",
       "      <td>1.094215</td>\n",
       "    </tr>\n",
       "    <tr>\n",
       "      <th>4</th>\n",
       "      <td>17</td>\n",
       "      <td>17</td>\n",
       "      <td>1.096392</td>\n",
       "    </tr>\n",
       "    <tr>\n",
       "      <th>5</th>\n",
       "      <td>31</td>\n",
       "      <td>9</td>\n",
       "      <td>3.994691</td>\n",
       "    </tr>\n",
       "    <tr>\n",
       "      <th>6</th>\n",
       "      <td>86</td>\n",
       "      <td>10</td>\n",
       "      <td>0.878860</td>\n",
       "    </tr>\n",
       "    <tr>\n",
       "      <th>7</th>\n",
       "      <td>91</td>\n",
       "      <td>8</td>\n",
       "      <td>0.998725</td>\n",
       "    </tr>\n",
       "    <tr>\n",
       "      <th>8</th>\n",
       "      <td>15</td>\n",
       "      <td>20</td>\n",
       "      <td>0.839126</td>\n",
       "    </tr>\n",
       "    <tr>\n",
       "      <th>9</th>\n",
       "      <td>43</td>\n",
       "      <td>11</td>\n",
       "      <td>0.614789</td>\n",
       "    </tr>\n",
       "  </tbody>\n",
       "</table>"
      ],
      "text/plain": [
       "<IPython.core.display.HTML object>"
      ]
     },
     "metadata": {},
     "output_type": "display_data"
    }
   ],
   "source": [
    "dls.show_batch()"
   ]
  },
  {
   "cell_type": "code",
   "execution_count": 57,
   "id": "f2e52a9b-7e28-40d7-8017-32ae265f3d33",
   "metadata": {},
   "outputs": [],
   "source": [
    "X,y = dls.one_batch()"
   ]
  },
  {
   "cell_type": "code",
   "execution_count": 58,
   "id": "6bd204ea-acc6-4f71-b601-57686ffceae0",
   "metadata": {},
   "outputs": [],
   "source": [
    "lrnr = collab_learner(dls,y_range = (0,5))"
   ]
  },
  {
   "cell_type": "code",
   "execution_count": 59,
   "id": "cb3fdef5-7e8b-41fc-910c-9779311c0b95",
   "metadata": {},
   "outputs": [
    {
     "data": {
      "text/html": [
       "<table border=\"1\" class=\"dataframe\">\n",
       "  <thead>\n",
       "    <tr style=\"text-align: left;\">\n",
       "      <th>epoch</th>\n",
       "      <th>train_loss</th>\n",
       "      <th>valid_loss</th>\n",
       "      <th>time</th>\n",
       "    </tr>\n",
       "  </thead>\n",
       "  <tbody>\n",
       "    <tr>\n",
       "      <td>0</td>\n",
       "      <td>2.310743</td>\n",
       "      <td>2.351605</td>\n",
       "      <td>00:00</td>\n",
       "    </tr>\n",
       "    <tr>\n",
       "      <td>1</td>\n",
       "      <td>2.306513</td>\n",
       "      <td>2.347171</td>\n",
       "      <td>00:00</td>\n",
       "    </tr>\n",
       "    <tr>\n",
       "      <td>2</td>\n",
       "      <td>2.294810</td>\n",
       "      <td>2.328208</td>\n",
       "      <td>00:00</td>\n",
       "    </tr>\n",
       "    <tr>\n",
       "      <td>3</td>\n",
       "      <td>2.275643</td>\n",
       "      <td>2.280786</td>\n",
       "      <td>00:00</td>\n",
       "    </tr>\n",
       "    <tr>\n",
       "      <td>4</td>\n",
       "      <td>2.242993</td>\n",
       "      <td>2.193831</td>\n",
       "      <td>00:00</td>\n",
       "    </tr>\n",
       "    <tr>\n",
       "      <td>5</td>\n",
       "      <td>2.186889</td>\n",
       "      <td>2.060993</td>\n",
       "      <td>00:00</td>\n",
       "    </tr>\n",
       "    <tr>\n",
       "      <td>6</td>\n",
       "      <td>2.103963</td>\n",
       "      <td>1.884362</td>\n",
       "      <td>00:00</td>\n",
       "    </tr>\n",
       "    <tr>\n",
       "      <td>7</td>\n",
       "      <td>1.993417</td>\n",
       "      <td>1.670821</td>\n",
       "      <td>00:00</td>\n",
       "    </tr>\n",
       "    <tr>\n",
       "      <td>8</td>\n",
       "      <td>1.854657</td>\n",
       "      <td>1.435888</td>\n",
       "      <td>00:00</td>\n",
       "    </tr>\n",
       "    <tr>\n",
       "      <td>9</td>\n",
       "      <td>1.696534</td>\n",
       "      <td>1.191992</td>\n",
       "      <td>00:00</td>\n",
       "    </tr>\n",
       "    <tr>\n",
       "      <td>10</td>\n",
       "      <td>1.520735</td>\n",
       "      <td>0.954744</td>\n",
       "      <td>00:00</td>\n",
       "    </tr>\n",
       "    <tr>\n",
       "      <td>11</td>\n",
       "      <td>1.337875</td>\n",
       "      <td>0.739161</td>\n",
       "      <td>00:00</td>\n",
       "    </tr>\n",
       "    <tr>\n",
       "      <td>12</td>\n",
       "      <td>1.155077</td>\n",
       "      <td>0.554484</td>\n",
       "      <td>00:00</td>\n",
       "    </tr>\n",
       "    <tr>\n",
       "      <td>13</td>\n",
       "      <td>0.981023</td>\n",
       "      <td>0.408074</td>\n",
       "      <td>00:00</td>\n",
       "    </tr>\n",
       "    <tr>\n",
       "      <td>14</td>\n",
       "      <td>0.821354</td>\n",
       "      <td>0.296171</td>\n",
       "      <td>00:00</td>\n",
       "    </tr>\n",
       "    <tr>\n",
       "      <td>15</td>\n",
       "      <td>0.679974</td>\n",
       "      <td>0.214805</td>\n",
       "      <td>00:00</td>\n",
       "    </tr>\n",
       "    <tr>\n",
       "      <td>16</td>\n",
       "      <td>0.557935</td>\n",
       "      <td>0.158177</td>\n",
       "      <td>00:00</td>\n",
       "    </tr>\n",
       "    <tr>\n",
       "      <td>17</td>\n",
       "      <td>0.455149</td>\n",
       "      <td>0.119722</td>\n",
       "      <td>00:00</td>\n",
       "    </tr>\n",
       "    <tr>\n",
       "      <td>18</td>\n",
       "      <td>0.370461</td>\n",
       "      <td>0.094501</td>\n",
       "      <td>00:00</td>\n",
       "    </tr>\n",
       "    <tr>\n",
       "      <td>19</td>\n",
       "      <td>0.301134</td>\n",
       "      <td>0.078729</td>\n",
       "      <td>00:00</td>\n",
       "    </tr>\n",
       "    <tr>\n",
       "      <td>20</td>\n",
       "      <td>0.245380</td>\n",
       "      <td>0.068701</td>\n",
       "      <td>00:00</td>\n",
       "    </tr>\n",
       "    <tr>\n",
       "      <td>21</td>\n",
       "      <td>0.200806</td>\n",
       "      <td>0.062273</td>\n",
       "      <td>00:00</td>\n",
       "    </tr>\n",
       "    <tr>\n",
       "      <td>22</td>\n",
       "      <td>0.165517</td>\n",
       "      <td>0.058454</td>\n",
       "      <td>00:00</td>\n",
       "    </tr>\n",
       "    <tr>\n",
       "      <td>23</td>\n",
       "      <td>0.137320</td>\n",
       "      <td>0.056248</td>\n",
       "      <td>00:00</td>\n",
       "    </tr>\n",
       "    <tr>\n",
       "      <td>24</td>\n",
       "      <td>0.115193</td>\n",
       "      <td>0.054569</td>\n",
       "      <td>00:00</td>\n",
       "    </tr>\n",
       "    <tr>\n",
       "      <td>25</td>\n",
       "      <td>0.097692</td>\n",
       "      <td>0.053768</td>\n",
       "      <td>00:00</td>\n",
       "    </tr>\n",
       "    <tr>\n",
       "      <td>26</td>\n",
       "      <td>0.083833</td>\n",
       "      <td>0.053043</td>\n",
       "      <td>00:00</td>\n",
       "    </tr>\n",
       "    <tr>\n",
       "      <td>27</td>\n",
       "      <td>0.072758</td>\n",
       "      <td>0.053126</td>\n",
       "      <td>00:00</td>\n",
       "    </tr>\n",
       "    <tr>\n",
       "      <td>28</td>\n",
       "      <td>0.063866</td>\n",
       "      <td>0.053259</td>\n",
       "      <td>00:00</td>\n",
       "    </tr>\n",
       "    <tr>\n",
       "      <td>29</td>\n",
       "      <td>0.057011</td>\n",
       "      <td>0.053435</td>\n",
       "      <td>00:00</td>\n",
       "    </tr>\n",
       "  </tbody>\n",
       "</table>"
      ],
      "text/plain": [
       "<IPython.core.display.HTML object>"
      ]
     },
     "metadata": {},
     "output_type": "display_data"
    }
   ],
   "source": [
    "lrnr.fit(30)"
   ]
  },
  {
   "cell_type": "markdown",
   "id": "34ea3582-0a87-4725-a7a8-7313e62c8dee",
   "metadata": {
    "id": "64ce94a0-daee-4ca3-9f4b-f71c5e7af768"
   },
   "source": [
    "`(1)` 73번 유저가 먹은 아이템 및 평점을 출력하는 코드를 작성하라. 이를 기반으로 73번 유저가 어떠한 취향인지 파악하라. "
   ]
  },
  {
   "cell_type": "code",
   "execution_count": 88,
   "id": "28d9d7d8-25b5-437f-8fbd-c935f376d6a0",
   "metadata": {},
   "outputs": [
    {
     "data": {
      "text/html": [
       "<div>\n",
       "<style scoped>\n",
       "    .dataframe tbody tr th:only-of-type {\n",
       "        vertical-align: middle;\n",
       "    }\n",
       "\n",
       "    .dataframe tbody tr th {\n",
       "        vertical-align: top;\n",
       "    }\n",
       "\n",
       "    .dataframe thead th {\n",
       "        text-align: right;\n",
       "    }\n",
       "</style>\n",
       "<table border=\"1\" class=\"dataframe\">\n",
       "  <thead>\n",
       "    <tr style=\"text-align: right;\">\n",
       "      <th></th>\n",
       "      <th>user</th>\n",
       "      <th>item</th>\n",
       "      <th>rating</th>\n",
       "      <th>item_name</th>\n",
       "    </tr>\n",
       "  </thead>\n",
       "  <tbody>\n",
       "    <tr>\n",
       "      <th>728</th>\n",
       "      <td>73</td>\n",
       "      <td>6</td>\n",
       "      <td>0.868370</td>\n",
       "      <td>커피6</td>\n",
       "    </tr>\n",
       "    <tr>\n",
       "      <th>726</th>\n",
       "      <td>73</td>\n",
       "      <td>1</td>\n",
       "      <td>0.887292</td>\n",
       "      <td>커피1</td>\n",
       "    </tr>\n",
       "    <tr>\n",
       "      <th>724</th>\n",
       "      <td>73</td>\n",
       "      <td>2</td>\n",
       "      <td>0.943742</td>\n",
       "      <td>커피2</td>\n",
       "    </tr>\n",
       "    <tr>\n",
       "      <th>727</th>\n",
       "      <td>73</td>\n",
       "      <td>7</td>\n",
       "      <td>0.947641</td>\n",
       "      <td>커피7</td>\n",
       "    </tr>\n",
       "    <tr>\n",
       "      <th>722</th>\n",
       "      <td>73</td>\n",
       "      <td>9</td>\n",
       "      <td>1.119541</td>\n",
       "      <td>커피9</td>\n",
       "    </tr>\n",
       "    <tr>\n",
       "      <th>725</th>\n",
       "      <td>73</td>\n",
       "      <td>4</td>\n",
       "      <td>1.152405</td>\n",
       "      <td>커피4</td>\n",
       "    </tr>\n",
       "    <tr>\n",
       "      <th>720</th>\n",
       "      <td>73</td>\n",
       "      <td>20</td>\n",
       "      <td>3.733853</td>\n",
       "      <td>홍차10</td>\n",
       "    </tr>\n",
       "    <tr>\n",
       "      <th>723</th>\n",
       "      <td>73</td>\n",
       "      <td>13</td>\n",
       "      <td>3.840801</td>\n",
       "      <td>홍차3</td>\n",
       "    </tr>\n",
       "    <tr>\n",
       "      <th>729</th>\n",
       "      <td>73</td>\n",
       "      <td>17</td>\n",
       "      <td>3.873590</td>\n",
       "      <td>홍차7</td>\n",
       "    </tr>\n",
       "    <tr>\n",
       "      <th>721</th>\n",
       "      <td>73</td>\n",
       "      <td>18</td>\n",
       "      <td>3.975004</td>\n",
       "      <td>홍차8</td>\n",
       "    </tr>\n",
       "  </tbody>\n",
       "</table>\n",
       "</div>"
      ],
      "text/plain": [
       "     user  item    rating item_name\n",
       "728    73     6  0.868370       커피6\n",
       "726    73     1  0.887292       커피1\n",
       "724    73     2  0.943742       커피2\n",
       "727    73     7  0.947641       커피7\n",
       "722    73     9  1.119541       커피9\n",
       "725    73     4  1.152405       커피4\n",
       "720    73    20  3.733853      홍차10\n",
       "723    73    13  3.840801       홍차3\n",
       "729    73    17  3.873590       홍차7\n",
       "721    73    18  3.975004       홍차8"
      ]
     },
     "execution_count": 88,
     "metadata": {},
     "output_type": "execute_result"
    }
   ],
   "source": [
    "df.query(\"user==73\").sort_values(\"rating\")"
   ]
  },
  {
   "cell_type": "markdown",
   "id": "7f9c2186-4c66-4c96-aa85-4c25d64db127",
   "metadata": {},
   "source": [
    "**Answer**\n",
    "- 73번 유저는 커피를 마셨을때, 평점이 낮았으며, 홍차를 마셨을때 평점이 높은 것으로 보아\n",
    "- 커피보다 홍차를 좋아한다."
   ]
  },
  {
   "cell_type": "markdown",
   "id": "0c1da7b6-3969-4dec-b30e-0a4a051b1ce2",
   "metadata": {
    "id": "0c1da7b6-3969-4dec-b30e-0a4a051b1ce2"
   },
   "source": [
    "`(3)` 아래와 같은 데이터 프레임을 생성하고 df_new 에 저장하라. "
   ]
  },
  {
   "cell_type": "code",
   "execution_count": 62,
   "id": "9ba83858-a50b-4340-aef4-8f70aaa37b12",
   "metadata": {
    "id": "9ba83858-a50b-4340-aef4-8f70aaa37b12",
    "outputId": "0c735307-7732-42cc-a4f2-07af3107b713"
   },
   "outputs": [
    {
     "data": {
      "text/html": [
       "<table border=\"1\" class=\"dataframe\">\n",
       "  <thead>\n",
       "    <tr style=\"text-align: right;\">\n",
       "      <th></th>\n",
       "      <th>user</th>\n",
       "      <th>item</th>\n",
       "    </tr>\n",
       "  </thead>\n",
       "  <tbody>\n",
       "    <tr>\n",
       "      <th>0</th>\n",
       "      <td>73</td>\n",
       "      <td>1</td>\n",
       "    </tr>\n",
       "    <tr>\n",
       "      <th>1</th>\n",
       "      <td>73</td>\n",
       "      <td>2</td>\n",
       "    </tr>\n",
       "    <tr>\n",
       "      <th>2</th>\n",
       "      <td>73</td>\n",
       "      <td>3</td>\n",
       "    </tr>\n",
       "    <tr>\n",
       "      <th>3</th>\n",
       "      <td>73</td>\n",
       "      <td>4</td>\n",
       "    </tr>\n",
       "    <tr>\n",
       "      <th>4</th>\n",
       "      <td>73</td>\n",
       "      <td>5</td>\n",
       "    </tr>\n",
       "    <tr>\n",
       "      <th>5</th>\n",
       "      <td>73</td>\n",
       "      <td>6</td>\n",
       "    </tr>\n",
       "    <tr>\n",
       "      <th>6</th>\n",
       "      <td>73</td>\n",
       "      <td>7</td>\n",
       "    </tr>\n",
       "    <tr>\n",
       "      <th>7</th>\n",
       "      <td>73</td>\n",
       "      <td>8</td>\n",
       "    </tr>\n",
       "    <tr>\n",
       "      <th>8</th>\n",
       "      <td>73</td>\n",
       "      <td>9</td>\n",
       "    </tr>\n",
       "    <tr>\n",
       "      <th>9</th>\n",
       "      <td>73</td>\n",
       "      <td>10</td>\n",
       "    </tr>\n",
       "    <tr>\n",
       "      <th>10</th>\n",
       "      <td>73</td>\n",
       "      <td>11</td>\n",
       "    </tr>\n",
       "    <tr>\n",
       "      <th>11</th>\n",
       "      <td>73</td>\n",
       "      <td>12</td>\n",
       "    </tr>\n",
       "    <tr>\n",
       "      <th>12</th>\n",
       "      <td>73</td>\n",
       "      <td>13</td>\n",
       "    </tr>\n",
       "    <tr>\n",
       "      <th>13</th>\n",
       "      <td>73</td>\n",
       "      <td>14</td>\n",
       "    </tr>\n",
       "    <tr>\n",
       "      <th>14</th>\n",
       "      <td>73</td>\n",
       "      <td>15</td>\n",
       "    </tr>\n",
       "    <tr>\n",
       "      <th>15</th>\n",
       "      <td>73</td>\n",
       "      <td>16</td>\n",
       "    </tr>\n",
       "    <tr>\n",
       "      <th>16</th>\n",
       "      <td>73</td>\n",
       "      <td>17</td>\n",
       "    </tr>\n",
       "    <tr>\n",
       "      <th>17</th>\n",
       "      <td>73</td>\n",
       "      <td>18</td>\n",
       "    </tr>\n",
       "    <tr>\n",
       "      <th>18</th>\n",
       "      <td>73</td>\n",
       "      <td>19</td>\n",
       "    </tr>\n",
       "    <tr>\n",
       "      <th>19</th>\n",
       "      <td>73</td>\n",
       "      <td>20</td>\n",
       "    </tr>\n",
       "  </tbody>\n",
       "</table>"
      ],
      "text/plain": [
       "<IPython.core.display.HTML object>"
      ]
     },
     "execution_count": 62,
     "metadata": {},
     "output_type": "execute_result"
    }
   ],
   "source": [
    "#hide\n",
    "import IPython \n",
    "_html='<table border=\"1\" class=\"dataframe\">\\n  <thead>\\n    <tr style=\"text-align: right;\">\\n      <th></th>\\n      <th>user</th>\\n      <th>item</th>\\n    </tr>\\n  </thead>\\n  <tbody>\\n    <tr>\\n      <th>0</th>\\n      <td>73</td>\\n      <td>1</td>\\n    </tr>\\n    <tr>\\n      <th>1</th>\\n      <td>73</td>\\n      <td>2</td>\\n    </tr>\\n    <tr>\\n      <th>2</th>\\n      <td>73</td>\\n      <td>3</td>\\n    </tr>\\n    <tr>\\n      <th>3</th>\\n      <td>73</td>\\n      <td>4</td>\\n    </tr>\\n    <tr>\\n      <th>4</th>\\n      <td>73</td>\\n      <td>5</td>\\n    </tr>\\n    <tr>\\n      <th>5</th>\\n      <td>73</td>\\n      <td>6</td>\\n    </tr>\\n    <tr>\\n      <th>6</th>\\n      <td>73</td>\\n      <td>7</td>\\n    </tr>\\n    <tr>\\n      <th>7</th>\\n      <td>73</td>\\n      <td>8</td>\\n    </tr>\\n    <tr>\\n      <th>8</th>\\n      <td>73</td>\\n      <td>9</td>\\n    </tr>\\n    <tr>\\n      <th>9</th>\\n      <td>73</td>\\n      <td>10</td>\\n    </tr>\\n    <tr>\\n      <th>10</th>\\n      <td>73</td>\\n      <td>11</td>\\n    </tr>\\n    <tr>\\n      <th>11</th>\\n      <td>73</td>\\n      <td>12</td>\\n    </tr>\\n    <tr>\\n      <th>12</th>\\n      <td>73</td>\\n      <td>13</td>\\n    </tr>\\n    <tr>\\n      <th>13</th>\\n      <td>73</td>\\n      <td>14</td>\\n    </tr>\\n    <tr>\\n      <th>14</th>\\n      <td>73</td>\\n      <td>15</td>\\n    </tr>\\n    <tr>\\n      <th>15</th>\\n      <td>73</td>\\n      <td>16</td>\\n    </tr>\\n    <tr>\\n      <th>16</th>\\n      <td>73</td>\\n      <td>17</td>\\n    </tr>\\n    <tr>\\n      <th>17</th>\\n      <td>73</td>\\n      <td>18</td>\\n    </tr>\\n    <tr>\\n      <th>18</th>\\n      <td>73</td>\\n      <td>19</td>\\n    </tr>\\n    <tr>\\n      <th>19</th>\\n      <td>73</td>\\n      <td>20</td>\\n    </tr>\\n  </tbody>\\n</table>'\n",
    "IPython.display.HTML(_html)"
   ]
  },
  {
   "cell_type": "code",
   "execution_count": 99,
   "id": "973853c0-eefa-4d48-9939-dbc36b9b261a",
   "metadata": {},
   "outputs": [],
   "source": [
    "user73 = []"
   ]
  },
  {
   "cell_type": "code",
   "execution_count": 100,
   "id": "4e0ca81b-97d1-4a82-9e2c-62f1a7d3ea33",
   "metadata": {},
   "outputs": [],
   "source": [
    "for i in range(1,21):\n",
    "    user73.append(73)"
   ]
  },
  {
   "cell_type": "code",
   "execution_count": 101,
   "id": "99617745-0458-4a07-9137-02328d9c97ac",
   "metadata": {},
   "outputs": [],
   "source": [
    "item20 = []"
   ]
  },
  {
   "cell_type": "code",
   "execution_count": 102,
   "id": "1d194eb2-8198-4ca9-970a-7d5a13fe66c6",
   "metadata": {},
   "outputs": [],
   "source": [
    "for i in range(1,21):\n",
    "    item20.append(i)"
   ]
  },
  {
   "cell_type": "code",
   "execution_count": 104,
   "id": "73002689-2e9f-454a-aac7-9ff95f2c6847",
   "metadata": {},
   "outputs": [],
   "source": [
    "df_new = pd.DataFrame({'user':user73,'item':item20})"
   ]
  },
  {
   "cell_type": "code",
   "execution_count": 105,
   "id": "48d625f1-a29d-4a88-9893-577f8f1dcd14",
   "metadata": {},
   "outputs": [
    {
     "data": {
      "text/html": [
       "<div>\n",
       "<style scoped>\n",
       "    .dataframe tbody tr th:only-of-type {\n",
       "        vertical-align: middle;\n",
       "    }\n",
       "\n",
       "    .dataframe tbody tr th {\n",
       "        vertical-align: top;\n",
       "    }\n",
       "\n",
       "    .dataframe thead th {\n",
       "        text-align: right;\n",
       "    }\n",
       "</style>\n",
       "<table border=\"1\" class=\"dataframe\">\n",
       "  <thead>\n",
       "    <tr style=\"text-align: right;\">\n",
       "      <th></th>\n",
       "      <th>user</th>\n",
       "      <th>item</th>\n",
       "    </tr>\n",
       "  </thead>\n",
       "  <tbody>\n",
       "    <tr>\n",
       "      <th>0</th>\n",
       "      <td>73</td>\n",
       "      <td>1</td>\n",
       "    </tr>\n",
       "    <tr>\n",
       "      <th>1</th>\n",
       "      <td>73</td>\n",
       "      <td>2</td>\n",
       "    </tr>\n",
       "    <tr>\n",
       "      <th>2</th>\n",
       "      <td>73</td>\n",
       "      <td>3</td>\n",
       "    </tr>\n",
       "    <tr>\n",
       "      <th>3</th>\n",
       "      <td>73</td>\n",
       "      <td>4</td>\n",
       "    </tr>\n",
       "    <tr>\n",
       "      <th>4</th>\n",
       "      <td>73</td>\n",
       "      <td>5</td>\n",
       "    </tr>\n",
       "    <tr>\n",
       "      <th>5</th>\n",
       "      <td>73</td>\n",
       "      <td>6</td>\n",
       "    </tr>\n",
       "    <tr>\n",
       "      <th>6</th>\n",
       "      <td>73</td>\n",
       "      <td>7</td>\n",
       "    </tr>\n",
       "    <tr>\n",
       "      <th>7</th>\n",
       "      <td>73</td>\n",
       "      <td>8</td>\n",
       "    </tr>\n",
       "    <tr>\n",
       "      <th>8</th>\n",
       "      <td>73</td>\n",
       "      <td>9</td>\n",
       "    </tr>\n",
       "    <tr>\n",
       "      <th>9</th>\n",
       "      <td>73</td>\n",
       "      <td>10</td>\n",
       "    </tr>\n",
       "    <tr>\n",
       "      <th>10</th>\n",
       "      <td>73</td>\n",
       "      <td>11</td>\n",
       "    </tr>\n",
       "    <tr>\n",
       "      <th>11</th>\n",
       "      <td>73</td>\n",
       "      <td>12</td>\n",
       "    </tr>\n",
       "    <tr>\n",
       "      <th>12</th>\n",
       "      <td>73</td>\n",
       "      <td>13</td>\n",
       "    </tr>\n",
       "    <tr>\n",
       "      <th>13</th>\n",
       "      <td>73</td>\n",
       "      <td>14</td>\n",
       "    </tr>\n",
       "    <tr>\n",
       "      <th>14</th>\n",
       "      <td>73</td>\n",
       "      <td>15</td>\n",
       "    </tr>\n",
       "    <tr>\n",
       "      <th>15</th>\n",
       "      <td>73</td>\n",
       "      <td>16</td>\n",
       "    </tr>\n",
       "    <tr>\n",
       "      <th>16</th>\n",
       "      <td>73</td>\n",
       "      <td>17</td>\n",
       "    </tr>\n",
       "    <tr>\n",
       "      <th>17</th>\n",
       "      <td>73</td>\n",
       "      <td>18</td>\n",
       "    </tr>\n",
       "    <tr>\n",
       "      <th>18</th>\n",
       "      <td>73</td>\n",
       "      <td>19</td>\n",
       "    </tr>\n",
       "    <tr>\n",
       "      <th>19</th>\n",
       "      <td>73</td>\n",
       "      <td>20</td>\n",
       "    </tr>\n",
       "  </tbody>\n",
       "</table>\n",
       "</div>"
      ],
      "text/plain": [
       "    user  item\n",
       "0     73     1\n",
       "1     73     2\n",
       "2     73     3\n",
       "3     73     4\n",
       "4     73     5\n",
       "5     73     6\n",
       "6     73     7\n",
       "7     73     8\n",
       "8     73     9\n",
       "9     73    10\n",
       "10    73    11\n",
       "11    73    12\n",
       "12    73    13\n",
       "13    73    14\n",
       "14    73    15\n",
       "15    73    16\n",
       "16    73    17\n",
       "17    73    18\n",
       "18    73    19\n",
       "19    73    20"
      ]
     },
     "execution_count": 105,
     "metadata": {},
     "output_type": "execute_result"
    }
   ],
   "source": [
    "df_new"
   ]
  },
  {
   "cell_type": "markdown",
   "id": "34cddf69-14c0-41a4-87ba-c8158eb16a7f",
   "metadata": {
    "id": "34cddf69-14c0-41a4-87ba-c8158eb16a7f"
   },
   "source": [
    "`(4)` 아래의 코드를 이용하여 73번 유저의 취향을 파악하라. 73번 유저가 커피3, 커피5를 먹는다면 얼마정도의 평점을 줄 것이라 예측되는가? \n",
    "\n",
    "```Python\n",
    "_dl = dls.test_dl(df_new)\n",
    "lrnr.get_preds(dl=_dl)\n",
    "```\n"
   ]
  },
  {
   "cell_type": "code",
   "execution_count": 106,
   "id": "6450e646-e7d4-452f-85f2-0f839e4d79bc",
   "metadata": {},
   "outputs": [],
   "source": [
    "dl = dls.test_dl(df_new)"
   ]
  },
  {
   "cell_type": "code",
   "execution_count": 107,
   "id": "35d8b916-a2ca-45d8-b7f8-c9b20892bf81",
   "metadata": {},
   "outputs": [
    {
     "data": {
      "text/html": [],
      "text/plain": [
       "<IPython.core.display.HTML object>"
      ]
     },
     "metadata": {},
     "output_type": "display_data"
    },
    {
     "data": {
      "text/plain": [
       "(tensor([1.0069, 1.0587, 1.0309, 1.0215, 1.0226, 1.0065, 1.0134, 1.0148, 1.0413,\n",
       "         0.9935, 3.7692, 3.9378, 3.9076, 3.9178, 3.9402, 3.9270, 3.8456, 3.9687,\n",
       "         3.8791, 3.9234]),\n",
       " None)"
      ]
     },
     "execution_count": 107,
     "metadata": {},
     "output_type": "execute_result"
    }
   ],
   "source": [
    "lrnr.get_preds(dl=dl)"
   ]
  },
  {
   "cell_type": "markdown",
   "id": "f032c4c6-0436-429e-a19c-76027c9d910e",
   "metadata": {},
   "source": [
    "**Answer**\n",
    "- 커피10개, 홍차10개 순\n",
    "- 커피 3을 마셨을 때 1.0309의 평점을 줬을 것으로 예측된다.\n",
    "- 커피 5를 마셨을때 1.0226의 평점을 줬을 것으로 예측된다."
   ]
  },
  {
   "cell_type": "markdown",
   "id": "9f65d77c-baea-42b4-825f-9a509559686a",
   "metadata": {},
   "source": [
    "## `3`. 시퀀스자료분석"
   ]
  },
  {
   "cell_type": "markdown",
   "id": "8a20ef78-837d-45dd-af33-6be25800734c",
   "metadata": {
    "id": "8a20ef78-837d-45dd-af33-6be25800734c"
   },
   "source": [
    "아래를 이용하여 자료를 다운로드 받아라. "
   ]
  },
  {
   "cell_type": "code",
   "execution_count": 200,
   "id": "cec1d5c5-f3e3-4bfe-be18-80a931430b44",
   "metadata": {
    "id": "cec1d5c5-f3e3-4bfe-be18-80a931430b44"
   },
   "outputs": [],
   "source": [
    "df = pd.read_csv('https://raw.githubusercontent.com/guebin/DL2022/master/_notebooks/2022-09-19-human_numbers_100.csv')"
   ]
  },
  {
   "cell_type": "code",
   "execution_count": 201,
   "id": "fe7ee8de-04fd-469e-8a98-91105e7dafe7",
   "metadata": {},
   "outputs": [
    {
     "data": {
      "text/html": [
       "<div>\n",
       "<style scoped>\n",
       "    .dataframe tbody tr th:only-of-type {\n",
       "        vertical-align: middle;\n",
       "    }\n",
       "\n",
       "    .dataframe tbody tr th {\n",
       "        vertical-align: top;\n",
       "    }\n",
       "\n",
       "    .dataframe thead th {\n",
       "        text-align: right;\n",
       "    }\n",
       "</style>\n",
       "<table border=\"1\" class=\"dataframe\">\n",
       "  <thead>\n",
       "    <tr style=\"text-align: right;\">\n",
       "      <th></th>\n",
       "      <th>Unnamed: 0</th>\n",
       "      <th>text</th>\n",
       "    </tr>\n",
       "  </thead>\n",
       "  <tbody>\n",
       "    <tr>\n",
       "      <th>0</th>\n",
       "      <td>0</td>\n",
       "      <td>one, two, three, four, five, six, seven, eight, nine, ten, eleven, twelve, thirteen, fourteen, fifteen, sixteen, seventeen, eighteen, nineteen, twenty, twenty one, twenty two, twenty three, twenty four, twenty five, twenty six, twenty seven, twenty eight, twenty nine, thirty, thirty one, thirty two, thirty three, thirty four, thirty five, thirty six, thirty seven, thirty eight, thirty nine, forty, forty one, forty two, forty three, forty four, forty five, forty six, forty seven, forty eight, forty nine, fifty, fifty one, fifty two, fifty three, fifty four, fifty five, fifty six, fifty seve...</td>\n",
       "    </tr>\n",
       "    <tr>\n",
       "      <th>1</th>\n",
       "      <td>1</td>\n",
       "      <td>one, two, three, four, five, six, seven, eight, nine, ten, eleven, twelve, thirteen, fourteen, fifteen, sixteen, seventeen, eighteen, nineteen, twenty, twenty one, twenty two, twenty three, twenty four, twenty five, twenty six, twenty seven, twenty eight, twenty nine, thirty, thirty one, thirty two, thirty three, thirty four, thirty five, thirty six, thirty seven, thirty eight, thirty nine, forty, forty one, forty two, forty three, forty four, forty five, forty six, forty seven, forty eight, forty nine, fifty, fifty one, fifty two, fifty three, fifty four, fifty five, fifty six, fifty seve...</td>\n",
       "    </tr>\n",
       "    <tr>\n",
       "      <th>2</th>\n",
       "      <td>2</td>\n",
       "      <td>one, two, three, four, five, six, seven, eight, nine, ten, eleven, twelve, thirteen, fourteen, fifteen, sixteen, seventeen, eighteen, nineteen, twenty, twenty one, twenty two, twenty three, twenty four, twenty five, twenty six, twenty seven, twenty eight, twenty nine, thirty, thirty one, thirty two, thirty three, thirty four, thirty five, thirty six, thirty seven, thirty eight, thirty nine, forty, forty one, forty two, forty three, forty four, forty five, forty six, forty seven, forty eight, forty nine, fifty, fifty one, fifty two, fifty three, fifty four, fifty five, fifty six, fifty seve...</td>\n",
       "    </tr>\n",
       "    <tr>\n",
       "      <th>3</th>\n",
       "      <td>3</td>\n",
       "      <td>one, two, three, four, five, six, seven, eight, nine, ten, eleven, twelve, thirteen, fourteen, fifteen, sixteen, seventeen, eighteen, nineteen, twenty, twenty one, twenty two, twenty three, twenty four, twenty five, twenty six, twenty seven, twenty eight, twenty nine, thirty, thirty one, thirty two, thirty three, thirty four, thirty five, thirty six, thirty seven, thirty eight, thirty nine, forty, forty one, forty two, forty three, forty four, forty five, forty six, forty seven, forty eight, forty nine, fifty, fifty one, fifty two, fifty three, fifty four, fifty five, fifty six, fifty seve...</td>\n",
       "    </tr>\n",
       "    <tr>\n",
       "      <th>4</th>\n",
       "      <td>4</td>\n",
       "      <td>one, two, three, four, five, six, seven, eight, nine, ten, eleven, twelve, thirteen, fourteen, fifteen, sixteen, seventeen, eighteen, nineteen, twenty, twenty one, twenty two, twenty three, twenty four, twenty five, twenty six, twenty seven, twenty eight, twenty nine, thirty, thirty one, thirty two, thirty three, thirty four, thirty five, thirty six, thirty seven, thirty eight, thirty nine, forty, forty one, forty two, forty three, forty four, forty five, forty six, forty seven, forty eight, forty nine, fifty, fifty one, fifty two, fifty three, fifty four, fifty five, fifty six, fifty seve...</td>\n",
       "    </tr>\n",
       "    <tr>\n",
       "      <th>...</th>\n",
       "      <td>...</td>\n",
       "      <td>...</td>\n",
       "    </tr>\n",
       "    <tr>\n",
       "      <th>1995</th>\n",
       "      <td>1995</td>\n",
       "      <td>one, two, three, four, five, six, seven, eight, nine, ten, eleven, twelve, thirteen, fourteen, fifteen, sixteen, seventeen, eighteen, nineteen, twenty, twenty one, twenty two, twenty three, twenty four, twenty five, twenty six, twenty seven, twenty eight, twenty nine, thirty, thirty one, thirty two, thirty three, thirty four, thirty five, thirty six, thirty seven, thirty eight, thirty nine, forty, forty one, forty two, forty three, forty four, forty five, forty six, forty seven, forty eight, forty nine, fifty, fifty one, fifty two, fifty three, fifty four, fifty five, fifty six, fifty seve...</td>\n",
       "    </tr>\n",
       "    <tr>\n",
       "      <th>1996</th>\n",
       "      <td>1996</td>\n",
       "      <td>one, two, three, four, five, six, seven, eight, nine, ten, eleven, twelve, thirteen, fourteen, fifteen, sixteen, seventeen, eighteen, nineteen, twenty, twenty one, twenty two, twenty three, twenty four, twenty five, twenty six, twenty seven, twenty eight, twenty nine, thirty, thirty one, thirty two, thirty three, thirty four, thirty five, thirty six, thirty seven, thirty eight, thirty nine, forty, forty one, forty two, forty three, forty four, forty five, forty six, forty seven, forty eight, forty nine, fifty, fifty one, fifty two, fifty three, fifty four, fifty five, fifty six, fifty seve...</td>\n",
       "    </tr>\n",
       "    <tr>\n",
       "      <th>1997</th>\n",
       "      <td>1997</td>\n",
       "      <td>one, two, three, four, five, six, seven, eight, nine, ten, eleven, twelve, thirteen, fourteen, fifteen, sixteen, seventeen, eighteen, nineteen, twenty, twenty one, twenty two, twenty three, twenty four, twenty five, twenty six, twenty seven, twenty eight, twenty nine, thirty, thirty one, thirty two, thirty three, thirty four, thirty five, thirty six, thirty seven, thirty eight, thirty nine, forty, forty one, forty two, forty three, forty four, forty five, forty six, forty seven, forty eight, forty nine, fifty, fifty one, fifty two, fifty three, fifty four, fifty five, fifty six, fifty seve...</td>\n",
       "    </tr>\n",
       "    <tr>\n",
       "      <th>1998</th>\n",
       "      <td>1998</td>\n",
       "      <td>one, two, three, four, five, six, seven, eight, nine, ten, eleven, twelve, thirteen, fourteen, fifteen, sixteen, seventeen, eighteen, nineteen, twenty, twenty one, twenty two, twenty three, twenty four, twenty five, twenty six, twenty seven, twenty eight, twenty nine, thirty, thirty one, thirty two, thirty three, thirty four, thirty five, thirty six, thirty seven, thirty eight, thirty nine, forty, forty one, forty two, forty three, forty four, forty five, forty six, forty seven, forty eight, forty nine, fifty, fifty one, fifty two, fifty three, fifty four, fifty five, fifty six, fifty seve...</td>\n",
       "    </tr>\n",
       "    <tr>\n",
       "      <th>1999</th>\n",
       "      <td>1999</td>\n",
       "      <td>one, two, three, four, five, six, seven, eight, nine, ten, eleven, twelve, thirteen, fourteen, fifteen, sixteen, seventeen, eighteen, nineteen, twenty, twenty one, twenty two, twenty three, twenty four, twenty five, twenty six, twenty seven, twenty eight, twenty nine, thirty, thirty one, thirty two, thirty three, thirty four, thirty five, thirty six, thirty seven, thirty eight, thirty nine, forty, forty one, forty two, forty three, forty four, forty five, forty six, forty seven, forty eight, forty nine, fifty, fifty one, fifty two, fifty three, fifty four, fifty five, fifty six, fifty seve...</td>\n",
       "    </tr>\n",
       "  </tbody>\n",
       "</table>\n",
       "<p>2000 rows × 2 columns</p>\n",
       "</div>"
      ],
      "text/plain": [
       "      Unnamed: 0  \\\n",
       "0              0   \n",
       "1              1   \n",
       "2              2   \n",
       "3              3   \n",
       "4              4   \n",
       "...          ...   \n",
       "1995        1995   \n",
       "1996        1996   \n",
       "1997        1997   \n",
       "1998        1998   \n",
       "1999        1999   \n",
       "\n",
       "                                                                                                                                                                                                                                                                                                                                                                                                                                                                                                                                                                                                                         text  \n",
       "0     one, two, three, four, five, six, seven, eight, nine, ten, eleven, twelve, thirteen, fourteen, fifteen, sixteen, seventeen, eighteen, nineteen, twenty, twenty one, twenty two, twenty three, twenty four, twenty five, twenty six, twenty seven, twenty eight, twenty nine, thirty, thirty one, thirty two, thirty three, thirty four, thirty five, thirty six, thirty seven, thirty eight, thirty nine, forty, forty one, forty two, forty three, forty four, forty five, forty six, forty seven, forty eight, forty nine, fifty, fifty one, fifty two, fifty three, fifty four, fifty five, fifty six, fifty seve...  \n",
       "1     one, two, three, four, five, six, seven, eight, nine, ten, eleven, twelve, thirteen, fourteen, fifteen, sixteen, seventeen, eighteen, nineteen, twenty, twenty one, twenty two, twenty three, twenty four, twenty five, twenty six, twenty seven, twenty eight, twenty nine, thirty, thirty one, thirty two, thirty three, thirty four, thirty five, thirty six, thirty seven, thirty eight, thirty nine, forty, forty one, forty two, forty three, forty four, forty five, forty six, forty seven, forty eight, forty nine, fifty, fifty one, fifty two, fifty three, fifty four, fifty five, fifty six, fifty seve...  \n",
       "2     one, two, three, four, five, six, seven, eight, nine, ten, eleven, twelve, thirteen, fourteen, fifteen, sixteen, seventeen, eighteen, nineteen, twenty, twenty one, twenty two, twenty three, twenty four, twenty five, twenty six, twenty seven, twenty eight, twenty nine, thirty, thirty one, thirty two, thirty three, thirty four, thirty five, thirty six, thirty seven, thirty eight, thirty nine, forty, forty one, forty two, forty three, forty four, forty five, forty six, forty seven, forty eight, forty nine, fifty, fifty one, fifty two, fifty three, fifty four, fifty five, fifty six, fifty seve...  \n",
       "3     one, two, three, four, five, six, seven, eight, nine, ten, eleven, twelve, thirteen, fourteen, fifteen, sixteen, seventeen, eighteen, nineteen, twenty, twenty one, twenty two, twenty three, twenty four, twenty five, twenty six, twenty seven, twenty eight, twenty nine, thirty, thirty one, thirty two, thirty three, thirty four, thirty five, thirty six, thirty seven, thirty eight, thirty nine, forty, forty one, forty two, forty three, forty four, forty five, forty six, forty seven, forty eight, forty nine, fifty, fifty one, fifty two, fifty three, fifty four, fifty five, fifty six, fifty seve...  \n",
       "4     one, two, three, four, five, six, seven, eight, nine, ten, eleven, twelve, thirteen, fourteen, fifteen, sixteen, seventeen, eighteen, nineteen, twenty, twenty one, twenty two, twenty three, twenty four, twenty five, twenty six, twenty seven, twenty eight, twenty nine, thirty, thirty one, thirty two, thirty three, thirty four, thirty five, thirty six, thirty seven, thirty eight, thirty nine, forty, forty one, forty two, forty three, forty four, forty five, forty six, forty seven, forty eight, forty nine, fifty, fifty one, fifty two, fifty three, fifty four, fifty five, fifty six, fifty seve...  \n",
       "...                                                                                                                                                                                                                                                                                                                                                                                                                                                                                                                                                                                                                       ...  \n",
       "1995  one, two, three, four, five, six, seven, eight, nine, ten, eleven, twelve, thirteen, fourteen, fifteen, sixteen, seventeen, eighteen, nineteen, twenty, twenty one, twenty two, twenty three, twenty four, twenty five, twenty six, twenty seven, twenty eight, twenty nine, thirty, thirty one, thirty two, thirty three, thirty four, thirty five, thirty six, thirty seven, thirty eight, thirty nine, forty, forty one, forty two, forty three, forty four, forty five, forty six, forty seven, forty eight, forty nine, fifty, fifty one, fifty two, fifty three, fifty four, fifty five, fifty six, fifty seve...  \n",
       "1996  one, two, three, four, five, six, seven, eight, nine, ten, eleven, twelve, thirteen, fourteen, fifteen, sixteen, seventeen, eighteen, nineteen, twenty, twenty one, twenty two, twenty three, twenty four, twenty five, twenty six, twenty seven, twenty eight, twenty nine, thirty, thirty one, thirty two, thirty three, thirty four, thirty five, thirty six, thirty seven, thirty eight, thirty nine, forty, forty one, forty two, forty three, forty four, forty five, forty six, forty seven, forty eight, forty nine, fifty, fifty one, fifty two, fifty three, fifty four, fifty five, fifty six, fifty seve...  \n",
       "1997  one, two, three, four, five, six, seven, eight, nine, ten, eleven, twelve, thirteen, fourteen, fifteen, sixteen, seventeen, eighteen, nineteen, twenty, twenty one, twenty two, twenty three, twenty four, twenty five, twenty six, twenty seven, twenty eight, twenty nine, thirty, thirty one, thirty two, thirty three, thirty four, thirty five, thirty six, thirty seven, thirty eight, thirty nine, forty, forty one, forty two, forty three, forty four, forty five, forty six, forty seven, forty eight, forty nine, fifty, fifty one, fifty two, fifty three, fifty four, fifty five, fifty six, fifty seve...  \n",
       "1998  one, two, three, four, five, six, seven, eight, nine, ten, eleven, twelve, thirteen, fourteen, fifteen, sixteen, seventeen, eighteen, nineteen, twenty, twenty one, twenty two, twenty three, twenty four, twenty five, twenty six, twenty seven, twenty eight, twenty nine, thirty, thirty one, thirty two, thirty three, thirty four, thirty five, thirty six, thirty seven, thirty eight, thirty nine, forty, forty one, forty two, forty three, forty four, forty five, forty six, forty seven, forty eight, forty nine, fifty, fifty one, fifty two, fifty three, fifty four, fifty five, fifty six, fifty seve...  \n",
       "1999  one, two, three, four, five, six, seven, eight, nine, ten, eleven, twelve, thirteen, fourteen, fifteen, sixteen, seventeen, eighteen, nineteen, twenty, twenty one, twenty two, twenty three, twenty four, twenty five, twenty six, twenty seven, twenty eight, twenty nine, thirty, thirty one, thirty two, thirty three, thirty four, thirty five, thirty six, thirty seven, thirty eight, thirty nine, forty, forty one, forty two, forty three, forty four, forty five, forty six, forty seven, forty eight, forty nine, fifty, fifty one, fifty two, fifty three, fifty four, fifty five, fifty six, fifty seve...  \n",
       "\n",
       "[2000 rows x 2 columns]"
      ]
     },
     "execution_count": 201,
     "metadata": {},
     "output_type": "execute_result"
    }
   ],
   "source": [
    "df"
   ]
  },
  {
   "cell_type": "markdown",
   "id": "930d6582-a26c-4660-ab50-c9d26f5dd863",
   "metadata": {
    "id": "930d6582-a26c-4660-ab50-c9d26f5dd863"
   },
   "source": [
    "`(1)` TextDataLoaders.from_df을 이용하여 dls오브젝트를 만들어라. \n",
    "- is_lm = True 로 설정할 것 \n",
    "- seq_len = 5 로 설정할 것 "
   ]
  },
  {
   "cell_type": "code",
   "execution_count": 202,
   "id": "c1c3a52b-a097-42c4-bcd3-6c883d2458fd",
   "metadata": {},
   "outputs": [
    {
     "data": {
      "text/html": [],
      "text/plain": [
       "<IPython.core.display.HTML object>"
      ]
     },
     "metadata": {},
     "output_type": "display_data"
    }
   ],
   "source": [
    "dls = TextDataLoaders.from_df(df,text_col='text',ls_lm=True,seq_len=5)"
   ]
  },
  {
   "cell_type": "code",
   "execution_count": 203,
   "id": "161ebca2-3597-47e8-8253-0376cfb16939",
   "metadata": {},
   "outputs": [
    {
     "data": {
      "text/html": [
       "<table border=\"1\" class=\"dataframe\">\n",
       "  <thead>\n",
       "    <tr style=\"text-align: right;\">\n",
       "      <th></th>\n",
       "      <th>text</th>\n",
       "      <th>category</th>\n",
       "    </tr>\n",
       "  </thead>\n",
       "  <tbody>\n",
       "    <tr>\n",
       "      <th>0</th>\n",
       "      <td>xxbos one , two , three , four , five , six , seven , eight , nine , ten , eleven , twelve , thirteen , fourteen , fifteen , sixteen , seventeen , eighteen , nineteen , twenty , twenty one , twenty two , twenty three , twenty four , twenty five , twenty six , twenty seven , twenty eight , twenty nine , thirty , thirty one , thirty two , thirty three , thirty four , thirty five , thirty six , thirty seven , thirty eight , thirty nine , forty , forty one , forty two , forty three , forty four , forty five , forty six , forty seven , forty eight , forty nine , fifty , fifty one , fifty two , fifty three , fifty four , fifty five , fifty six , fifty seven , fifty</td>\n",
       "      <td>one, two, three, four, five, six, seven, eight, nine, ten, eleven, twelve, thirteen, fourteen, fifteen, sixteen, seventeen, eighteen, nineteen, twenty, twenty one, twenty two, twenty three, twenty four, twenty five, twenty six, twenty seven, twenty eight, twenty nine, thirty, thirty one, thirty two, thirty three, thirty four, thirty five, thirty six, thirty seven, thirty eight, thirty nine, forty, forty one, forty two, forty three, forty four, forty five, forty six, forty seven, forty eight, forty nine, fifty, fifty one, fifty two, fifty three, fifty four, fifty five, fifty six, fifty seven, fifty eight, fifty nine, sixty, sixty one, sixty two, sixty three, sixty four, sixty five, sixty six, sixty seven, sixty eight, sixty nine, seventy, seventy one, seventy two, seventy three, seventy four, seventy five, seventy six, seventy seven, seventy eight, seventy nine, eighty, eighty one, eighty two, eighty three, eighty four, eighty five, eighty six, eighty seven, eighty eight, eighty nine, ninety, ninety one, ninety two, ninety three, ninety four, ninety five, ninety six, ninety seven, ninety eight, ninety nine, one hundred</td>\n",
       "    </tr>\n",
       "    <tr>\n",
       "      <th>1</th>\n",
       "      <td>xxbos one , two , three , four , five , six , seven , eight , nine , ten , eleven , twelve , thirteen , fourteen , fifteen , sixteen , seventeen , eighteen , nineteen , twenty , twenty one , twenty two , twenty three , twenty four , twenty five , twenty six , twenty seven , twenty eight , twenty nine , thirty , thirty one , thirty two , thirty three , thirty four , thirty five , thirty six , thirty seven , thirty eight , thirty nine , forty , forty one , forty two , forty three , forty four , forty five , forty six , forty seven , forty eight , forty nine , fifty , fifty one , fifty two , fifty three , fifty four , fifty five , fifty six , fifty seven , fifty</td>\n",
       "      <td>one, two, three, four, five, six, seven, eight, nine, ten, eleven, twelve, thirteen, fourteen, fifteen, sixteen, seventeen, eighteen, nineteen, twenty, twenty one, twenty two, twenty three, twenty four, twenty five, twenty six, twenty seven, twenty eight, twenty nine, thirty, thirty one, thirty two, thirty three, thirty four, thirty five, thirty six, thirty seven, thirty eight, thirty nine, forty, forty one, forty two, forty three, forty four, forty five, forty six, forty seven, forty eight, forty nine, fifty, fifty one, fifty two, fifty three, fifty four, fifty five, fifty six, fifty seven, fifty eight, fifty nine, sixty, sixty one, sixty two, sixty three, sixty four, sixty five, sixty six, sixty seven, sixty eight, sixty nine, seventy, seventy one, seventy two, seventy three, seventy four, seventy five, seventy six, seventy seven, seventy eight, seventy nine, eighty, eighty one, eighty two, eighty three, eighty four, eighty five, eighty six, eighty seven, eighty eight, eighty nine, ninety, ninety one, ninety two, ninety three, ninety four, ninety five, ninety six, ninety seven, ninety eight, ninety nine, one hundred</td>\n",
       "    </tr>\n",
       "    <tr>\n",
       "      <th>2</th>\n",
       "      <td>xxbos one , two , three , four , five , six , seven , eight , nine , ten , eleven , twelve , thirteen , fourteen , fifteen , sixteen , seventeen , eighteen , nineteen , twenty , twenty one , twenty two , twenty three , twenty four , twenty five , twenty six , twenty seven , twenty eight , twenty nine , thirty , thirty one , thirty two , thirty three , thirty four , thirty five , thirty six , thirty seven , thirty eight , thirty nine , forty , forty one , forty two , forty three , forty four , forty five , forty six , forty seven , forty eight , forty nine , fifty , fifty one , fifty two , fifty three , fifty four , fifty five , fifty six , fifty seven , fifty</td>\n",
       "      <td>one, two, three, four, five, six, seven, eight, nine, ten, eleven, twelve, thirteen, fourteen, fifteen, sixteen, seventeen, eighteen, nineteen, twenty, twenty one, twenty two, twenty three, twenty four, twenty five, twenty six, twenty seven, twenty eight, twenty nine, thirty, thirty one, thirty two, thirty three, thirty four, thirty five, thirty six, thirty seven, thirty eight, thirty nine, forty, forty one, forty two, forty three, forty four, forty five, forty six, forty seven, forty eight, forty nine, fifty, fifty one, fifty two, fifty three, fifty four, fifty five, fifty six, fifty seven, fifty eight, fifty nine, sixty, sixty one, sixty two, sixty three, sixty four, sixty five, sixty six, sixty seven, sixty eight, sixty nine, seventy, seventy one, seventy two, seventy three, seventy four, seventy five, seventy six, seventy seven, seventy eight, seventy nine, eighty, eighty one, eighty two, eighty three, eighty four, eighty five, eighty six, eighty seven, eighty eight, eighty nine, ninety, ninety one, ninety two, ninety three, ninety four, ninety five, ninety six, ninety seven, ninety eight, ninety nine, one hundred</td>\n",
       "    </tr>\n",
       "    <tr>\n",
       "      <th>3</th>\n",
       "      <td>xxbos one , two , three , four , five , six , seven , eight , nine , ten , eleven , twelve , thirteen , fourteen , fifteen , sixteen , seventeen , eighteen , nineteen , twenty , twenty one , twenty two , twenty three , twenty four , twenty five , twenty six , twenty seven , twenty eight , twenty nine , thirty , thirty one , thirty two , thirty three , thirty four , thirty five , thirty six , thirty seven , thirty eight , thirty nine , forty , forty one , forty two , forty three , forty four , forty five , forty six , forty seven , forty eight , forty nine , fifty , fifty one , fifty two , fifty three , fifty four , fifty five , fifty six , fifty seven , fifty</td>\n",
       "      <td>one, two, three, four, five, six, seven, eight, nine, ten, eleven, twelve, thirteen, fourteen, fifteen, sixteen, seventeen, eighteen, nineteen, twenty, twenty one, twenty two, twenty three, twenty four, twenty five, twenty six, twenty seven, twenty eight, twenty nine, thirty, thirty one, thirty two, thirty three, thirty four, thirty five, thirty six, thirty seven, thirty eight, thirty nine, forty, forty one, forty two, forty three, forty four, forty five, forty six, forty seven, forty eight, forty nine, fifty, fifty one, fifty two, fifty three, fifty four, fifty five, fifty six, fifty seven, fifty eight, fifty nine, sixty, sixty one, sixty two, sixty three, sixty four, sixty five, sixty six, sixty seven, sixty eight, sixty nine, seventy, seventy one, seventy two, seventy three, seventy four, seventy five, seventy six, seventy seven, seventy eight, seventy nine, eighty, eighty one, eighty two, eighty three, eighty four, eighty five, eighty six, eighty seven, eighty eight, eighty nine, ninety, ninety one, ninety two, ninety three, ninety four, ninety five, ninety six, ninety seven, ninety eight, ninety nine, one hundred</td>\n",
       "    </tr>\n",
       "    <tr>\n",
       "      <th>4</th>\n",
       "      <td>xxbos one , two , three , four , five , six , seven , eight , nine , ten , eleven , twelve , thirteen , fourteen , fifteen , sixteen , seventeen , eighteen , nineteen , twenty , twenty one , twenty two , twenty three , twenty four , twenty five , twenty six , twenty seven , twenty eight , twenty nine , thirty , thirty one , thirty two , thirty three , thirty four , thirty five , thirty six , thirty seven , thirty eight , thirty nine , forty , forty one , forty two , forty three , forty four , forty five , forty six , forty seven , forty eight , forty nine , fifty , fifty one , fifty two , fifty three , fifty four , fifty five , fifty six , fifty seven , fifty</td>\n",
       "      <td>one, two, three, four, five, six, seven, eight, nine, ten, eleven, twelve, thirteen, fourteen, fifteen, sixteen, seventeen, eighteen, nineteen, twenty, twenty one, twenty two, twenty three, twenty four, twenty five, twenty six, twenty seven, twenty eight, twenty nine, thirty, thirty one, thirty two, thirty three, thirty four, thirty five, thirty six, thirty seven, thirty eight, thirty nine, forty, forty one, forty two, forty three, forty four, forty five, forty six, forty seven, forty eight, forty nine, fifty, fifty one, fifty two, fifty three, fifty four, fifty five, fifty six, fifty seven, fifty eight, fifty nine, sixty, sixty one, sixty two, sixty three, sixty four, sixty five, sixty six, sixty seven, sixty eight, sixty nine, seventy, seventy one, seventy two, seventy three, seventy four, seventy five, seventy six, seventy seven, seventy eight, seventy nine, eighty, eighty one, eighty two, eighty three, eighty four, eighty five, eighty six, eighty seven, eighty eight, eighty nine, ninety, ninety one, ninety two, ninety three, ninety four, ninety five, ninety six, ninety seven, ninety eight, ninety nine, one hundred</td>\n",
       "    </tr>\n",
       "  </tbody>\n",
       "</table>"
      ],
      "text/plain": [
       "<IPython.core.display.HTML object>"
      ]
     },
     "metadata": {},
     "output_type": "display_data"
    }
   ],
   "source": [
    "dls.show_batch(max_n=5)"
   ]
  },
  {
   "cell_type": "markdown",
   "id": "c4df5593-c3d5-4299-9f95-7c4d5fa968a3",
   "metadata": {
    "id": "c4df5593-c3d5-4299-9f95-7c4d5fa968a3"
   },
   "source": [
    "`(2)` lrnr 오브젝트를 만들어라. \n",
    "- arch = AWD_LSTM 이용 \n",
    "- metrics = accuracy 이용 "
   ]
  },
  {
   "cell_type": "code",
   "execution_count": 194,
   "id": "ca7644ed-4823-428e-978c-ca64da7e32c2",
   "metadata": {},
   "outputs": [],
   "source": [
    "lrnr = language_model_learner(dls,arch=AWD_LSTM,metrics=accuracy)"
   ]
  },
  {
   "cell_type": "markdown",
   "id": "8044c0be-0e04-4dd7-ada8-fa7d1f3c61d3",
   "metadata": {
    "id": "8044c0be-0e04-4dd7-ada8-fa7d1f3c61d3"
   },
   "source": [
    "`(3)` lrnr오브젝트에서 fine_tune(3) 메소드를 이용하여 모형을 학습하라. "
   ]
  },
  {
   "cell_type": "markdown",
   "id": "32e71689-eaa1-42ca-bc5a-dbd422256e9f",
   "metadata": {},
   "source": [
    "### 질문?"
   ]
  },
  {
   "cell_type": "code",
   "execution_count": null,
   "id": "08a019c5-8221-4063-8bf0-25a7335ec092",
   "metadata": {},
   "outputs": [],
   "source": [
    "lrnr.fine_tune(3)"
   ]
  },
  {
   "cell_type": "markdown",
   "id": "03633796-9683-40de-a4b8-2d06a001273d",
   "metadata": {
    "id": "03633796-9683-40de-a4b8-2d06a001273d"
   },
   "source": [
    "`(4)` 'one , two ,' 이후에 이어질 50개의 단어를 생성하라."
   ]
  },
  {
   "cell_type": "code",
   "execution_count": null,
   "id": "204e0eb7-0fa5-4356-a885-e7924ae82c5a",
   "metadata": {},
   "outputs": [],
   "source": [
    "lrnr.predict('one, two,',n_words=59)"
   ]
  },
  {
   "cell_type": "markdown",
   "id": "8af44b7b-3040-479e-b941-4c8696a19744",
   "metadata": {
    "id": "8af44b7b-3040-479e-b941-4c8696a19744"
   },
   "source": [
    "`(5)` 'twenty , twenty one , ' 이후에 이어질 50개의 단어를 생성하라. "
   ]
  },
  {
   "cell_type": "code",
   "execution_count": null,
   "id": "2b7f0df6-e821-4abc-9cff-eed1f3d5c08a",
   "metadata": {},
   "outputs": [],
   "source": [
    "lrnr.predict('twenty, twenty one, ',n_words=50)"
   ]
  },
  {
   "cell_type": "markdown",
   "id": "9bec975e-d076-4b40-a274-feb99112c3fe",
   "metadata": {
    "id": "9bec975e-d076-4b40-a274-feb99112c3fe"
   },
   "source": [
    "## `4`. 리눅스명령어"
   ]
  },
  {
   "cell_type": "markdown",
   "id": "98166cbb-258b-4308-b1be-ba4d95fa6658",
   "metadata": {
    "id": "98166cbb-258b-4308-b1be-ba4d95fa6658"
   },
   "source": [
    "Collab 에서 (혹은 리눅스기반 서버에서) 아래의 명령어를 순서대로 실행해보라. \n",
    "```\n",
    "!ls\n",
    "!ls -a \n",
    "!ls .\n",
    "!ls .. \n",
    "!ls sample\n",
    "!mkdir asdf \n",
    "!wget https://raw.githubusercontent.com/guebin/DL2022/master/_notebooks/2022-09-08-rcmd_anal.csv\n",
    "!cp 2022-09-08-rcmd_anal.csv ./asdf \n",
    "!ls ./asdf \n",
    "!rm 2022-09-08-rcmd_anal.csv \n",
    "!rm -rf asdf \n",
    "```"
   ]
  },
  {
   "cell_type": "markdown",
   "id": "324af3d3-bc93-4c1b-9e37-094254d9e1bb",
   "metadata": {
    "id": "324af3d3-bc93-4c1b-9e37-094254d9e1bb"
   },
   "source": [
    "각 명령들이 무엇을 의미하는지 간단히 서술하라. "
   ]
  },
  {
   "cell_type": "markdown",
   "id": "530174d6-d215-48fd-b439-c93a508355ab",
   "metadata": {},
   "source": [
    "`!ls` list를 나타낸다.\n",
    "\n",
    "`!ls -a` 숨겨진 list까지 모두 보여준다.\n",
    "\n",
    "`!ls .` 현재 위치에 있는 모든 list를 보여준다.(숨겨진 list 포함(\n",
    "\n",
    "`!ls ..` 상위 폴더 위치에 있는 list를 보여준다.\n",
    "\n",
    "`!ls sample` sample이라는 파일 혹은 directory에 접근한다.\n",
    "\n",
    "`!mkdir asdf` asdf라는 이름의 directory를 만들어준다.\n",
    "\n",
    "`!wget https://raw.githubusercontent.com/guebin/DL2022/master/_notebooks/2022-09-08-rcmd_anal.csv` 해당 주소에 있는 데이터를 다운받을 수 있다.\n",
    "\n",
    "`!cp 2022-09-08-rcmd_anal.csv ./asdf` asdf directory에 있는 해당 폴더를 복사한다.\n",
    "\n",
    "`!ls ./asdf` asdf directory에 있는 list를 보여준다.\n",
    "\n",
    "`!rm 2022-09-08-rcmd_anal.csv` 해당 파일을 지운다.\n",
    "\n",
    "`!rm -rf asdf` asdf directory를 삭제한다. directory를 삭제할때에는 -rf, file을 삭제할때는 -f 입력해준다."
   ]
  }
 ],
 "metadata": {
  "colab": {
   "provenance": []
  },
  "kernelspec": {
   "display_name": "Python 3 (ipykernel)",
   "language": "python",
   "name": "python3"
  },
  "language_info": {
   "codemirror_mode": {
    "name": "ipython",
    "version": 3
   },
   "file_extension": ".py",
   "mimetype": "text/x-python",
   "name": "python",
   "nbconvert_exporter": "python",
   "pygments_lexer": "ipython3",
   "version": "3.8.12"
  }
 },
 "nbformat": 4,
 "nbformat_minor": 5
}
