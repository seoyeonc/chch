{
 "cells": [
  {
   "cell_type": "markdown",
   "id": "23502a63-e5d5-4786-8ff8-8f31498b3b44",
   "metadata": {
    "tags": []
   },
   "source": [
    "# Assignment 1 (09.19)\n",
    "\n",
    "- toc:true\n",
    "- branch: master\n",
    "- badges: true\n",
    "- comments: false\n",
    "- author: 최서연\n",
    "- categories: [Special Topics in Machine Learning]"
   ]
  },
  {
   "cell_type": "markdown",
   "id": "26155ca5-6b40-4b55-8697-087b2efa1e26",
   "metadata": {
    "id": "26155ca5-6b40-4b55-8697-087b2efa1e26"
   },
   "source": [
    "- 제출은 `이름(학번).ipynb` 파일과 `이름(학번).html`파일 2개를 제출할 것. \n",
    "- ipynb 혹은 html 파일을 이용한 제출이 익숙하지 않은 학생은 질문할 것. "
   ]
  },
  {
   "cell_type": "code",
   "execution_count": 1,
   "id": "8a72b9fe-40b1-4dbe-b98d-44ba4017ac01",
   "metadata": {
    "id": "8a72b9fe-40b1-4dbe-b98d-44ba4017ac01"
   },
   "outputs": [],
   "source": [
    "from fastai.vision.all import * \n",
    "from fastai.collab import * \n",
    "from fastai.text.all import *"
   ]
  },
  {
   "cell_type": "markdown",
   "id": "d0a7066c-2675-4da4-8aff-60779d42b9c6",
   "metadata": {
    "id": "d0a7066c-2675-4da4-8aff-60779d42b9c6"
   },
   "source": [
    "## `1`. 이미지자료분석 "
   ]
  },
  {
   "cell_type": "markdown",
   "id": "82b8d30b-72a8-42e2-b2d0-de9f2ea984cd",
   "metadata": {
    "id": "82b8d30b-72a8-42e2-b2d0-de9f2ea984cd"
   },
   "source": [
    "아래를 이용하여 MNIST_SAMPLE 이미지 자료를 다운로드 받고 dls오브젝트를 만들어라. "
   ]
  },
  {
   "cell_type": "code",
   "execution_count": 2,
   "id": "24770588-b52a-412e-b67d-ba14f9003ddd",
   "metadata": {
    "id": "24770588-b52a-412e-b67d-ba14f9003ddd"
   },
   "outputs": [],
   "source": [
    "path = untar_data(URLs.MNIST_SAMPLE)"
   ]
  },
  {
   "cell_type": "code",
   "execution_count": 3,
   "id": "c6a009d2-b595-47d6-9101-e7303f8cf1e6",
   "metadata": {
    "id": "c6a009d2-b595-47d6-9101-e7303f8cf1e6"
   },
   "outputs": [],
   "source": [
    "dls = ImageDataLoaders.from_folder(path) "
   ]
  },
  {
   "cell_type": "code",
   "execution_count": 4,
   "id": "709295d3-9394-40f5-84c9-b36a5ab56b86",
   "metadata": {
    "id": "709295d3-9394-40f5-84c9-b36a5ab56b86",
    "outputId": "fd1371a1-d2aa-4050-86e8-863794b8c7f5"
   },
   "outputs": [
    {
     "data": {
      "image/png": "[encoded data removed]",
      "text/plain": [
       "<Figure size 648x648 with 9 Axes>"
      ]
     },
     "metadata": {
      "needs_background": "light"
     },
     "output_type": "display_data"
    }
   ],
   "source": [
    "dls.show_batch()"
   ]
  },
  {
   "cell_type": "markdown",
   "id": "f5d34a52-dbc2-43ec-9182-77e47b50dd35",
   "metadata": {
    "id": "f5d34a52-dbc2-43ec-9182-77e47b50dd35"
   },
   "source": [
    "`(1)` cnn_learner를 이용하여 lrnr 오브젝트를 생성하라. \n",
    "- arch 는 resnet34 로 설정할 것 \n",
    "- metrics 는 error_rate 로 설정할 것 "
   ]
  },
  {
   "cell_type": "code",
   "execution_count": 5,
   "id": "8b7e9fd6-24cb-4211-926c-19388de8d30a",
   "metadata": {},
   "outputs": [],
   "source": [
    "lrnr = cnn_learner(dls,resnet34,metrics=error_rate)"
   ]
  },
  {
   "cell_type": "markdown",
   "id": "210447f8-4f0b-43ad-9b1d-21d0bea04a74",
   "metadata": {
    "id": "210447f8-4f0b-43ad-9b1d-21d0bea04a74"
   },
   "source": [
    "`(2)` fine_tune 을 이용하여 lrnr 오브젝트를 학습하라. "
   ]
  },
  {
   "cell_type": "code",
   "execution_count": 6,
   "id": "8226e43f-5ec4-4da9-8048-63a74497d069",
   "metadata": {},
   "outputs": [
    {
     "data": {
      "text/html": [
       "<table border=\"1\" class=\"dataframe\">\n",
       "  <thead>\n",
       "    <tr style=\"text-align: left;\">\n",
       "      <th>epoch</th>\n",
       "      <th>train_loss</th>\n",
       "      <th>valid_loss</th>\n",
       "      <th>error_rate</th>\n",
       "      <th>time</th>\n",
       "    </tr>\n",
       "  </thead>\n",
       "  <tbody>\n",
       "    <tr>\n",
       "      <td>0</td>\n",
       "      <td>0.266744</td>\n",
       "      <td>0.154645</td>\n",
       "      <td>0.057409</td>\n",
       "      <td>00:09</td>\n",
       "    </tr>\n",
       "  </tbody>\n",
       "</table>"
      ],
      "text/plain": [
       "<IPython.core.display.HTML object>"
      ]
     },
     "metadata": {},
     "output_type": "display_data"
    },
    {
     "data": {
      "text/html": [
       "<table border=\"1\" class=\"dataframe\">\n",
       "  <thead>\n",
       "    <tr style=\"text-align: left;\">\n",
       "      <th>epoch</th>\n",
       "      <th>train_loss</th>\n",
       "      <th>valid_loss</th>\n",
       "      <th>error_rate</th>\n",
       "      <th>time</th>\n",
       "    </tr>\n",
       "  </thead>\n",
       "  <tbody>\n",
       "    <tr>\n",
       "      <td>0</td>\n",
       "      <td>0.049155</td>\n",
       "      <td>0.026522</td>\n",
       "      <td>0.005888</td>\n",
       "      <td>00:09</td>\n",
       "    </tr>\n",
       "  </tbody>\n",
       "</table>"
      ],
      "text/plain": [
       "<IPython.core.display.HTML object>"
      ]
     },
     "metadata": {},
     "output_type": "display_data"
    }
   ],
   "source": [
    "lrnr.fine_tune(1)"
   ]
  },
  {
   "cell_type": "markdown",
   "id": "41fcc907-4183-4e8b-878b-994d203bd5a0",
   "metadata": {
    "id": "41fcc907-4183-4e8b-878b-994d203bd5a0"
   },
   "source": [
    "`(3)` 아래를 이용하여 X,y를 만들어라. \n",
    "\n",
    "```python\n",
    "X,y = dls.one_batch()\n",
    "```\n",
    "\n",
    "X,y의 shape을 조사하라. X에는 몇개의 이미지가 있는가? 이미지의 size는 얼마인가? "
   ]
  },
  {
   "cell_type": "code",
   "execution_count": 7,
   "id": "51ab3a2b-91a7-45ce-a8a9-5c217284cd81",
   "metadata": {},
   "outputs": [],
   "source": [
    "X,y = dls.one_batch()"
   ]
  },
  {
   "cell_type": "code",
   "execution_count": 8,
   "id": "a6aa8a64-88dc-4e38-a4fa-ee2ee4d33458",
   "metadata": {},
   "outputs": [
    {
     "data": {
      "text/plain": [
       "torch.Size([64, 3, 28, 28])"
      ]
     },
     "execution_count": 8,
     "metadata": {},
     "output_type": "execute_result"
    }
   ],
   "source": [
    "X.shape"
   ]
  },
  {
   "cell_type": "markdown",
   "id": "54b373bf-3f37-46b1-855c-2b0c6fb84d9d",
   "metadata": {},
   "source": [
    "**Answer**\n",
    "- X에는 64개의 이미지가 들어있다.\n",
    "- image size는 28 $\\times$ 28 이다."
   ]
  },
  {
   "cell_type": "code",
   "execution_count": 9,
   "id": "976dd426-9148-4d92-80c3-e177f5981920",
   "metadata": {},
   "outputs": [
    {
     "data": {
      "text/plain": [
       "torch.Size([64])"
      ]
     },
     "execution_count": 9,
     "metadata": {},
     "output_type": "execute_result"
    }
   ],
   "source": [
    "y.shape"
   ]
  },
  {
   "cell_type": "markdown",
   "id": "45b56ab8-107c-47a8-8064-d02a24c2ee4f",
   "metadata": {
    "id": "45b56ab8-107c-47a8-8064-d02a24c2ee4f"
   },
   "source": [
    "`(4)` 아래의 코드를 이용하여 X의 두번째 이미지가 어떠한 숫자를 의미하는지 확인하라. (그림보고 3인지 7인지 확인하여 답을 쓸 것)\n",
    "```python\n",
    "show_image(X[0])\n",
    "```"
   ]
  },
  {
   "cell_type": "markdown",
   "id": "31d22da5-32f1-4fbf-b30b-6331e7fc7346",
   "metadata": {
    "id": "31d22da5-32f1-4fbf-b30b-6331e7fc7346"
   },
   "source": [
    "그리고 show_image가 정의된 파일의 경로를 확인하고 show_image가 python 내장함수 인지, torch에서 지원하는 함수인지 fastai에서 지원하는 함수인지 파악하라. "
   ]
  },
  {
   "cell_type": "code",
   "execution_count": 10,
   "id": "bcbefe58-3d1a-4b50-af62-2ff292006966",
   "metadata": {},
   "outputs": [
    {
     "name": "stderr",
     "output_type": "stream",
     "text": [
      "Clipping input data to the valid range for imshow with RGB data ([0..1] for floats or [0..255] for integers).\n"
     ]
    },
    {
     "data": {
      "text/plain": [
       "<AxesSubplot:>"
      ]
     },
     "execution_count": 10,
     "metadata": {},
     "output_type": "execute_result"
    },
    {
     "data": {
      "image/png": "[encoded data removed]",
      "text/plain": [
       "<Figure size 72x72 with 1 Axes>"
      ]
     },
     "metadata": {
      "needs_background": "light"
     },
     "output_type": "display_data"
    }
   ],
   "source": [
    "show_image(X[1])"
   ]
  },
  {
   "cell_type": "markdown",
   "id": "edd731e8-4bb2-4a9a-8857-fa6603702b33",
   "metadata": {},
   "source": [
    "**Answer**\n",
    "- X의 2번째 이미지는 7이다."
   ]
  },
  {
   "cell_type": "code",
   "execution_count": 11,
   "id": "a729ad4a-a5d7-41f0-862c-4b5cf6ee388a",
   "metadata": {},
   "outputs": [
    {
     "data": {
      "text/plain": [
       "\u001b[0;31mType:\u001b[0m            TensorImage\n",
       "\u001b[0;31mString form:\u001b[0m    \n",
       "TensorImage([[[[-2.1179, -2.1179, -2.1179,  ..., -2.1179, -2.1179, -2.1179],\n",
       "           [-2.1179,  <...>          [-1.8044, -1.8044, -1.8044,  ..., -1.8044, -1.8044, -1.8044]]]],\n",
       "           device='cuda:0')\n",
       "\u001b[0;31mLength:\u001b[0m          64\n",
       "\u001b[0;31mFile:\u001b[0m            ~/anaconda3/envs/csy/lib/python3.8/site-packages/fastai/torch_core.py\n",
       "\u001b[0;31mDocstring:\u001b[0m       <no docstring>\n",
       "\u001b[0;31mClass docstring:\u001b[0m A `Tensor` which support subclass pickling, and maintains metadata when casting or after methods\n"
      ]
     },
     "metadata": {},
     "output_type": "display_data"
    }
   ],
   "source": [
    "?X"
   ]
  },
  {
   "cell_type": "markdown",
   "id": "a4e13075-7990-4c02-9699-82595f138f91",
   "metadata": {},
   "source": [
    "**Answer**\n",
    "- fastai에서 지원하는 함수임을 확인하였다."
   ]
  },
  {
   "cell_type": "markdown",
   "id": "802451af-9e8f-4882-9cb5-2367a9cc9ec8",
   "metadata": {
    "id": "802451af-9e8f-4882-9cb5-2367a9cc9ec8"
   },
   "source": [
    "`(5)` lrnr 오브젝트를 이용하여 AI가 X[0]을 어떤 값으로 판단하는지 확인하라. 올바르게 판단하였는가? 올바르게 판단했다면 몇 프로의 확신으로 판단하였는가?"
   ]
  },
  {
   "cell_type": "code",
   "execution_count": 12,
   "id": "5d3d4997-a185-4fd8-b06a-4a84f0995e0d",
   "metadata": {},
   "outputs": [
    {
     "data": {
      "text/plain": [
       "TensorBase([[-5.3843,  5.4968]], device='cuda:0', grad_fn=<AliasBackward0>)"
      ]
     },
     "execution_count": 12,
     "metadata": {},
     "output_type": "execute_result"
    }
   ],
   "source": [
    "lrnr.model(X[0:1])"
   ]
  },
  {
   "cell_type": "code",
   "execution_count": 13,
   "id": "f2bb1087-0bcd-440d-a066-f601c436e58f",
   "metadata": {},
   "outputs": [
    {
     "name": "stderr",
     "output_type": "stream",
     "text": [
      "Clipping input data to the valid range for imshow with RGB data ([0..1] for floats or [0..255] for integers).\n"
     ]
    },
    {
     "data": {
      "text/plain": [
       "<AxesSubplot:>"
      ]
     },
     "execution_count": 13,
     "metadata": {},
     "output_type": "execute_result"
    },
    {
     "data": {
      "image/png": "[encoded data removed]",
      "text/plain": [
       "<Figure size 72x72 with 1 Axes>"
      ]
     },
     "metadata": {
      "needs_background": "light"
     },
     "output_type": "display_data"
    }
   ],
   "source": [
    "show_image(X[0])"
   ]
  },
  {
   "cell_type": "markdown",
   "id": "8da7d845-dafa-4eb8-963e-9a790b8c4246",
   "metadata": {},
   "source": [
    "**Answer**\n",
    "- 왼쪽이 크면 3으로 판단?"
   ]
  },
  {
   "cell_type": "code",
   "execution_count": 14,
   "id": "6fa29a32-12c5-4845-ac78-fcd61af431c8",
   "metadata": {},
   "outputs": [
    {
     "data": {
      "text/plain": [
       "TensorBase([[-3.1113,  2.9327]], device='cuda:0', grad_fn=<AliasBackward0>)"
      ]
     },
     "execution_count": 14,
     "metadata": {},
     "output_type": "execute_result"
    }
   ],
   "source": [
    "lrnr.model(X[1:2])"
   ]
  },
  {
   "cell_type": "code",
   "execution_count": 15,
   "id": "8aac8e0c-2f7f-40bb-b8c0-e576118ac4ec",
   "metadata": {},
   "outputs": [
    {
     "name": "stderr",
     "output_type": "stream",
     "text": [
      "Clipping input data to the valid range for imshow with RGB data ([0..1] for floats or [0..255] for integers).\n"
     ]
    },
    {
     "data": {
      "text/plain": [
       "<AxesSubplot:>"
      ]
     },
     "execution_count": 15,
     "metadata": {},
     "output_type": "execute_result"
    },
    {
     "data": {
      "image/png": "[encoded data removed]",
      "text/plain": [
       "<Figure size 72x72 with 1 Axes>"
      ]
     },
     "metadata": {
      "needs_background": "light"
     },
     "output_type": "display_data"
    }
   ],
   "source": [
    "show_image(X[1])"
   ]
  },
  {
   "cell_type": "markdown",
   "id": "2abb407e-6314-42df-8ed5-487dff763c0a",
   "metadata": {},
   "source": [
    "3이 0, 7이 1"
   ]
  },
  {
   "cell_type": "markdown",
   "id": "8cd0a26d-9ed5-4227-acc0-20dec5aa5eb5",
   "metadata": {},
   "source": [
    "**Answer**\n",
    "- 몉 %의 확신..."
   ]
  },
  {
   "cell_type": "markdown",
   "id": "536eb3e3-d1a6-4bf9-8bf7-3ab929b3dd77",
   "metadata": {
    "id": "536eb3e3-d1a6-4bf9-8bf7-3ab929b3dd77"
   },
   "source": [
    "## `2`. 추천시스템"
   ]
  },
  {
   "cell_type": "markdown",
   "id": "f2ebb584-3fc7-4e3d-8ebd-5f2a0a74afc6",
   "metadata": {
    "id": "f2ebb584-3fc7-4e3d-8ebd-5f2a0a74afc6"
   },
   "source": [
    "아래를 이용하여 rcmd_anal.csv 를 다운로드 받고 dls오브젝트를 만들어라."
   ]
  },
  {
   "cell_type": "code",
   "execution_count": 16,
   "id": "08428e62-ce80-43df-a30c-699d284d4786",
   "metadata": {
    "id": "08428e62-ce80-43df-a30c-699d284d4786"
   },
   "outputs": [],
   "source": [
    "df = pd.read_csv('https://raw.githubusercontent.com/guebin/DL2022/master/_notebooks/2022-09-08-rcmd_anal.csv')"
   ]
  },
  {
   "cell_type": "code",
   "execution_count": 17,
   "id": "77639105-f47c-438c-b5aa-4ac59b075496",
   "metadata": {},
   "outputs": [
    {
     "data": {
      "text/html": [
       "<div>\n",
       "<style scoped>\n",
       "    .dataframe tbody tr th:only-of-type {\n",
       "        vertical-align: middle;\n",
       "    }\n",
       "\n",
       "    .dataframe tbody tr th {\n",
       "        vertical-align: top;\n",
       "    }\n",
       "\n",
       "    .dataframe thead th {\n",
       "        text-align: right;\n",
       "    }\n",
       "</style>\n",
       "<table border=\"1\" class=\"dataframe\">\n",
       "  <thead>\n",
       "    <tr style=\"text-align: right;\">\n",
       "      <th></th>\n",
       "      <th>user</th>\n",
       "      <th>item</th>\n",
       "      <th>rating</th>\n",
       "      <th>item_name</th>\n",
       "    </tr>\n",
       "  </thead>\n",
       "  <tbody>\n",
       "    <tr>\n",
       "      <th>0</th>\n",
       "      <td>1</td>\n",
       "      <td>15</td>\n",
       "      <td>1.084308</td>\n",
       "      <td>홍차5</td>\n",
       "    </tr>\n",
       "    <tr>\n",
       "      <th>1</th>\n",
       "      <td>1</td>\n",
       "      <td>1</td>\n",
       "      <td>4.149209</td>\n",
       "      <td>커피1</td>\n",
       "    </tr>\n",
       "    <tr>\n",
       "      <th>2</th>\n",
       "      <td>1</td>\n",
       "      <td>11</td>\n",
       "      <td>1.142659</td>\n",
       "      <td>홍차1</td>\n",
       "    </tr>\n",
       "    <tr>\n",
       "      <th>3</th>\n",
       "      <td>1</td>\n",
       "      <td>5</td>\n",
       "      <td>4.033415</td>\n",
       "      <td>커피5</td>\n",
       "    </tr>\n",
       "    <tr>\n",
       "      <th>4</th>\n",
       "      <td>1</td>\n",
       "      <td>4</td>\n",
       "      <td>4.078139</td>\n",
       "      <td>커피4</td>\n",
       "    </tr>\n",
       "    <tr>\n",
       "      <th>...</th>\n",
       "      <td>...</td>\n",
       "      <td>...</td>\n",
       "      <td>...</td>\n",
       "      <td>...</td>\n",
       "    </tr>\n",
       "    <tr>\n",
       "      <th>995</th>\n",
       "      <td>100</td>\n",
       "      <td>18</td>\n",
       "      <td>4.104276</td>\n",
       "      <td>홍차8</td>\n",
       "    </tr>\n",
       "    <tr>\n",
       "      <th>996</th>\n",
       "      <td>100</td>\n",
       "      <td>17</td>\n",
       "      <td>4.164773</td>\n",
       "      <td>홍차7</td>\n",
       "    </tr>\n",
       "    <tr>\n",
       "      <th>997</th>\n",
       "      <td>100</td>\n",
       "      <td>14</td>\n",
       "      <td>4.026915</td>\n",
       "      <td>홍차4</td>\n",
       "    </tr>\n",
       "    <tr>\n",
       "      <th>998</th>\n",
       "      <td>100</td>\n",
       "      <td>4</td>\n",
       "      <td>0.838720</td>\n",
       "      <td>커피4</td>\n",
       "    </tr>\n",
       "    <tr>\n",
       "      <th>999</th>\n",
       "      <td>100</td>\n",
       "      <td>7</td>\n",
       "      <td>1.094826</td>\n",
       "      <td>커피7</td>\n",
       "    </tr>\n",
       "  </tbody>\n",
       "</table>\n",
       "<p>1000 rows × 4 columns</p>\n",
       "</div>"
      ],
      "text/plain": [
       "     user  item    rating item_name\n",
       "0       1    15  1.084308       홍차5\n",
       "1       1     1  4.149209       커피1\n",
       "2       1    11  1.142659       홍차1\n",
       "3       1     5  4.033415       커피5\n",
       "4       1     4  4.078139       커피4\n",
       "..    ...   ...       ...       ...\n",
       "995   100    18  4.104276       홍차8\n",
       "996   100    17  4.164773       홍차7\n",
       "997   100    14  4.026915       홍차4\n",
       "998   100     4  0.838720       커피4\n",
       "999   100     7  1.094826       커피7\n",
       "\n",
       "[1000 rows x 4 columns]"
      ]
     },
     "execution_count": 17,
     "metadata": {},
     "output_type": "execute_result"
    }
   ],
   "source": [
    "df"
   ]
  },
  {
   "cell_type": "markdown",
   "id": "a079de97-5b08-46c3-b57d-10d0042c5e68",
   "metadata": {
    "id": "a079de97-5b08-46c3-b57d-10d0042c5e68"
   },
   "source": [
    "`(2)` dls와 lrnr 오브젝트를 생성하고 lrnr 오브젝트를 학습하라. "
   ]
  },
  {
   "cell_type": "code",
   "execution_count": null,
   "id": "392ca4d7-9748-45b3-b6ea-55cc93251569",
   "metadata": {},
   "outputs": [],
   "source": [
    "dls = CollabDataLoaders.from_df(df)"
   ]
  },
  {
   "cell_type": "code",
   "execution_count": null,
   "id": "c93cb1a4-ac4a-4bca-8d1b-10bb4cfd8e44",
   "metadata": {},
   "outputs": [
    {
     "data": {
      "text/html": [
       "<table border=\"1\" class=\"dataframe\">\n",
       "  <thead>\n",
       "    <tr style=\"text-align: right;\">\n",
       "      <th></th>\n",
       "      <th>user</th>\n",
       "      <th>item</th>\n",
       "      <th>rating</th>\n",
       "    </tr>\n",
       "  </thead>\n",
       "  <tbody>\n",
       "    <tr>\n",
       "      <th>0</th>\n",
       "      <td>96</td>\n",
       "      <td>6</td>\n",
       "      <td>1.285778</td>\n",
       "    </tr>\n",
       "    <tr>\n",
       "      <th>1</th>\n",
       "      <td>49</td>\n",
       "      <td>8</td>\n",
       "      <td>3.763614</td>\n",
       "    </tr>\n",
       "    <tr>\n",
       "      <th>2</th>\n",
       "      <td>27</td>\n",
       "      <td>7</td>\n",
       "      <td>3.893725</td>\n",
       "    </tr>\n",
       "    <tr>\n",
       "      <th>3</th>\n",
       "      <td>67</td>\n",
       "      <td>19</td>\n",
       "      <td>3.843778</td>\n",
       "    </tr>\n",
       "    <tr>\n",
       "      <th>4</th>\n",
       "      <td>50</td>\n",
       "      <td>13</td>\n",
       "      <td>1.148465</td>\n",
       "    </tr>\n",
       "    <tr>\n",
       "      <th>5</th>\n",
       "      <td>11</td>\n",
       "      <td>4</td>\n",
       "      <td>3.938157</td>\n",
       "    </tr>\n",
       "    <tr>\n",
       "      <th>6</th>\n",
       "      <td>42</td>\n",
       "      <td>20</td>\n",
       "      <td>1.292435</td>\n",
       "    </tr>\n",
       "    <tr>\n",
       "      <th>7</th>\n",
       "      <td>82</td>\n",
       "      <td>5</td>\n",
       "      <td>0.916553</td>\n",
       "    </tr>\n",
       "    <tr>\n",
       "      <th>8</th>\n",
       "      <td>36</td>\n",
       "      <td>1</td>\n",
       "      <td>4.137721</td>\n",
       "    </tr>\n",
       "    <tr>\n",
       "      <th>9</th>\n",
       "      <td>57</td>\n",
       "      <td>16</td>\n",
       "      <td>4.069549</td>\n",
       "    </tr>\n",
       "  </tbody>\n",
       "</table>"
      ],
      "text/plain": [
       "<IPython.core.display.HTML object>"
      ]
     },
     "metadata": {},
     "output_type": "display_data"
    }
   ],
   "source": [
    "dls.show_batch()"
   ]
  },
  {
   "cell_type": "code",
   "execution_count": null,
   "id": "f2e52a9b-7e28-40d7-8017-32ae265f3d33",
   "metadata": {},
   "outputs": [],
   "source": [
    "X,y = dls.one_batch()"
   ]
  },
  {
   "cell_type": "code",
   "execution_count": null,
   "id": "6bd204ea-acc6-4f71-b601-57686ffceae0",
   "metadata": {},
   "outputs": [],
   "source": [
    "lrnr = collab_learner(dls,y_range = (0,5))"
   ]
  },
  {
   "cell_type": "code",
   "execution_count": null,
   "id": "cb3fdef5-7e8b-41fc-910c-9779311c0b95",
   "metadata": {},
   "outputs": [
    {
     "data": {
      "text/html": [
       "<table border=\"1\" class=\"dataframe\">\n",
       "  <thead>\n",
       "    <tr style=\"text-align: left;\">\n",
       "      <th>epoch</th>\n",
       "      <th>train_loss</th>\n",
       "      <th>valid_loss</th>\n",
       "      <th>time</th>\n",
       "    </tr>\n",
       "  </thead>\n",
       "  <tbody>\n",
       "    <tr>\n",
       "      <td>0</td>\n",
       "      <td>2.320941</td>\n",
       "      <td>2.324705</td>\n",
       "      <td>00:00</td>\n",
       "    </tr>\n",
       "    <tr>\n",
       "      <td>1</td>\n",
       "      <td>2.314797</td>\n",
       "      <td>2.322202</td>\n",
       "      <td>00:00</td>\n",
       "    </tr>\n",
       "    <tr>\n",
       "      <td>2</td>\n",
       "      <td>2.304035</td>\n",
       "      <td>2.304165</td>\n",
       "      <td>00:00</td>\n",
       "    </tr>\n",
       "    <tr>\n",
       "      <td>3</td>\n",
       "      <td>2.282305</td>\n",
       "      <td>2.254308</td>\n",
       "      <td>00:00</td>\n",
       "    </tr>\n",
       "    <tr>\n",
       "      <td>4</td>\n",
       "      <td>2.245986</td>\n",
       "      <td>2.159335</td>\n",
       "      <td>00:00</td>\n",
       "    </tr>\n",
       "    <tr>\n",
       "      <td>5</td>\n",
       "      <td>2.185294</td>\n",
       "      <td>2.012167</td>\n",
       "      <td>00:00</td>\n",
       "    </tr>\n",
       "    <tr>\n",
       "      <td>6</td>\n",
       "      <td>2.092429</td>\n",
       "      <td>1.816218</td>\n",
       "      <td>00:00</td>\n",
       "    </tr>\n",
       "    <tr>\n",
       "      <td>7</td>\n",
       "      <td>1.970966</td>\n",
       "      <td>1.581562</td>\n",
       "      <td>00:00</td>\n",
       "    </tr>\n",
       "    <tr>\n",
       "      <td>8</td>\n",
       "      <td>1.823084</td>\n",
       "      <td>1.325473</td>\n",
       "      <td>00:00</td>\n",
       "    </tr>\n",
       "    <tr>\n",
       "      <td>9</td>\n",
       "      <td>1.652672</td>\n",
       "      <td>1.069254</td>\n",
       "      <td>00:00</td>\n",
       "    </tr>\n",
       "    <tr>\n",
       "      <td>10</td>\n",
       "      <td>1.466299</td>\n",
       "      <td>0.829809</td>\n",
       "      <td>00:00</td>\n",
       "    </tr>\n",
       "    <tr>\n",
       "      <td>11</td>\n",
       "      <td>1.274990</td>\n",
       "      <td>0.623128</td>\n",
       "      <td>00:00</td>\n",
       "    </tr>\n",
       "    <tr>\n",
       "      <td>12</td>\n",
       "      <td>1.089228</td>\n",
       "      <td>0.454067</td>\n",
       "      <td>00:00</td>\n",
       "    </tr>\n",
       "    <tr>\n",
       "      <td>13</td>\n",
       "      <td>0.915093</td>\n",
       "      <td>0.323866</td>\n",
       "      <td>00:00</td>\n",
       "    </tr>\n",
       "    <tr>\n",
       "      <td>14</td>\n",
       "      <td>0.758784</td>\n",
       "      <td>0.229923</td>\n",
       "      <td>00:00</td>\n",
       "    </tr>\n",
       "    <tr>\n",
       "      <td>15</td>\n",
       "      <td>0.623223</td>\n",
       "      <td>0.164187</td>\n",
       "      <td>00:00</td>\n",
       "    </tr>\n",
       "    <tr>\n",
       "      <td>16</td>\n",
       "      <td>0.508283</td>\n",
       "      <td>0.121601</td>\n",
       "      <td>00:00</td>\n",
       "    </tr>\n",
       "    <tr>\n",
       "      <td>17</td>\n",
       "      <td>0.413276</td>\n",
       "      <td>0.093913</td>\n",
       "      <td>00:00</td>\n",
       "    </tr>\n",
       "    <tr>\n",
       "      <td>18</td>\n",
       "      <td>0.335680</td>\n",
       "      <td>0.076876</td>\n",
       "      <td>00:00</td>\n",
       "    </tr>\n",
       "    <tr>\n",
       "      <td>19</td>\n",
       "      <td>0.273323</td>\n",
       "      <td>0.066106</td>\n",
       "      <td>00:00</td>\n",
       "    </tr>\n",
       "    <tr>\n",
       "      <td>20</td>\n",
       "      <td>0.223283</td>\n",
       "      <td>0.059331</td>\n",
       "      <td>00:00</td>\n",
       "    </tr>\n",
       "    <tr>\n",
       "      <td>21</td>\n",
       "      <td>0.183475</td>\n",
       "      <td>0.055648</td>\n",
       "      <td>00:00</td>\n",
       "    </tr>\n",
       "    <tr>\n",
       "      <td>22</td>\n",
       "      <td>0.151858</td>\n",
       "      <td>0.053285</td>\n",
       "      <td>00:00</td>\n",
       "    </tr>\n",
       "    <tr>\n",
       "      <td>23</td>\n",
       "      <td>0.126928</td>\n",
       "      <td>0.051944</td>\n",
       "      <td>00:00</td>\n",
       "    </tr>\n",
       "    <tr>\n",
       "      <td>24</td>\n",
       "      <td>0.107295</td>\n",
       "      <td>0.051178</td>\n",
       "      <td>00:00</td>\n",
       "    </tr>\n",
       "    <tr>\n",
       "      <td>25</td>\n",
       "      <td>0.091720</td>\n",
       "      <td>0.050449</td>\n",
       "      <td>00:00</td>\n",
       "    </tr>\n",
       "    <tr>\n",
       "      <td>26</td>\n",
       "      <td>0.079588</td>\n",
       "      <td>0.050292</td>\n",
       "      <td>00:00</td>\n",
       "    </tr>\n",
       "    <tr>\n",
       "      <td>27</td>\n",
       "      <td>0.069907</td>\n",
       "      <td>0.050099</td>\n",
       "      <td>00:00</td>\n",
       "    </tr>\n",
       "    <tr>\n",
       "      <td>28</td>\n",
       "      <td>0.062333</td>\n",
       "      <td>0.050127</td>\n",
       "      <td>00:00</td>\n",
       "    </tr>\n",
       "    <tr>\n",
       "      <td>29</td>\n",
       "      <td>0.056345</td>\n",
       "      <td>0.049941</td>\n",
       "      <td>00:00</td>\n",
       "    </tr>\n",
       "  </tbody>\n",
       "</table>"
      ],
      "text/plain": [
       "<IPython.core.display.HTML object>"
      ]
     },
     "metadata": {},
     "output_type": "display_data"
    }
   ],
   "source": [
    "lrnr.fit(30)"
   ]
  },
  {
   "cell_type": "markdown",
   "id": "34ea3582-0a87-4725-a7a8-7313e62c8dee",
   "metadata": {
    "id": "64ce94a0-daee-4ca3-9f4b-f71c5e7af768"
   },
   "source": [
    "`(1)` 73번 유저가 먹은 아이템 및 평점을 출력하는 코드를 작성하라. 이를 기반으로 73번 유저가 어떠한 취향인지 파악하라. "
   ]
  },
  {
   "cell_type": "code",
   "execution_count": null,
   "id": "aced6cc5-a520-41d2-bf15-42a631577f0d",
   "metadata": {},
   "outputs": [
    {
     "data": {
      "text/plain": [
       "tensor([0.9855, 4.0321, 1.0405, 1.0612, 4.1033, 3.9851, 0.9788, 0.9517, 0.9547,\n",
       "        1.0172, 4.0755, 1.0367, 0.9674, 3.9807, 1.0733, 0.9906, 3.9274, 4.0603,\n",
       "        0.9905, 3.9601, 1.0285, 0.8986, 4.1014, 4.0409, 0.9821, 3.9432, 3.8689,\n",
       "        3.9666, 3.9385, 3.9335, 4.0350, 4.1181, 4.0165, 4.0374, 4.0379, 1.0354,\n",
       "        0.9240, 0.9333, 0.9354, 0.9310, 4.0022, 4.0325, 1.1484, 4.0243, 4.0091,\n",
       "        3.8682, 4.0180, 0.9321, 0.9291, 1.1728, 4.1206, 0.9976, 4.0275, 1.1463,\n",
       "        3.8876, 3.9805, 1.0495, 1.0352, 3.8943, 3.9146, 0.9915, 4.0992, 1.0217,\n",
       "        1.0631], device='cuda:0', grad_fn=<AddBackward0>)"
      ]
     },
     "execution_count": 24,
     "metadata": {},
     "output_type": "execute_result"
    }
   ],
   "source": [
    "lrnr.model(X.to(\"cuda:0\"))"
   ]
  },
  {
   "cell_type": "code",
   "execution_count": 24,
   "id": "6b5aa8e3-1bc3-46be-8146-631b243ffedf",
   "metadata": {},
   "outputs": [
    {
     "data": {
      "text/plain": [
       "tensor([0.9855, 4.0321, 1.0405, 1.0612, 4.1033, 3.9851, 0.9788, 0.9517, 0.9547,\n",
       "        1.0172, 4.0755, 1.0367, 0.9674, 3.9807, 1.0733, 0.9906, 3.9274, 4.0603,\n",
       "        0.9905, 3.9601, 1.0285, 0.8986, 4.1014, 4.0409, 0.9821, 3.9432, 3.8689,\n",
       "        3.9666, 3.9385, 3.9335, 4.0350, 4.1181, 4.0165, 4.0374, 4.0379, 1.0354,\n",
       "        0.9240, 0.9333, 0.9354, 0.9310, 4.0022, 4.0325, 1.1484, 4.0243, 4.0091,\n",
       "        3.8682, 4.0180, 0.9321, 0.9291, 1.1728, 4.1206, 0.9976, 4.0275, 1.1463,\n",
       "        3.8876, 3.9805, 1.0495, 1.0352, 3.8943, 3.9146, 0.9915, 4.0992, 1.0217,\n",
       "        1.0631], device='cuda:0', grad_fn=<AddBackward0>)"
      ]
     },
     "execution_count": 24,
     "metadata": {},
     "output_type": "execute_result"
    }
   ],
   "source": [
    "lrnr.model(X.to(\"cuda:0\"))"
   ]
  },
  {
   "cell_type": "markdown",
   "id": "0c1da7b6-3969-4dec-b30e-0a4a051b1ce2",
   "metadata": {
    "id": "0c1da7b6-3969-4dec-b30e-0a4a051b1ce2"
   },
   "source": [
    "`(3)` 아래와 같은 데이터 프레임을 생성하고 df_new 에 저장하라. "
   ]
  },
  {
   "cell_type": "code",
   "execution_count": 31,
   "id": "9ba83858-a50b-4340-aef4-8f70aaa37b12",
   "metadata": {
    "id": "9ba83858-a50b-4340-aef4-8f70aaa37b12",
    "outputId": "0c735307-7732-42cc-a4f2-07af3107b713"
   },
   "outputs": [
    {
     "data": {
      "text/html": [
       "<table border=\"1\" class=\"dataframe\">\n",
       "  <thead>\n",
       "    <tr style=\"text-align: right;\">\n",
       "      <th></th>\n",
       "      <th>user</th>\n",
       "      <th>item</th>\n",
       "    </tr>\n",
       "  </thead>\n",
       "  <tbody>\n",
       "    <tr>\n",
       "      <th>0</th>\n",
       "      <td>73</td>\n",
       "      <td>1</td>\n",
       "    </tr>\n",
       "    <tr>\n",
       "      <th>1</th>\n",
       "      <td>73</td>\n",
       "      <td>2</td>\n",
       "    </tr>\n",
       "    <tr>\n",
       "      <th>2</th>\n",
       "      <td>73</td>\n",
       "      <td>3</td>\n",
       "    </tr>\n",
       "    <tr>\n",
       "      <th>3</th>\n",
       "      <td>73</td>\n",
       "      <td>4</td>\n",
       "    </tr>\n",
       "    <tr>\n",
       "      <th>4</th>\n",
       "      <td>73</td>\n",
       "      <td>5</td>\n",
       "    </tr>\n",
       "    <tr>\n",
       "      <th>5</th>\n",
       "      <td>73</td>\n",
       "      <td>6</td>\n",
       "    </tr>\n",
       "    <tr>\n",
       "      <th>6</th>\n",
       "      <td>73</td>\n",
       "      <td>7</td>\n",
       "    </tr>\n",
       "    <tr>\n",
       "      <th>7</th>\n",
       "      <td>73</td>\n",
       "      <td>8</td>\n",
       "    </tr>\n",
       "    <tr>\n",
       "      <th>8</th>\n",
       "      <td>73</td>\n",
       "      <td>9</td>\n",
       "    </tr>\n",
       "    <tr>\n",
       "      <th>9</th>\n",
       "      <td>73</td>\n",
       "      <td>10</td>\n",
       "    </tr>\n",
       "    <tr>\n",
       "      <th>10</th>\n",
       "      <td>73</td>\n",
       "      <td>11</td>\n",
       "    </tr>\n",
       "    <tr>\n",
       "      <th>11</th>\n",
       "      <td>73</td>\n",
       "      <td>12</td>\n",
       "    </tr>\n",
       "    <tr>\n",
       "      <th>12</th>\n",
       "      <td>73</td>\n",
       "      <td>13</td>\n",
       "    </tr>\n",
       "    <tr>\n",
       "      <th>13</th>\n",
       "      <td>73</td>\n",
       "      <td>14</td>\n",
       "    </tr>\n",
       "    <tr>\n",
       "      <th>14</th>\n",
       "      <td>73</td>\n",
       "      <td>15</td>\n",
       "    </tr>\n",
       "    <tr>\n",
       "      <th>15</th>\n",
       "      <td>73</td>\n",
       "      <td>16</td>\n",
       "    </tr>\n",
       "    <tr>\n",
       "      <th>16</th>\n",
       "      <td>73</td>\n",
       "      <td>17</td>\n",
       "    </tr>\n",
       "    <tr>\n",
       "      <th>17</th>\n",
       "      <td>73</td>\n",
       "      <td>18</td>\n",
       "    </tr>\n",
       "    <tr>\n",
       "      <th>18</th>\n",
       "      <td>73</td>\n",
       "      <td>19</td>\n",
       "    </tr>\n",
       "    <tr>\n",
       "      <th>19</th>\n",
       "      <td>73</td>\n",
       "      <td>20</td>\n",
       "    </tr>\n",
       "  </tbody>\n",
       "</table>"
      ],
      "text/plain": [
       "<IPython.core.display.HTML object>"
      ]
     },
     "execution_count": 31,
     "metadata": {},
     "output_type": "execute_result"
    }
   ],
   "source": [
    "#hide\n",
    "import IPython \n",
    "_html='<table border=\"1\" class=\"dataframe\">\\n  <thead>\\n    <tr style=\"text-align: right;\">\\n      <th></th>\\n      <th>user</th>\\n      <th>item</th>\\n    </tr>\\n  </thead>\\n  <tbody>\\n    <tr>\\n      <th>0</th>\\n      <td>73</td>\\n      <td>1</td>\\n    </tr>\\n    <tr>\\n      <th>1</th>\\n      <td>73</td>\\n      <td>2</td>\\n    </tr>\\n    <tr>\\n      <th>2</th>\\n      <td>73</td>\\n      <td>3</td>\\n    </tr>\\n    <tr>\\n      <th>3</th>\\n      <td>73</td>\\n      <td>4</td>\\n    </tr>\\n    <tr>\\n      <th>4</th>\\n      <td>73</td>\\n      <td>5</td>\\n    </tr>\\n    <tr>\\n      <th>5</th>\\n      <td>73</td>\\n      <td>6</td>\\n    </tr>\\n    <tr>\\n      <th>6</th>\\n      <td>73</td>\\n      <td>7</td>\\n    </tr>\\n    <tr>\\n      <th>7</th>\\n      <td>73</td>\\n      <td>8</td>\\n    </tr>\\n    <tr>\\n      <th>8</th>\\n      <td>73</td>\\n      <td>9</td>\\n    </tr>\\n    <tr>\\n      <th>9</th>\\n      <td>73</td>\\n      <td>10</td>\\n    </tr>\\n    <tr>\\n      <th>10</th>\\n      <td>73</td>\\n      <td>11</td>\\n    </tr>\\n    <tr>\\n      <th>11</th>\\n      <td>73</td>\\n      <td>12</td>\\n    </tr>\\n    <tr>\\n      <th>12</th>\\n      <td>73</td>\\n      <td>13</td>\\n    </tr>\\n    <tr>\\n      <th>13</th>\\n      <td>73</td>\\n      <td>14</td>\\n    </tr>\\n    <tr>\\n      <th>14</th>\\n      <td>73</td>\\n      <td>15</td>\\n    </tr>\\n    <tr>\\n      <th>15</th>\\n      <td>73</td>\\n      <td>16</td>\\n    </tr>\\n    <tr>\\n      <th>16</th>\\n      <td>73</td>\\n      <td>17</td>\\n    </tr>\\n    <tr>\\n      <th>17</th>\\n      <td>73</td>\\n      <td>18</td>\\n    </tr>\\n    <tr>\\n      <th>18</th>\\n      <td>73</td>\\n      <td>19</td>\\n    </tr>\\n    <tr>\\n      <th>19</th>\\n      <td>73</td>\\n      <td>20</td>\\n    </tr>\\n  </tbody>\\n</table>'\n",
    "IPython.display.HTML(_html)"
   ]
  },
  {
   "cell_type": "code",
   "execution_count": null,
   "id": "d1510953-a666-4729-9fea-8b2714d06c99",
   "metadata": {},
   "outputs": [],
   "source": [
    "user"
   ]
  },
  {
   "cell_type": "markdown",
   "id": "34cddf69-14c0-41a4-87ba-c8158eb16a7f",
   "metadata": {
    "id": "34cddf69-14c0-41a4-87ba-c8158eb16a7f"
   },
   "source": [
    "`(4)` 아래의 코드를 이용하여 73번 유저의 취향을 파악하라. 73번 유저가 커피3, 커피5를 먹는다면 얼마정도의 평점을 줄 것이라 예측되는가? \n",
    "\n",
    "```Python\n",
    "_dl = dls.test_dl(df_new)\n",
    "lrnr.get_preds(dl=_dl)\n",
    "```\n"
   ]
  },
  {
   "cell_type": "markdown",
   "id": "53a81a4a-9600-499a-a452-f7d73191567c",
   "metadata": {
    "id": "53a81a4a-9600-499a-a452-f7d73191567c"
   },
   "source": [
    "## `3`. 시퀀스자료분석"
   ]
  },
  {
   "cell_type": "markdown",
   "id": "8a20ef78-837d-45dd-af33-6be25800734c",
   "metadata": {
    "id": "8a20ef78-837d-45dd-af33-6be25800734c"
   },
   "source": [
    "아래를 이용하여 자료를 다운로드 받아라. "
   ]
  },
  {
   "cell_type": "code",
   "execution_count": null,
   "id": "cec1d5c5-f3e3-4bfe-be18-80a931430b44",
   "metadata": {
    "id": "cec1d5c5-f3e3-4bfe-be18-80a931430b44"
   },
   "outputs": [],
   "source": [
    "df = pd.read_csv('https://raw.githubusercontent.com/guebin/DL2022/master/_notebooks/2022-09-19-human_numbers_100.csv')"
   ]
  },
  {
   "cell_type": "markdown",
   "id": "930d6582-a26c-4660-ab50-c9d26f5dd863",
   "metadata": {
    "id": "930d6582-a26c-4660-ab50-c9d26f5dd863"
   },
   "source": [
    "`(1)` TextDataLoaders.from_df을 이용하여 dls오브젝트를 만들어라. \n",
    "- is_lm = True 로 설정할 것 \n",
    "- seq_len = 5 로 설정할 것 "
   ]
  },
  {
   "cell_type": "markdown",
   "id": "c4df5593-c3d5-4299-9f95-7c4d5fa968a3",
   "metadata": {
    "id": "c4df5593-c3d5-4299-9f95-7c4d5fa968a3"
   },
   "source": [
    "`(2)` lrnr 오브젝트를 만들어라. \n",
    "- arch = AWD_LSTM 이용 \n",
    "- metrics = accuracy 이용 "
   ]
  },
  {
   "cell_type": "markdown",
   "id": "8044c0be-0e04-4dd7-ada8-fa7d1f3c61d3",
   "metadata": {
    "id": "8044c0be-0e04-4dd7-ada8-fa7d1f3c61d3"
   },
   "source": [
    "`(3)` lrnr오브젝트에서 fine_tune(3) 메소드를 이용하여 모형을 학습하라. "
   ]
  },
  {
   "cell_type": "markdown",
   "id": "03633796-9683-40de-a4b8-2d06a001273d",
   "metadata": {
    "id": "03633796-9683-40de-a4b8-2d06a001273d"
   },
   "source": [
    "`(4)` 'one , two ,' 이후에 이어질 50개의 단어를 생성하라."
   ]
  },
  {
   "cell_type": "markdown",
   "id": "8af44b7b-3040-479e-b941-4c8696a19744",
   "metadata": {
    "id": "8af44b7b-3040-479e-b941-4c8696a19744"
   },
   "source": [
    "`(5)` 'twenty , twenty one , ' 이후에 이어질 50개의 단어를 생성하라. "
   ]
  },
  {
   "cell_type": "markdown",
   "id": "9bec975e-d076-4b40-a274-feb99112c3fe",
   "metadata": {
    "id": "9bec975e-d076-4b40-a274-feb99112c3fe"
   },
   "source": [
    "## `4`. 리눅스명령어"
   ]
  },
  {
   "cell_type": "markdown",
   "id": "98166cbb-258b-4308-b1be-ba4d95fa6658",
   "metadata": {
    "id": "98166cbb-258b-4308-b1be-ba4d95fa6658"
   },
   "source": [
    "Collab 에서 (혹은 리눅스기반 서버에서) 아래의 명령어를 순서대로 실행해보라. \n",
    "```\n",
    "!ls\n",
    "!ls -a \n",
    "!ls .\n",
    "!ls .. \n",
    "!ls sample\n",
    "!mkdir asdf \n",
    "!wget https://raw.githubusercontent.com/guebin/DL2022/master/_notebooks/2022-09-08-rcmd_anal.csv\n",
    "!cp 2022-09-08-rcmd_anal.csv ./asdf \n",
    "!ls ./asdf \n",
    "!rm 2022-09-08-rcmd_anal.csv \n",
    "!rm -rf asdf \n",
    "```"
   ]
  },
  {
   "cell_type": "markdown",
   "id": "324af3d3-bc93-4c1b-9e37-094254d9e1bb",
   "metadata": {
    "id": "324af3d3-bc93-4c1b-9e37-094254d9e1bb"
   },
   "source": [
    "각 명령들이 무엇을 의미하는지 간단히 서술하라. "
   ]
  }
 ],
 "metadata": {
  "colab": {
   "provenance": []
  },
  "kernelspec": {
   "display_name": "Python 3 (ipykernel)",
   "language": "python",
   "name": "python3"
  },
  "language_info": {
   "codemirror_mode": {
    "name": "ipython",
    "version": 3
   },
   "file_extension": ".py",
   "mimetype": "text/x-python",
   "name": "python",
   "nbconvert_exporter": "python",
   "pygments_lexer": "ipython3",
   "version": "3.8.12"
  }
 },
 "nbformat": 4,
 "nbformat_minor": 5
}
