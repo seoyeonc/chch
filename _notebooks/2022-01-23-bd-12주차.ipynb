{
 "cells": [
  {
   "cell_type": "markdown",
   "id": "d44ba9bc-ebf3-49d8-b2db-9d49bf1bec22",
   "metadata": {
    "id": "d44ba9bc-ebf3-49d8-b2db-9d49bf1bec22",
    "tags": []
   },
   "source": [
    "# 빅데이터 분석 (12주차) 11월30일\n",
    "> 기울기소멸, 추천시스템 \n",
    "\n",
    "- toc:false\n",
    "- branch: master\n",
    "- badges: false\n",
    "- comments: false \n",
    "- author: 최서연\n",
    "- categories: [Big Data Analysis, 기울기소멸, 추천시스템]"
   ]
  },
  {
   "cell_type": "markdown",
   "id": "e130b9a3-8b4a-4918-8d47-f893f5c6c458",
   "metadata": {
    "id": "e130b9a3-8b4a-4918-8d47-f893f5c6c458",
    "tags": []
   },
   "source": [
    "## 기울기소멸 Vanishing gradient"
   ]
  },
  {
   "cell_type": "markdown",
   "id": "abccd4de-7ad2-4853-a3f5-c87ee4c1d2f4",
   "metadata": {
    "id": "abccd4de-7ad2-4853-a3f5-c87ee4c1d2f4"
   },
   "source": [
    "### 정의 "
   ]
  },
  {
   "cell_type": "markdown",
   "id": "777a8d37-2436-4de0-9f75-1d6a3e8acf64",
   "metadata": {
    "id": "777a8d37-2436-4de0-9f75-1d6a3e8acf64"
   },
   "source": [
    "`-` In machine learning, the vanishing gradient problem is encountered when training artificial neural networks with gradient-based learning methods and backpropagation. "
   ]
  },
  {
   "cell_type": "markdown",
   "id": "1aa7c707-89ee-4896-b33b-e8ad559aa08e",
   "metadata": {
    "id": "1aa7c707-89ee-4896-b33b-e8ad559aa08e"
   },
   "source": [
    "### 이해"
   ]
  },
  {
   "cell_type": "markdown",
   "id": "e8c7875c-6bc9-4e22-8de8-652b766420b5",
   "metadata": {
    "id": "e8c7875c-6bc9-4e22-8de8-652b766420b5"
   },
   "source": [
    "`-` 당연한것 아닌가? \n",
    "- 그레디언트 기반의 학습 (그레디언트 기반의 옵티마이저): 손실함수의 기울기를 통하여 업데이트 하는 방식 \n",
    "- 역전파: 손실함수의 기울기를 구하는 테크닉 (체인룰 + $\\alpha$). 구체적으로는 (1) 손실함수를 여러단계로 쪼개고(여러 합성함수로 표현하고) (2) 각 단계의 미분값을 각각 구하고 (3) 그것들을 모두 곱하여 기울기를 계산한다. \n",
    "- 0 근처의 숫자를 계속 곱하면 터지거나 0으로 간다. (사실 안정적인 기울기가 나올 것이라고 생각하는것 자체가 사실 이상함) "
   ]
  },
  {
   "cell_type": "code",
   "execution_count": 1,
   "id": "aca0ab8b-beaa-4b5b-a3fd-d2b989bdc29f",
   "metadata": {
    "id": "aca0ab8b-beaa-4b5b-a3fd-d2b989bdc29f"
   },
   "outputs": [],
   "source": [
    "import numpy as np "
   ]
  },
  {
   "cell_type": "code",
   "execution_count": 2,
   "id": "2fd0a9cc-a76b-4d67-915d-8cf4b93d05cb",
   "metadata": {
    "id": "2fd0a9cc-a76b-4d67-915d-8cf4b93d05cb",
    "outputId": "f96b7341-be02-4b99-d8cc-b1933436cbcc"
   },
   "outputs": [
    {
     "data": {
      "text/plain": [
       "array([ 1.25061919,  1.06949841,  1.35311978,  0.58158985,  1.76683863,\n",
       "       -0.151217  , -1.14061494,  1.36810518,  0.0398364 , -0.43395175,\n",
       "        0.72469629, -1.48156131, -0.594101  ,  1.25013534,  1.84981613,\n",
       "       -0.91010133,  0.82005588,  0.65678338,  1.00464755, -1.17373755,\n",
       "        1.55499399, -1.02264197, -1.07086263, -1.75650821,  1.31665262,\n",
       "        1.1641988 , -1.15956353,  1.5431544 ,  1.60339074, -0.52551961,\n",
       "       -1.74771219,  0.09466559,  1.04927929,  1.24797762, -1.95957155,\n",
       "        1.6131183 ,  0.48512285, -0.69409283, -0.80991242,  1.05306652,\n",
       "       -0.7497829 , -1.2826751 , -0.9659906 , -0.10317097, -0.43583316,\n",
       "        0.53283005, -1.27581754,  1.06188645, -0.59590509, -1.50368236,\n",
       "       -0.52279979,  1.35875764,  0.48325635,  0.69482476,  0.04276697,\n",
       "        0.5990455 ,  0.71583573,  1.29761969, -1.74874052, -0.24522533,\n",
       "        0.80958567, -0.18179041, -1.79318476, -1.46738069, -1.238332  ,\n",
       "       -0.94801909, -1.84434559,  0.28968162,  1.97567079, -0.66347898,\n",
       "        1.34647117, -0.50126953, -1.01165531,  0.95103219,  1.65630128,\n",
       "        0.89124097, -0.42934255,  1.83242969,  1.58535197,  1.729627  ,\n",
       "       -1.57923394,  0.53882344,  1.78275255,  0.92732809,  1.93114402,\n",
       "        0.397884  , -0.28289665, -0.09000512,  1.52746467,  1.82483229,\n",
       "        1.52212373,  1.15494177, -1.57815235,  1.46995688, -0.18524338,\n",
       "       -1.77016608, -0.950607  , -0.65663769, -0.79979375,  1.68782803])"
      ]
     },
     "execution_count": 2,
     "metadata": {},
     "output_type": "execute_result"
    }
   ],
   "source": [
    "grads = np.random.uniform(low=-2,high=2,size=100) \n",
    "grads"
   ]
  },
  {
   "cell_type": "code",
   "execution_count": 3,
   "id": "187f22f5-c652-4219-bf71-0ca4e1810081",
   "metadata": {
    "id": "187f22f5-c652-4219-bf71-0ca4e1810081",
    "outputId": "9b809e78-45e0-4093-f90d-7208cd0705b4"
   },
   "outputs": [
    {
     "data": {
      "text/plain": [
       "3.292214486300399e-08"
      ]
     },
     "execution_count": 3,
     "metadata": {},
     "output_type": "execute_result"
    }
   ],
   "source": [
    "grads.prod()"
   ]
  },
  {
   "cell_type": "markdown",
   "id": "9138b8dd-e50d-4b93-8fb0-fb10e86883bc",
   "metadata": {},
   "source": [
    " 몇 번 해봐도 0이 나오는 형상"
   ]
  },
  {
   "cell_type": "markdown",
   "id": "8f84eb43-7e74-4f39-b003-b07ca3f52047",
   "metadata": {
    "id": "8f84eb43-7e74-4f39-b003-b07ca3f52047"
   },
   "source": [
    "- 기울기가 소멸함 "
   ]
  },
  {
   "cell_type": "code",
   "execution_count": null,
   "id": "94a288e9-083f-4252-a844-3be6cd25e98b",
   "metadata": {
    "id": "94a288e9-083f-4252-a844-3be6cd25e98b",
    "outputId": "df0f85cf-5966-47fb-b969-5d969d9c178b"
   },
   "outputs": [
    {
     "data": {
      "text/plain": [
       "2.2118230498890502e+26"
      ]
     },
     "execution_count": 4,
     "metadata": {},
     "output_type": "execute_result"
    }
   ],
   "source": [
    "grads = np.random.uniform(low=-5,high=5,size=100) \n",
    "grads.prod()"
   ]
  },
  {
   "cell_type": "markdown",
   "id": "8ee8f48b-d076-4213-84f3-0de0cca1cf56",
   "metadata": {
    "id": "8ee8f48b-d076-4213-84f3-0de0cca1cf56"
   },
   "source": [
    "- 기울기가 폭발함. "
   ]
  },
  {
   "cell_type": "code",
   "execution_count": null,
   "id": "b58e5e25-ddc6-4f5c-b8d5-84e0f93147fa",
   "metadata": {
    "id": "b58e5e25-ddc6-4f5c-b8d5-84e0f93147fa",
    "outputId": "642dcfb2-f69f-4817-eb7e-ccab720cf7fa"
   },
   "outputs": [
    {
     "data": {
      "text/plain": [
       "5.058085058858178e-07"
      ]
     },
     "execution_count": 5,
     "metadata": {},
     "output_type": "execute_result"
    }
   ],
   "source": [
    "grads = np.random.uniform(low=-1,high=3.5,size=100) \n",
    "grads.prod()"
   ]
  },
  {
   "cell_type": "markdown",
   "id": "b7618478-dd4f-470d-8a92-cfd029ba34be",
   "metadata": {
    "id": "b7618478-dd4f-470d-8a92-cfd029ba34be"
   },
   "source": [
    "`-` 도깨비: 기울기가 소멸하기도 하고 터지기도 한다. "
   ]
  },
  {
   "cell_type": "markdown",
   "id": "ccc2d976-5d03-4687-aefd-744d59a2dc33",
   "metadata": {
    "id": "ccc2d976-5d03-4687-aefd-744d59a2dc33",
    "tags": []
   },
   "source": [
    "### 해결책 (기울기 소멸에 대한 해결책) "
   ]
  },
  {
   "cell_type": "markdown",
   "id": "fe3a695c-de35-417a-97dc-b9ebbd525b00",
   "metadata": {
    "id": "fe3a695c-de35-417a-97dc-b9ebbd525b00"
   },
   "source": [
    "> Note: 잘 정리되어있는것이 없어서 제 머리속에서 정리했습니다. 부정확할수도 있어요 "
   ]
  },
  {
   "cell_type": "markdown",
   "id": "7f98b084-964e-4f31-b0d3-d9b4f2e987f2",
   "metadata": {
    "id": "7f98b084-964e-4f31-b0d3-d9b4f2e987f2"
   },
   "source": [
    "`-` 개념 \n",
    "- 데이터 $\\to$ (아키텍처,손실함수,역전파,업데이트) "
   ]
  },
  {
   "cell_type": "markdown",
   "id": "29d117ed-ff7a-49ca-82f2-914342e4fa0d",
   "metadata": {
    "id": "29d117ed-ff7a-49ca-82f2-914342e4fa0d"
   },
   "source": [
    "`-` Multi-level hierarchy\n",
    "- 여러층을 쪼개서 학습하자 $\\to$ 어떻게? 사전학습, 층벼학습 \n",
    "- 기울기소실문제를 해결하여 딥러닝을 유행시킨 태초의(?) 방법임. \n",
    "- 결국 입력자료를 바꾼뒤에 학습하는 형태 "
   ]
  },
  {
   "cell_type": "markdown",
   "id": "46a2deed-92dc-4a19-bff9-8533e4090dc7",
   "metadata": {
    "id": "46a2deed-92dc-4a19-bff9-8533e4090dc7"
   },
   "source": [
    "`-` Faster hardware\n",
    "- GPU를 중심으로 한 테크닉 \n",
    "- 근본적인 문제해결책은 아니라는 힌튼의 비판 \n",
    "- CPU를 쓸때보다 GPU를 쓰면 약간 더 깊은 모형을 학습할 수 있다 정도? "
   ]
  },
  {
   "cell_type": "markdown",
   "id": "20afee82-0627-44ac-afab-641477a82a96",
   "metadata": {
    "id": "20afee82-0627-44ac-afab-641477a82a96"
   },
   "source": [
    "`-` Residual networks\n",
    "- 훌륭한 접근법중 하나임 \n",
    "- 아키텍처를 변경하는 방법이지만, 사실상 손실함수를 부드럽게 만드는 기법으로 이해해도 된다. \n",
    "- 솟컷이라는 아키텍처를 추가하여 이리저리 실험해보니까 손실함수가 부드러워졌다.  <--- 이런게 아니고 \n",
    "- 손실함수를 부드럽게 하기 위해서는 층별의차이(residual)를 학습하는게 유리할 것 같다. 그런데 이것을 위한 효과를 주기 위해서는 단지 아키텍처에 숏만만 추가하면 되겠다. <--- 이런 모티브였을 것이다. "
   ]
  },
  {
   "cell_type": "markdown",
   "id": "d634c4d4-77cd-4cd7-a8b3-f056b8f97ab3",
   "metadata": {
    "id": "d634c4d4-77cd-4cd7-a8b3-f056b8f97ab3"
   },
   "source": [
    "`-` Other activation functions\n",
    "- 렐루의 개발"
   ]
  },
  {
   "cell_type": "markdown",
   "id": "7e8db6b9-d7d8-45ff-be4f-718ebf05d5de",
   "metadata": {
    "id": "7e8db6b9-d7d8-45ff-be4f-718ebf05d5de"
   },
   "source": [
    "`-` 배치정규화 \n",
    "- 어쩌다보니 되는것. \n",
    "- 배치정규화는 원래 공변량 쉬프트를 잡기 위한 방법임. 그런데 기울기 소멸에도 효과가 있음. 현재는 기울기소멸문제에 대한 해결책으로 빠짐없이 언급되고 있음. 2015년의 원래 논문에는 기울기소멸에 대한 언급은 없었음. (https://arxiv.org/pdf/1502.03167.pdf)\n",
    "- 심지어 배치정규화는 오버피팅을 잡는효과도 있음 (이것은 논문에 언급했음) "
   ]
  },
  {
   "cell_type": "markdown",
   "id": "ce4e5146-3cf5-4fc1-9dbb-af76172703f7",
   "metadata": {
    "id": "ce4e5146-3cf5-4fc1-9dbb-af76172703f7"
   },
   "source": [
    "`-` **기울기를 안구하면 안되나?**`\n",
    "- 베이지안 최적화기법: (https://arxiv.org/pdf/1807.02811.pdf) $\\to$ GPU를 어떻게 쓰지? $\\to$ 느리다 "
   ]
  },
  {
   "cell_type": "markdown",
   "id": "76a91217-ff81-4e42-b913-bdbd27be6c87",
   "metadata": {
    "id": "76a91217-ff81-4e42-b913-bdbd27be6c87"
   },
   "source": [
    "## 추천시스템 "
   ]
  },
  {
   "cell_type": "markdown",
   "id": "b40714f7-2817-4441-bc67-41eabc03434f",
   "metadata": {
    "id": "b40714f7-2817-4441-bc67-41eabc03434f"
   },
   "source": [
    "### import "
   ]
  },
  {
   "cell_type": "code",
   "execution_count": null,
   "id": "c495e246-cea8-438f-ab22-073f9e75b21a",
   "metadata": {
    "id": "c495e246-cea8-438f-ab22-073f9e75b21a"
   },
   "outputs": [],
   "source": [
    "import pandas as pd \n",
    "import torch \n",
    "from fastai.collab import * \n",
    "from fastai.tabular.all import * "
   ]
  },
  {
   "cell_type": "markdown",
   "id": "be26cfc9-da37-41bf-8390-b417f0a86ad9",
   "metadata": {
    "id": "be26cfc9-da37-41bf-8390-b417f0a86ad9"
   },
   "source": [
    "### Data (시뮬레이션) "
   ]
  },
  {
   "cell_type": "code",
   "execution_count": null,
   "id": "bb835962-2c20-440b-bc92-432b987df327",
   "metadata": {
    "id": "bb835962-2c20-440b-bc92-432b987df327",
    "outputId": "57479497-3a80-49ca-8511-6df310651bd4"
   },
   "outputs": [
    {
     "data": {
      "text/html": [
       "<div>\n",
       "<style scoped>\n",
       "    .dataframe tbody tr th:only-of-type {\n",
       "        vertical-align: middle;\n",
       "    }\n",
       "\n",
       "    .dataframe tbody tr th {\n",
       "        vertical-align: top;\n",
       "    }\n",
       "\n",
       "    .dataframe thead th {\n",
       "        text-align: right;\n",
       "    }\n",
       "</style>\n",
       "<table border=\"1\" class=\"dataframe\">\n",
       "  <thead>\n",
       "    <tr style=\"text-align: right;\">\n",
       "      <th></th>\n",
       "      <th>user</th>\n",
       "      <th>item</th>\n",
       "      <th>rating</th>\n",
       "      <th>item_name</th>\n",
       "    </tr>\n",
       "  </thead>\n",
       "  <tbody>\n",
       "    <tr>\n",
       "      <th>0</th>\n",
       "      <td>1</td>\n",
       "      <td>15</td>\n",
       "      <td>1.084308</td>\n",
       "      <td>홍차5</td>\n",
       "    </tr>\n",
       "    <tr>\n",
       "      <th>1</th>\n",
       "      <td>1</td>\n",
       "      <td>1</td>\n",
       "      <td>4.149209</td>\n",
       "      <td>커피1</td>\n",
       "    </tr>\n",
       "    <tr>\n",
       "      <th>2</th>\n",
       "      <td>1</td>\n",
       "      <td>11</td>\n",
       "      <td>1.142659</td>\n",
       "      <td>홍차1</td>\n",
       "    </tr>\n",
       "    <tr>\n",
       "      <th>3</th>\n",
       "      <td>1</td>\n",
       "      <td>5</td>\n",
       "      <td>4.033415</td>\n",
       "      <td>커피5</td>\n",
       "    </tr>\n",
       "    <tr>\n",
       "      <th>4</th>\n",
       "      <td>1</td>\n",
       "      <td>4</td>\n",
       "      <td>4.078139</td>\n",
       "      <td>커피4</td>\n",
       "    </tr>\n",
       "    <tr>\n",
       "      <th>...</th>\n",
       "      <td>...</td>\n",
       "      <td>...</td>\n",
       "      <td>...</td>\n",
       "      <td>...</td>\n",
       "    </tr>\n",
       "    <tr>\n",
       "      <th>995</th>\n",
       "      <td>100</td>\n",
       "      <td>18</td>\n",
       "      <td>4.104276</td>\n",
       "      <td>홍차8</td>\n",
       "    </tr>\n",
       "    <tr>\n",
       "      <th>996</th>\n",
       "      <td>100</td>\n",
       "      <td>17</td>\n",
       "      <td>4.164773</td>\n",
       "      <td>홍차7</td>\n",
       "    </tr>\n",
       "    <tr>\n",
       "      <th>997</th>\n",
       "      <td>100</td>\n",
       "      <td>14</td>\n",
       "      <td>4.026915</td>\n",
       "      <td>홍차4</td>\n",
       "    </tr>\n",
       "    <tr>\n",
       "      <th>998</th>\n",
       "      <td>100</td>\n",
       "      <td>4</td>\n",
       "      <td>0.838720</td>\n",
       "      <td>커피4</td>\n",
       "    </tr>\n",
       "    <tr>\n",
       "      <th>999</th>\n",
       "      <td>100</td>\n",
       "      <td>7</td>\n",
       "      <td>1.094826</td>\n",
       "      <td>커피7</td>\n",
       "    </tr>\n",
       "  </tbody>\n",
       "</table>\n",
       "<p>1000 rows × 4 columns</p>\n",
       "</div>"
      ],
      "text/plain": [
       "     user  item    rating item_name\n",
       "0       1    15  1.084308       홍차5\n",
       "1       1     1  4.149209       커피1\n",
       "2       1    11  1.142659       홍차1\n",
       "3       1     5  4.033415       커피5\n",
       "4       1     4  4.078139       커피4\n",
       "..    ...   ...       ...       ...\n",
       "995   100    18  4.104276       홍차8\n",
       "996   100    17  4.164773       홍차7\n",
       "997   100    14  4.026915       홍차4\n",
       "998   100     4  0.838720       커피4\n",
       "999   100     7  1.094826       커피7\n",
       "\n",
       "[1000 rows x 4 columns]"
      ]
     },
     "execution_count": 7,
     "metadata": {},
     "output_type": "execute_result"
    }
   ],
   "source": [
    "df=pd.read_csv('https://raw.githubusercontent.com/guebin/2021BDA/master/_notebooks/2021-11-30-recommend.csv')\n",
    "df"
   ]
  },
  {
   "cell_type": "markdown",
   "id": "f2439f0b-e22c-41a7-b047-43761bfceee9",
   "metadata": {
    "id": "f2439f0b-e22c-41a7-b047-43761bfceee9"
   },
   "source": [
    "### user-item matrix "
   ]
  },
  {
   "cell_type": "markdown",
   "id": "7f896fb5-bd75-4942-b230-e9e8e50700ca",
   "metadata": {
    "id": "7f896fb5-bd75-4942-b230-e9e8e50700ca"
   },
   "source": [
    "`-` 아래와 같은 매트릭스를 고려하자. "
   ]
  },
  {
   "cell_type": "code",
   "execution_count": null,
   "id": "e31576e4-6038-47d1-83a5-b85412a2c2c3",
   "metadata": {
    "id": "e31576e4-6038-47d1-83a5-b85412a2c2c3",
    "outputId": "f25d5754-9813-455b-d996-71812d7044eb"
   },
   "outputs": [
    {
     "data": {
      "text/html": [
       "<div>\n",
       "<style scoped>\n",
       "    .dataframe tbody tr th:only-of-type {\n",
       "        vertical-align: middle;\n",
       "    }\n",
       "\n",
       "    .dataframe tbody tr th {\n",
       "        vertical-align: top;\n",
       "    }\n",
       "\n",
       "    .dataframe thead th {\n",
       "        text-align: right;\n",
       "    }\n",
       "</style>\n",
       "<table border=\"1\" class=\"dataframe\">\n",
       "  <thead>\n",
       "    <tr style=\"text-align: right;\">\n",
       "      <th></th>\n",
       "      <th>커피1</th>\n",
       "      <th>커피2</th>\n",
       "      <th>커피3</th>\n",
       "      <th>커피4</th>\n",
       "      <th>커피5</th>\n",
       "      <th>커피6</th>\n",
       "      <th>커피7</th>\n",
       "      <th>커피8</th>\n",
       "      <th>커피9</th>\n",
       "      <th>커피10</th>\n",
       "      <th>홍차1</th>\n",
       "      <th>홍차2</th>\n",
       "      <th>홍차3</th>\n",
       "      <th>홍차4</th>\n",
       "      <th>홍차5</th>\n",
       "      <th>홍차6</th>\n",
       "      <th>홍차7</th>\n",
       "      <th>홍차8</th>\n",
       "      <th>홍차9</th>\n",
       "      <th>홍차10</th>\n",
       "    </tr>\n",
       "  </thead>\n",
       "  <tbody>\n",
       "    <tr>\n",
       "      <th>user1</th>\n",
       "      <td>None</td>\n",
       "      <td>None</td>\n",
       "      <td>None</td>\n",
       "      <td>None</td>\n",
       "      <td>None</td>\n",
       "      <td>None</td>\n",
       "      <td>None</td>\n",
       "      <td>None</td>\n",
       "      <td>None</td>\n",
       "      <td>None</td>\n",
       "      <td>None</td>\n",
       "      <td>None</td>\n",
       "      <td>None</td>\n",
       "      <td>None</td>\n",
       "      <td>None</td>\n",
       "      <td>None</td>\n",
       "      <td>None</td>\n",
       "      <td>None</td>\n",
       "      <td>None</td>\n",
       "      <td>None</td>\n",
       "    </tr>\n",
       "    <tr>\n",
       "      <th>user2</th>\n",
       "      <td>None</td>\n",
       "      <td>None</td>\n",
       "      <td>None</td>\n",
       "      <td>None</td>\n",
       "      <td>None</td>\n",
       "      <td>None</td>\n",
       "      <td>None</td>\n",
       "      <td>None</td>\n",
       "      <td>None</td>\n",
       "      <td>None</td>\n",
       "      <td>None</td>\n",
       "      <td>None</td>\n",
       "      <td>None</td>\n",
       "      <td>None</td>\n",
       "      <td>None</td>\n",
       "      <td>None</td>\n",
       "      <td>None</td>\n",
       "      <td>None</td>\n",
       "      <td>None</td>\n",
       "      <td>None</td>\n",
       "    </tr>\n",
       "    <tr>\n",
       "      <th>user3</th>\n",
       "      <td>None</td>\n",
       "      <td>None</td>\n",
       "      <td>None</td>\n",
       "      <td>None</td>\n",
       "      <td>None</td>\n",
       "      <td>None</td>\n",
       "      <td>None</td>\n",
       "      <td>None</td>\n",
       "      <td>None</td>\n",
       "      <td>None</td>\n",
       "      <td>None</td>\n",
       "      <td>None</td>\n",
       "      <td>None</td>\n",
       "      <td>None</td>\n",
       "      <td>None</td>\n",
       "      <td>None</td>\n",
       "      <td>None</td>\n",
       "      <td>None</td>\n",
       "      <td>None</td>\n",
       "      <td>None</td>\n",
       "    </tr>\n",
       "    <tr>\n",
       "      <th>user4</th>\n",
       "      <td>None</td>\n",
       "      <td>None</td>\n",
       "      <td>None</td>\n",
       "      <td>None</td>\n",
       "      <td>None</td>\n",
       "      <td>None</td>\n",
       "      <td>None</td>\n",
       "      <td>None</td>\n",
       "      <td>None</td>\n",
       "      <td>None</td>\n",
       "      <td>None</td>\n",
       "      <td>None</td>\n",
       "      <td>None</td>\n",
       "      <td>None</td>\n",
       "      <td>None</td>\n",
       "      <td>None</td>\n",
       "      <td>None</td>\n",
       "      <td>None</td>\n",
       "      <td>None</td>\n",
       "      <td>None</td>\n",
       "    </tr>\n",
       "    <tr>\n",
       "      <th>user5</th>\n",
       "      <td>None</td>\n",
       "      <td>None</td>\n",
       "      <td>None</td>\n",
       "      <td>None</td>\n",
       "      <td>None</td>\n",
       "      <td>None</td>\n",
       "      <td>None</td>\n",
       "      <td>None</td>\n",
       "      <td>None</td>\n",
       "      <td>None</td>\n",
       "      <td>None</td>\n",
       "      <td>None</td>\n",
       "      <td>None</td>\n",
       "      <td>None</td>\n",
       "      <td>None</td>\n",
       "      <td>None</td>\n",
       "      <td>None</td>\n",
       "      <td>None</td>\n",
       "      <td>None</td>\n",
       "      <td>None</td>\n",
       "    </tr>\n",
       "    <tr>\n",
       "      <th>...</th>\n",
       "      <td>...</td>\n",
       "      <td>...</td>\n",
       "      <td>...</td>\n",
       "      <td>...</td>\n",
       "      <td>...</td>\n",
       "      <td>...</td>\n",
       "      <td>...</td>\n",
       "      <td>...</td>\n",
       "      <td>...</td>\n",
       "      <td>...</td>\n",
       "      <td>...</td>\n",
       "      <td>...</td>\n",
       "      <td>...</td>\n",
       "      <td>...</td>\n",
       "      <td>...</td>\n",
       "      <td>...</td>\n",
       "      <td>...</td>\n",
       "      <td>...</td>\n",
       "      <td>...</td>\n",
       "      <td>...</td>\n",
       "    </tr>\n",
       "    <tr>\n",
       "      <th>user96</th>\n",
       "      <td>None</td>\n",
       "      <td>None</td>\n",
       "      <td>None</td>\n",
       "      <td>None</td>\n",
       "      <td>None</td>\n",
       "      <td>None</td>\n",
       "      <td>None</td>\n",
       "      <td>None</td>\n",
       "      <td>None</td>\n",
       "      <td>None</td>\n",
       "      <td>None</td>\n",
       "      <td>None</td>\n",
       "      <td>None</td>\n",
       "      <td>None</td>\n",
       "      <td>None</td>\n",
       "      <td>None</td>\n",
       "      <td>None</td>\n",
       "      <td>None</td>\n",
       "      <td>None</td>\n",
       "      <td>None</td>\n",
       "    </tr>\n",
       "    <tr>\n",
       "      <th>user97</th>\n",
       "      <td>None</td>\n",
       "      <td>None</td>\n",
       "      <td>None</td>\n",
       "      <td>None</td>\n",
       "      <td>None</td>\n",
       "      <td>None</td>\n",
       "      <td>None</td>\n",
       "      <td>None</td>\n",
       "      <td>None</td>\n",
       "      <td>None</td>\n",
       "      <td>None</td>\n",
       "      <td>None</td>\n",
       "      <td>None</td>\n",
       "      <td>None</td>\n",
       "      <td>None</td>\n",
       "      <td>None</td>\n",
       "      <td>None</td>\n",
       "      <td>None</td>\n",
       "      <td>None</td>\n",
       "      <td>None</td>\n",
       "    </tr>\n",
       "    <tr>\n",
       "      <th>user98</th>\n",
       "      <td>None</td>\n",
       "      <td>None</td>\n",
       "      <td>None</td>\n",
       "      <td>None</td>\n",
       "      <td>None</td>\n",
       "      <td>None</td>\n",
       "      <td>None</td>\n",
       "      <td>None</td>\n",
       "      <td>None</td>\n",
       "      <td>None</td>\n",
       "      <td>None</td>\n",
       "      <td>None</td>\n",
       "      <td>None</td>\n",
       "      <td>None</td>\n",
       "      <td>None</td>\n",
       "      <td>None</td>\n",
       "      <td>None</td>\n",
       "      <td>None</td>\n",
       "      <td>None</td>\n",
       "      <td>None</td>\n",
       "    </tr>\n",
       "    <tr>\n",
       "      <th>user99</th>\n",
       "      <td>None</td>\n",
       "      <td>None</td>\n",
       "      <td>None</td>\n",
       "      <td>None</td>\n",
       "      <td>None</td>\n",
       "      <td>None</td>\n",
       "      <td>None</td>\n",
       "      <td>None</td>\n",
       "      <td>None</td>\n",
       "      <td>None</td>\n",
       "      <td>None</td>\n",
       "      <td>None</td>\n",
       "      <td>None</td>\n",
       "      <td>None</td>\n",
       "      <td>None</td>\n",
       "      <td>None</td>\n",
       "      <td>None</td>\n",
       "      <td>None</td>\n",
       "      <td>None</td>\n",
       "      <td>None</td>\n",
       "    </tr>\n",
       "    <tr>\n",
       "      <th>user100</th>\n",
       "      <td>None</td>\n",
       "      <td>None</td>\n",
       "      <td>None</td>\n",
       "      <td>None</td>\n",
       "      <td>None</td>\n",
       "      <td>None</td>\n",
       "      <td>None</td>\n",
       "      <td>None</td>\n",
       "      <td>None</td>\n",
       "      <td>None</td>\n",
       "      <td>None</td>\n",
       "      <td>None</td>\n",
       "      <td>None</td>\n",
       "      <td>None</td>\n",
       "      <td>None</td>\n",
       "      <td>None</td>\n",
       "      <td>None</td>\n",
       "      <td>None</td>\n",
       "      <td>None</td>\n",
       "      <td>None</td>\n",
       "    </tr>\n",
       "  </tbody>\n",
       "</table>\n",
       "<p>100 rows × 20 columns</p>\n",
       "</div>"
      ],
      "text/plain": [
       "          커피1   커피2   커피3   커피4   커피5   커피6   커피7   커피8   커피9  커피10   홍차1  \\\n",
       "user1    None  None  None  None  None  None  None  None  None  None  None   \n",
       "user2    None  None  None  None  None  None  None  None  None  None  None   \n",
       "user3    None  None  None  None  None  None  None  None  None  None  None   \n",
       "user4    None  None  None  None  None  None  None  None  None  None  None   \n",
       "user5    None  None  None  None  None  None  None  None  None  None  None   \n",
       "...       ...   ...   ...   ...   ...   ...   ...   ...   ...   ...   ...   \n",
       "user96   None  None  None  None  None  None  None  None  None  None  None   \n",
       "user97   None  None  None  None  None  None  None  None  None  None  None   \n",
       "user98   None  None  None  None  None  None  None  None  None  None  None   \n",
       "user99   None  None  None  None  None  None  None  None  None  None  None   \n",
       "user100  None  None  None  None  None  None  None  None  None  None  None   \n",
       "\n",
       "          홍차2   홍차3   홍차4   홍차5   홍차6   홍차7   홍차8   홍차9  홍차10  \n",
       "user1    None  None  None  None  None  None  None  None  None  \n",
       "user2    None  None  None  None  None  None  None  None  None  \n",
       "user3    None  None  None  None  None  None  None  None  None  \n",
       "user4    None  None  None  None  None  None  None  None  None  \n",
       "user5    None  None  None  None  None  None  None  None  None  \n",
       "...       ...   ...   ...   ...   ...   ...   ...   ...   ...  \n",
       "user96   None  None  None  None  None  None  None  None  None  \n",
       "user97   None  None  None  None  None  None  None  None  None  \n",
       "user98   None  None  None  None  None  None  None  None  None  \n",
       "user99   None  None  None  None  None  None  None  None  None  \n",
       "user100  None  None  None  None  None  None  None  None  None  \n",
       "\n",
       "[100 rows x 20 columns]"
      ]
     },
     "execution_count": 8,
     "metadata": {},
     "output_type": "execute_result"
    }
   ],
   "source": [
    "df2 = pd.DataFrame([[None]*20]*100,columns=['커피'+str(i) for i in range(1,11)]+['홍차'+str(i) for i in range(1,11)]) \n",
    "df2.index = pd.Index(['user'+str(i) for i in range(1,101)])\n",
    "df2"
   ]
  },
  {
   "cell_type": "code",
   "execution_count": null,
   "id": "23c9847b-048a-49a9-8035-940b62311245",
   "metadata": {
    "id": "23c9847b-048a-49a9-8035-940b62311245"
   },
   "outputs": [],
   "source": [
    "for (i,j) in zip(df.user.to_list(), df.item.to_list()):\n",
    "    df2.iloc[i-1,j-1]=df.query('user == @i and item == @j')['rating'].to_list()[0]"
   ]
  },
  {
   "cell_type": "code",
   "execution_count": null,
   "id": "e8161d68-c56d-4811-a7e8-46e2e8bc06c6",
   "metadata": {
    "id": "e8161d68-c56d-4811-a7e8-46e2e8bc06c6",
    "outputId": "d73ff357-df76-4d22-a0bf-b249a4f59b44"
   },
   "outputs": [
    {
     "data": {
      "text/html": [
       "<div>\n",
       "<style scoped>\n",
       "    .dataframe tbody tr th:only-of-type {\n",
       "        vertical-align: middle;\n",
       "    }\n",
       "\n",
       "    .dataframe tbody tr th {\n",
       "        vertical-align: top;\n",
       "    }\n",
       "\n",
       "    .dataframe thead th {\n",
       "        text-align: right;\n",
       "    }\n",
       "</style>\n",
       "<table border=\"1\" class=\"dataframe\">\n",
       "  <thead>\n",
       "    <tr style=\"text-align: right;\">\n",
       "      <th></th>\n",
       "      <th>커피1</th>\n",
       "      <th>커피2</th>\n",
       "      <th>커피3</th>\n",
       "      <th>커피4</th>\n",
       "      <th>커피5</th>\n",
       "      <th>커피6</th>\n",
       "      <th>커피7</th>\n",
       "      <th>커피8</th>\n",
       "      <th>커피9</th>\n",
       "      <th>커피10</th>\n",
       "      <th>홍차1</th>\n",
       "      <th>홍차2</th>\n",
       "      <th>홍차3</th>\n",
       "      <th>홍차4</th>\n",
       "      <th>홍차5</th>\n",
       "      <th>홍차6</th>\n",
       "      <th>홍차7</th>\n",
       "      <th>홍차8</th>\n",
       "      <th>홍차9</th>\n",
       "      <th>홍차10</th>\n",
       "    </tr>\n",
       "  </thead>\n",
       "  <tbody>\n",
       "    <tr>\n",
       "      <th>user1</th>\n",
       "      <td>4.149209</td>\n",
       "      <td>None</td>\n",
       "      <td>None</td>\n",
       "      <td>4.078139</td>\n",
       "      <td>4.033415</td>\n",
       "      <td>4.071871</td>\n",
       "      <td>None</td>\n",
       "      <td>None</td>\n",
       "      <td>None</td>\n",
       "      <td>None</td>\n",
       "      <td>1.142659</td>\n",
       "      <td>1.109452</td>\n",
       "      <td>None</td>\n",
       "      <td>0.603118</td>\n",
       "      <td>1.084308</td>\n",
       "      <td>None</td>\n",
       "      <td>0.906524</td>\n",
       "      <td>None</td>\n",
       "      <td>None</td>\n",
       "      <td>0.903826</td>\n",
       "    </tr>\n",
       "    <tr>\n",
       "      <th>user2</th>\n",
       "      <td>4.031811</td>\n",
       "      <td>None</td>\n",
       "      <td>None</td>\n",
       "      <td>3.822704</td>\n",
       "      <td>None</td>\n",
       "      <td>None</td>\n",
       "      <td>None</td>\n",
       "      <td>4.07141</td>\n",
       "      <td>3.996206</td>\n",
       "      <td>None</td>\n",
       "      <td>None</td>\n",
       "      <td>0.839565</td>\n",
       "      <td>1.011315</td>\n",
       "      <td>None</td>\n",
       "      <td>1.120552</td>\n",
       "      <td>0.91134</td>\n",
       "      <td>None</td>\n",
       "      <td>0.860954</td>\n",
       "      <td>0.871482</td>\n",
       "      <td>None</td>\n",
       "    </tr>\n",
       "    <tr>\n",
       "      <th>user3</th>\n",
       "      <td>4.082178</td>\n",
       "      <td>4.196436</td>\n",
       "      <td>None</td>\n",
       "      <td>3.956876</td>\n",
       "      <td>None</td>\n",
       "      <td>None</td>\n",
       "      <td>None</td>\n",
       "      <td>4.450931</td>\n",
       "      <td>3.97209</td>\n",
       "      <td>None</td>\n",
       "      <td>None</td>\n",
       "      <td>None</td>\n",
       "      <td>None</td>\n",
       "      <td>0.983838</td>\n",
       "      <td>None</td>\n",
       "      <td>0.918576</td>\n",
       "      <td>1.206796</td>\n",
       "      <td>0.913116</td>\n",
       "      <td>None</td>\n",
       "      <td>0.956194</td>\n",
       "    </tr>\n",
       "    <tr>\n",
       "      <th>user4</th>\n",
       "      <td>None</td>\n",
       "      <td>4.000621</td>\n",
       "      <td>3.89557</td>\n",
       "      <td>None</td>\n",
       "      <td>3.838781</td>\n",
       "      <td>3.967183</td>\n",
       "      <td>None</td>\n",
       "      <td>None</td>\n",
       "      <td>None</td>\n",
       "      <td>4.105741</td>\n",
       "      <td>1.147554</td>\n",
       "      <td>None</td>\n",
       "      <td>1.34686</td>\n",
       "      <td>None</td>\n",
       "      <td>0.614099</td>\n",
       "      <td>1.297301</td>\n",
       "      <td>None</td>\n",
       "      <td>None</td>\n",
       "      <td>None</td>\n",
       "      <td>1.147545</td>\n",
       "    </tr>\n",
       "    <tr>\n",
       "      <th>user5</th>\n",
       "      <td>None</td>\n",
       "      <td>None</td>\n",
       "      <td>None</td>\n",
       "      <td>None</td>\n",
       "      <td>3.888208</td>\n",
       "      <td>None</td>\n",
       "      <td>3.97033</td>\n",
       "      <td>3.97949</td>\n",
       "      <td>None</td>\n",
       "      <td>4.010982</td>\n",
       "      <td>None</td>\n",
       "      <td>0.920995</td>\n",
       "      <td>1.081111</td>\n",
       "      <td>0.999345</td>\n",
       "      <td>None</td>\n",
       "      <td>1.195183</td>\n",
       "      <td>None</td>\n",
       "      <td>0.818332</td>\n",
       "      <td>1.236331</td>\n",
       "      <td>None</td>\n",
       "    </tr>\n",
       "  </tbody>\n",
       "</table>\n",
       "</div>"
      ],
      "text/plain": [
       "            커피1       커피2      커피3       커피4       커피5       커피6      커피7  \\\n",
       "user1  4.149209      None     None  4.078139  4.033415  4.071871     None   \n",
       "user2  4.031811      None     None  3.822704      None      None     None   \n",
       "user3  4.082178  4.196436     None  3.956876      None      None     None   \n",
       "user4      None  4.000621  3.89557      None  3.838781  3.967183     None   \n",
       "user5      None      None     None      None  3.888208      None  3.97033   \n",
       "\n",
       "            커피8       커피9      커피10       홍차1       홍차2       홍차3       홍차4  \\\n",
       "user1      None      None      None  1.142659  1.109452      None  0.603118   \n",
       "user2   4.07141  3.996206      None      None  0.839565  1.011315      None   \n",
       "user3  4.450931   3.97209      None      None      None      None  0.983838   \n",
       "user4      None      None  4.105741  1.147554      None   1.34686      None   \n",
       "user5   3.97949      None  4.010982      None  0.920995  1.081111  0.999345   \n",
       "\n",
       "            홍차5       홍차6       홍차7       홍차8       홍차9      홍차10  \n",
       "user1  1.084308      None  0.906524      None      None  0.903826  \n",
       "user2  1.120552   0.91134      None  0.860954  0.871482      None  \n",
       "user3      None  0.918576  1.206796  0.913116      None  0.956194  \n",
       "user4  0.614099  1.297301      None      None      None  1.147545  \n",
       "user5      None  1.195183      None  0.818332  1.236331      None  "
      ]
     },
     "execution_count": 10,
     "metadata": {},
     "output_type": "execute_result"
    }
   ],
   "source": [
    "df2.iloc[:5]"
   ]
  },
  {
   "cell_type": "markdown",
   "id": "0b1baadc-f796-4fae-a043-591ceca77367",
   "metadata": {
    "id": "0b1baadc-f796-4fae-a043-591ceca77367"
   },
   "source": [
    "- user1~user5는 대체로 커피를 선호한다. \n",
    "- user1은 커피 2,3,7,8,9,10을 먹지는 않았는데, 아마 먹었다면 높은 점수를 주었을 것임. "
   ]
  },
  {
   "cell_type": "code",
   "execution_count": null,
   "id": "dca27e81-024e-483c-a617-dead33741b9d",
   "metadata": {
    "id": "dca27e81-024e-483c-a617-dead33741b9d",
    "outputId": "702206ae-c4fa-4d39-8437-6148d4c823df"
   },
   "outputs": [
    {
     "data": {
      "text/html": [
       "<div>\n",
       "<style scoped>\n",
       "    .dataframe tbody tr th:only-of-type {\n",
       "        vertical-align: middle;\n",
       "    }\n",
       "\n",
       "    .dataframe tbody tr th {\n",
       "        vertical-align: top;\n",
       "    }\n",
       "\n",
       "    .dataframe thead th {\n",
       "        text-align: right;\n",
       "    }\n",
       "</style>\n",
       "<table border=\"1\" class=\"dataframe\">\n",
       "  <thead>\n",
       "    <tr style=\"text-align: right;\">\n",
       "      <th></th>\n",
       "      <th>커피1</th>\n",
       "      <th>커피2</th>\n",
       "      <th>커피3</th>\n",
       "      <th>커피4</th>\n",
       "      <th>커피5</th>\n",
       "      <th>커피6</th>\n",
       "      <th>커피7</th>\n",
       "      <th>커피8</th>\n",
       "      <th>커피9</th>\n",
       "      <th>커피10</th>\n",
       "      <th>홍차1</th>\n",
       "      <th>홍차2</th>\n",
       "      <th>홍차3</th>\n",
       "      <th>홍차4</th>\n",
       "      <th>홍차5</th>\n",
       "      <th>홍차6</th>\n",
       "      <th>홍차7</th>\n",
       "      <th>홍차8</th>\n",
       "      <th>홍차9</th>\n",
       "      <th>홍차10</th>\n",
       "    </tr>\n",
       "  </thead>\n",
       "  <tbody>\n",
       "    <tr>\n",
       "      <th>user48</th>\n",
       "      <td>None</td>\n",
       "      <td>None</td>\n",
       "      <td>3.718709</td>\n",
       "      <td>None</td>\n",
       "      <td>None</td>\n",
       "      <td>None</td>\n",
       "      <td>4.484278</td>\n",
       "      <td>4.242403</td>\n",
       "      <td>None</td>\n",
       "      <td>3.654447</td>\n",
       "      <td>0.981285</td>\n",
       "      <td>1.089422</td>\n",
       "      <td>0.945297</td>\n",
       "      <td>None</td>\n",
       "      <td>1.367151</td>\n",
       "      <td>0.984146</td>\n",
       "      <td>None</td>\n",
       "      <td>0.779323</td>\n",
       "      <td>None</td>\n",
       "      <td>None</td>\n",
       "    </tr>\n",
       "    <tr>\n",
       "      <th>user49</th>\n",
       "      <td>4.012018</td>\n",
       "      <td>4.347253</td>\n",
       "      <td>3.752401</td>\n",
       "      <td>None</td>\n",
       "      <td>None</td>\n",
       "      <td>None</td>\n",
       "      <td>4.182699</td>\n",
       "      <td>3.763614</td>\n",
       "      <td>4.112049</td>\n",
       "      <td>None</td>\n",
       "      <td>None</td>\n",
       "      <td>0.921155</td>\n",
       "      <td>0.947049</td>\n",
       "      <td>0.937485</td>\n",
       "      <td>None</td>\n",
       "      <td>None</td>\n",
       "      <td>1.046802</td>\n",
       "      <td>None</td>\n",
       "      <td>None</td>\n",
       "      <td>None</td>\n",
       "    </tr>\n",
       "    <tr>\n",
       "      <th>user50</th>\n",
       "      <td>4.208589</td>\n",
       "      <td>None</td>\n",
       "      <td>3.995654</td>\n",
       "      <td>3.85952</td>\n",
       "      <td>4.186735</td>\n",
       "      <td>None</td>\n",
       "      <td>None</td>\n",
       "      <td>3.955416</td>\n",
       "      <td>4.017231</td>\n",
       "      <td>4.312376</td>\n",
       "      <td>None</td>\n",
       "      <td>None</td>\n",
       "      <td>1.148465</td>\n",
       "      <td>None</td>\n",
       "      <td>None</td>\n",
       "      <td>None</td>\n",
       "      <td>1.2535</td>\n",
       "      <td>None</td>\n",
       "      <td>None</td>\n",
       "      <td>0.985061</td>\n",
       "    </tr>\n",
       "    <tr>\n",
       "      <th>user51</th>\n",
       "      <td>None</td>\n",
       "      <td>None</td>\n",
       "      <td>1.158754</td>\n",
       "      <td>None</td>\n",
       "      <td>None</td>\n",
       "      <td>0.961621</td>\n",
       "      <td>0.958685</td>\n",
       "      <td>0.986134</td>\n",
       "      <td>1.207339</td>\n",
       "      <td>0.799213</td>\n",
       "      <td>None</td>\n",
       "      <td>4.053459</td>\n",
       "      <td>None</td>\n",
       "      <td>None</td>\n",
       "      <td>4.214456</td>\n",
       "      <td>3.94822</td>\n",
       "      <td>None</td>\n",
       "      <td>4.168223</td>\n",
       "      <td>None</td>\n",
       "      <td>None</td>\n",
       "    </tr>\n",
       "    <tr>\n",
       "      <th>user52</th>\n",
       "      <td>0.794371</td>\n",
       "      <td>None</td>\n",
       "      <td>None</td>\n",
       "      <td>None</td>\n",
       "      <td>None</td>\n",
       "      <td>0.72175</td>\n",
       "      <td>None</td>\n",
       "      <td>0.99541</td>\n",
       "      <td>None</td>\n",
       "      <td>None</td>\n",
       "      <td>None</td>\n",
       "      <td>None</td>\n",
       "      <td>4.713239</td>\n",
       "      <td>4.061688</td>\n",
       "      <td>3.791844</td>\n",
       "      <td>4.008471</td>\n",
       "      <td>3.96703</td>\n",
       "      <td>4.420732</td>\n",
       "      <td>4.055309</td>\n",
       "      <td>None</td>\n",
       "    </tr>\n",
       "    <tr>\n",
       "      <th>user53</th>\n",
       "      <td>None</td>\n",
       "      <td>0.586384</td>\n",
       "      <td>1.170372</td>\n",
       "      <td>0.939492</td>\n",
       "      <td>None</td>\n",
       "      <td>None</td>\n",
       "      <td>1.299762</td>\n",
       "      <td>None</td>\n",
       "      <td>None</td>\n",
       "      <td>0.818039</td>\n",
       "      <td>4.155103</td>\n",
       "      <td>4.131003</td>\n",
       "      <td>None</td>\n",
       "      <td>3.839847</td>\n",
       "      <td>3.859583</td>\n",
       "      <td>None</td>\n",
       "      <td>None</td>\n",
       "      <td>3.873978</td>\n",
       "      <td>None</td>\n",
       "      <td>None</td>\n",
       "    </tr>\n",
       "  </tbody>\n",
       "</table>\n",
       "</div>"
      ],
      "text/plain": [
       "             커피1       커피2       커피3       커피4       커피5       커피6       커피7  \\\n",
       "user48      None      None  3.718709      None      None      None  4.484278   \n",
       "user49  4.012018  4.347253  3.752401      None      None      None  4.182699   \n",
       "user50  4.208589      None  3.995654   3.85952  4.186735      None      None   \n",
       "user51      None      None  1.158754      None      None  0.961621  0.958685   \n",
       "user52  0.794371      None      None      None      None   0.72175      None   \n",
       "user53      None  0.586384  1.170372  0.939492      None      None  1.299762   \n",
       "\n",
       "             커피8       커피9      커피10       홍차1       홍차2       홍차3       홍차4  \\\n",
       "user48  4.242403      None  3.654447  0.981285  1.089422  0.945297      None   \n",
       "user49  3.763614  4.112049      None      None  0.921155  0.947049  0.937485   \n",
       "user50  3.955416  4.017231  4.312376      None      None  1.148465      None   \n",
       "user51  0.986134  1.207339  0.799213      None  4.053459      None      None   \n",
       "user52   0.99541      None      None      None      None  4.713239  4.061688   \n",
       "user53      None      None  0.818039  4.155103  4.131003      None  3.839847   \n",
       "\n",
       "             홍차5       홍차6       홍차7       홍차8       홍차9      홍차10  \n",
       "user48  1.367151  0.984146      None  0.779323      None      None  \n",
       "user49      None      None  1.046802      None      None      None  \n",
       "user50      None      None    1.2535      None      None  0.985061  \n",
       "user51  4.214456   3.94822      None  4.168223      None      None  \n",
       "user52  3.791844  4.008471   3.96703  4.420732  4.055309      None  \n",
       "user53  3.859583      None      None  3.873978      None      None  "
      ]
     },
     "execution_count": 11,
     "metadata": {},
     "output_type": "execute_result"
    }
   ],
   "source": [
    "df2.iloc[47:53]"
   ]
  },
  {
   "cell_type": "markdown",
   "id": "137ef67a-fd98-4694-a1d7-1651209e669f",
   "metadata": {
    "id": "137ef67a-fd98-4694-a1d7-1651209e669f"
   },
   "source": [
    "- user1 $\\sim$ user50은 커피를 선호하고 user51 $\\sim$ user100은 홍차를 선호함 "
   ]
  },
  {
   "cell_type": "code",
   "execution_count": null,
   "id": "50d35151-8250-4725-bd8d-2d255f768e72",
   "metadata": {
    "id": "50d35151-8250-4725-bd8d-2d255f768e72",
    "outputId": "81fe8c23-964c-473d-af6d-66b02320e8b2"
   },
   "outputs": [
    {
     "data": {
      "text/html": [
       "<div>\n",
       "<style scoped>\n",
       "    .dataframe tbody tr th:only-of-type {\n",
       "        vertical-align: middle;\n",
       "    }\n",
       "\n",
       "    .dataframe tbody tr th {\n",
       "        vertical-align: top;\n",
       "    }\n",
       "\n",
       "    .dataframe thead th {\n",
       "        text-align: right;\n",
       "    }\n",
       "</style>\n",
       "<table border=\"1\" class=\"dataframe\">\n",
       "  <thead>\n",
       "    <tr style=\"text-align: right;\">\n",
       "      <th></th>\n",
       "      <th>커피1</th>\n",
       "      <th>커피2</th>\n",
       "      <th>커피3</th>\n",
       "      <th>커피4</th>\n",
       "      <th>커피5</th>\n",
       "      <th>커피6</th>\n",
       "      <th>커피7</th>\n",
       "      <th>커피8</th>\n",
       "      <th>커피9</th>\n",
       "      <th>커피10</th>\n",
       "      <th>홍차1</th>\n",
       "      <th>홍차2</th>\n",
       "      <th>홍차3</th>\n",
       "      <th>홍차4</th>\n",
       "      <th>홍차5</th>\n",
       "      <th>홍차6</th>\n",
       "      <th>홍차7</th>\n",
       "      <th>홍차8</th>\n",
       "      <th>홍차9</th>\n",
       "      <th>홍차10</th>\n",
       "    </tr>\n",
       "  </thead>\n",
       "  <tbody>\n",
       "    <tr>\n",
       "      <th>user95</th>\n",
       "      <td>1.190142</td>\n",
       "      <td>None</td>\n",
       "      <td>0.818878</td>\n",
       "      <td>None</td>\n",
       "      <td>1.150194</td>\n",
       "      <td>None</td>\n",
       "      <td>None</td>\n",
       "      <td>1.287971</td>\n",
       "      <td>None</td>\n",
       "      <td>0.586373</td>\n",
       "      <td>None</td>\n",
       "      <td>None</td>\n",
       "      <td>4.06455</td>\n",
       "      <td>4.399665</td>\n",
       "      <td>None</td>\n",
       "      <td>None</td>\n",
       "      <td>3.573139</td>\n",
       "      <td>3.944602</td>\n",
       "      <td>None</td>\n",
       "      <td>4.012274</td>\n",
       "    </tr>\n",
       "    <tr>\n",
       "      <th>user96</th>\n",
       "      <td>0.511905</td>\n",
       "      <td>1.066144</td>\n",
       "      <td>None</td>\n",
       "      <td>1.31543</td>\n",
       "      <td>None</td>\n",
       "      <td>1.285778</td>\n",
       "      <td>None</td>\n",
       "      <td>0.6784</td>\n",
       "      <td>1.02302</td>\n",
       "      <td>0.886803</td>\n",
       "      <td>None</td>\n",
       "      <td>4.055996</td>\n",
       "      <td>None</td>\n",
       "      <td>None</td>\n",
       "      <td>4.156489</td>\n",
       "      <td>4.127622</td>\n",
       "      <td>None</td>\n",
       "      <td>None</td>\n",
       "      <td>None</td>\n",
       "      <td>None</td>\n",
       "    </tr>\n",
       "    <tr>\n",
       "      <th>user97</th>\n",
       "      <td>None</td>\n",
       "      <td>1.035022</td>\n",
       "      <td>None</td>\n",
       "      <td>1.085834</td>\n",
       "      <td>None</td>\n",
       "      <td>0.812558</td>\n",
       "      <td>None</td>\n",
       "      <td>1.074543</td>\n",
       "      <td>None</td>\n",
       "      <td>0.852806</td>\n",
       "      <td>3.894772</td>\n",
       "      <td>None</td>\n",
       "      <td>4.071385</td>\n",
       "      <td>3.935935</td>\n",
       "      <td>None</td>\n",
       "      <td>None</td>\n",
       "      <td>3.989815</td>\n",
       "      <td>None</td>\n",
       "      <td>None</td>\n",
       "      <td>4.267142</td>\n",
       "    </tr>\n",
       "    <tr>\n",
       "      <th>user98</th>\n",
       "      <td>None</td>\n",
       "      <td>1.115511</td>\n",
       "      <td>None</td>\n",
       "      <td>1.101395</td>\n",
       "      <td>0.878614</td>\n",
       "      <td>None</td>\n",
       "      <td>None</td>\n",
       "      <td>None</td>\n",
       "      <td>1.329319</td>\n",
       "      <td>None</td>\n",
       "      <td>4.12519</td>\n",
       "      <td>None</td>\n",
       "      <td>4.354638</td>\n",
       "      <td>3.811209</td>\n",
       "      <td>4.144648</td>\n",
       "      <td>None</td>\n",
       "      <td>None</td>\n",
       "      <td>4.116915</td>\n",
       "      <td>3.887823</td>\n",
       "      <td>None</td>\n",
       "    </tr>\n",
       "    <tr>\n",
       "      <th>user99</th>\n",
       "      <td>None</td>\n",
       "      <td>0.850794</td>\n",
       "      <td>None</td>\n",
       "      <td>None</td>\n",
       "      <td>0.927884</td>\n",
       "      <td>0.669895</td>\n",
       "      <td>None</td>\n",
       "      <td>None</td>\n",
       "      <td>0.665429</td>\n",
       "      <td>1.387329</td>\n",
       "      <td>None</td>\n",
       "      <td>None</td>\n",
       "      <td>4.329404</td>\n",
       "      <td>4.111706</td>\n",
       "      <td>3.960197</td>\n",
       "      <td>None</td>\n",
       "      <td>None</td>\n",
       "      <td>None</td>\n",
       "      <td>3.725288</td>\n",
       "      <td>4.122072</td>\n",
       "    </tr>\n",
       "    <tr>\n",
       "      <th>user100</th>\n",
       "      <td>None</td>\n",
       "      <td>None</td>\n",
       "      <td>1.413968</td>\n",
       "      <td>0.83872</td>\n",
       "      <td>None</td>\n",
       "      <td>None</td>\n",
       "      <td>1.094826</td>\n",
       "      <td>0.987888</td>\n",
       "      <td>None</td>\n",
       "      <td>1.177387</td>\n",
       "      <td>3.957383</td>\n",
       "      <td>4.136731</td>\n",
       "      <td>None</td>\n",
       "      <td>4.026915</td>\n",
       "      <td>None</td>\n",
       "      <td>None</td>\n",
       "      <td>4.164773</td>\n",
       "      <td>4.104276</td>\n",
       "      <td>None</td>\n",
       "      <td>None</td>\n",
       "    </tr>\n",
       "  </tbody>\n",
       "</table>\n",
       "</div>"
      ],
      "text/plain": [
       "              커피1       커피2       커피3       커피4       커피5       커피6       커피7  \\\n",
       "user95   1.190142      None  0.818878      None  1.150194      None      None   \n",
       "user96   0.511905  1.066144      None   1.31543      None  1.285778      None   \n",
       "user97       None  1.035022      None  1.085834      None  0.812558      None   \n",
       "user98       None  1.115511      None  1.101395  0.878614      None      None   \n",
       "user99       None  0.850794      None      None  0.927884  0.669895      None   \n",
       "user100      None      None  1.413968   0.83872      None      None  1.094826   \n",
       "\n",
       "              커피8       커피9      커피10       홍차1       홍차2       홍차3       홍차4  \\\n",
       "user95   1.287971      None  0.586373      None      None   4.06455  4.399665   \n",
       "user96     0.6784   1.02302  0.886803      None  4.055996      None      None   \n",
       "user97   1.074543      None  0.852806  3.894772      None  4.071385  3.935935   \n",
       "user98       None  1.329319      None   4.12519      None  4.354638  3.811209   \n",
       "user99       None  0.665429  1.387329      None      None  4.329404  4.111706   \n",
       "user100  0.987888      None  1.177387  3.957383  4.136731      None  4.026915   \n",
       "\n",
       "              홍차5       홍차6       홍차7       홍차8       홍차9      홍차10  \n",
       "user95       None      None  3.573139  3.944602      None  4.012274  \n",
       "user96   4.156489  4.127622      None      None      None      None  \n",
       "user97       None      None  3.989815      None      None  4.267142  \n",
       "user98   4.144648      None      None  4.116915  3.887823      None  \n",
       "user99   3.960197      None      None      None  3.725288  4.122072  \n",
       "user100      None      None  4.164773  4.104276      None      None  "
      ]
     },
     "execution_count": 12,
     "metadata": {},
     "output_type": "execute_result"
    }
   ],
   "source": [
    "df2.iloc[94:]"
   ]
  },
  {
   "cell_type": "markdown",
   "id": "5af95a1c-ec75-4f0d-8d72-4ab6304a2bfe",
   "metadata": {
    "id": "5af95a1c-ec75-4f0d-8d72-4ab6304a2bfe"
   },
   "source": [
    "### 예측? "
   ]
  },
  {
   "cell_type": "markdown",
   "id": "4fdf51b2-6ac1-45f2-ad81-ad4e247c583c",
   "metadata": {
    "id": "4fdf51b2-6ac1-45f2-ad81-ad4e247c583c"
   },
   "source": [
    "`-` None의 값을 추론하는 방법? 머리속으로는 알고있음. 그런데 어떻게 수식화 할지? "
   ]
  },
  {
   "cell_type": "code",
   "execution_count": null,
   "id": "d108502f-b551-479e-b61f-b9aefbd71401",
   "metadata": {
    "id": "d108502f-b551-479e-b61f-b9aefbd71401",
    "outputId": "909325af-103e-4a2c-a543-a2e89be9c628"
   },
   "outputs": [
    {
     "data": {
      "text/plain": [
       "커피1     4.149209\n",
       "커피2         None\n",
       "커피3         None\n",
       "커피4     4.078139\n",
       "커피5     4.033415\n",
       "커피6     4.071871\n",
       "커피7         None\n",
       "커피8         None\n",
       "커피9         None\n",
       "커피10        None\n",
       "홍차1     1.142659\n",
       "홍차2     1.109452\n",
       "홍차3         None\n",
       "홍차4     0.603118\n",
       "홍차5     1.084308\n",
       "홍차6         None\n",
       "홍차7     0.906524\n",
       "홍차8         None\n",
       "홍차9         None\n",
       "홍차10    0.903826\n",
       "Name: user1, dtype: object"
      ]
     },
     "execution_count": 13,
     "metadata": {},
     "output_type": "execute_result"
    }
   ],
   "source": [
    "df2.loc['user1']"
   ]
  },
  {
   "cell_type": "markdown",
   "id": "0d984012-b17d-4a36-b8ab-37ea504132f9",
   "metadata": {
    "id": "0d984012-b17d-4a36-b8ab-37ea504132f9"
   },
   "source": [
    "`-` 유저의 취향은 예를들면 아래와 같이 표현할 수 있다. \n",
    "- user1의 취향 = (커피좋아함, 홍차싫어함) = (0.8, 0.21) "
   ]
  },
  {
   "cell_type": "markdown",
   "id": "6d574aec-d773-42c2-a5ef-c8e3d22de260",
   "metadata": {
    "id": "6d574aec-d773-42c2-a5ef-c8e3d22de260"
   },
   "source": [
    "`-` 코딩해보자."
   ]
  },
  {
   "cell_type": "code",
   "execution_count": null,
   "id": "54a0c3db-688f-49d3-bbc0-b7590ab9c7fd",
   "metadata": {
    "id": "54a0c3db-688f-49d3-bbc0-b7590ab9c7fd",
    "outputId": "1516c396-8f0f-4ad9-c399-638efe2ee806"
   },
   "outputs": [
    {
     "data": {
      "text/plain": [
       "(0.8, 0.21)"
      ]
     },
     "execution_count": 14,
     "metadata": {},
     "output_type": "execute_result"
    }
   ],
   "source": [
    "user1_prprnc = (0.8,0.21) \n",
    "user1_prprnc"
   ]
  },
  {
   "cell_type": "markdown",
   "id": "72601302-fa6a-43ea-836d-f20cb11e34a4",
   "metadata": {
    "id": "72601302-fa6a-43ea-836d-f20cb11e34a4"
   },
   "source": [
    "`-` 여기에서 (0.8,0.21)은 각각 (커피음료,홍차음료)와 같은 음료의 특징으로 해석가능. 현재는 단순하게 원소가 2인 벡터이지만 다양한 feature도 가능하다. \n",
    "- 음료의특징: (커피음료, 홍차음료, 우유포함, 설탕포함정도, 아이스여부, 행사여부)"
   ]
  },
  {
   "cell_type": "markdown",
   "id": "9e550ff0-589b-4d15-934b-3321980fc63c",
   "metadata": {
    "id": "9e550ff0-589b-4d15-934b-3321980fc63c"
   },
   "source": [
    "`-` 아이템4와 아이템11의 특징은 예를들면 아래와 같이 표현할 수 있다. "
   ]
  },
  {
   "cell_type": "code",
   "execution_count": null,
   "id": "5d5ce5a8-83f7-41e8-bc94-51551c1e8305",
   "metadata": {
    "id": "5d5ce5a8-83f7-41e8-bc94-51551c1e8305"
   },
   "outputs": [],
   "source": [
    "item4_ftr = (0.71, 0.03) # 커피4 \n",
    "item11_ftr = (0.1, 0.88) # 홍차1  "
   ]
  },
  {
   "cell_type": "markdown",
   "id": "e91c7b81-8fe2-4863-9c95-b710dfb89629",
   "metadata": {
    "id": "e91c7b81-8fe2-4863-9c95-b710dfb89629"
   },
   "source": [
    "`-` 유저의 선호도와 아이템의 feature를 내적하여보자. "
   ]
  },
  {
   "cell_type": "code",
   "execution_count": null,
   "id": "ccb3ca00-cdfb-4289-8505-0f3fcc584473",
   "metadata": {
    "id": "ccb3ca00-cdfb-4289-8505-0f3fcc584473",
    "outputId": "c180247a-764b-4a18-9403-5ed871a6d2ea"
   },
   "outputs": [
    {
     "data": {
      "text/plain": [
       "0.5742999999999999"
      ]
     },
     "execution_count": 16,
     "metadata": {},
     "output_type": "execute_result"
    }
   ],
   "source": [
    "np.array(user1_prprnc) @ np.array(item4_ftr) "
   ]
  },
  {
   "cell_type": "code",
   "execution_count": null,
   "id": "ecaaa9bb-f424-4d27-adce-301d234969c1",
   "metadata": {
    "id": "ecaaa9bb-f424-4d27-adce-301d234969c1",
    "outputId": "b0b3ca55-fa58-4024-d995-cf6389870ff6"
   },
   "outputs": [
    {
     "data": {
      "text/plain": [
       "0.26480000000000004"
      ]
     },
     "execution_count": 17,
     "metadata": {},
     "output_type": "execute_result"
    }
   ],
   "source": [
    "np.array(user1_prprnc) @ np.array(item11_ftr) "
   ]
  },
  {
   "cell_type": "markdown",
   "id": "bfc5fcfd-5c5f-4f21-8c1a-1da643e15c47",
   "metadata": {
    "id": "bfc5fcfd-5c5f-4f21-8c1a-1da643e15c47"
   },
   "source": [
    "`-` 유저의 선호도와 item의 feature가 비슷할수록 값이 높게 나온다. 실제로 user1이 커피4와 홍차1에 매긴 평점은 (4.078139,1.142659) 인데 (0.5743, 0.2648) 가 실제평점과 비슷하게 나오도록 하면 좋겠다. "
   ]
  },
  {
   "cell_type": "markdown",
   "id": "8a24b9d0-5af4-4b9f-a4d9-6fd37f01df0a",
   "metadata": {
    "id": "8a24b9d0-5af4-4b9f-a4d9-6fd37f01df0a"
   },
   "source": [
    "`-` 적당히 값을 조정하여 보자. "
   ]
  },
  {
   "cell_type": "code",
   "execution_count": null,
   "id": "480324f0-b6e8-4072-aa1d-97efda9f4d78",
   "metadata": {
    "id": "480324f0-b6e8-4072-aa1d-97efda9f4d78"
   },
   "outputs": [],
   "source": [
    "user1_prprnc = (0.8,0.21) \n",
    "item4_ftr = (5, 0.03) # 커피4 \n",
    "item11_ftr = (0.1, 4.8) # 홍차1"
   ]
  },
  {
   "cell_type": "code",
   "execution_count": null,
   "id": "69123bd8-6994-4f11-8037-66becb01ef7e",
   "metadata": {
    "id": "69123bd8-6994-4f11-8037-66becb01ef7e",
    "outputId": "c68699ca-48e7-40f8-8738-e9ec3e893aaf"
   },
   "outputs": [
    {
     "data": {
      "text/plain": [
       "4.0063"
      ]
     },
     "execution_count": 19,
     "metadata": {},
     "output_type": "execute_result"
    }
   ],
   "source": [
    "np.array(user1_prprnc) @ np.array(item4_ftr) "
   ]
  },
  {
   "cell_type": "code",
   "execution_count": null,
   "id": "decc23ef-1789-4c0f-a0ce-3c8c0aa0a288",
   "metadata": {
    "id": "decc23ef-1789-4c0f-a0ce-3c8c0aa0a288",
    "outputId": "5f962a6d-6de1-49d4-f852-4d4915edcae5"
   },
   "outputs": [
    {
     "data": {
      "text/plain": [
       "1.088"
      ]
     },
     "execution_count": 20,
     "metadata": {},
     "output_type": "execute_result"
    }
   ],
   "source": [
    "np.array(user1_prprnc) @ np.array(item11_ftr) "
   ]
  },
  {
   "cell_type": "markdown",
   "id": "e985f428-24c7-4895-afff-c24adf6511ef",
   "metadata": {
    "id": "e985f428-24c7-4895-afff-c24adf6511ef"
   },
   "source": [
    "`-` 신기한것은 이 파라메터들이 있다면 None에 대한 추론도 가능하다는 것이다. 예를들어서 user2는 홍차1을 먹지 않았지만 item11_ftr(홍차1)의 `계수값`이 다른유저를 통해 학습되었다면 user2가 홍차1을 먹고 내릴 평점이 예측가능하다. "
   ]
  },
  {
   "cell_type": "code",
   "execution_count": null,
   "id": "ffc069fb-eee6-4a77-b417-8b1c106fb465",
   "metadata": {
    "id": "ffc069fb-eee6-4a77-b417-8b1c106fb465",
    "outputId": "a86081a7-98d6-4dd7-d0cd-a5875258e79a"
   },
   "outputs": [
    {
     "data": {
      "text/plain": [
       "커피1     4.031811\n",
       "커피2         None\n",
       "커피3         None\n",
       "커피4     3.822704\n",
       "커피5         None\n",
       "커피6         None\n",
       "커피7         None\n",
       "커피8      4.07141\n",
       "커피9     3.996206\n",
       "커피10        None\n",
       "홍차1         None\n",
       "홍차2     0.839565\n",
       "홍차3     1.011315\n",
       "홍차4         None\n",
       "홍차5     1.120552\n",
       "홍차6      0.91134\n",
       "홍차7         None\n",
       "홍차8     0.860954\n",
       "홍차9     0.871482\n",
       "홍차10        None\n",
       "Name: user2, dtype: object"
      ]
     },
     "execution_count": 21,
     "metadata": {},
     "output_type": "execute_result"
    }
   ],
   "source": [
    "df2.loc['user2']"
   ]
  },
  {
   "cell_type": "code",
   "execution_count": null,
   "id": "49e818db-a14e-4892-a5bb-0fb4ef2826ac",
   "metadata": {
    "id": "49e818db-a14e-4892-a5bb-0fb4ef2826ac"
   },
   "outputs": [],
   "source": [
    "user2_prprnc = (0.77,0.18) "
   ]
  },
  {
   "cell_type": "code",
   "execution_count": null,
   "id": "e74aed11-8a8b-47aa-8c5a-482971edeb77",
   "metadata": {
    "id": "e74aed11-8a8b-47aa-8c5a-482971edeb77",
    "outputId": "ca0eba23-96f2-4411-8efc-9259068abdeb"
   },
   "outputs": [
    {
     "data": {
      "text/plain": [
       "0.9410000000000001"
      ]
     },
     "execution_count": 23,
     "metadata": {},
     "output_type": "execute_result"
    }
   ],
   "source": [
    "np.array(user2_prprnc) @ np.array(item11_ftr)"
   ]
  },
  {
   "cell_type": "markdown",
   "id": "b2ef0ea8-e53e-49b8-ac0f-1d56831ae1db",
   "metadata": {
    "id": "b2ef0ea8-e53e-49b8-ac0f-1d56831ae1db"
   },
   "source": [
    "`-` 생각해보니까 `user1_prprnc`, ... , `user100_prprnc`, `item1_ftr`, ... , `item20_ftr`를 ${\\bf W}$라고 해석하면 우리가 ${\\bf W}$ 바꿈에 따라 예측값과 손실이 결정되므로 네트워크 구조가 만들어진다. "
   ]
  },
  {
   "cell_type": "markdown",
   "id": "f3b71d1e-a830-4ab9-98fb-21e1d4e1b224",
   "metadata": {
    "id": "f3b71d1e-a830-4ab9-98fb-21e1d4e1b224"
   },
   "source": [
    "`-` 정리하면 적당한 아래와 같은 매트릭스를 정의하여 "
   ]
  },
  {
   "cell_type": "markdown",
   "id": "7b6feeb2-e5b8-4c6e-991f-fdee20ce2bcb",
   "metadata": {
    "id": "7b6feeb2-e5b8-4c6e-991f-fdee20ce2bcb"
   },
   "source": [
    "- ${\\bf U} = \\begin{bmatrix} \\tt user1~ prprnc \\\\ \\dots \\\\ \\tt user100~prprnc \\end{bmatrix}$ $\\quad 100 \\times 2$ mat"
   ]
  },
  {
   "cell_type": "markdown",
   "id": "e88d16b9-ea65-4114-aeec-4952bc528c77",
   "metadata": {
    "id": "e88d16b9-ea65-4114-aeec-4952bc528c77"
   },
   "source": [
    "- ${\\bf V} = \\begin{bmatrix} \\tt item1~ ftr \\\\ \\dots \\\\ \\tt item20~ftr \\end{bmatrix}$ $\\quad 20 \\times 2$ mat"
   ]
  },
  {
   "cell_type": "markdown",
   "id": "b808a41b-a4bc-40d8-927a-e9d47ae30138",
   "metadata": {
    "id": "b808a41b-a4bc-40d8-927a-e9d47ae30138"
   },
   "source": [
    "${\\bf U}{\\bf V}^\\top \\approx $ `df2` 가 만족하도록 하면 된다. (None은 무시)"
   ]
  },
  {
   "cell_type": "markdown",
   "id": "9946fc59-0a1d-4fab-878a-4bd6719e5462",
   "metadata": {
    "id": "9946fc59-0a1d-4fab-878a-4bd6719e5462"
   },
   "source": [
    "### fastai를 학습: df $\\to$ dls "
   ]
  },
  {
   "cell_type": "code",
   "execution_count": null,
   "id": "b90bfb60-88a4-457e-adf2-aaaa9fee1ff8",
   "metadata": {
    "id": "b90bfb60-88a4-457e-adf2-aaaa9fee1ff8"
   },
   "outputs": [],
   "source": [
    "dls=CollabDataLoaders.from_df(df,bs=100) "
   ]
  },
  {
   "cell_type": "code",
   "execution_count": null,
   "id": "f4649711-586f-4bfd-acf1-f169a8865787",
   "metadata": {
    "id": "f4649711-586f-4bfd-acf1-f169a8865787",
    "outputId": "a270e50c-6ce5-4ac8-d116-c9fbf6dbe142"
   },
   "outputs": [
    {
     "data": {
      "text/html": [
       "<div>\n",
       "<style scoped>\n",
       "    .dataframe tbody tr th:only-of-type {\n",
       "        vertical-align: middle;\n",
       "    }\n",
       "\n",
       "    .dataframe tbody tr th {\n",
       "        vertical-align: top;\n",
       "    }\n",
       "\n",
       "    .dataframe thead th {\n",
       "        text-align: right;\n",
       "    }\n",
       "</style>\n",
       "<table border=\"1\" class=\"dataframe\">\n",
       "  <thead>\n",
       "    <tr style=\"text-align: right;\">\n",
       "      <th></th>\n",
       "      <th>user</th>\n",
       "      <th>item</th>\n",
       "      <th>rating</th>\n",
       "      <th>item_name</th>\n",
       "    </tr>\n",
       "  </thead>\n",
       "  <tbody>\n",
       "    <tr>\n",
       "      <th>814</th>\n",
       "      <td>82</td>\n",
       "      <td>8</td>\n",
       "      <td>0.927823</td>\n",
       "      <td>커피8</td>\n",
       "    </tr>\n",
       "    <tr>\n",
       "      <th>328</th>\n",
       "      <td>33</td>\n",
       "      <td>7</td>\n",
       "      <td>4.175642</td>\n",
       "      <td>커피7</td>\n",
       "    </tr>\n",
       "    <tr>\n",
       "      <th>68</th>\n",
       "      <td>7</td>\n",
       "      <td>12</td>\n",
       "      <td>0.995359</td>\n",
       "      <td>홍차2</td>\n",
       "    </tr>\n",
       "    <tr>\n",
       "      <th>205</th>\n",
       "      <td>21</td>\n",
       "      <td>3</td>\n",
       "      <td>3.797043</td>\n",
       "      <td>커피3</td>\n",
       "    </tr>\n",
       "    <tr>\n",
       "      <th>509</th>\n",
       "      <td>51</td>\n",
       "      <td>6</td>\n",
       "      <td>0.961621</td>\n",
       "      <td>커피6</td>\n",
       "    </tr>\n",
       "    <tr>\n",
       "      <th>...</th>\n",
       "      <td>...</td>\n",
       "      <td>...</td>\n",
       "      <td>...</td>\n",
       "      <td>...</td>\n",
       "    </tr>\n",
       "    <tr>\n",
       "      <th>886</th>\n",
       "      <td>89</td>\n",
       "      <td>5</td>\n",
       "      <td>1.064357</td>\n",
       "      <td>커피5</td>\n",
       "    </tr>\n",
       "    <tr>\n",
       "      <th>142</th>\n",
       "      <td>15</td>\n",
       "      <td>1</td>\n",
       "      <td>4.245275</td>\n",
       "      <td>커피1</td>\n",
       "    </tr>\n",
       "    <tr>\n",
       "      <th>512</th>\n",
       "      <td>52</td>\n",
       "      <td>8</td>\n",
       "      <td>0.995410</td>\n",
       "      <td>커피8</td>\n",
       "    </tr>\n",
       "    <tr>\n",
       "      <th>731</th>\n",
       "      <td>74</td>\n",
       "      <td>18</td>\n",
       "      <td>4.053283</td>\n",
       "      <td>홍차8</td>\n",
       "    </tr>\n",
       "    <tr>\n",
       "      <th>318</th>\n",
       "      <td>32</td>\n",
       "      <td>9</td>\n",
       "      <td>3.850437</td>\n",
       "      <td>커피9</td>\n",
       "    </tr>\n",
       "  </tbody>\n",
       "</table>\n",
       "<p>800 rows × 4 columns</p>\n",
       "</div>"
      ],
      "text/plain": [
       "     user  item    rating item_name\n",
       "814    82     8  0.927823       커피8\n",
       "328    33     7  4.175642       커피7\n",
       "68      7    12  0.995359       홍차2\n",
       "205    21     3  3.797043       커피3\n",
       "509    51     6  0.961621       커피6\n",
       "..    ...   ...       ...       ...\n",
       "886    89     5  1.064357       커피5\n",
       "142    15     1  4.245275       커피1\n",
       "512    52     8  0.995410       커피8\n",
       "731    74    18  4.053283       홍차8\n",
       "318    32     9  3.850437       커피9\n",
       "\n",
       "[800 rows x 4 columns]"
      ]
     },
     "execution_count": 32,
     "metadata": {},
     "output_type": "execute_result"
    }
   ],
   "source": [
    "dls.items"
   ]
  },
  {
   "cell_type": "markdown",
   "id": "c204dce4-bf56-438c-ad95-489f96759c89",
   "metadata": {
    "id": "c204dce4-bf56-438c-ad95-489f96759c89"
   },
   "source": [
    "### fastai를 통한 학습: learn"
   ]
  },
  {
   "cell_type": "code",
   "execution_count": null,
   "id": "421116c5-982a-4082-b2a5-f3c22d5ffdb4",
   "metadata": {
    "id": "421116c5-982a-4082-b2a5-f3c22d5ffdb4",
    "outputId": "371ca0b9-6393-4a2f-81a7-1f0ab4d175a7"
   },
   "outputs": [
    {
     "data": {
      "text/html": [
       "<table border=\"1\" class=\"dataframe\">\n",
       "  <thead>\n",
       "    <tr style=\"text-align: left;\">\n",
       "      <th>epoch</th>\n",
       "      <th>train_loss</th>\n",
       "      <th>valid_loss</th>\n",
       "      <th>time</th>\n",
       "    </tr>\n",
       "  </thead>\n",
       "  <tbody>\n",
       "    <tr>\n",
       "      <td>0</td>\n",
       "      <td>2.332310</td>\n",
       "      <td>2.324714</td>\n",
       "      <td>00:00</td>\n",
       "    </tr>\n",
       "    <tr>\n",
       "      <td>1</td>\n",
       "      <td>2.301398</td>\n",
       "      <td>2.314132</td>\n",
       "      <td>00:00</td>\n",
       "    </tr>\n",
       "    <tr>\n",
       "      <td>2</td>\n",
       "      <td>2.255456</td>\n",
       "      <td>2.235110</td>\n",
       "      <td>00:00</td>\n",
       "    </tr>\n",
       "    <tr>\n",
       "      <td>3</td>\n",
       "      <td>2.180693</td>\n",
       "      <td>2.062851</td>\n",
       "      <td>00:00</td>\n",
       "    </tr>\n",
       "    <tr>\n",
       "      <td>4</td>\n",
       "      <td>2.068622</td>\n",
       "      <td>1.799302</td>\n",
       "      <td>00:00</td>\n",
       "    </tr>\n",
       "    <tr>\n",
       "      <td>5</td>\n",
       "      <td>1.918429</td>\n",
       "      <td>1.467824</td>\n",
       "      <td>00:00</td>\n",
       "    </tr>\n",
       "    <tr>\n",
       "      <td>6</td>\n",
       "      <td>1.734515</td>\n",
       "      <td>1.099332</td>\n",
       "      <td>00:00</td>\n",
       "    </tr>\n",
       "    <tr>\n",
       "      <td>7</td>\n",
       "      <td>1.529240</td>\n",
       "      <td>0.753254</td>\n",
       "      <td>00:00</td>\n",
       "    </tr>\n",
       "    <tr>\n",
       "      <td>8</td>\n",
       "      <td>1.318664</td>\n",
       "      <td>0.473745</td>\n",
       "      <td>00:00</td>\n",
       "    </tr>\n",
       "    <tr>\n",
       "      <td>9</td>\n",
       "      <td>1.118887</td>\n",
       "      <td>0.281612</td>\n",
       "      <td>00:00</td>\n",
       "    </tr>\n",
       "    <tr>\n",
       "      <td>10</td>\n",
       "      <td>0.941217</td>\n",
       "      <td>0.170759</td>\n",
       "      <td>00:00</td>\n",
       "    </tr>\n",
       "    <tr>\n",
       "      <td>11</td>\n",
       "      <td>0.790015</td>\n",
       "      <td>0.113465</td>\n",
       "      <td>00:00</td>\n",
       "    </tr>\n",
       "    <tr>\n",
       "      <td>12</td>\n",
       "      <td>0.664468</td>\n",
       "      <td>0.087310</td>\n",
       "      <td>00:00</td>\n",
       "    </tr>\n",
       "    <tr>\n",
       "      <td>13</td>\n",
       "      <td>0.561132</td>\n",
       "      <td>0.076604</td>\n",
       "      <td>00:00</td>\n",
       "    </tr>\n",
       "    <tr>\n",
       "      <td>14</td>\n",
       "      <td>0.476078</td>\n",
       "      <td>0.072097</td>\n",
       "      <td>00:00</td>\n",
       "    </tr>\n",
       "    <tr>\n",
       "      <td>15</td>\n",
       "      <td>0.405709</td>\n",
       "      <td>0.069820</td>\n",
       "      <td>00:00</td>\n",
       "    </tr>\n",
       "    <tr>\n",
       "      <td>16</td>\n",
       "      <td>0.347135</td>\n",
       "      <td>0.068991</td>\n",
       "      <td>00:00</td>\n",
       "    </tr>\n",
       "    <tr>\n",
       "      <td>17</td>\n",
       "      <td>0.298197</td>\n",
       "      <td>0.068708</td>\n",
       "      <td>00:00</td>\n",
       "    </tr>\n",
       "    <tr>\n",
       "      <td>18</td>\n",
       "      <td>0.257201</td>\n",
       "      <td>0.068535</td>\n",
       "      <td>00:00</td>\n",
       "    </tr>\n",
       "    <tr>\n",
       "      <td>19</td>\n",
       "      <td>0.222736</td>\n",
       "      <td>0.068374</td>\n",
       "      <td>00:00</td>\n",
       "    </tr>\n",
       "    <tr>\n",
       "      <td>20</td>\n",
       "      <td>0.193690</td>\n",
       "      <td>0.067657</td>\n",
       "      <td>00:00</td>\n",
       "    </tr>\n",
       "    <tr>\n",
       "      <td>21</td>\n",
       "      <td>0.169164</td>\n",
       "      <td>0.066795</td>\n",
       "      <td>00:00</td>\n",
       "    </tr>\n",
       "    <tr>\n",
       "      <td>22</td>\n",
       "      <td>0.148427</td>\n",
       "      <td>0.065751</td>\n",
       "      <td>00:00</td>\n",
       "    </tr>\n",
       "    <tr>\n",
       "      <td>23</td>\n",
       "      <td>0.130861</td>\n",
       "      <td>0.064602</td>\n",
       "      <td>00:00</td>\n",
       "    </tr>\n",
       "    <tr>\n",
       "      <td>24</td>\n",
       "      <td>0.115963</td>\n",
       "      <td>0.064182</td>\n",
       "      <td>00:00</td>\n",
       "    </tr>\n",
       "    <tr>\n",
       "      <td>25</td>\n",
       "      <td>0.103277</td>\n",
       "      <td>0.063416</td>\n",
       "      <td>00:00</td>\n",
       "    </tr>\n",
       "    <tr>\n",
       "      <td>26</td>\n",
       "      <td>0.092521</td>\n",
       "      <td>0.062831</td>\n",
       "      <td>00:00</td>\n",
       "    </tr>\n",
       "    <tr>\n",
       "      <td>27</td>\n",
       "      <td>0.083378</td>\n",
       "      <td>0.062791</td>\n",
       "      <td>00:00</td>\n",
       "    </tr>\n",
       "    <tr>\n",
       "      <td>28</td>\n",
       "      <td>0.075562</td>\n",
       "      <td>0.062564</td>\n",
       "      <td>00:00</td>\n",
       "    </tr>\n",
       "    <tr>\n",
       "      <td>29</td>\n",
       "      <td>0.068923</td>\n",
       "      <td>0.061822</td>\n",
       "      <td>00:00</td>\n",
       "    </tr>\n",
       "  </tbody>\n",
       "</table>"
      ],
      "text/plain": [
       "<IPython.core.display.HTML object>"
      ]
     },
     "metadata": {},
     "output_type": "display_data"
    }
   ],
   "source": [
    "lrnr = collab_learner(dls,n_factors=2,y_range=(0,5))\n",
    "lrnr.fit(30,0.01)"
   ]
  },
  {
   "cell_type": "code",
   "execution_count": null,
   "id": "aeb3391a-f52b-44c8-bddf-de2134b75263",
   "metadata": {
    "id": "aeb3391a-f52b-44c8-bddf-de2134b75263",
    "outputId": "5562b1b8-f7ab-436f-de63-e6eb5bc15853"
   },
   "outputs": [
    {
     "data": {
      "text/html": [],
      "text/plain": [
       "<IPython.core.display.HTML object>"
      ]
     },
     "metadata": {},
     "output_type": "display_data"
    },
    {
     "data": {
      "text/html": [
       "<table border=\"1\" class=\"dataframe\">\n",
       "  <thead>\n",
       "    <tr style=\"text-align: right;\">\n",
       "      <th></th>\n",
       "      <th>user</th>\n",
       "      <th>item</th>\n",
       "      <th>rating</th>\n",
       "      <th>rating_pred</th>\n",
       "    </tr>\n",
       "  </thead>\n",
       "  <tbody>\n",
       "    <tr>\n",
       "      <th>0</th>\n",
       "      <td>64.0</td>\n",
       "      <td>4.0</td>\n",
       "      <td>1.193997</td>\n",
       "      <td>1.018805</td>\n",
       "    </tr>\n",
       "    <tr>\n",
       "      <th>1</th>\n",
       "      <td>65.0</td>\n",
       "      <td>14.0</td>\n",
       "      <td>3.956821</td>\n",
       "      <td>3.988665</td>\n",
       "    </tr>\n",
       "    <tr>\n",
       "      <th>2</th>\n",
       "      <td>59.0</td>\n",
       "      <td>2.0</td>\n",
       "      <td>1.161738</td>\n",
       "      <td>0.927356</td>\n",
       "    </tr>\n",
       "    <tr>\n",
       "      <th>3</th>\n",
       "      <td>36.0</td>\n",
       "      <td>6.0</td>\n",
       "      <td>4.028756</td>\n",
       "      <td>4.073104</td>\n",
       "    </tr>\n",
       "    <tr>\n",
       "      <th>4</th>\n",
       "      <td>78.0</td>\n",
       "      <td>10.0</td>\n",
       "      <td>0.968873</td>\n",
       "      <td>0.834417</td>\n",
       "    </tr>\n",
       "    <tr>\n",
       "      <th>5</th>\n",
       "      <td>1.0</td>\n",
       "      <td>17.0</td>\n",
       "      <td>0.906524</td>\n",
       "      <td>0.973807</td>\n",
       "    </tr>\n",
       "    <tr>\n",
       "      <th>6</th>\n",
       "      <td>96.0</td>\n",
       "      <td>6.0</td>\n",
       "      <td>1.285778</td>\n",
       "      <td>0.798828</td>\n",
       "    </tr>\n",
       "    <tr>\n",
       "      <th>7</th>\n",
       "      <td>91.0</td>\n",
       "      <td>10.0</td>\n",
       "      <td>1.453194</td>\n",
       "      <td>1.013060</td>\n",
       "    </tr>\n",
       "    <tr>\n",
       "      <th>8</th>\n",
       "      <td>25.0</td>\n",
       "      <td>10.0</td>\n",
       "      <td>4.342545</td>\n",
       "      <td>4.081783</td>\n",
       "    </tr>\n",
       "  </tbody>\n",
       "</table>"
      ],
      "text/plain": [
       "<IPython.core.display.HTML object>"
      ]
     },
     "metadata": {},
     "output_type": "display_data"
    }
   ],
   "source": [
    "lrnr.show_results()"
   ]
  },
  {
   "cell_type": "markdown",
   "id": "4b6078f2-4bd1-4b51-990b-d520ed181a20",
   "metadata": {
    "id": "4b6078f2-4bd1-4b51-990b-d520ed181a20"
   },
   "source": [
    "`-` 학습이 잘 되었음. "
   ]
  },
  {
   "cell_type": "markdown",
   "id": "be8cdcf9-f7c9-49b1-9265-64bf01caa958",
   "metadata": {
    "id": "be8cdcf9-f7c9-49b1-9265-64bf01caa958"
   },
   "source": [
    "### 추천: 마지막유저에 대한 예측결과 (아마 홍차를 좋아할듯)  "
   ]
  },
  {
   "cell_type": "code",
   "execution_count": null,
   "id": "685dbb9f-4832-4e32-8a83-656b6627d02f",
   "metadata": {
    "id": "685dbb9f-4832-4e32-8a83-656b6627d02f"
   },
   "outputs": [],
   "source": [
    "X,y = dls.one_batch()"
   ]
  },
  {
   "cell_type": "code",
   "execution_count": null,
   "id": "c8e97156-7fb3-4a98-a09a-bd38e96caa32",
   "metadata": {
    "id": "c8e97156-7fb3-4a98-a09a-bd38e96caa32",
    "outputId": "ea5fb769-9469-417f-db5b-7950775f179e"
   },
   "outputs": [
    {
     "data": {
      "text/plain": [
       "tensor([[94,  3],\n",
       "        [46, 12],\n",
       "        [61, 19],\n",
       "        [47, 11],\n",
       "        [87, 20]])"
      ]
     },
     "execution_count": 147,
     "metadata": {},
     "output_type": "execute_result"
    }
   ],
   "source": [
    "X[:5]"
   ]
  },
  {
   "cell_type": "code",
   "execution_count": null,
   "id": "c16e9b97-e2d6-4fe3-9361-043600d3ca32",
   "metadata": {
    "id": "c16e9b97-e2d6-4fe3-9361-043600d3ca32",
    "outputId": "bfa07d61-9f36-483e-cda0-40b7c88763e1"
   },
   "outputs": [
    {
     "data": {
      "text/plain": [
       "tensor([[1.1616],\n",
       "        [0.6749],\n",
       "        [4.1603],\n",
       "        [0.6241],\n",
       "        [4.3710]])"
      ]
     },
     "execution_count": 148,
     "metadata": {},
     "output_type": "execute_result"
    }
   ],
   "source": [
    "y[:5]"
   ]
  },
  {
   "cell_type": "code",
   "execution_count": null,
   "id": "6c7d3c79-d4fc-449d-843f-3d1ba611657e",
   "metadata": {
    "id": "6c7d3c79-d4fc-449d-843f-3d1ba611657e",
    "outputId": "fa703ff6-f1de-4f21-ef2b-117624e8f448"
   },
   "outputs": [
    {
     "data": {
      "text/plain": [
       "tensor([[94,  3]])"
      ]
     },
     "execution_count": 153,
     "metadata": {},
     "output_type": "execute_result"
    }
   ],
   "source": [
    "torch.tensor([[94,3]])"
   ]
  },
  {
   "cell_type": "code",
   "execution_count": null,
   "id": "c4ceef63-1f5e-43aa-b985-8fcb7f902eba",
   "metadata": {
    "id": "c4ceef63-1f5e-43aa-b985-8fcb7f902eba",
    "outputId": "477a17ce-802d-4a19-9c27-a391cf1e6e2d"
   },
   "outputs": [
    {
     "data": {
      "text/plain": [
       "tensor([1.2002], device='cuda:0', grad_fn=<AddBackward0>)"
      ]
     },
     "execution_count": 154,
     "metadata": {},
     "output_type": "execute_result"
    }
   ],
   "source": [
    "lrnr.model(torch.tensor([[94,3]]).to(\"cuda:0\"))"
   ]
  },
  {
   "cell_type": "code",
   "execution_count": null,
   "id": "3d60fa92-721e-4371-b083-61b55b967565",
   "metadata": {
    "id": "3d60fa92-721e-4371-b083-61b55b967565"
   },
   "outputs": [],
   "source": [
    "x100 = torch.tensor([[100,j] for j in range(1,21) ])"
   ]
  },
  {
   "cell_type": "code",
   "execution_count": null,
   "id": "0abad0cd-d335-4781-8931-b6dea5d8d42d",
   "metadata": {
    "id": "0abad0cd-d335-4781-8931-b6dea5d8d42d",
    "outputId": "7aa5b98d-be2c-487b-95de-46f4ae2cdad6"
   },
   "outputs": [
    {
     "data": {
      "text/plain": [
       "tensor([1.0416, 1.0414, 1.0742, 1.1004, 1.0125, 1.0141, 1.1448, 1.0488, 1.1155,\n",
       "        1.0428, 3.9658, 4.0532, 4.0562, 3.9919, 4.0497, 4.0288, 3.9983, 4.0984,\n",
       "        3.9943, 4.0803], device='cuda:0', grad_fn=<AddBackward0>)"
      ]
     },
     "execution_count": 158,
     "metadata": {},
     "output_type": "execute_result"
    }
   ],
   "source": [
    "lrnr.model(x100.to(\"cuda:0\"))"
   ]
  },
  {
   "cell_type": "markdown",
   "id": "0c0488c0-4769-4cef-8925-9224f8b308e9",
   "metadata": {
    "id": "0c0488c0-4769-4cef-8925-9224f8b308e9"
   },
   "source": [
    "`-` 예상대로 홍차를 매우 좋아함. "
   ]
  },
  {
   "cell_type": "markdown",
   "id": "682de695-c0de-42d2-8ed4-d1dc7c46de87",
   "metadata": {
    "id": "682de695-c0de-42d2-8ed4-d1dc7c46de87"
   },
   "source": [
    "### 숙제 "
   ]
  },
  {
   "cell_type": "markdown",
   "id": "d2851d2d-1d79-4887-85e6-20835ccdeccb",
   "metadata": {
    "id": "d2851d2d-1d79-4887-85e6-20835ccdeccb"
   },
   "source": [
    "숙제는 유저2번에 대한 선호도 조사 "
   ]
  }
 ],
 "metadata": {
  "colab": {
   "name": "2021-11-30-(12주차) 11월30일.ipynb",
   "provenance": []
  },
  "kernelspec": {
   "display_name": "Python 3",
   "language": "python",
   "name": "python3"
  },
  "language_info": {
   "codemirror_mode": {
    "name": "ipython",
    "version": 3
   },
   "file_extension": ".py",
   "mimetype": "text/x-python",
   "name": "python",
   "nbconvert_exporter": "python",
   "pygments_lexer": "ipython3",
   "version": "3.8.12"
  }
 },
 "nbformat": 4,
 "nbformat_minor": 5
}
