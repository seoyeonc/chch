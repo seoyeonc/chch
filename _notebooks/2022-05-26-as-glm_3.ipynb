{
 "cells": [
  {
   "cell_type": "markdown",
   "id": "8698f36d-afa5-4a67-889e-1e076331de28",
   "metadata": {
    "id": "cac470df-29e7-4148-9bbd-d8b9a32fa570",
    "tags": []
   },
   "source": [
    "# 응용통계학 (13주차) 5월 26일\n",
    "> GLM, 일반화선형모형 3번째\n",
    "\n",
    "- toc:true\n",
    "- branch: master\n",
    "- badges: true\n",
    "- comments: false\n",
    "- author: 최서연\n",
    "- categories: [Applied Statistics, GLM, 일반화 선형 모형]"
   ]
  },
  {
   "cell_type": "markdown",
   "id": "fd8365fa-0cad-491a-8032-d3b743595244",
   "metadata": {},
   "source": [
    "## 일반화선형모형 : Generalized linear model III"
   ]
  },
  {
   "cell_type": "markdown",
   "id": "a370160a-5ca6-4025-aa21-5bd2f27f7940",
   "metadata": {},
   "source": [
    "선형모형, 로지스틱모형, count regression 등에 이르기까지 다양한 종류의 response를 (1) response 자체의 분포의 특성을 고려하여 (2) conditional mean function을 추정하기 위한 적절한 연결함수를 고려하여 모형화 및 추정을 시도하였다.\n",
    "\n",
    "이러한 것들을 보다 일반화하여 앞서 다루었던 모형 및 추정법등을 포함하는 하나의 모형을 생각할 수 있는데 이를 일반화선형모형 (Generalized linear model : GLM)이라 한다."
   ]
  },
  {
   "cell_type": "markdown",
   "id": "de813317-5e96-4b08-a2d9-e9f599b904a3",
   "metadata": {},
   "source": [
    "### 1. GLM definition"
   ]
  },
  {
   "cell_type": "markdown",
   "id": "6cccda60-48e1-483f-bc2c-dfa77d1fff8b",
   "metadata": {},
   "source": [
    "GLM은 크게 두 가지 요소를 특정하는 것으로 정의된. 첫째 response의 분포로, 기본적으로 **지수족 (exponential family)**을 따르는 것으로 가정한다. 둘째는 link 함수로, response의 conditional **mean** function을 linear predictor와 어떻게 연결할 것인지이다.\n",
    "- binary - logistic link function\n",
    "- poisson - log link function"
   ]
  },
  {
   "cell_type": "markdown",
   "id": "bfb39fc0-6b01-48e7-8a52-38c45c9764e6",
   "metadata": {},
   "source": [
    "#### 1.1. Exponential family : 다음과 같은 분포를 따를 때 $Y$가 지수족을 따른다고 한다."
   ]
  },
  {
   "cell_type": "markdown",
   "id": "4e1c1681-5566-4045-805a-68651b045f38",
   "metadata": {},
   "source": [
    "$$f(y|\\theta,\\phi) = exp \\big[ \\frac{y\\theta - b(\\theta)}{a(\\phi)} + c(y,\\theta) \\big]$$\n",
    "$\\theta$ : canonical parameter, $\\phi$: disperison parameter"
   ]
  },
  {
   "cell_type": "markdown",
   "id": "4ba7e828-ede1-4697-b4de-7d03797870ff",
   "metadata": {},
   "source": [
    "1. 정규분포($N(\\mu, \\sigma^2)$):\n",
    "$$\\theta = \\mu, \\phi = \\sigma^2, a(\\phi) = \\phi, b(\\theta) = \\theta^2, c(y,\\phi) = -(y^2 /\\phi + log(2\\pi\\phi))/2$$\n",
    "- $b'(\\theta) = \\theta = \\mu$\n",
    "- $f(\\theta) = b'(\\theta) = \\theta$\n",
    "- $f^{-1}(\\theta) = \\theta = g(\\theta)$ : 정준 연결 함수 $\\to$ 안 쓰는게 자연스런 $\\theta$ function 쓰는 것!\n",
    "\n",
    "2. Poisson:\n",
    "$$\\theta = log(\\mu), \\phi = 1, a(\\phi) = 1, b(\\theta) = exp(\\theta), c(y,\\phi) = -logy!$$\n",
    "- $b'(\\theta) = exp(\\theta) = exp(log(\\mu)=  \\mu$\n",
    "- $ f(\\theta)=  b'(\\theta) = e^{\\theta}$\n",
    "- $f^{-1}(\\theta) = log(\\theta) = g(\\theta)$ : 정준 연결 함수 $\\to$ $log$쓰는 게 자연스런 $\\theta$ function 쓰는 법\n",
    "\n",
    "3. Binomial:\n",
    "$$\\theta = log(\\mu/(1-\\mu)), b(\\theta) = -nlog(1-\\mu) = nlog(1+exp(\\theta)), c(y,\\phi) = log\\begin{pmatrix} n\\\\ y\\end{pmatrix}$$\n",
    "- $\\mu = P(Y=1)$\n",
    "- $b'(\\theta) = \\frac{exp(\\theta)}{1+exp(\\theta)}$\n",
    "- $f(\\theta) = \\frac{exp(\\theta)}{1+exp(\\theta)}$\n",
    "- $f^{-1} = log\\frac{exp(\\theta)}{1+exp(\\theta)} = g(\\theta)$ : 정준 연결 함수 $\\to$ $logit$ 쓰는 게 자연스런 $\\theta$  function 쓰는 법"
   ]
  },
  {
   "cell_type": "markdown",
   "id": "5c1ef463-44da-427e-a79e-c07a191f7935",
   "metadata": {},
   "source": [
    "감마 및 역감마분포도 지수족에 포함된다.\n",
    "\n",
    "일반적으로 지수족을 따르는 경우 response의 평균과 분산이 어떻게 표현되는지는 다음으로부터 이끌어 낼 수 있다.\n",
    "\n",
    "먼저 log-likelihood for a sigle $y$는 다음과 같이 주어지므로:\n",
    "\n",
    "$$l(\\theta) = (y\\theta)-b(\\theta))/a(\\phi) + c(y,\\phi)$$\n",
    "\n",
    "이 함수의 일차/이차 미분은 다음과 같이 계산된다.\n",
    "\n",
    "$$l'(\\theta) = (y-b'(\\theta))/a(\\phi), l''(\\theta) = -b''(\\theta)/a(\\phi)$$\n",
    "- 분자가 0이 되면 0이 되므로 $y=b'(\\theta)$만 만족하면 된다. \n",
    "\n",
    "그러면 score function 이 mean이 0이라는 성질과 이차미분에 대한 성질로부터 ;\n",
    "\n",
    "$El'(\\theta) = 0$과 $El''(\\theta) = -E[l'(\\theta)^2]$을 얻고 이로부터 다음 식을 얻을 수 있다.\n",
    "\n",
    "$$E(Y) = \\mu b'(\\theta), Var(Y) = b''(\\theta)a(\\phi)$$\n",
    "- $E(Y)$에서는 $\\theta$만 역할을 하지만, $Var(Y)$에서는 $\\theta$랑 $\\phi$ 모두 역할이 있다.\n",
    "\n",
    "위로부터 평균은 $θ$이 함수임을 알 수 있다. 또한 분산은 $θ$와 $ϕ$의 함수의 곱 형태로 주어진다. 여기서 $V(μ)=b′′(θ)/w$를 variance function이라 지칭하는데 이는 분산이 평균과 어떻게 연결되는지를 기술해주는 것으로 이해할 수 있다."
   ]
  },
  {
   "cell_type": "markdown",
   "id": "a8f77ad8-1daa-45e5-9611-394460ef90bb",
   "metadata": {},
   "source": [
    "#### 1.2. Link function"
   ]
  },
  {
   "cell_type": "markdown",
   "id": "ff60a1fc-88d9-4bd0-a392-e8773091b94d",
   "metadata": {},
   "source": [
    "$$\\eta = g(\\mu) = \\beta_0 + \\beta_1 x_1 + \\dots + \\beta_p x_p = x^\\top \\beta$$\n",
    "- $g(\\mu) = \\theta$\n",
    "- $\\to$ $g(b'(\\theta) = \\theta$\n",
    "- $\\to$ $(g \\bullet b')(\\theta) = \\theta$\n",
    "- $\\to$ $g(\\theta) = b'^{-1}(\\theta)$\n",
    "    - 1. 분포가 정해진 후\n",
    "    - 2. link function 이 정해진다.\n",
    "\n",
    "$E(Y) = \\mu$ 이다. 원론적으로는 어떤 monotone continuous and differentiable function도 연결함수의 역할을 할 수 있으나 GLM에서 보통 선택하는 연결함수에는 몇 가지 유용한 성질을 가지게 된다. 이를 **정준연결함수(canonical link function)**이라 한다.\n",
    "\n",
    "정준연결함수 $g$는 $η=g(μ)=θ$를 만족하는 함수를 말한다. 이는 곧 $g(b′(θ))=θ$를 함의하게 된다. Poisson 분포에서는 log함수가 Binomial 분포에서는 logit 함수가 정규분포에서는 항등함수가 정준연결함수가 됨이 알려져 있다.\n",
    "\n",
    "이러한 정준연결함수는 수학적으로 또한 추정량 계산상에 있어서 여러가지 장점이 있어 널리 쓰인다.\n",
    "- 적어도 이론적으로 추정량 찾는데 많은 장점이 있다."
   ]
  },
  {
   "cell_type": "markdown",
   "id": "571835dd-7e63-46ed-bd4f-befaa868545f",
   "metadata": {},
   "source": [
    "### 2. Fitting a GLM"
   ]
  },
  {
   "cell_type": "markdown",
   "id": "87305edd-bf4b-464f-ba21-96012fc593ed",
   "metadata": {},
   "source": [
    "최대가능도추정법이 GLM의 추정에서 기본적으로 쓰인다. 분포가 정규분포일 때를 제외하면 가능도방정식의 해가 명시적으로 표현되지 않기 때문에 수치적인 접근법을 이용해야 한다. 보통 Newton-Raphson에 근거한 방법들을 이용하게 된다."
   ]
  },
  {
   "cell_type": "markdown",
   "id": "b00a4264-04ab-477d-8e16-dd3436268235",
   "metadata": {},
   "source": [
    "### 3. Hypothesis tests"
   ]
  },
  {
   "cell_type": "markdown",
   "id": "38954e12-d003-4652-98ef-5b192529a1d6",
   "metadata": {},
   "source": [
    "- Null model : 가장 간단한 모형으로 설명변수가 하나도 포함되지 않은 모형\n",
    "- Full (Saturated) model :가장 복잡하고 큰 모형으로 $n$개의 관측치에 대하여 $n$개의 parameter를 사용. 이 경우 $\\hat{μ}=y$가 만족되게 된다.\n",
    "\n",
    "앞서 언급했듯이 현재 모형이 데이터를 얼마나 잘 적합하는지를 측정하고 할 때, 현재 모형을 full model과 비교하게 된다. 즉, 다음과 같은 두 모형의 차이를 생각한다.\n",
    "\n",
    "$$1[log(y,\\phi|y) - log(\\hat{\\mu},\\phi|y)]$$\n",
    "\n",
    "이를 deviance라 하고 다음과 같이 쓴다.\n",
    "\n",
    "$$D(y,\\hat{\\mu})$$"
   ]
  },
  {
   "cell_type": "code",
   "execution_count": null,
   "id": "212fc842-db25-4817-8ba0-27588a83a1df",
   "metadata": {},
   "outputs": [],
   "source": []
  }
 ],
 "metadata": {
  "kernelspec": {
   "display_name": "R",
   "language": "R",
   "name": "ir"
  },
  "language_info": {
   "codemirror_mode": "r",
   "file_extension": ".r",
   "mimetype": "text/x-r-source",
   "name": "R",
   "pygments_lexer": "r",
   "version": "4.1.2"
  }
 },
 "nbformat": 4,
 "nbformat_minor": 5
}
