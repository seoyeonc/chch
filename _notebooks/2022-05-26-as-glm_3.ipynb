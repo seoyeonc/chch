{
 "cells": [
  {
   "cell_type": "markdown",
   "id": "8698f36d-afa5-4a67-889e-1e076331de28",
   "metadata": {
    "id": "cac470df-29e7-4148-9bbd-d8b9a32fa570",
    "tags": []
   },
   "source": [
    "# 응용통계학 (13주차) 5월 26일\n",
    "> GLM, 일반화선형모형 3번째\n",
    "\n",
    "- toc:true\n",
    "- branch: master\n",
    "- badges: true\n",
    "- comments: false\n",
    "- author: 최서연\n",
    "- categories: [Applied Statistics, GLM, 일반화 선형 모형]"
   ]
  },
  {
   "cell_type": "code",
   "execution_count": null,
   "id": "c6d87e8c-774a-4396-bb8e-29230ea22def",
   "metadata": {},
   "outputs": [],
   "source": []
  }
 ],
 "metadata": {
  "kernelspec": {
   "display_name": "R",
   "language": "R",
   "name": "ir"
  },
  "language_info": {
   "codemirror_mode": "r",
   "file_extension": ".r",
   "mimetype": "text/x-r-source",
   "name": "R",
   "pygments_lexer": "r",
   "version": "4.1.2"
  }
 },
 "nbformat": 4,
 "nbformat_minor": 5
}
