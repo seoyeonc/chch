{
 "cells": [
  {
   "cell_type": "markdown",
   "id": "8698f36d-afa5-4a67-889e-1e076331de28",
   "metadata": {
    "id": "cac470df-29e7-4148-9bbd-d8b9a32fa570",
    "tags": []
   },
   "source": [
    "# 응용통계학 (13주차) 5월 26일\n",
    "> GLM, 일반화선형모형 3번째\n",
    "\n",
    "- toc:true\n",
    "- branch: master\n",
    "- badges: true\n",
    "- comments: false\n",
    "- author: 최서연\n",
    "- categories: [Applied Statistics, GLM, 일반화 선형 모형]"
   ]
  },
  {
   "cell_type": "markdown",
   "id": "fd8365fa-0cad-491a-8032-d3b743595244",
   "metadata": {},
   "source": [
    "## 일반화선형모형 : Generalized linear model III"
   ]
  },
  {
   "cell_type": "markdown",
   "id": "a370160a-5ca6-4025-aa21-5bd2f27f7940",
   "metadata": {},
   "source": [
    "선형모형, 로지스틱모형, count regression 등에 이르기까지 다양한 종류의 response를 (1) response 자체의 분포의 특성을 고려하여 (2) conditional mean function을 추정하기 위한 적절한 연결함수를 고려하여 모형화 및 추정을 시도하였다.\n",
    "\n",
    "이러한 것들을 보다 일반화하여 앞서 다루었던 모형 및 추정법등을 포함하는 하나의 모형을 생각할 수 있는데 이를 일반화선형모형 (Generalized linear model : GLM)이라 한다."
   ]
  },
  {
   "cell_type": "markdown",
   "id": "de813317-5e96-4b08-a2d9-e9f599b904a3",
   "metadata": {},
   "source": [
    "### 1. GLM definition"
   ]
  },
  {
   "cell_type": "markdown",
   "id": "6cccda60-48e1-483f-bc2c-dfa77d1fff8b",
   "metadata": {},
   "source": [
    "GLM은 크게 두 가지 요소를 특정하는 것으로 정의된. 첫째 response의 분포로, 기본적으로 **지수족 (exponential family)**을 따르는 것으로 가정한다. 둘째는 link 함수로, response의 conditional **mean** function을 linear predictor와 어떻게 연결할 것인지이다.\n",
    "- binary - logistic link function\n",
    "- poisson - log link function"
   ]
  },
  {
   "cell_type": "markdown",
   "id": "bfb39fc0-6b01-48e7-8a52-38c45c9764e6",
   "metadata": {},
   "source": [
    "#### 1.1. Exponential family"
   ]
  },
  {
   "cell_type": "markdown",
   "id": "97ad76df-fe48-47f1-afa5-39c700606a71",
   "metadata": {},
   "source": [
    "다음과 같은 분포를 따를 때 $Y$가 지수족을 따른다고 한다."
   ]
  },
  {
   "cell_type": "markdown",
   "id": "4e1c1681-5566-4045-805a-68651b045f38",
   "metadata": {},
   "source": [
    "$$f(y|\\theta,\\phi) = exp \\big[ \\frac{y\\theta - b(\\theta)}{a(\\phi)} + c(y,\\theta) \\big]$$\n",
    "$\\theta$ : canonical parameter, $\\phi$: disperison parameter"
   ]
  },
  {
   "cell_type": "markdown",
   "id": "4ba7e828-ede1-4697-b4de-7d03797870ff",
   "metadata": {},
   "source": [
    "1. 정규분포($N(\\mu, \\sigma^2)$):\n",
    "$$\\theta = \\mu, \\phi = \\sigma^2, a(\\phi) = \\phi, b(\\theta) = \\theta^2, c(y,\\phi) = -(y^2 /\\phi + log(2\\pi\\phi))/2$$\n",
    "- $b'(\\theta) = \\theta = \\mu$\n",
    "- $f(\\theta) = b'(\\theta) = \\theta$\n",
    "- $f^{-1}(\\theta) = \\theta = g(\\theta)$ : 정준 연결 함수 $\\to$ 안 쓰는게 자연스런 $\\theta$ function 쓰는 것!\n",
    "\n",
    "2. Poisson:\n",
    "$$\\theta = log(\\mu), \\phi = 1, a(\\phi) = 1, b(\\theta) = exp(\\theta), c(y,\\phi) = -logy!$$\n",
    "- $b'(\\theta) = exp(\\theta) = exp(log(\\mu)=  \\mu$\n",
    "- $ f(\\theta)=  b'(\\theta) = e^{\\theta}$\n",
    "- $f^{-1}(\\theta) = log(\\theta) = g(\\theta)$ : 정준 연결 함수 $\\to$ $log$쓰는 게 자연스런 $\\theta$ function 쓰는 법\n",
    "\n",
    "3. Binomial:\n",
    "$$\\theta = log(\\mu/(1-\\mu)), b(\\theta) = -nlog(1-\\mu) = nlog(1+exp(\\theta)), c(y,\\phi) = log\\begin{pmatrix} n\\\\ y\\end{pmatrix}$$\n",
    "- $\\mu = P(Y=1)$\n",
    "- $b'(\\theta) = \\frac{exp(\\theta)}{1+exp(\\theta)}$\n",
    "- $f(\\theta) = \\frac{exp(\\theta)}{1+exp(\\theta)}$\n",
    "- $f^{-1} = log\\frac{exp(\\theta)}{1+exp(\\theta)} = g(\\theta)$ : 정준 연결 함수 $\\to$ $logit$ 쓰는 게 자연스런 $\\theta$  function 쓰는 법"
   ]
  },
  {
   "cell_type": "markdown",
   "id": "5c1ef463-44da-427e-a79e-c07a191f7935",
   "metadata": {},
   "source": [
    "감마 및 역감마분포도 지수족에 포함된다.\n",
    "\n",
    "일반적으로 지수족을 따르는 경우 response의 평균과 분산이 어떻게 표현되는지는 다음으로부터 이끌어 낼 수 있다.\n",
    "\n",
    "먼저 log-likelihood for a sigle $y$는 다음과 같이 주어지므로:\n",
    "\n",
    "$$l(\\theta) = (y\\theta)-b(\\theta))/a(\\phi) + c(y,\\phi)$$\n",
    "\n",
    "이 함수의 일차/이차 미분은 다음과 같이 계산된다.\n",
    "\n",
    "$$l'(\\theta) = (y-b'(\\theta))/a(\\phi), l''(\\theta) = -b''(\\theta)/a(\\phi)$$\n",
    "- 분자가 0이 되면 0이 되므로 $y=b'(\\theta)$만 만족하면 된다. \n",
    "\n",
    "그러면 score function 이 mean이 0이라는 성질과 이차미분에 대한 성질로부터 ;\n",
    "\n",
    "$El'(\\theta) = 0$과 $El''(\\theta) = -E[l'(\\theta)^2]$을 얻고 이로부터 다음 식을 얻을 수 있다.\n",
    "\n",
    "$$E(Y) = \\mu b'(\\theta), Var(Y) = b''(\\theta)a(\\phi)$$\n",
    "- $E(Y)$에서는 $\\theta$만 역할을 하지만, $Var(Y)$에서는 $\\theta$랑 $\\phi$ 모두 역할이 있다.\n",
    "\n",
    "위로부터 평균은 $θ$이 함수임을 알 수 있다. 또한 분산은 $θ$와 $ϕ$의 함수의 곱 형태로 주어진다. 여기서 $V(μ)=b′′(θ)/w$를 variance function이라 지칭하는데 이는 분산이 평균과 어떻게 연결되는지를 기술해주는 것으로 이해할 수 있다."
   ]
  },
  {
   "cell_type": "markdown",
   "id": "a8f77ad8-1daa-45e5-9611-394460ef90bb",
   "metadata": {},
   "source": [
    "#### 1.2. Link function"
   ]
  },
  {
   "cell_type": "markdown",
   "id": "ff60a1fc-88d9-4bd0-a392-e8773091b94d",
   "metadata": {},
   "source": [
    "$$\\eta = g(\\mu) = \\beta_0 + \\beta_1 x_1 + \\dots + \\beta_p x_p = x^\\top \\beta$$\n",
    "- $g(\\mu) = \\theta$\n",
    "- $\\to$ $g(b'(\\theta) = \\theta$\n",
    "- $\\to$ $(g \\bullet b')(\\theta) = \\theta$\n",
    "- $\\to$ $g(\\theta) = b'^{-1}(\\theta)$\n",
    "    - 1. 분포가 정해진 후\n",
    "    - 2. link function 이 정해진다.\n",
    "\n",
    "$E(Y) = \\mu$ 이다. 원론적으로는 어떤 monotone continuous and differentiable function도 연결함수의 역할을 할 수 있으나 GLM에서 보통 선택하는 연결함수에는 몇 가지 유용한 성질을 가지게 된다. 이를 **정준연결함수(canonical link function)**이라 한다.\n",
    "\n",
    "정준연결함수 $g$는 $η=g(μ)=θ$를 만족하는 함수를 말한다. 이는 곧 $g(b′(θ))=θ$를 함의하게 된다. Poisson 분포에서는 log함수가 Binomial 분포에서는 logit 함수가 정규분포에서는 항등함수가 정준연결함수가 됨이 알려져 있다.\n",
    "\n",
    "이러한 정준연결함수는 수학적으로 또한 추정량 계산상에 있어서 여러가지 장점이 있어 널리 쓰인다.\n",
    "- 적어도 이론적으로 추정량 찾는데 많은 장점이 있다."
   ]
  },
  {
   "cell_type": "markdown",
   "id": "571835dd-7e63-46ed-bd4f-befaa868545f",
   "metadata": {},
   "source": [
    "### 2. Fitting a GLM"
   ]
  },
  {
   "cell_type": "markdown",
   "id": "87305edd-bf4b-464f-ba21-96012fc593ed",
   "metadata": {},
   "source": [
    "최대가능도추정법이 GLM의 추정에서 기본적으로 쓰인다. 분포가 정규분포일 때를 제외하면 가능도방정식의 해가 명시적으로 표현되지 않기 때문에 수치적인 접근법을 이용해야 한다. 보통 Newton-Raphson에 근거한 방법들을 이용하게 된다."
   ]
  },
  {
   "cell_type": "markdown",
   "id": "b00a4264-04ab-477d-8e16-dd3436268235",
   "metadata": {},
   "source": [
    "### 3. Hypothesis tests"
   ]
  },
  {
   "cell_type": "markdown",
   "id": "38954e12-d003-4652-98ef-5b192529a1d6",
   "metadata": {},
   "source": [
    "- Null model : 가장 간단한 모형으로 설명변수가 하나도 포함되지 않은 모형\n",
    "- Full (Saturated) model :가장 복잡하고 큰 모형으로 $n$개의 관측치에 대하여 $n$개의 parameter를 사용. 이 경우 $\\hat{μ}=y$가 만족되게 된다.\n",
    "\n",
    "앞서 언급했듯이 현재 모형이 데이터를 얼마나 잘 적합하는지를 측정하고 할 때, 현재 모형을 full model과 비교하게 된다. 즉, 다음과 같은 두 모형의 차이를 생각한다.\n",
    "\n",
    "$$1[log(y,\\phi|y) - log(\\hat{\\mu},\\phi|y)]$$\n",
    "- 적합도가 좋으면 이 값이 작아진다.\n",
    "\n",
    "이를 deviance라 하고 다음과 같이 쓴다.\n",
    "\n",
    "$$D(y,\\hat{\\mu})$$\n",
    "- $\\sqrt{d_i}$ : Deviance type residual"
   ]
  },
  {
   "cell_type": "markdown",
   "id": "5ddae675-bf3b-4ace-9b5c-fd86ad85062c",
   "metadata": {},
   "source": [
    "|GLM|Deviance|\n",
    "|---|---|\n",
    "|Gaussian_Normal|$\\sum_i (y_i - \\hat{\\mu}_i)^2$ $\\approx$ SSE|\n",
    "|Poisson|$2\\sum_i[y_i log(y_i/\\hat{\\mu}-i) - (y_i - \\hat{\\mu}_i)]$ $ =2 생략하고 \\sum d_i = \\sum (\\sqrt{d_i})^2$,제곱하는 개념으로 보고 root씌운 것을 잔차라고 놓는다. $\\sqrt{d_i}$는 양수/음수 가능|\n",
    "|Binomial|$2\\sum_i [y_i(log(y_i/\\hat{\\mu}_i) + (m-y_i)log((m-y_i)/(m-\\hat{\\mu}_i))]$|\n",
    "|Gamma|$2\\sum_i[-log(y_i/\\hat{\\mu}_i) + (y_i - \\hat{\\mu}_i)/\\hat{\\mu}_i]]$|\n",
    "|Inverse Gaussian|$\\sum_i (y_i - \\hat{\\mu}_i)^2/(\\hat{\\mu}^{2}_{i} y_i)$|"
   ]
  },
  {
   "cell_type": "markdown",
   "id": "410f3b95-b8a8-4c6d-bc8c-da9aa556580c",
   "metadata": {},
   "source": [
    "이는 선형모형에거 SSE를 GLM 하에서 일반화시킨 것으로 간주할 수 있다.\n",
    "\n",
    "적합도를 측정하는 또 다른 방법 중 하나는 Pearson’s $X^2$ 통계량을 고려하는 것이다.\n",
    "\n",
    "$$X^2 = \\sum_i \\frac{(y_i - \\hat{\\mu_i})^2}{V(\\hat{\\mu}_i)}$$\n",
    "- 일종의 잔차 표준화이다.\n",
    "- 표준화 $\\big(\\frac{X-\\mu}{\\sigma}\\big)^2 = \\frac{(X-\\mu)^2}{\\sigma} \\sim \\chi^2_{(1)}, Z \\sim \\chi^2_{(1)}$\n",
    "- 값이 클 수록 적합도가 안 좋다는 뜻, 값이 작을수록 적합도가 좋다는 뜻\n",
    "\n",
    "더 큰 모형을 $Ω$ 작은 모형을 $ω$라 할 때, scaled deviance의 차이 $D_ω−D_Ω$는 점근적으로 $χ^2$ 분포를library(faraway) 따르게 된다. 이 때 자유도는 두 모형의 모수 개수의 차이이다.\n",
    "- 적합도 평가 뿐만이 아니라 차이의 카이제곱분포를 따름을 보이고 유의성 평가까지 할 것."
   ]
  },
  {
   "cell_type": "code",
   "execution_count": 1,
   "id": "5ac6d0d1-e9a8-404e-8080-e8693ac8eb17",
   "metadata": {},
   "outputs": [],
   "source": [
    "library(faraway)"
   ]
  },
  {
   "cell_type": "markdown",
   "id": "6f617a21-1aa1-4416-858e-dc8747e31c49",
   "metadata": {},
   "source": [
    "- conc는 살충제 농도이고,\n",
    "- binomial로 놓은 이유는 생존을 이진수로 나타내니까"
   ]
  },
  {
   "cell_type": "code",
   "execution_count": 2,
   "id": "ae31f7be-a385-4baf-9f46-74b1bd9a3ba8",
   "metadata": {},
   "outputs": [
    {
     "data": {
      "text/plain": [
       "\n",
       "Call:\n",
       "glm(formula = cbind(dead, alive) ~ conc, family = binomial, data = bliss)\n",
       "\n",
       "Deviance Residuals: \n",
       "      1        2        3        4        5  \n",
       "-0.4510   0.3597   0.0000   0.0643  -0.2045  \n",
       "\n",
       "Coefficients:\n",
       "            Estimate Std. Error z value Pr(>|z|)    \n",
       "(Intercept)  -2.3238     0.4179  -5.561 2.69e-08 ***\n",
       "conc          1.1619     0.1814   6.405 1.51e-10 ***\n",
       "---\n",
       "Signif. codes:  0 ‘***’ 0.001 ‘**’ 0.01 ‘*’ 0.05 ‘.’ 0.1 ‘ ’ 1\n",
       "\n",
       "(Dispersion parameter for binomial family taken to be 1)\n",
       "\n",
       "    Null deviance: 64.76327  on 4  degrees of freedom\n",
       "Residual deviance:  0.37875  on 3  degrees of freedom\n",
       "AIC: 20.854\n",
       "\n",
       "Number of Fisher Scoring iterations: 4\n"
      ]
     },
     "metadata": {},
     "output_type": "display_data"
    }
   ],
   "source": [
    "data(bliss, package=\"faraway\")\n",
    "modl <- glm(cbind(dead,alive) ~ conc, family=binomial, bliss)\n",
    "summary(modl)"
   ]
  },
  {
   "cell_type": "markdown",
   "id": "cfd3ea88-b51a-4e78-8a74-bf5cc76fd749",
   "metadata": {},
   "source": [
    "- conc의 estimate가 양수이다. 1.1619"
   ]
  },
  {
   "cell_type": "code",
   "execution_count": 3,
   "id": "52c211eb-d7ac-4e1f-8bcc-33065536bc64",
   "metadata": {},
   "outputs": [
    {
     "data": {
      "text/html": [
       "0.944596758540894"
      ],
      "text/latex": [
       "0.944596758540894"
      ],
      "text/markdown": [
       "0.944596758540894"
      ],
      "text/plain": [
       "[1] 0.9445968"
      ]
     },
     "metadata": {},
     "output_type": "display_data"
    }
   ],
   "source": [
    "1-pchisq(deviance(modl),df.residual(modl))  # test for goodness of fit"
   ]
  },
  {
   "cell_type": "markdown",
   "id": "6ccfe4a1-4719-4065-b4fc-7b016286d9f0",
   "metadata": {},
   "source": [
    "- 함수 2개 쓰는 2차 함수 사용\n",
    "- test='chi' 없어도 된대"
   ]
  },
  {
   "cell_type": "code",
   "execution_count": 4,
   "id": "c16e0676-067b-4161-b4e0-769bd24ca7d8",
   "metadata": {},
   "outputs": [
    {
     "data": {
      "text/html": [
       "<table class=\"dataframe\">\n",
       "<caption>A anova: 2 × 5</caption>\n",
       "<thead>\n",
       "\t<tr><th></th><th scope=col>Resid. Df</th><th scope=col>Resid. Dev</th><th scope=col>Df</th><th scope=col>Deviance</th><th scope=col>Pr(&gt;Chi)</th></tr>\n",
       "\t<tr><th></th><th scope=col>&lt;dbl&gt;</th><th scope=col>&lt;dbl&gt;</th><th scope=col>&lt;dbl&gt;</th><th scope=col>&lt;dbl&gt;</th><th scope=col>&lt;dbl&gt;</th></tr>\n",
       "</thead>\n",
       "<tbody>\n",
       "\t<tr><th scope=row>1</th><td>3</td><td>0.3787483</td><td>NA</td><td>       NA</td><td>       NA</td></tr>\n",
       "\t<tr><th scope=row>2</th><td>2</td><td>0.1954940</td><td> 1</td><td>0.1832542</td><td>0.6685914</td></tr>\n",
       "</tbody>\n",
       "</table>\n"
      ],
      "text/latex": [
       "A anova: 2 × 5\n",
       "\\begin{tabular}{r|lllll}\n",
       "  & Resid. Df & Resid. Dev & Df & Deviance & Pr(>Chi)\\\\\n",
       "  & <dbl> & <dbl> & <dbl> & <dbl> & <dbl>\\\\\n",
       "\\hline\n",
       "\t1 & 3 & 0.3787483 & NA &        NA &        NA\\\\\n",
       "\t2 & 2 & 0.1954940 &  1 & 0.1832542 & 0.6685914\\\\\n",
       "\\end{tabular}\n"
      ],
      "text/markdown": [
       "\n",
       "A anova: 2 × 5\n",
       "\n",
       "| <!--/--> | Resid. Df &lt;dbl&gt; | Resid. Dev &lt;dbl&gt; | Df &lt;dbl&gt; | Deviance &lt;dbl&gt; | Pr(&gt;Chi) &lt;dbl&gt; |\n",
       "|---|---|---|---|---|---|\n",
       "| 1 | 3 | 0.3787483 | NA |        NA |        NA |\n",
       "| 2 | 2 | 0.1954940 |  1 | 0.1832542 | 0.6685914 |\n",
       "\n"
      ],
      "text/plain": [
       "  Resid. Df Resid. Dev Df Deviance  Pr(>Chi) \n",
       "1 3         0.3787483  NA        NA        NA\n",
       "2 2         0.1954940   1 0.1832542 0.6685914"
      ]
     },
     "metadata": {},
     "output_type": "display_data"
    }
   ],
   "source": [
    "modl2 <- glm(cbind(dead,alive) ~ conc+I(conc^2), family=binomial, bliss)\n",
    "anova(modl,modl2,test=\"Chi\")   # test for additional parameter"
   ]
  },
  {
   "cell_type": "code",
   "execution_count": 5,
   "id": "020878b9-dbc7-4963-814d-197ac9c5f3e6",
   "metadata": {},
   "outputs": [
    {
     "data": {
      "text/html": [
       "<table class=\"dataframe\">\n",
       "<caption>A anova: 3 × 5</caption>\n",
       "<thead>\n",
       "\t<tr><th></th><th scope=col>Df</th><th scope=col>Deviance</th><th scope=col>Resid. Df</th><th scope=col>Resid. Dev</th><th scope=col>Pr(&gt;Chi)</th></tr>\n",
       "\t<tr><th></th><th scope=col>&lt;int&gt;</th><th scope=col>&lt;dbl&gt;</th><th scope=col>&lt;int&gt;</th><th scope=col>&lt;dbl&gt;</th><th scope=col>&lt;dbl&gt;</th></tr>\n",
       "</thead>\n",
       "<tbody>\n",
       "\t<tr><th scope=row>NULL</th><td>NA</td><td>        NA</td><td>4</td><td>64.7632662</td><td>          NA</td></tr>\n",
       "\t<tr><th scope=row>conc</th><td> 1</td><td>64.3845179</td><td>3</td><td> 0.3787483</td><td>1.023593e-15</td></tr>\n",
       "\t<tr><th scope=row>I(conc^2)</th><td> 1</td><td> 0.1832542</td><td>2</td><td> 0.1954940</td><td>6.685914e-01</td></tr>\n",
       "</tbody>\n",
       "</table>\n"
      ],
      "text/latex": [
       "A anova: 3 × 5\n",
       "\\begin{tabular}{r|lllll}\n",
       "  & Df & Deviance & Resid. Df & Resid. Dev & Pr(>Chi)\\\\\n",
       "  & <int> & <dbl> & <int> & <dbl> & <dbl>\\\\\n",
       "\\hline\n",
       "\tNULL & NA &         NA & 4 & 64.7632662 &           NA\\\\\n",
       "\tconc &  1 & 64.3845179 & 3 &  0.3787483 & 1.023593e-15\\\\\n",
       "\tI(conc\\textasciicircum{}2) &  1 &  0.1832542 & 2 &  0.1954940 & 6.685914e-01\\\\\n",
       "\\end{tabular}\n"
      ],
      "text/markdown": [
       "\n",
       "A anova: 3 × 5\n",
       "\n",
       "| <!--/--> | Df &lt;int&gt; | Deviance &lt;dbl&gt; | Resid. Df &lt;int&gt; | Resid. Dev &lt;dbl&gt; | Pr(&gt;Chi) &lt;dbl&gt; |\n",
       "|---|---|---|---|---|---|\n",
       "| NULL | NA |         NA | 4 | 64.7632662 |           NA |\n",
       "| conc |  1 | 64.3845179 | 3 |  0.3787483 | 1.023593e-15 |\n",
       "| I(conc^2) |  1 |  0.1832542 | 2 |  0.1954940 | 6.685914e-01 |\n",
       "\n"
      ],
      "text/plain": [
       "          Df Deviance   Resid. Df Resid. Dev Pr(>Chi)    \n",
       "NULL      NA         NA 4         64.7632662           NA\n",
       "conc       1 64.3845179 3          0.3787483 1.023593e-15\n",
       "I(conc^2)  1  0.1832542 2          0.1954940 6.685914e-01"
      ]
     },
     "metadata": {},
     "output_type": "display_data"
    }
   ],
   "source": [
    "anova(modl2,test=\"Chi\")        # test for additional parameter"
   ]
  },
  {
   "cell_type": "markdown",
   "id": "76e9418a-79aa-4e4c-94c3-a51756a408b9",
   "metadata": {},
   "source": [
    "- 0.6685914로 유의하지 않음.\n",
    "- 유의미하게 적합도를 높이지 않는다.\n",
    "- 굳이 모델 2로 확장하지 않아도 된다.\n",
    "- 모델 2가 안 좋은 모델은 아님"
   ]
  },
  {
   "cell_type": "markdown",
   "id": "fbbcc027-7784-4833-b587-58fe0145d601",
   "metadata": {},
   "source": [
    "### 4. GLM Diagnostics"
   ]
  },
  {
   "cell_type": "markdown",
   "id": "d210b085-2153-4997-9973-0130c9a8d81b",
   "metadata": {},
   "source": [
    "선형모형에서 잔차를 중심으로 모형진단을 했듯이 GLM에서도 비슷한 절차가 필요할 수 있다.\n",
    "- 이 모형 진단은 중요도가 떨어지긴 한다."
   ]
  },
  {
   "cell_type": "markdown",
   "id": "f35e6ac0-c01b-45ce-b248-017836d88aca",
   "metadata": {},
   "source": [
    "#### 4.1. Residuals"
   ]
  },
  {
   "cell_type": "markdown",
   "id": "d021ad06-b762-4348-88df-504eea5911bf",
   "metadata": {},
   "source": [
    "잔차는 response 상에서 관측치와 모형에 의한 적합치 사이의 차이를 의미한다. 선형모형에서 정의했던 것을 확장하여 잔차를 GLM에서 정의하기도 한다.\n",
    "- 사실 로지스틱하고 진단을 잘 안 하긴 하다."
   ]
  },
  {
   "cell_type": "markdown",
   "id": "eba3ddc4-5ea7-452e-8c09-38093433ae14",
   "metadata": {},
   "source": [
    "##### 4.1.1. Pearson residual"
   ]
  },
  {
   "cell_type": "markdown",
   "id": "c92fb7c0-0e37-4659-b6cd-8b1e473fc822",
   "metadata": {},
   "source": [
    "선형모형에서의 표준화잔차와 유사한 개념으로 이해할 수 있다.\n",
    "\n",
    "$$r_P = \\frac{y-\\hat{\\mu}}{\\sqrt{V(\\mu})}$$\n",
    "- 피어슨 타입 잔차\n",
    "\n",
    "여기서 $V(\\mu)=b''(\\theta)$이다. 또한 $\\sum r^{2}_{P}=X^2$가 된다.\n",
    "- $y = X\\beta' + \\epsilon$에서 $\\epsilon \\sim N(,)$임을 확닉하나? $|to$ $y$랑 분포 맞추자.\n",
    "- 연속 $y \\to \\sqrt{y}. log y$\n",
    "- 이진 $y \\to $ ? $\\epsilon$(Bernoulli) or $\\epsilon$(Binary)\n",
    "- count $y \\to $ ? $\\epsilon$(poisson)"
   ]
  },
  {
   "cell_type": "markdown",
   "id": "835c5d10-9a59-4558-83a6-478379fd32a0",
   "metadata": {},
   "source": [
    "##### 4.1.2. Deviance residual"
   ]
  },
  {
   "cell_type": "markdown",
   "id": "ca705db5-e9f1-4a50-b3ee-4beb4e4a82c4",
   "metadata": {},
   "source": [
    "Deviance로부터 정의되는 타입의 잔차이다.\n",
    "- Deviance는 SSE의 일반화 버전\n",
    "- $\\sum^{n}_{i=1} e^{2}_{i}$ 잔차제곱합 일반화 = 총합의 개념 $y-\\hat{\\mu}>0$\n",
    "\n",
    "$$sum r^{2}_{D} = Deviance = \\sum d_i$$\n",
    "- $d_i$를 Deviance의 제곱이라 보자\n",
    "\n",
    "따라서\n",
    "\n",
    "$$r_D = sign(y - \\hat{\\mu})\\sqrt{d_i}$$\n",
    "- $y>\\hat{\\mu} \\to$ residual >0\n",
    "- $y<\\hat{\\mu} \\to$ residual <0"
   ]
  },
  {
   "cell_type": "code",
   "execution_count": 7,
   "id": "d34b2413-5afb-4272-a9c2-947ebe6ec30b",
   "metadata": {},
   "outputs": [
    {
     "data": {
      "text/html": [
       "<style>\n",
       ".dl-inline {width: auto; margin:0; padding: 0}\n",
       ".dl-inline>dt, .dl-inline>dd {float: none; width: auto; display: inline-block}\n",
       ".dl-inline>dt::after {content: \":\\0020\"; padding-right: .5ex}\n",
       ".dl-inline>dt:not(:first-of-type) {padding-left: .5ex}\n",
       "</style><dl class=dl-inline><dt>1</dt><dd>-0.451015104787619</dd><dt>2</dt><dd>0.359696068619502</dd><dt>3</dt><dd>0</dd><dt>4</dt><dd>0.0643023497984944</dd><dt>5</dt><dd>-0.204493466553935</dd></dl>\n"
      ],
      "text/latex": [
       "\\begin{description*}\n",
       "\\item[1] -0.451015104787619\n",
       "\\item[2] 0.359696068619502\n",
       "\\item[3] 0\n",
       "\\item[4] 0.0643023497984944\n",
       "\\item[5] -0.204493466553935\n",
       "\\end{description*}\n"
      ],
      "text/markdown": [
       "1\n",
       ":   -0.4510151047876192\n",
       ":   0.3596960686195023\n",
       ":   04\n",
       ":   0.06430234979849445\n",
       ":   -0.204493466553935\n",
       "\n"
      ],
      "text/plain": [
       "          1           2           3           4           5 \n",
       "-0.45101510  0.35969607  0.00000000  0.06430235 -0.20449347 "
      ]
     },
     "metadata": {},
     "output_type": "display_data"
    }
   ],
   "source": [
    "residuals(modl)     # deviance residual"
   ]
  },
  {
   "cell_type": "code",
   "execution_count": 8,
   "id": "90eb9223-502d-4a09-b22c-e642b428d4fe",
   "metadata": {},
   "outputs": [
    {
     "data": {
      "text/html": [
       "<style>\n",
       ".dl-inline {width: auto; margin:0; padding: 0}\n",
       ".dl-inline>dt, .dl-inline>dd {float: none; width: auto; display: inline-block}\n",
       ".dl-inline>dt::after {content: \":\\0020\"; padding-right: .5ex}\n",
       ".dl-inline>dt:not(:first-of-type) {padding-left: .5ex}\n",
       "</style><dl class=dl-inline><dt>1</dt><dd>-0.432523418155746</dd><dt>2</dt><dd>0.364372922057795</dd><dt>3</dt><dd>-3.64856516669287e-15</dd><dt>4</dt><dd>0.0641468727776392</dd><dt>5</dt><dd>-0.208106840520636</dd></dl>\n"
      ],
      "text/latex": [
       "\\begin{description*}\n",
       "\\item[1] -0.432523418155746\n",
       "\\item[2] 0.364372922057795\n",
       "\\item[3] -3.64856516669287e-15\n",
       "\\item[4] 0.0641468727776392\n",
       "\\item[5] -0.208106840520636\n",
       "\\end{description*}\n"
      ],
      "text/markdown": [
       "1\n",
       ":   -0.4325234181557462\n",
       ":   0.3643729220577953\n",
       ":   -3.64856516669287e-154\n",
       ":   0.06414687277763925\n",
       ":   -0.208106840520636\n",
       "\n"
      ],
      "text/plain": [
       "            1             2             3             4             5 \n",
       "-4.325234e-01  3.643729e-01 -3.648565e-15  6.414687e-02 -2.081068e-01 "
      ]
     },
     "metadata": {},
     "output_type": "display_data"
    }
   ],
   "source": [
    "residuals(modl,\"pearson\") # Pearson residual"
   ]
  },
  {
   "cell_type": "code",
   "execution_count": 9,
   "id": "271f64ee-e015-4635-8016-592b304ceaa9",
   "metadata": {},
   "outputs": [
    {
     "data": {
      "text/html": [
       "<style>\n",
       ".dl-inline {width: auto; margin:0; padding: 0}\n",
       ".dl-inline>dt, .dl-inline>dd {float: none; width: auto; display: inline-block}\n",
       ".dl-inline>dt::after {content: \":\\0020\"; padding-right: .5ex}\n",
       ".dl-inline>dt:not(:first-of-type) {padding-left: .5ex}\n",
       "</style><dl class=dl-inline><dt>1</dt><dd>-0.0225050988094856</dd><dt>2</dt><dd>0.0283435309523039</dd><dt>3</dt><dd>-3.33066907387547e-16</dd><dt>4</dt><dd>0.00498980238102908</dd><dt>5</dt><dd>-0.010828234523848</dd></dl>\n"
      ],
      "text/latex": [
       "\\begin{description*}\n",
       "\\item[1] -0.0225050988094856\n",
       "\\item[2] 0.0283435309523039\n",
       "\\item[3] -3.33066907387547e-16\n",
       "\\item[4] 0.00498980238102908\n",
       "\\item[5] -0.010828234523848\n",
       "\\end{description*}\n"
      ],
      "text/markdown": [
       "1\n",
       ":   -0.02250509880948562\n",
       ":   0.02834353095230393\n",
       ":   -3.33066907387547e-164\n",
       ":   0.004989802381029085\n",
       ":   -0.010828234523848\n",
       "\n"
      ],
      "text/plain": [
       "            1             2             3             4             5 \n",
       "-2.250510e-02  2.834353e-02 -3.330669e-16  4.989802e-03 -1.082823e-02 "
      ]
     },
     "metadata": {},
     "output_type": "display_data"
    }
   ],
   "source": [
    "residuals(modl,\"response\") # response residual"
   ]
  },
  {
   "cell_type": "code",
   "execution_count": 10,
   "id": "71bb6815-8d48-40ae-b02d-c332c871f40a",
   "metadata": {},
   "outputs": [
    {
     "data": {
      "text/html": [
       "<style>\n",
       ".dl-inline {width: auto; margin:0; padding: 0}\n",
       ".dl-inline>dt, .dl-inline>dd {float: none; width: auto; display: inline-block}\n",
       ".dl-inline>dt::after {content: \":\\0020\"; padding-right: .5ex}\n",
       ".dl-inline>dt:not(:first-of-type) {padding-left: .5ex}\n",
       "</style><dl class=dl-inline><dt>1</dt><dd>-0.0225050988094856</dd><dt>2</dt><dd>0.0283435309523039</dd><dt>3</dt><dd>-3.33066907387547e-16</dd><dt>4</dt><dd>0.00498980238102908</dd><dt>5</dt><dd>-0.010828234523848</dd></dl>\n"
      ],
      "text/latex": [
       "\\begin{description*}\n",
       "\\item[1] -0.0225050988094856\n",
       "\\item[2] 0.0283435309523039\n",
       "\\item[3] -3.33066907387547e-16\n",
       "\\item[4] 0.00498980238102908\n",
       "\\item[5] -0.010828234523848\n",
       "\\end{description*}\n"
      ],
      "text/markdown": [
       "1\n",
       ":   -0.02250509880948562\n",
       ":   0.02834353095230393\n",
       ":   -3.33066907387547e-164\n",
       ":   0.004989802381029085\n",
       ":   -0.010828234523848\n",
       "\n"
      ],
      "text/plain": [
       "            1             2             3             4             5 \n",
       "-2.250510e-02  2.834353e-02 -3.330669e-16  4.989802e-03 -1.082823e-02 "
      ]
     },
     "metadata": {},
     "output_type": "display_data"
    }
   ],
   "source": [
    "bliss$dead/30 - fitted(modl)"
   ]
  },
  {
   "cell_type": "markdown",
   "id": "e010956a-4961-4eba-811f-168d8807cfea",
   "metadata": {},
   "source": [
    "QQ plot은 선형모형에서 정규성을 확인하기 위해 사용하는 시각화 방법 중 하나였다. GLM에서는 분포 자체를 확인하기 위한 목적보다는 **이상점의 존재를 확인하기 위한 목적으로 보통 활용**된다."
   ]
  }
 ],
 "metadata": {
  "kernelspec": {
   "display_name": "R",
   "language": "R",
   "name": "ir"
  },
  "language_info": {
   "codemirror_mode": "r",
   "file_extension": ".r",
   "mimetype": "text/x-r-source",
   "name": "R",
   "pygments_lexer": "r",
   "version": "4.1.2"
  }
 },
 "nbformat": 4,
 "nbformat_minor": 5
}
