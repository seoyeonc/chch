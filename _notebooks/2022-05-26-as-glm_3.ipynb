{
 "cells": [
  {
   "cell_type": "markdown",
   "id": "8698f36d-afa5-4a67-889e-1e076331de28",
   "metadata": {
    "id": "cac470df-29e7-4148-9bbd-d8b9a32fa570",
    "tags": []
   },
   "source": [
    "# 응용통계학 (13주차) 5월 26일\n",
    "> GLM, 일반화선형모형 3번째\n",
    "\n",
    "- toc:true\n",
    "- branch: master\n",
    "- badges: true\n",
    "- comments: false\n",
    "- author: 최서연\n",
    "- categories: [Applied Statistics, GLM, 일반화 선형 모형]"
   ]
  },
  {
   "cell_type": "markdown",
   "id": "fd8365fa-0cad-491a-8032-d3b743595244",
   "metadata": {},
   "source": [
    "## 일반화선형모형 : Generalized linear model III"
   ]
  },
  {
   "cell_type": "markdown",
   "id": "a370160a-5ca6-4025-aa21-5bd2f27f7940",
   "metadata": {},
   "source": [
    "선형모형, 로지스틱모형, count regression 등에 이르기까지 다양한 종류의 response를 (1) response 자체의 분포의 특성을 고려하여 (2) conditional mean function을 추정하기 위한 적절한 연결함수를 고려하여 모형화 및 추정을 시도하였다.\n",
    "\n",
    "이러한 것들을 보다 일반화하여 앞서 다루었던 모형 및 추정법등을 포함하는 하나의 모형을 생각할 수 있는데 이를 일반화선형모형 (Generalized linear model : GLM)이라 한다."
   ]
  },
  {
   "cell_type": "markdown",
   "id": "de813317-5e96-4b08-a2d9-e9f599b904a3",
   "metadata": {},
   "source": [
    "### 1. GLM definition"
   ]
  },
  {
   "cell_type": "markdown",
   "id": "6cccda60-48e1-483f-bc2c-dfa77d1fff8b",
   "metadata": {},
   "source": [
    "GLM은 크게 두 가지 요소를 특정하는 것으로 정의된. 첫째 response의 분포로, 기본적으로 지수족 (exponential family)을 따르는 것으로 가정한다. 둘째는 link 함수로, response의 conditional mean function을 linear predictor와 어떻게 연결할 것인지이다.\n",
    "- binary - logistic link function\n",
    "- poisson - log link function"
   ]
  },
  {
   "cell_type": "code",
   "execution_count": null,
   "id": "0e9b9ae9-a9b0-4e31-b40e-1d92379b7508",
   "metadata": {},
   "outputs": [],
   "source": []
  }
 ],
 "metadata": {
  "kernelspec": {
   "display_name": "R",
   "language": "R",
   "name": "ir"
  },
  "language_info": {
   "codemirror_mode": "r",
   "file_extension": ".r",
   "mimetype": "text/x-r-source",
   "name": "R",
   "pygments_lexer": "r",
   "version": "4.1.2"
  }
 },
 "nbformat": 4,
 "nbformat_minor": 5
}
