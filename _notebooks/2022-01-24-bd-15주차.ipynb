{
 "cells": [
  {
   "cell_type": "markdown",
   "id": "f7725c58-99e3-4284-bc8f-de70743fa9f5",
   "metadata": {
    "id": "f7725c58-99e3-4284-bc8f-de70743fa9f5",
    "tags": []
   },
   "source": [
    "# 빅데이터 분석 (15주차) 12월24일\n",
    "> GAN\n",
    "\n",
    "- toc:true\n",
    "- branch: master\n",
    "- badges: false\n",
    "- comments: false \n",
    "- author: 최서연\n",
    "- categories: [Big Data Analysis, GAN]"
   ]
  },
  {
   "cell_type": "markdown",
   "id": "a8664526-018f-4ab9-acb1-41ef6314fa08",
   "metadata": {
    "id": "a8664526-018f-4ab9-acb1-41ef6314fa08"
   },
   "source": [
    "### GAN (Generative Adversarial Networks) "
   ]
  },
  {
   "cell_type": "markdown",
   "id": "501d3ccd-f167-47fe-96d1-0e4059cc272f",
   "metadata": {
    "id": "501d3ccd-f167-47fe-96d1-0e4059cc272f"
   },
   "source": [
    "`-` 저자: 이안 굿펠로우 (이름이 특이.. 좋은친구) \n",
    "- 천재임. \n",
    "- 지도교수가 요수아 벤지오. "
   ]
  },
  {
   "cell_type": "markdown",
   "id": "649edb5b-b9b3-4e7a-876d-b1b520dc8d3f",
   "metadata": {
    "id": "649edb5b-b9b3-4e7a-876d-b1b520dc8d3f"
   },
   "source": [
    "`-` ref\n",
    "- https://arxiv.org/abs/1406.2661 (현시점 38751회 인용) "
   ]
  },
  {
   "cell_type": "markdown",
   "id": "26fa1182-8255-461b-945a-0dabf78a11ec",
   "metadata": {
    "id": "26fa1182-8255-461b-945a-0dabf78a11ec"
   },
   "source": [
    "`-` 최근 10년간 머신러닝 분야에서 가장 혁신적인 아이디어이다. (얀 르쿤) "
   ]
  },
  {
   "cell_type": "markdown",
   "id": "32cd3d71-4310-45a0-b967-a95664dfe403",
   "metadata": {
    "id": "32cd3d71-4310-45a0-b967-a95664dfe403"
   },
   "source": [
    "`-` 무슨내용? 생성모형 "
   ]
  },
  {
   "cell_type": "markdown",
   "id": "a357a9ca-54b1-405f-a1b0-0af2778812b3",
   "metadata": {
    "id": "a357a9ca-54b1-405f-a1b0-0af2778812b3"
   },
   "source": [
    "#### 생성모형이란? (쉬운설명) "
   ]
  },
  {
   "cell_type": "markdown",
   "id": "6e68f275-9d09-4c43-bb07-f3ee3cfe26f6",
   "metadata": {
    "id": "6e68f275-9d09-4c43-bb07-f3ee3cfe26f6"
   },
   "source": [
    "> 만들 수 없다면 이해하지 못한 것이다, 리처드 파인만 (천재물리학자) "
   ]
  },
  {
   "cell_type": "markdown",
   "id": "bf8ee23e-90a0-4048-bcde-e3066bd7cfa0",
   "metadata": {
    "id": "bf8ee23e-90a0-4048-bcde-e3066bd7cfa0"
   },
   "source": [
    "`-` 사진속에 들어 있는 동물이 개인지 고양이 인지 맞추는 기계와, 개와 고양이 그림을 그려주는 기계중 어떤것이 더 시각정보에 대한 이해가 높다고 볼 수 있을까? "
   ]
  },
  {
   "cell_type": "markdown",
   "id": "ae6e4f38-43db-42cc-a9cc-e7666ccd55a2",
   "metadata": {
    "id": "ae6e4f38-43db-42cc-a9cc-e7666ccd55a2"
   },
   "source": [
    "`-` 진정으로 인공지능이 이미지에 대한 이해를 했다면 이미지를 만들수도 있어야 한다 $\\to$ 이미지를 생성하는 모형을 고려하자 $\\to$ 성공"
   ]
  },
  {
   "cell_type": "markdown",
   "id": "d6ca4310-f1b9-4960-99f8-fac769fdc3e0",
   "metadata": {
    "id": "d6ca4310-f1b9-4960-99f8-fac769fdc3e0"
   },
   "source": [
    "![](https://upload.wikimedia.org/wikipedia/commons/1/1f/Woman_1.jpg)"
   ]
  },
  {
   "cell_type": "markdown",
   "id": "251b34f7-2a49-4aaa-b0b3-7a00675cb47a",
   "metadata": {
    "id": "251b34f7-2a49-4aaa-b0b3-7a00675cb47a"
   },
   "source": [
    "### GAN의 응용분야 "
   ]
  },
  {
   "cell_type": "markdown",
   "id": "5b067e46-9321-4a59-9fe5-8c319633176b",
   "metadata": {
    "id": "5b067e46-9321-4a59-9fe5-8c319633176b"
   },
   "source": [
    "`-` 실제사진 + 반고흐의 화풍 \n",
    "- https://www.lgsl.kr/sto/stories/60/ALMA2020070001"
   ]
  },
  {
   "cell_type": "markdown",
   "id": "3702a810-9b24-44f5-ac11-3fd0a357dd23",
   "metadata": {
    "id": "3702a810-9b24-44f5-ac11-3fd0a357dd23"
   },
   "source": [
    "`-` 1920년대 서울의 모습이 칼라로 복원된다면? 퀸의 라이브에이드가 4k로 복원된다면? "
   ]
  },
  {
   "cell_type": "markdown",
   "id": "49a04390-69b4-4a09-9cdf-f706478f6087",
   "metadata": {
    "id": "49a04390-69b4-4a09-9cdf-f706478f6087"
   },
   "source": [
    "`-` 딥페이크: 유명배우들의 가짜 포르노, 가짜뉴스, 협박(거짓기소) "
   ]
  },
  {
   "cell_type": "markdown",
   "id": "0cd3effd-8eae-4b28-b5de-748e46f5dd7a",
   "metadata": {
    "id": "0cd3effd-8eae-4b28-b5de-748e46f5dd7a"
   },
   "source": [
    "`-` 게임영상 (파이널판타지) "
   ]
  },
  {
   "cell_type": "markdown",
   "id": "ce30d198-e300-474e-8814-cb2effefdcf2",
   "metadata": {
    "id": "ce30d198-e300-474e-8814-cb2effefdcf2"
   },
   "source": [
    "`-` 추억의 거북이(가수) 소환 "
   ]
  },
  {
   "cell_type": "markdown",
   "id": "e8ad9d94-edad-43ab-8905-14ef2b457aa0",
   "metadata": {
    "id": "e8ad9d94-edad-43ab-8905-14ef2b457aa0"
   },
   "source": [
    "`-` 너무 많아요.. "
   ]
  },
  {
   "cell_type": "markdown",
   "id": "82e3f9cc-235d-44d5-942f-a4558f8e0900",
   "metadata": {
    "id": "82e3f9cc-235d-44d5-942f-a4558f8e0900"
   },
   "source": [
    "#### 생성모형? "
   ]
  },
  {
   "cell_type": "markdown",
   "id": "19540fc2-dff8-47a1-94ee-005def5ab7d8",
   "metadata": {
    "id": "19540fc2-dff8-47a1-94ee-005def5ab7d8"
   },
   "source": [
    "> 제한된 정보만으로 어떤 문제를 풀 때, 그 과정에서 원래의 문제보다 일반적인 문제를 풀지말고, 가능한 원래의 문제를 직접 풀어야 한다. 배프닉 (SVM 창시자) "
   ]
  },
  {
   "cell_type": "markdown",
   "id": "241872c7-250f-4e27-94bc-91da72653fc7",
   "metadata": {
    "id": "241872c7-250f-4e27-94bc-91da72653fc7"
   },
   "source": [
    "`-` 이미지를 ${\\boldsymbol x}$라고 하고 라벨을 $y$라고 하자. "
   ]
  },
  {
   "cell_type": "markdown",
   "id": "c0a6857b-e963-47df-81dd-7d773db542a8",
   "metadata": {
    "id": "c0a6857b-e963-47df-81dd-7d773db542a8"
   },
   "source": [
    "`-` 이미지를 보고 라벨을 맞추는 일은 $p(y|\\boldsymbol{x})$에 관심이 있다. "
   ]
  },
  {
   "cell_type": "markdown",
   "id": "378d3ff2-9ee9-440a-8ad1-fdc81553e01d",
   "metadata": {
    "id": "378d3ff2-9ee9-440a-8ad1-fdc81553e01d"
   },
   "source": [
    "`-` 이미지를 생성하는 일은 $p(\\boldsymbol{x}, y)$에 관심이 있다. "
   ]
  },
  {
   "cell_type": "markdown",
   "id": "603b02b5-498e-4b9b-bef8-5ff5d0345577",
   "metadata": {
    "id": "603b02b5-498e-4b9b-bef8-5ff5d0345577"
   },
   "source": [
    "`-` 데이터의 생성확률은 $p(\\boldsymbol{x}, y)$을 알면 클래스의 사후확률 $p(y|\\boldsymbol{x})$를 알 수 있음. 하지만 역은 불가능. \n",
    "\n",
    "$$p(y|\\boldsymbol{x}) = \\frac{p(\\boldsymbol{x},y)}{p(\\boldsymbol{x})} = \\frac{p(\\boldsymbol{x},y)}{\\sum_y p(\\boldsymbol{x},y)}$$"
   ]
  },
  {
   "cell_type": "markdown",
   "id": "259f8cd0-260b-4694-89f9-daf3b95720a2",
   "metadata": {
    "id": "259f8cd0-260b-4694-89f9-daf3b95720a2"
   },
   "source": [
    "- 즉 이미지를 생성하는 일은 이미지를 분류하는 문제보다 더 어려운 일이라 해석가능 "
   ]
  },
  {
   "cell_type": "markdown",
   "id": "527ec9af-4def-4024-b16a-41fd28a9810a",
   "metadata": {
    "id": "527ec9af-4def-4024-b16a-41fd28a9810a"
   },
   "source": [
    "`-` 따라서 배프닉의 원리에 따르면 식별을 하고 싶다면 생성모형이 그렇게 매력적이지 않음. "
   ]
  },
  {
   "cell_type": "markdown",
   "id": "8b2943b0-4a53-4ad0-a8f9-41279859f273",
   "metadata": {
    "id": "8b2943b0-4a53-4ad0-a8f9-41279859f273"
   },
   "source": [
    "`-` 하지만 다양한 현실문제에서 생성모형이 유용할 때가 많이 있음. "
   ]
  },
  {
   "cell_type": "markdown",
   "id": "bafd2d7b-1745-4c8e-b052-fe1668b2da63",
   "metadata": {
    "id": "bafd2d7b-1745-4c8e-b052-fe1668b2da63"
   },
   "source": [
    "### GAN의 원리 "
   ]
  },
  {
   "cell_type": "markdown",
   "id": "bb55d6c3-95fd-400a-955f-01e022f6a7ea",
   "metadata": {
    "id": "bb55d6c3-95fd-400a-955f-01e022f6a7ea"
   },
   "source": [
    "`-` GAN은 생성모형중 하나임 "
   ]
  },
  {
   "cell_type": "markdown",
   "id": "c41021ed-7d0a-4de8-b022-92099d094285",
   "metadata": {
    "id": "c41021ed-7d0a-4de8-b022-92099d094285"
   },
   "source": [
    "`-` GAN의 원리: 경찰과 위조지폐범이 서로 선의의(?) 경쟁을 통하여 서로 발전\n",
    "- 아래는 위에서 언급한 이안굿펠로우의 GAN 논문의 일부"
   ]
  },
  {
   "cell_type": "markdown",
   "id": "3a3a1397-e0a6-4bf8-97b4-d8bf0d0a777f",
   "metadata": {
    "id": "3a3a1397-e0a6-4bf8-97b4-d8bf0d0a777f"
   },
   "source": [
    "> The generative model can be thought of as analogous to a team of counterfeiters,\n",
    "trying to produce fake currency and use it without detection, while the discriminative model is\n",
    "analogous to the police, trying to detect the counterfeit currency. Competition in this game drives\n",
    "both teams to improve their methods until the counterfeits are indistiguishable from the genuine\n",
    "articles"
   ]
  },
  {
   "cell_type": "markdown",
   "id": "9ed3493a-ab25-4ab2-8857-f1ebee3e925c",
   "metadata": {
    "id": "9ed3493a-ab25-4ab2-8857-f1ebee3e925c"
   },
   "source": [
    "`-` 서로 적대적인(adversarial) 네트워크들(networks)를 동시에 학습시켜 가짜이미지를 만든다(generate) "
   ]
  },
  {
   "cell_type": "markdown",
   "id": "03ec963e-1816-4371-b292-706dc083d499",
   "metadata": {
    "id": "03ec963e-1816-4371-b292-706dc083d499"
   },
   "source": [
    "`-` 무식한 상황극.. "
   ]
  },
  {
   "cell_type": "markdown",
   "id": "ce71b1a9-d0ef-40d4-96bc-c1782b0e146e",
   "metadata": {
    "id": "ce71b1a9-d0ef-40d4-96bc-c1782b0e146e"
   },
   "source": [
    "> 위조범: 가짜돈을 만들어서 부자가 되어야지!! (가짜돈을 그림) <br/>\n",
    "경찰: (위조범이 만든 돈을 보고) 이건 가짜다!! <br/>\n",
    "위조범: 걸렸군.. 더 정교하게 만들어서 속여야겠다. <br/>\n",
    "경찰: 이게 진짜가?... --> 상사한테 혼남 (그것도 구분못하나?!) --> (실력이 업그레이드되어서) 이건 가짜다!! <br/>\n",
    "위조범: 더 더.. 정교하게 만들자. <br/>\n",
    "경찰: 판별능력 더 업그레이드.. <br/> \n",
    "반복.. "
   ]
  },
  {
   "cell_type": "markdown",
   "id": "078595b8-1d90-4187-b266-d81955a585a8",
   "metadata": {
    "id": "078595b8-1d90-4187-b266-d81955a585a8"
   },
   "source": [
    "`-` 굉장히 우수한 경찰조차도 진짜와 가짜를 구분하지 못할때 (= 진짜 이미지를 0.5의 확률로만 진짜라고 말할때 = 가짜이미지를 0.5의 확률로만 가짜라고 말할때) 학습을 멈춘다. "
   ]
  },
  {
   "cell_type": "markdown",
   "id": "aca8bf93-ccc0-48ba-9aa9-c3c2e44754a3",
   "metadata": {
    "id": "aca8bf93-ccc0-48ba-9aa9-c3c2e44754a3",
    "tags": []
   },
   "source": [
    "### GAN의 구현"
   ]
  },
  {
   "cell_type": "markdown",
   "id": "aa43ac72-9c37-4d3a-9944-25c1e57ffce4",
   "metadata": {
    "id": "aa43ac72-9c37-4d3a-9944-25c1e57ffce4"
   },
   "source": [
    "#### import "
   ]
  },
  {
   "cell_type": "code",
   "execution_count": 1,
   "id": "5fed034a-f737-44e2-95a8-861958284340",
   "metadata": {
    "id": "5fed034a-f737-44e2-95a8-861958284340"
   },
   "outputs": [],
   "source": [
    "import torch \n",
    "from fastai.vision.all import *"
   ]
  },
  {
   "cell_type": "markdown",
   "id": "fb41e051-4c0a-4a7a-947d-d892bdfe44dc",
   "metadata": {
    "id": "fb41e051-4c0a-4a7a-947d-d892bdfe44dc"
   },
   "source": [
    "#### data "
   ]
  },
  {
   "cell_type": "code",
   "execution_count": 2,
   "id": "dc5ba0b0-8d91-4d3a-a1b2-7549d0f9f49c",
   "metadata": {
    "id": "dc5ba0b0-8d91-4d3a-a1b2-7549d0f9f49c"
   },
   "outputs": [],
   "source": [
    "path = untar_data(URLs.MNIST_SAMPLE)"
   ]
  },
  {
   "cell_type": "code",
   "execution_count": 7,
   "id": "47767521-7d38-49e8-8052-905815b0fd48",
   "metadata": {},
   "outputs": [
    {
     "data": {
      "text/plain": [
       "(#2) [Path('/home/csy/.fastai/data/mnist_sample/train/7'),Path('/home/csy/.fastai/data/mnist_sample/train/3')]"
      ]
     },
     "execution_count": 7,
     "metadata": {},
     "output_type": "execute_result"
    }
   ],
   "source": [
    "(path/'train').ls()"
   ]
  },
  {
   "cell_type": "code",
   "execution_count": 3,
   "id": "ee77c2c2-065b-4048-bbe1-629e22e3882c",
   "metadata": {
    "id": "ee77c2c2-065b-4048-bbe1-629e22e3882c"
   },
   "outputs": [],
   "source": [
    "threes = (path/'train'/'3').ls()"
   ]
  },
  {
   "cell_type": "code",
   "execution_count": 4,
   "id": "86d47c14-d1d8-495f-b543-47e930e2fde5",
   "metadata": {
    "id": "86d47c14-d1d8-495f-b543-47e930e2fde5"
   },
   "outputs": [],
   "source": [
    "X = torch.stack([tensor(Image.open(i)) for i in threes]).float()/255"
   ]
  },
  {
   "cell_type": "code",
   "execution_count": 5,
   "id": "291762c7-fe08-48f7-89af-3d8c1d2e4ab9",
   "metadata": {
    "id": "291762c7-fe08-48f7-89af-3d8c1d2e4ab9",
    "outputId": "fd8b146e-2958-4840-ab32-56c0150934f4"
   },
   "outputs": [
    {
     "data": {
      "text/plain": [
       "torch.Size([6131, 28, 28])"
      ]
     },
     "execution_count": 5,
     "metadata": {},
     "output_type": "execute_result"
    }
   ],
   "source": [
    "X.shape"
   ]
  },
  {
   "cell_type": "code",
   "execution_count": 6,
   "id": "b47835cf-695a-4915-8dab-baf08db7ca18",
   "metadata": {
    "id": "b47835cf-695a-4915-8dab-baf08db7ca18",
    "outputId": "c774da2a-4bc6-4095-d2ba-716a485b8fef"
   },
   "outputs": [
    {
     "data": {
      "text/plain": [
       "<matplotlib.image.AxesImage at 0x7fd53199b790>"
      ]
     },
     "execution_count": 6,
     "metadata": {},
     "output_type": "execute_result"
    },
    {
     "data": {
      "image/png": "[encoded data removed]",
      "text/plain": [
       "<Figure size 432x288 with 1 Axes>"
      ]
     },
     "metadata": {
      "needs_background": "light"
     },
     "output_type": "display_data"
    }
   ],
   "source": [
    "plt.imshow(X[0])"
   ]
  },
  {
   "cell_type": "markdown",
   "id": "78c7a0d7-dfa8-4ec0-8a2b-7cc495cb181d",
   "metadata": {
    "id": "78c7a0d7-dfa8-4ec0-8a2b-7cc495cb181d"
   },
   "source": [
    "`-` MLP를 이용해 학습하기 위해 X의 차원을 변경"
   ]
  },
  {
   "cell_type": "code",
   "execution_count": 8,
   "id": "ff2e65f5-ceb8-48db-bae8-59b05f3e6246",
   "metadata": {
    "id": "ff2e65f5-ceb8-48db-bae8-59b05f3e6246",
    "outputId": "7fc031bc-790d-4ba1-9a9e-7b1a4330db70"
   },
   "outputs": [
    {
     "data": {
      "text/plain": [
       "torch.Size([6131, 784])"
      ]
     },
     "execution_count": 8,
     "metadata": {},
     "output_type": "execute_result"
    }
   ],
   "source": [
    "X=X.reshape(6131,28*28)\n",
    "X.shape"
   ]
  },
  {
   "cell_type": "markdown",
   "id": "7b5f068e-97a5-44e0-83d6-e732a71ea215",
   "metadata": {
    "id": "7b5f068e-97a5-44e0-83d6-e732a71ea215"
   },
   "source": [
    "#### 위조지폐범의 설계: noise $\\to$ 가짜이미지를 만들어 내는 네트워크를 만들자. "
   ]
  },
  {
   "cell_type": "markdown",
   "id": "201640cb-b38d-4691-b647-975707fe9e65",
   "metadata": {
    "id": "201640cb-b38d-4691-b647-975707fe9e65"
   },
   "source": [
    "`-` 네트워크의 입력? 적당한 벡터, 혹은 매트릭스에 노이즈(랜덤으로 채운 어떠한 숫자들)를 채운것 "
   ]
  },
  {
   "cell_type": "markdown",
   "id": "3fd20684-8507-4f51-899d-d7b633254a5e",
   "metadata": {
    "id": "3fd20684-8507-4f51-899d-d7b633254a5e"
   },
   "source": [
    "`-` 네트워크의 출력? (28,28)의 텐서 혹은 784의 벡터 "
   ]
  },
  {
   "cell_type": "code",
   "execution_count": 9,
   "id": "a688a80c-8ba1-47a9-acb9-c0059120c699",
   "metadata": {
    "id": "a688a80c-8ba1-47a9-acb9-c0059120c699"
   },
   "outputs": [],
   "source": [
    "net1 = torch.nn.Sequential(torch.nn.Linear(in_features=28, out_features=64),\n",
    "                           torch.nn.ReLU(),\n",
    "                           torch.nn.Linear(in_features=64, out_features=64), \n",
    "                           torch.nn.ReLU(),\n",
    "                           torch.nn.Linear(in_features=64, out_features=784),\n",
    "                           torch.nn.Sigmoid()) ## 마지막의 시그모이드는 출력이 0~1사이로 나오게 하기 위함 \n",
    "counterfeiter = net1 "
   ]
  },
  {
   "cell_type": "markdown",
   "id": "5ec83299-eddd-478b-bb6a-80656911912b",
   "metadata": {
    "id": "5ec83299-eddd-478b-bb6a-80656911912b"
   },
   "source": [
    "#### 경찰의 설계: 진짜이미지는 1, 가짜이미지는 0으로 판별하는 DNN을 만들자. "
   ]
  },
  {
   "cell_type": "markdown",
   "id": "5fd8b3ea-ad02-4ca1-9b04-68c66845087d",
   "metadata": {
    "id": "5fd8b3ea-ad02-4ca1-9b04-68c66845087d"
   },
   "source": [
    "`-` 네트워크의 입력? (28,28)의 텐서, 혹은 784의 벡터 "
   ]
  },
  {
   "cell_type": "markdown",
   "id": "8f3c71b6-3f4f-4775-897d-4d9b340f1b30",
   "metadata": {
    "id": "8f3c71b6-3f4f-4775-897d-4d9b340f1b30"
   },
   "source": [
    "`-` 네트워크의 출력? yhat (y는 0 or 1)"
   ]
  },
  {
   "cell_type": "code",
   "execution_count": 10,
   "id": "b4d00de5-340e-4f75-bf4a-b6882beb2f7b",
   "metadata": {
    "id": "b4d00de5-340e-4f75-bf4a-b6882beb2f7b"
   },
   "outputs": [],
   "source": [
    "net2 = torch.nn.Sequential(torch.nn.Linear(in_features=784,out_features=64),\n",
    "                           torch.nn.ReLU(),\n",
    "                           torch.nn.Linear(in_features=64,out_features=28),\n",
    "                           torch.nn.ReLU(),\n",
    "                           torch.nn.Linear(in_features=28,out_features=1),\n",
    "                           torch.nn.Sigmoid())\n",
    "police = net2 "
   ]
  },
  {
   "cell_type": "markdown",
   "id": "b7c6c8c3-7ad8-4e8b-9f5e-4fd83718fbbc",
   "metadata": {
    "id": "b7c6c8c3-7ad8-4e8b-9f5e-4fd83718fbbc"
   },
   "source": [
    "#### 스토리전개 "
   ]
  },
  {
   "cell_type": "markdown",
   "id": "9362763e-b404-4374-bbef-c233cf16087d",
   "metadata": {
    "id": "9362763e-b404-4374-bbef-c233cf16087d"
   },
   "source": [
    "`-` 아래는 진짜이미지 "
   ]
  },
  {
   "cell_type": "code",
   "execution_count": 11,
   "id": "46203bc6-e0ca-4b32-a267-cc2870df07be",
   "metadata": {
    "id": "46203bc6-e0ca-4b32-a267-cc2870df07be",
    "outputId": "cbdd6ef1-1648-4b4d-be72-5c3daff7d092"
   },
   "outputs": [
    {
     "data": {
      "text/plain": [
       "<matplotlib.image.AxesImage at 0x7fd53197f130>"
      ]
     },
     "execution_count": 11,
     "metadata": {},
     "output_type": "execute_result"
    },
    {
     "data": {
      "image/png": "[encoded data removed]",
      "text/plain": [
       "<Figure size 432x288 with 1 Axes>"
      ]
     },
     "metadata": {
      "needs_background": "light"
     },
     "output_type": "display_data"
    }
   ],
   "source": [
    "realimage=X[0].reshape(28,28)\n",
    "plt.imshow(realimage)"
   ]
  },
  {
   "cell_type": "markdown",
   "id": "50a649cc-3812-4864-9023-36cc54ef085a",
   "metadata": {
    "id": "50a649cc-3812-4864-9023-36cc54ef085a"
   },
   "source": [
    "`-` 위와 같은 진짜 이미지를 경찰이 봤음 $\\to$ yhat이 나오겠죠? "
   ]
  },
  {
   "cell_type": "code",
   "execution_count": 12,
   "id": "fffcfa6c-5b70-459c-afb1-0b3867122df7",
   "metadata": {
    "id": "fffcfa6c-5b70-459c-afb1-0b3867122df7",
    "outputId": "1dee04cd-60a9-4721-ee40-6c368ba2aedc"
   },
   "outputs": [
    {
     "data": {
      "text/plain": [
       "tensor([0.4959], grad_fn=<SigmoidBackward0>)"
      ]
     },
     "execution_count": 12,
     "metadata": {},
     "output_type": "execute_result"
    }
   ],
   "source": [
    "policehat_from_realimage = police(realimage.reshape(-1))\n",
    "policehat_from_realimage"
   ]
  },
  {
   "cell_type": "markdown",
   "id": "712be798-f53c-4546-a014-180d23b3e0a6",
   "metadata": {
    "id": "712be798-f53c-4546-a014-180d23b3e0a6"
   },
   "source": [
    "- 진짜 이미지일수록 policehat_from_realimage $\\approx$ 1 이어야 함 \n",
    "- 하지만 그렇지 못함 (배운것이 없는 무능한 경찰) "
   ]
  },
  {
   "cell_type": "markdown",
   "id": "f4cbc324-d3db-4859-b1fd-ec6b51cb016e",
   "metadata": {
    "id": "f4cbc324-d3db-4859-b1fd-ec6b51cb016e"
   },
   "source": [
    "`-` 이번에는 가짜이미지를 경찰이 봤다고 생각해보자. "
   ]
  },
  {
   "cell_type": "markdown",
   "id": "03a8ada1-d1d8-4230-97c0-778c770785ca",
   "metadata": {
    "id": "03a8ada1-d1d8-4230-97c0-778c770785ca"
   },
   "source": [
    "(step1) 랜덤으로 아무숫자나 28개를 생성한다. "
   ]
  },
  {
   "cell_type": "code",
   "execution_count": 13,
   "id": "36c09aa5-506e-4edb-832b-a50e6a762b11",
   "metadata": {
    "id": "36c09aa5-506e-4edb-832b-a50e6a762b11",
    "outputId": "c99651c3-76ef-4fb6-cb88-624d926d4e71"
   },
   "outputs": [
    {
     "data": {
      "text/plain": [
       "tensor([ 1.4210, -0.8841, -2.0476, -1.3590,  0.1983,  1.8354,  0.0223, -0.0560,\n",
       "        -1.0690, -0.4255,  2.1154, -0.9462,  0.1073, -0.6490,  1.0822,  1.5894,\n",
       "        -1.0199,  1.2513,  1.5294, -1.4069,  0.7065,  0.9657,  0.6484,  1.8417,\n",
       "         1.2033,  0.7760, -2.2023, -0.4770])"
      ]
     },
     "execution_count": 13,
     "metadata": {},
     "output_type": "execute_result"
    }
   ],
   "source": [
    "err= torch.randn(28)\n",
    "err"
   ]
  },
  {
   "cell_type": "markdown",
   "id": "08c1e848-1858-4c5e-a926-22166a55be46",
   "metadata": {
    "id": "08c1e848-1858-4c5e-a926-22166a55be46"
   },
   "source": [
    "(step2) 위조범은 err를 입력으로 받고 가짜이미지를 만든다. "
   ]
  },
  {
   "cell_type": "markdown",
   "id": "fbbdd61d-95fa-42a4-9253-b565f618ec5e",
   "metadata": {},
   "source": [
    "couterfeiter_output는 network의 출력이다보니 미분에 대한 정보가 있어 fakeimage에도 미분 정보가 포함되어 있다. detach를 통해 제거해주자"
   ]
  },
  {
   "cell_type": "code",
   "execution_count": 14,
   "id": "bfe082ab-ad87-4e6f-9988-d13077b6b9e9",
   "metadata": {
    "id": "bfe082ab-ad87-4e6f-9988-d13077b6b9e9",
    "outputId": "ed3e7ace-19fe-4c6b-f89c-2e27211ae34d"
   },
   "outputs": [
    {
     "data": {
      "text/plain": [
       "<matplotlib.image.AxesImage at 0x7fd5318e5a00>"
      ]
     },
     "execution_count": 14,
     "metadata": {},
     "output_type": "execute_result"
    },
    {
     "data": {
      "image/png": "[encoded data removed]",
      "text/plain": [
       "<Figure size 432x288 with 1 Axes>"
      ]
     },
     "metadata": {
      "needs_background": "light"
     },
     "output_type": "display_data"
    }
   ],
   "source": [
    "couterfeiter_output = counterfeiter(err)\n",
    "fakeimage=couterfeiter_output.reshape(28,28)\n",
    "plt.imshow(fakeimage.detach())"
   ]
  },
  {
   "cell_type": "markdown",
   "id": "f2cdb892-f12e-4cc4-80c4-306394d2f6a5",
   "metadata": {
    "id": "f2cdb892-f12e-4cc4-80c4-306394d2f6a5"
   },
   "source": [
    "- 누가봐도 가짜자료임\n",
    "- 위조범의 실력이 형편없음 "
   ]
  },
  {
   "cell_type": "markdown",
   "id": "02a984d7-7d71-4364-8f18-68a1778e01c6",
   "metadata": {
    "id": "02a984d7-7d71-4364-8f18-68a1778e01c6"
   },
   "source": [
    "(step3) 위조범이 생성한 이미지를 경찰한테 넘긴다. "
   ]
  },
  {
   "cell_type": "markdown",
   "id": "85f75a4b-8c40-4bc2-85a6-d63e65e56e12",
   "metadata": {},
   "source": [
    "아래는 shape을 바꾸냐 안 바꾸냐의 차이일 뿐"
   ]
  },
  {
   "cell_type": "code",
   "execution_count": 15,
   "id": "c92021fb-afcf-4a80-924f-5d614e3e88f4",
   "metadata": {
    "id": "c92021fb-afcf-4a80-924f-5d614e3e88f4",
    "outputId": "cda9a458-e4b2-4187-cc76-292112d439e1"
   },
   "outputs": [
    {
     "data": {
      "text/plain": [
       "tensor([0.5085], grad_fn=<SigmoidBackward0>)"
      ]
     },
     "execution_count": 15,
     "metadata": {},
     "output_type": "execute_result"
    }
   ],
   "source": [
    "policehat_from_fakeimage = police(couterfeiter_output)\n",
    "#policehat_from_fakeimage = police(fakeimage.detach().reshape(-1))\n",
    "policehat_from_fakeimage"
   ]
  },
  {
   "cell_type": "markdown",
   "id": "edc6ac45-927b-4f86-91f8-1a6c3df17c60",
   "metadata": {
    "id": "edc6ac45-927b-4f86-91f8-1a6c3df17c60"
   },
   "source": [
    "`-` 경찰의 실력도 형편없고 위조범의 실력도 형편없다. "
   ]
  },
  {
   "cell_type": "markdown",
   "id": "09b810a3-22be-4985-8b13-87195aa7afc9",
   "metadata": {
    "id": "09b810a3-22be-4985-8b13-87195aa7afc9"
   },
   "source": [
    "#### 경찰네트워크의 실력을 향상시키자. "
   ]
  },
  {
   "cell_type": "markdown",
   "id": "5a32851e-0abd-4f0b-9b8e-c2d89e6c3df0",
   "metadata": {
    "id": "5a32851e-0abd-4f0b-9b8e-c2d89e6c3df0"
   },
   "source": [
    "`-` 데이터 정리 \n",
    "- 원래 $n=6131$개의 이미지 자료가 있음. 이를 ${\\bf X}$라고 하자. 따라서 ${\\bf X}$의 차원은 (6131,784). \n",
    "- 위조범이 만든 가짜자료를 원래 자료와 같은 숫자인 6131개 만듬. 이 가짜자료를 $\\tilde{\\bf X}$라고 하자. 따라서 $\\tilde{\\bf X}$의 차원은 (6131,784). \n",
    "- 진짜자료는 1, 가짜자료는 0으로 라벨링. "
   ]
  },
  {
   "cell_type": "code",
   "execution_count": 16,
   "id": "4d5e82ad-1b06-4f5a-9aec-f942f53582f9",
   "metadata": {
    "id": "4d5e82ad-1b06-4f5a-9aec-f942f53582f9",
    "outputId": "24a1b116-2c07-43c7-9b26-be6c03f08dbb"
   },
   "outputs": [
    {
     "data": {
      "text/plain": [
       "torch.Size([6131, 784])"
      ]
     },
     "execution_count": 16,
     "metadata": {},
     "output_type": "execute_result"
    }
   ],
   "source": [
    "X.shape"
   ]
  },
  {
   "cell_type": "code",
   "execution_count": 17,
   "id": "0bee1e37-7a0b-4fac-914a-086c9c95ad6e",
   "metadata": {
    "id": "0bee1e37-7a0b-4fac-914a-086c9c95ad6e"
   },
   "outputs": [],
   "source": [
    "err= torch.randn(6131,28)\n",
    "counterfeiter_output = counterfeiter(err) # counterfeiter_output를 Xtilde로 생각하면 된다. "
   ]
  },
  {
   "cell_type": "code",
   "execution_count": 18,
   "id": "31eb6204-75ac-4646-b35b-db188216bc2c",
   "metadata": {
    "id": "31eb6204-75ac-4646-b35b-db188216bc2c"
   },
   "outputs": [],
   "source": [
    "real_label=torch.tensor([[1.0]]*6131) ## y=1 \n",
    "fake_label=torch.tensor([[0.0]]*6131) ## y=0"
   ]
  },
  {
   "cell_type": "markdown",
   "id": "03fd1d57-2e01-402c-ae32-8dd2a30766f9",
   "metadata": {
    "id": "03fd1d57-2e01-402c-ae32-8dd2a30766f9"
   },
   "source": [
    "`-` step1: yhat, 경찰의 예측 "
   ]
  },
  {
   "cell_type": "code",
   "execution_count": 20,
   "id": "da1c9dc3-2b67-4540-8877-e26430fc0abd",
   "metadata": {
    "id": "da1c9dc3-2b67-4540-8877-e26430fc0abd"
   },
   "outputs": [],
   "source": [
    "policehat_from_realimage = police(X) \n",
    "policehat_from_fakeimage = police(counterfeiter_output) "
   ]
  },
  {
   "cell_type": "markdown",
   "id": "8fb48b63-536e-4031-96c2-1d8ca51e13bc",
   "metadata": {
    "id": "8fb48b63-536e-4031-96c2-1d8ca51e13bc"
   },
   "source": [
    "`-` step2: 손실함수? 경찰의 미덕은 (1) 가짜를 가짜라고 하고 (2) 진짜를 진짜라 해야한다. "
   ]
  },
  {
   "cell_type": "markdown",
   "id": "a6793b1d-f19d-4f6d-b3d0-17d329725f10",
   "metadata": {},
   "source": [
    "sigmoid는 앞에서 추가해준 단계니까 빼고"
   ]
  },
  {
   "cell_type": "code",
   "execution_count": 21,
   "id": "8370d2d4-859e-47ca-9c59-f9046b36e9b4",
   "metadata": {
    "id": "8370d2d4-859e-47ca-9c59-f9046b36e9b4"
   },
   "outputs": [],
   "source": [
    "loss_fn = torch.nn.BCELoss() "
   ]
  },
  {
   "cell_type": "code",
   "execution_count": 22,
   "id": "2e3c5c6c-6288-4bcb-871a-7a8949459b87",
   "metadata": {
    "id": "2e3c5c6c-6288-4bcb-871a-7a8949459b87",
    "outputId": "b57fa38a-2b67-4b23-b336-dce95948db23"
   },
   "outputs": [
    {
     "data": {
      "text/plain": [
       "tensor(1.4011, grad_fn=<AddBackward0>)"
      ]
     },
     "execution_count": 22,
     "metadata": {},
     "output_type": "execute_result"
    }
   ],
   "source": [
    "loss_of_police =\\\n",
    "loss_fn(policehat_from_fakeimage,fake_label)+\\\n",
    "loss_fn(policehat_from_realimage,real_label)\n",
    "\n",
    "loss_of_police"
   ]
  },
  {
   "cell_type": "markdown",
   "id": "ccdb3b1b-998a-4a96-a3a8-19902d3215fc",
   "metadata": {
    "id": "ccdb3b1b-998a-4a96-a3a8-19902d3215fc"
   },
   "source": [
    "`-` step3~4는 미분이후 업데이트 "
   ]
  },
  {
   "cell_type": "markdown",
   "id": "120d2c7d-514b-4268-b1e6-e946061a5d81",
   "metadata": {
    "id": "120d2c7d-514b-4268-b1e6-e946061a5d81"
   },
   "source": [
    "`-` 옵티마이저를 설계하자. "
   ]
  },
  {
   "cell_type": "code",
   "execution_count": 23,
   "id": "bdd2af99-56a3-41f3-a57c-c1e9d5c3ea68",
   "metadata": {
    "id": "bdd2af99-56a3-41f3-a57c-c1e9d5c3ea68"
   },
   "outputs": [],
   "source": [
    "optimizer_of_police = torch.optim.Adam(police.parameters())"
   ]
  },
  {
   "cell_type": "markdown",
   "id": "e8fcee47-09f9-4f6a-bfca-b096dc1432d2",
   "metadata": {
    "id": "e8fcee47-09f9-4f6a-bfca-b096dc1432d2"
   },
   "source": [
    "`-` for 문을 돌리자. "
   ]
  },
  {
   "cell_type": "code",
   "execution_count": 24,
   "id": "9f4d884c-a639-46c3-8d59-29ac21506555",
   "metadata": {
    "id": "9f4d884c-a639-46c3-8d59-29ac21506555"
   },
   "outputs": [],
   "source": [
    "for i in range(50): \n",
    "    ## 1 yhat \n",
    "    policehat_from_realimage = police(X) \n",
    "    \n",
    "    #policehat_from_fakeimage = police(Xitlde)\n",
    "    err= torch.randn(6131,28)\n",
    "    counterfeiter_output = counterfeiter(err) # counterfeiter_output를 Xtilde로 생각하면 된다. \n",
    "    policehat_from_fakeimage= police(counterfeiter_output)\n",
    "    \n",
    "    ## 2 loss \n",
    "    loss_of_police =\\\n",
    "    loss_fn(policehat_from_fakeimage,fake_label)+\\\n",
    "    loss_fn(policehat_from_realimage,real_label)\n",
    "    \n",
    "    ## 3 back propagation \n",
    "    loss_of_police.backward()\n",
    "    \n",
    "    ## 4 update\n",
    "    optimizer_of_police.step()\n",
    "    optimizer_of_police.zero_grad()"
   ]
  },
  {
   "cell_type": "markdown",
   "id": "2704b29e-ccd0-4273-b0d2-69905275c243",
   "metadata": {
    "id": "2704b29e-ccd0-4273-b0d2-69905275c243"
   },
   "source": [
    "`-` 훈련된 경찰의 성능을 살펴보자. "
   ]
  },
  {
   "cell_type": "code",
   "execution_count": 25,
   "id": "62c87946-ee8a-48bf-afa3-fbd9c37db51b",
   "metadata": {
    "id": "62c87946-ee8a-48bf-afa3-fbd9c37db51b",
    "outputId": "9f5cc666-1277-4874-8bce-440b5db0a727"
   },
   "outputs": [
    {
     "data": {
      "text/plain": [
       "tensor([[0.0009],\n",
       "        [0.0009],\n",
       "        [0.0009],\n",
       "        ...,\n",
       "        [0.0009],\n",
       "        [0.0009],\n",
       "        [0.0008]], grad_fn=<SigmoidBackward0>)"
      ]
     },
     "execution_count": 25,
     "metadata": {},
     "output_type": "execute_result"
    }
   ],
   "source": [
    "police(counterfeiter_output)"
   ]
  },
  {
   "cell_type": "code",
   "execution_count": 26,
   "id": "a2a73393-5c92-4768-805b-30a1d21bd4ad",
   "metadata": {
    "id": "a2a73393-5c92-4768-805b-30a1d21bd4ad",
    "outputId": "a356f3e1-a89a-438d-aff2-f8306bcdb92c"
   },
   "outputs": [
    {
     "data": {
      "text/plain": [
       "tensor([[0.9998],\n",
       "        [0.9995],\n",
       "        [0.9997],\n",
       "        ...,\n",
       "        [0.9996],\n",
       "        [0.9932],\n",
       "        [0.9946]], grad_fn=<SigmoidBackward0>)"
      ]
     },
     "execution_count": 26,
     "metadata": {},
     "output_type": "execute_result"
    }
   ],
   "source": [
    "police(X)"
   ]
  },
  {
   "cell_type": "markdown",
   "id": "862fa63a-1f6e-4f6e-954b-4a4e66477ce5",
   "metadata": {
    "id": "862fa63a-1f6e-4f6e-954b-4a4e66477ce5"
   },
   "source": [
    "`-` 우수한 경찰 (비록 위조범의 수준이 낮긴하지만) "
   ]
  },
  {
   "cell_type": "markdown",
   "id": "12b5c4b1-163a-4fe1-bf55-299a92cc54e0",
   "metadata": {
    "id": "12b5c4b1-163a-4fe1-bf55-299a92cc54e0"
   },
   "source": [
    "#### 위조범네트워크의 성능을 향상시키자. "
   ]
  },
  {
   "cell_type": "markdown",
   "id": "f3bb82cf-1918-4811-8cf1-a31fbdc1171e",
   "metadata": {
    "id": "f3bb82cf-1918-4811-8cf1-a31fbdc1171e"
   },
   "source": [
    "`-` 자료구조: X는 임의의 에러이미지, net(X)는 fakeimage "
   ]
  },
  {
   "cell_type": "code",
   "execution_count": 27,
   "id": "4254527f-782b-41ce-b461-2d7c029d76ce",
   "metadata": {
    "id": "4254527f-782b-41ce-b461-2d7c029d76ce"
   },
   "outputs": [],
   "source": [
    "err=torch.randn(6131,28) \n",
    "counterfeiter_output= counterfeiter(err) "
   ]
  },
  {
   "cell_type": "markdown",
   "id": "c2996a1c-ab12-4ef1-9758-a65c3a7ca0ca",
   "metadata": {
    "id": "c2996a1c-ab12-4ef1-9758-a65c3a7ca0ca"
   },
   "source": [
    "`-` 손실함수: 잘 훈련된 경찰조차도 잘못된 판단을 내릴만큼 가짜지폐를 잘 만들면 위조범의 실력이 우수하다 볼 수 있음 "
   ]
  },
  {
   "cell_type": "code",
   "execution_count": 28,
   "id": "bc52f1bc-ac5f-4fce-8454-4bc274844ae8",
   "metadata": {
    "id": "bc52f1bc-ac5f-4fce-8454-4bc274844ae8"
   },
   "outputs": [],
   "source": [
    "policehat_from_fakeimage = police(counterfeiter_output) \n",
    "loss_of_counterfeiter = loss_fn(policehat_from_fakeimage,real_label) ## 가짜이미지를 보고 경찰이 진짜라고 믿으면 위조범의 실력이 좋은것임  "
   ]
  },
  {
   "cell_type": "markdown",
   "id": "e276de7a-7fce-4e34-8440-fcbde91189a3",
   "metadata": {
    "id": "e276de7a-7fce-4e34-8440-fcbde91189a3"
   },
   "source": [
    "`-` 옵티마이저 "
   ]
  },
  {
   "cell_type": "code",
   "execution_count": 29,
   "id": "e0cbf096-8e58-473a-80a7-69478efe01a4",
   "metadata": {
    "id": "e0cbf096-8e58-473a-80a7-69478efe01a4"
   },
   "outputs": [],
   "source": [
    "optimizer_of_counterfeiter = torch.optim.Adam(counterfeiter.parameters())"
   ]
  },
  {
   "cell_type": "markdown",
   "id": "a3359dea-803d-40a3-96d1-1bb6bc0721c1",
   "metadata": {
    "id": "a3359dea-803d-40a3-96d1-1bb6bc0721c1"
   },
   "source": [
    "`-` 학습"
   ]
  },
  {
   "cell_type": "code",
   "execution_count": 30,
   "id": "86ca0feb-f3b9-43b4-8a82-52d282542108",
   "metadata": {
    "id": "86ca0feb-f3b9-43b4-8a82-52d282542108"
   },
   "outputs": [],
   "source": [
    "for i in range(50): \n",
    "    ## 1 \n",
    "    err=torch.randn(6131,28) \n",
    "    counterfeiter_output= counterfeiter(err)  \n",
    "    policehat_from_fakeimage = police(counterfeiter_output) \n",
    "    ## 2 \n",
    "    loss_of_counterfeiter = loss_fn(policehat_from_fakeimage,real_label)\n",
    "    ## 3 \n",
    "    loss_of_counterfeiter.backward()\n",
    "    ## 4 \n",
    "    optimizer_of_counterfeiter.step()\n",
    "    optimizer_of_counterfeiter.zero_grad()"
   ]
  },
  {
   "cell_type": "markdown",
   "id": "e81f4f38-9c96-4aa7-a2e3-ec44c0a7d4ee",
   "metadata": {
    "id": "e81f4f38-9c96-4aa7-a2e3-ec44c0a7d4ee"
   },
   "source": [
    "`-` 위조범의 실력향상을 감상해보자. "
   ]
  },
  {
   "cell_type": "code",
   "execution_count": 32,
   "id": "616c7466-99b3-4ca8-9b05-7532559a83d8",
   "metadata": {
    "id": "616c7466-99b3-4ca8-9b05-7532559a83d8",
    "outputId": "94a91141-69c7-4a7c-ca0b-283ab229d1ee"
   },
   "outputs": [
    {
     "data": {
      "text/plain": [
       "<matplotlib.image.AxesImage at 0x7fd531027e50>"
      ]
     },
     "execution_count": 32,
     "metadata": {},
     "output_type": "execute_result"
    },
    {
     "data": {
      "image/png": "[encoded data removed]",
      "text/plain": [
       "<Figure size 432x288 with 1 Axes>"
      ]
     },
     "metadata": {
      "needs_background": "light"
     },
     "output_type": "display_data"
    }
   ],
   "source": [
    "plt.imshow(counterfeiter_output[0].reshape(28,28).data)"
   ]
  },
  {
   "cell_type": "markdown",
   "id": "419fd8fd-02e3-45d5-aa2c-3e43152cbd57",
   "metadata": {
    "id": "419fd8fd-02e3-45d5-aa2c-3e43152cbd57"
   },
   "source": [
    "#### 두 적대적 네트워크를 경쟁시키자. "
   ]
  },
  {
   "cell_type": "code",
   "execution_count": 33,
   "id": "d50e49a4-71ae-4963-aa5d-af8e8750524a",
   "metadata": {
    "id": "d50e49a4-71ae-4963-aa5d-af8e8750524a"
   },
   "outputs": [],
   "source": [
    "for k in range(100): \n",
    "    for i in range(50): \n",
    "        ## 1 yhat \n",
    "        policehat_from_realimage = police(X) \n",
    "    \n",
    "        #policehat_from_fakeimage = police(Xitlde)\n",
    "        err= torch.randn(6131,28)\n",
    "        counterfeiter_output = counterfeiter(err) # counterfeiter_output를 Xtilde로 생각하면 된다. \n",
    "        policehat_from_fakeimage= police(counterfeiter_output)\n",
    "    \n",
    "        ## 2 loss \n",
    "        loss_of_police =\\\n",
    "        loss_fn(policehat_from_fakeimage,fake_label)+\\\n",
    "        loss_fn(policehat_from_realimage,real_label)\n",
    "    \n",
    "        ## 3 back propagation \n",
    "        loss_of_police.backward()\n",
    "    \n",
    "        ## 4 update\n",
    "        optimizer_of_police.step()\n",
    "        optimizer_of_police.zero_grad()\n",
    "        \n",
    "    for i in range(50): \n",
    "        ## 1 \n",
    "        err=torch.randn(6131,28) \n",
    "        counterfeiter_output= counterfeiter(err)  \n",
    "        policehat_from_fakeimage = police(counterfeiter_output) \n",
    "        ## 2 \n",
    "        loss_of_counterfeiter = loss_fn(policehat_from_fakeimage,real_label)\n",
    "        ## 3 \n",
    "        loss_of_counterfeiter.backward()\n",
    "        ## 4 \n",
    "        optimizer_of_counterfeiter.step()\n",
    "        optimizer_of_counterfeiter.zero_grad()        "
   ]
  },
  {
   "cell_type": "markdown",
   "id": "248b909a-47d1-490e-b8a4-6c219685a4e5",
   "metadata": {
    "id": "248b909a-47d1-490e-b8a4-6c219685a4e5"
   },
   "source": [
    "`-` 위조범의 최종적 실력향상감상 "
   ]
  },
  {
   "cell_type": "code",
   "execution_count": 34,
   "id": "10cc9d22-ad10-4985-aa17-560a0c80e9d8",
   "metadata": {
    "id": "10cc9d22-ad10-4985-aa17-560a0c80e9d8",
    "outputId": "4e14a7d2-c24b-4f68-bd2a-5652c715ed78"
   },
   "outputs": [
    {
     "data": {
      "text/plain": [
       "<matplotlib.image.AxesImage at 0x7fd530fa1ca0>"
      ]
     },
     "execution_count": 34,
     "metadata": {},
     "output_type": "execute_result"
    },
    {
     "data": {
      "image/png": "[encoded data removed]",
      "text/plain": [
       "<Figure size 432x288 with 1 Axes>"
      ]
     },
     "metadata": {
      "needs_background": "light"
     },
     "output_type": "display_data"
    }
   ],
   "source": [
    "plt.imshow(counterfeiter_output[0].reshape(28,28).data)"
   ]
  },
  {
   "cell_type": "code",
   "execution_count": 35,
   "id": "d13a4198-5ada-4c95-ab34-325967cbde37",
   "metadata": {
    "id": "d13a4198-5ada-4c95-ab34-325967cbde37"
   },
   "outputs": [
    {
     "data": {
      "text/plain": [
       "tensor([0.4974], grad_fn=<SigmoidBackward0>)"
      ]
     },
     "execution_count": 35,
     "metadata": {},
     "output_type": "execute_result"
    }
   ],
   "source": [
    "police(counterfeiter_output[0])"
   ]
  }
 ],
 "metadata": {
  "colab": {
   "name": "2021-12-24-(15주차) 12월24일.ipynb",
   "provenance": []
  },
  "kernelspec": {
   "display_name": "Python 3",
   "language": "python",
   "name": "python3"
  },
  "language_info": {
   "codemirror_mode": {
    "name": "ipython",
    "version": 3
   },
   "file_extension": ".py",
   "mimetype": "text/x-python",
   "name": "python",
   "nbconvert_exporter": "python",
   "pygments_lexer": "ipython3",
   "version": "3.8.12"
  }
 },
 "nbformat": 4,
 "nbformat_minor": 5
}
