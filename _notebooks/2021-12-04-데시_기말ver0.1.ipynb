{
 "cells": [
  {
   "cell_type": "markdown",
   "id": "37010cdf-7c1f-446c-a969-5073ced45153",
   "metadata": {
    "id": "6519ad2b-5e42-41bf-946a-b107c2605c48",
    "tags": []
   },
   "source": [
    "# 기말고사 예상문제 (ver 0.1)\n",
    "> \n",
    "\n",
    "- toc:true\n",
    "- branch: master\n",
    "- badges: true\n",
    "- comments: false\n",
    "- author: 최서연"
   ]
  },
  {
   "cell_type": "code",
   "execution_count": 23,
   "id": "2ff39d78-4f2b-4638-95f5-e1feb12f4021",
   "metadata": {},
   "outputs": [],
   "source": [
    "import pandas as pd\n",
    "import numpy as np\n",
    "import matplotlib.pyplot as plt\n",
    "import folium\n",
    "import json\n",
    "import requests"
   ]
  },
  {
   "cell_type": "markdown",
   "id": "f8450425-c05a-4bb8-b428-068802e9e6ad",
   "metadata": {
    "id": "6ee6117a-d997-40a1-a023-5798113920e4",
    "tags": []
   },
   "source": [
    "## `#1`. COVID19 시도별 접종률 시각화"
   ]
  },
  {
   "cell_type": "markdown",
   "id": "bf2e04a4-aaf2-4a56-a98d-27c83f64cc60",
   "metadata": {
    "id": "0d54fb58-6de1-43ee-87b2-862675fa6f4f"
   },
   "source": [
    "아래의 그림은 COVID19 예방접종의 시도별 현황을 캡쳐한 것이다. \n",
    "\n",
    "![](https://github.com/guebin/2021DV/blob/master/_notebooks/final_FIG1.png?raw=true \"그림1: COVID19 예방접종의 시도별 현황\")\n",
    "\n",
    "이 정보는 특정 주기로 업데이트 되며 아래의 웹페이지 2번째 테이블에서 확인할 수 있다. \n",
    "```\n",
    "https://ncv.kdca.go.kr/mainStatus.es?mid=a11702000000\n",
    "```\n",
    "판다스의 `pd.read_html()` 함수를 이용해 위의 페이지에서 그림1의 테이블을 읽어오라. 그리고 folium의 choroplethmap을 활용하여 시도별 2차접종의 접종률을 시각화 하라. 시각화 예시는 그림2와 같다. "
   ]
  },
  {
   "cell_type": "markdown",
   "id": "aa67533f-a46d-49ce-b2c0-6f82edf3087c",
   "metadata": {
    "id": "f8c0b627-afbd-432e-a729-8ae24a543add"
   },
   "source": [
    "![](https://github.com/guebin/2021DV/blob/master/_notebooks/final_FIG2.png?raw=true \"그림2: 문제1의 답안예시\")"
   ]
  },
  {
   "cell_type": "markdown",
   "id": "de464cab-8059-49ee-8799-1c8b8b8b1764",
   "metadata": {
    "id": "67f4058b-59b8-47d2-8028-4ec6deb32293"
   },
   "source": [
    "---"
   ]
  },
  {
   "cell_type": "markdown",
   "id": "a218c2b7-f6ae-4345-a471-2a3b1710851b",
   "metadata": {
    "id": "0d4c826b-eb93-460d-b3f1-f0b02cc605f1"
   },
   "source": [
    "**힌트1.** pd.read_html()을 이용할때 `encoding='utf-8'`옵션을 사용하라. \n",
    "\n",
    "**힌트2.** `https://ncv.kdca.go.kr/mainStatus.es?mid=a11702000000`의 2번째 테이블을 판다스로 읽어온 결과는 아래와 같아야 한다. "
   ]
  },
  {
   "cell_type": "code",
   "execution_count": 57,
   "id": "82f48a36-8f9c-44a3-9eb3-9fa231fc3f05",
   "metadata": {},
   "outputs": [
    {
     "data": {
      "text/html": [
       "<div>\n",
       "<style scoped>\n",
       "    .dataframe tbody tr th:only-of-type {\n",
       "        vertical-align: middle;\n",
       "    }\n",
       "\n",
       "    .dataframe tbody tr th {\n",
       "        vertical-align: top;\n",
       "    }\n",
       "\n",
       "    .dataframe thead tr th {\n",
       "        text-align: left;\n",
       "    }\n",
       "</style>\n",
       "<table border=\"1\" class=\"dataframe\">\n",
       "  <thead>\n",
       "    <tr>\n",
       "      <th></th>\n",
       "      <th>구분</th>\n",
       "      <th colspan=\"2\" halign=\"left\">1차접종</th>\n",
       "      <th colspan=\"2\" halign=\"left\">2차접종</th>\n",
       "      <th colspan=\"2\" halign=\"left\">3차(부스터)접종</th>\n",
       "    </tr>\n",
       "    <tr>\n",
       "      <th></th>\n",
       "      <th>구분</th>\n",
       "      <th>당일 실적</th>\n",
       "      <th>당일 누계</th>\n",
       "      <th>당일 실적</th>\n",
       "      <th>당일 누계</th>\n",
       "      <th>당일 실적</th>\n",
       "      <th>당일 누계</th>\n",
       "    </tr>\n",
       "  </thead>\n",
       "  <tbody>\n",
       "    <tr>\n",
       "      <th>0</th>\n",
       "      <td>합계</td>\n",
       "      <td>33213</td>\n",
       "      <td>42653944</td>\n",
       "      <td>89269</td>\n",
       "      <td>41284671</td>\n",
       "      <td>276997</td>\n",
       "      <td>3852154</td>\n",
       "    </tr>\n",
       "    <tr>\n",
       "      <th>1</th>\n",
       "      <td>서울</td>\n",
       "      <td>6418</td>\n",
       "      <td>7940840</td>\n",
       "      <td>14436</td>\n",
       "      <td>7713303</td>\n",
       "      <td>56517</td>\n",
       "      <td>707480</td>\n",
       "    </tr>\n",
       "    <tr>\n",
       "      <th>2</th>\n",
       "      <td>부산</td>\n",
       "      <td>2051</td>\n",
       "      <td>2726236</td>\n",
       "      <td>5221</td>\n",
       "      <td>2636872</td>\n",
       "      <td>18930</td>\n",
       "      <td>228368</td>\n",
       "    </tr>\n",
       "    <tr>\n",
       "      <th>3</th>\n",
       "      <td>대구</td>\n",
       "      <td>1475</td>\n",
       "      <td>1897268</td>\n",
       "      <td>3888</td>\n",
       "      <td>1834006</td>\n",
       "      <td>11380</td>\n",
       "      <td>142130</td>\n",
       "    </tr>\n",
       "    <tr>\n",
       "      <th>4</th>\n",
       "      <td>인천</td>\n",
       "      <td>2003</td>\n",
       "      <td>2433177</td>\n",
       "      <td>5220</td>\n",
       "      <td>2352331</td>\n",
       "      <td>13520</td>\n",
       "      <td>197197</td>\n",
       "    </tr>\n",
       "    <tr>\n",
       "      <th>5</th>\n",
       "      <td>광주</td>\n",
       "      <td>968</td>\n",
       "      <td>1191290</td>\n",
       "      <td>3087</td>\n",
       "      <td>1146427</td>\n",
       "      <td>7702</td>\n",
       "      <td>115764</td>\n",
       "    </tr>\n",
       "    <tr>\n",
       "      <th>6</th>\n",
       "      <td>대전</td>\n",
       "      <td>956</td>\n",
       "      <td>1174705</td>\n",
       "      <td>2394</td>\n",
       "      <td>1135182</td>\n",
       "      <td>7314</td>\n",
       "      <td>100144</td>\n",
       "    </tr>\n",
       "    <tr>\n",
       "      <th>7</th>\n",
       "      <td>울산</td>\n",
       "      <td>588</td>\n",
       "      <td>909397</td>\n",
       "      <td>1763</td>\n",
       "      <td>881739</td>\n",
       "      <td>4245</td>\n",
       "      <td>63273</td>\n",
       "    </tr>\n",
       "    <tr>\n",
       "      <th>8</th>\n",
       "      <td>세종</td>\n",
       "      <td>242</td>\n",
       "      <td>272614</td>\n",
       "      <td>504</td>\n",
       "      <td>262391</td>\n",
       "      <td>1493</td>\n",
       "      <td>23646</td>\n",
       "    </tr>\n",
       "    <tr>\n",
       "      <th>9</th>\n",
       "      <td>경기</td>\n",
       "      <td>9350</td>\n",
       "      <td>11164316</td>\n",
       "      <td>25158</td>\n",
       "      <td>10814771</td>\n",
       "      <td>64392</td>\n",
       "      <td>942731</td>\n",
       "    </tr>\n",
       "    <tr>\n",
       "      <th>10</th>\n",
       "      <td>강원</td>\n",
       "      <td>871</td>\n",
       "      <td>1280486</td>\n",
       "      <td>2557</td>\n",
       "      <td>1239767</td>\n",
       "      <td>9204</td>\n",
       "      <td>127833</td>\n",
       "    </tr>\n",
       "    <tr>\n",
       "      <th>11</th>\n",
       "      <td>충북</td>\n",
       "      <td>828</td>\n",
       "      <td>1353202</td>\n",
       "      <td>2788</td>\n",
       "      <td>1310105</td>\n",
       "      <td>8890</td>\n",
       "      <td>134138</td>\n",
       "    </tr>\n",
       "    <tr>\n",
       "      <th>12</th>\n",
       "      <td>충남</td>\n",
       "      <td>1298</td>\n",
       "      <td>1791384</td>\n",
       "      <td>3799</td>\n",
       "      <td>1729378</td>\n",
       "      <td>12803</td>\n",
       "      <td>183678</td>\n",
       "    </tr>\n",
       "    <tr>\n",
       "      <th>13</th>\n",
       "      <td>전북</td>\n",
       "      <td>1019</td>\n",
       "      <td>1515819</td>\n",
       "      <td>3780</td>\n",
       "      <td>1463908</td>\n",
       "      <td>11589</td>\n",
       "      <td>172116</td>\n",
       "    </tr>\n",
       "    <tr>\n",
       "      <th>14</th>\n",
       "      <td>전남</td>\n",
       "      <td>921</td>\n",
       "      <td>1576666</td>\n",
       "      <td>3166</td>\n",
       "      <td>1523884</td>\n",
       "      <td>13834</td>\n",
       "      <td>213856</td>\n",
       "    </tr>\n",
       "    <tr>\n",
       "      <th>15</th>\n",
       "      <td>경북</td>\n",
       "      <td>1567</td>\n",
       "      <td>2161635</td>\n",
       "      <td>4478</td>\n",
       "      <td>2089812</td>\n",
       "      <td>14310</td>\n",
       "      <td>208500</td>\n",
       "    </tr>\n",
       "    <tr>\n",
       "      <th>16</th>\n",
       "      <td>경남</td>\n",
       "      <td>2067</td>\n",
       "      <td>2714710</td>\n",
       "      <td>5578</td>\n",
       "      <td>2620169</td>\n",
       "      <td>17907</td>\n",
       "      <td>244652</td>\n",
       "    </tr>\n",
       "    <tr>\n",
       "      <th>17</th>\n",
       "      <td>제주</td>\n",
       "      <td>591</td>\n",
       "      <td>550199</td>\n",
       "      <td>1452</td>\n",
       "      <td>530626</td>\n",
       "      <td>2967</td>\n",
       "      <td>46648</td>\n",
       "    </tr>\n",
       "  </tbody>\n",
       "</table>\n",
       "</div>"
      ],
      "text/plain": [
       "    구분   1차접종             2차접종           3차(부스터)접종         \n",
       "    구분  당일 실적     당일 누계  당일 실적     당일 누계     당일 실적    당일 누계\n",
       "0   합계  33213  42653944  89269  41284671    276997  3852154\n",
       "1   서울   6418   7940840  14436   7713303     56517   707480\n",
       "2   부산   2051   2726236   5221   2636872     18930   228368\n",
       "3   대구   1475   1897268   3888   1834006     11380   142130\n",
       "4   인천   2003   2433177   5220   2352331     13520   197197\n",
       "5   광주    968   1191290   3087   1146427      7702   115764\n",
       "6   대전    956   1174705   2394   1135182      7314   100144\n",
       "7   울산    588    909397   1763    881739      4245    63273\n",
       "8   세종    242    272614    504    262391      1493    23646\n",
       "9   경기   9350  11164316  25158  10814771     64392   942731\n",
       "10  강원    871   1280486   2557   1239767      9204   127833\n",
       "11  충북    828   1353202   2788   1310105      8890   134138\n",
       "12  충남   1298   1791384   3799   1729378     12803   183678\n",
       "13  전북   1019   1515819   3780   1463908     11589   172116\n",
       "14  전남    921   1576666   3166   1523884     13834   213856\n",
       "15  경북   1567   2161635   4478   2089812     14310   208500\n",
       "16  경남   2067   2714710   5578   2620169     17907   244652\n",
       "17  제주    591    550199   1452    530626      2967    46648"
      ]
     },
     "execution_count": 57,
     "metadata": {},
     "output_type": "execute_result"
    }
   ],
   "source": [
    "df=pd.read_html('https://ncv.kdca.go.kr/mainStatus.es?mid=a11702000000',encoding='utf-8')[1]\n",
    "df"
   ]
  },
  {
   "cell_type": "code",
   "execution_count": 25,
   "id": "6a7b3c31-1ce8-455e-85c6-7d7ecdfd94bc",
   "metadata": {},
   "outputs": [],
   "source": [
    "global_dict = json.loads(requests.get('https://raw.githubusercontent.com/southkorea/southkorea-maps/master/kostat/2018/json/skorea-provinces-2018-geo.json').text)"
   ]
  },
  {
   "cell_type": "code",
   "execution_count": 97,
   "id": "055810f0-f88c-48ea-bb77-7f418795d7f4",
   "metadata": {},
   "outputs": [
    {
     "ename": "ValueError",
     "evalue": "Buffer has wrong number of dimensions (expected 1, got 2)",
     "output_type": "error",
     "traceback": [
      "\u001b[0;31m---------------------------------------------------------------------------\u001b[0m",
      "\u001b[0;31mValueError\u001b[0m                                Traceback (most recent call last)",
      "\u001b[0;32m/tmp/ipykernel_63047/310003325.py\u001b[0m in \u001b[0;36m<module>\u001b[0;34m\u001b[0m\n\u001b[0;32m----> 1\u001b[0;31m \u001b[0mpd\u001b[0m\u001b[0;34m.\u001b[0m\u001b[0mDataFrame\u001b[0m\u001b[0;34m(\u001b[0m\u001b[0;34m{\u001b[0m\u001b[0;34m'key'\u001b[0m\u001b[0;34m:\u001b[0m \u001b[0mdf\u001b[0m\u001b[0;34m[\u001b[0m\u001b[0;34m'구분'\u001b[0m\u001b[0;34m]\u001b[0m\u001b[0;34m[\u001b[0m\u001b[0;36m1\u001b[0m\u001b[0;34m:\u001b[0m\u001b[0;36m18\u001b[0m\u001b[0;34m]\u001b[0m\u001b[0;34m,\u001b[0m\u001b[0;34m'value'\u001b[0m\u001b[0;34m:\u001b[0m \u001b[0mdf\u001b[0m\u001b[0;34m[\u001b[0m\u001b[0;34m'2차접종'\u001b[0m\u001b[0;34m]\u001b[0m\u001b[0;34m[\u001b[0m\u001b[0;34m'당일 실적'\u001b[0m\u001b[0;34m]\u001b[0m\u001b[0;34m[\u001b[0m\u001b[0;36m1\u001b[0m\u001b[0;34m:\u001b[0m\u001b[0;36m18\u001b[0m\u001b[0;34m]\u001b[0m\u001b[0;34m}\u001b[0m\u001b[0;34m)\u001b[0m\u001b[0;34m\u001b[0m\u001b[0;34m\u001b[0m\u001b[0m\n\u001b[0m",
      "\u001b[0;32m~/anaconda3/envs/csy/lib/python3.8/site-packages/pandas/core/frame.py\u001b[0m in \u001b[0;36m__init__\u001b[0;34m(self, data, index, columns, dtype, copy)\u001b[0m\n\u001b[1;32m    612\u001b[0m         \u001b[0;32melif\u001b[0m \u001b[0misinstance\u001b[0m\u001b[0;34m(\u001b[0m\u001b[0mdata\u001b[0m\u001b[0;34m,\u001b[0m \u001b[0mdict\u001b[0m\u001b[0;34m)\u001b[0m\u001b[0;34m:\u001b[0m\u001b[0;34m\u001b[0m\u001b[0;34m\u001b[0m\u001b[0m\n\u001b[1;32m    613\u001b[0m             \u001b[0;31m# GH#38939 de facto copy defaults to False only in non-dict cases\u001b[0m\u001b[0;34m\u001b[0m\u001b[0;34m\u001b[0m\u001b[0;34m\u001b[0m\u001b[0m\n\u001b[0;32m--> 614\u001b[0;31m             \u001b[0mmgr\u001b[0m \u001b[0;34m=\u001b[0m \u001b[0mdict_to_mgr\u001b[0m\u001b[0;34m(\u001b[0m\u001b[0mdata\u001b[0m\u001b[0;34m,\u001b[0m \u001b[0mindex\u001b[0m\u001b[0;34m,\u001b[0m \u001b[0mcolumns\u001b[0m\u001b[0;34m,\u001b[0m \u001b[0mdtype\u001b[0m\u001b[0;34m=\u001b[0m\u001b[0mdtype\u001b[0m\u001b[0;34m,\u001b[0m \u001b[0mcopy\u001b[0m\u001b[0;34m=\u001b[0m\u001b[0mcopy\u001b[0m\u001b[0;34m,\u001b[0m \u001b[0mtyp\u001b[0m\u001b[0;34m=\u001b[0m\u001b[0mmanager\u001b[0m\u001b[0;34m)\u001b[0m\u001b[0;34m\u001b[0m\u001b[0;34m\u001b[0m\u001b[0m\n\u001b[0m\u001b[1;32m    615\u001b[0m         \u001b[0;32melif\u001b[0m \u001b[0misinstance\u001b[0m\u001b[0;34m(\u001b[0m\u001b[0mdata\u001b[0m\u001b[0;34m,\u001b[0m \u001b[0mma\u001b[0m\u001b[0;34m.\u001b[0m\u001b[0mMaskedArray\u001b[0m\u001b[0;34m)\u001b[0m\u001b[0;34m:\u001b[0m\u001b[0;34m\u001b[0m\u001b[0;34m\u001b[0m\u001b[0m\n\u001b[1;32m    616\u001b[0m             \u001b[0;32mimport\u001b[0m \u001b[0mnumpy\u001b[0m\u001b[0;34m.\u001b[0m\u001b[0mma\u001b[0m\u001b[0;34m.\u001b[0m\u001b[0mmrecords\u001b[0m \u001b[0;32mas\u001b[0m \u001b[0mmrecords\u001b[0m\u001b[0;34m\u001b[0m\u001b[0;34m\u001b[0m\u001b[0m\n",
      "\u001b[0;32m~/anaconda3/envs/csy/lib/python3.8/site-packages/pandas/core/internals/construction.py\u001b[0m in \u001b[0;36mdict_to_mgr\u001b[0;34m(data, index, columns, dtype, typ, copy)\u001b[0m\n\u001b[1;32m    462\u001b[0m         \u001b[0;31m# TODO: can we get rid of the dt64tz special case above?\u001b[0m\u001b[0;34m\u001b[0m\u001b[0;34m\u001b[0m\u001b[0;34m\u001b[0m\u001b[0m\n\u001b[1;32m    463\u001b[0m \u001b[0;34m\u001b[0m\u001b[0m\n\u001b[0;32m--> 464\u001b[0;31m     return arrays_to_mgr(\n\u001b[0m\u001b[1;32m    465\u001b[0m         \u001b[0marrays\u001b[0m\u001b[0;34m,\u001b[0m \u001b[0mdata_names\u001b[0m\u001b[0;34m,\u001b[0m \u001b[0mindex\u001b[0m\u001b[0;34m,\u001b[0m \u001b[0mcolumns\u001b[0m\u001b[0;34m,\u001b[0m \u001b[0mdtype\u001b[0m\u001b[0;34m=\u001b[0m\u001b[0mdtype\u001b[0m\u001b[0;34m,\u001b[0m \u001b[0mtyp\u001b[0m\u001b[0;34m=\u001b[0m\u001b[0mtyp\u001b[0m\u001b[0;34m,\u001b[0m \u001b[0mconsolidate\u001b[0m\u001b[0;34m=\u001b[0m\u001b[0mcopy\u001b[0m\u001b[0;34m\u001b[0m\u001b[0;34m\u001b[0m\u001b[0m\n\u001b[1;32m    466\u001b[0m     )\n",
      "\u001b[0;32m~/anaconda3/envs/csy/lib/python3.8/site-packages/pandas/core/internals/construction.py\u001b[0m in \u001b[0;36marrays_to_mgr\u001b[0;34m(arrays, arr_names, index, columns, dtype, verify_integrity, typ, consolidate)\u001b[0m\n\u001b[1;32m    122\u001b[0m \u001b[0;34m\u001b[0m\u001b[0m\n\u001b[1;32m    123\u001b[0m         \u001b[0;31m# don't force copy because getting jammed in an ndarray anyway\u001b[0m\u001b[0;34m\u001b[0m\u001b[0;34m\u001b[0m\u001b[0;34m\u001b[0m\u001b[0m\n\u001b[0;32m--> 124\u001b[0;31m         \u001b[0marrays\u001b[0m \u001b[0;34m=\u001b[0m \u001b[0m_homogenize\u001b[0m\u001b[0;34m(\u001b[0m\u001b[0marrays\u001b[0m\u001b[0;34m,\u001b[0m \u001b[0mindex\u001b[0m\u001b[0;34m,\u001b[0m \u001b[0mdtype\u001b[0m\u001b[0;34m)\u001b[0m\u001b[0;34m\u001b[0m\u001b[0;34m\u001b[0m\u001b[0m\n\u001b[0m\u001b[1;32m    125\u001b[0m \u001b[0;34m\u001b[0m\u001b[0m\n\u001b[1;32m    126\u001b[0m     \u001b[0;32melse\u001b[0m\u001b[0;34m:\u001b[0m\u001b[0;34m\u001b[0m\u001b[0;34m\u001b[0m\u001b[0m\n",
      "\u001b[0;32m~/anaconda3/envs/csy/lib/python3.8/site-packages/pandas/core/internals/construction.py\u001b[0m in \u001b[0;36m_homogenize\u001b[0;34m(data, index, dtype)\u001b[0m\n\u001b[1;32m    587\u001b[0m                 \u001b[0mval\u001b[0m \u001b[0;34m=\u001b[0m \u001b[0mlib\u001b[0m\u001b[0;34m.\u001b[0m\u001b[0mfast_multiget\u001b[0m\u001b[0;34m(\u001b[0m\u001b[0mval\u001b[0m\u001b[0;34m,\u001b[0m \u001b[0moindex\u001b[0m\u001b[0;34m.\u001b[0m\u001b[0m_values\u001b[0m\u001b[0;34m,\u001b[0m \u001b[0mdefault\u001b[0m\u001b[0;34m=\u001b[0m\u001b[0mnp\u001b[0m\u001b[0;34m.\u001b[0m\u001b[0mnan\u001b[0m\u001b[0;34m)\u001b[0m\u001b[0;34m\u001b[0m\u001b[0;34m\u001b[0m\u001b[0m\n\u001b[1;32m    588\u001b[0m \u001b[0;34m\u001b[0m\u001b[0m\n\u001b[0;32m--> 589\u001b[0;31m             val = sanitize_array(\n\u001b[0m\u001b[1;32m    590\u001b[0m                 \u001b[0mval\u001b[0m\u001b[0;34m,\u001b[0m \u001b[0mindex\u001b[0m\u001b[0;34m,\u001b[0m \u001b[0mdtype\u001b[0m\u001b[0;34m=\u001b[0m\u001b[0mdtype\u001b[0m\u001b[0;34m,\u001b[0m \u001b[0mcopy\u001b[0m\u001b[0;34m=\u001b[0m\u001b[0;32mFalse\u001b[0m\u001b[0;34m,\u001b[0m \u001b[0mraise_cast_failure\u001b[0m\u001b[0;34m=\u001b[0m\u001b[0;32mFalse\u001b[0m\u001b[0;34m\u001b[0m\u001b[0;34m\u001b[0m\u001b[0m\n\u001b[1;32m    591\u001b[0m             )\n",
      "\u001b[0;32m~/anaconda3/envs/csy/lib/python3.8/site-packages/pandas/core/construction.py\u001b[0m in \u001b[0;36msanitize_array\u001b[0;34m(data, index, dtype, copy, raise_cast_failure, allow_2d)\u001b[0m\n\u001b[1;32m    569\u001b[0m             \u001b[0msubarr\u001b[0m \u001b[0;34m=\u001b[0m \u001b[0m_try_cast\u001b[0m\u001b[0;34m(\u001b[0m\u001b[0mdata\u001b[0m\u001b[0;34m,\u001b[0m \u001b[0mdtype\u001b[0m\u001b[0;34m,\u001b[0m \u001b[0mcopy\u001b[0m\u001b[0;34m,\u001b[0m \u001b[0mraise_cast_failure\u001b[0m\u001b[0;34m)\u001b[0m\u001b[0;34m\u001b[0m\u001b[0;34m\u001b[0m\u001b[0m\n\u001b[1;32m    570\u001b[0m         \u001b[0;32melse\u001b[0m\u001b[0;34m:\u001b[0m\u001b[0;34m\u001b[0m\u001b[0;34m\u001b[0m\u001b[0m\n\u001b[0;32m--> 571\u001b[0;31m             \u001b[0msubarr\u001b[0m \u001b[0;34m=\u001b[0m \u001b[0mmaybe_convert_platform\u001b[0m\u001b[0;34m(\u001b[0m\u001b[0mdata\u001b[0m\u001b[0;34m)\u001b[0m\u001b[0;34m\u001b[0m\u001b[0;34m\u001b[0m\u001b[0m\n\u001b[0m\u001b[1;32m    572\u001b[0m             \u001b[0;32mif\u001b[0m \u001b[0msubarr\u001b[0m\u001b[0;34m.\u001b[0m\u001b[0mdtype\u001b[0m \u001b[0;34m==\u001b[0m \u001b[0mobject\u001b[0m\u001b[0;34m:\u001b[0m\u001b[0;34m\u001b[0m\u001b[0;34m\u001b[0m\u001b[0m\n\u001b[1;32m    573\u001b[0m                 \u001b[0msubarr\u001b[0m \u001b[0;34m=\u001b[0m \u001b[0mcast\u001b[0m\u001b[0;34m(\u001b[0m\u001b[0mnp\u001b[0m\u001b[0;34m.\u001b[0m\u001b[0mndarray\u001b[0m\u001b[0;34m,\u001b[0m \u001b[0msubarr\u001b[0m\u001b[0;34m)\u001b[0m\u001b[0;34m\u001b[0m\u001b[0;34m\u001b[0m\u001b[0m\n",
      "\u001b[0;32m~/anaconda3/envs/csy/lib/python3.8/site-packages/pandas/core/dtypes/cast.py\u001b[0m in \u001b[0;36mmaybe_convert_platform\u001b[0;34m(values)\u001b[0m\n\u001b[1;32m    124\u001b[0m     \u001b[0;32mif\u001b[0m \u001b[0marr\u001b[0m\u001b[0;34m.\u001b[0m\u001b[0mdtype\u001b[0m \u001b[0;34m==\u001b[0m \u001b[0mobject\u001b[0m\u001b[0;34m:\u001b[0m\u001b[0;34m\u001b[0m\u001b[0;34m\u001b[0m\u001b[0m\n\u001b[1;32m    125\u001b[0m         \u001b[0marr\u001b[0m \u001b[0;34m=\u001b[0m \u001b[0mcast\u001b[0m\u001b[0;34m(\u001b[0m\u001b[0mnp\u001b[0m\u001b[0;34m.\u001b[0m\u001b[0mndarray\u001b[0m\u001b[0;34m,\u001b[0m \u001b[0marr\u001b[0m\u001b[0;34m)\u001b[0m\u001b[0;34m\u001b[0m\u001b[0;34m\u001b[0m\u001b[0m\n\u001b[0;32m--> 126\u001b[0;31m         \u001b[0marr\u001b[0m \u001b[0;34m=\u001b[0m \u001b[0mlib\u001b[0m\u001b[0;34m.\u001b[0m\u001b[0mmaybe_convert_objects\u001b[0m\u001b[0;34m(\u001b[0m\u001b[0marr\u001b[0m\u001b[0;34m)\u001b[0m\u001b[0;34m\u001b[0m\u001b[0;34m\u001b[0m\u001b[0m\n\u001b[0m\u001b[1;32m    127\u001b[0m \u001b[0;34m\u001b[0m\u001b[0m\n\u001b[1;32m    128\u001b[0m     \u001b[0;32mreturn\u001b[0m \u001b[0marr\u001b[0m\u001b[0;34m\u001b[0m\u001b[0;34m\u001b[0m\u001b[0m\n",
      "\u001b[0;32m~/anaconda3/envs/csy/lib/python3.8/site-packages/pandas/_libs/lib.pyx\u001b[0m in \u001b[0;36mpandas._libs.lib.maybe_convert_objects\u001b[0;34m()\u001b[0m\n",
      "\u001b[0;31mValueError\u001b[0m: Buffer has wrong number of dimensions (expected 1, got 2)"
     ]
    }
   ],
   "source": [
    "pd.DataFrame({'key': df['구분'][1:18],'value': df['2차접종']['당일 실적'][1:18]})"
   ]
  },
  {
   "cell_type": "code",
   "execution_count": null,
   "id": "e746db83-65ce-45a1-b026-42573012b8f4",
   "metadata": {},
   "outputs": [],
   "source": [
    ".tolist()"
   ]
  },
  {
   "cell_type": "code",
   "execution_count": 80,
   "id": "52ff225f-1491-4a78-83d7-2bd7c83e57d2",
   "metadata": {},
   "outputs": [
    {
     "data": {
      "text/plain": [
       "[1     14436\n",
       " 2      5221\n",
       " 3      3888\n",
       " 4      5220\n",
       " 5      3087\n",
       " 6      2394\n",
       " 7      1763\n",
       " 8       504\n",
       " 9     25158\n",
       " 10     2557\n",
       " 11     2788\n",
       " 12     3799\n",
       " 13     3780\n",
       " 14     3166\n",
       " 15     4478\n",
       " 16     5578\n",
       " 17     1452\n",
       " Name: 당일 실적, dtype: int64]"
      ]
     },
     "execution_count": 85,
     "metadata": {},
     "output_type": "execute_result"
    }
   ],
   "source": [
    "np.array([pd.read_html('https://ncv.kdca.go.kr/mainStatus.es?mid=a11702000000',encoding='utf-8')[1]['2차접종']['당일 실적'][1:18]])"
   ]
  },
  {
   "cell_type": "code",
   "execution_count": 77,
   "id": "19b41848-f468-4a39-a5ca-dfc1fb0aae08",
   "metadata": {},
   "outputs": [
    {
     "data": {
      "text/plain": [
       "[1     14436\n",
       " 2      5221\n",
       " 3      3888\n",
       " 4      5220\n",
       " 5      3087\n",
       " 6      2394\n",
       " 7      1763\n",
       " 8       504\n",
       " 9     25158\n",
       " 10     2557\n",
       " 11     2788\n",
       " 12     3799\n",
       " 13     3780\n",
       " 14     3166\n",
       " 15     4478\n",
       " 16     5578\n",
       " 17     1452\n",
       " Name: 당일 실적, dtype: int64]"
      ]
     },
     "execution_count": 77,
     "metadata": {},
     "output_type": "execute_result"
    }
   ],
   "source": [
    "list([pd.read_html('https://ncv.kdca.go.kr/mainStatus.es?mid=a11702000000',encoding='utf-8')[1]['2차접종']['당일 실적'][1:18]])"
   ]
  },
  {
   "cell_type": "code",
   "execution_count": 88,
   "id": "27c15cab-7621-42cd-baa2-6ffef6fe3c7f",
   "metadata": {},
   "outputs": [
    {
     "data": {
      "text/plain": [
       "['서울',\n",
       " '부산',\n",
       " '대구',\n",
       " '인천',\n",
       " '광주',\n",
       " '대전',\n",
       " '울산',\n",
       " '세종',\n",
       " '경기',\n",
       " '강원',\n",
       " '충북',\n",
       " '충남',\n",
       " '전북',\n",
       " '전남',\n",
       " '경북',\n",
       " '경남',\n",
       " '제주']"
      ]
     },
     "execution_count": 88,
     "metadata": {},
     "output_type": "execute_result"
    }
   ],
   "source": [
    "list(df.iloc[1:,0])"
   ]
  },
  {
   "cell_type": "code",
   "execution_count": 89,
   "id": "8a15cb14-1b7e-420d-9da3-975b2c4a383e",
   "metadata": {},
   "outputs": [
    {
     "ename": "ValueError",
     "evalue": "All arrays must be of the same length",
     "output_type": "error",
     "traceback": [
      "\u001b[0;31m---------------------------------------------------------------------------\u001b[0m",
      "\u001b[0;31mValueError\u001b[0m                                Traceback (most recent call last)",
      "\u001b[0;32m/tmp/ipykernel_63047/3665722581.py\u001b[0m in \u001b[0;36m<module>\u001b[0;34m\u001b[0m\n\u001b[0;32m----> 1\u001b[0;31m \u001b[0mdf\u001b[0m \u001b[0;34m=\u001b[0m \u001b[0mpd\u001b[0m\u001b[0;34m.\u001b[0m\u001b[0mDataFrame\u001b[0m\u001b[0;34m(\u001b[0m\u001b[0;34m{\u001b[0m\u001b[0;34m'key'\u001b[0m\u001b[0;34m:\u001b[0m\u001b[0mlist\u001b[0m\u001b[0;34m(\u001b[0m\u001b[0mdf\u001b[0m\u001b[0;34m.\u001b[0m\u001b[0miloc\u001b[0m\u001b[0;34m[\u001b[0m\u001b[0;36m1\u001b[0m\u001b[0;34m:\u001b[0m\u001b[0;34m,\u001b[0m\u001b[0;36m0\u001b[0m\u001b[0;34m]\u001b[0m\u001b[0;34m)\u001b[0m\u001b[0;34m,\u001b[0m\u001b[0;34m'value'\u001b[0m\u001b[0;34m:\u001b[0m\u001b[0;34m[\u001b[0m\u001b[0mpd\u001b[0m\u001b[0;34m.\u001b[0m\u001b[0mread_html\u001b[0m\u001b[0;34m(\u001b[0m\u001b[0;34m'https://ncv.kdca.go.kr/mainStatus.es?mid=a11702000000'\u001b[0m\u001b[0;34m,\u001b[0m\u001b[0mencoding\u001b[0m\u001b[0;34m=\u001b[0m\u001b[0;34m'utf-8'\u001b[0m\u001b[0;34m)\u001b[0m\u001b[0;34m[\u001b[0m\u001b[0;36m1\u001b[0m\u001b[0;34m]\u001b[0m\u001b[0;34m[\u001b[0m\u001b[0;34m'2차접종'\u001b[0m\u001b[0;34m]\u001b[0m\u001b[0;34m[\u001b[0m\u001b[0;34m'당일 실적'\u001b[0m\u001b[0;34m]\u001b[0m\u001b[0;34m[\u001b[0m\u001b[0;36m1\u001b[0m\u001b[0;34m:\u001b[0m\u001b[0;36m18\u001b[0m\u001b[0;34m]\u001b[0m\u001b[0;34m]\u001b[0m\u001b[0;34m}\u001b[0m\u001b[0;34m)\u001b[0m\u001b[0;34m\u001b[0m\u001b[0;34m\u001b[0m\u001b[0m\n\u001b[0m\u001b[1;32m      2\u001b[0m \u001b[0mdf\u001b[0m\u001b[0;34m\u001b[0m\u001b[0;34m\u001b[0m\u001b[0m\n",
      "\u001b[0;32m~/anaconda3/envs/csy/lib/python3.8/site-packages/pandas/core/frame.py\u001b[0m in \u001b[0;36m__init__\u001b[0;34m(self, data, index, columns, dtype, copy)\u001b[0m\n\u001b[1;32m    612\u001b[0m         \u001b[0;32melif\u001b[0m \u001b[0misinstance\u001b[0m\u001b[0;34m(\u001b[0m\u001b[0mdata\u001b[0m\u001b[0;34m,\u001b[0m \u001b[0mdict\u001b[0m\u001b[0;34m)\u001b[0m\u001b[0;34m:\u001b[0m\u001b[0;34m\u001b[0m\u001b[0;34m\u001b[0m\u001b[0m\n\u001b[1;32m    613\u001b[0m             \u001b[0;31m# GH#38939 de facto copy defaults to False only in non-dict cases\u001b[0m\u001b[0;34m\u001b[0m\u001b[0;34m\u001b[0m\u001b[0;34m\u001b[0m\u001b[0m\n\u001b[0;32m--> 614\u001b[0;31m             \u001b[0mmgr\u001b[0m \u001b[0;34m=\u001b[0m \u001b[0mdict_to_mgr\u001b[0m\u001b[0;34m(\u001b[0m\u001b[0mdata\u001b[0m\u001b[0;34m,\u001b[0m \u001b[0mindex\u001b[0m\u001b[0;34m,\u001b[0m \u001b[0mcolumns\u001b[0m\u001b[0;34m,\u001b[0m \u001b[0mdtype\u001b[0m\u001b[0;34m=\u001b[0m\u001b[0mdtype\u001b[0m\u001b[0;34m,\u001b[0m \u001b[0mcopy\u001b[0m\u001b[0;34m=\u001b[0m\u001b[0mcopy\u001b[0m\u001b[0;34m,\u001b[0m \u001b[0mtyp\u001b[0m\u001b[0;34m=\u001b[0m\u001b[0mmanager\u001b[0m\u001b[0;34m)\u001b[0m\u001b[0;34m\u001b[0m\u001b[0;34m\u001b[0m\u001b[0m\n\u001b[0m\u001b[1;32m    615\u001b[0m         \u001b[0;32melif\u001b[0m \u001b[0misinstance\u001b[0m\u001b[0;34m(\u001b[0m\u001b[0mdata\u001b[0m\u001b[0;34m,\u001b[0m \u001b[0mma\u001b[0m\u001b[0;34m.\u001b[0m\u001b[0mMaskedArray\u001b[0m\u001b[0;34m)\u001b[0m\u001b[0;34m:\u001b[0m\u001b[0;34m\u001b[0m\u001b[0;34m\u001b[0m\u001b[0m\n\u001b[1;32m    616\u001b[0m             \u001b[0;32mimport\u001b[0m \u001b[0mnumpy\u001b[0m\u001b[0;34m.\u001b[0m\u001b[0mma\u001b[0m\u001b[0;34m.\u001b[0m\u001b[0mmrecords\u001b[0m \u001b[0;32mas\u001b[0m \u001b[0mmrecords\u001b[0m\u001b[0;34m\u001b[0m\u001b[0;34m\u001b[0m\u001b[0m\n",
      "\u001b[0;32m~/anaconda3/envs/csy/lib/python3.8/site-packages/pandas/core/internals/construction.py\u001b[0m in \u001b[0;36mdict_to_mgr\u001b[0;34m(data, index, columns, dtype, typ, copy)\u001b[0m\n\u001b[1;32m    462\u001b[0m         \u001b[0;31m# TODO: can we get rid of the dt64tz special case above?\u001b[0m\u001b[0;34m\u001b[0m\u001b[0;34m\u001b[0m\u001b[0;34m\u001b[0m\u001b[0m\n\u001b[1;32m    463\u001b[0m \u001b[0;34m\u001b[0m\u001b[0m\n\u001b[0;32m--> 464\u001b[0;31m     return arrays_to_mgr(\n\u001b[0m\u001b[1;32m    465\u001b[0m         \u001b[0marrays\u001b[0m\u001b[0;34m,\u001b[0m \u001b[0mdata_names\u001b[0m\u001b[0;34m,\u001b[0m \u001b[0mindex\u001b[0m\u001b[0;34m,\u001b[0m \u001b[0mcolumns\u001b[0m\u001b[0;34m,\u001b[0m \u001b[0mdtype\u001b[0m\u001b[0;34m=\u001b[0m\u001b[0mdtype\u001b[0m\u001b[0;34m,\u001b[0m \u001b[0mtyp\u001b[0m\u001b[0;34m=\u001b[0m\u001b[0mtyp\u001b[0m\u001b[0;34m,\u001b[0m \u001b[0mconsolidate\u001b[0m\u001b[0;34m=\u001b[0m\u001b[0mcopy\u001b[0m\u001b[0;34m\u001b[0m\u001b[0;34m\u001b[0m\u001b[0m\n\u001b[1;32m    466\u001b[0m     )\n",
      "\u001b[0;32m~/anaconda3/envs/csy/lib/python3.8/site-packages/pandas/core/internals/construction.py\u001b[0m in \u001b[0;36marrays_to_mgr\u001b[0;34m(arrays, arr_names, index, columns, dtype, verify_integrity, typ, consolidate)\u001b[0m\n\u001b[1;32m    117\u001b[0m         \u001b[0;31m# figure out the index, if necessary\u001b[0m\u001b[0;34m\u001b[0m\u001b[0;34m\u001b[0m\u001b[0;34m\u001b[0m\u001b[0m\n\u001b[1;32m    118\u001b[0m         \u001b[0;32mif\u001b[0m \u001b[0mindex\u001b[0m \u001b[0;32mis\u001b[0m \u001b[0;32mNone\u001b[0m\u001b[0;34m:\u001b[0m\u001b[0;34m\u001b[0m\u001b[0;34m\u001b[0m\u001b[0m\n\u001b[0;32m--> 119\u001b[0;31m             \u001b[0mindex\u001b[0m \u001b[0;34m=\u001b[0m \u001b[0m_extract_index\u001b[0m\u001b[0;34m(\u001b[0m\u001b[0marrays\u001b[0m\u001b[0;34m)\u001b[0m\u001b[0;34m\u001b[0m\u001b[0;34m\u001b[0m\u001b[0m\n\u001b[0m\u001b[1;32m    120\u001b[0m         \u001b[0;32melse\u001b[0m\u001b[0;34m:\u001b[0m\u001b[0;34m\u001b[0m\u001b[0;34m\u001b[0m\u001b[0m\n\u001b[1;32m    121\u001b[0m             \u001b[0mindex\u001b[0m \u001b[0;34m=\u001b[0m \u001b[0mensure_index\u001b[0m\u001b[0;34m(\u001b[0m\u001b[0mindex\u001b[0m\u001b[0;34m)\u001b[0m\u001b[0;34m\u001b[0m\u001b[0;34m\u001b[0m\u001b[0m\n",
      "\u001b[0;32m~/anaconda3/envs/csy/lib/python3.8/site-packages/pandas/core/internals/construction.py\u001b[0m in \u001b[0;36m_extract_index\u001b[0;34m(data)\u001b[0m\n\u001b[1;32m    633\u001b[0m             \u001b[0mlengths\u001b[0m \u001b[0;34m=\u001b[0m \u001b[0mlist\u001b[0m\u001b[0;34m(\u001b[0m\u001b[0mset\u001b[0m\u001b[0;34m(\u001b[0m\u001b[0mraw_lengths\u001b[0m\u001b[0;34m)\u001b[0m\u001b[0;34m)\u001b[0m\u001b[0;34m\u001b[0m\u001b[0;34m\u001b[0m\u001b[0m\n\u001b[1;32m    634\u001b[0m             \u001b[0;32mif\u001b[0m \u001b[0mlen\u001b[0m\u001b[0;34m(\u001b[0m\u001b[0mlengths\u001b[0m\u001b[0;34m)\u001b[0m \u001b[0;34m>\u001b[0m \u001b[0;36m1\u001b[0m\u001b[0;34m:\u001b[0m\u001b[0;34m\u001b[0m\u001b[0;34m\u001b[0m\u001b[0m\n\u001b[0;32m--> 635\u001b[0;31m                 \u001b[0;32mraise\u001b[0m \u001b[0mValueError\u001b[0m\u001b[0;34m(\u001b[0m\u001b[0;34m\"All arrays must be of the same length\"\u001b[0m\u001b[0;34m)\u001b[0m\u001b[0;34m\u001b[0m\u001b[0;34m\u001b[0m\u001b[0m\n\u001b[0m\u001b[1;32m    636\u001b[0m \u001b[0;34m\u001b[0m\u001b[0m\n\u001b[1;32m    637\u001b[0m             \u001b[0;32mif\u001b[0m \u001b[0mhave_dicts\u001b[0m\u001b[0;34m:\u001b[0m\u001b[0;34m\u001b[0m\u001b[0;34m\u001b[0m\u001b[0m\n",
      "\u001b[0;31mValueError\u001b[0m: All arrays must be of the same length"
     ]
    }
   ],
   "source": [
    "df = pd.DataFrame({'key':list(df.iloc[1:,0]),'value':[pd.read_html('https://ncv.kdca.go.kr/mainStatus.es?mid=a11702000000',encoding='utf-8')[1]['2차접종']['당일 실적'][1:18]]})\n",
    "df"
   ]
  },
  {
   "cell_type": "code",
   "execution_count": null,
   "id": "c3305ee6-b4f0-4b6f-8134-09ee3e2a2906",
   "metadata": {},
   "outputs": [],
   "source": [
    "m = folium.Map([34,27],zoomstart=7,scrollWheelZoom=False)\n",
    "choro = folium.Choropleth(\n",
    "    data=df, \n",
    "    geo_data=global_dict,\n",
    "    columns=['구분','value'],\n",
    "    key_on = 'feature.properties.name'\n",
    ")\n",
    "choro.add_to(m) "
   ]
  },
  {
   "cell_type": "markdown",
   "id": "0eaa1bf7-6a90-465d-a356-12022275fa71",
   "metadata": {
    "id": "c7ac6051-2e79-4311-90ec-2b2ef35ad14d"
   },
   "source": [
    "**힌트3.** 아래의 주소에서 json을 파일을 읽어온뒤 choroplethmap을 그릴때 이용하라. \n",
    "```\n",
    "https://raw.githubusercontent.com/southkorea/southkorea-maps/master/kostat/2018/json/skorea-provinces-2018-geo.json\n",
    "```"
   ]
  },
  {
   "cell_type": "markdown",
   "id": "891dd1bc-10bd-4f85-946e-2c0da0620ecf",
   "metadata": {
    "id": "76ffdfa8-6253-4d88-83a5-2cb5d1590f95"
   },
   "source": [
    "**힌트4.** json파일의 지역명과 `https://ncv.kdca.go.kr/mainStatus.es?mid=a11702000000`의 지역이름을 맞추어라. json파일의 지역명은 아래와 같은 코드로 확인할 수 있다. \n",
    "```python\n",
    "[global_dict['features'][i]['properties']['name'] for i in range(17)]\n",
    "```\n",
    "```\n",
    "['서울특별시',\n",
    " '부산광역시',\n",
    " '대구광역시',\n",
    " '인천광역시',\n",
    " '광주광역시',\n",
    " '대전광역시',\n",
    " '울산광역시',\n",
    " '세종특별자치시',\n",
    " '경기도',\n",
    " '강원도',\n",
    " '충청북도',\n",
    " '충청남도',\n",
    " '전라북도',\n",
    " '전라남도',\n",
    " '경상북도',\n",
    " '경상남도',\n",
    " '제주특별자치도']\n",
    "```\n",
    "\n",
    "- 여기에서 `global_dict`는 json파일을 dict의 형태로 저장한 변수명이다. "
   ]
  },
  {
   "cell_type": "markdown",
   "id": "d2c47647-79ae-41dc-813c-dd9efdd6013a",
   "metadata": {
    "id": "264c0214-108f-4776-b415-1d086de334b8"
   },
   "source": [
    "**힌트5.** 지역별 접종률은 아래의 수식으로 구한다. \n",
    "\n",
    "$$\n",
    "\\textbf{서울특별시 2차접종 접종률}=\\frac{\\textbf{서울특별시 2차접종 당일누계}}{\\textbf{서울특별시 인구수}}\n",
    "$$\n",
    "\n",
    "이때 위의 수식의 분모에 사용할 시도별 인구수는 아래의 주소에서 얻을 수 있다. \n",
    "```\n",
    "https://raw.githubusercontent.com/guebin/2021DV/master/_notebooks/2021-11-22-prov.csv\n",
    "```"
   ]
  },
  {
   "cell_type": "markdown",
   "id": "d57ae1d3-caaf-4e17-97c2-7d3f27fd0105",
   "metadata": {
    "id": "3d89fe40-fc5d-4992-9d28-5a4bfe935e40"
   },
   "source": [
    "**힌트6.** 시도별 접종률의 결과는 아래와 같다. "
   ]
  },
  {
   "cell_type": "code",
   "execution_count": null,
   "id": "d99a8a46-b6e6-4c48-a049-56215b97cc10",
   "metadata": {
    "id": "a4fcc518-f0c8-4bef-8514-6e5a9fa7f7da",
    "outputId": "58599f2b-d6d8-4bda-b92c-68c8c4ef8691"
   },
   "outputs": [
    {
     "data": {
      "text/html": [
       "<table border=\"1\" class=\"dataframe\">\n",
       "  <thead>\n",
       "    <tr style=\"text-align: right;\">\n",
       "      <th></th>\n",
       "      <th>prov</th>\n",
       "      <th>prop</th>\n",
       "    </tr>\n",
       "  </thead>\n",
       "  <tbody>\n",
       "    <tr>\n",
       "      <th>0</th>\n",
       "      <td>서울특별시</td>\n",
       "      <td>0.807572</td>\n",
       "    </tr>\n",
       "    <tr>\n",
       "      <th>1</th>\n",
       "      <td>부산광역시</td>\n",
       "      <td>0.784046</td>\n",
       "    </tr>\n",
       "    <tr>\n",
       "      <th>2</th>\n",
       "      <td>대구광역시</td>\n",
       "      <td>0.765463</td>\n",
       "    </tr>\n",
       "    <tr>\n",
       "      <th>3</th>\n",
       "      <td>인천광역시</td>\n",
       "      <td>0.796909</td>\n",
       "    </tr>\n",
       "    <tr>\n",
       "      <th>4</th>\n",
       "      <td>광주광역시</td>\n",
       "      <td>0.792597</td>\n",
       "    </tr>\n",
       "    <tr>\n",
       "      <th>5</th>\n",
       "      <td>대전광역시</td>\n",
       "      <td>0.778911</td>\n",
       "    </tr>\n",
       "    <tr>\n",
       "      <th>6</th>\n",
       "      <td>울산광역시</td>\n",
       "      <td>0.783887</td>\n",
       "    </tr>\n",
       "    <tr>\n",
       "      <th>7</th>\n",
       "      <td>세종특별자치시</td>\n",
       "      <td>0.711043</td>\n",
       "    </tr>\n",
       "    <tr>\n",
       "      <th>8</th>\n",
       "      <td>경기도</td>\n",
       "      <td>0.796228</td>\n",
       "    </tr>\n",
       "    <tr>\n",
       "      <th>9</th>\n",
       "      <td>강원도</td>\n",
       "      <td>0.804555</td>\n",
       "    </tr>\n",
       "    <tr>\n",
       "      <th>10</th>\n",
       "      <td>충청북도</td>\n",
       "      <td>0.818569</td>\n",
       "    </tr>\n",
       "    <tr>\n",
       "      <th>11</th>\n",
       "      <td>충청남도</td>\n",
       "      <td>0.814271</td>\n",
       "    </tr>\n",
       "    <tr>\n",
       "      <th>12</th>\n",
       "      <td>전라북도</td>\n",
       "      <td>0.815779</td>\n",
       "    </tr>\n",
       "    <tr>\n",
       "      <th>13</th>\n",
       "      <td>전라남도</td>\n",
       "      <td>0.828873</td>\n",
       "    </tr>\n",
       "    <tr>\n",
       "      <th>14</th>\n",
       "      <td>경상북도</td>\n",
       "      <td>0.793502</td>\n",
       "    </tr>\n",
       "    <tr>\n",
       "      <th>15</th>\n",
       "      <td>경상남도</td>\n",
       "      <td>0.787922</td>\n",
       "    </tr>\n",
       "    <tr>\n",
       "      <th>16</th>\n",
       "      <td>제주특별자치도</td>\n",
       "      <td>0.782127</td>\n",
       "    </tr>\n",
       "  </tbody>\n",
       "</table>"
      ],
      "text/plain": [
       "<IPython.core.display.HTML object>"
      ]
     },
     "execution_count": 60,
     "metadata": {},
     "output_type": "execute_result"
    }
   ],
   "source": [
    "#hide_input\n",
    "IPython.display.HTML('<table border=\"1\" class=\"dataframe\">\\n  <thead>\\n    <tr style=\"text-align: right;\">\\n      <th></th>\\n      <th>prov</th>\\n      <th>prop</th>\\n    </tr>\\n  </thead>\\n  <tbody>\\n    <tr>\\n      <th>0</th>\\n      <td>서울특별시</td>\\n      <td>0.807572</td>\\n    </tr>\\n    <tr>\\n      <th>1</th>\\n      <td>부산광역시</td>\\n      <td>0.784046</td>\\n    </tr>\\n    <tr>\\n      <th>2</th>\\n      <td>대구광역시</td>\\n      <td>0.765463</td>\\n    </tr>\\n    <tr>\\n      <th>3</th>\\n      <td>인천광역시</td>\\n      <td>0.796909</td>\\n    </tr>\\n    <tr>\\n      <th>4</th>\\n      <td>광주광역시</td>\\n      <td>0.792597</td>\\n    </tr>\\n    <tr>\\n      <th>5</th>\\n      <td>대전광역시</td>\\n      <td>0.778911</td>\\n    </tr>\\n    <tr>\\n      <th>6</th>\\n      <td>울산광역시</td>\\n      <td>0.783887</td>\\n    </tr>\\n    <tr>\\n      <th>7</th>\\n      <td>세종특별자치시</td>\\n      <td>0.711043</td>\\n    </tr>\\n    <tr>\\n      <th>8</th>\\n      <td>경기도</td>\\n      <td>0.796228</td>\\n    </tr>\\n    <tr>\\n      <th>9</th>\\n      <td>강원도</td>\\n      <td>0.804555</td>\\n    </tr>\\n    <tr>\\n      <th>10</th>\\n      <td>충청북도</td>\\n      <td>0.818569</td>\\n    </tr>\\n    <tr>\\n      <th>11</th>\\n      <td>충청남도</td>\\n      <td>0.814271</td>\\n    </tr>\\n    <tr>\\n      <th>12</th>\\n      <td>전라북도</td>\\n      <td>0.815779</td>\\n    </tr>\\n    <tr>\\n      <th>13</th>\\n      <td>전라남도</td>\\n      <td>0.828873</td>\\n    </tr>\\n    <tr>\\n      <th>14</th>\\n      <td>경상북도</td>\\n      <td>0.793502</td>\\n    </tr>\\n    <tr>\\n      <th>15</th>\\n      <td>경상남도</td>\\n      <td>0.787922</td>\\n    </tr>\\n    <tr>\\n      <th>16</th>\\n      <td>제주특별자치도</td>\\n      <td>0.782127</td>\\n    </tr>\\n  </tbody>\\n</table>')"
   ]
  },
  {
   "cell_type": "code",
   "execution_count": null,
   "id": "cdc48677-218c-43c2-b4e3-35d36f157804",
   "metadata": {},
   "outputs": [],
   "source": []
  }
 ],
 "metadata": {
  "kernelspec": {
   "display_name": "Python 3 (ipykernel)",
   "language": "python",
   "name": "python3"
  },
  "language_info": {
   "codemirror_mode": {
    "name": "ipython",
    "version": 3
   },
   "file_extension": ".py",
   "mimetype": "text/x-python",
   "name": "python",
   "nbconvert_exporter": "python",
   "pygments_lexer": "ipython3",
   "version": "3.8.12"
  }
 },
 "nbformat": 4,
 "nbformat_minor": 5
}
