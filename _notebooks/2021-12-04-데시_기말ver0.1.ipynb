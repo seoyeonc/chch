{
 "cells": [
  {
   "cell_type": "markdown",
   "id": "37010cdf-7c1f-446c-a969-5073ced45153",
   "metadata": {
    "id": "6519ad2b-5e42-41bf-946a-b107c2605c48",
    "tags": []
   },
   "source": [
    "# 기말고사 예상문제 (ver 0.1)\n",
    "> \n",
    "\n",
    "- toc:true\n",
    "- branch: master\n",
    "- badges: true\n",
    "- comments: false\n",
    "- author: 최서연"
   ]
  },
  {
   "cell_type": "code",
   "execution_count": 1,
   "id": "2ff39d78-4f2b-4638-95f5-e1feb12f4021",
   "metadata": {},
   "outputs": [],
   "source": [
    "import pandas as pd\n",
    "import numpy as np\n",
    "import matplotlib.pyplot as plt\n",
    "import folium\n",
    "import json\n",
    "import requests"
   ]
  },
  {
   "cell_type": "markdown",
   "id": "f8450425-c05a-4bb8-b428-068802e9e6ad",
   "metadata": {
    "id": "6ee6117a-d997-40a1-a023-5798113920e4",
    "tags": []
   },
   "source": [
    "## `#1`. COVID19 시도별 접종률 시각화"
   ]
  },
  {
   "cell_type": "markdown",
   "id": "bf2e04a4-aaf2-4a56-a98d-27c83f64cc60",
   "metadata": {
    "id": "0d54fb58-6de1-43ee-87b2-862675fa6f4f"
   },
   "source": [
    "아래의 그림은 COVID19 예방접종의 시도별 현황을 캡쳐한 것이다. \n",
    "\n",
    "![](https://github.com/guebin/2021DV/blob/master/_notebooks/final_FIG1.png?raw=true \"그림1: COVID19 예방접종의 시도별 현황\")\n",
    "\n",
    "이 정보는 특정 주기로 업데이트 되며 아래의 웹페이지 2번째 테이블에서 확인할 수 있다. \n",
    "```\n",
    "https://ncv.kdca.go.kr/mainStatus.es?mid=a11702000000\n",
    "```\n",
    "판다스의 `pd.read_html()` 함수를 이용해 위의 페이지에서 그림1의 테이블을 읽어오라. 그리고 folium의 choroplethmap을 활용하여 시도별 2차접종의 접종률을 시각화 하라. 시각화 예시는 그림2와 같다. "
   ]
  },
  {
   "cell_type": "markdown",
   "id": "aa67533f-a46d-49ce-b2c0-6f82edf3087c",
   "metadata": {
    "id": "f8c0b627-afbd-432e-a729-8ae24a543add"
   },
   "source": [
    "![](https://github.com/guebin/2021DV/blob/master/_notebooks/final_FIG2.png?raw=true \"그림2: 문제1의 답안예시\")"
   ]
  },
  {
   "cell_type": "markdown",
   "id": "de464cab-8059-49ee-8799-1c8b8b8b1764",
   "metadata": {
    "id": "67f4058b-59b8-47d2-8028-4ec6deb32293"
   },
   "source": [
    "---"
   ]
  },
  {
   "cell_type": "markdown",
   "id": "a218c2b7-f6ae-4345-a471-2a3b1710851b",
   "metadata": {
    "id": "0d4c826b-eb93-460d-b3f1-f0b02cc605f1"
   },
   "source": [
    "**힌트1.** pd.read_html()을 이용할때 `encoding='utf-8'`옵션을 사용하라. \n",
    "\n",
    "**힌트2.** `https://ncv.kdca.go.kr/mainStatus.es?mid=a11702000000`의 2번째 테이블을 판다스로 읽어온 결과는 아래와 같아야 한다. "
   ]
  },
  {
   "cell_type": "code",
   "execution_count": 2,
   "id": "82f48a36-8f9c-44a3-9eb3-9fa231fc3f05",
   "metadata": {},
   "outputs": [
    {
     "data": {
      "text/html": [
       "<div>\n",
       "<style scoped>\n",
       "    .dataframe tbody tr th:only-of-type {\n",
       "        vertical-align: middle;\n",
       "    }\n",
       "\n",
       "    .dataframe tbody tr th {\n",
       "        vertical-align: top;\n",
       "    }\n",
       "\n",
       "    .dataframe thead tr th {\n",
       "        text-align: left;\n",
       "    }\n",
       "</style>\n",
       "<table border=\"1\" class=\"dataframe\">\n",
       "  <thead>\n",
       "    <tr>\n",
       "      <th></th>\n",
       "      <th>구분</th>\n",
       "      <th colspan=\"2\" halign=\"left\">1차접종</th>\n",
       "      <th colspan=\"2\" halign=\"left\">2차접종</th>\n",
       "      <th colspan=\"2\" halign=\"left\">3차(부스터)접종</th>\n",
       "    </tr>\n",
       "    <tr>\n",
       "      <th></th>\n",
       "      <th>구분</th>\n",
       "      <th>당일 실적</th>\n",
       "      <th>당일 누계</th>\n",
       "      <th>당일 실적</th>\n",
       "      <th>당일 누계</th>\n",
       "      <th>당일 실적</th>\n",
       "      <th>당일 누계</th>\n",
       "    </tr>\n",
       "  </thead>\n",
       "  <tbody>\n",
       "    <tr>\n",
       "      <th>0</th>\n",
       "      <td>합계</td>\n",
       "      <td>33213</td>\n",
       "      <td>42653944</td>\n",
       "      <td>89269</td>\n",
       "      <td>41284671</td>\n",
       "      <td>276997</td>\n",
       "      <td>3852154</td>\n",
       "    </tr>\n",
       "    <tr>\n",
       "      <th>1</th>\n",
       "      <td>서울</td>\n",
       "      <td>6418</td>\n",
       "      <td>7940840</td>\n",
       "      <td>14436</td>\n",
       "      <td>7713303</td>\n",
       "      <td>56517</td>\n",
       "      <td>707480</td>\n",
       "    </tr>\n",
       "    <tr>\n",
       "      <th>2</th>\n",
       "      <td>부산</td>\n",
       "      <td>2051</td>\n",
       "      <td>2726236</td>\n",
       "      <td>5221</td>\n",
       "      <td>2636872</td>\n",
       "      <td>18930</td>\n",
       "      <td>228368</td>\n",
       "    </tr>\n",
       "    <tr>\n",
       "      <th>3</th>\n",
       "      <td>대구</td>\n",
       "      <td>1475</td>\n",
       "      <td>1897268</td>\n",
       "      <td>3888</td>\n",
       "      <td>1834006</td>\n",
       "      <td>11380</td>\n",
       "      <td>142130</td>\n",
       "    </tr>\n",
       "    <tr>\n",
       "      <th>4</th>\n",
       "      <td>인천</td>\n",
       "      <td>2003</td>\n",
       "      <td>2433177</td>\n",
       "      <td>5220</td>\n",
       "      <td>2352331</td>\n",
       "      <td>13520</td>\n",
       "      <td>197197</td>\n",
       "    </tr>\n",
       "    <tr>\n",
       "      <th>5</th>\n",
       "      <td>광주</td>\n",
       "      <td>968</td>\n",
       "      <td>1191290</td>\n",
       "      <td>3087</td>\n",
       "      <td>1146427</td>\n",
       "      <td>7702</td>\n",
       "      <td>115764</td>\n",
       "    </tr>\n",
       "    <tr>\n",
       "      <th>6</th>\n",
       "      <td>대전</td>\n",
       "      <td>956</td>\n",
       "      <td>1174705</td>\n",
       "      <td>2394</td>\n",
       "      <td>1135182</td>\n",
       "      <td>7314</td>\n",
       "      <td>100144</td>\n",
       "    </tr>\n",
       "    <tr>\n",
       "      <th>7</th>\n",
       "      <td>울산</td>\n",
       "      <td>588</td>\n",
       "      <td>909397</td>\n",
       "      <td>1763</td>\n",
       "      <td>881739</td>\n",
       "      <td>4245</td>\n",
       "      <td>63273</td>\n",
       "    </tr>\n",
       "    <tr>\n",
       "      <th>8</th>\n",
       "      <td>세종</td>\n",
       "      <td>242</td>\n",
       "      <td>272614</td>\n",
       "      <td>504</td>\n",
       "      <td>262391</td>\n",
       "      <td>1493</td>\n",
       "      <td>23646</td>\n",
       "    </tr>\n",
       "    <tr>\n",
       "      <th>9</th>\n",
       "      <td>경기</td>\n",
       "      <td>9350</td>\n",
       "      <td>11164316</td>\n",
       "      <td>25158</td>\n",
       "      <td>10814771</td>\n",
       "      <td>64392</td>\n",
       "      <td>942731</td>\n",
       "    </tr>\n",
       "    <tr>\n",
       "      <th>10</th>\n",
       "      <td>강원</td>\n",
       "      <td>871</td>\n",
       "      <td>1280486</td>\n",
       "      <td>2557</td>\n",
       "      <td>1239767</td>\n",
       "      <td>9204</td>\n",
       "      <td>127833</td>\n",
       "    </tr>\n",
       "    <tr>\n",
       "      <th>11</th>\n",
       "      <td>충북</td>\n",
       "      <td>828</td>\n",
       "      <td>1353202</td>\n",
       "      <td>2788</td>\n",
       "      <td>1310105</td>\n",
       "      <td>8890</td>\n",
       "      <td>134138</td>\n",
       "    </tr>\n",
       "    <tr>\n",
       "      <th>12</th>\n",
       "      <td>충남</td>\n",
       "      <td>1298</td>\n",
       "      <td>1791384</td>\n",
       "      <td>3799</td>\n",
       "      <td>1729378</td>\n",
       "      <td>12803</td>\n",
       "      <td>183678</td>\n",
       "    </tr>\n",
       "    <tr>\n",
       "      <th>13</th>\n",
       "      <td>전북</td>\n",
       "      <td>1019</td>\n",
       "      <td>1515819</td>\n",
       "      <td>3780</td>\n",
       "      <td>1463908</td>\n",
       "      <td>11589</td>\n",
       "      <td>172116</td>\n",
       "    </tr>\n",
       "    <tr>\n",
       "      <th>14</th>\n",
       "      <td>전남</td>\n",
       "      <td>921</td>\n",
       "      <td>1576666</td>\n",
       "      <td>3166</td>\n",
       "      <td>1523884</td>\n",
       "      <td>13834</td>\n",
       "      <td>213856</td>\n",
       "    </tr>\n",
       "    <tr>\n",
       "      <th>15</th>\n",
       "      <td>경북</td>\n",
       "      <td>1567</td>\n",
       "      <td>2161635</td>\n",
       "      <td>4478</td>\n",
       "      <td>2089812</td>\n",
       "      <td>14310</td>\n",
       "      <td>208500</td>\n",
       "    </tr>\n",
       "    <tr>\n",
       "      <th>16</th>\n",
       "      <td>경남</td>\n",
       "      <td>2067</td>\n",
       "      <td>2714710</td>\n",
       "      <td>5578</td>\n",
       "      <td>2620169</td>\n",
       "      <td>17907</td>\n",
       "      <td>244652</td>\n",
       "    </tr>\n",
       "    <tr>\n",
       "      <th>17</th>\n",
       "      <td>제주</td>\n",
       "      <td>591</td>\n",
       "      <td>550199</td>\n",
       "      <td>1452</td>\n",
       "      <td>530626</td>\n",
       "      <td>2967</td>\n",
       "      <td>46648</td>\n",
       "    </tr>\n",
       "  </tbody>\n",
       "</table>\n",
       "</div>"
      ],
      "text/plain": [
       "    구분   1차접종             2차접종           3차(부스터)접종         \n",
       "    구분  당일 실적     당일 누계  당일 실적     당일 누계     당일 실적    당일 누계\n",
       "0   합계  33213  42653944  89269  41284671    276997  3852154\n",
       "1   서울   6418   7940840  14436   7713303     56517   707480\n",
       "2   부산   2051   2726236   5221   2636872     18930   228368\n",
       "3   대구   1475   1897268   3888   1834006     11380   142130\n",
       "4   인천   2003   2433177   5220   2352331     13520   197197\n",
       "5   광주    968   1191290   3087   1146427      7702   115764\n",
       "6   대전    956   1174705   2394   1135182      7314   100144\n",
       "7   울산    588    909397   1763    881739      4245    63273\n",
       "8   세종    242    272614    504    262391      1493    23646\n",
       "9   경기   9350  11164316  25158  10814771     64392   942731\n",
       "10  강원    871   1280486   2557   1239767      9204   127833\n",
       "11  충북    828   1353202   2788   1310105      8890   134138\n",
       "12  충남   1298   1791384   3799   1729378     12803   183678\n",
       "13  전북   1019   1515819   3780   1463908     11589   172116\n",
       "14  전남    921   1576666   3166   1523884     13834   213856\n",
       "15  경북   1567   2161635   4478   2089812     14310   208500\n",
       "16  경남   2067   2714710   5578   2620169     17907   244652\n",
       "17  제주    591    550199   1452    530626      2967    46648"
      ]
     },
     "execution_count": 2,
     "metadata": {},
     "output_type": "execute_result"
    }
   ],
   "source": [
    "df=pd.read_html('https://ncv.kdca.go.kr/mainStatus.es?mid=a11702000000',encoding='utf-8')[1]\n",
    "df"
   ]
  },
  {
   "cell_type": "code",
   "execution_count": 14,
   "id": "e5f71cb1-2dc6-4e43-8949-a00e819ff03e",
   "metadata": {},
   "outputs": [
    {
     "data": {
      "text/plain": [
       "MultiIndex([(       '구분',    '구분'),\n",
       "            (     '1차접종', '당일 실적'),\n",
       "            (     '1차접종', '당일 누계'),\n",
       "            (     '2차접종', '당일 실적'),\n",
       "            (     '2차접종', '당일 누계'),\n",
       "            ('3차(부스터)접종', '당일 실적'),\n",
       "            ('3차(부스터)접종', '당일 누계')],\n",
       "           )"
      ]
     },
     "execution_count": 14,
     "metadata": {},
     "output_type": "execute_result"
    }
   ],
   "source": [
    "df.iloc[1:,:].columns"
   ]
  },
  {
   "cell_type": "code",
   "execution_count": 39,
   "id": "44f715ce-58e8-4356-9d82-ad56b2cfbafe",
   "metadata": {},
   "outputs": [
    {
     "data": {
      "text/plain": [
       "(구분, 구분)\n",
       "서울     7713303\n",
       "부산     2636872\n",
       "대구     1834006\n",
       "인천     2352331\n",
       "광주     1146427\n",
       "대전     1135182\n",
       "울산      881739\n",
       "세종      262391\n",
       "경기    10814771\n",
       "강원     1239767\n",
       "충북     1310105\n",
       "충남     1729378\n",
       "전북     1463908\n",
       "전남     1523884\n",
       "경북     2089812\n",
       "경남     2620169\n",
       "제주      530626\n",
       "Name: 2차접종, dtype: int64"
      ]
     },
     "execution_count": 39,
     "metadata": {},
     "output_type": "execute_result"
    }
   ],
   "source": [
    "df.iloc[1:,:].set_index((       '구분',    '구분')).stack().reset_index().\\\n",
    "query('level_1==\"당일 누계\"').set_index((       '구분',    '구분')).iloc[:,2]"
   ]
  },
  {
   "cell_type": "code",
   "execution_count": 40,
   "id": "f3f03778-d648-4839-90dc-475998cd7c5e",
   "metadata": {},
   "outputs": [
    {
     "data": {
      "text/plain": [
       "(구분, 구분)\n",
       "서울    14436\n",
       "부산     5221\n",
       "대구     3888\n",
       "인천     5220\n",
       "광주     3087\n",
       "대전     2394\n",
       "울산     1763\n",
       "세종      504\n",
       "경기    25158\n",
       "강원     2557\n",
       "충북     2788\n",
       "충남     3799\n",
       "전북     3780\n",
       "전남     3166\n",
       "경북     4478\n",
       "경남     5578\n",
       "제주     1452\n",
       "Name: 2차접종, dtype: int64"
      ]
     },
     "execution_count": 40,
     "metadata": {},
     "output_type": "execute_result"
    }
   ],
   "source": [
    "df.iloc[1:,:].set_index((       '구분',    '구분')).stack().reset_index().\\\n",
    "query('level_1==\"당일 실적\"').set_index((       '구분',    '구분')).iloc[:,2]"
   ]
  },
  {
   "cell_type": "code",
   "execution_count": 55,
   "id": "d9695595-5d34-479a-9de5-ef361c381d60",
   "metadata": {},
   "outputs": [
    {
     "data": {
      "text/html": [
       "<div>\n",
       "<style scoped>\n",
       "    .dataframe tbody tr th:only-of-type {\n",
       "        vertical-align: middle;\n",
       "    }\n",
       "\n",
       "    .dataframe tbody tr th {\n",
       "        vertical-align: top;\n",
       "    }\n",
       "\n",
       "    .dataframe thead th {\n",
       "        text-align: right;\n",
       "    }\n",
       "</style>\n",
       "<table border=\"1\" class=\"dataframe\">\n",
       "  <thead>\n",
       "    <tr style=\"text-align: right;\">\n",
       "      <th></th>\n",
       "      <th>(구분, 구분)</th>\n",
       "      <th>level_1</th>\n",
       "      <th>2차접종</th>\n",
       "    </tr>\n",
       "  </thead>\n",
       "  <tbody>\n",
       "    <tr>\n",
       "      <th>0</th>\n",
       "      <td>서울</td>\n",
       "      <td>당일 누계</td>\n",
       "      <td>7713303</td>\n",
       "    </tr>\n",
       "    <tr>\n",
       "      <th>1</th>\n",
       "      <td>서울</td>\n",
       "      <td>당일 실적</td>\n",
       "      <td>14436</td>\n",
       "    </tr>\n",
       "    <tr>\n",
       "      <th>2</th>\n",
       "      <td>부산</td>\n",
       "      <td>당일 누계</td>\n",
       "      <td>2636872</td>\n",
       "    </tr>\n",
       "    <tr>\n",
       "      <th>3</th>\n",
       "      <td>부산</td>\n",
       "      <td>당일 실적</td>\n",
       "      <td>5221</td>\n",
       "    </tr>\n",
       "    <tr>\n",
       "      <th>4</th>\n",
       "      <td>대구</td>\n",
       "      <td>당일 누계</td>\n",
       "      <td>1834006</td>\n",
       "    </tr>\n",
       "    <tr>\n",
       "      <th>5</th>\n",
       "      <td>대구</td>\n",
       "      <td>당일 실적</td>\n",
       "      <td>3888</td>\n",
       "    </tr>\n",
       "    <tr>\n",
       "      <th>6</th>\n",
       "      <td>인천</td>\n",
       "      <td>당일 누계</td>\n",
       "      <td>2352331</td>\n",
       "    </tr>\n",
       "    <tr>\n",
       "      <th>7</th>\n",
       "      <td>인천</td>\n",
       "      <td>당일 실적</td>\n",
       "      <td>5220</td>\n",
       "    </tr>\n",
       "    <tr>\n",
       "      <th>8</th>\n",
       "      <td>광주</td>\n",
       "      <td>당일 누계</td>\n",
       "      <td>1146427</td>\n",
       "    </tr>\n",
       "    <tr>\n",
       "      <th>9</th>\n",
       "      <td>광주</td>\n",
       "      <td>당일 실적</td>\n",
       "      <td>3087</td>\n",
       "    </tr>\n",
       "    <tr>\n",
       "      <th>10</th>\n",
       "      <td>대전</td>\n",
       "      <td>당일 누계</td>\n",
       "      <td>1135182</td>\n",
       "    </tr>\n",
       "    <tr>\n",
       "      <th>11</th>\n",
       "      <td>대전</td>\n",
       "      <td>당일 실적</td>\n",
       "      <td>2394</td>\n",
       "    </tr>\n",
       "    <tr>\n",
       "      <th>12</th>\n",
       "      <td>울산</td>\n",
       "      <td>당일 누계</td>\n",
       "      <td>881739</td>\n",
       "    </tr>\n",
       "    <tr>\n",
       "      <th>13</th>\n",
       "      <td>울산</td>\n",
       "      <td>당일 실적</td>\n",
       "      <td>1763</td>\n",
       "    </tr>\n",
       "    <tr>\n",
       "      <th>14</th>\n",
       "      <td>세종</td>\n",
       "      <td>당일 누계</td>\n",
       "      <td>262391</td>\n",
       "    </tr>\n",
       "    <tr>\n",
       "      <th>15</th>\n",
       "      <td>세종</td>\n",
       "      <td>당일 실적</td>\n",
       "      <td>504</td>\n",
       "    </tr>\n",
       "    <tr>\n",
       "      <th>16</th>\n",
       "      <td>경기</td>\n",
       "      <td>당일 누계</td>\n",
       "      <td>10814771</td>\n",
       "    </tr>\n",
       "    <tr>\n",
       "      <th>17</th>\n",
       "      <td>경기</td>\n",
       "      <td>당일 실적</td>\n",
       "      <td>25158</td>\n",
       "    </tr>\n",
       "    <tr>\n",
       "      <th>18</th>\n",
       "      <td>강원</td>\n",
       "      <td>당일 누계</td>\n",
       "      <td>1239767</td>\n",
       "    </tr>\n",
       "    <tr>\n",
       "      <th>19</th>\n",
       "      <td>강원</td>\n",
       "      <td>당일 실적</td>\n",
       "      <td>2557</td>\n",
       "    </tr>\n",
       "    <tr>\n",
       "      <th>20</th>\n",
       "      <td>충북</td>\n",
       "      <td>당일 누계</td>\n",
       "      <td>1310105</td>\n",
       "    </tr>\n",
       "    <tr>\n",
       "      <th>21</th>\n",
       "      <td>충북</td>\n",
       "      <td>당일 실적</td>\n",
       "      <td>2788</td>\n",
       "    </tr>\n",
       "    <tr>\n",
       "      <th>22</th>\n",
       "      <td>충남</td>\n",
       "      <td>당일 누계</td>\n",
       "      <td>1729378</td>\n",
       "    </tr>\n",
       "    <tr>\n",
       "      <th>23</th>\n",
       "      <td>충남</td>\n",
       "      <td>당일 실적</td>\n",
       "      <td>3799</td>\n",
       "    </tr>\n",
       "    <tr>\n",
       "      <th>24</th>\n",
       "      <td>전북</td>\n",
       "      <td>당일 누계</td>\n",
       "      <td>1463908</td>\n",
       "    </tr>\n",
       "    <tr>\n",
       "      <th>25</th>\n",
       "      <td>전북</td>\n",
       "      <td>당일 실적</td>\n",
       "      <td>3780</td>\n",
       "    </tr>\n",
       "    <tr>\n",
       "      <th>26</th>\n",
       "      <td>전남</td>\n",
       "      <td>당일 누계</td>\n",
       "      <td>1523884</td>\n",
       "    </tr>\n",
       "    <tr>\n",
       "      <th>27</th>\n",
       "      <td>전남</td>\n",
       "      <td>당일 실적</td>\n",
       "      <td>3166</td>\n",
       "    </tr>\n",
       "    <tr>\n",
       "      <th>28</th>\n",
       "      <td>경북</td>\n",
       "      <td>당일 누계</td>\n",
       "      <td>2089812</td>\n",
       "    </tr>\n",
       "    <tr>\n",
       "      <th>29</th>\n",
       "      <td>경북</td>\n",
       "      <td>당일 실적</td>\n",
       "      <td>4478</td>\n",
       "    </tr>\n",
       "    <tr>\n",
       "      <th>30</th>\n",
       "      <td>경남</td>\n",
       "      <td>당일 누계</td>\n",
       "      <td>2620169</td>\n",
       "    </tr>\n",
       "    <tr>\n",
       "      <th>31</th>\n",
       "      <td>경남</td>\n",
       "      <td>당일 실적</td>\n",
       "      <td>5578</td>\n",
       "    </tr>\n",
       "    <tr>\n",
       "      <th>32</th>\n",
       "      <td>제주</td>\n",
       "      <td>당일 누계</td>\n",
       "      <td>530626</td>\n",
       "    </tr>\n",
       "    <tr>\n",
       "      <th>33</th>\n",
       "      <td>제주</td>\n",
       "      <td>당일 실적</td>\n",
       "      <td>1452</td>\n",
       "    </tr>\n",
       "  </tbody>\n",
       "</table>\n",
       "</div>"
      ],
      "text/plain": [
       "   (구분, 구분) level_1      2차접종\n",
       "0        서울   당일 누계   7713303\n",
       "1        서울   당일 실적     14436\n",
       "2        부산   당일 누계   2636872\n",
       "3        부산   당일 실적      5221\n",
       "4        대구   당일 누계   1834006\n",
       "5        대구   당일 실적      3888\n",
       "6        인천   당일 누계   2352331\n",
       "7        인천   당일 실적      5220\n",
       "8        광주   당일 누계   1146427\n",
       "9        광주   당일 실적      3087\n",
       "10       대전   당일 누계   1135182\n",
       "11       대전   당일 실적      2394\n",
       "12       울산   당일 누계    881739\n",
       "13       울산   당일 실적      1763\n",
       "14       세종   당일 누계    262391\n",
       "15       세종   당일 실적       504\n",
       "16       경기   당일 누계  10814771\n",
       "17       경기   당일 실적     25158\n",
       "18       강원   당일 누계   1239767\n",
       "19       강원   당일 실적      2557\n",
       "20       충북   당일 누계   1310105\n",
       "21       충북   당일 실적      2788\n",
       "22       충남   당일 누계   1729378\n",
       "23       충남   당일 실적      3799\n",
       "24       전북   당일 누계   1463908\n",
       "25       전북   당일 실적      3780\n",
       "26       전남   당일 누계   1523884\n",
       "27       전남   당일 실적      3166\n",
       "28       경북   당일 누계   2089812\n",
       "29       경북   당일 실적      4478\n",
       "30       경남   당일 누계   2620169\n",
       "31       경남   당일 실적      5578\n",
       "32       제주   당일 누계    530626\n",
       "33       제주   당일 실적      1452"
      ]
     },
     "execution_count": 55,
     "metadata": {},
     "output_type": "execute_result"
    }
   ],
   "source": [
    "df.iloc[1:].set_index((       '구분',    '구분')).stack().reset_index().iloc[:,[0,1,3]]"
   ]
  },
  {
   "cell_type": "code",
   "execution_count": 56,
   "id": "4428dab9-b331-4444-b0bd-56ed71edb21e",
   "metadata": {},
   "outputs": [],
   "source": [
    "_df=_"
   ]
  },
  {
   "cell_type": "code",
   "execution_count": 57,
   "id": "2fc06108-5773-4a95-bae7-d1357f8c5356",
   "metadata": {},
   "outputs": [],
   "source": [
    "_df.columns=['city','value','vaccination']"
   ]
  },
  {
   "cell_type": "code",
   "execution_count": 84,
   "id": "5b35d031-0bcd-4dbb-bc49-ce84f529f251",
   "metadata": {},
   "outputs": [
    {
     "data": {
      "text/plain": [
       "[0.001871571750779141,\n",
       " 0.001979997512203854,\n",
       " 0.002119949444004,\n",
       " 0.002219075461744117,\n",
       " 0.0026927139713213313,\n",
       " 0.002108912932023235,\n",
       " 0.001999457889466157,\n",
       " 0.001920797588331917,\n",
       " 0.002326262849208735,\n",
       " 0.002062484321650762,\n",
       " 0.0021280737040160905,\n",
       " 0.002196743569075124,\n",
       " 0.002582129478081956,\n",
       " 0.0020775859579863034,\n",
       " 0.002142776479415373,\n",
       " 0.0021288703133271174,\n",
       " 0.0027363906027974504]"
      ]
     },
     "execution_count": 84,
     "metadata": {},
     "output_type": "execute_result"
    }
   ],
   "source": [
    "[(_df.query('value==\"당일 실적\"')['vaccination'].iloc[i]/_df.query('value==\"당일 누계\"')['vaccination'].iloc[i]) for i in range(17)]"
   ]
  },
  {
   "cell_type": "code",
   "execution_count": 79,
   "id": "9e0312d3-c8db-4a8c-91dc-6059cec76191",
   "metadata": {},
   "outputs": [
    {
     "data": {
      "text/plain": [
       "0.001871571750779141"
      ]
     },
     "execution_count": 79,
     "metadata": {},
     "output_type": "execute_result"
    }
   ],
   "source": [
    "(_df.query('value==\"당일 실적\"')['vaccination'].iloc[0]/_df.query('value==\"당일 누계\"')['vaccination'].iloc[0])"
   ]
  },
  {
   "cell_type": "code",
   "execution_count": 80,
   "id": "73564e9a-30c4-4595-b94a-000c0a67a80f",
   "metadata": {},
   "outputs": [
    {
     "data": {
      "text/plain": [
       "0.001871571750779141"
      ]
     },
     "execution_count": 80,
     "metadata": {},
     "output_type": "execute_result"
    }
   ],
   "source": [
    "14436/7713303"
   ]
  },
  {
   "cell_type": "code",
   "execution_count": 81,
   "id": "0e035037-f41a-4aff-a065-6e47b60ec9e3",
   "metadata": {},
   "outputs": [
    {
     "data": {
      "text/plain": [
       "0.001979997512203854"
      ]
     },
     "execution_count": 81,
     "metadata": {},
     "output_type": "execute_result"
    }
   ],
   "source": [
    "(_df.query('value==\"당일 실적\"')['vaccination'].iloc[1]/_df.query('value==\"당일 누계\"')['vaccination'].iloc[1])"
   ]
  },
  {
   "cell_type": "code",
   "execution_count": 82,
   "id": "616228e0-2237-47e9-bd69-cc807e735839",
   "metadata": {},
   "outputs": [
    {
     "data": {
      "text/plain": [
       "0.001979997512203854"
      ]
     },
     "execution_count": 82,
     "metadata": {},
     "output_type": "execute_result"
    }
   ],
   "source": [
    "5221/2636872"
   ]
  },
  {
   "cell_type": "code",
   "execution_count": null,
   "id": "90461d0b-7912-4024-a300-5c1997b38f48",
   "metadata": {},
   "outputs": [],
   "source": []
  },
  {
   "cell_type": "code",
   "execution_count": 25,
   "id": "6a7b3c31-1ce8-455e-85c6-7d7ecdfd94bc",
   "metadata": {},
   "outputs": [],
   "source": [
    "global_dict = json.loads(requests.get('https://raw.githubusercontent.com/southkorea/southkorea-maps/master/kostat/2018/json/skorea-provinces-2018-geo.json').text)"
   ]
  },
  {
   "cell_type": "code",
   "execution_count": null,
   "id": "c3305ee6-b4f0-4b6f-8134-09ee3e2a2906",
   "metadata": {},
   "outputs": [],
   "source": [
    "m = folium.Map([34,27],zoomstart=7,scrollWheelZoom=False)\n",
    "choro = folium.Choropleth(\n",
    "    data=df, \n",
    "    geo_data=global_dict,\n",
    "    columns=['구분','value'],\n",
    "    key_on = 'feature.properties.name'\n",
    ")\n",
    "choro.add_to(m) "
   ]
  },
  {
   "cell_type": "markdown",
   "id": "0eaa1bf7-6a90-465d-a356-12022275fa71",
   "metadata": {
    "id": "c7ac6051-2e79-4311-90ec-2b2ef35ad14d"
   },
   "source": [
    "**힌트3.** 아래의 주소에서 json을 파일을 읽어온뒤 choroplethmap을 그릴때 이용하라. \n",
    "```\n",
    "https://raw.githubusercontent.com/southkorea/southkorea-maps/master/kostat/2018/json/skorea-provinces-2018-geo.json\n",
    "```"
   ]
  },
  {
   "cell_type": "markdown",
   "id": "891dd1bc-10bd-4f85-946e-2c0da0620ecf",
   "metadata": {
    "id": "76ffdfa8-6253-4d88-83a5-2cb5d1590f95"
   },
   "source": [
    "**힌트4.** json파일의 지역명과 `https://ncv.kdca.go.kr/mainStatus.es?mid=a11702000000`의 지역이름을 맞추어라. json파일의 지역명은 아래와 같은 코드로 확인할 수 있다. \n",
    "```python\n",
    "[global_dict['features'][i]['properties']['name'] for i in range(17)]\n",
    "```\n",
    "```\n",
    "['서울특별시',\n",
    " '부산광역시',\n",
    " '대구광역시',\n",
    " '인천광역시',\n",
    " '광주광역시',\n",
    " '대전광역시',\n",
    " '울산광역시',\n",
    " '세종특별자치시',\n",
    " '경기도',\n",
    " '강원도',\n",
    " '충청북도',\n",
    " '충청남도',\n",
    " '전라북도',\n",
    " '전라남도',\n",
    " '경상북도',\n",
    " '경상남도',\n",
    " '제주특별자치도']\n",
    "```\n",
    "\n",
    "- 여기에서 `global_dict`는 json파일을 dict의 형태로 저장한 변수명이다. "
   ]
  },
  {
   "cell_type": "markdown",
   "id": "d2c47647-79ae-41dc-813c-dd9efdd6013a",
   "metadata": {
    "id": "264c0214-108f-4776-b415-1d086de334b8"
   },
   "source": [
    "**힌트5.** 지역별 접종률은 아래의 수식으로 구한다. \n",
    "\n",
    "$$\n",
    "\\textbf{서울특별시 2차접종 접종률}=\\frac{\\textbf{서울특별시 2차접종 당일누계}}{\\textbf{서울특별시 인구수}}\n",
    "$$\n",
    "\n",
    "이때 위의 수식의 분모에 사용할 시도별 인구수는 아래의 주소에서 얻을 수 있다. \n",
    "```\n",
    "https://raw.githubusercontent.com/guebin/2021DV/master/_notebooks/2021-11-22-prov.csv\n",
    "```"
   ]
  },
  {
   "cell_type": "markdown",
   "id": "d57ae1d3-caaf-4e17-97c2-7d3f27fd0105",
   "metadata": {
    "id": "3d89fe40-fc5d-4992-9d28-5a4bfe935e40"
   },
   "source": [
    "**힌트6.** 시도별 접종률의 결과는 아래와 같다. "
   ]
  },
  {
   "cell_type": "code",
   "execution_count": null,
   "id": "d99a8a46-b6e6-4c48-a049-56215b97cc10",
   "metadata": {
    "id": "a4fcc518-f0c8-4bef-8514-6e5a9fa7f7da",
    "outputId": "58599f2b-d6d8-4bda-b92c-68c8c4ef8691"
   },
   "outputs": [
    {
     "data": {
      "text/html": [
       "<table border=\"1\" class=\"dataframe\">\n",
       "  <thead>\n",
       "    <tr style=\"text-align: right;\">\n",
       "      <th></th>\n",
       "      <th>prov</th>\n",
       "      <th>prop</th>\n",
       "    </tr>\n",
       "  </thead>\n",
       "  <tbody>\n",
       "    <tr>\n",
       "      <th>0</th>\n",
       "      <td>서울특별시</td>\n",
       "      <td>0.807572</td>\n",
       "    </tr>\n",
       "    <tr>\n",
       "      <th>1</th>\n",
       "      <td>부산광역시</td>\n",
       "      <td>0.784046</td>\n",
       "    </tr>\n",
       "    <tr>\n",
       "      <th>2</th>\n",
       "      <td>대구광역시</td>\n",
       "      <td>0.765463</td>\n",
       "    </tr>\n",
       "    <tr>\n",
       "      <th>3</th>\n",
       "      <td>인천광역시</td>\n",
       "      <td>0.796909</td>\n",
       "    </tr>\n",
       "    <tr>\n",
       "      <th>4</th>\n",
       "      <td>광주광역시</td>\n",
       "      <td>0.792597</td>\n",
       "    </tr>\n",
       "    <tr>\n",
       "      <th>5</th>\n",
       "      <td>대전광역시</td>\n",
       "      <td>0.778911</td>\n",
       "    </tr>\n",
       "    <tr>\n",
       "      <th>6</th>\n",
       "      <td>울산광역시</td>\n",
       "      <td>0.783887</td>\n",
       "    </tr>\n",
       "    <tr>\n",
       "      <th>7</th>\n",
       "      <td>세종특별자치시</td>\n",
       "      <td>0.711043</td>\n",
       "    </tr>\n",
       "    <tr>\n",
       "      <th>8</th>\n",
       "      <td>경기도</td>\n",
       "      <td>0.796228</td>\n",
       "    </tr>\n",
       "    <tr>\n",
       "      <th>9</th>\n",
       "      <td>강원도</td>\n",
       "      <td>0.804555</td>\n",
       "    </tr>\n",
       "    <tr>\n",
       "      <th>10</th>\n",
       "      <td>충청북도</td>\n",
       "      <td>0.818569</td>\n",
       "    </tr>\n",
       "    <tr>\n",
       "      <th>11</th>\n",
       "      <td>충청남도</td>\n",
       "      <td>0.814271</td>\n",
       "    </tr>\n",
       "    <tr>\n",
       "      <th>12</th>\n",
       "      <td>전라북도</td>\n",
       "      <td>0.815779</td>\n",
       "    </tr>\n",
       "    <tr>\n",
       "      <th>13</th>\n",
       "      <td>전라남도</td>\n",
       "      <td>0.828873</td>\n",
       "    </tr>\n",
       "    <tr>\n",
       "      <th>14</th>\n",
       "      <td>경상북도</td>\n",
       "      <td>0.793502</td>\n",
       "    </tr>\n",
       "    <tr>\n",
       "      <th>15</th>\n",
       "      <td>경상남도</td>\n",
       "      <td>0.787922</td>\n",
       "    </tr>\n",
       "    <tr>\n",
       "      <th>16</th>\n",
       "      <td>제주특별자치도</td>\n",
       "      <td>0.782127</td>\n",
       "    </tr>\n",
       "  </tbody>\n",
       "</table>"
      ],
      "text/plain": [
       "<IPython.core.display.HTML object>"
      ]
     },
     "execution_count": 60,
     "metadata": {},
     "output_type": "execute_result"
    }
   ],
   "source": [
    "#hide_input\n",
    "IPython.display.HTML('<table border=\"1\" class=\"dataframe\">\\n  <thead>\\n    <tr style=\"text-align: right;\">\\n      <th></th>\\n      <th>prov</th>\\n      <th>prop</th>\\n    </tr>\\n  </thead>\\n  <tbody>\\n    <tr>\\n      <th>0</th>\\n      <td>서울특별시</td>\\n      <td>0.807572</td>\\n    </tr>\\n    <tr>\\n      <th>1</th>\\n      <td>부산광역시</td>\\n      <td>0.784046</td>\\n    </tr>\\n    <tr>\\n      <th>2</th>\\n      <td>대구광역시</td>\\n      <td>0.765463</td>\\n    </tr>\\n    <tr>\\n      <th>3</th>\\n      <td>인천광역시</td>\\n      <td>0.796909</td>\\n    </tr>\\n    <tr>\\n      <th>4</th>\\n      <td>광주광역시</td>\\n      <td>0.792597</td>\\n    </tr>\\n    <tr>\\n      <th>5</th>\\n      <td>대전광역시</td>\\n      <td>0.778911</td>\\n    </tr>\\n    <tr>\\n      <th>6</th>\\n      <td>울산광역시</td>\\n      <td>0.783887</td>\\n    </tr>\\n    <tr>\\n      <th>7</th>\\n      <td>세종특별자치시</td>\\n      <td>0.711043</td>\\n    </tr>\\n    <tr>\\n      <th>8</th>\\n      <td>경기도</td>\\n      <td>0.796228</td>\\n    </tr>\\n    <tr>\\n      <th>9</th>\\n      <td>강원도</td>\\n      <td>0.804555</td>\\n    </tr>\\n    <tr>\\n      <th>10</th>\\n      <td>충청북도</td>\\n      <td>0.818569</td>\\n    </tr>\\n    <tr>\\n      <th>11</th>\\n      <td>충청남도</td>\\n      <td>0.814271</td>\\n    </tr>\\n    <tr>\\n      <th>12</th>\\n      <td>전라북도</td>\\n      <td>0.815779</td>\\n    </tr>\\n    <tr>\\n      <th>13</th>\\n      <td>전라남도</td>\\n      <td>0.828873</td>\\n    </tr>\\n    <tr>\\n      <th>14</th>\\n      <td>경상북도</td>\\n      <td>0.793502</td>\\n    </tr>\\n    <tr>\\n      <th>15</th>\\n      <td>경상남도</td>\\n      <td>0.787922</td>\\n    </tr>\\n    <tr>\\n      <th>16</th>\\n      <td>제주특별자치도</td>\\n      <td>0.782127</td>\\n    </tr>\\n  </tbody>\\n</table>')"
   ]
  },
  {
   "cell_type": "code",
   "execution_count": null,
   "id": "cdc48677-218c-43c2-b4e3-35d36f157804",
   "metadata": {},
   "outputs": [],
   "source": []
  }
 ],
 "metadata": {
  "kernelspec": {
   "display_name": "Python 3 (ipykernel)",
   "language": "python",
   "name": "python3"
  },
  "language_info": {
   "codemirror_mode": {
    "name": "ipython",
    "version": 3
   },
   "file_extension": ".py",
   "mimetype": "text/x-python",
   "name": "python",
   "nbconvert_exporter": "python",
   "pygments_lexer": "ipython3",
   "version": "3.8.12"
  }
 },
 "nbformat": 4,
 "nbformat_minor": 5
}
