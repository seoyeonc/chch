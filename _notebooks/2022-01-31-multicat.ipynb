{
 "cells": [
  {
   "cell_type": "markdown",
   "id": "c5b9dea5-c950-47c4-84df-f74c480120ff",
   "metadata": {
    "id": "d44ba9bc-ebf3-49d8-b2db-9d49bf1bec22",
    "tags": []
   },
   "source": [
    "# fastbook 06_multicat\n",
    "> Not done\n",
    "\n",
    "- toc:true\n",
    "- branch: master\n",
    "- badges: false\n",
    "- comments: false \n",
    "- author: 최서연\n",
    "- categories: [fastbook, multicat]"
   ]
  },
  {
   "cell_type": "markdown",
   "id": "6c4c5947-045a-4720-82fc-530255099753",
   "metadata": {},
   "source": [
    "ref: https://github.com/fastai/fastbook"
   ]
  },
  {
   "cell_type": "code",
   "execution_count": null,
   "id": "d4360111-340f-4578-9caa-c5ea5f973beb",
   "metadata": {},
   "outputs": [],
   "source": []
  },
  {
   "cell_type": "code",
   "execution_count": null,
   "id": "e53b0158-276b-43b5-97fc-b61dd46baca8",
   "metadata": {},
   "outputs": [],
   "source": []
  },
  {
   "cell_type": "code",
   "execution_count": null,
   "id": "4ca21fba-d3e2-4ee2-900f-fa8bd71529ed",
   "metadata": {},
   "outputs": [],
   "source": []
  }
 ],
 "metadata": {
  "kernelspec": {
   "display_name": "Python 3",
   "language": "python",
   "name": "python3"
  },
  "language_info": {
   "codemirror_mode": {
    "name": "ipython",
    "version": 3
   },
   "file_extension": ".py",
   "mimetype": "text/x-python",
   "name": "python",
   "nbconvert_exporter": "python",
   "pygments_lexer": "ipython3",
   "version": "3.8.12"
  }
 },
 "nbformat": 4,
 "nbformat_minor": 5
}
