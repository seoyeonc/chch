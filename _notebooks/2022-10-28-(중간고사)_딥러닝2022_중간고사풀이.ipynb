{
 "cells": [
  {
   "cell_type": "markdown",
   "id": "00400dcf-b6db-4cc0-a79e-6297a34e145b",
   "metadata": {
    "id": "00400dcf-b6db-4cc0-a79e-6297a34e145b",
    "tags": []
   },
   "source": [
    "# 딥러닝2022 중간고사 -- 풀이"
   ]
  },
  {
   "cell_type": "code",
   "execution_count": null,
   "id": "1947be45-25c1-4970-b607-0ccbcd9e04f2",
   "metadata": {
    "id": "1947be45-25c1-4970-b607-0ccbcd9e04f2"
   },
   "outputs": [],
   "source": [
    "import torch \n",
    "import matplotlib.pyplot as plt\n",
    "from fastai.vision.all import *"
   ]
  },
  {
   "cell_type": "markdown",
   "id": "3939abb2-1e32-4c68-b992-58bfb7f967e3",
   "metadata": {
    "id": "3939abb2-1e32-4c68-b992-58bfb7f967e3"
   },
   "source": [
    "## `1`. 크롤링을 통한 이미지 분석 및 CAM. (50점) -- 풀이생략"
   ]
  },
  {
   "cell_type": "markdown",
   "id": "0bcced04-2942-42fd-9f26-03b2407dcf28",
   "metadata": {
    "id": "0bcced04-2942-42fd-9f26-03b2407dcf28"
   },
   "source": [
    "`(1)` 두 가지 키워드로 크롤링을 수행하여 이미지자료를 모아라. \n",
    "- 키워드는 {'iu','hynn'}을 제외하고 본인이 선택할 것) "
   ]
  },
  {
   "cell_type": "markdown",
   "id": "6ed40966-40a7-42d7-b9cd-777087a5084b",
   "metadata": {
    "id": "6ed40966-40a7-42d7-b9cd-777087a5084b"
   },
   "source": [
    "`(2)` ImageDataLoaders.from_folder 를 이용하여 dls를 만들어라."
   ]
  },
  {
   "cell_type": "markdown",
   "id": "e4807293-bdfa-4727-981e-c91a92c3e095",
   "metadata": {
    "id": "e4807293-bdfa-4727-981e-c91a92c3e095"
   },
   "source": [
    "`(3)` resnet34를 이용하여 학습하라."
   ]
  },
  {
   "cell_type": "markdown",
   "id": "106541ec-087c-44d3-a5c4-b2163a847702",
   "metadata": {
    "id": "106541ec-087c-44d3-a5c4-b2163a847702"
   },
   "source": [
    "`(4)` CAM (class activation mapping)을 이용하여 (3)의 모형의 판단근거를 시각화하라. "
   ]
  },
  {
   "cell_type": "markdown",
   "id": "a142e3c7-d774-4f7b-9b10-e913e948bd38",
   "metadata": {
    "id": "a142e3c7-d774-4f7b-9b10-e913e948bd38",
    "tags": []
   },
   "source": [
    "## `2`. 다음을 읽고 물음에 답하라. (30점)"
   ]
  },
  {
   "cell_type": "markdown",
   "id": "fc684644-c40b-418c-8ded-e0f6bba122bf",
   "metadata": {
    "id": "fc684644-c40b-418c-8ded-e0f6bba122bf"
   },
   "source": [
    "주어진 자료가 아래와 같다고 하자. "
   ]
  },
  {
   "cell_type": "code",
   "execution_count": null,
   "id": "0ce470ec-a61d-425e-91f9-ef04c52b96a5",
   "metadata": {
    "id": "0ce470ec-a61d-425e-91f9-ef04c52b96a5"
   },
   "outputs": [],
   "source": [
    "torch.manual_seed(7676)\n",
    "x = torch.randn(100).sort().values\n",
    "ϵ = torch.randn(100)*0.5\n",
    "y = 2.5+ 4*x + ϵ"
   ]
  },
  {
   "cell_type": "code",
   "execution_count": null,
   "id": "f610a3fd-d376-48a3-8a9c-3f8d58f87c30",
   "metadata": {
    "id": "f610a3fd-d376-48a3-8a9c-3f8d58f87c30",
    "outputId": "a04a8644-8595-4f8f-ba7e-fa3aba441213"
   },
   "outputs": [
    {
     "data": {
      "text/plain": [
       "[<matplotlib.lines.Line2D at 0x7f696ef38650>]"
      ]
     },
     "execution_count": 8,
     "metadata": {},
     "output_type": "execute_result"
    },
    {
     "data": {
      "image/png": "[encoded data removed]",
      "text/plain": [
       "<Figure size 432x288 with 1 Axes>"
      ]
     },
     "metadata": {
      "needs_background": "light"
     },
     "output_type": "display_data"
    }
   ],
   "source": [
    "plt.plot(x,y,'o')"
   ]
  },
  {
   "cell_type": "markdown",
   "id": "6c53e6e4-1819-4c20-b260-c148c4155b02",
   "metadata": {
    "id": "6c53e6e4-1819-4c20-b260-c148c4155b02"
   },
   "source": [
    "아래와 같은 모형을 가정하고 물음에 답하라. "
   ]
  },
  {
   "cell_type": "markdown",
   "id": "5380f7c5-6ced-42b5-b4a3-9965053f8853",
   "metadata": {
    "id": "5380f7c5-6ced-42b5-b4a3-9965053f8853"
   },
   "source": [
    "$$y_i = w_0+w_1 x_i +\\epsilon_i, \\quad \\epsilon_i \\overset{iid}{\\sim} N(0,\\sigma^2)$$"
   ]
  },
  {
   "cell_type": "markdown",
   "id": "9172ede6-085b-4f1a-ac08-c4d27a356146",
   "metadata": {
    "id": "9172ede6-085b-4f1a-ac08-c4d27a356146"
   },
   "source": [
    "`(1)` ??를 적당하게 채워 아래와 같은 네트워크를 설정하고 최초의 예측값이 $\\hat{y}_i=-5+10x_i$가 출력되도록 net의 가중치를 조정하라. \n",
    "\n",
    "```python\n",
    "net = torch.nn.Linear(in_features=2,out_features=??,bias=??)\n",
    "```"
   ]
  },
  {
   "cell_type": "markdown",
   "id": "2f3abe27-3aa9-4d9d-ab6b-c35ad6d858bc",
   "metadata": {
    "id": "2f3abe27-3aa9-4d9d-ab6b-c35ad6d858bc"
   },
   "source": [
    "(풀이)"
   ]
  },
  {
   "cell_type": "code",
   "execution_count": null,
   "id": "ac061516-95ea-4eea-946a-cfa4ead03aa8",
   "metadata": {
    "id": "ac061516-95ea-4eea-946a-cfa4ead03aa8"
   },
   "outputs": [],
   "source": [
    "X = torch.stack([torch.ones_like(x), x],axis=1) \n",
    "y = y.reshape(-1,1)"
   ]
  },
  {
   "cell_type": "code",
   "execution_count": null,
   "id": "08b35771-85d4-42b1-a2c2-742aa6780066",
   "metadata": {
    "id": "08b35771-85d4-42b1-a2c2-742aa6780066"
   },
   "outputs": [],
   "source": [
    "net = torch.nn.Linear(in_features=2,out_features=1,bias=False)"
   ]
  },
  {
   "cell_type": "code",
   "execution_count": null,
   "id": "62299c86-a197-4e5d-b439-da4566a7c03f",
   "metadata": {
    "id": "62299c86-a197-4e5d-b439-da4566a7c03f"
   },
   "outputs": [],
   "source": [
    "net.weight.data = torch.tensor([[ -5.0, 10.0]]) "
   ]
  },
  {
   "cell_type": "markdown",
   "id": "90a8ec61-1359-4f7f-8828-0a080ff62f2c",
   "metadata": {
    "id": "90a8ec61-1359-4f7f-8828-0a080ff62f2c"
   },
   "source": [
    "`(2)` 학습률은 0.1로 설정하고 torch.optim.Adam을 이용하여 optimizer를 선언하라. $(\\hat{w}_0,\\hat{w}_1)=(-5,10)$에서 MSELoss의 미분계수 $\\frac{\\partial}{\\partial {\\bf W}}loss(w_0,w_1) ~\\Big|_{~\\hat{w}_0,\\hat{w}_1}$를 구하고 이를 바탕으로 $(\\hat{w}_0,\\hat{w}_1)$의 값을 1회 갱신하라. 계산된 미분계수값과 갱신된 $(\\hat{w}_0,\\hat{w}_1)$의 값을 출력하라. "
   ]
  },
  {
   "cell_type": "markdown",
   "id": "f3a9a056-4776-41c5-be2a-092fd0a55d20",
   "metadata": {
    "id": "f3a9a056-4776-41c5-be2a-092fd0a55d20"
   },
   "source": [
    "(풀이)"
   ]
  },
  {
   "cell_type": "code",
   "execution_count": null,
   "id": "1f841fc8-d0d4-4453-b6e0-b3a41826d007",
   "metadata": {
    "id": "1f841fc8-d0d4-4453-b6e0-b3a41826d007"
   },
   "outputs": [],
   "source": [
    "optimizr = torch.optim.Adam(net.parameters(),lr=0.1)"
   ]
  },
  {
   "cell_type": "code",
   "execution_count": null,
   "id": "ea5ee999-c516-4806-bacb-042b4c6cad41",
   "metadata": {
    "id": "ea5ee999-c516-4806-bacb-042b4c6cad41",
    "outputId": "c7fa9aa6-1920-46ed-a428-e7c2300c02d5"
   },
   "outputs": [
    {
     "name": "stdout",
     "output_type": "stream",
     "text": [
      "tensor([[-15.7290,  14.7198]])\n",
      "tensor([[-4.9000,  9.9000]])\n",
      "---\n"
     ]
    }
   ],
   "source": [
    "for epoc in range(1):\n",
    "    ## step1\n",
    "    yhat = net(X)\n",
    "    ## step2 \n",
    "    loss = torch.mean((y-yhat)**2)\n",
    "    ## step3\n",
    "    loss.backward()\n",
    "    print(net.weight.grad)\n",
    "    ## step4\n",
    "    optimizr.step()\n",
    "    optimizr.zero_grad()\n",
    "    print(net.weight.data)\n",
    "    print(\"---\")"
   ]
  },
  {
   "cell_type": "markdown",
   "id": "11876e1a-8bf8-4f0b-8e74-fec23006fe3d",
   "metadata": {
    "id": "11876e1a-8bf8-4f0b-8e74-fec23006fe3d"
   },
   "source": [
    "`(3)` (2)에서 설정한 optimizer를 이용하여 $(\\hat{w}_0,\\hat{w}_1)$의 값을 5회 갱신한 값을 구하여라. \n",
    "- 문제(2)에 갱신한 1회를 포함하여 5회임. "
   ]
  },
  {
   "cell_type": "markdown",
   "id": "6901bf21-85fb-4cf2-abc6-5957373fb4e1",
   "metadata": {
    "id": "6901bf21-85fb-4cf2-abc6-5957373fb4e1"
   },
   "source": [
    "(풀이)"
   ]
  },
  {
   "cell_type": "code",
   "execution_count": null,
   "id": "a78c07ba-3a1f-4028-87da-adcb188c5a15",
   "metadata": {
    "id": "a78c07ba-3a1f-4028-87da-adcb188c5a15",
    "outputId": "03052209-41c5-4fcb-e6fd-35ac6ee9e68d"
   },
   "outputs": [
    {
     "name": "stdout",
     "output_type": "stream",
     "text": [
      "tensor([[-15.5179,  14.4789]])\n",
      "tensor([[-4.8000,  9.8000]])\n",
      "---\n",
      "tensor([[-15.3068,  14.2382]])\n",
      "tensor([[-4.7001,  9.7002]])\n",
      "---\n",
      "tensor([[-15.0960,  13.9976]])\n",
      "tensor([[-4.6003,  9.6004]])\n",
      "---\n",
      "tensor([[-14.8852,  13.7572]])\n",
      "tensor([[-4.5006,  9.5008]])\n",
      "---\n"
     ]
    }
   ],
   "source": [
    "for epoc in range(4):\n",
    "    ## step1 \n",
    "    yhat = net(X) \n",
    "    ## step2 \n",
    "    loss = torch.mean((y-yhat)**2)\n",
    "    ## step3\n",
    "    loss.backward()\n",
    "    print(net.weight.grad)\n",
    "    ## step4 \n",
    "    optimizr.step()\n",
    "    optimizr.zero_grad()\n",
    "    print(net.weight.data)\n",
    "    print(\"---\")"
   ]
  },
  {
   "cell_type": "markdown",
   "id": "57b444ed-d181-4d06-a81b-cd70bcba849e",
   "metadata": {
    "id": "57b444ed-d181-4d06-a81b-cd70bcba849e"
   },
   "source": [
    "`(4)` 학습률을 0.2로 설정하고 torch.optim.SGD를 이용하여 새로운 optimizr를 선언하라. (3)의 결과로 총 5회 갱신된 값에 이어서 10회 추가로 학습하라. 학습된 값은 얼마인가? "
   ]
  },
  {
   "cell_type": "markdown",
   "id": "c4c02085-1d70-4a85-8c06-c0d737ae1d7c",
   "metadata": {
    "id": "c4c02085-1d70-4a85-8c06-c0d737ae1d7c"
   },
   "source": [
    "(풀이)"
   ]
  },
  {
   "cell_type": "code",
   "execution_count": null,
   "id": "f283584a-1480-45d0-b8eb-1b668a11dbfb",
   "metadata": {
    "id": "f283584a-1480-45d0-b8eb-1b668a11dbfb"
   },
   "outputs": [],
   "source": [
    "optimizr2= torch.optim.SGD(net.parameters(),lr=0.2) "
   ]
  },
  {
   "cell_type": "code",
   "execution_count": null,
   "id": "28d03526-a448-412a-b5b8-5d445e0db15b",
   "metadata": {
    "id": "28d03526-a448-412a-b5b8-5d445e0db15b",
    "outputId": "63a8dec4-c8f0-47a8-8e7e-36aecdf8a08a"
   },
   "outputs": [
    {
     "name": "stdout",
     "output_type": "stream",
     "text": [
      "tensor([[-14.6748,  13.5172]])\n",
      "tensor([[-1.5657,  6.7973]])\n",
      "---\n",
      "tensor([[-8.5044,  6.9790]])\n",
      "tensor([[0.1352, 5.4015]])\n",
      "---\n",
      "tensor([[-4.9476,  3.5827]])\n",
      "tensor([[1.1247, 4.6850]])\n",
      "---\n",
      "tensor([[-2.8889,  1.8262]])\n",
      "tensor([[1.7025, 4.3198]])\n",
      "---\n",
      "tensor([[-1.6928,  0.9227]])\n",
      "tensor([[2.0411, 4.1352]])\n",
      "---\n",
      "tensor([[-0.9951,  0.4611]])\n",
      "tensor([[2.2401, 4.0430]])\n",
      "---\n",
      "tensor([[-0.5868,  0.2271]])\n",
      "tensor([[2.3575, 3.9976]])\n",
      "---\n",
      "tensor([[-0.3471,  0.1097]])\n",
      "tensor([[2.4269, 3.9756]])\n",
      "---\n",
      "tensor([[-0.2058,  0.0516]])\n",
      "tensor([[2.4680, 3.9653]])\n",
      "---\n",
      "tensor([[-0.1223,  0.0233]])\n",
      "tensor([[2.4925, 3.9607]])\n",
      "---\n"
     ]
    }
   ],
   "source": [
    "for epoc in range(10):\n",
    "    ## step1 \n",
    "    yhat = net(X) \n",
    "    ## step2 \n",
    "    loss = torch.mean((y-yhat)**2)\n",
    "    ## step3\n",
    "    loss.backward()\n",
    "    print(net.weight.grad)\n",
    "    ## step4\n",
    "    optimizr2.step()\n",
    "    optimizr2.zero_grad()\n",
    "    print(net.weight.data)\n",
    "    print(\"---\")"
   ]
  },
  {
   "cell_type": "markdown",
   "id": "f9749686-d9dc-49a5-a519-e8e055e8a894",
   "metadata": {
    "id": "f9749686-d9dc-49a5-a519-e8e055e8a894"
   },
   "source": [
    "`(5)` (4)의 수렴값이 학습이 잘 되었다고 생각하는가? 잘 되었다고 생각하면 그 근거는 무엇인가? (단, $(w_0,w_1)$의 참값은 모른다고 가정한다) \n",
    "- hint: 미분값을 근거로 대답할 것"
   ]
  },
  {
   "cell_type": "markdown",
   "id": "1ccf4361-62f3-4892-bfda-c137c2125bd0",
   "metadata": {
    "id": "1ccf4361-62f3-4892-bfda-c137c2125bd0"
   },
   "source": [
    "(풀이)"
   ]
  },
  {
   "cell_type": "markdown",
   "id": "8e979a36-7ce3-4b28-be88-01c8f8ebf6ce",
   "metadata": {
    "id": "8e979a36-7ce3-4b28-be88-01c8f8ebf6ce"
   },
   "source": [
    "최종업데이트에서 계산된 미분계수가 거의 0이므로 잘 수렴했다고 판단되어 진다. (이 경우 손실함수가 convex 이므로 미분계수가 0인 지점이 global minimum이라 주장가능) "
   ]
  },
  {
   "cell_type": "markdown",
   "id": "76895df6-91f5-48d4-a439-166becaadf4a",
   "metadata": {
    "id": "76895df6-91f5-48d4-a439-166becaadf4a"
   },
   "source": [
    "## `3`. 다음을 읽고 참 거짓을 판단하라. (20점)"
   ]
  },
  {
   "cell_type": "markdown",
   "id": "6f354f2f-5534-4ce7-88e0-9a158f9cc4c2",
   "metadata": {
    "id": "6f354f2f-5534-4ce7-88e0-9a158f9cc4c2"
   },
   "source": [
    "Assignment1의 1번: 아래는 fastai를 사용하여 MNIST 이미지자료중 일부를 분석하는 코드 중 일부이다. (Assignment1의 1번 문항 참고)\n",
    "\n",
    "```Python\n",
    "path = untar_data(URLs.MNIST_SAMPLE)\n",
    "dls = ImageDataLoaders.from_folder(path,suffle=False) \n",
    "lrnr = cnn_learner(dls, arch = resnet34, metrics=error_rate)\n",
    "lrnr.fine_tune(1)\n",
    "X,y = dls.one_batch()\n",
    "lrnr.model(X[0].reshape(1,3,28,28))\n",
    "```\n",
    "마지막 `lrnr.model(X[0].reshape(1,3,28,28))`의 실행결과는 아래와 같다. \n",
    "```\n",
    "TensorBase([[ 3.4148, -5.0356]], device='cuda:0', grad_fn=<AliasBackward0>)\n",
    "```\n",
    "위의 코드를 올바르게 해석한 것을 모두 고르라. "
   ]
  },
  {
   "cell_type": "markdown",
   "id": "1a4d4740-d122-4be2-8c99-d0db152271b3",
   "metadata": {
    "id": "1a4d4740-d122-4be2-8c99-d0db152271b3"
   },
   "source": [
    "`(1)` MNIST 이미지를 분석하였으므로 X는 흑백이미지의 형태로 저장되어 있을 것이다. 즉 텐서 ${\\bf X}$의 shape은 (n,1,28,28) 과 같은 형태일 것이다. \n",
    "\n",
    "- hint: \"lrnr.model(X[0].reshape(1,3,28,28))\" 코드를 잘 관찰하세요.. "
   ]
  },
  {
   "cell_type": "code",
   "execution_count": null,
   "id": "464a364e-5b23-45c9-8f9a-f5bfa09d1325",
   "metadata": {
    "id": "464a364e-5b23-45c9-8f9a-f5bfa09d1325",
    "outputId": "f422d1b9-014f-44ee-c4ce-a91fc91171b3"
   },
   "outputs": [
    {
     "data": {
      "text/plain": [
       "False"
      ]
     },
     "execution_count": 20,
     "metadata": {},
     "output_type": "execute_result"
    }
   ],
   "source": [
    "False # 채널=3이므로 칼라이미지로 저장되어있음. "
   ]
  },
  {
   "cell_type": "markdown",
   "id": "da45eafb-82d4-49f9-904f-b8dbef0de8c9",
   "metadata": {
    "id": "da45eafb-82d4-49f9-904f-b8dbef0de8c9"
   },
   "source": [
    "`(2)` `lrnr.model(X[0].reshape(1,3,28,28))` 의 실행결과로 미루어 볼때 손실함수는 torch.nn.CrossEntropyLoss 를 사용했을 것이다. "
   ]
  },
  {
   "cell_type": "code",
   "execution_count": null,
   "id": "bb91b5a1-c89c-4c98-8753-22859bbdcb2f",
   "metadata": {
    "id": "bb91b5a1-c89c-4c98-8753-22859bbdcb2f",
    "outputId": "9514dbbc-5d00-4787-86b9-bb3d4392f2ef"
   },
   "outputs": [
    {
     "data": {
      "text/plain": [
       "True"
      ]
     },
     "execution_count": 21,
     "metadata": {},
     "output_type": "execute_result"
    }
   ],
   "source": [
    "True "
   ]
  },
  {
   "cell_type": "markdown",
   "id": "19e93520-df35-4031-ab4b-b961a5fc9ba0",
   "metadata": {
    "id": "19e93520-df35-4031-ab4b-b961a5fc9ba0"
   },
   "source": [
    "`(3)` 위의 코드는 resnet34를 이용한 transfer learning 을 구현하였다. "
   ]
  },
  {
   "cell_type": "code",
   "execution_count": null,
   "id": "8e7fdb3a-079d-421e-83fc-f06913e15f76",
   "metadata": {
    "id": "8e7fdb3a-079d-421e-83fc-f06913e15f76",
    "outputId": "0868f584-5c47-4c87-8945-0a3577c3953e"
   },
   "outputs": [
    {
     "data": {
      "text/plain": [
       "True"
      ]
     },
     "execution_count": 22,
     "metadata": {},
     "output_type": "execute_result"
    }
   ],
   "source": [
    "True"
   ]
  },
  {
   "cell_type": "markdown",
   "id": "544c2fe6-26ee-465f-abc8-9d0921b155cc",
   "metadata": {
    "id": "544c2fe6-26ee-465f-abc8-9d0921b155cc"
   },
   "source": [
    "`(4)` 현재 `lrnr.model`와 `X[0]`는 모두 GPU연산이 가능한 저장장치에 있다. "
   ]
  },
  {
   "cell_type": "code",
   "execution_count": null,
   "id": "a5984e40-1d84-4c68-884f-c376934f32fa",
   "metadata": {
    "id": "a5984e40-1d84-4c68-884f-c376934f32fa",
    "outputId": "8eac55db-fc31-4b3e-b905-f0867430b324"
   },
   "outputs": [
    {
     "data": {
      "text/plain": [
       "True"
      ]
     },
     "execution_count": 24,
     "metadata": {},
     "output_type": "execute_result"
    }
   ],
   "source": [
    "True # lrnr.model(X[0].reshape(1,3,28,28)) 의 연산결과로 유추가능"
   ]
  },
  {
   "cell_type": "markdown",
   "id": "27bb328d-5e2e-44c4-b1b5-71201dbaca8e",
   "metadata": {
    "id": "27bb328d-5e2e-44c4-b1b5-71201dbaca8e"
   },
   "source": [
    "`(5)` `TensorBase([[ 3.4148, -5.0356]], device='cuda:0', grad_fn=<AliasBackward0>)`의 결과에 softmax함수를 취하게 되면 `[0,1]` 근처의 값이 나올것이다. "
   ]
  },
  {
   "cell_type": "code",
   "execution_count": null,
   "id": "5910d7e9-ebb2-430d-9600-431f26971607",
   "metadata": {
    "id": "5910d7e9-ebb2-430d-9600-431f26971607",
    "outputId": "4889f9ad-52a6-4fee-fce5-275b9735fda4"
   },
   "outputs": [
    {
     "data": {
      "text/plain": [
       "False"
      ]
     },
     "execution_count": 29,
     "metadata": {},
     "output_type": "execute_result"
    }
   ],
   "source": [
    "False "
   ]
  },
  {
   "cell_type": "markdown",
   "id": "0474de8b-078e-4028-96fd-d9a9fbeb32e8",
   "metadata": {
    "id": "0474de8b-078e-4028-96fd-d9a9fbeb32e8"
   },
   "source": [
    "--- "
   ]
  },
  {
   "cell_type": "markdown",
   "id": "9c3a5ecb-9d13-4649-94e7-ad8af85770b5",
   "metadata": {
    "id": "9c3a5ecb-9d13-4649-94e7-ad8af85770b5"
   },
   "source": [
    "`(6)` torch.nn.Linear(in_features=1,out_features=1,bias=True) 는 학습가능한 파라메터수가 2개이다. "
   ]
  },
  {
   "cell_type": "code",
   "execution_count": null,
   "id": "3e34f9a6-76c4-4dc7-a542-100070522ca0",
   "metadata": {
    "id": "3e34f9a6-76c4-4dc7-a542-100070522ca0",
    "outputId": "854fa0a2-9179-44c8-f060-f7fad5daa5d1"
   },
   "outputs": [
    {
     "data": {
      "text/plain": [
       "True"
      ]
     },
     "execution_count": 8,
     "metadata": {},
     "output_type": "execute_result"
    }
   ],
   "source": [
    "True"
   ]
  },
  {
   "cell_type": "markdown",
   "id": "28f67f6c-283b-43f2-9495-e8e246e42b44",
   "metadata": {
    "id": "28f67f6c-283b-43f2-9495-e8e246e42b44"
   },
   "source": [
    "`(7)` 아래 2개의 레이어에 대한 학습가능한 파레메터 수는 같다. \n",
    "- torch.nn.Linear(in_features=4,out_features=1,bias=False)\n",
    "- torch.nn.Conv2d(in_channels=1,out_channels=1,kernel_size=(2,2),bias=False)"
   ]
  },
  {
   "cell_type": "code",
   "execution_count": null,
   "id": "4b5406de-0f27-4c0d-a3fb-59369a20557e",
   "metadata": {
    "id": "4b5406de-0f27-4c0d-a3fb-59369a20557e",
    "outputId": "b68a5019-d03d-4886-c61e-dafac79dee44"
   },
   "outputs": [
    {
     "data": {
      "text/plain": [
       "True"
      ]
     },
     "execution_count": 9,
     "metadata": {},
     "output_type": "execute_result"
    }
   ],
   "source": [
    "True"
   ]
  },
  {
   "cell_type": "markdown",
   "id": "e855c357-0de0-46dd-83e0-3f73b9aa1058",
   "metadata": {
    "id": "e855c357-0de0-46dd-83e0-3f73b9aa1058"
   },
   "source": [
    "`(8)` 아래의 네트워크에서 K를 충분히 크게 설정하면 모든 1차원 연속함수를 원하는 정확도로 근사시킬 수 있다. \n",
    "\n",
    "```Python\n",
    "net = torch.nn.Sequential(\n",
    "    torch.nn.Linear(in_features=1,out_features=K),\n",
    "    torch.nn.Linear(in_features=K,out_features=1)\n",
    ")\n",
    "```"
   ]
  },
  {
   "cell_type": "code",
   "execution_count": null,
   "id": "21181f76-596a-4504-bc57-e718dca6ef60",
   "metadata": {
    "id": "21181f76-596a-4504-bc57-e718dca6ef60",
    "outputId": "ce2dacaa-c2a2-4d6c-954e-d83bfec656af"
   },
   "outputs": [
    {
     "data": {
      "text/plain": [
       "False"
      ]
     },
     "execution_count": 28,
     "metadata": {},
     "output_type": "execute_result"
    }
   ],
   "source": [
    "False "
   ]
  },
  {
   "cell_type": "markdown",
   "id": "86c66766-f948-4a8c-8af0-25aee229d71c",
   "metadata": {
    "id": "86c66766-f948-4a8c-8af0-25aee229d71c"
   },
   "source": [
    "`(9)` torch.nn.Dropout(0.9)을 이용하여 생성된 layer는 10%의 layer input을 임의로 0으로 만든다. "
   ]
  },
  {
   "cell_type": "code",
   "execution_count": null,
   "id": "b3ec2314-3b14-40a6-a621-55eb2d0cd649",
   "metadata": {
    "id": "b3ec2314-3b14-40a6-a621-55eb2d0cd649",
    "outputId": "e1c4e4e7-a557-497f-c4bb-22e9b35e09f4"
   },
   "outputs": [
    {
     "data": {
      "text/plain": [
       "False"
      ]
     },
     "execution_count": 12,
     "metadata": {},
     "output_type": "execute_result"
    }
   ],
   "source": [
    "False"
   ]
  },
  {
   "cell_type": "markdown",
   "id": "92d2977d-94b6-4edd-bc29-68f0da2296e7",
   "metadata": {
    "id": "92d2977d-94b6-4edd-bc29-68f0da2296e7"
   },
   "source": [
    "`(10)` 아래와 같은 모형에서 자료가 생성되었다고 하자. \n",
    "\n",
    "- $y_i \\sim Ber(\\pi_i),\\quad $ where $\\pi_i = \\frac{\\exp(w_0+w_1x_i)}{1+\\exp(w_0+w_1x_i)}$\n"
   ]
  },
  {
   "cell_type": "markdown",
   "id": "a0d84ef9-eebf-40c7-b5ee-2f5db7613f20",
   "metadata": {
    "id": "a0d84ef9-eebf-40c7-b5ee-2f5db7613f20"
   },
   "source": [
    "이 경우 다음과 같은 네트워크와 손실함수를 선택한다면 손실함수는 항상 convex function이 된다. \n",
    "\n",
    "```Python\n",
    "net = torch.nn.Sequential(\n",
    "    torch.nn.Linear(in_features=1,out_features=1)\n",
    "    torch.nn.Sigmoid()\n",
    ")\n",
    "loss_fn = torch.nn.BCELoss() \n",
    "```"
   ]
  },
  {
   "cell_type": "code",
   "execution_count": null,
   "id": "8971d9dd-863a-4826-bfc1-dad5dd9c12ec",
   "metadata": {
    "id": "8971d9dd-863a-4826-bfc1-dad5dd9c12ec",
    "outputId": "73d55215-f05f-4926-84bf-232100c1e711"
   },
   "outputs": [
    {
     "data": {
      "text/plain": [
       "True"
      ]
     },
     "execution_count": 13,
     "metadata": {},
     "output_type": "execute_result"
    }
   ],
   "source": [
    "True"
   ]
  }
 ],
 "metadata": {
  "colab": {
   "provenance": []
  },
  "kernelspec": {
   "display_name": "Python 3",
   "language": "python",
   "name": "python3"
  },
  "language_info": {
   "codemirror_mode": {
    "name": "ipython",
    "version": 3
   },
   "file_extension": ".py",
   "mimetype": "text/x-python",
   "name": "python",
   "nbconvert_exporter": "python",
   "pygments_lexer": "ipython3",
   "version": "3.7.13"
  }
 },
 "nbformat": 4,
 "nbformat_minor": 5
}
