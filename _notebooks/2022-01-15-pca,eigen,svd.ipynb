{
 "cells": [
  {
   "cell_type": "markdown",
   "id": "fee3f6b0-e362-47a4-b7bd-9c321c546cce",
   "metadata": {
    "id": "427875ce-66ec-4c4d-a783-8ee5eeb54fa4",
    "tags": []
   },
   "source": [
    "# PCA, Eigenvalue Decomposition, SVD\n",
    "> not done\n",
    "\n",
    "- toc:true\n",
    "- branch: master\n",
    "- badges: true\n",
    "- comments: false\n",
    "- author: 최서연\n",
    "- categories: [PCA, Eigenvalue Decomposition, SVD]"
   ]
  },
  {
   "cell_type": "markdown",
   "id": "6509c480-adc0-48eb-9497-c04ad155a42a",
   "metadata": {},
   "source": [
    "ref: https://blog.clairvoyantsoft.com/eigen-decomposition-and-pca-c50f4ca15501"
   ]
  },
  {
   "cell_type": "markdown",
   "id": "cf1ca0fd-2a24-4bd7-872e-85db988d44fb",
   "metadata": {},
   "source": [
    "## PCA: Principle Components Analysis"
   ]
  },
  {
   "cell_type": "markdown",
   "id": "b4a62e04-2553-4138-ae11-9daf423ceb3c",
   "metadata": {},
   "source": [
    "#### the goal of PCA"
   ]
  },
  {
   "cell_type": "markdown",
   "id": "53f18077-0343-4d78-aaf3-3f9d166d3593",
   "metadata": {},
   "source": [
    "- We see that data almost always comes with **information, redundancy, and noise**. \n",
    "- We always aim to **extract the maximum possible information from** the data while **reducing the noise and ignoring the redundant information**."
   ]
  },
  {
   "cell_type": "markdown",
   "id": "b8cf3b8c-d97b-448c-84d2-db31a6f7db3d",
   "metadata": {},
   "source": [
    "#### PCA can be used when we want to:"
   ]
  },
  {
   "cell_type": "markdown",
   "id": "35cc8f9e-08f6-4302-99e1-48bde98db06e",
   "metadata": {},
   "source": [
    "1. Reduce the number of features but cannot identify the unimportant ones that can be ignored\n",
    "2. Ensure that the features of the data are independent of one another even if the features become less interpretable"
   ]
  },
  {
   "cell_type": "markdown",
   "id": "b27a450a-ba33-4f16-a910-735a8dc88756",
   "metadata": {},
   "source": [
    "#### How PCA uses this concept of eigendecomposition?"
   ]
  },
  {
   "cell_type": "markdown",
   "id": "55b4fdf9-1b7a-4bd6-92e5-90d44628aabb",
   "metadata": {},
   "source": [
    "- we have a dataset with ‘n’ predictor variables.\n",
    "- We center the predictors to their respective means and then get an n x n covariance matrix.\n",
    "- This covariance matrix is then decomposed into eigenvalues and eigenvectors."
   ]
  },
  {
   "cell_type": "markdown",
   "id": "2860ff48-1a41-4083-97a8-36772b953409",
   "metadata": {},
   "source": [
    "Covariance matrix (= dispersion matrix or variance-covariance matrix) is a matrix whose element in the i,j position is the covariance between the i-th and j-th element (feature) of a random vector (A random vector is a random variable with multiple dimensions)."
   ]
  },
  {
   "cell_type": "markdown",
   "id": "3144e828-7f1a-41ff-a194-2383d832575c",
   "metadata": {},
   "source": [
    "$$C=\\begin{bmatrix}{cov(x,x)}&{cov(x,y)}\\\\{cov(x,y)}&{cov(y,y)}\\end{bmatrix}$$ $$=\\begin{bmatrix}{\\frac{1}{n}\\sum(x_i-m_x)^2}&{\\frac{1}{n}\\sum(x_i-m_x)(y_i-m_y)}\\\\{\\frac{1}{n}\\sum(x_i-m_x)(y_i-m_y)}&{\\frac{1}{n}\\sum(y_i-m_y)^2}\\end{bmatrix}$$"
   ]
  },
  {
   "cell_type": "markdown",
   "id": "e6f72449-5e96-4bdd-b63e-c509ad2bfe49",
   "metadata": {},
   "source": [
    "##### the properties of covariance and a covariance matrix"
   ]
  },
  {
   "cell_type": "markdown",
   "id": "d461a42a-8966-4c3e-8d89-acef4c5fb117",
   "metadata": {},
   "source": [
    "1. Covariance of a random variable (a predictor) with itself is simply its variance\n",
    "2. Each element on the principal diagonal of a covariance matrix shows the variances of each of the random variables\n",
    "3. Every covariance matrix is symmetric\n",
    "\n",
    "- So, a covariance matrix has variances (covariance of a predictor with itself) and covariances (between predictors).\n",
    "- Eigenvectors are unit vectors with length or magnitude equal to 1. They are often referred to as right vectors, which simply means a column vector."
   ]
  },
  {
   "cell_type": "markdown",
   "id": "aa8bd592-2f26-410f-b95b-d030b7a5ac7b",
   "metadata": {
    "tags": []
   },
   "source": [
    "##### Method of PCA"
   ]
  },
  {
   "cell_type": "markdown",
   "id": "073c8815-0a25-492c-ad1a-7ac11b4035b3",
   "metadata": {},
   "source": [
    "1. Measures how each variable is associated with one another using a Covariance matrix\n",
    "2. Understands the directions of the spread of our data using Eigenvectors\n",
    "3. Brings out the relative importance of these directions using Eigenvalues"
   ]
  },
  {
   "cell_type": "markdown",
   "id": "86a7ab30-4721-4662-895b-b4b42f3025ee",
   "metadata": {},
   "source": [
    "--------------------------------------------------"
   ]
  },
  {
   "cell_type": "markdown",
   "id": "3dacaa49-c635-4dfc-8ef9-9d8d7e5cfc2e",
   "metadata": {},
   "source": [
    "ref: https://towardsdatascience.com/pca-using-python-scikit-learn-e653f8989e60"
   ]
  },
  {
   "cell_type": "markdown",
   "id": "03ebdfe1-990a-4ded-889e-686e1e41f196",
   "metadata": {},
   "source": [
    "#### PCA For Data Visualization"
   ]
  },
  {
   "cell_type": "markdown",
   "id": "b6381ed3-0718-4d1d-96d8-b6e1e27d5f4b",
   "metadata": {},
   "source": [
    "load iris dataset"
   ]
  },
  {
   "cell_type": "code",
   "execution_count": 49,
   "id": "587b2e2c-3414-46c3-96bc-3b067a3a1e26",
   "metadata": {
    "tags": []
   },
   "outputs": [
    {
     "data": {
      "text/html": [
       "<div>\n",
       "<style scoped>\n",
       "    .dataframe tbody tr th:only-of-type {\n",
       "        vertical-align: middle;\n",
       "    }\n",
       "\n",
       "    .dataframe tbody tr th {\n",
       "        vertical-align: top;\n",
       "    }\n",
       "\n",
       "    .dataframe thead th {\n",
       "        text-align: right;\n",
       "    }\n",
       "</style>\n",
       "<table border=\"1\" class=\"dataframe\">\n",
       "  <thead>\n",
       "    <tr style=\"text-align: right;\">\n",
       "      <th></th>\n",
       "      <th>sepal length</th>\n",
       "      <th>sepal width</th>\n",
       "      <th>petal length</th>\n",
       "      <th>petal width</th>\n",
       "      <th>target</th>\n",
       "    </tr>\n",
       "  </thead>\n",
       "  <tbody>\n",
       "    <tr>\n",
       "      <th>0</th>\n",
       "      <td>5.1</td>\n",
       "      <td>3.5</td>\n",
       "      <td>1.4</td>\n",
       "      <td>0.2</td>\n",
       "      <td>Iris-setosa</td>\n",
       "    </tr>\n",
       "    <tr>\n",
       "      <th>1</th>\n",
       "      <td>4.9</td>\n",
       "      <td>3.0</td>\n",
       "      <td>1.4</td>\n",
       "      <td>0.2</td>\n",
       "      <td>Iris-setosa</td>\n",
       "    </tr>\n",
       "    <tr>\n",
       "      <th>2</th>\n",
       "      <td>4.7</td>\n",
       "      <td>3.2</td>\n",
       "      <td>1.3</td>\n",
       "      <td>0.2</td>\n",
       "      <td>Iris-setosa</td>\n",
       "    </tr>\n",
       "    <tr>\n",
       "      <th>3</th>\n",
       "      <td>4.6</td>\n",
       "      <td>3.1</td>\n",
       "      <td>1.5</td>\n",
       "      <td>0.2</td>\n",
       "      <td>Iris-setosa</td>\n",
       "    </tr>\n",
       "    <tr>\n",
       "      <th>4</th>\n",
       "      <td>5.0</td>\n",
       "      <td>3.6</td>\n",
       "      <td>1.4</td>\n",
       "      <td>0.2</td>\n",
       "      <td>Iris-setosa</td>\n",
       "    </tr>\n",
       "    <tr>\n",
       "      <th>...</th>\n",
       "      <td>...</td>\n",
       "      <td>...</td>\n",
       "      <td>...</td>\n",
       "      <td>...</td>\n",
       "      <td>...</td>\n",
       "    </tr>\n",
       "    <tr>\n",
       "      <th>145</th>\n",
       "      <td>6.7</td>\n",
       "      <td>3.0</td>\n",
       "      <td>5.2</td>\n",
       "      <td>2.3</td>\n",
       "      <td>Iris-virginica</td>\n",
       "    </tr>\n",
       "    <tr>\n",
       "      <th>146</th>\n",
       "      <td>6.3</td>\n",
       "      <td>2.5</td>\n",
       "      <td>5.0</td>\n",
       "      <td>1.9</td>\n",
       "      <td>Iris-virginica</td>\n",
       "    </tr>\n",
       "    <tr>\n",
       "      <th>147</th>\n",
       "      <td>6.5</td>\n",
       "      <td>3.0</td>\n",
       "      <td>5.2</td>\n",
       "      <td>2.0</td>\n",
       "      <td>Iris-virginica</td>\n",
       "    </tr>\n",
       "    <tr>\n",
       "      <th>148</th>\n",
       "      <td>6.2</td>\n",
       "      <td>3.4</td>\n",
       "      <td>5.4</td>\n",
       "      <td>2.3</td>\n",
       "      <td>Iris-virginica</td>\n",
       "    </tr>\n",
       "    <tr>\n",
       "      <th>149</th>\n",
       "      <td>5.9</td>\n",
       "      <td>3.0</td>\n",
       "      <td>5.1</td>\n",
       "      <td>1.8</td>\n",
       "      <td>Iris-virginica</td>\n",
       "    </tr>\n",
       "  </tbody>\n",
       "</table>\n",
       "<p>150 rows × 5 columns</p>\n",
       "</div>"
      ],
      "text/plain": [
       "     sepal length  sepal width  petal length  petal width          target\n",
       "0             5.1          3.5           1.4          0.2     Iris-setosa\n",
       "1             4.9          3.0           1.4          0.2     Iris-setosa\n",
       "2             4.7          3.2           1.3          0.2     Iris-setosa\n",
       "3             4.6          3.1           1.5          0.2     Iris-setosa\n",
       "4             5.0          3.6           1.4          0.2     Iris-setosa\n",
       "..            ...          ...           ...          ...             ...\n",
       "145           6.7          3.0           5.2          2.3  Iris-virginica\n",
       "146           6.3          2.5           5.0          1.9  Iris-virginica\n",
       "147           6.5          3.0           5.2          2.0  Iris-virginica\n",
       "148           6.2          3.4           5.4          2.3  Iris-virginica\n",
       "149           5.9          3.0           5.1          1.8  Iris-virginica\n",
       "\n",
       "[150 rows x 5 columns]"
      ]
     },
     "execution_count": 49,
     "metadata": {},
     "output_type": "execute_result"
    }
   ],
   "source": [
    "import pandas as pd\n",
    "url = \"https://archive.ics.uci.edu/ml/machine-learning-databases/iris/iris.data\"\n",
    "# load dataset into Pandas DataFrame\n",
    "df = pd.read_csv(url, names=['sepal length','sepal width','petal length','petal width','target'])\n",
    "df"
   ]
  },
  {
   "cell_type": "markdown",
   "id": "a1a0edf0-3f0a-4cbd-8439-c631eef9940b",
   "metadata": {},
   "source": [
    "Standardize the Data"
   ]
  },
  {
   "cell_type": "markdown",
   "id": "b9db734a-c95f-404d-bea3-844f89755354",
   "metadata": {},
   "source": [
    "- Use StandardScaler to help you standardize the dataset’s features onto unit scale (mean = 0 and variance = 1) which is a requirement for the optimal performance of many machine learning algorithms."
   ]
  },
  {
   "cell_type": "code",
   "execution_count": 50,
   "id": "59c36d8a-8356-4142-b085-666fbe38f4ff",
   "metadata": {},
   "outputs": [],
   "source": [
    "from sklearn.preprocessing import StandardScaler\n",
    "features = ['sepal length', 'sepal width', 'petal length', 'petal width']"
   ]
  },
  {
   "cell_type": "code",
   "execution_count": 51,
   "id": "4527cb58-60ba-494c-bd37-719a73afd5bf",
   "metadata": {
    "tags": []
   },
   "outputs": [],
   "source": [
    "# Separating out the features\n",
    "x = df.loc[:, features].values\n",
    "# Separating out the target\n",
    "y = df.loc[:,['target']].values"
   ]
  },
  {
   "cell_type": "code",
   "execution_count": 52,
   "id": "c663ef2c-204f-46dd-98c4-ccd993d6956b",
   "metadata": {},
   "outputs": [],
   "source": [
    "# Standardizing the features\n",
    "x = StandardScaler().fit_transform(x)"
   ]
  },
  {
   "cell_type": "markdown",
   "id": "bd116f1d-2083-4a33-8838-4cec565da2dd",
   "metadata": {},
   "source": [
    "PCA Projection to 2D"
   ]
  },
  {
   "cell_type": "markdown",
   "id": "e57ca98d-1fa6-4c3c-bb7e-940975e483fa",
   "metadata": {},
   "source": [
    "- In this section, the code projects the original data which is 4 dimensional into 2 dimensions."
   ]
  },
  {
   "cell_type": "code",
   "execution_count": 53,
   "id": "91914845-2bb7-444c-82cf-2c1b7d7f43a8",
   "metadata": {},
   "outputs": [],
   "source": [
    "from sklearn.decomposition import PCA\n",
    "pca = PCA(n_components=2)\n",
    "principalComponents = pca.fit_transform(x)\n",
    "principalDf = pd.DataFrame(data = principalComponents\n",
    "             , columns = ['principal component 1', 'principal component 2'])"
   ]
  },
  {
   "cell_type": "code",
   "execution_count": 54,
   "id": "dbd5ce19-5780-4462-9d20-99fc716c7bdd",
   "metadata": {},
   "outputs": [],
   "source": [
    "finalDf = pd.concat([principalDf, df[['target']]], axis = 1)"
   ]
  },
  {
   "cell_type": "markdown",
   "id": "26114342-e34b-478e-9b7b-ae4c76a7d65e",
   "metadata": {},
   "source": [
    "Visualize 2D Projection"
   ]
  },
  {
   "cell_type": "code",
   "execution_count": 55,
   "id": "7cba4e1b-e35d-4e19-942a-351860726341",
   "metadata": {},
   "outputs": [
    {
     "data": {
      "image/png": "[encoded data removed]",
      "text/plain": [
       "<Figure size 576x576 with 1 Axes>"
      ]
     },
     "metadata": {
      "needs_background": "light"
     },
     "output_type": "display_data"
    }
   ],
   "source": [
    "import matplotlib.pyplot as plt\n",
    "fig = plt.figure(figsize = (8,8))\n",
    "ax = fig.add_subplot(1,1,1) \n",
    "ax.set_xlabel('Principal Component 1', fontsize = 15)\n",
    "ax.set_ylabel('Principal Component 2', fontsize = 15)\n",
    "ax.set_title('2 component PCA', fontsize = 20)\n",
    "targets = ['Iris-setosa', 'Iris-versicolor', 'Iris-virginica']\n",
    "colors = ['r', 'g', 'b']\n",
    "for target, color in zip(targets,colors):\n",
    "    indicesToKeep = finalDf['target'] == target\n",
    "    ax.scatter(finalDf.loc[indicesToKeep, 'principal component 1']\n",
    "               , finalDf.loc[indicesToKeep, 'principal component 2']\n",
    "               , c = color\n",
    "               , s = 50)\n",
    "ax.legend(targets)\n",
    "ax.grid()"
   ]
  },
  {
   "cell_type": "markdown",
   "id": "98187372-b4d5-4de9-b47a-74d4c34b04d5",
   "metadata": {},
   "source": [
    "- The explained variance tells you how much information (variance) can be attributed to each of the principal components.\n",
    "- This is important as while you can convert 4 dimensional space to 2 dimensional space, you lose some of the variance (information) when you do this."
   ]
  },
  {
   "cell_type": "code",
   "execution_count": 56,
   "id": "daa37634-9ef2-45ed-b8c0-bf3a72633ea9",
   "metadata": {},
   "outputs": [
    {
     "data": {
      "text/plain": [
       "array([0.72770452, 0.23030523])"
      ]
     },
     "execution_count": 56,
     "metadata": {},
     "output_type": "execute_result"
    }
   ],
   "source": [
    "pca.explained_variance_ratio_"
   ]
  },
  {
   "cell_type": "markdown",
   "id": "45d4db57-38cc-454f-bc56-ced1050e9aef",
   "metadata": {},
   "source": [
    "- Together, the two components contain 95.80% of the information."
   ]
  },
  {
   "cell_type": "markdown",
   "id": "9f1df30a-ca06-47b8-9dc8-5d5079e1e978",
   "metadata": {},
   "source": [
    "PCA to Speed-up Machine Learning Algorithms"
   ]
  },
  {
   "cell_type": "markdown",
   "id": "ae711b37-c3ee-4bf2-9467-7ac9f20e098a",
   "metadata": {},
   "source": [
    "- The MNIST database of handwritten digits is more suitable as it has 784 feature columns (784 dimensions), a training set of 60,000 examples, and a test set of 10,000 examples."
   ]
  },
  {
   "cell_type": "markdown",
   "id": "5b931c2f-c478-4d71-acdc-0d43f9e35151",
   "metadata": {},
   "source": [
    "load data"
   ]
  },
  {
   "cell_type": "code",
   "execution_count": 57,
   "id": "60426e67-8e77-4ef8-a017-cdb47569a02d",
   "metadata": {},
   "outputs": [],
   "source": [
    "from sklearn.datasets import fetch_openml\n",
    "mnist = fetch_openml('mnist_784')"
   ]
  },
  {
   "cell_type": "markdown",
   "id": "96c45d18-9e5b-432e-88eb-45d4b1173b93",
   "metadata": {},
   "source": [
    "- **The images that you downloaded are contained in mnist.data and has a shape of (70000, 784) meaning there are 70,000 images with 784 dimensions (784 features).**\n",
    "- The labels (the integers 0–9) are contained in mnist.target. The features are 784 dimensional (28 x 28 images) and the labels are simply numbers from 0–9."
   ]
  },
  {
   "cell_type": "markdown",
   "id": "bfb56201-1056-4822-9307-ab1932ee6b7e",
   "metadata": {},
   "source": [
    "Split Data into Training and Test Sets"
   ]
  },
  {
   "cell_type": "code",
   "execution_count": 58,
   "id": "3f6a5a69-c17e-40e5-91fd-c178b357b6e6",
   "metadata": {},
   "outputs": [],
   "source": [
    "from sklearn.model_selection import train_test_split\n",
    "# test_size: what proportion of original data is used for test set\n",
    "train_img, test_img, train_lbl, test_lbl = train_test_split( mnist.data, mnist.target, test_size=1/7.0, random_state=0)"
   ]
  },
  {
   "cell_type": "markdown",
   "id": "7f689c14-304a-499f-b0de-7d3380933dc4",
   "metadata": {},
   "source": [
    "Standardize the Data"
   ]
  },
  {
   "cell_type": "code",
   "execution_count": 59,
   "id": "e42d87d8-2cc2-4379-8015-cd02d626ab98",
   "metadata": {},
   "outputs": [],
   "source": [
    "from sklearn.preprocessing import StandardScaler\n",
    "scaler = StandardScaler()\n",
    "# Fit on training set only.\n",
    "scaler.fit(train_img)\n",
    "# Apply transform to both the training set and the test set.\n",
    "train_img = scaler.transform(train_img)\n",
    "test_img = scaler.transform(test_img)"
   ]
  },
  {
   "cell_type": "markdown",
   "id": "a1c370b6-9e87-41e3-9495-bae317c9003e",
   "metadata": {},
   "source": [
    "Import and Apply PCA"
   ]
  },
  {
   "cell_type": "code",
   "execution_count": 60,
   "id": "bfd99cc5-f3e8-448d-b6fd-a6c0ccda2410",
   "metadata": {},
   "outputs": [],
   "source": [
    "from sklearn.decomposition import PCA\n",
    "# Make an instance of the Model\n",
    "pca = PCA(.95)"
   ]
  },
  {
   "cell_type": "markdown",
   "id": "77707488-9794-468f-9227-a6e00bb192cb",
   "metadata": {},
   "source": [
    "- .95 means that scikit-learn choose the minimum number of principal components such that 95% of the variance is retained."
   ]
  },
  {
   "cell_type": "markdown",
   "id": "e277c9f3-e7ab-458d-9e0c-ae7dc88c1c8a",
   "metadata": {},
   "source": [
    "> note: you are fitting PCA on the training set only."
   ]
  },
  {
   "cell_type": "code",
   "execution_count": 61,
   "id": "e6b3624f-d743-462e-8c13-2b8b4e4c36a4",
   "metadata": {},
   "outputs": [
    {
     "data": {
      "text/plain": [
       "PCA(n_components=0.95)"
      ]
     },
     "execution_count": 61,
     "metadata": {},
     "output_type": "execute_result"
    }
   ],
   "source": [
    "pca.fit(train_img)"
   ]
  },
  {
   "cell_type": "markdown",
   "id": "1f794886-d834-4333-b5e4-ca36e96cfb87",
   "metadata": {},
   "source": [
    "> note: You can find out how many components PCA choose after fitting the model using pca.n_components_ . In this case, 95% of the variance amounts to 330 principal components."
   ]
  },
  {
   "cell_type": "markdown",
   "id": "9379c217-47d6-4e8f-a22a-efb5af79abc3",
   "metadata": {},
   "source": [
    "Apply the mapping (transform) to both the training set and the test set."
   ]
  },
  {
   "cell_type": "code",
   "execution_count": 62,
   "id": "733261f1-8dcd-4642-bd84-33ac128803a9",
   "metadata": {},
   "outputs": [],
   "source": [
    "train_img = pca.transform(train_img)\n",
    "test_img = pca.transform(test_img)"
   ]
  },
  {
   "cell_type": "markdown",
   "id": "624a5b02-9a4a-42fc-9379-0f4cc3a926ea",
   "metadata": {},
   "source": [
    "Apply Logistic Regression to the Transformed Data"
   ]
  },
  {
   "cell_type": "markdown",
   "id": "3f661a13-b0ee-412e-8595-f4ac68770a60",
   "metadata": {},
   "source": [
    "Step 1: Import the model you want to use"
   ]
  },
  {
   "cell_type": "code",
   "execution_count": 63,
   "id": "9d626489-a283-4c8a-93f0-8262c78051fb",
   "metadata": {},
   "outputs": [],
   "source": [
    "from sklearn.linear_model import LogisticRegression"
   ]
  },
  {
   "cell_type": "markdown",
   "id": "e8f97930-6e5a-4971-aa1d-621eb4ad2c57",
   "metadata": {},
   "source": [
    "Step 2: Make an instance of the Model."
   ]
  },
  {
   "cell_type": "code",
   "execution_count": 64,
   "id": "07f58fb0-2bcc-4f57-88cc-a817c34b310c",
   "metadata": {},
   "outputs": [],
   "source": [
    "# all parameters not specified are set to their defaults\n",
    "# default solver is incredibly slow which is why it was changed to 'lbfgs'\n",
    "logisticRegr = LogisticRegression(solver = 'lbfgs')"
   ]
  },
  {
   "cell_type": "markdown",
   "id": "93d36c01-f18c-4f6e-9829-54a111f853d6",
   "metadata": {},
   "source": [
    "Step 3: Training the model on the data, storing the information learned from the data"
   ]
  },
  {
   "cell_type": "code",
   "execution_count": 65,
   "id": "ccc00d7f-e3e3-4d63-b22f-8c2bc8dc138a",
   "metadata": {},
   "outputs": [
    {
     "name": "stderr",
     "output_type": "stream",
     "text": [
      "/home/csy/anaconda3/envs/csy/lib/python3.8/site-packages/sklearn/linear_model/_logistic.py:814: ConvergenceWarning: lbfgs failed to converge (status=1):\n",
      "STOP: TOTAL NO. of ITERATIONS REACHED LIMIT.\n",
      "\n",
      "Increase the number of iterations (max_iter) or scale the data as shown in:\n",
      "    https://scikit-learn.org/stable/modules/preprocessing.html\n",
      "Please also refer to the documentation for alternative solver options:\n",
      "    https://scikit-learn.org/stable/modules/linear_model.html#logistic-regression\n",
      "  n_iter_i = _check_optimize_result(\n"
     ]
    },
    {
     "data": {
      "text/plain": [
       "LogisticRegression()"
      ]
     },
     "execution_count": 65,
     "metadata": {},
     "output_type": "execute_result"
    }
   ],
   "source": [
    "logisticRegr.fit(train_img, train_lbl)"
   ]
  },
  {
   "cell_type": "markdown",
   "id": "ffe0c3d2-976d-490d-80ff-dc2c721b3b96",
   "metadata": {},
   "source": [
    "Step 4: Predict the labels of new data (new images)"
   ]
  },
  {
   "cell_type": "code",
   "execution_count": 66,
   "id": "6d55d03d-7245-42dc-a6cd-3897dde99abf",
   "metadata": {},
   "outputs": [
    {
     "data": {
      "text/plain": [
       "array(['0'], dtype=object)"
      ]
     },
     "execution_count": 66,
     "metadata": {},
     "output_type": "execute_result"
    }
   ],
   "source": [
    "# Predict for One Observation (image)\n",
    "logisticRegr.predict(test_img[0].reshape(1,-1))"
   ]
  },
  {
   "cell_type": "code",
   "execution_count": 67,
   "id": "a99226df-da97-47ac-b022-e2c43305a5c1",
   "metadata": {},
   "outputs": [
    {
     "data": {
      "text/plain": [
       "array(['0', '4', '1', '2', '4', '7', '7', '1', '1', '7'], dtype=object)"
      ]
     },
     "execution_count": 67,
     "metadata": {},
     "output_type": "execute_result"
    }
   ],
   "source": [
    "# Predict for One Observation (image)\n",
    "logisticRegr.predict(test_img[0:10])"
   ]
  },
  {
   "cell_type": "markdown",
   "id": "2fad5154-06e7-44cd-a422-e7da66b5d1f9",
   "metadata": {},
   "source": [
    "Measuring Model Performance"
   ]
  },
  {
   "cell_type": "code",
   "execution_count": 68,
   "id": "29d7ae65-e66c-476d-ad3f-eb89b4d9f527",
   "metadata": {},
   "outputs": [
    {
     "data": {
      "text/plain": [
       "0.9201"
      ]
     },
     "execution_count": 68,
     "metadata": {},
     "output_type": "execute_result"
    }
   ],
   "source": [
    "logisticRegr.score(test_img, test_lbl)"
   ]
  },
  {
   "cell_type": "markdown",
   "id": "202d5d62-4c37-46d4-a895-eda92718c29d",
   "metadata": {},
   "source": [
    "- While accuracy is not always the best metric for machine learning algorithms (precision, recall, F1 Score, ROC Curve, etc would be better), it is used here for simplicity."
   ]
  },
  {
   "cell_type": "markdown",
   "id": "f0fdbcd2-ba14-4fdb-b69c-4b2afae7a7c6",
   "metadata": {},
   "source": [
    "-------------------------------------------"
   ]
  },
  {
   "cell_type": "markdown",
   "id": "213f0917-ff65-4ffc-b7b2-33c1d12f57fb",
   "metadata": {},
   "source": [
    "ref: https://sebastianraschka.com/Articles/2015_pca_in_3_steps.html"
   ]
  },
  {
   "cell_type": "markdown",
   "id": "f1927aab-e4ca-4192-9cff-6414e30eaba7",
   "metadata": {},
   "source": [
    "load data"
   ]
  },
  {
   "cell_type": "code",
   "execution_count": 75,
   "id": "c81c7e13-a4fd-4cc1-a773-d8088623793e",
   "metadata": {
    "tags": []
   },
   "outputs": [
    {
     "data": {
      "text/html": [
       "<div>\n",
       "<style scoped>\n",
       "    .dataframe tbody tr th:only-of-type {\n",
       "        vertical-align: middle;\n",
       "    }\n",
       "\n",
       "    .dataframe tbody tr th {\n",
       "        vertical-align: top;\n",
       "    }\n",
       "\n",
       "    .dataframe thead th {\n",
       "        text-align: right;\n",
       "    }\n",
       "</style>\n",
       "<table border=\"1\" class=\"dataframe\">\n",
       "  <thead>\n",
       "    <tr style=\"text-align: right;\">\n",
       "      <th></th>\n",
       "      <th>sepal_len</th>\n",
       "      <th>sepal_wid</th>\n",
       "      <th>petal_len</th>\n",
       "      <th>petal_wid</th>\n",
       "      <th>class</th>\n",
       "    </tr>\n",
       "  </thead>\n",
       "  <tbody>\n",
       "    <tr>\n",
       "      <th>145</th>\n",
       "      <td>6.7</td>\n",
       "      <td>3.0</td>\n",
       "      <td>5.2</td>\n",
       "      <td>2.3</td>\n",
       "      <td>Iris-virginica</td>\n",
       "    </tr>\n",
       "    <tr>\n",
       "      <th>146</th>\n",
       "      <td>6.3</td>\n",
       "      <td>2.5</td>\n",
       "      <td>5.0</td>\n",
       "      <td>1.9</td>\n",
       "      <td>Iris-virginica</td>\n",
       "    </tr>\n",
       "    <tr>\n",
       "      <th>147</th>\n",
       "      <td>6.5</td>\n",
       "      <td>3.0</td>\n",
       "      <td>5.2</td>\n",
       "      <td>2.0</td>\n",
       "      <td>Iris-virginica</td>\n",
       "    </tr>\n",
       "    <tr>\n",
       "      <th>148</th>\n",
       "      <td>6.2</td>\n",
       "      <td>3.4</td>\n",
       "      <td>5.4</td>\n",
       "      <td>2.3</td>\n",
       "      <td>Iris-virginica</td>\n",
       "    </tr>\n",
       "    <tr>\n",
       "      <th>149</th>\n",
       "      <td>5.9</td>\n",
       "      <td>3.0</td>\n",
       "      <td>5.1</td>\n",
       "      <td>1.8</td>\n",
       "      <td>Iris-virginica</td>\n",
       "    </tr>\n",
       "  </tbody>\n",
       "</table>\n",
       "</div>"
      ],
      "text/plain": [
       "     sepal_len  sepal_wid  petal_len  petal_wid           class\n",
       "145        6.7        3.0        5.2        2.3  Iris-virginica\n",
       "146        6.3        2.5        5.0        1.9  Iris-virginica\n",
       "147        6.5        3.0        5.2        2.0  Iris-virginica\n",
       "148        6.2        3.4        5.4        2.3  Iris-virginica\n",
       "149        5.9        3.0        5.1        1.8  Iris-virginica"
      ]
     },
     "execution_count": 75,
     "metadata": {},
     "output_type": "execute_result"
    }
   ],
   "source": [
    "import pandas as pd\n",
    "\n",
    "df = pd.read_csv(\n",
    "    filepath_or_buffer='https://archive.ics.uci.edu/ml/machine-learning-databases/iris/iris.data',\n",
    "    header=None,\n",
    "    sep=',')\n",
    "\n",
    "df.columns=['sepal_len', 'sepal_wid', 'petal_len', 'petal_wid', 'class']\n",
    "df.dropna(how=\"all\", inplace=True) # drops the empty line at file-end\n",
    "\n",
    "df.tail()"
   ]
  },
  {
   "cell_type": "code",
   "execution_count": 76,
   "id": "714133b7-a4ad-4252-be6b-a724d1d9a863",
   "metadata": {},
   "outputs": [],
   "source": [
    "# split data table into data X and class labels y\n",
    "\n",
    "X = df.iloc[:,0:4].values\n",
    "y = df.iloc[:,4].values"
   ]
  },
  {
   "cell_type": "markdown",
   "id": "13445ae8-fcb4-4401-9ee2-35727a2265aa",
   "metadata": {},
   "source": [
    "$$X^T=\\begin{pmatrix}{x_1}\\\\{x_2}\\\\{x_3}\\\\{x_4}\\end{pmatrix} = \\begin{pmatrix}{sepal length}\\\\{sepal width}\\\\{petal length}\\\\{peral width}\\end{pmatrix}$$"
   ]
  },
  {
   "cell_type": "markdown",
   "id": "260fee91-45c1-4903-ba25-d6a8f92402c7",
   "metadata": {},
   "source": [
    "Exploratory Visualization"
   ]
  },
  {
   "cell_type": "code",
   "execution_count": 77,
   "id": "9d4e27fd-f77d-424a-a052-83c8384def27",
   "metadata": {},
   "outputs": [
    {
     "data": {
      "image/png": "[encoded data removed]",
      "text/plain": [
       "<Figure size 576x432 with 4 Axes>"
      ]
     },
     "metadata": {},
     "output_type": "display_data"
    }
   ],
   "source": [
    "from matplotlib import pyplot as plt\n",
    "import numpy as np\n",
    "import math\n",
    "\n",
    "label_dict = {1: 'Iris-Setosa',\n",
    "              2: 'Iris-Versicolor',\n",
    "              3: 'Iris-Virgnica'}\n",
    "\n",
    "feature_dict = {0: 'sepal length [cm]',\n",
    "                1: 'sepal width [cm]',\n",
    "                2: 'petal length [cm]',\n",
    "                3: 'petal width [cm]'}\n",
    "\n",
    "with plt.style.context('seaborn-whitegrid'):\n",
    "    plt.figure(figsize=(8, 6))\n",
    "    for cnt in range(4):\n",
    "        plt.subplot(2, 2, cnt+1)\n",
    "        for lab in ('Iris-setosa', 'Iris-versicolor', 'Iris-virginica'):\n",
    "            plt.hist(X[y==lab, cnt],\n",
    "                     label=lab,\n",
    "                     bins=10,\n",
    "                     alpha=0.3,)\n",
    "        plt.xlabel(feature_dict[cnt])\n",
    "    plt.legend(loc='upper right', fancybox=True, fontsize=8)\n",
    "\n",
    "    plt.tight_layout()\n",
    "    plt.show()"
   ]
  },
  {
   "cell_type": "markdown",
   "id": "7635a6d1-a00b-4068-9205-b3bacdddf3ce",
   "metadata": {},
   "source": [
    "Standardizing"
   ]
  },
  {
   "cell_type": "code",
   "execution_count": 78,
   "id": "9577853e-1ad8-4809-86a0-ddfa3cf5f41f",
   "metadata": {},
   "outputs": [],
   "source": [
    "from sklearn.preprocessing import StandardScaler\n",
    "X_std = StandardScaler().fit_transform(X)"
   ]
  },
  {
   "cell_type": "markdown",
   "id": "8e9fa3de-0141-4007-9996-6a2fac869100",
   "metadata": {},
   "source": [
    "1 - Eigendecomposition - Computing Eigenvectors and Eigenvalues"
   ]
  },
  {
   "cell_type": "markdown",
   "id": "1e0a10ff-8e3c-4293-bb79-352a043976f3",
   "metadata": {},
   "source": [
    "The eigenvectors (principal components) determine the directions of the new feature space, and the eigenvalues determine their magnitude. In other words, the eigenvalues explain the variance of the data along the new feature axes."
   ]
  },
  {
   "cell_type": "markdown",
   "id": "672bf5ab-2c7e-43c7-90e1-489a8eb89f12",
   "metadata": {},
   "source": [
    "Covariance Matrix"
   ]
  },
  {
   "cell_type": "markdown",
   "id": "5e8f90ec-c4f7-4c51-94dc-5e7aa4596275",
   "metadata": {},
   "source": [
    "The classic approach to PCA is to perform the eigendecomposition on the covariance matrix $Σ$, which is a $d×d$ matrix where each element represents the covariance between two features.\n",
    "$$\\sigma_{jk}=\\frac{1}{n-1}\\sum^{n}_{i=1}(x_{ij}-\\bar{x_j})(x_{ik}-\\bar{x_k})$$\n",
    "$$\\sum = \\frac{1}{n-1}\\big((X-\\bar{x})^T(X-\\bar{x})\\big)$$\n",
    "$$\\bar{x}=\\frac{1}{n}\\sum^{n}_{i=1}x_i$$"
   ]
  },
  {
   "cell_type": "code",
   "execution_count": 80,
   "id": "88cf40eb-d404-4cac-8f07-5f03658cccc4",
   "metadata": {},
   "outputs": [
    {
     "name": "stdout",
     "output_type": "stream",
     "text": [
      "Covariance matrix \n",
      "[[ 1.00671141 -0.11010327  0.87760486  0.82344326]\n",
      " [-0.11010327  1.00671141 -0.42333835 -0.358937  ]\n",
      " [ 0.87760486 -0.42333835  1.00671141  0.96921855]\n",
      " [ 0.82344326 -0.358937    0.96921855  1.00671141]]\n",
      "NumPy covariance matrix: \n",
      "[[ 1.00671141 -0.11010327  0.87760486  0.82344326]\n",
      " [-0.11010327  1.00671141 -0.42333835 -0.358937  ]\n",
      " [ 0.87760486 -0.42333835  1.00671141  0.96921855]\n",
      " [ 0.82344326 -0.358937    0.96921855  1.00671141]]\n"
     ]
    }
   ],
   "source": [
    "import numpy as np\n",
    "mean_vec = np.mean(X_std, axis=0)\n",
    "cov_mat = (X_std - mean_vec).T.dot((X_std - mean_vec)) / (X_std.shape[0]-1)\n",
    "print('Covariance matrix \\n%s' %cov_mat)\n",
    "print('NumPy covariance matrix: \\n%s' %np.cov(X_std.T))"
   ]
  },
  {
   "cell_type": "code",
   "execution_count": 86,
   "id": "5dd04d54-d799-40cf-95ba-160bb8d14548",
   "metadata": {},
   "outputs": [
    {
     "name": "stdout",
     "output_type": "stream",
     "text": [
      "an eigendecomposition on the covariance matrix:\n",
      "Eigenvectors \n",
      "[[ 0.52237162 -0.37231836 -0.72101681  0.26199559]\n",
      " [-0.26335492 -0.92555649  0.24203288 -0.12413481]\n",
      " [ 0.58125401 -0.02109478  0.14089226 -0.80115427]\n",
      " [ 0.56561105 -0.06541577  0.6338014   0.52354627]]\n",
      "\n",
      "Eigenvalues \n",
      "[2.93035378 0.92740362 0.14834223 0.02074601]\n"
     ]
    }
   ],
   "source": [
    "cov_mat = np.cov(X_std.T)\n",
    "\n",
    "eig_vals, eig_vecs = np.linalg.eig(cov_mat)\n",
    "\n",
    "print('an eigendecomposition on the covariance matrix:')\n",
    "print('Eigenvectors \\n%s' %eig_vecs)\n",
    "print('\\nEigenvalues \\n%s' %eig_vals)"
   ]
  },
  {
   "cell_type": "markdown",
   "id": "7b787883-08fd-4c1f-850b-2f2f9f6c858d",
   "metadata": {},
   "source": [
    "Correlation Matrix"
   ]
  },
  {
   "cell_type": "code",
   "execution_count": 87,
   "id": "2af375b8-33fc-4c82-85dc-cb6074a8191e",
   "metadata": {},
   "outputs": [
    {
     "name": "stdout",
     "output_type": "stream",
     "text": [
      "Eigendecomposition of the standardized data based on the correlation matrix:\n",
      "Eigenvectors \n",
      "[[ 0.52237162 -0.37231836 -0.72101681  0.26199559]\n",
      " [-0.26335492 -0.92555649  0.24203288 -0.12413481]\n",
      " [ 0.58125401 -0.02109478  0.14089226 -0.80115427]\n",
      " [ 0.56561105 -0.06541577  0.6338014   0.52354627]]\n",
      "\n",
      "Eigenvalues \n",
      "[2.91081808 0.92122093 0.14735328 0.02060771]\n"
     ]
    }
   ],
   "source": [
    "cor_mat1 = np.corrcoef(X_std.T)\n",
    "\n",
    "eig_vals, eig_vecs = np.linalg.eig(cor_mat1)\n",
    "\n",
    "print('Eigendecomposition of the standardized data based on the correlation matrix:')\n",
    "print('Eigenvectors \\n%s' %eig_vecs)\n",
    "print('\\nEigenvalues \\n%s' %eig_vals)"
   ]
  },
  {
   "cell_type": "code",
   "execution_count": 88,
   "id": "e97d87b6-e32d-41f9-a370-74a5b0cba9bc",
   "metadata": {},
   "outputs": [
    {
     "name": "stdout",
     "output_type": "stream",
     "text": [
      "Eigendecomposition of the raw data based on the correlation matrix:\n",
      "Eigenvectors \n",
      "[[ 0.52237162 -0.37231836 -0.72101681  0.26199559]\n",
      " [-0.26335492 -0.92555649  0.24203288 -0.12413481]\n",
      " [ 0.58125401 -0.02109478  0.14089226 -0.80115427]\n",
      " [ 0.56561105 -0.06541577  0.6338014   0.52354627]]\n",
      "\n",
      "Eigenvalues \n",
      "[2.91081808 0.92122093 0.14735328 0.02060771]\n"
     ]
    }
   ],
   "source": [
    "cor_mat2 = np.corrcoef(X.T)\n",
    "\n",
    "eig_vals, eig_vecs = np.linalg.eig(cor_mat2)\n",
    "\n",
    "print('Eigendecomposition of the raw data based on the correlation matrix:')\n",
    "print('Eigenvectors \\n%s' %eig_vecs)\n",
    "print('\\nEigenvalues \\n%s' %eig_vals)"
   ]
  },
  {
   "cell_type": "markdown",
   "id": "e18e4bbe-ade0-4996-b0a7-6424cf7c76c7",
   "metadata": {},
   "source": [
    "We can clearly see that all three approaches yield the same eigenvectors and eigenvalue pairs:\n",
    "\n",
    "- Eigendecomposition of the covariance matrix after standardizing the data.\n",
    "- Eigendecomposition of the correlation matrix.\n",
    "- Eigendecomposition of the correlation matrix after standardizing the data."
   ]
  },
  {
   "cell_type": "code",
   "execution_count": null,
   "id": "46e89e99-9c2f-48fe-8f0a-adb9f2c321c7",
   "metadata": {},
   "outputs": [],
   "source": []
  },
  {
   "cell_type": "markdown",
   "id": "7d5f29b9-1a00-42a6-8e7b-de65ebefc026",
   "metadata": {},
   "source": [
    "## SVD"
   ]
  },
  {
   "cell_type": "code",
   "execution_count": null,
   "id": "c9df39b4-bc30-4ba3-8fbf-12ec6c9621c8",
   "metadata": {},
   "outputs": [],
   "source": []
  }
 ],
 "metadata": {
  "kernelspec": {
   "display_name": "Python 3",
   "language": "python",
   "name": "python3"
  },
  "language_info": {
   "codemirror_mode": {
    "name": "ipython",
    "version": 3
   },
   "file_extension": ".py",
   "mimetype": "text/x-python",
   "name": "python",
   "nbconvert_exporter": "python",
   "pygments_lexer": "ipython3",
   "version": "3.8.12"
  }
 },
 "nbformat": 4,
 "nbformat_minor": 5
}
