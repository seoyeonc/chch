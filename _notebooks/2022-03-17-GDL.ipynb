{
 "cells": [
  {
   "cell_type": "markdown",
   "id": "e54cf825-af06-41ed-ad14-5103a7b9548f",
   "metadata": {
    "id": "cac470df-29e7-4148-9bbd-d8b9a32fa570",
    "tags": []
   },
   "source": [
    "# Geometric deep learning going beyond Euclidean data\n",
    "> Michael M. Bronstein, Joan Bruna, Yann LeCun, Arthur Szlam, Pierre Vandergheynst\n",
    "\n",
    "- toc:true\n",
    "- branch: master\n",
    "- badges: true\n",
    "- comments: false\n",
    "- author: 최서연\n",
    "- categories: [논문리뷰]"
   ]
  },
  {
   "cell_type": "markdown",
   "id": "4832237e-092a-4071-ae2a-d890cf339138",
   "metadata": {},
   "source": [
    "- Geometric deep learning is an umbrella term for emerging techniques attempting to generalize (structured) deep neural models to non-Euclidean domains such as graphs and manifolds.\n",
    "    - 기하학적 딥러닝: 그래프나 매니폴드같은 비유클리디언 도메인에서 구조화된 깊은 신경망 모델을 일반화하는 등장하는 기술 시도를 포괄하는 용어\n",
    "- The purpose of this paper is to overview different examples of geometric deep learning problems and present available solutions, key difficulties, applications, and future research directions in this nascent field."
   ]
  },
  {
   "cell_type": "markdown",
   "id": "b24f171a-2cf7-4fbe-b9f7-bfe4a6d652f8",
   "metadata": {
    "tags": []
   },
   "source": [
    "### I. INTRODUCTION"
   ]
  },
  {
   "cell_type": "markdown",
   "id": "1811c9e0-0d90-4602-b4e3-c7ec6276ee95",
   "metadata": {},
   "source": [
    "- The use of convolutions has a two-fold effect. \n",
    "    - First, it allows extracting local features that are shared across the image domain and greatly reduces the number of parameters in the network with respect to generic deep architectures (and thus also the risk of overfitting), without sacrificing the expressive capacity of the network.\n",
    "    - 적은 수의 파라메터, 로컬 특징 추출\n",
    "    - Second, the convolutional architecture itself imposes some priors about the data, which appear very suitable especially for natural images\n",
    "    - 자연 이미지에 적합한 우선순위 부과"
   ]
  },
  {
   "cell_type": "markdown",
   "id": "f4b219a2-060f-43f3-9cd5-04e2d85fbfe0",
   "metadata": {},
   "source": [
    "- The non-Euclidean nature of such data implies that there are no such familiar properties as global parameterization, common system of coordinates, vector space structure, or shift-invariance. \n",
    "- Consequently, basic operations like convolution that are taken for granted in the Euclidean case are even not well defined on non-Euclidean domains. \n",
    "    - 유클리드레서 당연한 컨벌루션같은 기본 연산은 비유클리드 도메인에서 잘 정의되지 않음!\n",
    "- The purpose of our paper is to show different methods of translating the key ingredients of successful deep learning methods such as convolutional neural networks to non-Euclidean data.\n",
    "    - 목적: 비유클리디안 데이터에 컨벌루션 신경망같은 성공적인 딥러닝 방법의 주요 구성을 변환하는 다양한 방법을 보여주기~"
   ]
  },
  {
   "cell_type": "markdown",
   "id": "b1e1fdfc-93c4-4c6a-ae78-e440b332cd4b",
   "metadata": {
    "tags": []
   },
   "source": [
    "### II. GEOMETRIC LEARNING PROBLEMS"
   ]
  },
  {
   "cell_type": "markdown",
   "id": "ab5ce927-f38c-4fee-969a-848f26797143",
   "metadata": {},
   "source": [
    "- Broadly speaking, we can distinguish between two classes of geometric learning problems.\n",
    "- In the first class of problems, the goal is to characterize the structure of the data.\n",
    "    - 목적은 데이터 구조를 특성화하는 것\n",
    "- The second class of problems deals with analyzing functions defined on a given non-Euclidean domain. \n",
    "- These two classes are related, since understanding the properties of functions defined on a domain conveys certain information about the domain, and vice-versa, the structure of the domain imposes certain properties on the functions on it.\n",
    "    - 도메인에 정의된 함수의 특성을 이해하는 것은 도메인에 대한 특정 정보를 전달하고, 그 반대로 도매안의 구조는 도메인에서 함수에 특성 속성을 부과하기 때문에 구 클래스는 연관이 있다."
   ]
  },
  {
   "cell_type": "markdown",
   "id": "3ba72cf2-ad6b-4283-a856-b8d13e21f9fc",
   "metadata": {},
   "source": [
    "**Structure of the domain:**"
   ]
  },
  {
   "cell_type": "markdown",
   "id": "401a16be-9474-4aa5-8f30-7b7d84da397c",
   "metadata": {},
   "source": [
    "- Many methods for nonlinear dimensionality reduction consist of two steps: \n",
    "    - first, they start with constructing a representation of local affinity of the data points (typically, a sparsely connected graph). \n",
    "        - 데이터 포인트의 지엽적 유사도local affinity 구성\n",
    "    - Second, the data points are embedded into a low-dimensional space trying to preserve some criterion of the original affinity.\n",
    "        - 데이터 포인트는 원본 유사도를 보존하면서 저차원 공간에 임베드됨"
   ]
  },
  {
   "cell_type": "markdown",
   "id": "72984008-385b-44ae-8ae2-da6b37731dc7",
   "metadata": {},
   "source": [
    "Instead of embedding the vertices, the graph structure can be processed by decomposing it into small sub-graphs called motifs [36] or graphlets [37].\n",
    "- 정점 임베딩하는 대신 그래프 구조는 모티브나 그래프릿같은 작은 서브 그래프에서 분해함으로써 처리 가능\n",
    "- 데이터가 manifold나 graph로 주어지면 유사도를 구성하는 과정이 불필요함"
   ]
  },
  {
   "cell_type": "markdown",
   "id": "7b4ab0a5-d898-4cf4-9289-2de077ebbc97",
   "metadata": {},
   "source": [
    "- In network analysis applications such as computational sociology, the topological structure of the social graph representing the social relations between people carries important insights allowing, for example, to classify the vertices and detect communities [40].\n",
    "    - 네트워크 분석 어플리케이션은 정점을 분류하고 커뮤니티 탐지\n",
    "- In natural language processing, words in a corpus can be represented by the co-occurrence graph, where two words are connected if they often appear near each other [41].\n",
    "    - 자연어 처리에서는 두 단어가 서로 근처에 나타나면 연결된 동시 발생 그래프로 표현 가능"
   ]
  },
  {
   "cell_type": "markdown",
   "id": "6e484f7f-20ba-4205-a21b-888659e6735e",
   "metadata": {},
   "source": [
    "**Data on a domain**"
   ]
  },
  {
   "cell_type": "markdown",
   "id": "1b6a5b06-647b-430e-ba72-017ff1b37b63",
   "metadata": {},
   "source": [
    "- Our second class of problems deals with analyzing functions defined on a given non-Euclidean domain.\n",
    "- We can further break down such problems into two subclasses: problems where the domain is fixed and those where multiple domains are given."
   ]
  },
  {
   "cell_type": "markdown",
   "id": "8bdae23a-2680-4390-be05-d0be0a2a914c",
   "metadata": {},
   "source": [
    "- In computer graphics and vision applications, finding similarity and correspondence between shapes are examples of the second sub-class of problems: each shape is modeled as a manifold, and one has to work with multiple such domains.\n",
    "    - 각 모양은 매니폴드로 모델화되고, 하나는 여러 도메인에서 작업해야 한다.\n",
    "- In this setting, a generalization of convolution in the spatial domain using local charting [46], [47], [48] appears to be more appropriate."
   ]
  },
  {
   "cell_type": "markdown",
   "id": "e5df59d2-d1e6-4738-9763-188fca4e5093",
   "metadata": {},
   "source": [
    "**Brief history**"
   ]
  },
  {
   "cell_type": "markdown",
   "id": "9918792d-ed01-45bf-976c-fd877ac9a22d",
   "metadata": {},
   "source": [
    "- The main focus of this review is on this second class of problems, namely learning functions on non-Euclidean structured domains, and in particular, attempts to generalize the popular CNNs to such settings.\n",
    "- First attempts to generalize neural networks to graphs we are aware of are due to Scarselli et al. [49], who proposed a scheme combining recurrent neural networks and random walk models.\n",
    "    - 그래프에서 신경망을 일반화하려는 첫번째 시도는 Scarselli이 함~ 임의보행 모델과 반복 신경망 모델의 결합을 제안함\n",
    "- The first formulation of CNNs on graphs is due to Bruna et al. [52], who used the definition of convolutions in the spectral domain.\n",
    "    - 그레프에서 cnn을 첫번째 공식화한 건 Bruna, 스펙트럼 도메인에서 컨벌루션 정의를 사용!"
   ]
  },
  {
   "cell_type": "markdown",
   "id": "0c83eb14-e137-46fb-81c3-2e56739d2a54",
   "metadata": {},
   "source": [
    "- Their paper, while being of conceptual importance, came with significant computational drawbacks that fell short of a truly useful method.\n",
    "    - 유용한데 계산상의 결점이 존재.\n",
    "- These drawbacks were subsequently addressed in the followup works of Henaff et al.[44] and Defferrard et al. [45].\n",
    "- In the latter paper, graph CNNs allowed achieving some state-of-the-art results.\n",
    "    - 후에 해결책 제시하는듯?!"
   ]
  },
  {
   "cell_type": "markdown",
   "id": "b22c534c-4700-499b-8ac1-ceaae18ebedc",
   "metadata": {},
   "source": [
    "- In a parallel effort in the computer vision and graphics community, Masci et al. [47] showed the first CNN model on meshed surfaces, resorting to a spatial definition of the convolution operation based on local intrinsic patches.\n",
    "    - 평행적 노력: 로컬 고유 패치를 기반으로 한 컨벌루션 연산의 공간적 정의에 의존한 매쉬드 표면에서 첫번째 CNN 모델을 보임"
   ]
  },
  {
   "cell_type": "markdown",
   "id": "40cf3176-20f7-4ef3-9b79-f354ec78e9fc",
   "metadata": {},
   "source": [
    "- The interest in deep learning on graphs or manifolds has exploded in the past year, resulting in numerous attempts to apply these methods in a broad spectrum of problems ranging from biochemistry [55] to recommender systems [56]."
   ]
  },
  {
   "cell_type": "markdown",
   "id": "d0c53c1c-69f2-47c0-8d6c-8a65e2e5120c",
   "metadata": {},
   "source": [
    "**Structure of the paper**"
   ]
  },
  {
   "cell_type": "markdown",
   "id": "2bf01866-4135-4277-a467-7a4364517c34",
   "metadata": {},
   "source": [
    "- Going to the non-Euclidean world in Section IV, we then define basic notions in differential geometry and graph theory.\n",
    "- These topics are insufficiently known in the signal processing community, and to our knowledge, there is no introductorylevel reference treating these so different structures in a common way.\n",
    "- One of our goals is to provide an accessible overview of these models resorting as much as possible to the intuition of traditional signal processing.\n",
    "- In Sections V–VIII, we overview the main geometric deep learning paradigms, emphasizing the similarities and the differences between Euclidean and non-Euclidean learning methods.\n",
    "- In Section IX, we show examples of selected problems from the fields of network analysis, particle physics, recommender systems, computer vision, and graphics. \n",
    "- In Section X, we draw conclusions and outline current main challenges and potential future research directions in geometric deep learning. \n",
    "- To make the paper more readable, we use inserts to illustrate important concepts."
   ]
  },
  {
   "cell_type": "markdown",
   "id": "e31e7024-56f0-45ed-9205-c82a4de21c0e",
   "metadata": {
    "tags": []
   },
   "source": [
    "### III. DEEP LEARNING ON EUCLIDEAN DOMAINS"
   ]
  },
  {
   "cell_type": "markdown",
   "id": "0761b710-54c1-4dad-a64f-8b039fb8ed26",
   "metadata": {},
   "source": [
    "**Geometric priors**"
   ]
  },
  {
   "cell_type": "markdown",
   "id": "26dc2e0a-e08e-4dc4-9202-805f2c50995d",
   "metadata": {},
   "source": [
    "- Consider a compact d-dimensional Euclidean domain $\\Omega = [0; 1]^d \\subset \\mathbb{R}^d $ on which squareintegrable functions $f \\in L2(\\Omega)$ are defined\n",
    "    - 제곱할 수 있는 함수가 정의된 컴책트한 d차원의 유클리디안 도메인을 고려해보자.\n",
    "- We consider a generic supervised learning setting, in which an unknown8 function $y : L^2(\\Omega) \\rightarrow \\cal{Y}$ is observed on a training set\n",
    "    - $\\{ f_i \\in L^2 (\\Omega) , y_i = y(f_i )  \\}_{i \\in \\cal{I}}$..(1)"
   ]
  },
  {
   "cell_type": "markdown",
   "id": "bae58745-b510-4751-b2bf-9cd90820806d",
   "metadata": {},
   "source": [
    "- In a supervised classification setting, the target space $\\cal{Y}$ can be thought discrete with $| \\cal{Y} |$ being the number of classes. \n",
    "- In a multiple object recognition setting, we can replace $\\cal{Y}$ by the $K$-dimensional simplex, which represents the posterior class probabilities $p(y|x)$. In regression tasks, we may consider $\\cal{Y} = \\mathbb{R}^m$."
   ]
  },
  {
   "cell_type": "markdown",
   "id": "fc2c11d5-8095-4986-8acb-89068b5001c8",
   "metadata": {},
   "source": [
    "**Stationarity**"
   ]
  },
  {
   "cell_type": "markdown",
   "id": "c0ce98a9-d967-4903-839b-06ccb0057fb3",
   "metadata": {},
   "source": [
    "- Let $\\cal{T}vf(x) = f(x - v),$  $x; v \\in \\Omega$ (2) be a translation operator acting on functions $f \\in L^2 (\\Omega)$\n",
    "- Our first assumption is that the function y is either invariant or equivariant with respect to translations, depending on the task.\n",
    "- In the former case, we have $y(\\cal{T}_v f) = y(f)$ for any $f \\in L^2(\\Omega)$ and $v \\in \\Omega$. \n",
    "    - invariant의 뜻\n",
    "- This is typically the case in object classification tasks. \n",
    "- In the latter, we have $y(\\cal{T}_v f) = \\cal{T}_v y(f)$, which is welldefined when the output of the model is a space in which translations can act upon (for example, in problems of object8 localization, semantic segmentation, or motion estimation).\n",
    "- *Our definition of invariance should not be confused with the traditional notion of translation invariant systems in signal processing, which corresponds to translation equivariance in our language (since the output translates whenever the input translates).*"
   ]
  },
  {
   "cell_type": "markdown",
   "id": "8269516a-a280-4cf6-8eda-a615d7653e78",
   "metadata": {},
   "source": [
    "**Local deformations and scale separation**"
   ]
  },
  {
   "cell_type": "markdown",
   "id": "1072f9d1-f9db-457f-ab7a-784e0152e338",
   "metadata": {},
   "source": [
    "- Similarly, a deformation $\\cal{L}_{\\cal{T}}$, where $\\tau : \\Omega \\rightarrow \\Omega$ is a smooth vector field, acts on $L^2 (\\Omega)$ as $\\cal{L}_{\\cal{T}} f(x) = f(x - \\tau(x))$.\n",
    "- deformation can model local translations, changes in point of view, rotations and frequency transpositions"
   ]
  },
  {
   "cell_type": "markdown",
   "id": "231d4e7b-3047-4497-a6dc-9fd910868af0",
   "metadata": {},
   "source": [
    "- Most tasks studied in computer vision are not only translation invariant/equivariant, but also stable with respect to local deformations [57], [18]. \n",
    "- In tasks that are translation invariant we have\n",
    "    - $| y(\\cal{L}_{\\cal{T}} f) - y(f)| \\approx \\| \\bigtriangledown \\tau \\|$, (3)\n",
    "    - for all $f$, $\\tau$ .\n",
    "- Here, $\\| \\bigtriangledown \\tau \\|$ measures the smoothness of a given deformation field.\n",
    "- In other words, the quantity to be predicted does not change much if the input image is slightly deformed.\n",
    "- In tasks that are translation equivariant, we have\n",
    "    - $| y(\\cal{L}_{\\cal{T}} f) - \\cal{L}_{\\cal{T}}y(f)| \\approx \\| \\bigtriangledown \\tau \\|$, (4)\n",
    "- This property is much **stronger** than the previous one, since the space of local deformations has a high dimensionality, as opposed to the d-dimensional translation group.\n",
    "- It follows from (3) that we can extract sufficient statistics at a lower spatial resolution by downsampling demodulated localized filter responses without losing approximation power.\n",
    "- An important consequence of this is that long-range dependencies can be broken into multi-scale local interaction terms, leading to hierarchical models in which spatial resolution is progressively reduced. \n",
    "- To illustrate this principle, denote by\n",
    "    - $Y (x_1; x2; v) = Prob(f(u) = x1 \\text{ and } f(u + v) = x2)$ (5)\n",
    "    - the joint distribution of two image pixels at an offset $v$ from each other."
   ]
  },
  {
   "cell_type": "markdown",
   "id": "aa6afb75-e3e6-4d8f-b7b6-570c16be6eb8",
   "metadata": {},
   "source": [
    "- In the presence of long-range dependencies, this joint distribution will not be separable for any $v$.\n",
    "- However, the deformation stability prior states that $Y (x_1, x_2; v) \\approx Y (x_1, x_2; v(1 + \\epsilon ))$ for small $\\epsilon$. \n",
    "- In other words, whereas long-range dependencies indeed exist in natural images and are critical to object recognition, they can be captured and down-sampled at different scales. \n",
    "- This principle of stability to local deformations has been exploited in the computer vision community in models other than CNNs,\n",
    "- for instance, deformable parts models [58]."
   ]
  },
  {
   "cell_type": "markdown",
   "id": "1e642b7d-d21a-4a6b-ba15-04dcda94b657",
   "metadata": {},
   "source": [
    "**Convolutional neural networks**"
   ]
  },
  {
   "cell_type": "markdown",
   "id": "2ccfc0e2-1631-4e3a-93d2-774f3b78c89c",
   "metadata": {},
   "source": [
    "- Stationarity and stability to local translations are both leveraged in convolutional neural networks \n",
    "\n",
    "\n",
    "- The model is said to be deep if it comprises multiple layers, though this notion is rather vague and one can find  examples of CNNs with as few as a couple and as many as hundreds of layers [11].\n",
    "    - 다층으로 구성되면 깊다고는 하는데 이 개념은 오히려 모호하고 구 개 혹은 수백개 층으로 CNN의 예를 찾을 수 있음\n",
    "- The output features enjoy translation invariance/covariance depending on whether spatial resolution is progressively lost by means of pooling or kept fixed.\n",
    "    - 출력 특징으로는 공간 해상도가 풀링에 의해 점진적으로 손실되는지 고정을 유지하는지에 따라 변형 불변성(위치 변해도 결과 나옴) 및 공변성을 가진다는 것.\n",
    "- Moreover, if one specifies the convolutional tensors to be complex wavelet decomposition operators and uses complex modulus as pointwise nonlinearities, one can provably obtain stability to local deformations [17].\n",
    "- Although this stability is not rigorously proved for generic compactly supported convolutional tensors, it underpins the empirical success of CNN architectures across a variety of computer vision applications [1]."
   ]
  },
  {
   "cell_type": "markdown",
   "id": "45735fb2-3f12-464b-bf1a-15acf3e9ba95",
   "metadata": {},
   "source": [
    "- A key advantage of CNNs explaining their success in numerous tasks is that the geometric priors on which CNNs are based result in a learning complexity that avoids the curse of dimensionality.\n",
    "    - 수많은 연구에서 성공을 설명하는 CNN의 주요 장점은 CNN이 기반으로 하는 기하학적 prior가 차원의 curse를 피하는 학습 복잡성의 결과를 초래한다는 것.\n",
    "- Thanks to the stationarity and local deformation priors, the linear operators at each layer have a constant number of parameters, independent of the input size n (number of pixels in an image). \n",
    "    - stationarity와 국소적 분해 prior 덕분에 선형 연산자는 출력 크기 n에 독립적으로(상관없이) 각 층에서 매개변수의 일정한 수를 가짐 \n",
    "- Moreover, thanks to the multiscale hierarchical property, the number of layers grows at a rate $\\cal{O}(log n)$, resulting in a total learning complexity of $\\cal{O}(log n)$ parameters.\n",
    "    - 다중 스케일 계층적 특징 덕분에 수많은 층은 $\\cal{O}(log n)$ 비율로 증가하고, $\\cal{O}(log n)$ 매개변수의 전체 학습 복접성을 초래함"
   ]
  },
  {
   "cell_type": "markdown",
   "id": "5284f628-79e3-4e63-bd6c-913c14c17819",
   "metadata": {
    "tags": []
   },
   "source": [
    "### IV. THE GEOMETRY OF MANIFOLDS AND GRAPHS"
   ]
  },
  {
   "cell_type": "markdown",
   "id": "711839ad-7a32-49cc-bf1c-11c0e9483a1d",
   "metadata": {},
   "source": [
    "**Manifolds**"
   ]
  },
  {
   "cell_type": "markdown",
   "id": "cc234b6c-1993-4068-8e01-8efda9b6663d",
   "metadata": {},
   "source": [
    "- a manifold is a space that is locally Euclidean.\n",
    "- Formally speaking, a (differentiable) d-dimensional manifold $\\cal{X}$ is a topological space where each point $x$ has a neighborhood that is topologically equivalent (homeomorphic) to a d-dimensional Euclidean space, called the tangent space and denoted by $T_x \\cal{X}$.\n",
    "- The collection of tangent spaces at all points (more formally, their disjoint union) is referred to as the tangent bundle and denoted by $T \\cal{X}$. \n",
    "- On each tangent space, we define an inner product $<\\bullet,\\bullet>_{T_x \\cal{X}} : T_x \\cal{X} \\times T_ \\cal{x}X \\rightarrow \\mathbb{R}$, which is additionally assumed to depend smoothly on the position x.\n",
    "- This inner product is called a Riemannian metric in differential geometry and allows performing local measurements of angles, distances, and volumes. \n",
    "- A manifold equipped with a metric is called a Riemannian manifold."
   ]
  },
  {
   "cell_type": "markdown",
   "id": "b1f5df52-f1f8-43f9-a5e7-459aaeb40f0f",
   "metadata": {},
   "source": [
    "리만 다양체: 각 점의 접공간 위에 양의 정부호 쌍선형 형식이 주어져, 두 점 사이의 거리를 측정할 수 있는 매끄러운 다양체이다"
   ]
  },
  {
   "cell_type": "markdown",
   "id": "9bf0dcd7-cb8a-450b-b79d-dff6f7505eec",
   "metadata": {},
   "source": [
    "- The celebrated Nash Embedding Theorem guarantees that any sufficiently smooth Riemannian manifold can be realized in a Euclidean space of sufficiently high dimension [67]. \n",
    "- An embedding is not necessarily unique; two different realizations of a Riemannian metric are called isometries."
   ]
  },
  {
   "cell_type": "markdown",
   "id": "91e8c08c-049a-49c5-a037-92e56be5b907",
   "metadata": {},
   "source": [
    "![](https://d3i71xaburhd42.cloudfront.net/0e779fd59353a7f1f5b559b9d65fa4bfe367890c/6-Figure1-1.png)"
   ]
  },
  {
   "cell_type": "markdown",
   "id": "0b5443f1-5664-4b7e-9656-f78584083d13",
   "metadata": {},
   "source": [
    "- Isometries do not affect the metric structure of themanifold and consequently, preserve any quantities that can be expressed in terms of the Riemannian metric (called intrinsic).\n",
    "- Conversely, properties related to the specific realization of the manifold in the Euclidean space are called extrinsic."
   ]
  },
  {
   "cell_type": "markdown",
   "id": "e83211b2-c9c8-4b2d-a3e3-f1b5c2634fb2",
   "metadata": {},
   "source": [
    "**Calculus on manifolds**"
   ]
  },
  {
   "cell_type": "markdown",
   "id": "d8152c8a-a367-4a76-b711-7371111b5c2d",
   "metadata": {},
   "source": [
    "- 우리가 관심있는 두 가지\n",
    "    - A scalar field is a smooth real function $f : \\cal{X} \\rightarrow \\mathbb{R}$ on the manifold.\n",
    "    - A tangent vector field $F : \\cal{X} \\rightarrow T\\cal{X}$ is a mapping attaching a tangent vector $F(x) \\in T_x \\cal{X}$ to each point $x$.\n",
    "- We define the Hilbert spaces of scalar and vector fields on manifolds, denoted by $L^2(\\cal{X})$ and $L^2(T \\cal{X})$, "
   ]
  },
  {
   "cell_type": "markdown",
   "id": "23289a14-01f1-4ffd-bbf7-7717412d7e7c",
   "metadata": {},
   "source": [
    "- One of the big differences distinguishing classical calculus from differential geometry is a lack of vector space structure on the manifold, prohibiting us from na¨ıvely using expressions like $f(x+dx)$.\n",
    "- The conceptual leap that is required to generalize such notions to manifolds is the need to work locally in the tangent space."
   ]
  },
  {
   "cell_type": "markdown",
   "id": "7a72f6b7-78b5-49a0-9db5-e346a623a60a",
   "metadata": {},
   "source": [
    "- The operator $\\bigtriangledown f : L^2(\\cal{X}) \\rightarrow L^2(T\\cal{X})$ in the definition above is called the intrinsic gradient, and is similar to the classical notion of the gradient defining the direction of the steepest change of the function at a point, with the only difference that the direction is now a tangent vector."
   ]
  },
  {
   "cell_type": "markdown",
   "id": "a37b27c7-5cb6-4489-b3bc-12389b874b14",
   "metadata": {},
   "source": [
    "- The Laplacian can be interpreted as the difference between the average of a function on an infinitesimal sphere around a point and the value of the function at the point itself.\n",
    "    - 라플라시안은 point 주위의 극소수 상의 함수의 평균과 점 자체의 함수 값의 차이로 해석될 수 있다."
   ]
  },
  {
   "cell_type": "markdown",
   "id": "ee3ac487-fbe4-4100-aea6-31ada08be25e",
   "metadata": {},
   "source": [
    "**Graphs and discrete differential operators**"
   ]
  },
  {
   "cell_type": "markdown",
   "id": "39eff3c9-3181-4132-8909-da2ef97a4d5f",
   "metadata": {},
   "source": [
    "- For simplicity, we will consider weighted undirected graphs, formally defined as a pair $(\\cal{V}, \\cal{E})$, where $\\cal{V} = \\{1; \\dots n\\}$ is the set of $n$ vertices, and $\\cal{E} \\subseteq \\cal{V} \\times \\cal{V}$ is the set of edges, where the graph being undirected implies that $(i, j) \\in \\cal{E}$ iff $(j, i) \\in \\cal{E}$.\n",
    "- Furthermore, we associate a weight $a_i > 0$ with each vertex $i \\in \\cal{V}$, and a weight $w_{ij} \\ge 0$ with each edge $(i, j) \\in \\cal{E}$.\n",
    "- Real functions $f : \\cal{V} \\rightarrow \\mathbb{R}$ and $F : \\cal{E} \\rightarrow \\mathbb{R}$ on the vertices and edges of the graph, respectively, are roughly the discrete analogy of continuous scalar and tangent vector fields in differential geometry.\n",
    "- We can define Hilbert spaces $L^2(\\cal{V})$ and $L^2(\\cal{E})$ of such functions by specifying the respective inner products,\n",
    "$$<f, g>_{L^2(\\cal{V})} = \\sum_{i\\in \\cal{V}} a_i f_i g_i ; \\text{ (20)}$$\n",
    "$$<F, G>_{L^2(\\cal{E})} = \\sum_{i\\in \\cal{E}} w_{i,j} F_{i,j} G_{i,j} ; \\text{ (21)}$$"
   ]
  },
  {
   "cell_type": "markdown",
   "id": "d90b34c9-0bfc-4570-a372-ca159f2280b8",
   "metadata": {},
   "source": [
    "- Let $f \\in L^2(\\cal{V})$ and $F \\in L^2(\\cal{E})$ be functions on the vertices and edges of the graphs, respectively.\n",
    "- We can define differential operators acting on such functions analogously to differential operators on manifolds [72]. \n",
    "- The graph gradient is an operator $\\bigtriangledown : L^2(\\cal{V}) \\rightarrow L^2(\\cal{E})$ mapping functions defined on vertices to functions defined on edges,\n",
    "$$(\\bigtriangledown f)_{ij} = f_i - f_j , \\text{  (22)}$$\n",
    "- automatically satisfying $(\\bigtriangledown f)_{ij} = (\\bigtriangledown f)_{ji}$.\n",
    "- The graph divergence is an operator div : $L^2(\\cal{E}) \\rightarrow L^2(\\cal{V})$ doing the converse,\n",
    "$$(div F )_i = \\frac{1}{a_i} \\sum_{j:(i,j)\\in \\cal{E}} w_{ij} F_{ij} \\text{  (23)}$$\n",
    "- It is easy to verify that the two operators are adjoint w.r.t. the inner products (20)–(21), \n",
    "$$ <F, \\bigtriangledown f> _{L^2(\\cal{E})} = <\\bigtriangledown * F, f>_{L^2(\\cal{V})} = |<-div F, f>_{L^2(\\cal{V})}\\text{  (24)}$$\n",
    "- The graph Laplacian is an operator $\\bigtriangleup : L^2(\\cal{V}) \\rightarrow L^2(\\cal{V})$ defined as $\\bigtriangleup = -div \\bigtriangledown$. \n",
    "- Combining definitions (22)–(23), it can be expressed in the familiar form\n",
    "$$(\\bigtriangleup f)_i = \\frac{1}{a_i} \\sum_{(i,j)\\in \\cal{E}} w_{ij} (f_i - f_j) \\text{  (25)}$$"
   ]
  },
  {
   "cell_type": "markdown",
   "id": "b8fb5a14-c0d4-445d-995a-fb2568f6fd06",
   "metadata": {},
   "source": [
    "- Note that formula (25) captures the intuitive geometric interpretation of the Laplacian as the difference between the local average of a function around a point and the value of the function at the point itself.\n",
    "- Denoting by $W = (w_{ij})$ the $n \\times n$ matrix of edge weights (it is assumed that $w_{ij} = 0$ if $(i, j) \\notin \\cal{E})$, by $A = diag(a_1, \\dots , a_n)$ the diagonal matrix of vertex weights, and by $D = diag(\\sum_{j:j \\neq i} w_{ij} )$ the degree matrix, the graph Laplacian application to a function $f \\in L^2(\\cal{V})$ represented as a column vector $f = (f_1, \\dots ,f_n)^\\top$ can be written in matrixvector form as\n",
    "$$\\bigtriangleup f = A^{-1} (D - W) f  \\text{  (26)}$$\n",
    "- The choice of $A = I$ in (26) is referred to as the unnormalized graph Laplacian; another popular choice is $A = D$ producing the random walk Laplacian [73]."
   ]
  },
  {
   "cell_type": "markdown",
   "id": "643e449f-03ec-4887-99b0-2dab110b9605",
   "metadata": {},
   "source": [
    "**Discrete manifolds**"
   ]
  },
  {
   "cell_type": "markdown",
   "id": "4f9246bf-fc6f-4093-a0d0-c5d812833433",
   "metadata": {},
   "source": [
    "- As we mentioned, there are many practical situations in which one is given a sampling of points arising from a manifold but not the manifold itself.\n",
    "- In computer graphics applications, reconstructing a correct discretization of a manifold from a point cloud is a difficult problem of its own, referred to a meshing (see insert IN2).\n",
    "- In manifold learning problems, the manifold is typically approximated as a graph capturing the local affinity structure.\n",
    "- We warn the reader that the term “manifold” as used in the context of generic data science is not geometrically rigorous, and can have less structure than a classical smooth manifold we have defined beforehand.\n",
    "    - 일반적인 데이터 과학에서 사용되는 manifold는 엄격하지도 않고 더 적은 구조를 가질 수 있음"
   ]
  },
  {
   "cell_type": "markdown",
   "id": "676ca3c3-ccf7-4e85-984e-1540762f0433",
   "metadata": {},
   "source": [
    "**Fourier analysis on non-Euclidean domains**"
   ]
  },
  {
   "cell_type": "markdown",
   "id": "f329d308-4ca3-4b9b-b897-b342ba45c12d",
   "metadata": {},
   "source": [
    "- The Laplacian operator is a self-adjoint positive-semidefinite operator, admitting on a compact domain an eigendecomposition with a discrete set of orthonormal eigenfunctions $φ_0, φ_1, . . .$ (satisfying $(φ_i, φ_j)_{i^L2(\\cal{X}} = δ_{ij} )$ and non-negative real eigenvalues $0 = λ_0 ≤ λ_1 ≤ . . .$ (referred to as the spectrum of the Laplacian),\n",
    "$$\\bigtriangleup \\phi_i = \\lambda_i \\phi_i , \\text{  } i=0,1,\\dots \\text{  (31)}$$\n",
    "- The eigenfunctions are the smoothest functions in the sense of the Dirichlet energy (see insert IN3) and can be interpreted as a generalization of the standard Fourier basis (given, in fact, by the eigenfunctions of the 1D Euclidean Laplacian, $−\\frac{d^2}{x^2} e^{iωx} = ω^2 e^{iωx}$) to a non-Euclidean domain.\n",
    "- It is important to emphasize that the Laplacian eigenbasis is intrinsic due to the intrinsic construction of the Laplacian itself.\n",
    "    - 라플라시안 고유기저는 라플라시안 자체의 고유한 구조 떄문에 고유하다는 건 중요\n",
    "- A square-integrable function $f$ on $\\cal{X}$ can be decomposed into Fourier series as\n",
    "$$f(x) = \\sum_{i \\geq 0} (f,\\phi_i)_{L^2 (\\cal{X})} \\phi_i (x)$$\n",
    "- where the projection on the basis functions producing a discrete set of Fourier coefficients $(\\hat{f}_i = (f,\\phi_i)_{L^2 (\\cal{X})})$ generalizes the analysis (forward transform) stage in classical signal processing, and summing up the basis functions with these coefficients is the synthesis (inverse transform) stage.\n",
    "    - 푸리에 계수의 이산집합을 만드는 기저 함수의 projection은 고전적 신호 처리에서 분석 단계를 일반화\n",
    "    - 이 계수로 기저 함수를 합한 것이 합성 단계"
   ]
  },
  {
   "cell_type": "markdown",
   "id": "1b7b4ae6-4ee7-4a45-b52a-04406faad1fe",
   "metadata": {},
   "source": [
    "- *A centerpiece of classical Euclidean signal processing is the property of the Fourier transform diagonalizing the convolution operator, colloquially referred to as the Convolution Theorem.*\n",
    "    - *컨벌루션 이론: 고전적인 유클리드 신호 처리의 중점이 컨볼루션 연산자를 대각화하는 푸리에 변환의 성질*\n",
    "- *This property allows to express the convolution $f * g$ of two functions in the spectral domain as the element-wise product of their Fourier transforms,*\n",
    "    - *이 특성 때문에 스펙트럼 도메인에서 두 함수의 컨볼루션을 푸리에 변환의 원소별 곱으로 표현 가능!*\n",
    "$$(\\widehat{f * g}) (w) = \\int_{-\\infty}^{\\infty} f(x) e^{-iwx} dx \\int^{\\infty}_{-\\infty} g(x) e^{-iwx} dx \\text{  (33)} $$\n",
    "- Unfortunately, in the non-Euclidean case we cannot even define the operation $x − x'$ on the manifold or graph, so the notion of convolution (7) does not directly extend to this case. \n",
    "- *One possibility to generalize convolution to non-Euclidean domains is by using the Convolution Theorem as a definition,*\n",
    "    - *컨발루션 이론을 정의로 사용함으로써 비유클리드 영역으로 컨볼루션 일반화 가능!*\n",
    "$$(f * g) (x) = \\sum_{i \\geq 0} < f, \\phi_i >_{L^2 ( \\cal{X} )} <g,\\phi_i>_{L^2 ( \\cal{X} ) }\\phi_i(x) \\text{  (34)}$$\n",
    "- One of the key differences of such a construction from the classical convolution is the lack of shift-invariance.\n",
    "    - shift-invariance의 부족..\n",
    "- In terms of signal processing, it can be interpreted as a position-dependent filter.\n",
    "    - 신호 처리에서 이건 위치 의존적 필터로 해석 가능\n",
    "- While parametrized by a fixed number of coefficients in the frequency domain, the spatial representation of the filter can vary dramatically at different points (see FIGS4).\n",
    "    - 주파수 영역에서 고정된 수의 계수에 의해 파라미터화되는 동안 필터의 공간적 표현은 다른 포인트에서 극적으로 달라질 수 있음"
   ]
  },
  {
   "cell_type": "markdown",
   "id": "2731d507-2457-4a56-aa51-91a135366442",
   "metadata": {},
   "source": [
    "- The discussion above also applies to graphs instead of manifolds, where one only has to replace the inner product in equations (32) and (34) with the discrete one (20).\n",
    "    - 그래프에서도 적용됨!\n",
    "- All the sums over $i$ would become finite, as the graph Laplacian $∆$ has $n$ eigenvectors.\n",
    "    - 그래프 라플라시안이 n개의 고유벡터 가지기 때문에 모든 합이 유한해짐\n",
    "- In matrix-vector notation, the generalized convolution $f * g$ can be expressed as $Gf = Φ diag(\\hat{g})Φ^\\top f$, where $\\hat{g} = (\\hat{g}_1, . . . , \\hat{g}_n)$ is the spectral representation of the filter and $Φ = (φ_1 , . . . , φ_n)$ denotes the Laplacian eigenvectors (30). \n",
    "- The lack of shift invariance results in the absence of circulant (Toeplitz) structure in the matrix $G$, which characterizes the Euclidean setting. \n",
    "    - 토플리츠 행렬; 행의 값이 행마다 각각 같음\n",
    "- Furthermore, it is easy to see that the convolution operation commutes with the Laplacian, $G∆f = ∆Gf$.\n",
    "    - 컨벌루션 연산이 라플라시안과 일치!"
   ]
  },
  {
   "cell_type": "markdown",
   "id": "3c67232e-d355-47c8-9360-ded7feaab9ef",
   "metadata": {},
   "source": [
    "**Uniqueness and stability**"
   ]
  },
  {
   "cell_type": "markdown",
   "id": "54ce192e-62eb-43c3-b9e3-04768ea002f5",
   "metadata": {},
   "source": [
    "- Finally, it is important to note that the Laplacian eigenfunctions are not uniquely defined.\n",
    "- To start with, they are defined up to sign, i.e., $∆(±φ) = λ(±φ)$.\n",
    "- Thus, even isometric domains might have different Laplacian eigenfunctions. \n",
    "    - isometric 도메인도 다른 라플라시안 고유함수가지기 가능~\n",
    "- Furthermore, if a Laplacian eigenvalue has multiplicity, then the associated eigenfunctions can be defined as orthonormal basis spanning the corresponding eigensubspace (or said differently, the eigenfunctions are defined up to an orthogonal transformation in the eigen-subspace).\n",
    "    - 라플라시안 고유값이 다중치라면 연관된 고유함수들은 대응하는 고유부분공간(?)에 걸친 직교 기저로 정의 가능~\n",
    "- A small perturbation of the domain can lead to very large changes in the Laplacian eigenvectors, especially those associated with high frequencies.\n",
    "- At the same time, the definition of heat kernels (36) and diffusion distances (38) does not suffer from these ambiguities – for example, the sign ambiguity disappears as the eigenfunctions are squared. \n",
    "- Heat kernels also appear to be robust to domain perturbations."
   ]
  },
  {
   "cell_type": "markdown",
   "id": "75bd9423-0e6f-45b1-bc33-302295d655f0",
   "metadata": {},
   "source": [
    "*[IN3] Physical interpretation of Laplacian eigenfunctions:*"
   ]
  },
  {
   "cell_type": "markdown",
   "id": "6546ae0f-73bc-41f0-a8b3-4d2fa9206db9",
   "metadata": {},
   "source": [
    "- Given a function $f$ on the domain $\\cal{X}$ , the Dirichlet energy\n",
    "$$\\cal{E}_{Dir}(f) = \\int_{\\cal{X}} \\| ∇f(x) \\|^{2}_{T_{x} \\cal{X}} dx = \\int_{\\cal{X}} f(x)∆f(x)dx \\text{ , (27)}$$\n",
    "- measures how smooth it is (the last identity in (27) stems from (19)). \n",
    "- We are looking for an orthonormal basis on $\\cal{X}$, containing k smoothest possible functions (FIGS3), by solving\n",
    "- the optimization problem \n",
    "$$min {φ_0}\\cal{E}_{Dir}(φ_0) \\text{   s.t.   } \\| φ_0 \\| = 1 \\text{   (28)}$$\n",
    "$$min_{φ_i} \\cal{E}_{Dir}(φ_i) \\text{   s.t.   } \\| φ_i \\| = 1, i = 1, 2, . . . k − 1 \\\\ φ_i ⊥ span\\{ φ_0, . . . , φ_{i−1} \\}$$\n",
    "- In the discrete setting, when the domain is sampled at n points, problem (28) can be rewritten as \n",
    "$$min_{Φ_k ∈ \\mathbb{R}^{n×k}} trace(Φ_{k}^\\top ∆Φ_k) \\text{  s.t. } Φ_{k}^\\top Φ_k = I \\text{ , (29)}$$\n",
    "- where $Φ_k = (φ_0, . . . φ_{k−1})$."
   ]
  },
  {
   "cell_type": "markdown",
   "id": "66a4d607-793c-4bf2-b198-54665acf132f",
   "metadata": {},
   "source": [
    "- The solution of (29) is given by the first k eigenvectors of $∆$ satisfying\n",
    "$$∆Φ_k = Φ_k Λ_k \\text{ ,  (30)}$$\n",
    "- where $Λ_k = diag(λ_0, . . . , λ_{k−1})$ is the diagonal matrix of corresponding eigenvalues.\n",
    "- The eigenvalues $0 = λ_0 ≤ λ_1 ≤ . . . λ_{k−1}$ are non-negative due to the positive-semidefiniteness of the Laplacian and can be interpreted as ‘frequencies’, where $φ_0 =$ const with the corresponding eigenvalue $λ_0 = 0$ play the role of the DC.\n",
    "- The Laplacian eigendecomposition can be carried out in two ways.\n",
    "- First, equation (30) can be rewritten as a generalized eigenproblem $(D − W)Φ_k = AΦ_kΛ_k$, resulting in A-orthogonal eigenvectors, $Φ_k^\\top AΦ_k = I$. \n",
    "- Alternatively, introducing a change of variables $Ψ_k = A^{1/2}Φ_k$, we can obtain a standard eigendecomposition problem $A^{−1/2}(D − W)A^{−1/2}Ψ_k = Ψ_kΛ_k$ with orthogonal eigenvectors $Ψ_k^\\top Ψ_k = I$. \n",
    "- When $A = D$ is used, the matrix $∆ = A^{−1/2}(D − W)A^{−1/2}$ is referred to as the normalized symmetric Laplacian."
   ]
  },
  {
   "cell_type": "markdown",
   "id": "6d97386f-40ef-4473-b9d3-a85558ea0040",
   "metadata": {
    "tags": []
   },
   "source": [
    "### V. SPECTRAL METHODS"
   ]
  },
  {
   "cell_type": "markdown",
   "id": "78cae457-35ca-4895-b228-065ae587d3ea",
   "metadata": {},
   "source": [
    "*[IN4] Heat diffusion on non-Euclidean domains*"
   ]
  },
  {
   "cell_type": "markdown",
   "id": "4fde952e-a23f-449a-8fd5-8debb996b422",
   "metadata": {},
   "source": [
    "- An important application of spectral analysis, and historically, the main motivation for its development by Joseph Fourier, is the solution of partial differential equations (PDEs).\n",
    "- In particular, we are interested in heat propagation on non-Euclidean domains.\n",
    "- This process is governed by the heat diffusion equation, which in the simplest setting of homogeneous and isotropic diffusion has the form \n",
    "$$\\begin{cases} f_t(x, t) = −c∆f(x, t) \\\\ f(x, 0) = f_0(x) (Initial condition) \\end{cases} \\text{ (35)}$$\n",
    "- with additional boundary conditions if the domain has a boundary.\n",
    "- $f(x, t)$ represents the temperature at point $x$ at time $t$. \n",
    "- Equation (35) encodes the Newton’s law of cooling, according to which the rate of temperature change of a body (lhs) is proportional to the difference between its own temperature and that of the surrounding (rhs). \n",
    "- The proportion coefficient c is referred to as the thermal diffusivity constant; here, we assume it to be equal to one for the sake of simplicity.\n",
    "    - 비율 계수 c는 열 전파 상수, 단순성 위해 1이라 가정\n",
    "- The solution of (35) is given by applying the heat operator $H^t = e^{−t∆}$ to the initial condition and can be expressed in the spectral domain as\n",
    "$$f(x, t) = e^{−t∆}f_0(x) = \\sum_{i≥0}<f_0, φ_i>_{L^2(\\cal{X} )}e^{−tλ_i}φ_i(x) \\text{ (36)}$$\n",
    "$$ = \\int_{\\cal{X}}f_0(x') \\sum_{i≥0} e^{−tλ_i}φ_i(x)φ_i(x') dx'$$\n",
    "$$h_t(x,x`) := \\sum_{i≥0} e^{−tλ_i}φ_i(x)φ_i(x')$$\n",
    "- $h_t(x, x`)$ is known as the heat kernel and represents the solution of the heat equation with an initial condition $f_0(x) = δ_{x`}(x)$, or, in signal processing terms, an ‘impulse response’. \n",
    "- In physical terms, $h_t(x, x` )$ describes how much heat flows from a point $x$ to point $x`$ in time $t$.\n",
    "- In the Euclidean case, the heat kernel is shift-invariant, $h_t(x, x`) = h_t(x − x`)$, allowing to interpret the integral in (36) as a convolution $f(x, t) = (f_0  * h_t)(x)$. \n",
    "- In the spectral domain, convolution with the heat kernel amounts to low-pass filtering with frequency response $e^{−tλ}$.\n",
    "- Larger values of diffusion time t result in lower effective cutoff frequency and thus smoother solutions in space (corresponding to the intuition that longer diffusion smoothes more the initial heat distribution"
   ]
  },
  {
   "cell_type": "markdown",
   "id": "e75aac2a-7013-4053-b216-83013199bb32",
   "metadata": {},
   "source": [
    "- The ‘cross-talk’ between two heat kernels positioned at points $x$ and $x`$ allows to measure an intrinsic distance \n",
    "$$d^{2}_{t}(x, x`) = \\int_{\\cal{X}}(h_t(x, y) − h_t(x`, y))^2 dy \\text{  (37)}$$\n",
    "$$ = \\sum_{i≥0} e^{-2tλ_i}(φ_i(x) − φ_i(x`))^2 \\text{ (38)}$$\n",
    "- referred to as the diffusion distance [30].\n",
    "- Note that interpreting (37) and (38) as spatial- and frequency-domain norms $\\| · \\|_{L^2(\\cal{X} )}$ and $\\| · \\|_{l^2}$, respectively, their equivalence is the consequence of the Parseval identity.\n",
    "- Unlike geodesic distance that measures the length of the shortest path on the manifold or graph, the diffusion distance has an effect of averaging over different paths. \n",
    "    - 확산 거리는 다른 경로에서 평균을 내는 효과 가짐~\n",
    "- It is thus more robust to perturbations of the domain, for example, introduction or removal of edges in a graph, or ‘cuts’ on a manifold."
   ]
  },
  {
   "cell_type": "markdown",
   "id": "fcf4ec5f-ad30-4d35-aa98-68d9d2f4de72",
   "metadata": {},
   "source": [
    "![](https://encrypted-tbn0.gstatic.com/images?q=tbn:ANd9GcQaQu0rpJyydFAt6MxDDGUp7hxWsFhFPcXNLw&usqp=CAU)"
   ]
  },
  {
   "cell_type": "markdown",
   "id": "8fd52e91-0804-4ed2-a902-920d03e98807",
   "metadata": {},
   "source": [
    "열 커널이 다른 위치로 옮겨지면 그 모양이 얼마나 변하는지를 보여주고, 변환 불변성shift-invariance의 부족을 의미함.\n",
    "- 여기서 시불변성은 시계열에서 정상성과 비슷한 개념으로 보면 된다!"
   ]
  },
  {
   "cell_type": "markdown",
   "id": "6b4a6d00-afa4-4d1d-8525-5510ec10f3c3",
   "metadata": {},
   "source": [
    "**Spectral CNN (SCNN)**"
   ]
  },
  {
   "cell_type": "markdown",
   "id": "c539f349-1550-401d-a72e-0fbefa8a2366",
   "metadata": {},
   "source": [
    "-  Similarly to the convolutional layer (6) of a classical Euclidean CNN, Bruna et al. [52] define a spectral convolutional layer as\n",
    "$$g_l = ξ \\big( \\sum^{q}_{l`=1}Φ_kΓ_{l,l`}Φ_{k}^\\top f_{l`} \\big) \\text{, (39)}$$\n",
    "- where the $n × p$ and $n × q$ matrices $F = (f_1, . . . ,f_p)$ and $G = (g_1, . . . , g_q)$ represent the $p-$ and $q-$dimensional input and output signals on the vertices of the graph, respectively (we use $n = |V|$ to denote the number of vertices in the graph), $Γ_{l,l`}$ is a $k \\times k$ diagonal matrix of spectral multipliers representing a filter in the frequency domain, and $ξ$ is a nonlinearity applied on the vertex-wise function values. \n",
    "- Using only the first $k$ eigenvectors in (39) sets a cutoff frequency which depends on the intrinsic regularity of the graph and also the sample size.\n",
    "    - 첫번째 k고유 벡터만 사용하면 그래프의 고유의 규칙과 표본크기에 따라 컷오프 주파수를 정할 수 있지.\n",
    "- Typically, $k << n$, since only the first Laplacian eigenvectors describing the smooth structure of the graph are useful in practice.\n",
    "    - 전형적으로 그래프의 smooth 구조를 설명하는 첫번째 라플라시안 고유벡터만이 유일하게 유용하기 때문에 k<<n"
   ]
  },
  {
   "cell_type": "markdown",
   "id": "dc81bde1-1ce2-48a1-8ddb-bfa8ea705f49",
   "metadata": {},
   "source": [
    "- If the graph has an underlying group invariance, such a construction can discover it. \n",
    "- In particular, standard CNNs can be redefined from the spectral domain (see insert IN5).\n",
    "- However, in many cases the graph does not have a group structure, or the group structure does not commute with the Laplacian, and so we cannot think of each filter as passing a template across $\\cal{V}$ and recording the correlation of the template with that location.\n",
    "    - 대부분 그룹 구조가 없거나 그룹 구조가 라플라시안에 commute되지 않아 각 필터가 정점 집단에서 template을 전달하고 template과 위치의 상관관계를 기록하는 것으로 생각할 수 있지."
   ]
  },
  {
   "cell_type": "markdown",
   "id": "c9ef6dee-ae33-4445-a20a-7ff1a1879591",
   "metadata": {},
   "source": [
    "- We should stress that a fundamental limitation of the spectral construction is its limitation to a single domain.\n",
    "- The reason is that spectral filter coefficients (39) are basis dependent.\n",
    "    - 스펙트럼 상수기 기저 의존적이기 때문에 스펙트럼 구조의 기능적 제한을 단순한 도메인의 limitation이라고 강조해야만 함\n",
    "- It implies that if we learn a filter w.r.t. basis $Φ_k$ on one domain, and then try to apply it on another domain with another basis $Ψ_k$, the result could be very different (see Figure 2 and insert IN6).\n",
    "    - 한 도메인에서 필터 기저 $Φ_k$를 학습하고 또다른 도메인에서 또다른 기저 $Ψ_k$를 가지고 적용하려하면 결과가 매우 달라질걸!\n",
    "- It is possible to construct compatible orthogonal bases across different domains resorting to a joint diagonalization procedure [74], [75].\n",
    "    - 결합 대각화 과정에 때라 다른 도메인에 의해 호환되는 직교 기저 구성 가능!\n",
    "- However, such a construction requires the knowledge of some correspondence between the domains.\n",
    "- In applications such as social network analysis, for example, where dealing with two time instances of a social graph in which new vertices and edges have been added, such a correspondence can be easily computed and is therefore a reasonable assumption. \n",
    "- Conversely, in computer graphics applications, finding correspondence between shapes is in itself a very hard problem, so assuming known correspondence between the domains is a rather unreasonable assumption.\n",
    "    - 새로 정점과 엣지가 추가되어도 두 시점간 인스턴스를 처리하는데 쉽게 계산되는 소셜 네트워크 분석과 달리 컴퓨터 그래픽은 shape 간의 관련성을 찾는 것만으로 어려운 문제이므로 도메인 간의 관련성을 알고 있다는 가정을 내리는 것은 합리적이지 않은 가정이 될 수 있음~"
   ]
  },
  {
   "cell_type": "markdown",
   "id": "629384f4-30c8-4ced-b7ef-f8b755c3aa96",
   "metadata": {},
   "source": [
    "![](data:image/jpeg;base64,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)"
   ]
  },
  {
   "cell_type": "markdown",
   "id": "f4964ff1-f10a-4571-b72a-26a3c66b0cdd",
   "metadata": {},
   "source": [
    "Fig.2. A toy example illustrating the difficulty of generalizing spectral filtering across non-Euclidean domains. \n",
    "- Left: a function defined on a manifold (function values are represented by color); \n",
    "- middle: result of the application of an edge-detection filter in the frequency domain; \n",
    "- right: the same filter applied on the same function but on a different (nearly-isometric) domain produces a completely different result. \n",
    "    - The reason for this behavior is that the Fourier basis is domain-dependent, and the filter coefficients learnt on one domain cannot be applied to another one in a straightforward manner."
   ]
  },
  {
   "cell_type": "markdown",
   "id": "b4251da3-6cdc-40f3-a3c5-ba3dd206cb3f",
   "metadata": {},
   "source": [
    "- Assuming that $k = O(n)$ eigenvectors of the Laplacian are kept, a convolutional layer (39) requires $pqk = O(n)$ parameters to train.\n",
    "- We will see next how the global and local regularity of the graph can be combined to produce layers with constant number of parameters (i.e., such that the number of learnable parameters per layer does not depend upon the size of the input), which is the case in classical Euclidean CNNs. \n",
    "    - 일정한 매개변수의 수를 가진 레이어를 만들기 위해 그래프의 global, local regularity 결합하는 방법 알아볼 것\n",
    "- The non-Euclidean analogy of pooling is graph coarsening, in which only a fraction $α < 1$ of the graph vertices is retained. \n",
    "- The eigenvectors of graph Laplacians at two different resolutions are related by the following multigrid property: \n",
    "- Let Φ, Φ˜ denote the n × n and αn × αn matrices of Laplacian eigenvectors of the original and the coarsened graph, respectively. Then,\n",
    "$$\\tilde{Φ} ≈ PΦ \\begin{pmatrix} I_{αn} \\\\ 0 \\end{pmatrix} \\text{, (40)}$$"
   ]
  },
  {
   "cell_type": "markdown",
   "id": "10756000-9016-49ee-bc5c-7583230edf56",
   "metadata": {},
   "source": [
    "- where $P$ is a $αn × n$ binary matrix whose $i$th row encodes the position of the $i$th vertex of the coarse graph on the original graph.\n",
    "    - P는 원래 그래프에서 coarse 그래프의 i번째 정점의 위체를 i번째 행으로 인코딩하는 alpha n * n 인 binary 행렬\n",
    "- It follows that strided convolutions can be generalized using the spectral construction by keeping only the low-frequency components of the spectrum. \n",
    "- This property also allows us to interpret (via interpolation) the local filters at deeper layers in the spatial construction to be low frequency.\n",
    "- However, since in (39) the non-linearity is applied in the spatial domain, in practice one has to recompute the graph Laplacian eigenvectors at each resolution and apply them directly after each pooling step.\n",
    "    - (39)식에서 비선형성은 공간 영역에 적용되기 때문에 실제로 각 resolution에서 그래프 라플라시안 고유벡터를 다시 계산하고 각 pooling 단계 후에 직접 적용해야 한다.\n",
    "- The spectral construction (39) assigns a degree of freedom for each eigenvector of the graph Laplacian.\n",
    "    - (39)의 스펙트럼 구조는 그래프 라플라시안의 각 고유 벡터에 대해 자유도 할당\n",
    "- In most graphs, individual high-frequency eigenvectors become highly unstable.\n",
    "- However, similarly as the wavelet construction in Euclidean domains, by appropriately grouping high frequency eigenvectors in each octave one can recover meaningful and stable information.\n",
    "- As we shall see next, this principle also entails better learning complexity.\n",
    "    - 대부분 각 고주파 고유벡터는 고불안정성을가지지만 유클리드 도메인에서 웨이블릿 구조와 유사하게 각 octave에서 고주파 고유벡터를 적절하게 그루핑함으로써 의미있고 안정적인 정보를 복구할 수 있으며, 학습이 더 복잡하다..."
   ]
  },
  {
   "cell_type": "markdown",
   "id": "7f4f1fab-9e47-45ba-a7d4-50553e6401ff",
   "metadata": {},
   "source": [
    "**Spectral CNN with smooth spectral multipliers**"
   ]
  },
  {
   "cell_type": "markdown",
   "id": "f6e1a327-0d7b-478e-b8a0-dd209c1027f7",
   "metadata": {},
   "source": [
    "- In order to reduce the risk of overfitting, it is important to adapt the learning complexity to reduce the number of free parameters of the model.\n",
    "- On Euclidean domains, this is achieved by learning convolutional kernels with small spatial support, which enables the model to learn a number of parameters independent of the input size.\n",
    "- In order to achieve a similar learning complexity in the spectral domain, it is thus necessary to restrict the class of spectral multipliers to those corresponding to localized filters.\n",
    "- For that purpose, we have to express spatial localization of filters in the frequency domain. \n",
    "- In the Euclidean case, smoothness in the frequency domain corresponds to spatial decay, since \n",
    "$$\\int^{+∞}_{−∞}|x|^{2k}|f(x)|^2dx = \\int^{+∞}_{−∞} | \\frac{∂^k \\hat{f}(ω)}{∂ω^k}^2 dω \\text{, (42)}$$\n",
    "- by virtue of the Parseval Identity. \n",
    "- This suggests that, in order to learn a layer in which features will be not only shared across locations but also well localized in the original domain, one can learn spectral multipliers which are smooth.\n",
    "- Smoothness can be prescribed by learning only a subsampled set of frequency multipliers and using an interpolation kernel to obtain the rest, such as cubic splines.\n",
    "    - 평활도는 하위 샘플링된 주파수 multupliers의 집합을 학습하고 cubic spline과 같은 나머지를 얻으려 보간 커널을 사용함으로써 정해질 수 있다.\n",
    "- However, the notion of smoothness also requires some geometry in the spectral domain. \n",
    "- In the Euclidean setting, such a geometry naturally arises from the notion of frequency; for example, in the plane, the similarity between two Fourier atoms $e^{iω^\\top}$ and $e^{iω`^\\top}$ can be quantified by the distance $\\| ω − ω` \\|$, where $x$ denotes the two-dimensional planar coordinates, and ω is the two-dimensional frequency vector. \n",
    "- On graphs, such a relation can be defined by means of a dual graph with weights w˜ij encoding the similarity between two eigenvectors $φ_i$ and $φ_j$ ."
   ]
  },
  {
   "cell_type": "markdown",
   "id": "1c69b64f-72cb-46f1-9ec0-e9871f4542a0",
   "metadata": {},
   "source": [
    "- A particularly simple choice consists in choosing a one dimensional arrangement, obtained by ordering the eigenvectors according to their eigenvalues. \n",
    "- In this setting, the spectral multipliers are parametrized as \n",
    "$$diag(Γ_{l,l`} ) = Bα_{l,l`}\\text{ , (43)}$$\n",
    "- where $B = (b_{ij} ) = (β_j (λ_i))$ is a $k \\times q$ fixed interpolation kernel (e.g., $β_j (λ)$ can be cubic splines) and $α$ is a vector of $q$ interpolation coefficients. \n",
    "- In order to obtain filters with constant spatial support (i.e., independent of the input size $n$), one should choose a sampling step $γ ∼ n$ in the spectral domain, which results in a constant number $nγ^{−1} = O(1)$ of coefficients $α_{l,l`}$ per filter.\n",
    "- Therefore, by combining spectral layers with graph coarsening, this model has $O(log n) total trainable parameters for inputs of size $n$, thus recovering the same learning complexity as CNNs on Euclidean grids.\n",
    "    - 스펙트럼 레이어를 그래프 coarsening이랑 결합함으로써 이 모델이 크기가 n인 입력에 대해 ologn이라는 총 훈련 가능 매개변수를 가지게 되고 그래서 유클리드 그리드에서 CNN과 같은 학습 복잡성을 회복함"
   ]
  },
  {
   "cell_type": "markdown",
   "id": "a4200332-58f6-4c79-8f60-337721ecc921",
   "metadata": {},
   "source": [
    "- Even with such a parametrization of the filters, the spectral CNN (39) entails a high computational complexity of performing forward and backward passes, since they require an expensive step of matrix multiplication by $Φ_k$ and $Φ_{k}^\\top$.\n",
    "- While on Euclidean domains such a multiplication can be efficiently carried in $O(n log n)$ operations using FFT-type algorithms, for general graphs such algorithms do not exist and the complexity is $O(n^2)$.\n",
    "- We will see next how to alleviate this cost by avoiding explicit computation of the Laplacian eigenvectors."
   ]
  },
  {
   "cell_type": "markdown",
   "id": "35697a44-d01a-477a-87fd-b60b06ce479d",
   "metadata": {
    "tags": []
   },
   "source": [
    "### VI. SPECTRUM-FREE METHODS"
   ]
  },
  {
   "cell_type": "markdown",
   "id": "401451b4-512e-4a1a-ab9a-7a4ade4d0337",
   "metadata": {},
   "source": [
    "- A polynomial of the Laplacian acts as a polynomial on the eigenvalues.\n",
    "- Thus, instead of explicitly operating in the frequency domain with spectral multipliers as in equation (43), it is possible to represent the filters via a polynomial expansion:\n",
    "$$g_α(∆) = Φg_α(Λ)Φ^\\top \\text{, (44)}$$\n",
    "- corresponding to\n",
    "$$g_α(λ) = \\sum^{r−1}_{j=0} α_j λ^j \\text{. (45)}$$\n",
    "- Here $α$ is the $r$-dimensional vector of polynomial coefficients, and $g_α(Λ) = diag(g_α(λ1), . . . , g_α(λ_n))$, resulting in filter matrices $Γ_{l,l'} = g_{α_{l,l'}} (Λ)$ whose entries have an explicit form in terms of the eigenvalues.\n",
    "- An important property of this representation is that it automatically yields localized filters, for the following reason.\n",
    "- Since the Laplacian is a local operator (working on 1-hop neighborhoods), the action of its $j$th power is constrained to $j$-hops.\n",
    "- Since the filter is a linear combination of powers of the Laplacian, overall (45) behaves like a diffusion operator limited to $r$-hops around each vertex.\n",
    "    - 필터가 라플라시안의 power의 선형 조합이기 때문에 전반적으로 45번 식은  정점 주변에 r hops로 제한돈된 확산 연산자처럼 작용, 라플라시안이 local 연산자이기 때문에, 이의 j번째 power가 j-hops로 제한됌. 이 때문에 localized filter를 자동으로 산출"
   ]
  },
  {
   "cell_type": "markdown",
   "id": "f39f1766-f09b-4dcb-84cf-06b533b2b20c",
   "metadata": {},
   "source": [
    "**Graph CNN (GCNN) a.k.a. ChebNet**"
   ]
  },
  {
   "cell_type": "markdown",
   "id": "32f00c5c-4b37-4611-9ace-0badc1a81543",
   "metadata": {},
   "source": [
    "- Defferrard et al. used Chebyshev polynomial generated by the recurrence relation\n",
    "$$T_j (λ) = 2λT_{j−1}(λ) − T_{j−2}(λ) \\text{; (46)}$$\n",
    "$$T_0(λ) = 1;$$\n",
    "$$T_1(λ) = λ.$$\n",
    "- A filter can thus be parameterized uniquely via an expansion of order $r − 1$ such that \n",
    "$$g_α(\\tilde{∆} ) = \\sum^{r−1}_{j=0} α_jΦT_j (\\tilde{Λ} )Φ^\\top \\text{   (47)}$$\n",
    "$$= \\sum^{r−1}_{j=0} α_jT_j (\\tilde{∆}),$$\n",
    "- where $\\tilde{∆} = 2λ^{−1}_{n} ∆ − I$ and $\\tilde{Λ} = 2λ^{−1}_{n} Λ − I$ denotes a rescaling of the Laplacian mapping its eigenvalues from the interval $[0, λ_n]$ to $[−1, 1]$ (necessary since the Chebyshev polynomials form an orthonormal basis in $[−1, 1]$).\n",
    "- Denoting $\\tilde{f}^{(j)} = T_j (\\tilde{∆})f$, we can use the recurrence relation (46) to compute $\\tilde{f}^{(j)} = 2\\tilde{∆} \\bar{f}^{(j−1)} − \\bar{f}^{(j−2)}$ with $\\bar{f}^{(0)} = f$ and $\\bar{f}^{(1)} = \\tilde{∆}f$ .\n",
    "- The computational complexity of this procedure is therefore $\\cal{O}(rn)$ operations and does not require an explicit computation of the Laplacian eigenvectors.\n",
    "    - 이 절차의 계산적 복잡도는 $\\cal{O}(rn)$이고, 라플라시안 고유 벡터의 명시적 계산이 필요하지 않다."
   ]
  },
  {
   "cell_type": "markdown",
   "id": "6710c271-0c93-4112-b7a0-a9f54c00e66a",
   "metadata": {
    "tags": []
   },
   "source": [
    "**Graph Convolutional Network (GCN)**"
   ]
  },
  {
   "cell_type": "markdown",
   "id": "89c62fd1-5108-45e8-8f58-69b618842668",
   "metadata": {},
   "source": [
    "-  Kipf and Welling simplified this construction by further assuming $r = 2$ and $λ_n ≈ 2$, resulting in filters of the form\n",
    "$$g_α(f) = α_0f + α_1(∆ − I)f \\\\ = α_0f − α_1D^{−1/2}WD^{−1/2}f \\text{. (48)}$$\n",
    "- Further constraining $α = α_0 = −α_1$, one obtains filters represented by a single parameter, $g_α(f) = α(I + D^{−1/2}WD^{−1/2} )f\\text{  . (49)}$\n",
    "- Since the eigenvalues of $I + D^{−1/2}WD^{−1/2}$ are now in the range $[0, 2]$, repeated application of such a filter can result in numerical instability. \n",
    "- This can be remedied by a renormalization \n",
    "$$g_α(f) = α\\tilde{D}^{−1/2}\\tilde{W} \\tilde{D}^{−1/2}f\\text{ , (50)}$$\n",
    "- where $\\tilde{W} = W + I$ and $\\tilde{D} = diag(\\sum_{j \\neq i} \\tilde{w}_{ij} )$.\n",
    "- Note that though we arrived at the constructions of ChebNet and GCN starting in the spectral domain, they boil down to applying simple filters acting on the $r-$ or $1-$hop neighborhood of the graph in the spatial domain. \n",
    "- We consider these constructions to be examples of the more general Graph Neural Network (GNN) framework:"
   ]
  },
  {
   "cell_type": "markdown",
   "id": "982d9879-5318-4bd1-a599-6a4d7066d9d7",
   "metadata": {},
   "source": [
    "---"
   ]
  },
  {
   "cell_type": "markdown",
   "id": "eddd429a-e18f-407c-a611-eca60eb22c2b",
   "metadata": {},
   "source": [
    "*GCN*\n",
    "- GCN은 graph convolution layer를 통해 그래프 형태의 데이터는 행렬 형태의 데이터로 변환되기 때문에 기존 머신 러닝 알고리즘을 그대로 적용할 수 있게 변환된다."
   ]
  },
  {
   "cell_type": "markdown",
   "id": "96044223-b494-45c6-9406-125320976581",
   "metadata": {},
   "source": [
    "---"
   ]
  },
  {
   "cell_type": "markdown",
   "id": "7a84795d-f261-44b1-87a8-a3e1a92c704f",
   "metadata": {},
   "source": [
    "**Graph Neural Network (GNN)**"
   ]
  },
  {
   "cell_type": "markdown",
   "id": "162e6835-66d8-4501-95f5-067203515f6d",
   "metadata": {},
   "source": [
    "- Graph Neural Networks generalize the notion of applying the filtering operations directly on the graph via the graph weights. \n",
    "    - GNN은 그래프 가중치를 통해 그래프에 직접 필터링 연산을 적용하는 개념을 일반화 함!\n",
    "- Similarly as Euclidean CNNs learn generic filters as linear combinations of localized, oriented bandpass and lowpass filters, a Graph Neural Network learns at each layer a generic linear combination of graph low-pass and high-pass operators.\n",
    "- These are given respectively by $f → Wf$ and $f → ∆f$, and are thus generated by the degree matrix $D$ and the diffusion matrix $W$.\n",
    "- Given a $p$-dimensional input signal on the vertices of the graph, represented by the $n \\times p$ matrix $F$, the GNN considers a generic nonlinear function $ηθ : \\mathbb{R}^p  \\times \\mathbb{R}^p → \\mathbb{R}^q$, parametrized by trainable parameters $θ$ that is applied to all nodes of the graph,\n",
    "$$g_i = η_θ ((Wf)_i,(Df)_i)\\text{. (51)}$$\n",
    "- In particular, choosing $η(a, b) = b−a$ one recovers the Laplacian operator $∆f$, but more general, nonlinear choices for $η$ yield trainable, task-specific diffusion operators. \n",
    "- Similarly as with a CNN architecture, one can stack the resulting GNN layers $g = C_θ(f)$ and interleave them with graph pooling operators.\n",
    "    - CNN 구조와 유사하게 GNN 레이어를 쌓고 그래프 풀링 연산자로 그것들을 인터리빙할 수 있다.\n",
    "- Chebyshev polynomials $T_r(∆)$ can be obtained with $r$ layers of (51), making it possible, in principle, to consider ChebNet and GCN as particular instances of the GNN framework."
   ]
  },
  {
   "cell_type": "markdown",
   "id": "8a0f7af1-30a9-429f-9c14-877cba4b09a5",
   "metadata": {
    "tags": []
   },
   "source": [
    "### VII. CHARTING-BASED METHODS"
   ]
  },
  {
   "cell_type": "markdown",
   "id": "13ab0fa2-c7c2-444a-84ba-0e05ba416f8d",
   "metadata": {},
   "source": [
    "- As we have seen, defining convolution in the frequency domain has an inherent drawback of inability to adapt the model across different domains.\n",
    "- note that in the setting of multiple domains, there is no immediate way to define a meaningful spatial pooling operation, as the number of points on different domains can vary, and their order be arbitrary. \n",
    "- It is however possible to pool point-wise features produced by a network by aggregating all the local information into a single vector.\n",
    "- One possibility for such a pooling is computing the statistics of the point-wise features, e.g. the mean or covariance [47].\n",
    "- Note that after such a pooling all the spatial information is lost.\n",
    "    - 다중 도메인 설정할때 도메인에서 의미있는 공간 풀링 연산을 정의하는 즉각적인 방법은 없는데 모든 local 정보를 단일 벡터로 정의해서 네트워크에 의해 만드어진 point 별 특징을 풀링하는 것은 가능~\n",
    "    - 이런 풀링은 point별 특징의 통계를 계산도 가능! 하지만 이 풀링 이후 정보가 손실될 수 도 있음..."
   ]
  },
  {
   "cell_type": "markdown",
   "id": "b4663c26-7a80-4b84-8b21-6b4759da0740",
   "metadata": {},
   "source": [
    "- On a Euclidean domain, due to shift-invariance the convolution can be thought of as passing a template at each point of the domain and recording the correlation of the template with the function at that point.\n",
    "- Thinking of image filtering, this amounts to extracting a (typically square) patch of pixels, multiplying it element-wise with a template and summing up the results, then moving to the next position in a sliding window manner. \n",
    "- **Shift-invariance implies that the very operation of extracting the patch at each position is always the same.**\n",
    "    - 이동 불변성이란 입력의 위피가 달라져도 출력은 같은 것을 의미하지!"
   ]
  },
  {
   "cell_type": "markdown",
   "id": "f9066c3b-099c-44a9-9665-511ffb8f5d46",
   "metadata": {},
   "source": [
    "- One of the major problems in applying the same paradigm to non-Euclidean domains is the lack of shift-invariance, implying that the ‘patch operator’ extracting a local ‘patch’ would be position-dependent. \n",
    "    - 이동 불변성이 없다는 것은 local 패치를 추출하는 패치 연산자가 위치 의존적이라는 것을 암시하지\n",
    "- Furthermore, the typical lack of meaningful global parametrization for a graph or manifold forces to represent the patch in some local intrinsic system of coordinates.\n",
    "- Such a mapping can be obtained by defining a set of weighting functions $v_1(x, ·), . . . , v_J (x, ·)$ localized to positions near $x$ (see examples in Figure 3). \n",
    "    - 이런 매핑은 x 주변의 위치로 localized 가중치 함수의 셋을 정의함으로써 얻을 수 있음.\n",
    "- Extracting a patch amounts to averaging the function f at each point by these weights,\n",
    "$$D_j (x)f =\\int_{\\cal{X}}f(x')v_j (x, x')dx', j = 1, . . . , J\\text{, (52)}$$\n",
    "- providing for a spatial definition of an intrinsic equivalent of convolution\n",
    "$$(f \\star g)(x) = \\sum_{j} g_jD_j (x)f\\text{, (53)}$$\n",
    "- where $g$ denotes the template coefficients applied on the patch extracted at each point.\n",
    "- Overall, (52)–(53) act as a kind of nonlinear filtering of $f$, and the patch operator $D$ is specified by defining the weighting functions $v_1, . . . , v_J$ . \n",
    "- Such filters are localized by construction, and the number of parameters is equal to the number of weighting functions $J = O(1)$.\n",
    "- Several frameworks for non-Euclidean CNNs essentially amount to different choice of these weights.\n",
    "- The spectrum-free methods (ChebNet and GCN) described in the previous section can also be thought of in terms of local weighting functions, as it is easy to see the analogy between formulae (53) and (47)."
   ]
  },
  {
   "cell_type": "markdown",
   "id": "8e51d0ef-c93f-42fc-860b-597964041c65",
   "metadata": {},
   "source": [
    "**Geodesic CNN**"
   ]
  },
  {
   "cell_type": "markdown",
   "id": "e7dd2aea-dbaa-47bf-8822-72ee21519ac1",
   "metadata": {},
   "source": []
  }
 ],
 "metadata": {
  "kernelspec": {
   "display_name": "Python 3 (ipykernel)",
   "language": "python",
   "name": "python3"
  },
  "language_info": {
   "codemirror_mode": {
    "name": "ipython",
    "version": 3
   },
   "file_extension": ".py",
   "mimetype": "text/x-python",
   "name": "python",
   "nbconvert_exporter": "python",
   "pygments_lexer": "ipython3",
   "version": "3.8.12"
  }
 },
 "nbformat": 4,
 "nbformat_minor": 5
}
