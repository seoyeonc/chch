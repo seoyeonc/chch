{
 "cells": [
  {
   "cell_type": "markdown",
   "id": "6def8433-f396-48f3-a303-d02ef193189c",
   "metadata": {
    "tags": []
   },
   "source": [
    "# Regression HW 2\n",
    "> 고급회귀분석 과제, CH03,04,05\n",
    "\n",
    "- toc:true\n",
    "- branch: master\n",
    "- badges: true\n",
    "- comments: false\n",
    "- author: 최서연\n",
    "- categories: [Advanced Regression Analysis]"
   ]
  },
  {
   "cell_type": "markdown",
   "id": "e09fd0bc-f6bf-440b-bc5e-a81ab4e0c5f3",
   "metadata": {},
   "source": [
    "---"
   ]
  },
  {
   "cell_type": "markdown",
   "id": "e8a0fc8a-ba7a-43ca-a162-7e623478b4d3",
   "metadata": {},
   "source": [
    "고급회귀분석 두번째 과제입니다.\n",
    "\n",
    " \n",
    "\n",
    "제출 기한 : 10월 23일 \n",
    "\n",
    "(마지막 문제는 R을 이용해서 풀이해도 됨)\n",
    "\n",
    " \n",
    "\n",
    "제출 방법\n",
    "\n",
    "  - 직접 제출(607호) 도 가능하지만, \n",
    "\n",
    "  - 문서 작성 후 pdf로 변환(★★★)하여 lms에 제출을 추천\n",
    "\n",
    "  (pdf 아닌 문서는 미제출로 간주)\n",
    "\n",
    " \n",
    "\n",
    "주의사항\n",
    "\n",
    "- pdf로 꼭 변환하여 제출\n",
    "\n",
    "- 풀이가 꼭 있어야 함 (답만 적혀 있는 경우 '0'점 처리)\n",
    "\n",
    "- 부정행위 시 'F'학점 \n",
    "\n",
    "- 계산은 R로 해도 되지만 계산 풀이 과정이 꼭 있어야 함!!\n",
    "\n",
    "예) R에서 lm으로 beta의 추정량을 구하면 안 됨. 수업 시간에 배운 식으로 풀이를 적어야 함.\n",
    "\n",
    " \n",
    "\n",
    " \n",
    "\n",
    "************ R을 이용해서 푸는 문제는, R 코드도 같이 업로드."
   ]
  },
  {
   "cell_type": "markdown",
   "id": "8cbf41ce-44dd-4c35-b30a-41173cf42c07",
   "metadata": {},
   "source": [
    "---"
   ]
  },
  {
   "cell_type": "markdown",
   "id": "ab5d5822-8110-413b-86a1-7093cc4cbaff",
   "metadata": {},
   "source": [
    "1. . 단순회귀에서 회귀제곱합,\n",
    "$$SSE = \\sum^{n}_{i=1} (y_i - \\hat{y}_i)^2$$\n",
    "을 이차형식 $y^\\top B y$ 로 표현하시오. 이 이차형식의 분포를 구하고, 또한 기대치를 ⟨정리 5.1⟩에 의하여 구하시오"
   ]
  },
  {
   "cell_type": "markdown",
   "id": "97b30c4f-c8c0-4b88-9597-ba0ee45f96a9",
   "metadata": {},
   "source": [
    "**Answer**"
   ]
  },
  {
   "cell_type": "markdown",
   "id": "808a9a54-5514-4a07-bcfe-4a122bb543ef",
   "metadata": {},
   "source": [
    "$\\sum^{n}_{i=1} (y_i - \\hat{y}_i)^2 $\n",
    "\n",
    "$= \\sum^{n}_{i=1} (y_i - \\hat{y}_i)^\\top(y_i - \\hat{y}_i)  $\n",
    "\n",
    "$= (\\bf{y} - \\hat{\\bf{y}})^\\top(\\bf{y} - \\hat{\\bf{y}})  $\n",
    "\n",
    "$= (\\bf{y} - \\bf{X}b)^\\top(\\bf{y} - \\bf{X}b)$\n",
    "\n",
    "$ = \\bf{y}^\\top\\bf{y} - \\bf{y}^\\top X\\bf{b} - \\bf{b}^\\top\\bf{X}^\\top\\bf{y} + \\bf{b}^\\top\\bf{X}^\\top\\bf{X}\\bf{b}$\n",
    "\n",
    "$ = \\bf{y}^\\top\\bf{y} - 2\\bf{y}^\\top\\bf{X}\\bf{b} + \\bf{b}^\\top\\bf{X}^\\top\\bf{X}\\bf{b}$\n",
    "\n",
    "$ = \\bf{y}^\\top\\bf{y} - \\bf{y}^\\top\\bf{X}(\\bf{X}^\\top\\bf{X})^{-1}\\bf{X}^\\top\\bf{y}$\n",
    "\n",
    "$ = \\bf{y}^\\top(\\bf{I_n} - \\bf{X}(\\bf{X}^\\top\\bf{X})^{-1}\\bf{X}^\\top)\\bf{y}$\n",
    "\n",
    "$\\frac{\\sum^{n}_{i=1} (y_i - \\hat{y}_i)^2}{\\sigma^2} = \\bf{y}^\\top \\bf{B} \\bf{y}$"
   ]
  },
  {
   "cell_type": "markdown",
   "id": "37cd4ebf-4b26-4c25-a720-8b5fc81c3167",
   "metadata": {},
   "source": [
    "<정리5.3>\n",
    "\n",
    "만약 $y \\sim N(\\mu,V)$이면,\n",
    "\n",
    "$$y^\\top A y \\sim \\chi^2 (r(A),\\frac{1}{2}\\mu^\\top A \\mu ) \\to \\text{AV : independent matrix}$$"
   ]
  },
  {
   "cell_type": "markdown",
   "id": "b70b4984-3598-48c0-a9d3-0d2890cbf27c",
   "metadata": {},
   "source": [
    "$\\frac{SSE}{\\sigma^2} = \\bf{y}^\\top\\frac{1}{\\sigma^2}(\\bf{I_n} - \\bf{X}(\\bf{X}^\\top\\bf{X})^{-1}\\bf{X}^\\top)\\bf{y}$\n",
    "\n",
    "$\\frac{SSE}{\\sigma^2} \\sim \\chi^2 (r(A),\\frac{1}{2}\\mu^\\top A \\mu )$\n",
    "\n",
    "$\\star y_i \\sim N(\\beta_0 + \\beta_1 x_i, \\sigma^2)$\n",
    "\n",
    "$\\star \\bf{y}^\\top \\sim N(\\mu, I\\sigma^2) $\n",
    "\n",
    "$\\bf{B} = \\bf{I_n} - \\bf{X}(\\bf{X}^\\top\\bf{X})^{-1}\\bf{X}^\\top$\n",
    "\n",
    "$\\bf{B}\\bf{B} = (\\bf{I_n} - \\bf{X}(\\bf{X}^\\top\\bf{X})^{-1}\\bf{X}^\\top)(\\bf{I_n} - \\bf{X}(\\bf{X}^\\top\\bf{X})^{-1}\\bf{X}^\\top)$ \n",
    "\n",
    "$ = \\bf{I_n} - 2\\bf{X}(\\bf{X}^\\top\\bf{X})^{-1}\\bf{X}^\\top + \\bf{X}(\\bf{X}^\\top\\bf{X})^{-1}\\bf{X}^\\top = \\bf{I_n} - \\bf{X}(\\bf{X}^\\top\\bf{X})^{-1}\\bf{X}^\\top = \\bf{B}$\n",
    "\n",
    "$\\therefore \\bf{B} \\text{ is an independendt matrix} $\n",
    "\n",
    "$r(\\bf{B}) = tr(\\bf{B}) = tr(\\bf{I_n} - \\bf{X}(\\bf{X}^\\top\\bf{X})^{-1}\\bf{X}^\\top) = tr(\\bf{I_n}) - tr(\\bf{X}(\\bf{X}^\\top\\bf{X})^{-1}\\bf{X}^\\top) =   n - (p+1)$\n",
    "\n",
    "$V = I\\sigma^2$\n",
    "\n",
    "$\\therefore \\bf{BV = BVBV}$\n",
    "\n",
    "$\\therefore \\bf{BV} \\text{ is an independent matrix}$\n",
    "\n",
    "$\\mu^\\top \\bf{B} \\mu = \\mu^\\top (\\bf{I}-\\bf{X}(\\bf{X}^\\top\\bf{X})^{-1}\\bf{X}^\\top)\\mu = \\beta^\\top \\bf{X}^\\top (\\bf{I} - \\bf{X}(\\bf{X}^\\top\\bf{X})^{-1}\\bf{X}^\\top)\\bf{X}\\beta = \\beta^\\top \\bf{X}^\\top (\\bf{X} - \\bf{X}(\\bf{X}^\\top\\bf{X})^{-1}\\bf{X}^\\top\\bf{X})\\beta = 0$\n",
    "\n",
    "$\\star \\bf{X}(\\bf{X}^\\top\\bf{X})^{-1}\\bf{X}^\\top\\bf{X} = \\bf{X}(\\bf{X}^\\top\\bf{X})^{-1}\\bf{X}^\\top \\bf{X} = \\bf{X}$\n",
    "\n",
    "$\\frac{SSE}{\\sigma^2}\\sim \\chi^2_{(n-(p+1))}$"
   ]
  },
  {
   "cell_type": "markdown",
   "id": "e89153c3-2494-4227-be85-ed1636278272",
   "metadata": {},
   "source": [
    "<정리 5.1> 만약 $y \\sim N(\\mu, V)$이면,\n",
    "$$E(y^\\top A y) = tr(AV) + \\mu^\\top A \\mu, Cov(y,y^\\top A y ) = 2 V A \\mu$$"
   ]
  },
  {
   "cell_type": "markdown",
   "id": "6b21f5f2-d56b-4e58-95fb-b5c661dd593e",
   "metadata": {},
   "source": [
    "$E(SSE) = tr(BV) + \\mu^\\top B \\mu = tr(\\bf{X}(\\bf{X}^\\top\\bf{X})^{-1}\\bf{X}^\\top V) + \\mu^\\top \\bf{X}(\\bf{X}^\\top\\bf{X})^{-1}\\bf{X}^\\top \\mu =  (n-(p+1))\\sigma^2 + 0 = (n - (p+1))\\sigma^2$\n",
    "\n",
    "$Cov(y,y^\\top B y) = 2VB\\mu = 2 \\sigma^2 (I-\\bf{X}(\\bf{X}^\\top\\bf{X})^{-1}\\bf{X}^\\top)\\mu = 2 \\sigma^2 (I-\\bf{X}(\\bf{X}^\\top\\bf{X})^{-1}\\bf{X}^\\top)\\bf{X}\\beta = 0$"
   ]
  },
  {
   "cell_type": "markdown",
   "id": "848fb961-0e16-400e-a406-a4bf50634e72",
   "metadata": {},
   "source": [
    "---"
   ]
  },
  {
   "cell_type": "markdown",
   "id": "fa8cc82e-f6be-4a86-b09a-055745842d3c",
   "metadata": {},
   "source": [
    "2. 만약\n",
    "$$y_1 = \\beta_0 + \\epsilon_1$$\n",
    "$$y_2 = 2\\beta_0 - \\beta_1 + \\epsilon_2$$\n",
    "$$y_3 = \\beta_0 + 2\\beta_1 + \\epsilon_3$$\n",
    "이고, $E(\\epsilon_i) = 0, i = 1, 2, 3$이라면 $\\beta_0$ 와 $\\beta_1$ 의 최소제곱추정값은 무엇인가? $y_i, i = 1, 2, 3$의 함수로써 나타내어라. 그리고 이 경우의 잔차제곱합(residual sum of squares)을 구하시오."
   ]
  },
  {
   "cell_type": "markdown",
   "id": "891905cf-cd1a-4111-a26d-31c6b52312d6",
   "metadata": {},
   "source": [
    "**Answer**"
   ]
  },
  {
   "cell_type": "markdown",
   "id": "552d316c-52e9-4bb8-be98-3a92b692e853",
   "metadata": {},
   "source": [
    "$\\epsilon_1 = y_1 + \\beta_0, \\epsilon_2 = y_2 - 2\\beta_0 + \\beta_1, \\epsilon_3 = y_3 - \\beta_0 - 2\\beta_1$\n",
    "\n",
    "$S = (y_1 - \\hat{\\beta}_0)^2 + (y_2 - 2\\hat{\\beta}_0 + \\hat{\\beta}_1)^2 + (y_3 - \\hat{\\beta}_0 - 2\\hat{\\beta}_1)^2$\n",
    "\n",
    "$\\frac{\\partial S}{\\partial \\beta_0} = -2(y_1 - \\hat{\\beta}_0) -4(y_2 - 2\\hat{\\beta}_0 + \\hat{\\beta}_1) -2(y_3 - \\hat{\\beta}_0 - 2\\hat{\\beta}_1)$\n",
    "\n",
    "$ = -2y_1 + 2\\hat{\\beta}_0 -4y_2 + 8\\hat{\\beta}_0 -4\\hat{\\beta}_1 -2y_3 +2\\hat{\\beta}_0 +4\\hat{\\beta}_1 $\n",
    "\n",
    "$= -2y_1 -4y_2 -2y_3 + 12\\hat{\\beta}_0 = 0$\n",
    "\n",
    "$\\therefore \\hat{\\beta}_0 = \\frac{1}{12}(2y_1 + 4y_2 + 2y_3) = \\frac{1}{6}(y_1 + 2y_2 + y_3)$\n",
    "\n",
    "$\\frac{\\partial S}{\\partial \\beta_1} = 2(y_2 - 2\\hat{\\beta}_0 + \\hat{\\beta}_1) -4(y_3 - \\hat{\\beta}_0 - 2\\hat{\\beta}_1)$\n",
    "\n",
    "$= 2y_2 - 4\\hat{\\beta}_0 + 2\\hat{\\beta}_1 -4y_3 +4 \\hat{\\beta}_0 + 8\\hat{\\beta}_1$\n",
    "\n",
    "$= 2y_2 -4y_3 + 10\\hat{\\beta}_1 = 0$\n",
    "\n",
    "$\\therefore \\hat{\\beta}_1 = \\frac{1}{10}(-2y_2 + 4y_3) = \\frac{1}{5}(-y_2 + 2y_3)$\n",
    "\n",
    "$\\text{Residual sum of squares  }S = (y_1 - \\hat{\\beta}_0)^2 + (y_2 - 2\\hat{\\beta}_0 + \\hat{\\beta}_1)^2 + (y_3 - \\hat{\\beta}_0 - 2\\hat{\\beta}_1)^2$\n",
    "\n",
    "$= y_2^2 + \\hat{\\beta}_0^2 - 2\\hat{\\beta}_0y_1 + y_2^2 - 4\\hat{\\beta}_0 y_2 + 2\\hat{\\beta}_1 y_2 - 4\\hat{\\beta}_0 \\hat{\\beta}_1 + \\hat{\\beta}_1^2 + y_3^2 -2\\hat{\\beta}_0 y_3 - 4 \\hat{\\beta}_1 y_3 + \\hat{\\beta}_0^2 + 4\\hat{\\beta}_0\\hat{\\beta}_ + 4\\hat{\\beta}_1^2$\n",
    "\n",
    "$= y_1^2 + y_2^2 + y_3^2 + 2\\hat{\\beta}_0^2 + 5\\hat{\\beta}_1^2 + \\hat{\\beta}_0(-2y_1 -4y_2 -2y_3) + \\hat{\\beta}_1 (2y_2 -4y_3)$\n",
    "\n",
    "$= y_1^2 + y_2^2 + y_3^2 -10 \\hat{\\beta}_0^2 - 5\\hat{\\beta}_1^2$\n",
    "\n",
    "$= y_1^2 + y_2^2 + y_3^2 - \\frac{5}{18}(y_1 + 2y_2 + y_3)^2 - \\frac{1}{5}(-y_2 + 2y_3)^2$\n",
    "\n",
    "\n",
    "$= \\frac{13}{18} y_1^2 -\\frac{14}{45}y_2^2 -\\frac{70}{90}y3^2 -\\frac{10}{9}y_1y_2 -\\frac{5}{9} y_1y_3 - \\frac{32}{45}y_2y_3$\n",
    "\n",
    "$= \\frac{1}{90}(65y_1^2 -28 y_2^2 - 70y_3^2 -100y_1y_2 -50y_1y_3 - 64y_2y_3)$"
   ]
  },
  {
   "cell_type": "markdown",
   "id": "f623d5f4-cee3-4545-9333-76cbd1f6f4c9",
   "metadata": {},
   "source": [
    "---"
   ]
  },
  {
   "cell_type": "markdown",
   "id": "3dc10b5d-07bf-4602-9556-18ea59b249db",
   "metadata": {},
   "source": [
    "3. 단순회귀모형\n",
    "$$y_i = \\beta_0 + \\beta_1 x_i + \\epsilon_i, \\epsilon_i ~ N(0, \\sigma^2), i = 1, 2, \\dots , n$$\n",
    "에서 각각의 $x_i$ 가 $cx_i (c \\neq 0)$로 대체된다고 가정하자. $\\hat{\\beta}_0, \\hat{\\beta}_1, s^{2}_{y·x}, R^2$ 과 $H_0 : \\beta_1 = 0$에 대한 $t$−검정 결과는 어떤 영향을 받는가?"
   ]
  },
  {
   "cell_type": "markdown",
   "id": "5607020b-63ee-43e4-bd7a-ceb82076f947",
   "metadata": {},
   "source": [
    "**Answer**"
   ]
  },
  {
   "cell_type": "markdown",
   "id": "4fa9fe7c-8ae2-48a8-b9d2-2e9bc4705f9d",
   "metadata": {},
   "source": [
    "$S = \\sum^n_{i=1}\\epsilon^2_i = \\sum^n_{i=1} \\{ y_i - (\\beta_0 + \\beta_1 c x_i)\\}^2$\n",
    "\n",
    "$\\frac{\\partial S}{\\partial \\beta_1} = -2\\sum^n_{i=1} c x_i (y_i - \\hat{\\beta}_0 - \\hat{\\beta}_1 c x_i) = \\sum^n_{i=1} c x_i (y_i - \\hat{y}) = \\sum^n_{i=1} c x_i e_i = 0$\n",
    "\n",
    "$= \\sum^n_{i=1} c x_i (y_i - \\hat{\\beta}_0 - \\hat{\\beta}_1 c x_i ) =\\sum^n_{i=1} c x_i (y_i - \\bar{y} + \\hat{\\beta}_1 c\\bar{x} - \\hat{\\beta}_1 c x_i) = \\sum^n_{i=1} c x_i(y_i - \\bar{y}) - \\hat{\\beta}_1 \\sum^n_{i=1} c x_i (c x_i - c\\bar{x})$\n",
    "\n",
    "$\\star \\sum^n_{i=1} c x_i(y_i - \\bar{y}) = \\sum^n_{i=1}(c x_i - c\\bar{x} + c\\bar{x})(y_i - \\bar{y}) = c\\sum^n_{i=1}(x_i - \\bar{x})(y_i - \\bar{y}) + \\sum^n_{i=1} c \\bar{x}(y_i - \\bar{y}) = c S_{xy}$\n",
    "\n",
    "$\\star \\hat{\\beta}_1 \\sum^n_{i=1} c x_i (c x_i - c\\bar{x}) = \\hat{\\beta}_1 \\sum^n_{i=1} (c x_i - c \\bar{x} + c \\bar{x}) (c x_i - c \\bar{x}) = \\hat{\\beta}_1 \\{ \\sum^n_{i=1} (c x_i - c \\bar{x})(c x_i - c \\bar{x}) + \\sum^n_{i=1} c^2 \\bar{x}( x_i -  \\bar{x}) \\} = c^2 \\hat{\\beta}_1 S_{xx}$\n",
    "\n",
    "$c S_{xy} - \\hat{\\beta}_1 c^2 S_{xx} = 0$\n",
    "\n",
    "$\\hat{\\beta}_1 = \\frac{S_{xy}}{c S_{xx}}$\n",
    "\n",
    "$\\hat{\\beta}_1$ 은 $\\frac{1}{c}$배가 되었다.\n",
    "\n",
    "$\\frac{\\partial S}{\\partial \\beta_0} = -2\\sum^n_{i=1} (y_i - \\hat{\\beta}_0 - \\hat{\\beta}_1 c x_i) = \\sum^n_{i=1} (y_i - \\hat{y}_i) = \\sum^n_{i=1}e_i = 0$\n",
    "\n",
    "$n \\hat{\\beta}_0 = \\sum^n_{i=1}y_i - \\frac{1}{c} \\hat{\\beta}_1 c \\sum^n_{i=1} x_i$\n",
    "\n",
    "$\\hat{\\beta}_0 = \\frac{1}{n} \\sum^n_{i=1} y_i - \\frac{1}{c}\\hat{\\beta}_1 c \\frac{1}{n}\\sum^n_{i=1} x_i = \\bar{y} - \\hat{\\beta}_1 \\bar{x}$\n",
    "\n",
    "$\\hat{\\beta}_0$은 $x_i$가 $cx_i$로 대체되었을때 영향을 받지 않았다.\n",
    "\n",
    "$S_{yx} = c \\sum^n_{i=1}(x_i - \\bar{x})(y_i - \\bar{y})$\n",
    "\n",
    "$S^2_{yx} = c^2 \\sum^n_{i=1}(x_i - \\bar{x})^2(y_i - \\bar{y})^2 $\n",
    "\n",
    "$\\star S_{xx} = c^2 \\sum^n_{i=1} (x_i - \\bar{x})(x_i - \\bar{x})$\n",
    "\n",
    "$\\star S_{yy} = \\sum^n_{i=1} (y_i - \\bar{y})(y_i - \\bar{y})$\n",
    "\n",
    "$R^2 = r_{xy}^2 = \\frac{S_{xy}^2}{S_{xx}S_{yy}} = \\frac{c^2 \\sum^n_{i=1}(x_i - \\bar{x})^2(y_i - \\bar{y})^2}{(c^2 \\sum^n_{i=1} (x_i - \\bar{x})(x_i - \\bar{x}))(\\sum^n_{i=1} (y_i - \\bar{y})(y_i - \\bar{y}))} = \\frac{ \\sum^n_{i=1}(x_i - \\bar{x})^2(y_i - \\bar{y})^2}{( \\sum^n_{i=1} (x_i - \\bar{x})(x_i - \\bar{x}))(\\sum^n_{i=1} (y_i - \\bar{y})(y_i - \\bar{y}))}$\n",
    "\n",
    "$R^2$은 영향을 받지 않았다.\n",
    "\n",
    "회귀직선의 유의성 검정 $H_0 : \\beta_1 = 0 \\text{ vs. } H_1: \\beta_1 \\neq 0$\n",
    "\n",
    "검정통계량 $F = \\frac{MSR}{MSE} = \\frac{SSR/1}{SSE/(n-2)} \\sim_{H_0} F(1,n-2)$\n",
    "\n",
    "검정통계량 계산에도 영향을 주지 않았기 때문에 $\\text{t test}$ 결과는 $x_i$에 $c$배를 한 후에도 같은 결과가 나온다."
   ]
  },
  {
   "cell_type": "markdown",
   "id": "51f1e758-c568-4473-be3d-7c7629ad6859",
   "metadata": {},
   "source": [
    "---"
   ]
  },
  {
   "cell_type": "markdown",
   "id": "d0a70a6d-f76f-4a43-b7de-534efe574490",
   "metadata": {},
   "source": [
    "4. 생선을 잡아서 얼음창고에 일주일 동안 보관한 후에 생선의 신선도가 어느 정도 변하는가를 실험하였다. 신선도를 $y$로 놓고 10점 만점으로 하여 0점이 신선도가 전혀 없는 것이고 10점이 가장 좋은 경우이다. 설명변수 $x$는 생선을 잡은 지 $x$시간이 경과한 후에 얼음창고에 넣는 것을 가리킨다. 실험으로 10개의 데이터를 얻었다."
   ]
  },
  {
   "cell_type": "markdown",
   "id": "3b25d6cb-3441-4514-aa4b-a569fd9ceb5a",
   "metadata": {},
   "source": [
    "|$y$(신선도)|8.5|8.4|7.9|8.1|7.8|7.6|7.3|7.0|6.8|6.7|\n",
    "|---|---|---|---|---|---|---|---|---|---|---|\n",
    "|$x$(경과시간)|0|0|3|3|6|6|9|9|12|12|"
   ]
  },
  {
   "cell_type": "markdown",
   "id": "0c91808e-daa5-4b0b-a341-d93dbc5d88e0",
   "metadata": {},
   "source": [
    "(1) 선형회귀모형 ($y = \\beta_0 + \\beta_1 x + \\epsilon$)이 타당한가를 유의수준 $\\alpha = 0.05$를 사용하여 적합결여검정을 행하라."
   ]
  },
  {
   "cell_type": "markdown",
   "id": "dd095d32-577c-4ca8-9ac0-0797c6fdc23e",
   "metadata": {},
   "source": [
    "**Answer**"
   ]
  },
  {
   "cell_type": "markdown",
   "id": "5abe9483-1773-4975-a6ff-3dece5fb7f43",
   "metadata": {},
   "source": [
    "$H_0 : E(Y|X = x) = \\beta_0 + \\beta_1 x$\n",
    "\n",
    "$H_1 : E(Y|X=x) \\neq \\beta_0 + \\beta_1 x$"
   ]
  },
  {
   "cell_type": "code",
   "execution_count": 1,
   "id": "05975b12-1c75-4bfb-a97c-cfbeacdbe222",
   "metadata": {},
   "outputs": [
    {
     "data": {
      "text/html": [
       "<table class=\"dataframe\">\n",
       "<caption>A data.frame: 10 × 2</caption>\n",
       "<thead>\n",
       "\t<tr><th scope=col>x</th><th scope=col>y</th></tr>\n",
       "\t<tr><th scope=col>&lt;dbl&gt;</th><th scope=col>&lt;dbl&gt;</th></tr>\n",
       "</thead>\n",
       "<tbody>\n",
       "\t<tr><td> 0</td><td>8.5</td></tr>\n",
       "\t<tr><td> 0</td><td>8.4</td></tr>\n",
       "\t<tr><td> 3</td><td>7.9</td></tr>\n",
       "\t<tr><td> 3</td><td>8.1</td></tr>\n",
       "\t<tr><td> 6</td><td>7.8</td></tr>\n",
       "\t<tr><td> 6</td><td>7.6</td></tr>\n",
       "\t<tr><td> 9</td><td>7.3</td></tr>\n",
       "\t<tr><td> 9</td><td>7.0</td></tr>\n",
       "\t<tr><td>12</td><td>6.8</td></tr>\n",
       "\t<tr><td>12</td><td>6.7</td></tr>\n",
       "</tbody>\n",
       "</table>\n"
      ],
      "text/latex": [
       "A data.frame: 10 × 2\n",
       "\\begin{tabular}{ll}\n",
       " x & y\\\\\n",
       " <dbl> & <dbl>\\\\\n",
       "\\hline\n",
       "\t  0 & 8.5\\\\\n",
       "\t  0 & 8.4\\\\\n",
       "\t  3 & 7.9\\\\\n",
       "\t  3 & 8.1\\\\\n",
       "\t  6 & 7.8\\\\\n",
       "\t  6 & 7.6\\\\\n",
       "\t  9 & 7.3\\\\\n",
       "\t  9 & 7.0\\\\\n",
       "\t 12 & 6.8\\\\\n",
       "\t 12 & 6.7\\\\\n",
       "\\end{tabular}\n"
      ],
      "text/markdown": [
       "\n",
       "A data.frame: 10 × 2\n",
       "\n",
       "| x &lt;dbl&gt; | y &lt;dbl&gt; |\n",
       "|---|---|\n",
       "|  0 | 8.5 |\n",
       "|  0 | 8.4 |\n",
       "|  3 | 7.9 |\n",
       "|  3 | 8.1 |\n",
       "|  6 | 7.8 |\n",
       "|  6 | 7.6 |\n",
       "|  9 | 7.3 |\n",
       "|  9 | 7.0 |\n",
       "| 12 | 6.8 |\n",
       "| 12 | 6.7 |\n",
       "\n"
      ],
      "text/plain": [
       "   x  y  \n",
       "1   0 8.5\n",
       "2   0 8.4\n",
       "3   3 7.9\n",
       "4   3 8.1\n",
       "5   6 7.8\n",
       "6   6 7.6\n",
       "7   9 7.3\n",
       "8   9 7.0\n",
       "9  12 6.8\n",
       "10 12 6.7"
      ]
     },
     "metadata": {},
     "output_type": "display_data"
    }
   ],
   "source": [
    "df_4 = data.frame(x = c(0,0,3,3,6,6,9,9,12,12),\n",
    "                  y = c(8.5,8.4,7.9,8.1,7.8,7.6,7.3,7.0,6.8,6.7))\n",
    "df_4"
   ]
  },
  {
   "cell_type": "markdown",
   "id": "94411fbf-d8e9-4d97-b0ed-78ec4b107ee0",
   "metadata": {},
   "source": [
    "산점도"
   ]
  },
  {
   "cell_type": "code",
   "execution_count": 2,
   "id": "a34e1dc5-5366-44b4-8707-512e56cb7ed7",
   "metadata": {},
   "outputs": [
    {
     "data": {
      "image/png": "[encoded data removed]",
      "text/plain": [
       "plot without title"
      ]
     },
     "metadata": {
      "image/png": {
       "height": 420,
       "width": 420
      }
     },
     "output_type": "display_data"
    }
   ],
   "source": [
    "plot(df_4$x,df_4$y,xlab='x(경과시간)',ylab='y(신선도)')"
   ]
  },
  {
   "cell_type": "markdown",
   "id": "5470805c-8a4d-4e3f-b09e-8d8dad7adb65",
   "metadata": {},
   "source": [
    "우하향하는 모습이다."
   ]
  },
  {
   "cell_type": "code",
   "execution_count": 3,
   "id": "9feb6a5a-8b66-4c5b-868e-8ec23e4cca55",
   "metadata": {},
   "outputs": [],
   "source": [
    "df_4$x_barx = df_4$x - mean(df_4$x)\n",
    "df_4$y_bary = df_4$y - mean(df_4$y) "
   ]
  },
  {
   "cell_type": "markdown",
   "id": "9befdecc-b119-4261-8226-d5d52d94e596",
   "metadata": {},
   "source": [
    "- $S_{xx}, S_{yy},S_{xy}$를 구해주기 위해 $x_i - \\bar{x}, y_i - \\bar{y}$를 구했다."
   ]
  },
  {
   "cell_type": "code",
   "execution_count": 4,
   "id": "cb571128-0710-4cb5-b092-aa406bd650af",
   "metadata": {},
   "outputs": [],
   "source": [
    "df_4$x_barx2 <- df_4$x_barx^2\n",
    "df_4$y_bary2 <- df_4$y_bary^2\n",
    "df_4$xy <-df_4$x_barx * df_4$y_bary"
   ]
  },
  {
   "cell_type": "markdown",
   "id": "9a6e4de4-d090-4402-a9e2-216dba7f343a",
   "metadata": {},
   "source": [
    "- $S_{xx}, S_{yy},S_{xy}$를 구해주었다."
   ]
  },
  {
   "cell_type": "code",
   "execution_count": 5,
   "id": "9260c28b-ac32-4a90-a9f1-5ea918fb77df",
   "metadata": {},
   "outputs": [
    {
     "data": {
      "text/html": [
       "<table class=\"dataframe\">\n",
       "<caption>A data.frame: 10 × 7</caption>\n",
       "<thead>\n",
       "\t<tr><th scope=col>x</th><th scope=col>y</th><th scope=col>x_barx</th><th scope=col>y_bary</th><th scope=col>x_barx2</th><th scope=col>y_bary2</th><th scope=col>xy</th></tr>\n",
       "\t<tr><th scope=col>&lt;dbl&gt;</th><th scope=col>&lt;dbl&gt;</th><th scope=col>&lt;dbl&gt;</th><th scope=col>&lt;dbl&gt;</th><th scope=col>&lt;dbl&gt;</th><th scope=col>&lt;dbl&gt;</th><th scope=col>&lt;dbl&gt;</th></tr>\n",
       "</thead>\n",
       "<tbody>\n",
       "\t<tr><td> 0</td><td>8.5</td><td>-6</td><td> 0.89</td><td>36</td><td>0.7921</td><td>-5.34</td></tr>\n",
       "\t<tr><td> 0</td><td>8.4</td><td>-6</td><td> 0.79</td><td>36</td><td>0.6241</td><td>-4.74</td></tr>\n",
       "\t<tr><td> 3</td><td>7.9</td><td>-3</td><td> 0.29</td><td> 9</td><td>0.0841</td><td>-0.87</td></tr>\n",
       "\t<tr><td> 3</td><td>8.1</td><td>-3</td><td> 0.49</td><td> 9</td><td>0.2401</td><td>-1.47</td></tr>\n",
       "\t<tr><td> 6</td><td>7.8</td><td> 0</td><td> 0.19</td><td> 0</td><td>0.0361</td><td> 0.00</td></tr>\n",
       "\t<tr><td> 6</td><td>7.6</td><td> 0</td><td>-0.01</td><td> 0</td><td>0.0001</td><td> 0.00</td></tr>\n",
       "\t<tr><td> 9</td><td>7.3</td><td> 3</td><td>-0.31</td><td> 9</td><td>0.0961</td><td>-0.93</td></tr>\n",
       "\t<tr><td> 9</td><td>7.0</td><td> 3</td><td>-0.61</td><td> 9</td><td>0.3721</td><td>-1.83</td></tr>\n",
       "\t<tr><td>12</td><td>6.8</td><td> 6</td><td>-0.81</td><td>36</td><td>0.6561</td><td>-4.86</td></tr>\n",
       "\t<tr><td>12</td><td>6.7</td><td> 6</td><td>-0.91</td><td>36</td><td>0.8281</td><td>-5.46</td></tr>\n",
       "</tbody>\n",
       "</table>\n"
      ],
      "text/latex": [
       "A data.frame: 10 × 7\n",
       "\\begin{tabular}{lllllll}\n",
       " x & y & x\\_barx & y\\_bary & x\\_barx2 & y\\_bary2 & xy\\\\\n",
       " <dbl> & <dbl> & <dbl> & <dbl> & <dbl> & <dbl> & <dbl>\\\\\n",
       "\\hline\n",
       "\t  0 & 8.5 & -6 &  0.89 & 36 & 0.7921 & -5.34\\\\\n",
       "\t  0 & 8.4 & -6 &  0.79 & 36 & 0.6241 & -4.74\\\\\n",
       "\t  3 & 7.9 & -3 &  0.29 &  9 & 0.0841 & -0.87\\\\\n",
       "\t  3 & 8.1 & -3 &  0.49 &  9 & 0.2401 & -1.47\\\\\n",
       "\t  6 & 7.8 &  0 &  0.19 &  0 & 0.0361 &  0.00\\\\\n",
       "\t  6 & 7.6 &  0 & -0.01 &  0 & 0.0001 &  0.00\\\\\n",
       "\t  9 & 7.3 &  3 & -0.31 &  9 & 0.0961 & -0.93\\\\\n",
       "\t  9 & 7.0 &  3 & -0.61 &  9 & 0.3721 & -1.83\\\\\n",
       "\t 12 & 6.8 &  6 & -0.81 & 36 & 0.6561 & -4.86\\\\\n",
       "\t 12 & 6.7 &  6 & -0.91 & 36 & 0.8281 & -5.46\\\\\n",
       "\\end{tabular}\n"
      ],
      "text/markdown": [
       "\n",
       "A data.frame: 10 × 7\n",
       "\n",
       "| x &lt;dbl&gt; | y &lt;dbl&gt; | x_barx &lt;dbl&gt; | y_bary &lt;dbl&gt; | x_barx2 &lt;dbl&gt; | y_bary2 &lt;dbl&gt; | xy &lt;dbl&gt; |\n",
       "|---|---|---|---|---|---|---|\n",
       "|  0 | 8.5 | -6 |  0.89 | 36 | 0.7921 | -5.34 |\n",
       "|  0 | 8.4 | -6 |  0.79 | 36 | 0.6241 | -4.74 |\n",
       "|  3 | 7.9 | -3 |  0.29 |  9 | 0.0841 | -0.87 |\n",
       "|  3 | 8.1 | -3 |  0.49 |  9 | 0.2401 | -1.47 |\n",
       "|  6 | 7.8 |  0 |  0.19 |  0 | 0.0361 |  0.00 |\n",
       "|  6 | 7.6 |  0 | -0.01 |  0 | 0.0001 |  0.00 |\n",
       "|  9 | 7.3 |  3 | -0.31 |  9 | 0.0961 | -0.93 |\n",
       "|  9 | 7.0 |  3 | -0.61 |  9 | 0.3721 | -1.83 |\n",
       "| 12 | 6.8 |  6 | -0.81 | 36 | 0.6561 | -4.86 |\n",
       "| 12 | 6.7 |  6 | -0.91 | 36 | 0.8281 | -5.46 |\n",
       "\n"
      ],
      "text/plain": [
       "   x  y   x_barx y_bary x_barx2 y_bary2 xy   \n",
       "1   0 8.5 -6      0.89  36      0.7921  -5.34\n",
       "2   0 8.4 -6      0.79  36      0.6241  -4.74\n",
       "3   3 7.9 -3      0.29   9      0.0841  -0.87\n",
       "4   3 8.1 -3      0.49   9      0.2401  -1.47\n",
       "5   6 7.8  0      0.19   0      0.0361   0.00\n",
       "6   6 7.6  0     -0.01   0      0.0001   0.00\n",
       "7   9 7.3  3     -0.31   9      0.0961  -0.93\n",
       "8   9 7.0  3     -0.61   9      0.3721  -1.83\n",
       "9  12 6.8  6     -0.81  36      0.6561  -4.86\n",
       "10 12 6.7  6     -0.91  36      0.8281  -5.46"
      ]
     },
     "metadata": {},
     "output_type": "display_data"
    }
   ],
   "source": [
    "df_4"
   ]
  },
  {
   "cell_type": "code",
   "execution_count": 6,
   "id": "097f56da-f6bd-44fd-8367-86d738f9b9c9",
   "metadata": {},
   "outputs": [
    {
     "data": {
      "text/html": [
       "<style>\n",
       ".dl-inline {width: auto; margin:0; padding: 0}\n",
       ".dl-inline>dt, .dl-inline>dd {float: none; width: auto; display: inline-block}\n",
       ".dl-inline>dt::after {content: \":\\0020\"; padding-right: .5ex}\n",
       ".dl-inline>dt:not(:first-of-type) {padding-left: .5ex}\n",
       "</style><dl class=dl-inline><dt>x</dt><dd>60</dd><dt>y</dt><dd>76.1</dd><dt>x_barx</dt><dd>0</dd><dt>y_bary</dt><dd>0</dd><dt>x_barx2</dt><dd>180</dd><dt>y_bary2</dt><dd>3.729</dd><dt>xy</dt><dd>-25.5</dd></dl>\n"
      ],
      "text/latex": [
       "\\begin{description*}\n",
       "\\item[x] 60\n",
       "\\item[y] 76.1\n",
       "\\item[x\\textbackslash{}\\_barx] 0\n",
       "\\item[y\\textbackslash{}\\_bary] 0\n",
       "\\item[x\\textbackslash{}\\_barx2] 180\n",
       "\\item[y\\textbackslash{}\\_bary2] 3.729\n",
       "\\item[xy] -25.5\n",
       "\\end{description*}\n"
      ],
      "text/markdown": [
       "x\n",
       ":   60y\n",
       ":   76.1x_barx\n",
       ":   0y_bary\n",
       ":   0x_barx2\n",
       ":   180y_bary2\n",
       ":   3.729xy\n",
       ":   -25.5\n",
       "\n"
      ],
      "text/plain": [
       "      x       y  x_barx  y_bary x_barx2 y_bary2      xy \n",
       " 60.000  76.100   0.000   0.000 180.000   3.729 -25.500 "
      ]
     },
     "metadata": {},
     "output_type": "display_data"
    }
   ],
   "source": [
    "round(colSums(df_4),3)"
   ]
  },
  {
   "cell_type": "markdown",
   "id": "939fbc1a-e045-4e83-af5d-100efa30c062",
   "metadata": {},
   "source": [
    "$\\hat{\\beta_1} = \\frac{S_{xy}}{S_{xx}}$\n",
    "\n",
    "$\\hat{\\beta_0} = \\bar{y} - \\hat{\\beta_1}\\bar{x}$"
   ]
  },
  {
   "cell_type": "code",
   "execution_count": 7,
   "id": "8064c08b-bebf-49e8-aed3-63fd6060d33f",
   "metadata": {},
   "outputs": [],
   "source": [
    "beta1_4 <- as.numeric(colSums(df_4)[7]/colSums(df_4)[5])\n",
    "beta0_4 <- mean(df_4$y) - beta1_4 *  mean(df_4$x)"
   ]
  },
  {
   "cell_type": "code",
   "execution_count": 8,
   "id": "139ccda9-85ce-4769-a9be-740013138a34",
   "metadata": {},
   "outputs": [
    {
     "name": "stdout",
     "output_type": "stream",
     "text": [
      "hat beta0 =  8.46\n",
      "hat beta1 =  -0.1416667"
     ]
    }
   ],
   "source": [
    "cat(\"hat beta0 = \", beta0_4)\n",
    "cat(\"\\nhat beta1 = \", beta1_4)"
   ]
  },
  {
   "cell_type": "markdown",
   "id": "fb700584-198d-4fe8-b61e-f3344c2cccfb",
   "metadata": {},
   "source": [
    "$\\hat{y} = 8.46 - 0.1417x$"
   ]
  },
  {
   "cell_type": "code",
   "execution_count": 9,
   "id": "6c9a6852-5306-4f58-81a2-b2c6ff94cb5e",
   "metadata": {},
   "outputs": [],
   "source": [
    "SST_4 = sum((df_4$y - mean(df_4$y))^2)"
   ]
  },
  {
   "cell_type": "code",
   "execution_count": 10,
   "id": "0c095670-a220-46fa-85ed-f38db1b38756",
   "metadata": {},
   "outputs": [],
   "source": [
    "SSR_4 = sum( ( ( beta0_4 + beta1_4 *df_4$x)-mean(df_4$y) )^2 )\n",
    "MSR_4 = SSR_4/1"
   ]
  },
  {
   "cell_type": "code",
   "execution_count": 11,
   "id": "96a73e85-37aa-4f67-abb9-bf938277c0f1",
   "metadata": {},
   "outputs": [],
   "source": [
    "SSE_4 = sum( ( df_4$y-( beta0_4 + beta1_4 *df_4$x))^2 )\n",
    "MSE_4 = SSE_4/8"
   ]
  },
  {
   "cell_type": "code",
   "execution_count": 12,
   "id": "2f413639-6b07-45ec-8663-c4e4f53ad3fc",
   "metadata": {},
   "outputs": [
    {
     "name": "stdout",
     "output_type": "stream",
     "text": [
      "SST =  3.729 , df = 9\n",
      "SSR =  3.6125 , df = 1\n",
      "SSE =  0.1165 , df = 8"
     ]
    }
   ],
   "source": [
    "cat(\"SST = \", SST_4,\", df = 9\")\n",
    "cat(\"\\nSSR = \", SSR_4,\", df = 1\")\n",
    "cat(\"\\nSSE = \", SSE_4, \", df = 8\")"
   ]
  },
  {
   "cell_type": "code",
   "execution_count": 13,
   "id": "a21362ac-aefa-4ef3-8fb5-36a971ce6bc0",
   "metadata": {},
   "outputs": [
    {
     "data": {
      "text/html": [
       "248.068669527898"
      ],
      "text/latex": [
       "248.068669527898"
      ],
      "text/markdown": [
       "248.068669527898"
      ],
      "text/plain": [
       "[1] 248.0687"
      ]
     },
     "metadata": {},
     "output_type": "display_data"
    }
   ],
   "source": [
    "F_4 = MSR_4 / MSE_4\n",
    "F_4"
   ]
  },
  {
   "cell_type": "code",
   "execution_count": 14,
   "id": "cd6f2a91-e5ab-46c7-8a4b-00e0d1da8c14",
   "metadata": {},
   "outputs": [
    {
     "data": {
      "text/html": [
       "5.31765507157871"
      ],
      "text/latex": [
       "5.31765507157871"
      ],
      "text/markdown": [
       "5.31765507157871"
      ],
      "text/plain": [
       "[1] 5.317655"
      ]
     },
     "metadata": {},
     "output_type": "display_data"
    }
   ],
   "source": [
    "qf(0.95,1,8)"
   ]
  },
  {
   "cell_type": "markdown",
   "id": "6dda4800-aab8-4786-84c6-1970a1252163",
   "metadata": {},
   "source": [
    "$H_0 : \\beta_1 = 0$\n",
    "\n",
    "$H_1 : \\beta_1 \\neq 0$\n",
    "\n",
    "F값이 유의수준 0.05에서 기준 F보다 크기 때문에 $H_0$ 기각하고, $\\beta_1$ 은 유의미하다."
   ]
  },
  {
   "cell_type": "code",
   "execution_count": 15,
   "id": "72368b93-8222-472c-8a64-7f042a1f9546",
   "metadata": {},
   "outputs": [],
   "source": [
    "df_4_ex <- cbind(df_4[c(1,3,5,7,9),c(1,2)],df_4[c(2,4,6,8,10),c(2)])"
   ]
  },
  {
   "cell_type": "code",
   "execution_count": 16,
   "id": "f9d874ae-a253-4090-8d3d-7afe1df449c7",
   "metadata": {},
   "outputs": [],
   "source": [
    "colnames(df_4_ex) <- c('x','y1','y2')"
   ]
  },
  {
   "cell_type": "code",
   "execution_count": 17,
   "id": "02ed4fea-4b51-484d-a27a-22d6ae6625f6",
   "metadata": {
    "tags": []
   },
   "outputs": [
    {
     "data": {
      "text/html": [
       "<table class=\"dataframe\">\n",
       "<caption>A data.frame: 5 × 7</caption>\n",
       "<thead>\n",
       "\t<tr><th></th><th scope=col>x</th><th scope=col>y1</th><th scope=col>y2</th><th scope=col>ymean</th><th scope=col>y1_ymean2</th><th scope=col>y2_ymean2</th><th scope=col>yhat</th></tr>\n",
       "\t<tr><th></th><th scope=col>&lt;dbl&gt;</th><th scope=col>&lt;dbl&gt;</th><th scope=col>&lt;dbl&gt;</th><th scope=col>&lt;dbl&gt;</th><th scope=col>&lt;dbl&gt;</th><th scope=col>&lt;dbl&gt;</th><th scope=col>&lt;dbl&gt;</th></tr>\n",
       "</thead>\n",
       "<tbody>\n",
       "\t<tr><th scope=row>1</th><td> 0</td><td>8.5</td><td>8.4</td><td>8.45</td><td>0.0025</td><td>0.0025</td><td>8.460000</td></tr>\n",
       "\t<tr><th scope=row>3</th><td> 3</td><td>7.9</td><td>8.1</td><td>8.00</td><td>0.0100</td><td>0.0100</td><td>8.019999</td></tr>\n",
       "\t<tr><th scope=row>5</th><td> 6</td><td>7.8</td><td>7.6</td><td>7.70</td><td>0.0100</td><td>0.0100</td><td>7.579998</td></tr>\n",
       "\t<tr><th scope=row>7</th><td> 9</td><td>7.3</td><td>7.0</td><td>7.15</td><td>0.0225</td><td>0.0225</td><td>7.139997</td></tr>\n",
       "\t<tr><th scope=row>9</th><td>12</td><td>6.8</td><td>6.7</td><td>6.75</td><td>0.0025</td><td>0.0025</td><td>6.699996</td></tr>\n",
       "</tbody>\n",
       "</table>\n"
      ],
      "text/latex": [
       "A data.frame: 5 × 7\n",
       "\\begin{tabular}{r|lllllll}\n",
       "  & x & y1 & y2 & ymean & y1\\_ymean2 & y2\\_ymean2 & yhat\\\\\n",
       "  & <dbl> & <dbl> & <dbl> & <dbl> & <dbl> & <dbl> & <dbl>\\\\\n",
       "\\hline\n",
       "\t1 &  0 & 8.5 & 8.4 & 8.45 & 0.0025 & 0.0025 & 8.460000\\\\\n",
       "\t3 &  3 & 7.9 & 8.1 & 8.00 & 0.0100 & 0.0100 & 8.019999\\\\\n",
       "\t5 &  6 & 7.8 & 7.6 & 7.70 & 0.0100 & 0.0100 & 7.579998\\\\\n",
       "\t7 &  9 & 7.3 & 7.0 & 7.15 & 0.0225 & 0.0225 & 7.139997\\\\\n",
       "\t9 & 12 & 6.8 & 6.7 & 6.75 & 0.0025 & 0.0025 & 6.699996\\\\\n",
       "\\end{tabular}\n"
      ],
      "text/markdown": [
       "\n",
       "A data.frame: 5 × 7\n",
       "\n",
       "| <!--/--> | x &lt;dbl&gt; | y1 &lt;dbl&gt; | y2 &lt;dbl&gt; | ymean &lt;dbl&gt; | y1_ymean2 &lt;dbl&gt; | y2_ymean2 &lt;dbl&gt; | yhat &lt;dbl&gt; |\n",
       "|---|---|---|---|---|---|---|---|\n",
       "| 1 |  0 | 8.5 | 8.4 | 8.45 | 0.0025 | 0.0025 | 8.460000 |\n",
       "| 3 |  3 | 7.9 | 8.1 | 8.00 | 0.0100 | 0.0100 | 8.019999 |\n",
       "| 5 |  6 | 7.8 | 7.6 | 7.70 | 0.0100 | 0.0100 | 7.579998 |\n",
       "| 7 |  9 | 7.3 | 7.0 | 7.15 | 0.0225 | 0.0225 | 7.139997 |\n",
       "| 9 | 12 | 6.8 | 6.7 | 6.75 | 0.0025 | 0.0025 | 6.699996 |\n",
       "\n"
      ],
      "text/plain": [
       "  x  y1  y2  ymean y1_ymean2 y2_ymean2 yhat    \n",
       "1  0 8.5 8.4 8.45  0.0025    0.0025    8.460000\n",
       "3  3 7.9 8.1 8.00  0.0100    0.0100    8.019999\n",
       "5  6 7.8 7.6 7.70  0.0100    0.0100    7.579998\n",
       "7  9 7.3 7.0 7.15  0.0225    0.0225    7.139997\n",
       "9 12 6.8 6.7 6.75  0.0025    0.0025    6.699996"
      ]
     },
     "metadata": {},
     "output_type": "display_data"
    }
   ],
   "source": [
    "df_4_ex$ymean <- (df_4_ex$y1+df_4_ex$y2)/2\n",
    "df_4_ex$y1_ymean2 <- (df_4_ex$y1 - df_4_ex$ymean)^2\n",
    "df_4_ex$y2_ymean2 <- (df_4_ex$y2 - df_4_ex$ymean)^2\n",
    "df_4_ex$yhat <- 8.46 - 0.146667 * df_4_ex$x\n",
    "df_4_ex"
   ]
  },
  {
   "cell_type": "markdown",
   "id": "1da2379d-511b-46d3-be64-c57c199966eb",
   "metadata": {},
   "source": [
    "$\\hat{y} = 8.46 - 01417x$"
   ]
  },
  {
   "cell_type": "code",
   "execution_count": 18,
   "id": "5d9d1a19-90a5-487c-b527-a338062f9b56",
   "metadata": {},
   "outputs": [
    {
     "data": {
      "text/html": [
       "0.0949999999999998"
      ],
      "text/latex": [
       "0.0949999999999998"
      ],
      "text/markdown": [
       "0.0949999999999998"
      ],
      "text/plain": [
       "[1] 0.095"
      ]
     },
     "metadata": {},
     "output_type": "display_data"
    }
   ],
   "source": [
    "SSPE_4 = sum(df_4_ex$y1_ymean2) + sum(df_4_ex$y2_ymean2)\n",
    "SSPE_4"
   ]
  },
  {
   "cell_type": "code",
   "execution_count": 19,
   "id": "1fcd815d-cb69-4c66-af5a-78ad71df8df9",
   "metadata": {},
   "outputs": [
    {
     "data": {
      "text/html": [
       "0.0214999999999996"
      ],
      "text/latex": [
       "0.0214999999999996"
      ],
      "text/markdown": [
       "0.0214999999999996"
      ],
      "text/plain": [
       "[1] 0.0215"
      ]
     },
     "metadata": {},
     "output_type": "display_data"
    }
   ],
   "source": [
    "SSLF_4 = SSE_4 - SSPE_4\n",
    "SSLF_4"
   ]
  },
  {
   "cell_type": "code",
   "execution_count": 20,
   "id": "878cb75c-5e03-48af-ad64-721bd376c775",
   "metadata": {},
   "outputs": [
    {
     "data": {
      "text/html": [
       "0.377192982456135"
      ],
      "text/latex": [
       "0.377192982456135"
      ],
      "text/markdown": [
       "0.377192982456135"
      ],
      "text/plain": [
       "[1] 0.377193"
      ]
     },
     "metadata": {},
     "output_type": "display_data"
    }
   ],
   "source": [
    "F_4_0 = SSLF_4/3 / (SSPE_4 / 5)\n",
    "F_4_0"
   ]
  },
  {
   "cell_type": "code",
   "execution_count": 21,
   "id": "c114940f-d274-4327-bb8a-266ccb806462",
   "metadata": {},
   "outputs": [
    {
     "name": "stdout",
     "output_type": "stream",
     "text": [
      "유의수준 5%에서  5.409451 보다  0.377193 값이 작기 때문에 귀무가설을 기각하지 못한다. 따라서 선형회귀모형은 타당하다."
     ]
    }
   ],
   "source": [
    "cat(\"유의수준 5%에서 \",qf(0.95,3,5), \"보다 \",F_4_0,\"값이 작기 때문에 귀무가설을 기각하지 못한다. 따라서 선형회귀모형은 타당하다.\")"
   ]
  },
  {
   "cell_type": "markdown",
   "id": "b9629d36-08d1-4942-9c5a-df17dbc7322f",
   "metadata": {},
   "source": [
    "$H_0 : E(Y|X = x) = \\beta_0 + \\beta_1 x$ 기각못함"
   ]
  },
  {
   "cell_type": "markdown",
   "id": "18bc787e-a943-4edc-b0b7-03636161fa44",
   "metadata": {},
   "source": [
    "(2) 선형회귀모형이 타당한 경우, 신선도의 점수가 시간당 얼마만큼이나 떨어지는가를 95% 신뢰계수를 가지고 구간추정하라(즉, $\\beta_1$의 구간추정)."
   ]
  },
  {
   "cell_type": "markdown",
   "id": "73e8af05-6e4d-45a8-b5d7-0f1b3fc90741",
   "metadata": {},
   "source": [
    "**Answer**"
   ]
  },
  {
   "cell_type": "markdown",
   "id": "0d1b96b5-ff12-476a-bae8-7d39dfbda3d0",
   "metadata": {},
   "source": [
    "$\\hat{\\beta}_1$의 $100(1-\\alpha)$%의 신뢰구간\n",
    "\n",
    "$\\hat{\\beta}_1 \\pm t_{\\alpha/2}(n-2)\\frac{\\sqrt{MSE}}{\\sqrt{S_{xx}}}$"
   ]
  },
  {
   "cell_type": "code",
   "execution_count": 22,
   "id": "68efc46c-d5e3-4048-b873-b441c744e1f3",
   "metadata": {},
   "outputs": [
    {
     "data": {
      "text/html": [
       "2.30600413520417"
      ],
      "text/latex": [
       "2.30600413520417"
      ],
      "text/markdown": [
       "2.30600413520417"
      ],
      "text/plain": [
       "[1] 2.306004"
      ]
     },
     "metadata": {},
     "output_type": "display_data"
    }
   ],
   "source": [
    "qt(0.975,8)"
   ]
  },
  {
   "cell_type": "code",
   "execution_count": 23,
   "id": "34241acb-c935-4d1d-bca4-aa3fb98d029c",
   "metadata": {},
   "outputs": [
    {
     "name": "stdout",
     "output_type": "stream",
     "text": [
      "beta1 is  -0.1416667\n",
      "MSE is  0.0145625\n",
      "Sxx is  180"
     ]
    }
   ],
   "source": [
    "cat(\"beta1 is \",beta1_4)\n",
    "cat(\"\\nMSE is \",MSE_4)\n",
    "cat(\"\\nSxx is \",sum(df_4$x_barx2))"
   ]
  },
  {
   "cell_type": "code",
   "execution_count": 24,
   "id": "85313554-aa8e-482a-a403-66142e946511",
   "metadata": {},
   "outputs": [
    {
     "name": "stdout",
     "output_type": "stream",
     "text": [
      "95% 신뢰계수는 ( -0.1624082 - -0.1209251 ) 이다."
     ]
    }
   ],
   "source": [
    "cat(\"95% 신뢰계수는 (\",beta1_4-qt(0.975,8)*sqrt(MSE_4/sum(df_4$x_barx2)),\"-\",beta1_4+qt(0.975,8)*sqrt(MSE_4/sum(df_4$x_barx2)),\") 이다.\")"
   ]
  },
  {
   "cell_type": "markdown",
   "id": "e2d9ef32-778a-453d-afe6-a6c934fc3db8",
   "metadata": {},
   "source": [
    "신뢰계수가 0을 포함하지 않는다. 신뢰구간에서 $\\beta_1$이 유의미함을 알 수 있다."
   ]
  },
  {
   "cell_type": "markdown",
   "id": "e08326b7-b208-4e20-b8d3-e1aad5ec745a",
   "metadata": {},
   "source": [
    "---"
   ]
  },
  {
   "cell_type": "markdown",
   "id": "f04237bb-c1b2-463d-8a6f-2b927a8b4b3f",
   "metadata": {},
   "source": [
    "5.  두 타이어회사 A, B에서 생산되는 타이어를 비교하기 위하여 고속도로에서 트럭이 달리는 상황을 모의실험(simulated experiment)하여 다음의 데이터를 얻었다. $x$는 트럭이 달리는 속도이고 $y$는 타이어가 마모되기까지의 총 주행거리이다."
   ]
  },
  {
   "cell_type": "markdown",
   "id": "4da3784b-bff9-4583-8ada-ab04ae43205d",
   "metadata": {},
   "source": [
    "|$x_{1j}$|10|20|30|40|50|60|70|\n",
    "|---|---|---|---|---|---|---|---|\n",
    "|$y_{1j}(A)$|9.8|12.5|14.9|16.5|22.4|24.1|25.8|\n",
    "|$y_{2j}(B)$|15.0|14.5|16.5|19.1|22.3|20.8|22.4|"
   ]
  },
  {
   "cell_type": "markdown",
   "id": "ec6c8813-1962-49bb-a8e7-5f565a804d4a",
   "metadata": {},
   "source": [
    "(1) 산점도를 그리시오."
   ]
  },
  {
   "cell_type": "markdown",
   "id": "9d17bb3b-c6c9-46ad-9039-adc98e998256",
   "metadata": {},
   "source": [
    "**Answer**"
   ]
  },
  {
   "cell_type": "code",
   "execution_count": 25,
   "id": "da4b5b6c-df8d-4fb7-a229-5ee86888ab27",
   "metadata": {},
   "outputs": [
    {
     "data": {
      "text/html": [
       "<table class=\"dataframe\">\n",
       "<caption>A data.frame: 7 × 3</caption>\n",
       "<thead>\n",
       "\t<tr><th scope=col>x</th><th scope=col>yA</th><th scope=col>yB</th></tr>\n",
       "\t<tr><th scope=col>&lt;dbl&gt;</th><th scope=col>&lt;dbl&gt;</th><th scope=col>&lt;dbl&gt;</th></tr>\n",
       "</thead>\n",
       "<tbody>\n",
       "\t<tr><td>10</td><td> 9.8</td><td>15.0</td></tr>\n",
       "\t<tr><td>20</td><td>12.5</td><td>14.5</td></tr>\n",
       "\t<tr><td>30</td><td>14.9</td><td>16.5</td></tr>\n",
       "\t<tr><td>40</td><td>16.5</td><td>19.1</td></tr>\n",
       "\t<tr><td>50</td><td>22.4</td><td>22.3</td></tr>\n",
       "\t<tr><td>60</td><td>24.1</td><td>20.8</td></tr>\n",
       "\t<tr><td>70</td><td>25.8</td><td>22.4</td></tr>\n",
       "</tbody>\n",
       "</table>\n"
      ],
      "text/latex": [
       "A data.frame: 7 × 3\n",
       "\\begin{tabular}{lll}\n",
       " x & yA & yB\\\\\n",
       " <dbl> & <dbl> & <dbl>\\\\\n",
       "\\hline\n",
       "\t 10 &  9.8 & 15.0\\\\\n",
       "\t 20 & 12.5 & 14.5\\\\\n",
       "\t 30 & 14.9 & 16.5\\\\\n",
       "\t 40 & 16.5 & 19.1\\\\\n",
       "\t 50 & 22.4 & 22.3\\\\\n",
       "\t 60 & 24.1 & 20.8\\\\\n",
       "\t 70 & 25.8 & 22.4\\\\\n",
       "\\end{tabular}\n"
      ],
      "text/markdown": [
       "\n",
       "A data.frame: 7 × 3\n",
       "\n",
       "| x &lt;dbl&gt; | yA &lt;dbl&gt; | yB &lt;dbl&gt; |\n",
       "|---|---|---|\n",
       "| 10 |  9.8 | 15.0 |\n",
       "| 20 | 12.5 | 14.5 |\n",
       "| 30 | 14.9 | 16.5 |\n",
       "| 40 | 16.5 | 19.1 |\n",
       "| 50 | 22.4 | 22.3 |\n",
       "| 60 | 24.1 | 20.8 |\n",
       "| 70 | 25.8 | 22.4 |\n",
       "\n"
      ],
      "text/plain": [
       "  x  yA   yB  \n",
       "1 10  9.8 15.0\n",
       "2 20 12.5 14.5\n",
       "3 30 14.9 16.5\n",
       "4 40 16.5 19.1\n",
       "5 50 22.4 22.3\n",
       "6 60 24.1 20.8\n",
       "7 70 25.8 22.4"
      ]
     },
     "metadata": {},
     "output_type": "display_data"
    }
   ],
   "source": [
    "df_5 = data.frame(x = c(10,20,30,40,50,60,70),\n",
    "                  yA = c(9.8,12.5,14.9,16.5,22.4,24.1,25.8),\n",
    "                  yB = c(15.0,14.5,16.5,19.1,22.3,20.8,22.4))\n",
    "df_5"
   ]
  },
  {
   "cell_type": "code",
   "execution_count": 26,
   "id": "113179a2-b6cf-4993-bdfc-2918968efc93",
   "metadata": {},
   "outputs": [
    {
     "data": {
      "image/png": "[encoded data removed]",
      "text/plain": [
       "plot without title"
      ]
     },
     "metadata": {
      "image/png": {
       "height": 420,
       "width": 420
      }
     },
     "output_type": "display_data"
    }
   ],
   "source": [
    "plot(df_5$yA~df_5$x,\n",
    "     xlab = \"x\",\n",
    "     ylab = \"yA(orange),yB(blue)\",\n",
    "     pch  = 16,\n",
    "     cex  = 1,\n",
    "     col  = \"darkorange\")\n",
    "par(new=TRUE)\n",
    "plot(df_5$yB~df_5$x,\n",
    "     xlab='',\n",
    "     ylab='',\n",
    "     pch  = 16,\n",
    "     cex  = 1,\n",
    "     col  = \"blue\")"
   ]
  },
  {
   "cell_type": "markdown",
   "id": "355e1b1f-2215-4cb9-98d1-a602c2bccb51",
   "metadata": {},
   "source": [
    "(2) 각 회사별로 속도와 총주행거리 간의 회귀모형을 구한다면, 두 개의 직선이 동일하다고 볼수 있는가? 유의수준 $\\alpha = 0.05$로 가설검정하시오."
   ]
  },
  {
   "cell_type": "markdown",
   "id": "f167bf4c-6467-4293-85c0-e27139cdd83a",
   "metadata": {},
   "source": [
    "**Answer**"
   ]
  },
  {
   "cell_type": "markdown",
   "id": "255787cb-026f-4945-8e77-4414145aaf4e",
   "metadata": {},
   "source": [
    "$H_0: \\beta_{01} = \\beta_{02} \\text{ and } \\beta_{11} = \\beta_{12}$\n",
    "\n",
    "$H_1: \\beta_{01} \\ne \\beta_{02} \\text{ or } \\beta_{11} \\ne \\beta_{12}$"
   ]
  },
  {
   "cell_type": "code",
   "execution_count": 27,
   "id": "b01157a6-949c-47f3-b701-fab5232f4899",
   "metadata": {},
   "outputs": [],
   "source": [
    "df_5_A <- df_5"
   ]
  },
  {
   "cell_type": "code",
   "execution_count": 28,
   "id": "f7c1f668-561c-4047-9e06-4700271c4f77",
   "metadata": {},
   "outputs": [],
   "source": [
    "df_5_A$x_barx = df_5_A$x - mean(df_5_A$x)\n",
    "df_5_A$yA_baryA = df_5_A$yA - mean(df_5_A$yA) "
   ]
  },
  {
   "cell_type": "markdown",
   "id": "5fdab587-e283-4b1d-85d6-1431d43e7503",
   "metadata": {},
   "source": [
    "- $S_{xx}, S_{yy},S_{xy}$를 구해주기 위해 $x_i - \\bar{x}, y_i - \\bar{y}$를 구했다."
   ]
  },
  {
   "cell_type": "code",
   "execution_count": 29,
   "id": "e3d9f07c-fb7e-4698-9d00-9c49063084c6",
   "metadata": {},
   "outputs": [],
   "source": [
    "df_5_A$x_barx2 <- df_5_A$x_barx^2\n",
    "df_5_A$yA_baryA2 <- df_5_A$yA_baryA^2\n",
    "df_5_A$xyA <-df_5_A$x_barx * df_5_A$yA_baryA"
   ]
  },
  {
   "cell_type": "markdown",
   "id": "0603d296-b04a-4490-9902-e812ae137c84",
   "metadata": {},
   "source": [
    "- $S_{xx}, S_{yy},S_{xy}$를 구해주었다."
   ]
  },
  {
   "cell_type": "code",
   "execution_count": 30,
   "id": "642f87ee-1149-4853-9ab9-229b5a26148f",
   "metadata": {},
   "outputs": [
    {
     "data": {
      "text/html": [
       "<table class=\"dataframe\">\n",
       "<caption>A data.frame: 7 × 8</caption>\n",
       "<thead>\n",
       "\t<tr><th scope=col>x</th><th scope=col>yA</th><th scope=col>yB</th><th scope=col>x_barx</th><th scope=col>yA_baryA</th><th scope=col>x_barx2</th><th scope=col>yA_baryA2</th><th scope=col>xyA</th></tr>\n",
       "\t<tr><th scope=col>&lt;dbl&gt;</th><th scope=col>&lt;dbl&gt;</th><th scope=col>&lt;dbl&gt;</th><th scope=col>&lt;dbl&gt;</th><th scope=col>&lt;dbl&gt;</th><th scope=col>&lt;dbl&gt;</th><th scope=col>&lt;dbl&gt;</th><th scope=col>&lt;dbl&gt;</th></tr>\n",
       "</thead>\n",
       "<tbody>\n",
       "\t<tr><td>10</td><td> 9.8</td><td>15.0</td><td>-30</td><td>-8.2</td><td>900</td><td>67.24</td><td>246</td></tr>\n",
       "\t<tr><td>20</td><td>12.5</td><td>14.5</td><td>-20</td><td>-5.5</td><td>400</td><td>30.25</td><td>110</td></tr>\n",
       "\t<tr><td>30</td><td>14.9</td><td>16.5</td><td>-10</td><td>-3.1</td><td>100</td><td> 9.61</td><td> 31</td></tr>\n",
       "\t<tr><td>40</td><td>16.5</td><td>19.1</td><td>  0</td><td>-1.5</td><td>  0</td><td> 2.25</td><td>  0</td></tr>\n",
       "\t<tr><td>50</td><td>22.4</td><td>22.3</td><td> 10</td><td> 4.4</td><td>100</td><td>19.36</td><td> 44</td></tr>\n",
       "\t<tr><td>60</td><td>24.1</td><td>20.8</td><td> 20</td><td> 6.1</td><td>400</td><td>37.21</td><td>122</td></tr>\n",
       "\t<tr><td>70</td><td>25.8</td><td>22.4</td><td> 30</td><td> 7.8</td><td>900</td><td>60.84</td><td>234</td></tr>\n",
       "</tbody>\n",
       "</table>\n"
      ],
      "text/latex": [
       "A data.frame: 7 × 8\n",
       "\\begin{tabular}{llllllll}\n",
       " x & yA & yB & x\\_barx & yA\\_baryA & x\\_barx2 & yA\\_baryA2 & xyA\\\\\n",
       " <dbl> & <dbl> & <dbl> & <dbl> & <dbl> & <dbl> & <dbl> & <dbl>\\\\\n",
       "\\hline\n",
       "\t 10 &  9.8 & 15.0 & -30 & -8.2 & 900 & 67.24 & 246\\\\\n",
       "\t 20 & 12.5 & 14.5 & -20 & -5.5 & 400 & 30.25 & 110\\\\\n",
       "\t 30 & 14.9 & 16.5 & -10 & -3.1 & 100 &  9.61 &  31\\\\\n",
       "\t 40 & 16.5 & 19.1 &   0 & -1.5 &   0 &  2.25 &   0\\\\\n",
       "\t 50 & 22.4 & 22.3 &  10 &  4.4 & 100 & 19.36 &  44\\\\\n",
       "\t 60 & 24.1 & 20.8 &  20 &  6.1 & 400 & 37.21 & 122\\\\\n",
       "\t 70 & 25.8 & 22.4 &  30 &  7.8 & 900 & 60.84 & 234\\\\\n",
       "\\end{tabular}\n"
      ],
      "text/markdown": [
       "\n",
       "A data.frame: 7 × 8\n",
       "\n",
       "| x &lt;dbl&gt; | yA &lt;dbl&gt; | yB &lt;dbl&gt; | x_barx &lt;dbl&gt; | yA_baryA &lt;dbl&gt; | x_barx2 &lt;dbl&gt; | yA_baryA2 &lt;dbl&gt; | xyA &lt;dbl&gt; |\n",
       "|---|---|---|---|---|---|---|---|\n",
       "| 10 |  9.8 | 15.0 | -30 | -8.2 | 900 | 67.24 | 246 |\n",
       "| 20 | 12.5 | 14.5 | -20 | -5.5 | 400 | 30.25 | 110 |\n",
       "| 30 | 14.9 | 16.5 | -10 | -3.1 | 100 |  9.61 |  31 |\n",
       "| 40 | 16.5 | 19.1 |   0 | -1.5 |   0 |  2.25 |   0 |\n",
       "| 50 | 22.4 | 22.3 |  10 |  4.4 | 100 | 19.36 |  44 |\n",
       "| 60 | 24.1 | 20.8 |  20 |  6.1 | 400 | 37.21 | 122 |\n",
       "| 70 | 25.8 | 22.4 |  30 |  7.8 | 900 | 60.84 | 234 |\n",
       "\n"
      ],
      "text/plain": [
       "  x  yA   yB   x_barx yA_baryA x_barx2 yA_baryA2 xyA\n",
       "1 10  9.8 15.0 -30    -8.2     900     67.24     246\n",
       "2 20 12.5 14.5 -20    -5.5     400     30.25     110\n",
       "3 30 14.9 16.5 -10    -3.1     100      9.61      31\n",
       "4 40 16.5 19.1   0    -1.5       0      2.25       0\n",
       "5 50 22.4 22.3  10     4.4     100     19.36      44\n",
       "6 60 24.1 20.8  20     6.1     400     37.21     122\n",
       "7 70 25.8 22.4  30     7.8     900     60.84     234"
      ]
     },
     "metadata": {},
     "output_type": "display_data"
    }
   ],
   "source": [
    "df_5_A"
   ]
  },
  {
   "cell_type": "code",
   "execution_count": 31,
   "id": "83e9c569-5097-4a82-9b68-2d23840f0678",
   "metadata": {},
   "outputs": [
    {
     "data": {
      "text/html": [
       "<style>\n",
       ".dl-inline {width: auto; margin:0; padding: 0}\n",
       ".dl-inline>dt, .dl-inline>dd {float: none; width: auto; display: inline-block}\n",
       ".dl-inline>dt::after {content: \":\\0020\"; padding-right: .5ex}\n",
       ".dl-inline>dt:not(:first-of-type) {padding-left: .5ex}\n",
       "</style><dl class=dl-inline><dt>x</dt><dd>280</dd><dt>yA</dt><dd>126</dd><dt>yB</dt><dd>130.6</dd><dt>x_barx</dt><dd>0</dd><dt>yA_baryA</dt><dd>0</dd><dt>x_barx2</dt><dd>2800</dd><dt>yA_baryA2</dt><dd>226.76</dd><dt>xyA</dt><dd>787</dd></dl>\n"
      ],
      "text/latex": [
       "\\begin{description*}\n",
       "\\item[x] 280\n",
       "\\item[yA] 126\n",
       "\\item[yB] 130.6\n",
       "\\item[x\\textbackslash{}\\_barx] 0\n",
       "\\item[yA\\textbackslash{}\\_baryA] 0\n",
       "\\item[x\\textbackslash{}\\_barx2] 2800\n",
       "\\item[yA\\textbackslash{}\\_baryA2] 226.76\n",
       "\\item[xyA] 787\n",
       "\\end{description*}\n"
      ],
      "text/markdown": [
       "x\n",
       ":   280yA\n",
       ":   126yB\n",
       ":   130.6x_barx\n",
       ":   0yA_baryA\n",
       ":   0x_barx2\n",
       ":   2800yA_baryA2\n",
       ":   226.76xyA\n",
       ":   787\n",
       "\n"
      ],
      "text/plain": [
       "        x        yA        yB    x_barx  yA_baryA   x_barx2 yA_baryA2       xyA \n",
       "   280.00    126.00    130.60      0.00      0.00   2800.00    226.76    787.00 "
      ]
     },
     "metadata": {},
     "output_type": "display_data"
    }
   ],
   "source": [
    "round(colSums(df_5_A),3)"
   ]
  },
  {
   "cell_type": "markdown",
   "id": "065be600-13df-4c9d-b528-88fdb266dcfb",
   "metadata": {},
   "source": [
    "$\\hat{\\beta_1} = \\frac{S_{xy}}{S_{xx}}$\n",
    "\n",
    "$\\hat{\\beta_0} = \\bar{y} - \\hat{\\beta_1}\\bar{x}$"
   ]
  },
  {
   "cell_type": "code",
   "execution_count": 32,
   "id": "6f4bc7ca-496d-4143-a960-cdd1e1575319",
   "metadata": {},
   "outputs": [],
   "source": [
    "beta1_xyA <- as.numeric(colSums(df_5_A)[8]/colSums(df_5_A)[6])\n",
    "beta0_xyA <- mean(df_5_A$yA) - beta1_xyA *  mean(df_5_A$x)"
   ]
  },
  {
   "cell_type": "code",
   "execution_count": 33,
   "id": "1ec862a5-d0e8-497e-99f4-f3e7dd5aeb20",
   "metadata": {},
   "outputs": [
    {
     "name": "stdout",
     "output_type": "stream",
     "text": [
      "xyA hat beta0 =  6.757143\n",
      "xyA hat beta1 =  0.2810714"
     ]
    }
   ],
   "source": [
    "cat(\"xyA hat beta0 = \", beta0_xyA)\n",
    "cat(\"\\nxyA hat beta1 = \", beta1_xyA)"
   ]
  },
  {
   "cell_type": "markdown",
   "id": "a7b81307-809e-42bd-b2d7-0a8ea226a00d",
   "metadata": {},
   "source": [
    "$yA = 6.757143  + 0.2810714x$"
   ]
  },
  {
   "cell_type": "code",
   "execution_count": 34,
   "id": "630b7154-ff7a-4922-9242-901da8a2180b",
   "metadata": {},
   "outputs": [],
   "source": [
    "SST_A = sum((df_5_A$yA - mean(df_5_A$yA))^2)"
   ]
  },
  {
   "cell_type": "code",
   "execution_count": 35,
   "id": "9a7c040f-419c-460a-a33d-b70715ecedf7",
   "metadata": {},
   "outputs": [],
   "source": [
    "SSR_A = sum( ( ( 6.757143 + 0.2810714 *df_5_A$x)-mean(df_5_A$yA) )^2 )"
   ]
  },
  {
   "cell_type": "code",
   "execution_count": 36,
   "id": "3ae1cae0-e213-4495-afa6-6de95a40cffe",
   "metadata": {},
   "outputs": [],
   "source": [
    "SSE_A = sum( ( df_5_A$yA-( 6.757143 + 0.2810714 *df_5_A$x))^2 )"
   ]
  },
  {
   "cell_type": "code",
   "execution_count": 37,
   "id": "c2cdd99b-b8dc-4b2e-adf1-213f798b54c3",
   "metadata": {},
   "outputs": [
    {
     "name": "stdout",
     "output_type": "stream",
     "text": [
      "yA SST =  226.76 , df = 6\n",
      "yA SSR =  221.2032 , df = 1\n",
      "yA SSE =  5.556786 , df = 5"
     ]
    }
   ],
   "source": [
    "cat(\"yA SST = \", SST_A,\", df = 6\")\n",
    "cat(\"\\nyA SSR = \", SSR_A,\", df = 1\")\n",
    "cat(\"\\nyA SSE = \", SSE_A, \", df = 5\")"
   ]
  },
  {
   "cell_type": "code",
   "execution_count": 38,
   "id": "663ed30e-e2c9-4d75-b67e-fb5b6e4846e4",
   "metadata": {},
   "outputs": [],
   "source": [
    "df_5_B <- df_5"
   ]
  },
  {
   "cell_type": "code",
   "execution_count": 39,
   "id": "22a7e795-52d3-4e5a-bc24-9eb31e2917dd",
   "metadata": {},
   "outputs": [],
   "source": [
    "df_5_B$x_barx = df_5_B$x - mean(df_5_B$x)\n",
    "df_5_B$yB_baryB = df_5_B$yB - mean(df_5_B$yB) "
   ]
  },
  {
   "cell_type": "markdown",
   "id": "8d1dc2ef-ccc9-4b1a-80c6-ad5caceb5328",
   "metadata": {},
   "source": [
    "- $S_{xx}, S_{yy},S_{xy}$를 구해주기 위해 $x_i - \\bar{x}, y_i - \\bar{y}$를 구했다."
   ]
  },
  {
   "cell_type": "code",
   "execution_count": 40,
   "id": "4fe7fc7e-a63f-49e1-bac8-d8fe7daf1ec8",
   "metadata": {},
   "outputs": [],
   "source": [
    "df_5_B$x_barx2 <- df_5_B$x_barx^2\n",
    "df_5_B$yB_baryB2 <- df_5_B$yB_baryB^2\n",
    "df_5_B$xyB <-df_5_B$x_barx * df_5_B$yB_baryB"
   ]
  },
  {
   "cell_type": "markdown",
   "id": "7e5e81c7-2fd0-4512-bfae-5a0257e8fae3",
   "metadata": {},
   "source": [
    "- $S_{xx}, S_{yy},S_{xy}$를 구해주었다."
   ]
  },
  {
   "cell_type": "code",
   "execution_count": 41,
   "id": "d344cf09-8460-49c2-a87c-dc776469e871",
   "metadata": {},
   "outputs": [
    {
     "data": {
      "text/html": [
       "<table class=\"dataframe\">\n",
       "<caption>A data.frame: 7 × 8</caption>\n",
       "<thead>\n",
       "\t<tr><th scope=col>x</th><th scope=col>yA</th><th scope=col>yB</th><th scope=col>x_barx</th><th scope=col>yB_baryB</th><th scope=col>x_barx2</th><th scope=col>yB_baryB2</th><th scope=col>xyB</th></tr>\n",
       "\t<tr><th scope=col>&lt;dbl&gt;</th><th scope=col>&lt;dbl&gt;</th><th scope=col>&lt;dbl&gt;</th><th scope=col>&lt;dbl&gt;</th><th scope=col>&lt;dbl&gt;</th><th scope=col>&lt;dbl&gt;</th><th scope=col>&lt;dbl&gt;</th><th scope=col>&lt;dbl&gt;</th></tr>\n",
       "</thead>\n",
       "<tbody>\n",
       "\t<tr><td>10</td><td> 9.8</td><td>15.0</td><td>-30</td><td>-3.6571429</td><td>900</td><td>13.3746939</td><td>109.71429</td></tr>\n",
       "\t<tr><td>20</td><td>12.5</td><td>14.5</td><td>-20</td><td>-4.1571429</td><td>400</td><td>17.2818367</td><td> 83.14286</td></tr>\n",
       "\t<tr><td>30</td><td>14.9</td><td>16.5</td><td>-10</td><td>-2.1571429</td><td>100</td><td> 4.6532653</td><td> 21.57143</td></tr>\n",
       "\t<tr><td>40</td><td>16.5</td><td>19.1</td><td>  0</td><td> 0.4428571</td><td>  0</td><td> 0.1961224</td><td>  0.00000</td></tr>\n",
       "\t<tr><td>50</td><td>22.4</td><td>22.3</td><td> 10</td><td> 3.6428571</td><td>100</td><td>13.2704082</td><td> 36.42857</td></tr>\n",
       "\t<tr><td>60</td><td>24.1</td><td>20.8</td><td> 20</td><td> 2.1428571</td><td>400</td><td> 4.5918367</td><td> 42.85714</td></tr>\n",
       "\t<tr><td>70</td><td>25.8</td><td>22.4</td><td> 30</td><td> 3.7428571</td><td>900</td><td>14.0089796</td><td>112.28571</td></tr>\n",
       "</tbody>\n",
       "</table>\n"
      ],
      "text/latex": [
       "A data.frame: 7 × 8\n",
       "\\begin{tabular}{llllllll}\n",
       " x & yA & yB & x\\_barx & yB\\_baryB & x\\_barx2 & yB\\_baryB2 & xyB\\\\\n",
       " <dbl> & <dbl> & <dbl> & <dbl> & <dbl> & <dbl> & <dbl> & <dbl>\\\\\n",
       "\\hline\n",
       "\t 10 &  9.8 & 15.0 & -30 & -3.6571429 & 900 & 13.3746939 & 109.71429\\\\\n",
       "\t 20 & 12.5 & 14.5 & -20 & -4.1571429 & 400 & 17.2818367 &  83.14286\\\\\n",
       "\t 30 & 14.9 & 16.5 & -10 & -2.1571429 & 100 &  4.6532653 &  21.57143\\\\\n",
       "\t 40 & 16.5 & 19.1 &   0 &  0.4428571 &   0 &  0.1961224 &   0.00000\\\\\n",
       "\t 50 & 22.4 & 22.3 &  10 &  3.6428571 & 100 & 13.2704082 &  36.42857\\\\\n",
       "\t 60 & 24.1 & 20.8 &  20 &  2.1428571 & 400 &  4.5918367 &  42.85714\\\\\n",
       "\t 70 & 25.8 & 22.4 &  30 &  3.7428571 & 900 & 14.0089796 & 112.28571\\\\\n",
       "\\end{tabular}\n"
      ],
      "text/markdown": [
       "\n",
       "A data.frame: 7 × 8\n",
       "\n",
       "| x &lt;dbl&gt; | yA &lt;dbl&gt; | yB &lt;dbl&gt; | x_barx &lt;dbl&gt; | yB_baryB &lt;dbl&gt; | x_barx2 &lt;dbl&gt; | yB_baryB2 &lt;dbl&gt; | xyB &lt;dbl&gt; |\n",
       "|---|---|---|---|---|---|---|---|\n",
       "| 10 |  9.8 | 15.0 | -30 | -3.6571429 | 900 | 13.3746939 | 109.71429 |\n",
       "| 20 | 12.5 | 14.5 | -20 | -4.1571429 | 400 | 17.2818367 |  83.14286 |\n",
       "| 30 | 14.9 | 16.5 | -10 | -2.1571429 | 100 |  4.6532653 |  21.57143 |\n",
       "| 40 | 16.5 | 19.1 |   0 |  0.4428571 |   0 |  0.1961224 |   0.00000 |\n",
       "| 50 | 22.4 | 22.3 |  10 |  3.6428571 | 100 | 13.2704082 |  36.42857 |\n",
       "| 60 | 24.1 | 20.8 |  20 |  2.1428571 | 400 |  4.5918367 |  42.85714 |\n",
       "| 70 | 25.8 | 22.4 |  30 |  3.7428571 | 900 | 14.0089796 | 112.28571 |\n",
       "\n"
      ],
      "text/plain": [
       "  x  yA   yB   x_barx yB_baryB   x_barx2 yB_baryB2  xyB      \n",
       "1 10  9.8 15.0 -30    -3.6571429 900     13.3746939 109.71429\n",
       "2 20 12.5 14.5 -20    -4.1571429 400     17.2818367  83.14286\n",
       "3 30 14.9 16.5 -10    -2.1571429 100      4.6532653  21.57143\n",
       "4 40 16.5 19.1   0     0.4428571   0      0.1961224   0.00000\n",
       "5 50 22.4 22.3  10     3.6428571 100     13.2704082  36.42857\n",
       "6 60 24.1 20.8  20     2.1428571 400      4.5918367  42.85714\n",
       "7 70 25.8 22.4  30     3.7428571 900     14.0089796 112.28571"
      ]
     },
     "metadata": {},
     "output_type": "display_data"
    }
   ],
   "source": [
    "df_5_B"
   ]
  },
  {
   "cell_type": "code",
   "execution_count": 42,
   "id": "c09002e2-335d-43dc-b0d9-51ce5c058490",
   "metadata": {},
   "outputs": [
    {
     "data": {
      "text/html": [
       "<style>\n",
       ".dl-inline {width: auto; margin:0; padding: 0}\n",
       ".dl-inline>dt, .dl-inline>dd {float: none; width: auto; display: inline-block}\n",
       ".dl-inline>dt::after {content: \":\\0020\"; padding-right: .5ex}\n",
       ".dl-inline>dt:not(:first-of-type) {padding-left: .5ex}\n",
       "</style><dl class=dl-inline><dt>x</dt><dd>280</dd><dt>yA</dt><dd>126</dd><dt>yB</dt><dd>130.6</dd><dt>x_barx</dt><dd>0</dd><dt>yB_baryB</dt><dd>0</dd><dt>x_barx2</dt><dd>2800</dd><dt>yB_baryB2</dt><dd>67.377</dd><dt>xyB</dt><dd>406</dd></dl>\n"
      ],
      "text/latex": [
       "\\begin{description*}\n",
       "\\item[x] 280\n",
       "\\item[yA] 126\n",
       "\\item[yB] 130.6\n",
       "\\item[x\\textbackslash{}\\_barx] 0\n",
       "\\item[yB\\textbackslash{}\\_baryB] 0\n",
       "\\item[x\\textbackslash{}\\_barx2] 2800\n",
       "\\item[yB\\textbackslash{}\\_baryB2] 67.377\n",
       "\\item[xyB] 406\n",
       "\\end{description*}\n"
      ],
      "text/markdown": [
       "x\n",
       ":   280yA\n",
       ":   126yB\n",
       ":   130.6x_barx\n",
       ":   0yB_baryB\n",
       ":   0x_barx2\n",
       ":   2800yB_baryB2\n",
       ":   67.377xyB\n",
       ":   406\n",
       "\n"
      ],
      "text/plain": [
       "        x        yA        yB    x_barx  yB_baryB   x_barx2 yB_baryB2       xyB \n",
       "  280.000   126.000   130.600     0.000     0.000  2800.000    67.377   406.000 "
      ]
     },
     "metadata": {},
     "output_type": "display_data"
    }
   ],
   "source": [
    "round(colSums(df_5_B),3)"
   ]
  },
  {
   "cell_type": "markdown",
   "id": "57881e92-3efd-419c-b254-3968deac29f5",
   "metadata": {},
   "source": [
    "$\\hat{\\beta_1} = \\frac{S_{xy}}{S_{xx}}$\n",
    "\n",
    "$\\hat{\\beta_0} = \\bar{y} - \\hat{\\beta_1}\\bar{x}$"
   ]
  },
  {
   "cell_type": "code",
   "execution_count": 43,
   "id": "903911d5-ae86-494b-aad9-55b398a78100",
   "metadata": {},
   "outputs": [],
   "source": [
    "beta1_xyB <- as.numeric(colSums(df_5_B)[8]/colSums(df_5_B)[6])\n",
    "beta0_xyB <- mean(df_5_B$yB) - beta1_xyB *  mean(df_5_B$x)"
   ]
  },
  {
   "cell_type": "code",
   "execution_count": 44,
   "id": "4dd947df-0101-4e38-9501-bd674cb74550",
   "metadata": {},
   "outputs": [
    {
     "name": "stdout",
     "output_type": "stream",
     "text": [
      "xyB hat beta0 =  12.85714\n",
      "xyB hat beta1 =  0.145"
     ]
    }
   ],
   "source": [
    "cat(\"xyB hat beta0 = \", beta0_xyB)\n",
    "cat(\"\\nxyB hat beta1 = \", beta1_xyB)"
   ]
  },
  {
   "cell_type": "markdown",
   "id": "665a3f13-7bd1-4caa-97a0-bccec6abfdf4",
   "metadata": {},
   "source": [
    "$yB = 12.85714 + 0.145x$"
   ]
  },
  {
   "cell_type": "code",
   "execution_count": 45,
   "id": "4d264a73-0f04-403a-ab1f-631118aebdc4",
   "metadata": {},
   "outputs": [],
   "source": [
    "SST_B = sum((df_5_B$yB - mean(df_5_B$yB))^2)"
   ]
  },
  {
   "cell_type": "code",
   "execution_count": 46,
   "id": "8c332fd9-90e8-454a-bdb4-5870ab6a83ee",
   "metadata": {},
   "outputs": [],
   "source": [
    "SSR_B = sum( ( ( 12.85714 + 0.145*df_5_B$x)-mean(df_5_B$yB) )^2 )"
   ]
  },
  {
   "cell_type": "code",
   "execution_count": 47,
   "id": "e762ce37-aa8e-496b-8685-87be31ae6b1a",
   "metadata": {},
   "outputs": [],
   "source": [
    "SSE_B = sum( ( df_5_B$yB-( 12.85712 + 0.145 *df_5_B$x))^2 )"
   ]
  },
  {
   "cell_type": "code",
   "execution_count": 48,
   "id": "a9b57a5d-7a1a-4d95-bc94-f8f9f2f3e9fd",
   "metadata": {},
   "outputs": [
    {
     "name": "stdout",
     "output_type": "stream",
     "text": [
      "yB SST =  67.37714 , df = 6\n",
      "yB SSR =  58.87 , df = 1\n",
      "yB SSE =  8.507143 , df = 5"
     ]
    }
   ],
   "source": [
    "cat(\"yB SST = \", SST_B,\", df = 6\")\n",
    "cat(\"\\nyB SSR = \", SSR_B,\", df = 1\")\n",
    "cat(\"\\nyB SSE = \", SSE_B, \", df = 5\")"
   ]
  },
  {
   "cell_type": "code",
   "execution_count": 49,
   "id": "df0ab94c-5665-4705-9f67-ed194fa75836",
   "metadata": {},
   "outputs": [],
   "source": [
    "a <- df_5[,c(1,2)]"
   ]
  },
  {
   "cell_type": "code",
   "execution_count": 50,
   "id": "5395281c-9c7d-481f-94e2-d58494b747eb",
   "metadata": {},
   "outputs": [],
   "source": [
    "colnames(a) <- c('x','y')"
   ]
  },
  {
   "cell_type": "code",
   "execution_count": 51,
   "id": "85f36916-6cd5-4d44-b809-dd95bbcb03d0",
   "metadata": {},
   "outputs": [],
   "source": [
    "b <- df_5[,c(1,3)]"
   ]
  },
  {
   "cell_type": "code",
   "execution_count": 52,
   "id": "a8bf3bd7-c891-414f-bebe-1caf665589df",
   "metadata": {},
   "outputs": [],
   "source": [
    "colnames(b) <- c('x','y')"
   ]
  },
  {
   "cell_type": "code",
   "execution_count": 53,
   "id": "8955003d-7387-4c4d-b83a-75521f48e4cf",
   "metadata": {},
   "outputs": [
    {
     "data": {
      "text/html": [
       "<table class=\"dataframe\">\n",
       "<caption>A data.frame: 14 × 2</caption>\n",
       "<thead>\n",
       "\t<tr><th scope=col>x</th><th scope=col>y</th></tr>\n",
       "\t<tr><th scope=col>&lt;dbl&gt;</th><th scope=col>&lt;dbl&gt;</th></tr>\n",
       "</thead>\n",
       "<tbody>\n",
       "\t<tr><td>10</td><td> 9.8</td></tr>\n",
       "\t<tr><td>20</td><td>12.5</td></tr>\n",
       "\t<tr><td>30</td><td>14.9</td></tr>\n",
       "\t<tr><td>40</td><td>16.5</td></tr>\n",
       "\t<tr><td>50</td><td>22.4</td></tr>\n",
       "\t<tr><td>60</td><td>24.1</td></tr>\n",
       "\t<tr><td>70</td><td>25.8</td></tr>\n",
       "\t<tr><td>10</td><td>15.0</td></tr>\n",
       "\t<tr><td>20</td><td>14.5</td></tr>\n",
       "\t<tr><td>30</td><td>16.5</td></tr>\n",
       "\t<tr><td>40</td><td>19.1</td></tr>\n",
       "\t<tr><td>50</td><td>22.3</td></tr>\n",
       "\t<tr><td>60</td><td>20.8</td></tr>\n",
       "\t<tr><td>70</td><td>22.4</td></tr>\n",
       "</tbody>\n",
       "</table>\n"
      ],
      "text/latex": [
       "A data.frame: 14 × 2\n",
       "\\begin{tabular}{ll}\n",
       " x & y\\\\\n",
       " <dbl> & <dbl>\\\\\n",
       "\\hline\n",
       "\t 10 &  9.8\\\\\n",
       "\t 20 & 12.5\\\\\n",
       "\t 30 & 14.9\\\\\n",
       "\t 40 & 16.5\\\\\n",
       "\t 50 & 22.4\\\\\n",
       "\t 60 & 24.1\\\\\n",
       "\t 70 & 25.8\\\\\n",
       "\t 10 & 15.0\\\\\n",
       "\t 20 & 14.5\\\\\n",
       "\t 30 & 16.5\\\\\n",
       "\t 40 & 19.1\\\\\n",
       "\t 50 & 22.3\\\\\n",
       "\t 60 & 20.8\\\\\n",
       "\t 70 & 22.4\\\\\n",
       "\\end{tabular}\n"
      ],
      "text/markdown": [
       "\n",
       "A data.frame: 14 × 2\n",
       "\n",
       "| x &lt;dbl&gt; | y &lt;dbl&gt; |\n",
       "|---|---|\n",
       "| 10 |  9.8 |\n",
       "| 20 | 12.5 |\n",
       "| 30 | 14.9 |\n",
       "| 40 | 16.5 |\n",
       "| 50 | 22.4 |\n",
       "| 60 | 24.1 |\n",
       "| 70 | 25.8 |\n",
       "| 10 | 15.0 |\n",
       "| 20 | 14.5 |\n",
       "| 30 | 16.5 |\n",
       "| 40 | 19.1 |\n",
       "| 50 | 22.3 |\n",
       "| 60 | 20.8 |\n",
       "| 70 | 22.4 |\n",
       "\n"
      ],
      "text/plain": [
       "   x  y   \n",
       "1  10  9.8\n",
       "2  20 12.5\n",
       "3  30 14.9\n",
       "4  40 16.5\n",
       "5  50 22.4\n",
       "6  60 24.1\n",
       "7  70 25.8\n",
       "8  10 15.0\n",
       "9  20 14.5\n",
       "10 30 16.5\n",
       "11 40 19.1\n",
       "12 50 22.3\n",
       "13 60 20.8\n",
       "14 70 22.4"
      ]
     },
     "metadata": {},
     "output_type": "display_data"
    }
   ],
   "source": [
    "df_5_AB <- rbind(a,b)\n",
    "df_5_AB"
   ]
  },
  {
   "cell_type": "code",
   "execution_count": 54,
   "id": "c0136a17-a936-4635-a866-c8b7c68089a6",
   "metadata": {},
   "outputs": [],
   "source": [
    "df_5_AB$x_barx = df_5_AB$x - mean(df_5_AB$x)\n",
    "df_5_AB$y_bary = df_5_AB$y - mean(df_5_AB$y) "
   ]
  },
  {
   "cell_type": "markdown",
   "id": "af127054-1210-4c0e-abbc-aa40bcf948f8",
   "metadata": {},
   "source": [
    "- $S_{xx}, S_{yy},S_{xy}$를 구해주기 위해 $x_i - \\bar{x}, y_i - \\bar{y}$를 구했다."
   ]
  },
  {
   "cell_type": "code",
   "execution_count": 55,
   "id": "7f11a64e-b29a-478b-8b09-b24374e1e4e7",
   "metadata": {},
   "outputs": [],
   "source": [
    "df_5_AB$x_barx2 <- df_5_AB$x_barx^2\n",
    "df_5_AB$y_bary2 <- df_5_AB$y_bary^2\n",
    "df_5_AB$xy <-df_5_AB$x_barx * df_5_AB$y_bary"
   ]
  },
  {
   "cell_type": "markdown",
   "id": "abfd83d1-543c-4840-a029-2e6b21fbf52b",
   "metadata": {},
   "source": [
    "- $S_{xx}, S_{yy},S_{xy}$를 구해주었다."
   ]
  },
  {
   "cell_type": "code",
   "execution_count": 56,
   "id": "25084aa4-5627-48e4-9287-ae1f4e932633",
   "metadata": {},
   "outputs": [
    {
     "data": {
      "text/html": [
       "<table class=\"dataframe\">\n",
       "<caption>A data.frame: 14 × 7</caption>\n",
       "<thead>\n",
       "\t<tr><th scope=col>x</th><th scope=col>y</th><th scope=col>x_barx</th><th scope=col>y_bary</th><th scope=col>x_barx2</th><th scope=col>y_bary2</th><th scope=col>xy</th></tr>\n",
       "\t<tr><th scope=col>&lt;dbl&gt;</th><th scope=col>&lt;dbl&gt;</th><th scope=col>&lt;dbl&gt;</th><th scope=col>&lt;dbl&gt;</th><th scope=col>&lt;dbl&gt;</th><th scope=col>&lt;dbl&gt;</th><th scope=col>&lt;dbl&gt;</th></tr>\n",
       "</thead>\n",
       "<tbody>\n",
       "\t<tr><td>10</td><td> 9.8</td><td>-30</td><td>-8.5285714</td><td>900</td><td>72.736531</td><td>255.85714</td></tr>\n",
       "\t<tr><td>20</td><td>12.5</td><td>-20</td><td>-5.8285714</td><td>400</td><td>33.972245</td><td>116.57143</td></tr>\n",
       "\t<tr><td>30</td><td>14.9</td><td>-10</td><td>-3.4285714</td><td>100</td><td>11.755102</td><td> 34.28571</td></tr>\n",
       "\t<tr><td>40</td><td>16.5</td><td>  0</td><td>-1.8285714</td><td>  0</td><td> 3.343673</td><td>  0.00000</td></tr>\n",
       "\t<tr><td>50</td><td>22.4</td><td> 10</td><td> 4.0714286</td><td>100</td><td>16.576531</td><td> 40.71429</td></tr>\n",
       "\t<tr><td>60</td><td>24.1</td><td> 20</td><td> 5.7714286</td><td>400</td><td>33.309388</td><td>115.42857</td></tr>\n",
       "\t<tr><td>70</td><td>25.8</td><td> 30</td><td> 7.4714286</td><td>900</td><td>55.822245</td><td>224.14286</td></tr>\n",
       "\t<tr><td>10</td><td>15.0</td><td>-30</td><td>-3.3285714</td><td>900</td><td>11.079388</td><td> 99.85714</td></tr>\n",
       "\t<tr><td>20</td><td>14.5</td><td>-20</td><td>-3.8285714</td><td>400</td><td>14.657959</td><td> 76.57143</td></tr>\n",
       "\t<tr><td>30</td><td>16.5</td><td>-10</td><td>-1.8285714</td><td>100</td><td> 3.343673</td><td> 18.28571</td></tr>\n",
       "\t<tr><td>40</td><td>19.1</td><td>  0</td><td> 0.7714286</td><td>  0</td><td> 0.595102</td><td>  0.00000</td></tr>\n",
       "\t<tr><td>50</td><td>22.3</td><td> 10</td><td> 3.9714286</td><td>100</td><td>15.772245</td><td> 39.71429</td></tr>\n",
       "\t<tr><td>60</td><td>20.8</td><td> 20</td><td> 2.4714286</td><td>400</td><td> 6.107959</td><td> 49.42857</td></tr>\n",
       "\t<tr><td>70</td><td>22.4</td><td> 30</td><td> 4.0714286</td><td>900</td><td>16.576531</td><td>122.14286</td></tr>\n",
       "</tbody>\n",
       "</table>\n"
      ],
      "text/latex": [
       "A data.frame: 14 × 7\n",
       "\\begin{tabular}{lllllll}\n",
       " x & y & x\\_barx & y\\_bary & x\\_barx2 & y\\_bary2 & xy\\\\\n",
       " <dbl> & <dbl> & <dbl> & <dbl> & <dbl> & <dbl> & <dbl>\\\\\n",
       "\\hline\n",
       "\t 10 &  9.8 & -30 & -8.5285714 & 900 & 72.736531 & 255.85714\\\\\n",
       "\t 20 & 12.5 & -20 & -5.8285714 & 400 & 33.972245 & 116.57143\\\\\n",
       "\t 30 & 14.9 & -10 & -3.4285714 & 100 & 11.755102 &  34.28571\\\\\n",
       "\t 40 & 16.5 &   0 & -1.8285714 &   0 &  3.343673 &   0.00000\\\\\n",
       "\t 50 & 22.4 &  10 &  4.0714286 & 100 & 16.576531 &  40.71429\\\\\n",
       "\t 60 & 24.1 &  20 &  5.7714286 & 400 & 33.309388 & 115.42857\\\\\n",
       "\t 70 & 25.8 &  30 &  7.4714286 & 900 & 55.822245 & 224.14286\\\\\n",
       "\t 10 & 15.0 & -30 & -3.3285714 & 900 & 11.079388 &  99.85714\\\\\n",
       "\t 20 & 14.5 & -20 & -3.8285714 & 400 & 14.657959 &  76.57143\\\\\n",
       "\t 30 & 16.5 & -10 & -1.8285714 & 100 &  3.343673 &  18.28571\\\\\n",
       "\t 40 & 19.1 &   0 &  0.7714286 &   0 &  0.595102 &   0.00000\\\\\n",
       "\t 50 & 22.3 &  10 &  3.9714286 & 100 & 15.772245 &  39.71429\\\\\n",
       "\t 60 & 20.8 &  20 &  2.4714286 & 400 &  6.107959 &  49.42857\\\\\n",
       "\t 70 & 22.4 &  30 &  4.0714286 & 900 & 16.576531 & 122.14286\\\\\n",
       "\\end{tabular}\n"
      ],
      "text/markdown": [
       "\n",
       "A data.frame: 14 × 7\n",
       "\n",
       "| x &lt;dbl&gt; | y &lt;dbl&gt; | x_barx &lt;dbl&gt; | y_bary &lt;dbl&gt; | x_barx2 &lt;dbl&gt; | y_bary2 &lt;dbl&gt; | xy &lt;dbl&gt; |\n",
       "|---|---|---|---|---|---|---|\n",
       "| 10 |  9.8 | -30 | -8.5285714 | 900 | 72.736531 | 255.85714 |\n",
       "| 20 | 12.5 | -20 | -5.8285714 | 400 | 33.972245 | 116.57143 |\n",
       "| 30 | 14.9 | -10 | -3.4285714 | 100 | 11.755102 |  34.28571 |\n",
       "| 40 | 16.5 |   0 | -1.8285714 |   0 |  3.343673 |   0.00000 |\n",
       "| 50 | 22.4 |  10 |  4.0714286 | 100 | 16.576531 |  40.71429 |\n",
       "| 60 | 24.1 |  20 |  5.7714286 | 400 | 33.309388 | 115.42857 |\n",
       "| 70 | 25.8 |  30 |  7.4714286 | 900 | 55.822245 | 224.14286 |\n",
       "| 10 | 15.0 | -30 | -3.3285714 | 900 | 11.079388 |  99.85714 |\n",
       "| 20 | 14.5 | -20 | -3.8285714 | 400 | 14.657959 |  76.57143 |\n",
       "| 30 | 16.5 | -10 | -1.8285714 | 100 |  3.343673 |  18.28571 |\n",
       "| 40 | 19.1 |   0 |  0.7714286 |   0 |  0.595102 |   0.00000 |\n",
       "| 50 | 22.3 |  10 |  3.9714286 | 100 | 15.772245 |  39.71429 |\n",
       "| 60 | 20.8 |  20 |  2.4714286 | 400 |  6.107959 |  49.42857 |\n",
       "| 70 | 22.4 |  30 |  4.0714286 | 900 | 16.576531 | 122.14286 |\n",
       "\n"
      ],
      "text/plain": [
       "   x  y    x_barx y_bary     x_barx2 y_bary2   xy       \n",
       "1  10  9.8 -30    -8.5285714 900     72.736531 255.85714\n",
       "2  20 12.5 -20    -5.8285714 400     33.972245 116.57143\n",
       "3  30 14.9 -10    -3.4285714 100     11.755102  34.28571\n",
       "4  40 16.5   0    -1.8285714   0      3.343673   0.00000\n",
       "5  50 22.4  10     4.0714286 100     16.576531  40.71429\n",
       "6  60 24.1  20     5.7714286 400     33.309388 115.42857\n",
       "7  70 25.8  30     7.4714286 900     55.822245 224.14286\n",
       "8  10 15.0 -30    -3.3285714 900     11.079388  99.85714\n",
       "9  20 14.5 -20    -3.8285714 400     14.657959  76.57143\n",
       "10 30 16.5 -10    -1.8285714 100      3.343673  18.28571\n",
       "11 40 19.1   0     0.7714286   0      0.595102   0.00000\n",
       "12 50 22.3  10     3.9714286 100     15.772245  39.71429\n",
       "13 60 20.8  20     2.4714286 400      6.107959  49.42857\n",
       "14 70 22.4  30     4.0714286 900     16.576531 122.14286"
      ]
     },
     "metadata": {},
     "output_type": "display_data"
    }
   ],
   "source": [
    "df_5_AB"
   ]
  },
  {
   "cell_type": "code",
   "execution_count": 57,
   "id": "1fe346f8-0ab8-4e48-a83d-ea40de813a0a",
   "metadata": {},
   "outputs": [
    {
     "data": {
      "text/html": [
       "<style>\n",
       ".dl-inline {width: auto; margin:0; padding: 0}\n",
       ".dl-inline>dt, .dl-inline>dd {float: none; width: auto; display: inline-block}\n",
       ".dl-inline>dt::after {content: \":\\0020\"; padding-right: .5ex}\n",
       ".dl-inline>dt:not(:first-of-type) {padding-left: .5ex}\n",
       "</style><dl class=dl-inline><dt>x</dt><dd>560</dd><dt>y</dt><dd>256.6</dd><dt>x_barx</dt><dd>0</dd><dt>y_bary</dt><dd>0</dd><dt>x_barx2</dt><dd>5600</dd><dt>y_bary2</dt><dd>295.649</dd><dt>xy</dt><dd>1193</dd></dl>\n"
      ],
      "text/latex": [
       "\\begin{description*}\n",
       "\\item[x] 560\n",
       "\\item[y] 256.6\n",
       "\\item[x\\textbackslash{}\\_barx] 0\n",
       "\\item[y\\textbackslash{}\\_bary] 0\n",
       "\\item[x\\textbackslash{}\\_barx2] 5600\n",
       "\\item[y\\textbackslash{}\\_bary2] 295.649\n",
       "\\item[xy] 1193\n",
       "\\end{description*}\n"
      ],
      "text/markdown": [
       "x\n",
       ":   560y\n",
       ":   256.6x_barx\n",
       ":   0y_bary\n",
       ":   0x_barx2\n",
       ":   5600y_bary2\n",
       ":   295.649xy\n",
       ":   1193\n",
       "\n"
      ],
      "text/plain": [
       "       x        y   x_barx   y_bary  x_barx2  y_bary2       xy \n",
       " 560.000  256.600    0.000    0.000 5600.000  295.649 1193.000 "
      ]
     },
     "metadata": {},
     "output_type": "display_data"
    }
   ],
   "source": [
    "round(colSums(df_5_AB),3)"
   ]
  },
  {
   "cell_type": "markdown",
   "id": "7fa69e5e-777d-4e22-848f-7dde4de8fc9f",
   "metadata": {},
   "source": [
    "$\\hat{\\beta_1} = \\frac{S_{xy}}{S_{xx}}$\n",
    "\n",
    "$\\hat{\\beta_0} = \\bar{y} - \\hat{\\beta_1}\\bar{x}$"
   ]
  },
  {
   "cell_type": "code",
   "execution_count": 58,
   "id": "40879944-a6b1-4e4e-8ebb-650092fd4305",
   "metadata": {},
   "outputs": [],
   "source": [
    "beta1_xy <- as.numeric(colSums(df_5_AB)[7]/colSums(df_5_AB)[5])\n",
    "beta0_xy <- mean(df_5_AB$y) - beta1_xy *  mean(df_5_AB$x)"
   ]
  },
  {
   "cell_type": "code",
   "execution_count": 59,
   "id": "62e2c154-0d28-4cb3-96ac-df89cc842284",
   "metadata": {},
   "outputs": [
    {
     "name": "stdout",
     "output_type": "stream",
     "text": [
      "xy hat beta0 =  9.807143\n",
      "xy hat beta1 =  0.2130357"
     ]
    }
   ],
   "source": [
    "cat(\"xy hat beta0 = \", beta0_xy)\n",
    "cat(\"\\nxy hat beta1 = \", beta1_xy)"
   ]
  },
  {
   "cell_type": "markdown",
   "id": "586e821e-a5cf-43e3-99d0-67d904a453ce",
   "metadata": {},
   "source": [
    "$\\text{y} = 9.807143  +0.2130357\\text{x}$"
   ]
  },
  {
   "cell_type": "code",
   "execution_count": 60,
   "id": "cc7a9fd9-aa91-4df1-9bda-1862b4dc8a36",
   "metadata": {},
   "outputs": [],
   "source": [
    "SST_5 = sum((df_5_AB$y - mean(df_5_AB$y))^2)"
   ]
  },
  {
   "cell_type": "code",
   "execution_count": 61,
   "id": "fdb5a61b-a466-436e-9fd6-238f1351ae98",
   "metadata": {},
   "outputs": [],
   "source": [
    "SSR_5 = sum( ( (9.807143 + 0.2130357*df_5_AB$x)-mean(df_5_AB$y) )^2 )"
   ]
  },
  {
   "cell_type": "code",
   "execution_count": 62,
   "id": "ee69145b-0823-45a1-bd73-604f219f6903",
   "metadata": {},
   "outputs": [],
   "source": [
    "SSE_5 = sum( ( df_5_AB$y-(9.807143  +0.2130357 *df_5_AB$x))^2 )"
   ]
  },
  {
   "cell_type": "code",
   "execution_count": 63,
   "id": "ad00c5cd-3c50-4751-bac2-3550bd15b53a",
   "metadata": {},
   "outputs": [
    {
     "name": "stdout",
     "output_type": "stream",
     "text": [
      "y =  9.8071 +  0.213 x"
     ]
    }
   ],
   "source": [
    "cat(\"y = \",round(beta0_xy,4), \"+ \",round(beta1_xy,4) ,\"x\")"
   ]
  },
  {
   "cell_type": "code",
   "execution_count": 64,
   "id": "28c5fc17-b4ac-4c16-9ab6-5cc5580a67a3",
   "metadata": {},
   "outputs": [
    {
     "name": "stdout",
     "output_type": "stream",
     "text": [
      "SST =  295.6486 , df = 13\n",
      "SSR =  254.1516 , df = 1\n",
      "SSE =  41.49696 , df = 12"
     ]
    }
   ],
   "source": [
    "cat(\"SST = \", SST_5,\", df = 13\")\n",
    "cat(\"\\nSSR = \", SSR_5,\", df = 1\")\n",
    "cat(\"\\nSSE = \", SSE_5, \", df = 12\")"
   ]
  },
  {
   "cell_type": "code",
   "execution_count": 65,
   "id": "ec97a25a-ebd5-42f5-ae8f-796bc67b2bc3",
   "metadata": {},
   "outputs": [
    {
     "name": "stdout",
     "output_type": "stream",
     "text": [
      "yA =  6.7571 +  0.2811 x"
     ]
    }
   ],
   "source": [
    "cat(\"yA = \",round(beta0_xyA,4), \"+ \",round(beta1_xyA,4) ,\"x\")"
   ]
  },
  {
   "cell_type": "code",
   "execution_count": 66,
   "id": "23ab6338-728a-4f67-8437-7b486cb55226",
   "metadata": {
    "tags": []
   },
   "outputs": [
    {
     "name": "stdout",
     "output_type": "stream",
     "text": [
      "yA SST =  226.76 , df = 6\n",
      "yA SSR =  221.2032 , df = 1\n",
      "yA SSE =  5.556786 , df = 5"
     ]
    }
   ],
   "source": [
    "cat(\"yA SST = \", SST_A,\", df = 6\")\n",
    "cat(\"\\nyA SSR = \", SSR_A,\", df = 1\")\n",
    "cat(\"\\nyA SSE = \", SSE_A, \", df = 5\")"
   ]
  },
  {
   "cell_type": "code",
   "execution_count": 67,
   "id": "31e3d5d7-f0b9-4c40-b100-96e34cf3a72e",
   "metadata": {},
   "outputs": [
    {
     "name": "stdout",
     "output_type": "stream",
     "text": [
      "yB =  12.8571 +  0.145 x"
     ]
    }
   ],
   "source": [
    "cat(\"yB = \",round(beta0_xyB,4), \"+ \",round(beta1_xyB,4) ,\"x\")"
   ]
  },
  {
   "cell_type": "code",
   "execution_count": 68,
   "id": "c6c311cd-0564-4e32-93c3-63348923adfe",
   "metadata": {},
   "outputs": [
    {
     "name": "stdout",
     "output_type": "stream",
     "text": [
      "yB SST =  67.37714 , df = 6\n",
      "yB SSR =  58.87 , df = 1\n",
      "yB SSE =  8.507143 , df = 5"
     ]
    }
   ],
   "source": [
    "cat(\"yB SST = \", SST_B,\", df = 6\")\n",
    "cat(\"\\nyB SSR = \", SSR_B,\", df = 1\")\n",
    "cat(\"\\nyB SSE = \", SSE_B, \", df = 5\")"
   ]
  },
  {
   "cell_type": "markdown",
   "id": "9ddbe11d-cd14-4f54-912b-d4d8c6abbd4c",
   "metadata": {},
   "source": [
    "가설\n",
    "\n",
    "$H_0 : \\beta_{01} = \\beta_{02} \\text{ and } \\beta_{11} = \\beta_{12}$\n",
    "\n",
    "$H_1 : \\beta_{01} \\neq \\beta_{02} \\text{ or } \\beta_{11} \\neq \\beta_{12}$"
   ]
  },
  {
   "cell_type": "markdown",
   "id": "7ec5ccf7-cdd6-4eb7-a2ac-fc68baf9e4a8",
   "metadata": {},
   "source": [
    "검정통계량\n",
    "\n",
    "$F_0 = \\frac{SSE(R) - SSE(F)}{df_R-df_F} \\times \\frac{df_F}{SSE(F)}$"
   ]
  },
  {
   "cell_type": "code",
   "execution_count": 69,
   "id": "baf0055b-911b-4486-9121-bee532ffe406",
   "metadata": {},
   "outputs": [],
   "source": [
    "SSE_5_F = SSE_A + SSE_B\n",
    "df_5_F = 5 -2 + 5 -2"
   ]
  },
  {
   "cell_type": "code",
   "execution_count": 70,
   "id": "265a4454-6412-42e6-a6c8-55fd366317cc",
   "metadata": {},
   "outputs": [],
   "source": [
    "SSE_5_R = SSE_5\n",
    "df_5_R = 5 -1 + 5 -1"
   ]
  },
  {
   "cell_type": "code",
   "execution_count": 71,
   "id": "e18b9605-1758-4c32-93ed-b112101bbee5",
   "metadata": {},
   "outputs": [
    {
     "data": {
      "text/html": [
       "5.8517864828756"
      ],
      "text/latex": [
       "5.8517864828756"
      ],
      "text/markdown": [
       "5.8517864828756"
      ],
      "text/plain": [
       "[1] 5.851786"
      ]
     },
     "metadata": {},
     "output_type": "display_data"
    }
   ],
   "source": [
    "F_5_0 = (SSE_5_R - SSE_5_F)/(df_5_R - df_5_F) / (SSE_5_F/df_5_F)\n",
    "F_5_0"
   ]
  },
  {
   "cell_type": "code",
   "execution_count": 72,
   "id": "a2442157-e407-46ae-8249-3824b974d9ad",
   "metadata": {},
   "outputs": [
    {
     "data": {
      "text/html": [
       "2"
      ],
      "text/latex": [
       "2"
      ],
      "text/markdown": [
       "2"
      ],
      "text/plain": [
       "[1] 2"
      ]
     },
     "metadata": {},
     "output_type": "display_data"
    }
   ],
   "source": [
    "df_5_R - df_5_F"
   ]
  },
  {
   "cell_type": "code",
   "execution_count": 73,
   "id": "cce7c009-6b94-4213-a928-9e24cb3f31e4",
   "metadata": {},
   "outputs": [
    {
     "data": {
      "text/html": [
       "6"
      ],
      "text/latex": [
       "6"
      ],
      "text/markdown": [
       "6"
      ],
      "text/plain": [
       "[1] 6"
      ]
     },
     "metadata": {},
     "output_type": "display_data"
    }
   ],
   "source": [
    "df_5_F"
   ]
  },
  {
   "cell_type": "code",
   "execution_count": 74,
   "id": "26d09cd6-0128-41ea-8bd2-fc17cc78c912",
   "metadata": {},
   "outputs": [
    {
     "data": {
      "text/html": [
       "4.1028210151304"
      ],
      "text/latex": [
       "4.1028210151304"
      ],
      "text/markdown": [
       "4.1028210151304"
      ],
      "text/plain": [
       "[1] 4.102821"
      ]
     },
     "metadata": {},
     "output_type": "display_data"
    }
   ],
   "source": [
    "F_5_stan = qf(0.95,2,10)\n",
    "F_5_stan"
   ]
  },
  {
   "cell_type": "code",
   "execution_count": 75,
   "id": "8bd12552-f514-49d7-8b9d-dd520bc4a02e",
   "metadata": {},
   "outputs": [
    {
     "name": "stdout",
     "output_type": "stream",
     "text": [
      "5.851786  는 유의수준 0.05에서 F값  4.102821  보다 크다.\n",
      "따라서 귀무가설을 기각하였고, 두 회귀모형은 beta0가 다르거나\n",
      "혹은 beta1이 다르거나 혹은 beta0,beta1 모두가 다르다."
     ]
    }
   ],
   "source": [
    "cat(F_5_0, \" 는 유의수준 0.05에서 F값 \", F_5_stan , \" 보다 크다.\")\n",
    "\n",
    "cat(\"\\n따라서 귀무가설을 기각하였고, 두 회귀모형은 beta0가 다르거나\")\n",
    "\n",
    "cat(\"\\n혹은 beta1이 다르거나 혹은 beta0,beta1 모두가 다르다.\")"
   ]
  },
  {
   "cell_type": "markdown",
   "id": "1b00c197-5031-4243-a983-c58dc01dc2fe",
   "metadata": {},
   "source": [
    "$H_0 : \\beta_{01} = \\beta_{02} \\text{ and } \\beta_{11} = \\beta_{12}$ 기각"
   ]
  },
  {
   "cell_type": "markdown",
   "id": "b32de54d-16bf-4114-8541-24df66204bcb",
   "metadata": {},
   "source": [
    "(3) 관심의 대상이 $x$가 증가함에 따라 $y$ 가 얼마나 증가하는가에 있다. 두 회사의 타이어에 대하여 각각 회귀모형을 적합했을 때, 기울기가 같은지 유의수준 5%로 검정하시오."
   ]
  },
  {
   "cell_type": "markdown",
   "id": "3a51d562-f41d-4050-b8c5-fbc550be4580",
   "metadata": {},
   "source": [
    "**Answer**"
   ]
  },
  {
   "cell_type": "markdown",
   "id": "a420d092-ff6d-4441-b2ae-6f894cdbfd9f",
   "metadata": {},
   "source": [
    "기울기 비교에 대한 가설\n",
    "\n",
    "$H_0 : \\beta_{11} = \\beta_{12} \\text{ vs. } H_1 : \\beta_{11} \\neq \\beta_{12}$\n",
    "\n",
    "검정통계량\n",
    "\n",
    "$t_0 = \\frac{ \\hat{\\beta}_{11} - \\hat{\\beta}_{12} }{ \\sqrt{ \\hat{Var}( \\hat{\\beta}_{11} - \\hat{\\beta}_{12} ) } }$\n",
    "\n",
    "$\\text{Degree of Freedom} = t((n_1 - 1) + (n_2 - 1))$\n",
    "\n",
    "$\\hat{Var}( \\hat{\\beta}_{11} - \\hat{\\beta}_{12} ) = MSE(F) [\\frac{1}{\\sum(x_{1j} - \\bar{x}_1)^2} + \\frac{1}{\\sum(x_{2j} - \\bar{x}_2)^2}]$"
   ]
  },
  {
   "cell_type": "code",
   "execution_count": 76,
   "id": "6c7bfeda-77ca-4ddc-875a-4eed2566b48a",
   "metadata": {},
   "outputs": [
    {
     "data": {
      "text/html": [
       "0.2811"
      ],
      "text/latex": [
       "0.2811"
      ],
      "text/markdown": [
       "0.2811"
      ],
      "text/plain": [
       "[1] 0.2811"
      ]
     },
     "metadata": {},
     "output_type": "display_data"
    }
   ],
   "source": [
    "round(beta1_xyA,4)"
   ]
  },
  {
   "cell_type": "code",
   "execution_count": 77,
   "id": "38ff9e2e-618e-412c-b9c4-fb3602aa129f",
   "metadata": {},
   "outputs": [
    {
     "data": {
      "text/html": [
       "0.145"
      ],
      "text/latex": [
       "0.145"
      ],
      "text/markdown": [
       "0.145"
      ],
      "text/plain": [
       "[1] 0.145"
      ]
     },
     "metadata": {},
     "output_type": "display_data"
    }
   ],
   "source": [
    "round(beta1_xyB,4)"
   ]
  },
  {
   "cell_type": "code",
   "execution_count": 78,
   "id": "8d1d628b-f80f-4cac-88ce-7be5bb9b7297",
   "metadata": {},
   "outputs": [
    {
     "data": {
      "text/html": [
       "14.063928575095"
      ],
      "text/latex": [
       "14.063928575095"
      ],
      "text/markdown": [
       "14.063928575095"
      ],
      "text/plain": [
       "[1] 14.06393"
      ]
     },
     "metadata": {},
     "output_type": "display_data"
    }
   ],
   "source": [
    "SSE_5_F"
   ]
  },
  {
   "cell_type": "code",
   "execution_count": 79,
   "id": "95a969df-1359-42cc-ab61-2da593ca7e74",
   "metadata": {},
   "outputs": [
    {
     "data": {
      "text/html": [
       "2.34398809584917"
      ],
      "text/latex": [
       "2.34398809584917"
      ],
      "text/markdown": [
       "2.34398809584917"
      ],
      "text/plain": [
       "[1] 2.343988"
      ]
     },
     "metadata": {},
     "output_type": "display_data"
    }
   ],
   "source": [
    "MSE_5_F = SSE_5_F / df_5_F\n",
    "MSE_5_F"
   ]
  },
  {
   "cell_type": "code",
   "execution_count": 80,
   "id": "fdb3b582-f2e4-4d61-ab62-2ec82a587649",
   "metadata": {},
   "outputs": [
    {
     "data": {
      "text/html": [
       "2800"
      ],
      "text/latex": [
       "2800"
      ],
      "text/markdown": [
       "2800"
      ],
      "text/plain": [
       "[1] 2800"
      ]
     },
     "metadata": {},
     "output_type": "display_data"
    }
   ],
   "source": [
    "sum(df_5_A$x_barx2)"
   ]
  },
  {
   "cell_type": "code",
   "execution_count": 81,
   "id": "a180b1c5-806f-479e-8394-5988b444ec4c",
   "metadata": {},
   "outputs": [
    {
     "data": {
      "text/html": [
       "2800"
      ],
      "text/latex": [
       "2800"
      ],
      "text/markdown": [
       "2800"
      ],
      "text/plain": [
       "[1] 2800"
      ]
     },
     "metadata": {},
     "output_type": "display_data"
    }
   ],
   "source": [
    "sum(df_5_B$x_barx2)"
   ]
  },
  {
   "cell_type": "code",
   "execution_count": 82,
   "id": "b5fad8ca-6e6d-463f-ac9e-3dc35cd3ddc0",
   "metadata": {},
   "outputs": [
    {
     "data": {
      "text/html": [
       "0.00167427721132084"
      ],
      "text/latex": [
       "0.00167427721132084"
      ],
      "text/markdown": [
       "0.00167427721132084"
      ],
      "text/plain": [
       "[1] 0.001674277"
      ]
     },
     "metadata": {},
     "output_type": "display_data"
    }
   ],
   "source": [
    "var_5_diff = MSE_5_F * (1/sum(df_5_A$x_barx2) + 1/sum(df_5_B$x_barx2))\n",
    "var_5_diff"
   ]
  },
  {
   "cell_type": "code",
   "execution_count": 83,
   "id": "3870be52-dc25-4191-84a0-f49ed5336dea",
   "metadata": {},
   "outputs": [
    {
     "data": {
      "text/html": [
       "3.32547173820247"
      ],
      "text/latex": [
       "3.32547173820247"
      ],
      "text/markdown": [
       "3.32547173820247"
      ],
      "text/plain": [
       "[1] 3.325472"
      ]
     },
     "metadata": {},
     "output_type": "display_data"
    }
   ],
   "source": [
    "t_5_0 = (beta1_xyA - beta1_xyB)/sqrt(var_5_diff)\n",
    "t_5_0"
   ]
  },
  {
   "cell_type": "code",
   "execution_count": 84,
   "id": "915d6787-1b43-4472-a0c9-d04e0514df0e",
   "metadata": {},
   "outputs": [
    {
     "data": {
      "text/html": [
       "1.9431802805153"
      ],
      "text/latex": [
       "1.9431802805153"
      ],
      "text/markdown": [
       "1.9431802805153"
      ],
      "text/plain": [
       "[1] 1.94318"
      ]
     },
     "metadata": {},
     "output_type": "display_data"
    }
   ],
   "source": [
    "qt(0.95,df_5_F)"
   ]
  },
  {
   "cell_type": "code",
   "execution_count": 85,
   "id": "5ba421e8-e858-427b-b097-0a849b74ca3c",
   "metadata": {},
   "outputs": [
    {
     "name": "stdout",
     "output_type": "stream",
     "text": [
      "3.325472 는  1.94318 보다 크다. 따라서 유의수준 5%에서 귀무가설을 기각하여 두 회귀모형의 기울기가 다르다고 할 수 있다."
     ]
    }
   ],
   "source": [
    "cat(t_5_0,\"는 \",qt(0.95,df_5_F),\"보다 크다. 따라서 유의수준 5%에서 귀무가설을 기각하여 두 회귀모형의 기울기가 다르다고 할 수 있다.\")"
   ]
  },
  {
   "cell_type": "markdown",
   "id": "65b66c3d-456f-409e-93a4-8d82b7416aed",
   "metadata": {},
   "source": [
    "$H_0 : \\beta_{11} = \\beta_{12}$ 기각"
   ]
  },
  {
   "cell_type": "markdown",
   "id": "7275389d-03a0-4814-9c79-9c59b1459639",
   "metadata": {},
   "source": [
    "---"
   ]
  },
  {
   "cell_type": "markdown",
   "id": "7d1434b1-5b0b-48cf-b155-3d55e0933706",
   "metadata": {},
   "source": [
    "6.  **R 실습**. 아마존 강 수위 문제 아마존 강 유역은 지구상의 가장 큰 열대림 지역이지만 대부분의 다른 자연자원과 마찬가지로 개발의 손길이 미치면서 열대림이 급속히 파괴됐다. 1970년대 이후 아마존 상류지역에 도로가 건설되면서 인구가 빠르게 증가되었고 대규모의 삼림파괴가 이뤄졌다. 강수량과 유수량이 모두 영향을 받을 수 있기 때문에 이것은 결국 아마존 강 전체에 영향을 미치는 심각한 기후학적 및 수문학적 변화를 가져왔다. 다음의 표는 페루 이키토스(Iquitos)에서 1962년부터 1978년까지 기록한 아마존 강 최고수위 (High)와, 최저수위 (Low)를 기록한 것이다(단위: 미터).1962년부터 1969년까지의 데이터는 개발 이전에 수집된 데이터이고, 1970년부터 1978년까지의 데이터는 개발이후에 관측된 데이터를 나타낸다. 이 데이터는 아마존 상류지역의 삼림파괴가 아마존 유역의 강 수위에 변화를 일으켰는지 분석하고자 한다. 우리의 관심은 시간에 따른 아마존 강 수위 변화여부이다. 예를 들어, 우리가 다음을 적합한다면\n",
    "\n",
    "$$\\text{High} = \\beta_0 + \\beta_1 \\times \\text{Year} + \\epsilon$$\n",
    "\n",
    "(a) $\\beta_1 = 0$은 시간에 따른 아마존 강의 최고수위에 아무런 (선형)변화가 없다는 것을 의미하고,\n",
    "\n",
    "(b) $\\beta_1 > 0$은 아마존 강의 최고수위가 증가된 것을 의미하는데, 이것은 해마다 아마존 강의 흐르는 물이 늘어난 것을 나타낼 수 있다.\n",
    "\n",
    "(c) $\\beta_1 < 0$은 시간에 따라 아마존 강의 최고수위가 낮아진 것을 의미하는데, 이것은 해마다 아마존 강의 흐르는 물이 줄어든 것을 의미한다. 다음의 물음에 답하시오."
   ]
  },
  {
   "cell_type": "markdown",
   "id": "c3054c9c-b64d-4a7d-b200-e2f6b970a39d",
   "metadata": {},
   "source": [
    "$$\\text{Table 1: 아마존 강 데이터 (Amazon River data)}$$"
   ]
  },
  {
   "cell_type": "markdown",
   "id": "cde6453d-850e-45e4-b8ba-0f3f7a19694a",
   "metadata": {},
   "source": [
    "|Year|High(m)|Low(m)|\n",
    "|:---:|:---:|:---:|\n",
    "|1962|25.82|18.24|\n",
    "|1963|25.35|16.50|\n",
    "|1964|24.29|20.26|\n",
    "|1965|24.05|20.97|\n",
    "|1966|24.89|19.43|\n",
    "|1967|25.35|19.31|\n",
    "|1968|25.23|20.85|\n",
    "|1969|25.06|19.54|\n",
    "|1970|27.13|20.49|\n",
    "|1971|27.36|21.91|\n",
    "|1972|26.65|22.51|\n",
    "|1973|27.13|18.81|\n",
    "|1974|27.49|19.42|\n",
    "|1975|27.08|19.10|\n",
    "|1976|27.51|18.80|\n",
    "|1977|27.54|18.80|\n",
    "|1978|26.21|17.57|"
   ]
  },
  {
   "cell_type": "markdown",
   "id": "c8997c1f-793a-4775-acd6-f6f41216e679",
   "metadata": {},
   "source": [
    "(1) High와 Year, Low와 Year, 그리고 High와 Low에 대해 산점도를 그리시오."
   ]
  },
  {
   "cell_type": "markdown",
   "id": "bf54b128-a43f-4897-8b4d-bc4af7d0a1a5",
   "metadata": {},
   "source": [
    "**Answer**"
   ]
  },
  {
   "cell_type": "code",
   "execution_count": 86,
   "id": "90af3408-aa35-4b22-94b2-a348e274029e",
   "metadata": {},
   "outputs": [
    {
     "data": {
      "text/html": [
       "<table class=\"dataframe\">\n",
       "<caption>A data.frame: 17 × 3</caption>\n",
       "<thead>\n",
       "\t<tr><th scope=col>Year</th><th scope=col>High</th><th scope=col>Low</th></tr>\n",
       "\t<tr><th scope=col>&lt;dbl&gt;</th><th scope=col>&lt;dbl&gt;</th><th scope=col>&lt;dbl&gt;</th></tr>\n",
       "</thead>\n",
       "<tbody>\n",
       "\t<tr><td>1962</td><td>25.82</td><td>18.24</td></tr>\n",
       "\t<tr><td>1963</td><td>25.35</td><td>16.50</td></tr>\n",
       "\t<tr><td>1964</td><td>24.29</td><td>20.26</td></tr>\n",
       "\t<tr><td>1965</td><td>24.05</td><td>20.97</td></tr>\n",
       "\t<tr><td>1966</td><td>24.89</td><td>19.43</td></tr>\n",
       "\t<tr><td>1967</td><td>25.35</td><td>19.31</td></tr>\n",
       "\t<tr><td>1968</td><td>25.23</td><td>20.85</td></tr>\n",
       "\t<tr><td>1969</td><td>25.06</td><td>19.54</td></tr>\n",
       "\t<tr><td>1970</td><td>27.13</td><td>20.49</td></tr>\n",
       "\t<tr><td>1971</td><td>27.36</td><td>21.91</td></tr>\n",
       "\t<tr><td>1972</td><td>26.65</td><td>22.51</td></tr>\n",
       "\t<tr><td>1973</td><td>27.13</td><td>18.81</td></tr>\n",
       "\t<tr><td>1974</td><td>27.49</td><td>19.42</td></tr>\n",
       "\t<tr><td>1975</td><td>27.08</td><td>19.10</td></tr>\n",
       "\t<tr><td>1976</td><td>27.51</td><td>18.80</td></tr>\n",
       "\t<tr><td>1977</td><td>27.54</td><td>18.80</td></tr>\n",
       "\t<tr><td>1978</td><td>26.21</td><td>17.57</td></tr>\n",
       "</tbody>\n",
       "</table>\n"
      ],
      "text/latex": [
       "A data.frame: 17 × 3\n",
       "\\begin{tabular}{lll}\n",
       " Year & High & Low\\\\\n",
       " <dbl> & <dbl> & <dbl>\\\\\n",
       "\\hline\n",
       "\t 1962 & 25.82 & 18.24\\\\\n",
       "\t 1963 & 25.35 & 16.50\\\\\n",
       "\t 1964 & 24.29 & 20.26\\\\\n",
       "\t 1965 & 24.05 & 20.97\\\\\n",
       "\t 1966 & 24.89 & 19.43\\\\\n",
       "\t 1967 & 25.35 & 19.31\\\\\n",
       "\t 1968 & 25.23 & 20.85\\\\\n",
       "\t 1969 & 25.06 & 19.54\\\\\n",
       "\t 1970 & 27.13 & 20.49\\\\\n",
       "\t 1971 & 27.36 & 21.91\\\\\n",
       "\t 1972 & 26.65 & 22.51\\\\\n",
       "\t 1973 & 27.13 & 18.81\\\\\n",
       "\t 1974 & 27.49 & 19.42\\\\\n",
       "\t 1975 & 27.08 & 19.10\\\\\n",
       "\t 1976 & 27.51 & 18.80\\\\\n",
       "\t 1977 & 27.54 & 18.80\\\\\n",
       "\t 1978 & 26.21 & 17.57\\\\\n",
       "\\end{tabular}\n"
      ],
      "text/markdown": [
       "\n",
       "A data.frame: 17 × 3\n",
       "\n",
       "| Year &lt;dbl&gt; | High &lt;dbl&gt; | Low &lt;dbl&gt; |\n",
       "|---|---|---|\n",
       "| 1962 | 25.82 | 18.24 |\n",
       "| 1963 | 25.35 | 16.50 |\n",
       "| 1964 | 24.29 | 20.26 |\n",
       "| 1965 | 24.05 | 20.97 |\n",
       "| 1966 | 24.89 | 19.43 |\n",
       "| 1967 | 25.35 | 19.31 |\n",
       "| 1968 | 25.23 | 20.85 |\n",
       "| 1969 | 25.06 | 19.54 |\n",
       "| 1970 | 27.13 | 20.49 |\n",
       "| 1971 | 27.36 | 21.91 |\n",
       "| 1972 | 26.65 | 22.51 |\n",
       "| 1973 | 27.13 | 18.81 |\n",
       "| 1974 | 27.49 | 19.42 |\n",
       "| 1975 | 27.08 | 19.10 |\n",
       "| 1976 | 27.51 | 18.80 |\n",
       "| 1977 | 27.54 | 18.80 |\n",
       "| 1978 | 26.21 | 17.57 |\n",
       "\n"
      ],
      "text/plain": [
       "   Year High  Low  \n",
       "1  1962 25.82 18.24\n",
       "2  1963 25.35 16.50\n",
       "3  1964 24.29 20.26\n",
       "4  1965 24.05 20.97\n",
       "5  1966 24.89 19.43\n",
       "6  1967 25.35 19.31\n",
       "7  1968 25.23 20.85\n",
       "8  1969 25.06 19.54\n",
       "9  1970 27.13 20.49\n",
       "10 1971 27.36 21.91\n",
       "11 1972 26.65 22.51\n",
       "12 1973 27.13 18.81\n",
       "13 1974 27.49 19.42\n",
       "14 1975 27.08 19.10\n",
       "15 1976 27.51 18.80\n",
       "16 1977 27.54 18.80\n",
       "17 1978 26.21 17.57"
      ]
     },
     "metadata": {},
     "output_type": "display_data"
    }
   ],
   "source": [
    "df_6 = data.frame(Year = c(1962,1963,1964,1965,1966,1967,1968,1969,1970,1971,1972,1973,1974,1975,1976,1977,1978),\n",
    "           High = c(25.82, 25.35, 24.29, 24.05, 24.89, 25.35, 25.23, 25.06, 27.13, 27.36, 26.65, 27.13, 27.49, 27.08, 27.51, 27.54, 26.21),\n",
    "           Low = c(18.24, 16.50, 20.26, 20.97, 19.43, 19.31, 20.85, 19.54, 20.49, 21.91, 22.51, 18.81, 19.42, 19.10, 18.80, 18.80, 17.57))\n",
    "df_6"
   ]
  },
  {
   "cell_type": "code",
   "execution_count": 87,
   "id": "2b851a0e-ea1a-43b8-bda2-98cbc5fa8efb",
   "metadata": {},
   "outputs": [
    {
     "data": {
      "image/png": "[encoded data removed]",
      "text/plain": [
       "plot without title"
      ]
     },
     "metadata": {
      "image/png": {
       "height": 420,
       "width": 420
      }
     },
     "output_type": "display_data"
    }
   ],
   "source": [
    "plot(df_6$High,df_6$Year,\n",
    "     xlab = \"Year\",\n",
    "     ylab = \"High\",\n",
    "     pch  = 16,\n",
    "     cex  = 1)"
   ]
  },
  {
   "cell_type": "markdown",
   "id": "dd3d1ed2-71fa-4450-a3d4-6d49ece3e3f2",
   "metadata": {},
   "source": [
    "양의 기울기로 선형 관계를 갖는 모습이다."
   ]
  },
  {
   "cell_type": "code",
   "execution_count": 88,
   "id": "71481adc-78a0-4b07-875a-8cded7356401",
   "metadata": {},
   "outputs": [
    {
     "data": {
      "image/png": "[encoded data removed]",
      "text/plain": [
       "plot without title"
      ]
     },
     "metadata": {
      "image/png": {
       "height": 420,
       "width": 420
      }
     },
     "output_type": "display_data"
    }
   ],
   "source": [
    "plot(df_6$Low~df_6$Year,\n",
    "     xlab = \"Year\",\n",
    "     ylab = \"Low\",\n",
    "     pch  = 16,\n",
    "     cex  = 1)"
   ]
  },
  {
   "cell_type": "markdown",
   "id": "a8f1bb93-e4e4-4412-a736-d159c51de10d",
   "metadata": {},
   "source": [
    "이차함수 모양의 연관이 있는 모양새이다."
   ]
  },
  {
   "cell_type": "code",
   "execution_count": 89,
   "id": "5e0bf193-8fdd-43e0-8f58-4aef55f5a3f7",
   "metadata": {},
   "outputs": [
    {
     "data": {
      "image/png": "[encoded data removed]",
      "text/plain": [
       "plot without title"
      ]
     },
     "metadata": {
      "image/png": {
       "height": 420,
       "width": 420
      }
     },
     "output_type": "display_data"
    }
   ],
   "source": [
    "plot(df_6$Low~df_6$High,\n",
    "    xlab = \"Low\",\n",
    "     ylab = \"High\",\n",
    "     pch  = 16,\n",
    "     cex  = 1)"
   ]
  },
  {
   "cell_type": "markdown",
   "id": "b3f7bdfb-c499-4831-b98a-0fa9c22b904f",
   "metadata": {},
   "source": [
    "관련이 있는지 모르겠다."
   ]
  },
  {
   "cell_type": "markdown",
   "id": "db789580-5141-48df-a550-e981fe59690d",
   "metadata": {},
   "source": [
    "(2) Year에 대한 High, Year에 대한 Low, 그리고 Low에 대한 High의 회귀모형을 구하시오. 3개 회귀모형의 결과를 요약하고, 각 모형별로 회귀계수의 의미를 설명하시오."
   ]
  },
  {
   "cell_type": "markdown",
   "id": "f93cf3f8-65e2-4c54-9ef5-35bcc699906f",
   "metadata": {},
   "source": [
    "**Answer**"
   ]
  },
  {
   "cell_type": "markdown",
   "id": "8cbe3cbb-7dca-4004-9156-bd09b5a04105",
   "metadata": {},
   "source": [
    "**Year에 대한 High의 회귀모형**"
   ]
  },
  {
   "cell_type": "code",
   "execution_count": 90,
   "id": "e579f69d-fbf4-423f-888f-0934e2d80a80",
   "metadata": {},
   "outputs": [],
   "source": [
    "df_6_YearHigh <- df_6"
   ]
  },
  {
   "cell_type": "code",
   "execution_count": 91,
   "id": "d1d6d855-0547-4bf8-bff8-1542ced2c593",
   "metadata": {},
   "outputs": [],
   "source": [
    "df_6_YearHigh$Year_barYear = df_6_YearHigh$Year - mean(df_6_YearHigh$Year)\n",
    "df_6_YearHigh$High_barHigh = df_6_YearHigh$High - mean(df_6_YearHigh$High) "
   ]
  },
  {
   "cell_type": "markdown",
   "id": "aaabce16-e108-44bc-836c-eb42a34eb060",
   "metadata": {},
   "source": [
    "- $S_{xx}, S_{yy},S_{xy}$를 구해주기 위해 $x_i - \\bar{x}, y_i - \\bar{y}$를 구했다."
   ]
  },
  {
   "cell_type": "code",
   "execution_count": 92,
   "id": "ce21e812-98f2-4159-a9ea-24c52746da38",
   "metadata": {},
   "outputs": [],
   "source": [
    "df_6_YearHigh$Year_barYear2 <- df_6_YearHigh$Year_barYear^2\n",
    "df_6_YearHigh$High_barHigh2 <- df_6_YearHigh$High_barHigh^2\n",
    "df_6_YearHigh$YearHigh <-df_6_YearHigh$Year_barYear * df_6_YearHigh$High_barHigh"
   ]
  },
  {
   "cell_type": "markdown",
   "id": "a4f069b8-5e39-47f8-87a0-a751f264deee",
   "metadata": {},
   "source": [
    "- $S_{xx}, S_{yy},S_{xy}$를 구해주었다."
   ]
  },
  {
   "cell_type": "code",
   "execution_count": 93,
   "id": "79a328d7-0362-412f-b34b-6aebe248531d",
   "metadata": {},
   "outputs": [
    {
     "data": {
      "text/html": [
       "<table class=\"dataframe\">\n",
       "<caption>A data.frame: 17 × 8</caption>\n",
       "<thead>\n",
       "\t<tr><th scope=col>Year</th><th scope=col>High</th><th scope=col>Low</th><th scope=col>Year_barYear</th><th scope=col>High_barHigh</th><th scope=col>Year_barYear2</th><th scope=col>High_barHigh2</th><th scope=col>YearHigh</th></tr>\n",
       "\t<tr><th scope=col>&lt;dbl&gt;</th><th scope=col>&lt;dbl&gt;</th><th scope=col>&lt;dbl&gt;</th><th scope=col>&lt;dbl&gt;</th><th scope=col>&lt;dbl&gt;</th><th scope=col>&lt;dbl&gt;</th><th scope=col>&lt;dbl&gt;</th><th scope=col>&lt;dbl&gt;</th></tr>\n",
       "</thead>\n",
       "<tbody>\n",
       "\t<tr><td>1962</td><td>25.82</td><td>18.24</td><td>-8</td><td>-0.30588235</td><td>64</td><td>0.093564014</td><td> 2.4470588</td></tr>\n",
       "\t<tr><td>1963</td><td>25.35</td><td>16.50</td><td>-7</td><td>-0.77588235</td><td>49</td><td>0.601993426</td><td> 5.4311765</td></tr>\n",
       "\t<tr><td>1964</td><td>24.29</td><td>20.26</td><td>-6</td><td>-1.83588235</td><td>36</td><td>3.370464014</td><td>11.0152941</td></tr>\n",
       "\t<tr><td>1965</td><td>24.05</td><td>20.97</td><td>-5</td><td>-2.07588235</td><td>25</td><td>4.309287543</td><td>10.3794118</td></tr>\n",
       "\t<tr><td>1966</td><td>24.89</td><td>19.43</td><td>-4</td><td>-1.23588235</td><td>16</td><td>1.527405190</td><td> 4.9435294</td></tr>\n",
       "\t<tr><td>1967</td><td>25.35</td><td>19.31</td><td>-3</td><td>-0.77588235</td><td> 9</td><td>0.601993426</td><td> 2.3276471</td></tr>\n",
       "\t<tr><td>1968</td><td>25.23</td><td>20.85</td><td>-2</td><td>-0.89588235</td><td> 4</td><td>0.802605190</td><td> 1.7917647</td></tr>\n",
       "\t<tr><td>1969</td><td>25.06</td><td>19.54</td><td>-1</td><td>-1.06588235</td><td> 1</td><td>1.136105190</td><td> 1.0658824</td></tr>\n",
       "\t<tr><td>1970</td><td>27.13</td><td>20.49</td><td> 0</td><td> 1.00411765</td><td> 0</td><td>1.008252249</td><td> 0.0000000</td></tr>\n",
       "\t<tr><td>1971</td><td>27.36</td><td>21.91</td><td> 1</td><td> 1.23411765</td><td> 1</td><td>1.523046367</td><td> 1.2341176</td></tr>\n",
       "\t<tr><td>1972</td><td>26.65</td><td>22.51</td><td> 2</td><td> 0.52411765</td><td> 4</td><td>0.274699308</td><td> 1.0482353</td></tr>\n",
       "\t<tr><td>1973</td><td>27.13</td><td>18.81</td><td> 3</td><td> 1.00411765</td><td> 9</td><td>1.008252249</td><td> 3.0123529</td></tr>\n",
       "\t<tr><td>1974</td><td>27.49</td><td>19.42</td><td> 4</td><td> 1.36411765</td><td>16</td><td>1.860816955</td><td> 5.4564706</td></tr>\n",
       "\t<tr><td>1975</td><td>27.08</td><td>19.10</td><td> 5</td><td> 0.95411765</td><td>25</td><td>0.910340484</td><td> 4.7705882</td></tr>\n",
       "\t<tr><td>1976</td><td>27.51</td><td>18.80</td><td> 6</td><td> 1.38411765</td><td>36</td><td>1.915781661</td><td> 8.3047059</td></tr>\n",
       "\t<tr><td>1977</td><td>27.54</td><td>18.80</td><td> 7</td><td> 1.41411765</td><td>49</td><td>1.999728720</td><td> 9.8988235</td></tr>\n",
       "\t<tr><td>1978</td><td>26.21</td><td>17.57</td><td> 8</td><td> 0.08411765</td><td>64</td><td>0.007075779</td><td> 0.6729412</td></tr>\n",
       "</tbody>\n",
       "</table>\n"
      ],
      "text/latex": [
       "A data.frame: 17 × 8\n",
       "\\begin{tabular}{llllllll}\n",
       " Year & High & Low & Year\\_barYear & High\\_barHigh & Year\\_barYear2 & High\\_barHigh2 & YearHigh\\\\\n",
       " <dbl> & <dbl> & <dbl> & <dbl> & <dbl> & <dbl> & <dbl> & <dbl>\\\\\n",
       "\\hline\n",
       "\t 1962 & 25.82 & 18.24 & -8 & -0.30588235 & 64 & 0.093564014 &  2.4470588\\\\\n",
       "\t 1963 & 25.35 & 16.50 & -7 & -0.77588235 & 49 & 0.601993426 &  5.4311765\\\\\n",
       "\t 1964 & 24.29 & 20.26 & -6 & -1.83588235 & 36 & 3.370464014 & 11.0152941\\\\\n",
       "\t 1965 & 24.05 & 20.97 & -5 & -2.07588235 & 25 & 4.309287543 & 10.3794118\\\\\n",
       "\t 1966 & 24.89 & 19.43 & -4 & -1.23588235 & 16 & 1.527405190 &  4.9435294\\\\\n",
       "\t 1967 & 25.35 & 19.31 & -3 & -0.77588235 &  9 & 0.601993426 &  2.3276471\\\\\n",
       "\t 1968 & 25.23 & 20.85 & -2 & -0.89588235 &  4 & 0.802605190 &  1.7917647\\\\\n",
       "\t 1969 & 25.06 & 19.54 & -1 & -1.06588235 &  1 & 1.136105190 &  1.0658824\\\\\n",
       "\t 1970 & 27.13 & 20.49 &  0 &  1.00411765 &  0 & 1.008252249 &  0.0000000\\\\\n",
       "\t 1971 & 27.36 & 21.91 &  1 &  1.23411765 &  1 & 1.523046367 &  1.2341176\\\\\n",
       "\t 1972 & 26.65 & 22.51 &  2 &  0.52411765 &  4 & 0.274699308 &  1.0482353\\\\\n",
       "\t 1973 & 27.13 & 18.81 &  3 &  1.00411765 &  9 & 1.008252249 &  3.0123529\\\\\n",
       "\t 1974 & 27.49 & 19.42 &  4 &  1.36411765 & 16 & 1.860816955 &  5.4564706\\\\\n",
       "\t 1975 & 27.08 & 19.10 &  5 &  0.95411765 & 25 & 0.910340484 &  4.7705882\\\\\n",
       "\t 1976 & 27.51 & 18.80 &  6 &  1.38411765 & 36 & 1.915781661 &  8.3047059\\\\\n",
       "\t 1977 & 27.54 & 18.80 &  7 &  1.41411765 & 49 & 1.999728720 &  9.8988235\\\\\n",
       "\t 1978 & 26.21 & 17.57 &  8 &  0.08411765 & 64 & 0.007075779 &  0.6729412\\\\\n",
       "\\end{tabular}\n"
      ],
      "text/markdown": [
       "\n",
       "A data.frame: 17 × 8\n",
       "\n",
       "| Year &lt;dbl&gt; | High &lt;dbl&gt; | Low &lt;dbl&gt; | Year_barYear &lt;dbl&gt; | High_barHigh &lt;dbl&gt; | Year_barYear2 &lt;dbl&gt; | High_barHigh2 &lt;dbl&gt; | YearHigh &lt;dbl&gt; |\n",
       "|---|---|---|---|---|---|---|---|\n",
       "| 1962 | 25.82 | 18.24 | -8 | -0.30588235 | 64 | 0.093564014 |  2.4470588 |\n",
       "| 1963 | 25.35 | 16.50 | -7 | -0.77588235 | 49 | 0.601993426 |  5.4311765 |\n",
       "| 1964 | 24.29 | 20.26 | -6 | -1.83588235 | 36 | 3.370464014 | 11.0152941 |\n",
       "| 1965 | 24.05 | 20.97 | -5 | -2.07588235 | 25 | 4.309287543 | 10.3794118 |\n",
       "| 1966 | 24.89 | 19.43 | -4 | -1.23588235 | 16 | 1.527405190 |  4.9435294 |\n",
       "| 1967 | 25.35 | 19.31 | -3 | -0.77588235 |  9 | 0.601993426 |  2.3276471 |\n",
       "| 1968 | 25.23 | 20.85 | -2 | -0.89588235 |  4 | 0.802605190 |  1.7917647 |\n",
       "| 1969 | 25.06 | 19.54 | -1 | -1.06588235 |  1 | 1.136105190 |  1.0658824 |\n",
       "| 1970 | 27.13 | 20.49 |  0 |  1.00411765 |  0 | 1.008252249 |  0.0000000 |\n",
       "| 1971 | 27.36 | 21.91 |  1 |  1.23411765 |  1 | 1.523046367 |  1.2341176 |\n",
       "| 1972 | 26.65 | 22.51 |  2 |  0.52411765 |  4 | 0.274699308 |  1.0482353 |\n",
       "| 1973 | 27.13 | 18.81 |  3 |  1.00411765 |  9 | 1.008252249 |  3.0123529 |\n",
       "| 1974 | 27.49 | 19.42 |  4 |  1.36411765 | 16 | 1.860816955 |  5.4564706 |\n",
       "| 1975 | 27.08 | 19.10 |  5 |  0.95411765 | 25 | 0.910340484 |  4.7705882 |\n",
       "| 1976 | 27.51 | 18.80 |  6 |  1.38411765 | 36 | 1.915781661 |  8.3047059 |\n",
       "| 1977 | 27.54 | 18.80 |  7 |  1.41411765 | 49 | 1.999728720 |  9.8988235 |\n",
       "| 1978 | 26.21 | 17.57 |  8 |  0.08411765 | 64 | 0.007075779 |  0.6729412 |\n",
       "\n"
      ],
      "text/plain": [
       "   Year High  Low   Year_barYear High_barHigh Year_barYear2 High_barHigh2\n",
       "1  1962 25.82 18.24 -8           -0.30588235  64            0.093564014  \n",
       "2  1963 25.35 16.50 -7           -0.77588235  49            0.601993426  \n",
       "3  1964 24.29 20.26 -6           -1.83588235  36            3.370464014  \n",
       "4  1965 24.05 20.97 -5           -2.07588235  25            4.309287543  \n",
       "5  1966 24.89 19.43 -4           -1.23588235  16            1.527405190  \n",
       "6  1967 25.35 19.31 -3           -0.77588235   9            0.601993426  \n",
       "7  1968 25.23 20.85 -2           -0.89588235   4            0.802605190  \n",
       "8  1969 25.06 19.54 -1           -1.06588235   1            1.136105190  \n",
       "9  1970 27.13 20.49  0            1.00411765   0            1.008252249  \n",
       "10 1971 27.36 21.91  1            1.23411765   1            1.523046367  \n",
       "11 1972 26.65 22.51  2            0.52411765   4            0.274699308  \n",
       "12 1973 27.13 18.81  3            1.00411765   9            1.008252249  \n",
       "13 1974 27.49 19.42  4            1.36411765  16            1.860816955  \n",
       "14 1975 27.08 19.10  5            0.95411765  25            0.910340484  \n",
       "15 1976 27.51 18.80  6            1.38411765  36            1.915781661  \n",
       "16 1977 27.54 18.80  7            1.41411765  49            1.999728720  \n",
       "17 1978 26.21 17.57  8            0.08411765  64            0.007075779  \n",
       "   YearHigh  \n",
       "1   2.4470588\n",
       "2   5.4311765\n",
       "3  11.0152941\n",
       "4  10.3794118\n",
       "5   4.9435294\n",
       "6   2.3276471\n",
       "7   1.7917647\n",
       "8   1.0658824\n",
       "9   0.0000000\n",
       "10  1.2341176\n",
       "11  1.0482353\n",
       "12  3.0123529\n",
       "13  5.4564706\n",
       "14  4.7705882\n",
       "15  8.3047059\n",
       "16  9.8988235\n",
       "17  0.6729412"
      ]
     },
     "metadata": {},
     "output_type": "display_data"
    }
   ],
   "source": [
    "df_6_YearHigh"
   ]
  },
  {
   "cell_type": "code",
   "execution_count": 94,
   "id": "2896e5c0-2a89-433f-84f2-a8639dbdba9a",
   "metadata": {},
   "outputs": [
    {
     "data": {
      "text/html": [
       "<style>\n",
       ".dl-inline {width: auto; margin:0; padding: 0}\n",
       ".dl-inline>dt, .dl-inline>dd {float: none; width: auto; display: inline-block}\n",
       ".dl-inline>dt::after {content: \":\\0020\"; padding-right: .5ex}\n",
       ".dl-inline>dt:not(:first-of-type) {padding-left: .5ex}\n",
       "</style><dl class=dl-inline><dt>Year</dt><dd>33490</dd><dt>High</dt><dd>444.14</dd><dt>Low</dt><dd>332.51</dd><dt>Year_barYear</dt><dd>0</dd><dt>High_barHigh</dt><dd>0</dd><dt>Year_barYear2</dt><dd>408</dd><dt>High_barHigh2</dt><dd>22.951</dd><dt>YearHigh</dt><dd>73.8</dd></dl>\n"
      ],
      "text/latex": [
       "\\begin{description*}\n",
       "\\item[Year] 33490\n",
       "\\item[High] 444.14\n",
       "\\item[Low] 332.51\n",
       "\\item[Year\\textbackslash{}\\_barYear] 0\n",
       "\\item[High\\textbackslash{}\\_barHigh] 0\n",
       "\\item[Year\\textbackslash{}\\_barYear2] 408\n",
       "\\item[High\\textbackslash{}\\_barHigh2] 22.951\n",
       "\\item[YearHigh] 73.8\n",
       "\\end{description*}\n"
      ],
      "text/markdown": [
       "Year\n",
       ":   33490High\n",
       ":   444.14Low\n",
       ":   332.51Year_barYear\n",
       ":   0High_barHigh\n",
       ":   0Year_barYear2\n",
       ":   408High_barHigh2\n",
       ":   22.951YearHigh\n",
       ":   73.8\n",
       "\n"
      ],
      "text/plain": [
       "         Year          High           Low  Year_barYear  High_barHigh \n",
       "    33490.000       444.140       332.510         0.000         0.000 \n",
       "Year_barYear2 High_barHigh2      YearHigh \n",
       "      408.000        22.951        73.800 "
      ]
     },
     "metadata": {},
     "output_type": "display_data"
    }
   ],
   "source": [
    "round(colSums(df_6_YearHigh),3)"
   ]
  },
  {
   "cell_type": "markdown",
   "id": "3426495a-90ed-42b0-8b41-7700f2a7db05",
   "metadata": {},
   "source": [
    "$\\hat{\\beta_1} = \\frac{S_{xy}}{S_{xx}}$\n",
    "\n",
    "$\\hat{\\beta_0} = \\bar{y} - \\hat{\\beta_1}\\bar{x}$"
   ]
  },
  {
   "cell_type": "code",
   "execution_count": 95,
   "id": "656c6798-c45a-4042-8c03-3638ffb5a203",
   "metadata": {},
   "outputs": [],
   "source": [
    "beta1_YearHigh <- as.numeric(colSums(df_6_YearHigh)[8]/colSums(df_6_YearHigh)[6])\n",
    "beta0_YearHigh <- mean(df_6_YearHigh$High) - beta1_YearHigh *  mean(df_6_YearHigh$Year)"
   ]
  },
  {
   "cell_type": "code",
   "execution_count": 96,
   "id": "a3f7f617-e92e-48a2-9612-c00dd8b1bbfb",
   "metadata": {},
   "outputs": [
    {
     "name": "stdout",
     "output_type": "stream",
     "text": [
      "YearHigh hat beta0 =  -330.2124\n",
      "YearHigh hat beta1 =  0.1808824"
     ]
    }
   ],
   "source": [
    "cat(\"YearHigh hat beta0 = \", beta0_YearHigh)\n",
    "cat(\"\\nYearHigh hat beta1 = \", beta1_YearHigh)"
   ]
  },
  {
   "cell_type": "markdown",
   "id": "c58632fa-a336-4e44-9411-519596666732",
   "metadata": {},
   "source": [
    "$\\text{High} = -330.21235 + 0.18088\\text{Year}$"
   ]
  },
  {
   "cell_type": "markdown",
   "id": "547c859e-f02d-4707-b3ad-b354c16708c9",
   "metadata": {},
   "source": [
    "R결과와 비교"
   ]
  },
  {
   "cell_type": "code",
   "execution_count": 97,
   "id": "65cfe5b0-7462-4813-810a-a06cfd2266c5",
   "metadata": {},
   "outputs": [
    {
     "data": {
      "text/plain": [
       "\n",
       "Call:\n",
       "lm(formula = df_6$High ~ df_6$Year)\n",
       "\n",
       "Residuals:\n",
       "    Min      1Q  Median      3Q     Max \n",
       "-1.3629 -0.5341  0.1479  0.4903  1.1412 \n",
       "\n",
       "Coefficients:\n",
       "              Estimate Std. Error t value Pr(>|t|)    \n",
       "(Intercept) -330.21235   78.03319  -4.232 0.000725 ***\n",
       "df_6$Year      0.18088    0.03961   4.567 0.000371 ***\n",
       "---\n",
       "Signif. codes:  0 ‘***’ 0.001 ‘**’ 0.01 ‘*’ 0.05 ‘.’ 0.1 ‘ ’ 1\n",
       "\n",
       "Residual standard error: 0.8001 on 15 degrees of freedom\n",
       "Multiple R-squared:  0.5816,\tAdjusted R-squared:  0.5537 \n",
       "F-statistic: 20.85 on 1 and 15 DF,  p-value: 0.0003708\n"
      ]
     },
     "metadata": {},
     "output_type": "display_data"
    }
   ],
   "source": [
    "summary(lm(df_6$High~df_6$Year))"
   ]
  },
  {
   "cell_type": "markdown",
   "id": "8c0e1911-6d36-4b04-bdf0-94b841c8cb13",
   "metadata": {},
   "source": [
    "R결과 해석 \n",
    "- beta0과 beta1이 5%보다 유의확률이 작아 유의미하다.\n",
    "- 모형의 설명력은 50%정도에 머문다.\n",
    "- 모형의 p값이 0.05보다 작아 유의미하다고 볼 수 있다."
   ]
  },
  {
   "cell_type": "markdown",
   "id": "f57d4f5a-57be-42de-9780-389a29118cf3",
   "metadata": {},
   "source": [
    "**Year에 대한 Low의 회귀모형**"
   ]
  },
  {
   "cell_type": "code",
   "execution_count": 98,
   "id": "962398e3-f4cd-4ccc-a558-7f39c4f60ccc",
   "metadata": {},
   "outputs": [],
   "source": [
    "df_6_YearLow <- df_6"
   ]
  },
  {
   "cell_type": "code",
   "execution_count": 99,
   "id": "93a75ad9-1651-4042-b53c-b3865e441cf4",
   "metadata": {},
   "outputs": [],
   "source": [
    "df_6_YearLow$Year_barYear = df_6_YearLow$Year - mean(df_6_YearLow$Year)\n",
    "df_6_YearLow$Low_barLow = df_6_YearLow$Low - mean(df_6_YearLow$Low) "
   ]
  },
  {
   "cell_type": "markdown",
   "id": "a0cb0b7e-d70c-45cb-9365-79bc77fcf33d",
   "metadata": {},
   "source": [
    "- $S_{xx}, S_{yy},S_{xy}$를 구해주기 위해 $x_i - \\bar{x}, y_i - \\bar{y}$를 구했다."
   ]
  },
  {
   "cell_type": "code",
   "execution_count": 100,
   "id": "aa02058c-7569-47a2-8a8e-3c5b4865c623",
   "metadata": {},
   "outputs": [],
   "source": [
    "df_6_YearLow$Year_barYear2 <- df_6_YearLow$Year_barYear^2\n",
    "df_6_YearLow$Low_barLow2 <- df_6_YearLow$Low_barLow^2\n",
    "df_6_YearLow$YearLow <-df_6_YearLow$Year_barYear * df_6_YearLow$Low_barLow"
   ]
  },
  {
   "cell_type": "markdown",
   "id": "2aaf8838-7f7f-4f3d-b3a7-767744414481",
   "metadata": {},
   "source": [
    "- $S_{xx}, S_{yy},S_{xy}$를 구해주었다."
   ]
  },
  {
   "cell_type": "code",
   "execution_count": 101,
   "id": "c3afa356-8a35-4b05-96b5-994c468b1bd5",
   "metadata": {},
   "outputs": [
    {
     "data": {
      "text/html": [
       "<table class=\"dataframe\">\n",
       "<caption>A data.frame: 17 × 8</caption>\n",
       "<thead>\n",
       "\t<tr><th scope=col>Year</th><th scope=col>High</th><th scope=col>Low</th><th scope=col>Year_barYear</th><th scope=col>Low_barLow</th><th scope=col>Year_barYear2</th><th scope=col>Low_barLow2</th><th scope=col>YearLow</th></tr>\n",
       "\t<tr><th scope=col>&lt;dbl&gt;</th><th scope=col>&lt;dbl&gt;</th><th scope=col>&lt;dbl&gt;</th><th scope=col>&lt;dbl&gt;</th><th scope=col>&lt;dbl&gt;</th><th scope=col>&lt;dbl&gt;</th><th scope=col>&lt;dbl&gt;</th><th scope=col>&lt;dbl&gt;</th></tr>\n",
       "</thead>\n",
       "<tbody>\n",
       "\t<tr><td>1962</td><td>25.82</td><td>18.24</td><td>-8</td><td>-1.31941176</td><td>64</td><td>1.7408474048</td><td> 10.55529412</td></tr>\n",
       "\t<tr><td>1963</td><td>25.35</td><td>16.50</td><td>-7</td><td>-3.05941176</td><td>49</td><td>9.3600003460</td><td> 21.41588235</td></tr>\n",
       "\t<tr><td>1964</td><td>24.29</td><td>20.26</td><td>-6</td><td> 0.70058824</td><td>36</td><td>0.4908238754</td><td> -4.20352941</td></tr>\n",
       "\t<tr><td>1965</td><td>24.05</td><td>20.97</td><td>-5</td><td> 1.41058824</td><td>25</td><td>1.9897591696</td><td> -7.05294118</td></tr>\n",
       "\t<tr><td>1966</td><td>24.89</td><td>19.43</td><td>-4</td><td>-0.12941176</td><td>16</td><td>0.0167474048</td><td>  0.51764706</td></tr>\n",
       "\t<tr><td>1967</td><td>25.35</td><td>19.31</td><td>-3</td><td>-0.24941176</td><td> 9</td><td>0.0622062284</td><td>  0.74823529</td></tr>\n",
       "\t<tr><td>1968</td><td>25.23</td><td>20.85</td><td>-2</td><td> 1.29058824</td><td> 4</td><td>1.6656179931</td><td> -2.58117647</td></tr>\n",
       "\t<tr><td>1969</td><td>25.06</td><td>19.54</td><td>-1</td><td>-0.01941176</td><td> 1</td><td>0.0003768166</td><td>  0.01941176</td></tr>\n",
       "\t<tr><td>1970</td><td>27.13</td><td>20.49</td><td> 0</td><td> 0.93058824</td><td> 0</td><td>0.8659944637</td><td>  0.00000000</td></tr>\n",
       "\t<tr><td>1971</td><td>27.36</td><td>21.91</td><td> 1</td><td> 2.35058824</td><td> 1</td><td>5.5252650519</td><td>  2.35058824</td></tr>\n",
       "\t<tr><td>1972</td><td>26.65</td><td>22.51</td><td> 2</td><td> 2.95058824</td><td> 4</td><td>8.7059709343</td><td>  5.90117647</td></tr>\n",
       "\t<tr><td>1973</td><td>27.13</td><td>18.81</td><td> 3</td><td>-0.74941176</td><td> 9</td><td>0.5616179931</td><td> -2.24823529</td></tr>\n",
       "\t<tr><td>1974</td><td>27.49</td><td>19.42</td><td> 4</td><td>-0.13941176</td><td>16</td><td>0.0194356401</td><td> -0.55764706</td></tr>\n",
       "\t<tr><td>1975</td><td>27.08</td><td>19.10</td><td> 5</td><td>-0.45941176</td><td>25</td><td>0.2110591696</td><td> -2.29705882</td></tr>\n",
       "\t<tr><td>1976</td><td>27.51</td><td>18.80</td><td> 6</td><td>-0.75941176</td><td>36</td><td>0.5767062284</td><td> -4.55647059</td></tr>\n",
       "\t<tr><td>1977</td><td>27.54</td><td>18.80</td><td> 7</td><td>-0.75941176</td><td>49</td><td>0.5767062284</td><td> -5.31588235</td></tr>\n",
       "\t<tr><td>1978</td><td>26.21</td><td>17.57</td><td> 8</td><td>-1.98941176</td><td>64</td><td>3.9577591696</td><td>-15.91529412</td></tr>\n",
       "</tbody>\n",
       "</table>\n"
      ],
      "text/latex": [
       "A data.frame: 17 × 8\n",
       "\\begin{tabular}{llllllll}\n",
       " Year & High & Low & Year\\_barYear & Low\\_barLow & Year\\_barYear2 & Low\\_barLow2 & YearLow\\\\\n",
       " <dbl> & <dbl> & <dbl> & <dbl> & <dbl> & <dbl> & <dbl> & <dbl>\\\\\n",
       "\\hline\n",
       "\t 1962 & 25.82 & 18.24 & -8 & -1.31941176 & 64 & 1.7408474048 &  10.55529412\\\\\n",
       "\t 1963 & 25.35 & 16.50 & -7 & -3.05941176 & 49 & 9.3600003460 &  21.41588235\\\\\n",
       "\t 1964 & 24.29 & 20.26 & -6 &  0.70058824 & 36 & 0.4908238754 &  -4.20352941\\\\\n",
       "\t 1965 & 24.05 & 20.97 & -5 &  1.41058824 & 25 & 1.9897591696 &  -7.05294118\\\\\n",
       "\t 1966 & 24.89 & 19.43 & -4 & -0.12941176 & 16 & 0.0167474048 &   0.51764706\\\\\n",
       "\t 1967 & 25.35 & 19.31 & -3 & -0.24941176 &  9 & 0.0622062284 &   0.74823529\\\\\n",
       "\t 1968 & 25.23 & 20.85 & -2 &  1.29058824 &  4 & 1.6656179931 &  -2.58117647\\\\\n",
       "\t 1969 & 25.06 & 19.54 & -1 & -0.01941176 &  1 & 0.0003768166 &   0.01941176\\\\\n",
       "\t 1970 & 27.13 & 20.49 &  0 &  0.93058824 &  0 & 0.8659944637 &   0.00000000\\\\\n",
       "\t 1971 & 27.36 & 21.91 &  1 &  2.35058824 &  1 & 5.5252650519 &   2.35058824\\\\\n",
       "\t 1972 & 26.65 & 22.51 &  2 &  2.95058824 &  4 & 8.7059709343 &   5.90117647\\\\\n",
       "\t 1973 & 27.13 & 18.81 &  3 & -0.74941176 &  9 & 0.5616179931 &  -2.24823529\\\\\n",
       "\t 1974 & 27.49 & 19.42 &  4 & -0.13941176 & 16 & 0.0194356401 &  -0.55764706\\\\\n",
       "\t 1975 & 27.08 & 19.10 &  5 & -0.45941176 & 25 & 0.2110591696 &  -2.29705882\\\\\n",
       "\t 1976 & 27.51 & 18.80 &  6 & -0.75941176 & 36 & 0.5767062284 &  -4.55647059\\\\\n",
       "\t 1977 & 27.54 & 18.80 &  7 & -0.75941176 & 49 & 0.5767062284 &  -5.31588235\\\\\n",
       "\t 1978 & 26.21 & 17.57 &  8 & -1.98941176 & 64 & 3.9577591696 & -15.91529412\\\\\n",
       "\\end{tabular}\n"
      ],
      "text/markdown": [
       "\n",
       "A data.frame: 17 × 8\n",
       "\n",
       "| Year &lt;dbl&gt; | High &lt;dbl&gt; | Low &lt;dbl&gt; | Year_barYear &lt;dbl&gt; | Low_barLow &lt;dbl&gt; | Year_barYear2 &lt;dbl&gt; | Low_barLow2 &lt;dbl&gt; | YearLow &lt;dbl&gt; |\n",
       "|---|---|---|---|---|---|---|---|\n",
       "| 1962 | 25.82 | 18.24 | -8 | -1.31941176 | 64 | 1.7408474048 |  10.55529412 |\n",
       "| 1963 | 25.35 | 16.50 | -7 | -3.05941176 | 49 | 9.3600003460 |  21.41588235 |\n",
       "| 1964 | 24.29 | 20.26 | -6 |  0.70058824 | 36 | 0.4908238754 |  -4.20352941 |\n",
       "| 1965 | 24.05 | 20.97 | -5 |  1.41058824 | 25 | 1.9897591696 |  -7.05294118 |\n",
       "| 1966 | 24.89 | 19.43 | -4 | -0.12941176 | 16 | 0.0167474048 |   0.51764706 |\n",
       "| 1967 | 25.35 | 19.31 | -3 | -0.24941176 |  9 | 0.0622062284 |   0.74823529 |\n",
       "| 1968 | 25.23 | 20.85 | -2 |  1.29058824 |  4 | 1.6656179931 |  -2.58117647 |\n",
       "| 1969 | 25.06 | 19.54 | -1 | -0.01941176 |  1 | 0.0003768166 |   0.01941176 |\n",
       "| 1970 | 27.13 | 20.49 |  0 |  0.93058824 |  0 | 0.8659944637 |   0.00000000 |\n",
       "| 1971 | 27.36 | 21.91 |  1 |  2.35058824 |  1 | 5.5252650519 |   2.35058824 |\n",
       "| 1972 | 26.65 | 22.51 |  2 |  2.95058824 |  4 | 8.7059709343 |   5.90117647 |\n",
       "| 1973 | 27.13 | 18.81 |  3 | -0.74941176 |  9 | 0.5616179931 |  -2.24823529 |\n",
       "| 1974 | 27.49 | 19.42 |  4 | -0.13941176 | 16 | 0.0194356401 |  -0.55764706 |\n",
       "| 1975 | 27.08 | 19.10 |  5 | -0.45941176 | 25 | 0.2110591696 |  -2.29705882 |\n",
       "| 1976 | 27.51 | 18.80 |  6 | -0.75941176 | 36 | 0.5767062284 |  -4.55647059 |\n",
       "| 1977 | 27.54 | 18.80 |  7 | -0.75941176 | 49 | 0.5767062284 |  -5.31588235 |\n",
       "| 1978 | 26.21 | 17.57 |  8 | -1.98941176 | 64 | 3.9577591696 | -15.91529412 |\n",
       "\n"
      ],
      "text/plain": [
       "   Year High  Low   Year_barYear Low_barLow  Year_barYear2 Low_barLow2 \n",
       "1  1962 25.82 18.24 -8           -1.31941176 64            1.7408474048\n",
       "2  1963 25.35 16.50 -7           -3.05941176 49            9.3600003460\n",
       "3  1964 24.29 20.26 -6            0.70058824 36            0.4908238754\n",
       "4  1965 24.05 20.97 -5            1.41058824 25            1.9897591696\n",
       "5  1966 24.89 19.43 -4           -0.12941176 16            0.0167474048\n",
       "6  1967 25.35 19.31 -3           -0.24941176  9            0.0622062284\n",
       "7  1968 25.23 20.85 -2            1.29058824  4            1.6656179931\n",
       "8  1969 25.06 19.54 -1           -0.01941176  1            0.0003768166\n",
       "9  1970 27.13 20.49  0            0.93058824  0            0.8659944637\n",
       "10 1971 27.36 21.91  1            2.35058824  1            5.5252650519\n",
       "11 1972 26.65 22.51  2            2.95058824  4            8.7059709343\n",
       "12 1973 27.13 18.81  3           -0.74941176  9            0.5616179931\n",
       "13 1974 27.49 19.42  4           -0.13941176 16            0.0194356401\n",
       "14 1975 27.08 19.10  5           -0.45941176 25            0.2110591696\n",
       "15 1976 27.51 18.80  6           -0.75941176 36            0.5767062284\n",
       "16 1977 27.54 18.80  7           -0.75941176 49            0.5767062284\n",
       "17 1978 26.21 17.57  8           -1.98941176 64            3.9577591696\n",
       "   YearLow     \n",
       "1   10.55529412\n",
       "2   21.41588235\n",
       "3   -4.20352941\n",
       "4   -7.05294118\n",
       "5    0.51764706\n",
       "6    0.74823529\n",
       "7   -2.58117647\n",
       "8    0.01941176\n",
       "9    0.00000000\n",
       "10   2.35058824\n",
       "11   5.90117647\n",
       "12  -2.24823529\n",
       "13  -0.55764706\n",
       "14  -2.29705882\n",
       "15  -4.55647059\n",
       "16  -5.31588235\n",
       "17 -15.91529412"
      ]
     },
     "metadata": {},
     "output_type": "display_data"
    }
   ],
   "source": [
    "df_6_YearLow"
   ]
  },
  {
   "cell_type": "code",
   "execution_count": 102,
   "id": "b7b11762-8f4d-4d15-bd00-844947421e9e",
   "metadata": {},
   "outputs": [
    {
     "data": {
      "text/html": [
       "<style>\n",
       ".dl-inline {width: auto; margin:0; padding: 0}\n",
       ".dl-inline>dt, .dl-inline>dd {float: none; width: auto; display: inline-block}\n",
       ".dl-inline>dt::after {content: \":\\0020\"; padding-right: .5ex}\n",
       ".dl-inline>dt:not(:first-of-type) {padding-left: .5ex}\n",
       "</style><dl class=dl-inline><dt>Year</dt><dd>33490</dd><dt>High</dt><dd>444.14</dd><dt>Low</dt><dd>332.51</dd><dt>Year_barYear</dt><dd>0</dd><dt>Low_barLow</dt><dd>0</dd><dt>Year_barYear2</dt><dd>408</dd><dt>Low_barLow2</dt><dd>36.327</dd><dt>YearLow</dt><dd>-3.22</dd></dl>\n"
      ],
      "text/latex": [
       "\\begin{description*}\n",
       "\\item[Year] 33490\n",
       "\\item[High] 444.14\n",
       "\\item[Low] 332.51\n",
       "\\item[Year\\textbackslash{}\\_barYear] 0\n",
       "\\item[Low\\textbackslash{}\\_barLow] 0\n",
       "\\item[Year\\textbackslash{}\\_barYear2] 408\n",
       "\\item[Low\\textbackslash{}\\_barLow2] 36.327\n",
       "\\item[YearLow] -3.22\n",
       "\\end{description*}\n"
      ],
      "text/markdown": [
       "Year\n",
       ":   33490High\n",
       ":   444.14Low\n",
       ":   332.51Year_barYear\n",
       ":   0Low_barLow\n",
       ":   0Year_barYear2\n",
       ":   408Low_barLow2\n",
       ":   36.327YearLow\n",
       ":   -3.22\n",
       "\n"
      ],
      "text/plain": [
       "         Year          High           Low  Year_barYear    Low_barLow \n",
       "    33490.000       444.140       332.510         0.000         0.000 \n",
       "Year_barYear2   Low_barLow2       YearLow \n",
       "      408.000        36.327        -3.220 "
      ]
     },
     "metadata": {},
     "output_type": "display_data"
    }
   ],
   "source": [
    "round(colSums(df_6_YearLow),3)"
   ]
  },
  {
   "cell_type": "markdown",
   "id": "6ce80b30-32ae-4d6a-8810-ddc104cbedda",
   "metadata": {},
   "source": [
    "$\\hat{\\beta_1} = \\frac{S_{xy}}{S_{xx}}$\n",
    "\n",
    "$\\hat{\\beta_0} = \\bar{y} - \\hat{\\beta_1}\\bar{x}$"
   ]
  },
  {
   "cell_type": "code",
   "execution_count": 103,
   "id": "17d52cb5-20e7-4d54-b3d4-4580ddb71a4e",
   "metadata": {},
   "outputs": [],
   "source": [
    "beta1_YearLow <- as.numeric(colSums(df_6_YearLow)[8]/colSums(df_6_YearLow)[6])\n",
    "beta0_YearLow <- mean(df_6_YearLow$Low) - beta1_YearLow *  mean(df_6_YearLow$Year)"
   ]
  },
  {
   "cell_type": "code",
   "execution_count": 104,
   "id": "db92237c-f09d-489b-8dce-66738ff5b8b1",
   "metadata": {},
   "outputs": [
    {
     "name": "stdout",
     "output_type": "stream",
     "text": [
      "YearLow hat beta0 =  35.10696\n",
      "YearLow hat beta1 =  -0.007892157"
     ]
    }
   ],
   "source": [
    "cat(\"YearLow hat beta0 = \", beta0_YearLow)\n",
    "cat(\"\\nYearLow hat beta1 = \", beta1_YearLow)"
   ]
  },
  {
   "cell_type": "markdown",
   "id": "036b40c2-80b7-4ee5-b11b-59fe07081e27",
   "metadata": {},
   "source": [
    "$\\text{Low} =  35.106961 -0.007892\\text{Year}$"
   ]
  },
  {
   "cell_type": "markdown",
   "id": "7d079c44-772d-4779-a74c-5f66cc99f6d8",
   "metadata": {
    "tags": []
   },
   "source": [
    "R결과와 비교"
   ]
  },
  {
   "cell_type": "code",
   "execution_count": 105,
   "id": "c83090c0-3bad-4821-ace8-5a7e035d3aec",
   "metadata": {},
   "outputs": [
    {
     "data": {
      "text/plain": [
       "\n",
       "Call:\n",
       "lm(formula = df_6$Low ~ df_6$Year)\n",
       "\n",
       "Residuals:\n",
       "    Min      1Q  Median      3Q     Max \n",
       "-3.1147 -0.7121 -0.1610  0.9306  2.9664 \n",
       "\n",
       "Coefficients:\n",
       "              Estimate Std. Error t value Pr(>|t|)\n",
       "(Intercept)  35.106961 151.723912   0.231     0.82\n",
       "df_6$Year    -0.007892   0.077017  -0.102     0.92\n",
       "\n",
       "Residual standard error: 1.556 on 15 degrees of freedom\n",
       "Multiple R-squared:  0.0006996,\tAdjusted R-squared:  -0.06592 \n",
       "F-statistic: 0.0105 on 1 and 15 DF,  p-value: 0.9197\n"
      ]
     },
     "metadata": {},
     "output_type": "display_data"
    }
   ],
   "source": [
    "summary(lm(df_6$Low~df_6$Year))"
   ]
  },
  {
   "cell_type": "markdown",
   "id": "7252a3c0-b12b-411f-9747-566499b625ae",
   "metadata": {},
   "source": [
    "R결과 해석 \n",
    "- beta0과 beta1이 5%보다 유의확률이 커 유의미하지 않다.\n",
    "- 모형의 설명력은 굉장히 낮았다.\n",
    "- 모형의 p값이 0.05보다 커 유의미하지 않다."
   ]
  },
  {
   "cell_type": "markdown",
   "id": "d0614d59-7e65-403d-80b7-4e2528daf699",
   "metadata": {},
   "source": [
    "**Low에 대한 High의 회귀모형**"
   ]
  },
  {
   "cell_type": "code",
   "execution_count": 106,
   "id": "68f3c942-ef2e-4c95-85ac-51118e4adef4",
   "metadata": {},
   "outputs": [],
   "source": [
    "df_6_LowHigh <- df_6"
   ]
  },
  {
   "cell_type": "code",
   "execution_count": 107,
   "id": "56ababb9-ef0e-4cc8-abf9-d1e4f7d9f1d1",
   "metadata": {},
   "outputs": [],
   "source": [
    "df_6_LowHigh$Low_barLow = df_6_LowHigh$Low - mean(df_6_LowHigh$Low)\n",
    "df_6_LowHigh$High_barHigh = df_6_LowHigh$High - mean(df_6_LowHigh$High) "
   ]
  },
  {
   "cell_type": "markdown",
   "id": "8f860687-f010-4f23-83e2-ccc20f7afa31",
   "metadata": {},
   "source": [
    "- $S_{xx}, S_{yy},S_{xy}$를 구해주기 위해 $x_i - \\bar{x}, y_i - \\bar{y}$를 구했다."
   ]
  },
  {
   "cell_type": "code",
   "execution_count": 108,
   "id": "c740e47a-33cf-4323-9775-1fb557e675c7",
   "metadata": {},
   "outputs": [],
   "source": [
    "df_6_LowHigh$Low_barLow2 <- df_6_LowHigh$Low_barLow^2\n",
    "df_6_LowHigh$High_barHigh2 <- df_6_LowHigh$High_barHigh^2\n",
    "df_6_LowHigh$LowHigh <-df_6_LowHigh$Low_barLow * df_6_LowHigh$High_barHigh"
   ]
  },
  {
   "cell_type": "markdown",
   "id": "677a3485-b4a2-4280-8730-0a0a0aedda23",
   "metadata": {},
   "source": [
    "- $S_{xx}, S_{yy},S_{xy}$를 구해주었다."
   ]
  },
  {
   "cell_type": "code",
   "execution_count": 109,
   "id": "eb5f3277-5e26-472b-888b-18c2300a5560",
   "metadata": {},
   "outputs": [
    {
     "data": {
      "text/html": [
       "<table class=\"dataframe\">\n",
       "<caption>A data.frame: 17 × 8</caption>\n",
       "<thead>\n",
       "\t<tr><th scope=col>Year</th><th scope=col>High</th><th scope=col>Low</th><th scope=col>Low_barLow</th><th scope=col>High_barHigh</th><th scope=col>Low_barLow2</th><th scope=col>High_barHigh2</th><th scope=col>LowHigh</th></tr>\n",
       "\t<tr><th scope=col>&lt;dbl&gt;</th><th scope=col>&lt;dbl&gt;</th><th scope=col>&lt;dbl&gt;</th><th scope=col>&lt;dbl&gt;</th><th scope=col>&lt;dbl&gt;</th><th scope=col>&lt;dbl&gt;</th><th scope=col>&lt;dbl&gt;</th><th scope=col>&lt;dbl&gt;</th></tr>\n",
       "</thead>\n",
       "<tbody>\n",
       "\t<tr><td>1962</td><td>25.82</td><td>18.24</td><td>-1.31941176</td><td>-0.30588235</td><td>1.7408474048</td><td>0.093564014</td><td> 0.40358478</td></tr>\n",
       "\t<tr><td>1963</td><td>25.35</td><td>16.50</td><td>-3.05941176</td><td>-0.77588235</td><td>9.3600003460</td><td>0.601993426</td><td> 2.37374360</td></tr>\n",
       "\t<tr><td>1964</td><td>24.29</td><td>20.26</td><td> 0.70058824</td><td>-1.83588235</td><td>0.4908238754</td><td>3.370464014</td><td>-1.28619758</td></tr>\n",
       "\t<tr><td>1965</td><td>24.05</td><td>20.97</td><td> 1.41058824</td><td>-2.07588235</td><td>1.9897591696</td><td>4.309287543</td><td>-2.92821522</td></tr>\n",
       "\t<tr><td>1966</td><td>24.89</td><td>19.43</td><td>-0.12941176</td><td>-1.23588235</td><td>0.0167474048</td><td>1.527405190</td><td> 0.15993772</td></tr>\n",
       "\t<tr><td>1967</td><td>25.35</td><td>19.31</td><td>-0.24941176</td><td>-0.77588235</td><td>0.0622062284</td><td>0.601993426</td><td> 0.19351419</td></tr>\n",
       "\t<tr><td>1968</td><td>25.23</td><td>20.85</td><td> 1.29058824</td><td>-0.89588235</td><td>1.6656179931</td><td>0.802605190</td><td>-1.15621522</td></tr>\n",
       "\t<tr><td>1969</td><td>25.06</td><td>19.54</td><td>-0.01941176</td><td>-1.06588235</td><td>0.0003768166</td><td>1.136105190</td><td> 0.02069066</td></tr>\n",
       "\t<tr><td>1970</td><td>27.13</td><td>20.49</td><td> 0.93058824</td><td> 1.00411765</td><td>0.8659944637</td><td>1.008252249</td><td> 0.93442007</td></tr>\n",
       "\t<tr><td>1971</td><td>27.36</td><td>21.91</td><td> 2.35058824</td><td> 1.23411765</td><td>5.5252650519</td><td>1.523046367</td><td> 2.90090242</td></tr>\n",
       "\t<tr><td>1972</td><td>26.65</td><td>22.51</td><td> 2.95058824</td><td> 0.52411765</td><td>8.7059709343</td><td>0.274699308</td><td> 1.54645536</td></tr>\n",
       "\t<tr><td>1973</td><td>27.13</td><td>18.81</td><td>-0.74941176</td><td> 1.00411765</td><td>0.5616179931</td><td>1.008252249</td><td>-0.75249758</td></tr>\n",
       "\t<tr><td>1974</td><td>27.49</td><td>19.42</td><td>-0.13941176</td><td> 1.36411765</td><td>0.0194356401</td><td>1.860816955</td><td>-0.19017405</td></tr>\n",
       "\t<tr><td>1975</td><td>27.08</td><td>19.10</td><td>-0.45941176</td><td> 0.95411765</td><td>0.2110591696</td><td>0.910340484</td><td>-0.43833287</td></tr>\n",
       "\t<tr><td>1976</td><td>27.51</td><td>18.80</td><td>-0.75941176</td><td> 1.38411765</td><td>0.5767062284</td><td>1.915781661</td><td>-1.05111522</td></tr>\n",
       "\t<tr><td>1977</td><td>27.54</td><td>18.80</td><td>-0.75941176</td><td> 1.41411765</td><td>0.5767062284</td><td>1.999728720</td><td>-1.07389758</td></tr>\n",
       "\t<tr><td>1978</td><td>26.21</td><td>17.57</td><td>-1.98941176</td><td> 0.08411765</td><td>3.9577591696</td><td>0.007075779</td><td>-0.16734464</td></tr>\n",
       "</tbody>\n",
       "</table>\n"
      ],
      "text/latex": [
       "A data.frame: 17 × 8\n",
       "\\begin{tabular}{llllllll}\n",
       " Year & High & Low & Low\\_barLow & High\\_barHigh & Low\\_barLow2 & High\\_barHigh2 & LowHigh\\\\\n",
       " <dbl> & <dbl> & <dbl> & <dbl> & <dbl> & <dbl> & <dbl> & <dbl>\\\\\n",
       "\\hline\n",
       "\t 1962 & 25.82 & 18.24 & -1.31941176 & -0.30588235 & 1.7408474048 & 0.093564014 &  0.40358478\\\\\n",
       "\t 1963 & 25.35 & 16.50 & -3.05941176 & -0.77588235 & 9.3600003460 & 0.601993426 &  2.37374360\\\\\n",
       "\t 1964 & 24.29 & 20.26 &  0.70058824 & -1.83588235 & 0.4908238754 & 3.370464014 & -1.28619758\\\\\n",
       "\t 1965 & 24.05 & 20.97 &  1.41058824 & -2.07588235 & 1.9897591696 & 4.309287543 & -2.92821522\\\\\n",
       "\t 1966 & 24.89 & 19.43 & -0.12941176 & -1.23588235 & 0.0167474048 & 1.527405190 &  0.15993772\\\\\n",
       "\t 1967 & 25.35 & 19.31 & -0.24941176 & -0.77588235 & 0.0622062284 & 0.601993426 &  0.19351419\\\\\n",
       "\t 1968 & 25.23 & 20.85 &  1.29058824 & -0.89588235 & 1.6656179931 & 0.802605190 & -1.15621522\\\\\n",
       "\t 1969 & 25.06 & 19.54 & -0.01941176 & -1.06588235 & 0.0003768166 & 1.136105190 &  0.02069066\\\\\n",
       "\t 1970 & 27.13 & 20.49 &  0.93058824 &  1.00411765 & 0.8659944637 & 1.008252249 &  0.93442007\\\\\n",
       "\t 1971 & 27.36 & 21.91 &  2.35058824 &  1.23411765 & 5.5252650519 & 1.523046367 &  2.90090242\\\\\n",
       "\t 1972 & 26.65 & 22.51 &  2.95058824 &  0.52411765 & 8.7059709343 & 0.274699308 &  1.54645536\\\\\n",
       "\t 1973 & 27.13 & 18.81 & -0.74941176 &  1.00411765 & 0.5616179931 & 1.008252249 & -0.75249758\\\\\n",
       "\t 1974 & 27.49 & 19.42 & -0.13941176 &  1.36411765 & 0.0194356401 & 1.860816955 & -0.19017405\\\\\n",
       "\t 1975 & 27.08 & 19.10 & -0.45941176 &  0.95411765 & 0.2110591696 & 0.910340484 & -0.43833287\\\\\n",
       "\t 1976 & 27.51 & 18.80 & -0.75941176 &  1.38411765 & 0.5767062284 & 1.915781661 & -1.05111522\\\\\n",
       "\t 1977 & 27.54 & 18.80 & -0.75941176 &  1.41411765 & 0.5767062284 & 1.999728720 & -1.07389758\\\\\n",
       "\t 1978 & 26.21 & 17.57 & -1.98941176 &  0.08411765 & 3.9577591696 & 0.007075779 & -0.16734464\\\\\n",
       "\\end{tabular}\n"
      ],
      "text/markdown": [
       "\n",
       "A data.frame: 17 × 8\n",
       "\n",
       "| Year &lt;dbl&gt; | High &lt;dbl&gt; | Low &lt;dbl&gt; | Low_barLow &lt;dbl&gt; | High_barHigh &lt;dbl&gt; | Low_barLow2 &lt;dbl&gt; | High_barHigh2 &lt;dbl&gt; | LowHigh &lt;dbl&gt; |\n",
       "|---|---|---|---|---|---|---|---|\n",
       "| 1962 | 25.82 | 18.24 | -1.31941176 | -0.30588235 | 1.7408474048 | 0.093564014 |  0.40358478 |\n",
       "| 1963 | 25.35 | 16.50 | -3.05941176 | -0.77588235 | 9.3600003460 | 0.601993426 |  2.37374360 |\n",
       "| 1964 | 24.29 | 20.26 |  0.70058824 | -1.83588235 | 0.4908238754 | 3.370464014 | -1.28619758 |\n",
       "| 1965 | 24.05 | 20.97 |  1.41058824 | -2.07588235 | 1.9897591696 | 4.309287543 | -2.92821522 |\n",
       "| 1966 | 24.89 | 19.43 | -0.12941176 | -1.23588235 | 0.0167474048 | 1.527405190 |  0.15993772 |\n",
       "| 1967 | 25.35 | 19.31 | -0.24941176 | -0.77588235 | 0.0622062284 | 0.601993426 |  0.19351419 |\n",
       "| 1968 | 25.23 | 20.85 |  1.29058824 | -0.89588235 | 1.6656179931 | 0.802605190 | -1.15621522 |\n",
       "| 1969 | 25.06 | 19.54 | -0.01941176 | -1.06588235 | 0.0003768166 | 1.136105190 |  0.02069066 |\n",
       "| 1970 | 27.13 | 20.49 |  0.93058824 |  1.00411765 | 0.8659944637 | 1.008252249 |  0.93442007 |\n",
       "| 1971 | 27.36 | 21.91 |  2.35058824 |  1.23411765 | 5.5252650519 | 1.523046367 |  2.90090242 |\n",
       "| 1972 | 26.65 | 22.51 |  2.95058824 |  0.52411765 | 8.7059709343 | 0.274699308 |  1.54645536 |\n",
       "| 1973 | 27.13 | 18.81 | -0.74941176 |  1.00411765 | 0.5616179931 | 1.008252249 | -0.75249758 |\n",
       "| 1974 | 27.49 | 19.42 | -0.13941176 |  1.36411765 | 0.0194356401 | 1.860816955 | -0.19017405 |\n",
       "| 1975 | 27.08 | 19.10 | -0.45941176 |  0.95411765 | 0.2110591696 | 0.910340484 | -0.43833287 |\n",
       "| 1976 | 27.51 | 18.80 | -0.75941176 |  1.38411765 | 0.5767062284 | 1.915781661 | -1.05111522 |\n",
       "| 1977 | 27.54 | 18.80 | -0.75941176 |  1.41411765 | 0.5767062284 | 1.999728720 | -1.07389758 |\n",
       "| 1978 | 26.21 | 17.57 | -1.98941176 |  0.08411765 | 3.9577591696 | 0.007075779 | -0.16734464 |\n",
       "\n"
      ],
      "text/plain": [
       "   Year High  Low   Low_barLow  High_barHigh Low_barLow2  High_barHigh2\n",
       "1  1962 25.82 18.24 -1.31941176 -0.30588235  1.7408474048 0.093564014  \n",
       "2  1963 25.35 16.50 -3.05941176 -0.77588235  9.3600003460 0.601993426  \n",
       "3  1964 24.29 20.26  0.70058824 -1.83588235  0.4908238754 3.370464014  \n",
       "4  1965 24.05 20.97  1.41058824 -2.07588235  1.9897591696 4.309287543  \n",
       "5  1966 24.89 19.43 -0.12941176 -1.23588235  0.0167474048 1.527405190  \n",
       "6  1967 25.35 19.31 -0.24941176 -0.77588235  0.0622062284 0.601993426  \n",
       "7  1968 25.23 20.85  1.29058824 -0.89588235  1.6656179931 0.802605190  \n",
       "8  1969 25.06 19.54 -0.01941176 -1.06588235  0.0003768166 1.136105190  \n",
       "9  1970 27.13 20.49  0.93058824  1.00411765  0.8659944637 1.008252249  \n",
       "10 1971 27.36 21.91  2.35058824  1.23411765  5.5252650519 1.523046367  \n",
       "11 1972 26.65 22.51  2.95058824  0.52411765  8.7059709343 0.274699308  \n",
       "12 1973 27.13 18.81 -0.74941176  1.00411765  0.5616179931 1.008252249  \n",
       "13 1974 27.49 19.42 -0.13941176  1.36411765  0.0194356401 1.860816955  \n",
       "14 1975 27.08 19.10 -0.45941176  0.95411765  0.2110591696 0.910340484  \n",
       "15 1976 27.51 18.80 -0.75941176  1.38411765  0.5767062284 1.915781661  \n",
       "16 1977 27.54 18.80 -0.75941176  1.41411765  0.5767062284 1.999728720  \n",
       "17 1978 26.21 17.57 -1.98941176  0.08411765  3.9577591696 0.007075779  \n",
       "   LowHigh    \n",
       "1   0.40358478\n",
       "2   2.37374360\n",
       "3  -1.28619758\n",
       "4  -2.92821522\n",
       "5   0.15993772\n",
       "6   0.19351419\n",
       "7  -1.15621522\n",
       "8   0.02069066\n",
       "9   0.93442007\n",
       "10  2.90090242\n",
       "11  1.54645536\n",
       "12 -0.75249758\n",
       "13 -0.19017405\n",
       "14 -0.43833287\n",
       "15 -1.05111522\n",
       "16 -1.07389758\n",
       "17 -0.16734464"
      ]
     },
     "metadata": {},
     "output_type": "display_data"
    }
   ],
   "source": [
    "df_6_LowHigh"
   ]
  },
  {
   "cell_type": "code",
   "execution_count": 110,
   "id": "820d9b6e-d5ef-46f8-9292-171e81a3d8bc",
   "metadata": {},
   "outputs": [
    {
     "data": {
      "text/html": [
       "<style>\n",
       ".dl-inline {width: auto; margin:0; padding: 0}\n",
       ".dl-inline>dt, .dl-inline>dd {float: none; width: auto; display: inline-block}\n",
       ".dl-inline>dt::after {content: \":\\0020\"; padding-right: .5ex}\n",
       ".dl-inline>dt:not(:first-of-type) {padding-left: .5ex}\n",
       "</style><dl class=dl-inline><dt>Year</dt><dd>33490</dd><dt>High</dt><dd>444.14</dd><dt>Low</dt><dd>332.51</dd><dt>Low_barLow</dt><dd>0</dd><dt>High_barHigh</dt><dd>0</dd><dt>Low_barLow2</dt><dd>36.327</dd><dt>High_barHigh2</dt><dd>22.951</dd><dt>LowHigh</dt><dd>-0.511</dd></dl>\n"
      ],
      "text/latex": [
       "\\begin{description*}\n",
       "\\item[Year] 33490\n",
       "\\item[High] 444.14\n",
       "\\item[Low] 332.51\n",
       "\\item[Low\\textbackslash{}\\_barLow] 0\n",
       "\\item[High\\textbackslash{}\\_barHigh] 0\n",
       "\\item[Low\\textbackslash{}\\_barLow2] 36.327\n",
       "\\item[High\\textbackslash{}\\_barHigh2] 22.951\n",
       "\\item[LowHigh] -0.511\n",
       "\\end{description*}\n"
      ],
      "text/markdown": [
       "Year\n",
       ":   33490High\n",
       ":   444.14Low\n",
       ":   332.51Low_barLow\n",
       ":   0High_barHigh\n",
       ":   0Low_barLow2\n",
       ":   36.327High_barHigh2\n",
       ":   22.951LowHigh\n",
       ":   -0.511\n",
       "\n"
      ],
      "text/plain": [
       "         Year          High           Low    Low_barLow  High_barHigh \n",
       "    33490.000       444.140       332.510         0.000         0.000 \n",
       "  Low_barLow2 High_barHigh2       LowHigh \n",
       "       36.327        22.951        -0.511 "
      ]
     },
     "metadata": {},
     "output_type": "display_data"
    }
   ],
   "source": [
    "round(colSums(df_6_LowHigh),3)"
   ]
  },
  {
   "cell_type": "markdown",
   "id": "2391fdca-c1a0-4be9-b4b2-8b51ac931c01",
   "metadata": {},
   "source": [
    "$\\hat{\\beta_1} = \\frac{S_{xy}}{S_{xx}}$\n",
    "\n",
    "$\\hat{\\beta_0} = \\bar{y} - \\hat{\\beta_1}\\bar{x}$"
   ]
  },
  {
   "cell_type": "code",
   "execution_count": 111,
   "id": "2d986101-debb-459d-87f5-7fb04ce1bba9",
   "metadata": {},
   "outputs": [],
   "source": [
    "beta1_LowHigh <- as.numeric(colSums(df_6_LowHigh)[8]/colSums(df_6_LowHigh)[6])\n",
    "beta0_LowHigh <- mean(df_6_LowHigh$High) - beta1_LowHigh *  mean(df_6_LowHigh$Low)"
   ]
  },
  {
   "cell_type": "code",
   "execution_count": 112,
   "id": "739ddd79-2a38-45d8-a390-2773b4ef460c",
   "metadata": {},
   "outputs": [
    {
     "name": "stdout",
     "output_type": "stream",
     "text": [
      "LowHigh hat beta0 =  26.40088\n",
      "LowHigh hat beta1 =  -0.01405959"
     ]
    }
   ],
   "source": [
    "cat(\"LowHigh hat beta0 = \", beta0_LowHigh)\n",
    "cat(\"\\nLowHigh hat beta1 = \", beta1_LowHigh)"
   ]
  },
  {
   "cell_type": "markdown",
   "id": "253fbc7a-a337-45e7-87b3-5f59e7a534c6",
   "metadata": {},
   "source": [
    "$\\text{High} = 26.40088 -0.01406\\text{Low}$"
   ]
  },
  {
   "cell_type": "markdown",
   "id": "e86938fb-eb0b-4cca-9223-aec69f9a513d",
   "metadata": {
    "tags": []
   },
   "source": [
    "R결과와 비교"
   ]
  },
  {
   "cell_type": "code",
   "execution_count": 113,
   "id": "4fe4d137-7eda-4cd1-8a87-cd1a00af6c75",
   "metadata": {},
   "outputs": [
    {
     "data": {
      "text/plain": [
       "\n",
       "Call:\n",
       "lm(formula = df_6$Low ~ df_6$High)\n",
       "\n",
       "Residuals:\n",
       "    Min      1Q  Median      3Q     Max \n",
       "-3.0767 -0.7279 -0.1569  0.9529  2.9623 \n",
       "\n",
       "Coefficients:\n",
       "            Estimate Std. Error t value Pr(>|t|)  \n",
       "(Intercept) 20.14079    8.49368   2.371   0.0315 *\n",
       "df_6$High   -0.02225    0.32478  -0.069   0.9463  \n",
       "---\n",
       "Signif. codes:  0 ‘***’ 0.001 ‘**’ 0.01 ‘*’ 0.05 ‘.’ 0.1 ‘ ’ 1\n",
       "\n",
       "Residual standard error: 1.556 on 15 degrees of freedom\n",
       "Multiple R-squared:  0.0003129,\tAdjusted R-squared:  -0.06633 \n",
       "F-statistic: 0.004695 on 1 and 15 DF,  p-value: 0.9463\n"
      ]
     },
     "metadata": {},
     "output_type": "display_data"
    }
   ],
   "source": [
    "summary(lm(df_6$Low~df_6$High))"
   ]
  },
  {
   "cell_type": "markdown",
   "id": "9b5ab301-064d-4378-9b1a-8585c8061383",
   "metadata": {},
   "source": [
    "R결과 해석 \n",
    "- beta0은 유의미 하지만 beta1이 5%보다 유의확률이 커 유의미하지 않다.\n",
    "- 모형의 설명력은 굉장히 낮았다.\n",
    "- 모형의 p값이 0.05보다 커 유의미하지 않다."
   ]
  },
  {
   "cell_type": "markdown",
   "id": "922c18ad-2323-4957-9aec-339eb2b13585",
   "metadata": {},
   "source": [
    "모형 정리"
   ]
  },
  {
   "cell_type": "markdown",
   "id": "0569bf67-3005-4e24-a335-4d702f66b2df",
   "metadata": {},
   "source": [
    "$\\text{Low} =  35.106961 -0.007892\\text{Year}$ 모형의 의미\n",
    "- $\\beta_0 = 35.106961$: 해당 모형에서 시간에 영향을 받지 않았을때의 아마존 강의 최저 수위가 35.106961m이다.\n",
    "- $\\beta_1 = -0.007892$: 아마존 강의 최저수위가 0.007892m만큼 감소한 것을 의미하는데, 이것은 해마다 아마존 강의 흐르는 물이 감소하는 것을 의미하지만, 0에 가까운 값으로서 영향이 미세해 보인다."
   ]
  },
  {
   "cell_type": "markdown",
   "id": "fd318161-9557-488f-ba08-1d12d1804b6e",
   "metadata": {},
   "source": [
    "$\\text{High} = -330.21235 + 0.18088\\text{Year}$ 모형의 의미\n",
    "- $\\beta_0 = -330.21235$: 해당 모형에서 시간에 영향을 받지 않았을때의 아마존 강의 최고 수위가 -330.21235m이다.\n",
    "- $\\beta_1 = 0.18088$: 아마존 강의 최고수위가 0.18088m만큼 증가된 것을 의미하는데, 이것은 해마다 아마존 강의 흐르는 물이 0.18088m 늘어난 것을 나타낼 수 있다. 이 모형에서도 영향이 크게 끼치지 않는 것 같다."
   ]
  },
  {
   "cell_type": "markdown",
   "id": "6f413e76-6bda-4c51-8bd1-5853bdbbf441",
   "metadata": {},
   "source": [
    "$\\text{High} = 26.40088 -0.01406\\text{Low}$ 모형의 의미\n",
    "- $\\beta_0 = -26.40088$: 해당 모형에서 최저수위의 영향을 받지 않았을 때의 아마존 강의 최고수위가 026.40088m 라는 것을 의미한다.\n",
    "- $\\beta_1 = -0.014061$: 아마존 강의 최고수위가 최저수위가 1m 증가함에 따라 -0.0014061m 만큼 감소함을 의미한다. 아마존 강의 최저수위는 최고수위에 미치는 영향이 미미해 보인다."
   ]
  },
  {
   "cell_type": "markdown",
   "id": "2e0fccea-b55a-46ce-bfab-f90c6c95ccc9",
   "metadata": {},
   "source": [
    "(3) 이 자료를 근거로 우리는 삼림파괴가 아마존 강 수위의 변화를 일으킨다고 할 수 있는가?"
   ]
  },
  {
   "cell_type": "markdown",
   "id": "be0604de-4e5a-4ea6-91ca-e7c4d3a33819",
   "metadata": {},
   "source": [
    "**Answer**"
   ]
  },
  {
   "cell_type": "markdown",
   "id": "7e7e690d-89c2-4311-921c-12aa283f5167",
   "metadata": {},
   "source": [
    "- 1970년대 이후 삼림파괴가 이루어졌다. 구간을 나누어 보지 않는 이상 삼림파괴가 아마존 강 수위의 변화를 일으켰다는 판단은 섣불러 보인다.\n",
    "- 모형만 봐도 시간과 아마존 강의 최고수위 및 최저수위의 영향과 아마존 강의 최저수위 및 최고수위 간의 영향이 거의 없어보인다. 모두 1도 넘지 않았기도 하다.\n",
    "- 따라서 삼림파괴가 아마존 강 수위의 변화를 일으켰다고 2번의 근거로는 할 수 없다."
   ]
  },
  {
   "cell_type": "markdown",
   "id": "06d0afd1-4da5-4756-9daf-72ca81e0b7dd",
   "metadata": {},
   "source": [
    "(4) 아마존강의 최저수위와 최고수위와의 산점도를 1960년대, 1970년대 자료별로 다르게 그리고, 각각의 회귀선을 적합하시오."
   ]
  },
  {
   "cell_type": "markdown",
   "id": "aa446646-a62a-4717-b8fb-099d138fd6b5",
   "metadata": {},
   "source": [
    "**Answer**"
   ]
  },
  {
   "cell_type": "markdown",
   "id": "3cd242fa-7cb8-4918-8ef0-b4bee8b8cd41",
   "metadata": {},
   "source": [
    "1960년대 아마존강의 최저수위와 최고수위와의 산점도"
   ]
  },
  {
   "cell_type": "code",
   "execution_count": 114,
   "id": "1aa1f9c5-e67c-4a28-a261-b5beb67c90e0",
   "metadata": {},
   "outputs": [
    {
     "data": {
      "image/png": "[encoded data removed]",
      "text/plain": [
       "plot without title"
      ]
     },
     "metadata": {
      "image/png": {
       "height": 420,
       "width": 420
      }
     },
     "output_type": "display_data"
    }
   ],
   "source": [
    "plot(df_6$High[df_6$Year<1970]~df_6$Low[df_6$Year<1970],\n",
    "     xlab = \"Low\",\n",
    "     ylab =\"High\",\n",
    "     pch  = 16,\n",
    "     cex  = 1)"
   ]
  },
  {
   "cell_type": "markdown",
   "id": "778f6c18-f2ad-4174-a30d-8aec78be976b",
   "metadata": {},
   "source": [
    "1960년대 아마존강의 최저수위와 최고수위와의 회귀선"
   ]
  },
  {
   "cell_type": "code",
   "execution_count": 115,
   "id": "5bd1195b-c2e7-4f97-ba94-fa6b18d0286f",
   "metadata": {},
   "outputs": [],
   "source": [
    "df_6_1960 <- df_6[df_6$Year<1970,]"
   ]
  },
  {
   "cell_type": "code",
   "execution_count": 116,
   "id": "2df982d1-00fd-4ad9-830c-5b2db269f6b9",
   "metadata": {},
   "outputs": [],
   "source": [
    "df_6_1960$Low_barLow = df_6_1960$Low - mean(df_6_1960$Low)\n",
    "df_6_1960$High_barHigh = df_6_1960$High - mean(df_6_1960$High) "
   ]
  },
  {
   "cell_type": "markdown",
   "id": "95098e58-4c80-42c1-b666-8c4e4536bb55",
   "metadata": {},
   "source": [
    "- $S_{xx}, S_{yy},S_{xy}$를 구해주기 위해 $x_i - \\bar{x}, y_i - \\bar{y}$를 구했다."
   ]
  },
  {
   "cell_type": "code",
   "execution_count": 117,
   "id": "5cde5ccc-dc93-4716-86cb-6c53e0283986",
   "metadata": {},
   "outputs": [],
   "source": [
    "df_6_1960$Low_barLow2 <- df_6_1960$Low_barLow^2\n",
    "df_6_1960$High_barHigh2 <- df_6_1960$High_barHigh^2\n",
    "df_6_1960$LowHigh <-df_6_1960$Low_barLow * df_6_1960$High_barHigh"
   ]
  },
  {
   "cell_type": "markdown",
   "id": "ed7547a2-e7d9-49d7-803f-485ca886229e",
   "metadata": {},
   "source": [
    "- $S_{xx}, S_{yy},S_{xy}$를 구해주었다."
   ]
  },
  {
   "cell_type": "code",
   "execution_count": 118,
   "id": "373c2f5c-0d23-4545-a6ee-c4d95bfc9843",
   "metadata": {},
   "outputs": [
    {
     "data": {
      "text/html": [
       "<style>\n",
       ".dl-inline {width: auto; margin:0; padding: 0}\n",
       ".dl-inline>dt, .dl-inline>dd {float: none; width: auto; display: inline-block}\n",
       ".dl-inline>dt::after {content: \":\\0020\"; padding-right: .5ex}\n",
       ".dl-inline>dt:not(:first-of-type) {padding-left: .5ex}\n",
       "</style><dl class=dl-inline><dt>Year</dt><dd>15724</dd><dt>High</dt><dd>200.04</dd><dt>Low</dt><dd>155.1</dd><dt>Low_barLow</dt><dd>0</dd><dt>High_barHigh</dt><dd>0</dd><dt>Low_barLow2</dt><dd>15.09</dd><dt>High_barHigh2</dt><dd>2.392</dd><dt>LowHigh</dt><dd>-3.761</dd></dl>\n"
      ],
      "text/latex": [
       "\\begin{description*}\n",
       "\\item[Year] 15724\n",
       "\\item[High] 200.04\n",
       "\\item[Low] 155.1\n",
       "\\item[Low\\textbackslash{}\\_barLow] 0\n",
       "\\item[High\\textbackslash{}\\_barHigh] 0\n",
       "\\item[Low\\textbackslash{}\\_barLow2] 15.09\n",
       "\\item[High\\textbackslash{}\\_barHigh2] 2.392\n",
       "\\item[LowHigh] -3.761\n",
       "\\end{description*}\n"
      ],
      "text/markdown": [
       "Year\n",
       ":   15724High\n",
       ":   200.04Low\n",
       ":   155.1Low_barLow\n",
       ":   0High_barHigh\n",
       ":   0Low_barLow2\n",
       ":   15.09High_barHigh2\n",
       ":   2.392LowHigh\n",
       ":   -3.761\n",
       "\n"
      ],
      "text/plain": [
       "         Year          High           Low    Low_barLow  High_barHigh \n",
       "    15724.000       200.040       155.100         0.000         0.000 \n",
       "  Low_barLow2 High_barHigh2       LowHigh \n",
       "       15.090         2.392        -3.761 "
      ]
     },
     "metadata": {},
     "output_type": "display_data"
    }
   ],
   "source": [
    "round(colSums(df_6_1960),3)"
   ]
  },
  {
   "cell_type": "markdown",
   "id": "665a96bf-7108-4bab-923c-fb428c63c95c",
   "metadata": {},
   "source": [
    "$\\hat{\\beta_1} = \\frac{S_{xy}}{S_{xx}}$\n",
    "\n",
    "$\\hat{\\beta_0} = \\bar{y} - \\hat{\\beta_1}\\bar{x}$"
   ]
  },
  {
   "cell_type": "code",
   "execution_count": 119,
   "id": "abc1c76e-bc67-42b7-b4f3-7937cd9bd9fb",
   "metadata": {},
   "outputs": [
    {
     "data": {
      "text/html": [
       "<table class=\"dataframe\">\n",
       "<caption>A data.frame: 8 × 8</caption>\n",
       "<thead>\n",
       "\t<tr><th></th><th scope=col>Year</th><th scope=col>High</th><th scope=col>Low</th><th scope=col>Low_barLow</th><th scope=col>High_barHigh</th><th scope=col>Low_barLow2</th><th scope=col>High_barHigh2</th><th scope=col>LowHigh</th></tr>\n",
       "\t<tr><th></th><th scope=col>&lt;dbl&gt;</th><th scope=col>&lt;dbl&gt;</th><th scope=col>&lt;dbl&gt;</th><th scope=col>&lt;dbl&gt;</th><th scope=col>&lt;dbl&gt;</th><th scope=col>&lt;dbl&gt;</th><th scope=col>&lt;dbl&gt;</th><th scope=col>&lt;dbl&gt;</th></tr>\n",
       "</thead>\n",
       "<tbody>\n",
       "\t<tr><th scope=row>1</th><td>1962</td><td>25.82</td><td>18.24</td><td>-1.1475</td><td> 0.815</td><td>1.31675625</td><td>0.664225</td><td>-0.9352125</td></tr>\n",
       "\t<tr><th scope=row>2</th><td>1963</td><td>25.35</td><td>16.50</td><td>-2.8875</td><td> 0.345</td><td>8.33765625</td><td>0.119025</td><td>-0.9961875</td></tr>\n",
       "\t<tr><th scope=row>3</th><td>1964</td><td>24.29</td><td>20.26</td><td> 0.8725</td><td>-0.715</td><td>0.76125625</td><td>0.511225</td><td>-0.6238375</td></tr>\n",
       "\t<tr><th scope=row>4</th><td>1965</td><td>24.05</td><td>20.97</td><td> 1.5825</td><td>-0.955</td><td>2.50430625</td><td>0.912025</td><td>-1.5112875</td></tr>\n",
       "\t<tr><th scope=row>5</th><td>1966</td><td>24.89</td><td>19.43</td><td> 0.0425</td><td>-0.115</td><td>0.00180625</td><td>0.013225</td><td>-0.0048875</td></tr>\n",
       "\t<tr><th scope=row>6</th><td>1967</td><td>25.35</td><td>19.31</td><td>-0.0775</td><td> 0.345</td><td>0.00600625</td><td>0.119025</td><td>-0.0267375</td></tr>\n",
       "\t<tr><th scope=row>7</th><td>1968</td><td>25.23</td><td>20.85</td><td> 1.4625</td><td> 0.225</td><td>2.13890625</td><td>0.050625</td><td> 0.3290625</td></tr>\n",
       "\t<tr><th scope=row>8</th><td>1969</td><td>25.06</td><td>19.54</td><td> 0.1525</td><td> 0.055</td><td>0.02325625</td><td>0.003025</td><td> 0.0083875</td></tr>\n",
       "</tbody>\n",
       "</table>\n"
      ],
      "text/latex": [
       "A data.frame: 8 × 8\n",
       "\\begin{tabular}{r|llllllll}\n",
       "  & Year & High & Low & Low\\_barLow & High\\_barHigh & Low\\_barLow2 & High\\_barHigh2 & LowHigh\\\\\n",
       "  & <dbl> & <dbl> & <dbl> & <dbl> & <dbl> & <dbl> & <dbl> & <dbl>\\\\\n",
       "\\hline\n",
       "\t1 & 1962 & 25.82 & 18.24 & -1.1475 &  0.815 & 1.31675625 & 0.664225 & -0.9352125\\\\\n",
       "\t2 & 1963 & 25.35 & 16.50 & -2.8875 &  0.345 & 8.33765625 & 0.119025 & -0.9961875\\\\\n",
       "\t3 & 1964 & 24.29 & 20.26 &  0.8725 & -0.715 & 0.76125625 & 0.511225 & -0.6238375\\\\\n",
       "\t4 & 1965 & 24.05 & 20.97 &  1.5825 & -0.955 & 2.50430625 & 0.912025 & -1.5112875\\\\\n",
       "\t5 & 1966 & 24.89 & 19.43 &  0.0425 & -0.115 & 0.00180625 & 0.013225 & -0.0048875\\\\\n",
       "\t6 & 1967 & 25.35 & 19.31 & -0.0775 &  0.345 & 0.00600625 & 0.119025 & -0.0267375\\\\\n",
       "\t7 & 1968 & 25.23 & 20.85 &  1.4625 &  0.225 & 2.13890625 & 0.050625 &  0.3290625\\\\\n",
       "\t8 & 1969 & 25.06 & 19.54 &  0.1525 &  0.055 & 0.02325625 & 0.003025 &  0.0083875\\\\\n",
       "\\end{tabular}\n"
      ],
      "text/markdown": [
       "\n",
       "A data.frame: 8 × 8\n",
       "\n",
       "| <!--/--> | Year &lt;dbl&gt; | High &lt;dbl&gt; | Low &lt;dbl&gt; | Low_barLow &lt;dbl&gt; | High_barHigh &lt;dbl&gt; | Low_barLow2 &lt;dbl&gt; | High_barHigh2 &lt;dbl&gt; | LowHigh &lt;dbl&gt; |\n",
       "|---|---|---|---|---|---|---|---|---|\n",
       "| 1 | 1962 | 25.82 | 18.24 | -1.1475 |  0.815 | 1.31675625 | 0.664225 | -0.9352125 |\n",
       "| 2 | 1963 | 25.35 | 16.50 | -2.8875 |  0.345 | 8.33765625 | 0.119025 | -0.9961875 |\n",
       "| 3 | 1964 | 24.29 | 20.26 |  0.8725 | -0.715 | 0.76125625 | 0.511225 | -0.6238375 |\n",
       "| 4 | 1965 | 24.05 | 20.97 |  1.5825 | -0.955 | 2.50430625 | 0.912025 | -1.5112875 |\n",
       "| 5 | 1966 | 24.89 | 19.43 |  0.0425 | -0.115 | 0.00180625 | 0.013225 | -0.0048875 |\n",
       "| 6 | 1967 | 25.35 | 19.31 | -0.0775 |  0.345 | 0.00600625 | 0.119025 | -0.0267375 |\n",
       "| 7 | 1968 | 25.23 | 20.85 |  1.4625 |  0.225 | 2.13890625 | 0.050625 |  0.3290625 |\n",
       "| 8 | 1969 | 25.06 | 19.54 |  0.1525 |  0.055 | 0.02325625 | 0.003025 |  0.0083875 |\n",
       "\n"
      ],
      "text/plain": [
       "  Year High  Low   Low_barLow High_barHigh Low_barLow2 High_barHigh2 LowHigh   \n",
       "1 1962 25.82 18.24 -1.1475     0.815       1.31675625  0.664225      -0.9352125\n",
       "2 1963 25.35 16.50 -2.8875     0.345       8.33765625  0.119025      -0.9961875\n",
       "3 1964 24.29 20.26  0.8725    -0.715       0.76125625  0.511225      -0.6238375\n",
       "4 1965 24.05 20.97  1.5825    -0.955       2.50430625  0.912025      -1.5112875\n",
       "5 1966 24.89 19.43  0.0425    -0.115       0.00180625  0.013225      -0.0048875\n",
       "6 1967 25.35 19.31 -0.0775     0.345       0.00600625  0.119025      -0.0267375\n",
       "7 1968 25.23 20.85  1.4625     0.225       2.13890625  0.050625       0.3290625\n",
       "8 1969 25.06 19.54  0.1525     0.055       0.02325625  0.003025       0.0083875"
      ]
     },
     "metadata": {},
     "output_type": "display_data"
    }
   ],
   "source": [
    "df_6_1960"
   ]
  },
  {
   "cell_type": "code",
   "execution_count": 120,
   "id": "545a051e-87e7-4e0f-9e84-72b4576e1d6d",
   "metadata": {},
   "outputs": [],
   "source": [
    "beta1_1960 <- as.numeric(colSums(df_6_1960)[8]/colSums(df_6_1960)[6])\n",
    "beta0_1960 <- mean(df_6_1960$High) - beta1_1960 *  mean(df_6_1960$Low)"
   ]
  },
  {
   "cell_type": "code",
   "execution_count": 121,
   "id": "4a52838d-7310-4a91-a7fe-57e472c3a3cf",
   "metadata": {},
   "outputs": [
    {
     "name": "stdout",
     "output_type": "stream",
     "text": [
      "hat beta0 1960 =  29.8367\n",
      "hat beta1 1960 =  -0.2492"
     ]
    }
   ],
   "source": [
    "cat(\"hat beta0 1960 = \", round(beta0_1960,4))\n",
    "cat(\"\\nhat beta1 1960 = \", round(beta1_1960,4))"
   ]
  },
  {
   "cell_type": "code",
   "execution_count": 122,
   "id": "5ddfd278-7b7b-4d72-8015-bd96b2b69ece",
   "metadata": {},
   "outputs": [
    {
     "name": "stdout",
     "output_type": "stream",
     "text": [
      "회귀선은 다음과 같았다. 1960 High =  29.8367  +  -0.2492 Low"
     ]
    }
   ],
   "source": [
    "cat(\"회귀선은 다음과 같았다. 1960 High = \",round(beta0_1960,4),\" + \", round(beta1_1960,4),\"Low\")"
   ]
  },
  {
   "cell_type": "markdown",
   "id": "8220b7e7-b31d-476d-a371-0a9da98c2d68",
   "metadata": {},
   "source": [
    "R결과 비교"
   ]
  },
  {
   "cell_type": "code",
   "execution_count": 123,
   "id": "95dbc966-d63c-403f-8e86-d46673ea4b10",
   "metadata": {},
   "outputs": [
    {
     "data": {
      "text/plain": [
       "\n",
       "Call:\n",
       "lm(formula = df_6_1960$High ~ df_6_1960$Low)\n",
       "\n",
       "Residuals:\n",
       "    Min      1Q  Median      3Q     Max \n",
       "-0.5606 -0.4053 -0.0057  0.3765  0.5895 \n",
       "\n",
       "Coefficients:\n",
       "              Estimate Std. Error t value Pr(>|t|)    \n",
       "(Intercept)    29.8367     2.4640  12.109 1.93e-05 ***\n",
       "df_6_1960$Low  -0.2492     0.1268  -1.966   0.0969 .  \n",
       "---\n",
       "Signif. codes:  0 ‘***’ 0.001 ‘**’ 0.01 ‘*’ 0.05 ‘.’ 0.1 ‘ ’ 1\n",
       "\n",
       "Residual standard error: 0.4925 on 6 degrees of freedom\n",
       "Multiple R-squared:  0.3918,\tAdjusted R-squared:  0.2904 \n",
       "F-statistic: 3.864 on 1 and 6 DF,  p-value: 0.09691\n"
      ]
     },
     "metadata": {},
     "output_type": "display_data"
    }
   ],
   "source": [
    "summary(lm(df_6_1960$High~df_6_1960$Low))"
   ]
  },
  {
   "cell_type": "code",
   "execution_count": 124,
   "id": "87678b47-742e-4842-a89f-e8fafea250b7",
   "metadata": {},
   "outputs": [],
   "source": [
    "SST_1960 = sum((df_6_1960$High - mean(df_6_1960$High))^2)"
   ]
  },
  {
   "cell_type": "code",
   "execution_count": 125,
   "id": "6e37ec40-8c2a-4231-9ca3-765c2e640cc8",
   "metadata": {},
   "outputs": [],
   "source": [
    "SSR_1960 = sum( ( (29.8367  +  -0.2492*df_6_1960$Low)-mean(df_6_1960$High) )^2 )"
   ]
  },
  {
   "cell_type": "code",
   "execution_count": 126,
   "id": "71228e8a-541f-4b28-9193-e294510dbad2",
   "metadata": {},
   "outputs": [],
   "source": [
    "SSE_1960 = sum( ( df_6_1960$High-(29.8367  +  -0.2492*df_6_1960$Low))^2 )"
   ]
  },
  {
   "cell_type": "code",
   "execution_count": 127,
   "id": "dd15bff2-22a2-4b71-921d-3abecaa87f2f",
   "metadata": {},
   "outputs": [
    {
     "name": "stdout",
     "output_type": "stream",
     "text": [
      "1960 SST =  2.3924 , df = 7\n",
      "1960 SSR =  0.9370965 , df = 1\n",
      "1960 SSE =  1.455164 , df = 6"
     ]
    }
   ],
   "source": [
    "cat(\"1960 SST = \", SST_1960,\", df = 7\")\n",
    "cat(\"\\n1960 SSR = \", SSR_1960,\", df = 1\")\n",
    "cat(\"\\n1960 SSE = \", SSE_1960, \", df = 6\")"
   ]
  },
  {
   "cell_type": "markdown",
   "id": "bccdd114-6201-4055-a319-734a8273ec70",
   "metadata": {},
   "source": [
    "R결과 비교"
   ]
  },
  {
   "cell_type": "code",
   "execution_count": 128,
   "id": "53bd87ce-ed65-4f71-a389-66baec368572",
   "metadata": {},
   "outputs": [
    {
     "data": {
      "text/html": [
       "<table class=\"dataframe\">\n",
       "<caption>A anova: 2 × 5</caption>\n",
       "<thead>\n",
       "\t<tr><th></th><th scope=col>Df</th><th scope=col>Sum Sq</th><th scope=col>Mean Sq</th><th scope=col>F value</th><th scope=col>Pr(&gt;F)</th></tr>\n",
       "\t<tr><th></th><th scope=col>&lt;int&gt;</th><th scope=col>&lt;dbl&gt;</th><th scope=col>&lt;dbl&gt;</th><th scope=col>&lt;dbl&gt;</th><th scope=col>&lt;dbl&gt;</th></tr>\n",
       "</thead>\n",
       "<tbody>\n",
       "\t<tr><th scope=row>df_6_1960$Low</th><td>1</td><td>0.9372373</td><td>0.9372373</td><td>3.864464</td><td>0.09690958</td></tr>\n",
       "\t<tr><th scope=row>Residuals</th><td>6</td><td>1.4551627</td><td>0.2425271</td><td>      NA</td><td>        NA</td></tr>\n",
       "</tbody>\n",
       "</table>\n"
      ],
      "text/latex": [
       "A anova: 2 × 5\n",
       "\\begin{tabular}{r|lllll}\n",
       "  & Df & Sum Sq & Mean Sq & F value & Pr(>F)\\\\\n",
       "  & <int> & <dbl> & <dbl> & <dbl> & <dbl>\\\\\n",
       "\\hline\n",
       "\tdf\\_6\\_1960\\$Low & 1 & 0.9372373 & 0.9372373 & 3.864464 & 0.09690958\\\\\n",
       "\tResiduals & 6 & 1.4551627 & 0.2425271 &       NA &         NA\\\\\n",
       "\\end{tabular}\n"
      ],
      "text/markdown": [
       "\n",
       "A anova: 2 × 5\n",
       "\n",
       "| <!--/--> | Df &lt;int&gt; | Sum Sq &lt;dbl&gt; | Mean Sq &lt;dbl&gt; | F value &lt;dbl&gt; | Pr(&gt;F) &lt;dbl&gt; |\n",
       "|---|---|---|---|---|---|\n",
       "| df_6_1960$Low | 1 | 0.9372373 | 0.9372373 | 3.864464 | 0.09690958 |\n",
       "| Residuals | 6 | 1.4551627 | 0.2425271 |       NA |         NA |\n",
       "\n"
      ],
      "text/plain": [
       "              Df Sum Sq    Mean Sq   F value  Pr(>F)    \n",
       "df_6_1960$Low 1  0.9372373 0.9372373 3.864464 0.09690958\n",
       "Residuals     6  1.4551627 0.2425271       NA         NA"
      ]
     },
     "metadata": {},
     "output_type": "display_data"
    }
   ],
   "source": [
    "anova(lm(df_6_1960$High~df_6_1960$Low))"
   ]
  },
  {
   "cell_type": "markdown",
   "id": "86369f4e-6df7-483e-8ecf-f403d5556331",
   "metadata": {},
   "source": [
    "1970년대 아마존강의 최저수위와 최고수위와의 산점도"
   ]
  },
  {
   "cell_type": "code",
   "execution_count": 129,
   "id": "7230d207-71c3-49f5-bc01-dedd76259058",
   "metadata": {},
   "outputs": [
    {
     "data": {
      "image/png": "[encoded data removed]",
      "text/plain": [
       "plot without title"
      ]
     },
     "metadata": {
      "image/png": {
       "height": 420,
       "width": 420
      }
     },
     "output_type": "display_data"
    }
   ],
   "source": [
    "plot(df_6$High[df_6$Year>=1970]~df_6$Low[df_6$Year>=1970],\n",
    "     xlab = \"Low\",\n",
    "     ylab =\"High\",\n",
    "     pch  = 16,\n",
    "     cex  = 1)"
   ]
  },
  {
   "cell_type": "markdown",
   "id": "fabcf2f2-1c6b-42b9-a75b-3609be2bed28",
   "metadata": {},
   "source": [
    "1970년대 아마존강의 최저수위와 최고수위와의 회귀선"
   ]
  },
  {
   "cell_type": "code",
   "execution_count": 130,
   "id": "1c1ece89-d880-4361-b44c-be103d248b37",
   "metadata": {},
   "outputs": [],
   "source": [
    "df_6_1970 <- df_6[df_6$Year>=1970,]"
   ]
  },
  {
   "cell_type": "code",
   "execution_count": 131,
   "id": "f3c91719-f127-4e9c-9992-98363ba1b11e",
   "metadata": {},
   "outputs": [],
   "source": [
    "df_6_1970$Low_barLow = df_6_1970$Low - mean(df_6_1970$Low)\n",
    "df_6_1970$High_barHigh = df_6_1970$High - mean(df_6_1970$High) "
   ]
  },
  {
   "cell_type": "markdown",
   "id": "b310ed0e-2d60-4dfd-802b-f5fd95bb87e0",
   "metadata": {},
   "source": [
    "- $S_{xx}, S_{yy},S_{xy}$를 구해주기 위해 $x_i - \\bar{x}, y_i - \\bar{y}$를 구했다."
   ]
  },
  {
   "cell_type": "code",
   "execution_count": 132,
   "id": "1594408e-5d1b-444b-897c-7816d0a36a43",
   "metadata": {},
   "outputs": [],
   "source": [
    "df_6_1970$Low_barLow2 <- df_6_1970$Low_barLow^2\n",
    "df_6_1970$High_barHigh2 <- df_6_1970$High_barHigh^2\n",
    "df_6_1970$LowHigh <-df_6_1970$Low_barLow * df_6_1970$High_barHigh"
   ]
  },
  {
   "cell_type": "markdown",
   "id": "233311cf-4c87-4329-a3c7-3256266b7336",
   "metadata": {},
   "source": [
    "- $S_{xx}, S_{yy},S_{xy}$를 구해주었다."
   ]
  },
  {
   "cell_type": "code",
   "execution_count": 133,
   "id": "7d7c829a-3d87-4b89-bf91-8ddeb92237a6",
   "metadata": {},
   "outputs": [
    {
     "data": {
      "text/html": [
       "<style>\n",
       ".dl-inline {width: auto; margin:0; padding: 0}\n",
       ".dl-inline>dt, .dl-inline>dd {float: none; width: auto; display: inline-block}\n",
       ".dl-inline>dt::after {content: \":\\0020\"; padding-right: .5ex}\n",
       ".dl-inline>dt:not(:first-of-type) {padding-left: .5ex}\n",
       "</style><dl class=dl-inline><dt>Year</dt><dd>17766</dd><dt>High</dt><dd>244.1</dd><dt>Low</dt><dd>177.41</dd><dt>Low_barLow</dt><dd>0</dd><dt>High_barHigh</dt><dd>0</dd><dt>Low_barLow2</dt><dd>20.79</dd><dt>High_barHigh2</dt><dd>1.574</dd><dt>LowHigh</dt><dd>0.338</dd></dl>\n"
      ],
      "text/latex": [
       "\\begin{description*}\n",
       "\\item[Year] 17766\n",
       "\\item[High] 244.1\n",
       "\\item[Low] 177.41\n",
       "\\item[Low\\textbackslash{}\\_barLow] 0\n",
       "\\item[High\\textbackslash{}\\_barHigh] 0\n",
       "\\item[Low\\textbackslash{}\\_barLow2] 20.79\n",
       "\\item[High\\textbackslash{}\\_barHigh2] 1.574\n",
       "\\item[LowHigh] 0.338\n",
       "\\end{description*}\n"
      ],
      "text/markdown": [
       "Year\n",
       ":   17766High\n",
       ":   244.1Low\n",
       ":   177.41Low_barLow\n",
       ":   0High_barHigh\n",
       ":   0Low_barLow2\n",
       ":   20.79High_barHigh2\n",
       ":   1.574LowHigh\n",
       ":   0.338\n",
       "\n"
      ],
      "text/plain": [
       "         Year          High           Low    Low_barLow  High_barHigh \n",
       "    17766.000       244.100       177.410         0.000         0.000 \n",
       "  Low_barLow2 High_barHigh2       LowHigh \n",
       "       20.790         1.574         0.338 "
      ]
     },
     "metadata": {},
     "output_type": "display_data"
    }
   ],
   "source": [
    "round(colSums(df_6_1970),3)"
   ]
  },
  {
   "cell_type": "markdown",
   "id": "1b066141-519c-47e2-9854-9a6556bd795a",
   "metadata": {},
   "source": [
    "$\\hat{\\beta_1} = \\frac{S_{xy}}{S_{xx}}$\n",
    "\n",
    "$\\hat{\\beta_0} = \\bar{y} - \\hat{\\beta_1}\\bar{x}$"
   ]
  },
  {
   "cell_type": "code",
   "execution_count": 134,
   "id": "1de7afe3-b4f6-4a33-9ee3-8829b4d93b3d",
   "metadata": {},
   "outputs": [
    {
     "data": {
      "text/html": [
       "<table class=\"dataframe\">\n",
       "<caption>A data.frame: 9 × 8</caption>\n",
       "<thead>\n",
       "\t<tr><th></th><th scope=col>Year</th><th scope=col>High</th><th scope=col>Low</th><th scope=col>Low_barLow</th><th scope=col>High_barHigh</th><th scope=col>Low_barLow2</th><th scope=col>High_barHigh2</th><th scope=col>LowHigh</th></tr>\n",
       "\t<tr><th></th><th scope=col>&lt;dbl&gt;</th><th scope=col>&lt;dbl&gt;</th><th scope=col>&lt;dbl&gt;</th><th scope=col>&lt;dbl&gt;</th><th scope=col>&lt;dbl&gt;</th><th scope=col>&lt;dbl&gt;</th><th scope=col>&lt;dbl&gt;</th><th scope=col>&lt;dbl&gt;</th></tr>\n",
       "</thead>\n",
       "<tbody>\n",
       "\t<tr><th scope=row>9</th><td>1970</td><td>27.13</td><td>20.49</td><td> 0.7777778</td><td> 0.007777778</td><td>0.60493827</td><td>6.049383e-05</td><td> 0.006049383</td></tr>\n",
       "\t<tr><th scope=row>10</th><td>1971</td><td>27.36</td><td>21.91</td><td> 2.1977778</td><td> 0.237777778</td><td>4.83022716</td><td>5.653827e-02</td><td> 0.522582716</td></tr>\n",
       "\t<tr><th scope=row>11</th><td>1972</td><td>26.65</td><td>22.51</td><td> 2.7977778</td><td>-0.472222222</td><td>7.82756049</td><td>2.229938e-01</td><td>-1.321172840</td></tr>\n",
       "\t<tr><th scope=row>12</th><td>1973</td><td>27.13</td><td>18.81</td><td>-0.9022222</td><td> 0.007777778</td><td>0.81400494</td><td>6.049383e-05</td><td>-0.007017284</td></tr>\n",
       "\t<tr><th scope=row>13</th><td>1974</td><td>27.49</td><td>19.42</td><td>-0.2922222</td><td> 0.367777778</td><td>0.08539383</td><td>1.352605e-01</td><td>-0.107472840</td></tr>\n",
       "\t<tr><th scope=row>14</th><td>1975</td><td>27.08</td><td>19.10</td><td>-0.6122222</td><td>-0.042222222</td><td>0.37481605</td><td>1.782716e-03</td><td> 0.025849383</td></tr>\n",
       "\t<tr><th scope=row>15</th><td>1976</td><td>27.51</td><td>18.80</td><td>-0.9122222</td><td> 0.387777778</td><td>0.83214938</td><td>1.503716e-01</td><td>-0.353739506</td></tr>\n",
       "\t<tr><th scope=row>16</th><td>1977</td><td>27.54</td><td>18.80</td><td>-0.9122222</td><td> 0.417777778</td><td>0.83214938</td><td>1.745383e-01</td><td>-0.381106173</td></tr>\n",
       "\t<tr><th scope=row>17</th><td>1978</td><td>26.21</td><td>17.57</td><td>-2.1422222</td><td>-0.912222222</td><td>4.58911605</td><td>8.321494e-01</td><td> 1.954182716</td></tr>\n",
       "</tbody>\n",
       "</table>\n"
      ],
      "text/latex": [
       "A data.frame: 9 × 8\n",
       "\\begin{tabular}{r|llllllll}\n",
       "  & Year & High & Low & Low\\_barLow & High\\_barHigh & Low\\_barLow2 & High\\_barHigh2 & LowHigh\\\\\n",
       "  & <dbl> & <dbl> & <dbl> & <dbl> & <dbl> & <dbl> & <dbl> & <dbl>\\\\\n",
       "\\hline\n",
       "\t9 & 1970 & 27.13 & 20.49 &  0.7777778 &  0.007777778 & 0.60493827 & 6.049383e-05 &  0.006049383\\\\\n",
       "\t10 & 1971 & 27.36 & 21.91 &  2.1977778 &  0.237777778 & 4.83022716 & 5.653827e-02 &  0.522582716\\\\\n",
       "\t11 & 1972 & 26.65 & 22.51 &  2.7977778 & -0.472222222 & 7.82756049 & 2.229938e-01 & -1.321172840\\\\\n",
       "\t12 & 1973 & 27.13 & 18.81 & -0.9022222 &  0.007777778 & 0.81400494 & 6.049383e-05 & -0.007017284\\\\\n",
       "\t13 & 1974 & 27.49 & 19.42 & -0.2922222 &  0.367777778 & 0.08539383 & 1.352605e-01 & -0.107472840\\\\\n",
       "\t14 & 1975 & 27.08 & 19.10 & -0.6122222 & -0.042222222 & 0.37481605 & 1.782716e-03 &  0.025849383\\\\\n",
       "\t15 & 1976 & 27.51 & 18.80 & -0.9122222 &  0.387777778 & 0.83214938 & 1.503716e-01 & -0.353739506\\\\\n",
       "\t16 & 1977 & 27.54 & 18.80 & -0.9122222 &  0.417777778 & 0.83214938 & 1.745383e-01 & -0.381106173\\\\\n",
       "\t17 & 1978 & 26.21 & 17.57 & -2.1422222 & -0.912222222 & 4.58911605 & 8.321494e-01 &  1.954182716\\\\\n",
       "\\end{tabular}\n"
      ],
      "text/markdown": [
       "\n",
       "A data.frame: 9 × 8\n",
       "\n",
       "| <!--/--> | Year &lt;dbl&gt; | High &lt;dbl&gt; | Low &lt;dbl&gt; | Low_barLow &lt;dbl&gt; | High_barHigh &lt;dbl&gt; | Low_barLow2 &lt;dbl&gt; | High_barHigh2 &lt;dbl&gt; | LowHigh &lt;dbl&gt; |\n",
       "|---|---|---|---|---|---|---|---|---|\n",
       "| 9 | 1970 | 27.13 | 20.49 |  0.7777778 |  0.007777778 | 0.60493827 | 6.049383e-05 |  0.006049383 |\n",
       "| 10 | 1971 | 27.36 | 21.91 |  2.1977778 |  0.237777778 | 4.83022716 | 5.653827e-02 |  0.522582716 |\n",
       "| 11 | 1972 | 26.65 | 22.51 |  2.7977778 | -0.472222222 | 7.82756049 | 2.229938e-01 | -1.321172840 |\n",
       "| 12 | 1973 | 27.13 | 18.81 | -0.9022222 |  0.007777778 | 0.81400494 | 6.049383e-05 | -0.007017284 |\n",
       "| 13 | 1974 | 27.49 | 19.42 | -0.2922222 |  0.367777778 | 0.08539383 | 1.352605e-01 | -0.107472840 |\n",
       "| 14 | 1975 | 27.08 | 19.10 | -0.6122222 | -0.042222222 | 0.37481605 | 1.782716e-03 |  0.025849383 |\n",
       "| 15 | 1976 | 27.51 | 18.80 | -0.9122222 |  0.387777778 | 0.83214938 | 1.503716e-01 | -0.353739506 |\n",
       "| 16 | 1977 | 27.54 | 18.80 | -0.9122222 |  0.417777778 | 0.83214938 | 1.745383e-01 | -0.381106173 |\n",
       "| 17 | 1978 | 26.21 | 17.57 | -2.1422222 | -0.912222222 | 4.58911605 | 8.321494e-01 |  1.954182716 |\n",
       "\n"
      ],
      "text/plain": [
       "   Year High  Low   Low_barLow High_barHigh Low_barLow2 High_barHigh2\n",
       "9  1970 27.13 20.49  0.7777778  0.007777778 0.60493827  6.049383e-05 \n",
       "10 1971 27.36 21.91  2.1977778  0.237777778 4.83022716  5.653827e-02 \n",
       "11 1972 26.65 22.51  2.7977778 -0.472222222 7.82756049  2.229938e-01 \n",
       "12 1973 27.13 18.81 -0.9022222  0.007777778 0.81400494  6.049383e-05 \n",
       "13 1974 27.49 19.42 -0.2922222  0.367777778 0.08539383  1.352605e-01 \n",
       "14 1975 27.08 19.10 -0.6122222 -0.042222222 0.37481605  1.782716e-03 \n",
       "15 1976 27.51 18.80 -0.9122222  0.387777778 0.83214938  1.503716e-01 \n",
       "16 1977 27.54 18.80 -0.9122222  0.417777778 0.83214938  1.745383e-01 \n",
       "17 1978 26.21 17.57 -2.1422222 -0.912222222 4.58911605  8.321494e-01 \n",
       "   LowHigh     \n",
       "9   0.006049383\n",
       "10  0.522582716\n",
       "11 -1.321172840\n",
       "12 -0.007017284\n",
       "13 -0.107472840\n",
       "14  0.025849383\n",
       "15 -0.353739506\n",
       "16 -0.381106173\n",
       "17  1.954182716"
      ]
     },
     "metadata": {},
     "output_type": "display_data"
    }
   ],
   "source": [
    "df_6_1970"
   ]
  },
  {
   "cell_type": "code",
   "execution_count": 135,
   "id": "2eb36a99-a712-48ab-a749-74d225018d4f",
   "metadata": {},
   "outputs": [],
   "source": [
    "beta1_1970 <- as.numeric(colSums(df_6_1970)[8]/colSums(df_6_1970)[6])\n",
    "beta0_1970 <- mean(df_6_1970$High) - beta1_1970 *  mean(df_6_1970$Low)"
   ]
  },
  {
   "cell_type": "code",
   "execution_count": 136,
   "id": "9861b666-ceb0-4099-b74e-4140c39e82bc",
   "metadata": {},
   "outputs": [
    {
     "name": "stdout",
     "output_type": "stream",
     "text": [
      "hat beta0 1970 =  26.8016\n",
      "hat beta1 1970 =  0.0163"
     ]
    }
   ],
   "source": [
    "cat(\"hat beta0 1970 = \", round(beta0_1970,4))\n",
    "cat(\"\\nhat beta1 1970 = \", round(beta1_1970,4))"
   ]
  },
  {
   "cell_type": "markdown",
   "id": "f50dd264-6dd1-475b-b24e-ca3a302236d0",
   "metadata": {},
   "source": [
    "R결과 비교"
   ]
  },
  {
   "cell_type": "code",
   "execution_count": 137,
   "id": "d79b6e7a-55fa-4e9b-ae7f-1d396285a6f7",
   "metadata": {},
   "outputs": [
    {
     "data": {
      "text/plain": [
       "\n",
       "Call:\n",
       "lm(formula = df_6_1970$High ~ df_6_1970$Low)\n",
       "\n",
       "Residuals:\n",
       "     Min       1Q   Median       3Q      Max \n",
       "-0.87738 -0.03226  0.02245  0.37253  0.43262 \n",
       "\n",
       "Coefficients:\n",
       "              Estimate Std. Error t value Pr(>|t|)    \n",
       "(Intercept)   26.80160    2.05235  13.059  3.6e-06 ***\n",
       "df_6_1970$Low  0.01627    0.10381   0.157     0.88    \n",
       "---\n",
       "Signif. codes:  0 ‘***’ 0.001 ‘**’ 0.01 ‘*’ 0.05 ‘.’ 0.1 ‘ ’ 1\n",
       "\n",
       "Residual standard error: 0.4733 on 7 degrees of freedom\n",
       "Multiple R-squared:  0.003495,\tAdjusted R-squared:  -0.1389 \n",
       "F-statistic: 0.02455 on 1 and 7 DF,  p-value: 0.8799\n"
      ]
     },
     "metadata": {},
     "output_type": "display_data"
    }
   ],
   "source": [
    "summary(lm(df_6_1970$High~df_6_1970$Low))"
   ]
  },
  {
   "cell_type": "code",
   "execution_count": 138,
   "id": "21786653-3d8c-4e28-be31-d90bc7c1ca16",
   "metadata": {},
   "outputs": [
    {
     "name": "stdout",
     "output_type": "stream",
     "text": [
      "회귀선은 다음과 같았다. 1970 High =  26.8016  +  0.0163 Low"
     ]
    }
   ],
   "source": [
    "cat(\"회귀선은 다음과 같았다. 1970 High = \",round(beta0_1970,4),\" + \", round(beta1_1970,4),\"Low\")"
   ]
  },
  {
   "cell_type": "code",
   "execution_count": 139,
   "id": "45d2d11d-379c-48c7-9f14-3cf72edaa555",
   "metadata": {},
   "outputs": [],
   "source": [
    "SST_1970 = sum((df_6_1970$High - mean(df_6_1970$High))^2)"
   ]
  },
  {
   "cell_type": "code",
   "execution_count": 140,
   "id": "ee5e9699-8f6b-4d77-af3b-e4ddbc6e7ccd",
   "metadata": {},
   "outputs": [],
   "source": [
    "SSR_1970 = sum( ( (26.8016  +  0.0163 *df_6_1970$Low)-mean(df_6_1970$High) )^2 )"
   ]
  },
  {
   "cell_type": "code",
   "execution_count": 141,
   "id": "391bf305-95fc-4a0c-9909-b4b730bd777a",
   "metadata": {},
   "outputs": [],
   "source": [
    "SSE_1970 = sum( ( df_6_1970$High-(26.8016  +  0.0163 *df_6_1970$Low))^2 )"
   ]
  },
  {
   "cell_type": "code",
   "execution_count": 142,
   "id": "1c8005e3-aecd-480d-8071-3e906574f998",
   "metadata": {},
   "outputs": [
    {
     "name": "stdout",
     "output_type": "stream",
     "text": [
      "1970 SST =  1.573756 , df = 8\n",
      "1970 SSR =  0.005528037 , df = 1\n",
      "1970 SSE =  1.56826 , df = 7"
     ]
    }
   ],
   "source": [
    "cat(\"1970 SST = \", SST_1970,\", df = 8\")\n",
    "cat(\"\\n1970 SSR = \", SSR_1970,\", df = 1\")\n",
    "cat(\"\\n1970 SSE = \", SSE_1970, \", df = 7\")"
   ]
  },
  {
   "cell_type": "markdown",
   "id": "c3664979-a05a-487a-b284-c3570954d5d5",
   "metadata": {},
   "source": [
    "R결과 비교"
   ]
  },
  {
   "cell_type": "code",
   "execution_count": 143,
   "id": "0fa88077-18af-4baf-ba0e-c0c91fd7221d",
   "metadata": {},
   "outputs": [
    {
     "data": {
      "text/html": [
       "<table class=\"dataframe\">\n",
       "<caption>A anova: 2 × 5</caption>\n",
       "<thead>\n",
       "\t<tr><th></th><th scope=col>Df</th><th scope=col>Sum Sq</th><th scope=col>Mean Sq</th><th scope=col>F value</th><th scope=col>Pr(&gt;F)</th></tr>\n",
       "\t<tr><th></th><th scope=col>&lt;int&gt;</th><th scope=col>&lt;dbl&gt;</th><th scope=col>&lt;dbl&gt;</th><th scope=col>&lt;dbl&gt;</th><th scope=col>&lt;dbl&gt;</th></tr>\n",
       "</thead>\n",
       "<tbody>\n",
       "\t<tr><th scope=row>df_6_1970$Low</th><td>1</td><td>0.005500107</td><td>0.005500107</td><td>0.02455005</td><td>0.8799168</td></tr>\n",
       "\t<tr><th scope=row>Residuals</th><td>7</td><td>1.568255449</td><td>0.224036493</td><td>        NA</td><td>       NA</td></tr>\n",
       "</tbody>\n",
       "</table>\n"
      ],
      "text/latex": [
       "A anova: 2 × 5\n",
       "\\begin{tabular}{r|lllll}\n",
       "  & Df & Sum Sq & Mean Sq & F value & Pr(>F)\\\\\n",
       "  & <int> & <dbl> & <dbl> & <dbl> & <dbl>\\\\\n",
       "\\hline\n",
       "\tdf\\_6\\_1970\\$Low & 1 & 0.005500107 & 0.005500107 & 0.02455005 & 0.8799168\\\\\n",
       "\tResiduals & 7 & 1.568255449 & 0.224036493 &         NA &        NA\\\\\n",
       "\\end{tabular}\n"
      ],
      "text/markdown": [
       "\n",
       "A anova: 2 × 5\n",
       "\n",
       "| <!--/--> | Df &lt;int&gt; | Sum Sq &lt;dbl&gt; | Mean Sq &lt;dbl&gt; | F value &lt;dbl&gt; | Pr(&gt;F) &lt;dbl&gt; |\n",
       "|---|---|---|---|---|---|\n",
       "| df_6_1970$Low | 1 | 0.005500107 | 0.005500107 | 0.02455005 | 0.8799168 |\n",
       "| Residuals | 7 | 1.568255449 | 0.224036493 |         NA |        NA |\n",
       "\n"
      ],
      "text/plain": [
       "              Df Sum Sq      Mean Sq     F value    Pr(>F)   \n",
       "df_6_1970$Low 1  0.005500107 0.005500107 0.02455005 0.8799168\n",
       "Residuals     7  1.568255449 0.224036493         NA        NA"
      ]
     },
     "metadata": {},
     "output_type": "display_data"
    }
   ],
   "source": [
    "anova(lm(df_6_1970$High~df_6_1970$Low))"
   ]
  },
  {
   "cell_type": "markdown",
   "id": "1857dede-dbd2-424a-bb39-ed915de324ae",
   "metadata": {},
   "source": [
    "(5) 아마존강의 최저수위와 최고수위와의 관계가 1960년대와 1970년대에 따라 차이가 있는가? 두 회귀모형의 동일성 여부를 유의수준 $\\alpha = 0.01$에서 검정하시오."
   ]
  },
  {
   "cell_type": "markdown",
   "id": "04d4da7b-4ab2-471a-920c-f930adf92688",
   "metadata": {},
   "source": [
    "**Answer**"
   ]
  },
  {
   "cell_type": "markdown",
   "id": "5dff3aac-0db2-47d5-a842-0904132a7a91",
   "metadata": {},
   "source": [
    "가설\n",
    "\n",
    "$H_0 : \\beta_{01} = \\beta_{02} \\text{ and } \\beta_{11} = \\beta_{12}$\n",
    "\n",
    "$H_1 : \\beta_{01} \\neq \\beta_{02} \\text{ pr } \\beta_{11} \\neq \\beta_{12}$"
   ]
  },
  {
   "cell_type": "markdown",
   "id": "76034ba2-b555-46d8-825f-6a45968a5a23",
   "metadata": {},
   "source": [
    "(2)에서 구했던 것"
   ]
  },
  {
   "cell_type": "markdown",
   "id": "45eaff90-e1c9-43b8-a8af-c60eb6320058",
   "metadata": {},
   "source": [
    "$\\text{High} = 26.40088 -0.01406\\text{Low}$"
   ]
  },
  {
   "cell_type": "code",
   "execution_count": 144,
   "id": "c4d75aee-5c52-484b-9088-11a437a3407b",
   "metadata": {},
   "outputs": [],
   "source": [
    "SST = sum((df_6$High - mean(df_6$High))^2)"
   ]
  },
  {
   "cell_type": "code",
   "execution_count": 145,
   "id": "015e52c4-a88f-422b-a4b1-6da4c9e02a16",
   "metadata": {},
   "outputs": [],
   "source": [
    "SSR = sum( ( (26.40088 - 0.01406 *df_6$Low)-mean(df_6$High) )^2 )"
   ]
  },
  {
   "cell_type": "code",
   "execution_count": 146,
   "id": "aa93bf17-31a3-4ec5-87ff-525e9c4602d1",
   "metadata": {},
   "outputs": [],
   "source": [
    "SSE = sum( ( df_6$High-(26.40088 - 0.01406 *df_6$Low))^2 )"
   ]
  },
  {
   "cell_type": "code",
   "execution_count": 147,
   "id": "14b61c4c-4b00-45a7-b636-fb50eff3e3b3",
   "metadata": {},
   "outputs": [
    {
     "name": "stdout",
     "output_type": "stream",
     "text": [
      "SST =  22.95141 , df = 16\n",
      "SSR =  0.007181232 , df = 1\n",
      "SSE =  22.94423 , df = 15"
     ]
    }
   ],
   "source": [
    "cat(\"SST = \", SST,\", df = 16\")\n",
    "cat(\"\\nSSR = \", SSR,\", df = 1\")\n",
    "cat(\"\\nSSE = \", SSE, \", df = 15\")"
   ]
  },
  {
   "cell_type": "markdown",
   "id": "6ec5bafe-ffac-465e-906c-5b586ed650c0",
   "metadata": {
    "tags": []
   },
   "source": [
    "R결과와 비교"
   ]
  },
  {
   "cell_type": "code",
   "execution_count": 148,
   "id": "955e3789-926f-4904-ba5b-9f5d7e689690",
   "metadata": {},
   "outputs": [
    {
     "data": {
      "text/html": [
       "<table class=\"dataframe\">\n",
       "<caption>A anova: 2 × 5</caption>\n",
       "<thead>\n",
       "\t<tr><th></th><th scope=col>Df</th><th scope=col>Sum Sq</th><th scope=col>Mean Sq</th><th scope=col>F value</th><th scope=col>Pr(&gt;F)</th></tr>\n",
       "\t<tr><th></th><th scope=col>&lt;int&gt;</th><th scope=col>&lt;dbl&gt;</th><th scope=col>&lt;dbl&gt;</th><th scope=col>&lt;dbl&gt;</th><th scope=col>&lt;dbl&gt;</th></tr>\n",
       "</thead>\n",
       "<tbody>\n",
       "\t<tr><th scope=row>df_6$Low</th><td> 1</td><td> 0.007180811</td><td>0.007180811</td><td>0.00469452</td><td>0.9462794</td></tr>\n",
       "\t<tr><th scope=row>Residuals</th><td>15</td><td>22.944230954</td><td>1.529615397</td><td>        NA</td><td>       NA</td></tr>\n",
       "</tbody>\n",
       "</table>\n"
      ],
      "text/latex": [
       "A anova: 2 × 5\n",
       "\\begin{tabular}{r|lllll}\n",
       "  & Df & Sum Sq & Mean Sq & F value & Pr(>F)\\\\\n",
       "  & <int> & <dbl> & <dbl> & <dbl> & <dbl>\\\\\n",
       "\\hline\n",
       "\tdf\\_6\\$Low &  1 &  0.007180811 & 0.007180811 & 0.00469452 & 0.9462794\\\\\n",
       "\tResiduals & 15 & 22.944230954 & 1.529615397 &         NA &        NA\\\\\n",
       "\\end{tabular}\n"
      ],
      "text/markdown": [
       "\n",
       "A anova: 2 × 5\n",
       "\n",
       "| <!--/--> | Df &lt;int&gt; | Sum Sq &lt;dbl&gt; | Mean Sq &lt;dbl&gt; | F value &lt;dbl&gt; | Pr(&gt;F) &lt;dbl&gt; |\n",
       "|---|---|---|---|---|---|\n",
       "| df_6$Low |  1 |  0.007180811 | 0.007180811 | 0.00469452 | 0.9462794 |\n",
       "| Residuals | 15 | 22.944230954 | 1.529615397 |         NA |        NA |\n",
       "\n"
      ],
      "text/plain": [
       "          Df Sum Sq       Mean Sq     F value    Pr(>F)   \n",
       "df_6$Low   1  0.007180811 0.007180811 0.00469452 0.9462794\n",
       "Residuals 15 22.944230954 1.529615397         NA        NA"
      ]
     },
     "metadata": {},
     "output_type": "display_data"
    }
   ],
   "source": [
    "anova(lm(df_6$High~df_6$Low))"
   ]
  },
  {
   "cell_type": "markdown",
   "id": "5c534f0e-efec-4837-b240-86ce29a1324e",
   "metadata": {},
   "source": [
    "$\\text{1960 High} = 29.8367  +  -0.2492\\text{Low}$"
   ]
  },
  {
   "cell_type": "code",
   "execution_count": 149,
   "id": "d6249e03-d606-4c95-aadc-f1b237daf941",
   "metadata": {},
   "outputs": [
    {
     "name": "stdout",
     "output_type": "stream",
     "text": [
      "1960 SST =  2.3924 , df = 7\n",
      "1960 SSR =  0.9370965 , df = 1\n",
      "1960 SSE =  1.455164 , df = 6"
     ]
    }
   ],
   "source": [
    "cat(\"1960 SST = \", SST_1960,\", df = 7\")\n",
    "cat(\"\\n1960 SSR = \", SSR_1960,\", df = 1\")\n",
    "cat(\"\\n1960 SSE = \", SSE_1960, \", df = 6\")"
   ]
  },
  {
   "cell_type": "markdown",
   "id": "78b6b3aa-1ea4-460f-97f3-55f87ba71d33",
   "metadata": {},
   "source": [
    "$\\text{1970 High} = 26.8016  +  0.0163\\text{Low}$"
   ]
  },
  {
   "cell_type": "code",
   "execution_count": 150,
   "id": "ad178919-19dc-45e0-bcb0-73c2e2ecb5c7",
   "metadata": {},
   "outputs": [
    {
     "name": "stdout",
     "output_type": "stream",
     "text": [
      "1970 SST =  1.573756 , df = 8\n",
      "1970 SSR =  0.005528037 , df = 1\n",
      "1970 SSE =  1.56826 , df = 7"
     ]
    }
   ],
   "source": [
    "cat(\"1970 SST = \", SST_1970,\", df = 8\")\n",
    "cat(\"\\n1970 SSR = \", SSR_1970,\", df = 1\")\n",
    "cat(\"\\n1970 SSE = \", SSE_1970, \", df = 7\")"
   ]
  },
  {
   "cell_type": "markdown",
   "id": "9f543da6-5342-436e-80d1-f4f942b8a2f8",
   "metadata": {},
   "source": [
    "검정통계량\n",
    "\n",
    "$F_0 = \\frac{SSE(R) - SSE(F)}{df_R} - \\times \\frac{df_F}{SSE(F)}$"
   ]
  },
  {
   "cell_type": "code",
   "execution_count": 151,
   "id": "36ee999e-11e8-4d1f-b218-262fa3ec05cc",
   "metadata": {},
   "outputs": [],
   "source": [
    "SSE_F = SSE_1960 + SSE_1970\n",
    "df_F = 6 + 7"
   ]
  },
  {
   "cell_type": "code",
   "execution_count": 152,
   "id": "5e334658-bfe3-4f6d-b570-6cd7d07e9e8c",
   "metadata": {},
   "outputs": [],
   "source": [
    "SSE_R = SSE\n",
    "df_R = 15"
   ]
  },
  {
   "cell_type": "code",
   "execution_count": 153,
   "id": "a0e7d96e-81a6-4429-921c-f9f58ce74780",
   "metadata": {},
   "outputs": [
    {
     "data": {
      "text/html": [
       "42.8273639841797"
      ],
      "text/latex": [
       "42.8273639841797"
      ],
      "text/markdown": [
       "42.8273639841797"
      ],
      "text/plain": [
       "[1] 42.82736"
      ]
     },
     "metadata": {},
     "output_type": "display_data"
    }
   ],
   "source": [
    "F_0 = (SSE_R - SSE_F)/(df_R - df_F) / (SSE_F/df_F)\n",
    "F_0"
   ]
  },
  {
   "cell_type": "code",
   "execution_count": 154,
   "id": "368023e3-970a-44c1-a8b4-5763b50b3c47",
   "metadata": {},
   "outputs": [
    {
     "data": {
      "text/html": [
       "2"
      ],
      "text/latex": [
       "2"
      ],
      "text/markdown": [
       "2"
      ],
      "text/plain": [
       "[1] 2"
      ]
     },
     "metadata": {},
     "output_type": "display_data"
    }
   ],
   "source": [
    "df_R - df_F"
   ]
  },
  {
   "cell_type": "code",
   "execution_count": 155,
   "id": "e8ae6397-0fd5-4e7f-a5a6-3bce397a6f8c",
   "metadata": {},
   "outputs": [
    {
     "data": {
      "text/html": [
       "13"
      ],
      "text/latex": [
       "13"
      ],
      "text/markdown": [
       "13"
      ],
      "text/plain": [
       "[1] 13"
      ]
     },
     "metadata": {},
     "output_type": "display_data"
    }
   ],
   "source": [
    "df_F"
   ]
  },
  {
   "cell_type": "code",
   "execution_count": 156,
   "id": "93e5a3ad-1044-4d78-b6b6-37672ddd1a95",
   "metadata": {},
   "outputs": [],
   "source": [
    "F_stan = qf(0.95,2,13)"
   ]
  },
  {
   "cell_type": "code",
   "execution_count": 157,
   "id": "4262959f-cf7c-4db7-9899-c8f340e264aa",
   "metadata": {},
   "outputs": [
    {
     "name": "stdout",
     "output_type": "stream",
     "text": [
      "42.82736  는 유의수준 0.05에서 F값  3.805565  보다 크다.\n",
      "따라서 귀무가설을 기각하였고, 두 회귀모형은 beta0가 다르거나\n",
      "혹은 beta1이 다르거나 혹은 beta0,beta1 모두가 다르다."
     ]
    }
   ],
   "source": [
    "cat(F_0, \" 는 유의수준 0.05에서 F값 \", F_stan , \" 보다 크다.\")\n",
    "\n",
    "cat(\"\\n따라서 귀무가설을 기각하였고, 두 회귀모형은 beta0가 다르거나\")\n",
    "\n",
    "cat(\"\\n혹은 beta1이 다르거나 혹은 beta0,beta1 모두가 다르다.\")"
   ]
  },
  {
   "cell_type": "markdown",
   "id": "564a3456-29a3-46b8-9c92-c64eace9c47a",
   "metadata": {},
   "source": [
    "(6) (4)에서 구한 두 회귀모형의 기울기가 같은지 유의수준 $\\alpha = 0.01$에서 검정하시오."
   ]
  },
  {
   "cell_type": "markdown",
   "id": "dcbe5b2a-d1fd-42d3-a6c7-9ffc35eb3d10",
   "metadata": {},
   "source": [
    "**Answer**"
   ]
  },
  {
   "cell_type": "markdown",
   "id": "db03e706-b903-44d4-a514-d37e9464e39c",
   "metadata": {},
   "source": [
    "기울기 비교에 대한 가설\n",
    "\n",
    "$H_0 : \\beta_{11} = \\beta_{12} \\text{ vs. } H_1 : \\beta_{11} \\neq \\beta_{12}$\n",
    "\n",
    "검정통계량\n",
    "\n",
    "$t_0 = \\frac{ \\hat{\\beta}_{11} - \\hat{\\beta}_{12} }{ \\sqrt{ \\hat{Var}( \\hat{\\beta}_{11} - \\hat{\\beta}_{12} ) } }$\n",
    "\n",
    "$\\text{Degree of Freedom} = t((n_1 - 1) + (n_2 - 1))$\n",
    "\n",
    "$\\hat{Var}( \\hat{\\beta}_{11} - \\hat{\\beta}_{12} ) = MSE(F) [\\frac{1}{\\sum(x_{1j} - \\bar{x}_1)^2} + \\frac{1}{\\sum(x_{2j} - \\bar{x}_2)^2}]$"
   ]
  },
  {
   "cell_type": "code",
   "execution_count": 158,
   "id": "9e02b33e-28df-48a3-9ffc-b2423cd7af1e",
   "metadata": {},
   "outputs": [
    {
     "data": {
      "text/html": [
       "-0.2492"
      ],
      "text/latex": [
       "-0.2492"
      ],
      "text/markdown": [
       "-0.2492"
      ],
      "text/plain": [
       "[1] -0.2492"
      ]
     },
     "metadata": {},
     "output_type": "display_data"
    }
   ],
   "source": [
    "round(beta1_1960,4)"
   ]
  },
  {
   "cell_type": "code",
   "execution_count": 159,
   "id": "1a99edf0-4295-43da-a25b-374e44fdffca",
   "metadata": {},
   "outputs": [
    {
     "data": {
      "text/html": [
       "0.0163"
      ],
      "text/latex": [
       "0.0163"
      ],
      "text/markdown": [
       "0.0163"
      ],
      "text/plain": [
       "[1] 0.0163"
      ]
     },
     "metadata": {},
     "output_type": "display_data"
    }
   ],
   "source": [
    "round(beta1_1970,4)"
   ]
  },
  {
   "cell_type": "code",
   "execution_count": 160,
   "id": "0ab07dba-096c-4802-8792-d604e6bdf98f",
   "metadata": {},
   "outputs": [
    {
     "data": {
      "text/html": [
       "3.02342329210101"
      ],
      "text/latex": [
       "3.02342329210101"
      ],
      "text/markdown": [
       "3.02342329210101"
      ],
      "text/plain": [
       "[1] 3.023423"
      ]
     },
     "metadata": {},
     "output_type": "display_data"
    }
   ],
   "source": [
    "SSE_F"
   ]
  },
  {
   "cell_type": "code",
   "execution_count": 161,
   "id": "801139a4-5289-4e38-b21a-182258f53882",
   "metadata": {},
   "outputs": [
    {
     "data": {
      "text/html": [
       "0.232571022469308"
      ],
      "text/latex": [
       "0.232571022469308"
      ],
      "text/markdown": [
       "0.232571022469308"
      ],
      "text/plain": [
       "[1] 0.232571"
      ]
     },
     "metadata": {},
     "output_type": "display_data"
    }
   ],
   "source": [
    "MSE_F = SSE_F / df_F\n",
    "MSE_F"
   ]
  },
  {
   "cell_type": "code",
   "execution_count": 162,
   "id": "8bfefc57-cf3c-40bc-817b-f107f068df7d",
   "metadata": {},
   "outputs": [
    {
     "data": {
      "text/html": [
       "15.08995"
      ],
      "text/latex": [
       "15.08995"
      ],
      "text/markdown": [
       "15.08995"
      ],
      "text/plain": [
       "[1] 15.08995"
      ]
     },
     "metadata": {},
     "output_type": "display_data"
    }
   ],
   "source": [
    "sum(df_6_1960$Low_barLow2)"
   ]
  },
  {
   "cell_type": "code",
   "execution_count": 163,
   "id": "ba3dac99-8257-44e8-88e8-29c006ff69d1",
   "metadata": {},
   "outputs": [
    {
     "data": {
      "text/html": [
       "20.7903555555556"
      ],
      "text/latex": [
       "20.7903555555556"
      ],
      "text/markdown": [
       "20.7903555555556"
      ],
      "text/plain": [
       "[1] 20.79036"
      ]
     },
     "metadata": {},
     "output_type": "display_data"
    }
   ],
   "source": [
    "sum(df_6_1970$Low_barLow2)"
   ]
  },
  {
   "cell_type": "code",
   "execution_count": 164,
   "id": "4fba5c43-6197-4d05-975c-b5637ebc41b5",
   "metadata": {},
   "outputs": [
    {
     "data": {
      "text/html": [
       "0.026598798385161"
      ],
      "text/latex": [
       "0.026598798385161"
      ],
      "text/markdown": [
       "0.026598798385161"
      ],
      "text/plain": [
       "[1] 0.0265988"
      ]
     },
     "metadata": {},
     "output_type": "display_data"
    }
   ],
   "source": [
    "var_diff = MSE_F * (1/sum(df_6_1960$Low_barLow2) + 1/sum(df_6_1970$Low_barLow2))\n",
    "var_diff"
   ]
  },
  {
   "cell_type": "code",
   "execution_count": 165,
   "id": "43f1c551-3f06-4ef8-9cdb-195d5f88737b",
   "metadata": {},
   "outputs": [
    {
     "data": {
      "text/html": [
       "-1.62782282241728"
      ],
      "text/latex": [
       "-1.62782282241728"
      ],
      "text/markdown": [
       "-1.62782282241728"
      ],
      "text/plain": [
       "[1] -1.627823"
      ]
     },
     "metadata": {},
     "output_type": "display_data"
    }
   ],
   "source": [
    "t_0 = (beta1_1960 - beta1_1970)/sqrt(var_diff)\n",
    "t_0"
   ]
  },
  {
   "cell_type": "code",
   "execution_count": 166,
   "id": "9d1f12b9-2b06-4ef7-86cd-0cd47de5fabd",
   "metadata": {},
   "outputs": [
    {
     "data": {
      "text/html": [
       "3.01227583871658"
      ],
      "text/latex": [
       "3.01227583871658"
      ],
      "text/markdown": [
       "3.01227583871658"
      ],
      "text/plain": [
       "[1] 3.012276"
      ]
     },
     "metadata": {},
     "output_type": "display_data"
    }
   ],
   "source": [
    "qt(0.995,df_F)"
   ]
  },
  {
   "cell_type": "code",
   "execution_count": 167,
   "id": "cd6112e9-0c5a-42d5-a524-2b991e018ecc",
   "metadata": {},
   "outputs": [
    {
     "name": "stdout",
     "output_type": "stream",
     "text": [
      "-1.627823 는  3.012276 보다 작다.\n",
      "따라서 유의수준 1%에서 귀무가설을 기각하지 못하여 두 회귀모형의 기울기가 같다고 할 수 있다."
     ]
    }
   ],
   "source": [
    "cat(t_0,\"는 \",qt(0.995,df_F),\"보다 작다.\")\n",
    "\n",
    "cat(\"\\n따라서 유의수준 1%에서 귀무가설을 기각하지 못하여 두 회귀모형의 기울기가 같다고 할 수 있다.\")"
   ]
  },
  {
   "cell_type": "markdown",
   "id": "46e1c6cc-f8ef-41e7-a3a0-00b29226f94a",
   "metadata": {},
   "source": [
    "$H_0 : \\beta_{11} = \\beta_{12}$ 채택"
   ]
  }
 ],
 "metadata": {
  "kernelspec": {
   "display_name": "R",
   "language": "R",
   "name": "ir"
  },
  "language_info": {
   "codemirror_mode": "r",
   "file_extension": ".r",
   "mimetype": "text/x-r-source",
   "name": "R",
   "pygments_lexer": "r",
   "version": "4.1.2"
  }
 },
 "nbformat": 4,
 "nbformat_minor": 5
}
