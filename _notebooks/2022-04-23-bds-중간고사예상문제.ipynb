{
  "cells": [
    {
      "cell_type": "markdown",
      "id": "de95d384-976e-48f3-8c2e-9d9d2fb777cc",
      "metadata": {
        "tags": [],
        "id": "de95d384-976e-48f3-8c2e-9d9d2fb777cc"
      },
      "source": [
        "# 중간고사 예상문제 "
      ]
    },
    {
      "cell_type": "code",
      "execution_count": null,
      "id": "5969fb87-91ed-4581-bc76-8bcff884177e",
      "metadata": {
        "id": "5969fb87-91ed-4581-bc76-8bcff884177e"
      },
      "outputs": [],
      "source": [
        "import numpy as np\n",
        "import tensorflow as tf \n",
        "import tensorflow.experimental.numpy as tnp \n",
        "import pandas as pd"
      ]
    },
    {
      "cell_type": "code",
      "execution_count": null,
      "id": "42b1dfe1-30a6-40a1-9ecb-bb448c529b0c",
      "metadata": {
        "id": "42b1dfe1-30a6-40a1-9ecb-bb448c529b0c"
      },
      "outputs": [],
      "source": [
        "import matplotlib.pyplot as plt "
      ]
    },
    {
      "cell_type": "markdown",
      "id": "9ec7a960-880b-4e27-8527-3c55b899141d",
      "metadata": {
        "id": "9ec7a960-880b-4e27-8527-3c55b899141d"
      },
      "source": [
        "## `1`. 경사하강법과 tf.GradientTape()의 사용방법 (30점)"
      ]
    },
    {
      "cell_type": "markdown",
      "id": "ba1efbdf-a7a7-4fe9-bde5-1e3926c02e52",
      "metadata": {
        "id": "ba1efbdf-a7a7-4fe9-bde5-1e3926c02e52"
      },
      "source": [
        "`(1)` 아래는 $X_i \\overset{iid}{\\sim} N(3,2^2)$ 를 생성하는 코드이다. (10점)"
      ]
    },
    {
      "cell_type": "code",
      "execution_count": null,
      "id": "9cf5a708-4524-44b8-8fc1-0ce5449ad0a4",
      "metadata": {
        "id": "9cf5a708-4524-44b8-8fc1-0ce5449ad0a4",
        "outputId": "f3bb614b-9e06-42a2-a8b3-873e1eec7af0"
      },
      "outputs": [
        {
          "data": {
            "text/plain": [
              "<tf.Tensor: shape=(10000,), dtype=float64, numpy=\n",
              "array([ 4.12539849,  5.46696729,  5.27243374, ...,  2.89712332,\n",
              "        5.01072291, -1.13050477])>"
            ]
          },
          "execution_count": 249,
          "metadata": {},
          "output_type": "execute_result"
        }
      ],
      "source": [
        "tf.random.set_seed(43052)\n",
        "x= tnp.random.randn(10000)*2+3\n",
        "x"
      ]
    },
    {
      "cell_type": "markdown",
      "id": "76605c29-cfd0-41f5-9ae1-7888c72c3196",
      "metadata": {
        "id": "76605c29-cfd0-41f5-9ae1-7888c72c3196"
      },
      "source": [
        "함수 $L(\\mu,\\sigma)$을 최대화하는 $(\\mu,\\sigma)$를 `tf.GradeintTape()`를 활용하여 추정하라. (경사하강법 혹은 경사상승법을 사용하고 $\\mu$의 초기값은 2로 $\\sigma$의 초기값은 3으로 설정할 것) "
      ]
    },
    {
      "cell_type": "markdown",
      "id": "93855c4c-2fa4-4330-a7d2-7def823584a0",
      "metadata": {
        "id": "93855c4c-2fa4-4330-a7d2-7def823584a0"
      },
      "source": [
        "$L(\\mu,\\sigma)=\\prod_{i=1}^{n}f(x_i), \\quad f(x_i)=\\frac{1}{\\sqrt{2\\pi}\\sigma}e^{-\\frac{1}{2}(\\frac{x_i-\\mu}{\\sigma})^2}$"
      ]
    },
    {
      "cell_type": "markdown",
      "id": "7a6563bd-b7cf-4c9f-8371-6896f8796f7b",
      "metadata": {
        "id": "7a6563bd-b7cf-4c9f-8371-6896f8796f7b"
      },
      "source": [
        "`(2)` "
      ]
    },
    {
      "cell_type": "markdown",
      "id": "812c984e-92c1-4a7a-86b1-6b8f850699d6",
      "metadata": {
        "id": "812c984e-92c1-4a7a-86b1-6b8f850699d6"
      },
      "source": [
        "`(3)`"
      ]
    },
    {
      "cell_type": "markdown",
      "id": "a442ee36-3e02-4894-8205-b06dbec79d81",
      "metadata": {
        "id": "a442ee36-3e02-4894-8205-b06dbec79d81"
      },
      "source": [
        "## `2`. 회귀분석의 이론적해와 tf.keras.optimizer 이용방법 (20점)"
      ]
    },
    {
      "cell_type": "markdown",
      "id": "3dd7649c-9733-4e56-9186-371742613aa6",
      "metadata": {
        "id": "3dd7649c-9733-4e56-9186-371742613aa6"
      },
      "source": [
        "아래와 같은 선형모형을 고려하자. \n",
        "\n",
        "$y_i = \\beta_0 + \\beta_1 x_i +\\epsilon_i$.\n",
        "\n",
        "이때 오차항은 정규분포로 가정한다. 즉 $\\epsilon_i \\overset{iid}{\\sim} N(0,\\sigma^2)$라고 가정한다. "
      ]
    },
    {
      "cell_type": "markdown",
      "id": "6ccd081c-bf11-48db-bb43-65fd6f37f746",
      "metadata": {
        "id": "6ccd081c-bf11-48db-bb43-65fd6f37f746"
      },
      "source": [
        "관측데이터가 아래와 같을때 아래의 물음에 답하라. "
      ]
    },
    {
      "cell_type": "code",
      "execution_count": null,
      "id": "45cf9cd7-5fb4-46df-97a2-8f897e0274c4",
      "metadata": {
        "id": "45cf9cd7-5fb4-46df-97a2-8f897e0274c4"
      },
      "outputs": [],
      "source": [
        "X= tnp.array([[1.0, 20.1], [1.0, 22.2], [1.0, 22.7], [1.0, 23.3], [1.0, 24.4],\n",
        "              [1.0, 25.1], [1.0, 26.2], [1.0, 27.3], [1.0, 28.4], [1.0, 30.4]])\n",
        "y= tnp.array([55.4183651 , 58.19427589, 61.23082496, 62.31255873, 63.1070028 , \n",
        "              63.69569103, 67.24704918, 71.43650092, 73.10130336, 77.84988286])"
      ]
    },
    {
      "cell_type": "markdown",
      "id": "4b577089-ed00-4e28-bf8f-524161c7e164",
      "metadata": {
        "id": "4b577089-ed00-4e28-bf8f-524161c7e164"
      },
      "source": [
        "`(1)` MSE loss를 최소화 하는 $\\beta_0,\\beta_1$의 해석해를 구하라. "
      ]
    },
    {
      "cell_type": "markdown",
      "id": "33474142-8d95-4544-8d31-7817a4d531fc",
      "metadata": {
        "id": "33474142-8d95-4544-8d31-7817a4d531fc"
      },
      "source": [
        "`(2)` 경사하강법과 MSE loss의 도함수를 이용하여 $\\beta_0,\\beta_1$을 추정하라. "
      ]
    },
    {
      "cell_type": "markdown",
      "id": "ba0c4ce3-f3bd-4087-b6c4-45f71aa01c6a",
      "metadata": {
        "id": "ba0c4ce3-f3bd-4087-b6c4-45f71aa01c6a"
      },
      "source": [
        "`(3)` `tf.keras.optimizers`의 `apply_gradients()`를 이용하여 $\\beta_0,\\beta_1$을 추정하라. "
      ]
    },
    {
      "cell_type": "markdown",
      "id": "2001be03-0c7f-4ef3-b537-147cf4563d86",
      "metadata": {
        "id": "2001be03-0c7f-4ef3-b537-147cf4563d86"
      },
      "source": [
        "`(4)` `tf.keras.optimizers`의 `minimize()`를 이용하여 $\\beta_0,\\beta_1$을 추정하라. "
      ]
    },
    {
      "cell_type": "markdown",
      "id": "7326952d-fce0-4b89-9de2-a66bf05c3960",
      "metadata": {
        "id": "7326952d-fce0-4b89-9de2-a66bf05c3960"
      },
      "source": [
        "## `3`. keras를 이용한 풀이 (30점)"
      ]
    },
    {
      "cell_type": "markdown",
      "id": "0e8a3f28-199e-4ba4-b30e-64f3adff17c9",
      "metadata": {
        "id": "0e8a3f28-199e-4ba4-b30e-64f3adff17c9"
      },
      "source": [
        "`(1)` 아래와 같은 모형을 고려하자. \n",
        "\n",
        "$$y_i= \\beta_0 + \\sum_{k=1}^{5} \\beta_k \\cos(k t_i)+\\epsilon_i, \\quad i=0,2,\\dots, 999$$\n",
        "\n",
        "여기에서 $t_i=\\frac{2\\pi i}{1000}$ 이다. 그리고 $\\epsilon_i \\sim i.i.d~ N(0,\\sigma^2)$, 즉 서로 독립인 표준정규분포에서 추출된 샘플이다. 위의 모형에서 아래와 같은 데이터를 관측했다고 가정하자. "
      ]
    },
    {
      "cell_type": "code",
      "execution_count": null,
      "id": "bc94cb8e-2348-4779-a254-a322c47c40f5",
      "metadata": {
        "id": "bc94cb8e-2348-4779-a254-a322c47c40f5",
        "outputId": "a98e8025-85c3-4516-98f8-4a8433e830c9"
      },
      "outputs": [
        {
          "data": {
            "text/plain": [
              "[<matplotlib.lines.Line2D at 0x7fceb6997340>]"
            ]
          },
          "execution_count": 334,
          "metadata": {},
          "output_type": "execute_result"
        },
        {
          "data": {
            "image/png": "[encoded data removed]",
            "text/plain": [
              "<Figure size 432x288 with 1 Axes>"
            ]
          },
          "metadata": {
            "needs_background": "light"
          },
          "output_type": "display_data"
        }
      ],
      "source": [
        "np.random.seed(43052)\n",
        "t= np.array(range(1000))* np.pi/1000\n",
        "y = -2+ 3*np.cos(t) + 1*np.cos(2*t) + 0.5*np.cos(5*t) + np.random.randn(1000)*0.2\n",
        "plt.plot(t,y,'.',alpha=0.2)"
      ]
    },
    {
      "cell_type": "markdown",
      "id": "6b27ae75-90e2-405f-a325-baaf8edb5cd4",
      "metadata": {
        "id": "6b27ae75-90e2-405f-a325-baaf8edb5cd4"
      },
      "source": [
        "tf.keras를 이용하여 $\\beta_0,\\dots,\\beta_5$를 추정하라. ($\\beta_0,\\dots,\\beta_5$의 참값은 각각 -2,3,1,0,0,5 이다) "
      ]
    },
    {
      "cell_type": "markdown",
      "id": "36332c6f-4e55-4d4b-8a3a-e3c4aff35298",
      "metadata": {
        "id": "36332c6f-4e55-4d4b-8a3a-e3c4aff35298"
      },
      "source": [
        "`(2)` 아래와 같은 모형을 고려하자. \n",
        "\n",
        "$y_i \\sim Ber(\\pi_i)$, where $\\pi_i=\\frac{\\exp(w_0+w_1x_i)}{1+\\exp(w_0+w_1x_i)}$\n"
      ]
    },
    {
      "cell_type": "markdown",
      "id": "eac5206a-027a-4526-81c7-c98674808e24",
      "metadata": {
        "id": "eac5206a-027a-4526-81c7-c98674808e24"
      },
      "source": [
        "위의 모형에서 관측한 데이터는 아래와 같다. "
      ]
    },
    {
      "cell_type": "code",
      "execution_count": null,
      "id": "fcc33c1b-4873-44da-859a-7db528ca6e10",
      "metadata": {
        "id": "fcc33c1b-4873-44da-859a-7db528ca6e10",
        "outputId": "2c92bb2e-555e-4fb5-fc1b-28ac741dc85a"
      },
      "outputs": [
        {
          "data": {
            "text/plain": [
              "[<matplotlib.lines.Line2D at 0x7fceb9941ed0>]"
            ]
          },
          "execution_count": 332,
          "metadata": {},
          "output_type": "execute_result"
        },
        {
          "data": {
            "image/png": "[encoded data removed]",
            "text/plain": [
              "<Figure size 432x288 with 1 Axes>"
            ]
          },
          "metadata": {
            "needs_background": "light"
          },
          "output_type": "display_data"
        }
      ],
      "source": [
        "tf.random.set_seed(43052)\n",
        "x = tnp.linspace(-1,1,2000) \n",
        "y = tf.constant(np.random.binomial(1, tf.nn.sigmoid(-1+5*x)),dtype=tf.float64) \n",
        "plt.plot(x,y,'.',alpha=0.05)"
      ]
    },
    {
      "cell_type": "markdown",
      "id": "66309733-c374-4b15-aebe-e7b651f94080",
      "metadata": {
        "id": "66309733-c374-4b15-aebe-e7b651f94080"
      },
      "source": [
        "tf.keras를 이용하여 $w_0,w_1$을 추론하라. (참고: $w_0, w_1$에 대한 참값은 -1과 5이다.) "
      ]
    },
    {
      "cell_type": "markdown",
      "id": "75e6e697-04cf-4022-8ca4-b7d94875f1e4",
      "metadata": {
        "id": "75e6e697-04cf-4022-8ca4-b7d94875f1e4"
      },
      "source": [
        "## `4`. Piecewise-linear regression (15점) "
      ]
    },
    {
      "cell_type": "markdown",
      "id": "e80e5f88-bcec-477f-98a3-3c616cb35046",
      "metadata": {
        "id": "e80e5f88-bcec-477f-98a3-3c616cb35046"
      },
      "source": [
        "## `5`. 다음을 잘 읽고 참과 거짓을 판단하라. (5점)"
      ]
    },
    {
      "cell_type": "markdown",
      "id": "93e43a1a-fcfa-4a7e-a87a-0464434a6c01",
      "metadata": {
        "id": "93e43a1a-fcfa-4a7e-a87a-0464434a6c01"
      },
      "source": [
        "`(1)` 적절한 학습률이 선택된다면, 경사하강법은 손실함수가 convex일때 언제 전역최소해를 찾을 수 있다."
      ]
    },
    {
      "cell_type": "markdown",
      "id": "9d360389-0708-4a69-9965-7d27bd287596",
      "metadata": {
        "id": "9d360389-0708-4a69-9965-7d27bd287596"
      },
      "source": [
        "`(2)`"
      ]
    },
    {
      "cell_type": "markdown",
      "id": "b3feb8fc-5e08-48ff-a7fb-f54060f980bb",
      "metadata": {
        "id": "b3feb8fc-5e08-48ff-a7fb-f54060f980bb"
      },
      "source": [
        "`(3)`"
      ]
    },
    {
      "cell_type": "markdown",
      "id": "4433ca8f-50af-4ca5-a9bd-60386c5c89f9",
      "metadata": {
        "id": "4433ca8f-50af-4ca5-a9bd-60386c5c89f9"
      },
      "source": [
        "`(4)`"
      ]
    },
    {
      "cell_type": "markdown",
      "id": "985252b2-9148-455f-b2fb-6c03fd0124f6",
      "metadata": {
        "id": "985252b2-9148-455f-b2fb-6c03fd0124f6"
      },
      "source": [
        "`(5)`"
      ]
    },
    {
      "cell_type": "markdown",
      "id": "2f54760f-159f-448a-b677-9c0f4ff4a6c6",
      "metadata": {
        "id": "2f54760f-159f-448a-b677-9c0f4ff4a6c6"
      },
      "source": [
        "### some notes "
      ]
    },
    {
      "cell_type": "markdown",
      "id": "7196afe7-94aa-46af-9c84-f3daeac2050d",
      "metadata": {
        "id": "7196afe7-94aa-46af-9c84-f3daeac2050d"
      },
      "source": [
        "`-` 용어를 모르겠는 분은 질문하시기 바랍니다. \n",
        "\n",
        "`-` 풀다가 에러나는 코드 질문하면 에러 수정해드립니다. "
      ]
    },
    {
      "cell_type": "code",
      "execution_count": null,
      "id": "e776bc88-fac2-4f5f-979f-32558c390e11",
      "metadata": {
        "id": "e776bc88-fac2-4f5f-979f-32558c390e11"
      },
      "outputs": [],
      "source": [
        ""
      ]
    }
  ],
  "metadata": {
    "kernelspec": {
      "display_name": "Python 3 (ipykernel)",
      "language": "python",
      "name": "python3"
    },
    "language_info": {
      "codemirror_mode": {
        "name": "ipython",
        "version": 3
      },
      "file_extension": ".py",
      "mimetype": "text/x-python",
      "name": "python",
      "nbconvert_exporter": "python",
      "pygments_lexer": "ipython3",
      "version": "3.10.4"
    },
    "colab": {
      "name": "2022-04-23-중간고사예상문제.ipynb",
      "provenance": []
    }
  },
  "nbformat": 4,
  "nbformat_minor": 5
}