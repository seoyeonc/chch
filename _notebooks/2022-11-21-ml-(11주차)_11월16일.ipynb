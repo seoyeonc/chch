{
 "cells": [
  {
   "cell_type": "markdown",
   "id": "45992497-8375-46c8-b746-e35445254edf",
   "metadata": {
    "tags": []
   },
   "source": [
    "# 기계학습 특강 (11주차) 11월16일\n",
    "> 순환신경망– abc예제, abdc예제, abcde예제, AbAcAd예제\n",
    "\n",
    "- toc:true\n",
    "- branch: master\n",
    "- badges: true\n",
    "- comments: false\n",
    "- author: 최서연\n",
    "- categories: [Special Topics in Machine Learning, 순환신경망, abdc예제, abcde예제, AbAcAd예제]"
   ]
  },
  {
   "cell_type": "markdown",
   "id": "b0c6f875-95df-4fd6-afe8-0880efe28074",
   "metadata": {
    "tags": []
   },
   "source": [
    "## import"
   ]
  },
  {
   "cell_type": "code",
   "execution_count": 3,
   "id": "ec063325-2a8b-46a1-b8ec-4d2301c2ce7b",
   "metadata": {},
   "outputs": [],
   "source": [
    "import torch\n",
    "import numpy as np\n",
    "import matplotlib.pyplot as plt"
   ]
  },
  {
   "cell_type": "markdown",
   "id": "ed69f680-4ac7-4de8-9322-c3ad3009e044",
   "metadata": {},
   "source": [
    "## Define some funtions"
   ]
  },
  {
   "cell_type": "code",
   "execution_count": 2,
   "id": "15025b87-2f4d-4906-b3d4-ea0d5428b3b1",
   "metadata": {},
   "outputs": [],
   "source": [
    "def f(txt,mapping):\n",
    "    return [mapping[key] for key in txt] \n",
    "sig = torch.nn.Sigmoid()\n",
    "soft = torch.nn.Softmax(dim=1)\n",
    "tanh = torch.nn.Tanh()"
   ]
  },
  {
   "cell_type": "markdown",
   "id": "ef78a22d-bbde-4801-9c2e-8d53a4cbb2a7",
   "metadata": {},
   "source": [
    "## Exam4: AbAcAd (2)"
   ]
  },
  {
   "cell_type": "markdown",
   "id": "de385d88-ff6f-467e-830b-862a838a8139",
   "metadata": {},
   "source": [
    "### data"
   ]
  },
  {
   "cell_type": "markdown",
   "id": "a2c027cc-8345-4e9e-ae54-cf44538fe162",
   "metadata": {},
   "source": [
    "`-` 기존의 정리방식"
   ]
  },
  {
   "cell_type": "code",
   "execution_count": null,
   "id": "53f35a3d-20c2-4ea3-8aa4-9a82964b8190",
   "metadata": {},
   "outputs": [],
   "source": [
    "txt = list('AbAcAd')*100\n",
    "txt[:10]"
   ]
  },
  {
   "cell_type": "code",
   "execution_count": null,
   "id": "7705fe04-ed96-4c86-b749-06c09abb54a0",
   "metadata": {},
   "outputs": [],
   "source": [
    "txt_x = txt[:-1]\n",
    "txt_y = txt[1:]"
   ]
  },
  {
   "cell_type": "code",
   "execution_count": null,
   "id": "7251bb06-0cd1-400a-a3f7-0f38aef58859",
   "metadata": {},
   "outputs": [],
   "source": [
    "txt_x[:5],txt_y[:5]"
   ]
  },
  {
   "cell_type": "code",
   "execution_count": null,
   "id": "3eb7194c-7f67-4d21-ada6-f01637ad34e3",
   "metadata": {},
   "outputs": [],
   "source": [
    "x = torch.nn.functional.one_hot(torch.tensor(f(txt_x,{'A':0,'b':1,'c':2,'d':3}))).float()\n",
    "y = torch.nn.functional.one_hot(torch.tensor(f(txt_y,{'A':0,'b':1,'c':2,'d':3}))).float()"
   ]
  },
  {
   "cell_type": "code",
   "execution_count": null,
   "id": "335c56cd-ff19-449d-a50f-f35f8f8ab830",
   "metadata": {},
   "outputs": [],
   "source": [
    "x,y"
   ]
  },
  {
   "cell_type": "markdown",
   "id": "86926b67-3927-4d31-be63-27c7f69ddc81",
   "metadata": {},
   "source": [
    "### 순환신경망 구현1 (손으로 직접구현) -- 리뷰"
   ]
  },
  {
   "cell_type": "markdown",
   "id": "3d2c93c9-815c-414e-886a-ba6e6cb0f137",
   "metadata": {},
   "source": [
    "`(1)` 숙성담당 네트워크"
   ]
  },
  {
   "cell_type": "code",
   "execution_count": null,
   "id": "dd870cc2-2d7d-4129-8568-3569f4cf8c41",
   "metadata": {},
   "outputs": [],
   "source": [
    "class rNNCell(torch.nn.Module):\n",
    "    def __init__(self):\n",
    "        super().__init__()\n",
    "        self.i2h = torch.nn.Linear(4,2) \n",
    "        self.h2h = torch.nn.Linear(2,2) \n",
    "        self.tanh = torch.nn.Tanh()\n",
    "    def forward(self,x,hidden):\n",
    "        hidden = self.tanh(self.i2h(x)+self.h2h(hidden))\n",
    "        return hidden"
   ]
  },
  {
   "cell_type": "code",
   "execution_count": null,
   "id": "27940560-4a81-427a-a12a-dcd877c5761b",
   "metadata": {},
   "outputs": [],
   "source": [
    "torch.manual_seed(43052)\n",
    "rnncell = rNNCell() # 숙성담당 네트워크 "
   ]
  },
  {
   "cell_type": "markdown",
   "id": "7d4ea5a0-7739-40d1-bcfa-18ab5e1385ba",
   "metadata": {},
   "source": [
    "`(2)` 조리담당 네트워크"
   ]
  },
  {
   "cell_type": "code",
   "execution_count": null,
   "id": "0eb0d231-8f3e-415b-b8be-21699741fa9f",
   "metadata": {},
   "outputs": [],
   "source": [
    "torch.manual_seed(43052)\n",
    "cook = torch.nn.Linear(2,4) "
   ]
  },
  {
   "cell_type": "markdown",
   "id": "7be0aed1-0af7-4946-92dd-e2eea9c79de8",
   "metadata": {},
   "source": [
    "`(3)` 손실함수, 옵티마이저 설계 "
   ]
  },
  {
   "cell_type": "code",
   "execution_count": null,
   "id": "0ee8e986-3291-4148-a2e9-7b2a90595aed",
   "metadata": {},
   "outputs": [],
   "source": [
    "loss_fn = torch.nn.CrossEntropyLoss() \n",
    "optimizr = torch.optim.Adam(list(rnncell.parameters())+list(cook.parameters()))"
   ]
  },
  {
   "cell_type": "markdown",
   "id": "40e89127-7ee7-4c2c-896e-d62fa21c1847",
   "metadata": {},
   "source": [
    "`(4)` 학습 (6분정도 걸림)"
   ]
  },
  {
   "cell_type": "code",
   "execution_count": null,
   "id": "6c6a42f3-1418-44d1-a93c-cefc173e6e30",
   "metadata": {},
   "outputs": [],
   "source": [
    "T = len(x) \n",
    "for epoc in range(5000): \n",
    "    ## 1~2\n",
    "    loss = 0 \n",
    "    ht = torch.zeros(1,2) \n",
    "    for t in range(T):\n",
    "        xt,yt = x[[t]], y[[t]]\n",
    "        ht = rnncell(xt,ht) \n",
    "        ot = cook(ht) \n",
    "        loss = loss + loss_fn(ot,yt) \n",
    "    ## 3 \n",
    "    loss.backward()\n",
    "    ## 4 \n",
    "    optimizr.step()\n",
    "    optimizr.zero_grad()"
   ]
  },
  {
   "cell_type": "markdown",
   "id": "053fe5f8-3bc7-4a06-8a8b-c91b6a941a24",
   "metadata": {},
   "source": [
    "`(5)` 시각화 "
   ]
  },
  {
   "cell_type": "code",
   "execution_count": null,
   "id": "0979a565-dc50-4c2c-b62e-76b64f026813",
   "metadata": {},
   "outputs": [],
   "source": [
    "T = len(x) \n",
    "hidden = torch.zeros(T,2) # 599년치 h를 담을 변수 \n",
    "_water = torch.zeros(1,2) # 맹물 \n",
    "hidden[[0]] = rnncell(x[[0]],_water) \n",
    "for t in range(1,T):\n",
    "    hidden[[t]] = rnncell(x[[t]],hidden[[t-1]]) "
   ]
  },
  {
   "cell_type": "code",
   "execution_count": null,
   "id": "4e07845c-2d97-4add-a07c-0a445b70158f",
   "metadata": {},
   "outputs": [],
   "source": [
    "yhat = soft(cook(hidden))\n",
    "yhat"
   ]
  },
  {
   "cell_type": "code",
   "execution_count": null,
   "id": "2a691864-38ef-4f09-871a-9fe790c217a9",
   "metadata": {},
   "outputs": [],
   "source": [
    "plt.matshow(yhat.data[-15:],cmap='bwr')"
   ]
  },
  {
   "cell_type": "markdown",
   "id": "5611700f-f346-4865-918f-3e0bc8afa3a8",
   "metadata": {},
   "source": [
    "### 순환신경망 구현2 (with RNNCell, hidden node 2)"
   ]
  },
  {
   "cell_type": "markdown",
   "id": "ded905c8-b405-4427-b6f3-1e77a5ab8826",
   "metadata": {},
   "source": [
    "ref: <https://pytorch.org/docs/stable/generated/torch.nn.RNNCell.html>"
   ]
  },
  {
   "cell_type": "markdown",
   "id": "85197690-4cac-4c27-a8cd-c6c6f25a99e1",
   "metadata": {},
   "source": [
    "#### 구현1과 같은 초기값 (확인용) "
   ]
  },
  {
   "cell_type": "markdown",
   "id": "8de38d9b-dd2b-4aa3-9b73-91efb9aa2963",
   "metadata": {},
   "source": [
    "`(1)` 숙성네트워크"
   ]
  },
  {
   "cell_type": "code",
   "execution_count": null,
   "id": "912e7492-e89b-43e4-af20-10c21734a89a",
   "metadata": {},
   "outputs": [],
   "source": [
    "torch.manual_seed(43052)\n",
    "_rnncell = rNNCell() # 숙성담당 네트워크 "
   ]
  },
  {
   "cell_type": "code",
   "execution_count": null,
   "id": "427dc3ff-dabc-4832-8eb7-9efe9eb30b57",
   "metadata": {},
   "outputs": [],
   "source": [
    "rnncell = torch.nn.RNNCell(4,2)"
   ]
  },
  {
   "cell_type": "markdown",
   "id": "1ca9a62f-e9a4-41ac-929d-f6f3412cd6a6",
   "metadata": {},
   "source": [
    "`rNNCell()` 는 사실 `torch.nn.RNNCell()`와 같은 동작을 하도록 설계를 하였음. 같은동작을 하는지 확인하기 위해서 동일한 초기상태에서 `rNNCell()`에 의하여 학습된 결과와 `torch.nn.RNNCell()`에 의하여 학습된 결과를 비교해보자."
   ]
  },
  {
   "cell_type": "code",
   "execution_count": null,
   "id": "6df5a3a8-d8bb-4972-9abf-9cfbc6dfba8c",
   "metadata": {},
   "outputs": [],
   "source": [
    "rnncell.weight_ih.data = _rnncell.i2h.weight.data\n",
    "rnncell.bias_ih.data = _rnncell.i2h.bias.data\n",
    "rnncell.weight_hh.data = _rnncell.h2h.weight.data\n",
    "rnncell.bias_hh.data = _rnncell.h2h.bias.data"
   ]
  },
  {
   "cell_type": "markdown",
   "id": "6dea95d7-e525-4acf-af40-1796030807c9",
   "metadata": {},
   "source": [
    "`(2)` 조리네트워크"
   ]
  },
  {
   "cell_type": "code",
   "execution_count": null,
   "id": "b7dcb6cd-662e-4849-a7cd-7bf072afc0eb",
   "metadata": {},
   "outputs": [],
   "source": [
    "torch.manual_seed(43052)\n",
    "cook = torch.nn.Linear(2,4) # 숙성된 2차원의 단어를 다시 4차원으로 바꿔줘야지 나중에 softmax취할 수 있음"
   ]
  },
  {
   "cell_type": "markdown",
   "id": "0ad0a23b-2a0c-4fff-a22d-e1f1b6f1e7a9",
   "metadata": {},
   "source": [
    "`(3)` 손실함수와 옵티마이저 "
   ]
  },
  {
   "cell_type": "code",
   "execution_count": null,
   "id": "3df2a7ad-3dca-480f-b8eb-267f85550c4a",
   "metadata": {},
   "outputs": [],
   "source": [
    "loss_fn = torch.nn.CrossEntropyLoss()\n",
    "optimizr = torch.optim.Adam(list(rnncell.parameters())+list(cook.parameters()))"
   ]
  },
  {
   "cell_type": "markdown",
   "id": "d698219b-3c0f-427e-bc92-f6294970c7b9",
   "metadata": {},
   "source": [
    "`(4)` 학습"
   ]
  },
  {
   "cell_type": "code",
   "execution_count": null,
   "id": "3da3ff3e-cc6d-41ca-b356-09689378fc93",
   "metadata": {},
   "outputs": [],
   "source": [
    "T = len(x) \n",
    "for epoc in range(5000):\n",
    "    ## 1~2\n",
    "    loss = 0 \n",
    "    ht = torch.zeros(1,2) \n",
    "    for t in range(T):\n",
    "        xt,yt = x[[t]], y[[t]]\n",
    "        ht = rnncell(xt,ht)\n",
    "        ot = cook(ht)\n",
    "        loss = loss + loss_fn(ot,yt) \n",
    "    ## 3 \n",
    "    loss.backward()\n",
    "    ## 4 \n",
    "    optimizr.step()\n",
    "    optimizr.zero_grad()"
   ]
  },
  {
   "cell_type": "markdown",
   "id": "f0811bbb-f943-46ed-b929-588976be3ad4",
   "metadata": {},
   "source": [
    "`(5)` 시각화 "
   ]
  },
  {
   "cell_type": "code",
   "execution_count": null,
   "id": "12b9ec09-0331-42bc-bb01-2fed1935e768",
   "metadata": {},
   "outputs": [],
   "source": [
    "hidden = torch.zeros(T,2) "
   ]
  },
  {
   "cell_type": "code",
   "execution_count": null,
   "id": "dd76fb29-8944-4916-9225-be9b4680403d",
   "metadata": {},
   "outputs": [],
   "source": [
    "# t=0 \n",
    "_water = torch.zeros(1,2)\n",
    "hidden[[0]] = rnncell(x[[0]],_water)\n",
    "# t=1~T \n",
    "for t in range(1,T):\n",
    "    hidden[[t]] = rnncell(x[[t]],hidden[[t-1]])"
   ]
  },
  {
   "cell_type": "code",
   "execution_count": null,
   "id": "eefd7307-5710-4475-b6fb-c831e075fc0c",
   "metadata": {},
   "outputs": [],
   "source": [
    "yhat = soft(cook(hidden))\n",
    "yhat"
   ]
  },
  {
   "cell_type": "code",
   "execution_count": null,
   "id": "db0b8220-8e2f-4fc5-8060-31a3b7deb86c",
   "metadata": {},
   "outputs": [],
   "source": [
    "plt.matshow(yhat[:15].data,cmap='bwr')"
   ]
  },
  {
   "cell_type": "code",
   "execution_count": null,
   "id": "9ebbdb60-0732-4db1-8dfa-78774b2b267b",
   "metadata": {},
   "outputs": [],
   "source": [
    "plt.matshow(yhat[-15:].data,cmap='bwr')"
   ]
  },
  {
   "cell_type": "markdown",
   "id": "edb8fea7-1b40-4e88-a3fe-470fde119506",
   "metadata": {},
   "source": [
    "#### 새로운 초기값"
   ]
  },
  {
   "cell_type": "markdown",
   "id": "14904bba-6698-42a2-b633-4a2ca2901caf",
   "metadata": {},
   "source": [
    "`(1)` 숙성네트워크"
   ]
  },
  {
   "cell_type": "code",
   "execution_count": null,
   "id": "c374dfe9-c6a9-4d36-94c2-c7dfe3608064",
   "metadata": {},
   "outputs": [],
   "source": [
    "torch.manual_seed(43052)\n",
    "torch.nn.RNNCell(4,2)"
   ]
  },
  {
   "cell_type": "markdown",
   "id": "a4138605-a095-435a-9edc-0fc370443744",
   "metadata": {},
   "source": [
    "`(2)` 조리네트워크"
   ]
  },
  {
   "cell_type": "code",
   "execution_count": null,
   "id": "13e0f035-94ad-4410-aa59-56233a3a9af1",
   "metadata": {},
   "outputs": [],
   "source": [
    "torch.manual_seed(43052)\n",
    "cook = torch.nn.Linear(2,4) # 숙성된 2차원의 단어를 다시 4차원으로 바꿔줘야지 나중에 softmax취할 수 있음"
   ]
  },
  {
   "cell_type": "markdown",
   "id": "d6831a22-6f96-4890-94bf-d3daf676c4ae",
   "metadata": {},
   "source": [
    "`(3)` 손실함수와 옵티마이저 "
   ]
  },
  {
   "cell_type": "code",
   "execution_count": null,
   "id": "f76fc9c2-e220-4a39-9664-3e3b206d13ad",
   "metadata": {},
   "outputs": [],
   "source": [
    "loss_fn = torch.nn.CrossEntropyLoss()\n",
    "optimizr = torch.optim.Adam(list(rnncell.parameters())+list(cook.parameters()))"
   ]
  },
  {
   "cell_type": "markdown",
   "id": "100149c4-2667-44b8-becd-75fb1e96b5e0",
   "metadata": {},
   "source": [
    "`(4)` 학습"
   ]
  },
  {
   "cell_type": "code",
   "execution_count": null,
   "id": "1636446c-840f-4bc2-8b32-1ba985c7f2b3",
   "metadata": {},
   "outputs": [],
   "source": [
    "T = len(x) \n",
    "for epoc in range(5000):\n",
    "    ## 1~2\n",
    "    loss = 0 \n",
    "    ht = torch.zeros(1,2) \n",
    "    for t in range(T):\n",
    "        xt,yt = x[[t]], y[[t]]\n",
    "        ht = rnncell(xt,ht)\n",
    "        ot = cook(ht)\n",
    "        loss = loss + loss_fn(ot,yt) \n",
    "    ## 3 \n",
    "    loss.backward()\n",
    "    ## 4 \n",
    "    optimizr.step()\n",
    "    optimizr.zero_grad()"
   ]
  },
  {
   "cell_type": "markdown",
   "id": "6709ddd9-1702-4c79-a9e0-9662b9d530d1",
   "metadata": {},
   "source": [
    "`(5)` 시각화 "
   ]
  },
  {
   "cell_type": "markdown",
   "id": "2b794973-e8f5-4109-9b27-a615e3eddcb5",
   "metadata": {},
   "source": [
    "### 순환신경망 구현3 (with RNN, hidden node 2) -- 성공 "
   ]
  },
  {
   "cell_type": "markdown",
   "id": "70b658f9-fcaf-4f5c-85f4-d337c38f6e7f",
   "metadata": {},
   "source": [
    "(예비학습)"
   ]
  },
  {
   "cell_type": "markdown",
   "id": "26e54b9e-5fc1-4ec0-974a-b3720c8f117b",
   "metadata": {},
   "source": [
    "`-` 네트워크학습이후 yhat을 구하려면 번거로웠음 \n",
    "\n",
    "```Python\n",
    "hidden = torch.zeros(T,2) \n",
    "_water = torch.zeros(1,2)\n",
    "hidden[[0]] = rnncell(x[[0]],_water)\n",
    "for t in range(1,T):\n",
    "    hidden[[t]] = rnncell(x[[t]],hidden[[t-1]])\n",
    "yhat = soft(cook(hidden))\n",
    "```"
   ]
  },
  {
   "cell_type": "markdown",
   "id": "506071c5-7db5-4110-88b2-65e18a63a0ea",
   "metadata": {},
   "source": [
    "`-` 이렇게 하면 쉽게(?) 구할 수 있음 "
   ]
  },
  {
   "cell_type": "code",
   "execution_count": null,
   "id": "77f04ace-59b1-4b5b-9773-9929d51bd59c",
   "metadata": {},
   "outputs": [],
   "source": [
    "rnn = torch.nn.RNN(4,2)"
   ]
  },
  {
   "cell_type": "code",
   "execution_count": null,
   "id": "73ecf1be-4a22-41ee-a747-1956475ee53c",
   "metadata": {},
   "outputs": [],
   "source": [
    "rnn.weight_hh_l0.data = rnncell.weight_hh.data \n",
    "rnn.weight_ih_l0.data = rnncell.weight_ih.data\n",
    "rnn.bias_hh_l0.data = rnncell.bias_hh.data\n",
    "rnn.bias_ih_l0.data = rnncell.bias_ih.data"
   ]
  },
  {
   "cell_type": "markdown",
   "id": "638f9b7a-5aa2-41c1-92a4-90ddd6d9f819",
   "metadata": {},
   "source": [
    "`-` rnn(x,_water)의 결과는 (1) 599년치 간장 (2) 599번째 간장 이다 "
   ]
  },
  {
   "cell_type": "code",
   "execution_count": null,
   "id": "e53dc2c8-0e1e-4cb9-b5c9-e645540e86bc",
   "metadata": {},
   "outputs": [],
   "source": [
    "rnn(x,_water), hidden"
   ]
  },
  {
   "cell_type": "code",
   "execution_count": null,
   "id": "6f50b73a-35d8-4a7c-a07e-574574b40c42",
   "metadata": {},
   "outputs": [],
   "source": [
    "soft(cook(rnn(x,_water)[0]))"
   ]
  },
  {
   "cell_type": "markdown",
   "id": "d6a759f5-ef39-4add-bd31-71139b3eed20",
   "metadata": {},
   "source": [
    "***(예비학습결론) torch.nn.RNN(4,2)는 torch.nn.RNNCell(4,2)의 batch 버전이다. (for문이 포함된 버전이다)***"
   ]
  },
  {
   "cell_type": "markdown",
   "id": "5468daa1-3490-428c-b694-ecc73f243f99",
   "metadata": {},
   "source": [
    "---"
   ]
  },
  {
   "cell_type": "markdown",
   "id": "3f75cfe1-9657-4a8c-8718-762c9670dded",
   "metadata": {},
   "source": [
    "torch.nn.RNN(4,2)를 이용하여 구현하자. "
   ]
  },
  {
   "cell_type": "markdown",
   "id": "db6e5d6f-df70-422d-b7db-9d9307bc2776",
   "metadata": {},
   "source": [
    "`(1)` 숙성네트워크"
   ]
  },
  {
   "cell_type": "markdown",
   "id": "fe2a657b-6f3a-45e1-ae4d-a25eb476c0a1",
   "metadata": {},
   "source": [
    "선언"
   ]
  },
  {
   "cell_type": "code",
   "execution_count": null,
   "id": "5a4b35c7-12cb-4d8f-8583-76f2bf260b0a",
   "metadata": {},
   "outputs": [],
   "source": [
    "rnn = torch.nn.RNN(4,2)"
   ]
  },
  {
   "cell_type": "markdown",
   "id": "a3d8061e-d03a-487b-bdfd-579318125b1e",
   "metadata": {},
   "source": [
    "가중치초기화"
   ]
  },
  {
   "cell_type": "code",
   "execution_count": null,
   "id": "b31d7b41-6794-48df-b74c-a539a458bf35",
   "metadata": {},
   "outputs": [],
   "source": [
    "torch.manual_seed(43052)\n",
    "_rnncell = torch.nn.RNNCell(4,2)"
   ]
  },
  {
   "cell_type": "code",
   "execution_count": null,
   "id": "1e1c6f16-9ac5-4e6d-9f3d-26868968d886",
   "metadata": {},
   "outputs": [],
   "source": [
    "rnn.weight_hh_l0.data = _rnncell.weight_hh.data \n",
    "rnn.weight_ih_l0.data = _rnncell.weight_ih.data\n",
    "rnn.bias_hh_l0.data = _rnncell.bias_hh.data\n",
    "rnn.bias_ih_l0.data = _rnncell.bias_ih.data"
   ]
  },
  {
   "cell_type": "markdown",
   "id": "bfa65184-4a51-4c4c-8c6e-2533a02dcd5b",
   "metadata": {},
   "source": [
    "`(2)` 조리네트워크"
   ]
  },
  {
   "cell_type": "code",
   "execution_count": null,
   "id": "c7458907-7b80-4981-871d-d477fe9daeaf",
   "metadata": {},
   "outputs": [],
   "source": [
    "torch.manual_seed(43052)\n",
    "cook = torch.nn.Linear(2,4) "
   ]
  },
  {
   "cell_type": "markdown",
   "id": "90e49923-b7d4-4cfd-a127-eb2b9f4f9c98",
   "metadata": {},
   "source": [
    "`(3)` 손실함수와 옵티마이저"
   ]
  },
  {
   "cell_type": "code",
   "execution_count": null,
   "id": "4d56f314-a8cd-4c85-8f7c-ba0081aefb42",
   "metadata": {},
   "outputs": [],
   "source": [
    "loss_fn = torch.nn.CrossEntropyLoss()\n",
    "optimizr = torch.optim.Adam(list(rnn.parameters())+list(cook.parameters()))"
   ]
  },
  {
   "cell_type": "markdown",
   "id": "f7757f30-4264-4b47-87e9-e5e42cfaf4d9",
   "metadata": {},
   "source": [
    "`(4)` 학습"
   ]
  },
  {
   "cell_type": "code",
   "execution_count": null,
   "id": "193b2256-2898-4f7a-8bd7-30c6f36adcf2",
   "metadata": {},
   "outputs": [],
   "source": [
    "_water = torch.zeros(1,2) \n",
    "for epoc in range(5000):\n",
    "    ## 1 \n",
    "    hidden,hT = rnn(x,_water)\n",
    "    output = cook(hidden) \n",
    "    ## 2 \n",
    "    loss = loss_fn(output,y)\n",
    "    ## 3 \n",
    "    loss.backward()\n",
    "    ## 4 \n",
    "    optimizr.step()\n",
    "    optimizr.zero_grad()"
   ]
  },
  {
   "cell_type": "markdown",
   "id": "a2d0b20c-89b2-4db2-a066-6fad78ee92da",
   "metadata": {},
   "source": [
    "`(5)` 시각화1: yhat"
   ]
  },
  {
   "cell_type": "code",
   "execution_count": null,
   "id": "2d3ba732-9f22-40cd-960b-5ee7256d4e1f",
   "metadata": {},
   "outputs": [],
   "source": [
    "yhat = soft(output)"
   ]
  },
  {
   "cell_type": "code",
   "execution_count": null,
   "id": "b80f712d-3921-4095-8d4e-008f94c6847b",
   "metadata": {},
   "outputs": [],
   "source": [
    "plt.matshow(yhat.data[:15],cmap='bwr')"
   ]
  },
  {
   "cell_type": "markdown",
   "id": "0918666c-3a3f-4dec-b32f-c1ef1bf0a213",
   "metadata": {},
   "source": [
    "- 처음은 좀 틀렸음 ㅎㅎ"
   ]
  },
  {
   "cell_type": "code",
   "execution_count": null,
   "id": "a28eb333-7d11-49ba-97d0-864b518067b2",
   "metadata": {},
   "outputs": [],
   "source": [
    "plt.matshow(yhat.data[-15:],cmap='bwr')"
   ]
  },
  {
   "cell_type": "markdown",
   "id": "e06e6d00-493d-4db9-b643-99aff29f574f",
   "metadata": {},
   "source": [
    "- 뒤에는 잘맞음 "
   ]
  },
  {
   "cell_type": "markdown",
   "id": "002595dd-5a11-4e5e-b54a-4ef8077b44e5",
   "metadata": {},
   "source": [
    "**실전팁: `_water` 대신에 `hT`를 대입 (사실 큰 차이는 없음)**"
   ]
  },
  {
   "cell_type": "code",
   "execution_count": null,
   "id": "877bf41c-1797-477b-b695-c9382529948a",
   "metadata": {},
   "outputs": [],
   "source": [
    "rnn(x[:6],_water),rnn(x[:6],hT)"
   ]
  },
  {
   "cell_type": "markdown",
   "id": "e2d0edb7-ce6b-46ec-b4d8-727671fc67ba",
   "metadata": {},
   "source": [
    "`(6)` 시각화2: hidden, yhat"
   ]
  },
  {
   "cell_type": "code",
   "execution_count": null,
   "id": "69e24656-dbf6-4b54-adb8-de36b9bb21e7",
   "metadata": {},
   "outputs": [],
   "source": [
    "combinded = torch.concat([hidden,yhat],axis=1)"
   ]
  },
  {
   "cell_type": "code",
   "execution_count": null,
   "id": "5fac9052-170e-45be-9321-e09607543146",
   "metadata": {},
   "outputs": [],
   "source": [
    "plt.matshow(combinded[-15:].data,cmap='bwr')"
   ]
  },
  {
   "cell_type": "markdown",
   "id": "ce7886c8-af0f-4cdd-8f5b-0373ecc60705",
   "metadata": {},
   "source": [
    "- 히든노드의 해석이 어려움. "
   ]
  },
  {
   "cell_type": "markdown",
   "id": "445af3e2-8fb8-492c-9670-038c0db3adf7",
   "metadata": {},
   "source": [
    "### 순환신경망 구현4 (with RNN, hidden node 3) -- 성공 "
   ]
  },
  {
   "cell_type": "markdown",
   "id": "07427ef7-a927-4dc6-a4a3-504cc6a9847d",
   "metadata": {},
   "source": [
    "`(1)` 숙성네트워크~ `(2)` 조리네트워크"
   ]
  },
  {
   "cell_type": "code",
   "execution_count": null,
   "id": "6cae8682-9dd8-4e4b-82a0-b76d4e3b694b",
   "metadata": {},
   "outputs": [],
   "source": [
    "torch.manual_seed(2) #1 \n",
    "rnn = torch.nn.RNN(4,3) \n",
    "cook = torch.nn.Linear(3,4) "
   ]
  },
  {
   "cell_type": "markdown",
   "id": "bfc4307f-d9cc-4f66-a11d-6f16348e3064",
   "metadata": {},
   "source": [
    "`(3)` 손실함수와 옵티마이저"
   ]
  },
  {
   "cell_type": "code",
   "execution_count": null,
   "id": "f5768d12-3489-45f7-9c3f-ae0acf462e25",
   "metadata": {},
   "outputs": [],
   "source": [
    "loss_fn = torch.nn.CrossEntropyLoss()\n",
    "optimizr = torch.optim.Adam(list(rnn.parameters())+list(cook.parameters()))"
   ]
  },
  {
   "cell_type": "markdown",
   "id": "044e0904-5f05-4d39-80c4-e119f64c242f",
   "metadata": {},
   "source": [
    "`(4)` 학습"
   ]
  },
  {
   "cell_type": "code",
   "execution_count": null,
   "id": "da35acd3-8e40-41c3-8f74-0dcc53f053c5",
   "metadata": {},
   "outputs": [],
   "source": [
    "_water = torch.zeros(1,3) \n",
    "for epoc in range(5000):\n",
    "    ## 1\n",
    "    hidden,hT = rnn(x,_water) \n",
    "    output = cook(hidden) \n",
    "    ## 2 \n",
    "    loss = loss_fn(output,y) \n",
    "    ## 3 \n",
    "    loss.backward()\n",
    "    ## 4 \n",
    "    optimizr.step()\n",
    "    optimizr.zero_grad()"
   ]
  },
  {
   "cell_type": "markdown",
   "id": "fc9c0e96-2a35-4128-8a6a-9e4eaeb7eccb",
   "metadata": {},
   "source": [
    "`(5)` 시각화1: yhat"
   ]
  },
  {
   "cell_type": "code",
   "execution_count": null,
   "id": "835fc173-ad58-4b46-beac-d7470e29e885",
   "metadata": {},
   "outputs": [],
   "source": [
    "yhat = soft(output)"
   ]
  },
  {
   "cell_type": "code",
   "execution_count": null,
   "id": "db46c3fe-5442-414a-96e9-3a0a6520ab38",
   "metadata": {},
   "outputs": [],
   "source": [
    "plt.matshow(yhat[-15:].data,cmap='bwr')"
   ]
  },
  {
   "cell_type": "markdown",
   "id": "0aa82008-bcd0-49be-8d83-f89b2f23ab4a",
   "metadata": {},
   "source": [
    "`(6)` 시각화2: hidden, yhat"
   ]
  },
  {
   "cell_type": "code",
   "execution_count": null,
   "id": "77c59be7-3afb-4a58-93a9-d78d17f42ce9",
   "metadata": {},
   "outputs": [],
   "source": [
    "combinded = torch.concat([hidden,yhat],axis=1)"
   ]
  },
  {
   "cell_type": "code",
   "execution_count": null,
   "id": "2f2d7c58-70ee-4249-93f2-195a2d51d9f7",
   "metadata": {},
   "outputs": [],
   "source": [
    "plt.matshow(combinded[-15:].data,cmap='bwr')"
   ]
  },
  {
   "cell_type": "markdown",
   "id": "15e23f3b-664d-4c5c-b76c-4ccd97ebb19f",
   "metadata": {},
   "source": [
    "- 세번째 히든노드 = 대소문자를 구분\n",
    "- 1,2 히든노드 = bcd를 구분 "
   ]
  },
  {
   "cell_type": "markdown",
   "id": "8447a955-e89a-4a1a-bc1f-930ce0f21242",
   "metadata": {
    "tags": []
   },
   "source": [
    "## GPU 실험"
   ]
  },
  {
   "cell_type": "markdown",
   "id": "cb854388-5163-4ca8-a5e4-894fa02fdf40",
   "metadata": {},
   "source": [
    "### 20000 len + 20 hidden nodes"
   ]
  },
  {
   "cell_type": "markdown",
   "id": "f297224e-d20e-4420-abfa-7a218dd590c3",
   "metadata": {},
   "source": [
    "***cpu***"
   ]
  },
  {
   "cell_type": "code",
   "execution_count": null,
   "id": "c2edfd2f-4228-4594-9880-b3dad45aacb0",
   "metadata": {},
   "outputs": [],
   "source": [
    "x = torch.randn([20000,4]) \n",
    "y = torch.randn([20000,4]) "
   ]
  },
  {
   "cell_type": "code",
   "execution_count": null,
   "id": "4e889187-0496-4142-a1d6-16327113fe53",
   "metadata": {},
   "outputs": [],
   "source": [
    "rnn = torch.nn.RNN(4,20) \n",
    "linr = torch.nn.Linear(20,4) \n",
    "optimizr = torch.optim.Adam(list(rnn.parameters())+list(linr.parameters()))\n",
    "loss_fn = torch.nn.MSELoss() "
   ]
  },
  {
   "cell_type": "code",
   "execution_count": null,
   "id": "311918e5-1ddc-4837-b73c-f817ae9fe6b4",
   "metadata": {},
   "outputs": [],
   "source": [
    "t1 = time.time()\n",
    "for epoc in range(100):\n",
    "    ## 1 \n",
    "    _water = torch.zeros(1,20)\n",
    "    hidden, hT = rnn(x,_water) \n",
    "    yhat = linr(hidden) \n",
    "    ## 2 \n",
    "    loss = loss_fn(yhat,y) \n",
    "    ## 3\n",
    "    loss.backward() \n",
    "    ## 4 \n",
    "    optimizr.step()\n",
    "    optimizr.zero_grad()\n",
    "t2 = time.time()\n",
    "t2 - t1 "
   ]
  },
  {
   "cell_type": "markdown",
   "id": "ce624a3b-19c1-4842-b1ac-f144f882cca0",
   "metadata": {},
   "source": [
    "***gpu***"
   ]
  },
  {
   "cell_type": "code",
   "execution_count": null,
   "id": "9e751aaf-fe3f-4cf0-8c20-dca68c32bc62",
   "metadata": {},
   "outputs": [],
   "source": [
    "x = torch.randn([20000,4]).to(\"cuda:0\")\n",
    "y = torch.randn([20000,4]).to(\"cuda:0\")"
   ]
  },
  {
   "cell_type": "code",
   "execution_count": null,
   "id": "b814897c-f144-4781-b14a-0ef3d6a27278",
   "metadata": {},
   "outputs": [],
   "source": [
    "rnn = torch.nn.RNN(4,20).to(\"cuda:0\")\n",
    "linr = torch.nn.Linear(20,4).to(\"cuda:0\")\n",
    "optimizr = torch.optim.Adam(list(rnn.parameters())+list(linr.parameters()))\n",
    "loss_fn = torch.nn.MSELoss() "
   ]
  },
  {
   "cell_type": "code",
   "execution_count": null,
   "id": "e76c8e27-6c5d-41b7-a668-fe8bd4a69f7f",
   "metadata": {},
   "outputs": [],
   "source": [
    "t1 = time.time()\n",
    "for epoc in range(100):\n",
    "    ## 1 \n",
    "    _water = torch.zeros(1,20).to(\"cuda:0\")\n",
    "    hidden, hT = rnn(x,_water) \n",
    "    yhat = linr(hidden) \n",
    "    ## 2 \n",
    "    loss = loss_fn(yhat,y) \n",
    "    ## 3\n",
    "    loss.backward() \n",
    "    ## 4 \n",
    "    optimizr.step()\n",
    "    optimizr.zero_grad()\n",
    "t2 = time.time()\n",
    "t2 - t1 "
   ]
  },
  {
   "cell_type": "markdown",
   "id": "2363372d-c184-435b-9b04-a59cea8f697a",
   "metadata": {},
   "source": [
    "- 왜 빠른지? "
   ]
  },
  {
   "cell_type": "markdown",
   "id": "cd8e9044-eae3-45e3-8947-3929779566b5",
   "metadata": {},
   "source": [
    "### 20000 len + 20 hidden nodes + 역전파주석처리 "
   ]
  },
  {
   "cell_type": "markdown",
   "id": "baaef731-bc5d-4408-bd37-2e20c9dd2a6c",
   "metadata": {},
   "source": [
    "***cpu***"
   ]
  },
  {
   "cell_type": "code",
   "execution_count": null,
   "id": "de0fb966-afd2-484e-b5e2-f24314fda6e4",
   "metadata": {},
   "outputs": [],
   "source": [
    "x = torch.randn([20000,4]) \n",
    "y = torch.randn([20000,4]) "
   ]
  },
  {
   "cell_type": "code",
   "execution_count": null,
   "id": "2bbfcdbe-c0e2-4436-9499-9d9b0634850a",
   "metadata": {},
   "outputs": [],
   "source": [
    "rnn = torch.nn.RNN(4,20) \n",
    "linr = torch.nn.Linear(20,4) \n",
    "optimizr = torch.optim.Adam(list(rnn.parameters())+list(linr.parameters()))\n",
    "loss_fn = torch.nn.MSELoss() "
   ]
  },
  {
   "cell_type": "code",
   "execution_count": null,
   "id": "8b321c6a-6e25-48b6-b4ae-8caca0b345c6",
   "metadata": {},
   "outputs": [],
   "source": [
    "t1 = time.time()\n",
    "for epoc in range(100):\n",
    "    ## 1 \n",
    "    _water = torch.zeros(1,20)\n",
    "    hidden, hT = rnn(x,_water) \n",
    "    yhat = linr(hidden) \n",
    "    ## 2 \n",
    "    loss = loss_fn(yhat,y) \n",
    "    ## 3\n",
    "    #loss.backward() \n",
    "    ## 4 \n",
    "    optimizr.step()\n",
    "    optimizr.zero_grad()\n",
    "t2 = time.time()\n",
    "t2 - t1 "
   ]
  },
  {
   "cell_type": "markdown",
   "id": "a73e169b-d84c-4eb3-b00d-8aefaae41219",
   "metadata": {},
   "source": [
    "***gpu***"
   ]
  },
  {
   "cell_type": "code",
   "execution_count": null,
   "id": "147541e7-f167-4fd7-af97-5e1aa0cd8f1b",
   "metadata": {},
   "outputs": [],
   "source": [
    "x = torch.randn([20000,4]).to(\"cuda:0\")\n",
    "y = torch.randn([20000,4]).to(\"cuda:0\")"
   ]
  },
  {
   "cell_type": "code",
   "execution_count": null,
   "id": "5c762990-9114-496b-9508-9fbbf9af4ba9",
   "metadata": {},
   "outputs": [],
   "source": [
    "rnn = torch.nn.RNN(4,20).to(\"cuda:0\")\n",
    "linr = torch.nn.Linear(20,4).to(\"cuda:0\")\n",
    "optimizr = torch.optim.Adam(list(rnn.parameters())+list(linr.parameters()))\n",
    "loss_fn = torch.nn.MSELoss() "
   ]
  },
  {
   "cell_type": "code",
   "execution_count": null,
   "id": "dd5dedb2-6a93-4158-9123-13f7593eab99",
   "metadata": {},
   "outputs": [],
   "source": [
    "t1 = time.time()\n",
    "for epoc in range(100):\n",
    "    ## 1 \n",
    "    _water = torch.zeros(1,20).to(\"cuda:0\")\n",
    "    hidden, hT = rnn(x,_water) \n",
    "    yhat = linr(hidden) \n",
    "    ## 2 \n",
    "    loss = loss_fn(yhat,y) \n",
    "    ## 3\n",
    "    #loss.backward() \n",
    "    ## 4 \n",
    "    optimizr.step()\n",
    "    optimizr.zero_grad()\n",
    "t2 = time.time()\n",
    "t2 - t1 "
   ]
  },
  {
   "cell_type": "markdown",
   "id": "aaf4869a-19c1-4884-a0b6-cce276995ed7",
   "metadata": {},
   "source": [
    "### 2000 len + 20 hidden nodes "
   ]
  },
  {
   "cell_type": "markdown",
   "id": "8b7cabe8-f925-4e4d-a4d2-d73951f0dce4",
   "metadata": {},
   "source": [
    "***cpu***"
   ]
  },
  {
   "cell_type": "code",
   "execution_count": null,
   "id": "2d407adf-742d-4e3d-9173-cf1632d88284",
   "metadata": {},
   "outputs": [],
   "source": [
    "x = torch.randn([2000,4]) \n",
    "y = torch.randn([2000,4]) "
   ]
  },
  {
   "cell_type": "code",
   "execution_count": null,
   "id": "7443b00a-aa9d-450e-bedc-112615b20bcf",
   "metadata": {},
   "outputs": [],
   "source": [
    "rnn = torch.nn.RNN(4,20) \n",
    "linr = torch.nn.Linear(20,4) \n",
    "optimizr = torch.optim.Adam(list(rnn.parameters())+list(linr.parameters()))\n",
    "loss_fn = torch.nn.MSELoss() "
   ]
  },
  {
   "cell_type": "code",
   "execution_count": null,
   "id": "19c4d305-8ee8-4ab9-9d0d-c11b55871b8b",
   "metadata": {},
   "outputs": [],
   "source": [
    "t1 = time.time()\n",
    "for epoc in range(100):\n",
    "    ## 1 \n",
    "    _water = torch.zeros(1,20)\n",
    "    hidden, hT = rnn(x,_water) \n",
    "    yhat = linr(hidden) \n",
    "    ## 2 \n",
    "    loss = loss_fn(yhat,y) \n",
    "    ## 3\n",
    "    loss.backward() \n",
    "    ## 4 \n",
    "    optimizr.step()\n",
    "    optimizr.zero_grad()\n",
    "t2 = time.time()\n",
    "t2 - t1 "
   ]
  },
  {
   "cell_type": "markdown",
   "id": "774f6401-da97-4285-a8cf-fd691e90deed",
   "metadata": {},
   "source": [
    "***gpu***"
   ]
  },
  {
   "cell_type": "code",
   "execution_count": null,
   "id": "1d6e1191-4e46-49ea-be00-9b2a94597b46",
   "metadata": {},
   "outputs": [],
   "source": [
    "x = torch.randn([2000,4]).to(\"cuda:0\")\n",
    "y = torch.randn([2000,4]).to(\"cuda:0\")"
   ]
  },
  {
   "cell_type": "code",
   "execution_count": null,
   "id": "e14f4b6e-ca6a-4acc-b9e0-deb8dae73fca",
   "metadata": {},
   "outputs": [],
   "source": [
    "rnn = torch.nn.RNN(4,20).to(\"cuda:0\")\n",
    "linr = torch.nn.Linear(20,4).to(\"cuda:0\")\n",
    "optimizr = torch.optim.Adam(list(rnn.parameters())+list(linr.parameters()))\n",
    "loss_fn = torch.nn.MSELoss() "
   ]
  },
  {
   "cell_type": "code",
   "execution_count": null,
   "id": "e6241bba-ff10-46d8-878c-1f36b72e1efa",
   "metadata": {},
   "outputs": [],
   "source": [
    "t1 = time.time()\n",
    "for epoc in range(100):\n",
    "    ## 1 \n",
    "    _water = torch.zeros(1,20).to(\"cuda:0\")\n",
    "    hidden, hT = rnn(x,_water) \n",
    "    yhat = linr(hidden) \n",
    "    ## 2 \n",
    "    loss = loss_fn(yhat,y) \n",
    "    ## 3\n",
    "    loss.backward() \n",
    "    ## 4 \n",
    "    optimizr.step()\n",
    "    optimizr.zero_grad()\n",
    "t2 = time.time()\n",
    "t2 - t1 "
   ]
  },
  {
   "cell_type": "markdown",
   "id": "c13e29b8-423e-42fc-b859-2f64c37a3296",
   "metadata": {},
   "source": [
    "### 2000 len + 20 hidden nodes + 역전파주석처리"
   ]
  },
  {
   "cell_type": "markdown",
   "id": "a3e63526-4fcf-4596-87ab-1d6f4ce64d12",
   "metadata": {},
   "source": [
    "***cpu***"
   ]
  },
  {
   "cell_type": "code",
   "execution_count": null,
   "id": "3525c566-0ad7-4b43-b8ce-e851e529ae06",
   "metadata": {},
   "outputs": [],
   "source": [
    "x = torch.randn([2000,4]) \n",
    "y = torch.randn([2000,4]) "
   ]
  },
  {
   "cell_type": "code",
   "execution_count": null,
   "id": "47da22d8-e369-4d5f-9680-74ad76734f76",
   "metadata": {},
   "outputs": [],
   "source": [
    "rnn = torch.nn.RNN(4,20) \n",
    "linr = torch.nn.Linear(20,4) \n",
    "optimizr = torch.optim.Adam(list(rnn.parameters())+list(linr.parameters()))\n",
    "loss_fn = torch.nn.MSELoss() "
   ]
  },
  {
   "cell_type": "code",
   "execution_count": null,
   "id": "774d1d8d-1a3d-49ea-9b8a-49ea026c1a30",
   "metadata": {},
   "outputs": [],
   "source": [
    "t1 = time.time()\n",
    "for epoc in range(100):\n",
    "    ## 1 \n",
    "    _water = torch.zeros(1,20)\n",
    "    hidden, hT = rnn(x,_water) \n",
    "    yhat = linr(hidden) \n",
    "    ## 2 \n",
    "    loss = loss_fn(yhat,y) \n",
    "    ## 3\n",
    "    #loss.backward() \n",
    "    ## 4 \n",
    "    optimizr.step()\n",
    "    optimizr.zero_grad()\n",
    "t2 = time.time()\n",
    "t2 - t1 "
   ]
  },
  {
   "cell_type": "markdown",
   "id": "382f4eeb-971b-4248-b01f-ec40219ca990",
   "metadata": {},
   "source": [
    "***gpu***"
   ]
  },
  {
   "cell_type": "code",
   "execution_count": null,
   "id": "22bdbd8a-b434-493a-a98d-6b2af96a8bc6",
   "metadata": {},
   "outputs": [],
   "source": [
    "x = torch.randn([2000,4]).to(\"cuda:0\")\n",
    "y = torch.randn([2000,4]).to(\"cuda:0\")"
   ]
  },
  {
   "cell_type": "code",
   "execution_count": null,
   "id": "a6d6daa9-3c71-4179-b9c1-4420fc2de7c1",
   "metadata": {},
   "outputs": [],
   "source": [
    "rnn = torch.nn.RNN(4,20).to(\"cuda:0\")\n",
    "linr = torch.nn.Linear(20,4).to(\"cuda:0\")\n",
    "optimizr = torch.optim.Adam(list(rnn.parameters())+list(linr.parameters()))\n",
    "loss_fn = torch.nn.MSELoss() "
   ]
  },
  {
   "cell_type": "code",
   "execution_count": null,
   "id": "edb9dc49-ba63-4bc0-aad5-19a6cde24784",
   "metadata": {},
   "outputs": [],
   "source": [
    "t1 = time.time()\n",
    "for epoc in range(100):\n",
    "    ## 1 \n",
    "    _water = torch.zeros(1,20).to(\"cuda:0\")\n",
    "    hidden, hT = rnn(x,_water) \n",
    "    yhat = linr(hidden) \n",
    "    ## 2 \n",
    "    loss = loss_fn(yhat,y) \n",
    "    ## 3\n",
    "    #loss.backward() \n",
    "    ## 4 \n",
    "    optimizr.step()\n",
    "    optimizr.zero_grad()\n",
    "t2 = time.time()\n",
    "t2 - t1 "
   ]
  },
  {
   "cell_type": "markdown",
   "id": "236dc93e-0d01-4058-b597-a2695608eb72",
   "metadata": {},
   "source": [
    "### 2000 len + 5000 hidden nodes "
   ]
  },
  {
   "cell_type": "markdown",
   "id": "3d876119-57f3-4f61-8ff9-99ad64ae3b29",
   "metadata": {},
   "source": [
    "***cpu***"
   ]
  },
  {
   "cell_type": "code",
   "execution_count": null,
   "id": "c994fa99-73c5-4f2e-a4d1-8a9a0a73bc2d",
   "metadata": {},
   "outputs": [],
   "source": [
    "x = torch.randn([2000,4]) \n",
    "y = torch.randn([2000,4]) "
   ]
  },
  {
   "cell_type": "code",
   "execution_count": null,
   "id": "1aac74c9-624b-4287-8492-62ca4f943740",
   "metadata": {},
   "outputs": [],
   "source": [
    "rnn = torch.nn.RNN(4,1000) \n",
    "linr = torch.nn.Linear(1000,4) \n",
    "optimizr = torch.optim.Adam(list(rnn.parameters())+list(linr.parameters()))\n",
    "loss_fn = torch.nn.MSELoss() "
   ]
  },
  {
   "cell_type": "code",
   "execution_count": null,
   "id": "ecf8ef0b-7aae-4e5b-bc39-3a2b5368b802",
   "metadata": {},
   "outputs": [],
   "source": [
    "t1 = time.time()\n",
    "for epoc in range(100):\n",
    "    ## 1 \n",
    "    _water = torch.zeros(1,1000)\n",
    "    hidden, hT = rnn(x,_water) \n",
    "    yhat = linr(hidden) \n",
    "    ## 2 \n",
    "    loss = loss_fn(yhat,y) \n",
    "    ## 3\n",
    "    loss.backward() \n",
    "    ## 4 \n",
    "    optimizr.step()\n",
    "    optimizr.zero_grad()\n",
    "t2 = time.time()\n",
    "t2 - t1 "
   ]
  },
  {
   "cell_type": "markdown",
   "id": "c3a73928-1f2f-4922-895c-69f48bae5b8a",
   "metadata": {},
   "source": [
    "***gpu***"
   ]
  },
  {
   "cell_type": "code",
   "execution_count": null,
   "id": "b7f66f68-7dfc-422b-8051-a565a697a78e",
   "metadata": {},
   "outputs": [],
   "source": [
    "x = torch.randn([2000,4]).to(\"cuda:0\")\n",
    "y = torch.randn([2000,4]).to(\"cuda:0\")"
   ]
  },
  {
   "cell_type": "code",
   "execution_count": null,
   "id": "a06d413a-9dac-4cb9-abdd-6e8a1f3880b5",
   "metadata": {},
   "outputs": [],
   "source": [
    "rnn = torch.nn.RNN(4,1000).to(\"cuda:0\")\n",
    "linr = torch.nn.Linear(1000,4).to(\"cuda:0\")\n",
    "optimizr = torch.optim.Adam(list(rnn.parameters())+list(linr.parameters()))\n",
    "loss_fn = torch.nn.MSELoss() "
   ]
  },
  {
   "cell_type": "code",
   "execution_count": null,
   "id": "1ef5cc24-a4a5-496a-857b-5dfe1907aa78",
   "metadata": {},
   "outputs": [],
   "source": [
    "t1 = time.time()\n",
    "for epoc in range(100):\n",
    "    ## 1 \n",
    "    _water = torch.zeros(1,1000).to(\"cuda:0\")\n",
    "    hidden, hT = rnn(x,_water) \n",
    "    yhat = linr(hidden) \n",
    "    ## 2 \n",
    "    loss = loss_fn(yhat,y) \n",
    "    ## 3\n",
    "    loss.backward() \n",
    "    ## 4 \n",
    "    optimizr.step()\n",
    "    optimizr.zero_grad()\n",
    "t2 = time.time()\n",
    "t2 - t1 "
   ]
  },
  {
   "cell_type": "markdown",
   "id": "5e98dd9c-401d-4262-8185-cbec9a2243c2",
   "metadata": {},
   "source": [
    "### 2000 len + 5000 hidden nodes + 역전파주석처리"
   ]
  },
  {
   "cell_type": "markdown",
   "id": "da4a69b1-e428-4940-b7c9-fda96b108983",
   "metadata": {},
   "source": [
    "***cpu***"
   ]
  },
  {
   "cell_type": "code",
   "execution_count": null,
   "id": "e40ca082-3d35-40a9-9bbb-6c03630b2825",
   "metadata": {},
   "outputs": [],
   "source": [
    "x = torch.randn([2000,4]) \n",
    "y = torch.randn([2000,4]) "
   ]
  },
  {
   "cell_type": "code",
   "execution_count": null,
   "id": "01165127-d221-4455-a297-0123b406cf39",
   "metadata": {},
   "outputs": [],
   "source": [
    "rnn = torch.nn.RNN(4,1000) \n",
    "linr = torch.nn.Linear(1000,4) \n",
    "optimizr = torch.optim.Adam(list(rnn.parameters())+list(linr.parameters()))\n",
    "loss_fn = torch.nn.MSELoss() "
   ]
  },
  {
   "cell_type": "code",
   "execution_count": null,
   "id": "ef68ecb1-8802-46dc-b5dd-c82407af2ec3",
   "metadata": {},
   "outputs": [],
   "source": [
    "t1 = time.time()\n",
    "for epoc in range(100):\n",
    "    ## 1 \n",
    "    _water = torch.zeros(1,1000)\n",
    "    hidden, hT = rnn(x,_water) \n",
    "    yhat = linr(hidden) \n",
    "    ## 2 \n",
    "    loss = loss_fn(yhat,y) \n",
    "    ## 3\n",
    "    #loss.backward() \n",
    "    ## 4 \n",
    "    optimizr.step()\n",
    "    optimizr.zero_grad()\n",
    "t2 = time.time()\n",
    "t2 - t1 "
   ]
  },
  {
   "cell_type": "markdown",
   "id": "348e3718-dafa-46c3-8528-48e8446cef96",
   "metadata": {},
   "source": [
    "***gpu***"
   ]
  },
  {
   "cell_type": "code",
   "execution_count": null,
   "id": "f3b98eb0-d3da-4e26-8b21-a1af3280c9c9",
   "metadata": {},
   "outputs": [],
   "source": [
    "x = torch.randn([2000,4]).to(\"cuda:0\")\n",
    "y = torch.randn([2000,4]).to(\"cuda:0\")"
   ]
  },
  {
   "cell_type": "code",
   "execution_count": null,
   "id": "12ac0d6a-7ab5-43d9-b11b-3f4088385fbe",
   "metadata": {},
   "outputs": [],
   "source": [
    "rnn = torch.nn.RNN(4,1000).to(\"cuda:0\")\n",
    "linr = torch.nn.Linear(1000,4).to(\"cuda:0\")\n",
    "optimizr = torch.optim.Adam(list(rnn.parameters())+list(linr.parameters()))\n",
    "loss_fn = torch.nn.MSELoss() "
   ]
  },
  {
   "cell_type": "code",
   "execution_count": null,
   "id": "e3885504-99fc-47af-9f62-68d9f41295f1",
   "metadata": {},
   "outputs": [],
   "source": [
    "t1 = time.time()\n",
    "for epoc in range(100):\n",
    "    ## 1 \n",
    "    _water = torch.zeros(1,1000).to(\"cuda:0\")\n",
    "    hidden, hT = rnn(x,_water) \n",
    "    yhat = linr(hidden) \n",
    "    ## 2 \n",
    "    loss = loss_fn(yhat,y) \n",
    "    ## 3\n",
    "    #loss.backward() \n",
    "    ## 4 \n",
    "    optimizr.step()\n",
    "    optimizr.zero_grad()\n",
    "t2 = time.time()\n",
    "t2 - t1 "
   ]
  },
  {
   "cell_type": "markdown",
   "id": "4d2781d1-73d9-4fa8-878d-a58709aa4538",
   "metadata": {},
   "source": [
    "### 실험결과 요약 "
   ]
  },
  {
   "cell_type": "markdown",
   "id": "fb9bf1b2-f6bf-4767-858f-62c58c28e550",
   "metadata": {},
   "source": [
    "|len |# of hidden nodes | backward |cpu | gpu| ratio| \n",
    "|:-:|:-:|:-:|:-:|:-:|:-:|\n",
    "|20000 | 20| O | 93.02 | 3.26 | 28.53 |\n",
    "|20000 | 20| X | 18.85 | 1.29 | 14.61 | \n",
    "|2000 | 20| O | 6.53 | 0.75 | 8.70 | \n",
    "|2000 | 20| X | 1.25 | 0.14 | 8.93 |\n",
    "|2000 | 1000| O | 58.99 | 4.75 | 12.41 | \n",
    "|2000 | 1000| X | 13.16 | 2.29 | 5.74 |"
   ]
  },
  {
   "cell_type": "markdown",
   "id": "87e951c1-9d81-4f26-9eba-49a670159c22",
   "metadata": {},
   "source": [
    "## Exam5: abcabC"
   ]
  },
  {
   "cell_type": "markdown",
   "id": "fae8e706-cd6a-4569-9c52-e48277633133",
   "metadata": {},
   "source": [
    "### data "
   ]
  },
  {
   "cell_type": "code",
   "execution_count": 16,
   "id": "6a480dbf-ebb1-4d52-aa20-e2890b8567d5",
   "metadata": {},
   "outputs": [
    {
     "data": {
      "text/plain": [
       "['a', 'b', 'c', 'a', 'b', 'C', 'a', 'b']"
      ]
     },
     "execution_count": 16,
     "metadata": {},
     "output_type": "execute_result"
    }
   ],
   "source": [
    "txt = list('abcabC')*100\n",
    "txt[:8]"
   ]
  },
  {
   "cell_type": "code",
   "execution_count": 17,
   "id": "6ae31cde-c409-4428-8fae-1c280617e84c",
   "metadata": {},
   "outputs": [],
   "source": [
    "txt_x = txt[:-1] \n",
    "txt_y = txt[1:]"
   ]
  },
  {
   "cell_type": "code",
   "execution_count": 18,
   "id": "96a4fc28-0579-4851-823f-a44a0e4809e8",
   "metadata": {},
   "outputs": [],
   "source": [
    "mapping = {'a':0,'b':1,'c':2,'C':3} \n",
    "x= torch.nn.functional.one_hot(torch.tensor(f(txt_x,mapping))).float()\n",
    "y= torch.nn.functional.one_hot(torch.tensor(f(txt_y,mapping))).float()"
   ]
  },
  {
   "cell_type": "code",
   "execution_count": 19,
   "id": "1bcf35b4-346b-4b82-b066-736286443324",
   "metadata": {},
   "outputs": [],
   "source": [
    "x = x.to(\"cuda:0\")\n",
    "y = y.to(\"cuda:0\") "
   ]
  },
  {
   "cell_type": "code",
   "execution_count": 20,
   "id": "7b1123b7-dc13-48f5-a85d-67fa27da8eb5",
   "metadata": {},
   "outputs": [
    {
     "data": {
      "text/plain": [
       "torch.Size([599, 4])"
      ]
     },
     "execution_count": 20,
     "metadata": {},
     "output_type": "execute_result"
    }
   ],
   "source": [
    "x.shape"
   ]
  },
  {
   "cell_type": "markdown",
   "id": "eac3e1b0-8ae3-46d8-91aa-b52ecb1fb06f",
   "metadata": {},
   "source": [
    "### RNN "
   ]
  },
  {
   "cell_type": "markdown",
   "id": "850d9d35-2185-4816-a380-778d8109c649",
   "metadata": {},
   "source": [
    "- bc\n",
    "- bC\n",
    "- b의 수준이 2개 \n",
    "- abc\n",
    "- amC\n",
    "- 문맥 고려해서 $\\to$ hiddenlayer = 3"
   ]
  },
  {
   "cell_type": "code",
   "execution_count": 21,
   "id": "cec0314b-6a56-408c-b11f-88ef07dfb831",
   "metadata": {},
   "outputs": [],
   "source": [
    "torch.manual_seed(43052) \n",
    "rnn = torch.nn.RNN(4,3) \n",
    "linr = torch.nn.Linear(3,4) \n",
    "loss_fn = torch.nn.CrossEntropyLoss()\n",
    "optimizr = torch.optim.Adam(list(rnn.parameters())+ list(linr.parameters()))"
   ]
  },
  {
   "cell_type": "code",
   "execution_count": 22,
   "id": "5059f17e-e717-4c86-bb0c-6b53f1fc538d",
   "metadata": {},
   "outputs": [
    {
     "data": {
      "text/plain": [
       "Linear(in_features=3, out_features=4, bias=True)"
      ]
     },
     "execution_count": 22,
     "metadata": {},
     "output_type": "execute_result"
    }
   ],
   "source": [
    "rnn.to(\"cuda:0\") \n",
    "linr.to(\"cuda:0\")"
   ]
  },
  {
   "cell_type": "markdown",
   "id": "30a45fb2-acb9-4696-9e8f-909d29d3bf05",
   "metadata": {},
   "source": [
    "`-` 3000 epochs"
   ]
  },
  {
   "cell_type": "code",
   "execution_count": 23,
   "id": "3d9bb188-5ab6-42e9-a5e2-f87fa485d054",
   "metadata": {},
   "outputs": [],
   "source": [
    "for epoc in range(3000):\n",
    "    ## 1 \n",
    "    _water = torch.zeros(1,3).to(\"cuda:0\")\n",
    "    hidden, hT = rnn(x,_water)\n",
    "    output = linr(hidden) \n",
    "    ## 2 \n",
    "    loss = loss_fn(output,y) \n",
    "    ## 3 \n",
    "    loss.backward()\n",
    "    ## 4 \n",
    "    optimizr.step()\n",
    "    optimizr.zero_grad()"
   ]
  },
  {
   "cell_type": "code",
   "execution_count": 24,
   "id": "4ef1f6c0-05f6-4af0-bbd0-f4d9ba637e59",
   "metadata": {},
   "outputs": [],
   "source": [
    "yhat = soft(output)\n",
    "combinded  = torch.concat([hidden,yhat],axis=1).data.to(\"cpu\")"
   ]
  },
  {
   "cell_type": "markdown",
   "id": "164c788c-2bbe-4971-a901-9c43e4784f73",
   "metadata": {},
   "source": [
    "- 어차피 시각화하려면 cpu에 있어야해\n",
    "- 나중 기억!"
   ]
  },
  {
   "cell_type": "code",
   "execution_count": 25,
   "id": "6cb508f4-1e36-4300-b96e-bbfa06f80486",
   "metadata": {},
   "outputs": [
    {
     "data": {
      "text/plain": [
       "<matplotlib.image.AxesImage at 0x7f116f95fd10>"
      ]
     },
     "execution_count": 25,
     "metadata": {},
     "output_type": "execute_result"
    },
    {
     "data": {
      "image/png": "[encoded data removed]",
      "text/plain": [
       "<Figure size 403.2x345.6 with 1 Axes>"
      ]
     },
     "metadata": {
      "needs_background": "light"
     },
     "output_type": "display_data"
    }
   ],
   "source": [
    "plt.matshow(combinded[-6:],cmap='bwr')"
   ]
  },
  {
   "cell_type": "markdown",
   "id": "105997a4-12fc-4429-9a17-bd3966fb0b37",
   "metadata": {},
   "source": [
    "`-` 6000 epochs"
   ]
  },
  {
   "cell_type": "markdown",
   "id": "572ddb83-ece7-4cf1-878b-ad34e8933bcd",
   "metadata": {},
   "source": [
    "- 3: a일 확률\n",
    "- 4: b일 확률\n",
    "- 5: c일 확률\n",
    "- 6: C일 확률"
   ]
  },
  {
   "cell_type": "code",
   "execution_count": 26,
   "id": "1cbb8179-7b22-40c9-8f09-d6aafc82cbe3",
   "metadata": {},
   "outputs": [],
   "source": [
    "for epoc in range(3000):\n",
    "    ## 1 \n",
    "    _water = torch.zeros(1,3).to(\"cuda:0\")\n",
    "    hidden, hT = rnn(x,_water)\n",
    "    output = linr(hidden) \n",
    "    ## 2 \n",
    "    loss = loss_fn(output,y) \n",
    "    ## 3 \n",
    "    loss.backward()\n",
    "    ## 4 \n",
    "    optimizr.step()\n",
    "    optimizr.zero_grad()"
   ]
  },
  {
   "cell_type": "code",
   "execution_count": 27,
   "id": "4fe809a4-5d4c-4eb5-a570-acae816596aa",
   "metadata": {},
   "outputs": [],
   "source": [
    "yhat = soft(output)\n",
    "combinded  = torch.concat([hidden,yhat],axis=1).data.to(\"cpu\")"
   ]
  },
  {
   "cell_type": "code",
   "execution_count": 28,
   "id": "2c128df9-9ee9-4c0e-85e4-6492a8fa7a82",
   "metadata": {},
   "outputs": [
    {
     "data": {
      "text/plain": [
       "<matplotlib.image.AxesImage at 0x7f1162b1ad10>"
      ]
     },
     "execution_count": 28,
     "metadata": {},
     "output_type": "execute_result"
    },
    {
     "data": {
      "image/png": "[encoded data removed]",
      "text/plain": [
       "<Figure size 336x288 with 1 Axes>"
      ]
     },
     "metadata": {
      "needs_background": "light"
     },
     "output_type": "display_data"
    }
   ],
   "source": [
    "plt.matshow(combinded[-6:],cmap='bwr')"
   ]
  },
  {
   "cell_type": "markdown",
   "id": "a27df53f-1ea9-4f25-87f3-7276182f9af1",
   "metadata": {},
   "source": [
    "`-` 9000 epochs"
   ]
  },
  {
   "cell_type": "code",
   "execution_count": 29,
   "id": "a7d78b0b-a199-42c5-a9a6-320f2e72efb2",
   "metadata": {},
   "outputs": [],
   "source": [
    "for epoc in range(3000):\n",
    "    ## 1 \n",
    "    _water = torch.zeros(1,3).to(\"cuda:0\")\n",
    "    hidden, hT = rnn(x,_water)\n",
    "    output = linr(hidden) \n",
    "    ## 2 \n",
    "    loss = loss_fn(output,y) \n",
    "    ## 3 \n",
    "    loss.backward()\n",
    "    ## 4 \n",
    "    optimizr.step()\n",
    "    optimizr.zero_grad()"
   ]
  },
  {
   "cell_type": "code",
   "execution_count": 30,
   "id": "8d02fa77-21b9-4f57-8b72-a3080e3fe0ff",
   "metadata": {},
   "outputs": [],
   "source": [
    "yhat = soft(output)\n",
    "combinded  = torch.concat([hidden,yhat],axis=1).data.to(\"cpu\")"
   ]
  },
  {
   "cell_type": "code",
   "execution_count": 31,
   "id": "82a11798-fa16-4ee6-93a3-41937ac5b089",
   "metadata": {},
   "outputs": [
    {
     "data": {
      "text/plain": [
       "<matplotlib.image.AxesImage at 0x7f11627385d0>"
      ]
     },
     "execution_count": 31,
     "metadata": {},
     "output_type": "execute_result"
    },
    {
     "data": {
      "image/png": "[encoded data removed]",
      "text/plain": [
       "<Figure size 336x288 with 1 Axes>"
      ]
     },
     "metadata": {
      "needs_background": "light"
     },
     "output_type": "display_data"
    }
   ],
   "source": [
    "plt.matshow(combinded[-6:],cmap='bwr')"
   ]
  },
  {
   "cell_type": "markdown",
   "id": "45777e98-c8ee-46ea-aa1e-e9a251fd2712",
   "metadata": {},
   "source": [
    "`-` 12000 epochs"
   ]
  },
  {
   "cell_type": "code",
   "execution_count": 32,
   "id": "ffd832b0-0bcb-45c2-95b6-2603a1ffa63c",
   "metadata": {},
   "outputs": [],
   "source": [
    "for epoc in range(3000):\n",
    "    ## 1 \n",
    "    _water = torch.zeros(1,3).to(\"cuda:0\")\n",
    "    hidden, hT = rnn(x,_water)\n",
    "    output = linr(hidden) \n",
    "    ## 2 \n",
    "    loss = loss_fn(output,y) \n",
    "    ## 3 \n",
    "    loss.backward()\n",
    "    ## 4 \n",
    "    optimizr.step()\n",
    "    optimizr.zero_grad()"
   ]
  },
  {
   "cell_type": "code",
   "execution_count": 33,
   "id": "0ed46f48-1c2d-43fb-9590-b34866a7a635",
   "metadata": {},
   "outputs": [],
   "source": [
    "yhat = soft(output)\n",
    "combinded  = torch.concat([hidden,yhat],axis=1).data.to(\"cpu\")"
   ]
  },
  {
   "cell_type": "code",
   "execution_count": 34,
   "id": "7a806190-325d-4acd-9501-1ef36df9fc5b",
   "metadata": {},
   "outputs": [
    {
     "data": {
      "text/plain": [
       "<matplotlib.image.AxesImage at 0x7f11626b9950>"
      ]
     },
     "execution_count": 34,
     "metadata": {},
     "output_type": "execute_result"
    },
    {
     "data": {
      "image/png": "[encoded data removed]",
      "text/plain": [
       "<Figure size 336x288 with 1 Axes>"
      ]
     },
     "metadata": {
      "needs_background": "light"
     },
     "output_type": "display_data"
    }
   ],
   "source": [
    "plt.matshow(combinded[-6:],cmap='bwr')"
   ]
  },
  {
   "cell_type": "markdown",
   "id": "89b8699a-ba4a-4c0f-a7a2-7ce7b3b9fbed",
   "metadata": {},
   "source": [
    "`-` 15000 epochs"
   ]
  },
  {
   "cell_type": "code",
   "execution_count": 35,
   "id": "f7d84ebb-8a0e-45d6-b0f1-3a74902cc441",
   "metadata": {},
   "outputs": [],
   "source": [
    "for epoc in range(3000):\n",
    "    ## 1 \n",
    "    _water = torch.zeros(1,3).to(\"cuda:0\")\n",
    "    hidden, hT = rnn(x,_water)\n",
    "    output = linr(hidden) \n",
    "    ## 2 \n",
    "    loss = loss_fn(output,y) \n",
    "    ## 3 \n",
    "    loss.backward()\n",
    "    ## 4 \n",
    "    optimizr.step()\n",
    "    optimizr.zero_grad()"
   ]
  },
  {
   "cell_type": "code",
   "execution_count": 36,
   "id": "3089374c-5aa3-42d4-b7eb-2c846a90bc8f",
   "metadata": {},
   "outputs": [],
   "source": [
    "yhat = soft(output)\n",
    "combinded  = torch.concat([hidden,yhat],axis=1).data.to(\"cpu\")"
   ]
  },
  {
   "cell_type": "code",
   "execution_count": 39,
   "id": "80862486-8405-49ba-9f5d-c85aa8ba8eaa",
   "metadata": {},
   "outputs": [
    {
     "data": {
      "text/plain": [
       "<matplotlib.image.AxesImage at 0x7f11624ce950>"
      ]
     },
     "execution_count": 39,
     "metadata": {},
     "output_type": "execute_result"
    },
    {
     "data": {
      "image/png": "[encoded data removed]",
      "text/plain": [
       "<Figure size 288x493.714 with 1 Axes>"
      ]
     },
     "metadata": {
      "needs_background": "light"
     },
     "output_type": "display_data"
    }
   ],
   "source": [
    "plt.matshow(combinded[-12:],cmap='bwr')"
   ]
  },
  {
   "cell_type": "markdown",
   "id": "09120d19-5737-49a1-80d6-40839b34d3ef",
   "metadata": {},
   "source": [
    "- 15,000번 정도 하니 c와 C를 구분하는 모습\n",
    "- hidden layer(0,1,2)의 색 순서에 따라 문맥상 다른 것을 알 수 있고 학습도 되는 모습을 볼 수 있다."
   ]
  },
  {
   "cell_type": "markdown",
   "id": "a95bbd35-631d-438c-9a28-4dd32f1eac06",
   "metadata": {},
   "source": [
    "### LSTM "
   ]
  },
  {
   "cell_type": "markdown",
   "id": "6c4c0be0-2a0a-46f2-819d-2b1366f594cf",
   "metadata": {},
   "source": [
    "`-` LSTM "
   ]
  },
  {
   "cell_type": "code",
   "execution_count": 40,
   "id": "f8eab5d8-310e-46b5-84f1-0ce6ab9c6ea7",
   "metadata": {},
   "outputs": [],
   "source": [
    "torch.manual_seed(43052) \n",
    "lstm = torch.nn.LSTM(4,3) \n",
    "linr = torch.nn.Linear(3,4) \n",
    "loss_fn = torch.nn.CrossEntropyLoss()\n",
    "optimizr = torch.optim.Adam(list(lstm.parameters())+ list(linr.parameters()))"
   ]
  },
  {
   "cell_type": "code",
   "execution_count": 41,
   "id": "62a30416-d6bd-4a2c-9ae5-ecc094e17a2c",
   "metadata": {},
   "outputs": [
    {
     "data": {
      "text/plain": [
       "Linear(in_features=3, out_features=4, bias=True)"
      ]
     },
     "execution_count": 41,
     "metadata": {},
     "output_type": "execute_result"
    }
   ],
   "source": [
    "lstm.to(\"cuda:0\") \n",
    "linr.to(\"cuda:0\")"
   ]
  },
  {
   "cell_type": "markdown",
   "id": "d5a823a9-0ad3-4ed2-90b8-a0d67d192d31",
   "metadata": {},
   "source": [
    "`-` 3000 epochs"
   ]
  },
  {
   "cell_type": "code",
   "execution_count": 42,
   "id": "96599c52-6c3a-4b2e-9bf4-b37049cdab9b",
   "metadata": {},
   "outputs": [],
   "source": [
    "for epoc in range(3000):\n",
    "    ## 1 \n",
    "    _water = torch.zeros(1,3).to(\"cuda:0\")\n",
    "    hidden, (hT,cT) = lstm(x,(_water,_water))\n",
    "    output = linr(hidden) \n",
    "    ## 2 \n",
    "    loss = loss_fn(output,y) \n",
    "    ## 3 \n",
    "    loss.backward()\n",
    "    ## 4 \n",
    "    optimizr.step()\n",
    "    optimizr.zero_grad()"
   ]
  },
  {
   "cell_type": "code",
   "execution_count": 43,
   "id": "aa80ace3-11aa-40aa-871e-ede03f087731",
   "metadata": {},
   "outputs": [],
   "source": [
    "yhat = soft(output)\n",
    "combinded  = torch.concat([hidden,yhat],axis=1).data.to(\"cpu\")"
   ]
  },
  {
   "cell_type": "code",
   "execution_count": 44,
   "id": "fa207fdf-91fe-45a1-a550-1eef16af10c2",
   "metadata": {},
   "outputs": [
    {
     "data": {
      "text/plain": [
       "<matplotlib.image.AxesImage at 0x7f116245a750>"
      ]
     },
     "execution_count": 44,
     "metadata": {},
     "output_type": "execute_result"
    },
    {
     "data": {
      "image/png": "[encoded data removed]",
      "text/plain": [
       "<Figure size 336x288 with 1 Axes>"
      ]
     },
     "metadata": {
      "needs_background": "light"
     },
     "output_type": "display_data"
    }
   ],
   "source": [
    "plt.matshow(combinded[-6:],cmap='bwr',vmin=-1,vmax=1)"
   ]
  },
  {
   "cell_type": "markdown",
   "id": "da82ee87-86c8-4d2a-a722-17ef056801ed",
   "metadata": {},
   "source": [
    "- 하얀부분이 0 파란 부분이 -1 빨간 부분이 +1"
   ]
  },
  {
   "cell_type": "markdown",
   "id": "9c7ccdae-9272-4fb7-b98c-2d921dd51105",
   "metadata": {},
   "source": [
    "`-` 6000 epochs"
   ]
  },
  {
   "cell_type": "code",
   "execution_count": 45,
   "id": "0d42d3bd-f5bb-4ac5-bf7d-7559252b9e93",
   "metadata": {},
   "outputs": [],
   "source": [
    "for epoc in range(3000):\n",
    "    ## 1 \n",
    "    _water = torch.zeros(1,3).to(\"cuda:0\")\n",
    "    hidden, (hT,cT) = lstm(x,(_water,_water))\n",
    "    output = linr(hidden) \n",
    "    ## 2 \n",
    "    loss = loss_fn(output,y) \n",
    "    ## 3 \n",
    "    loss.backward()\n",
    "    ## 4 \n",
    "    optimizr.step()\n",
    "    optimizr.zero_grad()"
   ]
  },
  {
   "cell_type": "code",
   "execution_count": 46,
   "id": "aed4b075-afad-4b28-8512-a62a0f6805a1",
   "metadata": {},
   "outputs": [],
   "source": [
    "yhat = soft(output)\n",
    "combinded  = torch.concat([hidden,yhat],axis=1).data.to(\"cpu\")"
   ]
  },
  {
   "cell_type": "code",
   "execution_count": 47,
   "id": "2ab9dd13-19b6-407d-8552-27fdce5f9504",
   "metadata": {},
   "outputs": [
    {
     "data": {
      "text/plain": [
       "<matplotlib.image.AxesImage at 0x7f11623e0a90>"
      ]
     },
     "execution_count": 47,
     "metadata": {},
     "output_type": "execute_result"
    },
    {
     "data": {
      "image/png": "[encoded data removed]",
      "text/plain": [
       "<Figure size 336x288 with 1 Axes>"
      ]
     },
     "metadata": {
      "needs_background": "light"
     },
     "output_type": "display_data"
    }
   ],
   "source": [
    "plt.matshow(combinded[-6:],cmap='bwr',vmin=-1,vmax=1)"
   ]
  },
  {
   "cell_type": "markdown",
   "id": "4ab0156f-53eb-418b-8f9c-8516f11b1c73",
   "metadata": {},
   "source": [
    "- rnn에 비해 lstm은 조금 돌려도 어느정도 비교 잘 해낸다"
   ]
  },
  {
   "cell_type": "markdown",
   "id": "30f6b18c-ab14-4d5f-8fcc-0f192e5e3eda",
   "metadata": {},
   "source": [
    "### RNN vs LSTM 성능비교실험"
   ]
  },
  {
   "cell_type": "markdown",
   "id": "48bab742-2382-426c-a433-b3ca00bc59c9",
   "metadata": {},
   "source": [
    "`-` RNN "
   ]
  },
  {
   "cell_type": "code",
   "execution_count": 48,
   "id": "741ff270-be56-400d-b5e4-83aa6282acd9",
   "metadata": {},
   "outputs": [
    {
     "data": {
      "image/png": "[encoded data removed]",
      "text/plain": [
       "<Figure size 720x720 with 25 Axes>"
      ]
     },
     "metadata": {
      "needs_background": "light"
     },
     "output_type": "display_data"
    }
   ],
   "source": [
    "fig, ax = plt.subplots(5,5,figsize=(10,10))\n",
    "for i in range(5):\n",
    "    for j in range(5):\n",
    "        rnn = torch.nn.RNN(4,3).to(\"cuda:0\")\n",
    "        linr = torch.nn.Linear(3,4).to(\"cuda:0\")\n",
    "        loss_fn = torch.nn.CrossEntropyLoss()\n",
    "        optimizr = torch.optim.Adam(list(rnn.parameters())+list(linr.parameters()),lr=0.1)\n",
    "        _water = torch.zeros(1,3).to(\"cuda:0\")\n",
    "        for epoc in range(3000):\n",
    "            ## 1\n",
    "            hidden, hT = rnn(x,_water)\n",
    "            output = linr(hidden)\n",
    "            ## 2\n",
    "            loss = loss_fn(output,y)\n",
    "            ## 3\n",
    "            loss.backward()\n",
    "            ## 4 \n",
    "            optimizr.step()\n",
    "            optimizr.zero_grad()\n",
    "        yhat=soft(output)    \n",
    "        combind = torch.concat([hidden,yhat],axis=1)\n",
    "        ax[i][j].matshow(combind.to(\"cpu\").data[-6:],cmap='bwr',vmin=-1,vmax=1)\n",
    "fig.suptitle(r\"$RNN$\",size=20)\n",
    "fig.tight_layout()"
   ]
  },
  {
   "cell_type": "markdown",
   "id": "68992b24-c50f-4678-8f04-2183505f9121",
   "metadata": {},
   "source": [
    "`-` LSTM"
   ]
  },
  {
   "cell_type": "code",
   "execution_count": 49,
   "id": "d909cf43-c949-40ab-ae54-dab63cfcec60",
   "metadata": {},
   "outputs": [
    {
     "data": {
      "image/png": "[encoded data removed]",
      "text/plain": [
       "<Figure size 720x720 with 25 Axes>"
      ]
     },
     "metadata": {
      "needs_background": "light"
     },
     "output_type": "display_data"
    }
   ],
   "source": [
    "fig, ax = plt.subplots(5,5,figsize=(10,10))\n",
    "for i in range(5):\n",
    "    for j in range(5):\n",
    "        lstm = torch.nn.LSTM(4,3).to(\"cuda:0\")\n",
    "        linr = torch.nn.Linear(3,4).to(\"cuda:0\")\n",
    "        loss_fn = torch.nn.CrossEntropyLoss()\n",
    "        optimizr = torch.optim.Adam(list(lstm.parameters())+list(linr.parameters()),lr=0.1)\n",
    "        _water = torch.zeros(1,3).to(\"cuda:0\")\n",
    "        for epoc in range(3000):\n",
    "            ## 1\n",
    "            hidden, (hT,cT) = lstm(x,(_water,_water))\n",
    "            output = linr(hidden)\n",
    "            ## 2\n",
    "            loss = loss_fn(output,y)\n",
    "            ## 3\n",
    "            loss.backward()\n",
    "            ## 4 \n",
    "            optimizr.step()\n",
    "            optimizr.zero_grad()\n",
    "        yhat=soft(output)    \n",
    "        combind = torch.concat([hidden,yhat],axis=1)\n",
    "        ax[i][j].matshow(combind.to(\"cpu\").data[-6:],cmap='bwr',vmin=-1,vmax=1)\n",
    "fig.suptitle(r\"$LSTM$\",size=20)\n",
    "fig.tight_layout()"
   ]
  },
  {
   "cell_type": "markdown",
   "id": "96b5aefd-7c21-4ce4-bccb-71bb91aeac5d",
   "metadata": {},
   "source": [
    "- lstm이 rnn보다 이런 상황에서는 더 잘 학습해낸다.\n",
    "- linear 의 hiddenlayer로 구분되어 있다."
   ]
  },
  {
   "cell_type": "markdown",
   "id": "4043128f-fbb0-4af4-812c-40300e92f991",
   "metadata": {},
   "source": [
    "## Exam6: abcdabcD"
   ]
  },
  {
   "cell_type": "markdown",
   "id": "1c9d7a17-ab95-44ed-802c-534ef76415c9",
   "metadata": {
    "tags": []
   },
   "source": [
    "### data"
   ]
  },
  {
   "cell_type": "code",
   "execution_count": 50,
   "id": "69d6b468-bfea-4a61-b6cc-34dcabc97184",
   "metadata": {},
   "outputs": [
    {
     "data": {
      "text/plain": [
       "['a', 'b', 'c', 'd', 'a', 'b', 'c', 'D']"
      ]
     },
     "execution_count": 50,
     "metadata": {},
     "output_type": "execute_result"
    }
   ],
   "source": [
    "txt = list('abcdabcD')*100\n",
    "txt[:8]"
   ]
  },
  {
   "cell_type": "code",
   "execution_count": 51,
   "id": "bc893a67-a21a-439e-adc1-c3be5fb384e9",
   "metadata": {},
   "outputs": [],
   "source": [
    "txt_x = txt[:-1]\n",
    "txt_y = txt[1:]"
   ]
  },
  {
   "cell_type": "code",
   "execution_count": 52,
   "id": "6ba613cd-e0ff-4d80-b984-8a323869b0fe",
   "metadata": {},
   "outputs": [],
   "source": [
    "mapping = {'a':0, 'b':1, 'c':2, 'd':3, 'D':4}\n",
    "x = torch.nn.functional.one_hot(torch.tensor(f(txt_x,mapping))).float()\n",
    "y = torch.nn.functional.one_hot(torch.tensor(f(txt_y,mapping))).float()"
   ]
  },
  {
   "cell_type": "code",
   "execution_count": 53,
   "id": "c7daadce-c0b4-49c4-bfa2-b3dd018c11b5",
   "metadata": {},
   "outputs": [],
   "source": [
    "x=x.to(\"cuda:0\")\n",
    "y=y.to(\"cuda:0\")"
   ]
  },
  {
   "cell_type": "markdown",
   "id": "65aa1c71-fd62-4be0-b3f5-c1d50b351b8b",
   "metadata": {
    "tags": []
   },
   "source": [
    "### RNN vs LSTM 성능비교실험"
   ]
  },
  {
   "cell_type": "markdown",
   "id": "3eade31d-28a3-435c-8add-e4d9e2cdfaaa",
   "metadata": {},
   "source": [
    "`-` RNN "
   ]
  },
  {
   "cell_type": "code",
   "execution_count": null,
   "id": "38243df5-bcbc-45fb-93d2-71c4dd4c5a48",
   "metadata": {},
   "outputs": [],
   "source": [
    "fig, ax = plt.subplots(5,5,figsize=(10,10))\n",
    "for i in range(5):\n",
    "    for j in range(5):\n",
    "        rnn = torch.nn.RNN(5,4).to(\"cuda:0\")\n",
    "        linr = torch.nn.Linear(4,5).to(\"cuda:0\")\n",
    "        loss_fn = torch.nn.CrossEntropyLoss()\n",
    "        optimizr = torch.optim.Adam(list(rnn.parameters())+list(linr.parameters()),lr=0.1)\n",
    "        _water = torch.zeros(1,4).to(\"cuda:0\")\n",
    "        for epoc in range(3000):\n",
    "            ## 1\n",
    "            hidden, hT = rnn(x,_water)\n",
    "            output = linr(hidden)\n",
    "            ## 2\n",
    "            loss = loss_fn(output,y)\n",
    "            ## 3\n",
    "            loss.backward()\n",
    "            ## 4 \n",
    "            optimizr.step()\n",
    "            optimizr.zero_grad()\n",
    "        yhat=soft(output)    \n",
    "        combind = torch.concat([hidden,yhat],axis=1)\n",
    "        ax[i][j].matshow(combind.to(\"cpu\").data[-8:],cmap='bwr',vmin=-1,vmax=1)\n",
    "fig.suptitle(r\"$RNN$\",size=20)\n",
    "fig.tight_layout()"
   ]
  },
  {
   "cell_type": "markdown",
   "id": "0abd32c7-88c9-4eb6-aff5-622a1c71e845",
   "metadata": {},
   "source": [
    "`-` LSTM"
   ]
  },
  {
   "cell_type": "code",
   "execution_count": null,
   "id": "ef3aa264-2428-450c-bb69-1341bd7a6a24",
   "metadata": {},
   "outputs": [],
   "source": [
    "fig, ax = plt.subplots(5,5,figsize=(10,10))\n",
    "for i in range(5):\n",
    "    for j in range(5):\n",
    "        lstm = torch.nn.LSTM(5,4).to(\"cuda:0\")\n",
    "        linr = torch.nn.Linear(4,5).to(\"cuda:0\")\n",
    "        loss_fn = torch.nn.CrossEntropyLoss()\n",
    "        optimizr = torch.optim.Adam(list(lstm.parameters())+list(linr.parameters()),lr=0.1)\n",
    "        _water = torch.zeros(1,4).to(\"cuda:0\")\n",
    "        for epoc in range(3000):\n",
    "            ## 1\n",
    "            hidden, (hT,cT) = lstm(x,(_water,_water))\n",
    "            output = linr(hidden)\n",
    "            ## 2\n",
    "            loss = loss_fn(output,y)\n",
    "            ## 3\n",
    "            loss.backward()\n",
    "            ## 4 \n",
    "            optimizr.step()\n",
    "            optimizr.zero_grad()\n",
    "        yhat=soft(output)    \n",
    "        combind = torch.concat([hidden,yhat],axis=1)\n",
    "        ax[i][j].matshow(combind.to(\"cpu\").data[-8:],cmap='bwr',vmin=-1,vmax=1)\n",
    "fig.suptitle(r\"$LSTM$\",size=20)\n",
    "fig.tight_layout()"
   ]
  },
  {
   "cell_type": "markdown",
   "id": "ef6aee41-7cac-4e35-bc22-abb192b7c0e9",
   "metadata": {},
   "source": [
    "`-` 관찰1: LSTM이 확실히 장기기억에 강하다. "
   ]
  },
  {
   "cell_type": "markdown",
   "id": "e1b5d200-be4e-4ac4-8000-691e5de639eb",
   "metadata": {},
   "source": [
    "`-` 관찰2: LSTM은 hidden에 0이 잘 나온다. \n",
    "\n",
    "- 사실 확실히 구분되는 특징을 판별할때는 -1,1 로 히든레이어 값들이 설정되면 명확하다. \n",
    "- 히든레이어에 -1~1사이의 값이 나온다면 애매한 판단이 내려지게 된다. \n",
    "- 그런데 이 애매한 판단이 어떻게 보면 문맥의 뉘앙스를 이해하는데 더 잘 맞다.\n",
    "- 그런데 RNN은 -1,1로 셋팅된 상황에서 -1~1로의 변화가 더디다는 것이 문제임. "
   ]
  },
  {
   "cell_type": "markdown",
   "id": "51da2a60-f2ac-48ef-bd34-813f99e123d6",
   "metadata": {},
   "source": [
    "## LSTM의 계산과정"
   ]
  },
  {
   "cell_type": "markdown",
   "id": "766b6de9-11f8-45e0-abff-5043e81da5f6",
   "metadata": {},
   "source": [
    "### data: abaB"
   ]
  },
  {
   "cell_type": "code",
   "execution_count": 55,
   "id": "f90f83e0-1148-4ecd-a6a9-4055f46c5564",
   "metadata": {},
   "outputs": [
    {
     "data": {
      "text/plain": [
       "['a', 'b', 'a', 'B', 'a']"
      ]
     },
     "execution_count": 55,
     "metadata": {},
     "output_type": "execute_result"
    }
   ],
   "source": [
    "txt = list('abaB')*100\n",
    "txt[:5]"
   ]
  },
  {
   "cell_type": "markdown",
   "id": "7383dda9-9f93-4eeb-b202-706449d96d91",
   "metadata": {},
   "source": [
    "- ab\n",
    "- aB\n",
    "- 로서 a의 수준이 2개로 나뉨 $\\to$ hidden node = 2"
   ]
  },
  {
   "cell_type": "code",
   "execution_count": 56,
   "id": "790d03b1-492c-41fd-8628-1596935616c5",
   "metadata": {},
   "outputs": [],
   "source": [
    "txt_x = txt[:-1]\n",
    "txt_y = txt[1:]"
   ]
  },
  {
   "cell_type": "code",
   "execution_count": 57,
   "id": "595daacb-29f7-41d0-8772-abe5b83ea718",
   "metadata": {},
   "outputs": [],
   "source": [
    "mapping = {'a':0, 'b':1, 'B':2}\n",
    "x = torch.nn.functional.one_hot(torch.tensor(f(txt_x,mapping))).float()\n",
    "y = torch.nn.functional.one_hot(torch.tensor(f(txt_y,mapping))).float()"
   ]
  },
  {
   "cell_type": "markdown",
   "id": "496537ca-0ff2-4c36-8ede-a5c957b4c328",
   "metadata": {},
   "source": [
    "### 1 epoch ver1 (with torch.nn.LSTMCell)"
   ]
  },
  {
   "cell_type": "code",
   "execution_count": 58,
   "id": "d9fa4342-7618-499f-9a56-0c3ba1497ae0",
   "metadata": {},
   "outputs": [],
   "source": [
    "torch.manual_seed(43052) \n",
    "lstm_cell = torch.nn.LSTMCell(3,2) \n",
    "linr = torch.nn.Linear(2,3)\n",
    "loss_fn = torch.nn.CrossEntropyLoss() \n",
    "optimizr = torch.optim.Adam(list(lstm_cell.parameters())+list(linr.parameters()),lr=0.1)"
   ]
  },
  {
   "cell_type": "code",
   "execution_count": 59,
   "id": "fdc32fdb-8ee2-4133-82ce-87894a8f46f6",
   "metadata": {},
   "outputs": [],
   "source": [
    "T = len(x) \n",
    "for epoc in range(1):\n",
    "    ht = torch.zeros(1,2)\n",
    "    ct = torch.zeros(1,2)\n",
    "    loss = 0 \n",
    "    ## 1~2\n",
    "    for t in range(T):\n",
    "        xt,yt = x[[t]], y[[t]]\n",
    "        ht,ct = lstm_cell(xt,(ht,ct))\n",
    "        ot = linr(ht) \n",
    "        loss = loss + loss_fn(ot,yt)\n",
    "    loss = loss / T\n",
    "    ## 3 \n",
    "    loss.backward()\n",
    "    ## 4 \n",
    "    optimizr.step()\n",
    "    optimizr.zero_grad()"
   ]
  },
  {
   "cell_type": "markdown",
   "id": "10238baf-08a7-44b5-9350-2934d8e9d960",
   "metadata": {},
   "source": [
    "- 데이터 적으니까 cpu로 할 것임"
   ]
  },
  {
   "cell_type": "code",
   "execution_count": 60,
   "id": "c1b19e4a-c8fc-4424-8900-f55d7ccfd1f2",
   "metadata": {},
   "outputs": [
    {
     "data": {
      "text/plain": [
       "(tensor([[-0.0406,  0.2505]], grad_fn=<MulBackward0>),\n",
       " tensor([[-0.0975,  0.7134]], grad_fn=<AddBackward0>))"
      ]
     },
     "execution_count": 60,
     "metadata": {},
     "output_type": "execute_result"
    }
   ],
   "source": [
    "ht,ct "
   ]
  },
  {
   "cell_type": "markdown",
   "id": "65596e64-7fa0-496e-8ede-75b993535691",
   "metadata": {},
   "source": [
    "- hidden node가 많고 len 이 클수록 GPU가 효율이 좋다"
   ]
  },
  {
   "cell_type": "markdown",
   "id": "e5256aba-6b4c-4386-a917-314ceb420887",
   "metadata": {},
   "source": [
    "### 1 epoch ver2 (완전 손으로 구현) "
   ]
  },
  {
   "cell_type": "markdown",
   "id": "0a6173af-4669-4b7c-9a7c-7d7993d7d2c6",
   "metadata": {},
   "source": [
    "#### ***t=0 $\\to$ t=1***"
   ]
  },
  {
   "cell_type": "markdown",
   "id": "81667e68-732d-43d7-9b5f-e07b9db30f25",
   "metadata": {},
   "source": [
    "`-` lstm_cell 을 이용한 계산 (결과비교용)"
   ]
  },
  {
   "cell_type": "code",
   "execution_count": 61,
   "id": "ec8b2c8a-e65e-48b4-8d24-570a3b77802c",
   "metadata": {},
   "outputs": [],
   "source": [
    "torch.manual_seed(43052) \n",
    "lstm_cell = torch.nn.LSTMCell(3,2) \n",
    "linr = torch.nn.Linear(2,3)\n",
    "loss_fn = torch.nn.CrossEntropyLoss() \n",
    "optimizr = torch.optim.Adam(list(lstm_cell.parameters())+list(linr.parameters()),lr=0.1)"
   ]
  },
  {
   "cell_type": "code",
   "execution_count": 62,
   "id": "0a5fd7ca-e106-44dd-8bbc-cac748535e2d",
   "metadata": {},
   "outputs": [],
   "source": [
    "T = len(x) \n",
    "for epoc in range(1):\n",
    "    ht = torch.zeros(1,2)\n",
    "    ct = torch.zeros(1,2)\n",
    "    loss = 0 \n",
    "    ## 1~2\n",
    "    for t in range(1):\n",
    "        xt,yt = x[[t]], y[[t]]\n",
    "        ht,ct = lstm_cell(xt,(ht,ct))\n",
    "    #     ot = linr(ht) \n",
    "    #     loss = loss + loss_fn(ot,yt)\n",
    "    # loss = loss / T\n",
    "    # ## 3 \n",
    "    # loss.backward()\n",
    "    # ## 4 \n",
    "    # optimizr.step()\n",
    "    # optimizr.zero_grad()"
   ]
  },
  {
   "cell_type": "code",
   "execution_count": 63,
   "id": "9aca0b32-7d50-4359-b4e6-5a724f49177d",
   "metadata": {},
   "outputs": [
    {
     "data": {
      "text/plain": [
       "(tensor([[-0.0541,  0.0892]], grad_fn=<MulBackward0>),\n",
       " tensor([[-0.1347,  0.2339]], grad_fn=<AddBackward0>))"
      ]
     },
     "execution_count": 63,
     "metadata": {},
     "output_type": "execute_result"
    }
   ],
   "source": [
    "ht,ct "
   ]
  },
  {
   "cell_type": "markdown",
   "id": "5a9f27c6-6556-46c9-ae43-274646e9a9bd",
   "metadata": {},
   "source": [
    "- 이런결과를 어떻게 만드는걸까? \n",
    "- <https://pytorch.org/docs/stable/generated/torch.nn.LSTM.html>"
   ]
  },
  {
   "cell_type": "markdown",
   "id": "fc3cea27-dfcb-4dac-bdcc-6b1d23814bfd",
   "metadata": {},
   "source": [
    "$i_t = \\sigma(W_{ii} x_t + b_{ii} + W_{hi} h_{t-1} + b_{hi})$\n",
    "\n",
    "$f_t = \\sigma(W_{if} x_t + b_{if} + W_{hf} h_{t-1} + b_{hf})$\n",
    "\n",
    "$g_t = \\tanh (W_{ig} x_t + b_{ig} + W_{hg} h_{t-1} + b_{hg})$\n",
    "\n",
    "$o_t = \\sigma(W_{io} x_t + b_{io} + W_{ho} h_{t-1} + b_{hg})$\n",
    "\n",
    "$o_t = \\sigma(W_{io} x_t + b_{io} + W_{ho} h_{t-1} + b_{ho})$\n",
    "\n",
    "$c_t = f_t \\odot c_{t-1} + i_t \\odot g_t$\n",
    "\n",
    "$h_t = o_t \\odot \\tanh (c_t)$"
   ]
  },
  {
   "cell_type": "markdown",
   "id": "8a5636db-4f2a-4d1d-8913-c10d95e56078",
   "metadata": {},
   "source": [
    "$\\sigma = \\text{ Sigmoid }$\n",
    "\n",
    "$x_t, h_{t-1} \\underrightarrow{lin} \\text{ }\\circ  \\text{ }\\underrightarrow{sig} \\text{ }i_t$\n",
    "\n",
    "$x_t, h_{t-1} \\underrightarrow{lin}  \\text{ }\\square \\text{ } \\underrightarrow{sig} \\text{ }f_t$\n",
    "\n",
    "$x_t, h_{t-1} \\underrightarrow{lin}  \\text{ }\\star  \\text{ } \\underrightarrow{tanh} \\text{ }g_t$\n",
    "\n",
    "$x_t, h_{t-1} \\underrightarrow{lin}  \\text{ } \\triangleleft  \\text{ }\\underrightarrow{sig} \\text{ }o_t$ \n",
    "\n",
    "$x_t, h_{t-1} \\underrightarrow{lin} \\text{ }\\circ \\text{ , } \\square \\text{, } \\star \\text{, } \\triangleleft \\text{ } \\to \\sigma(circ) \\text{, }\\sigma(\\square) \\text{ , }\\tanh(\\star)\\text{ , } \\sigma(\\triangleleft) \\sim i_t, f_t, g_t, o_t$"
   ]
  },
  {
   "cell_type": "markdown",
   "id": "59ef109a-2166-4a52-9ca8-9fe4f187435b",
   "metadata": {},
   "source": [
    "- 위에 나온 W가 어떻게 계산되나\n",
    "\n",
    "weight_ih_l[k] – the learnable input-hidden weights of the $\\text{k}^{th}$ layer $(W_ii|W_if|W_ig|W_io)$, of shape (4*hidden_size, input_size) for $k = 0$. Otherwise, the shape is (4*hidden_size, num_directions * hidden_size). If proj_size > 0 was specified, the shape will be (4*hidden_size, num_directions * proj_size) for $k > 0$\n",
    "\n",
    "weight_hh_l[k] – the learnable hidden-hidden weights of the \\text{k}^{th}$layer $(W_hi|W_hf|W_hg|W_ho)$, of shape (4*hidden_size, hidden_size). If proj_size > 0 was specified, the shape will be (4*hidden_size, proj_size)."
   ]
  },
  {
   "cell_type": "markdown",
   "id": "420560a5-0758-41c4-b47d-7684b7871bcf",
   "metadata": {},
   "source": [
    "`-` 직접계산 "
   ]
  },
  {
   "cell_type": "markdown",
   "id": "3c9f95c3-790b-4fdb-b62b-64e83e88af97",
   "metadata": {},
   "source": [
    "- $o_t$ = output_gate\n",
    "- $f_t$ = forget_gate\n",
    "- $i_t$ = input_gate"
   ]
  },
  {
   "cell_type": "code",
   "execution_count": 13,
   "id": "071cee7d-a92a-446c-98fd-84b4d92cb4b4",
   "metadata": {},
   "outputs": [],
   "source": [
    "ht = torch.zeros(1,2)\n",
    "ct = torch.zeros(1,2)"
   ]
  },
  {
   "cell_type": "code",
   "execution_count": 66,
   "id": "00b7a640-2cc6-4caa-8453-c8525e7131a0",
   "metadata": {},
   "outputs": [
    {
     "data": {
      "text/plain": [
       "tensor([[ 0.0137,  0.1495,  0.0879,  0.6436, -0.2615,  0.3974, -0.3506, -0.4550]],\n",
       "       grad_fn=<AddBackward0>)"
      ]
     },
     "execution_count": 66,
     "metadata": {},
     "output_type": "execute_result"
    }
   ],
   "source": [
    "_ifgo = xt @ lstm_cell.weight_ih.T + ht @ lstm_cell.weight_hh.T + lstm_cell.bias_ih + lstm_cell.bias_hh\n",
    "_ifgo"
   ]
  },
  {
   "cell_type": "markdown",
   "id": "24f78eaf-45d1-4454-8e6d-5fe0f8e13866",
   "metadata": {},
   "source": [
    "$\\circ \\text{ , } \\square \\text{, } \\star \\text{, } \\triangleleft $각 두 개씩"
   ]
  },
  {
   "cell_type": "code",
   "execution_count": 67,
   "id": "4c928a1d-c98b-4412-8d84-0189f8e1cbf5",
   "metadata": {},
   "outputs": [],
   "source": [
    "input_gate = sig(_ifgo[:,0:2])\n",
    "forget_gate = sig(_ifgo[:,2:4])\n",
    "gt = tanh(_ifgo[:,4:6])\n",
    "output_gate = sig(_ifgo[:,6:8])"
   ]
  },
  {
   "cell_type": "code",
   "execution_count": 68,
   "id": "43c3a6b8-9665-4d62-924c-4026fd30e771",
   "metadata": {},
   "outputs": [],
   "source": [
    "ct = forget_gate * ct + input_gate * gt\n",
    "ht = output_gate * tanh(ct)"
   ]
  },
  {
   "cell_type": "code",
   "execution_count": 69,
   "id": "6c473da7-59de-4dc4-a6a8-2a3c164dddaf",
   "metadata": {},
   "outputs": [
    {
     "data": {
      "text/plain": [
       "(tensor([[-0.0812,  0.1327]], grad_fn=<MulBackward0>),\n",
       " tensor([[-0.1991,  0.3563]], grad_fn=<AddBackward0>))"
      ]
     },
     "execution_count": 69,
     "metadata": {},
     "output_type": "execute_result"
    }
   ],
   "source": [
    "ht,ct"
   ]
  },
  {
   "cell_type": "markdown",
   "id": "520f2e7d-5f41-441b-b99b-3fb8db556aa0",
   "metadata": {},
   "source": [
    "#### ***t=0 $\\to$ t=T***"
   ]
  },
  {
   "cell_type": "code",
   "execution_count": 70,
   "id": "7b3f0bf8-f390-4585-b333-df9d8e648f4a",
   "metadata": {},
   "outputs": [],
   "source": [
    "torch.manual_seed(43052) \n",
    "lstm_cell = torch.nn.LSTMCell(3,2) \n",
    "linr = torch.nn.Linear(2,3)\n",
    "loss_fn = torch.nn.CrossEntropyLoss() \n",
    "optimizr = torch.optim.Adam(list(lstm_cell.parameters())+list(linr.parameters()),lr=0.1)"
   ]
  },
  {
   "cell_type": "code",
   "execution_count": 71,
   "id": "e878d569-3dee-43de-b794-cde107b941b8",
   "metadata": {},
   "outputs": [],
   "source": [
    "T = len(x) \n",
    "for epoc in range(1):\n",
    "    ht = torch.zeros(1,2)\n",
    "    ct = torch.zeros(1,2)\n",
    "    loss = 0 \n",
    "    ## 1~2\n",
    "    for t in range(T):\n",
    "        xt,yt = x[[t]], y[[t]]\n",
    "        \n",
    "        ## lstm_cell step1: calculate _ifgo \n",
    "        _ifgo = xt @ lstm_cell.weight_ih.T + ht @ lstm_cell.weight_hh.T + lstm_cell.bias_ih + lstm_cell.bias_hh\n",
    "        ## lstm_cell step2: decompose _ifgo \n",
    "        input_gate = sig(_ifgo[:,0:2])\n",
    "        forget_gate = sig(_ifgo[:,2:4])\n",
    "        gt = tanh(_ifgo[:,4:6])\n",
    "        output_gate = sig(_ifgo[:,6:8])\n",
    "        ## lstm_cell step3: calculate ht,ct \n",
    "        ct = forget_gate * ct + input_gate * gt\n",
    "        ht = output_gate * tanh(ct)\n",
    "        \n",
    "    #     ot = linr(ht) \n",
    "    #     loss = loss + loss_fn(ot,yt)\n",
    "    # loss = loss / T\n",
    "    # ## 3 \n",
    "    # loss.backward()\n",
    "    # ## 4 \n",
    "    # optimizr.step()\n",
    "    # optimizr.zero_grad()"
   ]
  },
  {
   "cell_type": "code",
   "execution_count": 72,
   "id": "b1529f2d-50e0-4d6c-b7b4-11d11aa8f98a",
   "metadata": {},
   "outputs": [
    {
     "data": {
      "text/plain": [
       "(tensor([[-0.0406,  0.2505]], grad_fn=<MulBackward0>),\n",
       " tensor([[-0.0975,  0.7134]], grad_fn=<AddBackward0>))"
      ]
     },
     "execution_count": 72,
     "metadata": {},
     "output_type": "execute_result"
    }
   ],
   "source": [
    "ht,ct"
   ]
  },
  {
   "cell_type": "markdown",
   "id": "44ee94ba-e3bb-4522-b0a1-cc97882890fb",
   "metadata": {},
   "source": [
    "### 1 epoch ver3 (with torch.nn.LSTM)"
   ]
  },
  {
   "cell_type": "code",
   "execution_count": 73,
   "id": "db57b1d2-62dd-419c-be8e-4ecd86ddf7a7",
   "metadata": {},
   "outputs": [],
   "source": [
    "torch.manual_seed(43052) \n",
    "lstm_cell = torch.nn.LSTMCell(3,2)\n",
    "linr = torch.nn.Linear(2,3) "
   ]
  },
  {
   "cell_type": "code",
   "execution_count": 74,
   "id": "cda1f85d-2684-4132-8a77-2963dc8c506d",
   "metadata": {},
   "outputs": [],
   "source": [
    "lstm = torch.nn.LSTM(3,2) "
   ]
  },
  {
   "cell_type": "code",
   "execution_count": 75,
   "id": "949f680d-6f97-4d1b-9eb3-c1bac8a00c6d",
   "metadata": {},
   "outputs": [],
   "source": [
    "lstm.weight_hh_l0.data = lstm_cell.weight_hh.data \n",
    "lstm.bias_hh_l0.data = lstm_cell.bias_hh.data \n",
    "lstm.weight_ih_l0.data = lstm_cell.weight_ih.data \n",
    "lstm.bias_ih_l0.data = lstm_cell.bias_ih.data "
   ]
  },
  {
   "cell_type": "markdown",
   "id": "0f357eff-ff23-41d5-b5ec-015f9035ec73",
   "metadata": {},
   "source": [
    "- 초기화된 가중치값들로 덮어씌우기"
   ]
  },
  {
   "cell_type": "code",
   "execution_count": 76,
   "id": "6c438c59-63cf-475b-ab57-8fbad3df5ab9",
   "metadata": {},
   "outputs": [],
   "source": [
    "loss_fn = torch.nn.CrossEntropyLoss()\n",
    "optimizr = torch.optim.Adam(list(lstm.parameters()) + list(linr.parameters()), lr=0.1) "
   ]
  },
  {
   "cell_type": "code",
   "execution_count": 77,
   "id": "8a4321ef-3ca7-4c79-80c9-9a6d2e3fbbb6",
   "metadata": {},
   "outputs": [],
   "source": [
    "_water = torch.zeros(1,2) \n",
    "for epoc in range(1): \n",
    "    ## step1 \n",
    "    hidden, (ht,ct) = lstm(x,(_water,_water))\n",
    "    output = linr(hidden)\n",
    "    # ## step2\n",
    "    # loss = loss_fn(output,y) \n",
    "    # ## step3\n",
    "    # loss.backward()\n",
    "    # ## step4 \n",
    "    # optimizr.step()\n",
    "    # optimizr.zero_grad() "
   ]
  },
  {
   "cell_type": "code",
   "execution_count": 78,
   "id": "a7e9f401-9d45-4824-8b2c-5d871006b7e3",
   "metadata": {},
   "outputs": [
    {
     "data": {
      "text/plain": [
       "(tensor([[-0.0406,  0.2505]], grad_fn=<SqueezeBackward1>),\n",
       " tensor([[-0.0975,  0.7134]], grad_fn=<SqueezeBackward1>))"
      ]
     },
     "execution_count": 78,
     "metadata": {},
     "output_type": "execute_result"
    }
   ],
   "source": [
    "ht,ct"
   ]
  },
  {
   "cell_type": "markdown",
   "id": "85704396-b5fd-4a59-a315-6788daaace91",
   "metadata": {},
   "source": [
    "## LSTM은 왜 강한가? "
   ]
  },
  {
   "cell_type": "markdown",
   "id": "26aa308d-12d3-4f2c-af6c-7aa5f52ff0db",
   "metadata": {},
   "source": [
    "### data: abaB"
   ]
  },
  {
   "cell_type": "code",
   "execution_count": 79,
   "id": "c64b3d7c-2e66-4629-9ad4-1e3bd9138029",
   "metadata": {},
   "outputs": [
    {
     "data": {
      "text/plain": [
       "['a', 'b', 'a', 'B', 'a']"
      ]
     },
     "execution_count": 79,
     "metadata": {},
     "output_type": "execute_result"
    }
   ],
   "source": [
    "txt = list('abaB')*100\n",
    "txt[:5]"
   ]
  },
  {
   "cell_type": "code",
   "execution_count": 80,
   "id": "e819e299-9a38-40d2-9407-7d251aecd9e3",
   "metadata": {},
   "outputs": [],
   "source": [
    "n_words = 3"
   ]
  },
  {
   "cell_type": "code",
   "execution_count": 81,
   "id": "19407661-7cba-4b4e-ba92-f32773664c57",
   "metadata": {},
   "outputs": [],
   "source": [
    "mapping = {'a':0, 'b':1, 'B':2}"
   ]
  },
  {
   "cell_type": "code",
   "execution_count": 82,
   "id": "fd27f9f6-7122-493e-8415-34b61b1bddb6",
   "metadata": {},
   "outputs": [],
   "source": [
    "txt_x = txt[:-1]\n",
    "txt_y = txt[1:]"
   ]
  },
  {
   "cell_type": "code",
   "execution_count": 83,
   "id": "40bb3e23-c7e8-44d2-99f3-012f881aaa6a",
   "metadata": {},
   "outputs": [
    {
     "data": {
      "text/plain": [
       "(['a', 'b', 'a', 'B', 'a', 'b', 'a', 'B', 'a', 'b'],\n",
       " ['b', 'a', 'B', 'a', 'b', 'a', 'B', 'a', 'b', 'a'])"
      ]
     },
     "execution_count": 83,
     "metadata": {},
     "output_type": "execute_result"
    }
   ],
   "source": [
    "txt_x[:10],txt_y[:10]"
   ]
  },
  {
   "cell_type": "code",
   "execution_count": 84,
   "id": "03493d19-ab7c-4285-8460-02a8e29f7113",
   "metadata": {},
   "outputs": [],
   "source": [
    "x = torch.nn.functional.one_hot(torch.tensor(f(txt_x,mapping))).float()\n",
    "y = torch.nn.functional.one_hot(torch.tensor(f(txt_y,mapping))).float()"
   ]
  },
  {
   "cell_type": "code",
   "execution_count": 85,
   "id": "cc4701aa-99d0-4366-8a3a-70623a31d496",
   "metadata": {},
   "outputs": [
    {
     "data": {
      "text/plain": [
       "(tensor([[1., 0., 0.],\n",
       "         [0., 1., 0.],\n",
       "         [1., 0., 0.],\n",
       "         ...,\n",
       "         [1., 0., 0.],\n",
       "         [0., 1., 0.],\n",
       "         [1., 0., 0.]]),\n",
       " tensor([[0., 1., 0.],\n",
       "         [1., 0., 0.],\n",
       "         [0., 0., 1.],\n",
       "         ...,\n",
       "         [0., 1., 0.],\n",
       "         [1., 0., 0.],\n",
       "         [0., 0., 1.]]))"
      ]
     },
     "execution_count": 85,
     "metadata": {},
     "output_type": "execute_result"
    }
   ],
   "source": [
    "x,y"
   ]
  },
  {
   "cell_type": "markdown",
   "id": "7320ffee-aaa2-4000-a5c8-ad16436e8f16",
   "metadata": {},
   "source": [
    "### 1000 epoch "
   ]
  },
  {
   "cell_type": "code",
   "execution_count": 86,
   "id": "adad7d35-775c-4345-9588-6468464ce000",
   "metadata": {},
   "outputs": [],
   "source": [
    "torch.manual_seed(43052) \n",
    "lstm = torch.nn.LSTM(3,2) \n",
    "linr = torch.nn.Linear(2,3) "
   ]
  },
  {
   "cell_type": "code",
   "execution_count": 87,
   "id": "2284658b-aa94-4d9b-b0d6-470cf27b48e9",
   "metadata": {},
   "outputs": [],
   "source": [
    "loss_fn = torch.nn.CrossEntropyLoss() \n",
    "optimizr = torch.optim.Adam(list(lstm.parameters())+ list(linr.parameters()),lr=0.1)"
   ]
  },
  {
   "cell_type": "code",
   "execution_count": 88,
   "id": "8eeb1b3c-000e-4047-b09d-bb1d211c2e3b",
   "metadata": {},
   "outputs": [],
   "source": [
    "_water = torch.zeros(1,2) \n",
    "for epoc in range(1000): \n",
    "    ## step1 \n",
    "    hidden, (ht,ct) = lstm(x,(_water,_water))\n",
    "    output = linr(hidden)\n",
    "    ## step2\n",
    "    loss = loss_fn(output,y) \n",
    "    ## step3\n",
    "    loss.backward()\n",
    "    ## step4 \n",
    "    optimizr.step()\n",
    "    optimizr.zero_grad() "
   ]
  },
  {
   "cell_type": "markdown",
   "id": "5db39b61-7c13-4d7e-be26-b16a9f813fa2",
   "metadata": {
    "tags": []
   },
   "source": [
    "### 시각화 "
   ]
  },
  {
   "cell_type": "code",
   "execution_count": 89,
   "id": "0ec0724b-0298-4a61-b0d0-6cb4ca86cac6",
   "metadata": {},
   "outputs": [],
   "source": [
    "T = len(x)\n",
    "input_gate = torch.zeros(T,2)\n",
    "forget_gate = torch.zeros(T,2)\n",
    "output_gate = torch.zeros(T,2)\n",
    "g = torch.zeros(T,2)\n",
    "cell = torch.zeros(T,2)\n",
    "h = torch.zeros(T,2) "
   ]
  },
  {
   "cell_type": "markdown",
   "id": "d915e513-1352-407a-be86-65fb45b27fb0",
   "metadata": {},
   "source": [
    "- 변수를 담을 빈 셋 설정"
   ]
  },
  {
   "cell_type": "code",
   "execution_count": 90,
   "id": "70d0fdf3-5e08-4f87-ba53-a329ee9599c2",
   "metadata": {},
   "outputs": [],
   "source": [
    "for t in range(T): \n",
    "    ## 1: calculate _ifgo \n",
    "    _ifgo = x[[t]] @ lstm.weight_ih_l0.T + h[[t]] @ lstm.weight_hh_l0.T + lstm.bias_ih_l0 + lstm.bias_hh_l0 \n",
    "    ## 2: decompose _ifgo \n",
    "    input_gate[[t]] = sig(_ifgo[:,0:2])\n",
    "    forget_gate[[t]] = sig(_ifgo[:,2:4])\n",
    "    g[[t]] = tanh(_ifgo[:,4:6])\n",
    "    output_gate[[t]] = sig(_ifgo[:,6:8])\n",
    "    ## 3: calculate ht,ct \n",
    "    cell[[t]] = forget_gate[[t]] * cell[[t]] + input_gate[[t]] * g[[t]]\n",
    "    h[[t]] = output_gate[[t]] * tanh(cell[[t]])"
   ]
  },
  {
   "cell_type": "code",
   "execution_count": 91,
   "id": "62770c91-377d-43d7-b24b-76a578cb66a4",
   "metadata": {},
   "outputs": [],
   "source": [
    "combinded1 = torch.concat([input_gate,forget_gate,output_gate],axis=1)\n",
    "combinded2 = torch.concat([g,cell,h,soft(output)],axis=1)"
   ]
  },
  {
   "cell_type": "code",
   "execution_count": 92,
   "id": "49415b83-4996-4f4e-9bc8-b934df5e8921",
   "metadata": {},
   "outputs": [
    {
     "data": {
      "image/png": "[encoded data removed]",
      "text/plain": [
       "<Figure size 288x384 with 1 Axes>"
      ]
     },
     "metadata": {
      "needs_background": "light"
     },
     "output_type": "display_data"
    },
    {
     "data": {
      "image/png": "[encoded data removed]",
      "text/plain": [
       "<Figure size 324x288 with 1 Axes>"
      ]
     },
     "metadata": {
      "needs_background": "light"
     },
     "output_type": "display_data"
    }
   ],
   "source": [
    "plt.matshow(combinded1[-8:].data,cmap='bwr',vmin=-1,vmax=1);\n",
    "plt.xticks(range(combinded1.shape[-1]),labels=['i']*2 + ['f']*2 + ['o']*2);\n",
    "plt.matshow(combinded2[-8:].data,cmap='bwr',vmin=-1,vmax=1)\n",
    "plt.xticks(range(combinded2.shape[-1]),labels=['g']*2 + ['c']*2 + ['h']*2 + ['yhat']*3);"
   ]
  },
  {
   "cell_type": "markdown",
   "id": "af5f92fb-5355-4d6d-9890-b7a921d47e85",
   "metadata": {},
   "source": [
    "- 상단그림은 게이트의 값들만 시각화, 하단그림은 게이트 이외의 값들을 시각화 "
   ]
  },
  {
   "cell_type": "markdown",
   "id": "fe40cac7-9efc-41ce-8cb1-114f9bd7d87d",
   "metadata": {},
   "source": [
    "### 시각화의 해석I "
   ]
  },
  {
   "cell_type": "code",
   "execution_count": 94,
   "id": "80049493-28cc-49ef-83df-2260d674ff98",
   "metadata": {},
   "outputs": [
    {
     "data": {
      "image/png": "[encoded data removed]",
      "text/plain": [
       "<Figure size 288x384 with 1 Axes>"
      ]
     },
     "metadata": {
      "needs_background": "light"
     },
     "output_type": "display_data"
    }
   ],
   "source": [
    "plt.matshow(combinded1[-8:].data,cmap='bwr',vmin=-1,vmax=1);\n",
    "plt.xticks(range(combinded1.shape[-1]),labels=['i']*2 + ['f']*2 + ['o']*2);"
   ]
  },
  {
   "cell_type": "markdown",
   "id": "ee969945-3e42-4f38-9da8-572ac6d6ff9d",
   "metadata": {},
   "source": [
    "`-` input_gate, forget_gate, output_gate는 모두 0~1 사이의 값을 가진다. "
   ]
  },
  {
   "cell_type": "markdown",
   "id": "25e78dc0-50b9-43e7-a33d-9e5ab9fbbd15",
   "metadata": {},
   "source": [
    "`-` 이 값들은 각각 모두 ${\\boldsymbol g}_t, {\\boldsymbol c}_{t-1}, \\tanh({\\boldsymbol c}_t)$에 곱해진다. 따라서 input_gate, forget_gate, output_gate 는 gate의 역할로 비유가능하다. (1이면 통과, 0이면 차단)\n",
    "\n",
    "- input_gate: ${\\boldsymbol g}_t$의 값을 얼만큼 통과시킬지 0~1사이의 숫자로 결정 \n",
    "- forget_gate: ${\\boldsymbol c}_{t-1}$의 값을 얼만큼 통과시킬지 0~1사이의 숫자로 결정 \n",
    "- output_gate: $\\tanh({\\boldsymbol c}_t)$의 값을 얼만큼 통과시킬지 0~1사이의 숫자로 결정 "
   ]
  },
  {
   "cell_type": "markdown",
   "id": "a09f3cb6-76e1-48bc-9e10-211244ed8b87",
   "metadata": {},
   "source": [
    "(서연 필기)\n",
    "\n",
    "- 값들이 0과 1사이의 값을 가진다\n",
    "- 파 -1 흰 0 빨 1\n",
    "- 0 곱하면 어떤 값이든 0이 되니까 차단한다 표현"
   ]
  },
  {
   "cell_type": "markdown",
   "id": "e34b06ed-d6d4-40f2-b9ff-fa8cf68f81e5",
   "metadata": {},
   "source": [
    "### 시각화의 해석II"
   ]
  },
  {
   "cell_type": "code",
   "execution_count": 95,
   "id": "e8cedd7d-aa54-4843-9cfb-86c8b431536d",
   "metadata": {},
   "outputs": [
    {
     "data": {
      "image/png": "[encoded data removed]",
      "text/plain": [
       "<Figure size 324x288 with 1 Axes>"
      ]
     },
     "metadata": {
      "needs_background": "light"
     },
     "output_type": "display_data"
    }
   ],
   "source": [
    "plt.matshow(combinded2[-8:].data,cmap='bwr',vmin=-1,vmax=1)\n",
    "plt.xticks(range(combinded2.shape[-1]),labels=['g']*2 + ['c']*2 + ['h']*2 + ['yhat']*3);"
   ]
  },
  {
   "cell_type": "markdown",
   "id": "3ac59108-8ce5-4519-8b62-6a9e516b7b6c",
   "metadata": {},
   "source": [
    "`-` 결국 ${\\boldsymbol g}_t\\to {\\boldsymbol c}_t \\to {\\boldsymbol h}_t \\to \\hat{\\boldsymbol y}$ 의 느낌이다. (${\\boldsymbol h}_t$를 계산하기 위해서는 ${\\boldsymbol c}_t$가 필요했고 ${\\boldsymbol c}_t$를 계산하기 위해서는 ${\\boldsymbol c}_{t-1}$과 ${\\boldsymbol g}_t$가 필요했음) \n",
    "\n",
    "- ${\\boldsymbol h}_t= \\tanh({\\boldsymbol c}_t) \\odot {\\boldsymbol o}_t$\n",
    "- ${\\boldsymbol c}_t ={\\boldsymbol c}_{t-1} \\odot {\\boldsymbol f}_t + {\\boldsymbol g}_{t} \\odot {\\boldsymbol i}_t$"
   ]
  },
  {
   "cell_type": "markdown",
   "id": "5f93a71c-a6a6-49d8-91f9-b8e004fee5dc",
   "metadata": {},
   "source": [
    "`-` ${\\boldsymbol g}_t,{\\boldsymbol c}_t,{\\boldsymbol h}_t$ 모두 ${\\boldsymbol x}_t$의 정보를 숙성시켜 가지고 있는 느낌이 든다. "
   ]
  },
  {
   "cell_type": "markdown",
   "id": "24a15812-42e2-4090-b6b9-c688b6d8a0fd",
   "metadata": {},
   "source": [
    "`-` ${\\boldsymbol g}_t$ 특징: 보통 -1,1 중 하나의 값을 가지도록 학습되어 있다. (마치 RNN의 hidden node처럼!) \n",
    "\n",
    "- $\\boldsymbol{g}_t = \\tanh({\\boldsymbol x}_t {\\bf W}_{ig} + {\\boldsymbol h}_{t-1} {\\bf W}_{hg}+ {\\boldsymbol b}_{ig}+{\\boldsymbol b}_{hg})$"
   ]
  },
  {
   "cell_type": "markdown",
   "id": "10487929-4404-42fa-a654-effb3c6e2ce8",
   "metadata": {},
   "source": [
    "`-` ${\\boldsymbol c}_t$ 특징: ${\\boldsymbol g}_t$와 매우 비슷하지만 약간 다른값을 가진다. 그래서 ${\\boldsymbol g}_t$와는 달리 -1,1 이외의 값도 종종 등장. "
   ]
  },
  {
   "cell_type": "code",
   "execution_count": 96,
   "id": "e47ea880-23e0-4e32-9516-62c07a4512fa",
   "metadata": {},
   "outputs": [
    {
     "name": "stdout",
     "output_type": "stream",
     "text": [
      "first row: gt=tensor([ 0.9999, -0.9999]), ct=tensor([ 0.9647, -0.9984])\n",
      "second row: gt=tensor([ 0.9970, -0.9554]), ct=tensor([ 0.3592, -0.9373])\n"
     ]
    }
   ],
   "source": [
    "print(\"first row: gt={}, ct={}\".format(g[-8].data, cell[-8].data))\n",
    "print(\"second row: gt={}, ct={}\".format(g[-7].data, cell[-7].data))\n",
    "#g[-7], cell[-7]"
   ]
  },
  {
   "cell_type": "markdown",
   "id": "0f2ae545-2756-4557-8bf0-f3b5387b8447",
   "metadata": {},
   "source": [
    "`-` ${\\boldsymbol h}_t$ 특징: (1) ${\\boldsymbol c}_t$의 느낌이 있음 하지만 약간의 변형이 있음. (2) -1~1 사이에의 값을 훨씬 다양하게 가진다. (tanh때문)"
   ]
  },
  {
   "cell_type": "markdown",
   "id": "eb80fcc8-b1fa-4b50-a288-6fb47568d274",
   "metadata": {},
   "source": [
    "(서연 필기)\n",
    "\n",
    "- comparison of g,c part \n",
    "    - 보니까 빨간 색은 1에 가까운 값, 파란색은 -1에 가까운 값들을 띄었다.\n",
    "    - 그리고 연한 빨간색인 부분은 0.3592로 낮았고, g부분과 c부분이 열별로 보았을 때 달랐다"
   ]
  },
  {
   "cell_type": "code",
   "execution_count": 97,
   "id": "888cd827-2546-4836-aa95-89ac7dcf7eac",
   "metadata": {},
   "outputs": [
    {
     "name": "stdout",
     "output_type": "stream",
     "text": [
      "first row: gt=tensor([ 0.9999, -0.9999]), ct=tensor([ 0.9647, -0.9984]), ht=tensor([ 0.7370, -0.3323])\n",
      "second row: gt=tensor([ 0.9970, -0.9554]), ct=tensor([ 0.3592, -0.9373]), ht=tensor([ 0.0604, -0.6951])\n"
     ]
    }
   ],
   "source": [
    "print(\"first row: gt={}, ct={}, ht={}\".format(g[-8].data, cell[-8].data,h[-8].data))\n",
    "print(\"second row: gt={}, ct={}, ht={}\".format(g[-7].data, cell[-7].data,h[-7].data))\n",
    "#g[-7], cell[-7]"
   ]
  },
  {
   "cell_type": "markdown",
   "id": "9504ca5c-cc35-43e7-94ab-602286dc4de3",
   "metadata": {},
   "source": [
    "(서연 필기)\n",
    "\n",
    "- comparison of c,h part \n",
    "    - h는 c와 무관해보이지 않는다.\n",
    "    - 단지 어떤 변형이 있는 것 같다."
   ]
  },
  {
   "cell_type": "markdown",
   "id": "c07c3a66-318c-4c84-af33-1857f6e2618e",
   "metadata": {},
   "source": [
    "`-` 예전의문 해결\n",
    "\n",
    "- 실험적으로 살펴보니 LSTM이 RNN보다 장기기억에 유리했음.\n",
    "- 그 이유: RRN은 ${\\boldsymbol h}_t$의 값이 -1 혹은 1로 결정되는 경우가 많았음. 그러나 경우에 따라서는 ${\\boldsymbol h}_t$이 -1~1의 값을 가지는 것이 문맥적 뉘앙스를 포착하기에는 유리한데 LSTM이 이러한 방식으로 학습되는 경우가 많았음. \n",
    "- 왜 LSTM의 ${\\boldsymbol h}_t$은 -1,1 이외의 값을 쉽게 가질 수 있는가? (1) gate들의 역할 (2) 마지막에 취해지는 tanh 때문 "
   ]
  },
  {
   "cell_type": "markdown",
   "id": "2282c11b-0d9e-4a27-96af-4b3d242b4af6",
   "metadata": {},
   "source": [
    "## 여기서부너 3부 1:15분! 다시 듣기"
   ]
  },
  {
   "cell_type": "markdown",
   "id": "54d55fb3-1dc0-463a-b982-cc4249ac9347",
   "metadata": {},
   "source": [
    "### LSTM의 알고리즘 리뷰 I (수식위주)"
   ]
  },
  {
   "cell_type": "markdown",
   "id": "c7cc4c9d-d96a-4b60-af88-adbc76119a2b",
   "metadata": {},
   "source": [
    "**(step1)** calculate ${\\tt ifgo}$"
   ]
  },
  {
   "cell_type": "markdown",
   "id": "f2342c7d-336d-47a2-9c2b-d74f3ec9b9cd",
   "metadata": {},
   "source": [
    "${\\tt ifgo} = {\\boldsymbol x}_t  \\big[{\\bf W}_{ii} | {\\bf W}_{if}| {\\bf W}_{ig} |{\\bf W}_{io}\\big] + {\\boldsymbol h}_{t-1}  \\big[ {\\bf W}_{hi}|{\\bf W}_{hf} |{\\bf W}_{hg} | {\\bf W}_{ho} \\big] + bias$\n",
    "\n",
    "$=\\big[{\\boldsymbol x}_t{\\bf W}_{ii} + {\\boldsymbol h}_{t-1}{\\bf W}_{hi} ~\\big|~ {\\boldsymbol x}_t{\\bf W}_{if}+ {\\boldsymbol h}_{t-1}{\\bf W}_{hf}~ \\big|~ {\\boldsymbol x}_t{\\bf W}_{ig} + {\\boldsymbol h}_{t-1}{\\bf W}_{hg}  ~\\big|~ {\\boldsymbol x}_t{\\bf W}_{io} + {\\boldsymbol h}_{t-1}{\\bf W}_{ho} \\big] + bias$"
   ]
  },
  {
   "cell_type": "markdown",
   "id": "cd68d09d-0aa0-42d8-bcf2-dadfbe3b31af",
   "metadata": {},
   "source": [
    "참고: 위의 수식은 아래코드에 해당하는 부분\n",
    "\n",
    "```Python\n",
    "ifgo = xt @ lstm_cell.weight_ih.T + ht @ lstm_cell.weight_hh.T + lstm_cell.bias_ih + lstm_cell.bias_hh\n",
    "```"
   ]
  },
  {
   "cell_type": "markdown",
   "id": "b5484844-c6b9-4c2c-8cf6-93dbfc806f8a",
   "metadata": {},
   "source": [
    "**(step2)** decompose ${\\tt ifgo}$ and get ${\\boldsymbol i}_t$, ${\\boldsymbol f}_t$, ${\\boldsymbol g}_t$, ${\\boldsymbol o}_t$"
   ]
  },
  {
   "cell_type": "markdown",
   "id": "8d08e0db-b640-4f8d-a0a2-6977aa100bbd",
   "metadata": {},
   "source": [
    "${\\boldsymbol i}_t = \\sigma({\\boldsymbol x}_t {\\bf W}_{ii} + {\\boldsymbol h}_{t-1} {\\bf W}_{hi} +bias )$ "
   ]
  },
  {
   "cell_type": "markdown",
   "id": "b0d552b9-c4e3-4dc5-a2c1-a27a1cfcdd3f",
   "metadata": {},
   "source": [
    "${\\boldsymbol f}_t = \\sigma({\\boldsymbol x}_t {\\bf W}_{if} + {\\boldsymbol h}_{t-1} {\\bf W}_{hf} +bias )$ "
   ]
  },
  {
   "cell_type": "markdown",
   "id": "353bdfff-ca19-48bb-a788-3fe0b841a837",
   "metadata": {},
   "source": [
    "${\\boldsymbol g}_t = \\tanh({\\boldsymbol x}_t {\\bf W}_{ig} + {\\boldsymbol h}_{t-1} {\\bf W}_{hg} +bias )$ "
   ]
  },
  {
   "cell_type": "markdown",
   "id": "7d00540b-0c67-4d5e-b5e8-15d241e4c0a9",
   "metadata": {},
   "source": [
    "${\\boldsymbol o}_t = \\sigma({\\boldsymbol x}_t {\\bf W}_{io} + {\\boldsymbol h}_{t-1} {\\bf W}_{ho} +bias )$ "
   ]
  },
  {
   "cell_type": "markdown",
   "id": "e8f69740-4ef1-4b69-9cf3-abd6a0676057",
   "metadata": {},
   "source": [
    "**(step3)** calculate ${\\boldsymbol c}_t$ and ${\\boldsymbol h}_t$"
   ]
  },
  {
   "cell_type": "markdown",
   "id": "b8ee28fc-1d23-463a-9a6b-9cc44730ea2c",
   "metadata": {},
   "source": [
    "${\\boldsymbol c}_t = {\\boldsymbol i}_t \\odot {\\boldsymbol g}_t+ {\\boldsymbol f}_t \\odot {\\boldsymbol c}_{t-1}$"
   ]
  },
  {
   "cell_type": "markdown",
   "id": "171a8830-582f-44e3-93d3-8fec5e37dd1d",
   "metadata": {},
   "source": [
    "${\\boldsymbol h}_t = \\tanh({\\boldsymbol o}_t \\odot {\\boldsymbol c}_t)$"
   ]
  },
  {
   "cell_type": "markdown",
   "id": "06ec694f-ba59-45cc-a5c4-4553f14d7e72",
   "metadata": {},
   "source": [
    "### LSTM의 알고리즘 리뷰 II (느낌위주)"
   ]
  },
  {
   "cell_type": "markdown",
   "id": "b84b34b3-b649-40b6-a14b-e7c7ed8dac1f",
   "metadata": {},
   "source": [
    "- 이해 및 암기를 돕기위해서 비유적으로 설명한 챕터입니다.."
   ]
  },
  {
   "cell_type": "markdown",
   "id": "7a5f83da-2ce5-421a-b797-afb55979fd1f",
   "metadata": {},
   "source": [
    "`-` 느낌1: RNN이 콩물에서 간장을 한번에 숙성시키는 방법이라면 LSTM은 콩물에서 간장을 3차로 나누어 숙성하는 느낌이다. \n",
    "\n",
    "- 콩물: ${\\boldsymbol x}_t$\n",
    "- 1차숙성: ${\\boldsymbol g}_t$\n",
    "- 2차숙성: ${\\boldsymbol c}_t$ \n",
    "- 3차숙성: ${\\boldsymbol h}_t$ "
   ]
  },
  {
   "cell_type": "markdown",
   "id": "99653cf3-3603-4331-9666-f4f1124ab0c2",
   "metadata": {},
   "source": [
    "`-` 느낌2: ${\\boldsymbol g}_t$에 대하여\n",
    "\n",
    "- 계산방법: ${\\boldsymbol x}_t$와 ${\\boldsymbol h}_{t-1}$를 ${\\bf W}_{ig}, {\\bf W}_{hg}$를 이용해 선형결합하고 $\\tanh$를 취한 결과\n",
    "- RNN에서 간장을 만들던 그 수식에서 $h_t$를 $g_t$로 바꾼것 \n",
    "- 크게 2가지의 의미를 가진다 (1) 과거와 현재의 결합 (2) 활성화함수 $\\tanh$를 적용 "
   ]
  },
  {
   "cell_type": "markdown",
   "id": "d10495ff-366a-4f2a-930c-54e2b70963de",
   "metadata": {},
   "source": [
    "`-` 느낌3: ${\\boldsymbol c}_t$에 대하여 (1)\n",
    "\n",
    "- 계산방법: ${\\boldsymbol g}_{t}$와 ${\\boldsymbol c}_{t-1}$를 요소별로 선택하고 더하는 과정 \n",
    "- $g_t$는 (1) 과거와 현재의 결합 (2) 활성화함수 tanh를 적용으로 나누어지는데 이중에서 (1) 과거와 현재의 정보를 결합하는 과정만 해당한다. 차이점은 요소별 선택 후 덧셈\n",
    "- 이러한 결합을 쓰는 이유? 게이트를 이용하여 과거와 현재의 정보를 제어 (일반적인 설명, 솔직히 내가 좋아하는 설명은 아님)"
   ]
  },
  {
   "cell_type": "markdown",
   "id": "cd793bb7-4d6c-41f2-9fb6-8d325bcb8e63",
   "metadata": {},
   "source": [
    "`-` 느낌4: ${\\boldsymbol c}_t$에 대하여 (2) // ${\\boldsymbol c}_t$는 왜 과거와 현재의 정보를 제어한다고 볼 수 있는가? "
   ]
  },
  {
   "cell_type": "markdown",
   "id": "8f4695f9-d8b1-4032-9d08-06cb0259e363",
   "metadata": {},
   "source": [
    "$t=1$ 시점 계산과정관찰"
   ]
  },
  {
   "cell_type": "code",
   "execution_count": null,
   "id": "44a73c0b-bc72-4c57-babe-fec6c3de45f7",
   "metadata": {},
   "outputs": [],
   "source": [
    "input_gate[1],g[1],forget_gate[1],cell[0]"
   ]
  },
  {
   "cell_type": "markdown",
   "id": "ed2170fe-08ce-4267-bd22-06e8138a233d",
   "metadata": {},
   "source": [
    "$[0.9,1.0] \\odot {\\boldsymbol g}_t + [1.0,0.0] \\odot {\\boldsymbol c}_{t-1}$"
   ]
  },
  {
   "cell_type": "markdown",
   "id": "16090c00-3d5f-4702-98e2-a3b918503d04",
   "metadata": {},
   "source": [
    "- forget_gate는 $c_{t-1}$의 첫번째 원소는 기억하고, 두번째 원소는 잊으라고 말하고 있음 // forget_gate는 과거($c_{t-1}$)의 정보를 얼마나 잊을지 (= 얼마나 기억할지) 를 결정한다고 해석할 수 있다. \n",
    "- input_gate는 $g_{t}$의 첫번째 원소와 두번째 원소를 모두 기억하되 두번째 원소를 좀 더 중요하게 기억하라고 말하고 있음 // input_gate는 현재($g_{t}$)의 정보를 얼만큼 강하게 반영할지 결정한다. \n",
    "- 이 둘을 조합하면 ${\\boldsymbol c}_t$가 현재와 과거의 정보중 어떠한 정보를 더 중시하면서 기억할지 결정한다고 볼 수 있다. "
   ]
  },
  {
   "cell_type": "markdown",
   "id": "859b54dd-eba7-45c3-84f8-7843d67edebc",
   "metadata": {},
   "source": [
    "> 이 설명은 제가 좀 싫어해요, 싫어하는 이유는 (1) \"기억의 정도를 조절한다\"와 \"망각의 정도를 조절한다\"는 사실 같은말임. 그래서 forget_gate의 용어가 모호함. (2) 기억과 망각을 조정하는 방식으로 꼭 gate의 개념을 사용해야 하는건 아님"
   ]
  },
  {
   "cell_type": "markdown",
   "id": "f5d2f91f-68ce-425f-8cd4-05e6ea3eec3e",
   "metadata": {},
   "source": [
    "`-` 느낌5: ${\\boldsymbol c}_t$에 대하여 (3) \n",
    "\n",
    "- 사실상 LSTM 알고리즘의 꽃이라 할 수 있음. \n",
    "- LSTM은 long short term memory의 약자임. 기존의 RNN은 장기기억을 활용함에 약점이 있는데 LSTM은 단기기억/장기기억 모두 잘 활용함. \n",
    "- LSTM이 장기기억을 잘 활용하는 비법은 바로 ${\\boldsymbol c}_t$에 있다."
   ]
  },
  {
   "cell_type": "markdown",
   "id": "ca4e9384-7552-4f33-a570-bd070c73ccc3",
   "metadata": {},
   "source": [
    "`-` 느낌6: ${\\boldsymbol h}_t$에 대하여\n",
    "- 계산방법: $\\tanh({\\boldsymbol c}_t)$를 요소별로 선택 "
   ]
  },
  {
   "cell_type": "markdown",
   "id": "333f5c31-d003-4bfc-93bb-1eb243ace5a1",
   "metadata": {},
   "source": [
    "`-` RNN, LSTM의 변수들 비교 테이블 "
   ]
  },
  {
   "cell_type": "markdown",
   "id": "73817c04-4a40-4191-b844-c679cc991a20",
   "metadata": {},
   "source": [
    "||과거정보|현재정보|과거와 현재의 결합방식|활성화|느낌|비고|\n",
    "|:-:|:-:|:-:|:-:|:-:|:-:|:-:|\n",
    "|RNN-${\\boldsymbol h}_t$|${\\boldsymbol h}_{t-1}$|${\\boldsymbol x}_t$|$\\times$ $\\to$ $+$|$\\tanh$|간장|\n",
    "|||||||\n",
    "|LSTM-${\\boldsymbol g}_t$|${\\boldsymbol h}_{t-1}$|${\\boldsymbol x}_t$|$\\times$ $\\to$ $+$|$\\tanh$|1차간장|\n",
    "|LSTM-${\\boldsymbol c}_t$|${\\boldsymbol c}_{t-1}$|${\\boldsymbol g}_t$|$\\odot$ $\\to$ $+$ |None|2차간장|gate를 열림정도를 판단할때 ${\\boldsymbol x}_t$와 ${\\boldsymbol h}_{t-1}$을 이용|\n",
    "|LSTM-${\\boldsymbol h}_t$|None|${\\boldsymbol c}_t$|None|$\\tanh$, $\\odot$|3차간장|gate를 열림정도를 판단할때 ${\\boldsymbol x}_t$와 ${\\boldsymbol h}_{t-1}$을 이용|\n"
   ]
  },
  {
   "cell_type": "markdown",
   "id": "7752afc9-2fa7-4eae-bbd9-71302d188a8e",
   "metadata": {},
   "source": [
    "- RNN은 기억할 과거정보가 ${\\boldsymbol h}_{t-1}$ 하나이지만 LSTM은 ${\\boldsymbol c}_{t-1}$, ${\\boldsymbol h}_{t-1}$ 2개이다. "
   ]
  },
  {
   "cell_type": "markdown",
   "id": "0f65e84d-f006-4d18-b10c-e9fc01639842",
   "metadata": {},
   "source": [
    "`-` 알고리즘리뷰 : \n",
    "\n",
    "- 콩물,과거3차간장 $\\overset{\\times,+,\\tanh}{\\longrightarrow}$ 현재1차간장\n",
    "- 현재1차간장, 과거2차간장 $\\overset{\\odot,+,\\tanh}{\\longrightarrow}$ 현재2차간장\n",
    "- 현재2차간장 $\\overset{\\tanh,\\odot}{\\longrightarrow}$ 현재3차간장"
   ]
  },
  {
   "cell_type": "markdown",
   "id": "b04b675c-97e3-4b0c-9b9c-9f331681ab4f",
   "metadata": {},
   "source": [
    "### LSTM이 강한이유 "
   ]
  },
  {
   "cell_type": "markdown",
   "id": "60a17885-84f8-49c5-b677-7f56f1edc997",
   "metadata": {},
   "source": [
    "`-` LSTM이 장기기억에 유리함. 그 이유는 input, forget, output gate 들이 과거기억을 위한 역할을 하기 때문. \n",
    "\n",
    "- 비판: 아키텍처에 대한 이론적 근거는 없음. 장기기억을 위하여 꼭 LSTM같은 구조일 필요는 없음. (왜 3차간장을 만들때 tanh를 써야하는지? 게이트는 꼭3개이어야 하는지?)"
   ]
  },
  {
   "cell_type": "markdown",
   "id": "76c20395-04b7-4015-97ea-ce8d58159d48",
   "metadata": {},
   "source": [
    "`-` 저는 사실 아까 살펴본 아래의 이유로 이해하고 있습니다. \n",
    "\n",
    "- 실험적으로 살펴보니 LSTM이 RNN보다 장기기억에 유리했음.\n",
    "- 그 이유: RRN은 ${\\boldsymbol h}_t$의 값이 -1 혹은 1로 결정되는 경우가 많았음. 그러나 경우에 따라서는 ${\\boldsymbol h}_t$이 -1~1의 값을 가지는 것이 문맥적 뉘앙스를 포착하기에는 유리한데 LSTM이 이러한 방식으로 학습되는 경우가 많았음. \n",
    "- 왜 LSTM의 ${\\boldsymbol h}_t$은 -1,1 이외의 값을 쉽게 가질 수 있는가? (1) gate들의 역할 (2) 마지막에 취해지는 tanh 때문 "
   ]
  },
  {
   "cell_type": "markdown",
   "id": "ae1cb3e7-012d-4933-a704-0f857a65eed4",
   "metadata": {
    "tags": []
   },
   "source": [
    "## 참고자료들 \n",
    "\n",
    "- <https://colah.github.io/posts/2015-08-Understanding-LSTMs/>\n",
    "- <https://pytorch.org/docs/stable/generated/torch.nn.LSTM.html>\n",
    "- <https://arxiv.org/abs/1402.1128>"
   ]
  }
 ],
 "metadata": {
  "kernelspec": {
   "display_name": "Python 3",
   "language": "python",
   "name": "python3"
  },
  "language_info": {
   "codemirror_mode": {
    "name": "ipython",
    "version": 3
   },
   "file_extension": ".py",
   "mimetype": "text/x-python",
   "name": "python",
   "nbconvert_exporter": "python",
   "pygments_lexer": "ipython3",
   "version": "3.7.13"
  }
 },
 "nbformat": 4,
 "nbformat_minor": 5
}
