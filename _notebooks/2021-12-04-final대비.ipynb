{
 "cells": [
  {
   "cell_type": "markdown",
   "id": "0a4750ff-3ada-4ded-9a7f-5f61a8e14a67",
   "metadata": {},
   "source": [
    "# 데이터시각화 특강 기말 대비 (12월04일 update) \n",
    "\n",
    "- toc:true\n",
    "- branch: master\n",
    "- badges: true\n",
    "- comments: false\n",
    "- author: 최서연"
   ]
  },
  {
   "cell_type": "markdown",
   "id": "e7375760-8ffc-4b70-853c-fac2db3e3b0f",
   "metadata": {},
   "source": [
    " 지리정보시각화(지도가 포함된 시각화) 는 미리 공개한 문제에서만 나옵니다. (따라서 예상문제를 보고 답안을 미리 작성해도 상관없습니다)ㅡ"
   ]
  },
  {
   "cell_type": "markdown",
   "id": "0e7e1646-5c0a-47c5-abd1-500c30a2718b",
   "metadata": {},
   "source": [
    "- wideform / longform\n",
    "- stack(), reset_index(), melt(), set_index()\n",
    "- groupby()\n",
    "- map(), applymap(), lambda\n",
    "- pipe()\n",
    "- pandas backend를 이용한 plot은 아주 잘 숙지하고 계셔야합니다."
   ]
  },
  {
   "cell_type": "markdown",
   "id": "9f84f2a2-2683-4213-902d-752493d832c0",
   "metadata": {},
   "source": [
    "- ggplot을 이용한 고난도 문제가 출제될 수 있습니다.\n",
    "- pandas backend를 이용한 plot은 아주 잘 숙지하고 계셔야합니다."
   ]
  },
  {
   "cell_type": "code",
   "execution_count": null,
   "id": "9067a290-ad0b-427b-bb40-63bd45ba697c",
   "metadata": {},
   "outputs": [],
   "source": []
  }
 ],
 "metadata": {
  "kernelspec": {
   "display_name": "Python 3 (ipykernel)",
   "language": "python",
   "name": "python3"
  },
  "language_info": {
   "codemirror_mode": {
    "name": "ipython",
    "version": 3
   },
   "file_extension": ".py",
   "mimetype": "text/x-python",
   "name": "python",
   "nbconvert_exporter": "python",
   "pygments_lexer": "ipython3",
   "version": "3.8.12"
  }
 },
 "nbformat": 4,
 "nbformat_minor": 5
}
