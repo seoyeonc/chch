{
 "cells": [
  {
   "cell_type": "markdown",
   "id": "0a4750ff-3ada-4ded-9a7f-5f61a8e14a67",
   "metadata": {},
   "source": [
    "# 데이터시각화 특강 기말 대비 (12월04일 update) \n",
    "\n",
    "- toc:true\n",
    "- branch: master\n",
    "- badges: true\n",
    "- comments: false\n",
    "- author: 최서연"
   ]
  },
  {
   "cell_type": "markdown",
   "id": "97d4faba-3b23-4f28-af69-aff5e910f29d",
   "metadata": {},
   "source": [
    "### wideform / longform"
   ]
  },
  {
   "cell_type": "markdown",
   "id": "fbec51fe-e789-4904-9484-da5bbb4ea185",
   "metadata": {},
   "source": [
    "### stack(), reset_index(), melt(), set_index()"
   ]
  },
  {
   "cell_type": "markdown",
   "id": "8bdd8e51-76f4-413c-a6a7-83288158ba5f",
   "metadata": {},
   "source": [
    "### groupby()"
   ]
  },
  {
   "cell_type": "markdown",
   "id": "aebffcd4-950a-45f5-9e84-00ae92f32f05",
   "metadata": {},
   "source": [
    "### map(), applymap(), lambda"
   ]
  },
  {
   "cell_type": "markdown",
   "id": "581ed4cb-8182-4a88-aecd-b72d04210f79",
   "metadata": {},
   "source": [
    "### pipe()"
   ]
  },
  {
   "cell_type": "markdown",
   "id": "64a0ba06-3ff0-478d-b6a1-e0039cca6eb4",
   "metadata": {},
   "source": [
    "### pandas backend를 이용한 plot은 아주 잘 숙지하고 계셔야합니다."
   ]
  },
  {
   "cell_type": "markdown",
   "id": "a5199df4-5fd6-4ad3-ac11-cd6b3f0a5519",
   "metadata": {},
   "source": [
    "### ggplot을 이용한 고난도 문제가 출제될 수 있습니다."
   ]
  },
  {
   "cell_type": "markdown",
   "id": "afb97e66-ea8d-4d84-a374-45581718e235",
   "metadata": {},
   "source": [
    "### pandas backend를 이용한 plot은 아주 잘 숙지하고 계셔야합니다."
   ]
  },
  {
   "cell_type": "markdown",
   "id": "c11dc244-ea90-4029-8985-130897622f85",
   "metadata": {},
   "source": []
  }
 ],
 "metadata": {
  "kernelspec": {
   "display_name": "Python 3 (ipykernel)",
   "language": "python",
   "name": "python3"
  },
  "language_info": {
   "codemirror_mode": {
    "name": "ipython",
    "version": 3
   },
   "file_extension": ".py",
   "mimetype": "text/x-python",
   "name": "python",
   "nbconvert_exporter": "python",
   "pygments_lexer": "ipython3",
   "version": "3.8.12"
  }
 },
 "nbformat": 4,
 "nbformat_minor": 5
}
