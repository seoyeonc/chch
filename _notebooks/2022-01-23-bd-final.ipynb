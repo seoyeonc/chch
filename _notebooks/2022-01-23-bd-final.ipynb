{
  "cells": [
    {
      "cell_type": "markdown",
      "id": "e11943c3-103f-48dd-9ea9-83dddd37a09a",
      "metadata": {
        "tags": [],
        "id": "e11943c3-103f-48dd-9ea9-83dddd37a09a"
      },
      "source": [
        "# 빅데이터분석 기말고사\n",
        "\n",
        "- toc:flase\n",
        "- branch: master\n",
        "- badges: flase\n",
        "- comments: flase \n",
        "- author: 최규빈"
      ]
    },
    {
      "cell_type": "markdown",
      "id": "0af9a879-fb71-4303-be77-f4a601e09811",
      "metadata": {
        "tags": [],
        "id": "0af9a879-fb71-4303-be77-f4a601e09811"
      },
      "source": [
        "## `#1`. 체인룰과 역전파기법 "
      ]
    },
    {
      "cell_type": "markdown",
      "id": "fddc8458-87eb-4fcc-b76e-49a09854ba61",
      "metadata": {
        "id": "fddc8458-87eb-4fcc-b76e-49a09854ba61"
      },
      "source": [
        "주어진 자료가 아래와 같다고 하자. \n",
        "\n",
        "- ${\\bf X} = \\begin{bmatrix} 1 & 2.1 \\\\ 1 & 3.0 \\end{bmatrix}$\n",
        "\n",
        "- ${\\bf y} = \\begin{bmatrix} 3.0 \\\\ 5.0 \\end{bmatrix}$ \n",
        "\n",
        "손실함수의 정의가 아래와 같다고 하자. \n",
        "\n",
        "$$loss={\\bf v}^\\top {\\bf v}$$\n",
        "\n",
        "이때 ${\\bf v}= {\\bf y}-{\\bf u}$ 이고 ${\\bf u}= {\\bf X}{\\bf W}$ 이다. ${\\bf W} =\\begin{bmatrix} 0.5 \\\\ 0.6 \\end{bmatrix}$ 지점에서의 $\\frac{\\partial}{\\partial {\\bf W}}loss$를 역전파 기법을 이용하여 구하고 파이토치의 backward()를 이용하여 검증하라. 즉 (1)-(6)을 계산하라. "
      ]
    },
    {
      "cell_type": "markdown",
      "id": "58b272e2-9a66-4d30-8f5f-eb33d79980e8",
      "metadata": {
        "id": "58b272e2-9a66-4d30-8f5f-eb33d79980e8"
      },
      "source": [
        "#### `(1)` 파이토치를 이용하여 순전파를 계산하라. 즉 ${\\bf u}$를 계산하라. "
      ]
    },
    {
      "cell_type": "markdown",
      "id": "9c4c74ca-03e2-4284-b708-ea30490df6b8",
      "metadata": {
        "id": "9c4c74ca-03e2-4284-b708-ea30490df6b8"
      },
      "source": [
        "#### `(2)` 파이토치를 이용하여 오차를 계산하라. 즉 ${\\bf v}$를 계산하라. "
      ]
    },
    {
      "cell_type": "markdown",
      "id": "ba2c5a4a-df8d-47ab-ae1f-e9504f2fff7c",
      "metadata": {
        "id": "ba2c5a4a-df8d-47ab-ae1f-e9504f2fff7c"
      },
      "source": [
        "#### `(3)` 파이토치를 이용하여 오차제곱합을 계산하라. 즉 $loss={\\bf v}^\\top {\\bf v}$를 계산하라. "
      ]
    },
    {
      "cell_type": "markdown",
      "id": "dceec3c5-80e8-401d-8e7d-2720cfc31ef7",
      "metadata": {
        "id": "dceec3c5-80e8-401d-8e7d-2720cfc31ef7"
      },
      "source": [
        "#### `(4)` $\\frac{\\partial}{\\partial {\\bf v}} loss$ 를 해석적으로 계산하라(=이론적인 값을 계산하라). 파이토치를 이용하여 검증하라. "
      ]
    },
    {
      "cell_type": "markdown",
      "id": "e9344100-7afa-4ce5-bf49-b657048b3adc",
      "metadata": {
        "id": "e9344100-7afa-4ce5-bf49-b657048b3adc"
      },
      "source": [
        "#### `(5)`$\\frac{\\partial }{\\partial {\\bf u}}{\\bf v}^\\top$와 $\\frac{\\partial }{\\partial {\\bf W}}{\\bf u}^\\top$의 값을 해석적으로 계산하라. (파이토치를 이용한 검증은 불필요) "
      ]
    },
    {
      "cell_type": "markdown",
      "id": "d2ac8ba0-0a27-4006-9142-e76407f444a4",
      "metadata": {
        "id": "d2ac8ba0-0a27-4006-9142-e76407f444a4"
      },
      "source": [
        "#### `(6)` (4)~(5)의 결과와 체인룰을 이용하여 $\\frac{\\partial}{\\partial {\\bf W}}loss$를 계산하라. 그리고 아래의 코드를 이용하여 검증하라. "
      ]
    },
    {
      "cell_type": "markdown",
      "id": "e23ab7cc-7a66-4942-b40b-4dee5f655927",
      "metadata": {
        "id": "e23ab7cc-7a66-4942-b40b-4dee5f655927"
      },
      "source": [
        "```python\n",
        "import torch\n",
        "ones= torch.ones(2)\n",
        "x = torch.tensor([2.1,3.0])\n",
        "X = torch.vstack([ones,x]).T\n",
        "y = torch.tensor([3.0,5.0])\n",
        "W = torch.tensor([0.5,0.6],requires_grad=True) \n",
        "loss = (y-X@W).T @ (y-X@W)\n",
        "loss.backward()\n",
        "W.grad.data\n",
        "```"
      ]
    },
    {
      "cell_type": "markdown",
      "id": "12190551-f545-4346-b4d1-068c9d6634fa",
      "metadata": {
        "id": "12190551-f545-4346-b4d1-068c9d6634fa"
      },
      "source": [
        "## `#2`. 음료추천 "
      ]
    },
    {
      "cell_type": "markdown",
      "id": "edfe311f-2eb9-4655-a28b-60a3fccdde5a",
      "metadata": {
        "id": "edfe311f-2eb9-4655-a28b-60a3fccdde5a"
      },
      "source": [
        "아래는 200명의 사용자가 차가운커피, 따뜻한커피, 차가운홍차, 따듯한홍차 각 10종씩을 먹고 평점을 넣은 자료이다. "
      ]
    },
    {
      "cell_type": "code",
      "execution_count": null,
      "id": "1af5dca1-6f16-4a65-9434-a5ddb1be17f4",
      "metadata": {
        "id": "1af5dca1-6f16-4a65-9434-a5ddb1be17f4",
        "outputId": "e4be713c-b37d-40ab-d13c-0bf9d4d9af54"
      },
      "outputs": [
        {
          "data": {
            "text/html": [
              "<div>\n",
              "<style scoped>\n",
              "    .dataframe tbody tr th:only-of-type {\n",
              "        vertical-align: middle;\n",
              "    }\n",
              "\n",
              "    .dataframe tbody tr th {\n",
              "        vertical-align: top;\n",
              "    }\n",
              "\n",
              "    .dataframe thead th {\n",
              "        text-align: right;\n",
              "    }\n",
              "</style>\n",
              "<table border=\"1\" class=\"dataframe\">\n",
              "  <thead>\n",
              "    <tr style=\"text-align: right;\">\n",
              "      <th></th>\n",
              "      <th>user</th>\n",
              "      <th>item</th>\n",
              "      <th>rating</th>\n",
              "      <th>item_name</th>\n",
              "    </tr>\n",
              "  </thead>\n",
              "  <tbody>\n",
              "    <tr>\n",
              "      <th>0</th>\n",
              "      <td>1</td>\n",
              "      <td>27</td>\n",
              "      <td>2.677878</td>\n",
              "      <td>차가운홍차7</td>\n",
              "    </tr>\n",
              "    <tr>\n",
              "      <th>1</th>\n",
              "      <td>1</td>\n",
              "      <td>28</td>\n",
              "      <td>2.382410</td>\n",
              "      <td>차가운홍차8</td>\n",
              "    </tr>\n",
              "    <tr>\n",
              "      <th>2</th>\n",
              "      <td>1</td>\n",
              "      <td>38</td>\n",
              "      <td>0.952034</td>\n",
              "      <td>따뜻한홍차8</td>\n",
              "    </tr>\n",
              "    <tr>\n",
              "      <th>3</th>\n",
              "      <td>1</td>\n",
              "      <td>21</td>\n",
              "      <td>2.359307</td>\n",
              "      <td>차가운홍차1</td>\n",
              "    </tr>\n",
              "    <tr>\n",
              "      <th>4</th>\n",
              "      <td>1</td>\n",
              "      <td>24</td>\n",
              "      <td>2.447412</td>\n",
              "      <td>차가운홍차4</td>\n",
              "    </tr>\n",
              "    <tr>\n",
              "      <th>...</th>\n",
              "      <td>...</td>\n",
              "      <td>...</td>\n",
              "      <td>...</td>\n",
              "      <td>...</td>\n",
              "    </tr>\n",
              "    <tr>\n",
              "      <th>3995</th>\n",
              "      <td>200</td>\n",
              "      <td>28</td>\n",
              "      <td>2.401077</td>\n",
              "      <td>차가운홍차8</td>\n",
              "    </tr>\n",
              "    <tr>\n",
              "      <th>3996</th>\n",
              "      <td>200</td>\n",
              "      <td>31</td>\n",
              "      <td>3.798483</td>\n",
              "      <td>따뜻한홍차1</td>\n",
              "    </tr>\n",
              "    <tr>\n",
              "      <th>3997</th>\n",
              "      <td>200</td>\n",
              "      <td>22</td>\n",
              "      <td>2.104705</td>\n",
              "      <td>차가운홍차2</td>\n",
              "    </tr>\n",
              "    <tr>\n",
              "      <th>3998</th>\n",
              "      <td>200</td>\n",
              "      <td>26</td>\n",
              "      <td>2.248165</td>\n",
              "      <td>차가운홍차6</td>\n",
              "    </tr>\n",
              "    <tr>\n",
              "      <th>3999</th>\n",
              "      <td>200</td>\n",
              "      <td>39</td>\n",
              "      <td>4.007320</td>\n",
              "      <td>따뜻한홍차9</td>\n",
              "    </tr>\n",
              "  </tbody>\n",
              "</table>\n",
              "<p>4000 rows × 4 columns</p>\n",
              "</div>"
            ],
            "text/plain": [
              "      user  item    rating item_name\n",
              "0        1    27  2.677878    차가운홍차7\n",
              "1        1    28  2.382410    차가운홍차8\n",
              "2        1    38  0.952034    따뜻한홍차8\n",
              "3        1    21  2.359307    차가운홍차1\n",
              "4        1    24  2.447412    차가운홍차4\n",
              "...    ...   ...       ...       ...\n",
              "3995   200    28  2.401077    차가운홍차8\n",
              "3996   200    31  3.798483    따뜻한홍차1\n",
              "3997   200    22  2.104705    차가운홍차2\n",
              "3998   200    26  2.248165    차가운홍차6\n",
              "3999   200    39  4.007320    따뜻한홍차9\n",
              "\n",
              "[4000 rows x 4 columns]"
            ]
          },
          "execution_count": 27,
          "metadata": {},
          "output_type": "execute_result"
        }
      ],
      "source": [
        "df = pd.read_csv(\"https://raw.githubusercontent.com/guebin/2021BDA/master/_notebooks/2021-12-04-recommend.csv\")\n",
        "df"
      ]
    },
    {
      "cell_type": "markdown",
      "id": "2ffe66f0-99a3-41c8-b9d9-5a4840987a28",
      "metadata": {
        "id": "2ffe66f0-99a3-41c8-b9d9-5a4840987a28"
      },
      "source": [
        "#### `(1)` user-item matrix 생성하라. "
      ]
    },
    {
      "cell_type": "markdown",
      "id": "31c9cdf9-a428-4783-a1d7-e76b26fea91f",
      "metadata": {
        "id": "31c9cdf9-a428-4783-a1d7-e76b26fea91f"
      },
      "source": [
        "생성예시는 아래와 같다. "
      ]
    },
    {
      "cell_type": "code",
      "execution_count": null,
      "id": "00c135a5-08a9-4b00-a8ec-31b3e18c5025",
      "metadata": {
        "id": "00c135a5-08a9-4b00-a8ec-31b3e18c5025",
        "outputId": "0cfcc3a3-0ba6-4ae7-fdbe-7cb1e548f122"
      },
      "outputs": [
        {
          "data": {
            "text/html": [
              "<table border=\"1\" class=\"dataframe\">\n",
              "  <thead>\n",
              "    <tr style=\"text-align: right;\">\n",
              "      <th></th>\n",
              "      <th>차가운커피1</th>\n",
              "      <th>차가운커피2</th>\n",
              "      <th>차가운커피3</th>\n",
              "      <th>차가운커피4</th>\n",
              "      <th>차가운커피5</th>\n",
              "      <th>차가운커피6</th>\n",
              "      <th>차가운커피7</th>\n",
              "      <th>차가운커피8</th>\n",
              "      <th>차가운커피9</th>\n",
              "      <th>차가운커피10</th>\n",
              "      <th>따듯한커피1</th>\n",
              "      <th>따듯한커피2</th>\n",
              "      <th>따듯한커피3</th>\n",
              "      <th>따듯한커피4</th>\n",
              "      <th>따듯한커피5</th>\n",
              "      <th>따듯한커피6</th>\n",
              "      <th>따듯한커피7</th>\n",
              "      <th>따듯한커피8</th>\n",
              "      <th>따듯한커피9</th>\n",
              "      <th>따듯한커피10</th>\n",
              "      <th>차가운홍차1</th>\n",
              "      <th>차가운홍차2</th>\n",
              "      <th>차가운홍차3</th>\n",
              "      <th>차가운홍차4</th>\n",
              "      <th>차가운홍차5</th>\n",
              "      <th>차가운홍차6</th>\n",
              "      <th>차가운홍차7</th>\n",
              "      <th>차가운홍차8</th>\n",
              "      <th>차가운홍차9</th>\n",
              "      <th>차가운홍차10</th>\n",
              "      <th>따뜻한홍차1</th>\n",
              "      <th>따뜻한홍차2</th>\n",
              "      <th>따뜻한홍차3</th>\n",
              "      <th>따뜻한홍차4</th>\n",
              "      <th>따뜻한홍차5</th>\n",
              "      <th>따뜻한홍차6</th>\n",
              "      <th>따뜻한홍차7</th>\n",
              "      <th>따뜻한홍차8</th>\n",
              "      <th>따뜻한홍차9</th>\n",
              "      <th>따뜻한홍차10</th>\n",
              "    </tr>\n",
              "  </thead>\n",
              "  <tbody>\n",
              "    <tr>\n",
              "      <th>user1</th>\n",
              "      <td>None</td>\n",
              "      <td>3.937672</td>\n",
              "      <td>None</td>\n",
              "      <td>3.989888</td>\n",
              "      <td>4.133222</td>\n",
              "      <td>None</td>\n",
              "      <td>None</td>\n",
              "      <td>None</td>\n",
              "      <td>None</td>\n",
              "      <td>4.015579</td>\n",
              "      <td>2.103387</td>\n",
              "      <td>2.361724</td>\n",
              "      <td>None</td>\n",
              "      <td>2.273406</td>\n",
              "      <td>2.295347</td>\n",
              "      <td>None</td>\n",
              "      <td>None</td>\n",
              "      <td>None</td>\n",
              "      <td>2.791477</td>\n",
              "      <td>None</td>\n",
              "      <td>2.359307</td>\n",
              "      <td>2.565654</td>\n",
              "      <td>None</td>\n",
              "      <td>2.447412</td>\n",
              "      <td>None</td>\n",
              "      <td>None</td>\n",
              "      <td>2.677878</td>\n",
              "      <td>2.38241</td>\n",
              "      <td>2.194201</td>\n",
              "      <td>None</td>\n",
              "      <td>None</td>\n",
              "      <td>None</td>\n",
              "      <td>None</td>\n",
              "      <td>None</td>\n",
              "      <td>0.887225</td>\n",
              "      <td>1.014088</td>\n",
              "      <td>None</td>\n",
              "      <td>0.952034</td>\n",
              "      <td>0.658081</td>\n",
              "      <td>1.235058</td>\n",
              "    </tr>\n",
              "    <tr>\n",
              "      <th>user2</th>\n",
              "      <td>4.098147</td>\n",
              "      <td>4.094224</td>\n",
              "      <td>None</td>\n",
              "      <td>3.765555</td>\n",
              "      <td>None</td>\n",
              "      <td>None</td>\n",
              "      <td>3.988153</td>\n",
              "      <td>None</td>\n",
              "      <td>4.349755</td>\n",
              "      <td>3.640496</td>\n",
              "      <td>None</td>\n",
              "      <td>None</td>\n",
              "      <td>2.707521</td>\n",
              "      <td>2.765143</td>\n",
              "      <td>2.310812</td>\n",
              "      <td>2.458836</td>\n",
              "      <td>None</td>\n",
              "      <td>None</td>\n",
              "      <td>None</td>\n",
              "      <td>2.22282</td>\n",
              "      <td>2.621137</td>\n",
              "      <td>None</td>\n",
              "      <td>2.510424</td>\n",
              "      <td>None</td>\n",
              "      <td>None</td>\n",
              "      <td>None</td>\n",
              "      <td>2.788081</td>\n",
              "      <td>None</td>\n",
              "      <td>2.404252</td>\n",
              "      <td>2.908625</td>\n",
              "      <td>None</td>\n",
              "      <td>1.400812</td>\n",
              "      <td>None</td>\n",
              "      <td>0.654011</td>\n",
              "      <td>None</td>\n",
              "      <td>1.129268</td>\n",
              "      <td>None</td>\n",
              "      <td>None</td>\n",
              "      <td>0.703928</td>\n",
              "      <td>None</td>\n",
              "    </tr>\n",
              "    <tr>\n",
              "      <th>user3</th>\n",
              "      <td>3.819119</td>\n",
              "      <td>None</td>\n",
              "      <td>4.228748</td>\n",
              "      <td>3.79414</td>\n",
              "      <td>None</td>\n",
              "      <td>4.08909</td>\n",
              "      <td>3.776395</td>\n",
              "      <td>None</td>\n",
              "      <td>4.583121</td>\n",
              "      <td>None</td>\n",
              "      <td>None</td>\n",
              "      <td>2.7361</td>\n",
              "      <td>None</td>\n",
              "      <td>2.219188</td>\n",
              "      <td>None</td>\n",
              "      <td>None</td>\n",
              "      <td>None</td>\n",
              "      <td>None</td>\n",
              "      <td>2.791662</td>\n",
              "      <td>None</td>\n",
              "      <td>2.729578</td>\n",
              "      <td>None</td>\n",
              "      <td>None</td>\n",
              "      <td>None</td>\n",
              "      <td>None</td>\n",
              "      <td>None</td>\n",
              "      <td>None</td>\n",
              "      <td>None</td>\n",
              "      <td>2.494008</td>\n",
              "      <td>2.440778</td>\n",
              "      <td>0.695669</td>\n",
              "      <td>None</td>\n",
              "      <td>0.840201</td>\n",
              "      <td>0.960158</td>\n",
              "      <td>None</td>\n",
              "      <td>1.019722</td>\n",
              "      <td>1.287193</td>\n",
              "      <td>1.354343</td>\n",
              "      <td>1.237186</td>\n",
              "      <td>0.985125</td>\n",
              "    </tr>\n",
              "    <tr>\n",
              "      <th>user4</th>\n",
              "      <td>4.243031</td>\n",
              "      <td>3.985556</td>\n",
              "      <td>4.3557</td>\n",
              "      <td>4.200771</td>\n",
              "      <td>None</td>\n",
              "      <td>4.068798</td>\n",
              "      <td>None</td>\n",
              "      <td>None</td>\n",
              "      <td>None</td>\n",
              "      <td>4.149567</td>\n",
              "      <td>None</td>\n",
              "      <td>None</td>\n",
              "      <td>2.466804</td>\n",
              "      <td>None</td>\n",
              "      <td>None</td>\n",
              "      <td>2.104525</td>\n",
              "      <td>2.341672</td>\n",
              "      <td>2.463411</td>\n",
              "      <td>2.56218</td>\n",
              "      <td>None</td>\n",
              "      <td>None</td>\n",
              "      <td>None</td>\n",
              "      <td>2.37737</td>\n",
              "      <td>2.37356</td>\n",
              "      <td>None</td>\n",
              "      <td>2.317104</td>\n",
              "      <td>2.5877</td>\n",
              "      <td>None</td>\n",
              "      <td>None</td>\n",
              "      <td>None</td>\n",
              "      <td>1.014652</td>\n",
              "      <td>None</td>\n",
              "      <td>None</td>\n",
              "      <td>None</td>\n",
              "      <td>None</td>\n",
              "      <td>None</td>\n",
              "      <td>1.09685</td>\n",
              "      <td>0.664659</td>\n",
              "      <td>1.148056</td>\n",
              "      <td>1.302336</td>\n",
              "    </tr>\n",
              "    <tr>\n",
              "      <th>user5</th>\n",
              "      <td>3.855109</td>\n",
              "      <td>None</td>\n",
              "      <td>None</td>\n",
              "      <td>None</td>\n",
              "      <td>None</td>\n",
              "      <td>3.772252</td>\n",
              "      <td>4.18115</td>\n",
              "      <td>4.077935</td>\n",
              "      <td>None</td>\n",
              "      <td>3.905809</td>\n",
              "      <td>2.566041</td>\n",
              "      <td>2.412227</td>\n",
              "      <td>None</td>\n",
              "      <td>None</td>\n",
              "      <td>None</td>\n",
              "      <td>2.715758</td>\n",
              "      <td>None</td>\n",
              "      <td>None</td>\n",
              "      <td>2.651073</td>\n",
              "      <td>None</td>\n",
              "      <td>2.454781</td>\n",
              "      <td>2.654822</td>\n",
              "      <td>2.382804</td>\n",
              "      <td>None</td>\n",
              "      <td>None</td>\n",
              "      <td>None</td>\n",
              "      <td>2.599824</td>\n",
              "      <td>None</td>\n",
              "      <td>None</td>\n",
              "      <td>None</td>\n",
              "      <td>0.851721</td>\n",
              "      <td>1.313315</td>\n",
              "      <td>None</td>\n",
              "      <td>1.093123</td>\n",
              "      <td>None</td>\n",
              "      <td>0.759305</td>\n",
              "      <td>1.336896</td>\n",
              "      <td>None</td>\n",
              "      <td>0.742396</td>\n",
              "      <td>1.064772</td>\n",
              "    </tr>\n",
              "    <tr>\n",
              "      <th>...</th>\n",
              "      <td>...</td>\n",
              "      <td>...</td>\n",
              "      <td>...</td>\n",
              "      <td>...</td>\n",
              "      <td>...</td>\n",
              "      <td>...</td>\n",
              "      <td>...</td>\n",
              "      <td>...</td>\n",
              "      <td>...</td>\n",
              "      <td>...</td>\n",
              "      <td>...</td>\n",
              "      <td>...</td>\n",
              "      <td>...</td>\n",
              "      <td>...</td>\n",
              "      <td>...</td>\n",
              "      <td>...</td>\n",
              "      <td>...</td>\n",
              "      <td>...</td>\n",
              "      <td>...</td>\n",
              "      <td>...</td>\n",
              "      <td>...</td>\n",
              "      <td>...</td>\n",
              "      <td>...</td>\n",
              "      <td>...</td>\n",
              "      <td>...</td>\n",
              "      <td>...</td>\n",
              "      <td>...</td>\n",
              "      <td>...</td>\n",
              "      <td>...</td>\n",
              "      <td>...</td>\n",
              "      <td>...</td>\n",
              "      <td>...</td>\n",
              "      <td>...</td>\n",
              "      <td>...</td>\n",
              "      <td>...</td>\n",
              "      <td>...</td>\n",
              "      <td>...</td>\n",
              "      <td>...</td>\n",
              "      <td>...</td>\n",
              "      <td>...</td>\n",
              "    </tr>\n",
              "    <tr>\n",
              "      <th>user196</th>\n",
              "      <td>0.788662</td>\n",
              "      <td>0.704273</td>\n",
              "      <td>0.776555</td>\n",
              "      <td>0.8481</td>\n",
              "      <td>None</td>\n",
              "      <td>None</td>\n",
              "      <td>None</td>\n",
              "      <td>0.686273</td>\n",
              "      <td>None</td>\n",
              "      <td>None</td>\n",
              "      <td>2.164656</td>\n",
              "      <td>2.549222</td>\n",
              "      <td>2.614974</td>\n",
              "      <td>None</td>\n",
              "      <td>None</td>\n",
              "      <td>None</td>\n",
              "      <td>None</td>\n",
              "      <td>None</td>\n",
              "      <td>2.51912</td>\n",
              "      <td>2.355786</td>\n",
              "      <td>2.509917</td>\n",
              "      <td>2.382942</td>\n",
              "      <td>2.494133</td>\n",
              "      <td>None</td>\n",
              "      <td>None</td>\n",
              "      <td>None</td>\n",
              "      <td>None</td>\n",
              "      <td>None</td>\n",
              "      <td>2.457732</td>\n",
              "      <td>None</td>\n",
              "      <td>4.014754</td>\n",
              "      <td>4.184846</td>\n",
              "      <td>None</td>\n",
              "      <td>4.126758</td>\n",
              "      <td>None</td>\n",
              "      <td>None</td>\n",
              "      <td>4.364885</td>\n",
              "      <td>None</td>\n",
              "      <td>3.767153</td>\n",
              "      <td>4.405117</td>\n",
              "    </tr>\n",
              "    <tr>\n",
              "      <th>user197</th>\n",
              "      <td>1.303235</td>\n",
              "      <td>1.43626</td>\n",
              "      <td>1.00433</td>\n",
              "      <td>None</td>\n",
              "      <td>None</td>\n",
              "      <td>None</td>\n",
              "      <td>1.486788</td>\n",
              "      <td>1.295232</td>\n",
              "      <td>None</td>\n",
              "      <td>0.920782</td>\n",
              "      <td>2.511827</td>\n",
              "      <td>None</td>\n",
              "      <td>2.361798</td>\n",
              "      <td>None</td>\n",
              "      <td>2.354619</td>\n",
              "      <td>None</td>\n",
              "      <td>None</td>\n",
              "      <td>None</td>\n",
              "      <td>None</td>\n",
              "      <td>2.21937</td>\n",
              "      <td>2.401316</td>\n",
              "      <td>None</td>\n",
              "      <td>None</td>\n",
              "      <td>None</td>\n",
              "      <td>None</td>\n",
              "      <td>None</td>\n",
              "      <td>2.793289</td>\n",
              "      <td>None</td>\n",
              "      <td>2.464333</td>\n",
              "      <td>2.426258</td>\n",
              "      <td>4.253895</td>\n",
              "      <td>None</td>\n",
              "      <td>None</td>\n",
              "      <td>4.369466</td>\n",
              "      <td>None</td>\n",
              "      <td>3.996908</td>\n",
              "      <td>3.853673</td>\n",
              "      <td>None</td>\n",
              "      <td>3.917286</td>\n",
              "      <td>4.57724</td>\n",
              "    </tr>\n",
              "    <tr>\n",
              "      <th>user198</th>\n",
              "      <td>1.251698</td>\n",
              "      <td>None</td>\n",
              "      <td>1.017147</td>\n",
              "      <td>None</td>\n",
              "      <td>None</td>\n",
              "      <td>None</td>\n",
              "      <td>None</td>\n",
              "      <td>None</td>\n",
              "      <td>None</td>\n",
              "      <td>0.806444</td>\n",
              "      <td>None</td>\n",
              "      <td>2.520115</td>\n",
              "      <td>2.646957</td>\n",
              "      <td>None</td>\n",
              "      <td>2.952988</td>\n",
              "      <td>None</td>\n",
              "      <td>None</td>\n",
              "      <td>2.190244</td>\n",
              "      <td>None</td>\n",
              "      <td>None</td>\n",
              "      <td>2.282611</td>\n",
              "      <td>None</td>\n",
              "      <td>2.480411</td>\n",
              "      <td>2.663661</td>\n",
              "      <td>2.402259</td>\n",
              "      <td>None</td>\n",
              "      <td>None</td>\n",
              "      <td>2.708267</td>\n",
              "      <td>2.109672</td>\n",
              "      <td>2.824608</td>\n",
              "      <td>4.380199</td>\n",
              "      <td>4.022162</td>\n",
              "      <td>None</td>\n",
              "      <td>3.895619</td>\n",
              "      <td>None</td>\n",
              "      <td>3.887536</td>\n",
              "      <td>None</td>\n",
              "      <td>3.862879</td>\n",
              "      <td>None</td>\n",
              "      <td>4.261574</td>\n",
              "    </tr>\n",
              "    <tr>\n",
              "      <th>user199</th>\n",
              "      <td>1.007993</td>\n",
              "      <td>None</td>\n",
              "      <td>0.955789</td>\n",
              "      <td>None</td>\n",
              "      <td>0.846838</td>\n",
              "      <td>None</td>\n",
              "      <td>0.58893</td>\n",
              "      <td>1.046728</td>\n",
              "      <td>None</td>\n",
              "      <td>1.139212</td>\n",
              "      <td>2.739859</td>\n",
              "      <td>2.459454</td>\n",
              "      <td>None</td>\n",
              "      <td>None</td>\n",
              "      <td>None</td>\n",
              "      <td>2.430707</td>\n",
              "      <td>None</td>\n",
              "      <td>2.413188</td>\n",
              "      <td>2.608065</td>\n",
              "      <td>None</td>\n",
              "      <td>None</td>\n",
              "      <td>2.764538</td>\n",
              "      <td>2.389897</td>\n",
              "      <td>2.29379</td>\n",
              "      <td>None</td>\n",
              "      <td>2.428555</td>\n",
              "      <td>2.406729</td>\n",
              "      <td>2.507149</td>\n",
              "      <td>None</td>\n",
              "      <td>None</td>\n",
              "      <td>None</td>\n",
              "      <td>4.039527</td>\n",
              "      <td>None</td>\n",
              "      <td>None</td>\n",
              "      <td>3.837071</td>\n",
              "      <td>4.103043</td>\n",
              "      <td>None</td>\n",
              "      <td>None</td>\n",
              "      <td>None</td>\n",
              "      <td>None</td>\n",
              "    </tr>\n",
              "    <tr>\n",
              "      <th>user200</th>\n",
              "      <td>0.717826</td>\n",
              "      <td>None</td>\n",
              "      <td>1.23011</td>\n",
              "      <td>None</td>\n",
              "      <td>0.994098</td>\n",
              "      <td>None</td>\n",
              "      <td>None</td>\n",
              "      <td>None</td>\n",
              "      <td>1.14695</td>\n",
              "      <td>None</td>\n",
              "      <td>None</td>\n",
              "      <td>None</td>\n",
              "      <td>None</td>\n",
              "      <td>None</td>\n",
              "      <td>None</td>\n",
              "      <td>2.487716</td>\n",
              "      <td>2.56307</td>\n",
              "      <td>None</td>\n",
              "      <td>None</td>\n",
              "      <td>2.300041</td>\n",
              "      <td>2.552453</td>\n",
              "      <td>2.104705</td>\n",
              "      <td>2.862709</td>\n",
              "      <td>2.416833</td>\n",
              "      <td>None</td>\n",
              "      <td>2.248165</td>\n",
              "      <td>2.401267</td>\n",
              "      <td>2.401077</td>\n",
              "      <td>None</td>\n",
              "      <td>2.21877</td>\n",
              "      <td>3.798483</td>\n",
              "      <td>None</td>\n",
              "      <td>4.224537</td>\n",
              "      <td>None</td>\n",
              "      <td>None</td>\n",
              "      <td>4.117838</td>\n",
              "      <td>None</td>\n",
              "      <td>3.920277</td>\n",
              "      <td>4.00732</td>\n",
              "      <td>None</td>\n",
              "    </tr>\n",
              "  </tbody>\n",
              "</table>"
            ],
            "text/plain": [
              "<IPython.core.display.HTML object>"
            ]
          },
          "execution_count": 6,
          "metadata": {},
          "output_type": "execute_result"
        }
      ],
      "source": [
        "#hide-input \n",
        "from IPython.display import HTML\n",
        "HTML('<table border=\"1\" class=\"dataframe\">\\n  <thead>\\n    <tr style=\"text-align: right;\">\\n      <th></th>\\n      <th>차가운커피1</th>\\n      <th>차가운커피2</th>\\n      <th>차가운커피3</th>\\n      <th>차가운커피4</th>\\n      <th>차가운커피5</th>\\n      <th>차가운커피6</th>\\n      <th>차가운커피7</th>\\n      <th>차가운커피8</th>\\n      <th>차가운커피9</th>\\n      <th>차가운커피10</th>\\n      <th>따듯한커피1</th>\\n      <th>따듯한커피2</th>\\n      <th>따듯한커피3</th>\\n      <th>따듯한커피4</th>\\n      <th>따듯한커피5</th>\\n      <th>따듯한커피6</th>\\n      <th>따듯한커피7</th>\\n      <th>따듯한커피8</th>\\n      <th>따듯한커피9</th>\\n      <th>따듯한커피10</th>\\n      <th>차가운홍차1</th>\\n      <th>차가운홍차2</th>\\n      <th>차가운홍차3</th>\\n      <th>차가운홍차4</th>\\n      <th>차가운홍차5</th>\\n      <th>차가운홍차6</th>\\n      <th>차가운홍차7</th>\\n      <th>차가운홍차8</th>\\n      <th>차가운홍차9</th>\\n      <th>차가운홍차10</th>\\n      <th>따뜻한홍차1</th>\\n      <th>따뜻한홍차2</th>\\n      <th>따뜻한홍차3</th>\\n      <th>따뜻한홍차4</th>\\n      <th>따뜻한홍차5</th>\\n      <th>따뜻한홍차6</th>\\n      <th>따뜻한홍차7</th>\\n      <th>따뜻한홍차8</th>\\n      <th>따뜻한홍차9</th>\\n      <th>따뜻한홍차10</th>\\n    </tr>\\n  </thead>\\n  <tbody>\\n    <tr>\\n      <th>user1</th>\\n      <td>None</td>\\n      <td>3.937672</td>\\n      <td>None</td>\\n      <td>3.989888</td>\\n      <td>4.133222</td>\\n      <td>None</td>\\n      <td>None</td>\\n      <td>None</td>\\n      <td>None</td>\\n      <td>4.015579</td>\\n      <td>2.103387</td>\\n      <td>2.361724</td>\\n      <td>None</td>\\n      <td>2.273406</td>\\n      <td>2.295347</td>\\n      <td>None</td>\\n      <td>None</td>\\n      <td>None</td>\\n      <td>2.791477</td>\\n      <td>None</td>\\n      <td>2.359307</td>\\n      <td>2.565654</td>\\n      <td>None</td>\\n      <td>2.447412</td>\\n      <td>None</td>\\n      <td>None</td>\\n      <td>2.677878</td>\\n      <td>2.38241</td>\\n      <td>2.194201</td>\\n      <td>None</td>\\n      <td>None</td>\\n      <td>None</td>\\n      <td>None</td>\\n      <td>None</td>\\n      <td>0.887225</td>\\n      <td>1.014088</td>\\n      <td>None</td>\\n      <td>0.952034</td>\\n      <td>0.658081</td>\\n      <td>1.235058</td>\\n    </tr>\\n    <tr>\\n      <th>user2</th>\\n      <td>4.098147</td>\\n      <td>4.094224</td>\\n      <td>None</td>\\n      <td>3.765555</td>\\n      <td>None</td>\\n      <td>None</td>\\n      <td>3.988153</td>\\n      <td>None</td>\\n      <td>4.349755</td>\\n      <td>3.640496</td>\\n      <td>None</td>\\n      <td>None</td>\\n      <td>2.707521</td>\\n      <td>2.765143</td>\\n      <td>2.310812</td>\\n      <td>2.458836</td>\\n      <td>None</td>\\n      <td>None</td>\\n      <td>None</td>\\n      <td>2.22282</td>\\n      <td>2.621137</td>\\n      <td>None</td>\\n      <td>2.510424</td>\\n      <td>None</td>\\n      <td>None</td>\\n      <td>None</td>\\n      <td>2.788081</td>\\n      <td>None</td>\\n      <td>2.404252</td>\\n      <td>2.908625</td>\\n      <td>None</td>\\n      <td>1.400812</td>\\n      <td>None</td>\\n      <td>0.654011</td>\\n      <td>None</td>\\n      <td>1.129268</td>\\n      <td>None</td>\\n      <td>None</td>\\n      <td>0.703928</td>\\n      <td>None</td>\\n    </tr>\\n    <tr>\\n      <th>user3</th>\\n      <td>3.819119</td>\\n      <td>None</td>\\n      <td>4.228748</td>\\n      <td>3.79414</td>\\n      <td>None</td>\\n      <td>4.08909</td>\\n      <td>3.776395</td>\\n      <td>None</td>\\n      <td>4.583121</td>\\n      <td>None</td>\\n      <td>None</td>\\n      <td>2.7361</td>\\n      <td>None</td>\\n      <td>2.219188</td>\\n      <td>None</td>\\n      <td>None</td>\\n      <td>None</td>\\n      <td>None</td>\\n      <td>2.791662</td>\\n      <td>None</td>\\n      <td>2.729578</td>\\n      <td>None</td>\\n      <td>None</td>\\n      <td>None</td>\\n      <td>None</td>\\n      <td>None</td>\\n      <td>None</td>\\n      <td>None</td>\\n      <td>2.494008</td>\\n      <td>2.440778</td>\\n      <td>0.695669</td>\\n      <td>None</td>\\n      <td>0.840201</td>\\n      <td>0.960158</td>\\n      <td>None</td>\\n      <td>1.019722</td>\\n      <td>1.287193</td>\\n      <td>1.354343</td>\\n      <td>1.237186</td>\\n      <td>0.985125</td>\\n    </tr>\\n    <tr>\\n      <th>user4</th>\\n      <td>4.243031</td>\\n      <td>3.985556</td>\\n      <td>4.3557</td>\\n      <td>4.200771</td>\\n      <td>None</td>\\n      <td>4.068798</td>\\n      <td>None</td>\\n      <td>None</td>\\n      <td>None</td>\\n      <td>4.149567</td>\\n      <td>None</td>\\n      <td>None</td>\\n      <td>2.466804</td>\\n      <td>None</td>\\n      <td>None</td>\\n      <td>2.104525</td>\\n      <td>2.341672</td>\\n      <td>2.463411</td>\\n      <td>2.56218</td>\\n      <td>None</td>\\n      <td>None</td>\\n      <td>None</td>\\n      <td>2.37737</td>\\n      <td>2.37356</td>\\n      <td>None</td>\\n      <td>2.317104</td>\\n      <td>2.5877</td>\\n      <td>None</td>\\n      <td>None</td>\\n      <td>None</td>\\n      <td>1.014652</td>\\n      <td>None</td>\\n      <td>None</td>\\n      <td>None</td>\\n      <td>None</td>\\n      <td>None</td>\\n      <td>1.09685</td>\\n      <td>0.664659</td>\\n      <td>1.148056</td>\\n      <td>1.302336</td>\\n    </tr>\\n    <tr>\\n      <th>user5</th>\\n      <td>3.855109</td>\\n      <td>None</td>\\n      <td>None</td>\\n      <td>None</td>\\n      <td>None</td>\\n      <td>3.772252</td>\\n      <td>4.18115</td>\\n      <td>4.077935</td>\\n      <td>None</td>\\n      <td>3.905809</td>\\n      <td>2.566041</td>\\n      <td>2.412227</td>\\n      <td>None</td>\\n      <td>None</td>\\n      <td>None</td>\\n      <td>2.715758</td>\\n      <td>None</td>\\n      <td>None</td>\\n      <td>2.651073</td>\\n      <td>None</td>\\n      <td>2.454781</td>\\n      <td>2.654822</td>\\n      <td>2.382804</td>\\n      <td>None</td>\\n      <td>None</td>\\n      <td>None</td>\\n      <td>2.599824</td>\\n      <td>None</td>\\n      <td>None</td>\\n      <td>None</td>\\n      <td>0.851721</td>\\n      <td>1.313315</td>\\n      <td>None</td>\\n      <td>1.093123</td>\\n      <td>None</td>\\n      <td>0.759305</td>\\n      <td>1.336896</td>\\n      <td>None</td>\\n      <td>0.742396</td>\\n      <td>1.064772</td>\\n    </tr>\\n    <tr>\\n      <th>...</th>\\n      <td>...</td>\\n      <td>...</td>\\n      <td>...</td>\\n      <td>...</td>\\n      <td>...</td>\\n      <td>...</td>\\n      <td>...</td>\\n      <td>...</td>\\n      <td>...</td>\\n      <td>...</td>\\n      <td>...</td>\\n      <td>...</td>\\n      <td>...</td>\\n      <td>...</td>\\n      <td>...</td>\\n      <td>...</td>\\n      <td>...</td>\\n      <td>...</td>\\n      <td>...</td>\\n      <td>...</td>\\n      <td>...</td>\\n      <td>...</td>\\n      <td>...</td>\\n      <td>...</td>\\n      <td>...</td>\\n      <td>...</td>\\n      <td>...</td>\\n      <td>...</td>\\n      <td>...</td>\\n      <td>...</td>\\n      <td>...</td>\\n      <td>...</td>\\n      <td>...</td>\\n      <td>...</td>\\n      <td>...</td>\\n      <td>...</td>\\n      <td>...</td>\\n      <td>...</td>\\n      <td>...</td>\\n      <td>...</td>\\n    </tr>\\n    <tr>\\n      <th>user196</th>\\n      <td>0.788662</td>\\n      <td>0.704273</td>\\n      <td>0.776555</td>\\n      <td>0.8481</td>\\n      <td>None</td>\\n      <td>None</td>\\n      <td>None</td>\\n      <td>0.686273</td>\\n      <td>None</td>\\n      <td>None</td>\\n      <td>2.164656</td>\\n      <td>2.549222</td>\\n      <td>2.614974</td>\\n      <td>None</td>\\n      <td>None</td>\\n      <td>None</td>\\n      <td>None</td>\\n      <td>None</td>\\n      <td>2.51912</td>\\n      <td>2.355786</td>\\n      <td>2.509917</td>\\n      <td>2.382942</td>\\n      <td>2.494133</td>\\n      <td>None</td>\\n      <td>None</td>\\n      <td>None</td>\\n      <td>None</td>\\n      <td>None</td>\\n      <td>2.457732</td>\\n      <td>None</td>\\n      <td>4.014754</td>\\n      <td>4.184846</td>\\n      <td>None</td>\\n      <td>4.126758</td>\\n      <td>None</td>\\n      <td>None</td>\\n      <td>4.364885</td>\\n      <td>None</td>\\n      <td>3.767153</td>\\n      <td>4.405117</td>\\n    </tr>\\n    <tr>\\n      <th>user197</th>\\n      <td>1.303235</td>\\n      <td>1.43626</td>\\n      <td>1.00433</td>\\n      <td>None</td>\\n      <td>None</td>\\n      <td>None</td>\\n      <td>1.486788</td>\\n      <td>1.295232</td>\\n      <td>None</td>\\n      <td>0.920782</td>\\n      <td>2.511827</td>\\n      <td>None</td>\\n      <td>2.361798</td>\\n      <td>None</td>\\n      <td>2.354619</td>\\n      <td>None</td>\\n      <td>None</td>\\n      <td>None</td>\\n      <td>None</td>\\n      <td>2.21937</td>\\n      <td>2.401316</td>\\n      <td>None</td>\\n      <td>None</td>\\n      <td>None</td>\\n      <td>None</td>\\n      <td>None</td>\\n      <td>2.793289</td>\\n      <td>None</td>\\n      <td>2.464333</td>\\n      <td>2.426258</td>\\n      <td>4.253895</td>\\n      <td>None</td>\\n      <td>None</td>\\n      <td>4.369466</td>\\n      <td>None</td>\\n      <td>3.996908</td>\\n      <td>3.853673</td>\\n      <td>None</td>\\n      <td>3.917286</td>\\n      <td>4.57724</td>\\n    </tr>\\n    <tr>\\n      <th>user198</th>\\n      <td>1.251698</td>\\n      <td>None</td>\\n      <td>1.017147</td>\\n      <td>None</td>\\n      <td>None</td>\\n      <td>None</td>\\n      <td>None</td>\\n      <td>None</td>\\n      <td>None</td>\\n      <td>0.806444</td>\\n      <td>None</td>\\n      <td>2.520115</td>\\n      <td>2.646957</td>\\n      <td>None</td>\\n      <td>2.952988</td>\\n      <td>None</td>\\n      <td>None</td>\\n      <td>2.190244</td>\\n      <td>None</td>\\n      <td>None</td>\\n      <td>2.282611</td>\\n      <td>None</td>\\n      <td>2.480411</td>\\n      <td>2.663661</td>\\n      <td>2.402259</td>\\n      <td>None</td>\\n      <td>None</td>\\n      <td>2.708267</td>\\n      <td>2.109672</td>\\n      <td>2.824608</td>\\n      <td>4.380199</td>\\n      <td>4.022162</td>\\n      <td>None</td>\\n      <td>3.895619</td>\\n      <td>None</td>\\n      <td>3.887536</td>\\n      <td>None</td>\\n      <td>3.862879</td>\\n      <td>None</td>\\n      <td>4.261574</td>\\n    </tr>\\n    <tr>\\n      <th>user199</th>\\n      <td>1.007993</td>\\n      <td>None</td>\\n      <td>0.955789</td>\\n      <td>None</td>\\n      <td>0.846838</td>\\n      <td>None</td>\\n      <td>0.58893</td>\\n      <td>1.046728</td>\\n      <td>None</td>\\n      <td>1.139212</td>\\n      <td>2.739859</td>\\n      <td>2.459454</td>\\n      <td>None</td>\\n      <td>None</td>\\n      <td>None</td>\\n      <td>2.430707</td>\\n      <td>None</td>\\n      <td>2.413188</td>\\n      <td>2.608065</td>\\n      <td>None</td>\\n      <td>None</td>\\n      <td>2.764538</td>\\n      <td>2.389897</td>\\n      <td>2.29379</td>\\n      <td>None</td>\\n      <td>2.428555</td>\\n      <td>2.406729</td>\\n      <td>2.507149</td>\\n      <td>None</td>\\n      <td>None</td>\\n      <td>None</td>\\n      <td>4.039527</td>\\n      <td>None</td>\\n      <td>None</td>\\n      <td>3.837071</td>\\n      <td>4.103043</td>\\n      <td>None</td>\\n      <td>None</td>\\n      <td>None</td>\\n      <td>None</td>\\n    </tr>\\n    <tr>\\n      <th>user200</th>\\n      <td>0.717826</td>\\n      <td>None</td>\\n      <td>1.23011</td>\\n      <td>None</td>\\n      <td>0.994098</td>\\n      <td>None</td>\\n      <td>None</td>\\n      <td>None</td>\\n      <td>1.14695</td>\\n      <td>None</td>\\n      <td>None</td>\\n      <td>None</td>\\n      <td>None</td>\\n      <td>None</td>\\n      <td>None</td>\\n      <td>2.487716</td>\\n      <td>2.56307</td>\\n      <td>None</td>\\n      <td>None</td>\\n      <td>2.300041</td>\\n      <td>2.552453</td>\\n      <td>2.104705</td>\\n      <td>2.862709</td>\\n      <td>2.416833</td>\\n      <td>None</td>\\n      <td>2.248165</td>\\n      <td>2.401267</td>\\n      <td>2.401077</td>\\n      <td>None</td>\\n      <td>2.21877</td>\\n      <td>3.798483</td>\\n      <td>None</td>\\n      <td>4.224537</td>\\n      <td>None</td>\\n      <td>None</td>\\n      <td>4.117838</td>\\n      <td>None</td>\\n      <td>3.920277</td>\\n      <td>4.00732</td>\\n      <td>None</td>\\n    </tr>\\n  </tbody>\\n</table>')"
      ]
    },
    {
      "cell_type": "markdown",
      "id": "cbdaf811-7e29-449e-b70c-552ae64d3aff",
      "metadata": {
        "id": "cbdaf811-7e29-449e-b70c-552ae64d3aff"
      },
      "source": [
        "#### `(2)` 첫번째 유저를 평점을 조회하고 이 유저의 취향을 서술하라. 커피와 홍차중 어떤음료를 선호하는가? 따듯한 음료와 차가운 음료중 어떤 음료를 선호하는가? "
      ]
    },
    {
      "cell_type": "markdown",
      "id": "ea09ee6f-95de-414f-b4f8-b557d24d861c",
      "metadata": {
        "id": "ea09ee6f-95de-414f-b4f8-b557d24d861c"
      },
      "source": [
        "#### `(3)` fastai를 이용하여 추천모형을 학습하라. (`nn`을 사용하지 않아도 무방하다.) "
      ]
    },
    {
      "cell_type": "markdown",
      "id": "1ba4ea3c-ba3c-4713-a65e-f3ddbcd9c1bd",
      "metadata": {
        "id": "1ba4ea3c-ba3c-4713-a65e-f3ddbcd9c1bd"
      },
      "source": [
        "#### `(4)` (3)의 추천시스템을 이용하여 모든 음료(총40개)에 대하여 144번 유저의 `fitted rating` 을 구하라. 144번 유저는 어떤 취향인가? "
      ]
    },
    {
      "cell_type": "markdown",
      "id": "013a448f-21b8-4103-ac60-3dd88f0ec07b",
      "metadata": {
        "tags": [],
        "id": "013a448f-21b8-4103-ac60-3dd88f0ec07b"
      },
      "source": [
        "#### `(5)` 차가운커피1에 대한 모든유저(총200명)의 `fitted rating`을 구하라. 몇번부터 몇번까지의 유저가 차가운 커피를 선호하는가?"
      ]
    },
    {
      "cell_type": "markdown",
      "id": "4df2becf-8169-4a5e-a49e-31ba8cfacfeb",
      "metadata": {
        "id": "4df2becf-8169-4a5e-a49e-31ba8cfacfeb"
      },
      "source": [
        "## `#3`. 영화추천 "
      ]
    },
    {
      "cell_type": "markdown",
      "id": "455f73be-8c5b-4870-ab2e-f471d4d037ba",
      "metadata": {
        "id": "455f73be-8c5b-4870-ab2e-f471d4d037ba"
      },
      "source": [
        "아래의 코드를 이용하여 자료를 받고 `df`를 만든뒤 물음에 답하라. \n",
        "\n",
        "```python\n",
        "path = untar_data(URLs.ML_100k) \n",
        "ratings=pd.read_csv(path/'u.data', delimiter='\\t', header=None, names=['user','movie','rating','timestamp'])\n",
        "movies = pd.read_csv(path/'u.item', delimiter='|', encoding='latin-1', usecols=(0,1), names=('movie','title'), header=None)\n",
        "df = ratings.merge(movies)\n",
        "```"
      ]
    },
    {
      "cell_type": "markdown",
      "id": "32b9586a-4a00-4ff2-9783-b4d5d2a087ef",
      "metadata": {
        "id": "32b9586a-4a00-4ff2-9783-b4d5d2a087ef"
      },
      "source": [
        "#### `(1)` fastai를 이용하여 추천모형을 학습하라. (`nn`을 사용하지 않아도 무방하다.) "
      ]
    },
    {
      "cell_type": "markdown",
      "id": "512ff32b-5327-48c1-b57a-d07bec53b290",
      "metadata": {
        "id": "512ff32b-5327-48c1-b57a-d07bec53b290"
      },
      "source": [
        "#### `(2)` 아래의 영화들에 대한 30번유저의 `fitted rating`을 구하라."
      ]
    },
    {
      "cell_type": "markdown",
      "id": "2425530c-2dc3-4596-9c57-e12a43b5ce54",
      "metadata": {
        "id": "2425530c-2dc3-4596-9c57-e12a43b5ce54"
      },
      "source": [
        "```\n",
        "1461    Terminator 2: Judgment Day (1991)\n",
        "1462               Terminator, The (1984)\n",
        "```"
      ]
    },
    {
      "cell_type": "markdown",
      "id": "97f89058-2422-4ff3-ad86-154b78a0f2f8",
      "metadata": {
        "id": "97f89058-2422-4ff3-ad86-154b78a0f2f8"
      },
      "source": [
        "## `#4`. 다음을 읽고 물음에 답하라. (O/X로 답할것) "
      ]
    },
    {
      "cell_type": "markdown",
      "id": "7d4353e9-117e-4558-ac5d-6c6f3956ee1b",
      "metadata": {
        "id": "7d4353e9-117e-4558-ac5d-6c6f3956ee1b"
      },
      "source": [
        "#### `(1)` 학습이 진행됨에 따라 training loss는 줄어들지만 validation loss가 증가하는 현상을 기울기소실문제라고 한다. "
      ]
    },
    {
      "cell_type": "markdown",
      "id": "2906dc35-55fc-4b2f-8ee0-9bd6eda8c9bb",
      "metadata": {
        "id": "2906dc35-55fc-4b2f-8ee0-9bd6eda8c9bb"
      },
      "source": [
        "#### `(2)` 배치정규화는 기울기소실문제를 해결하는 방법 중 하나이다. "
      ]
    },
    {
      "cell_type": "markdown",
      "id": "2d54c982-3844-4339-92a1-188a4dcc955a",
      "metadata": {
        "id": "2d54c982-3844-4339-92a1-188a4dcc955a"
      },
      "source": [
        "#### `(3)` 기울기소실은 얕은신경망보다 깊은신경망에서 자주 발생한다. "
      ]
    },
    {
      "cell_type": "markdown",
      "id": "715fd3f9-31f2-4f1b-bd5f-4bde44f5c640",
      "metadata": {
        "id": "715fd3f9-31f2-4f1b-bd5f-4bde44f5c640"
      },
      "source": [
        "#### `(4)` 역전파기법은 과적합을 방지하는 테크닉중 하나이다. "
      ]
    },
    {
      "cell_type": "markdown",
      "id": "40201c50-9a43-4052-91c9-0002638875b8",
      "metadata": {
        "id": "40201c50-9a43-4052-91c9-0002638875b8"
      },
      "source": [
        "#### `(5)` 순전파만 계산하고 싶을 경우 GPU메모리에 각 층의 계산결과를 저장할 필요가 없다. "
      ]
    }
  ],
  "metadata": {
    "kernelspec": {
      "display_name": "Python 3 (ipykernel)",
      "language": "python",
      "name": "python3"
    },
    "language_info": {
      "codemirror_mode": {
        "name": "ipython",
        "version": 3
      },
      "file_extension": ".py",
      "mimetype": "text/x-python",
      "name": "python",
      "nbconvert_exporter": "python",
      "pygments_lexer": "ipython3",
      "version": "3.8.12"
    },
    "colab": {
      "name": "2021-12-04-(A3) 기말고사 대비문제.ipynb",
      "provenance": []
    }
  },
  "nbformat": 4,
  "nbformat_minor": 5
}