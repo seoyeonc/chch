{
 "cells": [
  {
   "cell_type": "markdown",
   "metadata": {
    "tags": []
   },
   "source": [
    "# TensorFlow Category 5\n",
    "> `Individual House Hold Electric Power Consumption Dataset`을 활용한 예측\n",
    "\n",
    "- toc:true\n",
    "- branch: master\n",
    "- badges: true\n",
    "- comments: false\n",
    "- author: 최서연\n",
    "- categories: [TensorFlow]"
   ]
  },
  {
   "cell_type": "markdown",
   "metadata": {
    "id": "4odN9vGLL5vF"
   },
   "source": [
    "## 확인"
   ]
  },
  {
   "cell_type": "markdown",
   "metadata": {
    "id": "zPhkbbfCL6T9"
   },
   "source": [
    "1. GPU 옵션 켜져 있는지 확인할 것!!! (수정 - 노트설정 - 하드웨어설정 (GPU))"
   ]
  },
  {
   "cell_type": "markdown",
   "metadata": {
    "id": "xaFSq4s3L8ht"
   },
   "source": [
    "## 순서"
   ]
  },
  {
   "cell_type": "markdown",
   "metadata": {
    "id": "k-kXOCqfL8eF"
   },
   "source": [
    "1. **import**: 필요한 모듈 import\n",
    "2. **전처리**: 학습에 필요한 데이터 전처리를 수행합니다.\n",
    "3. **모델링(model)**: 모델을 정의합니다.\n",
    "4. **컴파일(compile)**: 모델을 생성합니다.\n",
    "5. **학습 (fit)**: 모델을 학습시킵니다."
   ]
  },
  {
   "cell_type": "markdown",
   "metadata": {
    "id": "Kqk9o1bTL8ZF"
   },
   "source": [
    "## 문제"
   ]
  },
  {
   "cell_type": "markdown",
   "metadata": {
    "id": "XvgGPciAL8QW"
   },
   "source": [
    "ABOUT THE DATASET\n",
    "\n",
    "Original Source:\n",
    "https://archive.ics.uci.edu/ml/datasets/individual+household+electric+power+consumption\n",
    "\n",
    "The original 'Individual House Hold Electric Power Consumption Dataset'\n",
    "has Measurements of electric power consumption in one household with\n",
    "a one-minute sampling rate over a period of almost 4 years.\n",
    "\n",
    "Different electrical quantities and some sub-metering values are available.\n",
    "\n",
    "For the purpose of the examination we have provided a subset containing\n",
    "the data for the first 60 days in the dataset. We have also cleaned the\n",
    "dataset beforehand to remove missing values. The dataset is provided as a\n",
    "csv file in the project.\n",
    "\n",
    "The dataset has a total of 7 features ordered by time.\n",
    "==============================================================================\n",
    "\n",
    "INSTRUCTIONS\n",
    "\n",
    "Complete the code in following functions:\n",
    "1. windowed_dataset()\n",
    "2. solution_model()\n",
    "\n",
    "The model input and output shapes must match the following\n",
    "specifications.\n",
    "\n",
    "1. Model input_shape must be (BATCH_SIZE, N_PAST = 24, N_FEATURES = 7),\n",
    "   since the testing infrastructure expects a window of past N_PAST = 24\n",
    "   observations of the 7 features to predict the next 24 observations of\n",
    "   the same features.\n",
    "\n",
    "2. Model output_shape must be (BATCH_SIZE, N_FUTURE = 24, N_FEATURES = 7)\n",
    "\n",
    "3. DON'T change the values of the following constants\n",
    "   N_PAST, N_FUTURE, SHIFT in the windowed_dataset()\n",
    "   BATCH_SIZE in solution_model() (See code for additional note on\n",
    "   BATCH_SIZE).\n",
    "4. Code for normalizing the data is provided - DON't change it.\n",
    "   Changing the normalizing code will affect your score.\n",
    "\n",
    "HINT: Your neural network must have a **validation MAE of approximately 0.055** or\n",
    "less on the normalized validation dataset for top marks.\n",
    "\n",
    "WARNING: Do not use lambda layers in your model, they are not supported\n",
    "on the grading infrastructure.\n",
    "\n",
    "WARNING: If you are using the GRU layer, it is advised not to use the\n",
    "'recurrent_dropout' argument (you can alternatively set it to 0),\n",
    "since it has not been implemented in the cuDNN kernel and may\n",
    "result in much longer training times."
   ]
  },
  {
   "cell_type": "markdown",
   "metadata": {
    "id": "w7I4VwtsON9H"
   },
   "source": [
    "## 필요한 모듈 import"
   ]
  },
  {
   "cell_type": "code",
   "execution_count": 4,
   "metadata": {
    "id": "KPbpBIlJ_I4U"
   },
   "outputs": [],
   "source": [
    "import urllib\n",
    "import os\n",
    "import zipfile\n",
    "import pandas as pd\n",
    "\n",
    "import tensorflow as tf\n",
    "from tensorflow.keras.layers import Dense, Conv1D, LSTM, Bidirectional\n",
    "from tensorflow.keras.models import Sequential\n",
    "from tensorflow.keras.callbacks import ModelCheckpoint"
   ]
  },
  {
   "cell_type": "markdown",
   "metadata": {
    "id": "TpZw2qNyORZO",
    "tags": []
   },
   "source": [
    "## 데이터셋 다운로드"
   ]
  },
  {
   "cell_type": "code",
   "execution_count": null,
   "metadata": {
    "id": "OTErfPA2OU92"
   },
   "outputs": [],
   "source": [
    "def download_and_extract_data():\n",
    "    url = 'https://storage.googleapis.com/download.tensorflow.org/data/certificate/household_power.zip'\n",
    "    urllib.request.urlretrieve(url, 'household_power.zip')\n",
    "    with zipfile.ZipFile('household_power.zip', 'r') as zip_ref:\n",
    "        zip_ref.extractall()"
   ]
  },
  {
   "cell_type": "code",
   "execution_count": null,
   "metadata": {
    "id": "84yYH8yhOVbG"
   },
   "outputs": [],
   "source": [
    "download_and_extract_data()"
   ]
  },
  {
   "cell_type": "code",
   "execution_count": null,
   "metadata": {
    "colab": {
     "base_uri": "https://localhost:8080/",
     "height": 394
    },
    "id": "D6-31N10OW2u",
    "outputId": "015cdb42-8ce9-4d13-e2f3-9c2527ec9907"
   },
   "outputs": [
    {
     "data": {
      "text/html": [
       "<div>\n",
       "<style scoped>\n",
       "    .dataframe tbody tr th:only-of-type {\n",
       "        vertical-align: middle;\n",
       "    }\n",
       "\n",
       "    .dataframe tbody tr th {\n",
       "        vertical-align: top;\n",
       "    }\n",
       "\n",
       "    .dataframe thead th {\n",
       "        text-align: right;\n",
       "    }\n",
       "</style>\n",
       "<table border=\"1\" class=\"dataframe\">\n",
       "  <thead>\n",
       "    <tr style=\"text-align: right;\">\n",
       "      <th></th>\n",
       "      <th>Global_active_power</th>\n",
       "      <th>Global_reactive_power</th>\n",
       "      <th>Voltage</th>\n",
       "      <th>Global_intensity</th>\n",
       "      <th>Sub_metering_1</th>\n",
       "      <th>Sub_metering_2</th>\n",
       "      <th>Sub_metering_3</th>\n",
       "    </tr>\n",
       "    <tr>\n",
       "      <th>datetime</th>\n",
       "      <th></th>\n",
       "      <th></th>\n",
       "      <th></th>\n",
       "      <th></th>\n",
       "      <th></th>\n",
       "      <th></th>\n",
       "      <th></th>\n",
       "    </tr>\n",
       "  </thead>\n",
       "  <tbody>\n",
       "    <tr>\n",
       "      <th>2006-12-16 17:24:00</th>\n",
       "      <td>4.216</td>\n",
       "      <td>0.418</td>\n",
       "      <td>234.84</td>\n",
       "      <td>18.4</td>\n",
       "      <td>0.0</td>\n",
       "      <td>1.0</td>\n",
       "      <td>17.0</td>\n",
       "    </tr>\n",
       "    <tr>\n",
       "      <th>2006-12-16 17:25:00</th>\n",
       "      <td>5.360</td>\n",
       "      <td>0.436</td>\n",
       "      <td>233.63</td>\n",
       "      <td>23.0</td>\n",
       "      <td>0.0</td>\n",
       "      <td>1.0</td>\n",
       "      <td>16.0</td>\n",
       "    </tr>\n",
       "    <tr>\n",
       "      <th>2006-12-16 17:26:00</th>\n",
       "      <td>5.374</td>\n",
       "      <td>0.498</td>\n",
       "      <td>233.29</td>\n",
       "      <td>23.0</td>\n",
       "      <td>0.0</td>\n",
       "      <td>2.0</td>\n",
       "      <td>17.0</td>\n",
       "    </tr>\n",
       "    <tr>\n",
       "      <th>2006-12-16 17:27:00</th>\n",
       "      <td>5.388</td>\n",
       "      <td>0.502</td>\n",
       "      <td>233.74</td>\n",
       "      <td>23.0</td>\n",
       "      <td>0.0</td>\n",
       "      <td>1.0</td>\n",
       "      <td>17.0</td>\n",
       "    </tr>\n",
       "    <tr>\n",
       "      <th>2006-12-16 17:28:00</th>\n",
       "      <td>3.666</td>\n",
       "      <td>0.528</td>\n",
       "      <td>235.68</td>\n",
       "      <td>15.8</td>\n",
       "      <td>0.0</td>\n",
       "      <td>1.0</td>\n",
       "      <td>17.0</td>\n",
       "    </tr>\n",
       "    <tr>\n",
       "      <th>2006-12-16 17:29:00</th>\n",
       "      <td>3.520</td>\n",
       "      <td>0.522</td>\n",
       "      <td>235.02</td>\n",
       "      <td>15.0</td>\n",
       "      <td>0.0</td>\n",
       "      <td>2.0</td>\n",
       "      <td>17.0</td>\n",
       "    </tr>\n",
       "    <tr>\n",
       "      <th>2006-12-16 17:30:00</th>\n",
       "      <td>3.702</td>\n",
       "      <td>0.520</td>\n",
       "      <td>235.09</td>\n",
       "      <td>15.8</td>\n",
       "      <td>0.0</td>\n",
       "      <td>1.0</td>\n",
       "      <td>17.0</td>\n",
       "    </tr>\n",
       "    <tr>\n",
       "      <th>2006-12-16 17:31:00</th>\n",
       "      <td>3.700</td>\n",
       "      <td>0.520</td>\n",
       "      <td>235.22</td>\n",
       "      <td>15.8</td>\n",
       "      <td>0.0</td>\n",
       "      <td>1.0</td>\n",
       "      <td>17.0</td>\n",
       "    </tr>\n",
       "    <tr>\n",
       "      <th>2006-12-16 17:32:00</th>\n",
       "      <td>3.668</td>\n",
       "      <td>0.510</td>\n",
       "      <td>233.99</td>\n",
       "      <td>15.8</td>\n",
       "      <td>0.0</td>\n",
       "      <td>1.0</td>\n",
       "      <td>17.0</td>\n",
       "    </tr>\n",
       "    <tr>\n",
       "      <th>2006-12-16 17:33:00</th>\n",
       "      <td>3.662</td>\n",
       "      <td>0.510</td>\n",
       "      <td>233.86</td>\n",
       "      <td>15.8</td>\n",
       "      <td>0.0</td>\n",
       "      <td>2.0</td>\n",
       "      <td>16.0</td>\n",
       "    </tr>\n",
       "  </tbody>\n",
       "</table>\n",
       "</div>"
      ],
      "text/plain": [
       "                     Global_active_power  ...  Sub_metering_3\n",
       "datetime                                  ...                \n",
       "2006-12-16 17:24:00                4.216  ...            17.0\n",
       "2006-12-16 17:25:00                5.360  ...            16.0\n",
       "2006-12-16 17:26:00                5.374  ...            17.0\n",
       "2006-12-16 17:27:00                5.388  ...            17.0\n",
       "2006-12-16 17:28:00                3.666  ...            17.0\n",
       "2006-12-16 17:29:00                3.520  ...            17.0\n",
       "2006-12-16 17:30:00                3.702  ...            17.0\n",
       "2006-12-16 17:31:00                3.700  ...            17.0\n",
       "2006-12-16 17:32:00                3.668  ...            17.0\n",
       "2006-12-16 17:33:00                3.662  ...            16.0\n",
       "\n",
       "[10 rows x 7 columns]"
      ]
     },
     "execution_count": 31,
     "metadata": {
      "tags": []
     },
     "output_type": "execute_result"
    }
   ],
   "source": [
    "df = pd.read_csv('household_power_consumption.csv', sep=',', infer_datetime_format=True, index_col='datetime', header=0)\n",
    "df.head(10)"
   ]
  },
  {
   "cell_type": "markdown",
   "metadata": {
    "id": "W8T_IULIOaTu"
   },
   "source": [
    "## 데이터 정규화\n",
    "\n",
    "데이터의 스케일(Scale)을 0 ~ 1 사이로 정규화 합니다."
   ]
  },
  {
   "cell_type": "code",
   "execution_count": null,
   "metadata": {
    "id": "Ujr6nyzkOZem"
   },
   "outputs": [],
   "source": [
    "def normalize_series(data, min, max):\n",
    "    data = data - min\n",
    "    data = data / max\n",
    "    return data"
   ]
  },
  {
   "cell_type": "code",
   "execution_count": null,
   "metadata": {
    "colab": {
     "base_uri": "https://localhost:8080/"
    },
    "id": "C6DSkBjMOsOc",
    "outputId": "f4c19292-0b4d-460b-b339-e2ff3c93a324"
   },
   "outputs": [
    {
     "data": {
      "text/plain": [
       "array([[0.43377912, 0.47826087, 0.04036551, ..., 0.        , 0.01282051,\n",
       "        0.85      ],\n",
       "       [0.55716135, 0.49885584, 0.0355582 , ..., 0.        , 0.01282051,\n",
       "        0.8       ],\n",
       "       [0.55867127, 0.56979405, 0.03420739, ..., 0.        , 0.02564103,\n",
       "        0.85      ],\n",
       "       ...,\n",
       "       [0.03710095, 0.        , 0.05983313, ..., 0.        , 0.        ,\n",
       "        0.        ],\n",
       "       [0.03559103, 0.        , 0.06515693, ..., 0.        , 0.        ,\n",
       "        0.        ],\n",
       "       [0.03774806, 0.        , 0.06730234, ..., 0.        , 0.01282051,\n",
       "        0.        ]])"
      ]
     },
     "execution_count": 11,
     "metadata": {
      "tags": []
     },
     "output_type": "execute_result"
    }
   ],
   "source": [
    "# FEATURES에 데이터프레임의 Column 개수 대입\n",
    "N_FEATURES = len(df.columns)\n",
    "\n",
    "# 데이터프레임을 numpy array으로 가져와 data에 대입\n",
    "data = df.values\n",
    "\n",
    "# 데이터 정규화\n",
    "data = normalize_series(data, data.min(axis=0), data.max(axis=0))\n",
    "data"
   ]
  },
  {
   "cell_type": "code",
   "execution_count": null,
   "metadata": {
    "colab": {
     "base_uri": "https://localhost:8080/",
     "height": 300
    },
    "id": "1eOHSnw5Sgr1",
    "outputId": "00ce4d41-4c56-44cb-c6ef-2cc77fc7dd4e"
   },
   "outputs": [
    {
     "data": {
      "text/html": [
       "<div>\n",
       "<style scoped>\n",
       "    .dataframe tbody tr th:only-of-type {\n",
       "        vertical-align: middle;\n",
       "    }\n",
       "\n",
       "    .dataframe tbody tr th {\n",
       "        vertical-align: top;\n",
       "    }\n",
       "\n",
       "    .dataframe thead th {\n",
       "        text-align: right;\n",
       "    }\n",
       "</style>\n",
       "<table border=\"1\" class=\"dataframe\">\n",
       "  <thead>\n",
       "    <tr style=\"text-align: right;\">\n",
       "      <th></th>\n",
       "      <th>0</th>\n",
       "      <th>1</th>\n",
       "      <th>2</th>\n",
       "      <th>3</th>\n",
       "      <th>4</th>\n",
       "      <th>5</th>\n",
       "      <th>6</th>\n",
       "    </tr>\n",
       "  </thead>\n",
       "  <tbody>\n",
       "    <tr>\n",
       "      <th>count</th>\n",
       "      <td>86400.000000</td>\n",
       "      <td>86400.000000</td>\n",
       "      <td>86400.000000</td>\n",
       "      <td>86400.000000</td>\n",
       "      <td>86400.000000</td>\n",
       "      <td>86400.000000</td>\n",
       "      <td>86400.000000</td>\n",
       "    </tr>\n",
       "    <tr>\n",
       "      <th>mean</th>\n",
       "      <td>0.156411</td>\n",
       "      <td>0.147141</td>\n",
       "      <td>0.064697</td>\n",
       "      <td>0.152278</td>\n",
       "      <td>0.016950</td>\n",
       "      <td>0.024085</td>\n",
       "      <td>0.375711</td>\n",
       "    </tr>\n",
       "    <tr>\n",
       "      <th>std</th>\n",
       "      <td>0.144040</td>\n",
       "      <td>0.134578</td>\n",
       "      <td>0.013900</td>\n",
       "      <td>0.139343</td>\n",
       "      <td>0.086787</td>\n",
       "      <td>0.097022</td>\n",
       "      <td>0.433595</td>\n",
       "    </tr>\n",
       "    <tr>\n",
       "      <th>min</th>\n",
       "      <td>0.000000</td>\n",
       "      <td>0.000000</td>\n",
       "      <td>0.000000</td>\n",
       "      <td>0.000000</td>\n",
       "      <td>0.000000</td>\n",
       "      <td>0.000000</td>\n",
       "      <td>0.000000</td>\n",
       "    </tr>\n",
       "    <tr>\n",
       "      <th>25%</th>\n",
       "      <td>0.021786</td>\n",
       "      <td>0.000000</td>\n",
       "      <td>0.055344</td>\n",
       "      <td>0.024752</td>\n",
       "      <td>0.000000</td>\n",
       "      <td>0.000000</td>\n",
       "      <td>0.000000</td>\n",
       "    </tr>\n",
       "    <tr>\n",
       "      <th>50%</th>\n",
       "      <td>0.131795</td>\n",
       "      <td>0.132723</td>\n",
       "      <td>0.065713</td>\n",
       "      <td>0.123762</td>\n",
       "      <td>0.000000</td>\n",
       "      <td>0.000000</td>\n",
       "      <td>0.000000</td>\n",
       "    </tr>\n",
       "    <tr>\n",
       "      <th>75%</th>\n",
       "      <td>0.239431</td>\n",
       "      <td>0.224256</td>\n",
       "      <td>0.074652</td>\n",
       "      <td>0.227723</td>\n",
       "      <td>0.000000</td>\n",
       "      <td>0.012821</td>\n",
       "      <td>0.850000</td>\n",
       "    </tr>\n",
       "    <tr>\n",
       "      <th>max</th>\n",
       "      <td>0.979077</td>\n",
       "      <td>1.000000</td>\n",
       "      <td>0.107350</td>\n",
       "      <td>0.980198</td>\n",
       "      <td>1.000000</td>\n",
       "      <td>1.000000</td>\n",
       "      <td>1.000000</td>\n",
       "    </tr>\n",
       "  </tbody>\n",
       "</table>\n",
       "</div>"
      ],
      "text/plain": [
       "                  0             1  ...             5             6\n",
       "count  86400.000000  86400.000000  ...  86400.000000  86400.000000\n",
       "mean       0.156411      0.147141  ...      0.024085      0.375711\n",
       "std        0.144040      0.134578  ...      0.097022      0.433595\n",
       "min        0.000000      0.000000  ...      0.000000      0.000000\n",
       "25%        0.021786      0.000000  ...      0.000000      0.000000\n",
       "50%        0.131795      0.132723  ...      0.000000      0.000000\n",
       "75%        0.239431      0.224256  ...      0.012821      0.850000\n",
       "max        0.979077      1.000000  ...      1.000000      1.000000\n",
       "\n",
       "[8 rows x 7 columns]"
      ]
     },
     "execution_count": 38,
     "metadata": {
      "tags": []
     },
     "output_type": "execute_result"
    }
   ],
   "source": [
    "pd.DataFrame(data).describe()"
   ]
  },
  {
   "cell_type": "markdown",
   "metadata": {
    "id": "vDlrFALf87hk"
   },
   "source": [
    "## 데이터 분할"
   ]
  },
  {
   "cell_type": "code",
   "execution_count": null,
   "metadata": {
    "id": "tb_FY89o9OIk"
   },
   "outputs": [],
   "source": [
    "# 데이터셋 분할 (0.8). \n",
    "# 기존 0.5 -> 0.8로 변경 // 다른 비율로 변경 가능\n",
    "split_time = int(len(data) * 0.8)"
   ]
  },
  {
   "cell_type": "code",
   "execution_count": null,
   "metadata": {
    "id": "81keVjW29AXD"
   },
   "outputs": [],
   "source": [
    "x_train = data[:split_time]\n",
    "x_valid = data[split_time:]"
   ]
  },
  {
   "cell_type": "markdown",
   "metadata": {
    "id": "_crFBEHu89mR"
   },
   "source": [
    "## Windowed Dataset 생성"
   ]
  },
  {
   "cell_type": "markdown",
   "metadata": {
    "id": "jH_QOZ0p00hO"
   },
   "source": [
    "This line converts the dataset into a windowed dataset where a\n",
    "window consists of both the observations to be included as features and the targets.\n",
    "\n",
    "Don't change the shift parameter. The test windows are\n",
    "created with the specified shift and hence it might affect your\n",
    "scores. Calculate the window size so that based on the **past 24 observations (observations at time steps t=1,t=2,...t=24) of the 7 variables**\n",
    "\n",
    "in the dataset, you predict the **next 24 observations\n",
    "(observations at time steps t=25,t=26....t=48) of the 7 variables of the dataset.**\n",
    "\n",
    "Hint: Each window should include both the past observations and\n",
    "the future observations which are to be predicted. Calculate the\n",
    "window size based on n_past and n_future."
   ]
  },
  {
   "cell_type": "code",
   "execution_count": null,
   "metadata": {
    "id": "frxkiKXxLbJu"
   },
   "outputs": [],
   "source": [
    "def windowed_dataset(series, batch_size, n_past=24, n_future=24, shift=1):\n",
    "    ds = tf.data.Dataset.from_tensor_slices(series)\n",
    "    ds = ds.window(size=(n_past + n_future), shift = shift, drop_remainder = True)\n",
    "    ds = ds.flat_map(lambda w: w.batch(n_past + n_future))\n",
    "    ds = ds.shuffle(len(series))\n",
    "    ds = ds.map(\n",
    "        lambda w: (w[:n_past], w[n_past:])\n",
    "    )\n",
    "    return ds.batch(batch_size).prefetch(1)"
   ]
  },
  {
   "cell_type": "markdown",
   "metadata": {
    "id": "c-hBQxDf4s6c"
   },
   "source": [
    "`train_set`과 `valid_set`을 생성합니다."
   ]
  },
  {
   "cell_type": "code",
   "execution_count": null,
   "metadata": {
    "id": "wVFQ99wf9YO8"
   },
   "outputs": [],
   "source": [
    "# 다음 4개의 옵션은 주어 집니다.\n",
    "BATCH_SIZE = 32 # 변경 가능하나 더 올리는 것은 비추 (내리는 것은 가능하나 시간 오래 걸림)\n",
    "N_PAST = 24 # 변경 불가.\n",
    "N_FUTURE = 24 # 변경 불가.\n",
    "SHIFT = 1 # 변경 불가."
   ]
  },
  {
   "cell_type": "code",
   "execution_count": null,
   "metadata": {
    "id": "SJbUkp1W4n-z"
   },
   "outputs": [],
   "source": [
    "train_set = windowed_dataset(series=x_train, \n",
    "                             batch_size=BATCH_SIZE,\n",
    "                             n_past=N_PAST, \n",
    "                             n_future=N_FUTURE,\n",
    "                             shift=SHIFT)\n",
    "\n",
    "valid_set = windowed_dataset(series=x_valid, \n",
    "                             batch_size=BATCH_SIZE,\n",
    "                             n_past=N_PAST, \n",
    "                             n_future=N_FUTURE,\n",
    "                             shift=SHIFT)"
   ]
  },
  {
   "cell_type": "markdown",
   "metadata": {
    "id": "_1yVBgfz5AK8"
   },
   "source": [
    "## 모델 생성"
   ]
  },
  {
   "cell_type": "code",
   "execution_count": null,
   "metadata": {
    "id": "94dEuVdH5Cpk"
   },
   "outputs": [],
   "source": [
    "model = tf.keras.models.Sequential([\n",
    "    Conv1D(filters=32, \n",
    "            kernel_size=3,\n",
    "            padding=\"causal\",\n",
    "            activation=\"relu\",\n",
    "            input_shape=[N_PAST, 7],\n",
    "            ),\n",
    "    Bidirectional(LSTM(32, return_sequences=True)),\n",
    "    Dense(32, activation=\"relu\"),\n",
    "    Dense(16, activation=\"relu\"),\n",
    "    Dense(N_FEATURES)\n",
    "])"
   ]
  },
  {
   "cell_type": "markdown",
   "metadata": {
    "id": "kBuqPmBF5GP6"
   },
   "source": [
    "## 체크포인트 생성"
   ]
  },
  {
   "cell_type": "code",
   "execution_count": null,
   "metadata": {
    "id": "6Arm5-TF5Jh7"
   },
   "outputs": [],
   "source": [
    "checkpoint_path='model/my_checkpoint.ckpt'\n",
    "\n",
    "checkpoint = ModelCheckpoint(checkpoint_path,\n",
    "                             save_weights_only=True,\n",
    "                             save_best_only=True,\n",
    "                             monitor='val_loss',\n",
    "                             verbose=1,\n",
    "                             )"
   ]
  },
  {
   "cell_type": "markdown",
   "metadata": {
    "id": "aVt2b6lq5QiU"
   },
   "source": [
    "## 모델 컴파일"
   ]
  },
  {
   "cell_type": "code",
   "execution_count": null,
   "metadata": {
    "id": "Yr5PxcHR5MUp"
   },
   "outputs": [],
   "source": [
    "# learning_rate=0.0005, Adam 옵치마이저\n",
    "optimizer =  tf.keras.optimizers.Adam(learning_rate=0.0005)\n",
    "\n",
    "model.compile(loss='mae',\n",
    "              optimizer=optimizer,\n",
    "              metrics=[\"mae\"]\n",
    "              )"
   ]
  },
  {
   "cell_type": "markdown",
   "metadata": {
    "id": "W_zhL1eL5akg"
   },
   "source": [
    "## 모델 학습"
   ]
  },
  {
   "cell_type": "code",
   "execution_count": null,
   "metadata": {
    "colab": {
     "base_uri": "https://localhost:8080/"
    },
    "id": "56MfdhKe5Zr1",
    "outputId": "3d40217e-b4fa-41a0-fe1e-a567ac669948"
   },
   "outputs": [
    {
     "name": "stdout",
     "output_type": "stream",
     "text": [
      "Epoch 1/20\n",
      "2159/2159 [==============================] - 36s 6ms/step - loss: 0.0604 - mae: 0.0604 - val_loss: 0.0534 - val_mae: 0.0534\n",
      "\n",
      "Epoch 00001: val_loss improved from inf to 0.05342, saving model to model/my_checkpoint.ckpt\n",
      "Epoch 2/20\n",
      "2159/2159 [==============================] - 20s 6ms/step - loss: 0.0534 - mae: 0.0534 - val_loss: 0.0522 - val_mae: 0.0522\n",
      "\n",
      "Epoch 00002: val_loss improved from 0.05342 to 0.05223, saving model to model/my_checkpoint.ckpt\n",
      "Epoch 3/20\n",
      "2159/2159 [==============================] - 19s 6ms/step - loss: 0.0526 - mae: 0.0526 - val_loss: 0.0520 - val_mae: 0.0520\n",
      "\n",
      "Epoch 00003: val_loss improved from 0.05223 to 0.05197, saving model to model/my_checkpoint.ckpt\n",
      "Epoch 4/20\n",
      "2159/2159 [==============================] - 20s 6ms/step - loss: 0.0523 - mae: 0.0523 - val_loss: 0.0522 - val_mae: 0.0522\n",
      "\n",
      "Epoch 00004: val_loss did not improve from 0.05197\n",
      "Epoch 5/20\n",
      "2159/2159 [==============================] - 19s 6ms/step - loss: 0.0521 - mae: 0.0521 - val_loss: 0.0517 - val_mae: 0.0517\n",
      "\n",
      "Epoch 00005: val_loss improved from 0.05197 to 0.05170, saving model to model/my_checkpoint.ckpt\n",
      "Epoch 6/20\n",
      "2159/2159 [==============================] - 19s 6ms/step - loss: 0.0520 - mae: 0.0520 - val_loss: 0.0524 - val_mae: 0.0524\n",
      "\n",
      "Epoch 00006: val_loss did not improve from 0.05170\n",
      "Epoch 7/20\n",
      "2159/2159 [==============================] - 19s 6ms/step - loss: 0.0518 - mae: 0.0518 - val_loss: 0.0513 - val_mae: 0.0513\n",
      "\n",
      "Epoch 00007: val_loss improved from 0.05170 to 0.05125, saving model to model/my_checkpoint.ckpt\n",
      "Epoch 8/20\n",
      "2159/2159 [==============================] - 19s 6ms/step - loss: 0.0517 - mae: 0.0517 - val_loss: 0.0514 - val_mae: 0.0514\n",
      "\n",
      "Epoch 00008: val_loss did not improve from 0.05125\n",
      "Epoch 9/20\n",
      "2159/2159 [==============================] - 19s 6ms/step - loss: 0.0516 - mae: 0.0516 - val_loss: 0.0515 - val_mae: 0.0515\n",
      "\n",
      "Epoch 00009: val_loss did not improve from 0.05125\n",
      "Epoch 10/20\n",
      "2159/2159 [==============================] - 19s 6ms/step - loss: 0.0515 - mae: 0.0515 - val_loss: 0.0511 - val_mae: 0.0511\n",
      "\n",
      "Epoch 00010: val_loss improved from 0.05125 to 0.05109, saving model to model/my_checkpoint.ckpt\n",
      "Epoch 11/20\n",
      "2159/2159 [==============================] - 19s 6ms/step - loss: 0.0515 - mae: 0.0515 - val_loss: 0.0516 - val_mae: 0.0516\n",
      "\n",
      "Epoch 00011: val_loss did not improve from 0.05109\n",
      "Epoch 12/20\n",
      "2159/2159 [==============================] - 19s 6ms/step - loss: 0.0514 - mae: 0.0514 - val_loss: 0.0513 - val_mae: 0.0513\n",
      "\n",
      "Epoch 00012: val_loss did not improve from 0.05109\n",
      "Epoch 13/20\n",
      "2159/2159 [==============================] - 19s 6ms/step - loss: 0.0513 - mae: 0.0513 - val_loss: 0.0510 - val_mae: 0.0510\n",
      "\n",
      "Epoch 00013: val_loss improved from 0.05109 to 0.05102, saving model to model/my_checkpoint.ckpt\n",
      "Epoch 14/20\n",
      "2159/2159 [==============================] - 19s 6ms/step - loss: 0.0512 - mae: 0.0512 - val_loss: 0.0511 - val_mae: 0.0511\n",
      "\n",
      "Epoch 00014: val_loss did not improve from 0.05102\n",
      "Epoch 15/20\n",
      "2159/2159 [==============================] - 19s 6ms/step - loss: 0.0511 - mae: 0.0511 - val_loss: 0.0509 - val_mae: 0.0509\n",
      "\n",
      "Epoch 00015: val_loss improved from 0.05102 to 0.05085, saving model to model/my_checkpoint.ckpt\n",
      "Epoch 16/20\n",
      "2159/2159 [==============================] - 19s 6ms/step - loss: 0.0511 - mae: 0.0511 - val_loss: 0.0509 - val_mae: 0.0509\n",
      "\n",
      "Epoch 00016: val_loss did not improve from 0.05085\n",
      "Epoch 17/20\n",
      "2159/2159 [==============================] - 19s 6ms/step - loss: 0.0510 - mae: 0.0510 - val_loss: 0.0508 - val_mae: 0.0508\n",
      "\n",
      "Epoch 00017: val_loss improved from 0.05085 to 0.05077, saving model to model/my_checkpoint.ckpt\n",
      "Epoch 18/20\n",
      "2159/2159 [==============================] - 19s 6ms/step - loss: 0.0509 - mae: 0.0509 - val_loss: 0.0508 - val_mae: 0.0508\n",
      "\n",
      "Epoch 00018: val_loss did not improve from 0.05077\n",
      "Epoch 19/20\n",
      "2159/2159 [==============================] - 19s 6ms/step - loss: 0.0509 - mae: 0.0509 - val_loss: 0.0509 - val_mae: 0.0509\n",
      "\n",
      "Epoch 00019: val_loss did not improve from 0.05077\n",
      "Epoch 20/20\n",
      "2159/2159 [==============================] - 19s 6ms/step - loss: 0.0508 - mae: 0.0508 - val_loss: 0.0510 - val_mae: 0.0510\n",
      "\n",
      "Epoch 00020: val_loss did not improve from 0.05077\n"
     ]
    },
    {
     "data": {
      "text/plain": [
       "<tensorflow.python.keras.callbacks.History at 0x7feae12edf50>"
      ]
     },
     "execution_count": 25,
     "metadata": {
      "tags": []
     },
     "output_type": "execute_result"
    }
   ],
   "source": [
    "model.fit(train_set, \n",
    "        validation_data=(valid_set), \n",
    "        epochs=20, \n",
    "        callbacks=[checkpoint], \n",
    "        )"
   ]
  },
  {
   "cell_type": "markdown",
   "metadata": {
    "id": "paeq-Xus5eI8"
   },
   "source": [
    "`load_weights` 로 저장한 모델 로드"
   ]
  },
  {
   "cell_type": "code",
   "execution_count": null,
   "metadata": {
    "colab": {
     "base_uri": "https://localhost:8080/"
    },
    "id": "rJTuV1s-5cB8",
    "outputId": "e770a211-11e4-47e0-eee3-39e1a3801699"
   },
   "outputs": [
    {
     "data": {
      "text/plain": [
       "<tensorflow.python.training.tracking.util.CheckpointLoadStatus at 0x7fea263fab10>"
      ]
     },
     "execution_count": 45,
     "metadata": {
      "tags": []
     },
     "output_type": "execute_result"
    }
   ],
   "source": [
    "model.load_weights(checkpoint_path)"
   ]
  },
  {
   "cell_type": "markdown",
   "metadata": {
    "id": "E_OWIGHV5lNs"
   },
   "source": [
    "## 모델 검증"
   ]
  },
  {
   "cell_type": "code",
   "execution_count": null,
   "metadata": {
    "id": "Ardw40zS53CV"
   },
   "outputs": [],
   "source": [
    "# HINT: Your neural network must have a validation MAE of approximately 0.055 or\n",
    "# less on the normalized validation dataset for top marks."
   ]
  },
  {
   "cell_type": "code",
   "execution_count": null,
   "metadata": {
    "colab": {
     "base_uri": "https://localhost:8080/"
    },
    "id": "mE6m1sRE5ih8",
    "outputId": "ae66dacd-17df-4f49-82d5-08c60a3cdd4c"
   },
   "outputs": [
    {
     "name": "stdout",
     "output_type": "stream",
     "text": [
      "539/539 [==============================] - 4s 3ms/step - loss: 0.0508 - mae: 0.0508\n"
     ]
    },
    {
     "data": {
      "text/plain": [
       "[0.050766561180353165, 0.05076655000448227]"
      ]
     },
     "execution_count": 46,
     "metadata": {
      "tags": []
     },
     "output_type": "execute_result"
    }
   ],
   "source": [
    "model.evaluate(valid_set)"
   ]
  },
  {
   "cell_type": "code",
   "execution_count": null,
   "metadata": {
    "id": "5M2NS9MbKTay"
   },
   "outputs": [],
   "source": []
  }
 ],
 "metadata": {
  "accelerator": "GPU",
  "colab": {
   "collapsed_sections": [],
   "provenance": []
  },
  "kernelspec": {
   "display_name": "Python 3 (ipykernel)",
   "language": "python",
   "name": "python3"
  },
  "language_info": {
   "codemirror_mode": {
    "name": "ipython",
    "version": 3
   },
   "file_extension": ".py",
   "mimetype": "text/x-python",
   "name": "python",
   "nbconvert_exporter": "python",
   "pygments_lexer": "ipython3",
   "version": "3.10.0"
  }
 },
 "nbformat": 4,
 "nbformat_minor": 4
}
