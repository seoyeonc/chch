{
 "cells": [
  {
   "cell_type": "markdown",
   "id": "2b51dd55-f7ea-416d-bf0b-0bf7688f5667",
   "metadata": {
    "tags": []
   },
   "source": [
    "# 고급회귀분석 과제\n",
    "> \n",
    "\n",
    "- toc:true\n",
    "- branch: master\n",
    "- badges: true\n",
    "- comments: false\n",
    "- author: 최서연\n",
    "- categories: [Advanced Regression Analysis]"
   ]
  },
  {
   "cell_type": "markdown",
   "id": "aa2c04e0-64ee-4686-9608-f77c441671a5",
   "metadata": {},
   "source": [
    "---"
   ]
  },
  {
   "cell_type": "markdown",
   "id": "478dd71a-7a4c-4e03-a0af-7c9cc5fe21e5",
   "metadata": {},
   "source": [
    "과제1\n",
    "\n",
    "**풀이** :\n",
    "\n",
    "R 이용하지 않고 직접 계산. (R로 단순 계산은 해도 됨)\n",
    "\n",
    "모든 문제에는 풀이가 있어야 함.\n",
    "\n",
    "풀이 없이 답만 있는 경우 '0'점 처리.\n",
    "\n",
    " \n",
    "\n",
    "- 제출 기한 : 10월 03일\n",
    "\n",
    "**제출 방법** : \n",
    "\n",
    "직접 제출 (607호) 또는 스캔, 사진, tex 작업, 문서 작업 등 후 pdf로 변환 후 제출\n",
    "\n",
    "pdf 아닌 경우 미제출 처리"
   ]
  },
  {
   "cell_type": "markdown",
   "id": "8e4a318e-264d-4024-aafc-6b54bcd643ba",
   "metadata": {},
   "source": [
    "---"
   ]
  },
  {
   "cell_type": "markdown",
   "id": "36963536-97c9-446d-b9a4-5360577d62e6",
   "metadata": {},
   "source": [
    "1. 원점을 지나는 회귀모형은 다음과 같이 정의할 수 있다.\n",
    "$$y_i =β_1x_i +ε_i, ε_i ∼_{i.i.d.} N(0,σ^2), i=1,...,n$$\n",
    "오차제곱합을 정의하고 $β_1$ 의 최소제곱추정량 ($\\hat{β}_1$)을 구하여라."
   ]
  },
  {
   "cell_type": "markdown",
   "id": "5832b8bd-b376-4bc3-91ef-0a75dd40c4e2",
   "metadata": {},
   "source": [
    "$SST = SSR + SSE$\n",
    "\n",
    "$SSE = SST - SSR$\n",
    "\n",
    "$\\sum(\\bar{y_i} - \\hat{y_i}) = \\sum(y_i - \\hat{y}_i)^2 - \\sum(y_i - \\bar{y_i})^2$\n",
    "\n"
   ]
  },
  {
   "cell_type": "markdown",
   "id": "15ae647d-7ce0-4bc7-ba20-08bfbac1d726",
   "metadata": {},
   "source": [
    "2. 자동차의 무게가 무거우면 이를 움직이는 데 더 많은 연료가 소모된다는 것은 알려진 사실이다. 자동차의 무게와 자동차를 1km 움직이는 데 필요한 에너지량과의 함수관계를 정확히 판단하기 위하여 A 자동차회사는 다음의 자료를 실험을 통하여 얻었다. 실험 비용이 많이 드는 관계로 9번만 실험하였다."
   ]
  },
  {
   "cell_type": "markdown",
   "id": "493697c0-13b9-4222-999a-2439d10ace23",
   "metadata": {},
   "source": [
    "|무게 X(단위: 1,000kg)|에너지소모량 Y(단위: 1,000btu)|\n",
    "|:---:|:---:|\n",
    "|0.9|2.0|\n",
    "|1.3|2.6|\n",
    "|2.1|4.3|\n",
    "|2.5|5.8|\n",
    "|2.4|5.1|\n",
    "|1.7|3.2|\n",
    "|0.7|1.8|\n",
    "|1.2|2.3|\n",
    "|1.6|3.0|"
   ]
  },
  {
   "cell_type": "markdown",
   "id": "4db6c19b-c4a6-41f9-b12d-31a315a6752c",
   "metadata": {},
   "source": [
    "(1) 이 데이터의 산점도를 그리시오."
   ]
  },
  {
   "cell_type": "code",
   "execution_count": 30,
   "id": "9f8db68c-0bd5-43bc-b19d-4e8b81d32aa0",
   "metadata": {},
   "outputs": [
    {
     "data": {
      "text/html": [
       "<table class=\"dataframe\">\n",
       "<caption>A data.frame: 9 × 2</caption>\n",
       "<thead>\n",
       "\t<tr><th scope=col>x</th><th scope=col>y</th></tr>\n",
       "\t<tr><th scope=col>&lt;dbl&gt;</th><th scope=col>&lt;dbl&gt;</th></tr>\n",
       "</thead>\n",
       "<tbody>\n",
       "\t<tr><td>0.9</td><td>2.0</td></tr>\n",
       "\t<tr><td>1.3</td><td>2.6</td></tr>\n",
       "\t<tr><td>2.1</td><td>4.3</td></tr>\n",
       "\t<tr><td>2.5</td><td>5.8</td></tr>\n",
       "\t<tr><td>2.4</td><td>5.1</td></tr>\n",
       "\t<tr><td>1.7</td><td>3.2</td></tr>\n",
       "\t<tr><td>0.7</td><td>1.8</td></tr>\n",
       "\t<tr><td>1.2</td><td>2.3</td></tr>\n",
       "\t<tr><td>1.6</td><td>3.0</td></tr>\n",
       "</tbody>\n",
       "</table>\n"
      ],
      "text/latex": [
       "A data.frame: 9 × 2\n",
       "\\begin{tabular}{ll}\n",
       " x & y\\\\\n",
       " <dbl> & <dbl>\\\\\n",
       "\\hline\n",
       "\t 0.9 & 2.0\\\\\n",
       "\t 1.3 & 2.6\\\\\n",
       "\t 2.1 & 4.3\\\\\n",
       "\t 2.5 & 5.8\\\\\n",
       "\t 2.4 & 5.1\\\\\n",
       "\t 1.7 & 3.2\\\\\n",
       "\t 0.7 & 1.8\\\\\n",
       "\t 1.2 & 2.3\\\\\n",
       "\t 1.6 & 3.0\\\\\n",
       "\\end{tabular}\n"
      ],
      "text/markdown": [
       "\n",
       "A data.frame: 9 × 2\n",
       "\n",
       "| x &lt;dbl&gt; | y &lt;dbl&gt; |\n",
       "|---|---|\n",
       "| 0.9 | 2.0 |\n",
       "| 1.3 | 2.6 |\n",
       "| 2.1 | 4.3 |\n",
       "| 2.5 | 5.8 |\n",
       "| 2.4 | 5.1 |\n",
       "| 1.7 | 3.2 |\n",
       "| 0.7 | 1.8 |\n",
       "| 1.2 | 2.3 |\n",
       "| 1.6 | 3.0 |\n",
       "\n"
      ],
      "text/plain": [
       "  x   y  \n",
       "1 0.9 2.0\n",
       "2 1.3 2.6\n",
       "3 2.1 4.3\n",
       "4 2.5 5.8\n",
       "5 2.4 5.1\n",
       "6 1.7 3.2\n",
       "7 0.7 1.8\n",
       "8 1.2 2.3\n",
       "9 1.6 3.0"
      ]
     },
     "metadata": {},
     "output_type": "display_data"
    }
   ],
   "source": [
    "dt <- data.frame(x = c(0.9,1.3,2.1,2.5,2.4,1.7,0.7,1.2,1.6),\n",
    "                 y = c(2.0,2.6,4.3,5.8,5.1,3.2,1.8,2.3,3.0))\n",
    "dt"
   ]
  },
  {
   "cell_type": "code",
   "execution_count": 31,
   "id": "3ecb3ee3-26d8-48e7-8fb9-0635dd06ed55",
   "metadata": {},
   "outputs": [
    {
     "data": {
      "image/png": "[encoded data removed]",
      "text/plain": [
       "plot without title"
      ]
     },
     "metadata": {
      "image/png": {
       "height": 420,
       "width": 420
      }
     },
     "output_type": "display_data"
    }
   ],
   "source": [
    "plot(y~x, \n",
    "     data = dt,\n",
    "     xlab = \"무게\",\n",
    "     ylab = \"에너지소모량\",\n",
    "     pch  = 16,\n",
    "     cex  = 1,\n",
    "     col  = \"darkorange\")"
   ]
  },
  {
   "cell_type": "markdown",
   "id": "ee41073e-e16f-43e1-a6a7-b7ecdd0bc9b8",
   "metadata": {},
   "source": [
    "(2) 최소제곱법의 의한 회귀직선을 적합시키시오."
   ]
  },
  {
   "cell_type": "code",
   "execution_count": 32,
   "id": "551c516b-e6ec-4263-a089-375e13d5320f",
   "metadata": {},
   "outputs": [],
   "source": [
    "dt1 <- data.frame(\n",
    "  i = 1:nrow(dt),\n",
    "  x = dt$x,\n",
    "  y = dt$y,\n",
    "  x_barx = dt$x - mean(dt$x),\n",
    "  y_bary = dt$y - mean(dt$y)) "
   ]
  },
  {
   "cell_type": "code",
   "execution_count": 33,
   "id": "51970fdc-5efe-43a0-b259-34a340d990aa",
   "metadata": {},
   "outputs": [],
   "source": [
    "dt1$x_barx2 <- dt1$x_barx^2\n",
    "dt1$y_bary2 <- dt1$y_bary^2\n",
    "dt1$xy <-dt1$x_barx * dt1$y_bary"
   ]
  },
  {
   "cell_type": "code",
   "execution_count": 34,
   "id": "7ce76acd-c0c9-4ac1-9dc2-08f5d3021f00",
   "metadata": {},
   "outputs": [
    {
     "data": {
      "text/html": [
       "<table class=\"dataframe\">\n",
       "<caption>A data.frame: 9 × 8</caption>\n",
       "<thead>\n",
       "\t<tr><th scope=col>i</th><th scope=col>x</th><th scope=col>y</th><th scope=col>x_barx</th><th scope=col>y_bary</th><th scope=col>x_barx2</th><th scope=col>y_bary2</th><th scope=col>xy</th></tr>\n",
       "\t<tr><th scope=col>&lt;int&gt;</th><th scope=col>&lt;dbl&gt;</th><th scope=col>&lt;dbl&gt;</th><th scope=col>&lt;dbl&gt;</th><th scope=col>&lt;dbl&gt;</th><th scope=col>&lt;dbl&gt;</th><th scope=col>&lt;dbl&gt;</th><th scope=col>&lt;dbl&gt;</th></tr>\n",
       "</thead>\n",
       "<tbody>\n",
       "\t<tr><td>1</td><td>0.9</td><td>2.0</td><td>-0.7</td><td>-1.3444444</td><td>0.49</td><td>1.8075309</td><td> 0.94111111</td></tr>\n",
       "\t<tr><td>2</td><td>1.3</td><td>2.6</td><td>-0.3</td><td>-0.7444444</td><td>0.09</td><td>0.5541975</td><td> 0.22333333</td></tr>\n",
       "\t<tr><td>3</td><td>2.1</td><td>4.3</td><td> 0.5</td><td> 0.9555556</td><td>0.25</td><td>0.9130864</td><td> 0.47777778</td></tr>\n",
       "\t<tr><td>4</td><td>2.5</td><td>5.8</td><td> 0.9</td><td> 2.4555556</td><td>0.81</td><td>6.0297531</td><td> 2.21000000</td></tr>\n",
       "\t<tr><td>5</td><td>2.4</td><td>5.1</td><td> 0.8</td><td> 1.7555556</td><td>0.64</td><td>3.0819753</td><td> 1.40444444</td></tr>\n",
       "\t<tr><td>6</td><td>1.7</td><td>3.2</td><td> 0.1</td><td>-0.1444444</td><td>0.01</td><td>0.0208642</td><td>-0.01444444</td></tr>\n",
       "\t<tr><td>7</td><td>0.7</td><td>1.8</td><td>-0.9</td><td>-1.5444444</td><td>0.81</td><td>2.3853086</td><td> 1.39000000</td></tr>\n",
       "\t<tr><td>8</td><td>1.2</td><td>2.3</td><td>-0.4</td><td>-1.0444444</td><td>0.16</td><td>1.0908642</td><td> 0.41777778</td></tr>\n",
       "\t<tr><td>9</td><td>1.6</td><td>3.0</td><td> 0.0</td><td>-0.3444444</td><td>0.00</td><td>0.1186420</td><td> 0.00000000</td></tr>\n",
       "</tbody>\n",
       "</table>\n"
      ],
      "text/latex": [
       "A data.frame: 9 × 8\n",
       "\\begin{tabular}{llllllll}\n",
       " i & x & y & x\\_barx & y\\_bary & x\\_barx2 & y\\_bary2 & xy\\\\\n",
       " <int> & <dbl> & <dbl> & <dbl> & <dbl> & <dbl> & <dbl> & <dbl>\\\\\n",
       "\\hline\n",
       "\t 1 & 0.9 & 2.0 & -0.7 & -1.3444444 & 0.49 & 1.8075309 &  0.94111111\\\\\n",
       "\t 2 & 1.3 & 2.6 & -0.3 & -0.7444444 & 0.09 & 0.5541975 &  0.22333333\\\\\n",
       "\t 3 & 2.1 & 4.3 &  0.5 &  0.9555556 & 0.25 & 0.9130864 &  0.47777778\\\\\n",
       "\t 4 & 2.5 & 5.8 &  0.9 &  2.4555556 & 0.81 & 6.0297531 &  2.21000000\\\\\n",
       "\t 5 & 2.4 & 5.1 &  0.8 &  1.7555556 & 0.64 & 3.0819753 &  1.40444444\\\\\n",
       "\t 6 & 1.7 & 3.2 &  0.1 & -0.1444444 & 0.01 & 0.0208642 & -0.01444444\\\\\n",
       "\t 7 & 0.7 & 1.8 & -0.9 & -1.5444444 & 0.81 & 2.3853086 &  1.39000000\\\\\n",
       "\t 8 & 1.2 & 2.3 & -0.4 & -1.0444444 & 0.16 & 1.0908642 &  0.41777778\\\\\n",
       "\t 9 & 1.6 & 3.0 &  0.0 & -0.3444444 & 0.00 & 0.1186420 &  0.00000000\\\\\n",
       "\\end{tabular}\n"
      ],
      "text/markdown": [
       "\n",
       "A data.frame: 9 × 8\n",
       "\n",
       "| i &lt;int&gt; | x &lt;dbl&gt; | y &lt;dbl&gt; | x_barx &lt;dbl&gt; | y_bary &lt;dbl&gt; | x_barx2 &lt;dbl&gt; | y_bary2 &lt;dbl&gt; | xy &lt;dbl&gt; |\n",
       "|---|---|---|---|---|---|---|---|\n",
       "| 1 | 0.9 | 2.0 | -0.7 | -1.3444444 | 0.49 | 1.8075309 |  0.94111111 |\n",
       "| 2 | 1.3 | 2.6 | -0.3 | -0.7444444 | 0.09 | 0.5541975 |  0.22333333 |\n",
       "| 3 | 2.1 | 4.3 |  0.5 |  0.9555556 | 0.25 | 0.9130864 |  0.47777778 |\n",
       "| 4 | 2.5 | 5.8 |  0.9 |  2.4555556 | 0.81 | 6.0297531 |  2.21000000 |\n",
       "| 5 | 2.4 | 5.1 |  0.8 |  1.7555556 | 0.64 | 3.0819753 |  1.40444444 |\n",
       "| 6 | 1.7 | 3.2 |  0.1 | -0.1444444 | 0.01 | 0.0208642 | -0.01444444 |\n",
       "| 7 | 0.7 | 1.8 | -0.9 | -1.5444444 | 0.81 | 2.3853086 |  1.39000000 |\n",
       "| 8 | 1.2 | 2.3 | -0.4 | -1.0444444 | 0.16 | 1.0908642 |  0.41777778 |\n",
       "| 9 | 1.6 | 3.0 |  0.0 | -0.3444444 | 0.00 | 0.1186420 |  0.00000000 |\n",
       "\n"
      ],
      "text/plain": [
       "  i x   y   x_barx y_bary     x_barx2 y_bary2   xy         \n",
       "1 1 0.9 2.0 -0.7   -1.3444444 0.49    1.8075309  0.94111111\n",
       "2 2 1.3 2.6 -0.3   -0.7444444 0.09    0.5541975  0.22333333\n",
       "3 3 2.1 4.3  0.5    0.9555556 0.25    0.9130864  0.47777778\n",
       "4 4 2.5 5.8  0.9    2.4555556 0.81    6.0297531  2.21000000\n",
       "5 5 2.4 5.1  0.8    1.7555556 0.64    3.0819753  1.40444444\n",
       "6 6 1.7 3.2  0.1   -0.1444444 0.01    0.0208642 -0.01444444\n",
       "7 7 0.7 1.8 -0.9   -1.5444444 0.81    2.3853086  1.39000000\n",
       "8 8 1.2 2.3 -0.4   -1.0444444 0.16    1.0908642  0.41777778\n",
       "9 9 1.6 3.0  0.0   -0.3444444 0.00    0.1186420  0.00000000"
      ]
     },
     "metadata": {},
     "output_type": "display_data"
    }
   ],
   "source": [
    "dt1"
   ]
  },
  {
   "cell_type": "code",
   "execution_count": 35,
   "id": "f5f9b8aa-32bf-460a-895c-065e37809634",
   "metadata": {},
   "outputs": [
    {
     "data": {
      "text/html": [
       "<style>\n",
       ".dl-inline {width: auto; margin:0; padding: 0}\n",
       ".dl-inline>dt, .dl-inline>dd {float: none; width: auto; display: inline-block}\n",
       ".dl-inline>dt::after {content: \":\\0020\"; padding-right: .5ex}\n",
       ".dl-inline>dt:not(:first-of-type) {padding-left: .5ex}\n",
       "</style><dl class=dl-inline><dt>i</dt><dd>45</dd><dt>x</dt><dd>14.4</dd><dt>y</dt><dd>30.1</dd><dt>x_barx</dt><dd>0</dd><dt>y_bary</dt><dd>0</dd><dt>x_barx2</dt><dd>3.26</dd><dt>y_bary2</dt><dd>16.002</dd><dt>xy</dt><dd>7.05</dd></dl>\n"
      ],
      "text/latex": [
       "\\begin{description*}\n",
       "\\item[i] 45\n",
       "\\item[x] 14.4\n",
       "\\item[y] 30.1\n",
       "\\item[x\\textbackslash{}\\_barx] 0\n",
       "\\item[y\\textbackslash{}\\_bary] 0\n",
       "\\item[x\\textbackslash{}\\_barx2] 3.26\n",
       "\\item[y\\textbackslash{}\\_bary2] 16.002\n",
       "\\item[xy] 7.05\n",
       "\\end{description*}\n"
      ],
      "text/markdown": [
       "i\n",
       ":   45x\n",
       ":   14.4y\n",
       ":   30.1x_barx\n",
       ":   0y_bary\n",
       ":   0x_barx2\n",
       ":   3.26y_bary2\n",
       ":   16.002xy\n",
       ":   7.05\n",
       "\n"
      ],
      "text/plain": [
       "      i       x       y  x_barx  y_bary x_barx2 y_bary2      xy \n",
       " 45.000  14.400  30.100   0.000   0.000   3.260  16.002   7.050 "
      ]
     },
     "metadata": {},
     "output_type": "display_data"
    }
   ],
   "source": [
    "round(colSums(dt1),3)"
   ]
  },
  {
   "cell_type": "markdown",
   "id": "7c1a1de4-e6ac-43e8-9d21-3ffe19b3b5e2",
   "metadata": {},
   "source": [
    "$\\hat{\\beta_1} = \\frac{S_{xy}}{S_{xx}}$\n",
    "\n",
    "$\\hat{\\beta_0} = \\bar{y} - \\hat{\\beta_1}\\bar{x}$"
   ]
  },
  {
   "cell_type": "code",
   "execution_count": 36,
   "id": "2886869d-b90f-416c-9afd-82aac9e1d693",
   "metadata": {},
   "outputs": [],
   "source": [
    "beta1 <- as.numeric(colSums(dt1)[8]/colSums(dt1)[6])\n",
    "beta0 <- mean(dt$y) - beta1 *  mean(dt$x)"
   ]
  },
  {
   "cell_type": "code",
   "execution_count": 37,
   "id": "30771b6b-c9aa-428c-909d-d5a33af8757a",
   "metadata": {},
   "outputs": [
    {
     "name": "stdout",
     "output_type": "stream",
     "text": [
      "hat beta0 =  -0.1156783hat beta1 =  2.162577"
     ]
    }
   ],
   "source": [
    "cat(\"hat beta0 = \", beta0)\n",
    "cat(\"hat beta1 = \", beta1)"
   ]
  },
  {
   "cell_type": "markdown",
   "id": "642553ba-9f2a-4157-9e60-de8bb0707c50",
   "metadata": {},
   "source": [
    "- $\\hat{y} =  -0.1156783 +  2.162577x$의 모형으로 적합되었다."
   ]
  },
  {
   "cell_type": "markdown",
   "id": "4f327665-c285-4076-b537-2d8097a58ed7",
   "metadata": {},
   "source": [
    "(3) 데이터의 산점도를 그리고 추정한 회귀직선을 (1)에서 그린 산점도 위에 그리시오."
   ]
  },
  {
   "cell_type": "code",
   "execution_count": 54,
   "id": "40de8adb-e60f-4878-8297-05d800d26c9e",
   "metadata": {},
   "outputs": [
    {
     "data": {
      "image/png": "[encoded data removed]",
      "text/plain": [
       "plot without title"
      ]
     },
     "metadata": {
      "image/png": {
       "height": 420,
       "width": 420
      }
     },
     "output_type": "display_data"
    }
   ],
   "source": [
    "plot(y~x, \n",
    "     data = dt,\n",
    "     xlab = \"무게\",\n",
    "     ylab = \"에너지소모량\",\n",
    "     pch  = 16,\n",
    "     cex  = 1,\n",
    "     col  = \"darkorange\")\n",
    "par(new=TRUE)\n",
    "plot(x,-0.1156783 +  2.162577*dt$x,\n",
    "     xlab = \"\",\n",
    "     ylab = \"\",\n",
    "     pch  = 16,\n",
    "     cex  = 1,type='l',\n",
    "     col  = \"blue\")"
   ]
  },
  {
   "cell_type": "markdown",
   "id": "6147bf12-dd9d-4a55-b58d-8f96da76d6ff",
   "metadata": {},
   "source": [
    "(4) 결정계수와 상관계수를 구하시오."
   ]
  },
  {
   "cell_type": "code",
   "execution_count": 55,
   "id": "09b2a692-1289-4af1-93ff-786d499292ca",
   "metadata": {},
   "outputs": [
    {
     "data": {
      "text/html": [
       "0.976090685311348"
      ],
      "text/latex": [
       "0.976090685311348"
      ],
      "text/markdown": [
       "0.976090685311348"
      ],
      "text/plain": [
       "[1] 0.9760907"
      ]
     },
     "metadata": {},
     "output_type": "display_data"
    }
   ],
   "source": [
    "cor(x,y)"
   ]
  },
  {
   "cell_type": "markdown",
   "id": "6f9b1806-bce4-4180-8cd2-26c2f351fe8b",
   "metadata": {},
   "source": [
    "- 상관계수는 $0.976090685311348$ 로, $x,y$간 양의 상관관계가 높았다."
   ]
  },
  {
   "cell_type": "markdown",
   "id": "657e0f58-3d23-4c30-a28f-b8cbd6e6ee73",
   "metadata": {},
   "source": [
    "$R^2 = \\frac{SSR}{SST} = r^2$"
   ]
  },
  {
   "cell_type": "code",
   "execution_count": 61,
   "id": "0deb2abd-47fd-4008-9f84-97d873e1a4c2",
   "metadata": {},
   "outputs": [],
   "source": [
    "SST = sum((y - mean(y))^2)"
   ]
  },
  {
   "cell_type": "code",
   "execution_count": 64,
   "id": "0f984477-2fdb-4650-8ed4-af0337538c7f",
   "metadata": {},
   "outputs": [],
   "source": [
    "SSR = sum(((-0.1156783 +  2.162577*dt$x)-mean(y))^2)"
   ]
  },
  {
   "cell_type": "code",
   "execution_count": 65,
   "id": "1430d28a-3ecf-420a-9aa4-8ea2b58a2e68",
   "metadata": {},
   "outputs": [],
   "source": [
    "SSE = SST - SSR"
   ]
  },
  {
   "cell_type": "code",
   "execution_count": 71,
   "id": "7431e5c5-b4f1-4211-b5fd-6b884ce70f6f",
   "metadata": {},
   "outputs": [
    {
     "name": "stdout",
     "output_type": "stream",
     "text": [
      "SST =  16.00222\n",
      "SSR =  15.24617\n",
      "SSE =  0.7560522"
     ]
    }
   ],
   "source": [
    "cat(\"SST = \", SST)\n",
    "cat(\"\\nSSR = \", SSR)\n",
    "cat(\"\\nSSE = \", SSE)"
   ]
  },
  {
   "cell_type": "code",
   "execution_count": 66,
   "id": "80c22763-858c-4b19-b73c-96949420e645",
   "metadata": {},
   "outputs": [
    {
     "data": {
      "text/html": [
       "0.95275330164195"
      ],
      "text/latex": [
       "0.95275330164195"
      ],
      "text/markdown": [
       "0.95275330164195"
      ],
      "text/plain": [
       "[1] 0.9527533"
      ]
     },
     "metadata": {},
     "output_type": "display_data"
    }
   ],
   "source": [
    "SSR/SST"
   ]
  },
  {
   "cell_type": "markdown",
   "id": "9a3522b0-ddda-409b-af9d-c4c8d0def316",
   "metadata": {},
   "source": [
    "- 결정계수는 약 95%로, 설명력도 높은 편이라고 말할 수 있다."
   ]
  },
  {
   "cell_type": "markdown",
   "id": "7b7143e2-e82f-4f92-a2a5-7405da1298fd",
   "metadata": {},
   "source": [
    "(5) 분산분석표를 작성하고 회귀직선의 유의 여부를 검정하시오 (유의수준 $α = 0.05$ 사용)."
   ]
  },
  {
   "cell_type": "code",
   "execution_count": 74,
   "id": "1ea29aca-0431-4d46-99ec-46150c77a32e",
   "metadata": {},
   "outputs": [
    {
     "name": "stdout",
     "output_type": "stream",
     "text": [
      "SSR =  15.24617\n",
      "SSE =  0.1080075"
     ]
    }
   ],
   "source": [
    "cat(\"MSR = \", SSR/1)\n",
    "cat(\"\\nMSE = \", SSE/7)"
   ]
  },
  {
   "cell_type": "code",
   "execution_count": 76,
   "id": "86cb5350-ca14-4c9c-a927-7dda3d4b4b1b",
   "metadata": {},
   "outputs": [
    {
     "name": "stdout",
     "output_type": "stream",
     "text": [
      "F value =  141.1584"
     ]
    }
   ],
   "source": [
    "cat(\"F value = \",15.24617/0.1080075)"
   ]
  },
  {
   "cell_type": "code",
   "execution_count": 77,
   "id": "87bc9df9-ee32-4c71-a218-d2ed614e9b80",
   "metadata": {},
   "outputs": [
    {
     "name": "stdout",
     "output_type": "stream",
     "text": [
      "p value =  1.614672e-07"
     ]
    }
   ],
   "source": [
    "cat(\"p value = \",df(141.15843807143,1,7))"
   ]
  },
  {
   "cell_type": "markdown",
   "id": "76fc885b-d447-4b44-ba7f-bebaec66d4c5",
   "metadata": {},
   "source": [
    "||df|sum of square|mean of square| F value| p value|\n",
    "|:---:|:---:|:---:|:---:|:---:|:---:|\n",
    "|x|1|15.24617|15.24617|141.1584|1.614672e-07|\n",
    "|Residuals|7|0.7560522|0.1080075|||"
   ]
  },
  {
   "cell_type": "markdown",
   "id": "6991fa68-fa52-46c0-9be4-e728eeeeb6a3",
   "metadata": {},
   "source": [
    "- F값은 141.1584, p value는 1.614672e-07가 나왔다.\n",
    "- 유의수준 5%에서 모형이 유의하다."
   ]
  },
  {
   "cell_type": "markdown",
   "id": "165b186d-8585-44b2-88a0-9b7bbf5fa48d",
   "metadata": {},
   "source": [
    "OR"
   ]
  },
  {
   "cell_type": "code",
   "execution_count": 120,
   "id": "270bee14-93e2-4e08-8959-a1e6ba7624ce",
   "metadata": {},
   "outputs": [],
   "source": [
    "model1 = lm(y~x,dt)"
   ]
  },
  {
   "cell_type": "code",
   "execution_count": 121,
   "id": "dda93a4a-f290-4c47-903a-a15c3e70c42f",
   "metadata": {},
   "outputs": [
    {
     "data": {
      "text/html": [
       "<table class=\"dataframe\">\n",
       "<caption>A anova: 2 × 5</caption>\n",
       "<thead>\n",
       "\t<tr><th></th><th scope=col>Df</th><th scope=col>Sum Sq</th><th scope=col>Mean Sq</th><th scope=col>F value</th><th scope=col>Pr(&gt;F)</th></tr>\n",
       "\t<tr><th></th><th scope=col>&lt;int&gt;</th><th scope=col>&lt;dbl&gt;</th><th scope=col>&lt;dbl&gt;</th><th scope=col>&lt;dbl&gt;</th><th scope=col>&lt;dbl&gt;</th></tr>\n",
       "</thead>\n",
       "<tbody>\n",
       "\t<tr><th scope=row>x</th><td>1</td><td>15.2461656</td><td>15.2461656</td><td>141.1576</td><td>6.798033e-06</td></tr>\n",
       "\t<tr><th scope=row>Residuals</th><td>7</td><td> 0.7560566</td><td> 0.1080081</td><td>      NA</td><td>          NA</td></tr>\n",
       "</tbody>\n",
       "</table>\n"
      ],
      "text/latex": [
       "A anova: 2 × 5\n",
       "\\begin{tabular}{r|lllll}\n",
       "  & Df & Sum Sq & Mean Sq & F value & Pr(>F)\\\\\n",
       "  & <int> & <dbl> & <dbl> & <dbl> & <dbl>\\\\\n",
       "\\hline\n",
       "\tx & 1 & 15.2461656 & 15.2461656 & 141.1576 & 6.798033e-06\\\\\n",
       "\tResiduals & 7 &  0.7560566 &  0.1080081 &       NA &           NA\\\\\n",
       "\\end{tabular}\n"
      ],
      "text/markdown": [
       "\n",
       "A anova: 2 × 5\n",
       "\n",
       "| <!--/--> | Df &lt;int&gt; | Sum Sq &lt;dbl&gt; | Mean Sq &lt;dbl&gt; | F value &lt;dbl&gt; | Pr(&gt;F) &lt;dbl&gt; |\n",
       "|---|---|---|---|---|---|\n",
       "| x | 1 | 15.2461656 | 15.2461656 | 141.1576 | 6.798033e-06 |\n",
       "| Residuals | 7 |  0.7560566 |  0.1080081 |       NA |           NA |\n",
       "\n"
      ],
      "text/plain": [
       "          Df Sum Sq     Mean Sq    F value  Pr(>F)      \n",
       "x         1  15.2461656 15.2461656 141.1576 6.798033e-06\n",
       "Residuals 7   0.7560566  0.1080081       NA           NA"
      ]
     },
     "metadata": {},
     "output_type": "display_data"
    }
   ],
   "source": [
    "anova(model1)"
   ]
  },
  {
   "cell_type": "markdown",
   "id": "899a093e-2c13-4454-a934-8c1b4478b670",
   "metadata": {},
   "source": [
    "(6) $β_0,β_1$ 에 대한 90% 신뢰구간을 구하시오."
   ]
  },
  {
   "cell_type": "code",
   "execution_count": 58,
   "id": "94888426-2fdb-4516-bcdd-f29494e455fc",
   "metadata": {},
   "outputs": [
    {
     "data": {
      "text/html": [
       "-2.36462425159278"
      ],
      "text/latex": [
       "-2.36462425159278"
      ],
      "text/markdown": [
       "-2.36462425159278"
      ],
      "text/plain": [
       "[1] -2.364624"
      ]
     },
     "metadata": {},
     "output_type": "display_data"
    },
    {
     "data": {
      "text/html": [
       "2.36462425159278"
      ],
      "text/latex": [
       "2.36462425159278"
      ],
      "text/markdown": [
       "2.36462425159278"
      ],
      "text/plain": [
       "[1] 2.364624"
      ]
     },
     "metadata": {},
     "output_type": "display_data"
    }
   ],
   "source": [
    "qt(0.025, 7)\n",
    "qt(0.975, 7)"
   ]
  },
  {
   "cell_type": "markdown",
   "id": "4eead4d1-d00d-47da-9c22-3cee7ad82896",
   "metadata": {},
   "source": [
    "$$\\beta_1 + t_{\\alpha/2,n-2} \\sqrt{\\frac{MSE}{S_{xx}}}$$"
   ]
  },
  {
   "cell_type": "code",
   "execution_count": 100,
   "id": "01cb1400-b2d8-4971-93d3-f960aa034845",
   "metadata": {},
   "outputs": [
    {
     "name": "stdout",
     "output_type": "stream",
     "text": [
      "Beta0 confidence level -0.8514394 - 0.6200828"
     ]
    }
   ],
   "source": [
    "cat(\"Beta0 confidence level\",beta0 + qt(0.025, 7) * sqrt((SSE/7)*(1/9 + mean(x)^2/sum((x - mean(x))^2))),\"-\",beta0 + qt(0.975, 7) * sqrt((SSE/7)*(1/9 + mean(x)^2/sum((x - mean(x))^2))))"
   ]
  },
  {
   "cell_type": "code",
   "execution_count": 102,
   "id": "ba68a834-8949-43e2-911e-48cdc3887753",
   "metadata": {},
   "outputs": [
    {
     "name": "stdout",
     "output_type": "stream",
     "text": [
      "Beta1 confidence level 1.732169 - 2.592985"
     ]
    }
   ],
   "source": [
    "cat(\"Beta1 confidence level\",beta1 + qt(0.025, 7) * sqrt((SSE/7)/sum((x - mean(x))^2)),'-',beta1 + qt(0.975, 7) * sqrt((SSE/7)/sum((x - mean(x))^2)))"
   ]
  },
  {
   "cell_type": "markdown",
   "id": "bde858db-4aa1-4d36-82d1-0cd132275c3b",
   "metadata": {},
   "source": [
    "- $\\beta_0$의 신뢰구간은 0을 포함하며 유의하지 않음을 알 수 있다,\n",
    "- $\\beta_1$의 신뢰구간은 0을 포함하지 않으며, 유의함을 알 수 있다."
   ]
  },
  {
   "cell_type": "markdown",
   "id": "60cbedae-1555-4dc4-862b-5f94346804f2",
   "metadata": {},
   "source": [
    "OR"
   ]
  },
  {
   "cell_type": "code",
   "execution_count": 122,
   "id": "26d4b2c8-d06e-4981-b083-2c7fa2c05549",
   "metadata": {},
   "outputs": [
    {
     "data": {
      "text/html": [
       "<table class=\"dataframe\">\n",
       "<caption>A matrix: 2 × 2 of type dbl</caption>\n",
       "<thead>\n",
       "\t<tr><th></th><th scope=col>2.5 %</th><th scope=col>97.5 %</th></tr>\n",
       "</thead>\n",
       "<tbody>\n",
       "\t<tr><th scope=row>(Intercept)</th><td>-0.8514415</td><td>0.620085</td></tr>\n",
       "\t<tr><th scope=row>x</th><td> 1.7321676</td><td>2.592986</td></tr>\n",
       "</tbody>\n",
       "</table>\n"
      ],
      "text/latex": [
       "A matrix: 2 × 2 of type dbl\n",
       "\\begin{tabular}{r|ll}\n",
       "  & 2.5 \\% & 97.5 \\%\\\\\n",
       "\\hline\n",
       "\t(Intercept) & -0.8514415 & 0.620085\\\\\n",
       "\tx &  1.7321676 & 2.592986\\\\\n",
       "\\end{tabular}\n"
      ],
      "text/markdown": [
       "\n",
       "A matrix: 2 × 2 of type dbl\n",
       "\n",
       "| <!--/--> | 2.5 % | 97.5 % |\n",
       "|---|---|---|\n",
       "| (Intercept) | -0.8514415 | 0.620085 |\n",
       "| x |  1.7321676 | 2.592986 |\n",
       "\n"
      ],
      "text/plain": [
       "            2.5 %      97.5 %  \n",
       "(Intercept) -0.8514415 0.620085\n",
       "x            1.7321676 2.592986"
      ]
     },
     "metadata": {},
     "output_type": "display_data"
    }
   ],
   "source": [
    "confint(model1, level = 0.95)"
   ]
  },
  {
   "cell_type": "markdown",
   "id": "cd088ad9-7348-47a4-9b8f-65dc8e3879bd",
   "metadata": {},
   "source": [
    "(7) $H_0 :β_1 =1$ vs. $H_1 :β_1  \\ne 1$의 가설검정을 유의수준 $α=0.1$에서 수행하시오."
   ]
  },
  {
   "cell_type": "markdown",
   "id": "55f02cde-904f-41ab-8f34-142c8565a543",
   "metadata": {},
   "source": [
    "$\\text{t value} = \\frac{\\hat{\\beta_1} - 1}{s.e(\\hat{\\beta_1})}$"
   ]
  },
  {
   "cell_type": "code",
   "execution_count": 110,
   "id": "5c0a62d3-87c4-4db4-b63c-7ec7620c0d9f",
   "metadata": {},
   "outputs": [
    {
     "data": {
      "text/html": [
       "6.38709754532706"
      ],
      "text/latex": [
       "6.38709754532706"
      ],
      "text/markdown": [
       "6.38709754532706"
      ],
      "text/plain": [
       "[1] 6.387098"
      ]
     },
     "metadata": {},
     "output_type": "display_data"
    }
   ],
   "source": [
    "(beta1 - 1)/sqrt((SSE/7)/sum((x - mean(x))^2))"
   ]
  },
  {
   "cell_type": "code",
   "execution_count": 109,
   "id": "e966fde3-a152-4a4d-8abf-7f25f54a8bf1",
   "metadata": {},
   "outputs": [
    {
     "data": {
      "text/html": [
       "6.31375151467504"
      ],
      "text/latex": [
       "6.31375151467504"
      ],
      "text/markdown": [
       "6.31375151467504"
      ],
      "text/plain": [
       "[1] 6.313752"
      ]
     },
     "metadata": {},
     "output_type": "display_data"
    }
   ],
   "source": [
    "qt(0.95,1)"
   ]
  },
  {
   "cell_type": "markdown",
   "id": "1b7e83e7-0834-4d2c-80a4-68dfb077a32c",
   "metadata": {},
   "source": [
    "- t value가 $6.31375151467504$ 보다 크기 때문에 유의하지 않다는 결과가 나와 대립가설을 채택한다.\n",
    "- 따라서 $\\beta_1$은 1이 아니다."
   ]
  },
  {
   "cell_type": "markdown",
   "id": "7f103a9e-28ac-451e-98ef-6b1037bb986f",
   "metadata": {},
   "source": [
    "OR"
   ]
  },
  {
   "cell_type": "code",
   "execution_count": null,
   "id": "852fbd4a-b962-4aa4-be84-9440748876cc",
   "metadata": {},
   "outputs": [],
   "source": [
    "ttest()"
   ]
  },
  {
   "cell_type": "markdown",
   "id": "3cc194d4-4b82-43c3-b15c-495621fa79de",
   "metadata": {},
   "source": [
    "(8) 무게가 3,000kg 이 되는 차량의 평균 에너지 소모량을 예측하시오. 이것은 무게가 1,000kg이 되는 차량의 에너지 소모량의 몇 배인가?"
   ]
  },
  {
   "cell_type": "code",
   "execution_count": 115,
   "id": "12611203-7348-447b-acc6-ca6f616e06ba",
   "metadata": {},
   "outputs": [
    {
     "name": "stdout",
     "output_type": "stream",
     "text": [
      "평균 에너지 소모량 =  6.372052"
     ]
    }
   ],
   "source": [
    "cat(\"평균 에너지 소모량 = \",mean(beta0 + beta1 * 3))"
   ]
  },
  {
   "cell_type": "code",
   "execution_count": 119,
   "id": "9f0882dd-1ef6-45ad-acb4-fd087545cb43",
   "metadata": {},
   "outputs": [
    {
     "name": "stdout",
     "output_type": "stream",
     "text": [
      "3.113028 배"
     ]
    }
   ],
   "source": [
    "cat(mean(beta0 + beta1 * 3)/mean(beta0 + beta1 * 1),\"배\")"
   ]
  },
  {
   "cell_type": "markdown",
   "id": "d87a9b63-865c-4365-973a-0fd036199529",
   "metadata": {},
   "source": [
    "OR"
   ]
  },
  {
   "cell_type": "code",
   "execution_count": 131,
   "id": "b3b0257f-0dd7-4776-949a-e6c2516441bf",
   "metadata": {},
   "outputs": [
    {
     "data": {
      "text/html": [
       "<table class=\"dataframe\">\n",
       "<caption>A matrix: 1 × 3 of type dbl</caption>\n",
       "<thead>\n",
       "\t<tr><th></th><th scope=col>fit</th><th scope=col>lwr</th><th scope=col>upr</th></tr>\n",
       "</thead>\n",
       "<tbody>\n",
       "\t<tr><th scope=row>1</th><td>6.372052</td><td>5.716158</td><td>7.027945</td></tr>\n",
       "</tbody>\n",
       "</table>\n"
      ],
      "text/latex": [
       "A matrix: 1 × 3 of type dbl\n",
       "\\begin{tabular}{r|lll}\n",
       "  & fit & lwr & upr\\\\\n",
       "\\hline\n",
       "\t1 & 6.372052 & 5.716158 & 7.027945\\\\\n",
       "\\end{tabular}\n"
      ],
      "text/markdown": [
       "\n",
       "A matrix: 1 × 3 of type dbl\n",
       "\n",
       "| <!--/--> | fit | lwr | upr |\n",
       "|---|---|---|---|\n",
       "| 1 | 6.372052 | 5.716158 | 7.027945 |\n",
       "\n"
      ],
      "text/plain": [
       "  fit      lwr      upr     \n",
       "1 6.372052 5.716158 7.027945"
      ]
     },
     "metadata": {},
     "output_type": "display_data"
    }
   ],
   "source": [
    "predict(model1, \n",
    "        data.frame(x = 3),\n",
    "        interval = c(\"confidence\"), level = 0.95)"
   ]
  },
  {
   "cell_type": "code",
   "execution_count": 132,
   "id": "8331c3a1-b59c-46a3-9276-96b9b2e6a1c6",
   "metadata": {},
   "outputs": [
    {
     "data": {
      "text/html": [
       "<table class=\"dataframe\">\n",
       "<caption>A matrix: 1 × 3 of type dbl</caption>\n",
       "<thead>\n",
       "\t<tr><th></th><th scope=col>fit</th><th scope=col>lwr</th><th scope=col>upr</th></tr>\n",
       "</thead>\n",
       "<tbody>\n",
       "\t<tr><th scope=row>1</th><td>2.046898</td><td>1.681121</td><td>2.412676</td></tr>\n",
       "</tbody>\n",
       "</table>\n"
      ],
      "text/latex": [
       "A matrix: 1 × 3 of type dbl\n",
       "\\begin{tabular}{r|lll}\n",
       "  & fit & lwr & upr\\\\\n",
       "\\hline\n",
       "\t1 & 2.046898 & 1.681121 & 2.412676\\\\\n",
       "\\end{tabular}\n"
      ],
      "text/markdown": [
       "\n",
       "A matrix: 1 × 3 of type dbl\n",
       "\n",
       "| <!--/--> | fit | lwr | upr |\n",
       "|---|---|---|---|\n",
       "| 1 | 2.046898 | 1.681121 | 2.412676 |\n",
       "\n"
      ],
      "text/plain": [
       "  fit      lwr      upr     \n",
       "1 2.046898 1.681121 2.412676"
      ]
     },
     "metadata": {},
     "output_type": "display_data"
    }
   ],
   "source": [
    "predict(model1, \n",
    "        data.frame(x = 1),\n",
    "        interval = c(\"confidence\"), level = 0.95)"
   ]
  },
  {
   "cell_type": "code",
   "execution_count": 134,
   "id": "30a64e74-ff4c-4f1e-8407-f0f414e0b2b2",
   "metadata": {},
   "outputs": [
    {
     "name": "stdout",
     "output_type": "stream",
     "text": [
      "3.113029 배"
     ]
    }
   ],
   "source": [
    "cat(6.372052/2.046898 ,\"배\")"
   ]
  },
  {
   "cell_type": "markdown",
   "id": "e5689b4f-7985-4025-b0d4-909cc6b3bda2",
   "metadata": {},
   "source": [
    "(9) 무게가 3,000kg 이 되는 차량의 평균 에너지 소모량과 하나의 개별 $y$ 값의 90% 신뢰구간을 각각 구하시오."
   ]
  },
  {
   "cell_type": "code",
   "execution_count": 135,
   "id": "cf69adf7-60e5-4752-bdb5-3cc98f205053",
   "metadata": {},
   "outputs": [
    {
     "data": {
      "text/html": [
       "<table class=\"dataframe\">\n",
       "<caption>A matrix: 1 × 3 of type dbl</caption>\n",
       "<thead>\n",
       "\t<tr><th></th><th scope=col>fit</th><th scope=col>lwr</th><th scope=col>upr</th></tr>\n",
       "</thead>\n",
       "<tbody>\n",
       "\t<tr><th scope=row>1</th><td>6.372052</td><td>5.716158</td><td>7.027945</td></tr>\n",
       "</tbody>\n",
       "</table>\n"
      ],
      "text/latex": [
       "A matrix: 1 × 3 of type dbl\n",
       "\\begin{tabular}{r|lll}\n",
       "  & fit & lwr & upr\\\\\n",
       "\\hline\n",
       "\t1 & 6.372052 & 5.716158 & 7.027945\\\\\n",
       "\\end{tabular}\n"
      ],
      "text/markdown": [
       "\n",
       "A matrix: 1 × 3 of type dbl\n",
       "\n",
       "| <!--/--> | fit | lwr | upr |\n",
       "|---|---|---|---|\n",
       "| 1 | 6.372052 | 5.716158 | 7.027945 |\n",
       "\n"
      ],
      "text/plain": [
       "  fit      lwr      upr     \n",
       "1 6.372052 5.716158 7.027945"
      ]
     },
     "metadata": {},
     "output_type": "display_data"
    }
   ],
   "source": [
    "predict(model1, \n",
    "        data.frame(x = 3),\n",
    "        interval = c(\"confidence\"), level = 0.95)"
   ]
  },
  {
   "cell_type": "markdown",
   "id": "2816416e-9c93-4234-bbd0-b240da0541c1",
   "metadata": {},
   "source": [
    "개별 에너지 소모량"
   ]
  },
  {
   "cell_type": "code",
   "execution_count": 140,
   "id": "d6b08481-5b2e-4396-ab04-58d01be936c5",
   "metadata": {},
   "outputs": [
    {
     "data": {
      "text/html": [
       "<table class=\"dataframe\">\n",
       "<caption>A matrix: 1 × 3 of type dbl</caption>\n",
       "<thead>\n",
       "\t<tr><th></th><th scope=col>fit</th><th scope=col>lwr</th><th scope=col>upr</th></tr>\n",
       "</thead>\n",
       "<tbody>\n",
       "\t<tr><th scope=row>1</th><td>6.372052</td><td>5.355136</td><td>7.388968</td></tr>\n",
       "</tbody>\n",
       "</table>\n"
      ],
      "text/latex": [
       "A matrix: 1 × 3 of type dbl\n",
       "\\begin{tabular}{r|lll}\n",
       "  & fit & lwr & upr\\\\\n",
       "\\hline\n",
       "\t1 & 6.372052 & 5.355136 & 7.388968\\\\\n",
       "\\end{tabular}\n"
      ],
      "text/markdown": [
       "\n",
       "A matrix: 1 × 3 of type dbl\n",
       "\n",
       "| <!--/--> | fit | lwr | upr |\n",
       "|---|---|---|---|\n",
       "| 1 | 6.372052 | 5.355136 | 7.388968 |\n",
       "\n"
      ],
      "text/plain": [
       "  fit      lwr      upr     \n",
       "1 6.372052 5.355136 7.388968"
      ]
     },
     "metadata": {},
     "output_type": "display_data"
    }
   ],
   "source": [
    "predict(model1, \n",
    "        data.frame(x = 3),\n",
    "        interval = c(\"prediction\"), level = 0.95)"
   ]
  },
  {
   "cell_type": "markdown",
   "id": "5e3c3618-2c05-4ffe-9d5d-31c80dd15de0",
   "metadata": {},
   "source": [
    "(10) 잔차 $e_i = y_i − \\hat{y}_i$ 를 구하고 잔차의 합이 0 임을 확인하시오."
   ]
  },
  {
   "cell_type": "code",
   "execution_count": 142,
   "id": "263b5c0f-55e5-4397-9f87-f473d0a7cc1c",
   "metadata": {},
   "outputs": [],
   "source": [
    "epsilon = y - model1$fitted.values"
   ]
  },
  {
   "cell_type": "code",
   "execution_count": 144,
   "id": "7ef653da-1893-4586-9342-342470e563a7",
   "metadata": {},
   "outputs": [
    {
     "name": "stdout",
     "output_type": "stream",
     "text": [
      "잔차의 합 =  6.661338e-16"
     ]
    }
   ],
   "source": [
    "cat(\"잔차의 합 = \",sum(epsilon))"
   ]
  },
  {
   "cell_type": "markdown",
   "id": "43b06984-4ef2-48c3-92ea-9c80e34a7381",
   "metadata": {},
   "source": [
    "(11) 잔차들의 $x_i$ 에 대한 가중합, $\\sum x_ie_i$ 를 구하시오."
   ]
  },
  {
   "cell_type": "code",
   "execution_count": 146,
   "id": "0709e5ae-d48f-4ac5-9bd3-a8ec0387f656",
   "metadata": {},
   "outputs": [
    {
     "data": {
      "text/html": [
       "1.81799020282369e-15"
      ],
      "text/latex": [
       "1.81799020282369e-15"
      ],
      "text/markdown": [
       "1.81799020282369e-15"
      ],
      "text/plain": [
       "[1] 1.81799e-15"
      ]
     },
     "metadata": {},
     "output_type": "display_data"
    }
   ],
   "source": [
    "sum(x * epsilon)"
   ]
  },
  {
   "cell_type": "markdown",
   "id": "041164d6-f09c-4784-a72a-49dd37604d09",
   "metadata": {},
   "source": [
    "(12) 잔차들의 $\\hat{y}$에 대한 가중합 $\\sum \\hat{y}_ie_i$, 를 구하시오."
   ]
  },
  {
   "cell_type": "code",
   "execution_count": 147,
   "id": "41718459-f330-4ec8-a953-02674c172dcc",
   "metadata": {},
   "outputs": [
    {
     "data": {
      "text/html": [
       "3.5527136788005e-15"
      ],
      "text/latex": [
       "3.5527136788005e-15"
      ],
      "text/markdown": [
       "3.5527136788005e-15"
      ],
      "text/plain": [
       "[1] 3.552714e-15"
      ]
     },
     "metadata": {},
     "output_type": "display_data"
    }
   ],
   "source": [
    "sum(model1$fitted.values*epsilon)"
   ]
  },
  {
   "cell_type": "markdown",
   "id": "0da6d798-feec-4688-86c0-5d045b7c7677",
   "metadata": {},
   "source": [
    "(13) 원점을 지나는 회귀직선을 구하시오."
   ]
  },
  {
   "cell_type": "code",
   "execution_count": 148,
   "id": "9edb280a-19e0-4907-a9e4-c576fd7b8230",
   "metadata": {},
   "outputs": [],
   "source": [
    "model2 = lm(y ~ x + 0, dt)"
   ]
  },
  {
   "cell_type": "code",
   "execution_count": 153,
   "id": "665cbe79-2bcf-4729-b244-1568faf533b6",
   "metadata": {},
   "outputs": [
    {
     "data": {
      "text/plain": [
       "\n",
       "Call:\n",
       "lm(formula = y ~ x + 0, data = dt)\n",
       "\n",
       "Residuals:\n",
       "    Min      1Q  Median      3Q     Max \n",
       "-0.3687 -0.2191 -0.1084  0.1107  0.5519 \n",
       "\n",
       "Coefficients:\n",
       "  Estimate Std. Error t value Pr(>|t|)    \n",
       "x  2.09924    0.06053   34.68 5.23e-10 ***\n",
       "---\n",
       "Signif. codes:  0 ‘***’ 0.001 ‘**’ 0.01 ‘*’ 0.05 ‘.’ 0.1 ‘ ’ 1\n",
       "\n",
       "Residual standard error: 0.3104 on 8 degrees of freedom\n",
       "Multiple R-squared:  0.9934,\tAdjusted R-squared:  0.9926 \n",
       "F-statistic:  1203 on 1 and 8 DF,  p-value: 5.228e-10\n"
      ]
     },
     "metadata": {},
     "output_type": "display_data"
    }
   ],
   "source": [
    "summary(model2)"
   ]
  },
  {
   "cell_type": "markdown",
   "id": "276c8cf3-7185-4103-87fa-062d5026f97c",
   "metadata": {},
   "source": [
    "$y = 2.09924x$"
   ]
  },
  {
   "cell_type": "markdown",
   "id": "c58517d7-8981-4f08-879c-2cd9cdc32d2d",
   "metadata": {},
   "source": [
    "(14) 위 회귀직선에서 회귀계수(기울기)의 90% 신뢰구간을 구하시오."
   ]
  },
  {
   "cell_type": "code",
   "execution_count": 151,
   "id": "0b526cf4-ba90-48b6-95ca-ae15b7ee7d54",
   "metadata": {},
   "outputs": [
    {
     "data": {
      "text/html": [
       "<table class=\"dataframe\">\n",
       "<caption>A matrix: 1 × 2 of type dbl</caption>\n",
       "<thead>\n",
       "\t<tr><th></th><th scope=col>2.5 %</th><th scope=col>97.5 %</th></tr>\n",
       "</thead>\n",
       "<tbody>\n",
       "\t<tr><th scope=row>x</th><td>1.959648</td><td>2.238831</td></tr>\n",
       "</tbody>\n",
       "</table>\n"
      ],
      "text/latex": [
       "A matrix: 1 × 2 of type dbl\n",
       "\\begin{tabular}{r|ll}\n",
       "  & 2.5 \\% & 97.5 \\%\\\\\n",
       "\\hline\n",
       "\tx & 1.959648 & 2.238831\\\\\n",
       "\\end{tabular}\n"
      ],
      "text/markdown": [
       "\n",
       "A matrix: 1 × 2 of type dbl\n",
       "\n",
       "| <!--/--> | 2.5 % | 97.5 % |\n",
       "|---|---|---|\n",
       "| x | 1.959648 | 2.238831 |\n",
       "\n"
      ],
      "text/plain": [
       "  2.5 %    97.5 %  \n",
       "x 1.959648 2.238831"
      ]
     },
     "metadata": {},
     "output_type": "display_data"
    }
   ],
   "source": [
    "confint(model2, level = 0.95)"
   ]
  },
  {
   "cell_type": "markdown",
   "id": "fc1efb95-34bc-4dd1-a365-76ce546ecd0e",
   "metadata": {},
   "source": [
    "(15) 원점을 지나는 회귀직선의 결정계수를 구하시오."
   ]
  },
  {
   "cell_type": "code",
   "execution_count": 154,
   "id": "0434b56b-8e9f-4c85-a234-70d7159ab6d7",
   "metadata": {},
   "outputs": [
    {
     "data": {
      "text/plain": [
       "\n",
       "Call:\n",
       "lm(formula = y ~ x + 0, data = dt)\n",
       "\n",
       "Residuals:\n",
       "    Min      1Q  Median      3Q     Max \n",
       "-0.3687 -0.2191 -0.1084  0.1107  0.5519 \n",
       "\n",
       "Coefficients:\n",
       "  Estimate Std. Error t value Pr(>|t|)    \n",
       "x  2.09924    0.06053   34.68 5.23e-10 ***\n",
       "---\n",
       "Signif. codes:  0 ‘***’ 0.001 ‘**’ 0.01 ‘*’ 0.05 ‘.’ 0.1 ‘ ’ 1\n",
       "\n",
       "Residual standard error: 0.3104 on 8 degrees of freedom\n",
       "Multiple R-squared:  0.9934,\tAdjusted R-squared:  0.9926 \n",
       "F-statistic:  1203 on 1 and 8 DF,  p-value: 5.228e-10\n"
      ]
     },
     "metadata": {},
     "output_type": "display_data"
    }
   ],
   "source": [
    "summary(model2)"
   ]
  },
  {
   "cell_type": "markdown",
   "id": "6c716c3d-3a99-4508-a561-4be01ffe99d9",
   "metadata": {},
   "source": [
    "- Multiple R-squared는  0.9934고, Adjusted R-squared는  0.9926이다."
   ]
  },
  {
   "cell_type": "markdown",
   "id": "03228bb4-726b-4dfe-a424-fcc8a6722df7",
   "metadata": {},
   "source": [
    "(16) 원점을 포함한 회귀직선과 포함하지 않은 회귀직선의 결과를 비교하여라."
   ]
  },
  {
   "cell_type": "code",
   "execution_count": 155,
   "id": "79a285a9-2a9b-4783-bbba-71f0dffacaaa",
   "metadata": {},
   "outputs": [
    {
     "data": {
      "text/plain": [
       "\n",
       "Call:\n",
       "lm(formula = y ~ x, data = dt)\n",
       "\n",
       "Residuals:\n",
       "     Min       1Q   Median       3Q      Max \n",
       "-0.36070 -0.17941 -0.09567  0.16936  0.50924 \n",
       "\n",
       "Coefficients:\n",
       "            Estimate Std. Error t value Pr(>|t|)    \n",
       "(Intercept)  -0.1157     0.3112  -0.372    0.721    \n",
       "x             2.1626     0.1820  11.881  6.8e-06 ***\n",
       "---\n",
       "Signif. codes:  0 ‘***’ 0.001 ‘**’ 0.01 ‘*’ 0.05 ‘.’ 0.1 ‘ ’ 1\n",
       "\n",
       "Residual standard error: 0.3286 on 7 degrees of freedom\n",
       "Multiple R-squared:  0.9528,\tAdjusted R-squared:  0.946 \n",
       "F-statistic: 141.2 on 1 and 7 DF,  p-value: 6.798e-06\n"
      ]
     },
     "metadata": {},
     "output_type": "display_data"
    }
   ],
   "source": [
    "summary(model1)"
   ]
  },
  {
   "cell_type": "code",
   "execution_count": 156,
   "id": "1350531c-1318-4ad7-af87-877a443f8bfa",
   "metadata": {},
   "outputs": [
    {
     "data": {
      "text/plain": [
       "\n",
       "Call:\n",
       "lm(formula = y ~ x + 0, data = dt)\n",
       "\n",
       "Residuals:\n",
       "    Min      1Q  Median      3Q     Max \n",
       "-0.3687 -0.2191 -0.1084  0.1107  0.5519 \n",
       "\n",
       "Coefficients:\n",
       "  Estimate Std. Error t value Pr(>|t|)    \n",
       "x  2.09924    0.06053   34.68 5.23e-10 ***\n",
       "---\n",
       "Signif. codes:  0 ‘***’ 0.001 ‘**’ 0.01 ‘*’ 0.05 ‘.’ 0.1 ‘ ’ 1\n",
       "\n",
       "Residual standard error: 0.3104 on 8 degrees of freedom\n",
       "Multiple R-squared:  0.9934,\tAdjusted R-squared:  0.9926 \n",
       "F-statistic:  1203 on 1 and 8 DF,  p-value: 5.228e-10\n"
      ]
     },
     "metadata": {},
     "output_type": "display_data"
    }
   ],
   "source": [
    "summary(model2)"
   ]
  },
  {
   "cell_type": "markdown",
   "id": "4b99f65a-43a5-4fee-90c0-be8c64b15499",
   "metadata": {},
   "source": [
    "||원점 포함하지 않은 모델|원점 포함한 모델|\n",
    "|:--:|:--:|:--:|\n",
    "|Residual Standard Error|0.3286|0.3104|\n",
    "|$R^2$|0.9528|0.9934|\n",
    "|Adjusted $R^2$|0.946|0.9926|\n",
    "|F value|141.2|1203|\n",
    "|p value of model|6.798e-06|5.228e-10|\n",
    "|p va;ue of $\\beta_0$|0.721|NA|\n",
    "|p value of $\\beta_1$| 6.8e-06|5.23e-10|"
   ]
  },
  {
   "cell_type": "markdown",
   "id": "15b143be-e741-433e-aeda-8d73b1da4f63",
   "metadata": {},
   "source": [
    "- 원점을 포함한 모델은 원점을 포함하지 않은 모델보다 Residual Standard Error값이 작고,\n",
    "- 결정계수가 높아 설명력이 더 좋으며,\n",
    "- F값도 크다.\n",
    "\n",
    "공통\n",
    "- 두 모델 모두 식이 유의하나, \n",
    "    - 원점을 포함하지 않은 모델의 $\\beta_0$는 유의하지 않다는 결과가 나왔다."
   ]
  },
  {
   "cell_type": "markdown",
   "id": "360190bf-4055-48b6-858a-6cf4a1696c20",
   "metadata": {},
   "source": [
    "3. (강의노트 CH04, p9) 다음이 성립함을 증명하시오."
   ]
  },
  {
   "cell_type": "markdown",
   "id": "ae79ec21-7704-4950-8630-f75fe444ade2",
   "metadata": {},
   "source": [
    "$$\\hat{beta}_0 ~ N\\big( \\beta_0 , \\sigma^2\\big( \\frac{1}{n} + \\frac{\\bar{x}^2}{S_{(xx)}} \\big) \\big)$$"
   ]
  },
  {
   "cell_type": "code",
   "execution_count": null,
   "id": "df959967-8d38-476e-a26e-4597892f445f",
   "metadata": {},
   "outputs": [],
   "source": []
  }
 ],
 "metadata": {
  "kernelspec": {
   "display_name": "R",
   "language": "R",
   "name": "ir"
  },
  "language_info": {
   "codemirror_mode": "r",
   "file_extension": ".r",
   "mimetype": "text/x-r-source",
   "name": "R",
   "pygments_lexer": "r",
   "version": "4.1.2"
  }
 },
 "nbformat": 4,
 "nbformat_minor": 5
}
