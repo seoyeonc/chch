{
 "cells": [
  {
   "cell_type": "markdown",
   "id": "2b51dd55-f7ea-416d-bf0b-0bf7688f5667",
   "metadata": {
    "tags": []
   },
   "source": [
    "# 고급회귀분석 과제\n",
    "> \n",
    "\n",
    "- toc:true\n",
    "- branch: master\n",
    "- badges: true\n",
    "- comments: false\n",
    "- author: 최서연\n",
    "- categories: [Advanced Regression Analysis]"
   ]
  },
  {
   "cell_type": "markdown",
   "id": "aa2c04e0-64ee-4686-9608-f77c441671a5",
   "metadata": {},
   "source": [
    "---"
   ]
  },
  {
   "cell_type": "markdown",
   "id": "478dd71a-7a4c-4e03-a0af-7c9cc5fe21e5",
   "metadata": {},
   "source": [
    "과제1\n",
    "\n",
    "**풀이** :\n",
    "\n",
    "R 이용하지 않고 직접 계산. (R로 단순 계산은 해도 됨)\n",
    "\n",
    "모든 문제에는 풀이가 있어야 함.\n",
    "\n",
    "풀이 없이 답만 있는 경우 '0'점 처리.\n",
    "\n",
    " \n",
    "\n",
    "- 제출 기한 : 10월 03일\n",
    "\n",
    "**제출 방법** : \n",
    "\n",
    "직접 제출 (607호) 또는 스캔, 사진, tex 작업, 문서 작업 등 후 pdf로 변환 후 제출\n",
    "\n",
    "pdf 아닌 경우 미제출 처리"
   ]
  },
  {
   "cell_type": "markdown",
   "id": "8e4a318e-264d-4024-aafc-6b54bcd643ba",
   "metadata": {},
   "source": [
    "---"
   ]
  },
  {
   "cell_type": "markdown",
   "id": "36963536-97c9-446d-b9a4-5360577d62e6",
   "metadata": {},
   "source": [
    "1. 원점을 지나는 회귀모형은 다음과 같이 정의할 수 있다.\n",
    "$$y_i =β_1x_i +ε_i, ε_i ∼_{i.i.d.} N(0,σ^2), i=1,...,n$$\n",
    "오차제곱합을 정의하고 $β_1$ 의 최소제곱추정량 ($\\hat{β}_1$)을 구하여라."
   ]
  },
  {
   "cell_type": "markdown",
   "id": "5832b8bd-b376-4bc3-91ef-0a75dd40c4e2",
   "metadata": {},
   "source": [
    "$SSE = (y_i - \\hat{y_i})^2$\n",
    "\n",
    "$ = (y_i - \\hat{\\beta_i| x_i - \\epsilon_i)^2$\n",
    "\n",
    "$ = ()$"
   ]
  },
  {
   "cell_type": "markdown",
   "id": "15ae647d-7ce0-4bc7-ba20-08bfbac1d726",
   "metadata": {},
   "source": [
    "2. 자동차의 무게가 무거우면 이를 움직이는 데 더 많은 연료가 소모된다는 것은 알려진 사실이다. 자동차의 무게와 자동차를 1km 움직이는 데 필요한 에너지량과의 함수관계를 정확히 판단하기 위하여 A 자동차회사는 다음의 자료를 실험을 통하여 얻었다. 실험 비용이 많이 드는 관계로 9번만 실험하였다."
   ]
  },
  {
   "cell_type": "markdown",
   "id": "493697c0-13b9-4222-999a-2439d10ace23",
   "metadata": {},
   "source": [
    "|무게 X(단위: 1,000kg)|에너지소모량 Y(단위: 1,000btu)|\n",
    "|:---:|:---:|\n",
    "|0.9|2.0|\n",
    "|1.3|2.6|\n",
    "|2.1|4.3|\n",
    "|2.5|5.8|\n",
    "|2.4|5.1|\n",
    "|1.7|3.2|\n",
    "|0.7|1.8|\n",
    "|1.2|2.3|\n",
    "|1.6|3.0|"
   ]
  },
  {
   "cell_type": "markdown",
   "id": "4db6c19b-c4a6-41f9-b12d-31a315a6752c",
   "metadata": {},
   "source": [
    "(1) 이 데이터의 산점도를 그리시오."
   ]
  },
  {
   "cell_type": "markdown",
   "id": "ee41073e-e16f-43e1-a6a7-b7ecdd0bc9b8",
   "metadata": {},
   "source": [
    "(2) 최소제곱법의 의한 회귀직선을 적합시키시오."
   ]
  },
  {
   "cell_type": "markdown",
   "id": "4f327665-c285-4076-b537-2d8097a58ed7",
   "metadata": {},
   "source": [
    "(3) 데이터의 산점도를 그리고 추정한 회귀직선을 (1)에서 그린 산점도 위에 그리시오."
   ]
  },
  {
   "cell_type": "markdown",
   "id": "6147bf12-dd9d-4a55-b58d-8f96da76d6ff",
   "metadata": {},
   "source": [
    "(4) 결정계수와 상관계수를 구하시오."
   ]
  },
  {
   "cell_type": "markdown",
   "id": "7b7143e2-e82f-4f92-a2a5-7405da1298fd",
   "metadata": {},
   "source": [
    "(5) 분산분석표를 작성하고 회귀직선의 유의 여부를 검정하시오 (유의수준 $α = 0.05$ 사용)."
   ]
  },
  {
   "cell_type": "markdown",
   "id": "899a093e-2c13-4454-a934-8c1b4478b670",
   "metadata": {},
   "source": [
    "(6) $β_0,β_1$ 에 대한 90% 신뢰구간을 구하시오."
   ]
  },
  {
   "cell_type": "markdown",
   "id": "cd088ad9-7348-47a4-9b8f-65dc8e3879bd",
   "metadata": {},
   "source": [
    "(7) $H_0 :β_1 =1$ vs. $H_1 :β_1  \\ne 1$의 가설검정을 유의수준 $α=0.1$에서 수행하시오."
   ]
  },
  {
   "cell_type": "markdown",
   "id": "3cc194d4-4b82-43c3-b15c-495621fa79de",
   "metadata": {},
   "source": [
    "(8) 무게가 3,000kg 이 되는 차량의 평균 에너지 소모량을 예측하시오. 이것은 무게가 1,000kg이 되는 차량의 에너지 소모량의 몇 배인가?"
   ]
  },
  {
   "cell_type": "markdown",
   "id": "e5689b4f-7985-4025-b0d4-909cc6b3bda2",
   "metadata": {},
   "source": [
    "(9) 무게가 3,000kg 이 되는 차량의 평균 에너지 소모량과 하나의 개별 $y$ 값의 90% 신뢰구간을 각각 구하시오."
   ]
  },
  {
   "cell_type": "markdown",
   "id": "5e3c3618-2c05-4ffe-9d5d-31c80dd15de0",
   "metadata": {},
   "source": [
    "(10) 잔차 $e_i = y_i − \\hat{y}_i$ 를 구하고 잔차의 합이 0 임을 확인하시오."
   ]
  },
  {
   "cell_type": "markdown",
   "id": "43b06984-4ef2-48c3-92ea-9c80e34a7381",
   "metadata": {},
   "source": [
    "(11) 잔차들의 $x_i$ 에 대한 가중합, $\\sum x_ie_i$ 를 구하시오."
   ]
  },
  {
   "cell_type": "markdown",
   "id": "041164d6-f09c-4784-a72a-49dd37604d09",
   "metadata": {},
   "source": [
    "(12) 잔차들의 $\\hat{y}$에 대한 가중합 $\\sum \\hat{y}_ie_i$, 를 구하시오."
   ]
  },
  {
   "cell_type": "markdown",
   "id": "0da6d798-feec-4688-86c0-5d045b7c7677",
   "metadata": {},
   "source": [
    "(13) 원점을 지나는 회귀직선을 구하시오."
   ]
  },
  {
   "cell_type": "markdown",
   "id": "c58517d7-8981-4f08-879c-2cd9cdc32d2d",
   "metadata": {},
   "source": [
    "(14) 위 회귀직선에서 회귀계수(기울기)의 90% 신뢰구간을 구하시오."
   ]
  },
  {
   "cell_type": "markdown",
   "id": "fc1efb95-34bc-4dd1-a365-76ce546ecd0e",
   "metadata": {},
   "source": [
    "(15) 원점을 지나는 회귀직선의 결정계수를 구하시오."
   ]
  },
  {
   "cell_type": "markdown",
   "id": "03228bb4-726b-4dfe-a424-fcc8a6722df7",
   "metadata": {},
   "source": [
    "(16) 원점을 포함한 회귀직선과 포함하지 않은 회귀직선의 결과를 비교하여라."
   ]
  },
  {
   "cell_type": "markdown",
   "id": "360190bf-4055-48b6-858a-6cf4a1696c20",
   "metadata": {},
   "source": [
    "3. (강의노트 CH04, p9) 다음이 성립함을 증명하시오."
   ]
  },
  {
   "cell_type": "markdown",
   "id": "ae79ec21-7704-4950-8630-f75fe444ade2",
   "metadata": {},
   "source": [
    "$$\\hat{beta}_0 ~ N\\big( \\beta_0 , \\sigma^2\\big( \\frac{1}{n} + \\frac{\\bar{x}^2}{S_{(xx)}} \\big) \\big)$$"
   ]
  },
  {
   "cell_type": "code",
   "execution_count": null,
   "id": "df959967-8d38-476e-a26e-4597892f445f",
   "metadata": {},
   "outputs": [],
   "source": []
  }
 ],
 "metadata": {
  "kernelspec": {
   "display_name": "R",
   "language": "R",
   "name": "ir"
  },
  "language_info": {
   "codemirror_mode": "r",
   "file_extension": ".r",
   "mimetype": "text/x-r-source",
   "name": "R",
   "pygments_lexer": "r",
   "version": "4.1.2"
  }
 },
 "nbformat": 4,
 "nbformat_minor": 5
}
