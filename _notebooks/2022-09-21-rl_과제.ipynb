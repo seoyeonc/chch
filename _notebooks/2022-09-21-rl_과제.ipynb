{
 "cells": [
  {
   "cell_type": "markdown",
   "id": "2b51dd55-f7ea-416d-bf0b-0bf7688f5667",
   "metadata": {
    "tags": []
   },
   "source": [
    "# Regression HW 1\n",
    "> 고급회귀분석 과제, CH03, CH04\n",
    "\n",
    "- toc:true\n",
    "- branch: master\n",
    "- badges: true\n",
    "- comments: false\n",
    "- author: 최서연\n",
    "- categories: [Advanced Regression Analysis]"
   ]
  },
  {
   "cell_type": "markdown",
   "id": "aa2c04e0-64ee-4686-9608-f77c441671a5",
   "metadata": {},
   "source": [
    "---"
   ]
  },
  {
   "cell_type": "markdown",
   "id": "478dd71a-7a4c-4e03-a0af-7c9cc5fe21e5",
   "metadata": {},
   "source": [
    "과제1\n",
    "\n",
    "**풀이** :\n",
    "\n",
    "R 이용하지 않고 직접 계산. (R로 단순 계산은 해도 됨)\n",
    "\n",
    "모든 문제에는 풀이가 있어야 함.\n",
    "\n",
    "풀이 없이 답만 있는 경우 '0'점 처리.\n",
    "\n",
    " \n",
    "\n",
    "- 제출 기한 : 10월 03일\n",
    "\n",
    "**제출 방법** : \n",
    "\n",
    "직접 제출 (607호) 또는 스캔, 사진, tex 작업, 문서 작업 등 후 pdf로 변환 후 제출\n",
    "\n",
    "pdf 아닌 경우 미제출 처리"
   ]
  },
  {
   "cell_type": "markdown",
   "id": "8e4a318e-264d-4024-aafc-6b54bcd643ba",
   "metadata": {},
   "source": [
    "---"
   ]
  },
  {
   "cell_type": "markdown",
   "id": "36963536-97c9-446d-b9a4-5360577d62e6",
   "metadata": {},
   "source": [
    "1. 원점을 지나는 회귀모형은 다음과 같이 정의할 수 있다.\n",
    "$$y_i =β_1x_i +ε_i, ε_i ∼_{i.i.d.} N(0,σ^2), i=1,...,n$$\n",
    "오차제곱합을 정의하고 $β_1$ 의 최소제곱추정량 ($\\hat{β}_1$)을 구하여라."
   ]
  },
  {
   "cell_type": "markdown",
   "id": "b45746f1-9610-440f-b966-5fc2ca1db139",
   "metadata": {},
   "source": [
    "**Answer**"
   ]
  },
  {
   "cell_type": "markdown",
   "id": "5832b8bd-b376-4bc3-91ef-0a75dd40c4e2",
   "metadata": {},
   "source": [
    "$SSE = \\sum(y_i - \\hat{y_i})^2 = \\sum(y_i - \\hat{\\beta_1}x_i)^2$\n",
    "\n",
    "$SSE' = 0 = \\sum(-x_i)2(y_i - \\hat{\\beta_1}x_i )$\n",
    "\n",
    "$\\sum(-x_iy_i) + \\sum(x_i^2\\hat{\\beta_1}) = 0$\n",
    "\n",
    "$\\hat{\\beta_1} = \\frac{\\sum(x_iy_i)}{\\sum(x_i^2)}$"
   ]
  },
  {
   "cell_type": "markdown",
   "id": "15ae647d-7ce0-4bc7-ba20-08bfbac1d726",
   "metadata": {},
   "source": [
    "2. 자동차의 무게가 무거우면 이를 움직이는 데 더 많은 연료가 소모된다는 것은 알려진 사실이다. 자동차의 무게와 자동차를 1km 움직이는 데 필요한 에너지량과의 함수관계를 정확히 판단하기 위하여 A 자동차회사는 다음의 자료를 실험을 통하여 얻었다. 실험 비용이 많이 드는 관계로 9번만 실험하였다."
   ]
  },
  {
   "cell_type": "markdown",
   "id": "493697c0-13b9-4222-999a-2439d10ace23",
   "metadata": {},
   "source": [
    "|무게 X(단위: 1,000kg)|에너지소모량 Y(단위: 1,000btu)|\n",
    "|:---:|:---:|\n",
    "|0.9|2.0|\n",
    "|1.3|2.6|\n",
    "|2.1|4.3|\n",
    "|2.5|5.8|\n",
    "|2.4|5.1|\n",
    "|1.7|3.2|\n",
    "|0.7|1.8|\n",
    "|1.2|2.3|\n",
    "|1.6|3.0|"
   ]
  },
  {
   "cell_type": "markdown",
   "id": "4db6c19b-c4a6-41f9-b12d-31a315a6752c",
   "metadata": {},
   "source": [
    "(1) 이 데이터의 산점도를 그리시오."
   ]
  },
  {
   "cell_type": "code",
   "execution_count": 1,
   "id": "9f8db68c-0bd5-43bc-b19d-4e8b81d32aa0",
   "metadata": {},
   "outputs": [
    {
     "data": {
      "text/html": [
       "<table class=\"dataframe\">\n",
       "<caption>A data.frame: 9 × 2</caption>\n",
       "<thead>\n",
       "\t<tr><th scope=col>x</th><th scope=col>y</th></tr>\n",
       "\t<tr><th scope=col>&lt;dbl&gt;</th><th scope=col>&lt;dbl&gt;</th></tr>\n",
       "</thead>\n",
       "<tbody>\n",
       "\t<tr><td>0.9</td><td>2.0</td></tr>\n",
       "\t<tr><td>1.3</td><td>2.6</td></tr>\n",
       "\t<tr><td>2.1</td><td>4.3</td></tr>\n",
       "\t<tr><td>2.5</td><td>5.8</td></tr>\n",
       "\t<tr><td>2.4</td><td>5.1</td></tr>\n",
       "\t<tr><td>1.7</td><td>3.2</td></tr>\n",
       "\t<tr><td>0.7</td><td>1.8</td></tr>\n",
       "\t<tr><td>1.2</td><td>2.3</td></tr>\n",
       "\t<tr><td>1.6</td><td>3.0</td></tr>\n",
       "</tbody>\n",
       "</table>\n"
      ],
      "text/latex": [
       "A data.frame: 9 × 2\n",
       "\\begin{tabular}{ll}\n",
       " x & y\\\\\n",
       " <dbl> & <dbl>\\\\\n",
       "\\hline\n",
       "\t 0.9 & 2.0\\\\\n",
       "\t 1.3 & 2.6\\\\\n",
       "\t 2.1 & 4.3\\\\\n",
       "\t 2.5 & 5.8\\\\\n",
       "\t 2.4 & 5.1\\\\\n",
       "\t 1.7 & 3.2\\\\\n",
       "\t 0.7 & 1.8\\\\\n",
       "\t 1.2 & 2.3\\\\\n",
       "\t 1.6 & 3.0\\\\\n",
       "\\end{tabular}\n"
      ],
      "text/markdown": [
       "\n",
       "A data.frame: 9 × 2\n",
       "\n",
       "| x &lt;dbl&gt; | y &lt;dbl&gt; |\n",
       "|---|---|\n",
       "| 0.9 | 2.0 |\n",
       "| 1.3 | 2.6 |\n",
       "| 2.1 | 4.3 |\n",
       "| 2.5 | 5.8 |\n",
       "| 2.4 | 5.1 |\n",
       "| 1.7 | 3.2 |\n",
       "| 0.7 | 1.8 |\n",
       "| 1.2 | 2.3 |\n",
       "| 1.6 | 3.0 |\n",
       "\n"
      ],
      "text/plain": [
       "  x   y  \n",
       "1 0.9 2.0\n",
       "2 1.3 2.6\n",
       "3 2.1 4.3\n",
       "4 2.5 5.8\n",
       "5 2.4 5.1\n",
       "6 1.7 3.2\n",
       "7 0.7 1.8\n",
       "8 1.2 2.3\n",
       "9 1.6 3.0"
      ]
     },
     "metadata": {},
     "output_type": "display_data"
    }
   ],
   "source": [
    "dt <- data.frame(x = c(0.9,1.3,2.1,2.5,2.4,1.7,0.7,1.2,1.6),\n",
    "                 y = c(2.0,2.6,4.3,5.8,5.1,3.2,1.8,2.3,3.0))\n",
    "dt"
   ]
  },
  {
   "cell_type": "markdown",
   "id": "fa7bde8a-7efc-4c77-a638-672a9a28327f",
   "metadata": {},
   "source": [
    "**Answer**"
   ]
  },
  {
   "cell_type": "code",
   "execution_count": 2,
   "id": "3ecb3ee3-26d8-48e7-8fb9-0635dd06ed55",
   "metadata": {},
   "outputs": [
    {
     "data": {
      "image/png": "[encoded data removed]",
      "text/plain": [
       "plot without title"
      ]
     },
     "metadata": {
      "image/png": {
       "height": 420,
       "width": 420
      }
     },
     "output_type": "display_data"
    }
   ],
   "source": [
    "plot(y~x, \n",
    "     data = dt,\n",
    "     xlab = \"무게\",\n",
    "     ylab = \"에너지소모량\",\n",
    "     pch  = 16,\n",
    "     cex  = 1,\n",
    "     col  = \"darkorange\")"
   ]
  },
  {
   "cell_type": "markdown",
   "id": "96bc9c95-f4bc-451b-a37a-1e84fce574c8",
   "metadata": {},
   "source": [
    "- 양의 상관관계가 있어보인다.\n",
    "- 무게가 커질수록 에너지소모량도 큰 경향이 보이기 때문이다.\n",
    "- 우상향의 모양이라, 단순상관선형 적용해보면 되겠다."
   ]
  },
  {
   "cell_type": "markdown",
   "id": "ee41073e-e16f-43e1-a6a7-b7ecdd0bc9b8",
   "metadata": {},
   "source": [
    "(2) 최소제곱법의 의한 회귀직선을 적합시키시오."
   ]
  },
  {
   "cell_type": "markdown",
   "id": "c86df009-1e62-4cbc-8c8d-1af8e2bd3926",
   "metadata": {},
   "source": [
    "**Answer**"
   ]
  },
  {
   "cell_type": "code",
   "execution_count": 3,
   "id": "551c516b-e6ec-4263-a089-375e13d5320f",
   "metadata": {},
   "outputs": [],
   "source": [
    "dt1 <- data.frame(\n",
    "  i = 1:nrow(dt),\n",
    "  x = dt$x,\n",
    "  y = dt$y,\n",
    "  x_barx = dt$x - mean(dt$x),\n",
    "  y_bary = dt$y - mean(dt$y)) "
   ]
  },
  {
   "cell_type": "markdown",
   "id": "7eeb4a82-ad98-4c77-b4e0-275c35128919",
   "metadata": {},
   "source": [
    "- $S_{xx}, S_{yy},S_{xy}$를 구해주기 위해 $x_i - \\bar{x}, y_i - \\bar{y}$를 구했다."
   ]
  },
  {
   "cell_type": "code",
   "execution_count": 4,
   "id": "51970fdc-5efe-43a0-b259-34a340d990aa",
   "metadata": {},
   "outputs": [],
   "source": [
    "dt1$x_barx2 <- dt1$x_barx^2\n",
    "dt1$y_bary2 <- dt1$y_bary^2\n",
    "dt1$xy <-dt1$x_barx * dt1$y_bary"
   ]
  },
  {
   "cell_type": "markdown",
   "id": "16e977ff-ad32-442b-a23a-de3a34aba0c3",
   "metadata": {},
   "source": [
    "- $S_{xx}, S_{yy},S_{xy}$를 구해주었다."
   ]
  },
  {
   "cell_type": "code",
   "execution_count": 5,
   "id": "7ce76acd-c0c9-4ac1-9dc2-08f5d3021f00",
   "metadata": {},
   "outputs": [
    {
     "data": {
      "text/html": [
       "<table class=\"dataframe\">\n",
       "<caption>A data.frame: 9 × 8</caption>\n",
       "<thead>\n",
       "\t<tr><th scope=col>i</th><th scope=col>x</th><th scope=col>y</th><th scope=col>x_barx</th><th scope=col>y_bary</th><th scope=col>x_barx2</th><th scope=col>y_bary2</th><th scope=col>xy</th></tr>\n",
       "\t<tr><th scope=col>&lt;int&gt;</th><th scope=col>&lt;dbl&gt;</th><th scope=col>&lt;dbl&gt;</th><th scope=col>&lt;dbl&gt;</th><th scope=col>&lt;dbl&gt;</th><th scope=col>&lt;dbl&gt;</th><th scope=col>&lt;dbl&gt;</th><th scope=col>&lt;dbl&gt;</th></tr>\n",
       "</thead>\n",
       "<tbody>\n",
       "\t<tr><td>1</td><td>0.9</td><td>2.0</td><td>-0.7</td><td>-1.3444444</td><td>0.49</td><td>1.8075309</td><td> 0.94111111</td></tr>\n",
       "\t<tr><td>2</td><td>1.3</td><td>2.6</td><td>-0.3</td><td>-0.7444444</td><td>0.09</td><td>0.5541975</td><td> 0.22333333</td></tr>\n",
       "\t<tr><td>3</td><td>2.1</td><td>4.3</td><td> 0.5</td><td> 0.9555556</td><td>0.25</td><td>0.9130864</td><td> 0.47777778</td></tr>\n",
       "\t<tr><td>4</td><td>2.5</td><td>5.8</td><td> 0.9</td><td> 2.4555556</td><td>0.81</td><td>6.0297531</td><td> 2.21000000</td></tr>\n",
       "\t<tr><td>5</td><td>2.4</td><td>5.1</td><td> 0.8</td><td> 1.7555556</td><td>0.64</td><td>3.0819753</td><td> 1.40444444</td></tr>\n",
       "\t<tr><td>6</td><td>1.7</td><td>3.2</td><td> 0.1</td><td>-0.1444444</td><td>0.01</td><td>0.0208642</td><td>-0.01444444</td></tr>\n",
       "\t<tr><td>7</td><td>0.7</td><td>1.8</td><td>-0.9</td><td>-1.5444444</td><td>0.81</td><td>2.3853086</td><td> 1.39000000</td></tr>\n",
       "\t<tr><td>8</td><td>1.2</td><td>2.3</td><td>-0.4</td><td>-1.0444444</td><td>0.16</td><td>1.0908642</td><td> 0.41777778</td></tr>\n",
       "\t<tr><td>9</td><td>1.6</td><td>3.0</td><td> 0.0</td><td>-0.3444444</td><td>0.00</td><td>0.1186420</td><td> 0.00000000</td></tr>\n",
       "</tbody>\n",
       "</table>\n"
      ],
      "text/latex": [
       "A data.frame: 9 × 8\n",
       "\\begin{tabular}{llllllll}\n",
       " i & x & y & x\\_barx & y\\_bary & x\\_barx2 & y\\_bary2 & xy\\\\\n",
       " <int> & <dbl> & <dbl> & <dbl> & <dbl> & <dbl> & <dbl> & <dbl>\\\\\n",
       "\\hline\n",
       "\t 1 & 0.9 & 2.0 & -0.7 & -1.3444444 & 0.49 & 1.8075309 &  0.94111111\\\\\n",
       "\t 2 & 1.3 & 2.6 & -0.3 & -0.7444444 & 0.09 & 0.5541975 &  0.22333333\\\\\n",
       "\t 3 & 2.1 & 4.3 &  0.5 &  0.9555556 & 0.25 & 0.9130864 &  0.47777778\\\\\n",
       "\t 4 & 2.5 & 5.8 &  0.9 &  2.4555556 & 0.81 & 6.0297531 &  2.21000000\\\\\n",
       "\t 5 & 2.4 & 5.1 &  0.8 &  1.7555556 & 0.64 & 3.0819753 &  1.40444444\\\\\n",
       "\t 6 & 1.7 & 3.2 &  0.1 & -0.1444444 & 0.01 & 0.0208642 & -0.01444444\\\\\n",
       "\t 7 & 0.7 & 1.8 & -0.9 & -1.5444444 & 0.81 & 2.3853086 &  1.39000000\\\\\n",
       "\t 8 & 1.2 & 2.3 & -0.4 & -1.0444444 & 0.16 & 1.0908642 &  0.41777778\\\\\n",
       "\t 9 & 1.6 & 3.0 &  0.0 & -0.3444444 & 0.00 & 0.1186420 &  0.00000000\\\\\n",
       "\\end{tabular}\n"
      ],
      "text/markdown": [
       "\n",
       "A data.frame: 9 × 8\n",
       "\n",
       "| i &lt;int&gt; | x &lt;dbl&gt; | y &lt;dbl&gt; | x_barx &lt;dbl&gt; | y_bary &lt;dbl&gt; | x_barx2 &lt;dbl&gt; | y_bary2 &lt;dbl&gt; | xy &lt;dbl&gt; |\n",
       "|---|---|---|---|---|---|---|---|\n",
       "| 1 | 0.9 | 2.0 | -0.7 | -1.3444444 | 0.49 | 1.8075309 |  0.94111111 |\n",
       "| 2 | 1.3 | 2.6 | -0.3 | -0.7444444 | 0.09 | 0.5541975 |  0.22333333 |\n",
       "| 3 | 2.1 | 4.3 |  0.5 |  0.9555556 | 0.25 | 0.9130864 |  0.47777778 |\n",
       "| 4 | 2.5 | 5.8 |  0.9 |  2.4555556 | 0.81 | 6.0297531 |  2.21000000 |\n",
       "| 5 | 2.4 | 5.1 |  0.8 |  1.7555556 | 0.64 | 3.0819753 |  1.40444444 |\n",
       "| 6 | 1.7 | 3.2 |  0.1 | -0.1444444 | 0.01 | 0.0208642 | -0.01444444 |\n",
       "| 7 | 0.7 | 1.8 | -0.9 | -1.5444444 | 0.81 | 2.3853086 |  1.39000000 |\n",
       "| 8 | 1.2 | 2.3 | -0.4 | -1.0444444 | 0.16 | 1.0908642 |  0.41777778 |\n",
       "| 9 | 1.6 | 3.0 |  0.0 | -0.3444444 | 0.00 | 0.1186420 |  0.00000000 |\n",
       "\n"
      ],
      "text/plain": [
       "  i x   y   x_barx y_bary     x_barx2 y_bary2   xy         \n",
       "1 1 0.9 2.0 -0.7   -1.3444444 0.49    1.8075309  0.94111111\n",
       "2 2 1.3 2.6 -0.3   -0.7444444 0.09    0.5541975  0.22333333\n",
       "3 3 2.1 4.3  0.5    0.9555556 0.25    0.9130864  0.47777778\n",
       "4 4 2.5 5.8  0.9    2.4555556 0.81    6.0297531  2.21000000\n",
       "5 5 2.4 5.1  0.8    1.7555556 0.64    3.0819753  1.40444444\n",
       "6 6 1.7 3.2  0.1   -0.1444444 0.01    0.0208642 -0.01444444\n",
       "7 7 0.7 1.8 -0.9   -1.5444444 0.81    2.3853086  1.39000000\n",
       "8 8 1.2 2.3 -0.4   -1.0444444 0.16    1.0908642  0.41777778\n",
       "9 9 1.6 3.0  0.0   -0.3444444 0.00    0.1186420  0.00000000"
      ]
     },
     "metadata": {},
     "output_type": "display_data"
    }
   ],
   "source": [
    "dt1"
   ]
  },
  {
   "cell_type": "markdown",
   "id": "64149a83-3dd3-4efb-a9c9-90a61955423f",
   "metadata": {},
   "source": [
    "- 반올림 해주었다."
   ]
  },
  {
   "cell_type": "code",
   "execution_count": 6,
   "id": "f5f9b8aa-32bf-460a-895c-065e37809634",
   "metadata": {},
   "outputs": [
    {
     "data": {
      "text/html": [
       "<style>\n",
       ".dl-inline {width: auto; margin:0; padding: 0}\n",
       ".dl-inline>dt, .dl-inline>dd {float: none; width: auto; display: inline-block}\n",
       ".dl-inline>dt::after {content: \":\\0020\"; padding-right: .5ex}\n",
       ".dl-inline>dt:not(:first-of-type) {padding-left: .5ex}\n",
       "</style><dl class=dl-inline><dt>i</dt><dd>45</dd><dt>x</dt><dd>14.4</dd><dt>y</dt><dd>30.1</dd><dt>x_barx</dt><dd>0</dd><dt>y_bary</dt><dd>0</dd><dt>x_barx2</dt><dd>3.26</dd><dt>y_bary2</dt><dd>16.002</dd><dt>xy</dt><dd>7.05</dd></dl>\n"
      ],
      "text/latex": [
       "\\begin{description*}\n",
       "\\item[i] 45\n",
       "\\item[x] 14.4\n",
       "\\item[y] 30.1\n",
       "\\item[x\\textbackslash{}\\_barx] 0\n",
       "\\item[y\\textbackslash{}\\_bary] 0\n",
       "\\item[x\\textbackslash{}\\_barx2] 3.26\n",
       "\\item[y\\textbackslash{}\\_bary2] 16.002\n",
       "\\item[xy] 7.05\n",
       "\\end{description*}\n"
      ],
      "text/markdown": [
       "i\n",
       ":   45x\n",
       ":   14.4y\n",
       ":   30.1x_barx\n",
       ":   0y_bary\n",
       ":   0x_barx2\n",
       ":   3.26y_bary2\n",
       ":   16.002xy\n",
       ":   7.05\n",
       "\n"
      ],
      "text/plain": [
       "      i       x       y  x_barx  y_bary x_barx2 y_bary2      xy \n",
       " 45.000  14.400  30.100   0.000   0.000   3.260  16.002   7.050 "
      ]
     },
     "metadata": {},
     "output_type": "display_data"
    }
   ],
   "source": [
    "round(colSums(dt1),3)"
   ]
  },
  {
   "cell_type": "markdown",
   "id": "7c1a1de4-e6ac-43e8-9d21-3ffe19b3b5e2",
   "metadata": {},
   "source": [
    "$\\hat{\\beta_1} = \\frac{S_{xy}}{S_{xx}}$\n",
    "\n",
    "$\\hat{\\beta_0} = \\bar{y} - \\hat{\\beta_1}\\bar{x}$"
   ]
  },
  {
   "cell_type": "code",
   "execution_count": 7,
   "id": "2886869d-b90f-416c-9afd-82aac9e1d693",
   "metadata": {},
   "outputs": [],
   "source": [
    "beta1 <- as.numeric(colSums(dt1)[8]/colSums(dt1)[6])\n",
    "beta0 <- mean(dt$y) - beta1 *  mean(dt$x)"
   ]
  },
  {
   "cell_type": "code",
   "execution_count": 8,
   "id": "30771b6b-c9aa-428c-909d-d5a33af8757a",
   "metadata": {},
   "outputs": [
    {
     "name": "stdout",
     "output_type": "stream",
     "text": [
      "hat beta0 =  -0.1156783hat beta1 =  2.162577"
     ]
    }
   ],
   "source": [
    "cat(\"hat beta0 = \", beta0)\n",
    "cat(\"hat beta1 = \", beta1)"
   ]
  },
  {
   "cell_type": "markdown",
   "id": "642553ba-9f2a-4157-9e60-de8bb0707c50",
   "metadata": {},
   "source": [
    "- $\\hat{y} =  -0.1156783 +  2.162577x$의 모형으로 적합되었다."
   ]
  },
  {
   "cell_type": "markdown",
   "id": "4f327665-c285-4076-b537-2d8097a58ed7",
   "metadata": {},
   "source": [
    "(3) 데이터의 산점도를 그리고 추정한 회귀직선을 (1)에서 그린 산점도 위에 그리시오."
   ]
  },
  {
   "cell_type": "markdown",
   "id": "083d9972-baf7-43b7-8b08-66ecc2f1716f",
   "metadata": {},
   "source": [
    "**Answer**"
   ]
  },
  {
   "cell_type": "code",
   "execution_count": 9,
   "id": "40de8adb-e60f-4878-8297-05d800d26c9e",
   "metadata": {},
   "outputs": [
    {
     "data": {
      "image/png": "[encoded data removed]",
      "text/plain": [
       "plot without title"
      ]
     },
     "metadata": {
      "image/png": {
       "height": 420,
       "width": 420
      }
     },
     "output_type": "display_data"
    }
   ],
   "source": [
    "plot(y~x, \n",
    "     data = dt,\n",
    "     xlab = \"무게\",\n",
    "     ylab = \"에너지소모량\",\n",
    "     pch  = 16,\n",
    "     cex  = 1,\n",
    "     col  = \"darkorange\")\n",
    "par(new=TRUE)\n",
    "plot(-0.1156783 +  2.162577*x~x,\n",
    "     data = dt,\n",
    "     xlab = \"\",\n",
    "     ylab = \"\",\n",
    "     pch  = 16,\n",
    "     cex  = 1,type='l',\n",
    "     col  = \"blue\")"
   ]
  },
  {
   "cell_type": "markdown",
   "id": "4c0cd68b-cee1-45fd-96f6-ba504b8f7452",
   "metadata": {},
   "source": [
    "- 추정한 회귀직선을 그려보니 오차가 클 것처럼 y와 $\\hat{y}$가 떨어진 값이 많아보인다."
   ]
  },
  {
   "cell_type": "markdown",
   "id": "6147bf12-dd9d-4a55-b58d-8f96da76d6ff",
   "metadata": {},
   "source": [
    "(4) 결정계수와 상관계수를 구하시오."
   ]
  },
  {
   "cell_type": "markdown",
   "id": "d71e618d-7278-4527-b61b-f3316ab85353",
   "metadata": {},
   "source": [
    "$r_{xy} = \\frac{S_{xy}}{\\sqrt{S_{xx}S_{yy}}}$"
   ]
  },
  {
   "cell_type": "code",
   "execution_count": 10,
   "id": "e41eb12e-33f9-4bd2-98b6-907dd349aab6",
   "metadata": {},
   "outputs": [
    {
     "data": {
      "text/html": [
       "<strong>xy:</strong> 0.976090685311348"
      ],
      "text/latex": [
       "\\textbf{xy:} 0.976090685311348"
      ],
      "text/markdown": [
       "**xy:** 0.976090685311348"
      ],
      "text/plain": [
       "       xy \n",
       "0.9760907 "
      ]
     },
     "metadata": {},
     "output_type": "display_data"
    }
   ],
   "source": [
    "rxy = colSums(dt1)[8]/sqrt(colSums(dt1)[6]*colSums(dt1)[7])\n",
    "rxy"
   ]
  },
  {
   "cell_type": "markdown",
   "id": "6f9b1806-bce4-4180-8cd2-26c2f351fe8b",
   "metadata": {},
   "source": [
    "- 상관계수는 약 98% 로, $x,y$간 높은 양의 상관관계가 있었다."
   ]
  },
  {
   "cell_type": "markdown",
   "id": "657e0f58-3d23-4c30-a28f-b8cbd6e6ee73",
   "metadata": {},
   "source": [
    "$R^2 = \\frac{SSR}{SST} = r^2$"
   ]
  },
  {
   "cell_type": "code",
   "execution_count": 11,
   "id": "0deb2abd-47fd-4008-9f84-97d873e1a4c2",
   "metadata": {},
   "outputs": [],
   "source": [
    "SST = sum((dt$y - mean(dt$y))^2)"
   ]
  },
  {
   "cell_type": "code",
   "execution_count": 12,
   "id": "0f984477-2fdb-4650-8ed4-af0337538c7f",
   "metadata": {},
   "outputs": [],
   "source": [
    "SSR = sum( ( (-0.1156783 +  2.162577*dt$x)-mean(dt$y) )^2 )"
   ]
  },
  {
   "cell_type": "code",
   "execution_count": 13,
   "id": "11158f27-daea-4877-860c-3c096aaf4c4f",
   "metadata": {},
   "outputs": [],
   "source": [
    "SSE = sum( ( dt$y-(-0.1156783 +  2.162577*dt$x))^2 )"
   ]
  },
  {
   "cell_type": "code",
   "execution_count": 14,
   "id": "7431e5c5-b4f1-4211-b5fd-6b884ce70f6f",
   "metadata": {},
   "outputs": [
    {
     "name": "stdout",
     "output_type": "stream",
     "text": [
      "SST =  16.00222\n",
      "SSR =  15.24617\n",
      "SSE =  0.7560566"
     ]
    }
   ],
   "source": [
    "cat(\"SST = \", SST)\n",
    "cat(\"\\nSSR = \", SSR)\n",
    "cat(\"\\nSSE = \", SSE)"
   ]
  },
  {
   "cell_type": "code",
   "execution_count": 15,
   "id": "80c22763-858c-4b19-b73c-96949420e645",
   "metadata": {},
   "outputs": [
    {
     "data": {
      "text/html": [
       "0.95275330164195"
      ],
      "text/latex": [
       "0.95275330164195"
      ],
      "text/markdown": [
       "0.95275330164195"
      ],
      "text/plain": [
       "[1] 0.9527533"
      ]
     },
     "metadata": {},
     "output_type": "display_data"
    }
   ],
   "source": [
    "SSR/SST"
   ]
  },
  {
   "cell_type": "code",
   "execution_count": 16,
   "id": "fb397c6e-5caa-4237-a12a-260c223691d8",
   "metadata": {},
   "outputs": [
    {
     "data": {
      "text/html": [
       "<strong>xy:</strong> 0.952753025951577"
      ],
      "text/latex": [
       "\\textbf{xy:} 0.952753025951577"
      ],
      "text/markdown": [
       "**xy:** 0.952753025951577"
      ],
      "text/plain": [
       "      xy \n",
       "0.952753 "
      ]
     },
     "metadata": {},
     "output_type": "display_data"
    }
   ],
   "source": [
    "rxy**2"
   ]
  },
  {
   "cell_type": "markdown",
   "id": "9a3522b0-ddda-409b-af9d-c4c8d0def316",
   "metadata": {},
   "source": [
    "- 결정계수는 약 95%로, 설명력도 높은 편이라고 말할 수 있지만, 결정계수는 다른 모델과 비교할때 언급되는 것이 적절하다."
   ]
  },
  {
   "cell_type": "markdown",
   "id": "7b7143e2-e82f-4f92-a2a5-7405da1298fd",
   "metadata": {},
   "source": [
    "(5) 분산분석표를 작성하고 회귀직선의 유의 여부를 검정하시오 (유의수준 $α = 0.05$ 사용)."
   ]
  },
  {
   "cell_type": "code",
   "execution_count": 17,
   "id": "148ddfed-b439-4bb4-95ea-64681b63ec18",
   "metadata": {},
   "outputs": [],
   "source": [
    "MSR = SSR/1\n",
    "MSE = SSE/7"
   ]
  },
  {
   "cell_type": "code",
   "execution_count": 18,
   "id": "1ea29aca-0431-4d46-99ec-46150c77a32e",
   "metadata": {},
   "outputs": [
    {
     "name": "stdout",
     "output_type": "stream",
     "text": [
      "MSR =  15.24617\n",
      "MSE =  0.1080081"
     ]
    }
   ],
   "source": [
    "cat(\"MSR = \", MSR)\n",
    "cat(\"\\nMSE = \", MSE)"
   ]
  },
  {
   "cell_type": "code",
   "execution_count": 19,
   "id": "fd1109ad-c43c-4206-b69c-48cfb7003694",
   "metadata": {},
   "outputs": [],
   "source": [
    "Fvalue = MSR/MSE"
   ]
  },
  {
   "cell_type": "code",
   "execution_count": 20,
   "id": "86cb5350-ca14-4c9c-a927-7dda3d4b4b1b",
   "metadata": {},
   "outputs": [
    {
     "name": "stdout",
     "output_type": "stream",
     "text": [
      "F value =  141.1577"
     ]
    }
   ],
   "source": [
    "cat(\"F value = \",Fvalue)"
   ]
  },
  {
   "cell_type": "code",
   "execution_count": 21,
   "id": "87bc9df9-ee32-4c71-a218-d2ed614e9b80",
   "metadata": {},
   "outputs": [
    {
     "name": "stdout",
     "output_type": "stream",
     "text": [
      "p value =  1.614709e-07"
     ]
    }
   ],
   "source": [
    "cat(\"p value = \",df(Fvalue,1,7))"
   ]
  },
  {
   "cell_type": "markdown",
   "id": "76fc885b-d447-4b44-ba7f-bebaec66d4c5",
   "metadata": {},
   "source": [
    "||df|sum of square|mean of square| F value| p value|\n",
    "|:---:|:---:|:---:|:---:|:---:|:---:|\n",
    "|x|1|15.24617|15.24617|141.1584|1.614672e-07|\n",
    "|Residuals|7|0.7560522|0.1080075|||"
   ]
  },
  {
   "cell_type": "markdown",
   "id": "6991fa68-fa52-46c0-9be4-e728eeeeb6a3",
   "metadata": {},
   "source": [
    "- F값은 141.1584, p value는 1.614672e-07가 나왔다.\n",
    "- 유의수준 5%에서 모형이 유의하다는 것을 알 수 있었다."
   ]
  },
  {
   "cell_type": "markdown",
   "id": "899a093e-2c13-4454-a934-8c1b4478b670",
   "metadata": {},
   "source": [
    "(6) $β_0,β_1$ 에 대한 90% 신뢰구간을 구하시오."
   ]
  },
  {
   "cell_type": "markdown",
   "id": "c7a7807a-29ca-4120-b07c-bd43cbd77484",
   "metadata": {},
   "source": [
    "**Answer**"
   ]
  },
  {
   "cell_type": "markdown",
   "id": "26aa69b8-a675-40e8-a408-1c09bcc03c3a",
   "metadata": {},
   "source": [
    "$$\\hat{\\beta_0} \\pm t_{(\\alpha/2,n-2)}\\hat{\\sigma} \\sqrt{\\frac{1}{n} + \\frac{\\bar{x}^2}{S_{xx}}}$$"
   ]
  },
  {
   "cell_type": "code",
   "execution_count": 22,
   "id": "01cb1400-b2d8-4971-93d3-f960aa034845",
   "metadata": {},
   "outputs": [
    {
     "name": "stdout",
     "output_type": "stream",
     "text": [
      "Beta0 confidence level -0.8514415 ~ 0.620085"
     ]
    }
   ],
   "source": [
    "cat(\"Beta0 confidence level\",beta0 + qt(0.025, 7) * sqrt((MSE)*(1/9 + mean(dt$x)^2/sum((dt$x - mean(dt$x))^2))),\"~\",beta0 + qt(0.975, 7) * sqrt((MSE)*(1/9 + mean(dt$x)^2/sum((dt$x - mean(dt$x))^2))))"
   ]
  },
  {
   "cell_type": "markdown",
   "id": "4eead4d1-d00d-47da-9c22-3cee7ad82896",
   "metadata": {},
   "source": [
    "$$\\hat{\\beta_1} \\pm t_{(\\alpha/2,n-2)} \\sqrt{\\frac{MSE}{S_{xx}}}$$"
   ]
  },
  {
   "cell_type": "code",
   "execution_count": 23,
   "id": "ba68a834-8949-43e2-911e-48cdc3887753",
   "metadata": {},
   "outputs": [
    {
     "name": "stdout",
     "output_type": "stream",
     "text": [
      "Beta1 confidence level 1.732168 ~ 2.592986"
     ]
    }
   ],
   "source": [
    "cat(\"Beta1 confidence level\",beta1 + qt(0.025, 7) * sqrt((MSE)/sum((dt$x - mean(dt$x))^2)),'~',beta1 + qt(0.975, 7) * sqrt((MSE)/sum((dt$x - mean(dt$x))^2)))"
   ]
  },
  {
   "cell_type": "markdown",
   "id": "bde858db-4aa1-4d36-82d1-0cd132275c3b",
   "metadata": {},
   "source": [
    "- $\\beta_0$의 신뢰구간은 0을 포함하였다.($H_0 : \\beta_0=0$ 채택)\n",
    "- $\\beta_1$의 신뢰구간은 0을 포함하지 않았다.($H_0 : \\beta_1=0$ 기각)\n",
    "- 신뢰구간으로 신뢰구간에 0이 포함된 $\\beta_1$ 계수만 유의미하다는 것을 알 수 있다."
   ]
  },
  {
   "cell_type": "markdown",
   "id": "cd088ad9-7348-47a4-9b8f-65dc8e3879bd",
   "metadata": {},
   "source": [
    "(7) $H_0 :β_1 =1$ vs. $H_1 :β_1  \\ne 1$의 가설검정을 유의수준 $α=0.1$에서 수행하시오."
   ]
  },
  {
   "cell_type": "markdown",
   "id": "55f02cde-904f-41ab-8f34-142c8565a543",
   "metadata": {},
   "source": [
    "$$\\text{t value} = \\frac{\\hat{\\beta_1} - 1}{s.e(\\hat{\\beta_1})}$$"
   ]
  },
  {
   "cell_type": "code",
   "execution_count": 24,
   "id": "5c0a62d3-87c4-4db4-b63c-7ec7620c0d9f",
   "metadata": {},
   "outputs": [],
   "source": [
    "Tvalue = (beta1 - 1)/(sqrt((MSE/sum((dt$x - mean(dt$x))^2))))"
   ]
  },
  {
   "cell_type": "code",
   "execution_count": 25,
   "id": "3a1aaf54-32ff-4881-a596-042d8b0129bb",
   "metadata": {},
   "outputs": [
    {
     "data": {
      "text/html": [
       "6.3870789106442"
      ],
      "text/latex": [
       "6.3870789106442"
      ],
      "text/markdown": [
       "6.3870789106442"
      ],
      "text/plain": [
       "[1] 6.387079"
      ]
     },
     "metadata": {},
     "output_type": "display_data"
    }
   ],
   "source": [
    "Tvalue"
   ]
  },
  {
   "cell_type": "code",
   "execution_count": 26,
   "id": "a33bf7bd-eb40-40e2-bd55-33dec51c4f47",
   "metadata": {},
   "outputs": [
    {
     "data": {
      "text/html": [
       "-6.3870789106442"
      ],
      "text/latex": [
       "-6.3870789106442"
      ],
      "text/markdown": [
       "-6.3870789106442"
      ],
      "text/plain": [
       "[1] -6.387079"
      ]
     },
     "metadata": {},
     "output_type": "display_data"
    }
   ],
   "source": [
    "-Tvalue"
   ]
  },
  {
   "cell_type": "code",
   "execution_count": 27,
   "id": "e966fde3-a152-4a4d-8abf-7f25f54a8bf1",
   "metadata": {},
   "outputs": [
    {
     "data": {
      "text/html": [
       "1.89457860509001"
      ],
      "text/latex": [
       "1.89457860509001"
      ],
      "text/markdown": [
       "1.89457860509001"
      ],
      "text/plain": [
       "[1] 1.894579"
      ]
     },
     "metadata": {},
     "output_type": "display_data"
    }
   ],
   "source": [
    "qt(0.95,7)"
   ]
  },
  {
   "cell_type": "code",
   "execution_count": 28,
   "id": "597d1ecc-0980-482c-8f0c-54bbce5b1ae5",
   "metadata": {},
   "outputs": [
    {
     "data": {
      "text/html": [
       "-1.89457860509001"
      ],
      "text/latex": [
       "-1.89457860509001"
      ],
      "text/markdown": [
       "-1.89457860509001"
      ],
      "text/plain": [
       "[1] -1.894579"
      ]
     },
     "metadata": {},
     "output_type": "display_data"
    }
   ],
   "source": [
    "qt(0.05,7)"
   ]
  },
  {
   "cell_type": "markdown",
   "id": "1b7e83e7-0834-4d2c-80a4-68dfb077a32c",
   "metadata": {},
   "source": [
    "- 구힌 t value = 6.39가 유의수준 $\\alpha = 0.1$ 에서의 t value = 1.89보다 크기 때문에 유의하다는 결과가 나와 귀무가설을 기각한다.\n",
    "- 따라서 $\\beta_1$은 1이 아니다."
   ]
  },
  {
   "cell_type": "markdown",
   "id": "9fb2ca98-7254-42ac-a317-c4f3c7e8397a",
   "metadata": {},
   "source": [
    "figure로 표현"
   ]
  },
  {
   "cell_type": "code",
   "execution_count": 29,
   "id": "17859afc-a1d0-4b5c-823f-476ce00d8129",
   "metadata": {},
   "outputs": [
    {
     "data": {
      "image/png": "[encoded data removed]",
      "text/plain": [
       "plot without title"
      ]
     },
     "metadata": {
      "image/png": {
       "height": 420,
       "width": 420
      }
     },
     "output_type": "display_data"
    }
   ],
   "source": [
    "par(mfrow=c(1,1))\n",
    "basic <- seq(-3,3,by=0.01)\n",
    "plot(basic,dt(basic,df=7),type=\"l\",xlim=c(-8,8))\n",
    "abline(v=Tvalue,col=\"red\",lty=2)\n",
    "abline(v=qt(0.95,7),col=\"blue\",lty=2)\n",
    "text(x=Tvalue, y=c(0.2), labels=c(\"tvalue\\n6.39\"), pos=4, col=\"black\")\n",
    "text(x=qt(0.95,7), y=c(0.2), labels=c(\"t(0.05,7)\\n1.89\"), pos=4, col=\"black\")\n",
    "abline(v=-Tvalue,col=\"red\",lty=2)\n",
    "abline(v=qt(0.05,7),col=\"blue\",lty=2)"
   ]
  },
  {
   "cell_type": "markdown",
   "id": "3cc194d4-4b82-43c3-b15c-495621fa79de",
   "metadata": {},
   "source": [
    "(8) 무게가 3,000kg 이 되는 차량의 평균 에너지 소모량을 예측하시오. 이것은 무게가 1,000kg이 되는 차량의 에너지 소모량의 몇 배인가?"
   ]
  },
  {
   "cell_type": "markdown",
   "id": "f9fa12dd-6ee2-4437-b1e7-77fff41d01b3",
   "metadata": {},
   "source": [
    "$$\\hat{\\mu}_0 = \\hat{\\beta_0} + \\hat{\\beta_1} x_0$$"
   ]
  },
  {
   "cell_type": "code",
   "execution_count": 30,
   "id": "12611203-7348-447b-acc6-ca6f616e06ba",
   "metadata": {},
   "outputs": [
    {
     "name": "stdout",
     "output_type": "stream",
     "text": [
      "평균 에너지 소모량 =  6.372052"
     ]
    }
   ],
   "source": [
    "cat(\"평균 에너지 소모량 = \",beta0 + beta1 * 3)"
   ]
  },
  {
   "cell_type": "code",
   "execution_count": 31,
   "id": "9f0882dd-1ef6-45ad-acb4-fd087545cb43",
   "metadata": {},
   "outputs": [
    {
     "name": "stdout",
     "output_type": "stream",
     "text": [
      "무게가 3,000kg 이 되는 차량의 평균 에너지 소모량을 예측해보니 무게가 1,000kg이 되는 차량의 에너지 소모량의 3.113028 배 였다."
     ]
    }
   ],
   "source": [
    "cat(\"무게가 3,000kg 이 되는 차량의 평균 에너지 소모량을 예측해보니 무게가 1,000kg이 되는 차량의 에너지 소모량의\",(beta0 + beta1 * 3)/(beta0 + beta1 * 1),\"배 였다.\")"
   ]
  },
  {
   "cell_type": "markdown",
   "id": "e5689b4f-7985-4025-b0d4-909cc6b3bda2",
   "metadata": {},
   "source": [
    "(9) 무게가 3,000kg 이 되는 차량의 평균 에너지 소모량과 하나의 개별 $y$ 값의 90% 신뢰구간을 각각 구하시오."
   ]
  },
  {
   "cell_type": "markdown",
   "id": "cedea39d-cf87-4fa3-8b15-f66b00ee8c4c",
   "metadata": {},
   "source": [
    "**Answer**"
   ]
  },
  {
   "cell_type": "code",
   "execution_count": 32,
   "id": "01b2dee9-b98a-4ded-b2af-a3959670f5be",
   "metadata": {},
   "outputs": [
    {
     "name": "stdout",
     "output_type": "stream",
     "text": [
      "무게가 3,000kg 이 되는 차량의 평균 에너지 소모량은 6.372052 이다."
     ]
    }
   ],
   "source": [
    "cat(\"무게가 3,000kg 이 되는 차량의 평균 에너지 소모량은\",beta0 + beta1 * 3,\"이다.\")"
   ]
  },
  {
   "cell_type": "markdown",
   "id": "0e48dc98-781c-48fc-92a6-1b6549b8861b",
   "metadata": {},
   "source": [
    "$$\\hat{Var(\\hat{\\mu}_0}) = \\sigma (\\frac{1}{n} + \\frac{(x_0 - \\bar{x})^2}{S_{xx}})$$"
   ]
  },
  {
   "cell_type": "code",
   "execution_count": 33,
   "id": "e15b3d71-1f8c-4700-bfac-27d77741d21f",
   "metadata": {},
   "outputs": [],
   "source": [
    "sigma = MSE"
   ]
  },
  {
   "cell_type": "code",
   "execution_count": 34,
   "id": "1f69dfdc-74e7-4a89-82b6-f209dc14aed7",
   "metadata": {},
   "outputs": [
    {
     "data": {
      "text/html": [
       "1.6"
      ],
      "text/latex": [
       "1.6"
      ],
      "text/markdown": [
       "1.6"
      ],
      "text/plain": [
       "[1] 1.6"
      ]
     },
     "metadata": {},
     "output_type": "display_data"
    }
   ],
   "source": [
    "mean(dt$x)"
   ]
  },
  {
   "cell_type": "markdown",
   "id": "073ed33f-f6ed-431a-b7b4-8ae1ff1a93de",
   "metadata": {},
   "source": [
    "$S_{xx}$"
   ]
  },
  {
   "cell_type": "code",
   "execution_count": 35,
   "id": "248d99c9-e5bc-4577-bb4e-c587ed085d4a",
   "metadata": {},
   "outputs": [
    {
     "data": {
      "text/html": [
       "3.26"
      ],
      "text/latex": [
       "3.26"
      ],
      "text/markdown": [
       "3.26"
      ],
      "text/plain": [
       "[1] 3.26"
      ]
     },
     "metadata": {},
     "output_type": "display_data"
    }
   ],
   "source": [
    "sum((dt$x - mean(dt$x))^2)"
   ]
  },
  {
   "cell_type": "code",
   "execution_count": 36,
   "id": "074438d7-fd47-4f5a-ab1c-3b642575b7c6",
   "metadata": {},
   "outputs": [
    {
     "data": {
      "text/html": [
       "<strong>x_barx2:</strong> 3.26"
      ],
      "text/latex": [
       "\\textbf{x\\textbackslash{}\\_barx2:} 3.26"
      ],
      "text/markdown": [
       "**x_barx2:** 3.26"
      ],
      "text/plain": [
       "x_barx2 \n",
       "   3.26 "
      ]
     },
     "metadata": {},
     "output_type": "display_data"
    }
   ],
   "source": [
    "colSums(dt1)[6]"
   ]
  },
  {
   "cell_type": "markdown",
   "id": "f30e0556-b0bb-468a-9210-a623e4709fbe",
   "metadata": {},
   "source": [
    "$\\hat{Var(\\hat{\\mu_0})}$"
   ]
  },
  {
   "cell_type": "code",
   "execution_count": 37,
   "id": "aed6b53c-394d-4430-afe3-0f38dd59a981",
   "metadata": {},
   "outputs": [
    {
     "data": {
      "text/html": [
       "0.234106948837031"
      ],
      "text/latex": [
       "0.234106948837031"
      ],
      "text/markdown": [
       "0.234106948837031"
      ],
      "text/plain": [
       "[1] 0.2341069"
      ]
     },
     "metadata": {},
     "output_type": "display_data"
    }
   ],
   "source": [
    "sqrt(sigma)*(1/9 + (3-1.6)^2/3.26)"
   ]
  },
  {
   "cell_type": "code",
   "execution_count": 38,
   "id": "8fffe119-f353-4496-a8a3-f91171d9e9f2",
   "metadata": {},
   "outputs": [
    {
     "name": "stdout",
     "output_type": "stream",
     "text": [
      "hat var(hat mu zero) =  0.2341069"
     ]
    }
   ],
   "source": [
    "cat(\"hat var(hat mu zero) = \",sqrt(sigma)*(1/9 + (3-1.6)^2/3.26))"
   ]
  },
  {
   "cell_type": "markdown",
   "id": "3b6e4871-00fb-4db3-8032-c258482d2ee8",
   "metadata": {},
   "source": [
    "$\\hat{\\sigma}_{\\hat{\\mu_0}}$"
   ]
  },
  {
   "cell_type": "code",
   "execution_count": 39,
   "id": "9c418d07-414d-4e83-b3ed-64a341eb333a",
   "metadata": {},
   "outputs": [
    {
     "data": {
      "text/html": [
       "0.483845997024912"
      ],
      "text/latex": [
       "0.483845997024912"
      ],
      "text/markdown": [
       "0.483845997024912"
      ],
      "text/plain": [
       "[1] 0.483846"
      ]
     },
     "metadata": {},
     "output_type": "display_data"
    }
   ],
   "source": [
    "sqrt(sqrt(sigma)*(1/9 + (3-1.6)^2/3.26))"
   ]
  },
  {
   "cell_type": "code",
   "execution_count": 40,
   "id": "6b4eadd6-03e7-41f7-94a2-99994f9fce4f",
   "metadata": {},
   "outputs": [
    {
     "name": "stdout",
     "output_type": "stream",
     "text": [
      "hat sigma(hat mu zero) =  0.483846"
     ]
    }
   ],
   "source": [
    "cat(\"hat sigma(hat mu zero) = \", sqrt(sqrt(sigma)*(1/9 + (3-1.6)^2/3.26)))"
   ]
  },
  {
   "cell_type": "markdown",
   "id": "1a65ce28-90f4-4b04-b46b-a6f152b1bcdf",
   "metadata": {},
   "source": [
    "$\\hat{\\mu_0} \\pm t_{(\\alpha/2,(n-2))}\\hat{\\sigma_{\\hat{\\mu_0}}}$"
   ]
  },
  {
   "cell_type": "code",
   "execution_count": 41,
   "id": "dddf45d1-05f9-453c-9507-81df076a7587",
   "metadata": {},
   "outputs": [
    {
     "data": {
      "text/html": [
       "7.28873627412184"
      ],
      "text/latex": [
       "7.28873627412184"
      ],
      "text/markdown": [
       "7.28873627412184"
      ],
      "text/plain": [
       "[1] 7.288736"
      ]
     },
     "metadata": {},
     "output_type": "display_data"
    }
   ],
   "source": [
    "6.372052 + qt(0.95,7)*sqrt(sqrt(sigma)*(1/9 + (3-1.6)^2/3.26))"
   ]
  },
  {
   "cell_type": "code",
   "execution_count": 42,
   "id": "6253e314-a2e5-4bbb-9f94-3ecc5fea28a2",
   "metadata": {},
   "outputs": [
    {
     "data": {
      "text/html": [
       "5.45536772587816"
      ],
      "text/latex": [
       "5.45536772587816"
      ],
      "text/markdown": [
       "5.45536772587816"
      ],
      "text/plain": [
       "[1] 5.455368"
      ]
     },
     "metadata": {},
     "output_type": "display_data"
    }
   ],
   "source": [
    "6.372052 - qt(0.95,7)*sqrt(sqrt(sigma)*(1/9 + (3-1.6)^2/3.26))"
   ]
  },
  {
   "cell_type": "code",
   "execution_count": 43,
   "id": "17c3a6eb-0a62-444e-8ec7-7c727dc8a3f9",
   "metadata": {},
   "outputs": [
    {
     "name": "stdout",
     "output_type": "stream",
     "text": [
      "개별 y값의 90% 신뢰구간은 ( 5.455369 ~ 7.288735 ) 이다."
     ]
    }
   ],
   "source": [
    "cat(\"개별 y값의 90% 신뢰구간은 (\",5.4553690631157,\"~\",7.2887349368843,\") 이다.\")"
   ]
  },
  {
   "cell_type": "markdown",
   "id": "5e3c3618-2c05-4ffe-9d5d-31c80dd15de0",
   "metadata": {},
   "source": [
    "(10) 잔차 $e_i = y_i − \\hat{y}_i$ 를 구하고 잔차의 합이 0 임을 확인하시오."
   ]
  },
  {
   "cell_type": "markdown",
   "id": "94d6128e-b640-422a-bfe0-c6abbadabe64",
   "metadata": {},
   "source": [
    "**Answer**"
   ]
  },
  {
   "cell_type": "code",
   "execution_count": 44,
   "id": "263b5c0f-55e5-4397-9f87-f473d0a7cc1c",
   "metadata": {},
   "outputs": [],
   "source": [
    "epsilon = dt$y - (beta0 + beta1*dt$x)"
   ]
  },
  {
   "cell_type": "code",
   "execution_count": 45,
   "id": "d4214c8f-e2fc-4f27-81bc-73c4c6593291",
   "metadata": {},
   "outputs": [
    {
     "data": {
      "text/html": [
       "<style>\n",
       ".list-inline {list-style: none; margin:0; padding: 0}\n",
       ".list-inline>li {display: inline-block}\n",
       ".list-inline>li:not(:last-child)::after {content: \"\\00b7\"; padding: 0 .5ex}\n",
       "</style>\n",
       "<ol class=list-inline><li>0.169359236537151</li><li>-0.0956714383094752</li><li>-0.125732788002726</li><li>0.509236537150648</li><li>0.0254942058623033</li><li>-0.3607021131561</li><li>0.401874573960464</li><li>-0.179413769597819</li><li>-0.344444444444445</li></ol>\n"
      ],
      "text/latex": [
       "\\begin{enumerate*}\n",
       "\\item 0.169359236537151\n",
       "\\item -0.0956714383094752\n",
       "\\item -0.125732788002726\n",
       "\\item 0.509236537150648\n",
       "\\item 0.0254942058623033\n",
       "\\item -0.3607021131561\n",
       "\\item 0.401874573960464\n",
       "\\item -0.179413769597819\n",
       "\\item -0.344444444444445\n",
       "\\end{enumerate*}\n"
      ],
      "text/markdown": [
       "1. 0.169359236537151\n",
       "2. -0.0956714383094752\n",
       "3. -0.125732788002726\n",
       "4. 0.509236537150648\n",
       "5. 0.0254942058623033\n",
       "6. -0.3607021131561\n",
       "7. 0.401874573960464\n",
       "8. -0.179413769597819\n",
       "9. -0.344444444444445\n",
       "\n",
       "\n"
      ],
      "text/plain": [
       "[1]  0.16935924 -0.09567144 -0.12573279  0.50923654  0.02549421 -0.36070211\n",
       "[7]  0.40187457 -0.17941377 -0.34444444"
      ]
     },
     "metadata": {},
     "output_type": "display_data"
    }
   ],
   "source": [
    "epsilon"
   ]
  },
  {
   "cell_type": "code",
   "execution_count": 46,
   "id": "7ef653da-1893-4586-9342-342470e563a7",
   "metadata": {},
   "outputs": [
    {
     "name": "stdout",
     "output_type": "stream",
     "text": [
      "잔차의 합 =  8.881784e-16"
     ]
    }
   ],
   "source": [
    "cat(\"잔차의 합 = \",sum(epsilon))"
   ]
  },
  {
   "cell_type": "markdown",
   "id": "4b44d7c3-33f9-4e0b-985c-2c28be7059e1",
   "metadata": {},
   "source": [
    "합이 0인 것을 확인했다."
   ]
  },
  {
   "cell_type": "markdown",
   "id": "43b06984-4ef2-48c3-92ea-9c80e34a7381",
   "metadata": {},
   "source": [
    "(11) 잔차들의 $x_i$ 에 대한 가중합, $\\sum x_ie_i$ 를 구하시오."
   ]
  },
  {
   "cell_type": "code",
   "execution_count": 47,
   "id": "0709e5ae-d48f-4ac5-9bd3-a8ec0387f656",
   "metadata": {},
   "outputs": [
    {
     "data": {
      "text/html": [
       "9.99200722162641e-16"
      ],
      "text/latex": [
       "9.99200722162641e-16"
      ],
      "text/markdown": [
       "9.99200722162641e-16"
      ],
      "text/plain": [
       "[1] 9.992007e-16"
      ]
     },
     "metadata": {},
     "output_type": "display_data"
    }
   ],
   "source": [
    "sum(dt$x * epsilon)"
   ]
  },
  {
   "cell_type": "markdown",
   "id": "91268dca-f986-4700-8ad9-a16e94e20678",
   "metadata": {},
   "source": [
    "잔차들의 $x_i$ 에 대한 가중합, $\\sum x_ie_i$이 0인 것을 확인했다."
   ]
  },
  {
   "cell_type": "markdown",
   "id": "041164d6-f09c-4784-a72a-49dd37604d09",
   "metadata": {},
   "source": [
    "(12) 잔차들의 $\\hat{y}$에 대한 가중합 $\\sum \\hat{y}_ie_i$, 를 구하시오."
   ]
  },
  {
   "cell_type": "code",
   "execution_count": 48,
   "id": "41718459-f330-4ec8-a953-02674c172dcc",
   "metadata": {},
   "outputs": [
    {
     "data": {
      "text/html": [
       "1.74860126378462e-15"
      ],
      "text/latex": [
       "1.74860126378462e-15"
      ],
      "text/markdown": [
       "1.74860126378462e-15"
      ],
      "text/plain": [
       "[1] 1.748601e-15"
      ]
     },
     "metadata": {},
     "output_type": "display_data"
    }
   ],
   "source": [
    "sum((beta0 + beta1*dt$x)*epsilon)"
   ]
  },
  {
   "cell_type": "markdown",
   "id": "3a149928-ff32-418a-b450-78c9a53af295",
   "metadata": {},
   "source": [
    "잔차들의 $\\hat{y}$에 대한 가중합 $\\sum \\hat{y}_ie_i$이 0인 것을 확인했다."
   ]
  },
  {
   "cell_type": "markdown",
   "id": "0da6d798-feec-4688-86c0-5d045b7c7677",
   "metadata": {},
   "source": [
    "(13) 원점을 지나는 회귀직선을 구하시오."
   ]
  },
  {
   "cell_type": "markdown",
   "id": "4b9a971a-49c6-497e-813a-6b00c3b87cbf",
   "metadata": {},
   "source": [
    "**Answer**"
   ]
  },
  {
   "cell_type": "markdown",
   "id": "20e7b2bb-f38a-4835-b67d-ba7a30e87a74",
   "metadata": {},
   "source": [
    "$\\hat{\\beta_1} = \\frac{\\sum(x_iy_i)}{\\sum(x_i^2)}$"
   ]
  },
  {
   "cell_type": "code",
   "execution_count": 49,
   "id": "86771a7b-62c3-4858-bc60-cdb94b21f42c",
   "metadata": {},
   "outputs": [
    {
     "data": {
      "text/html": [
       "2.09923954372624"
      ],
      "text/latex": [
       "2.09923954372624"
      ],
      "text/markdown": [
       "2.09923954372624"
      ],
      "text/plain": [
       "[1] 2.09924"
      ]
     },
     "metadata": {},
     "output_type": "display_data"
    }
   ],
   "source": [
    "sum(dt$x * dt$y)/sum((dt$x^2))"
   ]
  },
  {
   "cell_type": "code",
   "execution_count": 50,
   "id": "1e00fe99-1e9e-47f3-b98f-033096aaef38",
   "metadata": {},
   "outputs": [],
   "source": [
    "beta1_0 <- sum(dt$x * dt$y)/sum((dt$x^2))"
   ]
  },
  {
   "cell_type": "code",
   "execution_count": 51,
   "id": "b3156a50-cf55-4338-bd22-364f0b1871eb",
   "metadata": {},
   "outputs": [
    {
     "name": "stdout",
     "output_type": "stream",
     "text": [
      "hat beta1_0 =  2.09924"
     ]
    }
   ],
   "source": [
    "cat(\"hat beta1_0 = \", beta1_0)"
   ]
  },
  {
   "cell_type": "markdown",
   "id": "6071beba-f069-4359-a98d-62d7535b599c",
   "metadata": {},
   "source": [
    "- 원점을 지나는 회귀직선은 $\\hat{y} =  2.09924x$의 모형으로 적합되었다."
   ]
  },
  {
   "cell_type": "markdown",
   "id": "c58517d7-8981-4f08-879c-2cd9cdc32d2d",
   "metadata": {},
   "source": [
    "(14) 위 회귀직선에서 회귀계수(기울기)의 90% 신뢰구간을 구하시오."
   ]
  },
  {
   "cell_type": "markdown",
   "id": "ea124df5-e4ae-47d5-8616-4356cb8dd5af",
   "metadata": {},
   "source": [
    "**Answer**"
   ]
  },
  {
   "cell_type": "markdown",
   "id": "c3b91add-18a0-4052-842e-875b47e776c5",
   "metadata": {},
   "source": [
    "$$\\hat{\\beta_1} \\pm t_{(\\alpha/2,n-1)}\\frac{\\hat{\\sigma}}{\\sqrt{S_{xx}}}$$"
   ]
  },
  {
   "cell_type": "code",
   "execution_count": 52,
   "id": "5d1e2b83-f24b-48f7-886f-26269bab482c",
   "metadata": {},
   "outputs": [
    {
     "data": {
      "text/html": [
       "<strong>x_barx2:</strong> 3.26"
      ],
      "text/latex": [
       "\\textbf{x\\textbackslash{}\\_barx2:} 3.26"
      ],
      "text/markdown": [
       "**x_barx2:** 3.26"
      ],
      "text/plain": [
       "x_barx2 \n",
       "   3.26 "
      ]
     },
     "metadata": {},
     "output_type": "display_data"
    }
   ],
   "source": [
    "colSums(dt1)[6]"
   ]
  },
  {
   "cell_type": "code",
   "execution_count": 53,
   "id": "f91c64b8-a672-4d9e-a005-0ef8a9deb09b",
   "metadata": {},
   "outputs": [],
   "source": [
    "SSR_0 = sum( ( (2.09924*dt$x) )^2 )"
   ]
  },
  {
   "cell_type": "code",
   "execution_count": 54,
   "id": "69c8c32c-b367-4516-86c3-33fc9d62a60c",
   "metadata": {},
   "outputs": [],
   "source": [
    "SSE_0 = sum((dt$y - 2.09924*dt$x)^2)"
   ]
  },
  {
   "cell_type": "code",
   "execution_count": 55,
   "id": "dfc0125c-8ebb-421c-8c75-9373616ed4c4",
   "metadata": {},
   "outputs": [],
   "source": [
    "SST_0 = sum(dt$y^2)"
   ]
  },
  {
   "cell_type": "code",
   "execution_count": 56,
   "id": "69f07592-e871-4838-bbf8-21bb2c8537ca",
   "metadata": {},
   "outputs": [],
   "source": [
    "MSE_0 = SSE_0/8"
   ]
  },
  {
   "cell_type": "code",
   "execution_count": 57,
   "id": "793cd412-92dd-49e0-bf8c-9cb03b641949",
   "metadata": {},
   "outputs": [],
   "source": [
    "MSR_0 = SSR_0/1"
   ]
  },
  {
   "cell_type": "code",
   "execution_count": 58,
   "id": "c48ebd58-c165-4a03-9ade-15966e107cfb",
   "metadata": {},
   "outputs": [],
   "source": [
    "sigma_0 = sqrt(MSE_0)"
   ]
  },
  {
   "cell_type": "code",
   "execution_count": 59,
   "id": "c92c13a8-14f0-4e0e-9968-1e1b033fcef9",
   "metadata": {},
   "outputs": [
    {
     "data": {
      "text/html": [
       "2.41896448320474"
      ],
      "text/latex": [
       "2.41896448320474"
      ],
      "text/markdown": [
       "2.41896448320474"
      ],
      "text/plain": [
       "[1] 2.418964"
      ]
     },
     "metadata": {},
     "output_type": "display_data"
    }
   ],
   "source": [
    "beta1_0 + qt(0.95,8) * sigma_0/sqrt(3.26)"
   ]
  },
  {
   "cell_type": "code",
   "execution_count": 60,
   "id": "dc4ff775-7df3-487b-9c78-d57e6a7a9183",
   "metadata": {},
   "outputs": [
    {
     "data": {
      "text/html": [
       "1.77951460424773"
      ],
      "text/latex": [
       "1.77951460424773"
      ],
      "text/markdown": [
       "1.77951460424773"
      ],
      "text/plain": [
       "[1] 1.779515"
      ]
     },
     "metadata": {},
     "output_type": "display_data"
    }
   ],
   "source": [
    "beta1_0 - qt(0.95,8) * sigma_0/sqrt(3.26)"
   ]
  },
  {
   "cell_type": "code",
   "execution_count": 61,
   "id": "11144cb5-6dbd-4260-8882-98b03ff62945",
   "metadata": {},
   "outputs": [
    {
     "name": "stdout",
     "output_type": "stream",
     "text": [
      "원점을 지나는 회귀직선에서 회귀계수(기울기)의 90% 신뢰구간은 ( 1.779515 ~ 2.418964 )이다."
     ]
    }
   ],
   "source": [
    "cat(\"원점을 지나는 회귀직선에서 회귀계수(기울기)의 90% 신뢰구간은 (\",beta1_0 - qt(0.95,8) * sigma_0/sqrt(3.26),\"~\",beta1_0 + qt(0.95,8) * sigma_0/sqrt(3.26),\")이다.\")"
   ]
  },
  {
   "cell_type": "markdown",
   "id": "3106b4a4-c955-44fa-94b1-18fee3d5c99e",
   "metadata": {},
   "source": [
    "- $\\beta_1$의 신뢰구간은 0을 포함하지 않았다.($H_0 : \\beta_1=0$ 기각)\n",
    "- 신뢰구간으로 신뢰구간에 0이 포함된 $\\beta_1$ 계수가 유의미하다는 것을 알 수 있다."
   ]
  },
  {
   "cell_type": "markdown",
   "id": "fc1efb95-34bc-4dd1-a365-76ce546ecd0e",
   "metadata": {},
   "source": [
    "(15) 원점을 지나는 회귀직선의 결정계수를 구하시오."
   ]
  },
  {
   "cell_type": "markdown",
   "id": "9c3cf795-5831-49df-acb0-0558d0a058e9",
   "metadata": {},
   "source": [
    "**Answer**"
   ]
  },
  {
   "cell_type": "markdown",
   "id": "fb07e023-0148-4e36-ba8f-5204d007f927",
   "metadata": {},
   "source": [
    "$R^2 = \\frac{SSR}{SST} = r^2$"
   ]
  },
  {
   "cell_type": "code",
   "execution_count": 62,
   "id": "cdc4dfe0-6220-48ab-a22d-ca0754ca3486",
   "metadata": {},
   "outputs": [
    {
     "data": {
      "text/html": [
       "0.993392179573841"
      ],
      "text/latex": [
       "0.993392179573841"
      ],
      "text/markdown": [
       "0.993392179573841"
      ],
      "text/plain": [
       "[1] 0.9933922"
      ]
     },
     "metadata": {},
     "output_type": "display_data"
    }
   ],
   "source": [
    "SSR_0/SST_0"
   ]
  },
  {
   "cell_type": "code",
   "execution_count": 63,
   "id": "9f9a2d19-882e-452e-ae16-628072278426",
   "metadata": {},
   "outputs": [
    {
     "name": "stdout",
     "output_type": "stream",
     "text": [
      "원점을 지나는 회귀직선의 결정계수는  0.9933922 로 약 0.99 % 였다."
     ]
    }
   ],
   "source": [
    "cat(\"원점을 지나는 회귀직선의 결정계수는 \", SSR_0/SST_0,\"로 약\",round(SSR_0/SST_0,2),\"% 였다.\")"
   ]
  },
  {
   "cell_type": "markdown",
   "id": "03228bb4-726b-4dfe-a424-fcc8a6722df7",
   "metadata": {},
   "source": [
    "(16) 원점을 포함한 회귀직선과 포함하지 않은 회귀직선의 결과를 비교하여라."
   ]
  },
  {
   "cell_type": "markdown",
   "id": "9306b8cc-8814-4682-99f8-dd1c2404d666",
   "metadata": {},
   "source": [
    "**Answer**"
   ]
  },
  {
   "cell_type": "code",
   "execution_count": 64,
   "id": "dcd21555-9572-4ae8-bf2c-23133b3ebfc2",
   "metadata": {},
   "outputs": [
    {
     "name": "stdout",
     "output_type": "stream",
     "text": [
      "원점을 포함하지 않는 회귀직선의 결정계수는  0.9527533 로, 원점을 포함하는 회귀직선의 결정계수인  0.9933922 보다 작다."
     ]
    }
   ],
   "source": [
    "cat(\"원점을 포함하지 않는 회귀직선의 결정계수는 \",SSR/SST,\"로, 원점을 포함하는 회귀직선의 결정계수인 \",SSR_0/SST_0,\"보다 작다.\")"
   ]
  },
  {
   "cell_type": "code",
   "execution_count": 65,
   "id": "59aaf742-9eaf-4b0e-a9d1-0059ba5a18cc",
   "metadata": {},
   "outputs": [
    {
     "name": "stdout",
     "output_type": "stream",
     "text": [
      "원점을 포함하지 않는 회귀직선의 평균재곱오차는  0.1080081 이며, 원점을 포함하는 회귀직선의 평균제곱오차는  0.0963731 이다. 원점을 포함하는 모형의 오차가 조금 더 작았다."
     ]
    }
   ],
   "source": [
    "cat(\"원점을 포함하지 않는 회귀직선의 평균재곱오차는 \",MSE,\"이며, 원점을 포함하는 회귀직선의 평균제곱오차는 \",MSE_0,\"이다. 원점을 포함하는 모형의 오차가 조금 더 작았다.\")"
   ]
  },
  {
   "cell_type": "code",
   "execution_count": 66,
   "id": "22b1231d-210c-499e-8817-a36703987ad5",
   "metadata": {},
   "outputs": [],
   "source": [
    "Fvalue = MSR/MSE"
   ]
  },
  {
   "cell_type": "code",
   "execution_count": 67,
   "id": "654651f0-fcf5-4b29-a622-30444c698265",
   "metadata": {},
   "outputs": [],
   "source": [
    "Fvalue_0 = MSR_0 / MSE_0"
   ]
  },
  {
   "cell_type": "code",
   "execution_count": 68,
   "id": "99214098-9575-4ca1-9142-c2d9e15346bf",
   "metadata": {},
   "outputs": [
    {
     "name": "stdout",
     "output_type": "stream",
     "text": [
      "원점을 포함하지 않는 회귀직선의 F 값은  141.1577 로, 원점을 포함하는 회귀직선의 F 값인  1202.608 보다 작다. 따라서 원점을 포함한 모델이 회귀모형애 의해 설명되는 부분이 더 크며, 오차항에 기인된 부분이 더 작다."
     ]
    }
   ],
   "source": [
    "cat(\"원점을 포함하지 않는 회귀직선의 F 값은 \",Fvalue,\"로, 원점을 포함하는 회귀직선의 F 값인 \",Fvalue_0,\"보다 작다. 따라서 원점을 포함한 모델이 회귀모형애 의해 설명되는 부분이 더 크며, 오차항에 기인된 부분이 더 작다.\")"
   ]
  },
  {
   "cell_type": "code",
   "execution_count": 69,
   "id": "07a62866-9036-40c6-9ecb-43d1dce7a9fe",
   "metadata": {},
   "outputs": [
    {
     "name": "stdout",
     "output_type": "stream",
     "text": [
      "원점을 포함하지 않는 회귀직선의 p value 는  1.614709e-07 로, 원점을 포함하는 회귀직선의 p value인 1.728622e-12 과 같이 p value이 충분히 작아 두 모형이 모두 유의함을 알 수 있었다."
     ]
    }
   ],
   "source": [
    "cat(\"원점을 포함하지 않는 회귀직선의 p value 는 \",df(Fvalue,1,7),\"로, 원점을 포함하는 회귀직선의 p value인\",df(Fvalue_0,1,8),\"과 같이 p value이 충분히 작아 두 모형이 모두 유의함을 알 수 있었다.\")"
   ]
  },
  {
   "cell_type": "code",
   "execution_count": 70,
   "id": "0e67a6a2-fe1c-4b7b-af28-a163cff057d7",
   "metadata": {},
   "outputs": [
    {
     "data": {
      "image/png": "[encoded data removed]",
      "text/plain": [
       "plot without title"
      ]
     },
     "metadata": {
      "image/png": {
       "height": 420,
       "width": 420
      }
     },
     "output_type": "display_data"
    },
    {
     "data": {
      "image/png": "[encoded data removed]",
      "text/plain": [
       "plot without title"
      ]
     },
     "metadata": {
      "image/png": {
       "height": 420,
       "width": 420
      }
     },
     "output_type": "display_data"
    }
   ],
   "source": [
    "plot(beta0 + beta1*x~x,\n",
    "     data = dt,\n",
    "     xlab = \"원점을 지나지 않는 모형\",\n",
    "     ylab = \"\",\n",
    "     pch  = 16,\n",
    "     cex  = 1,type='l',\n",
    "     col  = \"blue\")\n",
    "plot(beta1_0*x~x,\n",
    "     data = dt,\n",
    "     xlab = \"원점을 지나는 모형\",\n",
    "     ylab = \"\",\n",
    "     pch  = 16,\n",
    "     cex  = 1,type='l',\n",
    "     col  = \"red\")"
   ]
  },
  {
   "cell_type": "markdown",
   "id": "0baaf3c5-48ee-4dd2-af98-a6b872f95a8e",
   "metadata": {},
   "source": [
    "- 선형성 만족"
   ]
  },
  {
   "cell_type": "code",
   "execution_count": 71,
   "id": "cf923c43-bf30-4476-8c07-e5e055d076ad",
   "metadata": {},
   "outputs": [],
   "source": [
    "epsilon = dt$y - beta0 + beta1*dt$x\n",
    "epsilon_0 = dt$y - beta1_0*dt$x"
   ]
  },
  {
   "cell_type": "code",
   "execution_count": 72,
   "id": "c1691d32-9726-47aa-8776-f7ad8b67a5d1",
   "metadata": {},
   "outputs": [
    {
     "data": {
      "image/png": "[encoded data removed]",
      "text/plain": [
       "plot without title"
      ]
     },
     "metadata": {
      "image/png": {
       "height": 420,
       "width": 420
      }
     },
     "output_type": "display_data"
    },
    {
     "data": {
      "image/png": "[encoded data removed]",
      "text/plain": [
       "plot without title"
      ]
     },
     "metadata": {
      "image/png": {
       "height": 420,
       "width": 420
      }
     },
     "output_type": "display_data"
    }
   ],
   "source": [
    "plot(epsilon,\n",
    "     xlab = \"원점을 지나지 않는 모형\",\n",
    "     ylab = \"\",\n",
    "     pch  = 16,\n",
    "     cex  = 1,\n",
    "     col  = \"blue\")\n",
    "plot(epsilon_0,\n",
    "     xlab = \"원점을 지나는 모형\",\n",
    "     ylab = \"\",\n",
    "     pch  = 16,\n",
    "     cex  = 1,\n",
    "     col  = \"red\")"
   ]
  },
  {
   "cell_type": "markdown",
   "id": "cca4d289-73d7-4953-ab58-bf3cbbc8f794",
   "metadata": {},
   "source": [
    "- 원점을 지나지 않는 모형이 한쪽 부호에 머무는 경향이 있어보인다.(독립성을 만족하지 않을 수 있다.)\n",
    "- 원점을 지나는 모형은 그러한 경향이 없고, 등분산성을 만족하는 것처럼 보인다."
   ]
  },
  {
   "cell_type": "code",
   "execution_count": 73,
   "id": "9987029e-27e0-4db9-b214-d7e059b0f67b",
   "metadata": {},
   "outputs": [
    {
     "data": {
      "text/plain": [
       "\n",
       "\tShapiro-Wilk normality test\n",
       "\n",
       "data:  beta0 + beta1 * dt$x\n",
       "W = 0.95279, p-value = 0.7207\n"
      ]
     },
     "metadata": {},
     "output_type": "display_data"
    }
   ],
   "source": [
    "shapiro.test(beta0 + beta1*dt$x)"
   ]
  },
  {
   "cell_type": "code",
   "execution_count": 74,
   "id": "943885bb-94c3-4150-904a-e8779f919ec8",
   "metadata": {},
   "outputs": [
    {
     "data": {
      "text/plain": [
       "\n",
       "\tShapiro-Wilk normality test\n",
       "\n",
       "data:  beta1_0 * dt$x\n",
       "W = 0.95279, p-value = 0.7207\n"
      ]
     },
     "metadata": {},
     "output_type": "display_data"
    }
   ],
   "source": [
    "shapiro.test(beta1_0*dt$x)"
   ]
  },
  {
   "cell_type": "markdown",
   "id": "0261fc74-4440-4bd4-b5bd-154554cba8a3",
   "metadata": {},
   "source": [
    "- 두 모형 모두 정규성 가정을 만족했다."
   ]
  },
  {
   "cell_type": "markdown",
   "id": "e2bf8073-feb7-49b2-bf50-6698e2bf0a4e",
   "metadata": {},
   "source": [
    "ANOVA table 비교"
   ]
  },
  {
   "cell_type": "markdown",
   "id": "5849132d-9ac1-4485-bbeb-6bbdc37222aa",
   "metadata": {},
   "source": [
    "|y=beta0+beta1x|df|sum of square|mean of square| F value| p value|\n",
    "|:---:|:---:|:---:|:---:|:---:|:---:|\n",
    "|x|1|15.24617|15.24617|141.1584|1.614672e-07|\n",
    "|Residuals|7|0.7560522|0.1080075|||"
   ]
  },
  {
   "cell_type": "markdown",
   "id": "3d620b34-6c27-4c72-bd44-516a7d35ad2a",
   "metadata": {},
   "source": [
    "|y=beta1x|df|sum of square|mean of square| F value| p value|\n",
    "|:---:|:---:|:---:|:---:|:---:|:---:|\n",
    "|x|1|115.89906559088|115.89906559088|1202.60806139735|1.728622e-12|\n",
    "|Residuals|8|0.77098479088|0.09637309886|||"
   ]
  },
  {
   "cell_type": "markdown",
   "id": "360190bf-4055-48b6-858a-6cf4a1696c20",
   "metadata": {},
   "source": [
    "3. (강의노트 CH04, p9) 다음이 성립함을 증명하시오."
   ]
  },
  {
   "cell_type": "markdown",
   "id": "ae79ec21-7704-4950-8630-f75fe444ade2",
   "metadata": {},
   "source": [
    "$$\\hat{beta}_0 ~ N\\big( \\beta_0 , \\sigma^2\\big( \\frac{1}{n} + \\frac{\\bar{x}^2}{S_{(xx)}} \\big) \\big)$$"
   ]
  },
  {
   "cell_type": "markdown",
   "id": "540128c7-decf-455b-8206-b826459ee087",
   "metadata": {},
   "source": [
    "**Answer**"
   ]
  },
  {
   "cell_type": "markdown",
   "id": "da61cd12-a3a6-4e4b-9fb0-9484f1a14a87",
   "metadata": {},
   "source": [
    "$\\hat{\\beta_0}$\n",
    "\n",
    "$= \\bar{y} - \\hat{\\beta_1} \\bar{x} = \\bar{y} - \\frac{S_{xy}}{S_{xx}}\\bar{x}$\n",
    "\n",
    "$= \\bar{y} - \\frac{\\sum(x_i - \\bar{x})(y_i - \\bar{y})}{S_{xx}}\\bar{x}$\n",
    "\n",
    "$= \\bar{y} - \\sum\\frac{(x_i-\\bar{x})y_i\\bar{x}-(x_i - \\bar{x})\\bar{y}\\bar{x}}{S_{xx}}$\n",
    "\n",
    "$= \\bar{y} - \\sum\\frac{(x_i - \\bar{x})}{S_{xx}}y_i\\bar{x} - \\frac{\\bar{x}\\bar{y}}{S_{xx}}\\sum(s_i - \\bar{x})$\n",
    "\n",
    "$= \\bar{y} - \\sum\\frac{(s_i - \\bar{x})}{S_{xx}}y_i\\bar{x}$\n",
    "\n",
    "$\\approx \\bar{y} - \\sum a_iy_i\\bar{x}$"
   ]
  },
  {
   "cell_type": "markdown",
   "id": "152f27b2-d7ba-4bed-9777-38d7a09ca293",
   "metadata": {},
   "source": [
    "$E(\\hat{\\beta_0})$\n",
    "\n",
    "$=\\bar{y} - \\bar{x}\\sum a_i E(y_i)$\n",
    "\n",
    "$=\\bar{y} - \\bar{x}\\sum a_i (\\beta_0 + \\beta_1 x_i)$\n",
    "\n",
    "$=\\bar{y} - (\\beta_0\\bar{x}\\sum a_i + \\beta_1 \\bar{x} \\sum a_i x_i)$\n",
    "\n",
    "$=\\bar{y} - \\beta_1\\bar{x} = \\beta_0$\n",
    "\n",
    "$\\star \\sum a_i = \\sum\\frac{x_i - \\bar{x}}{S_{xx}} = \\frac{1}{S_{xx}}\\sum(x_i-\\bar{x} )= 0$\n",
    "\n",
    "$\\star \\sum a_i x_i = \\sum\\frac{(x_i - \\bar{x})x_i}{S_{xx}}= \\frac{1}{S_{xx}} \\sum(x_i - \\bar{x}(x_i - \\bar{x} + \\bar{x} = \\frac{1}{S_{xx}} \\sum(x_i - \\bar{x})^2 = 1$"
   ]
  },
  {
   "cell_type": "markdown",
   "id": "695f5a47-2bf5-46b0-bd24-68e36a814868",
   "metadata": {},
   "source": [
    "$Var(\\hat{\\beta_0})$\n",
    "\n",
    "$=Var(\\bar{y} - \\bar{x}\\sum a_i x_i)$\n",
    "\n",
    "$=var(\\frac{y_i}{n} - \\bar{x}\\sum a_i y_i)$\n",
    "\n",
    "$=\\frac{\\sigma^2}{n} - \\bar{x}^2\\sigma^2\\sum a_i^2$\n",
    "\n",
    "$ = \\frac{\\sigma^2}{n} - \\frac{\\bar{x}^2\\sigma^2}{S_{xx}}$\n",
    "\n",
    "$= \\sigma^2(\\frac{1}{n} - \\frac{\\bar{x}^2}{S_{xx}})$\n",
    "\n",
    "$\\star \\sum a_i^2 = \\sum\\frac{(x_i - \\bar{x})^2}{S_{xx}} = \\frac{1}{S_{xx}^2}\\sum(x_i - \\bar{x})^2 = \\frac{1}{S_{xx}}$"
   ]
  }
 ],
 "metadata": {
  "kernelspec": {
   "display_name": "R",
   "language": "R",
   "name": "ir"
  },
  "language_info": {
   "codemirror_mode": "r",
   "file_extension": ".r",
   "mimetype": "text/x-r-source",
   "name": "R",
   "pygments_lexer": "r",
   "version": "4.1.2"
  }
 },
 "nbformat": 4,
 "nbformat_minor": 5
}
