{
 "cells": [
  {
   "cell_type": "markdown",
   "id": "a327a00e-3d5a-4562-86ad-3bf83eb54fe4",
   "metadata": {
    "id": "d44ba9bc-ebf3-49d8-b2db-9d49bf1bec22",
    "tags": []
   },
   "source": [
    "# Wasserstein GAN\n",
    "> Martin Arjovsky(Courant Institute of Mathematical Sciences), Soumith Chintala(Facebook AI Research), and L´eon Bottou(Courant Institute of Mathematical Sciences, Facebook AI Research)\n",
    "\n",
    "- toc:true\n",
    "- branch: master\n",
    "- badges: false\n",
    "- comments: false \n",
    "- author: 최서연\n",
    "- categories: [Wasserstein GAN, GAN]"
   ]
  },
  {
   "cell_type": "markdown",
   "id": "0d24ed9b-b50c-4ca2-bcae-c57a33e17432",
   "metadata": {},
   "source": [
    "ref: https://arxiv.org/pdf/1701.07875.pdf"
   ]
  },
  {
   "cell_type": "markdown",
   "id": "6f44059a-06b2-4b20-a746-f457c856a886",
   "metadata": {},
   "source": [
    "-----------"
   ]
  },
  {
   "cell_type": "markdown",
   "id": "fd080658-57e9-44a0-96b3-4efd922a24ac",
   "metadata": {},
   "source": [
    "wgan math: https://www.slideshare.net/ssuser7e10e4/wasserstein-gan-i"
   ]
  },
  {
   "cell_type": "markdown",
   "id": "e1623737-405d-43da-b6ff-e00196084a99",
   "metadata": {},
   "source": [
    "jonathan hui: https://jonathan-hui.medium.com/gan-wasserstein-gan-wgan-gp-6a1a2aa1b490"
   ]
  },
  {
   "cell_type": "markdown",
   "id": "5d92742f-499c-4917-b609-c11fee6438ff",
   "metadata": {},
   "source": [
    "-----------"
   ]
  },
  {
   "cell_type": "markdown",
   "id": "e0f55c08-cda0-4249-abae-e2dc1108e54d",
   "metadata": {
    "tags": []
   },
   "source": [
    "## Different Distances"
   ]
  },
  {
   "cell_type": "markdown",
   "id": "1426c533-2fc9-4042-a089-4da4bf268d94",
   "metadata": {},
   "source": [
    "- Let $X$ be a compact metric set (such as the space of images $[0, 1]^d$) \n",
    "    - compact하다는 것은 close하고 bounded 하다는 것!\n",
    "- and let $Σ$ denote the set of all the Borel subsets of $X$ . \n",
    "- Let $Prob(X )$ denote the space of probability measures defined on $X$ .\n",
    "- We can now define elementary distances and divergences between two distributions $P_r, P_g ∈ Prob(X )$\n",
    "    - The Total Variation (TV) distance\n",
    "        - Total Variation(TV)은 두 확률측도의 측정값이 벌어질 수 있는 값 중 가장 큰 값(혹은  supremum)\n",
    "        - 같은 집합 A라 하더라도 두 확률분포가 측정하는 값은 다를 수 있고, 이 때 TV는 모든 $A \\in \\Sigma$에 대해 가장 큰 값으로 정의한 것\n",
    "        - 만약 두 확률분포의 확률밀도함수가 서로 겹치지 않는다면(확률분포의 suppot의 교집합이 공집합이라면) TV는 무조건 1\n",
    "    - The Kullback-Leibler (KL) divergence\n",
    "        - KL은 대칭성과 삼각부등식이 깨지기 때문에 metric이 아니지만, Premetric!\n",
    "        - TV 보다 Strong함(즉, KL으로 TV 설명 가능), 그래서 TV에서 수렴하지 않으면 KL에서 수렴하지 않음\n",
    "    - The Jensen-Shannon (JS) divergence\n",
    "        - JS는 TV랑 equivalent 함.(즉, 서로를 표현 가능), 그래서 TV에서 수렴하지 않으면 JS에서 수렴하지 않음\n",
    "    - The Earth-Mover (EM) distance or Wasserstein-1\n",
    "    - p값들은 절대적으로 연속!\n",
    "    - 그러므로 카이제곱에서 정의되는 같은 측정치 뮤가 나옴.\n",
    "- The following example illustrates how apparently simple sequences of probability distributions converge under the EM distance but do not converge under the other distances and divergences defined above\n",
    "    - 다음 예시에서 보기에 단순한 확률 분포 시퀀스가 EM 거리에서는 수렴하지만 제시된 4개의 거리 및 발산에서는 수렴하지 않음을 보임."
   ]
  },
  {
   "cell_type": "markdown",
   "id": "d4097040-3401-46a6-9ee4-76c4ac51a36e",
   "metadata": {},
   "source": [
    "$X$: compact metric set\n",
    "- Metric은 Distance라고도 불리며, 5가지 성분 만족하는 거리함수 d가 존재하는 걸 말함\n",
    "    - $d(x,y) \\geq 0$\n",
    "    - $d(x,y) = 0$ 이면 $x=y$ 다.\n",
    "    - $x=y$이면 $d(x,y) = 0$이다.\n",
    "    - $d(x,y)=d(y,x)$: 대칭이다.\n",
    "    - $d(x,y) \\leq d(x,z) + d(z,y)$ 삼각부등식이 성립한다.\n",
    "- metric의 개념의 중요성\n",
    "    - 수렴convergence의 개념을 정의내릴 수 있기 때문."
   ]
  },
  {
   "cell_type": "markdown",
   "id": "1f45c146-5128-4da5-a07e-7a50de90f9cf",
   "metadata": {},
   "source": [
    "*Example 1 (Learning parallel lines)*"
   ]
  },
  {
   "cell_type": "markdown",
   "id": "0ecaa6d3-dd0c-40c3-bdf4-ad86c41af11e",
   "metadata": {},
   "source": [
    "- Let $Z ∼ U[0, 1]$ the uniform distribution on the unit interval.\n",
    "- Let $P_0$ be the distribution of $(0, Z) ∈ R^2$ (a 0 on the x-axis and the random variable Z on the y-axis), uniform on a straight vertical line passing through the origin.\n",
    "- Now let $g_θ(z) = (θ, z)$ with $θ$ a single real parameter. \n",
    "- It is easy to see that in this case,"
   ]
  },
  {
   "cell_type": "markdown",
   "id": "c34e0151-7933-4a9b-8cc3-0e548b8d082b",
   "metadata": {},
   "source": [
    "- $\\theta \\neq 0$이라면 $P_0$와 $P_{\\theta}$는 서로 겹치지 않는 확률분포이므로 TV가 1이 된다.\n",
    "- $\\theta \\neq 0$이라면\n",
    "    - $P_0 (x) \\neq 0 \\rightarrow P_{\\theta}(x) = 0$\n",
    "    - $P_{\\theta} (x) \\neq 0 \\rightarrow P_{0}(x) = 0$\n",
    "        - 따라서 $P_{\\theta}>0$인 곳에서 $log\\big( \\frac{P_{\\theta}(x)}{P_0 (x)} \\big)$값은 무한이 된다.\n",
    "        - 그래서 KL도 무한, 단, $\\theta = 0$이 되지 않을 때\n",
    "- $\\theta \\neq 0$이라면\n",
    "    - $P_0 (x) \\neq 0 \\rightarrow P_{\\theta}(x) = 0 \\rightarrow P_m = \\frac{P_0}{2} \\rightarrow KL(P_0\\|P_m) = log2$\n",
    "    - $P_{\\theta} (x) \\neq 0 \\rightarrow P_{0}(x) = 0 \\rightarrow P_m = frac{P_{\\theta}}{2} \\rightarrow KL()P_{\\theta}\\|P_m) = log2$\n",
    "        - JS는 KL처럼 무한대는 되지 않지만 TV처럼 $\\theta \\neq 0$일땐 log2로 일정한 값만 가지게 된다.\n",
    "        - $\\theta = 0$이면 0\n",
    "**TV나 KL이나 JS는 두 확률분포 $\\mathbb{P}_R, \\mathbb{P}_G$가 서로 다른 영역에서 측정된 경우 완전히 다르다고 판단을 내리게끔 metric이 계산되기 때문, 즉, 두 확률 분포의 차이를 harsh하게 봄**\n",
    "    - GAN에서는 discriminator의 학습이 잘 죽는 이유..\n",
    "    - 따라서 GAN 학습의 유연성을 위해 수렴에 focus를 맞춘 metric 필요"
   ]
  },
  {
   "cell_type": "markdown",
   "id": "4172079f-939c-4817-8eef-93e42bd27d97",
   "metadata": {},
   "source": [
    "- When $θ_t → 0$, the sequence ($P_{θ_t})_{t∈N}$ converges to $P_0$ under the EM distance, but does not converge at all under either the JS, KL, reverse KL, or TV divergences.\n",
    "- Figure 1 illustrates this for the case of the EM and JS distances"
   ]
  },
  {
   "cell_type": "markdown",
   "id": "f2121aa2-4004-4fba-ac4b-6d93242ee5d1",
   "metadata": {},
   "source": [
    "- Example 1 gives us a case where we can learn a probability distribution over a low dimensional manifold by doing gradient descent on the EM distance. \n",
    "- This cannot be done with the other distances and divergences because the resulting loss function is not even continuous.\n",
    "    - 결과 손실 함수가 연속적이지 않기 때문에 다른 거리와 발산으로 할 수 없음.\n",
    "- Although this simple example features distributions with disjoint supports, the same conclusion holds when the supports have a non empty intersection contained in a set of measure zero.\n",
    "    - disjoint suppoert를 가진 분포를 특장으로 하는 이 단순한 예시는 supports가 0 집합에 포함된 비어 있지 않은 interaction을 가진 때에도 동일한 결과가 유지된다.\n",
    "- This happens to be the case when two low dimensional manifolds intersect in general position."
   ]
  },
  {
   "cell_type": "markdown",
   "id": "7c1771be-6bf3-49cc-aed0-429ceb781fa9",
   "metadata": {},
   "source": [
    "- 두 확률변수 $(X,Y)$가 각각 $X~\\mathbb{P_0}, Y~\\mathbb{P_{\\theta}}$라고 할때, 각 $w$에 대해서 $X,Y$는 2치원 공간으로 매핑됨\n",
    "    - $X(w) = (0,Z_1(w)), Y(w) = (\\theta, Z_2(w))$\n",
    "- 두 점 사이의 거리는 $d(X,Y) = (|\\theta - 0|^2 + |Z_1(w) - Z_2(w)|)^{1/2} \\geq |\\theta|$로 계산\n",
    "    - $d(X,Y)$의 기대값은 어떤 결함확률분포 $\\gamma$ 를 사용하든 항상 $|\\theta|$보다 크거나 같음.\n",
    "    - $\\mathbb{e}^{\\gamma}[d(X,Y)] \\geq \\mathbb{E}^{\\gamma} [|\\theta|] = |\\theta|$\n",
    "        - $Z_1 = Z_2$인 분포를 따를떄 $d(X,Y) = (|\\theta - 0|^2 + |Z_1(w) - Z_2(w)|)^{1/2}  = |\\theta|$ 가능!\n",
    "        - 따라서 $W(\\mathbb{P_0}, \\mathbb{P_{\\theta}}) = |\\theta|$"
   ]
  },
  {
   "cell_type": "markdown",
   "id": "90f17bb5-4179-4a48-81f0-106e4c3f4277",
   "metadata": {},
   "source": [
    "![](https://xiucheng.org/assets/images/wgan-example.png)"
   ]
  },
  {
   "cell_type": "markdown",
   "id": "5a95f4a5-029f-45f9-88f5-01415ca1bede",
   "metadata": {},
   "source": [
    "Since the Wasserstein distance is much weaker than the JS distance , we can now ask whether $W(P_r, P_θ)$ is a continuous loss function on $θ$ under mild assumptions. This, and more, is true, as we now state and prove."
   ]
  },
  {
   "cell_type": "markdown",
   "id": "cf478f23-911a-440e-8a8a-ccd4d9d6c018",
   "metadata": {},
   "source": [
    "*Theorem 1.*"
   ]
  },
  {
   "cell_type": "markdown",
   "id": "23ce2cf7-3cee-4e97-b194-3f83278dd5f3",
   "metadata": {},
   "source": [
    "- Let $P_r$ be a fixed distribution over $X$ .\n",
    "- Let $Z$ be a random variable(e.g Gaussian) over another space $Z$. \n",
    "- Let $g : Z × R^d → X$ be a function, that will be denoted $g_θ(z)$ with $z$ the first coordinate and $θ$ the second.\n",
    "- Let $P_θ$ denote the distribution of $g_θ(Z)$. Then,\n",
    "1. If $g$ is continuous in $θ$, so is $W(P_r, P_θ)$.\n",
    "    - g가 세타에 대해 연속이면 EM 거리도 연속!\n",
    "2. If $g$ is locally Lipschitz and satisfies regularity assumption 1, then $W(P_r, P_θ)$ is continuous everywhere, and differentiable almost everywhere.\n",
    "    - g가 립시츠 조건 만족한다면  EM 거리도 연속!\n",
    "3. Statements 1-2 are false for the Jensen-Shannon divergence $JS(P_r, P_θ)$ and all the KLs."
   ]
  },
  {
   "cell_type": "markdown",
   "id": "7e2444c2-4cf2-480a-9d82-54fae7cc8b67",
   "metadata": {},
   "source": [
    "The following corollary tells us that learning by minimizing the EM distance makes sense (at least in theory) with neural networks.\n",
    "- 다음 결과는 EM 거리를 최소화하여 학습하는 것이 신경망에 타당하다는 것을 말해줌"
   ]
  },
  {
   "cell_type": "markdown",
   "id": "94f80594-916e-4e8f-a114-b35f1b2669d0",
   "metadata": {},
   "source": [
    "*Corollary 1*"
   ]
  },
  {
   "cell_type": "markdown",
   "id": "7cdf21b6-37bf-471b-834e-1c8a04c829b4",
   "metadata": {},
   "source": [
    "- Let $g_θ$ be any feedforward neural network parameterized by $θ$, and $p(z)$ a prior over $z$ such that $E_{z∼p(z)}(||z||) < ∞$ (e.g. Gaussian, uniform, etc.)\n",
    "- Then assumption 1 is satisfied and therefore $W(P_r, P_θ)$ is continuous everywhere and differentiable almost everywhere."
   ]
  },
  {
   "cell_type": "markdown",
   "id": "a406d029-db18-4e10-9cb2-4e03e6e0ed85",
   "metadata": {},
   "source": [
    "All this shows that EM is a much more sensible cost function for our problem than at least the Jensen-Shannon divergence. The following theorem describes the relative strength of the topologies induced by these distances and divergences, with KL the strongest, followed by JS and TV, and EM the weakest.\n",
    "- EM이 최소 JS 발산보다 제시한 문제에 보다 더 합리적인 cost function이라는 것을 보임.\n",
    "- 상대적인 강도는 KL > JS > TV > EM 의 순을 이룸"
   ]
  },
  {
   "cell_type": "markdown",
   "id": "4d51d9a6-9b87-4f73-88f5-c11f018dd5e0",
   "metadata": {},
   "source": [
    "*Theorem 2.*"
   ]
  },
  {
   "cell_type": "markdown",
   "id": "3e25c557-2891-4424-9a51-329899d78c39",
   "metadata": {},
   "source": [
    "- Let $P$ be a distribution on a compact space $X$ and $(P_n)_{n∈N}$ be a sequence of distributions on $X$ .\n",
    "- Then, considering all limits as $n → ∞$, \n",
    "1. The following statements are equivalent \n",
    "    - $δ(P_n, P) → 0$ with δ the total variation distance \n",
    "    - $JS(P_n, P) → 0$ with JS the Jensen-Shannon divergence.\n",
    "2. The following statements are equivalent\n",
    "    - $W(P_n, P) → 0.$\n",
    "    - $P_n D→ P$ where $D→$ represents convergence in distribution for random variables.\n",
    "3. KL($P_n|P) → 0$ or KL($P|P_n) → 0$ imply the statements in (1).\n",
    "4. The statements in (1) imply the statements in (2)."
   ]
  },
  {
   "cell_type": "markdown",
   "id": "65baa771-1d89-488f-b878-9c425eedc495",
   "metadata": {},
   "source": [
    "This highlights the fact that the KL, JS, and TV distances are not sensible cost functions when learning distributions supported by low dimensional manifolds. However the EM distance is sensible in that setup. This obviously leads us to the next section where we introduce a practical approximation of optimizing the EM distance."
   ]
  },
  {
   "cell_type": "markdown",
   "id": "2f3a7b51-6ccf-4bb5-a227-6f1a4d309ae4",
   "metadata": {},
   "source": [
    "- TV, KL, JS 는 $(\\mathbb{P}_{r}, \\mathbb{P}_g)$가 서로 겹치지 않는 상황에서는 불연속이 된다.\n",
    "- EM(Wasserstein distance)은 TV, KL, JS 보다 약한weak metric이므로 수렴하는데 무른soft 성질을 가진다.\n",
    "- EM은 분포수렴과 동등하다.\n",
    "    - 분포수렴\n",
    "        - 확률분포 수렴 종류 중 하나로서, 가장 약한weak 수렴.\n",
    "        - 확률분포의 개별적인 특징보다 전체적인 모양을 중시하는 수렴\n",
    "        - 중심극한정리에서 표본평균이 정규분포로 수렴하는 종류가 분포수렴\n",
    "        - $X_n$의 모든 모멘트가 $X$의 모멘트로 수렴하면 분포수렴\n",
    "        - $X_n$의 누적확률밀도함수가 $X$의 누적확률밀도함수 중 연속인 모든 점에서 수렴하면 분포수렴\n",
    "        - $X_n$의 푸리에 변환Fourier transform이 수렴하면 분포수렴"
   ]
  },
  {
   "cell_type": "markdown",
   "id": "85278230-d405-4402-aee1-59bf430a364d",
   "metadata": {},
   "source": [
    "## Wasserstein GAN"
   ]
  },
  {
   "cell_type": "markdown",
   "id": "d79e87bc-c72b-4f60-9560-203dd80e456e",
   "metadata": {},
   "source": [
    "- Again, Theorem 2 points to the fact that $W(P_r, P_θ)$ might have nicer properties when optimized than $JS(P_r, P_θ)$. \n",
    "- However, the infimum in (1) is highly intractable. \n",
    "    - inf A = max{lower bound of A}, 즉 infmnum 은 the greatest lower bound로서, 하한값lower bound 중 가장 큰 값maximum임!\n",
    "- On the other hand, the Kantorovich-Rubinstein duality [22] tells us that (2)\n",
    "    - supA = min{upper bound of A}, 즉 Supermum은 the least upper bound 로서, 상한값upper bound 에서 가장 작은 값minimum임!\n"
   ]
  },
  {
   "cell_type": "markdown",
   "id": "a56db9c9-74f6-42c9-8ea9-bd0c95563b4a",
   "metadata": {},
   "source": [
    "- WGAN, $W{\\mathbb{P}, \\mathbb{Q}} = \\inf_{\\substack{ \\gamma \\in \\prod (\\mathbb{P},\\mathbb{Q}) }} \\mathbb{E}^{\\gamma} [d(X,Y)]$\n",
    "    - $\\prod (\\mathbb{P}, \\mathbb{Q})$는 두 확률분포 $\\mathbb{P}, \\mathbb{Q}$의 결합확률분포들을 모은 집합, $\\gamma$는 그 중 하나.\n",
    "    - 즉 모든 결합확률분포 $\\prod (\\mathbb{P}, \\mathbb{Q})$ 중에서 $d(X,Y)$의 기대값을 가장 작게 추정한 값"
   ]
  },
  {
   "cell_type": "markdown",
   "id": "df2b9939-d367-490c-a6f8-0a85ae4bfe63",
   "metadata": {},
   "source": [
    "##  Empirical Results"
   ]
  },
  {
   "cell_type": "markdown",
   "id": "156c653f-1097-4506-b7c7-0fdb7eec2980",
   "metadata": {},
   "source": [
    "We run experiments on image generation using our Wasserstein-GAN algorithm and show that there are significant practical benefits to using it over the formulation used in standard GANs.\n",
    "\n",
    "We claim two main benefits:\n",
    "-  a meaningful loss metric that correlates with the generator’s convergence and sample quality\n",
    "- improved stability of the optimization process"
   ]
  },
  {
   "cell_type": "markdown",
   "id": "20dcefd8-fb77-4145-af16-fa2bd3c2dd07",
   "metadata": {},
   "source": [
    "### Experimental Procedure"
   ]
  },
  {
   "cell_type": "markdown",
   "id": "d7a87941-975c-4b5e-a30b-990eae155216",
   "metadata": {},
   "source": [
    "The target distribution to learn is the LSUN-Bedrooms dataset [24] – a collection of natural images of indoor bedrooms.\n",
    "\n",
    "Our baseline comparison is DCGAN [18], a GAN with a convolutional architecture trained with the standard GAN procedure using the − log D trick.\n",
    "\n",
    "The generated samples are 3-channel images of 64x64 pixels in size.\n",
    "\n",
    " We use the hyper-parameters specified in Algorithm 1 for all of our experiments."
   ]
  },
  {
   "cell_type": "markdown",
   "id": "bd67df1d-1416-494b-99dd-a1657732f849",
   "metadata": {},
   "source": [
    "![](https://img1.daumcdn.net/thumb/R1280x0/?scode=mtistory2&fname=https%3A%2F%2Fblog.kakaocdn.net%2Fdn%2FcdzH6j%2Fbtqu1s1iIpM%2FDWoDjAxuENK3jhXgEWQ9g0%2Fimg.png)"
   ]
  },
  {
   "cell_type": "markdown",
   "id": "1624cf70-6c3d-4363-a673-03ca74170d2d",
   "metadata": {},
   "source": [
    "Figure 3: Training curves and samples at different stages of training.\n",
    "-  We can see a clear correlation between lower error and better sample quality.\n",
    "- upper left: the generator is an MLP with 4 hidden layers and 512 units at each layer.\n",
    "    -  The loss decreases constistently as training progresses and sample quality increases. \n",
    "- upper right: the generator is a standard DCGAN.\n",
    "    - In both upper plots the critic is a DCGAN without the sigmoid so losses can be subjected to comparison.\n",
    "- Lower half: both the generator and the discriminator are MLPs with substantially high learning rates (so training failed).\n",
    "    - Loss is constant and samples are constant as well. \n",
    "    - The training curves were passed through a median filter for visualization purposes"
   ]
  },
  {
   "cell_type": "markdown",
   "id": "50496f1c-6c5e-4eb2-bac2-6c56c88d4cc0",
   "metadata": {},
   "source": [
    "###  Meaningful loss metric"
   ]
  },
  {
   "cell_type": "markdown",
   "id": "dc8733f2-ff96-47e7-9e18-371190af8e7d",
   "metadata": {
    "tags": []
   },
   "source": [
    "Because the WGAN algorithm attempts to train the critic f (lines 2–8 in Algorithm 1) relatively well before each generator update (line 10 in Algorithm 1), the loss function at this point is an estimate of the EM distance, up to constant factors related to the way we constrain the Lipschitz constant of f.\n",
    "- WGAN 알고리즘은 각 generator 업데이트가 상대적으로 잘 되기 전에 critic f를 학습하려고 시도하기 때문에, 그 지점에서 손실함수는 f의 립시츠 constant를 제약하는 방법과관련된 constant 요인에 따른 EM 거리의 추정치가 된다.\n",
    "\n",
    "Our first experiment illustrates how this estimate correlates well with the quality of the generated samples. \n",
    "\n",
    "Besides the convolutional DCGAN architecture, we also ran experiments where we replace the generator or both the generator and the critic by 4-layer ReLU-MLP with 512 hidden units.\n",
    "\n",
    "Figure 3 plots the evolution of the WGAN estimate (3) of the EM distance during WGAN training for all three architectures. The plots clearly show that these curves correlate well with the visual quality of the generated samples.\n",
    "- plot에서는 생성된 샘플의 시각적 quality와 curve가 좋은 상관관계에 있다는 것을 명확히 보여준다."
   ]
  },
  {
   "cell_type": "markdown",
   "id": "4e7a2cc9-19a0-4524-9054-a0f4b7b5933f",
   "metadata": {},
   "source": [
    "![](https://img1.daumcdn.net/thumb/R1280x0/?scode=mtistory2&fname=https%3A%2F%2Fblog.kakaocdn.net%2Fdn%2Fcfa3kB%2Fbtqu13NvCe7%2FyMOv6wUAJ7KLx2b8jN2HM0%2Fimg.png)"
   ]
  },
  {
   "cell_type": "markdown",
   "id": "c2ee15cb-1fdc-4be8-9ea3-d92a7f74b35f",
   "metadata": {},
   "source": [
    "Figure 4: \n",
    "- JS estimates for an MLP generator (upper left) and a DCGAN generator (upper right) trained with the standard GAN procedure. \n",
    "- Both had a DCGAN discriminator.\n",
    "- Both curves have increasing error.\n",
    "- Samples get better for the DCGAN but the JS estimate increases or stays constant, pointing towards no significant correlation between sample quality and loss.\n",
    "- Bottom: MLP with both generator and discriminator. The curve goes up and down regardless of sample quality.\n",
    "-  All training curves were passed through the same median filter as in Figure 3."
   ]
  },
  {
   "cell_type": "markdown",
   "id": "379802d6-69a2-4008-b827-dee94f8f3451",
   "metadata": {},
   "source": [
    "To our knowledge, this is the first time in GAN literature that such a property is shown, where the loss of the GAN shows properties of convergence. \n",
    "\n",
    "This property is extremely useful when doing research in adversarial networks as one does not need to stare at the generated samples to figure out failure modes and to gain information on which models are doing better over others.\n",
    "- 이 속성은 실패한 mode를 알아내고, 어떤 모델이 다른 것보다 좋은지의 정보를 얻기 위해 생성된 샘플들을 볼 필요가 없기 때문에 적대적 네트워크를 연구할 때 정말 유용하다.\n",
    "\n",
    "However, we do not claim that this is a new method to quantitatively evaluate generative models yet. The constant scaling factor that depends on the critic’s architecture means it’s hard to compare models with different critics. Even more, in practice the fact that the critic doesn’t have infinite capacity makes it hard to know just how close to the EM distance our estimate really is. This being said, we have succesfully used the loss metric to validate our experiments repeatedly and without failure, and we see this as a huge improvement in training GANs which previously had no such facility."
   ]
  },
  {
   "cell_type": "markdown",
   "id": "7f06456e-e480-448a-9e5b-a0f5fea66d6f",
   "metadata": {},
   "source": [
    "**This quantity clearly correlates poorly the sample quality. Note also that the JS estimate usually stays constant or goes up instead of going down.**\n",
    "\n",
    "In fact it often remains very close to log 2 ≈ 0.69 which is the highest value taken by the JS distance."
   ]
  },
  {
   "cell_type": "markdown",
   "id": "31d26876-eefa-40e2-83d1-f5edb0c29780",
   "metadata": {},
   "source": [
    "Finally, as a negative result, we report that WGAN training becomes unstable at times when one uses a momentum based optimizer such as Adam [8] (with β1 > 0) on the critic, or when one uses high learning rates.\n",
    "\n",
    "Since the loss for the critic is nonstationary, momentum based methods seemed to perform worse. \n",
    "\n",
    "**We identified momentum as a potential cause because, as the loss blew up and samples got worse, the cosine between the Adam step and the gradient usually turned negative. The only places where this cosine was negative was in these situations of instability.** \n",
    "- Adam 안 쓴 이유\n",
    "\n",
    "We therefore switched to RMSProp [21] which is known to perform well even on very nonstationary problems [13]."
   ]
  },
  {
   "cell_type": "markdown",
   "id": "84415f97-d9f2-402d-a977-7b4cf3c5f0ab",
   "metadata": {},
   "source": [
    "### Improved stability"
   ]
  },
  {
   "cell_type": "markdown",
   "id": "ae6c83ff-5a72-4a72-8441-fb6a3c5df6f5",
   "metadata": {},
   "source": [
    "One of the benefits of WGAN is that it allows us to train the critic till optimality. \n",
    "\n",
    "When the critic is trained to completion, it simply provides a loss to the generator that we can train as any other neural network. \n",
    "\n",
    "**This tells us that we no longer need to balance generator and discriminator’s capacity properly.**\n",
    "\n",
    "The better the critic, the higher quality the gradients we use to train the generator.\n",
    "\n",
    "We observe that WGANs are much more robust than GANs when one varies the architectural choices for the generator. We illustrate this by running experiments on three generator architectures: \n",
    "- (1) a convolutional DCGAN generator, \n",
    "- (2) a convolutional DCGAN generator without batch normalization and with a constant number of filters, and \n",
    "- (3) a 4-layer ReLU-MLP with 512 hidden units. \n",
    "\n",
    "The last two are known to perform very poorly with GANs. We keep the convolutional DCGAN architecture for the WGAN critic or the GAN discriminator."
   ]
  },
  {
   "cell_type": "markdown",
   "id": "c4a1a4a0-03df-4661-9f8f-540a3216d75d",
   "metadata": {},
   "source": [
    "Figures 5, 6, and 7 show samples generated for these three architectures using both the WGAN and GAN algorithms.\n",
    "\n",
    "We refer the reader to Appendix F for full sheets of generated samples. Samples were not cherry-picked.\n",
    "\n",
    "**In no experiment did we see evidence of mode collapse for the WGAN algorithm.**"
   ]
  },
  {
   "cell_type": "markdown",
   "id": "8bf394f4-ee50-4f09-95d5-afff3f872fc8",
   "metadata": {},
   "source": [
    "![](https://img1.daumcdn.net/thumb/R1280x0/?scode=mtistory2&fname=https%3A%2F%2Fblog.kakaocdn.net%2Fdn%2Fu0gFw%2Fbtqu1DaqDg2%2FdnKiu9aqEDHrL6KWkzVYY0%2Fimg.png)"
   ]
  },
  {
   "cell_type": "markdown",
   "id": "e083c6a4-4ba7-4b12-8c24-19db4757cada",
   "metadata": {},
   "source": [
    "![](https://img1.daumcdn.net/thumb/R1280x0/?scode=mtistory2&fname=https%3A%2F%2Fblog.kakaocdn.net%2Fdn%2FdieO6m%2Fbtqu2HXvq4A%2FSKHAQU1vWRSgaC4m2LtFKk%2Fimg.png)"
   ]
  },
  {
   "cell_type": "markdown",
   "id": "7ea31507-f934-4899-83f6-edca9b116341",
   "metadata": {},
   "source": [
    "---"
   ]
  },
  {
   "cell_type": "markdown",
   "id": "9efbb5fb-bdb3-4e2d-9d83-7d68a94839ba",
   "metadata": {},
   "source": [
    "ref: https://jonathan-hui.medium.com/gan-wasserstein-gan-wgan-gp-6a1a2aa1b490"
   ]
  },
  {
   "cell_type": "markdown",
   "id": "ce1f9f66-9155-4230-81c7-564f0d1b6490",
   "metadata": {},
   "source": [
    "## GAN — Wasserstein GAN & WGAN-GP"
   ]
  },
  {
   "cell_type": "markdown",
   "id": "67e06d17-83e5-4ece-93b5-4bdda5815a49",
   "metadata": {},
   "source": [
    "GAN을 훈련하는 것이 어려운 이유\n",
    "1. 모델들이 수렴하지 않을 수 있다.\n",
    "2. 모드 축소가 일반적이다."
   ]
  },
  {
   "cell_type": "markdown",
   "id": "6b825bf3-21e2-4c1f-90a8-93dfbe49ce3e",
   "metadata": {},
   "source": [
    "### Earth-Mover (EM) distance/ Wasserstein Metric"
   ]
  },
  {
   "cell_type": "markdown",
   "id": "a30ef296-2618-4cfc-a9aa-3c6b18999479",
   "metadata": {},
   "source": [
    "와서스테인 거리(혹은 EM 거리)는 chpeapest tranport plan의 cost이다!\n",
    "\n",
    "와서스테인 거리 설명 위한 base\n",
    "- 데이터 분포 q를 데이터 분포 p로 변환하기 위한 최소 질량 운반 비용minimum xost of tranporting mass.\n",
    "- 실제 데이터 분포 와 생성된 데이터 분포에 대한 와서스테인 거리는 수학적으로 모든 tranport plan에 대한 하한(최소값)으로 정의된다."
   ]
  },
  {
   "cell_type": "markdown",
   "id": "7ad759a5-c9a1-4073-bee8-708a31fe70b5",
   "metadata": {},
   "source": [
    "![](https://miro.medium.com/max/1400/1*Fd1-qVkNAbLbgEetsZfBdA.png)"
   ]
  },
  {
   "cell_type": "markdown",
   "id": "be1642b8-5313-4e21-b6f1-8f2686e70966",
   "metadata": {},
   "source": [
    "- $Π(P_r, P_g)$ denotes the set of all joint distributions $γ(x, y)$ whose marginals are respectively $P_r$ and $P_g$.\n",
    "    - 결합확률분포 $Π(P_r, P_g)$ 중에서 maginal이 각각 pr,pg인 모든 결합 분포 $γ(x, y)$ 의 집합\n",
    "        - (질문)"
   ]
  },
  {
   "cell_type": "markdown",
   "id": "7aa908f9-152c-4263-9c67-2936c514de13",
   "metadata": {},
   "source": [
    "KL발산과 js발산\n",
    "- P와 Q가 같을때 발산은 0이 된다. \n",
    "- q의 평균이 증가함으로써, 발산이 증가한다.\n",
    "- 즉. 생성자는 기울기 손실로부터 아무것도 배우지 못하게 된다.\n",
    "    - 생성된 이미지가 가진 분포 q가 싱제인 p와 멀리 떨어져 있으면 아무것도 배우지 못한다."
   ]
  },
  {
   "cell_type": "markdown",
   "id": "d570ee3b-6bf4-44ae-90e8-ebf9fae911c6",
   "metadata": {},
   "source": [
    "![](https://miro.medium.com/max/1400/1*N0eggxE65amVSI0FE0zzAg.jpeg)"
   ]
  },
  {
   "cell_type": "markdown",
   "id": "e78424e7-7b97-4017-a123-51687cead07f",
   "metadata": {},
   "source": [
    "원래 GAN은 이 기울기 손실 문제를 해결(?)하기 위한 대안적인 cost 함수로 제시되었는데, 모델을 불안정하게 만드는 큰 기울기 변수를 가진 새로운 함수에서는 GAN 자체도 불안했다\n",
    "- 이 뜻은 또 기울기 소실 문제가 발생했다는 뜻?!"
   ]
  },
  {
   "cell_type": "markdown",
   "id": "52af4de7-e7e4-4429-aafe-650be38c9e38",
   "metadata": {},
   "source": [
    "### Wasserstein Distance"
   ]
  },
  {
   "cell_type": "markdown",
   "id": "e238e67a-62c7-4c40-95db-c8c088b44ba9",
   "metadata": {},
   "source": [
    "이에 WGAN은 노이즈를 추가하지 않고 와서스테인 거리를 이용해서 새로운 cost 함수를 제안한 것!\n",
    "\n",
    "**WGAN learns no matter the generator is performing or not.**\n",
    "- WGAN은 generator가 perform하든 안 하든 학습한다!\n",
    "\n",
    "아래 이미지는 wgan 논문에 있는 거 (위에서도 사용된)"
   ]
  },
  {
   "cell_type": "markdown",
   "id": "f89f3092-0dac-451d-8dd4-7c4eb16bcc86",
   "metadata": {},
   "source": [
    "![](https://miro.medium.com/max/1400/1*-VajV2qCbPWDCdNGbQfCng.png)"
   ]
  },
  {
   "cell_type": "markdown",
   "id": "a8eddd2d-3b73-4e66-b84d-3d9eb09c2780",
   "metadata": {},
   "source": [
    "이 그림은 GAN, WGAN에 대해 D(X)의 값에서 유사한 plot을 반복한 것인데,\n",
    "- 빨간 GAN 선의 경우 감소하거나 폭발하는 기울기의 영역으로 채워져 있다.\n",
    "- 파란 WGAN 선의 경우 generator가 나은 이미지르를 만들지 않아도 기울기가 어디서든지 부드럽고 잘 학습되는 것을 볼 수 있다!"
   ]
  },
  {
   "cell_type": "markdown",
   "id": "da524ef7-81ec-4d38-8737-aa7ebc7eec9f",
   "metadata": {},
   "source": [
    "### Wasserstein GAN"
   ]
  },
  {
   "cell_type": "markdown",
   "id": "eaaa07a2-77c3-4100-bfff-acba587d63b1",
   "metadata": {},
   "source": [
    "![](https://miro.medium.com/max/1400/1*6y-tz57odJpHh4pwRfXACw.png)"
   ]
  },
  {
   "cell_type": "markdown",
   "id": "f1e74771-fb1a-4139-a2fe-dbdb320e56ca",
   "metadata": {},
   "source": [
    "여기서 sup은 최소값들중에 상한값, f는 1-립시츠함수!(조건:$|f(x_1)-f(x_2)| \\le |x_1 - x_2|$)\n",
    "- 그리니까 와서스테인 거리를 계싼하기 위해서 1-립시츠함수를 찾으면 되겠지?\n",
    "- 이걸 학습하기 위한 deep network를 구축할 수 있는데, 실제로 시그모이드 함수가 없는 discriminator D와 네트워크가 매우 유사하고ㅏ 확률보다는 스칼라 점수를 출력함.\n",
    "    - 이를 state(input)이 얼마나 좋은지 측정하는 가치 함수라 부를 예정~\n",
    "- discriminator의 새로운 역할을 반영하기 위해 critic으로 이름도 변경~"
   ]
  },
  {
   "cell_type": "markdown",
   "id": "9726cc8d-992b-449d-83f6-b7822da78f1e",
   "metadata": {},
   "source": [
    "**GAN**"
   ]
  },
  {
   "cell_type": "markdown",
   "id": "81a69938-c5ad-47a1-a25d-47eb68e4341a",
   "metadata": {},
   "source": [
    "![](https://miro.medium.com/max/1400/1*M_YipQF_oC6owsU1VVrfhg.jpeg)"
   ]
  },
  {
   "cell_type": "markdown",
   "id": "830b00e5-2b28-4a56-be5a-5325cddeca12",
   "metadata": {},
   "source": [
    "**WGAN**"
   ]
  },
  {
   "cell_type": "markdown",
   "id": "89caa426-a6f9-4e1d-96d4-5b1065dceff6",
   "metadata": {},
   "source": [
    "![](https://miro.medium.com/max/1400/1*Yfa9bZL0d4NHaU1mHbGzjw.jpeg)"
   ]
  },
  {
   "cell_type": "markdown",
   "id": "344bec53-a8bc-4690-a9bc-8105122cb1a0",
   "metadata": {},
   "source": [
    "설계한 것을 보면 CRITIC이 시그모이드 함수를 출력하지 않았다는 것만 빼고 거의 동일하다!"
   ]
  },
  {
   "cell_type": "markdown",
   "id": "480c9ccb-e530-4af5-9913-30cc0ed82ead",
   "metadata": {},
   "source": [
    "![](https://miro.medium.com/max/1400/1*5jF5gbIDwU6k9m1ILl0Utg.jpeg)"
   ]
  },
  {
   "cell_type": "markdown",
   "id": "79f009a2-ea76-45bd-bc6a-0833c824b683",
   "metadata": {},
   "source": [
    "이렇게 cost함수만 다르지! 여기서 주의할 점은 f가 1-립시츠 함수라는 점~\n",
    "\n",
    "1-립시츠 함수의 제약 조건 걸려고 WGAN은 f의 최대 가중치를 제한하는 간단한 클립핑을 제한한다~\n",
    "- 즉, discriminator의 가중치는 초매개변수 c에 의해 제어되는 특정 범위 안에 있어야 함!!!"
   ]
  },
  {
   "cell_type": "markdown",
   "id": "90cea4e9-7019-466f-8eb5-e5fb09c9b2a8",
   "metadata": {},
   "source": [
    "![](https://miro.medium.com/max/1400/1*6vhidunAHMVDZ3nIpjWzjg.png)"
   ]
  },
  {
   "cell_type": "markdown",
   "id": "8ce0e601-f977-4c47-875a-c09358387d2d",
   "metadata": {},
   "source": [
    "### Algorithm"
   ]
  },
  {
   "cell_type": "markdown",
   "id": "71a93336-6b73-4a19-b985-28d0e706a32a",
   "metadata": {},
   "source": [
    "![](https://miro.medium.com/max/1400/1*JOg9lC2JLl2Crmx5uk6S2g.png)"
   ]
  },
  {
   "cell_type": "markdown",
   "id": "cb2ff0e3-6b5e-46c7-a0d8-8b7f6ff2823c",
   "metadata": {},
   "source": [
    "### Experiment"
   ]
  },
  {
   "cell_type": "markdown",
   "id": "5b15d37a-d375-4417-8601-715886d864a8",
   "metadata": {},
   "source": [
    "#### Correlation between loss metric and image quality"
   ]
  },
  {
   "cell_type": "markdown",
   "id": "c6fd26a6-39c4-45a9-ae97-ebfca5575880",
   "metadata": {},
   "source": [
    "GAN의 loss는 이미지 품질의 측정보다는 얼마나 discriminator 를 잘 속이는지를 측정함~\n",
    "- 첫번째 그림을 보면 GAN은 generator loss가 화질이 좋아져도 떨어지지 않음!\n",
    "    - 이 말은 우리가 어떻게 진행되고 있는지 설명하기 어렵다는 뜻이겠지?\n",
    "    - 하지만 우리는 테스트한 이미지를 저장하고 시각적으로 평가해야 하잖아?\n",
    "- 세번째 그림을 보면 WGAN loss 함수는 이미지 품질을 더 바람직하게 반영하는 것을 볼 수 있어!"
   ]
  },
  {
   "cell_type": "markdown",
   "id": "d5d9cce6-162c-44cf-b443-a345e9c62e75",
   "metadata": {},
   "source": [
    "![](https://miro.medium.com/max/1400/1*BKai93EIfFfVpwFHlDDhug.jpeg)"
   ]
  },
  {
   "cell_type": "markdown",
   "id": "e3110df3-146d-40f1-8834-10df357a910f",
   "metadata": {
    "tags": []
   },
   "source": [
    "#### Improve training stability"
   ]
  },
  {
   "cell_type": "markdown",
   "id": "60cd0800-b93c-45ad-91b4-dcabad0e8f09",
   "metadata": {},
   "source": [
    "WGAN의 중요한 contribution 두 가지!\n",
    "1. experiment에서 모드의 불과 sign은 없었다!\n",
    "2. generator는 critic이 잘 perform할 때 여전히 학습할 수 있다!\n",
    "\n",
    "DCGAN에서 배치정규화 제거해도 WGAN은 여전히 perform가능~~"
   ]
  },
  {
   "cell_type": "markdown",
   "id": "9937d98f-abbd-4f9e-8678-6080719378f4",
   "metadata": {},
   "source": [
    "![](https://miro.medium.com/max/1400/1*F_M3KzHDud7CuBb2DCtzSA.jpeg)"
   ]
  },
  {
   "cell_type": "markdown",
   "id": "6947c9dc-aa3b-44d6-9eef-77c9f2bfaeee",
   "metadata": {},
   "source": [
    "### WGAN — Issues"
   ]
  },
  {
   "cell_type": "markdown",
   "id": "262bb7ad-6035-4deb-a074-e691d13d9fe0",
   "metadata": {},
   "source": [
    "#### Lipschitz constraint"
   ]
  },
  {
   "cell_type": "markdown",
   "id": "1f781db1-0040-4d36-b58a-abdcd6b20f06",
   "metadata": {},
   "source": [
    "클리핑하면 critic 모델에 립시츠 제약조건을 적용해서 와서스테인 거리를 계산할 수 있음~"
   ]
  },
  {
   "cell_type": "markdown",
   "id": "844ff12c-be7e-4de7-901d-dbd3706d9e9a",
   "metadata": {},
   "source": [
    "$\\star$ 립시츠 제약 간단히 정리\n",
    "$$||f(x_1)-f(x_2)| \\le K|x_1 - x_2$$\n",
    "이 부등식을 만족하면 1-립시츠라고 부르는데, 여기서 $x_1-x_2$는 두 이미지 픽셀의 평균적인 절대값 차이이고 $||f(x_1)-f(x_2)|$는 비평자 예측 간의 절대값 차이이다. 기본적으로 두 이미지 사이에서 비평자의 예측이 변화할 수 있는 비율을 제한할 필요가 있다. 즉, 기울기의 절대값이 어디에서나 최대 1이어야 한다. 그러면 이 직선은 어느 지점에서나 상승하거나 하강하는 비율이 한정되어 있다!!"
   ]
  },
  {
   "cell_type": "markdown",
   "id": "d0feded9-c286-4bbd-81f1-2342334b98f3",
   "metadata": {},
   "source": [
    "WGAN의 difficulty는 립시츠 제약을 강제로 적용하는 건데 clipping은 단순한데 약간 문제있어~\n",
    "- 그 모델은 여전히 품질 낮은 이미지를 만들 수 있고 hyperparameter c가 올바르게 조정되지 않을때 수렴되지 않읗 수 있지!\n",
    "\n",
    "model perfomenmce는 htperparameter에 매우 민감해!!"
   ]
  },
  {
   "cell_type": "markdown",
   "id": "139e7172-23dd-4564-942d-1f5377ed9033",
   "metadata": {},
   "source": [
    "![](https://miro.medium.com/max/1400/1*RlnW0f-Gg8fC17GiUaYwNQ.png)"
   ]
  },
  {
   "cell_type": "markdown",
   "id": "19c0d9c8-7210-42c9-993c-6ceca5aaeb84",
   "metadata": {},
   "source": [
    "### Model capacity"
   ]
  },
  {
   "cell_type": "markdown",
   "id": "36de7e36-1512-4b66-bdd2-70145eb2bd43",
   "metadata": {},
   "source": []
  },
  {
   "cell_type": "markdown",
   "id": "87ecb1ba-8277-4703-99de-d794bf9e19c4",
   "metadata": {},
   "source": [
    "![](https://miro.medium.com/max/1400/1*eP-QrSB2gfnB42p0ytNy2w.png)"
   ]
  },
  {
   "cell_type": "code",
   "execution_count": null,
   "id": "1ebde5aa-25cd-4ec0-9de7-73710b778665",
   "metadata": {},
   "outputs": [],
   "source": []
  }
 ],
 "metadata": {
  "kernelspec": {
   "display_name": "Python 3 (ipykernel)",
   "language": "python",
   "name": "python3"
  },
  "language_info": {
   "codemirror_mode": {
    "name": "ipython",
    "version": 3
   },
   "file_extension": ".py",
   "mimetype": "text/x-python",
   "name": "python",
   "nbconvert_exporter": "python",
   "pygments_lexer": "ipython3",
   "version": "3.8.12"
  }
 },
 "nbformat": 4,
 "nbformat_minor": 5
}
