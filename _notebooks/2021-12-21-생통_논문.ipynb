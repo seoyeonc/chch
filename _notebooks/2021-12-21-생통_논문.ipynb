{
 "cells": [
  {
   "cell_type": "markdown",
   "id": "069214ad-cd4c-4b4b-97b3-e2768545767b",
   "metadata": {},
   "source": [
    "# 생물통계학 기말 과제_논문 해석\n",
    "> Effect of Intensive vs Standard Blood Pressure Control on Probable Dementia\n",
    "\n",
    "- toc:true\n",
    "- branch: master\n",
    "- badges: true\n",
    "- comments: false\n",
    "- author: 최서연"
   ]
  },
  {
   "cell_type": "markdown",
   "id": "656340b7-2349-4968-a576-debc10698ce8",
   "metadata": {
    "tags": []
   },
   "source": [
    "## A. Title and abstract"
   ]
  },
  {
   "cell_type": "markdown",
   "id": "11f8db15-acf0-4541-a440-510ce4bc1164",
   "metadata": {},
   "source": [
    "### 1. Is the trial identified as a RCT in the title?"
   ]
  },
  {
   "cell_type": "markdown",
   "id": "9afd1701-78f2-47ce-9f9e-0a6caddc11c0",
   "metadata": {},
   "source": [
    "### 2. Is the trial identified as a RCT in the title?"
   ]
  },
  {
   "cell_type": "markdown",
   "id": "1c4b89c4-6d17-47c8-8d67-0d79ce88de89",
   "metadata": {},
   "source": [
    "## B. Introduction"
   ]
  },
  {
   "cell_type": "markdown",
   "id": "8776c248-4eef-4d85-83f6-7c007f602d19",
   "metadata": {},
   "source": [
    "### 1. Is a proper description provided of the scientific background, and is the rationale for the trial explained sufficiently? Has all the relevant information from previous studies and other available evidence been included?"
   ]
  },
  {
   "cell_type": "markdown",
   "id": "6a5dd05c-2569-4c76-951e-65d9c1f2c531",
   "metadata": {},
   "source": [
    "### 2. Is the primary aim of the trial indicated, preferably in relation to a relevant hypothesis based on the outcome of interest, and are secondary objectives described?"
   ]
  },
  {
   "cell_type": "markdown",
   "id": "598e391e-3079-4d9a-81ea-7896cbd6bca2",
   "metadata": {},
   "source": [
    "## C. Methods"
   ]
  },
  {
   "cell_type": "markdown",
   "id": "3e9ece4e-e62a-4dae-88b9-08c5f017e6e0",
   "metadata": {},
   "source": [
    "### 1. Trial design Is the trial design described adequately? Are any aspects of the design utilized to avoid bias fully described? For example:"
   ]
  },
  {
   "cell_type": "markdown",
   "id": "aea1fb44-812d-4007-b4c7-63d580e141be",
   "metadata": {},
   "source": [
    "#### a) Randomization. Are full details of the randomization process provided, including the method used to generate the random allocation sequence, the type of randomization, steps taken to conceal the allocation sequence and details of the implementation of the randomization (e.g. who enrolled the participants and who assigned the participants to the interventions)?"
   ]
  },
  {
   "cell_type": "markdown",
   "id": "8f69d456-3975-4eab-bf29-e9d5f51158c9",
   "metadata": {},
   "source": [
    "#### b) Blinding. To what extent was the study blind? If relevant, is a description provided of the similarity of the interventions)?"
   ]
  },
  {
   "cell_type": "markdown",
   "id": "2ba40030-3f87-4dff-b609-c5dae0e25f66",
   "metadata": {},
   "source": [
    "#### c) Allocation concealment. Was the allocation sequence concealed from the staff who recruited patients for the trial?"
   ]
  },
  {
   "cell_type": "markdown",
   "id": "00a3948a-c998-4e4e-aed5-2b8aa37056f3",
   "metadata": {},
   "source": [
    "### 2. Participants"
   ]
  },
  {
   "cell_type": "markdown",
   "id": "b595c983-c2f7-4fe6-9c2b-069ce3241517",
   "metadata": {},
   "source": [
    "#### a) Is there a complete description of the eligibility (inclusion and exclusion) criteria for the participants?"
   ]
  },
  {
   "cell_type": "markdown",
   "id": "7261dc69-cdf5-4e87-be67-8ee7c72bb205",
   "metadata": {},
   "source": [
    "#### b) Was the study conducted using an appropriate spectrum of patients?"
   ]
  },
  {
   "cell_type": "markdown",
   "id": "dd7569e7-327f-4a01-9886-e43957047673",
   "metadata": {},
   "source": [
    "### 3. Interventions"
   ]
  },
  {
   "cell_type": "markdown",
   "id": "df2bca74-cfaa-49d6-b7e4-3b219cb1f650",
   "metadata": {},
   "source": [
    "#### a) Is the intervention (treatment and/or placebo, if appropriate) for each group described in sufficient detail?"
   ]
  },
  {
   "cell_type": "markdown",
   "id": "9f7437bb-7f90-4939-8d6e-9a8e8c0754ab",
   "metadata": {},
   "source": [
    "#### b) Were the groups treated in similar fashion, aside from the fact that they received different Interventions?"
   ]
  },
  {
   "cell_type": "markdown",
   "id": "6816c925-433c-4f7f-9617-f9bbfaaacacc",
   "metadata": {},
   "source": [
    "### 4. Outcomes"
   ]
  },
  {
   "cell_type": "markdown",
   "id": "068a3360-6a35-4158-966e-32b2d0972269",
   "metadata": {},
   "source": [
    "#### a) Is consideration given to all the important outcomes?"
   ]
  },
  {
   "cell_type": "markdown",
   "id": "ac05b103-ddf6-491c-9062-83f134190961",
   "metadata": {},
   "source": [
    "#### b) Are the primary and secondary outcomes defined precisely?"
   ]
  },
  {
   "cell_type": "markdown",
   "id": "c5ea4aec-5c1f-4c74-8f82-043b6ee5e07f",
   "metadata": {},
   "source": [
    "#### c) Were there any changes to the outcomes after the trial started?"
   ]
  },
  {
   "cell_type": "markdown",
   "id": "aea748e4-ef94-49cf-b3d2-d40889cc4e75",
   "metadata": {},
   "source": [
    "### 5. Sample size"
   ]
  },
  {
   "cell_type": "markdown",
   "id": "4f4d10e9-c3fb-492e-9fb1-4cf48c6874a7",
   "metadata": {},
   "source": [
    "#### a) Is there a power statement to justify the overall sample size? Does this power statement indicate the form of the statistical analysis on which it is based, and does it include a specification of the values of all the factors that affect sample size for this calculation?"
   ]
  },
  {
   "cell_type": "markdown",
   "id": "ed6689ff-e020-4a49-98a3-6849bd6d01e7",
   "metadata": {},
   "source": [
    "#### b) If relevant, is there a full explanation of any interim analysis, including the steps taken to reduce the Type 1 error rate?"
   ]
  },
  {
   "cell_type": "markdown",
   "id": "c92e40c6-55a5-46db-a9aa-377c64e1d533",
   "metadata": {},
   "source": [
    "#### c) If subgroup analyses have been performed, is there a justification for the subgroup sample sizes, based on power calculations, and a description of the steps taken to reduce the Type 1 error rate? Alternatively., are these subgroup analysis specified as being exploratory in nature, with an indication that they may be under-powered?"
   ]
  },
  {
   "cell_type": "markdown",
   "id": "f15bfcdb-0e9a-4943-bbb7-d399fd6085bf",
   "metadata": {},
   "source": [
    "### 6. Statistical methods"
   ]
  },
  {
   "cell_type": "markdown",
   "id": "e1fa0c57-5675-4294-b583-0a2a2b12fb4f",
   "metadata": {},
   "source": [
    "#### a) Are all the statistical methods used to compare groups for primary and secondary outcomes identified?"
   ]
  },
  {
   "cell_type": "markdown",
   "id": "81132cae-3cfe-4578-a983-76ac935fa348",
   "metadata": {},
   "source": [
    "#### b) Are the statistical methods appropriate (e.g. have underlying assumptions been verified, and have dependencies in the data (e.g. pairing) beem taken into account in the analysis?)?"
   ]
  },
  {
   "cell_type": "markdown",
   "id": "4c943b73-b93e-4bfc-89ef-5e9dc14ea680",
   "metadata": {},
   "source": [
    "#### c) Is there a description of additional analysis, such as subgroup analysis? Were any additional analyses undertaken specified a priori, or were they post hoc analyses?"
   ]
  },
  {
   "cell_type": "markdown",
   "id": "7e0361b2-ed11-45e1-b747-69737142fdf9",
   "metadata": {},
   "source": [
    "## D. Results"
   ]
  },
  {
   "cell_type": "markdown",
   "id": "5feb2f2d-085c-43bf-b421-91b3b31d7cff",
   "metadata": {},
   "source": [
    "### 1. Participant numbers and dates"
   ]
  },
  {
   "cell_type": "markdown",
   "id": "5507943f-0379-42c4-b5cc-6d24b44e0377",
   "metadata": {},
   "source": [
    "#### a) Is there a full explanation (preferably in a participant flow chart), for each treatment group, of the numbers of participants who were randomly assigned, received the intended treatment and were analyzed for the primary outcome?"
   ]
  },
  {
   "cell_type": "markdown",
   "id": "a8afcdd8-6bd7-422f-b8b7-ef5ae1143366",
   "metadata": {},
   "source": [
    "#### b) If relevant, are numbers of and reasons for losses to follow-up and exclusions after randomization documented?"
   ]
  },
  {
   "cell_type": "markdown",
   "id": "bfe57a1b-af24-4cb2-848e-f3c60c7dea2d",
   "metadata": {},
   "source": [
    "#### c) Are dates provided which define the periods of recruitment and follow-up?"
   ]
  },
  {
   "cell_type": "markdown",
   "id": "1181de8d-6290-4126-a415-aff5c2214860",
   "metadata": {},
   "source": [
    "### 2. Baseline data"
   ]
  },
  {
   "cell_type": "markdown",
   "id": "552be9ca-7923-485c-96c4-601e8c0dd03a",
   "metadata": {},
   "source": [
    "#### a) Is there a table which shows the baseline demographic and clinical characteristics for each group?"
   ]
  },
  {
   "cell_type": "markdown",
   "id": "b45128d2-b08b-4f19-9e7f-3c5652756d50",
   "metadata": {},
   "source": [
    "#### b) Are the groups comparable?"
   ]
  },
  {
   "cell_type": "markdown",
   "id": "8d993338-a160-44ce-a5f6-6517665b9a83",
   "metadata": {},
   "source": [
    "### 3. Numbers analyzed"
   ]
  },
  {
   "cell_type": "markdown",
   "id": "4d977169-3803-4ca7-bc95-f0b5441b9529",
   "metadata": {},
   "source": [
    "#### a) Is there a specification of whether an ‘Intention-to-treat’ (ITT) analysis was performed? Is a justification given for the choice of analysis (ITT or other), and is this appropriate?"
   ]
  },
  {
   "cell_type": "markdown",
   "id": "467e2b10-72d8-459b-a70c-0e5ca056316a",
   "metadata": {},
   "source": [
    "#### b) If there were protocol deviations, was a sensitivity analysis performed (e.g. as per protocol analysis or an analysis with imputed data for missing observations)?"
   ]
  },
  {
   "cell_type": "markdown",
   "id": "1bb0c52d-87cd-4515-9a33-3d06bc8529d9",
   "metadata": {},
   "source": [
    "### 4. Outcomes of interest"
   ]
  },
  {
   "cell_type": "markdown",
   "id": "aebbf15a-0f03-4c4e-980e-f1bad30c1a84",
   "metadata": {},
   "source": [
    "#### a) Main outcome of interest. Is an appropriate summary measure given the main outcome variable (i.e. that which relates to the primary aim of the study) for each comparison group? An example is the rate, risk or odds of occurrence of the outcome (e.g. death) if the outcome variable is binary, stating results in absolute numbers when feasible; or the mean (median) if the outcome variable is numerical."
   ]
  },
  {
   "cell_type": "markdown",
   "id": "28e2f475-1f88-4520-97dc-d09204bc60f3",
   "metadata": {},
   "source": [
    "#### b) Magnitude of the effect of interest. Is there an indication of the magnitude of the interest? Examples include a ratio such as the relative rate, risk, or odds, or a difference such as the absolute difference in risk, if the outcome variable is binary; or a difference in means (medians) if the main outcome variable is numerical."
   ]
  },
  {
   "cell_type": "markdown",
   "id": "ea0402b5-f90e-44a8-aeb5-640f3439a098",
   "metadata": {},
   "source": [
    "#### c) Precision of the effect of interest. Is there an indication of the precision of the effect of interest (e.g. a 95% confidence interval or standard error)?"
   ]
  },
  {
   "cell_type": "markdown",
   "id": "d69a002f-5641-45b7-aafa-676ea4e8da09",
   "metadata": {},
   "source": [
    "### 5. Additional analyses: If additional (e.g. subgroup) analyses performed, are their results provided, and are any exploratory analyses distinguished from harms in each group documented?"
   ]
  },
  {
   "cell_type": "markdown",
   "id": "a908ef82-b149-4c96-b27d-901fad84d106",
   "metadata": {},
   "source": [
    "### 6. Harms: Are all important harms in each group documented?"
   ]
  },
  {
   "cell_type": "markdown",
   "id": "f3d69171-1ee3-4d94-b106-0b74c122d817",
   "metadata": {},
   "source": [
    "## E. Discussion"
   ]
  },
  {
   "cell_type": "markdown",
   "id": "6974ffad-3712-4474-a611-2ffa1a0975ba",
   "metadata": {},
   "source": [
    "### 1. Deciding whether the results are important"
   ]
  },
  {
   "cell_type": "markdown",
   "id": "6e1d9352-afc4-4e4a-b814-0b447e340154",
   "metadata": {},
   "source": [
    "#### a) Are the key findings summarized with reference to the trial objectives?"
   ]
  },
  {
   "cell_type": "markdown",
   "id": "9422cb6e-babd-41b2-8933-4b813f965c32",
   "metadata": {},
   "source": [
    "#### b) Do the results make biological sense? If a confidence interval for the effect of interest (e.g. the difference in treatment means) has been provided:"
   ]
  },
  {
   "cell_type": "markdown",
   "id": "31d37251-bea0-48a4-a7ea-0af38990514e",
   "metadata": {},
   "source": [
    "##### (i) Would you regard the observed effect clinically important (irrespective of whether or not the result of the relevant hypothesis test is statistically significant) if lower limit of the confidence interval represented the true value of the effect?"
   ]
  },
  {
   "cell_type": "markdown",
   "id": "3def8cea-3b6e-4f05-8f5c-e1bb9f23e2c8",
   "metadata": {},
   "source": [
    "##### (ii). Would you regard the observed effect clinically import if the upper limit of the confidence interval represented the true value of the effect?"
   ]
  },
  {
   "cell_type": "markdown",
   "id": "f25a88e3-c57d-421b-a8bc-d33e1a97db3f",
   "metadata": {},
   "source": [
    "##### (iii) Would you regard the observed effect clinically import if the upper limit of the confidence interval represented the true value of the effect?"
   ]
  },
  {
   "cell_type": "markdown",
   "id": "316356e5-4395-4d38-8533-dbdd43555a19",
   "metadata": {},
   "source": [
    "#### c) Is there an evaluation of the number of patients needed to treat (NNT) with the experimental treatment, rather than the control treatment in order to prevent one of them from developing the “bad” outcome?"
   ]
  },
  {
   "cell_type": "markdown",
   "id": "27ec631c-0fc2-4c80-9689-46c7823f1221",
   "metadata": {},
   "source": [
    "### 2. Limitations: Is there a discussion of all the trial limitations, including sources of potential bias and imprecision?"
   ]
  },
  {
   "cell_type": "markdown",
   "id": "64879807-3b03-4b31-b92b-dd31bd9e1bf1",
   "metadata": {
    "tags": []
   },
   "source": [
    "### 3. Generalizability: Is there a discussion of the generalizability (external valid) of the trial findings (i.e. the extent to which the participants are representative of the wider population)?"
   ]
  },
  {
   "cell_type": "markdown",
   "id": "ba6a32ef-4c38-4d6f-8011-a847b4ba4412",
   "metadata": {},
   "source": [
    "### 4. Interpretation: Taking the benefits and harms into consideration, as well as the limitations of the trial, any multiple testing and subgroup analyses, is the interpretation of the trial findings consistent with the results?"
   ]
  },
  {
   "cell_type": "markdown",
   "id": "be1fc9ee-f83d-42af-a91c-99dd07505bf6",
   "metadata": {},
   "source": [
    "## F. Other information"
   ]
  },
  {
   "cell_type": "markdown",
   "id": "6d6933e2-eb46-4111-9593-fda42d79a4f2",
   "metadata": {},
   "source": [
    "### 1. Registration: Are the trial registration number and the name of the trial registry provided?"
   ]
  },
  {
   "cell_type": "markdown",
   "id": "01370a7a-c76e-46f3-9e90-ce61fabfc12a",
   "metadata": {},
   "source": [
    "### 2. Protocol: Is there information about where the protocol can be accessed?"
   ]
  },
  {
   "cell_type": "markdown",
   "id": "fde8ce5c-c327-4f72-83d4-6e7d5e1095bc",
   "metadata": {},
   "source": [
    "### 3. Funding: Are sources of finding documented?"
   ]
  },
  {
   "cell_type": "markdown",
   "id": "4b7faa75-024b-4b9b-b974-bc0053ed30de",
   "metadata": {},
   "source": [
    "### 4. Conflict of interest: Is there a conflict of interest statement for each of the investigators?"
   ]
  },
  {
   "cell_type": "markdown",
   "id": "1a63aeab-2338-4ff3-b953-aeb84ba17998",
   "metadata": {},
   "source": []
  },
  {
   "cell_type": "markdown",
   "id": "be327ff3-1681-445a-baee-1eb8aa43e85e",
   "metadata": {},
   "source": []
  },
  {
   "cell_type": "markdown",
   "id": "d56d4aa7-541d-4368-835d-3a274b558c6d",
   "metadata": {},
   "source": []
  },
  {
   "cell_type": "markdown",
   "id": "539d334b-9c49-47ce-baf8-fd859e42a99b",
   "metadata": {},
   "source": []
  }
 ],
 "metadata": {
  "kernelspec": {
   "display_name": "Python 3 (ipykernel)",
   "language": "python",
   "name": "python3"
  },
  "language_info": {
   "codemirror_mode": {
    "name": "ipython",
    "version": 3
   },
   "file_extension": ".py",
   "mimetype": "text/x-python",
   "name": "python",
   "nbconvert_exporter": "python",
   "pygments_lexer": "ipython3",
   "version": "3.8.12"
  }
 },
 "nbformat": 4,
 "nbformat_minor": 5
}
