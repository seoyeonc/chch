{
 "cells": [
  {
   "cell_type": "markdown",
   "id": "069214ad-cd4c-4b4b-97b3-e2768545767b",
   "metadata": {},
   "source": [
    "# 생물통계학 기말 과제_논문 해석\n",
    "> Effect of Intensive vs Standard Blood Pressure Control on Probable Dementia\n",
    "\n",
    "- toc:true\n",
    "- branch: master\n",
    "- badges: true\n",
    "- comments: false\n",
    "- author: 최서연"
   ]
  },
  {
   "cell_type": "markdown",
   "id": "323c4606-e431-4643-af13-498ef3348d77",
   "metadata": {},
   "source": [
    "# Effect of Sunscreen Application Under Maximal Use Conditions on Plasma Concentration of Sunscreen Active Ingredients A Randomized Clinical Trial"
   ]
  },
  {
   "cell_type": "markdown",
   "id": "103de9ed-0f06-4eb6-8a77-4316a9d49620",
   "metadata": {},
   "source": [
    "Murali K. Matta, PhD; Robbert Zusterzeel, MD, PhD, MPH; Nageswara R. Pilli, PhD; Vikram Patel, PhD; Donna A. Volpe, PhD; Jeffry Florian, PhD; Luke Oh, PhD; Edward Bashaw, PharmD; Issam Zineh, PharmD, MPH; Carlos Sanabria, MD; Sarah Kemp, RN; Anthony Godfrey, PharmD Steven Adah, PhD; Sergio Coelho, PhD; Jian Wang, PhD; Lesley-Anne Furlong, MD; Charles Ganley, MD; Theresa Michele, MD; David G. Strauss, MD, PhD"
   ]
  },
  {
   "cell_type": "markdown",
   "id": "656340b7-2349-4968-a576-debc10698ce8",
   "metadata": {
    "tags": []
   },
   "source": [
    "## A. Title and abstract"
   ]
  },
  {
   "cell_type": "markdown",
   "id": "11f8db15-acf0-4541-a440-510ce4bc1164",
   "metadata": {},
   "source": [
    "### 1. Is the trial identified as a RCT in the title?"
   ]
  },
  {
   "cell_type": "markdown",
   "id": "bf366275-4403-45e4-90e4-f7a939e594c3",
   "metadata": {},
   "source": [
    "title: Effect of Sunscreen Application Under Maximal Use Conditions on Plasma Concentration of Sunscreen Active Ingredients **A Randomized Clinical Trial**"
   ]
  },
  {
   "cell_type": "markdown",
   "id": "ac982838-7030-496e-b7c6-ea3a25faec46",
   "metadata": {},
   "source": [
    "$\\star$Answer: title에 RCT가 명시되어 있습니다."
   ]
  },
  {
   "cell_type": "markdown",
   "id": "9afd1701-78f2-47ce-9f9e-0a6caddc11c0",
   "metadata": {},
   "source": [
    "### 2. Does the abstract summaries the trial’s primary objective, design, methods, results and conclusions?"
   ]
  },
  {
   "cell_type": "markdown",
   "id": "1e61f921-2258-47df-9022-95f1208d3214",
   "metadata": {},
   "source": [
    "**OBJECTIVE** To determine whether the active ingredients (avobenzone, oxybenzone, octocrylene, and ecamsule) of 4 commercially available sunscreens are absorbed into systemic circulation.\n",
    "- 시중에 판매되는 4가지 활성 성분이 전신 순환계에 흡수되는지 보기 위한 연구\n",
    "\n",
    "**DESIGN, SETTING, AND PARTICIPANTS** Randomized clinical trial conducted at a phase 1 clinical pharmacology unit in the United States and enrolling 24 healthy volunteers. Enrollment started in July 2018 and ended in August 2018.\n",
    "- 무작위 임상 시험은 미국의 1상 임상 약리학 부서에서 24명의 건강한 자원자를 등록하여 수행되었고, 등록은 2018년 7월에 시작했고 2018년 8월에 종료되었다.\n",
    "\n",
    "**MAIN OUTCOMES AND MEASURES** The primary outcome was the maximum plasma concentration of avobenzone. Secondary outcomes were the maximum plasma concentrations of oxybenzone, octocrylene, and ecamsule.\n",
    "- 1차 결과는 avobenzone의 최고 혈장 농도였다. 2차 결과는 oxybenzone, octocrylene, ecamsule의 최고 혈장 농도 였다.\n",
    "\n",
    "**RESULTS** Among 24 participants randomized (mean age, 35.5 [SD, 10.5] years; 12 [50%] women; 14 [58%] black or African American), 23 (96%) completed the trial. Systemic concentrations greater than 0.5 ng/mL were reached for all 4 products after 4 applications on day 1. The most common adverse event was rash (1 participant with each sunscreen).\n",
    "- 무작위로 배정된 24명의 참가자(평균 연령 35.5, 표준편차 10.5세; 12명(50%) 여성; 14명(58%) 흑인 또는 아프리카게 미국인 중 23명(96%)이 시험을 완료했다.) 0.5ng/mL 이상의 전신 농도는 1일차에 4번 적용 후 모든 4개 제품에 대해 도달되었다. 가장 흔한 이상반응은 발진이었다(각 자외선 차단제에서 1명의 참가자).\n",
    "\n",
    "**CONCLUSIONS AND RELEVANCE** In this preliminary study involving healthy volunteers, application of 4 commercially available sunscreens under maximal use conditions resulted in plasma concentrations that exceeded the threshold established by the FDA for potentially waiving some nonclinical toxicology studies for sunscreens. The systemic absorption of sunscreen ingredients supports the need for further studies to determine the clinical significance of these findings. These results do not indicate that individuals should refrain from the use of sunscreen.\n",
    "- 건강한 자원자를 대상으로 한 이 예비 연구에서, 최대 사용 조건 아래 시판되는 4가지 자외선 차단제를 적용한 결과 혈장 농도가 자외선 차단제에 대한 일부 비임상 독성 연구들을 잠재적으로 포기하기 위해 FDA에서 설정한 임계값을 초가했다. 자외선 차단제 성분의 전신 흡수는 이 발견의 임상적 중요성을 결정하기 위해 더 많은 연구에 대한 필요성을 시사한다. 이 결과는 자외선 차단제의 사용을 자제해야 한다는 것을 나타내지는 않는다."
   ]
  },
  {
   "cell_type": "markdown",
   "id": "433319b3-3fee-40fc-bdcf-d4a8b77146a8",
   "metadata": {},
   "source": [
    "$\\star$Answer: abstract에 the trial’s primary objective, design, methods, results and conclusions 가 요약되어 있었습니다."
   ]
  },
  {
   "cell_type": "markdown",
   "id": "1c4b89c4-6d17-47c8-8d67-0d79ce88de89",
   "metadata": {},
   "source": [
    "## B. Introduction"
   ]
  },
  {
   "cell_type": "markdown",
   "id": "8776c248-4eef-4d85-83f6-7c007f602d19",
   "metadata": {},
   "source": [
    "### 1. Is a proper description provided of the scientific background, and is the rationale for the trial explained sufficiently? Has all the relevant information from previous studies and other available evidence been included?"
   ]
  },
  {
   "cell_type": "markdown",
   "id": "909cb024-7efa-48b4-b3a3-5a12142a76f0",
   "metadata": {},
   "source": [
    "Understanding the extent of systemic exposure of these products is important, as even a low percentage of systemic absorption (eg, 0.1%) could represent a significant systemic exposure.\n",
    "- 낮은 비율의 전신 흡수라도 상당한 전신 흡수를 나타낼수 있으니 이러한 제품의 전신 노출 정도를 이해하는 것은 중요하다.\n",
    "\n",
    ".......................................\n",
    "\n",
    "The US Food and Drug Administration (FDA) guidance titled “Guidance for Industry: Nonprescription Sunscreen Drug Products Safety and Effectiveness Data” (sunscreen guidance) recommends an assessment of the human systemic absorption of sunscreen ingredients with a maximal usage trial and a nonclinical safety assessment including dermal carcinogenicity and embryofetal toxicity.\n",
    "- 미국 식약청의 선스크린 가이던스는 피부 발암성 및 배태자 독성을 포함한 최대 사용 시험 및 비임상 안전성 평가로 자외선 차단제 성분의 인체 전신 흡수 평가를 추천한다.\n",
    "\n",
    "The FDA sunscreen guidance and the proposed rule for the OTC sunscreen monograph note that some nonclinical toxicology studies (ie, systemic carcinogenicity and additional developmental and reproductive studies) may be waived if results of an adequately conducted human pharmacokinetic maximal usage trial show a steady state blood level less than 0.5 ng/mL \n",
    "and an adequately conducted toxicology assessment does not reveal any potential safety concerns.\n",
    "- FDA의 자외선 차단제 지침과 otc 자외선 차단제 모노그래프에 대한 제안된 규칙은 적절하게 수행된 인간 약동학 최대 사용 시험의 결과가 0.5ng/mL 미만의 정상 상태 혈액 수준을 나타내는 경우 일부 비임상 독성 연구를 포기할 수 있고, 적절하게 수행된 독성 평가에서 잠재적인 안전 문제는 드러나지 않는다고 언급한다."
   ]
  },
  {
   "cell_type": "markdown",
   "id": "bcae57e2-4ba0-4d8b-9261-61de3aa4c973",
   "metadata": {},
   "source": [
    "$\\star$Answer: 이전 연구들에 대한 언급은 찾을 수 없었지만, 식약청의 지침을 기반으로 시험이 필요한 이유를 서술하고 있었다."
   ]
  },
  {
   "cell_type": "markdown",
   "id": "6a5dd05c-2569-4c76-951e-65d9c1f2c531",
   "metadata": {},
   "source": [
    "### 2. Is the primary aim of the trial indicated, preferably in relation to a relevant hypothesis based on the outcome of interest, and are secondary objectives described?"
   ]
  },
  {
   "cell_type": "markdown",
   "id": "3f1e8f68-8b88-49a8-9419-67ef51299b09",
   "metadata": {},
   "source": [
    "The objective of the current study was to determine the systemic exposure of active ingredients(avobenzone, oxybenzone, octocrylene, and ecamsule) present in 4 commercially available sunscreen products of different formulation types under maximal usage conditions.\n",
    "- 현재 연구의 목적은 최대 사용 조건에서 서로 다른 제형 유형의 4개의 자외선 차단제에 대해 활성 성분(avobenzone, oxybenzone, octocrylene, and ecamsule)의 전신 노출을 측정\n",
    "하는 것이다."
   ]
  },
  {
   "cell_type": "markdown",
   "id": "8cf9ba78-5a7d-428b-b126-05d291235a64",
   "metadata": {},
   "source": [
    "$\\star$Answer: primary aim은 찾을 수 있었지만, secondary objective는 없었습니다. 목적은 최대 사용 조건에서 서로 다른 제형 유형의 4개 자외선 차단제에 대한 활성 성분의 전신 흡수를 측정하는 것이었다."
   ]
  },
  {
   "cell_type": "markdown",
   "id": "598e391e-3079-4d9a-81ea-7896cbd6bca2",
   "metadata": {
    "tags": []
   },
   "source": [
    "## C. Methods"
   ]
  },
  {
   "cell_type": "markdown",
   "id": "3e9ece4e-e62a-4dae-88b9-08c5f017e6e0",
   "metadata": {},
   "source": [
    "### 1. Trial design Is the trial design described adequately? Are any aspects of the design utilized to avoid bias fully described? For example:"
   ]
  },
  {
   "cell_type": "markdown",
   "id": "aea1fb44-812d-4007-b4c7-63d580e141be",
   "metadata": {},
   "source": [
    "#### a) Randomization. Are full details of the randomization process provided, including the method used to generate the random allocation sequence, the type of randomization, steps taken to conceal the allocation sequence and details of the implementation of the randomization (e.g. who enrolled the participants and who assigned the participants to the interventions)?"
   ]
  },
  {
   "cell_type": "markdown",
   "id": "8f69d456-3975-4eab-bf29-e9d5f51158c9",
   "metadata": {},
   "source": [
    "#### b) Blinding. To what extent was the study blind? If relevant, is a description provided of the similarity of the interventions)?"
   ]
  },
  {
   "cell_type": "markdown",
   "id": "2ba40030-3f87-4dff-b609-c5dae0e25f66",
   "metadata": {},
   "source": [
    "#### c) Allocation concealment. Was the allocation sequence concealed from the staff who recruited patients for the trial?"
   ]
  },
  {
   "cell_type": "markdown",
   "id": "91d9fd94-8f3c-4f04-a607-8654e37dd69f",
   "metadata": {},
   "source": [
    "This was an open-label, randomized, 4-group parallel study conducted at a phase 1 clinical pharmacology unit in the United States to evaluate the effects of multiple applications of 4 different topical sunscreen formulations (eTable 1 in Supplement 2) in healthy adult participants (Table 1; eTable 2 in Supplement 2; deidentified participant data available inSupplement 3).\n",
    "- 이 연구는 건강한 성인 참가자를 대상으로 4개의 다른 제형 유형의 자외선 차단제의 다중 적용을 효과를 평가하기 위한 미국의 1상 임상 약동학 부서에서 수행된 공개, 무작위, 4 그룹 평행 연구이다.\n",
    "\n",
    "\n",
    "................................\n",
    "\n",
    "After screening, the 24 participants were randomized to participate in 1 of the 4 treatment groups.\n",
    "- screening 후에 24명의 대상자들은 4개의 치료군 중 한 곳으로 무작위 배정되었다."
   ]
  },
  {
   "cell_type": "markdown",
   "id": "37489888-3456-42e6-9214-219f78a4c8b7",
   "metadata": {},
   "source": [
    "$\\star$Answer: randomization 연구인 것을 확인할 수 있었다."
   ]
  },
  {
   "cell_type": "markdown",
   "id": "00a3948a-c998-4e4e-aed5-2b8aa37056f3",
   "metadata": {
    "tags": []
   },
   "source": [
    "### 2. Participants"
   ]
  },
  {
   "cell_type": "markdown",
   "id": "b595c983-c2f7-4fe6-9c2b-069ce3241517",
   "metadata": {},
   "source": [
    "#### a) Is there a complete description of the eligibility (inclusion and exclusion) criteria for the participants?"
   ]
  },
  {
   "cell_type": "markdown",
   "id": "446afcbc-b286-42e6-bec6-bf1022259941",
   "metadata": {},
   "source": [
    "Key inclusion criteria were ages 18 through 60 years with a body mass index of 18.5 to 29.9 (calculated as weight in kilograms divided by height in meters squared), negative test results for alcohol and drugs of abuse, and no known or suspected allergies or sensitivities to any components of the sunscreen formulations (additional details available in the study protocol in Supplement 1).\n",
    "- 주요 선정 기준은 BMI가 18.5~29.9 사이이고, 알코올 및 남용 약물에 대한 음성 테스트 결과를 가진, 자외선 차단제 제형의 구성 요소에 대한 알려진 혹은 의심되는 알레르기나 민감성이 없는 18세에서 60세 사이의 대상자였다.\n",
    "\n",
    "The major exclusion criteria were participants with broken, irritated, or unhealed skin or active sunburn and active autoimmune disease, anemia, or other chronic condition that affects blood sample collection. Additionally, participants using\n",
    "any of the listed sunscreen products or products containing the listed active ingredients were excluded from enrollment.\n",
    "- 주요 제외 기준은 손상되거나, 자극받았거나, 치유되지 않은 피부를 가지거나, 활성 햇빛 화상을 가지거나, 활성 자가면역 질환, 빈혈, 혈액 표본에 영향을 주는 다른 만성 조건을 가진 대상자였다. 게다가, 나열된 활성 성분들을 가진 제품들이나 나열된 자외선 차단제 제품들을 사용하는 참가자들은 등록에서 제외되었다."
   ]
  },
  {
   "cell_type": "markdown",
   "id": "32cdaee9-918b-4e9b-87fb-69158779a80f",
   "metadata": {},
   "source": [
    "$\\star$Answer: 선정/제외기준을 찾을 수 있었다."
   ]
  },
  {
   "cell_type": "markdown",
   "id": "7261dc69-cdf5-4e87-be67-8ee7c72bb205",
   "metadata": {
    "tags": []
   },
   "source": [
    "#### b) Was the study conducted using an appropriate spectrum of patients?"
   ]
  },
  {
   "cell_type": "markdown",
   "id": "654e65fc-98f4-4c19-b20f-c111dde4f8e8",
   "metadata": {},
   "source": [
    "Participants were recruited by standard recruiting for a phase 1 healthy volunteer study (ie, email, text, online). Selfidentified race/ethnicity was collected in an open-ended format and recorded by clinical staff as a standard component of\n",
    "a clinical trial.\n",
    "- 참가자들은 1상의 건강한 지원자 연구에 대한 표준 모집으로 모집되었다. 자가 식별된 인종/민적은 공개 형식으로 모집되었고, 임상 시험의 표준 구성 요소로서 임상적 직원에 의해 기록되었다."
   ]
  },
  {
   "cell_type": "markdown",
   "id": "c67dfe0d-7e87-4202-a9f9-b7162f5b0294",
   "metadata": {},
   "source": [
    "$\\star$Answer: 대상자들의 모집 경로에 대해 찾을 수 있었고, 공개 모집되었기 때문에 대상자들이 appropriate spectrum을 가지고 모집되었다고 사료된다."
   ]
  },
  {
   "cell_type": "markdown",
   "id": "dd7569e7-327f-4a01-9886-e43957047673",
   "metadata": {},
   "source": [
    "### 3. Interventions"
   ]
  },
  {
   "cell_type": "markdown",
   "id": "df2bca74-cfaa-49d6-b7e4-3b219cb1f650",
   "metadata": {},
   "source": [
    "#### a) Is the intervention (treatment and/or placebo, if appropriate) for each group described in sufficient detail?"
   ]
  },
  {
   "cell_type": "markdown",
   "id": "78af0920-77f1-4b41-9e80-11b4a813c58a",
   "metadata": {},
   "source": [
    " Each group had 6 participants (3 men, 3 women) who received a single formulation.\n",
    " - 4개 각각의 그룹은 single fomulation을 받은 6명의 대상자가 남성 3명, 여성 3명으로 구성되었다.\n",
    " \n",
    "Findings: In this randomized clinical trial that included 24 healthy participants and application of 4 commercially available sunscreen formulations, maximum plasma concentrations (geometric mean [coefficient of variation]) for the active ingredient avobenzone were 4.0 (60.9%), 3.4 (77.3%), 4.3 (46.1%), and 1.8 (32.1%) ng/mL for 2 different sprays, a lotion, and a cream, respectively.\n",
    "- 24명의 건강한 대상자들과 시중에 파는 4개의 자외선 차단제 fomulation을 포함한 이 무작위 임상 시험에서 활성 성분 avobenzone에 대한 최대 혈중 농도(기하 평균 [변동 계수])는 2개의 다른 스프레이들, 로션, 크림 각각에 대하여 4.0 (60.9%), 3.4 (77.3%), 4.3 (46.1%), and 1.8 (32.1%) ng/mL 이었다."
   ]
  },
  {
   "cell_type": "markdown",
   "id": "6486ac62-47da-4051-b938-5d39d6bf9568",
   "metadata": {},
   "source": [
    "$\\star$Answer: 이 연구는 건강한 성인 참가자를 대상으로 4개의 다른 제형 유형의 자외선 차단제의 다중 적용을 효과를 평가가 목적이기 때문에 placebo가 존재하지 않는 연구였으며, 4개의 서로 다른 제형 유형(스프레이 두 개. 로션, 크림)의 자외선 차단제가 treatment 였다."
   ]
  },
  {
   "cell_type": "markdown",
   "id": "9f7437bb-7f90-4939-8d6e-9a8e8c0754ab",
   "metadata": {
    "tags": []
   },
   "source": [
    "#### b) Were the groups treated in similar fashion, aside from the fact that they received different Interventions?"
   ]
  },
  {
   "cell_type": "markdown",
   "id": "1814c511-adbb-4f15-8a8a-1cf3a6e10d0f",
   "metadata": {},
   "source": [
    "Study participants remained in the clinic for up to 7 days and were not exposed to direct sunlight during the study.\n",
    "- 연구 참가자들은 연구기간 동안 직사광선에 노출되지 않았고, 7일 이상동안 클리닉에 남았다."
   ]
  },
  {
   "cell_type": "markdown",
   "id": "6d67a4e1-212c-4b48-8078-faa5ce2a7f38",
   "metadata": {},
   "source": [
    "$\\star$Answer: 참가자들은 그룹별로 각각 다른 제형의 자외선 차단제를 받은 것 이외에 연구기간동안 직사광선에 노출되지 않은 같은 조건 아래 연구가 진행되었다."
   ]
  },
  {
   "cell_type": "markdown",
   "id": "6816c925-433c-4f7f-9617-f9bbfaaacacc",
   "metadata": {},
   "source": [
    "### 4. Outcomes"
   ]
  },
  {
   "cell_type": "markdown",
   "id": "068a3360-6a35-4158-966e-32b2d0972269",
   "metadata": {
    "tags": []
   },
   "source": [
    "#### a) Is consideration given to all the important outcomes?"
   ]
  },
  {
   "cell_type": "markdown",
   "id": "0ce9c809-bc02-458c-97d1-51929a2defa4",
   "metadata": {},
   "source": [
    "Along with the primary and secondary outcomes, other exploratory pharmacokinetic parameters were calculated, including time of maximum concentration overall and on days 1 and 4, area under the curve (AUC) of plasma concentration vs time overall and on days 1 and 4, trough concentration or residual concentration each day, and terminal half-life (time required for active ingredient concentration to decrease by 50% during the terminal or final decline phase). All adverse events, whether serious or nonserious and whether related to the study drug, were recorded by study personnel and adjudicated by the principal investigator. No adverse events of special interest were specified.\n",
    "- primary, secondary outcome 에 따라, 전체와 1일과 4일의 최대 농도 시간과 전체와 1일과 4일의 시간에 대한 혈장 농도의 곡선 아래 면적(AUC), 최저 농도, 잔류 농도, 최종 반감기을 포함하여 다른 탐색적 약동학적 평가변수가 계산되었다. 중대하거나 중대하지 않거나, 연구 약물과 관련된 모든 이상반응이 연구자에 의해 기록되었다. 특이한 이상반응은 발견되지 않았다."
   ]
  },
  {
   "cell_type": "markdown",
   "id": "60a98c06-1211-4619-b973-843035fae779",
   "metadata": {},
   "source": [
    "$\\star$Answer: 이상반응과 평가변수도 함께 고려된되어 중요한 outcome이 고려되었다고 보았다."
   ]
  },
  {
   "cell_type": "markdown",
   "id": "ac05b103-ddf6-491c-9062-83f134190961",
   "metadata": {},
   "source": [
    "#### b) Are the primary and secondary outcomes defined precisely?"
   ]
  },
  {
   "cell_type": "markdown",
   "id": "80a257fa-ed4c-446d-8f0d-ad97c472d2cc",
   "metadata": {},
   "source": [
    "The prespecified primary outcome was the maximum plasma concentration of avobenzone over days 1 through 7. Avobenzone is one of the primary UVA filters in the OTC sunscreen monograph, and systemic exposure data for this compound did not exist. The secondary outcomes were the maximum plasma concentrations of oxybenzone, octocrylene, and ecamsule over days 1 through 7.\n",
    "- 미리 명시된 primary outcome 은 1일에서 7일 동안의 avobenzone의 최대 혈장 농도였다. Avobenzone은 OTC 자외선 차단제 모노그래프에서 주요한 UVA 필터 중 하나이며, 이 요소에 대한 전신 노출 데이터는 존재하지 않았다. secondary outcome은 oxybenzone, octocrylene, ecamsule의 1일에서 7일 동안 최대 혈장 농도였다.\n",
    "\n",
    "Two post hoc assessments were performed. The number and percentage of participants with plasma concentrations of active ingredient exceeding 0.5 ng/mL were summarized based on day-1 observations. In addition, accumulation with repeat dosing was assessed by the log-transformed ratio of maximum plasma concentration and AUC on day 4 vs 1.\n",
    "- 두 가지 사후 평가가 진행되었다. 활성 성분이 0.5ng/mL를 초과하는 혈장 농도를 가진 대상자들의 수와 백분율은 1일차 관찰값을 기반으로 요약되었다. 추가로, 반복 투여의 축적은 4일과 1일의 최대 혈장 농도 및 AUC의 로그변환 비율에 의해 평가되었다."
   ]
  },
  {
   "cell_type": "markdown",
   "id": "2142248e-c700-4bb9-a6a9-cd534fc406e5",
   "metadata": {},
   "source": [
    "$\\star$Answer: primary, secondary outcome 이 자세하게 제시되어 있었다."
   ]
  },
  {
   "cell_type": "markdown",
   "id": "c5ea4aec-5c1f-4c74-8f82-043b6ee5e07f",
   "metadata": {},
   "source": [
    "#### c) Were there any changes to the outcomes after the trial started?"
   ]
  },
  {
   "cell_type": "markdown",
   "id": "1f46c8a5-c868-4767-b1a2-b185f93f02ff",
   "metadata": {},
   "source": []
  },
  {
   "cell_type": "markdown",
   "id": "43508da0-b4bf-4d13-b8db-486766e4f41e",
   "metadata": {},
   "source": []
  },
  {
   "cell_type": "markdown",
   "id": "936a3bfa-b216-4400-8e09-a7aa7cc86e3c",
   "metadata": {},
   "source": [
    "$\\star$Answer: "
   ]
  },
  {
   "cell_type": "markdown",
   "id": "aea748e4-ef94-49cf-b3d2-d40889cc4e75",
   "metadata": {},
   "source": [
    "### 5. Sample size"
   ]
  },
  {
   "cell_type": "markdown",
   "id": "4f4d10e9-c3fb-492e-9fb1-4cf48c6874a7",
   "metadata": {},
   "source": [
    "#### a) Is there a power statement to justify the overall sample size? Does this power statement indicate the form of the statistical analysis on which it is based, and does it include a specification of the values of all the factors that affect sample size for this calculation?"
   ]
  },
  {
   "cell_type": "markdown",
   "id": "33169f92-a0cc-4deb-a957-1ba2f85154f5",
   "metadata": {},
   "source": [
    "$\\star$Answer: "
   ]
  },
  {
   "cell_type": "markdown",
   "id": "ed6689ff-e020-4a49-98a3-6849bd6d01e7",
   "metadata": {},
   "source": [
    "#### b) If relevant, is there a full explanation of any interim analysis, including the steps taken to reduce the Type 1 error rate?"
   ]
  },
  {
   "cell_type": "markdown",
   "id": "0c991a23-c912-4dee-9c0a-cdf7d91238fd",
   "metadata": {},
   "source": [
    "$\\star$Answer: "
   ]
  },
  {
   "cell_type": "markdown",
   "id": "c92e40c6-55a5-46db-a9aa-377c64e1d533",
   "metadata": {},
   "source": [
    "#### c) If subgroup analyses have been performed, is there a justification for the subgroup sample sizes, based on power calculations, and a description of the steps taken to reduce the Type 1 error rate? Alternatively., are these subgroup analysis specified as being exploratory in nature, with an indication that they may be under-powered?"
   ]
  },
  {
   "cell_type": "markdown",
   "id": "3d9417df-2ab9-4d84-bc0c-08cfc71ec413",
   "metadata": {},
   "source": [
    "$\\star$Answer: "
   ]
  },
  {
   "cell_type": "markdown",
   "id": "f15bfcdb-0e9a-4943-bbb7-d399fd6085bf",
   "metadata": {},
   "source": [
    "### 6. Statistical methods"
   ]
  },
  {
   "cell_type": "markdown",
   "id": "e1fa0c57-5675-4294-b583-0a2a2b12fb4f",
   "metadata": {},
   "source": [
    "#### a) Are all the statistical methods used to compare groups for primary and secondary outcomes identified?"
   ]
  },
  {
   "cell_type": "markdown",
   "id": "81132cae-3cfe-4578-a983-76ac935fa348",
   "metadata": {},
   "source": [
    "#### b) Are the statistical methods appropriate (e.g. have underlying assumptions been verified, and have dependencies in the data (e.g. pairing) been taken into account in the analysis?)?"
   ]
  },
  {
   "cell_type": "markdown",
   "id": "4c943b73-b93e-4bfc-89ef-5e9dc14ea680",
   "metadata": {},
   "source": [
    "#### c) Is there a description of additional analysis, such as subgroup analysis? Were any additional analyses undertaken specified a priori, or were they post hoc analyses?"
   ]
  },
  {
   "cell_type": "markdown",
   "id": "1fd13cce-5a2d-44b3-a5e2-0f684ddc4a1f",
   "metadata": {},
   "source": [
    "Because this was an exploratory study to assess general methodology for a sunscreen maximal usage trial and no prior data existed on the systemic absorption of avobenzone, the sample size was determined empirically with reference to\n",
    "the sunscreen guidance recommendation for pilot studies.\n",
    "- 이는 자외선 차단제 최대 사용 시험에 대한 일반적인 방법론을 평가하기 위한 탐색적 연구였으며, avobenzone의 전신 흡수에 대한 사전 데이터가 없기 때문에 사후 평가(4번 문항에서 제시됨)가 진행됐었다. 표본 크기는 예비 연구에 대한 자외선차단제 지침 권장 사항을 참조하여 경험적으로 결정되었다."
   ]
  },
  {
   "cell_type": "markdown",
   "id": "5d56233f-ec9a-4029-b2ad-8c5a14446a6d",
   "metadata": {},
   "source": [
    "In post hoc analyses, accumulation with repeat dosing was assessed by log-transforming AUC and maximum plasma concentration from day 1 and 4 for each product and active ingredient. Data were analyzed using a linear-mixed effects model with fixed effects for day (day 4 vs day 1) and random effects for participant. Point estimates and corresponding 2-sided 90% CIs were obtained from the model and exponentiated to provide estimates of the geometric mean ratio and 90% CI of the ratio; 90% CIs were chosen because they are standard in pharmacokinetic studies. Exposures on day 4 vs day 1 were considered not significantly different if the lower bound of the 90% CI for all exposure metrics included 1.\n",
    "- 사후 연구에서 반복 투여의 축적은 각각 제품과 활성 성분에 대한 1일과 4일의 로그 변환 된 AUC와 최대 혈장 농도에 의해 평가되었다. 데이터는 고정효과로 day를 놓고(1일 vs 4일), 랜덤 효과로 대상자들을 지정한 선형 혼합 효과 모델을 사용하여 분석되었다. 점 추정치 및 해당하는 양측 90% 신뢰구간은 모델에서 얻어 기하 평균 비율과 비율의 90% 신뢰구간 추정치를 제공하기 위해 지수화되었다. 90% 신뢰구간은 약동학 연구의 표준이기 때문에 선택되었다. 1일과 4일의 노출은 90% 신뢰구간 하한이 1을 포함하는 경우 유의하게 다르지 않은 것으로 고려되었다."
   ]
  },
  {
   "cell_type": "markdown",
   "id": "f6909d30-38c3-407b-88df-727eb7189699",
   "metadata": {},
   "source": [
    "Plasma concentrations below the limit of quantitation were assigned as zero during calculation of pharmacokinetic parameters. No adjustments for multiplicity were made in the statistical analyses. Because of the potential for type 1 error due tomultiple comparisons, findings for analyses of secondary outcomes, exploratory pharmacokinetic parameters, and post hoc assessments should be interpreted as exploratory.\n",
    "- 정량 한계 미만의 혈장 농도는 약동학적 평가변수를 계산하는 동안 0으로 제시되었다. 통계 분석에서 다중성에 대한 조정은 수행되지 않았다. 다중 비교로 인한 제 1종 오류의 가능성 떄문에 secondary outcomes의 분석 결과, 탐색적 약동학 평가 변수 및 사후 평가 분석에 대한 결과는 탐색적 평가로 해석되어야 한다."
   ]
  },
  {
   "cell_type": "markdown",
   "id": "7e0361b2-ed11-45e1-b747-69737142fdf9",
   "metadata": {},
   "source": [
    "## D. Results"
   ]
  },
  {
   "cell_type": "markdown",
   "id": "5feb2f2d-085c-43bf-b421-91b3b31d7cff",
   "metadata": {},
   "source": [
    "### 1. Participant numbers and dates"
   ]
  },
  {
   "cell_type": "markdown",
   "id": "5507943f-0379-42c4-b5cc-6d24b44e0377",
   "metadata": {},
   "source": [
    "#### a) Is there a full explanation (preferably in a participant flow chart), for each treatment group, of the numbers of participants who were randomly assigned, received the intended treatment and were analyzed for the primary outcome?"
   ]
  },
  {
   "cell_type": "markdown",
   "id": "a8afcdd8-6bd7-422f-b8b7-ef5ae1143366",
   "metadata": {},
   "source": [
    "#### b) If relevant, are numbers of and reasons for losses to follow-up and exclusions after randomization documented?"
   ]
  },
  {
   "cell_type": "markdown",
   "id": "bfe57a1b-af24-4cb2-848e-f3c60c7dea2d",
   "metadata": {},
   "source": [
    "#### c) Are dates provided which define the periods of recruitment and follow-up?"
   ]
  },
  {
   "cell_type": "markdown",
   "id": "1181de8d-6290-4126-a415-aff5c2214860",
   "metadata": {},
   "source": [
    "### 2. Baseline data"
   ]
  },
  {
   "cell_type": "markdown",
   "id": "552be9ca-7923-485c-96c4-601e8c0dd03a",
   "metadata": {},
   "source": [
    "#### a) Is there a table which shows the baseline demographic and clinical characteristics for each group?"
   ]
  },
  {
   "cell_type": "markdown",
   "id": "b45128d2-b08b-4f19-9e7f-3c5652756d50",
   "metadata": {},
   "source": [
    "#### b) Are the groups comparable?"
   ]
  },
  {
   "cell_type": "markdown",
   "id": "8d993338-a160-44ce-a5f6-6517665b9a83",
   "metadata": {},
   "source": [
    "### 3. Numbers analyzed"
   ]
  },
  {
   "cell_type": "markdown",
   "id": "4d977169-3803-4ca7-bc95-f0b5441b9529",
   "metadata": {},
   "source": [
    "#### a) Is there a specification of whether an ‘Intention-to-treat’ (ITT) analysis was performed? Is a justification given for the choice of analysis (ITT or other), and is this appropriate?"
   ]
  },
  {
   "cell_type": "markdown",
   "id": "467e2b10-72d8-459b-a70c-0e5ca056316a",
   "metadata": {},
   "source": [
    "#### b) If there were protocol deviations, was a sensitivity analysis performed (e.g. as per protocol analysis or an analysis with imputed data for missing observations)?"
   ]
  },
  {
   "cell_type": "markdown",
   "id": "1bb0c52d-87cd-4515-9a33-3d06bc8529d9",
   "metadata": {},
   "source": [
    "### 4. Outcomes of interest"
   ]
  },
  {
   "cell_type": "markdown",
   "id": "aebbf15a-0f03-4c4e-980e-f1bad30c1a84",
   "metadata": {},
   "source": [
    "#### a) Main outcome of interest. Is an appropriate summary measure given the main outcome variable (i.e. that which relates to the primary aim of the study) for each comparison group? An example is the rate, risk or odds of occurrence of the outcome (e.g. death) if the outcome variable is binary, stating results in absolute numbers when feasible; or the mean (median) if the outcome variable is numerical."
   ]
  },
  {
   "cell_type": "markdown",
   "id": "28e2f475-1f88-4520-97dc-d09204bc60f3",
   "metadata": {},
   "source": [
    "#### b) Magnitude of the effect of interest. Is there an indication of the magnitude of the interest? Examples include a ratio such as the relative rate, risk, or odds, or a difference such as the absolute difference in risk, if the outcome variable is binary; or a difference in means (medians) if the main outcome variable is numerical."
   ]
  },
  {
   "cell_type": "markdown",
   "id": "ea0402b5-f90e-44a8-aeb5-640f3439a098",
   "metadata": {},
   "source": [
    "#### c) Precision of the effect of interest. Is there an indication of the precision of the effect of interest (e.g. a 95% confidence interval or standard error)?"
   ]
  },
  {
   "cell_type": "markdown",
   "id": "d69a002f-5641-45b7-aafa-676ea4e8da09",
   "metadata": {},
   "source": [
    "### 5. Additional analyses: If additional (e.g. subgroup) analyses performed, are their results provided, and are any exploratory analyses distinguished from harms in each group documented?"
   ]
  },
  {
   "cell_type": "markdown",
   "id": "a908ef82-b149-4c96-b27d-901fad84d106",
   "metadata": {},
   "source": [
    "### 6. Harms: Are all important harms in each group documented?"
   ]
  },
  {
   "cell_type": "markdown",
   "id": "f3d69171-1ee3-4d94-b106-0b74c122d817",
   "metadata": {},
   "source": [
    "## E. Discussion"
   ]
  },
  {
   "cell_type": "markdown",
   "id": "6974ffad-3712-4474-a611-2ffa1a0975ba",
   "metadata": {},
   "source": [
    "### 1. Deciding whether the results are important"
   ]
  },
  {
   "cell_type": "markdown",
   "id": "6e1d9352-afc4-4e4a-b814-0b447e340154",
   "metadata": {},
   "source": [
    "#### a) Are the key findings summarized with reference to the trial objectives?"
   ]
  },
  {
   "cell_type": "markdown",
   "id": "9422cb6e-babd-41b2-8933-4b813f965c32",
   "metadata": {},
   "source": [
    "#### b) Do the results make biological sense? If a confidence interval for the effect of interest (e.g. the difference in treatment means) has been provided:"
   ]
  },
  {
   "cell_type": "markdown",
   "id": "31d37251-bea0-48a4-a7ea-0af38990514e",
   "metadata": {},
   "source": [
    "##### (i) Would you regard the observed effect clinically important (irrespective of whether or not the result of the relevant hypothesis test is statistically significant) if lower limit of the confidence interval represented the true value of the effect?"
   ]
  },
  {
   "cell_type": "markdown",
   "id": "3def8cea-3b6e-4f05-8f5c-e1bb9f23e2c8",
   "metadata": {},
   "source": [
    "##### (ii). Would you regard the observed effect clinically import if the upper limit of the confidence interval represented the true value of the effect?"
   ]
  },
  {
   "cell_type": "markdown",
   "id": "f25a88e3-c57d-421b-a8bc-d33e1a97db3f",
   "metadata": {},
   "source": [
    "##### (iii) Would you regard the observed effect clinically import if the upper limit of the confidence interval represented the true value of the effect?"
   ]
  },
  {
   "cell_type": "markdown",
   "id": "316356e5-4395-4d38-8533-dbdd43555a19",
   "metadata": {},
   "source": [
    "#### c) Is there an evaluation of the number of patients needed to treat (NNT) with the experimental treatment, rather than the control treatment in order to prevent one of them from developing the “bad” outcome?"
   ]
  },
  {
   "cell_type": "markdown",
   "id": "27ec631c-0fc2-4c80-9689-46c7823f1221",
   "metadata": {},
   "source": [
    "### 2. Limitations: Is there a discussion of all the trial limitations, including sources of potential bias and imprecision?"
   ]
  },
  {
   "cell_type": "markdown",
   "id": "64879807-3b03-4b31-b92b-dd31bd9e1bf1",
   "metadata": {
    "tags": []
   },
   "source": [
    "### 3. Generalizability: Is there a discussion of the generalizability (external valid) of the trial findings (i.e. the extent to which the participants are representative of the wider population)?"
   ]
  },
  {
   "cell_type": "markdown",
   "id": "ba6a32ef-4c38-4d6f-8011-a847b4ba4412",
   "metadata": {},
   "source": [
    "### 4. Interpretation: Taking the benefits and harms into consideration, as well as the limitations of the trial, any multiple testing and subgroup analyses, is the interpretation of the trial findings consistent with the results?"
   ]
  },
  {
   "cell_type": "markdown",
   "id": "be1fc9ee-f83d-42af-a91c-99dd07505bf6",
   "metadata": {},
   "source": [
    "## F. Other information"
   ]
  },
  {
   "cell_type": "markdown",
   "id": "6d6933e2-eb46-4111-9593-fda42d79a4f2",
   "metadata": {},
   "source": [
    "### 1. Registration: Are the trial registration number and the name of the trial registry provided?"
   ]
  },
  {
   "cell_type": "markdown",
   "id": "01370a7a-c76e-46f3-9e90-ce61fabfc12a",
   "metadata": {},
   "source": [
    "### 2. Protocol: Is there information about where the protocol can be accessed?"
   ]
  },
  {
   "cell_type": "markdown",
   "id": "fde8ce5c-c327-4f72-83d4-6e7d5e1095bc",
   "metadata": {},
   "source": [
    "### 3. Funding: Are sources of finding documented?"
   ]
  },
  {
   "cell_type": "markdown",
   "id": "4b7faa75-024b-4b9b-b974-bc0053ed30de",
   "metadata": {},
   "source": [
    "### 4. Conflict of interest: Is there a conflict of interest statement for each of the investigators?"
   ]
  },
  {
   "cell_type": "markdown",
   "id": "1a63aeab-2338-4ff3-b953-aeb84ba17998",
   "metadata": {},
   "source": []
  },
  {
   "cell_type": "markdown",
   "id": "be327ff3-1681-445a-baee-1eb8aa43e85e",
   "metadata": {},
   "source": []
  },
  {
   "cell_type": "markdown",
   "id": "d56d4aa7-541d-4368-835d-3a274b558c6d",
   "metadata": {},
   "source": []
  },
  {
   "cell_type": "markdown",
   "id": "539d334b-9c49-47ce-baf8-fd859e42a99b",
   "metadata": {},
   "source": []
  }
 ],
 "metadata": {
  "kernelspec": {
   "display_name": "Python 3 (ipykernel)",
   "language": "python",
   "name": "python3"
  },
  "language_info": {
   "codemirror_mode": {
    "name": "ipython",
    "version": 3
   },
   "file_extension": ".py",
   "mimetype": "text/x-python",
   "name": "python",
   "nbconvert_exporter": "python",
   "pygments_lexer": "ipython3",
   "version": "3.8.12"
  }
 },
 "nbformat": 4,
 "nbformat_minor": 5
}
