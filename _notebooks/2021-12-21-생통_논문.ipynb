{
 "cells": [
  {
   "cell_type": "markdown",
   "id": "069214ad-cd4c-4b4b-97b3-e2768545767b",
   "metadata": {},
   "source": [
    "# 생물통계학 기말 과제_논문 해석\n",
    "> Effect of Sunscreen Application Under Maximal Use Conditions on Plasma Concentration of Sunscreen Active Ingredients A Randomized Clinical Trial\n",
    "\n",
    "- toc:true\n",
    "- branch: master\n",
    "- badges: true\n",
    "- comments: false\n",
    "- author: 최서연"
   ]
  },
  {
   "cell_type": "markdown",
   "id": "323c4606-e431-4643-af13-498ef3348d77",
   "metadata": {},
   "source": [
    "# Effect of Sunscreen Application Under Maximal Use Conditions on Plasma Concentration of Sunscreen Active Ingredients A Randomized Clinical Trial"
   ]
  },
  {
   "cell_type": "markdown",
   "id": "103de9ed-0f06-4eb6-8a77-4316a9d49620",
   "metadata": {},
   "source": [
    "Murali K. Matta, PhD; Robbert Zusterzeel, MD, PhD, MPH; Nageswara R. Pilli, PhD; Vikram Patel, PhD; Donna A. Volpe, PhD; Jeffry Florian, PhD; Luke Oh, PhD; Edward Bashaw, PharmD; Issam Zineh, PharmD, MPH; Carlos Sanabria, MD; Sarah Kemp, RN; Anthony Godfrey, PharmD Steven Adah, PhD; Sergio Coelho, PhD; Jian Wang, PhD; Lesley-Anne Furlong, MD; Charles Ganley, MD; Theresa Michele, MD; David G. Strauss, MD, PhD"
   ]
  },
  {
   "cell_type": "markdown",
   "id": "9ad87b7d-e9cb-4f1e-879c-4807c6c6d7ce",
   "metadata": {},
   "source": [
    "**문항-논문 내 관련 내용 및 참조 부분-답변 형식으로 작성하였습니다.**"
   ]
  },
  {
   "cell_type": "markdown",
   "id": "656340b7-2349-4968-a576-debc10698ce8",
   "metadata": {
    "tags": []
   },
   "source": [
    "## A. Title and abstract"
   ]
  },
  {
   "cell_type": "markdown",
   "id": "11f8db15-acf0-4541-a440-510ce4bc1164",
   "metadata": {},
   "source": [
    "### 1. Is the trial identified as a RCT in the title?"
   ]
  },
  {
   "cell_type": "markdown",
   "id": "bf366275-4403-45e4-90e4-f7a939e594c3",
   "metadata": {},
   "source": [
    "title: Effect of Sunscreen Application Under Maximal Use Conditions on Plasma Concentration of Sunscreen Active Ingredients **A Randomized Clinical Trial**"
   ]
  },
  {
   "cell_type": "markdown",
   "id": "ac982838-7030-496e-b7c6-ea3a25faec46",
   "metadata": {},
   "source": [
    "> Answer: title에 RCT가 명시되어 있다."
   ]
  },
  {
   "cell_type": "markdown",
   "id": "9afd1701-78f2-47ce-9f9e-0a6caddc11c0",
   "metadata": {},
   "source": [
    "### 2. Does the abstract summaries the trial’s primary objective, design, methods, results and conclusions?"
   ]
  },
  {
   "cell_type": "markdown",
   "id": "1e61f921-2258-47df-9022-95f1208d3214",
   "metadata": {},
   "source": [
    "**OBJECTIVE** To determine whether the active ingredients (avobenzone, oxybenzone, octocrylene, and ecamsule) of 4 commercially available sunscreens are absorbed into systemic circulation.\n",
    "- 시중에 판매되는 4가지 자외선 차단제의 활성 성분이 전신 순환계에 흡수되는지 보기 위한 연구\n",
    "\n",
    "**DESIGN, SETTING, AND PARTICIPANTS** Randomized clinical trial conducted at a phase 1 clinical pharmacology unit in the United States and enrolling 24 healthy volunteers. Enrollment started in July 2018 and ended in August 2018.\n",
    "- 무작위 임상 시험은 미국의 1상 임상 약리학 부서에서 24명의 건강한 자원자를 등록하여 수행되었고, 등록은 2018년 7월에 시작했고 2018년 8월에 종료되었다.\n",
    "\n",
    "**MAIN OUTCOMES AND MEASURES** The primary outcome was the maximum plasma concentration of avobenzone. Secondary outcomes were the maximum plasma concentrations of oxybenzone, octocrylene, and ecamsule.\n",
    "- 1차 결과는 avobenzone의 최고 혈장 농도였다. 2차 결과는 oxybenzone, octocrylene, ecamsule의 최고 혈장 농도 였다.\n",
    "\n",
    "**RESULTS** Among 24 participants randomized (mean age, 35.5 [SD, 10.5] years; 12 [50%] women; 14 [58%] black or African American), 23 (96%) completed the trial. Systemic concentrations greater than 0.5 ng/mL were reached for all 4 products after 4 applications on day 1. The most common adverse event was rash (1 participant with each sunscreen).\n",
    "- 무작위로 배정된 24명의 참가자(평균 연령 35.5, 표준편차 10.5세; 12명(50%) 여성; 14명(58%) 흑인 또는 아프리카게 미국인 중 23명(96%)이 시험을 완료했다.) 0.5ng/mL 이상의 전신 농도는 1일차에 4번 적용 후 모든 4개 제품에 대해 도달되었다. 가장 흔한 이상반응은 발진이었다(각 자외선 차단제에서 1명의 참가자).\n",
    "\n",
    "**CONCLUSIONS AND RELEVANCE** In this preliminary study involving healthy volunteers, application of 4 commercially available sunscreens under maximal use conditions resulted in plasma concentrations that exceeded the threshold established by the FDA for potentially waiving some nonclinical toxicology studies for sunscreens. The systemic absorption of sunscreen ingredients supports the need for further studies to determine the clinical significance of these findings. These results do not indicate that individuals should refrain from the use of sunscreen.\n",
    "- 건강한 자원자를 대상으로 한 이 예비 연구에서, 최대 사용 조건 아래 시판되는 4가지 자외선 차단제를 적용한 결과 혈장 농도가 자외선 차단제에 대한 일부 비임상 독성 연구들을 잠재적으로 중단하기 위해 FDA에서 설정한 임계값을 초과했다. 자외선 차단제 성분의 전신 흡수는 이 발견의 임상적 중요성을 결정하기 위해 더 많은 연구에 대한 필요성을 시사한다. 이 결과는 자외선 차단제의 사용을 자제해야 한다는 것을 나타내지는 않는다."
   ]
  },
  {
   "cell_type": "markdown",
   "id": "433319b3-3fee-40fc-bdcf-d4a8b77146a8",
   "metadata": {},
   "source": [
    "> Answer: abstract에 the trial’s primary objective, design, methods, results and conclusions 가 요약되어 있었다. primary objective는 시중에 판매되는 4가지 자외선 차단제의 활성 성분이 전신 순환계에 흡수되는 지 보기 위함이다. design은 무작위 임상시험으로, 24명의 건강한 자원자들을 대상으로 진행되었다. methods는 4가지 성분의 최대 혈장 농도를 보는 것이었다. results는 4개 제품이 모두 0.5ng/mL 이상의 전신 농도에 도달했다는 것이며, 이상반응은 발진이  있었다. conclusions은 최대 사용 조건 아래 시중에 판매되는 4가지 자외선 차단제를 적용한 결과 혈장 농도가 자외선 차단제에 대한 일부 비임상 독성 연구들을 잠재적으로 중단하기 위한 임계값을 초과하여 이 발견의 임상적 중요성을 결정하기 위해 더 많은 연구가 필요하다는 것을 시사하는 것이었다."
   ]
  },
  {
   "cell_type": "markdown",
   "id": "1c4b89c4-6d17-47c8-8d67-0d79ce88de89",
   "metadata": {},
   "source": [
    "## B. Introduction"
   ]
  },
  {
   "cell_type": "markdown",
   "id": "8776c248-4eef-4d85-83f6-7c007f602d19",
   "metadata": {},
   "source": [
    "### 1. Is a proper description provided of the scientific background, and is the rationale for the trial explained sufficiently? Has all the relevant information from previous studies and other available evidence been included?"
   ]
  },
  {
   "cell_type": "markdown",
   "id": "909cb024-7efa-48b4-b3a3-5a12142a76f0",
   "metadata": {},
   "source": [
    "Understanding the extent of systemic exposure of these products is important, as even a low percentage of systemic absorption (eg, 0.1%) could represent a significant systemic exposure.\n",
    "- 낮은 비율의 전신 흡수라도 상당한 전신 흡수를 나타낼수 있으니 이러한 제품의 전신 노출 정도를 이해하는 것은 중요하다.\n",
    "\n",
    ".......................................\n",
    "\n",
    "The US Food and Drug Administration (FDA) guidance titled “Guidance for Industry: Nonprescription Sunscreen Drug Products Safety and Effectiveness Data” (sunscreen guidance) recommends an assessment of the human systemic absorption of sunscreen ingredients with a maximal usage trial and a nonclinical safety assessment including dermal carcinogenicity and embryofetal toxicity.\n",
    "- 미국 식약청의 자외선 차단제 가이던스는 피부 발암성 및 배태자 독성을 포함한 최대 사용 시험 및 비임상 안전성 평가로 자외선 차단제 성분의 인체 전신 흡수 평가를 추천한다.\n",
    "\n",
    "The FDA sunscreen guidance and the proposed rule for the OTC sunscreen monograph note that some nonclinical toxicology studies (ie, systemic carcinogenicity and additional developmental and reproductive studies) may be waived if results of an adequately conducted human pharmacokinetic maximal usage trial show a steady state blood level less than 0.5 ng/mL \n",
    "and an adequately conducted toxicology assessment does not reveal any potential safety concerns.\n",
    "- FDA의 자외선 차단제 지침과 otc 자외선 차단제 모노그래프에 대한 제안된 규칙은 적절하게 수행된 인간 약동학 최대 사용 시험의 결과가 0.5ng/mL 미만의 정상 상태 혈액 수준을 나타내는 경우 일부 비임상 독성 연구를 포기할 수 있고, 적절하게 수행된 독성 평가에서 잠재적인 안전 문제는 드러나지 않는다고 언급한다."
   ]
  },
  {
   "cell_type": "markdown",
   "id": "bcae57e2-4ba0-4d8b-9261-61de3aa4c973",
   "metadata": {},
   "source": [
    "> Answer: 이전 연구들에 대한 언급은 찾을 수 없었지만, 식약청의 지침을 기반으로 시험이 필요한 이유를 서술하고 있었다. FDA에서는 인간 약동학 최대 사용 시험의 결과가 0.5ng/mL 미만의 정상 상태 혈액 수준을 나타내는 경우 일부 비임상 독성 연구를 중단할 수 있음을 시사했다."
   ]
  },
  {
   "cell_type": "markdown",
   "id": "6a5dd05c-2569-4c76-951e-65d9c1f2c531",
   "metadata": {},
   "source": [
    "### 2. Is the primary aim of the trial indicated, preferably in relation to a relevant hypothesis based on the outcome of interest, and are secondary objectives described?"
   ]
  },
  {
   "cell_type": "markdown",
   "id": "3f1e8f68-8b88-49a8-9419-67ef51299b09",
   "metadata": {},
   "source": [
    "The objective of the current study was to determine the systemic exposure of active ingredients(avobenzone, oxybenzone, octocrylene, and ecamsule) present in 4 commercially available sunscreen products of different formulation types under maximal usage conditions.\n",
    "- 현재 연구의 목적은 최대 사용 조건에서 서로 다른 제형 유형의 4개의 자외선 차단제에 대해 활성 성분(avobenzone, oxybenzone, octocrylene, and ecamsule)의 전신 노출을 측정\n",
    "하는 것이다."
   ]
  },
  {
   "cell_type": "markdown",
   "id": "8cf9ba78-5a7d-428b-b126-05d291235a64",
   "metadata": {},
   "source": [
    "> Answer: primary aim은 찾을 수 있었지만, secondary objective는 없었다. 목적은 최대 사용 조건에서 서로 다른 제형 유형의 4개 자외선 차단제에 대한 활성 성분의 전신 흡수를 측정하는 것이었다."
   ]
  },
  {
   "cell_type": "markdown",
   "id": "598e391e-3079-4d9a-81ea-7896cbd6bca2",
   "metadata": {
    "tags": []
   },
   "source": [
    "## C. Methods"
   ]
  },
  {
   "cell_type": "markdown",
   "id": "3e9ece4e-e62a-4dae-88b9-08c5f017e6e0",
   "metadata": {},
   "source": [
    "### 1. Trial design Is the trial design described adequately? Are any aspects of the design utilized to avoid bias fully described? For example:"
   ]
  },
  {
   "cell_type": "markdown",
   "id": "aea1fb44-812d-4007-b4c7-63d580e141be",
   "metadata": {},
   "source": [
    "#### a) Randomization. Are full details of the randomization process provided, including the method used to generate the random allocation sequence, the type of randomization, steps taken to conceal the allocation sequence and details of the implementation of the randomization (e.g. who enrolled the participants and who assigned the participants to the interventions)?"
   ]
  },
  {
   "cell_type": "markdown",
   "id": "8f69d456-3975-4eab-bf29-e9d5f51158c9",
   "metadata": {},
   "source": [
    "#### b) Blinding. To what extent was the study blind? If relevant, is a description provided of the similarity of the interventions)?"
   ]
  },
  {
   "cell_type": "markdown",
   "id": "2ba40030-3f87-4dff-b609-c5dae0e25f66",
   "metadata": {},
   "source": [
    "#### c) Allocation concealment. Was the allocation sequence concealed from the staff who recruited patients for the trial?"
   ]
  },
  {
   "cell_type": "markdown",
   "id": "91d9fd94-8f3c-4f04-a607-8654e37dd69f",
   "metadata": {},
   "source": [
    "This was an open-label, randomized, 4-group parallel study conducted at a phase 1 clinical pharmacology unit in the United States to evaluate the effects of multiple applications of 4 different topical sunscreen formulations (eTable 1 in Supplement 2) in healthy adult participants (Table 1; eTable 2 in Supplement 2; deidentified participant data available inSupplement 3).\n",
    "- 이 연구는 건강한 성인 참가자를 대상으로 4개의 다른 제형 유형의 자외선 차단제의 다중 적용을 효과를 평가하기 위한 미국의 1상 임상 약동학 부서에서 수행된 공개, 무작위, 4 그룹 평행 연구이다.\n",
    "\n",
    "\n",
    "................................\n",
    "\n",
    "After screening, the 24 participants were randomized to participate in 1 of the 4 treatment groups.\n",
    "- screening 후에 24명의 대상자들은 4개의 치료군 중 한 곳으로 무작위 배정되었다.\n",
    "\n",
    "Randomization was conducted in block sizes of 4 and included equal numbers of women and men in each treatment group. This study was unblinded to investigators and participants because of the distinct differences between formulations (ie, spray vs lotion or cream), although participants and investigators did not know which spray or which lotion vs cream they received.\n",
    "- 무작위는 4개의 블락 크기로 수행되었고, 각 치료 그룹에 동일한 여성과 남성이 포함되었다. 이 연구는 제형 간에 뚜렷한 차이로 인해 조사자와 참가자에게 맹검이 적용하지 않았지만 어떤 soray, lotion,cream인지는 알 지 못했다."
   ]
  },
  {
   "cell_type": "markdown",
   "id": "37489888-3456-42e6-9214-219f78a4c8b7",
   "metadata": {},
   "source": [
    "> Answer: randomization 연구인 것을 확인할 수 있었다. block size는 4였으며, 연구에서 사용되는 treatment는 spray,lotion,cream 형 자외선 차단제이므로 제형에 차이가 구별되기 때문에 대상자들과 시험자들은 눈가림이 없이 진행되었다."
   ]
  },
  {
   "cell_type": "markdown",
   "id": "00a3948a-c998-4e4e-aed5-2b8aa37056f3",
   "metadata": {
    "tags": []
   },
   "source": [
    "### 2. Participants"
   ]
  },
  {
   "cell_type": "markdown",
   "id": "b595c983-c2f7-4fe6-9c2b-069ce3241517",
   "metadata": {},
   "source": [
    "#### a) Is there a complete description of the eligibility (inclusion and exclusion) criteria for the participants?"
   ]
  },
  {
   "cell_type": "markdown",
   "id": "446afcbc-b286-42e6-bec6-bf1022259941",
   "metadata": {},
   "source": [
    "Key inclusion criteria were ages 18 through 60 years with a body mass index of 18.5 to 29.9 (calculated as weight in kilograms divided by height in meters squared), negative test results for alcohol and drugs of abuse, and no known or suspected allergies or sensitivities to any components of the sunscreen formulations (additional details available in the study protocol in Supplement 1).\n",
    "- 주요 선정 기준은 BMI가 18.5~29.9 사이이고, 알코올 및 남용 약물에 대한 음성 테스트 결과를 가진, 자외선 차단제 제형의 구성 요소에 대한 알려진 혹은 의심되는 알레르기나 민감성이 없는 18세에서 60세 사이의 대상자였다.\n",
    "\n",
    "The major exclusion criteria were participants with broken, irritated, or unhealed skin or active sunburn and active autoimmune disease, anemia, or other chronic condition that affects blood sample collection. Additionally, participants using\n",
    "any of the listed sunscreen products or products containing the listed active ingredients were excluded from enrollment.\n",
    "- 주요 제외 기준은 손상되거나, 자극받았거나, 치유되지 않은 피부를 가지거나, 활성 햇빛 화상을 가지거나, 활성 자가면역 질환, 빈혈, 혈액 표본에 영향을 주는 다른 만성 조건을 가진 대상자였다. 게다가, 나열된 활성 성분들을 가진 제품들이나 나열된 자외선 차단제 제품들을 사용하는 참가자들은 등록에서 제외되었다."
   ]
  },
  {
   "cell_type": "markdown",
   "id": "32cdaee9-918b-4e9b-87fb-69158779a80f",
   "metadata": {},
   "source": [
    "> Answer: 선정/제외기준을 찾을 수 있었다. 선정 기준은 BMI가 18.5~29.9 사이이고, 알코올 및 남용 약물에 대한 음성 테스트 결과를 가진, 자외선 차단제 제형의 구성 요소에 대한 알려진 혹은 의심되는 알레르기나 민감성이 없는 18세에서 60세 사이의 대상자였다. 제외 기준은 손상되거나, 자극받았거나, 치유되지 않은 피부를 가지거나, 활성 햇빛 화상을 가지거나, 활성 자가면역 질환, 빈혈, 혈액 표본에 영향을 주는 다른 만성 조건을 가진 대상자였다. 또한, 나열된 활성 성분들을 가진 제품들이나 나열된 자외선 차단제 제품들을 사용하는 참가자들은 등록에서 제외되었다."
   ]
  },
  {
   "cell_type": "markdown",
   "id": "7261dc69-cdf5-4e87-be67-8ee7c72bb205",
   "metadata": {
    "tags": []
   },
   "source": [
    "#### b) Was the study conducted using an appropriate spectrum of patients?"
   ]
  },
  {
   "cell_type": "markdown",
   "id": "654e65fc-98f4-4c19-b20f-c111dde4f8e8",
   "metadata": {},
   "source": [
    "Participants were recruited by standard recruiting for a phase 1 healthy volunteer study (ie, email, text, online). Selfidentified race/ethnicity was collected in an open-ended format and recorded by clinical staff as a standard component of\n",
    "a clinical trial.\n",
    "- 참가자들은 1상의 건강한 지원자 연구에 대한 표준 모집으로 모집되었다. 자가 식별된 인종/민적은 공개 형식으로 모집되었고, 임상 시험의 표준 구성 요소로서 임상적 직원에 의해 기록되었다."
   ]
  },
  {
   "cell_type": "markdown",
   "id": "c67dfe0d-7e87-4202-a9f9-b7162f5b0294",
   "metadata": {},
   "source": [
    "> Answer: 대상자들의 모집 경로에 대해 찾을 수 있었고, 공개 모집되었기 때문에 대상자들이 appropriate spectrum을 가지고 모집되었다고 사료된다."
   ]
  },
  {
   "cell_type": "markdown",
   "id": "dd7569e7-327f-4a01-9886-e43957047673",
   "metadata": {},
   "source": [
    "### 3. Interventions"
   ]
  },
  {
   "cell_type": "markdown",
   "id": "df2bca74-cfaa-49d6-b7e4-3b219cb1f650",
   "metadata": {},
   "source": [
    "#### a) Is the intervention (treatment and/or placebo, if appropriate) for each group described in sufficient detail?"
   ]
  },
  {
   "cell_type": "markdown",
   "id": "78af0920-77f1-4b41-9e80-11b4a813c58a",
   "metadata": {},
   "source": [
    " Each group had 6 participants (3 men, 3 women) who received a single formulation. Thirty blood samples were collected over 7 days(day 1: 0, 0.5, 1, 1.5 2, 4, 6, 8, 9, 10, 12, and 14 hours after first sunscreen application; day 2: 23, 28, and 33 hours; day 3: 47, 52, and 57 hours; day 4: 71, 73, 74, 76, 78, 81, 82, 84, and 86 hours; day 5: 95 hours; day 6: 120 hours; and day 7: 144 hours). 2, 4, 6, 8, 9, 10, 12, and 14 hours after first sunscreen application; day 2: 23, 28, and 33 hours; day 3: 47, 52, and 57 hours; day 4: 71, 73, 74, 76, 78, 81, 82, 84, and 86 hours; day 5: 95 hours; day 6: 120 hours; and day 7: 144 hours). Twomilligrams of sunscreen per 1 cm2 was applied to 75% of body surface area (area outside of normal swimwear; see Pharmacy Manual inSupplement 1) 4 times per day for 4 days (at 0, 2, 4, and 6 hours on day 1; 24, 26, 28, and 30 hours on day 2; 48, 50, 52, and 54 hours on day 3; and 72, 74, 76, and 78 hours on day 4; see Pharmacy Manual in Supplement 1).\n",
    "-  각각 4개의 그룹은 single fomulation을 받은 6명의 대상자가 남성 3명, 여성 3명으로 구성되었다. 7일 동안 30개의 혈액 샘플이 수집되었다.\n",
    "\n",
    "This application regimen was chosen because sunscreens are labeled to be applied at least every 2 hours and may be applied for multiple days in a row, such as might occur when outside in the sun. Plasma concentrations of each active ingredient were assessed with validated liquid chromatography with tandem mass spectrometry methods. (e Methods 1-3 in Supplement 2)\n",
    "- 자외선 차단제는 최소 2시간에 한 번씩 바르고 여러 날에 반복으로 발라야 하기 떄문에 이 방법에 선택되었다.\n",
    " \n",
    "Findings: In this randomized clinical trial that included 24 healthy participants and application of 4 commercially available sunscreen formulations, maximum plasma concentrations (geometric mean [coefficient of variation]) for the active ingredient avobenzone were 4.0 (60.9%), 3.4 (77.3%), 4.3 (46.1%), and 1.8 (32.1%) ng/mL for 2 different sprays, a lotion, and a cream, respectively.\n",
    "- 24명의 건강한 대상자들과 시중에 파는 4개의 자외선 차단제 fomulation을 포함한 이 무작위 임상 시험에서 활성 성분 avobenzone에 대한 최대 혈중 농도(기하 평균 [변동 계수])는 2개의 다른 스프레이들, 로션, 크림 각각에 대하여 4.0 (60.9%), 3.4 (77.3%), 4.3 (46.1%), and 1.8 (32.1%) ng/mL 이었다."
   ]
  },
  {
   "cell_type": "markdown",
   "id": "6486ac62-47da-4051-b938-5d39d6bf9568",
   "metadata": {},
   "source": [
    "> Answer: 이 연구는 건강한 성인 참가자를 대상으로 4개의 다른 제형 유형의 자외선 차단제의 다중 적용을 효과를 평가가 목적이기 때문에 placebo가 존재하지 않는 연구였으며, 4개의 서로 다른 제형 유형(스프레이 두 개. 로션, 크림)의 자외선 차단제가 treatment 였다. 각각 4개의 그룹은 single fomulation을 받은 6명의 대상자가 남성 3명, 여성 3명으로 구성되었다. 7일 동안 30개의 혈액 샘플이 수집되었다. 이 방법은 자외선 차단제는 최소 2시간에 한 번씩 바르고 여러 날에 반복으로 발라야 하기 떄문에 선택되었다."
   ]
  },
  {
   "cell_type": "markdown",
   "id": "9f7437bb-7f90-4939-8d6e-9a8e8c0754ab",
   "metadata": {
    "tags": []
   },
   "source": [
    "#### b) Were the groups treated in similar fashion, aside from the fact that they received different Interventions?"
   ]
  },
  {
   "cell_type": "markdown",
   "id": "1814c511-adbb-4f15-8a8a-1cf3a6e10d0f",
   "metadata": {},
   "source": [
    "Study participants remained in the clinic for up to 7 days and were not exposed to direct sunlight during the study.\n",
    "- 연구 참가자들은 연구기간 동안 직사광선에 노출되지 않았고, 7일 이상동안 클리닉에 남았다."
   ]
  },
  {
   "cell_type": "markdown",
   "id": "6d67a4e1-212c-4b48-8078-faa5ce2a7f38",
   "metadata": {},
   "source": [
    "> Answer: 참가자들은 그룹별로 각각 다른 제형의 자외선 차단제를 받은 것 이외에 연구 기간인 7일 동안 직사광선에 노출되지 않은 같은 조건 아래 연구가 진행되었다."
   ]
  },
  {
   "cell_type": "markdown",
   "id": "6816c925-433c-4f7f-9617-f9bbfaaacacc",
   "metadata": {},
   "source": [
    "### 4. Outcomes"
   ]
  },
  {
   "cell_type": "markdown",
   "id": "068a3360-6a35-4158-966e-32b2d0972269",
   "metadata": {
    "tags": []
   },
   "source": [
    "#### a) Is consideration given to all the important outcomes?"
   ]
  },
  {
   "cell_type": "markdown",
   "id": "0ce9c809-bc02-458c-97d1-51929a2defa4",
   "metadata": {},
   "source": [
    "Along with the primary and secondary outcomes, other exploratory pharmacokinetic parameters were calculated, including time of maximum concentration overall and on days 1 and 4, area under the curve (AUC) of plasma concentration vs time overall and on days 1 and 4, trough concentration or residual concentration each day, and terminal half-life (time required for active ingredient concentration to decrease by 50% during the terminal or final decline phase). All adverse events, whether serious or nonserious and whether related to the study drug, were recorded by study personnel and adjudicated by the principal investigator. No adverse events of special interest were specified.\n",
    "- primary, secondary outcome 에 따라, 전체와 1일과 4일의 최대 농도 시간과 전체와 1일과 4일의 시간에 대한 혈장 농도의 곡선 아래 면적(AUC), 최저 농도, 잔류 농도, 최종 반감기을 포함하여 다른 탐색적 약동학적 평가변수가 계산되었다. 중대하거나 중대하지 않거나, 연구 약물과 관련된 모든 이상반응이 연구자에 의해 기록되었다. 특이한 이상반응은 발견되지 않았다."
   ]
  },
  {
   "cell_type": "markdown",
   "id": "60a98c06-1211-4619-b973-843035fae779",
   "metadata": {},
   "source": [
    "> Answer: primary outcome, secondary outcomes와 더불어 이상반응과 평가변수도 함께 고려되어 중요한 outcome이 고려되었다고 보았다."
   ]
  },
  {
   "cell_type": "markdown",
   "id": "ac05b103-ddf6-491c-9062-83f134190961",
   "metadata": {},
   "source": [
    "#### b) Are the primary and secondary outcomes defined precisely?"
   ]
  },
  {
   "cell_type": "markdown",
   "id": "80a257fa-ed4c-446d-8f0d-ad97c472d2cc",
   "metadata": {},
   "source": [
    "The prespecified primary outcome was the maximum plasma concentration of avobenzone over days 1 through 7. Avobenzone is one of the primary UVA filters in the OTC sunscreen monograph, and systemic exposure data for this compound did not exist. The secondary outcomes were the maximum plasma concentrations of oxybenzone, octocrylene, and ecamsule over days 1 through 7.\n",
    "- 미리 명시된 primary outcome 은 1일에서 7일 동안의 avobenzone의 최대 혈장 농도였다. Avobenzone은 OTC 자외선 차단제 모노그래프에서 주요한 UVA 필터 중 하나이며, 이 요소에 대한 전신 노출 데이터는 존재하지 않았다. secondary outcome은 oxybenzone, octocrylene, ecamsule의 1일에서 7일 동안 최대 혈장 농도였다."
   ]
  },
  {
   "cell_type": "markdown",
   "id": "2142248e-c700-4bb9-a6a9-cd534fc406e5",
   "metadata": {},
   "source": [
    "> Answer: primary, secondary outcome 이 자세하게 제시되어 있었다. avobenzone의 최대 혈장 농도가 primary outcome이었고, oxybenzone, octocrylene, ecamsule의 최대 혈장 농도가 secondary outcomes 였다. 추가로 두 가지 사후ㅡ 분석이 진행되었는데 이는 활성 성분이 0.5ng/mL를 초과하는 혈장 농도를 가진 대상자들의 수와 백분율은 1일차 관찰값을 기반으로 요약된 것과 반복 투여의 축적이 4일과 1일의 최대 혈장 농도 및 AUC의 로그변환 비율에 의해 평가된 것이었다."
   ]
  },
  {
   "cell_type": "markdown",
   "id": "c5ea4aec-5c1f-4c74-8f82-043b6ee5e07f",
   "metadata": {},
   "source": [
    "#### c) Were there any changes to the outcomes after the trial started?"
   ]
  },
  {
   "cell_type": "markdown",
   "id": "936a3bfa-b216-4400-8e09-a7aa7cc86e3c",
   "metadata": {},
   "source": [
    "> Answer: 연구가 시작된 이후 outcomes의 변화는 없는 것으로 사료된다."
   ]
  },
  {
   "cell_type": "markdown",
   "id": "aea748e4-ef94-49cf-b3d2-d40889cc4e75",
   "metadata": {},
   "source": [
    "### 5. Sample size"
   ]
  },
  {
   "cell_type": "markdown",
   "id": "4f4d10e9-c3fb-492e-9fb1-4cf48c6874a7",
   "metadata": {},
   "source": [
    "#### a) Is there a power statement to justify the overall sample size? Does this power statement indicate the form of the statistical analysis on which it is based, and does it include a specification of the values of all the factors that affect sample size for this calculation?"
   ]
  },
  {
   "cell_type": "markdown",
   "id": "7093c436-5d69-48e0-99a8-aa42dc3f36e0",
   "metadata": {},
   "source": [
    "> Answer: 표본 크기 결정과 관련된 검정은 찾을 수 없었다."
   ]
  },
  {
   "cell_type": "markdown",
   "id": "ed6689ff-e020-4a49-98a3-6849bd6d01e7",
   "metadata": {},
   "source": [
    "#### b) If relevant, is there a full explanation of any interim analysis, including the steps taken to reduce the Type 1 error rate?"
   ]
  },
  {
   "cell_type": "markdown",
   "id": "49c25e2a-9fa3-44b8-a822-63d5d9b3ee52",
   "metadata": {},
   "source": [
    "Plasma concentrations below the limit of quantitation were assigned as zero during calculation of pharmacokinetic parameters. No adjustments for multiplicity were made in the statistical analyses. Because of the potential for type 1 error due tomultiple comparisons, findings for analyses of secondary outcomes, exploratory pharmacokinetic parameters, and post hoc assessments should be interpreted as exploratory.\n",
    "- 정량 한계 미만의 혈장 농도는 약동학적 평가변수를 계산하는 동안 0으로 제시되었다. 통계 분석에서 다중성에 대한 조정은 수행되지 않았다. 다중 비교로 인한 제 1종 오류의 가능성 떄문에 secondary outcomes의 분석 결과, 탐색적 약동학 평가 변수 및 사후 평가 분석에 대한 결과는 탐색적 평가로 해석되어야 한다."
   ]
  },
  {
   "cell_type": "markdown",
   "id": "d68c9dc7-a59c-4e22-ac88-41a6e361f772",
   "metadata": {},
   "source": [
    "> Answer: 표본 크기를 결정하기 위해 사용된 검정을 확인할 수 없었고, 중간 분석도 진행되지 않았지만, 다중 비교로 인한 제 1종 오류의 가능성 때문에 decondary outcomes의 분석 결과 탐색적 약동학 평가 변수 및 사후 평가 분석에 대한 결과는 탐색적 평가로 해석되어야 한다고 언급되었다."
   ]
  },
  {
   "cell_type": "markdown",
   "id": "c92e40c6-55a5-46db-a9aa-377c64e1d533",
   "metadata": {
    "tags": []
   },
   "source": [
    "#### c) If subgroup analyses have been performed, is there a justification for the subgroup sample sizes, based on power calculations, and a description of the steps taken to reduce the Type 1 error rate? Alternatively., are these subgroup analysis specified as being exploratory in nature, with an indication that they may be under-powered?"
   ]
  },
  {
   "cell_type": "markdown",
   "id": "d5c5c143-476e-488e-846f-afdb015a363a",
   "metadata": {},
   "source": [
    "Because this was an exploratory study to assess general methodology for a sunscreen maximal usage trial and no prior data existed on the systemic absorption of avobenzone, the sample size was determined empirically with reference to\n",
    "the sunscreen guidance recommendation for pilot studies.\n",
    "- 이는 자외선 차단제 최대 사용 시험에 대한 일반적인 방법론을 평가하기 위한 탐색적 연구였으며, avobenzone의 전신 흡수에 대한 사전 데이터가 없기 때문에 사후 평가(4번 문항에서 제시됨)가 진행됐었다. 표본 크기는 예비 연구에 대한 자외선차단제 지침 권장 사항을 참조하여 경험적으로 결정되었다."
   ]
  },
  {
   "cell_type": "markdown",
   "id": "e4ea8a1c-f1c4-483f-ad9e-cdd0f7e6a144",
   "metadata": {},
   "source": [
    "> Answer: sample size에 관한 설명은 위 문항 이 유일했다. reference 7을 제시하며 최대 사용 시험을 위해 충분한 대상자가 필요성을 언급했다. (reference 7 내용 중 일부: If information needed to calculate the number of subjects (such as the expected intersubject and intrasubject variability) is not available, the FDA recommends that the sponsor conduct a pilot study. 이에 따라 예비연구에 대한 자외선 차단제 지침 권장 사항을 참조하여 경험적으로 표본 크기가 결정된 것으로 사료된다.)"
   ]
  },
  {
   "cell_type": "markdown",
   "id": "f15bfcdb-0e9a-4943-bbb7-d399fd6085bf",
   "metadata": {},
   "source": [
    "### 6. Statistical methods"
   ]
  },
  {
   "cell_type": "markdown",
   "id": "e1fa0c57-5675-4294-b583-0a2a2b12fb4f",
   "metadata": {},
   "source": [
    "#### a) Are all the statistical methods used to compare groups for primary and secondary outcomes identified?"
   ]
  },
  {
   "cell_type": "markdown",
   "id": "81132cae-3cfe-4578-a983-76ac935fa348",
   "metadata": {},
   "source": [
    "#### b) Are the statistical methods appropriate (e.g. have underlying assumptions been verified, and have dependencies in the data (e.g. pairing) been taken into account in the analysis?)?"
   ]
  },
  {
   "cell_type": "markdown",
   "id": "f6909d30-38c3-407b-88df-727eb7189699",
   "metadata": {},
   "source": [
    "> Answer for a,b: 해당 연구는 탐색적 분석을 요하기 때문에 primary outcome과 secondary outcomes에 대한 그룹을 비교하는데 통계적 방법은 사용되지 않았다."
   ]
  },
  {
   "cell_type": "markdown",
   "id": "4c943b73-b93e-4bfc-89ef-5e9dc14ea680",
   "metadata": {},
   "source": [
    "#### c) Is there a description of additional analysis, such as subgroup analysis? Were any additional analyses undertaken specified a priori, or were they post hoc analyses?"
   ]
  },
  {
   "cell_type": "markdown",
   "id": "0416c66c-3d8e-4964-abf3-de1c755e2db5",
   "metadata": {},
   "source": [
    "Two post hoc assessments were performed. The number and percentage of participants with plasma concentrations of active ingredient exceeding 0.5 ng/mL were summarized based on day-1 observations. In addition, accumulation with repeat dosing was assessed by the log-transformed ratio of maximum plasma concentration and AUC on day 4 vs 1.\n",
    "- 두 가지 사후 평가가 진행되었다. 활성 성분이 0.5ng/mL를 초과하는 혈장 농도를 가진 대상자들의 수와 백분율은 1일차 관찰값을 기반으로 요약되었다. 추가로, 반복 투여의 축적은 4일과 1일의 최대 혈장 농도 및 AUC의 로그변환 비율에 의해 평가되었다."
   ]
  },
  {
   "cell_type": "markdown",
   "id": "d2088b51-4a53-4cd8-ae72-cc788bc6f17c",
   "metadata": {},
   "source": [
    "> Answer: 두 가지 사후 평가가 진행되었으며 활성 성분이ㅏ 0.5ng/mL를 초과하는 혈장 농도를 가진 대상자들의 수와 백분율이 1일차 관찰값을 기반으로 요약되었다. 또한 반복 투여에 대한 축적은 4일과 1일의 최대 혈장 농도 및 AUC의 로그 변환 비율에 의해 평가되었다."
   ]
  },
  {
   "cell_type": "markdown",
   "id": "7e0361b2-ed11-45e1-b747-69737142fdf9",
   "metadata": {},
   "source": [
    "## D. Results"
   ]
  },
  {
   "cell_type": "markdown",
   "id": "5feb2f2d-085c-43bf-b421-91b3b31d7cff",
   "metadata": {},
   "source": [
    "### 1. Participant numbers and dates"
   ]
  },
  {
   "cell_type": "markdown",
   "id": "5507943f-0379-42c4-b5cc-6d24b44e0377",
   "metadata": {},
   "source": [
    "#### a) Is there a full explanation (preferably in a participant flow chart), for each treatment group, of the numbers of participants who were randomly assigned, received the intended treatment and were analyzed for the primary outcome?"
   ]
  },
  {
   "cell_type": "markdown",
   "id": "e5c2cc3e-243e-4224-acc3-1f9c82285883",
   "metadata": {},
   "source": [
    "**Avobenzone**: All 4 sunscreen products resulted in avobenzone exposures, with plasma concentrations exceeding 0.5 ng/mL on day 1 for all products and through day 7 for all products except the cream (Figure 2, Table 2; eTable 3 in Supplement 2). \n",
    "모든 4개의 자외선 차단제 제품에서 avobenzone이 노출되었고, 크림을 제외한 모든 제품에 대해 1일 차에서 7일차까지 0.5 ng/mL를 초과한 혈장 농도가 나타났다. \n",
    "\n",
    "Geometric mean maximum plasma concentrations were 4.0 ng/mL (coefficient of variation, 60.9%) for spray 1; 3.4 ng/mL (coefficient of variation, 77.3%) for spray 2; 4.3 ng/mL (coefficient of variation, 46.1%) for lotion; and 1.8 ng/mL (coefficient of variation, 32.1%) for cream (Table 2). AUC and maximum plasma concentration increased from day 1 to day 4 for all 4 products (Table 2; eTable 5 in Supplement 2), consistent with drug accumulation. All formulations had exposure exceeding 0.5 ng/mL on day 1, with themajority of participants reaching that threshold within 6 hours after the first application (Table 3 andFigure 3). There was a long terminal half-life (mean range, 33-55 hours) (Table 2)."
   ]
  },
  {
   "cell_type": "markdown",
   "id": "823486d7-6583-4fb2-8d36-f30035212efb",
   "metadata": {},
   "source": [
    "> Answer: 대상자들은 공개 모집으로 모집했으며, 선정/제외 기준을 거쳐 enroll된 24명의 대상자들이 있었다. 이 대상자들은 4개의 치료그룹에 block size 4로 지정되어 무작위로 각 치료 그룹에 남성 3명, 여성 3명씩 배정되었다. Figure 1 Flow of Participants in Study of Sunscreen Ingredient Absorption를 보고 정리하자면, 88명의 건강한 성인 자원자들이 지원했고, 그 중 33명이 선정 기준에 충족하지 않았으며, 11명은 참여를 거부했고, 8명은 스크리닝 탈락했고, 대체될 시험자는 12명이 있었다. 따라서 24명의 건강한 성인 자원자들이 무작위 배정을 마치고 시험에 참가하였다. enroll된 24명의 대상자들에 탈락한 대상자는 포함되지 않으니 primary outcome에도 24명의 대상자 모두의 결과가 포함되어 있음을 알 수 있었다."
   ]
  },
  {
   "cell_type": "markdown",
   "id": "a8afcdd8-6bd7-422f-b8b7-ef5ae1143366",
   "metadata": {},
   "source": [
    "#### b) If relevant, are numbers of and reasons for losses to follow-up and exclusions after randomization documented?"
   ]
  },
  {
   "cell_type": "markdown",
   "id": "ed89d720-7aa1-42cb-bf8d-814382d9d6d9",
   "metadata": {},
   "source": [
    "> Anser: Figure 1 Flow of Participants in Study of Sunscreen Ingredient Absorption 을 참고해보니 lost to follow up 대상자는 0명 이었고, 1명이 이상반응 milla로 Withdrew 처리 되었으나, 시험을 완료한 4번째 그룹의 대상자가 6명인 것으로 미루어보아 위 문항에서 본 대체될 시험자 12명 중 한 명으로 대체된 것 사료된다.(논문 자체에서는 대체되었다고 언급하지는 않았다. 하지만 대체되지 않으면 논문처럼 시험이 완료된 대상자의 수가 맞지 않았다.)"
   ]
  },
  {
   "cell_type": "markdown",
   "id": "bfe57a1b-af24-4cb2-848e-f3c60c7dea2d",
   "metadata": {},
   "source": [
    "#### c) Are dates provided which define the periods of recruitment and follow-up?"
   ]
  },
  {
   "cell_type": "markdown",
   "id": "747e687e-1b86-4279-883b-32427fd10c3e",
   "metadata": {},
   "source": [
    "> Answer: 모집은 2018년 7월에 시작하였고, 2018년 8월에 끝났다. 7일에 144h time point까지 혈액 샘플 채혈을 마친 후 follow-up 날짜는 제시되지 않았다. 혈액 샘플을 time point 모두 얻었다면 추적은 따로 하지 않는 연구로 사료된다."
   ]
  },
  {
   "cell_type": "markdown",
   "id": "1181de8d-6290-4126-a415-aff5c2214860",
   "metadata": {},
   "source": [
    "### 2. Baseline data"
   ]
  },
  {
   "cell_type": "markdown",
   "id": "552be9ca-7923-485c-96c4-601e8c0dd03a",
   "metadata": {},
   "source": [
    "#### a) Is there a table which shows the baseline demographic and clinical characteristics for each group?"
   ]
  },
  {
   "cell_type": "markdown",
   "id": "e0b63133-1ff5-4718-a9fb-0f3434657104",
   "metadata": {},
   "source": [
    "> Answer: 있다. table 1. Study Participant Demographics and Product Chracteristics에서 확인할 수 있었다."
   ]
  },
  {
   "cell_type": "markdown",
   "id": "b45128d2-b08b-4f19-9e7f-3c5652756d50",
   "metadata": {},
   "source": [
    "#### b) Are the groups comparable?"
   ]
  },
  {
   "cell_type": "markdown",
   "id": "9fcf24a9-d95c-42b0-9e5c-bfab1c352459",
   "metadata": {},
   "source": [
    "> Answer: Table 1에 그룹별로 각각의 demographic이 제시되어 있기 때문에 비교할 수 있을 것으로 사료된다. 또한  eTable 2 in Supplement 2에서는 그룹별 Demographics의 평균±표준편차가 제시되어 있는 것을 확인하였다."
   ]
  },
  {
   "cell_type": "markdown",
   "id": "8d993338-a160-44ce-a5f6-6517665b9a83",
   "metadata": {},
   "source": [
    "### 3. Numbers analyzed"
   ]
  },
  {
   "cell_type": "markdown",
   "id": "4d977169-3803-4ca7-bc95-f0b5441b9529",
   "metadata": {},
   "source": [
    "#### a) Is there a specification of whether an ‘Intention-to-treat’ (ITT) analysis was performed? Is a justification given for the choice of analysis (ITT or other), and is this appropriate?"
   ]
  },
  {
   "cell_type": "markdown",
   "id": "397438c3-d6af-47d8-929e-89e32d59e64d",
   "metadata": {},
   "source": [
    "> Answer: Intention-to-Treat에 관해 언급되지 않았다."
   ]
  },
  {
   "cell_type": "markdown",
   "id": "467e2b10-72d8-459b-a70c-0e5ca056316a",
   "metadata": {},
   "source": [
    "#### b) If there were protocol deviations, was a sensitivity analysis performed (e.g. as per protocol analysis or an analysis with imputed data for missing observations)?"
   ]
  },
  {
   "cell_type": "markdown",
   "id": "1c8c1ab7-166a-4c86-9cc1-ac4044a513d6",
   "metadata": {},
   "source": [
    "> Answer: 논문에는 계획서 위반에 대해 언급되지 않았다. 하지만 supplement 1의 statistic analysis plna을 본 결과 결측차는 어느 값으로도 대체되지 않는 것을 확인하였다."
   ]
  },
  {
   "cell_type": "markdown",
   "id": "1bb0c52d-87cd-4515-9a33-3d06bc8529d9",
   "metadata": {
    "tags": []
   },
   "source": [
    "### 4. Outcomes of interest"
   ]
  },
  {
   "cell_type": "markdown",
   "id": "aebbf15a-0f03-4c4e-980e-f1bad30c1a84",
   "metadata": {},
   "source": [
    "#### a) Main outcome of interest. Is an appropriate summary measure given the main outcome variable (i.e. that which relates to the primary aim of the study) for each comparison group? An example is the rate, risk or odds of occurrence of the outcome (e.g. death) if the outcome variable is binary, stating results in absolute numbers when feasible; or the mean (median) if the outcome variable is numerical."
   ]
  },
  {
   "cell_type": "markdown",
   "id": "bac0387f-ba75-44ee-97bf-990d6e136402",
   "metadata": {},
   "source": [
    "> Answer: 1일부터 7일까지 채취한 혈액 농도를 이용하여 평가되며, 사후 연구에서 반복 투여에 대한 축적 값으로 각각 제품과 활성 성분에 대한 1일과 4일의 로그 변환 된 AUC와 최대 혈장 농도를 사용하여 평가되었다. 데이터는 고정효과로 day를 놓고(1일 vs 4일), 랜덤 효과로 대상자들을 지정한 선형 혼합 효과 모델을 사용하여 분석되었다. 점 추정치 및 해당하는 양측 90% 신뢰구간은 모델에서 얻어 기하 평균 비율과 비율의 90% 신뢰구간 추정치를 제공하기 위해 지수화되었다. 90% 신뢰구간은 약동학 연구의 표준이기 때문에 선택되었다."
   ]
  },
  {
   "cell_type": "markdown",
   "id": "28e2f475-1f88-4520-97dc-d09204bc60f3",
   "metadata": {},
   "source": [
    "#### b) Magnitude of the effect of interest. Is there an indication of the magnitude of the interest? Examples include a ratio such as the relative rate, risk, or odds, or a difference such as the absolute difference in risk, if the outcome variable is binary; or a difference in means (medians) if the main outcome variable is numerical."
   ]
  },
  {
   "cell_type": "markdown",
   "id": "b14789da-c335-479f-b193-e49957b226d6",
   "metadata": {},
   "source": [
    "> Answer: 연구의 결과 변수는 혈중 농도로, 숫자이며, Figure 2에서는 시간에 따른 혈중 농도 곡선을 볼 수 있으며 Table 2에서는 자외선 차단제 활성 성분에 대한 약동학 매개변수들의 기하 평균 및 변동 계수값을 볼 수 이었다. 해당 연구에서는 그룹 비교, 즉 한 시험 그룹 내에서 일자별 농도 비교를 하고 있다. 따라서 제시한 일자별로 자외선 차단제 활성 성분의 기하 평균 및 변동 계수가 의미있는 Magnitude라고 볼 수 있겠다."
   ]
  },
  {
   "cell_type": "markdown",
   "id": "ea0402b5-f90e-44a8-aeb5-640f3439a098",
   "metadata": {},
   "source": [
    "#### c) Precision of the effect of interest. Is there an indication of the precision of the effect of interest (e.g. a 95% confidence interval or standard error)?"
   ]
  },
  {
   "cell_type": "markdown",
   "id": "41241535-7b37-49bf-95cf-551d427fee1d",
   "metadata": {},
   "source": [
    "> Answer:  a에서 언급되었듯이, 점 추정치 및 해당하는 양측 90% 신뢰구간은 모델에서 얻어 기하 평균 비율과 비율의 90% 신뢰구간 추정치를 제공하기 위해 지수화되었으며, 90% 신뢰구간은 약동학 연구의 표준이기 때문에 선택되었다. 또한 1일과 4일에서의 노출은 90% 신뢰구간 하한이 1을 포함하는 경우 유의하게 다르지 않은 것으로 고려되었다."
   ]
  },
  {
   "cell_type": "markdown",
   "id": "d69a002f-5641-45b7-aafa-676ea4e8da09",
   "metadata": {},
   "source": [
    "### 5. Additional analyses: If additional (e.g. subgroup) analyses performed, are their results provided, and are any exploratory analyses distinguished from harms in each group documented?"
   ]
  },
  {
   "cell_type": "markdown",
   "id": "2afdc501-2d6a-4020-a649-c944fdbe7c23",
   "metadata": {},
   "source": [
    "Along with the primary and secondary outcomes, other exploratory pharmacokinetic parameters were calculated, including time of maximum concentration overall and on days 1 and 4, area under the curve (AUC) of plasma concentration vs time overall and on days 1 and 4, trough concentration or residual concentration each day, and terminal half-life (time required for active ingredient concentration to decrease by 50% during the terminal or final decline phase). All adverse events, whether serious or nonserious and whether related to the study drug, were recorded by study personnel and adjudicated by the principal investigator. No adverse events of special interest were specified.\n",
    "- primary, secondary outcome 에 따라, 전체와 1일과 4일의 최대 농도 시간과 전체와 1일과 4일의 시간에 대한 혈장 농도의 곡선 아래 면적(AUC), 최저 농도, 잔류 농도, 최종 반감기을 포함하여 다른 탐색적 약동학적 평가변수가 계산되었다. 중대하거나 중대하지 않거나, 연구 약물과 관련된 모든 이상반응이 연구자에 의해 기록되었다. 특이한 이상반응은 발견되지 않았다."
   ]
  },
  {
   "cell_type": "markdown",
   "id": "eb65e33e-04fb-4127-b6b3-ccd13db75172",
   "metadata": {},
   "source": [
    "> Answer: 2번의 사후 분석이 진행되어 매개변수 평가에 대해 탐색적 분석이 이루어졌다. 사후 분석에 사용된 매개변수는 논문의 primary outcome, secondary outcome을 사용해 구해졌다."
   ]
  },
  {
   "cell_type": "markdown",
   "id": "a908ef82-b149-4c96-b27d-901fad84d106",
   "metadata": {},
   "source": [
    "### 6. Harms: Are all important harms in each group documented?"
   ]
  },
  {
   "cell_type": "markdown",
   "id": "217247f4-0e8a-4299-9002-ccb8fc14c1fd",
   "metadata": {},
   "source": [
    "All participants completed the study except 1 participant receiving the cream, who discontinued on day 2 because of milia. The most common adverse event was rash, which developed in 1 participant (17%) in each group. Adverse events, which included rash, milia, and pruritis, resolved in all participants (all adverse events are listed in eTable 4 in Supplement 2).\n",
    "- 모든 대상자들은 비립종이 나서 2일차에 중단된 cream을 받은 1명의 대상자를 제외하고 연구를 완료했다. 가장 흔한 이상반응은 각 그룹에서 1명의 대상자(17%)에서 발생한 발진이었다. 발진과 비립종, 가려움증을 포함한 이상반응은 모든 대상자에게서 해결되었다.\n"
   ]
  },
  {
   "cell_type": "markdown",
   "id": "681fe679-bcb4-4177-be82-a2b7a660ce14",
   "metadata": {},
   "source": [
    "> Answer: 이상반응에 대한 추가적인 탐색적 연구가 진행되었으며, 그 결과도 제시되었다. 가장 흔한 이상반응은 각 그룹에서 1명의 대상자(17%)에서 발생한 발진이었다. 발진과 비립종, 가려움증을 포함한 이상반응은 모든 대상자에게서 해결되었다고 제시되었다."
   ]
  },
  {
   "cell_type": "markdown",
   "id": "d91eab5f-dca3-4d33-972f-b9f33bd44612",
   "metadata": {
    "tags": []
   },
   "source": [
    "Twenty-four participants (mean age, 35.5 [SD, 10.5] years; 12 [50%] women); 14 [58%] black or African American; 14 [58%] Fitzpatrick skin type 5 or 6) were randomized to 4 sunscreen products (Table 1, Figure 1). Spray 1 contained 3% avobenzone, 6% oxybenzone, 2.35% octocrylene, and 0% ecamsule; spray 2 contained 3% avobenzone, 5% oxybenzone, 10% octocrylene, and 0% ecamsule; the lotion contained 3% avobenzone, 4% oxybenzone, 6% octocrylene, and 0% ecamsule; and the cream contained 2% avobenzone, 0% oxybenzone, 10% octocrylene, and 2% ecamsule (Table 1)\n",
    "- 24명의 대상자들(평균 연령: 35.5(표준편차 10.5)세, 12(50%)명의 여성); 14(58%)명의 흑인이거나 아프리카계 미국인; 14(58%)명의 Fitzpatrick skin type이 5이거나 6인 사람들이 4개의 자외선 차단제 제품에 무작위화 되었다. spray 1은 3%의 avobenzone와 6%의 oxybenzone와 2.35%의 octocrylene, 그리고 0%의 ecamsule를 포함하였다. spray 2는 3%의 avobenzone, 5%의 oxybenzone, 10%의 octocrylene, 그리고 0%의 ecamsule를 포함하였다. lotion은 3%의 avobenzone, 4%의 oxybenzone, 6%의 octocrylene, 그리고 0%의 ecamsule를 포함하였다. cream은 2%의 avobenzone, 0%의 oxybenzone, 10%의 octocrylene, 그리고 2%의 ecamsule를 포함하였다.\n",
    "\n",
    "\n",
    "Approximately 17% of measures (91/540 samples) were below the lower limit of quantitation for spray 1, 13% (68/540 samples) for spray 2, 13% (68/540 samples) for lotion, and 33% (167/501) for cream. All data from the 1 participant who discontinued from the study were included in the analysis up through the last available time point (47 hours).\n",
    "- 최저정량한계 미만으로 대략 측정치의 17%가 spray 1에서 나타났고, 13%가 spray 2에서, 13%가 lotion에서, 33%가 cream에서 나타났다. 모든 데이터는 47h의 time point동안 지속된 분석이 포함되었다.\n",
    "\n",
    "\n",
    "The 0.5-ng/mL threshold is based on the principle that the level would approximate the highest plasma level below which the carcinogenic risk of any unknown compound would be less than 1 in 100 000 after a single dose.\n",
    "- 0.5ng/mL 임계값은 단일 투여 후 알려지지 않은 화합물의 발암 위험이 1/100,000 미만이 되는 가장 높은 혈장 수준에 근접한다는 원칙을 기반으로 한다.\n",
    "\n",
    "This Threshold of Toxicological Concern (TTC) concept was first adopted by FDA in the regulation of food packaging substances that can migrate into food.\n",
    "- 이 TTC 개념은 식품으로 이동할 수 있는 식품 포장 물질의 규정에서 FDA에서 처음으로 채택했다.\n",
    "\n",
    "The threshold value is also consistent with the TTC applied to pharmaceutical drug substance impurities in the International Council for Harmonisation “Guidance for Industry: M7 (R1) Assessment and Control of DNA Reactive (Mutagenic) Impurities in Pharmaceuticals to Limit Potential Carcinogenic Risk.”\n",
    "\n",
    "That document recommends a TTC of 1.5 μg/d, when appropriate, which was translated to 0.5 ng/mL for sunscreen active ingredients, assuming a circulating plasma volume of  approximately 3 L.\n",
    "- 해당 문서는 순환 혈장 부피가 약 3L라고 가정할 때 선스크린 활성 성분에 대해 0.5ng/mL로 변환된 적절한 경우 1.5μg/d의 TTC를 권장합니다.\n",
    "\n",
    "Application of this concept was considered acceptable during the determination of the “generally recognized as safe and effective” status of sunscreen active ingredients because such ingredients will be supported by extensive human use and absence of other pharmacologic or toxicologic signals from the nonclinical assessment recommended in the FDA sunscreen guidance. \n",
    "\n",
    "Application of such a threshold concept might not be appropriate or clinically meaningful for chemicals or chemical classes with effects on the human body, beyond that intended as sunscreen\n",
    "\n",
    "While the current study was purposefully designed to represent maximal usage per sunscreen labels (ie, apply at least every 2 hours) to areas of the body outside of normal swimwear over multiple days as might occur at the beach, absorption exceeding 0.5 ng/mL occurred on day 1 (Figure 3 and Table 3) and for 3 of the 4 active ingredients lasted until day 7 (Figure 2). A second phase of this study will use a different design to investigate additional questions raised by this study, including the maximum plasma concentration\n",
    "after a single application, the skin concentration during the washout phase, the plasma concentration up to 17 days after the last dose, and the systemic exposure to additional commonly used sunscreen ingredients, including octinoxate, homosalate, and octisalate."
   ]
  },
  {
   "cell_type": "markdown",
   "id": "f3d69171-1ee3-4d94-b106-0b74c122d817",
   "metadata": {},
   "source": [
    "## E. Discussion"
   ]
  },
  {
   "cell_type": "markdown",
   "id": "6974ffad-3712-4474-a611-2ffa1a0975ba",
   "metadata": {},
   "source": [
    "### 1. Deciding whether the results are important"
   ]
  },
  {
   "cell_type": "markdown",
   "id": "6e1d9352-afc4-4e4a-b814-0b447e340154",
   "metadata": {},
   "source": [
    "#### a) Are the key findings summarized with reference to the trial objectives?"
   ]
  },
  {
   "cell_type": "markdown",
   "id": "05aa4ac5-544a-4a48-8838-5ccd209d8e71",
   "metadata": {},
   "source": [
    "**Statistical Analysis**: In post hoc analyses, accumulation with repeat dosing was assessed by log-transforming AUC and maximum plasma concentration from day 1 and 4 for each product and active ingredient.\n",
    "- 사후 분석에서, 각 제품 및 활성 성분에 대한 1일 및 4일의 최대 혈장 농도 및 로그 변환 AUC에 의해 반복 투여를 통한 축적을 평가했습니다.\n",
    "\n",
    "Data were analyzed using a linear-mixed effects model with fixed effects for day (day 4 vs day 1) and random effects for participant.\n",
    "- 데이터는 1일 동안 고정 효과(4일 대 1일) 및 참가자에 대한 무작위 효과가 있는 선형 혼합 효과 모델을 사용하여 분석되었습니다.\n",
    "\n",
    "Point estimates and corresponding 2-sided 90% CIs were obtained from the model and exponentiated to provide estimates of the geometric mean ratio and 90% CI of the ratio; 90% CIs were chosen because they are standard in pharmacokinetic studies.\n",
    "- 점 추정치 및 해당하는 양측 90% CI를 모델에서 얻었고 기하 평균 비율과 비율의 90% CI 추정치를 제공하기 위해 지수화했습니다. 90% CI는 약동학 연구의 표준이기 때문에 선택되었습니다.\n",
    "\n",
    "exposures on day 4 vs day 1 were considered not significantly different if the lower bound of the 90% CI for all exposure metrics included 1.\n",
    "- 모든 노출 메트릭에 대한 90% CI의 하한이 1을 포함하는 경우 4일 대 1일의 노출은 유의하게 다르지 않은 것으로 간주되었습니다.\n",
    "\n",
    "....................\n",
    "\n",
    "**Conclusions**: In this preliminary study involving healthy volunteers, application of 4 commercially available sunscreens under maximal use conditions resulted in plasma concentrations that exceeded the threshold established by the FDA for potentially waiving some nonclinical toxicology studies for sunscreens. The systemic absorption of sunscreen ingredients supports the need for further studies to determine the clinical significance of these findings. These results do not indicate that individuals should refrain from the use of sunscreen.\n",
    "- 건강한 자원자를 포함한 이 예비 연구에서 최대 사용 조건 아래 시중에 파는 4개의 자외선 차단제의 적용 결과 혈장 농도가 잠재적으로 자외선 차단제의 어떤 비임상 독성 연구를 중단하기 위한 FDA에 의해 설정된 임계점을 초과했다. 자외선 차단제 성분의 전신 흡수는 이러한 발견의 임상적 중요성을 측정하기 위한 더 많은 연구의 필요성을 뒷받침한다. 이러한 결과는 개인이 자외선 차단제 사용을 자제해야 한다는 것을 나타내는 것은 아니다.\n"
   ]
  },
  {
   "cell_type": "markdown",
   "id": "c56a9156-bb5c-4473-8c32-88cba4850d9a",
   "metadata": {},
   "source": [
    "> Answer: 주요 결과가 요약되어 있었다. 건강한 자원자를 대상으로 한 이 연구에서, 최대 사용 조건 아래 시판되는 4가지 자외선 차단제를 적용한 결과 혈장 농도가 자외선 차단제에 대한 일부 비임상 독성 연구들을 잠재적으로 중단하기 위해 FDA에서 설정한 임계값을 초과했다. 자외선 차단제 성분의 전신 흡수는 이 발견의 임상적 중요성을 결정하기 위해 더 많은 연구에 대한 필요성을 시사한다. 이 결과는 자외선 차단제의 사용을 자제해야 한다는 것을 나타내지는 않는다."
   ]
  },
  {
   "cell_type": "markdown",
   "id": "9422cb6e-babd-41b2-8933-4b813f965c32",
   "metadata": {
    "tags": []
   },
   "source": [
    "#### b) Do the results make biological sense? If a confidence interval for the effect of interest (e.g. the difference in treatment means) has been provided:"
   ]
  },
  {
   "cell_type": "markdown",
   "id": "ef46947f-2730-47fd-87af-f2ba84be0f86",
   "metadata": {},
   "source": [
    "> Answer: 연구에서는 1일차와 4일차에 혈액 농도 검사에서 활성 성분의 검출 수준을 보고 얼마나 유지되는지 확인하였다. 각 제품 및 활성 성분에 대한 1일 및 4일의 최대 혈장 농도로부터 로그 변환 AUC, Cmax에 대해 점 추정치 밒 90% CI를 선형 혼합 효과 모델을 통해 분석한 결과(고정효과: Day, 랜덤효과: subject)로부터 얻었다. e Table 5 Supplement 2를 참고하여 답을 작성하였다."
   ]
  },
  {
   "cell_type": "markdown",
   "id": "31d37251-bea0-48a4-a7ea-0af38990514e",
   "metadata": {},
   "source": [
    "##### (i) Would you regard the observed effect clinically important (irrespective of whether or not the result of the relevant hypothesis test is statistically significant) if lower limit of the confidence interval represented the true value of the effect?"
   ]
  },
  {
   "cell_type": "markdown",
   "id": "3a95b27c-18aa-4d8b-b3c7-242546ffb210",
   "metadata": {},
   "source": [
    "> Answer: 신뢰구간 하한이 1보다 작은 경우 1일차가 4일차보다 작은 혈중농도 값을 보일 것이고, 1에 가까울 경우 비슷한 값을 가질 것이다. 이는 활성 성분이 신뢰구간 하한 값에서도 노출이 유의미하다는 것을 의미하므로 임상적으로 중요하다고 사료된다."
   ]
  },
  {
   "cell_type": "markdown",
   "id": "3def8cea-3b6e-4f05-8f5c-e1bb9f23e2c8",
   "metadata": {},
   "source": [
    "##### (ii). Would you regard the observed effect clinically import if the upper limit of the confidence interval represented the true value of the effect?"
   ]
  },
  {
   "cell_type": "markdown",
   "id": "24e4e73b-0692-4a42-a93e-9184fff2da97",
   "metadata": {},
   "source": [
    "> Answer: 신뢰구간 상한이 1보다 큰 경우 1일차가 4일차보다 큰 혈중농도 값을 보일 것이고, 이는 활성 성분의 검출량이 줄어든 것을 의미할 것이다. 또한 1에 가까울 경우 1일과 4일이 비슷한 값을 가질 것이다. 이는 활성 성분이 신뢰구간 상한 값에서도 노출이 유의미함을 시사하므로 임상적으로 중요하다고 사료된다."
   ]
  },
  {
   "cell_type": "markdown",
   "id": "f25a88e3-c57d-421b-a8bc-d33e1a97db3f",
   "metadata": {},
   "source": [
    "##### (iii) Are your answers to questions (i) and (ii) sufficiently similar to declare the results of the study unambiguous and important?"
   ]
  },
  {
   "cell_type": "markdown",
   "id": "8180b6fd-f5bc-4ed7-bae4-27f321048965",
   "metadata": {},
   "source": [
    "> Answer: 그렇다. 여기서 의미하는 신뢰구간은 1일차와 4일차의 혈중농도에 대한 비율에 대한 것이기 떄문에, 또 이 연구 결과의 목적은 활성 성분이 유지되는 기간과 관련된 것이기 때문에 중요하다고 판단되며 또한 유사하다고 사료된다."
   ]
  },
  {
   "cell_type": "markdown",
   "id": "316356e5-4395-4d38-8533-dbdd43555a19",
   "metadata": {},
   "source": [
    "#### c) Is there an evaluation of the number of patients needed to treat (NNT) with the experimental treatment, rather than the control treatment in order to prevent one of them from developing the “bad” outcome?"
   ]
  },
  {
   "cell_type": "markdown",
   "id": "c8eb1869-f43f-444e-a5bd-1f525db21246",
   "metadata": {},
   "source": [
    "All adverse events, whether serious or nonserious andwhether related to the study drug, were recorded by study personnel and adjudicated by the principal investigator. No adverse events of special interest were specified."
   ]
  },
  {
   "cell_type": "markdown",
   "id": "47d9fc01-9dc9-4d53-8368-016a9eda7929",
   "metadata": {},
   "source": [
    "> Answer: 이 연구의 경우 대조군/시험군이 나뉘어져 있지 않은 시험으로, 해당 문항에 대한 답을 할 수 없었다. 하지만 모든 이상반응이 기록되었으며, 특별한 이상반응은 감지되지 않았다."
   ]
  },
  {
   "cell_type": "markdown",
   "id": "27ec631c-0fc2-4c80-9689-46c7823f1221",
   "metadata": {},
   "source": [
    "### 2. Limitations: Is there a discussion of all the trial limitations, including sources of potential bias and imprecision?"
   ]
  },
  {
   "cell_type": "markdown",
   "id": "5da35388-4e0a-44a9-8c7d-4ee34d3cb757",
   "metadata": {},
   "source": [
    "**Limitations**: First, the study was conducted in indoor conditions without exposure to heat, sunlight, and humidity, which may alter or modify the rate of absorption of sunscreen active ingredients. While this is a limitation, the study was designed to collect informative data in a standardized manner to design subsequent studies. Second, the study was not designed to assess differences in absorption by formulation type, Fitzpatrick skin type, or participant age. However, as shown in the individual participant absorption profiles (Figure 2 and Figure 3), there was consistent absorption ofmultiple sunscreen active ingredients across the different formulation types, Fitzpatrick skin types, and ages in the study. Third, the study was conducted with multiple applications of sunscreen products as per the labeled dosage regimen and not evaluated on single-dose application, so maximum plasma concentration and additional pharmacokinetic characteristics after a single application were not determined in this study.\n",
    "\n",
    "- 첫째, 연구는 열, 햇빛, 습기에 노출되지 않은 없는 실내 조건에서 수행되었으며. 이는 자외선 차단제 활성 성분의 흡수의 비율을 바꾸거나 대체할 수 있다. 이는 한계이지만, 이 연구는 후속 연구를 수행하기 위해 표준화된 방식으로 유익한 데이터를 모으도록 디자인되었다. 둘째, 이 연구는 제형 유형, Fitzpatrick skin type, 대상자 연령에 의해 흡수를 차이를 평가하도록 디자인되지 않았다. 하지만 개별 대상자 흡수 프로필에서 볼 수 있듯이 연구에서 다양한 제형 유형, Fitzpatrick skin types, 연령에 걸쳐 여러 자외선 차단제 활성 성분들의 연속적인 흡수가 있었다. 셋째, 이 연구는 표시된 투여 요법에 따라 자외선 차단제를 여러 번 적용하여 수행되었고, single-dose 적용에 대해 평가되지 않았으므로 single-dose 후 최대 혈장 농도와 추가적인 약동학적 특성은 연구에서 측정되지 않았다."
   ]
  },
  {
   "cell_type": "markdown",
   "id": "f0dc89ef-6a59-4c10-8da5-a1427ffa7d85",
   "metadata": {},
   "source": [
    "> Answer: 3가지 limitation이 있었다. 첫째, 이 연구는 열, 햇빛, 습기에 노출되지 않은 실내 조건에서 수행되었다는 것이다. 둘째, 이 연구는 제형 유형, Fitzpatrick skin type, 대상자 연령에 대한 흡수차이를 평가하도록 설계되지 않았다는 것이다. 셋째, 이 연구는 자외선 차단제를 여러 번 바르며 수행되어 단일 투여에 대해 평가되지 않았다는 점이었다."
   ]
  },
  {
   "cell_type": "markdown",
   "id": "64879807-3b03-4b31-b92b-dd31bd9e1bf1",
   "metadata": {
    "tags": []
   },
   "source": [
    "### 3. Generalizability: Is there a discussion of the generalizability (external valid) of the trial findings (i.e. the extent to which the participants are representative of the wider population)?"
   ]
  },
  {
   "cell_type": "markdown",
   "id": "83e0a13a-eb6f-49b2-88c9-ca8169371479",
   "metadata": {},
   "source": [
    "**Discussion**: Absorption of some sunscreen ingredients has been detected in other studies; however, significant data gaps exist. In the recent FDA proposed rule for the OTC monograph, 2 active ingredients (zinc oxide and titanium dioxide) were found to be generally recognized as safe and effective, while for 12 active ingredients (cinoxate, dioxybenzone, ensulizole, homosalate, meradimate, octinoxate, octisalate, octocrylene, padimate O, sulisobenzone, oxybenzone, and avobenzone) there were insufficient data tomake a “generally recognized as safe and effective” determination; thus, more data have been requested from the manufacturers. Avobenzone, oxybenzone, and octocrylene were part of the present study; of note, ecamsule is marketed under a New Drug Application and is not part of the OTC monograph.\n",
    "- 일부 자외선 차단제 성분의 흡수가 다른 연구에서 나타났지만 상당한 데이터 차이가 존재한다. 최근 OTC monograph에 대한 FDA 제안 규칙에서2개의 활성 성분이 일반적으로 안전하고 효과적인 것으로 인지된 반면 12개의 활성 성분은 \"일반적으로 안전성과 효과성이 인지된\" 결정을 내리기에는 데이터가 충분하지 않다. 그러므로, 더 많은 데이터가 제조업체로부터 요구되왔다. Avobenzone, oxybenzone, octocrylene는 현재 연구의 일부이고, 참고로 ecamsule는 신약 신청 아래 판매되며 OTC monograph 일부가 아니다.\n",
    "\n",
    ".............\n",
    "\n",
    "This study was performed to demonstrate the feasibility of conducting a sunscreen maximal usage trial and obtain preliminary data on sunscreen active ingredients. It was not intended to be a definitive maximal usage trial study. In this study, a total of  participants per formulation was sufficient to detect systemic exposure exceeding 0.5 ng/mL for the tested ingredients but not to delineate the absorption across the entire potential population that uses sunscreens.\n",
    "- 이 연구는 자외선 차단제의 활성 성분들의 사전 연구 데이터를 포함하고 자외선 차단제 최대 사용 시험에서 타당성을 입증하기 위하여 수행되었다. 이는 최종적인 최대 사용 시험을 의도하지 않는다. 이 연구에서 제형당 총 참가자는 테스트된 성분에 대해 0.5ng/mL를 초과하는 전신 노출을 감지하기에 충분했지만, 자외선 차단제를 사용하는 전체 잠재 인구에 대한 흡수를 설명하지는 못했다. "
   ]
  },
  {
   "cell_type": "markdown",
   "id": "fd24226d-7f85-4720-b3e4-9e24ef983395",
   "metadata": {},
   "source": [
    "> Answer: the number of participants, 즉, sample size에 대한 언급은 없었지만, 데이터가 충분하지 않기 때문에 일반화된 결정을 내릴 수 없다는 점을 시사하였다."
   ]
  },
  {
   "cell_type": "markdown",
   "id": "ba6a32ef-4c38-4d6f-8011-a847b4ba4412",
   "metadata": {},
   "source": [
    "### 4. Interpretation: Taking the benefits and harms into consideration, as well as the limitations of the trial, any multiple testing and subgroup analyses, is the interpretation of the trial findings consistent with the results?"
   ]
  },
  {
   "cell_type": "markdown",
   "id": "2b06dca8-c931-4623-b6a7-e727270b2993",
   "metadata": {},
   "source": [
    "**Discussion**: This randomized clinical trial demonstrated systemic exposure of 4 commonly used sunscreen active ingredients on application of sunscreen products under maximal use conditions consistent with current sunscreen labeling (ie, apply at least every 2 hours). All 4 sunscreen active ingredients tested resulted in exposures exceeding 0.5 ng/mL. The clinical effect of plasma concentrations exceeding 0.5 ng/mL is unknown, necessitating further research.\n",
    "- 이 무작위 임상 시험은 현재 자외선 차단제 label과  일치하는 최대 사용 조건 아래 시중에 파는 4개의 자외선 차단제 활성 성분의 전신 노출을 입증했다. 모든 4개의 자외선 차단제 활성 성분들은 0.5ng/mL를 초과하는 노출을 나타냈다. 0.5ng/mL를 초과하는 혈장 농도의 임상적 효과는 알려져 있지 않으므로, 추가적인 연구가 필요하다."
   ]
  },
  {
   "cell_type": "markdown",
   "id": "4969e5b6-7775-4eb5-befe-42f3b44b4bcd",
   "metadata": {},
   "source": [
    "> Answer: 모든 4개의 자외선 차단제 활성 성분들은 0.5ng/mL를 초과하는 노출을 나타냈고, 자외선 차단제에 대한 일부 비임상 독성 연구들을 잠재적으로 중단하기 위해 FDA에서 설정한 임계값을 초과했기 때문에 시험을 중단할 근거가 생겼다. 따라서 시험 결과의 해석이 결과와 일치하는 것으로 사료된다. 하지만 논문에서 언급된대로 추가 연구가 필요하다."
   ]
  },
  {
   "cell_type": "markdown",
   "id": "f77de981-1703-414a-9523-342c6489e5da",
   "metadata": {},
   "source": [
    "Oxybenzone, along with some other sunscreen active ingredients including octocrylene, has been found in human breast milk. In addition, oxybenzone has been detected in amniotic fluid, urine, and blood. Furthermore, some studies in the literature have raised questions about the potential for oxybenzone to affect endocrine activity. No prior plasma concentration data existed for avobenzone or octocrylene,\n",
    "while ecamsule use was shown to result in limited but detectable exposure in a study conducted under what would be considered submaximal usage conditions today. Currently, multiple active ingredients lack nonclinical safety assessment data, including systemic carcinogenicity and additional developmental and reproductive studies to determine the clinical significance of the level of absorption of sunscreen active ingredients.\n",
    "- Oxybenzone은 octocrylene을 포함한 어느 다른 자외선 차단제 활성 성분과 함께 인간 모유에서 발견되어 왔다. 게다가, oxybenzone은 양수, 소변, 혈액에서 발견되어 왔다. 또한 문헌의 일부 연구들은 oxybenzone이 내분비 활동에 영향을 미칠 가능성에 대하여 질문을 제기해왔다. avobenzone 이나 octocrylene에 대한 이전의 혈장 농도 데이터는 존재하지 않았지만, ecamsule 사용은 오늘날 최대 이하의 사용으로 고려되는 연구에서 제한적이지만 감지할 수 있는 노출이라는 결과가 나타났다. 현재 여러 활성 성분들은 전신 발암성 및 자외선 차단제 활성 성분의 흡수 기준의 임상적 중요성을 결정하기 위한 추가적인 발달 및 생식 연구를 포함하여, 비임상적 안전성 평가 데이터가 부족하다\n",
    "\n"
   ]
  },
  {
   "cell_type": "markdown",
   "id": "adaf4694-4766-4837-8919-2070509e4f00",
   "metadata": {},
   "source": []
  },
  {
   "cell_type": "markdown",
   "id": "be1fc9ee-f83d-42af-a91c-99dd07505bf6",
   "metadata": {},
   "source": [
    "## F. Other information"
   ]
  },
  {
   "cell_type": "markdown",
   "id": "6d6933e2-eb46-4111-9593-fda42d79a4f2",
   "metadata": {},
   "source": [
    "### 1. Registration: Are the trial registration number and the name of the trial registry provided?"
   ]
  },
  {
   "cell_type": "markdown",
   "id": "60e8e6f9-6e38-416c-bb3e-f9e7bef5877a",
   "metadata": {},
   "source": [
    "**TRIAL REGISTRATION**:  ClinicalTrials.gov Identifier: NCT03582215"
   ]
  },
  {
   "cell_type": "markdown",
   "id": "55c747d9-707c-4057-b97b-c9299780b6b0",
   "metadata": {},
   "source": [
    "> Answer: the name of the trial registry는 ClinicalTrials.gov이며, the trial registration number는 NCT03582215임을 알 수 있었다."
   ]
  },
  {
   "cell_type": "markdown",
   "id": "01370a7a-c76e-46f3-9e90-ce61fabfc12a",
   "metadata": {
    "tags": []
   },
   "source": [
    "### 2. Protocol: Is there information about where the protocol can be accessed?"
   ]
  },
  {
   "cell_type": "markdown",
   "id": "f394ec6e-89af-4f67-86fd-7be8f8304b5f",
   "metadata": {},
   "source": [
    "https://cdn.jamanetwork.com/ama/content_public/journal/jama/938034/jpc190002supp1_prod.pdf?Expires=1642776810&Signature=ahsmvbk9iatd0vcLNZGgCWkvahA3C-VBa-qi3szEU6uFhDFRtAlf0UDOE1jisY~x-CRG-HDGCItETq~-0fGYHbyQ-GHOuYmAviwF-pTVM3eEmOTCWxao3-O5qESAI4Qs77I0VOh4kCFb~BhpPOvK0QoDPAa2Y8UmsSsQK1i5quhBrDaSmYc8TDYNqcSZvEt6wowyMpAp9MfMlsDUJYP-gXDX5Q2njUjFAk8gEZqNR4dCtdQb4dCpp5JUOjUZEjiyN4Y~keUyPWVM1t4eEhFcwec2LnKQB8h4eCviXknGECnyx6zlIl3A4l0LSDg1MIaUnUAJVh~aE~mbZ0jq80zdhA__&Key-Pair-Id=APKAIE5G5CRDK6RD3PGA"
   ]
  },
  {
   "cell_type": "markdown",
   "id": "f0c7ca83-58a7-41b2-bb18-9db44b059faa",
   "metadata": {},
   "source": [
    "https://cdn.jamanetwork.com/ama/content_public/journal/jama/938034/jpc190002supp2_prod.pdf?Expires=1642775188&Signature=ot1QIUBwyPk~jYxTdUMGq6D8TB4W5JyD9bz6Mvufx67W7TR3~ASxFRjInxl3tNuldUe4M2uMI29bmrT3WMVkr4ysWTXad3aiPD~jA~rEg6s2DN03BxOdm9gVRZtgRYqYxXT0pEI8vsTzDN6X2lLvF-ekCVl4Zo43YlKcnqOruR41cFGTl5iYg~SQoCJOZCvbABu3rAS0vE8zTljnHX4FqSBEWXAB97Aa~hArSMrRG7OZCsFe8AG2TSfJRUhNGHPbWJFFbBAztf1BDQHjGzo-3Qw6uLx3qp5ejpKEbRFvUqS9MxW60yD7J8HNcr8LyEh0SHLl9~NChlYbvQEnVXOjwg__&Key-Pair-Id=APKAIE5G5CRDK6RD3PGA"
   ]
  },
  {
   "cell_type": "markdown",
   "id": "9366331e-1249-4042-825b-e987efcacce4",
   "metadata": {},
   "source": [
    "> Answer: 연구에 참고된 protocol, Statistical Analysis Plan과 Supplementary Online Content의 site이며(supplement 1), 연구의 계획에서부터 통계 요약 결과까지 참고할만한 정보를 확인 할 수 있었다."
   ]
  },
  {
   "cell_type": "markdown",
   "id": "fde8ce5c-c327-4f72-83d4-6e7d5e1095bc",
   "metadata": {},
   "source": [
    "### 3. Funding: Are sources of finding documented?"
   ]
  },
  {
   "cell_type": "markdown",
   "id": "a592146b-3280-4a62-9997-5088ac802865",
   "metadata": {},
   "source": [
    "> Answer: 연구에 참고된 references 를 찾을 수 있었다."
   ]
  },
  {
   "cell_type": "markdown",
   "id": "4b7faa75-024b-4b9b-b974-bc0053ed30de",
   "metadata": {},
   "source": [
    "### 4. Conflict of interest: Is there a conflict of interest statement for each of the investigators?"
   ]
  },
  {
   "cell_type": "markdown",
   "id": "1a63aeab-2338-4ff3-b953-aeb84ba17998",
   "metadata": {},
   "source": [
    "> Anser: investigator에 대한 conflict는 없었다."
   ]
  }
 ],
 "metadata": {
  "kernelspec": {
   "display_name": "Python 3 (ipykernel)",
   "language": "python",
   "name": "python3"
  },
  "language_info": {
   "codemirror_mode": {
    "name": "ipython",
    "version": 3
   },
   "file_extension": ".py",
   "mimetype": "text/x-python",
   "name": "python",
   "nbconvert_exporter": "python",
   "pygments_lexer": "ipython3",
   "version": "3.8.12"
  }
 },
 "nbformat": 4,
 "nbformat_minor": 5
}
